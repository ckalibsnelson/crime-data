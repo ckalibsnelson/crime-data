{
 "cells": [
  {
   "cell_type": "markdown",
   "id": "ee0d508f",
   "metadata": {
    "papermill": {
     "duration": 0.004369,
     "end_time": "2025-07-20T01:15:12.804784",
     "exception": false,
     "start_time": "2025-07-20T01:15:12.800415",
     "status": "completed"
    },
    "tags": []
   },
   "source": [
    "# Charlottesville Open Data Porttal: Crime Data"
   ]
  },
  {
   "cell_type": "markdown",
   "id": "a40c70f6",
   "metadata": {
    "papermill": {
     "duration": 0.00423,
     "end_time": "2025-07-20T01:15:12.812631",
     "exception": false,
     "start_time": "2025-07-20T01:15:12.808401",
     "status": "completed"
    },
    "tags": []
   },
   "source": [
    "## Import Relevant Librarires & Set WD"
   ]
  },
  {
   "cell_type": "code",
   "execution_count": 1,
   "id": "b36efd7e",
   "metadata": {
    "execution": {
     "iopub.execute_input": "2025-07-20T01:15:12.820746Z",
     "iopub.status.busy": "2025-07-20T01:15:12.820087Z",
     "iopub.status.idle": "2025-07-20T01:15:13.475711Z",
     "shell.execute_reply": "2025-07-20T01:15:13.475042Z"
    },
    "papermill": {
     "duration": 0.661233,
     "end_time": "2025-07-20T01:15:13.477125",
     "exception": false,
     "start_time": "2025-07-20T01:15:12.815892",
     "status": "completed"
    },
    "tags": []
   },
   "outputs": [],
   "source": [
    "import requests\n",
    "import pandas as pd\n",
    "import numpy as np\n",
    "import pickle\n",
    "import googlemaps\n",
    "import plotly.express as px\n",
    "from geopy.geocoders import Nominatim\n",
    "import time\n",
    "from dotenv import load_dotenv\n",
    "import os\n",
    "\n",
    "env_path = os.path.join(\"..\", \".env\")\n",
    "#print(\"Looking for .env file at:\", os.path.abspath(env_path))\n",
    "load_dotenv(dotenv_path=env_path)\n",
    "\n",
    "# Retrieve the variables\n",
    "GOOGLE_API_KEY = os.getenv(\"GOOGLE_API_KEY\")\n",
    "WORKING_DIR = os.getenv(\"WORKING_DIR\")\n",
    "\n",
    "if GOOGLE_API_KEY is None or WORKING_DIR is None:\n",
    "    raise RuntimeError(\"No configuration found. Please ensure that your .env file exists with the required variables, or create a local config.py file.\")\n",
    "\n",
    "#print(\"Google API Key:\", GOOGLE_API_KEY)\n",
    "#print(\"Working Directory:\", WORKING_DIR)"
   ]
  },
  {
   "cell_type": "markdown",
   "id": "3613550c",
   "metadata": {
    "papermill": {
     "duration": 0.003273,
     "end_time": "2025-07-20T01:15:13.484103",
     "exception": false,
     "start_time": "2025-07-20T01:15:13.480830",
     "status": "completed"
    },
    "tags": []
   },
   "source": [
    "## Import Data\n",
    "\n",
    "URL: https://opendata.charlottesville.org/datasets/charlottesville::crime-data/about"
   ]
  },
  {
   "cell_type": "code",
   "execution_count": 2,
   "id": "bc6bba49",
   "metadata": {
    "execution": {
     "iopub.execute_input": "2025-07-20T01:15:13.491909Z",
     "iopub.status.busy": "2025-07-20T01:15:13.491361Z",
     "iopub.status.idle": "2025-07-20T01:16:23.029719Z",
     "shell.execute_reply": "2025-07-20T01:16:23.029030Z"
    },
    "papermill": {
     "duration": 69.546165,
     "end_time": "2025-07-20T01:16:23.033537",
     "exception": false,
     "start_time": "2025-07-20T01:15:13.487372",
     "status": "completed"
    },
    "tags": []
   },
   "outputs": [
    {
     "name": "stdout",
     "output_type": "stream",
     "text": [
      "Total records imported: 25543\n"
     ]
    }
   ],
   "source": [
    "# Define the endpoint and initial parameters.\n",
    "url = \"https://gisweb.charlottesville.org/arcgis/rest/services/OpenData_2/MapServer/6/query\"\n",
    "params = {\n",
    "    \"where\": \"1=1\",\n",
    "    \"outFields\": \"*\",\n",
    "    \"outSR\": 4326,\n",
    "    \"f\": \"json\",\n",
    "    \"resultOffset\": 0,       # Starting index for results\n",
    "    \"resultRecordCount\": 10000  # Maximum records per batch (if allowed by the API)\n",
    "}\n",
    "\n",
    "records = []\n",
    "\n",
    "while True:\n",
    "    response = requests.get(url, params=params)\n",
    "    response.raise_for_status()\n",
    "    data = response.json()\n",
    "    \n",
    "    # Get the current batch of features.\n",
    "    features = data.get(\"features\", [])\n",
    "    if not features:\n",
    "        break\n",
    "\n",
    "    # Extract the attributes from the features.\n",
    "    batch_records = [feature.get(\"attributes\", {}) for feature in features]\n",
    "    records.extend(batch_records)\n",
    "    \n",
    "    # If the batch size is less than the requested count, we reached the end.\n",
    "    if len(features) < params[\"resultRecordCount\"]:\n",
    "        break\n",
    "\n",
    "    # Update the resultOffset for the next batch.\n",
    "    params[\"resultOffset\"] += params[\"resultRecordCount\"]\n",
    "\n",
    "# Create a DataFrame from the combined records.\n",
    "df = pd.DataFrame(records)\n",
    "print(\"Total records imported:\", len(df))\n"
   ]
  },
  {
   "cell_type": "code",
   "execution_count": 3,
   "id": "629e56ed",
   "metadata": {
    "execution": {
     "iopub.execute_input": "2025-07-20T01:16:23.041504Z",
     "iopub.status.busy": "2025-07-20T01:16:23.041111Z",
     "iopub.status.idle": "2025-07-20T01:16:23.053475Z",
     "shell.execute_reply": "2025-07-20T01:16:23.052839Z"
    },
    "papermill": {
     "duration": 0.017463,
     "end_time": "2025-07-20T01:16:23.054490",
     "exception": false,
     "start_time": "2025-07-20T01:16:23.037027",
     "status": "completed"
    },
    "tags": []
   },
   "outputs": [
    {
     "data": {
      "text/html": [
       "<div>\n",
       "<style scoped>\n",
       "    .dataframe tbody tr th:only-of-type {\n",
       "        vertical-align: middle;\n",
       "    }\n",
       "\n",
       "    .dataframe tbody tr th {\n",
       "        vertical-align: top;\n",
       "    }\n",
       "\n",
       "    .dataframe thead th {\n",
       "        text-align: right;\n",
       "    }\n",
       "</style>\n",
       "<table border=\"1\" class=\"dataframe\">\n",
       "  <thead>\n",
       "    <tr style=\"text-align: right;\">\n",
       "      <th></th>\n",
       "      <th>RecordID</th>\n",
       "      <th>Offense</th>\n",
       "      <th>IncidentID</th>\n",
       "      <th>BlockNumber</th>\n",
       "      <th>StreetName</th>\n",
       "      <th>Agency</th>\n",
       "      <th>DateReported</th>\n",
       "      <th>HourReported</th>\n",
       "      <th>ReportingOfficer</th>\n",
       "    </tr>\n",
       "  </thead>\n",
       "  <tbody>\n",
       "    <tr>\n",
       "      <th>0</th>\n",
       "      <td>1</td>\n",
       "      <td>Larceny - From Motor Vehicle</td>\n",
       "      <td>202500025156</td>\n",
       "      <td>100</td>\n",
       "      <td>W MAIN ST</td>\n",
       "      <td>CPD</td>\n",
       "      <td>1752797521000</td>\n",
       "      <td>2012</td>\n",
       "      <td>Abdelgayed, Adam</td>\n",
       "    </tr>\n",
       "    <tr>\n",
       "      <th>1</th>\n",
       "      <td>2</td>\n",
       "      <td>Hit and Run</td>\n",
       "      <td>202500025152</td>\n",
       "      <td>1700</td>\n",
       "      <td>EMMET ST N</td>\n",
       "      <td>CPD</td>\n",
       "      <td>1752794156000</td>\n",
       "      <td>1915</td>\n",
       "      <td>Phillips, Nicole</td>\n",
       "    </tr>\n",
       "    <tr>\n",
       "      <th>2</th>\n",
       "      <td>3</td>\n",
       "      <td>Larceny - All Other</td>\n",
       "      <td>202500025149</td>\n",
       "      <td>1000</td>\n",
       "      <td>PRESTON AVE</td>\n",
       "      <td>CPD</td>\n",
       "      <td>1752793123000</td>\n",
       "      <td>1858</td>\n",
       "      <td>Hudson, Jesse</td>\n",
       "    </tr>\n",
       "    <tr>\n",
       "      <th>3</th>\n",
       "      <td>4</td>\n",
       "      <td>Vandalism</td>\n",
       "      <td>202500025139</td>\n",
       "      <td>1200</td>\n",
       "      <td>JOHN ST</td>\n",
       "      <td>CPD</td>\n",
       "      <td>1752789617000</td>\n",
       "      <td>1800</td>\n",
       "      <td>Rigsby, Lloyd</td>\n",
       "    </tr>\n",
       "    <tr>\n",
       "      <th>4</th>\n",
       "      <td>5</td>\n",
       "      <td>Hit and Run</td>\n",
       "      <td>202500025119</td>\n",
       "      <td></td>\n",
       "      <td>PRESTON AVE @ 4TH ST</td>\n",
       "      <td>CPD</td>\n",
       "      <td>1752782126000</td>\n",
       "      <td>1555</td>\n",
       "      <td>Prevost, Payten</td>\n",
       "    </tr>\n",
       "  </tbody>\n",
       "</table>\n",
       "</div>"
      ],
      "text/plain": [
       "   RecordID                       Offense    IncidentID BlockNumber  \\\n",
       "0         1  Larceny - From Motor Vehicle  202500025156         100   \n",
       "1         2                   Hit and Run  202500025152        1700   \n",
       "2         3           Larceny - All Other  202500025149        1000   \n",
       "3         4                     Vandalism  202500025139        1200   \n",
       "4         5                   Hit and Run  202500025119               \n",
       "\n",
       "             StreetName Agency   DateReported HourReported  ReportingOfficer  \n",
       "0             W MAIN ST    CPD  1752797521000         2012  Abdelgayed, Adam  \n",
       "1            EMMET ST N    CPD  1752794156000         1915  Phillips, Nicole  \n",
       "2           PRESTON AVE    CPD  1752793123000         1858     Hudson, Jesse  \n",
       "3               JOHN ST    CPD  1752789617000         1800     Rigsby, Lloyd  \n",
       "4  PRESTON AVE @ 4TH ST    CPD  1752782126000         1555   Prevost, Payten  "
      ]
     },
     "execution_count": 3,
     "metadata": {},
     "output_type": "execute_result"
    }
   ],
   "source": [
    "df.head()"
   ]
  },
  {
   "cell_type": "code",
   "execution_count": 4,
   "id": "2abeb21f",
   "metadata": {
    "execution": {
     "iopub.execute_input": "2025-07-20T01:16:23.062556Z",
     "iopub.status.busy": "2025-07-20T01:16:23.062201Z",
     "iopub.status.idle": "2025-07-20T01:16:23.066558Z",
     "shell.execute_reply": "2025-07-20T01:16:23.065941Z"
    },
    "papermill": {
     "duration": 0.009397,
     "end_time": "2025-07-20T01:16:23.067489",
     "exception": false,
     "start_time": "2025-07-20T01:16:23.058092",
     "status": "completed"
    },
    "tags": []
   },
   "outputs": [
    {
     "data": {
      "text/plain": [
       "Index(['RecordID', 'Offense', 'IncidentID', 'BlockNumber', 'StreetName',\n",
       "       'Agency', 'DateReported', 'HourReported', 'ReportingOfficer'],\n",
       "      dtype='object')"
      ]
     },
     "execution_count": 4,
     "metadata": {},
     "output_type": "execute_result"
    }
   ],
   "source": [
    "df.columns"
   ]
  },
  {
   "cell_type": "code",
   "execution_count": 5,
   "id": "8d3a3da9",
   "metadata": {
    "execution": {
     "iopub.execute_input": "2025-07-20T01:16:23.075747Z",
     "iopub.status.busy": "2025-07-20T01:16:23.075368Z",
     "iopub.status.idle": "2025-07-20T01:16:23.097788Z",
     "shell.execute_reply": "2025-07-20T01:16:23.097125Z"
    },
    "papermill": {
     "duration": 0.02763,
     "end_time": "2025-07-20T01:16:23.098879",
     "exception": false,
     "start_time": "2025-07-20T01:16:23.071249",
     "status": "completed"
    },
    "tags": []
   },
   "outputs": [
    {
     "name": "stdout",
     "output_type": "stream",
     "text": [
      "<class 'pandas.core.frame.DataFrame'>\n",
      "RangeIndex: 25543 entries, 0 to 25542\n",
      "Data columns (total 9 columns):\n",
      " #   Column            Non-Null Count  Dtype \n",
      "---  ------            --------------  ----- \n",
      " 0   RecordID          25543 non-null  int64 \n",
      " 1   Offense           25543 non-null  object\n",
      " 2   IncidentID        25543 non-null  object\n",
      " 3   BlockNumber       25543 non-null  object\n",
      " 4   StreetName        25543 non-null  object\n",
      " 5   Agency            25543 non-null  object\n",
      " 6   DateReported      25543 non-null  int64 \n",
      " 7   HourReported      25543 non-null  object\n",
      " 8   ReportingOfficer  25526 non-null  object\n",
      "dtypes: int64(2), object(7)\n",
      "memory usage: 1.8+ MB\n"
     ]
    }
   ],
   "source": [
    "df.info()"
   ]
  },
  {
   "cell_type": "markdown",
   "id": "f5b16037",
   "metadata": {
    "papermill": {
     "duration": 0.003742,
     "end_time": "2025-07-20T01:16:23.106405",
     "exception": false,
     "start_time": "2025-07-20T01:16:23.102663",
     "status": "completed"
    },
    "tags": []
   },
   "source": [
    "### Missing Values"
   ]
  },
  {
   "cell_type": "code",
   "execution_count": 6,
   "id": "c12136b6",
   "metadata": {
    "execution": {
     "iopub.execute_input": "2025-07-20T01:16:23.114628Z",
     "iopub.status.busy": "2025-07-20T01:16:23.114444Z",
     "iopub.status.idle": "2025-07-20T01:16:23.134452Z",
     "shell.execute_reply": "2025-07-20T01:16:23.133822Z"
    },
    "papermill": {
     "duration": 0.025246,
     "end_time": "2025-07-20T01:16:23.135447",
     "exception": false,
     "start_time": "2025-07-20T01:16:23.110201",
     "status": "completed"
    },
    "tags": []
   },
   "outputs": [
    {
     "name": "stdout",
     "output_type": "stream",
     "text": [
      "                  MissingCount  MissingPercentage\n",
      "RecordID                     0               0.00\n",
      "Offense                      0               0.00\n",
      "IncidentID                   0               0.00\n",
      "BlockNumber                  0               0.00\n",
      "StreetName                   0               0.00\n",
      "Agency                       0               0.00\n",
      "DateReported                 0               0.00\n",
      "HourReported                 0               0.00\n",
      "ReportingOfficer            17               0.07\n"
     ]
    }
   ],
   "source": [
    "def missing_percentage(df):\n",
    "    \"\"\"\n",
    "    Returns a DataFrame with the count and percentage of missing values for each column.\n",
    "    \n",
    "    Parameters:\n",
    "        df (pd.DataFrame): The input DataFrame.\n",
    "    \n",
    "    Returns:\n",
    "        pd.DataFrame: A DataFrame with columns 'MissingCount' and 'MissingPercentage'.\n",
    "    \"\"\"\n",
    "    total_rows = len(df)\n",
    "    missing_count = df.isnull().sum()\n",
    "    missing_percent = (missing_count / total_rows) * 100\n",
    "    \n",
    "    result = pd.DataFrame({\n",
    "        'MissingCount': missing_count,\n",
    "        'MissingPercentage': missing_percent.round(2)\n",
    "    })\n",
    "    \n",
    "    return result\n",
    "\n",
    "# Example usage:\n",
    "missing_info = missing_percentage(df)\n",
    "print(missing_info)\n"
   ]
  },
  {
   "cell_type": "markdown",
   "id": "cd92734d",
   "metadata": {
    "papermill": {
     "duration": 0.003749,
     "end_time": "2025-07-20T01:16:23.143405",
     "exception": false,
     "start_time": "2025-07-20T01:16:23.139656",
     "status": "completed"
    },
    "tags": []
   },
   "source": [
    "## Data Preparation"
   ]
  },
  {
   "cell_type": "markdown",
   "id": "9f8a2532",
   "metadata": {
    "papermill": {
     "duration": 0.003737,
     "end_time": "2025-07-20T01:16:23.150930",
     "exception": false,
     "start_time": "2025-07-20T01:16:23.147193",
     "status": "completed"
    },
    "tags": []
   },
   "source": [
    "### Data Conversion"
   ]
  },
  {
   "cell_type": "code",
   "execution_count": 7,
   "id": "0517a261",
   "metadata": {
    "execution": {
     "iopub.execute_input": "2025-07-20T01:16:23.159566Z",
     "iopub.status.busy": "2025-07-20T01:16:23.159121Z",
     "iopub.status.idle": "2025-07-20T01:16:23.516834Z",
     "shell.execute_reply": "2025-07-20T01:16:23.516108Z"
    },
    "papermill": {
     "duration": 0.363133,
     "end_time": "2025-07-20T01:16:23.517898",
     "exception": false,
     "start_time": "2025-07-20T01:16:23.154765",
     "status": "completed"
    },
    "tags": []
   },
   "outputs": [
    {
     "data": {
      "text/html": [
       "<div>\n",
       "<style scoped>\n",
       "    .dataframe tbody tr th:only-of-type {\n",
       "        vertical-align: middle;\n",
       "    }\n",
       "\n",
       "    .dataframe tbody tr th {\n",
       "        vertical-align: top;\n",
       "    }\n",
       "\n",
       "    .dataframe thead th {\n",
       "        text-align: right;\n",
       "    }\n",
       "</style>\n",
       "<table border=\"1\" class=\"dataframe\">\n",
       "  <thead>\n",
       "    <tr style=\"text-align: right;\">\n",
       "      <th></th>\n",
       "      <th>RecordID</th>\n",
       "      <th>Offense</th>\n",
       "      <th>IncidentID</th>\n",
       "      <th>BlockNumber</th>\n",
       "      <th>StreetName</th>\n",
       "      <th>Agency</th>\n",
       "      <th>HourReported</th>\n",
       "      <th>ReportingOfficer</th>\n",
       "      <th>Date</th>\n",
       "      <th>DateString</th>\n",
       "      <th>DayOfWeek</th>\n",
       "      <th>Weekend</th>\n",
       "      <th>Season</th>\n",
       "      <th>HourAMPM</th>\n",
       "      <th>TimeOfDay</th>\n",
       "    </tr>\n",
       "  </thead>\n",
       "  <tbody>\n",
       "    <tr>\n",
       "      <th>0</th>\n",
       "      <td>1</td>\n",
       "      <td>Larceny - From Motor Vehicle</td>\n",
       "      <td>202500025156</td>\n",
       "      <td>100</td>\n",
       "      <td>W MAIN ST</td>\n",
       "      <td>CPD</td>\n",
       "      <td>2012</td>\n",
       "      <td>Abdelgayed, Adam</td>\n",
       "      <td>2025-07-17 20:12:01</td>\n",
       "      <td>2025-07-17 08:12:01 PM</td>\n",
       "      <td>Thursday</td>\n",
       "      <td>False</td>\n",
       "      <td>Summer</td>\n",
       "      <td>08:12 PM</td>\n",
       "      <td>Evening</td>\n",
       "    </tr>\n",
       "    <tr>\n",
       "      <th>1</th>\n",
       "      <td>2</td>\n",
       "      <td>Hit and Run</td>\n",
       "      <td>202500025152</td>\n",
       "      <td>1700</td>\n",
       "      <td>EMMET ST N</td>\n",
       "      <td>CPD</td>\n",
       "      <td>1915</td>\n",
       "      <td>Phillips, Nicole</td>\n",
       "      <td>2025-07-17 19:15:56</td>\n",
       "      <td>2025-07-17 07:15:56 PM</td>\n",
       "      <td>Thursday</td>\n",
       "      <td>False</td>\n",
       "      <td>Summer</td>\n",
       "      <td>07:15 PM</td>\n",
       "      <td>Evening</td>\n",
       "    </tr>\n",
       "    <tr>\n",
       "      <th>2</th>\n",
       "      <td>3</td>\n",
       "      <td>Larceny - All Other</td>\n",
       "      <td>202500025149</td>\n",
       "      <td>1000</td>\n",
       "      <td>PRESTON AVE</td>\n",
       "      <td>CPD</td>\n",
       "      <td>1858</td>\n",
       "      <td>Hudson, Jesse</td>\n",
       "      <td>2025-07-17 18:58:43</td>\n",
       "      <td>2025-07-17 06:58:43 PM</td>\n",
       "      <td>Thursday</td>\n",
       "      <td>False</td>\n",
       "      <td>Summer</td>\n",
       "      <td>06:58 PM</td>\n",
       "      <td>Evening</td>\n",
       "    </tr>\n",
       "    <tr>\n",
       "      <th>3</th>\n",
       "      <td>4</td>\n",
       "      <td>Vandalism</td>\n",
       "      <td>202500025139</td>\n",
       "      <td>1200</td>\n",
       "      <td>JOHN ST</td>\n",
       "      <td>CPD</td>\n",
       "      <td>1800</td>\n",
       "      <td>Rigsby, Lloyd</td>\n",
       "      <td>2025-07-17 18:00:17</td>\n",
       "      <td>2025-07-17 06:00:17 PM</td>\n",
       "      <td>Thursday</td>\n",
       "      <td>False</td>\n",
       "      <td>Summer</td>\n",
       "      <td>06:00 PM</td>\n",
       "      <td>Evening</td>\n",
       "    </tr>\n",
       "    <tr>\n",
       "      <th>4</th>\n",
       "      <td>5</td>\n",
       "      <td>Hit and Run</td>\n",
       "      <td>202500025119</td>\n",
       "      <td></td>\n",
       "      <td>PRESTON AVE @ 4TH ST</td>\n",
       "      <td>CPD</td>\n",
       "      <td>1555</td>\n",
       "      <td>Prevost, Payten</td>\n",
       "      <td>2025-07-17 15:55:26</td>\n",
       "      <td>2025-07-17 03:55:26 PM</td>\n",
       "      <td>Thursday</td>\n",
       "      <td>False</td>\n",
       "      <td>Summer</td>\n",
       "      <td>03:55 PM</td>\n",
       "      <td>Afternoon</td>\n",
       "    </tr>\n",
       "  </tbody>\n",
       "</table>\n",
       "</div>"
      ],
      "text/plain": [
       "   RecordID                       Offense    IncidentID BlockNumber  \\\n",
       "0         1  Larceny - From Motor Vehicle  202500025156         100   \n",
       "1         2                   Hit and Run  202500025152        1700   \n",
       "2         3           Larceny - All Other  202500025149        1000   \n",
       "3         4                     Vandalism  202500025139        1200   \n",
       "4         5                   Hit and Run  202500025119               \n",
       "\n",
       "             StreetName Agency HourReported  ReportingOfficer  \\\n",
       "0             W MAIN ST    CPD         2012  Abdelgayed, Adam   \n",
       "1            EMMET ST N    CPD         1915  Phillips, Nicole   \n",
       "2           PRESTON AVE    CPD         1858     Hudson, Jesse   \n",
       "3               JOHN ST    CPD         1800     Rigsby, Lloyd   \n",
       "4  PRESTON AVE @ 4TH ST    CPD         1555   Prevost, Payten   \n",
       "\n",
       "                 Date              DateString DayOfWeek  Weekend  Season  \\\n",
       "0 2025-07-17 20:12:01  2025-07-17 08:12:01 PM  Thursday    False  Summer   \n",
       "1 2025-07-17 19:15:56  2025-07-17 07:15:56 PM  Thursday    False  Summer   \n",
       "2 2025-07-17 18:58:43  2025-07-17 06:58:43 PM  Thursday    False  Summer   \n",
       "3 2025-07-17 18:00:17  2025-07-17 06:00:17 PM  Thursday    False  Summer   \n",
       "4 2025-07-17 15:55:26  2025-07-17 03:55:26 PM  Thursday    False  Summer   \n",
       "\n",
       "   HourAMPM  TimeOfDay  \n",
       "0  08:12 PM    Evening  \n",
       "1  07:15 PM    Evening  \n",
       "2  06:58 PM    Evening  \n",
       "3  06:00 PM    Evening  \n",
       "4  03:55 PM  Afternoon  "
      ]
     },
     "execution_count": 7,
     "metadata": {},
     "output_type": "execute_result"
    }
   ],
   "source": [
    "def convert_and_categorize_datereported(df, col='DateReported'):\n",
    "    \"\"\"\n",
    "    Converts an epoch (in milliseconds) date column into a timezone-aware datetime,\n",
    "    converts it to Eastern Time, and then creates columns for day-of-week, weekend flag,\n",
    "    season, 12-hour formatted time, and time-of-day. Keeps both a real datetime column\n",
    "    (Date) and a string representation (DateString).\n",
    "    \"\"\"\n",
    "    import pandas as pd\n",
    "\n",
    "    # Convert the epoch timestamp to a pandas datetime object as UTC, then convert to US/Eastern.\n",
    "    df[\"DateReported_dt\"] = (\n",
    "        pd.to_datetime(df[col], unit=\"ms\", errors=\"coerce\", utc=True)\n",
    "        .dt.tz_convert(\"US/Eastern\")\n",
    "    )\n",
    "    \n",
    "    # Create a true datetime column (remove timezone if you prefer naive datetime)\n",
    "    df[\"Date\"] = df[\"DateReported_dt\"].dt.tz_localize(None)\n",
    "\n",
    "    # Optionally, create a separate string-formatted column\n",
    "    df[\"DateString\"] = df[\"DateReported_dt\"].dt.strftime(\"%Y-%m-%d %I:%M:%S %p\")\n",
    "    \n",
    "    # DayOfWeek\n",
    "    df[\"DayOfWeek\"] = df[\"DateReported_dt\"].dt.day_name()\n",
    "    \n",
    "    # Weekend\n",
    "    df[\"Weekend\"] = df[\"DayOfWeek\"].isin([\"Saturday\", \"Sunday\"])\n",
    "    \n",
    "    # Helper function to determine the season\n",
    "    def get_season(dt):\n",
    "        month = dt.month\n",
    "        day = dt.day\n",
    "        # Approximate Northern Hemisphere season boundaries:\n",
    "        if (month == 12 and day >= 21) or (month < 3) or (month == 3 and day < 20):\n",
    "            return \"Winter\"\n",
    "        elif (month == 3 and day >= 20) or (month < 6) or (month == 6 and day < 21):\n",
    "            return \"Spring\"\n",
    "        elif (month == 6 and day >= 21) or (month < 9) or (month == 9 and day < 22):\n",
    "            return \"Summer\"\n",
    "        else:\n",
    "            return \"Autumn\"\n",
    "    \n",
    "    df[\"Season\"] = df[\"DateReported_dt\"].apply(get_season)\n",
    "    \n",
    "    # 12-hour formatted time (HourAMPM)\n",
    "    df[\"HourAMPM\"] = df[\"DateReported_dt\"].dt.strftime(\"%I:%M %p\")\n",
    "    \n",
    "    # Extract hour (0-23) for time-of-day\n",
    "    df[\"HourValue\"] = df[\"DateReported_dt\"].dt.hour\n",
    "    \n",
    "    def time_of_day(hour):\n",
    "        if pd.isnull(hour):\n",
    "            return None\n",
    "        if 5 <= hour < 12:\n",
    "            return \"Morning\"\n",
    "        elif 12 <= hour < 17:\n",
    "            return \"Afternoon\"\n",
    "        elif 17 <= hour < 21:\n",
    "            return \"Evening\"\n",
    "        else:\n",
    "            return \"Night\"\n",
    "    \n",
    "    df[\"TimeOfDay\"] = df[\"HourValue\"].apply(time_of_day)\n",
    "    \n",
    "    # Drop columns you no longer need\n",
    "    df.drop(columns=[col, \"DateReported_dt\", \"HourValue\"], inplace=True)\n",
    "    \n",
    "    return df\n",
    "\n",
    "# Example usage:\n",
    "df = convert_and_categorize_datereported(df)\n",
    "df.head()\n"
   ]
  },
  {
   "cell_type": "code",
   "execution_count": 8,
   "id": "48e72d7d",
   "metadata": {
    "execution": {
     "iopub.execute_input": "2025-07-20T01:16:23.527609Z",
     "iopub.status.busy": "2025-07-20T01:16:23.527021Z",
     "iopub.status.idle": "2025-07-20T01:16:23.553245Z",
     "shell.execute_reply": "2025-07-20T01:16:23.552583Z"
    },
    "papermill": {
     "duration": 0.032075,
     "end_time": "2025-07-20T01:16:23.554329",
     "exception": false,
     "start_time": "2025-07-20T01:16:23.522254",
     "status": "completed"
    },
    "tags": []
   },
   "outputs": [
    {
     "name": "stdout",
     "output_type": "stream",
     "text": [
      "<class 'pandas.core.frame.DataFrame'>\n",
      "RangeIndex: 25543 entries, 0 to 25542\n",
      "Data columns (total 15 columns):\n",
      " #   Column            Non-Null Count  Dtype         \n",
      "---  ------            --------------  -----         \n",
      " 0   RecordID          25543 non-null  int64         \n",
      " 1   Offense           25543 non-null  object        \n",
      " 2   IncidentID        25543 non-null  object        \n",
      " 3   BlockNumber       25543 non-null  object        \n",
      " 4   StreetName        25543 non-null  object        \n",
      " 5   Agency            25543 non-null  object        \n",
      " 6   HourReported      25543 non-null  object        \n",
      " 7   ReportingOfficer  25526 non-null  object        \n",
      " 8   Date              25543 non-null  datetime64[ns]\n",
      " 9   DateString        25543 non-null  object        \n",
      " 10  DayOfWeek         25543 non-null  object        \n",
      " 11  Weekend           25543 non-null  bool          \n",
      " 12  Season            25543 non-null  object        \n",
      " 13  HourAMPM          25543 non-null  object        \n",
      " 14  TimeOfDay         25543 non-null  object        \n",
      "dtypes: bool(1), datetime64[ns](1), int64(1), object(12)\n",
      "memory usage: 2.8+ MB\n"
     ]
    }
   ],
   "source": [
    "df.info()"
   ]
  },
  {
   "cell_type": "markdown",
   "id": "bebb0082",
   "metadata": {
    "papermill": {
     "duration": 0.004048,
     "end_time": "2025-07-20T01:16:23.562788",
     "exception": false,
     "start_time": "2025-07-20T01:16:23.558740",
     "status": "completed"
    },
    "tags": []
   },
   "source": [
    "### Coordinates"
   ]
  },
  {
   "cell_type": "code",
   "execution_count": 9,
   "id": "48c8bfef",
   "metadata": {
    "execution": {
     "iopub.execute_input": "2025-07-20T01:16:23.572102Z",
     "iopub.status.busy": "2025-07-20T01:16:23.571612Z",
     "iopub.status.idle": "2025-07-20T01:16:23.615461Z",
     "shell.execute_reply": "2025-07-20T01:16:23.614895Z"
    },
    "papermill": {
     "duration": 0.049666,
     "end_time": "2025-07-20T01:16:23.616531",
     "exception": false,
     "start_time": "2025-07-20T01:16:23.566865",
     "status": "completed"
    },
    "tags": []
   },
   "outputs": [
    {
     "name": "stdout",
     "output_type": "stream",
     "text": [
      "Loaded geocode cache.\n",
      "Geocode cache updated and saved.\n"
     ]
    },
    {
     "data": {
      "text/html": [
       "<div>\n",
       "<style scoped>\n",
       "    .dataframe tbody tr th:only-of-type {\n",
       "        vertical-align: middle;\n",
       "    }\n",
       "\n",
       "    .dataframe tbody tr th {\n",
       "        vertical-align: top;\n",
       "    }\n",
       "\n",
       "    .dataframe thead th {\n",
       "        text-align: right;\n",
       "    }\n",
       "</style>\n",
       "<table border=\"1\" class=\"dataframe\">\n",
       "  <thead>\n",
       "    <tr style=\"text-align: right;\">\n",
       "      <th></th>\n",
       "      <th>RecordID</th>\n",
       "      <th>Offense</th>\n",
       "      <th>IncidentID</th>\n",
       "      <th>BlockNumber</th>\n",
       "      <th>StreetName</th>\n",
       "      <th>Agency</th>\n",
       "      <th>HourReported</th>\n",
       "      <th>ReportingOfficer</th>\n",
       "      <th>Date</th>\n",
       "      <th>DateString</th>\n",
       "      <th>DayOfWeek</th>\n",
       "      <th>Weekend</th>\n",
       "      <th>Season</th>\n",
       "      <th>HourAMPM</th>\n",
       "      <th>TimeOfDay</th>\n",
       "      <th>FullStreet</th>\n",
       "      <th>lat</th>\n",
       "      <th>lon</th>\n",
       "    </tr>\n",
       "  </thead>\n",
       "  <tbody>\n",
       "    <tr>\n",
       "      <th>0</th>\n",
       "      <td>1</td>\n",
       "      <td>Larceny - From Motor Vehicle</td>\n",
       "      <td>202500025156</td>\n",
       "      <td>100</td>\n",
       "      <td>W MAIN ST</td>\n",
       "      <td>CPD</td>\n",
       "      <td>2012</td>\n",
       "      <td>Abdelgayed, Adam</td>\n",
       "      <td>2025-07-17 20:12:01</td>\n",
       "      <td>2025-07-17 08:12:01 PM</td>\n",
       "      <td>Thursday</td>\n",
       "      <td>False</td>\n",
       "      <td>Summer</td>\n",
       "      <td>08:12 PM</td>\n",
       "      <td>Evening</td>\n",
       "      <td>100 W MAIN ST</td>\n",
       "      <td>38.030718</td>\n",
       "      <td>-78.481656</td>\n",
       "    </tr>\n",
       "    <tr>\n",
       "      <th>1</th>\n",
       "      <td>2</td>\n",
       "      <td>Hit and Run</td>\n",
       "      <td>202500025152</td>\n",
       "      <td>1700</td>\n",
       "      <td>EMMET ST N</td>\n",
       "      <td>CPD</td>\n",
       "      <td>1915</td>\n",
       "      <td>Phillips, Nicole</td>\n",
       "      <td>2025-07-17 19:15:56</td>\n",
       "      <td>2025-07-17 07:15:56 PM</td>\n",
       "      <td>Thursday</td>\n",
       "      <td>False</td>\n",
       "      <td>Summer</td>\n",
       "      <td>07:15 PM</td>\n",
       "      <td>Evening</td>\n",
       "      <td>1700 EMMET ST N</td>\n",
       "      <td>38.058953</td>\n",
       "      <td>-78.493501</td>\n",
       "    </tr>\n",
       "    <tr>\n",
       "      <th>2</th>\n",
       "      <td>3</td>\n",
       "      <td>Larceny - All Other</td>\n",
       "      <td>202500025149</td>\n",
       "      <td>1000</td>\n",
       "      <td>PRESTON AVE</td>\n",
       "      <td>CPD</td>\n",
       "      <td>1858</td>\n",
       "      <td>Hudson, Jesse</td>\n",
       "      <td>2025-07-17 18:58:43</td>\n",
       "      <td>2025-07-17 06:58:43 PM</td>\n",
       "      <td>Thursday</td>\n",
       "      <td>False</td>\n",
       "      <td>Summer</td>\n",
       "      <td>06:58 PM</td>\n",
       "      <td>Evening</td>\n",
       "      <td>1000 PRESTON AVE</td>\n",
       "      <td>38.039155</td>\n",
       "      <td>-78.491633</td>\n",
       "    </tr>\n",
       "    <tr>\n",
       "      <th>3</th>\n",
       "      <td>4</td>\n",
       "      <td>Vandalism</td>\n",
       "      <td>202500025139</td>\n",
       "      <td>1200</td>\n",
       "      <td>JOHN ST</td>\n",
       "      <td>CPD</td>\n",
       "      <td>1800</td>\n",
       "      <td>Rigsby, Lloyd</td>\n",
       "      <td>2025-07-17 18:00:17</td>\n",
       "      <td>2025-07-17 06:00:17 PM</td>\n",
       "      <td>Thursday</td>\n",
       "      <td>False</td>\n",
       "      <td>Summer</td>\n",
       "      <td>06:00 PM</td>\n",
       "      <td>Evening</td>\n",
       "      <td>1200 JOHN ST</td>\n",
       "      <td>38.036525</td>\n",
       "      <td>-78.495872</td>\n",
       "    </tr>\n",
       "    <tr>\n",
       "      <th>4</th>\n",
       "      <td>5</td>\n",
       "      <td>Hit and Run</td>\n",
       "      <td>202500025119</td>\n",
       "      <td></td>\n",
       "      <td>PRESTON AVE @ 4TH ST</td>\n",
       "      <td>CPD</td>\n",
       "      <td>1555</td>\n",
       "      <td>Prevost, Payten</td>\n",
       "      <td>2025-07-17 15:55:26</td>\n",
       "      <td>2025-07-17 03:55:26 PM</td>\n",
       "      <td>Thursday</td>\n",
       "      <td>False</td>\n",
       "      <td>Summer</td>\n",
       "      <td>03:55 PM</td>\n",
       "      <td>Afternoon</td>\n",
       "      <td>PRESTON AVE @ 4TH ST</td>\n",
       "      <td>38.034513</td>\n",
       "      <td>-78.484839</td>\n",
       "    </tr>\n",
       "  </tbody>\n",
       "</table>\n",
       "</div>"
      ],
      "text/plain": [
       "   RecordID                       Offense    IncidentID BlockNumber  \\\n",
       "0         1  Larceny - From Motor Vehicle  202500025156         100   \n",
       "1         2                   Hit and Run  202500025152        1700   \n",
       "2         3           Larceny - All Other  202500025149        1000   \n",
       "3         4                     Vandalism  202500025139        1200   \n",
       "4         5                   Hit and Run  202500025119               \n",
       "\n",
       "             StreetName Agency HourReported  ReportingOfficer  \\\n",
       "0             W MAIN ST    CPD         2012  Abdelgayed, Adam   \n",
       "1            EMMET ST N    CPD         1915  Phillips, Nicole   \n",
       "2           PRESTON AVE    CPD         1858     Hudson, Jesse   \n",
       "3               JOHN ST    CPD         1800     Rigsby, Lloyd   \n",
       "4  PRESTON AVE @ 4TH ST    CPD         1555   Prevost, Payten   \n",
       "\n",
       "                 Date              DateString DayOfWeek  Weekend  Season  \\\n",
       "0 2025-07-17 20:12:01  2025-07-17 08:12:01 PM  Thursday    False  Summer   \n",
       "1 2025-07-17 19:15:56  2025-07-17 07:15:56 PM  Thursday    False  Summer   \n",
       "2 2025-07-17 18:58:43  2025-07-17 06:58:43 PM  Thursday    False  Summer   \n",
       "3 2025-07-17 18:00:17  2025-07-17 06:00:17 PM  Thursday    False  Summer   \n",
       "4 2025-07-17 15:55:26  2025-07-17 03:55:26 PM  Thursday    False  Summer   \n",
       "\n",
       "   HourAMPM  TimeOfDay             FullStreet        lat        lon  \n",
       "0  08:12 PM    Evening          100 W MAIN ST  38.030718 -78.481656  \n",
       "1  07:15 PM    Evening        1700 EMMET ST N  38.058953 -78.493501  \n",
       "2  06:58 PM    Evening       1000 PRESTON AVE  38.039155 -78.491633  \n",
       "3  06:00 PM    Evening           1200 JOHN ST  38.036525 -78.495872  \n",
       "4  03:55 PM  Afternoon   PRESTON AVE @ 4TH ST  38.034513 -78.484839  "
      ]
     },
     "execution_count": 9,
     "metadata": {},
     "output_type": "execute_result"
    }
   ],
   "source": [
    "# Combine BlockNumber and StreetName into a full address string\n",
    "df['FullStreet'] = df['BlockNumber'].astype(str) + \" \" + df['StreetName']\n",
    "\n",
    "# --- Step 1: Setup the Google Maps Client and Cache ---\n",
    "gmaps = googlemaps.Client(key=GOOGLE_API_KEY)\n",
    "\n",
    "# Try to load cached geocoding results if available.\n",
    "try:\n",
    "    with open(\"geocode_cache_google.pkl\", \"rb\") as f:\n",
    "        street_coords = pickle.load(f)\n",
    "    print(\"Loaded geocode cache.\")\n",
    "except FileNotFoundError:\n",
    "    street_coords = {}\n",
    "    print(\"No cache found; starting fresh.\")\n",
    "\n",
    "def geocode_address(address):\n",
    "    try:\n",
    "        # Append city and state to help geocoding\n",
    "        result = gmaps.geocode(f\"{address}, Charlottesville, VA\")\n",
    "        if result:\n",
    "            lat = result[0]['geometry']['location']['lat']\n",
    "            lon = result[0]['geometry']['location']['lng']\n",
    "            return lat, lon\n",
    "    except Exception as e:\n",
    "        print(f\"Error geocoding {address}: {e}\")\n",
    "    return None, None\n",
    "\n",
    "# --- Step 2: Geocode Only New Addresses ---\n",
    "unique_addresses = df['FullStreet'].unique()\n",
    "for address in unique_addresses:\n",
    "    if address not in street_coords:\n",
    "        lat, lon = geocode_address(address)\n",
    "        street_coords[address] = (lat, lon)\n",
    "        print(f\"Geocoded {address}: {lat}, {lon}\")\n",
    "\n",
    "# Save the updated cache to disk.\n",
    "with open(\"geocode_cache_google.pkl\", \"wb\") as f:\n",
    "    pickle.dump(street_coords, f)\n",
    "    print(\"Geocode cache updated and saved.\")\n",
    "\n",
    "# --- Step 3: Map Coordinates Back to DataFrame ---\n",
    "df['lat'] = df['FullStreet'].map(lambda s: street_coords.get(s, (None, None))[0])\n",
    "df['lon'] = df['FullStreet'].map(lambda s: street_coords.get(s, (None, None))[1])\n",
    "\n",
    "df.head()"
   ]
  },
  {
   "cell_type": "markdown",
   "id": "a4280a5c",
   "metadata": {
    "papermill": {
     "duration": 0.004385,
     "end_time": "2025-07-20T01:16:23.625617",
     "exception": false,
     "start_time": "2025-07-20T01:16:23.621232",
     "status": "completed"
    },
    "tags": []
   },
   "source": [
    "### Neighborhood"
   ]
  },
  {
   "cell_type": "code",
   "execution_count": 10,
   "id": "46fbf76e",
   "metadata": {
    "execution": {
     "iopub.execute_input": "2025-07-20T01:16:23.635577Z",
     "iopub.status.busy": "2025-07-20T01:16:23.635134Z",
     "iopub.status.idle": "2025-07-20T01:16:25.168736Z",
     "shell.execute_reply": "2025-07-20T01:16:25.168016Z"
    },
    "papermill": {
     "duration": 1.539722,
     "end_time": "2025-07-20T01:16:25.169843",
     "exception": false,
     "start_time": "2025-07-20T01:16:23.630121",
     "status": "completed"
    },
    "tags": []
   },
   "outputs": [
    {
     "name": "stdout",
     "output_type": "stream",
     "text": [
      "Loaded neighborhood cache.\n"
     ]
    },
    {
     "name": "stdout",
     "output_type": "stream",
     "text": [
      "Error getting neighborhood for nan, nan: HTTP Error: 400\n"
     ]
    },
    {
     "name": "stdout",
     "output_type": "stream",
     "text": [
      "Error getting neighborhood for nan, nan: HTTP Error: 400\n"
     ]
    },
    {
     "name": "stdout",
     "output_type": "stream",
     "text": [
      "Error getting neighborhood for nan, nan: HTTP Error: 400\n",
      "Error getting neighborhood for nan, nan: HTTP Error: 400\n",
      "Error getting neighborhood for nan, nan: HTTP Error: 400\n",
      "Error getting neighborhood for nan, nan: HTTP Error: 400\n"
     ]
    },
    {
     "name": "stdout",
     "output_type": "stream",
     "text": [
      "Error getting neighborhood for nan, nan: HTTP Error: 400\n",
      "Error getting neighborhood for nan, nan: HTTP Error: 400\n"
     ]
    },
    {
     "name": "stdout",
     "output_type": "stream",
     "text": [
      "Error getting neighborhood for nan, nan: HTTP Error: 400\n"
     ]
    },
    {
     "name": "stdout",
     "output_type": "stream",
     "text": [
      "Error getting neighborhood for nan, nan: HTTP Error: 400\n",
      "Error getting neighborhood for nan, nan: HTTP Error: 400\n",
      "Error getting neighborhood for nan, nan: HTTP Error: 400\n",
      "Error getting neighborhood for nan, nan: HTTP Error: 400\n",
      "Error getting neighborhood for nan, nan: HTTP Error: 400\n",
      "Error getting neighborhood for nan, nan: HTTP Error: 400\n"
     ]
    },
    {
     "name": "stdout",
     "output_type": "stream",
     "text": [
      "Error getting neighborhood for nan, nan: HTTP Error: 400\n",
      "Error getting neighborhood for nan, nan: HTTP Error: 400\n",
      "Error getting neighborhood for nan, nan: HTTP Error: 400\n",
      "Error getting neighborhood for nan, nan: HTTP Error: 400\n"
     ]
    },
    {
     "name": "stdout",
     "output_type": "stream",
     "text": [
      "Error getting neighborhood for nan, nan: HTTP Error: 400\n"
     ]
    },
    {
     "name": "stdout",
     "output_type": "stream",
     "text": [
      "Error getting neighborhood for nan, nan: HTTP Error: 400\n",
      "Error getting neighborhood for nan, nan: HTTP Error: 400\n",
      "Error getting neighborhood for nan, nan: HTTP Error: 400\n",
      "Error getting neighborhood for nan, nan: HTTP Error: 400\n",
      "Error getting neighborhood for nan, nan: HTTP Error: 400\n",
      "Error getting neighborhood for nan, nan: HTTP Error: 400\n",
      "Error getting neighborhood for nan, nan: HTTP Error: 400\n"
     ]
    },
    {
     "name": "stdout",
     "output_type": "stream",
     "text": [
      "Error getting neighborhood for nan, nan: HTTP Error: 400\n",
      "Error getting neighborhood for nan, nan: HTTP Error: 400\n",
      "Error getting neighborhood for nan, nan: HTTP Error: 400\n",
      "Error getting neighborhood for nan, nan: HTTP Error: 400\n"
     ]
    },
    {
     "name": "stdout",
     "output_type": "stream",
     "text": [
      "Error getting neighborhood for nan, nan: HTTP Error: 400\n"
     ]
    },
    {
     "name": "stdout",
     "output_type": "stream",
     "text": [
      "Error getting neighborhood for nan, nan: HTTP Error: 400\n",
      "Error getting neighborhood for nan, nan: HTTP Error: 400\n",
      "Error getting neighborhood for nan, nan: HTTP Error: 400\n",
      "Error getting neighborhood for nan, nan: HTTP Error: 400\n",
      "Error getting neighborhood for nan, nan: HTTP Error: 400\n",
      "Error getting neighborhood for nan, nan: HTTP Error: 400\n",
      "Error getting neighborhood for nan, nan: HTTP Error: 400\n"
     ]
    },
    {
     "name": "stdout",
     "output_type": "stream",
     "text": [
      "Error getting neighborhood for nan, nan: HTTP Error: 400\n",
      "Error getting neighborhood for nan, nan: HTTP Error: 400\n",
      "Error getting neighborhood for nan, nan: HTTP Error: 400\n",
      "Error getting neighborhood for nan, nan: HTTP Error: 400\n"
     ]
    },
    {
     "name": "stdout",
     "output_type": "stream",
     "text": [
      "Error getting neighborhood for nan, nan: HTTP Error: 400\n"
     ]
    },
    {
     "name": "stdout",
     "output_type": "stream",
     "text": [
      "Error getting neighborhood for nan, nan: HTTP Error: 400\n",
      "Error getting neighborhood for nan, nan: HTTP Error: 400\n",
      "Error getting neighborhood for nan, nan: HTTP Error: 400\n",
      "Error getting neighborhood for nan, nan: HTTP Error: 400\n",
      "Error getting neighborhood for nan, nan: HTTP Error: 400\n",
      "Error getting neighborhood for nan, nan: HTTP Error: 400\n",
      "Error getting neighborhood for nan, nan: HTTP Error: 400\n"
     ]
    },
    {
     "name": "stdout",
     "output_type": "stream",
     "text": [
      "Error getting neighborhood for nan, nan: HTTP Error: 400\n",
      "Error getting neighborhood for nan, nan: HTTP Error: 400\n",
      "Error getting neighborhood for nan, nan: HTTP Error: 400\n",
      "Error getting neighborhood for nan, nan: HTTP Error: 400\n"
     ]
    },
    {
     "name": "stdout",
     "output_type": "stream",
     "text": [
      "Error getting neighborhood for nan, nan: HTTP Error: 400\n"
     ]
    },
    {
     "name": "stdout",
     "output_type": "stream",
     "text": [
      "Error getting neighborhood for nan, nan: HTTP Error: 400\n",
      "Error getting neighborhood for nan, nan: HTTP Error: 400\n",
      "Error getting neighborhood for nan, nan: HTTP Error: 400\n",
      "Error getting neighborhood for nan, nan: HTTP Error: 400\n"
     ]
    },
    {
     "data": {
      "text/html": [
       "<div>\n",
       "<style scoped>\n",
       "    .dataframe tbody tr th:only-of-type {\n",
       "        vertical-align: middle;\n",
       "    }\n",
       "\n",
       "    .dataframe tbody tr th {\n",
       "        vertical-align: top;\n",
       "    }\n",
       "\n",
       "    .dataframe thead th {\n",
       "        text-align: right;\n",
       "    }\n",
       "</style>\n",
       "<table border=\"1\" class=\"dataframe\">\n",
       "  <thead>\n",
       "    <tr style=\"text-align: right;\">\n",
       "      <th></th>\n",
       "      <th>RecordID</th>\n",
       "      <th>Offense</th>\n",
       "      <th>IncidentID</th>\n",
       "      <th>BlockNumber</th>\n",
       "      <th>StreetName</th>\n",
       "      <th>Agency</th>\n",
       "      <th>HourReported</th>\n",
       "      <th>ReportingOfficer</th>\n",
       "      <th>Date</th>\n",
       "      <th>DateString</th>\n",
       "      <th>DayOfWeek</th>\n",
       "      <th>Weekend</th>\n",
       "      <th>Season</th>\n",
       "      <th>HourAMPM</th>\n",
       "      <th>TimeOfDay</th>\n",
       "      <th>FullStreet</th>\n",
       "      <th>lat</th>\n",
       "      <th>lon</th>\n",
       "      <th>neighborhood</th>\n",
       "    </tr>\n",
       "  </thead>\n",
       "  <tbody>\n",
       "    <tr>\n",
       "      <th>0</th>\n",
       "      <td>1</td>\n",
       "      <td>Larceny - From Motor Vehicle</td>\n",
       "      <td>202500025156</td>\n",
       "      <td>100</td>\n",
       "      <td>W MAIN ST</td>\n",
       "      <td>CPD</td>\n",
       "      <td>2012</td>\n",
       "      <td>Abdelgayed, Adam</td>\n",
       "      <td>2025-07-17 20:12:01</td>\n",
       "      <td>2025-07-17 08:12:01 PM</td>\n",
       "      <td>Thursday</td>\n",
       "      <td>False</td>\n",
       "      <td>Summer</td>\n",
       "      <td>08:12 PM</td>\n",
       "      <td>Evening</td>\n",
       "      <td>100 W MAIN ST</td>\n",
       "      <td>38.030718</td>\n",
       "      <td>-78.481656</td>\n",
       "      <td>Downtown Mall</td>\n",
       "    </tr>\n",
       "    <tr>\n",
       "      <th>1</th>\n",
       "      <td>2</td>\n",
       "      <td>Hit and Run</td>\n",
       "      <td>202500025152</td>\n",
       "      <td>1700</td>\n",
       "      <td>EMMET ST N</td>\n",
       "      <td>CPD</td>\n",
       "      <td>1915</td>\n",
       "      <td>Phillips, Nicole</td>\n",
       "      <td>2025-07-17 19:15:56</td>\n",
       "      <td>2025-07-17 07:15:56 PM</td>\n",
       "      <td>Thursday</td>\n",
       "      <td>False</td>\n",
       "      <td>Summer</td>\n",
       "      <td>07:15 PM</td>\n",
       "      <td>Evening</td>\n",
       "      <td>1700 EMMET ST N</td>\n",
       "      <td>38.058953</td>\n",
       "      <td>-78.493501</td>\n",
       "      <td>The Meadows</td>\n",
       "    </tr>\n",
       "    <tr>\n",
       "      <th>2</th>\n",
       "      <td>3</td>\n",
       "      <td>Larceny - All Other</td>\n",
       "      <td>202500025149</td>\n",
       "      <td>1000</td>\n",
       "      <td>PRESTON AVE</td>\n",
       "      <td>CPD</td>\n",
       "      <td>1858</td>\n",
       "      <td>Hudson, Jesse</td>\n",
       "      <td>2025-07-17 18:58:43</td>\n",
       "      <td>2025-07-17 06:58:43 PM</td>\n",
       "      <td>Thursday</td>\n",
       "      <td>False</td>\n",
       "      <td>Summer</td>\n",
       "      <td>06:58 PM</td>\n",
       "      <td>Evening</td>\n",
       "      <td>1000 PRESTON AVE</td>\n",
       "      <td>38.039155</td>\n",
       "      <td>-78.491633</td>\n",
       "      <td>Venable</td>\n",
       "    </tr>\n",
       "    <tr>\n",
       "      <th>3</th>\n",
       "      <td>4</td>\n",
       "      <td>Vandalism</td>\n",
       "      <td>202500025139</td>\n",
       "      <td>1200</td>\n",
       "      <td>JOHN ST</td>\n",
       "      <td>CPD</td>\n",
       "      <td>1800</td>\n",
       "      <td>Rigsby, Lloyd</td>\n",
       "      <td>2025-07-17 18:00:17</td>\n",
       "      <td>2025-07-17 06:00:17 PM</td>\n",
       "      <td>Thursday</td>\n",
       "      <td>False</td>\n",
       "      <td>Summer</td>\n",
       "      <td>06:00 PM</td>\n",
       "      <td>Evening</td>\n",
       "      <td>1200 JOHN ST</td>\n",
       "      <td>38.036525</td>\n",
       "      <td>-78.495872</td>\n",
       "      <td>Venable</td>\n",
       "    </tr>\n",
       "    <tr>\n",
       "      <th>4</th>\n",
       "      <td>5</td>\n",
       "      <td>Hit and Run</td>\n",
       "      <td>202500025119</td>\n",
       "      <td></td>\n",
       "      <td>PRESTON AVE @ 4TH ST</td>\n",
       "      <td>CPD</td>\n",
       "      <td>1555</td>\n",
       "      <td>Prevost, Payten</td>\n",
       "      <td>2025-07-17 15:55:26</td>\n",
       "      <td>2025-07-17 03:55:26 PM</td>\n",
       "      <td>Thursday</td>\n",
       "      <td>False</td>\n",
       "      <td>Summer</td>\n",
       "      <td>03:55 PM</td>\n",
       "      <td>Afternoon</td>\n",
       "      <td>PRESTON AVE @ 4TH ST</td>\n",
       "      <td>38.034513</td>\n",
       "      <td>-78.484839</td>\n",
       "      <td>Starr Hill</td>\n",
       "    </tr>\n",
       "  </tbody>\n",
       "</table>\n",
       "</div>"
      ],
      "text/plain": [
       "   RecordID                       Offense    IncidentID BlockNumber  \\\n",
       "0         1  Larceny - From Motor Vehicle  202500025156         100   \n",
       "1         2                   Hit and Run  202500025152        1700   \n",
       "2         3           Larceny - All Other  202500025149        1000   \n",
       "3         4                     Vandalism  202500025139        1200   \n",
       "4         5                   Hit and Run  202500025119               \n",
       "\n",
       "             StreetName Agency HourReported  ReportingOfficer  \\\n",
       "0             W MAIN ST    CPD         2012  Abdelgayed, Adam   \n",
       "1            EMMET ST N    CPD         1915  Phillips, Nicole   \n",
       "2           PRESTON AVE    CPD         1858     Hudson, Jesse   \n",
       "3               JOHN ST    CPD         1800     Rigsby, Lloyd   \n",
       "4  PRESTON AVE @ 4TH ST    CPD         1555   Prevost, Payten   \n",
       "\n",
       "                 Date              DateString DayOfWeek  Weekend  Season  \\\n",
       "0 2025-07-17 20:12:01  2025-07-17 08:12:01 PM  Thursday    False  Summer   \n",
       "1 2025-07-17 19:15:56  2025-07-17 07:15:56 PM  Thursday    False  Summer   \n",
       "2 2025-07-17 18:58:43  2025-07-17 06:58:43 PM  Thursday    False  Summer   \n",
       "3 2025-07-17 18:00:17  2025-07-17 06:00:17 PM  Thursday    False  Summer   \n",
       "4 2025-07-17 15:55:26  2025-07-17 03:55:26 PM  Thursday    False  Summer   \n",
       "\n",
       "   HourAMPM  TimeOfDay             FullStreet        lat        lon  \\\n",
       "0  08:12 PM    Evening          100 W MAIN ST  38.030718 -78.481656   \n",
       "1  07:15 PM    Evening        1700 EMMET ST N  38.058953 -78.493501   \n",
       "2  06:58 PM    Evening       1000 PRESTON AVE  38.039155 -78.491633   \n",
       "3  06:00 PM    Evening           1200 JOHN ST  38.036525 -78.495872   \n",
       "4  03:55 PM  Afternoon   PRESTON AVE @ 4TH ST  38.034513 -78.484839   \n",
       "\n",
       "    neighborhood  \n",
       "0  Downtown Mall  \n",
       "1    The Meadows  \n",
       "2        Venable  \n",
       "3        Venable  \n",
       "4     Starr Hill  "
      ]
     },
     "execution_count": 10,
     "metadata": {},
     "output_type": "execute_result"
    }
   ],
   "source": [
    "# Initialize the Google Maps client.\n",
    "gmaps = googlemaps.Client(key=GOOGLE_API_KEY)\n",
    "\n",
    "# Try to load a persistent neighborhood cache if available.\n",
    "try:\n",
    "    with open(\"neighborhood_cache.pkl\", \"rb\") as f:\n",
    "        neighborhood_cache = pickle.load(f)\n",
    "    print(\"Loaded neighborhood cache.\")\n",
    "except FileNotFoundError:\n",
    "    neighborhood_cache = {}\n",
    "    print(\"No neighborhood cache found; starting fresh.\")\n",
    "\n",
    "def get_neighborhood(lat, lon):\n",
    "    \"\"\"\n",
    "    Reverse geocodes a latitude and longitude to retrieve the neighborhood.\n",
    "    Caches results to speed up subsequent lookups.\n",
    "    \"\"\"\n",
    "    key = (lat, lon)\n",
    "    if key in neighborhood_cache:\n",
    "        return neighborhood_cache[key]\n",
    "    \n",
    "    try:\n",
    "        result = gmaps.reverse_geocode((lat, lon))\n",
    "        if result:\n",
    "            # Look for the 'neighborhood' component in the first result.\n",
    "            for component in result[0]['address_components']:\n",
    "                if 'neighborhood' in component['types']:\n",
    "                    neighborhood = component['long_name']\n",
    "                    neighborhood_cache[key] = neighborhood\n",
    "                    return neighborhood\n",
    "            # If no neighborhood is found, return \"N/A\"\n",
    "            neighborhood_cache[key] = \"N/A\"\n",
    "            return \"N/A\"\n",
    "    except Exception as e:\n",
    "        print(f\"Error getting neighborhood for {lat}, {lon}: {e}\")\n",
    "        return \"N/A\"\n",
    "    \n",
    "    # Pause to respect usage limits.\n",
    "    time.sleep(1)\n",
    "\n",
    "# Example usage: Apply to your DataFrame 'df' that already has 'lat' and 'lon' columns.\n",
    "df['neighborhood'] = df.apply(lambda row: get_neighborhood(row['lat'], row['lon']), axis=1)\n",
    "\n",
    "# Save the updated neighborhood cache.\n",
    "with open(\"neighborhood_cache.pkl\", \"wb\") as f:\n",
    "    pickle.dump(neighborhood_cache, f)\n",
    "\n",
    "df.head()\n"
   ]
  },
  {
   "cell_type": "markdown",
   "id": "1cab7a94",
   "metadata": {
    "papermill": {
     "duration": 0.005297,
     "end_time": "2025-07-20T01:16:25.181030",
     "exception": false,
     "start_time": "2025-07-20T01:16:25.175733",
     "status": "completed"
    },
    "tags": []
   },
   "source": [
    "### Zip"
   ]
  },
  {
   "cell_type": "code",
   "execution_count": 11,
   "id": "fafd603e",
   "metadata": {
    "execution": {
     "iopub.execute_input": "2025-07-20T01:16:25.192878Z",
     "iopub.status.busy": "2025-07-20T01:16:25.192320Z",
     "iopub.status.idle": "2025-07-20T01:17:25.554304Z",
     "shell.execute_reply": "2025-07-20T01:17:25.553600Z"
    },
    "papermill": {
     "duration": 60.377464,
     "end_time": "2025-07-20T01:17:25.563822",
     "exception": false,
     "start_time": "2025-07-20T01:16:25.186358",
     "status": "completed"
    },
    "tags": []
   },
   "outputs": [
    {
     "name": "stdout",
     "output_type": "stream",
     "text": [
      "Loaded zip cache.\n",
      "Error getting ZIP for nan, nan: Must be a coordinate pair or Point\n"
     ]
    },
    {
     "name": "stdout",
     "output_type": "stream",
     "text": [
      "Error getting ZIP for nan, nan: Must be a coordinate pair or Point\n"
     ]
    },
    {
     "name": "stdout",
     "output_type": "stream",
     "text": [
      "Error getting ZIP for nan, nan: Must be a coordinate pair or Point\n"
     ]
    },
    {
     "name": "stdout",
     "output_type": "stream",
     "text": [
      "Error getting ZIP for nan, nan: Must be a coordinate pair or Point\n"
     ]
    },
    {
     "name": "stdout",
     "output_type": "stream",
     "text": [
      "Error getting ZIP for nan, nan: Must be a coordinate pair or Point\n"
     ]
    },
    {
     "name": "stdout",
     "output_type": "stream",
     "text": [
      "Error getting ZIP for nan, nan: Must be a coordinate pair or Point\n"
     ]
    },
    {
     "name": "stdout",
     "output_type": "stream",
     "text": [
      "Error getting ZIP for nan, nan: Must be a coordinate pair or Point\n"
     ]
    },
    {
     "name": "stdout",
     "output_type": "stream",
     "text": [
      "Error getting ZIP for nan, nan: Must be a coordinate pair or Point\n"
     ]
    },
    {
     "name": "stdout",
     "output_type": "stream",
     "text": [
      "Error getting ZIP for nan, nan: Must be a coordinate pair or Point\n"
     ]
    },
    {
     "name": "stdout",
     "output_type": "stream",
     "text": [
      "Error getting ZIP for nan, nan: Must be a coordinate pair or Point\n"
     ]
    },
    {
     "name": "stdout",
     "output_type": "stream",
     "text": [
      "Error getting ZIP for nan, nan: Must be a coordinate pair or Point\n"
     ]
    },
    {
     "name": "stdout",
     "output_type": "stream",
     "text": [
      "Error getting ZIP for nan, nan: Must be a coordinate pair or Point\n"
     ]
    },
    {
     "name": "stdout",
     "output_type": "stream",
     "text": [
      "Error getting ZIP for nan, nan: Must be a coordinate pair or Point\n"
     ]
    },
    {
     "name": "stdout",
     "output_type": "stream",
     "text": [
      "Error getting ZIP for nan, nan: Must be a coordinate pair or Point\n"
     ]
    },
    {
     "name": "stdout",
     "output_type": "stream",
     "text": [
      "Error getting ZIP for nan, nan: Must be a coordinate pair or Point\n"
     ]
    },
    {
     "name": "stdout",
     "output_type": "stream",
     "text": [
      "Error getting ZIP for nan, nan: Must be a coordinate pair or Point\n"
     ]
    },
    {
     "name": "stdout",
     "output_type": "stream",
     "text": [
      "Error getting ZIP for nan, nan: Must be a coordinate pair or Point\n"
     ]
    },
    {
     "name": "stdout",
     "output_type": "stream",
     "text": [
      "Error getting ZIP for nan, nan: Must be a coordinate pair or Point\n"
     ]
    },
    {
     "name": "stdout",
     "output_type": "stream",
     "text": [
      "Error getting ZIP for nan, nan: Must be a coordinate pair or Point\n"
     ]
    },
    {
     "name": "stdout",
     "output_type": "stream",
     "text": [
      "Error getting ZIP for nan, nan: Must be a coordinate pair or Point\n"
     ]
    },
    {
     "name": "stdout",
     "output_type": "stream",
     "text": [
      "Error getting ZIP for nan, nan: Must be a coordinate pair or Point\n"
     ]
    },
    {
     "name": "stdout",
     "output_type": "stream",
     "text": [
      "Error getting ZIP for nan, nan: Must be a coordinate pair or Point\n"
     ]
    },
    {
     "name": "stdout",
     "output_type": "stream",
     "text": [
      "Error getting ZIP for nan, nan: Must be a coordinate pair or Point\n"
     ]
    },
    {
     "name": "stdout",
     "output_type": "stream",
     "text": [
      "Error getting ZIP for nan, nan: Must be a coordinate pair or Point\n"
     ]
    },
    {
     "name": "stdout",
     "output_type": "stream",
     "text": [
      "Error getting ZIP for nan, nan: Must be a coordinate pair or Point\n"
     ]
    },
    {
     "name": "stdout",
     "output_type": "stream",
     "text": [
      "Error getting ZIP for nan, nan: Must be a coordinate pair or Point\n"
     ]
    },
    {
     "name": "stdout",
     "output_type": "stream",
     "text": [
      "Error getting ZIP for nan, nan: Must be a coordinate pair or Point\n"
     ]
    },
    {
     "name": "stdout",
     "output_type": "stream",
     "text": [
      "Error getting ZIP for nan, nan: Must be a coordinate pair or Point\n"
     ]
    },
    {
     "name": "stdout",
     "output_type": "stream",
     "text": [
      "Error getting ZIP for nan, nan: Must be a coordinate pair or Point\n"
     ]
    },
    {
     "name": "stdout",
     "output_type": "stream",
     "text": [
      "Error getting ZIP for nan, nan: Must be a coordinate pair or Point\n"
     ]
    },
    {
     "name": "stdout",
     "output_type": "stream",
     "text": [
      "Error getting ZIP for nan, nan: Must be a coordinate pair or Point\n"
     ]
    },
    {
     "name": "stdout",
     "output_type": "stream",
     "text": [
      "Error getting ZIP for nan, nan: Must be a coordinate pair or Point\n"
     ]
    },
    {
     "name": "stdout",
     "output_type": "stream",
     "text": [
      "Error getting ZIP for nan, nan: Must be a coordinate pair or Point\n"
     ]
    },
    {
     "name": "stdout",
     "output_type": "stream",
     "text": [
      "Error getting ZIP for nan, nan: Must be a coordinate pair or Point\n"
     ]
    },
    {
     "name": "stdout",
     "output_type": "stream",
     "text": [
      "Error getting ZIP for nan, nan: Must be a coordinate pair or Point\n"
     ]
    },
    {
     "name": "stdout",
     "output_type": "stream",
     "text": [
      "Error getting ZIP for nan, nan: Must be a coordinate pair or Point\n"
     ]
    },
    {
     "name": "stdout",
     "output_type": "stream",
     "text": [
      "Error getting ZIP for nan, nan: Must be a coordinate pair or Point\n"
     ]
    },
    {
     "name": "stdout",
     "output_type": "stream",
     "text": [
      "Error getting ZIP for nan, nan: Must be a coordinate pair or Point\n"
     ]
    },
    {
     "name": "stdout",
     "output_type": "stream",
     "text": [
      "Error getting ZIP for nan, nan: Must be a coordinate pair or Point\n"
     ]
    },
    {
     "name": "stdout",
     "output_type": "stream",
     "text": [
      "Error getting ZIP for nan, nan: Must be a coordinate pair or Point\n"
     ]
    },
    {
     "name": "stdout",
     "output_type": "stream",
     "text": [
      "Error getting ZIP for nan, nan: Must be a coordinate pair or Point\n"
     ]
    },
    {
     "name": "stdout",
     "output_type": "stream",
     "text": [
      "Error getting ZIP for nan, nan: Must be a coordinate pair or Point\n"
     ]
    },
    {
     "name": "stdout",
     "output_type": "stream",
     "text": [
      "Error getting ZIP for nan, nan: Must be a coordinate pair or Point\n"
     ]
    },
    {
     "name": "stdout",
     "output_type": "stream",
     "text": [
      "Error getting ZIP for nan, nan: Must be a coordinate pair or Point\n"
     ]
    },
    {
     "name": "stdout",
     "output_type": "stream",
     "text": [
      "Error getting ZIP for nan, nan: Must be a coordinate pair or Point\n"
     ]
    },
    {
     "name": "stdout",
     "output_type": "stream",
     "text": [
      "Error getting ZIP for nan, nan: Must be a coordinate pair or Point\n"
     ]
    },
    {
     "name": "stdout",
     "output_type": "stream",
     "text": [
      "Error getting ZIP for nan, nan: Must be a coordinate pair or Point\n"
     ]
    },
    {
     "name": "stdout",
     "output_type": "stream",
     "text": [
      "Error getting ZIP for nan, nan: Must be a coordinate pair or Point\n"
     ]
    },
    {
     "name": "stdout",
     "output_type": "stream",
     "text": [
      "Error getting ZIP for nan, nan: Must be a coordinate pair or Point\n"
     ]
    },
    {
     "name": "stdout",
     "output_type": "stream",
     "text": [
      "Error getting ZIP for nan, nan: Must be a coordinate pair or Point\n"
     ]
    },
    {
     "name": "stdout",
     "output_type": "stream",
     "text": [
      "Error getting ZIP for nan, nan: Must be a coordinate pair or Point\n"
     ]
    },
    {
     "name": "stdout",
     "output_type": "stream",
     "text": [
      "Error getting ZIP for nan, nan: Must be a coordinate pair or Point\n"
     ]
    },
    {
     "name": "stdout",
     "output_type": "stream",
     "text": [
      "Error getting ZIP for nan, nan: Must be a coordinate pair or Point\n"
     ]
    },
    {
     "name": "stdout",
     "output_type": "stream",
     "text": [
      "Error getting ZIP for nan, nan: Must be a coordinate pair or Point\n"
     ]
    },
    {
     "name": "stdout",
     "output_type": "stream",
     "text": [
      "Error getting ZIP for nan, nan: Must be a coordinate pair or Point\n"
     ]
    },
    {
     "name": "stdout",
     "output_type": "stream",
     "text": [
      "Error getting ZIP for nan, nan: Must be a coordinate pair or Point\n"
     ]
    },
    {
     "name": "stdout",
     "output_type": "stream",
     "text": [
      "Error getting ZIP for nan, nan: Must be a coordinate pair or Point\n"
     ]
    },
    {
     "name": "stdout",
     "output_type": "stream",
     "text": [
      "Error getting ZIP for nan, nan: Must be a coordinate pair or Point\n"
     ]
    },
    {
     "name": "stdout",
     "output_type": "stream",
     "text": [
      "Error getting ZIP for nan, nan: Must be a coordinate pair or Point\n"
     ]
    },
    {
     "name": "stdout",
     "output_type": "stream",
     "text": [
      "Error getting ZIP for nan, nan: Must be a coordinate pair or Point\n"
     ]
    },
    {
     "data": {
      "text/html": [
       "<div>\n",
       "<style scoped>\n",
       "    .dataframe tbody tr th:only-of-type {\n",
       "        vertical-align: middle;\n",
       "    }\n",
       "\n",
       "    .dataframe tbody tr th {\n",
       "        vertical-align: top;\n",
       "    }\n",
       "\n",
       "    .dataframe thead th {\n",
       "        text-align: right;\n",
       "    }\n",
       "</style>\n",
       "<table border=\"1\" class=\"dataframe\">\n",
       "  <thead>\n",
       "    <tr style=\"text-align: right;\">\n",
       "      <th></th>\n",
       "      <th>RecordID</th>\n",
       "      <th>Offense</th>\n",
       "      <th>IncidentID</th>\n",
       "      <th>BlockNumber</th>\n",
       "      <th>StreetName</th>\n",
       "      <th>Agency</th>\n",
       "      <th>HourReported</th>\n",
       "      <th>ReportingOfficer</th>\n",
       "      <th>Date</th>\n",
       "      <th>DateString</th>\n",
       "      <th>DayOfWeek</th>\n",
       "      <th>Weekend</th>\n",
       "      <th>Season</th>\n",
       "      <th>HourAMPM</th>\n",
       "      <th>TimeOfDay</th>\n",
       "      <th>FullStreet</th>\n",
       "      <th>lat</th>\n",
       "      <th>lon</th>\n",
       "      <th>neighborhood</th>\n",
       "      <th>zip</th>\n",
       "    </tr>\n",
       "  </thead>\n",
       "  <tbody>\n",
       "    <tr>\n",
       "      <th>0</th>\n",
       "      <td>1</td>\n",
       "      <td>Larceny - From Motor Vehicle</td>\n",
       "      <td>202500025156</td>\n",
       "      <td>100</td>\n",
       "      <td>W MAIN ST</td>\n",
       "      <td>CPD</td>\n",
       "      <td>2012</td>\n",
       "      <td>Abdelgayed, Adam</td>\n",
       "      <td>2025-07-17 20:12:01</td>\n",
       "      <td>2025-07-17 08:12:01 PM</td>\n",
       "      <td>Thursday</td>\n",
       "      <td>False</td>\n",
       "      <td>Summer</td>\n",
       "      <td>08:12 PM</td>\n",
       "      <td>Evening</td>\n",
       "      <td>100 W MAIN ST</td>\n",
       "      <td>38.030718</td>\n",
       "      <td>-78.481656</td>\n",
       "      <td>Downtown Mall</td>\n",
       "      <td>22902</td>\n",
       "    </tr>\n",
       "    <tr>\n",
       "      <th>1</th>\n",
       "      <td>2</td>\n",
       "      <td>Hit and Run</td>\n",
       "      <td>202500025152</td>\n",
       "      <td>1700</td>\n",
       "      <td>EMMET ST N</td>\n",
       "      <td>CPD</td>\n",
       "      <td>1915</td>\n",
       "      <td>Phillips, Nicole</td>\n",
       "      <td>2025-07-17 19:15:56</td>\n",
       "      <td>2025-07-17 07:15:56 PM</td>\n",
       "      <td>Thursday</td>\n",
       "      <td>False</td>\n",
       "      <td>Summer</td>\n",
       "      <td>07:15 PM</td>\n",
       "      <td>Evening</td>\n",
       "      <td>1700 EMMET ST N</td>\n",
       "      <td>38.058953</td>\n",
       "      <td>-78.493501</td>\n",
       "      <td>The Meadows</td>\n",
       "      <td>22905</td>\n",
       "    </tr>\n",
       "    <tr>\n",
       "      <th>2</th>\n",
       "      <td>3</td>\n",
       "      <td>Larceny - All Other</td>\n",
       "      <td>202500025149</td>\n",
       "      <td>1000</td>\n",
       "      <td>PRESTON AVE</td>\n",
       "      <td>CPD</td>\n",
       "      <td>1858</td>\n",
       "      <td>Hudson, Jesse</td>\n",
       "      <td>2025-07-17 18:58:43</td>\n",
       "      <td>2025-07-17 06:58:43 PM</td>\n",
       "      <td>Thursday</td>\n",
       "      <td>False</td>\n",
       "      <td>Summer</td>\n",
       "      <td>06:58 PM</td>\n",
       "      <td>Evening</td>\n",
       "      <td>1000 PRESTON AVE</td>\n",
       "      <td>38.039155</td>\n",
       "      <td>-78.491633</td>\n",
       "      <td>Venable</td>\n",
       "      <td>22908</td>\n",
       "    </tr>\n",
       "    <tr>\n",
       "      <th>3</th>\n",
       "      <td>4</td>\n",
       "      <td>Vandalism</td>\n",
       "      <td>202500025139</td>\n",
       "      <td>1200</td>\n",
       "      <td>JOHN ST</td>\n",
       "      <td>CPD</td>\n",
       "      <td>1800</td>\n",
       "      <td>Rigsby, Lloyd</td>\n",
       "      <td>2025-07-17 18:00:17</td>\n",
       "      <td>2025-07-17 06:00:17 PM</td>\n",
       "      <td>Thursday</td>\n",
       "      <td>False</td>\n",
       "      <td>Summer</td>\n",
       "      <td>06:00 PM</td>\n",
       "      <td>Evening</td>\n",
       "      <td>1200 JOHN ST</td>\n",
       "      <td>38.036525</td>\n",
       "      <td>-78.495872</td>\n",
       "      <td>Venable</td>\n",
       "      <td>22903</td>\n",
       "    </tr>\n",
       "    <tr>\n",
       "      <th>4</th>\n",
       "      <td>5</td>\n",
       "      <td>Hit and Run</td>\n",
       "      <td>202500025119</td>\n",
       "      <td></td>\n",
       "      <td>PRESTON AVE @ 4TH ST</td>\n",
       "      <td>CPD</td>\n",
       "      <td>1555</td>\n",
       "      <td>Prevost, Payten</td>\n",
       "      <td>2025-07-17 15:55:26</td>\n",
       "      <td>2025-07-17 03:55:26 PM</td>\n",
       "      <td>Thursday</td>\n",
       "      <td>False</td>\n",
       "      <td>Summer</td>\n",
       "      <td>03:55 PM</td>\n",
       "      <td>Afternoon</td>\n",
       "      <td>PRESTON AVE @ 4TH ST</td>\n",
       "      <td>38.034513</td>\n",
       "      <td>-78.484839</td>\n",
       "      <td>Starr Hill</td>\n",
       "      <td>22908</td>\n",
       "    </tr>\n",
       "  </tbody>\n",
       "</table>\n",
       "</div>"
      ],
      "text/plain": [
       "   RecordID                       Offense    IncidentID BlockNumber  \\\n",
       "0         1  Larceny - From Motor Vehicle  202500025156         100   \n",
       "1         2                   Hit and Run  202500025152        1700   \n",
       "2         3           Larceny - All Other  202500025149        1000   \n",
       "3         4                     Vandalism  202500025139        1200   \n",
       "4         5                   Hit and Run  202500025119               \n",
       "\n",
       "             StreetName Agency HourReported  ReportingOfficer  \\\n",
       "0             W MAIN ST    CPD         2012  Abdelgayed, Adam   \n",
       "1            EMMET ST N    CPD         1915  Phillips, Nicole   \n",
       "2           PRESTON AVE    CPD         1858     Hudson, Jesse   \n",
       "3               JOHN ST    CPD         1800     Rigsby, Lloyd   \n",
       "4  PRESTON AVE @ 4TH ST    CPD         1555   Prevost, Payten   \n",
       "\n",
       "                 Date              DateString DayOfWeek  Weekend  Season  \\\n",
       "0 2025-07-17 20:12:01  2025-07-17 08:12:01 PM  Thursday    False  Summer   \n",
       "1 2025-07-17 19:15:56  2025-07-17 07:15:56 PM  Thursday    False  Summer   \n",
       "2 2025-07-17 18:58:43  2025-07-17 06:58:43 PM  Thursday    False  Summer   \n",
       "3 2025-07-17 18:00:17  2025-07-17 06:00:17 PM  Thursday    False  Summer   \n",
       "4 2025-07-17 15:55:26  2025-07-17 03:55:26 PM  Thursday    False  Summer   \n",
       "\n",
       "   HourAMPM  TimeOfDay             FullStreet        lat        lon  \\\n",
       "0  08:12 PM    Evening          100 W MAIN ST  38.030718 -78.481656   \n",
       "1  07:15 PM    Evening        1700 EMMET ST N  38.058953 -78.493501   \n",
       "2  06:58 PM    Evening       1000 PRESTON AVE  38.039155 -78.491633   \n",
       "3  06:00 PM    Evening           1200 JOHN ST  38.036525 -78.495872   \n",
       "4  03:55 PM  Afternoon   PRESTON AVE @ 4TH ST  38.034513 -78.484839   \n",
       "\n",
       "    neighborhood    zip  \n",
       "0  Downtown Mall  22902  \n",
       "1    The Meadows  22905  \n",
       "2        Venable  22908  \n",
       "3        Venable  22903  \n",
       "4     Starr Hill  22908  "
      ]
     },
     "execution_count": 11,
     "metadata": {},
     "output_type": "execute_result"
    }
   ],
   "source": [
    "# Initialize the geocoder.\n",
    "geolocator = Nominatim(user_agent=\"zip_lookup\")\n",
    "\n",
    "# Try to load a persistent ZIP cache if available.\n",
    "try:\n",
    "    with open(\"zip_cache.pkl\", \"rb\") as f:\n",
    "        zip_cache = pickle.load(f)\n",
    "    print(\"Loaded zip cache.\")\n",
    "except FileNotFoundError:\n",
    "    zip_cache = {}\n",
    "    print(\"No zip cache found; starting fresh.\")\n",
    "\n",
    "def get_zip(lat, lon):\n",
    "    \"\"\"\n",
    "    Reverse geocodes a latitude and longitude to retrieve the ZIP code.\n",
    "    Caches results to speed up subsequent lookups.\n",
    "    \"\"\"\n",
    "    key = (lat, lon)\n",
    "    if key in zip_cache:\n",
    "        return zip_cache[key]\n",
    "    \n",
    "    try:\n",
    "        location = geolocator.reverse((lat, lon), exactly_one=True, timeout=10)\n",
    "        address = location.raw.get('address', {})\n",
    "        postal_code = address.get('postcode', \"N/A\")\n",
    "    except Exception as e:\n",
    "        print(f\"Error getting ZIP for {lat}, {lon}: {e}\")\n",
    "        postal_code = \"N/A\"\n",
    "    \n",
    "    zip_cache[key] = postal_code\n",
    "    # Pause to respect the usage policy.\n",
    "    time.sleep(1)\n",
    "    return postal_code\n",
    "\n",
    "# Apply the function to each row in the DataFrame.\n",
    "df['zip'] = df.apply(lambda row: get_zip(row['lat'], row['lon']), axis=1)\n",
    "\n",
    "# Save the updated ZIP cache.\n",
    "with open(\"zip_cache.pkl\", \"wb\") as f:\n",
    "    pickle.dump(zip_cache, f)\n",
    "\n",
    "df.head()\n"
   ]
  },
  {
   "cell_type": "code",
   "execution_count": 12,
   "id": "1e32c563",
   "metadata": {
    "execution": {
     "iopub.execute_input": "2025-07-20T01:17:25.581176Z",
     "iopub.status.busy": "2025-07-20T01:17:25.580987Z",
     "iopub.status.idle": "2025-07-20T01:17:25.608960Z",
     "shell.execute_reply": "2025-07-20T01:17:25.608400Z"
    },
    "papermill": {
     "duration": 0.037913,
     "end_time": "2025-07-20T01:17:25.609988",
     "exception": false,
     "start_time": "2025-07-20T01:17:25.572075",
     "status": "completed"
    },
    "tags": []
   },
   "outputs": [
    {
     "name": "stdout",
     "output_type": "stream",
     "text": [
      "                  MissingCount  MissingPercentage\n",
      "RecordID                     0               0.00\n",
      "Offense                      0               0.00\n",
      "IncidentID                   0               0.00\n",
      "BlockNumber                  0               0.00\n",
      "StreetName                   0               0.00\n",
      "Agency                       0               0.00\n",
      "HourReported                 0               0.00\n",
      "ReportingOfficer            17               0.07\n",
      "Date                         0               0.00\n",
      "DateString                   0               0.00\n",
      "DayOfWeek                    0               0.00\n",
      "Weekend                      0               0.00\n",
      "Season                       0               0.00\n",
      "HourAMPM                     0               0.00\n",
      "TimeOfDay                    0               0.00\n",
      "FullStreet                   0               0.00\n",
      "lat                         60               0.23\n",
      "lon                         60               0.23\n",
      "neighborhood                 0               0.00\n",
      "zip                          0               0.00\n"
     ]
    }
   ],
   "source": [
    "missing_info = missing_percentage(df)\n",
    "print(missing_info)\n"
   ]
  },
  {
   "cell_type": "code",
   "execution_count": 13,
   "id": "64bb06f9",
   "metadata": {
    "execution": {
     "iopub.execute_input": "2025-07-20T01:17:25.627506Z",
     "iopub.status.busy": "2025-07-20T01:17:25.627083Z",
     "iopub.status.idle": "2025-07-20T01:17:25.654398Z",
     "shell.execute_reply": "2025-07-20T01:17:25.653832Z"
    },
    "papermill": {
     "duration": 0.037089,
     "end_time": "2025-07-20T01:17:25.655360",
     "exception": false,
     "start_time": "2025-07-20T01:17:25.618271",
     "status": "completed"
    },
    "tags": []
   },
   "outputs": [
    {
     "name": "stdout",
     "output_type": "stream",
     "text": [
      "<class 'pandas.core.frame.DataFrame'>\n",
      "RangeIndex: 25543 entries, 0 to 25542\n",
      "Data columns (total 20 columns):\n",
      " #   Column            Non-Null Count  Dtype         \n",
      "---  ------            --------------  -----         \n",
      " 0   RecordID          25543 non-null  int64         \n",
      " 1   Offense           25543 non-null  object        \n",
      " 2   IncidentID        25543 non-null  object        \n",
      " 3   BlockNumber       25543 non-null  object        \n",
      " 4   StreetName        25543 non-null  object        \n",
      " 5   Agency            25543 non-null  object        \n",
      " 6   HourReported      25543 non-null  object        \n",
      " 7   ReportingOfficer  25526 non-null  object        \n",
      " 8   Date              25543 non-null  datetime64[ns]\n",
      " 9   DateString        25543 non-null  object        \n",
      " 10  DayOfWeek         25543 non-null  object        \n",
      " 11  Weekend           25543 non-null  bool          \n",
      " 12  Season            25543 non-null  object        \n",
      " 13  HourAMPM          25543 non-null  object        \n",
      " 14  TimeOfDay         25543 non-null  object        \n",
      " 15  FullStreet        25543 non-null  object        \n",
      " 16  lat               25483 non-null  float64       \n",
      " 17  lon               25483 non-null  float64       \n",
      " 18  neighborhood      25543 non-null  object        \n",
      " 19  zip               25543 non-null  object        \n",
      "dtypes: bool(1), datetime64[ns](1), float64(2), int64(1), object(15)\n",
      "memory usage: 3.7+ MB\n"
     ]
    }
   ],
   "source": [
    "df.info()"
   ]
  },
  {
   "cell_type": "code",
   "execution_count": 14,
   "id": "3593cc56",
   "metadata": {
    "execution": {
     "iopub.execute_input": "2025-07-20T01:17:25.673460Z",
     "iopub.status.busy": "2025-07-20T01:17:25.673023Z",
     "iopub.status.idle": "2025-07-20T01:17:25.713797Z",
     "shell.execute_reply": "2025-07-20T01:17:25.713070Z"
    },
    "papermill": {
     "duration": 0.050887,
     "end_time": "2025-07-20T01:17:25.714821",
     "exception": false,
     "start_time": "2025-07-20T01:17:25.663934",
     "status": "completed"
    },
    "tags": []
   },
   "outputs": [
    {
     "data": {
      "text/html": [
       "<div>\n",
       "<style scoped>\n",
       "    .dataframe tbody tr th:only-of-type {\n",
       "        vertical-align: middle;\n",
       "    }\n",
       "\n",
       "    .dataframe tbody tr th {\n",
       "        vertical-align: top;\n",
       "    }\n",
       "\n",
       "    .dataframe thead th {\n",
       "        text-align: right;\n",
       "    }\n",
       "</style>\n",
       "<table border=\"1\" class=\"dataframe\">\n",
       "  <thead>\n",
       "    <tr style=\"text-align: right;\">\n",
       "      <th></th>\n",
       "      <th>RecordID</th>\n",
       "      <th>Offense</th>\n",
       "      <th>IncidentID</th>\n",
       "      <th>Agency</th>\n",
       "      <th>ReportingOfficer</th>\n",
       "      <th>Date</th>\n",
       "      <th>DayOfWeek</th>\n",
       "      <th>Weekend</th>\n",
       "      <th>Season</th>\n",
       "      <th>TimeOfDay</th>\n",
       "      <th>FullStreet</th>\n",
       "      <th>lat</th>\n",
       "      <th>lon</th>\n",
       "      <th>neighborhood</th>\n",
       "      <th>zip</th>\n",
       "    </tr>\n",
       "  </thead>\n",
       "  <tbody>\n",
       "    <tr>\n",
       "      <th>0</th>\n",
       "      <td>1</td>\n",
       "      <td>Larceny - From Motor Vehicle</td>\n",
       "      <td>202500025156</td>\n",
       "      <td>CPD</td>\n",
       "      <td>Abdelgayed, Adam</td>\n",
       "      <td>2025-07-17 20:12:01</td>\n",
       "      <td>Thursday</td>\n",
       "      <td>False</td>\n",
       "      <td>Summer</td>\n",
       "      <td>Evening</td>\n",
       "      <td>100 W MAIN ST</td>\n",
       "      <td>38.030718</td>\n",
       "      <td>-78.481656</td>\n",
       "      <td>Downtown Mall</td>\n",
       "      <td>22902</td>\n",
       "    </tr>\n",
       "    <tr>\n",
       "      <th>1</th>\n",
       "      <td>2</td>\n",
       "      <td>Hit and Run</td>\n",
       "      <td>202500025152</td>\n",
       "      <td>CPD</td>\n",
       "      <td>Phillips, Nicole</td>\n",
       "      <td>2025-07-17 19:15:56</td>\n",
       "      <td>Thursday</td>\n",
       "      <td>False</td>\n",
       "      <td>Summer</td>\n",
       "      <td>Evening</td>\n",
       "      <td>1700 EMMET ST N</td>\n",
       "      <td>38.058953</td>\n",
       "      <td>-78.493501</td>\n",
       "      <td>The Meadows</td>\n",
       "      <td>22905</td>\n",
       "    </tr>\n",
       "    <tr>\n",
       "      <th>2</th>\n",
       "      <td>3</td>\n",
       "      <td>Larceny - All Other</td>\n",
       "      <td>202500025149</td>\n",
       "      <td>CPD</td>\n",
       "      <td>Hudson, Jesse</td>\n",
       "      <td>2025-07-17 18:58:43</td>\n",
       "      <td>Thursday</td>\n",
       "      <td>False</td>\n",
       "      <td>Summer</td>\n",
       "      <td>Evening</td>\n",
       "      <td>1000 PRESTON AVE</td>\n",
       "      <td>38.039155</td>\n",
       "      <td>-78.491633</td>\n",
       "      <td>Venable</td>\n",
       "      <td>22908</td>\n",
       "    </tr>\n",
       "    <tr>\n",
       "      <th>3</th>\n",
       "      <td>4</td>\n",
       "      <td>Vandalism</td>\n",
       "      <td>202500025139</td>\n",
       "      <td>CPD</td>\n",
       "      <td>Rigsby, Lloyd</td>\n",
       "      <td>2025-07-17 18:00:17</td>\n",
       "      <td>Thursday</td>\n",
       "      <td>False</td>\n",
       "      <td>Summer</td>\n",
       "      <td>Evening</td>\n",
       "      <td>1200 JOHN ST</td>\n",
       "      <td>38.036525</td>\n",
       "      <td>-78.495872</td>\n",
       "      <td>Venable</td>\n",
       "      <td>22903</td>\n",
       "    </tr>\n",
       "    <tr>\n",
       "      <th>4</th>\n",
       "      <td>5</td>\n",
       "      <td>Hit and Run</td>\n",
       "      <td>202500025119</td>\n",
       "      <td>CPD</td>\n",
       "      <td>Prevost, Payten</td>\n",
       "      <td>2025-07-17 15:55:26</td>\n",
       "      <td>Thursday</td>\n",
       "      <td>False</td>\n",
       "      <td>Summer</td>\n",
       "      <td>Afternoon</td>\n",
       "      <td>PRESTON AVE @ 4TH ST</td>\n",
       "      <td>38.034513</td>\n",
       "      <td>-78.484839</td>\n",
       "      <td>Starr Hill</td>\n",
       "      <td>22908</td>\n",
       "    </tr>\n",
       "  </tbody>\n",
       "</table>\n",
       "</div>"
      ],
      "text/plain": [
       "   RecordID                       Offense    IncidentID Agency  \\\n",
       "0         1  Larceny - From Motor Vehicle  202500025156    CPD   \n",
       "1         2                   Hit and Run  202500025152    CPD   \n",
       "2         3           Larceny - All Other  202500025149    CPD   \n",
       "3         4                     Vandalism  202500025139    CPD   \n",
       "4         5                   Hit and Run  202500025119    CPD   \n",
       "\n",
       "   ReportingOfficer                Date DayOfWeek  Weekend  Season  TimeOfDay  \\\n",
       "0  Abdelgayed, Adam 2025-07-17 20:12:01  Thursday    False  Summer    Evening   \n",
       "1  Phillips, Nicole 2025-07-17 19:15:56  Thursday    False  Summer    Evening   \n",
       "2     Hudson, Jesse 2025-07-17 18:58:43  Thursday    False  Summer    Evening   \n",
       "3     Rigsby, Lloyd 2025-07-17 18:00:17  Thursday    False  Summer    Evening   \n",
       "4   Prevost, Payten 2025-07-17 15:55:26  Thursday    False  Summer  Afternoon   \n",
       "\n",
       "              FullStreet        lat        lon   neighborhood    zip  \n",
       "0          100 W MAIN ST  38.030718 -78.481656  Downtown Mall  22902  \n",
       "1        1700 EMMET ST N  38.058953 -78.493501    The Meadows  22905  \n",
       "2       1000 PRESTON AVE  38.039155 -78.491633        Venable  22908  \n",
       "3           1200 JOHN ST  38.036525 -78.495872        Venable  22903  \n",
       "4   PRESTON AVE @ 4TH ST  38.034513 -78.484839     Starr Hill  22908  "
      ]
     },
     "execution_count": 14,
     "metadata": {},
     "output_type": "execute_result"
    }
   ],
   "source": [
    "# Now drop the original BlockNumber and StreetName columns\n",
    "df.drop(columns=['BlockNumber', 'StreetName','HourAMPM','HourReported','DateString'], inplace=True)\n",
    "df[\"zip\"] = df[\"zip\"].astype(str)\n",
    "\n",
    "# Fill all missing values in the DataFrame with \"N/A\"\n",
    "df.replace({None: \"N/A\", np.nan: \"N/A\", \"\": \"N/A\"}, inplace=True)\n",
    "df.head()"
   ]
  },
  {
   "cell_type": "code",
   "execution_count": 15,
   "id": "95c3fa25",
   "metadata": {
    "execution": {
     "iopub.execute_input": "2025-07-20T01:17:25.733567Z",
     "iopub.status.busy": "2025-07-20T01:17:25.733078Z",
     "iopub.status.idle": "2025-07-20T01:17:25.751881Z",
     "shell.execute_reply": "2025-07-20T01:17:25.751191Z"
    },
    "papermill": {
     "duration": 0.029037,
     "end_time": "2025-07-20T01:17:25.752868",
     "exception": false,
     "start_time": "2025-07-20T01:17:25.723831",
     "status": "completed"
    },
    "tags": []
   },
   "outputs": [
    {
     "name": "stdout",
     "output_type": "stream",
     "text": [
      "                  MissingCount  MissingPercentage\n",
      "RecordID                     0                0.0\n",
      "Offense                      0                0.0\n",
      "IncidentID                   0                0.0\n",
      "Agency                       0                0.0\n",
      "ReportingOfficer             0                0.0\n",
      "Date                         0                0.0\n",
      "DayOfWeek                    0                0.0\n",
      "Weekend                      0                0.0\n",
      "Season                       0                0.0\n",
      "TimeOfDay                    0                0.0\n",
      "FullStreet                   0                0.0\n",
      "lat                          0                0.0\n",
      "lon                          0                0.0\n",
      "neighborhood                 0                0.0\n",
      "zip                          0                0.0\n"
     ]
    }
   ],
   "source": [
    "missing_info = missing_percentage(df)\n",
    "print(missing_info)"
   ]
  },
  {
   "cell_type": "code",
   "execution_count": 16,
   "id": "997a675b",
   "metadata": {
    "execution": {
     "iopub.execute_input": "2025-07-20T01:17:25.771245Z",
     "iopub.status.busy": "2025-07-20T01:17:25.770823Z",
     "iopub.status.idle": "2025-07-20T01:17:25.775432Z",
     "shell.execute_reply": "2025-07-20T01:17:25.774798Z"
    },
    "papermill": {
     "duration": 0.014793,
     "end_time": "2025-07-20T01:17:25.776422",
     "exception": false,
     "start_time": "2025-07-20T01:17:25.761629",
     "status": "completed"
    },
    "tags": []
   },
   "outputs": [
    {
     "data": {
      "text/plain": [
       "Index(['RecordID', 'Offense', 'IncidentID', 'Agency', 'ReportingOfficer',\n",
       "       'Date', 'DayOfWeek', 'Weekend', 'Season', 'TimeOfDay', 'FullStreet',\n",
       "       'lat', 'lon', 'neighborhood', 'zip'],\n",
       "      dtype='object')"
      ]
     },
     "execution_count": 16,
     "metadata": {},
     "output_type": "execute_result"
    }
   ],
   "source": [
    "df.columns"
   ]
  },
  {
   "cell_type": "code",
   "execution_count": 17,
   "id": "d1010684",
   "metadata": {
    "execution": {
     "iopub.execute_input": "2025-07-20T01:17:25.795294Z",
     "iopub.status.busy": "2025-07-20T01:17:25.794867Z",
     "iopub.status.idle": "2025-07-20T01:17:25.818355Z",
     "shell.execute_reply": "2025-07-20T01:17:25.817650Z"
    },
    "papermill": {
     "duration": 0.033883,
     "end_time": "2025-07-20T01:17:25.819329",
     "exception": false,
     "start_time": "2025-07-20T01:17:25.785446",
     "status": "completed"
    },
    "tags": []
   },
   "outputs": [
    {
     "name": "stdout",
     "output_type": "stream",
     "text": [
      "<class 'pandas.core.frame.DataFrame'>\n",
      "RangeIndex: 25543 entries, 0 to 25542\n",
      "Data columns (total 15 columns):\n",
      " #   Column            Non-Null Count  Dtype         \n",
      "---  ------            --------------  -----         \n",
      " 0   RecordID          25543 non-null  int64         \n",
      " 1   Offense           25543 non-null  object        \n",
      " 2   IncidentID        25543 non-null  object        \n",
      " 3   Agency            25543 non-null  object        \n",
      " 4   ReportingOfficer  25543 non-null  object        \n",
      " 5   Date              25543 non-null  datetime64[ns]\n",
      " 6   DayOfWeek         25543 non-null  object        \n",
      " 7   Weekend           25543 non-null  bool          \n",
      " 8   Season            25543 non-null  object        \n",
      " 9   TimeOfDay         25543 non-null  object        \n",
      " 10  FullStreet        25543 non-null  object        \n",
      " 11  lat               25543 non-null  object        \n",
      " 12  lon               25543 non-null  object        \n",
      " 13  neighborhood      25543 non-null  object        \n",
      " 14  zip               25543 non-null  object        \n",
      "dtypes: bool(1), datetime64[ns](1), int64(1), object(12)\n",
      "memory usage: 2.8+ MB\n"
     ]
    }
   ],
   "source": [
    "df.info()"
   ]
  },
  {
   "cell_type": "markdown",
   "id": "4de968ad",
   "metadata": {
    "papermill": {
     "duration": 0.008796,
     "end_time": "2025-07-20T01:17:25.837450",
     "exception": false,
     "start_time": "2025-07-20T01:17:25.828654",
     "status": "completed"
    },
    "tags": []
   },
   "source": [
    "### Export Clean Data"
   ]
  },
  {
   "cell_type": "code",
   "execution_count": 18,
   "id": "58690599",
   "metadata": {
    "execution": {
     "iopub.execute_input": "2025-07-20T01:17:25.855738Z",
     "iopub.status.busy": "2025-07-20T01:17:25.855503Z",
     "iopub.status.idle": "2025-07-20T01:17:34.978384Z",
     "shell.execute_reply": "2025-07-20T01:17:34.977729Z"
    },
    "papermill": {
     "duration": 9.133293,
     "end_time": "2025-07-20T01:17:34.979460",
     "exception": false,
     "start_time": "2025-07-20T01:17:25.846167",
     "status": "completed"
    },
    "tags": []
   },
   "outputs": [
    {
     "name": "stdout",
     "output_type": "stream",
     "text": [
      "Project Root: /home/runner/work/crime-data/crime-data\n"
     ]
    },
    {
     "name": "stdout",
     "output_type": "stream",
     "text": [
      "Data saved to: /home/runner/work/crime-data/crime-data/data/charlottesville_crime_incidents.csv\n"
     ]
    },
    {
     "name": "stdout",
     "output_type": "stream",
     "text": [
      "Excel saved to: /home/runner/work/crime-data/crime-data/data/charlottesville_crime_incidents.xlsx\n"
     ]
    }
   ],
   "source": [
    "# Determine the project root (assuming papermill is run from the repository root)\n",
    "project_root = os.getcwd()\n",
    "print(\"Project Root:\", project_root)\n",
    "\n",
    "# Set the data directory within the project root\n",
    "data_dir = os.path.join(project_root, \"data\")\n",
    "\n",
    "# Ensure the \"data\" directory exists (create it if it doesn't)\n",
    "if not os.path.exists(data_dir):\n",
    "    os.makedirs(data_dir)\n",
    "\n",
    "# Export the DataFrame to CSV in the \"data\" folder located in the project root\n",
    "csv_path = os.path.join(data_dir, \"charlottesville_crime_incidents.csv\")\n",
    "df.to_csv(csv_path, index=False)\n",
    "print(\"Data saved to:\", csv_path)\n",
    "\n",
    "# Construct the path to your Excel file\n",
    "excel_path = os.path.join(data_dir, \"charlottesville_crime_incidents.xlsx\")\n",
    "\n",
    "# Export the DataFrame to Excel\n",
    "df.to_excel(excel_path, index=False)\n",
    "print(\"Excel saved to:\", excel_path)\n"
   ]
  }
 ],
 "metadata": {
  "kernelspec": {
   "display_name": "Python 3",
   "language": "python",
   "name": "python3"
  },
  "language_info": {
   "codemirror_mode": {
    "name": "ipython",
    "version": 3
   },
   "file_extension": ".py",
   "mimetype": "text/x-python",
   "name": "python",
   "nbconvert_exporter": "python",
   "pygments_lexer": "ipython3",
   "version": "3.9.23"
  },
  "papermill": {
   "default_parameters": {},
   "duration": 143.586111,
   "end_time": "2025-07-20T01:17:35.405382",
   "environment_variables": {},
   "exception": null,
   "input_path": "notebook/Crime Data.ipynb",
   "output_path": "notebook/Crime Data_output.ipynb",
   "parameters": {},
   "start_time": "2025-07-20T01:15:11.819271",
   "version": "2.6.0"
  }
 },
 "nbformat": 4,
 "nbformat_minor": 5
}