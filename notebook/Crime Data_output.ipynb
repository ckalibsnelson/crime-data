{
 "cells": [
  {
   "cell_type": "markdown",
   "id": "55d217bf",
   "metadata": {
    "papermill": {
     "duration": 0.006163,
     "end_time": "2025-04-24T01:00:50.585080",
     "exception": false,
     "start_time": "2025-04-24T01:00:50.578917",
     "status": "completed"
    },
    "tags": []
   },
   "source": [
    "# Charlottesville Open Data Porttal: Crime Data"
   ]
  },
  {
   "cell_type": "markdown",
   "id": "403ee0cc",
   "metadata": {
    "papermill": {
     "duration": 0.005003,
     "end_time": "2025-04-24T01:00:50.595557",
     "exception": false,
     "start_time": "2025-04-24T01:00:50.590554",
     "status": "completed"
    },
    "tags": []
   },
   "source": [
    "## Import Relevant Librarires & Set WD"
   ]
  },
  {
   "cell_type": "code",
   "execution_count": 1,
   "id": "75dc67c6",
   "metadata": {
    "execution": {
     "iopub.execute_input": "2025-04-24T01:00:50.607397Z",
     "iopub.status.busy": "2025-04-24T01:00:50.606666Z",
     "iopub.status.idle": "2025-04-24T01:00:51.144114Z",
     "shell.execute_reply": "2025-04-24T01:00:51.143440Z"
    },
    "papermill": {
     "duration": 0.544835,
     "end_time": "2025-04-24T01:00:51.145492",
     "exception": false,
     "start_time": "2025-04-24T01:00:50.600657",
     "status": "completed"
    },
    "tags": []
   },
   "outputs": [],
   "source": [
    "import requests\n",
    "import pandas as pd\n",
    "import numpy as np\n",
    "import pickle\n",
    "import googlemaps\n",
    "import plotly.express as px\n",
    "from geopy.geocoders import Nominatim\n",
    "import time\n",
    "from dotenv import load_dotenv\n",
    "import os\n",
    "\n",
    "env_path = os.path.join(\"..\", \".env\")\n",
    "#print(\"Looking for .env file at:\", os.path.abspath(env_path))\n",
    "load_dotenv(dotenv_path=env_path)\n",
    "\n",
    "# Retrieve the variables\n",
    "GOOGLE_API_KEY = os.getenv(\"GOOGLE_API_KEY\")\n",
    "WORKING_DIR = os.getenv(\"WORKING_DIR\")\n",
    "\n",
    "if GOOGLE_API_KEY is None or WORKING_DIR is None:\n",
    "    raise RuntimeError(\"No configuration found. Please ensure that your .env file exists with the required variables, or create a local config.py file.\")\n",
    "\n",
    "#print(\"Google API Key:\", GOOGLE_API_KEY)\n",
    "#print(\"Working Directory:\", WORKING_DIR)"
   ]
  },
  {
   "cell_type": "markdown",
   "id": "68dde14c",
   "metadata": {
    "papermill": {
     "duration": 0.005078,
     "end_time": "2025-04-24T01:00:51.156189",
     "exception": false,
     "start_time": "2025-04-24T01:00:51.151111",
     "status": "completed"
    },
    "tags": []
   },
   "source": [
    "## Import Data\n",
    "\n",
    "URL: https://opendata.charlottesville.org/datasets/charlottesville::crime-data/about"
   ]
  },
  {
   "cell_type": "code",
   "execution_count": 2,
   "id": "5de30a76",
   "metadata": {
    "execution": {
     "iopub.execute_input": "2025-04-24T01:00:51.167728Z",
     "iopub.status.busy": "2025-04-24T01:00:51.167186Z",
     "iopub.status.idle": "2025-04-24T01:01:50.923898Z",
     "shell.execute_reply": "2025-04-24T01:01:50.923126Z"
    },
    "papermill": {
     "duration": 59.768317,
     "end_time": "2025-04-24T01:01:50.929620",
     "exception": false,
     "start_time": "2025-04-24T01:00:51.161303",
     "status": "completed"
    },
    "tags": []
   },
   "outputs": [
    {
     "name": "stdout",
     "output_type": "stream",
     "text": [
      "Total records imported: 25259\n"
     ]
    }
   ],
   "source": [
    "# Define the endpoint and initial parameters.\n",
    "url = \"https://gisweb.charlottesville.org/arcgis/rest/services/OpenData_2/MapServer/6/query\"\n",
    "params = {\n",
    "    \"where\": \"1=1\",\n",
    "    \"outFields\": \"*\",\n",
    "    \"outSR\": 4326,\n",
    "    \"f\": \"json\",\n",
    "    \"resultOffset\": 0,       # Starting index for results\n",
    "    \"resultRecordCount\": 10000  # Maximum records per batch (if allowed by the API)\n",
    "}\n",
    "\n",
    "records = []\n",
    "\n",
    "while True:\n",
    "    response = requests.get(url, params=params)\n",
    "    response.raise_for_status()\n",
    "    data = response.json()\n",
    "    \n",
    "    # Get the current batch of features.\n",
    "    features = data.get(\"features\", [])\n",
    "    if not features:\n",
    "        break\n",
    "\n",
    "    # Extract the attributes from the features.\n",
    "    batch_records = [feature.get(\"attributes\", {}) for feature in features]\n",
    "    records.extend(batch_records)\n",
    "    \n",
    "    # If the batch size is less than the requested count, we reached the end.\n",
    "    if len(features) < params[\"resultRecordCount\"]:\n",
    "        break\n",
    "\n",
    "    # Update the resultOffset for the next batch.\n",
    "    params[\"resultOffset\"] += params[\"resultRecordCount\"]\n",
    "\n",
    "# Create a DataFrame from the combined records.\n",
    "df = pd.DataFrame(records)\n",
    "print(\"Total records imported:\", len(df))\n"
   ]
  },
  {
   "cell_type": "code",
   "execution_count": 3,
   "id": "aff648a4",
   "metadata": {
    "execution": {
     "iopub.execute_input": "2025-04-24T01:01:50.941760Z",
     "iopub.status.busy": "2025-04-24T01:01:50.941266Z",
     "iopub.status.idle": "2025-04-24T01:01:50.953632Z",
     "shell.execute_reply": "2025-04-24T01:01:50.953088Z"
    },
    "papermill": {
     "duration": 0.019628,
     "end_time": "2025-04-24T01:01:50.954580",
     "exception": false,
     "start_time": "2025-04-24T01:01:50.934952",
     "status": "completed"
    },
    "tags": []
   },
   "outputs": [
    {
     "data": {
      "text/html": [
       "<div>\n",
       "<style scoped>\n",
       "    .dataframe tbody tr th:only-of-type {\n",
       "        vertical-align: middle;\n",
       "    }\n",
       "\n",
       "    .dataframe tbody tr th {\n",
       "        vertical-align: top;\n",
       "    }\n",
       "\n",
       "    .dataframe thead th {\n",
       "        text-align: right;\n",
       "    }\n",
       "</style>\n",
       "<table border=\"1\" class=\"dataframe\">\n",
       "  <thead>\n",
       "    <tr style=\"text-align: right;\">\n",
       "      <th></th>\n",
       "      <th>RecordID</th>\n",
       "      <th>Offense</th>\n",
       "      <th>IncidentID</th>\n",
       "      <th>BlockNumber</th>\n",
       "      <th>StreetName</th>\n",
       "      <th>Agency</th>\n",
       "      <th>DateReported</th>\n",
       "      <th>HourReported</th>\n",
       "      <th>ReportingOfficer</th>\n",
       "    </tr>\n",
       "  </thead>\n",
       "  <tbody>\n",
       "    <tr>\n",
       "      <th>0</th>\n",
       "      <td>1</td>\n",
       "      <td>Hit and Run</td>\n",
       "      <td>202500013032</td>\n",
       "      <td>1200</td>\n",
       "      <td>LANDONIA CIR</td>\n",
       "      <td>CPD</td>\n",
       "      <td>1745279177000</td>\n",
       "      <td>1946</td>\n",
       "      <td>Bland, Johnnà</td>\n",
       "    </tr>\n",
       "    <tr>\n",
       "      <th>1</th>\n",
       "      <td>2</td>\n",
       "      <td>Vandalism</td>\n",
       "      <td>202500012997</td>\n",
       "      <td>200</td>\n",
       "      <td>CARLTON RD</td>\n",
       "      <td>CPD</td>\n",
       "      <td>1745266300000</td>\n",
       "      <td>1611</td>\n",
       "      <td>Prevost, Payten</td>\n",
       "    </tr>\n",
       "    <tr>\n",
       "      <th>2</th>\n",
       "      <td>3</td>\n",
       "      <td>Suspicious Activity</td>\n",
       "      <td>202500012990</td>\n",
       "      <td>100</td>\n",
       "      <td>MADISON LN</td>\n",
       "      <td>CPD</td>\n",
       "      <td>1745264137000</td>\n",
       "      <td>1535</td>\n",
       "      <td>Handy, Russell</td>\n",
       "    </tr>\n",
       "    <tr>\n",
       "      <th>3</th>\n",
       "      <td>4</td>\n",
       "      <td>Larceny - From Motor Vehicle</td>\n",
       "      <td>202500012971</td>\n",
       "      <td>400</td>\n",
       "      <td>W MAIN ST</td>\n",
       "      <td>CPD</td>\n",
       "      <td>1745246511000</td>\n",
       "      <td>1041</td>\n",
       "      <td>Kirby, Tyree</td>\n",
       "    </tr>\n",
       "    <tr>\n",
       "      <th>4</th>\n",
       "      <td>5</td>\n",
       "      <td>Assist Citizen - Welfare Check</td>\n",
       "      <td>202500012970</td>\n",
       "      <td>2400</td>\n",
       "      <td>ARLINGTON BLVD, 67</td>\n",
       "      <td>CPD</td>\n",
       "      <td>1745245410000</td>\n",
       "      <td>1023</td>\n",
       "      <td>Wisser, Shawn</td>\n",
       "    </tr>\n",
       "  </tbody>\n",
       "</table>\n",
       "</div>"
      ],
      "text/plain": [
       "   RecordID                         Offense    IncidentID BlockNumber  \\\n",
       "0         1                     Hit and Run  202500013032        1200   \n",
       "1         2                       Vandalism  202500012997         200   \n",
       "2         3             Suspicious Activity  202500012990         100   \n",
       "3         4    Larceny - From Motor Vehicle  202500012971         400   \n",
       "4         5  Assist Citizen - Welfare Check  202500012970        2400   \n",
       "\n",
       "           StreetName Agency   DateReported HourReported ReportingOfficer  \n",
       "0        LANDONIA CIR    CPD  1745279177000         1946    Bland, Johnnà  \n",
       "1          CARLTON RD    CPD  1745266300000         1611  Prevost, Payten  \n",
       "2          MADISON LN    CPD  1745264137000         1535   Handy, Russell  \n",
       "3           W MAIN ST    CPD  1745246511000         1041     Kirby, Tyree  \n",
       "4  ARLINGTON BLVD, 67    CPD  1745245410000         1023    Wisser, Shawn  "
      ]
     },
     "execution_count": 3,
     "metadata": {},
     "output_type": "execute_result"
    }
   ],
   "source": [
    "df.head()"
   ]
  },
  {
   "cell_type": "code",
   "execution_count": 4,
   "id": "fc215377",
   "metadata": {
    "execution": {
     "iopub.execute_input": "2025-04-24T01:01:50.966281Z",
     "iopub.status.busy": "2025-04-24T01:01:50.965880Z",
     "iopub.status.idle": "2025-04-24T01:01:50.970190Z",
     "shell.execute_reply": "2025-04-24T01:01:50.969533Z"
    },
    "papermill": {
     "duration": 0.011251,
     "end_time": "2025-04-24T01:01:50.971217",
     "exception": false,
     "start_time": "2025-04-24T01:01:50.959966",
     "status": "completed"
    },
    "tags": []
   },
   "outputs": [
    {
     "data": {
      "text/plain": [
       "Index(['RecordID', 'Offense', 'IncidentID', 'BlockNumber', 'StreetName',\n",
       "       'Agency', 'DateReported', 'HourReported', 'ReportingOfficer'],\n",
       "      dtype='object')"
      ]
     },
     "execution_count": 4,
     "metadata": {},
     "output_type": "execute_result"
    }
   ],
   "source": [
    "df.columns"
   ]
  },
  {
   "cell_type": "code",
   "execution_count": 5,
   "id": "3ff29e5e",
   "metadata": {
    "execution": {
     "iopub.execute_input": "2025-04-24T01:01:50.983102Z",
     "iopub.status.busy": "2025-04-24T01:01:50.982622Z",
     "iopub.status.idle": "2025-04-24T01:01:51.004631Z",
     "shell.execute_reply": "2025-04-24T01:01:51.004039Z"
    },
    "papermill": {
     "duration": 0.028996,
     "end_time": "2025-04-24T01:01:51.005619",
     "exception": false,
     "start_time": "2025-04-24T01:01:50.976623",
     "status": "completed"
    },
    "tags": []
   },
   "outputs": [
    {
     "name": "stdout",
     "output_type": "stream",
     "text": [
      "<class 'pandas.core.frame.DataFrame'>\n",
      "RangeIndex: 25259 entries, 0 to 25258\n",
      "Data columns (total 9 columns):\n",
      " #   Column            Non-Null Count  Dtype \n",
      "---  ------            --------------  ----- \n",
      " 0   RecordID          25259 non-null  int64 \n",
      " 1   Offense           25259 non-null  object\n",
      " 2   IncidentID        25259 non-null  object\n",
      " 3   BlockNumber       25259 non-null  object\n",
      " 4   StreetName        25259 non-null  object\n",
      " 5   Agency            25259 non-null  object\n",
      " 6   DateReported      25259 non-null  int64 \n",
      " 7   HourReported      25259 non-null  object\n",
      " 8   ReportingOfficer  25242 non-null  object\n",
      "dtypes: int64(2), object(7)\n",
      "memory usage: 1.7+ MB\n"
     ]
    }
   ],
   "source": [
    "df.info()"
   ]
  },
  {
   "cell_type": "markdown",
   "id": "ba153dbd",
   "metadata": {
    "papermill": {
     "duration": 0.005528,
     "end_time": "2025-04-24T01:01:51.016851",
     "exception": false,
     "start_time": "2025-04-24T01:01:51.011323",
     "status": "completed"
    },
    "tags": []
   },
   "source": [
    "### Missing Values"
   ]
  },
  {
   "cell_type": "code",
   "execution_count": 6,
   "id": "80b69f52",
   "metadata": {
    "execution": {
     "iopub.execute_input": "2025-04-24T01:01:51.029127Z",
     "iopub.status.busy": "2025-04-24T01:01:51.028632Z",
     "iopub.status.idle": "2025-04-24T01:01:51.053038Z",
     "shell.execute_reply": "2025-04-24T01:01:51.052446Z"
    },
    "papermill": {
     "duration": 0.031682,
     "end_time": "2025-04-24T01:01:51.054047",
     "exception": false,
     "start_time": "2025-04-24T01:01:51.022365",
     "status": "completed"
    },
    "tags": []
   },
   "outputs": [
    {
     "name": "stdout",
     "output_type": "stream",
     "text": [
      "                  MissingCount  MissingPercentage\n",
      "RecordID                     0               0.00\n",
      "Offense                      0               0.00\n",
      "IncidentID                   0               0.00\n",
      "BlockNumber                  0               0.00\n",
      "StreetName                   0               0.00\n",
      "Agency                       0               0.00\n",
      "DateReported                 0               0.00\n",
      "HourReported                 0               0.00\n",
      "ReportingOfficer            17               0.07\n"
     ]
    }
   ],
   "source": [
    "def missing_percentage(df):\n",
    "    \"\"\"\n",
    "    Returns a DataFrame with the count and percentage of missing values for each column.\n",
    "    \n",
    "    Parameters:\n",
    "        df (pd.DataFrame): The input DataFrame.\n",
    "    \n",
    "    Returns:\n",
    "        pd.DataFrame: A DataFrame with columns 'MissingCount' and 'MissingPercentage'.\n",
    "    \"\"\"\n",
    "    total_rows = len(df)\n",
    "    missing_count = df.isnull().sum()\n",
    "    missing_percent = (missing_count / total_rows) * 100\n",
    "    \n",
    "    result = pd.DataFrame({\n",
    "        'MissingCount': missing_count,\n",
    "        'MissingPercentage': missing_percent.round(2)\n",
    "    })\n",
    "    \n",
    "    return result\n",
    "\n",
    "# Example usage:\n",
    "missing_info = missing_percentage(df)\n",
    "print(missing_info)\n"
   ]
  },
  {
   "cell_type": "markdown",
   "id": "0171449c",
   "metadata": {
    "papermill": {
     "duration": 0.005638,
     "end_time": "2025-04-24T01:01:51.065767",
     "exception": false,
     "start_time": "2025-04-24T01:01:51.060129",
     "status": "completed"
    },
    "tags": []
   },
   "source": [
    "## Data Preparation"
   ]
  },
  {
   "cell_type": "markdown",
   "id": "71328ef6",
   "metadata": {
    "papermill": {
     "duration": 0.005546,
     "end_time": "2025-04-24T01:01:51.076871",
     "exception": false,
     "start_time": "2025-04-24T01:01:51.071325",
     "status": "completed"
    },
    "tags": []
   },
   "source": [
    "### Data Conversion"
   ]
  },
  {
   "cell_type": "code",
   "execution_count": 7,
   "id": "6ca6ed7f",
   "metadata": {
    "execution": {
     "iopub.execute_input": "2025-04-24T01:01:51.089210Z",
     "iopub.status.busy": "2025-04-24T01:01:51.088727Z",
     "iopub.status.idle": "2025-04-24T01:01:51.459089Z",
     "shell.execute_reply": "2025-04-24T01:01:51.458380Z"
    },
    "papermill": {
     "duration": 0.37787,
     "end_time": "2025-04-24T01:01:51.460199",
     "exception": false,
     "start_time": "2025-04-24T01:01:51.082329",
     "status": "completed"
    },
    "tags": []
   },
   "outputs": [
    {
     "data": {
      "text/html": [
       "<div>\n",
       "<style scoped>\n",
       "    .dataframe tbody tr th:only-of-type {\n",
       "        vertical-align: middle;\n",
       "    }\n",
       "\n",
       "    .dataframe tbody tr th {\n",
       "        vertical-align: top;\n",
       "    }\n",
       "\n",
       "    .dataframe thead th {\n",
       "        text-align: right;\n",
       "    }\n",
       "</style>\n",
       "<table border=\"1\" class=\"dataframe\">\n",
       "  <thead>\n",
       "    <tr style=\"text-align: right;\">\n",
       "      <th></th>\n",
       "      <th>RecordID</th>\n",
       "      <th>Offense</th>\n",
       "      <th>IncidentID</th>\n",
       "      <th>BlockNumber</th>\n",
       "      <th>StreetName</th>\n",
       "      <th>Agency</th>\n",
       "      <th>HourReported</th>\n",
       "      <th>ReportingOfficer</th>\n",
       "      <th>Date</th>\n",
       "      <th>DateString</th>\n",
       "      <th>DayOfWeek</th>\n",
       "      <th>Weekend</th>\n",
       "      <th>Season</th>\n",
       "      <th>HourAMPM</th>\n",
       "      <th>TimeOfDay</th>\n",
       "    </tr>\n",
       "  </thead>\n",
       "  <tbody>\n",
       "    <tr>\n",
       "      <th>0</th>\n",
       "      <td>1</td>\n",
       "      <td>Hit and Run</td>\n",
       "      <td>202500013032</td>\n",
       "      <td>1200</td>\n",
       "      <td>LANDONIA CIR</td>\n",
       "      <td>CPD</td>\n",
       "      <td>1946</td>\n",
       "      <td>Bland, Johnnà</td>\n",
       "      <td>2025-04-21 19:46:17</td>\n",
       "      <td>2025-04-21 07:46:17 PM</td>\n",
       "      <td>Monday</td>\n",
       "      <td>False</td>\n",
       "      <td>Spring</td>\n",
       "      <td>07:46 PM</td>\n",
       "      <td>Evening</td>\n",
       "    </tr>\n",
       "    <tr>\n",
       "      <th>1</th>\n",
       "      <td>2</td>\n",
       "      <td>Vandalism</td>\n",
       "      <td>202500012997</td>\n",
       "      <td>200</td>\n",
       "      <td>CARLTON RD</td>\n",
       "      <td>CPD</td>\n",
       "      <td>1611</td>\n",
       "      <td>Prevost, Payten</td>\n",
       "      <td>2025-04-21 16:11:40</td>\n",
       "      <td>2025-04-21 04:11:40 PM</td>\n",
       "      <td>Monday</td>\n",
       "      <td>False</td>\n",
       "      <td>Spring</td>\n",
       "      <td>04:11 PM</td>\n",
       "      <td>Afternoon</td>\n",
       "    </tr>\n",
       "    <tr>\n",
       "      <th>2</th>\n",
       "      <td>3</td>\n",
       "      <td>Suspicious Activity</td>\n",
       "      <td>202500012990</td>\n",
       "      <td>100</td>\n",
       "      <td>MADISON LN</td>\n",
       "      <td>CPD</td>\n",
       "      <td>1535</td>\n",
       "      <td>Handy, Russell</td>\n",
       "      <td>2025-04-21 15:35:37</td>\n",
       "      <td>2025-04-21 03:35:37 PM</td>\n",
       "      <td>Monday</td>\n",
       "      <td>False</td>\n",
       "      <td>Spring</td>\n",
       "      <td>03:35 PM</td>\n",
       "      <td>Afternoon</td>\n",
       "    </tr>\n",
       "    <tr>\n",
       "      <th>3</th>\n",
       "      <td>4</td>\n",
       "      <td>Larceny - From Motor Vehicle</td>\n",
       "      <td>202500012971</td>\n",
       "      <td>400</td>\n",
       "      <td>W MAIN ST</td>\n",
       "      <td>CPD</td>\n",
       "      <td>1041</td>\n",
       "      <td>Kirby, Tyree</td>\n",
       "      <td>2025-04-21 10:41:51</td>\n",
       "      <td>2025-04-21 10:41:51 AM</td>\n",
       "      <td>Monday</td>\n",
       "      <td>False</td>\n",
       "      <td>Spring</td>\n",
       "      <td>10:41 AM</td>\n",
       "      <td>Morning</td>\n",
       "    </tr>\n",
       "    <tr>\n",
       "      <th>4</th>\n",
       "      <td>5</td>\n",
       "      <td>Assist Citizen - Welfare Check</td>\n",
       "      <td>202500012970</td>\n",
       "      <td>2400</td>\n",
       "      <td>ARLINGTON BLVD, 67</td>\n",
       "      <td>CPD</td>\n",
       "      <td>1023</td>\n",
       "      <td>Wisser, Shawn</td>\n",
       "      <td>2025-04-21 10:23:30</td>\n",
       "      <td>2025-04-21 10:23:30 AM</td>\n",
       "      <td>Monday</td>\n",
       "      <td>False</td>\n",
       "      <td>Spring</td>\n",
       "      <td>10:23 AM</td>\n",
       "      <td>Morning</td>\n",
       "    </tr>\n",
       "  </tbody>\n",
       "</table>\n",
       "</div>"
      ],
      "text/plain": [
       "   RecordID                         Offense    IncidentID BlockNumber  \\\n",
       "0         1                     Hit and Run  202500013032        1200   \n",
       "1         2                       Vandalism  202500012997         200   \n",
       "2         3             Suspicious Activity  202500012990         100   \n",
       "3         4    Larceny - From Motor Vehicle  202500012971         400   \n",
       "4         5  Assist Citizen - Welfare Check  202500012970        2400   \n",
       "\n",
       "           StreetName Agency HourReported ReportingOfficer  \\\n",
       "0        LANDONIA CIR    CPD         1946    Bland, Johnnà   \n",
       "1          CARLTON RD    CPD         1611  Prevost, Payten   \n",
       "2          MADISON LN    CPD         1535   Handy, Russell   \n",
       "3           W MAIN ST    CPD         1041     Kirby, Tyree   \n",
       "4  ARLINGTON BLVD, 67    CPD         1023    Wisser, Shawn   \n",
       "\n",
       "                 Date              DateString DayOfWeek  Weekend  Season  \\\n",
       "0 2025-04-21 19:46:17  2025-04-21 07:46:17 PM    Monday    False  Spring   \n",
       "1 2025-04-21 16:11:40  2025-04-21 04:11:40 PM    Monday    False  Spring   \n",
       "2 2025-04-21 15:35:37  2025-04-21 03:35:37 PM    Monday    False  Spring   \n",
       "3 2025-04-21 10:41:51  2025-04-21 10:41:51 AM    Monday    False  Spring   \n",
       "4 2025-04-21 10:23:30  2025-04-21 10:23:30 AM    Monday    False  Spring   \n",
       "\n",
       "   HourAMPM  TimeOfDay  \n",
       "0  07:46 PM    Evening  \n",
       "1  04:11 PM  Afternoon  \n",
       "2  03:35 PM  Afternoon  \n",
       "3  10:41 AM    Morning  \n",
       "4  10:23 AM    Morning  "
      ]
     },
     "execution_count": 7,
     "metadata": {},
     "output_type": "execute_result"
    }
   ],
   "source": [
    "def convert_and_categorize_datereported(df, col='DateReported'):\n",
    "    \"\"\"\n",
    "    Converts an epoch (in milliseconds) date column into a timezone-aware datetime,\n",
    "    converts it to Eastern Time, and then creates columns for day-of-week, weekend flag,\n",
    "    season, 12-hour formatted time, and time-of-day. Keeps both a real datetime column\n",
    "    (Date) and a string representation (DateString).\n",
    "    \"\"\"\n",
    "    import pandas as pd\n",
    "\n",
    "    # Convert the epoch timestamp to a pandas datetime object as UTC, then convert to US/Eastern.\n",
    "    df[\"DateReported_dt\"] = (\n",
    "        pd.to_datetime(df[col], unit=\"ms\", errors=\"coerce\", utc=True)\n",
    "        .dt.tz_convert(\"US/Eastern\")\n",
    "    )\n",
    "    \n",
    "    # Create a true datetime column (remove timezone if you prefer naive datetime)\n",
    "    df[\"Date\"] = df[\"DateReported_dt\"].dt.tz_localize(None)\n",
    "\n",
    "    # Optionally, create a separate string-formatted column\n",
    "    df[\"DateString\"] = df[\"DateReported_dt\"].dt.strftime(\"%Y-%m-%d %I:%M:%S %p\")\n",
    "    \n",
    "    # DayOfWeek\n",
    "    df[\"DayOfWeek\"] = df[\"DateReported_dt\"].dt.day_name()\n",
    "    \n",
    "    # Weekend\n",
    "    df[\"Weekend\"] = df[\"DayOfWeek\"].isin([\"Saturday\", \"Sunday\"])\n",
    "    \n",
    "    # Helper function to determine the season\n",
    "    def get_season(dt):\n",
    "        month = dt.month\n",
    "        day = dt.day\n",
    "        # Approximate Northern Hemisphere season boundaries:\n",
    "        if (month == 12 and day >= 21) or (month < 3) or (month == 3 and day < 20):\n",
    "            return \"Winter\"\n",
    "        elif (month == 3 and day >= 20) or (month < 6) or (month == 6 and day < 21):\n",
    "            return \"Spring\"\n",
    "        elif (month == 6 and day >= 21) or (month < 9) or (month == 9 and day < 22):\n",
    "            return \"Summer\"\n",
    "        else:\n",
    "            return \"Autumn\"\n",
    "    \n",
    "    df[\"Season\"] = df[\"DateReported_dt\"].apply(get_season)\n",
    "    \n",
    "    # 12-hour formatted time (HourAMPM)\n",
    "    df[\"HourAMPM\"] = df[\"DateReported_dt\"].dt.strftime(\"%I:%M %p\")\n",
    "    \n",
    "    # Extract hour (0-23) for time-of-day\n",
    "    df[\"HourValue\"] = df[\"DateReported_dt\"].dt.hour\n",
    "    \n",
    "    def time_of_day(hour):\n",
    "        if pd.isnull(hour):\n",
    "            return None\n",
    "        if 5 <= hour < 12:\n",
    "            return \"Morning\"\n",
    "        elif 12 <= hour < 17:\n",
    "            return \"Afternoon\"\n",
    "        elif 17 <= hour < 21:\n",
    "            return \"Evening\"\n",
    "        else:\n",
    "            return \"Night\"\n",
    "    \n",
    "    df[\"TimeOfDay\"] = df[\"HourValue\"].apply(time_of_day)\n",
    "    \n",
    "    # Drop columns you no longer need\n",
    "    df.drop(columns=[col, \"DateReported_dt\", \"HourValue\"], inplace=True)\n",
    "    \n",
    "    return df\n",
    "\n",
    "# Example usage:\n",
    "df = convert_and_categorize_datereported(df)\n",
    "df.head()\n"
   ]
  },
  {
   "cell_type": "code",
   "execution_count": 8,
   "id": "975ded07",
   "metadata": {
    "execution": {
     "iopub.execute_input": "2025-04-24T01:01:51.473542Z",
     "iopub.status.busy": "2025-04-24T01:01:51.473103Z",
     "iopub.status.idle": "2025-04-24T01:01:51.502259Z",
     "shell.execute_reply": "2025-04-24T01:01:51.501659Z"
    },
    "papermill": {
     "duration": 0.036921,
     "end_time": "2025-04-24T01:01:51.503321",
     "exception": false,
     "start_time": "2025-04-24T01:01:51.466400",
     "status": "completed"
    },
    "tags": []
   },
   "outputs": [
    {
     "name": "stdout",
     "output_type": "stream",
     "text": [
      "<class 'pandas.core.frame.DataFrame'>\n",
      "RangeIndex: 25259 entries, 0 to 25258\n",
      "Data columns (total 15 columns):\n",
      " #   Column            Non-Null Count  Dtype         \n",
      "---  ------            --------------  -----         \n",
      " 0   RecordID          25259 non-null  int64         \n",
      " 1   Offense           25259 non-null  object        \n",
      " 2   IncidentID        25259 non-null  object        \n",
      " 3   BlockNumber       25259 non-null  object        \n",
      " 4   StreetName        25259 non-null  object        \n",
      " 5   Agency            25259 non-null  object        \n",
      " 6   HourReported      25259 non-null  object        \n",
      " 7   ReportingOfficer  25242 non-null  object        \n",
      " 8   Date              25259 non-null  datetime64[ns]\n",
      " 9   DateString        25259 non-null  object        \n",
      " 10  DayOfWeek         25259 non-null  object        \n",
      " 11  Weekend           25259 non-null  bool          \n",
      " 12  Season            25259 non-null  object        \n",
      " 13  HourAMPM          25259 non-null  object        \n",
      " 14  TimeOfDay         25259 non-null  object        \n",
      "dtypes: bool(1), datetime64[ns](1), int64(1), object(12)\n",
      "memory usage: 2.7+ MB\n"
     ]
    }
   ],
   "source": [
    "df.info()"
   ]
  },
  {
   "cell_type": "markdown",
   "id": "7ab96e8b",
   "metadata": {
    "papermill": {
     "duration": 0.005998,
     "end_time": "2025-04-24T01:01:51.515417",
     "exception": false,
     "start_time": "2025-04-24T01:01:51.509419",
     "status": "completed"
    },
    "tags": []
   },
   "source": [
    "### Coordinates"
   ]
  },
  {
   "cell_type": "code",
   "execution_count": 9,
   "id": "dd2028b4",
   "metadata": {
    "execution": {
     "iopub.execute_input": "2025-04-24T01:01:51.528449Z",
     "iopub.status.busy": "2025-04-24T01:01:51.527938Z",
     "iopub.status.idle": "2025-04-24T01:01:51.908052Z",
     "shell.execute_reply": "2025-04-24T01:01:51.907466Z"
    },
    "papermill": {
     "duration": 0.387782,
     "end_time": "2025-04-24T01:01:51.909045",
     "exception": false,
     "start_time": "2025-04-24T01:01:51.521263",
     "status": "completed"
    },
    "tags": []
   },
   "outputs": [
    {
     "name": "stdout",
     "output_type": "stream",
     "text": [
      "Loaded geocode cache.\n"
     ]
    },
    {
     "name": "stdout",
     "output_type": "stream",
     "text": [
      "Geocoded 2400 ARLINGTON BLVD, 67: 38.0496959, -78.5074325\n"
     ]
    },
    {
     "name": "stdout",
     "output_type": "stream",
     "text": [
      "Geocoded 400 MONTGOMERY AVE: 38.0301826, -78.4769353\n",
      "Geocode cache updated and saved.\n"
     ]
    },
    {
     "data": {
      "text/html": [
       "<div>\n",
       "<style scoped>\n",
       "    .dataframe tbody tr th:only-of-type {\n",
       "        vertical-align: middle;\n",
       "    }\n",
       "\n",
       "    .dataframe tbody tr th {\n",
       "        vertical-align: top;\n",
       "    }\n",
       "\n",
       "    .dataframe thead th {\n",
       "        text-align: right;\n",
       "    }\n",
       "</style>\n",
       "<table border=\"1\" class=\"dataframe\">\n",
       "  <thead>\n",
       "    <tr style=\"text-align: right;\">\n",
       "      <th></th>\n",
       "      <th>RecordID</th>\n",
       "      <th>Offense</th>\n",
       "      <th>IncidentID</th>\n",
       "      <th>BlockNumber</th>\n",
       "      <th>StreetName</th>\n",
       "      <th>Agency</th>\n",
       "      <th>HourReported</th>\n",
       "      <th>ReportingOfficer</th>\n",
       "      <th>Date</th>\n",
       "      <th>DateString</th>\n",
       "      <th>DayOfWeek</th>\n",
       "      <th>Weekend</th>\n",
       "      <th>Season</th>\n",
       "      <th>HourAMPM</th>\n",
       "      <th>TimeOfDay</th>\n",
       "      <th>FullStreet</th>\n",
       "      <th>lat</th>\n",
       "      <th>lon</th>\n",
       "    </tr>\n",
       "  </thead>\n",
       "  <tbody>\n",
       "    <tr>\n",
       "      <th>0</th>\n",
       "      <td>1</td>\n",
       "      <td>Hit and Run</td>\n",
       "      <td>202500013032</td>\n",
       "      <td>1200</td>\n",
       "      <td>LANDONIA CIR</td>\n",
       "      <td>CPD</td>\n",
       "      <td>1946</td>\n",
       "      <td>Bland, Johnnà</td>\n",
       "      <td>2025-04-21 19:46:17</td>\n",
       "      <td>2025-04-21 07:46:17 PM</td>\n",
       "      <td>Monday</td>\n",
       "      <td>False</td>\n",
       "      <td>Spring</td>\n",
       "      <td>07:46 PM</td>\n",
       "      <td>Evening</td>\n",
       "      <td>1200 LANDONIA CIR</td>\n",
       "      <td>38.036729</td>\n",
       "      <td>-78.461762</td>\n",
       "    </tr>\n",
       "    <tr>\n",
       "      <th>1</th>\n",
       "      <td>2</td>\n",
       "      <td>Vandalism</td>\n",
       "      <td>202500012997</td>\n",
       "      <td>200</td>\n",
       "      <td>CARLTON RD</td>\n",
       "      <td>CPD</td>\n",
       "      <td>1611</td>\n",
       "      <td>Prevost, Payten</td>\n",
       "      <td>2025-04-21 16:11:40</td>\n",
       "      <td>2025-04-21 04:11:40 PM</td>\n",
       "      <td>Monday</td>\n",
       "      <td>False</td>\n",
       "      <td>Spring</td>\n",
       "      <td>04:11 PM</td>\n",
       "      <td>Afternoon</td>\n",
       "      <td>200 CARLTON RD</td>\n",
       "      <td>38.023631</td>\n",
       "      <td>-78.468700</td>\n",
       "    </tr>\n",
       "    <tr>\n",
       "      <th>2</th>\n",
       "      <td>3</td>\n",
       "      <td>Suspicious Activity</td>\n",
       "      <td>202500012990</td>\n",
       "      <td>100</td>\n",
       "      <td>MADISON LN</td>\n",
       "      <td>CPD</td>\n",
       "      <td>1535</td>\n",
       "      <td>Handy, Russell</td>\n",
       "      <td>2025-04-21 15:35:37</td>\n",
       "      <td>2025-04-21 03:35:37 PM</td>\n",
       "      <td>Monday</td>\n",
       "      <td>False</td>\n",
       "      <td>Spring</td>\n",
       "      <td>03:35 PM</td>\n",
       "      <td>Afternoon</td>\n",
       "      <td>100 MADISON LN</td>\n",
       "      <td>38.036405</td>\n",
       "      <td>-78.502395</td>\n",
       "    </tr>\n",
       "    <tr>\n",
       "      <th>3</th>\n",
       "      <td>4</td>\n",
       "      <td>Larceny - From Motor Vehicle</td>\n",
       "      <td>202500012971</td>\n",
       "      <td>400</td>\n",
       "      <td>W MAIN ST</td>\n",
       "      <td>CPD</td>\n",
       "      <td>1041</td>\n",
       "      <td>Kirby, Tyree</td>\n",
       "      <td>2025-04-21 10:41:51</td>\n",
       "      <td>2025-04-21 10:41:51 AM</td>\n",
       "      <td>Monday</td>\n",
       "      <td>False</td>\n",
       "      <td>Spring</td>\n",
       "      <td>10:41 AM</td>\n",
       "      <td>Morning</td>\n",
       "      <td>400 W MAIN ST</td>\n",
       "      <td>38.030441</td>\n",
       "      <td>-78.486715</td>\n",
       "    </tr>\n",
       "    <tr>\n",
       "      <th>4</th>\n",
       "      <td>5</td>\n",
       "      <td>Assist Citizen - Welfare Check</td>\n",
       "      <td>202500012970</td>\n",
       "      <td>2400</td>\n",
       "      <td>ARLINGTON BLVD, 67</td>\n",
       "      <td>CPD</td>\n",
       "      <td>1023</td>\n",
       "      <td>Wisser, Shawn</td>\n",
       "      <td>2025-04-21 10:23:30</td>\n",
       "      <td>2025-04-21 10:23:30 AM</td>\n",
       "      <td>Monday</td>\n",
       "      <td>False</td>\n",
       "      <td>Spring</td>\n",
       "      <td>10:23 AM</td>\n",
       "      <td>Morning</td>\n",
       "      <td>2400 ARLINGTON BLVD, 67</td>\n",
       "      <td>38.049696</td>\n",
       "      <td>-78.507432</td>\n",
       "    </tr>\n",
       "  </tbody>\n",
       "</table>\n",
       "</div>"
      ],
      "text/plain": [
       "   RecordID                         Offense    IncidentID BlockNumber  \\\n",
       "0         1                     Hit and Run  202500013032        1200   \n",
       "1         2                       Vandalism  202500012997         200   \n",
       "2         3             Suspicious Activity  202500012990         100   \n",
       "3         4    Larceny - From Motor Vehicle  202500012971         400   \n",
       "4         5  Assist Citizen - Welfare Check  202500012970        2400   \n",
       "\n",
       "           StreetName Agency HourReported ReportingOfficer  \\\n",
       "0        LANDONIA CIR    CPD         1946    Bland, Johnnà   \n",
       "1          CARLTON RD    CPD         1611  Prevost, Payten   \n",
       "2          MADISON LN    CPD         1535   Handy, Russell   \n",
       "3           W MAIN ST    CPD         1041     Kirby, Tyree   \n",
       "4  ARLINGTON BLVD, 67    CPD         1023    Wisser, Shawn   \n",
       "\n",
       "                 Date              DateString DayOfWeek  Weekend  Season  \\\n",
       "0 2025-04-21 19:46:17  2025-04-21 07:46:17 PM    Monday    False  Spring   \n",
       "1 2025-04-21 16:11:40  2025-04-21 04:11:40 PM    Monday    False  Spring   \n",
       "2 2025-04-21 15:35:37  2025-04-21 03:35:37 PM    Monday    False  Spring   \n",
       "3 2025-04-21 10:41:51  2025-04-21 10:41:51 AM    Monday    False  Spring   \n",
       "4 2025-04-21 10:23:30  2025-04-21 10:23:30 AM    Monday    False  Spring   \n",
       "\n",
       "   HourAMPM  TimeOfDay               FullStreet        lat        lon  \n",
       "0  07:46 PM    Evening        1200 LANDONIA CIR  38.036729 -78.461762  \n",
       "1  04:11 PM  Afternoon           200 CARLTON RD  38.023631 -78.468700  \n",
       "2  03:35 PM  Afternoon           100 MADISON LN  38.036405 -78.502395  \n",
       "3  10:41 AM    Morning            400 W MAIN ST  38.030441 -78.486715  \n",
       "4  10:23 AM    Morning  2400 ARLINGTON BLVD, 67  38.049696 -78.507432  "
      ]
     },
     "execution_count": 9,
     "metadata": {},
     "output_type": "execute_result"
    }
   ],
   "source": [
    "# Combine BlockNumber and StreetName into a full address string\n",
    "df['FullStreet'] = df['BlockNumber'].astype(str) + \" \" + df['StreetName']\n",
    "\n",
    "# --- Step 1: Setup the Google Maps Client and Cache ---\n",
    "gmaps = googlemaps.Client(key=GOOGLE_API_KEY)\n",
    "\n",
    "# Try to load cached geocoding results if available.\n",
    "try:\n",
    "    with open(\"geocode_cache_google.pkl\", \"rb\") as f:\n",
    "        street_coords = pickle.load(f)\n",
    "    print(\"Loaded geocode cache.\")\n",
    "except FileNotFoundError:\n",
    "    street_coords = {}\n",
    "    print(\"No cache found; starting fresh.\")\n",
    "\n",
    "def geocode_address(address):\n",
    "    try:\n",
    "        # Append city and state to help geocoding\n",
    "        result = gmaps.geocode(f\"{address}, Charlottesville, VA\")\n",
    "        if result:\n",
    "            lat = result[0]['geometry']['location']['lat']\n",
    "            lon = result[0]['geometry']['location']['lng']\n",
    "            return lat, lon\n",
    "    except Exception as e:\n",
    "        print(f\"Error geocoding {address}: {e}\")\n",
    "    return None, None\n",
    "\n",
    "# --- Step 2: Geocode Only New Addresses ---\n",
    "unique_addresses = df['FullStreet'].unique()\n",
    "for address in unique_addresses:\n",
    "    if address not in street_coords:\n",
    "        lat, lon = geocode_address(address)\n",
    "        street_coords[address] = (lat, lon)\n",
    "        print(f\"Geocoded {address}: {lat}, {lon}\")\n",
    "\n",
    "# Save the updated cache to disk.\n",
    "with open(\"geocode_cache_google.pkl\", \"wb\") as f:\n",
    "    pickle.dump(street_coords, f)\n",
    "    print(\"Geocode cache updated and saved.\")\n",
    "\n",
    "# --- Step 3: Map Coordinates Back to DataFrame ---\n",
    "df['lat'] = df['FullStreet'].map(lambda s: street_coords.get(s, (None, None))[0])\n",
    "df['lon'] = df['FullStreet'].map(lambda s: street_coords.get(s, (None, None))[1])\n",
    "\n",
    "df.head()"
   ]
  },
  {
   "cell_type": "markdown",
   "id": "4c47242e",
   "metadata": {
    "papermill": {
     "duration": 0.006349,
     "end_time": "2025-04-24T01:01:51.921992",
     "exception": false,
     "start_time": "2025-04-24T01:01:51.915643",
     "status": "completed"
    },
    "tags": []
   },
   "source": [
    "### Neighborhood"
   ]
  },
  {
   "cell_type": "code",
   "execution_count": 10,
   "id": "4fe58e28",
   "metadata": {
    "execution": {
     "iopub.execute_input": "2025-04-24T01:01:51.936102Z",
     "iopub.status.busy": "2025-04-24T01:01:51.935667Z",
     "iopub.status.idle": "2025-04-24T01:01:52.334447Z",
     "shell.execute_reply": "2025-04-24T01:01:52.333784Z"
    },
    "papermill": {
     "duration": 0.406937,
     "end_time": "2025-04-24T01:01:52.335568",
     "exception": false,
     "start_time": "2025-04-24T01:01:51.928631",
     "status": "completed"
    },
    "tags": []
   },
   "outputs": [
    {
     "name": "stdout",
     "output_type": "stream",
     "text": [
      "Loaded neighborhood cache.\n"
     ]
    },
    {
     "data": {
      "text/html": [
       "<div>\n",
       "<style scoped>\n",
       "    .dataframe tbody tr th:only-of-type {\n",
       "        vertical-align: middle;\n",
       "    }\n",
       "\n",
       "    .dataframe tbody tr th {\n",
       "        vertical-align: top;\n",
       "    }\n",
       "\n",
       "    .dataframe thead th {\n",
       "        text-align: right;\n",
       "    }\n",
       "</style>\n",
       "<table border=\"1\" class=\"dataframe\">\n",
       "  <thead>\n",
       "    <tr style=\"text-align: right;\">\n",
       "      <th></th>\n",
       "      <th>RecordID</th>\n",
       "      <th>Offense</th>\n",
       "      <th>IncidentID</th>\n",
       "      <th>BlockNumber</th>\n",
       "      <th>StreetName</th>\n",
       "      <th>Agency</th>\n",
       "      <th>HourReported</th>\n",
       "      <th>ReportingOfficer</th>\n",
       "      <th>Date</th>\n",
       "      <th>DateString</th>\n",
       "      <th>DayOfWeek</th>\n",
       "      <th>Weekend</th>\n",
       "      <th>Season</th>\n",
       "      <th>HourAMPM</th>\n",
       "      <th>TimeOfDay</th>\n",
       "      <th>FullStreet</th>\n",
       "      <th>lat</th>\n",
       "      <th>lon</th>\n",
       "      <th>neighborhood</th>\n",
       "    </tr>\n",
       "  </thead>\n",
       "  <tbody>\n",
       "    <tr>\n",
       "      <th>0</th>\n",
       "      <td>1</td>\n",
       "      <td>Hit and Run</td>\n",
       "      <td>202500013032</td>\n",
       "      <td>1200</td>\n",
       "      <td>LANDONIA CIR</td>\n",
       "      <td>CPD</td>\n",
       "      <td>1946</td>\n",
       "      <td>Bland, Johnnà</td>\n",
       "      <td>2025-04-21 19:46:17</td>\n",
       "      <td>2025-04-21 07:46:17 PM</td>\n",
       "      <td>Monday</td>\n",
       "      <td>False</td>\n",
       "      <td>Spring</td>\n",
       "      <td>07:46 PM</td>\n",
       "      <td>Evening</td>\n",
       "      <td>1200 LANDONIA CIR</td>\n",
       "      <td>38.036729</td>\n",
       "      <td>-78.461762</td>\n",
       "      <td>Locust Grove</td>\n",
       "    </tr>\n",
       "    <tr>\n",
       "      <th>1</th>\n",
       "      <td>2</td>\n",
       "      <td>Vandalism</td>\n",
       "      <td>202500012997</td>\n",
       "      <td>200</td>\n",
       "      <td>CARLTON RD</td>\n",
       "      <td>CPD</td>\n",
       "      <td>1611</td>\n",
       "      <td>Prevost, Payten</td>\n",
       "      <td>2025-04-21 16:11:40</td>\n",
       "      <td>2025-04-21 04:11:40 PM</td>\n",
       "      <td>Monday</td>\n",
       "      <td>False</td>\n",
       "      <td>Spring</td>\n",
       "      <td>04:11 PM</td>\n",
       "      <td>Afternoon</td>\n",
       "      <td>200 CARLTON RD</td>\n",
       "      <td>38.023631</td>\n",
       "      <td>-78.468700</td>\n",
       "      <td>Belmont</td>\n",
       "    </tr>\n",
       "    <tr>\n",
       "      <th>2</th>\n",
       "      <td>3</td>\n",
       "      <td>Suspicious Activity</td>\n",
       "      <td>202500012990</td>\n",
       "      <td>100</td>\n",
       "      <td>MADISON LN</td>\n",
       "      <td>CPD</td>\n",
       "      <td>1535</td>\n",
       "      <td>Handy, Russell</td>\n",
       "      <td>2025-04-21 15:35:37</td>\n",
       "      <td>2025-04-21 03:35:37 PM</td>\n",
       "      <td>Monday</td>\n",
       "      <td>False</td>\n",
       "      <td>Spring</td>\n",
       "      <td>03:35 PM</td>\n",
       "      <td>Afternoon</td>\n",
       "      <td>100 MADISON LN</td>\n",
       "      <td>38.036405</td>\n",
       "      <td>-78.502395</td>\n",
       "      <td>Venable</td>\n",
       "    </tr>\n",
       "    <tr>\n",
       "      <th>3</th>\n",
       "      <td>4</td>\n",
       "      <td>Larceny - From Motor Vehicle</td>\n",
       "      <td>202500012971</td>\n",
       "      <td>400</td>\n",
       "      <td>W MAIN ST</td>\n",
       "      <td>CPD</td>\n",
       "      <td>1041</td>\n",
       "      <td>Kirby, Tyree</td>\n",
       "      <td>2025-04-21 10:41:51</td>\n",
       "      <td>2025-04-21 10:41:51 AM</td>\n",
       "      <td>Monday</td>\n",
       "      <td>False</td>\n",
       "      <td>Spring</td>\n",
       "      <td>10:41 AM</td>\n",
       "      <td>Morning</td>\n",
       "      <td>400 W MAIN ST</td>\n",
       "      <td>38.030441</td>\n",
       "      <td>-78.486715</td>\n",
       "      <td>Starr Hill</td>\n",
       "    </tr>\n",
       "    <tr>\n",
       "      <th>4</th>\n",
       "      <td>5</td>\n",
       "      <td>Assist Citizen - Welfare Check</td>\n",
       "      <td>202500012970</td>\n",
       "      <td>2400</td>\n",
       "      <td>ARLINGTON BLVD, 67</td>\n",
       "      <td>CPD</td>\n",
       "      <td>1023</td>\n",
       "      <td>Wisser, Shawn</td>\n",
       "      <td>2025-04-21 10:23:30</td>\n",
       "      <td>2025-04-21 10:23:30 AM</td>\n",
       "      <td>Monday</td>\n",
       "      <td>False</td>\n",
       "      <td>Spring</td>\n",
       "      <td>10:23 AM</td>\n",
       "      <td>Morning</td>\n",
       "      <td>2400 ARLINGTON BLVD, 67</td>\n",
       "      <td>38.049696</td>\n",
       "      <td>-78.507432</td>\n",
       "      <td>Barracks Road</td>\n",
       "    </tr>\n",
       "  </tbody>\n",
       "</table>\n",
       "</div>"
      ],
      "text/plain": [
       "   RecordID                         Offense    IncidentID BlockNumber  \\\n",
       "0         1                     Hit and Run  202500013032        1200   \n",
       "1         2                       Vandalism  202500012997         200   \n",
       "2         3             Suspicious Activity  202500012990         100   \n",
       "3         4    Larceny - From Motor Vehicle  202500012971         400   \n",
       "4         5  Assist Citizen - Welfare Check  202500012970        2400   \n",
       "\n",
       "           StreetName Agency HourReported ReportingOfficer  \\\n",
       "0        LANDONIA CIR    CPD         1946    Bland, Johnnà   \n",
       "1          CARLTON RD    CPD         1611  Prevost, Payten   \n",
       "2          MADISON LN    CPD         1535   Handy, Russell   \n",
       "3           W MAIN ST    CPD         1041     Kirby, Tyree   \n",
       "4  ARLINGTON BLVD, 67    CPD         1023    Wisser, Shawn   \n",
       "\n",
       "                 Date              DateString DayOfWeek  Weekend  Season  \\\n",
       "0 2025-04-21 19:46:17  2025-04-21 07:46:17 PM    Monday    False  Spring   \n",
       "1 2025-04-21 16:11:40  2025-04-21 04:11:40 PM    Monday    False  Spring   \n",
       "2 2025-04-21 15:35:37  2025-04-21 03:35:37 PM    Monday    False  Spring   \n",
       "3 2025-04-21 10:41:51  2025-04-21 10:41:51 AM    Monday    False  Spring   \n",
       "4 2025-04-21 10:23:30  2025-04-21 10:23:30 AM    Monday    False  Spring   \n",
       "\n",
       "   HourAMPM  TimeOfDay               FullStreet        lat        lon  \\\n",
       "0  07:46 PM    Evening        1200 LANDONIA CIR  38.036729 -78.461762   \n",
       "1  04:11 PM  Afternoon           200 CARLTON RD  38.023631 -78.468700   \n",
       "2  03:35 PM  Afternoon           100 MADISON LN  38.036405 -78.502395   \n",
       "3  10:41 AM    Morning            400 W MAIN ST  38.030441 -78.486715   \n",
       "4  10:23 AM    Morning  2400 ARLINGTON BLVD, 67  38.049696 -78.507432   \n",
       "\n",
       "    neighborhood  \n",
       "0   Locust Grove  \n",
       "1        Belmont  \n",
       "2        Venable  \n",
       "3     Starr Hill  \n",
       "4  Barracks Road  "
      ]
     },
     "execution_count": 10,
     "metadata": {},
     "output_type": "execute_result"
    }
   ],
   "source": [
    "# Initialize the Google Maps client.\n",
    "gmaps = googlemaps.Client(key=GOOGLE_API_KEY)\n",
    "\n",
    "# Try to load a persistent neighborhood cache if available.\n",
    "try:\n",
    "    with open(\"neighborhood_cache.pkl\", \"rb\") as f:\n",
    "        neighborhood_cache = pickle.load(f)\n",
    "    print(\"Loaded neighborhood cache.\")\n",
    "except FileNotFoundError:\n",
    "    neighborhood_cache = {}\n",
    "    print(\"No neighborhood cache found; starting fresh.\")\n",
    "\n",
    "def get_neighborhood(lat, lon):\n",
    "    \"\"\"\n",
    "    Reverse geocodes a latitude and longitude to retrieve the neighborhood.\n",
    "    Caches results to speed up subsequent lookups.\n",
    "    \"\"\"\n",
    "    key = (lat, lon)\n",
    "    if key in neighborhood_cache:\n",
    "        return neighborhood_cache[key]\n",
    "    \n",
    "    try:\n",
    "        result = gmaps.reverse_geocode((lat, lon))\n",
    "        if result:\n",
    "            # Look for the 'neighborhood' component in the first result.\n",
    "            for component in result[0]['address_components']:\n",
    "                if 'neighborhood' in component['types']:\n",
    "                    neighborhood = component['long_name']\n",
    "                    neighborhood_cache[key] = neighborhood\n",
    "                    return neighborhood\n",
    "            # If no neighborhood is found, return \"N/A\"\n",
    "            neighborhood_cache[key] = \"N/A\"\n",
    "            return \"N/A\"\n",
    "    except Exception as e:\n",
    "        print(f\"Error getting neighborhood for {lat}, {lon}: {e}\")\n",
    "        return \"N/A\"\n",
    "    \n",
    "    # Pause to respect usage limits.\n",
    "    time.sleep(1)\n",
    "\n",
    "# Example usage: Apply to your DataFrame 'df' that already has 'lat' and 'lon' columns.\n",
    "df['neighborhood'] = df.apply(lambda row: get_neighborhood(row['lat'], row['lon']), axis=1)\n",
    "\n",
    "# Save the updated neighborhood cache.\n",
    "with open(\"neighborhood_cache.pkl\", \"wb\") as f:\n",
    "    pickle.dump(neighborhood_cache, f)\n",
    "\n",
    "df.head()\n"
   ]
  },
  {
   "cell_type": "markdown",
   "id": "899ac2f0",
   "metadata": {
    "papermill": {
     "duration": 0.006671,
     "end_time": "2025-04-24T01:01:52.349148",
     "exception": false,
     "start_time": "2025-04-24T01:01:52.342477",
     "status": "completed"
    },
    "tags": []
   },
   "source": [
    "### Zip"
   ]
  },
  {
   "cell_type": "code",
   "execution_count": 11,
   "id": "fea6160e",
   "metadata": {
    "execution": {
     "iopub.execute_input": "2025-04-24T01:01:52.363718Z",
     "iopub.status.busy": "2025-04-24T01:01:52.363256Z",
     "iopub.status.idle": "2025-04-24T01:01:52.604379Z",
     "shell.execute_reply": "2025-04-24T01:01:52.603782Z"
    },
    "papermill": {
     "duration": 0.249633,
     "end_time": "2025-04-24T01:01:52.605418",
     "exception": false,
     "start_time": "2025-04-24T01:01:52.355785",
     "status": "completed"
    },
    "tags": []
   },
   "outputs": [
    {
     "name": "stdout",
     "output_type": "stream",
     "text": [
      "Loaded zip cache.\n"
     ]
    },
    {
     "data": {
      "text/html": [
       "<div>\n",
       "<style scoped>\n",
       "    .dataframe tbody tr th:only-of-type {\n",
       "        vertical-align: middle;\n",
       "    }\n",
       "\n",
       "    .dataframe tbody tr th {\n",
       "        vertical-align: top;\n",
       "    }\n",
       "\n",
       "    .dataframe thead th {\n",
       "        text-align: right;\n",
       "    }\n",
       "</style>\n",
       "<table border=\"1\" class=\"dataframe\">\n",
       "  <thead>\n",
       "    <tr style=\"text-align: right;\">\n",
       "      <th></th>\n",
       "      <th>RecordID</th>\n",
       "      <th>Offense</th>\n",
       "      <th>IncidentID</th>\n",
       "      <th>BlockNumber</th>\n",
       "      <th>StreetName</th>\n",
       "      <th>Agency</th>\n",
       "      <th>HourReported</th>\n",
       "      <th>ReportingOfficer</th>\n",
       "      <th>Date</th>\n",
       "      <th>DateString</th>\n",
       "      <th>DayOfWeek</th>\n",
       "      <th>Weekend</th>\n",
       "      <th>Season</th>\n",
       "      <th>HourAMPM</th>\n",
       "      <th>TimeOfDay</th>\n",
       "      <th>FullStreet</th>\n",
       "      <th>lat</th>\n",
       "      <th>lon</th>\n",
       "      <th>neighborhood</th>\n",
       "      <th>zip</th>\n",
       "    </tr>\n",
       "  </thead>\n",
       "  <tbody>\n",
       "    <tr>\n",
       "      <th>0</th>\n",
       "      <td>1</td>\n",
       "      <td>Hit and Run</td>\n",
       "      <td>202500013032</td>\n",
       "      <td>1200</td>\n",
       "      <td>LANDONIA CIR</td>\n",
       "      <td>CPD</td>\n",
       "      <td>1946</td>\n",
       "      <td>Bland, Johnnà</td>\n",
       "      <td>2025-04-21 19:46:17</td>\n",
       "      <td>2025-04-21 07:46:17 PM</td>\n",
       "      <td>Monday</td>\n",
       "      <td>False</td>\n",
       "      <td>Spring</td>\n",
       "      <td>07:46 PM</td>\n",
       "      <td>Evening</td>\n",
       "      <td>1200 LANDONIA CIR</td>\n",
       "      <td>38.036729</td>\n",
       "      <td>-78.461762</td>\n",
       "      <td>Locust Grove</td>\n",
       "      <td>22901</td>\n",
       "    </tr>\n",
       "    <tr>\n",
       "      <th>1</th>\n",
       "      <td>2</td>\n",
       "      <td>Vandalism</td>\n",
       "      <td>202500012997</td>\n",
       "      <td>200</td>\n",
       "      <td>CARLTON RD</td>\n",
       "      <td>CPD</td>\n",
       "      <td>1611</td>\n",
       "      <td>Prevost, Payten</td>\n",
       "      <td>2025-04-21 16:11:40</td>\n",
       "      <td>2025-04-21 04:11:40 PM</td>\n",
       "      <td>Monday</td>\n",
       "      <td>False</td>\n",
       "      <td>Spring</td>\n",
       "      <td>04:11 PM</td>\n",
       "      <td>Afternoon</td>\n",
       "      <td>200 CARLTON RD</td>\n",
       "      <td>38.023631</td>\n",
       "      <td>-78.468700</td>\n",
       "      <td>Belmont</td>\n",
       "      <td>22902</td>\n",
       "    </tr>\n",
       "    <tr>\n",
       "      <th>2</th>\n",
       "      <td>3</td>\n",
       "      <td>Suspicious Activity</td>\n",
       "      <td>202500012990</td>\n",
       "      <td>100</td>\n",
       "      <td>MADISON LN</td>\n",
       "      <td>CPD</td>\n",
       "      <td>1535</td>\n",
       "      <td>Handy, Russell</td>\n",
       "      <td>2025-04-21 15:35:37</td>\n",
       "      <td>2025-04-21 03:35:37 PM</td>\n",
       "      <td>Monday</td>\n",
       "      <td>False</td>\n",
       "      <td>Spring</td>\n",
       "      <td>03:35 PM</td>\n",
       "      <td>Afternoon</td>\n",
       "      <td>100 MADISON LN</td>\n",
       "      <td>38.036405</td>\n",
       "      <td>-78.502395</td>\n",
       "      <td>Venable</td>\n",
       "      <td>22903</td>\n",
       "    </tr>\n",
       "    <tr>\n",
       "      <th>3</th>\n",
       "      <td>4</td>\n",
       "      <td>Larceny - From Motor Vehicle</td>\n",
       "      <td>202500012971</td>\n",
       "      <td>400</td>\n",
       "      <td>W MAIN ST</td>\n",
       "      <td>CPD</td>\n",
       "      <td>1041</td>\n",
       "      <td>Kirby, Tyree</td>\n",
       "      <td>2025-04-21 10:41:51</td>\n",
       "      <td>2025-04-21 10:41:51 AM</td>\n",
       "      <td>Monday</td>\n",
       "      <td>False</td>\n",
       "      <td>Spring</td>\n",
       "      <td>10:41 AM</td>\n",
       "      <td>Morning</td>\n",
       "      <td>400 W MAIN ST</td>\n",
       "      <td>38.030441</td>\n",
       "      <td>-78.486715</td>\n",
       "      <td>Starr Hill</td>\n",
       "      <td>22908</td>\n",
       "    </tr>\n",
       "    <tr>\n",
       "      <th>4</th>\n",
       "      <td>5</td>\n",
       "      <td>Assist Citizen - Welfare Check</td>\n",
       "      <td>202500012970</td>\n",
       "      <td>2400</td>\n",
       "      <td>ARLINGTON BLVD, 67</td>\n",
       "      <td>CPD</td>\n",
       "      <td>1023</td>\n",
       "      <td>Wisser, Shawn</td>\n",
       "      <td>2025-04-21 10:23:30</td>\n",
       "      <td>2025-04-21 10:23:30 AM</td>\n",
       "      <td>Monday</td>\n",
       "      <td>False</td>\n",
       "      <td>Spring</td>\n",
       "      <td>10:23 AM</td>\n",
       "      <td>Morning</td>\n",
       "      <td>2400 ARLINGTON BLVD, 67</td>\n",
       "      <td>38.049696</td>\n",
       "      <td>-78.507432</td>\n",
       "      <td>Barracks Road</td>\n",
       "      <td>22905</td>\n",
       "    </tr>\n",
       "  </tbody>\n",
       "</table>\n",
       "</div>"
      ],
      "text/plain": [
       "   RecordID                         Offense    IncidentID BlockNumber  \\\n",
       "0         1                     Hit and Run  202500013032        1200   \n",
       "1         2                       Vandalism  202500012997         200   \n",
       "2         3             Suspicious Activity  202500012990         100   \n",
       "3         4    Larceny - From Motor Vehicle  202500012971         400   \n",
       "4         5  Assist Citizen - Welfare Check  202500012970        2400   \n",
       "\n",
       "           StreetName Agency HourReported ReportingOfficer  \\\n",
       "0        LANDONIA CIR    CPD         1946    Bland, Johnnà   \n",
       "1          CARLTON RD    CPD         1611  Prevost, Payten   \n",
       "2          MADISON LN    CPD         1535   Handy, Russell   \n",
       "3           W MAIN ST    CPD         1041     Kirby, Tyree   \n",
       "4  ARLINGTON BLVD, 67    CPD         1023    Wisser, Shawn   \n",
       "\n",
       "                 Date              DateString DayOfWeek  Weekend  Season  \\\n",
       "0 2025-04-21 19:46:17  2025-04-21 07:46:17 PM    Monday    False  Spring   \n",
       "1 2025-04-21 16:11:40  2025-04-21 04:11:40 PM    Monday    False  Spring   \n",
       "2 2025-04-21 15:35:37  2025-04-21 03:35:37 PM    Monday    False  Spring   \n",
       "3 2025-04-21 10:41:51  2025-04-21 10:41:51 AM    Monday    False  Spring   \n",
       "4 2025-04-21 10:23:30  2025-04-21 10:23:30 AM    Monday    False  Spring   \n",
       "\n",
       "   HourAMPM  TimeOfDay               FullStreet        lat        lon  \\\n",
       "0  07:46 PM    Evening        1200 LANDONIA CIR  38.036729 -78.461762   \n",
       "1  04:11 PM  Afternoon           200 CARLTON RD  38.023631 -78.468700   \n",
       "2  03:35 PM  Afternoon           100 MADISON LN  38.036405 -78.502395   \n",
       "3  10:41 AM    Morning            400 W MAIN ST  38.030441 -78.486715   \n",
       "4  10:23 AM    Morning  2400 ARLINGTON BLVD, 67  38.049696 -78.507432   \n",
       "\n",
       "    neighborhood    zip  \n",
       "0   Locust Grove  22901  \n",
       "1        Belmont  22902  \n",
       "2        Venable  22903  \n",
       "3     Starr Hill  22908  \n",
       "4  Barracks Road  22905  "
      ]
     },
     "execution_count": 11,
     "metadata": {},
     "output_type": "execute_result"
    }
   ],
   "source": [
    "# Initialize the geocoder.\n",
    "geolocator = Nominatim(user_agent=\"zip_lookup\")\n",
    "\n",
    "# Try to load a persistent ZIP cache if available.\n",
    "try:\n",
    "    with open(\"zip_cache.pkl\", \"rb\") as f:\n",
    "        zip_cache = pickle.load(f)\n",
    "    print(\"Loaded zip cache.\")\n",
    "except FileNotFoundError:\n",
    "    zip_cache = {}\n",
    "    print(\"No zip cache found; starting fresh.\")\n",
    "\n",
    "def get_zip(lat, lon):\n",
    "    \"\"\"\n",
    "    Reverse geocodes a latitude and longitude to retrieve the ZIP code.\n",
    "    Caches results to speed up subsequent lookups.\n",
    "    \"\"\"\n",
    "    key = (lat, lon)\n",
    "    if key in zip_cache:\n",
    "        return zip_cache[key]\n",
    "    \n",
    "    try:\n",
    "        location = geolocator.reverse((lat, lon), exactly_one=True, timeout=10)\n",
    "        address = location.raw.get('address', {})\n",
    "        postal_code = address.get('postcode', \"N/A\")\n",
    "    except Exception as e:\n",
    "        print(f\"Error getting ZIP for {lat}, {lon}: {e}\")\n",
    "        postal_code = \"N/A\"\n",
    "    \n",
    "    zip_cache[key] = postal_code\n",
    "    # Pause to respect the usage policy.\n",
    "    time.sleep(1)\n",
    "    return postal_code\n",
    "\n",
    "# Apply the function to each row in the DataFrame.\n",
    "df['zip'] = df.apply(lambda row: get_zip(row['lat'], row['lon']), axis=1)\n",
    "\n",
    "# Save the updated ZIP cache.\n",
    "with open(\"zip_cache.pkl\", \"wb\") as f:\n",
    "    pickle.dump(zip_cache, f)\n",
    "\n",
    "df.head()\n"
   ]
  },
  {
   "cell_type": "code",
   "execution_count": 12,
   "id": "1eadac60",
   "metadata": {
    "execution": {
     "iopub.execute_input": "2025-04-24T01:01:52.620578Z",
     "iopub.status.busy": "2025-04-24T01:01:52.620326Z",
     "iopub.status.idle": "2025-04-24T01:01:52.649368Z",
     "shell.execute_reply": "2025-04-24T01:01:52.648771Z"
    },
    "papermill": {
     "duration": 0.037699,
     "end_time": "2025-04-24T01:01:52.650411",
     "exception": false,
     "start_time": "2025-04-24T01:01:52.612712",
     "status": "completed"
    },
    "tags": []
   },
   "outputs": [
    {
     "name": "stdout",
     "output_type": "stream",
     "text": [
      "                  MissingCount  MissingPercentage\n",
      "RecordID                     0               0.00\n",
      "Offense                      0               0.00\n",
      "IncidentID                   0               0.00\n",
      "BlockNumber                  0               0.00\n",
      "StreetName                   0               0.00\n",
      "Agency                       0               0.00\n",
      "HourReported                 0               0.00\n",
      "ReportingOfficer            17               0.07\n",
      "Date                         0               0.00\n",
      "DateString                   0               0.00\n",
      "DayOfWeek                    0               0.00\n",
      "Weekend                      0               0.00\n",
      "Season                       0               0.00\n",
      "HourAMPM                     0               0.00\n",
      "TimeOfDay                    0               0.00\n",
      "FullStreet                   0               0.00\n",
      "lat                          0               0.00\n",
      "lon                          0               0.00\n",
      "neighborhood                 0               0.00\n",
      "zip                          0               0.00\n"
     ]
    }
   ],
   "source": [
    "missing_info = missing_percentage(df)\n",
    "print(missing_info)\n"
   ]
  },
  {
   "cell_type": "code",
   "execution_count": 13,
   "id": "08d5e47e",
   "metadata": {
    "execution": {
     "iopub.execute_input": "2025-04-24T01:01:52.665909Z",
     "iopub.status.busy": "2025-04-24T01:01:52.665415Z",
     "iopub.status.idle": "2025-04-24T01:01:52.695278Z",
     "shell.execute_reply": "2025-04-24T01:01:52.694675Z"
    },
    "papermill": {
     "duration": 0.038808,
     "end_time": "2025-04-24T01:01:52.696445",
     "exception": false,
     "start_time": "2025-04-24T01:01:52.657637",
     "status": "completed"
    },
    "tags": []
   },
   "outputs": [
    {
     "name": "stdout",
     "output_type": "stream",
     "text": [
      "<class 'pandas.core.frame.DataFrame'>\n",
      "RangeIndex: 25259 entries, 0 to 25258\n",
      "Data columns (total 20 columns):\n",
      " #   Column            Non-Null Count  Dtype         \n",
      "---  ------            --------------  -----         \n",
      " 0   RecordID          25259 non-null  int64         \n",
      " 1   Offense           25259 non-null  object        \n",
      " 2   IncidentID        25259 non-null  object        \n",
      " 3   BlockNumber       25259 non-null  object        \n",
      " 4   StreetName        25259 non-null  object        \n",
      " 5   Agency            25259 non-null  object        \n",
      " 6   HourReported      25259 non-null  object        \n",
      " 7   ReportingOfficer  25242 non-null  object        \n",
      " 8   Date              25259 non-null  datetime64[ns]\n",
      " 9   DateString        25259 non-null  object        \n",
      " 10  DayOfWeek         25259 non-null  object        \n",
      " 11  Weekend           25259 non-null  bool          \n",
      " 12  Season            25259 non-null  object        \n",
      " 13  HourAMPM          25259 non-null  object        \n",
      " 14  TimeOfDay         25259 non-null  object        \n",
      " 15  FullStreet        25259 non-null  object        \n",
      " 16  lat               25259 non-null  float64       \n",
      " 17  lon               25259 non-null  float64       \n",
      " 18  neighborhood      25259 non-null  object        \n",
      " 19  zip               25259 non-null  object        \n",
      "dtypes: bool(1), datetime64[ns](1), float64(2), int64(1), object(15)\n",
      "memory usage: 3.7+ MB\n"
     ]
    }
   ],
   "source": [
    "df.info()"
   ]
  },
  {
   "cell_type": "code",
   "execution_count": 14,
   "id": "52e840db",
   "metadata": {
    "execution": {
     "iopub.execute_input": "2025-04-24T01:01:52.711870Z",
     "iopub.status.busy": "2025-04-24T01:01:52.711598Z",
     "iopub.status.idle": "2025-04-24T01:01:52.756397Z",
     "shell.execute_reply": "2025-04-24T01:01:52.755701Z"
    },
    "papermill": {
     "duration": 0.053672,
     "end_time": "2025-04-24T01:01:52.757417",
     "exception": false,
     "start_time": "2025-04-24T01:01:52.703745",
     "status": "completed"
    },
    "tags": []
   },
   "outputs": [
    {
     "data": {
      "text/html": [
       "<div>\n",
       "<style scoped>\n",
       "    .dataframe tbody tr th:only-of-type {\n",
       "        vertical-align: middle;\n",
       "    }\n",
       "\n",
       "    .dataframe tbody tr th {\n",
       "        vertical-align: top;\n",
       "    }\n",
       "\n",
       "    .dataframe thead th {\n",
       "        text-align: right;\n",
       "    }\n",
       "</style>\n",
       "<table border=\"1\" class=\"dataframe\">\n",
       "  <thead>\n",
       "    <tr style=\"text-align: right;\">\n",
       "      <th></th>\n",
       "      <th>RecordID</th>\n",
       "      <th>Offense</th>\n",
       "      <th>IncidentID</th>\n",
       "      <th>Agency</th>\n",
       "      <th>ReportingOfficer</th>\n",
       "      <th>Date</th>\n",
       "      <th>DayOfWeek</th>\n",
       "      <th>Weekend</th>\n",
       "      <th>Season</th>\n",
       "      <th>TimeOfDay</th>\n",
       "      <th>FullStreet</th>\n",
       "      <th>lat</th>\n",
       "      <th>lon</th>\n",
       "      <th>neighborhood</th>\n",
       "      <th>zip</th>\n",
       "    </tr>\n",
       "  </thead>\n",
       "  <tbody>\n",
       "    <tr>\n",
       "      <th>0</th>\n",
       "      <td>1</td>\n",
       "      <td>Hit and Run</td>\n",
       "      <td>202500013032</td>\n",
       "      <td>CPD</td>\n",
       "      <td>Bland, Johnnà</td>\n",
       "      <td>2025-04-21 19:46:17</td>\n",
       "      <td>Monday</td>\n",
       "      <td>False</td>\n",
       "      <td>Spring</td>\n",
       "      <td>Evening</td>\n",
       "      <td>1200 LANDONIA CIR</td>\n",
       "      <td>38.036729</td>\n",
       "      <td>-78.461762</td>\n",
       "      <td>Locust Grove</td>\n",
       "      <td>22901</td>\n",
       "    </tr>\n",
       "    <tr>\n",
       "      <th>1</th>\n",
       "      <td>2</td>\n",
       "      <td>Vandalism</td>\n",
       "      <td>202500012997</td>\n",
       "      <td>CPD</td>\n",
       "      <td>Prevost, Payten</td>\n",
       "      <td>2025-04-21 16:11:40</td>\n",
       "      <td>Monday</td>\n",
       "      <td>False</td>\n",
       "      <td>Spring</td>\n",
       "      <td>Afternoon</td>\n",
       "      <td>200 CARLTON RD</td>\n",
       "      <td>38.023631</td>\n",
       "      <td>-78.468700</td>\n",
       "      <td>Belmont</td>\n",
       "      <td>22902</td>\n",
       "    </tr>\n",
       "    <tr>\n",
       "      <th>2</th>\n",
       "      <td>3</td>\n",
       "      <td>Suspicious Activity</td>\n",
       "      <td>202500012990</td>\n",
       "      <td>CPD</td>\n",
       "      <td>Handy, Russell</td>\n",
       "      <td>2025-04-21 15:35:37</td>\n",
       "      <td>Monday</td>\n",
       "      <td>False</td>\n",
       "      <td>Spring</td>\n",
       "      <td>Afternoon</td>\n",
       "      <td>100 MADISON LN</td>\n",
       "      <td>38.036405</td>\n",
       "      <td>-78.502395</td>\n",
       "      <td>Venable</td>\n",
       "      <td>22903</td>\n",
       "    </tr>\n",
       "    <tr>\n",
       "      <th>3</th>\n",
       "      <td>4</td>\n",
       "      <td>Larceny - From Motor Vehicle</td>\n",
       "      <td>202500012971</td>\n",
       "      <td>CPD</td>\n",
       "      <td>Kirby, Tyree</td>\n",
       "      <td>2025-04-21 10:41:51</td>\n",
       "      <td>Monday</td>\n",
       "      <td>False</td>\n",
       "      <td>Spring</td>\n",
       "      <td>Morning</td>\n",
       "      <td>400 W MAIN ST</td>\n",
       "      <td>38.030441</td>\n",
       "      <td>-78.486715</td>\n",
       "      <td>Starr Hill</td>\n",
       "      <td>22908</td>\n",
       "    </tr>\n",
       "    <tr>\n",
       "      <th>4</th>\n",
       "      <td>5</td>\n",
       "      <td>Assist Citizen - Welfare Check</td>\n",
       "      <td>202500012970</td>\n",
       "      <td>CPD</td>\n",
       "      <td>Wisser, Shawn</td>\n",
       "      <td>2025-04-21 10:23:30</td>\n",
       "      <td>Monday</td>\n",
       "      <td>False</td>\n",
       "      <td>Spring</td>\n",
       "      <td>Morning</td>\n",
       "      <td>2400 ARLINGTON BLVD, 67</td>\n",
       "      <td>38.049696</td>\n",
       "      <td>-78.507432</td>\n",
       "      <td>Barracks Road</td>\n",
       "      <td>22905</td>\n",
       "    </tr>\n",
       "  </tbody>\n",
       "</table>\n",
       "</div>"
      ],
      "text/plain": [
       "   RecordID                         Offense    IncidentID Agency  \\\n",
       "0         1                     Hit and Run  202500013032    CPD   \n",
       "1         2                       Vandalism  202500012997    CPD   \n",
       "2         3             Suspicious Activity  202500012990    CPD   \n",
       "3         4    Larceny - From Motor Vehicle  202500012971    CPD   \n",
       "4         5  Assist Citizen - Welfare Check  202500012970    CPD   \n",
       "\n",
       "  ReportingOfficer                Date DayOfWeek  Weekend  Season  TimeOfDay  \\\n",
       "0    Bland, Johnnà 2025-04-21 19:46:17    Monday    False  Spring    Evening   \n",
       "1  Prevost, Payten 2025-04-21 16:11:40    Monday    False  Spring  Afternoon   \n",
       "2   Handy, Russell 2025-04-21 15:35:37    Monday    False  Spring  Afternoon   \n",
       "3     Kirby, Tyree 2025-04-21 10:41:51    Monday    False  Spring    Morning   \n",
       "4    Wisser, Shawn 2025-04-21 10:23:30    Monday    False  Spring    Morning   \n",
       "\n",
       "                FullStreet        lat        lon   neighborhood    zip  \n",
       "0        1200 LANDONIA CIR  38.036729 -78.461762   Locust Grove  22901  \n",
       "1           200 CARLTON RD  38.023631 -78.468700        Belmont  22902  \n",
       "2           100 MADISON LN  38.036405 -78.502395        Venable  22903  \n",
       "3            400 W MAIN ST  38.030441 -78.486715     Starr Hill  22908  \n",
       "4  2400 ARLINGTON BLVD, 67  38.049696 -78.507432  Barracks Road  22905  "
      ]
     },
     "execution_count": 14,
     "metadata": {},
     "output_type": "execute_result"
    }
   ],
   "source": [
    "# Now drop the original BlockNumber and StreetName columns\n",
    "df.drop(columns=['BlockNumber', 'StreetName','HourAMPM','HourReported','DateString'], inplace=True)\n",
    "df[\"zip\"] = df[\"zip\"].astype(str)\n",
    "\n",
    "# Fill all missing values in the DataFrame with \"N/A\"\n",
    "df.replace({None: \"N/A\", np.nan: \"N/A\", \"\": \"N/A\"}, inplace=True)\n",
    "df.head()"
   ]
  },
  {
   "cell_type": "code",
   "execution_count": 15,
   "id": "ab3ca4a5",
   "metadata": {
    "execution": {
     "iopub.execute_input": "2025-04-24T01:01:52.774246Z",
     "iopub.status.busy": "2025-04-24T01:01:52.773696Z",
     "iopub.status.idle": "2025-04-24T01:01:52.795804Z",
     "shell.execute_reply": "2025-04-24T01:01:52.795077Z"
    },
    "papermill": {
     "duration": 0.031587,
     "end_time": "2025-04-24T01:01:52.797084",
     "exception": false,
     "start_time": "2025-04-24T01:01:52.765497",
     "status": "completed"
    },
    "tags": []
   },
   "outputs": [
    {
     "name": "stdout",
     "output_type": "stream",
     "text": [
      "                  MissingCount  MissingPercentage\n",
      "RecordID                     0                0.0\n",
      "Offense                      0                0.0\n",
      "IncidentID                   0                0.0\n",
      "Agency                       0                0.0\n",
      "ReportingOfficer             0                0.0\n",
      "Date                         0                0.0\n",
      "DayOfWeek                    0                0.0\n",
      "Weekend                      0                0.0\n",
      "Season                       0                0.0\n",
      "TimeOfDay                    0                0.0\n",
      "FullStreet                   0                0.0\n",
      "lat                          0                0.0\n",
      "lon                          0                0.0\n",
      "neighborhood                 0                0.0\n",
      "zip                          0                0.0\n"
     ]
    }
   ],
   "source": [
    "missing_info = missing_percentage(df)\n",
    "print(missing_info)"
   ]
  },
  {
   "cell_type": "code",
   "execution_count": 16,
   "id": "9d12dbe3",
   "metadata": {
    "execution": {
     "iopub.execute_input": "2025-04-24T01:01:52.813706Z",
     "iopub.status.busy": "2025-04-24T01:01:52.813041Z",
     "iopub.status.idle": "2025-04-24T01:01:52.817959Z",
     "shell.execute_reply": "2025-04-24T01:01:52.817276Z"
    },
    "papermill": {
     "duration": 0.01422,
     "end_time": "2025-04-24T01:01:52.819039",
     "exception": false,
     "start_time": "2025-04-24T01:01:52.804819",
     "status": "completed"
    },
    "tags": []
   },
   "outputs": [
    {
     "data": {
      "text/plain": [
       "Index(['RecordID', 'Offense', 'IncidentID', 'Agency', 'ReportingOfficer',\n",
       "       'Date', 'DayOfWeek', 'Weekend', 'Season', 'TimeOfDay', 'FullStreet',\n",
       "       'lat', 'lon', 'neighborhood', 'zip'],\n",
       "      dtype='object')"
      ]
     },
     "execution_count": 16,
     "metadata": {},
     "output_type": "execute_result"
    }
   ],
   "source": [
    "df.columns"
   ]
  },
  {
   "cell_type": "code",
   "execution_count": 17,
   "id": "b849b15d",
   "metadata": {
    "execution": {
     "iopub.execute_input": "2025-04-24T01:01:52.835186Z",
     "iopub.status.busy": "2025-04-24T01:01:52.834899Z",
     "iopub.status.idle": "2025-04-24T01:01:52.857856Z",
     "shell.execute_reply": "2025-04-24T01:01:52.857248Z"
    },
    "papermill": {
     "duration": 0.032257,
     "end_time": "2025-04-24T01:01:52.858964",
     "exception": false,
     "start_time": "2025-04-24T01:01:52.826707",
     "status": "completed"
    },
    "tags": []
   },
   "outputs": [
    {
     "name": "stdout",
     "output_type": "stream",
     "text": [
      "<class 'pandas.core.frame.DataFrame'>\n",
      "RangeIndex: 25259 entries, 0 to 25258\n",
      "Data columns (total 15 columns):\n",
      " #   Column            Non-Null Count  Dtype         \n",
      "---  ------            --------------  -----         \n",
      " 0   RecordID          25259 non-null  int64         \n",
      " 1   Offense           25259 non-null  object        \n",
      " 2   IncidentID        25259 non-null  object        \n",
      " 3   Agency            25259 non-null  object        \n",
      " 4   ReportingOfficer  25259 non-null  object        \n",
      " 5   Date              25259 non-null  datetime64[ns]\n",
      " 6   DayOfWeek         25259 non-null  object        \n",
      " 7   Weekend           25259 non-null  bool          \n",
      " 8   Season            25259 non-null  object        \n",
      " 9   TimeOfDay         25259 non-null  object        \n",
      " 10  FullStreet        25259 non-null  object        \n",
      " 11  lat               25259 non-null  float64       \n",
      " 12  lon               25259 non-null  float64       \n",
      " 13  neighborhood      25259 non-null  object        \n",
      " 14  zip               25259 non-null  object        \n",
      "dtypes: bool(1), datetime64[ns](1), float64(2), int64(1), object(10)\n",
      "memory usage: 2.7+ MB\n"
     ]
    }
   ],
   "source": [
    "df.info()"
   ]
  },
  {
   "cell_type": "markdown",
   "id": "e6360326",
   "metadata": {
    "papermill": {
     "duration": 0.007376,
     "end_time": "2025-04-24T01:01:52.874377",
     "exception": false,
     "start_time": "2025-04-24T01:01:52.867001",
     "status": "completed"
    },
    "tags": []
   },
   "source": [
    "### Export Clean Data"
   ]
  },
  {
   "cell_type": "code",
   "execution_count": 18,
   "id": "d80a60fb",
   "metadata": {
    "execution": {
     "iopub.execute_input": "2025-04-24T01:01:52.890303Z",
     "iopub.status.busy": "2025-04-24T01:01:52.889891Z",
     "iopub.status.idle": "2025-04-24T01:02:02.322566Z",
     "shell.execute_reply": "2025-04-24T01:02:02.321891Z"
    },
    "papermill": {
     "duration": 9.44193,
     "end_time": "2025-04-24T01:02:02.323751",
     "exception": false,
     "start_time": "2025-04-24T01:01:52.881821",
     "status": "completed"
    },
    "tags": []
   },
   "outputs": [
    {
     "name": "stdout",
     "output_type": "stream",
     "text": [
      "Project Root: /home/runner/work/crime-data/crime-data\n"
     ]
    },
    {
     "name": "stdout",
     "output_type": "stream",
     "text": [
      "Data saved to: /home/runner/work/crime-data/crime-data/data/charlottesville_crime_incidents.csv\n"
     ]
    },
    {
     "name": "stdout",
     "output_type": "stream",
     "text": [
      "Excel saved to: /home/runner/work/crime-data/crime-data/data/charlottesville_crime_incidents.xlsx\n"
     ]
    }
   ],
   "source": [
    "# Determine the project root (assuming papermill is run from the repository root)\n",
    "project_root = os.getcwd()\n",
    "print(\"Project Root:\", project_root)\n",
    "\n",
    "# Set the data directory within the project root\n",
    "data_dir = os.path.join(project_root, \"data\")\n",
    "\n",
    "# Ensure the \"data\" directory exists (create it if it doesn't)\n",
    "if not os.path.exists(data_dir):\n",
    "    os.makedirs(data_dir)\n",
    "\n",
    "# Export the DataFrame to CSV in the \"data\" folder located in the project root\n",
    "csv_path = os.path.join(data_dir, \"charlottesville_crime_incidents.csv\")\n",
    "df.to_csv(csv_path, index=False)\n",
    "print(\"Data saved to:\", csv_path)\n",
    "\n",
    "# Construct the path to your Excel file\n",
    "excel_path = os.path.join(data_dir, \"charlottesville_crime_incidents.xlsx\")\n",
    "\n",
    "# Export the DataFrame to Excel\n",
    "df.to_excel(excel_path, index=False)\n",
    "print(\"Excel saved to:\", excel_path)\n"
   ]
  },
  {
   "cell_type": "markdown",
   "id": "693ca143",
   "metadata": {
    "papermill": {
     "duration": 0.007687,
     "end_time": "2025-04-24T01:02:02.362627",
     "exception": false,
     "start_time": "2025-04-24T01:02:02.354940",
     "status": "completed"
    },
    "tags": []
   },
   "source": [
    "## Predictive Analytics"
   ]
  },
  {
   "cell_type": "code",
   "execution_count": 19,
   "id": "78cc0bf2",
   "metadata": {
    "execution": {
     "iopub.execute_input": "2025-04-24T01:02:02.379315Z",
     "iopub.status.busy": "2025-04-24T01:02:02.378716Z",
     "iopub.status.idle": "2025-04-24T01:02:02.390833Z",
     "shell.execute_reply": "2025-04-24T01:02:02.390183Z"
    },
    "papermill": {
     "duration": 0.021636,
     "end_time": "2025-04-24T01:02:02.391896",
     "exception": false,
     "start_time": "2025-04-24T01:02:02.370260",
     "status": "completed"
    },
    "tags": []
   },
   "outputs": [
    {
     "data": {
      "text/html": [
       "<div>\n",
       "<style scoped>\n",
       "    .dataframe tbody tr th:only-of-type {\n",
       "        vertical-align: middle;\n",
       "    }\n",
       "\n",
       "    .dataframe tbody tr th {\n",
       "        vertical-align: top;\n",
       "    }\n",
       "\n",
       "    .dataframe thead th {\n",
       "        text-align: right;\n",
       "    }\n",
       "</style>\n",
       "<table border=\"1\" class=\"dataframe\">\n",
       "  <thead>\n",
       "    <tr style=\"text-align: right;\">\n",
       "      <th></th>\n",
       "      <th>RecordID</th>\n",
       "      <th>Offense</th>\n",
       "      <th>IncidentID</th>\n",
       "      <th>Agency</th>\n",
       "      <th>ReportingOfficer</th>\n",
       "      <th>Date</th>\n",
       "      <th>DayOfWeek</th>\n",
       "      <th>Weekend</th>\n",
       "      <th>Season</th>\n",
       "      <th>TimeOfDay</th>\n",
       "      <th>FullStreet</th>\n",
       "      <th>lat</th>\n",
       "      <th>lon</th>\n",
       "      <th>neighborhood</th>\n",
       "      <th>zip</th>\n",
       "    </tr>\n",
       "  </thead>\n",
       "  <tbody>\n",
       "    <tr>\n",
       "      <th>0</th>\n",
       "      <td>1</td>\n",
       "      <td>Hit and Run</td>\n",
       "      <td>202500013032</td>\n",
       "      <td>CPD</td>\n",
       "      <td>Bland, Johnnà</td>\n",
       "      <td>2025-04-21 19:46:17</td>\n",
       "      <td>Monday</td>\n",
       "      <td>False</td>\n",
       "      <td>Spring</td>\n",
       "      <td>Evening</td>\n",
       "      <td>1200 LANDONIA CIR</td>\n",
       "      <td>38.036729</td>\n",
       "      <td>-78.461762</td>\n",
       "      <td>Locust Grove</td>\n",
       "      <td>22901</td>\n",
       "    </tr>\n",
       "    <tr>\n",
       "      <th>1</th>\n",
       "      <td>2</td>\n",
       "      <td>Vandalism</td>\n",
       "      <td>202500012997</td>\n",
       "      <td>CPD</td>\n",
       "      <td>Prevost, Payten</td>\n",
       "      <td>2025-04-21 16:11:40</td>\n",
       "      <td>Monday</td>\n",
       "      <td>False</td>\n",
       "      <td>Spring</td>\n",
       "      <td>Afternoon</td>\n",
       "      <td>200 CARLTON RD</td>\n",
       "      <td>38.023631</td>\n",
       "      <td>-78.468700</td>\n",
       "      <td>Belmont</td>\n",
       "      <td>22902</td>\n",
       "    </tr>\n",
       "    <tr>\n",
       "      <th>2</th>\n",
       "      <td>3</td>\n",
       "      <td>Suspicious Activity</td>\n",
       "      <td>202500012990</td>\n",
       "      <td>CPD</td>\n",
       "      <td>Handy, Russell</td>\n",
       "      <td>2025-04-21 15:35:37</td>\n",
       "      <td>Monday</td>\n",
       "      <td>False</td>\n",
       "      <td>Spring</td>\n",
       "      <td>Afternoon</td>\n",
       "      <td>100 MADISON LN</td>\n",
       "      <td>38.036405</td>\n",
       "      <td>-78.502395</td>\n",
       "      <td>Venable</td>\n",
       "      <td>22903</td>\n",
       "    </tr>\n",
       "    <tr>\n",
       "      <th>3</th>\n",
       "      <td>4</td>\n",
       "      <td>Larceny - From Motor Vehicle</td>\n",
       "      <td>202500012971</td>\n",
       "      <td>CPD</td>\n",
       "      <td>Kirby, Tyree</td>\n",
       "      <td>2025-04-21 10:41:51</td>\n",
       "      <td>Monday</td>\n",
       "      <td>False</td>\n",
       "      <td>Spring</td>\n",
       "      <td>Morning</td>\n",
       "      <td>400 W MAIN ST</td>\n",
       "      <td>38.030441</td>\n",
       "      <td>-78.486715</td>\n",
       "      <td>Starr Hill</td>\n",
       "      <td>22908</td>\n",
       "    </tr>\n",
       "    <tr>\n",
       "      <th>4</th>\n",
       "      <td>5</td>\n",
       "      <td>Assist Citizen - Welfare Check</td>\n",
       "      <td>202500012970</td>\n",
       "      <td>CPD</td>\n",
       "      <td>Wisser, Shawn</td>\n",
       "      <td>2025-04-21 10:23:30</td>\n",
       "      <td>Monday</td>\n",
       "      <td>False</td>\n",
       "      <td>Spring</td>\n",
       "      <td>Morning</td>\n",
       "      <td>2400 ARLINGTON BLVD, 67</td>\n",
       "      <td>38.049696</td>\n",
       "      <td>-78.507432</td>\n",
       "      <td>Barracks Road</td>\n",
       "      <td>22905</td>\n",
       "    </tr>\n",
       "  </tbody>\n",
       "</table>\n",
       "</div>"
      ],
      "text/plain": [
       "   RecordID                         Offense    IncidentID Agency  \\\n",
       "0         1                     Hit and Run  202500013032    CPD   \n",
       "1         2                       Vandalism  202500012997    CPD   \n",
       "2         3             Suspicious Activity  202500012990    CPD   \n",
       "3         4    Larceny - From Motor Vehicle  202500012971    CPD   \n",
       "4         5  Assist Citizen - Welfare Check  202500012970    CPD   \n",
       "\n",
       "  ReportingOfficer                Date DayOfWeek  Weekend  Season  TimeOfDay  \\\n",
       "0    Bland, Johnnà 2025-04-21 19:46:17    Monday    False  Spring    Evening   \n",
       "1  Prevost, Payten 2025-04-21 16:11:40    Monday    False  Spring  Afternoon   \n",
       "2   Handy, Russell 2025-04-21 15:35:37    Monday    False  Spring  Afternoon   \n",
       "3     Kirby, Tyree 2025-04-21 10:41:51    Monday    False  Spring    Morning   \n",
       "4    Wisser, Shawn 2025-04-21 10:23:30    Monday    False  Spring    Morning   \n",
       "\n",
       "                FullStreet        lat        lon   neighborhood    zip  \n",
       "0        1200 LANDONIA CIR  38.036729 -78.461762   Locust Grove  22901  \n",
       "1           200 CARLTON RD  38.023631 -78.468700        Belmont  22902  \n",
       "2           100 MADISON LN  38.036405 -78.502395        Venable  22903  \n",
       "3            400 W MAIN ST  38.030441 -78.486715     Starr Hill  22908  \n",
       "4  2400 ARLINGTON BLVD, 67  38.049696 -78.507432  Barracks Road  22905  "
      ]
     },
     "execution_count": 19,
     "metadata": {},
     "output_type": "execute_result"
    }
   ],
   "source": [
    "df.head()"
   ]
  },
  {
   "cell_type": "code",
   "execution_count": 20,
   "id": "de194d9a",
   "metadata": {
    "execution": {
     "iopub.execute_input": "2025-04-24T01:02:02.409150Z",
     "iopub.status.busy": "2025-04-24T01:02:02.408857Z",
     "iopub.status.idle": "2025-04-24T01:02:02.413426Z",
     "shell.execute_reply": "2025-04-24T01:02:02.412876Z"
    },
    "papermill": {
     "duration": 0.014427,
     "end_time": "2025-04-24T01:02:02.414453",
     "exception": false,
     "start_time": "2025-04-24T01:02:02.400026",
     "status": "completed"
    },
    "tags": []
   },
   "outputs": [
    {
     "data": {
      "text/plain": [
       "Index(['RecordID', 'Offense', 'IncidentID', 'Agency', 'ReportingOfficer',\n",
       "       'Date', 'DayOfWeek', 'Weekend', 'Season', 'TimeOfDay', 'FullStreet',\n",
       "       'lat', 'lon', 'neighborhood', 'zip'],\n",
       "      dtype='object')"
      ]
     },
     "execution_count": 20,
     "metadata": {},
     "output_type": "execute_result"
    }
   ],
   "source": [
    "df.columns"
   ]
  },
  {
   "cell_type": "markdown",
   "id": "7a45d247",
   "metadata": {
    "papermill": {
     "duration": 0.007927,
     "end_time": "2025-04-24T01:02:02.430654",
     "exception": false,
     "start_time": "2025-04-24T01:02:02.422727",
     "status": "completed"
    },
    "tags": []
   },
   "source": [
    "### Data Preparation\n",
    "\n",
    "We need to ensure the data is in the correct format for modeling and can handle missing values, categorical variables, and dates. Here's how to prepare your data:"
   ]
  },
  {
   "cell_type": "code",
   "execution_count": 21,
   "id": "e194f4b6",
   "metadata": {
    "execution": {
     "iopub.execute_input": "2025-04-24T01:02:02.447725Z",
     "iopub.status.busy": "2025-04-24T01:02:02.447458Z",
     "iopub.status.idle": "2025-04-24T01:02:04.251235Z",
     "shell.execute_reply": "2025-04-24T01:02:04.250464Z"
    },
    "papermill": {
     "duration": 1.813931,
     "end_time": "2025-04-24T01:02:04.252576",
     "exception": false,
     "start_time": "2025-04-24T01:02:02.438645",
     "status": "completed"
    },
    "tags": []
   },
   "outputs": [],
   "source": [
    "import pandas as pd\n",
    "from sklearn.model_selection import train_test_split\n",
    "from sklearn.preprocessing import OneHotEncoder, LabelEncoder\n",
    "from sklearn.ensemble import RandomForestClassifier\n",
    "from sklearn.linear_model import LogisticRegression\n",
    "from sklearn.tree import DecisionTreeClassifier\n",
    "from sklearn.metrics import classification_report, accuracy_score\n",
    "import seaborn as sns\n",
    "import matplotlib.pyplot as plt\n",
    "\n",
    "# Convert 'Date' to datetime\n",
    "df['Date'] = pd.to_datetime(df['Date'])\n",
    "\n",
    "# Feature engineering: Extract additional time-based features\n",
    "df['Year'] = df['Date'].dt.year\n",
    "df['Month'] = df['Date'].dt.month\n",
    "df['DayOfMonth'] = df['Date'].dt.day\n",
    "\n",
    "# One-hot encoding for 'FullStreet', 'neighborhood', 'zip'\n",
    "df = pd.get_dummies(df, columns=['FullStreet', 'neighborhood', 'zip'], drop_first=True)\n",
    "\n",
    "# Label encoding for ordered variables (those with a natural order like 'DayOfWeek', 'Season', 'TimeOfDay')\n",
    "label_encoders = {}\n",
    "for column in ['DayOfWeek', 'Season', 'TimeOfDay', 'Agency', 'ReportingOfficer']:  # Example ordinal variables\n",
    "    le = LabelEncoder()\n",
    "    df[column] = le.fit_transform(df[column])\n",
    "    label_encoders[column] = le\n",
    "\n",
    "# Filter the dataset to include only the offenses of interest\n",
    "offenses_of_interest = [\n",
    "    'Hit and Run', 'Assault Simple', 'Suspicious Activity', 'Vandalism', \n",
    "    'Larceny - From Mot Vehicle', 'Larceny - All Other', \n",
    "    'Assist Citizen - Mental/TDO/ECO', 'Lost/FoundProperty'\n",
    "]\n",
    "\n",
    "df = df[df['Offense'].isin(offenses_of_interest)]\n",
    "\n",
    "# Label encode the target variable (Offense)\n",
    "offense_encoder = LabelEncoder()\n",
    "df['Offense'] = offense_encoder.fit_transform(df['Offense'])\n",
    "\n",
    "# Separate features (X) and target (y)\n",
    "X = df[['Year', 'Month', 'DayOfMonth', 'DayOfWeek', 'Weekend', 'Season', 'TimeOfDay', 'lat', 'lon', 'Agency', 'ReportingOfficer']]\n",
    "y = df['Offense']  # Offense is now the encoded target variable\n",
    "\n",
    "# Split the data into training and testing sets\n",
    "X_train, X_test, y_train, y_test = train_test_split(X, y, test_size=0.3, random_state=42)\n"
   ]
  },
  {
   "cell_type": "markdown",
   "id": "939656ee",
   "metadata": {
    "papermill": {
     "duration": 0.0081,
     "end_time": "2025-04-24T01:02:04.269228",
     "exception": false,
     "start_time": "2025-04-24T01:02:04.261128",
     "status": "completed"
    },
    "tags": []
   },
   "source": [
    "### Model Training\n",
    "\n",
    "Here we will train several models (e.g., Random Forest, Logistic Regression, and Decision Tree). We will use cross-validation to choose the best model based on accuracy, and then explain the impact of the variables."
   ]
  },
  {
   "cell_type": "code",
   "execution_count": 22,
   "id": "ec89cf05",
   "metadata": {
    "execution": {
     "iopub.execute_input": "2025-04-24T01:02:04.286725Z",
     "iopub.status.busy": "2025-04-24T01:02:04.286334Z",
     "iopub.status.idle": "2025-04-24T01:02:07.882569Z",
     "shell.execute_reply": "2025-04-24T01:02:07.881961Z"
    },
    "papermill": {
     "duration": 3.606405,
     "end_time": "2025-04-24T01:02:07.883761",
     "exception": false,
     "start_time": "2025-04-24T01:02:04.277356",
     "status": "completed"
    },
    "tags": []
   },
   "outputs": [
    {
     "name": "stderr",
     "output_type": "stream",
     "text": [
      "/opt/hostedtoolcache/Python/3.9.22/x64/lib/python3.9/site-packages/sklearn/linear_model/_logistic.py:465: ConvergenceWarning: lbfgs failed to converge (status=1):\n",
      "STOP: TOTAL NO. of ITERATIONS REACHED LIMIT.\n",
      "\n",
      "Increase the number of iterations (max_iter) or scale the data as shown in:\n",
      "    https://scikit-learn.org/stable/modules/preprocessing.html\n",
      "Please also refer to the documentation for alternative solver options:\n",
      "    https://scikit-learn.org/stable/modules/linear_model.html#logistic-regression\n",
      "  n_iter_i = _check_optimize_result(\n",
      "/opt/hostedtoolcache/Python/3.9.22/x64/lib/python3.9/site-packages/sklearn/metrics/_classification.py:1565: UndefinedMetricWarning: Precision is ill-defined and being set to 0.0 in labels with no predicted samples. Use `zero_division` parameter to control this behavior.\n",
      "  _warn_prf(average, modifier, f\"{metric.capitalize()} is\", len(result))\n",
      "/opt/hostedtoolcache/Python/3.9.22/x64/lib/python3.9/site-packages/sklearn/metrics/_classification.py:1565: UndefinedMetricWarning: Precision is ill-defined and being set to 0.0 in labels with no predicted samples. Use `zero_division` parameter to control this behavior.\n",
      "  _warn_prf(average, modifier, f\"{metric.capitalize()} is\", len(result))\n",
      "/opt/hostedtoolcache/Python/3.9.22/x64/lib/python3.9/site-packages/sklearn/metrics/_classification.py:1565: UndefinedMetricWarning: Precision is ill-defined and being set to 0.0 in labels with no predicted samples. Use `zero_division` parameter to control this behavior.\n",
      "  _warn_prf(average, modifier, f\"{metric.capitalize()} is\", len(result))\n"
     ]
    },
    {
     "name": "stdout",
     "output_type": "stream",
     "text": [
      "\n",
      "Classification Report for All Models:\n",
      "\n",
      "Model: RandomForest\n",
      "Accuracy: 0.2889\n",
      "              precision    recall  f1-score      support\n",
      "0              0.319885  0.381443  0.347962   582.000000\n",
      "1              0.265823  0.199525  0.227951   421.000000\n",
      "2              0.320000  0.457831  0.376704   664.000000\n",
      "3              0.189189  0.178241  0.183552   432.000000\n",
      "4              0.366071  0.219839  0.274707   373.000000\n",
      "5              0.267241  0.245059  0.255670   506.000000\n",
      "6              0.263415  0.221766  0.240803   487.000000\n",
      "accuracy       0.288889  0.288889  0.288889     0.288889\n",
      "macro avg      0.284518  0.271958  0.272478  3465.000000\n",
      "weighted avg   0.286391  0.288889  0.281966  3465.000000\n"
     ]
    },
    {
     "data": {
      "image/png": "[encoded data removed]",
      "text/plain": [
       "<Figure size 800x600 with 2 Axes>"
      ]
     },
     "metadata": {},
     "output_type": "display_data"
    },
    {
     "name": "stdout",
     "output_type": "stream",
     "text": [
      "\n",
      "Model: LogisticRegression\n",
      "Accuracy: 0.2049\n",
      "              precision    recall  f1-score      support\n",
      "0              0.191333  0.493127  0.275696   582.000000\n",
      "1              0.000000  0.000000  0.000000   421.000000\n",
      "2              0.215267  0.637048  0.321795   664.000000\n",
      "3              0.000000  0.000000  0.000000   432.000000\n",
      "4              0.000000  0.000000  0.000000   373.000000\n",
      "5              0.000000  0.000000  0.000000   506.000000\n",
      "6              0.000000  0.000000  0.000000   487.000000\n",
      "accuracy       0.204906  0.204906  0.204906     0.204906\n",
      "macro avg      0.058086  0.161454  0.085356  3465.000000\n",
      "weighted avg   0.073389  0.204906  0.107973  3465.000000\n"
     ]
    },
    {
     "data": {
      "image/png": "[encoded data removed]",
      "text/plain": [
       "<Figure size 800x600 with 2 Axes>"
      ]
     },
     "metadata": {},
     "output_type": "display_data"
    },
    {
     "name": "stdout",
     "output_type": "stream",
     "text": [
      "\n",
      "Model: DecisionTree\n",
      "Accuracy: 0.2289\n",
      "              precision    recall  f1-score     support\n",
      "0              0.245586  0.262887  0.253942   582.00000\n",
      "1              0.246073  0.223278  0.234122   421.00000\n",
      "2              0.307576  0.305723  0.306647   664.00000\n",
      "3              0.147436  0.159722  0.153333   432.00000\n",
      "4              0.229226  0.214477  0.221607   373.00000\n",
      "5              0.186770  0.189723  0.188235   506.00000\n",
      "6              0.208955  0.201232  0.205021   487.00000\n",
      "accuracy       0.228860  0.228860  0.228860     0.22886\n",
      "macro avg      0.224518  0.222435  0.223272  3465.00000\n",
      "weighted avg   0.229789  0.228860  0.229138  3465.00000\n"
     ]
    },
    {
     "data": {
      "image/png": "[encoded data removed]",
      "text/plain": [
       "<Figure size 800x600 with 2 Axes>"
      ]
     },
     "metadata": {},
     "output_type": "display_data"
    },
    {
     "name": "stdout",
     "output_type": "stream",
     "text": [
      "\n",
      "Best Model:\n",
      "Best Model: RandomForestClassifier()\n",
      "Best Model Accuracy: 0.2889\n"
     ]
    }
   ],
   "source": [
    "import pandas as pd\n",
    "from sklearn.model_selection import train_test_split\n",
    "from sklearn.ensemble import RandomForestClassifier\n",
    "from sklearn.linear_model import LogisticRegression\n",
    "from sklearn.tree import DecisionTreeClassifier\n",
    "from sklearn.metrics import classification_report, accuracy_score, confusion_matrix\n",
    "import seaborn as sns\n",
    "import matplotlib.pyplot as plt\n",
    "\n",
    "# Define models\n",
    "models = {\n",
    "    'RandomForest': RandomForestClassifier(),\n",
    "    'LogisticRegression': LogisticRegression(max_iter=1000),\n",
    "    'DecisionTree': DecisionTreeClassifier()\n",
    "}\n",
    "\n",
    "# Train models and evaluate them\n",
    "best_model = None\n",
    "best_score = 0\n",
    "model_reports = {}\n",
    "\n",
    "for model_name, model in models.items():\n",
    "    model.fit(X_train, y_train)  # Train model\n",
    "    y_pred = model.predict(X_test)  # Make predictions\n",
    "    \n",
    "    # Calculate accuracy and generate classification report\n",
    "    accuracy = accuracy_score(y_test, y_pred)\n",
    "    model_reports[model_name] = classification_report(y_test, y_pred, output_dict=True)  # Store as a dictionary for easier analysis\n",
    "    \n",
    "    # Track best performing model\n",
    "    if accuracy > best_score:\n",
    "        best_score = accuracy\n",
    "        best_model = model\n",
    "\n",
    "# Display classification reports and confusion matrices\n",
    "print(\"\\nClassification Report for All Models:\")\n",
    "for model_name, report in model_reports.items():\n",
    "    print(f\"\\nModel: {model_name}\")\n",
    "    print(\"Accuracy: {:.4f}\".format(accuracy_score(y_test, models[model_name].predict(X_test))))  # Display accuracy\n",
    "    print(pd.DataFrame(report).transpose())  # Display classification report as a DataFrame\n",
    "\n",
    "    # Plot Confusion Matrix\n",
    "    cm = confusion_matrix(y_test, models[model_name].predict(X_test))\n",
    "    plt.figure(figsize=(8, 6))\n",
    "    sns.heatmap(cm, annot=True, fmt=\"d\", cmap='Blues', xticklabels=offense_encoder.classes_, yticklabels=offense_encoder.classes_)\n",
    "    plt.title(f\"Confusion Matrix - {model_name}\")\n",
    "    plt.xlabel('Predicted Labels')\n",
    "    plt.ylabel('True Labels')\n",
    "    plt.show()\n",
    "\n",
    "# Display best model details\n",
    "print(\"\\nBest Model:\")\n",
    "print(f\"Best Model: {best_model}\")\n",
    "print(f\"Best Model Accuracy: {best_score:.4f}\")\n"
   ]
  },
  {
   "cell_type": "markdown",
   "id": "17888a92",
   "metadata": {
    "papermill": {
     "duration": 0.010768,
     "end_time": "2025-04-24T01:02:07.906139",
     "exception": false,
     "start_time": "2025-04-24T01:02:07.895371",
     "status": "completed"
    },
    "tags": []
   },
   "source": [
    "#### Classification Report for All Models:\n",
    "\n",
    "### Explanation of the Classification Results (RandomForest Model)\n",
    "\n",
    "The results you provided are from a **Random Forest** model, which is used for predicting different types of offenses. Let's break down the key components of the results:\n",
    "\n",
    "#### 1. **Accuracy: 0.2822**\n",
    "   - **Accuracy** measures the overall percentage of correct predictions made by the model. An accuracy of 28.22% means the model correctly predicted the offense in about 28% of the cases. This indicates the model's predictions are not highly reliable, as the accuracy is quite low.\n",
    "\n",
    "#### 2. **Classification Report:**\n",
    "   The classification report includes precision, recall, and F1-score for each offense. Let's go over these terms and how they apply to the results:\n",
    "\n",
    "   - **Precision**: The proportion of true positive predictions out of all positive predictions made by the model for a specific class (offense).\n",
    "   - **Recall**: The proportion of true positive predictions out of all actual positive instances in the dataset.\n",
    "   - **F1-Score**: The harmonic mean of precision and recall, providing a balance between the two metrics.\n",
    "   - **Support**: The number of actual occurrences of each class in the test set.\n",
    "\n",
    "   Let's analyze each offense based on these metrics:\n",
    "\n",
    "   | **Offense**                        | **Precision** | **Recall** | **F1-Score** | **Support** |\n",
    "   |------------------------------------|---------------|------------|--------------|-------------|\n",
    "   | **Assault Simple**                 | 0.2892        | 0.3754     | 0.3267       | 594         |\n",
    "   | **Assist Citizen - Mental/TDO/ECO**| 0.3182        | 0.2274     | 0.2652       | 431         |\n",
    "   | **Hit and Run**                    | 0.2963        | 0.4765     | 0.3654       | 638         |\n",
    "   | **Larceny - All Other**            | 0.2270        | 0.1453     | 0.1772       | 475         |\n",
    "   | **Lost/FoundProperty**             | 0.3333        | 0.2102     | 0.2578       | 352         |\n",
    "   | **Suspicious Activity**            | 0.2344        | 0.2169     | 0.2253       | 484         |\n",
    "   | **Vandalism**                      | 0.2712        | 0.2106     | 0.2371       | 470         |\n",
    "\n",
    "#### 3. **Key Insights from the Report:**\n",
    "\n",
    "- **Precision**:\n",
    "   - The highest precision is for **Larceny - All Other** (0.3333), indicating that when the model predicts this offense, it is correct about 33% of the time. However, this is still quite low.\n",
    "   - **Assist Citizen - Mental/TDO/ECO** has the lowest precision (0.2269), meaning that the model's predictions for this offense tend to be wrong more often than correct.\n",
    "\n",
    "- **Recall**:\n",
    "   - **Hit and Run** has the highest recall (0.4765), meaning the model identifies about 48% of the actual occurrences of this offense. This is better than the precision, which indicates it is missing many true positives but is still able to identify a fair number of cases.\n",
    "   - **Larceny - All Other** and **Suspicious Activity** have the lowest recall values (0.1453 and 0.2169, respectively), indicating that the model is failing to identify most of the actual cases for these offenses.\n",
    "\n",
    "- **F1-Score**:\n",
    "   - The **F1-Score** balances precision and recall. It is highest for **Hit and Run** (0.3654), but still relatively low overall. This suggests the model is better at identifying **Hit and Run** than other offenses but still has room for improvement.\n",
    "   - **Larceny - All Other** has the lowest F1-Score (0.1772), indicating a poor balance between precision and recall for this offense.\n",
    "\n",
    "#### 4. **Macro Average and Weighted Average:**\n",
    "   - **Macro Average**: This gives the average precision, recall, and F1-Score across all classes (offenses) without considering the class distribution. It averages the results for all offenses equally.\n",
    "     - Precision: 0.2814\n",
    "     - Recall: 0.2661\n",
    "     - F1-Score: 0.2649\n",
    "   - **Weighted Average**: This averages the metrics but weighs each class by its support (the number of true instances in the test set). This gives a better sense of overall performance, considering the class distribution.\n",
    "     - Precision: 0.2799\n",
    "     - Recall: 0.2822\n",
    "     - F1-Score: 0.2720\n",
    "\n",
    "#### 5. **Confusion Matrix (Visualization Analysis)**:\n",
    "   - The confusion matrix shows the distribution of true positive, false positive, true negative, and false negative predictions for each class.\n",
    "     - For **Hit and Run**, the model performs relatively well in identifying this offense (304 true positives). However, it also misclassifies some **Hit and Run** instances as other offenses (e.g., **Assault Simple**, **Suspicious Activity**, etc.).\n",
    "     - **Larceny - All Other** is frequently misclassified as **Hit and Run**, **Suspicious Activity**, and others. This is evident from the large number of off-diagonal elements in its row.\n",
    "     - **Assist Citizen - Mental/TDO/ECO** and **Suspicious Activity** are frequently misclassified, as seen by the off-diagonal values in their rows.\n",
    "\n",
    "### Conclusion:\n",
    "The Random Forest model has low accuracy (28.22%), suggesting that it struggles to predict most offenses accurately. Some offenses like **Hit and Run** are better predicted than others, but overall, the model shows a high level of misclassification across all offenses. There may be a need for further tuning of the model, additional feature engineering, or trying different models for better performance.\n",
    "\n",
    "Let me know if you'd like to improve the model or make adjustments based on these results!\n",
    "\n"
   ]
  },
  {
   "cell_type": "markdown",
   "id": "f571edac",
   "metadata": {
    "papermill": {
     "duration": 0.010602,
     "end_time": "2025-04-24T01:02:07.927524",
     "exception": false,
     "start_time": "2025-04-24T01:02:07.916922",
     "status": "completed"
    },
    "tags": []
   },
   "source": [
    "### Model Explanation\n",
    "\n",
    "Once we’ve chosen the best model, we will explain its predictions by examining feature importance for tree-based models and using statistical methods like logistic regression coefficients for linear models."
   ]
  },
  {
   "cell_type": "markdown",
   "id": "101b6560",
   "metadata": {
    "papermill": {
     "duration": 0.01066,
     "end_time": "2025-04-24T01:02:07.949089",
     "exception": false,
     "start_time": "2025-04-24T01:02:07.938429",
     "status": "completed"
    },
    "tags": []
   },
   "source": [
    "#### Feature Importance for Random Forest / Decision Tree\n",
    "\n",
    "##### For Tree-based Models (Random Forest, Decision Tree)\n",
    "\n",
    "For Random Forest or Decision Tree, we can look at feature importance to understand which variables contribute the most to the model's predictions. Here's how you can visualize and interpret the importance of each feature:"
   ]
  },
  {
   "cell_type": "code",
   "execution_count": 23,
   "id": "0f950aab",
   "metadata": {
    "execution": {
     "iopub.execute_input": "2025-04-24T01:02:07.971912Z",
     "iopub.status.busy": "2025-04-24T01:02:07.971403Z",
     "iopub.status.idle": "2025-04-24T01:02:08.137292Z",
     "shell.execute_reply": "2025-04-24T01:02:08.136557Z"
    },
    "papermill": {
     "duration": 0.178521,
     "end_time": "2025-04-24T01:02:08.138349",
     "exception": false,
     "start_time": "2025-04-24T01:02:07.959828",
     "status": "completed"
    },
    "tags": []
   },
   "outputs": [
    {
     "data": {
      "image/png": "[encoded data removed]",
      "text/plain": [
       "<Figure size 1000x600 with 1 Axes>"
      ]
     },
     "metadata": {},
     "output_type": "display_data"
    }
   ],
   "source": [
    "# For RandomForest or DecisionTree models, we can check feature importance\n",
    "if isinstance(best_model, RandomForestClassifier) or isinstance(best_model, DecisionTreeClassifier):\n",
    "    feature_importance = best_model.feature_importances_\n",
    "    feature_names = X.columns\n",
    "    importance_df = pd.DataFrame({'Feature': feature_names, 'Importance': feature_importance})\n",
    "    importance_df = importance_df.sort_values(by='Importance', ascending=False)\n",
    "    \n",
    "    # Plotting the feature importances\n",
    "    plt.figure(figsize=(10, 6))\n",
    "    sns.barplot(x='Importance', y='Feature', data=importance_df)\n",
    "    plt.title(\"Feature Importance\")\n",
    "    plt.show()\n"
   ]
  },
  {
   "cell_type": "code",
   "execution_count": null,
   "id": "e2efea57",
   "metadata": {
    "papermill": {
     "duration": 0.011092,
     "end_time": "2025-04-24T01:02:08.160930",
     "exception": false,
     "start_time": "2025-04-24T01:02:08.149838",
     "status": "completed"
    },
    "tags": []
   },
   "outputs": [],
   "source": []
  },
  {
   "cell_type": "markdown",
   "id": "783ff2df",
   "metadata": {
    "papermill": {
     "duration": 0.010982,
     "end_time": "2025-04-24T01:02:08.183003",
     "exception": false,
     "start_time": "2025-04-24T01:02:08.172021",
     "status": "completed"
    },
    "tags": []
   },
   "source": [
    "### Evaluation\n",
    "\n",
    "After training the models and examining their performance, we evaluate the chosen model based on metrics like accuracy, precision, recall, and F1 score.\n",
    "\n"
   ]
  },
  {
   "cell_type": "code",
   "execution_count": 24,
   "id": "a268b8fa",
   "metadata": {
    "execution": {
     "iopub.execute_input": "2025-04-24T01:02:08.206852Z",
     "iopub.status.busy": "2025-04-24T01:02:08.206221Z",
     "iopub.status.idle": "2025-04-24T01:02:08.294939Z",
     "shell.execute_reply": "2025-04-24T01:02:08.294255Z"
    },
    "papermill": {
     "duration": 0.101879,
     "end_time": "2025-04-24T01:02:08.296049",
     "exception": false,
     "start_time": "2025-04-24T01:02:08.194170",
     "status": "completed"
    },
    "tags": []
   },
   "outputs": [
    {
     "name": "stdout",
     "output_type": "stream",
     "text": [
      "Accuracy: 0.2889\n",
      "Classification Report:\n",
      "              precision    recall  f1-score   support\n",
      "\n",
      "           0       0.32      0.38      0.35       582\n",
      "           1       0.27      0.20      0.23       421\n",
      "           2       0.32      0.46      0.38       664\n",
      "           3       0.19      0.18      0.18       432\n",
      "           4       0.37      0.22      0.27       373\n",
      "           5       0.27      0.25      0.26       506\n",
      "           6       0.26      0.22      0.24       487\n",
      "\n",
      "    accuracy                           0.29      3465\n",
      "   macro avg       0.28      0.27      0.27      3465\n",
      "weighted avg       0.29      0.29      0.28      3465\n",
      "\n",
      "Confusion Matrix:\n",
      "[[222  55 126  46  16  68  49]\n",
      " [105  84  88  41  23  53  27]\n",
      " [108  44 304  70  11  72  55]\n",
      " [ 64  22 126  77  27  54  62]\n",
      " [ 41  20  85  53  82  34  58]\n",
      " [ 83  50 114  61  23 124  51]\n",
      " [ 71  41 107  59  42  59 108]]\n",
      "Precision: 0.2864\n",
      "Recall: 0.2889\n",
      "F1 Score: 0.2820\n"
     ]
    }
   ],
   "source": [
    "from sklearn.metrics import classification_report, confusion_matrix, accuracy_score, precision_score, recall_score, f1_score\n",
    "\n",
    "# Predict on the test set\n",
    "y_pred = best_model.predict(X_test)\n",
    "\n",
    "# Calculate Accuracy\n",
    "accuracy = accuracy_score(y_test, y_pred)\n",
    "print(f\"Accuracy: {accuracy:.4f}\")\n",
    "\n",
    "# Classification Report\n",
    "print(\"Classification Report:\")\n",
    "print(classification_report(y_test, y_pred))\n",
    "\n",
    "# Confusion Matrix\n",
    "conf_matrix = confusion_matrix(y_test, y_pred)\n",
    "print(\"Confusion Matrix:\")\n",
    "print(conf_matrix)\n",
    "\n",
    "# Precision, Recall, F1 Score for each class (Offense Type)\n",
    "precision = precision_score(y_test, y_pred, average='weighted')\n",
    "recall = recall_score(y_test, y_pred, average='weighted')\n",
    "f1 = f1_score(y_test, y_pred, average='weighted')\n",
    "\n",
    "print(f\"Precision: {precision:.4f}\")\n",
    "print(f\"Recall: {recall:.4f}\")\n",
    "print(f\"F1 Score: {f1:.4f}\")\n"
   ]
  },
  {
   "cell_type": "markdown",
   "id": "39e9a2ac",
   "metadata": {
    "papermill": {
     "duration": 0.011126,
     "end_time": "2025-04-24T01:02:08.318790",
     "exception": false,
     "start_time": "2025-04-24T01:02:08.307664",
     "status": "completed"
    },
    "tags": []
   },
   "source": [
    "#### For Logistic Regression (Coefficient Interpretation)\n",
    "\n",
    "For Logistic Regression, the model coefficients can help us understand how each feature affects the likelihood of an offense happening. A positive coefficient indicates a feature increases the likelihood of the offense, and a negative coefficient indicates the opposite."
   ]
  },
  {
   "cell_type": "code",
   "execution_count": 25,
   "id": "682d5289",
   "metadata": {
    "execution": {
     "iopub.execute_input": "2025-04-24T01:02:08.342234Z",
     "iopub.status.busy": "2025-04-24T01:02:08.341765Z",
     "iopub.status.idle": "2025-04-24T01:02:08.346542Z",
     "shell.execute_reply": "2025-04-24T01:02:08.346012Z"
    },
    "papermill": {
     "duration": 0.017703,
     "end_time": "2025-04-24T01:02:08.347557",
     "exception": false,
     "start_time": "2025-04-24T01:02:08.329854",
     "status": "completed"
    },
    "tags": []
   },
   "outputs": [],
   "source": [
    "if isinstance(best_model, LogisticRegression):\n",
    "    # Logistic regression coefficients\n",
    "    coef_df = pd.DataFrame({\n",
    "        'Feature': X.columns,\n",
    "        'Coefficient': best_model.coef_[0]\n",
    "    })\n",
    "    coef_df['AbsCoefficient'] = coef_df['Coefficient'].abs()\n",
    "    coef_df = coef_df.sort_values(by='AbsCoefficient', ascending=False)\n",
    "    \n",
    "    # Plotting the coefficients\n",
    "    plt.figure(figsize=(10, 6))\n",
    "    sns.barplot(x='AbsCoefficient', y='Feature', data=coef_df)\n",
    "    plt.title(\"Logistic Regression Coefficients Impact\")\n",
    "    plt.show()\n",
    "\n",
    "    # Print the top 5 most impactful features (by absolute coefficient value)\n",
    "    print(\"Top 5 most impactful features based on coefficients:\")\n",
    "    print(coef_df.head())\n"
   ]
  },
  {
   "cell_type": "markdown",
   "id": "d88ba628",
   "metadata": {
    "papermill": {
     "duration": 0.011129,
     "end_time": "2025-04-24T01:02:08.370043",
     "exception": false,
     "start_time": "2025-04-24T01:02:08.358914",
     "status": "completed"
    },
    "tags": []
   },
   "source": [
    "Explanation of Output:\n",
    "\n",
    "Feature Importance (Random Forest/Decision Tree): The bar plot will show how important each feature is in the decision-making process. Features at the top of the list are the most influential in predicting the occurrence of offenses.\n",
    "\n",
    "Logistic Regression Coefficients: The bar plot will show the magnitude of the coefficients for each feature. Features with larger absolute values (either positive or negative) have a stronger impact on the model’s predictions. Positive coefficients increase the probability of an offense, while negative coefficients decrease it."
   ]
  },
  {
   "cell_type": "markdown",
   "id": "62334ac0",
   "metadata": {
    "papermill": {
     "duration": 0.01109,
     "end_time": "2025-04-24T01:02:08.392397",
     "exception": false,
     "start_time": "2025-04-24T01:02:08.381307",
     "status": "completed"
    },
    "tags": []
   },
   "source": []
  }
 ],
 "metadata": {
  "kernelspec": {
   "display_name": "Python 3",
   "language": "python",
   "name": "python3"
  },
  "language_info": {
   "codemirror_mode": {
    "name": "ipython",
    "version": 3
   },
   "file_extension": ".py",
   "mimetype": "text/x-python",
   "name": "python",
   "nbconvert_exporter": "python",
   "pygments_lexer": "ipython3",
   "version": "3.9.22"
  },
  "papermill": {
   "default_parameters": {},
   "duration": 79.276091,
   "end_time": "2025-04-24T01:02:08.920728",
   "environment_variables": {},
   "exception": null,
   "input_path": "notebook/Crime Data.ipynb",
   "output_path": "notebook/Crime Data_output.ipynb",
   "parameters": {},
   "start_time": "2025-04-24T01:00:49.644637",
   "version": "2.6.0"
  }
 },
 "nbformat": 4,
 "nbformat_minor": 5
}