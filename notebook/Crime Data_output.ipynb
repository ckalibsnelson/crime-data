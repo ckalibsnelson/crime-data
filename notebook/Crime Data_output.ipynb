{
 "cells": [
  {
   "cell_type": "markdown",
   "id": "6afa3fcf",
   "metadata": {
    "papermill": {
     "duration": 0.004411,
     "end_time": "2025-08-11T01:11:14.382800",
     "exception": false,
     "start_time": "2025-08-11T01:11:14.378389",
     "status": "completed"
    },
    "tags": []
   },
   "source": [
    "# Charlottesville Open Data Porttal: Crime Data"
   ]
  },
  {
   "cell_type": "markdown",
   "id": "0946e0d7",
   "metadata": {
    "papermill": {
     "duration": 0.004215,
     "end_time": "2025-08-11T01:11:14.390658",
     "exception": false,
     "start_time": "2025-08-11T01:11:14.386443",
     "status": "completed"
    },
    "tags": []
   },
   "source": [
    "## Import Relevant Librarires & Set WD"
   ]
  },
  {
   "cell_type": "code",
   "execution_count": 1,
   "id": "03cbec63",
   "metadata": {
    "execution": {
     "iopub.execute_input": "2025-08-11T01:11:14.398397Z",
     "iopub.status.busy": "2025-08-11T01:11:14.398109Z",
     "iopub.status.idle": "2025-08-11T01:11:15.104476Z",
     "shell.execute_reply": "2025-08-11T01:11:15.103795Z"
    },
    "papermill": {
     "duration": 0.71183,
     "end_time": "2025-08-11T01:11:15.105760",
     "exception": false,
     "start_time": "2025-08-11T01:11:14.393930",
     "status": "completed"
    },
    "tags": []
   },
   "outputs": [],
   "source": [
    "import requests\n",
    "import pandas as pd\n",
    "import numpy as np\n",
    "import pickle\n",
    "import googlemaps\n",
    "import plotly.express as px\n",
    "from geopy.geocoders import Nominatim\n",
    "import time\n",
    "from dotenv import load_dotenv\n",
    "import os\n",
    "\n",
    "env_path = os.path.join(\"..\", \".env\")\n",
    "#print(\"Looking for .env file at:\", os.path.abspath(env_path))\n",
    "load_dotenv(dotenv_path=env_path)\n",
    "\n",
    "# Retrieve the variables\n",
    "GOOGLE_API_KEY = os.getenv(\"GOOGLE_API_KEY\")\n",
    "WORKING_DIR = os.getenv(\"WORKING_DIR\")\n",
    "\n",
    "if GOOGLE_API_KEY is None or WORKING_DIR is None:\n",
    "    raise RuntimeError(\"No configuration found. Please ensure that your .env file exists with the required variables, or create a local config.py file.\")\n",
    "\n",
    "#print(\"Google API Key:\", GOOGLE_API_KEY)\n",
    "#print(\"Working Directory:\", WORKING_DIR)"
   ]
  },
  {
   "cell_type": "markdown",
   "id": "b7efc994",
   "metadata": {
    "papermill": {
     "duration": 0.003253,
     "end_time": "2025-08-11T01:11:15.112725",
     "exception": false,
     "start_time": "2025-08-11T01:11:15.109472",
     "status": "completed"
    },
    "tags": []
   },
   "source": [
    "## Import Data\n",
    "\n",
    "URL: https://opendata.charlottesville.org/datasets/charlottesville::crime-data/about"
   ]
  },
  {
   "cell_type": "code",
   "execution_count": 2,
   "id": "72695b22",
   "metadata": {
    "execution": {
     "iopub.execute_input": "2025-08-11T01:11:15.120456Z",
     "iopub.status.busy": "2025-08-11T01:11:15.120103Z",
     "iopub.status.idle": "2025-08-11T01:12:24.218536Z",
     "shell.execute_reply": "2025-08-11T01:12:24.217836Z"
    },
    "papermill": {
     "duration": 69.106951,
     "end_time": "2025-08-11T01:12:24.222988",
     "exception": false,
     "start_time": "2025-08-11T01:11:15.116037",
     "status": "completed"
    },
    "tags": []
   },
   "outputs": [
    {
     "name": "stdout",
     "output_type": "stream",
     "text": [
      "Total records imported: 25643\n"
     ]
    }
   ],
   "source": [
    "# Define the endpoint and initial parameters.\n",
    "url = \"https://gisweb.charlottesville.org/arcgis/rest/services/OpenData_2/MapServer/6/query\"\n",
    "params = {\n",
    "    \"where\": \"1=1\",\n",
    "    \"outFields\": \"*\",\n",
    "    \"outSR\": 4326,\n",
    "    \"f\": \"json\",\n",
    "    \"resultOffset\": 0,       # Starting index for results\n",
    "    \"resultRecordCount\": 10000  # Maximum records per batch (if allowed by the API)\n",
    "}\n",
    "\n",
    "records = []\n",
    "\n",
    "while True:\n",
    "    response = requests.get(url, params=params)\n",
    "    response.raise_for_status()\n",
    "    data = response.json()\n",
    "    \n",
    "    # Get the current batch of features.\n",
    "    features = data.get(\"features\", [])\n",
    "    if not features:\n",
    "        break\n",
    "\n",
    "    # Extract the attributes from the features.\n",
    "    batch_records = [feature.get(\"attributes\", {}) for feature in features]\n",
    "    records.extend(batch_records)\n",
    "    \n",
    "    # If the batch size is less than the requested count, we reached the end.\n",
    "    if len(features) < params[\"resultRecordCount\"]:\n",
    "        break\n",
    "\n",
    "    # Update the resultOffset for the next batch.\n",
    "    params[\"resultOffset\"] += params[\"resultRecordCount\"]\n",
    "\n",
    "# Create a DataFrame from the combined records.\n",
    "df = pd.DataFrame(records)\n",
    "print(\"Total records imported:\", len(df))\n"
   ]
  },
  {
   "cell_type": "code",
   "execution_count": 3,
   "id": "9858ad08",
   "metadata": {
    "execution": {
     "iopub.execute_input": "2025-08-11T01:12:24.230817Z",
     "iopub.status.busy": "2025-08-11T01:12:24.230617Z",
     "iopub.status.idle": "2025-08-11T01:12:24.242636Z",
     "shell.execute_reply": "2025-08-11T01:12:24.242054Z"
    },
    "papermill": {
     "duration": 0.017114,
     "end_time": "2025-08-11T01:12:24.243630",
     "exception": false,
     "start_time": "2025-08-11T01:12:24.226516",
     "status": "completed"
    },
    "tags": []
   },
   "outputs": [
    {
     "data": {
      "text/html": [
       "<div>\n",
       "<style scoped>\n",
       "    .dataframe tbody tr th:only-of-type {\n",
       "        vertical-align: middle;\n",
       "    }\n",
       "\n",
       "    .dataframe tbody tr th {\n",
       "        vertical-align: top;\n",
       "    }\n",
       "\n",
       "    .dataframe thead th {\n",
       "        text-align: right;\n",
       "    }\n",
       "</style>\n",
       "<table border=\"1\" class=\"dataframe\">\n",
       "  <thead>\n",
       "    <tr style=\"text-align: right;\">\n",
       "      <th></th>\n",
       "      <th>RecordID</th>\n",
       "      <th>Offense</th>\n",
       "      <th>IncidentID</th>\n",
       "      <th>BlockNumber</th>\n",
       "      <th>StreetName</th>\n",
       "      <th>Agency</th>\n",
       "      <th>DateReported</th>\n",
       "      <th>HourReported</th>\n",
       "      <th>ReportingOfficer</th>\n",
       "    </tr>\n",
       "  </thead>\n",
       "  <tbody>\n",
       "    <tr>\n",
       "      <th>0</th>\n",
       "      <td>1</td>\n",
       "      <td>Trespass</td>\n",
       "      <td>202500028038</td>\n",
       "      <td>100</td>\n",
       "      <td>14TH ST NW</td>\n",
       "      <td>CPD</td>\n",
       "      <td>1754689928000</td>\n",
       "      <td>1752</td>\n",
       "      <td>Bentz, Benjamin</td>\n",
       "    </tr>\n",
       "    <tr>\n",
       "      <th>1</th>\n",
       "      <td>2</td>\n",
       "      <td>Vandalism</td>\n",
       "      <td>202500028030</td>\n",
       "      <td>800</td>\n",
       "      <td>W MAIN ST</td>\n",
       "      <td>CPD</td>\n",
       "      <td>1754686591000</td>\n",
       "      <td>1656</td>\n",
       "      <td>Hannay, Jacob</td>\n",
       "    </tr>\n",
       "    <tr>\n",
       "      <th>2</th>\n",
       "      <td>3</td>\n",
       "      <td>Lost/FoundProperty</td>\n",
       "      <td>202500028027</td>\n",
       "      <td>100</td>\n",
       "      <td>E WATER ST</td>\n",
       "      <td>CPD</td>\n",
       "      <td>1754684103000</td>\n",
       "      <td>1615</td>\n",
       "      <td>Ritter, Kobe</td>\n",
       "    </tr>\n",
       "    <tr>\n",
       "      <th>3</th>\n",
       "      <td>4</td>\n",
       "      <td>Larceny - All Other</td>\n",
       "      <td>202500028024</td>\n",
       "      <td>1000</td>\n",
       "      <td>GRADY AVE</td>\n",
       "      <td>CPD</td>\n",
       "      <td>1754680662000</td>\n",
       "      <td>1517</td>\n",
       "      <td>Kinney, Dylan</td>\n",
       "    </tr>\n",
       "    <tr>\n",
       "      <th>4</th>\n",
       "      <td>5</td>\n",
       "      <td>Drug Investigation</td>\n",
       "      <td>202500028017</td>\n",
       "      <td>200</td>\n",
       "      <td>1ST ST N</td>\n",
       "      <td>CPD</td>\n",
       "      <td>1754680057000</td>\n",
       "      <td>1507</td>\n",
       "      <td>Ryan, Matthew</td>\n",
       "    </tr>\n",
       "  </tbody>\n",
       "</table>\n",
       "</div>"
      ],
      "text/plain": [
       "   RecordID              Offense    IncidentID BlockNumber  StreetName Agency  \\\n",
       "0         1             Trespass  202500028038         100  14TH ST NW    CPD   \n",
       "1         2            Vandalism  202500028030         800   W MAIN ST    CPD   \n",
       "2         3   Lost/FoundProperty  202500028027         100  E WATER ST    CPD   \n",
       "3         4  Larceny - All Other  202500028024        1000   GRADY AVE    CPD   \n",
       "4         5   Drug Investigation  202500028017         200    1ST ST N    CPD   \n",
       "\n",
       "    DateReported HourReported  ReportingOfficer  \n",
       "0  1754689928000         1752  Bentz, Benjamin   \n",
       "1  1754686591000         1656     Hannay, Jacob  \n",
       "2  1754684103000         1615      Ritter, Kobe  \n",
       "3  1754680662000         1517     Kinney, Dylan  \n",
       "4  1754680057000         1507     Ryan, Matthew  "
      ]
     },
     "execution_count": 3,
     "metadata": {},
     "output_type": "execute_result"
    }
   ],
   "source": [
    "df.head()"
   ]
  },
  {
   "cell_type": "code",
   "execution_count": 4,
   "id": "9b646b16",
   "metadata": {
    "execution": {
     "iopub.execute_input": "2025-08-11T01:12:24.251650Z",
     "iopub.status.busy": "2025-08-11T01:12:24.251430Z",
     "iopub.status.idle": "2025-08-11T01:12:24.255400Z",
     "shell.execute_reply": "2025-08-11T01:12:24.254884Z"
    },
    "papermill": {
     "duration": 0.009084,
     "end_time": "2025-08-11T01:12:24.256347",
     "exception": false,
     "start_time": "2025-08-11T01:12:24.247263",
     "status": "completed"
    },
    "tags": []
   },
   "outputs": [
    {
     "data": {
      "text/plain": [
       "Index(['RecordID', 'Offense', 'IncidentID', 'BlockNumber', 'StreetName',\n",
       "       'Agency', 'DateReported', 'HourReported', 'ReportingOfficer'],\n",
       "      dtype='object')"
      ]
     },
     "execution_count": 4,
     "metadata": {},
     "output_type": "execute_result"
    }
   ],
   "source": [
    "df.columns"
   ]
  },
  {
   "cell_type": "code",
   "execution_count": 5,
   "id": "02188616",
   "metadata": {
    "execution": {
     "iopub.execute_input": "2025-08-11T01:12:24.264636Z",
     "iopub.status.busy": "2025-08-11T01:12:24.264399Z",
     "iopub.status.idle": "2025-08-11T01:12:24.289150Z",
     "shell.execute_reply": "2025-08-11T01:12:24.288462Z"
    },
    "papermill": {
     "duration": 0.030231,
     "end_time": "2025-08-11T01:12:24.290322",
     "exception": false,
     "start_time": "2025-08-11T01:12:24.260091",
     "status": "completed"
    },
    "tags": []
   },
   "outputs": [
    {
     "name": "stdout",
     "output_type": "stream",
     "text": [
      "<class 'pandas.core.frame.DataFrame'>\n",
      "RangeIndex: 25643 entries, 0 to 25642\n",
      "Data columns (total 9 columns):\n",
      " #   Column            Non-Null Count  Dtype \n",
      "---  ------            --------------  ----- \n",
      " 0   RecordID          25643 non-null  int64 \n",
      " 1   Offense           25643 non-null  object\n",
      " 2   IncidentID        25643 non-null  object\n",
      " 3   BlockNumber       25643 non-null  object\n",
      " 4   StreetName        25643 non-null  object\n",
      " 5   Agency            25643 non-null  object\n",
      " 6   DateReported      25643 non-null  int64 \n",
      " 7   HourReported      25643 non-null  object\n",
      " 8   ReportingOfficer  25628 non-null  object\n",
      "dtypes: int64(2), object(7)\n",
      "memory usage: 1.8+ MB\n"
     ]
    }
   ],
   "source": [
    "df.info()"
   ]
  },
  {
   "cell_type": "markdown",
   "id": "1945a119",
   "metadata": {
    "papermill": {
     "duration": 0.003744,
     "end_time": "2025-08-11T01:12:24.298107",
     "exception": false,
     "start_time": "2025-08-11T01:12:24.294363",
     "status": "completed"
    },
    "tags": []
   },
   "source": [
    "### Missing Values"
   ]
  },
  {
   "cell_type": "code",
   "execution_count": 6,
   "id": "4902eec3",
   "metadata": {
    "execution": {
     "iopub.execute_input": "2025-08-11T01:12:24.306312Z",
     "iopub.status.busy": "2025-08-11T01:12:24.306063Z",
     "iopub.status.idle": "2025-08-11T01:12:24.330833Z",
     "shell.execute_reply": "2025-08-11T01:12:24.330135Z"
    },
    "papermill": {
     "duration": 0.030106,
     "end_time": "2025-08-11T01:12:24.331915",
     "exception": false,
     "start_time": "2025-08-11T01:12:24.301809",
     "status": "completed"
    },
    "tags": []
   },
   "outputs": [
    {
     "name": "stdout",
     "output_type": "stream",
     "text": [
      "                  MissingCount  MissingPercentage\n",
      "RecordID                     0               0.00\n",
      "Offense                      0               0.00\n",
      "IncidentID                   0               0.00\n",
      "BlockNumber                  0               0.00\n",
      "StreetName                   0               0.00\n",
      "Agency                       0               0.00\n",
      "DateReported                 0               0.00\n",
      "HourReported                 0               0.00\n",
      "ReportingOfficer            15               0.06\n"
     ]
    }
   ],
   "source": [
    "def missing_percentage(df):\n",
    "    \"\"\"\n",
    "    Returns a DataFrame with the count and percentage of missing values for each column.\n",
    "    \n",
    "    Parameters:\n",
    "        df (pd.DataFrame): The input DataFrame.\n",
    "    \n",
    "    Returns:\n",
    "        pd.DataFrame: A DataFrame with columns 'MissingCount' and 'MissingPercentage'.\n",
    "    \"\"\"\n",
    "    total_rows = len(df)\n",
    "    missing_count = df.isnull().sum()\n",
    "    missing_percent = (missing_count / total_rows) * 100\n",
    "    \n",
    "    result = pd.DataFrame({\n",
    "        'MissingCount': missing_count,\n",
    "        'MissingPercentage': missing_percent.round(2)\n",
    "    })\n",
    "    \n",
    "    return result\n",
    "\n",
    "# Example usage:\n",
    "missing_info = missing_percentage(df)\n",
    "print(missing_info)\n"
   ]
  },
  {
   "cell_type": "markdown",
   "id": "85fd47a8",
   "metadata": {
    "papermill": {
     "duration": 0.003822,
     "end_time": "2025-08-11T01:12:24.339883",
     "exception": false,
     "start_time": "2025-08-11T01:12:24.336061",
     "status": "completed"
    },
    "tags": []
   },
   "source": [
    "## Data Preparation"
   ]
  },
  {
   "cell_type": "markdown",
   "id": "4a400fc4",
   "metadata": {
    "papermill": {
     "duration": 0.003747,
     "end_time": "2025-08-11T01:12:24.347428",
     "exception": false,
     "start_time": "2025-08-11T01:12:24.343681",
     "status": "completed"
    },
    "tags": []
   },
   "source": [
    "### Data Conversion"
   ]
  },
  {
   "cell_type": "code",
   "execution_count": 7,
   "id": "93caeea9",
   "metadata": {
    "execution": {
     "iopub.execute_input": "2025-08-11T01:12:24.355954Z",
     "iopub.status.busy": "2025-08-11T01:12:24.355700Z",
     "iopub.status.idle": "2025-08-11T01:12:24.720691Z",
     "shell.execute_reply": "2025-08-11T01:12:24.719922Z"
    },
    "papermill": {
     "duration": 0.370581,
     "end_time": "2025-08-11T01:12:24.721832",
     "exception": false,
     "start_time": "2025-08-11T01:12:24.351251",
     "status": "completed"
    },
    "tags": []
   },
   "outputs": [
    {
     "data": {
      "text/html": [
       "<div>\n",
       "<style scoped>\n",
       "    .dataframe tbody tr th:only-of-type {\n",
       "        vertical-align: middle;\n",
       "    }\n",
       "\n",
       "    .dataframe tbody tr th {\n",
       "        vertical-align: top;\n",
       "    }\n",
       "\n",
       "    .dataframe thead th {\n",
       "        text-align: right;\n",
       "    }\n",
       "</style>\n",
       "<table border=\"1\" class=\"dataframe\">\n",
       "  <thead>\n",
       "    <tr style=\"text-align: right;\">\n",
       "      <th></th>\n",
       "      <th>RecordID</th>\n",
       "      <th>Offense</th>\n",
       "      <th>IncidentID</th>\n",
       "      <th>BlockNumber</th>\n",
       "      <th>StreetName</th>\n",
       "      <th>Agency</th>\n",
       "      <th>HourReported</th>\n",
       "      <th>ReportingOfficer</th>\n",
       "      <th>Date</th>\n",
       "      <th>DateString</th>\n",
       "      <th>DayOfWeek</th>\n",
       "      <th>Weekend</th>\n",
       "      <th>Season</th>\n",
       "      <th>HourAMPM</th>\n",
       "      <th>TimeOfDay</th>\n",
       "    </tr>\n",
       "  </thead>\n",
       "  <tbody>\n",
       "    <tr>\n",
       "      <th>0</th>\n",
       "      <td>1</td>\n",
       "      <td>Trespass</td>\n",
       "      <td>202500028038</td>\n",
       "      <td>100</td>\n",
       "      <td>14TH ST NW</td>\n",
       "      <td>CPD</td>\n",
       "      <td>1752</td>\n",
       "      <td>Bentz, Benjamin</td>\n",
       "      <td>2025-08-08 17:52:08</td>\n",
       "      <td>2025-08-08 05:52:08 PM</td>\n",
       "      <td>Friday</td>\n",
       "      <td>False</td>\n",
       "      <td>Summer</td>\n",
       "      <td>05:52 PM</td>\n",
       "      <td>Evening</td>\n",
       "    </tr>\n",
       "    <tr>\n",
       "      <th>1</th>\n",
       "      <td>2</td>\n",
       "      <td>Vandalism</td>\n",
       "      <td>202500028030</td>\n",
       "      <td>800</td>\n",
       "      <td>W MAIN ST</td>\n",
       "      <td>CPD</td>\n",
       "      <td>1656</td>\n",
       "      <td>Hannay, Jacob</td>\n",
       "      <td>2025-08-08 16:56:31</td>\n",
       "      <td>2025-08-08 04:56:31 PM</td>\n",
       "      <td>Friday</td>\n",
       "      <td>False</td>\n",
       "      <td>Summer</td>\n",
       "      <td>04:56 PM</td>\n",
       "      <td>Afternoon</td>\n",
       "    </tr>\n",
       "    <tr>\n",
       "      <th>2</th>\n",
       "      <td>3</td>\n",
       "      <td>Lost/FoundProperty</td>\n",
       "      <td>202500028027</td>\n",
       "      <td>100</td>\n",
       "      <td>E WATER ST</td>\n",
       "      <td>CPD</td>\n",
       "      <td>1615</td>\n",
       "      <td>Ritter, Kobe</td>\n",
       "      <td>2025-08-08 16:15:03</td>\n",
       "      <td>2025-08-08 04:15:03 PM</td>\n",
       "      <td>Friday</td>\n",
       "      <td>False</td>\n",
       "      <td>Summer</td>\n",
       "      <td>04:15 PM</td>\n",
       "      <td>Afternoon</td>\n",
       "    </tr>\n",
       "    <tr>\n",
       "      <th>3</th>\n",
       "      <td>4</td>\n",
       "      <td>Larceny - All Other</td>\n",
       "      <td>202500028024</td>\n",
       "      <td>1000</td>\n",
       "      <td>GRADY AVE</td>\n",
       "      <td>CPD</td>\n",
       "      <td>1517</td>\n",
       "      <td>Kinney, Dylan</td>\n",
       "      <td>2025-08-08 15:17:42</td>\n",
       "      <td>2025-08-08 03:17:42 PM</td>\n",
       "      <td>Friday</td>\n",
       "      <td>False</td>\n",
       "      <td>Summer</td>\n",
       "      <td>03:17 PM</td>\n",
       "      <td>Afternoon</td>\n",
       "    </tr>\n",
       "    <tr>\n",
       "      <th>4</th>\n",
       "      <td>5</td>\n",
       "      <td>Drug Investigation</td>\n",
       "      <td>202500028017</td>\n",
       "      <td>200</td>\n",
       "      <td>1ST ST N</td>\n",
       "      <td>CPD</td>\n",
       "      <td>1507</td>\n",
       "      <td>Ryan, Matthew</td>\n",
       "      <td>2025-08-08 15:07:37</td>\n",
       "      <td>2025-08-08 03:07:37 PM</td>\n",
       "      <td>Friday</td>\n",
       "      <td>False</td>\n",
       "      <td>Summer</td>\n",
       "      <td>03:07 PM</td>\n",
       "      <td>Afternoon</td>\n",
       "    </tr>\n",
       "  </tbody>\n",
       "</table>\n",
       "</div>"
      ],
      "text/plain": [
       "   RecordID              Offense    IncidentID BlockNumber  StreetName Agency  \\\n",
       "0         1             Trespass  202500028038         100  14TH ST NW    CPD   \n",
       "1         2            Vandalism  202500028030         800   W MAIN ST    CPD   \n",
       "2         3   Lost/FoundProperty  202500028027         100  E WATER ST    CPD   \n",
       "3         4  Larceny - All Other  202500028024        1000   GRADY AVE    CPD   \n",
       "4         5   Drug Investigation  202500028017         200    1ST ST N    CPD   \n",
       "\n",
       "  HourReported  ReportingOfficer                Date              DateString  \\\n",
       "0         1752  Bentz, Benjamin  2025-08-08 17:52:08  2025-08-08 05:52:08 PM   \n",
       "1         1656     Hannay, Jacob 2025-08-08 16:56:31  2025-08-08 04:56:31 PM   \n",
       "2         1615      Ritter, Kobe 2025-08-08 16:15:03  2025-08-08 04:15:03 PM   \n",
       "3         1517     Kinney, Dylan 2025-08-08 15:17:42  2025-08-08 03:17:42 PM   \n",
       "4         1507     Ryan, Matthew 2025-08-08 15:07:37  2025-08-08 03:07:37 PM   \n",
       "\n",
       "  DayOfWeek  Weekend  Season  HourAMPM  TimeOfDay  \n",
       "0    Friday    False  Summer  05:52 PM    Evening  \n",
       "1    Friday    False  Summer  04:56 PM  Afternoon  \n",
       "2    Friday    False  Summer  04:15 PM  Afternoon  \n",
       "3    Friday    False  Summer  03:17 PM  Afternoon  \n",
       "4    Friday    False  Summer  03:07 PM  Afternoon  "
      ]
     },
     "execution_count": 7,
     "metadata": {},
     "output_type": "execute_result"
    }
   ],
   "source": [
    "def convert_and_categorize_datereported(df, col='DateReported'):\n",
    "    \"\"\"\n",
    "    Converts an epoch (in milliseconds) date column into a timezone-aware datetime,\n",
    "    converts it to Eastern Time, and then creates columns for day-of-week, weekend flag,\n",
    "    season, 12-hour formatted time, and time-of-day. Keeps both a real datetime column\n",
    "    (Date) and a string representation (DateString).\n",
    "    \"\"\"\n",
    "    import pandas as pd\n",
    "\n",
    "    # Convert the epoch timestamp to a pandas datetime object as UTC, then convert to US/Eastern.\n",
    "    df[\"DateReported_dt\"] = (\n",
    "        pd.to_datetime(df[col], unit=\"ms\", errors=\"coerce\", utc=True)\n",
    "        .dt.tz_convert(\"US/Eastern\")\n",
    "    )\n",
    "    \n",
    "    # Create a true datetime column (remove timezone if you prefer naive datetime)\n",
    "    df[\"Date\"] = df[\"DateReported_dt\"].dt.tz_localize(None)\n",
    "\n",
    "    # Optionally, create a separate string-formatted column\n",
    "    df[\"DateString\"] = df[\"DateReported_dt\"].dt.strftime(\"%Y-%m-%d %I:%M:%S %p\")\n",
    "    \n",
    "    # DayOfWeek\n",
    "    df[\"DayOfWeek\"] = df[\"DateReported_dt\"].dt.day_name()\n",
    "    \n",
    "    # Weekend\n",
    "    df[\"Weekend\"] = df[\"DayOfWeek\"].isin([\"Saturday\", \"Sunday\"])\n",
    "    \n",
    "    # Helper function to determine the season\n",
    "    def get_season(dt):\n",
    "        month = dt.month\n",
    "        day = dt.day\n",
    "        # Approximate Northern Hemisphere season boundaries:\n",
    "        if (month == 12 and day >= 21) or (month < 3) or (month == 3 and day < 20):\n",
    "            return \"Winter\"\n",
    "        elif (month == 3 and day >= 20) or (month < 6) or (month == 6 and day < 21):\n",
    "            return \"Spring\"\n",
    "        elif (month == 6 and day >= 21) or (month < 9) or (month == 9 and day < 22):\n",
    "            return \"Summer\"\n",
    "        else:\n",
    "            return \"Autumn\"\n",
    "    \n",
    "    df[\"Season\"] = df[\"DateReported_dt\"].apply(get_season)\n",
    "    \n",
    "    # 12-hour formatted time (HourAMPM)\n",
    "    df[\"HourAMPM\"] = df[\"DateReported_dt\"].dt.strftime(\"%I:%M %p\")\n",
    "    \n",
    "    # Extract hour (0-23) for time-of-day\n",
    "    df[\"HourValue\"] = df[\"DateReported_dt\"].dt.hour\n",
    "    \n",
    "    def time_of_day(hour):\n",
    "        if pd.isnull(hour):\n",
    "            return None\n",
    "        if 5 <= hour < 12:\n",
    "            return \"Morning\"\n",
    "        elif 12 <= hour < 17:\n",
    "            return \"Afternoon\"\n",
    "        elif 17 <= hour < 21:\n",
    "            return \"Evening\"\n",
    "        else:\n",
    "            return \"Night\"\n",
    "    \n",
    "    df[\"TimeOfDay\"] = df[\"HourValue\"].apply(time_of_day)\n",
    "    \n",
    "    # Drop columns you no longer need\n",
    "    df.drop(columns=[col, \"DateReported_dt\", \"HourValue\"], inplace=True)\n",
    "    \n",
    "    return df\n",
    "\n",
    "# Example usage:\n",
    "df = convert_and_categorize_datereported(df)\n",
    "df.head()\n"
   ]
  },
  {
   "cell_type": "code",
   "execution_count": 8,
   "id": "22d30d4d",
   "metadata": {
    "execution": {
     "iopub.execute_input": "2025-08-11T01:12:24.731208Z",
     "iopub.status.busy": "2025-08-11T01:12:24.731002Z",
     "iopub.status.idle": "2025-08-11T01:12:24.759382Z",
     "shell.execute_reply": "2025-08-11T01:12:24.758786Z"
    },
    "papermill": {
     "duration": 0.0341,
     "end_time": "2025-08-11T01:12:24.760360",
     "exception": false,
     "start_time": "2025-08-11T01:12:24.726260",
     "status": "completed"
    },
    "tags": []
   },
   "outputs": [
    {
     "name": "stdout",
     "output_type": "stream",
     "text": [
      "<class 'pandas.core.frame.DataFrame'>\n",
      "RangeIndex: 25643 entries, 0 to 25642\n",
      "Data columns (total 15 columns):\n",
      " #   Column            Non-Null Count  Dtype         \n",
      "---  ------            --------------  -----         \n",
      " 0   RecordID          25643 non-null  int64         \n",
      " 1   Offense           25643 non-null  object        \n",
      " 2   IncidentID        25643 non-null  object        \n",
      " 3   BlockNumber       25643 non-null  object        \n",
      " 4   StreetName        25643 non-null  object        \n",
      " 5   Agency            25643 non-null  object        \n",
      " 6   HourReported      25643 non-null  object        \n",
      " 7   ReportingOfficer  25628 non-null  object        \n",
      " 8   Date              25643 non-null  datetime64[ns]\n",
      " 9   DateString        25643 non-null  object        \n",
      " 10  DayOfWeek         25643 non-null  object        \n",
      " 11  Weekend           25643 non-null  bool          \n",
      " 12  Season            25643 non-null  object        \n",
      " 13  HourAMPM          25643 non-null  object        \n",
      " 14  TimeOfDay         25643 non-null  object        \n",
      "dtypes: bool(1), datetime64[ns](1), int64(1), object(12)\n",
      "memory usage: 2.8+ MB\n"
     ]
    }
   ],
   "source": [
    "df.info()"
   ]
  },
  {
   "cell_type": "markdown",
   "id": "3a233f72",
   "metadata": {
    "papermill": {
     "duration": 0.004021,
     "end_time": "2025-08-11T01:12:24.768795",
     "exception": false,
     "start_time": "2025-08-11T01:12:24.764774",
     "status": "completed"
    },
    "tags": []
   },
   "source": [
    "### Coordinates"
   ]
  },
  {
   "cell_type": "code",
   "execution_count": 9,
   "id": "39acfa07",
   "metadata": {
    "execution": {
     "iopub.execute_input": "2025-08-11T01:12:24.777809Z",
     "iopub.status.busy": "2025-08-11T01:12:24.777592Z",
     "iopub.status.idle": "2025-08-11T01:12:24.963029Z",
     "shell.execute_reply": "2025-08-11T01:12:24.962347Z"
    },
    "papermill": {
     "duration": 0.191221,
     "end_time": "2025-08-11T01:12:24.964080",
     "exception": false,
     "start_time": "2025-08-11T01:12:24.772859",
     "status": "completed"
    },
    "tags": []
   },
   "outputs": [
    {
     "name": "stdout",
     "output_type": "stream",
     "text": [
      "Loaded geocode cache.\n",
      "Error geocoding 1300 E MARKET ST, A/B: REQUEST_DENIED (You must enable Billing on the Google Cloud Project at https://console.cloud.google.com/project/_/billing/enable Learn more at https://developers.google.com/maps/gmp-get-started)\n",
      "Geocoded 1300 E MARKET ST, A/B: None, None\n",
      "Error geocoding 1800 RUGBY RD: REQUEST_DENIED (You must enable Billing on the Google Cloud Project at https://console.cloud.google.com/project/_/billing/enable Learn more at https://developers.google.com/maps/gmp-get-started)\n",
      "Geocoded 1800 RUGBY RD: None, None\n",
      "Geocode cache updated and saved.\n"
     ]
    },
    {
     "data": {
      "text/html": [
       "<div>\n",
       "<style scoped>\n",
       "    .dataframe tbody tr th:only-of-type {\n",
       "        vertical-align: middle;\n",
       "    }\n",
       "\n",
       "    .dataframe tbody tr th {\n",
       "        vertical-align: top;\n",
       "    }\n",
       "\n",
       "    .dataframe thead th {\n",
       "        text-align: right;\n",
       "    }\n",
       "</style>\n",
       "<table border=\"1\" class=\"dataframe\">\n",
       "  <thead>\n",
       "    <tr style=\"text-align: right;\">\n",
       "      <th></th>\n",
       "      <th>RecordID</th>\n",
       "      <th>Offense</th>\n",
       "      <th>IncidentID</th>\n",
       "      <th>BlockNumber</th>\n",
       "      <th>StreetName</th>\n",
       "      <th>Agency</th>\n",
       "      <th>HourReported</th>\n",
       "      <th>ReportingOfficer</th>\n",
       "      <th>Date</th>\n",
       "      <th>DateString</th>\n",
       "      <th>DayOfWeek</th>\n",
       "      <th>Weekend</th>\n",
       "      <th>Season</th>\n",
       "      <th>HourAMPM</th>\n",
       "      <th>TimeOfDay</th>\n",
       "      <th>FullStreet</th>\n",
       "      <th>lat</th>\n",
       "      <th>lon</th>\n",
       "    </tr>\n",
       "  </thead>\n",
       "  <tbody>\n",
       "    <tr>\n",
       "      <th>0</th>\n",
       "      <td>1</td>\n",
       "      <td>Trespass</td>\n",
       "      <td>202500028038</td>\n",
       "      <td>100</td>\n",
       "      <td>14TH ST NW</td>\n",
       "      <td>CPD</td>\n",
       "      <td>1752</td>\n",
       "      <td>Bentz, Benjamin</td>\n",
       "      <td>2025-08-08 17:52:08</td>\n",
       "      <td>2025-08-08 05:52:08 PM</td>\n",
       "      <td>Friday</td>\n",
       "      <td>False</td>\n",
       "      <td>Summer</td>\n",
       "      <td>05:52 PM</td>\n",
       "      <td>Evening</td>\n",
       "      <td>100 14TH ST NW</td>\n",
       "      <td>38.034184</td>\n",
       "      <td>-78.499400</td>\n",
       "    </tr>\n",
       "    <tr>\n",
       "      <th>1</th>\n",
       "      <td>2</td>\n",
       "      <td>Vandalism</td>\n",
       "      <td>202500028030</td>\n",
       "      <td>800</td>\n",
       "      <td>W MAIN ST</td>\n",
       "      <td>CPD</td>\n",
       "      <td>1656</td>\n",
       "      <td>Hannay, Jacob</td>\n",
       "      <td>2025-08-08 16:56:31</td>\n",
       "      <td>2025-08-08 04:56:31 PM</td>\n",
       "      <td>Friday</td>\n",
       "      <td>False</td>\n",
       "      <td>Summer</td>\n",
       "      <td>04:56 PM</td>\n",
       "      <td>Afternoon</td>\n",
       "      <td>800 W MAIN ST</td>\n",
       "      <td>38.031480</td>\n",
       "      <td>-78.490333</td>\n",
       "    </tr>\n",
       "    <tr>\n",
       "      <th>2</th>\n",
       "      <td>3</td>\n",
       "      <td>Lost/FoundProperty</td>\n",
       "      <td>202500028027</td>\n",
       "      <td>100</td>\n",
       "      <td>E WATER ST</td>\n",
       "      <td>CPD</td>\n",
       "      <td>1615</td>\n",
       "      <td>Ritter, Kobe</td>\n",
       "      <td>2025-08-08 16:15:03</td>\n",
       "      <td>2025-08-08 04:15:03 PM</td>\n",
       "      <td>Friday</td>\n",
       "      <td>False</td>\n",
       "      <td>Summer</td>\n",
       "      <td>04:15 PM</td>\n",
       "      <td>Afternoon</td>\n",
       "      <td>100 E WATER ST</td>\n",
       "      <td>38.029589</td>\n",
       "      <td>-78.481657</td>\n",
       "    </tr>\n",
       "    <tr>\n",
       "      <th>3</th>\n",
       "      <td>4</td>\n",
       "      <td>Larceny - All Other</td>\n",
       "      <td>202500028024</td>\n",
       "      <td>1000</td>\n",
       "      <td>GRADY AVE</td>\n",
       "      <td>CPD</td>\n",
       "      <td>1517</td>\n",
       "      <td>Kinney, Dylan</td>\n",
       "      <td>2025-08-08 15:17:42</td>\n",
       "      <td>2025-08-08 03:17:42 PM</td>\n",
       "      <td>Friday</td>\n",
       "      <td>False</td>\n",
       "      <td>Summer</td>\n",
       "      <td>03:17 PM</td>\n",
       "      <td>Afternoon</td>\n",
       "      <td>1000 GRADY AVE</td>\n",
       "      <td>38.038512</td>\n",
       "      <td>-78.491664</td>\n",
       "    </tr>\n",
       "    <tr>\n",
       "      <th>4</th>\n",
       "      <td>5</td>\n",
       "      <td>Drug Investigation</td>\n",
       "      <td>202500028017</td>\n",
       "      <td>200</td>\n",
       "      <td>1ST ST N</td>\n",
       "      <td>CPD</td>\n",
       "      <td>1507</td>\n",
       "      <td>Ryan, Matthew</td>\n",
       "      <td>2025-08-08 15:07:37</td>\n",
       "      <td>2025-08-08 03:07:37 PM</td>\n",
       "      <td>Friday</td>\n",
       "      <td>False</td>\n",
       "      <td>Summer</td>\n",
       "      <td>03:07 PM</td>\n",
       "      <td>Afternoon</td>\n",
       "      <td>200 1ST ST N</td>\n",
       "      <td>38.031539</td>\n",
       "      <td>-78.481144</td>\n",
       "    </tr>\n",
       "  </tbody>\n",
       "</table>\n",
       "</div>"
      ],
      "text/plain": [
       "   RecordID              Offense    IncidentID BlockNumber  StreetName Agency  \\\n",
       "0         1             Trespass  202500028038         100  14TH ST NW    CPD   \n",
       "1         2            Vandalism  202500028030         800   W MAIN ST    CPD   \n",
       "2         3   Lost/FoundProperty  202500028027         100  E WATER ST    CPD   \n",
       "3         4  Larceny - All Other  202500028024        1000   GRADY AVE    CPD   \n",
       "4         5   Drug Investigation  202500028017         200    1ST ST N    CPD   \n",
       "\n",
       "  HourReported  ReportingOfficer                Date              DateString  \\\n",
       "0         1752  Bentz, Benjamin  2025-08-08 17:52:08  2025-08-08 05:52:08 PM   \n",
       "1         1656     Hannay, Jacob 2025-08-08 16:56:31  2025-08-08 04:56:31 PM   \n",
       "2         1615      Ritter, Kobe 2025-08-08 16:15:03  2025-08-08 04:15:03 PM   \n",
       "3         1517     Kinney, Dylan 2025-08-08 15:17:42  2025-08-08 03:17:42 PM   \n",
       "4         1507     Ryan, Matthew 2025-08-08 15:07:37  2025-08-08 03:07:37 PM   \n",
       "\n",
       "  DayOfWeek  Weekend  Season  HourAMPM  TimeOfDay      FullStreet        lat  \\\n",
       "0    Friday    False  Summer  05:52 PM    Evening  100 14TH ST NW  38.034184   \n",
       "1    Friday    False  Summer  04:56 PM  Afternoon   800 W MAIN ST  38.031480   \n",
       "2    Friday    False  Summer  04:15 PM  Afternoon  100 E WATER ST  38.029589   \n",
       "3    Friday    False  Summer  03:17 PM  Afternoon  1000 GRADY AVE  38.038512   \n",
       "4    Friday    False  Summer  03:07 PM  Afternoon    200 1ST ST N  38.031539   \n",
       "\n",
       "         lon  \n",
       "0 -78.499400  \n",
       "1 -78.490333  \n",
       "2 -78.481657  \n",
       "3 -78.491664  \n",
       "4 -78.481144  "
      ]
     },
     "execution_count": 9,
     "metadata": {},
     "output_type": "execute_result"
    }
   ],
   "source": [
    "# Combine BlockNumber and StreetName into a full address string\n",
    "df['FullStreet'] = df['BlockNumber'].astype(str) + \" \" + df['StreetName']\n",
    "\n",
    "# --- Step 1: Setup the Google Maps Client and Cache ---\n",
    "gmaps = googlemaps.Client(key=GOOGLE_API_KEY)\n",
    "\n",
    "# Try to load cached geocoding results if available.\n",
    "try:\n",
    "    with open(\"geocode_cache_google.pkl\", \"rb\") as f:\n",
    "        street_coords = pickle.load(f)\n",
    "    print(\"Loaded geocode cache.\")\n",
    "except FileNotFoundError:\n",
    "    street_coords = {}\n",
    "    print(\"No cache found; starting fresh.\")\n",
    "\n",
    "def geocode_address(address):\n",
    "    try:\n",
    "        # Append city and state to help geocoding\n",
    "        result = gmaps.geocode(f\"{address}, Charlottesville, VA\")\n",
    "        if result:\n",
    "            lat = result[0]['geometry']['location']['lat']\n",
    "            lon = result[0]['geometry']['location']['lng']\n",
    "            return lat, lon\n",
    "    except Exception as e:\n",
    "        print(f\"Error geocoding {address}: {e}\")\n",
    "    return None, None\n",
    "\n",
    "# --- Step 2: Geocode Only New Addresses ---\n",
    "unique_addresses = df['FullStreet'].unique()\n",
    "for address in unique_addresses:\n",
    "    if address not in street_coords:\n",
    "        lat, lon = geocode_address(address)\n",
    "        street_coords[address] = (lat, lon)\n",
    "        print(f\"Geocoded {address}: {lat}, {lon}\")\n",
    "\n",
    "# Save the updated cache to disk.\n",
    "with open(\"geocode_cache_google.pkl\", \"wb\") as f:\n",
    "    pickle.dump(street_coords, f)\n",
    "    print(\"Geocode cache updated and saved.\")\n",
    "\n",
    "# --- Step 3: Map Coordinates Back to DataFrame ---\n",
    "df['lat'] = df['FullStreet'].map(lambda s: street_coords.get(s, (None, None))[0])\n",
    "df['lon'] = df['FullStreet'].map(lambda s: street_coords.get(s, (None, None))[1])\n",
    "\n",
    "df.head()"
   ]
  },
  {
   "cell_type": "markdown",
   "id": "95d69cdb",
   "metadata": {
    "papermill": {
     "duration": 0.004378,
     "end_time": "2025-08-11T01:12:24.973323",
     "exception": false,
     "start_time": "2025-08-11T01:12:24.968945",
     "status": "completed"
    },
    "tags": []
   },
   "source": [
    "### Neighborhood"
   ]
  },
  {
   "cell_type": "code",
   "execution_count": 10,
   "id": "db498e7b",
   "metadata": {
    "execution": {
     "iopub.execute_input": "2025-08-11T01:12:24.983050Z",
     "iopub.status.busy": "2025-08-11T01:12:24.982787Z",
     "iopub.status.idle": "2025-08-11T01:12:27.004119Z",
     "shell.execute_reply": "2025-08-11T01:12:27.003534Z"
    },
    "papermill": {
     "duration": 2.027499,
     "end_time": "2025-08-11T01:12:27.005160",
     "exception": false,
     "start_time": "2025-08-11T01:12:24.977661",
     "status": "completed"
    },
    "tags": []
   },
   "outputs": [
    {
     "name": "stdout",
     "output_type": "stream",
     "text": [
      "Loaded neighborhood cache.\n"
     ]
    },
    {
     "name": "stdout",
     "output_type": "stream",
     "text": [
      "Error getting neighborhood for nan, nan: HTTP Error: 400\n",
      "Error getting neighborhood for nan, nan: HTTP Error: 400\n",
      "Error getting neighborhood for nan, nan: HTTP Error: 400\n"
     ]
    },
    {
     "name": "stdout",
     "output_type": "stream",
     "text": [
      "Error getting neighborhood for nan, nan: HTTP Error: 400\n",
      "Error getting neighborhood for nan, nan: HTTP Error: 400\n",
      "Error getting neighborhood for nan, nan: HTTP Error: 400\n"
     ]
    },
    {
     "name": "stdout",
     "output_type": "stream",
     "text": [
      "Error getting neighborhood for nan, nan: HTTP Error: 400\n",
      "Error getting neighborhood for nan, nan: HTTP Error: 400\n",
      "Error getting neighborhood for nan, nan: HTTP Error: 400\n",
      "Error getting neighborhood for nan, nan: HTTP Error: 400\n",
      "Error getting neighborhood for nan, nan: HTTP Error: 400\n"
     ]
    },
    {
     "name": "stdout",
     "output_type": "stream",
     "text": [
      "Error getting neighborhood for nan, nan: HTTP Error: 400\n",
      "Error getting neighborhood for nan, nan: HTTP Error: 400\n",
      "Error getting neighborhood for nan, nan: HTTP Error: 400\n",
      "Error getting neighborhood for nan, nan: HTTP Error: 400\n"
     ]
    },
    {
     "name": "stdout",
     "output_type": "stream",
     "text": [
      "Error getting neighborhood for nan, nan: HTTP Error: 400\n",
      "Error getting neighborhood for nan, nan: HTTP Error: 400\n",
      "Error getting neighborhood for nan, nan: HTTP Error: 400\n",
      "Error getting neighborhood for nan, nan: HTTP Error: 400\n",
      "Error getting neighborhood for nan, nan: HTTP Error: 400\n",
      "Error getting neighborhood for nan, nan: HTTP Error: 400\n"
     ]
    },
    {
     "name": "stdout",
     "output_type": "stream",
     "text": [
      "Error getting neighborhood for nan, nan: HTTP Error: 400\n",
      "Error getting neighborhood for nan, nan: HTTP Error: 400\n",
      "Error getting neighborhood for nan, nan: HTTP Error: 400\n",
      "Error getting neighborhood for nan, nan: HTTP Error: 400\n",
      "Error getting neighborhood for nan, nan: HTTP Error: 400\n"
     ]
    },
    {
     "name": "stdout",
     "output_type": "stream",
     "text": [
      "Error getting neighborhood for nan, nan: HTTP Error: 400\n",
      "Error getting neighborhood for nan, nan: HTTP Error: 400\n",
      "Error getting neighborhood for nan, nan: HTTP Error: 400\n",
      "Error getting neighborhood for nan, nan: HTTP Error: 400\n",
      "Error getting neighborhood for nan, nan: HTTP Error: 400\n",
      "Error getting neighborhood for nan, nan: HTTP Error: 400\n"
     ]
    },
    {
     "name": "stdout",
     "output_type": "stream",
     "text": [
      "Error getting neighborhood for nan, nan: HTTP Error: 400\n",
      "Error getting neighborhood for nan, nan: HTTP Error: 400\n",
      "Error getting neighborhood for nan, nan: HTTP Error: 400\n",
      "Error getting neighborhood for nan, nan: HTTP Error: 400\n",
      "Error getting neighborhood for nan, nan: HTTP Error: 400\n"
     ]
    },
    {
     "name": "stdout",
     "output_type": "stream",
     "text": [
      "Error getting neighborhood for nan, nan: HTTP Error: 400\n",
      "Error getting neighborhood for nan, nan: HTTP Error: 400\n",
      "Error getting neighborhood for nan, nan: HTTP Error: 400\n",
      "Error getting neighborhood for nan, nan: HTTP Error: 400\n",
      "Error getting neighborhood for nan, nan: HTTP Error: 400\n",
      "Error getting neighborhood for nan, nan: HTTP Error: 400\n",
      "Error getting neighborhood for nan, nan: HTTP Error: 400\n",
      "Error getting neighborhood for nan, nan: HTTP Error: 400\n",
      "Error getting neighborhood for nan, nan: HTTP Error: 400\n",
      "Error getting neighborhood for nan, nan: HTTP Error: 400\n"
     ]
    },
    {
     "name": "stdout",
     "output_type": "stream",
     "text": [
      "Error getting neighborhood for nan, nan: HTTP Error: 400\n",
      "Error getting neighborhood for nan, nan: HTTP Error: 400\n",
      "Error getting neighborhood for nan, nan: HTTP Error: 400\n",
      "Error getting neighborhood for nan, nan: HTTP Error: 400\n",
      "Error getting neighborhood for nan, nan: HTTP Error: 400\n"
     ]
    },
    {
     "name": "stdout",
     "output_type": "stream",
     "text": [
      "Error getting neighborhood for nan, nan: HTTP Error: 400\n",
      "Error getting neighborhood for nan, nan: HTTP Error: 400\n",
      "Error getting neighborhood for nan, nan: HTTP Error: 400\n",
      "Error getting neighborhood for nan, nan: HTTP Error: 400\n",
      "Error getting neighborhood for nan, nan: HTTP Error: 400\n",
      "Error getting neighborhood for nan, nan: HTTP Error: 400\n",
      "Error getting neighborhood for nan, nan: HTTP Error: 400\n",
      "Error getting neighborhood for nan, nan: HTTP Error: 400\n",
      "Error getting neighborhood for nan, nan: HTTP Error: 400\n"
     ]
    },
    {
     "name": "stdout",
     "output_type": "stream",
     "text": [
      "Error getting neighborhood for nan, nan: HTTP Error: 400\n",
      "Error getting neighborhood for nan, nan: HTTP Error: 400\n",
      "Error getting neighborhood for nan, nan: HTTP Error: 400\n",
      "Error getting neighborhood for nan, nan: HTTP Error: 400\n"
     ]
    },
    {
     "name": "stdout",
     "output_type": "stream",
     "text": [
      "Error getting neighborhood for nan, nan: HTTP Error: 400\n",
      "Error getting neighborhood for nan, nan: HTTP Error: 400\n",
      "Error getting neighborhood for nan, nan: HTTP Error: 400\n",
      "Error getting neighborhood for nan, nan: HTTP Error: 400\n",
      "Error getting neighborhood for nan, nan: HTTP Error: 400\n",
      "Error getting neighborhood for nan, nan: HTTP Error: 400\n",
      "Error getting neighborhood for nan, nan: HTTP Error: 400\n",
      "Error getting neighborhood for nan, nan: HTTP Error: 400\n",
      "Error getting neighborhood for nan, nan: HTTP Error: 400\n",
      "Error getting neighborhood for nan, nan: HTTP Error: 400\n",
      "Error getting neighborhood for nan, nan: HTTP Error: 400\n"
     ]
    },
    {
     "name": "stdout",
     "output_type": "stream",
     "text": [
      "Error getting neighborhood for nan, nan: HTTP Error: 400\n",
      "Error getting neighborhood for nan, nan: HTTP Error: 400\n",
      "Error getting neighborhood for nan, nan: HTTP Error: 400\n",
      "Error getting neighborhood for nan, nan: HTTP Error: 400\n"
     ]
    },
    {
     "name": "stdout",
     "output_type": "stream",
     "text": [
      "Error getting neighborhood for nan, nan: HTTP Error: 400\n",
      "Error getting neighborhood for nan, nan: HTTP Error: 400\n",
      "Error getting neighborhood for nan, nan: HTTP Error: 400\n",
      "Error getting neighborhood for nan, nan: HTTP Error: 400\n",
      "Error getting neighborhood for nan, nan: HTTP Error: 400\n",
      "Error getting neighborhood for nan, nan: HTTP Error: 400\n",
      "Error getting neighborhood for nan, nan: HTTP Error: 400\n",
      "Error getting neighborhood for nan, nan: HTTP Error: 400\n",
      "Error getting neighborhood for nan, nan: HTTP Error: 400\n",
      "Error getting neighborhood for nan, nan: HTTP Error: 400\n",
      "Error getting neighborhood for nan, nan: HTTP Error: 400\n"
     ]
    },
    {
     "name": "stdout",
     "output_type": "stream",
     "text": [
      "Error getting neighborhood for nan, nan: HTTP Error: 400\n",
      "Error getting neighborhood for nan, nan: HTTP Error: 400\n",
      "Error getting neighborhood for nan, nan: HTTP Error: 400\n"
     ]
    },
    {
     "name": "stdout",
     "output_type": "stream",
     "text": [
      "Error getting neighborhood for nan, nan: HTTP Error: 400\n",
      "Error getting neighborhood for nan, nan: HTTP Error: 400\n"
     ]
    },
    {
     "data": {
      "text/html": [
       "<div>\n",
       "<style scoped>\n",
       "    .dataframe tbody tr th:only-of-type {\n",
       "        vertical-align: middle;\n",
       "    }\n",
       "\n",
       "    .dataframe tbody tr th {\n",
       "        vertical-align: top;\n",
       "    }\n",
       "\n",
       "    .dataframe thead th {\n",
       "        text-align: right;\n",
       "    }\n",
       "</style>\n",
       "<table border=\"1\" class=\"dataframe\">\n",
       "  <thead>\n",
       "    <tr style=\"text-align: right;\">\n",
       "      <th></th>\n",
       "      <th>RecordID</th>\n",
       "      <th>Offense</th>\n",
       "      <th>IncidentID</th>\n",
       "      <th>BlockNumber</th>\n",
       "      <th>StreetName</th>\n",
       "      <th>Agency</th>\n",
       "      <th>HourReported</th>\n",
       "      <th>ReportingOfficer</th>\n",
       "      <th>Date</th>\n",
       "      <th>DateString</th>\n",
       "      <th>DayOfWeek</th>\n",
       "      <th>Weekend</th>\n",
       "      <th>Season</th>\n",
       "      <th>HourAMPM</th>\n",
       "      <th>TimeOfDay</th>\n",
       "      <th>FullStreet</th>\n",
       "      <th>lat</th>\n",
       "      <th>lon</th>\n",
       "      <th>neighborhood</th>\n",
       "    </tr>\n",
       "  </thead>\n",
       "  <tbody>\n",
       "    <tr>\n",
       "      <th>0</th>\n",
       "      <td>1</td>\n",
       "      <td>Trespass</td>\n",
       "      <td>202500028038</td>\n",
       "      <td>100</td>\n",
       "      <td>14TH ST NW</td>\n",
       "      <td>CPD</td>\n",
       "      <td>1752</td>\n",
       "      <td>Bentz, Benjamin</td>\n",
       "      <td>2025-08-08 17:52:08</td>\n",
       "      <td>2025-08-08 05:52:08 PM</td>\n",
       "      <td>Friday</td>\n",
       "      <td>False</td>\n",
       "      <td>Summer</td>\n",
       "      <td>05:52 PM</td>\n",
       "      <td>Evening</td>\n",
       "      <td>100 14TH ST NW</td>\n",
       "      <td>38.034184</td>\n",
       "      <td>-78.499400</td>\n",
       "      <td>Venable</td>\n",
       "    </tr>\n",
       "    <tr>\n",
       "      <th>1</th>\n",
       "      <td>2</td>\n",
       "      <td>Vandalism</td>\n",
       "      <td>202500028030</td>\n",
       "      <td>800</td>\n",
       "      <td>W MAIN ST</td>\n",
       "      <td>CPD</td>\n",
       "      <td>1656</td>\n",
       "      <td>Hannay, Jacob</td>\n",
       "      <td>2025-08-08 16:56:31</td>\n",
       "      <td>2025-08-08 04:56:31 PM</td>\n",
       "      <td>Friday</td>\n",
       "      <td>False</td>\n",
       "      <td>Summer</td>\n",
       "      <td>04:56 PM</td>\n",
       "      <td>Afternoon</td>\n",
       "      <td>800 W MAIN ST</td>\n",
       "      <td>38.031480</td>\n",
       "      <td>-78.490333</td>\n",
       "      <td>Starr Hill</td>\n",
       "    </tr>\n",
       "    <tr>\n",
       "      <th>2</th>\n",
       "      <td>3</td>\n",
       "      <td>Lost/FoundProperty</td>\n",
       "      <td>202500028027</td>\n",
       "      <td>100</td>\n",
       "      <td>E WATER ST</td>\n",
       "      <td>CPD</td>\n",
       "      <td>1615</td>\n",
       "      <td>Ritter, Kobe</td>\n",
       "      <td>2025-08-08 16:15:03</td>\n",
       "      <td>2025-08-08 04:15:03 PM</td>\n",
       "      <td>Friday</td>\n",
       "      <td>False</td>\n",
       "      <td>Summer</td>\n",
       "      <td>04:15 PM</td>\n",
       "      <td>Afternoon</td>\n",
       "      <td>100 E WATER ST</td>\n",
       "      <td>38.029589</td>\n",
       "      <td>-78.481657</td>\n",
       "      <td>North Downtown</td>\n",
       "    </tr>\n",
       "    <tr>\n",
       "      <th>3</th>\n",
       "      <td>4</td>\n",
       "      <td>Larceny - All Other</td>\n",
       "      <td>202500028024</td>\n",
       "      <td>1000</td>\n",
       "      <td>GRADY AVE</td>\n",
       "      <td>CPD</td>\n",
       "      <td>1517</td>\n",
       "      <td>Kinney, Dylan</td>\n",
       "      <td>2025-08-08 15:17:42</td>\n",
       "      <td>2025-08-08 03:17:42 PM</td>\n",
       "      <td>Friday</td>\n",
       "      <td>False</td>\n",
       "      <td>Summer</td>\n",
       "      <td>03:17 PM</td>\n",
       "      <td>Afternoon</td>\n",
       "      <td>1000 GRADY AVE</td>\n",
       "      <td>38.038512</td>\n",
       "      <td>-78.491664</td>\n",
       "      <td>N/A</td>\n",
       "    </tr>\n",
       "    <tr>\n",
       "      <th>4</th>\n",
       "      <td>5</td>\n",
       "      <td>Drug Investigation</td>\n",
       "      <td>202500028017</td>\n",
       "      <td>200</td>\n",
       "      <td>1ST ST N</td>\n",
       "      <td>CPD</td>\n",
       "      <td>1507</td>\n",
       "      <td>Ryan, Matthew</td>\n",
       "      <td>2025-08-08 15:07:37</td>\n",
       "      <td>2025-08-08 03:07:37 PM</td>\n",
       "      <td>Friday</td>\n",
       "      <td>False</td>\n",
       "      <td>Summer</td>\n",
       "      <td>03:07 PM</td>\n",
       "      <td>Afternoon</td>\n",
       "      <td>200 1ST ST N</td>\n",
       "      <td>38.031539</td>\n",
       "      <td>-78.481144</td>\n",
       "      <td>Downtown Mall</td>\n",
       "    </tr>\n",
       "  </tbody>\n",
       "</table>\n",
       "</div>"
      ],
      "text/plain": [
       "   RecordID              Offense    IncidentID BlockNumber  StreetName Agency  \\\n",
       "0         1             Trespass  202500028038         100  14TH ST NW    CPD   \n",
       "1         2            Vandalism  202500028030         800   W MAIN ST    CPD   \n",
       "2         3   Lost/FoundProperty  202500028027         100  E WATER ST    CPD   \n",
       "3         4  Larceny - All Other  202500028024        1000   GRADY AVE    CPD   \n",
       "4         5   Drug Investigation  202500028017         200    1ST ST N    CPD   \n",
       "\n",
       "  HourReported  ReportingOfficer                Date              DateString  \\\n",
       "0         1752  Bentz, Benjamin  2025-08-08 17:52:08  2025-08-08 05:52:08 PM   \n",
       "1         1656     Hannay, Jacob 2025-08-08 16:56:31  2025-08-08 04:56:31 PM   \n",
       "2         1615      Ritter, Kobe 2025-08-08 16:15:03  2025-08-08 04:15:03 PM   \n",
       "3         1517     Kinney, Dylan 2025-08-08 15:17:42  2025-08-08 03:17:42 PM   \n",
       "4         1507     Ryan, Matthew 2025-08-08 15:07:37  2025-08-08 03:07:37 PM   \n",
       "\n",
       "  DayOfWeek  Weekend  Season  HourAMPM  TimeOfDay      FullStreet        lat  \\\n",
       "0    Friday    False  Summer  05:52 PM    Evening  100 14TH ST NW  38.034184   \n",
       "1    Friday    False  Summer  04:56 PM  Afternoon   800 W MAIN ST  38.031480   \n",
       "2    Friday    False  Summer  04:15 PM  Afternoon  100 E WATER ST  38.029589   \n",
       "3    Friday    False  Summer  03:17 PM  Afternoon  1000 GRADY AVE  38.038512   \n",
       "4    Friday    False  Summer  03:07 PM  Afternoon    200 1ST ST N  38.031539   \n",
       "\n",
       "         lon    neighborhood  \n",
       "0 -78.499400         Venable  \n",
       "1 -78.490333      Starr Hill  \n",
       "2 -78.481657  North Downtown  \n",
       "3 -78.491664             N/A  \n",
       "4 -78.481144   Downtown Mall  "
      ]
     },
     "execution_count": 10,
     "metadata": {},
     "output_type": "execute_result"
    }
   ],
   "source": [
    "# Initialize the Google Maps client.\n",
    "gmaps = googlemaps.Client(key=GOOGLE_API_KEY)\n",
    "\n",
    "# Try to load a persistent neighborhood cache if available.\n",
    "try:\n",
    "    with open(\"neighborhood_cache.pkl\", \"rb\") as f:\n",
    "        neighborhood_cache = pickle.load(f)\n",
    "    print(\"Loaded neighborhood cache.\")\n",
    "except FileNotFoundError:\n",
    "    neighborhood_cache = {}\n",
    "    print(\"No neighborhood cache found; starting fresh.\")\n",
    "\n",
    "def get_neighborhood(lat, lon):\n",
    "    \"\"\"\n",
    "    Reverse geocodes a latitude and longitude to retrieve the neighborhood.\n",
    "    Caches results to speed up subsequent lookups.\n",
    "    \"\"\"\n",
    "    key = (lat, lon)\n",
    "    if key in neighborhood_cache:\n",
    "        return neighborhood_cache[key]\n",
    "    \n",
    "    try:\n",
    "        result = gmaps.reverse_geocode((lat, lon))\n",
    "        if result:\n",
    "            # Look for the 'neighborhood' component in the first result.\n",
    "            for component in result[0]['address_components']:\n",
    "                if 'neighborhood' in component['types']:\n",
    "                    neighborhood = component['long_name']\n",
    "                    neighborhood_cache[key] = neighborhood\n",
    "                    return neighborhood\n",
    "            # If no neighborhood is found, return \"N/A\"\n",
    "            neighborhood_cache[key] = \"N/A\"\n",
    "            return \"N/A\"\n",
    "    except Exception as e:\n",
    "        print(f\"Error getting neighborhood for {lat}, {lon}: {e}\")\n",
    "        return \"N/A\"\n",
    "    \n",
    "    # Pause to respect usage limits.\n",
    "    time.sleep(1)\n",
    "\n",
    "# Example usage: Apply to your DataFrame 'df' that already has 'lat' and 'lon' columns.\n",
    "df['neighborhood'] = df.apply(lambda row: get_neighborhood(row['lat'], row['lon']), axis=1)\n",
    "\n",
    "# Save the updated neighborhood cache.\n",
    "with open(\"neighborhood_cache.pkl\", \"wb\") as f:\n",
    "    pickle.dump(neighborhood_cache, f)\n",
    "\n",
    "df.head()\n"
   ]
  },
  {
   "cell_type": "markdown",
   "id": "1841b57d",
   "metadata": {
    "papermill": {
     "duration": 0.005289,
     "end_time": "2025-08-11T01:12:27.016358",
     "exception": false,
     "start_time": "2025-08-11T01:12:27.011069",
     "status": "completed"
    },
    "tags": []
   },
   "source": [
    "### Zip"
   ]
  },
  {
   "cell_type": "code",
   "execution_count": 11,
   "id": "e1dbdb12",
   "metadata": {
    "execution": {
     "iopub.execute_input": "2025-08-11T01:12:27.027847Z",
     "iopub.status.busy": "2025-08-11T01:12:27.027632Z",
     "iopub.status.idle": "2025-08-11T01:14:03.569313Z",
     "shell.execute_reply": "2025-08-11T01:14:03.568606Z"
    },
    "papermill": {
     "duration": 96.548644,
     "end_time": "2025-08-11T01:14:03.570319",
     "exception": false,
     "start_time": "2025-08-11T01:12:27.021675",
     "status": "completed"
    },
    "tags": []
   },
   "outputs": [
    {
     "name": "stdout",
     "output_type": "stream",
     "text": [
      "Loaded zip cache.\n",
      "Error getting ZIP for nan, nan: Must be a coordinate pair or Point\n"
     ]
    },
    {
     "name": "stdout",
     "output_type": "stream",
     "text": [
      "Error getting ZIP for nan, nan: Must be a coordinate pair or Point\n"
     ]
    },
    {
     "name": "stdout",
     "output_type": "stream",
     "text": [
      "Error getting ZIP for nan, nan: Must be a coordinate pair or Point\n"
     ]
    },
    {
     "name": "stdout",
     "output_type": "stream",
     "text": [
      "Error getting ZIP for nan, nan: Must be a coordinate pair or Point\n"
     ]
    },
    {
     "name": "stdout",
     "output_type": "stream",
     "text": [
      "Error getting ZIP for nan, nan: Must be a coordinate pair or Point\n"
     ]
    },
    {
     "name": "stdout",
     "output_type": "stream",
     "text": [
      "Error getting ZIP for nan, nan: Must be a coordinate pair or Point\n"
     ]
    },
    {
     "name": "stdout",
     "output_type": "stream",
     "text": [
      "Error getting ZIP for nan, nan: Must be a coordinate pair or Point\n"
     ]
    },
    {
     "name": "stdout",
     "output_type": "stream",
     "text": [
      "Error getting ZIP for nan, nan: Must be a coordinate pair or Point\n"
     ]
    },
    {
     "name": "stdout",
     "output_type": "stream",
     "text": [
      "Error getting ZIP for nan, nan: Must be a coordinate pair or Point\n"
     ]
    },
    {
     "name": "stdout",
     "output_type": "stream",
     "text": [
      "Error getting ZIP for nan, nan: Must be a coordinate pair or Point\n"
     ]
    },
    {
     "name": "stdout",
     "output_type": "stream",
     "text": [
      "Error getting ZIP for nan, nan: Must be a coordinate pair or Point\n"
     ]
    },
    {
     "name": "stdout",
     "output_type": "stream",
     "text": [
      "Error getting ZIP for nan, nan: Must be a coordinate pair or Point\n"
     ]
    },
    {
     "name": "stdout",
     "output_type": "stream",
     "text": [
      "Error getting ZIP for nan, nan: Must be a coordinate pair or Point\n"
     ]
    },
    {
     "name": "stdout",
     "output_type": "stream",
     "text": [
      "Error getting ZIP for nan, nan: Must be a coordinate pair or Point\n"
     ]
    },
    {
     "name": "stdout",
     "output_type": "stream",
     "text": [
      "Error getting ZIP for nan, nan: Must be a coordinate pair or Point\n"
     ]
    },
    {
     "name": "stdout",
     "output_type": "stream",
     "text": [
      "Error getting ZIP for nan, nan: Must be a coordinate pair or Point\n"
     ]
    },
    {
     "name": "stdout",
     "output_type": "stream",
     "text": [
      "Error getting ZIP for nan, nan: Must be a coordinate pair or Point\n"
     ]
    },
    {
     "name": "stdout",
     "output_type": "stream",
     "text": [
      "Error getting ZIP for nan, nan: Must be a coordinate pair or Point\n"
     ]
    },
    {
     "name": "stdout",
     "output_type": "stream",
     "text": [
      "Error getting ZIP for nan, nan: Must be a coordinate pair or Point\n"
     ]
    },
    {
     "name": "stdout",
     "output_type": "stream",
     "text": [
      "Error getting ZIP for nan, nan: Must be a coordinate pair or Point\n"
     ]
    },
    {
     "name": "stdout",
     "output_type": "stream",
     "text": [
      "Error getting ZIP for nan, nan: Must be a coordinate pair or Point\n"
     ]
    },
    {
     "name": "stdout",
     "output_type": "stream",
     "text": [
      "Error getting ZIP for nan, nan: Must be a coordinate pair or Point\n"
     ]
    },
    {
     "name": "stdout",
     "output_type": "stream",
     "text": [
      "Error getting ZIP for nan, nan: Must be a coordinate pair or Point\n"
     ]
    },
    {
     "name": "stdout",
     "output_type": "stream",
     "text": [
      "Error getting ZIP for nan, nan: Must be a coordinate pair or Point\n"
     ]
    },
    {
     "name": "stdout",
     "output_type": "stream",
     "text": [
      "Error getting ZIP for nan, nan: Must be a coordinate pair or Point\n"
     ]
    },
    {
     "name": "stdout",
     "output_type": "stream",
     "text": [
      "Error getting ZIP for nan, nan: Must be a coordinate pair or Point\n"
     ]
    },
    {
     "name": "stdout",
     "output_type": "stream",
     "text": [
      "Error getting ZIP for nan, nan: Must be a coordinate pair or Point\n"
     ]
    },
    {
     "name": "stdout",
     "output_type": "stream",
     "text": [
      "Error getting ZIP for nan, nan: Must be a coordinate pair or Point\n"
     ]
    },
    {
     "name": "stdout",
     "output_type": "stream",
     "text": [
      "Error getting ZIP for nan, nan: Must be a coordinate pair or Point\n"
     ]
    },
    {
     "name": "stdout",
     "output_type": "stream",
     "text": [
      "Error getting ZIP for nan, nan: Must be a coordinate pair or Point\n"
     ]
    },
    {
     "name": "stdout",
     "output_type": "stream",
     "text": [
      "Error getting ZIP for nan, nan: Must be a coordinate pair or Point\n"
     ]
    },
    {
     "name": "stdout",
     "output_type": "stream",
     "text": [
      "Error getting ZIP for nan, nan: Must be a coordinate pair or Point\n"
     ]
    },
    {
     "name": "stdout",
     "output_type": "stream",
     "text": [
      "Error getting ZIP for nan, nan: Must be a coordinate pair or Point\n"
     ]
    },
    {
     "name": "stdout",
     "output_type": "stream",
     "text": [
      "Error getting ZIP for nan, nan: Must be a coordinate pair or Point\n"
     ]
    },
    {
     "name": "stdout",
     "output_type": "stream",
     "text": [
      "Error getting ZIP for nan, nan: Must be a coordinate pair or Point\n"
     ]
    },
    {
     "name": "stdout",
     "output_type": "stream",
     "text": [
      "Error getting ZIP for nan, nan: Must be a coordinate pair or Point\n"
     ]
    },
    {
     "name": "stdout",
     "output_type": "stream",
     "text": [
      "Error getting ZIP for nan, nan: Must be a coordinate pair or Point\n"
     ]
    },
    {
     "name": "stdout",
     "output_type": "stream",
     "text": [
      "Error getting ZIP for nan, nan: Must be a coordinate pair or Point\n"
     ]
    },
    {
     "name": "stdout",
     "output_type": "stream",
     "text": [
      "Error getting ZIP for nan, nan: Must be a coordinate pair or Point\n"
     ]
    },
    {
     "name": "stdout",
     "output_type": "stream",
     "text": [
      "Error getting ZIP for nan, nan: Must be a coordinate pair or Point\n"
     ]
    },
    {
     "name": "stdout",
     "output_type": "stream",
     "text": [
      "Error getting ZIP for nan, nan: Must be a coordinate pair or Point\n"
     ]
    },
    {
     "name": "stdout",
     "output_type": "stream",
     "text": [
      "Error getting ZIP for nan, nan: Must be a coordinate pair or Point\n"
     ]
    },
    {
     "name": "stdout",
     "output_type": "stream",
     "text": [
      "Error getting ZIP for nan, nan: Must be a coordinate pair or Point\n"
     ]
    },
    {
     "name": "stdout",
     "output_type": "stream",
     "text": [
      "Error getting ZIP for nan, nan: Must be a coordinate pair or Point\n"
     ]
    },
    {
     "name": "stdout",
     "output_type": "stream",
     "text": [
      "Error getting ZIP for nan, nan: Must be a coordinate pair or Point\n"
     ]
    },
    {
     "name": "stdout",
     "output_type": "stream",
     "text": [
      "Error getting ZIP for nan, nan: Must be a coordinate pair or Point\n"
     ]
    },
    {
     "name": "stdout",
     "output_type": "stream",
     "text": [
      "Error getting ZIP for nan, nan: Must be a coordinate pair or Point\n"
     ]
    },
    {
     "name": "stdout",
     "output_type": "stream",
     "text": [
      "Error getting ZIP for nan, nan: Must be a coordinate pair or Point\n"
     ]
    },
    {
     "name": "stdout",
     "output_type": "stream",
     "text": [
      "Error getting ZIP for nan, nan: Must be a coordinate pair or Point\n"
     ]
    },
    {
     "name": "stdout",
     "output_type": "stream",
     "text": [
      "Error getting ZIP for nan, nan: Must be a coordinate pair or Point\n"
     ]
    },
    {
     "name": "stdout",
     "output_type": "stream",
     "text": [
      "Error getting ZIP for nan, nan: Must be a coordinate pair or Point\n"
     ]
    },
    {
     "name": "stdout",
     "output_type": "stream",
     "text": [
      "Error getting ZIP for nan, nan: Must be a coordinate pair or Point\n"
     ]
    },
    {
     "name": "stdout",
     "output_type": "stream",
     "text": [
      "Error getting ZIP for nan, nan: Must be a coordinate pair or Point\n"
     ]
    },
    {
     "name": "stdout",
     "output_type": "stream",
     "text": [
      "Error getting ZIP for nan, nan: Must be a coordinate pair or Point\n"
     ]
    },
    {
     "name": "stdout",
     "output_type": "stream",
     "text": [
      "Error getting ZIP for nan, nan: Must be a coordinate pair or Point\n"
     ]
    },
    {
     "name": "stdout",
     "output_type": "stream",
     "text": [
      "Error getting ZIP for nan, nan: Must be a coordinate pair or Point\n"
     ]
    },
    {
     "name": "stdout",
     "output_type": "stream",
     "text": [
      "Error getting ZIP for nan, nan: Must be a coordinate pair or Point\n"
     ]
    },
    {
     "name": "stdout",
     "output_type": "stream",
     "text": [
      "Error getting ZIP for nan, nan: Must be a coordinate pair or Point\n"
     ]
    },
    {
     "name": "stdout",
     "output_type": "stream",
     "text": [
      "Error getting ZIP for nan, nan: Must be a coordinate pair or Point\n"
     ]
    },
    {
     "name": "stdout",
     "output_type": "stream",
     "text": [
      "Error getting ZIP for nan, nan: Must be a coordinate pair or Point\n"
     ]
    },
    {
     "name": "stdout",
     "output_type": "stream",
     "text": [
      "Error getting ZIP for nan, nan: Must be a coordinate pair or Point\n"
     ]
    },
    {
     "name": "stdout",
     "output_type": "stream",
     "text": [
      "Error getting ZIP for nan, nan: Must be a coordinate pair or Point\n"
     ]
    },
    {
     "name": "stdout",
     "output_type": "stream",
     "text": [
      "Error getting ZIP for nan, nan: Must be a coordinate pair or Point\n"
     ]
    },
    {
     "name": "stdout",
     "output_type": "stream",
     "text": [
      "Error getting ZIP for nan, nan: Must be a coordinate pair or Point\n"
     ]
    },
    {
     "name": "stdout",
     "output_type": "stream",
     "text": [
      "Error getting ZIP for nan, nan: Must be a coordinate pair or Point\n"
     ]
    },
    {
     "name": "stdout",
     "output_type": "stream",
     "text": [
      "Error getting ZIP for nan, nan: Must be a coordinate pair or Point\n"
     ]
    },
    {
     "name": "stdout",
     "output_type": "stream",
     "text": [
      "Error getting ZIP for nan, nan: Must be a coordinate pair or Point\n"
     ]
    },
    {
     "name": "stdout",
     "output_type": "stream",
     "text": [
      "Error getting ZIP for nan, nan: Must be a coordinate pair or Point\n"
     ]
    },
    {
     "name": "stdout",
     "output_type": "stream",
     "text": [
      "Error getting ZIP for nan, nan: Must be a coordinate pair or Point\n"
     ]
    },
    {
     "name": "stdout",
     "output_type": "stream",
     "text": [
      "Error getting ZIP for nan, nan: Must be a coordinate pair or Point\n"
     ]
    },
    {
     "name": "stdout",
     "output_type": "stream",
     "text": [
      "Error getting ZIP for nan, nan: Must be a coordinate pair or Point\n"
     ]
    },
    {
     "name": "stdout",
     "output_type": "stream",
     "text": [
      "Error getting ZIP for nan, nan: Must be a coordinate pair or Point\n"
     ]
    },
    {
     "name": "stdout",
     "output_type": "stream",
     "text": [
      "Error getting ZIP for nan, nan: Must be a coordinate pair or Point\n"
     ]
    },
    {
     "name": "stdout",
     "output_type": "stream",
     "text": [
      "Error getting ZIP for nan, nan: Must be a coordinate pair or Point\n"
     ]
    },
    {
     "name": "stdout",
     "output_type": "stream",
     "text": [
      "Error getting ZIP for nan, nan: Must be a coordinate pair or Point\n"
     ]
    },
    {
     "name": "stdout",
     "output_type": "stream",
     "text": [
      "Error getting ZIP for nan, nan: Must be a coordinate pair or Point\n"
     ]
    },
    {
     "name": "stdout",
     "output_type": "stream",
     "text": [
      "Error getting ZIP for nan, nan: Must be a coordinate pair or Point\n"
     ]
    },
    {
     "name": "stdout",
     "output_type": "stream",
     "text": [
      "Error getting ZIP for nan, nan: Must be a coordinate pair or Point\n"
     ]
    },
    {
     "name": "stdout",
     "output_type": "stream",
     "text": [
      "Error getting ZIP for nan, nan: Must be a coordinate pair or Point\n"
     ]
    },
    {
     "name": "stdout",
     "output_type": "stream",
     "text": [
      "Error getting ZIP for nan, nan: Must be a coordinate pair or Point\n"
     ]
    },
    {
     "name": "stdout",
     "output_type": "stream",
     "text": [
      "Error getting ZIP for nan, nan: Must be a coordinate pair or Point\n"
     ]
    },
    {
     "name": "stdout",
     "output_type": "stream",
     "text": [
      "Error getting ZIP for nan, nan: Must be a coordinate pair or Point\n"
     ]
    },
    {
     "name": "stdout",
     "output_type": "stream",
     "text": [
      "Error getting ZIP for nan, nan: Must be a coordinate pair or Point\n"
     ]
    },
    {
     "name": "stdout",
     "output_type": "stream",
     "text": [
      "Error getting ZIP for nan, nan: Must be a coordinate pair or Point\n"
     ]
    },
    {
     "name": "stdout",
     "output_type": "stream",
     "text": [
      "Error getting ZIP for nan, nan: Must be a coordinate pair or Point\n"
     ]
    },
    {
     "name": "stdout",
     "output_type": "stream",
     "text": [
      "Error getting ZIP for nan, nan: Must be a coordinate pair or Point\n"
     ]
    },
    {
     "name": "stdout",
     "output_type": "stream",
     "text": [
      "Error getting ZIP for nan, nan: Must be a coordinate pair or Point\n"
     ]
    },
    {
     "name": "stdout",
     "output_type": "stream",
     "text": [
      "Error getting ZIP for nan, nan: Must be a coordinate pair or Point\n"
     ]
    },
    {
     "name": "stdout",
     "output_type": "stream",
     "text": [
      "Error getting ZIP for nan, nan: Must be a coordinate pair or Point\n"
     ]
    },
    {
     "name": "stdout",
     "output_type": "stream",
     "text": [
      "Error getting ZIP for nan, nan: Must be a coordinate pair or Point\n"
     ]
    },
    {
     "name": "stdout",
     "output_type": "stream",
     "text": [
      "Error getting ZIP for nan, nan: Must be a coordinate pair or Point\n"
     ]
    },
    {
     "name": "stdout",
     "output_type": "stream",
     "text": [
      "Error getting ZIP for nan, nan: Must be a coordinate pair or Point\n"
     ]
    },
    {
     "name": "stdout",
     "output_type": "stream",
     "text": [
      "Error getting ZIP for nan, nan: Must be a coordinate pair or Point\n"
     ]
    },
    {
     "name": "stdout",
     "output_type": "stream",
     "text": [
      "Error getting ZIP for nan, nan: Must be a coordinate pair or Point\n"
     ]
    },
    {
     "name": "stdout",
     "output_type": "stream",
     "text": [
      "Error getting ZIP for nan, nan: Must be a coordinate pair or Point\n"
     ]
    },
    {
     "name": "stdout",
     "output_type": "stream",
     "text": [
      "Error getting ZIP for nan, nan: Must be a coordinate pair or Point\n"
     ]
    },
    {
     "data": {
      "text/html": [
       "<div>\n",
       "<style scoped>\n",
       "    .dataframe tbody tr th:only-of-type {\n",
       "        vertical-align: middle;\n",
       "    }\n",
       "\n",
       "    .dataframe tbody tr th {\n",
       "        vertical-align: top;\n",
       "    }\n",
       "\n",
       "    .dataframe thead th {\n",
       "        text-align: right;\n",
       "    }\n",
       "</style>\n",
       "<table border=\"1\" class=\"dataframe\">\n",
       "  <thead>\n",
       "    <tr style=\"text-align: right;\">\n",
       "      <th></th>\n",
       "      <th>RecordID</th>\n",
       "      <th>Offense</th>\n",
       "      <th>IncidentID</th>\n",
       "      <th>BlockNumber</th>\n",
       "      <th>StreetName</th>\n",
       "      <th>Agency</th>\n",
       "      <th>HourReported</th>\n",
       "      <th>ReportingOfficer</th>\n",
       "      <th>Date</th>\n",
       "      <th>DateString</th>\n",
       "      <th>DayOfWeek</th>\n",
       "      <th>Weekend</th>\n",
       "      <th>Season</th>\n",
       "      <th>HourAMPM</th>\n",
       "      <th>TimeOfDay</th>\n",
       "      <th>FullStreet</th>\n",
       "      <th>lat</th>\n",
       "      <th>lon</th>\n",
       "      <th>neighborhood</th>\n",
       "      <th>zip</th>\n",
       "    </tr>\n",
       "  </thead>\n",
       "  <tbody>\n",
       "    <tr>\n",
       "      <th>0</th>\n",
       "      <td>1</td>\n",
       "      <td>Trespass</td>\n",
       "      <td>202500028038</td>\n",
       "      <td>100</td>\n",
       "      <td>14TH ST NW</td>\n",
       "      <td>CPD</td>\n",
       "      <td>1752</td>\n",
       "      <td>Bentz, Benjamin</td>\n",
       "      <td>2025-08-08 17:52:08</td>\n",
       "      <td>2025-08-08 05:52:08 PM</td>\n",
       "      <td>Friday</td>\n",
       "      <td>False</td>\n",
       "      <td>Summer</td>\n",
       "      <td>05:52 PM</td>\n",
       "      <td>Evening</td>\n",
       "      <td>100 14TH ST NW</td>\n",
       "      <td>38.034184</td>\n",
       "      <td>-78.499400</td>\n",
       "      <td>Venable</td>\n",
       "      <td>22903</td>\n",
       "    </tr>\n",
       "    <tr>\n",
       "      <th>1</th>\n",
       "      <td>2</td>\n",
       "      <td>Vandalism</td>\n",
       "      <td>202500028030</td>\n",
       "      <td>800</td>\n",
       "      <td>W MAIN ST</td>\n",
       "      <td>CPD</td>\n",
       "      <td>1656</td>\n",
       "      <td>Hannay, Jacob</td>\n",
       "      <td>2025-08-08 16:56:31</td>\n",
       "      <td>2025-08-08 04:56:31 PM</td>\n",
       "      <td>Friday</td>\n",
       "      <td>False</td>\n",
       "      <td>Summer</td>\n",
       "      <td>04:56 PM</td>\n",
       "      <td>Afternoon</td>\n",
       "      <td>800 W MAIN ST</td>\n",
       "      <td>38.031480</td>\n",
       "      <td>-78.490333</td>\n",
       "      <td>Starr Hill</td>\n",
       "      <td>22903</td>\n",
       "    </tr>\n",
       "    <tr>\n",
       "      <th>2</th>\n",
       "      <td>3</td>\n",
       "      <td>Lost/FoundProperty</td>\n",
       "      <td>202500028027</td>\n",
       "      <td>100</td>\n",
       "      <td>E WATER ST</td>\n",
       "      <td>CPD</td>\n",
       "      <td>1615</td>\n",
       "      <td>Ritter, Kobe</td>\n",
       "      <td>2025-08-08 16:15:03</td>\n",
       "      <td>2025-08-08 04:15:03 PM</td>\n",
       "      <td>Friday</td>\n",
       "      <td>False</td>\n",
       "      <td>Summer</td>\n",
       "      <td>04:15 PM</td>\n",
       "      <td>Afternoon</td>\n",
       "      <td>100 E WATER ST</td>\n",
       "      <td>38.029589</td>\n",
       "      <td>-78.481657</td>\n",
       "      <td>North Downtown</td>\n",
       "      <td>22902</td>\n",
       "    </tr>\n",
       "    <tr>\n",
       "      <th>3</th>\n",
       "      <td>4</td>\n",
       "      <td>Larceny - All Other</td>\n",
       "      <td>202500028024</td>\n",
       "      <td>1000</td>\n",
       "      <td>GRADY AVE</td>\n",
       "      <td>CPD</td>\n",
       "      <td>1517</td>\n",
       "      <td>Kinney, Dylan</td>\n",
       "      <td>2025-08-08 15:17:42</td>\n",
       "      <td>2025-08-08 03:17:42 PM</td>\n",
       "      <td>Friday</td>\n",
       "      <td>False</td>\n",
       "      <td>Summer</td>\n",
       "      <td>03:17 PM</td>\n",
       "      <td>Afternoon</td>\n",
       "      <td>1000 GRADY AVE</td>\n",
       "      <td>38.038512</td>\n",
       "      <td>-78.491664</td>\n",
       "      <td>N/A</td>\n",
       "      <td>22903</td>\n",
       "    </tr>\n",
       "    <tr>\n",
       "      <th>4</th>\n",
       "      <td>5</td>\n",
       "      <td>Drug Investigation</td>\n",
       "      <td>202500028017</td>\n",
       "      <td>200</td>\n",
       "      <td>1ST ST N</td>\n",
       "      <td>CPD</td>\n",
       "      <td>1507</td>\n",
       "      <td>Ryan, Matthew</td>\n",
       "      <td>2025-08-08 15:07:37</td>\n",
       "      <td>2025-08-08 03:07:37 PM</td>\n",
       "      <td>Friday</td>\n",
       "      <td>False</td>\n",
       "      <td>Summer</td>\n",
       "      <td>03:07 PM</td>\n",
       "      <td>Afternoon</td>\n",
       "      <td>200 1ST ST N</td>\n",
       "      <td>38.031539</td>\n",
       "      <td>-78.481144</td>\n",
       "      <td>Downtown Mall</td>\n",
       "      <td>22902</td>\n",
       "    </tr>\n",
       "  </tbody>\n",
       "</table>\n",
       "</div>"
      ],
      "text/plain": [
       "   RecordID              Offense    IncidentID BlockNumber  StreetName Agency  \\\n",
       "0         1             Trespass  202500028038         100  14TH ST NW    CPD   \n",
       "1         2            Vandalism  202500028030         800   W MAIN ST    CPD   \n",
       "2         3   Lost/FoundProperty  202500028027         100  E WATER ST    CPD   \n",
       "3         4  Larceny - All Other  202500028024        1000   GRADY AVE    CPD   \n",
       "4         5   Drug Investigation  202500028017         200    1ST ST N    CPD   \n",
       "\n",
       "  HourReported  ReportingOfficer                Date              DateString  \\\n",
       "0         1752  Bentz, Benjamin  2025-08-08 17:52:08  2025-08-08 05:52:08 PM   \n",
       "1         1656     Hannay, Jacob 2025-08-08 16:56:31  2025-08-08 04:56:31 PM   \n",
       "2         1615      Ritter, Kobe 2025-08-08 16:15:03  2025-08-08 04:15:03 PM   \n",
       "3         1517     Kinney, Dylan 2025-08-08 15:17:42  2025-08-08 03:17:42 PM   \n",
       "4         1507     Ryan, Matthew 2025-08-08 15:07:37  2025-08-08 03:07:37 PM   \n",
       "\n",
       "  DayOfWeek  Weekend  Season  HourAMPM  TimeOfDay      FullStreet        lat  \\\n",
       "0    Friday    False  Summer  05:52 PM    Evening  100 14TH ST NW  38.034184   \n",
       "1    Friday    False  Summer  04:56 PM  Afternoon   800 W MAIN ST  38.031480   \n",
       "2    Friday    False  Summer  04:15 PM  Afternoon  100 E WATER ST  38.029589   \n",
       "3    Friday    False  Summer  03:17 PM  Afternoon  1000 GRADY AVE  38.038512   \n",
       "4    Friday    False  Summer  03:07 PM  Afternoon    200 1ST ST N  38.031539   \n",
       "\n",
       "         lon    neighborhood    zip  \n",
       "0 -78.499400         Venable  22903  \n",
       "1 -78.490333      Starr Hill  22903  \n",
       "2 -78.481657  North Downtown  22902  \n",
       "3 -78.491664             N/A  22903  \n",
       "4 -78.481144   Downtown Mall  22902  "
      ]
     },
     "execution_count": 11,
     "metadata": {},
     "output_type": "execute_result"
    }
   ],
   "source": [
    "# Initialize the geocoder.\n",
    "geolocator = Nominatim(user_agent=\"zip_lookup\")\n",
    "\n",
    "# Try to load a persistent ZIP cache if available.\n",
    "try:\n",
    "    with open(\"zip_cache.pkl\", \"rb\") as f:\n",
    "        zip_cache = pickle.load(f)\n",
    "    print(\"Loaded zip cache.\")\n",
    "except FileNotFoundError:\n",
    "    zip_cache = {}\n",
    "    print(\"No zip cache found; starting fresh.\")\n",
    "\n",
    "def get_zip(lat, lon):\n",
    "    \"\"\"\n",
    "    Reverse geocodes a latitude and longitude to retrieve the ZIP code.\n",
    "    Caches results to speed up subsequent lookups.\n",
    "    \"\"\"\n",
    "    key = (lat, lon)\n",
    "    if key in zip_cache:\n",
    "        return zip_cache[key]\n",
    "    \n",
    "    try:\n",
    "        location = geolocator.reverse((lat, lon), exactly_one=True, timeout=10)\n",
    "        address = location.raw.get('address', {})\n",
    "        postal_code = address.get('postcode', \"N/A\")\n",
    "    except Exception as e:\n",
    "        print(f\"Error getting ZIP for {lat}, {lon}: {e}\")\n",
    "        postal_code = \"N/A\"\n",
    "    \n",
    "    zip_cache[key] = postal_code\n",
    "    # Pause to respect the usage policy.\n",
    "    time.sleep(1)\n",
    "    return postal_code\n",
    "\n",
    "# Apply the function to each row in the DataFrame.\n",
    "df['zip'] = df.apply(lambda row: get_zip(row['lat'], row['lon']), axis=1)\n",
    "\n",
    "# Save the updated ZIP cache.\n",
    "with open(\"zip_cache.pkl\", \"wb\") as f:\n",
    "    pickle.dump(zip_cache, f)\n",
    "\n",
    "df.head()\n"
   ]
  },
  {
   "cell_type": "code",
   "execution_count": 12,
   "id": "0a872bb3",
   "metadata": {
    "execution": {
     "iopub.execute_input": "2025-08-11T01:14:03.591385Z",
     "iopub.status.busy": "2025-08-11T01:14:03.591111Z",
     "iopub.status.idle": "2025-08-11T01:14:03.621734Z",
     "shell.execute_reply": "2025-08-11T01:14:03.621048Z"
    },
    "papermill": {
     "duration": 0.042422,
     "end_time": "2025-08-11T01:14:03.622749",
     "exception": false,
     "start_time": "2025-08-11T01:14:03.580327",
     "status": "completed"
    },
    "tags": []
   },
   "outputs": [
    {
     "name": "stdout",
     "output_type": "stream",
     "text": [
      "                  MissingCount  MissingPercentage\n",
      "RecordID                     0               0.00\n",
      "Offense                      0               0.00\n",
      "IncidentID                   0               0.00\n",
      "BlockNumber                  0               0.00\n",
      "StreetName                   0               0.00\n",
      "Agency                       0               0.00\n",
      "HourReported                 0               0.00\n",
      "ReportingOfficer            15               0.06\n",
      "Date                         0               0.00\n",
      "DateString                   0               0.00\n",
      "DayOfWeek                    0               0.00\n",
      "Weekend                      0               0.00\n",
      "Season                       0               0.00\n",
      "HourAMPM                     0               0.00\n",
      "TimeOfDay                    0               0.00\n",
      "FullStreet                   0               0.00\n",
      "lat                         96               0.37\n",
      "lon                         96               0.37\n",
      "neighborhood                 0               0.00\n",
      "zip                          0               0.00\n"
     ]
    }
   ],
   "source": [
    "missing_info = missing_percentage(df)\n",
    "print(missing_info)\n"
   ]
  },
  {
   "cell_type": "code",
   "execution_count": 13,
   "id": "cc1b815d",
   "metadata": {
    "execution": {
     "iopub.execute_input": "2025-08-11T01:14:03.643721Z",
     "iopub.status.busy": "2025-08-11T01:14:03.643491Z",
     "iopub.status.idle": "2025-08-11T01:14:03.673368Z",
     "shell.execute_reply": "2025-08-11T01:14:03.672799Z"
    },
    "papermill": {
     "duration": 0.041425,
     "end_time": "2025-08-11T01:14:03.674375",
     "exception": false,
     "start_time": "2025-08-11T01:14:03.632950",
     "status": "completed"
    },
    "tags": []
   },
   "outputs": [
    {
     "name": "stdout",
     "output_type": "stream",
     "text": [
      "<class 'pandas.core.frame.DataFrame'>\n",
      "RangeIndex: 25643 entries, 0 to 25642\n",
      "Data columns (total 20 columns):\n",
      " #   Column            Non-Null Count  Dtype         \n",
      "---  ------            --------------  -----         \n",
      " 0   RecordID          25643 non-null  int64         \n",
      " 1   Offense           25643 non-null  object        \n",
      " 2   IncidentID        25643 non-null  object        \n",
      " 3   BlockNumber       25643 non-null  object        \n",
      " 4   StreetName        25643 non-null  object        \n",
      " 5   Agency            25643 non-null  object        \n",
      " 6   HourReported      25643 non-null  object        \n",
      " 7   ReportingOfficer  25628 non-null  object        \n",
      " 8   Date              25643 non-null  datetime64[ns]\n",
      " 9   DateString        25643 non-null  object        \n",
      " 10  DayOfWeek         25643 non-null  object        \n",
      " 11  Weekend           25643 non-null  bool          \n",
      " 12  Season            25643 non-null  object        \n",
      " 13  HourAMPM          25643 non-null  object        \n",
      " 14  TimeOfDay         25643 non-null  object        \n",
      " 15  FullStreet        25643 non-null  object        \n",
      " 16  lat               25547 non-null  float64       \n",
      " 17  lon               25547 non-null  float64       \n",
      " 18  neighborhood      25643 non-null  object        \n",
      " 19  zip               25643 non-null  object        \n",
      "dtypes: bool(1), datetime64[ns](1), float64(2), int64(1), object(15)\n",
      "memory usage: 3.7+ MB\n"
     ]
    }
   ],
   "source": [
    "df.info()"
   ]
  },
  {
   "cell_type": "code",
   "execution_count": 14,
   "id": "48013476",
   "metadata": {
    "execution": {
     "iopub.execute_input": "2025-08-11T01:14:03.695701Z",
     "iopub.status.busy": "2025-08-11T01:14:03.695374Z",
     "iopub.status.idle": "2025-08-11T01:14:03.741182Z",
     "shell.execute_reply": "2025-08-11T01:14:03.740573Z"
    },
    "papermill": {
     "duration": 0.057521,
     "end_time": "2025-08-11T01:14:03.742272",
     "exception": false,
     "start_time": "2025-08-11T01:14:03.684751",
     "status": "completed"
    },
    "tags": []
   },
   "outputs": [
    {
     "data": {
      "text/html": [
       "<div>\n",
       "<style scoped>\n",
       "    .dataframe tbody tr th:only-of-type {\n",
       "        vertical-align: middle;\n",
       "    }\n",
       "\n",
       "    .dataframe tbody tr th {\n",
       "        vertical-align: top;\n",
       "    }\n",
       "\n",
       "    .dataframe thead th {\n",
       "        text-align: right;\n",
       "    }\n",
       "</style>\n",
       "<table border=\"1\" class=\"dataframe\">\n",
       "  <thead>\n",
       "    <tr style=\"text-align: right;\">\n",
       "      <th></th>\n",
       "      <th>RecordID</th>\n",
       "      <th>Offense</th>\n",
       "      <th>IncidentID</th>\n",
       "      <th>Agency</th>\n",
       "      <th>ReportingOfficer</th>\n",
       "      <th>Date</th>\n",
       "      <th>DayOfWeek</th>\n",
       "      <th>Weekend</th>\n",
       "      <th>Season</th>\n",
       "      <th>TimeOfDay</th>\n",
       "      <th>FullStreet</th>\n",
       "      <th>lat</th>\n",
       "      <th>lon</th>\n",
       "      <th>neighborhood</th>\n",
       "      <th>zip</th>\n",
       "    </tr>\n",
       "  </thead>\n",
       "  <tbody>\n",
       "    <tr>\n",
       "      <th>0</th>\n",
       "      <td>1</td>\n",
       "      <td>Trespass</td>\n",
       "      <td>202500028038</td>\n",
       "      <td>CPD</td>\n",
       "      <td>Bentz, Benjamin</td>\n",
       "      <td>2025-08-08 17:52:08</td>\n",
       "      <td>Friday</td>\n",
       "      <td>False</td>\n",
       "      <td>Summer</td>\n",
       "      <td>Evening</td>\n",
       "      <td>100 14TH ST NW</td>\n",
       "      <td>38.034184</td>\n",
       "      <td>-78.4994</td>\n",
       "      <td>Venable</td>\n",
       "      <td>22903</td>\n",
       "    </tr>\n",
       "    <tr>\n",
       "      <th>1</th>\n",
       "      <td>2</td>\n",
       "      <td>Vandalism</td>\n",
       "      <td>202500028030</td>\n",
       "      <td>CPD</td>\n",
       "      <td>Hannay, Jacob</td>\n",
       "      <td>2025-08-08 16:56:31</td>\n",
       "      <td>Friday</td>\n",
       "      <td>False</td>\n",
       "      <td>Summer</td>\n",
       "      <td>Afternoon</td>\n",
       "      <td>800 W MAIN ST</td>\n",
       "      <td>38.03148</td>\n",
       "      <td>-78.490333</td>\n",
       "      <td>Starr Hill</td>\n",
       "      <td>22903</td>\n",
       "    </tr>\n",
       "    <tr>\n",
       "      <th>2</th>\n",
       "      <td>3</td>\n",
       "      <td>Lost/FoundProperty</td>\n",
       "      <td>202500028027</td>\n",
       "      <td>CPD</td>\n",
       "      <td>Ritter, Kobe</td>\n",
       "      <td>2025-08-08 16:15:03</td>\n",
       "      <td>Friday</td>\n",
       "      <td>False</td>\n",
       "      <td>Summer</td>\n",
       "      <td>Afternoon</td>\n",
       "      <td>100 E WATER ST</td>\n",
       "      <td>38.029589</td>\n",
       "      <td>-78.481657</td>\n",
       "      <td>North Downtown</td>\n",
       "      <td>22902</td>\n",
       "    </tr>\n",
       "    <tr>\n",
       "      <th>3</th>\n",
       "      <td>4</td>\n",
       "      <td>Larceny - All Other</td>\n",
       "      <td>202500028024</td>\n",
       "      <td>CPD</td>\n",
       "      <td>Kinney, Dylan</td>\n",
       "      <td>2025-08-08 15:17:42</td>\n",
       "      <td>Friday</td>\n",
       "      <td>False</td>\n",
       "      <td>Summer</td>\n",
       "      <td>Afternoon</td>\n",
       "      <td>1000 GRADY AVE</td>\n",
       "      <td>38.038512</td>\n",
       "      <td>-78.491664</td>\n",
       "      <td>N/A</td>\n",
       "      <td>22903</td>\n",
       "    </tr>\n",
       "    <tr>\n",
       "      <th>4</th>\n",
       "      <td>5</td>\n",
       "      <td>Drug Investigation</td>\n",
       "      <td>202500028017</td>\n",
       "      <td>CPD</td>\n",
       "      <td>Ryan, Matthew</td>\n",
       "      <td>2025-08-08 15:07:37</td>\n",
       "      <td>Friday</td>\n",
       "      <td>False</td>\n",
       "      <td>Summer</td>\n",
       "      <td>Afternoon</td>\n",
       "      <td>200 1ST ST N</td>\n",
       "      <td>38.031539</td>\n",
       "      <td>-78.481144</td>\n",
       "      <td>Downtown Mall</td>\n",
       "      <td>22902</td>\n",
       "    </tr>\n",
       "  </tbody>\n",
       "</table>\n",
       "</div>"
      ],
      "text/plain": [
       "   RecordID              Offense    IncidentID Agency  ReportingOfficer  \\\n",
       "0         1             Trespass  202500028038    CPD  Bentz, Benjamin    \n",
       "1         2            Vandalism  202500028030    CPD     Hannay, Jacob   \n",
       "2         3   Lost/FoundProperty  202500028027    CPD      Ritter, Kobe   \n",
       "3         4  Larceny - All Other  202500028024    CPD     Kinney, Dylan   \n",
       "4         5   Drug Investigation  202500028017    CPD     Ryan, Matthew   \n",
       "\n",
       "                 Date DayOfWeek  Weekend  Season  TimeOfDay      FullStreet  \\\n",
       "0 2025-08-08 17:52:08    Friday    False  Summer    Evening  100 14TH ST NW   \n",
       "1 2025-08-08 16:56:31    Friday    False  Summer  Afternoon   800 W MAIN ST   \n",
       "2 2025-08-08 16:15:03    Friday    False  Summer  Afternoon  100 E WATER ST   \n",
       "3 2025-08-08 15:17:42    Friday    False  Summer  Afternoon  1000 GRADY AVE   \n",
       "4 2025-08-08 15:07:37    Friday    False  Summer  Afternoon    200 1ST ST N   \n",
       "\n",
       "         lat        lon    neighborhood    zip  \n",
       "0  38.034184   -78.4994         Venable  22903  \n",
       "1   38.03148 -78.490333      Starr Hill  22903  \n",
       "2  38.029589 -78.481657  North Downtown  22902  \n",
       "3  38.038512 -78.491664             N/A  22903  \n",
       "4  38.031539 -78.481144   Downtown Mall  22902  "
      ]
     },
     "execution_count": 14,
     "metadata": {},
     "output_type": "execute_result"
    }
   ],
   "source": [
    "# Now drop the original BlockNumber and StreetName columns\n",
    "df.drop(columns=['BlockNumber', 'StreetName','HourAMPM','HourReported','DateString'], inplace=True)\n",
    "df[\"zip\"] = df[\"zip\"].astype(str)\n",
    "\n",
    "# Fill all missing values in the DataFrame with \"N/A\"\n",
    "df.replace({None: \"N/A\", np.nan: \"N/A\", \"\": \"N/A\"}, inplace=True)\n",
    "df.head()"
   ]
  },
  {
   "cell_type": "code",
   "execution_count": 15,
   "id": "35791de9",
   "metadata": {
    "execution": {
     "iopub.execute_input": "2025-08-11T01:14:03.763499Z",
     "iopub.status.busy": "2025-08-11T01:14:03.763227Z",
     "iopub.status.idle": "2025-08-11T01:14:03.785435Z",
     "shell.execute_reply": "2025-08-11T01:14:03.784857Z"
    },
    "papermill": {
     "duration": 0.033952,
     "end_time": "2025-08-11T01:14:03.786486",
     "exception": false,
     "start_time": "2025-08-11T01:14:03.752534",
     "status": "completed"
    },
    "tags": []
   },
   "outputs": [
    {
     "name": "stdout",
     "output_type": "stream",
     "text": [
      "                  MissingCount  MissingPercentage\n",
      "RecordID                     0                0.0\n",
      "Offense                      0                0.0\n",
      "IncidentID                   0                0.0\n",
      "Agency                       0                0.0\n",
      "ReportingOfficer             0                0.0\n",
      "Date                         0                0.0\n",
      "DayOfWeek                    0                0.0\n",
      "Weekend                      0                0.0\n",
      "Season                       0                0.0\n",
      "TimeOfDay                    0                0.0\n",
      "FullStreet                   0                0.0\n",
      "lat                          0                0.0\n",
      "lon                          0                0.0\n",
      "neighborhood                 0                0.0\n",
      "zip                          0                0.0\n"
     ]
    }
   ],
   "source": [
    "missing_info = missing_percentage(df)\n",
    "print(missing_info)"
   ]
  },
  {
   "cell_type": "code",
   "execution_count": 16,
   "id": "5b516c6c",
   "metadata": {
    "execution": {
     "iopub.execute_input": "2025-08-11T01:14:03.808381Z",
     "iopub.status.busy": "2025-08-11T01:14:03.808108Z",
     "iopub.status.idle": "2025-08-11T01:14:03.812612Z",
     "shell.execute_reply": "2025-08-11T01:14:03.812030Z"
    },
    "papermill": {
     "duration": 0.016627,
     "end_time": "2025-08-11T01:14:03.813657",
     "exception": false,
     "start_time": "2025-08-11T01:14:03.797030",
     "status": "completed"
    },
    "tags": []
   },
   "outputs": [
    {
     "data": {
      "text/plain": [
       "Index(['RecordID', 'Offense', 'IncidentID', 'Agency', 'ReportingOfficer',\n",
       "       'Date', 'DayOfWeek', 'Weekend', 'Season', 'TimeOfDay', 'FullStreet',\n",
       "       'lat', 'lon', 'neighborhood', 'zip'],\n",
       "      dtype='object')"
      ]
     },
     "execution_count": 16,
     "metadata": {},
     "output_type": "execute_result"
    }
   ],
   "source": [
    "df.columns"
   ]
  },
  {
   "cell_type": "code",
   "execution_count": 17,
   "id": "3a6f5999",
   "metadata": {
    "execution": {
     "iopub.execute_input": "2025-08-11T01:14:03.835529Z",
     "iopub.status.busy": "2025-08-11T01:14:03.835222Z",
     "iopub.status.idle": "2025-08-11T01:14:03.859064Z",
     "shell.execute_reply": "2025-08-11T01:14:03.858502Z"
    },
    "papermill": {
     "duration": 0.035921,
     "end_time": "2025-08-11T01:14:03.860051",
     "exception": false,
     "start_time": "2025-08-11T01:14:03.824130",
     "status": "completed"
    },
    "tags": []
   },
   "outputs": [
    {
     "name": "stdout",
     "output_type": "stream",
     "text": [
      "<class 'pandas.core.frame.DataFrame'>\n",
      "RangeIndex: 25643 entries, 0 to 25642\n",
      "Data columns (total 15 columns):\n",
      " #   Column            Non-Null Count  Dtype         \n",
      "---  ------            --------------  -----         \n",
      " 0   RecordID          25643 non-null  int64         \n",
      " 1   Offense           25643 non-null  object        \n",
      " 2   IncidentID        25643 non-null  object        \n",
      " 3   Agency            25643 non-null  object        \n",
      " 4   ReportingOfficer  25643 non-null  object        \n",
      " 5   Date              25643 non-null  datetime64[ns]\n",
      " 6   DayOfWeek         25643 non-null  object        \n",
      " 7   Weekend           25643 non-null  bool          \n",
      " 8   Season            25643 non-null  object        \n",
      " 9   TimeOfDay         25643 non-null  object        \n",
      " 10  FullStreet        25643 non-null  object        \n",
      " 11  lat               25643 non-null  object        \n",
      " 12  lon               25643 non-null  object        \n",
      " 13  neighborhood      25643 non-null  object        \n",
      " 14  zip               25643 non-null  object        \n",
      "dtypes: bool(1), datetime64[ns](1), int64(1), object(12)\n",
      "memory usage: 2.8+ MB\n"
     ]
    }
   ],
   "source": [
    "df.info()"
   ]
  },
  {
   "cell_type": "markdown",
   "id": "a8deca2f",
   "metadata": {
    "papermill": {
     "duration": 0.010246,
     "end_time": "2025-08-11T01:14:03.880799",
     "exception": false,
     "start_time": "2025-08-11T01:14:03.870553",
     "status": "completed"
    },
    "tags": []
   },
   "source": [
    "### Export Clean Data"
   ]
  },
  {
   "cell_type": "code",
   "execution_count": 18,
   "id": "16ef9241",
   "metadata": {
    "execution": {
     "iopub.execute_input": "2025-08-11T01:14:03.902153Z",
     "iopub.status.busy": "2025-08-11T01:14:03.901862Z",
     "iopub.status.idle": "2025-08-11T01:14:13.141576Z",
     "shell.execute_reply": "2025-08-11T01:14:13.140965Z"
    },
    "papermill": {
     "duration": 9.251667,
     "end_time": "2025-08-11T01:14:13.142602",
     "exception": false,
     "start_time": "2025-08-11T01:14:03.890935",
     "status": "completed"
    },
    "tags": []
   },
   "outputs": [
    {
     "name": "stdout",
     "output_type": "stream",
     "text": [
      "Project Root: /home/runner/work/crime-data/crime-data\n"
     ]
    },
    {
     "name": "stdout",
     "output_type": "stream",
     "text": [
      "Data saved to: /home/runner/work/crime-data/crime-data/data/charlottesville_crime_incidents.csv\n"
     ]
    },
    {
     "name": "stdout",
     "output_type": "stream",
     "text": [
      "Excel saved to: /home/runner/work/crime-data/crime-data/data/charlottesville_crime_incidents.xlsx\n"
     ]
    }
   ],
   "source": [
    "# Determine the project root (assuming papermill is run from the repository root)\n",
    "project_root = os.getcwd()\n",
    "print(\"Project Root:\", project_root)\n",
    "\n",
    "# Set the data directory within the project root\n",
    "data_dir = os.path.join(project_root, \"data\")\n",
    "\n",
    "# Ensure the \"data\" directory exists (create it if it doesn't)\n",
    "if not os.path.exists(data_dir):\n",
    "    os.makedirs(data_dir)\n",
    "\n",
    "# Export the DataFrame to CSV in the \"data\" folder located in the project root\n",
    "csv_path = os.path.join(data_dir, \"charlottesville_crime_incidents.csv\")\n",
    "df.to_csv(csv_path, index=False)\n",
    "print(\"Data saved to:\", csv_path)\n",
    "\n",
    "# Construct the path to your Excel file\n",
    "excel_path = os.path.join(data_dir, \"charlottesville_crime_incidents.xlsx\")\n",
    "\n",
    "# Export the DataFrame to Excel\n",
    "df.to_excel(excel_path, index=False)\n",
    "print(\"Excel saved to:\", excel_path)\n"
   ]
  }
 ],
 "metadata": {
  "kernelspec": {
   "display_name": "Python 3",
   "language": "python",
   "name": "python3"
  },
  "language_info": {
   "codemirror_mode": {
    "name": "ipython",
    "version": 3
   },
   "file_extension": ".py",
   "mimetype": "text/x-python",
   "name": "python",
   "nbconvert_exporter": "python",
   "pygments_lexer": "ipython3",
   "version": "3.9.23"
  },
  "papermill": {
   "default_parameters": {},
   "duration": 180.216446,
   "end_time": "2025-08-11T01:14:13.568947",
   "environment_variables": {},
   "exception": null,
   "input_path": "notebook/Crime Data.ipynb",
   "output_path": "notebook/Crime Data_output.ipynb",
   "parameters": {},
   "start_time": "2025-08-11T01:11:13.352501",
   "version": "2.6.0"
  }
 },
 "nbformat": 4,
 "nbformat_minor": 5
}