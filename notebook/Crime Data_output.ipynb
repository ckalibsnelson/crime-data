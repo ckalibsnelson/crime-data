{
 "cells": [
  {
   "cell_type": "markdown",
   "id": "15c256e5",
   "metadata": {
    "papermill": {
     "duration": 0.004433,
     "end_time": "2025-08-10T01:14:19.702370",
     "exception": false,
     "start_time": "2025-08-10T01:14:19.697937",
     "status": "completed"
    },
    "tags": []
   },
   "source": [
    "# Charlottesville Open Data Porttal: Crime Data"
   ]
  },
  {
   "cell_type": "markdown",
   "id": "53ef099e",
   "metadata": {
    "papermill": {
     "duration": 0.004248,
     "end_time": "2025-08-10T01:14:19.710229",
     "exception": false,
     "start_time": "2025-08-10T01:14:19.705981",
     "status": "completed"
    },
    "tags": []
   },
   "source": [
    "## Import Relevant Librarires & Set WD"
   ]
  },
  {
   "cell_type": "code",
   "execution_count": 1,
   "id": "cbbaa313",
   "metadata": {
    "execution": {
     "iopub.execute_input": "2025-08-10T01:14:19.717986Z",
     "iopub.status.busy": "2025-08-10T01:14:19.717724Z",
     "iopub.status.idle": "2025-08-10T01:14:20.235806Z",
     "shell.execute_reply": "2025-08-10T01:14:20.235157Z"
    },
    "papermill": {
     "duration": 0.523645,
     "end_time": "2025-08-10T01:14:20.237160",
     "exception": false,
     "start_time": "2025-08-10T01:14:19.713515",
     "status": "completed"
    },
    "tags": []
   },
   "outputs": [],
   "source": [
    "import requests\n",
    "import pandas as pd\n",
    "import numpy as np\n",
    "import pickle\n",
    "import googlemaps\n",
    "import plotly.express as px\n",
    "from geopy.geocoders import Nominatim\n",
    "import time\n",
    "from dotenv import load_dotenv\n",
    "import os\n",
    "\n",
    "env_path = os.path.join(\"..\", \".env\")\n",
    "#print(\"Looking for .env file at:\", os.path.abspath(env_path))\n",
    "load_dotenv(dotenv_path=env_path)\n",
    "\n",
    "# Retrieve the variables\n",
    "GOOGLE_API_KEY = os.getenv(\"GOOGLE_API_KEY\")\n",
    "WORKING_DIR = os.getenv(\"WORKING_DIR\")\n",
    "\n",
    "if GOOGLE_API_KEY is None or WORKING_DIR is None:\n",
    "    raise RuntimeError(\"No configuration found. Please ensure that your .env file exists with the required variables, or create a local config.py file.\")\n",
    "\n",
    "#print(\"Google API Key:\", GOOGLE_API_KEY)\n",
    "#print(\"Working Directory:\", WORKING_DIR)"
   ]
  },
  {
   "cell_type": "markdown",
   "id": "ac259e34",
   "metadata": {
    "papermill": {
     "duration": 0.003262,
     "end_time": "2025-08-10T01:14:20.244173",
     "exception": false,
     "start_time": "2025-08-10T01:14:20.240911",
     "status": "completed"
    },
    "tags": []
   },
   "source": [
    "## Import Data\n",
    "\n",
    "URL: https://opendata.charlottesville.org/datasets/charlottesville::crime-data/about"
   ]
  },
  {
   "cell_type": "code",
   "execution_count": 2,
   "id": "0b3b48a5",
   "metadata": {
    "execution": {
     "iopub.execute_input": "2025-08-10T01:14:20.251687Z",
     "iopub.status.busy": "2025-08-10T01:14:20.251414Z",
     "iopub.status.idle": "2025-08-10T01:15:29.591138Z",
     "shell.execute_reply": "2025-08-10T01:15:29.590423Z"
    },
    "papermill": {
     "duration": 69.34812,
     "end_time": "2025-08-10T01:15:29.595576",
     "exception": false,
     "start_time": "2025-08-10T01:14:20.247456",
     "status": "completed"
    },
    "tags": []
   },
   "outputs": [
    {
     "name": "stdout",
     "output_type": "stream",
     "text": [
      "Total records imported: 25644\n"
     ]
    }
   ],
   "source": [
    "# Define the endpoint and initial parameters.\n",
    "url = \"https://gisweb.charlottesville.org/arcgis/rest/services/OpenData_2/MapServer/6/query\"\n",
    "params = {\n",
    "    \"where\": \"1=1\",\n",
    "    \"outFields\": \"*\",\n",
    "    \"outSR\": 4326,\n",
    "    \"f\": \"json\",\n",
    "    \"resultOffset\": 0,       # Starting index for results\n",
    "    \"resultRecordCount\": 10000  # Maximum records per batch (if allowed by the API)\n",
    "}\n",
    "\n",
    "records = []\n",
    "\n",
    "while True:\n",
    "    response = requests.get(url, params=params)\n",
    "    response.raise_for_status()\n",
    "    data = response.json()\n",
    "    \n",
    "    # Get the current batch of features.\n",
    "    features = data.get(\"features\", [])\n",
    "    if not features:\n",
    "        break\n",
    "\n",
    "    # Extract the attributes from the features.\n",
    "    batch_records = [feature.get(\"attributes\", {}) for feature in features]\n",
    "    records.extend(batch_records)\n",
    "    \n",
    "    # If the batch size is less than the requested count, we reached the end.\n",
    "    if len(features) < params[\"resultRecordCount\"]:\n",
    "        break\n",
    "\n",
    "    # Update the resultOffset for the next batch.\n",
    "    params[\"resultOffset\"] += params[\"resultRecordCount\"]\n",
    "\n",
    "# Create a DataFrame from the combined records.\n",
    "df = pd.DataFrame(records)\n",
    "print(\"Total records imported:\", len(df))\n"
   ]
  },
  {
   "cell_type": "code",
   "execution_count": 3,
   "id": "6eaacbf4",
   "metadata": {
    "execution": {
     "iopub.execute_input": "2025-08-10T01:15:29.603413Z",
     "iopub.status.busy": "2025-08-10T01:15:29.603181Z",
     "iopub.status.idle": "2025-08-10T01:15:29.615020Z",
     "shell.execute_reply": "2025-08-10T01:15:29.614411Z"
    },
    "papermill": {
     "duration": 0.016909,
     "end_time": "2025-08-10T01:15:29.615986",
     "exception": false,
     "start_time": "2025-08-10T01:15:29.599077",
     "status": "completed"
    },
    "tags": []
   },
   "outputs": [
    {
     "data": {
      "text/html": [
       "<div>\n",
       "<style scoped>\n",
       "    .dataframe tbody tr th:only-of-type {\n",
       "        vertical-align: middle;\n",
       "    }\n",
       "\n",
       "    .dataframe tbody tr th {\n",
       "        vertical-align: top;\n",
       "    }\n",
       "\n",
       "    .dataframe thead th {\n",
       "        text-align: right;\n",
       "    }\n",
       "</style>\n",
       "<table border=\"1\" class=\"dataframe\">\n",
       "  <thead>\n",
       "    <tr style=\"text-align: right;\">\n",
       "      <th></th>\n",
       "      <th>RecordID</th>\n",
       "      <th>Offense</th>\n",
       "      <th>IncidentID</th>\n",
       "      <th>BlockNumber</th>\n",
       "      <th>StreetName</th>\n",
       "      <th>Agency</th>\n",
       "      <th>DateReported</th>\n",
       "      <th>HourReported</th>\n",
       "      <th>ReportingOfficer</th>\n",
       "    </tr>\n",
       "  </thead>\n",
       "  <tbody>\n",
       "    <tr>\n",
       "      <th>0</th>\n",
       "      <td>1</td>\n",
       "      <td>Driving Under the Influence</td>\n",
       "      <td>202500027939</td>\n",
       "      <td></td>\n",
       "      <td>PRESTON AVE / OLD PRESTON AVE</td>\n",
       "      <td>CPD</td>\n",
       "      <td>1754622527000</td>\n",
       "      <td>2308</td>\n",
       "      <td>Burnett, James</td>\n",
       "    </tr>\n",
       "    <tr>\n",
       "      <th>1</th>\n",
       "      <td>2</td>\n",
       "      <td>Warrant Service</td>\n",
       "      <td>202500027914</td>\n",
       "      <td>200</td>\n",
       "      <td>W MAIN ST</td>\n",
       "      <td>CPD</td>\n",
       "      <td>1754613084000</td>\n",
       "      <td>2031</td>\n",
       "      <td>Abdelgayed, Adam</td>\n",
       "    </tr>\n",
       "    <tr>\n",
       "      <th>2</th>\n",
       "      <td>3</td>\n",
       "      <td>Fraud-credit card</td>\n",
       "      <td>202500027906</td>\n",
       "      <td>400</td>\n",
       "      <td>GARRETT ST, G</td>\n",
       "      <td>CPD</td>\n",
       "      <td>1754606868000</td>\n",
       "      <td>1847</td>\n",
       "      <td>Ritter, Kobe</td>\n",
       "    </tr>\n",
       "    <tr>\n",
       "      <th>3</th>\n",
       "      <td>4</td>\n",
       "      <td>Larceny - All Other</td>\n",
       "      <td>202500027879</td>\n",
       "      <td>500</td>\n",
       "      <td>E WATER ST</td>\n",
       "      <td>CPD</td>\n",
       "      <td>1754593186000</td>\n",
       "      <td>1459</td>\n",
       "      <td>Verdin, Alejandra</td>\n",
       "    </tr>\n",
       "    <tr>\n",
       "      <th>4</th>\n",
       "      <td>5</td>\n",
       "      <td>Larceny - Theft from Building</td>\n",
       "      <td>202500027878</td>\n",
       "      <td>200</td>\n",
       "      <td>5TH ST SW, 102</td>\n",
       "      <td>CPD</td>\n",
       "      <td>1754592772000</td>\n",
       "      <td>1452</td>\n",
       "      <td>Turner, Devon</td>\n",
       "    </tr>\n",
       "  </tbody>\n",
       "</table>\n",
       "</div>"
      ],
      "text/plain": [
       "   RecordID                        Offense    IncidentID BlockNumber  \\\n",
       "0         1    Driving Under the Influence  202500027939               \n",
       "1         2                Warrant Service  202500027914         200   \n",
       "2         3              Fraud-credit card  202500027906         400   \n",
       "3         4            Larceny - All Other  202500027879         500   \n",
       "4         5  Larceny - Theft from Building  202500027878         200   \n",
       "\n",
       "                      StreetName Agency   DateReported HourReported  \\\n",
       "0  PRESTON AVE / OLD PRESTON AVE    CPD  1754622527000         2308   \n",
       "1                      W MAIN ST    CPD  1754613084000         2031   \n",
       "2                  GARRETT ST, G    CPD  1754606868000         1847   \n",
       "3                     E WATER ST    CPD  1754593186000         1459   \n",
       "4                 5TH ST SW, 102    CPD  1754592772000         1452   \n",
       "\n",
       "    ReportingOfficer  \n",
       "0     Burnett, James  \n",
       "1   Abdelgayed, Adam  \n",
       "2       Ritter, Kobe  \n",
       "3  Verdin, Alejandra  \n",
       "4      Turner, Devon  "
      ]
     },
     "execution_count": 3,
     "metadata": {},
     "output_type": "execute_result"
    }
   ],
   "source": [
    "df.head()"
   ]
  },
  {
   "cell_type": "code",
   "execution_count": 4,
   "id": "5cf8bf7b",
   "metadata": {
    "execution": {
     "iopub.execute_input": "2025-08-10T01:15:29.623981Z",
     "iopub.status.busy": "2025-08-10T01:15:29.623799Z",
     "iopub.status.idle": "2025-08-10T01:15:29.627504Z",
     "shell.execute_reply": "2025-08-10T01:15:29.626964Z"
    },
    "papermill": {
     "duration": 0.008791,
     "end_time": "2025-08-10T01:15:29.628503",
     "exception": false,
     "start_time": "2025-08-10T01:15:29.619712",
     "status": "completed"
    },
    "tags": []
   },
   "outputs": [
    {
     "data": {
      "text/plain": [
       "Index(['RecordID', 'Offense', 'IncidentID', 'BlockNumber', 'StreetName',\n",
       "       'Agency', 'DateReported', 'HourReported', 'ReportingOfficer'],\n",
       "      dtype='object')"
      ]
     },
     "execution_count": 4,
     "metadata": {},
     "output_type": "execute_result"
    }
   ],
   "source": [
    "df.columns"
   ]
  },
  {
   "cell_type": "code",
   "execution_count": 5,
   "id": "8ef296a2",
   "metadata": {
    "execution": {
     "iopub.execute_input": "2025-08-10T01:15:29.636474Z",
     "iopub.status.busy": "2025-08-10T01:15:29.636271Z",
     "iopub.status.idle": "2025-08-10T01:15:29.659678Z",
     "shell.execute_reply": "2025-08-10T01:15:29.659150Z"
    },
    "papermill": {
     "duration": 0.028475,
     "end_time": "2025-08-10T01:15:29.660695",
     "exception": false,
     "start_time": "2025-08-10T01:15:29.632220",
     "status": "completed"
    },
    "tags": []
   },
   "outputs": [
    {
     "name": "stdout",
     "output_type": "stream",
     "text": [
      "<class 'pandas.core.frame.DataFrame'>\n",
      "RangeIndex: 25644 entries, 0 to 25643\n",
      "Data columns (total 9 columns):\n",
      " #   Column            Non-Null Count  Dtype \n",
      "---  ------            --------------  ----- \n",
      " 0   RecordID          25644 non-null  int64 \n",
      " 1   Offense           25644 non-null  object\n",
      " 2   IncidentID        25644 non-null  object\n",
      " 3   BlockNumber       25644 non-null  object\n",
      " 4   StreetName        25644 non-null  object\n",
      " 5   Agency            25644 non-null  object\n",
      " 6   DateReported      25644 non-null  int64 \n",
      " 7   HourReported      25644 non-null  object\n",
      " 8   ReportingOfficer  25629 non-null  object\n",
      "dtypes: int64(2), object(7)\n",
      "memory usage: 1.8+ MB\n"
     ]
    }
   ],
   "source": [
    "df.info()"
   ]
  },
  {
   "cell_type": "markdown",
   "id": "fb130ffe",
   "metadata": {
    "papermill": {
     "duration": 0.003722,
     "end_time": "2025-08-10T01:15:29.668244",
     "exception": false,
     "start_time": "2025-08-10T01:15:29.664522",
     "status": "completed"
    },
    "tags": []
   },
   "source": [
    "### Missing Values"
   ]
  },
  {
   "cell_type": "code",
   "execution_count": 6,
   "id": "70073c21",
   "metadata": {
    "execution": {
     "iopub.execute_input": "2025-08-10T01:15:29.676419Z",
     "iopub.status.busy": "2025-08-10T01:15:29.676209Z",
     "iopub.status.idle": "2025-08-10T01:15:29.697007Z",
     "shell.execute_reply": "2025-08-10T01:15:29.696473Z"
    },
    "papermill": {
     "duration": 0.025979,
     "end_time": "2025-08-10T01:15:29.697931",
     "exception": false,
     "start_time": "2025-08-10T01:15:29.671952",
     "status": "completed"
    },
    "tags": []
   },
   "outputs": [
    {
     "name": "stdout",
     "output_type": "stream",
     "text": [
      "                  MissingCount  MissingPercentage\n",
      "RecordID                     0               0.00\n",
      "Offense                      0               0.00\n",
      "IncidentID                   0               0.00\n",
      "BlockNumber                  0               0.00\n",
      "StreetName                   0               0.00\n",
      "Agency                       0               0.00\n",
      "DateReported                 0               0.00\n",
      "HourReported                 0               0.00\n",
      "ReportingOfficer            15               0.06\n"
     ]
    }
   ],
   "source": [
    "def missing_percentage(df):\n",
    "    \"\"\"\n",
    "    Returns a DataFrame with the count and percentage of missing values for each column.\n",
    "    \n",
    "    Parameters:\n",
    "        df (pd.DataFrame): The input DataFrame.\n",
    "    \n",
    "    Returns:\n",
    "        pd.DataFrame: A DataFrame with columns 'MissingCount' and 'MissingPercentage'.\n",
    "    \"\"\"\n",
    "    total_rows = len(df)\n",
    "    missing_count = df.isnull().sum()\n",
    "    missing_percent = (missing_count / total_rows) * 100\n",
    "    \n",
    "    result = pd.DataFrame({\n",
    "        'MissingCount': missing_count,\n",
    "        'MissingPercentage': missing_percent.round(2)\n",
    "    })\n",
    "    \n",
    "    return result\n",
    "\n",
    "# Example usage:\n",
    "missing_info = missing_percentage(df)\n",
    "print(missing_info)\n"
   ]
  },
  {
   "cell_type": "markdown",
   "id": "d8fd6ba5",
   "metadata": {
    "papermill": {
     "duration": 0.003806,
     "end_time": "2025-08-10T01:15:29.705815",
     "exception": false,
     "start_time": "2025-08-10T01:15:29.702009",
     "status": "completed"
    },
    "tags": []
   },
   "source": [
    "## Data Preparation"
   ]
  },
  {
   "cell_type": "markdown",
   "id": "103574ee",
   "metadata": {
    "papermill": {
     "duration": 0.003747,
     "end_time": "2025-08-10T01:15:29.713397",
     "exception": false,
     "start_time": "2025-08-10T01:15:29.709650",
     "status": "completed"
    },
    "tags": []
   },
   "source": [
    "### Data Conversion"
   ]
  },
  {
   "cell_type": "code",
   "execution_count": 7,
   "id": "e54c3b44",
   "metadata": {
    "execution": {
     "iopub.execute_input": "2025-08-10T01:15:29.721898Z",
     "iopub.status.busy": "2025-08-10T01:15:29.721681Z",
     "iopub.status.idle": "2025-08-10T01:15:30.080866Z",
     "shell.execute_reply": "2025-08-10T01:15:30.080203Z"
    },
    "papermill": {
     "duration": 0.364655,
     "end_time": "2025-08-10T01:15:30.081921",
     "exception": false,
     "start_time": "2025-08-10T01:15:29.717266",
     "status": "completed"
    },
    "tags": []
   },
   "outputs": [
    {
     "data": {
      "text/html": [
       "<div>\n",
       "<style scoped>\n",
       "    .dataframe tbody tr th:only-of-type {\n",
       "        vertical-align: middle;\n",
       "    }\n",
       "\n",
       "    .dataframe tbody tr th {\n",
       "        vertical-align: top;\n",
       "    }\n",
       "\n",
       "    .dataframe thead th {\n",
       "        text-align: right;\n",
       "    }\n",
       "</style>\n",
       "<table border=\"1\" class=\"dataframe\">\n",
       "  <thead>\n",
       "    <tr style=\"text-align: right;\">\n",
       "      <th></th>\n",
       "      <th>RecordID</th>\n",
       "      <th>Offense</th>\n",
       "      <th>IncidentID</th>\n",
       "      <th>BlockNumber</th>\n",
       "      <th>StreetName</th>\n",
       "      <th>Agency</th>\n",
       "      <th>HourReported</th>\n",
       "      <th>ReportingOfficer</th>\n",
       "      <th>Date</th>\n",
       "      <th>DateString</th>\n",
       "      <th>DayOfWeek</th>\n",
       "      <th>Weekend</th>\n",
       "      <th>Season</th>\n",
       "      <th>HourAMPM</th>\n",
       "      <th>TimeOfDay</th>\n",
       "    </tr>\n",
       "  </thead>\n",
       "  <tbody>\n",
       "    <tr>\n",
       "      <th>0</th>\n",
       "      <td>1</td>\n",
       "      <td>Driving Under the Influence</td>\n",
       "      <td>202500027939</td>\n",
       "      <td></td>\n",
       "      <td>PRESTON AVE / OLD PRESTON AVE</td>\n",
       "      <td>CPD</td>\n",
       "      <td>2308</td>\n",
       "      <td>Burnett, James</td>\n",
       "      <td>2025-08-07 23:08:47</td>\n",
       "      <td>2025-08-07 11:08:47 PM</td>\n",
       "      <td>Thursday</td>\n",
       "      <td>False</td>\n",
       "      <td>Summer</td>\n",
       "      <td>11:08 PM</td>\n",
       "      <td>Night</td>\n",
       "    </tr>\n",
       "    <tr>\n",
       "      <th>1</th>\n",
       "      <td>2</td>\n",
       "      <td>Warrant Service</td>\n",
       "      <td>202500027914</td>\n",
       "      <td>200</td>\n",
       "      <td>W MAIN ST</td>\n",
       "      <td>CPD</td>\n",
       "      <td>2031</td>\n",
       "      <td>Abdelgayed, Adam</td>\n",
       "      <td>2025-08-07 20:31:24</td>\n",
       "      <td>2025-08-07 08:31:24 PM</td>\n",
       "      <td>Thursday</td>\n",
       "      <td>False</td>\n",
       "      <td>Summer</td>\n",
       "      <td>08:31 PM</td>\n",
       "      <td>Evening</td>\n",
       "    </tr>\n",
       "    <tr>\n",
       "      <th>2</th>\n",
       "      <td>3</td>\n",
       "      <td>Fraud-credit card</td>\n",
       "      <td>202500027906</td>\n",
       "      <td>400</td>\n",
       "      <td>GARRETT ST, G</td>\n",
       "      <td>CPD</td>\n",
       "      <td>1847</td>\n",
       "      <td>Ritter, Kobe</td>\n",
       "      <td>2025-08-07 18:47:48</td>\n",
       "      <td>2025-08-07 06:47:48 PM</td>\n",
       "      <td>Thursday</td>\n",
       "      <td>False</td>\n",
       "      <td>Summer</td>\n",
       "      <td>06:47 PM</td>\n",
       "      <td>Evening</td>\n",
       "    </tr>\n",
       "    <tr>\n",
       "      <th>3</th>\n",
       "      <td>4</td>\n",
       "      <td>Larceny - All Other</td>\n",
       "      <td>202500027879</td>\n",
       "      <td>500</td>\n",
       "      <td>E WATER ST</td>\n",
       "      <td>CPD</td>\n",
       "      <td>1459</td>\n",
       "      <td>Verdin, Alejandra</td>\n",
       "      <td>2025-08-07 14:59:46</td>\n",
       "      <td>2025-08-07 02:59:46 PM</td>\n",
       "      <td>Thursday</td>\n",
       "      <td>False</td>\n",
       "      <td>Summer</td>\n",
       "      <td>02:59 PM</td>\n",
       "      <td>Afternoon</td>\n",
       "    </tr>\n",
       "    <tr>\n",
       "      <th>4</th>\n",
       "      <td>5</td>\n",
       "      <td>Larceny - Theft from Building</td>\n",
       "      <td>202500027878</td>\n",
       "      <td>200</td>\n",
       "      <td>5TH ST SW, 102</td>\n",
       "      <td>CPD</td>\n",
       "      <td>1452</td>\n",
       "      <td>Turner, Devon</td>\n",
       "      <td>2025-08-07 14:52:52</td>\n",
       "      <td>2025-08-07 02:52:52 PM</td>\n",
       "      <td>Thursday</td>\n",
       "      <td>False</td>\n",
       "      <td>Summer</td>\n",
       "      <td>02:52 PM</td>\n",
       "      <td>Afternoon</td>\n",
       "    </tr>\n",
       "  </tbody>\n",
       "</table>\n",
       "</div>"
      ],
      "text/plain": [
       "   RecordID                        Offense    IncidentID BlockNumber  \\\n",
       "0         1    Driving Under the Influence  202500027939               \n",
       "1         2                Warrant Service  202500027914         200   \n",
       "2         3              Fraud-credit card  202500027906         400   \n",
       "3         4            Larceny - All Other  202500027879         500   \n",
       "4         5  Larceny - Theft from Building  202500027878         200   \n",
       "\n",
       "                      StreetName Agency HourReported   ReportingOfficer  \\\n",
       "0  PRESTON AVE / OLD PRESTON AVE    CPD         2308     Burnett, James   \n",
       "1                      W MAIN ST    CPD         2031   Abdelgayed, Adam   \n",
       "2                  GARRETT ST, G    CPD         1847       Ritter, Kobe   \n",
       "3                     E WATER ST    CPD         1459  Verdin, Alejandra   \n",
       "4                 5TH ST SW, 102    CPD         1452      Turner, Devon   \n",
       "\n",
       "                 Date              DateString DayOfWeek  Weekend  Season  \\\n",
       "0 2025-08-07 23:08:47  2025-08-07 11:08:47 PM  Thursday    False  Summer   \n",
       "1 2025-08-07 20:31:24  2025-08-07 08:31:24 PM  Thursday    False  Summer   \n",
       "2 2025-08-07 18:47:48  2025-08-07 06:47:48 PM  Thursday    False  Summer   \n",
       "3 2025-08-07 14:59:46  2025-08-07 02:59:46 PM  Thursday    False  Summer   \n",
       "4 2025-08-07 14:52:52  2025-08-07 02:52:52 PM  Thursday    False  Summer   \n",
       "\n",
       "   HourAMPM  TimeOfDay  \n",
       "0  11:08 PM      Night  \n",
       "1  08:31 PM    Evening  \n",
       "2  06:47 PM    Evening  \n",
       "3  02:59 PM  Afternoon  \n",
       "4  02:52 PM  Afternoon  "
      ]
     },
     "execution_count": 7,
     "metadata": {},
     "output_type": "execute_result"
    }
   ],
   "source": [
    "def convert_and_categorize_datereported(df, col='DateReported'):\n",
    "    \"\"\"\n",
    "    Converts an epoch (in milliseconds) date column into a timezone-aware datetime,\n",
    "    converts it to Eastern Time, and then creates columns for day-of-week, weekend flag,\n",
    "    season, 12-hour formatted time, and time-of-day. Keeps both a real datetime column\n",
    "    (Date) and a string representation (DateString).\n",
    "    \"\"\"\n",
    "    import pandas as pd\n",
    "\n",
    "    # Convert the epoch timestamp to a pandas datetime object as UTC, then convert to US/Eastern.\n",
    "    df[\"DateReported_dt\"] = (\n",
    "        pd.to_datetime(df[col], unit=\"ms\", errors=\"coerce\", utc=True)\n",
    "        .dt.tz_convert(\"US/Eastern\")\n",
    "    )\n",
    "    \n",
    "    # Create a true datetime column (remove timezone if you prefer naive datetime)\n",
    "    df[\"Date\"] = df[\"DateReported_dt\"].dt.tz_localize(None)\n",
    "\n",
    "    # Optionally, create a separate string-formatted column\n",
    "    df[\"DateString\"] = df[\"DateReported_dt\"].dt.strftime(\"%Y-%m-%d %I:%M:%S %p\")\n",
    "    \n",
    "    # DayOfWeek\n",
    "    df[\"DayOfWeek\"] = df[\"DateReported_dt\"].dt.day_name()\n",
    "    \n",
    "    # Weekend\n",
    "    df[\"Weekend\"] = df[\"DayOfWeek\"].isin([\"Saturday\", \"Sunday\"])\n",
    "    \n",
    "    # Helper function to determine the season\n",
    "    def get_season(dt):\n",
    "        month = dt.month\n",
    "        day = dt.day\n",
    "        # Approximate Northern Hemisphere season boundaries:\n",
    "        if (month == 12 and day >= 21) or (month < 3) or (month == 3 and day < 20):\n",
    "            return \"Winter\"\n",
    "        elif (month == 3 and day >= 20) or (month < 6) or (month == 6 and day < 21):\n",
    "            return \"Spring\"\n",
    "        elif (month == 6 and day >= 21) or (month < 9) or (month == 9 and day < 22):\n",
    "            return \"Summer\"\n",
    "        else:\n",
    "            return \"Autumn\"\n",
    "    \n",
    "    df[\"Season\"] = df[\"DateReported_dt\"].apply(get_season)\n",
    "    \n",
    "    # 12-hour formatted time (HourAMPM)\n",
    "    df[\"HourAMPM\"] = df[\"DateReported_dt\"].dt.strftime(\"%I:%M %p\")\n",
    "    \n",
    "    # Extract hour (0-23) for time-of-day\n",
    "    df[\"HourValue\"] = df[\"DateReported_dt\"].dt.hour\n",
    "    \n",
    "    def time_of_day(hour):\n",
    "        if pd.isnull(hour):\n",
    "            return None\n",
    "        if 5 <= hour < 12:\n",
    "            return \"Morning\"\n",
    "        elif 12 <= hour < 17:\n",
    "            return \"Afternoon\"\n",
    "        elif 17 <= hour < 21:\n",
    "            return \"Evening\"\n",
    "        else:\n",
    "            return \"Night\"\n",
    "    \n",
    "    df[\"TimeOfDay\"] = df[\"HourValue\"].apply(time_of_day)\n",
    "    \n",
    "    # Drop columns you no longer need\n",
    "    df.drop(columns=[col, \"DateReported_dt\", \"HourValue\"], inplace=True)\n",
    "    \n",
    "    return df\n",
    "\n",
    "# Example usage:\n",
    "df = convert_and_categorize_datereported(df)\n",
    "df.head()\n"
   ]
  },
  {
   "cell_type": "code",
   "execution_count": 8,
   "id": "095e2bed",
   "metadata": {
    "execution": {
     "iopub.execute_input": "2025-08-10T01:15:30.091404Z",
     "iopub.status.busy": "2025-08-10T01:15:30.091181Z",
     "iopub.status.idle": "2025-08-10T01:15:30.120085Z",
     "shell.execute_reply": "2025-08-10T01:15:30.119534Z"
    },
    "papermill": {
     "duration": 0.034584,
     "end_time": "2025-08-10T01:15:30.121090",
     "exception": false,
     "start_time": "2025-08-10T01:15:30.086506",
     "status": "completed"
    },
    "tags": []
   },
   "outputs": [
    {
     "name": "stdout",
     "output_type": "stream",
     "text": [
      "<class 'pandas.core.frame.DataFrame'>\n",
      "RangeIndex: 25644 entries, 0 to 25643\n",
      "Data columns (total 15 columns):\n",
      " #   Column            Non-Null Count  Dtype         \n",
      "---  ------            --------------  -----         \n",
      " 0   RecordID          25644 non-null  int64         \n",
      " 1   Offense           25644 non-null  object        \n",
      " 2   IncidentID        25644 non-null  object        \n",
      " 3   BlockNumber       25644 non-null  object        \n",
      " 4   StreetName        25644 non-null  object        \n",
      " 5   Agency            25644 non-null  object        \n",
      " 6   HourReported      25644 non-null  object        \n",
      " 7   ReportingOfficer  25629 non-null  object        \n",
      " 8   Date              25644 non-null  datetime64[ns]\n",
      " 9   DateString        25644 non-null  object        \n",
      " 10  DayOfWeek         25644 non-null  object        \n",
      " 11  Weekend           25644 non-null  bool          \n",
      " 12  Season            25644 non-null  object        \n",
      " 13  HourAMPM          25644 non-null  object        \n",
      " 14  TimeOfDay         25644 non-null  object        \n",
      "dtypes: bool(1), datetime64[ns](1), int64(1), object(12)\n",
      "memory usage: 2.8+ MB\n"
     ]
    }
   ],
   "source": [
    "df.info()"
   ]
  },
  {
   "cell_type": "markdown",
   "id": "256355b5",
   "metadata": {
    "papermill": {
     "duration": 0.004109,
     "end_time": "2025-08-10T01:15:30.129722",
     "exception": false,
     "start_time": "2025-08-10T01:15:30.125613",
     "status": "completed"
    },
    "tags": []
   },
   "source": [
    "### Coordinates"
   ]
  },
  {
   "cell_type": "code",
   "execution_count": 9,
   "id": "9d8966af",
   "metadata": {
    "execution": {
     "iopub.execute_input": "2025-08-10T01:15:30.138757Z",
     "iopub.status.busy": "2025-08-10T01:15:30.138574Z",
     "iopub.status.idle": "2025-08-10T01:15:30.417333Z",
     "shell.execute_reply": "2025-08-10T01:15:30.416685Z"
    },
    "papermill": {
     "duration": 0.284544,
     "end_time": "2025-08-10T01:15:30.418353",
     "exception": false,
     "start_time": "2025-08-10T01:15:30.133809",
     "status": "completed"
    },
    "tags": []
   },
   "outputs": [
    {
     "name": "stdout",
     "output_type": "stream",
     "text": [
      "Loaded geocode cache.\n",
      "Error geocoding  PRESTON AVE / OLD PRESTON AVE: REQUEST_DENIED (You must enable Billing on the Google Cloud Project at https://console.cloud.google.com/project/_/billing/enable Learn more at https://developers.google.com/maps/gmp-get-started)\n",
      "Geocoded  PRESTON AVE / OLD PRESTON AVE: None, None\n"
     ]
    },
    {
     "name": "stdout",
     "output_type": "stream",
     "text": [
      "Error geocoding 200 5TH ST SW, 102: REQUEST_DENIED (You must enable Billing on the Google Cloud Project at https://console.cloud.google.com/project/_/billing/enable Learn more at https://developers.google.com/maps/gmp-get-started)\n",
      "Geocoded 200 5TH ST SW, 102: None, None\n"
     ]
    },
    {
     "name": "stdout",
     "output_type": "stream",
     "text": [
      "Error geocoding 4000 CITY WALK WAY, 440: REQUEST_DENIED (You must enable Billing on the Google Cloud Project at https://console.cloud.google.com/project/_/billing/enable Learn more at https://developers.google.com/maps/gmp-get-started)\n",
      "Geocoded 4000 CITY WALK WAY, 440: None, None\n",
      "Geocode cache updated and saved.\n"
     ]
    },
    {
     "data": {
      "text/html": [
       "<div>\n",
       "<style scoped>\n",
       "    .dataframe tbody tr th:only-of-type {\n",
       "        vertical-align: middle;\n",
       "    }\n",
       "\n",
       "    .dataframe tbody tr th {\n",
       "        vertical-align: top;\n",
       "    }\n",
       "\n",
       "    .dataframe thead th {\n",
       "        text-align: right;\n",
       "    }\n",
       "</style>\n",
       "<table border=\"1\" class=\"dataframe\">\n",
       "  <thead>\n",
       "    <tr style=\"text-align: right;\">\n",
       "      <th></th>\n",
       "      <th>RecordID</th>\n",
       "      <th>Offense</th>\n",
       "      <th>IncidentID</th>\n",
       "      <th>BlockNumber</th>\n",
       "      <th>StreetName</th>\n",
       "      <th>Agency</th>\n",
       "      <th>HourReported</th>\n",
       "      <th>ReportingOfficer</th>\n",
       "      <th>Date</th>\n",
       "      <th>DateString</th>\n",
       "      <th>DayOfWeek</th>\n",
       "      <th>Weekend</th>\n",
       "      <th>Season</th>\n",
       "      <th>HourAMPM</th>\n",
       "      <th>TimeOfDay</th>\n",
       "      <th>FullStreet</th>\n",
       "      <th>lat</th>\n",
       "      <th>lon</th>\n",
       "    </tr>\n",
       "  </thead>\n",
       "  <tbody>\n",
       "    <tr>\n",
       "      <th>0</th>\n",
       "      <td>1</td>\n",
       "      <td>Driving Under the Influence</td>\n",
       "      <td>202500027939</td>\n",
       "      <td></td>\n",
       "      <td>PRESTON AVE / OLD PRESTON AVE</td>\n",
       "      <td>CPD</td>\n",
       "      <td>2308</td>\n",
       "      <td>Burnett, James</td>\n",
       "      <td>2025-08-07 23:08:47</td>\n",
       "      <td>2025-08-07 11:08:47 PM</td>\n",
       "      <td>Thursday</td>\n",
       "      <td>False</td>\n",
       "      <td>Summer</td>\n",
       "      <td>11:08 PM</td>\n",
       "      <td>Night</td>\n",
       "      <td>PRESTON AVE / OLD PRESTON AVE</td>\n",
       "      <td>NaN</td>\n",
       "      <td>NaN</td>\n",
       "    </tr>\n",
       "    <tr>\n",
       "      <th>1</th>\n",
       "      <td>2</td>\n",
       "      <td>Warrant Service</td>\n",
       "      <td>202500027914</td>\n",
       "      <td>200</td>\n",
       "      <td>W MAIN ST</td>\n",
       "      <td>CPD</td>\n",
       "      <td>2031</td>\n",
       "      <td>Abdelgayed, Adam</td>\n",
       "      <td>2025-08-07 20:31:24</td>\n",
       "      <td>2025-08-07 08:31:24 PM</td>\n",
       "      <td>Thursday</td>\n",
       "      <td>False</td>\n",
       "      <td>Summer</td>\n",
       "      <td>08:31 PM</td>\n",
       "      <td>Evening</td>\n",
       "      <td>200 W MAIN ST</td>\n",
       "      <td>38.030841</td>\n",
       "      <td>-78.482517</td>\n",
       "    </tr>\n",
       "    <tr>\n",
       "      <th>2</th>\n",
       "      <td>3</td>\n",
       "      <td>Fraud-credit card</td>\n",
       "      <td>202500027906</td>\n",
       "      <td>400</td>\n",
       "      <td>GARRETT ST, G</td>\n",
       "      <td>CPD</td>\n",
       "      <td>1847</td>\n",
       "      <td>Ritter, Kobe</td>\n",
       "      <td>2025-08-07 18:47:48</td>\n",
       "      <td>2025-08-07 06:47:48 PM</td>\n",
       "      <td>Thursday</td>\n",
       "      <td>False</td>\n",
       "      <td>Summer</td>\n",
       "      <td>06:47 PM</td>\n",
       "      <td>Evening</td>\n",
       "      <td>400 GARRETT ST, G</td>\n",
       "      <td>38.027935</td>\n",
       "      <td>-78.481659</td>\n",
       "    </tr>\n",
       "    <tr>\n",
       "      <th>3</th>\n",
       "      <td>4</td>\n",
       "      <td>Larceny - All Other</td>\n",
       "      <td>202500027879</td>\n",
       "      <td>500</td>\n",
       "      <td>E WATER ST</td>\n",
       "      <td>CPD</td>\n",
       "      <td>1459</td>\n",
       "      <td>Verdin, Alejandra</td>\n",
       "      <td>2025-08-07 14:59:46</td>\n",
       "      <td>2025-08-07 02:59:46 PM</td>\n",
       "      <td>Thursday</td>\n",
       "      <td>False</td>\n",
       "      <td>Summer</td>\n",
       "      <td>02:59 PM</td>\n",
       "      <td>Afternoon</td>\n",
       "      <td>500 E WATER ST</td>\n",
       "      <td>38.029079</td>\n",
       "      <td>-78.478880</td>\n",
       "    </tr>\n",
       "    <tr>\n",
       "      <th>4</th>\n",
       "      <td>5</td>\n",
       "      <td>Larceny - Theft from Building</td>\n",
       "      <td>202500027878</td>\n",
       "      <td>200</td>\n",
       "      <td>5TH ST SW, 102</td>\n",
       "      <td>CPD</td>\n",
       "      <td>1452</td>\n",
       "      <td>Turner, Devon</td>\n",
       "      <td>2025-08-07 14:52:52</td>\n",
       "      <td>2025-08-07 02:52:52 PM</td>\n",
       "      <td>Thursday</td>\n",
       "      <td>False</td>\n",
       "      <td>Summer</td>\n",
       "      <td>02:52 PM</td>\n",
       "      <td>Afternoon</td>\n",
       "      <td>200 5TH ST SW, 102</td>\n",
       "      <td>NaN</td>\n",
       "      <td>NaN</td>\n",
       "    </tr>\n",
       "  </tbody>\n",
       "</table>\n",
       "</div>"
      ],
      "text/plain": [
       "   RecordID                        Offense    IncidentID BlockNumber  \\\n",
       "0         1    Driving Under the Influence  202500027939               \n",
       "1         2                Warrant Service  202500027914         200   \n",
       "2         3              Fraud-credit card  202500027906         400   \n",
       "3         4            Larceny - All Other  202500027879         500   \n",
       "4         5  Larceny - Theft from Building  202500027878         200   \n",
       "\n",
       "                      StreetName Agency HourReported   ReportingOfficer  \\\n",
       "0  PRESTON AVE / OLD PRESTON AVE    CPD         2308     Burnett, James   \n",
       "1                      W MAIN ST    CPD         2031   Abdelgayed, Adam   \n",
       "2                  GARRETT ST, G    CPD         1847       Ritter, Kobe   \n",
       "3                     E WATER ST    CPD         1459  Verdin, Alejandra   \n",
       "4                 5TH ST SW, 102    CPD         1452      Turner, Devon   \n",
       "\n",
       "                 Date              DateString DayOfWeek  Weekend  Season  \\\n",
       "0 2025-08-07 23:08:47  2025-08-07 11:08:47 PM  Thursday    False  Summer   \n",
       "1 2025-08-07 20:31:24  2025-08-07 08:31:24 PM  Thursday    False  Summer   \n",
       "2 2025-08-07 18:47:48  2025-08-07 06:47:48 PM  Thursday    False  Summer   \n",
       "3 2025-08-07 14:59:46  2025-08-07 02:59:46 PM  Thursday    False  Summer   \n",
       "4 2025-08-07 14:52:52  2025-08-07 02:52:52 PM  Thursday    False  Summer   \n",
       "\n",
       "   HourAMPM  TimeOfDay                      FullStreet        lat        lon  \n",
       "0  11:08 PM      Night   PRESTON AVE / OLD PRESTON AVE        NaN        NaN  \n",
       "1  08:31 PM    Evening                   200 W MAIN ST  38.030841 -78.482517  \n",
       "2  06:47 PM    Evening               400 GARRETT ST, G  38.027935 -78.481659  \n",
       "3  02:59 PM  Afternoon                  500 E WATER ST  38.029079 -78.478880  \n",
       "4  02:52 PM  Afternoon              200 5TH ST SW, 102        NaN        NaN  "
      ]
     },
     "execution_count": 9,
     "metadata": {},
     "output_type": "execute_result"
    }
   ],
   "source": [
    "# Combine BlockNumber and StreetName into a full address string\n",
    "df['FullStreet'] = df['BlockNumber'].astype(str) + \" \" + df['StreetName']\n",
    "\n",
    "# --- Step 1: Setup the Google Maps Client and Cache ---\n",
    "gmaps = googlemaps.Client(key=GOOGLE_API_KEY)\n",
    "\n",
    "# Try to load cached geocoding results if available.\n",
    "try:\n",
    "    with open(\"geocode_cache_google.pkl\", \"rb\") as f:\n",
    "        street_coords = pickle.load(f)\n",
    "    print(\"Loaded geocode cache.\")\n",
    "except FileNotFoundError:\n",
    "    street_coords = {}\n",
    "    print(\"No cache found; starting fresh.\")\n",
    "\n",
    "def geocode_address(address):\n",
    "    try:\n",
    "        # Append city and state to help geocoding\n",
    "        result = gmaps.geocode(f\"{address}, Charlottesville, VA\")\n",
    "        if result:\n",
    "            lat = result[0]['geometry']['location']['lat']\n",
    "            lon = result[0]['geometry']['location']['lng']\n",
    "            return lat, lon\n",
    "    except Exception as e:\n",
    "        print(f\"Error geocoding {address}: {e}\")\n",
    "    return None, None\n",
    "\n",
    "# --- Step 2: Geocode Only New Addresses ---\n",
    "unique_addresses = df['FullStreet'].unique()\n",
    "for address in unique_addresses:\n",
    "    if address not in street_coords:\n",
    "        lat, lon = geocode_address(address)\n",
    "        street_coords[address] = (lat, lon)\n",
    "        print(f\"Geocoded {address}: {lat}, {lon}\")\n",
    "\n",
    "# Save the updated cache to disk.\n",
    "with open(\"geocode_cache_google.pkl\", \"wb\") as f:\n",
    "    pickle.dump(street_coords, f)\n",
    "    print(\"Geocode cache updated and saved.\")\n",
    "\n",
    "# --- Step 3: Map Coordinates Back to DataFrame ---\n",
    "df['lat'] = df['FullStreet'].map(lambda s: street_coords.get(s, (None, None))[0])\n",
    "df['lon'] = df['FullStreet'].map(lambda s: street_coords.get(s, (None, None))[1])\n",
    "\n",
    "df.head()"
   ]
  },
  {
   "cell_type": "markdown",
   "id": "c46f6462",
   "metadata": {
    "papermill": {
     "duration": 0.004455,
     "end_time": "2025-08-10T01:15:30.427811",
     "exception": false,
     "start_time": "2025-08-10T01:15:30.423356",
     "status": "completed"
    },
    "tags": []
   },
   "source": [
    "### Neighborhood"
   ]
  },
  {
   "cell_type": "code",
   "execution_count": 10,
   "id": "3b466565",
   "metadata": {
    "execution": {
     "iopub.execute_input": "2025-08-10T01:15:30.437498Z",
     "iopub.status.busy": "2025-08-10T01:15:30.437277Z",
     "iopub.status.idle": "2025-08-10T01:15:32.504844Z",
     "shell.execute_reply": "2025-08-10T01:15:32.504134Z"
    },
    "papermill": {
     "duration": 2.073644,
     "end_time": "2025-08-10T01:15:32.505884",
     "exception": false,
     "start_time": "2025-08-10T01:15:30.432240",
     "status": "completed"
    },
    "tags": []
   },
   "outputs": [
    {
     "name": "stdout",
     "output_type": "stream",
     "text": [
      "Loaded neighborhood cache.\n"
     ]
    },
    {
     "name": "stdout",
     "output_type": "stream",
     "text": [
      "Error getting neighborhood for nan, nan: HTTP Error: 400\n",
      "Error getting neighborhood for nan, nan: HTTP Error: 400\n"
     ]
    },
    {
     "name": "stdout",
     "output_type": "stream",
     "text": [
      "Error getting neighborhood for nan, nan: HTTP Error: 400\n",
      "Error getting neighborhood for nan, nan: HTTP Error: 400\n"
     ]
    },
    {
     "name": "stdout",
     "output_type": "stream",
     "text": [
      "Error getting neighborhood for nan, nan: HTTP Error: 400\n",
      "Error getting neighborhood for nan, nan: HTTP Error: 400\n",
      "Error getting neighborhood for nan, nan: HTTP Error: 400\n"
     ]
    },
    {
     "name": "stdout",
     "output_type": "stream",
     "text": [
      "Error getting neighborhood for nan, nan: HTTP Error: 400\n",
      "Error getting neighborhood for nan, nan: HTTP Error: 400\n",
      "Error getting neighborhood for nan, nan: HTTP Error: 400\n"
     ]
    },
    {
     "name": "stdout",
     "output_type": "stream",
     "text": [
      "Error getting neighborhood for nan, nan: HTTP Error: 400\n",
      "Error getting neighborhood for nan, nan: HTTP Error: 400\n"
     ]
    },
    {
     "name": "stdout",
     "output_type": "stream",
     "text": [
      "Error getting neighborhood for nan, nan: HTTP Error: 400\n",
      "Error getting neighborhood for nan, nan: HTTP Error: 400\n",
      "Error getting neighborhood for nan, nan: HTTP Error: 400\n",
      "Error getting neighborhood for nan, nan: HTTP Error: 400\n"
     ]
    },
    {
     "name": "stdout",
     "output_type": "stream",
     "text": [
      "Error getting neighborhood for nan, nan: HTTP Error: 400\n",
      "Error getting neighborhood for nan, nan: HTTP Error: 400\n",
      "Error getting neighborhood for nan, nan: HTTP Error: 400\n",
      "Error getting neighborhood for nan, nan: HTTP Error: 400\n"
     ]
    },
    {
     "name": "stdout",
     "output_type": "stream",
     "text": [
      "Error getting neighborhood for nan, nan: HTTP Error: 400\n",
      "Error getting neighborhood for nan, nan: HTTP Error: 400\n",
      "Error getting neighborhood for nan, nan: HTTP Error: 400\n"
     ]
    },
    {
     "name": "stdout",
     "output_type": "stream",
     "text": [
      "Error getting neighborhood for nan, nan: HTTP Error: 400\n",
      "Error getting neighborhood for nan, nan: HTTP Error: 400\n",
      "Error getting neighborhood for nan, nan: HTTP Error: 400\n",
      "Error getting neighborhood for nan, nan: HTTP Error: 400\n"
     ]
    },
    {
     "name": "stdout",
     "output_type": "stream",
     "text": [
      "Error getting neighborhood for nan, nan: HTTP Error: 400\n",
      "Error getting neighborhood for nan, nan: HTTP Error: 400\n",
      "Error getting neighborhood for nan, nan: HTTP Error: 400\n",
      "Error getting neighborhood for nan, nan: HTTP Error: 400\n"
     ]
    },
    {
     "name": "stdout",
     "output_type": "stream",
     "text": [
      "Error getting neighborhood for nan, nan: HTTP Error: 400\n",
      "Error getting neighborhood for nan, nan: HTTP Error: 400\n",
      "Error getting neighborhood for nan, nan: HTTP Error: 400\n"
     ]
    },
    {
     "name": "stdout",
     "output_type": "stream",
     "text": [
      "Error getting neighborhood for nan, nan: HTTP Error: 400\n",
      "Error getting neighborhood for nan, nan: HTTP Error: 400\n",
      "Error getting neighborhood for nan, nan: HTTP Error: 400\n",
      "Error getting neighborhood for nan, nan: HTTP Error: 400\n",
      "Error getting neighborhood for nan, nan: HTTP Error: 400\n"
     ]
    },
    {
     "name": "stdout",
     "output_type": "stream",
     "text": [
      "Error getting neighborhood for nan, nan: HTTP Error: 400\n",
      "Error getting neighborhood for nan, nan: HTTP Error: 400\n",
      "Error getting neighborhood for nan, nan: HTTP Error: 400\n",
      "Error getting neighborhood for nan, nan: HTTP Error: 400\n"
     ]
    },
    {
     "name": "stdout",
     "output_type": "stream",
     "text": [
      "Error getting neighborhood for nan, nan: HTTP Error: 400\n",
      "Error getting neighborhood for nan, nan: HTTP Error: 400\n",
      "Error getting neighborhood for nan, nan: HTTP Error: 400\n"
     ]
    },
    {
     "name": "stdout",
     "output_type": "stream",
     "text": [
      "Error getting neighborhood for nan, nan: HTTP Error: 400\n",
      "Error getting neighborhood for nan, nan: HTTP Error: 400\n",
      "Error getting neighborhood for nan, nan: HTTP Error: 400\n",
      "Error getting neighborhood for nan, nan: HTTP Error: 400\n",
      "Error getting neighborhood for nan, nan: HTTP Error: 400\n"
     ]
    },
    {
     "name": "stdout",
     "output_type": "stream",
     "text": [
      "Error getting neighborhood for nan, nan: HTTP Error: 400\n",
      "Error getting neighborhood for nan, nan: HTTP Error: 400\n",
      "Error getting neighborhood for nan, nan: HTTP Error: 400\n",
      "Error getting neighborhood for nan, nan: HTTP Error: 400\n"
     ]
    },
    {
     "name": "stdout",
     "output_type": "stream",
     "text": [
      "Error getting neighborhood for nan, nan: HTTP Error: 400\n",
      "Error getting neighborhood for nan, nan: HTTP Error: 400\n",
      "Error getting neighborhood for nan, nan: HTTP Error: 400\n"
     ]
    },
    {
     "name": "stdout",
     "output_type": "stream",
     "text": [
      "Error getting neighborhood for nan, nan: HTTP Error: 400\n",
      "Error getting neighborhood for nan, nan: HTTP Error: 400\n",
      "Error getting neighborhood for nan, nan: HTTP Error: 400\n",
      "Error getting neighborhood for nan, nan: HTTP Error: 400\n",
      "Error getting neighborhood for nan, nan: HTTP Error: 400\n"
     ]
    },
    {
     "name": "stdout",
     "output_type": "stream",
     "text": [
      "Error getting neighborhood for nan, nan: HTTP Error: 400\n",
      "Error getting neighborhood for nan, nan: HTTP Error: 400\n",
      "Error getting neighborhood for nan, nan: HTTP Error: 400\n",
      "Error getting neighborhood for nan, nan: HTTP Error: 400\n"
     ]
    },
    {
     "name": "stdout",
     "output_type": "stream",
     "text": [
      "Error getting neighborhood for nan, nan: HTTP Error: 400\n",
      "Error getting neighborhood for nan, nan: HTTP Error: 400\n",
      "Error getting neighborhood for nan, nan: HTTP Error: 400\n"
     ]
    },
    {
     "name": "stdout",
     "output_type": "stream",
     "text": [
      "Error getting neighborhood for nan, nan: HTTP Error: 400\n",
      "Error getting neighborhood for nan, nan: HTTP Error: 400\n",
      "Error getting neighborhood for nan, nan: HTTP Error: 400\n",
      "Error getting neighborhood for nan, nan: HTTP Error: 400\n",
      "Error getting neighborhood for nan, nan: HTTP Error: 400\n"
     ]
    },
    {
     "name": "stdout",
     "output_type": "stream",
     "text": [
      "Error getting neighborhood for nan, nan: HTTP Error: 400\n",
      "Error getting neighborhood for nan, nan: HTTP Error: 400\n",
      "Error getting neighborhood for nan, nan: HTTP Error: 400\n",
      "Error getting neighborhood for nan, nan: HTTP Error: 400\n"
     ]
    },
    {
     "name": "stdout",
     "output_type": "stream",
     "text": [
      "Error getting neighborhood for nan, nan: HTTP Error: 400\n",
      "Error getting neighborhood for nan, nan: HTTP Error: 400\n",
      "Error getting neighborhood for nan, nan: HTTP Error: 400\n"
     ]
    },
    {
     "name": "stdout",
     "output_type": "stream",
     "text": [
      "Error getting neighborhood for nan, nan: HTTP Error: 400\n",
      "Error getting neighborhood for nan, nan: HTTP Error: 400\n",
      "Error getting neighborhood for nan, nan: HTTP Error: 400\n",
      "Error getting neighborhood for nan, nan: HTTP Error: 400\n",
      "Error getting neighborhood for nan, nan: HTTP Error: 400\n"
     ]
    },
    {
     "name": "stdout",
     "output_type": "stream",
     "text": [
      "Error getting neighborhood for nan, nan: HTTP Error: 400\n",
      "Error getting neighborhood for nan, nan: HTTP Error: 400\n",
      "Error getting neighborhood for nan, nan: HTTP Error: 400\n",
      "Error getting neighborhood for nan, nan: HTTP Error: 400\n"
     ]
    },
    {
     "name": "stdout",
     "output_type": "stream",
     "text": [
      "Error getting neighborhood for nan, nan: HTTP Error: 400\n",
      "Error getting neighborhood for nan, nan: HTTP Error: 400\n"
     ]
    },
    {
     "data": {
      "text/html": [
       "<div>\n",
       "<style scoped>\n",
       "    .dataframe tbody tr th:only-of-type {\n",
       "        vertical-align: middle;\n",
       "    }\n",
       "\n",
       "    .dataframe tbody tr th {\n",
       "        vertical-align: top;\n",
       "    }\n",
       "\n",
       "    .dataframe thead th {\n",
       "        text-align: right;\n",
       "    }\n",
       "</style>\n",
       "<table border=\"1\" class=\"dataframe\">\n",
       "  <thead>\n",
       "    <tr style=\"text-align: right;\">\n",
       "      <th></th>\n",
       "      <th>RecordID</th>\n",
       "      <th>Offense</th>\n",
       "      <th>IncidentID</th>\n",
       "      <th>BlockNumber</th>\n",
       "      <th>StreetName</th>\n",
       "      <th>Agency</th>\n",
       "      <th>HourReported</th>\n",
       "      <th>ReportingOfficer</th>\n",
       "      <th>Date</th>\n",
       "      <th>DateString</th>\n",
       "      <th>DayOfWeek</th>\n",
       "      <th>Weekend</th>\n",
       "      <th>Season</th>\n",
       "      <th>HourAMPM</th>\n",
       "      <th>TimeOfDay</th>\n",
       "      <th>FullStreet</th>\n",
       "      <th>lat</th>\n",
       "      <th>lon</th>\n",
       "      <th>neighborhood</th>\n",
       "    </tr>\n",
       "  </thead>\n",
       "  <tbody>\n",
       "    <tr>\n",
       "      <th>0</th>\n",
       "      <td>1</td>\n",
       "      <td>Driving Under the Influence</td>\n",
       "      <td>202500027939</td>\n",
       "      <td></td>\n",
       "      <td>PRESTON AVE / OLD PRESTON AVE</td>\n",
       "      <td>CPD</td>\n",
       "      <td>2308</td>\n",
       "      <td>Burnett, James</td>\n",
       "      <td>2025-08-07 23:08:47</td>\n",
       "      <td>2025-08-07 11:08:47 PM</td>\n",
       "      <td>Thursday</td>\n",
       "      <td>False</td>\n",
       "      <td>Summer</td>\n",
       "      <td>11:08 PM</td>\n",
       "      <td>Night</td>\n",
       "      <td>PRESTON AVE / OLD PRESTON AVE</td>\n",
       "      <td>NaN</td>\n",
       "      <td>NaN</td>\n",
       "      <td>N/A</td>\n",
       "    </tr>\n",
       "    <tr>\n",
       "      <th>1</th>\n",
       "      <td>2</td>\n",
       "      <td>Warrant Service</td>\n",
       "      <td>202500027914</td>\n",
       "      <td>200</td>\n",
       "      <td>W MAIN ST</td>\n",
       "      <td>CPD</td>\n",
       "      <td>2031</td>\n",
       "      <td>Abdelgayed, Adam</td>\n",
       "      <td>2025-08-07 20:31:24</td>\n",
       "      <td>2025-08-07 08:31:24 PM</td>\n",
       "      <td>Thursday</td>\n",
       "      <td>False</td>\n",
       "      <td>Summer</td>\n",
       "      <td>08:31 PM</td>\n",
       "      <td>Evening</td>\n",
       "      <td>200 W MAIN ST</td>\n",
       "      <td>38.030841</td>\n",
       "      <td>-78.482517</td>\n",
       "      <td>Downtown Mall</td>\n",
       "    </tr>\n",
       "    <tr>\n",
       "      <th>2</th>\n",
       "      <td>3</td>\n",
       "      <td>Fraud-credit card</td>\n",
       "      <td>202500027906</td>\n",
       "      <td>400</td>\n",
       "      <td>GARRETT ST, G</td>\n",
       "      <td>CPD</td>\n",
       "      <td>1847</td>\n",
       "      <td>Ritter, Kobe</td>\n",
       "      <td>2025-08-07 18:47:48</td>\n",
       "      <td>2025-08-07 06:47:48 PM</td>\n",
       "      <td>Thursday</td>\n",
       "      <td>False</td>\n",
       "      <td>Summer</td>\n",
       "      <td>06:47 PM</td>\n",
       "      <td>Evening</td>\n",
       "      <td>400 GARRETT ST, G</td>\n",
       "      <td>38.027935</td>\n",
       "      <td>-78.481659</td>\n",
       "      <td>North Downtown</td>\n",
       "    </tr>\n",
       "    <tr>\n",
       "      <th>3</th>\n",
       "      <td>4</td>\n",
       "      <td>Larceny - All Other</td>\n",
       "      <td>202500027879</td>\n",
       "      <td>500</td>\n",
       "      <td>E WATER ST</td>\n",
       "      <td>CPD</td>\n",
       "      <td>1459</td>\n",
       "      <td>Verdin, Alejandra</td>\n",
       "      <td>2025-08-07 14:59:46</td>\n",
       "      <td>2025-08-07 02:59:46 PM</td>\n",
       "      <td>Thursday</td>\n",
       "      <td>False</td>\n",
       "      <td>Summer</td>\n",
       "      <td>02:59 PM</td>\n",
       "      <td>Afternoon</td>\n",
       "      <td>500 E WATER ST</td>\n",
       "      <td>38.029079</td>\n",
       "      <td>-78.478880</td>\n",
       "      <td>North Downtown</td>\n",
       "    </tr>\n",
       "    <tr>\n",
       "      <th>4</th>\n",
       "      <td>5</td>\n",
       "      <td>Larceny - Theft from Building</td>\n",
       "      <td>202500027878</td>\n",
       "      <td>200</td>\n",
       "      <td>5TH ST SW, 102</td>\n",
       "      <td>CPD</td>\n",
       "      <td>1452</td>\n",
       "      <td>Turner, Devon</td>\n",
       "      <td>2025-08-07 14:52:52</td>\n",
       "      <td>2025-08-07 02:52:52 PM</td>\n",
       "      <td>Thursday</td>\n",
       "      <td>False</td>\n",
       "      <td>Summer</td>\n",
       "      <td>02:52 PM</td>\n",
       "      <td>Afternoon</td>\n",
       "      <td>200 5TH ST SW, 102</td>\n",
       "      <td>NaN</td>\n",
       "      <td>NaN</td>\n",
       "      <td>N/A</td>\n",
       "    </tr>\n",
       "  </tbody>\n",
       "</table>\n",
       "</div>"
      ],
      "text/plain": [
       "   RecordID                        Offense    IncidentID BlockNumber  \\\n",
       "0         1    Driving Under the Influence  202500027939               \n",
       "1         2                Warrant Service  202500027914         200   \n",
       "2         3              Fraud-credit card  202500027906         400   \n",
       "3         4            Larceny - All Other  202500027879         500   \n",
       "4         5  Larceny - Theft from Building  202500027878         200   \n",
       "\n",
       "                      StreetName Agency HourReported   ReportingOfficer  \\\n",
       "0  PRESTON AVE / OLD PRESTON AVE    CPD         2308     Burnett, James   \n",
       "1                      W MAIN ST    CPD         2031   Abdelgayed, Adam   \n",
       "2                  GARRETT ST, G    CPD         1847       Ritter, Kobe   \n",
       "3                     E WATER ST    CPD         1459  Verdin, Alejandra   \n",
       "4                 5TH ST SW, 102    CPD         1452      Turner, Devon   \n",
       "\n",
       "                 Date              DateString DayOfWeek  Weekend  Season  \\\n",
       "0 2025-08-07 23:08:47  2025-08-07 11:08:47 PM  Thursday    False  Summer   \n",
       "1 2025-08-07 20:31:24  2025-08-07 08:31:24 PM  Thursday    False  Summer   \n",
       "2 2025-08-07 18:47:48  2025-08-07 06:47:48 PM  Thursday    False  Summer   \n",
       "3 2025-08-07 14:59:46  2025-08-07 02:59:46 PM  Thursday    False  Summer   \n",
       "4 2025-08-07 14:52:52  2025-08-07 02:52:52 PM  Thursday    False  Summer   \n",
       "\n",
       "   HourAMPM  TimeOfDay                      FullStreet        lat        lon  \\\n",
       "0  11:08 PM      Night   PRESTON AVE / OLD PRESTON AVE        NaN        NaN   \n",
       "1  08:31 PM    Evening                   200 W MAIN ST  38.030841 -78.482517   \n",
       "2  06:47 PM    Evening               400 GARRETT ST, G  38.027935 -78.481659   \n",
       "3  02:59 PM  Afternoon                  500 E WATER ST  38.029079 -78.478880   \n",
       "4  02:52 PM  Afternoon              200 5TH ST SW, 102        NaN        NaN   \n",
       "\n",
       "     neighborhood  \n",
       "0             N/A  \n",
       "1   Downtown Mall  \n",
       "2  North Downtown  \n",
       "3  North Downtown  \n",
       "4             N/A  "
      ]
     },
     "execution_count": 10,
     "metadata": {},
     "output_type": "execute_result"
    }
   ],
   "source": [
    "# Initialize the Google Maps client.\n",
    "gmaps = googlemaps.Client(key=GOOGLE_API_KEY)\n",
    "\n",
    "# Try to load a persistent neighborhood cache if available.\n",
    "try:\n",
    "    with open(\"neighborhood_cache.pkl\", \"rb\") as f:\n",
    "        neighborhood_cache = pickle.load(f)\n",
    "    print(\"Loaded neighborhood cache.\")\n",
    "except FileNotFoundError:\n",
    "    neighborhood_cache = {}\n",
    "    print(\"No neighborhood cache found; starting fresh.\")\n",
    "\n",
    "def get_neighborhood(lat, lon):\n",
    "    \"\"\"\n",
    "    Reverse geocodes a latitude and longitude to retrieve the neighborhood.\n",
    "    Caches results to speed up subsequent lookups.\n",
    "    \"\"\"\n",
    "    key = (lat, lon)\n",
    "    if key in neighborhood_cache:\n",
    "        return neighborhood_cache[key]\n",
    "    \n",
    "    try:\n",
    "        result = gmaps.reverse_geocode((lat, lon))\n",
    "        if result:\n",
    "            # Look for the 'neighborhood' component in the first result.\n",
    "            for component in result[0]['address_components']:\n",
    "                if 'neighborhood' in component['types']:\n",
    "                    neighborhood = component['long_name']\n",
    "                    neighborhood_cache[key] = neighborhood\n",
    "                    return neighborhood\n",
    "            # If no neighborhood is found, return \"N/A\"\n",
    "            neighborhood_cache[key] = \"N/A\"\n",
    "            return \"N/A\"\n",
    "    except Exception as e:\n",
    "        print(f\"Error getting neighborhood for {lat}, {lon}: {e}\")\n",
    "        return \"N/A\"\n",
    "    \n",
    "    # Pause to respect usage limits.\n",
    "    time.sleep(1)\n",
    "\n",
    "# Example usage: Apply to your DataFrame 'df' that already has 'lat' and 'lon' columns.\n",
    "df['neighborhood'] = df.apply(lambda row: get_neighborhood(row['lat'], row['lon']), axis=1)\n",
    "\n",
    "# Save the updated neighborhood cache.\n",
    "with open(\"neighborhood_cache.pkl\", \"wb\") as f:\n",
    "    pickle.dump(neighborhood_cache, f)\n",
    "\n",
    "df.head()\n"
   ]
  },
  {
   "cell_type": "markdown",
   "id": "517a0a86",
   "metadata": {
    "papermill": {
     "duration": 0.005835,
     "end_time": "2025-08-10T01:15:32.518117",
     "exception": false,
     "start_time": "2025-08-10T01:15:32.512282",
     "status": "completed"
    },
    "tags": []
   },
   "source": [
    "### Zip"
   ]
  },
  {
   "cell_type": "code",
   "execution_count": 11,
   "id": "c2314fe3",
   "metadata": {
    "execution": {
     "iopub.execute_input": "2025-08-10T01:15:32.530619Z",
     "iopub.status.busy": "2025-08-10T01:15:32.530436Z",
     "iopub.status.idle": "2025-08-10T01:17:06.055328Z",
     "shell.execute_reply": "2025-08-10T01:17:06.054639Z"
    },
    "papermill": {
     "duration": 93.532423,
     "end_time": "2025-08-10T01:17:06.056365",
     "exception": false,
     "start_time": "2025-08-10T01:15:32.523942",
     "status": "completed"
    },
    "tags": []
   },
   "outputs": [
    {
     "name": "stdout",
     "output_type": "stream",
     "text": [
      "Loaded zip cache.\n",
      "Error getting ZIP for nan, nan: Must be a coordinate pair or Point\n"
     ]
    },
    {
     "name": "stdout",
     "output_type": "stream",
     "text": [
      "Error getting ZIP for nan, nan: Must be a coordinate pair or Point\n"
     ]
    },
    {
     "name": "stdout",
     "output_type": "stream",
     "text": [
      "Error getting ZIP for nan, nan: Must be a coordinate pair or Point\n"
     ]
    },
    {
     "name": "stdout",
     "output_type": "stream",
     "text": [
      "Error getting ZIP for nan, nan: Must be a coordinate pair or Point\n"
     ]
    },
    {
     "name": "stdout",
     "output_type": "stream",
     "text": [
      "Error getting ZIP for nan, nan: Must be a coordinate pair or Point\n"
     ]
    },
    {
     "name": "stdout",
     "output_type": "stream",
     "text": [
      "Error getting ZIP for nan, nan: Must be a coordinate pair or Point\n"
     ]
    },
    {
     "name": "stdout",
     "output_type": "stream",
     "text": [
      "Error getting ZIP for nan, nan: Must be a coordinate pair or Point\n"
     ]
    },
    {
     "name": "stdout",
     "output_type": "stream",
     "text": [
      "Error getting ZIP for nan, nan: Must be a coordinate pair or Point\n"
     ]
    },
    {
     "name": "stdout",
     "output_type": "stream",
     "text": [
      "Error getting ZIP for nan, nan: Must be a coordinate pair or Point\n"
     ]
    },
    {
     "name": "stdout",
     "output_type": "stream",
     "text": [
      "Error getting ZIP for nan, nan: Must be a coordinate pair or Point\n"
     ]
    },
    {
     "name": "stdout",
     "output_type": "stream",
     "text": [
      "Error getting ZIP for nan, nan: Must be a coordinate pair or Point\n"
     ]
    },
    {
     "name": "stdout",
     "output_type": "stream",
     "text": [
      "Error getting ZIP for nan, nan: Must be a coordinate pair or Point\n"
     ]
    },
    {
     "name": "stdout",
     "output_type": "stream",
     "text": [
      "Error getting ZIP for nan, nan: Must be a coordinate pair or Point\n"
     ]
    },
    {
     "name": "stdout",
     "output_type": "stream",
     "text": [
      "Error getting ZIP for nan, nan: Must be a coordinate pair or Point\n"
     ]
    },
    {
     "name": "stdout",
     "output_type": "stream",
     "text": [
      "Error getting ZIP for nan, nan: Must be a coordinate pair or Point\n"
     ]
    },
    {
     "name": "stdout",
     "output_type": "stream",
     "text": [
      "Error getting ZIP for nan, nan: Must be a coordinate pair or Point\n"
     ]
    },
    {
     "name": "stdout",
     "output_type": "stream",
     "text": [
      "Error getting ZIP for nan, nan: Must be a coordinate pair or Point\n"
     ]
    },
    {
     "name": "stdout",
     "output_type": "stream",
     "text": [
      "Error getting ZIP for nan, nan: Must be a coordinate pair or Point\n"
     ]
    },
    {
     "name": "stdout",
     "output_type": "stream",
     "text": [
      "Error getting ZIP for nan, nan: Must be a coordinate pair or Point\n"
     ]
    },
    {
     "name": "stdout",
     "output_type": "stream",
     "text": [
      "Error getting ZIP for nan, nan: Must be a coordinate pair or Point\n"
     ]
    },
    {
     "name": "stdout",
     "output_type": "stream",
     "text": [
      "Error getting ZIP for nan, nan: Must be a coordinate pair or Point\n"
     ]
    },
    {
     "name": "stdout",
     "output_type": "stream",
     "text": [
      "Error getting ZIP for nan, nan: Must be a coordinate pair or Point\n"
     ]
    },
    {
     "name": "stdout",
     "output_type": "stream",
     "text": [
      "Error getting ZIP for nan, nan: Must be a coordinate pair or Point\n"
     ]
    },
    {
     "name": "stdout",
     "output_type": "stream",
     "text": [
      "Error getting ZIP for nan, nan: Must be a coordinate pair or Point\n"
     ]
    },
    {
     "name": "stdout",
     "output_type": "stream",
     "text": [
      "Error getting ZIP for nan, nan: Must be a coordinate pair or Point\n"
     ]
    },
    {
     "name": "stdout",
     "output_type": "stream",
     "text": [
      "Error getting ZIP for nan, nan: Must be a coordinate pair or Point\n"
     ]
    },
    {
     "name": "stdout",
     "output_type": "stream",
     "text": [
      "Error getting ZIP for nan, nan: Must be a coordinate pair or Point\n"
     ]
    },
    {
     "name": "stdout",
     "output_type": "stream",
     "text": [
      "Error getting ZIP for nan, nan: Must be a coordinate pair or Point\n"
     ]
    },
    {
     "name": "stdout",
     "output_type": "stream",
     "text": [
      "Error getting ZIP for nan, nan: Must be a coordinate pair or Point\n"
     ]
    },
    {
     "name": "stdout",
     "output_type": "stream",
     "text": [
      "Error getting ZIP for nan, nan: Must be a coordinate pair or Point\n"
     ]
    },
    {
     "name": "stdout",
     "output_type": "stream",
     "text": [
      "Error getting ZIP for nan, nan: Must be a coordinate pair or Point\n"
     ]
    },
    {
     "name": "stdout",
     "output_type": "stream",
     "text": [
      "Error getting ZIP for nan, nan: Must be a coordinate pair or Point\n"
     ]
    },
    {
     "name": "stdout",
     "output_type": "stream",
     "text": [
      "Error getting ZIP for nan, nan: Must be a coordinate pair or Point\n"
     ]
    },
    {
     "name": "stdout",
     "output_type": "stream",
     "text": [
      "Error getting ZIP for nan, nan: Must be a coordinate pair or Point\n"
     ]
    },
    {
     "name": "stdout",
     "output_type": "stream",
     "text": [
      "Error getting ZIP for nan, nan: Must be a coordinate pair or Point\n"
     ]
    },
    {
     "name": "stdout",
     "output_type": "stream",
     "text": [
      "Error getting ZIP for nan, nan: Must be a coordinate pair or Point\n"
     ]
    },
    {
     "name": "stdout",
     "output_type": "stream",
     "text": [
      "Error getting ZIP for nan, nan: Must be a coordinate pair or Point\n"
     ]
    },
    {
     "name": "stdout",
     "output_type": "stream",
     "text": [
      "Error getting ZIP for nan, nan: Must be a coordinate pair or Point\n"
     ]
    },
    {
     "name": "stdout",
     "output_type": "stream",
     "text": [
      "Error getting ZIP for nan, nan: Must be a coordinate pair or Point\n"
     ]
    },
    {
     "name": "stdout",
     "output_type": "stream",
     "text": [
      "Error getting ZIP for nan, nan: Must be a coordinate pair or Point\n"
     ]
    },
    {
     "name": "stdout",
     "output_type": "stream",
     "text": [
      "Error getting ZIP for nan, nan: Must be a coordinate pair or Point\n"
     ]
    },
    {
     "name": "stdout",
     "output_type": "stream",
     "text": [
      "Error getting ZIP for nan, nan: Must be a coordinate pair or Point\n"
     ]
    },
    {
     "name": "stdout",
     "output_type": "stream",
     "text": [
      "Error getting ZIP for nan, nan: Must be a coordinate pair or Point\n"
     ]
    },
    {
     "name": "stdout",
     "output_type": "stream",
     "text": [
      "Error getting ZIP for nan, nan: Must be a coordinate pair or Point\n"
     ]
    },
    {
     "name": "stdout",
     "output_type": "stream",
     "text": [
      "Error getting ZIP for nan, nan: Must be a coordinate pair or Point\n"
     ]
    },
    {
     "name": "stdout",
     "output_type": "stream",
     "text": [
      "Error getting ZIP for nan, nan: Must be a coordinate pair or Point\n"
     ]
    },
    {
     "name": "stdout",
     "output_type": "stream",
     "text": [
      "Error getting ZIP for nan, nan: Must be a coordinate pair or Point\n"
     ]
    },
    {
     "name": "stdout",
     "output_type": "stream",
     "text": [
      "Error getting ZIP for nan, nan: Must be a coordinate pair or Point\n"
     ]
    },
    {
     "name": "stdout",
     "output_type": "stream",
     "text": [
      "Error getting ZIP for nan, nan: Must be a coordinate pair or Point\n"
     ]
    },
    {
     "name": "stdout",
     "output_type": "stream",
     "text": [
      "Error getting ZIP for nan, nan: Must be a coordinate pair or Point\n"
     ]
    },
    {
     "name": "stdout",
     "output_type": "stream",
     "text": [
      "Error getting ZIP for nan, nan: Must be a coordinate pair or Point\n"
     ]
    },
    {
     "name": "stdout",
     "output_type": "stream",
     "text": [
      "Error getting ZIP for nan, nan: Must be a coordinate pair or Point\n"
     ]
    },
    {
     "name": "stdout",
     "output_type": "stream",
     "text": [
      "Error getting ZIP for nan, nan: Must be a coordinate pair or Point\n"
     ]
    },
    {
     "name": "stdout",
     "output_type": "stream",
     "text": [
      "Error getting ZIP for nan, nan: Must be a coordinate pair or Point\n"
     ]
    },
    {
     "name": "stdout",
     "output_type": "stream",
     "text": [
      "Error getting ZIP for nan, nan: Must be a coordinate pair or Point\n"
     ]
    },
    {
     "name": "stdout",
     "output_type": "stream",
     "text": [
      "Error getting ZIP for nan, nan: Must be a coordinate pair or Point\n"
     ]
    },
    {
     "name": "stdout",
     "output_type": "stream",
     "text": [
      "Error getting ZIP for nan, nan: Must be a coordinate pair or Point\n"
     ]
    },
    {
     "name": "stdout",
     "output_type": "stream",
     "text": [
      "Error getting ZIP for nan, nan: Must be a coordinate pair or Point\n"
     ]
    },
    {
     "name": "stdout",
     "output_type": "stream",
     "text": [
      "Error getting ZIP for nan, nan: Must be a coordinate pair or Point\n"
     ]
    },
    {
     "name": "stdout",
     "output_type": "stream",
     "text": [
      "Error getting ZIP for nan, nan: Must be a coordinate pair or Point\n"
     ]
    },
    {
     "name": "stdout",
     "output_type": "stream",
     "text": [
      "Error getting ZIP for nan, nan: Must be a coordinate pair or Point\n"
     ]
    },
    {
     "name": "stdout",
     "output_type": "stream",
     "text": [
      "Error getting ZIP for nan, nan: Must be a coordinate pair or Point\n"
     ]
    },
    {
     "name": "stdout",
     "output_type": "stream",
     "text": [
      "Error getting ZIP for nan, nan: Must be a coordinate pair or Point\n"
     ]
    },
    {
     "name": "stdout",
     "output_type": "stream",
     "text": [
      "Error getting ZIP for nan, nan: Must be a coordinate pair or Point\n"
     ]
    },
    {
     "name": "stdout",
     "output_type": "stream",
     "text": [
      "Error getting ZIP for nan, nan: Must be a coordinate pair or Point\n"
     ]
    },
    {
     "name": "stdout",
     "output_type": "stream",
     "text": [
      "Error getting ZIP for nan, nan: Must be a coordinate pair or Point\n"
     ]
    },
    {
     "name": "stdout",
     "output_type": "stream",
     "text": [
      "Error getting ZIP for nan, nan: Must be a coordinate pair or Point\n"
     ]
    },
    {
     "name": "stdout",
     "output_type": "stream",
     "text": [
      "Error getting ZIP for nan, nan: Must be a coordinate pair or Point\n"
     ]
    },
    {
     "name": "stdout",
     "output_type": "stream",
     "text": [
      "Error getting ZIP for nan, nan: Must be a coordinate pair or Point\n"
     ]
    },
    {
     "name": "stdout",
     "output_type": "stream",
     "text": [
      "Error getting ZIP for nan, nan: Must be a coordinate pair or Point\n"
     ]
    },
    {
     "name": "stdout",
     "output_type": "stream",
     "text": [
      "Error getting ZIP for nan, nan: Must be a coordinate pair or Point\n"
     ]
    },
    {
     "name": "stdout",
     "output_type": "stream",
     "text": [
      "Error getting ZIP for nan, nan: Must be a coordinate pair or Point\n"
     ]
    },
    {
     "name": "stdout",
     "output_type": "stream",
     "text": [
      "Error getting ZIP for nan, nan: Must be a coordinate pair or Point\n"
     ]
    },
    {
     "name": "stdout",
     "output_type": "stream",
     "text": [
      "Error getting ZIP for nan, nan: Must be a coordinate pair or Point\n"
     ]
    },
    {
     "name": "stdout",
     "output_type": "stream",
     "text": [
      "Error getting ZIP for nan, nan: Must be a coordinate pair or Point\n"
     ]
    },
    {
     "name": "stdout",
     "output_type": "stream",
     "text": [
      "Error getting ZIP for nan, nan: Must be a coordinate pair or Point\n"
     ]
    },
    {
     "name": "stdout",
     "output_type": "stream",
     "text": [
      "Error getting ZIP for nan, nan: Must be a coordinate pair or Point\n"
     ]
    },
    {
     "name": "stdout",
     "output_type": "stream",
     "text": [
      "Error getting ZIP for nan, nan: Must be a coordinate pair or Point\n"
     ]
    },
    {
     "name": "stdout",
     "output_type": "stream",
     "text": [
      "Error getting ZIP for nan, nan: Must be a coordinate pair or Point\n"
     ]
    },
    {
     "name": "stdout",
     "output_type": "stream",
     "text": [
      "Error getting ZIP for nan, nan: Must be a coordinate pair or Point\n"
     ]
    },
    {
     "name": "stdout",
     "output_type": "stream",
     "text": [
      "Error getting ZIP for nan, nan: Must be a coordinate pair or Point\n"
     ]
    },
    {
     "name": "stdout",
     "output_type": "stream",
     "text": [
      "Error getting ZIP for nan, nan: Must be a coordinate pair or Point\n"
     ]
    },
    {
     "name": "stdout",
     "output_type": "stream",
     "text": [
      "Error getting ZIP for nan, nan: Must be a coordinate pair or Point\n"
     ]
    },
    {
     "name": "stdout",
     "output_type": "stream",
     "text": [
      "Error getting ZIP for nan, nan: Must be a coordinate pair or Point\n"
     ]
    },
    {
     "name": "stdout",
     "output_type": "stream",
     "text": [
      "Error getting ZIP for nan, nan: Must be a coordinate pair or Point\n"
     ]
    },
    {
     "name": "stdout",
     "output_type": "stream",
     "text": [
      "Error getting ZIP for nan, nan: Must be a coordinate pair or Point\n"
     ]
    },
    {
     "name": "stdout",
     "output_type": "stream",
     "text": [
      "Error getting ZIP for nan, nan: Must be a coordinate pair or Point\n"
     ]
    },
    {
     "name": "stdout",
     "output_type": "stream",
     "text": [
      "Error getting ZIP for nan, nan: Must be a coordinate pair or Point\n"
     ]
    },
    {
     "name": "stdout",
     "output_type": "stream",
     "text": [
      "Error getting ZIP for nan, nan: Must be a coordinate pair or Point\n"
     ]
    },
    {
     "name": "stdout",
     "output_type": "stream",
     "text": [
      "Error getting ZIP for nan, nan: Must be a coordinate pair or Point\n"
     ]
    },
    {
     "name": "stdout",
     "output_type": "stream",
     "text": [
      "Error getting ZIP for nan, nan: Must be a coordinate pair or Point\n"
     ]
    },
    {
     "name": "stdout",
     "output_type": "stream",
     "text": [
      "Error getting ZIP for nan, nan: Must be a coordinate pair or Point\n"
     ]
    },
    {
     "name": "stdout",
     "output_type": "stream",
     "text": [
      "Error getting ZIP for nan, nan: Must be a coordinate pair or Point\n"
     ]
    },
    {
     "data": {
      "text/html": [
       "<div>\n",
       "<style scoped>\n",
       "    .dataframe tbody tr th:only-of-type {\n",
       "        vertical-align: middle;\n",
       "    }\n",
       "\n",
       "    .dataframe tbody tr th {\n",
       "        vertical-align: top;\n",
       "    }\n",
       "\n",
       "    .dataframe thead th {\n",
       "        text-align: right;\n",
       "    }\n",
       "</style>\n",
       "<table border=\"1\" class=\"dataframe\">\n",
       "  <thead>\n",
       "    <tr style=\"text-align: right;\">\n",
       "      <th></th>\n",
       "      <th>RecordID</th>\n",
       "      <th>Offense</th>\n",
       "      <th>IncidentID</th>\n",
       "      <th>BlockNumber</th>\n",
       "      <th>StreetName</th>\n",
       "      <th>Agency</th>\n",
       "      <th>HourReported</th>\n",
       "      <th>ReportingOfficer</th>\n",
       "      <th>Date</th>\n",
       "      <th>DateString</th>\n",
       "      <th>DayOfWeek</th>\n",
       "      <th>Weekend</th>\n",
       "      <th>Season</th>\n",
       "      <th>HourAMPM</th>\n",
       "      <th>TimeOfDay</th>\n",
       "      <th>FullStreet</th>\n",
       "      <th>lat</th>\n",
       "      <th>lon</th>\n",
       "      <th>neighborhood</th>\n",
       "      <th>zip</th>\n",
       "    </tr>\n",
       "  </thead>\n",
       "  <tbody>\n",
       "    <tr>\n",
       "      <th>0</th>\n",
       "      <td>1</td>\n",
       "      <td>Driving Under the Influence</td>\n",
       "      <td>202500027939</td>\n",
       "      <td></td>\n",
       "      <td>PRESTON AVE / OLD PRESTON AVE</td>\n",
       "      <td>CPD</td>\n",
       "      <td>2308</td>\n",
       "      <td>Burnett, James</td>\n",
       "      <td>2025-08-07 23:08:47</td>\n",
       "      <td>2025-08-07 11:08:47 PM</td>\n",
       "      <td>Thursday</td>\n",
       "      <td>False</td>\n",
       "      <td>Summer</td>\n",
       "      <td>11:08 PM</td>\n",
       "      <td>Night</td>\n",
       "      <td>PRESTON AVE / OLD PRESTON AVE</td>\n",
       "      <td>NaN</td>\n",
       "      <td>NaN</td>\n",
       "      <td>N/A</td>\n",
       "      <td>N/A</td>\n",
       "    </tr>\n",
       "    <tr>\n",
       "      <th>1</th>\n",
       "      <td>2</td>\n",
       "      <td>Warrant Service</td>\n",
       "      <td>202500027914</td>\n",
       "      <td>200</td>\n",
       "      <td>W MAIN ST</td>\n",
       "      <td>CPD</td>\n",
       "      <td>2031</td>\n",
       "      <td>Abdelgayed, Adam</td>\n",
       "      <td>2025-08-07 20:31:24</td>\n",
       "      <td>2025-08-07 08:31:24 PM</td>\n",
       "      <td>Thursday</td>\n",
       "      <td>False</td>\n",
       "      <td>Summer</td>\n",
       "      <td>08:31 PM</td>\n",
       "      <td>Evening</td>\n",
       "      <td>200 W MAIN ST</td>\n",
       "      <td>38.030841</td>\n",
       "      <td>-78.482517</td>\n",
       "      <td>Downtown Mall</td>\n",
       "      <td>22902</td>\n",
       "    </tr>\n",
       "    <tr>\n",
       "      <th>2</th>\n",
       "      <td>3</td>\n",
       "      <td>Fraud-credit card</td>\n",
       "      <td>202500027906</td>\n",
       "      <td>400</td>\n",
       "      <td>GARRETT ST, G</td>\n",
       "      <td>CPD</td>\n",
       "      <td>1847</td>\n",
       "      <td>Ritter, Kobe</td>\n",
       "      <td>2025-08-07 18:47:48</td>\n",
       "      <td>2025-08-07 06:47:48 PM</td>\n",
       "      <td>Thursday</td>\n",
       "      <td>False</td>\n",
       "      <td>Summer</td>\n",
       "      <td>06:47 PM</td>\n",
       "      <td>Evening</td>\n",
       "      <td>400 GARRETT ST, G</td>\n",
       "      <td>38.027935</td>\n",
       "      <td>-78.481659</td>\n",
       "      <td>North Downtown</td>\n",
       "      <td>22903</td>\n",
       "    </tr>\n",
       "    <tr>\n",
       "      <th>3</th>\n",
       "      <td>4</td>\n",
       "      <td>Larceny - All Other</td>\n",
       "      <td>202500027879</td>\n",
       "      <td>500</td>\n",
       "      <td>E WATER ST</td>\n",
       "      <td>CPD</td>\n",
       "      <td>1459</td>\n",
       "      <td>Verdin, Alejandra</td>\n",
       "      <td>2025-08-07 14:59:46</td>\n",
       "      <td>2025-08-07 02:59:46 PM</td>\n",
       "      <td>Thursday</td>\n",
       "      <td>False</td>\n",
       "      <td>Summer</td>\n",
       "      <td>02:59 PM</td>\n",
       "      <td>Afternoon</td>\n",
       "      <td>500 E WATER ST</td>\n",
       "      <td>38.029079</td>\n",
       "      <td>-78.478880</td>\n",
       "      <td>North Downtown</td>\n",
       "      <td>22902</td>\n",
       "    </tr>\n",
       "    <tr>\n",
       "      <th>4</th>\n",
       "      <td>5</td>\n",
       "      <td>Larceny - Theft from Building</td>\n",
       "      <td>202500027878</td>\n",
       "      <td>200</td>\n",
       "      <td>5TH ST SW, 102</td>\n",
       "      <td>CPD</td>\n",
       "      <td>1452</td>\n",
       "      <td>Turner, Devon</td>\n",
       "      <td>2025-08-07 14:52:52</td>\n",
       "      <td>2025-08-07 02:52:52 PM</td>\n",
       "      <td>Thursday</td>\n",
       "      <td>False</td>\n",
       "      <td>Summer</td>\n",
       "      <td>02:52 PM</td>\n",
       "      <td>Afternoon</td>\n",
       "      <td>200 5TH ST SW, 102</td>\n",
       "      <td>NaN</td>\n",
       "      <td>NaN</td>\n",
       "      <td>N/A</td>\n",
       "      <td>N/A</td>\n",
       "    </tr>\n",
       "  </tbody>\n",
       "</table>\n",
       "</div>"
      ],
      "text/plain": [
       "   RecordID                        Offense    IncidentID BlockNumber  \\\n",
       "0         1    Driving Under the Influence  202500027939               \n",
       "1         2                Warrant Service  202500027914         200   \n",
       "2         3              Fraud-credit card  202500027906         400   \n",
       "3         4            Larceny - All Other  202500027879         500   \n",
       "4         5  Larceny - Theft from Building  202500027878         200   \n",
       "\n",
       "                      StreetName Agency HourReported   ReportingOfficer  \\\n",
       "0  PRESTON AVE / OLD PRESTON AVE    CPD         2308     Burnett, James   \n",
       "1                      W MAIN ST    CPD         2031   Abdelgayed, Adam   \n",
       "2                  GARRETT ST, G    CPD         1847       Ritter, Kobe   \n",
       "3                     E WATER ST    CPD         1459  Verdin, Alejandra   \n",
       "4                 5TH ST SW, 102    CPD         1452      Turner, Devon   \n",
       "\n",
       "                 Date              DateString DayOfWeek  Weekend  Season  \\\n",
       "0 2025-08-07 23:08:47  2025-08-07 11:08:47 PM  Thursday    False  Summer   \n",
       "1 2025-08-07 20:31:24  2025-08-07 08:31:24 PM  Thursday    False  Summer   \n",
       "2 2025-08-07 18:47:48  2025-08-07 06:47:48 PM  Thursday    False  Summer   \n",
       "3 2025-08-07 14:59:46  2025-08-07 02:59:46 PM  Thursday    False  Summer   \n",
       "4 2025-08-07 14:52:52  2025-08-07 02:52:52 PM  Thursday    False  Summer   \n",
       "\n",
       "   HourAMPM  TimeOfDay                      FullStreet        lat        lon  \\\n",
       "0  11:08 PM      Night   PRESTON AVE / OLD PRESTON AVE        NaN        NaN   \n",
       "1  08:31 PM    Evening                   200 W MAIN ST  38.030841 -78.482517   \n",
       "2  06:47 PM    Evening               400 GARRETT ST, G  38.027935 -78.481659   \n",
       "3  02:59 PM  Afternoon                  500 E WATER ST  38.029079 -78.478880   \n",
       "4  02:52 PM  Afternoon              200 5TH ST SW, 102        NaN        NaN   \n",
       "\n",
       "     neighborhood    zip  \n",
       "0             N/A    N/A  \n",
       "1   Downtown Mall  22902  \n",
       "2  North Downtown  22903  \n",
       "3  North Downtown  22902  \n",
       "4             N/A    N/A  "
      ]
     },
     "execution_count": 11,
     "metadata": {},
     "output_type": "execute_result"
    }
   ],
   "source": [
    "# Initialize the geocoder.\n",
    "geolocator = Nominatim(user_agent=\"zip_lookup\")\n",
    "\n",
    "# Try to load a persistent ZIP cache if available.\n",
    "try:\n",
    "    with open(\"zip_cache.pkl\", \"rb\") as f:\n",
    "        zip_cache = pickle.load(f)\n",
    "    print(\"Loaded zip cache.\")\n",
    "except FileNotFoundError:\n",
    "    zip_cache = {}\n",
    "    print(\"No zip cache found; starting fresh.\")\n",
    "\n",
    "def get_zip(lat, lon):\n",
    "    \"\"\"\n",
    "    Reverse geocodes a latitude and longitude to retrieve the ZIP code.\n",
    "    Caches results to speed up subsequent lookups.\n",
    "    \"\"\"\n",
    "    key = (lat, lon)\n",
    "    if key in zip_cache:\n",
    "        return zip_cache[key]\n",
    "    \n",
    "    try:\n",
    "        location = geolocator.reverse((lat, lon), exactly_one=True, timeout=10)\n",
    "        address = location.raw.get('address', {})\n",
    "        postal_code = address.get('postcode', \"N/A\")\n",
    "    except Exception as e:\n",
    "        print(f\"Error getting ZIP for {lat}, {lon}: {e}\")\n",
    "        postal_code = \"N/A\"\n",
    "    \n",
    "    zip_cache[key] = postal_code\n",
    "    # Pause to respect the usage policy.\n",
    "    time.sleep(1)\n",
    "    return postal_code\n",
    "\n",
    "# Apply the function to each row in the DataFrame.\n",
    "df['zip'] = df.apply(lambda row: get_zip(row['lat'], row['lon']), axis=1)\n",
    "\n",
    "# Save the updated ZIP cache.\n",
    "with open(\"zip_cache.pkl\", \"wb\") as f:\n",
    "    pickle.dump(zip_cache, f)\n",
    "\n",
    "df.head()\n"
   ]
  },
  {
   "cell_type": "code",
   "execution_count": 12,
   "id": "a85ad549",
   "metadata": {
    "execution": {
     "iopub.execute_input": "2025-08-10T01:17:06.077622Z",
     "iopub.status.busy": "2025-08-10T01:17:06.077390Z",
     "iopub.status.idle": "2025-08-10T01:17:06.107370Z",
     "shell.execute_reply": "2025-08-10T01:17:06.106792Z"
    },
    "papermill": {
     "duration": 0.041555,
     "end_time": "2025-08-10T01:17:06.108392",
     "exception": false,
     "start_time": "2025-08-10T01:17:06.066837",
     "status": "completed"
    },
    "tags": []
   },
   "outputs": [
    {
     "name": "stdout",
     "output_type": "stream",
     "text": [
      "                  MissingCount  MissingPercentage\n",
      "RecordID                     0               0.00\n",
      "Offense                      0               0.00\n",
      "IncidentID                   0               0.00\n",
      "BlockNumber                  0               0.00\n",
      "StreetName                   0               0.00\n",
      "Agency                       0               0.00\n",
      "HourReported                 0               0.00\n",
      "ReportingOfficer            15               0.06\n",
      "Date                         0               0.00\n",
      "DateString                   0               0.00\n",
      "DayOfWeek                    0               0.00\n",
      "Weekend                      0               0.00\n",
      "Season                       0               0.00\n",
      "HourAMPM                     0               0.00\n",
      "TimeOfDay                    0               0.00\n",
      "FullStreet                   0               0.00\n",
      "lat                         93               0.36\n",
      "lon                         93               0.36\n",
      "neighborhood                 0               0.00\n",
      "zip                          0               0.00\n"
     ]
    }
   ],
   "source": [
    "missing_info = missing_percentage(df)\n",
    "print(missing_info)\n"
   ]
  },
  {
   "cell_type": "code",
   "execution_count": 13,
   "id": "be2f0788",
   "metadata": {
    "execution": {
     "iopub.execute_input": "2025-08-10T01:17:06.129680Z",
     "iopub.status.busy": "2025-08-10T01:17:06.129494Z",
     "iopub.status.idle": "2025-08-10T01:17:06.160118Z",
     "shell.execute_reply": "2025-08-10T01:17:06.159558Z"
    },
    "papermill": {
     "duration": 0.042286,
     "end_time": "2025-08-10T01:17:06.161109",
     "exception": false,
     "start_time": "2025-08-10T01:17:06.118823",
     "status": "completed"
    },
    "tags": []
   },
   "outputs": [
    {
     "name": "stdout",
     "output_type": "stream",
     "text": [
      "<class 'pandas.core.frame.DataFrame'>\n",
      "RangeIndex: 25644 entries, 0 to 25643\n",
      "Data columns (total 20 columns):\n",
      " #   Column            Non-Null Count  Dtype         \n",
      "---  ------            --------------  -----         \n",
      " 0   RecordID          25644 non-null  int64         \n",
      " 1   Offense           25644 non-null  object        \n",
      " 2   IncidentID        25644 non-null  object        \n",
      " 3   BlockNumber       25644 non-null  object        \n",
      " 4   StreetName        25644 non-null  object        \n",
      " 5   Agency            25644 non-null  object        \n",
      " 6   HourReported      25644 non-null  object        \n",
      " 7   ReportingOfficer  25629 non-null  object        \n",
      " 8   Date              25644 non-null  datetime64[ns]\n",
      " 9   DateString        25644 non-null  object        \n",
      " 10  DayOfWeek         25644 non-null  object        \n",
      " 11  Weekend           25644 non-null  bool          \n",
      " 12  Season            25644 non-null  object        \n",
      " 13  HourAMPM          25644 non-null  object        \n",
      " 14  TimeOfDay         25644 non-null  object        \n",
      " 15  FullStreet        25644 non-null  object        \n",
      " 16  lat               25551 non-null  float64       \n",
      " 17  lon               25551 non-null  float64       \n",
      " 18  neighborhood      25644 non-null  object        \n",
      " 19  zip               25644 non-null  object        \n",
      "dtypes: bool(1), datetime64[ns](1), float64(2), int64(1), object(15)\n",
      "memory usage: 3.7+ MB\n"
     ]
    }
   ],
   "source": [
    "df.info()"
   ]
  },
  {
   "cell_type": "code",
   "execution_count": 14,
   "id": "3483539f",
   "metadata": {
    "execution": {
     "iopub.execute_input": "2025-08-10T01:17:06.182393Z",
     "iopub.status.busy": "2025-08-10T01:17:06.182159Z",
     "iopub.status.idle": "2025-08-10T01:17:06.227734Z",
     "shell.execute_reply": "2025-08-10T01:17:06.227028Z"
    },
    "papermill": {
     "duration": 0.057334,
     "end_time": "2025-08-10T01:17:06.228775",
     "exception": false,
     "start_time": "2025-08-10T01:17:06.171441",
     "status": "completed"
    },
    "tags": []
   },
   "outputs": [
    {
     "data": {
      "text/html": [
       "<div>\n",
       "<style scoped>\n",
       "    .dataframe tbody tr th:only-of-type {\n",
       "        vertical-align: middle;\n",
       "    }\n",
       "\n",
       "    .dataframe tbody tr th {\n",
       "        vertical-align: top;\n",
       "    }\n",
       "\n",
       "    .dataframe thead th {\n",
       "        text-align: right;\n",
       "    }\n",
       "</style>\n",
       "<table border=\"1\" class=\"dataframe\">\n",
       "  <thead>\n",
       "    <tr style=\"text-align: right;\">\n",
       "      <th></th>\n",
       "      <th>RecordID</th>\n",
       "      <th>Offense</th>\n",
       "      <th>IncidentID</th>\n",
       "      <th>Agency</th>\n",
       "      <th>ReportingOfficer</th>\n",
       "      <th>Date</th>\n",
       "      <th>DayOfWeek</th>\n",
       "      <th>Weekend</th>\n",
       "      <th>Season</th>\n",
       "      <th>TimeOfDay</th>\n",
       "      <th>FullStreet</th>\n",
       "      <th>lat</th>\n",
       "      <th>lon</th>\n",
       "      <th>neighborhood</th>\n",
       "      <th>zip</th>\n",
       "    </tr>\n",
       "  </thead>\n",
       "  <tbody>\n",
       "    <tr>\n",
       "      <th>0</th>\n",
       "      <td>1</td>\n",
       "      <td>Driving Under the Influence</td>\n",
       "      <td>202500027939</td>\n",
       "      <td>CPD</td>\n",
       "      <td>Burnett, James</td>\n",
       "      <td>2025-08-07 23:08:47</td>\n",
       "      <td>Thursday</td>\n",
       "      <td>False</td>\n",
       "      <td>Summer</td>\n",
       "      <td>Night</td>\n",
       "      <td>PRESTON AVE / OLD PRESTON AVE</td>\n",
       "      <td>N/A</td>\n",
       "      <td>N/A</td>\n",
       "      <td>N/A</td>\n",
       "      <td>N/A</td>\n",
       "    </tr>\n",
       "    <tr>\n",
       "      <th>1</th>\n",
       "      <td>2</td>\n",
       "      <td>Warrant Service</td>\n",
       "      <td>202500027914</td>\n",
       "      <td>CPD</td>\n",
       "      <td>Abdelgayed, Adam</td>\n",
       "      <td>2025-08-07 20:31:24</td>\n",
       "      <td>Thursday</td>\n",
       "      <td>False</td>\n",
       "      <td>Summer</td>\n",
       "      <td>Evening</td>\n",
       "      <td>200 W MAIN ST</td>\n",
       "      <td>38.030841</td>\n",
       "      <td>-78.482517</td>\n",
       "      <td>Downtown Mall</td>\n",
       "      <td>22902</td>\n",
       "    </tr>\n",
       "    <tr>\n",
       "      <th>2</th>\n",
       "      <td>3</td>\n",
       "      <td>Fraud-credit card</td>\n",
       "      <td>202500027906</td>\n",
       "      <td>CPD</td>\n",
       "      <td>Ritter, Kobe</td>\n",
       "      <td>2025-08-07 18:47:48</td>\n",
       "      <td>Thursday</td>\n",
       "      <td>False</td>\n",
       "      <td>Summer</td>\n",
       "      <td>Evening</td>\n",
       "      <td>400 GARRETT ST, G</td>\n",
       "      <td>38.027935</td>\n",
       "      <td>-78.481659</td>\n",
       "      <td>North Downtown</td>\n",
       "      <td>22903</td>\n",
       "    </tr>\n",
       "    <tr>\n",
       "      <th>3</th>\n",
       "      <td>4</td>\n",
       "      <td>Larceny - All Other</td>\n",
       "      <td>202500027879</td>\n",
       "      <td>CPD</td>\n",
       "      <td>Verdin, Alejandra</td>\n",
       "      <td>2025-08-07 14:59:46</td>\n",
       "      <td>Thursday</td>\n",
       "      <td>False</td>\n",
       "      <td>Summer</td>\n",
       "      <td>Afternoon</td>\n",
       "      <td>500 E WATER ST</td>\n",
       "      <td>38.029079</td>\n",
       "      <td>-78.47888</td>\n",
       "      <td>North Downtown</td>\n",
       "      <td>22902</td>\n",
       "    </tr>\n",
       "    <tr>\n",
       "      <th>4</th>\n",
       "      <td>5</td>\n",
       "      <td>Larceny - Theft from Building</td>\n",
       "      <td>202500027878</td>\n",
       "      <td>CPD</td>\n",
       "      <td>Turner, Devon</td>\n",
       "      <td>2025-08-07 14:52:52</td>\n",
       "      <td>Thursday</td>\n",
       "      <td>False</td>\n",
       "      <td>Summer</td>\n",
       "      <td>Afternoon</td>\n",
       "      <td>200 5TH ST SW, 102</td>\n",
       "      <td>N/A</td>\n",
       "      <td>N/A</td>\n",
       "      <td>N/A</td>\n",
       "      <td>N/A</td>\n",
       "    </tr>\n",
       "  </tbody>\n",
       "</table>\n",
       "</div>"
      ],
      "text/plain": [
       "   RecordID                        Offense    IncidentID Agency  \\\n",
       "0         1    Driving Under the Influence  202500027939    CPD   \n",
       "1         2                Warrant Service  202500027914    CPD   \n",
       "2         3              Fraud-credit card  202500027906    CPD   \n",
       "3         4            Larceny - All Other  202500027879    CPD   \n",
       "4         5  Larceny - Theft from Building  202500027878    CPD   \n",
       "\n",
       "    ReportingOfficer                Date DayOfWeek  Weekend  Season  \\\n",
       "0     Burnett, James 2025-08-07 23:08:47  Thursday    False  Summer   \n",
       "1   Abdelgayed, Adam 2025-08-07 20:31:24  Thursday    False  Summer   \n",
       "2       Ritter, Kobe 2025-08-07 18:47:48  Thursday    False  Summer   \n",
       "3  Verdin, Alejandra 2025-08-07 14:59:46  Thursday    False  Summer   \n",
       "4      Turner, Devon 2025-08-07 14:52:52  Thursday    False  Summer   \n",
       "\n",
       "   TimeOfDay                      FullStreet        lat        lon  \\\n",
       "0      Night   PRESTON AVE / OLD PRESTON AVE        N/A        N/A   \n",
       "1    Evening                   200 W MAIN ST  38.030841 -78.482517   \n",
       "2    Evening               400 GARRETT ST, G  38.027935 -78.481659   \n",
       "3  Afternoon                  500 E WATER ST  38.029079  -78.47888   \n",
       "4  Afternoon              200 5TH ST SW, 102        N/A        N/A   \n",
       "\n",
       "     neighborhood    zip  \n",
       "0             N/A    N/A  \n",
       "1   Downtown Mall  22902  \n",
       "2  North Downtown  22903  \n",
       "3  North Downtown  22902  \n",
       "4             N/A    N/A  "
      ]
     },
     "execution_count": 14,
     "metadata": {},
     "output_type": "execute_result"
    }
   ],
   "source": [
    "# Now drop the original BlockNumber and StreetName columns\n",
    "df.drop(columns=['BlockNumber', 'StreetName','HourAMPM','HourReported','DateString'], inplace=True)\n",
    "df[\"zip\"] = df[\"zip\"].astype(str)\n",
    "\n",
    "# Fill all missing values in the DataFrame with \"N/A\"\n",
    "df.replace({None: \"N/A\", np.nan: \"N/A\", \"\": \"N/A\"}, inplace=True)\n",
    "df.head()"
   ]
  },
  {
   "cell_type": "code",
   "execution_count": 15,
   "id": "cbd6bb3b",
   "metadata": {
    "execution": {
     "iopub.execute_input": "2025-08-10T01:17:06.250367Z",
     "iopub.status.busy": "2025-08-10T01:17:06.250125Z",
     "iopub.status.idle": "2025-08-10T01:17:06.266877Z",
     "shell.execute_reply": "2025-08-10T01:17:06.266346Z"
    },
    "papermill": {
     "duration": 0.028451,
     "end_time": "2025-08-10T01:17:06.267805",
     "exception": false,
     "start_time": "2025-08-10T01:17:06.239354",
     "status": "completed"
    },
    "tags": []
   },
   "outputs": [
    {
     "name": "stdout",
     "output_type": "stream",
     "text": [
      "                  MissingCount  MissingPercentage\n",
      "RecordID                     0                0.0\n",
      "Offense                      0                0.0\n",
      "IncidentID                   0                0.0\n",
      "Agency                       0                0.0\n",
      "ReportingOfficer             0                0.0\n",
      "Date                         0                0.0\n",
      "DayOfWeek                    0                0.0\n",
      "Weekend                      0                0.0\n",
      "Season                       0                0.0\n",
      "TimeOfDay                    0                0.0\n",
      "FullStreet                   0                0.0\n",
      "lat                          0                0.0\n",
      "lon                          0                0.0\n",
      "neighborhood                 0                0.0\n",
      "zip                          0                0.0\n"
     ]
    }
   ],
   "source": [
    "missing_info = missing_percentage(df)\n",
    "print(missing_info)"
   ]
  },
  {
   "cell_type": "code",
   "execution_count": 16,
   "id": "8d01a83e",
   "metadata": {
    "execution": {
     "iopub.execute_input": "2025-08-10T01:17:06.289464Z",
     "iopub.status.busy": "2025-08-10T01:17:06.289225Z",
     "iopub.status.idle": "2025-08-10T01:17:06.293503Z",
     "shell.execute_reply": "2025-08-10T01:17:06.292846Z"
    },
    "papermill": {
     "duration": 0.016157,
     "end_time": "2025-08-10T01:17:06.294432",
     "exception": false,
     "start_time": "2025-08-10T01:17:06.278275",
     "status": "completed"
    },
    "tags": []
   },
   "outputs": [
    {
     "data": {
      "text/plain": [
       "Index(['RecordID', 'Offense', 'IncidentID', 'Agency', 'ReportingOfficer',\n",
       "       'Date', 'DayOfWeek', 'Weekend', 'Season', 'TimeOfDay', 'FullStreet',\n",
       "       'lat', 'lon', 'neighborhood', 'zip'],\n",
       "      dtype='object')"
      ]
     },
     "execution_count": 16,
     "metadata": {},
     "output_type": "execute_result"
    }
   ],
   "source": [
    "df.columns"
   ]
  },
  {
   "cell_type": "code",
   "execution_count": 17,
   "id": "084e9ea0",
   "metadata": {
    "execution": {
     "iopub.execute_input": "2025-08-10T01:17:06.316072Z",
     "iopub.status.busy": "2025-08-10T01:17:06.315846Z",
     "iopub.status.idle": "2025-08-10T01:17:06.335460Z",
     "shell.execute_reply": "2025-08-10T01:17:06.334830Z"
    },
    "papermill": {
     "duration": 0.031625,
     "end_time": "2025-08-10T01:17:06.336462",
     "exception": false,
     "start_time": "2025-08-10T01:17:06.304837",
     "status": "completed"
    },
    "tags": []
   },
   "outputs": [
    {
     "name": "stdout",
     "output_type": "stream",
     "text": [
      "<class 'pandas.core.frame.DataFrame'>\n",
      "RangeIndex: 25644 entries, 0 to 25643\n",
      "Data columns (total 15 columns):\n",
      " #   Column            Non-Null Count  Dtype         \n",
      "---  ------            --------------  -----         \n",
      " 0   RecordID          25644 non-null  int64         \n",
      " 1   Offense           25644 non-null  object        \n",
      " 2   IncidentID        25644 non-null  object        \n",
      " 3   Agency            25644 non-null  object        \n",
      " 4   ReportingOfficer  25644 non-null  object        \n",
      " 5   Date              25644 non-null  datetime64[ns]\n",
      " 6   DayOfWeek         25644 non-null  object        \n",
      " 7   Weekend           25644 non-null  bool          \n",
      " 8   Season            25644 non-null  object        \n",
      " 9   TimeOfDay         25644 non-null  object        \n",
      " 10  FullStreet        25644 non-null  object        \n",
      " 11  lat               25644 non-null  object        \n",
      " 12  lon               25644 non-null  object        \n",
      " 13  neighborhood      25644 non-null  object        \n",
      " 14  zip               25644 non-null  object        \n",
      "dtypes: bool(1), datetime64[ns](1), int64(1), object(12)\n",
      "memory usage: 2.8+ MB\n"
     ]
    }
   ],
   "source": [
    "df.info()"
   ]
  },
  {
   "cell_type": "markdown",
   "id": "d0bae3da",
   "metadata": {
    "papermill": {
     "duration": 0.010541,
     "end_time": "2025-08-10T01:17:06.357825",
     "exception": false,
     "start_time": "2025-08-10T01:17:06.347284",
     "status": "completed"
    },
    "tags": []
   },
   "source": [
    "### Export Clean Data"
   ]
  },
  {
   "cell_type": "code",
   "execution_count": 18,
   "id": "20ffd2cf",
   "metadata": {
    "execution": {
     "iopub.execute_input": "2025-08-10T01:17:06.379830Z",
     "iopub.status.busy": "2025-08-10T01:17:06.379599Z",
     "iopub.status.idle": "2025-08-10T01:17:15.571502Z",
     "shell.execute_reply": "2025-08-10T01:17:15.570818Z"
    },
    "papermill": {
     "duration": 9.204224,
     "end_time": "2025-08-10T01:17:15.572544",
     "exception": false,
     "start_time": "2025-08-10T01:17:06.368320",
     "status": "completed"
    },
    "tags": []
   },
   "outputs": [
    {
     "name": "stdout",
     "output_type": "stream",
     "text": [
      "Project Root: /home/runner/work/crime-data/crime-data\n"
     ]
    },
    {
     "name": "stdout",
     "output_type": "stream",
     "text": [
      "Data saved to: /home/runner/work/crime-data/crime-data/data/charlottesville_crime_incidents.csv\n"
     ]
    },
    {
     "name": "stdout",
     "output_type": "stream",
     "text": [
      "Excel saved to: /home/runner/work/crime-data/crime-data/data/charlottesville_crime_incidents.xlsx\n"
     ]
    }
   ],
   "source": [
    "# Determine the project root (assuming papermill is run from the repository root)\n",
    "project_root = os.getcwd()\n",
    "print(\"Project Root:\", project_root)\n",
    "\n",
    "# Set the data directory within the project root\n",
    "data_dir = os.path.join(project_root, \"data\")\n",
    "\n",
    "# Ensure the \"data\" directory exists (create it if it doesn't)\n",
    "if not os.path.exists(data_dir):\n",
    "    os.makedirs(data_dir)\n",
    "\n",
    "# Export the DataFrame to CSV in the \"data\" folder located in the project root\n",
    "csv_path = os.path.join(data_dir, \"charlottesville_crime_incidents.csv\")\n",
    "df.to_csv(csv_path, index=False)\n",
    "print(\"Data saved to:\", csv_path)\n",
    "\n",
    "# Construct the path to your Excel file\n",
    "excel_path = os.path.join(data_dir, \"charlottesville_crime_incidents.xlsx\")\n",
    "\n",
    "# Export the DataFrame to Excel\n",
    "df.to_excel(excel_path, index=False)\n",
    "print(\"Excel saved to:\", excel_path)\n"
   ]
  }
 ],
 "metadata": {
  "kernelspec": {
   "display_name": "Python 3",
   "language": "python",
   "name": "python3"
  },
  "language_info": {
   "codemirror_mode": {
    "name": "ipython",
    "version": 3
   },
   "file_extension": ".py",
   "mimetype": "text/x-python",
   "name": "python",
   "nbconvert_exporter": "python",
   "pygments_lexer": "ipython3",
   "version": "3.9.23"
  },
  "papermill": {
   "default_parameters": {},
   "duration": 177.304314,
   "end_time": "2025-08-10T01:17:15.999400",
   "environment_variables": {},
   "exception": null,
   "input_path": "notebook/Crime Data.ipynb",
   "output_path": "notebook/Crime Data_output.ipynb",
   "parameters": {},
   "start_time": "2025-08-10T01:14:18.695086",
   "version": "2.6.0"
  }
 },
 "nbformat": 4,
 "nbformat_minor": 5
}