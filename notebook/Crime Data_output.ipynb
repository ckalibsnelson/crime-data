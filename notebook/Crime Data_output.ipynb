{
 "cells": [
  {
   "cell_type": "markdown",
   "id": "cd643f65",
   "metadata": {
    "papermill": {
     "duration": 0.00633,
     "end_time": "2025-05-01T01:07:04.393967",
     "exception": false,
     "start_time": "2025-05-01T01:07:04.387637",
     "status": "completed"
    },
    "tags": []
   },
   "source": [
    "# Charlottesville Open Data Porttal: Crime Data"
   ]
  },
  {
   "cell_type": "markdown",
   "id": "8f054565",
   "metadata": {
    "papermill": {
     "duration": 0.005517,
     "end_time": "2025-05-01T01:07:04.404947",
     "exception": false,
     "start_time": "2025-05-01T01:07:04.399430",
     "status": "completed"
    },
    "tags": []
   },
   "source": [
    "## Import Relevant Librarires & Set WD"
   ]
  },
  {
   "cell_type": "code",
   "execution_count": 1,
   "id": "c907868d",
   "metadata": {
    "execution": {
     "iopub.execute_input": "2025-05-01T01:07:04.416272Z",
     "iopub.status.busy": "2025-05-01T01:07:04.415992Z",
     "iopub.status.idle": "2025-05-01T01:07:04.942058Z",
     "shell.execute_reply": "2025-05-01T01:07:04.941409Z"
    },
    "papermill": {
     "duration": 0.533414,
     "end_time": "2025-05-01T01:07:04.943438",
     "exception": false,
     "start_time": "2025-05-01T01:07:04.410024",
     "status": "completed"
    },
    "tags": []
   },
   "outputs": [],
   "source": [
    "import requests\n",
    "import pandas as pd\n",
    "import numpy as np\n",
    "import pickle\n",
    "import googlemaps\n",
    "import plotly.express as px\n",
    "from geopy.geocoders import Nominatim\n",
    "import time\n",
    "from dotenv import load_dotenv\n",
    "import os\n",
    "\n",
    "env_path = os.path.join(\"..\", \".env\")\n",
    "#print(\"Looking for .env file at:\", os.path.abspath(env_path))\n",
    "load_dotenv(dotenv_path=env_path)\n",
    "\n",
    "# Retrieve the variables\n",
    "GOOGLE_API_KEY = os.getenv(\"GOOGLE_API_KEY\")\n",
    "WORKING_DIR = os.getenv(\"WORKING_DIR\")\n",
    "\n",
    "if GOOGLE_API_KEY is None or WORKING_DIR is None:\n",
    "    raise RuntimeError(\"No configuration found. Please ensure that your .env file exists with the required variables, or create a local config.py file.\")\n",
    "\n",
    "#print(\"Google API Key:\", GOOGLE_API_KEY)\n",
    "#print(\"Working Directory:\", WORKING_DIR)"
   ]
  },
  {
   "cell_type": "markdown",
   "id": "8ba2bdc5",
   "metadata": {
    "papermill": {
     "duration": 0.005089,
     "end_time": "2025-05-01T01:07:04.954100",
     "exception": false,
     "start_time": "2025-05-01T01:07:04.949011",
     "status": "completed"
    },
    "tags": []
   },
   "source": [
    "## Import Data\n",
    "\n",
    "URL: https://opendata.charlottesville.org/datasets/charlottesville::crime-data/about"
   ]
  },
  {
   "cell_type": "code",
   "execution_count": 2,
   "id": "afaa88ff",
   "metadata": {
    "execution": {
     "iopub.execute_input": "2025-05-01T01:07:04.965815Z",
     "iopub.status.busy": "2025-05-01T01:07:04.965157Z",
     "iopub.status.idle": "2025-05-01T01:08:07.998583Z",
     "shell.execute_reply": "2025-05-01T01:08:07.997801Z"
    },
    "papermill": {
     "duration": 63.045871,
     "end_time": "2025-05-01T01:08:08.005053",
     "exception": false,
     "start_time": "2025-05-01T01:07:04.959182",
     "status": "completed"
    },
    "tags": []
   },
   "outputs": [
    {
     "name": "stdout",
     "output_type": "stream",
     "text": [
      "Total records imported: 25293\n"
     ]
    }
   ],
   "source": [
    "# Define the endpoint and initial parameters.\n",
    "url = \"https://gisweb.charlottesville.org/arcgis/rest/services/OpenData_2/MapServer/6/query\"\n",
    "params = {\n",
    "    \"where\": \"1=1\",\n",
    "    \"outFields\": \"*\",\n",
    "    \"outSR\": 4326,\n",
    "    \"f\": \"json\",\n",
    "    \"resultOffset\": 0,       # Starting index for results\n",
    "    \"resultRecordCount\": 10000  # Maximum records per batch (if allowed by the API)\n",
    "}\n",
    "\n",
    "records = []\n",
    "\n",
    "while True:\n",
    "    response = requests.get(url, params=params)\n",
    "    response.raise_for_status()\n",
    "    data = response.json()\n",
    "    \n",
    "    # Get the current batch of features.\n",
    "    features = data.get(\"features\", [])\n",
    "    if not features:\n",
    "        break\n",
    "\n",
    "    # Extract the attributes from the features.\n",
    "    batch_records = [feature.get(\"attributes\", {}) for feature in features]\n",
    "    records.extend(batch_records)\n",
    "    \n",
    "    # If the batch size is less than the requested count, we reached the end.\n",
    "    if len(features) < params[\"resultRecordCount\"]:\n",
    "        break\n",
    "\n",
    "    # Update the resultOffset for the next batch.\n",
    "    params[\"resultOffset\"] += params[\"resultRecordCount\"]\n",
    "\n",
    "# Create a DataFrame from the combined records.\n",
    "df = pd.DataFrame(records)\n",
    "print(\"Total records imported:\", len(df))\n"
   ]
  },
  {
   "cell_type": "code",
   "execution_count": 3,
   "id": "f5da1589",
   "metadata": {
    "execution": {
     "iopub.execute_input": "2025-05-01T01:08:08.041485Z",
     "iopub.status.busy": "2025-05-01T01:08:08.041201Z",
     "iopub.status.idle": "2025-05-01T01:08:08.053457Z",
     "shell.execute_reply": "2025-05-01T01:08:08.052895Z"
    },
    "papermill": {
     "duration": 0.044167,
     "end_time": "2025-05-01T01:08:08.054520",
     "exception": false,
     "start_time": "2025-05-01T01:08:08.010353",
     "status": "completed"
    },
    "tags": []
   },
   "outputs": [
    {
     "data": {
      "text/html": [
       "<div>\n",
       "<style scoped>\n",
       "    .dataframe tbody tr th:only-of-type {\n",
       "        vertical-align: middle;\n",
       "    }\n",
       "\n",
       "    .dataframe tbody tr th {\n",
       "        vertical-align: top;\n",
       "    }\n",
       "\n",
       "    .dataframe thead th {\n",
       "        text-align: right;\n",
       "    }\n",
       "</style>\n",
       "<table border=\"1\" class=\"dataframe\">\n",
       "  <thead>\n",
       "    <tr style=\"text-align: right;\">\n",
       "      <th></th>\n",
       "      <th>RecordID</th>\n",
       "      <th>Offense</th>\n",
       "      <th>IncidentID</th>\n",
       "      <th>BlockNumber</th>\n",
       "      <th>StreetName</th>\n",
       "      <th>Agency</th>\n",
       "      <th>DateReported</th>\n",
       "      <th>HourReported</th>\n",
       "      <th>ReportingOfficer</th>\n",
       "    </tr>\n",
       "  </thead>\n",
       "  <tbody>\n",
       "    <tr>\n",
       "      <th>0</th>\n",
       "      <td>1</td>\n",
       "      <td>Assist Citizen - Mental/TDO/ECO</td>\n",
       "      <td>202500014006</td>\n",
       "      <td>700</td>\n",
       "      <td>E MAIN ST</td>\n",
       "      <td>CPD</td>\n",
       "      <td>1745896881000</td>\n",
       "      <td>2321</td>\n",
       "      <td>Folston, Elliott</td>\n",
       "    </tr>\n",
       "    <tr>\n",
       "      <th>1</th>\n",
       "      <td>2</td>\n",
       "      <td>Larceny - All Other</td>\n",
       "      <td>202500013999</td>\n",
       "      <td>600</td>\n",
       "      <td>BOLLING AVE, A</td>\n",
       "      <td>CPD</td>\n",
       "      <td>1745893348000</td>\n",
       "      <td>2222</td>\n",
       "      <td>Love-Baker, Sydney</td>\n",
       "    </tr>\n",
       "    <tr>\n",
       "      <th>2</th>\n",
       "      <td>3</td>\n",
       "      <td>Assault Simple</td>\n",
       "      <td>202500013991</td>\n",
       "      <td>900</td>\n",
       "      <td>CHARLTON AVE</td>\n",
       "      <td>CPD</td>\n",
       "      <td>1745890166000</td>\n",
       "      <td>2129</td>\n",
       "      <td>Bland, Johnnà</td>\n",
       "    </tr>\n",
       "    <tr>\n",
       "      <th>3</th>\n",
       "      <td>4</td>\n",
       "      <td>Drug Investigation</td>\n",
       "      <td>202500013989</td>\n",
       "      <td>100</td>\n",
       "      <td>9TH ST SE</td>\n",
       "      <td>CPD</td>\n",
       "      <td>1745889128000</td>\n",
       "      <td>2112</td>\n",
       "      <td>Ryan, Matthew</td>\n",
       "    </tr>\n",
       "    <tr>\n",
       "      <th>4</th>\n",
       "      <td>5</td>\n",
       "      <td>Assault Simple</td>\n",
       "      <td>202500013978</td>\n",
       "      <td>700</td>\n",
       "      <td>RAINIER RD</td>\n",
       "      <td>CPD</td>\n",
       "      <td>1745884146000</td>\n",
       "      <td>1949</td>\n",
       "      <td>Love-Baker, Sydney</td>\n",
       "    </tr>\n",
       "  </tbody>\n",
       "</table>\n",
       "</div>"
      ],
      "text/plain": [
       "   RecordID                          Offense    IncidentID BlockNumber  \\\n",
       "0         1  Assist Citizen - Mental/TDO/ECO  202500014006         700   \n",
       "1         2              Larceny - All Other  202500013999         600   \n",
       "2         3                   Assault Simple  202500013991         900   \n",
       "3         4               Drug Investigation  202500013989         100   \n",
       "4         5                   Assault Simple  202500013978         700   \n",
       "\n",
       "       StreetName Agency   DateReported HourReported    ReportingOfficer  \n",
       "0       E MAIN ST    CPD  1745896881000         2321    Folston, Elliott  \n",
       "1  BOLLING AVE, A    CPD  1745893348000         2222  Love-Baker, Sydney  \n",
       "2    CHARLTON AVE    CPD  1745890166000         2129       Bland, Johnnà  \n",
       "3       9TH ST SE    CPD  1745889128000         2112       Ryan, Matthew  \n",
       "4      RAINIER RD    CPD  1745884146000         1949  Love-Baker, Sydney  "
      ]
     },
     "execution_count": 3,
     "metadata": {},
     "output_type": "execute_result"
    }
   ],
   "source": [
    "df.head()"
   ]
  },
  {
   "cell_type": "code",
   "execution_count": 4,
   "id": "25a650f7",
   "metadata": {
    "execution": {
     "iopub.execute_input": "2025-05-01T01:08:08.066815Z",
     "iopub.status.busy": "2025-05-01T01:08:08.066113Z",
     "iopub.status.idle": "2025-05-01T01:08:08.070894Z",
     "shell.execute_reply": "2025-05-01T01:08:08.070359Z"
    },
    "papermill": {
     "duration": 0.011845,
     "end_time": "2025-05-01T01:08:08.071950",
     "exception": false,
     "start_time": "2025-05-01T01:08:08.060105",
     "status": "completed"
    },
    "tags": []
   },
   "outputs": [
    {
     "data": {
      "text/plain": [
       "Index(['RecordID', 'Offense', 'IncidentID', 'BlockNumber', 'StreetName',\n",
       "       'Agency', 'DateReported', 'HourReported', 'ReportingOfficer'],\n",
       "      dtype='object')"
      ]
     },
     "execution_count": 4,
     "metadata": {},
     "output_type": "execute_result"
    }
   ],
   "source": [
    "df.columns"
   ]
  },
  {
   "cell_type": "code",
   "execution_count": 5,
   "id": "ce3e9d35",
   "metadata": {
    "execution": {
     "iopub.execute_input": "2025-05-01T01:08:08.083879Z",
     "iopub.status.busy": "2025-05-01T01:08:08.083464Z",
     "iopub.status.idle": "2025-05-01T01:08:08.107762Z",
     "shell.execute_reply": "2025-05-01T01:08:08.107161Z"
    },
    "papermill": {
     "duration": 0.031383,
     "end_time": "2025-05-01T01:08:08.108874",
     "exception": false,
     "start_time": "2025-05-01T01:08:08.077491",
     "status": "completed"
    },
    "tags": []
   },
   "outputs": [
    {
     "name": "stdout",
     "output_type": "stream",
     "text": [
      "<class 'pandas.core.frame.DataFrame'>\n",
      "RangeIndex: 25293 entries, 0 to 25292\n",
      "Data columns (total 9 columns):\n",
      " #   Column            Non-Null Count  Dtype \n",
      "---  ------            --------------  ----- \n",
      " 0   RecordID          25293 non-null  int64 \n",
      " 1   Offense           25293 non-null  object\n",
      " 2   IncidentID        25293 non-null  object\n",
      " 3   BlockNumber       25293 non-null  object\n",
      " 4   StreetName        25293 non-null  object\n",
      " 5   Agency            25293 non-null  object\n",
      " 6   DateReported      25293 non-null  int64 \n",
      " 7   HourReported      25293 non-null  object\n",
      " 8   ReportingOfficer  25276 non-null  object\n",
      "dtypes: int64(2), object(7)\n",
      "memory usage: 1.7+ MB\n"
     ]
    }
   ],
   "source": [
    "df.info()"
   ]
  },
  {
   "cell_type": "markdown",
   "id": "31a97b70",
   "metadata": {
    "papermill": {
     "duration": 0.005569,
     "end_time": "2025-05-01T01:08:08.120415",
     "exception": false,
     "start_time": "2025-05-01T01:08:08.114846",
     "status": "completed"
    },
    "tags": []
   },
   "source": [
    "### Missing Values"
   ]
  },
  {
   "cell_type": "code",
   "execution_count": 6,
   "id": "759f5a47",
   "metadata": {
    "execution": {
     "iopub.execute_input": "2025-05-01T01:08:08.132816Z",
     "iopub.status.busy": "2025-05-01T01:08:08.132294Z",
     "iopub.status.idle": "2025-05-01T01:08:08.158002Z",
     "shell.execute_reply": "2025-05-01T01:08:08.157371Z"
    },
    "papermill": {
     "duration": 0.033105,
     "end_time": "2025-05-01T01:08:08.159110",
     "exception": false,
     "start_time": "2025-05-01T01:08:08.126005",
     "status": "completed"
    },
    "tags": []
   },
   "outputs": [
    {
     "name": "stdout",
     "output_type": "stream",
     "text": [
      "                  MissingCount  MissingPercentage\n",
      "RecordID                     0               0.00\n",
      "Offense                      0               0.00\n",
      "IncidentID                   0               0.00\n",
      "BlockNumber                  0               0.00\n",
      "StreetName                   0               0.00\n",
      "Agency                       0               0.00\n",
      "DateReported                 0               0.00\n",
      "HourReported                 0               0.00\n",
      "ReportingOfficer            17               0.07\n"
     ]
    }
   ],
   "source": [
    "def missing_percentage(df):\n",
    "    \"\"\"\n",
    "    Returns a DataFrame with the count and percentage of missing values for each column.\n",
    "    \n",
    "    Parameters:\n",
    "        df (pd.DataFrame): The input DataFrame.\n",
    "    \n",
    "    Returns:\n",
    "        pd.DataFrame: A DataFrame with columns 'MissingCount' and 'MissingPercentage'.\n",
    "    \"\"\"\n",
    "    total_rows = len(df)\n",
    "    missing_count = df.isnull().sum()\n",
    "    missing_percent = (missing_count / total_rows) * 100\n",
    "    \n",
    "    result = pd.DataFrame({\n",
    "        'MissingCount': missing_count,\n",
    "        'MissingPercentage': missing_percent.round(2)\n",
    "    })\n",
    "    \n",
    "    return result\n",
    "\n",
    "# Example usage:\n",
    "missing_info = missing_percentage(df)\n",
    "print(missing_info)\n"
   ]
  },
  {
   "cell_type": "markdown",
   "id": "8d987912",
   "metadata": {
    "papermill": {
     "duration": 0.005553,
     "end_time": "2025-05-01T01:08:08.170577",
     "exception": false,
     "start_time": "2025-05-01T01:08:08.165024",
     "status": "completed"
    },
    "tags": []
   },
   "source": [
    "## Data Preparation"
   ]
  },
  {
   "cell_type": "markdown",
   "id": "121e87bb",
   "metadata": {
    "papermill": {
     "duration": 0.00549,
     "end_time": "2025-05-01T01:08:08.181691",
     "exception": false,
     "start_time": "2025-05-01T01:08:08.176201",
     "status": "completed"
    },
    "tags": []
   },
   "source": [
    "### Data Conversion"
   ]
  },
  {
   "cell_type": "code",
   "execution_count": 7,
   "id": "a96097c9",
   "metadata": {
    "execution": {
     "iopub.execute_input": "2025-05-01T01:08:08.194917Z",
     "iopub.status.busy": "2025-05-01T01:08:08.194151Z",
     "iopub.status.idle": "2025-05-01T01:08:08.565973Z",
     "shell.execute_reply": "2025-05-01T01:08:08.565222Z"
    },
    "papermill": {
     "duration": 0.379697,
     "end_time": "2025-05-01T01:08:08.567057",
     "exception": false,
     "start_time": "2025-05-01T01:08:08.187360",
     "status": "completed"
    },
    "tags": []
   },
   "outputs": [
    {
     "data": {
      "text/html": [
       "<div>\n",
       "<style scoped>\n",
       "    .dataframe tbody tr th:only-of-type {\n",
       "        vertical-align: middle;\n",
       "    }\n",
       "\n",
       "    .dataframe tbody tr th {\n",
       "        vertical-align: top;\n",
       "    }\n",
       "\n",
       "    .dataframe thead th {\n",
       "        text-align: right;\n",
       "    }\n",
       "</style>\n",
       "<table border=\"1\" class=\"dataframe\">\n",
       "  <thead>\n",
       "    <tr style=\"text-align: right;\">\n",
       "      <th></th>\n",
       "      <th>RecordID</th>\n",
       "      <th>Offense</th>\n",
       "      <th>IncidentID</th>\n",
       "      <th>BlockNumber</th>\n",
       "      <th>StreetName</th>\n",
       "      <th>Agency</th>\n",
       "      <th>HourReported</th>\n",
       "      <th>ReportingOfficer</th>\n",
       "      <th>Date</th>\n",
       "      <th>DateString</th>\n",
       "      <th>DayOfWeek</th>\n",
       "      <th>Weekend</th>\n",
       "      <th>Season</th>\n",
       "      <th>HourAMPM</th>\n",
       "      <th>TimeOfDay</th>\n",
       "    </tr>\n",
       "  </thead>\n",
       "  <tbody>\n",
       "    <tr>\n",
       "      <th>0</th>\n",
       "      <td>1</td>\n",
       "      <td>Assist Citizen - Mental/TDO/ECO</td>\n",
       "      <td>202500014006</td>\n",
       "      <td>700</td>\n",
       "      <td>E MAIN ST</td>\n",
       "      <td>CPD</td>\n",
       "      <td>2321</td>\n",
       "      <td>Folston, Elliott</td>\n",
       "      <td>2025-04-28 23:21:21</td>\n",
       "      <td>2025-04-28 11:21:21 PM</td>\n",
       "      <td>Monday</td>\n",
       "      <td>False</td>\n",
       "      <td>Spring</td>\n",
       "      <td>11:21 PM</td>\n",
       "      <td>Night</td>\n",
       "    </tr>\n",
       "    <tr>\n",
       "      <th>1</th>\n",
       "      <td>2</td>\n",
       "      <td>Larceny - All Other</td>\n",
       "      <td>202500013999</td>\n",
       "      <td>600</td>\n",
       "      <td>BOLLING AVE, A</td>\n",
       "      <td>CPD</td>\n",
       "      <td>2222</td>\n",
       "      <td>Love-Baker, Sydney</td>\n",
       "      <td>2025-04-28 22:22:28</td>\n",
       "      <td>2025-04-28 10:22:28 PM</td>\n",
       "      <td>Monday</td>\n",
       "      <td>False</td>\n",
       "      <td>Spring</td>\n",
       "      <td>10:22 PM</td>\n",
       "      <td>Night</td>\n",
       "    </tr>\n",
       "    <tr>\n",
       "      <th>2</th>\n",
       "      <td>3</td>\n",
       "      <td>Assault Simple</td>\n",
       "      <td>202500013991</td>\n",
       "      <td>900</td>\n",
       "      <td>CHARLTON AVE</td>\n",
       "      <td>CPD</td>\n",
       "      <td>2129</td>\n",
       "      <td>Bland, Johnnà</td>\n",
       "      <td>2025-04-28 21:29:26</td>\n",
       "      <td>2025-04-28 09:29:26 PM</td>\n",
       "      <td>Monday</td>\n",
       "      <td>False</td>\n",
       "      <td>Spring</td>\n",
       "      <td>09:29 PM</td>\n",
       "      <td>Night</td>\n",
       "    </tr>\n",
       "    <tr>\n",
       "      <th>3</th>\n",
       "      <td>4</td>\n",
       "      <td>Drug Investigation</td>\n",
       "      <td>202500013989</td>\n",
       "      <td>100</td>\n",
       "      <td>9TH ST SE</td>\n",
       "      <td>CPD</td>\n",
       "      <td>2112</td>\n",
       "      <td>Ryan, Matthew</td>\n",
       "      <td>2025-04-28 21:12:08</td>\n",
       "      <td>2025-04-28 09:12:08 PM</td>\n",
       "      <td>Monday</td>\n",
       "      <td>False</td>\n",
       "      <td>Spring</td>\n",
       "      <td>09:12 PM</td>\n",
       "      <td>Night</td>\n",
       "    </tr>\n",
       "    <tr>\n",
       "      <th>4</th>\n",
       "      <td>5</td>\n",
       "      <td>Assault Simple</td>\n",
       "      <td>202500013978</td>\n",
       "      <td>700</td>\n",
       "      <td>RAINIER RD</td>\n",
       "      <td>CPD</td>\n",
       "      <td>1949</td>\n",
       "      <td>Love-Baker, Sydney</td>\n",
       "      <td>2025-04-28 19:49:06</td>\n",
       "      <td>2025-04-28 07:49:06 PM</td>\n",
       "      <td>Monday</td>\n",
       "      <td>False</td>\n",
       "      <td>Spring</td>\n",
       "      <td>07:49 PM</td>\n",
       "      <td>Evening</td>\n",
       "    </tr>\n",
       "  </tbody>\n",
       "</table>\n",
       "</div>"
      ],
      "text/plain": [
       "   RecordID                          Offense    IncidentID BlockNumber  \\\n",
       "0         1  Assist Citizen - Mental/TDO/ECO  202500014006         700   \n",
       "1         2              Larceny - All Other  202500013999         600   \n",
       "2         3                   Assault Simple  202500013991         900   \n",
       "3         4               Drug Investigation  202500013989         100   \n",
       "4         5                   Assault Simple  202500013978         700   \n",
       "\n",
       "       StreetName Agency HourReported    ReportingOfficer                Date  \\\n",
       "0       E MAIN ST    CPD         2321    Folston, Elliott 2025-04-28 23:21:21   \n",
       "1  BOLLING AVE, A    CPD         2222  Love-Baker, Sydney 2025-04-28 22:22:28   \n",
       "2    CHARLTON AVE    CPD         2129       Bland, Johnnà 2025-04-28 21:29:26   \n",
       "3       9TH ST SE    CPD         2112       Ryan, Matthew 2025-04-28 21:12:08   \n",
       "4      RAINIER RD    CPD         1949  Love-Baker, Sydney 2025-04-28 19:49:06   \n",
       "\n",
       "               DateString DayOfWeek  Weekend  Season  HourAMPM TimeOfDay  \n",
       "0  2025-04-28 11:21:21 PM    Monday    False  Spring  11:21 PM     Night  \n",
       "1  2025-04-28 10:22:28 PM    Monday    False  Spring  10:22 PM     Night  \n",
       "2  2025-04-28 09:29:26 PM    Monday    False  Spring  09:29 PM     Night  \n",
       "3  2025-04-28 09:12:08 PM    Monday    False  Spring  09:12 PM     Night  \n",
       "4  2025-04-28 07:49:06 PM    Monday    False  Spring  07:49 PM   Evening  "
      ]
     },
     "execution_count": 7,
     "metadata": {},
     "output_type": "execute_result"
    }
   ],
   "source": [
    "def convert_and_categorize_datereported(df, col='DateReported'):\n",
    "    \"\"\"\n",
    "    Converts an epoch (in milliseconds) date column into a timezone-aware datetime,\n",
    "    converts it to Eastern Time, and then creates columns for day-of-week, weekend flag,\n",
    "    season, 12-hour formatted time, and time-of-day. Keeps both a real datetime column\n",
    "    (Date) and a string representation (DateString).\n",
    "    \"\"\"\n",
    "    import pandas as pd\n",
    "\n",
    "    # Convert the epoch timestamp to a pandas datetime object as UTC, then convert to US/Eastern.\n",
    "    df[\"DateReported_dt\"] = (\n",
    "        pd.to_datetime(df[col], unit=\"ms\", errors=\"coerce\", utc=True)\n",
    "        .dt.tz_convert(\"US/Eastern\")\n",
    "    )\n",
    "    \n",
    "    # Create a true datetime column (remove timezone if you prefer naive datetime)\n",
    "    df[\"Date\"] = df[\"DateReported_dt\"].dt.tz_localize(None)\n",
    "\n",
    "    # Optionally, create a separate string-formatted column\n",
    "    df[\"DateString\"] = df[\"DateReported_dt\"].dt.strftime(\"%Y-%m-%d %I:%M:%S %p\")\n",
    "    \n",
    "    # DayOfWeek\n",
    "    df[\"DayOfWeek\"] = df[\"DateReported_dt\"].dt.day_name()\n",
    "    \n",
    "    # Weekend\n",
    "    df[\"Weekend\"] = df[\"DayOfWeek\"].isin([\"Saturday\", \"Sunday\"])\n",
    "    \n",
    "    # Helper function to determine the season\n",
    "    def get_season(dt):\n",
    "        month = dt.month\n",
    "        day = dt.day\n",
    "        # Approximate Northern Hemisphere season boundaries:\n",
    "        if (month == 12 and day >= 21) or (month < 3) or (month == 3 and day < 20):\n",
    "            return \"Winter\"\n",
    "        elif (month == 3 and day >= 20) or (month < 6) or (month == 6 and day < 21):\n",
    "            return \"Spring\"\n",
    "        elif (month == 6 and day >= 21) or (month < 9) or (month == 9 and day < 22):\n",
    "            return \"Summer\"\n",
    "        else:\n",
    "            return \"Autumn\"\n",
    "    \n",
    "    df[\"Season\"] = df[\"DateReported_dt\"].apply(get_season)\n",
    "    \n",
    "    # 12-hour formatted time (HourAMPM)\n",
    "    df[\"HourAMPM\"] = df[\"DateReported_dt\"].dt.strftime(\"%I:%M %p\")\n",
    "    \n",
    "    # Extract hour (0-23) for time-of-day\n",
    "    df[\"HourValue\"] = df[\"DateReported_dt\"].dt.hour\n",
    "    \n",
    "    def time_of_day(hour):\n",
    "        if pd.isnull(hour):\n",
    "            return None\n",
    "        if 5 <= hour < 12:\n",
    "            return \"Morning\"\n",
    "        elif 12 <= hour < 17:\n",
    "            return \"Afternoon\"\n",
    "        elif 17 <= hour < 21:\n",
    "            return \"Evening\"\n",
    "        else:\n",
    "            return \"Night\"\n",
    "    \n",
    "    df[\"TimeOfDay\"] = df[\"HourValue\"].apply(time_of_day)\n",
    "    \n",
    "    # Drop columns you no longer need\n",
    "    df.drop(columns=[col, \"DateReported_dt\", \"HourValue\"], inplace=True)\n",
    "    \n",
    "    return df\n",
    "\n",
    "# Example usage:\n",
    "df = convert_and_categorize_datereported(df)\n",
    "df.head()\n"
   ]
  },
  {
   "cell_type": "code",
   "execution_count": 8,
   "id": "7bfd36b0",
   "metadata": {
    "execution": {
     "iopub.execute_input": "2025-05-01T01:08:08.580670Z",
     "iopub.status.busy": "2025-05-01T01:08:08.580084Z",
     "iopub.status.idle": "2025-05-01T01:08:08.610707Z",
     "shell.execute_reply": "2025-05-01T01:08:08.610126Z"
    },
    "papermill": {
     "duration": 0.038451,
     "end_time": "2025-05-01T01:08:08.611745",
     "exception": false,
     "start_time": "2025-05-01T01:08:08.573294",
     "status": "completed"
    },
    "tags": []
   },
   "outputs": [
    {
     "name": "stdout",
     "output_type": "stream",
     "text": [
      "<class 'pandas.core.frame.DataFrame'>\n",
      "RangeIndex: 25293 entries, 0 to 25292\n",
      "Data columns (total 15 columns):\n",
      " #   Column            Non-Null Count  Dtype         \n",
      "---  ------            --------------  -----         \n",
      " 0   RecordID          25293 non-null  int64         \n",
      " 1   Offense           25293 non-null  object        \n",
      " 2   IncidentID        25293 non-null  object        \n",
      " 3   BlockNumber       25293 non-null  object        \n",
      " 4   StreetName        25293 non-null  object        \n",
      " 5   Agency            25293 non-null  object        \n",
      " 6   HourReported      25293 non-null  object        \n",
      " 7   ReportingOfficer  25276 non-null  object        \n",
      " 8   Date              25293 non-null  datetime64[ns]\n",
      " 9   DateString        25293 non-null  object        \n",
      " 10  DayOfWeek         25293 non-null  object        \n",
      " 11  Weekend           25293 non-null  bool          \n",
      " 12  Season            25293 non-null  object        \n",
      " 13  HourAMPM          25293 non-null  object        \n",
      " 14  TimeOfDay         25293 non-null  object        \n",
      "dtypes: bool(1), datetime64[ns](1), int64(1), object(12)\n",
      "memory usage: 2.7+ MB\n"
     ]
    }
   ],
   "source": [
    "df.info()"
   ]
  },
  {
   "cell_type": "markdown",
   "id": "27fb73b0",
   "metadata": {
    "papermill": {
     "duration": 0.005834,
     "end_time": "2025-05-01T01:08:08.623773",
     "exception": false,
     "start_time": "2025-05-01T01:08:08.617939",
     "status": "completed"
    },
    "tags": []
   },
   "source": [
    "### Coordinates"
   ]
  },
  {
   "cell_type": "code",
   "execution_count": 9,
   "id": "a1177161",
   "metadata": {
    "execution": {
     "iopub.execute_input": "2025-05-01T01:08:08.636714Z",
     "iopub.status.busy": "2025-05-01T01:08:08.636244Z",
     "iopub.status.idle": "2025-05-01T01:08:08.682040Z",
     "shell.execute_reply": "2025-05-01T01:08:08.681361Z"
    },
    "papermill": {
     "duration": 0.053432,
     "end_time": "2025-05-01T01:08:08.683149",
     "exception": false,
     "start_time": "2025-05-01T01:08:08.629717",
     "status": "completed"
    },
    "tags": []
   },
   "outputs": [
    {
     "name": "stdout",
     "output_type": "stream",
     "text": [
      "Loaded geocode cache.\n",
      "Geocode cache updated and saved.\n"
     ]
    },
    {
     "data": {
      "text/html": [
       "<div>\n",
       "<style scoped>\n",
       "    .dataframe tbody tr th:only-of-type {\n",
       "        vertical-align: middle;\n",
       "    }\n",
       "\n",
       "    .dataframe tbody tr th {\n",
       "        vertical-align: top;\n",
       "    }\n",
       "\n",
       "    .dataframe thead th {\n",
       "        text-align: right;\n",
       "    }\n",
       "</style>\n",
       "<table border=\"1\" class=\"dataframe\">\n",
       "  <thead>\n",
       "    <tr style=\"text-align: right;\">\n",
       "      <th></th>\n",
       "      <th>RecordID</th>\n",
       "      <th>Offense</th>\n",
       "      <th>IncidentID</th>\n",
       "      <th>BlockNumber</th>\n",
       "      <th>StreetName</th>\n",
       "      <th>Agency</th>\n",
       "      <th>HourReported</th>\n",
       "      <th>ReportingOfficer</th>\n",
       "      <th>Date</th>\n",
       "      <th>DateString</th>\n",
       "      <th>DayOfWeek</th>\n",
       "      <th>Weekend</th>\n",
       "      <th>Season</th>\n",
       "      <th>HourAMPM</th>\n",
       "      <th>TimeOfDay</th>\n",
       "      <th>FullStreet</th>\n",
       "      <th>lat</th>\n",
       "      <th>lon</th>\n",
       "    </tr>\n",
       "  </thead>\n",
       "  <tbody>\n",
       "    <tr>\n",
       "      <th>0</th>\n",
       "      <td>1</td>\n",
       "      <td>Assist Citizen - Mental/TDO/ECO</td>\n",
       "      <td>202500014006</td>\n",
       "      <td>700</td>\n",
       "      <td>E MAIN ST</td>\n",
       "      <td>CPD</td>\n",
       "      <td>2321</td>\n",
       "      <td>Folston, Elliott</td>\n",
       "      <td>2025-04-28 23:21:21</td>\n",
       "      <td>2025-04-28 11:21:21 PM</td>\n",
       "      <td>Monday</td>\n",
       "      <td>False</td>\n",
       "      <td>Spring</td>\n",
       "      <td>11:21 PM</td>\n",
       "      <td>Night</td>\n",
       "      <td>700 E MAIN ST</td>\n",
       "      <td>38.029237</td>\n",
       "      <td>-78.476613</td>\n",
       "    </tr>\n",
       "    <tr>\n",
       "      <th>1</th>\n",
       "      <td>2</td>\n",
       "      <td>Larceny - All Other</td>\n",
       "      <td>202500013999</td>\n",
       "      <td>600</td>\n",
       "      <td>BOLLING AVE, A</td>\n",
       "      <td>CPD</td>\n",
       "      <td>2222</td>\n",
       "      <td>Love-Baker, Sydney</td>\n",
       "      <td>2025-04-28 22:22:28</td>\n",
       "      <td>2025-04-28 10:22:28 PM</td>\n",
       "      <td>Monday</td>\n",
       "      <td>False</td>\n",
       "      <td>Spring</td>\n",
       "      <td>10:22 PM</td>\n",
       "      <td>Night</td>\n",
       "      <td>600 BOLLING AVE, A</td>\n",
       "      <td>38.024092</td>\n",
       "      <td>-78.481255</td>\n",
       "    </tr>\n",
       "    <tr>\n",
       "      <th>2</th>\n",
       "      <td>3</td>\n",
       "      <td>Assault Simple</td>\n",
       "      <td>202500013991</td>\n",
       "      <td>900</td>\n",
       "      <td>CHARLTON AVE</td>\n",
       "      <td>CPD</td>\n",
       "      <td>2129</td>\n",
       "      <td>Bland, Johnnà</td>\n",
       "      <td>2025-04-28 21:29:26</td>\n",
       "      <td>2025-04-28 09:29:26 PM</td>\n",
       "      <td>Monday</td>\n",
       "      <td>False</td>\n",
       "      <td>Spring</td>\n",
       "      <td>09:29 PM</td>\n",
       "      <td>Night</td>\n",
       "      <td>900 CHARLTON AVE</td>\n",
       "      <td>38.038284</td>\n",
       "      <td>-78.487238</td>\n",
       "    </tr>\n",
       "    <tr>\n",
       "      <th>3</th>\n",
       "      <td>4</td>\n",
       "      <td>Drug Investigation</td>\n",
       "      <td>202500013989</td>\n",
       "      <td>100</td>\n",
       "      <td>9TH ST SE</td>\n",
       "      <td>CPD</td>\n",
       "      <td>2112</td>\n",
       "      <td>Ryan, Matthew</td>\n",
       "      <td>2025-04-28 21:12:08</td>\n",
       "      <td>2025-04-28 09:12:08 PM</td>\n",
       "      <td>Monday</td>\n",
       "      <td>False</td>\n",
       "      <td>Spring</td>\n",
       "      <td>09:12 PM</td>\n",
       "      <td>Night</td>\n",
       "      <td>100 9TH ST SE</td>\n",
       "      <td>38.028000</td>\n",
       "      <td>-78.476890</td>\n",
       "    </tr>\n",
       "    <tr>\n",
       "      <th>4</th>\n",
       "      <td>5</td>\n",
       "      <td>Assault Simple</td>\n",
       "      <td>202500013978</td>\n",
       "      <td>700</td>\n",
       "      <td>RAINIER RD</td>\n",
       "      <td>CPD</td>\n",
       "      <td>1949</td>\n",
       "      <td>Love-Baker, Sydney</td>\n",
       "      <td>2025-04-28 19:49:06</td>\n",
       "      <td>2025-04-28 07:49:06 PM</td>\n",
       "      <td>Monday</td>\n",
       "      <td>False</td>\n",
       "      <td>Spring</td>\n",
       "      <td>07:49 PM</td>\n",
       "      <td>Evening</td>\n",
       "      <td>700 RAINIER RD</td>\n",
       "      <td>38.019020</td>\n",
       "      <td>-78.507288</td>\n",
       "    </tr>\n",
       "  </tbody>\n",
       "</table>\n",
       "</div>"
      ],
      "text/plain": [
       "   RecordID                          Offense    IncidentID BlockNumber  \\\n",
       "0         1  Assist Citizen - Mental/TDO/ECO  202500014006         700   \n",
       "1         2              Larceny - All Other  202500013999         600   \n",
       "2         3                   Assault Simple  202500013991         900   \n",
       "3         4               Drug Investigation  202500013989         100   \n",
       "4         5                   Assault Simple  202500013978         700   \n",
       "\n",
       "       StreetName Agency HourReported    ReportingOfficer                Date  \\\n",
       "0       E MAIN ST    CPD         2321    Folston, Elliott 2025-04-28 23:21:21   \n",
       "1  BOLLING AVE, A    CPD         2222  Love-Baker, Sydney 2025-04-28 22:22:28   \n",
       "2    CHARLTON AVE    CPD         2129       Bland, Johnnà 2025-04-28 21:29:26   \n",
       "3       9TH ST SE    CPD         2112       Ryan, Matthew 2025-04-28 21:12:08   \n",
       "4      RAINIER RD    CPD         1949  Love-Baker, Sydney 2025-04-28 19:49:06   \n",
       "\n",
       "               DateString DayOfWeek  Weekend  Season  HourAMPM TimeOfDay  \\\n",
       "0  2025-04-28 11:21:21 PM    Monday    False  Spring  11:21 PM     Night   \n",
       "1  2025-04-28 10:22:28 PM    Monday    False  Spring  10:22 PM     Night   \n",
       "2  2025-04-28 09:29:26 PM    Monday    False  Spring  09:29 PM     Night   \n",
       "3  2025-04-28 09:12:08 PM    Monday    False  Spring  09:12 PM     Night   \n",
       "4  2025-04-28 07:49:06 PM    Monday    False  Spring  07:49 PM   Evening   \n",
       "\n",
       "           FullStreet        lat        lon  \n",
       "0       700 E MAIN ST  38.029237 -78.476613  \n",
       "1  600 BOLLING AVE, A  38.024092 -78.481255  \n",
       "2    900 CHARLTON AVE  38.038284 -78.487238  \n",
       "3       100 9TH ST SE  38.028000 -78.476890  \n",
       "4      700 RAINIER RD  38.019020 -78.507288  "
      ]
     },
     "execution_count": 9,
     "metadata": {},
     "output_type": "execute_result"
    }
   ],
   "source": [
    "# Combine BlockNumber and StreetName into a full address string\n",
    "df['FullStreet'] = df['BlockNumber'].astype(str) + \" \" + df['StreetName']\n",
    "\n",
    "# --- Step 1: Setup the Google Maps Client and Cache ---\n",
    "gmaps = googlemaps.Client(key=GOOGLE_API_KEY)\n",
    "\n",
    "# Try to load cached geocoding results if available.\n",
    "try:\n",
    "    with open(\"geocode_cache_google.pkl\", \"rb\") as f:\n",
    "        street_coords = pickle.load(f)\n",
    "    print(\"Loaded geocode cache.\")\n",
    "except FileNotFoundError:\n",
    "    street_coords = {}\n",
    "    print(\"No cache found; starting fresh.\")\n",
    "\n",
    "def geocode_address(address):\n",
    "    try:\n",
    "        # Append city and state to help geocoding\n",
    "        result = gmaps.geocode(f\"{address}, Charlottesville, VA\")\n",
    "        if result:\n",
    "            lat = result[0]['geometry']['location']['lat']\n",
    "            lon = result[0]['geometry']['location']['lng']\n",
    "            return lat, lon\n",
    "    except Exception as e:\n",
    "        print(f\"Error geocoding {address}: {e}\")\n",
    "    return None, None\n",
    "\n",
    "# --- Step 2: Geocode Only New Addresses ---\n",
    "unique_addresses = df['FullStreet'].unique()\n",
    "for address in unique_addresses:\n",
    "    if address not in street_coords:\n",
    "        lat, lon = geocode_address(address)\n",
    "        street_coords[address] = (lat, lon)\n",
    "        print(f\"Geocoded {address}: {lat}, {lon}\")\n",
    "\n",
    "# Save the updated cache to disk.\n",
    "with open(\"geocode_cache_google.pkl\", \"wb\") as f:\n",
    "    pickle.dump(street_coords, f)\n",
    "    print(\"Geocode cache updated and saved.\")\n",
    "\n",
    "# --- Step 3: Map Coordinates Back to DataFrame ---\n",
    "df['lat'] = df['FullStreet'].map(lambda s: street_coords.get(s, (None, None))[0])\n",
    "df['lon'] = df['FullStreet'].map(lambda s: street_coords.get(s, (None, None))[1])\n",
    "\n",
    "df.head()"
   ]
  },
  {
   "cell_type": "markdown",
   "id": "be35b049",
   "metadata": {
    "papermill": {
     "duration": 0.006356,
     "end_time": "2025-05-01T01:08:08.696477",
     "exception": false,
     "start_time": "2025-05-01T01:08:08.690121",
     "status": "completed"
    },
    "tags": []
   },
   "source": [
    "### Neighborhood"
   ]
  },
  {
   "cell_type": "code",
   "execution_count": 10,
   "id": "ab8fd5bc",
   "metadata": {
    "execution": {
     "iopub.execute_input": "2025-05-01T01:08:08.710337Z",
     "iopub.status.busy": "2025-05-01T01:08:08.709873Z",
     "iopub.status.idle": "2025-05-01T01:08:08.974128Z",
     "shell.execute_reply": "2025-05-01T01:08:08.973508Z"
    },
    "papermill": {
     "duration": 0.272461,
     "end_time": "2025-05-01T01:08:08.975221",
     "exception": false,
     "start_time": "2025-05-01T01:08:08.702760",
     "status": "completed"
    },
    "tags": []
   },
   "outputs": [
    {
     "name": "stdout",
     "output_type": "stream",
     "text": [
      "Loaded neighborhood cache.\n"
     ]
    },
    {
     "data": {
      "text/html": [
       "<div>\n",
       "<style scoped>\n",
       "    .dataframe tbody tr th:only-of-type {\n",
       "        vertical-align: middle;\n",
       "    }\n",
       "\n",
       "    .dataframe tbody tr th {\n",
       "        vertical-align: top;\n",
       "    }\n",
       "\n",
       "    .dataframe thead th {\n",
       "        text-align: right;\n",
       "    }\n",
       "</style>\n",
       "<table border=\"1\" class=\"dataframe\">\n",
       "  <thead>\n",
       "    <tr style=\"text-align: right;\">\n",
       "      <th></th>\n",
       "      <th>RecordID</th>\n",
       "      <th>Offense</th>\n",
       "      <th>IncidentID</th>\n",
       "      <th>BlockNumber</th>\n",
       "      <th>StreetName</th>\n",
       "      <th>Agency</th>\n",
       "      <th>HourReported</th>\n",
       "      <th>ReportingOfficer</th>\n",
       "      <th>Date</th>\n",
       "      <th>DateString</th>\n",
       "      <th>DayOfWeek</th>\n",
       "      <th>Weekend</th>\n",
       "      <th>Season</th>\n",
       "      <th>HourAMPM</th>\n",
       "      <th>TimeOfDay</th>\n",
       "      <th>FullStreet</th>\n",
       "      <th>lat</th>\n",
       "      <th>lon</th>\n",
       "      <th>neighborhood</th>\n",
       "    </tr>\n",
       "  </thead>\n",
       "  <tbody>\n",
       "    <tr>\n",
       "      <th>0</th>\n",
       "      <td>1</td>\n",
       "      <td>Assist Citizen - Mental/TDO/ECO</td>\n",
       "      <td>202500014006</td>\n",
       "      <td>700</td>\n",
       "      <td>E MAIN ST</td>\n",
       "      <td>CPD</td>\n",
       "      <td>2321</td>\n",
       "      <td>Folston, Elliott</td>\n",
       "      <td>2025-04-28 23:21:21</td>\n",
       "      <td>2025-04-28 11:21:21 PM</td>\n",
       "      <td>Monday</td>\n",
       "      <td>False</td>\n",
       "      <td>Spring</td>\n",
       "      <td>11:21 PM</td>\n",
       "      <td>Night</td>\n",
       "      <td>700 E MAIN ST</td>\n",
       "      <td>38.029237</td>\n",
       "      <td>-78.476613</td>\n",
       "      <td>Downtown Mall</td>\n",
       "    </tr>\n",
       "    <tr>\n",
       "      <th>1</th>\n",
       "      <td>2</td>\n",
       "      <td>Larceny - All Other</td>\n",
       "      <td>202500013999</td>\n",
       "      <td>600</td>\n",
       "      <td>BOLLING AVE, A</td>\n",
       "      <td>CPD</td>\n",
       "      <td>2222</td>\n",
       "      <td>Love-Baker, Sydney</td>\n",
       "      <td>2025-04-28 22:22:28</td>\n",
       "      <td>2025-04-28 10:22:28 PM</td>\n",
       "      <td>Monday</td>\n",
       "      <td>False</td>\n",
       "      <td>Spring</td>\n",
       "      <td>10:22 PM</td>\n",
       "      <td>Night</td>\n",
       "      <td>600 BOLLING AVE, A</td>\n",
       "      <td>38.024092</td>\n",
       "      <td>-78.481255</td>\n",
       "      <td>Ridge St.</td>\n",
       "    </tr>\n",
       "    <tr>\n",
       "      <th>2</th>\n",
       "      <td>3</td>\n",
       "      <td>Assault Simple</td>\n",
       "      <td>202500013991</td>\n",
       "      <td>900</td>\n",
       "      <td>CHARLTON AVE</td>\n",
       "      <td>CPD</td>\n",
       "      <td>2129</td>\n",
       "      <td>Bland, Johnnà</td>\n",
       "      <td>2025-04-28 21:29:26</td>\n",
       "      <td>2025-04-28 09:29:26 PM</td>\n",
       "      <td>Monday</td>\n",
       "      <td>False</td>\n",
       "      <td>Spring</td>\n",
       "      <td>09:29 PM</td>\n",
       "      <td>Night</td>\n",
       "      <td>900 CHARLTON AVE</td>\n",
       "      <td>38.038284</td>\n",
       "      <td>-78.487238</td>\n",
       "      <td>Rose Hill</td>\n",
       "    </tr>\n",
       "    <tr>\n",
       "      <th>3</th>\n",
       "      <td>4</td>\n",
       "      <td>Drug Investigation</td>\n",
       "      <td>202500013989</td>\n",
       "      <td>100</td>\n",
       "      <td>9TH ST SE</td>\n",
       "      <td>CPD</td>\n",
       "      <td>2112</td>\n",
       "      <td>Ryan, Matthew</td>\n",
       "      <td>2025-04-28 21:12:08</td>\n",
       "      <td>2025-04-28 09:12:08 PM</td>\n",
       "      <td>Monday</td>\n",
       "      <td>False</td>\n",
       "      <td>Spring</td>\n",
       "      <td>09:12 PM</td>\n",
       "      <td>Night</td>\n",
       "      <td>100 9TH ST SE</td>\n",
       "      <td>38.028000</td>\n",
       "      <td>-78.476890</td>\n",
       "      <td>Belmont</td>\n",
       "    </tr>\n",
       "    <tr>\n",
       "      <th>4</th>\n",
       "      <td>5</td>\n",
       "      <td>Assault Simple</td>\n",
       "      <td>202500013978</td>\n",
       "      <td>700</td>\n",
       "      <td>RAINIER RD</td>\n",
       "      <td>CPD</td>\n",
       "      <td>1949</td>\n",
       "      <td>Love-Baker, Sydney</td>\n",
       "      <td>2025-04-28 19:49:06</td>\n",
       "      <td>2025-04-28 07:49:06 PM</td>\n",
       "      <td>Monday</td>\n",
       "      <td>False</td>\n",
       "      <td>Spring</td>\n",
       "      <td>07:49 PM</td>\n",
       "      <td>Evening</td>\n",
       "      <td>700 RAINIER RD</td>\n",
       "      <td>38.019020</td>\n",
       "      <td>-78.507288</td>\n",
       "      <td>Johnson Village</td>\n",
       "    </tr>\n",
       "  </tbody>\n",
       "</table>\n",
       "</div>"
      ],
      "text/plain": [
       "   RecordID                          Offense    IncidentID BlockNumber  \\\n",
       "0         1  Assist Citizen - Mental/TDO/ECO  202500014006         700   \n",
       "1         2              Larceny - All Other  202500013999         600   \n",
       "2         3                   Assault Simple  202500013991         900   \n",
       "3         4               Drug Investigation  202500013989         100   \n",
       "4         5                   Assault Simple  202500013978         700   \n",
       "\n",
       "       StreetName Agency HourReported    ReportingOfficer                Date  \\\n",
       "0       E MAIN ST    CPD         2321    Folston, Elliott 2025-04-28 23:21:21   \n",
       "1  BOLLING AVE, A    CPD         2222  Love-Baker, Sydney 2025-04-28 22:22:28   \n",
       "2    CHARLTON AVE    CPD         2129       Bland, Johnnà 2025-04-28 21:29:26   \n",
       "3       9TH ST SE    CPD         2112       Ryan, Matthew 2025-04-28 21:12:08   \n",
       "4      RAINIER RD    CPD         1949  Love-Baker, Sydney 2025-04-28 19:49:06   \n",
       "\n",
       "               DateString DayOfWeek  Weekend  Season  HourAMPM TimeOfDay  \\\n",
       "0  2025-04-28 11:21:21 PM    Monday    False  Spring  11:21 PM     Night   \n",
       "1  2025-04-28 10:22:28 PM    Monday    False  Spring  10:22 PM     Night   \n",
       "2  2025-04-28 09:29:26 PM    Monday    False  Spring  09:29 PM     Night   \n",
       "3  2025-04-28 09:12:08 PM    Monday    False  Spring  09:12 PM     Night   \n",
       "4  2025-04-28 07:49:06 PM    Monday    False  Spring  07:49 PM   Evening   \n",
       "\n",
       "           FullStreet        lat        lon     neighborhood  \n",
       "0       700 E MAIN ST  38.029237 -78.476613    Downtown Mall  \n",
       "1  600 BOLLING AVE, A  38.024092 -78.481255        Ridge St.  \n",
       "2    900 CHARLTON AVE  38.038284 -78.487238        Rose Hill  \n",
       "3       100 9TH ST SE  38.028000 -78.476890          Belmont  \n",
       "4      700 RAINIER RD  38.019020 -78.507288  Johnson Village  "
      ]
     },
     "execution_count": 10,
     "metadata": {},
     "output_type": "execute_result"
    }
   ],
   "source": [
    "# Initialize the Google Maps client.\n",
    "gmaps = googlemaps.Client(key=GOOGLE_API_KEY)\n",
    "\n",
    "# Try to load a persistent neighborhood cache if available.\n",
    "try:\n",
    "    with open(\"neighborhood_cache.pkl\", \"rb\") as f:\n",
    "        neighborhood_cache = pickle.load(f)\n",
    "    print(\"Loaded neighborhood cache.\")\n",
    "except FileNotFoundError:\n",
    "    neighborhood_cache = {}\n",
    "    print(\"No neighborhood cache found; starting fresh.\")\n",
    "\n",
    "def get_neighborhood(lat, lon):\n",
    "    \"\"\"\n",
    "    Reverse geocodes a latitude and longitude to retrieve the neighborhood.\n",
    "    Caches results to speed up subsequent lookups.\n",
    "    \"\"\"\n",
    "    key = (lat, lon)\n",
    "    if key in neighborhood_cache:\n",
    "        return neighborhood_cache[key]\n",
    "    \n",
    "    try:\n",
    "        result = gmaps.reverse_geocode((lat, lon))\n",
    "        if result:\n",
    "            # Look for the 'neighborhood' component in the first result.\n",
    "            for component in result[0]['address_components']:\n",
    "                if 'neighborhood' in component['types']:\n",
    "                    neighborhood = component['long_name']\n",
    "                    neighborhood_cache[key] = neighborhood\n",
    "                    return neighborhood\n",
    "            # If no neighborhood is found, return \"N/A\"\n",
    "            neighborhood_cache[key] = \"N/A\"\n",
    "            return \"N/A\"\n",
    "    except Exception as e:\n",
    "        print(f\"Error getting neighborhood for {lat}, {lon}: {e}\")\n",
    "        return \"N/A\"\n",
    "    \n",
    "    # Pause to respect usage limits.\n",
    "    time.sleep(1)\n",
    "\n",
    "# Example usage: Apply to your DataFrame 'df' that already has 'lat' and 'lon' columns.\n",
    "df['neighborhood'] = df.apply(lambda row: get_neighborhood(row['lat'], row['lon']), axis=1)\n",
    "\n",
    "# Save the updated neighborhood cache.\n",
    "with open(\"neighborhood_cache.pkl\", \"wb\") as f:\n",
    "    pickle.dump(neighborhood_cache, f)\n",
    "\n",
    "df.head()\n"
   ]
  },
  {
   "cell_type": "markdown",
   "id": "07380bb8",
   "metadata": {
    "papermill": {
     "duration": 0.006478,
     "end_time": "2025-05-01T01:08:08.988602",
     "exception": false,
     "start_time": "2025-05-01T01:08:08.982124",
     "status": "completed"
    },
    "tags": []
   },
   "source": [
    "### Zip"
   ]
  },
  {
   "cell_type": "code",
   "execution_count": 11,
   "id": "9f7146ba",
   "metadata": {
    "execution": {
     "iopub.execute_input": "2025-05-01T01:08:09.002833Z",
     "iopub.status.busy": "2025-05-01T01:08:09.002355Z",
     "iopub.status.idle": "2025-05-01T01:08:09.245771Z",
     "shell.execute_reply": "2025-05-01T01:08:09.245137Z"
    },
    "papermill": {
     "duration": 0.251613,
     "end_time": "2025-05-01T01:08:09.246791",
     "exception": false,
     "start_time": "2025-05-01T01:08:08.995178",
     "status": "completed"
    },
    "tags": []
   },
   "outputs": [
    {
     "name": "stdout",
     "output_type": "stream",
     "text": [
      "Loaded zip cache.\n"
     ]
    },
    {
     "data": {
      "text/html": [
       "<div>\n",
       "<style scoped>\n",
       "    .dataframe tbody tr th:only-of-type {\n",
       "        vertical-align: middle;\n",
       "    }\n",
       "\n",
       "    .dataframe tbody tr th {\n",
       "        vertical-align: top;\n",
       "    }\n",
       "\n",
       "    .dataframe thead th {\n",
       "        text-align: right;\n",
       "    }\n",
       "</style>\n",
       "<table border=\"1\" class=\"dataframe\">\n",
       "  <thead>\n",
       "    <tr style=\"text-align: right;\">\n",
       "      <th></th>\n",
       "      <th>RecordID</th>\n",
       "      <th>Offense</th>\n",
       "      <th>IncidentID</th>\n",
       "      <th>BlockNumber</th>\n",
       "      <th>StreetName</th>\n",
       "      <th>Agency</th>\n",
       "      <th>HourReported</th>\n",
       "      <th>ReportingOfficer</th>\n",
       "      <th>Date</th>\n",
       "      <th>DateString</th>\n",
       "      <th>DayOfWeek</th>\n",
       "      <th>Weekend</th>\n",
       "      <th>Season</th>\n",
       "      <th>HourAMPM</th>\n",
       "      <th>TimeOfDay</th>\n",
       "      <th>FullStreet</th>\n",
       "      <th>lat</th>\n",
       "      <th>lon</th>\n",
       "      <th>neighborhood</th>\n",
       "      <th>zip</th>\n",
       "    </tr>\n",
       "  </thead>\n",
       "  <tbody>\n",
       "    <tr>\n",
       "      <th>0</th>\n",
       "      <td>1</td>\n",
       "      <td>Assist Citizen - Mental/TDO/ECO</td>\n",
       "      <td>202500014006</td>\n",
       "      <td>700</td>\n",
       "      <td>E MAIN ST</td>\n",
       "      <td>CPD</td>\n",
       "      <td>2321</td>\n",
       "      <td>Folston, Elliott</td>\n",
       "      <td>2025-04-28 23:21:21</td>\n",
       "      <td>2025-04-28 11:21:21 PM</td>\n",
       "      <td>Monday</td>\n",
       "      <td>False</td>\n",
       "      <td>Spring</td>\n",
       "      <td>11:21 PM</td>\n",
       "      <td>Night</td>\n",
       "      <td>700 E MAIN ST</td>\n",
       "      <td>38.029237</td>\n",
       "      <td>-78.476613</td>\n",
       "      <td>Downtown Mall</td>\n",
       "      <td>22902</td>\n",
       "    </tr>\n",
       "    <tr>\n",
       "      <th>1</th>\n",
       "      <td>2</td>\n",
       "      <td>Larceny - All Other</td>\n",
       "      <td>202500013999</td>\n",
       "      <td>600</td>\n",
       "      <td>BOLLING AVE, A</td>\n",
       "      <td>CPD</td>\n",
       "      <td>2222</td>\n",
       "      <td>Love-Baker, Sydney</td>\n",
       "      <td>2025-04-28 22:22:28</td>\n",
       "      <td>2025-04-28 10:22:28 PM</td>\n",
       "      <td>Monday</td>\n",
       "      <td>False</td>\n",
       "      <td>Spring</td>\n",
       "      <td>10:22 PM</td>\n",
       "      <td>Night</td>\n",
       "      <td>600 BOLLING AVE, A</td>\n",
       "      <td>38.024092</td>\n",
       "      <td>-78.481255</td>\n",
       "      <td>Ridge St.</td>\n",
       "      <td>22903</td>\n",
       "    </tr>\n",
       "    <tr>\n",
       "      <th>2</th>\n",
       "      <td>3</td>\n",
       "      <td>Assault Simple</td>\n",
       "      <td>202500013991</td>\n",
       "      <td>900</td>\n",
       "      <td>CHARLTON AVE</td>\n",
       "      <td>CPD</td>\n",
       "      <td>2129</td>\n",
       "      <td>Bland, Johnnà</td>\n",
       "      <td>2025-04-28 21:29:26</td>\n",
       "      <td>2025-04-28 09:29:26 PM</td>\n",
       "      <td>Monday</td>\n",
       "      <td>False</td>\n",
       "      <td>Spring</td>\n",
       "      <td>09:29 PM</td>\n",
       "      <td>Night</td>\n",
       "      <td>900 CHARLTON AVE</td>\n",
       "      <td>38.038284</td>\n",
       "      <td>-78.487238</td>\n",
       "      <td>Rose Hill</td>\n",
       "      <td>22903</td>\n",
       "    </tr>\n",
       "    <tr>\n",
       "      <th>3</th>\n",
       "      <td>4</td>\n",
       "      <td>Drug Investigation</td>\n",
       "      <td>202500013989</td>\n",
       "      <td>100</td>\n",
       "      <td>9TH ST SE</td>\n",
       "      <td>CPD</td>\n",
       "      <td>2112</td>\n",
       "      <td>Ryan, Matthew</td>\n",
       "      <td>2025-04-28 21:12:08</td>\n",
       "      <td>2025-04-28 09:12:08 PM</td>\n",
       "      <td>Monday</td>\n",
       "      <td>False</td>\n",
       "      <td>Spring</td>\n",
       "      <td>09:12 PM</td>\n",
       "      <td>Night</td>\n",
       "      <td>100 9TH ST SE</td>\n",
       "      <td>38.028000</td>\n",
       "      <td>-78.476890</td>\n",
       "      <td>Belmont</td>\n",
       "      <td>22902</td>\n",
       "    </tr>\n",
       "    <tr>\n",
       "      <th>4</th>\n",
       "      <td>5</td>\n",
       "      <td>Assault Simple</td>\n",
       "      <td>202500013978</td>\n",
       "      <td>700</td>\n",
       "      <td>RAINIER RD</td>\n",
       "      <td>CPD</td>\n",
       "      <td>1949</td>\n",
       "      <td>Love-Baker, Sydney</td>\n",
       "      <td>2025-04-28 19:49:06</td>\n",
       "      <td>2025-04-28 07:49:06 PM</td>\n",
       "      <td>Monday</td>\n",
       "      <td>False</td>\n",
       "      <td>Spring</td>\n",
       "      <td>07:49 PM</td>\n",
       "      <td>Evening</td>\n",
       "      <td>700 RAINIER RD</td>\n",
       "      <td>38.019020</td>\n",
       "      <td>-78.507288</td>\n",
       "      <td>Johnson Village</td>\n",
       "      <td>22903</td>\n",
       "    </tr>\n",
       "  </tbody>\n",
       "</table>\n",
       "</div>"
      ],
      "text/plain": [
       "   RecordID                          Offense    IncidentID BlockNumber  \\\n",
       "0         1  Assist Citizen - Mental/TDO/ECO  202500014006         700   \n",
       "1         2              Larceny - All Other  202500013999         600   \n",
       "2         3                   Assault Simple  202500013991         900   \n",
       "3         4               Drug Investigation  202500013989         100   \n",
       "4         5                   Assault Simple  202500013978         700   \n",
       "\n",
       "       StreetName Agency HourReported    ReportingOfficer                Date  \\\n",
       "0       E MAIN ST    CPD         2321    Folston, Elliott 2025-04-28 23:21:21   \n",
       "1  BOLLING AVE, A    CPD         2222  Love-Baker, Sydney 2025-04-28 22:22:28   \n",
       "2    CHARLTON AVE    CPD         2129       Bland, Johnnà 2025-04-28 21:29:26   \n",
       "3       9TH ST SE    CPD         2112       Ryan, Matthew 2025-04-28 21:12:08   \n",
       "4      RAINIER RD    CPD         1949  Love-Baker, Sydney 2025-04-28 19:49:06   \n",
       "\n",
       "               DateString DayOfWeek  Weekend  Season  HourAMPM TimeOfDay  \\\n",
       "0  2025-04-28 11:21:21 PM    Monday    False  Spring  11:21 PM     Night   \n",
       "1  2025-04-28 10:22:28 PM    Monday    False  Spring  10:22 PM     Night   \n",
       "2  2025-04-28 09:29:26 PM    Monday    False  Spring  09:29 PM     Night   \n",
       "3  2025-04-28 09:12:08 PM    Monday    False  Spring  09:12 PM     Night   \n",
       "4  2025-04-28 07:49:06 PM    Monday    False  Spring  07:49 PM   Evening   \n",
       "\n",
       "           FullStreet        lat        lon     neighborhood    zip  \n",
       "0       700 E MAIN ST  38.029237 -78.476613    Downtown Mall  22902  \n",
       "1  600 BOLLING AVE, A  38.024092 -78.481255        Ridge St.  22903  \n",
       "2    900 CHARLTON AVE  38.038284 -78.487238        Rose Hill  22903  \n",
       "3       100 9TH ST SE  38.028000 -78.476890          Belmont  22902  \n",
       "4      700 RAINIER RD  38.019020 -78.507288  Johnson Village  22903  "
      ]
     },
     "execution_count": 11,
     "metadata": {},
     "output_type": "execute_result"
    }
   ],
   "source": [
    "# Initialize the geocoder.\n",
    "geolocator = Nominatim(user_agent=\"zip_lookup\")\n",
    "\n",
    "# Try to load a persistent ZIP cache if available.\n",
    "try:\n",
    "    with open(\"zip_cache.pkl\", \"rb\") as f:\n",
    "        zip_cache = pickle.load(f)\n",
    "    print(\"Loaded zip cache.\")\n",
    "except FileNotFoundError:\n",
    "    zip_cache = {}\n",
    "    print(\"No zip cache found; starting fresh.\")\n",
    "\n",
    "def get_zip(lat, lon):\n",
    "    \"\"\"\n",
    "    Reverse geocodes a latitude and longitude to retrieve the ZIP code.\n",
    "    Caches results to speed up subsequent lookups.\n",
    "    \"\"\"\n",
    "    key = (lat, lon)\n",
    "    if key in zip_cache:\n",
    "        return zip_cache[key]\n",
    "    \n",
    "    try:\n",
    "        location = geolocator.reverse((lat, lon), exactly_one=True, timeout=10)\n",
    "        address = location.raw.get('address', {})\n",
    "        postal_code = address.get('postcode', \"N/A\")\n",
    "    except Exception as e:\n",
    "        print(f\"Error getting ZIP for {lat}, {lon}: {e}\")\n",
    "        postal_code = \"N/A\"\n",
    "    \n",
    "    zip_cache[key] = postal_code\n",
    "    # Pause to respect the usage policy.\n",
    "    time.sleep(1)\n",
    "    return postal_code\n",
    "\n",
    "# Apply the function to each row in the DataFrame.\n",
    "df['zip'] = df.apply(lambda row: get_zip(row['lat'], row['lon']), axis=1)\n",
    "\n",
    "# Save the updated ZIP cache.\n",
    "with open(\"zip_cache.pkl\", \"wb\") as f:\n",
    "    pickle.dump(zip_cache, f)\n",
    "\n",
    "df.head()\n"
   ]
  },
  {
   "cell_type": "code",
   "execution_count": 12,
   "id": "a1a99051",
   "metadata": {
    "execution": {
     "iopub.execute_input": "2025-05-01T01:08:09.262319Z",
     "iopub.status.busy": "2025-05-01T01:08:09.261847Z",
     "iopub.status.idle": "2025-05-01T01:08:09.293448Z",
     "shell.execute_reply": "2025-05-01T01:08:09.292859Z"
    },
    "papermill": {
     "duration": 0.040464,
     "end_time": "2025-05-01T01:08:09.294482",
     "exception": false,
     "start_time": "2025-05-01T01:08:09.254018",
     "status": "completed"
    },
    "tags": []
   },
   "outputs": [
    {
     "name": "stdout",
     "output_type": "stream",
     "text": [
      "                  MissingCount  MissingPercentage\n",
      "RecordID                     0               0.00\n",
      "Offense                      0               0.00\n",
      "IncidentID                   0               0.00\n",
      "BlockNumber                  0               0.00\n",
      "StreetName                   0               0.00\n",
      "Agency                       0               0.00\n",
      "HourReported                 0               0.00\n",
      "ReportingOfficer            17               0.07\n",
      "Date                         0               0.00\n",
      "DateString                   0               0.00\n",
      "DayOfWeek                    0               0.00\n",
      "Weekend                      0               0.00\n",
      "Season                       0               0.00\n",
      "HourAMPM                     0               0.00\n",
      "TimeOfDay                    0               0.00\n",
      "FullStreet                   0               0.00\n",
      "lat                          0               0.00\n",
      "lon                          0               0.00\n",
      "neighborhood                 0               0.00\n",
      "zip                          0               0.00\n"
     ]
    }
   ],
   "source": [
    "missing_info = missing_percentage(df)\n",
    "print(missing_info)\n"
   ]
  },
  {
   "cell_type": "code",
   "execution_count": 13,
   "id": "f6c68f35",
   "metadata": {
    "execution": {
     "iopub.execute_input": "2025-05-01T01:08:09.309761Z",
     "iopub.status.busy": "2025-05-01T01:08:09.309276Z",
     "iopub.status.idle": "2025-05-01T01:08:09.341408Z",
     "shell.execute_reply": "2025-05-01T01:08:09.340822Z"
    },
    "papermill": {
     "duration": 0.040746,
     "end_time": "2025-05-01T01:08:09.342502",
     "exception": false,
     "start_time": "2025-05-01T01:08:09.301756",
     "status": "completed"
    },
    "tags": []
   },
   "outputs": [
    {
     "name": "stdout",
     "output_type": "stream",
     "text": [
      "<class 'pandas.core.frame.DataFrame'>\n",
      "RangeIndex: 25293 entries, 0 to 25292\n",
      "Data columns (total 20 columns):\n",
      " #   Column            Non-Null Count  Dtype         \n",
      "---  ------            --------------  -----         \n",
      " 0   RecordID          25293 non-null  int64         \n",
      " 1   Offense           25293 non-null  object        \n",
      " 2   IncidentID        25293 non-null  object        \n",
      " 3   BlockNumber       25293 non-null  object        \n",
      " 4   StreetName        25293 non-null  object        \n",
      " 5   Agency            25293 non-null  object        \n",
      " 6   HourReported      25293 non-null  object        \n",
      " 7   ReportingOfficer  25276 non-null  object        \n",
      " 8   Date              25293 non-null  datetime64[ns]\n",
      " 9   DateString        25293 non-null  object        \n",
      " 10  DayOfWeek         25293 non-null  object        \n",
      " 11  Weekend           25293 non-null  bool          \n",
      " 12  Season            25293 non-null  object        \n",
      " 13  HourAMPM          25293 non-null  object        \n",
      " 14  TimeOfDay         25293 non-null  object        \n",
      " 15  FullStreet        25293 non-null  object        \n",
      " 16  lat               25293 non-null  float64       \n",
      " 17  lon               25293 non-null  float64       \n",
      " 18  neighborhood      25293 non-null  object        \n",
      " 19  zip               25293 non-null  object        \n",
      "dtypes: bool(1), datetime64[ns](1), float64(2), int64(1), object(15)\n",
      "memory usage: 3.7+ MB\n"
     ]
    }
   ],
   "source": [
    "df.info()"
   ]
  },
  {
   "cell_type": "code",
   "execution_count": 14,
   "id": "b2dec800",
   "metadata": {
    "execution": {
     "iopub.execute_input": "2025-05-01T01:08:09.358065Z",
     "iopub.status.busy": "2025-05-01T01:08:09.357535Z",
     "iopub.status.idle": "2025-05-01T01:08:09.404792Z",
     "shell.execute_reply": "2025-05-01T01:08:09.404065Z"
    },
    "papermill": {
     "duration": 0.055931,
     "end_time": "2025-05-01T01:08:09.405863",
     "exception": false,
     "start_time": "2025-05-01T01:08:09.349932",
     "status": "completed"
    },
    "tags": []
   },
   "outputs": [
    {
     "data": {
      "text/html": [
       "<div>\n",
       "<style scoped>\n",
       "    .dataframe tbody tr th:only-of-type {\n",
       "        vertical-align: middle;\n",
       "    }\n",
       "\n",
       "    .dataframe tbody tr th {\n",
       "        vertical-align: top;\n",
       "    }\n",
       "\n",
       "    .dataframe thead th {\n",
       "        text-align: right;\n",
       "    }\n",
       "</style>\n",
       "<table border=\"1\" class=\"dataframe\">\n",
       "  <thead>\n",
       "    <tr style=\"text-align: right;\">\n",
       "      <th></th>\n",
       "      <th>RecordID</th>\n",
       "      <th>Offense</th>\n",
       "      <th>IncidentID</th>\n",
       "      <th>Agency</th>\n",
       "      <th>ReportingOfficer</th>\n",
       "      <th>Date</th>\n",
       "      <th>DayOfWeek</th>\n",
       "      <th>Weekend</th>\n",
       "      <th>Season</th>\n",
       "      <th>TimeOfDay</th>\n",
       "      <th>FullStreet</th>\n",
       "      <th>lat</th>\n",
       "      <th>lon</th>\n",
       "      <th>neighborhood</th>\n",
       "      <th>zip</th>\n",
       "    </tr>\n",
       "  </thead>\n",
       "  <tbody>\n",
       "    <tr>\n",
       "      <th>0</th>\n",
       "      <td>1</td>\n",
       "      <td>Assist Citizen - Mental/TDO/ECO</td>\n",
       "      <td>202500014006</td>\n",
       "      <td>CPD</td>\n",
       "      <td>Folston, Elliott</td>\n",
       "      <td>2025-04-28 23:21:21</td>\n",
       "      <td>Monday</td>\n",
       "      <td>False</td>\n",
       "      <td>Spring</td>\n",
       "      <td>Night</td>\n",
       "      <td>700 E MAIN ST</td>\n",
       "      <td>38.029237</td>\n",
       "      <td>-78.476613</td>\n",
       "      <td>Downtown Mall</td>\n",
       "      <td>22902</td>\n",
       "    </tr>\n",
       "    <tr>\n",
       "      <th>1</th>\n",
       "      <td>2</td>\n",
       "      <td>Larceny - All Other</td>\n",
       "      <td>202500013999</td>\n",
       "      <td>CPD</td>\n",
       "      <td>Love-Baker, Sydney</td>\n",
       "      <td>2025-04-28 22:22:28</td>\n",
       "      <td>Monday</td>\n",
       "      <td>False</td>\n",
       "      <td>Spring</td>\n",
       "      <td>Night</td>\n",
       "      <td>600 BOLLING AVE, A</td>\n",
       "      <td>38.024092</td>\n",
       "      <td>-78.481255</td>\n",
       "      <td>Ridge St.</td>\n",
       "      <td>22903</td>\n",
       "    </tr>\n",
       "    <tr>\n",
       "      <th>2</th>\n",
       "      <td>3</td>\n",
       "      <td>Assault Simple</td>\n",
       "      <td>202500013991</td>\n",
       "      <td>CPD</td>\n",
       "      <td>Bland, Johnnà</td>\n",
       "      <td>2025-04-28 21:29:26</td>\n",
       "      <td>Monday</td>\n",
       "      <td>False</td>\n",
       "      <td>Spring</td>\n",
       "      <td>Night</td>\n",
       "      <td>900 CHARLTON AVE</td>\n",
       "      <td>38.038284</td>\n",
       "      <td>-78.487238</td>\n",
       "      <td>Rose Hill</td>\n",
       "      <td>22903</td>\n",
       "    </tr>\n",
       "    <tr>\n",
       "      <th>3</th>\n",
       "      <td>4</td>\n",
       "      <td>Drug Investigation</td>\n",
       "      <td>202500013989</td>\n",
       "      <td>CPD</td>\n",
       "      <td>Ryan, Matthew</td>\n",
       "      <td>2025-04-28 21:12:08</td>\n",
       "      <td>Monday</td>\n",
       "      <td>False</td>\n",
       "      <td>Spring</td>\n",
       "      <td>Night</td>\n",
       "      <td>100 9TH ST SE</td>\n",
       "      <td>38.028000</td>\n",
       "      <td>-78.476890</td>\n",
       "      <td>Belmont</td>\n",
       "      <td>22902</td>\n",
       "    </tr>\n",
       "    <tr>\n",
       "      <th>4</th>\n",
       "      <td>5</td>\n",
       "      <td>Assault Simple</td>\n",
       "      <td>202500013978</td>\n",
       "      <td>CPD</td>\n",
       "      <td>Love-Baker, Sydney</td>\n",
       "      <td>2025-04-28 19:49:06</td>\n",
       "      <td>Monday</td>\n",
       "      <td>False</td>\n",
       "      <td>Spring</td>\n",
       "      <td>Evening</td>\n",
       "      <td>700 RAINIER RD</td>\n",
       "      <td>38.019020</td>\n",
       "      <td>-78.507288</td>\n",
       "      <td>Johnson Village</td>\n",
       "      <td>22903</td>\n",
       "    </tr>\n",
       "  </tbody>\n",
       "</table>\n",
       "</div>"
      ],
      "text/plain": [
       "   RecordID                          Offense    IncidentID Agency  \\\n",
       "0         1  Assist Citizen - Mental/TDO/ECO  202500014006    CPD   \n",
       "1         2              Larceny - All Other  202500013999    CPD   \n",
       "2         3                   Assault Simple  202500013991    CPD   \n",
       "3         4               Drug Investigation  202500013989    CPD   \n",
       "4         5                   Assault Simple  202500013978    CPD   \n",
       "\n",
       "     ReportingOfficer                Date DayOfWeek  Weekend  Season  \\\n",
       "0    Folston, Elliott 2025-04-28 23:21:21    Monday    False  Spring   \n",
       "1  Love-Baker, Sydney 2025-04-28 22:22:28    Monday    False  Spring   \n",
       "2       Bland, Johnnà 2025-04-28 21:29:26    Monday    False  Spring   \n",
       "3       Ryan, Matthew 2025-04-28 21:12:08    Monday    False  Spring   \n",
       "4  Love-Baker, Sydney 2025-04-28 19:49:06    Monday    False  Spring   \n",
       "\n",
       "  TimeOfDay          FullStreet        lat        lon     neighborhood    zip  \n",
       "0     Night       700 E MAIN ST  38.029237 -78.476613    Downtown Mall  22902  \n",
       "1     Night  600 BOLLING AVE, A  38.024092 -78.481255        Ridge St.  22903  \n",
       "2     Night    900 CHARLTON AVE  38.038284 -78.487238        Rose Hill  22903  \n",
       "3     Night       100 9TH ST SE  38.028000 -78.476890          Belmont  22902  \n",
       "4   Evening      700 RAINIER RD  38.019020 -78.507288  Johnson Village  22903  "
      ]
     },
     "execution_count": 14,
     "metadata": {},
     "output_type": "execute_result"
    }
   ],
   "source": [
    "# Now drop the original BlockNumber and StreetName columns\n",
    "df.drop(columns=['BlockNumber', 'StreetName','HourAMPM','HourReported','DateString'], inplace=True)\n",
    "df[\"zip\"] = df[\"zip\"].astype(str)\n",
    "\n",
    "# Fill all missing values in the DataFrame with \"N/A\"\n",
    "df.replace({None: \"N/A\", np.nan: \"N/A\", \"\": \"N/A\"}, inplace=True)\n",
    "df.head()"
   ]
  },
  {
   "cell_type": "code",
   "execution_count": 15,
   "id": "482ed0ad",
   "metadata": {
    "execution": {
     "iopub.execute_input": "2025-05-01T01:08:09.421997Z",
     "iopub.status.busy": "2025-05-01T01:08:09.421364Z",
     "iopub.status.idle": "2025-05-01T01:08:09.442269Z",
     "shell.execute_reply": "2025-05-01T01:08:09.441667Z"
    },
    "papermill": {
     "duration": 0.029792,
     "end_time": "2025-05-01T01:08:09.443301",
     "exception": false,
     "start_time": "2025-05-01T01:08:09.413509",
     "status": "completed"
    },
    "tags": []
   },
   "outputs": [
    {
     "name": "stdout",
     "output_type": "stream",
     "text": [
      "                  MissingCount  MissingPercentage\n",
      "RecordID                     0                0.0\n",
      "Offense                      0                0.0\n",
      "IncidentID                   0                0.0\n",
      "Agency                       0                0.0\n",
      "ReportingOfficer             0                0.0\n",
      "Date                         0                0.0\n",
      "DayOfWeek                    0                0.0\n",
      "Weekend                      0                0.0\n",
      "Season                       0                0.0\n",
      "TimeOfDay                    0                0.0\n",
      "FullStreet                   0                0.0\n",
      "lat                          0                0.0\n",
      "lon                          0                0.0\n",
      "neighborhood                 0                0.0\n",
      "zip                          0                0.0\n"
     ]
    }
   ],
   "source": [
    "missing_info = missing_percentage(df)\n",
    "print(missing_info)"
   ]
  },
  {
   "cell_type": "code",
   "execution_count": 16,
   "id": "25f4cf46",
   "metadata": {
    "execution": {
     "iopub.execute_input": "2025-05-01T01:08:09.459697Z",
     "iopub.status.busy": "2025-05-01T01:08:09.459269Z",
     "iopub.status.idle": "2025-05-01T01:08:09.463772Z",
     "shell.execute_reply": "2025-05-01T01:08:09.463213Z"
    },
    "papermill": {
     "duration": 0.013392,
     "end_time": "2025-05-01T01:08:09.464765",
     "exception": false,
     "start_time": "2025-05-01T01:08:09.451373",
     "status": "completed"
    },
    "tags": []
   },
   "outputs": [
    {
     "data": {
      "text/plain": [
       "Index(['RecordID', 'Offense', 'IncidentID', 'Agency', 'ReportingOfficer',\n",
       "       'Date', 'DayOfWeek', 'Weekend', 'Season', 'TimeOfDay', 'FullStreet',\n",
       "       'lat', 'lon', 'neighborhood', 'zip'],\n",
       "      dtype='object')"
      ]
     },
     "execution_count": 16,
     "metadata": {},
     "output_type": "execute_result"
    }
   ],
   "source": [
    "df.columns"
   ]
  },
  {
   "cell_type": "code",
   "execution_count": 17,
   "id": "cbc3fe40",
   "metadata": {
    "execution": {
     "iopub.execute_input": "2025-05-01T01:08:09.480583Z",
     "iopub.status.busy": "2025-05-01T01:08:09.480180Z",
     "iopub.status.idle": "2025-05-01T01:08:09.503220Z",
     "shell.execute_reply": "2025-05-01T01:08:09.502601Z"
    },
    "papermill": {
     "duration": 0.032066,
     "end_time": "2025-05-01T01:08:09.504334",
     "exception": false,
     "start_time": "2025-05-01T01:08:09.472268",
     "status": "completed"
    },
    "tags": []
   },
   "outputs": [
    {
     "name": "stdout",
     "output_type": "stream",
     "text": [
      "<class 'pandas.core.frame.DataFrame'>\n",
      "RangeIndex: 25293 entries, 0 to 25292\n",
      "Data columns (total 15 columns):\n",
      " #   Column            Non-Null Count  Dtype         \n",
      "---  ------            --------------  -----         \n",
      " 0   RecordID          25293 non-null  int64         \n",
      " 1   Offense           25293 non-null  object        \n",
      " 2   IncidentID        25293 non-null  object        \n",
      " 3   Agency            25293 non-null  object        \n",
      " 4   ReportingOfficer  25293 non-null  object        \n",
      " 5   Date              25293 non-null  datetime64[ns]\n",
      " 6   DayOfWeek         25293 non-null  object        \n",
      " 7   Weekend           25293 non-null  bool          \n",
      " 8   Season            25293 non-null  object        \n",
      " 9   TimeOfDay         25293 non-null  object        \n",
      " 10  FullStreet        25293 non-null  object        \n",
      " 11  lat               25293 non-null  float64       \n",
      " 12  lon               25293 non-null  float64       \n",
      " 13  neighborhood      25293 non-null  object        \n",
      " 14  zip               25293 non-null  object        \n",
      "dtypes: bool(1), datetime64[ns](1), float64(2), int64(1), object(10)\n",
      "memory usage: 2.7+ MB\n"
     ]
    }
   ],
   "source": [
    "df.info()"
   ]
  },
  {
   "cell_type": "markdown",
   "id": "cc877831",
   "metadata": {
    "papermill": {
     "duration": 0.007399,
     "end_time": "2025-05-01T01:08:09.519550",
     "exception": false,
     "start_time": "2025-05-01T01:08:09.512151",
     "status": "completed"
    },
    "tags": []
   },
   "source": [
    "### Export Clean Data"
   ]
  },
  {
   "cell_type": "code",
   "execution_count": 18,
   "id": "ff102e52",
   "metadata": {
    "execution": {
     "iopub.execute_input": "2025-05-01T01:08:09.536217Z",
     "iopub.status.busy": "2025-05-01T01:08:09.535728Z",
     "iopub.status.idle": "2025-05-01T01:08:18.913339Z",
     "shell.execute_reply": "2025-05-01T01:08:18.912573Z"
    },
    "papermill": {
     "duration": 9.387216,
     "end_time": "2025-05-01T01:08:18.914416",
     "exception": false,
     "start_time": "2025-05-01T01:08:09.527200",
     "status": "completed"
    },
    "tags": []
   },
   "outputs": [
    {
     "name": "stdout",
     "output_type": "stream",
     "text": [
      "Project Root: /home/runner/work/crime-data/crime-data\n"
     ]
    },
    {
     "name": "stdout",
     "output_type": "stream",
     "text": [
      "Data saved to: /home/runner/work/crime-data/crime-data/data/charlottesville_crime_incidents.csv\n"
     ]
    },
    {
     "name": "stdout",
     "output_type": "stream",
     "text": [
      "Excel saved to: /home/runner/work/crime-data/crime-data/data/charlottesville_crime_incidents.xlsx\n"
     ]
    }
   ],
   "source": [
    "# Determine the project root (assuming papermill is run from the repository root)\n",
    "project_root = os.getcwd()\n",
    "print(\"Project Root:\", project_root)\n",
    "\n",
    "# Set the data directory within the project root\n",
    "data_dir = os.path.join(project_root, \"data\")\n",
    "\n",
    "# Ensure the \"data\" directory exists (create it if it doesn't)\n",
    "if not os.path.exists(data_dir):\n",
    "    os.makedirs(data_dir)\n",
    "\n",
    "# Export the DataFrame to CSV in the \"data\" folder located in the project root\n",
    "csv_path = os.path.join(data_dir, \"charlottesville_crime_incidents.csv\")\n",
    "df.to_csv(csv_path, index=False)\n",
    "print(\"Data saved to:\", csv_path)\n",
    "\n",
    "# Construct the path to your Excel file\n",
    "excel_path = os.path.join(data_dir, \"charlottesville_crime_incidents.xlsx\")\n",
    "\n",
    "# Export the DataFrame to Excel\n",
    "df.to_excel(excel_path, index=False)\n",
    "print(\"Excel saved to:\", excel_path)\n"
   ]
  },
  {
   "cell_type": "markdown",
   "id": "682c1246",
   "metadata": {
    "papermill": {
     "duration": 0.00755,
     "end_time": "2025-05-01T01:08:18.929776",
     "exception": false,
     "start_time": "2025-05-01T01:08:18.922226",
     "status": "completed"
    },
    "tags": []
   },
   "source": [
    "## Predictive Analytics"
   ]
  },
  {
   "cell_type": "code",
   "execution_count": 19,
   "id": "94e18f73",
   "metadata": {
    "execution": {
     "iopub.execute_input": "2025-05-01T01:08:18.945997Z",
     "iopub.status.busy": "2025-05-01T01:08:18.945716Z",
     "iopub.status.idle": "2025-05-01T01:08:18.957944Z",
     "shell.execute_reply": "2025-05-01T01:08:18.957254Z"
    },
    "papermill": {
     "duration": 0.021639,
     "end_time": "2025-05-01T01:08:18.958943",
     "exception": false,
     "start_time": "2025-05-01T01:08:18.937304",
     "status": "completed"
    },
    "tags": []
   },
   "outputs": [
    {
     "data": {
      "text/html": [
       "<div>\n",
       "<style scoped>\n",
       "    .dataframe tbody tr th:only-of-type {\n",
       "        vertical-align: middle;\n",
       "    }\n",
       "\n",
       "    .dataframe tbody tr th {\n",
       "        vertical-align: top;\n",
       "    }\n",
       "\n",
       "    .dataframe thead th {\n",
       "        text-align: right;\n",
       "    }\n",
       "</style>\n",
       "<table border=\"1\" class=\"dataframe\">\n",
       "  <thead>\n",
       "    <tr style=\"text-align: right;\">\n",
       "      <th></th>\n",
       "      <th>RecordID</th>\n",
       "      <th>Offense</th>\n",
       "      <th>IncidentID</th>\n",
       "      <th>Agency</th>\n",
       "      <th>ReportingOfficer</th>\n",
       "      <th>Date</th>\n",
       "      <th>DayOfWeek</th>\n",
       "      <th>Weekend</th>\n",
       "      <th>Season</th>\n",
       "      <th>TimeOfDay</th>\n",
       "      <th>FullStreet</th>\n",
       "      <th>lat</th>\n",
       "      <th>lon</th>\n",
       "      <th>neighborhood</th>\n",
       "      <th>zip</th>\n",
       "    </tr>\n",
       "  </thead>\n",
       "  <tbody>\n",
       "    <tr>\n",
       "      <th>0</th>\n",
       "      <td>1</td>\n",
       "      <td>Assist Citizen - Mental/TDO/ECO</td>\n",
       "      <td>202500014006</td>\n",
       "      <td>CPD</td>\n",
       "      <td>Folston, Elliott</td>\n",
       "      <td>2025-04-28 23:21:21</td>\n",
       "      <td>Monday</td>\n",
       "      <td>False</td>\n",
       "      <td>Spring</td>\n",
       "      <td>Night</td>\n",
       "      <td>700 E MAIN ST</td>\n",
       "      <td>38.029237</td>\n",
       "      <td>-78.476613</td>\n",
       "      <td>Downtown Mall</td>\n",
       "      <td>22902</td>\n",
       "    </tr>\n",
       "    <tr>\n",
       "      <th>1</th>\n",
       "      <td>2</td>\n",
       "      <td>Larceny - All Other</td>\n",
       "      <td>202500013999</td>\n",
       "      <td>CPD</td>\n",
       "      <td>Love-Baker, Sydney</td>\n",
       "      <td>2025-04-28 22:22:28</td>\n",
       "      <td>Monday</td>\n",
       "      <td>False</td>\n",
       "      <td>Spring</td>\n",
       "      <td>Night</td>\n",
       "      <td>600 BOLLING AVE, A</td>\n",
       "      <td>38.024092</td>\n",
       "      <td>-78.481255</td>\n",
       "      <td>Ridge St.</td>\n",
       "      <td>22903</td>\n",
       "    </tr>\n",
       "    <tr>\n",
       "      <th>2</th>\n",
       "      <td>3</td>\n",
       "      <td>Assault Simple</td>\n",
       "      <td>202500013991</td>\n",
       "      <td>CPD</td>\n",
       "      <td>Bland, Johnnà</td>\n",
       "      <td>2025-04-28 21:29:26</td>\n",
       "      <td>Monday</td>\n",
       "      <td>False</td>\n",
       "      <td>Spring</td>\n",
       "      <td>Night</td>\n",
       "      <td>900 CHARLTON AVE</td>\n",
       "      <td>38.038284</td>\n",
       "      <td>-78.487238</td>\n",
       "      <td>Rose Hill</td>\n",
       "      <td>22903</td>\n",
       "    </tr>\n",
       "    <tr>\n",
       "      <th>3</th>\n",
       "      <td>4</td>\n",
       "      <td>Drug Investigation</td>\n",
       "      <td>202500013989</td>\n",
       "      <td>CPD</td>\n",
       "      <td>Ryan, Matthew</td>\n",
       "      <td>2025-04-28 21:12:08</td>\n",
       "      <td>Monday</td>\n",
       "      <td>False</td>\n",
       "      <td>Spring</td>\n",
       "      <td>Night</td>\n",
       "      <td>100 9TH ST SE</td>\n",
       "      <td>38.028000</td>\n",
       "      <td>-78.476890</td>\n",
       "      <td>Belmont</td>\n",
       "      <td>22902</td>\n",
       "    </tr>\n",
       "    <tr>\n",
       "      <th>4</th>\n",
       "      <td>5</td>\n",
       "      <td>Assault Simple</td>\n",
       "      <td>202500013978</td>\n",
       "      <td>CPD</td>\n",
       "      <td>Love-Baker, Sydney</td>\n",
       "      <td>2025-04-28 19:49:06</td>\n",
       "      <td>Monday</td>\n",
       "      <td>False</td>\n",
       "      <td>Spring</td>\n",
       "      <td>Evening</td>\n",
       "      <td>700 RAINIER RD</td>\n",
       "      <td>38.019020</td>\n",
       "      <td>-78.507288</td>\n",
       "      <td>Johnson Village</td>\n",
       "      <td>22903</td>\n",
       "    </tr>\n",
       "  </tbody>\n",
       "</table>\n",
       "</div>"
      ],
      "text/plain": [
       "   RecordID                          Offense    IncidentID Agency  \\\n",
       "0         1  Assist Citizen - Mental/TDO/ECO  202500014006    CPD   \n",
       "1         2              Larceny - All Other  202500013999    CPD   \n",
       "2         3                   Assault Simple  202500013991    CPD   \n",
       "3         4               Drug Investigation  202500013989    CPD   \n",
       "4         5                   Assault Simple  202500013978    CPD   \n",
       "\n",
       "     ReportingOfficer                Date DayOfWeek  Weekend  Season  \\\n",
       "0    Folston, Elliott 2025-04-28 23:21:21    Monday    False  Spring   \n",
       "1  Love-Baker, Sydney 2025-04-28 22:22:28    Monday    False  Spring   \n",
       "2       Bland, Johnnà 2025-04-28 21:29:26    Monday    False  Spring   \n",
       "3       Ryan, Matthew 2025-04-28 21:12:08    Monday    False  Spring   \n",
       "4  Love-Baker, Sydney 2025-04-28 19:49:06    Monday    False  Spring   \n",
       "\n",
       "  TimeOfDay          FullStreet        lat        lon     neighborhood    zip  \n",
       "0     Night       700 E MAIN ST  38.029237 -78.476613    Downtown Mall  22902  \n",
       "1     Night  600 BOLLING AVE, A  38.024092 -78.481255        Ridge St.  22903  \n",
       "2     Night    900 CHARLTON AVE  38.038284 -78.487238        Rose Hill  22903  \n",
       "3     Night       100 9TH ST SE  38.028000 -78.476890          Belmont  22902  \n",
       "4   Evening      700 RAINIER RD  38.019020 -78.507288  Johnson Village  22903  "
      ]
     },
     "execution_count": 19,
     "metadata": {},
     "output_type": "execute_result"
    }
   ],
   "source": [
    "df.head()"
   ]
  },
  {
   "cell_type": "code",
   "execution_count": 20,
   "id": "370d3999",
   "metadata": {
    "execution": {
     "iopub.execute_input": "2025-05-01T01:08:18.975634Z",
     "iopub.status.busy": "2025-05-01T01:08:18.975422Z",
     "iopub.status.idle": "2025-05-01T01:08:18.980125Z",
     "shell.execute_reply": "2025-05-01T01:08:18.979454Z"
    },
    "papermill": {
     "duration": 0.014108,
     "end_time": "2025-05-01T01:08:18.981116",
     "exception": false,
     "start_time": "2025-05-01T01:08:18.967008",
     "status": "completed"
    },
    "tags": []
   },
   "outputs": [
    {
     "data": {
      "text/plain": [
       "Index(['RecordID', 'Offense', 'IncidentID', 'Agency', 'ReportingOfficer',\n",
       "       'Date', 'DayOfWeek', 'Weekend', 'Season', 'TimeOfDay', 'FullStreet',\n",
       "       'lat', 'lon', 'neighborhood', 'zip'],\n",
       "      dtype='object')"
      ]
     },
     "execution_count": 20,
     "metadata": {},
     "output_type": "execute_result"
    }
   ],
   "source": [
    "df.columns"
   ]
  },
  {
   "cell_type": "markdown",
   "id": "eafba7f1",
   "metadata": {
    "papermill": {
     "duration": 0.007931,
     "end_time": "2025-05-01T01:08:18.997113",
     "exception": false,
     "start_time": "2025-05-01T01:08:18.989182",
     "status": "completed"
    },
    "tags": []
   },
   "source": [
    "### Data Preparation\n",
    "\n",
    "We need to ensure the data is in the correct format for modeling and can handle missing values, categorical variables, and dates. Here's how to prepare your data:"
   ]
  },
  {
   "cell_type": "code",
   "execution_count": 21,
   "id": "ba99e060",
   "metadata": {
    "execution": {
     "iopub.execute_input": "2025-05-01T01:08:19.014164Z",
     "iopub.status.busy": "2025-05-01T01:08:19.013730Z",
     "iopub.status.idle": "2025-05-01T01:08:20.533453Z",
     "shell.execute_reply": "2025-05-01T01:08:20.532626Z"
    },
    "papermill": {
     "duration": 1.530064,
     "end_time": "2025-05-01T01:08:20.535011",
     "exception": false,
     "start_time": "2025-05-01T01:08:19.004947",
     "status": "completed"
    },
    "tags": []
   },
   "outputs": [],
   "source": [
    "import pandas as pd\n",
    "from sklearn.model_selection import train_test_split\n",
    "from sklearn.preprocessing import OneHotEncoder, LabelEncoder\n",
    "from sklearn.ensemble import RandomForestClassifier\n",
    "from sklearn.linear_model import LogisticRegression\n",
    "from sklearn.tree import DecisionTreeClassifier\n",
    "from sklearn.metrics import classification_report, accuracy_score\n",
    "import seaborn as sns\n",
    "import matplotlib.pyplot as plt\n",
    "\n",
    "# Convert 'Date' to datetime\n",
    "df['Date'] = pd.to_datetime(df['Date'])\n",
    "\n",
    "# Feature engineering: Extract additional time-based features\n",
    "df['Year'] = df['Date'].dt.year\n",
    "df['Month'] = df['Date'].dt.month\n",
    "df['DayOfMonth'] = df['Date'].dt.day\n",
    "\n",
    "# One-hot encoding for 'FullStreet', 'neighborhood', 'zip'\n",
    "df = pd.get_dummies(df, columns=['FullStreet', 'neighborhood', 'zip'], drop_first=True)\n",
    "\n",
    "# Label encoding for ordered variables (those with a natural order like 'DayOfWeek', 'Season', 'TimeOfDay')\n",
    "label_encoders = {}\n",
    "for column in ['DayOfWeek', 'Season', 'TimeOfDay', 'Agency', 'ReportingOfficer']:  # Example ordinal variables\n",
    "    le = LabelEncoder()\n",
    "    df[column] = le.fit_transform(df[column])\n",
    "    label_encoders[column] = le\n",
    "\n",
    "# Filter the dataset to include only the offenses of interest\n",
    "offenses_of_interest = [\n",
    "    'Hit and Run', 'Assault Simple', 'Suspicious Activity', 'Vandalism', \n",
    "    'Larceny - From Mot Vehicle', 'Larceny - All Other', \n",
    "    'Assist Citizen - Mental/TDO/ECO', 'Lost/FoundProperty'\n",
    "]\n",
    "\n",
    "df = df[df['Offense'].isin(offenses_of_interest)]\n",
    "\n",
    "# Label encode the target variable (Offense)\n",
    "offense_encoder = LabelEncoder()\n",
    "df['Offense'] = offense_encoder.fit_transform(df['Offense'])\n",
    "\n",
    "# Separate features (X) and target (y)\n",
    "X = df[['Year', 'Month', 'DayOfMonth', 'DayOfWeek', 'Weekend', 'Season', 'TimeOfDay', 'lat', 'lon', 'Agency', 'ReportingOfficer']]\n",
    "y = df['Offense']  # Offense is now the encoded target variable\n",
    "\n",
    "# Split the data into training and testing sets\n",
    "X_train, X_test, y_train, y_test = train_test_split(X, y, test_size=0.3, random_state=42)\n"
   ]
  },
  {
   "cell_type": "markdown",
   "id": "d481d1a5",
   "metadata": {
    "papermill": {
     "duration": 0.008063,
     "end_time": "2025-05-01T01:08:20.551395",
     "exception": false,
     "start_time": "2025-05-01T01:08:20.543332",
     "status": "completed"
    },
    "tags": []
   },
   "source": [
    "### Model Training\n",
    "\n",
    "Here we will train several models (e.g., Random Forest, Logistic Regression, and Decision Tree). We will use cross-validation to choose the best model based on accuracy, and then explain the impact of the variables."
   ]
  },
  {
   "cell_type": "code",
   "execution_count": 22,
   "id": "95c4359b",
   "metadata": {
    "execution": {
     "iopub.execute_input": "2025-05-01T01:08:20.569846Z",
     "iopub.status.busy": "2025-05-01T01:08:20.569337Z",
     "iopub.status.idle": "2025-05-01T01:08:24.141732Z",
     "shell.execute_reply": "2025-05-01T01:08:24.141065Z"
    },
    "papermill": {
     "duration": 3.582572,
     "end_time": "2025-05-01T01:08:24.142837",
     "exception": false,
     "start_time": "2025-05-01T01:08:20.560265",
     "status": "completed"
    },
    "tags": []
   },
   "outputs": [
    {
     "name": "stderr",
     "output_type": "stream",
     "text": [
      "/opt/hostedtoolcache/Python/3.9.22/x64/lib/python3.9/site-packages/sklearn/linear_model/_logistic.py:465: ConvergenceWarning: lbfgs failed to converge (status=1):\n",
      "STOP: TOTAL NO. of ITERATIONS REACHED LIMIT.\n",
      "\n",
      "Increase the number of iterations (max_iter) or scale the data as shown in:\n",
      "    https://scikit-learn.org/stable/modules/preprocessing.html\n",
      "Please also refer to the documentation for alternative solver options:\n",
      "    https://scikit-learn.org/stable/modules/linear_model.html#logistic-regression\n",
      "  n_iter_i = _check_optimize_result(\n",
      "/opt/hostedtoolcache/Python/3.9.22/x64/lib/python3.9/site-packages/sklearn/metrics/_classification.py:1565: UndefinedMetricWarning: Precision is ill-defined and being set to 0.0 in labels with no predicted samples. Use `zero_division` parameter to control this behavior.\n",
      "  _warn_prf(average, modifier, f\"{metric.capitalize()} is\", len(result))\n",
      "/opt/hostedtoolcache/Python/3.9.22/x64/lib/python3.9/site-packages/sklearn/metrics/_classification.py:1565: UndefinedMetricWarning: Precision is ill-defined and being set to 0.0 in labels with no predicted samples. Use `zero_division` parameter to control this behavior.\n",
      "  _warn_prf(average, modifier, f\"{metric.capitalize()} is\", len(result))\n",
      "/opt/hostedtoolcache/Python/3.9.22/x64/lib/python3.9/site-packages/sklearn/metrics/_classification.py:1565: UndefinedMetricWarning: Precision is ill-defined and being set to 0.0 in labels with no predicted samples. Use `zero_division` parameter to control this behavior.\n",
      "  _warn_prf(average, modifier, f\"{metric.capitalize()} is\", len(result))\n"
     ]
    },
    {
     "name": "stdout",
     "output_type": "stream",
     "text": [
      "\n",
      "Classification Report for All Models:\n",
      "\n",
      "Model: RandomForest\n",
      "Accuracy: 0.2794\n",
      "              precision    recall  f1-score      support\n",
      "0              0.291262  0.351759  0.318665   597.000000\n",
      "1              0.266212  0.187050  0.219718   417.000000\n",
      "2              0.295760  0.440678  0.353960   649.000000\n",
      "3              0.204360  0.166667  0.183599   450.000000\n",
      "4              0.369099  0.231183  0.284298   372.000000\n",
      "5              0.247241  0.219178  0.232365   511.000000\n",
      "6              0.280822  0.258403  0.269147   476.000000\n",
      "accuracy       0.279378  0.279378  0.279378     0.279378\n",
      "macro avg      0.279251  0.264988  0.265964  3472.000000\n",
      "weighted avg   0.278260  0.279378  0.272700  3472.000000\n"
     ]
    },
    {
     "data": {
      "image/png": "[encoded data removed]",
      "text/plain": [
       "<Figure size 800x600 with 2 Axes>"
      ]
     },
     "metadata": {},
     "output_type": "display_data"
    },
    {
     "name": "stdout",
     "output_type": "stream",
     "text": [
      "\n",
      "Model: LogisticRegression\n",
      "Accuracy: 0.2157\n",
      "              precision    recall  f1-score      support\n",
      "0              0.222400  0.465662  0.301029   597.000000\n",
      "1              0.000000  0.000000  0.000000   417.000000\n",
      "2              0.211971  0.725732  0.328109   649.000000\n",
      "3              0.000000  0.000000  0.000000   450.000000\n",
      "4              0.000000  0.000000  0.000000   372.000000\n",
      "5              0.000000  0.000000  0.000000   511.000000\n",
      "6              0.000000  0.000000  0.000000   476.000000\n",
      "accuracy       0.215726  0.215726  0.215726     0.215726\n",
      "macro avg      0.062053  0.170199  0.089877  3472.000000\n",
      "weighted avg   0.077864  0.215726  0.113092  3472.000000\n"
     ]
    },
    {
     "data": {
      "image/png": "[encoded data removed]",
      "text/plain": [
       "<Figure size 800x600 with 2 Axes>"
      ]
     },
     "metadata": {},
     "output_type": "display_data"
    },
    {
     "name": "stdout",
     "output_type": "stream",
     "text": [
      "\n",
      "Model: DecisionTree\n",
      "Accuracy: 0.2232\n",
      "              precision    recall  f1-score      support\n",
      "0              0.245791  0.244556  0.245172   597.000000\n",
      "1              0.200957  0.201439  0.201198   417.000000\n",
      "2              0.270898  0.269646  0.270270   649.000000\n",
      "3              0.186047  0.195556  0.190683   450.000000\n",
      "4              0.199461  0.198925  0.199192   372.000000\n",
      "5              0.200000  0.193738  0.196819   511.000000\n",
      "6              0.229474  0.228992  0.229232   476.000000\n",
      "accuracy       0.223214  0.223214  0.223214     0.223214\n",
      "macro avg      0.218947  0.218979  0.218938  3472.000000\n",
      "weighted avg   0.223416  0.223214  0.223292  3472.000000\n"
     ]
    },
    {
     "data": {
      "image/png": "[encoded data removed]",
      "text/plain": [
       "<Figure size 800x600 with 2 Axes>"
      ]
     },
     "metadata": {},
     "output_type": "display_data"
    },
    {
     "name": "stdout",
     "output_type": "stream",
     "text": [
      "\n",
      "Best Model:\n",
      "Best Model: RandomForestClassifier()\n",
      "Best Model Accuracy: 0.2794\n"
     ]
    }
   ],
   "source": [
    "import pandas as pd\n",
    "from sklearn.model_selection import train_test_split\n",
    "from sklearn.ensemble import RandomForestClassifier\n",
    "from sklearn.linear_model import LogisticRegression\n",
    "from sklearn.tree import DecisionTreeClassifier\n",
    "from sklearn.metrics import classification_report, accuracy_score, confusion_matrix\n",
    "import seaborn as sns\n",
    "import matplotlib.pyplot as plt\n",
    "\n",
    "# Define models\n",
    "models = {\n",
    "    'RandomForest': RandomForestClassifier(),\n",
    "    'LogisticRegression': LogisticRegression(max_iter=1000),\n",
    "    'DecisionTree': DecisionTreeClassifier()\n",
    "}\n",
    "\n",
    "# Train models and evaluate them\n",
    "best_model = None\n",
    "best_score = 0\n",
    "model_reports = {}\n",
    "\n",
    "for model_name, model in models.items():\n",
    "    model.fit(X_train, y_train)  # Train model\n",
    "    y_pred = model.predict(X_test)  # Make predictions\n",
    "    \n",
    "    # Calculate accuracy and generate classification report\n",
    "    accuracy = accuracy_score(y_test, y_pred)\n",
    "    model_reports[model_name] = classification_report(y_test, y_pred, output_dict=True)  # Store as a dictionary for easier analysis\n",
    "    \n",
    "    # Track best performing model\n",
    "    if accuracy > best_score:\n",
    "        best_score = accuracy\n",
    "        best_model = model\n",
    "\n",
    "# Display classification reports and confusion matrices\n",
    "print(\"\\nClassification Report for All Models:\")\n",
    "for model_name, report in model_reports.items():\n",
    "    print(f\"\\nModel: {model_name}\")\n",
    "    print(\"Accuracy: {:.4f}\".format(accuracy_score(y_test, models[model_name].predict(X_test))))  # Display accuracy\n",
    "    print(pd.DataFrame(report).transpose())  # Display classification report as a DataFrame\n",
    "\n",
    "    # Plot Confusion Matrix\n",
    "    cm = confusion_matrix(y_test, models[model_name].predict(X_test))\n",
    "    plt.figure(figsize=(8, 6))\n",
    "    sns.heatmap(cm, annot=True, fmt=\"d\", cmap='Blues', xticklabels=offense_encoder.classes_, yticklabels=offense_encoder.classes_)\n",
    "    plt.title(f\"Confusion Matrix - {model_name}\")\n",
    "    plt.xlabel('Predicted Labels')\n",
    "    plt.ylabel('True Labels')\n",
    "    plt.show()\n",
    "\n",
    "# Display best model details\n",
    "print(\"\\nBest Model:\")\n",
    "print(f\"Best Model: {best_model}\")\n",
    "print(f\"Best Model Accuracy: {best_score:.4f}\")\n"
   ]
  },
  {
   "cell_type": "markdown",
   "id": "cfe9d55e",
   "metadata": {
    "papermill": {
     "duration": 0.010659,
     "end_time": "2025-05-01T01:08:24.164871",
     "exception": false,
     "start_time": "2025-05-01T01:08:24.154212",
     "status": "completed"
    },
    "tags": []
   },
   "source": [
    "#### Classification Report for All Models:\n",
    "\n",
    "### Explanation of the Classification Results (RandomForest Model)\n",
    "\n",
    "The results you provided are from a **Random Forest** model, which is used for predicting different types of offenses. Let's break down the key components of the results:\n",
    "\n",
    "#### 1. **Accuracy: 0.2822**\n",
    "   - **Accuracy** measures the overall percentage of correct predictions made by the model. An accuracy of 28.22% means the model correctly predicted the offense in about 28% of the cases. This indicates the model's predictions are not highly reliable, as the accuracy is quite low.\n",
    "\n",
    "#### 2. **Classification Report:**\n",
    "   The classification report includes precision, recall, and F1-score for each offense. Let's go over these terms and how they apply to the results:\n",
    "\n",
    "   - **Precision**: The proportion of true positive predictions out of all positive predictions made by the model for a specific class (offense).\n",
    "   - **Recall**: The proportion of true positive predictions out of all actual positive instances in the dataset.\n",
    "   - **F1-Score**: The harmonic mean of precision and recall, providing a balance between the two metrics.\n",
    "   - **Support**: The number of actual occurrences of each class in the test set.\n",
    "\n",
    "   Let's analyze each offense based on these metrics:\n",
    "\n",
    "   | **Offense**                        | **Precision** | **Recall** | **F1-Score** | **Support** |\n",
    "   |------------------------------------|---------------|------------|--------------|-------------|\n",
    "   | **Assault Simple**                 | 0.2892        | 0.3754     | 0.3267       | 594         |\n",
    "   | **Assist Citizen - Mental/TDO/ECO**| 0.3182        | 0.2274     | 0.2652       | 431         |\n",
    "   | **Hit and Run**                    | 0.2963        | 0.4765     | 0.3654       | 638         |\n",
    "   | **Larceny - All Other**            | 0.2270        | 0.1453     | 0.1772       | 475         |\n",
    "   | **Lost/FoundProperty**             | 0.3333        | 0.2102     | 0.2578       | 352         |\n",
    "   | **Suspicious Activity**            | 0.2344        | 0.2169     | 0.2253       | 484         |\n",
    "   | **Vandalism**                      | 0.2712        | 0.2106     | 0.2371       | 470         |\n",
    "\n",
    "#### 3. **Key Insights from the Report:**\n",
    "\n",
    "- **Precision**:\n",
    "   - The highest precision is for **Larceny - All Other** (0.3333), indicating that when the model predicts this offense, it is correct about 33% of the time. However, this is still quite low.\n",
    "   - **Assist Citizen - Mental/TDO/ECO** has the lowest precision (0.2269), meaning that the model's predictions for this offense tend to be wrong more often than correct.\n",
    "\n",
    "- **Recall**:\n",
    "   - **Hit and Run** has the highest recall (0.4765), meaning the model identifies about 48% of the actual occurrences of this offense. This is better than the precision, which indicates it is missing many true positives but is still able to identify a fair number of cases.\n",
    "   - **Larceny - All Other** and **Suspicious Activity** have the lowest recall values (0.1453 and 0.2169, respectively), indicating that the model is failing to identify most of the actual cases for these offenses.\n",
    "\n",
    "- **F1-Score**:\n",
    "   - The **F1-Score** balances precision and recall. It is highest for **Hit and Run** (0.3654), but still relatively low overall. This suggests the model is better at identifying **Hit and Run** than other offenses but still has room for improvement.\n",
    "   - **Larceny - All Other** has the lowest F1-Score (0.1772), indicating a poor balance between precision and recall for this offense.\n",
    "\n",
    "#### 4. **Macro Average and Weighted Average:**\n",
    "   - **Macro Average**: This gives the average precision, recall, and F1-Score across all classes (offenses) without considering the class distribution. It averages the results for all offenses equally.\n",
    "     - Precision: 0.2814\n",
    "     - Recall: 0.2661\n",
    "     - F1-Score: 0.2649\n",
    "   - **Weighted Average**: This averages the metrics but weighs each class by its support (the number of true instances in the test set). This gives a better sense of overall performance, considering the class distribution.\n",
    "     - Precision: 0.2799\n",
    "     - Recall: 0.2822\n",
    "     - F1-Score: 0.2720\n",
    "\n",
    "#### 5. **Confusion Matrix (Visualization Analysis)**:\n",
    "   - The confusion matrix shows the distribution of true positive, false positive, true negative, and false negative predictions for each class.\n",
    "     - For **Hit and Run**, the model performs relatively well in identifying this offense (304 true positives). However, it also misclassifies some **Hit and Run** instances as other offenses (e.g., **Assault Simple**, **Suspicious Activity**, etc.).\n",
    "     - **Larceny - All Other** is frequently misclassified as **Hit and Run**, **Suspicious Activity**, and others. This is evident from the large number of off-diagonal elements in its row.\n",
    "     - **Assist Citizen - Mental/TDO/ECO** and **Suspicious Activity** are frequently misclassified, as seen by the off-diagonal values in their rows.\n",
    "\n",
    "### Conclusion:\n",
    "The Random Forest model has low accuracy (28.22%), suggesting that it struggles to predict most offenses accurately. Some offenses like **Hit and Run** are better predicted than others, but overall, the model shows a high level of misclassification across all offenses. There may be a need for further tuning of the model, additional feature engineering, or trying different models for better performance.\n",
    "\n",
    "Let me know if you'd like to improve the model or make adjustments based on these results!\n",
    "\n"
   ]
  },
  {
   "cell_type": "markdown",
   "id": "5ab1c24d",
   "metadata": {
    "papermill": {
     "duration": 0.010552,
     "end_time": "2025-05-01T01:08:24.185946",
     "exception": false,
     "start_time": "2025-05-01T01:08:24.175394",
     "status": "completed"
    },
    "tags": []
   },
   "source": [
    "### Model Explanation\n",
    "\n",
    "Once we’ve chosen the best model, we will explain its predictions by examining feature importance for tree-based models and using statistical methods like logistic regression coefficients for linear models."
   ]
  },
  {
   "cell_type": "markdown",
   "id": "79a78aca",
   "metadata": {
    "papermill": {
     "duration": 0.010542,
     "end_time": "2025-05-01T01:08:24.206998",
     "exception": false,
     "start_time": "2025-05-01T01:08:24.196456",
     "status": "completed"
    },
    "tags": []
   },
   "source": [
    "#### Feature Importance for Random Forest / Decision Tree\n",
    "\n",
    "##### For Tree-based Models (Random Forest, Decision Tree)\n",
    "\n",
    "For Random Forest or Decision Tree, we can look at feature importance to understand which variables contribute the most to the model's predictions. Here's how you can visualize and interpret the importance of each feature:"
   ]
  },
  {
   "cell_type": "code",
   "execution_count": 23,
   "id": "cf9e9ac2",
   "metadata": {
    "execution": {
     "iopub.execute_input": "2025-05-01T01:08:24.229572Z",
     "iopub.status.busy": "2025-05-01T01:08:24.229076Z",
     "iopub.status.idle": "2025-05-01T01:08:24.398523Z",
     "shell.execute_reply": "2025-05-01T01:08:24.397788Z"
    },
    "papermill": {
     "duration": 0.182091,
     "end_time": "2025-05-01T01:08:24.399591",
     "exception": false,
     "start_time": "2025-05-01T01:08:24.217500",
     "status": "completed"
    },
    "tags": []
   },
   "outputs": [
    {
     "data": {
      "image/png": "[encoded data removed]",
      "text/plain": [
       "<Figure size 1000x600 with 1 Axes>"
      ]
     },
     "metadata": {},
     "output_type": "display_data"
    }
   ],
   "source": [
    "# For RandomForest or DecisionTree models, we can check feature importance\n",
    "if isinstance(best_model, RandomForestClassifier) or isinstance(best_model, DecisionTreeClassifier):\n",
    "    feature_importance = best_model.feature_importances_\n",
    "    feature_names = X.columns\n",
    "    importance_df = pd.DataFrame({'Feature': feature_names, 'Importance': feature_importance})\n",
    "    importance_df = importance_df.sort_values(by='Importance', ascending=False)\n",
    "    \n",
    "    # Plotting the feature importances\n",
    "    plt.figure(figsize=(10, 6))\n",
    "    sns.barplot(x='Importance', y='Feature', data=importance_df)\n",
    "    plt.title(\"Feature Importance\")\n",
    "    plt.show()\n"
   ]
  },
  {
   "cell_type": "code",
   "execution_count": null,
   "id": "f679eaba",
   "metadata": {
    "papermill": {
     "duration": 0.011001,
     "end_time": "2025-05-01T01:08:24.421956",
     "exception": false,
     "start_time": "2025-05-01T01:08:24.410955",
     "status": "completed"
    },
    "tags": []
   },
   "outputs": [],
   "source": []
  },
  {
   "cell_type": "markdown",
   "id": "3bdb5321",
   "metadata": {
    "papermill": {
     "duration": 0.010742,
     "end_time": "2025-05-01T01:08:24.443753",
     "exception": false,
     "start_time": "2025-05-01T01:08:24.433011",
     "status": "completed"
    },
    "tags": []
   },
   "source": [
    "### Evaluation\n",
    "\n",
    "After training the models and examining their performance, we evaluate the chosen model based on metrics like accuracy, precision, recall, and F1 score.\n",
    "\n"
   ]
  },
  {
   "cell_type": "code",
   "execution_count": 24,
   "id": "5d406b18",
   "metadata": {
    "execution": {
     "iopub.execute_input": "2025-05-01T01:08:24.466958Z",
     "iopub.status.busy": "2025-05-01T01:08:24.466579Z",
     "iopub.status.idle": "2025-05-01T01:08:24.556819Z",
     "shell.execute_reply": "2025-05-01T01:08:24.556196Z"
    },
    "papermill": {
     "duration": 0.103275,
     "end_time": "2025-05-01T01:08:24.557946",
     "exception": false,
     "start_time": "2025-05-01T01:08:24.454671",
     "status": "completed"
    },
    "tags": []
   },
   "outputs": [
    {
     "name": "stdout",
     "output_type": "stream",
     "text": [
      "Accuracy: 0.2794\n",
      "Classification Report:\n",
      "              precision    recall  f1-score   support\n",
      "\n",
      "           0       0.29      0.35      0.32       597\n",
      "           1       0.27      0.19      0.22       417\n",
      "           2       0.30      0.44      0.35       649\n",
      "           3       0.20      0.17      0.18       450\n",
      "           4       0.37      0.23      0.28       372\n",
      "           5       0.25      0.22      0.23       511\n",
      "           6       0.28      0.26      0.27       476\n",
      "\n",
      "    accuracy                           0.28      3472\n",
      "   macro avg       0.28      0.26      0.27      3472\n",
      "weighted avg       0.28      0.28      0.27      3472\n",
      "\n",
      "Confusion Matrix:\n",
      "[[210  56 133  55  17  79  47]\n",
      " [110  78 112  28  16  44  29]\n",
      " [111  44 286  70  17  71  50]\n",
      " [ 65  22 128  75  36  58  66]\n",
      " [ 60  29  67  41  86  31  58]\n",
      " [ 97  28 139  40  30 112  65]\n",
      " [ 68  36 102  58  31  58 123]]\n",
      "Precision: 0.2783\n",
      "Recall: 0.2794\n",
      "F1 Score: 0.2727\n"
     ]
    }
   ],
   "source": [
    "from sklearn.metrics import classification_report, confusion_matrix, accuracy_score, precision_score, recall_score, f1_score\n",
    "\n",
    "# Predict on the test set\n",
    "y_pred = best_model.predict(X_test)\n",
    "\n",
    "# Calculate Accuracy\n",
    "accuracy = accuracy_score(y_test, y_pred)\n",
    "print(f\"Accuracy: {accuracy:.4f}\")\n",
    "\n",
    "# Classification Report\n",
    "print(\"Classification Report:\")\n",
    "print(classification_report(y_test, y_pred))\n",
    "\n",
    "# Confusion Matrix\n",
    "conf_matrix = confusion_matrix(y_test, y_pred)\n",
    "print(\"Confusion Matrix:\")\n",
    "print(conf_matrix)\n",
    "\n",
    "# Precision, Recall, F1 Score for each class (Offense Type)\n",
    "precision = precision_score(y_test, y_pred, average='weighted')\n",
    "recall = recall_score(y_test, y_pred, average='weighted')\n",
    "f1 = f1_score(y_test, y_pred, average='weighted')\n",
    "\n",
    "print(f\"Precision: {precision:.4f}\")\n",
    "print(f\"Recall: {recall:.4f}\")\n",
    "print(f\"F1 Score: {f1:.4f}\")\n"
   ]
  },
  {
   "cell_type": "markdown",
   "id": "b397213d",
   "metadata": {
    "papermill": {
     "duration": 0.011165,
     "end_time": "2025-05-01T01:08:24.580582",
     "exception": false,
     "start_time": "2025-05-01T01:08:24.569417",
     "status": "completed"
    },
    "tags": []
   },
   "source": [
    "#### For Logistic Regression (Coefficient Interpretation)\n",
    "\n",
    "For Logistic Regression, the model coefficients can help us understand how each feature affects the likelihood of an offense happening. A positive coefficient indicates a feature increases the likelihood of the offense, and a negative coefficient indicates the opposite."
   ]
  },
  {
   "cell_type": "code",
   "execution_count": 25,
   "id": "9ffcbb33",
   "metadata": {
    "execution": {
     "iopub.execute_input": "2025-05-01T01:08:24.603553Z",
     "iopub.status.busy": "2025-05-01T01:08:24.603283Z",
     "iopub.status.idle": "2025-05-01T01:08:24.608150Z",
     "shell.execute_reply": "2025-05-01T01:08:24.607554Z"
    },
    "papermill": {
     "duration": 0.017642,
     "end_time": "2025-05-01T01:08:24.609197",
     "exception": false,
     "start_time": "2025-05-01T01:08:24.591555",
     "status": "completed"
    },
    "tags": []
   },
   "outputs": [],
   "source": [
    "if isinstance(best_model, LogisticRegression):\n",
    "    # Logistic regression coefficients\n",
    "    coef_df = pd.DataFrame({\n",
    "        'Feature': X.columns,\n",
    "        'Coefficient': best_model.coef_[0]\n",
    "    })\n",
    "    coef_df['AbsCoefficient'] = coef_df['Coefficient'].abs()\n",
    "    coef_df = coef_df.sort_values(by='AbsCoefficient', ascending=False)\n",
    "    \n",
    "    # Plotting the coefficients\n",
    "    plt.figure(figsize=(10, 6))\n",
    "    sns.barplot(x='AbsCoefficient', y='Feature', data=coef_df)\n",
    "    plt.title(\"Logistic Regression Coefficients Impact\")\n",
    "    plt.show()\n",
    "\n",
    "    # Print the top 5 most impactful features (by absolute coefficient value)\n",
    "    print(\"Top 5 most impactful features based on coefficients:\")\n",
    "    print(coef_df.head())\n"
   ]
  },
  {
   "cell_type": "markdown",
   "id": "41743fb1",
   "metadata": {
    "papermill": {
     "duration": 0.010993,
     "end_time": "2025-05-01T01:08:24.631224",
     "exception": false,
     "start_time": "2025-05-01T01:08:24.620231",
     "status": "completed"
    },
    "tags": []
   },
   "source": [
    "Explanation of Output:\n",
    "\n",
    "Feature Importance (Random Forest/Decision Tree): The bar plot will show how important each feature is in the decision-making process. Features at the top of the list are the most influential in predicting the occurrence of offenses.\n",
    "\n",
    "Logistic Regression Coefficients: The bar plot will show the magnitude of the coefficients for each feature. Features with larger absolute values (either positive or negative) have a stronger impact on the model’s predictions. Positive coefficients increase the probability of an offense, while negative coefficients decrease it."
   ]
  },
  {
   "cell_type": "markdown",
   "id": "f8553181",
   "metadata": {
    "papermill": {
     "duration": 0.010787,
     "end_time": "2025-05-01T01:08:24.653005",
     "exception": false,
     "start_time": "2025-05-01T01:08:24.642218",
     "status": "completed"
    },
    "tags": []
   },
   "source": []
  }
 ],
 "metadata": {
  "kernelspec": {
   "display_name": "Python 3",
   "language": "python",
   "name": "python3"
  },
  "language_info": {
   "codemirror_mode": {
    "name": "ipython",
    "version": 3
   },
   "file_extension": ".py",
   "mimetype": "text/x-python",
   "name": "python",
   "nbconvert_exporter": "python",
   "pygments_lexer": "ipython3",
   "version": "3.9.22"
  },
  "papermill": {
   "default_parameters": {},
   "duration": 81.716923,
   "end_time": "2025-05-01T01:08:25.180496",
   "environment_variables": {},
   "exception": null,
   "input_path": "notebook/Crime Data.ipynb",
   "output_path": "notebook/Crime Data_output.ipynb",
   "parameters": {},
   "start_time": "2025-05-01T01:07:03.463573",
   "version": "2.6.0"
  }
 },
 "nbformat": 4,
 "nbformat_minor": 5
}