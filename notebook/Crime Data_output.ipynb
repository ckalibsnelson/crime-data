{
 "cells": [
  {
   "cell_type": "markdown",
   "id": "78345651",
   "metadata": {
    "papermill": {
     "duration": 0.006168,
     "end_time": "2025-04-25T01:00:56.363801",
     "exception": false,
     "start_time": "2025-04-25T01:00:56.357633",
     "status": "completed"
    },
    "tags": []
   },
   "source": [
    "# Charlottesville Open Data Porttal: Crime Data"
   ]
  },
  {
   "cell_type": "markdown",
   "id": "77bfc2c2",
   "metadata": {
    "papermill": {
     "duration": 0.005088,
     "end_time": "2025-04-25T01:00:56.374323",
     "exception": false,
     "start_time": "2025-04-25T01:00:56.369235",
     "status": "completed"
    },
    "tags": []
   },
   "source": [
    "## Import Relevant Librarires & Set WD"
   ]
  },
  {
   "cell_type": "code",
   "execution_count": 1,
   "id": "86b720b3",
   "metadata": {
    "execution": {
     "iopub.execute_input": "2025-04-25T01:00:56.385843Z",
     "iopub.status.busy": "2025-04-25T01:00:56.385283Z",
     "iopub.status.idle": "2025-04-25T01:00:56.993289Z",
     "shell.execute_reply": "2025-04-25T01:00:56.992581Z"
    },
    "papermill": {
     "duration": 0.615285,
     "end_time": "2025-04-25T01:00:56.994654",
     "exception": false,
     "start_time": "2025-04-25T01:00:56.379369",
     "status": "completed"
    },
    "tags": []
   },
   "outputs": [],
   "source": [
    "import requests\n",
    "import pandas as pd\n",
    "import numpy as np\n",
    "import pickle\n",
    "import googlemaps\n",
    "import plotly.express as px\n",
    "from geopy.geocoders import Nominatim\n",
    "import time\n",
    "from dotenv import load_dotenv\n",
    "import os\n",
    "\n",
    "env_path = os.path.join(\"..\", \".env\")\n",
    "#print(\"Looking for .env file at:\", os.path.abspath(env_path))\n",
    "load_dotenv(dotenv_path=env_path)\n",
    "\n",
    "# Retrieve the variables\n",
    "GOOGLE_API_KEY = os.getenv(\"GOOGLE_API_KEY\")\n",
    "WORKING_DIR = os.getenv(\"WORKING_DIR\")\n",
    "\n",
    "if GOOGLE_API_KEY is None or WORKING_DIR is None:\n",
    "    raise RuntimeError(\"No configuration found. Please ensure that your .env file exists with the required variables, or create a local config.py file.\")\n",
    "\n",
    "#print(\"Google API Key:\", GOOGLE_API_KEY)\n",
    "#print(\"Working Directory:\", WORKING_DIR)"
   ]
  },
  {
   "cell_type": "markdown",
   "id": "2f4d9e4b",
   "metadata": {
    "papermill": {
     "duration": 0.005259,
     "end_time": "2025-04-25T01:00:57.005378",
     "exception": false,
     "start_time": "2025-04-25T01:00:57.000119",
     "status": "completed"
    },
    "tags": []
   },
   "source": [
    "## Import Data\n",
    "\n",
    "URL: https://opendata.charlottesville.org/datasets/charlottesville::crime-data/about"
   ]
  },
  {
   "cell_type": "code",
   "execution_count": 2,
   "id": "0893115a",
   "metadata": {
    "execution": {
     "iopub.execute_input": "2025-04-25T01:00:57.016661Z",
     "iopub.status.busy": "2025-04-25T01:00:57.016184Z",
     "iopub.status.idle": "2025-04-25T01:01:57.171175Z",
     "shell.execute_reply": "2025-04-25T01:01:57.170378Z"
    },
    "papermill": {
     "duration": 60.166783,
     "end_time": "2025-04-25T01:01:57.177291",
     "exception": false,
     "start_time": "2025-04-25T01:00:57.010508",
     "status": "completed"
    },
    "tags": []
   },
   "outputs": [
    {
     "name": "stdout",
     "output_type": "stream",
     "text": [
      "Total records imported: 25258\n"
     ]
    }
   ],
   "source": [
    "# Define the endpoint and initial parameters.\n",
    "url = \"https://gisweb.charlottesville.org/arcgis/rest/services/OpenData_2/MapServer/6/query\"\n",
    "params = {\n",
    "    \"where\": \"1=1\",\n",
    "    \"outFields\": \"*\",\n",
    "    \"outSR\": 4326,\n",
    "    \"f\": \"json\",\n",
    "    \"resultOffset\": 0,       # Starting index for results\n",
    "    \"resultRecordCount\": 10000  # Maximum records per batch (if allowed by the API)\n",
    "}\n",
    "\n",
    "records = []\n",
    "\n",
    "while True:\n",
    "    response = requests.get(url, params=params)\n",
    "    response.raise_for_status()\n",
    "    data = response.json()\n",
    "    \n",
    "    # Get the current batch of features.\n",
    "    features = data.get(\"features\", [])\n",
    "    if not features:\n",
    "        break\n",
    "\n",
    "    # Extract the attributes from the features.\n",
    "    batch_records = [feature.get(\"attributes\", {}) for feature in features]\n",
    "    records.extend(batch_records)\n",
    "    \n",
    "    # If the batch size is less than the requested count, we reached the end.\n",
    "    if len(features) < params[\"resultRecordCount\"]:\n",
    "        break\n",
    "\n",
    "    # Update the resultOffset for the next batch.\n",
    "    params[\"resultOffset\"] += params[\"resultRecordCount\"]\n",
    "\n",
    "# Create a DataFrame from the combined records.\n",
    "df = pd.DataFrame(records)\n",
    "print(\"Total records imported:\", len(df))\n"
   ]
  },
  {
   "cell_type": "code",
   "execution_count": 3,
   "id": "80c96aa1",
   "metadata": {
    "execution": {
     "iopub.execute_input": "2025-04-25T01:01:57.189507Z",
     "iopub.status.busy": "2025-04-25T01:01:57.189045Z",
     "iopub.status.idle": "2025-04-25T01:01:57.201887Z",
     "shell.execute_reply": "2025-04-25T01:01:57.201197Z"
    },
    "papermill": {
     "duration": 0.020296,
     "end_time": "2025-04-25T01:01:57.202895",
     "exception": false,
     "start_time": "2025-04-25T01:01:57.182599",
     "status": "completed"
    },
    "tags": []
   },
   "outputs": [
    {
     "data": {
      "text/html": [
       "<div>\n",
       "<style scoped>\n",
       "    .dataframe tbody tr th:only-of-type {\n",
       "        vertical-align: middle;\n",
       "    }\n",
       "\n",
       "    .dataframe tbody tr th {\n",
       "        vertical-align: top;\n",
       "    }\n",
       "\n",
       "    .dataframe thead th {\n",
       "        text-align: right;\n",
       "    }\n",
       "</style>\n",
       "<table border=\"1\" class=\"dataframe\">\n",
       "  <thead>\n",
       "    <tr style=\"text-align: right;\">\n",
       "      <th></th>\n",
       "      <th>RecordID</th>\n",
       "      <th>Offense</th>\n",
       "      <th>IncidentID</th>\n",
       "      <th>BlockNumber</th>\n",
       "      <th>StreetName</th>\n",
       "      <th>Agency</th>\n",
       "      <th>DateReported</th>\n",
       "      <th>HourReported</th>\n",
       "      <th>ReportingOfficer</th>\n",
       "    </tr>\n",
       "  </thead>\n",
       "  <tbody>\n",
       "    <tr>\n",
       "      <th>0</th>\n",
       "      <td>1</td>\n",
       "      <td>Assist Citizen - Mental/TDO/ECO</td>\n",
       "      <td>202500013182</td>\n",
       "      <td>900</td>\n",
       "      <td>MONTICELLO AVE</td>\n",
       "      <td>CPD</td>\n",
       "      <td>1745368238000</td>\n",
       "      <td>2030</td>\n",
       "      <td>Benbow, Lauren</td>\n",
       "    </tr>\n",
       "    <tr>\n",
       "      <th>1</th>\n",
       "      <td>2</td>\n",
       "      <td>Larceny - All Other</td>\n",
       "      <td>202500013176</td>\n",
       "      <td>900</td>\n",
       "      <td>RIVES ST</td>\n",
       "      <td>CPD</td>\n",
       "      <td>1745362781000</td>\n",
       "      <td>1859</td>\n",
       "      <td>Lowry, Brent</td>\n",
       "    </tr>\n",
       "    <tr>\n",
       "      <th>2</th>\n",
       "      <td>3</td>\n",
       "      <td>Larceny - All Other</td>\n",
       "      <td>202500013166</td>\n",
       "      <td>100</td>\n",
       "      <td>LANKFORD AVE</td>\n",
       "      <td>CPD</td>\n",
       "      <td>1745361969000</td>\n",
       "      <td>1846</td>\n",
       "      <td>Lowry, Brent</td>\n",
       "    </tr>\n",
       "    <tr>\n",
       "      <th>3</th>\n",
       "      <td>4</td>\n",
       "      <td>Animal - Bite</td>\n",
       "      <td>202500013143</td>\n",
       "      <td>200</td>\n",
       "      <td>BURNET ST</td>\n",
       "      <td>CPD</td>\n",
       "      <td>1745351512000</td>\n",
       "      <td>1551</td>\n",
       "      <td>Lowry, Brent</td>\n",
       "    </tr>\n",
       "    <tr>\n",
       "      <th>4</th>\n",
       "      <td>5</td>\n",
       "      <td>Vandalism</td>\n",
       "      <td>202500013130</td>\n",
       "      <td>500</td>\n",
       "      <td>CLEVELAND AVE</td>\n",
       "      <td>CPD</td>\n",
       "      <td>1745345144000</td>\n",
       "      <td>1405</td>\n",
       "      <td>Turner, Devon</td>\n",
       "    </tr>\n",
       "  </tbody>\n",
       "</table>\n",
       "</div>"
      ],
      "text/plain": [
       "   RecordID                          Offense    IncidentID BlockNumber  \\\n",
       "0         1  Assist Citizen - Mental/TDO/ECO  202500013182         900   \n",
       "1         2              Larceny - All Other  202500013176         900   \n",
       "2         3              Larceny - All Other  202500013166         100   \n",
       "3         4                    Animal - Bite  202500013143         200   \n",
       "4         5                        Vandalism  202500013130         500   \n",
       "\n",
       "       StreetName Agency   DateReported HourReported ReportingOfficer  \n",
       "0  MONTICELLO AVE    CPD  1745368238000         2030   Benbow, Lauren  \n",
       "1        RIVES ST    CPD  1745362781000         1859     Lowry, Brent  \n",
       "2    LANKFORD AVE    CPD  1745361969000         1846     Lowry, Brent  \n",
       "3       BURNET ST    CPD  1745351512000         1551     Lowry, Brent  \n",
       "4   CLEVELAND AVE    CPD  1745345144000         1405    Turner, Devon  "
      ]
     },
     "execution_count": 3,
     "metadata": {},
     "output_type": "execute_result"
    }
   ],
   "source": [
    "df.head()"
   ]
  },
  {
   "cell_type": "code",
   "execution_count": 4,
   "id": "f5e46eed",
   "metadata": {
    "execution": {
     "iopub.execute_input": "2025-04-25T01:01:57.214777Z",
     "iopub.status.busy": "2025-04-25T01:01:57.214361Z",
     "iopub.status.idle": "2025-04-25T01:01:57.218789Z",
     "shell.execute_reply": "2025-04-25T01:01:57.218253Z"
    },
    "papermill": {
     "duration": 0.011392,
     "end_time": "2025-04-25T01:01:57.219796",
     "exception": false,
     "start_time": "2025-04-25T01:01:57.208404",
     "status": "completed"
    },
    "tags": []
   },
   "outputs": [
    {
     "data": {
      "text/plain": [
       "Index(['RecordID', 'Offense', 'IncidentID', 'BlockNumber', 'StreetName',\n",
       "       'Agency', 'DateReported', 'HourReported', 'ReportingOfficer'],\n",
       "      dtype='object')"
      ]
     },
     "execution_count": 4,
     "metadata": {},
     "output_type": "execute_result"
    }
   ],
   "source": [
    "df.columns"
   ]
  },
  {
   "cell_type": "code",
   "execution_count": 5,
   "id": "10405212",
   "metadata": {
    "execution": {
     "iopub.execute_input": "2025-04-25T01:01:57.231873Z",
     "iopub.status.busy": "2025-04-25T01:01:57.231390Z",
     "iopub.status.idle": "2025-04-25T01:01:57.255052Z",
     "shell.execute_reply": "2025-04-25T01:01:57.254455Z"
    },
    "papermill": {
     "duration": 0.030738,
     "end_time": "2025-04-25T01:01:57.256092",
     "exception": false,
     "start_time": "2025-04-25T01:01:57.225354",
     "status": "completed"
    },
    "tags": []
   },
   "outputs": [
    {
     "name": "stdout",
     "output_type": "stream",
     "text": [
      "<class 'pandas.core.frame.DataFrame'>\n",
      "RangeIndex: 25258 entries, 0 to 25257\n",
      "Data columns (total 9 columns):\n",
      " #   Column            Non-Null Count  Dtype \n",
      "---  ------            --------------  ----- \n",
      " 0   RecordID          25258 non-null  int64 \n",
      " 1   Offense           25258 non-null  object\n",
      " 2   IncidentID        25258 non-null  object\n",
      " 3   BlockNumber       25258 non-null  object\n",
      " 4   StreetName        25258 non-null  object\n",
      " 5   Agency            25258 non-null  object\n",
      " 6   DateReported      25258 non-null  int64 \n",
      " 7   HourReported      25258 non-null  object\n",
      " 8   ReportingOfficer  25241 non-null  object\n",
      "dtypes: int64(2), object(7)\n",
      "memory usage: 1.7+ MB\n"
     ]
    }
   ],
   "source": [
    "df.info()"
   ]
  },
  {
   "cell_type": "markdown",
   "id": "c3da2579",
   "metadata": {
    "papermill": {
     "duration": 0.005578,
     "end_time": "2025-04-25T01:01:57.267517",
     "exception": false,
     "start_time": "2025-04-25T01:01:57.261939",
     "status": "completed"
    },
    "tags": []
   },
   "source": [
    "### Missing Values"
   ]
  },
  {
   "cell_type": "code",
   "execution_count": 6,
   "id": "f8aa9529",
   "metadata": {
    "execution": {
     "iopub.execute_input": "2025-04-25T01:01:57.280077Z",
     "iopub.status.busy": "2025-04-25T01:01:57.279343Z",
     "iopub.status.idle": "2025-04-25T01:01:57.302508Z",
     "shell.execute_reply": "2025-04-25T01:01:57.301918Z"
    },
    "papermill": {
     "duration": 0.030496,
     "end_time": "2025-04-25T01:01:57.303517",
     "exception": false,
     "start_time": "2025-04-25T01:01:57.273021",
     "status": "completed"
    },
    "tags": []
   },
   "outputs": [
    {
     "name": "stdout",
     "output_type": "stream",
     "text": [
      "                  MissingCount  MissingPercentage\n",
      "RecordID                     0               0.00\n",
      "Offense                      0               0.00\n",
      "IncidentID                   0               0.00\n",
      "BlockNumber                  0               0.00\n",
      "StreetName                   0               0.00\n",
      "Agency                       0               0.00\n",
      "DateReported                 0               0.00\n",
      "HourReported                 0               0.00\n",
      "ReportingOfficer            17               0.07\n"
     ]
    }
   ],
   "source": [
    "def missing_percentage(df):\n",
    "    \"\"\"\n",
    "    Returns a DataFrame with the count and percentage of missing values for each column.\n",
    "    \n",
    "    Parameters:\n",
    "        df (pd.DataFrame): The input DataFrame.\n",
    "    \n",
    "    Returns:\n",
    "        pd.DataFrame: A DataFrame with columns 'MissingCount' and 'MissingPercentage'.\n",
    "    \"\"\"\n",
    "    total_rows = len(df)\n",
    "    missing_count = df.isnull().sum()\n",
    "    missing_percent = (missing_count / total_rows) * 100\n",
    "    \n",
    "    result = pd.DataFrame({\n",
    "        'MissingCount': missing_count,\n",
    "        'MissingPercentage': missing_percent.round(2)\n",
    "    })\n",
    "    \n",
    "    return result\n",
    "\n",
    "# Example usage:\n",
    "missing_info = missing_percentage(df)\n",
    "print(missing_info)\n"
   ]
  },
  {
   "cell_type": "markdown",
   "id": "799f2701",
   "metadata": {
    "papermill": {
     "duration": 0.005727,
     "end_time": "2025-04-25T01:01:57.315268",
     "exception": false,
     "start_time": "2025-04-25T01:01:57.309541",
     "status": "completed"
    },
    "tags": []
   },
   "source": [
    "## Data Preparation"
   ]
  },
  {
   "cell_type": "markdown",
   "id": "a8e35534",
   "metadata": {
    "papermill": {
     "duration": 0.005662,
     "end_time": "2025-04-25T01:01:57.326588",
     "exception": false,
     "start_time": "2025-04-25T01:01:57.320926",
     "status": "completed"
    },
    "tags": []
   },
   "source": [
    "### Data Conversion"
   ]
  },
  {
   "cell_type": "code",
   "execution_count": 7,
   "id": "49a756f3",
   "metadata": {
    "execution": {
     "iopub.execute_input": "2025-04-25T01:01:57.339083Z",
     "iopub.status.busy": "2025-04-25T01:01:57.338817Z",
     "iopub.status.idle": "2025-04-25T01:01:57.708857Z",
     "shell.execute_reply": "2025-04-25T01:01:57.708102Z"
    },
    "papermill": {
     "duration": 0.37781,
     "end_time": "2025-04-25T01:01:57.709992",
     "exception": false,
     "start_time": "2025-04-25T01:01:57.332182",
     "status": "completed"
    },
    "tags": []
   },
   "outputs": [
    {
     "data": {
      "text/html": [
       "<div>\n",
       "<style scoped>\n",
       "    .dataframe tbody tr th:only-of-type {\n",
       "        vertical-align: middle;\n",
       "    }\n",
       "\n",
       "    .dataframe tbody tr th {\n",
       "        vertical-align: top;\n",
       "    }\n",
       "\n",
       "    .dataframe thead th {\n",
       "        text-align: right;\n",
       "    }\n",
       "</style>\n",
       "<table border=\"1\" class=\"dataframe\">\n",
       "  <thead>\n",
       "    <tr style=\"text-align: right;\">\n",
       "      <th></th>\n",
       "      <th>RecordID</th>\n",
       "      <th>Offense</th>\n",
       "      <th>IncidentID</th>\n",
       "      <th>BlockNumber</th>\n",
       "      <th>StreetName</th>\n",
       "      <th>Agency</th>\n",
       "      <th>HourReported</th>\n",
       "      <th>ReportingOfficer</th>\n",
       "      <th>Date</th>\n",
       "      <th>DateString</th>\n",
       "      <th>DayOfWeek</th>\n",
       "      <th>Weekend</th>\n",
       "      <th>Season</th>\n",
       "      <th>HourAMPM</th>\n",
       "      <th>TimeOfDay</th>\n",
       "    </tr>\n",
       "  </thead>\n",
       "  <tbody>\n",
       "    <tr>\n",
       "      <th>0</th>\n",
       "      <td>1</td>\n",
       "      <td>Assist Citizen - Mental/TDO/ECO</td>\n",
       "      <td>202500013182</td>\n",
       "      <td>900</td>\n",
       "      <td>MONTICELLO AVE</td>\n",
       "      <td>CPD</td>\n",
       "      <td>2030</td>\n",
       "      <td>Benbow, Lauren</td>\n",
       "      <td>2025-04-22 20:30:38</td>\n",
       "      <td>2025-04-22 08:30:38 PM</td>\n",
       "      <td>Tuesday</td>\n",
       "      <td>False</td>\n",
       "      <td>Spring</td>\n",
       "      <td>08:30 PM</td>\n",
       "      <td>Evening</td>\n",
       "    </tr>\n",
       "    <tr>\n",
       "      <th>1</th>\n",
       "      <td>2</td>\n",
       "      <td>Larceny - All Other</td>\n",
       "      <td>202500013176</td>\n",
       "      <td>900</td>\n",
       "      <td>RIVES ST</td>\n",
       "      <td>CPD</td>\n",
       "      <td>1859</td>\n",
       "      <td>Lowry, Brent</td>\n",
       "      <td>2025-04-22 18:59:41</td>\n",
       "      <td>2025-04-22 06:59:41 PM</td>\n",
       "      <td>Tuesday</td>\n",
       "      <td>False</td>\n",
       "      <td>Spring</td>\n",
       "      <td>06:59 PM</td>\n",
       "      <td>Evening</td>\n",
       "    </tr>\n",
       "    <tr>\n",
       "      <th>2</th>\n",
       "      <td>3</td>\n",
       "      <td>Larceny - All Other</td>\n",
       "      <td>202500013166</td>\n",
       "      <td>100</td>\n",
       "      <td>LANKFORD AVE</td>\n",
       "      <td>CPD</td>\n",
       "      <td>1846</td>\n",
       "      <td>Lowry, Brent</td>\n",
       "      <td>2025-04-22 18:46:09</td>\n",
       "      <td>2025-04-22 06:46:09 PM</td>\n",
       "      <td>Tuesday</td>\n",
       "      <td>False</td>\n",
       "      <td>Spring</td>\n",
       "      <td>06:46 PM</td>\n",
       "      <td>Evening</td>\n",
       "    </tr>\n",
       "    <tr>\n",
       "      <th>3</th>\n",
       "      <td>4</td>\n",
       "      <td>Animal - Bite</td>\n",
       "      <td>202500013143</td>\n",
       "      <td>200</td>\n",
       "      <td>BURNET ST</td>\n",
       "      <td>CPD</td>\n",
       "      <td>1551</td>\n",
       "      <td>Lowry, Brent</td>\n",
       "      <td>2025-04-22 15:51:52</td>\n",
       "      <td>2025-04-22 03:51:52 PM</td>\n",
       "      <td>Tuesday</td>\n",
       "      <td>False</td>\n",
       "      <td>Spring</td>\n",
       "      <td>03:51 PM</td>\n",
       "      <td>Afternoon</td>\n",
       "    </tr>\n",
       "    <tr>\n",
       "      <th>4</th>\n",
       "      <td>5</td>\n",
       "      <td>Vandalism</td>\n",
       "      <td>202500013130</td>\n",
       "      <td>500</td>\n",
       "      <td>CLEVELAND AVE</td>\n",
       "      <td>CPD</td>\n",
       "      <td>1405</td>\n",
       "      <td>Turner, Devon</td>\n",
       "      <td>2025-04-22 14:05:44</td>\n",
       "      <td>2025-04-22 02:05:44 PM</td>\n",
       "      <td>Tuesday</td>\n",
       "      <td>False</td>\n",
       "      <td>Spring</td>\n",
       "      <td>02:05 PM</td>\n",
       "      <td>Afternoon</td>\n",
       "    </tr>\n",
       "  </tbody>\n",
       "</table>\n",
       "</div>"
      ],
      "text/plain": [
       "   RecordID                          Offense    IncidentID BlockNumber  \\\n",
       "0         1  Assist Citizen - Mental/TDO/ECO  202500013182         900   \n",
       "1         2              Larceny - All Other  202500013176         900   \n",
       "2         3              Larceny - All Other  202500013166         100   \n",
       "3         4                    Animal - Bite  202500013143         200   \n",
       "4         5                        Vandalism  202500013130         500   \n",
       "\n",
       "       StreetName Agency HourReported ReportingOfficer                Date  \\\n",
       "0  MONTICELLO AVE    CPD         2030   Benbow, Lauren 2025-04-22 20:30:38   \n",
       "1        RIVES ST    CPD         1859     Lowry, Brent 2025-04-22 18:59:41   \n",
       "2    LANKFORD AVE    CPD         1846     Lowry, Brent 2025-04-22 18:46:09   \n",
       "3       BURNET ST    CPD         1551     Lowry, Brent 2025-04-22 15:51:52   \n",
       "4   CLEVELAND AVE    CPD         1405    Turner, Devon 2025-04-22 14:05:44   \n",
       "\n",
       "               DateString DayOfWeek  Weekend  Season  HourAMPM  TimeOfDay  \n",
       "0  2025-04-22 08:30:38 PM   Tuesday    False  Spring  08:30 PM    Evening  \n",
       "1  2025-04-22 06:59:41 PM   Tuesday    False  Spring  06:59 PM    Evening  \n",
       "2  2025-04-22 06:46:09 PM   Tuesday    False  Spring  06:46 PM    Evening  \n",
       "3  2025-04-22 03:51:52 PM   Tuesday    False  Spring  03:51 PM  Afternoon  \n",
       "4  2025-04-22 02:05:44 PM   Tuesday    False  Spring  02:05 PM  Afternoon  "
      ]
     },
     "execution_count": 7,
     "metadata": {},
     "output_type": "execute_result"
    }
   ],
   "source": [
    "def convert_and_categorize_datereported(df, col='DateReported'):\n",
    "    \"\"\"\n",
    "    Converts an epoch (in milliseconds) date column into a timezone-aware datetime,\n",
    "    converts it to Eastern Time, and then creates columns for day-of-week, weekend flag,\n",
    "    season, 12-hour formatted time, and time-of-day. Keeps both a real datetime column\n",
    "    (Date) and a string representation (DateString).\n",
    "    \"\"\"\n",
    "    import pandas as pd\n",
    "\n",
    "    # Convert the epoch timestamp to a pandas datetime object as UTC, then convert to US/Eastern.\n",
    "    df[\"DateReported_dt\"] = (\n",
    "        pd.to_datetime(df[col], unit=\"ms\", errors=\"coerce\", utc=True)\n",
    "        .dt.tz_convert(\"US/Eastern\")\n",
    "    )\n",
    "    \n",
    "    # Create a true datetime column (remove timezone if you prefer naive datetime)\n",
    "    df[\"Date\"] = df[\"DateReported_dt\"].dt.tz_localize(None)\n",
    "\n",
    "    # Optionally, create a separate string-formatted column\n",
    "    df[\"DateString\"] = df[\"DateReported_dt\"].dt.strftime(\"%Y-%m-%d %I:%M:%S %p\")\n",
    "    \n",
    "    # DayOfWeek\n",
    "    df[\"DayOfWeek\"] = df[\"DateReported_dt\"].dt.day_name()\n",
    "    \n",
    "    # Weekend\n",
    "    df[\"Weekend\"] = df[\"DayOfWeek\"].isin([\"Saturday\", \"Sunday\"])\n",
    "    \n",
    "    # Helper function to determine the season\n",
    "    def get_season(dt):\n",
    "        month = dt.month\n",
    "        day = dt.day\n",
    "        # Approximate Northern Hemisphere season boundaries:\n",
    "        if (month == 12 and day >= 21) or (month < 3) or (month == 3 and day < 20):\n",
    "            return \"Winter\"\n",
    "        elif (month == 3 and day >= 20) or (month < 6) or (month == 6 and day < 21):\n",
    "            return \"Spring\"\n",
    "        elif (month == 6 and day >= 21) or (month < 9) or (month == 9 and day < 22):\n",
    "            return \"Summer\"\n",
    "        else:\n",
    "            return \"Autumn\"\n",
    "    \n",
    "    df[\"Season\"] = df[\"DateReported_dt\"].apply(get_season)\n",
    "    \n",
    "    # 12-hour formatted time (HourAMPM)\n",
    "    df[\"HourAMPM\"] = df[\"DateReported_dt\"].dt.strftime(\"%I:%M %p\")\n",
    "    \n",
    "    # Extract hour (0-23) for time-of-day\n",
    "    df[\"HourValue\"] = df[\"DateReported_dt\"].dt.hour\n",
    "    \n",
    "    def time_of_day(hour):\n",
    "        if pd.isnull(hour):\n",
    "            return None\n",
    "        if 5 <= hour < 12:\n",
    "            return \"Morning\"\n",
    "        elif 12 <= hour < 17:\n",
    "            return \"Afternoon\"\n",
    "        elif 17 <= hour < 21:\n",
    "            return \"Evening\"\n",
    "        else:\n",
    "            return \"Night\"\n",
    "    \n",
    "    df[\"TimeOfDay\"] = df[\"HourValue\"].apply(time_of_day)\n",
    "    \n",
    "    # Drop columns you no longer need\n",
    "    df.drop(columns=[col, \"DateReported_dt\", \"HourValue\"], inplace=True)\n",
    "    \n",
    "    return df\n",
    "\n",
    "# Example usage:\n",
    "df = convert_and_categorize_datereported(df)\n",
    "df.head()\n"
   ]
  },
  {
   "cell_type": "code",
   "execution_count": 8,
   "id": "4ef005e0",
   "metadata": {
    "execution": {
     "iopub.execute_input": "2025-04-25T01:01:57.723715Z",
     "iopub.status.busy": "2025-04-25T01:01:57.723097Z",
     "iopub.status.idle": "2025-04-25T01:01:57.751675Z",
     "shell.execute_reply": "2025-04-25T01:01:57.751091Z"
    },
    "papermill": {
     "duration": 0.036498,
     "end_time": "2025-04-25T01:01:57.752699",
     "exception": false,
     "start_time": "2025-04-25T01:01:57.716201",
     "status": "completed"
    },
    "tags": []
   },
   "outputs": [
    {
     "name": "stdout",
     "output_type": "stream",
     "text": [
      "<class 'pandas.core.frame.DataFrame'>\n",
      "RangeIndex: 25258 entries, 0 to 25257\n",
      "Data columns (total 15 columns):\n",
      " #   Column            Non-Null Count  Dtype         \n",
      "---  ------            --------------  -----         \n",
      " 0   RecordID          25258 non-null  int64         \n",
      " 1   Offense           25258 non-null  object        \n",
      " 2   IncidentID        25258 non-null  object        \n",
      " 3   BlockNumber       25258 non-null  object        \n",
      " 4   StreetName        25258 non-null  object        \n",
      " 5   Agency            25258 non-null  object        \n",
      " 6   HourReported      25258 non-null  object        \n",
      " 7   ReportingOfficer  25241 non-null  object        \n",
      " 8   Date              25258 non-null  datetime64[ns]\n",
      " 9   DateString        25258 non-null  object        \n",
      " 10  DayOfWeek         25258 non-null  object        \n",
      " 11  Weekend           25258 non-null  bool          \n",
      " 12  Season            25258 non-null  object        \n",
      " 13  HourAMPM          25258 non-null  object        \n",
      " 14  TimeOfDay         25258 non-null  object        \n",
      "dtypes: bool(1), datetime64[ns](1), int64(1), object(12)\n",
      "memory usage: 2.7+ MB\n"
     ]
    }
   ],
   "source": [
    "df.info()"
   ]
  },
  {
   "cell_type": "markdown",
   "id": "9495665a",
   "metadata": {
    "papermill": {
     "duration": 0.005978,
     "end_time": "2025-04-25T01:01:57.764835",
     "exception": false,
     "start_time": "2025-04-25T01:01:57.758857",
     "status": "completed"
    },
    "tags": []
   },
   "source": [
    "### Coordinates"
   ]
  },
  {
   "cell_type": "code",
   "execution_count": 9,
   "id": "c7912f16",
   "metadata": {
    "execution": {
     "iopub.execute_input": "2025-04-25T01:01:57.777972Z",
     "iopub.status.busy": "2025-04-25T01:01:57.777549Z",
     "iopub.status.idle": "2025-04-25T01:01:58.009057Z",
     "shell.execute_reply": "2025-04-25T01:01:58.008425Z"
    },
    "papermill": {
     "duration": 0.239391,
     "end_time": "2025-04-25T01:01:58.010151",
     "exception": false,
     "start_time": "2025-04-25T01:01:57.770760",
     "status": "completed"
    },
    "tags": []
   },
   "outputs": [
    {
     "name": "stdout",
     "output_type": "stream",
     "text": [
      "Loaded geocode cache.\n"
     ]
    },
    {
     "name": "stdout",
     "output_type": "stream",
     "text": [
      "Geocoded 1900 E MARKET ST: 38.02163410000001, -78.4563391\n",
      "Geocode cache updated and saved.\n"
     ]
    },
    {
     "data": {
      "text/html": [
       "<div>\n",
       "<style scoped>\n",
       "    .dataframe tbody tr th:only-of-type {\n",
       "        vertical-align: middle;\n",
       "    }\n",
       "\n",
       "    .dataframe tbody tr th {\n",
       "        vertical-align: top;\n",
       "    }\n",
       "\n",
       "    .dataframe thead th {\n",
       "        text-align: right;\n",
       "    }\n",
       "</style>\n",
       "<table border=\"1\" class=\"dataframe\">\n",
       "  <thead>\n",
       "    <tr style=\"text-align: right;\">\n",
       "      <th></th>\n",
       "      <th>RecordID</th>\n",
       "      <th>Offense</th>\n",
       "      <th>IncidentID</th>\n",
       "      <th>BlockNumber</th>\n",
       "      <th>StreetName</th>\n",
       "      <th>Agency</th>\n",
       "      <th>HourReported</th>\n",
       "      <th>ReportingOfficer</th>\n",
       "      <th>Date</th>\n",
       "      <th>DateString</th>\n",
       "      <th>DayOfWeek</th>\n",
       "      <th>Weekend</th>\n",
       "      <th>Season</th>\n",
       "      <th>HourAMPM</th>\n",
       "      <th>TimeOfDay</th>\n",
       "      <th>FullStreet</th>\n",
       "      <th>lat</th>\n",
       "      <th>lon</th>\n",
       "    </tr>\n",
       "  </thead>\n",
       "  <tbody>\n",
       "    <tr>\n",
       "      <th>0</th>\n",
       "      <td>1</td>\n",
       "      <td>Assist Citizen - Mental/TDO/ECO</td>\n",
       "      <td>202500013182</td>\n",
       "      <td>900</td>\n",
       "      <td>MONTICELLO AVE</td>\n",
       "      <td>CPD</td>\n",
       "      <td>2030</td>\n",
       "      <td>Benbow, Lauren</td>\n",
       "      <td>2025-04-22 20:30:38</td>\n",
       "      <td>2025-04-22 08:30:38 PM</td>\n",
       "      <td>Tuesday</td>\n",
       "      <td>False</td>\n",
       "      <td>Spring</td>\n",
       "      <td>08:30 PM</td>\n",
       "      <td>Evening</td>\n",
       "      <td>900 MONTICELLO AVE</td>\n",
       "      <td>38.022670</td>\n",
       "      <td>-78.475939</td>\n",
       "    </tr>\n",
       "    <tr>\n",
       "      <th>1</th>\n",
       "      <td>2</td>\n",
       "      <td>Larceny - All Other</td>\n",
       "      <td>202500013176</td>\n",
       "      <td>900</td>\n",
       "      <td>RIVES ST</td>\n",
       "      <td>CPD</td>\n",
       "      <td>1859</td>\n",
       "      <td>Lowry, Brent</td>\n",
       "      <td>2025-04-22 18:59:41</td>\n",
       "      <td>2025-04-22 06:59:41 PM</td>\n",
       "      <td>Tuesday</td>\n",
       "      <td>False</td>\n",
       "      <td>Spring</td>\n",
       "      <td>06:59 PM</td>\n",
       "      <td>Evening</td>\n",
       "      <td>900 RIVES ST</td>\n",
       "      <td>38.017740</td>\n",
       "      <td>-78.469803</td>\n",
       "    </tr>\n",
       "    <tr>\n",
       "      <th>2</th>\n",
       "      <td>3</td>\n",
       "      <td>Larceny - All Other</td>\n",
       "      <td>202500013166</td>\n",
       "      <td>100</td>\n",
       "      <td>LANKFORD AVE</td>\n",
       "      <td>CPD</td>\n",
       "      <td>1846</td>\n",
       "      <td>Lowry, Brent</td>\n",
       "      <td>2025-04-22 18:46:09</td>\n",
       "      <td>2025-04-22 06:46:09 PM</td>\n",
       "      <td>Tuesday</td>\n",
       "      <td>False</td>\n",
       "      <td>Spring</td>\n",
       "      <td>06:46 PM</td>\n",
       "      <td>Evening</td>\n",
       "      <td>100 LANKFORD AVE</td>\n",
       "      <td>38.021311</td>\n",
       "      <td>-78.487056</td>\n",
       "    </tr>\n",
       "    <tr>\n",
       "      <th>3</th>\n",
       "      <td>4</td>\n",
       "      <td>Animal - Bite</td>\n",
       "      <td>202500013143</td>\n",
       "      <td>200</td>\n",
       "      <td>BURNET ST</td>\n",
       "      <td>CPD</td>\n",
       "      <td>1551</td>\n",
       "      <td>Lowry, Brent</td>\n",
       "      <td>2025-04-22 15:51:52</td>\n",
       "      <td>2025-04-22 03:51:52 PM</td>\n",
       "      <td>Tuesday</td>\n",
       "      <td>False</td>\n",
       "      <td>Spring</td>\n",
       "      <td>03:51 PM</td>\n",
       "      <td>Afternoon</td>\n",
       "      <td>200 BURNET ST</td>\n",
       "      <td>38.025060</td>\n",
       "      <td>-78.487269</td>\n",
       "    </tr>\n",
       "    <tr>\n",
       "      <th>4</th>\n",
       "      <td>5</td>\n",
       "      <td>Vandalism</td>\n",
       "      <td>202500013130</td>\n",
       "      <td>500</td>\n",
       "      <td>CLEVELAND AVE</td>\n",
       "      <td>CPD</td>\n",
       "      <td>1405</td>\n",
       "      <td>Turner, Devon</td>\n",
       "      <td>2025-04-22 14:05:44</td>\n",
       "      <td>2025-04-22 02:05:44 PM</td>\n",
       "      <td>Tuesday</td>\n",
       "      <td>False</td>\n",
       "      <td>Spring</td>\n",
       "      <td>02:05 PM</td>\n",
       "      <td>Afternoon</td>\n",
       "      <td>500 CLEVELAND AVE</td>\n",
       "      <td>38.017032</td>\n",
       "      <td>-78.498393</td>\n",
       "    </tr>\n",
       "  </tbody>\n",
       "</table>\n",
       "</div>"
      ],
      "text/plain": [
       "   RecordID                          Offense    IncidentID BlockNumber  \\\n",
       "0         1  Assist Citizen - Mental/TDO/ECO  202500013182         900   \n",
       "1         2              Larceny - All Other  202500013176         900   \n",
       "2         3              Larceny - All Other  202500013166         100   \n",
       "3         4                    Animal - Bite  202500013143         200   \n",
       "4         5                        Vandalism  202500013130         500   \n",
       "\n",
       "       StreetName Agency HourReported ReportingOfficer                Date  \\\n",
       "0  MONTICELLO AVE    CPD         2030   Benbow, Lauren 2025-04-22 20:30:38   \n",
       "1        RIVES ST    CPD         1859     Lowry, Brent 2025-04-22 18:59:41   \n",
       "2    LANKFORD AVE    CPD         1846     Lowry, Brent 2025-04-22 18:46:09   \n",
       "3       BURNET ST    CPD         1551     Lowry, Brent 2025-04-22 15:51:52   \n",
       "4   CLEVELAND AVE    CPD         1405    Turner, Devon 2025-04-22 14:05:44   \n",
       "\n",
       "               DateString DayOfWeek  Weekend  Season  HourAMPM  TimeOfDay  \\\n",
       "0  2025-04-22 08:30:38 PM   Tuesday    False  Spring  08:30 PM    Evening   \n",
       "1  2025-04-22 06:59:41 PM   Tuesday    False  Spring  06:59 PM    Evening   \n",
       "2  2025-04-22 06:46:09 PM   Tuesday    False  Spring  06:46 PM    Evening   \n",
       "3  2025-04-22 03:51:52 PM   Tuesday    False  Spring  03:51 PM  Afternoon   \n",
       "4  2025-04-22 02:05:44 PM   Tuesday    False  Spring  02:05 PM  Afternoon   \n",
       "\n",
       "           FullStreet        lat        lon  \n",
       "0  900 MONTICELLO AVE  38.022670 -78.475939  \n",
       "1        900 RIVES ST  38.017740 -78.469803  \n",
       "2    100 LANKFORD AVE  38.021311 -78.487056  \n",
       "3       200 BURNET ST  38.025060 -78.487269  \n",
       "4   500 CLEVELAND AVE  38.017032 -78.498393  "
      ]
     },
     "execution_count": 9,
     "metadata": {},
     "output_type": "execute_result"
    }
   ],
   "source": [
    "# Combine BlockNumber and StreetName into a full address string\n",
    "df['FullStreet'] = df['BlockNumber'].astype(str) + \" \" + df['StreetName']\n",
    "\n",
    "# --- Step 1: Setup the Google Maps Client and Cache ---\n",
    "gmaps = googlemaps.Client(key=GOOGLE_API_KEY)\n",
    "\n",
    "# Try to load cached geocoding results if available.\n",
    "try:\n",
    "    with open(\"geocode_cache_google.pkl\", \"rb\") as f:\n",
    "        street_coords = pickle.load(f)\n",
    "    print(\"Loaded geocode cache.\")\n",
    "except FileNotFoundError:\n",
    "    street_coords = {}\n",
    "    print(\"No cache found; starting fresh.\")\n",
    "\n",
    "def geocode_address(address):\n",
    "    try:\n",
    "        # Append city and state to help geocoding\n",
    "        result = gmaps.geocode(f\"{address}, Charlottesville, VA\")\n",
    "        if result:\n",
    "            lat = result[0]['geometry']['location']['lat']\n",
    "            lon = result[0]['geometry']['location']['lng']\n",
    "            return lat, lon\n",
    "    except Exception as e:\n",
    "        print(f\"Error geocoding {address}: {e}\")\n",
    "    return None, None\n",
    "\n",
    "# --- Step 2: Geocode Only New Addresses ---\n",
    "unique_addresses = df['FullStreet'].unique()\n",
    "for address in unique_addresses:\n",
    "    if address not in street_coords:\n",
    "        lat, lon = geocode_address(address)\n",
    "        street_coords[address] = (lat, lon)\n",
    "        print(f\"Geocoded {address}: {lat}, {lon}\")\n",
    "\n",
    "# Save the updated cache to disk.\n",
    "with open(\"geocode_cache_google.pkl\", \"wb\") as f:\n",
    "    pickle.dump(street_coords, f)\n",
    "    print(\"Geocode cache updated and saved.\")\n",
    "\n",
    "# --- Step 3: Map Coordinates Back to DataFrame ---\n",
    "df['lat'] = df['FullStreet'].map(lambda s: street_coords.get(s, (None, None))[0])\n",
    "df['lon'] = df['FullStreet'].map(lambda s: street_coords.get(s, (None, None))[1])\n",
    "\n",
    "df.head()"
   ]
  },
  {
   "cell_type": "markdown",
   "id": "220bc8cc",
   "metadata": {
    "papermill": {
     "duration": 0.006317,
     "end_time": "2025-04-25T01:01:58.023169",
     "exception": false,
     "start_time": "2025-04-25T01:01:58.016852",
     "status": "completed"
    },
    "tags": []
   },
   "source": [
    "### Neighborhood"
   ]
  },
  {
   "cell_type": "code",
   "execution_count": 10,
   "id": "63ee08c5",
   "metadata": {
    "execution": {
     "iopub.execute_input": "2025-04-25T01:01:58.037173Z",
     "iopub.status.busy": "2025-04-25T01:01:58.036660Z",
     "iopub.status.idle": "2025-04-25T01:01:58.308029Z",
     "shell.execute_reply": "2025-04-25T01:01:58.307308Z"
    },
    "papermill": {
     "duration": 0.279671,
     "end_time": "2025-04-25T01:01:58.309114",
     "exception": false,
     "start_time": "2025-04-25T01:01:58.029443",
     "status": "completed"
    },
    "tags": []
   },
   "outputs": [
    {
     "name": "stdout",
     "output_type": "stream",
     "text": [
      "Loaded neighborhood cache.\n"
     ]
    },
    {
     "data": {
      "text/html": [
       "<div>\n",
       "<style scoped>\n",
       "    .dataframe tbody tr th:only-of-type {\n",
       "        vertical-align: middle;\n",
       "    }\n",
       "\n",
       "    .dataframe tbody tr th {\n",
       "        vertical-align: top;\n",
       "    }\n",
       "\n",
       "    .dataframe thead th {\n",
       "        text-align: right;\n",
       "    }\n",
       "</style>\n",
       "<table border=\"1\" class=\"dataframe\">\n",
       "  <thead>\n",
       "    <tr style=\"text-align: right;\">\n",
       "      <th></th>\n",
       "      <th>RecordID</th>\n",
       "      <th>Offense</th>\n",
       "      <th>IncidentID</th>\n",
       "      <th>BlockNumber</th>\n",
       "      <th>StreetName</th>\n",
       "      <th>Agency</th>\n",
       "      <th>HourReported</th>\n",
       "      <th>ReportingOfficer</th>\n",
       "      <th>Date</th>\n",
       "      <th>DateString</th>\n",
       "      <th>DayOfWeek</th>\n",
       "      <th>Weekend</th>\n",
       "      <th>Season</th>\n",
       "      <th>HourAMPM</th>\n",
       "      <th>TimeOfDay</th>\n",
       "      <th>FullStreet</th>\n",
       "      <th>lat</th>\n",
       "      <th>lon</th>\n",
       "      <th>neighborhood</th>\n",
       "    </tr>\n",
       "  </thead>\n",
       "  <tbody>\n",
       "    <tr>\n",
       "      <th>0</th>\n",
       "      <td>1</td>\n",
       "      <td>Assist Citizen - Mental/TDO/ECO</td>\n",
       "      <td>202500013182</td>\n",
       "      <td>900</td>\n",
       "      <td>MONTICELLO AVE</td>\n",
       "      <td>CPD</td>\n",
       "      <td>2030</td>\n",
       "      <td>Benbow, Lauren</td>\n",
       "      <td>2025-04-22 20:30:38</td>\n",
       "      <td>2025-04-22 08:30:38 PM</td>\n",
       "      <td>Tuesday</td>\n",
       "      <td>False</td>\n",
       "      <td>Spring</td>\n",
       "      <td>08:30 PM</td>\n",
       "      <td>Evening</td>\n",
       "      <td>900 MONTICELLO AVE</td>\n",
       "      <td>38.022670</td>\n",
       "      <td>-78.475939</td>\n",
       "      <td>Belmont</td>\n",
       "    </tr>\n",
       "    <tr>\n",
       "      <th>1</th>\n",
       "      <td>2</td>\n",
       "      <td>Larceny - All Other</td>\n",
       "      <td>202500013176</td>\n",
       "      <td>900</td>\n",
       "      <td>RIVES ST</td>\n",
       "      <td>CPD</td>\n",
       "      <td>1859</td>\n",
       "      <td>Lowry, Brent</td>\n",
       "      <td>2025-04-22 18:59:41</td>\n",
       "      <td>2025-04-22 06:59:41 PM</td>\n",
       "      <td>Tuesday</td>\n",
       "      <td>False</td>\n",
       "      <td>Spring</td>\n",
       "      <td>06:59 PM</td>\n",
       "      <td>Evening</td>\n",
       "      <td>900 RIVES ST</td>\n",
       "      <td>38.017740</td>\n",
       "      <td>-78.469803</td>\n",
       "      <td>Belmont</td>\n",
       "    </tr>\n",
       "    <tr>\n",
       "      <th>2</th>\n",
       "      <td>3</td>\n",
       "      <td>Larceny - All Other</td>\n",
       "      <td>202500013166</td>\n",
       "      <td>100</td>\n",
       "      <td>LANKFORD AVE</td>\n",
       "      <td>CPD</td>\n",
       "      <td>1846</td>\n",
       "      <td>Lowry, Brent</td>\n",
       "      <td>2025-04-22 18:46:09</td>\n",
       "      <td>2025-04-22 06:46:09 PM</td>\n",
       "      <td>Tuesday</td>\n",
       "      <td>False</td>\n",
       "      <td>Spring</td>\n",
       "      <td>06:46 PM</td>\n",
       "      <td>Evening</td>\n",
       "      <td>100 LANKFORD AVE</td>\n",
       "      <td>38.021311</td>\n",
       "      <td>-78.487056</td>\n",
       "      <td>Ridge St.</td>\n",
       "    </tr>\n",
       "    <tr>\n",
       "      <th>3</th>\n",
       "      <td>4</td>\n",
       "      <td>Animal - Bite</td>\n",
       "      <td>202500013143</td>\n",
       "      <td>200</td>\n",
       "      <td>BURNET ST</td>\n",
       "      <td>CPD</td>\n",
       "      <td>1551</td>\n",
       "      <td>Lowry, Brent</td>\n",
       "      <td>2025-04-22 15:51:52</td>\n",
       "      <td>2025-04-22 03:51:52 PM</td>\n",
       "      <td>Tuesday</td>\n",
       "      <td>False</td>\n",
       "      <td>Spring</td>\n",
       "      <td>03:51 PM</td>\n",
       "      <td>Afternoon</td>\n",
       "      <td>200 BURNET ST</td>\n",
       "      <td>38.025060</td>\n",
       "      <td>-78.487269</td>\n",
       "      <td>Ridge St.</td>\n",
       "    </tr>\n",
       "    <tr>\n",
       "      <th>4</th>\n",
       "      <td>5</td>\n",
       "      <td>Vandalism</td>\n",
       "      <td>202500013130</td>\n",
       "      <td>500</td>\n",
       "      <td>CLEVELAND AVE</td>\n",
       "      <td>CPD</td>\n",
       "      <td>1405</td>\n",
       "      <td>Turner, Devon</td>\n",
       "      <td>2025-04-22 14:05:44</td>\n",
       "      <td>2025-04-22 02:05:44 PM</td>\n",
       "      <td>Tuesday</td>\n",
       "      <td>False</td>\n",
       "      <td>Spring</td>\n",
       "      <td>02:05 PM</td>\n",
       "      <td>Afternoon</td>\n",
       "      <td>500 CLEVELAND AVE</td>\n",
       "      <td>38.017032</td>\n",
       "      <td>-78.498393</td>\n",
       "      <td>Johnson Village</td>\n",
       "    </tr>\n",
       "  </tbody>\n",
       "</table>\n",
       "</div>"
      ],
      "text/plain": [
       "   RecordID                          Offense    IncidentID BlockNumber  \\\n",
       "0         1  Assist Citizen - Mental/TDO/ECO  202500013182         900   \n",
       "1         2              Larceny - All Other  202500013176         900   \n",
       "2         3              Larceny - All Other  202500013166         100   \n",
       "3         4                    Animal - Bite  202500013143         200   \n",
       "4         5                        Vandalism  202500013130         500   \n",
       "\n",
       "       StreetName Agency HourReported ReportingOfficer                Date  \\\n",
       "0  MONTICELLO AVE    CPD         2030   Benbow, Lauren 2025-04-22 20:30:38   \n",
       "1        RIVES ST    CPD         1859     Lowry, Brent 2025-04-22 18:59:41   \n",
       "2    LANKFORD AVE    CPD         1846     Lowry, Brent 2025-04-22 18:46:09   \n",
       "3       BURNET ST    CPD         1551     Lowry, Brent 2025-04-22 15:51:52   \n",
       "4   CLEVELAND AVE    CPD         1405    Turner, Devon 2025-04-22 14:05:44   \n",
       "\n",
       "               DateString DayOfWeek  Weekend  Season  HourAMPM  TimeOfDay  \\\n",
       "0  2025-04-22 08:30:38 PM   Tuesday    False  Spring  08:30 PM    Evening   \n",
       "1  2025-04-22 06:59:41 PM   Tuesday    False  Spring  06:59 PM    Evening   \n",
       "2  2025-04-22 06:46:09 PM   Tuesday    False  Spring  06:46 PM    Evening   \n",
       "3  2025-04-22 03:51:52 PM   Tuesday    False  Spring  03:51 PM  Afternoon   \n",
       "4  2025-04-22 02:05:44 PM   Tuesday    False  Spring  02:05 PM  Afternoon   \n",
       "\n",
       "           FullStreet        lat        lon     neighborhood  \n",
       "0  900 MONTICELLO AVE  38.022670 -78.475939          Belmont  \n",
       "1        900 RIVES ST  38.017740 -78.469803          Belmont  \n",
       "2    100 LANKFORD AVE  38.021311 -78.487056        Ridge St.  \n",
       "3       200 BURNET ST  38.025060 -78.487269        Ridge St.  \n",
       "4   500 CLEVELAND AVE  38.017032 -78.498393  Johnson Village  "
      ]
     },
     "execution_count": 10,
     "metadata": {},
     "output_type": "execute_result"
    }
   ],
   "source": [
    "# Initialize the Google Maps client.\n",
    "gmaps = googlemaps.Client(key=GOOGLE_API_KEY)\n",
    "\n",
    "# Try to load a persistent neighborhood cache if available.\n",
    "try:\n",
    "    with open(\"neighborhood_cache.pkl\", \"rb\") as f:\n",
    "        neighborhood_cache = pickle.load(f)\n",
    "    print(\"Loaded neighborhood cache.\")\n",
    "except FileNotFoundError:\n",
    "    neighborhood_cache = {}\n",
    "    print(\"No neighborhood cache found; starting fresh.\")\n",
    "\n",
    "def get_neighborhood(lat, lon):\n",
    "    \"\"\"\n",
    "    Reverse geocodes a latitude and longitude to retrieve the neighborhood.\n",
    "    Caches results to speed up subsequent lookups.\n",
    "    \"\"\"\n",
    "    key = (lat, lon)\n",
    "    if key in neighborhood_cache:\n",
    "        return neighborhood_cache[key]\n",
    "    \n",
    "    try:\n",
    "        result = gmaps.reverse_geocode((lat, lon))\n",
    "        if result:\n",
    "            # Look for the 'neighborhood' component in the first result.\n",
    "            for component in result[0]['address_components']:\n",
    "                if 'neighborhood' in component['types']:\n",
    "                    neighborhood = component['long_name']\n",
    "                    neighborhood_cache[key] = neighborhood\n",
    "                    return neighborhood\n",
    "            # If no neighborhood is found, return \"N/A\"\n",
    "            neighborhood_cache[key] = \"N/A\"\n",
    "            return \"N/A\"\n",
    "    except Exception as e:\n",
    "        print(f\"Error getting neighborhood for {lat}, {lon}: {e}\")\n",
    "        return \"N/A\"\n",
    "    \n",
    "    # Pause to respect usage limits.\n",
    "    time.sleep(1)\n",
    "\n",
    "# Example usage: Apply to your DataFrame 'df' that already has 'lat' and 'lon' columns.\n",
    "df['neighborhood'] = df.apply(lambda row: get_neighborhood(row['lat'], row['lon']), axis=1)\n",
    "\n",
    "# Save the updated neighborhood cache.\n",
    "with open(\"neighborhood_cache.pkl\", \"wb\") as f:\n",
    "    pickle.dump(neighborhood_cache, f)\n",
    "\n",
    "df.head()\n"
   ]
  },
  {
   "cell_type": "markdown",
   "id": "9d466e99",
   "metadata": {
    "papermill": {
     "duration": 0.006587,
     "end_time": "2025-04-25T01:01:58.322758",
     "exception": false,
     "start_time": "2025-04-25T01:01:58.316171",
     "status": "completed"
    },
    "tags": []
   },
   "source": [
    "### Zip"
   ]
  },
  {
   "cell_type": "code",
   "execution_count": 11,
   "id": "bc9fd0a4",
   "metadata": {
    "execution": {
     "iopub.execute_input": "2025-04-25T01:01:58.337496Z",
     "iopub.status.busy": "2025-04-25T01:01:58.336804Z",
     "iopub.status.idle": "2025-04-25T01:01:58.579183Z",
     "shell.execute_reply": "2025-04-25T01:01:58.578586Z"
    },
    "papermill": {
     "duration": 0.25094,
     "end_time": "2025-04-25T01:01:58.580179",
     "exception": false,
     "start_time": "2025-04-25T01:01:58.329239",
     "status": "completed"
    },
    "tags": []
   },
   "outputs": [
    {
     "name": "stdout",
     "output_type": "stream",
     "text": [
      "Loaded zip cache.\n"
     ]
    },
    {
     "data": {
      "text/html": [
       "<div>\n",
       "<style scoped>\n",
       "    .dataframe tbody tr th:only-of-type {\n",
       "        vertical-align: middle;\n",
       "    }\n",
       "\n",
       "    .dataframe tbody tr th {\n",
       "        vertical-align: top;\n",
       "    }\n",
       "\n",
       "    .dataframe thead th {\n",
       "        text-align: right;\n",
       "    }\n",
       "</style>\n",
       "<table border=\"1\" class=\"dataframe\">\n",
       "  <thead>\n",
       "    <tr style=\"text-align: right;\">\n",
       "      <th></th>\n",
       "      <th>RecordID</th>\n",
       "      <th>Offense</th>\n",
       "      <th>IncidentID</th>\n",
       "      <th>BlockNumber</th>\n",
       "      <th>StreetName</th>\n",
       "      <th>Agency</th>\n",
       "      <th>HourReported</th>\n",
       "      <th>ReportingOfficer</th>\n",
       "      <th>Date</th>\n",
       "      <th>DateString</th>\n",
       "      <th>DayOfWeek</th>\n",
       "      <th>Weekend</th>\n",
       "      <th>Season</th>\n",
       "      <th>HourAMPM</th>\n",
       "      <th>TimeOfDay</th>\n",
       "      <th>FullStreet</th>\n",
       "      <th>lat</th>\n",
       "      <th>lon</th>\n",
       "      <th>neighborhood</th>\n",
       "      <th>zip</th>\n",
       "    </tr>\n",
       "  </thead>\n",
       "  <tbody>\n",
       "    <tr>\n",
       "      <th>0</th>\n",
       "      <td>1</td>\n",
       "      <td>Assist Citizen - Mental/TDO/ECO</td>\n",
       "      <td>202500013182</td>\n",
       "      <td>900</td>\n",
       "      <td>MONTICELLO AVE</td>\n",
       "      <td>CPD</td>\n",
       "      <td>2030</td>\n",
       "      <td>Benbow, Lauren</td>\n",
       "      <td>2025-04-22 20:30:38</td>\n",
       "      <td>2025-04-22 08:30:38 PM</td>\n",
       "      <td>Tuesday</td>\n",
       "      <td>False</td>\n",
       "      <td>Spring</td>\n",
       "      <td>08:30 PM</td>\n",
       "      <td>Evening</td>\n",
       "      <td>900 MONTICELLO AVE</td>\n",
       "      <td>38.022670</td>\n",
       "      <td>-78.475939</td>\n",
       "      <td>Belmont</td>\n",
       "      <td>22903</td>\n",
       "    </tr>\n",
       "    <tr>\n",
       "      <th>1</th>\n",
       "      <td>2</td>\n",
       "      <td>Larceny - All Other</td>\n",
       "      <td>202500013176</td>\n",
       "      <td>900</td>\n",
       "      <td>RIVES ST</td>\n",
       "      <td>CPD</td>\n",
       "      <td>1859</td>\n",
       "      <td>Lowry, Brent</td>\n",
       "      <td>2025-04-22 18:59:41</td>\n",
       "      <td>2025-04-22 06:59:41 PM</td>\n",
       "      <td>Tuesday</td>\n",
       "      <td>False</td>\n",
       "      <td>Spring</td>\n",
       "      <td>06:59 PM</td>\n",
       "      <td>Evening</td>\n",
       "      <td>900 RIVES ST</td>\n",
       "      <td>38.017740</td>\n",
       "      <td>-78.469803</td>\n",
       "      <td>Belmont</td>\n",
       "      <td>22902</td>\n",
       "    </tr>\n",
       "    <tr>\n",
       "      <th>2</th>\n",
       "      <td>3</td>\n",
       "      <td>Larceny - All Other</td>\n",
       "      <td>202500013166</td>\n",
       "      <td>100</td>\n",
       "      <td>LANKFORD AVE</td>\n",
       "      <td>CPD</td>\n",
       "      <td>1846</td>\n",
       "      <td>Lowry, Brent</td>\n",
       "      <td>2025-04-22 18:46:09</td>\n",
       "      <td>2025-04-22 06:46:09 PM</td>\n",
       "      <td>Tuesday</td>\n",
       "      <td>False</td>\n",
       "      <td>Spring</td>\n",
       "      <td>06:46 PM</td>\n",
       "      <td>Evening</td>\n",
       "      <td>100 LANKFORD AVE</td>\n",
       "      <td>38.021311</td>\n",
       "      <td>-78.487056</td>\n",
       "      <td>Ridge St.</td>\n",
       "      <td>22903</td>\n",
       "    </tr>\n",
       "    <tr>\n",
       "      <th>3</th>\n",
       "      <td>4</td>\n",
       "      <td>Animal - Bite</td>\n",
       "      <td>202500013143</td>\n",
       "      <td>200</td>\n",
       "      <td>BURNET ST</td>\n",
       "      <td>CPD</td>\n",
       "      <td>1551</td>\n",
       "      <td>Lowry, Brent</td>\n",
       "      <td>2025-04-22 15:51:52</td>\n",
       "      <td>2025-04-22 03:51:52 PM</td>\n",
       "      <td>Tuesday</td>\n",
       "      <td>False</td>\n",
       "      <td>Spring</td>\n",
       "      <td>03:51 PM</td>\n",
       "      <td>Afternoon</td>\n",
       "      <td>200 BURNET ST</td>\n",
       "      <td>38.025060</td>\n",
       "      <td>-78.487269</td>\n",
       "      <td>Ridge St.</td>\n",
       "      <td>22902</td>\n",
       "    </tr>\n",
       "    <tr>\n",
       "      <th>4</th>\n",
       "      <td>5</td>\n",
       "      <td>Vandalism</td>\n",
       "      <td>202500013130</td>\n",
       "      <td>500</td>\n",
       "      <td>CLEVELAND AVE</td>\n",
       "      <td>CPD</td>\n",
       "      <td>1405</td>\n",
       "      <td>Turner, Devon</td>\n",
       "      <td>2025-04-22 14:05:44</td>\n",
       "      <td>2025-04-22 02:05:44 PM</td>\n",
       "      <td>Tuesday</td>\n",
       "      <td>False</td>\n",
       "      <td>Spring</td>\n",
       "      <td>02:05 PM</td>\n",
       "      <td>Afternoon</td>\n",
       "      <td>500 CLEVELAND AVE</td>\n",
       "      <td>38.017032</td>\n",
       "      <td>-78.498393</td>\n",
       "      <td>Johnson Village</td>\n",
       "      <td>22903</td>\n",
       "    </tr>\n",
       "  </tbody>\n",
       "</table>\n",
       "</div>"
      ],
      "text/plain": [
       "   RecordID                          Offense    IncidentID BlockNumber  \\\n",
       "0         1  Assist Citizen - Mental/TDO/ECO  202500013182         900   \n",
       "1         2              Larceny - All Other  202500013176         900   \n",
       "2         3              Larceny - All Other  202500013166         100   \n",
       "3         4                    Animal - Bite  202500013143         200   \n",
       "4         5                        Vandalism  202500013130         500   \n",
       "\n",
       "       StreetName Agency HourReported ReportingOfficer                Date  \\\n",
       "0  MONTICELLO AVE    CPD         2030   Benbow, Lauren 2025-04-22 20:30:38   \n",
       "1        RIVES ST    CPD         1859     Lowry, Brent 2025-04-22 18:59:41   \n",
       "2    LANKFORD AVE    CPD         1846     Lowry, Brent 2025-04-22 18:46:09   \n",
       "3       BURNET ST    CPD         1551     Lowry, Brent 2025-04-22 15:51:52   \n",
       "4   CLEVELAND AVE    CPD         1405    Turner, Devon 2025-04-22 14:05:44   \n",
       "\n",
       "               DateString DayOfWeek  Weekend  Season  HourAMPM  TimeOfDay  \\\n",
       "0  2025-04-22 08:30:38 PM   Tuesday    False  Spring  08:30 PM    Evening   \n",
       "1  2025-04-22 06:59:41 PM   Tuesday    False  Spring  06:59 PM    Evening   \n",
       "2  2025-04-22 06:46:09 PM   Tuesday    False  Spring  06:46 PM    Evening   \n",
       "3  2025-04-22 03:51:52 PM   Tuesday    False  Spring  03:51 PM  Afternoon   \n",
       "4  2025-04-22 02:05:44 PM   Tuesday    False  Spring  02:05 PM  Afternoon   \n",
       "\n",
       "           FullStreet        lat        lon     neighborhood    zip  \n",
       "0  900 MONTICELLO AVE  38.022670 -78.475939          Belmont  22903  \n",
       "1        900 RIVES ST  38.017740 -78.469803          Belmont  22902  \n",
       "2    100 LANKFORD AVE  38.021311 -78.487056        Ridge St.  22903  \n",
       "3       200 BURNET ST  38.025060 -78.487269        Ridge St.  22902  \n",
       "4   500 CLEVELAND AVE  38.017032 -78.498393  Johnson Village  22903  "
      ]
     },
     "execution_count": 11,
     "metadata": {},
     "output_type": "execute_result"
    }
   ],
   "source": [
    "# Initialize the geocoder.\n",
    "geolocator = Nominatim(user_agent=\"zip_lookup\")\n",
    "\n",
    "# Try to load a persistent ZIP cache if available.\n",
    "try:\n",
    "    with open(\"zip_cache.pkl\", \"rb\") as f:\n",
    "        zip_cache = pickle.load(f)\n",
    "    print(\"Loaded zip cache.\")\n",
    "except FileNotFoundError:\n",
    "    zip_cache = {}\n",
    "    print(\"No zip cache found; starting fresh.\")\n",
    "\n",
    "def get_zip(lat, lon):\n",
    "    \"\"\"\n",
    "    Reverse geocodes a latitude and longitude to retrieve the ZIP code.\n",
    "    Caches results to speed up subsequent lookups.\n",
    "    \"\"\"\n",
    "    key = (lat, lon)\n",
    "    if key in zip_cache:\n",
    "        return zip_cache[key]\n",
    "    \n",
    "    try:\n",
    "        location = geolocator.reverse((lat, lon), exactly_one=True, timeout=10)\n",
    "        address = location.raw.get('address', {})\n",
    "        postal_code = address.get('postcode', \"N/A\")\n",
    "    except Exception as e:\n",
    "        print(f\"Error getting ZIP for {lat}, {lon}: {e}\")\n",
    "        postal_code = \"N/A\"\n",
    "    \n",
    "    zip_cache[key] = postal_code\n",
    "    # Pause to respect the usage policy.\n",
    "    time.sleep(1)\n",
    "    return postal_code\n",
    "\n",
    "# Apply the function to each row in the DataFrame.\n",
    "df['zip'] = df.apply(lambda row: get_zip(row['lat'], row['lon']), axis=1)\n",
    "\n",
    "# Save the updated ZIP cache.\n",
    "with open(\"zip_cache.pkl\", \"wb\") as f:\n",
    "    pickle.dump(zip_cache, f)\n",
    "\n",
    "df.head()\n"
   ]
  },
  {
   "cell_type": "code",
   "execution_count": 12,
   "id": "cf31314c",
   "metadata": {
    "execution": {
     "iopub.execute_input": "2025-04-25T01:01:58.595919Z",
     "iopub.status.busy": "2025-04-25T01:01:58.595392Z",
     "iopub.status.idle": "2025-04-25T01:01:58.626291Z",
     "shell.execute_reply": "2025-04-25T01:01:58.625572Z"
    },
    "papermill": {
     "duration": 0.040082,
     "end_time": "2025-04-25T01:01:58.627534",
     "exception": false,
     "start_time": "2025-04-25T01:01:58.587452",
     "status": "completed"
    },
    "tags": []
   },
   "outputs": [
    {
     "name": "stdout",
     "output_type": "stream",
     "text": [
      "                  MissingCount  MissingPercentage\n",
      "RecordID                     0               0.00\n",
      "Offense                      0               0.00\n",
      "IncidentID                   0               0.00\n",
      "BlockNumber                  0               0.00\n",
      "StreetName                   0               0.00\n",
      "Agency                       0               0.00\n",
      "HourReported                 0               0.00\n",
      "ReportingOfficer            17               0.07\n",
      "Date                         0               0.00\n",
      "DateString                   0               0.00\n",
      "DayOfWeek                    0               0.00\n",
      "Weekend                      0               0.00\n",
      "Season                       0               0.00\n",
      "HourAMPM                     0               0.00\n",
      "TimeOfDay                    0               0.00\n",
      "FullStreet                   0               0.00\n",
      "lat                          0               0.00\n",
      "lon                          0               0.00\n",
      "neighborhood                 0               0.00\n",
      "zip                          0               0.00\n"
     ]
    }
   ],
   "source": [
    "missing_info = missing_percentage(df)\n",
    "print(missing_info)\n"
   ]
  },
  {
   "cell_type": "code",
   "execution_count": 13,
   "id": "9d16c7c9",
   "metadata": {
    "execution": {
     "iopub.execute_input": "2025-04-25T01:01:58.643469Z",
     "iopub.status.busy": "2025-04-25T01:01:58.642913Z",
     "iopub.status.idle": "2025-04-25T01:01:58.676244Z",
     "shell.execute_reply": "2025-04-25T01:01:58.675605Z"
    },
    "papermill": {
     "duration": 0.042534,
     "end_time": "2025-04-25T01:01:58.677333",
     "exception": false,
     "start_time": "2025-04-25T01:01:58.634799",
     "status": "completed"
    },
    "tags": []
   },
   "outputs": [
    {
     "name": "stdout",
     "output_type": "stream",
     "text": [
      "<class 'pandas.core.frame.DataFrame'>\n",
      "RangeIndex: 25258 entries, 0 to 25257\n",
      "Data columns (total 20 columns):\n",
      " #   Column            Non-Null Count  Dtype         \n",
      "---  ------            --------------  -----         \n",
      " 0   RecordID          25258 non-null  int64         \n",
      " 1   Offense           25258 non-null  object        \n",
      " 2   IncidentID        25258 non-null  object        \n",
      " 3   BlockNumber       25258 non-null  object        \n",
      " 4   StreetName        25258 non-null  object        \n",
      " 5   Agency            25258 non-null  object        \n",
      " 6   HourReported      25258 non-null  object        \n",
      " 7   ReportingOfficer  25241 non-null  object        \n",
      " 8   Date              25258 non-null  datetime64[ns]\n",
      " 9   DateString        25258 non-null  object        \n",
      " 10  DayOfWeek         25258 non-null  object        \n",
      " 11  Weekend           25258 non-null  bool          \n",
      " 12  Season            25258 non-null  object        \n",
      " 13  HourAMPM          25258 non-null  object        \n",
      " 14  TimeOfDay         25258 non-null  object        \n",
      " 15  FullStreet        25258 non-null  object        \n",
      " 16  lat               25258 non-null  float64       \n",
      " 17  lon               25258 non-null  float64       \n",
      " 18  neighborhood      25258 non-null  object        \n",
      " 19  zip               25258 non-null  object        \n",
      "dtypes: bool(1), datetime64[ns](1), float64(2), int64(1), object(15)\n",
      "memory usage: 3.7+ MB\n"
     ]
    }
   ],
   "source": [
    "df.info()"
   ]
  },
  {
   "cell_type": "code",
   "execution_count": 14,
   "id": "09bef397",
   "metadata": {
    "execution": {
     "iopub.execute_input": "2025-04-25T01:01:58.693276Z",
     "iopub.status.busy": "2025-04-25T01:01:58.692790Z",
     "iopub.status.idle": "2025-04-25T01:01:58.745321Z",
     "shell.execute_reply": "2025-04-25T01:01:58.744600Z"
    },
    "papermill": {
     "duration": 0.06175,
     "end_time": "2025-04-25T01:01:58.746444",
     "exception": false,
     "start_time": "2025-04-25T01:01:58.684694",
     "status": "completed"
    },
    "tags": []
   },
   "outputs": [
    {
     "data": {
      "text/html": [
       "<div>\n",
       "<style scoped>\n",
       "    .dataframe tbody tr th:only-of-type {\n",
       "        vertical-align: middle;\n",
       "    }\n",
       "\n",
       "    .dataframe tbody tr th {\n",
       "        vertical-align: top;\n",
       "    }\n",
       "\n",
       "    .dataframe thead th {\n",
       "        text-align: right;\n",
       "    }\n",
       "</style>\n",
       "<table border=\"1\" class=\"dataframe\">\n",
       "  <thead>\n",
       "    <tr style=\"text-align: right;\">\n",
       "      <th></th>\n",
       "      <th>RecordID</th>\n",
       "      <th>Offense</th>\n",
       "      <th>IncidentID</th>\n",
       "      <th>Agency</th>\n",
       "      <th>ReportingOfficer</th>\n",
       "      <th>Date</th>\n",
       "      <th>DayOfWeek</th>\n",
       "      <th>Weekend</th>\n",
       "      <th>Season</th>\n",
       "      <th>TimeOfDay</th>\n",
       "      <th>FullStreet</th>\n",
       "      <th>lat</th>\n",
       "      <th>lon</th>\n",
       "      <th>neighborhood</th>\n",
       "      <th>zip</th>\n",
       "    </tr>\n",
       "  </thead>\n",
       "  <tbody>\n",
       "    <tr>\n",
       "      <th>0</th>\n",
       "      <td>1</td>\n",
       "      <td>Assist Citizen - Mental/TDO/ECO</td>\n",
       "      <td>202500013182</td>\n",
       "      <td>CPD</td>\n",
       "      <td>Benbow, Lauren</td>\n",
       "      <td>2025-04-22 20:30:38</td>\n",
       "      <td>Tuesday</td>\n",
       "      <td>False</td>\n",
       "      <td>Spring</td>\n",
       "      <td>Evening</td>\n",
       "      <td>900 MONTICELLO AVE</td>\n",
       "      <td>38.022670</td>\n",
       "      <td>-78.475939</td>\n",
       "      <td>Belmont</td>\n",
       "      <td>22903</td>\n",
       "    </tr>\n",
       "    <tr>\n",
       "      <th>1</th>\n",
       "      <td>2</td>\n",
       "      <td>Larceny - All Other</td>\n",
       "      <td>202500013176</td>\n",
       "      <td>CPD</td>\n",
       "      <td>Lowry, Brent</td>\n",
       "      <td>2025-04-22 18:59:41</td>\n",
       "      <td>Tuesday</td>\n",
       "      <td>False</td>\n",
       "      <td>Spring</td>\n",
       "      <td>Evening</td>\n",
       "      <td>900 RIVES ST</td>\n",
       "      <td>38.017740</td>\n",
       "      <td>-78.469803</td>\n",
       "      <td>Belmont</td>\n",
       "      <td>22902</td>\n",
       "    </tr>\n",
       "    <tr>\n",
       "      <th>2</th>\n",
       "      <td>3</td>\n",
       "      <td>Larceny - All Other</td>\n",
       "      <td>202500013166</td>\n",
       "      <td>CPD</td>\n",
       "      <td>Lowry, Brent</td>\n",
       "      <td>2025-04-22 18:46:09</td>\n",
       "      <td>Tuesday</td>\n",
       "      <td>False</td>\n",
       "      <td>Spring</td>\n",
       "      <td>Evening</td>\n",
       "      <td>100 LANKFORD AVE</td>\n",
       "      <td>38.021311</td>\n",
       "      <td>-78.487056</td>\n",
       "      <td>Ridge St.</td>\n",
       "      <td>22903</td>\n",
       "    </tr>\n",
       "    <tr>\n",
       "      <th>3</th>\n",
       "      <td>4</td>\n",
       "      <td>Animal - Bite</td>\n",
       "      <td>202500013143</td>\n",
       "      <td>CPD</td>\n",
       "      <td>Lowry, Brent</td>\n",
       "      <td>2025-04-22 15:51:52</td>\n",
       "      <td>Tuesday</td>\n",
       "      <td>False</td>\n",
       "      <td>Spring</td>\n",
       "      <td>Afternoon</td>\n",
       "      <td>200 BURNET ST</td>\n",
       "      <td>38.025060</td>\n",
       "      <td>-78.487269</td>\n",
       "      <td>Ridge St.</td>\n",
       "      <td>22902</td>\n",
       "    </tr>\n",
       "    <tr>\n",
       "      <th>4</th>\n",
       "      <td>5</td>\n",
       "      <td>Vandalism</td>\n",
       "      <td>202500013130</td>\n",
       "      <td>CPD</td>\n",
       "      <td>Turner, Devon</td>\n",
       "      <td>2025-04-22 14:05:44</td>\n",
       "      <td>Tuesday</td>\n",
       "      <td>False</td>\n",
       "      <td>Spring</td>\n",
       "      <td>Afternoon</td>\n",
       "      <td>500 CLEVELAND AVE</td>\n",
       "      <td>38.017032</td>\n",
       "      <td>-78.498393</td>\n",
       "      <td>Johnson Village</td>\n",
       "      <td>22903</td>\n",
       "    </tr>\n",
       "  </tbody>\n",
       "</table>\n",
       "</div>"
      ],
      "text/plain": [
       "   RecordID                          Offense    IncidentID Agency  \\\n",
       "0         1  Assist Citizen - Mental/TDO/ECO  202500013182    CPD   \n",
       "1         2              Larceny - All Other  202500013176    CPD   \n",
       "2         3              Larceny - All Other  202500013166    CPD   \n",
       "3         4                    Animal - Bite  202500013143    CPD   \n",
       "4         5                        Vandalism  202500013130    CPD   \n",
       "\n",
       "  ReportingOfficer                Date DayOfWeek  Weekend  Season  TimeOfDay  \\\n",
       "0   Benbow, Lauren 2025-04-22 20:30:38   Tuesday    False  Spring    Evening   \n",
       "1     Lowry, Brent 2025-04-22 18:59:41   Tuesday    False  Spring    Evening   \n",
       "2     Lowry, Brent 2025-04-22 18:46:09   Tuesday    False  Spring    Evening   \n",
       "3     Lowry, Brent 2025-04-22 15:51:52   Tuesday    False  Spring  Afternoon   \n",
       "4    Turner, Devon 2025-04-22 14:05:44   Tuesday    False  Spring  Afternoon   \n",
       "\n",
       "           FullStreet        lat        lon     neighborhood    zip  \n",
       "0  900 MONTICELLO AVE  38.022670 -78.475939          Belmont  22903  \n",
       "1        900 RIVES ST  38.017740 -78.469803          Belmont  22902  \n",
       "2    100 LANKFORD AVE  38.021311 -78.487056        Ridge St.  22903  \n",
       "3       200 BURNET ST  38.025060 -78.487269        Ridge St.  22902  \n",
       "4   500 CLEVELAND AVE  38.017032 -78.498393  Johnson Village  22903  "
      ]
     },
     "execution_count": 14,
     "metadata": {},
     "output_type": "execute_result"
    }
   ],
   "source": [
    "# Now drop the original BlockNumber and StreetName columns\n",
    "df.drop(columns=['BlockNumber', 'StreetName','HourAMPM','HourReported','DateString'], inplace=True)\n",
    "df[\"zip\"] = df[\"zip\"].astype(str)\n",
    "\n",
    "# Fill all missing values in the DataFrame with \"N/A\"\n",
    "df.replace({None: \"N/A\", np.nan: \"N/A\", \"\": \"N/A\"}, inplace=True)\n",
    "df.head()"
   ]
  },
  {
   "cell_type": "code",
   "execution_count": 15,
   "id": "e5b86a35",
   "metadata": {
    "execution": {
     "iopub.execute_input": "2025-04-25T01:01:58.763054Z",
     "iopub.status.busy": "2025-04-25T01:01:58.762554Z",
     "iopub.status.idle": "2025-04-25T01:01:58.784222Z",
     "shell.execute_reply": "2025-04-25T01:01:58.783604Z"
    },
    "papermill": {
     "duration": 0.031125,
     "end_time": "2025-04-25T01:01:58.785272",
     "exception": false,
     "start_time": "2025-04-25T01:01:58.754147",
     "status": "completed"
    },
    "tags": []
   },
   "outputs": [
    {
     "name": "stdout",
     "output_type": "stream",
     "text": [
      "                  MissingCount  MissingPercentage\n",
      "RecordID                     0                0.0\n",
      "Offense                      0                0.0\n",
      "IncidentID                   0                0.0\n",
      "Agency                       0                0.0\n",
      "ReportingOfficer             0                0.0\n",
      "Date                         0                0.0\n",
      "DayOfWeek                    0                0.0\n",
      "Weekend                      0                0.0\n",
      "Season                       0                0.0\n",
      "TimeOfDay                    0                0.0\n",
      "FullStreet                   0                0.0\n",
      "lat                          0                0.0\n",
      "lon                          0                0.0\n",
      "neighborhood                 0                0.0\n",
      "zip                          0                0.0\n"
     ]
    }
   ],
   "source": [
    "missing_info = missing_percentage(df)\n",
    "print(missing_info)"
   ]
  },
  {
   "cell_type": "code",
   "execution_count": 16,
   "id": "5685d7b8",
   "metadata": {
    "execution": {
     "iopub.execute_input": "2025-04-25T01:01:58.801460Z",
     "iopub.status.busy": "2025-04-25T01:01:58.801145Z",
     "iopub.status.idle": "2025-04-25T01:01:58.806313Z",
     "shell.execute_reply": "2025-04-25T01:01:58.805723Z"
    },
    "papermill": {
     "duration": 0.01452,
     "end_time": "2025-04-25T01:01:58.807327",
     "exception": false,
     "start_time": "2025-04-25T01:01:58.792807",
     "status": "completed"
    },
    "tags": []
   },
   "outputs": [
    {
     "data": {
      "text/plain": [
       "Index(['RecordID', 'Offense', 'IncidentID', 'Agency', 'ReportingOfficer',\n",
       "       'Date', 'DayOfWeek', 'Weekend', 'Season', 'TimeOfDay', 'FullStreet',\n",
       "       'lat', 'lon', 'neighborhood', 'zip'],\n",
       "      dtype='object')"
      ]
     },
     "execution_count": 16,
     "metadata": {},
     "output_type": "execute_result"
    }
   ],
   "source": [
    "df.columns"
   ]
  },
  {
   "cell_type": "code",
   "execution_count": 17,
   "id": "c936eb9c",
   "metadata": {
    "execution": {
     "iopub.execute_input": "2025-04-25T01:01:58.824244Z",
     "iopub.status.busy": "2025-04-25T01:01:58.823704Z",
     "iopub.status.idle": "2025-04-25T01:01:58.847070Z",
     "shell.execute_reply": "2025-04-25T01:01:58.846500Z"
    },
    "papermill": {
     "duration": 0.032987,
     "end_time": "2025-04-25T01:01:58.848115",
     "exception": false,
     "start_time": "2025-04-25T01:01:58.815128",
     "status": "completed"
    },
    "tags": []
   },
   "outputs": [
    {
     "name": "stdout",
     "output_type": "stream",
     "text": [
      "<class 'pandas.core.frame.DataFrame'>\n",
      "RangeIndex: 25258 entries, 0 to 25257\n",
      "Data columns (total 15 columns):\n",
      " #   Column            Non-Null Count  Dtype         \n",
      "---  ------            --------------  -----         \n",
      " 0   RecordID          25258 non-null  int64         \n",
      " 1   Offense           25258 non-null  object        \n",
      " 2   IncidentID        25258 non-null  object        \n",
      " 3   Agency            25258 non-null  object        \n",
      " 4   ReportingOfficer  25258 non-null  object        \n",
      " 5   Date              25258 non-null  datetime64[ns]\n",
      " 6   DayOfWeek         25258 non-null  object        \n",
      " 7   Weekend           25258 non-null  bool          \n",
      " 8   Season            25258 non-null  object        \n",
      " 9   TimeOfDay         25258 non-null  object        \n",
      " 10  FullStreet        25258 non-null  object        \n",
      " 11  lat               25258 non-null  float64       \n",
      " 12  lon               25258 non-null  float64       \n",
      " 13  neighborhood      25258 non-null  object        \n",
      " 14  zip               25258 non-null  object        \n",
      "dtypes: bool(1), datetime64[ns](1), float64(2), int64(1), object(10)\n",
      "memory usage: 2.7+ MB\n"
     ]
    }
   ],
   "source": [
    "df.info()"
   ]
  },
  {
   "cell_type": "markdown",
   "id": "f98ccada",
   "metadata": {
    "papermill": {
     "duration": 0.007408,
     "end_time": "2025-04-25T01:01:58.863449",
     "exception": false,
     "start_time": "2025-04-25T01:01:58.856041",
     "status": "completed"
    },
    "tags": []
   },
   "source": [
    "### Export Clean Data"
   ]
  },
  {
   "cell_type": "code",
   "execution_count": 18,
   "id": "b17fc07a",
   "metadata": {
    "execution": {
     "iopub.execute_input": "2025-04-25T01:01:58.879913Z",
     "iopub.status.busy": "2025-04-25T01:01:58.879349Z",
     "iopub.status.idle": "2025-04-25T01:02:08.274159Z",
     "shell.execute_reply": "2025-04-25T01:02:08.273383Z"
    },
    "papermill": {
     "duration": 9.40426,
     "end_time": "2025-04-25T01:02:08.275193",
     "exception": false,
     "start_time": "2025-04-25T01:01:58.870933",
     "status": "completed"
    },
    "tags": []
   },
   "outputs": [
    {
     "name": "stdout",
     "output_type": "stream",
     "text": [
      "Project Root: /home/runner/work/crime-data/crime-data\n"
     ]
    },
    {
     "name": "stdout",
     "output_type": "stream",
     "text": [
      "Data saved to: /home/runner/work/crime-data/crime-data/data/charlottesville_crime_incidents.csv\n"
     ]
    },
    {
     "name": "stdout",
     "output_type": "stream",
     "text": [
      "Excel saved to: /home/runner/work/crime-data/crime-data/data/charlottesville_crime_incidents.xlsx\n"
     ]
    }
   ],
   "source": [
    "# Determine the project root (assuming papermill is run from the repository root)\n",
    "project_root = os.getcwd()\n",
    "print(\"Project Root:\", project_root)\n",
    "\n",
    "# Set the data directory within the project root\n",
    "data_dir = os.path.join(project_root, \"data\")\n",
    "\n",
    "# Ensure the \"data\" directory exists (create it if it doesn't)\n",
    "if not os.path.exists(data_dir):\n",
    "    os.makedirs(data_dir)\n",
    "\n",
    "# Export the DataFrame to CSV in the \"data\" folder located in the project root\n",
    "csv_path = os.path.join(data_dir, \"charlottesville_crime_incidents.csv\")\n",
    "df.to_csv(csv_path, index=False)\n",
    "print(\"Data saved to:\", csv_path)\n",
    "\n",
    "# Construct the path to your Excel file\n",
    "excel_path = os.path.join(data_dir, \"charlottesville_crime_incidents.xlsx\")\n",
    "\n",
    "# Export the DataFrame to Excel\n",
    "df.to_excel(excel_path, index=False)\n",
    "print(\"Excel saved to:\", excel_path)\n"
   ]
  },
  {
   "cell_type": "markdown",
   "id": "e8816a45",
   "metadata": {
    "papermill": {
     "duration": 0.007747,
     "end_time": "2025-04-25T01:02:08.291134",
     "exception": false,
     "start_time": "2025-04-25T01:02:08.283387",
     "status": "completed"
    },
    "tags": []
   },
   "source": [
    "## Predictive Analytics"
   ]
  },
  {
   "cell_type": "code",
   "execution_count": 19,
   "id": "49403354",
   "metadata": {
    "execution": {
     "iopub.execute_input": "2025-04-25T01:02:08.334176Z",
     "iopub.status.busy": "2025-04-25T01:02:08.333698Z",
     "iopub.status.idle": "2025-04-25T01:02:08.345398Z",
     "shell.execute_reply": "2025-04-25T01:02:08.344818Z"
    },
    "papermill": {
     "duration": 0.021478,
     "end_time": "2025-04-25T01:02:08.346327",
     "exception": false,
     "start_time": "2025-04-25T01:02:08.324849",
     "status": "completed"
    },
    "tags": []
   },
   "outputs": [
    {
     "data": {
      "text/html": [
       "<div>\n",
       "<style scoped>\n",
       "    .dataframe tbody tr th:only-of-type {\n",
       "        vertical-align: middle;\n",
       "    }\n",
       "\n",
       "    .dataframe tbody tr th {\n",
       "        vertical-align: top;\n",
       "    }\n",
       "\n",
       "    .dataframe thead th {\n",
       "        text-align: right;\n",
       "    }\n",
       "</style>\n",
       "<table border=\"1\" class=\"dataframe\">\n",
       "  <thead>\n",
       "    <tr style=\"text-align: right;\">\n",
       "      <th></th>\n",
       "      <th>RecordID</th>\n",
       "      <th>Offense</th>\n",
       "      <th>IncidentID</th>\n",
       "      <th>Agency</th>\n",
       "      <th>ReportingOfficer</th>\n",
       "      <th>Date</th>\n",
       "      <th>DayOfWeek</th>\n",
       "      <th>Weekend</th>\n",
       "      <th>Season</th>\n",
       "      <th>TimeOfDay</th>\n",
       "      <th>FullStreet</th>\n",
       "      <th>lat</th>\n",
       "      <th>lon</th>\n",
       "      <th>neighborhood</th>\n",
       "      <th>zip</th>\n",
       "    </tr>\n",
       "  </thead>\n",
       "  <tbody>\n",
       "    <tr>\n",
       "      <th>0</th>\n",
       "      <td>1</td>\n",
       "      <td>Assist Citizen - Mental/TDO/ECO</td>\n",
       "      <td>202500013182</td>\n",
       "      <td>CPD</td>\n",
       "      <td>Benbow, Lauren</td>\n",
       "      <td>2025-04-22 20:30:38</td>\n",
       "      <td>Tuesday</td>\n",
       "      <td>False</td>\n",
       "      <td>Spring</td>\n",
       "      <td>Evening</td>\n",
       "      <td>900 MONTICELLO AVE</td>\n",
       "      <td>38.022670</td>\n",
       "      <td>-78.475939</td>\n",
       "      <td>Belmont</td>\n",
       "      <td>22903</td>\n",
       "    </tr>\n",
       "    <tr>\n",
       "      <th>1</th>\n",
       "      <td>2</td>\n",
       "      <td>Larceny - All Other</td>\n",
       "      <td>202500013176</td>\n",
       "      <td>CPD</td>\n",
       "      <td>Lowry, Brent</td>\n",
       "      <td>2025-04-22 18:59:41</td>\n",
       "      <td>Tuesday</td>\n",
       "      <td>False</td>\n",
       "      <td>Spring</td>\n",
       "      <td>Evening</td>\n",
       "      <td>900 RIVES ST</td>\n",
       "      <td>38.017740</td>\n",
       "      <td>-78.469803</td>\n",
       "      <td>Belmont</td>\n",
       "      <td>22902</td>\n",
       "    </tr>\n",
       "    <tr>\n",
       "      <th>2</th>\n",
       "      <td>3</td>\n",
       "      <td>Larceny - All Other</td>\n",
       "      <td>202500013166</td>\n",
       "      <td>CPD</td>\n",
       "      <td>Lowry, Brent</td>\n",
       "      <td>2025-04-22 18:46:09</td>\n",
       "      <td>Tuesday</td>\n",
       "      <td>False</td>\n",
       "      <td>Spring</td>\n",
       "      <td>Evening</td>\n",
       "      <td>100 LANKFORD AVE</td>\n",
       "      <td>38.021311</td>\n",
       "      <td>-78.487056</td>\n",
       "      <td>Ridge St.</td>\n",
       "      <td>22903</td>\n",
       "    </tr>\n",
       "    <tr>\n",
       "      <th>3</th>\n",
       "      <td>4</td>\n",
       "      <td>Animal - Bite</td>\n",
       "      <td>202500013143</td>\n",
       "      <td>CPD</td>\n",
       "      <td>Lowry, Brent</td>\n",
       "      <td>2025-04-22 15:51:52</td>\n",
       "      <td>Tuesday</td>\n",
       "      <td>False</td>\n",
       "      <td>Spring</td>\n",
       "      <td>Afternoon</td>\n",
       "      <td>200 BURNET ST</td>\n",
       "      <td>38.025060</td>\n",
       "      <td>-78.487269</td>\n",
       "      <td>Ridge St.</td>\n",
       "      <td>22902</td>\n",
       "    </tr>\n",
       "    <tr>\n",
       "      <th>4</th>\n",
       "      <td>5</td>\n",
       "      <td>Vandalism</td>\n",
       "      <td>202500013130</td>\n",
       "      <td>CPD</td>\n",
       "      <td>Turner, Devon</td>\n",
       "      <td>2025-04-22 14:05:44</td>\n",
       "      <td>Tuesday</td>\n",
       "      <td>False</td>\n",
       "      <td>Spring</td>\n",
       "      <td>Afternoon</td>\n",
       "      <td>500 CLEVELAND AVE</td>\n",
       "      <td>38.017032</td>\n",
       "      <td>-78.498393</td>\n",
       "      <td>Johnson Village</td>\n",
       "      <td>22903</td>\n",
       "    </tr>\n",
       "  </tbody>\n",
       "</table>\n",
       "</div>"
      ],
      "text/plain": [
       "   RecordID                          Offense    IncidentID Agency  \\\n",
       "0         1  Assist Citizen - Mental/TDO/ECO  202500013182    CPD   \n",
       "1         2              Larceny - All Other  202500013176    CPD   \n",
       "2         3              Larceny - All Other  202500013166    CPD   \n",
       "3         4                    Animal - Bite  202500013143    CPD   \n",
       "4         5                        Vandalism  202500013130    CPD   \n",
       "\n",
       "  ReportingOfficer                Date DayOfWeek  Weekend  Season  TimeOfDay  \\\n",
       "0   Benbow, Lauren 2025-04-22 20:30:38   Tuesday    False  Spring    Evening   \n",
       "1     Lowry, Brent 2025-04-22 18:59:41   Tuesday    False  Spring    Evening   \n",
       "2     Lowry, Brent 2025-04-22 18:46:09   Tuesday    False  Spring    Evening   \n",
       "3     Lowry, Brent 2025-04-22 15:51:52   Tuesday    False  Spring  Afternoon   \n",
       "4    Turner, Devon 2025-04-22 14:05:44   Tuesday    False  Spring  Afternoon   \n",
       "\n",
       "           FullStreet        lat        lon     neighborhood    zip  \n",
       "0  900 MONTICELLO AVE  38.022670 -78.475939          Belmont  22903  \n",
       "1        900 RIVES ST  38.017740 -78.469803          Belmont  22902  \n",
       "2    100 LANKFORD AVE  38.021311 -78.487056        Ridge St.  22903  \n",
       "3       200 BURNET ST  38.025060 -78.487269        Ridge St.  22902  \n",
       "4   500 CLEVELAND AVE  38.017032 -78.498393  Johnson Village  22903  "
      ]
     },
     "execution_count": 19,
     "metadata": {},
     "output_type": "execute_result"
    }
   ],
   "source": [
    "df.head()"
   ]
  },
  {
   "cell_type": "code",
   "execution_count": 20,
   "id": "fee5f311",
   "metadata": {
    "execution": {
     "iopub.execute_input": "2025-04-25T01:02:08.363394Z",
     "iopub.status.busy": "2025-04-25T01:02:08.362895Z",
     "iopub.status.idle": "2025-04-25T01:02:08.367687Z",
     "shell.execute_reply": "2025-04-25T01:02:08.367015Z"
    },
    "papermill": {
     "duration": 0.014454,
     "end_time": "2025-04-25T01:02:08.368778",
     "exception": false,
     "start_time": "2025-04-25T01:02:08.354324",
     "status": "completed"
    },
    "tags": []
   },
   "outputs": [
    {
     "data": {
      "text/plain": [
       "Index(['RecordID', 'Offense', 'IncidentID', 'Agency', 'ReportingOfficer',\n",
       "       'Date', 'DayOfWeek', 'Weekend', 'Season', 'TimeOfDay', 'FullStreet',\n",
       "       'lat', 'lon', 'neighborhood', 'zip'],\n",
       "      dtype='object')"
      ]
     },
     "execution_count": 20,
     "metadata": {},
     "output_type": "execute_result"
    }
   ],
   "source": [
    "df.columns"
   ]
  },
  {
   "cell_type": "markdown",
   "id": "719f306e",
   "metadata": {
    "papermill": {
     "duration": 0.007841,
     "end_time": "2025-04-25T01:02:08.384639",
     "exception": false,
     "start_time": "2025-04-25T01:02:08.376798",
     "status": "completed"
    },
    "tags": []
   },
   "source": [
    "### Data Preparation\n",
    "\n",
    "We need to ensure the data is in the correct format for modeling and can handle missing values, categorical variables, and dates. Here's how to prepare your data:"
   ]
  },
  {
   "cell_type": "code",
   "execution_count": 21,
   "id": "e67a5000",
   "metadata": {
    "execution": {
     "iopub.execute_input": "2025-04-25T01:02:08.402011Z",
     "iopub.status.busy": "2025-04-25T01:02:08.401381Z",
     "iopub.status.idle": "2025-04-25T01:02:10.270302Z",
     "shell.execute_reply": "2025-04-25T01:02:10.269538Z"
    },
    "papermill": {
     "duration": 1.878989,
     "end_time": "2025-04-25T01:02:10.271652",
     "exception": false,
     "start_time": "2025-04-25T01:02:08.392663",
     "status": "completed"
    },
    "tags": []
   },
   "outputs": [],
   "source": [
    "import pandas as pd\n",
    "from sklearn.model_selection import train_test_split\n",
    "from sklearn.preprocessing import OneHotEncoder, LabelEncoder\n",
    "from sklearn.ensemble import RandomForestClassifier\n",
    "from sklearn.linear_model import LogisticRegression\n",
    "from sklearn.tree import DecisionTreeClassifier\n",
    "from sklearn.metrics import classification_report, accuracy_score\n",
    "import seaborn as sns\n",
    "import matplotlib.pyplot as plt\n",
    "\n",
    "# Convert 'Date' to datetime\n",
    "df['Date'] = pd.to_datetime(df['Date'])\n",
    "\n",
    "# Feature engineering: Extract additional time-based features\n",
    "df['Year'] = df['Date'].dt.year\n",
    "df['Month'] = df['Date'].dt.month\n",
    "df['DayOfMonth'] = df['Date'].dt.day\n",
    "\n",
    "# One-hot encoding for 'FullStreet', 'neighborhood', 'zip'\n",
    "df = pd.get_dummies(df, columns=['FullStreet', 'neighborhood', 'zip'], drop_first=True)\n",
    "\n",
    "# Label encoding for ordered variables (those with a natural order like 'DayOfWeek', 'Season', 'TimeOfDay')\n",
    "label_encoders = {}\n",
    "for column in ['DayOfWeek', 'Season', 'TimeOfDay', 'Agency', 'ReportingOfficer']:  # Example ordinal variables\n",
    "    le = LabelEncoder()\n",
    "    df[column] = le.fit_transform(df[column])\n",
    "    label_encoders[column] = le\n",
    "\n",
    "# Filter the dataset to include only the offenses of interest\n",
    "offenses_of_interest = [\n",
    "    'Hit and Run', 'Assault Simple', 'Suspicious Activity', 'Vandalism', \n",
    "    'Larceny - From Mot Vehicle', 'Larceny - All Other', \n",
    "    'Assist Citizen - Mental/TDO/ECO', 'Lost/FoundProperty'\n",
    "]\n",
    "\n",
    "df = df[df['Offense'].isin(offenses_of_interest)]\n",
    "\n",
    "# Label encode the target variable (Offense)\n",
    "offense_encoder = LabelEncoder()\n",
    "df['Offense'] = offense_encoder.fit_transform(df['Offense'])\n",
    "\n",
    "# Separate features (X) and target (y)\n",
    "X = df[['Year', 'Month', 'DayOfMonth', 'DayOfWeek', 'Weekend', 'Season', 'TimeOfDay', 'lat', 'lon', 'Agency', 'ReportingOfficer']]\n",
    "y = df['Offense']  # Offense is now the encoded target variable\n",
    "\n",
    "# Split the data into training and testing sets\n",
    "X_train, X_test, y_train, y_test = train_test_split(X, y, test_size=0.3, random_state=42)\n"
   ]
  },
  {
   "cell_type": "markdown",
   "id": "ab662ada",
   "metadata": {
    "papermill": {
     "duration": 0.007978,
     "end_time": "2025-04-25T01:02:10.287905",
     "exception": false,
     "start_time": "2025-04-25T01:02:10.279927",
     "status": "completed"
    },
    "tags": []
   },
   "source": [
    "### Model Training\n",
    "\n",
    "Here we will train several models (e.g., Random Forest, Logistic Regression, and Decision Tree). We will use cross-validation to choose the best model based on accuracy, and then explain the impact of the variables."
   ]
  },
  {
   "cell_type": "code",
   "execution_count": 22,
   "id": "99de1475",
   "metadata": {
    "execution": {
     "iopub.execute_input": "2025-04-25T01:02:10.305649Z",
     "iopub.status.busy": "2025-04-25T01:02:10.305156Z",
     "iopub.status.idle": "2025-04-25T01:02:13.838469Z",
     "shell.execute_reply": "2025-04-25T01:02:13.837885Z"
    },
    "papermill": {
     "duration": 3.543522,
     "end_time": "2025-04-25T01:02:13.839591",
     "exception": false,
     "start_time": "2025-04-25T01:02:10.296069",
     "status": "completed"
    },
    "tags": []
   },
   "outputs": [
    {
     "name": "stderr",
     "output_type": "stream",
     "text": [
      "/opt/hostedtoolcache/Python/3.9.22/x64/lib/python3.9/site-packages/sklearn/linear_model/_logistic.py:465: ConvergenceWarning: lbfgs failed to converge (status=1):\n",
      "STOP: TOTAL NO. of ITERATIONS REACHED LIMIT.\n",
      "\n",
      "Increase the number of iterations (max_iter) or scale the data as shown in:\n",
      "    https://scikit-learn.org/stable/modules/preprocessing.html\n",
      "Please also refer to the documentation for alternative solver options:\n",
      "    https://scikit-learn.org/stable/modules/linear_model.html#logistic-regression\n",
      "  n_iter_i = _check_optimize_result(\n",
      "/opt/hostedtoolcache/Python/3.9.22/x64/lib/python3.9/site-packages/sklearn/metrics/_classification.py:1565: UndefinedMetricWarning: Precision is ill-defined and being set to 0.0 in labels with no predicted samples. Use `zero_division` parameter to control this behavior.\n",
      "  _warn_prf(average, modifier, f\"{metric.capitalize()} is\", len(result))\n",
      "/opt/hostedtoolcache/Python/3.9.22/x64/lib/python3.9/site-packages/sklearn/metrics/_classification.py:1565: UndefinedMetricWarning: Precision is ill-defined and being set to 0.0 in labels with no predicted samples. Use `zero_division` parameter to control this behavior.\n",
      "  _warn_prf(average, modifier, f\"{metric.capitalize()} is\", len(result))\n",
      "/opt/hostedtoolcache/Python/3.9.22/x64/lib/python3.9/site-packages/sklearn/metrics/_classification.py:1565: UndefinedMetricWarning: Precision is ill-defined and being set to 0.0 in labels with no predicted samples. Use `zero_division` parameter to control this behavior.\n",
      "  _warn_prf(average, modifier, f\"{metric.capitalize()} is\", len(result))\n"
     ]
    },
    {
     "name": "stdout",
     "output_type": "stream",
     "text": [
      "\n",
      "Classification Report for All Models:\n",
      "\n",
      "Model: RandomForest\n",
      "Accuracy: 0.2874\n",
      "              precision    recall  f1-score      support\n",
      "0              0.293447  0.357639  0.322379   576.000000\n",
      "1              0.261972  0.232500  0.246358   400.000000\n",
      "2              0.316456  0.477941  0.380785   680.000000\n",
      "3              0.230337  0.175589  0.199271   467.000000\n",
      "4              0.282700  0.199405  0.233857   336.000000\n",
      "5              0.281013  0.209434  0.240000   530.000000\n",
      "6              0.284264  0.234801  0.257176   477.000000\n",
      "accuracy       0.287363  0.287363  0.287363     0.287363\n",
      "macro avg      0.278598  0.269615  0.268546  3466.000000\n",
      "weighted avg   0.281618  0.287363  0.278325  3466.000000\n"
     ]
    },
    {
     "data": {
      "image/png": "[encoded data removed]",
      "text/plain": [
       "<Figure size 800x600 with 2 Axes>"
      ]
     },
     "metadata": {},
     "output_type": "display_data"
    },
    {
     "name": "stdout",
     "output_type": "stream",
     "text": [
      "\n",
      "Model: LogisticRegression\n",
      "Accuracy: 0.2129\n",
      "              precision    recall  f1-score      support\n",
      "0              0.204512  0.487847  0.288205   576.000000\n",
      "1              0.000000  0.000000  0.000000   400.000000\n",
      "2              0.218451  0.672059  0.329726   680.000000\n",
      "3              0.000000  0.000000  0.000000   467.000000\n",
      "4              0.000000  0.000000  0.000000   336.000000\n",
      "5              0.000000  0.000000  0.000000   530.000000\n",
      "6              0.000000  0.000000  0.000000   477.000000\n",
      "accuracy       0.212926  0.212926  0.212926     0.212926\n",
      "macro avg      0.060423  0.165701  0.088276  3466.000000\n",
      "weighted avg   0.076845  0.212926  0.112585  3466.000000\n"
     ]
    },
    {
     "data": {
      "image/png": "[encoded data removed]",
      "text/plain": [
       "<Figure size 800x600 with 2 Axes>"
      ]
     },
     "metadata": {},
     "output_type": "display_data"
    },
    {
     "name": "stdout",
     "output_type": "stream",
     "text": [
      "\n",
      "Model: DecisionTree\n",
      "Accuracy: 0.2325\n",
      "              precision    recall  f1-score      support\n",
      "0              0.248629  0.236111  0.242208   576.000000\n",
      "1              0.246220  0.285000  0.264195   400.000000\n",
      "2              0.304560  0.275000  0.289026   680.000000\n",
      "3              0.197938  0.205567  0.201681   467.000000\n",
      "4              0.175000  0.187500  0.181034   336.000000\n",
      "5              0.209677  0.196226  0.202729   530.000000\n",
      "6              0.211577  0.222222  0.216769   477.000000\n",
      "accuracy       0.232545  0.232545  0.232545     0.232545\n",
      "macro avg      0.227657  0.229661  0.228235  3466.000000\n",
      "weighted avg   0.234301  0.232545  0.233002  3466.000000\n"
     ]
    },
    {
     "data": {
      "image/png": "[encoded data removed]",
      "text/plain": [
       "<Figure size 800x600 with 2 Axes>"
      ]
     },
     "metadata": {},
     "output_type": "display_data"
    },
    {
     "name": "stdout",
     "output_type": "stream",
     "text": [
      "\n",
      "Best Model:\n",
      "Best Model: RandomForestClassifier()\n",
      "Best Model Accuracy: 0.2874\n"
     ]
    }
   ],
   "source": [
    "import pandas as pd\n",
    "from sklearn.model_selection import train_test_split\n",
    "from sklearn.ensemble import RandomForestClassifier\n",
    "from sklearn.linear_model import LogisticRegression\n",
    "from sklearn.tree import DecisionTreeClassifier\n",
    "from sklearn.metrics import classification_report, accuracy_score, confusion_matrix\n",
    "import seaborn as sns\n",
    "import matplotlib.pyplot as plt\n",
    "\n",
    "# Define models\n",
    "models = {\n",
    "    'RandomForest': RandomForestClassifier(),\n",
    "    'LogisticRegression': LogisticRegression(max_iter=1000),\n",
    "    'DecisionTree': DecisionTreeClassifier()\n",
    "}\n",
    "\n",
    "# Train models and evaluate them\n",
    "best_model = None\n",
    "best_score = 0\n",
    "model_reports = {}\n",
    "\n",
    "for model_name, model in models.items():\n",
    "    model.fit(X_train, y_train)  # Train model\n",
    "    y_pred = model.predict(X_test)  # Make predictions\n",
    "    \n",
    "    # Calculate accuracy and generate classification report\n",
    "    accuracy = accuracy_score(y_test, y_pred)\n",
    "    model_reports[model_name] = classification_report(y_test, y_pred, output_dict=True)  # Store as a dictionary for easier analysis\n",
    "    \n",
    "    # Track best performing model\n",
    "    if accuracy > best_score:\n",
    "        best_score = accuracy\n",
    "        best_model = model\n",
    "\n",
    "# Display classification reports and confusion matrices\n",
    "print(\"\\nClassification Report for All Models:\")\n",
    "for model_name, report in model_reports.items():\n",
    "    print(f\"\\nModel: {model_name}\")\n",
    "    print(\"Accuracy: {:.4f}\".format(accuracy_score(y_test, models[model_name].predict(X_test))))  # Display accuracy\n",
    "    print(pd.DataFrame(report).transpose())  # Display classification report as a DataFrame\n",
    "\n",
    "    # Plot Confusion Matrix\n",
    "    cm = confusion_matrix(y_test, models[model_name].predict(X_test))\n",
    "    plt.figure(figsize=(8, 6))\n",
    "    sns.heatmap(cm, annot=True, fmt=\"d\", cmap='Blues', xticklabels=offense_encoder.classes_, yticklabels=offense_encoder.classes_)\n",
    "    plt.title(f\"Confusion Matrix - {model_name}\")\n",
    "    plt.xlabel('Predicted Labels')\n",
    "    plt.ylabel('True Labels')\n",
    "    plt.show()\n",
    "\n",
    "# Display best model details\n",
    "print(\"\\nBest Model:\")\n",
    "print(f\"Best Model: {best_model}\")\n",
    "print(f\"Best Model Accuracy: {best_score:.4f}\")\n"
   ]
  },
  {
   "cell_type": "markdown",
   "id": "4be206a5",
   "metadata": {
    "papermill": {
     "duration": 0.010861,
     "end_time": "2025-04-25T01:02:13.861916",
     "exception": false,
     "start_time": "2025-04-25T01:02:13.851055",
     "status": "completed"
    },
    "tags": []
   },
   "source": [
    "#### Classification Report for All Models:\n",
    "\n",
    "### Explanation of the Classification Results (RandomForest Model)\n",
    "\n",
    "The results you provided are from a **Random Forest** model, which is used for predicting different types of offenses. Let's break down the key components of the results:\n",
    "\n",
    "#### 1. **Accuracy: 0.2822**\n",
    "   - **Accuracy** measures the overall percentage of correct predictions made by the model. An accuracy of 28.22% means the model correctly predicted the offense in about 28% of the cases. This indicates the model's predictions are not highly reliable, as the accuracy is quite low.\n",
    "\n",
    "#### 2. **Classification Report:**\n",
    "   The classification report includes precision, recall, and F1-score for each offense. Let's go over these terms and how they apply to the results:\n",
    "\n",
    "   - **Precision**: The proportion of true positive predictions out of all positive predictions made by the model for a specific class (offense).\n",
    "   - **Recall**: The proportion of true positive predictions out of all actual positive instances in the dataset.\n",
    "   - **F1-Score**: The harmonic mean of precision and recall, providing a balance between the two metrics.\n",
    "   - **Support**: The number of actual occurrences of each class in the test set.\n",
    "\n",
    "   Let's analyze each offense based on these metrics:\n",
    "\n",
    "   | **Offense**                        | **Precision** | **Recall** | **F1-Score** | **Support** |\n",
    "   |------------------------------------|---------------|------------|--------------|-------------|\n",
    "   | **Assault Simple**                 | 0.2892        | 0.3754     | 0.3267       | 594         |\n",
    "   | **Assist Citizen - Mental/TDO/ECO**| 0.3182        | 0.2274     | 0.2652       | 431         |\n",
    "   | **Hit and Run**                    | 0.2963        | 0.4765     | 0.3654       | 638         |\n",
    "   | **Larceny - All Other**            | 0.2270        | 0.1453     | 0.1772       | 475         |\n",
    "   | **Lost/FoundProperty**             | 0.3333        | 0.2102     | 0.2578       | 352         |\n",
    "   | **Suspicious Activity**            | 0.2344        | 0.2169     | 0.2253       | 484         |\n",
    "   | **Vandalism**                      | 0.2712        | 0.2106     | 0.2371       | 470         |\n",
    "\n",
    "#### 3. **Key Insights from the Report:**\n",
    "\n",
    "- **Precision**:\n",
    "   - The highest precision is for **Larceny - All Other** (0.3333), indicating that when the model predicts this offense, it is correct about 33% of the time. However, this is still quite low.\n",
    "   - **Assist Citizen - Mental/TDO/ECO** has the lowest precision (0.2269), meaning that the model's predictions for this offense tend to be wrong more often than correct.\n",
    "\n",
    "- **Recall**:\n",
    "   - **Hit and Run** has the highest recall (0.4765), meaning the model identifies about 48% of the actual occurrences of this offense. This is better than the precision, which indicates it is missing many true positives but is still able to identify a fair number of cases.\n",
    "   - **Larceny - All Other** and **Suspicious Activity** have the lowest recall values (0.1453 and 0.2169, respectively), indicating that the model is failing to identify most of the actual cases for these offenses.\n",
    "\n",
    "- **F1-Score**:\n",
    "   - The **F1-Score** balances precision and recall. It is highest for **Hit and Run** (0.3654), but still relatively low overall. This suggests the model is better at identifying **Hit and Run** than other offenses but still has room for improvement.\n",
    "   - **Larceny - All Other** has the lowest F1-Score (0.1772), indicating a poor balance between precision and recall for this offense.\n",
    "\n",
    "#### 4. **Macro Average and Weighted Average:**\n",
    "   - **Macro Average**: This gives the average precision, recall, and F1-Score across all classes (offenses) without considering the class distribution. It averages the results for all offenses equally.\n",
    "     - Precision: 0.2814\n",
    "     - Recall: 0.2661\n",
    "     - F1-Score: 0.2649\n",
    "   - **Weighted Average**: This averages the metrics but weighs each class by its support (the number of true instances in the test set). This gives a better sense of overall performance, considering the class distribution.\n",
    "     - Precision: 0.2799\n",
    "     - Recall: 0.2822\n",
    "     - F1-Score: 0.2720\n",
    "\n",
    "#### 5. **Confusion Matrix (Visualization Analysis)**:\n",
    "   - The confusion matrix shows the distribution of true positive, false positive, true negative, and false negative predictions for each class.\n",
    "     - For **Hit and Run**, the model performs relatively well in identifying this offense (304 true positives). However, it also misclassifies some **Hit and Run** instances as other offenses (e.g., **Assault Simple**, **Suspicious Activity**, etc.).\n",
    "     - **Larceny - All Other** is frequently misclassified as **Hit and Run**, **Suspicious Activity**, and others. This is evident from the large number of off-diagonal elements in its row.\n",
    "     - **Assist Citizen - Mental/TDO/ECO** and **Suspicious Activity** are frequently misclassified, as seen by the off-diagonal values in their rows.\n",
    "\n",
    "### Conclusion:\n",
    "The Random Forest model has low accuracy (28.22%), suggesting that it struggles to predict most offenses accurately. Some offenses like **Hit and Run** are better predicted than others, but overall, the model shows a high level of misclassification across all offenses. There may be a need for further tuning of the model, additional feature engineering, or trying different models for better performance.\n",
    "\n",
    "Let me know if you'd like to improve the model or make adjustments based on these results!\n",
    "\n"
   ]
  },
  {
   "cell_type": "markdown",
   "id": "99066ba4",
   "metadata": {
    "papermill": {
     "duration": 0.010608,
     "end_time": "2025-04-25T01:02:13.883364",
     "exception": false,
     "start_time": "2025-04-25T01:02:13.872756",
     "status": "completed"
    },
    "tags": []
   },
   "source": [
    "### Model Explanation\n",
    "\n",
    "Once we’ve chosen the best model, we will explain its predictions by examining feature importance for tree-based models and using statistical methods like logistic regression coefficients for linear models."
   ]
  },
  {
   "cell_type": "markdown",
   "id": "260f084e",
   "metadata": {
    "papermill": {
     "duration": 0.010428,
     "end_time": "2025-04-25T01:02:13.904380",
     "exception": false,
     "start_time": "2025-04-25T01:02:13.893952",
     "status": "completed"
    },
    "tags": []
   },
   "source": [
    "#### Feature Importance for Random Forest / Decision Tree\n",
    "\n",
    "##### For Tree-based Models (Random Forest, Decision Tree)\n",
    "\n",
    "For Random Forest or Decision Tree, we can look at feature importance to understand which variables contribute the most to the model's predictions. Here's how you can visualize and interpret the importance of each feature:"
   ]
  },
  {
   "cell_type": "code",
   "execution_count": 23,
   "id": "2342c77a",
   "metadata": {
    "execution": {
     "iopub.execute_input": "2025-04-25T01:02:13.927344Z",
     "iopub.status.busy": "2025-04-25T01:02:13.926706Z",
     "iopub.status.idle": "2025-04-25T01:02:14.100519Z",
     "shell.execute_reply": "2025-04-25T01:02:14.099870Z"
    },
    "papermill": {
     "duration": 0.186595,
     "end_time": "2025-04-25T01:02:14.101632",
     "exception": false,
     "start_time": "2025-04-25T01:02:13.915037",
     "status": "completed"
    },
    "tags": []
   },
   "outputs": [
    {
     "data": {
      "image/png": "[encoded data removed]",
      "text/plain": [
       "<Figure size 1000x600 with 1 Axes>"
      ]
     },
     "metadata": {},
     "output_type": "display_data"
    }
   ],
   "source": [
    "# For RandomForest or DecisionTree models, we can check feature importance\n",
    "if isinstance(best_model, RandomForestClassifier) or isinstance(best_model, DecisionTreeClassifier):\n",
    "    feature_importance = best_model.feature_importances_\n",
    "    feature_names = X.columns\n",
    "    importance_df = pd.DataFrame({'Feature': feature_names, 'Importance': feature_importance})\n",
    "    importance_df = importance_df.sort_values(by='Importance', ascending=False)\n",
    "    \n",
    "    # Plotting the feature importances\n",
    "    plt.figure(figsize=(10, 6))\n",
    "    sns.barplot(x='Importance', y='Feature', data=importance_df)\n",
    "    plt.title(\"Feature Importance\")\n",
    "    plt.show()\n"
   ]
  },
  {
   "cell_type": "code",
   "execution_count": null,
   "id": "7902d726",
   "metadata": {
    "papermill": {
     "duration": 0.011153,
     "end_time": "2025-04-25T01:02:14.124311",
     "exception": false,
     "start_time": "2025-04-25T01:02:14.113158",
     "status": "completed"
    },
    "tags": []
   },
   "outputs": [],
   "source": []
  },
  {
   "cell_type": "markdown",
   "id": "73357b5b",
   "metadata": {
    "papermill": {
     "duration": 0.011051,
     "end_time": "2025-04-25T01:02:14.146574",
     "exception": false,
     "start_time": "2025-04-25T01:02:14.135523",
     "status": "completed"
    },
    "tags": []
   },
   "source": [
    "### Evaluation\n",
    "\n",
    "After training the models and examining their performance, we evaluate the chosen model based on metrics like accuracy, precision, recall, and F1 score.\n",
    "\n"
   ]
  },
  {
   "cell_type": "code",
   "execution_count": 24,
   "id": "bd40ffc3",
   "metadata": {
    "execution": {
     "iopub.execute_input": "2025-04-25T01:02:14.170532Z",
     "iopub.status.busy": "2025-04-25T01:02:14.169864Z",
     "iopub.status.idle": "2025-04-25T01:02:14.263563Z",
     "shell.execute_reply": "2025-04-25T01:02:14.262904Z"
    },
    "papermill": {
     "duration": 0.106891,
     "end_time": "2025-04-25T01:02:14.264668",
     "exception": false,
     "start_time": "2025-04-25T01:02:14.157777",
     "status": "completed"
    },
    "tags": []
   },
   "outputs": [
    {
     "name": "stdout",
     "output_type": "stream",
     "text": [
      "Accuracy: 0.2874\n",
      "Classification Report:\n",
      "              precision    recall  f1-score   support\n",
      "\n",
      "           0       0.29      0.36      0.32       576\n",
      "           1       0.26      0.23      0.25       400\n",
      "           2       0.32      0.48      0.38       680\n",
      "           3       0.23      0.18      0.20       467\n",
      "           4       0.28      0.20      0.23       336\n",
      "           5       0.28      0.21      0.24       530\n",
      "           6       0.28      0.23      0.26       477\n",
      "\n",
      "    accuracy                           0.29      3466\n",
      "   macro avg       0.28      0.27      0.27      3466\n",
      "weighted avg       0.28      0.29      0.28      3466\n",
      "\n",
      "Confusion Matrix:\n",
      "[[206  61 142  42  21  60  44]\n",
      " [ 94  93  99  26  20  35  33]\n",
      " [109  54 325  56  27  63  46]\n",
      " [ 73  34 131  82  41  44  62]\n",
      " [ 43  24  85  44  67  32  41]\n",
      " [104  49 130  57  23 111  56]\n",
      " [ 73  40 115  49  38  50 112]]\n",
      "Precision: 0.2816\n",
      "Recall: 0.2874\n",
      "F1 Score: 0.2783\n"
     ]
    }
   ],
   "source": [
    "from sklearn.metrics import classification_report, confusion_matrix, accuracy_score, precision_score, recall_score, f1_score\n",
    "\n",
    "# Predict on the test set\n",
    "y_pred = best_model.predict(X_test)\n",
    "\n",
    "# Calculate Accuracy\n",
    "accuracy = accuracy_score(y_test, y_pred)\n",
    "print(f\"Accuracy: {accuracy:.4f}\")\n",
    "\n",
    "# Classification Report\n",
    "print(\"Classification Report:\")\n",
    "print(classification_report(y_test, y_pred))\n",
    "\n",
    "# Confusion Matrix\n",
    "conf_matrix = confusion_matrix(y_test, y_pred)\n",
    "print(\"Confusion Matrix:\")\n",
    "print(conf_matrix)\n",
    "\n",
    "# Precision, Recall, F1 Score for each class (Offense Type)\n",
    "precision = precision_score(y_test, y_pred, average='weighted')\n",
    "recall = recall_score(y_test, y_pred, average='weighted')\n",
    "f1 = f1_score(y_test, y_pred, average='weighted')\n",
    "\n",
    "print(f\"Precision: {precision:.4f}\")\n",
    "print(f\"Recall: {recall:.4f}\")\n",
    "print(f\"F1 Score: {f1:.4f}\")\n"
   ]
  },
  {
   "cell_type": "markdown",
   "id": "371bd823",
   "metadata": {
    "papermill": {
     "duration": 0.011201,
     "end_time": "2025-04-25T01:02:14.287581",
     "exception": false,
     "start_time": "2025-04-25T01:02:14.276380",
     "status": "completed"
    },
    "tags": []
   },
   "source": [
    "#### For Logistic Regression (Coefficient Interpretation)\n",
    "\n",
    "For Logistic Regression, the model coefficients can help us understand how each feature affects the likelihood of an offense happening. A positive coefficient indicates a feature increases the likelihood of the offense, and a negative coefficient indicates the opposite."
   ]
  },
  {
   "cell_type": "code",
   "execution_count": 25,
   "id": "cf0f90b6",
   "metadata": {
    "execution": {
     "iopub.execute_input": "2025-04-25T01:02:14.311417Z",
     "iopub.status.busy": "2025-04-25T01:02:14.310898Z",
     "iopub.status.idle": "2025-04-25T01:02:14.316037Z",
     "shell.execute_reply": "2025-04-25T01:02:14.315414Z"
    },
    "papermill": {
     "duration": 0.018364,
     "end_time": "2025-04-25T01:02:14.317059",
     "exception": false,
     "start_time": "2025-04-25T01:02:14.298695",
     "status": "completed"
    },
    "tags": []
   },
   "outputs": [],
   "source": [
    "if isinstance(best_model, LogisticRegression):\n",
    "    # Logistic regression coefficients\n",
    "    coef_df = pd.DataFrame({\n",
    "        'Feature': X.columns,\n",
    "        'Coefficient': best_model.coef_[0]\n",
    "    })\n",
    "    coef_df['AbsCoefficient'] = coef_df['Coefficient'].abs()\n",
    "    coef_df = coef_df.sort_values(by='AbsCoefficient', ascending=False)\n",
    "    \n",
    "    # Plotting the coefficients\n",
    "    plt.figure(figsize=(10, 6))\n",
    "    sns.barplot(x='AbsCoefficient', y='Feature', data=coef_df)\n",
    "    plt.title(\"Logistic Regression Coefficients Impact\")\n",
    "    plt.show()\n",
    "\n",
    "    # Print the top 5 most impactful features (by absolute coefficient value)\n",
    "    print(\"Top 5 most impactful features based on coefficients:\")\n",
    "    print(coef_df.head())\n"
   ]
  },
  {
   "cell_type": "markdown",
   "id": "1fb6795c",
   "metadata": {
    "papermill": {
     "duration": 0.011208,
     "end_time": "2025-04-25T01:02:14.339803",
     "exception": false,
     "start_time": "2025-04-25T01:02:14.328595",
     "status": "completed"
    },
    "tags": []
   },
   "source": [
    "Explanation of Output:\n",
    "\n",
    "Feature Importance (Random Forest/Decision Tree): The bar plot will show how important each feature is in the decision-making process. Features at the top of the list are the most influential in predicting the occurrence of offenses.\n",
    "\n",
    "Logistic Regression Coefficients: The bar plot will show the magnitude of the coefficients for each feature. Features with larger absolute values (either positive or negative) have a stronger impact on the model’s predictions. Positive coefficients increase the probability of an offense, while negative coefficients decrease it."
   ]
  },
  {
   "cell_type": "markdown",
   "id": "66d1465c",
   "metadata": {
    "papermill": {
     "duration": 0.011498,
     "end_time": "2025-04-25T01:02:14.362679",
     "exception": false,
     "start_time": "2025-04-25T01:02:14.351181",
     "status": "completed"
    },
    "tags": []
   },
   "source": []
  }
 ],
 "metadata": {
  "kernelspec": {
   "display_name": "Python 3",
   "language": "python",
   "name": "python3"
  },
  "language_info": {
   "codemirror_mode": {
    "name": "ipython",
    "version": 3
   },
   "file_extension": ".py",
   "mimetype": "text/x-python",
   "name": "python",
   "nbconvert_exporter": "python",
   "pygments_lexer": "ipython3",
   "version": "3.9.22"
  },
  "papermill": {
   "default_parameters": {},
   "duration": 79.445901,
   "end_time": "2025-04-25T01:02:14.891585",
   "environment_variables": {},
   "exception": null,
   "input_path": "notebook/Crime Data.ipynb",
   "output_path": "notebook/Crime Data_output.ipynb",
   "parameters": {},
   "start_time": "2025-04-25T01:00:55.445684",
   "version": "2.6.0"
  }
 },
 "nbformat": 4,
 "nbformat_minor": 5
}