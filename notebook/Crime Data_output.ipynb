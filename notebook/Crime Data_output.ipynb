{
 "cells": [
  {
   "cell_type": "markdown",
   "id": "be118adc",
   "metadata": {
    "papermill": {
     "duration": 0.004343,
     "end_time": "2025-07-02T01:05:34.706774",
     "exception": false,
     "start_time": "2025-07-02T01:05:34.702431",
     "status": "completed"
    },
    "tags": []
   },
   "source": [
    "# Charlottesville Open Data Porttal: Crime Data"
   ]
  },
  {
   "cell_type": "markdown",
   "id": "7e21d837",
   "metadata": {
    "papermill": {
     "duration": 0.003226,
     "end_time": "2025-07-02T01:05:34.713605",
     "exception": false,
     "start_time": "2025-07-02T01:05:34.710379",
     "status": "completed"
    },
    "tags": []
   },
   "source": [
    "## Import Relevant Librarires & Set WD"
   ]
  },
  {
   "cell_type": "code",
   "execution_count": 1,
   "id": "ecb36c3f",
   "metadata": {
    "execution": {
     "iopub.execute_input": "2025-07-02T01:05:34.721382Z",
     "iopub.status.busy": "2025-07-02T01:05:34.721095Z",
     "iopub.status.idle": "2025-07-02T01:05:35.213866Z",
     "shell.execute_reply": "2025-07-02T01:05:35.213233Z"
    },
    "papermill": {
     "duration": 0.498362,
     "end_time": "2025-07-02T01:05:35.215215",
     "exception": false,
     "start_time": "2025-07-02T01:05:34.716853",
     "status": "completed"
    },
    "tags": []
   },
   "outputs": [],
   "source": [
    "import requests\n",
    "import pandas as pd\n",
    "import numpy as np\n",
    "import pickle\n",
    "import googlemaps\n",
    "import plotly.express as px\n",
    "from geopy.geocoders import Nominatim\n",
    "import time\n",
    "from dotenv import load_dotenv\n",
    "import os\n",
    "\n",
    "env_path = os.path.join(\"..\", \".env\")\n",
    "#print(\"Looking for .env file at:\", os.path.abspath(env_path))\n",
    "load_dotenv(dotenv_path=env_path)\n",
    "\n",
    "# Retrieve the variables\n",
    "GOOGLE_API_KEY = os.getenv(\"GOOGLE_API_KEY\")\n",
    "WORKING_DIR = os.getenv(\"WORKING_DIR\")\n",
    "\n",
    "if GOOGLE_API_KEY is None or WORKING_DIR is None:\n",
    "    raise RuntimeError(\"No configuration found. Please ensure that your .env file exists with the required variables, or create a local config.py file.\")\n",
    "\n",
    "#print(\"Google API Key:\", GOOGLE_API_KEY)\n",
    "#print(\"Working Directory:\", WORKING_DIR)"
   ]
  },
  {
   "cell_type": "markdown",
   "id": "e33e91eb",
   "metadata": {
    "papermill": {
     "duration": 0.003328,
     "end_time": "2025-07-02T01:05:35.222190",
     "exception": false,
     "start_time": "2025-07-02T01:05:35.218862",
     "status": "completed"
    },
    "tags": []
   },
   "source": [
    "## Import Data\n",
    "\n",
    "URL: https://opendata.charlottesville.org/datasets/charlottesville::crime-data/about"
   ]
  },
  {
   "cell_type": "code",
   "execution_count": 2,
   "id": "09a7f0e5",
   "metadata": {
    "execution": {
     "iopub.execute_input": "2025-07-02T01:05:35.230033Z",
     "iopub.status.busy": "2025-07-02T01:05:35.229473Z",
     "iopub.status.idle": "2025-07-02T01:06:46.033501Z",
     "shell.execute_reply": "2025-07-02T01:06:46.032761Z"
    },
    "papermill": {
     "duration": 70.811898,
     "end_time": "2025-07-02T01:06:46.037405",
     "exception": false,
     "start_time": "2025-07-02T01:05:35.225507",
     "status": "completed"
    },
    "tags": []
   },
   "outputs": [
    {
     "name": "stdout",
     "output_type": "stream",
     "text": [
      "Total records imported: 25539\n"
     ]
    }
   ],
   "source": [
    "# Define the endpoint and initial parameters.\n",
    "url = \"https://gisweb.charlottesville.org/arcgis/rest/services/OpenData_2/MapServer/6/query\"\n",
    "params = {\n",
    "    \"where\": \"1=1\",\n",
    "    \"outFields\": \"*\",\n",
    "    \"outSR\": 4326,\n",
    "    \"f\": \"json\",\n",
    "    \"resultOffset\": 0,       # Starting index for results\n",
    "    \"resultRecordCount\": 10000  # Maximum records per batch (if allowed by the API)\n",
    "}\n",
    "\n",
    "records = []\n",
    "\n",
    "while True:\n",
    "    response = requests.get(url, params=params)\n",
    "    response.raise_for_status()\n",
    "    data = response.json()\n",
    "    \n",
    "    # Get the current batch of features.\n",
    "    features = data.get(\"features\", [])\n",
    "    if not features:\n",
    "        break\n",
    "\n",
    "    # Extract the attributes from the features.\n",
    "    batch_records = [feature.get(\"attributes\", {}) for feature in features]\n",
    "    records.extend(batch_records)\n",
    "    \n",
    "    # If the batch size is less than the requested count, we reached the end.\n",
    "    if len(features) < params[\"resultRecordCount\"]:\n",
    "        break\n",
    "\n",
    "    # Update the resultOffset for the next batch.\n",
    "    params[\"resultOffset\"] += params[\"resultRecordCount\"]\n",
    "\n",
    "# Create a DataFrame from the combined records.\n",
    "df = pd.DataFrame(records)\n",
    "print(\"Total records imported:\", len(df))\n"
   ]
  },
  {
   "cell_type": "code",
   "execution_count": 3,
   "id": "8b6baaf2",
   "metadata": {
    "execution": {
     "iopub.execute_input": "2025-07-02T01:06:46.046794Z",
     "iopub.status.busy": "2025-07-02T01:06:46.046144Z",
     "iopub.status.idle": "2025-07-02T01:06:46.058539Z",
     "shell.execute_reply": "2025-07-02T01:06:46.057965Z"
    },
    "papermill": {
     "duration": 0.018618,
     "end_time": "2025-07-02T01:06:46.059666",
     "exception": false,
     "start_time": "2025-07-02T01:06:46.041048",
     "status": "completed"
    },
    "tags": []
   },
   "outputs": [
    {
     "data": {
      "text/html": [
       "<div>\n",
       "<style scoped>\n",
       "    .dataframe tbody tr th:only-of-type {\n",
       "        vertical-align: middle;\n",
       "    }\n",
       "\n",
       "    .dataframe tbody tr th {\n",
       "        vertical-align: top;\n",
       "    }\n",
       "\n",
       "    .dataframe thead th {\n",
       "        text-align: right;\n",
       "    }\n",
       "</style>\n",
       "<table border=\"1\" class=\"dataframe\">\n",
       "  <thead>\n",
       "    <tr style=\"text-align: right;\">\n",
       "      <th></th>\n",
       "      <th>RecordID</th>\n",
       "      <th>Offense</th>\n",
       "      <th>IncidentID</th>\n",
       "      <th>BlockNumber</th>\n",
       "      <th>StreetName</th>\n",
       "      <th>Agency</th>\n",
       "      <th>DateReported</th>\n",
       "      <th>HourReported</th>\n",
       "      <th>ReportingOfficer</th>\n",
       "    </tr>\n",
       "  </thead>\n",
       "  <tbody>\n",
       "    <tr>\n",
       "      <th>0</th>\n",
       "      <td>1</td>\n",
       "      <td>Runaway</td>\n",
       "      <td>202500022491</td>\n",
       "      <td>500</td>\n",
       "      <td>PARK ST</td>\n",
       "      <td>CPD</td>\n",
       "      <td>1751243903000</td>\n",
       "      <td>2038</td>\n",
       "      <td>Carrasco, Julio</td>\n",
       "    </tr>\n",
       "    <tr>\n",
       "      <th>1</th>\n",
       "      <td>2</td>\n",
       "      <td>Harassment</td>\n",
       "      <td>202500022455</td>\n",
       "      <td>800</td>\n",
       "      <td>DRUID AVE</td>\n",
       "      <td>CPD</td>\n",
       "      <td>1751229885000</td>\n",
       "      <td>1644</td>\n",
       "      <td>Curry, Brian</td>\n",
       "    </tr>\n",
       "    <tr>\n",
       "      <th>2</th>\n",
       "      <td>3</td>\n",
       "      <td>Assault Simple</td>\n",
       "      <td>202500022452</td>\n",
       "      <td>100</td>\n",
       "      <td>BRANDYWINE CT</td>\n",
       "      <td>CPD</td>\n",
       "      <td>1751226663000</td>\n",
       "      <td>1551</td>\n",
       "      <td>Benbow, Lauren</td>\n",
       "    </tr>\n",
       "    <tr>\n",
       "      <th>3</th>\n",
       "      <td>4</td>\n",
       "      <td>Vandalism</td>\n",
       "      <td>202500022448</td>\n",
       "      <td>800</td>\n",
       "      <td>HARDY DR, D</td>\n",
       "      <td>CPD</td>\n",
       "      <td>1751220884000</td>\n",
       "      <td>1414</td>\n",
       "      <td>O'Briant, Landon</td>\n",
       "    </tr>\n",
       "    <tr>\n",
       "      <th>4</th>\n",
       "      <td>5</td>\n",
       "      <td>Assault Simple</td>\n",
       "      <td>202500022444</td>\n",
       "      <td>700</td>\n",
       "      <td>PROSPECT AVE, F</td>\n",
       "      <td>CPD</td>\n",
       "      <td>1751216736000</td>\n",
       "      <td>1305</td>\n",
       "      <td>Lowry, Ryan</td>\n",
       "    </tr>\n",
       "  </tbody>\n",
       "</table>\n",
       "</div>"
      ],
      "text/plain": [
       "   RecordID         Offense    IncidentID BlockNumber       StreetName Agency  \\\n",
       "0         1         Runaway  202500022491         500          PARK ST    CPD   \n",
       "1         2      Harassment  202500022455         800        DRUID AVE    CPD   \n",
       "2         3  Assault Simple  202500022452         100    BRANDYWINE CT    CPD   \n",
       "3         4       Vandalism  202500022448         800      HARDY DR, D    CPD   \n",
       "4         5  Assault Simple  202500022444         700  PROSPECT AVE, F    CPD   \n",
       "\n",
       "    DateReported HourReported  ReportingOfficer  \n",
       "0  1751243903000         2038   Carrasco, Julio  \n",
       "1  1751229885000         1644      Curry, Brian  \n",
       "2  1751226663000         1551    Benbow, Lauren  \n",
       "3  1751220884000         1414  O'Briant, Landon  \n",
       "4  1751216736000         1305       Lowry, Ryan  "
      ]
     },
     "execution_count": 3,
     "metadata": {},
     "output_type": "execute_result"
    }
   ],
   "source": [
    "df.head()"
   ]
  },
  {
   "cell_type": "code",
   "execution_count": 4,
   "id": "d51e1c95",
   "metadata": {
    "execution": {
     "iopub.execute_input": "2025-07-02T01:06:46.067798Z",
     "iopub.status.busy": "2025-07-02T01:06:46.067567Z",
     "iopub.status.idle": "2025-07-02T01:06:46.072064Z",
     "shell.execute_reply": "2025-07-02T01:06:46.071476Z"
    },
    "papermill": {
     "duration": 0.009727,
     "end_time": "2025-07-02T01:06:46.073106",
     "exception": false,
     "start_time": "2025-07-02T01:06:46.063379",
     "status": "completed"
    },
    "tags": []
   },
   "outputs": [
    {
     "data": {
      "text/plain": [
       "Index(['RecordID', 'Offense', 'IncidentID', 'BlockNumber', 'StreetName',\n",
       "       'Agency', 'DateReported', 'HourReported', 'ReportingOfficer'],\n",
       "      dtype='object')"
      ]
     },
     "execution_count": 4,
     "metadata": {},
     "output_type": "execute_result"
    }
   ],
   "source": [
    "df.columns"
   ]
  },
  {
   "cell_type": "code",
   "execution_count": 5,
   "id": "e504173e",
   "metadata": {
    "execution": {
     "iopub.execute_input": "2025-07-02T01:06:46.082135Z",
     "iopub.status.busy": "2025-07-02T01:06:46.081676Z",
     "iopub.status.idle": "2025-07-02T01:06:46.106842Z",
     "shell.execute_reply": "2025-07-02T01:06:46.106251Z"
    },
    "papermill": {
     "duration": 0.031022,
     "end_time": "2025-07-02T01:06:46.107850",
     "exception": false,
     "start_time": "2025-07-02T01:06:46.076828",
     "status": "completed"
    },
    "tags": []
   },
   "outputs": [
    {
     "name": "stdout",
     "output_type": "stream",
     "text": [
      "<class 'pandas.core.frame.DataFrame'>\n",
      "RangeIndex: 25539 entries, 0 to 25538\n",
      "Data columns (total 9 columns):\n",
      " #   Column            Non-Null Count  Dtype \n",
      "---  ------            --------------  ----- \n",
      " 0   RecordID          25539 non-null  int64 \n",
      " 1   Offense           25539 non-null  object\n",
      " 2   IncidentID        25539 non-null  object\n",
      " 3   BlockNumber       25539 non-null  object\n",
      " 4   StreetName        25539 non-null  object\n",
      " 5   Agency            25539 non-null  object\n",
      " 6   DateReported      25539 non-null  int64 \n",
      " 7   HourReported      25539 non-null  object\n",
      " 8   ReportingOfficer  25522 non-null  object\n",
      "dtypes: int64(2), object(7)\n",
      "memory usage: 1.8+ MB\n"
     ]
    }
   ],
   "source": [
    "df.info()"
   ]
  },
  {
   "cell_type": "markdown",
   "id": "54557e55",
   "metadata": {
    "papermill": {
     "duration": 0.003657,
     "end_time": "2025-07-02T01:06:46.115355",
     "exception": false,
     "start_time": "2025-07-02T01:06:46.111698",
     "status": "completed"
    },
    "tags": []
   },
   "source": [
    "### Missing Values"
   ]
  },
  {
   "cell_type": "code",
   "execution_count": 6,
   "id": "bf34a73a",
   "metadata": {
    "execution": {
     "iopub.execute_input": "2025-07-02T01:06:46.148619Z",
     "iopub.status.busy": "2025-07-02T01:06:46.148331Z",
     "iopub.status.idle": "2025-07-02T01:06:46.174352Z",
     "shell.execute_reply": "2025-07-02T01:06:46.173808Z"
    },
    "papermill": {
     "duration": 0.031685,
     "end_time": "2025-07-02T01:06:46.175342",
     "exception": false,
     "start_time": "2025-07-02T01:06:46.143657",
     "status": "completed"
    },
    "tags": []
   },
   "outputs": [
    {
     "name": "stdout",
     "output_type": "stream",
     "text": [
      "                  MissingCount  MissingPercentage\n",
      "RecordID                     0               0.00\n",
      "Offense                      0               0.00\n",
      "IncidentID                   0               0.00\n",
      "BlockNumber                  0               0.00\n",
      "StreetName                   0               0.00\n",
      "Agency                       0               0.00\n",
      "DateReported                 0               0.00\n",
      "HourReported                 0               0.00\n",
      "ReportingOfficer            17               0.07\n"
     ]
    }
   ],
   "source": [
    "def missing_percentage(df):\n",
    "    \"\"\"\n",
    "    Returns a DataFrame with the count and percentage of missing values for each column.\n",
    "    \n",
    "    Parameters:\n",
    "        df (pd.DataFrame): The input DataFrame.\n",
    "    \n",
    "    Returns:\n",
    "        pd.DataFrame: A DataFrame with columns 'MissingCount' and 'MissingPercentage'.\n",
    "    \"\"\"\n",
    "    total_rows = len(df)\n",
    "    missing_count = df.isnull().sum()\n",
    "    missing_percent = (missing_count / total_rows) * 100\n",
    "    \n",
    "    result = pd.DataFrame({\n",
    "        'MissingCount': missing_count,\n",
    "        'MissingPercentage': missing_percent.round(2)\n",
    "    })\n",
    "    \n",
    "    return result\n",
    "\n",
    "# Example usage:\n",
    "missing_info = missing_percentage(df)\n",
    "print(missing_info)\n"
   ]
  },
  {
   "cell_type": "markdown",
   "id": "601a5792",
   "metadata": {
    "papermill": {
     "duration": 0.003788,
     "end_time": "2025-07-02T01:06:46.183101",
     "exception": false,
     "start_time": "2025-07-02T01:06:46.179313",
     "status": "completed"
    },
    "tags": []
   },
   "source": [
    "## Data Preparation"
   ]
  },
  {
   "cell_type": "markdown",
   "id": "9e4f0937",
   "metadata": {
    "papermill": {
     "duration": 0.003743,
     "end_time": "2025-07-02T01:06:46.190602",
     "exception": false,
     "start_time": "2025-07-02T01:06:46.186859",
     "status": "completed"
    },
    "tags": []
   },
   "source": [
    "### Data Conversion"
   ]
  },
  {
   "cell_type": "code",
   "execution_count": 7,
   "id": "6cd5a7a1",
   "metadata": {
    "execution": {
     "iopub.execute_input": "2025-07-02T01:06:46.199131Z",
     "iopub.status.busy": "2025-07-02T01:06:46.198917Z",
     "iopub.status.idle": "2025-07-02T01:06:46.559678Z",
     "shell.execute_reply": "2025-07-02T01:06:46.558927Z"
    },
    "papermill": {
     "duration": 0.366279,
     "end_time": "2025-07-02T01:06:46.560702",
     "exception": false,
     "start_time": "2025-07-02T01:06:46.194423",
     "status": "completed"
    },
    "tags": []
   },
   "outputs": [
    {
     "data": {
      "text/html": [
       "<div>\n",
       "<style scoped>\n",
       "    .dataframe tbody tr th:only-of-type {\n",
       "        vertical-align: middle;\n",
       "    }\n",
       "\n",
       "    .dataframe tbody tr th {\n",
       "        vertical-align: top;\n",
       "    }\n",
       "\n",
       "    .dataframe thead th {\n",
       "        text-align: right;\n",
       "    }\n",
       "</style>\n",
       "<table border=\"1\" class=\"dataframe\">\n",
       "  <thead>\n",
       "    <tr style=\"text-align: right;\">\n",
       "      <th></th>\n",
       "      <th>RecordID</th>\n",
       "      <th>Offense</th>\n",
       "      <th>IncidentID</th>\n",
       "      <th>BlockNumber</th>\n",
       "      <th>StreetName</th>\n",
       "      <th>Agency</th>\n",
       "      <th>HourReported</th>\n",
       "      <th>ReportingOfficer</th>\n",
       "      <th>Date</th>\n",
       "      <th>DateString</th>\n",
       "      <th>DayOfWeek</th>\n",
       "      <th>Weekend</th>\n",
       "      <th>Season</th>\n",
       "      <th>HourAMPM</th>\n",
       "      <th>TimeOfDay</th>\n",
       "    </tr>\n",
       "  </thead>\n",
       "  <tbody>\n",
       "    <tr>\n",
       "      <th>0</th>\n",
       "      <td>1</td>\n",
       "      <td>Runaway</td>\n",
       "      <td>202500022491</td>\n",
       "      <td>500</td>\n",
       "      <td>PARK ST</td>\n",
       "      <td>CPD</td>\n",
       "      <td>2038</td>\n",
       "      <td>Carrasco, Julio</td>\n",
       "      <td>2025-06-29 20:38:23</td>\n",
       "      <td>2025-06-29 08:38:23 PM</td>\n",
       "      <td>Sunday</td>\n",
       "      <td>True</td>\n",
       "      <td>Summer</td>\n",
       "      <td>08:38 PM</td>\n",
       "      <td>Evening</td>\n",
       "    </tr>\n",
       "    <tr>\n",
       "      <th>1</th>\n",
       "      <td>2</td>\n",
       "      <td>Harassment</td>\n",
       "      <td>202500022455</td>\n",
       "      <td>800</td>\n",
       "      <td>DRUID AVE</td>\n",
       "      <td>CPD</td>\n",
       "      <td>1644</td>\n",
       "      <td>Curry, Brian</td>\n",
       "      <td>2025-06-29 16:44:45</td>\n",
       "      <td>2025-06-29 04:44:45 PM</td>\n",
       "      <td>Sunday</td>\n",
       "      <td>True</td>\n",
       "      <td>Summer</td>\n",
       "      <td>04:44 PM</td>\n",
       "      <td>Afternoon</td>\n",
       "    </tr>\n",
       "    <tr>\n",
       "      <th>2</th>\n",
       "      <td>3</td>\n",
       "      <td>Assault Simple</td>\n",
       "      <td>202500022452</td>\n",
       "      <td>100</td>\n",
       "      <td>BRANDYWINE CT</td>\n",
       "      <td>CPD</td>\n",
       "      <td>1551</td>\n",
       "      <td>Benbow, Lauren</td>\n",
       "      <td>2025-06-29 15:51:03</td>\n",
       "      <td>2025-06-29 03:51:03 PM</td>\n",
       "      <td>Sunday</td>\n",
       "      <td>True</td>\n",
       "      <td>Summer</td>\n",
       "      <td>03:51 PM</td>\n",
       "      <td>Afternoon</td>\n",
       "    </tr>\n",
       "    <tr>\n",
       "      <th>3</th>\n",
       "      <td>4</td>\n",
       "      <td>Vandalism</td>\n",
       "      <td>202500022448</td>\n",
       "      <td>800</td>\n",
       "      <td>HARDY DR, D</td>\n",
       "      <td>CPD</td>\n",
       "      <td>1414</td>\n",
       "      <td>O'Briant, Landon</td>\n",
       "      <td>2025-06-29 14:14:44</td>\n",
       "      <td>2025-06-29 02:14:44 PM</td>\n",
       "      <td>Sunday</td>\n",
       "      <td>True</td>\n",
       "      <td>Summer</td>\n",
       "      <td>02:14 PM</td>\n",
       "      <td>Afternoon</td>\n",
       "    </tr>\n",
       "    <tr>\n",
       "      <th>4</th>\n",
       "      <td>5</td>\n",
       "      <td>Assault Simple</td>\n",
       "      <td>202500022444</td>\n",
       "      <td>700</td>\n",
       "      <td>PROSPECT AVE, F</td>\n",
       "      <td>CPD</td>\n",
       "      <td>1305</td>\n",
       "      <td>Lowry, Ryan</td>\n",
       "      <td>2025-06-29 13:05:36</td>\n",
       "      <td>2025-06-29 01:05:36 PM</td>\n",
       "      <td>Sunday</td>\n",
       "      <td>True</td>\n",
       "      <td>Summer</td>\n",
       "      <td>01:05 PM</td>\n",
       "      <td>Afternoon</td>\n",
       "    </tr>\n",
       "  </tbody>\n",
       "</table>\n",
       "</div>"
      ],
      "text/plain": [
       "   RecordID         Offense    IncidentID BlockNumber       StreetName Agency  \\\n",
       "0         1         Runaway  202500022491         500          PARK ST    CPD   \n",
       "1         2      Harassment  202500022455         800        DRUID AVE    CPD   \n",
       "2         3  Assault Simple  202500022452         100    BRANDYWINE CT    CPD   \n",
       "3         4       Vandalism  202500022448         800      HARDY DR, D    CPD   \n",
       "4         5  Assault Simple  202500022444         700  PROSPECT AVE, F    CPD   \n",
       "\n",
       "  HourReported  ReportingOfficer                Date              DateString  \\\n",
       "0         2038   Carrasco, Julio 2025-06-29 20:38:23  2025-06-29 08:38:23 PM   \n",
       "1         1644      Curry, Brian 2025-06-29 16:44:45  2025-06-29 04:44:45 PM   \n",
       "2         1551    Benbow, Lauren 2025-06-29 15:51:03  2025-06-29 03:51:03 PM   \n",
       "3         1414  O'Briant, Landon 2025-06-29 14:14:44  2025-06-29 02:14:44 PM   \n",
       "4         1305       Lowry, Ryan 2025-06-29 13:05:36  2025-06-29 01:05:36 PM   \n",
       "\n",
       "  DayOfWeek  Weekend  Season  HourAMPM  TimeOfDay  \n",
       "0    Sunday     True  Summer  08:38 PM    Evening  \n",
       "1    Sunday     True  Summer  04:44 PM  Afternoon  \n",
       "2    Sunday     True  Summer  03:51 PM  Afternoon  \n",
       "3    Sunday     True  Summer  02:14 PM  Afternoon  \n",
       "4    Sunday     True  Summer  01:05 PM  Afternoon  "
      ]
     },
     "execution_count": 7,
     "metadata": {},
     "output_type": "execute_result"
    }
   ],
   "source": [
    "def convert_and_categorize_datereported(df, col='DateReported'):\n",
    "    \"\"\"\n",
    "    Converts an epoch (in milliseconds) date column into a timezone-aware datetime,\n",
    "    converts it to Eastern Time, and then creates columns for day-of-week, weekend flag,\n",
    "    season, 12-hour formatted time, and time-of-day. Keeps both a real datetime column\n",
    "    (Date) and a string representation (DateString).\n",
    "    \"\"\"\n",
    "    import pandas as pd\n",
    "\n",
    "    # Convert the epoch timestamp to a pandas datetime object as UTC, then convert to US/Eastern.\n",
    "    df[\"DateReported_dt\"] = (\n",
    "        pd.to_datetime(df[col], unit=\"ms\", errors=\"coerce\", utc=True)\n",
    "        .dt.tz_convert(\"US/Eastern\")\n",
    "    )\n",
    "    \n",
    "    # Create a true datetime column (remove timezone if you prefer naive datetime)\n",
    "    df[\"Date\"] = df[\"DateReported_dt\"].dt.tz_localize(None)\n",
    "\n",
    "    # Optionally, create a separate string-formatted column\n",
    "    df[\"DateString\"] = df[\"DateReported_dt\"].dt.strftime(\"%Y-%m-%d %I:%M:%S %p\")\n",
    "    \n",
    "    # DayOfWeek\n",
    "    df[\"DayOfWeek\"] = df[\"DateReported_dt\"].dt.day_name()\n",
    "    \n",
    "    # Weekend\n",
    "    df[\"Weekend\"] = df[\"DayOfWeek\"].isin([\"Saturday\", \"Sunday\"])\n",
    "    \n",
    "    # Helper function to determine the season\n",
    "    def get_season(dt):\n",
    "        month = dt.month\n",
    "        day = dt.day\n",
    "        # Approximate Northern Hemisphere season boundaries:\n",
    "        if (month == 12 and day >= 21) or (month < 3) or (month == 3 and day < 20):\n",
    "            return \"Winter\"\n",
    "        elif (month == 3 and day >= 20) or (month < 6) or (month == 6 and day < 21):\n",
    "            return \"Spring\"\n",
    "        elif (month == 6 and day >= 21) or (month < 9) or (month == 9 and day < 22):\n",
    "            return \"Summer\"\n",
    "        else:\n",
    "            return \"Autumn\"\n",
    "    \n",
    "    df[\"Season\"] = df[\"DateReported_dt\"].apply(get_season)\n",
    "    \n",
    "    # 12-hour formatted time (HourAMPM)\n",
    "    df[\"HourAMPM\"] = df[\"DateReported_dt\"].dt.strftime(\"%I:%M %p\")\n",
    "    \n",
    "    # Extract hour (0-23) for time-of-day\n",
    "    df[\"HourValue\"] = df[\"DateReported_dt\"].dt.hour\n",
    "    \n",
    "    def time_of_day(hour):\n",
    "        if pd.isnull(hour):\n",
    "            return None\n",
    "        if 5 <= hour < 12:\n",
    "            return \"Morning\"\n",
    "        elif 12 <= hour < 17:\n",
    "            return \"Afternoon\"\n",
    "        elif 17 <= hour < 21:\n",
    "            return \"Evening\"\n",
    "        else:\n",
    "            return \"Night\"\n",
    "    \n",
    "    df[\"TimeOfDay\"] = df[\"HourValue\"].apply(time_of_day)\n",
    "    \n",
    "    # Drop columns you no longer need\n",
    "    df.drop(columns=[col, \"DateReported_dt\", \"HourValue\"], inplace=True)\n",
    "    \n",
    "    return df\n",
    "\n",
    "# Example usage:\n",
    "df = convert_and_categorize_datereported(df)\n",
    "df.head()\n"
   ]
  },
  {
   "cell_type": "code",
   "execution_count": 8,
   "id": "0da6bbe7",
   "metadata": {
    "execution": {
     "iopub.execute_input": "2025-07-02T01:06:46.570433Z",
     "iopub.status.busy": "2025-07-02T01:06:46.569952Z",
     "iopub.status.idle": "2025-07-02T01:06:46.597192Z",
     "shell.execute_reply": "2025-07-02T01:06:46.596622Z"
    },
    "papermill": {
     "duration": 0.033124,
     "end_time": "2025-07-02T01:06:46.598252",
     "exception": false,
     "start_time": "2025-07-02T01:06:46.565128",
     "status": "completed"
    },
    "tags": []
   },
   "outputs": [
    {
     "name": "stdout",
     "output_type": "stream",
     "text": [
      "<class 'pandas.core.frame.DataFrame'>\n",
      "RangeIndex: 25539 entries, 0 to 25538\n",
      "Data columns (total 15 columns):\n",
      " #   Column            Non-Null Count  Dtype         \n",
      "---  ------            --------------  -----         \n",
      " 0   RecordID          25539 non-null  int64         \n",
      " 1   Offense           25539 non-null  object        \n",
      " 2   IncidentID        25539 non-null  object        \n",
      " 3   BlockNumber       25539 non-null  object        \n",
      " 4   StreetName        25539 non-null  object        \n",
      " 5   Agency            25539 non-null  object        \n",
      " 6   HourReported      25539 non-null  object        \n",
      " 7   ReportingOfficer  25522 non-null  object        \n",
      " 8   Date              25539 non-null  datetime64[ns]\n",
      " 9   DateString        25539 non-null  object        \n",
      " 10  DayOfWeek         25539 non-null  object        \n",
      " 11  Weekend           25539 non-null  bool          \n",
      " 12  Season            25539 non-null  object        \n",
      " 13  HourAMPM          25539 non-null  object        \n",
      " 14  TimeOfDay         25539 non-null  object        \n",
      "dtypes: bool(1), datetime64[ns](1), int64(1), object(12)\n",
      "memory usage: 2.8+ MB\n"
     ]
    }
   ],
   "source": [
    "df.info()"
   ]
  },
  {
   "cell_type": "markdown",
   "id": "1703e8b8",
   "metadata": {
    "papermill": {
     "duration": 0.004082,
     "end_time": "2025-07-02T01:06:46.606653",
     "exception": false,
     "start_time": "2025-07-02T01:06:46.602571",
     "status": "completed"
    },
    "tags": []
   },
   "source": [
    "### Coordinates"
   ]
  },
  {
   "cell_type": "code",
   "execution_count": 9,
   "id": "1bf386f2",
   "metadata": {
    "execution": {
     "iopub.execute_input": "2025-07-02T01:06:46.615888Z",
     "iopub.status.busy": "2025-07-02T01:06:46.615684Z",
     "iopub.status.idle": "2025-07-02T01:06:46.741414Z",
     "shell.execute_reply": "2025-07-02T01:06:46.740838Z"
    },
    "papermill": {
     "duration": 0.131611,
     "end_time": "2025-07-02T01:06:46.742412",
     "exception": false,
     "start_time": "2025-07-02T01:06:46.610801",
     "status": "completed"
    },
    "tags": []
   },
   "outputs": [
    {
     "name": "stdout",
     "output_type": "stream",
     "text": [
      "Loaded geocode cache.\n",
      "Error geocoding 1800 JEFFERSON PARK AVE, 21: REQUEST_DENIED (You must enable Billing on the Google Cloud Project at https://console.cloud.google.com/project/_/billing/enable Learn more at https://developers.google.com/maps/gmp-get-started)\n",
      "Geocoded 1800 JEFFERSON PARK AVE, 21: None, None\n",
      "Geocode cache updated and saved.\n"
     ]
    },
    {
     "data": {
      "text/html": [
       "<div>\n",
       "<style scoped>\n",
       "    .dataframe tbody tr th:only-of-type {\n",
       "        vertical-align: middle;\n",
       "    }\n",
       "\n",
       "    .dataframe tbody tr th {\n",
       "        vertical-align: top;\n",
       "    }\n",
       "\n",
       "    .dataframe thead th {\n",
       "        text-align: right;\n",
       "    }\n",
       "</style>\n",
       "<table border=\"1\" class=\"dataframe\">\n",
       "  <thead>\n",
       "    <tr style=\"text-align: right;\">\n",
       "      <th></th>\n",
       "      <th>RecordID</th>\n",
       "      <th>Offense</th>\n",
       "      <th>IncidentID</th>\n",
       "      <th>BlockNumber</th>\n",
       "      <th>StreetName</th>\n",
       "      <th>Agency</th>\n",
       "      <th>HourReported</th>\n",
       "      <th>ReportingOfficer</th>\n",
       "      <th>Date</th>\n",
       "      <th>DateString</th>\n",
       "      <th>DayOfWeek</th>\n",
       "      <th>Weekend</th>\n",
       "      <th>Season</th>\n",
       "      <th>HourAMPM</th>\n",
       "      <th>TimeOfDay</th>\n",
       "      <th>FullStreet</th>\n",
       "      <th>lat</th>\n",
       "      <th>lon</th>\n",
       "    </tr>\n",
       "  </thead>\n",
       "  <tbody>\n",
       "    <tr>\n",
       "      <th>0</th>\n",
       "      <td>1</td>\n",
       "      <td>Runaway</td>\n",
       "      <td>202500022491</td>\n",
       "      <td>500</td>\n",
       "      <td>PARK ST</td>\n",
       "      <td>CPD</td>\n",
       "      <td>2038</td>\n",
       "      <td>Carrasco, Julio</td>\n",
       "      <td>2025-06-29 20:38:23</td>\n",
       "      <td>2025-06-29 08:38:23 PM</td>\n",
       "      <td>Sunday</td>\n",
       "      <td>True</td>\n",
       "      <td>Summer</td>\n",
       "      <td>08:38 PM</td>\n",
       "      <td>Evening</td>\n",
       "      <td>500 PARK ST</td>\n",
       "      <td>38.033037</td>\n",
       "      <td>-78.475772</td>\n",
       "    </tr>\n",
       "    <tr>\n",
       "      <th>1</th>\n",
       "      <td>2</td>\n",
       "      <td>Harassment</td>\n",
       "      <td>202500022455</td>\n",
       "      <td>800</td>\n",
       "      <td>DRUID AVE</td>\n",
       "      <td>CPD</td>\n",
       "      <td>1644</td>\n",
       "      <td>Curry, Brian</td>\n",
       "      <td>2025-06-29 16:44:45</td>\n",
       "      <td>2025-06-29 04:44:45 PM</td>\n",
       "      <td>Sunday</td>\n",
       "      <td>True</td>\n",
       "      <td>Summer</td>\n",
       "      <td>04:44 PM</td>\n",
       "      <td>Afternoon</td>\n",
       "      <td>800 DRUID AVE</td>\n",
       "      <td>38.018698</td>\n",
       "      <td>-78.480768</td>\n",
       "    </tr>\n",
       "    <tr>\n",
       "      <th>2</th>\n",
       "      <td>3</td>\n",
       "      <td>Assault Simple</td>\n",
       "      <td>202500022452</td>\n",
       "      <td>100</td>\n",
       "      <td>BRANDYWINE CT</td>\n",
       "      <td>CPD</td>\n",
       "      <td>1551</td>\n",
       "      <td>Benbow, Lauren</td>\n",
       "      <td>2025-06-29 15:51:03</td>\n",
       "      <td>2025-06-29 03:51:03 PM</td>\n",
       "      <td>Sunday</td>\n",
       "      <td>True</td>\n",
       "      <td>Summer</td>\n",
       "      <td>03:51 PM</td>\n",
       "      <td>Afternoon</td>\n",
       "      <td>100 BRANDYWINE CT</td>\n",
       "      <td>38.057713</td>\n",
       "      <td>-78.487497</td>\n",
       "    </tr>\n",
       "    <tr>\n",
       "      <th>3</th>\n",
       "      <td>4</td>\n",
       "      <td>Vandalism</td>\n",
       "      <td>202500022448</td>\n",
       "      <td>800</td>\n",
       "      <td>HARDY DR, D</td>\n",
       "      <td>CPD</td>\n",
       "      <td>1414</td>\n",
       "      <td>O'Briant, Landon</td>\n",
       "      <td>2025-06-29 14:14:44</td>\n",
       "      <td>2025-06-29 02:14:44 PM</td>\n",
       "      <td>Sunday</td>\n",
       "      <td>True</td>\n",
       "      <td>Summer</td>\n",
       "      <td>02:14 PM</td>\n",
       "      <td>Afternoon</td>\n",
       "      <td>800 HARDY DR, D</td>\n",
       "      <td>38.033239</td>\n",
       "      <td>-78.490398</td>\n",
       "    </tr>\n",
       "    <tr>\n",
       "      <th>4</th>\n",
       "      <td>5</td>\n",
       "      <td>Assault Simple</td>\n",
       "      <td>202500022444</td>\n",
       "      <td>700</td>\n",
       "      <td>PROSPECT AVE, F</td>\n",
       "      <td>CPD</td>\n",
       "      <td>1305</td>\n",
       "      <td>Lowry, Ryan</td>\n",
       "      <td>2025-06-29 13:05:36</td>\n",
       "      <td>2025-06-29 01:05:36 PM</td>\n",
       "      <td>Sunday</td>\n",
       "      <td>True</td>\n",
       "      <td>Summer</td>\n",
       "      <td>01:05 PM</td>\n",
       "      <td>Afternoon</td>\n",
       "      <td>700 PROSPECT AVE, F</td>\n",
       "      <td>38.024639</td>\n",
       "      <td>-78.494396</td>\n",
       "    </tr>\n",
       "  </tbody>\n",
       "</table>\n",
       "</div>"
      ],
      "text/plain": [
       "   RecordID         Offense    IncidentID BlockNumber       StreetName Agency  \\\n",
       "0         1         Runaway  202500022491         500          PARK ST    CPD   \n",
       "1         2      Harassment  202500022455         800        DRUID AVE    CPD   \n",
       "2         3  Assault Simple  202500022452         100    BRANDYWINE CT    CPD   \n",
       "3         4       Vandalism  202500022448         800      HARDY DR, D    CPD   \n",
       "4         5  Assault Simple  202500022444         700  PROSPECT AVE, F    CPD   \n",
       "\n",
       "  HourReported  ReportingOfficer                Date              DateString  \\\n",
       "0         2038   Carrasco, Julio 2025-06-29 20:38:23  2025-06-29 08:38:23 PM   \n",
       "1         1644      Curry, Brian 2025-06-29 16:44:45  2025-06-29 04:44:45 PM   \n",
       "2         1551    Benbow, Lauren 2025-06-29 15:51:03  2025-06-29 03:51:03 PM   \n",
       "3         1414  O'Briant, Landon 2025-06-29 14:14:44  2025-06-29 02:14:44 PM   \n",
       "4         1305       Lowry, Ryan 2025-06-29 13:05:36  2025-06-29 01:05:36 PM   \n",
       "\n",
       "  DayOfWeek  Weekend  Season  HourAMPM  TimeOfDay           FullStreet  \\\n",
       "0    Sunday     True  Summer  08:38 PM    Evening          500 PARK ST   \n",
       "1    Sunday     True  Summer  04:44 PM  Afternoon        800 DRUID AVE   \n",
       "2    Sunday     True  Summer  03:51 PM  Afternoon    100 BRANDYWINE CT   \n",
       "3    Sunday     True  Summer  02:14 PM  Afternoon      800 HARDY DR, D   \n",
       "4    Sunday     True  Summer  01:05 PM  Afternoon  700 PROSPECT AVE, F   \n",
       "\n",
       "         lat        lon  \n",
       "0  38.033037 -78.475772  \n",
       "1  38.018698 -78.480768  \n",
       "2  38.057713 -78.487497  \n",
       "3  38.033239 -78.490398  \n",
       "4  38.024639 -78.494396  "
      ]
     },
     "execution_count": 9,
     "metadata": {},
     "output_type": "execute_result"
    }
   ],
   "source": [
    "# Combine BlockNumber and StreetName into a full address string\n",
    "df['FullStreet'] = df['BlockNumber'].astype(str) + \" \" + df['StreetName']\n",
    "\n",
    "# --- Step 1: Setup the Google Maps Client and Cache ---\n",
    "gmaps = googlemaps.Client(key=GOOGLE_API_KEY)\n",
    "\n",
    "# Try to load cached geocoding results if available.\n",
    "try:\n",
    "    with open(\"geocode_cache_google.pkl\", \"rb\") as f:\n",
    "        street_coords = pickle.load(f)\n",
    "    print(\"Loaded geocode cache.\")\n",
    "except FileNotFoundError:\n",
    "    street_coords = {}\n",
    "    print(\"No cache found; starting fresh.\")\n",
    "\n",
    "def geocode_address(address):\n",
    "    try:\n",
    "        # Append city and state to help geocoding\n",
    "        result = gmaps.geocode(f\"{address}, Charlottesville, VA\")\n",
    "        if result:\n",
    "            lat = result[0]['geometry']['location']['lat']\n",
    "            lon = result[0]['geometry']['location']['lng']\n",
    "            return lat, lon\n",
    "    except Exception as e:\n",
    "        print(f\"Error geocoding {address}: {e}\")\n",
    "    return None, None\n",
    "\n",
    "# --- Step 2: Geocode Only New Addresses ---\n",
    "unique_addresses = df['FullStreet'].unique()\n",
    "for address in unique_addresses:\n",
    "    if address not in street_coords:\n",
    "        lat, lon = geocode_address(address)\n",
    "        street_coords[address] = (lat, lon)\n",
    "        print(f\"Geocoded {address}: {lat}, {lon}\")\n",
    "\n",
    "# Save the updated cache to disk.\n",
    "with open(\"geocode_cache_google.pkl\", \"wb\") as f:\n",
    "    pickle.dump(street_coords, f)\n",
    "    print(\"Geocode cache updated and saved.\")\n",
    "\n",
    "# --- Step 3: Map Coordinates Back to DataFrame ---\n",
    "df['lat'] = df['FullStreet'].map(lambda s: street_coords.get(s, (None, None))[0])\n",
    "df['lon'] = df['FullStreet'].map(lambda s: street_coords.get(s, (None, None))[1])\n",
    "\n",
    "df.head()"
   ]
  },
  {
   "cell_type": "markdown",
   "id": "3d30fc3e",
   "metadata": {
    "papermill": {
     "duration": 0.004512,
     "end_time": "2025-07-02T01:06:46.751729",
     "exception": false,
     "start_time": "2025-07-02T01:06:46.747217",
     "status": "completed"
    },
    "tags": []
   },
   "source": [
    "### Neighborhood"
   ]
  },
  {
   "cell_type": "code",
   "execution_count": 10,
   "id": "b8751989",
   "metadata": {
    "execution": {
     "iopub.execute_input": "2025-07-02T01:06:46.761532Z",
     "iopub.status.busy": "2025-07-02T01:06:46.761091Z",
     "iopub.status.idle": "2025-07-02T01:06:47.689750Z",
     "shell.execute_reply": "2025-07-02T01:06:47.689042Z"
    },
    "papermill": {
     "duration": 0.934728,
     "end_time": "2025-07-02T01:06:47.690791",
     "exception": false,
     "start_time": "2025-07-02T01:06:46.756063",
     "status": "completed"
    },
    "tags": []
   },
   "outputs": [
    {
     "name": "stdout",
     "output_type": "stream",
     "text": [
      "Loaded neighborhood cache.\n"
     ]
    },
    {
     "name": "stdout",
     "output_type": "stream",
     "text": [
      "Error getting neighborhood for nan, nan: HTTP Error: 400\n",
      "Error getting neighborhood for nan, nan: HTTP Error: 400\n",
      "Error getting neighborhood for nan, nan: HTTP Error: 400\n",
      "Error getting neighborhood for nan, nan: HTTP Error: 400\n",
      "Error getting neighborhood for nan, nan: HTTP Error: 400\n"
     ]
    },
    {
     "name": "stdout",
     "output_type": "stream",
     "text": [
      "Error getting neighborhood for nan, nan: HTTP Error: 400\n",
      "Error getting neighborhood for nan, nan: HTTP Error: 400\n",
      "Error getting neighborhood for nan, nan: HTTP Error: 400\n",
      "Error getting neighborhood for nan, nan: HTTP Error: 400\n",
      "Error getting neighborhood for nan, nan: HTTP Error: 400\n"
     ]
    },
    {
     "name": "stdout",
     "output_type": "stream",
     "text": [
      "Error getting neighborhood for nan, nan: HTTP Error: 400\n",
      "Error getting neighborhood for nan, nan: HTTP Error: 400\n",
      "Error getting neighborhood for nan, nan: HTTP Error: 400\n",
      "Error getting neighborhood for nan, nan: HTTP Error: 400\n",
      "Error getting neighborhood for nan, nan: HTTP Error: 400\n",
      "Error getting neighborhood for nan, nan: HTTP Error: 400\n",
      "Error getting neighborhood for nan, nan: HTTP Error: 400\n"
     ]
    },
    {
     "name": "stdout",
     "output_type": "stream",
     "text": [
      "Error getting neighborhood for nan, nan: HTTP Error: 400\n",
      "Error getting neighborhood for nan, nan: HTTP Error: 400\n",
      "Error getting neighborhood for nan, nan: HTTP Error: 400\n",
      "Error getting neighborhood for nan, nan: HTTP Error: 400\n",
      "Error getting neighborhood for nan, nan: HTTP Error: 400\n",
      "Error getting neighborhood for nan, nan: HTTP Error: 400\n"
     ]
    },
    {
     "name": "stdout",
     "output_type": "stream",
     "text": [
      "Error getting neighborhood for nan, nan: HTTP Error: 400\n",
      "Error getting neighborhood for nan, nan: HTTP Error: 400\n",
      "Error getting neighborhood for nan, nan: HTTP Error: 400\n",
      "Error getting neighborhood for nan, nan: HTTP Error: 400\n",
      "Error getting neighborhood for nan, nan: HTTP Error: 400\n",
      "Error getting neighborhood for nan, nan: HTTP Error: 400\n",
      "Error getting neighborhood for nan, nan: HTTP Error: 400\n"
     ]
    },
    {
     "name": "stdout",
     "output_type": "stream",
     "text": [
      "Error getting neighborhood for nan, nan: HTTP Error: 400\n",
      "Error getting neighborhood for nan, nan: HTTP Error: 400\n",
      "Error getting neighborhood for nan, nan: HTTP Error: 400\n",
      "Error getting neighborhood for nan, nan: HTTP Error: 400\n",
      "Error getting neighborhood for nan, nan: HTTP Error: 400\n",
      "Error getting neighborhood for nan, nan: HTTP Error: 400\n"
     ]
    },
    {
     "data": {
      "text/html": [
       "<div>\n",
       "<style scoped>\n",
       "    .dataframe tbody tr th:only-of-type {\n",
       "        vertical-align: middle;\n",
       "    }\n",
       "\n",
       "    .dataframe tbody tr th {\n",
       "        vertical-align: top;\n",
       "    }\n",
       "\n",
       "    .dataframe thead th {\n",
       "        text-align: right;\n",
       "    }\n",
       "</style>\n",
       "<table border=\"1\" class=\"dataframe\">\n",
       "  <thead>\n",
       "    <tr style=\"text-align: right;\">\n",
       "      <th></th>\n",
       "      <th>RecordID</th>\n",
       "      <th>Offense</th>\n",
       "      <th>IncidentID</th>\n",
       "      <th>BlockNumber</th>\n",
       "      <th>StreetName</th>\n",
       "      <th>Agency</th>\n",
       "      <th>HourReported</th>\n",
       "      <th>ReportingOfficer</th>\n",
       "      <th>Date</th>\n",
       "      <th>DateString</th>\n",
       "      <th>DayOfWeek</th>\n",
       "      <th>Weekend</th>\n",
       "      <th>Season</th>\n",
       "      <th>HourAMPM</th>\n",
       "      <th>TimeOfDay</th>\n",
       "      <th>FullStreet</th>\n",
       "      <th>lat</th>\n",
       "      <th>lon</th>\n",
       "      <th>neighborhood</th>\n",
       "    </tr>\n",
       "  </thead>\n",
       "  <tbody>\n",
       "    <tr>\n",
       "      <th>0</th>\n",
       "      <td>1</td>\n",
       "      <td>Runaway</td>\n",
       "      <td>202500022491</td>\n",
       "      <td>500</td>\n",
       "      <td>PARK ST</td>\n",
       "      <td>CPD</td>\n",
       "      <td>2038</td>\n",
       "      <td>Carrasco, Julio</td>\n",
       "      <td>2025-06-29 20:38:23</td>\n",
       "      <td>2025-06-29 08:38:23 PM</td>\n",
       "      <td>Sunday</td>\n",
       "      <td>True</td>\n",
       "      <td>Summer</td>\n",
       "      <td>08:38 PM</td>\n",
       "      <td>Evening</td>\n",
       "      <td>500 PARK ST</td>\n",
       "      <td>38.033037</td>\n",
       "      <td>-78.475772</td>\n",
       "      <td>North Downtown</td>\n",
       "    </tr>\n",
       "    <tr>\n",
       "      <th>1</th>\n",
       "      <td>2</td>\n",
       "      <td>Harassment</td>\n",
       "      <td>202500022455</td>\n",
       "      <td>800</td>\n",
       "      <td>DRUID AVE</td>\n",
       "      <td>CPD</td>\n",
       "      <td>1644</td>\n",
       "      <td>Curry, Brian</td>\n",
       "      <td>2025-06-29 16:44:45</td>\n",
       "      <td>2025-06-29 04:44:45 PM</td>\n",
       "      <td>Sunday</td>\n",
       "      <td>True</td>\n",
       "      <td>Summer</td>\n",
       "      <td>04:44 PM</td>\n",
       "      <td>Afternoon</td>\n",
       "      <td>800 DRUID AVE</td>\n",
       "      <td>38.018698</td>\n",
       "      <td>-78.480768</td>\n",
       "      <td>Belmont</td>\n",
       "    </tr>\n",
       "    <tr>\n",
       "      <th>2</th>\n",
       "      <td>3</td>\n",
       "      <td>Assault Simple</td>\n",
       "      <td>202500022452</td>\n",
       "      <td>100</td>\n",
       "      <td>BRANDYWINE CT</td>\n",
       "      <td>CPD</td>\n",
       "      <td>1551</td>\n",
       "      <td>Benbow, Lauren</td>\n",
       "      <td>2025-06-29 15:51:03</td>\n",
       "      <td>2025-06-29 03:51:03 PM</td>\n",
       "      <td>Sunday</td>\n",
       "      <td>True</td>\n",
       "      <td>Summer</td>\n",
       "      <td>03:51 PM</td>\n",
       "      <td>Afternoon</td>\n",
       "      <td>100 BRANDYWINE CT</td>\n",
       "      <td>38.057713</td>\n",
       "      <td>-78.487497</td>\n",
       "      <td>Greenbrier</td>\n",
       "    </tr>\n",
       "    <tr>\n",
       "      <th>3</th>\n",
       "      <td>4</td>\n",
       "      <td>Vandalism</td>\n",
       "      <td>202500022448</td>\n",
       "      <td>800</td>\n",
       "      <td>HARDY DR, D</td>\n",
       "      <td>CPD</td>\n",
       "      <td>1414</td>\n",
       "      <td>O'Briant, Landon</td>\n",
       "      <td>2025-06-29 14:14:44</td>\n",
       "      <td>2025-06-29 02:14:44 PM</td>\n",
       "      <td>Sunday</td>\n",
       "      <td>True</td>\n",
       "      <td>Summer</td>\n",
       "      <td>02:14 PM</td>\n",
       "      <td>Afternoon</td>\n",
       "      <td>800 HARDY DR, D</td>\n",
       "      <td>38.033239</td>\n",
       "      <td>-78.490398</td>\n",
       "      <td>10th &amp; Page</td>\n",
       "    </tr>\n",
       "    <tr>\n",
       "      <th>4</th>\n",
       "      <td>5</td>\n",
       "      <td>Assault Simple</td>\n",
       "      <td>202500022444</td>\n",
       "      <td>700</td>\n",
       "      <td>PROSPECT AVE, F</td>\n",
       "      <td>CPD</td>\n",
       "      <td>1305</td>\n",
       "      <td>Lowry, Ryan</td>\n",
       "      <td>2025-06-29 13:05:36</td>\n",
       "      <td>2025-06-29 01:05:36 PM</td>\n",
       "      <td>Sunday</td>\n",
       "      <td>True</td>\n",
       "      <td>Summer</td>\n",
       "      <td>01:05 PM</td>\n",
       "      <td>Afternoon</td>\n",
       "      <td>700 PROSPECT AVE, F</td>\n",
       "      <td>38.024639</td>\n",
       "      <td>-78.494396</td>\n",
       "      <td>Fifeville</td>\n",
       "    </tr>\n",
       "  </tbody>\n",
       "</table>\n",
       "</div>"
      ],
      "text/plain": [
       "   RecordID         Offense    IncidentID BlockNumber       StreetName Agency  \\\n",
       "0         1         Runaway  202500022491         500          PARK ST    CPD   \n",
       "1         2      Harassment  202500022455         800        DRUID AVE    CPD   \n",
       "2         3  Assault Simple  202500022452         100    BRANDYWINE CT    CPD   \n",
       "3         4       Vandalism  202500022448         800      HARDY DR, D    CPD   \n",
       "4         5  Assault Simple  202500022444         700  PROSPECT AVE, F    CPD   \n",
       "\n",
       "  HourReported  ReportingOfficer                Date              DateString  \\\n",
       "0         2038   Carrasco, Julio 2025-06-29 20:38:23  2025-06-29 08:38:23 PM   \n",
       "1         1644      Curry, Brian 2025-06-29 16:44:45  2025-06-29 04:44:45 PM   \n",
       "2         1551    Benbow, Lauren 2025-06-29 15:51:03  2025-06-29 03:51:03 PM   \n",
       "3         1414  O'Briant, Landon 2025-06-29 14:14:44  2025-06-29 02:14:44 PM   \n",
       "4         1305       Lowry, Ryan 2025-06-29 13:05:36  2025-06-29 01:05:36 PM   \n",
       "\n",
       "  DayOfWeek  Weekend  Season  HourAMPM  TimeOfDay           FullStreet  \\\n",
       "0    Sunday     True  Summer  08:38 PM    Evening          500 PARK ST   \n",
       "1    Sunday     True  Summer  04:44 PM  Afternoon        800 DRUID AVE   \n",
       "2    Sunday     True  Summer  03:51 PM  Afternoon    100 BRANDYWINE CT   \n",
       "3    Sunday     True  Summer  02:14 PM  Afternoon      800 HARDY DR, D   \n",
       "4    Sunday     True  Summer  01:05 PM  Afternoon  700 PROSPECT AVE, F   \n",
       "\n",
       "         lat        lon    neighborhood  \n",
       "0  38.033037 -78.475772  North Downtown  \n",
       "1  38.018698 -78.480768         Belmont  \n",
       "2  38.057713 -78.487497      Greenbrier  \n",
       "3  38.033239 -78.490398     10th & Page  \n",
       "4  38.024639 -78.494396       Fifeville  "
      ]
     },
     "execution_count": 10,
     "metadata": {},
     "output_type": "execute_result"
    }
   ],
   "source": [
    "# Initialize the Google Maps client.\n",
    "gmaps = googlemaps.Client(key=GOOGLE_API_KEY)\n",
    "\n",
    "# Try to load a persistent neighborhood cache if available.\n",
    "try:\n",
    "    with open(\"neighborhood_cache.pkl\", \"rb\") as f:\n",
    "        neighborhood_cache = pickle.load(f)\n",
    "    print(\"Loaded neighborhood cache.\")\n",
    "except FileNotFoundError:\n",
    "    neighborhood_cache = {}\n",
    "    print(\"No neighborhood cache found; starting fresh.\")\n",
    "\n",
    "def get_neighborhood(lat, lon):\n",
    "    \"\"\"\n",
    "    Reverse geocodes a latitude and longitude to retrieve the neighborhood.\n",
    "    Caches results to speed up subsequent lookups.\n",
    "    \"\"\"\n",
    "    key = (lat, lon)\n",
    "    if key in neighborhood_cache:\n",
    "        return neighborhood_cache[key]\n",
    "    \n",
    "    try:\n",
    "        result = gmaps.reverse_geocode((lat, lon))\n",
    "        if result:\n",
    "            # Look for the 'neighborhood' component in the first result.\n",
    "            for component in result[0]['address_components']:\n",
    "                if 'neighborhood' in component['types']:\n",
    "                    neighborhood = component['long_name']\n",
    "                    neighborhood_cache[key] = neighborhood\n",
    "                    return neighborhood\n",
    "            # If no neighborhood is found, return \"N/A\"\n",
    "            neighborhood_cache[key] = \"N/A\"\n",
    "            return \"N/A\"\n",
    "    except Exception as e:\n",
    "        print(f\"Error getting neighborhood for {lat}, {lon}: {e}\")\n",
    "        return \"N/A\"\n",
    "    \n",
    "    # Pause to respect usage limits.\n",
    "    time.sleep(1)\n",
    "\n",
    "# Example usage: Apply to your DataFrame 'df' that already has 'lat' and 'lon' columns.\n",
    "df['neighborhood'] = df.apply(lambda row: get_neighborhood(row['lat'], row['lon']), axis=1)\n",
    "\n",
    "# Save the updated neighborhood cache.\n",
    "with open(\"neighborhood_cache.pkl\", \"wb\") as f:\n",
    "    pickle.dump(neighborhood_cache, f)\n",
    "\n",
    "df.head()\n"
   ]
  },
  {
   "cell_type": "markdown",
   "id": "42cfd7ed",
   "metadata": {
    "papermill": {
     "duration": 0.004867,
     "end_time": "2025-07-02T01:06:47.701038",
     "exception": false,
     "start_time": "2025-07-02T01:06:47.696171",
     "status": "completed"
    },
    "tags": []
   },
   "source": [
    "### Zip"
   ]
  },
  {
   "cell_type": "code",
   "execution_count": 11,
   "id": "875057a9",
   "metadata": {
    "execution": {
     "iopub.execute_input": "2025-07-02T01:06:47.711593Z",
     "iopub.status.busy": "2025-07-02T01:06:47.711362Z",
     "iopub.status.idle": "2025-07-02T01:07:24.013366Z",
     "shell.execute_reply": "2025-07-02T01:07:24.012670Z"
    },
    "papermill": {
     "duration": 36.308597,
     "end_time": "2025-07-02T01:07:24.014532",
     "exception": false,
     "start_time": "2025-07-02T01:06:47.705935",
     "status": "completed"
    },
    "tags": []
   },
   "outputs": [
    {
     "name": "stdout",
     "output_type": "stream",
     "text": [
      "Loaded zip cache.\n",
      "Error getting ZIP for nan, nan: Must be a coordinate pair or Point\n"
     ]
    },
    {
     "name": "stdout",
     "output_type": "stream",
     "text": [
      "Error getting ZIP for nan, nan: Must be a coordinate pair or Point\n"
     ]
    },
    {
     "name": "stdout",
     "output_type": "stream",
     "text": [
      "Error getting ZIP for nan, nan: Must be a coordinate pair or Point\n"
     ]
    },
    {
     "name": "stdout",
     "output_type": "stream",
     "text": [
      "Error getting ZIP for nan, nan: Must be a coordinate pair or Point\n"
     ]
    },
    {
     "name": "stdout",
     "output_type": "stream",
     "text": [
      "Error getting ZIP for nan, nan: Must be a coordinate pair or Point\n"
     ]
    },
    {
     "name": "stdout",
     "output_type": "stream",
     "text": [
      "Error getting ZIP for nan, nan: Must be a coordinate pair or Point\n"
     ]
    },
    {
     "name": "stdout",
     "output_type": "stream",
     "text": [
      "Error getting ZIP for nan, nan: Must be a coordinate pair or Point\n"
     ]
    },
    {
     "name": "stdout",
     "output_type": "stream",
     "text": [
      "Error getting ZIP for nan, nan: Must be a coordinate pair or Point\n"
     ]
    },
    {
     "name": "stdout",
     "output_type": "stream",
     "text": [
      "Error getting ZIP for nan, nan: Must be a coordinate pair or Point\n"
     ]
    },
    {
     "name": "stdout",
     "output_type": "stream",
     "text": [
      "Error getting ZIP for nan, nan: Must be a coordinate pair or Point\n"
     ]
    },
    {
     "name": "stdout",
     "output_type": "stream",
     "text": [
      "Error getting ZIP for nan, nan: Must be a coordinate pair or Point\n"
     ]
    },
    {
     "name": "stdout",
     "output_type": "stream",
     "text": [
      "Error getting ZIP for nan, nan: Must be a coordinate pair or Point\n"
     ]
    },
    {
     "name": "stdout",
     "output_type": "stream",
     "text": [
      "Error getting ZIP for nan, nan: Must be a coordinate pair or Point\n"
     ]
    },
    {
     "name": "stdout",
     "output_type": "stream",
     "text": [
      "Error getting ZIP for nan, nan: Must be a coordinate pair or Point\n"
     ]
    },
    {
     "name": "stdout",
     "output_type": "stream",
     "text": [
      "Error getting ZIP for nan, nan: Must be a coordinate pair or Point\n"
     ]
    },
    {
     "name": "stdout",
     "output_type": "stream",
     "text": [
      "Error getting ZIP for nan, nan: Must be a coordinate pair or Point\n"
     ]
    },
    {
     "name": "stdout",
     "output_type": "stream",
     "text": [
      "Error getting ZIP for nan, nan: Must be a coordinate pair or Point\n"
     ]
    },
    {
     "name": "stdout",
     "output_type": "stream",
     "text": [
      "Error getting ZIP for nan, nan: Must be a coordinate pair or Point\n"
     ]
    },
    {
     "name": "stdout",
     "output_type": "stream",
     "text": [
      "Error getting ZIP for nan, nan: Must be a coordinate pair or Point\n"
     ]
    },
    {
     "name": "stdout",
     "output_type": "stream",
     "text": [
      "Error getting ZIP for nan, nan: Must be a coordinate pair or Point\n"
     ]
    },
    {
     "name": "stdout",
     "output_type": "stream",
     "text": [
      "Error getting ZIP for nan, nan: Must be a coordinate pair or Point\n"
     ]
    },
    {
     "name": "stdout",
     "output_type": "stream",
     "text": [
      "Error getting ZIP for nan, nan: Must be a coordinate pair or Point\n"
     ]
    },
    {
     "name": "stdout",
     "output_type": "stream",
     "text": [
      "Error getting ZIP for nan, nan: Must be a coordinate pair or Point\n"
     ]
    },
    {
     "name": "stdout",
     "output_type": "stream",
     "text": [
      "Error getting ZIP for nan, nan: Must be a coordinate pair or Point\n"
     ]
    },
    {
     "name": "stdout",
     "output_type": "stream",
     "text": [
      "Error getting ZIP for nan, nan: Must be a coordinate pair or Point\n"
     ]
    },
    {
     "name": "stdout",
     "output_type": "stream",
     "text": [
      "Error getting ZIP for nan, nan: Must be a coordinate pair or Point\n"
     ]
    },
    {
     "name": "stdout",
     "output_type": "stream",
     "text": [
      "Error getting ZIP for nan, nan: Must be a coordinate pair or Point\n"
     ]
    },
    {
     "name": "stdout",
     "output_type": "stream",
     "text": [
      "Error getting ZIP for nan, nan: Must be a coordinate pair or Point\n"
     ]
    },
    {
     "name": "stdout",
     "output_type": "stream",
     "text": [
      "Error getting ZIP for nan, nan: Must be a coordinate pair or Point\n"
     ]
    },
    {
     "name": "stdout",
     "output_type": "stream",
     "text": [
      "Error getting ZIP for nan, nan: Must be a coordinate pair or Point\n"
     ]
    },
    {
     "name": "stdout",
     "output_type": "stream",
     "text": [
      "Error getting ZIP for nan, nan: Must be a coordinate pair or Point\n"
     ]
    },
    {
     "name": "stdout",
     "output_type": "stream",
     "text": [
      "Error getting ZIP for nan, nan: Must be a coordinate pair or Point\n"
     ]
    },
    {
     "name": "stdout",
     "output_type": "stream",
     "text": [
      "Error getting ZIP for nan, nan: Must be a coordinate pair or Point\n"
     ]
    },
    {
     "name": "stdout",
     "output_type": "stream",
     "text": [
      "Error getting ZIP for nan, nan: Must be a coordinate pair or Point\n"
     ]
    },
    {
     "name": "stdout",
     "output_type": "stream",
     "text": [
      "Error getting ZIP for nan, nan: Must be a coordinate pair or Point\n"
     ]
    },
    {
     "name": "stdout",
     "output_type": "stream",
     "text": [
      "Error getting ZIP for nan, nan: Must be a coordinate pair or Point\n"
     ]
    },
    {
     "data": {
      "text/html": [
       "<div>\n",
       "<style scoped>\n",
       "    .dataframe tbody tr th:only-of-type {\n",
       "        vertical-align: middle;\n",
       "    }\n",
       "\n",
       "    .dataframe tbody tr th {\n",
       "        vertical-align: top;\n",
       "    }\n",
       "\n",
       "    .dataframe thead th {\n",
       "        text-align: right;\n",
       "    }\n",
       "</style>\n",
       "<table border=\"1\" class=\"dataframe\">\n",
       "  <thead>\n",
       "    <tr style=\"text-align: right;\">\n",
       "      <th></th>\n",
       "      <th>RecordID</th>\n",
       "      <th>Offense</th>\n",
       "      <th>IncidentID</th>\n",
       "      <th>BlockNumber</th>\n",
       "      <th>StreetName</th>\n",
       "      <th>Agency</th>\n",
       "      <th>HourReported</th>\n",
       "      <th>ReportingOfficer</th>\n",
       "      <th>Date</th>\n",
       "      <th>DateString</th>\n",
       "      <th>DayOfWeek</th>\n",
       "      <th>Weekend</th>\n",
       "      <th>Season</th>\n",
       "      <th>HourAMPM</th>\n",
       "      <th>TimeOfDay</th>\n",
       "      <th>FullStreet</th>\n",
       "      <th>lat</th>\n",
       "      <th>lon</th>\n",
       "      <th>neighborhood</th>\n",
       "      <th>zip</th>\n",
       "    </tr>\n",
       "  </thead>\n",
       "  <tbody>\n",
       "    <tr>\n",
       "      <th>0</th>\n",
       "      <td>1</td>\n",
       "      <td>Runaway</td>\n",
       "      <td>202500022491</td>\n",
       "      <td>500</td>\n",
       "      <td>PARK ST</td>\n",
       "      <td>CPD</td>\n",
       "      <td>2038</td>\n",
       "      <td>Carrasco, Julio</td>\n",
       "      <td>2025-06-29 20:38:23</td>\n",
       "      <td>2025-06-29 08:38:23 PM</td>\n",
       "      <td>Sunday</td>\n",
       "      <td>True</td>\n",
       "      <td>Summer</td>\n",
       "      <td>08:38 PM</td>\n",
       "      <td>Evening</td>\n",
       "      <td>500 PARK ST</td>\n",
       "      <td>38.033037</td>\n",
       "      <td>-78.475772</td>\n",
       "      <td>North Downtown</td>\n",
       "      <td>22902</td>\n",
       "    </tr>\n",
       "    <tr>\n",
       "      <th>1</th>\n",
       "      <td>2</td>\n",
       "      <td>Harassment</td>\n",
       "      <td>202500022455</td>\n",
       "      <td>800</td>\n",
       "      <td>DRUID AVE</td>\n",
       "      <td>CPD</td>\n",
       "      <td>1644</td>\n",
       "      <td>Curry, Brian</td>\n",
       "      <td>2025-06-29 16:44:45</td>\n",
       "      <td>2025-06-29 04:44:45 PM</td>\n",
       "      <td>Sunday</td>\n",
       "      <td>True</td>\n",
       "      <td>Summer</td>\n",
       "      <td>04:44 PM</td>\n",
       "      <td>Afternoon</td>\n",
       "      <td>800 DRUID AVE</td>\n",
       "      <td>38.018698</td>\n",
       "      <td>-78.480768</td>\n",
       "      <td>Belmont</td>\n",
       "      <td>22903</td>\n",
       "    </tr>\n",
       "    <tr>\n",
       "      <th>2</th>\n",
       "      <td>3</td>\n",
       "      <td>Assault Simple</td>\n",
       "      <td>202500022452</td>\n",
       "      <td>100</td>\n",
       "      <td>BRANDYWINE CT</td>\n",
       "      <td>CPD</td>\n",
       "      <td>1551</td>\n",
       "      <td>Benbow, Lauren</td>\n",
       "      <td>2025-06-29 15:51:03</td>\n",
       "      <td>2025-06-29 03:51:03 PM</td>\n",
       "      <td>Sunday</td>\n",
       "      <td>True</td>\n",
       "      <td>Summer</td>\n",
       "      <td>03:51 PM</td>\n",
       "      <td>Afternoon</td>\n",
       "      <td>100 BRANDYWINE CT</td>\n",
       "      <td>38.057713</td>\n",
       "      <td>-78.487497</td>\n",
       "      <td>Greenbrier</td>\n",
       "      <td>22901</td>\n",
       "    </tr>\n",
       "    <tr>\n",
       "      <th>3</th>\n",
       "      <td>4</td>\n",
       "      <td>Vandalism</td>\n",
       "      <td>202500022448</td>\n",
       "      <td>800</td>\n",
       "      <td>HARDY DR, D</td>\n",
       "      <td>CPD</td>\n",
       "      <td>1414</td>\n",
       "      <td>O'Briant, Landon</td>\n",
       "      <td>2025-06-29 14:14:44</td>\n",
       "      <td>2025-06-29 02:14:44 PM</td>\n",
       "      <td>Sunday</td>\n",
       "      <td>True</td>\n",
       "      <td>Summer</td>\n",
       "      <td>02:14 PM</td>\n",
       "      <td>Afternoon</td>\n",
       "      <td>800 HARDY DR, D</td>\n",
       "      <td>38.033239</td>\n",
       "      <td>-78.490398</td>\n",
       "      <td>10th &amp; Page</td>\n",
       "      <td>22903</td>\n",
       "    </tr>\n",
       "    <tr>\n",
       "      <th>4</th>\n",
       "      <td>5</td>\n",
       "      <td>Assault Simple</td>\n",
       "      <td>202500022444</td>\n",
       "      <td>700</td>\n",
       "      <td>PROSPECT AVE, F</td>\n",
       "      <td>CPD</td>\n",
       "      <td>1305</td>\n",
       "      <td>Lowry, Ryan</td>\n",
       "      <td>2025-06-29 13:05:36</td>\n",
       "      <td>2025-06-29 01:05:36 PM</td>\n",
       "      <td>Sunday</td>\n",
       "      <td>True</td>\n",
       "      <td>Summer</td>\n",
       "      <td>01:05 PM</td>\n",
       "      <td>Afternoon</td>\n",
       "      <td>700 PROSPECT AVE, F</td>\n",
       "      <td>38.024639</td>\n",
       "      <td>-78.494396</td>\n",
       "      <td>Fifeville</td>\n",
       "      <td>22903</td>\n",
       "    </tr>\n",
       "  </tbody>\n",
       "</table>\n",
       "</div>"
      ],
      "text/plain": [
       "   RecordID         Offense    IncidentID BlockNumber       StreetName Agency  \\\n",
       "0         1         Runaway  202500022491         500          PARK ST    CPD   \n",
       "1         2      Harassment  202500022455         800        DRUID AVE    CPD   \n",
       "2         3  Assault Simple  202500022452         100    BRANDYWINE CT    CPD   \n",
       "3         4       Vandalism  202500022448         800      HARDY DR, D    CPD   \n",
       "4         5  Assault Simple  202500022444         700  PROSPECT AVE, F    CPD   \n",
       "\n",
       "  HourReported  ReportingOfficer                Date              DateString  \\\n",
       "0         2038   Carrasco, Julio 2025-06-29 20:38:23  2025-06-29 08:38:23 PM   \n",
       "1         1644      Curry, Brian 2025-06-29 16:44:45  2025-06-29 04:44:45 PM   \n",
       "2         1551    Benbow, Lauren 2025-06-29 15:51:03  2025-06-29 03:51:03 PM   \n",
       "3         1414  O'Briant, Landon 2025-06-29 14:14:44  2025-06-29 02:14:44 PM   \n",
       "4         1305       Lowry, Ryan 2025-06-29 13:05:36  2025-06-29 01:05:36 PM   \n",
       "\n",
       "  DayOfWeek  Weekend  Season  HourAMPM  TimeOfDay           FullStreet  \\\n",
       "0    Sunday     True  Summer  08:38 PM    Evening          500 PARK ST   \n",
       "1    Sunday     True  Summer  04:44 PM  Afternoon        800 DRUID AVE   \n",
       "2    Sunday     True  Summer  03:51 PM  Afternoon    100 BRANDYWINE CT   \n",
       "3    Sunday     True  Summer  02:14 PM  Afternoon      800 HARDY DR, D   \n",
       "4    Sunday     True  Summer  01:05 PM  Afternoon  700 PROSPECT AVE, F   \n",
       "\n",
       "         lat        lon    neighborhood    zip  \n",
       "0  38.033037 -78.475772  North Downtown  22902  \n",
       "1  38.018698 -78.480768         Belmont  22903  \n",
       "2  38.057713 -78.487497      Greenbrier  22901  \n",
       "3  38.033239 -78.490398     10th & Page  22903  \n",
       "4  38.024639 -78.494396       Fifeville  22903  "
      ]
     },
     "execution_count": 11,
     "metadata": {},
     "output_type": "execute_result"
    }
   ],
   "source": [
    "# Initialize the geocoder.\n",
    "geolocator = Nominatim(user_agent=\"zip_lookup\")\n",
    "\n",
    "# Try to load a persistent ZIP cache if available.\n",
    "try:\n",
    "    with open(\"zip_cache.pkl\", \"rb\") as f:\n",
    "        zip_cache = pickle.load(f)\n",
    "    print(\"Loaded zip cache.\")\n",
    "except FileNotFoundError:\n",
    "    zip_cache = {}\n",
    "    print(\"No zip cache found; starting fresh.\")\n",
    "\n",
    "def get_zip(lat, lon):\n",
    "    \"\"\"\n",
    "    Reverse geocodes a latitude and longitude to retrieve the ZIP code.\n",
    "    Caches results to speed up subsequent lookups.\n",
    "    \"\"\"\n",
    "    key = (lat, lon)\n",
    "    if key in zip_cache:\n",
    "        return zip_cache[key]\n",
    "    \n",
    "    try:\n",
    "        location = geolocator.reverse((lat, lon), exactly_one=True, timeout=10)\n",
    "        address = location.raw.get('address', {})\n",
    "        postal_code = address.get('postcode', \"N/A\")\n",
    "    except Exception as e:\n",
    "        print(f\"Error getting ZIP for {lat}, {lon}: {e}\")\n",
    "        postal_code = \"N/A\"\n",
    "    \n",
    "    zip_cache[key] = postal_code\n",
    "    # Pause to respect the usage policy.\n",
    "    time.sleep(1)\n",
    "    return postal_code\n",
    "\n",
    "# Apply the function to each row in the DataFrame.\n",
    "df['zip'] = df.apply(lambda row: get_zip(row['lat'], row['lon']), axis=1)\n",
    "\n",
    "# Save the updated ZIP cache.\n",
    "with open(\"zip_cache.pkl\", \"wb\") as f:\n",
    "    pickle.dump(zip_cache, f)\n",
    "\n",
    "df.head()\n"
   ]
  },
  {
   "cell_type": "code",
   "execution_count": 12,
   "id": "2363b46b",
   "metadata": {
    "execution": {
     "iopub.execute_input": "2025-07-02T01:07:24.029320Z",
     "iopub.status.busy": "2025-07-02T01:07:24.028824Z",
     "iopub.status.idle": "2025-07-02T01:07:24.058219Z",
     "shell.execute_reply": "2025-07-02T01:07:24.057645Z"
    },
    "papermill": {
     "duration": 0.037808,
     "end_time": "2025-07-02T01:07:24.059363",
     "exception": false,
     "start_time": "2025-07-02T01:07:24.021555",
     "status": "completed"
    },
    "tags": []
   },
   "outputs": [
    {
     "name": "stdout",
     "output_type": "stream",
     "text": [
      "                  MissingCount  MissingPercentage\n",
      "RecordID                     0               0.00\n",
      "Offense                      0               0.00\n",
      "IncidentID                   0               0.00\n",
      "BlockNumber                  0               0.00\n",
      "StreetName                   0               0.00\n",
      "Agency                       0               0.00\n",
      "HourReported                 0               0.00\n",
      "ReportingOfficer            17               0.07\n",
      "Date                         0               0.00\n",
      "DateString                   0               0.00\n",
      "DayOfWeek                    0               0.00\n",
      "Weekend                      0               0.00\n",
      "Season                       0               0.00\n",
      "HourAMPM                     0               0.00\n",
      "TimeOfDay                    0               0.00\n",
      "FullStreet                   0               0.00\n",
      "lat                         36               0.14\n",
      "lon                         36               0.14\n",
      "neighborhood                 0               0.00\n",
      "zip                          0               0.00\n"
     ]
    }
   ],
   "source": [
    "missing_info = missing_percentage(df)\n",
    "print(missing_info)\n"
   ]
  },
  {
   "cell_type": "code",
   "execution_count": 13,
   "id": "d172603e",
   "metadata": {
    "execution": {
     "iopub.execute_input": "2025-07-02T01:07:24.074334Z",
     "iopub.status.busy": "2025-07-02T01:07:24.073921Z",
     "iopub.status.idle": "2025-07-02T01:07:24.106344Z",
     "shell.execute_reply": "2025-07-02T01:07:24.105671Z"
    },
    "papermill": {
     "duration": 0.041001,
     "end_time": "2025-07-02T01:07:24.107465",
     "exception": false,
     "start_time": "2025-07-02T01:07:24.066464",
     "status": "completed"
    },
    "tags": []
   },
   "outputs": [
    {
     "name": "stdout",
     "output_type": "stream",
     "text": [
      "<class 'pandas.core.frame.DataFrame'>\n",
      "RangeIndex: 25539 entries, 0 to 25538\n",
      "Data columns (total 20 columns):\n",
      " #   Column            Non-Null Count  Dtype         \n",
      "---  ------            --------------  -----         \n",
      " 0   RecordID          25539 non-null  int64         \n",
      " 1   Offense           25539 non-null  object        \n",
      " 2   IncidentID        25539 non-null  object        \n",
      " 3   BlockNumber       25539 non-null  object        \n",
      " 4   StreetName        25539 non-null  object        \n",
      " 5   Agency            25539 non-null  object        \n",
      " 6   HourReported      25539 non-null  object        \n",
      " 7   ReportingOfficer  25522 non-null  object        \n",
      " 8   Date              25539 non-null  datetime64[ns]\n",
      " 9   DateString        25539 non-null  object        \n",
      " 10  DayOfWeek         25539 non-null  object        \n",
      " 11  Weekend           25539 non-null  bool          \n",
      " 12  Season            25539 non-null  object        \n",
      " 13  HourAMPM          25539 non-null  object        \n",
      " 14  TimeOfDay         25539 non-null  object        \n",
      " 15  FullStreet        25539 non-null  object        \n",
      " 16  lat               25503 non-null  float64       \n",
      " 17  lon               25503 non-null  float64       \n",
      " 18  neighborhood      25539 non-null  object        \n",
      " 19  zip               25539 non-null  object        \n",
      "dtypes: bool(1), datetime64[ns](1), float64(2), int64(1), object(15)\n",
      "memory usage: 3.7+ MB\n"
     ]
    }
   ],
   "source": [
    "df.info()"
   ]
  },
  {
   "cell_type": "code",
   "execution_count": 14,
   "id": "6ce4b420",
   "metadata": {
    "execution": {
     "iopub.execute_input": "2025-07-02T01:07:24.122279Z",
     "iopub.status.busy": "2025-07-02T01:07:24.121907Z",
     "iopub.status.idle": "2025-07-02T01:07:24.167189Z",
     "shell.execute_reply": "2025-07-02T01:07:24.166501Z"
    },
    "papermill": {
     "duration": 0.053745,
     "end_time": "2025-07-02T01:07:24.168296",
     "exception": false,
     "start_time": "2025-07-02T01:07:24.114551",
     "status": "completed"
    },
    "tags": []
   },
   "outputs": [
    {
     "data": {
      "text/html": [
       "<div>\n",
       "<style scoped>\n",
       "    .dataframe tbody tr th:only-of-type {\n",
       "        vertical-align: middle;\n",
       "    }\n",
       "\n",
       "    .dataframe tbody tr th {\n",
       "        vertical-align: top;\n",
       "    }\n",
       "\n",
       "    .dataframe thead th {\n",
       "        text-align: right;\n",
       "    }\n",
       "</style>\n",
       "<table border=\"1\" class=\"dataframe\">\n",
       "  <thead>\n",
       "    <tr style=\"text-align: right;\">\n",
       "      <th></th>\n",
       "      <th>RecordID</th>\n",
       "      <th>Offense</th>\n",
       "      <th>IncidentID</th>\n",
       "      <th>Agency</th>\n",
       "      <th>ReportingOfficer</th>\n",
       "      <th>Date</th>\n",
       "      <th>DayOfWeek</th>\n",
       "      <th>Weekend</th>\n",
       "      <th>Season</th>\n",
       "      <th>TimeOfDay</th>\n",
       "      <th>FullStreet</th>\n",
       "      <th>lat</th>\n",
       "      <th>lon</th>\n",
       "      <th>neighborhood</th>\n",
       "      <th>zip</th>\n",
       "    </tr>\n",
       "  </thead>\n",
       "  <tbody>\n",
       "    <tr>\n",
       "      <th>0</th>\n",
       "      <td>1</td>\n",
       "      <td>Runaway</td>\n",
       "      <td>202500022491</td>\n",
       "      <td>CPD</td>\n",
       "      <td>Carrasco, Julio</td>\n",
       "      <td>2025-06-29 20:38:23</td>\n",
       "      <td>Sunday</td>\n",
       "      <td>True</td>\n",
       "      <td>Summer</td>\n",
       "      <td>Evening</td>\n",
       "      <td>500 PARK ST</td>\n",
       "      <td>38.033037</td>\n",
       "      <td>-78.475772</td>\n",
       "      <td>North Downtown</td>\n",
       "      <td>22902</td>\n",
       "    </tr>\n",
       "    <tr>\n",
       "      <th>1</th>\n",
       "      <td>2</td>\n",
       "      <td>Harassment</td>\n",
       "      <td>202500022455</td>\n",
       "      <td>CPD</td>\n",
       "      <td>Curry, Brian</td>\n",
       "      <td>2025-06-29 16:44:45</td>\n",
       "      <td>Sunday</td>\n",
       "      <td>True</td>\n",
       "      <td>Summer</td>\n",
       "      <td>Afternoon</td>\n",
       "      <td>800 DRUID AVE</td>\n",
       "      <td>38.018698</td>\n",
       "      <td>-78.480768</td>\n",
       "      <td>Belmont</td>\n",
       "      <td>22903</td>\n",
       "    </tr>\n",
       "    <tr>\n",
       "      <th>2</th>\n",
       "      <td>3</td>\n",
       "      <td>Assault Simple</td>\n",
       "      <td>202500022452</td>\n",
       "      <td>CPD</td>\n",
       "      <td>Benbow, Lauren</td>\n",
       "      <td>2025-06-29 15:51:03</td>\n",
       "      <td>Sunday</td>\n",
       "      <td>True</td>\n",
       "      <td>Summer</td>\n",
       "      <td>Afternoon</td>\n",
       "      <td>100 BRANDYWINE CT</td>\n",
       "      <td>38.057713</td>\n",
       "      <td>-78.487497</td>\n",
       "      <td>Greenbrier</td>\n",
       "      <td>22901</td>\n",
       "    </tr>\n",
       "    <tr>\n",
       "      <th>3</th>\n",
       "      <td>4</td>\n",
       "      <td>Vandalism</td>\n",
       "      <td>202500022448</td>\n",
       "      <td>CPD</td>\n",
       "      <td>O'Briant, Landon</td>\n",
       "      <td>2025-06-29 14:14:44</td>\n",
       "      <td>Sunday</td>\n",
       "      <td>True</td>\n",
       "      <td>Summer</td>\n",
       "      <td>Afternoon</td>\n",
       "      <td>800 HARDY DR, D</td>\n",
       "      <td>38.033239</td>\n",
       "      <td>-78.490398</td>\n",
       "      <td>10th &amp; Page</td>\n",
       "      <td>22903</td>\n",
       "    </tr>\n",
       "    <tr>\n",
       "      <th>4</th>\n",
       "      <td>5</td>\n",
       "      <td>Assault Simple</td>\n",
       "      <td>202500022444</td>\n",
       "      <td>CPD</td>\n",
       "      <td>Lowry, Ryan</td>\n",
       "      <td>2025-06-29 13:05:36</td>\n",
       "      <td>Sunday</td>\n",
       "      <td>True</td>\n",
       "      <td>Summer</td>\n",
       "      <td>Afternoon</td>\n",
       "      <td>700 PROSPECT AVE, F</td>\n",
       "      <td>38.024639</td>\n",
       "      <td>-78.494396</td>\n",
       "      <td>Fifeville</td>\n",
       "      <td>22903</td>\n",
       "    </tr>\n",
       "  </tbody>\n",
       "</table>\n",
       "</div>"
      ],
      "text/plain": [
       "   RecordID         Offense    IncidentID Agency  ReportingOfficer  \\\n",
       "0         1         Runaway  202500022491    CPD   Carrasco, Julio   \n",
       "1         2      Harassment  202500022455    CPD      Curry, Brian   \n",
       "2         3  Assault Simple  202500022452    CPD    Benbow, Lauren   \n",
       "3         4       Vandalism  202500022448    CPD  O'Briant, Landon   \n",
       "4         5  Assault Simple  202500022444    CPD       Lowry, Ryan   \n",
       "\n",
       "                 Date DayOfWeek  Weekend  Season  TimeOfDay  \\\n",
       "0 2025-06-29 20:38:23    Sunday     True  Summer    Evening   \n",
       "1 2025-06-29 16:44:45    Sunday     True  Summer  Afternoon   \n",
       "2 2025-06-29 15:51:03    Sunday     True  Summer  Afternoon   \n",
       "3 2025-06-29 14:14:44    Sunday     True  Summer  Afternoon   \n",
       "4 2025-06-29 13:05:36    Sunday     True  Summer  Afternoon   \n",
       "\n",
       "            FullStreet        lat        lon    neighborhood    zip  \n",
       "0          500 PARK ST  38.033037 -78.475772  North Downtown  22902  \n",
       "1        800 DRUID AVE  38.018698 -78.480768         Belmont  22903  \n",
       "2    100 BRANDYWINE CT  38.057713 -78.487497      Greenbrier  22901  \n",
       "3      800 HARDY DR, D  38.033239 -78.490398     10th & Page  22903  \n",
       "4  700 PROSPECT AVE, F  38.024639 -78.494396       Fifeville  22903  "
      ]
     },
     "execution_count": 14,
     "metadata": {},
     "output_type": "execute_result"
    }
   ],
   "source": [
    "# Now drop the original BlockNumber and StreetName columns\n",
    "df.drop(columns=['BlockNumber', 'StreetName','HourAMPM','HourReported','DateString'], inplace=True)\n",
    "df[\"zip\"] = df[\"zip\"].astype(str)\n",
    "\n",
    "# Fill all missing values in the DataFrame with \"N/A\"\n",
    "df.replace({None: \"N/A\", np.nan: \"N/A\", \"\": \"N/A\"}, inplace=True)\n",
    "df.head()"
   ]
  },
  {
   "cell_type": "code",
   "execution_count": 15,
   "id": "20ced289",
   "metadata": {
    "execution": {
     "iopub.execute_input": "2025-07-02T01:07:24.183967Z",
     "iopub.status.busy": "2025-07-02T01:07:24.183519Z",
     "iopub.status.idle": "2025-07-02T01:07:24.201070Z",
     "shell.execute_reply": "2025-07-02T01:07:24.200499Z"
    },
    "papermill": {
     "duration": 0.026299,
     "end_time": "2025-07-02T01:07:24.202067",
     "exception": false,
     "start_time": "2025-07-02T01:07:24.175768",
     "status": "completed"
    },
    "tags": []
   },
   "outputs": [
    {
     "name": "stdout",
     "output_type": "stream",
     "text": [
      "                  MissingCount  MissingPercentage\n",
      "RecordID                     0                0.0\n",
      "Offense                      0                0.0\n",
      "IncidentID                   0                0.0\n",
      "Agency                       0                0.0\n",
      "ReportingOfficer             0                0.0\n",
      "Date                         0                0.0\n",
      "DayOfWeek                    0                0.0\n",
      "Weekend                      0                0.0\n",
      "Season                       0                0.0\n",
      "TimeOfDay                    0                0.0\n",
      "FullStreet                   0                0.0\n",
      "lat                          0                0.0\n",
      "lon                          0                0.0\n",
      "neighborhood                 0                0.0\n",
      "zip                          0                0.0\n"
     ]
    }
   ],
   "source": [
    "missing_info = missing_percentage(df)\n",
    "print(missing_info)"
   ]
  },
  {
   "cell_type": "code",
   "execution_count": 16,
   "id": "46c4e811",
   "metadata": {
    "execution": {
     "iopub.execute_input": "2025-07-02T01:07:24.217266Z",
     "iopub.status.busy": "2025-07-02T01:07:24.217046Z",
     "iopub.status.idle": "2025-07-02T01:07:24.221546Z",
     "shell.execute_reply": "2025-07-02T01:07:24.221000Z"
    },
    "papermill": {
     "duration": 0.013209,
     "end_time": "2025-07-02T01:07:24.222513",
     "exception": false,
     "start_time": "2025-07-02T01:07:24.209304",
     "status": "completed"
    },
    "tags": []
   },
   "outputs": [
    {
     "data": {
      "text/plain": [
       "Index(['RecordID', 'Offense', 'IncidentID', 'Agency', 'ReportingOfficer',\n",
       "       'Date', 'DayOfWeek', 'Weekend', 'Season', 'TimeOfDay', 'FullStreet',\n",
       "       'lat', 'lon', 'neighborhood', 'zip'],\n",
       "      dtype='object')"
      ]
     },
     "execution_count": 16,
     "metadata": {},
     "output_type": "execute_result"
    }
   ],
   "source": [
    "df.columns"
   ]
  },
  {
   "cell_type": "code",
   "execution_count": 17,
   "id": "fcbe2eb4",
   "metadata": {
    "execution": {
     "iopub.execute_input": "2025-07-02T01:07:24.237623Z",
     "iopub.status.busy": "2025-07-02T01:07:24.237362Z",
     "iopub.status.idle": "2025-07-02T01:07:24.260091Z",
     "shell.execute_reply": "2025-07-02T01:07:24.259538Z"
    },
    "papermill": {
     "duration": 0.031457,
     "end_time": "2025-07-02T01:07:24.261113",
     "exception": false,
     "start_time": "2025-07-02T01:07:24.229656",
     "status": "completed"
    },
    "tags": []
   },
   "outputs": [
    {
     "name": "stdout",
     "output_type": "stream",
     "text": [
      "<class 'pandas.core.frame.DataFrame'>\n",
      "RangeIndex: 25539 entries, 0 to 25538\n",
      "Data columns (total 15 columns):\n",
      " #   Column            Non-Null Count  Dtype         \n",
      "---  ------            --------------  -----         \n",
      " 0   RecordID          25539 non-null  int64         \n",
      " 1   Offense           25539 non-null  object        \n",
      " 2   IncidentID        25539 non-null  object        \n",
      " 3   Agency            25539 non-null  object        \n",
      " 4   ReportingOfficer  25539 non-null  object        \n",
      " 5   Date              25539 non-null  datetime64[ns]\n",
      " 6   DayOfWeek         25539 non-null  object        \n",
      " 7   Weekend           25539 non-null  bool          \n",
      " 8   Season            25539 non-null  object        \n",
      " 9   TimeOfDay         25539 non-null  object        \n",
      " 10  FullStreet        25539 non-null  object        \n",
      " 11  lat               25539 non-null  object        \n",
      " 12  lon               25539 non-null  object        \n",
      " 13  neighborhood      25539 non-null  object        \n",
      " 14  zip               25539 non-null  object        \n",
      "dtypes: bool(1), datetime64[ns](1), int64(1), object(12)\n",
      "memory usage: 2.8+ MB\n"
     ]
    }
   ],
   "source": [
    "df.info()"
   ]
  },
  {
   "cell_type": "markdown",
   "id": "3d8513ee",
   "metadata": {
    "papermill": {
     "duration": 0.007282,
     "end_time": "2025-07-02T01:07:24.275908",
     "exception": false,
     "start_time": "2025-07-02T01:07:24.268626",
     "status": "completed"
    },
    "tags": []
   },
   "source": [
    "### Export Clean Data"
   ]
  },
  {
   "cell_type": "code",
   "execution_count": 18,
   "id": "11627f14",
   "metadata": {
    "execution": {
     "iopub.execute_input": "2025-07-02T01:07:24.291441Z",
     "iopub.status.busy": "2025-07-02T01:07:24.291222Z",
     "iopub.status.idle": "2025-07-02T01:07:33.499988Z",
     "shell.execute_reply": "2025-07-02T01:07:33.499294Z"
    },
    "papermill": {
     "duration": 9.217856,
     "end_time": "2025-07-02T01:07:33.501089",
     "exception": false,
     "start_time": "2025-07-02T01:07:24.283233",
     "status": "completed"
    },
    "tags": []
   },
   "outputs": [
    {
     "name": "stdout",
     "output_type": "stream",
     "text": [
      "Project Root: /home/runner/work/crime-data/crime-data\n"
     ]
    },
    {
     "name": "stdout",
     "output_type": "stream",
     "text": [
      "Data saved to: /home/runner/work/crime-data/crime-data/data/charlottesville_crime_incidents.csv\n"
     ]
    },
    {
     "name": "stdout",
     "output_type": "stream",
     "text": [
      "Excel saved to: /home/runner/work/crime-data/crime-data/data/charlottesville_crime_incidents.xlsx\n"
     ]
    }
   ],
   "source": [
    "# Determine the project root (assuming papermill is run from the repository root)\n",
    "project_root = os.getcwd()\n",
    "print(\"Project Root:\", project_root)\n",
    "\n",
    "# Set the data directory within the project root\n",
    "data_dir = os.path.join(project_root, \"data\")\n",
    "\n",
    "# Ensure the \"data\" directory exists (create it if it doesn't)\n",
    "if not os.path.exists(data_dir):\n",
    "    os.makedirs(data_dir)\n",
    "\n",
    "# Export the DataFrame to CSV in the \"data\" folder located in the project root\n",
    "csv_path = os.path.join(data_dir, \"charlottesville_crime_incidents.csv\")\n",
    "df.to_csv(csv_path, index=False)\n",
    "print(\"Data saved to:\", csv_path)\n",
    "\n",
    "# Construct the path to your Excel file\n",
    "excel_path = os.path.join(data_dir, \"charlottesville_crime_incidents.xlsx\")\n",
    "\n",
    "# Export the DataFrame to Excel\n",
    "df.to_excel(excel_path, index=False)\n",
    "print(\"Excel saved to:\", excel_path)\n"
   ]
  }
 ],
 "metadata": {
  "kernelspec": {
   "display_name": "Python 3",
   "language": "python",
   "name": "python3"
  },
  "language_info": {
   "codemirror_mode": {
    "name": "ipython",
    "version": 3
   },
   "file_extension": ".py",
   "mimetype": "text/x-python",
   "name": "python",
   "nbconvert_exporter": "python",
   "pygments_lexer": "ipython3",
   "version": "3.9.23"
  },
  "papermill": {
   "default_parameters": {},
   "duration": 120.124048,
   "end_time": "2025-07-02T01:07:33.925099",
   "environment_variables": {},
   "exception": null,
   "input_path": "notebook/Crime Data.ipynb",
   "output_path": "notebook/Crime Data_output.ipynb",
   "parameters": {},
   "start_time": "2025-07-02T01:05:33.801051",
   "version": "2.6.0"
  }
 },
 "nbformat": 4,
 "nbformat_minor": 5
}