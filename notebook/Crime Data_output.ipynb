{
 "cells": [
  {
   "cell_type": "markdown",
   "id": "d32afdde",
   "metadata": {
    "papermill": {
     "duration": 0.004351,
     "end_time": "2025-07-17T01:09:04.425813",
     "exception": false,
     "start_time": "2025-07-17T01:09:04.421462",
     "status": "completed"
    },
    "tags": []
   },
   "source": [
    "# Charlottesville Open Data Porttal: Crime Data"
   ]
  },
  {
   "cell_type": "markdown",
   "id": "450d215f",
   "metadata": {
    "papermill": {
     "duration": 0.003182,
     "end_time": "2025-07-17T01:09:04.432662",
     "exception": false,
     "start_time": "2025-07-17T01:09:04.429480",
     "status": "completed"
    },
    "tags": []
   },
   "source": [
    "## Import Relevant Librarires & Set WD"
   ]
  },
  {
   "cell_type": "code",
   "execution_count": 1,
   "id": "b79219f3",
   "metadata": {
    "execution": {
     "iopub.execute_input": "2025-07-17T01:09:04.440771Z",
     "iopub.status.busy": "2025-07-17T01:09:04.440191Z",
     "iopub.status.idle": "2025-07-17T01:09:05.054166Z",
     "shell.execute_reply": "2025-07-17T01:09:05.053571Z"
    },
    "papermill": {
     "duration": 0.619639,
     "end_time": "2025-07-17T01:09:05.055573",
     "exception": false,
     "start_time": "2025-07-17T01:09:04.435934",
     "status": "completed"
    },
    "tags": []
   },
   "outputs": [],
   "source": [
    "import requests\n",
    "import pandas as pd\n",
    "import numpy as np\n",
    "import pickle\n",
    "import googlemaps\n",
    "import plotly.express as px\n",
    "from geopy.geocoders import Nominatim\n",
    "import time\n",
    "from dotenv import load_dotenv\n",
    "import os\n",
    "\n",
    "env_path = os.path.join(\"..\", \".env\")\n",
    "#print(\"Looking for .env file at:\", os.path.abspath(env_path))\n",
    "load_dotenv(dotenv_path=env_path)\n",
    "\n",
    "# Retrieve the variables\n",
    "GOOGLE_API_KEY = os.getenv(\"GOOGLE_API_KEY\")\n",
    "WORKING_DIR = os.getenv(\"WORKING_DIR\")\n",
    "\n",
    "if GOOGLE_API_KEY is None or WORKING_DIR is None:\n",
    "    raise RuntimeError(\"No configuration found. Please ensure that your .env file exists with the required variables, or create a local config.py file.\")\n",
    "\n",
    "#print(\"Google API Key:\", GOOGLE_API_KEY)\n",
    "#print(\"Working Directory:\", WORKING_DIR)"
   ]
  },
  {
   "cell_type": "markdown",
   "id": "cb48a1c0",
   "metadata": {
    "papermill": {
     "duration": 0.0033,
     "end_time": "2025-07-17T01:09:05.062638",
     "exception": false,
     "start_time": "2025-07-17T01:09:05.059338",
     "status": "completed"
    },
    "tags": []
   },
   "source": [
    "## Import Data\n",
    "\n",
    "URL: https://opendata.charlottesville.org/datasets/charlottesville::crime-data/about"
   ]
  },
  {
   "cell_type": "code",
   "execution_count": 2,
   "id": "1b511791",
   "metadata": {
    "execution": {
     "iopub.execute_input": "2025-07-17T01:09:05.070734Z",
     "iopub.status.busy": "2025-07-17T01:09:05.070046Z",
     "iopub.status.idle": "2025-07-17T01:10:15.372548Z",
     "shell.execute_reply": "2025-07-17T01:10:15.371786Z"
    },
    "papermill": {
     "duration": 70.310833,
     "end_time": "2025-07-17T01:10:15.376834",
     "exception": false,
     "start_time": "2025-07-17T01:09:05.066001",
     "status": "completed"
    },
    "tags": []
   },
   "outputs": [
    {
     "name": "stdout",
     "output_type": "stream",
     "text": [
      "Total records imported: 25522\n"
     ]
    }
   ],
   "source": [
    "# Define the endpoint and initial parameters.\n",
    "url = \"https://gisweb.charlottesville.org/arcgis/rest/services/OpenData_2/MapServer/6/query\"\n",
    "params = {\n",
    "    \"where\": \"1=1\",\n",
    "    \"outFields\": \"*\",\n",
    "    \"outSR\": 4326,\n",
    "    \"f\": \"json\",\n",
    "    \"resultOffset\": 0,       # Starting index for results\n",
    "    \"resultRecordCount\": 10000  # Maximum records per batch (if allowed by the API)\n",
    "}\n",
    "\n",
    "records = []\n",
    "\n",
    "while True:\n",
    "    response = requests.get(url, params=params)\n",
    "    response.raise_for_status()\n",
    "    data = response.json()\n",
    "    \n",
    "    # Get the current batch of features.\n",
    "    features = data.get(\"features\", [])\n",
    "    if not features:\n",
    "        break\n",
    "\n",
    "    # Extract the attributes from the features.\n",
    "    batch_records = [feature.get(\"attributes\", {}) for feature in features]\n",
    "    records.extend(batch_records)\n",
    "    \n",
    "    # If the batch size is less than the requested count, we reached the end.\n",
    "    if len(features) < params[\"resultRecordCount\"]:\n",
    "        break\n",
    "\n",
    "    # Update the resultOffset for the next batch.\n",
    "    params[\"resultOffset\"] += params[\"resultRecordCount\"]\n",
    "\n",
    "# Create a DataFrame from the combined records.\n",
    "df = pd.DataFrame(records)\n",
    "print(\"Total records imported:\", len(df))\n"
   ]
  },
  {
   "cell_type": "code",
   "execution_count": 3,
   "id": "4706991b",
   "metadata": {
    "execution": {
     "iopub.execute_input": "2025-07-17T01:10:15.384899Z",
     "iopub.status.busy": "2025-07-17T01:10:15.384457Z",
     "iopub.status.idle": "2025-07-17T01:10:15.396607Z",
     "shell.execute_reply": "2025-07-17T01:10:15.396047Z"
    },
    "papermill": {
     "duration": 0.01718,
     "end_time": "2025-07-17T01:10:15.397585",
     "exception": false,
     "start_time": "2025-07-17T01:10:15.380405",
     "status": "completed"
    },
    "tags": []
   },
   "outputs": [
    {
     "data": {
      "text/html": [
       "<div>\n",
       "<style scoped>\n",
       "    .dataframe tbody tr th:only-of-type {\n",
       "        vertical-align: middle;\n",
       "    }\n",
       "\n",
       "    .dataframe tbody tr th {\n",
       "        vertical-align: top;\n",
       "    }\n",
       "\n",
       "    .dataframe thead th {\n",
       "        text-align: right;\n",
       "    }\n",
       "</style>\n",
       "<table border=\"1\" class=\"dataframe\">\n",
       "  <thead>\n",
       "    <tr style=\"text-align: right;\">\n",
       "      <th></th>\n",
       "      <th>RecordID</th>\n",
       "      <th>Offense</th>\n",
       "      <th>IncidentID</th>\n",
       "      <th>BlockNumber</th>\n",
       "      <th>StreetName</th>\n",
       "      <th>Agency</th>\n",
       "      <th>DateReported</th>\n",
       "      <th>HourReported</th>\n",
       "      <th>ReportingOfficer</th>\n",
       "    </tr>\n",
       "  </thead>\n",
       "  <tbody>\n",
       "    <tr>\n",
       "      <th>0</th>\n",
       "      <td>1</td>\n",
       "      <td>Trespass</td>\n",
       "      <td>202500024666</td>\n",
       "      <td>1400</td>\n",
       "      <td>UNIVERSITY AVE</td>\n",
       "      <td>CPD</td>\n",
       "      <td>1752511458000</td>\n",
       "      <td>1244</td>\n",
       "      <td>Adams, Austin</td>\n",
       "    </tr>\n",
       "    <tr>\n",
       "      <th>1</th>\n",
       "      <td>2</td>\n",
       "      <td>Drug Equipment Violation</td>\n",
       "      <td>202500024659</td>\n",
       "      <td>700</td>\n",
       "      <td>HARRIS ST, 202</td>\n",
       "      <td>CPD</td>\n",
       "      <td>1752507240000</td>\n",
       "      <td>1134</td>\n",
       "      <td>Mian, Ghulam</td>\n",
       "    </tr>\n",
       "    <tr>\n",
       "      <th>2</th>\n",
       "      <td>3</td>\n",
       "      <td>Larceny - Of Veh Parts/Access</td>\n",
       "      <td>202580000110</td>\n",
       "      <td>100</td>\n",
       "      <td>KEYSTONE</td>\n",
       "      <td>CPD</td>\n",
       "      <td>1752507207000</td>\n",
       "      <td>1133</td>\n",
       "      <td>Pendleton, Eric</td>\n",
       "    </tr>\n",
       "    <tr>\n",
       "      <th>3</th>\n",
       "      <td>4</td>\n",
       "      <td>Larceny - From Motor Vehicle</td>\n",
       "      <td>202500024653</td>\n",
       "      <td>800</td>\n",
       "      <td>W MAIN ST, 633</td>\n",
       "      <td>CPD</td>\n",
       "      <td>1752504590000</td>\n",
       "      <td>1049</td>\n",
       "      <td>Adams, Austin</td>\n",
       "    </tr>\n",
       "    <tr>\n",
       "      <th>4</th>\n",
       "      <td>5</td>\n",
       "      <td>Larceny - From Motor Vehicle</td>\n",
       "      <td>202500024647</td>\n",
       "      <td>1200</td>\n",
       "      <td>W MAIN ST</td>\n",
       "      <td>CPD</td>\n",
       "      <td>1752502861000</td>\n",
       "      <td>1021</td>\n",
       "      <td>Stayments, Ronald</td>\n",
       "    </tr>\n",
       "  </tbody>\n",
       "</table>\n",
       "</div>"
      ],
      "text/plain": [
       "   RecordID                        Offense    IncidentID BlockNumber  \\\n",
       "0         1                       Trespass  202500024666        1400   \n",
       "1         2       Drug Equipment Violation  202500024659         700   \n",
       "2         3  Larceny - Of Veh Parts/Access  202580000110         100   \n",
       "3         4   Larceny - From Motor Vehicle  202500024653         800   \n",
       "4         5   Larceny - From Motor Vehicle  202500024647        1200   \n",
       "\n",
       "       StreetName Agency   DateReported HourReported    ReportingOfficer  \n",
       "0  UNIVERSITY AVE    CPD  1752511458000         1244       Adams, Austin  \n",
       "1  HARRIS ST, 202    CPD  1752507240000         1134        Mian, Ghulam  \n",
       "2        KEYSTONE    CPD  1752507207000         1133     Pendleton, Eric  \n",
       "3  W MAIN ST, 633    CPD  1752504590000         1049       Adams, Austin  \n",
       "4       W MAIN ST    CPD  1752502861000         1021  Stayments, Ronald   "
      ]
     },
     "execution_count": 3,
     "metadata": {},
     "output_type": "execute_result"
    }
   ],
   "source": [
    "df.head()"
   ]
  },
  {
   "cell_type": "code",
   "execution_count": 4,
   "id": "1516e2cd",
   "metadata": {
    "execution": {
     "iopub.execute_input": "2025-07-17T01:10:15.405898Z",
     "iopub.status.busy": "2025-07-17T01:10:15.405451Z",
     "iopub.status.idle": "2025-07-17T01:10:15.409850Z",
     "shell.execute_reply": "2025-07-17T01:10:15.409220Z"
    },
    "papermill": {
     "duration": 0.009546,
     "end_time": "2025-07-17T01:10:15.410877",
     "exception": false,
     "start_time": "2025-07-17T01:10:15.401331",
     "status": "completed"
    },
    "tags": []
   },
   "outputs": [
    {
     "data": {
      "text/plain": [
       "Index(['RecordID', 'Offense', 'IncidentID', 'BlockNumber', 'StreetName',\n",
       "       'Agency', 'DateReported', 'HourReported', 'ReportingOfficer'],\n",
       "      dtype='object')"
      ]
     },
     "execution_count": 4,
     "metadata": {},
     "output_type": "execute_result"
    }
   ],
   "source": [
    "df.columns"
   ]
  },
  {
   "cell_type": "code",
   "execution_count": 5,
   "id": "bd7083b3",
   "metadata": {
    "execution": {
     "iopub.execute_input": "2025-07-17T01:10:15.419883Z",
     "iopub.status.busy": "2025-07-17T01:10:15.419469Z",
     "iopub.status.idle": "2025-07-17T01:10:15.445393Z",
     "shell.execute_reply": "2025-07-17T01:10:15.444800Z"
    },
    "papermill": {
     "duration": 0.031801,
     "end_time": "2025-07-17T01:10:15.446419",
     "exception": false,
     "start_time": "2025-07-17T01:10:15.414618",
     "status": "completed"
    },
    "tags": []
   },
   "outputs": [
    {
     "name": "stdout",
     "output_type": "stream",
     "text": [
      "<class 'pandas.core.frame.DataFrame'>\n",
      "RangeIndex: 25522 entries, 0 to 25521\n",
      "Data columns (total 9 columns):\n",
      " #   Column            Non-Null Count  Dtype \n",
      "---  ------            --------------  ----- \n",
      " 0   RecordID          25522 non-null  int64 \n",
      " 1   Offense           25522 non-null  object\n",
      " 2   IncidentID        25522 non-null  object\n",
      " 3   BlockNumber       25522 non-null  object\n",
      " 4   StreetName        25522 non-null  object\n",
      " 5   Agency            25522 non-null  object\n",
      " 6   DateReported      25522 non-null  int64 \n",
      " 7   HourReported      25522 non-null  object\n",
      " 8   ReportingOfficer  25505 non-null  object\n",
      "dtypes: int64(2), object(7)\n",
      "memory usage: 1.8+ MB\n"
     ]
    }
   ],
   "source": [
    "df.info()"
   ]
  },
  {
   "cell_type": "markdown",
   "id": "ca1587fb",
   "metadata": {
    "papermill": {
     "duration": 0.003702,
     "end_time": "2025-07-17T01:10:15.454076",
     "exception": false,
     "start_time": "2025-07-17T01:10:15.450374",
     "status": "completed"
    },
    "tags": []
   },
   "source": [
    "### Missing Values"
   ]
  },
  {
   "cell_type": "code",
   "execution_count": 6,
   "id": "b2251838",
   "metadata": {
    "execution": {
     "iopub.execute_input": "2025-07-17T01:10:15.485406Z",
     "iopub.status.busy": "2025-07-17T01:10:15.484851Z",
     "iopub.status.idle": "2025-07-17T01:10:15.510800Z",
     "shell.execute_reply": "2025-07-17T01:10:15.510105Z"
    },
    "papermill": {
     "duration": 0.03157,
     "end_time": "2025-07-17T01:10:15.511755",
     "exception": false,
     "start_time": "2025-07-17T01:10:15.480185",
     "status": "completed"
    },
    "tags": []
   },
   "outputs": [
    {
     "name": "stdout",
     "output_type": "stream",
     "text": [
      "                  MissingCount  MissingPercentage\n",
      "RecordID                     0               0.00\n",
      "Offense                      0               0.00\n",
      "IncidentID                   0               0.00\n",
      "BlockNumber                  0               0.00\n",
      "StreetName                   0               0.00\n",
      "Agency                       0               0.00\n",
      "DateReported                 0               0.00\n",
      "HourReported                 0               0.00\n",
      "ReportingOfficer            17               0.07\n"
     ]
    }
   ],
   "source": [
    "def missing_percentage(df):\n",
    "    \"\"\"\n",
    "    Returns a DataFrame with the count and percentage of missing values for each column.\n",
    "    \n",
    "    Parameters:\n",
    "        df (pd.DataFrame): The input DataFrame.\n",
    "    \n",
    "    Returns:\n",
    "        pd.DataFrame: A DataFrame with columns 'MissingCount' and 'MissingPercentage'.\n",
    "    \"\"\"\n",
    "    total_rows = len(df)\n",
    "    missing_count = df.isnull().sum()\n",
    "    missing_percent = (missing_count / total_rows) * 100\n",
    "    \n",
    "    result = pd.DataFrame({\n",
    "        'MissingCount': missing_count,\n",
    "        'MissingPercentage': missing_percent.round(2)\n",
    "    })\n",
    "    \n",
    "    return result\n",
    "\n",
    "# Example usage:\n",
    "missing_info = missing_percentage(df)\n",
    "print(missing_info)\n"
   ]
  },
  {
   "cell_type": "markdown",
   "id": "320bb810",
   "metadata": {
    "papermill": {
     "duration": 0.004008,
     "end_time": "2025-07-17T01:10:15.519847",
     "exception": false,
     "start_time": "2025-07-17T01:10:15.515839",
     "status": "completed"
    },
    "tags": []
   },
   "source": [
    "## Data Preparation"
   ]
  },
  {
   "cell_type": "markdown",
   "id": "11e994e0",
   "metadata": {
    "papermill": {
     "duration": 0.003751,
     "end_time": "2025-07-17T01:10:15.527418",
     "exception": false,
     "start_time": "2025-07-17T01:10:15.523667",
     "status": "completed"
    },
    "tags": []
   },
   "source": [
    "### Data Conversion"
   ]
  },
  {
   "cell_type": "code",
   "execution_count": 7,
   "id": "3732fc22",
   "metadata": {
    "execution": {
     "iopub.execute_input": "2025-07-17T01:10:15.536031Z",
     "iopub.status.busy": "2025-07-17T01:10:15.535782Z",
     "iopub.status.idle": "2025-07-17T01:10:15.899057Z",
     "shell.execute_reply": "2025-07-17T01:10:15.898379Z"
    },
    "papermill": {
     "duration": 0.36879,
     "end_time": "2025-07-17T01:10:15.900102",
     "exception": false,
     "start_time": "2025-07-17T01:10:15.531312",
     "status": "completed"
    },
    "tags": []
   },
   "outputs": [
    {
     "data": {
      "text/html": [
       "<div>\n",
       "<style scoped>\n",
       "    .dataframe tbody tr th:only-of-type {\n",
       "        vertical-align: middle;\n",
       "    }\n",
       "\n",
       "    .dataframe tbody tr th {\n",
       "        vertical-align: top;\n",
       "    }\n",
       "\n",
       "    .dataframe thead th {\n",
       "        text-align: right;\n",
       "    }\n",
       "</style>\n",
       "<table border=\"1\" class=\"dataframe\">\n",
       "  <thead>\n",
       "    <tr style=\"text-align: right;\">\n",
       "      <th></th>\n",
       "      <th>RecordID</th>\n",
       "      <th>Offense</th>\n",
       "      <th>IncidentID</th>\n",
       "      <th>BlockNumber</th>\n",
       "      <th>StreetName</th>\n",
       "      <th>Agency</th>\n",
       "      <th>HourReported</th>\n",
       "      <th>ReportingOfficer</th>\n",
       "      <th>Date</th>\n",
       "      <th>DateString</th>\n",
       "      <th>DayOfWeek</th>\n",
       "      <th>Weekend</th>\n",
       "      <th>Season</th>\n",
       "      <th>HourAMPM</th>\n",
       "      <th>TimeOfDay</th>\n",
       "    </tr>\n",
       "  </thead>\n",
       "  <tbody>\n",
       "    <tr>\n",
       "      <th>0</th>\n",
       "      <td>1</td>\n",
       "      <td>Trespass</td>\n",
       "      <td>202500024666</td>\n",
       "      <td>1400</td>\n",
       "      <td>UNIVERSITY AVE</td>\n",
       "      <td>CPD</td>\n",
       "      <td>1244</td>\n",
       "      <td>Adams, Austin</td>\n",
       "      <td>2025-07-14 12:44:18</td>\n",
       "      <td>2025-07-14 12:44:18 PM</td>\n",
       "      <td>Monday</td>\n",
       "      <td>False</td>\n",
       "      <td>Summer</td>\n",
       "      <td>12:44 PM</td>\n",
       "      <td>Afternoon</td>\n",
       "    </tr>\n",
       "    <tr>\n",
       "      <th>1</th>\n",
       "      <td>2</td>\n",
       "      <td>Drug Equipment Violation</td>\n",
       "      <td>202500024659</td>\n",
       "      <td>700</td>\n",
       "      <td>HARRIS ST, 202</td>\n",
       "      <td>CPD</td>\n",
       "      <td>1134</td>\n",
       "      <td>Mian, Ghulam</td>\n",
       "      <td>2025-07-14 11:34:00</td>\n",
       "      <td>2025-07-14 11:34:00 AM</td>\n",
       "      <td>Monday</td>\n",
       "      <td>False</td>\n",
       "      <td>Summer</td>\n",
       "      <td>11:34 AM</td>\n",
       "      <td>Morning</td>\n",
       "    </tr>\n",
       "    <tr>\n",
       "      <th>2</th>\n",
       "      <td>3</td>\n",
       "      <td>Larceny - Of Veh Parts/Access</td>\n",
       "      <td>202580000110</td>\n",
       "      <td>100</td>\n",
       "      <td>KEYSTONE</td>\n",
       "      <td>CPD</td>\n",
       "      <td>1133</td>\n",
       "      <td>Pendleton, Eric</td>\n",
       "      <td>2025-07-14 11:33:27</td>\n",
       "      <td>2025-07-14 11:33:27 AM</td>\n",
       "      <td>Monday</td>\n",
       "      <td>False</td>\n",
       "      <td>Summer</td>\n",
       "      <td>11:33 AM</td>\n",
       "      <td>Morning</td>\n",
       "    </tr>\n",
       "    <tr>\n",
       "      <th>3</th>\n",
       "      <td>4</td>\n",
       "      <td>Larceny - From Motor Vehicle</td>\n",
       "      <td>202500024653</td>\n",
       "      <td>800</td>\n",
       "      <td>W MAIN ST, 633</td>\n",
       "      <td>CPD</td>\n",
       "      <td>1049</td>\n",
       "      <td>Adams, Austin</td>\n",
       "      <td>2025-07-14 10:49:50</td>\n",
       "      <td>2025-07-14 10:49:50 AM</td>\n",
       "      <td>Monday</td>\n",
       "      <td>False</td>\n",
       "      <td>Summer</td>\n",
       "      <td>10:49 AM</td>\n",
       "      <td>Morning</td>\n",
       "    </tr>\n",
       "    <tr>\n",
       "      <th>4</th>\n",
       "      <td>5</td>\n",
       "      <td>Larceny - From Motor Vehicle</td>\n",
       "      <td>202500024647</td>\n",
       "      <td>1200</td>\n",
       "      <td>W MAIN ST</td>\n",
       "      <td>CPD</td>\n",
       "      <td>1021</td>\n",
       "      <td>Stayments, Ronald</td>\n",
       "      <td>2025-07-14 10:21:01</td>\n",
       "      <td>2025-07-14 10:21:01 AM</td>\n",
       "      <td>Monday</td>\n",
       "      <td>False</td>\n",
       "      <td>Summer</td>\n",
       "      <td>10:21 AM</td>\n",
       "      <td>Morning</td>\n",
       "    </tr>\n",
       "  </tbody>\n",
       "</table>\n",
       "</div>"
      ],
      "text/plain": [
       "   RecordID                        Offense    IncidentID BlockNumber  \\\n",
       "0         1                       Trespass  202500024666        1400   \n",
       "1         2       Drug Equipment Violation  202500024659         700   \n",
       "2         3  Larceny - Of Veh Parts/Access  202580000110         100   \n",
       "3         4   Larceny - From Motor Vehicle  202500024653         800   \n",
       "4         5   Larceny - From Motor Vehicle  202500024647        1200   \n",
       "\n",
       "       StreetName Agency HourReported    ReportingOfficer                Date  \\\n",
       "0  UNIVERSITY AVE    CPD         1244       Adams, Austin 2025-07-14 12:44:18   \n",
       "1  HARRIS ST, 202    CPD         1134        Mian, Ghulam 2025-07-14 11:34:00   \n",
       "2        KEYSTONE    CPD         1133     Pendleton, Eric 2025-07-14 11:33:27   \n",
       "3  W MAIN ST, 633    CPD         1049       Adams, Austin 2025-07-14 10:49:50   \n",
       "4       W MAIN ST    CPD         1021  Stayments, Ronald  2025-07-14 10:21:01   \n",
       "\n",
       "               DateString DayOfWeek  Weekend  Season  HourAMPM  TimeOfDay  \n",
       "0  2025-07-14 12:44:18 PM    Monday    False  Summer  12:44 PM  Afternoon  \n",
       "1  2025-07-14 11:34:00 AM    Monday    False  Summer  11:34 AM    Morning  \n",
       "2  2025-07-14 11:33:27 AM    Monday    False  Summer  11:33 AM    Morning  \n",
       "3  2025-07-14 10:49:50 AM    Monday    False  Summer  10:49 AM    Morning  \n",
       "4  2025-07-14 10:21:01 AM    Monday    False  Summer  10:21 AM    Morning  "
      ]
     },
     "execution_count": 7,
     "metadata": {},
     "output_type": "execute_result"
    }
   ],
   "source": [
    "def convert_and_categorize_datereported(df, col='DateReported'):\n",
    "    \"\"\"\n",
    "    Converts an epoch (in milliseconds) date column into a timezone-aware datetime,\n",
    "    converts it to Eastern Time, and then creates columns for day-of-week, weekend flag,\n",
    "    season, 12-hour formatted time, and time-of-day. Keeps both a real datetime column\n",
    "    (Date) and a string representation (DateString).\n",
    "    \"\"\"\n",
    "    import pandas as pd\n",
    "\n",
    "    # Convert the epoch timestamp to a pandas datetime object as UTC, then convert to US/Eastern.\n",
    "    df[\"DateReported_dt\"] = (\n",
    "        pd.to_datetime(df[col], unit=\"ms\", errors=\"coerce\", utc=True)\n",
    "        .dt.tz_convert(\"US/Eastern\")\n",
    "    )\n",
    "    \n",
    "    # Create a true datetime column (remove timezone if you prefer naive datetime)\n",
    "    df[\"Date\"] = df[\"DateReported_dt\"].dt.tz_localize(None)\n",
    "\n",
    "    # Optionally, create a separate string-formatted column\n",
    "    df[\"DateString\"] = df[\"DateReported_dt\"].dt.strftime(\"%Y-%m-%d %I:%M:%S %p\")\n",
    "    \n",
    "    # DayOfWeek\n",
    "    df[\"DayOfWeek\"] = df[\"DateReported_dt\"].dt.day_name()\n",
    "    \n",
    "    # Weekend\n",
    "    df[\"Weekend\"] = df[\"DayOfWeek\"].isin([\"Saturday\", \"Sunday\"])\n",
    "    \n",
    "    # Helper function to determine the season\n",
    "    def get_season(dt):\n",
    "        month = dt.month\n",
    "        day = dt.day\n",
    "        # Approximate Northern Hemisphere season boundaries:\n",
    "        if (month == 12 and day >= 21) or (month < 3) or (month == 3 and day < 20):\n",
    "            return \"Winter\"\n",
    "        elif (month == 3 and day >= 20) or (month < 6) or (month == 6 and day < 21):\n",
    "            return \"Spring\"\n",
    "        elif (month == 6 and day >= 21) or (month < 9) or (month == 9 and day < 22):\n",
    "            return \"Summer\"\n",
    "        else:\n",
    "            return \"Autumn\"\n",
    "    \n",
    "    df[\"Season\"] = df[\"DateReported_dt\"].apply(get_season)\n",
    "    \n",
    "    # 12-hour formatted time (HourAMPM)\n",
    "    df[\"HourAMPM\"] = df[\"DateReported_dt\"].dt.strftime(\"%I:%M %p\")\n",
    "    \n",
    "    # Extract hour (0-23) for time-of-day\n",
    "    df[\"HourValue\"] = df[\"DateReported_dt\"].dt.hour\n",
    "    \n",
    "    def time_of_day(hour):\n",
    "        if pd.isnull(hour):\n",
    "            return None\n",
    "        if 5 <= hour < 12:\n",
    "            return \"Morning\"\n",
    "        elif 12 <= hour < 17:\n",
    "            return \"Afternoon\"\n",
    "        elif 17 <= hour < 21:\n",
    "            return \"Evening\"\n",
    "        else:\n",
    "            return \"Night\"\n",
    "    \n",
    "    df[\"TimeOfDay\"] = df[\"HourValue\"].apply(time_of_day)\n",
    "    \n",
    "    # Drop columns you no longer need\n",
    "    df.drop(columns=[col, \"DateReported_dt\", \"HourValue\"], inplace=True)\n",
    "    \n",
    "    return df\n",
    "\n",
    "# Example usage:\n",
    "df = convert_and_categorize_datereported(df)\n",
    "df.head()\n"
   ]
  },
  {
   "cell_type": "code",
   "execution_count": 8,
   "id": "bfbfaf34",
   "metadata": {
    "execution": {
     "iopub.execute_input": "2025-07-17T01:10:15.909991Z",
     "iopub.status.busy": "2025-07-17T01:10:15.909482Z",
     "iopub.status.idle": "2025-07-17T01:10:15.936073Z",
     "shell.execute_reply": "2025-07-17T01:10:15.935530Z"
    },
    "papermill": {
     "duration": 0.03259,
     "end_time": "2025-07-17T01:10:15.937183",
     "exception": false,
     "start_time": "2025-07-17T01:10:15.904593",
     "status": "completed"
    },
    "tags": []
   },
   "outputs": [
    {
     "name": "stdout",
     "output_type": "stream",
     "text": [
      "<class 'pandas.core.frame.DataFrame'>\n",
      "RangeIndex: 25522 entries, 0 to 25521\n",
      "Data columns (total 15 columns):\n",
      " #   Column            Non-Null Count  Dtype         \n",
      "---  ------            --------------  -----         \n",
      " 0   RecordID          25522 non-null  int64         \n",
      " 1   Offense           25522 non-null  object        \n",
      " 2   IncidentID        25522 non-null  object        \n",
      " 3   BlockNumber       25522 non-null  object        \n",
      " 4   StreetName        25522 non-null  object        \n",
      " 5   Agency            25522 non-null  object        \n",
      " 6   HourReported      25522 non-null  object        \n",
      " 7   ReportingOfficer  25505 non-null  object        \n",
      " 8   Date              25522 non-null  datetime64[ns]\n",
      " 9   DateString        25522 non-null  object        \n",
      " 10  DayOfWeek         25522 non-null  object        \n",
      " 11  Weekend           25522 non-null  bool          \n",
      " 12  Season            25522 non-null  object        \n",
      " 13  HourAMPM          25522 non-null  object        \n",
      " 14  TimeOfDay         25522 non-null  object        \n",
      "dtypes: bool(1), datetime64[ns](1), int64(1), object(12)\n",
      "memory usage: 2.8+ MB\n"
     ]
    }
   ],
   "source": [
    "df.info()"
   ]
  },
  {
   "cell_type": "markdown",
   "id": "3388619b",
   "metadata": {
    "papermill": {
     "duration": 0.004053,
     "end_time": "2025-07-17T01:10:15.945585",
     "exception": false,
     "start_time": "2025-07-17T01:10:15.941532",
     "status": "completed"
    },
    "tags": []
   },
   "source": [
    "### Coordinates"
   ]
  },
  {
   "cell_type": "code",
   "execution_count": 9,
   "id": "c0af146f",
   "metadata": {
    "execution": {
     "iopub.execute_input": "2025-07-17T01:10:15.955004Z",
     "iopub.status.busy": "2025-07-17T01:10:15.954573Z",
     "iopub.status.idle": "2025-07-17T01:10:16.147658Z",
     "shell.execute_reply": "2025-07-17T01:10:16.146966Z"
    },
    "papermill": {
     "duration": 0.199052,
     "end_time": "2025-07-17T01:10:16.148773",
     "exception": false,
     "start_time": "2025-07-17T01:10:15.949721",
     "status": "completed"
    },
    "tags": []
   },
   "outputs": [
    {
     "name": "stdout",
     "output_type": "stream",
     "text": [
      "Loaded geocode cache.\n",
      "Error geocoding 100 KEYSTONE: REQUEST_DENIED (You must enable Billing on the Google Cloud Project at https://console.cloud.google.com/project/_/billing/enable Learn more at https://developers.google.com/maps/gmp-get-started)\n",
      "Geocoded 100 KEYSTONE: None, None\n",
      "Error geocoding 800 W MAIN ST, 633: REQUEST_DENIED (You must enable Billing on the Google Cloud Project at https://console.cloud.google.com/project/_/billing/enable Learn more at https://developers.google.com/maps/gmp-get-started)\n",
      "Geocoded 800 W MAIN ST, 633: None, None\n",
      "Error geocoding 2200 COMMONWEALTH DR, D: REQUEST_DENIED (You must enable Billing on the Google Cloud Project at https://console.cloud.google.com/project/_/billing/enable Learn more at https://developers.google.com/maps/gmp-get-started)\n",
      "Geocoded 2200 COMMONWEALTH DR, D: None, None\n",
      "Geocode cache updated and saved.\n"
     ]
    },
    {
     "data": {
      "text/html": [
       "<div>\n",
       "<style scoped>\n",
       "    .dataframe tbody tr th:only-of-type {\n",
       "        vertical-align: middle;\n",
       "    }\n",
       "\n",
       "    .dataframe tbody tr th {\n",
       "        vertical-align: top;\n",
       "    }\n",
       "\n",
       "    .dataframe thead th {\n",
       "        text-align: right;\n",
       "    }\n",
       "</style>\n",
       "<table border=\"1\" class=\"dataframe\">\n",
       "  <thead>\n",
       "    <tr style=\"text-align: right;\">\n",
       "      <th></th>\n",
       "      <th>RecordID</th>\n",
       "      <th>Offense</th>\n",
       "      <th>IncidentID</th>\n",
       "      <th>BlockNumber</th>\n",
       "      <th>StreetName</th>\n",
       "      <th>Agency</th>\n",
       "      <th>HourReported</th>\n",
       "      <th>ReportingOfficer</th>\n",
       "      <th>Date</th>\n",
       "      <th>DateString</th>\n",
       "      <th>DayOfWeek</th>\n",
       "      <th>Weekend</th>\n",
       "      <th>Season</th>\n",
       "      <th>HourAMPM</th>\n",
       "      <th>TimeOfDay</th>\n",
       "      <th>FullStreet</th>\n",
       "      <th>lat</th>\n",
       "      <th>lon</th>\n",
       "    </tr>\n",
       "  </thead>\n",
       "  <tbody>\n",
       "    <tr>\n",
       "      <th>0</th>\n",
       "      <td>1</td>\n",
       "      <td>Trespass</td>\n",
       "      <td>202500024666</td>\n",
       "      <td>1400</td>\n",
       "      <td>UNIVERSITY AVE</td>\n",
       "      <td>CPD</td>\n",
       "      <td>1244</td>\n",
       "      <td>Adams, Austin</td>\n",
       "      <td>2025-07-14 12:44:18</td>\n",
       "      <td>2025-07-14 12:44:18 PM</td>\n",
       "      <td>Monday</td>\n",
       "      <td>False</td>\n",
       "      <td>Summer</td>\n",
       "      <td>12:44 PM</td>\n",
       "      <td>Afternoon</td>\n",
       "      <td>1400 UNIVERSITY AVE</td>\n",
       "      <td>38.033936</td>\n",
       "      <td>-78.499972</td>\n",
       "    </tr>\n",
       "    <tr>\n",
       "      <th>1</th>\n",
       "      <td>2</td>\n",
       "      <td>Drug Equipment Violation</td>\n",
       "      <td>202500024659</td>\n",
       "      <td>700</td>\n",
       "      <td>HARRIS ST, 202</td>\n",
       "      <td>CPD</td>\n",
       "      <td>1134</td>\n",
       "      <td>Mian, Ghulam</td>\n",
       "      <td>2025-07-14 11:34:00</td>\n",
       "      <td>2025-07-14 11:34:00 AM</td>\n",
       "      <td>Monday</td>\n",
       "      <td>False</td>\n",
       "      <td>Summer</td>\n",
       "      <td>11:34 AM</td>\n",
       "      <td>Morning</td>\n",
       "      <td>700 HARRIS ST, 202</td>\n",
       "      <td>38.035882</td>\n",
       "      <td>-78.484471</td>\n",
       "    </tr>\n",
       "    <tr>\n",
       "      <th>2</th>\n",
       "      <td>3</td>\n",
       "      <td>Larceny - Of Veh Parts/Access</td>\n",
       "      <td>202580000110</td>\n",
       "      <td>100</td>\n",
       "      <td>KEYSTONE</td>\n",
       "      <td>CPD</td>\n",
       "      <td>1133</td>\n",
       "      <td>Pendleton, Eric</td>\n",
       "      <td>2025-07-14 11:33:27</td>\n",
       "      <td>2025-07-14 11:33:27 AM</td>\n",
       "      <td>Monday</td>\n",
       "      <td>False</td>\n",
       "      <td>Summer</td>\n",
       "      <td>11:33 AM</td>\n",
       "      <td>Morning</td>\n",
       "      <td>100 KEYSTONE</td>\n",
       "      <td>NaN</td>\n",
       "      <td>NaN</td>\n",
       "    </tr>\n",
       "    <tr>\n",
       "      <th>3</th>\n",
       "      <td>4</td>\n",
       "      <td>Larceny - From Motor Vehicle</td>\n",
       "      <td>202500024653</td>\n",
       "      <td>800</td>\n",
       "      <td>W MAIN ST, 633</td>\n",
       "      <td>CPD</td>\n",
       "      <td>1049</td>\n",
       "      <td>Adams, Austin</td>\n",
       "      <td>2025-07-14 10:49:50</td>\n",
       "      <td>2025-07-14 10:49:50 AM</td>\n",
       "      <td>Monday</td>\n",
       "      <td>False</td>\n",
       "      <td>Summer</td>\n",
       "      <td>10:49 AM</td>\n",
       "      <td>Morning</td>\n",
       "      <td>800 W MAIN ST, 633</td>\n",
       "      <td>NaN</td>\n",
       "      <td>NaN</td>\n",
       "    </tr>\n",
       "    <tr>\n",
       "      <th>4</th>\n",
       "      <td>5</td>\n",
       "      <td>Larceny - From Motor Vehicle</td>\n",
       "      <td>202500024647</td>\n",
       "      <td>1200</td>\n",
       "      <td>W MAIN ST</td>\n",
       "      <td>CPD</td>\n",
       "      <td>1021</td>\n",
       "      <td>Stayments, Ronald</td>\n",
       "      <td>2025-07-14 10:21:01</td>\n",
       "      <td>2025-07-14 10:21:01 AM</td>\n",
       "      <td>Monday</td>\n",
       "      <td>False</td>\n",
       "      <td>Summer</td>\n",
       "      <td>10:21 AM</td>\n",
       "      <td>Morning</td>\n",
       "      <td>1200 W MAIN ST</td>\n",
       "      <td>38.032769</td>\n",
       "      <td>-78.496593</td>\n",
       "    </tr>\n",
       "  </tbody>\n",
       "</table>\n",
       "</div>"
      ],
      "text/plain": [
       "   RecordID                        Offense    IncidentID BlockNumber  \\\n",
       "0         1                       Trespass  202500024666        1400   \n",
       "1         2       Drug Equipment Violation  202500024659         700   \n",
       "2         3  Larceny - Of Veh Parts/Access  202580000110         100   \n",
       "3         4   Larceny - From Motor Vehicle  202500024653         800   \n",
       "4         5   Larceny - From Motor Vehicle  202500024647        1200   \n",
       "\n",
       "       StreetName Agency HourReported    ReportingOfficer                Date  \\\n",
       "0  UNIVERSITY AVE    CPD         1244       Adams, Austin 2025-07-14 12:44:18   \n",
       "1  HARRIS ST, 202    CPD         1134        Mian, Ghulam 2025-07-14 11:34:00   \n",
       "2        KEYSTONE    CPD         1133     Pendleton, Eric 2025-07-14 11:33:27   \n",
       "3  W MAIN ST, 633    CPD         1049       Adams, Austin 2025-07-14 10:49:50   \n",
       "4       W MAIN ST    CPD         1021  Stayments, Ronald  2025-07-14 10:21:01   \n",
       "\n",
       "               DateString DayOfWeek  Weekend  Season  HourAMPM  TimeOfDay  \\\n",
       "0  2025-07-14 12:44:18 PM    Monday    False  Summer  12:44 PM  Afternoon   \n",
       "1  2025-07-14 11:34:00 AM    Monday    False  Summer  11:34 AM    Morning   \n",
       "2  2025-07-14 11:33:27 AM    Monday    False  Summer  11:33 AM    Morning   \n",
       "3  2025-07-14 10:49:50 AM    Monday    False  Summer  10:49 AM    Morning   \n",
       "4  2025-07-14 10:21:01 AM    Monday    False  Summer  10:21 AM    Morning   \n",
       "\n",
       "            FullStreet        lat        lon  \n",
       "0  1400 UNIVERSITY AVE  38.033936 -78.499972  \n",
       "1   700 HARRIS ST, 202  38.035882 -78.484471  \n",
       "2         100 KEYSTONE        NaN        NaN  \n",
       "3   800 W MAIN ST, 633        NaN        NaN  \n",
       "4       1200 W MAIN ST  38.032769 -78.496593  "
      ]
     },
     "execution_count": 9,
     "metadata": {},
     "output_type": "execute_result"
    }
   ],
   "source": [
    "# Combine BlockNumber and StreetName into a full address string\n",
    "df['FullStreet'] = df['BlockNumber'].astype(str) + \" \" + df['StreetName']\n",
    "\n",
    "# --- Step 1: Setup the Google Maps Client and Cache ---\n",
    "gmaps = googlemaps.Client(key=GOOGLE_API_KEY)\n",
    "\n",
    "# Try to load cached geocoding results if available.\n",
    "try:\n",
    "    with open(\"geocode_cache_google.pkl\", \"rb\") as f:\n",
    "        street_coords = pickle.load(f)\n",
    "    print(\"Loaded geocode cache.\")\n",
    "except FileNotFoundError:\n",
    "    street_coords = {}\n",
    "    print(\"No cache found; starting fresh.\")\n",
    "\n",
    "def geocode_address(address):\n",
    "    try:\n",
    "        # Append city and state to help geocoding\n",
    "        result = gmaps.geocode(f\"{address}, Charlottesville, VA\")\n",
    "        if result:\n",
    "            lat = result[0]['geometry']['location']['lat']\n",
    "            lon = result[0]['geometry']['location']['lng']\n",
    "            return lat, lon\n",
    "    except Exception as e:\n",
    "        print(f\"Error geocoding {address}: {e}\")\n",
    "    return None, None\n",
    "\n",
    "# --- Step 2: Geocode Only New Addresses ---\n",
    "unique_addresses = df['FullStreet'].unique()\n",
    "for address in unique_addresses:\n",
    "    if address not in street_coords:\n",
    "        lat, lon = geocode_address(address)\n",
    "        street_coords[address] = (lat, lon)\n",
    "        print(f\"Geocoded {address}: {lat}, {lon}\")\n",
    "\n",
    "# Save the updated cache to disk.\n",
    "with open(\"geocode_cache_google.pkl\", \"wb\") as f:\n",
    "    pickle.dump(street_coords, f)\n",
    "    print(\"Geocode cache updated and saved.\")\n",
    "\n",
    "# --- Step 3: Map Coordinates Back to DataFrame ---\n",
    "df['lat'] = df['FullStreet'].map(lambda s: street_coords.get(s, (None, None))[0])\n",
    "df['lon'] = df['FullStreet'].map(lambda s: street_coords.get(s, (None, None))[1])\n",
    "\n",
    "df.head()"
   ]
  },
  {
   "cell_type": "markdown",
   "id": "34dcdfe1",
   "metadata": {
    "papermill": {
     "duration": 0.004525,
     "end_time": "2025-07-17T01:10:16.158182",
     "exception": false,
     "start_time": "2025-07-17T01:10:16.153657",
     "status": "completed"
    },
    "tags": []
   },
   "source": [
    "### Neighborhood"
   ]
  },
  {
   "cell_type": "code",
   "execution_count": 10,
   "id": "177eea7a",
   "metadata": {
    "execution": {
     "iopub.execute_input": "2025-07-17T01:10:16.168605Z",
     "iopub.status.busy": "2025-07-17T01:10:16.168072Z",
     "iopub.status.idle": "2025-07-17T01:10:17.539774Z",
     "shell.execute_reply": "2025-07-17T01:10:17.539108Z"
    },
    "papermill": {
     "duration": 1.378158,
     "end_time": "2025-07-17T01:10:17.540819",
     "exception": false,
     "start_time": "2025-07-17T01:10:16.162661",
     "status": "completed"
    },
    "tags": []
   },
   "outputs": [
    {
     "name": "stdout",
     "output_type": "stream",
     "text": [
      "Loaded neighborhood cache.\n",
      "Error getting neighborhood for nan, nan: HTTP Error: 400\n",
      "Error getting neighborhood for nan, nan: HTTP Error: 400\n",
      "Error getting neighborhood for nan, nan: HTTP Error: 400\n",
      "Error getting neighborhood for nan, nan: HTTP Error: 400\n"
     ]
    },
    {
     "name": "stdout",
     "output_type": "stream",
     "text": [
      "Error getting neighborhood for nan, nan: HTTP Error: 400\n",
      "Error getting neighborhood for nan, nan: HTTP Error: 400\n",
      "Error getting neighborhood for nan, nan: HTTP Error: 400\n",
      "Error getting neighborhood for nan, nan: HTTP Error: 400\n",
      "Error getting neighborhood for nan, nan: HTTP Error: 400\n",
      "Error getting neighborhood for nan, nan: HTTP Error: 400\n",
      "Error getting neighborhood for nan, nan: HTTP Error: 400\n",
      "Error getting neighborhood for nan, nan: HTTP Error: 400\n",
      "Error getting neighborhood for nan, nan: HTTP Error: 400\n"
     ]
    },
    {
     "name": "stdout",
     "output_type": "stream",
     "text": [
      "Error getting neighborhood for nan, nan: HTTP Error: 400\n",
      "Error getting neighborhood for nan, nan: HTTP Error: 400\n",
      "Error getting neighborhood for nan, nan: HTTP Error: 400\n",
      "Error getting neighborhood for nan, nan: HTTP Error: 400\n",
      "Error getting neighborhood for nan, nan: HTTP Error: 400\n",
      "Error getting neighborhood for nan, nan: HTTP Error: 400\n",
      "Error getting neighborhood for nan, nan: HTTP Error: 400\n",
      "Error getting neighborhood for nan, nan: HTTP Error: 400\n",
      "Error getting neighborhood for nan, nan: HTTP Error: 400\n",
      "Error getting neighborhood for nan, nan: HTTP Error: 400\n",
      "Error getting neighborhood for nan, nan: HTTP Error: 400\n",
      "Error getting neighborhood for nan, nan: HTTP Error: 400\n"
     ]
    },
    {
     "name": "stdout",
     "output_type": "stream",
     "text": [
      "Error getting neighborhood for nan, nan: HTTP Error: 400\n",
      "Error getting neighborhood for nan, nan: HTTP Error: 400\n",
      "Error getting neighborhood for nan, nan: HTTP Error: 400\n",
      "Error getting neighborhood for nan, nan: HTTP Error: 400\n",
      "Error getting neighborhood for nan, nan: HTTP Error: 400\n",
      "Error getting neighborhood for nan, nan: HTTP Error: 400\n",
      "Error getting neighborhood for nan, nan: HTTP Error: 400\n",
      "Error getting neighborhood for nan, nan: HTTP Error: 400\n",
      "Error getting neighborhood for nan, nan: HTTP Error: 400\n",
      "Error getting neighborhood for nan, nan: HTTP Error: 400\n",
      "Error getting neighborhood for nan, nan: HTTP Error: 400\n",
      "Error getting neighborhood for nan, nan: HTTP Error: 400\n",
      "Error getting neighborhood for nan, nan: HTTP Error: 400\n"
     ]
    },
    {
     "name": "stdout",
     "output_type": "stream",
     "text": [
      "Error getting neighborhood for nan, nan: HTTP Error: 400\n",
      "Error getting neighborhood for nan, nan: HTTP Error: 400\n",
      "Error getting neighborhood for nan, nan: HTTP Error: 400\n",
      "Error getting neighborhood for nan, nan: HTTP Error: 400\n",
      "Error getting neighborhood for nan, nan: HTTP Error: 400\n",
      "Error getting neighborhood for nan, nan: HTTP Error: 400\n",
      "Error getting neighborhood for nan, nan: HTTP Error: 400\n",
      "Error getting neighborhood for nan, nan: HTTP Error: 400\n",
      "Error getting neighborhood for nan, nan: HTTP Error: 400\n",
      "Error getting neighborhood for nan, nan: HTTP Error: 400\n",
      "Error getting neighborhood for nan, nan: HTTP Error: 400\n",
      "Error getting neighborhood for nan, nan: HTTP Error: 400\n"
     ]
    },
    {
     "name": "stdout",
     "output_type": "stream",
     "text": [
      "Error getting neighborhood for nan, nan: HTTP Error: 400\n",
      "Error getting neighborhood for nan, nan: HTTP Error: 400\n",
      "Error getting neighborhood for nan, nan: HTTP Error: 400\n",
      "Error getting neighborhood for nan, nan: HTTP Error: 400\n",
      "Error getting neighborhood for nan, nan: HTTP Error: 400\n",
      "Error getting neighborhood for nan, nan: HTTP Error: 400\n",
      "Error getting neighborhood for nan, nan: HTTP Error: 400\n",
      "Error getting neighborhood for nan, nan: HTTP Error: 400\n"
     ]
    },
    {
     "data": {
      "text/html": [
       "<div>\n",
       "<style scoped>\n",
       "    .dataframe tbody tr th:only-of-type {\n",
       "        vertical-align: middle;\n",
       "    }\n",
       "\n",
       "    .dataframe tbody tr th {\n",
       "        vertical-align: top;\n",
       "    }\n",
       "\n",
       "    .dataframe thead th {\n",
       "        text-align: right;\n",
       "    }\n",
       "</style>\n",
       "<table border=\"1\" class=\"dataframe\">\n",
       "  <thead>\n",
       "    <tr style=\"text-align: right;\">\n",
       "      <th></th>\n",
       "      <th>RecordID</th>\n",
       "      <th>Offense</th>\n",
       "      <th>IncidentID</th>\n",
       "      <th>BlockNumber</th>\n",
       "      <th>StreetName</th>\n",
       "      <th>Agency</th>\n",
       "      <th>HourReported</th>\n",
       "      <th>ReportingOfficer</th>\n",
       "      <th>Date</th>\n",
       "      <th>DateString</th>\n",
       "      <th>DayOfWeek</th>\n",
       "      <th>Weekend</th>\n",
       "      <th>Season</th>\n",
       "      <th>HourAMPM</th>\n",
       "      <th>TimeOfDay</th>\n",
       "      <th>FullStreet</th>\n",
       "      <th>lat</th>\n",
       "      <th>lon</th>\n",
       "      <th>neighborhood</th>\n",
       "    </tr>\n",
       "  </thead>\n",
       "  <tbody>\n",
       "    <tr>\n",
       "      <th>0</th>\n",
       "      <td>1</td>\n",
       "      <td>Trespass</td>\n",
       "      <td>202500024666</td>\n",
       "      <td>1400</td>\n",
       "      <td>UNIVERSITY AVE</td>\n",
       "      <td>CPD</td>\n",
       "      <td>1244</td>\n",
       "      <td>Adams, Austin</td>\n",
       "      <td>2025-07-14 12:44:18</td>\n",
       "      <td>2025-07-14 12:44:18 PM</td>\n",
       "      <td>Monday</td>\n",
       "      <td>False</td>\n",
       "      <td>Summer</td>\n",
       "      <td>12:44 PM</td>\n",
       "      <td>Afternoon</td>\n",
       "      <td>1400 UNIVERSITY AVE</td>\n",
       "      <td>38.033936</td>\n",
       "      <td>-78.499972</td>\n",
       "      <td>N/A</td>\n",
       "    </tr>\n",
       "    <tr>\n",
       "      <th>1</th>\n",
       "      <td>2</td>\n",
       "      <td>Drug Equipment Violation</td>\n",
       "      <td>202500024659</td>\n",
       "      <td>700</td>\n",
       "      <td>HARRIS ST, 202</td>\n",
       "      <td>CPD</td>\n",
       "      <td>1134</td>\n",
       "      <td>Mian, Ghulam</td>\n",
       "      <td>2025-07-14 11:34:00</td>\n",
       "      <td>2025-07-14 11:34:00 AM</td>\n",
       "      <td>Monday</td>\n",
       "      <td>False</td>\n",
       "      <td>Summer</td>\n",
       "      <td>11:34 AM</td>\n",
       "      <td>Morning</td>\n",
       "      <td>700 HARRIS ST, 202</td>\n",
       "      <td>38.035882</td>\n",
       "      <td>-78.484471</td>\n",
       "      <td>North Downtown</td>\n",
       "    </tr>\n",
       "    <tr>\n",
       "      <th>2</th>\n",
       "      <td>3</td>\n",
       "      <td>Larceny - Of Veh Parts/Access</td>\n",
       "      <td>202580000110</td>\n",
       "      <td>100</td>\n",
       "      <td>KEYSTONE</td>\n",
       "      <td>CPD</td>\n",
       "      <td>1133</td>\n",
       "      <td>Pendleton, Eric</td>\n",
       "      <td>2025-07-14 11:33:27</td>\n",
       "      <td>2025-07-14 11:33:27 AM</td>\n",
       "      <td>Monday</td>\n",
       "      <td>False</td>\n",
       "      <td>Summer</td>\n",
       "      <td>11:33 AM</td>\n",
       "      <td>Morning</td>\n",
       "      <td>100 KEYSTONE</td>\n",
       "      <td>NaN</td>\n",
       "      <td>NaN</td>\n",
       "      <td>N/A</td>\n",
       "    </tr>\n",
       "    <tr>\n",
       "      <th>3</th>\n",
       "      <td>4</td>\n",
       "      <td>Larceny - From Motor Vehicle</td>\n",
       "      <td>202500024653</td>\n",
       "      <td>800</td>\n",
       "      <td>W MAIN ST, 633</td>\n",
       "      <td>CPD</td>\n",
       "      <td>1049</td>\n",
       "      <td>Adams, Austin</td>\n",
       "      <td>2025-07-14 10:49:50</td>\n",
       "      <td>2025-07-14 10:49:50 AM</td>\n",
       "      <td>Monday</td>\n",
       "      <td>False</td>\n",
       "      <td>Summer</td>\n",
       "      <td>10:49 AM</td>\n",
       "      <td>Morning</td>\n",
       "      <td>800 W MAIN ST, 633</td>\n",
       "      <td>NaN</td>\n",
       "      <td>NaN</td>\n",
       "      <td>N/A</td>\n",
       "    </tr>\n",
       "    <tr>\n",
       "      <th>4</th>\n",
       "      <td>5</td>\n",
       "      <td>Larceny - From Motor Vehicle</td>\n",
       "      <td>202500024647</td>\n",
       "      <td>1200</td>\n",
       "      <td>W MAIN ST</td>\n",
       "      <td>CPD</td>\n",
       "      <td>1021</td>\n",
       "      <td>Stayments, Ronald</td>\n",
       "      <td>2025-07-14 10:21:01</td>\n",
       "      <td>2025-07-14 10:21:01 AM</td>\n",
       "      <td>Monday</td>\n",
       "      <td>False</td>\n",
       "      <td>Summer</td>\n",
       "      <td>10:21 AM</td>\n",
       "      <td>Morning</td>\n",
       "      <td>1200 W MAIN ST</td>\n",
       "      <td>38.032769</td>\n",
       "      <td>-78.496593</td>\n",
       "      <td>Venable</td>\n",
       "    </tr>\n",
       "  </tbody>\n",
       "</table>\n",
       "</div>"
      ],
      "text/plain": [
       "   RecordID                        Offense    IncidentID BlockNumber  \\\n",
       "0         1                       Trespass  202500024666        1400   \n",
       "1         2       Drug Equipment Violation  202500024659         700   \n",
       "2         3  Larceny - Of Veh Parts/Access  202580000110         100   \n",
       "3         4   Larceny - From Motor Vehicle  202500024653         800   \n",
       "4         5   Larceny - From Motor Vehicle  202500024647        1200   \n",
       "\n",
       "       StreetName Agency HourReported    ReportingOfficer                Date  \\\n",
       "0  UNIVERSITY AVE    CPD         1244       Adams, Austin 2025-07-14 12:44:18   \n",
       "1  HARRIS ST, 202    CPD         1134        Mian, Ghulam 2025-07-14 11:34:00   \n",
       "2        KEYSTONE    CPD         1133     Pendleton, Eric 2025-07-14 11:33:27   \n",
       "3  W MAIN ST, 633    CPD         1049       Adams, Austin 2025-07-14 10:49:50   \n",
       "4       W MAIN ST    CPD         1021  Stayments, Ronald  2025-07-14 10:21:01   \n",
       "\n",
       "               DateString DayOfWeek  Weekend  Season  HourAMPM  TimeOfDay  \\\n",
       "0  2025-07-14 12:44:18 PM    Monday    False  Summer  12:44 PM  Afternoon   \n",
       "1  2025-07-14 11:34:00 AM    Monday    False  Summer  11:34 AM    Morning   \n",
       "2  2025-07-14 11:33:27 AM    Monday    False  Summer  11:33 AM    Morning   \n",
       "3  2025-07-14 10:49:50 AM    Monday    False  Summer  10:49 AM    Morning   \n",
       "4  2025-07-14 10:21:01 AM    Monday    False  Summer  10:21 AM    Morning   \n",
       "\n",
       "            FullStreet        lat        lon    neighborhood  \n",
       "0  1400 UNIVERSITY AVE  38.033936 -78.499972             N/A  \n",
       "1   700 HARRIS ST, 202  38.035882 -78.484471  North Downtown  \n",
       "2         100 KEYSTONE        NaN        NaN             N/A  \n",
       "3   800 W MAIN ST, 633        NaN        NaN             N/A  \n",
       "4       1200 W MAIN ST  38.032769 -78.496593         Venable  "
      ]
     },
     "execution_count": 10,
     "metadata": {},
     "output_type": "execute_result"
    }
   ],
   "source": [
    "# Initialize the Google Maps client.\n",
    "gmaps = googlemaps.Client(key=GOOGLE_API_KEY)\n",
    "\n",
    "# Try to load a persistent neighborhood cache if available.\n",
    "try:\n",
    "    with open(\"neighborhood_cache.pkl\", \"rb\") as f:\n",
    "        neighborhood_cache = pickle.load(f)\n",
    "    print(\"Loaded neighborhood cache.\")\n",
    "except FileNotFoundError:\n",
    "    neighborhood_cache = {}\n",
    "    print(\"No neighborhood cache found; starting fresh.\")\n",
    "\n",
    "def get_neighborhood(lat, lon):\n",
    "    \"\"\"\n",
    "    Reverse geocodes a latitude and longitude to retrieve the neighborhood.\n",
    "    Caches results to speed up subsequent lookups.\n",
    "    \"\"\"\n",
    "    key = (lat, lon)\n",
    "    if key in neighborhood_cache:\n",
    "        return neighborhood_cache[key]\n",
    "    \n",
    "    try:\n",
    "        result = gmaps.reverse_geocode((lat, lon))\n",
    "        if result:\n",
    "            # Look for the 'neighborhood' component in the first result.\n",
    "            for component in result[0]['address_components']:\n",
    "                if 'neighborhood' in component['types']:\n",
    "                    neighborhood = component['long_name']\n",
    "                    neighborhood_cache[key] = neighborhood\n",
    "                    return neighborhood\n",
    "            # If no neighborhood is found, return \"N/A\"\n",
    "            neighborhood_cache[key] = \"N/A\"\n",
    "            return \"N/A\"\n",
    "    except Exception as e:\n",
    "        print(f\"Error getting neighborhood for {lat}, {lon}: {e}\")\n",
    "        return \"N/A\"\n",
    "    \n",
    "    # Pause to respect usage limits.\n",
    "    time.sleep(1)\n",
    "\n",
    "# Example usage: Apply to your DataFrame 'df' that already has 'lat' and 'lon' columns.\n",
    "df['neighborhood'] = df.apply(lambda row: get_neighborhood(row['lat'], row['lon']), axis=1)\n",
    "\n",
    "# Save the updated neighborhood cache.\n",
    "with open(\"neighborhood_cache.pkl\", \"wb\") as f:\n",
    "    pickle.dump(neighborhood_cache, f)\n",
    "\n",
    "df.head()\n"
   ]
  },
  {
   "cell_type": "markdown",
   "id": "427d7651",
   "metadata": {
    "papermill": {
     "duration": 0.004937,
     "end_time": "2025-07-17T01:10:17.551094",
     "exception": false,
     "start_time": "2025-07-17T01:10:17.546157",
     "status": "completed"
    },
    "tags": []
   },
   "source": [
    "### Zip"
   ]
  },
  {
   "cell_type": "code",
   "execution_count": 11,
   "id": "631071eb",
   "metadata": {
    "execution": {
     "iopub.execute_input": "2025-07-17T01:10:17.561896Z",
     "iopub.status.busy": "2025-07-17T01:10:17.561464Z",
     "iopub.status.idle": "2025-07-17T01:11:15.912084Z",
     "shell.execute_reply": "2025-07-17T01:11:15.911387Z"
    },
    "papermill": {
     "duration": 58.357287,
     "end_time": "2025-07-17T01:11:15.913208",
     "exception": false,
     "start_time": "2025-07-17T01:10:17.555921",
     "status": "completed"
    },
    "tags": []
   },
   "outputs": [
    {
     "name": "stdout",
     "output_type": "stream",
     "text": [
      "Loaded zip cache.\n",
      "Error getting ZIP for nan, nan: Must be a coordinate pair or Point\n"
     ]
    },
    {
     "name": "stdout",
     "output_type": "stream",
     "text": [
      "Error getting ZIP for nan, nan: Must be a coordinate pair or Point\n"
     ]
    },
    {
     "name": "stdout",
     "output_type": "stream",
     "text": [
      "Error getting ZIP for nan, nan: Must be a coordinate pair or Point\n"
     ]
    },
    {
     "name": "stdout",
     "output_type": "stream",
     "text": [
      "Error getting ZIP for nan, nan: Must be a coordinate pair or Point\n"
     ]
    },
    {
     "name": "stdout",
     "output_type": "stream",
     "text": [
      "Error getting ZIP for nan, nan: Must be a coordinate pair or Point\n"
     ]
    },
    {
     "name": "stdout",
     "output_type": "stream",
     "text": [
      "Error getting ZIP for nan, nan: Must be a coordinate pair or Point\n"
     ]
    },
    {
     "name": "stdout",
     "output_type": "stream",
     "text": [
      "Error getting ZIP for nan, nan: Must be a coordinate pair or Point\n"
     ]
    },
    {
     "name": "stdout",
     "output_type": "stream",
     "text": [
      "Error getting ZIP for nan, nan: Must be a coordinate pair or Point\n"
     ]
    },
    {
     "name": "stdout",
     "output_type": "stream",
     "text": [
      "Error getting ZIP for nan, nan: Must be a coordinate pair or Point\n"
     ]
    },
    {
     "name": "stdout",
     "output_type": "stream",
     "text": [
      "Error getting ZIP for nan, nan: Must be a coordinate pair or Point\n"
     ]
    },
    {
     "name": "stdout",
     "output_type": "stream",
     "text": [
      "Error getting ZIP for nan, nan: Must be a coordinate pair or Point\n"
     ]
    },
    {
     "name": "stdout",
     "output_type": "stream",
     "text": [
      "Error getting ZIP for nan, nan: Must be a coordinate pair or Point\n"
     ]
    },
    {
     "name": "stdout",
     "output_type": "stream",
     "text": [
      "Error getting ZIP for nan, nan: Must be a coordinate pair or Point\n"
     ]
    },
    {
     "name": "stdout",
     "output_type": "stream",
     "text": [
      "Error getting ZIP for nan, nan: Must be a coordinate pair or Point\n"
     ]
    },
    {
     "name": "stdout",
     "output_type": "stream",
     "text": [
      "Error getting ZIP for nan, nan: Must be a coordinate pair or Point\n"
     ]
    },
    {
     "name": "stdout",
     "output_type": "stream",
     "text": [
      "Error getting ZIP for nan, nan: Must be a coordinate pair or Point\n"
     ]
    },
    {
     "name": "stdout",
     "output_type": "stream",
     "text": [
      "Error getting ZIP for nan, nan: Must be a coordinate pair or Point\n"
     ]
    },
    {
     "name": "stdout",
     "output_type": "stream",
     "text": [
      "Error getting ZIP for nan, nan: Must be a coordinate pair or Point\n"
     ]
    },
    {
     "name": "stdout",
     "output_type": "stream",
     "text": [
      "Error getting ZIP for nan, nan: Must be a coordinate pair or Point\n"
     ]
    },
    {
     "name": "stdout",
     "output_type": "stream",
     "text": [
      "Error getting ZIP for nan, nan: Must be a coordinate pair or Point\n"
     ]
    },
    {
     "name": "stdout",
     "output_type": "stream",
     "text": [
      "Error getting ZIP for nan, nan: Must be a coordinate pair or Point\n"
     ]
    },
    {
     "name": "stdout",
     "output_type": "stream",
     "text": [
      "Error getting ZIP for nan, nan: Must be a coordinate pair or Point\n"
     ]
    },
    {
     "name": "stdout",
     "output_type": "stream",
     "text": [
      "Error getting ZIP for nan, nan: Must be a coordinate pair or Point\n"
     ]
    },
    {
     "name": "stdout",
     "output_type": "stream",
     "text": [
      "Error getting ZIP for nan, nan: Must be a coordinate pair or Point\n"
     ]
    },
    {
     "name": "stdout",
     "output_type": "stream",
     "text": [
      "Error getting ZIP for nan, nan: Must be a coordinate pair or Point\n"
     ]
    },
    {
     "name": "stdout",
     "output_type": "stream",
     "text": [
      "Error getting ZIP for nan, nan: Must be a coordinate pair or Point\n"
     ]
    },
    {
     "name": "stdout",
     "output_type": "stream",
     "text": [
      "Error getting ZIP for nan, nan: Must be a coordinate pair or Point\n"
     ]
    },
    {
     "name": "stdout",
     "output_type": "stream",
     "text": [
      "Error getting ZIP for nan, nan: Must be a coordinate pair or Point\n"
     ]
    },
    {
     "name": "stdout",
     "output_type": "stream",
     "text": [
      "Error getting ZIP for nan, nan: Must be a coordinate pair or Point\n"
     ]
    },
    {
     "name": "stdout",
     "output_type": "stream",
     "text": [
      "Error getting ZIP for nan, nan: Must be a coordinate pair or Point\n"
     ]
    },
    {
     "name": "stdout",
     "output_type": "stream",
     "text": [
      "Error getting ZIP for nan, nan: Must be a coordinate pair or Point\n"
     ]
    },
    {
     "name": "stdout",
     "output_type": "stream",
     "text": [
      "Error getting ZIP for nan, nan: Must be a coordinate pair or Point\n"
     ]
    },
    {
     "name": "stdout",
     "output_type": "stream",
     "text": [
      "Error getting ZIP for nan, nan: Must be a coordinate pair or Point\n"
     ]
    },
    {
     "name": "stdout",
     "output_type": "stream",
     "text": [
      "Error getting ZIP for nan, nan: Must be a coordinate pair or Point\n"
     ]
    },
    {
     "name": "stdout",
     "output_type": "stream",
     "text": [
      "Error getting ZIP for nan, nan: Must be a coordinate pair or Point\n"
     ]
    },
    {
     "name": "stdout",
     "output_type": "stream",
     "text": [
      "Error getting ZIP for nan, nan: Must be a coordinate pair or Point\n"
     ]
    },
    {
     "name": "stdout",
     "output_type": "stream",
     "text": [
      "Error getting ZIP for nan, nan: Must be a coordinate pair or Point\n"
     ]
    },
    {
     "name": "stdout",
     "output_type": "stream",
     "text": [
      "Error getting ZIP for nan, nan: Must be a coordinate pair or Point\n"
     ]
    },
    {
     "name": "stdout",
     "output_type": "stream",
     "text": [
      "Error getting ZIP for nan, nan: Must be a coordinate pair or Point\n"
     ]
    },
    {
     "name": "stdout",
     "output_type": "stream",
     "text": [
      "Error getting ZIP for nan, nan: Must be a coordinate pair or Point\n"
     ]
    },
    {
     "name": "stdout",
     "output_type": "stream",
     "text": [
      "Error getting ZIP for nan, nan: Must be a coordinate pair or Point\n"
     ]
    },
    {
     "name": "stdout",
     "output_type": "stream",
     "text": [
      "Error getting ZIP for nan, nan: Must be a coordinate pair or Point\n"
     ]
    },
    {
     "name": "stdout",
     "output_type": "stream",
     "text": [
      "Error getting ZIP for nan, nan: Must be a coordinate pair or Point\n"
     ]
    },
    {
     "name": "stdout",
     "output_type": "stream",
     "text": [
      "Error getting ZIP for nan, nan: Must be a coordinate pair or Point\n"
     ]
    },
    {
     "name": "stdout",
     "output_type": "stream",
     "text": [
      "Error getting ZIP for nan, nan: Must be a coordinate pair or Point\n"
     ]
    },
    {
     "name": "stdout",
     "output_type": "stream",
     "text": [
      "Error getting ZIP for nan, nan: Must be a coordinate pair or Point\n"
     ]
    },
    {
     "name": "stdout",
     "output_type": "stream",
     "text": [
      "Error getting ZIP for nan, nan: Must be a coordinate pair or Point\n"
     ]
    },
    {
     "name": "stdout",
     "output_type": "stream",
     "text": [
      "Error getting ZIP for nan, nan: Must be a coordinate pair or Point\n"
     ]
    },
    {
     "name": "stdout",
     "output_type": "stream",
     "text": [
      "Error getting ZIP for nan, nan: Must be a coordinate pair or Point\n"
     ]
    },
    {
     "name": "stdout",
     "output_type": "stream",
     "text": [
      "Error getting ZIP for nan, nan: Must be a coordinate pair or Point\n"
     ]
    },
    {
     "name": "stdout",
     "output_type": "stream",
     "text": [
      "Error getting ZIP for nan, nan: Must be a coordinate pair or Point\n"
     ]
    },
    {
     "name": "stdout",
     "output_type": "stream",
     "text": [
      "Error getting ZIP for nan, nan: Must be a coordinate pair or Point\n"
     ]
    },
    {
     "name": "stdout",
     "output_type": "stream",
     "text": [
      "Error getting ZIP for nan, nan: Must be a coordinate pair or Point\n"
     ]
    },
    {
     "name": "stdout",
     "output_type": "stream",
     "text": [
      "Error getting ZIP for nan, nan: Must be a coordinate pair or Point\n"
     ]
    },
    {
     "name": "stdout",
     "output_type": "stream",
     "text": [
      "Error getting ZIP for nan, nan: Must be a coordinate pair or Point\n"
     ]
    },
    {
     "name": "stdout",
     "output_type": "stream",
     "text": [
      "Error getting ZIP for nan, nan: Must be a coordinate pair or Point\n"
     ]
    },
    {
     "name": "stdout",
     "output_type": "stream",
     "text": [
      "Error getting ZIP for nan, nan: Must be a coordinate pair or Point\n"
     ]
    },
    {
     "name": "stdout",
     "output_type": "stream",
     "text": [
      "Error getting ZIP for nan, nan: Must be a coordinate pair or Point\n"
     ]
    },
    {
     "data": {
      "text/html": [
       "<div>\n",
       "<style scoped>\n",
       "    .dataframe tbody tr th:only-of-type {\n",
       "        vertical-align: middle;\n",
       "    }\n",
       "\n",
       "    .dataframe tbody tr th {\n",
       "        vertical-align: top;\n",
       "    }\n",
       "\n",
       "    .dataframe thead th {\n",
       "        text-align: right;\n",
       "    }\n",
       "</style>\n",
       "<table border=\"1\" class=\"dataframe\">\n",
       "  <thead>\n",
       "    <tr style=\"text-align: right;\">\n",
       "      <th></th>\n",
       "      <th>RecordID</th>\n",
       "      <th>Offense</th>\n",
       "      <th>IncidentID</th>\n",
       "      <th>BlockNumber</th>\n",
       "      <th>StreetName</th>\n",
       "      <th>Agency</th>\n",
       "      <th>HourReported</th>\n",
       "      <th>ReportingOfficer</th>\n",
       "      <th>Date</th>\n",
       "      <th>DateString</th>\n",
       "      <th>DayOfWeek</th>\n",
       "      <th>Weekend</th>\n",
       "      <th>Season</th>\n",
       "      <th>HourAMPM</th>\n",
       "      <th>TimeOfDay</th>\n",
       "      <th>FullStreet</th>\n",
       "      <th>lat</th>\n",
       "      <th>lon</th>\n",
       "      <th>neighborhood</th>\n",
       "      <th>zip</th>\n",
       "    </tr>\n",
       "  </thead>\n",
       "  <tbody>\n",
       "    <tr>\n",
       "      <th>0</th>\n",
       "      <td>1</td>\n",
       "      <td>Trespass</td>\n",
       "      <td>202500024666</td>\n",
       "      <td>1400</td>\n",
       "      <td>UNIVERSITY AVE</td>\n",
       "      <td>CPD</td>\n",
       "      <td>1244</td>\n",
       "      <td>Adams, Austin</td>\n",
       "      <td>2025-07-14 12:44:18</td>\n",
       "      <td>2025-07-14 12:44:18 PM</td>\n",
       "      <td>Monday</td>\n",
       "      <td>False</td>\n",
       "      <td>Summer</td>\n",
       "      <td>12:44 PM</td>\n",
       "      <td>Afternoon</td>\n",
       "      <td>1400 UNIVERSITY AVE</td>\n",
       "      <td>38.033936</td>\n",
       "      <td>-78.499972</td>\n",
       "      <td>N/A</td>\n",
       "      <td>22903</td>\n",
       "    </tr>\n",
       "    <tr>\n",
       "      <th>1</th>\n",
       "      <td>2</td>\n",
       "      <td>Drug Equipment Violation</td>\n",
       "      <td>202500024659</td>\n",
       "      <td>700</td>\n",
       "      <td>HARRIS ST, 202</td>\n",
       "      <td>CPD</td>\n",
       "      <td>1134</td>\n",
       "      <td>Mian, Ghulam</td>\n",
       "      <td>2025-07-14 11:34:00</td>\n",
       "      <td>2025-07-14 11:34:00 AM</td>\n",
       "      <td>Monday</td>\n",
       "      <td>False</td>\n",
       "      <td>Summer</td>\n",
       "      <td>11:34 AM</td>\n",
       "      <td>Morning</td>\n",
       "      <td>700 HARRIS ST, 202</td>\n",
       "      <td>38.035882</td>\n",
       "      <td>-78.484471</td>\n",
       "      <td>North Downtown</td>\n",
       "      <td>22903</td>\n",
       "    </tr>\n",
       "    <tr>\n",
       "      <th>2</th>\n",
       "      <td>3</td>\n",
       "      <td>Larceny - Of Veh Parts/Access</td>\n",
       "      <td>202580000110</td>\n",
       "      <td>100</td>\n",
       "      <td>KEYSTONE</td>\n",
       "      <td>CPD</td>\n",
       "      <td>1133</td>\n",
       "      <td>Pendleton, Eric</td>\n",
       "      <td>2025-07-14 11:33:27</td>\n",
       "      <td>2025-07-14 11:33:27 AM</td>\n",
       "      <td>Monday</td>\n",
       "      <td>False</td>\n",
       "      <td>Summer</td>\n",
       "      <td>11:33 AM</td>\n",
       "      <td>Morning</td>\n",
       "      <td>100 KEYSTONE</td>\n",
       "      <td>NaN</td>\n",
       "      <td>NaN</td>\n",
       "      <td>N/A</td>\n",
       "      <td>N/A</td>\n",
       "    </tr>\n",
       "    <tr>\n",
       "      <th>3</th>\n",
       "      <td>4</td>\n",
       "      <td>Larceny - From Motor Vehicle</td>\n",
       "      <td>202500024653</td>\n",
       "      <td>800</td>\n",
       "      <td>W MAIN ST, 633</td>\n",
       "      <td>CPD</td>\n",
       "      <td>1049</td>\n",
       "      <td>Adams, Austin</td>\n",
       "      <td>2025-07-14 10:49:50</td>\n",
       "      <td>2025-07-14 10:49:50 AM</td>\n",
       "      <td>Monday</td>\n",
       "      <td>False</td>\n",
       "      <td>Summer</td>\n",
       "      <td>10:49 AM</td>\n",
       "      <td>Morning</td>\n",
       "      <td>800 W MAIN ST, 633</td>\n",
       "      <td>NaN</td>\n",
       "      <td>NaN</td>\n",
       "      <td>N/A</td>\n",
       "      <td>N/A</td>\n",
       "    </tr>\n",
       "    <tr>\n",
       "      <th>4</th>\n",
       "      <td>5</td>\n",
       "      <td>Larceny - From Motor Vehicle</td>\n",
       "      <td>202500024647</td>\n",
       "      <td>1200</td>\n",
       "      <td>W MAIN ST</td>\n",
       "      <td>CPD</td>\n",
       "      <td>1021</td>\n",
       "      <td>Stayments, Ronald</td>\n",
       "      <td>2025-07-14 10:21:01</td>\n",
       "      <td>2025-07-14 10:21:01 AM</td>\n",
       "      <td>Monday</td>\n",
       "      <td>False</td>\n",
       "      <td>Summer</td>\n",
       "      <td>10:21 AM</td>\n",
       "      <td>Morning</td>\n",
       "      <td>1200 W MAIN ST</td>\n",
       "      <td>38.032769</td>\n",
       "      <td>-78.496593</td>\n",
       "      <td>Venable</td>\n",
       "      <td>22903</td>\n",
       "    </tr>\n",
       "  </tbody>\n",
       "</table>\n",
       "</div>"
      ],
      "text/plain": [
       "   RecordID                        Offense    IncidentID BlockNumber  \\\n",
       "0         1                       Trespass  202500024666        1400   \n",
       "1         2       Drug Equipment Violation  202500024659         700   \n",
       "2         3  Larceny - Of Veh Parts/Access  202580000110         100   \n",
       "3         4   Larceny - From Motor Vehicle  202500024653         800   \n",
       "4         5   Larceny - From Motor Vehicle  202500024647        1200   \n",
       "\n",
       "       StreetName Agency HourReported    ReportingOfficer                Date  \\\n",
       "0  UNIVERSITY AVE    CPD         1244       Adams, Austin 2025-07-14 12:44:18   \n",
       "1  HARRIS ST, 202    CPD         1134        Mian, Ghulam 2025-07-14 11:34:00   \n",
       "2        KEYSTONE    CPD         1133     Pendleton, Eric 2025-07-14 11:33:27   \n",
       "3  W MAIN ST, 633    CPD         1049       Adams, Austin 2025-07-14 10:49:50   \n",
       "4       W MAIN ST    CPD         1021  Stayments, Ronald  2025-07-14 10:21:01   \n",
       "\n",
       "               DateString DayOfWeek  Weekend  Season  HourAMPM  TimeOfDay  \\\n",
       "0  2025-07-14 12:44:18 PM    Monday    False  Summer  12:44 PM  Afternoon   \n",
       "1  2025-07-14 11:34:00 AM    Monday    False  Summer  11:34 AM    Morning   \n",
       "2  2025-07-14 11:33:27 AM    Monday    False  Summer  11:33 AM    Morning   \n",
       "3  2025-07-14 10:49:50 AM    Monday    False  Summer  10:49 AM    Morning   \n",
       "4  2025-07-14 10:21:01 AM    Monday    False  Summer  10:21 AM    Morning   \n",
       "\n",
       "            FullStreet        lat        lon    neighborhood    zip  \n",
       "0  1400 UNIVERSITY AVE  38.033936 -78.499972             N/A  22903  \n",
       "1   700 HARRIS ST, 202  38.035882 -78.484471  North Downtown  22903  \n",
       "2         100 KEYSTONE        NaN        NaN             N/A    N/A  \n",
       "3   800 W MAIN ST, 633        NaN        NaN             N/A    N/A  \n",
       "4       1200 W MAIN ST  38.032769 -78.496593         Venable  22903  "
      ]
     },
     "execution_count": 11,
     "metadata": {},
     "output_type": "execute_result"
    }
   ],
   "source": [
    "# Initialize the geocoder.\n",
    "geolocator = Nominatim(user_agent=\"zip_lookup\")\n",
    "\n",
    "# Try to load a persistent ZIP cache if available.\n",
    "try:\n",
    "    with open(\"zip_cache.pkl\", \"rb\") as f:\n",
    "        zip_cache = pickle.load(f)\n",
    "    print(\"Loaded zip cache.\")\n",
    "except FileNotFoundError:\n",
    "    zip_cache = {}\n",
    "    print(\"No zip cache found; starting fresh.\")\n",
    "\n",
    "def get_zip(lat, lon):\n",
    "    \"\"\"\n",
    "    Reverse geocodes a latitude and longitude to retrieve the ZIP code.\n",
    "    Caches results to speed up subsequent lookups.\n",
    "    \"\"\"\n",
    "    key = (lat, lon)\n",
    "    if key in zip_cache:\n",
    "        return zip_cache[key]\n",
    "    \n",
    "    try:\n",
    "        location = geolocator.reverse((lat, lon), exactly_one=True, timeout=10)\n",
    "        address = location.raw.get('address', {})\n",
    "        postal_code = address.get('postcode', \"N/A\")\n",
    "    except Exception as e:\n",
    "        print(f\"Error getting ZIP for {lat}, {lon}: {e}\")\n",
    "        postal_code = \"N/A\"\n",
    "    \n",
    "    zip_cache[key] = postal_code\n",
    "    # Pause to respect the usage policy.\n",
    "    time.sleep(1)\n",
    "    return postal_code\n",
    "\n",
    "# Apply the function to each row in the DataFrame.\n",
    "df['zip'] = df.apply(lambda row: get_zip(row['lat'], row['lon']), axis=1)\n",
    "\n",
    "# Save the updated ZIP cache.\n",
    "with open(\"zip_cache.pkl\", \"wb\") as f:\n",
    "    pickle.dump(zip_cache, f)\n",
    "\n",
    "df.head()\n"
   ]
  },
  {
   "cell_type": "code",
   "execution_count": 12,
   "id": "bf904de6",
   "metadata": {
    "execution": {
     "iopub.execute_input": "2025-07-17T01:11:15.929697Z",
     "iopub.status.busy": "2025-07-17T01:11:15.929491Z",
     "iopub.status.idle": "2025-07-17T01:11:15.958502Z",
     "shell.execute_reply": "2025-07-17T01:11:15.957817Z"
    },
    "papermill": {
     "duration": 0.038493,
     "end_time": "2025-07-17T01:11:15.959668",
     "exception": false,
     "start_time": "2025-07-17T01:11:15.921175",
     "status": "completed"
    },
    "tags": []
   },
   "outputs": [
    {
     "name": "stdout",
     "output_type": "stream",
     "text": [
      "                  MissingCount  MissingPercentage\n",
      "RecordID                     0               0.00\n",
      "Offense                      0               0.00\n",
      "IncidentID                   0               0.00\n",
      "BlockNumber                  0               0.00\n",
      "StreetName                   0               0.00\n",
      "Agency                       0               0.00\n",
      "HourReported                 0               0.00\n",
      "ReportingOfficer            17               0.07\n",
      "Date                         0               0.00\n",
      "DateString                   0               0.00\n",
      "DayOfWeek                    0               0.00\n",
      "Weekend                      0               0.00\n",
      "Season                       0               0.00\n",
      "HourAMPM                     0               0.00\n",
      "TimeOfDay                    0               0.00\n",
      "FullStreet                   0               0.00\n",
      "lat                         58               0.23\n",
      "lon                         58               0.23\n",
      "neighborhood                 0               0.00\n",
      "zip                          0               0.00\n"
     ]
    }
   ],
   "source": [
    "missing_info = missing_percentage(df)\n",
    "print(missing_info)\n"
   ]
  },
  {
   "cell_type": "code",
   "execution_count": 13,
   "id": "3356741a",
   "metadata": {
    "execution": {
     "iopub.execute_input": "2025-07-17T01:11:15.976417Z",
     "iopub.status.busy": "2025-07-17T01:11:15.975976Z",
     "iopub.status.idle": "2025-07-17T01:11:16.005975Z",
     "shell.execute_reply": "2025-07-17T01:11:16.005205Z"
    },
    "papermill": {
     "duration": 0.039453,
     "end_time": "2025-07-17T01:11:16.007123",
     "exception": false,
     "start_time": "2025-07-17T01:11:15.967670",
     "status": "completed"
    },
    "tags": []
   },
   "outputs": [
    {
     "name": "stdout",
     "output_type": "stream",
     "text": [
      "<class 'pandas.core.frame.DataFrame'>\n",
      "RangeIndex: 25522 entries, 0 to 25521\n",
      "Data columns (total 20 columns):\n",
      " #   Column            Non-Null Count  Dtype         \n",
      "---  ------            --------------  -----         \n",
      " 0   RecordID          25522 non-null  int64         \n",
      " 1   Offense           25522 non-null  object        \n",
      " 2   IncidentID        25522 non-null  object        \n",
      " 3   BlockNumber       25522 non-null  object        \n",
      " 4   StreetName        25522 non-null  object        \n",
      " 5   Agency            25522 non-null  object        \n",
      " 6   HourReported      25522 non-null  object        \n",
      " 7   ReportingOfficer  25505 non-null  object        \n",
      " 8   Date              25522 non-null  datetime64[ns]\n",
      " 9   DateString        25522 non-null  object        \n",
      " 10  DayOfWeek         25522 non-null  object        \n",
      " 11  Weekend           25522 non-null  bool          \n",
      " 12  Season            25522 non-null  object        \n",
      " 13  HourAMPM          25522 non-null  object        \n",
      " 14  TimeOfDay         25522 non-null  object        \n",
      " 15  FullStreet        25522 non-null  object        \n",
      " 16  lat               25464 non-null  float64       \n",
      " 17  lon               25464 non-null  float64       \n",
      " 18  neighborhood      25522 non-null  object        \n",
      " 19  zip               25522 non-null  object        \n",
      "dtypes: bool(1), datetime64[ns](1), float64(2), int64(1), object(15)\n",
      "memory usage: 3.7+ MB\n"
     ]
    }
   ],
   "source": [
    "df.info()"
   ]
  },
  {
   "cell_type": "code",
   "execution_count": 14,
   "id": "bb98d67e",
   "metadata": {
    "execution": {
     "iopub.execute_input": "2025-07-17T01:11:16.023881Z",
     "iopub.status.busy": "2025-07-17T01:11:16.023671Z",
     "iopub.status.idle": "2025-07-17T01:11:16.071187Z",
     "shell.execute_reply": "2025-07-17T01:11:16.070578Z"
    },
    "papermill": {
     "duration": 0.057015,
     "end_time": "2025-07-17T01:11:16.072224",
     "exception": false,
     "start_time": "2025-07-17T01:11:16.015209",
     "status": "completed"
    },
    "tags": []
   },
   "outputs": [
    {
     "data": {
      "text/html": [
       "<div>\n",
       "<style scoped>\n",
       "    .dataframe tbody tr th:only-of-type {\n",
       "        vertical-align: middle;\n",
       "    }\n",
       "\n",
       "    .dataframe tbody tr th {\n",
       "        vertical-align: top;\n",
       "    }\n",
       "\n",
       "    .dataframe thead th {\n",
       "        text-align: right;\n",
       "    }\n",
       "</style>\n",
       "<table border=\"1\" class=\"dataframe\">\n",
       "  <thead>\n",
       "    <tr style=\"text-align: right;\">\n",
       "      <th></th>\n",
       "      <th>RecordID</th>\n",
       "      <th>Offense</th>\n",
       "      <th>IncidentID</th>\n",
       "      <th>Agency</th>\n",
       "      <th>ReportingOfficer</th>\n",
       "      <th>Date</th>\n",
       "      <th>DayOfWeek</th>\n",
       "      <th>Weekend</th>\n",
       "      <th>Season</th>\n",
       "      <th>TimeOfDay</th>\n",
       "      <th>FullStreet</th>\n",
       "      <th>lat</th>\n",
       "      <th>lon</th>\n",
       "      <th>neighborhood</th>\n",
       "      <th>zip</th>\n",
       "    </tr>\n",
       "  </thead>\n",
       "  <tbody>\n",
       "    <tr>\n",
       "      <th>0</th>\n",
       "      <td>1</td>\n",
       "      <td>Trespass</td>\n",
       "      <td>202500024666</td>\n",
       "      <td>CPD</td>\n",
       "      <td>Adams, Austin</td>\n",
       "      <td>2025-07-14 12:44:18</td>\n",
       "      <td>Monday</td>\n",
       "      <td>False</td>\n",
       "      <td>Summer</td>\n",
       "      <td>Afternoon</td>\n",
       "      <td>1400 UNIVERSITY AVE</td>\n",
       "      <td>38.033936</td>\n",
       "      <td>-78.499972</td>\n",
       "      <td>N/A</td>\n",
       "      <td>22903</td>\n",
       "    </tr>\n",
       "    <tr>\n",
       "      <th>1</th>\n",
       "      <td>2</td>\n",
       "      <td>Drug Equipment Violation</td>\n",
       "      <td>202500024659</td>\n",
       "      <td>CPD</td>\n",
       "      <td>Mian, Ghulam</td>\n",
       "      <td>2025-07-14 11:34:00</td>\n",
       "      <td>Monday</td>\n",
       "      <td>False</td>\n",
       "      <td>Summer</td>\n",
       "      <td>Morning</td>\n",
       "      <td>700 HARRIS ST, 202</td>\n",
       "      <td>38.035882</td>\n",
       "      <td>-78.484471</td>\n",
       "      <td>North Downtown</td>\n",
       "      <td>22903</td>\n",
       "    </tr>\n",
       "    <tr>\n",
       "      <th>2</th>\n",
       "      <td>3</td>\n",
       "      <td>Larceny - Of Veh Parts/Access</td>\n",
       "      <td>202580000110</td>\n",
       "      <td>CPD</td>\n",
       "      <td>Pendleton, Eric</td>\n",
       "      <td>2025-07-14 11:33:27</td>\n",
       "      <td>Monday</td>\n",
       "      <td>False</td>\n",
       "      <td>Summer</td>\n",
       "      <td>Morning</td>\n",
       "      <td>100 KEYSTONE</td>\n",
       "      <td>N/A</td>\n",
       "      <td>N/A</td>\n",
       "      <td>N/A</td>\n",
       "      <td>N/A</td>\n",
       "    </tr>\n",
       "    <tr>\n",
       "      <th>3</th>\n",
       "      <td>4</td>\n",
       "      <td>Larceny - From Motor Vehicle</td>\n",
       "      <td>202500024653</td>\n",
       "      <td>CPD</td>\n",
       "      <td>Adams, Austin</td>\n",
       "      <td>2025-07-14 10:49:50</td>\n",
       "      <td>Monday</td>\n",
       "      <td>False</td>\n",
       "      <td>Summer</td>\n",
       "      <td>Morning</td>\n",
       "      <td>800 W MAIN ST, 633</td>\n",
       "      <td>N/A</td>\n",
       "      <td>N/A</td>\n",
       "      <td>N/A</td>\n",
       "      <td>N/A</td>\n",
       "    </tr>\n",
       "    <tr>\n",
       "      <th>4</th>\n",
       "      <td>5</td>\n",
       "      <td>Larceny - From Motor Vehicle</td>\n",
       "      <td>202500024647</td>\n",
       "      <td>CPD</td>\n",
       "      <td>Stayments, Ronald</td>\n",
       "      <td>2025-07-14 10:21:01</td>\n",
       "      <td>Monday</td>\n",
       "      <td>False</td>\n",
       "      <td>Summer</td>\n",
       "      <td>Morning</td>\n",
       "      <td>1200 W MAIN ST</td>\n",
       "      <td>38.032769</td>\n",
       "      <td>-78.496593</td>\n",
       "      <td>Venable</td>\n",
       "      <td>22903</td>\n",
       "    </tr>\n",
       "  </tbody>\n",
       "</table>\n",
       "</div>"
      ],
      "text/plain": [
       "   RecordID                        Offense    IncidentID Agency  \\\n",
       "0         1                       Trespass  202500024666    CPD   \n",
       "1         2       Drug Equipment Violation  202500024659    CPD   \n",
       "2         3  Larceny - Of Veh Parts/Access  202580000110    CPD   \n",
       "3         4   Larceny - From Motor Vehicle  202500024653    CPD   \n",
       "4         5   Larceny - From Motor Vehicle  202500024647    CPD   \n",
       "\n",
       "     ReportingOfficer                Date DayOfWeek  Weekend  Season  \\\n",
       "0       Adams, Austin 2025-07-14 12:44:18    Monday    False  Summer   \n",
       "1        Mian, Ghulam 2025-07-14 11:34:00    Monday    False  Summer   \n",
       "2     Pendleton, Eric 2025-07-14 11:33:27    Monday    False  Summer   \n",
       "3       Adams, Austin 2025-07-14 10:49:50    Monday    False  Summer   \n",
       "4  Stayments, Ronald  2025-07-14 10:21:01    Monday    False  Summer   \n",
       "\n",
       "   TimeOfDay           FullStreet        lat        lon    neighborhood    zip  \n",
       "0  Afternoon  1400 UNIVERSITY AVE  38.033936 -78.499972             N/A  22903  \n",
       "1    Morning   700 HARRIS ST, 202  38.035882 -78.484471  North Downtown  22903  \n",
       "2    Morning         100 KEYSTONE        N/A        N/A             N/A    N/A  \n",
       "3    Morning   800 W MAIN ST, 633        N/A        N/A             N/A    N/A  \n",
       "4    Morning       1200 W MAIN ST  38.032769 -78.496593         Venable  22903  "
      ]
     },
     "execution_count": 14,
     "metadata": {},
     "output_type": "execute_result"
    }
   ],
   "source": [
    "# Now drop the original BlockNumber and StreetName columns\n",
    "df.drop(columns=['BlockNumber', 'StreetName','HourAMPM','HourReported','DateString'], inplace=True)\n",
    "df[\"zip\"] = df[\"zip\"].astype(str)\n",
    "\n",
    "# Fill all missing values in the DataFrame with \"N/A\"\n",
    "df.replace({None: \"N/A\", np.nan: \"N/A\", \"\": \"N/A\"}, inplace=True)\n",
    "df.head()"
   ]
  },
  {
   "cell_type": "code",
   "execution_count": 15,
   "id": "7015833d",
   "metadata": {
    "execution": {
     "iopub.execute_input": "2025-07-17T01:11:16.089927Z",
     "iopub.status.busy": "2025-07-17T01:11:16.089470Z",
     "iopub.status.idle": "2025-07-17T01:11:16.110726Z",
     "shell.execute_reply": "2025-07-17T01:11:16.110156Z"
    },
    "papermill": {
     "duration": 0.031009,
     "end_time": "2025-07-17T01:11:16.111654",
     "exception": false,
     "start_time": "2025-07-17T01:11:16.080645",
     "status": "completed"
    },
    "tags": []
   },
   "outputs": [
    {
     "name": "stdout",
     "output_type": "stream",
     "text": [
      "                  MissingCount  MissingPercentage\n",
      "RecordID                     0                0.0\n",
      "Offense                      0                0.0\n",
      "IncidentID                   0                0.0\n",
      "Agency                       0                0.0\n",
      "ReportingOfficer             0                0.0\n",
      "Date                         0                0.0\n",
      "DayOfWeek                    0                0.0\n",
      "Weekend                      0                0.0\n",
      "Season                       0                0.0\n",
      "TimeOfDay                    0                0.0\n",
      "FullStreet                   0                0.0\n",
      "lat                          0                0.0\n",
      "lon                          0                0.0\n",
      "neighborhood                 0                0.0\n",
      "zip                          0                0.0\n"
     ]
    }
   ],
   "source": [
    "missing_info = missing_percentage(df)\n",
    "print(missing_info)"
   ]
  },
  {
   "cell_type": "code",
   "execution_count": 16,
   "id": "d165ccc0",
   "metadata": {
    "execution": {
     "iopub.execute_input": "2025-07-17T01:11:16.128830Z",
     "iopub.status.busy": "2025-07-17T01:11:16.128411Z",
     "iopub.status.idle": "2025-07-17T01:11:16.133015Z",
     "shell.execute_reply": "2025-07-17T01:11:16.132372Z"
    },
    "papermill": {
     "duration": 0.014455,
     "end_time": "2025-07-17T01:11:16.134100",
     "exception": false,
     "start_time": "2025-07-17T01:11:16.119645",
     "status": "completed"
    },
    "tags": []
   },
   "outputs": [
    {
     "data": {
      "text/plain": [
       "Index(['RecordID', 'Offense', 'IncidentID', 'Agency', 'ReportingOfficer',\n",
       "       'Date', 'DayOfWeek', 'Weekend', 'Season', 'TimeOfDay', 'FullStreet',\n",
       "       'lat', 'lon', 'neighborhood', 'zip'],\n",
       "      dtype='object')"
      ]
     },
     "execution_count": 16,
     "metadata": {},
     "output_type": "execute_result"
    }
   ],
   "source": [
    "df.columns"
   ]
  },
  {
   "cell_type": "code",
   "execution_count": 17,
   "id": "aba0cc99",
   "metadata": {
    "execution": {
     "iopub.execute_input": "2025-07-17T01:11:16.151998Z",
     "iopub.status.busy": "2025-07-17T01:11:16.151408Z",
     "iopub.status.idle": "2025-07-17T01:11:16.176602Z",
     "shell.execute_reply": "2025-07-17T01:11:16.175887Z"
    },
    "papermill": {
     "duration": 0.035524,
     "end_time": "2025-07-17T01:11:16.177698",
     "exception": false,
     "start_time": "2025-07-17T01:11:16.142174",
     "status": "completed"
    },
    "tags": []
   },
   "outputs": [
    {
     "name": "stdout",
     "output_type": "stream",
     "text": [
      "<class 'pandas.core.frame.DataFrame'>\n",
      "RangeIndex: 25522 entries, 0 to 25521\n",
      "Data columns (total 15 columns):\n",
      " #   Column            Non-Null Count  Dtype         \n",
      "---  ------            --------------  -----         \n",
      " 0   RecordID          25522 non-null  int64         \n",
      " 1   Offense           25522 non-null  object        \n",
      " 2   IncidentID        25522 non-null  object        \n",
      " 3   Agency            25522 non-null  object        \n",
      " 4   ReportingOfficer  25522 non-null  object        \n",
      " 5   Date              25522 non-null  datetime64[ns]\n",
      " 6   DayOfWeek         25522 non-null  object        \n",
      " 7   Weekend           25522 non-null  bool          \n",
      " 8   Season            25522 non-null  object        \n",
      " 9   TimeOfDay         25522 non-null  object        \n",
      " 10  FullStreet        25522 non-null  object        \n",
      " 11  lat               25522 non-null  object        \n",
      " 12  lon               25522 non-null  object        \n",
      " 13  neighborhood      25522 non-null  object        \n",
      " 14  zip               25522 non-null  object        \n",
      "dtypes: bool(1), datetime64[ns](1), int64(1), object(12)\n",
      "memory usage: 2.8+ MB\n"
     ]
    }
   ],
   "source": [
    "df.info()"
   ]
  },
  {
   "cell_type": "markdown",
   "id": "40834b69",
   "metadata": {
    "papermill": {
     "duration": 0.008308,
     "end_time": "2025-07-17T01:11:16.194802",
     "exception": false,
     "start_time": "2025-07-17T01:11:16.186494",
     "status": "completed"
    },
    "tags": []
   },
   "source": [
    "### Export Clean Data"
   ]
  },
  {
   "cell_type": "code",
   "execution_count": 18,
   "id": "4688f21b",
   "metadata": {
    "execution": {
     "iopub.execute_input": "2025-07-17T01:11:16.212802Z",
     "iopub.status.busy": "2025-07-17T01:11:16.212142Z",
     "iopub.status.idle": "2025-07-17T01:11:25.478569Z",
     "shell.execute_reply": "2025-07-17T01:11:25.477889Z"
    },
    "papermill": {
     "duration": 9.276817,
     "end_time": "2025-07-17T01:11:25.479794",
     "exception": false,
     "start_time": "2025-07-17T01:11:16.202977",
     "status": "completed"
    },
    "tags": []
   },
   "outputs": [
    {
     "name": "stdout",
     "output_type": "stream",
     "text": [
      "Project Root: /home/runner/work/crime-data/crime-data\n"
     ]
    },
    {
     "name": "stdout",
     "output_type": "stream",
     "text": [
      "Data saved to: /home/runner/work/crime-data/crime-data/data/charlottesville_crime_incidents.csv\n"
     ]
    },
    {
     "name": "stdout",
     "output_type": "stream",
     "text": [
      "Excel saved to: /home/runner/work/crime-data/crime-data/data/charlottesville_crime_incidents.xlsx\n"
     ]
    }
   ],
   "source": [
    "# Determine the project root (assuming papermill is run from the repository root)\n",
    "project_root = os.getcwd()\n",
    "print(\"Project Root:\", project_root)\n",
    "\n",
    "# Set the data directory within the project root\n",
    "data_dir = os.path.join(project_root, \"data\")\n",
    "\n",
    "# Ensure the \"data\" directory exists (create it if it doesn't)\n",
    "if not os.path.exists(data_dir):\n",
    "    os.makedirs(data_dir)\n",
    "\n",
    "# Export the DataFrame to CSV in the \"data\" folder located in the project root\n",
    "csv_path = os.path.join(data_dir, \"charlottesville_crime_incidents.csv\")\n",
    "df.to_csv(csv_path, index=False)\n",
    "print(\"Data saved to:\", csv_path)\n",
    "\n",
    "# Construct the path to your Excel file\n",
    "excel_path = os.path.join(data_dir, \"charlottesville_crime_incidents.xlsx\")\n",
    "\n",
    "# Export the DataFrame to Excel\n",
    "df.to_excel(excel_path, index=False)\n",
    "print(\"Excel saved to:\", excel_path)\n"
   ]
  }
 ],
 "metadata": {
  "kernelspec": {
   "display_name": "Python 3",
   "language": "python",
   "name": "python3"
  },
  "language_info": {
   "codemirror_mode": {
    "name": "ipython",
    "version": 3
   },
   "file_extension": ".py",
   "mimetype": "text/x-python",
   "name": "python",
   "nbconvert_exporter": "python",
   "pygments_lexer": "ipython3",
   "version": "3.9.23"
  },
  "papermill": {
   "default_parameters": {},
   "duration": 142.446342,
   "end_time": "2025-07-17T01:11:25.904957",
   "environment_variables": {},
   "exception": null,
   "input_path": "notebook/Crime Data.ipynb",
   "output_path": "notebook/Crime Data_output.ipynb",
   "parameters": {},
   "start_time": "2025-07-17T01:09:03.458615",
   "version": "2.6.0"
  }
 },
 "nbformat": 4,
 "nbformat_minor": 5
}