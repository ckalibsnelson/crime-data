{
 "cells": [
  {
   "cell_type": "markdown",
   "id": "3b4ffe44",
   "metadata": {
    "papermill": {
     "duration": 0.011502,
     "end_time": "2025-04-27T01:04:40.176242",
     "exception": false,
     "start_time": "2025-04-27T01:04:40.164740",
     "status": "completed"
    },
    "tags": []
   },
   "source": [
    "# Charlottesville Open Data Porttal: Crime Data"
   ]
  },
  {
   "cell_type": "markdown",
   "id": "a7edbfaa",
   "metadata": {
    "papermill": {
     "duration": 0.009695,
     "end_time": "2025-04-27T01:04:40.195818",
     "exception": false,
     "start_time": "2025-04-27T01:04:40.186123",
     "status": "completed"
    },
    "tags": []
   },
   "source": [
    "## Import Relevant Librarires & Set WD"
   ]
  },
  {
   "cell_type": "code",
   "execution_count": 1,
   "id": "5cb1f587",
   "metadata": {
    "execution": {
     "iopub.execute_input": "2025-04-27T01:04:40.209837Z",
     "iopub.status.busy": "2025-04-27T01:04:40.209440Z",
     "iopub.status.idle": "2025-04-27T01:04:40.885031Z",
     "shell.execute_reply": "2025-04-27T01:04:40.884396Z"
    },
    "papermill": {
     "duration": 0.682632,
     "end_time": "2025-04-27T01:04:40.886308",
     "exception": false,
     "start_time": "2025-04-27T01:04:40.203676",
     "status": "completed"
    },
    "tags": []
   },
   "outputs": [],
   "source": [
    "import requests\n",
    "import pandas as pd\n",
    "import numpy as np\n",
    "import pickle\n",
    "import googlemaps\n",
    "import plotly.express as px\n",
    "from geopy.geocoders import Nominatim\n",
    "import time\n",
    "from dotenv import load_dotenv\n",
    "import os\n",
    "\n",
    "env_path = os.path.join(\"..\", \".env\")\n",
    "#print(\"Looking for .env file at:\", os.path.abspath(env_path))\n",
    "load_dotenv(dotenv_path=env_path)\n",
    "\n",
    "# Retrieve the variables\n",
    "GOOGLE_API_KEY = os.getenv(\"GOOGLE_API_KEY\")\n",
    "WORKING_DIR = os.getenv(\"WORKING_DIR\")\n",
    "\n",
    "if GOOGLE_API_KEY is None or WORKING_DIR is None:\n",
    "    raise RuntimeError(\"No configuration found. Please ensure that your .env file exists with the required variables, or create a local config.py file.\")\n",
    "\n",
    "#print(\"Google API Key:\", GOOGLE_API_KEY)\n",
    "#print(\"Working Directory:\", WORKING_DIR)"
   ]
  },
  {
   "cell_type": "markdown",
   "id": "1d5aeb68",
   "metadata": {
    "papermill": {
     "duration": 0.005024,
     "end_time": "2025-04-27T01:04:40.896827",
     "exception": false,
     "start_time": "2025-04-27T01:04:40.891803",
     "status": "completed"
    },
    "tags": []
   },
   "source": [
    "## Import Data\n",
    "\n",
    "URL: https://opendata.charlottesville.org/datasets/charlottesville::crime-data/about"
   ]
  },
  {
   "cell_type": "code",
   "execution_count": 2,
   "id": "e050b251",
   "metadata": {
    "execution": {
     "iopub.execute_input": "2025-04-27T01:04:40.908128Z",
     "iopub.status.busy": "2025-04-27T01:04:40.907600Z",
     "iopub.status.idle": "2025-04-27T01:05:40.111260Z",
     "shell.execute_reply": "2025-04-27T01:05:40.110492Z"
    },
    "papermill": {
     "duration": 59.215318,
     "end_time": "2025-04-27T01:05:40.117211",
     "exception": false,
     "start_time": "2025-04-27T01:04:40.901893",
     "status": "completed"
    },
    "tags": []
   },
   "outputs": [
    {
     "name": "stdout",
     "output_type": "stream",
     "text": [
      "Total records imported: 25263\n"
     ]
    }
   ],
   "source": [
    "# Define the endpoint and initial parameters.\n",
    "url = \"https://gisweb.charlottesville.org/arcgis/rest/services/OpenData_2/MapServer/6/query\"\n",
    "params = {\n",
    "    \"where\": \"1=1\",\n",
    "    \"outFields\": \"*\",\n",
    "    \"outSR\": 4326,\n",
    "    \"f\": \"json\",\n",
    "    \"resultOffset\": 0,       # Starting index for results\n",
    "    \"resultRecordCount\": 10000  # Maximum records per batch (if allowed by the API)\n",
    "}\n",
    "\n",
    "records = []\n",
    "\n",
    "while True:\n",
    "    response = requests.get(url, params=params)\n",
    "    response.raise_for_status()\n",
    "    data = response.json()\n",
    "    \n",
    "    # Get the current batch of features.\n",
    "    features = data.get(\"features\", [])\n",
    "    if not features:\n",
    "        break\n",
    "\n",
    "    # Extract the attributes from the features.\n",
    "    batch_records = [feature.get(\"attributes\", {}) for feature in features]\n",
    "    records.extend(batch_records)\n",
    "    \n",
    "    # If the batch size is less than the requested count, we reached the end.\n",
    "    if len(features) < params[\"resultRecordCount\"]:\n",
    "        break\n",
    "\n",
    "    # Update the resultOffset for the next batch.\n",
    "    params[\"resultOffset\"] += params[\"resultRecordCount\"]\n",
    "\n",
    "# Create a DataFrame from the combined records.\n",
    "df = pd.DataFrame(records)\n",
    "print(\"Total records imported:\", len(df))\n"
   ]
  },
  {
   "cell_type": "code",
   "execution_count": 3,
   "id": "ef915bd2",
   "metadata": {
    "execution": {
     "iopub.execute_input": "2025-04-27T01:05:40.129431Z",
     "iopub.status.busy": "2025-04-27T01:05:40.128991Z",
     "iopub.status.idle": "2025-04-27T01:05:40.141314Z",
     "shell.execute_reply": "2025-04-27T01:05:40.140670Z"
    },
    "papermill": {
     "duration": 0.019804,
     "end_time": "2025-04-27T01:05:40.142300",
     "exception": false,
     "start_time": "2025-04-27T01:05:40.122496",
     "status": "completed"
    },
    "tags": []
   },
   "outputs": [
    {
     "data": {
      "text/html": [
       "<div>\n",
       "<style scoped>\n",
       "    .dataframe tbody tr th:only-of-type {\n",
       "        vertical-align: middle;\n",
       "    }\n",
       "\n",
       "    .dataframe tbody tr th {\n",
       "        vertical-align: top;\n",
       "    }\n",
       "\n",
       "    .dataframe thead th {\n",
       "        text-align: right;\n",
       "    }\n",
       "</style>\n",
       "<table border=\"1\" class=\"dataframe\">\n",
       "  <thead>\n",
       "    <tr style=\"text-align: right;\">\n",
       "      <th></th>\n",
       "      <th>RecordID</th>\n",
       "      <th>Offense</th>\n",
       "      <th>IncidentID</th>\n",
       "      <th>BlockNumber</th>\n",
       "      <th>StreetName</th>\n",
       "      <th>Agency</th>\n",
       "      <th>DateReported</th>\n",
       "      <th>HourReported</th>\n",
       "      <th>ReportingOfficer</th>\n",
       "    </tr>\n",
       "  </thead>\n",
       "  <tbody>\n",
       "    <tr>\n",
       "      <th>0</th>\n",
       "      <td>1</td>\n",
       "      <td>Hit and Run</td>\n",
       "      <td>202500013432</td>\n",
       "      <td>100</td>\n",
       "      <td>KENT TER</td>\n",
       "      <td>CPD</td>\n",
       "      <td>1745529237000</td>\n",
       "      <td>1713</td>\n",
       "      <td>Bentz, Benjamin</td>\n",
       "    </tr>\n",
       "    <tr>\n",
       "      <th>1</th>\n",
       "      <td>2</td>\n",
       "      <td>Death Investigation - DOA</td>\n",
       "      <td>202500013402</td>\n",
       "      <td>1600</td>\n",
       "      <td>RICKY RD</td>\n",
       "      <td>CPD</td>\n",
       "      <td>1745508908000</td>\n",
       "      <td>1135</td>\n",
       "      <td>Burnett, James</td>\n",
       "    </tr>\n",
       "    <tr>\n",
       "      <th>2</th>\n",
       "      <td>3</td>\n",
       "      <td>Larceny - All Other</td>\n",
       "      <td>202500013313</td>\n",
       "      <td>1000</td>\n",
       "      <td>CHERRY AVE</td>\n",
       "      <td>CPD</td>\n",
       "      <td>1745441251000</td>\n",
       "      <td>1647</td>\n",
       "      <td>Bentz, Benjamin</td>\n",
       "    </tr>\n",
       "    <tr>\n",
       "      <th>3</th>\n",
       "      <td>4</td>\n",
       "      <td>Lost/FoundProperty</td>\n",
       "      <td>202500013306</td>\n",
       "      <td>400</td>\n",
       "      <td>E MAIN ST</td>\n",
       "      <td>CPD</td>\n",
       "      <td>1745440779000</td>\n",
       "      <td>1639</td>\n",
       "      <td>Abdelgayed, Adam</td>\n",
       "    </tr>\n",
       "    <tr>\n",
       "      <th>4</th>\n",
       "      <td>5</td>\n",
       "      <td>Larceny - All Other</td>\n",
       "      <td>202500013314</td>\n",
       "      <td>1500</td>\n",
       "      <td>UNIVERSITY AVE</td>\n",
       "      <td>CPD</td>\n",
       "      <td>1745436754000</td>\n",
       "      <td>1532</td>\n",
       "      <td>Shiflett, Ethan</td>\n",
       "    </tr>\n",
       "  </tbody>\n",
       "</table>\n",
       "</div>"
      ],
      "text/plain": [
       "   RecordID                    Offense    IncidentID BlockNumber  \\\n",
       "0         1                Hit and Run  202500013432         100   \n",
       "1         2  Death Investigation - DOA  202500013402        1600   \n",
       "2         3        Larceny - All Other  202500013313        1000   \n",
       "3         4         Lost/FoundProperty  202500013306         400   \n",
       "4         5        Larceny - All Other  202500013314        1500   \n",
       "\n",
       "       StreetName Agency   DateReported HourReported  ReportingOfficer  \n",
       "0        KENT TER    CPD  1745529237000         1713  Bentz, Benjamin   \n",
       "1        RICKY RD    CPD  1745508908000         1135    Burnett, James  \n",
       "2      CHERRY AVE    CPD  1745441251000         1647  Bentz, Benjamin   \n",
       "3       E MAIN ST    CPD  1745440779000         1639  Abdelgayed, Adam  \n",
       "4  UNIVERSITY AVE    CPD  1745436754000         1532  Shiflett, Ethan   "
      ]
     },
     "execution_count": 3,
     "metadata": {},
     "output_type": "execute_result"
    }
   ],
   "source": [
    "df.head()"
   ]
  },
  {
   "cell_type": "code",
   "execution_count": 4,
   "id": "92c67ffd",
   "metadata": {
    "execution": {
     "iopub.execute_input": "2025-04-27T01:05:40.154016Z",
     "iopub.status.busy": "2025-04-27T01:05:40.153628Z",
     "iopub.status.idle": "2025-04-27T01:05:40.157882Z",
     "shell.execute_reply": "2025-04-27T01:05:40.157325Z"
    },
    "papermill": {
     "duration": 0.011139,
     "end_time": "2025-04-27T01:05:40.158862",
     "exception": false,
     "start_time": "2025-04-27T01:05:40.147723",
     "status": "completed"
    },
    "tags": []
   },
   "outputs": [
    {
     "data": {
      "text/plain": [
       "Index(['RecordID', 'Offense', 'IncidentID', 'BlockNumber', 'StreetName',\n",
       "       'Agency', 'DateReported', 'HourReported', 'ReportingOfficer'],\n",
       "      dtype='object')"
      ]
     },
     "execution_count": 4,
     "metadata": {},
     "output_type": "execute_result"
    }
   ],
   "source": [
    "df.columns"
   ]
  },
  {
   "cell_type": "code",
   "execution_count": 5,
   "id": "bcc6fdee",
   "metadata": {
    "execution": {
     "iopub.execute_input": "2025-04-27T01:05:40.170469Z",
     "iopub.status.busy": "2025-04-27T01:05:40.170272Z",
     "iopub.status.idle": "2025-04-27T01:05:40.187166Z",
     "shell.execute_reply": "2025-04-27T01:05:40.186635Z"
    },
    "papermill": {
     "duration": 0.023838,
     "end_time": "2025-04-27T01:05:40.188170",
     "exception": false,
     "start_time": "2025-04-27T01:05:40.164332",
     "status": "completed"
    },
    "tags": []
   },
   "outputs": [
    {
     "name": "stdout",
     "output_type": "stream",
     "text": [
      "<class 'pandas.core.frame.DataFrame'>\n",
      "RangeIndex: 25263 entries, 0 to 25262\n",
      "Data columns (total 9 columns):\n",
      " #   Column            Non-Null Count  Dtype \n",
      "---  ------            --------------  ----- \n",
      " 0   RecordID          25263 non-null  int64 \n",
      " 1   Offense           25263 non-null  object\n",
      " 2   IncidentID        25263 non-null  object\n",
      " 3   BlockNumber       25263 non-null  object\n",
      " 4   StreetName        25263 non-null  object\n",
      " 5   Agency            25263 non-null  object\n",
      " 6   DateReported      25263 non-null  int64 \n",
      " 7   HourReported      25263 non-null  object\n",
      " 8   ReportingOfficer  25246 non-null  object\n",
      "dtypes: int64(2), object(7)\n",
      "memory usage: 1.7+ MB\n"
     ]
    }
   ],
   "source": [
    "df.info()"
   ]
  },
  {
   "cell_type": "markdown",
   "id": "f57f2d4b",
   "metadata": {
    "papermill": {
     "duration": 0.005548,
     "end_time": "2025-04-27T01:05:40.199304",
     "exception": false,
     "start_time": "2025-04-27T01:05:40.193756",
     "status": "completed"
    },
    "tags": []
   },
   "source": [
    "### Missing Values"
   ]
  },
  {
   "cell_type": "code",
   "execution_count": 6,
   "id": "348365f7",
   "metadata": {
    "execution": {
     "iopub.execute_input": "2025-04-27T01:05:40.211495Z",
     "iopub.status.busy": "2025-04-27T01:05:40.211116Z",
     "iopub.status.idle": "2025-04-27T01:05:40.226294Z",
     "shell.execute_reply": "2025-04-27T01:05:40.225747Z"
    },
    "papermill": {
     "duration": 0.022437,
     "end_time": "2025-04-27T01:05:40.227319",
     "exception": false,
     "start_time": "2025-04-27T01:05:40.204882",
     "status": "completed"
    },
    "tags": []
   },
   "outputs": [
    {
     "name": "stdout",
     "output_type": "stream",
     "text": [
      "                  MissingCount  MissingPercentage\n",
      "RecordID                     0               0.00\n",
      "Offense                      0               0.00\n",
      "IncidentID                   0               0.00\n",
      "BlockNumber                  0               0.00\n",
      "StreetName                   0               0.00\n",
      "Agency                       0               0.00\n",
      "DateReported                 0               0.00\n",
      "HourReported                 0               0.00\n",
      "ReportingOfficer            17               0.07\n"
     ]
    }
   ],
   "source": [
    "def missing_percentage(df):\n",
    "    \"\"\"\n",
    "    Returns a DataFrame with the count and percentage of missing values for each column.\n",
    "    \n",
    "    Parameters:\n",
    "        df (pd.DataFrame): The input DataFrame.\n",
    "    \n",
    "    Returns:\n",
    "        pd.DataFrame: A DataFrame with columns 'MissingCount' and 'MissingPercentage'.\n",
    "    \"\"\"\n",
    "    total_rows = len(df)\n",
    "    missing_count = df.isnull().sum()\n",
    "    missing_percent = (missing_count / total_rows) * 100\n",
    "    \n",
    "    result = pd.DataFrame({\n",
    "        'MissingCount': missing_count,\n",
    "        'MissingPercentage': missing_percent.round(2)\n",
    "    })\n",
    "    \n",
    "    return result\n",
    "\n",
    "# Example usage:\n",
    "missing_info = missing_percentage(df)\n",
    "print(missing_info)\n"
   ]
  },
  {
   "cell_type": "markdown",
   "id": "3078fdee",
   "metadata": {
    "papermill": {
     "duration": 0.005783,
     "end_time": "2025-04-27T01:05:40.238860",
     "exception": false,
     "start_time": "2025-04-27T01:05:40.233077",
     "status": "completed"
    },
    "tags": []
   },
   "source": [
    "## Data Preparation"
   ]
  },
  {
   "cell_type": "markdown",
   "id": "8a8a4506",
   "metadata": {
    "papermill": {
     "duration": 0.005569,
     "end_time": "2025-04-27T01:05:40.249950",
     "exception": false,
     "start_time": "2025-04-27T01:05:40.244381",
     "status": "completed"
    },
    "tags": []
   },
   "source": [
    "### Data Conversion"
   ]
  },
  {
   "cell_type": "code",
   "execution_count": 7,
   "id": "a6f7a8bc",
   "metadata": {
    "execution": {
     "iopub.execute_input": "2025-04-27T01:05:40.262184Z",
     "iopub.status.busy": "2025-04-27T01:05:40.261718Z",
     "iopub.status.idle": "2025-04-27T01:05:40.633469Z",
     "shell.execute_reply": "2025-04-27T01:05:40.632797Z"
    },
    "papermill": {
     "duration": 0.379007,
     "end_time": "2025-04-27T01:05:40.634480",
     "exception": false,
     "start_time": "2025-04-27T01:05:40.255473",
     "status": "completed"
    },
    "tags": []
   },
   "outputs": [
    {
     "data": {
      "text/html": [
       "<div>\n",
       "<style scoped>\n",
       "    .dataframe tbody tr th:only-of-type {\n",
       "        vertical-align: middle;\n",
       "    }\n",
       "\n",
       "    .dataframe tbody tr th {\n",
       "        vertical-align: top;\n",
       "    }\n",
       "\n",
       "    .dataframe thead th {\n",
       "        text-align: right;\n",
       "    }\n",
       "</style>\n",
       "<table border=\"1\" class=\"dataframe\">\n",
       "  <thead>\n",
       "    <tr style=\"text-align: right;\">\n",
       "      <th></th>\n",
       "      <th>RecordID</th>\n",
       "      <th>Offense</th>\n",
       "      <th>IncidentID</th>\n",
       "      <th>BlockNumber</th>\n",
       "      <th>StreetName</th>\n",
       "      <th>Agency</th>\n",
       "      <th>HourReported</th>\n",
       "      <th>ReportingOfficer</th>\n",
       "      <th>Date</th>\n",
       "      <th>DateString</th>\n",
       "      <th>DayOfWeek</th>\n",
       "      <th>Weekend</th>\n",
       "      <th>Season</th>\n",
       "      <th>HourAMPM</th>\n",
       "      <th>TimeOfDay</th>\n",
       "    </tr>\n",
       "  </thead>\n",
       "  <tbody>\n",
       "    <tr>\n",
       "      <th>0</th>\n",
       "      <td>1</td>\n",
       "      <td>Hit and Run</td>\n",
       "      <td>202500013432</td>\n",
       "      <td>100</td>\n",
       "      <td>KENT TER</td>\n",
       "      <td>CPD</td>\n",
       "      <td>1713</td>\n",
       "      <td>Bentz, Benjamin</td>\n",
       "      <td>2025-04-24 17:13:57</td>\n",
       "      <td>2025-04-24 05:13:57 PM</td>\n",
       "      <td>Thursday</td>\n",
       "      <td>False</td>\n",
       "      <td>Spring</td>\n",
       "      <td>05:13 PM</td>\n",
       "      <td>Evening</td>\n",
       "    </tr>\n",
       "    <tr>\n",
       "      <th>1</th>\n",
       "      <td>2</td>\n",
       "      <td>Death Investigation - DOA</td>\n",
       "      <td>202500013402</td>\n",
       "      <td>1600</td>\n",
       "      <td>RICKY RD</td>\n",
       "      <td>CPD</td>\n",
       "      <td>1135</td>\n",
       "      <td>Burnett, James</td>\n",
       "      <td>2025-04-24 11:35:08</td>\n",
       "      <td>2025-04-24 11:35:08 AM</td>\n",
       "      <td>Thursday</td>\n",
       "      <td>False</td>\n",
       "      <td>Spring</td>\n",
       "      <td>11:35 AM</td>\n",
       "      <td>Morning</td>\n",
       "    </tr>\n",
       "    <tr>\n",
       "      <th>2</th>\n",
       "      <td>3</td>\n",
       "      <td>Larceny - All Other</td>\n",
       "      <td>202500013313</td>\n",
       "      <td>1000</td>\n",
       "      <td>CHERRY AVE</td>\n",
       "      <td>CPD</td>\n",
       "      <td>1647</td>\n",
       "      <td>Bentz, Benjamin</td>\n",
       "      <td>2025-04-23 16:47:31</td>\n",
       "      <td>2025-04-23 04:47:31 PM</td>\n",
       "      <td>Wednesday</td>\n",
       "      <td>False</td>\n",
       "      <td>Spring</td>\n",
       "      <td>04:47 PM</td>\n",
       "      <td>Afternoon</td>\n",
       "    </tr>\n",
       "    <tr>\n",
       "      <th>3</th>\n",
       "      <td>4</td>\n",
       "      <td>Lost/FoundProperty</td>\n",
       "      <td>202500013306</td>\n",
       "      <td>400</td>\n",
       "      <td>E MAIN ST</td>\n",
       "      <td>CPD</td>\n",
       "      <td>1639</td>\n",
       "      <td>Abdelgayed, Adam</td>\n",
       "      <td>2025-04-23 16:39:39</td>\n",
       "      <td>2025-04-23 04:39:39 PM</td>\n",
       "      <td>Wednesday</td>\n",
       "      <td>False</td>\n",
       "      <td>Spring</td>\n",
       "      <td>04:39 PM</td>\n",
       "      <td>Afternoon</td>\n",
       "    </tr>\n",
       "    <tr>\n",
       "      <th>4</th>\n",
       "      <td>5</td>\n",
       "      <td>Larceny - All Other</td>\n",
       "      <td>202500013314</td>\n",
       "      <td>1500</td>\n",
       "      <td>UNIVERSITY AVE</td>\n",
       "      <td>CPD</td>\n",
       "      <td>1532</td>\n",
       "      <td>Shiflett, Ethan</td>\n",
       "      <td>2025-04-23 15:32:34</td>\n",
       "      <td>2025-04-23 03:32:34 PM</td>\n",
       "      <td>Wednesday</td>\n",
       "      <td>False</td>\n",
       "      <td>Spring</td>\n",
       "      <td>03:32 PM</td>\n",
       "      <td>Afternoon</td>\n",
       "    </tr>\n",
       "  </tbody>\n",
       "</table>\n",
       "</div>"
      ],
      "text/plain": [
       "   RecordID                    Offense    IncidentID BlockNumber  \\\n",
       "0         1                Hit and Run  202500013432         100   \n",
       "1         2  Death Investigation - DOA  202500013402        1600   \n",
       "2         3        Larceny - All Other  202500013313        1000   \n",
       "3         4         Lost/FoundProperty  202500013306         400   \n",
       "4         5        Larceny - All Other  202500013314        1500   \n",
       "\n",
       "       StreetName Agency HourReported  ReportingOfficer                Date  \\\n",
       "0        KENT TER    CPD         1713  Bentz, Benjamin  2025-04-24 17:13:57   \n",
       "1        RICKY RD    CPD         1135    Burnett, James 2025-04-24 11:35:08   \n",
       "2      CHERRY AVE    CPD         1647  Bentz, Benjamin  2025-04-23 16:47:31   \n",
       "3       E MAIN ST    CPD         1639  Abdelgayed, Adam 2025-04-23 16:39:39   \n",
       "4  UNIVERSITY AVE    CPD         1532  Shiflett, Ethan  2025-04-23 15:32:34   \n",
       "\n",
       "               DateString  DayOfWeek  Weekend  Season  HourAMPM  TimeOfDay  \n",
       "0  2025-04-24 05:13:57 PM   Thursday    False  Spring  05:13 PM    Evening  \n",
       "1  2025-04-24 11:35:08 AM   Thursday    False  Spring  11:35 AM    Morning  \n",
       "2  2025-04-23 04:47:31 PM  Wednesday    False  Spring  04:47 PM  Afternoon  \n",
       "3  2025-04-23 04:39:39 PM  Wednesday    False  Spring  04:39 PM  Afternoon  \n",
       "4  2025-04-23 03:32:34 PM  Wednesday    False  Spring  03:32 PM  Afternoon  "
      ]
     },
     "execution_count": 7,
     "metadata": {},
     "output_type": "execute_result"
    }
   ],
   "source": [
    "def convert_and_categorize_datereported(df, col='DateReported'):\n",
    "    \"\"\"\n",
    "    Converts an epoch (in milliseconds) date column into a timezone-aware datetime,\n",
    "    converts it to Eastern Time, and then creates columns for day-of-week, weekend flag,\n",
    "    season, 12-hour formatted time, and time-of-day. Keeps both a real datetime column\n",
    "    (Date) and a string representation (DateString).\n",
    "    \"\"\"\n",
    "    import pandas as pd\n",
    "\n",
    "    # Convert the epoch timestamp to a pandas datetime object as UTC, then convert to US/Eastern.\n",
    "    df[\"DateReported_dt\"] = (\n",
    "        pd.to_datetime(df[col], unit=\"ms\", errors=\"coerce\", utc=True)\n",
    "        .dt.tz_convert(\"US/Eastern\")\n",
    "    )\n",
    "    \n",
    "    # Create a true datetime column (remove timezone if you prefer naive datetime)\n",
    "    df[\"Date\"] = df[\"DateReported_dt\"].dt.tz_localize(None)\n",
    "\n",
    "    # Optionally, create a separate string-formatted column\n",
    "    df[\"DateString\"] = df[\"DateReported_dt\"].dt.strftime(\"%Y-%m-%d %I:%M:%S %p\")\n",
    "    \n",
    "    # DayOfWeek\n",
    "    df[\"DayOfWeek\"] = df[\"DateReported_dt\"].dt.day_name()\n",
    "    \n",
    "    # Weekend\n",
    "    df[\"Weekend\"] = df[\"DayOfWeek\"].isin([\"Saturday\", \"Sunday\"])\n",
    "    \n",
    "    # Helper function to determine the season\n",
    "    def get_season(dt):\n",
    "        month = dt.month\n",
    "        day = dt.day\n",
    "        # Approximate Northern Hemisphere season boundaries:\n",
    "        if (month == 12 and day >= 21) or (month < 3) or (month == 3 and day < 20):\n",
    "            return \"Winter\"\n",
    "        elif (month == 3 and day >= 20) or (month < 6) or (month == 6 and day < 21):\n",
    "            return \"Spring\"\n",
    "        elif (month == 6 and day >= 21) or (month < 9) or (month == 9 and day < 22):\n",
    "            return \"Summer\"\n",
    "        else:\n",
    "            return \"Autumn\"\n",
    "    \n",
    "    df[\"Season\"] = df[\"DateReported_dt\"].apply(get_season)\n",
    "    \n",
    "    # 12-hour formatted time (HourAMPM)\n",
    "    df[\"HourAMPM\"] = df[\"DateReported_dt\"].dt.strftime(\"%I:%M %p\")\n",
    "    \n",
    "    # Extract hour (0-23) for time-of-day\n",
    "    df[\"HourValue\"] = df[\"DateReported_dt\"].dt.hour\n",
    "    \n",
    "    def time_of_day(hour):\n",
    "        if pd.isnull(hour):\n",
    "            return None\n",
    "        if 5 <= hour < 12:\n",
    "            return \"Morning\"\n",
    "        elif 12 <= hour < 17:\n",
    "            return \"Afternoon\"\n",
    "        elif 17 <= hour < 21:\n",
    "            return \"Evening\"\n",
    "        else:\n",
    "            return \"Night\"\n",
    "    \n",
    "    df[\"TimeOfDay\"] = df[\"HourValue\"].apply(time_of_day)\n",
    "    \n",
    "    # Drop columns you no longer need\n",
    "    df.drop(columns=[col, \"DateReported_dt\", \"HourValue\"], inplace=True)\n",
    "    \n",
    "    return df\n",
    "\n",
    "# Example usage:\n",
    "df = convert_and_categorize_datereported(df)\n",
    "df.head()\n"
   ]
  },
  {
   "cell_type": "code",
   "execution_count": 8,
   "id": "30789d25",
   "metadata": {
    "execution": {
     "iopub.execute_input": "2025-04-27T01:05:40.647826Z",
     "iopub.status.busy": "2025-04-27T01:05:40.647417Z",
     "iopub.status.idle": "2025-04-27T01:05:40.669298Z",
     "shell.execute_reply": "2025-04-27T01:05:40.668643Z"
    },
    "papermill": {
     "duration": 0.029615,
     "end_time": "2025-04-27T01:05:40.670312",
     "exception": false,
     "start_time": "2025-04-27T01:05:40.640697",
     "status": "completed"
    },
    "tags": []
   },
   "outputs": [
    {
     "name": "stdout",
     "output_type": "stream",
     "text": [
      "<class 'pandas.core.frame.DataFrame'>\n",
      "RangeIndex: 25263 entries, 0 to 25262\n",
      "Data columns (total 15 columns):\n",
      " #   Column            Non-Null Count  Dtype         \n",
      "---  ------            --------------  -----         \n",
      " 0   RecordID          25263 non-null  int64         \n",
      " 1   Offense           25263 non-null  object        \n",
      " 2   IncidentID        25263 non-null  object        \n",
      " 3   BlockNumber       25263 non-null  object        \n",
      " 4   StreetName        25263 non-null  object        \n",
      " 5   Agency            25263 non-null  object        \n",
      " 6   HourReported      25263 non-null  object        \n",
      " 7   ReportingOfficer  25246 non-null  object        \n",
      " 8   Date              25263 non-null  datetime64[ns]\n",
      " 9   DateString        25263 non-null  object        \n",
      " 10  DayOfWeek         25263 non-null  object        \n",
      " 11  Weekend           25263 non-null  bool          \n",
      " 12  Season            25263 non-null  object        \n",
      " 13  HourAMPM          25263 non-null  object        \n",
      " 14  TimeOfDay         25263 non-null  object        \n",
      "dtypes: bool(1), datetime64[ns](1), int64(1), object(12)\n",
      "memory usage: 2.7+ MB\n"
     ]
    }
   ],
   "source": [
    "df.info()"
   ]
  },
  {
   "cell_type": "markdown",
   "id": "e76d5628",
   "metadata": {
    "papermill": {
     "duration": 0.005924,
     "end_time": "2025-04-27T01:05:40.682180",
     "exception": false,
     "start_time": "2025-04-27T01:05:40.676256",
     "status": "completed"
    },
    "tags": []
   },
   "source": [
    "### Coordinates"
   ]
  },
  {
   "cell_type": "code",
   "execution_count": 9,
   "id": "57832e12",
   "metadata": {
    "execution": {
     "iopub.execute_input": "2025-04-27T01:05:40.695070Z",
     "iopub.status.busy": "2025-04-27T01:05:40.694757Z",
     "iopub.status.idle": "2025-04-27T01:05:40.736506Z",
     "shell.execute_reply": "2025-04-27T01:05:40.735945Z"
    },
    "papermill": {
     "duration": 0.049429,
     "end_time": "2025-04-27T01:05:40.737534",
     "exception": false,
     "start_time": "2025-04-27T01:05:40.688105",
     "status": "completed"
    },
    "tags": []
   },
   "outputs": [
    {
     "name": "stdout",
     "output_type": "stream",
     "text": [
      "Loaded geocode cache.\n",
      "Geocode cache updated and saved.\n"
     ]
    },
    {
     "data": {
      "text/html": [
       "<div>\n",
       "<style scoped>\n",
       "    .dataframe tbody tr th:only-of-type {\n",
       "        vertical-align: middle;\n",
       "    }\n",
       "\n",
       "    .dataframe tbody tr th {\n",
       "        vertical-align: top;\n",
       "    }\n",
       "\n",
       "    .dataframe thead th {\n",
       "        text-align: right;\n",
       "    }\n",
       "</style>\n",
       "<table border=\"1\" class=\"dataframe\">\n",
       "  <thead>\n",
       "    <tr style=\"text-align: right;\">\n",
       "      <th></th>\n",
       "      <th>RecordID</th>\n",
       "      <th>Offense</th>\n",
       "      <th>IncidentID</th>\n",
       "      <th>BlockNumber</th>\n",
       "      <th>StreetName</th>\n",
       "      <th>Agency</th>\n",
       "      <th>HourReported</th>\n",
       "      <th>ReportingOfficer</th>\n",
       "      <th>Date</th>\n",
       "      <th>DateString</th>\n",
       "      <th>DayOfWeek</th>\n",
       "      <th>Weekend</th>\n",
       "      <th>Season</th>\n",
       "      <th>HourAMPM</th>\n",
       "      <th>TimeOfDay</th>\n",
       "      <th>FullStreet</th>\n",
       "      <th>lat</th>\n",
       "      <th>lon</th>\n",
       "    </tr>\n",
       "  </thead>\n",
       "  <tbody>\n",
       "    <tr>\n",
       "      <th>0</th>\n",
       "      <td>1</td>\n",
       "      <td>Hit and Run</td>\n",
       "      <td>202500013432</td>\n",
       "      <td>100</td>\n",
       "      <td>KENT TER</td>\n",
       "      <td>CPD</td>\n",
       "      <td>1713</td>\n",
       "      <td>Bentz, Benjamin</td>\n",
       "      <td>2025-04-24 17:13:57</td>\n",
       "      <td>2025-04-24 05:13:57 PM</td>\n",
       "      <td>Thursday</td>\n",
       "      <td>False</td>\n",
       "      <td>Spring</td>\n",
       "      <td>05:13 PM</td>\n",
       "      <td>Evening</td>\n",
       "      <td>100 KENT TER</td>\n",
       "      <td>38.028400</td>\n",
       "      <td>-78.509998</td>\n",
       "    </tr>\n",
       "    <tr>\n",
       "      <th>1</th>\n",
       "      <td>2</td>\n",
       "      <td>Death Investigation - DOA</td>\n",
       "      <td>202500013402</td>\n",
       "      <td>1600</td>\n",
       "      <td>RICKY RD</td>\n",
       "      <td>CPD</td>\n",
       "      <td>1135</td>\n",
       "      <td>Burnett, James</td>\n",
       "      <td>2025-04-24 11:35:08</td>\n",
       "      <td>2025-04-24 11:35:08 AM</td>\n",
       "      <td>Thursday</td>\n",
       "      <td>False</td>\n",
       "      <td>Spring</td>\n",
       "      <td>11:35 AM</td>\n",
       "      <td>Morning</td>\n",
       "      <td>1600 RICKY RD</td>\n",
       "      <td>38.060452</td>\n",
       "      <td>-78.502089</td>\n",
       "    </tr>\n",
       "    <tr>\n",
       "      <th>2</th>\n",
       "      <td>3</td>\n",
       "      <td>Larceny - All Other</td>\n",
       "      <td>202500013313</td>\n",
       "      <td>1000</td>\n",
       "      <td>CHERRY AVE</td>\n",
       "      <td>CPD</td>\n",
       "      <td>1647</td>\n",
       "      <td>Bentz, Benjamin</td>\n",
       "      <td>2025-04-23 16:47:31</td>\n",
       "      <td>2025-04-23 04:47:31 PM</td>\n",
       "      <td>Wednesday</td>\n",
       "      <td>False</td>\n",
       "      <td>Spring</td>\n",
       "      <td>04:47 PM</td>\n",
       "      <td>Afternoon</td>\n",
       "      <td>1000 CHERRY AVE</td>\n",
       "      <td>38.027017</td>\n",
       "      <td>-78.497917</td>\n",
       "    </tr>\n",
       "    <tr>\n",
       "      <th>3</th>\n",
       "      <td>4</td>\n",
       "      <td>Lost/FoundProperty</td>\n",
       "      <td>202500013306</td>\n",
       "      <td>400</td>\n",
       "      <td>E MAIN ST</td>\n",
       "      <td>CPD</td>\n",
       "      <td>1639</td>\n",
       "      <td>Abdelgayed, Adam</td>\n",
       "      <td>2025-04-23 16:39:39</td>\n",
       "      <td>2025-04-23 04:39:39 PM</td>\n",
       "      <td>Wednesday</td>\n",
       "      <td>False</td>\n",
       "      <td>Spring</td>\n",
       "      <td>04:39 PM</td>\n",
       "      <td>Afternoon</td>\n",
       "      <td>400 E MAIN ST</td>\n",
       "      <td>38.029770</td>\n",
       "      <td>-78.479257</td>\n",
       "    </tr>\n",
       "    <tr>\n",
       "      <th>4</th>\n",
       "      <td>5</td>\n",
       "      <td>Larceny - All Other</td>\n",
       "      <td>202500013314</td>\n",
       "      <td>1500</td>\n",
       "      <td>UNIVERSITY AVE</td>\n",
       "      <td>CPD</td>\n",
       "      <td>1532</td>\n",
       "      <td>Shiflett, Ethan</td>\n",
       "      <td>2025-04-23 15:32:34</td>\n",
       "      <td>2025-04-23 03:32:34 PM</td>\n",
       "      <td>Wednesday</td>\n",
       "      <td>False</td>\n",
       "      <td>Spring</td>\n",
       "      <td>03:32 PM</td>\n",
       "      <td>Afternoon</td>\n",
       "      <td>1500 UNIVERSITY AVE</td>\n",
       "      <td>38.034578</td>\n",
       "      <td>-78.500340</td>\n",
       "    </tr>\n",
       "  </tbody>\n",
       "</table>\n",
       "</div>"
      ],
      "text/plain": [
       "   RecordID                    Offense    IncidentID BlockNumber  \\\n",
       "0         1                Hit and Run  202500013432         100   \n",
       "1         2  Death Investigation - DOA  202500013402        1600   \n",
       "2         3        Larceny - All Other  202500013313        1000   \n",
       "3         4         Lost/FoundProperty  202500013306         400   \n",
       "4         5        Larceny - All Other  202500013314        1500   \n",
       "\n",
       "       StreetName Agency HourReported  ReportingOfficer                Date  \\\n",
       "0        KENT TER    CPD         1713  Bentz, Benjamin  2025-04-24 17:13:57   \n",
       "1        RICKY RD    CPD         1135    Burnett, James 2025-04-24 11:35:08   \n",
       "2      CHERRY AVE    CPD         1647  Bentz, Benjamin  2025-04-23 16:47:31   \n",
       "3       E MAIN ST    CPD         1639  Abdelgayed, Adam 2025-04-23 16:39:39   \n",
       "4  UNIVERSITY AVE    CPD         1532  Shiflett, Ethan  2025-04-23 15:32:34   \n",
       "\n",
       "               DateString  DayOfWeek  Weekend  Season  HourAMPM  TimeOfDay  \\\n",
       "0  2025-04-24 05:13:57 PM   Thursday    False  Spring  05:13 PM    Evening   \n",
       "1  2025-04-24 11:35:08 AM   Thursday    False  Spring  11:35 AM    Morning   \n",
       "2  2025-04-23 04:47:31 PM  Wednesday    False  Spring  04:47 PM  Afternoon   \n",
       "3  2025-04-23 04:39:39 PM  Wednesday    False  Spring  04:39 PM  Afternoon   \n",
       "4  2025-04-23 03:32:34 PM  Wednesday    False  Spring  03:32 PM  Afternoon   \n",
       "\n",
       "            FullStreet        lat        lon  \n",
       "0         100 KENT TER  38.028400 -78.509998  \n",
       "1        1600 RICKY RD  38.060452 -78.502089  \n",
       "2      1000 CHERRY AVE  38.027017 -78.497917  \n",
       "3        400 E MAIN ST  38.029770 -78.479257  \n",
       "4  1500 UNIVERSITY AVE  38.034578 -78.500340  "
      ]
     },
     "execution_count": 9,
     "metadata": {},
     "output_type": "execute_result"
    }
   ],
   "source": [
    "# Combine BlockNumber and StreetName into a full address string\n",
    "df['FullStreet'] = df['BlockNumber'].astype(str) + \" \" + df['StreetName']\n",
    "\n",
    "# --- Step 1: Setup the Google Maps Client and Cache ---\n",
    "gmaps = googlemaps.Client(key=GOOGLE_API_KEY)\n",
    "\n",
    "# Try to load cached geocoding results if available.\n",
    "try:\n",
    "    with open(\"geocode_cache_google.pkl\", \"rb\") as f:\n",
    "        street_coords = pickle.load(f)\n",
    "    print(\"Loaded geocode cache.\")\n",
    "except FileNotFoundError:\n",
    "    street_coords = {}\n",
    "    print(\"No cache found; starting fresh.\")\n",
    "\n",
    "def geocode_address(address):\n",
    "    try:\n",
    "        # Append city and state to help geocoding\n",
    "        result = gmaps.geocode(f\"{address}, Charlottesville, VA\")\n",
    "        if result:\n",
    "            lat = result[0]['geometry']['location']['lat']\n",
    "            lon = result[0]['geometry']['location']['lng']\n",
    "            return lat, lon\n",
    "    except Exception as e:\n",
    "        print(f\"Error geocoding {address}: {e}\")\n",
    "    return None, None\n",
    "\n",
    "# --- Step 2: Geocode Only New Addresses ---\n",
    "unique_addresses = df['FullStreet'].unique()\n",
    "for address in unique_addresses:\n",
    "    if address not in street_coords:\n",
    "        lat, lon = geocode_address(address)\n",
    "        street_coords[address] = (lat, lon)\n",
    "        print(f\"Geocoded {address}: {lat}, {lon}\")\n",
    "\n",
    "# Save the updated cache to disk.\n",
    "with open(\"geocode_cache_google.pkl\", \"wb\") as f:\n",
    "    pickle.dump(street_coords, f)\n",
    "    print(\"Geocode cache updated and saved.\")\n",
    "\n",
    "# --- Step 3: Map Coordinates Back to DataFrame ---\n",
    "df['lat'] = df['FullStreet'].map(lambda s: street_coords.get(s, (None, None))[0])\n",
    "df['lon'] = df['FullStreet'].map(lambda s: street_coords.get(s, (None, None))[1])\n",
    "\n",
    "df.head()"
   ]
  },
  {
   "cell_type": "markdown",
   "id": "dc7bb72e",
   "metadata": {
    "papermill": {
     "duration": 0.006313,
     "end_time": "2025-04-27T01:05:40.750294",
     "exception": false,
     "start_time": "2025-04-27T01:05:40.743981",
     "status": "completed"
    },
    "tags": []
   },
   "source": [
    "### Neighborhood"
   ]
  },
  {
   "cell_type": "code",
   "execution_count": 10,
   "id": "7ffe974a",
   "metadata": {
    "execution": {
     "iopub.execute_input": "2025-04-27T01:05:40.763732Z",
     "iopub.status.busy": "2025-04-27T01:05:40.763270Z",
     "iopub.status.idle": "2025-04-27T01:05:41.021903Z",
     "shell.execute_reply": "2025-04-27T01:05:41.021231Z"
    },
    "papermill": {
     "duration": 0.266497,
     "end_time": "2025-04-27T01:05:41.022960",
     "exception": false,
     "start_time": "2025-04-27T01:05:40.756463",
     "status": "completed"
    },
    "tags": []
   },
   "outputs": [
    {
     "name": "stdout",
     "output_type": "stream",
     "text": [
      "Loaded neighborhood cache.\n"
     ]
    },
    {
     "data": {
      "text/html": [
       "<div>\n",
       "<style scoped>\n",
       "    .dataframe tbody tr th:only-of-type {\n",
       "        vertical-align: middle;\n",
       "    }\n",
       "\n",
       "    .dataframe tbody tr th {\n",
       "        vertical-align: top;\n",
       "    }\n",
       "\n",
       "    .dataframe thead th {\n",
       "        text-align: right;\n",
       "    }\n",
       "</style>\n",
       "<table border=\"1\" class=\"dataframe\">\n",
       "  <thead>\n",
       "    <tr style=\"text-align: right;\">\n",
       "      <th></th>\n",
       "      <th>RecordID</th>\n",
       "      <th>Offense</th>\n",
       "      <th>IncidentID</th>\n",
       "      <th>BlockNumber</th>\n",
       "      <th>StreetName</th>\n",
       "      <th>Agency</th>\n",
       "      <th>HourReported</th>\n",
       "      <th>ReportingOfficer</th>\n",
       "      <th>Date</th>\n",
       "      <th>DateString</th>\n",
       "      <th>DayOfWeek</th>\n",
       "      <th>Weekend</th>\n",
       "      <th>Season</th>\n",
       "      <th>HourAMPM</th>\n",
       "      <th>TimeOfDay</th>\n",
       "      <th>FullStreet</th>\n",
       "      <th>lat</th>\n",
       "      <th>lon</th>\n",
       "      <th>neighborhood</th>\n",
       "    </tr>\n",
       "  </thead>\n",
       "  <tbody>\n",
       "    <tr>\n",
       "      <th>0</th>\n",
       "      <td>1</td>\n",
       "      <td>Hit and Run</td>\n",
       "      <td>202500013432</td>\n",
       "      <td>100</td>\n",
       "      <td>KENT TER</td>\n",
       "      <td>CPD</td>\n",
       "      <td>1713</td>\n",
       "      <td>Bentz, Benjamin</td>\n",
       "      <td>2025-04-24 17:13:57</td>\n",
       "      <td>2025-04-24 05:13:57 PM</td>\n",
       "      <td>Thursday</td>\n",
       "      <td>False</td>\n",
       "      <td>Spring</td>\n",
       "      <td>05:13 PM</td>\n",
       "      <td>Evening</td>\n",
       "      <td>100 KENT TER</td>\n",
       "      <td>38.028400</td>\n",
       "      <td>-78.509998</td>\n",
       "      <td>Jefferson Park Avenue</td>\n",
       "    </tr>\n",
       "    <tr>\n",
       "      <th>1</th>\n",
       "      <td>2</td>\n",
       "      <td>Death Investigation - DOA</td>\n",
       "      <td>202500013402</td>\n",
       "      <td>1600</td>\n",
       "      <td>RICKY RD</td>\n",
       "      <td>CPD</td>\n",
       "      <td>1135</td>\n",
       "      <td>Burnett, James</td>\n",
       "      <td>2025-04-24 11:35:08</td>\n",
       "      <td>2025-04-24 11:35:08 AM</td>\n",
       "      <td>Thursday</td>\n",
       "      <td>False</td>\n",
       "      <td>Spring</td>\n",
       "      <td>11:35 AM</td>\n",
       "      <td>Morning</td>\n",
       "      <td>1600 RICKY RD</td>\n",
       "      <td>38.060452</td>\n",
       "      <td>-78.502089</td>\n",
       "      <td>The Meadows</td>\n",
       "    </tr>\n",
       "    <tr>\n",
       "      <th>2</th>\n",
       "      <td>3</td>\n",
       "      <td>Larceny - All Other</td>\n",
       "      <td>202500013313</td>\n",
       "      <td>1000</td>\n",
       "      <td>CHERRY AVE</td>\n",
       "      <td>CPD</td>\n",
       "      <td>1647</td>\n",
       "      <td>Bentz, Benjamin</td>\n",
       "      <td>2025-04-23 16:47:31</td>\n",
       "      <td>2025-04-23 04:47:31 PM</td>\n",
       "      <td>Wednesday</td>\n",
       "      <td>False</td>\n",
       "      <td>Spring</td>\n",
       "      <td>04:47 PM</td>\n",
       "      <td>Afternoon</td>\n",
       "      <td>1000 CHERRY AVE</td>\n",
       "      <td>38.027017</td>\n",
       "      <td>-78.497917</td>\n",
       "      <td>Fifeville</td>\n",
       "    </tr>\n",
       "    <tr>\n",
       "      <th>3</th>\n",
       "      <td>4</td>\n",
       "      <td>Lost/FoundProperty</td>\n",
       "      <td>202500013306</td>\n",
       "      <td>400</td>\n",
       "      <td>E MAIN ST</td>\n",
       "      <td>CPD</td>\n",
       "      <td>1639</td>\n",
       "      <td>Abdelgayed, Adam</td>\n",
       "      <td>2025-04-23 16:39:39</td>\n",
       "      <td>2025-04-23 04:39:39 PM</td>\n",
       "      <td>Wednesday</td>\n",
       "      <td>False</td>\n",
       "      <td>Spring</td>\n",
       "      <td>04:39 PM</td>\n",
       "      <td>Afternoon</td>\n",
       "      <td>400 E MAIN ST</td>\n",
       "      <td>38.029770</td>\n",
       "      <td>-78.479257</td>\n",
       "      <td>Downtown Mall</td>\n",
       "    </tr>\n",
       "    <tr>\n",
       "      <th>4</th>\n",
       "      <td>5</td>\n",
       "      <td>Larceny - All Other</td>\n",
       "      <td>202500013314</td>\n",
       "      <td>1500</td>\n",
       "      <td>UNIVERSITY AVE</td>\n",
       "      <td>CPD</td>\n",
       "      <td>1532</td>\n",
       "      <td>Shiflett, Ethan</td>\n",
       "      <td>2025-04-23 15:32:34</td>\n",
       "      <td>2025-04-23 03:32:34 PM</td>\n",
       "      <td>Wednesday</td>\n",
       "      <td>False</td>\n",
       "      <td>Spring</td>\n",
       "      <td>03:32 PM</td>\n",
       "      <td>Afternoon</td>\n",
       "      <td>1500 UNIVERSITY AVE</td>\n",
       "      <td>38.034578</td>\n",
       "      <td>-78.500340</td>\n",
       "      <td>Venable</td>\n",
       "    </tr>\n",
       "  </tbody>\n",
       "</table>\n",
       "</div>"
      ],
      "text/plain": [
       "   RecordID                    Offense    IncidentID BlockNumber  \\\n",
       "0         1                Hit and Run  202500013432         100   \n",
       "1         2  Death Investigation - DOA  202500013402        1600   \n",
       "2         3        Larceny - All Other  202500013313        1000   \n",
       "3         4         Lost/FoundProperty  202500013306         400   \n",
       "4         5        Larceny - All Other  202500013314        1500   \n",
       "\n",
       "       StreetName Agency HourReported  ReportingOfficer                Date  \\\n",
       "0        KENT TER    CPD         1713  Bentz, Benjamin  2025-04-24 17:13:57   \n",
       "1        RICKY RD    CPD         1135    Burnett, James 2025-04-24 11:35:08   \n",
       "2      CHERRY AVE    CPD         1647  Bentz, Benjamin  2025-04-23 16:47:31   \n",
       "3       E MAIN ST    CPD         1639  Abdelgayed, Adam 2025-04-23 16:39:39   \n",
       "4  UNIVERSITY AVE    CPD         1532  Shiflett, Ethan  2025-04-23 15:32:34   \n",
       "\n",
       "               DateString  DayOfWeek  Weekend  Season  HourAMPM  TimeOfDay  \\\n",
       "0  2025-04-24 05:13:57 PM   Thursday    False  Spring  05:13 PM    Evening   \n",
       "1  2025-04-24 11:35:08 AM   Thursday    False  Spring  11:35 AM    Morning   \n",
       "2  2025-04-23 04:47:31 PM  Wednesday    False  Spring  04:47 PM  Afternoon   \n",
       "3  2025-04-23 04:39:39 PM  Wednesday    False  Spring  04:39 PM  Afternoon   \n",
       "4  2025-04-23 03:32:34 PM  Wednesday    False  Spring  03:32 PM  Afternoon   \n",
       "\n",
       "            FullStreet        lat        lon           neighborhood  \n",
       "0         100 KENT TER  38.028400 -78.509998  Jefferson Park Avenue  \n",
       "1        1600 RICKY RD  38.060452 -78.502089            The Meadows  \n",
       "2      1000 CHERRY AVE  38.027017 -78.497917              Fifeville  \n",
       "3        400 E MAIN ST  38.029770 -78.479257          Downtown Mall  \n",
       "4  1500 UNIVERSITY AVE  38.034578 -78.500340                Venable  "
      ]
     },
     "execution_count": 10,
     "metadata": {},
     "output_type": "execute_result"
    }
   ],
   "source": [
    "# Initialize the Google Maps client.\n",
    "gmaps = googlemaps.Client(key=GOOGLE_API_KEY)\n",
    "\n",
    "# Try to load a persistent neighborhood cache if available.\n",
    "try:\n",
    "    with open(\"neighborhood_cache.pkl\", \"rb\") as f:\n",
    "        neighborhood_cache = pickle.load(f)\n",
    "    print(\"Loaded neighborhood cache.\")\n",
    "except FileNotFoundError:\n",
    "    neighborhood_cache = {}\n",
    "    print(\"No neighborhood cache found; starting fresh.\")\n",
    "\n",
    "def get_neighborhood(lat, lon):\n",
    "    \"\"\"\n",
    "    Reverse geocodes a latitude and longitude to retrieve the neighborhood.\n",
    "    Caches results to speed up subsequent lookups.\n",
    "    \"\"\"\n",
    "    key = (lat, lon)\n",
    "    if key in neighborhood_cache:\n",
    "        return neighborhood_cache[key]\n",
    "    \n",
    "    try:\n",
    "        result = gmaps.reverse_geocode((lat, lon))\n",
    "        if result:\n",
    "            # Look for the 'neighborhood' component in the first result.\n",
    "            for component in result[0]['address_components']:\n",
    "                if 'neighborhood' in component['types']:\n",
    "                    neighborhood = component['long_name']\n",
    "                    neighborhood_cache[key] = neighborhood\n",
    "                    return neighborhood\n",
    "            # If no neighborhood is found, return \"N/A\"\n",
    "            neighborhood_cache[key] = \"N/A\"\n",
    "            return \"N/A\"\n",
    "    except Exception as e:\n",
    "        print(f\"Error getting neighborhood for {lat}, {lon}: {e}\")\n",
    "        return \"N/A\"\n",
    "    \n",
    "    # Pause to respect usage limits.\n",
    "    time.sleep(1)\n",
    "\n",
    "# Example usage: Apply to your DataFrame 'df' that already has 'lat' and 'lon' columns.\n",
    "df['neighborhood'] = df.apply(lambda row: get_neighborhood(row['lat'], row['lon']), axis=1)\n",
    "\n",
    "# Save the updated neighborhood cache.\n",
    "with open(\"neighborhood_cache.pkl\", \"wb\") as f:\n",
    "    pickle.dump(neighborhood_cache, f)\n",
    "\n",
    "df.head()\n"
   ]
  },
  {
   "cell_type": "markdown",
   "id": "cd0d7bd9",
   "metadata": {
    "papermill": {
     "duration": 0.006479,
     "end_time": "2025-04-27T01:05:41.036161",
     "exception": false,
     "start_time": "2025-04-27T01:05:41.029682",
     "status": "completed"
    },
    "tags": []
   },
   "source": [
    "### Zip"
   ]
  },
  {
   "cell_type": "code",
   "execution_count": 11,
   "id": "019febf4",
   "metadata": {
    "execution": {
     "iopub.execute_input": "2025-04-27T01:05:41.050231Z",
     "iopub.status.busy": "2025-04-27T01:05:41.049902Z",
     "iopub.status.idle": "2025-04-27T01:05:41.290379Z",
     "shell.execute_reply": "2025-04-27T01:05:41.289735Z"
    },
    "papermill": {
     "duration": 0.248749,
     "end_time": "2025-04-27T01:05:41.291480",
     "exception": false,
     "start_time": "2025-04-27T01:05:41.042731",
     "status": "completed"
    },
    "tags": []
   },
   "outputs": [
    {
     "name": "stdout",
     "output_type": "stream",
     "text": [
      "Loaded zip cache.\n"
     ]
    },
    {
     "data": {
      "text/html": [
       "<div>\n",
       "<style scoped>\n",
       "    .dataframe tbody tr th:only-of-type {\n",
       "        vertical-align: middle;\n",
       "    }\n",
       "\n",
       "    .dataframe tbody tr th {\n",
       "        vertical-align: top;\n",
       "    }\n",
       "\n",
       "    .dataframe thead th {\n",
       "        text-align: right;\n",
       "    }\n",
       "</style>\n",
       "<table border=\"1\" class=\"dataframe\">\n",
       "  <thead>\n",
       "    <tr style=\"text-align: right;\">\n",
       "      <th></th>\n",
       "      <th>RecordID</th>\n",
       "      <th>Offense</th>\n",
       "      <th>IncidentID</th>\n",
       "      <th>BlockNumber</th>\n",
       "      <th>StreetName</th>\n",
       "      <th>Agency</th>\n",
       "      <th>HourReported</th>\n",
       "      <th>ReportingOfficer</th>\n",
       "      <th>Date</th>\n",
       "      <th>DateString</th>\n",
       "      <th>DayOfWeek</th>\n",
       "      <th>Weekend</th>\n",
       "      <th>Season</th>\n",
       "      <th>HourAMPM</th>\n",
       "      <th>TimeOfDay</th>\n",
       "      <th>FullStreet</th>\n",
       "      <th>lat</th>\n",
       "      <th>lon</th>\n",
       "      <th>neighborhood</th>\n",
       "      <th>zip</th>\n",
       "    </tr>\n",
       "  </thead>\n",
       "  <tbody>\n",
       "    <tr>\n",
       "      <th>0</th>\n",
       "      <td>1</td>\n",
       "      <td>Hit and Run</td>\n",
       "      <td>202500013432</td>\n",
       "      <td>100</td>\n",
       "      <td>KENT TER</td>\n",
       "      <td>CPD</td>\n",
       "      <td>1713</td>\n",
       "      <td>Bentz, Benjamin</td>\n",
       "      <td>2025-04-24 17:13:57</td>\n",
       "      <td>2025-04-24 05:13:57 PM</td>\n",
       "      <td>Thursday</td>\n",
       "      <td>False</td>\n",
       "      <td>Spring</td>\n",
       "      <td>05:13 PM</td>\n",
       "      <td>Evening</td>\n",
       "      <td>100 KENT TER</td>\n",
       "      <td>38.028400</td>\n",
       "      <td>-78.509998</td>\n",
       "      <td>Jefferson Park Avenue</td>\n",
       "      <td>22903</td>\n",
       "    </tr>\n",
       "    <tr>\n",
       "      <th>1</th>\n",
       "      <td>2</td>\n",
       "      <td>Death Investigation - DOA</td>\n",
       "      <td>202500013402</td>\n",
       "      <td>1600</td>\n",
       "      <td>RICKY RD</td>\n",
       "      <td>CPD</td>\n",
       "      <td>1135</td>\n",
       "      <td>Burnett, James</td>\n",
       "      <td>2025-04-24 11:35:08</td>\n",
       "      <td>2025-04-24 11:35:08 AM</td>\n",
       "      <td>Thursday</td>\n",
       "      <td>False</td>\n",
       "      <td>Spring</td>\n",
       "      <td>11:35 AM</td>\n",
       "      <td>Morning</td>\n",
       "      <td>1600 RICKY RD</td>\n",
       "      <td>38.060452</td>\n",
       "      <td>-78.502089</td>\n",
       "      <td>The Meadows</td>\n",
       "      <td>22901</td>\n",
       "    </tr>\n",
       "    <tr>\n",
       "      <th>2</th>\n",
       "      <td>3</td>\n",
       "      <td>Larceny - All Other</td>\n",
       "      <td>202500013313</td>\n",
       "      <td>1000</td>\n",
       "      <td>CHERRY AVE</td>\n",
       "      <td>CPD</td>\n",
       "      <td>1647</td>\n",
       "      <td>Bentz, Benjamin</td>\n",
       "      <td>2025-04-23 16:47:31</td>\n",
       "      <td>2025-04-23 04:47:31 PM</td>\n",
       "      <td>Wednesday</td>\n",
       "      <td>False</td>\n",
       "      <td>Spring</td>\n",
       "      <td>04:47 PM</td>\n",
       "      <td>Afternoon</td>\n",
       "      <td>1000 CHERRY AVE</td>\n",
       "      <td>38.027017</td>\n",
       "      <td>-78.497917</td>\n",
       "      <td>Fifeville</td>\n",
       "      <td>22903</td>\n",
       "    </tr>\n",
       "    <tr>\n",
       "      <th>3</th>\n",
       "      <td>4</td>\n",
       "      <td>Lost/FoundProperty</td>\n",
       "      <td>202500013306</td>\n",
       "      <td>400</td>\n",
       "      <td>E MAIN ST</td>\n",
       "      <td>CPD</td>\n",
       "      <td>1639</td>\n",
       "      <td>Abdelgayed, Adam</td>\n",
       "      <td>2025-04-23 16:39:39</td>\n",
       "      <td>2025-04-23 04:39:39 PM</td>\n",
       "      <td>Wednesday</td>\n",
       "      <td>False</td>\n",
       "      <td>Spring</td>\n",
       "      <td>04:39 PM</td>\n",
       "      <td>Afternoon</td>\n",
       "      <td>400 E MAIN ST</td>\n",
       "      <td>38.029770</td>\n",
       "      <td>-78.479257</td>\n",
       "      <td>Downtown Mall</td>\n",
       "      <td>22902</td>\n",
       "    </tr>\n",
       "    <tr>\n",
       "      <th>4</th>\n",
       "      <td>5</td>\n",
       "      <td>Larceny - All Other</td>\n",
       "      <td>202500013314</td>\n",
       "      <td>1500</td>\n",
       "      <td>UNIVERSITY AVE</td>\n",
       "      <td>CPD</td>\n",
       "      <td>1532</td>\n",
       "      <td>Shiflett, Ethan</td>\n",
       "      <td>2025-04-23 15:32:34</td>\n",
       "      <td>2025-04-23 03:32:34 PM</td>\n",
       "      <td>Wednesday</td>\n",
       "      <td>False</td>\n",
       "      <td>Spring</td>\n",
       "      <td>03:32 PM</td>\n",
       "      <td>Afternoon</td>\n",
       "      <td>1500 UNIVERSITY AVE</td>\n",
       "      <td>38.034578</td>\n",
       "      <td>-78.500340</td>\n",
       "      <td>Venable</td>\n",
       "      <td>22908</td>\n",
       "    </tr>\n",
       "  </tbody>\n",
       "</table>\n",
       "</div>"
      ],
      "text/plain": [
       "   RecordID                    Offense    IncidentID BlockNumber  \\\n",
       "0         1                Hit and Run  202500013432         100   \n",
       "1         2  Death Investigation - DOA  202500013402        1600   \n",
       "2         3        Larceny - All Other  202500013313        1000   \n",
       "3         4         Lost/FoundProperty  202500013306         400   \n",
       "4         5        Larceny - All Other  202500013314        1500   \n",
       "\n",
       "       StreetName Agency HourReported  ReportingOfficer                Date  \\\n",
       "0        KENT TER    CPD         1713  Bentz, Benjamin  2025-04-24 17:13:57   \n",
       "1        RICKY RD    CPD         1135    Burnett, James 2025-04-24 11:35:08   \n",
       "2      CHERRY AVE    CPD         1647  Bentz, Benjamin  2025-04-23 16:47:31   \n",
       "3       E MAIN ST    CPD         1639  Abdelgayed, Adam 2025-04-23 16:39:39   \n",
       "4  UNIVERSITY AVE    CPD         1532  Shiflett, Ethan  2025-04-23 15:32:34   \n",
       "\n",
       "               DateString  DayOfWeek  Weekend  Season  HourAMPM  TimeOfDay  \\\n",
       "0  2025-04-24 05:13:57 PM   Thursday    False  Spring  05:13 PM    Evening   \n",
       "1  2025-04-24 11:35:08 AM   Thursday    False  Spring  11:35 AM    Morning   \n",
       "2  2025-04-23 04:47:31 PM  Wednesday    False  Spring  04:47 PM  Afternoon   \n",
       "3  2025-04-23 04:39:39 PM  Wednesday    False  Spring  04:39 PM  Afternoon   \n",
       "4  2025-04-23 03:32:34 PM  Wednesday    False  Spring  03:32 PM  Afternoon   \n",
       "\n",
       "            FullStreet        lat        lon           neighborhood    zip  \n",
       "0         100 KENT TER  38.028400 -78.509998  Jefferson Park Avenue  22903  \n",
       "1        1600 RICKY RD  38.060452 -78.502089            The Meadows  22901  \n",
       "2      1000 CHERRY AVE  38.027017 -78.497917              Fifeville  22903  \n",
       "3        400 E MAIN ST  38.029770 -78.479257          Downtown Mall  22902  \n",
       "4  1500 UNIVERSITY AVE  38.034578 -78.500340                Venable  22908  "
      ]
     },
     "execution_count": 11,
     "metadata": {},
     "output_type": "execute_result"
    }
   ],
   "source": [
    "# Initialize the geocoder.\n",
    "geolocator = Nominatim(user_agent=\"zip_lookup\")\n",
    "\n",
    "# Try to load a persistent ZIP cache if available.\n",
    "try:\n",
    "    with open(\"zip_cache.pkl\", \"rb\") as f:\n",
    "        zip_cache = pickle.load(f)\n",
    "    print(\"Loaded zip cache.\")\n",
    "except FileNotFoundError:\n",
    "    zip_cache = {}\n",
    "    print(\"No zip cache found; starting fresh.\")\n",
    "\n",
    "def get_zip(lat, lon):\n",
    "    \"\"\"\n",
    "    Reverse geocodes a latitude and longitude to retrieve the ZIP code.\n",
    "    Caches results to speed up subsequent lookups.\n",
    "    \"\"\"\n",
    "    key = (lat, lon)\n",
    "    if key in zip_cache:\n",
    "        return zip_cache[key]\n",
    "    \n",
    "    try:\n",
    "        location = geolocator.reverse((lat, lon), exactly_one=True, timeout=10)\n",
    "        address = location.raw.get('address', {})\n",
    "        postal_code = address.get('postcode', \"N/A\")\n",
    "    except Exception as e:\n",
    "        print(f\"Error getting ZIP for {lat}, {lon}: {e}\")\n",
    "        postal_code = \"N/A\"\n",
    "    \n",
    "    zip_cache[key] = postal_code\n",
    "    # Pause to respect the usage policy.\n",
    "    time.sleep(1)\n",
    "    return postal_code\n",
    "\n",
    "# Apply the function to each row in the DataFrame.\n",
    "df['zip'] = df.apply(lambda row: get_zip(row['lat'], row['lon']), axis=1)\n",
    "\n",
    "# Save the updated ZIP cache.\n",
    "with open(\"zip_cache.pkl\", \"wb\") as f:\n",
    "    pickle.dump(zip_cache, f)\n",
    "\n",
    "df.head()\n"
   ]
  },
  {
   "cell_type": "code",
   "execution_count": 12,
   "id": "674a2cd1",
   "metadata": {
    "execution": {
     "iopub.execute_input": "2025-04-27T01:05:41.306313Z",
     "iopub.status.busy": "2025-04-27T01:05:41.305862Z",
     "iopub.status.idle": "2025-04-27T01:05:41.330060Z",
     "shell.execute_reply": "2025-04-27T01:05:41.329503Z"
    },
    "papermill": {
     "duration": 0.032722,
     "end_time": "2025-04-27T01:05:41.331124",
     "exception": false,
     "start_time": "2025-04-27T01:05:41.298402",
     "status": "completed"
    },
    "tags": []
   },
   "outputs": [
    {
     "name": "stdout",
     "output_type": "stream",
     "text": [
      "                  MissingCount  MissingPercentage\n",
      "RecordID                     0               0.00\n",
      "Offense                      0               0.00\n",
      "IncidentID                   0               0.00\n",
      "BlockNumber                  0               0.00\n",
      "StreetName                   0               0.00\n",
      "Agency                       0               0.00\n",
      "HourReported                 0               0.00\n",
      "ReportingOfficer            17               0.07\n",
      "Date                         0               0.00\n",
      "DateString                   0               0.00\n",
      "DayOfWeek                    0               0.00\n",
      "Weekend                      0               0.00\n",
      "Season                       0               0.00\n",
      "HourAMPM                     0               0.00\n",
      "TimeOfDay                    0               0.00\n",
      "FullStreet                   0               0.00\n",
      "lat                          0               0.00\n",
      "lon                          0               0.00\n",
      "neighborhood                 0               0.00\n",
      "zip                          0               0.00\n"
     ]
    }
   ],
   "source": [
    "missing_info = missing_percentage(df)\n",
    "print(missing_info)\n"
   ]
  },
  {
   "cell_type": "code",
   "execution_count": 13,
   "id": "0bc5b607",
   "metadata": {
    "execution": {
     "iopub.execute_input": "2025-04-27T01:05:41.346239Z",
     "iopub.status.busy": "2025-04-27T01:05:41.345777Z",
     "iopub.status.idle": "2025-04-27T01:05:41.369133Z",
     "shell.execute_reply": "2025-04-27T01:05:41.368477Z"
    },
    "papermill": {
     "duration": 0.031917,
     "end_time": "2025-04-27T01:05:41.370112",
     "exception": false,
     "start_time": "2025-04-27T01:05:41.338195",
     "status": "completed"
    },
    "tags": []
   },
   "outputs": [
    {
     "name": "stdout",
     "output_type": "stream",
     "text": [
      "<class 'pandas.core.frame.DataFrame'>\n",
      "RangeIndex: 25263 entries, 0 to 25262\n",
      "Data columns (total 20 columns):\n",
      " #   Column            Non-Null Count  Dtype         \n",
      "---  ------            --------------  -----         \n",
      " 0   RecordID          25263 non-null  int64         \n",
      " 1   Offense           25263 non-null  object        \n",
      " 2   IncidentID        25263 non-null  object        \n",
      " 3   BlockNumber       25263 non-null  object        \n",
      " 4   StreetName        25263 non-null  object        \n",
      " 5   Agency            25263 non-null  object        \n",
      " 6   HourReported      25263 non-null  object        \n",
      " 7   ReportingOfficer  25246 non-null  object        \n",
      " 8   Date              25263 non-null  datetime64[ns]\n",
      " 9   DateString        25263 non-null  object        \n",
      " 10  DayOfWeek         25263 non-null  object        \n",
      " 11  Weekend           25263 non-null  bool          \n",
      " 12  Season            25263 non-null  object        \n",
      " 13  HourAMPM          25263 non-null  object        \n",
      " 14  TimeOfDay         25263 non-null  object        \n",
      " 15  FullStreet        25263 non-null  object        \n",
      " 16  lat               25263 non-null  float64       \n",
      " 17  lon               25263 non-null  float64       \n",
      " 18  neighborhood      25263 non-null  object        \n",
      " 19  zip               25263 non-null  object        \n",
      "dtypes: bool(1), datetime64[ns](1), float64(2), int64(1), object(15)\n",
      "memory usage: 3.7+ MB\n"
     ]
    }
   ],
   "source": [
    "df.info()"
   ]
  },
  {
   "cell_type": "code",
   "execution_count": 14,
   "id": "974eb1f5",
   "metadata": {
    "execution": {
     "iopub.execute_input": "2025-04-27T01:05:41.385000Z",
     "iopub.status.busy": "2025-04-27T01:05:41.384591Z",
     "iopub.status.idle": "2025-04-27T01:05:41.422913Z",
     "shell.execute_reply": "2025-04-27T01:05:41.422322Z"
    },
    "papermill": {
     "duration": 0.046923,
     "end_time": "2025-04-27T01:05:41.423931",
     "exception": false,
     "start_time": "2025-04-27T01:05:41.377008",
     "status": "completed"
    },
    "tags": []
   },
   "outputs": [
    {
     "data": {
      "text/html": [
       "<div>\n",
       "<style scoped>\n",
       "    .dataframe tbody tr th:only-of-type {\n",
       "        vertical-align: middle;\n",
       "    }\n",
       "\n",
       "    .dataframe tbody tr th {\n",
       "        vertical-align: top;\n",
       "    }\n",
       "\n",
       "    .dataframe thead th {\n",
       "        text-align: right;\n",
       "    }\n",
       "</style>\n",
       "<table border=\"1\" class=\"dataframe\">\n",
       "  <thead>\n",
       "    <tr style=\"text-align: right;\">\n",
       "      <th></th>\n",
       "      <th>RecordID</th>\n",
       "      <th>Offense</th>\n",
       "      <th>IncidentID</th>\n",
       "      <th>Agency</th>\n",
       "      <th>ReportingOfficer</th>\n",
       "      <th>Date</th>\n",
       "      <th>DayOfWeek</th>\n",
       "      <th>Weekend</th>\n",
       "      <th>Season</th>\n",
       "      <th>TimeOfDay</th>\n",
       "      <th>FullStreet</th>\n",
       "      <th>lat</th>\n",
       "      <th>lon</th>\n",
       "      <th>neighborhood</th>\n",
       "      <th>zip</th>\n",
       "    </tr>\n",
       "  </thead>\n",
       "  <tbody>\n",
       "    <tr>\n",
       "      <th>0</th>\n",
       "      <td>1</td>\n",
       "      <td>Hit and Run</td>\n",
       "      <td>202500013432</td>\n",
       "      <td>CPD</td>\n",
       "      <td>Bentz, Benjamin</td>\n",
       "      <td>2025-04-24 17:13:57</td>\n",
       "      <td>Thursday</td>\n",
       "      <td>False</td>\n",
       "      <td>Spring</td>\n",
       "      <td>Evening</td>\n",
       "      <td>100 KENT TER</td>\n",
       "      <td>38.028400</td>\n",
       "      <td>-78.509998</td>\n",
       "      <td>Jefferson Park Avenue</td>\n",
       "      <td>22903</td>\n",
       "    </tr>\n",
       "    <tr>\n",
       "      <th>1</th>\n",
       "      <td>2</td>\n",
       "      <td>Death Investigation - DOA</td>\n",
       "      <td>202500013402</td>\n",
       "      <td>CPD</td>\n",
       "      <td>Burnett, James</td>\n",
       "      <td>2025-04-24 11:35:08</td>\n",
       "      <td>Thursday</td>\n",
       "      <td>False</td>\n",
       "      <td>Spring</td>\n",
       "      <td>Morning</td>\n",
       "      <td>1600 RICKY RD</td>\n",
       "      <td>38.060452</td>\n",
       "      <td>-78.502089</td>\n",
       "      <td>The Meadows</td>\n",
       "      <td>22901</td>\n",
       "    </tr>\n",
       "    <tr>\n",
       "      <th>2</th>\n",
       "      <td>3</td>\n",
       "      <td>Larceny - All Other</td>\n",
       "      <td>202500013313</td>\n",
       "      <td>CPD</td>\n",
       "      <td>Bentz, Benjamin</td>\n",
       "      <td>2025-04-23 16:47:31</td>\n",
       "      <td>Wednesday</td>\n",
       "      <td>False</td>\n",
       "      <td>Spring</td>\n",
       "      <td>Afternoon</td>\n",
       "      <td>1000 CHERRY AVE</td>\n",
       "      <td>38.027017</td>\n",
       "      <td>-78.497917</td>\n",
       "      <td>Fifeville</td>\n",
       "      <td>22903</td>\n",
       "    </tr>\n",
       "    <tr>\n",
       "      <th>3</th>\n",
       "      <td>4</td>\n",
       "      <td>Lost/FoundProperty</td>\n",
       "      <td>202500013306</td>\n",
       "      <td>CPD</td>\n",
       "      <td>Abdelgayed, Adam</td>\n",
       "      <td>2025-04-23 16:39:39</td>\n",
       "      <td>Wednesday</td>\n",
       "      <td>False</td>\n",
       "      <td>Spring</td>\n",
       "      <td>Afternoon</td>\n",
       "      <td>400 E MAIN ST</td>\n",
       "      <td>38.029770</td>\n",
       "      <td>-78.479257</td>\n",
       "      <td>Downtown Mall</td>\n",
       "      <td>22902</td>\n",
       "    </tr>\n",
       "    <tr>\n",
       "      <th>4</th>\n",
       "      <td>5</td>\n",
       "      <td>Larceny - All Other</td>\n",
       "      <td>202500013314</td>\n",
       "      <td>CPD</td>\n",
       "      <td>Shiflett, Ethan</td>\n",
       "      <td>2025-04-23 15:32:34</td>\n",
       "      <td>Wednesday</td>\n",
       "      <td>False</td>\n",
       "      <td>Spring</td>\n",
       "      <td>Afternoon</td>\n",
       "      <td>1500 UNIVERSITY AVE</td>\n",
       "      <td>38.034578</td>\n",
       "      <td>-78.500340</td>\n",
       "      <td>Venable</td>\n",
       "      <td>22908</td>\n",
       "    </tr>\n",
       "  </tbody>\n",
       "</table>\n",
       "</div>"
      ],
      "text/plain": [
       "   RecordID                    Offense    IncidentID Agency  ReportingOfficer  \\\n",
       "0         1                Hit and Run  202500013432    CPD  Bentz, Benjamin    \n",
       "1         2  Death Investigation - DOA  202500013402    CPD    Burnett, James   \n",
       "2         3        Larceny - All Other  202500013313    CPD  Bentz, Benjamin    \n",
       "3         4         Lost/FoundProperty  202500013306    CPD  Abdelgayed, Adam   \n",
       "4         5        Larceny - All Other  202500013314    CPD  Shiflett, Ethan    \n",
       "\n",
       "                 Date  DayOfWeek  Weekend  Season  TimeOfDay  \\\n",
       "0 2025-04-24 17:13:57   Thursday    False  Spring    Evening   \n",
       "1 2025-04-24 11:35:08   Thursday    False  Spring    Morning   \n",
       "2 2025-04-23 16:47:31  Wednesday    False  Spring  Afternoon   \n",
       "3 2025-04-23 16:39:39  Wednesday    False  Spring  Afternoon   \n",
       "4 2025-04-23 15:32:34  Wednesday    False  Spring  Afternoon   \n",
       "\n",
       "            FullStreet        lat        lon           neighborhood    zip  \n",
       "0         100 KENT TER  38.028400 -78.509998  Jefferson Park Avenue  22903  \n",
       "1        1600 RICKY RD  38.060452 -78.502089            The Meadows  22901  \n",
       "2      1000 CHERRY AVE  38.027017 -78.497917              Fifeville  22903  \n",
       "3        400 E MAIN ST  38.029770 -78.479257          Downtown Mall  22902  \n",
       "4  1500 UNIVERSITY AVE  38.034578 -78.500340                Venable  22908  "
      ]
     },
     "execution_count": 14,
     "metadata": {},
     "output_type": "execute_result"
    }
   ],
   "source": [
    "# Now drop the original BlockNumber and StreetName columns\n",
    "df.drop(columns=['BlockNumber', 'StreetName','HourAMPM','HourReported','DateString'], inplace=True)\n",
    "df[\"zip\"] = df[\"zip\"].astype(str)\n",
    "\n",
    "# Fill all missing values in the DataFrame with \"N/A\"\n",
    "df.replace({None: \"N/A\", np.nan: \"N/A\", \"\": \"N/A\"}, inplace=True)\n",
    "df.head()"
   ]
  },
  {
   "cell_type": "code",
   "execution_count": 15,
   "id": "9ac3782c",
   "metadata": {
    "execution": {
     "iopub.execute_input": "2025-04-27T01:05:41.439610Z",
     "iopub.status.busy": "2025-04-27T01:05:41.439176Z",
     "iopub.status.idle": "2025-04-27T01:05:41.454294Z",
     "shell.execute_reply": "2025-04-27T01:05:41.453737Z"
    },
    "papermill": {
     "duration": 0.023971,
     "end_time": "2025-04-27T01:05:41.455271",
     "exception": false,
     "start_time": "2025-04-27T01:05:41.431300",
     "status": "completed"
    },
    "tags": []
   },
   "outputs": [
    {
     "name": "stdout",
     "output_type": "stream",
     "text": [
      "                  MissingCount  MissingPercentage\n",
      "RecordID                     0                0.0\n",
      "Offense                      0                0.0\n",
      "IncidentID                   0                0.0\n",
      "Agency                       0                0.0\n",
      "ReportingOfficer             0                0.0\n",
      "Date                         0                0.0\n",
      "DayOfWeek                    0                0.0\n",
      "Weekend                      0                0.0\n",
      "Season                       0                0.0\n",
      "TimeOfDay                    0                0.0\n",
      "FullStreet                   0                0.0\n",
      "lat                          0                0.0\n",
      "lon                          0                0.0\n",
      "neighborhood                 0                0.0\n",
      "zip                          0                0.0\n"
     ]
    }
   ],
   "source": [
    "missing_info = missing_percentage(df)\n",
    "print(missing_info)"
   ]
  },
  {
   "cell_type": "code",
   "execution_count": 16,
   "id": "b53c04ba",
   "metadata": {
    "execution": {
     "iopub.execute_input": "2025-04-27T01:05:41.470982Z",
     "iopub.status.busy": "2025-04-27T01:05:41.470506Z",
     "iopub.status.idle": "2025-04-27T01:05:41.474924Z",
     "shell.execute_reply": "2025-04-27T01:05:41.474402Z"
    },
    "papermill": {
     "duration": 0.013292,
     "end_time": "2025-04-27T01:05:41.475925",
     "exception": false,
     "start_time": "2025-04-27T01:05:41.462633",
     "status": "completed"
    },
    "tags": []
   },
   "outputs": [
    {
     "data": {
      "text/plain": [
       "Index(['RecordID', 'Offense', 'IncidentID', 'Agency', 'ReportingOfficer',\n",
       "       'Date', 'DayOfWeek', 'Weekend', 'Season', 'TimeOfDay', 'FullStreet',\n",
       "       'lat', 'lon', 'neighborhood', 'zip'],\n",
       "      dtype='object')"
      ]
     },
     "execution_count": 16,
     "metadata": {},
     "output_type": "execute_result"
    }
   ],
   "source": [
    "df.columns"
   ]
  },
  {
   "cell_type": "code",
   "execution_count": 17,
   "id": "99cda7e4",
   "metadata": {
    "execution": {
     "iopub.execute_input": "2025-04-27T01:05:41.491547Z",
     "iopub.status.busy": "2025-04-27T01:05:41.491143Z",
     "iopub.status.idle": "2025-04-27T01:05:41.506858Z",
     "shell.execute_reply": "2025-04-27T01:05:41.506181Z"
    },
    "papermill": {
     "duration": 0.024618,
     "end_time": "2025-04-27T01:05:41.507951",
     "exception": false,
     "start_time": "2025-04-27T01:05:41.483333",
     "status": "completed"
    },
    "tags": []
   },
   "outputs": [
    {
     "name": "stdout",
     "output_type": "stream",
     "text": [
      "<class 'pandas.core.frame.DataFrame'>\n",
      "RangeIndex: 25263 entries, 0 to 25262\n",
      "Data columns (total 15 columns):\n",
      " #   Column            Non-Null Count  Dtype         \n",
      "---  ------            --------------  -----         \n",
      " 0   RecordID          25263 non-null  int64         \n",
      " 1   Offense           25263 non-null  object        \n",
      " 2   IncidentID        25263 non-null  object        \n",
      " 3   Agency            25263 non-null  object        \n",
      " 4   ReportingOfficer  25263 non-null  object        \n",
      " 5   Date              25263 non-null  datetime64[ns]\n",
      " 6   DayOfWeek         25263 non-null  object        \n",
      " 7   Weekend           25263 non-null  bool          \n",
      " 8   Season            25263 non-null  object        \n",
      " 9   TimeOfDay         25263 non-null  object        \n",
      " 10  FullStreet        25263 non-null  object        \n",
      " 11  lat               25263 non-null  float64       \n",
      " 12  lon               25263 non-null  float64       \n",
      " 13  neighborhood      25263 non-null  object        \n",
      " 14  zip               25263 non-null  object        \n",
      "dtypes: bool(1), datetime64[ns](1), float64(2), int64(1), object(10)\n",
      "memory usage: 2.7+ MB\n"
     ]
    }
   ],
   "source": [
    "df.info()"
   ]
  },
  {
   "cell_type": "markdown",
   "id": "76b86667",
   "metadata": {
    "papermill": {
     "duration": 0.007292,
     "end_time": "2025-04-27T01:05:41.522742",
     "exception": false,
     "start_time": "2025-04-27T01:05:41.515450",
     "status": "completed"
    },
    "tags": []
   },
   "source": [
    "### Export Clean Data"
   ]
  },
  {
   "cell_type": "code",
   "execution_count": 18,
   "id": "e4921ef5",
   "metadata": {
    "execution": {
     "iopub.execute_input": "2025-04-27T01:05:41.538608Z",
     "iopub.status.busy": "2025-04-27T01:05:41.538114Z",
     "iopub.status.idle": "2025-04-27T01:05:50.611467Z",
     "shell.execute_reply": "2025-04-27T01:05:50.610783Z"
    },
    "papermill": {
     "duration": 9.082383,
     "end_time": "2025-04-27T01:05:50.612550",
     "exception": false,
     "start_time": "2025-04-27T01:05:41.530167",
     "status": "completed"
    },
    "tags": []
   },
   "outputs": [
    {
     "name": "stdout",
     "output_type": "stream",
     "text": [
      "Project Root: /home/runner/work/crime-data/crime-data\n"
     ]
    },
    {
     "name": "stdout",
     "output_type": "stream",
     "text": [
      "Data saved to: /home/runner/work/crime-data/crime-data/data/charlottesville_crime_incidents.csv\n"
     ]
    },
    {
     "name": "stdout",
     "output_type": "stream",
     "text": [
      "Excel saved to: /home/runner/work/crime-data/crime-data/data/charlottesville_crime_incidents.xlsx\n"
     ]
    }
   ],
   "source": [
    "# Determine the project root (assuming papermill is run from the repository root)\n",
    "project_root = os.getcwd()\n",
    "print(\"Project Root:\", project_root)\n",
    "\n",
    "# Set the data directory within the project root\n",
    "data_dir = os.path.join(project_root, \"data\")\n",
    "\n",
    "# Ensure the \"data\" directory exists (create it if it doesn't)\n",
    "if not os.path.exists(data_dir):\n",
    "    os.makedirs(data_dir)\n",
    "\n",
    "# Export the DataFrame to CSV in the \"data\" folder located in the project root\n",
    "csv_path = os.path.join(data_dir, \"charlottesville_crime_incidents.csv\")\n",
    "df.to_csv(csv_path, index=False)\n",
    "print(\"Data saved to:\", csv_path)\n",
    "\n",
    "# Construct the path to your Excel file\n",
    "excel_path = os.path.join(data_dir, \"charlottesville_crime_incidents.xlsx\")\n",
    "\n",
    "# Export the DataFrame to Excel\n",
    "df.to_excel(excel_path, index=False)\n",
    "print(\"Excel saved to:\", excel_path)\n"
   ]
  },
  {
   "cell_type": "markdown",
   "id": "d329c709",
   "metadata": {
    "papermill": {
     "duration": 0.00763,
     "end_time": "2025-04-27T01:05:50.628270",
     "exception": false,
     "start_time": "2025-04-27T01:05:50.620640",
     "status": "completed"
    },
    "tags": []
   },
   "source": [
    "## Predictive Analytics"
   ]
  },
  {
   "cell_type": "code",
   "execution_count": 19,
   "id": "776a793a",
   "metadata": {
    "execution": {
     "iopub.execute_input": "2025-04-27T01:05:50.668875Z",
     "iopub.status.busy": "2025-04-27T01:05:50.668358Z",
     "iopub.status.idle": "2025-04-27T01:05:50.680121Z",
     "shell.execute_reply": "2025-04-27T01:05:50.679572Z"
    },
    "papermill": {
     "duration": 0.021189,
     "end_time": "2025-04-27T01:05:50.681164",
     "exception": false,
     "start_time": "2025-04-27T01:05:50.659975",
     "status": "completed"
    },
    "tags": []
   },
   "outputs": [
    {
     "data": {
      "text/html": [
       "<div>\n",
       "<style scoped>\n",
       "    .dataframe tbody tr th:only-of-type {\n",
       "        vertical-align: middle;\n",
       "    }\n",
       "\n",
       "    .dataframe tbody tr th {\n",
       "        vertical-align: top;\n",
       "    }\n",
       "\n",
       "    .dataframe thead th {\n",
       "        text-align: right;\n",
       "    }\n",
       "</style>\n",
       "<table border=\"1\" class=\"dataframe\">\n",
       "  <thead>\n",
       "    <tr style=\"text-align: right;\">\n",
       "      <th></th>\n",
       "      <th>RecordID</th>\n",
       "      <th>Offense</th>\n",
       "      <th>IncidentID</th>\n",
       "      <th>Agency</th>\n",
       "      <th>ReportingOfficer</th>\n",
       "      <th>Date</th>\n",
       "      <th>DayOfWeek</th>\n",
       "      <th>Weekend</th>\n",
       "      <th>Season</th>\n",
       "      <th>TimeOfDay</th>\n",
       "      <th>FullStreet</th>\n",
       "      <th>lat</th>\n",
       "      <th>lon</th>\n",
       "      <th>neighborhood</th>\n",
       "      <th>zip</th>\n",
       "    </tr>\n",
       "  </thead>\n",
       "  <tbody>\n",
       "    <tr>\n",
       "      <th>0</th>\n",
       "      <td>1</td>\n",
       "      <td>Hit and Run</td>\n",
       "      <td>202500013432</td>\n",
       "      <td>CPD</td>\n",
       "      <td>Bentz, Benjamin</td>\n",
       "      <td>2025-04-24 17:13:57</td>\n",
       "      <td>Thursday</td>\n",
       "      <td>False</td>\n",
       "      <td>Spring</td>\n",
       "      <td>Evening</td>\n",
       "      <td>100 KENT TER</td>\n",
       "      <td>38.028400</td>\n",
       "      <td>-78.509998</td>\n",
       "      <td>Jefferson Park Avenue</td>\n",
       "      <td>22903</td>\n",
       "    </tr>\n",
       "    <tr>\n",
       "      <th>1</th>\n",
       "      <td>2</td>\n",
       "      <td>Death Investigation - DOA</td>\n",
       "      <td>202500013402</td>\n",
       "      <td>CPD</td>\n",
       "      <td>Burnett, James</td>\n",
       "      <td>2025-04-24 11:35:08</td>\n",
       "      <td>Thursday</td>\n",
       "      <td>False</td>\n",
       "      <td>Spring</td>\n",
       "      <td>Morning</td>\n",
       "      <td>1600 RICKY RD</td>\n",
       "      <td>38.060452</td>\n",
       "      <td>-78.502089</td>\n",
       "      <td>The Meadows</td>\n",
       "      <td>22901</td>\n",
       "    </tr>\n",
       "    <tr>\n",
       "      <th>2</th>\n",
       "      <td>3</td>\n",
       "      <td>Larceny - All Other</td>\n",
       "      <td>202500013313</td>\n",
       "      <td>CPD</td>\n",
       "      <td>Bentz, Benjamin</td>\n",
       "      <td>2025-04-23 16:47:31</td>\n",
       "      <td>Wednesday</td>\n",
       "      <td>False</td>\n",
       "      <td>Spring</td>\n",
       "      <td>Afternoon</td>\n",
       "      <td>1000 CHERRY AVE</td>\n",
       "      <td>38.027017</td>\n",
       "      <td>-78.497917</td>\n",
       "      <td>Fifeville</td>\n",
       "      <td>22903</td>\n",
       "    </tr>\n",
       "    <tr>\n",
       "      <th>3</th>\n",
       "      <td>4</td>\n",
       "      <td>Lost/FoundProperty</td>\n",
       "      <td>202500013306</td>\n",
       "      <td>CPD</td>\n",
       "      <td>Abdelgayed, Adam</td>\n",
       "      <td>2025-04-23 16:39:39</td>\n",
       "      <td>Wednesday</td>\n",
       "      <td>False</td>\n",
       "      <td>Spring</td>\n",
       "      <td>Afternoon</td>\n",
       "      <td>400 E MAIN ST</td>\n",
       "      <td>38.029770</td>\n",
       "      <td>-78.479257</td>\n",
       "      <td>Downtown Mall</td>\n",
       "      <td>22902</td>\n",
       "    </tr>\n",
       "    <tr>\n",
       "      <th>4</th>\n",
       "      <td>5</td>\n",
       "      <td>Larceny - All Other</td>\n",
       "      <td>202500013314</td>\n",
       "      <td>CPD</td>\n",
       "      <td>Shiflett, Ethan</td>\n",
       "      <td>2025-04-23 15:32:34</td>\n",
       "      <td>Wednesday</td>\n",
       "      <td>False</td>\n",
       "      <td>Spring</td>\n",
       "      <td>Afternoon</td>\n",
       "      <td>1500 UNIVERSITY AVE</td>\n",
       "      <td>38.034578</td>\n",
       "      <td>-78.500340</td>\n",
       "      <td>Venable</td>\n",
       "      <td>22908</td>\n",
       "    </tr>\n",
       "  </tbody>\n",
       "</table>\n",
       "</div>"
      ],
      "text/plain": [
       "   RecordID                    Offense    IncidentID Agency  ReportingOfficer  \\\n",
       "0         1                Hit and Run  202500013432    CPD  Bentz, Benjamin    \n",
       "1         2  Death Investigation - DOA  202500013402    CPD    Burnett, James   \n",
       "2         3        Larceny - All Other  202500013313    CPD  Bentz, Benjamin    \n",
       "3         4         Lost/FoundProperty  202500013306    CPD  Abdelgayed, Adam   \n",
       "4         5        Larceny - All Other  202500013314    CPD  Shiflett, Ethan    \n",
       "\n",
       "                 Date  DayOfWeek  Weekend  Season  TimeOfDay  \\\n",
       "0 2025-04-24 17:13:57   Thursday    False  Spring    Evening   \n",
       "1 2025-04-24 11:35:08   Thursday    False  Spring    Morning   \n",
       "2 2025-04-23 16:47:31  Wednesday    False  Spring  Afternoon   \n",
       "3 2025-04-23 16:39:39  Wednesday    False  Spring  Afternoon   \n",
       "4 2025-04-23 15:32:34  Wednesday    False  Spring  Afternoon   \n",
       "\n",
       "            FullStreet        lat        lon           neighborhood    zip  \n",
       "0         100 KENT TER  38.028400 -78.509998  Jefferson Park Avenue  22903  \n",
       "1        1600 RICKY RD  38.060452 -78.502089            The Meadows  22901  \n",
       "2      1000 CHERRY AVE  38.027017 -78.497917              Fifeville  22903  \n",
       "3        400 E MAIN ST  38.029770 -78.479257          Downtown Mall  22902  \n",
       "4  1500 UNIVERSITY AVE  38.034578 -78.500340                Venable  22908  "
      ]
     },
     "execution_count": 19,
     "metadata": {},
     "output_type": "execute_result"
    }
   ],
   "source": [
    "df.head()"
   ]
  },
  {
   "cell_type": "code",
   "execution_count": 20,
   "id": "c9a23aeb",
   "metadata": {
    "execution": {
     "iopub.execute_input": "2025-04-27T01:05:50.697700Z",
     "iopub.status.busy": "2025-04-27T01:05:50.697172Z",
     "iopub.status.idle": "2025-04-27T01:05:50.701566Z",
     "shell.execute_reply": "2025-04-27T01:05:50.700925Z"
    },
    "papermill": {
     "duration": 0.013703,
     "end_time": "2025-04-27T01:05:50.702612",
     "exception": false,
     "start_time": "2025-04-27T01:05:50.688909",
     "status": "completed"
    },
    "tags": []
   },
   "outputs": [
    {
     "data": {
      "text/plain": [
       "Index(['RecordID', 'Offense', 'IncidentID', 'Agency', 'ReportingOfficer',\n",
       "       'Date', 'DayOfWeek', 'Weekend', 'Season', 'TimeOfDay', 'FullStreet',\n",
       "       'lat', 'lon', 'neighborhood', 'zip'],\n",
       "      dtype='object')"
      ]
     },
     "execution_count": 20,
     "metadata": {},
     "output_type": "execute_result"
    }
   ],
   "source": [
    "df.columns"
   ]
  },
  {
   "cell_type": "markdown",
   "id": "0435d8d5",
   "metadata": {
    "papermill": {
     "duration": 0.007731,
     "end_time": "2025-04-27T01:05:50.718226",
     "exception": false,
     "start_time": "2025-04-27T01:05:50.710495",
     "status": "completed"
    },
    "tags": []
   },
   "source": [
    "### Data Preparation\n",
    "\n",
    "We need to ensure the data is in the correct format for modeling and can handle missing values, categorical variables, and dates. Here's how to prepare your data:"
   ]
  },
  {
   "cell_type": "code",
   "execution_count": 21,
   "id": "fafc8c28",
   "metadata": {
    "execution": {
     "iopub.execute_input": "2025-04-27T01:05:50.734733Z",
     "iopub.status.busy": "2025-04-27T01:05:50.734507Z",
     "iopub.status.idle": "2025-04-27T01:05:52.425357Z",
     "shell.execute_reply": "2025-04-27T01:05:52.424685Z"
    },
    "papermill": {
     "duration": 1.700604,
     "end_time": "2025-04-27T01:05:52.426723",
     "exception": false,
     "start_time": "2025-04-27T01:05:50.726119",
     "status": "completed"
    },
    "tags": []
   },
   "outputs": [],
   "source": [
    "import pandas as pd\n",
    "from sklearn.model_selection import train_test_split\n",
    "from sklearn.preprocessing import OneHotEncoder, LabelEncoder\n",
    "from sklearn.ensemble import RandomForestClassifier\n",
    "from sklearn.linear_model import LogisticRegression\n",
    "from sklearn.tree import DecisionTreeClassifier\n",
    "from sklearn.metrics import classification_report, accuracy_score\n",
    "import seaborn as sns\n",
    "import matplotlib.pyplot as plt\n",
    "\n",
    "# Convert 'Date' to datetime\n",
    "df['Date'] = pd.to_datetime(df['Date'])\n",
    "\n",
    "# Feature engineering: Extract additional time-based features\n",
    "df['Year'] = df['Date'].dt.year\n",
    "df['Month'] = df['Date'].dt.month\n",
    "df['DayOfMonth'] = df['Date'].dt.day\n",
    "\n",
    "# One-hot encoding for 'FullStreet', 'neighborhood', 'zip'\n",
    "df = pd.get_dummies(df, columns=['FullStreet', 'neighborhood', 'zip'], drop_first=True)\n",
    "\n",
    "# Label encoding for ordered variables (those with a natural order like 'DayOfWeek', 'Season', 'TimeOfDay')\n",
    "label_encoders = {}\n",
    "for column in ['DayOfWeek', 'Season', 'TimeOfDay', 'Agency', 'ReportingOfficer']:  # Example ordinal variables\n",
    "    le = LabelEncoder()\n",
    "    df[column] = le.fit_transform(df[column])\n",
    "    label_encoders[column] = le\n",
    "\n",
    "# Filter the dataset to include only the offenses of interest\n",
    "offenses_of_interest = [\n",
    "    'Hit and Run', 'Assault Simple', 'Suspicious Activity', 'Vandalism', \n",
    "    'Larceny - From Mot Vehicle', 'Larceny - All Other', \n",
    "    'Assist Citizen - Mental/TDO/ECO', 'Lost/FoundProperty'\n",
    "]\n",
    "\n",
    "df = df[df['Offense'].isin(offenses_of_interest)]\n",
    "\n",
    "# Label encode the target variable (Offense)\n",
    "offense_encoder = LabelEncoder()\n",
    "df['Offense'] = offense_encoder.fit_transform(df['Offense'])\n",
    "\n",
    "# Separate features (X) and target (y)\n",
    "X = df[['Year', 'Month', 'DayOfMonth', 'DayOfWeek', 'Weekend', 'Season', 'TimeOfDay', 'lat', 'lon', 'Agency', 'ReportingOfficer']]\n",
    "y = df['Offense']  # Offense is now the encoded target variable\n",
    "\n",
    "# Split the data into training and testing sets\n",
    "X_train, X_test, y_train, y_test = train_test_split(X, y, test_size=0.3, random_state=42)\n"
   ]
  },
  {
   "cell_type": "markdown",
   "id": "6c8da25b",
   "metadata": {
    "papermill": {
     "duration": 0.007867,
     "end_time": "2025-04-27T01:05:52.442785",
     "exception": false,
     "start_time": "2025-04-27T01:05:52.434918",
     "status": "completed"
    },
    "tags": []
   },
   "source": [
    "### Model Training\n",
    "\n",
    "Here we will train several models (e.g., Random Forest, Logistic Regression, and Decision Tree). We will use cross-validation to choose the best model based on accuracy, and then explain the impact of the variables."
   ]
  },
  {
   "cell_type": "code",
   "execution_count": 22,
   "id": "8536b95e",
   "metadata": {
    "execution": {
     "iopub.execute_input": "2025-04-27T01:05:52.459977Z",
     "iopub.status.busy": "2025-04-27T01:05:52.459439Z",
     "iopub.status.idle": "2025-04-27T01:05:55.908426Z",
     "shell.execute_reply": "2025-04-27T01:05:55.907763Z"
    },
    "papermill": {
     "duration": 3.458781,
     "end_time": "2025-04-27T01:05:55.909574",
     "exception": false,
     "start_time": "2025-04-27T01:05:52.450793",
     "status": "completed"
    },
    "tags": []
   },
   "outputs": [
    {
     "name": "stderr",
     "output_type": "stream",
     "text": [
      "/opt/hostedtoolcache/Python/3.9.22/x64/lib/python3.9/site-packages/sklearn/linear_model/_logistic.py:465: ConvergenceWarning: lbfgs failed to converge (status=1):\n",
      "STOP: TOTAL NO. of ITERATIONS REACHED LIMIT.\n",
      "\n",
      "Increase the number of iterations (max_iter) or scale the data as shown in:\n",
      "    https://scikit-learn.org/stable/modules/preprocessing.html\n",
      "Please also refer to the documentation for alternative solver options:\n",
      "    https://scikit-learn.org/stable/modules/linear_model.html#logistic-regression\n",
      "  n_iter_i = _check_optimize_result(\n",
      "/opt/hostedtoolcache/Python/3.9.22/x64/lib/python3.9/site-packages/sklearn/metrics/_classification.py:1565: UndefinedMetricWarning: Precision is ill-defined and being set to 0.0 in labels with no predicted samples. Use `zero_division` parameter to control this behavior.\n",
      "  _warn_prf(average, modifier, f\"{metric.capitalize()} is\", len(result))\n",
      "/opt/hostedtoolcache/Python/3.9.22/x64/lib/python3.9/site-packages/sklearn/metrics/_classification.py:1565: UndefinedMetricWarning: Precision is ill-defined and being set to 0.0 in labels with no predicted samples. Use `zero_division` parameter to control this behavior.\n",
      "  _warn_prf(average, modifier, f\"{metric.capitalize()} is\", len(result))\n",
      "/opt/hostedtoolcache/Python/3.9.22/x64/lib/python3.9/site-packages/sklearn/metrics/_classification.py:1565: UndefinedMetricWarning: Precision is ill-defined and being set to 0.0 in labels with no predicted samples. Use `zero_division` parameter to control this behavior.\n",
      "  _warn_prf(average, modifier, f\"{metric.capitalize()} is\", len(result))\n"
     ]
    },
    {
     "name": "stdout",
     "output_type": "stream",
     "text": [
      "\n",
      "Classification Report for All Models:\n",
      "\n",
      "Model: RandomForest\n",
      "Accuracy: 0.2835\n",
      "              precision    recall  f1-score     support\n",
      "0              0.290682  0.369258  0.325292   566.00000\n",
      "1              0.263636  0.207143  0.232000   420.00000\n",
      "2              0.330882  0.447443  0.380435   704.00000\n",
      "3              0.184810  0.169767  0.176970   430.00000\n",
      "4              0.336634  0.187845  0.241135   362.00000\n",
      "5              0.229167  0.220441  0.224719   499.00000\n",
      "6              0.311054  0.248971  0.276571   486.00000\n",
      "accuracy       0.283530  0.283530  0.283530     0.28353\n",
      "macro avg      0.278124  0.264410  0.265303  3467.00000\n",
      "weighted avg   0.281237  0.283530  0.276700  3467.00000\n"
     ]
    },
    {
     "data": {
      "image/png": "[encoded data removed]",
      "text/plain": [
       "<Figure size 800x600 with 2 Axes>"
      ]
     },
     "metadata": {},
     "output_type": "display_data"
    },
    {
     "name": "stdout",
     "output_type": "stream",
     "text": [
      "\n",
      "Model: LogisticRegression\n",
      "Accuracy: 0.2209\n",
      "              precision    recall  f1-score     support\n",
      "0              0.206118  0.500000  0.291903   566.00000\n",
      "1              0.000000  0.000000  0.000000   420.00000\n",
      "2              0.231139  0.683239  0.345422   704.00000\n",
      "3              0.153846  0.004651  0.009029   430.00000\n",
      "4              0.000000  0.000000  0.000000   362.00000\n",
      "5              0.000000  0.000000  0.000000   499.00000\n",
      "6              0.000000  0.000000  0.000000   486.00000\n",
      "accuracy       0.220940  0.220940  0.220940     0.22094\n",
      "macro avg      0.084443  0.169699  0.092336  3467.00000\n",
      "weighted avg   0.099665  0.220940  0.118915  3467.00000\n"
     ]
    },
    {
     "data": {
      "image/png": "[encoded data removed]",
      "text/plain": [
       "<Figure size 800x600 with 2 Axes>"
      ]
     },
     "metadata": {},
     "output_type": "display_data"
    },
    {
     "name": "stdout",
     "output_type": "stream",
     "text": [
      "\n",
      "Model: DecisionTree\n",
      "Accuracy: 0.2232\n",
      "              precision    recall  f1-score      support\n",
      "0              0.231029  0.242049  0.236411   566.000000\n",
      "1              0.208232  0.204762  0.206483   420.000000\n",
      "2              0.323217  0.302557  0.312546   704.000000\n",
      "3              0.157563  0.174419  0.165563   430.000000\n",
      "4              0.191223  0.168508  0.179148   362.000000\n",
      "5              0.178439  0.192385  0.185149   499.000000\n",
      "6              0.226013  0.218107  0.221990   486.000000\n",
      "accuracy       0.223248  0.223248  0.223248     0.223248\n",
      "macro avg      0.216531  0.214684  0.215327  3467.000000\n",
      "weighted avg   0.225446  0.223248  0.224080  3467.000000\n"
     ]
    },
    {
     "data": {
      "image/png": "[encoded data removed]",
      "text/plain": [
       "<Figure size 800x600 with 2 Axes>"
      ]
     },
     "metadata": {},
     "output_type": "display_data"
    },
    {
     "name": "stdout",
     "output_type": "stream",
     "text": [
      "\n",
      "Best Model:\n",
      "Best Model: RandomForestClassifier()\n",
      "Best Model Accuracy: 0.2835\n"
     ]
    }
   ],
   "source": [
    "import pandas as pd\n",
    "from sklearn.model_selection import train_test_split\n",
    "from sklearn.ensemble import RandomForestClassifier\n",
    "from sklearn.linear_model import LogisticRegression\n",
    "from sklearn.tree import DecisionTreeClassifier\n",
    "from sklearn.metrics import classification_report, accuracy_score, confusion_matrix\n",
    "import seaborn as sns\n",
    "import matplotlib.pyplot as plt\n",
    "\n",
    "# Define models\n",
    "models = {\n",
    "    'RandomForest': RandomForestClassifier(),\n",
    "    'LogisticRegression': LogisticRegression(max_iter=1000),\n",
    "    'DecisionTree': DecisionTreeClassifier()\n",
    "}\n",
    "\n",
    "# Train models and evaluate them\n",
    "best_model = None\n",
    "best_score = 0\n",
    "model_reports = {}\n",
    "\n",
    "for model_name, model in models.items():\n",
    "    model.fit(X_train, y_train)  # Train model\n",
    "    y_pred = model.predict(X_test)  # Make predictions\n",
    "    \n",
    "    # Calculate accuracy and generate classification report\n",
    "    accuracy = accuracy_score(y_test, y_pred)\n",
    "    model_reports[model_name] = classification_report(y_test, y_pred, output_dict=True)  # Store as a dictionary for easier analysis\n",
    "    \n",
    "    # Track best performing model\n",
    "    if accuracy > best_score:\n",
    "        best_score = accuracy\n",
    "        best_model = model\n",
    "\n",
    "# Display classification reports and confusion matrices\n",
    "print(\"\\nClassification Report for All Models:\")\n",
    "for model_name, report in model_reports.items():\n",
    "    print(f\"\\nModel: {model_name}\")\n",
    "    print(\"Accuracy: {:.4f}\".format(accuracy_score(y_test, models[model_name].predict(X_test))))  # Display accuracy\n",
    "    print(pd.DataFrame(report).transpose())  # Display classification report as a DataFrame\n",
    "\n",
    "    # Plot Confusion Matrix\n",
    "    cm = confusion_matrix(y_test, models[model_name].predict(X_test))\n",
    "    plt.figure(figsize=(8, 6))\n",
    "    sns.heatmap(cm, annot=True, fmt=\"d\", cmap='Blues', xticklabels=offense_encoder.classes_, yticklabels=offense_encoder.classes_)\n",
    "    plt.title(f\"Confusion Matrix - {model_name}\")\n",
    "    plt.xlabel('Predicted Labels')\n",
    "    plt.ylabel('True Labels')\n",
    "    plt.show()\n",
    "\n",
    "# Display best model details\n",
    "print(\"\\nBest Model:\")\n",
    "print(f\"Best Model: {best_model}\")\n",
    "print(f\"Best Model Accuracy: {best_score:.4f}\")\n"
   ]
  },
  {
   "cell_type": "markdown",
   "id": "fec2eaa4",
   "metadata": {
    "papermill": {
     "duration": 0.010498,
     "end_time": "2025-04-27T01:05:55.931344",
     "exception": false,
     "start_time": "2025-04-27T01:05:55.920846",
     "status": "completed"
    },
    "tags": []
   },
   "source": [
    "#### Classification Report for All Models:\n",
    "\n",
    "### Explanation of the Classification Results (RandomForest Model)\n",
    "\n",
    "The results you provided are from a **Random Forest** model, which is used for predicting different types of offenses. Let's break down the key components of the results:\n",
    "\n",
    "#### 1. **Accuracy: 0.2822**\n",
    "   - **Accuracy** measures the overall percentage of correct predictions made by the model. An accuracy of 28.22% means the model correctly predicted the offense in about 28% of the cases. This indicates the model's predictions are not highly reliable, as the accuracy is quite low.\n",
    "\n",
    "#### 2. **Classification Report:**\n",
    "   The classification report includes precision, recall, and F1-score for each offense. Let's go over these terms and how they apply to the results:\n",
    "\n",
    "   - **Precision**: The proportion of true positive predictions out of all positive predictions made by the model for a specific class (offense).\n",
    "   - **Recall**: The proportion of true positive predictions out of all actual positive instances in the dataset.\n",
    "   - **F1-Score**: The harmonic mean of precision and recall, providing a balance between the two metrics.\n",
    "   - **Support**: The number of actual occurrences of each class in the test set.\n",
    "\n",
    "   Let's analyze each offense based on these metrics:\n",
    "\n",
    "   | **Offense**                        | **Precision** | **Recall** | **F1-Score** | **Support** |\n",
    "   |------------------------------------|---------------|------------|--------------|-------------|\n",
    "   | **Assault Simple**                 | 0.2892        | 0.3754     | 0.3267       | 594         |\n",
    "   | **Assist Citizen - Mental/TDO/ECO**| 0.3182        | 0.2274     | 0.2652       | 431         |\n",
    "   | **Hit and Run**                    | 0.2963        | 0.4765     | 0.3654       | 638         |\n",
    "   | **Larceny - All Other**            | 0.2270        | 0.1453     | 0.1772       | 475         |\n",
    "   | **Lost/FoundProperty**             | 0.3333        | 0.2102     | 0.2578       | 352         |\n",
    "   | **Suspicious Activity**            | 0.2344        | 0.2169     | 0.2253       | 484         |\n",
    "   | **Vandalism**                      | 0.2712        | 0.2106     | 0.2371       | 470         |\n",
    "\n",
    "#### 3. **Key Insights from the Report:**\n",
    "\n",
    "- **Precision**:\n",
    "   - The highest precision is for **Larceny - All Other** (0.3333), indicating that when the model predicts this offense, it is correct about 33% of the time. However, this is still quite low.\n",
    "   - **Assist Citizen - Mental/TDO/ECO** has the lowest precision (0.2269), meaning that the model's predictions for this offense tend to be wrong more often than correct.\n",
    "\n",
    "- **Recall**:\n",
    "   - **Hit and Run** has the highest recall (0.4765), meaning the model identifies about 48% of the actual occurrences of this offense. This is better than the precision, which indicates it is missing many true positives but is still able to identify a fair number of cases.\n",
    "   - **Larceny - All Other** and **Suspicious Activity** have the lowest recall values (0.1453 and 0.2169, respectively), indicating that the model is failing to identify most of the actual cases for these offenses.\n",
    "\n",
    "- **F1-Score**:\n",
    "   - The **F1-Score** balances precision and recall. It is highest for **Hit and Run** (0.3654), but still relatively low overall. This suggests the model is better at identifying **Hit and Run** than other offenses but still has room for improvement.\n",
    "   - **Larceny - All Other** has the lowest F1-Score (0.1772), indicating a poor balance between precision and recall for this offense.\n",
    "\n",
    "#### 4. **Macro Average and Weighted Average:**\n",
    "   - **Macro Average**: This gives the average precision, recall, and F1-Score across all classes (offenses) without considering the class distribution. It averages the results for all offenses equally.\n",
    "     - Precision: 0.2814\n",
    "     - Recall: 0.2661\n",
    "     - F1-Score: 0.2649\n",
    "   - **Weighted Average**: This averages the metrics but weighs each class by its support (the number of true instances in the test set). This gives a better sense of overall performance, considering the class distribution.\n",
    "     - Precision: 0.2799\n",
    "     - Recall: 0.2822\n",
    "     - F1-Score: 0.2720\n",
    "\n",
    "#### 5. **Confusion Matrix (Visualization Analysis)**:\n",
    "   - The confusion matrix shows the distribution of true positive, false positive, true negative, and false negative predictions for each class.\n",
    "     - For **Hit and Run**, the model performs relatively well in identifying this offense (304 true positives). However, it also misclassifies some **Hit and Run** instances as other offenses (e.g., **Assault Simple**, **Suspicious Activity**, etc.).\n",
    "     - **Larceny - All Other** is frequently misclassified as **Hit and Run**, **Suspicious Activity**, and others. This is evident from the large number of off-diagonal elements in its row.\n",
    "     - **Assist Citizen - Mental/TDO/ECO** and **Suspicious Activity** are frequently misclassified, as seen by the off-diagonal values in their rows.\n",
    "\n",
    "### Conclusion:\n",
    "The Random Forest model has low accuracy (28.22%), suggesting that it struggles to predict most offenses accurately. Some offenses like **Hit and Run** are better predicted than others, but overall, the model shows a high level of misclassification across all offenses. There may be a need for further tuning of the model, additional feature engineering, or trying different models for better performance.\n",
    "\n",
    "Let me know if you'd like to improve the model or make adjustments based on these results!\n",
    "\n"
   ]
  },
  {
   "cell_type": "markdown",
   "id": "bc6ae8cc",
   "metadata": {
    "papermill": {
     "duration": 0.010501,
     "end_time": "2025-04-27T01:05:55.952499",
     "exception": false,
     "start_time": "2025-04-27T01:05:55.941998",
     "status": "completed"
    },
    "tags": []
   },
   "source": [
    "### Model Explanation\n",
    "\n",
    "Once we’ve chosen the best model, we will explain its predictions by examining feature importance for tree-based models and using statistical methods like logistic regression coefficients for linear models."
   ]
  },
  {
   "cell_type": "markdown",
   "id": "4f3fb4fc",
   "metadata": {
    "papermill": {
     "duration": 0.010365,
     "end_time": "2025-04-27T01:05:55.973337",
     "exception": false,
     "start_time": "2025-04-27T01:05:55.962972",
     "status": "completed"
    },
    "tags": []
   },
   "source": [
    "#### Feature Importance for Random Forest / Decision Tree\n",
    "\n",
    "##### For Tree-based Models (Random Forest, Decision Tree)\n",
    "\n",
    "For Random Forest or Decision Tree, we can look at feature importance to understand which variables contribute the most to the model's predictions. Here's how you can visualize and interpret the importance of each feature:"
   ]
  },
  {
   "cell_type": "code",
   "execution_count": 23,
   "id": "8189f70c",
   "metadata": {
    "execution": {
     "iopub.execute_input": "2025-04-27T01:05:55.995166Z",
     "iopub.status.busy": "2025-04-27T01:05:55.994936Z",
     "iopub.status.idle": "2025-04-27T01:05:56.161077Z",
     "shell.execute_reply": "2025-04-27T01:05:56.160307Z"
    },
    "papermill": {
     "duration": 0.178565,
     "end_time": "2025-04-27T01:05:56.162363",
     "exception": false,
     "start_time": "2025-04-27T01:05:55.983798",
     "status": "completed"
    },
    "tags": []
   },
   "outputs": [
    {
     "data": {
      "image/png": "[encoded data removed]",
      "text/plain": [
       "<Figure size 1000x600 with 1 Axes>"
      ]
     },
     "metadata": {},
     "output_type": "display_data"
    }
   ],
   "source": [
    "# For RandomForest or DecisionTree models, we can check feature importance\n",
    "if isinstance(best_model, RandomForestClassifier) or isinstance(best_model, DecisionTreeClassifier):\n",
    "    feature_importance = best_model.feature_importances_\n",
    "    feature_names = X.columns\n",
    "    importance_df = pd.DataFrame({'Feature': feature_names, 'Importance': feature_importance})\n",
    "    importance_df = importance_df.sort_values(by='Importance', ascending=False)\n",
    "    \n",
    "    # Plotting the feature importances\n",
    "    plt.figure(figsize=(10, 6))\n",
    "    sns.barplot(x='Importance', y='Feature', data=importance_df)\n",
    "    plt.title(\"Feature Importance\")\n",
    "    plt.show()\n"
   ]
  },
  {
   "cell_type": "code",
   "execution_count": null,
   "id": "aab4ba87",
   "metadata": {
    "papermill": {
     "duration": 0.010974,
     "end_time": "2025-04-27T01:05:56.184684",
     "exception": false,
     "start_time": "2025-04-27T01:05:56.173710",
     "status": "completed"
    },
    "tags": []
   },
   "outputs": [],
   "source": []
  },
  {
   "cell_type": "markdown",
   "id": "2b85a7f3",
   "metadata": {
    "papermill": {
     "duration": 0.01087,
     "end_time": "2025-04-27T01:05:56.206545",
     "exception": false,
     "start_time": "2025-04-27T01:05:56.195675",
     "status": "completed"
    },
    "tags": []
   },
   "source": [
    "### Evaluation\n",
    "\n",
    "After training the models and examining their performance, we evaluate the chosen model based on metrics like accuracy, precision, recall, and F1 score.\n",
    "\n"
   ]
  },
  {
   "cell_type": "code",
   "execution_count": 24,
   "id": "82b8850c",
   "metadata": {
    "execution": {
     "iopub.execute_input": "2025-04-27T01:05:56.229305Z",
     "iopub.status.busy": "2025-04-27T01:05:56.229062Z",
     "iopub.status.idle": "2025-04-27T01:05:56.317458Z",
     "shell.execute_reply": "2025-04-27T01:05:56.316856Z"
    },
    "papermill": {
     "duration": 0.100898,
     "end_time": "2025-04-27T01:05:56.318456",
     "exception": false,
     "start_time": "2025-04-27T01:05:56.217558",
     "status": "completed"
    },
    "tags": []
   },
   "outputs": [
    {
     "name": "stdout",
     "output_type": "stream",
     "text": [
      "Accuracy: 0.2835\n",
      "Classification Report:\n",
      "              precision    recall  f1-score   support\n",
      "\n",
      "           0       0.29      0.37      0.33       566\n",
      "           1       0.26      0.21      0.23       420\n",
      "           2       0.33      0.45      0.38       704\n",
      "           3       0.18      0.17      0.18       430\n",
      "           4       0.34      0.19      0.24       362\n",
      "           5       0.23      0.22      0.22       499\n",
      "           6       0.31      0.25      0.28       486\n",
      "\n",
      "    accuracy                           0.28      3467\n",
      "   macro avg       0.28      0.26      0.27      3467\n",
      "weighted avg       0.28      0.28      0.28      3467\n",
      "\n",
      "Confusion Matrix:\n",
      "[[209  57 131  50  20  65  34]\n",
      " [ 98  87 106  35  15  58  21]\n",
      " [110  41 315  81  28  77  52]\n",
      " [ 72  32 120  73  19  59  55]\n",
      " [ 40  28  71  57  68  39  59]\n",
      " [103  53 110  53  23 110  47]\n",
      " [ 87  32  99  46  29  72 121]]\n",
      "Precision: 0.2812\n",
      "Recall: 0.2835\n",
      "F1 Score: 0.2767\n"
     ]
    }
   ],
   "source": [
    "from sklearn.metrics import classification_report, confusion_matrix, accuracy_score, precision_score, recall_score, f1_score\n",
    "\n",
    "# Predict on the test set\n",
    "y_pred = best_model.predict(X_test)\n",
    "\n",
    "# Calculate Accuracy\n",
    "accuracy = accuracy_score(y_test, y_pred)\n",
    "print(f\"Accuracy: {accuracy:.4f}\")\n",
    "\n",
    "# Classification Report\n",
    "print(\"Classification Report:\")\n",
    "print(classification_report(y_test, y_pred))\n",
    "\n",
    "# Confusion Matrix\n",
    "conf_matrix = confusion_matrix(y_test, y_pred)\n",
    "print(\"Confusion Matrix:\")\n",
    "print(conf_matrix)\n",
    "\n",
    "# Precision, Recall, F1 Score for each class (Offense Type)\n",
    "precision = precision_score(y_test, y_pred, average='weighted')\n",
    "recall = recall_score(y_test, y_pred, average='weighted')\n",
    "f1 = f1_score(y_test, y_pred, average='weighted')\n",
    "\n",
    "print(f\"Precision: {precision:.4f}\")\n",
    "print(f\"Recall: {recall:.4f}\")\n",
    "print(f\"F1 Score: {f1:.4f}\")\n"
   ]
  },
  {
   "cell_type": "markdown",
   "id": "d3a0d0af",
   "metadata": {
    "papermill": {
     "duration": 0.011083,
     "end_time": "2025-04-27T01:05:56.341005",
     "exception": false,
     "start_time": "2025-04-27T01:05:56.329922",
     "status": "completed"
    },
    "tags": []
   },
   "source": [
    "#### For Logistic Regression (Coefficient Interpretation)\n",
    "\n",
    "For Logistic Regression, the model coefficients can help us understand how each feature affects the likelihood of an offense happening. A positive coefficient indicates a feature increases the likelihood of the offense, and a negative coefficient indicates the opposite."
   ]
  },
  {
   "cell_type": "code",
   "execution_count": 25,
   "id": "043d29f2",
   "metadata": {
    "execution": {
     "iopub.execute_input": "2025-04-27T01:05:56.364303Z",
     "iopub.status.busy": "2025-04-27T01:05:56.363814Z",
     "iopub.status.idle": "2025-04-27T01:05:56.368441Z",
     "shell.execute_reply": "2025-04-27T01:05:56.367913Z"
    },
    "papermill": {
     "duration": 0.01726,
     "end_time": "2025-04-27T01:05:56.369382",
     "exception": false,
     "start_time": "2025-04-27T01:05:56.352122",
     "status": "completed"
    },
    "tags": []
   },
   "outputs": [],
   "source": [
    "if isinstance(best_model, LogisticRegression):\n",
    "    # Logistic regression coefficients\n",
    "    coef_df = pd.DataFrame({\n",
    "        'Feature': X.columns,\n",
    "        'Coefficient': best_model.coef_[0]\n",
    "    })\n",
    "    coef_df['AbsCoefficient'] = coef_df['Coefficient'].abs()\n",
    "    coef_df = coef_df.sort_values(by='AbsCoefficient', ascending=False)\n",
    "    \n",
    "    # Plotting the coefficients\n",
    "    plt.figure(figsize=(10, 6))\n",
    "    sns.barplot(x='AbsCoefficient', y='Feature', data=coef_df)\n",
    "    plt.title(\"Logistic Regression Coefficients Impact\")\n",
    "    plt.show()\n",
    "\n",
    "    # Print the top 5 most impactful features (by absolute coefficient value)\n",
    "    print(\"Top 5 most impactful features based on coefficients:\")\n",
    "    print(coef_df.head())\n"
   ]
  },
  {
   "cell_type": "markdown",
   "id": "c92eb6b9",
   "metadata": {
    "papermill": {
     "duration": 0.010949,
     "end_time": "2025-04-27T01:05:56.391312",
     "exception": false,
     "start_time": "2025-04-27T01:05:56.380363",
     "status": "completed"
    },
    "tags": []
   },
   "source": [
    "Explanation of Output:\n",
    "\n",
    "Feature Importance (Random Forest/Decision Tree): The bar plot will show how important each feature is in the decision-making process. Features at the top of the list are the most influential in predicting the occurrence of offenses.\n",
    "\n",
    "Logistic Regression Coefficients: The bar plot will show the magnitude of the coefficients for each feature. Features with larger absolute values (either positive or negative) have a stronger impact on the model’s predictions. Positive coefficients increase the probability of an offense, while negative coefficients decrease it."
   ]
  },
  {
   "cell_type": "markdown",
   "id": "f57f3093",
   "metadata": {
    "papermill": {
     "duration": 0.010968,
     "end_time": "2025-04-27T01:05:56.413227",
     "exception": false,
     "start_time": "2025-04-27T01:05:56.402259",
     "status": "completed"
    },
    "tags": []
   },
   "source": []
  }
 ],
 "metadata": {
  "kernelspec": {
   "display_name": "Python 3",
   "language": "python",
   "name": "python3"
  },
  "language_info": {
   "codemirror_mode": {
    "name": "ipython",
    "version": 3
   },
   "file_extension": ".py",
   "mimetype": "text/x-python",
   "name": "python",
   "nbconvert_exporter": "python",
   "pygments_lexer": "ipython3",
   "version": "3.9.22"
  },
  "papermill": {
   "default_parameters": {},
   "duration": 77.552127,
   "end_time": "2025-04-27T01:05:56.840194",
   "environment_variables": {},
   "exception": null,
   "input_path": "notebook/Crime Data.ipynb",
   "output_path": "notebook/Crime Data_output.ipynb",
   "parameters": {},
   "start_time": "2025-04-27T01:04:39.288067",
   "version": "2.6.0"
  }
 },
 "nbformat": 4,
 "nbformat_minor": 5
}