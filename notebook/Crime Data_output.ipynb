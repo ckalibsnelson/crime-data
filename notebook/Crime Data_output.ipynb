{
 "cells": [
  {
   "cell_type": "markdown",
   "id": "bc55726c",
   "metadata": {
    "papermill": {
     "duration": 0.006172,
     "end_time": "2025-04-22T01:00:29.597875",
     "exception": false,
     "start_time": "2025-04-22T01:00:29.591703",
     "status": "completed"
    },
    "tags": []
   },
   "source": [
    "# Charlottesville Open Data Porttal: Crime Data"
   ]
  },
  {
   "cell_type": "markdown",
   "id": "ec9f4543",
   "metadata": {
    "papermill": {
     "duration": 0.00503,
     "end_time": "2025-04-22T01:00:29.608361",
     "exception": false,
     "start_time": "2025-04-22T01:00:29.603331",
     "status": "completed"
    },
    "tags": []
   },
   "source": [
    "## Import Relevant Librarires & Set WD"
   ]
  },
  {
   "cell_type": "code",
   "execution_count": 1,
   "id": "e19e1c42",
   "metadata": {
    "execution": {
     "iopub.execute_input": "2025-04-22T01:00:29.619986Z",
     "iopub.status.busy": "2025-04-22T01:00:29.619438Z",
     "iopub.status.idle": "2025-04-22T01:00:30.214916Z",
     "shell.execute_reply": "2025-04-22T01:00:30.214205Z"
    },
    "papermill": {
     "duration": 0.603026,
     "end_time": "2025-04-22T01:00:30.216444",
     "exception": false,
     "start_time": "2025-04-22T01:00:29.613418",
     "status": "completed"
    },
    "tags": []
   },
   "outputs": [],
   "source": [
    "import requests\n",
    "import pandas as pd\n",
    "import numpy as np\n",
    "import pickle\n",
    "import googlemaps\n",
    "import plotly.express as px\n",
    "from geopy.geocoders import Nominatim\n",
    "import time\n",
    "from dotenv import load_dotenv\n",
    "import os\n",
    "\n",
    "env_path = os.path.join(\"..\", \".env\")\n",
    "#print(\"Looking for .env file at:\", os.path.abspath(env_path))\n",
    "load_dotenv(dotenv_path=env_path)\n",
    "\n",
    "# Retrieve the variables\n",
    "GOOGLE_API_KEY = os.getenv(\"GOOGLE_API_KEY\")\n",
    "WORKING_DIR = os.getenv(\"WORKING_DIR\")\n",
    "\n",
    "if GOOGLE_API_KEY is None or WORKING_DIR is None:\n",
    "    raise RuntimeError(\"No configuration found. Please ensure that your .env file exists with the required variables, or create a local config.py file.\")\n",
    "\n",
    "#print(\"Google API Key:\", GOOGLE_API_KEY)\n",
    "#print(\"Working Directory:\", WORKING_DIR)"
   ]
  },
  {
   "cell_type": "markdown",
   "id": "3071cb8b",
   "metadata": {
    "papermill": {
     "duration": 0.005021,
     "end_time": "2025-04-22T01:00:30.226908",
     "exception": false,
     "start_time": "2025-04-22T01:00:30.221887",
     "status": "completed"
    },
    "tags": []
   },
   "source": [
    "## Import Data\n",
    "\n",
    "URL: https://opendata.charlottesville.org/datasets/charlottesville::crime-data/about"
   ]
  },
  {
   "cell_type": "code",
   "execution_count": 2,
   "id": "87c36ecc",
   "metadata": {
    "execution": {
     "iopub.execute_input": "2025-04-22T01:00:30.238761Z",
     "iopub.status.busy": "2025-04-22T01:00:30.238078Z",
     "iopub.status.idle": "2025-04-22T01:01:30.844934Z",
     "shell.execute_reply": "2025-04-22T01:01:30.844207Z"
    },
    "papermill": {
     "duration": 60.619074,
     "end_time": "2025-04-22T01:01:30.851139",
     "exception": false,
     "start_time": "2025-04-22T01:00:30.232065",
     "status": "completed"
    },
    "tags": []
   },
   "outputs": [
    {
     "name": "stdout",
     "output_type": "stream",
     "text": [
      "Total records imported: 25249\n"
     ]
    }
   ],
   "source": [
    "# Define the endpoint and initial parameters.\n",
    "url = \"https://gisweb.charlottesville.org/arcgis/rest/services/OpenData_2/MapServer/6/query\"\n",
    "params = {\n",
    "    \"where\": \"1=1\",\n",
    "    \"outFields\": \"*\",\n",
    "    \"outSR\": 4326,\n",
    "    \"f\": \"json\",\n",
    "    \"resultOffset\": 0,       # Starting index for results\n",
    "    \"resultRecordCount\": 10000  # Maximum records per batch (if allowed by the API)\n",
    "}\n",
    "\n",
    "records = []\n",
    "\n",
    "while True:\n",
    "    response = requests.get(url, params=params)\n",
    "    response.raise_for_status()\n",
    "    data = response.json()\n",
    "    \n",
    "    # Get the current batch of features.\n",
    "    features = data.get(\"features\", [])\n",
    "    if not features:\n",
    "        break\n",
    "\n",
    "    # Extract the attributes from the features.\n",
    "    batch_records = [feature.get(\"attributes\", {}) for feature in features]\n",
    "    records.extend(batch_records)\n",
    "    \n",
    "    # If the batch size is less than the requested count, we reached the end.\n",
    "    if len(features) < params[\"resultRecordCount\"]:\n",
    "        break\n",
    "\n",
    "    # Update the resultOffset for the next batch.\n",
    "    params[\"resultOffset\"] += params[\"resultRecordCount\"]\n",
    "\n",
    "# Create a DataFrame from the combined records.\n",
    "df = pd.DataFrame(records)\n",
    "print(\"Total records imported:\", len(df))\n"
   ]
  },
  {
   "cell_type": "code",
   "execution_count": 3,
   "id": "8348f0dc",
   "metadata": {
    "execution": {
     "iopub.execute_input": "2025-04-22T01:01:30.863585Z",
     "iopub.status.busy": "2025-04-22T01:01:30.863020Z",
     "iopub.status.idle": "2025-04-22T01:01:30.875704Z",
     "shell.execute_reply": "2025-04-22T01:01:30.875011Z"
    },
    "papermill": {
     "duration": 0.020352,
     "end_time": "2025-04-22T01:01:30.876794",
     "exception": false,
     "start_time": "2025-04-22T01:01:30.856442",
     "status": "completed"
    },
    "tags": []
   },
   "outputs": [
    {
     "data": {
      "text/html": [
       "<div>\n",
       "<style scoped>\n",
       "    .dataframe tbody tr th:only-of-type {\n",
       "        vertical-align: middle;\n",
       "    }\n",
       "\n",
       "    .dataframe tbody tr th {\n",
       "        vertical-align: top;\n",
       "    }\n",
       "\n",
       "    .dataframe thead th {\n",
       "        text-align: right;\n",
       "    }\n",
       "</style>\n",
       "<table border=\"1\" class=\"dataframe\">\n",
       "  <thead>\n",
       "    <tr style=\"text-align: right;\">\n",
       "      <th></th>\n",
       "      <th>RecordID</th>\n",
       "      <th>Offense</th>\n",
       "      <th>IncidentID</th>\n",
       "      <th>BlockNumber</th>\n",
       "      <th>StreetName</th>\n",
       "      <th>Agency</th>\n",
       "      <th>DateReported</th>\n",
       "      <th>HourReported</th>\n",
       "      <th>ReportingOfficer</th>\n",
       "    </tr>\n",
       "  </thead>\n",
       "  <tbody>\n",
       "    <tr>\n",
       "      <th>0</th>\n",
       "      <td>1</td>\n",
       "      <td>Shots Fired/Illegal Hunting</td>\n",
       "      <td>202500012753</td>\n",
       "      <td>200</td>\n",
       "      <td>RIDGE MCINTIRE RD</td>\n",
       "      <td>CPD</td>\n",
       "      <td>1745113107000</td>\n",
       "      <td>2138</td>\n",
       "      <td>Darby, Michael</td>\n",
       "    </tr>\n",
       "    <tr>\n",
       "      <th>1</th>\n",
       "      <td>2</td>\n",
       "      <td>Hit and Run</td>\n",
       "      <td>202500012743</td>\n",
       "      <td></td>\n",
       "      <td>&lt;UNKNOWN&gt;</td>\n",
       "      <td>CPD</td>\n",
       "      <td>1745108345000</td>\n",
       "      <td>2019</td>\n",
       "      <td>Rigsby, Lloyd</td>\n",
       "    </tr>\n",
       "    <tr>\n",
       "      <th>2</th>\n",
       "      <td>3</td>\n",
       "      <td>Assault Simple</td>\n",
       "      <td>202500012716</td>\n",
       "      <td>1100</td>\n",
       "      <td>EMMET ST N</td>\n",
       "      <td>CPD</td>\n",
       "      <td>1745093324000</td>\n",
       "      <td>1608</td>\n",
       "      <td>Kinney, Dylan</td>\n",
       "    </tr>\n",
       "    <tr>\n",
       "      <th>3</th>\n",
       "      <td>4</td>\n",
       "      <td>Hit and Run</td>\n",
       "      <td>202500012714</td>\n",
       "      <td>200</td>\n",
       "      <td>E WATER ST</td>\n",
       "      <td>CPD</td>\n",
       "      <td>1745092174000</td>\n",
       "      <td>1549</td>\n",
       "      <td>Hannay, Jacob</td>\n",
       "    </tr>\n",
       "    <tr>\n",
       "      <th>4</th>\n",
       "      <td>5</td>\n",
       "      <td>Hit and Run</td>\n",
       "      <td>202500012704</td>\n",
       "      <td>700</td>\n",
       "      <td>LEVY AVE</td>\n",
       "      <td>CPD</td>\n",
       "      <td>1745087008000</td>\n",
       "      <td>1423</td>\n",
       "      <td>Schwartz, Honora</td>\n",
       "    </tr>\n",
       "  </tbody>\n",
       "</table>\n",
       "</div>"
      ],
      "text/plain": [
       "   RecordID                      Offense    IncidentID BlockNumber  \\\n",
       "0         1  Shots Fired/Illegal Hunting  202500012753         200   \n",
       "1         2                  Hit and Run  202500012743               \n",
       "2         3               Assault Simple  202500012716        1100   \n",
       "3         4                  Hit and Run  202500012714         200   \n",
       "4         5                  Hit and Run  202500012704         700   \n",
       "\n",
       "          StreetName Agency   DateReported HourReported  ReportingOfficer  \n",
       "0  RIDGE MCINTIRE RD    CPD  1745113107000         2138    Darby, Michael  \n",
       "1          <UNKNOWN>    CPD  1745108345000         2019     Rigsby, Lloyd  \n",
       "2         EMMET ST N    CPD  1745093324000         1608     Kinney, Dylan  \n",
       "3         E WATER ST    CPD  1745092174000         1549     Hannay, Jacob  \n",
       "4           LEVY AVE    CPD  1745087008000         1423  Schwartz, Honora  "
      ]
     },
     "execution_count": 3,
     "metadata": {},
     "output_type": "execute_result"
    }
   ],
   "source": [
    "df.head()"
   ]
  },
  {
   "cell_type": "code",
   "execution_count": 4,
   "id": "3609b2f3",
   "metadata": {
    "execution": {
     "iopub.execute_input": "2025-04-22T01:01:30.888775Z",
     "iopub.status.busy": "2025-04-22T01:01:30.888288Z",
     "iopub.status.idle": "2025-04-22T01:01:30.892584Z",
     "shell.execute_reply": "2025-04-22T01:01:30.892065Z"
    },
    "papermill": {
     "duration": 0.011305,
     "end_time": "2025-04-22T01:01:30.893565",
     "exception": false,
     "start_time": "2025-04-22T01:01:30.882260",
     "status": "completed"
    },
    "tags": []
   },
   "outputs": [
    {
     "data": {
      "text/plain": [
       "Index(['RecordID', 'Offense', 'IncidentID', 'BlockNumber', 'StreetName',\n",
       "       'Agency', 'DateReported', 'HourReported', 'ReportingOfficer'],\n",
       "      dtype='object')"
      ]
     },
     "execution_count": 4,
     "metadata": {},
     "output_type": "execute_result"
    }
   ],
   "source": [
    "df.columns"
   ]
  },
  {
   "cell_type": "code",
   "execution_count": 5,
   "id": "ae3991b2",
   "metadata": {
    "execution": {
     "iopub.execute_input": "2025-04-22T01:01:30.905512Z",
     "iopub.status.busy": "2025-04-22T01:01:30.905265Z",
     "iopub.status.idle": "2025-04-22T01:01:30.930417Z",
     "shell.execute_reply": "2025-04-22T01:01:30.929797Z"
    },
    "papermill": {
     "duration": 0.032338,
     "end_time": "2025-04-22T01:01:30.931482",
     "exception": false,
     "start_time": "2025-04-22T01:01:30.899144",
     "status": "completed"
    },
    "tags": []
   },
   "outputs": [
    {
     "name": "stdout",
     "output_type": "stream",
     "text": [
      "<class 'pandas.core.frame.DataFrame'>\n",
      "RangeIndex: 25249 entries, 0 to 25248\n",
      "Data columns (total 9 columns):\n",
      " #   Column            Non-Null Count  Dtype \n",
      "---  ------            --------------  ----- \n",
      " 0   RecordID          25249 non-null  int64 \n",
      " 1   Offense           25249 non-null  object\n",
      " 2   IncidentID        25249 non-null  object\n",
      " 3   BlockNumber       25249 non-null  object\n",
      " 4   StreetName        25249 non-null  object\n",
      " 5   Agency            25249 non-null  object\n",
      " 6   DateReported      25249 non-null  int64 \n",
      " 7   HourReported      25249 non-null  object\n",
      " 8   ReportingOfficer  25232 non-null  object\n",
      "dtypes: int64(2), object(7)\n",
      "memory usage: 1.7+ MB\n"
     ]
    }
   ],
   "source": [
    "df.info()"
   ]
  },
  {
   "cell_type": "markdown",
   "id": "5e1dc3dd",
   "metadata": {
    "papermill": {
     "duration": 0.005615,
     "end_time": "2025-04-22T01:01:30.942974",
     "exception": false,
     "start_time": "2025-04-22T01:01:30.937359",
     "status": "completed"
    },
    "tags": []
   },
   "source": [
    "### Missing Values"
   ]
  },
  {
   "cell_type": "code",
   "execution_count": 6,
   "id": "3b8e6ad5",
   "metadata": {
    "execution": {
     "iopub.execute_input": "2025-04-22T01:01:30.955513Z",
     "iopub.status.busy": "2025-04-22T01:01:30.955028Z",
     "iopub.status.idle": "2025-04-22T01:01:30.980317Z",
     "shell.execute_reply": "2025-04-22T01:01:30.979738Z"
    },
    "papermill": {
     "duration": 0.032759,
     "end_time": "2025-04-22T01:01:30.981336",
     "exception": false,
     "start_time": "2025-04-22T01:01:30.948577",
     "status": "completed"
    },
    "tags": []
   },
   "outputs": [
    {
     "name": "stdout",
     "output_type": "stream",
     "text": [
      "                  MissingCount  MissingPercentage\n",
      "RecordID                     0               0.00\n",
      "Offense                      0               0.00\n",
      "IncidentID                   0               0.00\n",
      "BlockNumber                  0               0.00\n",
      "StreetName                   0               0.00\n",
      "Agency                       0               0.00\n",
      "DateReported                 0               0.00\n",
      "HourReported                 0               0.00\n",
      "ReportingOfficer            17               0.07\n"
     ]
    }
   ],
   "source": [
    "def missing_percentage(df):\n",
    "    \"\"\"\n",
    "    Returns a DataFrame with the count and percentage of missing values for each column.\n",
    "    \n",
    "    Parameters:\n",
    "        df (pd.DataFrame): The input DataFrame.\n",
    "    \n",
    "    Returns:\n",
    "        pd.DataFrame: A DataFrame with columns 'MissingCount' and 'MissingPercentage'.\n",
    "    \"\"\"\n",
    "    total_rows = len(df)\n",
    "    missing_count = df.isnull().sum()\n",
    "    missing_percent = (missing_count / total_rows) * 100\n",
    "    \n",
    "    result = pd.DataFrame({\n",
    "        'MissingCount': missing_count,\n",
    "        'MissingPercentage': missing_percent.round(2)\n",
    "    })\n",
    "    \n",
    "    return result\n",
    "\n",
    "# Example usage:\n",
    "missing_info = missing_percentage(df)\n",
    "print(missing_info)\n"
   ]
  },
  {
   "cell_type": "markdown",
   "id": "931c3c5f",
   "metadata": {
    "papermill": {
     "duration": 0.005843,
     "end_time": "2025-04-22T01:01:30.993203",
     "exception": false,
     "start_time": "2025-04-22T01:01:30.987360",
     "status": "completed"
    },
    "tags": []
   },
   "source": [
    "## Data Preparation"
   ]
  },
  {
   "cell_type": "markdown",
   "id": "b2f67471",
   "metadata": {
    "papermill": {
     "duration": 0.005636,
     "end_time": "2025-04-22T01:01:31.004538",
     "exception": false,
     "start_time": "2025-04-22T01:01:30.998902",
     "status": "completed"
    },
    "tags": []
   },
   "source": [
    "### Data Conversion"
   ]
  },
  {
   "cell_type": "code",
   "execution_count": 7,
   "id": "bf384d7a",
   "metadata": {
    "execution": {
     "iopub.execute_input": "2025-04-22T01:01:31.017825Z",
     "iopub.status.busy": "2025-04-22T01:01:31.017316Z",
     "iopub.status.idle": "2025-04-22T01:01:31.385368Z",
     "shell.execute_reply": "2025-04-22T01:01:31.384632Z"
    },
    "papermill": {
     "duration": 0.375888,
     "end_time": "2025-04-22T01:01:31.386508",
     "exception": false,
     "start_time": "2025-04-22T01:01:31.010620",
     "status": "completed"
    },
    "tags": []
   },
   "outputs": [
    {
     "data": {
      "text/html": [
       "<div>\n",
       "<style scoped>\n",
       "    .dataframe tbody tr th:only-of-type {\n",
       "        vertical-align: middle;\n",
       "    }\n",
       "\n",
       "    .dataframe tbody tr th {\n",
       "        vertical-align: top;\n",
       "    }\n",
       "\n",
       "    .dataframe thead th {\n",
       "        text-align: right;\n",
       "    }\n",
       "</style>\n",
       "<table border=\"1\" class=\"dataframe\">\n",
       "  <thead>\n",
       "    <tr style=\"text-align: right;\">\n",
       "      <th></th>\n",
       "      <th>RecordID</th>\n",
       "      <th>Offense</th>\n",
       "      <th>IncidentID</th>\n",
       "      <th>BlockNumber</th>\n",
       "      <th>StreetName</th>\n",
       "      <th>Agency</th>\n",
       "      <th>HourReported</th>\n",
       "      <th>ReportingOfficer</th>\n",
       "      <th>Date</th>\n",
       "      <th>DateString</th>\n",
       "      <th>DayOfWeek</th>\n",
       "      <th>Weekend</th>\n",
       "      <th>Season</th>\n",
       "      <th>HourAMPM</th>\n",
       "      <th>TimeOfDay</th>\n",
       "    </tr>\n",
       "  </thead>\n",
       "  <tbody>\n",
       "    <tr>\n",
       "      <th>0</th>\n",
       "      <td>1</td>\n",
       "      <td>Shots Fired/Illegal Hunting</td>\n",
       "      <td>202500012753</td>\n",
       "      <td>200</td>\n",
       "      <td>RIDGE MCINTIRE RD</td>\n",
       "      <td>CPD</td>\n",
       "      <td>2138</td>\n",
       "      <td>Darby, Michael</td>\n",
       "      <td>2025-04-19 21:38:27</td>\n",
       "      <td>2025-04-19 09:38:27 PM</td>\n",
       "      <td>Saturday</td>\n",
       "      <td>True</td>\n",
       "      <td>Spring</td>\n",
       "      <td>09:38 PM</td>\n",
       "      <td>Night</td>\n",
       "    </tr>\n",
       "    <tr>\n",
       "      <th>1</th>\n",
       "      <td>2</td>\n",
       "      <td>Hit and Run</td>\n",
       "      <td>202500012743</td>\n",
       "      <td></td>\n",
       "      <td>&lt;UNKNOWN&gt;</td>\n",
       "      <td>CPD</td>\n",
       "      <td>2019</td>\n",
       "      <td>Rigsby, Lloyd</td>\n",
       "      <td>2025-04-19 20:19:05</td>\n",
       "      <td>2025-04-19 08:19:05 PM</td>\n",
       "      <td>Saturday</td>\n",
       "      <td>True</td>\n",
       "      <td>Spring</td>\n",
       "      <td>08:19 PM</td>\n",
       "      <td>Evening</td>\n",
       "    </tr>\n",
       "    <tr>\n",
       "      <th>2</th>\n",
       "      <td>3</td>\n",
       "      <td>Assault Simple</td>\n",
       "      <td>202500012716</td>\n",
       "      <td>1100</td>\n",
       "      <td>EMMET ST N</td>\n",
       "      <td>CPD</td>\n",
       "      <td>1608</td>\n",
       "      <td>Kinney, Dylan</td>\n",
       "      <td>2025-04-19 16:08:44</td>\n",
       "      <td>2025-04-19 04:08:44 PM</td>\n",
       "      <td>Saturday</td>\n",
       "      <td>True</td>\n",
       "      <td>Spring</td>\n",
       "      <td>04:08 PM</td>\n",
       "      <td>Afternoon</td>\n",
       "    </tr>\n",
       "    <tr>\n",
       "      <th>3</th>\n",
       "      <td>4</td>\n",
       "      <td>Hit and Run</td>\n",
       "      <td>202500012714</td>\n",
       "      <td>200</td>\n",
       "      <td>E WATER ST</td>\n",
       "      <td>CPD</td>\n",
       "      <td>1549</td>\n",
       "      <td>Hannay, Jacob</td>\n",
       "      <td>2025-04-19 15:49:34</td>\n",
       "      <td>2025-04-19 03:49:34 PM</td>\n",
       "      <td>Saturday</td>\n",
       "      <td>True</td>\n",
       "      <td>Spring</td>\n",
       "      <td>03:49 PM</td>\n",
       "      <td>Afternoon</td>\n",
       "    </tr>\n",
       "    <tr>\n",
       "      <th>4</th>\n",
       "      <td>5</td>\n",
       "      <td>Hit and Run</td>\n",
       "      <td>202500012704</td>\n",
       "      <td>700</td>\n",
       "      <td>LEVY AVE</td>\n",
       "      <td>CPD</td>\n",
       "      <td>1423</td>\n",
       "      <td>Schwartz, Honora</td>\n",
       "      <td>2025-04-19 14:23:28</td>\n",
       "      <td>2025-04-19 02:23:28 PM</td>\n",
       "      <td>Saturday</td>\n",
       "      <td>True</td>\n",
       "      <td>Spring</td>\n",
       "      <td>02:23 PM</td>\n",
       "      <td>Afternoon</td>\n",
       "    </tr>\n",
       "  </tbody>\n",
       "</table>\n",
       "</div>"
      ],
      "text/plain": [
       "   RecordID                      Offense    IncidentID BlockNumber  \\\n",
       "0         1  Shots Fired/Illegal Hunting  202500012753         200   \n",
       "1         2                  Hit and Run  202500012743               \n",
       "2         3               Assault Simple  202500012716        1100   \n",
       "3         4                  Hit and Run  202500012714         200   \n",
       "4         5                  Hit and Run  202500012704         700   \n",
       "\n",
       "          StreetName Agency HourReported  ReportingOfficer  \\\n",
       "0  RIDGE MCINTIRE RD    CPD         2138    Darby, Michael   \n",
       "1          <UNKNOWN>    CPD         2019     Rigsby, Lloyd   \n",
       "2         EMMET ST N    CPD         1608     Kinney, Dylan   \n",
       "3         E WATER ST    CPD         1549     Hannay, Jacob   \n",
       "4           LEVY AVE    CPD         1423  Schwartz, Honora   \n",
       "\n",
       "                 Date              DateString DayOfWeek  Weekend  Season  \\\n",
       "0 2025-04-19 21:38:27  2025-04-19 09:38:27 PM  Saturday     True  Spring   \n",
       "1 2025-04-19 20:19:05  2025-04-19 08:19:05 PM  Saturday     True  Spring   \n",
       "2 2025-04-19 16:08:44  2025-04-19 04:08:44 PM  Saturday     True  Spring   \n",
       "3 2025-04-19 15:49:34  2025-04-19 03:49:34 PM  Saturday     True  Spring   \n",
       "4 2025-04-19 14:23:28  2025-04-19 02:23:28 PM  Saturday     True  Spring   \n",
       "\n",
       "   HourAMPM  TimeOfDay  \n",
       "0  09:38 PM      Night  \n",
       "1  08:19 PM    Evening  \n",
       "2  04:08 PM  Afternoon  \n",
       "3  03:49 PM  Afternoon  \n",
       "4  02:23 PM  Afternoon  "
      ]
     },
     "execution_count": 7,
     "metadata": {},
     "output_type": "execute_result"
    }
   ],
   "source": [
    "def convert_and_categorize_datereported(df, col='DateReported'):\n",
    "    \"\"\"\n",
    "    Converts an epoch (in milliseconds) date column into a timezone-aware datetime,\n",
    "    converts it to Eastern Time, and then creates columns for day-of-week, weekend flag,\n",
    "    season, 12-hour formatted time, and time-of-day. Keeps both a real datetime column\n",
    "    (Date) and a string representation (DateString).\n",
    "    \"\"\"\n",
    "    import pandas as pd\n",
    "\n",
    "    # Convert the epoch timestamp to a pandas datetime object as UTC, then convert to US/Eastern.\n",
    "    df[\"DateReported_dt\"] = (\n",
    "        pd.to_datetime(df[col], unit=\"ms\", errors=\"coerce\", utc=True)\n",
    "        .dt.tz_convert(\"US/Eastern\")\n",
    "    )\n",
    "    \n",
    "    # Create a true datetime column (remove timezone if you prefer naive datetime)\n",
    "    df[\"Date\"] = df[\"DateReported_dt\"].dt.tz_localize(None)\n",
    "\n",
    "    # Optionally, create a separate string-formatted column\n",
    "    df[\"DateString\"] = df[\"DateReported_dt\"].dt.strftime(\"%Y-%m-%d %I:%M:%S %p\")\n",
    "    \n",
    "    # DayOfWeek\n",
    "    df[\"DayOfWeek\"] = df[\"DateReported_dt\"].dt.day_name()\n",
    "    \n",
    "    # Weekend\n",
    "    df[\"Weekend\"] = df[\"DayOfWeek\"].isin([\"Saturday\", \"Sunday\"])\n",
    "    \n",
    "    # Helper function to determine the season\n",
    "    def get_season(dt):\n",
    "        month = dt.month\n",
    "        day = dt.day\n",
    "        # Approximate Northern Hemisphere season boundaries:\n",
    "        if (month == 12 and day >= 21) or (month < 3) or (month == 3 and day < 20):\n",
    "            return \"Winter\"\n",
    "        elif (month == 3 and day >= 20) or (month < 6) or (month == 6 and day < 21):\n",
    "            return \"Spring\"\n",
    "        elif (month == 6 and day >= 21) or (month < 9) or (month == 9 and day < 22):\n",
    "            return \"Summer\"\n",
    "        else:\n",
    "            return \"Autumn\"\n",
    "    \n",
    "    df[\"Season\"] = df[\"DateReported_dt\"].apply(get_season)\n",
    "    \n",
    "    # 12-hour formatted time (HourAMPM)\n",
    "    df[\"HourAMPM\"] = df[\"DateReported_dt\"].dt.strftime(\"%I:%M %p\")\n",
    "    \n",
    "    # Extract hour (0-23) for time-of-day\n",
    "    df[\"HourValue\"] = df[\"DateReported_dt\"].dt.hour\n",
    "    \n",
    "    def time_of_day(hour):\n",
    "        if pd.isnull(hour):\n",
    "            return None\n",
    "        if 5 <= hour < 12:\n",
    "            return \"Morning\"\n",
    "        elif 12 <= hour < 17:\n",
    "            return \"Afternoon\"\n",
    "        elif 17 <= hour < 21:\n",
    "            return \"Evening\"\n",
    "        else:\n",
    "            return \"Night\"\n",
    "    \n",
    "    df[\"TimeOfDay\"] = df[\"HourValue\"].apply(time_of_day)\n",
    "    \n",
    "    # Drop columns you no longer need\n",
    "    df.drop(columns=[col, \"DateReported_dt\", \"HourValue\"], inplace=True)\n",
    "    \n",
    "    return df\n",
    "\n",
    "# Example usage:\n",
    "df = convert_and_categorize_datereported(df)\n",
    "df.head()\n"
   ]
  },
  {
   "cell_type": "code",
   "execution_count": 8,
   "id": "5aa26959",
   "metadata": {
    "execution": {
     "iopub.execute_input": "2025-04-22T01:01:31.399912Z",
     "iopub.status.busy": "2025-04-22T01:01:31.399452Z",
     "iopub.status.idle": "2025-04-22T01:01:31.429090Z",
     "shell.execute_reply": "2025-04-22T01:01:31.428519Z"
    },
    "papermill": {
     "duration": 0.037415,
     "end_time": "2025-04-22T01:01:31.430192",
     "exception": false,
     "start_time": "2025-04-22T01:01:31.392777",
     "status": "completed"
    },
    "tags": []
   },
   "outputs": [
    {
     "name": "stdout",
     "output_type": "stream",
     "text": [
      "<class 'pandas.core.frame.DataFrame'>\n",
      "RangeIndex: 25249 entries, 0 to 25248\n",
      "Data columns (total 15 columns):\n",
      " #   Column            Non-Null Count  Dtype         \n",
      "---  ------            --------------  -----         \n",
      " 0   RecordID          25249 non-null  int64         \n",
      " 1   Offense           25249 non-null  object        \n",
      " 2   IncidentID        25249 non-null  object        \n",
      " 3   BlockNumber       25249 non-null  object        \n",
      " 4   StreetName        25249 non-null  object        \n",
      " 5   Agency            25249 non-null  object        \n",
      " 6   HourReported      25249 non-null  object        \n",
      " 7   ReportingOfficer  25232 non-null  object        \n",
      " 8   Date              25249 non-null  datetime64[ns]\n",
      " 9   DateString        25249 non-null  object        \n",
      " 10  DayOfWeek         25249 non-null  object        \n",
      " 11  Weekend           25249 non-null  bool          \n",
      " 12  Season            25249 non-null  object        \n",
      " 13  HourAMPM          25249 non-null  object        \n",
      " 14  TimeOfDay         25249 non-null  object        \n",
      "dtypes: bool(1), datetime64[ns](1), int64(1), object(12)\n",
      "memory usage: 2.7+ MB\n"
     ]
    }
   ],
   "source": [
    "df.info()"
   ]
  },
  {
   "cell_type": "markdown",
   "id": "ebc722e0",
   "metadata": {
    "papermill": {
     "duration": 0.005945,
     "end_time": "2025-04-22T01:01:31.442333",
     "exception": false,
     "start_time": "2025-04-22T01:01:31.436388",
     "status": "completed"
    },
    "tags": []
   },
   "source": [
    "### Coordinates"
   ]
  },
  {
   "cell_type": "code",
   "execution_count": 9,
   "id": "4de3625d",
   "metadata": {
    "execution": {
     "iopub.execute_input": "2025-04-22T01:01:31.455726Z",
     "iopub.status.busy": "2025-04-22T01:01:31.455243Z",
     "iopub.status.idle": "2025-04-22T01:01:31.647741Z",
     "shell.execute_reply": "2025-04-22T01:01:31.647056Z"
    },
    "papermill": {
     "duration": 0.200523,
     "end_time": "2025-04-22T01:01:31.648781",
     "exception": false,
     "start_time": "2025-04-22T01:01:31.448258",
     "status": "completed"
    },
    "tags": []
   },
   "outputs": [
    {
     "name": "stdout",
     "output_type": "stream",
     "text": [
      "Loaded geocode cache.\n",
      "Geocoded 1300 BELLEVIEW AVE, 1084: 38.037514, -78.459605\n",
      "Geocode cache updated and saved.\n"
     ]
    },
    {
     "data": {
      "text/html": [
       "<div>\n",
       "<style scoped>\n",
       "    .dataframe tbody tr th:only-of-type {\n",
       "        vertical-align: middle;\n",
       "    }\n",
       "\n",
       "    .dataframe tbody tr th {\n",
       "        vertical-align: top;\n",
       "    }\n",
       "\n",
       "    .dataframe thead th {\n",
       "        text-align: right;\n",
       "    }\n",
       "</style>\n",
       "<table border=\"1\" class=\"dataframe\">\n",
       "  <thead>\n",
       "    <tr style=\"text-align: right;\">\n",
       "      <th></th>\n",
       "      <th>RecordID</th>\n",
       "      <th>Offense</th>\n",
       "      <th>IncidentID</th>\n",
       "      <th>BlockNumber</th>\n",
       "      <th>StreetName</th>\n",
       "      <th>Agency</th>\n",
       "      <th>HourReported</th>\n",
       "      <th>ReportingOfficer</th>\n",
       "      <th>Date</th>\n",
       "      <th>DateString</th>\n",
       "      <th>DayOfWeek</th>\n",
       "      <th>Weekend</th>\n",
       "      <th>Season</th>\n",
       "      <th>HourAMPM</th>\n",
       "      <th>TimeOfDay</th>\n",
       "      <th>FullStreet</th>\n",
       "      <th>lat</th>\n",
       "      <th>lon</th>\n",
       "    </tr>\n",
       "  </thead>\n",
       "  <tbody>\n",
       "    <tr>\n",
       "      <th>0</th>\n",
       "      <td>1</td>\n",
       "      <td>Shots Fired/Illegal Hunting</td>\n",
       "      <td>202500012753</td>\n",
       "      <td>200</td>\n",
       "      <td>RIDGE MCINTIRE RD</td>\n",
       "      <td>CPD</td>\n",
       "      <td>2138</td>\n",
       "      <td>Darby, Michael</td>\n",
       "      <td>2025-04-19 21:38:27</td>\n",
       "      <td>2025-04-19 09:38:27 PM</td>\n",
       "      <td>Saturday</td>\n",
       "      <td>True</td>\n",
       "      <td>Spring</td>\n",
       "      <td>09:38 PM</td>\n",
       "      <td>Night</td>\n",
       "      <td>200 RIDGE MCINTIRE RD</td>\n",
       "      <td>38.031221</td>\n",
       "      <td>-78.483889</td>\n",
       "    </tr>\n",
       "    <tr>\n",
       "      <th>1</th>\n",
       "      <td>2</td>\n",
       "      <td>Hit and Run</td>\n",
       "      <td>202500012743</td>\n",
       "      <td></td>\n",
       "      <td>&lt;UNKNOWN&gt;</td>\n",
       "      <td>CPD</td>\n",
       "      <td>2019</td>\n",
       "      <td>Rigsby, Lloyd</td>\n",
       "      <td>2025-04-19 20:19:05</td>\n",
       "      <td>2025-04-19 08:19:05 PM</td>\n",
       "      <td>Saturday</td>\n",
       "      <td>True</td>\n",
       "      <td>Spring</td>\n",
       "      <td>08:19 PM</td>\n",
       "      <td>Evening</td>\n",
       "      <td>&lt;UNKNOWN&gt;</td>\n",
       "      <td>38.029306</td>\n",
       "      <td>-78.476678</td>\n",
       "    </tr>\n",
       "    <tr>\n",
       "      <th>2</th>\n",
       "      <td>3</td>\n",
       "      <td>Assault Simple</td>\n",
       "      <td>202500012716</td>\n",
       "      <td>1100</td>\n",
       "      <td>EMMET ST N</td>\n",
       "      <td>CPD</td>\n",
       "      <td>1608</td>\n",
       "      <td>Kinney, Dylan</td>\n",
       "      <td>2025-04-19 16:08:44</td>\n",
       "      <td>2025-04-19 04:08:44 PM</td>\n",
       "      <td>Saturday</td>\n",
       "      <td>True</td>\n",
       "      <td>Spring</td>\n",
       "      <td>04:08 PM</td>\n",
       "      <td>Afternoon</td>\n",
       "      <td>1100 EMMET ST N</td>\n",
       "      <td>38.051639</td>\n",
       "      <td>-78.501523</td>\n",
       "    </tr>\n",
       "    <tr>\n",
       "      <th>3</th>\n",
       "      <td>4</td>\n",
       "      <td>Hit and Run</td>\n",
       "      <td>202500012714</td>\n",
       "      <td>200</td>\n",
       "      <td>E WATER ST</td>\n",
       "      <td>CPD</td>\n",
       "      <td>1549</td>\n",
       "      <td>Hannay, Jacob</td>\n",
       "      <td>2025-04-19 15:49:34</td>\n",
       "      <td>2025-04-19 03:49:34 PM</td>\n",
       "      <td>Saturday</td>\n",
       "      <td>True</td>\n",
       "      <td>Spring</td>\n",
       "      <td>03:49 PM</td>\n",
       "      <td>Afternoon</td>\n",
       "      <td>200 E WATER ST</td>\n",
       "      <td>38.029430</td>\n",
       "      <td>-78.481109</td>\n",
       "    </tr>\n",
       "    <tr>\n",
       "      <th>4</th>\n",
       "      <td>5</td>\n",
       "      <td>Hit and Run</td>\n",
       "      <td>202500012704</td>\n",
       "      <td>700</td>\n",
       "      <td>LEVY AVE</td>\n",
       "      <td>CPD</td>\n",
       "      <td>1423</td>\n",
       "      <td>Schwartz, Honora</td>\n",
       "      <td>2025-04-19 14:23:28</td>\n",
       "      <td>2025-04-19 02:23:28 PM</td>\n",
       "      <td>Saturday</td>\n",
       "      <td>True</td>\n",
       "      <td>Spring</td>\n",
       "      <td>02:23 PM</td>\n",
       "      <td>Afternoon</td>\n",
       "      <td>700 LEVY AVE</td>\n",
       "      <td>38.026760</td>\n",
       "      <td>-78.477623</td>\n",
       "    </tr>\n",
       "  </tbody>\n",
       "</table>\n",
       "</div>"
      ],
      "text/plain": [
       "   RecordID                      Offense    IncidentID BlockNumber  \\\n",
       "0         1  Shots Fired/Illegal Hunting  202500012753         200   \n",
       "1         2                  Hit and Run  202500012743               \n",
       "2         3               Assault Simple  202500012716        1100   \n",
       "3         4                  Hit and Run  202500012714         200   \n",
       "4         5                  Hit and Run  202500012704         700   \n",
       "\n",
       "          StreetName Agency HourReported  ReportingOfficer  \\\n",
       "0  RIDGE MCINTIRE RD    CPD         2138    Darby, Michael   \n",
       "1          <UNKNOWN>    CPD         2019     Rigsby, Lloyd   \n",
       "2         EMMET ST N    CPD         1608     Kinney, Dylan   \n",
       "3         E WATER ST    CPD         1549     Hannay, Jacob   \n",
       "4           LEVY AVE    CPD         1423  Schwartz, Honora   \n",
       "\n",
       "                 Date              DateString DayOfWeek  Weekend  Season  \\\n",
       "0 2025-04-19 21:38:27  2025-04-19 09:38:27 PM  Saturday     True  Spring   \n",
       "1 2025-04-19 20:19:05  2025-04-19 08:19:05 PM  Saturday     True  Spring   \n",
       "2 2025-04-19 16:08:44  2025-04-19 04:08:44 PM  Saturday     True  Spring   \n",
       "3 2025-04-19 15:49:34  2025-04-19 03:49:34 PM  Saturday     True  Spring   \n",
       "4 2025-04-19 14:23:28  2025-04-19 02:23:28 PM  Saturday     True  Spring   \n",
       "\n",
       "   HourAMPM  TimeOfDay             FullStreet        lat        lon  \n",
       "0  09:38 PM      Night  200 RIDGE MCINTIRE RD  38.031221 -78.483889  \n",
       "1  08:19 PM    Evening              <UNKNOWN>  38.029306 -78.476678  \n",
       "2  04:08 PM  Afternoon        1100 EMMET ST N  38.051639 -78.501523  \n",
       "3  03:49 PM  Afternoon         200 E WATER ST  38.029430 -78.481109  \n",
       "4  02:23 PM  Afternoon           700 LEVY AVE  38.026760 -78.477623  "
      ]
     },
     "execution_count": 9,
     "metadata": {},
     "output_type": "execute_result"
    }
   ],
   "source": [
    "# Combine BlockNumber and StreetName into a full address string\n",
    "df['FullStreet'] = df['BlockNumber'].astype(str) + \" \" + df['StreetName']\n",
    "\n",
    "# --- Step 1: Setup the Google Maps Client and Cache ---\n",
    "gmaps = googlemaps.Client(key=GOOGLE_API_KEY)\n",
    "\n",
    "# Try to load cached geocoding results if available.\n",
    "try:\n",
    "    with open(\"geocode_cache_google.pkl\", \"rb\") as f:\n",
    "        street_coords = pickle.load(f)\n",
    "    print(\"Loaded geocode cache.\")\n",
    "except FileNotFoundError:\n",
    "    street_coords = {}\n",
    "    print(\"No cache found; starting fresh.\")\n",
    "\n",
    "def geocode_address(address):\n",
    "    try:\n",
    "        # Append city and state to help geocoding\n",
    "        result = gmaps.geocode(f\"{address}, Charlottesville, VA\")\n",
    "        if result:\n",
    "            lat = result[0]['geometry']['location']['lat']\n",
    "            lon = result[0]['geometry']['location']['lng']\n",
    "            return lat, lon\n",
    "    except Exception as e:\n",
    "        print(f\"Error geocoding {address}: {e}\")\n",
    "    return None, None\n",
    "\n",
    "# --- Step 2: Geocode Only New Addresses ---\n",
    "unique_addresses = df['FullStreet'].unique()\n",
    "for address in unique_addresses:\n",
    "    if address not in street_coords:\n",
    "        lat, lon = geocode_address(address)\n",
    "        street_coords[address] = (lat, lon)\n",
    "        print(f\"Geocoded {address}: {lat}, {lon}\")\n",
    "\n",
    "# Save the updated cache to disk.\n",
    "with open(\"geocode_cache_google.pkl\", \"wb\") as f:\n",
    "    pickle.dump(street_coords, f)\n",
    "    print(\"Geocode cache updated and saved.\")\n",
    "\n",
    "# --- Step 3: Map Coordinates Back to DataFrame ---\n",
    "df['lat'] = df['FullStreet'].map(lambda s: street_coords.get(s, (None, None))[0])\n",
    "df['lon'] = df['FullStreet'].map(lambda s: street_coords.get(s, (None, None))[1])\n",
    "\n",
    "df.head()"
   ]
  },
  {
   "cell_type": "markdown",
   "id": "5597f4af",
   "metadata": {
    "papermill": {
     "duration": 0.00627,
     "end_time": "2025-04-22T01:01:31.661709",
     "exception": false,
     "start_time": "2025-04-22T01:01:31.655439",
     "status": "completed"
    },
    "tags": []
   },
   "source": [
    "### Neighborhood"
   ]
  },
  {
   "cell_type": "code",
   "execution_count": 10,
   "id": "1ba9146d",
   "metadata": {
    "execution": {
     "iopub.execute_input": "2025-04-22T01:01:31.675668Z",
     "iopub.status.busy": "2025-04-22T01:01:31.675090Z",
     "iopub.status.idle": "2025-04-22T01:01:31.942539Z",
     "shell.execute_reply": "2025-04-22T01:01:31.941830Z"
    },
    "papermill": {
     "duration": 0.27579,
     "end_time": "2025-04-22T01:01:31.943719",
     "exception": false,
     "start_time": "2025-04-22T01:01:31.667929",
     "status": "completed"
    },
    "tags": []
   },
   "outputs": [
    {
     "name": "stdout",
     "output_type": "stream",
     "text": [
      "Loaded neighborhood cache.\n"
     ]
    },
    {
     "data": {
      "text/html": [
       "<div>\n",
       "<style scoped>\n",
       "    .dataframe tbody tr th:only-of-type {\n",
       "        vertical-align: middle;\n",
       "    }\n",
       "\n",
       "    .dataframe tbody tr th {\n",
       "        vertical-align: top;\n",
       "    }\n",
       "\n",
       "    .dataframe thead th {\n",
       "        text-align: right;\n",
       "    }\n",
       "</style>\n",
       "<table border=\"1\" class=\"dataframe\">\n",
       "  <thead>\n",
       "    <tr style=\"text-align: right;\">\n",
       "      <th></th>\n",
       "      <th>RecordID</th>\n",
       "      <th>Offense</th>\n",
       "      <th>IncidentID</th>\n",
       "      <th>BlockNumber</th>\n",
       "      <th>StreetName</th>\n",
       "      <th>Agency</th>\n",
       "      <th>HourReported</th>\n",
       "      <th>ReportingOfficer</th>\n",
       "      <th>Date</th>\n",
       "      <th>DateString</th>\n",
       "      <th>DayOfWeek</th>\n",
       "      <th>Weekend</th>\n",
       "      <th>Season</th>\n",
       "      <th>HourAMPM</th>\n",
       "      <th>TimeOfDay</th>\n",
       "      <th>FullStreet</th>\n",
       "      <th>lat</th>\n",
       "      <th>lon</th>\n",
       "      <th>neighborhood</th>\n",
       "    </tr>\n",
       "  </thead>\n",
       "  <tbody>\n",
       "    <tr>\n",
       "      <th>0</th>\n",
       "      <td>1</td>\n",
       "      <td>Shots Fired/Illegal Hunting</td>\n",
       "      <td>202500012753</td>\n",
       "      <td>200</td>\n",
       "      <td>RIDGE MCINTIRE RD</td>\n",
       "      <td>CPD</td>\n",
       "      <td>2138</td>\n",
       "      <td>Darby, Michael</td>\n",
       "      <td>2025-04-19 21:38:27</td>\n",
       "      <td>2025-04-19 09:38:27 PM</td>\n",
       "      <td>Saturday</td>\n",
       "      <td>True</td>\n",
       "      <td>Spring</td>\n",
       "      <td>09:38 PM</td>\n",
       "      <td>Night</td>\n",
       "      <td>200 RIDGE MCINTIRE RD</td>\n",
       "      <td>38.031221</td>\n",
       "      <td>-78.483889</td>\n",
       "      <td>Downtown Mall</td>\n",
       "    </tr>\n",
       "    <tr>\n",
       "      <th>1</th>\n",
       "      <td>2</td>\n",
       "      <td>Hit and Run</td>\n",
       "      <td>202500012743</td>\n",
       "      <td></td>\n",
       "      <td>&lt;UNKNOWN&gt;</td>\n",
       "      <td>CPD</td>\n",
       "      <td>2019</td>\n",
       "      <td>Rigsby, Lloyd</td>\n",
       "      <td>2025-04-19 20:19:05</td>\n",
       "      <td>2025-04-19 08:19:05 PM</td>\n",
       "      <td>Saturday</td>\n",
       "      <td>True</td>\n",
       "      <td>Spring</td>\n",
       "      <td>08:19 PM</td>\n",
       "      <td>Evening</td>\n",
       "      <td>&lt;UNKNOWN&gt;</td>\n",
       "      <td>38.029306</td>\n",
       "      <td>-78.476678</td>\n",
       "      <td>Downtown Mall</td>\n",
       "    </tr>\n",
       "    <tr>\n",
       "      <th>2</th>\n",
       "      <td>3</td>\n",
       "      <td>Assault Simple</td>\n",
       "      <td>202500012716</td>\n",
       "      <td>1100</td>\n",
       "      <td>EMMET ST N</td>\n",
       "      <td>CPD</td>\n",
       "      <td>1608</td>\n",
       "      <td>Kinney, Dylan</td>\n",
       "      <td>2025-04-19 16:08:44</td>\n",
       "      <td>2025-04-19 04:08:44 PM</td>\n",
       "      <td>Saturday</td>\n",
       "      <td>True</td>\n",
       "      <td>Spring</td>\n",
       "      <td>04:08 PM</td>\n",
       "      <td>Afternoon</td>\n",
       "      <td>1100 EMMET ST N</td>\n",
       "      <td>38.051639</td>\n",
       "      <td>-78.501523</td>\n",
       "      <td>Barracks Road</td>\n",
       "    </tr>\n",
       "    <tr>\n",
       "      <th>3</th>\n",
       "      <td>4</td>\n",
       "      <td>Hit and Run</td>\n",
       "      <td>202500012714</td>\n",
       "      <td>200</td>\n",
       "      <td>E WATER ST</td>\n",
       "      <td>CPD</td>\n",
       "      <td>1549</td>\n",
       "      <td>Hannay, Jacob</td>\n",
       "      <td>2025-04-19 15:49:34</td>\n",
       "      <td>2025-04-19 03:49:34 PM</td>\n",
       "      <td>Saturday</td>\n",
       "      <td>True</td>\n",
       "      <td>Spring</td>\n",
       "      <td>03:49 PM</td>\n",
       "      <td>Afternoon</td>\n",
       "      <td>200 E WATER ST</td>\n",
       "      <td>38.029430</td>\n",
       "      <td>-78.481109</td>\n",
       "      <td>North Downtown</td>\n",
       "    </tr>\n",
       "    <tr>\n",
       "      <th>4</th>\n",
       "      <td>5</td>\n",
       "      <td>Hit and Run</td>\n",
       "      <td>202500012704</td>\n",
       "      <td>700</td>\n",
       "      <td>LEVY AVE</td>\n",
       "      <td>CPD</td>\n",
       "      <td>1423</td>\n",
       "      <td>Schwartz, Honora</td>\n",
       "      <td>2025-04-19 14:23:28</td>\n",
       "      <td>2025-04-19 02:23:28 PM</td>\n",
       "      <td>Saturday</td>\n",
       "      <td>True</td>\n",
       "      <td>Spring</td>\n",
       "      <td>02:23 PM</td>\n",
       "      <td>Afternoon</td>\n",
       "      <td>700 LEVY AVE</td>\n",
       "      <td>38.026760</td>\n",
       "      <td>-78.477623</td>\n",
       "      <td>Belmont</td>\n",
       "    </tr>\n",
       "  </tbody>\n",
       "</table>\n",
       "</div>"
      ],
      "text/plain": [
       "   RecordID                      Offense    IncidentID BlockNumber  \\\n",
       "0         1  Shots Fired/Illegal Hunting  202500012753         200   \n",
       "1         2                  Hit and Run  202500012743               \n",
       "2         3               Assault Simple  202500012716        1100   \n",
       "3         4                  Hit and Run  202500012714         200   \n",
       "4         5                  Hit and Run  202500012704         700   \n",
       "\n",
       "          StreetName Agency HourReported  ReportingOfficer  \\\n",
       "0  RIDGE MCINTIRE RD    CPD         2138    Darby, Michael   \n",
       "1          <UNKNOWN>    CPD         2019     Rigsby, Lloyd   \n",
       "2         EMMET ST N    CPD         1608     Kinney, Dylan   \n",
       "3         E WATER ST    CPD         1549     Hannay, Jacob   \n",
       "4           LEVY AVE    CPD         1423  Schwartz, Honora   \n",
       "\n",
       "                 Date              DateString DayOfWeek  Weekend  Season  \\\n",
       "0 2025-04-19 21:38:27  2025-04-19 09:38:27 PM  Saturday     True  Spring   \n",
       "1 2025-04-19 20:19:05  2025-04-19 08:19:05 PM  Saturday     True  Spring   \n",
       "2 2025-04-19 16:08:44  2025-04-19 04:08:44 PM  Saturday     True  Spring   \n",
       "3 2025-04-19 15:49:34  2025-04-19 03:49:34 PM  Saturday     True  Spring   \n",
       "4 2025-04-19 14:23:28  2025-04-19 02:23:28 PM  Saturday     True  Spring   \n",
       "\n",
       "   HourAMPM  TimeOfDay             FullStreet        lat        lon  \\\n",
       "0  09:38 PM      Night  200 RIDGE MCINTIRE RD  38.031221 -78.483889   \n",
       "1  08:19 PM    Evening              <UNKNOWN>  38.029306 -78.476678   \n",
       "2  04:08 PM  Afternoon        1100 EMMET ST N  38.051639 -78.501523   \n",
       "3  03:49 PM  Afternoon         200 E WATER ST  38.029430 -78.481109   \n",
       "4  02:23 PM  Afternoon           700 LEVY AVE  38.026760 -78.477623   \n",
       "\n",
       "     neighborhood  \n",
       "0   Downtown Mall  \n",
       "1   Downtown Mall  \n",
       "2   Barracks Road  \n",
       "3  North Downtown  \n",
       "4         Belmont  "
      ]
     },
     "execution_count": 10,
     "metadata": {},
     "output_type": "execute_result"
    }
   ],
   "source": [
    "# Initialize the Google Maps client.\n",
    "gmaps = googlemaps.Client(key=GOOGLE_API_KEY)\n",
    "\n",
    "# Try to load a persistent neighborhood cache if available.\n",
    "try:\n",
    "    with open(\"neighborhood_cache.pkl\", \"rb\") as f:\n",
    "        neighborhood_cache = pickle.load(f)\n",
    "    print(\"Loaded neighborhood cache.\")\n",
    "except FileNotFoundError:\n",
    "    neighborhood_cache = {}\n",
    "    print(\"No neighborhood cache found; starting fresh.\")\n",
    "\n",
    "def get_neighborhood(lat, lon):\n",
    "    \"\"\"\n",
    "    Reverse geocodes a latitude and longitude to retrieve the neighborhood.\n",
    "    Caches results to speed up subsequent lookups.\n",
    "    \"\"\"\n",
    "    key = (lat, lon)\n",
    "    if key in neighborhood_cache:\n",
    "        return neighborhood_cache[key]\n",
    "    \n",
    "    try:\n",
    "        result = gmaps.reverse_geocode((lat, lon))\n",
    "        if result:\n",
    "            # Look for the 'neighborhood' component in the first result.\n",
    "            for component in result[0]['address_components']:\n",
    "                if 'neighborhood' in component['types']:\n",
    "                    neighborhood = component['long_name']\n",
    "                    neighborhood_cache[key] = neighborhood\n",
    "                    return neighborhood\n",
    "            # If no neighborhood is found, return \"N/A\"\n",
    "            neighborhood_cache[key] = \"N/A\"\n",
    "            return \"N/A\"\n",
    "    except Exception as e:\n",
    "        print(f\"Error getting neighborhood for {lat}, {lon}: {e}\")\n",
    "        return \"N/A\"\n",
    "    \n",
    "    # Pause to respect usage limits.\n",
    "    time.sleep(1)\n",
    "\n",
    "# Example usage: Apply to your DataFrame 'df' that already has 'lat' and 'lon' columns.\n",
    "df['neighborhood'] = df.apply(lambda row: get_neighborhood(row['lat'], row['lon']), axis=1)\n",
    "\n",
    "# Save the updated neighborhood cache.\n",
    "with open(\"neighborhood_cache.pkl\", \"wb\") as f:\n",
    "    pickle.dump(neighborhood_cache, f)\n",
    "\n",
    "df.head()\n"
   ]
  },
  {
   "cell_type": "markdown",
   "id": "152f8252",
   "metadata": {
    "papermill": {
     "duration": 0.00661,
     "end_time": "2025-04-22T01:01:31.957327",
     "exception": false,
     "start_time": "2025-04-22T01:01:31.950717",
     "status": "completed"
    },
    "tags": []
   },
   "source": [
    "### Zip"
   ]
  },
  {
   "cell_type": "code",
   "execution_count": 11,
   "id": "b270ae4b",
   "metadata": {
    "execution": {
     "iopub.execute_input": "2025-04-22T01:01:31.971766Z",
     "iopub.status.busy": "2025-04-22T01:01:31.971419Z",
     "iopub.status.idle": "2025-04-22T01:01:32.216351Z",
     "shell.execute_reply": "2025-04-22T01:01:32.215676Z"
    },
    "papermill": {
     "duration": 0.253785,
     "end_time": "2025-04-22T01:01:32.217513",
     "exception": false,
     "start_time": "2025-04-22T01:01:31.963728",
     "status": "completed"
    },
    "tags": []
   },
   "outputs": [
    {
     "name": "stdout",
     "output_type": "stream",
     "text": [
      "Loaded zip cache.\n"
     ]
    },
    {
     "data": {
      "text/html": [
       "<div>\n",
       "<style scoped>\n",
       "    .dataframe tbody tr th:only-of-type {\n",
       "        vertical-align: middle;\n",
       "    }\n",
       "\n",
       "    .dataframe tbody tr th {\n",
       "        vertical-align: top;\n",
       "    }\n",
       "\n",
       "    .dataframe thead th {\n",
       "        text-align: right;\n",
       "    }\n",
       "</style>\n",
       "<table border=\"1\" class=\"dataframe\">\n",
       "  <thead>\n",
       "    <tr style=\"text-align: right;\">\n",
       "      <th></th>\n",
       "      <th>RecordID</th>\n",
       "      <th>Offense</th>\n",
       "      <th>IncidentID</th>\n",
       "      <th>BlockNumber</th>\n",
       "      <th>StreetName</th>\n",
       "      <th>Agency</th>\n",
       "      <th>HourReported</th>\n",
       "      <th>ReportingOfficer</th>\n",
       "      <th>Date</th>\n",
       "      <th>DateString</th>\n",
       "      <th>DayOfWeek</th>\n",
       "      <th>Weekend</th>\n",
       "      <th>Season</th>\n",
       "      <th>HourAMPM</th>\n",
       "      <th>TimeOfDay</th>\n",
       "      <th>FullStreet</th>\n",
       "      <th>lat</th>\n",
       "      <th>lon</th>\n",
       "      <th>neighborhood</th>\n",
       "      <th>zip</th>\n",
       "    </tr>\n",
       "  </thead>\n",
       "  <tbody>\n",
       "    <tr>\n",
       "      <th>0</th>\n",
       "      <td>1</td>\n",
       "      <td>Shots Fired/Illegal Hunting</td>\n",
       "      <td>202500012753</td>\n",
       "      <td>200</td>\n",
       "      <td>RIDGE MCINTIRE RD</td>\n",
       "      <td>CPD</td>\n",
       "      <td>2138</td>\n",
       "      <td>Darby, Michael</td>\n",
       "      <td>2025-04-19 21:38:27</td>\n",
       "      <td>2025-04-19 09:38:27 PM</td>\n",
       "      <td>Saturday</td>\n",
       "      <td>True</td>\n",
       "      <td>Spring</td>\n",
       "      <td>09:38 PM</td>\n",
       "      <td>Night</td>\n",
       "      <td>200 RIDGE MCINTIRE RD</td>\n",
       "      <td>38.031221</td>\n",
       "      <td>-78.483889</td>\n",
       "      <td>Downtown Mall</td>\n",
       "      <td>22903</td>\n",
       "    </tr>\n",
       "    <tr>\n",
       "      <th>1</th>\n",
       "      <td>2</td>\n",
       "      <td>Hit and Run</td>\n",
       "      <td>202500012743</td>\n",
       "      <td></td>\n",
       "      <td>&lt;UNKNOWN&gt;</td>\n",
       "      <td>CPD</td>\n",
       "      <td>2019</td>\n",
       "      <td>Rigsby, Lloyd</td>\n",
       "      <td>2025-04-19 20:19:05</td>\n",
       "      <td>2025-04-19 08:19:05 PM</td>\n",
       "      <td>Saturday</td>\n",
       "      <td>True</td>\n",
       "      <td>Spring</td>\n",
       "      <td>08:19 PM</td>\n",
       "      <td>Evening</td>\n",
       "      <td>&lt;UNKNOWN&gt;</td>\n",
       "      <td>38.029306</td>\n",
       "      <td>-78.476678</td>\n",
       "      <td>Downtown Mall</td>\n",
       "      <td>22902</td>\n",
       "    </tr>\n",
       "    <tr>\n",
       "      <th>2</th>\n",
       "      <td>3</td>\n",
       "      <td>Assault Simple</td>\n",
       "      <td>202500012716</td>\n",
       "      <td>1100</td>\n",
       "      <td>EMMET ST N</td>\n",
       "      <td>CPD</td>\n",
       "      <td>1608</td>\n",
       "      <td>Kinney, Dylan</td>\n",
       "      <td>2025-04-19 16:08:44</td>\n",
       "      <td>2025-04-19 04:08:44 PM</td>\n",
       "      <td>Saturday</td>\n",
       "      <td>True</td>\n",
       "      <td>Spring</td>\n",
       "      <td>04:08 PM</td>\n",
       "      <td>Afternoon</td>\n",
       "      <td>1100 EMMET ST N</td>\n",
       "      <td>38.051639</td>\n",
       "      <td>-78.501523</td>\n",
       "      <td>Barracks Road</td>\n",
       "      <td>22901</td>\n",
       "    </tr>\n",
       "    <tr>\n",
       "      <th>3</th>\n",
       "      <td>4</td>\n",
       "      <td>Hit and Run</td>\n",
       "      <td>202500012714</td>\n",
       "      <td>200</td>\n",
       "      <td>E WATER ST</td>\n",
       "      <td>CPD</td>\n",
       "      <td>1549</td>\n",
       "      <td>Hannay, Jacob</td>\n",
       "      <td>2025-04-19 15:49:34</td>\n",
       "      <td>2025-04-19 03:49:34 PM</td>\n",
       "      <td>Saturday</td>\n",
       "      <td>True</td>\n",
       "      <td>Spring</td>\n",
       "      <td>03:49 PM</td>\n",
       "      <td>Afternoon</td>\n",
       "      <td>200 E WATER ST</td>\n",
       "      <td>38.029430</td>\n",
       "      <td>-78.481109</td>\n",
       "      <td>North Downtown</td>\n",
       "      <td>22903</td>\n",
       "    </tr>\n",
       "    <tr>\n",
       "      <th>4</th>\n",
       "      <td>5</td>\n",
       "      <td>Hit and Run</td>\n",
       "      <td>202500012704</td>\n",
       "      <td>700</td>\n",
       "      <td>LEVY AVE</td>\n",
       "      <td>CPD</td>\n",
       "      <td>1423</td>\n",
       "      <td>Schwartz, Honora</td>\n",
       "      <td>2025-04-19 14:23:28</td>\n",
       "      <td>2025-04-19 02:23:28 PM</td>\n",
       "      <td>Saturday</td>\n",
       "      <td>True</td>\n",
       "      <td>Spring</td>\n",
       "      <td>02:23 PM</td>\n",
       "      <td>Afternoon</td>\n",
       "      <td>700 LEVY AVE</td>\n",
       "      <td>38.026760</td>\n",
       "      <td>-78.477623</td>\n",
       "      <td>Belmont</td>\n",
       "      <td>22903</td>\n",
       "    </tr>\n",
       "  </tbody>\n",
       "</table>\n",
       "</div>"
      ],
      "text/plain": [
       "   RecordID                      Offense    IncidentID BlockNumber  \\\n",
       "0         1  Shots Fired/Illegal Hunting  202500012753         200   \n",
       "1         2                  Hit and Run  202500012743               \n",
       "2         3               Assault Simple  202500012716        1100   \n",
       "3         4                  Hit and Run  202500012714         200   \n",
       "4         5                  Hit and Run  202500012704         700   \n",
       "\n",
       "          StreetName Agency HourReported  ReportingOfficer  \\\n",
       "0  RIDGE MCINTIRE RD    CPD         2138    Darby, Michael   \n",
       "1          <UNKNOWN>    CPD         2019     Rigsby, Lloyd   \n",
       "2         EMMET ST N    CPD         1608     Kinney, Dylan   \n",
       "3         E WATER ST    CPD         1549     Hannay, Jacob   \n",
       "4           LEVY AVE    CPD         1423  Schwartz, Honora   \n",
       "\n",
       "                 Date              DateString DayOfWeek  Weekend  Season  \\\n",
       "0 2025-04-19 21:38:27  2025-04-19 09:38:27 PM  Saturday     True  Spring   \n",
       "1 2025-04-19 20:19:05  2025-04-19 08:19:05 PM  Saturday     True  Spring   \n",
       "2 2025-04-19 16:08:44  2025-04-19 04:08:44 PM  Saturday     True  Spring   \n",
       "3 2025-04-19 15:49:34  2025-04-19 03:49:34 PM  Saturday     True  Spring   \n",
       "4 2025-04-19 14:23:28  2025-04-19 02:23:28 PM  Saturday     True  Spring   \n",
       "\n",
       "   HourAMPM  TimeOfDay             FullStreet        lat        lon  \\\n",
       "0  09:38 PM      Night  200 RIDGE MCINTIRE RD  38.031221 -78.483889   \n",
       "1  08:19 PM    Evening              <UNKNOWN>  38.029306 -78.476678   \n",
       "2  04:08 PM  Afternoon        1100 EMMET ST N  38.051639 -78.501523   \n",
       "3  03:49 PM  Afternoon         200 E WATER ST  38.029430 -78.481109   \n",
       "4  02:23 PM  Afternoon           700 LEVY AVE  38.026760 -78.477623   \n",
       "\n",
       "     neighborhood    zip  \n",
       "0   Downtown Mall  22903  \n",
       "1   Downtown Mall  22902  \n",
       "2   Barracks Road  22901  \n",
       "3  North Downtown  22903  \n",
       "4         Belmont  22903  "
      ]
     },
     "execution_count": 11,
     "metadata": {},
     "output_type": "execute_result"
    }
   ],
   "source": [
    "# Initialize the geocoder.\n",
    "geolocator = Nominatim(user_agent=\"zip_lookup\")\n",
    "\n",
    "# Try to load a persistent ZIP cache if available.\n",
    "try:\n",
    "    with open(\"zip_cache.pkl\", \"rb\") as f:\n",
    "        zip_cache = pickle.load(f)\n",
    "    print(\"Loaded zip cache.\")\n",
    "except FileNotFoundError:\n",
    "    zip_cache = {}\n",
    "    print(\"No zip cache found; starting fresh.\")\n",
    "\n",
    "def get_zip(lat, lon):\n",
    "    \"\"\"\n",
    "    Reverse geocodes a latitude and longitude to retrieve the ZIP code.\n",
    "    Caches results to speed up subsequent lookups.\n",
    "    \"\"\"\n",
    "    key = (lat, lon)\n",
    "    if key in zip_cache:\n",
    "        return zip_cache[key]\n",
    "    \n",
    "    try:\n",
    "        location = geolocator.reverse((lat, lon), exactly_one=True, timeout=10)\n",
    "        address = location.raw.get('address', {})\n",
    "        postal_code = address.get('postcode', \"N/A\")\n",
    "    except Exception as e:\n",
    "        print(f\"Error getting ZIP for {lat}, {lon}: {e}\")\n",
    "        postal_code = \"N/A\"\n",
    "    \n",
    "    zip_cache[key] = postal_code\n",
    "    # Pause to respect the usage policy.\n",
    "    time.sleep(1)\n",
    "    return postal_code\n",
    "\n",
    "# Apply the function to each row in the DataFrame.\n",
    "df['zip'] = df.apply(lambda row: get_zip(row['lat'], row['lon']), axis=1)\n",
    "\n",
    "# Save the updated ZIP cache.\n",
    "with open(\"zip_cache.pkl\", \"wb\") as f:\n",
    "    pickle.dump(zip_cache, f)\n",
    "\n",
    "df.head()\n"
   ]
  },
  {
   "cell_type": "code",
   "execution_count": 12,
   "id": "a11c4663",
   "metadata": {
    "execution": {
     "iopub.execute_input": "2025-04-22T01:01:32.232665Z",
     "iopub.status.busy": "2025-04-22T01:01:32.232153Z",
     "iopub.status.idle": "2025-04-22T01:01:32.262244Z",
     "shell.execute_reply": "2025-04-22T01:01:32.261644Z"
    },
    "papermill": {
     "duration": 0.038681,
     "end_time": "2025-04-22T01:01:32.263322",
     "exception": false,
     "start_time": "2025-04-22T01:01:32.224641",
     "status": "completed"
    },
    "tags": []
   },
   "outputs": [
    {
     "name": "stdout",
     "output_type": "stream",
     "text": [
      "                  MissingCount  MissingPercentage\n",
      "RecordID                     0               0.00\n",
      "Offense                      0               0.00\n",
      "IncidentID                   0               0.00\n",
      "BlockNumber                  0               0.00\n",
      "StreetName                   0               0.00\n",
      "Agency                       0               0.00\n",
      "HourReported                 0               0.00\n",
      "ReportingOfficer            17               0.07\n",
      "Date                         0               0.00\n",
      "DateString                   0               0.00\n",
      "DayOfWeek                    0               0.00\n",
      "Weekend                      0               0.00\n",
      "Season                       0               0.00\n",
      "HourAMPM                     0               0.00\n",
      "TimeOfDay                    0               0.00\n",
      "FullStreet                   0               0.00\n",
      "lat                          0               0.00\n",
      "lon                          0               0.00\n",
      "neighborhood                 0               0.00\n",
      "zip                          0               0.00\n"
     ]
    }
   ],
   "source": [
    "missing_info = missing_percentage(df)\n",
    "print(missing_info)\n"
   ]
  },
  {
   "cell_type": "code",
   "execution_count": 13,
   "id": "d49f1675",
   "metadata": {
    "execution": {
     "iopub.execute_input": "2025-04-22T01:01:32.278403Z",
     "iopub.status.busy": "2025-04-22T01:01:32.277913Z",
     "iopub.status.idle": "2025-04-22T01:01:32.308623Z",
     "shell.execute_reply": "2025-04-22T01:01:32.307922Z"
    },
    "papermill": {
     "duration": 0.039254,
     "end_time": "2025-04-22T01:01:32.309632",
     "exception": false,
     "start_time": "2025-04-22T01:01:32.270378",
     "status": "completed"
    },
    "tags": []
   },
   "outputs": [
    {
     "name": "stdout",
     "output_type": "stream",
     "text": [
      "<class 'pandas.core.frame.DataFrame'>\n",
      "RangeIndex: 25249 entries, 0 to 25248\n",
      "Data columns (total 20 columns):\n",
      " #   Column            Non-Null Count  Dtype         \n",
      "---  ------            --------------  -----         \n",
      " 0   RecordID          25249 non-null  int64         \n",
      " 1   Offense           25249 non-null  object        \n",
      " 2   IncidentID        25249 non-null  object        \n",
      " 3   BlockNumber       25249 non-null  object        \n",
      " 4   StreetName        25249 non-null  object        \n",
      " 5   Agency            25249 non-null  object        \n",
      " 6   HourReported      25249 non-null  object        \n",
      " 7   ReportingOfficer  25232 non-null  object        \n",
      " 8   Date              25249 non-null  datetime64[ns]\n",
      " 9   DateString        25249 non-null  object        \n",
      " 10  DayOfWeek         25249 non-null  object        \n",
      " 11  Weekend           25249 non-null  bool          \n",
      " 12  Season            25249 non-null  object        \n",
      " 13  HourAMPM          25249 non-null  object        \n",
      " 14  TimeOfDay         25249 non-null  object        \n",
      " 15  FullStreet        25249 non-null  object        \n",
      " 16  lat               25249 non-null  float64       \n",
      " 17  lon               25249 non-null  float64       \n",
      " 18  neighborhood      25249 non-null  object        \n",
      " 19  zip               25249 non-null  object        \n",
      "dtypes: bool(1), datetime64[ns](1), float64(2), int64(1), object(15)\n",
      "memory usage: 3.7+ MB\n"
     ]
    }
   ],
   "source": [
    "df.info()"
   ]
  },
  {
   "cell_type": "code",
   "execution_count": 14,
   "id": "28821edf",
   "metadata": {
    "execution": {
     "iopub.execute_input": "2025-04-22T01:01:32.325398Z",
     "iopub.status.busy": "2025-04-22T01:01:32.324894Z",
     "iopub.status.idle": "2025-04-22T01:01:32.371571Z",
     "shell.execute_reply": "2025-04-22T01:01:32.370862Z"
    },
    "papermill": {
     "duration": 0.055708,
     "end_time": "2025-04-22T01:01:32.372614",
     "exception": false,
     "start_time": "2025-04-22T01:01:32.316906",
     "status": "completed"
    },
    "tags": []
   },
   "outputs": [
    {
     "data": {
      "text/html": [
       "<div>\n",
       "<style scoped>\n",
       "    .dataframe tbody tr th:only-of-type {\n",
       "        vertical-align: middle;\n",
       "    }\n",
       "\n",
       "    .dataframe tbody tr th {\n",
       "        vertical-align: top;\n",
       "    }\n",
       "\n",
       "    .dataframe thead th {\n",
       "        text-align: right;\n",
       "    }\n",
       "</style>\n",
       "<table border=\"1\" class=\"dataframe\">\n",
       "  <thead>\n",
       "    <tr style=\"text-align: right;\">\n",
       "      <th></th>\n",
       "      <th>RecordID</th>\n",
       "      <th>Offense</th>\n",
       "      <th>IncidentID</th>\n",
       "      <th>Agency</th>\n",
       "      <th>ReportingOfficer</th>\n",
       "      <th>Date</th>\n",
       "      <th>DayOfWeek</th>\n",
       "      <th>Weekend</th>\n",
       "      <th>Season</th>\n",
       "      <th>TimeOfDay</th>\n",
       "      <th>FullStreet</th>\n",
       "      <th>lat</th>\n",
       "      <th>lon</th>\n",
       "      <th>neighborhood</th>\n",
       "      <th>zip</th>\n",
       "    </tr>\n",
       "  </thead>\n",
       "  <tbody>\n",
       "    <tr>\n",
       "      <th>0</th>\n",
       "      <td>1</td>\n",
       "      <td>Shots Fired/Illegal Hunting</td>\n",
       "      <td>202500012753</td>\n",
       "      <td>CPD</td>\n",
       "      <td>Darby, Michael</td>\n",
       "      <td>2025-04-19 21:38:27</td>\n",
       "      <td>Saturday</td>\n",
       "      <td>True</td>\n",
       "      <td>Spring</td>\n",
       "      <td>Night</td>\n",
       "      <td>200 RIDGE MCINTIRE RD</td>\n",
       "      <td>38.031221</td>\n",
       "      <td>-78.483889</td>\n",
       "      <td>Downtown Mall</td>\n",
       "      <td>22903</td>\n",
       "    </tr>\n",
       "    <tr>\n",
       "      <th>1</th>\n",
       "      <td>2</td>\n",
       "      <td>Hit and Run</td>\n",
       "      <td>202500012743</td>\n",
       "      <td>CPD</td>\n",
       "      <td>Rigsby, Lloyd</td>\n",
       "      <td>2025-04-19 20:19:05</td>\n",
       "      <td>Saturday</td>\n",
       "      <td>True</td>\n",
       "      <td>Spring</td>\n",
       "      <td>Evening</td>\n",
       "      <td>&lt;UNKNOWN&gt;</td>\n",
       "      <td>38.029306</td>\n",
       "      <td>-78.476678</td>\n",
       "      <td>Downtown Mall</td>\n",
       "      <td>22902</td>\n",
       "    </tr>\n",
       "    <tr>\n",
       "      <th>2</th>\n",
       "      <td>3</td>\n",
       "      <td>Assault Simple</td>\n",
       "      <td>202500012716</td>\n",
       "      <td>CPD</td>\n",
       "      <td>Kinney, Dylan</td>\n",
       "      <td>2025-04-19 16:08:44</td>\n",
       "      <td>Saturday</td>\n",
       "      <td>True</td>\n",
       "      <td>Spring</td>\n",
       "      <td>Afternoon</td>\n",
       "      <td>1100 EMMET ST N</td>\n",
       "      <td>38.051639</td>\n",
       "      <td>-78.501523</td>\n",
       "      <td>Barracks Road</td>\n",
       "      <td>22901</td>\n",
       "    </tr>\n",
       "    <tr>\n",
       "      <th>3</th>\n",
       "      <td>4</td>\n",
       "      <td>Hit and Run</td>\n",
       "      <td>202500012714</td>\n",
       "      <td>CPD</td>\n",
       "      <td>Hannay, Jacob</td>\n",
       "      <td>2025-04-19 15:49:34</td>\n",
       "      <td>Saturday</td>\n",
       "      <td>True</td>\n",
       "      <td>Spring</td>\n",
       "      <td>Afternoon</td>\n",
       "      <td>200 E WATER ST</td>\n",
       "      <td>38.029430</td>\n",
       "      <td>-78.481109</td>\n",
       "      <td>North Downtown</td>\n",
       "      <td>22903</td>\n",
       "    </tr>\n",
       "    <tr>\n",
       "      <th>4</th>\n",
       "      <td>5</td>\n",
       "      <td>Hit and Run</td>\n",
       "      <td>202500012704</td>\n",
       "      <td>CPD</td>\n",
       "      <td>Schwartz, Honora</td>\n",
       "      <td>2025-04-19 14:23:28</td>\n",
       "      <td>Saturday</td>\n",
       "      <td>True</td>\n",
       "      <td>Spring</td>\n",
       "      <td>Afternoon</td>\n",
       "      <td>700 LEVY AVE</td>\n",
       "      <td>38.026760</td>\n",
       "      <td>-78.477623</td>\n",
       "      <td>Belmont</td>\n",
       "      <td>22903</td>\n",
       "    </tr>\n",
       "  </tbody>\n",
       "</table>\n",
       "</div>"
      ],
      "text/plain": [
       "   RecordID                      Offense    IncidentID Agency  \\\n",
       "0         1  Shots Fired/Illegal Hunting  202500012753    CPD   \n",
       "1         2                  Hit and Run  202500012743    CPD   \n",
       "2         3               Assault Simple  202500012716    CPD   \n",
       "3         4                  Hit and Run  202500012714    CPD   \n",
       "4         5                  Hit and Run  202500012704    CPD   \n",
       "\n",
       "   ReportingOfficer                Date DayOfWeek  Weekend  Season  TimeOfDay  \\\n",
       "0    Darby, Michael 2025-04-19 21:38:27  Saturday     True  Spring      Night   \n",
       "1     Rigsby, Lloyd 2025-04-19 20:19:05  Saturday     True  Spring    Evening   \n",
       "2     Kinney, Dylan 2025-04-19 16:08:44  Saturday     True  Spring  Afternoon   \n",
       "3     Hannay, Jacob 2025-04-19 15:49:34  Saturday     True  Spring  Afternoon   \n",
       "4  Schwartz, Honora 2025-04-19 14:23:28  Saturday     True  Spring  Afternoon   \n",
       "\n",
       "              FullStreet        lat        lon    neighborhood    zip  \n",
       "0  200 RIDGE MCINTIRE RD  38.031221 -78.483889   Downtown Mall  22903  \n",
       "1              <UNKNOWN>  38.029306 -78.476678   Downtown Mall  22902  \n",
       "2        1100 EMMET ST N  38.051639 -78.501523   Barracks Road  22901  \n",
       "3         200 E WATER ST  38.029430 -78.481109  North Downtown  22903  \n",
       "4           700 LEVY AVE  38.026760 -78.477623         Belmont  22903  "
      ]
     },
     "execution_count": 14,
     "metadata": {},
     "output_type": "execute_result"
    }
   ],
   "source": [
    "# Now drop the original BlockNumber and StreetName columns\n",
    "df.drop(columns=['BlockNumber', 'StreetName','HourAMPM','HourReported','DateString'], inplace=True)\n",
    "df[\"zip\"] = df[\"zip\"].astype(str)\n",
    "\n",
    "# Fill all missing values in the DataFrame with \"N/A\"\n",
    "df.replace({None: \"N/A\", np.nan: \"N/A\", \"\": \"N/A\"}, inplace=True)\n",
    "df.head()"
   ]
  },
  {
   "cell_type": "code",
   "execution_count": 15,
   "id": "08c79ac7",
   "metadata": {
    "execution": {
     "iopub.execute_input": "2025-04-22T01:01:32.389023Z",
     "iopub.status.busy": "2025-04-22T01:01:32.388457Z",
     "iopub.status.idle": "2025-04-22T01:01:32.409967Z",
     "shell.execute_reply": "2025-04-22T01:01:32.409293Z"
    },
    "papermill": {
     "duration": 0.030735,
     "end_time": "2025-04-22T01:01:32.411017",
     "exception": false,
     "start_time": "2025-04-22T01:01:32.380282",
     "status": "completed"
    },
    "tags": []
   },
   "outputs": [
    {
     "name": "stdout",
     "output_type": "stream",
     "text": [
      "                  MissingCount  MissingPercentage\n",
      "RecordID                     0                0.0\n",
      "Offense                      0                0.0\n",
      "IncidentID                   0                0.0\n",
      "Agency                       0                0.0\n",
      "ReportingOfficer             0                0.0\n",
      "Date                         0                0.0\n",
      "DayOfWeek                    0                0.0\n",
      "Weekend                      0                0.0\n",
      "Season                       0                0.0\n",
      "TimeOfDay                    0                0.0\n",
      "FullStreet                   0                0.0\n",
      "lat                          0                0.0\n",
      "lon                          0                0.0\n",
      "neighborhood                 0                0.0\n",
      "zip                          0                0.0\n"
     ]
    }
   ],
   "source": [
    "missing_info = missing_percentage(df)\n",
    "print(missing_info)"
   ]
  },
  {
   "cell_type": "code",
   "execution_count": 16,
   "id": "89f5f9df",
   "metadata": {
    "execution": {
     "iopub.execute_input": "2025-04-22T01:01:32.427506Z",
     "iopub.status.busy": "2025-04-22T01:01:32.426885Z",
     "iopub.status.idle": "2025-04-22T01:01:32.431770Z",
     "shell.execute_reply": "2025-04-22T01:01:32.431105Z"
    },
    "papermill": {
     "duration": 0.01427,
     "end_time": "2025-04-22T01:01:32.432852",
     "exception": false,
     "start_time": "2025-04-22T01:01:32.418582",
     "status": "completed"
    },
    "tags": []
   },
   "outputs": [
    {
     "data": {
      "text/plain": [
       "Index(['RecordID', 'Offense', 'IncidentID', 'Agency', 'ReportingOfficer',\n",
       "       'Date', 'DayOfWeek', 'Weekend', 'Season', 'TimeOfDay', 'FullStreet',\n",
       "       'lat', 'lon', 'neighborhood', 'zip'],\n",
       "      dtype='object')"
      ]
     },
     "execution_count": 16,
     "metadata": {},
     "output_type": "execute_result"
    }
   ],
   "source": [
    "df.columns"
   ]
  },
  {
   "cell_type": "code",
   "execution_count": 17,
   "id": "9d852037",
   "metadata": {
    "execution": {
     "iopub.execute_input": "2025-04-22T01:01:32.449703Z",
     "iopub.status.busy": "2025-04-22T01:01:32.449120Z",
     "iopub.status.idle": "2025-04-22T01:01:32.472668Z",
     "shell.execute_reply": "2025-04-22T01:01:32.472034Z"
    },
    "papermill": {
     "duration": 0.033012,
     "end_time": "2025-04-22T01:01:32.473718",
     "exception": false,
     "start_time": "2025-04-22T01:01:32.440706",
     "status": "completed"
    },
    "tags": []
   },
   "outputs": [
    {
     "name": "stdout",
     "output_type": "stream",
     "text": [
      "<class 'pandas.core.frame.DataFrame'>\n",
      "RangeIndex: 25249 entries, 0 to 25248\n",
      "Data columns (total 15 columns):\n",
      " #   Column            Non-Null Count  Dtype         \n",
      "---  ------            --------------  -----         \n",
      " 0   RecordID          25249 non-null  int64         \n",
      " 1   Offense           25249 non-null  object        \n",
      " 2   IncidentID        25249 non-null  object        \n",
      " 3   Agency            25249 non-null  object        \n",
      " 4   ReportingOfficer  25249 non-null  object        \n",
      " 5   Date              25249 non-null  datetime64[ns]\n",
      " 6   DayOfWeek         25249 non-null  object        \n",
      " 7   Weekend           25249 non-null  bool          \n",
      " 8   Season            25249 non-null  object        \n",
      " 9   TimeOfDay         25249 non-null  object        \n",
      " 10  FullStreet        25249 non-null  object        \n",
      " 11  lat               25249 non-null  float64       \n",
      " 12  lon               25249 non-null  float64       \n",
      " 13  neighborhood      25249 non-null  object        \n",
      " 14  zip               25249 non-null  object        \n",
      "dtypes: bool(1), datetime64[ns](1), float64(2), int64(1), object(10)\n",
      "memory usage: 2.7+ MB\n"
     ]
    }
   ],
   "source": [
    "df.info()"
   ]
  },
  {
   "cell_type": "markdown",
   "id": "21ce97ec",
   "metadata": {
    "papermill": {
     "duration": 0.007629,
     "end_time": "2025-04-22T01:01:32.489494",
     "exception": false,
     "start_time": "2025-04-22T01:01:32.481865",
     "status": "completed"
    },
    "tags": []
   },
   "source": [
    "### Export Clean Data"
   ]
  },
  {
   "cell_type": "code",
   "execution_count": 18,
   "id": "de6048fe",
   "metadata": {
    "execution": {
     "iopub.execute_input": "2025-04-22T01:01:32.506182Z",
     "iopub.status.busy": "2025-04-22T01:01:32.505544Z",
     "iopub.status.idle": "2025-04-22T01:01:41.885276Z",
     "shell.execute_reply": "2025-04-22T01:01:41.884556Z"
    },
    "papermill": {
     "duration": 9.389194,
     "end_time": "2025-04-22T01:01:41.886293",
     "exception": false,
     "start_time": "2025-04-22T01:01:32.497099",
     "status": "completed"
    },
    "tags": []
   },
   "outputs": [
    {
     "name": "stdout",
     "output_type": "stream",
     "text": [
      "Project Root: /home/runner/work/crime-data/crime-data\n"
     ]
    },
    {
     "name": "stdout",
     "output_type": "stream",
     "text": [
      "Data saved to: /home/runner/work/crime-data/crime-data/data/charlottesville_crime_incidents.csv\n"
     ]
    },
    {
     "name": "stdout",
     "output_type": "stream",
     "text": [
      "Excel saved to: /home/runner/work/crime-data/crime-data/data/charlottesville_crime_incidents.xlsx\n"
     ]
    }
   ],
   "source": [
    "# Determine the project root (assuming papermill is run from the repository root)\n",
    "project_root = os.getcwd()\n",
    "print(\"Project Root:\", project_root)\n",
    "\n",
    "# Set the data directory within the project root\n",
    "data_dir = os.path.join(project_root, \"data\")\n",
    "\n",
    "# Ensure the \"data\" directory exists (create it if it doesn't)\n",
    "if not os.path.exists(data_dir):\n",
    "    os.makedirs(data_dir)\n",
    "\n",
    "# Export the DataFrame to CSV in the \"data\" folder located in the project root\n",
    "csv_path = os.path.join(data_dir, \"charlottesville_crime_incidents.csv\")\n",
    "df.to_csv(csv_path, index=False)\n",
    "print(\"Data saved to:\", csv_path)\n",
    "\n",
    "# Construct the path to your Excel file\n",
    "excel_path = os.path.join(data_dir, \"charlottesville_crime_incidents.xlsx\")\n",
    "\n",
    "# Export the DataFrame to Excel\n",
    "df.to_excel(excel_path, index=False)\n",
    "print(\"Excel saved to:\", excel_path)\n"
   ]
  },
  {
   "cell_type": "markdown",
   "id": "96baf0e9",
   "metadata": {
    "papermill": {
     "duration": 0.007667,
     "end_time": "2025-04-22T01:01:41.902133",
     "exception": false,
     "start_time": "2025-04-22T01:01:41.894466",
     "status": "completed"
    },
    "tags": []
   },
   "source": [
    "## Predictive Analytics"
   ]
  },
  {
   "cell_type": "code",
   "execution_count": 19,
   "id": "4c54fefd",
   "metadata": {
    "execution": {
     "iopub.execute_input": "2025-04-22T01:01:41.947290Z",
     "iopub.status.busy": "2025-04-22T01:01:41.946990Z",
     "iopub.status.idle": "2025-04-22T01:01:41.959059Z",
     "shell.execute_reply": "2025-04-22T01:01:41.958390Z"
    },
    "papermill": {
     "duration": 0.021623,
     "end_time": "2025-04-22T01:01:41.959987",
     "exception": false,
     "start_time": "2025-04-22T01:01:41.938364",
     "status": "completed"
    },
    "tags": []
   },
   "outputs": [
    {
     "data": {
      "text/html": [
       "<div>\n",
       "<style scoped>\n",
       "    .dataframe tbody tr th:only-of-type {\n",
       "        vertical-align: middle;\n",
       "    }\n",
       "\n",
       "    .dataframe tbody tr th {\n",
       "        vertical-align: top;\n",
       "    }\n",
       "\n",
       "    .dataframe thead th {\n",
       "        text-align: right;\n",
       "    }\n",
       "</style>\n",
       "<table border=\"1\" class=\"dataframe\">\n",
       "  <thead>\n",
       "    <tr style=\"text-align: right;\">\n",
       "      <th></th>\n",
       "      <th>RecordID</th>\n",
       "      <th>Offense</th>\n",
       "      <th>IncidentID</th>\n",
       "      <th>Agency</th>\n",
       "      <th>ReportingOfficer</th>\n",
       "      <th>Date</th>\n",
       "      <th>DayOfWeek</th>\n",
       "      <th>Weekend</th>\n",
       "      <th>Season</th>\n",
       "      <th>TimeOfDay</th>\n",
       "      <th>FullStreet</th>\n",
       "      <th>lat</th>\n",
       "      <th>lon</th>\n",
       "      <th>neighborhood</th>\n",
       "      <th>zip</th>\n",
       "    </tr>\n",
       "  </thead>\n",
       "  <tbody>\n",
       "    <tr>\n",
       "      <th>0</th>\n",
       "      <td>1</td>\n",
       "      <td>Shots Fired/Illegal Hunting</td>\n",
       "      <td>202500012753</td>\n",
       "      <td>CPD</td>\n",
       "      <td>Darby, Michael</td>\n",
       "      <td>2025-04-19 21:38:27</td>\n",
       "      <td>Saturday</td>\n",
       "      <td>True</td>\n",
       "      <td>Spring</td>\n",
       "      <td>Night</td>\n",
       "      <td>200 RIDGE MCINTIRE RD</td>\n",
       "      <td>38.031221</td>\n",
       "      <td>-78.483889</td>\n",
       "      <td>Downtown Mall</td>\n",
       "      <td>22903</td>\n",
       "    </tr>\n",
       "    <tr>\n",
       "      <th>1</th>\n",
       "      <td>2</td>\n",
       "      <td>Hit and Run</td>\n",
       "      <td>202500012743</td>\n",
       "      <td>CPD</td>\n",
       "      <td>Rigsby, Lloyd</td>\n",
       "      <td>2025-04-19 20:19:05</td>\n",
       "      <td>Saturday</td>\n",
       "      <td>True</td>\n",
       "      <td>Spring</td>\n",
       "      <td>Evening</td>\n",
       "      <td>&lt;UNKNOWN&gt;</td>\n",
       "      <td>38.029306</td>\n",
       "      <td>-78.476678</td>\n",
       "      <td>Downtown Mall</td>\n",
       "      <td>22902</td>\n",
       "    </tr>\n",
       "    <tr>\n",
       "      <th>2</th>\n",
       "      <td>3</td>\n",
       "      <td>Assault Simple</td>\n",
       "      <td>202500012716</td>\n",
       "      <td>CPD</td>\n",
       "      <td>Kinney, Dylan</td>\n",
       "      <td>2025-04-19 16:08:44</td>\n",
       "      <td>Saturday</td>\n",
       "      <td>True</td>\n",
       "      <td>Spring</td>\n",
       "      <td>Afternoon</td>\n",
       "      <td>1100 EMMET ST N</td>\n",
       "      <td>38.051639</td>\n",
       "      <td>-78.501523</td>\n",
       "      <td>Barracks Road</td>\n",
       "      <td>22901</td>\n",
       "    </tr>\n",
       "    <tr>\n",
       "      <th>3</th>\n",
       "      <td>4</td>\n",
       "      <td>Hit and Run</td>\n",
       "      <td>202500012714</td>\n",
       "      <td>CPD</td>\n",
       "      <td>Hannay, Jacob</td>\n",
       "      <td>2025-04-19 15:49:34</td>\n",
       "      <td>Saturday</td>\n",
       "      <td>True</td>\n",
       "      <td>Spring</td>\n",
       "      <td>Afternoon</td>\n",
       "      <td>200 E WATER ST</td>\n",
       "      <td>38.029430</td>\n",
       "      <td>-78.481109</td>\n",
       "      <td>North Downtown</td>\n",
       "      <td>22903</td>\n",
       "    </tr>\n",
       "    <tr>\n",
       "      <th>4</th>\n",
       "      <td>5</td>\n",
       "      <td>Hit and Run</td>\n",
       "      <td>202500012704</td>\n",
       "      <td>CPD</td>\n",
       "      <td>Schwartz, Honora</td>\n",
       "      <td>2025-04-19 14:23:28</td>\n",
       "      <td>Saturday</td>\n",
       "      <td>True</td>\n",
       "      <td>Spring</td>\n",
       "      <td>Afternoon</td>\n",
       "      <td>700 LEVY AVE</td>\n",
       "      <td>38.026760</td>\n",
       "      <td>-78.477623</td>\n",
       "      <td>Belmont</td>\n",
       "      <td>22903</td>\n",
       "    </tr>\n",
       "  </tbody>\n",
       "</table>\n",
       "</div>"
      ],
      "text/plain": [
       "   RecordID                      Offense    IncidentID Agency  \\\n",
       "0         1  Shots Fired/Illegal Hunting  202500012753    CPD   \n",
       "1         2                  Hit and Run  202500012743    CPD   \n",
       "2         3               Assault Simple  202500012716    CPD   \n",
       "3         4                  Hit and Run  202500012714    CPD   \n",
       "4         5                  Hit and Run  202500012704    CPD   \n",
       "\n",
       "   ReportingOfficer                Date DayOfWeek  Weekend  Season  TimeOfDay  \\\n",
       "0    Darby, Michael 2025-04-19 21:38:27  Saturday     True  Spring      Night   \n",
       "1     Rigsby, Lloyd 2025-04-19 20:19:05  Saturday     True  Spring    Evening   \n",
       "2     Kinney, Dylan 2025-04-19 16:08:44  Saturday     True  Spring  Afternoon   \n",
       "3     Hannay, Jacob 2025-04-19 15:49:34  Saturday     True  Spring  Afternoon   \n",
       "4  Schwartz, Honora 2025-04-19 14:23:28  Saturday     True  Spring  Afternoon   \n",
       "\n",
       "              FullStreet        lat        lon    neighborhood    zip  \n",
       "0  200 RIDGE MCINTIRE RD  38.031221 -78.483889   Downtown Mall  22903  \n",
       "1              <UNKNOWN>  38.029306 -78.476678   Downtown Mall  22902  \n",
       "2        1100 EMMET ST N  38.051639 -78.501523   Barracks Road  22901  \n",
       "3         200 E WATER ST  38.029430 -78.481109  North Downtown  22903  \n",
       "4           700 LEVY AVE  38.026760 -78.477623         Belmont  22903  "
      ]
     },
     "execution_count": 19,
     "metadata": {},
     "output_type": "execute_result"
    }
   ],
   "source": [
    "df.head()"
   ]
  },
  {
   "cell_type": "code",
   "execution_count": 20,
   "id": "73d18a05",
   "metadata": {
    "execution": {
     "iopub.execute_input": "2025-04-22T01:01:41.977146Z",
     "iopub.status.busy": "2025-04-22T01:01:41.976681Z",
     "iopub.status.idle": "2025-04-22T01:01:41.981273Z",
     "shell.execute_reply": "2025-04-22T01:01:41.980655Z"
    },
    "papermill": {
     "duration": 0.014426,
     "end_time": "2025-04-22T01:01:41.982363",
     "exception": false,
     "start_time": "2025-04-22T01:01:41.967937",
     "status": "completed"
    },
    "tags": []
   },
   "outputs": [
    {
     "data": {
      "text/plain": [
       "Index(['RecordID', 'Offense', 'IncidentID', 'Agency', 'ReportingOfficer',\n",
       "       'Date', 'DayOfWeek', 'Weekend', 'Season', 'TimeOfDay', 'FullStreet',\n",
       "       'lat', 'lon', 'neighborhood', 'zip'],\n",
       "      dtype='object')"
      ]
     },
     "execution_count": 20,
     "metadata": {},
     "output_type": "execute_result"
    }
   ],
   "source": [
    "df.columns"
   ]
  },
  {
   "cell_type": "markdown",
   "id": "15943563",
   "metadata": {
    "papermill": {
     "duration": 0.007884,
     "end_time": "2025-04-22T01:01:41.998369",
     "exception": false,
     "start_time": "2025-04-22T01:01:41.990485",
     "status": "completed"
    },
    "tags": []
   },
   "source": [
    "### Data Preparation\n",
    "\n",
    "We need to ensure the data is in the correct format for modeling and can handle missing values, categorical variables, and dates. Here's how to prepare your data:"
   ]
  },
  {
   "cell_type": "code",
   "execution_count": 21,
   "id": "76c0660c",
   "metadata": {
    "execution": {
     "iopub.execute_input": "2025-04-22T01:01:42.015322Z",
     "iopub.status.busy": "2025-04-22T01:01:42.015013Z",
     "iopub.status.idle": "2025-04-22T01:01:44.412384Z",
     "shell.execute_reply": "2025-04-22T01:01:44.411599Z"
    },
    "papermill": {
     "duration": 2.407428,
     "end_time": "2025-04-22T01:01:44.413810",
     "exception": false,
     "start_time": "2025-04-22T01:01:42.006382",
     "status": "completed"
    },
    "tags": []
   },
   "outputs": [],
   "source": [
    "import pandas as pd\n",
    "from sklearn.model_selection import train_test_split\n",
    "from sklearn.preprocessing import OneHotEncoder, LabelEncoder\n",
    "from sklearn.ensemble import RandomForestClassifier\n",
    "from sklearn.linear_model import LogisticRegression\n",
    "from sklearn.tree import DecisionTreeClassifier\n",
    "from sklearn.metrics import classification_report, accuracy_score\n",
    "import seaborn as sns\n",
    "import matplotlib.pyplot as plt\n",
    "\n",
    "# Convert 'Date' to datetime\n",
    "df['Date'] = pd.to_datetime(df['Date'])\n",
    "\n",
    "# Feature engineering: Extract additional time-based features\n",
    "df['Year'] = df['Date'].dt.year\n",
    "df['Month'] = df['Date'].dt.month\n",
    "df['DayOfMonth'] = df['Date'].dt.day\n",
    "\n",
    "# One-hot encoding for 'FullStreet', 'neighborhood', 'zip'\n",
    "df = pd.get_dummies(df, columns=['FullStreet', 'neighborhood', 'zip'], drop_first=True)\n",
    "\n",
    "# Label encoding for ordered variables (those with a natural order like 'DayOfWeek', 'Season', 'TimeOfDay')\n",
    "label_encoders = {}\n",
    "for column in ['DayOfWeek', 'Season', 'TimeOfDay', 'Agency', 'ReportingOfficer']:  # Example ordinal variables\n",
    "    le = LabelEncoder()\n",
    "    df[column] = le.fit_transform(df[column])\n",
    "    label_encoders[column] = le\n",
    "\n",
    "# Filter the dataset to include only the offenses of interest\n",
    "offenses_of_interest = [\n",
    "    'Hit and Run', 'Assault Simple', 'Suspicious Activity', 'Vandalism', \n",
    "    'Larceny - From Mot Vehicle', 'Larceny - All Other', \n",
    "    'Assist Citizen - Mental/TDO/ECO', 'Lost/FoundProperty'\n",
    "]\n",
    "\n",
    "df = df[df['Offense'].isin(offenses_of_interest)]\n",
    "\n",
    "# Label encode the target variable (Offense)\n",
    "offense_encoder = LabelEncoder()\n",
    "df['Offense'] = offense_encoder.fit_transform(df['Offense'])\n",
    "\n",
    "# Separate features (X) and target (y)\n",
    "X = df[['Year', 'Month', 'DayOfMonth', 'DayOfWeek', 'Weekend', 'Season', 'TimeOfDay', 'lat', 'lon', 'Agency', 'ReportingOfficer']]\n",
    "y = df['Offense']  # Offense is now the encoded target variable\n",
    "\n",
    "# Split the data into training and testing sets\n",
    "X_train, X_test, y_train, y_test = train_test_split(X, y, test_size=0.3, random_state=42)\n"
   ]
  },
  {
   "cell_type": "markdown",
   "id": "cebe73ee",
   "metadata": {
    "papermill": {
     "duration": 0.008183,
     "end_time": "2025-04-22T01:01:44.430624",
     "exception": false,
     "start_time": "2025-04-22T01:01:44.422441",
     "status": "completed"
    },
    "tags": []
   },
   "source": [
    "### Model Training\n",
    "\n",
    "Here we will train several models (e.g., Random Forest, Logistic Regression, and Decision Tree). We will use cross-validation to choose the best model based on accuracy, and then explain the impact of the variables."
   ]
  },
  {
   "cell_type": "code",
   "execution_count": 22,
   "id": "1001d1bc",
   "metadata": {
    "execution": {
     "iopub.execute_input": "2025-04-22T01:01:44.449265Z",
     "iopub.status.busy": "2025-04-22T01:01:44.448473Z",
     "iopub.status.idle": "2025-04-22T01:01:48.022581Z",
     "shell.execute_reply": "2025-04-22T01:01:48.021940Z"
    },
    "papermill": {
     "duration": 3.58463,
     "end_time": "2025-04-22T01:01:48.023645",
     "exception": false,
     "start_time": "2025-04-22T01:01:44.439015",
     "status": "completed"
    },
    "tags": []
   },
   "outputs": [
    {
     "name": "stderr",
     "output_type": "stream",
     "text": [
      "/opt/hostedtoolcache/Python/3.9.22/x64/lib/python3.9/site-packages/sklearn/linear_model/_logistic.py:465: ConvergenceWarning: lbfgs failed to converge (status=1):\n",
      "STOP: TOTAL NO. of ITERATIONS REACHED LIMIT.\n",
      "\n",
      "Increase the number of iterations (max_iter) or scale the data as shown in:\n",
      "    https://scikit-learn.org/stable/modules/preprocessing.html\n",
      "Please also refer to the documentation for alternative solver options:\n",
      "    https://scikit-learn.org/stable/modules/linear_model.html#logistic-regression\n",
      "  n_iter_i = _check_optimize_result(\n",
      "/opt/hostedtoolcache/Python/3.9.22/x64/lib/python3.9/site-packages/sklearn/metrics/_classification.py:1565: UndefinedMetricWarning: Precision is ill-defined and being set to 0.0 in labels with no predicted samples. Use `zero_division` parameter to control this behavior.\n",
      "  _warn_prf(average, modifier, f\"{metric.capitalize()} is\", len(result))\n",
      "/opt/hostedtoolcache/Python/3.9.22/x64/lib/python3.9/site-packages/sklearn/metrics/_classification.py:1565: UndefinedMetricWarning: Precision is ill-defined and being set to 0.0 in labels with no predicted samples. Use `zero_division` parameter to control this behavior.\n",
      "  _warn_prf(average, modifier, f\"{metric.capitalize()} is\", len(result))\n",
      "/opt/hostedtoolcache/Python/3.9.22/x64/lib/python3.9/site-packages/sklearn/metrics/_classification.py:1565: UndefinedMetricWarning: Precision is ill-defined and being set to 0.0 in labels with no predicted samples. Use `zero_division` parameter to control this behavior.\n",
      "  _warn_prf(average, modifier, f\"{metric.capitalize()} is\", len(result))\n"
     ]
    },
    {
     "name": "stdout",
     "output_type": "stream",
     "text": [
      "\n",
      "Classification Report for All Models:\n",
      "\n",
      "Model: RandomForest\n",
      "Accuracy: 0.2849\n",
      "              precision    recall  f1-score      support\n",
      "0              0.287324  0.357895  0.318750   570.000000\n",
      "1              0.344828  0.228311  0.274725   438.000000\n",
      "2              0.294235  0.450533  0.355983   657.000000\n",
      "3              0.221333  0.176972  0.196682   469.000000\n",
      "4              0.315126  0.227273  0.264085   330.000000\n",
      "5              0.234375  0.201923  0.216942   520.000000\n",
      "6              0.312343  0.258333  0.282782   480.000000\n",
      "accuracy       0.284931  0.284931  0.284931     0.284931\n",
      "macro avg      0.287080  0.271606  0.272850  3464.000000\n",
      "weighted avg   0.285138  0.284931  0.278243  3464.000000\n"
     ]
    },
    {
     "data": {
      "image/png": "[encoded data removed]",
      "text/plain": [
       "<Figure size 800x600 with 2 Axes>"
      ]
     },
     "metadata": {},
     "output_type": "display_data"
    },
    {
     "name": "stdout",
     "output_type": "stream",
     "text": [
      "\n",
      "Model: LogisticRegression\n",
      "Accuracy: 0.2087\n",
      "              precision    recall  f1-score      support\n",
      "0              0.199598  0.522807  0.288900   570.000000\n",
      "1              0.000000  0.000000  0.000000   438.000000\n",
      "2              0.216590  0.643836  0.324138   657.000000\n",
      "3              0.000000  0.000000  0.000000   469.000000\n",
      "4              0.000000  0.000000  0.000000   330.000000\n",
      "5              0.000000  0.000000  0.000000   520.000000\n",
      "6              0.142857  0.004167  0.008097   480.000000\n",
      "accuracy       0.208718  0.208718  0.208718     0.208718\n",
      "macro avg      0.079864  0.167258  0.088734  3464.000000\n",
      "weighted avg   0.093719  0.208718  0.110138  3464.000000\n"
     ]
    },
    {
     "data": {
      "image/png": "[encoded data removed]",
      "text/plain": [
       "<Figure size 800x600 with 2 Axes>"
      ]
     },
     "metadata": {},
     "output_type": "display_data"
    },
    {
     "name": "stdout",
     "output_type": "stream",
     "text": [
      "\n",
      "Model: DecisionTree\n",
      "Accuracy: 0.2125\n",
      "              precision    recall  f1-score      support\n",
      "0              0.205575  0.207018  0.206294   570.000000\n",
      "1              0.219114  0.214612  0.216840   438.000000\n",
      "2              0.277955  0.264840  0.271239   657.000000\n",
      "3              0.161074  0.153518  0.157205   469.000000\n",
      "4              0.178788  0.178788  0.178788   330.000000\n",
      "5              0.227523  0.238462  0.232864   520.000000\n",
      "6              0.185185  0.197917  0.191339   480.000000\n",
      "accuracy       0.212471  0.212471  0.212471     0.212471\n",
      "macro avg      0.207888  0.207879  0.207796  3464.000000\n",
      "weighted avg   0.212907  0.212471  0.212595  3464.000000\n"
     ]
    },
    {
     "data": {
      "image/png": "[encoded data removed]",
      "text/plain": [
       "<Figure size 800x600 with 2 Axes>"
      ]
     },
     "metadata": {},
     "output_type": "display_data"
    },
    {
     "name": "stdout",
     "output_type": "stream",
     "text": [
      "\n",
      "Best Model:\n",
      "Best Model: RandomForestClassifier()\n",
      "Best Model Accuracy: 0.2849\n"
     ]
    }
   ],
   "source": [
    "import pandas as pd\n",
    "from sklearn.model_selection import train_test_split\n",
    "from sklearn.ensemble import RandomForestClassifier\n",
    "from sklearn.linear_model import LogisticRegression\n",
    "from sklearn.tree import DecisionTreeClassifier\n",
    "from sklearn.metrics import classification_report, accuracy_score, confusion_matrix\n",
    "import seaborn as sns\n",
    "import matplotlib.pyplot as plt\n",
    "\n",
    "# Define models\n",
    "models = {\n",
    "    'RandomForest': RandomForestClassifier(),\n",
    "    'LogisticRegression': LogisticRegression(max_iter=1000),\n",
    "    'DecisionTree': DecisionTreeClassifier()\n",
    "}\n",
    "\n",
    "# Train models and evaluate them\n",
    "best_model = None\n",
    "best_score = 0\n",
    "model_reports = {}\n",
    "\n",
    "for model_name, model in models.items():\n",
    "    model.fit(X_train, y_train)  # Train model\n",
    "    y_pred = model.predict(X_test)  # Make predictions\n",
    "    \n",
    "    # Calculate accuracy and generate classification report\n",
    "    accuracy = accuracy_score(y_test, y_pred)\n",
    "    model_reports[model_name] = classification_report(y_test, y_pred, output_dict=True)  # Store as a dictionary for easier analysis\n",
    "    \n",
    "    # Track best performing model\n",
    "    if accuracy > best_score:\n",
    "        best_score = accuracy\n",
    "        best_model = model\n",
    "\n",
    "# Display classification reports and confusion matrices\n",
    "print(\"\\nClassification Report for All Models:\")\n",
    "for model_name, report in model_reports.items():\n",
    "    print(f\"\\nModel: {model_name}\")\n",
    "    print(\"Accuracy: {:.4f}\".format(accuracy_score(y_test, models[model_name].predict(X_test))))  # Display accuracy\n",
    "    print(pd.DataFrame(report).transpose())  # Display classification report as a DataFrame\n",
    "\n",
    "    # Plot Confusion Matrix\n",
    "    cm = confusion_matrix(y_test, models[model_name].predict(X_test))\n",
    "    plt.figure(figsize=(8, 6))\n",
    "    sns.heatmap(cm, annot=True, fmt=\"d\", cmap='Blues', xticklabels=offense_encoder.classes_, yticklabels=offense_encoder.classes_)\n",
    "    plt.title(f\"Confusion Matrix - {model_name}\")\n",
    "    plt.xlabel('Predicted Labels')\n",
    "    plt.ylabel('True Labels')\n",
    "    plt.show()\n",
    "\n",
    "# Display best model details\n",
    "print(\"\\nBest Model:\")\n",
    "print(f\"Best Model: {best_model}\")\n",
    "print(f\"Best Model Accuracy: {best_score:.4f}\")\n"
   ]
  },
  {
   "cell_type": "markdown",
   "id": "2ebeb00d",
   "metadata": {
    "papermill": {
     "duration": 0.010699,
     "end_time": "2025-04-22T01:01:48.045820",
     "exception": false,
     "start_time": "2025-04-22T01:01:48.035121",
     "status": "completed"
    },
    "tags": []
   },
   "source": [
    "#### Classification Report for All Models:\n",
    "\n",
    "### Explanation of the Classification Results (RandomForest Model)\n",
    "\n",
    "The results you provided are from a **Random Forest** model, which is used for predicting different types of offenses. Let's break down the key components of the results:\n",
    "\n",
    "#### 1. **Accuracy: 0.2822**\n",
    "   - **Accuracy** measures the overall percentage of correct predictions made by the model. An accuracy of 28.22% means the model correctly predicted the offense in about 28% of the cases. This indicates the model's predictions are not highly reliable, as the accuracy is quite low.\n",
    "\n",
    "#### 2. **Classification Report:**\n",
    "   The classification report includes precision, recall, and F1-score for each offense. Let's go over these terms and how they apply to the results:\n",
    "\n",
    "   - **Precision**: The proportion of true positive predictions out of all positive predictions made by the model for a specific class (offense).\n",
    "   - **Recall**: The proportion of true positive predictions out of all actual positive instances in the dataset.\n",
    "   - **F1-Score**: The harmonic mean of precision and recall, providing a balance between the two metrics.\n",
    "   - **Support**: The number of actual occurrences of each class in the test set.\n",
    "\n",
    "   Let's analyze each offense based on these metrics:\n",
    "\n",
    "   | **Offense**                        | **Precision** | **Recall** | **F1-Score** | **Support** |\n",
    "   |------------------------------------|---------------|------------|--------------|-------------|\n",
    "   | **Assault Simple**                 | 0.2892        | 0.3754     | 0.3267       | 594         |\n",
    "   | **Assist Citizen - Mental/TDO/ECO**| 0.3182        | 0.2274     | 0.2652       | 431         |\n",
    "   | **Hit and Run**                    | 0.2963        | 0.4765     | 0.3654       | 638         |\n",
    "   | **Larceny - All Other**            | 0.2270        | 0.1453     | 0.1772       | 475         |\n",
    "   | **Lost/FoundProperty**             | 0.3333        | 0.2102     | 0.2578       | 352         |\n",
    "   | **Suspicious Activity**            | 0.2344        | 0.2169     | 0.2253       | 484         |\n",
    "   | **Vandalism**                      | 0.2712        | 0.2106     | 0.2371       | 470         |\n",
    "\n",
    "#### 3. **Key Insights from the Report:**\n",
    "\n",
    "- **Precision**:\n",
    "   - The highest precision is for **Larceny - All Other** (0.3333), indicating that when the model predicts this offense, it is correct about 33% of the time. However, this is still quite low.\n",
    "   - **Assist Citizen - Mental/TDO/ECO** has the lowest precision (0.2269), meaning that the model's predictions for this offense tend to be wrong more often than correct.\n",
    "\n",
    "- **Recall**:\n",
    "   - **Hit and Run** has the highest recall (0.4765), meaning the model identifies about 48% of the actual occurrences of this offense. This is better than the precision, which indicates it is missing many true positives but is still able to identify a fair number of cases.\n",
    "   - **Larceny - All Other** and **Suspicious Activity** have the lowest recall values (0.1453 and 0.2169, respectively), indicating that the model is failing to identify most of the actual cases for these offenses.\n",
    "\n",
    "- **F1-Score**:\n",
    "   - The **F1-Score** balances precision and recall. It is highest for **Hit and Run** (0.3654), but still relatively low overall. This suggests the model is better at identifying **Hit and Run** than other offenses but still has room for improvement.\n",
    "   - **Larceny - All Other** has the lowest F1-Score (0.1772), indicating a poor balance between precision and recall for this offense.\n",
    "\n",
    "#### 4. **Macro Average and Weighted Average:**\n",
    "   - **Macro Average**: This gives the average precision, recall, and F1-Score across all classes (offenses) without considering the class distribution. It averages the results for all offenses equally.\n",
    "     - Precision: 0.2814\n",
    "     - Recall: 0.2661\n",
    "     - F1-Score: 0.2649\n",
    "   - **Weighted Average**: This averages the metrics but weighs each class by its support (the number of true instances in the test set). This gives a better sense of overall performance, considering the class distribution.\n",
    "     - Precision: 0.2799\n",
    "     - Recall: 0.2822\n",
    "     - F1-Score: 0.2720\n",
    "\n",
    "#### 5. **Confusion Matrix (Visualization Analysis)**:\n",
    "   - The confusion matrix shows the distribution of true positive, false positive, true negative, and false negative predictions for each class.\n",
    "     - For **Hit and Run**, the model performs relatively well in identifying this offense (304 true positives). However, it also misclassifies some **Hit and Run** instances as other offenses (e.g., **Assault Simple**, **Suspicious Activity**, etc.).\n",
    "     - **Larceny - All Other** is frequently misclassified as **Hit and Run**, **Suspicious Activity**, and others. This is evident from the large number of off-diagonal elements in its row.\n",
    "     - **Assist Citizen - Mental/TDO/ECO** and **Suspicious Activity** are frequently misclassified, as seen by the off-diagonal values in their rows.\n",
    "\n",
    "### Conclusion:\n",
    "The Random Forest model has low accuracy (28.22%), suggesting that it struggles to predict most offenses accurately. Some offenses like **Hit and Run** are better predicted than others, but overall, the model shows a high level of misclassification across all offenses. There may be a need for further tuning of the model, additional feature engineering, or trying different models for better performance.\n",
    "\n",
    "Let me know if you'd like to improve the model or make adjustments based on these results!\n",
    "\n"
   ]
  },
  {
   "cell_type": "markdown",
   "id": "8a7c1e6b",
   "metadata": {
    "papermill": {
     "duration": 0.010824,
     "end_time": "2025-04-22T01:01:48.067512",
     "exception": false,
     "start_time": "2025-04-22T01:01:48.056688",
     "status": "completed"
    },
    "tags": []
   },
   "source": [
    "### Model Explanation\n",
    "\n",
    "Once we’ve chosen the best model, we will explain its predictions by examining feature importance for tree-based models and using statistical methods like logistic regression coefficients for linear models."
   ]
  },
  {
   "cell_type": "markdown",
   "id": "7f30e999",
   "metadata": {
    "papermill": {
     "duration": 0.010667,
     "end_time": "2025-04-22T01:01:48.088936",
     "exception": false,
     "start_time": "2025-04-22T01:01:48.078269",
     "status": "completed"
    },
    "tags": []
   },
   "source": [
    "#### Feature Importance for Random Forest / Decision Tree\n",
    "\n",
    "##### For Tree-based Models (Random Forest, Decision Tree)\n",
    "\n",
    "For Random Forest or Decision Tree, we can look at feature importance to understand which variables contribute the most to the model's predictions. Here's how you can visualize and interpret the importance of each feature:"
   ]
  },
  {
   "cell_type": "code",
   "execution_count": 23,
   "id": "431b945c",
   "metadata": {
    "execution": {
     "iopub.execute_input": "2025-04-22T01:01:48.111607Z",
     "iopub.status.busy": "2025-04-22T01:01:48.111326Z",
     "iopub.status.idle": "2025-04-22T01:01:48.277992Z",
     "shell.execute_reply": "2025-04-22T01:01:48.277273Z"
    },
    "papermill": {
     "duration": 0.179461,
     "end_time": "2025-04-22T01:01:48.279135",
     "exception": false,
     "start_time": "2025-04-22T01:01:48.099674",
     "status": "completed"
    },
    "tags": []
   },
   "outputs": [
    {
     "data": {
      "image/png": "[encoded data removed]",
      "text/plain": [
       "<Figure size 1000x600 with 1 Axes>"
      ]
     },
     "metadata": {},
     "output_type": "display_data"
    }
   ],
   "source": [
    "# For RandomForest or DecisionTree models, we can check feature importance\n",
    "if isinstance(best_model, RandomForestClassifier) or isinstance(best_model, DecisionTreeClassifier):\n",
    "    feature_importance = best_model.feature_importances_\n",
    "    feature_names = X.columns\n",
    "    importance_df = pd.DataFrame({'Feature': feature_names, 'Importance': feature_importance})\n",
    "    importance_df = importance_df.sort_values(by='Importance', ascending=False)\n",
    "    \n",
    "    # Plotting the feature importances\n",
    "    plt.figure(figsize=(10, 6))\n",
    "    sns.barplot(x='Importance', y='Feature', data=importance_df)\n",
    "    plt.title(\"Feature Importance\")\n",
    "    plt.show()\n"
   ]
  },
  {
   "cell_type": "code",
   "execution_count": null,
   "id": "09d13f35",
   "metadata": {
    "papermill": {
     "duration": 0.011043,
     "end_time": "2025-04-22T01:01:48.301737",
     "exception": false,
     "start_time": "2025-04-22T01:01:48.290694",
     "status": "completed"
    },
    "tags": []
   },
   "outputs": [],
   "source": []
  },
  {
   "cell_type": "markdown",
   "id": "e24bb0f6",
   "metadata": {
    "papermill": {
     "duration": 0.011062,
     "end_time": "2025-04-22T01:01:48.323786",
     "exception": false,
     "start_time": "2025-04-22T01:01:48.312724",
     "status": "completed"
    },
    "tags": []
   },
   "source": [
    "### Evaluation\n",
    "\n",
    "After training the models and examining their performance, we evaluate the chosen model based on metrics like accuracy, precision, recall, and F1 score.\n",
    "\n"
   ]
  },
  {
   "cell_type": "code",
   "execution_count": 24,
   "id": "eb843879",
   "metadata": {
    "execution": {
     "iopub.execute_input": "2025-04-22T01:01:48.347086Z",
     "iopub.status.busy": "2025-04-22T01:01:48.346575Z",
     "iopub.status.idle": "2025-04-22T01:01:48.436334Z",
     "shell.execute_reply": "2025-04-22T01:01:48.435604Z"
    },
    "papermill": {
     "duration": 0.102771,
     "end_time": "2025-04-22T01:01:48.437495",
     "exception": false,
     "start_time": "2025-04-22T01:01:48.334724",
     "status": "completed"
    },
    "tags": []
   },
   "outputs": [
    {
     "name": "stdout",
     "output_type": "stream",
     "text": [
      "Accuracy: 0.2849\n",
      "Classification Report:\n",
      "              precision    recall  f1-score   support\n",
      "\n",
      "           0       0.29      0.36      0.32       570\n",
      "           1       0.34      0.23      0.27       438\n",
      "           2       0.29      0.45      0.36       657\n",
      "           3       0.22      0.18      0.20       469\n",
      "           4       0.32      0.23      0.26       330\n",
      "           5       0.23      0.20      0.22       520\n",
      "           6       0.31      0.26      0.28       480\n",
      "\n",
      "    accuracy                           0.28      3464\n",
      "   macro avg       0.29      0.27      0.27      3464\n",
      "weighted avg       0.29      0.28      0.28      3464\n",
      "\n",
      "Confusion Matrix:\n",
      "[[204  50 144  55  16  70  31]\n",
      " [ 92 100 109  31  19  52  35]\n",
      " [124  31 296  64  22  69  51]\n",
      " [ 70  25 137  83  33  67  54]\n",
      " [ 53  20  74  34  75  29  45]\n",
      " [ 89  32 133  64  40 105  57]\n",
      " [ 78  32 113  44  33  56 124]]\n",
      "Precision: 0.2851\n",
      "Recall: 0.2849\n",
      "F1 Score: 0.2782\n"
     ]
    }
   ],
   "source": [
    "from sklearn.metrics import classification_report, confusion_matrix, accuracy_score, precision_score, recall_score, f1_score\n",
    "\n",
    "# Predict on the test set\n",
    "y_pred = best_model.predict(X_test)\n",
    "\n",
    "# Calculate Accuracy\n",
    "accuracy = accuracy_score(y_test, y_pred)\n",
    "print(f\"Accuracy: {accuracy:.4f}\")\n",
    "\n",
    "# Classification Report\n",
    "print(\"Classification Report:\")\n",
    "print(classification_report(y_test, y_pred))\n",
    "\n",
    "# Confusion Matrix\n",
    "conf_matrix = confusion_matrix(y_test, y_pred)\n",
    "print(\"Confusion Matrix:\")\n",
    "print(conf_matrix)\n",
    "\n",
    "# Precision, Recall, F1 Score for each class (Offense Type)\n",
    "precision = precision_score(y_test, y_pred, average='weighted')\n",
    "recall = recall_score(y_test, y_pred, average='weighted')\n",
    "f1 = f1_score(y_test, y_pred, average='weighted')\n",
    "\n",
    "print(f\"Precision: {precision:.4f}\")\n",
    "print(f\"Recall: {recall:.4f}\")\n",
    "print(f\"F1 Score: {f1:.4f}\")\n"
   ]
  },
  {
   "cell_type": "markdown",
   "id": "da50ae35",
   "metadata": {
    "papermill": {
     "duration": 0.011086,
     "end_time": "2025-04-22T01:01:48.460172",
     "exception": false,
     "start_time": "2025-04-22T01:01:48.449086",
     "status": "completed"
    },
    "tags": []
   },
   "source": [
    "#### For Logistic Regression (Coefficient Interpretation)\n",
    "\n",
    "For Logistic Regression, the model coefficients can help us understand how each feature affects the likelihood of an offense happening. A positive coefficient indicates a feature increases the likelihood of the offense, and a negative coefficient indicates the opposite."
   ]
  },
  {
   "cell_type": "code",
   "execution_count": 25,
   "id": "ad26b3b5",
   "metadata": {
    "execution": {
     "iopub.execute_input": "2025-04-22T01:01:48.483757Z",
     "iopub.status.busy": "2025-04-22T01:01:48.483273Z",
     "iopub.status.idle": "2025-04-22T01:01:48.488162Z",
     "shell.execute_reply": "2025-04-22T01:01:48.487586Z"
    },
    "papermill": {
     "duration": 0.017816,
     "end_time": "2025-04-22T01:01:48.489200",
     "exception": false,
     "start_time": "2025-04-22T01:01:48.471384",
     "status": "completed"
    },
    "tags": []
   },
   "outputs": [],
   "source": [
    "if isinstance(best_model, LogisticRegression):\n",
    "    # Logistic regression coefficients\n",
    "    coef_df = pd.DataFrame({\n",
    "        'Feature': X.columns,\n",
    "        'Coefficient': best_model.coef_[0]\n",
    "    })\n",
    "    coef_df['AbsCoefficient'] = coef_df['Coefficient'].abs()\n",
    "    coef_df = coef_df.sort_values(by='AbsCoefficient', ascending=False)\n",
    "    \n",
    "    # Plotting the coefficients\n",
    "    plt.figure(figsize=(10, 6))\n",
    "    sns.barplot(x='AbsCoefficient', y='Feature', data=coef_df)\n",
    "    plt.title(\"Logistic Regression Coefficients Impact\")\n",
    "    plt.show()\n",
    "\n",
    "    # Print the top 5 most impactful features (by absolute coefficient value)\n",
    "    print(\"Top 5 most impactful features based on coefficients:\")\n",
    "    print(coef_df.head())\n"
   ]
  },
  {
   "cell_type": "markdown",
   "id": "86308e27",
   "metadata": {
    "papermill": {
     "duration": 0.011,
     "end_time": "2025-04-22T01:01:48.511345",
     "exception": false,
     "start_time": "2025-04-22T01:01:48.500345",
     "status": "completed"
    },
    "tags": []
   },
   "source": [
    "Explanation of Output:\n",
    "\n",
    "Feature Importance (Random Forest/Decision Tree): The bar plot will show how important each feature is in the decision-making process. Features at the top of the list are the most influential in predicting the occurrence of offenses.\n",
    "\n",
    "Logistic Regression Coefficients: The bar plot will show the magnitude of the coefficients for each feature. Features with larger absolute values (either positive or negative) have a stronger impact on the model’s predictions. Positive coefficients increase the probability of an offense, while negative coefficients decrease it."
   ]
  },
  {
   "cell_type": "markdown",
   "id": "faf1ac5d",
   "metadata": {
    "papermill": {
     "duration": 0.011124,
     "end_time": "2025-04-22T01:01:48.533570",
     "exception": false,
     "start_time": "2025-04-22T01:01:48.522446",
     "status": "completed"
    },
    "tags": []
   },
   "source": []
  }
 ],
 "metadata": {
  "kernelspec": {
   "display_name": "Python 3",
   "language": "python",
   "name": "python3"
  },
  "language_info": {
   "codemirror_mode": {
    "name": "ipython",
    "version": 3
   },
   "file_extension": ".py",
   "mimetype": "text/x-python",
   "name": "python",
   "nbconvert_exporter": "python",
   "pygments_lexer": "ipython3",
   "version": "3.9.22"
  },
  "papermill": {
   "default_parameters": {},
   "duration": 80.373552,
   "end_time": "2025-04-22T01:01:49.062380",
   "environment_variables": {},
   "exception": null,
   "input_path": "notebook/Crime Data.ipynb",
   "output_path": "notebook/Crime Data_output.ipynb",
   "parameters": {},
   "start_time": "2025-04-22T01:00:28.688828",
   "version": "2.6.0"
  }
 },
 "nbformat": 4,
 "nbformat_minor": 5
}