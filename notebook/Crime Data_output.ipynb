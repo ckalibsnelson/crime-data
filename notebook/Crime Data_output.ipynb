{
 "cells": [
  {
   "cell_type": "markdown",
   "id": "71035586",
   "metadata": {
    "papermill": {
     "duration": 0.006533,
     "end_time": "2025-05-04T01:07:37.457496",
     "exception": false,
     "start_time": "2025-05-04T01:07:37.450963",
     "status": "completed"
    },
    "tags": []
   },
   "source": [
    "# Charlottesville Open Data Porttal: Crime Data"
   ]
  },
  {
   "cell_type": "markdown",
   "id": "19c64424",
   "metadata": {
    "papermill": {
     "duration": 0.005031,
     "end_time": "2025-05-04T01:07:37.468025",
     "exception": false,
     "start_time": "2025-05-04T01:07:37.462994",
     "status": "completed"
    },
    "tags": []
   },
   "source": [
    "## Import Relevant Librarires & Set WD"
   ]
  },
  {
   "cell_type": "code",
   "execution_count": 1,
   "id": "4a5f3e0d",
   "metadata": {
    "execution": {
     "iopub.execute_input": "2025-05-04T01:07:37.479635Z",
     "iopub.status.busy": "2025-05-04T01:07:37.479139Z",
     "iopub.status.idle": "2025-05-04T01:07:38.117720Z",
     "shell.execute_reply": "2025-05-04T01:07:38.116934Z"
    },
    "papermill": {
     "duration": 0.646207,
     "end_time": "2025-05-04T01:07:38.119296",
     "exception": false,
     "start_time": "2025-05-04T01:07:37.473089",
     "status": "completed"
    },
    "tags": []
   },
   "outputs": [],
   "source": [
    "import requests\n",
    "import pandas as pd\n",
    "import numpy as np\n",
    "import pickle\n",
    "import googlemaps\n",
    "import plotly.express as px\n",
    "from geopy.geocoders import Nominatim\n",
    "import time\n",
    "from dotenv import load_dotenv\n",
    "import os\n",
    "\n",
    "env_path = os.path.join(\"..\", \".env\")\n",
    "#print(\"Looking for .env file at:\", os.path.abspath(env_path))\n",
    "load_dotenv(dotenv_path=env_path)\n",
    "\n",
    "# Retrieve the variables\n",
    "GOOGLE_API_KEY = os.getenv(\"GOOGLE_API_KEY\")\n",
    "WORKING_DIR = os.getenv(\"WORKING_DIR\")\n",
    "\n",
    "if GOOGLE_API_KEY is None or WORKING_DIR is None:\n",
    "    raise RuntimeError(\"No configuration found. Please ensure that your .env file exists with the required variables, or create a local config.py file.\")\n",
    "\n",
    "#print(\"Google API Key:\", GOOGLE_API_KEY)\n",
    "#print(\"Working Directory:\", WORKING_DIR)"
   ]
  },
  {
   "cell_type": "markdown",
   "id": "881176e5",
   "metadata": {
    "papermill": {
     "duration": 0.00516,
     "end_time": "2025-05-04T01:07:38.130010",
     "exception": false,
     "start_time": "2025-05-04T01:07:38.124850",
     "status": "completed"
    },
    "tags": []
   },
   "source": [
    "## Import Data\n",
    "\n",
    "URL: https://opendata.charlottesville.org/datasets/charlottesville::crime-data/about"
   ]
  },
  {
   "cell_type": "code",
   "execution_count": 2,
   "id": "87a9ef3d",
   "metadata": {
    "execution": {
     "iopub.execute_input": "2025-05-04T01:07:38.142258Z",
     "iopub.status.busy": "2025-05-04T01:07:38.141372Z",
     "iopub.status.idle": "2025-05-04T01:08:34.692405Z",
     "shell.execute_reply": "2025-05-04T01:08:34.691649Z"
    },
    "papermill": {
     "duration": 56.564084,
     "end_time": "2025-05-04T01:08:34.699282",
     "exception": false,
     "start_time": "2025-05-04T01:07:38.135198",
     "status": "completed"
    },
    "tags": []
   },
   "outputs": [
    {
     "name": "stdout",
     "output_type": "stream",
     "text": [
      "Total records imported: 25327\n"
     ]
    }
   ],
   "source": [
    "# Define the endpoint and initial parameters.\n",
    "url = \"https://gisweb.charlottesville.org/arcgis/rest/services/OpenData_2/MapServer/6/query\"\n",
    "params = {\n",
    "    \"where\": \"1=1\",\n",
    "    \"outFields\": \"*\",\n",
    "    \"outSR\": 4326,\n",
    "    \"f\": \"json\",\n",
    "    \"resultOffset\": 0,       # Starting index for results\n",
    "    \"resultRecordCount\": 10000  # Maximum records per batch (if allowed by the API)\n",
    "}\n",
    "\n",
    "records = []\n",
    "\n",
    "while True:\n",
    "    response = requests.get(url, params=params)\n",
    "    response.raise_for_status()\n",
    "    data = response.json()\n",
    "    \n",
    "    # Get the current batch of features.\n",
    "    features = data.get(\"features\", [])\n",
    "    if not features:\n",
    "        break\n",
    "\n",
    "    # Extract the attributes from the features.\n",
    "    batch_records = [feature.get(\"attributes\", {}) for feature in features]\n",
    "    records.extend(batch_records)\n",
    "    \n",
    "    # If the batch size is less than the requested count, we reached the end.\n",
    "    if len(features) < params[\"resultRecordCount\"]:\n",
    "        break\n",
    "\n",
    "    # Update the resultOffset for the next batch.\n",
    "    params[\"resultOffset\"] += params[\"resultRecordCount\"]\n",
    "\n",
    "# Create a DataFrame from the combined records.\n",
    "df = pd.DataFrame(records)\n",
    "print(\"Total records imported:\", len(df))\n"
   ]
  },
  {
   "cell_type": "code",
   "execution_count": 3,
   "id": "07b0d8fb",
   "metadata": {
    "execution": {
     "iopub.execute_input": "2025-05-04T01:08:34.735982Z",
     "iopub.status.busy": "2025-05-04T01:08:34.735457Z",
     "iopub.status.idle": "2025-05-04T01:08:34.748323Z",
     "shell.execute_reply": "2025-05-04T01:08:34.747764Z"
    },
    "papermill": {
     "duration": 0.044507,
     "end_time": "2025-05-04T01:08:34.749373",
     "exception": false,
     "start_time": "2025-05-04T01:08:34.704866",
     "status": "completed"
    },
    "tags": []
   },
   "outputs": [
    {
     "data": {
      "text/html": [
       "<div>\n",
       "<style scoped>\n",
       "    .dataframe tbody tr th:only-of-type {\n",
       "        vertical-align: middle;\n",
       "    }\n",
       "\n",
       "    .dataframe tbody tr th {\n",
       "        vertical-align: top;\n",
       "    }\n",
       "\n",
       "    .dataframe thead th {\n",
       "        text-align: right;\n",
       "    }\n",
       "</style>\n",
       "<table border=\"1\" class=\"dataframe\">\n",
       "  <thead>\n",
       "    <tr style=\"text-align: right;\">\n",
       "      <th></th>\n",
       "      <th>RecordID</th>\n",
       "      <th>Offense</th>\n",
       "      <th>IncidentID</th>\n",
       "      <th>BlockNumber</th>\n",
       "      <th>StreetName</th>\n",
       "      <th>Agency</th>\n",
       "      <th>DateReported</th>\n",
       "      <th>HourReported</th>\n",
       "      <th>ReportingOfficer</th>\n",
       "    </tr>\n",
       "  </thead>\n",
       "  <tbody>\n",
       "    <tr>\n",
       "      <th>0</th>\n",
       "      <td>1</td>\n",
       "      <td>Missing Person-juvenile</td>\n",
       "      <td>202500014450</td>\n",
       "      <td>500</td>\n",
       "      <td>PARK ST</td>\n",
       "      <td>CPD</td>\n",
       "      <td>1746151828000</td>\n",
       "      <td>2210</td>\n",
       "      <td>Pinkman, Jackson</td>\n",
       "    </tr>\n",
       "    <tr>\n",
       "      <th>1</th>\n",
       "      <td>2</td>\n",
       "      <td>Assault Simple</td>\n",
       "      <td>202500014442</td>\n",
       "      <td>1500</td>\n",
       "      <td>ANTOINETTE AVE</td>\n",
       "      <td>CPD</td>\n",
       "      <td>1746148327000</td>\n",
       "      <td>2112</td>\n",
       "      <td>Bentz, Benjamin</td>\n",
       "    </tr>\n",
       "    <tr>\n",
       "      <th>2</th>\n",
       "      <td>3</td>\n",
       "      <td>Disturbance - Non Domestic</td>\n",
       "      <td>202500014440</td>\n",
       "      <td>1100</td>\n",
       "      <td>EMMET ST N</td>\n",
       "      <td>CPD</td>\n",
       "      <td>1746147910000</td>\n",
       "      <td>2105</td>\n",
       "      <td>Abdelgayed, Adam</td>\n",
       "    </tr>\n",
       "    <tr>\n",
       "      <th>3</th>\n",
       "      <td>4</td>\n",
       "      <td>Larceny - All Other</td>\n",
       "      <td>202500014444</td>\n",
       "      <td>200</td>\n",
       "      <td>W MAIN ST</td>\n",
       "      <td>CPD</td>\n",
       "      <td>1746146835000</td>\n",
       "      <td>2047</td>\n",
       "      <td>Rigsby, Lloyd</td>\n",
       "    </tr>\n",
       "    <tr>\n",
       "      <th>4</th>\n",
       "      <td>5</td>\n",
       "      <td>Hit and Run</td>\n",
       "      <td>202500014429</td>\n",
       "      <td>100</td>\n",
       "      <td>E MARKET ST</td>\n",
       "      <td>CPD</td>\n",
       "      <td>1746140789000</td>\n",
       "      <td>1906</td>\n",
       "      <td>Hannay, Jacob</td>\n",
       "    </tr>\n",
       "  </tbody>\n",
       "</table>\n",
       "</div>"
      ],
      "text/plain": [
       "   RecordID                     Offense    IncidentID BlockNumber  \\\n",
       "0         1     Missing Person-juvenile  202500014450         500   \n",
       "1         2              Assault Simple  202500014442        1500   \n",
       "2         3  Disturbance - Non Domestic  202500014440        1100   \n",
       "3         4         Larceny - All Other  202500014444         200   \n",
       "4         5                 Hit and Run  202500014429         100   \n",
       "\n",
       "       StreetName Agency   DateReported HourReported  ReportingOfficer  \n",
       "0         PARK ST    CPD  1746151828000         2210  Pinkman, Jackson  \n",
       "1  ANTOINETTE AVE    CPD  1746148327000         2112  Bentz, Benjamin   \n",
       "2      EMMET ST N    CPD  1746147910000         2105  Abdelgayed, Adam  \n",
       "3       W MAIN ST    CPD  1746146835000         2047     Rigsby, Lloyd  \n",
       "4     E MARKET ST    CPD  1746140789000         1906     Hannay, Jacob  "
      ]
     },
     "execution_count": 3,
     "metadata": {},
     "output_type": "execute_result"
    }
   ],
   "source": [
    "df.head()"
   ]
  },
  {
   "cell_type": "code",
   "execution_count": 4,
   "id": "f53c0c2d",
   "metadata": {
    "execution": {
     "iopub.execute_input": "2025-05-04T01:08:34.761352Z",
     "iopub.status.busy": "2025-05-04T01:08:34.760920Z",
     "iopub.status.idle": "2025-05-04T01:08:34.765478Z",
     "shell.execute_reply": "2025-05-04T01:08:34.764833Z"
    },
    "papermill": {
     "duration": 0.011596,
     "end_time": "2025-05-04T01:08:34.766492",
     "exception": false,
     "start_time": "2025-05-04T01:08:34.754896",
     "status": "completed"
    },
    "tags": []
   },
   "outputs": [
    {
     "data": {
      "text/plain": [
       "Index(['RecordID', 'Offense', 'IncidentID', 'BlockNumber', 'StreetName',\n",
       "       'Agency', 'DateReported', 'HourReported', 'ReportingOfficer'],\n",
       "      dtype='object')"
      ]
     },
     "execution_count": 4,
     "metadata": {},
     "output_type": "execute_result"
    }
   ],
   "source": [
    "df.columns"
   ]
  },
  {
   "cell_type": "code",
   "execution_count": 5,
   "id": "06feb03a",
   "metadata": {
    "execution": {
     "iopub.execute_input": "2025-05-04T01:08:34.778498Z",
     "iopub.status.busy": "2025-05-04T01:08:34.778099Z",
     "iopub.status.idle": "2025-05-04T01:08:34.803240Z",
     "shell.execute_reply": "2025-05-04T01:08:34.802685Z"
    },
    "papermill": {
     "duration": 0.032178,
     "end_time": "2025-05-04T01:08:34.804254",
     "exception": false,
     "start_time": "2025-05-04T01:08:34.772076",
     "status": "completed"
    },
    "tags": []
   },
   "outputs": [
    {
     "name": "stdout",
     "output_type": "stream",
     "text": [
      "<class 'pandas.core.frame.DataFrame'>\n",
      "RangeIndex: 25327 entries, 0 to 25326\n",
      "Data columns (total 9 columns):\n",
      " #   Column            Non-Null Count  Dtype \n",
      "---  ------            --------------  ----- \n",
      " 0   RecordID          25327 non-null  int64 \n",
      " 1   Offense           25327 non-null  object\n",
      " 2   IncidentID        25327 non-null  object\n",
      " 3   BlockNumber       25327 non-null  object\n",
      " 4   StreetName        25327 non-null  object\n",
      " 5   Agency            25327 non-null  object\n",
      " 6   DateReported      25327 non-null  int64 \n",
      " 7   HourReported      25327 non-null  object\n",
      " 8   ReportingOfficer  25310 non-null  object\n",
      "dtypes: int64(2), object(7)\n",
      "memory usage: 1.7+ MB\n"
     ]
    }
   ],
   "source": [
    "df.info()"
   ]
  },
  {
   "cell_type": "markdown",
   "id": "b234f548",
   "metadata": {
    "papermill": {
     "duration": 0.005636,
     "end_time": "2025-05-04T01:08:34.815816",
     "exception": false,
     "start_time": "2025-05-04T01:08:34.810180",
     "status": "completed"
    },
    "tags": []
   },
   "source": [
    "### Missing Values"
   ]
  },
  {
   "cell_type": "code",
   "execution_count": 6,
   "id": "1d448aac",
   "metadata": {
    "execution": {
     "iopub.execute_input": "2025-05-04T01:08:34.827779Z",
     "iopub.status.busy": "2025-05-04T01:08:34.827577Z",
     "iopub.status.idle": "2025-05-04T01:08:34.850663Z",
     "shell.execute_reply": "2025-05-04T01:08:34.850094Z"
    },
    "papermill": {
     "duration": 0.030254,
     "end_time": "2025-05-04T01:08:34.851651",
     "exception": false,
     "start_time": "2025-05-04T01:08:34.821397",
     "status": "completed"
    },
    "tags": []
   },
   "outputs": [
    {
     "name": "stdout",
     "output_type": "stream",
     "text": [
      "                  MissingCount  MissingPercentage\n",
      "RecordID                     0               0.00\n",
      "Offense                      0               0.00\n",
      "IncidentID                   0               0.00\n",
      "BlockNumber                  0               0.00\n",
      "StreetName                   0               0.00\n",
      "Agency                       0               0.00\n",
      "DateReported                 0               0.00\n",
      "HourReported                 0               0.00\n",
      "ReportingOfficer            17               0.07\n"
     ]
    }
   ],
   "source": [
    "def missing_percentage(df):\n",
    "    \"\"\"\n",
    "    Returns a DataFrame with the count and percentage of missing values for each column.\n",
    "    \n",
    "    Parameters:\n",
    "        df (pd.DataFrame): The input DataFrame.\n",
    "    \n",
    "    Returns:\n",
    "        pd.DataFrame: A DataFrame with columns 'MissingCount' and 'MissingPercentage'.\n",
    "    \"\"\"\n",
    "    total_rows = len(df)\n",
    "    missing_count = df.isnull().sum()\n",
    "    missing_percent = (missing_count / total_rows) * 100\n",
    "    \n",
    "    result = pd.DataFrame({\n",
    "        'MissingCount': missing_count,\n",
    "        'MissingPercentage': missing_percent.round(2)\n",
    "    })\n",
    "    \n",
    "    return result\n",
    "\n",
    "# Example usage:\n",
    "missing_info = missing_percentage(df)\n",
    "print(missing_info)\n"
   ]
  },
  {
   "cell_type": "markdown",
   "id": "791e4abe",
   "metadata": {
    "papermill": {
     "duration": 0.005544,
     "end_time": "2025-05-04T01:08:34.863089",
     "exception": false,
     "start_time": "2025-05-04T01:08:34.857545",
     "status": "completed"
    },
    "tags": []
   },
   "source": [
    "## Data Preparation"
   ]
  },
  {
   "cell_type": "markdown",
   "id": "4a660baa",
   "metadata": {
    "papermill": {
     "duration": 0.005509,
     "end_time": "2025-05-04T01:08:34.874275",
     "exception": false,
     "start_time": "2025-05-04T01:08:34.868766",
     "status": "completed"
    },
    "tags": []
   },
   "source": [
    "### Data Conversion"
   ]
  },
  {
   "cell_type": "code",
   "execution_count": 7,
   "id": "2d33e8a3",
   "metadata": {
    "execution": {
     "iopub.execute_input": "2025-05-04T01:08:34.886628Z",
     "iopub.status.busy": "2025-05-04T01:08:34.886190Z",
     "iopub.status.idle": "2025-05-04T01:08:35.256640Z",
     "shell.execute_reply": "2025-05-04T01:08:35.255909Z"
    },
    "papermill": {
     "duration": 0.377853,
     "end_time": "2025-05-04T01:08:35.257748",
     "exception": false,
     "start_time": "2025-05-04T01:08:34.879895",
     "status": "completed"
    },
    "tags": []
   },
   "outputs": [
    {
     "data": {
      "text/html": [
       "<div>\n",
       "<style scoped>\n",
       "    .dataframe tbody tr th:only-of-type {\n",
       "        vertical-align: middle;\n",
       "    }\n",
       "\n",
       "    .dataframe tbody tr th {\n",
       "        vertical-align: top;\n",
       "    }\n",
       "\n",
       "    .dataframe thead th {\n",
       "        text-align: right;\n",
       "    }\n",
       "</style>\n",
       "<table border=\"1\" class=\"dataframe\">\n",
       "  <thead>\n",
       "    <tr style=\"text-align: right;\">\n",
       "      <th></th>\n",
       "      <th>RecordID</th>\n",
       "      <th>Offense</th>\n",
       "      <th>IncidentID</th>\n",
       "      <th>BlockNumber</th>\n",
       "      <th>StreetName</th>\n",
       "      <th>Agency</th>\n",
       "      <th>HourReported</th>\n",
       "      <th>ReportingOfficer</th>\n",
       "      <th>Date</th>\n",
       "      <th>DateString</th>\n",
       "      <th>DayOfWeek</th>\n",
       "      <th>Weekend</th>\n",
       "      <th>Season</th>\n",
       "      <th>HourAMPM</th>\n",
       "      <th>TimeOfDay</th>\n",
       "    </tr>\n",
       "  </thead>\n",
       "  <tbody>\n",
       "    <tr>\n",
       "      <th>0</th>\n",
       "      <td>1</td>\n",
       "      <td>Missing Person-juvenile</td>\n",
       "      <td>202500014450</td>\n",
       "      <td>500</td>\n",
       "      <td>PARK ST</td>\n",
       "      <td>CPD</td>\n",
       "      <td>2210</td>\n",
       "      <td>Pinkman, Jackson</td>\n",
       "      <td>2025-05-01 22:10:28</td>\n",
       "      <td>2025-05-01 10:10:28 PM</td>\n",
       "      <td>Thursday</td>\n",
       "      <td>False</td>\n",
       "      <td>Spring</td>\n",
       "      <td>10:10 PM</td>\n",
       "      <td>Night</td>\n",
       "    </tr>\n",
       "    <tr>\n",
       "      <th>1</th>\n",
       "      <td>2</td>\n",
       "      <td>Assault Simple</td>\n",
       "      <td>202500014442</td>\n",
       "      <td>1500</td>\n",
       "      <td>ANTOINETTE AVE</td>\n",
       "      <td>CPD</td>\n",
       "      <td>2112</td>\n",
       "      <td>Bentz, Benjamin</td>\n",
       "      <td>2025-05-01 21:12:07</td>\n",
       "      <td>2025-05-01 09:12:07 PM</td>\n",
       "      <td>Thursday</td>\n",
       "      <td>False</td>\n",
       "      <td>Spring</td>\n",
       "      <td>09:12 PM</td>\n",
       "      <td>Night</td>\n",
       "    </tr>\n",
       "    <tr>\n",
       "      <th>2</th>\n",
       "      <td>3</td>\n",
       "      <td>Disturbance - Non Domestic</td>\n",
       "      <td>202500014440</td>\n",
       "      <td>1100</td>\n",
       "      <td>EMMET ST N</td>\n",
       "      <td>CPD</td>\n",
       "      <td>2105</td>\n",
       "      <td>Abdelgayed, Adam</td>\n",
       "      <td>2025-05-01 21:05:10</td>\n",
       "      <td>2025-05-01 09:05:10 PM</td>\n",
       "      <td>Thursday</td>\n",
       "      <td>False</td>\n",
       "      <td>Spring</td>\n",
       "      <td>09:05 PM</td>\n",
       "      <td>Night</td>\n",
       "    </tr>\n",
       "    <tr>\n",
       "      <th>3</th>\n",
       "      <td>4</td>\n",
       "      <td>Larceny - All Other</td>\n",
       "      <td>202500014444</td>\n",
       "      <td>200</td>\n",
       "      <td>W MAIN ST</td>\n",
       "      <td>CPD</td>\n",
       "      <td>2047</td>\n",
       "      <td>Rigsby, Lloyd</td>\n",
       "      <td>2025-05-01 20:47:15</td>\n",
       "      <td>2025-05-01 08:47:15 PM</td>\n",
       "      <td>Thursday</td>\n",
       "      <td>False</td>\n",
       "      <td>Spring</td>\n",
       "      <td>08:47 PM</td>\n",
       "      <td>Evening</td>\n",
       "    </tr>\n",
       "    <tr>\n",
       "      <th>4</th>\n",
       "      <td>5</td>\n",
       "      <td>Hit and Run</td>\n",
       "      <td>202500014429</td>\n",
       "      <td>100</td>\n",
       "      <td>E MARKET ST</td>\n",
       "      <td>CPD</td>\n",
       "      <td>1906</td>\n",
       "      <td>Hannay, Jacob</td>\n",
       "      <td>2025-05-01 19:06:29</td>\n",
       "      <td>2025-05-01 07:06:29 PM</td>\n",
       "      <td>Thursday</td>\n",
       "      <td>False</td>\n",
       "      <td>Spring</td>\n",
       "      <td>07:06 PM</td>\n",
       "      <td>Evening</td>\n",
       "    </tr>\n",
       "  </tbody>\n",
       "</table>\n",
       "</div>"
      ],
      "text/plain": [
       "   RecordID                     Offense    IncidentID BlockNumber  \\\n",
       "0         1     Missing Person-juvenile  202500014450         500   \n",
       "1         2              Assault Simple  202500014442        1500   \n",
       "2         3  Disturbance - Non Domestic  202500014440        1100   \n",
       "3         4         Larceny - All Other  202500014444         200   \n",
       "4         5                 Hit and Run  202500014429         100   \n",
       "\n",
       "       StreetName Agency HourReported  ReportingOfficer                Date  \\\n",
       "0         PARK ST    CPD         2210  Pinkman, Jackson 2025-05-01 22:10:28   \n",
       "1  ANTOINETTE AVE    CPD         2112  Bentz, Benjamin  2025-05-01 21:12:07   \n",
       "2      EMMET ST N    CPD         2105  Abdelgayed, Adam 2025-05-01 21:05:10   \n",
       "3       W MAIN ST    CPD         2047     Rigsby, Lloyd 2025-05-01 20:47:15   \n",
       "4     E MARKET ST    CPD         1906     Hannay, Jacob 2025-05-01 19:06:29   \n",
       "\n",
       "               DateString DayOfWeek  Weekend  Season  HourAMPM TimeOfDay  \n",
       "0  2025-05-01 10:10:28 PM  Thursday    False  Spring  10:10 PM     Night  \n",
       "1  2025-05-01 09:12:07 PM  Thursday    False  Spring  09:12 PM     Night  \n",
       "2  2025-05-01 09:05:10 PM  Thursday    False  Spring  09:05 PM     Night  \n",
       "3  2025-05-01 08:47:15 PM  Thursday    False  Spring  08:47 PM   Evening  \n",
       "4  2025-05-01 07:06:29 PM  Thursday    False  Spring  07:06 PM   Evening  "
      ]
     },
     "execution_count": 7,
     "metadata": {},
     "output_type": "execute_result"
    }
   ],
   "source": [
    "def convert_and_categorize_datereported(df, col='DateReported'):\n",
    "    \"\"\"\n",
    "    Converts an epoch (in milliseconds) date column into a timezone-aware datetime,\n",
    "    converts it to Eastern Time, and then creates columns for day-of-week, weekend flag,\n",
    "    season, 12-hour formatted time, and time-of-day. Keeps both a real datetime column\n",
    "    (Date) and a string representation (DateString).\n",
    "    \"\"\"\n",
    "    import pandas as pd\n",
    "\n",
    "    # Convert the epoch timestamp to a pandas datetime object as UTC, then convert to US/Eastern.\n",
    "    df[\"DateReported_dt\"] = (\n",
    "        pd.to_datetime(df[col], unit=\"ms\", errors=\"coerce\", utc=True)\n",
    "        .dt.tz_convert(\"US/Eastern\")\n",
    "    )\n",
    "    \n",
    "    # Create a true datetime column (remove timezone if you prefer naive datetime)\n",
    "    df[\"Date\"] = df[\"DateReported_dt\"].dt.tz_localize(None)\n",
    "\n",
    "    # Optionally, create a separate string-formatted column\n",
    "    df[\"DateString\"] = df[\"DateReported_dt\"].dt.strftime(\"%Y-%m-%d %I:%M:%S %p\")\n",
    "    \n",
    "    # DayOfWeek\n",
    "    df[\"DayOfWeek\"] = df[\"DateReported_dt\"].dt.day_name()\n",
    "    \n",
    "    # Weekend\n",
    "    df[\"Weekend\"] = df[\"DayOfWeek\"].isin([\"Saturday\", \"Sunday\"])\n",
    "    \n",
    "    # Helper function to determine the season\n",
    "    def get_season(dt):\n",
    "        month = dt.month\n",
    "        day = dt.day\n",
    "        # Approximate Northern Hemisphere season boundaries:\n",
    "        if (month == 12 and day >= 21) or (month < 3) or (month == 3 and day < 20):\n",
    "            return \"Winter\"\n",
    "        elif (month == 3 and day >= 20) or (month < 6) or (month == 6 and day < 21):\n",
    "            return \"Spring\"\n",
    "        elif (month == 6 and day >= 21) or (month < 9) or (month == 9 and day < 22):\n",
    "            return \"Summer\"\n",
    "        else:\n",
    "            return \"Autumn\"\n",
    "    \n",
    "    df[\"Season\"] = df[\"DateReported_dt\"].apply(get_season)\n",
    "    \n",
    "    # 12-hour formatted time (HourAMPM)\n",
    "    df[\"HourAMPM\"] = df[\"DateReported_dt\"].dt.strftime(\"%I:%M %p\")\n",
    "    \n",
    "    # Extract hour (0-23) for time-of-day\n",
    "    df[\"HourValue\"] = df[\"DateReported_dt\"].dt.hour\n",
    "    \n",
    "    def time_of_day(hour):\n",
    "        if pd.isnull(hour):\n",
    "            return None\n",
    "        if 5 <= hour < 12:\n",
    "            return \"Morning\"\n",
    "        elif 12 <= hour < 17:\n",
    "            return \"Afternoon\"\n",
    "        elif 17 <= hour < 21:\n",
    "            return \"Evening\"\n",
    "        else:\n",
    "            return \"Night\"\n",
    "    \n",
    "    df[\"TimeOfDay\"] = df[\"HourValue\"].apply(time_of_day)\n",
    "    \n",
    "    # Drop columns you no longer need\n",
    "    df.drop(columns=[col, \"DateReported_dt\", \"HourValue\"], inplace=True)\n",
    "    \n",
    "    return df\n",
    "\n",
    "# Example usage:\n",
    "df = convert_and_categorize_datereported(df)\n",
    "df.head()\n"
   ]
  },
  {
   "cell_type": "code",
   "execution_count": 8,
   "id": "700e3899",
   "metadata": {
    "execution": {
     "iopub.execute_input": "2025-05-04T01:08:35.270862Z",
     "iopub.status.busy": "2025-05-04T01:08:35.270610Z",
     "iopub.status.idle": "2025-05-04T01:08:35.297428Z",
     "shell.execute_reply": "2025-05-04T01:08:35.296779Z"
    },
    "papermill": {
     "duration": 0.034506,
     "end_time": "2025-05-04T01:08:35.298560",
     "exception": false,
     "start_time": "2025-05-04T01:08:35.264054",
     "status": "completed"
    },
    "tags": []
   },
   "outputs": [
    {
     "name": "stdout",
     "output_type": "stream",
     "text": [
      "<class 'pandas.core.frame.DataFrame'>\n",
      "RangeIndex: 25327 entries, 0 to 25326\n",
      "Data columns (total 15 columns):\n",
      " #   Column            Non-Null Count  Dtype         \n",
      "---  ------            --------------  -----         \n",
      " 0   RecordID          25327 non-null  int64         \n",
      " 1   Offense           25327 non-null  object        \n",
      " 2   IncidentID        25327 non-null  object        \n",
      " 3   BlockNumber       25327 non-null  object        \n",
      " 4   StreetName        25327 non-null  object        \n",
      " 5   Agency            25327 non-null  object        \n",
      " 6   HourReported      25327 non-null  object        \n",
      " 7   ReportingOfficer  25310 non-null  object        \n",
      " 8   Date              25327 non-null  datetime64[ns]\n",
      " 9   DateString        25327 non-null  object        \n",
      " 10  DayOfWeek         25327 non-null  object        \n",
      " 11  Weekend           25327 non-null  bool          \n",
      " 12  Season            25327 non-null  object        \n",
      " 13  HourAMPM          25327 non-null  object        \n",
      " 14  TimeOfDay         25327 non-null  object        \n",
      "dtypes: bool(1), datetime64[ns](1), int64(1), object(12)\n",
      "memory usage: 2.7+ MB\n"
     ]
    }
   ],
   "source": [
    "df.info()"
   ]
  },
  {
   "cell_type": "markdown",
   "id": "3e1a8cdc",
   "metadata": {
    "papermill": {
     "duration": 0.005908,
     "end_time": "2025-05-04T01:08:35.310638",
     "exception": false,
     "start_time": "2025-05-04T01:08:35.304730",
     "status": "completed"
    },
    "tags": []
   },
   "source": [
    "### Coordinates"
   ]
  },
  {
   "cell_type": "code",
   "execution_count": 9,
   "id": "17d06779",
   "metadata": {
    "execution": {
     "iopub.execute_input": "2025-05-04T01:08:35.323698Z",
     "iopub.status.busy": "2025-05-04T01:08:35.323190Z",
     "iopub.status.idle": "2025-05-04T01:08:35.675740Z",
     "shell.execute_reply": "2025-05-04T01:08:35.675030Z"
    },
    "papermill": {
     "duration": 0.360085,
     "end_time": "2025-05-04T01:08:35.676742",
     "exception": false,
     "start_time": "2025-05-04T01:08:35.316657",
     "status": "completed"
    },
    "tags": []
   },
   "outputs": [
    {
     "name": "stdout",
     "output_type": "stream",
     "text": [
      "Loaded geocode cache.\n"
     ]
    },
    {
     "name": "stdout",
     "output_type": "stream",
     "text": [
      "Geocoded 1600 UNIVERSITY AVE AVE, Park Lot: 38.03544249999999, -78.5010266\n"
     ]
    },
    {
     "name": "stdout",
     "output_type": "stream",
     "text": [
      "Geocoded  UNIVERSITY AVENUE RD: 38.0367289, -78.5033829\n",
      "Geocode cache updated and saved.\n"
     ]
    },
    {
     "data": {
      "text/html": [
       "<div>\n",
       "<style scoped>\n",
       "    .dataframe tbody tr th:only-of-type {\n",
       "        vertical-align: middle;\n",
       "    }\n",
       "\n",
       "    .dataframe tbody tr th {\n",
       "        vertical-align: top;\n",
       "    }\n",
       "\n",
       "    .dataframe thead th {\n",
       "        text-align: right;\n",
       "    }\n",
       "</style>\n",
       "<table border=\"1\" class=\"dataframe\">\n",
       "  <thead>\n",
       "    <tr style=\"text-align: right;\">\n",
       "      <th></th>\n",
       "      <th>RecordID</th>\n",
       "      <th>Offense</th>\n",
       "      <th>IncidentID</th>\n",
       "      <th>BlockNumber</th>\n",
       "      <th>StreetName</th>\n",
       "      <th>Agency</th>\n",
       "      <th>HourReported</th>\n",
       "      <th>ReportingOfficer</th>\n",
       "      <th>Date</th>\n",
       "      <th>DateString</th>\n",
       "      <th>DayOfWeek</th>\n",
       "      <th>Weekend</th>\n",
       "      <th>Season</th>\n",
       "      <th>HourAMPM</th>\n",
       "      <th>TimeOfDay</th>\n",
       "      <th>FullStreet</th>\n",
       "      <th>lat</th>\n",
       "      <th>lon</th>\n",
       "    </tr>\n",
       "  </thead>\n",
       "  <tbody>\n",
       "    <tr>\n",
       "      <th>0</th>\n",
       "      <td>1</td>\n",
       "      <td>Missing Person-juvenile</td>\n",
       "      <td>202500014450</td>\n",
       "      <td>500</td>\n",
       "      <td>PARK ST</td>\n",
       "      <td>CPD</td>\n",
       "      <td>2210</td>\n",
       "      <td>Pinkman, Jackson</td>\n",
       "      <td>2025-05-01 22:10:28</td>\n",
       "      <td>2025-05-01 10:10:28 PM</td>\n",
       "      <td>Thursday</td>\n",
       "      <td>False</td>\n",
       "      <td>Spring</td>\n",
       "      <td>10:10 PM</td>\n",
       "      <td>Night</td>\n",
       "      <td>500 PARK ST</td>\n",
       "      <td>38.033037</td>\n",
       "      <td>-78.475772</td>\n",
       "    </tr>\n",
       "    <tr>\n",
       "      <th>1</th>\n",
       "      <td>2</td>\n",
       "      <td>Assault Simple</td>\n",
       "      <td>202500014442</td>\n",
       "      <td>1500</td>\n",
       "      <td>ANTOINETTE AVE</td>\n",
       "      <td>CPD</td>\n",
       "      <td>2112</td>\n",
       "      <td>Bentz, Benjamin</td>\n",
       "      <td>2025-05-01 21:12:07</td>\n",
       "      <td>2025-05-01 09:12:07 PM</td>\n",
       "      <td>Thursday</td>\n",
       "      <td>False</td>\n",
       "      <td>Spring</td>\n",
       "      <td>09:12 PM</td>\n",
       "      <td>Night</td>\n",
       "      <td>1500 ANTOINETTE AVE</td>\n",
       "      <td>38.020606</td>\n",
       "      <td>-78.499495</td>\n",
       "    </tr>\n",
       "    <tr>\n",
       "      <th>2</th>\n",
       "      <td>3</td>\n",
       "      <td>Disturbance - Non Domestic</td>\n",
       "      <td>202500014440</td>\n",
       "      <td>1100</td>\n",
       "      <td>EMMET ST N</td>\n",
       "      <td>CPD</td>\n",
       "      <td>2105</td>\n",
       "      <td>Abdelgayed, Adam</td>\n",
       "      <td>2025-05-01 21:05:10</td>\n",
       "      <td>2025-05-01 09:05:10 PM</td>\n",
       "      <td>Thursday</td>\n",
       "      <td>False</td>\n",
       "      <td>Spring</td>\n",
       "      <td>09:05 PM</td>\n",
       "      <td>Night</td>\n",
       "      <td>1100 EMMET ST N</td>\n",
       "      <td>38.051639</td>\n",
       "      <td>-78.501523</td>\n",
       "    </tr>\n",
       "    <tr>\n",
       "      <th>3</th>\n",
       "      <td>4</td>\n",
       "      <td>Larceny - All Other</td>\n",
       "      <td>202500014444</td>\n",
       "      <td>200</td>\n",
       "      <td>W MAIN ST</td>\n",
       "      <td>CPD</td>\n",
       "      <td>2047</td>\n",
       "      <td>Rigsby, Lloyd</td>\n",
       "      <td>2025-05-01 20:47:15</td>\n",
       "      <td>2025-05-01 08:47:15 PM</td>\n",
       "      <td>Thursday</td>\n",
       "      <td>False</td>\n",
       "      <td>Spring</td>\n",
       "      <td>08:47 PM</td>\n",
       "      <td>Evening</td>\n",
       "      <td>200 W MAIN ST</td>\n",
       "      <td>38.030841</td>\n",
       "      <td>-78.482517</td>\n",
       "    </tr>\n",
       "    <tr>\n",
       "      <th>4</th>\n",
       "      <td>5</td>\n",
       "      <td>Hit and Run</td>\n",
       "      <td>202500014429</td>\n",
       "      <td>100</td>\n",
       "      <td>E MARKET ST</td>\n",
       "      <td>CPD</td>\n",
       "      <td>1906</td>\n",
       "      <td>Hannay, Jacob</td>\n",
       "      <td>2025-05-01 19:06:29</td>\n",
       "      <td>2025-05-01 07:06:29 PM</td>\n",
       "      <td>Thursday</td>\n",
       "      <td>False</td>\n",
       "      <td>Spring</td>\n",
       "      <td>07:06 PM</td>\n",
       "      <td>Evening</td>\n",
       "      <td>100 E MARKET ST</td>\n",
       "      <td>38.031539</td>\n",
       "      <td>-78.481144</td>\n",
       "    </tr>\n",
       "  </tbody>\n",
       "</table>\n",
       "</div>"
      ],
      "text/plain": [
       "   RecordID                     Offense    IncidentID BlockNumber  \\\n",
       "0         1     Missing Person-juvenile  202500014450         500   \n",
       "1         2              Assault Simple  202500014442        1500   \n",
       "2         3  Disturbance - Non Domestic  202500014440        1100   \n",
       "3         4         Larceny - All Other  202500014444         200   \n",
       "4         5                 Hit and Run  202500014429         100   \n",
       "\n",
       "       StreetName Agency HourReported  ReportingOfficer                Date  \\\n",
       "0         PARK ST    CPD         2210  Pinkman, Jackson 2025-05-01 22:10:28   \n",
       "1  ANTOINETTE AVE    CPD         2112  Bentz, Benjamin  2025-05-01 21:12:07   \n",
       "2      EMMET ST N    CPD         2105  Abdelgayed, Adam 2025-05-01 21:05:10   \n",
       "3       W MAIN ST    CPD         2047     Rigsby, Lloyd 2025-05-01 20:47:15   \n",
       "4     E MARKET ST    CPD         1906     Hannay, Jacob 2025-05-01 19:06:29   \n",
       "\n",
       "               DateString DayOfWeek  Weekend  Season  HourAMPM TimeOfDay  \\\n",
       "0  2025-05-01 10:10:28 PM  Thursday    False  Spring  10:10 PM     Night   \n",
       "1  2025-05-01 09:12:07 PM  Thursday    False  Spring  09:12 PM     Night   \n",
       "2  2025-05-01 09:05:10 PM  Thursday    False  Spring  09:05 PM     Night   \n",
       "3  2025-05-01 08:47:15 PM  Thursday    False  Spring  08:47 PM   Evening   \n",
       "4  2025-05-01 07:06:29 PM  Thursday    False  Spring  07:06 PM   Evening   \n",
       "\n",
       "            FullStreet        lat        lon  \n",
       "0          500 PARK ST  38.033037 -78.475772  \n",
       "1  1500 ANTOINETTE AVE  38.020606 -78.499495  \n",
       "2      1100 EMMET ST N  38.051639 -78.501523  \n",
       "3        200 W MAIN ST  38.030841 -78.482517  \n",
       "4      100 E MARKET ST  38.031539 -78.481144  "
      ]
     },
     "execution_count": 9,
     "metadata": {},
     "output_type": "execute_result"
    }
   ],
   "source": [
    "# Combine BlockNumber and StreetName into a full address string\n",
    "df['FullStreet'] = df['BlockNumber'].astype(str) + \" \" + df['StreetName']\n",
    "\n",
    "# --- Step 1: Setup the Google Maps Client and Cache ---\n",
    "gmaps = googlemaps.Client(key=GOOGLE_API_KEY)\n",
    "\n",
    "# Try to load cached geocoding results if available.\n",
    "try:\n",
    "    with open(\"geocode_cache_google.pkl\", \"rb\") as f:\n",
    "        street_coords = pickle.load(f)\n",
    "    print(\"Loaded geocode cache.\")\n",
    "except FileNotFoundError:\n",
    "    street_coords = {}\n",
    "    print(\"No cache found; starting fresh.\")\n",
    "\n",
    "def geocode_address(address):\n",
    "    try:\n",
    "        # Append city and state to help geocoding\n",
    "        result = gmaps.geocode(f\"{address}, Charlottesville, VA\")\n",
    "        if result:\n",
    "            lat = result[0]['geometry']['location']['lat']\n",
    "            lon = result[0]['geometry']['location']['lng']\n",
    "            return lat, lon\n",
    "    except Exception as e:\n",
    "        print(f\"Error geocoding {address}: {e}\")\n",
    "    return None, None\n",
    "\n",
    "# --- Step 2: Geocode Only New Addresses ---\n",
    "unique_addresses = df['FullStreet'].unique()\n",
    "for address in unique_addresses:\n",
    "    if address not in street_coords:\n",
    "        lat, lon = geocode_address(address)\n",
    "        street_coords[address] = (lat, lon)\n",
    "        print(f\"Geocoded {address}: {lat}, {lon}\")\n",
    "\n",
    "# Save the updated cache to disk.\n",
    "with open(\"geocode_cache_google.pkl\", \"wb\") as f:\n",
    "    pickle.dump(street_coords, f)\n",
    "    print(\"Geocode cache updated and saved.\")\n",
    "\n",
    "# --- Step 3: Map Coordinates Back to DataFrame ---\n",
    "df['lat'] = df['FullStreet'].map(lambda s: street_coords.get(s, (None, None))[0])\n",
    "df['lon'] = df['FullStreet'].map(lambda s: street_coords.get(s, (None, None))[1])\n",
    "\n",
    "df.head()"
   ]
  },
  {
   "cell_type": "markdown",
   "id": "db11af46",
   "metadata": {
    "papermill": {
     "duration": 0.006301,
     "end_time": "2025-05-04T01:08:35.689825",
     "exception": false,
     "start_time": "2025-05-04T01:08:35.683524",
     "status": "completed"
    },
    "tags": []
   },
   "source": [
    "### Neighborhood"
   ]
  },
  {
   "cell_type": "code",
   "execution_count": 10,
   "id": "53aa6e1c",
   "metadata": {
    "execution": {
     "iopub.execute_input": "2025-05-04T01:08:35.703787Z",
     "iopub.status.busy": "2025-05-04T01:08:35.703226Z",
     "iopub.status.idle": "2025-05-04T01:08:35.965704Z",
     "shell.execute_reply": "2025-05-04T01:08:35.965068Z"
    },
    "papermill": {
     "duration": 0.270548,
     "end_time": "2025-05-04T01:08:35.966729",
     "exception": false,
     "start_time": "2025-05-04T01:08:35.696181",
     "status": "completed"
    },
    "tags": []
   },
   "outputs": [
    {
     "name": "stdout",
     "output_type": "stream",
     "text": [
      "Loaded neighborhood cache.\n"
     ]
    },
    {
     "data": {
      "text/html": [
       "<div>\n",
       "<style scoped>\n",
       "    .dataframe tbody tr th:only-of-type {\n",
       "        vertical-align: middle;\n",
       "    }\n",
       "\n",
       "    .dataframe tbody tr th {\n",
       "        vertical-align: top;\n",
       "    }\n",
       "\n",
       "    .dataframe thead th {\n",
       "        text-align: right;\n",
       "    }\n",
       "</style>\n",
       "<table border=\"1\" class=\"dataframe\">\n",
       "  <thead>\n",
       "    <tr style=\"text-align: right;\">\n",
       "      <th></th>\n",
       "      <th>RecordID</th>\n",
       "      <th>Offense</th>\n",
       "      <th>IncidentID</th>\n",
       "      <th>BlockNumber</th>\n",
       "      <th>StreetName</th>\n",
       "      <th>Agency</th>\n",
       "      <th>HourReported</th>\n",
       "      <th>ReportingOfficer</th>\n",
       "      <th>Date</th>\n",
       "      <th>DateString</th>\n",
       "      <th>DayOfWeek</th>\n",
       "      <th>Weekend</th>\n",
       "      <th>Season</th>\n",
       "      <th>HourAMPM</th>\n",
       "      <th>TimeOfDay</th>\n",
       "      <th>FullStreet</th>\n",
       "      <th>lat</th>\n",
       "      <th>lon</th>\n",
       "      <th>neighborhood</th>\n",
       "    </tr>\n",
       "  </thead>\n",
       "  <tbody>\n",
       "    <tr>\n",
       "      <th>0</th>\n",
       "      <td>1</td>\n",
       "      <td>Missing Person-juvenile</td>\n",
       "      <td>202500014450</td>\n",
       "      <td>500</td>\n",
       "      <td>PARK ST</td>\n",
       "      <td>CPD</td>\n",
       "      <td>2210</td>\n",
       "      <td>Pinkman, Jackson</td>\n",
       "      <td>2025-05-01 22:10:28</td>\n",
       "      <td>2025-05-01 10:10:28 PM</td>\n",
       "      <td>Thursday</td>\n",
       "      <td>False</td>\n",
       "      <td>Spring</td>\n",
       "      <td>10:10 PM</td>\n",
       "      <td>Night</td>\n",
       "      <td>500 PARK ST</td>\n",
       "      <td>38.033037</td>\n",
       "      <td>-78.475772</td>\n",
       "      <td>North Downtown</td>\n",
       "    </tr>\n",
       "    <tr>\n",
       "      <th>1</th>\n",
       "      <td>2</td>\n",
       "      <td>Assault Simple</td>\n",
       "      <td>202500014442</td>\n",
       "      <td>1500</td>\n",
       "      <td>ANTOINETTE AVE</td>\n",
       "      <td>CPD</td>\n",
       "      <td>2112</td>\n",
       "      <td>Bentz, Benjamin</td>\n",
       "      <td>2025-05-01 21:12:07</td>\n",
       "      <td>2025-05-01 09:12:07 PM</td>\n",
       "      <td>Thursday</td>\n",
       "      <td>False</td>\n",
       "      <td>Spring</td>\n",
       "      <td>09:12 PM</td>\n",
       "      <td>Night</td>\n",
       "      <td>1500 ANTOINETTE AVE</td>\n",
       "      <td>38.020606</td>\n",
       "      <td>-78.499495</td>\n",
       "      <td>Johnson Village</td>\n",
       "    </tr>\n",
       "    <tr>\n",
       "      <th>2</th>\n",
       "      <td>3</td>\n",
       "      <td>Disturbance - Non Domestic</td>\n",
       "      <td>202500014440</td>\n",
       "      <td>1100</td>\n",
       "      <td>EMMET ST N</td>\n",
       "      <td>CPD</td>\n",
       "      <td>2105</td>\n",
       "      <td>Abdelgayed, Adam</td>\n",
       "      <td>2025-05-01 21:05:10</td>\n",
       "      <td>2025-05-01 09:05:10 PM</td>\n",
       "      <td>Thursday</td>\n",
       "      <td>False</td>\n",
       "      <td>Spring</td>\n",
       "      <td>09:05 PM</td>\n",
       "      <td>Night</td>\n",
       "      <td>1100 EMMET ST N</td>\n",
       "      <td>38.051639</td>\n",
       "      <td>-78.501523</td>\n",
       "      <td>Barracks Road</td>\n",
       "    </tr>\n",
       "    <tr>\n",
       "      <th>3</th>\n",
       "      <td>4</td>\n",
       "      <td>Larceny - All Other</td>\n",
       "      <td>202500014444</td>\n",
       "      <td>200</td>\n",
       "      <td>W MAIN ST</td>\n",
       "      <td>CPD</td>\n",
       "      <td>2047</td>\n",
       "      <td>Rigsby, Lloyd</td>\n",
       "      <td>2025-05-01 20:47:15</td>\n",
       "      <td>2025-05-01 08:47:15 PM</td>\n",
       "      <td>Thursday</td>\n",
       "      <td>False</td>\n",
       "      <td>Spring</td>\n",
       "      <td>08:47 PM</td>\n",
       "      <td>Evening</td>\n",
       "      <td>200 W MAIN ST</td>\n",
       "      <td>38.030841</td>\n",
       "      <td>-78.482517</td>\n",
       "      <td>Downtown Mall</td>\n",
       "    </tr>\n",
       "    <tr>\n",
       "      <th>4</th>\n",
       "      <td>5</td>\n",
       "      <td>Hit and Run</td>\n",
       "      <td>202500014429</td>\n",
       "      <td>100</td>\n",
       "      <td>E MARKET ST</td>\n",
       "      <td>CPD</td>\n",
       "      <td>1906</td>\n",
       "      <td>Hannay, Jacob</td>\n",
       "      <td>2025-05-01 19:06:29</td>\n",
       "      <td>2025-05-01 07:06:29 PM</td>\n",
       "      <td>Thursday</td>\n",
       "      <td>False</td>\n",
       "      <td>Spring</td>\n",
       "      <td>07:06 PM</td>\n",
       "      <td>Evening</td>\n",
       "      <td>100 E MARKET ST</td>\n",
       "      <td>38.031539</td>\n",
       "      <td>-78.481144</td>\n",
       "      <td>Downtown Mall</td>\n",
       "    </tr>\n",
       "  </tbody>\n",
       "</table>\n",
       "</div>"
      ],
      "text/plain": [
       "   RecordID                     Offense    IncidentID BlockNumber  \\\n",
       "0         1     Missing Person-juvenile  202500014450         500   \n",
       "1         2              Assault Simple  202500014442        1500   \n",
       "2         3  Disturbance - Non Domestic  202500014440        1100   \n",
       "3         4         Larceny - All Other  202500014444         200   \n",
       "4         5                 Hit and Run  202500014429         100   \n",
       "\n",
       "       StreetName Agency HourReported  ReportingOfficer                Date  \\\n",
       "0         PARK ST    CPD         2210  Pinkman, Jackson 2025-05-01 22:10:28   \n",
       "1  ANTOINETTE AVE    CPD         2112  Bentz, Benjamin  2025-05-01 21:12:07   \n",
       "2      EMMET ST N    CPD         2105  Abdelgayed, Adam 2025-05-01 21:05:10   \n",
       "3       W MAIN ST    CPD         2047     Rigsby, Lloyd 2025-05-01 20:47:15   \n",
       "4     E MARKET ST    CPD         1906     Hannay, Jacob 2025-05-01 19:06:29   \n",
       "\n",
       "               DateString DayOfWeek  Weekend  Season  HourAMPM TimeOfDay  \\\n",
       "0  2025-05-01 10:10:28 PM  Thursday    False  Spring  10:10 PM     Night   \n",
       "1  2025-05-01 09:12:07 PM  Thursday    False  Spring  09:12 PM     Night   \n",
       "2  2025-05-01 09:05:10 PM  Thursday    False  Spring  09:05 PM     Night   \n",
       "3  2025-05-01 08:47:15 PM  Thursday    False  Spring  08:47 PM   Evening   \n",
       "4  2025-05-01 07:06:29 PM  Thursday    False  Spring  07:06 PM   Evening   \n",
       "\n",
       "            FullStreet        lat        lon     neighborhood  \n",
       "0          500 PARK ST  38.033037 -78.475772   North Downtown  \n",
       "1  1500 ANTOINETTE AVE  38.020606 -78.499495  Johnson Village  \n",
       "2      1100 EMMET ST N  38.051639 -78.501523    Barracks Road  \n",
       "3        200 W MAIN ST  38.030841 -78.482517    Downtown Mall  \n",
       "4      100 E MARKET ST  38.031539 -78.481144    Downtown Mall  "
      ]
     },
     "execution_count": 10,
     "metadata": {},
     "output_type": "execute_result"
    }
   ],
   "source": [
    "# Initialize the Google Maps client.\n",
    "gmaps = googlemaps.Client(key=GOOGLE_API_KEY)\n",
    "\n",
    "# Try to load a persistent neighborhood cache if available.\n",
    "try:\n",
    "    with open(\"neighborhood_cache.pkl\", \"rb\") as f:\n",
    "        neighborhood_cache = pickle.load(f)\n",
    "    print(\"Loaded neighborhood cache.\")\n",
    "except FileNotFoundError:\n",
    "    neighborhood_cache = {}\n",
    "    print(\"No neighborhood cache found; starting fresh.\")\n",
    "\n",
    "def get_neighborhood(lat, lon):\n",
    "    \"\"\"\n",
    "    Reverse geocodes a latitude and longitude to retrieve the neighborhood.\n",
    "    Caches results to speed up subsequent lookups.\n",
    "    \"\"\"\n",
    "    key = (lat, lon)\n",
    "    if key in neighborhood_cache:\n",
    "        return neighborhood_cache[key]\n",
    "    \n",
    "    try:\n",
    "        result = gmaps.reverse_geocode((lat, lon))\n",
    "        if result:\n",
    "            # Look for the 'neighborhood' component in the first result.\n",
    "            for component in result[0]['address_components']:\n",
    "                if 'neighborhood' in component['types']:\n",
    "                    neighborhood = component['long_name']\n",
    "                    neighborhood_cache[key] = neighborhood\n",
    "                    return neighborhood\n",
    "            # If no neighborhood is found, return \"N/A\"\n",
    "            neighborhood_cache[key] = \"N/A\"\n",
    "            return \"N/A\"\n",
    "    except Exception as e:\n",
    "        print(f\"Error getting neighborhood for {lat}, {lon}: {e}\")\n",
    "        return \"N/A\"\n",
    "    \n",
    "    # Pause to respect usage limits.\n",
    "    time.sleep(1)\n",
    "\n",
    "# Example usage: Apply to your DataFrame 'df' that already has 'lat' and 'lon' columns.\n",
    "df['neighborhood'] = df.apply(lambda row: get_neighborhood(row['lat'], row['lon']), axis=1)\n",
    "\n",
    "# Save the updated neighborhood cache.\n",
    "with open(\"neighborhood_cache.pkl\", \"wb\") as f:\n",
    "    pickle.dump(neighborhood_cache, f)\n",
    "\n",
    "df.head()\n"
   ]
  },
  {
   "cell_type": "markdown",
   "id": "4c9498ac",
   "metadata": {
    "papermill": {
     "duration": 0.006541,
     "end_time": "2025-05-04T01:08:35.980229",
     "exception": false,
     "start_time": "2025-05-04T01:08:35.973688",
     "status": "completed"
    },
    "tags": []
   },
   "source": [
    "### Zip"
   ]
  },
  {
   "cell_type": "code",
   "execution_count": 11,
   "id": "49a634a3",
   "metadata": {
    "execution": {
     "iopub.execute_input": "2025-05-04T01:08:35.994324Z",
     "iopub.status.busy": "2025-05-04T01:08:35.994051Z",
     "iopub.status.idle": "2025-05-04T01:08:36.236778Z",
     "shell.execute_reply": "2025-05-04T01:08:36.236040Z"
    },
    "papermill": {
     "duration": 0.25115,
     "end_time": "2025-05-04T01:08:36.237942",
     "exception": false,
     "start_time": "2025-05-04T01:08:35.986792",
     "status": "completed"
    },
    "tags": []
   },
   "outputs": [
    {
     "name": "stdout",
     "output_type": "stream",
     "text": [
      "Loaded zip cache.\n"
     ]
    },
    {
     "data": {
      "text/html": [
       "<div>\n",
       "<style scoped>\n",
       "    .dataframe tbody tr th:only-of-type {\n",
       "        vertical-align: middle;\n",
       "    }\n",
       "\n",
       "    .dataframe tbody tr th {\n",
       "        vertical-align: top;\n",
       "    }\n",
       "\n",
       "    .dataframe thead th {\n",
       "        text-align: right;\n",
       "    }\n",
       "</style>\n",
       "<table border=\"1\" class=\"dataframe\">\n",
       "  <thead>\n",
       "    <tr style=\"text-align: right;\">\n",
       "      <th></th>\n",
       "      <th>RecordID</th>\n",
       "      <th>Offense</th>\n",
       "      <th>IncidentID</th>\n",
       "      <th>BlockNumber</th>\n",
       "      <th>StreetName</th>\n",
       "      <th>Agency</th>\n",
       "      <th>HourReported</th>\n",
       "      <th>ReportingOfficer</th>\n",
       "      <th>Date</th>\n",
       "      <th>DateString</th>\n",
       "      <th>DayOfWeek</th>\n",
       "      <th>Weekend</th>\n",
       "      <th>Season</th>\n",
       "      <th>HourAMPM</th>\n",
       "      <th>TimeOfDay</th>\n",
       "      <th>FullStreet</th>\n",
       "      <th>lat</th>\n",
       "      <th>lon</th>\n",
       "      <th>neighborhood</th>\n",
       "      <th>zip</th>\n",
       "    </tr>\n",
       "  </thead>\n",
       "  <tbody>\n",
       "    <tr>\n",
       "      <th>0</th>\n",
       "      <td>1</td>\n",
       "      <td>Missing Person-juvenile</td>\n",
       "      <td>202500014450</td>\n",
       "      <td>500</td>\n",
       "      <td>PARK ST</td>\n",
       "      <td>CPD</td>\n",
       "      <td>2210</td>\n",
       "      <td>Pinkman, Jackson</td>\n",
       "      <td>2025-05-01 22:10:28</td>\n",
       "      <td>2025-05-01 10:10:28 PM</td>\n",
       "      <td>Thursday</td>\n",
       "      <td>False</td>\n",
       "      <td>Spring</td>\n",
       "      <td>10:10 PM</td>\n",
       "      <td>Night</td>\n",
       "      <td>500 PARK ST</td>\n",
       "      <td>38.033037</td>\n",
       "      <td>-78.475772</td>\n",
       "      <td>North Downtown</td>\n",
       "      <td>22902</td>\n",
       "    </tr>\n",
       "    <tr>\n",
       "      <th>1</th>\n",
       "      <td>2</td>\n",
       "      <td>Assault Simple</td>\n",
       "      <td>202500014442</td>\n",
       "      <td>1500</td>\n",
       "      <td>ANTOINETTE AVE</td>\n",
       "      <td>CPD</td>\n",
       "      <td>2112</td>\n",
       "      <td>Bentz, Benjamin</td>\n",
       "      <td>2025-05-01 21:12:07</td>\n",
       "      <td>2025-05-01 09:12:07 PM</td>\n",
       "      <td>Thursday</td>\n",
       "      <td>False</td>\n",
       "      <td>Spring</td>\n",
       "      <td>09:12 PM</td>\n",
       "      <td>Night</td>\n",
       "      <td>1500 ANTOINETTE AVE</td>\n",
       "      <td>38.020606</td>\n",
       "      <td>-78.499495</td>\n",
       "      <td>Johnson Village</td>\n",
       "      <td>22903</td>\n",
       "    </tr>\n",
       "    <tr>\n",
       "      <th>2</th>\n",
       "      <td>3</td>\n",
       "      <td>Disturbance - Non Domestic</td>\n",
       "      <td>202500014440</td>\n",
       "      <td>1100</td>\n",
       "      <td>EMMET ST N</td>\n",
       "      <td>CPD</td>\n",
       "      <td>2105</td>\n",
       "      <td>Abdelgayed, Adam</td>\n",
       "      <td>2025-05-01 21:05:10</td>\n",
       "      <td>2025-05-01 09:05:10 PM</td>\n",
       "      <td>Thursday</td>\n",
       "      <td>False</td>\n",
       "      <td>Spring</td>\n",
       "      <td>09:05 PM</td>\n",
       "      <td>Night</td>\n",
       "      <td>1100 EMMET ST N</td>\n",
       "      <td>38.051639</td>\n",
       "      <td>-78.501523</td>\n",
       "      <td>Barracks Road</td>\n",
       "      <td>22901</td>\n",
       "    </tr>\n",
       "    <tr>\n",
       "      <th>3</th>\n",
       "      <td>4</td>\n",
       "      <td>Larceny - All Other</td>\n",
       "      <td>202500014444</td>\n",
       "      <td>200</td>\n",
       "      <td>W MAIN ST</td>\n",
       "      <td>CPD</td>\n",
       "      <td>2047</td>\n",
       "      <td>Rigsby, Lloyd</td>\n",
       "      <td>2025-05-01 20:47:15</td>\n",
       "      <td>2025-05-01 08:47:15 PM</td>\n",
       "      <td>Thursday</td>\n",
       "      <td>False</td>\n",
       "      <td>Spring</td>\n",
       "      <td>08:47 PM</td>\n",
       "      <td>Evening</td>\n",
       "      <td>200 W MAIN ST</td>\n",
       "      <td>38.030841</td>\n",
       "      <td>-78.482517</td>\n",
       "      <td>Downtown Mall</td>\n",
       "      <td>22902</td>\n",
       "    </tr>\n",
       "    <tr>\n",
       "      <th>4</th>\n",
       "      <td>5</td>\n",
       "      <td>Hit and Run</td>\n",
       "      <td>202500014429</td>\n",
       "      <td>100</td>\n",
       "      <td>E MARKET ST</td>\n",
       "      <td>CPD</td>\n",
       "      <td>1906</td>\n",
       "      <td>Hannay, Jacob</td>\n",
       "      <td>2025-05-01 19:06:29</td>\n",
       "      <td>2025-05-01 07:06:29 PM</td>\n",
       "      <td>Thursday</td>\n",
       "      <td>False</td>\n",
       "      <td>Spring</td>\n",
       "      <td>07:06 PM</td>\n",
       "      <td>Evening</td>\n",
       "      <td>100 E MARKET ST</td>\n",
       "      <td>38.031539</td>\n",
       "      <td>-78.481144</td>\n",
       "      <td>Downtown Mall</td>\n",
       "      <td>22902</td>\n",
       "    </tr>\n",
       "  </tbody>\n",
       "</table>\n",
       "</div>"
      ],
      "text/plain": [
       "   RecordID                     Offense    IncidentID BlockNumber  \\\n",
       "0         1     Missing Person-juvenile  202500014450         500   \n",
       "1         2              Assault Simple  202500014442        1500   \n",
       "2         3  Disturbance - Non Domestic  202500014440        1100   \n",
       "3         4         Larceny - All Other  202500014444         200   \n",
       "4         5                 Hit and Run  202500014429         100   \n",
       "\n",
       "       StreetName Agency HourReported  ReportingOfficer                Date  \\\n",
       "0         PARK ST    CPD         2210  Pinkman, Jackson 2025-05-01 22:10:28   \n",
       "1  ANTOINETTE AVE    CPD         2112  Bentz, Benjamin  2025-05-01 21:12:07   \n",
       "2      EMMET ST N    CPD         2105  Abdelgayed, Adam 2025-05-01 21:05:10   \n",
       "3       W MAIN ST    CPD         2047     Rigsby, Lloyd 2025-05-01 20:47:15   \n",
       "4     E MARKET ST    CPD         1906     Hannay, Jacob 2025-05-01 19:06:29   \n",
       "\n",
       "               DateString DayOfWeek  Weekend  Season  HourAMPM TimeOfDay  \\\n",
       "0  2025-05-01 10:10:28 PM  Thursday    False  Spring  10:10 PM     Night   \n",
       "1  2025-05-01 09:12:07 PM  Thursday    False  Spring  09:12 PM     Night   \n",
       "2  2025-05-01 09:05:10 PM  Thursday    False  Spring  09:05 PM     Night   \n",
       "3  2025-05-01 08:47:15 PM  Thursday    False  Spring  08:47 PM   Evening   \n",
       "4  2025-05-01 07:06:29 PM  Thursday    False  Spring  07:06 PM   Evening   \n",
       "\n",
       "            FullStreet        lat        lon     neighborhood    zip  \n",
       "0          500 PARK ST  38.033037 -78.475772   North Downtown  22902  \n",
       "1  1500 ANTOINETTE AVE  38.020606 -78.499495  Johnson Village  22903  \n",
       "2      1100 EMMET ST N  38.051639 -78.501523    Barracks Road  22901  \n",
       "3        200 W MAIN ST  38.030841 -78.482517    Downtown Mall  22902  \n",
       "4      100 E MARKET ST  38.031539 -78.481144    Downtown Mall  22902  "
      ]
     },
     "execution_count": 11,
     "metadata": {},
     "output_type": "execute_result"
    }
   ],
   "source": [
    "# Initialize the geocoder.\n",
    "geolocator = Nominatim(user_agent=\"zip_lookup\")\n",
    "\n",
    "# Try to load a persistent ZIP cache if available.\n",
    "try:\n",
    "    with open(\"zip_cache.pkl\", \"rb\") as f:\n",
    "        zip_cache = pickle.load(f)\n",
    "    print(\"Loaded zip cache.\")\n",
    "except FileNotFoundError:\n",
    "    zip_cache = {}\n",
    "    print(\"No zip cache found; starting fresh.\")\n",
    "\n",
    "def get_zip(lat, lon):\n",
    "    \"\"\"\n",
    "    Reverse geocodes a latitude and longitude to retrieve the ZIP code.\n",
    "    Caches results to speed up subsequent lookups.\n",
    "    \"\"\"\n",
    "    key = (lat, lon)\n",
    "    if key in zip_cache:\n",
    "        return zip_cache[key]\n",
    "    \n",
    "    try:\n",
    "        location = geolocator.reverse((lat, lon), exactly_one=True, timeout=10)\n",
    "        address = location.raw.get('address', {})\n",
    "        postal_code = address.get('postcode', \"N/A\")\n",
    "    except Exception as e:\n",
    "        print(f\"Error getting ZIP for {lat}, {lon}: {e}\")\n",
    "        postal_code = \"N/A\"\n",
    "    \n",
    "    zip_cache[key] = postal_code\n",
    "    # Pause to respect the usage policy.\n",
    "    time.sleep(1)\n",
    "    return postal_code\n",
    "\n",
    "# Apply the function to each row in the DataFrame.\n",
    "df['zip'] = df.apply(lambda row: get_zip(row['lat'], row['lon']), axis=1)\n",
    "\n",
    "# Save the updated ZIP cache.\n",
    "with open(\"zip_cache.pkl\", \"wb\") as f:\n",
    "    pickle.dump(zip_cache, f)\n",
    "\n",
    "df.head()\n"
   ]
  },
  {
   "cell_type": "code",
   "execution_count": 12,
   "id": "848fdeae",
   "metadata": {
    "execution": {
     "iopub.execute_input": "2025-05-04T01:08:36.253070Z",
     "iopub.status.busy": "2025-05-04T01:08:36.252690Z",
     "iopub.status.idle": "2025-05-04T01:08:36.282920Z",
     "shell.execute_reply": "2025-05-04T01:08:36.282219Z"
    },
    "papermill": {
     "duration": 0.038831,
     "end_time": "2025-05-04T01:08:36.283987",
     "exception": false,
     "start_time": "2025-05-04T01:08:36.245156",
     "status": "completed"
    },
    "tags": []
   },
   "outputs": [
    {
     "name": "stdout",
     "output_type": "stream",
     "text": [
      "                  MissingCount  MissingPercentage\n",
      "RecordID                     0               0.00\n",
      "Offense                      0               0.00\n",
      "IncidentID                   0               0.00\n",
      "BlockNumber                  0               0.00\n",
      "StreetName                   0               0.00\n",
      "Agency                       0               0.00\n",
      "HourReported                 0               0.00\n",
      "ReportingOfficer            17               0.07\n",
      "Date                         0               0.00\n",
      "DateString                   0               0.00\n",
      "DayOfWeek                    0               0.00\n",
      "Weekend                      0               0.00\n",
      "Season                       0               0.00\n",
      "HourAMPM                     0               0.00\n",
      "TimeOfDay                    0               0.00\n",
      "FullStreet                   0               0.00\n",
      "lat                          0               0.00\n",
      "lon                          0               0.00\n",
      "neighborhood                 0               0.00\n",
      "zip                          0               0.00\n"
     ]
    }
   ],
   "source": [
    "missing_info = missing_percentage(df)\n",
    "print(missing_info)\n"
   ]
  },
  {
   "cell_type": "code",
   "execution_count": 13,
   "id": "c4c613e3",
   "metadata": {
    "execution": {
     "iopub.execute_input": "2025-05-04T01:08:36.299481Z",
     "iopub.status.busy": "2025-05-04T01:08:36.298997Z",
     "iopub.status.idle": "2025-05-04T01:08:36.329705Z",
     "shell.execute_reply": "2025-05-04T01:08:36.329024Z"
    },
    "papermill": {
     "duration": 0.039559,
     "end_time": "2025-05-04T01:08:36.330885",
     "exception": false,
     "start_time": "2025-05-04T01:08:36.291326",
     "status": "completed"
    },
    "tags": []
   },
   "outputs": [
    {
     "name": "stdout",
     "output_type": "stream",
     "text": [
      "<class 'pandas.core.frame.DataFrame'>\n",
      "RangeIndex: 25327 entries, 0 to 25326\n",
      "Data columns (total 20 columns):\n",
      " #   Column            Non-Null Count  Dtype         \n",
      "---  ------            --------------  -----         \n",
      " 0   RecordID          25327 non-null  int64         \n",
      " 1   Offense           25327 non-null  object        \n",
      " 2   IncidentID        25327 non-null  object        \n",
      " 3   BlockNumber       25327 non-null  object        \n",
      " 4   StreetName        25327 non-null  object        \n",
      " 5   Agency            25327 non-null  object        \n",
      " 6   HourReported      25327 non-null  object        \n",
      " 7   ReportingOfficer  25310 non-null  object        \n",
      " 8   Date              25327 non-null  datetime64[ns]\n",
      " 9   DateString        25327 non-null  object        \n",
      " 10  DayOfWeek         25327 non-null  object        \n",
      " 11  Weekend           25327 non-null  bool          \n",
      " 12  Season            25327 non-null  object        \n",
      " 13  HourAMPM          25327 non-null  object        \n",
      " 14  TimeOfDay         25327 non-null  object        \n",
      " 15  FullStreet        25327 non-null  object        \n",
      " 16  lat               25327 non-null  float64       \n",
      " 17  lon               25327 non-null  float64       \n",
      " 18  neighborhood      25327 non-null  object        \n",
      " 19  zip               25327 non-null  object        \n",
      "dtypes: bool(1), datetime64[ns](1), float64(2), int64(1), object(15)\n",
      "memory usage: 3.7+ MB\n"
     ]
    }
   ],
   "source": [
    "df.info()"
   ]
  },
  {
   "cell_type": "code",
   "execution_count": 14,
   "id": "e9ed6d94",
   "metadata": {
    "execution": {
     "iopub.execute_input": "2025-05-04T01:08:36.346092Z",
     "iopub.status.busy": "2025-05-04T01:08:36.345842Z",
     "iopub.status.idle": "2025-05-04T01:08:36.393145Z",
     "shell.execute_reply": "2025-05-04T01:08:36.392420Z"
    },
    "papermill": {
     "duration": 0.056089,
     "end_time": "2025-05-04T01:08:36.394212",
     "exception": false,
     "start_time": "2025-05-04T01:08:36.338123",
     "status": "completed"
    },
    "tags": []
   },
   "outputs": [
    {
     "data": {
      "text/html": [
       "<div>\n",
       "<style scoped>\n",
       "    .dataframe tbody tr th:only-of-type {\n",
       "        vertical-align: middle;\n",
       "    }\n",
       "\n",
       "    .dataframe tbody tr th {\n",
       "        vertical-align: top;\n",
       "    }\n",
       "\n",
       "    .dataframe thead th {\n",
       "        text-align: right;\n",
       "    }\n",
       "</style>\n",
       "<table border=\"1\" class=\"dataframe\">\n",
       "  <thead>\n",
       "    <tr style=\"text-align: right;\">\n",
       "      <th></th>\n",
       "      <th>RecordID</th>\n",
       "      <th>Offense</th>\n",
       "      <th>IncidentID</th>\n",
       "      <th>Agency</th>\n",
       "      <th>ReportingOfficer</th>\n",
       "      <th>Date</th>\n",
       "      <th>DayOfWeek</th>\n",
       "      <th>Weekend</th>\n",
       "      <th>Season</th>\n",
       "      <th>TimeOfDay</th>\n",
       "      <th>FullStreet</th>\n",
       "      <th>lat</th>\n",
       "      <th>lon</th>\n",
       "      <th>neighborhood</th>\n",
       "      <th>zip</th>\n",
       "    </tr>\n",
       "  </thead>\n",
       "  <tbody>\n",
       "    <tr>\n",
       "      <th>0</th>\n",
       "      <td>1</td>\n",
       "      <td>Missing Person-juvenile</td>\n",
       "      <td>202500014450</td>\n",
       "      <td>CPD</td>\n",
       "      <td>Pinkman, Jackson</td>\n",
       "      <td>2025-05-01 22:10:28</td>\n",
       "      <td>Thursday</td>\n",
       "      <td>False</td>\n",
       "      <td>Spring</td>\n",
       "      <td>Night</td>\n",
       "      <td>500 PARK ST</td>\n",
       "      <td>38.033037</td>\n",
       "      <td>-78.475772</td>\n",
       "      <td>North Downtown</td>\n",
       "      <td>22902</td>\n",
       "    </tr>\n",
       "    <tr>\n",
       "      <th>1</th>\n",
       "      <td>2</td>\n",
       "      <td>Assault Simple</td>\n",
       "      <td>202500014442</td>\n",
       "      <td>CPD</td>\n",
       "      <td>Bentz, Benjamin</td>\n",
       "      <td>2025-05-01 21:12:07</td>\n",
       "      <td>Thursday</td>\n",
       "      <td>False</td>\n",
       "      <td>Spring</td>\n",
       "      <td>Night</td>\n",
       "      <td>1500 ANTOINETTE AVE</td>\n",
       "      <td>38.020606</td>\n",
       "      <td>-78.499495</td>\n",
       "      <td>Johnson Village</td>\n",
       "      <td>22903</td>\n",
       "    </tr>\n",
       "    <tr>\n",
       "      <th>2</th>\n",
       "      <td>3</td>\n",
       "      <td>Disturbance - Non Domestic</td>\n",
       "      <td>202500014440</td>\n",
       "      <td>CPD</td>\n",
       "      <td>Abdelgayed, Adam</td>\n",
       "      <td>2025-05-01 21:05:10</td>\n",
       "      <td>Thursday</td>\n",
       "      <td>False</td>\n",
       "      <td>Spring</td>\n",
       "      <td>Night</td>\n",
       "      <td>1100 EMMET ST N</td>\n",
       "      <td>38.051639</td>\n",
       "      <td>-78.501523</td>\n",
       "      <td>Barracks Road</td>\n",
       "      <td>22901</td>\n",
       "    </tr>\n",
       "    <tr>\n",
       "      <th>3</th>\n",
       "      <td>4</td>\n",
       "      <td>Larceny - All Other</td>\n",
       "      <td>202500014444</td>\n",
       "      <td>CPD</td>\n",
       "      <td>Rigsby, Lloyd</td>\n",
       "      <td>2025-05-01 20:47:15</td>\n",
       "      <td>Thursday</td>\n",
       "      <td>False</td>\n",
       "      <td>Spring</td>\n",
       "      <td>Evening</td>\n",
       "      <td>200 W MAIN ST</td>\n",
       "      <td>38.030841</td>\n",
       "      <td>-78.482517</td>\n",
       "      <td>Downtown Mall</td>\n",
       "      <td>22902</td>\n",
       "    </tr>\n",
       "    <tr>\n",
       "      <th>4</th>\n",
       "      <td>5</td>\n",
       "      <td>Hit and Run</td>\n",
       "      <td>202500014429</td>\n",
       "      <td>CPD</td>\n",
       "      <td>Hannay, Jacob</td>\n",
       "      <td>2025-05-01 19:06:29</td>\n",
       "      <td>Thursday</td>\n",
       "      <td>False</td>\n",
       "      <td>Spring</td>\n",
       "      <td>Evening</td>\n",
       "      <td>100 E MARKET ST</td>\n",
       "      <td>38.031539</td>\n",
       "      <td>-78.481144</td>\n",
       "      <td>Downtown Mall</td>\n",
       "      <td>22902</td>\n",
       "    </tr>\n",
       "  </tbody>\n",
       "</table>\n",
       "</div>"
      ],
      "text/plain": [
       "   RecordID                     Offense    IncidentID Agency  \\\n",
       "0         1     Missing Person-juvenile  202500014450    CPD   \n",
       "1         2              Assault Simple  202500014442    CPD   \n",
       "2         3  Disturbance - Non Domestic  202500014440    CPD   \n",
       "3         4         Larceny - All Other  202500014444    CPD   \n",
       "4         5                 Hit and Run  202500014429    CPD   \n",
       "\n",
       "   ReportingOfficer                Date DayOfWeek  Weekend  Season TimeOfDay  \\\n",
       "0  Pinkman, Jackson 2025-05-01 22:10:28  Thursday    False  Spring     Night   \n",
       "1  Bentz, Benjamin  2025-05-01 21:12:07  Thursday    False  Spring     Night   \n",
       "2  Abdelgayed, Adam 2025-05-01 21:05:10  Thursday    False  Spring     Night   \n",
       "3     Rigsby, Lloyd 2025-05-01 20:47:15  Thursday    False  Spring   Evening   \n",
       "4     Hannay, Jacob 2025-05-01 19:06:29  Thursday    False  Spring   Evening   \n",
       "\n",
       "            FullStreet        lat        lon     neighborhood    zip  \n",
       "0          500 PARK ST  38.033037 -78.475772   North Downtown  22902  \n",
       "1  1500 ANTOINETTE AVE  38.020606 -78.499495  Johnson Village  22903  \n",
       "2      1100 EMMET ST N  38.051639 -78.501523    Barracks Road  22901  \n",
       "3        200 W MAIN ST  38.030841 -78.482517    Downtown Mall  22902  \n",
       "4      100 E MARKET ST  38.031539 -78.481144    Downtown Mall  22902  "
      ]
     },
     "execution_count": 14,
     "metadata": {},
     "output_type": "execute_result"
    }
   ],
   "source": [
    "# Now drop the original BlockNumber and StreetName columns\n",
    "df.drop(columns=['BlockNumber', 'StreetName','HourAMPM','HourReported','DateString'], inplace=True)\n",
    "df[\"zip\"] = df[\"zip\"].astype(str)\n",
    "\n",
    "# Fill all missing values in the DataFrame with \"N/A\"\n",
    "df.replace({None: \"N/A\", np.nan: \"N/A\", \"\": \"N/A\"}, inplace=True)\n",
    "df.head()"
   ]
  },
  {
   "cell_type": "code",
   "execution_count": 15,
   "id": "d12c1c56",
   "metadata": {
    "execution": {
     "iopub.execute_input": "2025-05-04T01:08:36.410527Z",
     "iopub.status.busy": "2025-05-04T01:08:36.410059Z",
     "iopub.status.idle": "2025-05-04T01:08:36.430395Z",
     "shell.execute_reply": "2025-05-04T01:08:36.429825Z"
    },
    "papermill": {
     "duration": 0.029416,
     "end_time": "2025-05-04T01:08:36.431423",
     "exception": false,
     "start_time": "2025-05-04T01:08:36.402007",
     "status": "completed"
    },
    "tags": []
   },
   "outputs": [
    {
     "name": "stdout",
     "output_type": "stream",
     "text": [
      "                  MissingCount  MissingPercentage\n",
      "RecordID                     0                0.0\n",
      "Offense                      0                0.0\n",
      "IncidentID                   0                0.0\n",
      "Agency                       0                0.0\n",
      "ReportingOfficer             0                0.0\n",
      "Date                         0                0.0\n",
      "DayOfWeek                    0                0.0\n",
      "Weekend                      0                0.0\n",
      "Season                       0                0.0\n",
      "TimeOfDay                    0                0.0\n",
      "FullStreet                   0                0.0\n",
      "lat                          0                0.0\n",
      "lon                          0                0.0\n",
      "neighborhood                 0                0.0\n",
      "zip                          0                0.0\n"
     ]
    }
   ],
   "source": [
    "missing_info = missing_percentage(df)\n",
    "print(missing_info)"
   ]
  },
  {
   "cell_type": "code",
   "execution_count": 16,
   "id": "ae1c3f1a",
   "metadata": {
    "execution": {
     "iopub.execute_input": "2025-05-04T01:08:36.447488Z",
     "iopub.status.busy": "2025-05-04T01:08:36.446971Z",
     "iopub.status.idle": "2025-05-04T01:08:36.451553Z",
     "shell.execute_reply": "2025-05-04T01:08:36.450999Z"
    },
    "papermill": {
     "duration": 0.013645,
     "end_time": "2025-05-04T01:08:36.452614",
     "exception": false,
     "start_time": "2025-05-04T01:08:36.438969",
     "status": "completed"
    },
    "tags": []
   },
   "outputs": [
    {
     "data": {
      "text/plain": [
       "Index(['RecordID', 'Offense', 'IncidentID', 'Agency', 'ReportingOfficer',\n",
       "       'Date', 'DayOfWeek', 'Weekend', 'Season', 'TimeOfDay', 'FullStreet',\n",
       "       'lat', 'lon', 'neighborhood', 'zip'],\n",
       "      dtype='object')"
      ]
     },
     "execution_count": 16,
     "metadata": {},
     "output_type": "execute_result"
    }
   ],
   "source": [
    "df.columns"
   ]
  },
  {
   "cell_type": "code",
   "execution_count": 17,
   "id": "652d8523",
   "metadata": {
    "execution": {
     "iopub.execute_input": "2025-05-04T01:08:36.468537Z",
     "iopub.status.busy": "2025-05-04T01:08:36.468135Z",
     "iopub.status.idle": "2025-05-04T01:08:36.489958Z",
     "shell.execute_reply": "2025-05-04T01:08:36.489392Z"
    },
    "papermill": {
     "duration": 0.030977,
     "end_time": "2025-05-04T01:08:36.491064",
     "exception": false,
     "start_time": "2025-05-04T01:08:36.460087",
     "status": "completed"
    },
    "tags": []
   },
   "outputs": [
    {
     "name": "stdout",
     "output_type": "stream",
     "text": [
      "<class 'pandas.core.frame.DataFrame'>\n",
      "RangeIndex: 25327 entries, 0 to 25326\n",
      "Data columns (total 15 columns):\n",
      " #   Column            Non-Null Count  Dtype         \n",
      "---  ------            --------------  -----         \n",
      " 0   RecordID          25327 non-null  int64         \n",
      " 1   Offense           25327 non-null  object        \n",
      " 2   IncidentID        25327 non-null  object        \n",
      " 3   Agency            25327 non-null  object        \n",
      " 4   ReportingOfficer  25327 non-null  object        \n",
      " 5   Date              25327 non-null  datetime64[ns]\n",
      " 6   DayOfWeek         25327 non-null  object        \n",
      " 7   Weekend           25327 non-null  bool          \n",
      " 8   Season            25327 non-null  object        \n",
      " 9   TimeOfDay         25327 non-null  object        \n",
      " 10  FullStreet        25327 non-null  object        \n",
      " 11  lat               25327 non-null  float64       \n",
      " 12  lon               25327 non-null  float64       \n",
      " 13  neighborhood      25327 non-null  object        \n",
      " 14  zip               25327 non-null  object        \n",
      "dtypes: bool(1), datetime64[ns](1), float64(2), int64(1), object(10)\n",
      "memory usage: 2.7+ MB\n"
     ]
    }
   ],
   "source": [
    "df.info()"
   ]
  },
  {
   "cell_type": "markdown",
   "id": "0e2005e0",
   "metadata": {
    "papermill": {
     "duration": 0.007506,
     "end_time": "2025-05-04T01:08:36.506309",
     "exception": false,
     "start_time": "2025-05-04T01:08:36.498803",
     "status": "completed"
    },
    "tags": []
   },
   "source": [
    "### Export Clean Data"
   ]
  },
  {
   "cell_type": "code",
   "execution_count": 18,
   "id": "049adb9c",
   "metadata": {
    "execution": {
     "iopub.execute_input": "2025-05-04T01:08:36.523855Z",
     "iopub.status.busy": "2025-05-04T01:08:36.523393Z",
     "iopub.status.idle": "2025-05-04T01:08:45.946678Z",
     "shell.execute_reply": "2025-05-04T01:08:45.945940Z"
    },
    "papermill": {
     "duration": 9.433799,
     "end_time": "2025-05-04T01:08:45.947765",
     "exception": false,
     "start_time": "2025-05-04T01:08:36.513966",
     "status": "completed"
    },
    "tags": []
   },
   "outputs": [
    {
     "name": "stdout",
     "output_type": "stream",
     "text": [
      "Project Root: /home/runner/work/crime-data/crime-data\n"
     ]
    },
    {
     "name": "stdout",
     "output_type": "stream",
     "text": [
      "Data saved to: /home/runner/work/crime-data/crime-data/data/charlottesville_crime_incidents.csv\n"
     ]
    },
    {
     "name": "stdout",
     "output_type": "stream",
     "text": [
      "Excel saved to: /home/runner/work/crime-data/crime-data/data/charlottesville_crime_incidents.xlsx\n"
     ]
    }
   ],
   "source": [
    "# Determine the project root (assuming papermill is run from the repository root)\n",
    "project_root = os.getcwd()\n",
    "print(\"Project Root:\", project_root)\n",
    "\n",
    "# Set the data directory within the project root\n",
    "data_dir = os.path.join(project_root, \"data\")\n",
    "\n",
    "# Ensure the \"data\" directory exists (create it if it doesn't)\n",
    "if not os.path.exists(data_dir):\n",
    "    os.makedirs(data_dir)\n",
    "\n",
    "# Export the DataFrame to CSV in the \"data\" folder located in the project root\n",
    "csv_path = os.path.join(data_dir, \"charlottesville_crime_incidents.csv\")\n",
    "df.to_csv(csv_path, index=False)\n",
    "print(\"Data saved to:\", csv_path)\n",
    "\n",
    "# Construct the path to your Excel file\n",
    "excel_path = os.path.join(data_dir, \"charlottesville_crime_incidents.xlsx\")\n",
    "\n",
    "# Export the DataFrame to Excel\n",
    "df.to_excel(excel_path, index=False)\n",
    "print(\"Excel saved to:\", excel_path)\n"
   ]
  },
  {
   "cell_type": "markdown",
   "id": "4e088087",
   "metadata": {
    "papermill": {
     "duration": 0.007614,
     "end_time": "2025-05-04T01:08:45.963369",
     "exception": false,
     "start_time": "2025-05-04T01:08:45.955755",
     "status": "completed"
    },
    "tags": []
   },
   "source": [
    "## Predictive Analytics"
   ]
  },
  {
   "cell_type": "code",
   "execution_count": 19,
   "id": "70fbfeac",
   "metadata": {
    "execution": {
     "iopub.execute_input": "2025-05-04T01:08:45.979989Z",
     "iopub.status.busy": "2025-05-04T01:08:45.979694Z",
     "iopub.status.idle": "2025-05-04T01:08:45.991642Z",
     "shell.execute_reply": "2025-05-04T01:08:45.991003Z"
    },
    "papermill": {
     "duration": 0.021511,
     "end_time": "2025-05-04T01:08:45.992633",
     "exception": false,
     "start_time": "2025-05-04T01:08:45.971122",
     "status": "completed"
    },
    "tags": []
   },
   "outputs": [
    {
     "data": {
      "text/html": [
       "<div>\n",
       "<style scoped>\n",
       "    .dataframe tbody tr th:only-of-type {\n",
       "        vertical-align: middle;\n",
       "    }\n",
       "\n",
       "    .dataframe tbody tr th {\n",
       "        vertical-align: top;\n",
       "    }\n",
       "\n",
       "    .dataframe thead th {\n",
       "        text-align: right;\n",
       "    }\n",
       "</style>\n",
       "<table border=\"1\" class=\"dataframe\">\n",
       "  <thead>\n",
       "    <tr style=\"text-align: right;\">\n",
       "      <th></th>\n",
       "      <th>RecordID</th>\n",
       "      <th>Offense</th>\n",
       "      <th>IncidentID</th>\n",
       "      <th>Agency</th>\n",
       "      <th>ReportingOfficer</th>\n",
       "      <th>Date</th>\n",
       "      <th>DayOfWeek</th>\n",
       "      <th>Weekend</th>\n",
       "      <th>Season</th>\n",
       "      <th>TimeOfDay</th>\n",
       "      <th>FullStreet</th>\n",
       "      <th>lat</th>\n",
       "      <th>lon</th>\n",
       "      <th>neighborhood</th>\n",
       "      <th>zip</th>\n",
       "    </tr>\n",
       "  </thead>\n",
       "  <tbody>\n",
       "    <tr>\n",
       "      <th>0</th>\n",
       "      <td>1</td>\n",
       "      <td>Missing Person-juvenile</td>\n",
       "      <td>202500014450</td>\n",
       "      <td>CPD</td>\n",
       "      <td>Pinkman, Jackson</td>\n",
       "      <td>2025-05-01 22:10:28</td>\n",
       "      <td>Thursday</td>\n",
       "      <td>False</td>\n",
       "      <td>Spring</td>\n",
       "      <td>Night</td>\n",
       "      <td>500 PARK ST</td>\n",
       "      <td>38.033037</td>\n",
       "      <td>-78.475772</td>\n",
       "      <td>North Downtown</td>\n",
       "      <td>22902</td>\n",
       "    </tr>\n",
       "    <tr>\n",
       "      <th>1</th>\n",
       "      <td>2</td>\n",
       "      <td>Assault Simple</td>\n",
       "      <td>202500014442</td>\n",
       "      <td>CPD</td>\n",
       "      <td>Bentz, Benjamin</td>\n",
       "      <td>2025-05-01 21:12:07</td>\n",
       "      <td>Thursday</td>\n",
       "      <td>False</td>\n",
       "      <td>Spring</td>\n",
       "      <td>Night</td>\n",
       "      <td>1500 ANTOINETTE AVE</td>\n",
       "      <td>38.020606</td>\n",
       "      <td>-78.499495</td>\n",
       "      <td>Johnson Village</td>\n",
       "      <td>22903</td>\n",
       "    </tr>\n",
       "    <tr>\n",
       "      <th>2</th>\n",
       "      <td>3</td>\n",
       "      <td>Disturbance - Non Domestic</td>\n",
       "      <td>202500014440</td>\n",
       "      <td>CPD</td>\n",
       "      <td>Abdelgayed, Adam</td>\n",
       "      <td>2025-05-01 21:05:10</td>\n",
       "      <td>Thursday</td>\n",
       "      <td>False</td>\n",
       "      <td>Spring</td>\n",
       "      <td>Night</td>\n",
       "      <td>1100 EMMET ST N</td>\n",
       "      <td>38.051639</td>\n",
       "      <td>-78.501523</td>\n",
       "      <td>Barracks Road</td>\n",
       "      <td>22901</td>\n",
       "    </tr>\n",
       "    <tr>\n",
       "      <th>3</th>\n",
       "      <td>4</td>\n",
       "      <td>Larceny - All Other</td>\n",
       "      <td>202500014444</td>\n",
       "      <td>CPD</td>\n",
       "      <td>Rigsby, Lloyd</td>\n",
       "      <td>2025-05-01 20:47:15</td>\n",
       "      <td>Thursday</td>\n",
       "      <td>False</td>\n",
       "      <td>Spring</td>\n",
       "      <td>Evening</td>\n",
       "      <td>200 W MAIN ST</td>\n",
       "      <td>38.030841</td>\n",
       "      <td>-78.482517</td>\n",
       "      <td>Downtown Mall</td>\n",
       "      <td>22902</td>\n",
       "    </tr>\n",
       "    <tr>\n",
       "      <th>4</th>\n",
       "      <td>5</td>\n",
       "      <td>Hit and Run</td>\n",
       "      <td>202500014429</td>\n",
       "      <td>CPD</td>\n",
       "      <td>Hannay, Jacob</td>\n",
       "      <td>2025-05-01 19:06:29</td>\n",
       "      <td>Thursday</td>\n",
       "      <td>False</td>\n",
       "      <td>Spring</td>\n",
       "      <td>Evening</td>\n",
       "      <td>100 E MARKET ST</td>\n",
       "      <td>38.031539</td>\n",
       "      <td>-78.481144</td>\n",
       "      <td>Downtown Mall</td>\n",
       "      <td>22902</td>\n",
       "    </tr>\n",
       "  </tbody>\n",
       "</table>\n",
       "</div>"
      ],
      "text/plain": [
       "   RecordID                     Offense    IncidentID Agency  \\\n",
       "0         1     Missing Person-juvenile  202500014450    CPD   \n",
       "1         2              Assault Simple  202500014442    CPD   \n",
       "2         3  Disturbance - Non Domestic  202500014440    CPD   \n",
       "3         4         Larceny - All Other  202500014444    CPD   \n",
       "4         5                 Hit and Run  202500014429    CPD   \n",
       "\n",
       "   ReportingOfficer                Date DayOfWeek  Weekend  Season TimeOfDay  \\\n",
       "0  Pinkman, Jackson 2025-05-01 22:10:28  Thursday    False  Spring     Night   \n",
       "1  Bentz, Benjamin  2025-05-01 21:12:07  Thursday    False  Spring     Night   \n",
       "2  Abdelgayed, Adam 2025-05-01 21:05:10  Thursday    False  Spring     Night   \n",
       "3     Rigsby, Lloyd 2025-05-01 20:47:15  Thursday    False  Spring   Evening   \n",
       "4     Hannay, Jacob 2025-05-01 19:06:29  Thursday    False  Spring   Evening   \n",
       "\n",
       "            FullStreet        lat        lon     neighborhood    zip  \n",
       "0          500 PARK ST  38.033037 -78.475772   North Downtown  22902  \n",
       "1  1500 ANTOINETTE AVE  38.020606 -78.499495  Johnson Village  22903  \n",
       "2      1100 EMMET ST N  38.051639 -78.501523    Barracks Road  22901  \n",
       "3        200 W MAIN ST  38.030841 -78.482517    Downtown Mall  22902  \n",
       "4      100 E MARKET ST  38.031539 -78.481144    Downtown Mall  22902  "
      ]
     },
     "execution_count": 19,
     "metadata": {},
     "output_type": "execute_result"
    }
   ],
   "source": [
    "df.head()"
   ]
  },
  {
   "cell_type": "code",
   "execution_count": 20,
   "id": "e49e996a",
   "metadata": {
    "execution": {
     "iopub.execute_input": "2025-05-04T01:08:46.009893Z",
     "iopub.status.busy": "2025-05-04T01:08:46.009626Z",
     "iopub.status.idle": "2025-05-04T01:08:46.014677Z",
     "shell.execute_reply": "2025-05-04T01:08:46.013982Z"
    },
    "papermill": {
     "duration": 0.014842,
     "end_time": "2025-05-04T01:08:46.015723",
     "exception": false,
     "start_time": "2025-05-04T01:08:46.000881",
     "status": "completed"
    },
    "tags": []
   },
   "outputs": [
    {
     "data": {
      "text/plain": [
       "Index(['RecordID', 'Offense', 'IncidentID', 'Agency', 'ReportingOfficer',\n",
       "       'Date', 'DayOfWeek', 'Weekend', 'Season', 'TimeOfDay', 'FullStreet',\n",
       "       'lat', 'lon', 'neighborhood', 'zip'],\n",
       "      dtype='object')"
      ]
     },
     "execution_count": 20,
     "metadata": {},
     "output_type": "execute_result"
    }
   ],
   "source": [
    "df.columns"
   ]
  },
  {
   "cell_type": "markdown",
   "id": "ad333453",
   "metadata": {
    "papermill": {
     "duration": 0.007997,
     "end_time": "2025-05-04T01:08:46.031992",
     "exception": false,
     "start_time": "2025-05-04T01:08:46.023995",
     "status": "completed"
    },
    "tags": []
   },
   "source": [
    "### Data Preparation\n",
    "\n",
    "We need to ensure the data is in the correct format for modeling and can handle missing values, categorical variables, and dates. Here's how to prepare your data:"
   ]
  },
  {
   "cell_type": "code",
   "execution_count": 21,
   "id": "258ed919",
   "metadata": {
    "execution": {
     "iopub.execute_input": "2025-05-04T01:08:46.049690Z",
     "iopub.status.busy": "2025-05-04T01:08:46.049196Z",
     "iopub.status.idle": "2025-05-04T01:08:47.962577Z",
     "shell.execute_reply": "2025-05-04T01:08:47.961800Z"
    },
    "papermill": {
     "duration": 1.923831,
     "end_time": "2025-05-04T01:08:47.963971",
     "exception": false,
     "start_time": "2025-05-04T01:08:46.040140",
     "status": "completed"
    },
    "tags": []
   },
   "outputs": [],
   "source": [
    "import pandas as pd\n",
    "from sklearn.model_selection import train_test_split\n",
    "from sklearn.preprocessing import OneHotEncoder, LabelEncoder\n",
    "from sklearn.ensemble import RandomForestClassifier\n",
    "from sklearn.linear_model import LogisticRegression\n",
    "from sklearn.tree import DecisionTreeClassifier\n",
    "from sklearn.metrics import classification_report, accuracy_score\n",
    "import seaborn as sns\n",
    "import matplotlib.pyplot as plt\n",
    "\n",
    "# Convert 'Date' to datetime\n",
    "df['Date'] = pd.to_datetime(df['Date'])\n",
    "\n",
    "# Feature engineering: Extract additional time-based features\n",
    "df['Year'] = df['Date'].dt.year\n",
    "df['Month'] = df['Date'].dt.month\n",
    "df['DayOfMonth'] = df['Date'].dt.day\n",
    "\n",
    "# One-hot encoding for 'FullStreet', 'neighborhood', 'zip'\n",
    "df = pd.get_dummies(df, columns=['FullStreet', 'neighborhood', 'zip'], drop_first=True)\n",
    "\n",
    "# Label encoding for ordered variables (those with a natural order like 'DayOfWeek', 'Season', 'TimeOfDay')\n",
    "label_encoders = {}\n",
    "for column in ['DayOfWeek', 'Season', 'TimeOfDay', 'Agency', 'ReportingOfficer']:  # Example ordinal variables\n",
    "    le = LabelEncoder()\n",
    "    df[column] = le.fit_transform(df[column])\n",
    "    label_encoders[column] = le\n",
    "\n",
    "# Filter the dataset to include only the offenses of interest\n",
    "offenses_of_interest = [\n",
    "    'Hit and Run', 'Assault Simple', 'Suspicious Activity', 'Vandalism', \n",
    "    'Larceny - From Mot Vehicle', 'Larceny - All Other', \n",
    "    'Assist Citizen - Mental/TDO/ECO', 'Lost/FoundProperty'\n",
    "]\n",
    "\n",
    "df = df[df['Offense'].isin(offenses_of_interest)]\n",
    "\n",
    "# Label encode the target variable (Offense)\n",
    "offense_encoder = LabelEncoder()\n",
    "df['Offense'] = offense_encoder.fit_transform(df['Offense'])\n",
    "\n",
    "# Separate features (X) and target (y)\n",
    "X = df[['Year', 'Month', 'DayOfMonth', 'DayOfWeek', 'Weekend', 'Season', 'TimeOfDay', 'lat', 'lon', 'Agency', 'ReportingOfficer']]\n",
    "y = df['Offense']  # Offense is now the encoded target variable\n",
    "\n",
    "# Split the data into training and testing sets\n",
    "X_train, X_test, y_train, y_test = train_test_split(X, y, test_size=0.3, random_state=42)\n"
   ]
  },
  {
   "cell_type": "markdown",
   "id": "7e8489c5",
   "metadata": {
    "papermill": {
     "duration": 0.007975,
     "end_time": "2025-05-04T01:08:47.980548",
     "exception": false,
     "start_time": "2025-05-04T01:08:47.972573",
     "status": "completed"
    },
    "tags": []
   },
   "source": [
    "### Model Training\n",
    "\n",
    "Here we will train several models (e.g., Random Forest, Logistic Regression, and Decision Tree). We will use cross-validation to choose the best model based on accuracy, and then explain the impact of the variables."
   ]
  },
  {
   "cell_type": "code",
   "execution_count": 22,
   "id": "36d7e2ec",
   "metadata": {
    "execution": {
     "iopub.execute_input": "2025-05-04T01:08:47.998170Z",
     "iopub.status.busy": "2025-05-04T01:08:47.997473Z",
     "iopub.status.idle": "2025-05-04T01:08:51.633784Z",
     "shell.execute_reply": "2025-05-04T01:08:51.633057Z"
    },
    "papermill": {
     "duration": 3.646329,
     "end_time": "2025-05-04T01:08:51.634787",
     "exception": false,
     "start_time": "2025-05-04T01:08:47.988458",
     "status": "completed"
    },
    "tags": []
   },
   "outputs": [
    {
     "name": "stderr",
     "output_type": "stream",
     "text": [
      "/opt/hostedtoolcache/Python/3.9.22/x64/lib/python3.9/site-packages/sklearn/linear_model/_logistic.py:465: ConvergenceWarning: lbfgs failed to converge (status=1):\n",
      "STOP: TOTAL NO. of ITERATIONS REACHED LIMIT.\n",
      "\n",
      "Increase the number of iterations (max_iter) or scale the data as shown in:\n",
      "    https://scikit-learn.org/stable/modules/preprocessing.html\n",
      "Please also refer to the documentation for alternative solver options:\n",
      "    https://scikit-learn.org/stable/modules/linear_model.html#logistic-regression\n",
      "  n_iter_i = _check_optimize_result(\n",
      "/opt/hostedtoolcache/Python/3.9.22/x64/lib/python3.9/site-packages/sklearn/metrics/_classification.py:1565: UndefinedMetricWarning: Precision is ill-defined and being set to 0.0 in labels with no predicted samples. Use `zero_division` parameter to control this behavior.\n",
      "  _warn_prf(average, modifier, f\"{metric.capitalize()} is\", len(result))\n",
      "/opt/hostedtoolcache/Python/3.9.22/x64/lib/python3.9/site-packages/sklearn/metrics/_classification.py:1565: UndefinedMetricWarning: Precision is ill-defined and being set to 0.0 in labels with no predicted samples. Use `zero_division` parameter to control this behavior.\n",
      "  _warn_prf(average, modifier, f\"{metric.capitalize()} is\", len(result))\n",
      "/opt/hostedtoolcache/Python/3.9.22/x64/lib/python3.9/site-packages/sklearn/metrics/_classification.py:1565: UndefinedMetricWarning: Precision is ill-defined and being set to 0.0 in labels with no predicted samples. Use `zero_division` parameter to control this behavior.\n",
      "  _warn_prf(average, modifier, f\"{metric.capitalize()} is\", len(result))\n"
     ]
    },
    {
     "name": "stdout",
     "output_type": "stream",
     "text": [
      "\n",
      "Classification Report for All Models:\n",
      "\n",
      "Model: RandomForest\n",
      "Accuracy: 0.2851\n",
      "              precision    recall  f1-score      support\n",
      "0              0.270481  0.375451  0.314437   554.000000\n",
      "1              0.331010  0.235149  0.274964   404.000000\n",
      "2              0.300620  0.429838  0.353799   677.000000\n",
      "3              0.230769  0.191209  0.209135   455.000000\n",
      "4              0.326613  0.216578  0.260450   374.000000\n",
      "5              0.266667  0.211720  0.236038   529.000000\n",
      "6              0.287469  0.242236  0.262921   483.000000\n",
      "accuracy       0.285098  0.285098  0.285098     0.285098\n",
      "macro avg      0.287661  0.271740  0.273106  3476.000000\n",
      "weighted avg   0.286007  0.285098  0.278834  3476.000000\n"
     ]
    },
    {
     "data": {
      "image/png": "[encoded data removed]",
      "text/plain": [
       "<Figure size 800x600 with 2 Axes>"
      ]
     },
     "metadata": {},
     "output_type": "display_data"
    },
    {
     "name": "stdout",
     "output_type": "stream",
     "text": [
      "\n",
      "Model: LogisticRegression\n",
      "Accuracy: 0.1985\n",
      "              precision    recall  f1-score      support\n",
      "0              0.183232  0.489170  0.266601   554.000000\n",
      "1              0.000000  0.000000  0.000000   404.000000\n",
      "2              0.209815  0.618907  0.313388   677.000000\n",
      "3              0.000000  0.000000  0.000000   455.000000\n",
      "4              0.000000  0.000000  0.000000   374.000000\n",
      "5              0.000000  0.000000  0.000000   529.000000\n",
      "6              0.000000  0.000000  0.000000   483.000000\n",
      "accuracy       0.198504  0.198504  0.198504     0.198504\n",
      "macro avg      0.056150  0.158297  0.082856  3476.000000\n",
      "weighted avg   0.070068  0.198504  0.103527  3476.000000\n"
     ]
    },
    {
     "data": {
      "image/png": "[encoded data removed]",
      "text/plain": [
       "<Figure size 800x600 with 2 Axes>"
      ]
     },
     "metadata": {},
     "output_type": "display_data"
    },
    {
     "name": "stdout",
     "output_type": "stream",
     "text": [
      "\n",
      "Model: DecisionTree\n",
      "Accuracy: 0.2100\n",
      "              precision    recall  f1-score      support\n",
      "0              0.210332  0.205776  0.208029   554.000000\n",
      "1              0.208716  0.225248  0.216667   404.000000\n",
      "2              0.268212  0.239291  0.252927   677.000000\n",
      "3              0.172345  0.189011  0.180294   455.000000\n",
      "4              0.206044  0.200535  0.203252   374.000000\n",
      "5              0.191571  0.189036  0.190295   529.000000\n",
      "6              0.200393  0.211180  0.205645   483.000000\n",
      "accuracy       0.210012  0.210012  0.210012     0.210012\n",
      "macro avg      0.208230  0.208582  0.208158  3476.000000\n",
      "weighted avg   0.211747  0.210012  0.210603  3476.000000\n"
     ]
    },
    {
     "data": {
      "image/png": "[encoded data removed]",
      "text/plain": [
       "<Figure size 800x600 with 2 Axes>"
      ]
     },
     "metadata": {},
     "output_type": "display_data"
    },
    {
     "name": "stdout",
     "output_type": "stream",
     "text": [
      "\n",
      "Best Model:\n",
      "Best Model: RandomForestClassifier()\n",
      "Best Model Accuracy: 0.2851\n"
     ]
    }
   ],
   "source": [
    "import pandas as pd\n",
    "from sklearn.model_selection import train_test_split\n",
    "from sklearn.ensemble import RandomForestClassifier\n",
    "from sklearn.linear_model import LogisticRegression\n",
    "from sklearn.tree import DecisionTreeClassifier\n",
    "from sklearn.metrics import classification_report, accuracy_score, confusion_matrix\n",
    "import seaborn as sns\n",
    "import matplotlib.pyplot as plt\n",
    "\n",
    "# Define models\n",
    "models = {\n",
    "    'RandomForest': RandomForestClassifier(),\n",
    "    'LogisticRegression': LogisticRegression(max_iter=1000),\n",
    "    'DecisionTree': DecisionTreeClassifier()\n",
    "}\n",
    "\n",
    "# Train models and evaluate them\n",
    "best_model = None\n",
    "best_score = 0\n",
    "model_reports = {}\n",
    "\n",
    "for model_name, model in models.items():\n",
    "    model.fit(X_train, y_train)  # Train model\n",
    "    y_pred = model.predict(X_test)  # Make predictions\n",
    "    \n",
    "    # Calculate accuracy and generate classification report\n",
    "    accuracy = accuracy_score(y_test, y_pred)\n",
    "    model_reports[model_name] = classification_report(y_test, y_pred, output_dict=True)  # Store as a dictionary for easier analysis\n",
    "    \n",
    "    # Track best performing model\n",
    "    if accuracy > best_score:\n",
    "        best_score = accuracy\n",
    "        best_model = model\n",
    "\n",
    "# Display classification reports and confusion matrices\n",
    "print(\"\\nClassification Report for All Models:\")\n",
    "for model_name, report in model_reports.items():\n",
    "    print(f\"\\nModel: {model_name}\")\n",
    "    print(\"Accuracy: {:.4f}\".format(accuracy_score(y_test, models[model_name].predict(X_test))))  # Display accuracy\n",
    "    print(pd.DataFrame(report).transpose())  # Display classification report as a DataFrame\n",
    "\n",
    "    # Plot Confusion Matrix\n",
    "    cm = confusion_matrix(y_test, models[model_name].predict(X_test))\n",
    "    plt.figure(figsize=(8, 6))\n",
    "    sns.heatmap(cm, annot=True, fmt=\"d\", cmap='Blues', xticklabels=offense_encoder.classes_, yticklabels=offense_encoder.classes_)\n",
    "    plt.title(f\"Confusion Matrix - {model_name}\")\n",
    "    plt.xlabel('Predicted Labels')\n",
    "    plt.ylabel('True Labels')\n",
    "    plt.show()\n",
    "\n",
    "# Display best model details\n",
    "print(\"\\nBest Model:\")\n",
    "print(f\"Best Model: {best_model}\")\n",
    "print(f\"Best Model Accuracy: {best_score:.4f}\")\n"
   ]
  },
  {
   "cell_type": "markdown",
   "id": "88817a1e",
   "metadata": {
    "papermill": {
     "duration": 0.010738,
     "end_time": "2025-05-04T01:08:51.656652",
     "exception": false,
     "start_time": "2025-05-04T01:08:51.645914",
     "status": "completed"
    },
    "tags": []
   },
   "source": [
    "#### Classification Report for All Models:\n",
    "\n",
    "### Explanation of the Classification Results (RandomForest Model)\n",
    "\n",
    "The results you provided are from a **Random Forest** model, which is used for predicting different types of offenses. Let's break down the key components of the results:\n",
    "\n",
    "#### 1. **Accuracy: 0.2822**\n",
    "   - **Accuracy** measures the overall percentage of correct predictions made by the model. An accuracy of 28.22% means the model correctly predicted the offense in about 28% of the cases. This indicates the model's predictions are not highly reliable, as the accuracy is quite low.\n",
    "\n",
    "#### 2. **Classification Report:**\n",
    "   The classification report includes precision, recall, and F1-score for each offense. Let's go over these terms and how they apply to the results:\n",
    "\n",
    "   - **Precision**: The proportion of true positive predictions out of all positive predictions made by the model for a specific class (offense).\n",
    "   - **Recall**: The proportion of true positive predictions out of all actual positive instances in the dataset.\n",
    "   - **F1-Score**: The harmonic mean of precision and recall, providing a balance between the two metrics.\n",
    "   - **Support**: The number of actual occurrences of each class in the test set.\n",
    "\n",
    "   Let's analyze each offense based on these metrics:\n",
    "\n",
    "   | **Offense**                        | **Precision** | **Recall** | **F1-Score** | **Support** |\n",
    "   |------------------------------------|---------------|------------|--------------|-------------|\n",
    "   | **Assault Simple**                 | 0.2892        | 0.3754     | 0.3267       | 594         |\n",
    "   | **Assist Citizen - Mental/TDO/ECO**| 0.3182        | 0.2274     | 0.2652       | 431         |\n",
    "   | **Hit and Run**                    | 0.2963        | 0.4765     | 0.3654       | 638         |\n",
    "   | **Larceny - All Other**            | 0.2270        | 0.1453     | 0.1772       | 475         |\n",
    "   | **Lost/FoundProperty**             | 0.3333        | 0.2102     | 0.2578       | 352         |\n",
    "   | **Suspicious Activity**            | 0.2344        | 0.2169     | 0.2253       | 484         |\n",
    "   | **Vandalism**                      | 0.2712        | 0.2106     | 0.2371       | 470         |\n",
    "\n",
    "#### 3. **Key Insights from the Report:**\n",
    "\n",
    "- **Precision**:\n",
    "   - The highest precision is for **Larceny - All Other** (0.3333), indicating that when the model predicts this offense, it is correct about 33% of the time. However, this is still quite low.\n",
    "   - **Assist Citizen - Mental/TDO/ECO** has the lowest precision (0.2269), meaning that the model's predictions for this offense tend to be wrong more often than correct.\n",
    "\n",
    "- **Recall**:\n",
    "   - **Hit and Run** has the highest recall (0.4765), meaning the model identifies about 48% of the actual occurrences of this offense. This is better than the precision, which indicates it is missing many true positives but is still able to identify a fair number of cases.\n",
    "   - **Larceny - All Other** and **Suspicious Activity** have the lowest recall values (0.1453 and 0.2169, respectively), indicating that the model is failing to identify most of the actual cases for these offenses.\n",
    "\n",
    "- **F1-Score**:\n",
    "   - The **F1-Score** balances precision and recall. It is highest for **Hit and Run** (0.3654), but still relatively low overall. This suggests the model is better at identifying **Hit and Run** than other offenses but still has room for improvement.\n",
    "   - **Larceny - All Other** has the lowest F1-Score (0.1772), indicating a poor balance between precision and recall for this offense.\n",
    "\n",
    "#### 4. **Macro Average and Weighted Average:**\n",
    "   - **Macro Average**: This gives the average precision, recall, and F1-Score across all classes (offenses) without considering the class distribution. It averages the results for all offenses equally.\n",
    "     - Precision: 0.2814\n",
    "     - Recall: 0.2661\n",
    "     - F1-Score: 0.2649\n",
    "   - **Weighted Average**: This averages the metrics but weighs each class by its support (the number of true instances in the test set). This gives a better sense of overall performance, considering the class distribution.\n",
    "     - Precision: 0.2799\n",
    "     - Recall: 0.2822\n",
    "     - F1-Score: 0.2720\n",
    "\n",
    "#### 5. **Confusion Matrix (Visualization Analysis)**:\n",
    "   - The confusion matrix shows the distribution of true positive, false positive, true negative, and false negative predictions for each class.\n",
    "     - For **Hit and Run**, the model performs relatively well in identifying this offense (304 true positives). However, it also misclassifies some **Hit and Run** instances as other offenses (e.g., **Assault Simple**, **Suspicious Activity**, etc.).\n",
    "     - **Larceny - All Other** is frequently misclassified as **Hit and Run**, **Suspicious Activity**, and others. This is evident from the large number of off-diagonal elements in its row.\n",
    "     - **Assist Citizen - Mental/TDO/ECO** and **Suspicious Activity** are frequently misclassified, as seen by the off-diagonal values in their rows.\n",
    "\n",
    "### Conclusion:\n",
    "The Random Forest model has low accuracy (28.22%), suggesting that it struggles to predict most offenses accurately. Some offenses like **Hit and Run** are better predicted than others, but overall, the model shows a high level of misclassification across all offenses. There may be a need for further tuning of the model, additional feature engineering, or trying different models for better performance.\n",
    "\n",
    "Let me know if you'd like to improve the model or make adjustments based on these results!\n",
    "\n"
   ]
  },
  {
   "cell_type": "markdown",
   "id": "1c3178c7",
   "metadata": {
    "papermill": {
     "duration": 0.01069,
     "end_time": "2025-05-04T01:08:51.677974",
     "exception": false,
     "start_time": "2025-05-04T01:08:51.667284",
     "status": "completed"
    },
    "tags": []
   },
   "source": [
    "### Model Explanation\n",
    "\n",
    "Once we’ve chosen the best model, we will explain its predictions by examining feature importance for tree-based models and using statistical methods like logistic regression coefficients for linear models."
   ]
  },
  {
   "cell_type": "markdown",
   "id": "7211ea2e",
   "metadata": {
    "papermill": {
     "duration": 0.0106,
     "end_time": "2025-05-04T01:08:51.699227",
     "exception": false,
     "start_time": "2025-05-04T01:08:51.688627",
     "status": "completed"
    },
    "tags": []
   },
   "source": [
    "#### Feature Importance for Random Forest / Decision Tree\n",
    "\n",
    "##### For Tree-based Models (Random Forest, Decision Tree)\n",
    "\n",
    "For Random Forest or Decision Tree, we can look at feature importance to understand which variables contribute the most to the model's predictions. Here's how you can visualize and interpret the importance of each feature:"
   ]
  },
  {
   "cell_type": "code",
   "execution_count": 23,
   "id": "0853735c",
   "metadata": {
    "execution": {
     "iopub.execute_input": "2025-05-04T01:08:51.722079Z",
     "iopub.status.busy": "2025-05-04T01:08:51.721380Z",
     "iopub.status.idle": "2025-05-04T01:08:51.890553Z",
     "shell.execute_reply": "2025-05-04T01:08:51.889843Z"
    },
    "papermill": {
     "duration": 0.181934,
     "end_time": "2025-05-04T01:08:51.891737",
     "exception": false,
     "start_time": "2025-05-04T01:08:51.709803",
     "status": "completed"
    },
    "tags": []
   },
   "outputs": [
    {
     "data": {
      "image/png": "[encoded data removed]",
      "text/plain": [
       "<Figure size 1000x600 with 1 Axes>"
      ]
     },
     "metadata": {},
     "output_type": "display_data"
    }
   ],
   "source": [
    "# For RandomForest or DecisionTree models, we can check feature importance\n",
    "if isinstance(best_model, RandomForestClassifier) or isinstance(best_model, DecisionTreeClassifier):\n",
    "    feature_importance = best_model.feature_importances_\n",
    "    feature_names = X.columns\n",
    "    importance_df = pd.DataFrame({'Feature': feature_names, 'Importance': feature_importance})\n",
    "    importance_df = importance_df.sort_values(by='Importance', ascending=False)\n",
    "    \n",
    "    # Plotting the feature importances\n",
    "    plt.figure(figsize=(10, 6))\n",
    "    sns.barplot(x='Importance', y='Feature', data=importance_df)\n",
    "    plt.title(\"Feature Importance\")\n",
    "    plt.show()\n"
   ]
  },
  {
   "cell_type": "code",
   "execution_count": null,
   "id": "46bc494d",
   "metadata": {
    "papermill": {
     "duration": 0.010994,
     "end_time": "2025-05-04T01:08:51.914256",
     "exception": false,
     "start_time": "2025-05-04T01:08:51.903262",
     "status": "completed"
    },
    "tags": []
   },
   "outputs": [],
   "source": []
  },
  {
   "cell_type": "markdown",
   "id": "e2cb058b",
   "metadata": {
    "papermill": {
     "duration": 0.010876,
     "end_time": "2025-05-04T01:08:51.936085",
     "exception": false,
     "start_time": "2025-05-04T01:08:51.925209",
     "status": "completed"
    },
    "tags": []
   },
   "source": [
    "### Evaluation\n",
    "\n",
    "After training the models and examining their performance, we evaluate the chosen model based on metrics like accuracy, precision, recall, and F1 score.\n",
    "\n"
   ]
  },
  {
   "cell_type": "code",
   "execution_count": 24,
   "id": "9b00ebc3",
   "metadata": {
    "execution": {
     "iopub.execute_input": "2025-05-04T01:08:51.959648Z",
     "iopub.status.busy": "2025-05-04T01:08:51.958986Z",
     "iopub.status.idle": "2025-05-04T01:08:52.050872Z",
     "shell.execute_reply": "2025-05-04T01:08:52.050201Z"
    },
    "papermill": {
     "duration": 0.104804,
     "end_time": "2025-05-04T01:08:52.051966",
     "exception": false,
     "start_time": "2025-05-04T01:08:51.947162",
     "status": "completed"
    },
    "tags": []
   },
   "outputs": [
    {
     "name": "stdout",
     "output_type": "stream",
     "text": [
      "Accuracy: 0.2851\n",
      "Classification Report:\n",
      "              precision    recall  f1-score   support\n",
      "\n",
      "           0       0.27      0.38      0.31       554\n",
      "           1       0.33      0.24      0.27       404\n",
      "           2       0.30      0.43      0.35       677\n",
      "           3       0.23      0.19      0.21       455\n",
      "           4       0.33      0.22      0.26       374\n",
      "           5       0.27      0.21      0.24       529\n",
      "           6       0.29      0.24      0.26       483\n",
      "\n",
      "    accuracy                           0.29      3476\n",
      "   macro avg       0.29      0.27      0.27      3476\n",
      "weighted avg       0.29      0.29      0.28      3476\n",
      "\n",
      "Confusion Matrix:\n",
      "[[208  44 139  37  16  70  40]\n",
      " [106  95  85  25  25  39  29]\n",
      " [134  37 291  65  24  63  63]\n",
      " [ 78  20 139  87  34  49  48]\n",
      " [ 59  22  85  42  81  30  55]\n",
      " [101  35 137  58  31 112  55]\n",
      " [ 83  34  92  63  37  57 117]]\n",
      "Precision: 0.2860\n",
      "Recall: 0.2851\n",
      "F1 Score: 0.2788\n"
     ]
    }
   ],
   "source": [
    "from sklearn.metrics import classification_report, confusion_matrix, accuracy_score, precision_score, recall_score, f1_score\n",
    "\n",
    "# Predict on the test set\n",
    "y_pred = best_model.predict(X_test)\n",
    "\n",
    "# Calculate Accuracy\n",
    "accuracy = accuracy_score(y_test, y_pred)\n",
    "print(f\"Accuracy: {accuracy:.4f}\")\n",
    "\n",
    "# Classification Report\n",
    "print(\"Classification Report:\")\n",
    "print(classification_report(y_test, y_pred))\n",
    "\n",
    "# Confusion Matrix\n",
    "conf_matrix = confusion_matrix(y_test, y_pred)\n",
    "print(\"Confusion Matrix:\")\n",
    "print(conf_matrix)\n",
    "\n",
    "# Precision, Recall, F1 Score for each class (Offense Type)\n",
    "precision = precision_score(y_test, y_pred, average='weighted')\n",
    "recall = recall_score(y_test, y_pred, average='weighted')\n",
    "f1 = f1_score(y_test, y_pred, average='weighted')\n",
    "\n",
    "print(f\"Precision: {precision:.4f}\")\n",
    "print(f\"Recall: {recall:.4f}\")\n",
    "print(f\"F1 Score: {f1:.4f}\")\n"
   ]
  },
  {
   "cell_type": "markdown",
   "id": "ddd8ae38",
   "metadata": {
    "papermill": {
     "duration": 0.011305,
     "end_time": "2025-05-04T01:08:52.074777",
     "exception": false,
     "start_time": "2025-05-04T01:08:52.063472",
     "status": "completed"
    },
    "tags": []
   },
   "source": [
    "#### For Logistic Regression (Coefficient Interpretation)\n",
    "\n",
    "For Logistic Regression, the model coefficients can help us understand how each feature affects the likelihood of an offense happening. A positive coefficient indicates a feature increases the likelihood of the offense, and a negative coefficient indicates the opposite."
   ]
  },
  {
   "cell_type": "code",
   "execution_count": 25,
   "id": "9cadcc3e",
   "metadata": {
    "execution": {
     "iopub.execute_input": "2025-05-04T01:08:52.098649Z",
     "iopub.status.busy": "2025-05-04T01:08:52.098095Z",
     "iopub.status.idle": "2025-05-04T01:08:52.103049Z",
     "shell.execute_reply": "2025-05-04T01:08:52.102476Z"
    },
    "papermill": {
     "duration": 0.018044,
     "end_time": "2025-05-04T01:08:52.104055",
     "exception": false,
     "start_time": "2025-05-04T01:08:52.086011",
     "status": "completed"
    },
    "tags": []
   },
   "outputs": [],
   "source": [
    "if isinstance(best_model, LogisticRegression):\n",
    "    # Logistic regression coefficients\n",
    "    coef_df = pd.DataFrame({\n",
    "        'Feature': X.columns,\n",
    "        'Coefficient': best_model.coef_[0]\n",
    "    })\n",
    "    coef_df['AbsCoefficient'] = coef_df['Coefficient'].abs()\n",
    "    coef_df = coef_df.sort_values(by='AbsCoefficient', ascending=False)\n",
    "    \n",
    "    # Plotting the coefficients\n",
    "    plt.figure(figsize=(10, 6))\n",
    "    sns.barplot(x='AbsCoefficient', y='Feature', data=coef_df)\n",
    "    plt.title(\"Logistic Regression Coefficients Impact\")\n",
    "    plt.show()\n",
    "\n",
    "    # Print the top 5 most impactful features (by absolute coefficient value)\n",
    "    print(\"Top 5 most impactful features based on coefficients:\")\n",
    "    print(coef_df.head())\n"
   ]
  },
  {
   "cell_type": "markdown",
   "id": "6315d9dc",
   "metadata": {
    "papermill": {
     "duration": 0.011067,
     "end_time": "2025-05-04T01:08:52.126440",
     "exception": false,
     "start_time": "2025-05-04T01:08:52.115373",
     "status": "completed"
    },
    "tags": []
   },
   "source": [
    "Explanation of Output:\n",
    "\n",
    "Feature Importance (Random Forest/Decision Tree): The bar plot will show how important each feature is in the decision-making process. Features at the top of the list are the most influential in predicting the occurrence of offenses.\n",
    "\n",
    "Logistic Regression Coefficients: The bar plot will show the magnitude of the coefficients for each feature. Features with larger absolute values (either positive or negative) have a stronger impact on the model’s predictions. Positive coefficients increase the probability of an offense, while negative coefficients decrease it."
   ]
  },
  {
   "cell_type": "markdown",
   "id": "3130cece",
   "metadata": {
    "papermill": {
     "duration": 0.011137,
     "end_time": "2025-05-04T01:08:52.148863",
     "exception": false,
     "start_time": "2025-05-04T01:08:52.137726",
     "status": "completed"
    },
    "tags": []
   },
   "source": []
  }
 ],
 "metadata": {
  "kernelspec": {
   "display_name": "Python 3",
   "language": "python",
   "name": "python3"
  },
  "language_info": {
   "codemirror_mode": {
    "name": "ipython",
    "version": 3
   },
   "file_extension": ".py",
   "mimetype": "text/x-python",
   "name": "python",
   "nbconvert_exporter": "python",
   "pygments_lexer": "ipython3",
   "version": "3.9.22"
  },
  "papermill": {
   "default_parameters": {},
   "duration": 76.158427,
   "end_time": "2025-05-04T01:08:52.676682",
   "environment_variables": {},
   "exception": null,
   "input_path": "notebook/Crime Data.ipynb",
   "output_path": "notebook/Crime Data_output.ipynb",
   "parameters": {},
   "start_time": "2025-05-04T01:07:36.518255",
   "version": "2.6.0"
  }
 },
 "nbformat": 4,
 "nbformat_minor": 5
}