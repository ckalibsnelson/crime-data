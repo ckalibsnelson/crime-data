{
 "cells": [
  {
   "cell_type": "markdown",
   "id": "735568af",
   "metadata": {
    "papermill": {
     "duration": 0.006798,
     "end_time": "2025-04-14T01:02:17.459245",
     "exception": false,
     "start_time": "2025-04-14T01:02:17.452447",
     "status": "completed"
    },
    "tags": []
   },
   "source": [
    "# Charlottesville Open Data Porttal: Crime Data"
   ]
  },
  {
   "cell_type": "markdown",
   "id": "b4f7a18f",
   "metadata": {
    "papermill": {
     "duration": 0.005018,
     "end_time": "2025-04-14T01:02:17.469817",
     "exception": false,
     "start_time": "2025-04-14T01:02:17.464799",
     "status": "completed"
    },
    "tags": []
   },
   "source": [
    "## Import Relevant Librarires & Set WD"
   ]
  },
  {
   "cell_type": "code",
   "execution_count": 1,
   "id": "ff88a0a9",
   "metadata": {
    "execution": {
     "iopub.execute_input": "2025-04-14T01:02:17.481418Z",
     "iopub.status.busy": "2025-04-14T01:02:17.480958Z",
     "iopub.status.idle": "2025-04-14T01:02:18.034232Z",
     "shell.execute_reply": "2025-04-14T01:02:18.033600Z"
    },
    "papermill": {
     "duration": 0.560757,
     "end_time": "2025-04-14T01:02:18.035660",
     "exception": false,
     "start_time": "2025-04-14T01:02:17.474903",
     "status": "completed"
    },
    "tags": []
   },
   "outputs": [],
   "source": [
    "import requests\n",
    "import pandas as pd\n",
    "import numpy as np\n",
    "import pickle\n",
    "import googlemaps\n",
    "import plotly.express as px\n",
    "from geopy.geocoders import Nominatim\n",
    "import time\n",
    "from dotenv import load_dotenv\n",
    "import os\n",
    "\n",
    "env_path = os.path.join(\"..\", \".env\")\n",
    "#print(\"Looking for .env file at:\", os.path.abspath(env_path))\n",
    "load_dotenv(dotenv_path=env_path)\n",
    "\n",
    "# Retrieve the variables\n",
    "GOOGLE_API_KEY = os.getenv(\"GOOGLE_API_KEY\")\n",
    "WORKING_DIR = os.getenv(\"WORKING_DIR\")\n",
    "\n",
    "if GOOGLE_API_KEY is None or WORKING_DIR is None:\n",
    "    raise RuntimeError(\"No configuration found. Please ensure that your .env file exists with the required variables, or create a local config.py file.\")\n",
    "\n",
    "#print(\"Google API Key:\", GOOGLE_API_KEY)\n",
    "#print(\"Working Directory:\", WORKING_DIR)"
   ]
  },
  {
   "cell_type": "markdown",
   "id": "37a33768",
   "metadata": {
    "papermill": {
     "duration": 0.005054,
     "end_time": "2025-04-14T01:02:18.046348",
     "exception": false,
     "start_time": "2025-04-14T01:02:18.041294",
     "status": "completed"
    },
    "tags": []
   },
   "source": [
    "## Import Data\n",
    "\n",
    "URL: https://opendata.charlottesville.org/datasets/charlottesville::crime-data/about"
   ]
  },
  {
   "cell_type": "code",
   "execution_count": 2,
   "id": "f67e1ab4",
   "metadata": {
    "execution": {
     "iopub.execute_input": "2025-04-14T01:02:18.058177Z",
     "iopub.status.busy": "2025-04-14T01:02:18.057410Z",
     "iopub.status.idle": "2025-04-14T01:03:18.734495Z",
     "shell.execute_reply": "2025-04-14T01:03:18.733787Z"
    },
    "papermill": {
     "duration": 60.688977,
     "end_time": "2025-04-14T01:03:18.740448",
     "exception": false,
     "start_time": "2025-04-14T01:02:18.051471",
     "status": "completed"
    },
    "tags": []
   },
   "outputs": [
    {
     "name": "stdout",
     "output_type": "stream",
     "text": [
      "Total records imported: 25165\n"
     ]
    }
   ],
   "source": [
    "# Define the endpoint and initial parameters.\n",
    "url = \"https://gisweb.charlottesville.org/arcgis/rest/services/OpenData_2/MapServer/6/query\"\n",
    "params = {\n",
    "    \"where\": \"1=1\",\n",
    "    \"outFields\": \"*\",\n",
    "    \"outSR\": 4326,\n",
    "    \"f\": \"json\",\n",
    "    \"resultOffset\": 0,       # Starting index for results\n",
    "    \"resultRecordCount\": 10000  # Maximum records per batch (if allowed by the API)\n",
    "}\n",
    "\n",
    "records = []\n",
    "\n",
    "while True:\n",
    "    response = requests.get(url, params=params)\n",
    "    response.raise_for_status()\n",
    "    data = response.json()\n",
    "    \n",
    "    # Get the current batch of features.\n",
    "    features = data.get(\"features\", [])\n",
    "    if not features:\n",
    "        break\n",
    "\n",
    "    # Extract the attributes from the features.\n",
    "    batch_records = [feature.get(\"attributes\", {}) for feature in features]\n",
    "    records.extend(batch_records)\n",
    "    \n",
    "    # If the batch size is less than the requested count, we reached the end.\n",
    "    if len(features) < params[\"resultRecordCount\"]:\n",
    "        break\n",
    "\n",
    "    # Update the resultOffset for the next batch.\n",
    "    params[\"resultOffset\"] += params[\"resultRecordCount\"]\n",
    "\n",
    "# Create a DataFrame from the combined records.\n",
    "df = pd.DataFrame(records)\n",
    "print(\"Total records imported:\", len(df))\n"
   ]
  },
  {
   "cell_type": "code",
   "execution_count": 3,
   "id": "fccd239d",
   "metadata": {
    "execution": {
     "iopub.execute_input": "2025-04-14T01:03:18.752847Z",
     "iopub.status.busy": "2025-04-14T01:03:18.752240Z",
     "iopub.status.idle": "2025-04-14T01:03:18.765274Z",
     "shell.execute_reply": "2025-04-14T01:03:18.764684Z"
    },
    "papermill": {
     "duration": 0.02041,
     "end_time": "2025-04-14T01:03:18.766385",
     "exception": false,
     "start_time": "2025-04-14T01:03:18.745975",
     "status": "completed"
    },
    "tags": []
   },
   "outputs": [
    {
     "data": {
      "text/html": [
       "<div>\n",
       "<style scoped>\n",
       "    .dataframe tbody tr th:only-of-type {\n",
       "        vertical-align: middle;\n",
       "    }\n",
       "\n",
       "    .dataframe tbody tr th {\n",
       "        vertical-align: top;\n",
       "    }\n",
       "\n",
       "    .dataframe thead th {\n",
       "        text-align: right;\n",
       "    }\n",
       "</style>\n",
       "<table border=\"1\" class=\"dataframe\">\n",
       "  <thead>\n",
       "    <tr style=\"text-align: right;\">\n",
       "      <th></th>\n",
       "      <th>RecordID</th>\n",
       "      <th>Offense</th>\n",
       "      <th>IncidentID</th>\n",
       "      <th>BlockNumber</th>\n",
       "      <th>StreetName</th>\n",
       "      <th>Agency</th>\n",
       "      <th>DateReported</th>\n",
       "      <th>HourReported</th>\n",
       "      <th>ReportingOfficer</th>\n",
       "    </tr>\n",
       "  </thead>\n",
       "  <tbody>\n",
       "    <tr>\n",
       "      <th>0</th>\n",
       "      <td>1</td>\n",
       "      <td>Assist Citizen - Mental/TDO/ECO</td>\n",
       "      <td>202500011671</td>\n",
       "      <td>1000</td>\n",
       "      <td>ALTAVISTA AVE, B</td>\n",
       "      <td>CPD</td>\n",
       "      <td>1744415540000</td>\n",
       "      <td>1952</td>\n",
       "      <td>Darby, Michael</td>\n",
       "    </tr>\n",
       "    <tr>\n",
       "      <th>1</th>\n",
       "      <td>2</td>\n",
       "      <td>Larceny - Shoplifitng</td>\n",
       "      <td>202500011670</td>\n",
       "      <td>1200</td>\n",
       "      <td>EMMET ST N, 120</td>\n",
       "      <td>CPD</td>\n",
       "      <td>1744414062000</td>\n",
       "      <td>1927</td>\n",
       "      <td>Whitfield, Dylan</td>\n",
       "    </tr>\n",
       "    <tr>\n",
       "      <th>2</th>\n",
       "      <td>3</td>\n",
       "      <td>Hit and Run</td>\n",
       "      <td>202500011664</td>\n",
       "      <td></td>\n",
       "      <td>5TH ST SW @ RIDGE ST</td>\n",
       "      <td>CPD</td>\n",
       "      <td>1744411963000</td>\n",
       "      <td>1852</td>\n",
       "      <td>Venereo, Arturo</td>\n",
       "    </tr>\n",
       "    <tr>\n",
       "      <th>3</th>\n",
       "      <td>4</td>\n",
       "      <td>Disorderly Conduct</td>\n",
       "      <td>202500011647</td>\n",
       "      <td>1600</td>\n",
       "      <td>EMMET ST N</td>\n",
       "      <td>CPD</td>\n",
       "      <td>1744405625000</td>\n",
       "      <td>1707</td>\n",
       "      <td>Whitfield, Dylan</td>\n",
       "    </tr>\n",
       "    <tr>\n",
       "      <th>4</th>\n",
       "      <td>5</td>\n",
       "      <td>Hit and Run</td>\n",
       "      <td>202500011650</td>\n",
       "      <td>300</td>\n",
       "      <td>10TH ST NW</td>\n",
       "      <td>CPD</td>\n",
       "      <td>1744405196000</td>\n",
       "      <td>1659</td>\n",
       "      <td>Rigsby, Lloyd</td>\n",
       "    </tr>\n",
       "  </tbody>\n",
       "</table>\n",
       "</div>"
      ],
      "text/plain": [
       "   RecordID                          Offense    IncidentID BlockNumber  \\\n",
       "0         1  Assist Citizen - Mental/TDO/ECO  202500011671        1000   \n",
       "1         2            Larceny - Shoplifitng  202500011670        1200   \n",
       "2         3                      Hit and Run  202500011664               \n",
       "3         4               Disorderly Conduct  202500011647        1600   \n",
       "4         5                      Hit and Run  202500011650         300   \n",
       "\n",
       "             StreetName Agency   DateReported HourReported  ReportingOfficer  \n",
       "0      ALTAVISTA AVE, B    CPD  1744415540000         1952    Darby, Michael  \n",
       "1       EMMET ST N, 120    CPD  1744414062000         1927  Whitfield, Dylan  \n",
       "2  5TH ST SW @ RIDGE ST    CPD  1744411963000         1852   Venereo, Arturo  \n",
       "3            EMMET ST N    CPD  1744405625000         1707  Whitfield, Dylan  \n",
       "4            10TH ST NW    CPD  1744405196000         1659     Rigsby, Lloyd  "
      ]
     },
     "execution_count": 3,
     "metadata": {},
     "output_type": "execute_result"
    }
   ],
   "source": [
    "df.head()"
   ]
  },
  {
   "cell_type": "code",
   "execution_count": 4,
   "id": "1e8765bf",
   "metadata": {
    "execution": {
     "iopub.execute_input": "2025-04-14T01:03:18.779075Z",
     "iopub.status.busy": "2025-04-14T01:03:18.778535Z",
     "iopub.status.idle": "2025-04-14T01:03:18.783311Z",
     "shell.execute_reply": "2025-04-14T01:03:18.782757Z"
    },
    "papermill": {
     "duration": 0.012238,
     "end_time": "2025-04-14T01:03:18.784323",
     "exception": false,
     "start_time": "2025-04-14T01:03:18.772085",
     "status": "completed"
    },
    "tags": []
   },
   "outputs": [
    {
     "data": {
      "text/plain": [
       "Index(['RecordID', 'Offense', 'IncidentID', 'BlockNumber', 'StreetName',\n",
       "       'Agency', 'DateReported', 'HourReported', 'ReportingOfficer'],\n",
       "      dtype='object')"
      ]
     },
     "execution_count": 4,
     "metadata": {},
     "output_type": "execute_result"
    }
   ],
   "source": [
    "df.columns"
   ]
  },
  {
   "cell_type": "code",
   "execution_count": 5,
   "id": "0ff43585",
   "metadata": {
    "execution": {
     "iopub.execute_input": "2025-04-14T01:03:18.797245Z",
     "iopub.status.busy": "2025-04-14T01:03:18.796789Z",
     "iopub.status.idle": "2025-04-14T01:03:18.823759Z",
     "shell.execute_reply": "2025-04-14T01:03:18.823096Z"
    },
    "papermill": {
     "duration": 0.034812,
     "end_time": "2025-04-14T01:03:18.824873",
     "exception": false,
     "start_time": "2025-04-14T01:03:18.790061",
     "status": "completed"
    },
    "tags": []
   },
   "outputs": [
    {
     "name": "stdout",
     "output_type": "stream",
     "text": [
      "<class 'pandas.core.frame.DataFrame'>\n",
      "RangeIndex: 25165 entries, 0 to 25164\n",
      "Data columns (total 9 columns):\n",
      " #   Column            Non-Null Count  Dtype \n",
      "---  ------            --------------  ----- \n",
      " 0   RecordID          25165 non-null  int64 \n",
      " 1   Offense           25165 non-null  object\n",
      " 2   IncidentID        25165 non-null  object\n",
      " 3   BlockNumber       25165 non-null  object\n",
      " 4   StreetName        25165 non-null  object\n",
      " 5   Agency            25165 non-null  object\n",
      " 6   DateReported      25165 non-null  int64 \n",
      " 7   HourReported      25165 non-null  object\n",
      " 8   ReportingOfficer  25148 non-null  object\n",
      "dtypes: int64(2), object(7)\n",
      "memory usage: 1.7+ MB\n"
     ]
    }
   ],
   "source": [
    "df.info()"
   ]
  },
  {
   "cell_type": "markdown",
   "id": "538de6a9",
   "metadata": {
    "papermill": {
     "duration": 0.005949,
     "end_time": "2025-04-14T01:03:18.836899",
     "exception": false,
     "start_time": "2025-04-14T01:03:18.830950",
     "status": "completed"
    },
    "tags": []
   },
   "source": [
    "### Missing Values"
   ]
  },
  {
   "cell_type": "code",
   "execution_count": 6,
   "id": "1ed7256c",
   "metadata": {
    "execution": {
     "iopub.execute_input": "2025-04-14T01:03:18.849886Z",
     "iopub.status.busy": "2025-04-14T01:03:18.849354Z",
     "iopub.status.idle": "2025-04-14T01:03:18.876349Z",
     "shell.execute_reply": "2025-04-14T01:03:18.875578Z"
    },
    "papermill": {
     "duration": 0.034816,
     "end_time": "2025-04-14T01:03:18.877395",
     "exception": false,
     "start_time": "2025-04-14T01:03:18.842579",
     "status": "completed"
    },
    "tags": []
   },
   "outputs": [
    {
     "name": "stdout",
     "output_type": "stream",
     "text": [
      "                  MissingCount  MissingPercentage\n",
      "RecordID                     0               0.00\n",
      "Offense                      0               0.00\n",
      "IncidentID                   0               0.00\n",
      "BlockNumber                  0               0.00\n",
      "StreetName                   0               0.00\n",
      "Agency                       0               0.00\n",
      "DateReported                 0               0.00\n",
      "HourReported                 0               0.00\n",
      "ReportingOfficer            17               0.07\n"
     ]
    }
   ],
   "source": [
    "def missing_percentage(df):\n",
    "    \"\"\"\n",
    "    Returns a DataFrame with the count and percentage of missing values for each column.\n",
    "    \n",
    "    Parameters:\n",
    "        df (pd.DataFrame): The input DataFrame.\n",
    "    \n",
    "    Returns:\n",
    "        pd.DataFrame: A DataFrame with columns 'MissingCount' and 'MissingPercentage'.\n",
    "    \"\"\"\n",
    "    total_rows = len(df)\n",
    "    missing_count = df.isnull().sum()\n",
    "    missing_percent = (missing_count / total_rows) * 100\n",
    "    \n",
    "    result = pd.DataFrame({\n",
    "        'MissingCount': missing_count,\n",
    "        'MissingPercentage': missing_percent.round(2)\n",
    "    })\n",
    "    \n",
    "    return result\n",
    "\n",
    "# Example usage:\n",
    "missing_info = missing_percentage(df)\n",
    "print(missing_info)\n"
   ]
  },
  {
   "cell_type": "markdown",
   "id": "f5a49823",
   "metadata": {
    "papermill": {
     "duration": 0.005972,
     "end_time": "2025-04-14T01:03:18.889509",
     "exception": false,
     "start_time": "2025-04-14T01:03:18.883537",
     "status": "completed"
    },
    "tags": []
   },
   "source": [
    "## Data Preparation"
   ]
  },
  {
   "cell_type": "markdown",
   "id": "1caee8bd",
   "metadata": {
    "papermill": {
     "duration": 0.005586,
     "end_time": "2025-04-14T01:03:18.900800",
     "exception": false,
     "start_time": "2025-04-14T01:03:18.895214",
     "status": "completed"
    },
    "tags": []
   },
   "source": [
    "### Data Conversion"
   ]
  },
  {
   "cell_type": "code",
   "execution_count": 7,
   "id": "bd5a743d",
   "metadata": {
    "execution": {
     "iopub.execute_input": "2025-04-14T01:03:18.913784Z",
     "iopub.status.busy": "2025-04-14T01:03:18.913117Z",
     "iopub.status.idle": "2025-04-14T01:03:19.289917Z",
     "shell.execute_reply": "2025-04-14T01:03:19.289172Z"
    },
    "papermill": {
     "duration": 0.384658,
     "end_time": "2025-04-14T01:03:19.291059",
     "exception": false,
     "start_time": "2025-04-14T01:03:18.906401",
     "status": "completed"
    },
    "tags": []
   },
   "outputs": [
    {
     "data": {
      "text/html": [
       "<div>\n",
       "<style scoped>\n",
       "    .dataframe tbody tr th:only-of-type {\n",
       "        vertical-align: middle;\n",
       "    }\n",
       "\n",
       "    .dataframe tbody tr th {\n",
       "        vertical-align: top;\n",
       "    }\n",
       "\n",
       "    .dataframe thead th {\n",
       "        text-align: right;\n",
       "    }\n",
       "</style>\n",
       "<table border=\"1\" class=\"dataframe\">\n",
       "  <thead>\n",
       "    <tr style=\"text-align: right;\">\n",
       "      <th></th>\n",
       "      <th>RecordID</th>\n",
       "      <th>Offense</th>\n",
       "      <th>IncidentID</th>\n",
       "      <th>BlockNumber</th>\n",
       "      <th>StreetName</th>\n",
       "      <th>Agency</th>\n",
       "      <th>HourReported</th>\n",
       "      <th>ReportingOfficer</th>\n",
       "      <th>Date</th>\n",
       "      <th>DateString</th>\n",
       "      <th>DayOfWeek</th>\n",
       "      <th>Weekend</th>\n",
       "      <th>Season</th>\n",
       "      <th>HourAMPM</th>\n",
       "      <th>TimeOfDay</th>\n",
       "    </tr>\n",
       "  </thead>\n",
       "  <tbody>\n",
       "    <tr>\n",
       "      <th>0</th>\n",
       "      <td>1</td>\n",
       "      <td>Assist Citizen - Mental/TDO/ECO</td>\n",
       "      <td>202500011671</td>\n",
       "      <td>1000</td>\n",
       "      <td>ALTAVISTA AVE, B</td>\n",
       "      <td>CPD</td>\n",
       "      <td>1952</td>\n",
       "      <td>Darby, Michael</td>\n",
       "      <td>2025-04-11 19:52:20</td>\n",
       "      <td>2025-04-11 07:52:20 PM</td>\n",
       "      <td>Friday</td>\n",
       "      <td>False</td>\n",
       "      <td>Spring</td>\n",
       "      <td>07:52 PM</td>\n",
       "      <td>Evening</td>\n",
       "    </tr>\n",
       "    <tr>\n",
       "      <th>1</th>\n",
       "      <td>2</td>\n",
       "      <td>Larceny - Shoplifitng</td>\n",
       "      <td>202500011670</td>\n",
       "      <td>1200</td>\n",
       "      <td>EMMET ST N, 120</td>\n",
       "      <td>CPD</td>\n",
       "      <td>1927</td>\n",
       "      <td>Whitfield, Dylan</td>\n",
       "      <td>2025-04-11 19:27:42</td>\n",
       "      <td>2025-04-11 07:27:42 PM</td>\n",
       "      <td>Friday</td>\n",
       "      <td>False</td>\n",
       "      <td>Spring</td>\n",
       "      <td>07:27 PM</td>\n",
       "      <td>Evening</td>\n",
       "    </tr>\n",
       "    <tr>\n",
       "      <th>2</th>\n",
       "      <td>3</td>\n",
       "      <td>Hit and Run</td>\n",
       "      <td>202500011664</td>\n",
       "      <td></td>\n",
       "      <td>5TH ST SW @ RIDGE ST</td>\n",
       "      <td>CPD</td>\n",
       "      <td>1852</td>\n",
       "      <td>Venereo, Arturo</td>\n",
       "      <td>2025-04-11 18:52:43</td>\n",
       "      <td>2025-04-11 06:52:43 PM</td>\n",
       "      <td>Friday</td>\n",
       "      <td>False</td>\n",
       "      <td>Spring</td>\n",
       "      <td>06:52 PM</td>\n",
       "      <td>Evening</td>\n",
       "    </tr>\n",
       "    <tr>\n",
       "      <th>3</th>\n",
       "      <td>4</td>\n",
       "      <td>Disorderly Conduct</td>\n",
       "      <td>202500011647</td>\n",
       "      <td>1600</td>\n",
       "      <td>EMMET ST N</td>\n",
       "      <td>CPD</td>\n",
       "      <td>1707</td>\n",
       "      <td>Whitfield, Dylan</td>\n",
       "      <td>2025-04-11 17:07:05</td>\n",
       "      <td>2025-04-11 05:07:05 PM</td>\n",
       "      <td>Friday</td>\n",
       "      <td>False</td>\n",
       "      <td>Spring</td>\n",
       "      <td>05:07 PM</td>\n",
       "      <td>Evening</td>\n",
       "    </tr>\n",
       "    <tr>\n",
       "      <th>4</th>\n",
       "      <td>5</td>\n",
       "      <td>Hit and Run</td>\n",
       "      <td>202500011650</td>\n",
       "      <td>300</td>\n",
       "      <td>10TH ST NW</td>\n",
       "      <td>CPD</td>\n",
       "      <td>1659</td>\n",
       "      <td>Rigsby, Lloyd</td>\n",
       "      <td>2025-04-11 16:59:56</td>\n",
       "      <td>2025-04-11 04:59:56 PM</td>\n",
       "      <td>Friday</td>\n",
       "      <td>False</td>\n",
       "      <td>Spring</td>\n",
       "      <td>04:59 PM</td>\n",
       "      <td>Afternoon</td>\n",
       "    </tr>\n",
       "  </tbody>\n",
       "</table>\n",
       "</div>"
      ],
      "text/plain": [
       "   RecordID                          Offense    IncidentID BlockNumber  \\\n",
       "0         1  Assist Citizen - Mental/TDO/ECO  202500011671        1000   \n",
       "1         2            Larceny - Shoplifitng  202500011670        1200   \n",
       "2         3                      Hit and Run  202500011664               \n",
       "3         4               Disorderly Conduct  202500011647        1600   \n",
       "4         5                      Hit and Run  202500011650         300   \n",
       "\n",
       "             StreetName Agency HourReported  ReportingOfficer  \\\n",
       "0      ALTAVISTA AVE, B    CPD         1952    Darby, Michael   \n",
       "1       EMMET ST N, 120    CPD         1927  Whitfield, Dylan   \n",
       "2  5TH ST SW @ RIDGE ST    CPD         1852   Venereo, Arturo   \n",
       "3            EMMET ST N    CPD         1707  Whitfield, Dylan   \n",
       "4            10TH ST NW    CPD         1659     Rigsby, Lloyd   \n",
       "\n",
       "                 Date              DateString DayOfWeek  Weekend  Season  \\\n",
       "0 2025-04-11 19:52:20  2025-04-11 07:52:20 PM    Friday    False  Spring   \n",
       "1 2025-04-11 19:27:42  2025-04-11 07:27:42 PM    Friday    False  Spring   \n",
       "2 2025-04-11 18:52:43  2025-04-11 06:52:43 PM    Friday    False  Spring   \n",
       "3 2025-04-11 17:07:05  2025-04-11 05:07:05 PM    Friday    False  Spring   \n",
       "4 2025-04-11 16:59:56  2025-04-11 04:59:56 PM    Friday    False  Spring   \n",
       "\n",
       "   HourAMPM  TimeOfDay  \n",
       "0  07:52 PM    Evening  \n",
       "1  07:27 PM    Evening  \n",
       "2  06:52 PM    Evening  \n",
       "3  05:07 PM    Evening  \n",
       "4  04:59 PM  Afternoon  "
      ]
     },
     "execution_count": 7,
     "metadata": {},
     "output_type": "execute_result"
    }
   ],
   "source": [
    "def convert_and_categorize_datereported(df, col='DateReported'):\n",
    "    \"\"\"\n",
    "    Converts an epoch (in milliseconds) date column into a timezone-aware datetime,\n",
    "    converts it to Eastern Time, and then creates columns for day-of-week, weekend flag,\n",
    "    season, 12-hour formatted time, and time-of-day. Keeps both a real datetime column\n",
    "    (Date) and a string representation (DateString).\n",
    "    \"\"\"\n",
    "    import pandas as pd\n",
    "\n",
    "    # Convert the epoch timestamp to a pandas datetime object as UTC, then convert to US/Eastern.\n",
    "    df[\"DateReported_dt\"] = (\n",
    "        pd.to_datetime(df[col], unit=\"ms\", errors=\"coerce\", utc=True)\n",
    "        .dt.tz_convert(\"US/Eastern\")\n",
    "    )\n",
    "    \n",
    "    # Create a true datetime column (remove timezone if you prefer naive datetime)\n",
    "    df[\"Date\"] = df[\"DateReported_dt\"].dt.tz_localize(None)\n",
    "\n",
    "    # Optionally, create a separate string-formatted column\n",
    "    df[\"DateString\"] = df[\"DateReported_dt\"].dt.strftime(\"%Y-%m-%d %I:%M:%S %p\")\n",
    "    \n",
    "    # DayOfWeek\n",
    "    df[\"DayOfWeek\"] = df[\"DateReported_dt\"].dt.day_name()\n",
    "    \n",
    "    # Weekend\n",
    "    df[\"Weekend\"] = df[\"DayOfWeek\"].isin([\"Saturday\", \"Sunday\"])\n",
    "    \n",
    "    # Helper function to determine the season\n",
    "    def get_season(dt):\n",
    "        month = dt.month\n",
    "        day = dt.day\n",
    "        # Approximate Northern Hemisphere season boundaries:\n",
    "        if (month == 12 and day >= 21) or (month < 3) or (month == 3 and day < 20):\n",
    "            return \"Winter\"\n",
    "        elif (month == 3 and day >= 20) or (month < 6) or (month == 6 and day < 21):\n",
    "            return \"Spring\"\n",
    "        elif (month == 6 and day >= 21) or (month < 9) or (month == 9 and day < 22):\n",
    "            return \"Summer\"\n",
    "        else:\n",
    "            return \"Autumn\"\n",
    "    \n",
    "    df[\"Season\"] = df[\"DateReported_dt\"].apply(get_season)\n",
    "    \n",
    "    # 12-hour formatted time (HourAMPM)\n",
    "    df[\"HourAMPM\"] = df[\"DateReported_dt\"].dt.strftime(\"%I:%M %p\")\n",
    "    \n",
    "    # Extract hour (0-23) for time-of-day\n",
    "    df[\"HourValue\"] = df[\"DateReported_dt\"].dt.hour\n",
    "    \n",
    "    def time_of_day(hour):\n",
    "        if pd.isnull(hour):\n",
    "            return None\n",
    "        if 5 <= hour < 12:\n",
    "            return \"Morning\"\n",
    "        elif 12 <= hour < 17:\n",
    "            return \"Afternoon\"\n",
    "        elif 17 <= hour < 21:\n",
    "            return \"Evening\"\n",
    "        else:\n",
    "            return \"Night\"\n",
    "    \n",
    "    df[\"TimeOfDay\"] = df[\"HourValue\"].apply(time_of_day)\n",
    "    \n",
    "    # Drop columns you no longer need\n",
    "    df.drop(columns=[col, \"DateReported_dt\", \"HourValue\"], inplace=True)\n",
    "    \n",
    "    return df\n",
    "\n",
    "# Example usage:\n",
    "df = convert_and_categorize_datereported(df)\n",
    "df.head()\n"
   ]
  },
  {
   "cell_type": "code",
   "execution_count": 8,
   "id": "4c9b290f",
   "metadata": {
    "execution": {
     "iopub.execute_input": "2025-04-14T01:03:19.304768Z",
     "iopub.status.busy": "2025-04-14T01:03:19.304303Z",
     "iopub.status.idle": "2025-04-14T01:03:19.335756Z",
     "shell.execute_reply": "2025-04-14T01:03:19.335112Z"
    },
    "papermill": {
     "duration": 0.039605,
     "end_time": "2025-04-14T01:03:19.336892",
     "exception": false,
     "start_time": "2025-04-14T01:03:19.297287",
     "status": "completed"
    },
    "tags": []
   },
   "outputs": [
    {
     "name": "stdout",
     "output_type": "stream",
     "text": [
      "<class 'pandas.core.frame.DataFrame'>\n",
      "RangeIndex: 25165 entries, 0 to 25164\n",
      "Data columns (total 15 columns):\n",
      " #   Column            Non-Null Count  Dtype         \n",
      "---  ------            --------------  -----         \n",
      " 0   RecordID          25165 non-null  int64         \n",
      " 1   Offense           25165 non-null  object        \n",
      " 2   IncidentID        25165 non-null  object        \n",
      " 3   BlockNumber       25165 non-null  object        \n",
      " 4   StreetName        25165 non-null  object        \n",
      " 5   Agency            25165 non-null  object        \n",
      " 6   HourReported      25165 non-null  object        \n",
      " 7   ReportingOfficer  25148 non-null  object        \n",
      " 8   Date              25165 non-null  datetime64[ns]\n",
      " 9   DateString        25165 non-null  object        \n",
      " 10  DayOfWeek         25165 non-null  object        \n",
      " 11  Weekend           25165 non-null  bool          \n",
      " 12  Season            25165 non-null  object        \n",
      " 13  HourAMPM          25165 non-null  object        \n",
      " 14  TimeOfDay         25165 non-null  object        \n",
      "dtypes: bool(1), datetime64[ns](1), int64(1), object(12)\n",
      "memory usage: 2.7+ MB\n"
     ]
    }
   ],
   "source": [
    "df.info()"
   ]
  },
  {
   "cell_type": "markdown",
   "id": "b27cd568",
   "metadata": {
    "papermill": {
     "duration": 0.006203,
     "end_time": "2025-04-14T01:03:19.349345",
     "exception": false,
     "start_time": "2025-04-14T01:03:19.343142",
     "status": "completed"
    },
    "tags": []
   },
   "source": [
    "### Coordinates"
   ]
  },
  {
   "cell_type": "code",
   "execution_count": 9,
   "id": "787835bd",
   "metadata": {
    "execution": {
     "iopub.execute_input": "2025-04-14T01:03:19.362986Z",
     "iopub.status.busy": "2025-04-14T01:03:19.362491Z",
     "iopub.status.idle": "2025-04-14T01:03:19.564611Z",
     "shell.execute_reply": "2025-04-14T01:03:19.564012Z"
    },
    "papermill": {
     "duration": 0.210371,
     "end_time": "2025-04-14T01:03:19.565754",
     "exception": false,
     "start_time": "2025-04-14T01:03:19.355383",
     "status": "completed"
    },
    "tags": []
   },
   "outputs": [
    {
     "name": "stdout",
     "output_type": "stream",
     "text": [
      "Loaded geocode cache.\n"
     ]
    },
    {
     "name": "stdout",
     "output_type": "stream",
     "text": [
      "Geocoded  9 1/2 ST NE: 38.0304692, -78.4737719\n",
      "Geocode cache updated and saved.\n"
     ]
    },
    {
     "data": {
      "text/html": [
       "<div>\n",
       "<style scoped>\n",
       "    .dataframe tbody tr th:only-of-type {\n",
       "        vertical-align: middle;\n",
       "    }\n",
       "\n",
       "    .dataframe tbody tr th {\n",
       "        vertical-align: top;\n",
       "    }\n",
       "\n",
       "    .dataframe thead th {\n",
       "        text-align: right;\n",
       "    }\n",
       "</style>\n",
       "<table border=\"1\" class=\"dataframe\">\n",
       "  <thead>\n",
       "    <tr style=\"text-align: right;\">\n",
       "      <th></th>\n",
       "      <th>RecordID</th>\n",
       "      <th>Offense</th>\n",
       "      <th>IncidentID</th>\n",
       "      <th>BlockNumber</th>\n",
       "      <th>StreetName</th>\n",
       "      <th>Agency</th>\n",
       "      <th>HourReported</th>\n",
       "      <th>ReportingOfficer</th>\n",
       "      <th>Date</th>\n",
       "      <th>DateString</th>\n",
       "      <th>DayOfWeek</th>\n",
       "      <th>Weekend</th>\n",
       "      <th>Season</th>\n",
       "      <th>HourAMPM</th>\n",
       "      <th>TimeOfDay</th>\n",
       "      <th>FullStreet</th>\n",
       "      <th>lat</th>\n",
       "      <th>lon</th>\n",
       "    </tr>\n",
       "  </thead>\n",
       "  <tbody>\n",
       "    <tr>\n",
       "      <th>0</th>\n",
       "      <td>1</td>\n",
       "      <td>Assist Citizen - Mental/TDO/ECO</td>\n",
       "      <td>202500011671</td>\n",
       "      <td>1000</td>\n",
       "      <td>ALTAVISTA AVE, B</td>\n",
       "      <td>CPD</td>\n",
       "      <td>1952</td>\n",
       "      <td>Darby, Michael</td>\n",
       "      <td>2025-04-11 19:52:20</td>\n",
       "      <td>2025-04-11 07:52:20 PM</td>\n",
       "      <td>Friday</td>\n",
       "      <td>False</td>\n",
       "      <td>Spring</td>\n",
       "      <td>07:52 PM</td>\n",
       "      <td>Evening</td>\n",
       "      <td>1000 ALTAVISTA AVE, B</td>\n",
       "      <td>38.018135</td>\n",
       "      <td>-78.477155</td>\n",
       "    </tr>\n",
       "    <tr>\n",
       "      <th>1</th>\n",
       "      <td>2</td>\n",
       "      <td>Larceny - Shoplifitng</td>\n",
       "      <td>202500011670</td>\n",
       "      <td>1200</td>\n",
       "      <td>EMMET ST N, 120</td>\n",
       "      <td>CPD</td>\n",
       "      <td>1927</td>\n",
       "      <td>Whitfield, Dylan</td>\n",
       "      <td>2025-04-11 19:27:42</td>\n",
       "      <td>2025-04-11 07:27:42 PM</td>\n",
       "      <td>Friday</td>\n",
       "      <td>False</td>\n",
       "      <td>Spring</td>\n",
       "      <td>07:27 PM</td>\n",
       "      <td>Evening</td>\n",
       "      <td>1200 EMMET ST N, 120</td>\n",
       "      <td>38.052917</td>\n",
       "      <td>-78.498591</td>\n",
       "    </tr>\n",
       "    <tr>\n",
       "      <th>2</th>\n",
       "      <td>3</td>\n",
       "      <td>Hit and Run</td>\n",
       "      <td>202500011664</td>\n",
       "      <td></td>\n",
       "      <td>5TH ST SW @ RIDGE ST</td>\n",
       "      <td>CPD</td>\n",
       "      <td>1852</td>\n",
       "      <td>Venereo, Arturo</td>\n",
       "      <td>2025-04-11 18:52:43</td>\n",
       "      <td>2025-04-11 06:52:43 PM</td>\n",
       "      <td>Friday</td>\n",
       "      <td>False</td>\n",
       "      <td>Spring</td>\n",
       "      <td>06:52 PM</td>\n",
       "      <td>Evening</td>\n",
       "      <td>5TH ST SW @ RIDGE ST</td>\n",
       "      <td>38.025896</td>\n",
       "      <td>-78.488972</td>\n",
       "    </tr>\n",
       "    <tr>\n",
       "      <th>3</th>\n",
       "      <td>4</td>\n",
       "      <td>Disorderly Conduct</td>\n",
       "      <td>202500011647</td>\n",
       "      <td>1600</td>\n",
       "      <td>EMMET ST N</td>\n",
       "      <td>CPD</td>\n",
       "      <td>1707</td>\n",
       "      <td>Whitfield, Dylan</td>\n",
       "      <td>2025-04-11 17:07:05</td>\n",
       "      <td>2025-04-11 05:07:05 PM</td>\n",
       "      <td>Friday</td>\n",
       "      <td>False</td>\n",
       "      <td>Spring</td>\n",
       "      <td>05:07 PM</td>\n",
       "      <td>Evening</td>\n",
       "      <td>1600 EMMET ST N</td>\n",
       "      <td>38.057947</td>\n",
       "      <td>-78.493911</td>\n",
       "    </tr>\n",
       "    <tr>\n",
       "      <th>4</th>\n",
       "      <td>5</td>\n",
       "      <td>Hit and Run</td>\n",
       "      <td>202500011650</td>\n",
       "      <td>300</td>\n",
       "      <td>10TH ST NW</td>\n",
       "      <td>CPD</td>\n",
       "      <td>1659</td>\n",
       "      <td>Rigsby, Lloyd</td>\n",
       "      <td>2025-04-11 16:59:56</td>\n",
       "      <td>2025-04-11 04:59:56 PM</td>\n",
       "      <td>Friday</td>\n",
       "      <td>False</td>\n",
       "      <td>Spring</td>\n",
       "      <td>04:59 PM</td>\n",
       "      <td>Afternoon</td>\n",
       "      <td>300 10TH ST NW</td>\n",
       "      <td>38.035243</td>\n",
       "      <td>-78.493177</td>\n",
       "    </tr>\n",
       "  </tbody>\n",
       "</table>\n",
       "</div>"
      ],
      "text/plain": [
       "   RecordID                          Offense    IncidentID BlockNumber  \\\n",
       "0         1  Assist Citizen - Mental/TDO/ECO  202500011671        1000   \n",
       "1         2            Larceny - Shoplifitng  202500011670        1200   \n",
       "2         3                      Hit and Run  202500011664               \n",
       "3         4               Disorderly Conduct  202500011647        1600   \n",
       "4         5                      Hit and Run  202500011650         300   \n",
       "\n",
       "             StreetName Agency HourReported  ReportingOfficer  \\\n",
       "0      ALTAVISTA AVE, B    CPD         1952    Darby, Michael   \n",
       "1       EMMET ST N, 120    CPD         1927  Whitfield, Dylan   \n",
       "2  5TH ST SW @ RIDGE ST    CPD         1852   Venereo, Arturo   \n",
       "3            EMMET ST N    CPD         1707  Whitfield, Dylan   \n",
       "4            10TH ST NW    CPD         1659     Rigsby, Lloyd   \n",
       "\n",
       "                 Date              DateString DayOfWeek  Weekend  Season  \\\n",
       "0 2025-04-11 19:52:20  2025-04-11 07:52:20 PM    Friday    False  Spring   \n",
       "1 2025-04-11 19:27:42  2025-04-11 07:27:42 PM    Friday    False  Spring   \n",
       "2 2025-04-11 18:52:43  2025-04-11 06:52:43 PM    Friday    False  Spring   \n",
       "3 2025-04-11 17:07:05  2025-04-11 05:07:05 PM    Friday    False  Spring   \n",
       "4 2025-04-11 16:59:56  2025-04-11 04:59:56 PM    Friday    False  Spring   \n",
       "\n",
       "   HourAMPM  TimeOfDay             FullStreet        lat        lon  \n",
       "0  07:52 PM    Evening  1000 ALTAVISTA AVE, B  38.018135 -78.477155  \n",
       "1  07:27 PM    Evening   1200 EMMET ST N, 120  38.052917 -78.498591  \n",
       "2  06:52 PM    Evening   5TH ST SW @ RIDGE ST  38.025896 -78.488972  \n",
       "3  05:07 PM    Evening        1600 EMMET ST N  38.057947 -78.493911  \n",
       "4  04:59 PM  Afternoon         300 10TH ST NW  38.035243 -78.493177  "
      ]
     },
     "execution_count": 9,
     "metadata": {},
     "output_type": "execute_result"
    }
   ],
   "source": [
    "# Combine BlockNumber and StreetName into a full address string\n",
    "df['FullStreet'] = df['BlockNumber'].astype(str) + \" \" + df['StreetName']\n",
    "\n",
    "# --- Step 1: Setup the Google Maps Client and Cache ---\n",
    "gmaps = googlemaps.Client(key=GOOGLE_API_KEY)\n",
    "\n",
    "# Try to load cached geocoding results if available.\n",
    "try:\n",
    "    with open(\"geocode_cache_google.pkl\", \"rb\") as f:\n",
    "        street_coords = pickle.load(f)\n",
    "    print(\"Loaded geocode cache.\")\n",
    "except FileNotFoundError:\n",
    "    street_coords = {}\n",
    "    print(\"No cache found; starting fresh.\")\n",
    "\n",
    "def geocode_address(address):\n",
    "    try:\n",
    "        # Append city and state to help geocoding\n",
    "        result = gmaps.geocode(f\"{address}, Charlottesville, VA\")\n",
    "        if result:\n",
    "            lat = result[0]['geometry']['location']['lat']\n",
    "            lon = result[0]['geometry']['location']['lng']\n",
    "            return lat, lon\n",
    "    except Exception as e:\n",
    "        print(f\"Error geocoding {address}: {e}\")\n",
    "    return None, None\n",
    "\n",
    "# --- Step 2: Geocode Only New Addresses ---\n",
    "unique_addresses = df['FullStreet'].unique()\n",
    "for address in unique_addresses:\n",
    "    if address not in street_coords:\n",
    "        lat, lon = geocode_address(address)\n",
    "        street_coords[address] = (lat, lon)\n",
    "        print(f\"Geocoded {address}: {lat}, {lon}\")\n",
    "\n",
    "# Save the updated cache to disk.\n",
    "with open(\"geocode_cache_google.pkl\", \"wb\") as f:\n",
    "    pickle.dump(street_coords, f)\n",
    "    print(\"Geocode cache updated and saved.\")\n",
    "\n",
    "# --- Step 3: Map Coordinates Back to DataFrame ---\n",
    "df['lat'] = df['FullStreet'].map(lambda s: street_coords.get(s, (None, None))[0])\n",
    "df['lon'] = df['FullStreet'].map(lambda s: street_coords.get(s, (None, None))[1])\n",
    "\n",
    "df.head()"
   ]
  },
  {
   "cell_type": "markdown",
   "id": "71355358",
   "metadata": {
    "papermill": {
     "duration": 0.006496,
     "end_time": "2025-04-14T01:03:19.579426",
     "exception": false,
     "start_time": "2025-04-14T01:03:19.572930",
     "status": "completed"
    },
    "tags": []
   },
   "source": [
    "### Neighborhood"
   ]
  },
  {
   "cell_type": "code",
   "execution_count": 10,
   "id": "322c1264",
   "metadata": {
    "execution": {
     "iopub.execute_input": "2025-04-14T01:03:19.593741Z",
     "iopub.status.busy": "2025-04-14T01:03:19.593173Z",
     "iopub.status.idle": "2025-04-14T01:03:19.862863Z",
     "shell.execute_reply": "2025-04-14T01:03:19.862129Z"
    },
    "papermill": {
     "duration": 0.278296,
     "end_time": "2025-04-14T01:03:19.864087",
     "exception": false,
     "start_time": "2025-04-14T01:03:19.585791",
     "status": "completed"
    },
    "tags": []
   },
   "outputs": [
    {
     "name": "stdout",
     "output_type": "stream",
     "text": [
      "Loaded neighborhood cache.\n"
     ]
    },
    {
     "data": {
      "text/html": [
       "<div>\n",
       "<style scoped>\n",
       "    .dataframe tbody tr th:only-of-type {\n",
       "        vertical-align: middle;\n",
       "    }\n",
       "\n",
       "    .dataframe tbody tr th {\n",
       "        vertical-align: top;\n",
       "    }\n",
       "\n",
       "    .dataframe thead th {\n",
       "        text-align: right;\n",
       "    }\n",
       "</style>\n",
       "<table border=\"1\" class=\"dataframe\">\n",
       "  <thead>\n",
       "    <tr style=\"text-align: right;\">\n",
       "      <th></th>\n",
       "      <th>RecordID</th>\n",
       "      <th>Offense</th>\n",
       "      <th>IncidentID</th>\n",
       "      <th>BlockNumber</th>\n",
       "      <th>StreetName</th>\n",
       "      <th>Agency</th>\n",
       "      <th>HourReported</th>\n",
       "      <th>ReportingOfficer</th>\n",
       "      <th>Date</th>\n",
       "      <th>DateString</th>\n",
       "      <th>DayOfWeek</th>\n",
       "      <th>Weekend</th>\n",
       "      <th>Season</th>\n",
       "      <th>HourAMPM</th>\n",
       "      <th>TimeOfDay</th>\n",
       "      <th>FullStreet</th>\n",
       "      <th>lat</th>\n",
       "      <th>lon</th>\n",
       "      <th>neighborhood</th>\n",
       "    </tr>\n",
       "  </thead>\n",
       "  <tbody>\n",
       "    <tr>\n",
       "      <th>0</th>\n",
       "      <td>1</td>\n",
       "      <td>Assist Citizen - Mental/TDO/ECO</td>\n",
       "      <td>202500011671</td>\n",
       "      <td>1000</td>\n",
       "      <td>ALTAVISTA AVE, B</td>\n",
       "      <td>CPD</td>\n",
       "      <td>1952</td>\n",
       "      <td>Darby, Michael</td>\n",
       "      <td>2025-04-11 19:52:20</td>\n",
       "      <td>2025-04-11 07:52:20 PM</td>\n",
       "      <td>Friday</td>\n",
       "      <td>False</td>\n",
       "      <td>Spring</td>\n",
       "      <td>07:52 PM</td>\n",
       "      <td>Evening</td>\n",
       "      <td>1000 ALTAVISTA AVE, B</td>\n",
       "      <td>38.018135</td>\n",
       "      <td>-78.477155</td>\n",
       "      <td>Belmont</td>\n",
       "    </tr>\n",
       "    <tr>\n",
       "      <th>1</th>\n",
       "      <td>2</td>\n",
       "      <td>Larceny - Shoplifitng</td>\n",
       "      <td>202500011670</td>\n",
       "      <td>1200</td>\n",
       "      <td>EMMET ST N, 120</td>\n",
       "      <td>CPD</td>\n",
       "      <td>1927</td>\n",
       "      <td>Whitfield, Dylan</td>\n",
       "      <td>2025-04-11 19:27:42</td>\n",
       "      <td>2025-04-11 07:27:42 PM</td>\n",
       "      <td>Friday</td>\n",
       "      <td>False</td>\n",
       "      <td>Spring</td>\n",
       "      <td>07:27 PM</td>\n",
       "      <td>Evening</td>\n",
       "      <td>1200 EMMET ST N, 120</td>\n",
       "      <td>38.052917</td>\n",
       "      <td>-78.498591</td>\n",
       "      <td>The Meadows</td>\n",
       "    </tr>\n",
       "    <tr>\n",
       "      <th>2</th>\n",
       "      <td>3</td>\n",
       "      <td>Hit and Run</td>\n",
       "      <td>202500011664</td>\n",
       "      <td></td>\n",
       "      <td>5TH ST SW @ RIDGE ST</td>\n",
       "      <td>CPD</td>\n",
       "      <td>1852</td>\n",
       "      <td>Venereo, Arturo</td>\n",
       "      <td>2025-04-11 18:52:43</td>\n",
       "      <td>2025-04-11 06:52:43 PM</td>\n",
       "      <td>Friday</td>\n",
       "      <td>False</td>\n",
       "      <td>Spring</td>\n",
       "      <td>06:52 PM</td>\n",
       "      <td>Evening</td>\n",
       "      <td>5TH ST SW @ RIDGE ST</td>\n",
       "      <td>38.025896</td>\n",
       "      <td>-78.488972</td>\n",
       "      <td>Fifeville</td>\n",
       "    </tr>\n",
       "    <tr>\n",
       "      <th>3</th>\n",
       "      <td>4</td>\n",
       "      <td>Disorderly Conduct</td>\n",
       "      <td>202500011647</td>\n",
       "      <td>1600</td>\n",
       "      <td>EMMET ST N</td>\n",
       "      <td>CPD</td>\n",
       "      <td>1707</td>\n",
       "      <td>Whitfield, Dylan</td>\n",
       "      <td>2025-04-11 17:07:05</td>\n",
       "      <td>2025-04-11 05:07:05 PM</td>\n",
       "      <td>Friday</td>\n",
       "      <td>False</td>\n",
       "      <td>Spring</td>\n",
       "      <td>05:07 PM</td>\n",
       "      <td>Evening</td>\n",
       "      <td>1600 EMMET ST N</td>\n",
       "      <td>38.057947</td>\n",
       "      <td>-78.493911</td>\n",
       "      <td>The Meadows</td>\n",
       "    </tr>\n",
       "    <tr>\n",
       "      <th>4</th>\n",
       "      <td>5</td>\n",
       "      <td>Hit and Run</td>\n",
       "      <td>202500011650</td>\n",
       "      <td>300</td>\n",
       "      <td>10TH ST NW</td>\n",
       "      <td>CPD</td>\n",
       "      <td>1659</td>\n",
       "      <td>Rigsby, Lloyd</td>\n",
       "      <td>2025-04-11 16:59:56</td>\n",
       "      <td>2025-04-11 04:59:56 PM</td>\n",
       "      <td>Friday</td>\n",
       "      <td>False</td>\n",
       "      <td>Spring</td>\n",
       "      <td>04:59 PM</td>\n",
       "      <td>Afternoon</td>\n",
       "      <td>300 10TH ST NW</td>\n",
       "      <td>38.035243</td>\n",
       "      <td>-78.493177</td>\n",
       "      <td>10th &amp; Page</td>\n",
       "    </tr>\n",
       "  </tbody>\n",
       "</table>\n",
       "</div>"
      ],
      "text/plain": [
       "   RecordID                          Offense    IncidentID BlockNumber  \\\n",
       "0         1  Assist Citizen - Mental/TDO/ECO  202500011671        1000   \n",
       "1         2            Larceny - Shoplifitng  202500011670        1200   \n",
       "2         3                      Hit and Run  202500011664               \n",
       "3         4               Disorderly Conduct  202500011647        1600   \n",
       "4         5                      Hit and Run  202500011650         300   \n",
       "\n",
       "             StreetName Agency HourReported  ReportingOfficer  \\\n",
       "0      ALTAVISTA AVE, B    CPD         1952    Darby, Michael   \n",
       "1       EMMET ST N, 120    CPD         1927  Whitfield, Dylan   \n",
       "2  5TH ST SW @ RIDGE ST    CPD         1852   Venereo, Arturo   \n",
       "3            EMMET ST N    CPD         1707  Whitfield, Dylan   \n",
       "4            10TH ST NW    CPD         1659     Rigsby, Lloyd   \n",
       "\n",
       "                 Date              DateString DayOfWeek  Weekend  Season  \\\n",
       "0 2025-04-11 19:52:20  2025-04-11 07:52:20 PM    Friday    False  Spring   \n",
       "1 2025-04-11 19:27:42  2025-04-11 07:27:42 PM    Friday    False  Spring   \n",
       "2 2025-04-11 18:52:43  2025-04-11 06:52:43 PM    Friday    False  Spring   \n",
       "3 2025-04-11 17:07:05  2025-04-11 05:07:05 PM    Friday    False  Spring   \n",
       "4 2025-04-11 16:59:56  2025-04-11 04:59:56 PM    Friday    False  Spring   \n",
       "\n",
       "   HourAMPM  TimeOfDay             FullStreet        lat        lon  \\\n",
       "0  07:52 PM    Evening  1000 ALTAVISTA AVE, B  38.018135 -78.477155   \n",
       "1  07:27 PM    Evening   1200 EMMET ST N, 120  38.052917 -78.498591   \n",
       "2  06:52 PM    Evening   5TH ST SW @ RIDGE ST  38.025896 -78.488972   \n",
       "3  05:07 PM    Evening        1600 EMMET ST N  38.057947 -78.493911   \n",
       "4  04:59 PM  Afternoon         300 10TH ST NW  38.035243 -78.493177   \n",
       "\n",
       "  neighborhood  \n",
       "0      Belmont  \n",
       "1  The Meadows  \n",
       "2    Fifeville  \n",
       "3  The Meadows  \n",
       "4  10th & Page  "
      ]
     },
     "execution_count": 10,
     "metadata": {},
     "output_type": "execute_result"
    }
   ],
   "source": [
    "# Initialize the Google Maps client.\n",
    "gmaps = googlemaps.Client(key=GOOGLE_API_KEY)\n",
    "\n",
    "# Try to load a persistent neighborhood cache if available.\n",
    "try:\n",
    "    with open(\"neighborhood_cache.pkl\", \"rb\") as f:\n",
    "        neighborhood_cache = pickle.load(f)\n",
    "    print(\"Loaded neighborhood cache.\")\n",
    "except FileNotFoundError:\n",
    "    neighborhood_cache = {}\n",
    "    print(\"No neighborhood cache found; starting fresh.\")\n",
    "\n",
    "def get_neighborhood(lat, lon):\n",
    "    \"\"\"\n",
    "    Reverse geocodes a latitude and longitude to retrieve the neighborhood.\n",
    "    Caches results to speed up subsequent lookups.\n",
    "    \"\"\"\n",
    "    key = (lat, lon)\n",
    "    if key in neighborhood_cache:\n",
    "        return neighborhood_cache[key]\n",
    "    \n",
    "    try:\n",
    "        result = gmaps.reverse_geocode((lat, lon))\n",
    "        if result:\n",
    "            # Look for the 'neighborhood' component in the first result.\n",
    "            for component in result[0]['address_components']:\n",
    "                if 'neighborhood' in component['types']:\n",
    "                    neighborhood = component['long_name']\n",
    "                    neighborhood_cache[key] = neighborhood\n",
    "                    return neighborhood\n",
    "            # If no neighborhood is found, return \"N/A\"\n",
    "            neighborhood_cache[key] = \"N/A\"\n",
    "            return \"N/A\"\n",
    "    except Exception as e:\n",
    "        print(f\"Error getting neighborhood for {lat}, {lon}: {e}\")\n",
    "        return \"N/A\"\n",
    "    \n",
    "    # Pause to respect usage limits.\n",
    "    time.sleep(1)\n",
    "\n",
    "# Example usage: Apply to your DataFrame 'df' that already has 'lat' and 'lon' columns.\n",
    "df['neighborhood'] = df.apply(lambda row: get_neighborhood(row['lat'], row['lon']), axis=1)\n",
    "\n",
    "# Save the updated neighborhood cache.\n",
    "with open(\"neighborhood_cache.pkl\", \"wb\") as f:\n",
    "    pickle.dump(neighborhood_cache, f)\n",
    "\n",
    "df.head()\n"
   ]
  },
  {
   "cell_type": "markdown",
   "id": "1b423a05",
   "metadata": {
    "papermill": {
     "duration": 0.006769,
     "end_time": "2025-04-14T01:03:19.877810",
     "exception": false,
     "start_time": "2025-04-14T01:03:19.871041",
     "status": "completed"
    },
    "tags": []
   },
   "source": [
    "### Zip"
   ]
  },
  {
   "cell_type": "code",
   "execution_count": 11,
   "id": "3fa112af",
   "metadata": {
    "execution": {
     "iopub.execute_input": "2025-04-14T01:03:19.892613Z",
     "iopub.status.busy": "2025-04-14T01:03:19.892035Z",
     "iopub.status.idle": "2025-04-14T01:03:20.131826Z",
     "shell.execute_reply": "2025-04-14T01:03:20.131214Z"
    },
    "papermill": {
     "duration": 0.248467,
     "end_time": "2025-04-14T01:03:20.132859",
     "exception": false,
     "start_time": "2025-04-14T01:03:19.884392",
     "status": "completed"
    },
    "tags": []
   },
   "outputs": [
    {
     "name": "stdout",
     "output_type": "stream",
     "text": [
      "Loaded zip cache.\n"
     ]
    },
    {
     "data": {
      "text/html": [
       "<div>\n",
       "<style scoped>\n",
       "    .dataframe tbody tr th:only-of-type {\n",
       "        vertical-align: middle;\n",
       "    }\n",
       "\n",
       "    .dataframe tbody tr th {\n",
       "        vertical-align: top;\n",
       "    }\n",
       "\n",
       "    .dataframe thead th {\n",
       "        text-align: right;\n",
       "    }\n",
       "</style>\n",
       "<table border=\"1\" class=\"dataframe\">\n",
       "  <thead>\n",
       "    <tr style=\"text-align: right;\">\n",
       "      <th></th>\n",
       "      <th>RecordID</th>\n",
       "      <th>Offense</th>\n",
       "      <th>IncidentID</th>\n",
       "      <th>BlockNumber</th>\n",
       "      <th>StreetName</th>\n",
       "      <th>Agency</th>\n",
       "      <th>HourReported</th>\n",
       "      <th>ReportingOfficer</th>\n",
       "      <th>Date</th>\n",
       "      <th>DateString</th>\n",
       "      <th>DayOfWeek</th>\n",
       "      <th>Weekend</th>\n",
       "      <th>Season</th>\n",
       "      <th>HourAMPM</th>\n",
       "      <th>TimeOfDay</th>\n",
       "      <th>FullStreet</th>\n",
       "      <th>lat</th>\n",
       "      <th>lon</th>\n",
       "      <th>neighborhood</th>\n",
       "      <th>zip</th>\n",
       "    </tr>\n",
       "  </thead>\n",
       "  <tbody>\n",
       "    <tr>\n",
       "      <th>0</th>\n",
       "      <td>1</td>\n",
       "      <td>Assist Citizen - Mental/TDO/ECO</td>\n",
       "      <td>202500011671</td>\n",
       "      <td>1000</td>\n",
       "      <td>ALTAVISTA AVE, B</td>\n",
       "      <td>CPD</td>\n",
       "      <td>1952</td>\n",
       "      <td>Darby, Michael</td>\n",
       "      <td>2025-04-11 19:52:20</td>\n",
       "      <td>2025-04-11 07:52:20 PM</td>\n",
       "      <td>Friday</td>\n",
       "      <td>False</td>\n",
       "      <td>Spring</td>\n",
       "      <td>07:52 PM</td>\n",
       "      <td>Evening</td>\n",
       "      <td>1000 ALTAVISTA AVE, B</td>\n",
       "      <td>38.018135</td>\n",
       "      <td>-78.477155</td>\n",
       "      <td>Belmont</td>\n",
       "      <td>22903</td>\n",
       "    </tr>\n",
       "    <tr>\n",
       "      <th>1</th>\n",
       "      <td>2</td>\n",
       "      <td>Larceny - Shoplifitng</td>\n",
       "      <td>202500011670</td>\n",
       "      <td>1200</td>\n",
       "      <td>EMMET ST N, 120</td>\n",
       "      <td>CPD</td>\n",
       "      <td>1927</td>\n",
       "      <td>Whitfield, Dylan</td>\n",
       "      <td>2025-04-11 19:27:42</td>\n",
       "      <td>2025-04-11 07:27:42 PM</td>\n",
       "      <td>Friday</td>\n",
       "      <td>False</td>\n",
       "      <td>Spring</td>\n",
       "      <td>07:27 PM</td>\n",
       "      <td>Evening</td>\n",
       "      <td>1200 EMMET ST N, 120</td>\n",
       "      <td>38.052917</td>\n",
       "      <td>-78.498591</td>\n",
       "      <td>The Meadows</td>\n",
       "      <td>22905</td>\n",
       "    </tr>\n",
       "    <tr>\n",
       "      <th>2</th>\n",
       "      <td>3</td>\n",
       "      <td>Hit and Run</td>\n",
       "      <td>202500011664</td>\n",
       "      <td></td>\n",
       "      <td>5TH ST SW @ RIDGE ST</td>\n",
       "      <td>CPD</td>\n",
       "      <td>1852</td>\n",
       "      <td>Venereo, Arturo</td>\n",
       "      <td>2025-04-11 18:52:43</td>\n",
       "      <td>2025-04-11 06:52:43 PM</td>\n",
       "      <td>Friday</td>\n",
       "      <td>False</td>\n",
       "      <td>Spring</td>\n",
       "      <td>06:52 PM</td>\n",
       "      <td>Evening</td>\n",
       "      <td>5TH ST SW @ RIDGE ST</td>\n",
       "      <td>38.025896</td>\n",
       "      <td>-78.488972</td>\n",
       "      <td>Fifeville</td>\n",
       "      <td>22903</td>\n",
       "    </tr>\n",
       "    <tr>\n",
       "      <th>3</th>\n",
       "      <td>4</td>\n",
       "      <td>Disorderly Conduct</td>\n",
       "      <td>202500011647</td>\n",
       "      <td>1600</td>\n",
       "      <td>EMMET ST N</td>\n",
       "      <td>CPD</td>\n",
       "      <td>1707</td>\n",
       "      <td>Whitfield, Dylan</td>\n",
       "      <td>2025-04-11 17:07:05</td>\n",
       "      <td>2025-04-11 05:07:05 PM</td>\n",
       "      <td>Friday</td>\n",
       "      <td>False</td>\n",
       "      <td>Spring</td>\n",
       "      <td>05:07 PM</td>\n",
       "      <td>Evening</td>\n",
       "      <td>1600 EMMET ST N</td>\n",
       "      <td>38.057947</td>\n",
       "      <td>-78.493911</td>\n",
       "      <td>The Meadows</td>\n",
       "      <td>22901</td>\n",
       "    </tr>\n",
       "    <tr>\n",
       "      <th>4</th>\n",
       "      <td>5</td>\n",
       "      <td>Hit and Run</td>\n",
       "      <td>202500011650</td>\n",
       "      <td>300</td>\n",
       "      <td>10TH ST NW</td>\n",
       "      <td>CPD</td>\n",
       "      <td>1659</td>\n",
       "      <td>Rigsby, Lloyd</td>\n",
       "      <td>2025-04-11 16:59:56</td>\n",
       "      <td>2025-04-11 04:59:56 PM</td>\n",
       "      <td>Friday</td>\n",
       "      <td>False</td>\n",
       "      <td>Spring</td>\n",
       "      <td>04:59 PM</td>\n",
       "      <td>Afternoon</td>\n",
       "      <td>300 10TH ST NW</td>\n",
       "      <td>38.035243</td>\n",
       "      <td>-78.493177</td>\n",
       "      <td>10th &amp; Page</td>\n",
       "      <td>22903</td>\n",
       "    </tr>\n",
       "  </tbody>\n",
       "</table>\n",
       "</div>"
      ],
      "text/plain": [
       "   RecordID                          Offense    IncidentID BlockNumber  \\\n",
       "0         1  Assist Citizen - Mental/TDO/ECO  202500011671        1000   \n",
       "1         2            Larceny - Shoplifitng  202500011670        1200   \n",
       "2         3                      Hit and Run  202500011664               \n",
       "3         4               Disorderly Conduct  202500011647        1600   \n",
       "4         5                      Hit and Run  202500011650         300   \n",
       "\n",
       "             StreetName Agency HourReported  ReportingOfficer  \\\n",
       "0      ALTAVISTA AVE, B    CPD         1952    Darby, Michael   \n",
       "1       EMMET ST N, 120    CPD         1927  Whitfield, Dylan   \n",
       "2  5TH ST SW @ RIDGE ST    CPD         1852   Venereo, Arturo   \n",
       "3            EMMET ST N    CPD         1707  Whitfield, Dylan   \n",
       "4            10TH ST NW    CPD         1659     Rigsby, Lloyd   \n",
       "\n",
       "                 Date              DateString DayOfWeek  Weekend  Season  \\\n",
       "0 2025-04-11 19:52:20  2025-04-11 07:52:20 PM    Friday    False  Spring   \n",
       "1 2025-04-11 19:27:42  2025-04-11 07:27:42 PM    Friday    False  Spring   \n",
       "2 2025-04-11 18:52:43  2025-04-11 06:52:43 PM    Friday    False  Spring   \n",
       "3 2025-04-11 17:07:05  2025-04-11 05:07:05 PM    Friday    False  Spring   \n",
       "4 2025-04-11 16:59:56  2025-04-11 04:59:56 PM    Friday    False  Spring   \n",
       "\n",
       "   HourAMPM  TimeOfDay             FullStreet        lat        lon  \\\n",
       "0  07:52 PM    Evening  1000 ALTAVISTA AVE, B  38.018135 -78.477155   \n",
       "1  07:27 PM    Evening   1200 EMMET ST N, 120  38.052917 -78.498591   \n",
       "2  06:52 PM    Evening   5TH ST SW @ RIDGE ST  38.025896 -78.488972   \n",
       "3  05:07 PM    Evening        1600 EMMET ST N  38.057947 -78.493911   \n",
       "4  04:59 PM  Afternoon         300 10TH ST NW  38.035243 -78.493177   \n",
       "\n",
       "  neighborhood    zip  \n",
       "0      Belmont  22903  \n",
       "1  The Meadows  22905  \n",
       "2    Fifeville  22903  \n",
       "3  The Meadows  22901  \n",
       "4  10th & Page  22903  "
      ]
     },
     "execution_count": 11,
     "metadata": {},
     "output_type": "execute_result"
    }
   ],
   "source": [
    "# Initialize the geocoder.\n",
    "geolocator = Nominatim(user_agent=\"zip_lookup\")\n",
    "\n",
    "# Try to load a persistent ZIP cache if available.\n",
    "try:\n",
    "    with open(\"zip_cache.pkl\", \"rb\") as f:\n",
    "        zip_cache = pickle.load(f)\n",
    "    print(\"Loaded zip cache.\")\n",
    "except FileNotFoundError:\n",
    "    zip_cache = {}\n",
    "    print(\"No zip cache found; starting fresh.\")\n",
    "\n",
    "def get_zip(lat, lon):\n",
    "    \"\"\"\n",
    "    Reverse geocodes a latitude and longitude to retrieve the ZIP code.\n",
    "    Caches results to speed up subsequent lookups.\n",
    "    \"\"\"\n",
    "    key = (lat, lon)\n",
    "    if key in zip_cache:\n",
    "        return zip_cache[key]\n",
    "    \n",
    "    try:\n",
    "        location = geolocator.reverse((lat, lon), exactly_one=True, timeout=10)\n",
    "        address = location.raw.get('address', {})\n",
    "        postal_code = address.get('postcode', \"N/A\")\n",
    "    except Exception as e:\n",
    "        print(f\"Error getting ZIP for {lat}, {lon}: {e}\")\n",
    "        postal_code = \"N/A\"\n",
    "    \n",
    "    zip_cache[key] = postal_code\n",
    "    # Pause to respect the usage policy.\n",
    "    time.sleep(1)\n",
    "    return postal_code\n",
    "\n",
    "# Apply the function to each row in the DataFrame.\n",
    "df['zip'] = df.apply(lambda row: get_zip(row['lat'], row['lon']), axis=1)\n",
    "\n",
    "# Save the updated ZIP cache.\n",
    "with open(\"zip_cache.pkl\", \"wb\") as f:\n",
    "    pickle.dump(zip_cache, f)\n",
    "\n",
    "df.head()\n"
   ]
  },
  {
   "cell_type": "code",
   "execution_count": 12,
   "id": "41978366",
   "metadata": {
    "execution": {
     "iopub.execute_input": "2025-04-14T01:03:20.148390Z",
     "iopub.status.busy": "2025-04-14T01:03:20.147924Z",
     "iopub.status.idle": "2025-04-14T01:03:20.177844Z",
     "shell.execute_reply": "2025-04-14T01:03:20.177255Z"
    },
    "papermill": {
     "duration": 0.038935,
     "end_time": "2025-04-14T01:03:20.178975",
     "exception": false,
     "start_time": "2025-04-14T01:03:20.140040",
     "status": "completed"
    },
    "tags": []
   },
   "outputs": [
    {
     "name": "stdout",
     "output_type": "stream",
     "text": [
      "                  MissingCount  MissingPercentage\n",
      "RecordID                     0               0.00\n",
      "Offense                      0               0.00\n",
      "IncidentID                   0               0.00\n",
      "BlockNumber                  0               0.00\n",
      "StreetName                   0               0.00\n",
      "Agency                       0               0.00\n",
      "HourReported                 0               0.00\n",
      "ReportingOfficer            17               0.07\n",
      "Date                         0               0.00\n",
      "DateString                   0               0.00\n",
      "DayOfWeek                    0               0.00\n",
      "Weekend                      0               0.00\n",
      "Season                       0               0.00\n",
      "HourAMPM                     0               0.00\n",
      "TimeOfDay                    0               0.00\n",
      "FullStreet                   0               0.00\n",
      "lat                          0               0.00\n",
      "lon                          0               0.00\n",
      "neighborhood                 0               0.00\n",
      "zip                          0               0.00\n"
     ]
    }
   ],
   "source": [
    "missing_info = missing_percentage(df)\n",
    "print(missing_info)\n"
   ]
  },
  {
   "cell_type": "code",
   "execution_count": 13,
   "id": "164d0c5c",
   "metadata": {
    "execution": {
     "iopub.execute_input": "2025-04-14T01:03:20.194477Z",
     "iopub.status.busy": "2025-04-14T01:03:20.194042Z",
     "iopub.status.idle": "2025-04-14T01:03:20.225584Z",
     "shell.execute_reply": "2025-04-14T01:03:20.224889Z"
    },
    "papermill": {
     "duration": 0.040582,
     "end_time": "2025-04-14T01:03:20.226760",
     "exception": false,
     "start_time": "2025-04-14T01:03:20.186178",
     "status": "completed"
    },
    "tags": []
   },
   "outputs": [
    {
     "name": "stdout",
     "output_type": "stream",
     "text": [
      "<class 'pandas.core.frame.DataFrame'>\n",
      "RangeIndex: 25165 entries, 0 to 25164\n",
      "Data columns (total 20 columns):\n",
      " #   Column            Non-Null Count  Dtype         \n",
      "---  ------            --------------  -----         \n",
      " 0   RecordID          25165 non-null  int64         \n",
      " 1   Offense           25165 non-null  object        \n",
      " 2   IncidentID        25165 non-null  object        \n",
      " 3   BlockNumber       25165 non-null  object        \n",
      " 4   StreetName        25165 non-null  object        \n",
      " 5   Agency            25165 non-null  object        \n",
      " 6   HourReported      25165 non-null  object        \n",
      " 7   ReportingOfficer  25148 non-null  object        \n",
      " 8   Date              25165 non-null  datetime64[ns]\n",
      " 9   DateString        25165 non-null  object        \n",
      " 10  DayOfWeek         25165 non-null  object        \n",
      " 11  Weekend           25165 non-null  bool          \n",
      " 12  Season            25165 non-null  object        \n",
      " 13  HourAMPM          25165 non-null  object        \n",
      " 14  TimeOfDay         25165 non-null  object        \n",
      " 15  FullStreet        25165 non-null  object        \n",
      " 16  lat               25165 non-null  float64       \n",
      " 17  lon               25165 non-null  float64       \n",
      " 18  neighborhood      25165 non-null  object        \n",
      " 19  zip               25165 non-null  object        \n",
      "dtypes: bool(1), datetime64[ns](1), float64(2), int64(1), object(15)\n",
      "memory usage: 3.7+ MB\n"
     ]
    }
   ],
   "source": [
    "df.info()"
   ]
  },
  {
   "cell_type": "code",
   "execution_count": 14,
   "id": "4213cb52",
   "metadata": {
    "execution": {
     "iopub.execute_input": "2025-04-14T01:03:20.242810Z",
     "iopub.status.busy": "2025-04-14T01:03:20.242239Z",
     "iopub.status.idle": "2025-04-14T01:03:20.292180Z",
     "shell.execute_reply": "2025-04-14T01:03:20.291437Z"
    },
    "papermill": {
     "duration": 0.059182,
     "end_time": "2025-04-14T01:03:20.293249",
     "exception": false,
     "start_time": "2025-04-14T01:03:20.234067",
     "status": "completed"
    },
    "tags": []
   },
   "outputs": [
    {
     "data": {
      "text/html": [
       "<div>\n",
       "<style scoped>\n",
       "    .dataframe tbody tr th:only-of-type {\n",
       "        vertical-align: middle;\n",
       "    }\n",
       "\n",
       "    .dataframe tbody tr th {\n",
       "        vertical-align: top;\n",
       "    }\n",
       "\n",
       "    .dataframe thead th {\n",
       "        text-align: right;\n",
       "    }\n",
       "</style>\n",
       "<table border=\"1\" class=\"dataframe\">\n",
       "  <thead>\n",
       "    <tr style=\"text-align: right;\">\n",
       "      <th></th>\n",
       "      <th>RecordID</th>\n",
       "      <th>Offense</th>\n",
       "      <th>IncidentID</th>\n",
       "      <th>Agency</th>\n",
       "      <th>ReportingOfficer</th>\n",
       "      <th>Date</th>\n",
       "      <th>DayOfWeek</th>\n",
       "      <th>Weekend</th>\n",
       "      <th>Season</th>\n",
       "      <th>TimeOfDay</th>\n",
       "      <th>FullStreet</th>\n",
       "      <th>lat</th>\n",
       "      <th>lon</th>\n",
       "      <th>neighborhood</th>\n",
       "      <th>zip</th>\n",
       "    </tr>\n",
       "  </thead>\n",
       "  <tbody>\n",
       "    <tr>\n",
       "      <th>0</th>\n",
       "      <td>1</td>\n",
       "      <td>Assist Citizen - Mental/TDO/ECO</td>\n",
       "      <td>202500011671</td>\n",
       "      <td>CPD</td>\n",
       "      <td>Darby, Michael</td>\n",
       "      <td>2025-04-11 19:52:20</td>\n",
       "      <td>Friday</td>\n",
       "      <td>False</td>\n",
       "      <td>Spring</td>\n",
       "      <td>Evening</td>\n",
       "      <td>1000 ALTAVISTA AVE, B</td>\n",
       "      <td>38.018135</td>\n",
       "      <td>-78.477155</td>\n",
       "      <td>Belmont</td>\n",
       "      <td>22903</td>\n",
       "    </tr>\n",
       "    <tr>\n",
       "      <th>1</th>\n",
       "      <td>2</td>\n",
       "      <td>Larceny - Shoplifitng</td>\n",
       "      <td>202500011670</td>\n",
       "      <td>CPD</td>\n",
       "      <td>Whitfield, Dylan</td>\n",
       "      <td>2025-04-11 19:27:42</td>\n",
       "      <td>Friday</td>\n",
       "      <td>False</td>\n",
       "      <td>Spring</td>\n",
       "      <td>Evening</td>\n",
       "      <td>1200 EMMET ST N, 120</td>\n",
       "      <td>38.052917</td>\n",
       "      <td>-78.498591</td>\n",
       "      <td>The Meadows</td>\n",
       "      <td>22905</td>\n",
       "    </tr>\n",
       "    <tr>\n",
       "      <th>2</th>\n",
       "      <td>3</td>\n",
       "      <td>Hit and Run</td>\n",
       "      <td>202500011664</td>\n",
       "      <td>CPD</td>\n",
       "      <td>Venereo, Arturo</td>\n",
       "      <td>2025-04-11 18:52:43</td>\n",
       "      <td>Friday</td>\n",
       "      <td>False</td>\n",
       "      <td>Spring</td>\n",
       "      <td>Evening</td>\n",
       "      <td>5TH ST SW @ RIDGE ST</td>\n",
       "      <td>38.025896</td>\n",
       "      <td>-78.488972</td>\n",
       "      <td>Fifeville</td>\n",
       "      <td>22903</td>\n",
       "    </tr>\n",
       "    <tr>\n",
       "      <th>3</th>\n",
       "      <td>4</td>\n",
       "      <td>Disorderly Conduct</td>\n",
       "      <td>202500011647</td>\n",
       "      <td>CPD</td>\n",
       "      <td>Whitfield, Dylan</td>\n",
       "      <td>2025-04-11 17:07:05</td>\n",
       "      <td>Friday</td>\n",
       "      <td>False</td>\n",
       "      <td>Spring</td>\n",
       "      <td>Evening</td>\n",
       "      <td>1600 EMMET ST N</td>\n",
       "      <td>38.057947</td>\n",
       "      <td>-78.493911</td>\n",
       "      <td>The Meadows</td>\n",
       "      <td>22901</td>\n",
       "    </tr>\n",
       "    <tr>\n",
       "      <th>4</th>\n",
       "      <td>5</td>\n",
       "      <td>Hit and Run</td>\n",
       "      <td>202500011650</td>\n",
       "      <td>CPD</td>\n",
       "      <td>Rigsby, Lloyd</td>\n",
       "      <td>2025-04-11 16:59:56</td>\n",
       "      <td>Friday</td>\n",
       "      <td>False</td>\n",
       "      <td>Spring</td>\n",
       "      <td>Afternoon</td>\n",
       "      <td>300 10TH ST NW</td>\n",
       "      <td>38.035243</td>\n",
       "      <td>-78.493177</td>\n",
       "      <td>10th &amp; Page</td>\n",
       "      <td>22903</td>\n",
       "    </tr>\n",
       "  </tbody>\n",
       "</table>\n",
       "</div>"
      ],
      "text/plain": [
       "   RecordID                          Offense    IncidentID Agency  \\\n",
       "0         1  Assist Citizen - Mental/TDO/ECO  202500011671    CPD   \n",
       "1         2            Larceny - Shoplifitng  202500011670    CPD   \n",
       "2         3                      Hit and Run  202500011664    CPD   \n",
       "3         4               Disorderly Conduct  202500011647    CPD   \n",
       "4         5                      Hit and Run  202500011650    CPD   \n",
       "\n",
       "   ReportingOfficer                Date DayOfWeek  Weekend  Season  TimeOfDay  \\\n",
       "0    Darby, Michael 2025-04-11 19:52:20    Friday    False  Spring    Evening   \n",
       "1  Whitfield, Dylan 2025-04-11 19:27:42    Friday    False  Spring    Evening   \n",
       "2   Venereo, Arturo 2025-04-11 18:52:43    Friday    False  Spring    Evening   \n",
       "3  Whitfield, Dylan 2025-04-11 17:07:05    Friday    False  Spring    Evening   \n",
       "4     Rigsby, Lloyd 2025-04-11 16:59:56    Friday    False  Spring  Afternoon   \n",
       "\n",
       "              FullStreet        lat        lon neighborhood    zip  \n",
       "0  1000 ALTAVISTA AVE, B  38.018135 -78.477155      Belmont  22903  \n",
       "1   1200 EMMET ST N, 120  38.052917 -78.498591  The Meadows  22905  \n",
       "2   5TH ST SW @ RIDGE ST  38.025896 -78.488972    Fifeville  22903  \n",
       "3        1600 EMMET ST N  38.057947 -78.493911  The Meadows  22901  \n",
       "4         300 10TH ST NW  38.035243 -78.493177  10th & Page  22903  "
      ]
     },
     "execution_count": 14,
     "metadata": {},
     "output_type": "execute_result"
    }
   ],
   "source": [
    "# Now drop the original BlockNumber and StreetName columns\n",
    "df.drop(columns=['BlockNumber', 'StreetName','HourAMPM','HourReported','DateString'], inplace=True)\n",
    "df[\"zip\"] = df[\"zip\"].astype(str)\n",
    "\n",
    "# Fill all missing values in the DataFrame with \"N/A\"\n",
    "df.replace({None: \"N/A\", np.nan: \"N/A\", \"\": \"N/A\"}, inplace=True)\n",
    "df.head()"
   ]
  },
  {
   "cell_type": "code",
   "execution_count": 15,
   "id": "e2f194a2",
   "metadata": {
    "execution": {
     "iopub.execute_input": "2025-04-14T01:03:20.310073Z",
     "iopub.status.busy": "2025-04-14T01:03:20.309467Z",
     "iopub.status.idle": "2025-04-14T01:03:20.332240Z",
     "shell.execute_reply": "2025-04-14T01:03:20.331489Z"
    },
    "papermill": {
     "duration": 0.032435,
     "end_time": "2025-04-14T01:03:20.333381",
     "exception": false,
     "start_time": "2025-04-14T01:03:20.300946",
     "status": "completed"
    },
    "tags": []
   },
   "outputs": [
    {
     "name": "stdout",
     "output_type": "stream",
     "text": [
      "                  MissingCount  MissingPercentage\n",
      "RecordID                     0                0.0\n",
      "Offense                      0                0.0\n",
      "IncidentID                   0                0.0\n",
      "Agency                       0                0.0\n",
      "ReportingOfficer             0                0.0\n",
      "Date                         0                0.0\n",
      "DayOfWeek                    0                0.0\n",
      "Weekend                      0                0.0\n",
      "Season                       0                0.0\n",
      "TimeOfDay                    0                0.0\n",
      "FullStreet                   0                0.0\n",
      "lat                          0                0.0\n",
      "lon                          0                0.0\n",
      "neighborhood                 0                0.0\n",
      "zip                          0                0.0\n"
     ]
    }
   ],
   "source": [
    "missing_info = missing_percentage(df)\n",
    "print(missing_info)"
   ]
  },
  {
   "cell_type": "code",
   "execution_count": 16,
   "id": "405b171f",
   "metadata": {
    "execution": {
     "iopub.execute_input": "2025-04-14T01:03:20.350230Z",
     "iopub.status.busy": "2025-04-14T01:03:20.349771Z",
     "iopub.status.idle": "2025-04-14T01:03:20.354884Z",
     "shell.execute_reply": "2025-04-14T01:03:20.354194Z"
    },
    "papermill": {
     "duration": 0.014748,
     "end_time": "2025-04-14T01:03:20.355967",
     "exception": false,
     "start_time": "2025-04-14T01:03:20.341219",
     "status": "completed"
    },
    "tags": []
   },
   "outputs": [
    {
     "data": {
      "text/plain": [
       "Index(['RecordID', 'Offense', 'IncidentID', 'Agency', 'ReportingOfficer',\n",
       "       'Date', 'DayOfWeek', 'Weekend', 'Season', 'TimeOfDay', 'FullStreet',\n",
       "       'lat', 'lon', 'neighborhood', 'zip'],\n",
       "      dtype='object')"
      ]
     },
     "execution_count": 16,
     "metadata": {},
     "output_type": "execute_result"
    }
   ],
   "source": [
    "df.columns"
   ]
  },
  {
   "cell_type": "code",
   "execution_count": 17,
   "id": "3c503ad4",
   "metadata": {
    "execution": {
     "iopub.execute_input": "2025-04-14T01:03:20.373127Z",
     "iopub.status.busy": "2025-04-14T01:03:20.372669Z",
     "iopub.status.idle": "2025-04-14T01:03:20.397898Z",
     "shell.execute_reply": "2025-04-14T01:03:20.397246Z"
    },
    "papermill": {
     "duration": 0.035083,
     "end_time": "2025-04-14T01:03:20.399005",
     "exception": false,
     "start_time": "2025-04-14T01:03:20.363922",
     "status": "completed"
    },
    "tags": []
   },
   "outputs": [
    {
     "name": "stdout",
     "output_type": "stream",
     "text": [
      "<class 'pandas.core.frame.DataFrame'>\n",
      "RangeIndex: 25165 entries, 0 to 25164\n",
      "Data columns (total 15 columns):\n",
      " #   Column            Non-Null Count  Dtype         \n",
      "---  ------            --------------  -----         \n",
      " 0   RecordID          25165 non-null  int64         \n",
      " 1   Offense           25165 non-null  object        \n",
      " 2   IncidentID        25165 non-null  object        \n",
      " 3   Agency            25165 non-null  object        \n",
      " 4   ReportingOfficer  25165 non-null  object        \n",
      " 5   Date              25165 non-null  datetime64[ns]\n",
      " 6   DayOfWeek         25165 non-null  object        \n",
      " 7   Weekend           25165 non-null  bool          \n",
      " 8   Season            25165 non-null  object        \n",
      " 9   TimeOfDay         25165 non-null  object        \n",
      " 10  FullStreet        25165 non-null  object        \n",
      " 11  lat               25165 non-null  float64       \n",
      " 12  lon               25165 non-null  float64       \n",
      " 13  neighborhood      25165 non-null  object        \n",
      " 14  zip               25165 non-null  object        \n",
      "dtypes: bool(1), datetime64[ns](1), float64(2), int64(1), object(10)\n",
      "memory usage: 2.7+ MB\n"
     ]
    }
   ],
   "source": [
    "df.info()"
   ]
  },
  {
   "cell_type": "markdown",
   "id": "79d9b3fa",
   "metadata": {
    "papermill": {
     "duration": 0.007831,
     "end_time": "2025-04-14T01:03:20.415066",
     "exception": false,
     "start_time": "2025-04-14T01:03:20.407235",
     "status": "completed"
    },
    "tags": []
   },
   "source": [
    "### Export Clean Data"
   ]
  },
  {
   "cell_type": "code",
   "execution_count": 18,
   "id": "05c37bee",
   "metadata": {
    "execution": {
     "iopub.execute_input": "2025-04-14T01:03:20.432526Z",
     "iopub.status.busy": "2025-04-14T01:03:20.431865Z",
     "iopub.status.idle": "2025-04-14T01:03:29.955192Z",
     "shell.execute_reply": "2025-04-14T01:03:29.954485Z"
    },
    "papermill": {
     "duration": 9.533248,
     "end_time": "2025-04-14T01:03:29.956247",
     "exception": false,
     "start_time": "2025-04-14T01:03:20.422999",
     "status": "completed"
    },
    "tags": []
   },
   "outputs": [
    {
     "name": "stdout",
     "output_type": "stream",
     "text": [
      "Project Root: /home/runner/work/crime-data/crime-data\n"
     ]
    },
    {
     "name": "stdout",
     "output_type": "stream",
     "text": [
      "Data saved to: /home/runner/work/crime-data/crime-data/data/charlottesville_crime_incidents.csv\n"
     ]
    },
    {
     "name": "stdout",
     "output_type": "stream",
     "text": [
      "Excel saved to: /home/runner/work/crime-data/crime-data/data/charlottesville_crime_incidents.xlsx\n"
     ]
    }
   ],
   "source": [
    "# Determine the project root (assuming papermill is run from the repository root)\n",
    "project_root = os.getcwd()\n",
    "print(\"Project Root:\", project_root)\n",
    "\n",
    "# Set the data directory within the project root\n",
    "data_dir = os.path.join(project_root, \"data\")\n",
    "\n",
    "# Ensure the \"data\" directory exists (create it if it doesn't)\n",
    "if not os.path.exists(data_dir):\n",
    "    os.makedirs(data_dir)\n",
    "\n",
    "# Export the DataFrame to CSV in the \"data\" folder located in the project root\n",
    "csv_path = os.path.join(data_dir, \"charlottesville_crime_incidents.csv\")\n",
    "df.to_csv(csv_path, index=False)\n",
    "print(\"Data saved to:\", csv_path)\n",
    "\n",
    "# Construct the path to your Excel file\n",
    "excel_path = os.path.join(data_dir, \"charlottesville_crime_incidents.xlsx\")\n",
    "\n",
    "# Export the DataFrame to Excel\n",
    "df.to_excel(excel_path, index=False)\n",
    "print(\"Excel saved to:\", excel_path)\n"
   ]
  },
  {
   "cell_type": "markdown",
   "id": "ff5fc878",
   "metadata": {
    "papermill": {
     "duration": 0.007836,
     "end_time": "2025-04-14T01:03:29.972590",
     "exception": false,
     "start_time": "2025-04-14T01:03:29.964754",
     "status": "completed"
    },
    "tags": []
   },
   "source": [
    "## Predictive Analytics"
   ]
  },
  {
   "cell_type": "code",
   "execution_count": 19,
   "id": "68a743c1",
   "metadata": {
    "execution": {
     "iopub.execute_input": "2025-04-14T01:03:29.989943Z",
     "iopub.status.busy": "2025-04-14T01:03:29.989487Z",
     "iopub.status.idle": "2025-04-14T01:03:30.001370Z",
     "shell.execute_reply": "2025-04-14T01:03:30.000823Z"
    },
    "papermill": {
     "duration": 0.021832,
     "end_time": "2025-04-14T01:03:30.002374",
     "exception": false,
     "start_time": "2025-04-14T01:03:29.980542",
     "status": "completed"
    },
    "tags": []
   },
   "outputs": [
    {
     "data": {
      "text/html": [
       "<div>\n",
       "<style scoped>\n",
       "    .dataframe tbody tr th:only-of-type {\n",
       "        vertical-align: middle;\n",
       "    }\n",
       "\n",
       "    .dataframe tbody tr th {\n",
       "        vertical-align: top;\n",
       "    }\n",
       "\n",
       "    .dataframe thead th {\n",
       "        text-align: right;\n",
       "    }\n",
       "</style>\n",
       "<table border=\"1\" class=\"dataframe\">\n",
       "  <thead>\n",
       "    <tr style=\"text-align: right;\">\n",
       "      <th></th>\n",
       "      <th>RecordID</th>\n",
       "      <th>Offense</th>\n",
       "      <th>IncidentID</th>\n",
       "      <th>Agency</th>\n",
       "      <th>ReportingOfficer</th>\n",
       "      <th>Date</th>\n",
       "      <th>DayOfWeek</th>\n",
       "      <th>Weekend</th>\n",
       "      <th>Season</th>\n",
       "      <th>TimeOfDay</th>\n",
       "      <th>FullStreet</th>\n",
       "      <th>lat</th>\n",
       "      <th>lon</th>\n",
       "      <th>neighborhood</th>\n",
       "      <th>zip</th>\n",
       "    </tr>\n",
       "  </thead>\n",
       "  <tbody>\n",
       "    <tr>\n",
       "      <th>0</th>\n",
       "      <td>1</td>\n",
       "      <td>Assist Citizen - Mental/TDO/ECO</td>\n",
       "      <td>202500011671</td>\n",
       "      <td>CPD</td>\n",
       "      <td>Darby, Michael</td>\n",
       "      <td>2025-04-11 19:52:20</td>\n",
       "      <td>Friday</td>\n",
       "      <td>False</td>\n",
       "      <td>Spring</td>\n",
       "      <td>Evening</td>\n",
       "      <td>1000 ALTAVISTA AVE, B</td>\n",
       "      <td>38.018135</td>\n",
       "      <td>-78.477155</td>\n",
       "      <td>Belmont</td>\n",
       "      <td>22903</td>\n",
       "    </tr>\n",
       "    <tr>\n",
       "      <th>1</th>\n",
       "      <td>2</td>\n",
       "      <td>Larceny - Shoplifitng</td>\n",
       "      <td>202500011670</td>\n",
       "      <td>CPD</td>\n",
       "      <td>Whitfield, Dylan</td>\n",
       "      <td>2025-04-11 19:27:42</td>\n",
       "      <td>Friday</td>\n",
       "      <td>False</td>\n",
       "      <td>Spring</td>\n",
       "      <td>Evening</td>\n",
       "      <td>1200 EMMET ST N, 120</td>\n",
       "      <td>38.052917</td>\n",
       "      <td>-78.498591</td>\n",
       "      <td>The Meadows</td>\n",
       "      <td>22905</td>\n",
       "    </tr>\n",
       "    <tr>\n",
       "      <th>2</th>\n",
       "      <td>3</td>\n",
       "      <td>Hit and Run</td>\n",
       "      <td>202500011664</td>\n",
       "      <td>CPD</td>\n",
       "      <td>Venereo, Arturo</td>\n",
       "      <td>2025-04-11 18:52:43</td>\n",
       "      <td>Friday</td>\n",
       "      <td>False</td>\n",
       "      <td>Spring</td>\n",
       "      <td>Evening</td>\n",
       "      <td>5TH ST SW @ RIDGE ST</td>\n",
       "      <td>38.025896</td>\n",
       "      <td>-78.488972</td>\n",
       "      <td>Fifeville</td>\n",
       "      <td>22903</td>\n",
       "    </tr>\n",
       "    <tr>\n",
       "      <th>3</th>\n",
       "      <td>4</td>\n",
       "      <td>Disorderly Conduct</td>\n",
       "      <td>202500011647</td>\n",
       "      <td>CPD</td>\n",
       "      <td>Whitfield, Dylan</td>\n",
       "      <td>2025-04-11 17:07:05</td>\n",
       "      <td>Friday</td>\n",
       "      <td>False</td>\n",
       "      <td>Spring</td>\n",
       "      <td>Evening</td>\n",
       "      <td>1600 EMMET ST N</td>\n",
       "      <td>38.057947</td>\n",
       "      <td>-78.493911</td>\n",
       "      <td>The Meadows</td>\n",
       "      <td>22901</td>\n",
       "    </tr>\n",
       "    <tr>\n",
       "      <th>4</th>\n",
       "      <td>5</td>\n",
       "      <td>Hit and Run</td>\n",
       "      <td>202500011650</td>\n",
       "      <td>CPD</td>\n",
       "      <td>Rigsby, Lloyd</td>\n",
       "      <td>2025-04-11 16:59:56</td>\n",
       "      <td>Friday</td>\n",
       "      <td>False</td>\n",
       "      <td>Spring</td>\n",
       "      <td>Afternoon</td>\n",
       "      <td>300 10TH ST NW</td>\n",
       "      <td>38.035243</td>\n",
       "      <td>-78.493177</td>\n",
       "      <td>10th &amp; Page</td>\n",
       "      <td>22903</td>\n",
       "    </tr>\n",
       "  </tbody>\n",
       "</table>\n",
       "</div>"
      ],
      "text/plain": [
       "   RecordID                          Offense    IncidentID Agency  \\\n",
       "0         1  Assist Citizen - Mental/TDO/ECO  202500011671    CPD   \n",
       "1         2            Larceny - Shoplifitng  202500011670    CPD   \n",
       "2         3                      Hit and Run  202500011664    CPD   \n",
       "3         4               Disorderly Conduct  202500011647    CPD   \n",
       "4         5                      Hit and Run  202500011650    CPD   \n",
       "\n",
       "   ReportingOfficer                Date DayOfWeek  Weekend  Season  TimeOfDay  \\\n",
       "0    Darby, Michael 2025-04-11 19:52:20    Friday    False  Spring    Evening   \n",
       "1  Whitfield, Dylan 2025-04-11 19:27:42    Friday    False  Spring    Evening   \n",
       "2   Venereo, Arturo 2025-04-11 18:52:43    Friday    False  Spring    Evening   \n",
       "3  Whitfield, Dylan 2025-04-11 17:07:05    Friday    False  Spring    Evening   \n",
       "4     Rigsby, Lloyd 2025-04-11 16:59:56    Friday    False  Spring  Afternoon   \n",
       "\n",
       "              FullStreet        lat        lon neighborhood    zip  \n",
       "0  1000 ALTAVISTA AVE, B  38.018135 -78.477155      Belmont  22903  \n",
       "1   1200 EMMET ST N, 120  38.052917 -78.498591  The Meadows  22905  \n",
       "2   5TH ST SW @ RIDGE ST  38.025896 -78.488972    Fifeville  22903  \n",
       "3        1600 EMMET ST N  38.057947 -78.493911  The Meadows  22901  \n",
       "4         300 10TH ST NW  38.035243 -78.493177  10th & Page  22903  "
      ]
     },
     "execution_count": 19,
     "metadata": {},
     "output_type": "execute_result"
    }
   ],
   "source": [
    "df.head()"
   ]
  },
  {
   "cell_type": "code",
   "execution_count": 20,
   "id": "b3826d88",
   "metadata": {
    "execution": {
     "iopub.execute_input": "2025-04-14T01:03:30.046804Z",
     "iopub.status.busy": "2025-04-14T01:03:30.046285Z",
     "iopub.status.idle": "2025-04-14T01:03:30.051012Z",
     "shell.execute_reply": "2025-04-14T01:03:30.050440Z"
    },
    "papermill": {
     "duration": 0.015059,
     "end_time": "2025-04-14T01:03:30.052139",
     "exception": false,
     "start_time": "2025-04-14T01:03:30.037080",
     "status": "completed"
    },
    "tags": []
   },
   "outputs": [
    {
     "data": {
      "text/plain": [
       "Index(['RecordID', 'Offense', 'IncidentID', 'Agency', 'ReportingOfficer',\n",
       "       'Date', 'DayOfWeek', 'Weekend', 'Season', 'TimeOfDay', 'FullStreet',\n",
       "       'lat', 'lon', 'neighborhood', 'zip'],\n",
       "      dtype='object')"
      ]
     },
     "execution_count": 20,
     "metadata": {},
     "output_type": "execute_result"
    }
   ],
   "source": [
    "df.columns"
   ]
  },
  {
   "cell_type": "markdown",
   "id": "413d503c",
   "metadata": {
    "papermill": {
     "duration": 0.008192,
     "end_time": "2025-04-14T01:03:30.068705",
     "exception": false,
     "start_time": "2025-04-14T01:03:30.060513",
     "status": "completed"
    },
    "tags": []
   },
   "source": [
    "### Data Preparation\n",
    "\n",
    "We need to ensure the data is in the correct format for modeling and can handle missing values, categorical variables, and dates. Here's how to prepare your data:"
   ]
  },
  {
   "cell_type": "code",
   "execution_count": 21,
   "id": "7b7a19b3",
   "metadata": {
    "execution": {
     "iopub.execute_input": "2025-04-14T01:03:30.086614Z",
     "iopub.status.busy": "2025-04-14T01:03:30.086115Z",
     "iopub.status.idle": "2025-04-14T01:03:31.650154Z",
     "shell.execute_reply": "2025-04-14T01:03:31.649246Z"
    },
    "papermill": {
     "duration": 1.574611,
     "end_time": "2025-04-14T01:03:31.651663",
     "exception": false,
     "start_time": "2025-04-14T01:03:30.077052",
     "status": "completed"
    },
    "tags": []
   },
   "outputs": [],
   "source": [
    "import pandas as pd\n",
    "from sklearn.model_selection import train_test_split\n",
    "from sklearn.preprocessing import OneHotEncoder, LabelEncoder\n",
    "from sklearn.ensemble import RandomForestClassifier\n",
    "from sklearn.linear_model import LogisticRegression\n",
    "from sklearn.tree import DecisionTreeClassifier\n",
    "from sklearn.metrics import classification_report, accuracy_score\n",
    "import seaborn as sns\n",
    "import matplotlib.pyplot as plt\n",
    "\n",
    "# Convert 'Date' to datetime\n",
    "df['Date'] = pd.to_datetime(df['Date'])\n",
    "\n",
    "# Feature engineering: Extract additional time-based features\n",
    "df['Year'] = df['Date'].dt.year\n",
    "df['Month'] = df['Date'].dt.month\n",
    "df['DayOfMonth'] = df['Date'].dt.day\n",
    "\n",
    "# One-hot encoding for 'FullStreet', 'neighborhood', 'zip'\n",
    "df = pd.get_dummies(df, columns=['FullStreet', 'neighborhood', 'zip'], drop_first=True)\n",
    "\n",
    "# Label encoding for ordered variables (those with a natural order like 'DayOfWeek', 'Season', 'TimeOfDay')\n",
    "label_encoders = {}\n",
    "for column in ['DayOfWeek', 'Season', 'TimeOfDay', 'Agency', 'ReportingOfficer']:  # Example ordinal variables\n",
    "    le = LabelEncoder()\n",
    "    df[column] = le.fit_transform(df[column])\n",
    "    label_encoders[column] = le\n",
    "\n",
    "# Filter the dataset to include only the offenses of interest\n",
    "offenses_of_interest = [\n",
    "    'Hit and Run', 'Assault Simple', 'Suspicious Activity', 'Vandalism', \n",
    "    'Larceny - From Mot Vehicle', 'Larceny - All Other', \n",
    "    'Assist Citizen - Mental/TDO/ECO', 'Lost/FoundProperty'\n",
    "]\n",
    "\n",
    "df = df[df['Offense'].isin(offenses_of_interest)]\n",
    "\n",
    "# Label encode the target variable (Offense)\n",
    "offense_encoder = LabelEncoder()\n",
    "df['Offense'] = offense_encoder.fit_transform(df['Offense'])\n",
    "\n",
    "# Separate features (X) and target (y)\n",
    "X = df[['Year', 'Month', 'DayOfMonth', 'DayOfWeek', 'Weekend', 'Season', 'TimeOfDay', 'lat', 'lon', 'Agency', 'ReportingOfficer']]\n",
    "y = df['Offense']  # Offense is now the encoded target variable\n",
    "\n",
    "# Split the data into training and testing sets\n",
    "X_train, X_test, y_train, y_test = train_test_split(X, y, test_size=0.3, random_state=42)\n"
   ]
  },
  {
   "cell_type": "markdown",
   "id": "d0416604",
   "metadata": {
    "papermill": {
     "duration": 0.007986,
     "end_time": "2025-04-14T01:03:31.668088",
     "exception": false,
     "start_time": "2025-04-14T01:03:31.660102",
     "status": "completed"
    },
    "tags": []
   },
   "source": [
    "### Model Training\n",
    "\n",
    "Here we will train several models (e.g., Random Forest, Logistic Regression, and Decision Tree). We will use cross-validation to choose the best model based on accuracy, and then explain the impact of the variables."
   ]
  },
  {
   "cell_type": "code",
   "execution_count": 22,
   "id": "94eb1796",
   "metadata": {
    "execution": {
     "iopub.execute_input": "2025-04-14T01:03:31.686393Z",
     "iopub.status.busy": "2025-04-14T01:03:31.685612Z",
     "iopub.status.idle": "2025-04-14T01:03:35.282055Z",
     "shell.execute_reply": "2025-04-14T01:03:35.281451Z"
    },
    "papermill": {
     "duration": 3.606906,
     "end_time": "2025-04-14T01:03:35.283220",
     "exception": false,
     "start_time": "2025-04-14T01:03:31.676314",
     "status": "completed"
    },
    "tags": []
   },
   "outputs": [
    {
     "name": "stderr",
     "output_type": "stream",
     "text": [
      "/opt/hostedtoolcache/Python/3.9.21/x64/lib/python3.9/site-packages/sklearn/linear_model/_logistic.py:465: ConvergenceWarning: lbfgs failed to converge (status=1):\n",
      "STOP: TOTAL NO. of ITERATIONS REACHED LIMIT.\n",
      "\n",
      "Increase the number of iterations (max_iter) or scale the data as shown in:\n",
      "    https://scikit-learn.org/stable/modules/preprocessing.html\n",
      "Please also refer to the documentation for alternative solver options:\n",
      "    https://scikit-learn.org/stable/modules/linear_model.html#logistic-regression\n",
      "  n_iter_i = _check_optimize_result(\n",
      "/opt/hostedtoolcache/Python/3.9.21/x64/lib/python3.9/site-packages/sklearn/metrics/_classification.py:1565: UndefinedMetricWarning: Precision is ill-defined and being set to 0.0 in labels with no predicted samples. Use `zero_division` parameter to control this behavior.\n",
      "  _warn_prf(average, modifier, f\"{metric.capitalize()} is\", len(result))\n",
      "/opt/hostedtoolcache/Python/3.9.21/x64/lib/python3.9/site-packages/sklearn/metrics/_classification.py:1565: UndefinedMetricWarning: Precision is ill-defined and being set to 0.0 in labels with no predicted samples. Use `zero_division` parameter to control this behavior.\n",
      "  _warn_prf(average, modifier, f\"{metric.capitalize()} is\", len(result))\n",
      "/opt/hostedtoolcache/Python/3.9.21/x64/lib/python3.9/site-packages/sklearn/metrics/_classification.py:1565: UndefinedMetricWarning: Precision is ill-defined and being set to 0.0 in labels with no predicted samples. Use `zero_division` parameter to control this behavior.\n",
      "  _warn_prf(average, modifier, f\"{metric.capitalize()} is\", len(result))\n"
     ]
    },
    {
     "name": "stdout",
     "output_type": "stream",
     "text": [
      "\n",
      "Classification Report for All Models:\n",
      "\n",
      "Model: RandomForest\n",
      "Accuracy: 0.2892\n",
      "              precision    recall  f1-score     support\n",
      "0              0.270235  0.361888  0.309417   572.00000\n",
      "1              0.323024  0.219626  0.261474   428.00000\n",
      "2              0.320935  0.438316  0.370552   689.00000\n",
      "3              0.202703  0.168539  0.184049   445.00000\n",
      "4              0.369231  0.205128  0.263736   351.00000\n",
      "5              0.253465  0.256000  0.254726   500.00000\n",
      "6              0.313472  0.257996  0.283041   469.00000\n",
      "accuracy       0.289230  0.289230  0.289230     0.28923\n",
      "macro avg      0.293295  0.272499  0.275285  3454.00000\n",
      "weighted avg   0.291693  0.289230  0.283379  3454.00000\n"
     ]
    },
    {
     "data": {
      "image/png": "[encoded data removed]",
      "text/plain": [
       "<Figure size 800x600 with 2 Axes>"
      ]
     },
     "metadata": {},
     "output_type": "display_data"
    },
    {
     "name": "stdout",
     "output_type": "stream",
     "text": [
      "\n",
      "Model: LogisticRegression\n",
      "Accuracy: 0.2070\n",
      "              precision    recall  f1-score      support\n",
      "0              0.183292  0.513986  0.270221   572.000000\n",
      "1              0.000000  0.000000  0.000000   428.000000\n",
      "2              0.226754  0.605225  0.329905   689.000000\n",
      "3              0.000000  0.000000  0.000000   445.000000\n",
      "4              0.000000  0.000000  0.000000   351.000000\n",
      "5              0.000000  0.000000  0.000000   500.000000\n",
      "6              0.363636  0.008529  0.016667   469.000000\n",
      "accuracy       0.207006  0.207006  0.207006     0.207006\n",
      "macro avg      0.110526  0.161106  0.088113  3454.000000\n",
      "weighted avg   0.124963  0.207006  0.112822  3454.000000\n"
     ]
    },
    {
     "data": {
      "image/png": "[encoded data removed]",
      "text/plain": [
       "<Figure size 800x600 with 2 Axes>"
      ]
     },
     "metadata": {},
     "output_type": "display_data"
    },
    {
     "name": "stdout",
     "output_type": "stream",
     "text": [
      "\n",
      "Model: DecisionTree\n",
      "Accuracy: 0.2163\n",
      "              precision    recall  f1-score      support\n",
      "0              0.224872  0.230769  0.227783   572.000000\n",
      "1              0.228856  0.214953  0.221687   428.000000\n",
      "2              0.278638  0.261248  0.269663   689.000000\n",
      "3              0.165909  0.164045  0.164972   445.000000\n",
      "4              0.208571  0.207977  0.208274   351.000000\n",
      "5              0.180000  0.198000  0.188571   500.000000\n",
      "6              0.204593  0.208955  0.206751   469.000000\n",
      "accuracy       0.216271  0.216271  0.216271     0.216271\n",
      "macro avg      0.213063  0.212278  0.212529  3454.000000\n",
      "weighted avg   0.217589  0.216271  0.216775  3454.000000\n"
     ]
    },
    {
     "data": {
      "image/png": "[encoded data removed]",
      "text/plain": [
       "<Figure size 800x600 with 2 Axes>"
      ]
     },
     "metadata": {},
     "output_type": "display_data"
    },
    {
     "name": "stdout",
     "output_type": "stream",
     "text": [
      "\n",
      "Best Model:\n",
      "Best Model: RandomForestClassifier()\n",
      "Best Model Accuracy: 0.2892\n"
     ]
    }
   ],
   "source": [
    "import pandas as pd\n",
    "from sklearn.model_selection import train_test_split\n",
    "from sklearn.ensemble import RandomForestClassifier\n",
    "from sklearn.linear_model import LogisticRegression\n",
    "from sklearn.tree import DecisionTreeClassifier\n",
    "from sklearn.metrics import classification_report, accuracy_score, confusion_matrix\n",
    "import seaborn as sns\n",
    "import matplotlib.pyplot as plt\n",
    "\n",
    "# Define models\n",
    "models = {\n",
    "    'RandomForest': RandomForestClassifier(),\n",
    "    'LogisticRegression': LogisticRegression(max_iter=1000),\n",
    "    'DecisionTree': DecisionTreeClassifier()\n",
    "}\n",
    "\n",
    "# Train models and evaluate them\n",
    "best_model = None\n",
    "best_score = 0\n",
    "model_reports = {}\n",
    "\n",
    "for model_name, model in models.items():\n",
    "    model.fit(X_train, y_train)  # Train model\n",
    "    y_pred = model.predict(X_test)  # Make predictions\n",
    "    \n",
    "    # Calculate accuracy and generate classification report\n",
    "    accuracy = accuracy_score(y_test, y_pred)\n",
    "    model_reports[model_name] = classification_report(y_test, y_pred, output_dict=True)  # Store as a dictionary for easier analysis\n",
    "    \n",
    "    # Track best performing model\n",
    "    if accuracy > best_score:\n",
    "        best_score = accuracy\n",
    "        best_model = model\n",
    "\n",
    "# Display classification reports and confusion matrices\n",
    "print(\"\\nClassification Report for All Models:\")\n",
    "for model_name, report in model_reports.items():\n",
    "    print(f\"\\nModel: {model_name}\")\n",
    "    print(\"Accuracy: {:.4f}\".format(accuracy_score(y_test, models[model_name].predict(X_test))))  # Display accuracy\n",
    "    print(pd.DataFrame(report).transpose())  # Display classification report as a DataFrame\n",
    "\n",
    "    # Plot Confusion Matrix\n",
    "    cm = confusion_matrix(y_test, models[model_name].predict(X_test))\n",
    "    plt.figure(figsize=(8, 6))\n",
    "    sns.heatmap(cm, annot=True, fmt=\"d\", cmap='Blues', xticklabels=offense_encoder.classes_, yticklabels=offense_encoder.classes_)\n",
    "    plt.title(f\"Confusion Matrix - {model_name}\")\n",
    "    plt.xlabel('Predicted Labels')\n",
    "    plt.ylabel('True Labels')\n",
    "    plt.show()\n",
    "\n",
    "# Display best model details\n",
    "print(\"\\nBest Model:\")\n",
    "print(f\"Best Model: {best_model}\")\n",
    "print(f\"Best Model Accuracy: {best_score:.4f}\")\n"
   ]
  },
  {
   "cell_type": "markdown",
   "id": "765fbf02",
   "metadata": {
    "papermill": {
     "duration": 0.010595,
     "end_time": "2025-04-14T01:03:35.305310",
     "exception": false,
     "start_time": "2025-04-14T01:03:35.294715",
     "status": "completed"
    },
    "tags": []
   },
   "source": [
    "#### Classification Report for All Models:\n",
    "\n",
    "### Explanation of the Classification Results (RandomForest Model)\n",
    "\n",
    "The results you provided are from a **Random Forest** model, which is used for predicting different types of offenses. Let's break down the key components of the results:\n",
    "\n",
    "#### 1. **Accuracy: 0.2822**\n",
    "   - **Accuracy** measures the overall percentage of correct predictions made by the model. An accuracy of 28.22% means the model correctly predicted the offense in about 28% of the cases. This indicates the model's predictions are not highly reliable, as the accuracy is quite low.\n",
    "\n",
    "#### 2. **Classification Report:**\n",
    "   The classification report includes precision, recall, and F1-score for each offense. Let's go over these terms and how they apply to the results:\n",
    "\n",
    "   - **Precision**: The proportion of true positive predictions out of all positive predictions made by the model for a specific class (offense).\n",
    "   - **Recall**: The proportion of true positive predictions out of all actual positive instances in the dataset.\n",
    "   - **F1-Score**: The harmonic mean of precision and recall, providing a balance between the two metrics.\n",
    "   - **Support**: The number of actual occurrences of each class in the test set.\n",
    "\n",
    "   Let's analyze each offense based on these metrics:\n",
    "\n",
    "   | **Offense**                        | **Precision** | **Recall** | **F1-Score** | **Support** |\n",
    "   |------------------------------------|---------------|------------|--------------|-------------|\n",
    "   | **Assault Simple**                 | 0.2892        | 0.3754     | 0.3267       | 594         |\n",
    "   | **Assist Citizen - Mental/TDO/ECO**| 0.3182        | 0.2274     | 0.2652       | 431         |\n",
    "   | **Hit and Run**                    | 0.2963        | 0.4765     | 0.3654       | 638         |\n",
    "   | **Larceny - All Other**            | 0.2270        | 0.1453     | 0.1772       | 475         |\n",
    "   | **Lost/FoundProperty**             | 0.3333        | 0.2102     | 0.2578       | 352         |\n",
    "   | **Suspicious Activity**            | 0.2344        | 0.2169     | 0.2253       | 484         |\n",
    "   | **Vandalism**                      | 0.2712        | 0.2106     | 0.2371       | 470         |\n",
    "\n",
    "#### 3. **Key Insights from the Report:**\n",
    "\n",
    "- **Precision**:\n",
    "   - The highest precision is for **Larceny - All Other** (0.3333), indicating that when the model predicts this offense, it is correct about 33% of the time. However, this is still quite low.\n",
    "   - **Assist Citizen - Mental/TDO/ECO** has the lowest precision (0.2269), meaning that the model's predictions for this offense tend to be wrong more often than correct.\n",
    "\n",
    "- **Recall**:\n",
    "   - **Hit and Run** has the highest recall (0.4765), meaning the model identifies about 48% of the actual occurrences of this offense. This is better than the precision, which indicates it is missing many true positives but is still able to identify a fair number of cases.\n",
    "   - **Larceny - All Other** and **Suspicious Activity** have the lowest recall values (0.1453 and 0.2169, respectively), indicating that the model is failing to identify most of the actual cases for these offenses.\n",
    "\n",
    "- **F1-Score**:\n",
    "   - The **F1-Score** balances precision and recall. It is highest for **Hit and Run** (0.3654), but still relatively low overall. This suggests the model is better at identifying **Hit and Run** than other offenses but still has room for improvement.\n",
    "   - **Larceny - All Other** has the lowest F1-Score (0.1772), indicating a poor balance between precision and recall for this offense.\n",
    "\n",
    "#### 4. **Macro Average and Weighted Average:**\n",
    "   - **Macro Average**: This gives the average precision, recall, and F1-Score across all classes (offenses) without considering the class distribution. It averages the results for all offenses equally.\n",
    "     - Precision: 0.2814\n",
    "     - Recall: 0.2661\n",
    "     - F1-Score: 0.2649\n",
    "   - **Weighted Average**: This averages the metrics but weighs each class by its support (the number of true instances in the test set). This gives a better sense of overall performance, considering the class distribution.\n",
    "     - Precision: 0.2799\n",
    "     - Recall: 0.2822\n",
    "     - F1-Score: 0.2720\n",
    "\n",
    "#### 5. **Confusion Matrix (Visualization Analysis)**:\n",
    "   - The confusion matrix shows the distribution of true positive, false positive, true negative, and false negative predictions for each class.\n",
    "     - For **Hit and Run**, the model performs relatively well in identifying this offense (304 true positives). However, it also misclassifies some **Hit and Run** instances as other offenses (e.g., **Assault Simple**, **Suspicious Activity**, etc.).\n",
    "     - **Larceny - All Other** is frequently misclassified as **Hit and Run**, **Suspicious Activity**, and others. This is evident from the large number of off-diagonal elements in its row.\n",
    "     - **Assist Citizen - Mental/TDO/ECO** and **Suspicious Activity** are frequently misclassified, as seen by the off-diagonal values in their rows.\n",
    "\n",
    "### Conclusion:\n",
    "The Random Forest model has low accuracy (28.22%), suggesting that it struggles to predict most offenses accurately. Some offenses like **Hit and Run** are better predicted than others, but overall, the model shows a high level of misclassification across all offenses. There may be a need for further tuning of the model, additional feature engineering, or trying different models for better performance.\n",
    "\n",
    "Let me know if you'd like to improve the model or make adjustments based on these results!\n",
    "\n"
   ]
  },
  {
   "cell_type": "markdown",
   "id": "32cdce35",
   "metadata": {
    "papermill": {
     "duration": 0.010822,
     "end_time": "2025-04-14T01:03:35.327131",
     "exception": false,
     "start_time": "2025-04-14T01:03:35.316309",
     "status": "completed"
    },
    "tags": []
   },
   "source": [
    "### Model Explanation\n",
    "\n",
    "Once we’ve chosen the best model, we will explain its predictions by examining feature importance for tree-based models and using statistical methods like logistic regression coefficients for linear models."
   ]
  },
  {
   "cell_type": "markdown",
   "id": "0cca898c",
   "metadata": {
    "papermill": {
     "duration": 0.01061,
     "end_time": "2025-04-14T01:03:35.348545",
     "exception": false,
     "start_time": "2025-04-14T01:03:35.337935",
     "status": "completed"
    },
    "tags": []
   },
   "source": [
    "#### Feature Importance for Random Forest / Decision Tree\n",
    "\n",
    "##### For Tree-based Models (Random Forest, Decision Tree)\n",
    "\n",
    "For Random Forest or Decision Tree, we can look at feature importance to understand which variables contribute the most to the model's predictions. Here's how you can visualize and interpret the importance of each feature:"
   ]
  },
  {
   "cell_type": "code",
   "execution_count": 23,
   "id": "e5b8d5be",
   "metadata": {
    "execution": {
     "iopub.execute_input": "2025-04-14T01:03:35.371642Z",
     "iopub.status.busy": "2025-04-14T01:03:35.371067Z",
     "iopub.status.idle": "2025-04-14T01:03:35.541779Z",
     "shell.execute_reply": "2025-04-14T01:03:35.541108Z"
    },
    "papermill": {
     "duration": 0.18349,
     "end_time": "2025-04-14T01:03:35.542863",
     "exception": false,
     "start_time": "2025-04-14T01:03:35.359373",
     "status": "completed"
    },
    "tags": []
   },
   "outputs": [
    {
     "data": {
      "image/png": "[encoded data removed]",
      "text/plain": [
       "<Figure size 1000x600 with 1 Axes>"
      ]
     },
     "metadata": {},
     "output_type": "display_data"
    }
   ],
   "source": [
    "# For RandomForest or DecisionTree models, we can check feature importance\n",
    "if isinstance(best_model, RandomForestClassifier) or isinstance(best_model, DecisionTreeClassifier):\n",
    "    feature_importance = best_model.feature_importances_\n",
    "    feature_names = X.columns\n",
    "    importance_df = pd.DataFrame({'Feature': feature_names, 'Importance': feature_importance})\n",
    "    importance_df = importance_df.sort_values(by='Importance', ascending=False)\n",
    "    \n",
    "    # Plotting the feature importances\n",
    "    plt.figure(figsize=(10, 6))\n",
    "    sns.barplot(x='Importance', y='Feature', data=importance_df)\n",
    "    plt.title(\"Feature Importance\")\n",
    "    plt.show()\n"
   ]
  },
  {
   "cell_type": "code",
   "execution_count": null,
   "id": "05121de3",
   "metadata": {
    "papermill": {
     "duration": 0.011214,
     "end_time": "2025-04-14T01:03:35.565678",
     "exception": false,
     "start_time": "2025-04-14T01:03:35.554464",
     "status": "completed"
    },
    "tags": []
   },
   "outputs": [],
   "source": []
  },
  {
   "cell_type": "markdown",
   "id": "75f3a3ed",
   "metadata": {
    "papermill": {
     "duration": 0.011061,
     "end_time": "2025-04-14T01:03:35.588052",
     "exception": false,
     "start_time": "2025-04-14T01:03:35.576991",
     "status": "completed"
    },
    "tags": []
   },
   "source": [
    "### Evaluation\n",
    "\n",
    "After training the models and examining their performance, we evaluate the chosen model based on metrics like accuracy, precision, recall, and F1 score.\n",
    "\n"
   ]
  },
  {
   "cell_type": "code",
   "execution_count": 24,
   "id": "ff3033df",
   "metadata": {
    "execution": {
     "iopub.execute_input": "2025-04-14T01:03:35.611944Z",
     "iopub.status.busy": "2025-04-14T01:03:35.611204Z",
     "iopub.status.idle": "2025-04-14T01:03:35.703498Z",
     "shell.execute_reply": "2025-04-14T01:03:35.702808Z"
    },
    "papermill": {
     "duration": 0.105556,
     "end_time": "2025-04-14T01:03:35.704701",
     "exception": false,
     "start_time": "2025-04-14T01:03:35.599145",
     "status": "completed"
    },
    "tags": []
   },
   "outputs": [
    {
     "name": "stdout",
     "output_type": "stream",
     "text": [
      "Accuracy: 0.2892\n",
      "Classification Report:\n",
      "              precision    recall  f1-score   support\n",
      "\n",
      "           0       0.27      0.36      0.31       572\n",
      "           1       0.32      0.22      0.26       428\n",
      "           2       0.32      0.44      0.37       689\n",
      "           3       0.20      0.17      0.18       445\n",
      "           4       0.37      0.21      0.26       351\n",
      "           5       0.25      0.26      0.25       500\n",
      "           6       0.31      0.26      0.28       469\n",
      "\n",
      "    accuracy                           0.29      3454\n",
      "   macro avg       0.29      0.27      0.28      3454\n",
      "weighted avg       0.29      0.29      0.28      3454\n",
      "\n",
      "Confusion Matrix:\n",
      "[[207  55 126  57  17  81  29]\n",
      " [126  94  90  31  12  52  23]\n",
      " [134  47 302  72  14  74  46]\n",
      " [ 77  17 121  75  25  65  65]\n",
      " [ 52  23  72  44  72  36  52]\n",
      " [ 93  31 124  45  29 128  50]\n",
      " [ 77  24 106  46  26  69 121]]\n",
      "Precision: 0.2917\n",
      "Recall: 0.2892\n",
      "F1 Score: 0.2834\n"
     ]
    }
   ],
   "source": [
    "from sklearn.metrics import classification_report, confusion_matrix, accuracy_score, precision_score, recall_score, f1_score\n",
    "\n",
    "# Predict on the test set\n",
    "y_pred = best_model.predict(X_test)\n",
    "\n",
    "# Calculate Accuracy\n",
    "accuracy = accuracy_score(y_test, y_pred)\n",
    "print(f\"Accuracy: {accuracy:.4f}\")\n",
    "\n",
    "# Classification Report\n",
    "print(\"Classification Report:\")\n",
    "print(classification_report(y_test, y_pred))\n",
    "\n",
    "# Confusion Matrix\n",
    "conf_matrix = confusion_matrix(y_test, y_pred)\n",
    "print(\"Confusion Matrix:\")\n",
    "print(conf_matrix)\n",
    "\n",
    "# Precision, Recall, F1 Score for each class (Offense Type)\n",
    "precision = precision_score(y_test, y_pred, average='weighted')\n",
    "recall = recall_score(y_test, y_pred, average='weighted')\n",
    "f1 = f1_score(y_test, y_pred, average='weighted')\n",
    "\n",
    "print(f\"Precision: {precision:.4f}\")\n",
    "print(f\"Recall: {recall:.4f}\")\n",
    "print(f\"F1 Score: {f1:.4f}\")\n"
   ]
  },
  {
   "cell_type": "markdown",
   "id": "a0c90608",
   "metadata": {
    "papermill": {
     "duration": 0.011091,
     "end_time": "2025-04-14T01:03:35.727401",
     "exception": false,
     "start_time": "2025-04-14T01:03:35.716310",
     "status": "completed"
    },
    "tags": []
   },
   "source": [
    "#### For Logistic Regression (Coefficient Interpretation)\n",
    "\n",
    "For Logistic Regression, the model coefficients can help us understand how each feature affects the likelihood of an offense happening. A positive coefficient indicates a feature increases the likelihood of the offense, and a negative coefficient indicates the opposite."
   ]
  },
  {
   "cell_type": "code",
   "execution_count": 25,
   "id": "4cdfb254",
   "metadata": {
    "execution": {
     "iopub.execute_input": "2025-04-14T01:03:35.751036Z",
     "iopub.status.busy": "2025-04-14T01:03:35.750514Z",
     "iopub.status.idle": "2025-04-14T01:03:35.755476Z",
     "shell.execute_reply": "2025-04-14T01:03:35.754914Z"
    },
    "papermill": {
     "duration": 0.018031,
     "end_time": "2025-04-14T01:03:35.756557",
     "exception": false,
     "start_time": "2025-04-14T01:03:35.738526",
     "status": "completed"
    },
    "tags": []
   },
   "outputs": [],
   "source": [
    "if isinstance(best_model, LogisticRegression):\n",
    "    # Logistic regression coefficients\n",
    "    coef_df = pd.DataFrame({\n",
    "        'Feature': X.columns,\n",
    "        'Coefficient': best_model.coef_[0]\n",
    "    })\n",
    "    coef_df['AbsCoefficient'] = coef_df['Coefficient'].abs()\n",
    "    coef_df = coef_df.sort_values(by='AbsCoefficient', ascending=False)\n",
    "    \n",
    "    # Plotting the coefficients\n",
    "    plt.figure(figsize=(10, 6))\n",
    "    sns.barplot(x='AbsCoefficient', y='Feature', data=coef_df)\n",
    "    plt.title(\"Logistic Regression Coefficients Impact\")\n",
    "    plt.show()\n",
    "\n",
    "    # Print the top 5 most impactful features (by absolute coefficient value)\n",
    "    print(\"Top 5 most impactful features based on coefficients:\")\n",
    "    print(coef_df.head())\n"
   ]
  },
  {
   "cell_type": "markdown",
   "id": "90c62d84",
   "metadata": {
    "papermill": {
     "duration": 0.011093,
     "end_time": "2025-04-14T01:03:35.778946",
     "exception": false,
     "start_time": "2025-04-14T01:03:35.767853",
     "status": "completed"
    },
    "tags": []
   },
   "source": [
    "Explanation of Output:\n",
    "\n",
    "Feature Importance (Random Forest/Decision Tree): The bar plot will show how important each feature is in the decision-making process. Features at the top of the list are the most influential in predicting the occurrence of offenses.\n",
    "\n",
    "Logistic Regression Coefficients: The bar plot will show the magnitude of the coefficients for each feature. Features with larger absolute values (either positive or negative) have a stronger impact on the model’s predictions. Positive coefficients increase the probability of an offense, while negative coefficients decrease it."
   ]
  },
  {
   "cell_type": "markdown",
   "id": "fbe9bf79",
   "metadata": {
    "papermill": {
     "duration": 0.011036,
     "end_time": "2025-04-14T01:03:35.801181",
     "exception": false,
     "start_time": "2025-04-14T01:03:35.790145",
     "status": "completed"
    },
    "tags": []
   },
   "source": []
  }
 ],
 "metadata": {
  "kernelspec": {
   "display_name": "Python 3",
   "language": "python",
   "name": "python3"
  },
  "language_info": {
   "codemirror_mode": {
    "name": "ipython",
    "version": 3
   },
   "file_extension": ".py",
   "mimetype": "text/x-python",
   "name": "python",
   "nbconvert_exporter": "python",
   "pygments_lexer": "ipython3",
   "version": "3.9.21"
  },
  "papermill": {
   "default_parameters": {},
   "duration": 79.76865,
   "end_time": "2025-04-14T01:03:36.330584",
   "environment_variables": {},
   "exception": null,
   "input_path": "notebook/Crime Data.ipynb",
   "output_path": "notebook/Crime Data_output.ipynb",
   "parameters": {},
   "start_time": "2025-04-14T01:02:16.561934",
   "version": "2.6.0"
  }
 },
 "nbformat": 4,
 "nbformat_minor": 5
}