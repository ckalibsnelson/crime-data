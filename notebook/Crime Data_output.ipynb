{
 "cells": [
  {
   "cell_type": "markdown",
   "id": "9774965a",
   "metadata": {
    "papermill": {
     "duration": 0.004379,
     "end_time": "2025-08-15T01:06:17.094859",
     "exception": false,
     "start_time": "2025-08-15T01:06:17.090480",
     "status": "completed"
    },
    "tags": []
   },
   "source": [
    "# Charlottesville Open Data Porttal: Crime Data"
   ]
  },
  {
   "cell_type": "markdown",
   "id": "4773e93f",
   "metadata": {
    "papermill": {
     "duration": 0.003344,
     "end_time": "2025-08-15T01:06:17.101794",
     "exception": false,
     "start_time": "2025-08-15T01:06:17.098450",
     "status": "completed"
    },
    "tags": []
   },
   "source": [
    "## Import Relevant Librarires & Set WD"
   ]
  },
  {
   "cell_type": "code",
   "execution_count": 1,
   "id": "00634bf2",
   "metadata": {
    "execution": {
     "iopub.execute_input": "2025-08-15T01:06:17.109452Z",
     "iopub.status.busy": "2025-08-15T01:06:17.109193Z",
     "iopub.status.idle": "2025-08-15T01:06:17.658765Z",
     "shell.execute_reply": "2025-08-15T01:06:17.658029Z"
    },
    "papermill": {
     "duration": 0.555152,
     "end_time": "2025-08-15T01:06:17.660257",
     "exception": false,
     "start_time": "2025-08-15T01:06:17.105105",
     "status": "completed"
    },
    "tags": []
   },
   "outputs": [],
   "source": [
    "import requests\n",
    "import pandas as pd\n",
    "import numpy as np\n",
    "import pickle\n",
    "import googlemaps\n",
    "import plotly.express as px\n",
    "from geopy.geocoders import Nominatim\n",
    "import time\n",
    "from dotenv import load_dotenv\n",
    "import os\n",
    "\n",
    "env_path = os.path.join(\"..\", \".env\")\n",
    "#print(\"Looking for .env file at:\", os.path.abspath(env_path))\n",
    "load_dotenv(dotenv_path=env_path)\n",
    "\n",
    "# Retrieve the variables\n",
    "GOOGLE_API_KEY = os.getenv(\"GOOGLE_API_KEY\")\n",
    "WORKING_DIR = os.getenv(\"WORKING_DIR\")\n",
    "\n",
    "if GOOGLE_API_KEY is None or WORKING_DIR is None:\n",
    "    raise RuntimeError(\"No configuration found. Please ensure that your .env file exists with the required variables, or create a local config.py file.\")\n",
    "\n",
    "#print(\"Google API Key:\", GOOGLE_API_KEY)\n",
    "#print(\"Working Directory:\", WORKING_DIR)"
   ]
  },
  {
   "cell_type": "markdown",
   "id": "7dcdab91",
   "metadata": {
    "papermill": {
     "duration": 0.003359,
     "end_time": "2025-08-15T01:06:17.668186",
     "exception": false,
     "start_time": "2025-08-15T01:06:17.664827",
     "status": "completed"
    },
    "tags": []
   },
   "source": [
    "## Import Data\n",
    "\n",
    "URL: https://opendata.charlottesville.org/datasets/charlottesville::crime-data/about"
   ]
  },
  {
   "cell_type": "code",
   "execution_count": 2,
   "id": "4f44c14c",
   "metadata": {
    "execution": {
     "iopub.execute_input": "2025-08-15T01:06:17.675681Z",
     "iopub.status.busy": "2025-08-15T01:06:17.675392Z",
     "iopub.status.idle": "2025-08-15T01:07:28.943297Z",
     "shell.execute_reply": "2025-08-15T01:07:28.942595Z"
    },
    "papermill": {
     "duration": 71.275723,
     "end_time": "2025-08-15T01:07:28.947192",
     "exception": false,
     "start_time": "2025-08-15T01:06:17.671469",
     "status": "completed"
    },
    "tags": []
   },
   "outputs": [
    {
     "name": "stdout",
     "output_type": "stream",
     "text": [
      "Total records imported: 25648\n"
     ]
    }
   ],
   "source": [
    "# Define the endpoint and initial parameters.\n",
    "url = \"https://gisweb.charlottesville.org/arcgis/rest/services/OpenData_2/MapServer/6/query\"\n",
    "params = {\n",
    "    \"where\": \"1=1\",\n",
    "    \"outFields\": \"*\",\n",
    "    \"outSR\": 4326,\n",
    "    \"f\": \"json\",\n",
    "    \"resultOffset\": 0,       # Starting index for results\n",
    "    \"resultRecordCount\": 10000  # Maximum records per batch (if allowed by the API)\n",
    "}\n",
    "\n",
    "records = []\n",
    "\n",
    "while True:\n",
    "    response = requests.get(url, params=params)\n",
    "    response.raise_for_status()\n",
    "    data = response.json()\n",
    "    \n",
    "    # Get the current batch of features.\n",
    "    features = data.get(\"features\", [])\n",
    "    if not features:\n",
    "        break\n",
    "\n",
    "    # Extract the attributes from the features.\n",
    "    batch_records = [feature.get(\"attributes\", {}) for feature in features]\n",
    "    records.extend(batch_records)\n",
    "    \n",
    "    # If the batch size is less than the requested count, we reached the end.\n",
    "    if len(features) < params[\"resultRecordCount\"]:\n",
    "        break\n",
    "\n",
    "    # Update the resultOffset for the next batch.\n",
    "    params[\"resultOffset\"] += params[\"resultRecordCount\"]\n",
    "\n",
    "# Create a DataFrame from the combined records.\n",
    "df = pd.DataFrame(records)\n",
    "print(\"Total records imported:\", len(df))\n"
   ]
  },
  {
   "cell_type": "code",
   "execution_count": 3,
   "id": "c8f43d6c",
   "metadata": {
    "execution": {
     "iopub.execute_input": "2025-08-15T01:07:28.954991Z",
     "iopub.status.busy": "2025-08-15T01:07:28.954765Z",
     "iopub.status.idle": "2025-08-15T01:07:28.966756Z",
     "shell.execute_reply": "2025-08-15T01:07:28.966230Z"
    },
    "papermill": {
     "duration": 0.017111,
     "end_time": "2025-08-15T01:07:28.967760",
     "exception": false,
     "start_time": "2025-08-15T01:07:28.950649",
     "status": "completed"
    },
    "tags": []
   },
   "outputs": [
    {
     "data": {
      "text/html": [
       "<div>\n",
       "<style scoped>\n",
       "    .dataframe tbody tr th:only-of-type {\n",
       "        vertical-align: middle;\n",
       "    }\n",
       "\n",
       "    .dataframe tbody tr th {\n",
       "        vertical-align: top;\n",
       "    }\n",
       "\n",
       "    .dataframe thead th {\n",
       "        text-align: right;\n",
       "    }\n",
       "</style>\n",
       "<table border=\"1\" class=\"dataframe\">\n",
       "  <thead>\n",
       "    <tr style=\"text-align: right;\">\n",
       "      <th></th>\n",
       "      <th>RecordID</th>\n",
       "      <th>Offense</th>\n",
       "      <th>IncidentID</th>\n",
       "      <th>BlockNumber</th>\n",
       "      <th>StreetName</th>\n",
       "      <th>Agency</th>\n",
       "      <th>DateReported</th>\n",
       "      <th>HourReported</th>\n",
       "      <th>ReportingOfficer</th>\n",
       "    </tr>\n",
       "  </thead>\n",
       "  <tbody>\n",
       "    <tr>\n",
       "      <th>0</th>\n",
       "      <td>1</td>\n",
       "      <td>Hit and Run</td>\n",
       "      <td>202500028577</td>\n",
       "      <td>1100</td>\n",
       "      <td>5TH ST SW</td>\n",
       "      <td>CPD</td>\n",
       "      <td>1755041455000</td>\n",
       "      <td>1930</td>\n",
       "      <td>Reed, Danielle</td>\n",
       "    </tr>\n",
       "    <tr>\n",
       "      <th>1</th>\n",
       "      <td>2</td>\n",
       "      <td>Hit and Run</td>\n",
       "      <td>202500028570</td>\n",
       "      <td>1500</td>\n",
       "      <td>GREEN ST</td>\n",
       "      <td>CPD</td>\n",
       "      <td>1755037284000</td>\n",
       "      <td>1821</td>\n",
       "      <td>Urban, Jacob</td>\n",
       "    </tr>\n",
       "    <tr>\n",
       "      <th>2</th>\n",
       "      <td>3</td>\n",
       "      <td>Fraud-false pretense</td>\n",
       "      <td>202500028568</td>\n",
       "      <td>1900</td>\n",
       "      <td>ARLINGTON BLVD</td>\n",
       "      <td>CPD</td>\n",
       "      <td>1755035691000</td>\n",
       "      <td>1754</td>\n",
       "      <td>Reed, Danielle</td>\n",
       "    </tr>\n",
       "    <tr>\n",
       "      <th>3</th>\n",
       "      <td>4</td>\n",
       "      <td>Animal - Bite</td>\n",
       "      <td>202500028567</td>\n",
       "      <td>700</td>\n",
       "      <td>RIVES ST</td>\n",
       "      <td>CPD</td>\n",
       "      <td>1755035109000</td>\n",
       "      <td>1745</td>\n",
       "      <td>Urban, Jacob</td>\n",
       "    </tr>\n",
       "    <tr>\n",
       "      <th>4</th>\n",
       "      <td>5</td>\n",
       "      <td>Drug Equipment Violation</td>\n",
       "      <td>202500028562</td>\n",
       "      <td>400</td>\n",
       "      <td>E MAIN ST</td>\n",
       "      <td>CPD</td>\n",
       "      <td>1755033746000</td>\n",
       "      <td>1722</td>\n",
       "      <td>Carrasco, Julio</td>\n",
       "    </tr>\n",
       "  </tbody>\n",
       "</table>\n",
       "</div>"
      ],
      "text/plain": [
       "   RecordID                   Offense    IncidentID BlockNumber  \\\n",
       "0         1               Hit and Run  202500028577        1100   \n",
       "1         2               Hit and Run  202500028570        1500   \n",
       "2         3      Fraud-false pretense  202500028568        1900   \n",
       "3         4             Animal - Bite  202500028567         700   \n",
       "4         5  Drug Equipment Violation  202500028562         400   \n",
       "\n",
       "       StreetName Agency   DateReported HourReported ReportingOfficer  \n",
       "0       5TH ST SW    CPD  1755041455000         1930   Reed, Danielle  \n",
       "1        GREEN ST    CPD  1755037284000         1821     Urban, Jacob  \n",
       "2  ARLINGTON BLVD    CPD  1755035691000         1754   Reed, Danielle  \n",
       "3        RIVES ST    CPD  1755035109000         1745     Urban, Jacob  \n",
       "4       E MAIN ST    CPD  1755033746000         1722  Carrasco, Julio  "
      ]
     },
     "execution_count": 3,
     "metadata": {},
     "output_type": "execute_result"
    }
   ],
   "source": [
    "df.head()"
   ]
  },
  {
   "cell_type": "code",
   "execution_count": 4,
   "id": "00e42cb0",
   "metadata": {
    "execution": {
     "iopub.execute_input": "2025-08-15T01:07:28.975536Z",
     "iopub.status.busy": "2025-08-15T01:07:28.975316Z",
     "iopub.status.idle": "2025-08-15T01:07:28.979483Z",
     "shell.execute_reply": "2025-08-15T01:07:28.978808Z"
    },
    "papermill": {
     "duration": 0.009172,
     "end_time": "2025-08-15T01:07:28.980504",
     "exception": false,
     "start_time": "2025-08-15T01:07:28.971332",
     "status": "completed"
    },
    "tags": []
   },
   "outputs": [
    {
     "data": {
      "text/plain": [
       "Index(['RecordID', 'Offense', 'IncidentID', 'BlockNumber', 'StreetName',\n",
       "       'Agency', 'DateReported', 'HourReported', 'ReportingOfficer'],\n",
       "      dtype='object')"
      ]
     },
     "execution_count": 4,
     "metadata": {},
     "output_type": "execute_result"
    }
   ],
   "source": [
    "df.columns"
   ]
  },
  {
   "cell_type": "code",
   "execution_count": 5,
   "id": "c6e6cce3",
   "metadata": {
    "execution": {
     "iopub.execute_input": "2025-08-15T01:07:28.988548Z",
     "iopub.status.busy": "2025-08-15T01:07:28.988333Z",
     "iopub.status.idle": "2025-08-15T01:07:29.007599Z",
     "shell.execute_reply": "2025-08-15T01:07:29.006932Z"
    },
    "papermill": {
     "duration": 0.024474,
     "end_time": "2025-08-15T01:07:29.008670",
     "exception": false,
     "start_time": "2025-08-15T01:07:28.984196",
     "status": "completed"
    },
    "tags": []
   },
   "outputs": [
    {
     "name": "stdout",
     "output_type": "stream",
     "text": [
      "<class 'pandas.core.frame.DataFrame'>\n",
      "RangeIndex: 25648 entries, 0 to 25647\n",
      "Data columns (total 9 columns):\n",
      " #   Column            Non-Null Count  Dtype \n",
      "---  ------            --------------  ----- \n",
      " 0   RecordID          25648 non-null  int64 \n",
      " 1   Offense           25648 non-null  object\n",
      " 2   IncidentID        25648 non-null  object\n",
      " 3   BlockNumber       25648 non-null  object\n",
      " 4   StreetName        25648 non-null  object\n",
      " 5   Agency            25648 non-null  object\n",
      " 6   DateReported      25648 non-null  int64 \n",
      " 7   HourReported      25648 non-null  object\n",
      " 8   ReportingOfficer  25633 non-null  object\n",
      "dtypes: int64(2), object(7)\n",
      "memory usage: 1.8+ MB\n"
     ]
    }
   ],
   "source": [
    "df.info()"
   ]
  },
  {
   "cell_type": "markdown",
   "id": "ebaf9f37",
   "metadata": {
    "papermill": {
     "duration": 0.003726,
     "end_time": "2025-08-15T01:07:29.016167",
     "exception": false,
     "start_time": "2025-08-15T01:07:29.012441",
     "status": "completed"
    },
    "tags": []
   },
   "source": [
    "### Missing Values"
   ]
  },
  {
   "cell_type": "code",
   "execution_count": 6,
   "id": "ce8f14dc",
   "metadata": {
    "execution": {
     "iopub.execute_input": "2025-08-15T01:07:29.024367Z",
     "iopub.status.busy": "2025-08-15T01:07:29.024169Z",
     "iopub.status.idle": "2025-08-15T01:07:29.041464Z",
     "shell.execute_reply": "2025-08-15T01:07:29.040937Z"
    },
    "papermill": {
     "duration": 0.022503,
     "end_time": "2025-08-15T01:07:29.042428",
     "exception": false,
     "start_time": "2025-08-15T01:07:29.019925",
     "status": "completed"
    },
    "tags": []
   },
   "outputs": [
    {
     "name": "stdout",
     "output_type": "stream",
     "text": [
      "                  MissingCount  MissingPercentage\n",
      "RecordID                     0               0.00\n",
      "Offense                      0               0.00\n",
      "IncidentID                   0               0.00\n",
      "BlockNumber                  0               0.00\n",
      "StreetName                   0               0.00\n",
      "Agency                       0               0.00\n",
      "DateReported                 0               0.00\n",
      "HourReported                 0               0.00\n",
      "ReportingOfficer            15               0.06\n"
     ]
    }
   ],
   "source": [
    "def missing_percentage(df):\n",
    "    \"\"\"\n",
    "    Returns a DataFrame with the count and percentage of missing values for each column.\n",
    "    \n",
    "    Parameters:\n",
    "        df (pd.DataFrame): The input DataFrame.\n",
    "    \n",
    "    Returns:\n",
    "        pd.DataFrame: A DataFrame with columns 'MissingCount' and 'MissingPercentage'.\n",
    "    \"\"\"\n",
    "    total_rows = len(df)\n",
    "    missing_count = df.isnull().sum()\n",
    "    missing_percent = (missing_count / total_rows) * 100\n",
    "    \n",
    "    result = pd.DataFrame({\n",
    "        'MissingCount': missing_count,\n",
    "        'MissingPercentage': missing_percent.round(2)\n",
    "    })\n",
    "    \n",
    "    return result\n",
    "\n",
    "# Example usage:\n",
    "missing_info = missing_percentage(df)\n",
    "print(missing_info)\n"
   ]
  },
  {
   "cell_type": "markdown",
   "id": "1cd49cf8",
   "metadata": {
    "papermill": {
     "duration": 0.003734,
     "end_time": "2025-08-15T01:07:29.050096",
     "exception": false,
     "start_time": "2025-08-15T01:07:29.046362",
     "status": "completed"
    },
    "tags": []
   },
   "source": [
    "## Data Preparation"
   ]
  },
  {
   "cell_type": "markdown",
   "id": "925ac3ff",
   "metadata": {
    "papermill": {
     "duration": 0.003739,
     "end_time": "2025-08-15T01:07:29.057689",
     "exception": false,
     "start_time": "2025-08-15T01:07:29.053950",
     "status": "completed"
    },
    "tags": []
   },
   "source": [
    "### Data Conversion"
   ]
  },
  {
   "cell_type": "code",
   "execution_count": 7,
   "id": "06e63767",
   "metadata": {
    "execution": {
     "iopub.execute_input": "2025-08-15T01:07:29.066083Z",
     "iopub.status.busy": "2025-08-15T01:07:29.065889Z",
     "iopub.status.idle": "2025-08-15T01:07:29.423454Z",
     "shell.execute_reply": "2025-08-15T01:07:29.422731Z"
    },
    "papermill": {
     "duration": 0.362973,
     "end_time": "2025-08-15T01:07:29.424516",
     "exception": false,
     "start_time": "2025-08-15T01:07:29.061543",
     "status": "completed"
    },
    "tags": []
   },
   "outputs": [
    {
     "data": {
      "text/html": [
       "<div>\n",
       "<style scoped>\n",
       "    .dataframe tbody tr th:only-of-type {\n",
       "        vertical-align: middle;\n",
       "    }\n",
       "\n",
       "    .dataframe tbody tr th {\n",
       "        vertical-align: top;\n",
       "    }\n",
       "\n",
       "    .dataframe thead th {\n",
       "        text-align: right;\n",
       "    }\n",
       "</style>\n",
       "<table border=\"1\" class=\"dataframe\">\n",
       "  <thead>\n",
       "    <tr style=\"text-align: right;\">\n",
       "      <th></th>\n",
       "      <th>RecordID</th>\n",
       "      <th>Offense</th>\n",
       "      <th>IncidentID</th>\n",
       "      <th>BlockNumber</th>\n",
       "      <th>StreetName</th>\n",
       "      <th>Agency</th>\n",
       "      <th>HourReported</th>\n",
       "      <th>ReportingOfficer</th>\n",
       "      <th>Date</th>\n",
       "      <th>DateString</th>\n",
       "      <th>DayOfWeek</th>\n",
       "      <th>Weekend</th>\n",
       "      <th>Season</th>\n",
       "      <th>HourAMPM</th>\n",
       "      <th>TimeOfDay</th>\n",
       "    </tr>\n",
       "  </thead>\n",
       "  <tbody>\n",
       "    <tr>\n",
       "      <th>0</th>\n",
       "      <td>1</td>\n",
       "      <td>Hit and Run</td>\n",
       "      <td>202500028577</td>\n",
       "      <td>1100</td>\n",
       "      <td>5TH ST SW</td>\n",
       "      <td>CPD</td>\n",
       "      <td>1930</td>\n",
       "      <td>Reed, Danielle</td>\n",
       "      <td>2025-08-12 19:30:55</td>\n",
       "      <td>2025-08-12 07:30:55 PM</td>\n",
       "      <td>Tuesday</td>\n",
       "      <td>False</td>\n",
       "      <td>Summer</td>\n",
       "      <td>07:30 PM</td>\n",
       "      <td>Evening</td>\n",
       "    </tr>\n",
       "    <tr>\n",
       "      <th>1</th>\n",
       "      <td>2</td>\n",
       "      <td>Hit and Run</td>\n",
       "      <td>202500028570</td>\n",
       "      <td>1500</td>\n",
       "      <td>GREEN ST</td>\n",
       "      <td>CPD</td>\n",
       "      <td>1821</td>\n",
       "      <td>Urban, Jacob</td>\n",
       "      <td>2025-08-12 18:21:24</td>\n",
       "      <td>2025-08-12 06:21:24 PM</td>\n",
       "      <td>Tuesday</td>\n",
       "      <td>False</td>\n",
       "      <td>Summer</td>\n",
       "      <td>06:21 PM</td>\n",
       "      <td>Evening</td>\n",
       "    </tr>\n",
       "    <tr>\n",
       "      <th>2</th>\n",
       "      <td>3</td>\n",
       "      <td>Fraud-false pretense</td>\n",
       "      <td>202500028568</td>\n",
       "      <td>1900</td>\n",
       "      <td>ARLINGTON BLVD</td>\n",
       "      <td>CPD</td>\n",
       "      <td>1754</td>\n",
       "      <td>Reed, Danielle</td>\n",
       "      <td>2025-08-12 17:54:51</td>\n",
       "      <td>2025-08-12 05:54:51 PM</td>\n",
       "      <td>Tuesday</td>\n",
       "      <td>False</td>\n",
       "      <td>Summer</td>\n",
       "      <td>05:54 PM</td>\n",
       "      <td>Evening</td>\n",
       "    </tr>\n",
       "    <tr>\n",
       "      <th>3</th>\n",
       "      <td>4</td>\n",
       "      <td>Animal - Bite</td>\n",
       "      <td>202500028567</td>\n",
       "      <td>700</td>\n",
       "      <td>RIVES ST</td>\n",
       "      <td>CPD</td>\n",
       "      <td>1745</td>\n",
       "      <td>Urban, Jacob</td>\n",
       "      <td>2025-08-12 17:45:09</td>\n",
       "      <td>2025-08-12 05:45:09 PM</td>\n",
       "      <td>Tuesday</td>\n",
       "      <td>False</td>\n",
       "      <td>Summer</td>\n",
       "      <td>05:45 PM</td>\n",
       "      <td>Evening</td>\n",
       "    </tr>\n",
       "    <tr>\n",
       "      <th>4</th>\n",
       "      <td>5</td>\n",
       "      <td>Drug Equipment Violation</td>\n",
       "      <td>202500028562</td>\n",
       "      <td>400</td>\n",
       "      <td>E MAIN ST</td>\n",
       "      <td>CPD</td>\n",
       "      <td>1722</td>\n",
       "      <td>Carrasco, Julio</td>\n",
       "      <td>2025-08-12 17:22:26</td>\n",
       "      <td>2025-08-12 05:22:26 PM</td>\n",
       "      <td>Tuesday</td>\n",
       "      <td>False</td>\n",
       "      <td>Summer</td>\n",
       "      <td>05:22 PM</td>\n",
       "      <td>Evening</td>\n",
       "    </tr>\n",
       "  </tbody>\n",
       "</table>\n",
       "</div>"
      ],
      "text/plain": [
       "   RecordID                   Offense    IncidentID BlockNumber  \\\n",
       "0         1               Hit and Run  202500028577        1100   \n",
       "1         2               Hit and Run  202500028570        1500   \n",
       "2         3      Fraud-false pretense  202500028568        1900   \n",
       "3         4             Animal - Bite  202500028567         700   \n",
       "4         5  Drug Equipment Violation  202500028562         400   \n",
       "\n",
       "       StreetName Agency HourReported ReportingOfficer                Date  \\\n",
       "0       5TH ST SW    CPD         1930   Reed, Danielle 2025-08-12 19:30:55   \n",
       "1        GREEN ST    CPD         1821     Urban, Jacob 2025-08-12 18:21:24   \n",
       "2  ARLINGTON BLVD    CPD         1754   Reed, Danielle 2025-08-12 17:54:51   \n",
       "3        RIVES ST    CPD         1745     Urban, Jacob 2025-08-12 17:45:09   \n",
       "4       E MAIN ST    CPD         1722  Carrasco, Julio 2025-08-12 17:22:26   \n",
       "\n",
       "               DateString DayOfWeek  Weekend  Season  HourAMPM TimeOfDay  \n",
       "0  2025-08-12 07:30:55 PM   Tuesday    False  Summer  07:30 PM   Evening  \n",
       "1  2025-08-12 06:21:24 PM   Tuesday    False  Summer  06:21 PM   Evening  \n",
       "2  2025-08-12 05:54:51 PM   Tuesday    False  Summer  05:54 PM   Evening  \n",
       "3  2025-08-12 05:45:09 PM   Tuesday    False  Summer  05:45 PM   Evening  \n",
       "4  2025-08-12 05:22:26 PM   Tuesday    False  Summer  05:22 PM   Evening  "
      ]
     },
     "execution_count": 7,
     "metadata": {},
     "output_type": "execute_result"
    }
   ],
   "source": [
    "def convert_and_categorize_datereported(df, col='DateReported'):\n",
    "    \"\"\"\n",
    "    Converts an epoch (in milliseconds) date column into a timezone-aware datetime,\n",
    "    converts it to Eastern Time, and then creates columns for day-of-week, weekend flag,\n",
    "    season, 12-hour formatted time, and time-of-day. Keeps both a real datetime column\n",
    "    (Date) and a string representation (DateString).\n",
    "    \"\"\"\n",
    "    import pandas as pd\n",
    "\n",
    "    # Convert the epoch timestamp to a pandas datetime object as UTC, then convert to US/Eastern.\n",
    "    df[\"DateReported_dt\"] = (\n",
    "        pd.to_datetime(df[col], unit=\"ms\", errors=\"coerce\", utc=True)\n",
    "        .dt.tz_convert(\"US/Eastern\")\n",
    "    )\n",
    "    \n",
    "    # Create a true datetime column (remove timezone if you prefer naive datetime)\n",
    "    df[\"Date\"] = df[\"DateReported_dt\"].dt.tz_localize(None)\n",
    "\n",
    "    # Optionally, create a separate string-formatted column\n",
    "    df[\"DateString\"] = df[\"DateReported_dt\"].dt.strftime(\"%Y-%m-%d %I:%M:%S %p\")\n",
    "    \n",
    "    # DayOfWeek\n",
    "    df[\"DayOfWeek\"] = df[\"DateReported_dt\"].dt.day_name()\n",
    "    \n",
    "    # Weekend\n",
    "    df[\"Weekend\"] = df[\"DayOfWeek\"].isin([\"Saturday\", \"Sunday\"])\n",
    "    \n",
    "    # Helper function to determine the season\n",
    "    def get_season(dt):\n",
    "        month = dt.month\n",
    "        day = dt.day\n",
    "        # Approximate Northern Hemisphere season boundaries:\n",
    "        if (month == 12 and day >= 21) or (month < 3) or (month == 3 and day < 20):\n",
    "            return \"Winter\"\n",
    "        elif (month == 3 and day >= 20) or (month < 6) or (month == 6 and day < 21):\n",
    "            return \"Spring\"\n",
    "        elif (month == 6 and day >= 21) or (month < 9) or (month == 9 and day < 22):\n",
    "            return \"Summer\"\n",
    "        else:\n",
    "            return \"Autumn\"\n",
    "    \n",
    "    df[\"Season\"] = df[\"DateReported_dt\"].apply(get_season)\n",
    "    \n",
    "    # 12-hour formatted time (HourAMPM)\n",
    "    df[\"HourAMPM\"] = df[\"DateReported_dt\"].dt.strftime(\"%I:%M %p\")\n",
    "    \n",
    "    # Extract hour (0-23) for time-of-day\n",
    "    df[\"HourValue\"] = df[\"DateReported_dt\"].dt.hour\n",
    "    \n",
    "    def time_of_day(hour):\n",
    "        if pd.isnull(hour):\n",
    "            return None\n",
    "        if 5 <= hour < 12:\n",
    "            return \"Morning\"\n",
    "        elif 12 <= hour < 17:\n",
    "            return \"Afternoon\"\n",
    "        elif 17 <= hour < 21:\n",
    "            return \"Evening\"\n",
    "        else:\n",
    "            return \"Night\"\n",
    "    \n",
    "    df[\"TimeOfDay\"] = df[\"HourValue\"].apply(time_of_day)\n",
    "    \n",
    "    # Drop columns you no longer need\n",
    "    df.drop(columns=[col, \"DateReported_dt\", \"HourValue\"], inplace=True)\n",
    "    \n",
    "    return df\n",
    "\n",
    "# Example usage:\n",
    "df = convert_and_categorize_datereported(df)\n",
    "df.head()\n"
   ]
  },
  {
   "cell_type": "code",
   "execution_count": 8,
   "id": "072bd1a0",
   "metadata": {
    "execution": {
     "iopub.execute_input": "2025-08-15T01:07:29.433522Z",
     "iopub.status.busy": "2025-08-15T01:07:29.433328Z",
     "iopub.status.idle": "2025-08-15T01:07:29.458810Z",
     "shell.execute_reply": "2025-08-15T01:07:29.458124Z"
    },
    "papermill": {
     "duration": 0.031213,
     "end_time": "2025-08-15T01:07:29.459985",
     "exception": false,
     "start_time": "2025-08-15T01:07:29.428772",
     "status": "completed"
    },
    "tags": []
   },
   "outputs": [
    {
     "name": "stdout",
     "output_type": "stream",
     "text": [
      "<class 'pandas.core.frame.DataFrame'>\n",
      "RangeIndex: 25648 entries, 0 to 25647\n",
      "Data columns (total 15 columns):\n",
      " #   Column            Non-Null Count  Dtype         \n",
      "---  ------            --------------  -----         \n",
      " 0   RecordID          25648 non-null  int64         \n",
      " 1   Offense           25648 non-null  object        \n",
      " 2   IncidentID        25648 non-null  object        \n",
      " 3   BlockNumber       25648 non-null  object        \n",
      " 4   StreetName        25648 non-null  object        \n",
      " 5   Agency            25648 non-null  object        \n",
      " 6   HourReported      25648 non-null  object        \n",
      " 7   ReportingOfficer  25633 non-null  object        \n",
      " 8   Date              25648 non-null  datetime64[ns]\n",
      " 9   DateString        25648 non-null  object        \n",
      " 10  DayOfWeek         25648 non-null  object        \n",
      " 11  Weekend           25648 non-null  bool          \n",
      " 12  Season            25648 non-null  object        \n",
      " 13  HourAMPM          25648 non-null  object        \n",
      " 14  TimeOfDay         25648 non-null  object        \n",
      "dtypes: bool(1), datetime64[ns](1), int64(1), object(12)\n",
      "memory usage: 2.8+ MB\n"
     ]
    }
   ],
   "source": [
    "df.info()"
   ]
  },
  {
   "cell_type": "markdown",
   "id": "79d07c2a",
   "metadata": {
    "papermill": {
     "duration": 0.004045,
     "end_time": "2025-08-15T01:07:29.468468",
     "exception": false,
     "start_time": "2025-08-15T01:07:29.464423",
     "status": "completed"
    },
    "tags": []
   },
   "source": [
    "### Coordinates"
   ]
  },
  {
   "cell_type": "code",
   "execution_count": 9,
   "id": "1d382ec5",
   "metadata": {
    "execution": {
     "iopub.execute_input": "2025-08-15T01:07:29.477408Z",
     "iopub.status.busy": "2025-08-15T01:07:29.477171Z",
     "iopub.status.idle": "2025-08-15T01:07:29.520239Z",
     "shell.execute_reply": "2025-08-15T01:07:29.519556Z"
    },
    "papermill": {
     "duration": 0.048763,
     "end_time": "2025-08-15T01:07:29.521267",
     "exception": false,
     "start_time": "2025-08-15T01:07:29.472504",
     "status": "completed"
    },
    "tags": []
   },
   "outputs": [
    {
     "name": "stdout",
     "output_type": "stream",
     "text": [
      "Loaded geocode cache.\n",
      "Geocode cache updated and saved.\n"
     ]
    },
    {
     "data": {
      "text/html": [
       "<div>\n",
       "<style scoped>\n",
       "    .dataframe tbody tr th:only-of-type {\n",
       "        vertical-align: middle;\n",
       "    }\n",
       "\n",
       "    .dataframe tbody tr th {\n",
       "        vertical-align: top;\n",
       "    }\n",
       "\n",
       "    .dataframe thead th {\n",
       "        text-align: right;\n",
       "    }\n",
       "</style>\n",
       "<table border=\"1\" class=\"dataframe\">\n",
       "  <thead>\n",
       "    <tr style=\"text-align: right;\">\n",
       "      <th></th>\n",
       "      <th>RecordID</th>\n",
       "      <th>Offense</th>\n",
       "      <th>IncidentID</th>\n",
       "      <th>BlockNumber</th>\n",
       "      <th>StreetName</th>\n",
       "      <th>Agency</th>\n",
       "      <th>HourReported</th>\n",
       "      <th>ReportingOfficer</th>\n",
       "      <th>Date</th>\n",
       "      <th>DateString</th>\n",
       "      <th>DayOfWeek</th>\n",
       "      <th>Weekend</th>\n",
       "      <th>Season</th>\n",
       "      <th>HourAMPM</th>\n",
       "      <th>TimeOfDay</th>\n",
       "      <th>FullStreet</th>\n",
       "      <th>lat</th>\n",
       "      <th>lon</th>\n",
       "    </tr>\n",
       "  </thead>\n",
       "  <tbody>\n",
       "    <tr>\n",
       "      <th>0</th>\n",
       "      <td>1</td>\n",
       "      <td>Hit and Run</td>\n",
       "      <td>202500028577</td>\n",
       "      <td>1100</td>\n",
       "      <td>5TH ST SW</td>\n",
       "      <td>CPD</td>\n",
       "      <td>1930</td>\n",
       "      <td>Reed, Danielle</td>\n",
       "      <td>2025-08-12 19:30:55</td>\n",
       "      <td>2025-08-12 07:30:55 PM</td>\n",
       "      <td>Tuesday</td>\n",
       "      <td>False</td>\n",
       "      <td>Summer</td>\n",
       "      <td>07:30 PM</td>\n",
       "      <td>Evening</td>\n",
       "      <td>1100 5TH ST SW</td>\n",
       "      <td>38.017130</td>\n",
       "      <td>-78.497806</td>\n",
       "    </tr>\n",
       "    <tr>\n",
       "      <th>1</th>\n",
       "      <td>2</td>\n",
       "      <td>Hit and Run</td>\n",
       "      <td>202500028570</td>\n",
       "      <td>1500</td>\n",
       "      <td>GREEN ST</td>\n",
       "      <td>CPD</td>\n",
       "      <td>1821</td>\n",
       "      <td>Urban, Jacob</td>\n",
       "      <td>2025-08-12 18:21:24</td>\n",
       "      <td>2025-08-12 06:21:24 PM</td>\n",
       "      <td>Tuesday</td>\n",
       "      <td>False</td>\n",
       "      <td>Summer</td>\n",
       "      <td>06:21 PM</td>\n",
       "      <td>Evening</td>\n",
       "      <td>1500 GREEN ST</td>\n",
       "      <td>38.016793</td>\n",
       "      <td>-78.480900</td>\n",
       "    </tr>\n",
       "    <tr>\n",
       "      <th>2</th>\n",
       "      <td>3</td>\n",
       "      <td>Fraud-false pretense</td>\n",
       "      <td>202500028568</td>\n",
       "      <td>1900</td>\n",
       "      <td>ARLINGTON BLVD</td>\n",
       "      <td>CPD</td>\n",
       "      <td>1754</td>\n",
       "      <td>Reed, Danielle</td>\n",
       "      <td>2025-08-12 17:54:51</td>\n",
       "      <td>2025-08-12 05:54:51 PM</td>\n",
       "      <td>Tuesday</td>\n",
       "      <td>False</td>\n",
       "      <td>Summer</td>\n",
       "      <td>05:54 PM</td>\n",
       "      <td>Evening</td>\n",
       "      <td>1900 ARLINGTON BLVD</td>\n",
       "      <td>38.047765</td>\n",
       "      <td>-78.504328</td>\n",
       "    </tr>\n",
       "    <tr>\n",
       "      <th>3</th>\n",
       "      <td>4</td>\n",
       "      <td>Animal - Bite</td>\n",
       "      <td>202500028567</td>\n",
       "      <td>700</td>\n",
       "      <td>RIVES ST</td>\n",
       "      <td>CPD</td>\n",
       "      <td>1745</td>\n",
       "      <td>Urban, Jacob</td>\n",
       "      <td>2025-08-12 17:45:09</td>\n",
       "      <td>2025-08-12 05:45:09 PM</td>\n",
       "      <td>Tuesday</td>\n",
       "      <td>False</td>\n",
       "      <td>Summer</td>\n",
       "      <td>05:45 PM</td>\n",
       "      <td>Evening</td>\n",
       "      <td>700 RIVES ST</td>\n",
       "      <td>38.019985</td>\n",
       "      <td>-78.468551</td>\n",
       "    </tr>\n",
       "    <tr>\n",
       "      <th>4</th>\n",
       "      <td>5</td>\n",
       "      <td>Drug Equipment Violation</td>\n",
       "      <td>202500028562</td>\n",
       "      <td>400</td>\n",
       "      <td>E MAIN ST</td>\n",
       "      <td>CPD</td>\n",
       "      <td>1722</td>\n",
       "      <td>Carrasco, Julio</td>\n",
       "      <td>2025-08-12 17:22:26</td>\n",
       "      <td>2025-08-12 05:22:26 PM</td>\n",
       "      <td>Tuesday</td>\n",
       "      <td>False</td>\n",
       "      <td>Summer</td>\n",
       "      <td>05:22 PM</td>\n",
       "      <td>Evening</td>\n",
       "      <td>400 E MAIN ST</td>\n",
       "      <td>38.029770</td>\n",
       "      <td>-78.479257</td>\n",
       "    </tr>\n",
       "  </tbody>\n",
       "</table>\n",
       "</div>"
      ],
      "text/plain": [
       "   RecordID                   Offense    IncidentID BlockNumber  \\\n",
       "0         1               Hit and Run  202500028577        1100   \n",
       "1         2               Hit and Run  202500028570        1500   \n",
       "2         3      Fraud-false pretense  202500028568        1900   \n",
       "3         4             Animal - Bite  202500028567         700   \n",
       "4         5  Drug Equipment Violation  202500028562         400   \n",
       "\n",
       "       StreetName Agency HourReported ReportingOfficer                Date  \\\n",
       "0       5TH ST SW    CPD         1930   Reed, Danielle 2025-08-12 19:30:55   \n",
       "1        GREEN ST    CPD         1821     Urban, Jacob 2025-08-12 18:21:24   \n",
       "2  ARLINGTON BLVD    CPD         1754   Reed, Danielle 2025-08-12 17:54:51   \n",
       "3        RIVES ST    CPD         1745     Urban, Jacob 2025-08-12 17:45:09   \n",
       "4       E MAIN ST    CPD         1722  Carrasco, Julio 2025-08-12 17:22:26   \n",
       "\n",
       "               DateString DayOfWeek  Weekend  Season  HourAMPM TimeOfDay  \\\n",
       "0  2025-08-12 07:30:55 PM   Tuesday    False  Summer  07:30 PM   Evening   \n",
       "1  2025-08-12 06:21:24 PM   Tuesday    False  Summer  06:21 PM   Evening   \n",
       "2  2025-08-12 05:54:51 PM   Tuesday    False  Summer  05:54 PM   Evening   \n",
       "3  2025-08-12 05:45:09 PM   Tuesday    False  Summer  05:45 PM   Evening   \n",
       "4  2025-08-12 05:22:26 PM   Tuesday    False  Summer  05:22 PM   Evening   \n",
       "\n",
       "            FullStreet        lat        lon  \n",
       "0       1100 5TH ST SW  38.017130 -78.497806  \n",
       "1        1500 GREEN ST  38.016793 -78.480900  \n",
       "2  1900 ARLINGTON BLVD  38.047765 -78.504328  \n",
       "3         700 RIVES ST  38.019985 -78.468551  \n",
       "4        400 E MAIN ST  38.029770 -78.479257  "
      ]
     },
     "execution_count": 9,
     "metadata": {},
     "output_type": "execute_result"
    }
   ],
   "source": [
    "# Combine BlockNumber and StreetName into a full address string\n",
    "df['FullStreet'] = df['BlockNumber'].astype(str) + \" \" + df['StreetName']\n",
    "\n",
    "# --- Step 1: Setup the Google Maps Client and Cache ---\n",
    "gmaps = googlemaps.Client(key=GOOGLE_API_KEY)\n",
    "\n",
    "# Try to load cached geocoding results if available.\n",
    "try:\n",
    "    with open(\"geocode_cache_google.pkl\", \"rb\") as f:\n",
    "        street_coords = pickle.load(f)\n",
    "    print(\"Loaded geocode cache.\")\n",
    "except FileNotFoundError:\n",
    "    street_coords = {}\n",
    "    print(\"No cache found; starting fresh.\")\n",
    "\n",
    "def geocode_address(address):\n",
    "    try:\n",
    "        # Append city and state to help geocoding\n",
    "        result = gmaps.geocode(f\"{address}, Charlottesville, VA\")\n",
    "        if result:\n",
    "            lat = result[0]['geometry']['location']['lat']\n",
    "            lon = result[0]['geometry']['location']['lng']\n",
    "            return lat, lon\n",
    "    except Exception as e:\n",
    "        print(f\"Error geocoding {address}: {e}\")\n",
    "    return None, None\n",
    "\n",
    "# --- Step 2: Geocode Only New Addresses ---\n",
    "unique_addresses = df['FullStreet'].unique()\n",
    "for address in unique_addresses:\n",
    "    if address not in street_coords:\n",
    "        lat, lon = geocode_address(address)\n",
    "        street_coords[address] = (lat, lon)\n",
    "        print(f\"Geocoded {address}: {lat}, {lon}\")\n",
    "\n",
    "# Save the updated cache to disk.\n",
    "with open(\"geocode_cache_google.pkl\", \"wb\") as f:\n",
    "    pickle.dump(street_coords, f)\n",
    "    print(\"Geocode cache updated and saved.\")\n",
    "\n",
    "# --- Step 3: Map Coordinates Back to DataFrame ---\n",
    "df['lat'] = df['FullStreet'].map(lambda s: street_coords.get(s, (None, None))[0])\n",
    "df['lon'] = df['FullStreet'].map(lambda s: street_coords.get(s, (None, None))[1])\n",
    "\n",
    "df.head()"
   ]
  },
  {
   "cell_type": "markdown",
   "id": "d068365f",
   "metadata": {
    "papermill": {
     "duration": 0.004259,
     "end_time": "2025-08-15T01:07:29.530149",
     "exception": false,
     "start_time": "2025-08-15T01:07:29.525890",
     "status": "completed"
    },
    "tags": []
   },
   "source": [
    "### Neighborhood"
   ]
  },
  {
   "cell_type": "code",
   "execution_count": 10,
   "id": "7a277bde",
   "metadata": {
    "execution": {
     "iopub.execute_input": "2025-08-15T01:07:29.539619Z",
     "iopub.status.busy": "2025-08-15T01:07:29.539398Z",
     "iopub.status.idle": "2025-08-15T01:07:32.221445Z",
     "shell.execute_reply": "2025-08-15T01:07:32.220828Z"
    },
    "papermill": {
     "duration": 2.68801,
     "end_time": "2025-08-15T01:07:32.222466",
     "exception": false,
     "start_time": "2025-08-15T01:07:29.534456",
     "status": "completed"
    },
    "tags": []
   },
   "outputs": [
    {
     "name": "stdout",
     "output_type": "stream",
     "text": [
      "Loaded neighborhood cache.\n"
     ]
    },
    {
     "name": "stdout",
     "output_type": "stream",
     "text": [
      "Error getting neighborhood for nan, nan: HTTP Error: 400\n"
     ]
    },
    {
     "name": "stdout",
     "output_type": "stream",
     "text": [
      "Error getting neighborhood for nan, nan: HTTP Error: 400\n",
      "Error getting neighborhood for nan, nan: HTTP Error: 400\n"
     ]
    },
    {
     "name": "stdout",
     "output_type": "stream",
     "text": [
      "Error getting neighborhood for nan, nan: HTTP Error: 400\n",
      "Error getting neighborhood for nan, nan: HTTP Error: 400\n",
      "Error getting neighborhood for nan, nan: HTTP Error: 400\n",
      "Error getting neighborhood for nan, nan: HTTP Error: 400\n"
     ]
    },
    {
     "name": "stdout",
     "output_type": "stream",
     "text": [
      "Error getting neighborhood for nan, nan: HTTP Error: 400\n"
     ]
    },
    {
     "name": "stdout",
     "output_type": "stream",
     "text": [
      "Error getting neighborhood for nan, nan: HTTP Error: 400\n",
      "Error getting neighborhood for nan, nan: HTTP Error: 400\n"
     ]
    },
    {
     "name": "stdout",
     "output_type": "stream",
     "text": [
      "Error getting neighborhood for nan, nan: HTTP Error: 400\n",
      "Error getting neighborhood for nan, nan: HTTP Error: 400\n",
      "Error getting neighborhood for nan, nan: HTTP Error: 400\n",
      "Error getting neighborhood for nan, nan: HTTP Error: 400\n",
      "Error getting neighborhood for nan, nan: HTTP Error: 400\n"
     ]
    },
    {
     "name": "stdout",
     "output_type": "stream",
     "text": [
      "Error getting neighborhood for nan, nan: HTTP Error: 400\n"
     ]
    },
    {
     "name": "stdout",
     "output_type": "stream",
     "text": [
      "Error getting neighborhood for nan, nan: HTTP Error: 400\n",
      "Error getting neighborhood for nan, nan: HTTP Error: 400\n",
      "Error getting neighborhood for nan, nan: HTTP Error: 400\n"
     ]
    },
    {
     "name": "stdout",
     "output_type": "stream",
     "text": [
      "Error getting neighborhood for nan, nan: HTTP Error: 400\n",
      "Error getting neighborhood for nan, nan: HTTP Error: 400\n",
      "Error getting neighborhood for nan, nan: HTTP Error: 400\n",
      "Error getting neighborhood for nan, nan: HTTP Error: 400\n",
      "Error getting neighborhood for nan, nan: HTTP Error: 400\n"
     ]
    },
    {
     "name": "stdout",
     "output_type": "stream",
     "text": [
      "Error getting neighborhood for nan, nan: HTTP Error: 400\n"
     ]
    },
    {
     "name": "stdout",
     "output_type": "stream",
     "text": [
      "Error getting neighborhood for nan, nan: HTTP Error: 400\n",
      "Error getting neighborhood for nan, nan: HTTP Error: 400\n",
      "Error getting neighborhood for nan, nan: HTTP Error: 400\n"
     ]
    },
    {
     "name": "stdout",
     "output_type": "stream",
     "text": [
      "Error getting neighborhood for nan, nan: HTTP Error: 400\n",
      "Error getting neighborhood for nan, nan: HTTP Error: 400\n",
      "Error getting neighborhood for nan, nan: HTTP Error: 400\n",
      "Error getting neighborhood for nan, nan: HTTP Error: 400\n",
      "Error getting neighborhood for nan, nan: HTTP Error: 400\n"
     ]
    },
    {
     "name": "stdout",
     "output_type": "stream",
     "text": [
      "Error getting neighborhood for nan, nan: HTTP Error: 400\n"
     ]
    },
    {
     "name": "stdout",
     "output_type": "stream",
     "text": [
      "Error getting neighborhood for nan, nan: HTTP Error: 400\n",
      "Error getting neighborhood for nan, nan: HTTP Error: 400\n",
      "Error getting neighborhood for nan, nan: HTTP Error: 400\n"
     ]
    },
    {
     "name": "stdout",
     "output_type": "stream",
     "text": [
      "Error getting neighborhood for nan, nan: HTTP Error: 400\n",
      "Error getting neighborhood for nan, nan: HTTP Error: 400\n",
      "Error getting neighborhood for nan, nan: HTTP Error: 400\n",
      "Error getting neighborhood for nan, nan: HTTP Error: 400\n",
      "Error getting neighborhood for nan, nan: HTTP Error: 400\n"
     ]
    },
    {
     "name": "stdout",
     "output_type": "stream",
     "text": [
      "Error getting neighborhood for nan, nan: HTTP Error: 400\n"
     ]
    },
    {
     "name": "stdout",
     "output_type": "stream",
     "text": [
      "Error getting neighborhood for nan, nan: HTTP Error: 400\n",
      "Error getting neighborhood for nan, nan: HTTP Error: 400\n",
      "Error getting neighborhood for nan, nan: HTTP Error: 400\n"
     ]
    },
    {
     "name": "stdout",
     "output_type": "stream",
     "text": [
      "Error getting neighborhood for nan, nan: HTTP Error: 400\n",
      "Error getting neighborhood for nan, nan: HTTP Error: 400\n",
      "Error getting neighborhood for nan, nan: HTTP Error: 400\n",
      "Error getting neighborhood for nan, nan: HTTP Error: 400\n",
      "Error getting neighborhood for nan, nan: HTTP Error: 400\n"
     ]
    },
    {
     "name": "stdout",
     "output_type": "stream",
     "text": [
      "Error getting neighborhood for nan, nan: HTTP Error: 400\n"
     ]
    },
    {
     "name": "stdout",
     "output_type": "stream",
     "text": [
      "Error getting neighborhood for nan, nan: HTTP Error: 400\n",
      "Error getting neighborhood for nan, nan: HTTP Error: 400\n",
      "Error getting neighborhood for nan, nan: HTTP Error: 400\n"
     ]
    },
    {
     "name": "stdout",
     "output_type": "stream",
     "text": [
      "Error getting neighborhood for nan, nan: HTTP Error: 400\n",
      "Error getting neighborhood for nan, nan: HTTP Error: 400\n",
      "Error getting neighborhood for nan, nan: HTTP Error: 400\n",
      "Error getting neighborhood for nan, nan: HTTP Error: 400\n",
      "Error getting neighborhood for nan, nan: HTTP Error: 400\n"
     ]
    },
    {
     "name": "stdout",
     "output_type": "stream",
     "text": [
      "Error getting neighborhood for nan, nan: HTTP Error: 400\n"
     ]
    },
    {
     "name": "stdout",
     "output_type": "stream",
     "text": [
      "Error getting neighborhood for nan, nan: HTTP Error: 400\n",
      "Error getting neighborhood for nan, nan: HTTP Error: 400\n",
      "Error getting neighborhood for nan, nan: HTTP Error: 400\n"
     ]
    },
    {
     "name": "stdout",
     "output_type": "stream",
     "text": [
      "Error getting neighborhood for nan, nan: HTTP Error: 400\n",
      "Error getting neighborhood for nan, nan: HTTP Error: 400\n",
      "Error getting neighborhood for nan, nan: HTTP Error: 400\n",
      "Error getting neighborhood for nan, nan: HTTP Error: 400\n",
      "Error getting neighborhood for nan, nan: HTTP Error: 400\n"
     ]
    },
    {
     "name": "stdout",
     "output_type": "stream",
     "text": [
      "Error getting neighborhood for nan, nan: HTTP Error: 400\n"
     ]
    },
    {
     "name": "stdout",
     "output_type": "stream",
     "text": [
      "Error getting neighborhood for nan, nan: HTTP Error: 400\n",
      "Error getting neighborhood for nan, nan: HTTP Error: 400\n",
      "Error getting neighborhood for nan, nan: HTTP Error: 400\n"
     ]
    },
    {
     "name": "stdout",
     "output_type": "stream",
     "text": [
      "Error getting neighborhood for nan, nan: HTTP Error: 400\n",
      "Error getting neighborhood for nan, nan: HTTP Error: 400\n",
      "Error getting neighborhood for nan, nan: HTTP Error: 400\n",
      "Error getting neighborhood for nan, nan: HTTP Error: 400\n",
      "Error getting neighborhood for nan, nan: HTTP Error: 400\n"
     ]
    },
    {
     "name": "stdout",
     "output_type": "stream",
     "text": [
      "Error getting neighborhood for nan, nan: HTTP Error: 400\n"
     ]
    },
    {
     "name": "stdout",
     "output_type": "stream",
     "text": [
      "Error getting neighborhood for nan, nan: HTTP Error: 400\n",
      "Error getting neighborhood for nan, nan: HTTP Error: 400\n",
      "Error getting neighborhood for nan, nan: HTTP Error: 400\n"
     ]
    },
    {
     "name": "stdout",
     "output_type": "stream",
     "text": [
      "Error getting neighborhood for nan, nan: HTTP Error: 400\n",
      "Error getting neighborhood for nan, nan: HTTP Error: 400\n",
      "Error getting neighborhood for nan, nan: HTTP Error: 400\n",
      "Error getting neighborhood for nan, nan: HTTP Error: 400\n",
      "Error getting neighborhood for nan, nan: HTTP Error: 400\n"
     ]
    },
    {
     "name": "stdout",
     "output_type": "stream",
     "text": [
      "Error getting neighborhood for nan, nan: HTTP Error: 400\n"
     ]
    },
    {
     "name": "stdout",
     "output_type": "stream",
     "text": [
      "Error getting neighborhood for nan, nan: HTTP Error: 400\n",
      "Error getting neighborhood for nan, nan: HTTP Error: 400\n",
      "Error getting neighborhood for nan, nan: HTTP Error: 400\n"
     ]
    },
    {
     "name": "stdout",
     "output_type": "stream",
     "text": [
      "Error getting neighborhood for nan, nan: HTTP Error: 400\n",
      "Error getting neighborhood for nan, nan: HTTP Error: 400\n",
      "Error getting neighborhood for nan, nan: HTTP Error: 400\n",
      "Error getting neighborhood for nan, nan: HTTP Error: 400\n",
      "Error getting neighborhood for nan, nan: HTTP Error: 400\n"
     ]
    },
    {
     "name": "stdout",
     "output_type": "stream",
     "text": [
      "Error getting neighborhood for nan, nan: HTTP Error: 400\n"
     ]
    },
    {
     "name": "stdout",
     "output_type": "stream",
     "text": [
      "Error getting neighborhood for nan, nan: HTTP Error: 400\n",
      "Error getting neighborhood for nan, nan: HTTP Error: 400\n"
     ]
    },
    {
     "data": {
      "text/html": [
       "<div>\n",
       "<style scoped>\n",
       "    .dataframe tbody tr th:only-of-type {\n",
       "        vertical-align: middle;\n",
       "    }\n",
       "\n",
       "    .dataframe tbody tr th {\n",
       "        vertical-align: top;\n",
       "    }\n",
       "\n",
       "    .dataframe thead th {\n",
       "        text-align: right;\n",
       "    }\n",
       "</style>\n",
       "<table border=\"1\" class=\"dataframe\">\n",
       "  <thead>\n",
       "    <tr style=\"text-align: right;\">\n",
       "      <th></th>\n",
       "      <th>RecordID</th>\n",
       "      <th>Offense</th>\n",
       "      <th>IncidentID</th>\n",
       "      <th>BlockNumber</th>\n",
       "      <th>StreetName</th>\n",
       "      <th>Agency</th>\n",
       "      <th>HourReported</th>\n",
       "      <th>ReportingOfficer</th>\n",
       "      <th>Date</th>\n",
       "      <th>DateString</th>\n",
       "      <th>DayOfWeek</th>\n",
       "      <th>Weekend</th>\n",
       "      <th>Season</th>\n",
       "      <th>HourAMPM</th>\n",
       "      <th>TimeOfDay</th>\n",
       "      <th>FullStreet</th>\n",
       "      <th>lat</th>\n",
       "      <th>lon</th>\n",
       "      <th>neighborhood</th>\n",
       "    </tr>\n",
       "  </thead>\n",
       "  <tbody>\n",
       "    <tr>\n",
       "      <th>0</th>\n",
       "      <td>1</td>\n",
       "      <td>Hit and Run</td>\n",
       "      <td>202500028577</td>\n",
       "      <td>1100</td>\n",
       "      <td>5TH ST SW</td>\n",
       "      <td>CPD</td>\n",
       "      <td>1930</td>\n",
       "      <td>Reed, Danielle</td>\n",
       "      <td>2025-08-12 19:30:55</td>\n",
       "      <td>2025-08-12 07:30:55 PM</td>\n",
       "      <td>Tuesday</td>\n",
       "      <td>False</td>\n",
       "      <td>Summer</td>\n",
       "      <td>07:30 PM</td>\n",
       "      <td>Evening</td>\n",
       "      <td>1100 5TH ST SW</td>\n",
       "      <td>38.017130</td>\n",
       "      <td>-78.497806</td>\n",
       "      <td>Johnson Village</td>\n",
       "    </tr>\n",
       "    <tr>\n",
       "      <th>1</th>\n",
       "      <td>2</td>\n",
       "      <td>Hit and Run</td>\n",
       "      <td>202500028570</td>\n",
       "      <td>1500</td>\n",
       "      <td>GREEN ST</td>\n",
       "      <td>CPD</td>\n",
       "      <td>1821</td>\n",
       "      <td>Urban, Jacob</td>\n",
       "      <td>2025-08-12 18:21:24</td>\n",
       "      <td>2025-08-12 06:21:24 PM</td>\n",
       "      <td>Tuesday</td>\n",
       "      <td>False</td>\n",
       "      <td>Summer</td>\n",
       "      <td>06:21 PM</td>\n",
       "      <td>Evening</td>\n",
       "      <td>1500 GREEN ST</td>\n",
       "      <td>38.016793</td>\n",
       "      <td>-78.480900</td>\n",
       "      <td>Belmont</td>\n",
       "    </tr>\n",
       "    <tr>\n",
       "      <th>2</th>\n",
       "      <td>3</td>\n",
       "      <td>Fraud-false pretense</td>\n",
       "      <td>202500028568</td>\n",
       "      <td>1900</td>\n",
       "      <td>ARLINGTON BLVD</td>\n",
       "      <td>CPD</td>\n",
       "      <td>1754</td>\n",
       "      <td>Reed, Danielle</td>\n",
       "      <td>2025-08-12 17:54:51</td>\n",
       "      <td>2025-08-12 05:54:51 PM</td>\n",
       "      <td>Tuesday</td>\n",
       "      <td>False</td>\n",
       "      <td>Summer</td>\n",
       "      <td>05:54 PM</td>\n",
       "      <td>Evening</td>\n",
       "      <td>1900 ARLINGTON BLVD</td>\n",
       "      <td>38.047765</td>\n",
       "      <td>-78.504328</td>\n",
       "      <td>Barracks Road</td>\n",
       "    </tr>\n",
       "    <tr>\n",
       "      <th>3</th>\n",
       "      <td>4</td>\n",
       "      <td>Animal - Bite</td>\n",
       "      <td>202500028567</td>\n",
       "      <td>700</td>\n",
       "      <td>RIVES ST</td>\n",
       "      <td>CPD</td>\n",
       "      <td>1745</td>\n",
       "      <td>Urban, Jacob</td>\n",
       "      <td>2025-08-12 17:45:09</td>\n",
       "      <td>2025-08-12 05:45:09 PM</td>\n",
       "      <td>Tuesday</td>\n",
       "      <td>False</td>\n",
       "      <td>Summer</td>\n",
       "      <td>05:45 PM</td>\n",
       "      <td>Evening</td>\n",
       "      <td>700 RIVES ST</td>\n",
       "      <td>38.019985</td>\n",
       "      <td>-78.468551</td>\n",
       "      <td>Belmont</td>\n",
       "    </tr>\n",
       "    <tr>\n",
       "      <th>4</th>\n",
       "      <td>5</td>\n",
       "      <td>Drug Equipment Violation</td>\n",
       "      <td>202500028562</td>\n",
       "      <td>400</td>\n",
       "      <td>E MAIN ST</td>\n",
       "      <td>CPD</td>\n",
       "      <td>1722</td>\n",
       "      <td>Carrasco, Julio</td>\n",
       "      <td>2025-08-12 17:22:26</td>\n",
       "      <td>2025-08-12 05:22:26 PM</td>\n",
       "      <td>Tuesday</td>\n",
       "      <td>False</td>\n",
       "      <td>Summer</td>\n",
       "      <td>05:22 PM</td>\n",
       "      <td>Evening</td>\n",
       "      <td>400 E MAIN ST</td>\n",
       "      <td>38.029770</td>\n",
       "      <td>-78.479257</td>\n",
       "      <td>Downtown Mall</td>\n",
       "    </tr>\n",
       "  </tbody>\n",
       "</table>\n",
       "</div>"
      ],
      "text/plain": [
       "   RecordID                   Offense    IncidentID BlockNumber  \\\n",
       "0         1               Hit and Run  202500028577        1100   \n",
       "1         2               Hit and Run  202500028570        1500   \n",
       "2         3      Fraud-false pretense  202500028568        1900   \n",
       "3         4             Animal - Bite  202500028567         700   \n",
       "4         5  Drug Equipment Violation  202500028562         400   \n",
       "\n",
       "       StreetName Agency HourReported ReportingOfficer                Date  \\\n",
       "0       5TH ST SW    CPD         1930   Reed, Danielle 2025-08-12 19:30:55   \n",
       "1        GREEN ST    CPD         1821     Urban, Jacob 2025-08-12 18:21:24   \n",
       "2  ARLINGTON BLVD    CPD         1754   Reed, Danielle 2025-08-12 17:54:51   \n",
       "3        RIVES ST    CPD         1745     Urban, Jacob 2025-08-12 17:45:09   \n",
       "4       E MAIN ST    CPD         1722  Carrasco, Julio 2025-08-12 17:22:26   \n",
       "\n",
       "               DateString DayOfWeek  Weekend  Season  HourAMPM TimeOfDay  \\\n",
       "0  2025-08-12 07:30:55 PM   Tuesday    False  Summer  07:30 PM   Evening   \n",
       "1  2025-08-12 06:21:24 PM   Tuesday    False  Summer  06:21 PM   Evening   \n",
       "2  2025-08-12 05:54:51 PM   Tuesday    False  Summer  05:54 PM   Evening   \n",
       "3  2025-08-12 05:45:09 PM   Tuesday    False  Summer  05:45 PM   Evening   \n",
       "4  2025-08-12 05:22:26 PM   Tuesday    False  Summer  05:22 PM   Evening   \n",
       "\n",
       "            FullStreet        lat        lon     neighborhood  \n",
       "0       1100 5TH ST SW  38.017130 -78.497806  Johnson Village  \n",
       "1        1500 GREEN ST  38.016793 -78.480900          Belmont  \n",
       "2  1900 ARLINGTON BLVD  38.047765 -78.504328    Barracks Road  \n",
       "3         700 RIVES ST  38.019985 -78.468551          Belmont  \n",
       "4        400 E MAIN ST  38.029770 -78.479257    Downtown Mall  "
      ]
     },
     "execution_count": 10,
     "metadata": {},
     "output_type": "execute_result"
    }
   ],
   "source": [
    "# Initialize the Google Maps client.\n",
    "gmaps = googlemaps.Client(key=GOOGLE_API_KEY)\n",
    "\n",
    "# Try to load a persistent neighborhood cache if available.\n",
    "try:\n",
    "    with open(\"neighborhood_cache.pkl\", \"rb\") as f:\n",
    "        neighborhood_cache = pickle.load(f)\n",
    "    print(\"Loaded neighborhood cache.\")\n",
    "except FileNotFoundError:\n",
    "    neighborhood_cache = {}\n",
    "    print(\"No neighborhood cache found; starting fresh.\")\n",
    "\n",
    "def get_neighborhood(lat, lon):\n",
    "    \"\"\"\n",
    "    Reverse geocodes a latitude and longitude to retrieve the neighborhood.\n",
    "    Caches results to speed up subsequent lookups.\n",
    "    \"\"\"\n",
    "    key = (lat, lon)\n",
    "    if key in neighborhood_cache:\n",
    "        return neighborhood_cache[key]\n",
    "    \n",
    "    try:\n",
    "        result = gmaps.reverse_geocode((lat, lon))\n",
    "        if result:\n",
    "            # Look for the 'neighborhood' component in the first result.\n",
    "            for component in result[0]['address_components']:\n",
    "                if 'neighborhood' in component['types']:\n",
    "                    neighborhood = component['long_name']\n",
    "                    neighborhood_cache[key] = neighborhood\n",
    "                    return neighborhood\n",
    "            # If no neighborhood is found, return \"N/A\"\n",
    "            neighborhood_cache[key] = \"N/A\"\n",
    "            return \"N/A\"\n",
    "    except Exception as e:\n",
    "        print(f\"Error getting neighborhood for {lat}, {lon}: {e}\")\n",
    "        return \"N/A\"\n",
    "    \n",
    "    # Pause to respect usage limits.\n",
    "    time.sleep(1)\n",
    "\n",
    "# Example usage: Apply to your DataFrame 'df' that already has 'lat' and 'lon' columns.\n",
    "df['neighborhood'] = df.apply(lambda row: get_neighborhood(row['lat'], row['lon']), axis=1)\n",
    "\n",
    "# Save the updated neighborhood cache.\n",
    "with open(\"neighborhood_cache.pkl\", \"wb\") as f:\n",
    "    pickle.dump(neighborhood_cache, f)\n",
    "\n",
    "df.head()\n"
   ]
  },
  {
   "cell_type": "markdown",
   "id": "dec4ea3b",
   "metadata": {
    "papermill": {
     "duration": 0.006057,
     "end_time": "2025-08-15T01:07:32.235084",
     "exception": false,
     "start_time": "2025-08-15T01:07:32.229027",
     "status": "completed"
    },
    "tags": []
   },
   "source": [
    "### Zip"
   ]
  },
  {
   "cell_type": "code",
   "execution_count": 11,
   "id": "ec2a74ae",
   "metadata": {
    "execution": {
     "iopub.execute_input": "2025-08-15T01:07:32.248003Z",
     "iopub.status.busy": "2025-08-15T01:07:32.247754Z",
     "iopub.status.idle": "2025-08-15T01:09:11.845067Z",
     "shell.execute_reply": "2025-08-15T01:09:11.844366Z"
    },
    "papermill": {
     "duration": 99.605044,
     "end_time": "2025-08-15T01:09:11.846109",
     "exception": false,
     "start_time": "2025-08-15T01:07:32.241065",
     "status": "completed"
    },
    "tags": []
   },
   "outputs": [
    {
     "name": "stdout",
     "output_type": "stream",
     "text": [
      "Loaded zip cache.\n",
      "Error getting ZIP for nan, nan: Must be a coordinate pair or Point\n"
     ]
    },
    {
     "name": "stdout",
     "output_type": "stream",
     "text": [
      "Error getting ZIP for nan, nan: Must be a coordinate pair or Point\n"
     ]
    },
    {
     "name": "stdout",
     "output_type": "stream",
     "text": [
      "Error getting ZIP for nan, nan: Must be a coordinate pair or Point\n"
     ]
    },
    {
     "name": "stdout",
     "output_type": "stream",
     "text": [
      "Error getting ZIP for nan, nan: Must be a coordinate pair or Point\n"
     ]
    },
    {
     "name": "stdout",
     "output_type": "stream",
     "text": [
      "Error getting ZIP for nan, nan: Must be a coordinate pair or Point\n"
     ]
    },
    {
     "name": "stdout",
     "output_type": "stream",
     "text": [
      "Error getting ZIP for nan, nan: Must be a coordinate pair or Point\n"
     ]
    },
    {
     "name": "stdout",
     "output_type": "stream",
     "text": [
      "Error getting ZIP for nan, nan: Must be a coordinate pair or Point\n"
     ]
    },
    {
     "name": "stdout",
     "output_type": "stream",
     "text": [
      "Error getting ZIP for nan, nan: Must be a coordinate pair or Point\n"
     ]
    },
    {
     "name": "stdout",
     "output_type": "stream",
     "text": [
      "Error getting ZIP for nan, nan: Must be a coordinate pair or Point\n"
     ]
    },
    {
     "name": "stdout",
     "output_type": "stream",
     "text": [
      "Error getting ZIP for nan, nan: Must be a coordinate pair or Point\n"
     ]
    },
    {
     "name": "stdout",
     "output_type": "stream",
     "text": [
      "Error getting ZIP for nan, nan: Must be a coordinate pair or Point\n"
     ]
    },
    {
     "name": "stdout",
     "output_type": "stream",
     "text": [
      "Error getting ZIP for nan, nan: Must be a coordinate pair or Point\n"
     ]
    },
    {
     "name": "stdout",
     "output_type": "stream",
     "text": [
      "Error getting ZIP for nan, nan: Must be a coordinate pair or Point\n"
     ]
    },
    {
     "name": "stdout",
     "output_type": "stream",
     "text": [
      "Error getting ZIP for nan, nan: Must be a coordinate pair or Point\n"
     ]
    },
    {
     "name": "stdout",
     "output_type": "stream",
     "text": [
      "Error getting ZIP for nan, nan: Must be a coordinate pair or Point\n"
     ]
    },
    {
     "name": "stdout",
     "output_type": "stream",
     "text": [
      "Error getting ZIP for nan, nan: Must be a coordinate pair or Point\n"
     ]
    },
    {
     "name": "stdout",
     "output_type": "stream",
     "text": [
      "Error getting ZIP for nan, nan: Must be a coordinate pair or Point\n"
     ]
    },
    {
     "name": "stdout",
     "output_type": "stream",
     "text": [
      "Error getting ZIP for nan, nan: Must be a coordinate pair or Point\n"
     ]
    },
    {
     "name": "stdout",
     "output_type": "stream",
     "text": [
      "Error getting ZIP for nan, nan: Must be a coordinate pair or Point\n"
     ]
    },
    {
     "name": "stdout",
     "output_type": "stream",
     "text": [
      "Error getting ZIP for nan, nan: Must be a coordinate pair or Point\n"
     ]
    },
    {
     "name": "stdout",
     "output_type": "stream",
     "text": [
      "Error getting ZIP for nan, nan: Must be a coordinate pair or Point\n"
     ]
    },
    {
     "name": "stdout",
     "output_type": "stream",
     "text": [
      "Error getting ZIP for nan, nan: Must be a coordinate pair or Point\n"
     ]
    },
    {
     "name": "stdout",
     "output_type": "stream",
     "text": [
      "Error getting ZIP for nan, nan: Must be a coordinate pair or Point\n"
     ]
    },
    {
     "name": "stdout",
     "output_type": "stream",
     "text": [
      "Error getting ZIP for nan, nan: Must be a coordinate pair or Point\n"
     ]
    },
    {
     "name": "stdout",
     "output_type": "stream",
     "text": [
      "Error getting ZIP for nan, nan: Must be a coordinate pair or Point\n"
     ]
    },
    {
     "name": "stdout",
     "output_type": "stream",
     "text": [
      "Error getting ZIP for nan, nan: Must be a coordinate pair or Point\n"
     ]
    },
    {
     "name": "stdout",
     "output_type": "stream",
     "text": [
      "Error getting ZIP for nan, nan: Must be a coordinate pair or Point\n"
     ]
    },
    {
     "name": "stdout",
     "output_type": "stream",
     "text": [
      "Error getting ZIP for nan, nan: Must be a coordinate pair or Point\n"
     ]
    },
    {
     "name": "stdout",
     "output_type": "stream",
     "text": [
      "Error getting ZIP for nan, nan: Must be a coordinate pair or Point\n"
     ]
    },
    {
     "name": "stdout",
     "output_type": "stream",
     "text": [
      "Error getting ZIP for nan, nan: Must be a coordinate pair or Point\n"
     ]
    },
    {
     "name": "stdout",
     "output_type": "stream",
     "text": [
      "Error getting ZIP for nan, nan: Must be a coordinate pair or Point\n"
     ]
    },
    {
     "name": "stdout",
     "output_type": "stream",
     "text": [
      "Error getting ZIP for nan, nan: Must be a coordinate pair or Point\n"
     ]
    },
    {
     "name": "stdout",
     "output_type": "stream",
     "text": [
      "Error getting ZIP for nan, nan: Must be a coordinate pair or Point\n"
     ]
    },
    {
     "name": "stdout",
     "output_type": "stream",
     "text": [
      "Error getting ZIP for nan, nan: Must be a coordinate pair or Point\n"
     ]
    },
    {
     "name": "stdout",
     "output_type": "stream",
     "text": [
      "Error getting ZIP for nan, nan: Must be a coordinate pair or Point\n"
     ]
    },
    {
     "name": "stdout",
     "output_type": "stream",
     "text": [
      "Error getting ZIP for nan, nan: Must be a coordinate pair or Point\n"
     ]
    },
    {
     "name": "stdout",
     "output_type": "stream",
     "text": [
      "Error getting ZIP for nan, nan: Must be a coordinate pair or Point\n"
     ]
    },
    {
     "name": "stdout",
     "output_type": "stream",
     "text": [
      "Error getting ZIP for nan, nan: Must be a coordinate pair or Point\n"
     ]
    },
    {
     "name": "stdout",
     "output_type": "stream",
     "text": [
      "Error getting ZIP for nan, nan: Must be a coordinate pair or Point\n"
     ]
    },
    {
     "name": "stdout",
     "output_type": "stream",
     "text": [
      "Error getting ZIP for nan, nan: Must be a coordinate pair or Point\n"
     ]
    },
    {
     "name": "stdout",
     "output_type": "stream",
     "text": [
      "Error getting ZIP for nan, nan: Must be a coordinate pair or Point\n"
     ]
    },
    {
     "name": "stdout",
     "output_type": "stream",
     "text": [
      "Error getting ZIP for nan, nan: Must be a coordinate pair or Point\n"
     ]
    },
    {
     "name": "stdout",
     "output_type": "stream",
     "text": [
      "Error getting ZIP for nan, nan: Must be a coordinate pair or Point\n"
     ]
    },
    {
     "name": "stdout",
     "output_type": "stream",
     "text": [
      "Error getting ZIP for nan, nan: Must be a coordinate pair or Point\n"
     ]
    },
    {
     "name": "stdout",
     "output_type": "stream",
     "text": [
      "Error getting ZIP for nan, nan: Must be a coordinate pair or Point\n"
     ]
    },
    {
     "name": "stdout",
     "output_type": "stream",
     "text": [
      "Error getting ZIP for nan, nan: Must be a coordinate pair or Point\n"
     ]
    },
    {
     "name": "stdout",
     "output_type": "stream",
     "text": [
      "Error getting ZIP for nan, nan: Must be a coordinate pair or Point\n"
     ]
    },
    {
     "name": "stdout",
     "output_type": "stream",
     "text": [
      "Error getting ZIP for nan, nan: Must be a coordinate pair or Point\n"
     ]
    },
    {
     "name": "stdout",
     "output_type": "stream",
     "text": [
      "Error getting ZIP for nan, nan: Must be a coordinate pair or Point\n"
     ]
    },
    {
     "name": "stdout",
     "output_type": "stream",
     "text": [
      "Error getting ZIP for nan, nan: Must be a coordinate pair or Point\n"
     ]
    },
    {
     "name": "stdout",
     "output_type": "stream",
     "text": [
      "Error getting ZIP for nan, nan: Must be a coordinate pair or Point\n"
     ]
    },
    {
     "name": "stdout",
     "output_type": "stream",
     "text": [
      "Error getting ZIP for nan, nan: Must be a coordinate pair or Point\n"
     ]
    },
    {
     "name": "stdout",
     "output_type": "stream",
     "text": [
      "Error getting ZIP for nan, nan: Must be a coordinate pair or Point\n"
     ]
    },
    {
     "name": "stdout",
     "output_type": "stream",
     "text": [
      "Error getting ZIP for nan, nan: Must be a coordinate pair or Point\n"
     ]
    },
    {
     "name": "stdout",
     "output_type": "stream",
     "text": [
      "Error getting ZIP for nan, nan: Must be a coordinate pair or Point\n"
     ]
    },
    {
     "name": "stdout",
     "output_type": "stream",
     "text": [
      "Error getting ZIP for nan, nan: Must be a coordinate pair or Point\n"
     ]
    },
    {
     "name": "stdout",
     "output_type": "stream",
     "text": [
      "Error getting ZIP for nan, nan: Must be a coordinate pair or Point\n"
     ]
    },
    {
     "name": "stdout",
     "output_type": "stream",
     "text": [
      "Error getting ZIP for nan, nan: Must be a coordinate pair or Point\n"
     ]
    },
    {
     "name": "stdout",
     "output_type": "stream",
     "text": [
      "Error getting ZIP for nan, nan: Must be a coordinate pair or Point\n"
     ]
    },
    {
     "name": "stdout",
     "output_type": "stream",
     "text": [
      "Error getting ZIP for nan, nan: Must be a coordinate pair or Point\n"
     ]
    },
    {
     "name": "stdout",
     "output_type": "stream",
     "text": [
      "Error getting ZIP for nan, nan: Must be a coordinate pair or Point\n"
     ]
    },
    {
     "name": "stdout",
     "output_type": "stream",
     "text": [
      "Error getting ZIP for nan, nan: Must be a coordinate pair or Point\n"
     ]
    },
    {
     "name": "stdout",
     "output_type": "stream",
     "text": [
      "Error getting ZIP for nan, nan: Must be a coordinate pair or Point\n"
     ]
    },
    {
     "name": "stdout",
     "output_type": "stream",
     "text": [
      "Error getting ZIP for nan, nan: Must be a coordinate pair or Point\n"
     ]
    },
    {
     "name": "stdout",
     "output_type": "stream",
     "text": [
      "Error getting ZIP for nan, nan: Must be a coordinate pair or Point\n"
     ]
    },
    {
     "name": "stdout",
     "output_type": "stream",
     "text": [
      "Error getting ZIP for nan, nan: Must be a coordinate pair or Point\n"
     ]
    },
    {
     "name": "stdout",
     "output_type": "stream",
     "text": [
      "Error getting ZIP for nan, nan: Must be a coordinate pair or Point\n"
     ]
    },
    {
     "name": "stdout",
     "output_type": "stream",
     "text": [
      "Error getting ZIP for nan, nan: Must be a coordinate pair or Point\n"
     ]
    },
    {
     "name": "stdout",
     "output_type": "stream",
     "text": [
      "Error getting ZIP for nan, nan: Must be a coordinate pair or Point\n"
     ]
    },
    {
     "name": "stdout",
     "output_type": "stream",
     "text": [
      "Error getting ZIP for nan, nan: Must be a coordinate pair or Point\n"
     ]
    },
    {
     "name": "stdout",
     "output_type": "stream",
     "text": [
      "Error getting ZIP for nan, nan: Must be a coordinate pair or Point\n"
     ]
    },
    {
     "name": "stdout",
     "output_type": "stream",
     "text": [
      "Error getting ZIP for nan, nan: Must be a coordinate pair or Point\n"
     ]
    },
    {
     "name": "stdout",
     "output_type": "stream",
     "text": [
      "Error getting ZIP for nan, nan: Must be a coordinate pair or Point\n"
     ]
    },
    {
     "name": "stdout",
     "output_type": "stream",
     "text": [
      "Error getting ZIP for nan, nan: Must be a coordinate pair or Point\n"
     ]
    },
    {
     "name": "stdout",
     "output_type": "stream",
     "text": [
      "Error getting ZIP for nan, nan: Must be a coordinate pair or Point\n"
     ]
    },
    {
     "name": "stdout",
     "output_type": "stream",
     "text": [
      "Error getting ZIP for nan, nan: Must be a coordinate pair or Point\n"
     ]
    },
    {
     "name": "stdout",
     "output_type": "stream",
     "text": [
      "Error getting ZIP for nan, nan: Must be a coordinate pair or Point\n"
     ]
    },
    {
     "name": "stdout",
     "output_type": "stream",
     "text": [
      "Error getting ZIP for nan, nan: Must be a coordinate pair or Point\n"
     ]
    },
    {
     "name": "stdout",
     "output_type": "stream",
     "text": [
      "Error getting ZIP for nan, nan: Must be a coordinate pair or Point\n"
     ]
    },
    {
     "name": "stdout",
     "output_type": "stream",
     "text": [
      "Error getting ZIP for nan, nan: Must be a coordinate pair or Point\n"
     ]
    },
    {
     "name": "stdout",
     "output_type": "stream",
     "text": [
      "Error getting ZIP for nan, nan: Must be a coordinate pair or Point\n"
     ]
    },
    {
     "name": "stdout",
     "output_type": "stream",
     "text": [
      "Error getting ZIP for nan, nan: Must be a coordinate pair or Point\n"
     ]
    },
    {
     "name": "stdout",
     "output_type": "stream",
     "text": [
      "Error getting ZIP for nan, nan: Must be a coordinate pair or Point\n"
     ]
    },
    {
     "name": "stdout",
     "output_type": "stream",
     "text": [
      "Error getting ZIP for nan, nan: Must be a coordinate pair or Point\n"
     ]
    },
    {
     "name": "stdout",
     "output_type": "stream",
     "text": [
      "Error getting ZIP for nan, nan: Must be a coordinate pair or Point\n"
     ]
    },
    {
     "name": "stdout",
     "output_type": "stream",
     "text": [
      "Error getting ZIP for nan, nan: Must be a coordinate pair or Point\n"
     ]
    },
    {
     "name": "stdout",
     "output_type": "stream",
     "text": [
      "Error getting ZIP for nan, nan: Must be a coordinate pair or Point\n"
     ]
    },
    {
     "name": "stdout",
     "output_type": "stream",
     "text": [
      "Error getting ZIP for nan, nan: Must be a coordinate pair or Point\n"
     ]
    },
    {
     "name": "stdout",
     "output_type": "stream",
     "text": [
      "Error getting ZIP for nan, nan: Must be a coordinate pair or Point\n"
     ]
    },
    {
     "name": "stdout",
     "output_type": "stream",
     "text": [
      "Error getting ZIP for nan, nan: Must be a coordinate pair or Point\n"
     ]
    },
    {
     "name": "stdout",
     "output_type": "stream",
     "text": [
      "Error getting ZIP for nan, nan: Must be a coordinate pair or Point\n"
     ]
    },
    {
     "name": "stdout",
     "output_type": "stream",
     "text": [
      "Error getting ZIP for nan, nan: Must be a coordinate pair or Point\n"
     ]
    },
    {
     "name": "stdout",
     "output_type": "stream",
     "text": [
      "Error getting ZIP for nan, nan: Must be a coordinate pair or Point\n"
     ]
    },
    {
     "name": "stdout",
     "output_type": "stream",
     "text": [
      "Error getting ZIP for nan, nan: Must be a coordinate pair or Point\n"
     ]
    },
    {
     "name": "stdout",
     "output_type": "stream",
     "text": [
      "Error getting ZIP for nan, nan: Must be a coordinate pair or Point\n"
     ]
    },
    {
     "name": "stdout",
     "output_type": "stream",
     "text": [
      "Error getting ZIP for nan, nan: Must be a coordinate pair or Point\n"
     ]
    },
    {
     "name": "stdout",
     "output_type": "stream",
     "text": [
      "Error getting ZIP for nan, nan: Must be a coordinate pair or Point\n"
     ]
    },
    {
     "name": "stdout",
     "output_type": "stream",
     "text": [
      "Error getting ZIP for nan, nan: Must be a coordinate pair or Point\n"
     ]
    },
    {
     "name": "stdout",
     "output_type": "stream",
     "text": [
      "Error getting ZIP for nan, nan: Must be a coordinate pair or Point\n"
     ]
    },
    {
     "data": {
      "text/html": [
       "<div>\n",
       "<style scoped>\n",
       "    .dataframe tbody tr th:only-of-type {\n",
       "        vertical-align: middle;\n",
       "    }\n",
       "\n",
       "    .dataframe tbody tr th {\n",
       "        vertical-align: top;\n",
       "    }\n",
       "\n",
       "    .dataframe thead th {\n",
       "        text-align: right;\n",
       "    }\n",
       "</style>\n",
       "<table border=\"1\" class=\"dataframe\">\n",
       "  <thead>\n",
       "    <tr style=\"text-align: right;\">\n",
       "      <th></th>\n",
       "      <th>RecordID</th>\n",
       "      <th>Offense</th>\n",
       "      <th>IncidentID</th>\n",
       "      <th>BlockNumber</th>\n",
       "      <th>StreetName</th>\n",
       "      <th>Agency</th>\n",
       "      <th>HourReported</th>\n",
       "      <th>ReportingOfficer</th>\n",
       "      <th>Date</th>\n",
       "      <th>DateString</th>\n",
       "      <th>DayOfWeek</th>\n",
       "      <th>Weekend</th>\n",
       "      <th>Season</th>\n",
       "      <th>HourAMPM</th>\n",
       "      <th>TimeOfDay</th>\n",
       "      <th>FullStreet</th>\n",
       "      <th>lat</th>\n",
       "      <th>lon</th>\n",
       "      <th>neighborhood</th>\n",
       "      <th>zip</th>\n",
       "    </tr>\n",
       "  </thead>\n",
       "  <tbody>\n",
       "    <tr>\n",
       "      <th>0</th>\n",
       "      <td>1</td>\n",
       "      <td>Hit and Run</td>\n",
       "      <td>202500028577</td>\n",
       "      <td>1100</td>\n",
       "      <td>5TH ST SW</td>\n",
       "      <td>CPD</td>\n",
       "      <td>1930</td>\n",
       "      <td>Reed, Danielle</td>\n",
       "      <td>2025-08-12 19:30:55</td>\n",
       "      <td>2025-08-12 07:30:55 PM</td>\n",
       "      <td>Tuesday</td>\n",
       "      <td>False</td>\n",
       "      <td>Summer</td>\n",
       "      <td>07:30 PM</td>\n",
       "      <td>Evening</td>\n",
       "      <td>1100 5TH ST SW</td>\n",
       "      <td>38.017130</td>\n",
       "      <td>-78.497806</td>\n",
       "      <td>Johnson Village</td>\n",
       "      <td>22903</td>\n",
       "    </tr>\n",
       "    <tr>\n",
       "      <th>1</th>\n",
       "      <td>2</td>\n",
       "      <td>Hit and Run</td>\n",
       "      <td>202500028570</td>\n",
       "      <td>1500</td>\n",
       "      <td>GREEN ST</td>\n",
       "      <td>CPD</td>\n",
       "      <td>1821</td>\n",
       "      <td>Urban, Jacob</td>\n",
       "      <td>2025-08-12 18:21:24</td>\n",
       "      <td>2025-08-12 06:21:24 PM</td>\n",
       "      <td>Tuesday</td>\n",
       "      <td>False</td>\n",
       "      <td>Summer</td>\n",
       "      <td>06:21 PM</td>\n",
       "      <td>Evening</td>\n",
       "      <td>1500 GREEN ST</td>\n",
       "      <td>38.016793</td>\n",
       "      <td>-78.480900</td>\n",
       "      <td>Belmont</td>\n",
       "      <td>22903</td>\n",
       "    </tr>\n",
       "    <tr>\n",
       "      <th>2</th>\n",
       "      <td>3</td>\n",
       "      <td>Fraud-false pretense</td>\n",
       "      <td>202500028568</td>\n",
       "      <td>1900</td>\n",
       "      <td>ARLINGTON BLVD</td>\n",
       "      <td>CPD</td>\n",
       "      <td>1754</td>\n",
       "      <td>Reed, Danielle</td>\n",
       "      <td>2025-08-12 17:54:51</td>\n",
       "      <td>2025-08-12 05:54:51 PM</td>\n",
       "      <td>Tuesday</td>\n",
       "      <td>False</td>\n",
       "      <td>Summer</td>\n",
       "      <td>05:54 PM</td>\n",
       "      <td>Evening</td>\n",
       "      <td>1900 ARLINGTON BLVD</td>\n",
       "      <td>38.047765</td>\n",
       "      <td>-78.504328</td>\n",
       "      <td>Barracks Road</td>\n",
       "      <td>22905</td>\n",
       "    </tr>\n",
       "    <tr>\n",
       "      <th>3</th>\n",
       "      <td>4</td>\n",
       "      <td>Animal - Bite</td>\n",
       "      <td>202500028567</td>\n",
       "      <td>700</td>\n",
       "      <td>RIVES ST</td>\n",
       "      <td>CPD</td>\n",
       "      <td>1745</td>\n",
       "      <td>Urban, Jacob</td>\n",
       "      <td>2025-08-12 17:45:09</td>\n",
       "      <td>2025-08-12 05:45:09 PM</td>\n",
       "      <td>Tuesday</td>\n",
       "      <td>False</td>\n",
       "      <td>Summer</td>\n",
       "      <td>05:45 PM</td>\n",
       "      <td>Evening</td>\n",
       "      <td>700 RIVES ST</td>\n",
       "      <td>38.019985</td>\n",
       "      <td>-78.468551</td>\n",
       "      <td>Belmont</td>\n",
       "      <td>22902</td>\n",
       "    </tr>\n",
       "    <tr>\n",
       "      <th>4</th>\n",
       "      <td>5</td>\n",
       "      <td>Drug Equipment Violation</td>\n",
       "      <td>202500028562</td>\n",
       "      <td>400</td>\n",
       "      <td>E MAIN ST</td>\n",
       "      <td>CPD</td>\n",
       "      <td>1722</td>\n",
       "      <td>Carrasco, Julio</td>\n",
       "      <td>2025-08-12 17:22:26</td>\n",
       "      <td>2025-08-12 05:22:26 PM</td>\n",
       "      <td>Tuesday</td>\n",
       "      <td>False</td>\n",
       "      <td>Summer</td>\n",
       "      <td>05:22 PM</td>\n",
       "      <td>Evening</td>\n",
       "      <td>400 E MAIN ST</td>\n",
       "      <td>38.029770</td>\n",
       "      <td>-78.479257</td>\n",
       "      <td>Downtown Mall</td>\n",
       "      <td>22902</td>\n",
       "    </tr>\n",
       "  </tbody>\n",
       "</table>\n",
       "</div>"
      ],
      "text/plain": [
       "   RecordID                   Offense    IncidentID BlockNumber  \\\n",
       "0         1               Hit and Run  202500028577        1100   \n",
       "1         2               Hit and Run  202500028570        1500   \n",
       "2         3      Fraud-false pretense  202500028568        1900   \n",
       "3         4             Animal - Bite  202500028567         700   \n",
       "4         5  Drug Equipment Violation  202500028562         400   \n",
       "\n",
       "       StreetName Agency HourReported ReportingOfficer                Date  \\\n",
       "0       5TH ST SW    CPD         1930   Reed, Danielle 2025-08-12 19:30:55   \n",
       "1        GREEN ST    CPD         1821     Urban, Jacob 2025-08-12 18:21:24   \n",
       "2  ARLINGTON BLVD    CPD         1754   Reed, Danielle 2025-08-12 17:54:51   \n",
       "3        RIVES ST    CPD         1745     Urban, Jacob 2025-08-12 17:45:09   \n",
       "4       E MAIN ST    CPD         1722  Carrasco, Julio 2025-08-12 17:22:26   \n",
       "\n",
       "               DateString DayOfWeek  Weekend  Season  HourAMPM TimeOfDay  \\\n",
       "0  2025-08-12 07:30:55 PM   Tuesday    False  Summer  07:30 PM   Evening   \n",
       "1  2025-08-12 06:21:24 PM   Tuesday    False  Summer  06:21 PM   Evening   \n",
       "2  2025-08-12 05:54:51 PM   Tuesday    False  Summer  05:54 PM   Evening   \n",
       "3  2025-08-12 05:45:09 PM   Tuesday    False  Summer  05:45 PM   Evening   \n",
       "4  2025-08-12 05:22:26 PM   Tuesday    False  Summer  05:22 PM   Evening   \n",
       "\n",
       "            FullStreet        lat        lon     neighborhood    zip  \n",
       "0       1100 5TH ST SW  38.017130 -78.497806  Johnson Village  22903  \n",
       "1        1500 GREEN ST  38.016793 -78.480900          Belmont  22903  \n",
       "2  1900 ARLINGTON BLVD  38.047765 -78.504328    Barracks Road  22905  \n",
       "3         700 RIVES ST  38.019985 -78.468551          Belmont  22902  \n",
       "4        400 E MAIN ST  38.029770 -78.479257    Downtown Mall  22902  "
      ]
     },
     "execution_count": 11,
     "metadata": {},
     "output_type": "execute_result"
    }
   ],
   "source": [
    "# Initialize the geocoder.\n",
    "geolocator = Nominatim(user_agent=\"zip_lookup\")\n",
    "\n",
    "# Try to load a persistent ZIP cache if available.\n",
    "try:\n",
    "    with open(\"zip_cache.pkl\", \"rb\") as f:\n",
    "        zip_cache = pickle.load(f)\n",
    "    print(\"Loaded zip cache.\")\n",
    "except FileNotFoundError:\n",
    "    zip_cache = {}\n",
    "    print(\"No zip cache found; starting fresh.\")\n",
    "\n",
    "def get_zip(lat, lon):\n",
    "    \"\"\"\n",
    "    Reverse geocodes a latitude and longitude to retrieve the ZIP code.\n",
    "    Caches results to speed up subsequent lookups.\n",
    "    \"\"\"\n",
    "    key = (lat, lon)\n",
    "    if key in zip_cache:\n",
    "        return zip_cache[key]\n",
    "    \n",
    "    try:\n",
    "        location = geolocator.reverse((lat, lon), exactly_one=True, timeout=10)\n",
    "        address = location.raw.get('address', {})\n",
    "        postal_code = address.get('postcode', \"N/A\")\n",
    "    except Exception as e:\n",
    "        print(f\"Error getting ZIP for {lat}, {lon}: {e}\")\n",
    "        postal_code = \"N/A\"\n",
    "    \n",
    "    zip_cache[key] = postal_code\n",
    "    # Pause to respect the usage policy.\n",
    "    time.sleep(1)\n",
    "    return postal_code\n",
    "\n",
    "# Apply the function to each row in the DataFrame.\n",
    "df['zip'] = df.apply(lambda row: get_zip(row['lat'], row['lon']), axis=1)\n",
    "\n",
    "# Save the updated ZIP cache.\n",
    "with open(\"zip_cache.pkl\", \"wb\") as f:\n",
    "    pickle.dump(zip_cache, f)\n",
    "\n",
    "df.head()\n"
   ]
  },
  {
   "cell_type": "code",
   "execution_count": 12,
   "id": "6fd3a93f",
   "metadata": {
    "execution": {
     "iopub.execute_input": "2025-08-15T01:09:11.868120Z",
     "iopub.status.busy": "2025-08-15T01:09:11.867925Z",
     "iopub.status.idle": "2025-08-15T01:09:11.895465Z",
     "shell.execute_reply": "2025-08-15T01:09:11.894762Z"
    },
    "papermill": {
     "duration": 0.039468,
     "end_time": "2025-08-15T01:09:11.896517",
     "exception": false,
     "start_time": "2025-08-15T01:09:11.857049",
     "status": "completed"
    },
    "tags": []
   },
   "outputs": [
    {
     "name": "stdout",
     "output_type": "stream",
     "text": [
      "                  MissingCount  MissingPercentage\n",
      "RecordID                     0               0.00\n",
      "Offense                      0               0.00\n",
      "IncidentID                   0               0.00\n",
      "BlockNumber                  0               0.00\n",
      "StreetName                   0               0.00\n",
      "Agency                       0               0.00\n",
      "HourReported                 0               0.00\n",
      "ReportingOfficer            15               0.06\n",
      "Date                         0               0.00\n",
      "DateString                   0               0.00\n",
      "DayOfWeek                    0               0.00\n",
      "Weekend                      0               0.00\n",
      "Season                       0               0.00\n",
      "HourAMPM                     0               0.00\n",
      "TimeOfDay                    0               0.00\n",
      "FullStreet                   0               0.00\n",
      "lat                         99               0.39\n",
      "lon                         99               0.39\n",
      "neighborhood                 0               0.00\n",
      "zip                          0               0.00\n"
     ]
    }
   ],
   "source": [
    "missing_info = missing_percentage(df)\n",
    "print(missing_info)\n"
   ]
  },
  {
   "cell_type": "code",
   "execution_count": 13,
   "id": "38a772a2",
   "metadata": {
    "execution": {
     "iopub.execute_input": "2025-08-15T01:09:11.918267Z",
     "iopub.status.busy": "2025-08-15T01:09:11.918075Z",
     "iopub.status.idle": "2025-08-15T01:09:11.945668Z",
     "shell.execute_reply": "2025-08-15T01:09:11.945091Z"
    },
    "papermill": {
     "duration": 0.039473,
     "end_time": "2025-08-15T01:09:11.946687",
     "exception": false,
     "start_time": "2025-08-15T01:09:11.907214",
     "status": "completed"
    },
    "tags": []
   },
   "outputs": [
    {
     "name": "stdout",
     "output_type": "stream",
     "text": [
      "<class 'pandas.core.frame.DataFrame'>\n",
      "RangeIndex: 25648 entries, 0 to 25647\n",
      "Data columns (total 20 columns):\n",
      " #   Column            Non-Null Count  Dtype         \n",
      "---  ------            --------------  -----         \n",
      " 0   RecordID          25648 non-null  int64         \n",
      " 1   Offense           25648 non-null  object        \n",
      " 2   IncidentID        25648 non-null  object        \n",
      " 3   BlockNumber       25648 non-null  object        \n",
      " 4   StreetName        25648 non-null  object        \n",
      " 5   Agency            25648 non-null  object        \n",
      " 6   HourReported      25648 non-null  object        \n",
      " 7   ReportingOfficer  25633 non-null  object        \n",
      " 8   Date              25648 non-null  datetime64[ns]\n",
      " 9   DateString        25648 non-null  object        \n",
      " 10  DayOfWeek         25648 non-null  object        \n",
      " 11  Weekend           25648 non-null  bool          \n",
      " 12  Season            25648 non-null  object        \n",
      " 13  HourAMPM          25648 non-null  object        \n",
      " 14  TimeOfDay         25648 non-null  object        \n",
      " 15  FullStreet        25648 non-null  object        \n",
      " 16  lat               25549 non-null  float64       \n",
      " 17  lon               25549 non-null  float64       \n",
      " 18  neighborhood      25648 non-null  object        \n",
      " 19  zip               25648 non-null  object        \n",
      "dtypes: bool(1), datetime64[ns](1), float64(2), int64(1), object(15)\n",
      "memory usage: 3.7+ MB\n"
     ]
    }
   ],
   "source": [
    "df.info()"
   ]
  },
  {
   "cell_type": "code",
   "execution_count": 14,
   "id": "842f0633",
   "metadata": {
    "execution": {
     "iopub.execute_input": "2025-08-15T01:09:11.968627Z",
     "iopub.status.busy": "2025-08-15T01:09:11.968430Z",
     "iopub.status.idle": "2025-08-15T01:09:12.013140Z",
     "shell.execute_reply": "2025-08-15T01:09:12.012510Z"
    },
    "papermill": {
     "duration": 0.056774,
     "end_time": "2025-08-15T01:09:12.014215",
     "exception": false,
     "start_time": "2025-08-15T01:09:11.957441",
     "status": "completed"
    },
    "tags": []
   },
   "outputs": [
    {
     "data": {
      "text/html": [
       "<div>\n",
       "<style scoped>\n",
       "    .dataframe tbody tr th:only-of-type {\n",
       "        vertical-align: middle;\n",
       "    }\n",
       "\n",
       "    .dataframe tbody tr th {\n",
       "        vertical-align: top;\n",
       "    }\n",
       "\n",
       "    .dataframe thead th {\n",
       "        text-align: right;\n",
       "    }\n",
       "</style>\n",
       "<table border=\"1\" class=\"dataframe\">\n",
       "  <thead>\n",
       "    <tr style=\"text-align: right;\">\n",
       "      <th></th>\n",
       "      <th>RecordID</th>\n",
       "      <th>Offense</th>\n",
       "      <th>IncidentID</th>\n",
       "      <th>Agency</th>\n",
       "      <th>ReportingOfficer</th>\n",
       "      <th>Date</th>\n",
       "      <th>DayOfWeek</th>\n",
       "      <th>Weekend</th>\n",
       "      <th>Season</th>\n",
       "      <th>TimeOfDay</th>\n",
       "      <th>FullStreet</th>\n",
       "      <th>lat</th>\n",
       "      <th>lon</th>\n",
       "      <th>neighborhood</th>\n",
       "      <th>zip</th>\n",
       "    </tr>\n",
       "  </thead>\n",
       "  <tbody>\n",
       "    <tr>\n",
       "      <th>0</th>\n",
       "      <td>1</td>\n",
       "      <td>Hit and Run</td>\n",
       "      <td>202500028577</td>\n",
       "      <td>CPD</td>\n",
       "      <td>Reed, Danielle</td>\n",
       "      <td>2025-08-12 19:30:55</td>\n",
       "      <td>Tuesday</td>\n",
       "      <td>False</td>\n",
       "      <td>Summer</td>\n",
       "      <td>Evening</td>\n",
       "      <td>1100 5TH ST SW</td>\n",
       "      <td>38.01713</td>\n",
       "      <td>-78.497806</td>\n",
       "      <td>Johnson Village</td>\n",
       "      <td>22903</td>\n",
       "    </tr>\n",
       "    <tr>\n",
       "      <th>1</th>\n",
       "      <td>2</td>\n",
       "      <td>Hit and Run</td>\n",
       "      <td>202500028570</td>\n",
       "      <td>CPD</td>\n",
       "      <td>Urban, Jacob</td>\n",
       "      <td>2025-08-12 18:21:24</td>\n",
       "      <td>Tuesday</td>\n",
       "      <td>False</td>\n",
       "      <td>Summer</td>\n",
       "      <td>Evening</td>\n",
       "      <td>1500 GREEN ST</td>\n",
       "      <td>38.016793</td>\n",
       "      <td>-78.4809</td>\n",
       "      <td>Belmont</td>\n",
       "      <td>22903</td>\n",
       "    </tr>\n",
       "    <tr>\n",
       "      <th>2</th>\n",
       "      <td>3</td>\n",
       "      <td>Fraud-false pretense</td>\n",
       "      <td>202500028568</td>\n",
       "      <td>CPD</td>\n",
       "      <td>Reed, Danielle</td>\n",
       "      <td>2025-08-12 17:54:51</td>\n",
       "      <td>Tuesday</td>\n",
       "      <td>False</td>\n",
       "      <td>Summer</td>\n",
       "      <td>Evening</td>\n",
       "      <td>1900 ARLINGTON BLVD</td>\n",
       "      <td>38.047765</td>\n",
       "      <td>-78.504328</td>\n",
       "      <td>Barracks Road</td>\n",
       "      <td>22905</td>\n",
       "    </tr>\n",
       "    <tr>\n",
       "      <th>3</th>\n",
       "      <td>4</td>\n",
       "      <td>Animal - Bite</td>\n",
       "      <td>202500028567</td>\n",
       "      <td>CPD</td>\n",
       "      <td>Urban, Jacob</td>\n",
       "      <td>2025-08-12 17:45:09</td>\n",
       "      <td>Tuesday</td>\n",
       "      <td>False</td>\n",
       "      <td>Summer</td>\n",
       "      <td>Evening</td>\n",
       "      <td>700 RIVES ST</td>\n",
       "      <td>38.019985</td>\n",
       "      <td>-78.468551</td>\n",
       "      <td>Belmont</td>\n",
       "      <td>22902</td>\n",
       "    </tr>\n",
       "    <tr>\n",
       "      <th>4</th>\n",
       "      <td>5</td>\n",
       "      <td>Drug Equipment Violation</td>\n",
       "      <td>202500028562</td>\n",
       "      <td>CPD</td>\n",
       "      <td>Carrasco, Julio</td>\n",
       "      <td>2025-08-12 17:22:26</td>\n",
       "      <td>Tuesday</td>\n",
       "      <td>False</td>\n",
       "      <td>Summer</td>\n",
       "      <td>Evening</td>\n",
       "      <td>400 E MAIN ST</td>\n",
       "      <td>38.02977</td>\n",
       "      <td>-78.479257</td>\n",
       "      <td>Downtown Mall</td>\n",
       "      <td>22902</td>\n",
       "    </tr>\n",
       "  </tbody>\n",
       "</table>\n",
       "</div>"
      ],
      "text/plain": [
       "   RecordID                   Offense    IncidentID Agency ReportingOfficer  \\\n",
       "0         1               Hit and Run  202500028577    CPD   Reed, Danielle   \n",
       "1         2               Hit and Run  202500028570    CPD     Urban, Jacob   \n",
       "2         3      Fraud-false pretense  202500028568    CPD   Reed, Danielle   \n",
       "3         4             Animal - Bite  202500028567    CPD     Urban, Jacob   \n",
       "4         5  Drug Equipment Violation  202500028562    CPD  Carrasco, Julio   \n",
       "\n",
       "                 Date DayOfWeek  Weekend  Season TimeOfDay  \\\n",
       "0 2025-08-12 19:30:55   Tuesday    False  Summer   Evening   \n",
       "1 2025-08-12 18:21:24   Tuesday    False  Summer   Evening   \n",
       "2 2025-08-12 17:54:51   Tuesday    False  Summer   Evening   \n",
       "3 2025-08-12 17:45:09   Tuesday    False  Summer   Evening   \n",
       "4 2025-08-12 17:22:26   Tuesday    False  Summer   Evening   \n",
       "\n",
       "            FullStreet        lat        lon     neighborhood    zip  \n",
       "0       1100 5TH ST SW   38.01713 -78.497806  Johnson Village  22903  \n",
       "1        1500 GREEN ST  38.016793   -78.4809          Belmont  22903  \n",
       "2  1900 ARLINGTON BLVD  38.047765 -78.504328    Barracks Road  22905  \n",
       "3         700 RIVES ST  38.019985 -78.468551          Belmont  22902  \n",
       "4        400 E MAIN ST   38.02977 -78.479257    Downtown Mall  22902  "
      ]
     },
     "execution_count": 14,
     "metadata": {},
     "output_type": "execute_result"
    }
   ],
   "source": [
    "# Now drop the original BlockNumber and StreetName columns\n",
    "df.drop(columns=['BlockNumber', 'StreetName','HourAMPM','HourReported','DateString'], inplace=True)\n",
    "df[\"zip\"] = df[\"zip\"].astype(str)\n",
    "\n",
    "# Fill all missing values in the DataFrame with \"N/A\"\n",
    "df.replace({None: \"N/A\", np.nan: \"N/A\", \"\": \"N/A\"}, inplace=True)\n",
    "df.head()"
   ]
  },
  {
   "cell_type": "code",
   "execution_count": 15,
   "id": "5c729b00",
   "metadata": {
    "execution": {
     "iopub.execute_input": "2025-08-15T01:09:12.036565Z",
     "iopub.status.busy": "2025-08-15T01:09:12.036310Z",
     "iopub.status.idle": "2025-08-15T01:09:12.056406Z",
     "shell.execute_reply": "2025-08-15T01:09:12.055856Z"
    },
    "papermill": {
     "duration": 0.032192,
     "end_time": "2025-08-15T01:09:12.057379",
     "exception": false,
     "start_time": "2025-08-15T01:09:12.025187",
     "status": "completed"
    },
    "tags": []
   },
   "outputs": [
    {
     "name": "stdout",
     "output_type": "stream",
     "text": [
      "                  MissingCount  MissingPercentage\n",
      "RecordID                     0                0.0\n",
      "Offense                      0                0.0\n",
      "IncidentID                   0                0.0\n",
      "Agency                       0                0.0\n",
      "ReportingOfficer             0                0.0\n",
      "Date                         0                0.0\n",
      "DayOfWeek                    0                0.0\n",
      "Weekend                      0                0.0\n",
      "Season                       0                0.0\n",
      "TimeOfDay                    0                0.0\n",
      "FullStreet                   0                0.0\n",
      "lat                          0                0.0\n",
      "lon                          0                0.0\n",
      "neighborhood                 0                0.0\n",
      "zip                          0                0.0\n"
     ]
    }
   ],
   "source": [
    "missing_info = missing_percentage(df)\n",
    "print(missing_info)"
   ]
  },
  {
   "cell_type": "code",
   "execution_count": 16,
   "id": "620e65a2",
   "metadata": {
    "execution": {
     "iopub.execute_input": "2025-08-15T01:09:12.080037Z",
     "iopub.status.busy": "2025-08-15T01:09:12.079762Z",
     "iopub.status.idle": "2025-08-15T01:09:12.084193Z",
     "shell.execute_reply": "2025-08-15T01:09:12.083629Z"
    },
    "papermill": {
     "duration": 0.016735,
     "end_time": "2025-08-15T01:09:12.085194",
     "exception": false,
     "start_time": "2025-08-15T01:09:12.068459",
     "status": "completed"
    },
    "tags": []
   },
   "outputs": [
    {
     "data": {
      "text/plain": [
       "Index(['RecordID', 'Offense', 'IncidentID', 'Agency', 'ReportingOfficer',\n",
       "       'Date', 'DayOfWeek', 'Weekend', 'Season', 'TimeOfDay', 'FullStreet',\n",
       "       'lat', 'lon', 'neighborhood', 'zip'],\n",
       "      dtype='object')"
      ]
     },
     "execution_count": 16,
     "metadata": {},
     "output_type": "execute_result"
    }
   ],
   "source": [
    "df.columns"
   ]
  },
  {
   "cell_type": "code",
   "execution_count": 17,
   "id": "d3eb10db",
   "metadata": {
    "execution": {
     "iopub.execute_input": "2025-08-15T01:09:12.107445Z",
     "iopub.status.busy": "2025-08-15T01:09:12.107262Z",
     "iopub.status.idle": "2025-08-15T01:09:12.127909Z",
     "shell.execute_reply": "2025-08-15T01:09:12.127324Z"
    },
    "papermill": {
     "duration": 0.03289,
     "end_time": "2025-08-15T01:09:12.128904",
     "exception": false,
     "start_time": "2025-08-15T01:09:12.096014",
     "status": "completed"
    },
    "tags": []
   },
   "outputs": [
    {
     "name": "stdout",
     "output_type": "stream",
     "text": [
      "<class 'pandas.core.frame.DataFrame'>\n",
      "RangeIndex: 25648 entries, 0 to 25647\n",
      "Data columns (total 15 columns):\n",
      " #   Column            Non-Null Count  Dtype         \n",
      "---  ------            --------------  -----         \n",
      " 0   RecordID          25648 non-null  int64         \n",
      " 1   Offense           25648 non-null  object        \n",
      " 2   IncidentID        25648 non-null  object        \n",
      " 3   Agency            25648 non-null  object        \n",
      " 4   ReportingOfficer  25648 non-null  object        \n",
      " 5   Date              25648 non-null  datetime64[ns]\n",
      " 6   DayOfWeek         25648 non-null  object        \n",
      " 7   Weekend           25648 non-null  bool          \n",
      " 8   Season            25648 non-null  object        \n",
      " 9   TimeOfDay         25648 non-null  object        \n",
      " 10  FullStreet        25648 non-null  object        \n",
      " 11  lat               25648 non-null  object        \n",
      " 12  lon               25648 non-null  object        \n",
      " 13  neighborhood      25648 non-null  object        \n",
      " 14  zip               25648 non-null  object        \n",
      "dtypes: bool(1), datetime64[ns](1), int64(1), object(12)\n",
      "memory usage: 2.8+ MB\n"
     ]
    }
   ],
   "source": [
    "df.info()"
   ]
  },
  {
   "cell_type": "markdown",
   "id": "e1633324",
   "metadata": {
    "papermill": {
     "duration": 0.010855,
     "end_time": "2025-08-15T01:09:12.150864",
     "exception": false,
     "start_time": "2025-08-15T01:09:12.140009",
     "status": "completed"
    },
    "tags": []
   },
   "source": [
    "### Export Clean Data"
   ]
  },
  {
   "cell_type": "code",
   "execution_count": 18,
   "id": "624635d8",
   "metadata": {
    "execution": {
     "iopub.execute_input": "2025-08-15T01:09:12.173422Z",
     "iopub.status.busy": "2025-08-15T01:09:12.173218Z",
     "iopub.status.idle": "2025-08-15T01:09:21.258478Z",
     "shell.execute_reply": "2025-08-15T01:09:21.257886Z"
    },
    "papermill": {
     "duration": 9.0978,
     "end_time": "2025-08-15T01:09:21.259537",
     "exception": false,
     "start_time": "2025-08-15T01:09:12.161737",
     "status": "completed"
    },
    "tags": []
   },
   "outputs": [
    {
     "name": "stdout",
     "output_type": "stream",
     "text": [
      "Project Root: /home/runner/work/crime-data/crime-data\n"
     ]
    },
    {
     "name": "stdout",
     "output_type": "stream",
     "text": [
      "Data saved to: /home/runner/work/crime-data/crime-data/data/charlottesville_crime_incidents.csv\n"
     ]
    },
    {
     "name": "stdout",
     "output_type": "stream",
     "text": [
      "Excel saved to: /home/runner/work/crime-data/crime-data/data/charlottesville_crime_incidents.xlsx\n"
     ]
    }
   ],
   "source": [
    "# Determine the project root (assuming papermill is run from the repository root)\n",
    "project_root = os.getcwd()\n",
    "print(\"Project Root:\", project_root)\n",
    "\n",
    "# Set the data directory within the project root\n",
    "data_dir = os.path.join(project_root, \"data\")\n",
    "\n",
    "# Ensure the \"data\" directory exists (create it if it doesn't)\n",
    "if not os.path.exists(data_dir):\n",
    "    os.makedirs(data_dir)\n",
    "\n",
    "# Export the DataFrame to CSV in the \"data\" folder located in the project root\n",
    "csv_path = os.path.join(data_dir, \"charlottesville_crime_incidents.csv\")\n",
    "df.to_csv(csv_path, index=False)\n",
    "print(\"Data saved to:\", csv_path)\n",
    "\n",
    "# Construct the path to your Excel file\n",
    "excel_path = os.path.join(data_dir, \"charlottesville_crime_incidents.xlsx\")\n",
    "\n",
    "# Export the DataFrame to Excel\n",
    "df.to_excel(excel_path, index=False)\n",
    "print(\"Excel saved to:\", excel_path)\n"
   ]
  }
 ],
 "metadata": {
  "kernelspec": {
   "display_name": "Python 3",
   "language": "python",
   "name": "python3"
  },
  "language_info": {
   "codemirror_mode": {
    "name": "ipython",
    "version": 3
   },
   "file_extension": ".py",
   "mimetype": "text/x-python",
   "name": "python",
   "nbconvert_exporter": "python",
   "pygments_lexer": "ipython3",
   "version": "3.9.23"
  },
  "papermill": {
   "default_parameters": {},
   "duration": 185.561127,
   "end_time": "2025-08-15T01:09:21.687320",
   "environment_variables": {},
   "exception": null,
   "input_path": "notebook/Crime Data.ipynb",
   "output_path": "notebook/Crime Data_output.ipynb",
   "parameters": {},
   "start_time": "2025-08-15T01:06:16.126193",
   "version": "2.6.0"
  }
 },
 "nbformat": 4,
 "nbformat_minor": 5
}