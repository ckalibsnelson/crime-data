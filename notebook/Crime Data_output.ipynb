{
 "cells": [
  {
   "cell_type": "markdown",
   "id": "663e11c0",
   "metadata": {
    "papermill": {
     "duration": 0.004369,
     "end_time": "2025-06-23T01:08:48.636989",
     "exception": false,
     "start_time": "2025-06-23T01:08:48.632620",
     "status": "completed"
    },
    "tags": []
   },
   "source": [
    "# Charlottesville Open Data Porttal: Crime Data"
   ]
  },
  {
   "cell_type": "markdown",
   "id": "c4941187",
   "metadata": {
    "papermill": {
     "duration": 0.00319,
     "end_time": "2025-06-23T01:08:48.643822",
     "exception": false,
     "start_time": "2025-06-23T01:08:48.640632",
     "status": "completed"
    },
    "tags": []
   },
   "source": [
    "## Import Relevant Librarires & Set WD"
   ]
  },
  {
   "cell_type": "code",
   "execution_count": 1,
   "id": "ed0c9366",
   "metadata": {
    "execution": {
     "iopub.execute_input": "2025-06-23T01:08:48.651776Z",
     "iopub.status.busy": "2025-06-23T01:08:48.651453Z",
     "iopub.status.idle": "2025-06-23T01:08:49.196226Z",
     "shell.execute_reply": "2025-06-23T01:08:49.195604Z"
    },
    "papermill": {
     "duration": 0.550463,
     "end_time": "2025-06-23T01:08:49.197590",
     "exception": false,
     "start_time": "2025-06-23T01:08:48.647127",
     "status": "completed"
    },
    "tags": []
   },
   "outputs": [],
   "source": [
    "import requests\n",
    "import pandas as pd\n",
    "import numpy as np\n",
    "import pickle\n",
    "import googlemaps\n",
    "import plotly.express as px\n",
    "from geopy.geocoders import Nominatim\n",
    "import time\n",
    "from dotenv import load_dotenv\n",
    "import os\n",
    "\n",
    "env_path = os.path.join(\"..\", \".env\")\n",
    "#print(\"Looking for .env file at:\", os.path.abspath(env_path))\n",
    "load_dotenv(dotenv_path=env_path)\n",
    "\n",
    "# Retrieve the variables\n",
    "GOOGLE_API_KEY = os.getenv(\"GOOGLE_API_KEY\")\n",
    "WORKING_DIR = os.getenv(\"WORKING_DIR\")\n",
    "\n",
    "if GOOGLE_API_KEY is None or WORKING_DIR is None:\n",
    "    raise RuntimeError(\"No configuration found. Please ensure that your .env file exists with the required variables, or create a local config.py file.\")\n",
    "\n",
    "#print(\"Google API Key:\", GOOGLE_API_KEY)\n",
    "#print(\"Working Directory:\", WORKING_DIR)"
   ]
  },
  {
   "cell_type": "markdown",
   "id": "da7c2cf9",
   "metadata": {
    "papermill": {
     "duration": 0.003376,
     "end_time": "2025-06-23T01:08:49.204761",
     "exception": false,
     "start_time": "2025-06-23T01:08:49.201385",
     "status": "completed"
    },
    "tags": []
   },
   "source": [
    "## Import Data\n",
    "\n",
    "URL: https://opendata.charlottesville.org/datasets/charlottesville::crime-data/about"
   ]
  },
  {
   "cell_type": "code",
   "execution_count": 2,
   "id": "121f6a6e",
   "metadata": {
    "execution": {
     "iopub.execute_input": "2025-06-23T01:08:49.212873Z",
     "iopub.status.busy": "2025-06-23T01:08:49.212276Z",
     "iopub.status.idle": "2025-06-23T01:09:57.853948Z",
     "shell.execute_reply": "2025-06-23T01:09:57.853244Z"
    },
    "papermill": {
     "duration": 68.649861,
     "end_time": "2025-06-23T01:09:57.858000",
     "exception": false,
     "start_time": "2025-06-23T01:08:49.208139",
     "status": "completed"
    },
    "tags": []
   },
   "outputs": [
    {
     "name": "stdout",
     "output_type": "stream",
     "text": [
      "Total records imported: 25533\n"
     ]
    }
   ],
   "source": [
    "# Define the endpoint and initial parameters.\n",
    "url = \"https://gisweb.charlottesville.org/arcgis/rest/services/OpenData_2/MapServer/6/query\"\n",
    "params = {\n",
    "    \"where\": \"1=1\",\n",
    "    \"outFields\": \"*\",\n",
    "    \"outSR\": 4326,\n",
    "    \"f\": \"json\",\n",
    "    \"resultOffset\": 0,       # Starting index for results\n",
    "    \"resultRecordCount\": 10000  # Maximum records per batch (if allowed by the API)\n",
    "}\n",
    "\n",
    "records = []\n",
    "\n",
    "while True:\n",
    "    response = requests.get(url, params=params)\n",
    "    response.raise_for_status()\n",
    "    data = response.json()\n",
    "    \n",
    "    # Get the current batch of features.\n",
    "    features = data.get(\"features\", [])\n",
    "    if not features:\n",
    "        break\n",
    "\n",
    "    # Extract the attributes from the features.\n",
    "    batch_records = [feature.get(\"attributes\", {}) for feature in features]\n",
    "    records.extend(batch_records)\n",
    "    \n",
    "    # If the batch size is less than the requested count, we reached the end.\n",
    "    if len(features) < params[\"resultRecordCount\"]:\n",
    "        break\n",
    "\n",
    "    # Update the resultOffset for the next batch.\n",
    "    params[\"resultOffset\"] += params[\"resultRecordCount\"]\n",
    "\n",
    "# Create a DataFrame from the combined records.\n",
    "df = pd.DataFrame(records)\n",
    "print(\"Total records imported:\", len(df))\n"
   ]
  },
  {
   "cell_type": "code",
   "execution_count": 3,
   "id": "38861ec1",
   "metadata": {
    "execution": {
     "iopub.execute_input": "2025-06-23T01:09:57.866109Z",
     "iopub.status.busy": "2025-06-23T01:09:57.865672Z",
     "iopub.status.idle": "2025-06-23T01:09:57.878137Z",
     "shell.execute_reply": "2025-06-23T01:09:57.877509Z"
    },
    "papermill": {
     "duration": 0.017613,
     "end_time": "2025-06-23T01:09:57.879222",
     "exception": false,
     "start_time": "2025-06-23T01:09:57.861609",
     "status": "completed"
    },
    "tags": []
   },
   "outputs": [
    {
     "data": {
      "text/html": [
       "<div>\n",
       "<style scoped>\n",
       "    .dataframe tbody tr th:only-of-type {\n",
       "        vertical-align: middle;\n",
       "    }\n",
       "\n",
       "    .dataframe tbody tr th {\n",
       "        vertical-align: top;\n",
       "    }\n",
       "\n",
       "    .dataframe thead th {\n",
       "        text-align: right;\n",
       "    }\n",
       "</style>\n",
       "<table border=\"1\" class=\"dataframe\">\n",
       "  <thead>\n",
       "    <tr style=\"text-align: right;\">\n",
       "      <th></th>\n",
       "      <th>RecordID</th>\n",
       "      <th>Offense</th>\n",
       "      <th>IncidentID</th>\n",
       "      <th>BlockNumber</th>\n",
       "      <th>StreetName</th>\n",
       "      <th>Agency</th>\n",
       "      <th>DateReported</th>\n",
       "      <th>HourReported</th>\n",
       "      <th>ReportingOfficer</th>\n",
       "    </tr>\n",
       "  </thead>\n",
       "  <tbody>\n",
       "    <tr>\n",
       "      <th>0</th>\n",
       "      <td>1</td>\n",
       "      <td>Larceny - From Motor Vehicle</td>\n",
       "      <td>202500021281</td>\n",
       "      <td>700</td>\n",
       "      <td>PROSPECT AVE, F</td>\n",
       "      <td>CPD</td>\n",
       "      <td>1750446782000</td>\n",
       "      <td>1513</td>\n",
       "      <td>Reed, Danielle</td>\n",
       "    </tr>\n",
       "    <tr>\n",
       "      <th>1</th>\n",
       "      <td>2</td>\n",
       "      <td>Hit and Run</td>\n",
       "      <td>202500021275</td>\n",
       "      <td>2400</td>\n",
       "      <td>FONTAINE AVE</td>\n",
       "      <td>CPD</td>\n",
       "      <td>1750445819000</td>\n",
       "      <td>1456</td>\n",
       "      <td>Reed, Danielle</td>\n",
       "    </tr>\n",
       "    <tr>\n",
       "      <th>2</th>\n",
       "      <td>3</td>\n",
       "      <td>Harassment</td>\n",
       "      <td>202500021260</td>\n",
       "      <td>600</td>\n",
       "      <td>E MARKET ST</td>\n",
       "      <td>CPD</td>\n",
       "      <td>1750440260000</td>\n",
       "      <td>1324</td>\n",
       "      <td>Kirby, Tyree</td>\n",
       "    </tr>\n",
       "    <tr>\n",
       "      <th>3</th>\n",
       "      <td>4</td>\n",
       "      <td>Lost/FoundProperty</td>\n",
       "      <td>202500021257</td>\n",
       "      <td>1900</td>\n",
       "      <td>EMMET ST N</td>\n",
       "      <td>CPD</td>\n",
       "      <td>1750438511000</td>\n",
       "      <td>1255</td>\n",
       "      <td>Prevost, Payten</td>\n",
       "    </tr>\n",
       "    <tr>\n",
       "      <th>4</th>\n",
       "      <td>5</td>\n",
       "      <td>Assist Citizen - Mental/TDO/ECO</td>\n",
       "      <td>202500021256</td>\n",
       "      <td>1300</td>\n",
       "      <td>NUNLEY ST</td>\n",
       "      <td>CPD</td>\n",
       "      <td>1750437863000</td>\n",
       "      <td>1244</td>\n",
       "      <td>Kinney, Dylan</td>\n",
       "    </tr>\n",
       "  </tbody>\n",
       "</table>\n",
       "</div>"
      ],
      "text/plain": [
       "   RecordID                          Offense    IncidentID BlockNumber  \\\n",
       "0         1     Larceny - From Motor Vehicle  202500021281         700   \n",
       "1         2                      Hit and Run  202500021275        2400   \n",
       "2         3                       Harassment  202500021260         600   \n",
       "3         4               Lost/FoundProperty  202500021257        1900   \n",
       "4         5  Assist Citizen - Mental/TDO/ECO  202500021256        1300   \n",
       "\n",
       "        StreetName Agency   DateReported HourReported ReportingOfficer  \n",
       "0  PROSPECT AVE, F    CPD  1750446782000         1513   Reed, Danielle  \n",
       "1     FONTAINE AVE    CPD  1750445819000         1456   Reed, Danielle  \n",
       "2      E MARKET ST    CPD  1750440260000         1324     Kirby, Tyree  \n",
       "3       EMMET ST N    CPD  1750438511000         1255  Prevost, Payten  \n",
       "4        NUNLEY ST    CPD  1750437863000         1244    Kinney, Dylan  "
      ]
     },
     "execution_count": 3,
     "metadata": {},
     "output_type": "execute_result"
    }
   ],
   "source": [
    "df.head()"
   ]
  },
  {
   "cell_type": "code",
   "execution_count": 4,
   "id": "c8d535a6",
   "metadata": {
    "execution": {
     "iopub.execute_input": "2025-06-23T01:09:57.887403Z",
     "iopub.status.busy": "2025-06-23T01:09:57.886998Z",
     "iopub.status.idle": "2025-06-23T01:09:57.891329Z",
     "shell.execute_reply": "2025-06-23T01:09:57.890679Z"
    },
    "papermill": {
     "duration": 0.009423,
     "end_time": "2025-06-23T01:09:57.892277",
     "exception": false,
     "start_time": "2025-06-23T01:09:57.882854",
     "status": "completed"
    },
    "tags": []
   },
   "outputs": [
    {
     "data": {
      "text/plain": [
       "Index(['RecordID', 'Offense', 'IncidentID', 'BlockNumber', 'StreetName',\n",
       "       'Agency', 'DateReported', 'HourReported', 'ReportingOfficer'],\n",
       "      dtype='object')"
      ]
     },
     "execution_count": 4,
     "metadata": {},
     "output_type": "execute_result"
    }
   ],
   "source": [
    "df.columns"
   ]
  },
  {
   "cell_type": "code",
   "execution_count": 5,
   "id": "06793251",
   "metadata": {
    "execution": {
     "iopub.execute_input": "2025-06-23T01:09:57.901191Z",
     "iopub.status.busy": "2025-06-23T01:09:57.900837Z",
     "iopub.status.idle": "2025-06-23T01:09:57.921662Z",
     "shell.execute_reply": "2025-06-23T01:09:57.920996Z"
    },
    "papermill": {
     "duration": 0.026788,
     "end_time": "2025-06-23T01:09:57.922774",
     "exception": false,
     "start_time": "2025-06-23T01:09:57.895986",
     "status": "completed"
    },
    "tags": []
   },
   "outputs": [
    {
     "name": "stdout",
     "output_type": "stream",
     "text": [
      "<class 'pandas.core.frame.DataFrame'>\n",
      "RangeIndex: 25533 entries, 0 to 25532\n",
      "Data columns (total 9 columns):\n",
      " #   Column            Non-Null Count  Dtype \n",
      "---  ------            --------------  ----- \n",
      " 0   RecordID          25533 non-null  int64 \n",
      " 1   Offense           25533 non-null  object\n",
      " 2   IncidentID        25533 non-null  object\n",
      " 3   BlockNumber       25533 non-null  object\n",
      " 4   StreetName        25533 non-null  object\n",
      " 5   Agency            25533 non-null  object\n",
      " 6   DateReported      25533 non-null  int64 \n",
      " 7   HourReported      25533 non-null  object\n",
      " 8   ReportingOfficer  25516 non-null  object\n",
      "dtypes: int64(2), object(7)\n",
      "memory usage: 1.8+ MB\n"
     ]
    }
   ],
   "source": [
    "df.info()"
   ]
  },
  {
   "cell_type": "markdown",
   "id": "bffa8af4",
   "metadata": {
    "papermill": {
     "duration": 0.00371,
     "end_time": "2025-06-23T01:09:57.930287",
     "exception": false,
     "start_time": "2025-06-23T01:09:57.926577",
     "status": "completed"
    },
    "tags": []
   },
   "source": [
    "### Missing Values"
   ]
  },
  {
   "cell_type": "code",
   "execution_count": 6,
   "id": "a6dccfcd",
   "metadata": {
    "execution": {
     "iopub.execute_input": "2025-06-23T01:09:57.961004Z",
     "iopub.status.busy": "2025-06-23T01:09:57.960406Z",
     "iopub.status.idle": "2025-06-23T01:09:57.985430Z",
     "shell.execute_reply": "2025-06-23T01:09:57.984835Z"
    },
    "papermill": {
     "duration": 0.030658,
     "end_time": "2025-06-23T01:09:57.986472",
     "exception": false,
     "start_time": "2025-06-23T01:09:57.955814",
     "status": "completed"
    },
    "tags": []
   },
   "outputs": [
    {
     "name": "stdout",
     "output_type": "stream",
     "text": [
      "                  MissingCount  MissingPercentage\n",
      "RecordID                     0               0.00\n",
      "Offense                      0               0.00\n",
      "IncidentID                   0               0.00\n",
      "BlockNumber                  0               0.00\n",
      "StreetName                   0               0.00\n",
      "Agency                       0               0.00\n",
      "DateReported                 0               0.00\n",
      "HourReported                 0               0.00\n",
      "ReportingOfficer            17               0.07\n"
     ]
    }
   ],
   "source": [
    "def missing_percentage(df):\n",
    "    \"\"\"\n",
    "    Returns a DataFrame with the count and percentage of missing values for each column.\n",
    "    \n",
    "    Parameters:\n",
    "        df (pd.DataFrame): The input DataFrame.\n",
    "    \n",
    "    Returns:\n",
    "        pd.DataFrame: A DataFrame with columns 'MissingCount' and 'MissingPercentage'.\n",
    "    \"\"\"\n",
    "    total_rows = len(df)\n",
    "    missing_count = df.isnull().sum()\n",
    "    missing_percent = (missing_count / total_rows) * 100\n",
    "    \n",
    "    result = pd.DataFrame({\n",
    "        'MissingCount': missing_count,\n",
    "        'MissingPercentage': missing_percent.round(2)\n",
    "    })\n",
    "    \n",
    "    return result\n",
    "\n",
    "# Example usage:\n",
    "missing_info = missing_percentage(df)\n",
    "print(missing_info)\n"
   ]
  },
  {
   "cell_type": "markdown",
   "id": "e1c6a204",
   "metadata": {
    "papermill": {
     "duration": 0.003932,
     "end_time": "2025-06-23T01:09:57.994408",
     "exception": false,
     "start_time": "2025-06-23T01:09:57.990476",
     "status": "completed"
    },
    "tags": []
   },
   "source": [
    "## Data Preparation"
   ]
  },
  {
   "cell_type": "markdown",
   "id": "9653a9f7",
   "metadata": {
    "papermill": {
     "duration": 0.003664,
     "end_time": "2025-06-23T01:09:58.001883",
     "exception": false,
     "start_time": "2025-06-23T01:09:57.998219",
     "status": "completed"
    },
    "tags": []
   },
   "source": [
    "### Data Conversion"
   ]
  },
  {
   "cell_type": "code",
   "execution_count": 7,
   "id": "5d65963a",
   "metadata": {
    "execution": {
     "iopub.execute_input": "2025-06-23T01:09:58.010764Z",
     "iopub.status.busy": "2025-06-23T01:09:58.010351Z",
     "iopub.status.idle": "2025-06-23T01:09:58.371451Z",
     "shell.execute_reply": "2025-06-23T01:09:58.370736Z"
    },
    "papermill": {
     "duration": 0.366666,
     "end_time": "2025-06-23T01:09:58.372551",
     "exception": false,
     "start_time": "2025-06-23T01:09:58.005885",
     "status": "completed"
    },
    "tags": []
   },
   "outputs": [
    {
     "data": {
      "text/html": [
       "<div>\n",
       "<style scoped>\n",
       "    .dataframe tbody tr th:only-of-type {\n",
       "        vertical-align: middle;\n",
       "    }\n",
       "\n",
       "    .dataframe tbody tr th {\n",
       "        vertical-align: top;\n",
       "    }\n",
       "\n",
       "    .dataframe thead th {\n",
       "        text-align: right;\n",
       "    }\n",
       "</style>\n",
       "<table border=\"1\" class=\"dataframe\">\n",
       "  <thead>\n",
       "    <tr style=\"text-align: right;\">\n",
       "      <th></th>\n",
       "      <th>RecordID</th>\n",
       "      <th>Offense</th>\n",
       "      <th>IncidentID</th>\n",
       "      <th>BlockNumber</th>\n",
       "      <th>StreetName</th>\n",
       "      <th>Agency</th>\n",
       "      <th>HourReported</th>\n",
       "      <th>ReportingOfficer</th>\n",
       "      <th>Date</th>\n",
       "      <th>DateString</th>\n",
       "      <th>DayOfWeek</th>\n",
       "      <th>Weekend</th>\n",
       "      <th>Season</th>\n",
       "      <th>HourAMPM</th>\n",
       "      <th>TimeOfDay</th>\n",
       "    </tr>\n",
       "  </thead>\n",
       "  <tbody>\n",
       "    <tr>\n",
       "      <th>0</th>\n",
       "      <td>1</td>\n",
       "      <td>Larceny - From Motor Vehicle</td>\n",
       "      <td>202500021281</td>\n",
       "      <td>700</td>\n",
       "      <td>PROSPECT AVE, F</td>\n",
       "      <td>CPD</td>\n",
       "      <td>1513</td>\n",
       "      <td>Reed, Danielle</td>\n",
       "      <td>2025-06-20 15:13:02</td>\n",
       "      <td>2025-06-20 03:13:02 PM</td>\n",
       "      <td>Friday</td>\n",
       "      <td>False</td>\n",
       "      <td>Spring</td>\n",
       "      <td>03:13 PM</td>\n",
       "      <td>Afternoon</td>\n",
       "    </tr>\n",
       "    <tr>\n",
       "      <th>1</th>\n",
       "      <td>2</td>\n",
       "      <td>Hit and Run</td>\n",
       "      <td>202500021275</td>\n",
       "      <td>2400</td>\n",
       "      <td>FONTAINE AVE</td>\n",
       "      <td>CPD</td>\n",
       "      <td>1456</td>\n",
       "      <td>Reed, Danielle</td>\n",
       "      <td>2025-06-20 14:56:59</td>\n",
       "      <td>2025-06-20 02:56:59 PM</td>\n",
       "      <td>Friday</td>\n",
       "      <td>False</td>\n",
       "      <td>Spring</td>\n",
       "      <td>02:56 PM</td>\n",
       "      <td>Afternoon</td>\n",
       "    </tr>\n",
       "    <tr>\n",
       "      <th>2</th>\n",
       "      <td>3</td>\n",
       "      <td>Harassment</td>\n",
       "      <td>202500021260</td>\n",
       "      <td>600</td>\n",
       "      <td>E MARKET ST</td>\n",
       "      <td>CPD</td>\n",
       "      <td>1324</td>\n",
       "      <td>Kirby, Tyree</td>\n",
       "      <td>2025-06-20 13:24:20</td>\n",
       "      <td>2025-06-20 01:24:20 PM</td>\n",
       "      <td>Friday</td>\n",
       "      <td>False</td>\n",
       "      <td>Spring</td>\n",
       "      <td>01:24 PM</td>\n",
       "      <td>Afternoon</td>\n",
       "    </tr>\n",
       "    <tr>\n",
       "      <th>3</th>\n",
       "      <td>4</td>\n",
       "      <td>Lost/FoundProperty</td>\n",
       "      <td>202500021257</td>\n",
       "      <td>1900</td>\n",
       "      <td>EMMET ST N</td>\n",
       "      <td>CPD</td>\n",
       "      <td>1255</td>\n",
       "      <td>Prevost, Payten</td>\n",
       "      <td>2025-06-20 12:55:11</td>\n",
       "      <td>2025-06-20 12:55:11 PM</td>\n",
       "      <td>Friday</td>\n",
       "      <td>False</td>\n",
       "      <td>Spring</td>\n",
       "      <td>12:55 PM</td>\n",
       "      <td>Afternoon</td>\n",
       "    </tr>\n",
       "    <tr>\n",
       "      <th>4</th>\n",
       "      <td>5</td>\n",
       "      <td>Assist Citizen - Mental/TDO/ECO</td>\n",
       "      <td>202500021256</td>\n",
       "      <td>1300</td>\n",
       "      <td>NUNLEY ST</td>\n",
       "      <td>CPD</td>\n",
       "      <td>1244</td>\n",
       "      <td>Kinney, Dylan</td>\n",
       "      <td>2025-06-20 12:44:23</td>\n",
       "      <td>2025-06-20 12:44:23 PM</td>\n",
       "      <td>Friday</td>\n",
       "      <td>False</td>\n",
       "      <td>Spring</td>\n",
       "      <td>12:44 PM</td>\n",
       "      <td>Afternoon</td>\n",
       "    </tr>\n",
       "  </tbody>\n",
       "</table>\n",
       "</div>"
      ],
      "text/plain": [
       "   RecordID                          Offense    IncidentID BlockNumber  \\\n",
       "0         1     Larceny - From Motor Vehicle  202500021281         700   \n",
       "1         2                      Hit and Run  202500021275        2400   \n",
       "2         3                       Harassment  202500021260         600   \n",
       "3         4               Lost/FoundProperty  202500021257        1900   \n",
       "4         5  Assist Citizen - Mental/TDO/ECO  202500021256        1300   \n",
       "\n",
       "        StreetName Agency HourReported ReportingOfficer                Date  \\\n",
       "0  PROSPECT AVE, F    CPD         1513   Reed, Danielle 2025-06-20 15:13:02   \n",
       "1     FONTAINE AVE    CPD         1456   Reed, Danielle 2025-06-20 14:56:59   \n",
       "2      E MARKET ST    CPD         1324     Kirby, Tyree 2025-06-20 13:24:20   \n",
       "3       EMMET ST N    CPD         1255  Prevost, Payten 2025-06-20 12:55:11   \n",
       "4        NUNLEY ST    CPD         1244    Kinney, Dylan 2025-06-20 12:44:23   \n",
       "\n",
       "               DateString DayOfWeek  Weekend  Season  HourAMPM  TimeOfDay  \n",
       "0  2025-06-20 03:13:02 PM    Friday    False  Spring  03:13 PM  Afternoon  \n",
       "1  2025-06-20 02:56:59 PM    Friday    False  Spring  02:56 PM  Afternoon  \n",
       "2  2025-06-20 01:24:20 PM    Friday    False  Spring  01:24 PM  Afternoon  \n",
       "3  2025-06-20 12:55:11 PM    Friday    False  Spring  12:55 PM  Afternoon  \n",
       "4  2025-06-20 12:44:23 PM    Friday    False  Spring  12:44 PM  Afternoon  "
      ]
     },
     "execution_count": 7,
     "metadata": {},
     "output_type": "execute_result"
    }
   ],
   "source": [
    "def convert_and_categorize_datereported(df, col='DateReported'):\n",
    "    \"\"\"\n",
    "    Converts an epoch (in milliseconds) date column into a timezone-aware datetime,\n",
    "    converts it to Eastern Time, and then creates columns for day-of-week, weekend flag,\n",
    "    season, 12-hour formatted time, and time-of-day. Keeps both a real datetime column\n",
    "    (Date) and a string representation (DateString).\n",
    "    \"\"\"\n",
    "    import pandas as pd\n",
    "\n",
    "    # Convert the epoch timestamp to a pandas datetime object as UTC, then convert to US/Eastern.\n",
    "    df[\"DateReported_dt\"] = (\n",
    "        pd.to_datetime(df[col], unit=\"ms\", errors=\"coerce\", utc=True)\n",
    "        .dt.tz_convert(\"US/Eastern\")\n",
    "    )\n",
    "    \n",
    "    # Create a true datetime column (remove timezone if you prefer naive datetime)\n",
    "    df[\"Date\"] = df[\"DateReported_dt\"].dt.tz_localize(None)\n",
    "\n",
    "    # Optionally, create a separate string-formatted column\n",
    "    df[\"DateString\"] = df[\"DateReported_dt\"].dt.strftime(\"%Y-%m-%d %I:%M:%S %p\")\n",
    "    \n",
    "    # DayOfWeek\n",
    "    df[\"DayOfWeek\"] = df[\"DateReported_dt\"].dt.day_name()\n",
    "    \n",
    "    # Weekend\n",
    "    df[\"Weekend\"] = df[\"DayOfWeek\"].isin([\"Saturday\", \"Sunday\"])\n",
    "    \n",
    "    # Helper function to determine the season\n",
    "    def get_season(dt):\n",
    "        month = dt.month\n",
    "        day = dt.day\n",
    "        # Approximate Northern Hemisphere season boundaries:\n",
    "        if (month == 12 and day >= 21) or (month < 3) or (month == 3 and day < 20):\n",
    "            return \"Winter\"\n",
    "        elif (month == 3 and day >= 20) or (month < 6) or (month == 6 and day < 21):\n",
    "            return \"Spring\"\n",
    "        elif (month == 6 and day >= 21) or (month < 9) or (month == 9 and day < 22):\n",
    "            return \"Summer\"\n",
    "        else:\n",
    "            return \"Autumn\"\n",
    "    \n",
    "    df[\"Season\"] = df[\"DateReported_dt\"].apply(get_season)\n",
    "    \n",
    "    # 12-hour formatted time (HourAMPM)\n",
    "    df[\"HourAMPM\"] = df[\"DateReported_dt\"].dt.strftime(\"%I:%M %p\")\n",
    "    \n",
    "    # Extract hour (0-23) for time-of-day\n",
    "    df[\"HourValue\"] = df[\"DateReported_dt\"].dt.hour\n",
    "    \n",
    "    def time_of_day(hour):\n",
    "        if pd.isnull(hour):\n",
    "            return None\n",
    "        if 5 <= hour < 12:\n",
    "            return \"Morning\"\n",
    "        elif 12 <= hour < 17:\n",
    "            return \"Afternoon\"\n",
    "        elif 17 <= hour < 21:\n",
    "            return \"Evening\"\n",
    "        else:\n",
    "            return \"Night\"\n",
    "    \n",
    "    df[\"TimeOfDay\"] = df[\"HourValue\"].apply(time_of_day)\n",
    "    \n",
    "    # Drop columns you no longer need\n",
    "    df.drop(columns=[col, \"DateReported_dt\", \"HourValue\"], inplace=True)\n",
    "    \n",
    "    return df\n",
    "\n",
    "# Example usage:\n",
    "df = convert_and_categorize_datereported(df)\n",
    "df.head()\n"
   ]
  },
  {
   "cell_type": "code",
   "execution_count": 8,
   "id": "7bf21ab1",
   "metadata": {
    "execution": {
     "iopub.execute_input": "2025-06-23T01:09:58.382180Z",
     "iopub.status.busy": "2025-06-23T01:09:58.381970Z",
     "iopub.status.idle": "2025-06-23T01:09:58.410110Z",
     "shell.execute_reply": "2025-06-23T01:09:58.409536Z"
    },
    "papermill": {
     "duration": 0.034035,
     "end_time": "2025-06-23T01:09:58.411064",
     "exception": false,
     "start_time": "2025-06-23T01:09:58.377029",
     "status": "completed"
    },
    "tags": []
   },
   "outputs": [
    {
     "name": "stdout",
     "output_type": "stream",
     "text": [
      "<class 'pandas.core.frame.DataFrame'>\n",
      "RangeIndex: 25533 entries, 0 to 25532\n",
      "Data columns (total 15 columns):\n",
      " #   Column            Non-Null Count  Dtype         \n",
      "---  ------            --------------  -----         \n",
      " 0   RecordID          25533 non-null  int64         \n",
      " 1   Offense           25533 non-null  object        \n",
      " 2   IncidentID        25533 non-null  object        \n",
      " 3   BlockNumber       25533 non-null  object        \n",
      " 4   StreetName        25533 non-null  object        \n",
      " 5   Agency            25533 non-null  object        \n",
      " 6   HourReported      25533 non-null  object        \n",
      " 7   ReportingOfficer  25516 non-null  object        \n",
      " 8   Date              25533 non-null  datetime64[ns]\n",
      " 9   DateString        25533 non-null  object        \n",
      " 10  DayOfWeek         25533 non-null  object        \n",
      " 11  Weekend           25533 non-null  bool          \n",
      " 12  Season            25533 non-null  object        \n",
      " 13  HourAMPM          25533 non-null  object        \n",
      " 14  TimeOfDay         25533 non-null  object        \n",
      "dtypes: bool(1), datetime64[ns](1), int64(1), object(12)\n",
      "memory usage: 2.8+ MB\n"
     ]
    }
   ],
   "source": [
    "df.info()"
   ]
  },
  {
   "cell_type": "markdown",
   "id": "1d571371",
   "metadata": {
    "papermill": {
     "duration": 0.004073,
     "end_time": "2025-06-23T01:09:58.419382",
     "exception": false,
     "start_time": "2025-06-23T01:09:58.415309",
     "status": "completed"
    },
    "tags": []
   },
   "source": [
    "### Coordinates"
   ]
  },
  {
   "cell_type": "code",
   "execution_count": 9,
   "id": "f1a37781",
   "metadata": {
    "execution": {
     "iopub.execute_input": "2025-06-23T01:09:58.428733Z",
     "iopub.status.busy": "2025-06-23T01:09:58.428341Z",
     "iopub.status.idle": "2025-06-23T01:09:58.472810Z",
     "shell.execute_reply": "2025-06-23T01:09:58.472255Z"
    },
    "papermill": {
     "duration": 0.050323,
     "end_time": "2025-06-23T01:09:58.473882",
     "exception": false,
     "start_time": "2025-06-23T01:09:58.423559",
     "status": "completed"
    },
    "tags": []
   },
   "outputs": [
    {
     "name": "stdout",
     "output_type": "stream",
     "text": [
      "Loaded geocode cache.\n",
      "Geocode cache updated and saved.\n"
     ]
    },
    {
     "data": {
      "text/html": [
       "<div>\n",
       "<style scoped>\n",
       "    .dataframe tbody tr th:only-of-type {\n",
       "        vertical-align: middle;\n",
       "    }\n",
       "\n",
       "    .dataframe tbody tr th {\n",
       "        vertical-align: top;\n",
       "    }\n",
       "\n",
       "    .dataframe thead th {\n",
       "        text-align: right;\n",
       "    }\n",
       "</style>\n",
       "<table border=\"1\" class=\"dataframe\">\n",
       "  <thead>\n",
       "    <tr style=\"text-align: right;\">\n",
       "      <th></th>\n",
       "      <th>RecordID</th>\n",
       "      <th>Offense</th>\n",
       "      <th>IncidentID</th>\n",
       "      <th>BlockNumber</th>\n",
       "      <th>StreetName</th>\n",
       "      <th>Agency</th>\n",
       "      <th>HourReported</th>\n",
       "      <th>ReportingOfficer</th>\n",
       "      <th>Date</th>\n",
       "      <th>DateString</th>\n",
       "      <th>DayOfWeek</th>\n",
       "      <th>Weekend</th>\n",
       "      <th>Season</th>\n",
       "      <th>HourAMPM</th>\n",
       "      <th>TimeOfDay</th>\n",
       "      <th>FullStreet</th>\n",
       "      <th>lat</th>\n",
       "      <th>lon</th>\n",
       "    </tr>\n",
       "  </thead>\n",
       "  <tbody>\n",
       "    <tr>\n",
       "      <th>0</th>\n",
       "      <td>1</td>\n",
       "      <td>Larceny - From Motor Vehicle</td>\n",
       "      <td>202500021281</td>\n",
       "      <td>700</td>\n",
       "      <td>PROSPECT AVE, F</td>\n",
       "      <td>CPD</td>\n",
       "      <td>1513</td>\n",
       "      <td>Reed, Danielle</td>\n",
       "      <td>2025-06-20 15:13:02</td>\n",
       "      <td>2025-06-20 03:13:02 PM</td>\n",
       "      <td>Friday</td>\n",
       "      <td>False</td>\n",
       "      <td>Spring</td>\n",
       "      <td>03:13 PM</td>\n",
       "      <td>Afternoon</td>\n",
       "      <td>700 PROSPECT AVE, F</td>\n",
       "      <td>38.024639</td>\n",
       "      <td>-78.494396</td>\n",
       "    </tr>\n",
       "    <tr>\n",
       "      <th>1</th>\n",
       "      <td>2</td>\n",
       "      <td>Hit and Run</td>\n",
       "      <td>202500021275</td>\n",
       "      <td>2400</td>\n",
       "      <td>FONTAINE AVE</td>\n",
       "      <td>CPD</td>\n",
       "      <td>1456</td>\n",
       "      <td>Reed, Danielle</td>\n",
       "      <td>2025-06-20 14:56:59</td>\n",
       "      <td>2025-06-20 02:56:59 PM</td>\n",
       "      <td>Friday</td>\n",
       "      <td>False</td>\n",
       "      <td>Spring</td>\n",
       "      <td>02:56 PM</td>\n",
       "      <td>Afternoon</td>\n",
       "      <td>2400 FONTAINE AVE</td>\n",
       "      <td>38.025777</td>\n",
       "      <td>-78.518986</td>\n",
       "    </tr>\n",
       "    <tr>\n",
       "      <th>2</th>\n",
       "      <td>3</td>\n",
       "      <td>Harassment</td>\n",
       "      <td>202500021260</td>\n",
       "      <td>600</td>\n",
       "      <td>E MARKET ST</td>\n",
       "      <td>CPD</td>\n",
       "      <td>1324</td>\n",
       "      <td>Kirby, Tyree</td>\n",
       "      <td>2025-06-20 13:24:20</td>\n",
       "      <td>2025-06-20 01:24:20 PM</td>\n",
       "      <td>Friday</td>\n",
       "      <td>False</td>\n",
       "      <td>Spring</td>\n",
       "      <td>01:24 PM</td>\n",
       "      <td>Afternoon</td>\n",
       "      <td>600 E MARKET ST</td>\n",
       "      <td>38.030175</td>\n",
       "      <td>-78.477574</td>\n",
       "    </tr>\n",
       "    <tr>\n",
       "      <th>3</th>\n",
       "      <td>4</td>\n",
       "      <td>Lost/FoundProperty</td>\n",
       "      <td>202500021257</td>\n",
       "      <td>1900</td>\n",
       "      <td>EMMET ST N</td>\n",
       "      <td>CPD</td>\n",
       "      <td>1255</td>\n",
       "      <td>Prevost, Payten</td>\n",
       "      <td>2025-06-20 12:55:11</td>\n",
       "      <td>2025-06-20 12:55:11 PM</td>\n",
       "      <td>Friday</td>\n",
       "      <td>False</td>\n",
       "      <td>Spring</td>\n",
       "      <td>12:55 PM</td>\n",
       "      <td>Afternoon</td>\n",
       "      <td>1900 EMMET ST N</td>\n",
       "      <td>38.060641</td>\n",
       "      <td>-78.492567</td>\n",
       "    </tr>\n",
       "    <tr>\n",
       "      <th>4</th>\n",
       "      <td>5</td>\n",
       "      <td>Assist Citizen - Mental/TDO/ECO</td>\n",
       "      <td>202500021256</td>\n",
       "      <td>1300</td>\n",
       "      <td>NUNLEY ST</td>\n",
       "      <td>CPD</td>\n",
       "      <td>1244</td>\n",
       "      <td>Kinney, Dylan</td>\n",
       "      <td>2025-06-20 12:44:23</td>\n",
       "      <td>2025-06-20 12:44:23 PM</td>\n",
       "      <td>Friday</td>\n",
       "      <td>False</td>\n",
       "      <td>Spring</td>\n",
       "      <td>12:44 PM</td>\n",
       "      <td>Afternoon</td>\n",
       "      <td>1300 NUNLEY ST</td>\n",
       "      <td>38.027098</td>\n",
       "      <td>-78.501335</td>\n",
       "    </tr>\n",
       "  </tbody>\n",
       "</table>\n",
       "</div>"
      ],
      "text/plain": [
       "   RecordID                          Offense    IncidentID BlockNumber  \\\n",
       "0         1     Larceny - From Motor Vehicle  202500021281         700   \n",
       "1         2                      Hit and Run  202500021275        2400   \n",
       "2         3                       Harassment  202500021260         600   \n",
       "3         4               Lost/FoundProperty  202500021257        1900   \n",
       "4         5  Assist Citizen - Mental/TDO/ECO  202500021256        1300   \n",
       "\n",
       "        StreetName Agency HourReported ReportingOfficer                Date  \\\n",
       "0  PROSPECT AVE, F    CPD         1513   Reed, Danielle 2025-06-20 15:13:02   \n",
       "1     FONTAINE AVE    CPD         1456   Reed, Danielle 2025-06-20 14:56:59   \n",
       "2      E MARKET ST    CPD         1324     Kirby, Tyree 2025-06-20 13:24:20   \n",
       "3       EMMET ST N    CPD         1255  Prevost, Payten 2025-06-20 12:55:11   \n",
       "4        NUNLEY ST    CPD         1244    Kinney, Dylan 2025-06-20 12:44:23   \n",
       "\n",
       "               DateString DayOfWeek  Weekend  Season  HourAMPM  TimeOfDay  \\\n",
       "0  2025-06-20 03:13:02 PM    Friday    False  Spring  03:13 PM  Afternoon   \n",
       "1  2025-06-20 02:56:59 PM    Friday    False  Spring  02:56 PM  Afternoon   \n",
       "2  2025-06-20 01:24:20 PM    Friday    False  Spring  01:24 PM  Afternoon   \n",
       "3  2025-06-20 12:55:11 PM    Friday    False  Spring  12:55 PM  Afternoon   \n",
       "4  2025-06-20 12:44:23 PM    Friday    False  Spring  12:44 PM  Afternoon   \n",
       "\n",
       "            FullStreet        lat        lon  \n",
       "0  700 PROSPECT AVE, F  38.024639 -78.494396  \n",
       "1    2400 FONTAINE AVE  38.025777 -78.518986  \n",
       "2      600 E MARKET ST  38.030175 -78.477574  \n",
       "3      1900 EMMET ST N  38.060641 -78.492567  \n",
       "4       1300 NUNLEY ST  38.027098 -78.501335  "
      ]
     },
     "execution_count": 9,
     "metadata": {},
     "output_type": "execute_result"
    }
   ],
   "source": [
    "# Combine BlockNumber and StreetName into a full address string\n",
    "df['FullStreet'] = df['BlockNumber'].astype(str) + \" \" + df['StreetName']\n",
    "\n",
    "# --- Step 1: Setup the Google Maps Client and Cache ---\n",
    "gmaps = googlemaps.Client(key=GOOGLE_API_KEY)\n",
    "\n",
    "# Try to load cached geocoding results if available.\n",
    "try:\n",
    "    with open(\"geocode_cache_google.pkl\", \"rb\") as f:\n",
    "        street_coords = pickle.load(f)\n",
    "    print(\"Loaded geocode cache.\")\n",
    "except FileNotFoundError:\n",
    "    street_coords = {}\n",
    "    print(\"No cache found; starting fresh.\")\n",
    "\n",
    "def geocode_address(address):\n",
    "    try:\n",
    "        # Append city and state to help geocoding\n",
    "        result = gmaps.geocode(f\"{address}, Charlottesville, VA\")\n",
    "        if result:\n",
    "            lat = result[0]['geometry']['location']['lat']\n",
    "            lon = result[0]['geometry']['location']['lng']\n",
    "            return lat, lon\n",
    "    except Exception as e:\n",
    "        print(f\"Error geocoding {address}: {e}\")\n",
    "    return None, None\n",
    "\n",
    "# --- Step 2: Geocode Only New Addresses ---\n",
    "unique_addresses = df['FullStreet'].unique()\n",
    "for address in unique_addresses:\n",
    "    if address not in street_coords:\n",
    "        lat, lon = geocode_address(address)\n",
    "        street_coords[address] = (lat, lon)\n",
    "        print(f\"Geocoded {address}: {lat}, {lon}\")\n",
    "\n",
    "# Save the updated cache to disk.\n",
    "with open(\"geocode_cache_google.pkl\", \"wb\") as f:\n",
    "    pickle.dump(street_coords, f)\n",
    "    print(\"Geocode cache updated and saved.\")\n",
    "\n",
    "# --- Step 3: Map Coordinates Back to DataFrame ---\n",
    "df['lat'] = df['FullStreet'].map(lambda s: street_coords.get(s, (None, None))[0])\n",
    "df['lon'] = df['FullStreet'].map(lambda s: street_coords.get(s, (None, None))[1])\n",
    "\n",
    "df.head()"
   ]
  },
  {
   "cell_type": "markdown",
   "id": "1c69862b",
   "metadata": {
    "papermill": {
     "duration": 0.004433,
     "end_time": "2025-06-23T01:09:58.483006",
     "exception": false,
     "start_time": "2025-06-23T01:09:58.478573",
     "status": "completed"
    },
    "tags": []
   },
   "source": [
    "### Neighborhood"
   ]
  },
  {
   "cell_type": "code",
   "execution_count": 10,
   "id": "e6a86552",
   "metadata": {
    "execution": {
     "iopub.execute_input": "2025-06-23T01:09:58.492941Z",
     "iopub.status.busy": "2025-06-23T01:09:58.492503Z",
     "iopub.status.idle": "2025-06-23T01:09:59.334594Z",
     "shell.execute_reply": "2025-06-23T01:09:59.333888Z"
    },
    "papermill": {
     "duration": 0.848213,
     "end_time": "2025-06-23T01:09:59.335628",
     "exception": false,
     "start_time": "2025-06-23T01:09:58.487415",
     "status": "completed"
    },
    "tags": []
   },
   "outputs": [
    {
     "name": "stdout",
     "output_type": "stream",
     "text": [
      "Loaded neighborhood cache.\n"
     ]
    },
    {
     "name": "stdout",
     "output_type": "stream",
     "text": [
      "Error getting neighborhood for nan, nan: HTTP Error: 400\n"
     ]
    },
    {
     "name": "stdout",
     "output_type": "stream",
     "text": [
      "Error getting neighborhood for nan, nan: HTTP Error: 400\n",
      "Error getting neighborhood for nan, nan: HTTP Error: 400\n"
     ]
    },
    {
     "name": "stdout",
     "output_type": "stream",
     "text": [
      "Error getting neighborhood for nan, nan: HTTP Error: 400\n",
      "Error getting neighborhood for nan, nan: HTTP Error: 400\n",
      "Error getting neighborhood for nan, nan: HTTP Error: 400\n",
      "Error getting neighborhood for nan, nan: HTTP Error: 400\n",
      "Error getting neighborhood for nan, nan: HTTP Error: 400\n",
      "Error getting neighborhood for nan, nan: HTTP Error: 400\n"
     ]
    },
    {
     "name": "stdout",
     "output_type": "stream",
     "text": [
      "Error getting neighborhood for nan, nan: HTTP Error: 400\n"
     ]
    },
    {
     "name": "stdout",
     "output_type": "stream",
     "text": [
      "Error getting neighborhood for nan, nan: HTTP Error: 400\n",
      "Error getting neighborhood for nan, nan: HTTP Error: 400\n"
     ]
    },
    {
     "name": "stdout",
     "output_type": "stream",
     "text": [
      "Error getting neighborhood for nan, nan: HTTP Error: 400\n",
      "Error getting neighborhood for nan, nan: HTTP Error: 400\n",
      "Error getting neighborhood for nan, nan: HTTP Error: 400\n",
      "Error getting neighborhood for nan, nan: HTTP Error: 400\n",
      "Error getting neighborhood for nan, nan: HTTP Error: 400\n",
      "Error getting neighborhood for nan, nan: HTTP Error: 400\n",
      "Error getting neighborhood for nan, nan: HTTP Error: 400\n"
     ]
    },
    {
     "name": "stdout",
     "output_type": "stream",
     "text": [
      "Error getting neighborhood for nan, nan: HTTP Error: 400\n",
      "Error getting neighborhood for nan, nan: HTTP Error: 400\n"
     ]
    },
    {
     "name": "stdout",
     "output_type": "stream",
     "text": [
      "Error getting neighborhood for nan, nan: HTTP Error: 400\n",
      "Error getting neighborhood for nan, nan: HTTP Error: 400\n"
     ]
    },
    {
     "name": "stdout",
     "output_type": "stream",
     "text": [
      "Error getting neighborhood for nan, nan: HTTP Error: 400\n",
      "Error getting neighborhood for nan, nan: HTTP Error: 400\n"
     ]
    },
    {
     "data": {
      "text/html": [
       "<div>\n",
       "<style scoped>\n",
       "    .dataframe tbody tr th:only-of-type {\n",
       "        vertical-align: middle;\n",
       "    }\n",
       "\n",
       "    .dataframe tbody tr th {\n",
       "        vertical-align: top;\n",
       "    }\n",
       "\n",
       "    .dataframe thead th {\n",
       "        text-align: right;\n",
       "    }\n",
       "</style>\n",
       "<table border=\"1\" class=\"dataframe\">\n",
       "  <thead>\n",
       "    <tr style=\"text-align: right;\">\n",
       "      <th></th>\n",
       "      <th>RecordID</th>\n",
       "      <th>Offense</th>\n",
       "      <th>IncidentID</th>\n",
       "      <th>BlockNumber</th>\n",
       "      <th>StreetName</th>\n",
       "      <th>Agency</th>\n",
       "      <th>HourReported</th>\n",
       "      <th>ReportingOfficer</th>\n",
       "      <th>Date</th>\n",
       "      <th>DateString</th>\n",
       "      <th>DayOfWeek</th>\n",
       "      <th>Weekend</th>\n",
       "      <th>Season</th>\n",
       "      <th>HourAMPM</th>\n",
       "      <th>TimeOfDay</th>\n",
       "      <th>FullStreet</th>\n",
       "      <th>lat</th>\n",
       "      <th>lon</th>\n",
       "      <th>neighborhood</th>\n",
       "    </tr>\n",
       "  </thead>\n",
       "  <tbody>\n",
       "    <tr>\n",
       "      <th>0</th>\n",
       "      <td>1</td>\n",
       "      <td>Larceny - From Motor Vehicle</td>\n",
       "      <td>202500021281</td>\n",
       "      <td>700</td>\n",
       "      <td>PROSPECT AVE, F</td>\n",
       "      <td>CPD</td>\n",
       "      <td>1513</td>\n",
       "      <td>Reed, Danielle</td>\n",
       "      <td>2025-06-20 15:13:02</td>\n",
       "      <td>2025-06-20 03:13:02 PM</td>\n",
       "      <td>Friday</td>\n",
       "      <td>False</td>\n",
       "      <td>Spring</td>\n",
       "      <td>03:13 PM</td>\n",
       "      <td>Afternoon</td>\n",
       "      <td>700 PROSPECT AVE, F</td>\n",
       "      <td>38.024639</td>\n",
       "      <td>-78.494396</td>\n",
       "      <td>Fifeville</td>\n",
       "    </tr>\n",
       "    <tr>\n",
       "      <th>1</th>\n",
       "      <td>2</td>\n",
       "      <td>Hit and Run</td>\n",
       "      <td>202500021275</td>\n",
       "      <td>2400</td>\n",
       "      <td>FONTAINE AVE</td>\n",
       "      <td>CPD</td>\n",
       "      <td>1456</td>\n",
       "      <td>Reed, Danielle</td>\n",
       "      <td>2025-06-20 14:56:59</td>\n",
       "      <td>2025-06-20 02:56:59 PM</td>\n",
       "      <td>Friday</td>\n",
       "      <td>False</td>\n",
       "      <td>Spring</td>\n",
       "      <td>02:56 PM</td>\n",
       "      <td>Afternoon</td>\n",
       "      <td>2400 FONTAINE AVE</td>\n",
       "      <td>38.025777</td>\n",
       "      <td>-78.518986</td>\n",
       "      <td>Jefferson Park Avenue</td>\n",
       "    </tr>\n",
       "    <tr>\n",
       "      <th>2</th>\n",
       "      <td>3</td>\n",
       "      <td>Harassment</td>\n",
       "      <td>202500021260</td>\n",
       "      <td>600</td>\n",
       "      <td>E MARKET ST</td>\n",
       "      <td>CPD</td>\n",
       "      <td>1324</td>\n",
       "      <td>Kirby, Tyree</td>\n",
       "      <td>2025-06-20 13:24:20</td>\n",
       "      <td>2025-06-20 01:24:20 PM</td>\n",
       "      <td>Friday</td>\n",
       "      <td>False</td>\n",
       "      <td>Spring</td>\n",
       "      <td>01:24 PM</td>\n",
       "      <td>Afternoon</td>\n",
       "      <td>600 E MARKET ST</td>\n",
       "      <td>38.030175</td>\n",
       "      <td>-78.477574</td>\n",
       "      <td>Downtown Mall</td>\n",
       "    </tr>\n",
       "    <tr>\n",
       "      <th>3</th>\n",
       "      <td>4</td>\n",
       "      <td>Lost/FoundProperty</td>\n",
       "      <td>202500021257</td>\n",
       "      <td>1900</td>\n",
       "      <td>EMMET ST N</td>\n",
       "      <td>CPD</td>\n",
       "      <td>1255</td>\n",
       "      <td>Prevost, Payten</td>\n",
       "      <td>2025-06-20 12:55:11</td>\n",
       "      <td>2025-06-20 12:55:11 PM</td>\n",
       "      <td>Friday</td>\n",
       "      <td>False</td>\n",
       "      <td>Spring</td>\n",
       "      <td>12:55 PM</td>\n",
       "      <td>Afternoon</td>\n",
       "      <td>1900 EMMET ST N</td>\n",
       "      <td>38.060641</td>\n",
       "      <td>-78.492567</td>\n",
       "      <td>The Meadows</td>\n",
       "    </tr>\n",
       "    <tr>\n",
       "      <th>4</th>\n",
       "      <td>5</td>\n",
       "      <td>Assist Citizen - Mental/TDO/ECO</td>\n",
       "      <td>202500021256</td>\n",
       "      <td>1300</td>\n",
       "      <td>NUNLEY ST</td>\n",
       "      <td>CPD</td>\n",
       "      <td>1244</td>\n",
       "      <td>Kinney, Dylan</td>\n",
       "      <td>2025-06-20 12:44:23</td>\n",
       "      <td>2025-06-20 12:44:23 PM</td>\n",
       "      <td>Friday</td>\n",
       "      <td>False</td>\n",
       "      <td>Spring</td>\n",
       "      <td>12:44 PM</td>\n",
       "      <td>Afternoon</td>\n",
       "      <td>1300 NUNLEY ST</td>\n",
       "      <td>38.027098</td>\n",
       "      <td>-78.501335</td>\n",
       "      <td>Fifeville</td>\n",
       "    </tr>\n",
       "  </tbody>\n",
       "</table>\n",
       "</div>"
      ],
      "text/plain": [
       "   RecordID                          Offense    IncidentID BlockNumber  \\\n",
       "0         1     Larceny - From Motor Vehicle  202500021281         700   \n",
       "1         2                      Hit and Run  202500021275        2400   \n",
       "2         3                       Harassment  202500021260         600   \n",
       "3         4               Lost/FoundProperty  202500021257        1900   \n",
       "4         5  Assist Citizen - Mental/TDO/ECO  202500021256        1300   \n",
       "\n",
       "        StreetName Agency HourReported ReportingOfficer                Date  \\\n",
       "0  PROSPECT AVE, F    CPD         1513   Reed, Danielle 2025-06-20 15:13:02   \n",
       "1     FONTAINE AVE    CPD         1456   Reed, Danielle 2025-06-20 14:56:59   \n",
       "2      E MARKET ST    CPD         1324     Kirby, Tyree 2025-06-20 13:24:20   \n",
       "3       EMMET ST N    CPD         1255  Prevost, Payten 2025-06-20 12:55:11   \n",
       "4        NUNLEY ST    CPD         1244    Kinney, Dylan 2025-06-20 12:44:23   \n",
       "\n",
       "               DateString DayOfWeek  Weekend  Season  HourAMPM  TimeOfDay  \\\n",
       "0  2025-06-20 03:13:02 PM    Friday    False  Spring  03:13 PM  Afternoon   \n",
       "1  2025-06-20 02:56:59 PM    Friday    False  Spring  02:56 PM  Afternoon   \n",
       "2  2025-06-20 01:24:20 PM    Friday    False  Spring  01:24 PM  Afternoon   \n",
       "3  2025-06-20 12:55:11 PM    Friday    False  Spring  12:55 PM  Afternoon   \n",
       "4  2025-06-20 12:44:23 PM    Friday    False  Spring  12:44 PM  Afternoon   \n",
       "\n",
       "            FullStreet        lat        lon           neighborhood  \n",
       "0  700 PROSPECT AVE, F  38.024639 -78.494396              Fifeville  \n",
       "1    2400 FONTAINE AVE  38.025777 -78.518986  Jefferson Park Avenue  \n",
       "2      600 E MARKET ST  38.030175 -78.477574          Downtown Mall  \n",
       "3      1900 EMMET ST N  38.060641 -78.492567            The Meadows  \n",
       "4       1300 NUNLEY ST  38.027098 -78.501335              Fifeville  "
      ]
     },
     "execution_count": 10,
     "metadata": {},
     "output_type": "execute_result"
    }
   ],
   "source": [
    "# Initialize the Google Maps client.\n",
    "gmaps = googlemaps.Client(key=GOOGLE_API_KEY)\n",
    "\n",
    "# Try to load a persistent neighborhood cache if available.\n",
    "try:\n",
    "    with open(\"neighborhood_cache.pkl\", \"rb\") as f:\n",
    "        neighborhood_cache = pickle.load(f)\n",
    "    print(\"Loaded neighborhood cache.\")\n",
    "except FileNotFoundError:\n",
    "    neighborhood_cache = {}\n",
    "    print(\"No neighborhood cache found; starting fresh.\")\n",
    "\n",
    "def get_neighborhood(lat, lon):\n",
    "    \"\"\"\n",
    "    Reverse geocodes a latitude and longitude to retrieve the neighborhood.\n",
    "    Caches results to speed up subsequent lookups.\n",
    "    \"\"\"\n",
    "    key = (lat, lon)\n",
    "    if key in neighborhood_cache:\n",
    "        return neighborhood_cache[key]\n",
    "    \n",
    "    try:\n",
    "        result = gmaps.reverse_geocode((lat, lon))\n",
    "        if result:\n",
    "            # Look for the 'neighborhood' component in the first result.\n",
    "            for component in result[0]['address_components']:\n",
    "                if 'neighborhood' in component['types']:\n",
    "                    neighborhood = component['long_name']\n",
    "                    neighborhood_cache[key] = neighborhood\n",
    "                    return neighborhood\n",
    "            # If no neighborhood is found, return \"N/A\"\n",
    "            neighborhood_cache[key] = \"N/A\"\n",
    "            return \"N/A\"\n",
    "    except Exception as e:\n",
    "        print(f\"Error getting neighborhood for {lat}, {lon}: {e}\")\n",
    "        return \"N/A\"\n",
    "    \n",
    "    # Pause to respect usage limits.\n",
    "    time.sleep(1)\n",
    "\n",
    "# Example usage: Apply to your DataFrame 'df' that already has 'lat' and 'lon' columns.\n",
    "df['neighborhood'] = df.apply(lambda row: get_neighborhood(row['lat'], row['lon']), axis=1)\n",
    "\n",
    "# Save the updated neighborhood cache.\n",
    "with open(\"neighborhood_cache.pkl\", \"wb\") as f:\n",
    "    pickle.dump(neighborhood_cache, f)\n",
    "\n",
    "df.head()\n"
   ]
  },
  {
   "cell_type": "markdown",
   "id": "30284e1d",
   "metadata": {
    "papermill": {
     "duration": 0.005042,
     "end_time": "2025-06-23T01:09:59.346137",
     "exception": false,
     "start_time": "2025-06-23T01:09:59.341095",
     "status": "completed"
    },
    "tags": []
   },
   "source": [
    "### Zip"
   ]
  },
  {
   "cell_type": "code",
   "execution_count": 11,
   "id": "3ba765f1",
   "metadata": {
    "execution": {
     "iopub.execute_input": "2025-06-23T01:09:59.357406Z",
     "iopub.status.busy": "2025-06-23T01:09:59.357001Z",
     "iopub.status.idle": "2025-06-23T01:10:24.644309Z",
     "shell.execute_reply": "2025-06-23T01:10:24.643615Z"
    },
    "papermill": {
     "duration": 25.29414,
     "end_time": "2025-06-23T01:10:24.645459",
     "exception": false,
     "start_time": "2025-06-23T01:09:59.351319",
     "status": "completed"
    },
    "tags": []
   },
   "outputs": [
    {
     "name": "stdout",
     "output_type": "stream",
     "text": [
      "Loaded zip cache.\n",
      "Error getting ZIP for nan, nan: Must be a coordinate pair or Point\n"
     ]
    },
    {
     "name": "stdout",
     "output_type": "stream",
     "text": [
      "Error getting ZIP for nan, nan: Must be a coordinate pair or Point\n"
     ]
    },
    {
     "name": "stdout",
     "output_type": "stream",
     "text": [
      "Error getting ZIP for nan, nan: Must be a coordinate pair or Point\n"
     ]
    },
    {
     "name": "stdout",
     "output_type": "stream",
     "text": [
      "Error getting ZIP for nan, nan: Must be a coordinate pair or Point\n"
     ]
    },
    {
     "name": "stdout",
     "output_type": "stream",
     "text": [
      "Error getting ZIP for nan, nan: Must be a coordinate pair or Point\n"
     ]
    },
    {
     "name": "stdout",
     "output_type": "stream",
     "text": [
      "Error getting ZIP for nan, nan: Must be a coordinate pair or Point\n"
     ]
    },
    {
     "name": "stdout",
     "output_type": "stream",
     "text": [
      "Error getting ZIP for nan, nan: Must be a coordinate pair or Point\n"
     ]
    },
    {
     "name": "stdout",
     "output_type": "stream",
     "text": [
      "Error getting ZIP for nan, nan: Must be a coordinate pair or Point\n"
     ]
    },
    {
     "name": "stdout",
     "output_type": "stream",
     "text": [
      "Error getting ZIP for nan, nan: Must be a coordinate pair or Point\n"
     ]
    },
    {
     "name": "stdout",
     "output_type": "stream",
     "text": [
      "Error getting ZIP for nan, nan: Must be a coordinate pair or Point\n"
     ]
    },
    {
     "name": "stdout",
     "output_type": "stream",
     "text": [
      "Error getting ZIP for nan, nan: Must be a coordinate pair or Point\n"
     ]
    },
    {
     "name": "stdout",
     "output_type": "stream",
     "text": [
      "Error getting ZIP for nan, nan: Must be a coordinate pair or Point\n"
     ]
    },
    {
     "name": "stdout",
     "output_type": "stream",
     "text": [
      "Error getting ZIP for nan, nan: Must be a coordinate pair or Point\n"
     ]
    },
    {
     "name": "stdout",
     "output_type": "stream",
     "text": [
      "Error getting ZIP for nan, nan: Must be a coordinate pair or Point\n"
     ]
    },
    {
     "name": "stdout",
     "output_type": "stream",
     "text": [
      "Error getting ZIP for nan, nan: Must be a coordinate pair or Point\n"
     ]
    },
    {
     "name": "stdout",
     "output_type": "stream",
     "text": [
      "Error getting ZIP for nan, nan: Must be a coordinate pair or Point\n"
     ]
    },
    {
     "name": "stdout",
     "output_type": "stream",
     "text": [
      "Error getting ZIP for nan, nan: Must be a coordinate pair or Point\n"
     ]
    },
    {
     "name": "stdout",
     "output_type": "stream",
     "text": [
      "Error getting ZIP for nan, nan: Must be a coordinate pair or Point\n"
     ]
    },
    {
     "name": "stdout",
     "output_type": "stream",
     "text": [
      "Error getting ZIP for nan, nan: Must be a coordinate pair or Point\n"
     ]
    },
    {
     "name": "stdout",
     "output_type": "stream",
     "text": [
      "Error getting ZIP for nan, nan: Must be a coordinate pair or Point\n"
     ]
    },
    {
     "name": "stdout",
     "output_type": "stream",
     "text": [
      "Error getting ZIP for nan, nan: Must be a coordinate pair or Point\n"
     ]
    },
    {
     "name": "stdout",
     "output_type": "stream",
     "text": [
      "Error getting ZIP for nan, nan: Must be a coordinate pair or Point\n"
     ]
    },
    {
     "name": "stdout",
     "output_type": "stream",
     "text": [
      "Error getting ZIP for nan, nan: Must be a coordinate pair or Point\n"
     ]
    },
    {
     "name": "stdout",
     "output_type": "stream",
     "text": [
      "Error getting ZIP for nan, nan: Must be a coordinate pair or Point\n"
     ]
    },
    {
     "name": "stdout",
     "output_type": "stream",
     "text": [
      "Error getting ZIP for nan, nan: Must be a coordinate pair or Point\n"
     ]
    },
    {
     "data": {
      "text/html": [
       "<div>\n",
       "<style scoped>\n",
       "    .dataframe tbody tr th:only-of-type {\n",
       "        vertical-align: middle;\n",
       "    }\n",
       "\n",
       "    .dataframe tbody tr th {\n",
       "        vertical-align: top;\n",
       "    }\n",
       "\n",
       "    .dataframe thead th {\n",
       "        text-align: right;\n",
       "    }\n",
       "</style>\n",
       "<table border=\"1\" class=\"dataframe\">\n",
       "  <thead>\n",
       "    <tr style=\"text-align: right;\">\n",
       "      <th></th>\n",
       "      <th>RecordID</th>\n",
       "      <th>Offense</th>\n",
       "      <th>IncidentID</th>\n",
       "      <th>BlockNumber</th>\n",
       "      <th>StreetName</th>\n",
       "      <th>Agency</th>\n",
       "      <th>HourReported</th>\n",
       "      <th>ReportingOfficer</th>\n",
       "      <th>Date</th>\n",
       "      <th>DateString</th>\n",
       "      <th>DayOfWeek</th>\n",
       "      <th>Weekend</th>\n",
       "      <th>Season</th>\n",
       "      <th>HourAMPM</th>\n",
       "      <th>TimeOfDay</th>\n",
       "      <th>FullStreet</th>\n",
       "      <th>lat</th>\n",
       "      <th>lon</th>\n",
       "      <th>neighborhood</th>\n",
       "      <th>zip</th>\n",
       "    </tr>\n",
       "  </thead>\n",
       "  <tbody>\n",
       "    <tr>\n",
       "      <th>0</th>\n",
       "      <td>1</td>\n",
       "      <td>Larceny - From Motor Vehicle</td>\n",
       "      <td>202500021281</td>\n",
       "      <td>700</td>\n",
       "      <td>PROSPECT AVE, F</td>\n",
       "      <td>CPD</td>\n",
       "      <td>1513</td>\n",
       "      <td>Reed, Danielle</td>\n",
       "      <td>2025-06-20 15:13:02</td>\n",
       "      <td>2025-06-20 03:13:02 PM</td>\n",
       "      <td>Friday</td>\n",
       "      <td>False</td>\n",
       "      <td>Spring</td>\n",
       "      <td>03:13 PM</td>\n",
       "      <td>Afternoon</td>\n",
       "      <td>700 PROSPECT AVE, F</td>\n",
       "      <td>38.024639</td>\n",
       "      <td>-78.494396</td>\n",
       "      <td>Fifeville</td>\n",
       "      <td>22903</td>\n",
       "    </tr>\n",
       "    <tr>\n",
       "      <th>1</th>\n",
       "      <td>2</td>\n",
       "      <td>Hit and Run</td>\n",
       "      <td>202500021275</td>\n",
       "      <td>2400</td>\n",
       "      <td>FONTAINE AVE</td>\n",
       "      <td>CPD</td>\n",
       "      <td>1456</td>\n",
       "      <td>Reed, Danielle</td>\n",
       "      <td>2025-06-20 14:56:59</td>\n",
       "      <td>2025-06-20 02:56:59 PM</td>\n",
       "      <td>Friday</td>\n",
       "      <td>False</td>\n",
       "      <td>Spring</td>\n",
       "      <td>02:56 PM</td>\n",
       "      <td>Afternoon</td>\n",
       "      <td>2400 FONTAINE AVE</td>\n",
       "      <td>38.025777</td>\n",
       "      <td>-78.518986</td>\n",
       "      <td>Jefferson Park Avenue</td>\n",
       "      <td>22903</td>\n",
       "    </tr>\n",
       "    <tr>\n",
       "      <th>2</th>\n",
       "      <td>3</td>\n",
       "      <td>Harassment</td>\n",
       "      <td>202500021260</td>\n",
       "      <td>600</td>\n",
       "      <td>E MARKET ST</td>\n",
       "      <td>CPD</td>\n",
       "      <td>1324</td>\n",
       "      <td>Kirby, Tyree</td>\n",
       "      <td>2025-06-20 13:24:20</td>\n",
       "      <td>2025-06-20 01:24:20 PM</td>\n",
       "      <td>Friday</td>\n",
       "      <td>False</td>\n",
       "      <td>Spring</td>\n",
       "      <td>01:24 PM</td>\n",
       "      <td>Afternoon</td>\n",
       "      <td>600 E MARKET ST</td>\n",
       "      <td>38.030175</td>\n",
       "      <td>-78.477574</td>\n",
       "      <td>Downtown Mall</td>\n",
       "      <td>22902</td>\n",
       "    </tr>\n",
       "    <tr>\n",
       "      <th>3</th>\n",
       "      <td>4</td>\n",
       "      <td>Lost/FoundProperty</td>\n",
       "      <td>202500021257</td>\n",
       "      <td>1900</td>\n",
       "      <td>EMMET ST N</td>\n",
       "      <td>CPD</td>\n",
       "      <td>1255</td>\n",
       "      <td>Prevost, Payten</td>\n",
       "      <td>2025-06-20 12:55:11</td>\n",
       "      <td>2025-06-20 12:55:11 PM</td>\n",
       "      <td>Friday</td>\n",
       "      <td>False</td>\n",
       "      <td>Spring</td>\n",
       "      <td>12:55 PM</td>\n",
       "      <td>Afternoon</td>\n",
       "      <td>1900 EMMET ST N</td>\n",
       "      <td>38.060641</td>\n",
       "      <td>-78.492567</td>\n",
       "      <td>The Meadows</td>\n",
       "      <td>22901</td>\n",
       "    </tr>\n",
       "    <tr>\n",
       "      <th>4</th>\n",
       "      <td>5</td>\n",
       "      <td>Assist Citizen - Mental/TDO/ECO</td>\n",
       "      <td>202500021256</td>\n",
       "      <td>1300</td>\n",
       "      <td>NUNLEY ST</td>\n",
       "      <td>CPD</td>\n",
       "      <td>1244</td>\n",
       "      <td>Kinney, Dylan</td>\n",
       "      <td>2025-06-20 12:44:23</td>\n",
       "      <td>2025-06-20 12:44:23 PM</td>\n",
       "      <td>Friday</td>\n",
       "      <td>False</td>\n",
       "      <td>Spring</td>\n",
       "      <td>12:44 PM</td>\n",
       "      <td>Afternoon</td>\n",
       "      <td>1300 NUNLEY ST</td>\n",
       "      <td>38.027098</td>\n",
       "      <td>-78.501335</td>\n",
       "      <td>Fifeville</td>\n",
       "      <td>22903</td>\n",
       "    </tr>\n",
       "  </tbody>\n",
       "</table>\n",
       "</div>"
      ],
      "text/plain": [
       "   RecordID                          Offense    IncidentID BlockNumber  \\\n",
       "0         1     Larceny - From Motor Vehicle  202500021281         700   \n",
       "1         2                      Hit and Run  202500021275        2400   \n",
       "2         3                       Harassment  202500021260         600   \n",
       "3         4               Lost/FoundProperty  202500021257        1900   \n",
       "4         5  Assist Citizen - Mental/TDO/ECO  202500021256        1300   \n",
       "\n",
       "        StreetName Agency HourReported ReportingOfficer                Date  \\\n",
       "0  PROSPECT AVE, F    CPD         1513   Reed, Danielle 2025-06-20 15:13:02   \n",
       "1     FONTAINE AVE    CPD         1456   Reed, Danielle 2025-06-20 14:56:59   \n",
       "2      E MARKET ST    CPD         1324     Kirby, Tyree 2025-06-20 13:24:20   \n",
       "3       EMMET ST N    CPD         1255  Prevost, Payten 2025-06-20 12:55:11   \n",
       "4        NUNLEY ST    CPD         1244    Kinney, Dylan 2025-06-20 12:44:23   \n",
       "\n",
       "               DateString DayOfWeek  Weekend  Season  HourAMPM  TimeOfDay  \\\n",
       "0  2025-06-20 03:13:02 PM    Friday    False  Spring  03:13 PM  Afternoon   \n",
       "1  2025-06-20 02:56:59 PM    Friday    False  Spring  02:56 PM  Afternoon   \n",
       "2  2025-06-20 01:24:20 PM    Friday    False  Spring  01:24 PM  Afternoon   \n",
       "3  2025-06-20 12:55:11 PM    Friday    False  Spring  12:55 PM  Afternoon   \n",
       "4  2025-06-20 12:44:23 PM    Friday    False  Spring  12:44 PM  Afternoon   \n",
       "\n",
       "            FullStreet        lat        lon           neighborhood    zip  \n",
       "0  700 PROSPECT AVE, F  38.024639 -78.494396              Fifeville  22903  \n",
       "1    2400 FONTAINE AVE  38.025777 -78.518986  Jefferson Park Avenue  22903  \n",
       "2      600 E MARKET ST  38.030175 -78.477574          Downtown Mall  22902  \n",
       "3      1900 EMMET ST N  38.060641 -78.492567            The Meadows  22901  \n",
       "4       1300 NUNLEY ST  38.027098 -78.501335              Fifeville  22903  "
      ]
     },
     "execution_count": 11,
     "metadata": {},
     "output_type": "execute_result"
    }
   ],
   "source": [
    "# Initialize the geocoder.\n",
    "geolocator = Nominatim(user_agent=\"zip_lookup\")\n",
    "\n",
    "# Try to load a persistent ZIP cache if available.\n",
    "try:\n",
    "    with open(\"zip_cache.pkl\", \"rb\") as f:\n",
    "        zip_cache = pickle.load(f)\n",
    "    print(\"Loaded zip cache.\")\n",
    "except FileNotFoundError:\n",
    "    zip_cache = {}\n",
    "    print(\"No zip cache found; starting fresh.\")\n",
    "\n",
    "def get_zip(lat, lon):\n",
    "    \"\"\"\n",
    "    Reverse geocodes a latitude and longitude to retrieve the ZIP code.\n",
    "    Caches results to speed up subsequent lookups.\n",
    "    \"\"\"\n",
    "    key = (lat, lon)\n",
    "    if key in zip_cache:\n",
    "        return zip_cache[key]\n",
    "    \n",
    "    try:\n",
    "        location = geolocator.reverse((lat, lon), exactly_one=True, timeout=10)\n",
    "        address = location.raw.get('address', {})\n",
    "        postal_code = address.get('postcode', \"N/A\")\n",
    "    except Exception as e:\n",
    "        print(f\"Error getting ZIP for {lat}, {lon}: {e}\")\n",
    "        postal_code = \"N/A\"\n",
    "    \n",
    "    zip_cache[key] = postal_code\n",
    "    # Pause to respect the usage policy.\n",
    "    time.sleep(1)\n",
    "    return postal_code\n",
    "\n",
    "# Apply the function to each row in the DataFrame.\n",
    "df['zip'] = df.apply(lambda row: get_zip(row['lat'], row['lon']), axis=1)\n",
    "\n",
    "# Save the updated ZIP cache.\n",
    "with open(\"zip_cache.pkl\", \"wb\") as f:\n",
    "    pickle.dump(zip_cache, f)\n",
    "\n",
    "df.head()\n"
   ]
  },
  {
   "cell_type": "code",
   "execution_count": 12,
   "id": "c090911d",
   "metadata": {
    "execution": {
     "iopub.execute_input": "2025-06-23T01:10:24.660804Z",
     "iopub.status.busy": "2025-06-23T01:10:24.660477Z",
     "iopub.status.idle": "2025-06-23T01:10:24.709306Z",
     "shell.execute_reply": "2025-06-23T01:10:24.708602Z"
    },
    "papermill": {
     "duration": 0.057693,
     "end_time": "2025-06-23T01:10:24.710302",
     "exception": false,
     "start_time": "2025-06-23T01:10:24.652609",
     "status": "completed"
    },
    "tags": []
   },
   "outputs": [
    {
     "name": "stdout",
     "output_type": "stream",
     "text": [
      "                  MissingCount  MissingPercentage\n",
      "RecordID                     0               0.00\n",
      "Offense                      0               0.00\n",
      "IncidentID                   0               0.00\n",
      "BlockNumber                  0               0.00\n",
      "StreetName                   0               0.00\n",
      "Agency                       0               0.00\n",
      "HourReported                 0               0.00\n",
      "ReportingOfficer            17               0.07\n",
      "Date                         0               0.00\n",
      "DateString                   0               0.00\n",
      "DayOfWeek                    0               0.00\n",
      "Weekend                      0               0.00\n",
      "Season                       0               0.00\n",
      "HourAMPM                     0               0.00\n",
      "TimeOfDay                    0               0.00\n",
      "FullStreet                   0               0.00\n",
      "lat                         25               0.10\n",
      "lon                         25               0.10\n",
      "neighborhood                 0               0.00\n",
      "zip                          0               0.00\n"
     ]
    }
   ],
   "source": [
    "missing_info = missing_percentage(df)\n",
    "print(missing_info)\n"
   ]
  },
  {
   "cell_type": "code",
   "execution_count": 13,
   "id": "2143784b",
   "metadata": {
    "execution": {
     "iopub.execute_input": "2025-06-23T01:10:24.724243Z",
     "iopub.status.busy": "2025-06-23T01:10:24.723838Z",
     "iopub.status.idle": "2025-06-23T01:10:24.753163Z",
     "shell.execute_reply": "2025-06-23T01:10:24.752607Z"
    },
    "papermill": {
     "duration": 0.037348,
     "end_time": "2025-06-23T01:10:24.754160",
     "exception": false,
     "start_time": "2025-06-23T01:10:24.716812",
     "status": "completed"
    },
    "tags": []
   },
   "outputs": [
    {
     "name": "stdout",
     "output_type": "stream",
     "text": [
      "<class 'pandas.core.frame.DataFrame'>\n",
      "RangeIndex: 25533 entries, 0 to 25532\n",
      "Data columns (total 20 columns):\n",
      " #   Column            Non-Null Count  Dtype         \n",
      "---  ------            --------------  -----         \n",
      " 0   RecordID          25533 non-null  int64         \n",
      " 1   Offense           25533 non-null  object        \n",
      " 2   IncidentID        25533 non-null  object        \n",
      " 3   BlockNumber       25533 non-null  object        \n",
      " 4   StreetName        25533 non-null  object        \n",
      " 5   Agency            25533 non-null  object        \n",
      " 6   HourReported      25533 non-null  object        \n",
      " 7   ReportingOfficer  25516 non-null  object        \n",
      " 8   Date              25533 non-null  datetime64[ns]\n",
      " 9   DateString        25533 non-null  object        \n",
      " 10  DayOfWeek         25533 non-null  object        \n",
      " 11  Weekend           25533 non-null  bool          \n",
      " 12  Season            25533 non-null  object        \n",
      " 13  HourAMPM          25533 non-null  object        \n",
      " 14  TimeOfDay         25533 non-null  object        \n",
      " 15  FullStreet        25533 non-null  object        \n",
      " 16  lat               25508 non-null  float64       \n",
      " 17  lon               25508 non-null  float64       \n",
      " 18  neighborhood      25533 non-null  object        \n",
      " 19  zip               25533 non-null  object        \n",
      "dtypes: bool(1), datetime64[ns](1), float64(2), int64(1), object(15)\n",
      "memory usage: 3.7+ MB\n"
     ]
    }
   ],
   "source": [
    "df.info()"
   ]
  },
  {
   "cell_type": "code",
   "execution_count": 14,
   "id": "facd1f46",
   "metadata": {
    "execution": {
     "iopub.execute_input": "2025-06-23T01:10:24.768547Z",
     "iopub.status.busy": "2025-06-23T01:10:24.768092Z",
     "iopub.status.idle": "2025-06-23T01:10:24.813572Z",
     "shell.execute_reply": "2025-06-23T01:10:24.812859Z"
    },
    "papermill": {
     "duration": 0.053755,
     "end_time": "2025-06-23T01:10:24.814668",
     "exception": false,
     "start_time": "2025-06-23T01:10:24.760913",
     "status": "completed"
    },
    "tags": []
   },
   "outputs": [
    {
     "data": {
      "text/html": [
       "<div>\n",
       "<style scoped>\n",
       "    .dataframe tbody tr th:only-of-type {\n",
       "        vertical-align: middle;\n",
       "    }\n",
       "\n",
       "    .dataframe tbody tr th {\n",
       "        vertical-align: top;\n",
       "    }\n",
       "\n",
       "    .dataframe thead th {\n",
       "        text-align: right;\n",
       "    }\n",
       "</style>\n",
       "<table border=\"1\" class=\"dataframe\">\n",
       "  <thead>\n",
       "    <tr style=\"text-align: right;\">\n",
       "      <th></th>\n",
       "      <th>RecordID</th>\n",
       "      <th>Offense</th>\n",
       "      <th>IncidentID</th>\n",
       "      <th>Agency</th>\n",
       "      <th>ReportingOfficer</th>\n",
       "      <th>Date</th>\n",
       "      <th>DayOfWeek</th>\n",
       "      <th>Weekend</th>\n",
       "      <th>Season</th>\n",
       "      <th>TimeOfDay</th>\n",
       "      <th>FullStreet</th>\n",
       "      <th>lat</th>\n",
       "      <th>lon</th>\n",
       "      <th>neighborhood</th>\n",
       "      <th>zip</th>\n",
       "    </tr>\n",
       "  </thead>\n",
       "  <tbody>\n",
       "    <tr>\n",
       "      <th>0</th>\n",
       "      <td>1</td>\n",
       "      <td>Larceny - From Motor Vehicle</td>\n",
       "      <td>202500021281</td>\n",
       "      <td>CPD</td>\n",
       "      <td>Reed, Danielle</td>\n",
       "      <td>2025-06-20 15:13:02</td>\n",
       "      <td>Friday</td>\n",
       "      <td>False</td>\n",
       "      <td>Spring</td>\n",
       "      <td>Afternoon</td>\n",
       "      <td>700 PROSPECT AVE, F</td>\n",
       "      <td>38.024639</td>\n",
       "      <td>-78.494396</td>\n",
       "      <td>Fifeville</td>\n",
       "      <td>22903</td>\n",
       "    </tr>\n",
       "    <tr>\n",
       "      <th>1</th>\n",
       "      <td>2</td>\n",
       "      <td>Hit and Run</td>\n",
       "      <td>202500021275</td>\n",
       "      <td>CPD</td>\n",
       "      <td>Reed, Danielle</td>\n",
       "      <td>2025-06-20 14:56:59</td>\n",
       "      <td>Friday</td>\n",
       "      <td>False</td>\n",
       "      <td>Spring</td>\n",
       "      <td>Afternoon</td>\n",
       "      <td>2400 FONTAINE AVE</td>\n",
       "      <td>38.025777</td>\n",
       "      <td>-78.518986</td>\n",
       "      <td>Jefferson Park Avenue</td>\n",
       "      <td>22903</td>\n",
       "    </tr>\n",
       "    <tr>\n",
       "      <th>2</th>\n",
       "      <td>3</td>\n",
       "      <td>Harassment</td>\n",
       "      <td>202500021260</td>\n",
       "      <td>CPD</td>\n",
       "      <td>Kirby, Tyree</td>\n",
       "      <td>2025-06-20 13:24:20</td>\n",
       "      <td>Friday</td>\n",
       "      <td>False</td>\n",
       "      <td>Spring</td>\n",
       "      <td>Afternoon</td>\n",
       "      <td>600 E MARKET ST</td>\n",
       "      <td>38.030175</td>\n",
       "      <td>-78.477574</td>\n",
       "      <td>Downtown Mall</td>\n",
       "      <td>22902</td>\n",
       "    </tr>\n",
       "    <tr>\n",
       "      <th>3</th>\n",
       "      <td>4</td>\n",
       "      <td>Lost/FoundProperty</td>\n",
       "      <td>202500021257</td>\n",
       "      <td>CPD</td>\n",
       "      <td>Prevost, Payten</td>\n",
       "      <td>2025-06-20 12:55:11</td>\n",
       "      <td>Friday</td>\n",
       "      <td>False</td>\n",
       "      <td>Spring</td>\n",
       "      <td>Afternoon</td>\n",
       "      <td>1900 EMMET ST N</td>\n",
       "      <td>38.060641</td>\n",
       "      <td>-78.492567</td>\n",
       "      <td>The Meadows</td>\n",
       "      <td>22901</td>\n",
       "    </tr>\n",
       "    <tr>\n",
       "      <th>4</th>\n",
       "      <td>5</td>\n",
       "      <td>Assist Citizen - Mental/TDO/ECO</td>\n",
       "      <td>202500021256</td>\n",
       "      <td>CPD</td>\n",
       "      <td>Kinney, Dylan</td>\n",
       "      <td>2025-06-20 12:44:23</td>\n",
       "      <td>Friday</td>\n",
       "      <td>False</td>\n",
       "      <td>Spring</td>\n",
       "      <td>Afternoon</td>\n",
       "      <td>1300 NUNLEY ST</td>\n",
       "      <td>38.027098</td>\n",
       "      <td>-78.501335</td>\n",
       "      <td>Fifeville</td>\n",
       "      <td>22903</td>\n",
       "    </tr>\n",
       "  </tbody>\n",
       "</table>\n",
       "</div>"
      ],
      "text/plain": [
       "   RecordID                          Offense    IncidentID Agency  \\\n",
       "0         1     Larceny - From Motor Vehicle  202500021281    CPD   \n",
       "1         2                      Hit and Run  202500021275    CPD   \n",
       "2         3                       Harassment  202500021260    CPD   \n",
       "3         4               Lost/FoundProperty  202500021257    CPD   \n",
       "4         5  Assist Citizen - Mental/TDO/ECO  202500021256    CPD   \n",
       "\n",
       "  ReportingOfficer                Date DayOfWeek  Weekend  Season  TimeOfDay  \\\n",
       "0   Reed, Danielle 2025-06-20 15:13:02    Friday    False  Spring  Afternoon   \n",
       "1   Reed, Danielle 2025-06-20 14:56:59    Friday    False  Spring  Afternoon   \n",
       "2     Kirby, Tyree 2025-06-20 13:24:20    Friday    False  Spring  Afternoon   \n",
       "3  Prevost, Payten 2025-06-20 12:55:11    Friday    False  Spring  Afternoon   \n",
       "4    Kinney, Dylan 2025-06-20 12:44:23    Friday    False  Spring  Afternoon   \n",
       "\n",
       "            FullStreet        lat        lon           neighborhood    zip  \n",
       "0  700 PROSPECT AVE, F  38.024639 -78.494396              Fifeville  22903  \n",
       "1    2400 FONTAINE AVE  38.025777 -78.518986  Jefferson Park Avenue  22903  \n",
       "2      600 E MARKET ST  38.030175 -78.477574          Downtown Mall  22902  \n",
       "3      1900 EMMET ST N  38.060641 -78.492567            The Meadows  22901  \n",
       "4       1300 NUNLEY ST  38.027098 -78.501335              Fifeville  22903  "
      ]
     },
     "execution_count": 14,
     "metadata": {},
     "output_type": "execute_result"
    }
   ],
   "source": [
    "# Now drop the original BlockNumber and StreetName columns\n",
    "df.drop(columns=['BlockNumber', 'StreetName','HourAMPM','HourReported','DateString'], inplace=True)\n",
    "df[\"zip\"] = df[\"zip\"].astype(str)\n",
    "\n",
    "# Fill all missing values in the DataFrame with \"N/A\"\n",
    "df.replace({None: \"N/A\", np.nan: \"N/A\", \"\": \"N/A\"}, inplace=True)\n",
    "df.head()"
   ]
  },
  {
   "cell_type": "code",
   "execution_count": 15,
   "id": "ae1f4618",
   "metadata": {
    "execution": {
     "iopub.execute_input": "2025-06-23T01:10:24.829528Z",
     "iopub.status.busy": "2025-06-23T01:10:24.829269Z",
     "iopub.status.idle": "2025-06-23T01:10:24.847040Z",
     "shell.execute_reply": "2025-06-23T01:10:24.846465Z"
    },
    "papermill": {
     "duration": 0.026182,
     "end_time": "2025-06-23T01:10:24.848017",
     "exception": false,
     "start_time": "2025-06-23T01:10:24.821835",
     "status": "completed"
    },
    "tags": []
   },
   "outputs": [
    {
     "name": "stdout",
     "output_type": "stream",
     "text": [
      "                  MissingCount  MissingPercentage\n",
      "RecordID                     0                0.0\n",
      "Offense                      0                0.0\n",
      "IncidentID                   0                0.0\n",
      "Agency                       0                0.0\n",
      "ReportingOfficer             0                0.0\n",
      "Date                         0                0.0\n",
      "DayOfWeek                    0                0.0\n",
      "Weekend                      0                0.0\n",
      "Season                       0                0.0\n",
      "TimeOfDay                    0                0.0\n",
      "FullStreet                   0                0.0\n",
      "lat                          0                0.0\n",
      "lon                          0                0.0\n",
      "neighborhood                 0                0.0\n",
      "zip                          0                0.0\n"
     ]
    }
   ],
   "source": [
    "missing_info = missing_percentage(df)\n",
    "print(missing_info)"
   ]
  },
  {
   "cell_type": "code",
   "execution_count": 16,
   "id": "cdb7813e",
   "metadata": {
    "execution": {
     "iopub.execute_input": "2025-06-23T01:10:24.862770Z",
     "iopub.status.busy": "2025-06-23T01:10:24.862524Z",
     "iopub.status.idle": "2025-06-23T01:10:24.867137Z",
     "shell.execute_reply": "2025-06-23T01:10:24.866505Z"
    },
    "papermill": {
     "duration": 0.013171,
     "end_time": "2025-06-23T01:10:24.868154",
     "exception": false,
     "start_time": "2025-06-23T01:10:24.854983",
     "status": "completed"
    },
    "tags": []
   },
   "outputs": [
    {
     "data": {
      "text/plain": [
       "Index(['RecordID', 'Offense', 'IncidentID', 'Agency', 'ReportingOfficer',\n",
       "       'Date', 'DayOfWeek', 'Weekend', 'Season', 'TimeOfDay', 'FullStreet',\n",
       "       'lat', 'lon', 'neighborhood', 'zip'],\n",
       "      dtype='object')"
      ]
     },
     "execution_count": 16,
     "metadata": {},
     "output_type": "execute_result"
    }
   ],
   "source": [
    "df.columns"
   ]
  },
  {
   "cell_type": "code",
   "execution_count": 17,
   "id": "ed8f60a4",
   "metadata": {
    "execution": {
     "iopub.execute_input": "2025-06-23T01:10:24.883311Z",
     "iopub.status.busy": "2025-06-23T01:10:24.882850Z",
     "iopub.status.idle": "2025-06-23T01:10:24.904652Z",
     "shell.execute_reply": "2025-06-23T01:10:24.904111Z"
    },
    "papermill": {
     "duration": 0.03035,
     "end_time": "2025-06-23T01:10:24.905660",
     "exception": false,
     "start_time": "2025-06-23T01:10:24.875310",
     "status": "completed"
    },
    "tags": []
   },
   "outputs": [
    {
     "name": "stdout",
     "output_type": "stream",
     "text": [
      "<class 'pandas.core.frame.DataFrame'>\n",
      "RangeIndex: 25533 entries, 0 to 25532\n",
      "Data columns (total 15 columns):\n",
      " #   Column            Non-Null Count  Dtype         \n",
      "---  ------            --------------  -----         \n",
      " 0   RecordID          25533 non-null  int64         \n",
      " 1   Offense           25533 non-null  object        \n",
      " 2   IncidentID        25533 non-null  object        \n",
      " 3   Agency            25533 non-null  object        \n",
      " 4   ReportingOfficer  25533 non-null  object        \n",
      " 5   Date              25533 non-null  datetime64[ns]\n",
      " 6   DayOfWeek         25533 non-null  object        \n",
      " 7   Weekend           25533 non-null  bool          \n",
      " 8   Season            25533 non-null  object        \n",
      " 9   TimeOfDay         25533 non-null  object        \n",
      " 10  FullStreet        25533 non-null  object        \n",
      " 11  lat               25533 non-null  object        \n",
      " 12  lon               25533 non-null  object        \n",
      " 13  neighborhood      25533 non-null  object        \n",
      " 14  zip               25533 non-null  object        \n",
      "dtypes: bool(1), datetime64[ns](1), int64(1), object(12)\n",
      "memory usage: 2.8+ MB\n"
     ]
    }
   ],
   "source": [
    "df.info()"
   ]
  },
  {
   "cell_type": "markdown",
   "id": "5d71acb9",
   "metadata": {
    "papermill": {
     "duration": 0.006946,
     "end_time": "2025-06-23T01:10:24.919856",
     "exception": false,
     "start_time": "2025-06-23T01:10:24.912910",
     "status": "completed"
    },
    "tags": []
   },
   "source": [
    "### Export Clean Data"
   ]
  },
  {
   "cell_type": "code",
   "execution_count": 18,
   "id": "37261317",
   "metadata": {
    "execution": {
     "iopub.execute_input": "2025-06-23T01:10:24.935000Z",
     "iopub.status.busy": "2025-06-23T01:10:24.934583Z",
     "iopub.status.idle": "2025-06-23T01:10:34.200790Z",
     "shell.execute_reply": "2025-06-23T01:10:34.200042Z"
    },
    "papermill": {
     "duration": 9.274998,
     "end_time": "2025-06-23T01:10:34.201918",
     "exception": false,
     "start_time": "2025-06-23T01:10:24.926920",
     "status": "completed"
    },
    "tags": []
   },
   "outputs": [
    {
     "name": "stdout",
     "output_type": "stream",
     "text": [
      "Project Root: /home/runner/work/crime-data/crime-data\n"
     ]
    },
    {
     "name": "stdout",
     "output_type": "stream",
     "text": [
      "Data saved to: /home/runner/work/crime-data/crime-data/data/charlottesville_crime_incidents.csv\n"
     ]
    },
    {
     "name": "stdout",
     "output_type": "stream",
     "text": [
      "Excel saved to: /home/runner/work/crime-data/crime-data/data/charlottesville_crime_incidents.xlsx\n"
     ]
    }
   ],
   "source": [
    "# Determine the project root (assuming papermill is run from the repository root)\n",
    "project_root = os.getcwd()\n",
    "print(\"Project Root:\", project_root)\n",
    "\n",
    "# Set the data directory within the project root\n",
    "data_dir = os.path.join(project_root, \"data\")\n",
    "\n",
    "# Ensure the \"data\" directory exists (create it if it doesn't)\n",
    "if not os.path.exists(data_dir):\n",
    "    os.makedirs(data_dir)\n",
    "\n",
    "# Export the DataFrame to CSV in the \"data\" folder located in the project root\n",
    "csv_path = os.path.join(data_dir, \"charlottesville_crime_incidents.csv\")\n",
    "df.to_csv(csv_path, index=False)\n",
    "print(\"Data saved to:\", csv_path)\n",
    "\n",
    "# Construct the path to your Excel file\n",
    "excel_path = os.path.join(data_dir, \"charlottesville_crime_incidents.xlsx\")\n",
    "\n",
    "# Export the DataFrame to Excel\n",
    "df.to_excel(excel_path, index=False)\n",
    "print(\"Excel saved to:\", excel_path)\n"
   ]
  }
 ],
 "metadata": {
  "kernelspec": {
   "display_name": "Python 3",
   "language": "python",
   "name": "python3"
  },
  "language_info": {
   "codemirror_mode": {
    "name": "ipython",
    "version": 3
   },
   "file_extension": ".py",
   "mimetype": "text/x-python",
   "name": "python",
   "nbconvert_exporter": "python",
   "pygments_lexer": "ipython3",
   "version": "3.9.23"
  },
  "papermill": {
   "default_parameters": {},
   "duration": 107.004335,
   "end_time": "2025-06-23T01:10:34.626104",
   "environment_variables": {},
   "exception": null,
   "input_path": "notebook/Crime Data.ipynb",
   "output_path": "notebook/Crime Data_output.ipynb",
   "parameters": {},
   "start_time": "2025-06-23T01:08:47.621769",
   "version": "2.6.0"
  }
 },
 "nbformat": 4,
 "nbformat_minor": 5
}