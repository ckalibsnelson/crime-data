{
 "cells": [
  {
   "cell_type": "markdown",
   "id": "637742ef",
   "metadata": {
    "papermill": {
     "duration": 0.004489,
     "end_time": "2025-06-06T01:03:49.304850",
     "exception": false,
     "start_time": "2025-06-06T01:03:49.300361",
     "status": "completed"
    },
    "tags": []
   },
   "source": [
    "# Charlottesville Open Data Porttal: Crime Data"
   ]
  },
  {
   "cell_type": "markdown",
   "id": "ddce8446",
   "metadata": {
    "papermill": {
     "duration": 0.003282,
     "end_time": "2025-06-06T01:03:49.311894",
     "exception": false,
     "start_time": "2025-06-06T01:03:49.308612",
     "status": "completed"
    },
    "tags": []
   },
   "source": [
    "## Import Relevant Librarires & Set WD"
   ]
  },
  {
   "cell_type": "code",
   "execution_count": 1,
   "id": "ffce092c",
   "metadata": {
    "execution": {
     "iopub.execute_input": "2025-06-06T01:03:49.320206Z",
     "iopub.status.busy": "2025-06-06T01:03:49.319583Z",
     "iopub.status.idle": "2025-06-06T01:03:50.008369Z",
     "shell.execute_reply": "2025-06-06T01:03:50.007602Z"
    },
    "papermill": {
     "duration": 0.69458,
     "end_time": "2025-06-06T01:03:50.009794",
     "exception": false,
     "start_time": "2025-06-06T01:03:49.315214",
     "status": "completed"
    },
    "tags": []
   },
   "outputs": [],
   "source": [
    "import requests\n",
    "import pandas as pd\n",
    "import numpy as np\n",
    "import pickle\n",
    "import googlemaps\n",
    "import plotly.express as px\n",
    "from geopy.geocoders import Nominatim\n",
    "import time\n",
    "from dotenv import load_dotenv\n",
    "import os\n",
    "\n",
    "env_path = os.path.join(\"..\", \".env\")\n",
    "#print(\"Looking for .env file at:\", os.path.abspath(env_path))\n",
    "load_dotenv(dotenv_path=env_path)\n",
    "\n",
    "# Retrieve the variables\n",
    "GOOGLE_API_KEY = os.getenv(\"GOOGLE_API_KEY\")\n",
    "WORKING_DIR = os.getenv(\"WORKING_DIR\")\n",
    "\n",
    "if GOOGLE_API_KEY is None or WORKING_DIR is None:\n",
    "    raise RuntimeError(\"No configuration found. Please ensure that your .env file exists with the required variables, or create a local config.py file.\")\n",
    "\n",
    "#print(\"Google API Key:\", GOOGLE_API_KEY)\n",
    "#print(\"Working Directory:\", WORKING_DIR)"
   ]
  },
  {
   "cell_type": "markdown",
   "id": "7c7aaf54",
   "metadata": {
    "papermill": {
     "duration": 0.003384,
     "end_time": "2025-06-06T01:03:50.016897",
     "exception": false,
     "start_time": "2025-06-06T01:03:50.013513",
     "status": "completed"
    },
    "tags": []
   },
   "source": [
    "## Import Data\n",
    "\n",
    "URL: https://opendata.charlottesville.org/datasets/charlottesville::crime-data/about"
   ]
  },
  {
   "cell_type": "code",
   "execution_count": 2,
   "id": "e7784ef9",
   "metadata": {
    "execution": {
     "iopub.execute_input": "2025-06-06T01:03:50.024519Z",
     "iopub.status.busy": "2025-06-06T01:03:50.024228Z",
     "iopub.status.idle": "2025-06-06T01:04:57.708811Z",
     "shell.execute_reply": "2025-06-06T01:04:57.707998Z"
    },
    "papermill": {
     "duration": 67.692964,
     "end_time": "2025-06-06T01:04:57.713194",
     "exception": false,
     "start_time": "2025-06-06T01:03:50.020230",
     "status": "completed"
    },
    "tags": []
   },
   "outputs": [
    {
     "name": "stdout",
     "output_type": "stream",
     "text": [
      "Total records imported: 25447\n"
     ]
    }
   ],
   "source": [
    "# Define the endpoint and initial parameters.\n",
    "url = \"https://gisweb.charlottesville.org/arcgis/rest/services/OpenData_2/MapServer/6/query\"\n",
    "params = {\n",
    "    \"where\": \"1=1\",\n",
    "    \"outFields\": \"*\",\n",
    "    \"outSR\": 4326,\n",
    "    \"f\": \"json\",\n",
    "    \"resultOffset\": 0,       # Starting index for results\n",
    "    \"resultRecordCount\": 10000  # Maximum records per batch (if allowed by the API)\n",
    "}\n",
    "\n",
    "records = []\n",
    "\n",
    "while True:\n",
    "    response = requests.get(url, params=params)\n",
    "    response.raise_for_status()\n",
    "    data = response.json()\n",
    "    \n",
    "    # Get the current batch of features.\n",
    "    features = data.get(\"features\", [])\n",
    "    if not features:\n",
    "        break\n",
    "\n",
    "    # Extract the attributes from the features.\n",
    "    batch_records = [feature.get(\"attributes\", {}) for feature in features]\n",
    "    records.extend(batch_records)\n",
    "    \n",
    "    # If the batch size is less than the requested count, we reached the end.\n",
    "    if len(features) < params[\"resultRecordCount\"]:\n",
    "        break\n",
    "\n",
    "    # Update the resultOffset for the next batch.\n",
    "    params[\"resultOffset\"] += params[\"resultRecordCount\"]\n",
    "\n",
    "# Create a DataFrame from the combined records.\n",
    "df = pd.DataFrame(records)\n",
    "print(\"Total records imported:\", len(df))\n"
   ]
  },
  {
   "cell_type": "code",
   "execution_count": 3,
   "id": "f4f279f1",
   "metadata": {
    "execution": {
     "iopub.execute_input": "2025-06-06T01:04:57.721155Z",
     "iopub.status.busy": "2025-06-06T01:04:57.720905Z",
     "iopub.status.idle": "2025-06-06T01:04:57.733006Z",
     "shell.execute_reply": "2025-06-06T01:04:57.732430Z"
    },
    "papermill": {
     "duration": 0.017291,
     "end_time": "2025-06-06T01:04:57.734018",
     "exception": false,
     "start_time": "2025-06-06T01:04:57.716727",
     "status": "completed"
    },
    "tags": []
   },
   "outputs": [
    {
     "data": {
      "text/html": [
       "<div>\n",
       "<style scoped>\n",
       "    .dataframe tbody tr th:only-of-type {\n",
       "        vertical-align: middle;\n",
       "    }\n",
       "\n",
       "    .dataframe tbody tr th {\n",
       "        vertical-align: top;\n",
       "    }\n",
       "\n",
       "    .dataframe thead th {\n",
       "        text-align: right;\n",
       "    }\n",
       "</style>\n",
       "<table border=\"1\" class=\"dataframe\">\n",
       "  <thead>\n",
       "    <tr style=\"text-align: right;\">\n",
       "      <th></th>\n",
       "      <th>RecordID</th>\n",
       "      <th>Offense</th>\n",
       "      <th>IncidentID</th>\n",
       "      <th>BlockNumber</th>\n",
       "      <th>StreetName</th>\n",
       "      <th>Agency</th>\n",
       "      <th>DateReported</th>\n",
       "      <th>HourReported</th>\n",
       "      <th>ReportingOfficer</th>\n",
       "    </tr>\n",
       "  </thead>\n",
       "  <tbody>\n",
       "    <tr>\n",
       "      <th>0</th>\n",
       "      <td>1</td>\n",
       "      <td>Assault Intimidation</td>\n",
       "      <td>202500018987</td>\n",
       "      <td>1700</td>\n",
       "      <td>ALLIED ST</td>\n",
       "      <td>CPD</td>\n",
       "      <td>1748994600000</td>\n",
       "      <td>1950</td>\n",
       "      <td>Hudson, Jesse</td>\n",
       "    </tr>\n",
       "    <tr>\n",
       "      <th>1</th>\n",
       "      <td>2</td>\n",
       "      <td>Hit and Run</td>\n",
       "      <td>202500018956</td>\n",
       "      <td>700</td>\n",
       "      <td>CHARLTON AVE</td>\n",
       "      <td>CPD</td>\n",
       "      <td>1748982361000</td>\n",
       "      <td>1626</td>\n",
       "      <td>Brannon, Devin</td>\n",
       "    </tr>\n",
       "    <tr>\n",
       "      <th>2</th>\n",
       "      <td>3</td>\n",
       "      <td>Larceny - All Other</td>\n",
       "      <td>202500018955</td>\n",
       "      <td>800</td>\n",
       "      <td>W MAIN ST</td>\n",
       "      <td>CPD</td>\n",
       "      <td>1748980623000</td>\n",
       "      <td>1557</td>\n",
       "      <td>Kinney, Dylan</td>\n",
       "    </tr>\n",
       "    <tr>\n",
       "      <th>3</th>\n",
       "      <td>4</td>\n",
       "      <td>Hit and Run</td>\n",
       "      <td>202500018957</td>\n",
       "      <td></td>\n",
       "      <td>EMMET ST N @ RAMP</td>\n",
       "      <td>CPD</td>\n",
       "      <td>1748980048000</td>\n",
       "      <td>1547</td>\n",
       "      <td>Mian, Ghulam</td>\n",
       "    </tr>\n",
       "    <tr>\n",
       "      <th>4</th>\n",
       "      <td>5</td>\n",
       "      <td>Warrant Service</td>\n",
       "      <td>202500018937</td>\n",
       "      <td>100</td>\n",
       "      <td>7TH ST NE</td>\n",
       "      <td>CPD</td>\n",
       "      <td>1748975701000</td>\n",
       "      <td>1435</td>\n",
       "      <td>Ryan, Matthew</td>\n",
       "    </tr>\n",
       "  </tbody>\n",
       "</table>\n",
       "</div>"
      ],
      "text/plain": [
       "   RecordID               Offense    IncidentID BlockNumber  \\\n",
       "0         1  Assault Intimidation  202500018987        1700   \n",
       "1         2           Hit and Run  202500018956         700   \n",
       "2         3   Larceny - All Other  202500018955         800   \n",
       "3         4           Hit and Run  202500018957               \n",
       "4         5       Warrant Service  202500018937         100   \n",
       "\n",
       "          StreetName Agency   DateReported HourReported ReportingOfficer  \n",
       "0          ALLIED ST    CPD  1748994600000         1950    Hudson, Jesse  \n",
       "1       CHARLTON AVE    CPD  1748982361000         1626   Brannon, Devin  \n",
       "2          W MAIN ST    CPD  1748980623000         1557    Kinney, Dylan  \n",
       "3  EMMET ST N @ RAMP    CPD  1748980048000         1547     Mian, Ghulam  \n",
       "4          7TH ST NE    CPD  1748975701000         1435    Ryan, Matthew  "
      ]
     },
     "execution_count": 3,
     "metadata": {},
     "output_type": "execute_result"
    }
   ],
   "source": [
    "df.head()"
   ]
  },
  {
   "cell_type": "code",
   "execution_count": 4,
   "id": "ccf6ed98",
   "metadata": {
    "execution": {
     "iopub.execute_input": "2025-06-06T01:04:57.741993Z",
     "iopub.status.busy": "2025-06-06T01:04:57.741792Z",
     "iopub.status.idle": "2025-06-06T01:04:57.746138Z",
     "shell.execute_reply": "2025-06-06T01:04:57.745599Z"
    },
    "papermill": {
     "duration": 0.009441,
     "end_time": "2025-06-06T01:04:57.747132",
     "exception": false,
     "start_time": "2025-06-06T01:04:57.737691",
     "status": "completed"
    },
    "tags": []
   },
   "outputs": [
    {
     "data": {
      "text/plain": [
       "Index(['RecordID', 'Offense', 'IncidentID', 'BlockNumber', 'StreetName',\n",
       "       'Agency', 'DateReported', 'HourReported', 'ReportingOfficer'],\n",
       "      dtype='object')"
      ]
     },
     "execution_count": 4,
     "metadata": {},
     "output_type": "execute_result"
    }
   ],
   "source": [
    "df.columns"
   ]
  },
  {
   "cell_type": "code",
   "execution_count": 5,
   "id": "49e283ec",
   "metadata": {
    "execution": {
     "iopub.execute_input": "2025-06-06T01:04:57.756075Z",
     "iopub.status.busy": "2025-06-06T01:04:57.755662Z",
     "iopub.status.idle": "2025-06-06T01:04:57.779292Z",
     "shell.execute_reply": "2025-06-06T01:04:57.778715Z"
    },
    "papermill": {
     "duration": 0.029527,
     "end_time": "2025-06-06T01:04:57.780320",
     "exception": false,
     "start_time": "2025-06-06T01:04:57.750793",
     "status": "completed"
    },
    "tags": []
   },
   "outputs": [
    {
     "name": "stdout",
     "output_type": "stream",
     "text": [
      "<class 'pandas.core.frame.DataFrame'>\n",
      "RangeIndex: 25447 entries, 0 to 25446\n",
      "Data columns (total 9 columns):\n",
      " #   Column            Non-Null Count  Dtype \n",
      "---  ------            --------------  ----- \n",
      " 0   RecordID          25447 non-null  int64 \n",
      " 1   Offense           25447 non-null  object\n",
      " 2   IncidentID        25447 non-null  object\n",
      " 3   BlockNumber       25447 non-null  object\n",
      " 4   StreetName        25447 non-null  object\n",
      " 5   Agency            25447 non-null  object\n",
      " 6   DateReported      25447 non-null  int64 \n",
      " 7   HourReported      25447 non-null  object\n",
      " 8   ReportingOfficer  25430 non-null  object\n",
      "dtypes: int64(2), object(7)\n",
      "memory usage: 1.7+ MB\n"
     ]
    }
   ],
   "source": [
    "df.info()"
   ]
  },
  {
   "cell_type": "markdown",
   "id": "a1e9f4fa",
   "metadata": {
    "papermill": {
     "duration": 0.003741,
     "end_time": "2025-06-06T01:04:57.788113",
     "exception": false,
     "start_time": "2025-06-06T01:04:57.784372",
     "status": "completed"
    },
    "tags": []
   },
   "source": [
    "### Missing Values"
   ]
  },
  {
   "cell_type": "code",
   "execution_count": 6,
   "id": "c794cd8e",
   "metadata": {
    "execution": {
     "iopub.execute_input": "2025-06-06T01:04:57.820616Z",
     "iopub.status.busy": "2025-06-06T01:04:57.820135Z",
     "iopub.status.idle": "2025-06-06T01:04:57.843488Z",
     "shell.execute_reply": "2025-06-06T01:04:57.842810Z"
    },
    "papermill": {
     "duration": 0.029315,
     "end_time": "2025-06-06T01:04:57.844558",
     "exception": false,
     "start_time": "2025-06-06T01:04:57.815243",
     "status": "completed"
    },
    "tags": []
   },
   "outputs": [
    {
     "name": "stdout",
     "output_type": "stream",
     "text": [
      "                  MissingCount  MissingPercentage\n",
      "RecordID                     0               0.00\n",
      "Offense                      0               0.00\n",
      "IncidentID                   0               0.00\n",
      "BlockNumber                  0               0.00\n",
      "StreetName                   0               0.00\n",
      "Agency                       0               0.00\n",
      "DateReported                 0               0.00\n",
      "HourReported                 0               0.00\n",
      "ReportingOfficer            17               0.07\n"
     ]
    }
   ],
   "source": [
    "def missing_percentage(df):\n",
    "    \"\"\"\n",
    "    Returns a DataFrame with the count and percentage of missing values for each column.\n",
    "    \n",
    "    Parameters:\n",
    "        df (pd.DataFrame): The input DataFrame.\n",
    "    \n",
    "    Returns:\n",
    "        pd.DataFrame: A DataFrame with columns 'MissingCount' and 'MissingPercentage'.\n",
    "    \"\"\"\n",
    "    total_rows = len(df)\n",
    "    missing_count = df.isnull().sum()\n",
    "    missing_percent = (missing_count / total_rows) * 100\n",
    "    \n",
    "    result = pd.DataFrame({\n",
    "        'MissingCount': missing_count,\n",
    "        'MissingPercentage': missing_percent.round(2)\n",
    "    })\n",
    "    \n",
    "    return result\n",
    "\n",
    "# Example usage:\n",
    "missing_info = missing_percentage(df)\n",
    "print(missing_info)\n"
   ]
  },
  {
   "cell_type": "markdown",
   "id": "d1be0d10",
   "metadata": {
    "papermill": {
     "duration": 0.003967,
     "end_time": "2025-06-06T01:04:57.852647",
     "exception": false,
     "start_time": "2025-06-06T01:04:57.848680",
     "status": "completed"
    },
    "tags": []
   },
   "source": [
    "## Data Preparation"
   ]
  },
  {
   "cell_type": "markdown",
   "id": "3f1a8af4",
   "metadata": {
    "papermill": {
     "duration": 0.003736,
     "end_time": "2025-06-06T01:04:57.860204",
     "exception": false,
     "start_time": "2025-06-06T01:04:57.856468",
     "status": "completed"
    },
    "tags": []
   },
   "source": [
    "### Data Conversion"
   ]
  },
  {
   "cell_type": "code",
   "execution_count": 7,
   "id": "05aff96e",
   "metadata": {
    "execution": {
     "iopub.execute_input": "2025-06-06T01:04:57.868962Z",
     "iopub.status.busy": "2025-06-06T01:04:57.868594Z",
     "iopub.status.idle": "2025-06-06T01:04:58.227851Z",
     "shell.execute_reply": "2025-06-06T01:04:58.227152Z"
    },
    "papermill": {
     "duration": 0.364872,
     "end_time": "2025-06-06T01:04:58.228972",
     "exception": false,
     "start_time": "2025-06-06T01:04:57.864100",
     "status": "completed"
    },
    "tags": []
   },
   "outputs": [
    {
     "data": {
      "text/html": [
       "<div>\n",
       "<style scoped>\n",
       "    .dataframe tbody tr th:only-of-type {\n",
       "        vertical-align: middle;\n",
       "    }\n",
       "\n",
       "    .dataframe tbody tr th {\n",
       "        vertical-align: top;\n",
       "    }\n",
       "\n",
       "    .dataframe thead th {\n",
       "        text-align: right;\n",
       "    }\n",
       "</style>\n",
       "<table border=\"1\" class=\"dataframe\">\n",
       "  <thead>\n",
       "    <tr style=\"text-align: right;\">\n",
       "      <th></th>\n",
       "      <th>RecordID</th>\n",
       "      <th>Offense</th>\n",
       "      <th>IncidentID</th>\n",
       "      <th>BlockNumber</th>\n",
       "      <th>StreetName</th>\n",
       "      <th>Agency</th>\n",
       "      <th>HourReported</th>\n",
       "      <th>ReportingOfficer</th>\n",
       "      <th>Date</th>\n",
       "      <th>DateString</th>\n",
       "      <th>DayOfWeek</th>\n",
       "      <th>Weekend</th>\n",
       "      <th>Season</th>\n",
       "      <th>HourAMPM</th>\n",
       "      <th>TimeOfDay</th>\n",
       "    </tr>\n",
       "  </thead>\n",
       "  <tbody>\n",
       "    <tr>\n",
       "      <th>0</th>\n",
       "      <td>1</td>\n",
       "      <td>Assault Intimidation</td>\n",
       "      <td>202500018987</td>\n",
       "      <td>1700</td>\n",
       "      <td>ALLIED ST</td>\n",
       "      <td>CPD</td>\n",
       "      <td>1950</td>\n",
       "      <td>Hudson, Jesse</td>\n",
       "      <td>2025-06-03 19:50:00</td>\n",
       "      <td>2025-06-03 07:50:00 PM</td>\n",
       "      <td>Tuesday</td>\n",
       "      <td>False</td>\n",
       "      <td>Spring</td>\n",
       "      <td>07:50 PM</td>\n",
       "      <td>Evening</td>\n",
       "    </tr>\n",
       "    <tr>\n",
       "      <th>1</th>\n",
       "      <td>2</td>\n",
       "      <td>Hit and Run</td>\n",
       "      <td>202500018956</td>\n",
       "      <td>700</td>\n",
       "      <td>CHARLTON AVE</td>\n",
       "      <td>CPD</td>\n",
       "      <td>1626</td>\n",
       "      <td>Brannon, Devin</td>\n",
       "      <td>2025-06-03 16:26:01</td>\n",
       "      <td>2025-06-03 04:26:01 PM</td>\n",
       "      <td>Tuesday</td>\n",
       "      <td>False</td>\n",
       "      <td>Spring</td>\n",
       "      <td>04:26 PM</td>\n",
       "      <td>Afternoon</td>\n",
       "    </tr>\n",
       "    <tr>\n",
       "      <th>2</th>\n",
       "      <td>3</td>\n",
       "      <td>Larceny - All Other</td>\n",
       "      <td>202500018955</td>\n",
       "      <td>800</td>\n",
       "      <td>W MAIN ST</td>\n",
       "      <td>CPD</td>\n",
       "      <td>1557</td>\n",
       "      <td>Kinney, Dylan</td>\n",
       "      <td>2025-06-03 15:57:03</td>\n",
       "      <td>2025-06-03 03:57:03 PM</td>\n",
       "      <td>Tuesday</td>\n",
       "      <td>False</td>\n",
       "      <td>Spring</td>\n",
       "      <td>03:57 PM</td>\n",
       "      <td>Afternoon</td>\n",
       "    </tr>\n",
       "    <tr>\n",
       "      <th>3</th>\n",
       "      <td>4</td>\n",
       "      <td>Hit and Run</td>\n",
       "      <td>202500018957</td>\n",
       "      <td></td>\n",
       "      <td>EMMET ST N @ RAMP</td>\n",
       "      <td>CPD</td>\n",
       "      <td>1547</td>\n",
       "      <td>Mian, Ghulam</td>\n",
       "      <td>2025-06-03 15:47:28</td>\n",
       "      <td>2025-06-03 03:47:28 PM</td>\n",
       "      <td>Tuesday</td>\n",
       "      <td>False</td>\n",
       "      <td>Spring</td>\n",
       "      <td>03:47 PM</td>\n",
       "      <td>Afternoon</td>\n",
       "    </tr>\n",
       "    <tr>\n",
       "      <th>4</th>\n",
       "      <td>5</td>\n",
       "      <td>Warrant Service</td>\n",
       "      <td>202500018937</td>\n",
       "      <td>100</td>\n",
       "      <td>7TH ST NE</td>\n",
       "      <td>CPD</td>\n",
       "      <td>1435</td>\n",
       "      <td>Ryan, Matthew</td>\n",
       "      <td>2025-06-03 14:35:01</td>\n",
       "      <td>2025-06-03 02:35:01 PM</td>\n",
       "      <td>Tuesday</td>\n",
       "      <td>False</td>\n",
       "      <td>Spring</td>\n",
       "      <td>02:35 PM</td>\n",
       "      <td>Afternoon</td>\n",
       "    </tr>\n",
       "  </tbody>\n",
       "</table>\n",
       "</div>"
      ],
      "text/plain": [
       "   RecordID               Offense    IncidentID BlockNumber  \\\n",
       "0         1  Assault Intimidation  202500018987        1700   \n",
       "1         2           Hit and Run  202500018956         700   \n",
       "2         3   Larceny - All Other  202500018955         800   \n",
       "3         4           Hit and Run  202500018957               \n",
       "4         5       Warrant Service  202500018937         100   \n",
       "\n",
       "          StreetName Agency HourReported ReportingOfficer                Date  \\\n",
       "0          ALLIED ST    CPD         1950    Hudson, Jesse 2025-06-03 19:50:00   \n",
       "1       CHARLTON AVE    CPD         1626   Brannon, Devin 2025-06-03 16:26:01   \n",
       "2          W MAIN ST    CPD         1557    Kinney, Dylan 2025-06-03 15:57:03   \n",
       "3  EMMET ST N @ RAMP    CPD         1547     Mian, Ghulam 2025-06-03 15:47:28   \n",
       "4          7TH ST NE    CPD         1435    Ryan, Matthew 2025-06-03 14:35:01   \n",
       "\n",
       "               DateString DayOfWeek  Weekend  Season  HourAMPM  TimeOfDay  \n",
       "0  2025-06-03 07:50:00 PM   Tuesday    False  Spring  07:50 PM    Evening  \n",
       "1  2025-06-03 04:26:01 PM   Tuesday    False  Spring  04:26 PM  Afternoon  \n",
       "2  2025-06-03 03:57:03 PM   Tuesday    False  Spring  03:57 PM  Afternoon  \n",
       "3  2025-06-03 03:47:28 PM   Tuesday    False  Spring  03:47 PM  Afternoon  \n",
       "4  2025-06-03 02:35:01 PM   Tuesday    False  Spring  02:35 PM  Afternoon  "
      ]
     },
     "execution_count": 7,
     "metadata": {},
     "output_type": "execute_result"
    }
   ],
   "source": [
    "def convert_and_categorize_datereported(df, col='DateReported'):\n",
    "    \"\"\"\n",
    "    Converts an epoch (in milliseconds) date column into a timezone-aware datetime,\n",
    "    converts it to Eastern Time, and then creates columns for day-of-week, weekend flag,\n",
    "    season, 12-hour formatted time, and time-of-day. Keeps both a real datetime column\n",
    "    (Date) and a string representation (DateString).\n",
    "    \"\"\"\n",
    "    import pandas as pd\n",
    "\n",
    "    # Convert the epoch timestamp to a pandas datetime object as UTC, then convert to US/Eastern.\n",
    "    df[\"DateReported_dt\"] = (\n",
    "        pd.to_datetime(df[col], unit=\"ms\", errors=\"coerce\", utc=True)\n",
    "        .dt.tz_convert(\"US/Eastern\")\n",
    "    )\n",
    "    \n",
    "    # Create a true datetime column (remove timezone if you prefer naive datetime)\n",
    "    df[\"Date\"] = df[\"DateReported_dt\"].dt.tz_localize(None)\n",
    "\n",
    "    # Optionally, create a separate string-formatted column\n",
    "    df[\"DateString\"] = df[\"DateReported_dt\"].dt.strftime(\"%Y-%m-%d %I:%M:%S %p\")\n",
    "    \n",
    "    # DayOfWeek\n",
    "    df[\"DayOfWeek\"] = df[\"DateReported_dt\"].dt.day_name()\n",
    "    \n",
    "    # Weekend\n",
    "    df[\"Weekend\"] = df[\"DayOfWeek\"].isin([\"Saturday\", \"Sunday\"])\n",
    "    \n",
    "    # Helper function to determine the season\n",
    "    def get_season(dt):\n",
    "        month = dt.month\n",
    "        day = dt.day\n",
    "        # Approximate Northern Hemisphere season boundaries:\n",
    "        if (month == 12 and day >= 21) or (month < 3) or (month == 3 and day < 20):\n",
    "            return \"Winter\"\n",
    "        elif (month == 3 and day >= 20) or (month < 6) or (month == 6 and day < 21):\n",
    "            return \"Spring\"\n",
    "        elif (month == 6 and day >= 21) or (month < 9) or (month == 9 and day < 22):\n",
    "            return \"Summer\"\n",
    "        else:\n",
    "            return \"Autumn\"\n",
    "    \n",
    "    df[\"Season\"] = df[\"DateReported_dt\"].apply(get_season)\n",
    "    \n",
    "    # 12-hour formatted time (HourAMPM)\n",
    "    df[\"HourAMPM\"] = df[\"DateReported_dt\"].dt.strftime(\"%I:%M %p\")\n",
    "    \n",
    "    # Extract hour (0-23) for time-of-day\n",
    "    df[\"HourValue\"] = df[\"DateReported_dt\"].dt.hour\n",
    "    \n",
    "    def time_of_day(hour):\n",
    "        if pd.isnull(hour):\n",
    "            return None\n",
    "        if 5 <= hour < 12:\n",
    "            return \"Morning\"\n",
    "        elif 12 <= hour < 17:\n",
    "            return \"Afternoon\"\n",
    "        elif 17 <= hour < 21:\n",
    "            return \"Evening\"\n",
    "        else:\n",
    "            return \"Night\"\n",
    "    \n",
    "    df[\"TimeOfDay\"] = df[\"HourValue\"].apply(time_of_day)\n",
    "    \n",
    "    # Drop columns you no longer need\n",
    "    df.drop(columns=[col, \"DateReported_dt\", \"HourValue\"], inplace=True)\n",
    "    \n",
    "    return df\n",
    "\n",
    "# Example usage:\n",
    "df = convert_and_categorize_datereported(df)\n",
    "df.head()\n"
   ]
  },
  {
   "cell_type": "code",
   "execution_count": 8,
   "id": "18042122",
   "metadata": {
    "execution": {
     "iopub.execute_input": "2025-06-06T01:04:58.238601Z",
     "iopub.status.busy": "2025-06-06T01:04:58.238202Z",
     "iopub.status.idle": "2025-06-06T01:04:58.267261Z",
     "shell.execute_reply": "2025-06-06T01:04:58.266533Z"
    },
    "papermill": {
     "duration": 0.034936,
     "end_time": "2025-06-06T01:04:58.268275",
     "exception": false,
     "start_time": "2025-06-06T01:04:58.233339",
     "status": "completed"
    },
    "tags": []
   },
   "outputs": [
    {
     "name": "stdout",
     "output_type": "stream",
     "text": [
      "<class 'pandas.core.frame.DataFrame'>\n",
      "RangeIndex: 25447 entries, 0 to 25446\n",
      "Data columns (total 15 columns):\n",
      " #   Column            Non-Null Count  Dtype         \n",
      "---  ------            --------------  -----         \n",
      " 0   RecordID          25447 non-null  int64         \n",
      " 1   Offense           25447 non-null  object        \n",
      " 2   IncidentID        25447 non-null  object        \n",
      " 3   BlockNumber       25447 non-null  object        \n",
      " 4   StreetName        25447 non-null  object        \n",
      " 5   Agency            25447 non-null  object        \n",
      " 6   HourReported      25447 non-null  object        \n",
      " 7   ReportingOfficer  25430 non-null  object        \n",
      " 8   Date              25447 non-null  datetime64[ns]\n",
      " 9   DateString        25447 non-null  object        \n",
      " 10  DayOfWeek         25447 non-null  object        \n",
      " 11  Weekend           25447 non-null  bool          \n",
      " 12  Season            25447 non-null  object        \n",
      " 13  HourAMPM          25447 non-null  object        \n",
      " 14  TimeOfDay         25447 non-null  object        \n",
      "dtypes: bool(1), datetime64[ns](1), int64(1), object(12)\n",
      "memory usage: 2.7+ MB\n"
     ]
    }
   ],
   "source": [
    "df.info()"
   ]
  },
  {
   "cell_type": "markdown",
   "id": "9c3f55d9",
   "metadata": {
    "papermill": {
     "duration": 0.004069,
     "end_time": "2025-06-06T01:04:58.276645",
     "exception": false,
     "start_time": "2025-06-06T01:04:58.272576",
     "status": "completed"
    },
    "tags": []
   },
   "source": [
    "### Coordinates"
   ]
  },
  {
   "cell_type": "code",
   "execution_count": 9,
   "id": "01a4bb07",
   "metadata": {
    "execution": {
     "iopub.execute_input": "2025-06-06T01:04:58.286103Z",
     "iopub.status.busy": "2025-06-06T01:04:58.285561Z",
     "iopub.status.idle": "2025-06-06T01:04:58.456188Z",
     "shell.execute_reply": "2025-06-06T01:04:58.455515Z"
    },
    "papermill": {
     "duration": 0.176516,
     "end_time": "2025-06-06T01:04:58.457329",
     "exception": false,
     "start_time": "2025-06-06T01:04:58.280813",
     "status": "completed"
    },
    "tags": []
   },
   "outputs": [
    {
     "name": "stdout",
     "output_type": "stream",
     "text": [
      "Loaded geocode cache.\n",
      "Error geocoding 1300 CARLTON AVE, 300: REQUEST_DENIED (You must enable Billing on the Google Cloud Project at https://console.cloud.google.com/project/_/billing/enable Learn more at https://developers.google.com/maps/gmp-get-started)\n",
      "Geocoded 1300 CARLTON AVE, 300: None, None\n",
      "Geocode cache updated and saved.\n"
     ]
    },
    {
     "data": {
      "text/html": [
       "<div>\n",
       "<style scoped>\n",
       "    .dataframe tbody tr th:only-of-type {\n",
       "        vertical-align: middle;\n",
       "    }\n",
       "\n",
       "    .dataframe tbody tr th {\n",
       "        vertical-align: top;\n",
       "    }\n",
       "\n",
       "    .dataframe thead th {\n",
       "        text-align: right;\n",
       "    }\n",
       "</style>\n",
       "<table border=\"1\" class=\"dataframe\">\n",
       "  <thead>\n",
       "    <tr style=\"text-align: right;\">\n",
       "      <th></th>\n",
       "      <th>RecordID</th>\n",
       "      <th>Offense</th>\n",
       "      <th>IncidentID</th>\n",
       "      <th>BlockNumber</th>\n",
       "      <th>StreetName</th>\n",
       "      <th>Agency</th>\n",
       "      <th>HourReported</th>\n",
       "      <th>ReportingOfficer</th>\n",
       "      <th>Date</th>\n",
       "      <th>DateString</th>\n",
       "      <th>DayOfWeek</th>\n",
       "      <th>Weekend</th>\n",
       "      <th>Season</th>\n",
       "      <th>HourAMPM</th>\n",
       "      <th>TimeOfDay</th>\n",
       "      <th>FullStreet</th>\n",
       "      <th>lat</th>\n",
       "      <th>lon</th>\n",
       "    </tr>\n",
       "  </thead>\n",
       "  <tbody>\n",
       "    <tr>\n",
       "      <th>0</th>\n",
       "      <td>1</td>\n",
       "      <td>Assault Intimidation</td>\n",
       "      <td>202500018987</td>\n",
       "      <td>1700</td>\n",
       "      <td>ALLIED ST</td>\n",
       "      <td>CPD</td>\n",
       "      <td>1950</td>\n",
       "      <td>Hudson, Jesse</td>\n",
       "      <td>2025-06-03 19:50:00</td>\n",
       "      <td>2025-06-03 07:50:00 PM</td>\n",
       "      <td>Tuesday</td>\n",
       "      <td>False</td>\n",
       "      <td>Spring</td>\n",
       "      <td>07:50 PM</td>\n",
       "      <td>Evening</td>\n",
       "      <td>1700 ALLIED ST</td>\n",
       "      <td>38.040571</td>\n",
       "      <td>-78.477915</td>\n",
       "    </tr>\n",
       "    <tr>\n",
       "      <th>1</th>\n",
       "      <td>2</td>\n",
       "      <td>Hit and Run</td>\n",
       "      <td>202500018956</td>\n",
       "      <td>700</td>\n",
       "      <td>CHARLTON AVE</td>\n",
       "      <td>CPD</td>\n",
       "      <td>1626</td>\n",
       "      <td>Brannon, Devin</td>\n",
       "      <td>2025-06-03 16:26:01</td>\n",
       "      <td>2025-06-03 04:26:01 PM</td>\n",
       "      <td>Tuesday</td>\n",
       "      <td>False</td>\n",
       "      <td>Spring</td>\n",
       "      <td>04:26 PM</td>\n",
       "      <td>Afternoon</td>\n",
       "      <td>700 CHARLTON AVE</td>\n",
       "      <td>38.037597</td>\n",
       "      <td>-78.485659</td>\n",
       "    </tr>\n",
       "    <tr>\n",
       "      <th>2</th>\n",
       "      <td>3</td>\n",
       "      <td>Larceny - All Other</td>\n",
       "      <td>202500018955</td>\n",
       "      <td>800</td>\n",
       "      <td>W MAIN ST</td>\n",
       "      <td>CPD</td>\n",
       "      <td>1557</td>\n",
       "      <td>Kinney, Dylan</td>\n",
       "      <td>2025-06-03 15:57:03</td>\n",
       "      <td>2025-06-03 03:57:03 PM</td>\n",
       "      <td>Tuesday</td>\n",
       "      <td>False</td>\n",
       "      <td>Spring</td>\n",
       "      <td>03:57 PM</td>\n",
       "      <td>Afternoon</td>\n",
       "      <td>800 W MAIN ST</td>\n",
       "      <td>38.031480</td>\n",
       "      <td>-78.490333</td>\n",
       "    </tr>\n",
       "    <tr>\n",
       "      <th>3</th>\n",
       "      <td>4</td>\n",
       "      <td>Hit and Run</td>\n",
       "      <td>202500018957</td>\n",
       "      <td></td>\n",
       "      <td>EMMET ST N @ RAMP</td>\n",
       "      <td>CPD</td>\n",
       "      <td>1547</td>\n",
       "      <td>Mian, Ghulam</td>\n",
       "      <td>2025-06-03 15:47:28</td>\n",
       "      <td>2025-06-03 03:47:28 PM</td>\n",
       "      <td>Tuesday</td>\n",
       "      <td>False</td>\n",
       "      <td>Spring</td>\n",
       "      <td>03:47 PM</td>\n",
       "      <td>Afternoon</td>\n",
       "      <td>EMMET ST N @ RAMP</td>\n",
       "      <td>38.051725</td>\n",
       "      <td>-78.500087</td>\n",
       "    </tr>\n",
       "    <tr>\n",
       "      <th>4</th>\n",
       "      <td>5</td>\n",
       "      <td>Warrant Service</td>\n",
       "      <td>202500018937</td>\n",
       "      <td>100</td>\n",
       "      <td>7TH ST NE</td>\n",
       "      <td>CPD</td>\n",
       "      <td>1435</td>\n",
       "      <td>Ryan, Matthew</td>\n",
       "      <td>2025-06-03 14:35:01</td>\n",
       "      <td>2025-06-03 02:35:01 PM</td>\n",
       "      <td>Tuesday</td>\n",
       "      <td>False</td>\n",
       "      <td>Spring</td>\n",
       "      <td>02:35 PM</td>\n",
       "      <td>Afternoon</td>\n",
       "      <td>100 7TH ST NE</td>\n",
       "      <td>38.029771</td>\n",
       "      <td>-78.476525</td>\n",
       "    </tr>\n",
       "  </tbody>\n",
       "</table>\n",
       "</div>"
      ],
      "text/plain": [
       "   RecordID               Offense    IncidentID BlockNumber  \\\n",
       "0         1  Assault Intimidation  202500018987        1700   \n",
       "1         2           Hit and Run  202500018956         700   \n",
       "2         3   Larceny - All Other  202500018955         800   \n",
       "3         4           Hit and Run  202500018957               \n",
       "4         5       Warrant Service  202500018937         100   \n",
       "\n",
       "          StreetName Agency HourReported ReportingOfficer                Date  \\\n",
       "0          ALLIED ST    CPD         1950    Hudson, Jesse 2025-06-03 19:50:00   \n",
       "1       CHARLTON AVE    CPD         1626   Brannon, Devin 2025-06-03 16:26:01   \n",
       "2          W MAIN ST    CPD         1557    Kinney, Dylan 2025-06-03 15:57:03   \n",
       "3  EMMET ST N @ RAMP    CPD         1547     Mian, Ghulam 2025-06-03 15:47:28   \n",
       "4          7TH ST NE    CPD         1435    Ryan, Matthew 2025-06-03 14:35:01   \n",
       "\n",
       "               DateString DayOfWeek  Weekend  Season  HourAMPM  TimeOfDay  \\\n",
       "0  2025-06-03 07:50:00 PM   Tuesday    False  Spring  07:50 PM    Evening   \n",
       "1  2025-06-03 04:26:01 PM   Tuesday    False  Spring  04:26 PM  Afternoon   \n",
       "2  2025-06-03 03:57:03 PM   Tuesday    False  Spring  03:57 PM  Afternoon   \n",
       "3  2025-06-03 03:47:28 PM   Tuesday    False  Spring  03:47 PM  Afternoon   \n",
       "4  2025-06-03 02:35:01 PM   Tuesday    False  Spring  02:35 PM  Afternoon   \n",
       "\n",
       "           FullStreet        lat        lon  \n",
       "0      1700 ALLIED ST  38.040571 -78.477915  \n",
       "1    700 CHARLTON AVE  38.037597 -78.485659  \n",
       "2       800 W MAIN ST  38.031480 -78.490333  \n",
       "3   EMMET ST N @ RAMP  38.051725 -78.500087  \n",
       "4       100 7TH ST NE  38.029771 -78.476525  "
      ]
     },
     "execution_count": 9,
     "metadata": {},
     "output_type": "execute_result"
    }
   ],
   "source": [
    "# Combine BlockNumber and StreetName into a full address string\n",
    "df['FullStreet'] = df['BlockNumber'].astype(str) + \" \" + df['StreetName']\n",
    "\n",
    "# --- Step 1: Setup the Google Maps Client and Cache ---\n",
    "gmaps = googlemaps.Client(key=GOOGLE_API_KEY)\n",
    "\n",
    "# Try to load cached geocoding results if available.\n",
    "try:\n",
    "    with open(\"geocode_cache_google.pkl\", \"rb\") as f:\n",
    "        street_coords = pickle.load(f)\n",
    "    print(\"Loaded geocode cache.\")\n",
    "except FileNotFoundError:\n",
    "    street_coords = {}\n",
    "    print(\"No cache found; starting fresh.\")\n",
    "\n",
    "def geocode_address(address):\n",
    "    try:\n",
    "        # Append city and state to help geocoding\n",
    "        result = gmaps.geocode(f\"{address}, Charlottesville, VA\")\n",
    "        if result:\n",
    "            lat = result[0]['geometry']['location']['lat']\n",
    "            lon = result[0]['geometry']['location']['lng']\n",
    "            return lat, lon\n",
    "    except Exception as e:\n",
    "        print(f\"Error geocoding {address}: {e}\")\n",
    "    return None, None\n",
    "\n",
    "# --- Step 2: Geocode Only New Addresses ---\n",
    "unique_addresses = df['FullStreet'].unique()\n",
    "for address in unique_addresses:\n",
    "    if address not in street_coords:\n",
    "        lat, lon = geocode_address(address)\n",
    "        street_coords[address] = (lat, lon)\n",
    "        print(f\"Geocoded {address}: {lat}, {lon}\")\n",
    "\n",
    "# Save the updated cache to disk.\n",
    "with open(\"geocode_cache_google.pkl\", \"wb\") as f:\n",
    "    pickle.dump(street_coords, f)\n",
    "    print(\"Geocode cache updated and saved.\")\n",
    "\n",
    "# --- Step 3: Map Coordinates Back to DataFrame ---\n",
    "df['lat'] = df['FullStreet'].map(lambda s: street_coords.get(s, (None, None))[0])\n",
    "df['lon'] = df['FullStreet'].map(lambda s: street_coords.get(s, (None, None))[1])\n",
    "\n",
    "df.head()"
   ]
  },
  {
   "cell_type": "markdown",
   "id": "fc02f293",
   "metadata": {
    "papermill": {
     "duration": 0.004501,
     "end_time": "2025-06-06T01:04:58.466688",
     "exception": false,
     "start_time": "2025-06-06T01:04:58.462187",
     "status": "completed"
    },
    "tags": []
   },
   "source": [
    "### Neighborhood"
   ]
  },
  {
   "cell_type": "code",
   "execution_count": 10,
   "id": "2f2affd4",
   "metadata": {
    "execution": {
     "iopub.execute_input": "2025-06-06T01:04:58.476738Z",
     "iopub.status.busy": "2025-06-06T01:04:58.476306Z",
     "iopub.status.idle": "2025-06-06T01:04:59.065103Z",
     "shell.execute_reply": "2025-06-06T01:04:59.064473Z"
    },
    "papermill": {
     "duration": 0.595021,
     "end_time": "2025-06-06T01:04:59.066196",
     "exception": false,
     "start_time": "2025-06-06T01:04:58.471175",
     "status": "completed"
    },
    "tags": []
   },
   "outputs": [
    {
     "name": "stdout",
     "output_type": "stream",
     "text": [
      "Loaded neighborhood cache.\n"
     ]
    },
    {
     "name": "stdout",
     "output_type": "stream",
     "text": [
      "Error getting neighborhood for nan, nan: HTTP Error: 400\n",
      "Error getting neighborhood for nan, nan: HTTP Error: 400\n",
      "Error getting neighborhood for nan, nan: HTTP Error: 400\n"
     ]
    },
    {
     "name": "stdout",
     "output_type": "stream",
     "text": [
      "Error getting neighborhood for nan, nan: HTTP Error: 400\n",
      "Error getting neighborhood for nan, nan: HTTP Error: 400\n"
     ]
    },
    {
     "name": "stdout",
     "output_type": "stream",
     "text": [
      "Error getting neighborhood for nan, nan: HTTP Error: 400\n",
      "Error getting neighborhood for nan, nan: HTTP Error: 400\n",
      "Error getting neighborhood for nan, nan: HTTP Error: 400\n"
     ]
    },
    {
     "data": {
      "text/html": [
       "<div>\n",
       "<style scoped>\n",
       "    .dataframe tbody tr th:only-of-type {\n",
       "        vertical-align: middle;\n",
       "    }\n",
       "\n",
       "    .dataframe tbody tr th {\n",
       "        vertical-align: top;\n",
       "    }\n",
       "\n",
       "    .dataframe thead th {\n",
       "        text-align: right;\n",
       "    }\n",
       "</style>\n",
       "<table border=\"1\" class=\"dataframe\">\n",
       "  <thead>\n",
       "    <tr style=\"text-align: right;\">\n",
       "      <th></th>\n",
       "      <th>RecordID</th>\n",
       "      <th>Offense</th>\n",
       "      <th>IncidentID</th>\n",
       "      <th>BlockNumber</th>\n",
       "      <th>StreetName</th>\n",
       "      <th>Agency</th>\n",
       "      <th>HourReported</th>\n",
       "      <th>ReportingOfficer</th>\n",
       "      <th>Date</th>\n",
       "      <th>DateString</th>\n",
       "      <th>DayOfWeek</th>\n",
       "      <th>Weekend</th>\n",
       "      <th>Season</th>\n",
       "      <th>HourAMPM</th>\n",
       "      <th>TimeOfDay</th>\n",
       "      <th>FullStreet</th>\n",
       "      <th>lat</th>\n",
       "      <th>lon</th>\n",
       "      <th>neighborhood</th>\n",
       "    </tr>\n",
       "  </thead>\n",
       "  <tbody>\n",
       "    <tr>\n",
       "      <th>0</th>\n",
       "      <td>1</td>\n",
       "      <td>Assault Intimidation</td>\n",
       "      <td>202500018987</td>\n",
       "      <td>1700</td>\n",
       "      <td>ALLIED ST</td>\n",
       "      <td>CPD</td>\n",
       "      <td>1950</td>\n",
       "      <td>Hudson, Jesse</td>\n",
       "      <td>2025-06-03 19:50:00</td>\n",
       "      <td>2025-06-03 07:50:00 PM</td>\n",
       "      <td>Tuesday</td>\n",
       "      <td>False</td>\n",
       "      <td>Spring</td>\n",
       "      <td>07:50 PM</td>\n",
       "      <td>Evening</td>\n",
       "      <td>1700 ALLIED ST</td>\n",
       "      <td>38.040571</td>\n",
       "      <td>-78.477915</td>\n",
       "      <td>North Downtown</td>\n",
       "    </tr>\n",
       "    <tr>\n",
       "      <th>1</th>\n",
       "      <td>2</td>\n",
       "      <td>Hit and Run</td>\n",
       "      <td>202500018956</td>\n",
       "      <td>700</td>\n",
       "      <td>CHARLTON AVE</td>\n",
       "      <td>CPD</td>\n",
       "      <td>1626</td>\n",
       "      <td>Brannon, Devin</td>\n",
       "      <td>2025-06-03 16:26:01</td>\n",
       "      <td>2025-06-03 04:26:01 PM</td>\n",
       "      <td>Tuesday</td>\n",
       "      <td>False</td>\n",
       "      <td>Spring</td>\n",
       "      <td>04:26 PM</td>\n",
       "      <td>Afternoon</td>\n",
       "      <td>700 CHARLTON AVE</td>\n",
       "      <td>38.037597</td>\n",
       "      <td>-78.485659</td>\n",
       "      <td>Rose Hill</td>\n",
       "    </tr>\n",
       "    <tr>\n",
       "      <th>2</th>\n",
       "      <td>3</td>\n",
       "      <td>Larceny - All Other</td>\n",
       "      <td>202500018955</td>\n",
       "      <td>800</td>\n",
       "      <td>W MAIN ST</td>\n",
       "      <td>CPD</td>\n",
       "      <td>1557</td>\n",
       "      <td>Kinney, Dylan</td>\n",
       "      <td>2025-06-03 15:57:03</td>\n",
       "      <td>2025-06-03 03:57:03 PM</td>\n",
       "      <td>Tuesday</td>\n",
       "      <td>False</td>\n",
       "      <td>Spring</td>\n",
       "      <td>03:57 PM</td>\n",
       "      <td>Afternoon</td>\n",
       "      <td>800 W MAIN ST</td>\n",
       "      <td>38.031480</td>\n",
       "      <td>-78.490333</td>\n",
       "      <td>Starr Hill</td>\n",
       "    </tr>\n",
       "    <tr>\n",
       "      <th>3</th>\n",
       "      <td>4</td>\n",
       "      <td>Hit and Run</td>\n",
       "      <td>202500018957</td>\n",
       "      <td></td>\n",
       "      <td>EMMET ST N @ RAMP</td>\n",
       "      <td>CPD</td>\n",
       "      <td>1547</td>\n",
       "      <td>Mian, Ghulam</td>\n",
       "      <td>2025-06-03 15:47:28</td>\n",
       "      <td>2025-06-03 03:47:28 PM</td>\n",
       "      <td>Tuesday</td>\n",
       "      <td>False</td>\n",
       "      <td>Spring</td>\n",
       "      <td>03:47 PM</td>\n",
       "      <td>Afternoon</td>\n",
       "      <td>EMMET ST N @ RAMP</td>\n",
       "      <td>38.051725</td>\n",
       "      <td>-78.500087</td>\n",
       "      <td>Barracks Road</td>\n",
       "    </tr>\n",
       "    <tr>\n",
       "      <th>4</th>\n",
       "      <td>5</td>\n",
       "      <td>Warrant Service</td>\n",
       "      <td>202500018937</td>\n",
       "      <td>100</td>\n",
       "      <td>7TH ST NE</td>\n",
       "      <td>CPD</td>\n",
       "      <td>1435</td>\n",
       "      <td>Ryan, Matthew</td>\n",
       "      <td>2025-06-03 14:35:01</td>\n",
       "      <td>2025-06-03 02:35:01 PM</td>\n",
       "      <td>Tuesday</td>\n",
       "      <td>False</td>\n",
       "      <td>Spring</td>\n",
       "      <td>02:35 PM</td>\n",
       "      <td>Afternoon</td>\n",
       "      <td>100 7TH ST NE</td>\n",
       "      <td>38.029771</td>\n",
       "      <td>-78.476525</td>\n",
       "      <td>Downtown Mall</td>\n",
       "    </tr>\n",
       "  </tbody>\n",
       "</table>\n",
       "</div>"
      ],
      "text/plain": [
       "   RecordID               Offense    IncidentID BlockNumber  \\\n",
       "0         1  Assault Intimidation  202500018987        1700   \n",
       "1         2           Hit and Run  202500018956         700   \n",
       "2         3   Larceny - All Other  202500018955         800   \n",
       "3         4           Hit and Run  202500018957               \n",
       "4         5       Warrant Service  202500018937         100   \n",
       "\n",
       "          StreetName Agency HourReported ReportingOfficer                Date  \\\n",
       "0          ALLIED ST    CPD         1950    Hudson, Jesse 2025-06-03 19:50:00   \n",
       "1       CHARLTON AVE    CPD         1626   Brannon, Devin 2025-06-03 16:26:01   \n",
       "2          W MAIN ST    CPD         1557    Kinney, Dylan 2025-06-03 15:57:03   \n",
       "3  EMMET ST N @ RAMP    CPD         1547     Mian, Ghulam 2025-06-03 15:47:28   \n",
       "4          7TH ST NE    CPD         1435    Ryan, Matthew 2025-06-03 14:35:01   \n",
       "\n",
       "               DateString DayOfWeek  Weekend  Season  HourAMPM  TimeOfDay  \\\n",
       "0  2025-06-03 07:50:00 PM   Tuesday    False  Spring  07:50 PM    Evening   \n",
       "1  2025-06-03 04:26:01 PM   Tuesday    False  Spring  04:26 PM  Afternoon   \n",
       "2  2025-06-03 03:57:03 PM   Tuesday    False  Spring  03:57 PM  Afternoon   \n",
       "3  2025-06-03 03:47:28 PM   Tuesday    False  Spring  03:47 PM  Afternoon   \n",
       "4  2025-06-03 02:35:01 PM   Tuesday    False  Spring  02:35 PM  Afternoon   \n",
       "\n",
       "           FullStreet        lat        lon    neighborhood  \n",
       "0      1700 ALLIED ST  38.040571 -78.477915  North Downtown  \n",
       "1    700 CHARLTON AVE  38.037597 -78.485659       Rose Hill  \n",
       "2       800 W MAIN ST  38.031480 -78.490333      Starr Hill  \n",
       "3   EMMET ST N @ RAMP  38.051725 -78.500087   Barracks Road  \n",
       "4       100 7TH ST NE  38.029771 -78.476525   Downtown Mall  "
      ]
     },
     "execution_count": 10,
     "metadata": {},
     "output_type": "execute_result"
    }
   ],
   "source": [
    "# Initialize the Google Maps client.\n",
    "gmaps = googlemaps.Client(key=GOOGLE_API_KEY)\n",
    "\n",
    "# Try to load a persistent neighborhood cache if available.\n",
    "try:\n",
    "    with open(\"neighborhood_cache.pkl\", \"rb\") as f:\n",
    "        neighborhood_cache = pickle.load(f)\n",
    "    print(\"Loaded neighborhood cache.\")\n",
    "except FileNotFoundError:\n",
    "    neighborhood_cache = {}\n",
    "    print(\"No neighborhood cache found; starting fresh.\")\n",
    "\n",
    "def get_neighborhood(lat, lon):\n",
    "    \"\"\"\n",
    "    Reverse geocodes a latitude and longitude to retrieve the neighborhood.\n",
    "    Caches results to speed up subsequent lookups.\n",
    "    \"\"\"\n",
    "    key = (lat, lon)\n",
    "    if key in neighborhood_cache:\n",
    "        return neighborhood_cache[key]\n",
    "    \n",
    "    try:\n",
    "        result = gmaps.reverse_geocode((lat, lon))\n",
    "        if result:\n",
    "            # Look for the 'neighborhood' component in the first result.\n",
    "            for component in result[0]['address_components']:\n",
    "                if 'neighborhood' in component['types']:\n",
    "                    neighborhood = component['long_name']\n",
    "                    neighborhood_cache[key] = neighborhood\n",
    "                    return neighborhood\n",
    "            # If no neighborhood is found, return \"N/A\"\n",
    "            neighborhood_cache[key] = \"N/A\"\n",
    "            return \"N/A\"\n",
    "    except Exception as e:\n",
    "        print(f\"Error getting neighborhood for {lat}, {lon}: {e}\")\n",
    "        return \"N/A\"\n",
    "    \n",
    "    # Pause to respect usage limits.\n",
    "    time.sleep(1)\n",
    "\n",
    "# Example usage: Apply to your DataFrame 'df' that already has 'lat' and 'lon' columns.\n",
    "df['neighborhood'] = df.apply(lambda row: get_neighborhood(row['lat'], row['lon']), axis=1)\n",
    "\n",
    "# Save the updated neighborhood cache.\n",
    "with open(\"neighborhood_cache.pkl\", \"wb\") as f:\n",
    "    pickle.dump(neighborhood_cache, f)\n",
    "\n",
    "df.head()\n"
   ]
  },
  {
   "cell_type": "markdown",
   "id": "3cc4c900",
   "metadata": {
    "papermill": {
     "duration": 0.004775,
     "end_time": "2025-06-06T01:04:59.076386",
     "exception": false,
     "start_time": "2025-06-06T01:04:59.071611",
     "status": "completed"
    },
    "tags": []
   },
   "source": [
    "### Zip"
   ]
  },
  {
   "cell_type": "code",
   "execution_count": 11,
   "id": "7c22edb0",
   "metadata": {
    "execution": {
     "iopub.execute_input": "2025-06-06T01:04:59.086984Z",
     "iopub.status.busy": "2025-06-06T01:04:59.086778Z",
     "iopub.status.idle": "2025-06-06T01:05:07.336613Z",
     "shell.execute_reply": "2025-06-06T01:05:07.335944Z"
    },
    "papermill": {
     "duration": 8.256595,
     "end_time": "2025-06-06T01:05:07.337751",
     "exception": false,
     "start_time": "2025-06-06T01:04:59.081156",
     "status": "completed"
    },
    "tags": []
   },
   "outputs": [
    {
     "name": "stdout",
     "output_type": "stream",
     "text": [
      "Loaded zip cache.\n",
      "Error getting ZIP for nan, nan: Must be a coordinate pair or Point\n"
     ]
    },
    {
     "name": "stdout",
     "output_type": "stream",
     "text": [
      "Error getting ZIP for nan, nan: Must be a coordinate pair or Point\n"
     ]
    },
    {
     "name": "stdout",
     "output_type": "stream",
     "text": [
      "Error getting ZIP for nan, nan: Must be a coordinate pair or Point\n"
     ]
    },
    {
     "name": "stdout",
     "output_type": "stream",
     "text": [
      "Error getting ZIP for nan, nan: Must be a coordinate pair or Point\n"
     ]
    },
    {
     "name": "stdout",
     "output_type": "stream",
     "text": [
      "Error getting ZIP for nan, nan: Must be a coordinate pair or Point\n"
     ]
    },
    {
     "name": "stdout",
     "output_type": "stream",
     "text": [
      "Error getting ZIP for nan, nan: Must be a coordinate pair or Point\n"
     ]
    },
    {
     "name": "stdout",
     "output_type": "stream",
     "text": [
      "Error getting ZIP for nan, nan: Must be a coordinate pair or Point\n"
     ]
    },
    {
     "name": "stdout",
     "output_type": "stream",
     "text": [
      "Error getting ZIP for nan, nan: Must be a coordinate pair or Point\n"
     ]
    },
    {
     "data": {
      "text/html": [
       "<div>\n",
       "<style scoped>\n",
       "    .dataframe tbody tr th:only-of-type {\n",
       "        vertical-align: middle;\n",
       "    }\n",
       "\n",
       "    .dataframe tbody tr th {\n",
       "        vertical-align: top;\n",
       "    }\n",
       "\n",
       "    .dataframe thead th {\n",
       "        text-align: right;\n",
       "    }\n",
       "</style>\n",
       "<table border=\"1\" class=\"dataframe\">\n",
       "  <thead>\n",
       "    <tr style=\"text-align: right;\">\n",
       "      <th></th>\n",
       "      <th>RecordID</th>\n",
       "      <th>Offense</th>\n",
       "      <th>IncidentID</th>\n",
       "      <th>BlockNumber</th>\n",
       "      <th>StreetName</th>\n",
       "      <th>Agency</th>\n",
       "      <th>HourReported</th>\n",
       "      <th>ReportingOfficer</th>\n",
       "      <th>Date</th>\n",
       "      <th>DateString</th>\n",
       "      <th>DayOfWeek</th>\n",
       "      <th>Weekend</th>\n",
       "      <th>Season</th>\n",
       "      <th>HourAMPM</th>\n",
       "      <th>TimeOfDay</th>\n",
       "      <th>FullStreet</th>\n",
       "      <th>lat</th>\n",
       "      <th>lon</th>\n",
       "      <th>neighborhood</th>\n",
       "      <th>zip</th>\n",
       "    </tr>\n",
       "  </thead>\n",
       "  <tbody>\n",
       "    <tr>\n",
       "      <th>0</th>\n",
       "      <td>1</td>\n",
       "      <td>Assault Intimidation</td>\n",
       "      <td>202500018987</td>\n",
       "      <td>1700</td>\n",
       "      <td>ALLIED ST</td>\n",
       "      <td>CPD</td>\n",
       "      <td>1950</td>\n",
       "      <td>Hudson, Jesse</td>\n",
       "      <td>2025-06-03 19:50:00</td>\n",
       "      <td>2025-06-03 07:50:00 PM</td>\n",
       "      <td>Tuesday</td>\n",
       "      <td>False</td>\n",
       "      <td>Spring</td>\n",
       "      <td>07:50 PM</td>\n",
       "      <td>Evening</td>\n",
       "      <td>1700 ALLIED ST</td>\n",
       "      <td>38.040571</td>\n",
       "      <td>-78.477915</td>\n",
       "      <td>North Downtown</td>\n",
       "      <td>22903</td>\n",
       "    </tr>\n",
       "    <tr>\n",
       "      <th>1</th>\n",
       "      <td>2</td>\n",
       "      <td>Hit and Run</td>\n",
       "      <td>202500018956</td>\n",
       "      <td>700</td>\n",
       "      <td>CHARLTON AVE</td>\n",
       "      <td>CPD</td>\n",
       "      <td>1626</td>\n",
       "      <td>Brannon, Devin</td>\n",
       "      <td>2025-06-03 16:26:01</td>\n",
       "      <td>2025-06-03 04:26:01 PM</td>\n",
       "      <td>Tuesday</td>\n",
       "      <td>False</td>\n",
       "      <td>Spring</td>\n",
       "      <td>04:26 PM</td>\n",
       "      <td>Afternoon</td>\n",
       "      <td>700 CHARLTON AVE</td>\n",
       "      <td>38.037597</td>\n",
       "      <td>-78.485659</td>\n",
       "      <td>Rose Hill</td>\n",
       "      <td>22903</td>\n",
       "    </tr>\n",
       "    <tr>\n",
       "      <th>2</th>\n",
       "      <td>3</td>\n",
       "      <td>Larceny - All Other</td>\n",
       "      <td>202500018955</td>\n",
       "      <td>800</td>\n",
       "      <td>W MAIN ST</td>\n",
       "      <td>CPD</td>\n",
       "      <td>1557</td>\n",
       "      <td>Kinney, Dylan</td>\n",
       "      <td>2025-06-03 15:57:03</td>\n",
       "      <td>2025-06-03 03:57:03 PM</td>\n",
       "      <td>Tuesday</td>\n",
       "      <td>False</td>\n",
       "      <td>Spring</td>\n",
       "      <td>03:57 PM</td>\n",
       "      <td>Afternoon</td>\n",
       "      <td>800 W MAIN ST</td>\n",
       "      <td>38.031480</td>\n",
       "      <td>-78.490333</td>\n",
       "      <td>Starr Hill</td>\n",
       "      <td>22903</td>\n",
       "    </tr>\n",
       "    <tr>\n",
       "      <th>3</th>\n",
       "      <td>4</td>\n",
       "      <td>Hit and Run</td>\n",
       "      <td>202500018957</td>\n",
       "      <td></td>\n",
       "      <td>EMMET ST N @ RAMP</td>\n",
       "      <td>CPD</td>\n",
       "      <td>1547</td>\n",
       "      <td>Mian, Ghulam</td>\n",
       "      <td>2025-06-03 15:47:28</td>\n",
       "      <td>2025-06-03 03:47:28 PM</td>\n",
       "      <td>Tuesday</td>\n",
       "      <td>False</td>\n",
       "      <td>Spring</td>\n",
       "      <td>03:47 PM</td>\n",
       "      <td>Afternoon</td>\n",
       "      <td>EMMET ST N @ RAMP</td>\n",
       "      <td>38.051725</td>\n",
       "      <td>-78.500087</td>\n",
       "      <td>Barracks Road</td>\n",
       "      <td>22905</td>\n",
       "    </tr>\n",
       "    <tr>\n",
       "      <th>4</th>\n",
       "      <td>5</td>\n",
       "      <td>Warrant Service</td>\n",
       "      <td>202500018937</td>\n",
       "      <td>100</td>\n",
       "      <td>7TH ST NE</td>\n",
       "      <td>CPD</td>\n",
       "      <td>1435</td>\n",
       "      <td>Ryan, Matthew</td>\n",
       "      <td>2025-06-03 14:35:01</td>\n",
       "      <td>2025-06-03 02:35:01 PM</td>\n",
       "      <td>Tuesday</td>\n",
       "      <td>False</td>\n",
       "      <td>Spring</td>\n",
       "      <td>02:35 PM</td>\n",
       "      <td>Afternoon</td>\n",
       "      <td>100 7TH ST NE</td>\n",
       "      <td>38.029771</td>\n",
       "      <td>-78.476525</td>\n",
       "      <td>Downtown Mall</td>\n",
       "      <td>22902</td>\n",
       "    </tr>\n",
       "  </tbody>\n",
       "</table>\n",
       "</div>"
      ],
      "text/plain": [
       "   RecordID               Offense    IncidentID BlockNumber  \\\n",
       "0         1  Assault Intimidation  202500018987        1700   \n",
       "1         2           Hit and Run  202500018956         700   \n",
       "2         3   Larceny - All Other  202500018955         800   \n",
       "3         4           Hit and Run  202500018957               \n",
       "4         5       Warrant Service  202500018937         100   \n",
       "\n",
       "          StreetName Agency HourReported ReportingOfficer                Date  \\\n",
       "0          ALLIED ST    CPD         1950    Hudson, Jesse 2025-06-03 19:50:00   \n",
       "1       CHARLTON AVE    CPD         1626   Brannon, Devin 2025-06-03 16:26:01   \n",
       "2          W MAIN ST    CPD         1557    Kinney, Dylan 2025-06-03 15:57:03   \n",
       "3  EMMET ST N @ RAMP    CPD         1547     Mian, Ghulam 2025-06-03 15:47:28   \n",
       "4          7TH ST NE    CPD         1435    Ryan, Matthew 2025-06-03 14:35:01   \n",
       "\n",
       "               DateString DayOfWeek  Weekend  Season  HourAMPM  TimeOfDay  \\\n",
       "0  2025-06-03 07:50:00 PM   Tuesday    False  Spring  07:50 PM    Evening   \n",
       "1  2025-06-03 04:26:01 PM   Tuesday    False  Spring  04:26 PM  Afternoon   \n",
       "2  2025-06-03 03:57:03 PM   Tuesday    False  Spring  03:57 PM  Afternoon   \n",
       "3  2025-06-03 03:47:28 PM   Tuesday    False  Spring  03:47 PM  Afternoon   \n",
       "4  2025-06-03 02:35:01 PM   Tuesday    False  Spring  02:35 PM  Afternoon   \n",
       "\n",
       "           FullStreet        lat        lon    neighborhood    zip  \n",
       "0      1700 ALLIED ST  38.040571 -78.477915  North Downtown  22903  \n",
       "1    700 CHARLTON AVE  38.037597 -78.485659       Rose Hill  22903  \n",
       "2       800 W MAIN ST  38.031480 -78.490333      Starr Hill  22903  \n",
       "3   EMMET ST N @ RAMP  38.051725 -78.500087   Barracks Road  22905  \n",
       "4       100 7TH ST NE  38.029771 -78.476525   Downtown Mall  22902  "
      ]
     },
     "execution_count": 11,
     "metadata": {},
     "output_type": "execute_result"
    }
   ],
   "source": [
    "# Initialize the geocoder.\n",
    "geolocator = Nominatim(user_agent=\"zip_lookup\")\n",
    "\n",
    "# Try to load a persistent ZIP cache if available.\n",
    "try:\n",
    "    with open(\"zip_cache.pkl\", \"rb\") as f:\n",
    "        zip_cache = pickle.load(f)\n",
    "    print(\"Loaded zip cache.\")\n",
    "except FileNotFoundError:\n",
    "    zip_cache = {}\n",
    "    print(\"No zip cache found; starting fresh.\")\n",
    "\n",
    "def get_zip(lat, lon):\n",
    "    \"\"\"\n",
    "    Reverse geocodes a latitude and longitude to retrieve the ZIP code.\n",
    "    Caches results to speed up subsequent lookups.\n",
    "    \"\"\"\n",
    "    key = (lat, lon)\n",
    "    if key in zip_cache:\n",
    "        return zip_cache[key]\n",
    "    \n",
    "    try:\n",
    "        location = geolocator.reverse((lat, lon), exactly_one=True, timeout=10)\n",
    "        address = location.raw.get('address', {})\n",
    "        postal_code = address.get('postcode', \"N/A\")\n",
    "    except Exception as e:\n",
    "        print(f\"Error getting ZIP for {lat}, {lon}: {e}\")\n",
    "        postal_code = \"N/A\"\n",
    "    \n",
    "    zip_cache[key] = postal_code\n",
    "    # Pause to respect the usage policy.\n",
    "    time.sleep(1)\n",
    "    return postal_code\n",
    "\n",
    "# Apply the function to each row in the DataFrame.\n",
    "df['zip'] = df.apply(lambda row: get_zip(row['lat'], row['lon']), axis=1)\n",
    "\n",
    "# Save the updated ZIP cache.\n",
    "with open(\"zip_cache.pkl\", \"wb\") as f:\n",
    "    pickle.dump(zip_cache, f)\n",
    "\n",
    "df.head()\n"
   ]
  },
  {
   "cell_type": "code",
   "execution_count": 12,
   "id": "23583521",
   "metadata": {
    "execution": {
     "iopub.execute_input": "2025-06-06T01:05:07.350129Z",
     "iopub.status.busy": "2025-06-06T01:05:07.349701Z",
     "iopub.status.idle": "2025-06-06T01:05:07.379103Z",
     "shell.execute_reply": "2025-06-06T01:05:07.378495Z"
    },
    "papermill": {
     "duration": 0.036501,
     "end_time": "2025-06-06T01:05:07.380124",
     "exception": false,
     "start_time": "2025-06-06T01:05:07.343623",
     "status": "completed"
    },
    "tags": []
   },
   "outputs": [
    {
     "name": "stdout",
     "output_type": "stream",
     "text": [
      "                  MissingCount  MissingPercentage\n",
      "RecordID                     0               0.00\n",
      "Offense                      0               0.00\n",
      "IncidentID                   0               0.00\n",
      "BlockNumber                  0               0.00\n",
      "StreetName                   0               0.00\n",
      "Agency                       0               0.00\n",
      "HourReported                 0               0.00\n",
      "ReportingOfficer            17               0.07\n",
      "Date                         0               0.00\n",
      "DateString                   0               0.00\n",
      "DayOfWeek                    0               0.00\n",
      "Weekend                      0               0.00\n",
      "Season                       0               0.00\n",
      "HourAMPM                     0               0.00\n",
      "TimeOfDay                    0               0.00\n",
      "FullStreet                   0               0.00\n",
      "lat                          8               0.03\n",
      "lon                          8               0.03\n",
      "neighborhood                 0               0.00\n",
      "zip                          0               0.00\n"
     ]
    }
   ],
   "source": [
    "missing_info = missing_percentage(df)\n",
    "print(missing_info)\n"
   ]
  },
  {
   "cell_type": "code",
   "execution_count": 13,
   "id": "d987ccad",
   "metadata": {
    "execution": {
     "iopub.execute_input": "2025-06-06T01:05:07.392449Z",
     "iopub.status.busy": "2025-06-06T01:05:07.391978Z",
     "iopub.status.idle": "2025-06-06T01:05:07.422380Z",
     "shell.execute_reply": "2025-06-06T01:05:07.421819Z"
    },
    "papermill": {
     "duration": 0.037645,
     "end_time": "2025-06-06T01:05:07.423475",
     "exception": false,
     "start_time": "2025-06-06T01:05:07.385830",
     "status": "completed"
    },
    "tags": []
   },
   "outputs": [
    {
     "name": "stdout",
     "output_type": "stream",
     "text": [
      "<class 'pandas.core.frame.DataFrame'>\n",
      "RangeIndex: 25447 entries, 0 to 25446\n",
      "Data columns (total 20 columns):\n",
      " #   Column            Non-Null Count  Dtype         \n",
      "---  ------            --------------  -----         \n",
      " 0   RecordID          25447 non-null  int64         \n",
      " 1   Offense           25447 non-null  object        \n",
      " 2   IncidentID        25447 non-null  object        \n",
      " 3   BlockNumber       25447 non-null  object        \n",
      " 4   StreetName        25447 non-null  object        \n",
      " 5   Agency            25447 non-null  object        \n",
      " 6   HourReported      25447 non-null  object        \n",
      " 7   ReportingOfficer  25430 non-null  object        \n",
      " 8   Date              25447 non-null  datetime64[ns]\n",
      " 9   DateString        25447 non-null  object        \n",
      " 10  DayOfWeek         25447 non-null  object        \n",
      " 11  Weekend           25447 non-null  bool          \n",
      " 12  Season            25447 non-null  object        \n",
      " 13  HourAMPM          25447 non-null  object        \n",
      " 14  TimeOfDay         25447 non-null  object        \n",
      " 15  FullStreet        25447 non-null  object        \n",
      " 16  lat               25439 non-null  float64       \n",
      " 17  lon               25439 non-null  float64       \n",
      " 18  neighborhood      25447 non-null  object        \n",
      " 19  zip               25447 non-null  object        \n",
      "dtypes: bool(1), datetime64[ns](1), float64(2), int64(1), object(15)\n",
      "memory usage: 3.7+ MB\n"
     ]
    }
   ],
   "source": [
    "df.info()"
   ]
  },
  {
   "cell_type": "code",
   "execution_count": 14,
   "id": "71614051",
   "metadata": {
    "execution": {
     "iopub.execute_input": "2025-06-06T01:05:07.435816Z",
     "iopub.status.busy": "2025-06-06T01:05:07.435417Z",
     "iopub.status.idle": "2025-06-06T01:05:07.482200Z",
     "shell.execute_reply": "2025-06-06T01:05:07.481508Z"
    },
    "papermill": {
     "duration": 0.054067,
     "end_time": "2025-06-06T01:05:07.483298",
     "exception": false,
     "start_time": "2025-06-06T01:05:07.429231",
     "status": "completed"
    },
    "tags": []
   },
   "outputs": [
    {
     "data": {
      "text/html": [
       "<div>\n",
       "<style scoped>\n",
       "    .dataframe tbody tr th:only-of-type {\n",
       "        vertical-align: middle;\n",
       "    }\n",
       "\n",
       "    .dataframe tbody tr th {\n",
       "        vertical-align: top;\n",
       "    }\n",
       "\n",
       "    .dataframe thead th {\n",
       "        text-align: right;\n",
       "    }\n",
       "</style>\n",
       "<table border=\"1\" class=\"dataframe\">\n",
       "  <thead>\n",
       "    <tr style=\"text-align: right;\">\n",
       "      <th></th>\n",
       "      <th>RecordID</th>\n",
       "      <th>Offense</th>\n",
       "      <th>IncidentID</th>\n",
       "      <th>Agency</th>\n",
       "      <th>ReportingOfficer</th>\n",
       "      <th>Date</th>\n",
       "      <th>DayOfWeek</th>\n",
       "      <th>Weekend</th>\n",
       "      <th>Season</th>\n",
       "      <th>TimeOfDay</th>\n",
       "      <th>FullStreet</th>\n",
       "      <th>lat</th>\n",
       "      <th>lon</th>\n",
       "      <th>neighborhood</th>\n",
       "      <th>zip</th>\n",
       "    </tr>\n",
       "  </thead>\n",
       "  <tbody>\n",
       "    <tr>\n",
       "      <th>0</th>\n",
       "      <td>1</td>\n",
       "      <td>Assault Intimidation</td>\n",
       "      <td>202500018987</td>\n",
       "      <td>CPD</td>\n",
       "      <td>Hudson, Jesse</td>\n",
       "      <td>2025-06-03 19:50:00</td>\n",
       "      <td>Tuesday</td>\n",
       "      <td>False</td>\n",
       "      <td>Spring</td>\n",
       "      <td>Evening</td>\n",
       "      <td>1700 ALLIED ST</td>\n",
       "      <td>38.040571</td>\n",
       "      <td>-78.477915</td>\n",
       "      <td>North Downtown</td>\n",
       "      <td>22903</td>\n",
       "    </tr>\n",
       "    <tr>\n",
       "      <th>1</th>\n",
       "      <td>2</td>\n",
       "      <td>Hit and Run</td>\n",
       "      <td>202500018956</td>\n",
       "      <td>CPD</td>\n",
       "      <td>Brannon, Devin</td>\n",
       "      <td>2025-06-03 16:26:01</td>\n",
       "      <td>Tuesday</td>\n",
       "      <td>False</td>\n",
       "      <td>Spring</td>\n",
       "      <td>Afternoon</td>\n",
       "      <td>700 CHARLTON AVE</td>\n",
       "      <td>38.037597</td>\n",
       "      <td>-78.485659</td>\n",
       "      <td>Rose Hill</td>\n",
       "      <td>22903</td>\n",
       "    </tr>\n",
       "    <tr>\n",
       "      <th>2</th>\n",
       "      <td>3</td>\n",
       "      <td>Larceny - All Other</td>\n",
       "      <td>202500018955</td>\n",
       "      <td>CPD</td>\n",
       "      <td>Kinney, Dylan</td>\n",
       "      <td>2025-06-03 15:57:03</td>\n",
       "      <td>Tuesday</td>\n",
       "      <td>False</td>\n",
       "      <td>Spring</td>\n",
       "      <td>Afternoon</td>\n",
       "      <td>800 W MAIN ST</td>\n",
       "      <td>38.03148</td>\n",
       "      <td>-78.490333</td>\n",
       "      <td>Starr Hill</td>\n",
       "      <td>22903</td>\n",
       "    </tr>\n",
       "    <tr>\n",
       "      <th>3</th>\n",
       "      <td>4</td>\n",
       "      <td>Hit and Run</td>\n",
       "      <td>202500018957</td>\n",
       "      <td>CPD</td>\n",
       "      <td>Mian, Ghulam</td>\n",
       "      <td>2025-06-03 15:47:28</td>\n",
       "      <td>Tuesday</td>\n",
       "      <td>False</td>\n",
       "      <td>Spring</td>\n",
       "      <td>Afternoon</td>\n",
       "      <td>EMMET ST N @ RAMP</td>\n",
       "      <td>38.051725</td>\n",
       "      <td>-78.500087</td>\n",
       "      <td>Barracks Road</td>\n",
       "      <td>22905</td>\n",
       "    </tr>\n",
       "    <tr>\n",
       "      <th>4</th>\n",
       "      <td>5</td>\n",
       "      <td>Warrant Service</td>\n",
       "      <td>202500018937</td>\n",
       "      <td>CPD</td>\n",
       "      <td>Ryan, Matthew</td>\n",
       "      <td>2025-06-03 14:35:01</td>\n",
       "      <td>Tuesday</td>\n",
       "      <td>False</td>\n",
       "      <td>Spring</td>\n",
       "      <td>Afternoon</td>\n",
       "      <td>100 7TH ST NE</td>\n",
       "      <td>38.029771</td>\n",
       "      <td>-78.476525</td>\n",
       "      <td>Downtown Mall</td>\n",
       "      <td>22902</td>\n",
       "    </tr>\n",
       "  </tbody>\n",
       "</table>\n",
       "</div>"
      ],
      "text/plain": [
       "   RecordID               Offense    IncidentID Agency ReportingOfficer  \\\n",
       "0         1  Assault Intimidation  202500018987    CPD    Hudson, Jesse   \n",
       "1         2           Hit and Run  202500018956    CPD   Brannon, Devin   \n",
       "2         3   Larceny - All Other  202500018955    CPD    Kinney, Dylan   \n",
       "3         4           Hit and Run  202500018957    CPD     Mian, Ghulam   \n",
       "4         5       Warrant Service  202500018937    CPD    Ryan, Matthew   \n",
       "\n",
       "                 Date DayOfWeek  Weekend  Season  TimeOfDay  \\\n",
       "0 2025-06-03 19:50:00   Tuesday    False  Spring    Evening   \n",
       "1 2025-06-03 16:26:01   Tuesday    False  Spring  Afternoon   \n",
       "2 2025-06-03 15:57:03   Tuesday    False  Spring  Afternoon   \n",
       "3 2025-06-03 15:47:28   Tuesday    False  Spring  Afternoon   \n",
       "4 2025-06-03 14:35:01   Tuesday    False  Spring  Afternoon   \n",
       "\n",
       "           FullStreet        lat        lon    neighborhood    zip  \n",
       "0      1700 ALLIED ST  38.040571 -78.477915  North Downtown  22903  \n",
       "1    700 CHARLTON AVE  38.037597 -78.485659       Rose Hill  22903  \n",
       "2       800 W MAIN ST   38.03148 -78.490333      Starr Hill  22903  \n",
       "3   EMMET ST N @ RAMP  38.051725 -78.500087   Barracks Road  22905  \n",
       "4       100 7TH ST NE  38.029771 -78.476525   Downtown Mall  22902  "
      ]
     },
     "execution_count": 14,
     "metadata": {},
     "output_type": "execute_result"
    }
   ],
   "source": [
    "# Now drop the original BlockNumber and StreetName columns\n",
    "df.drop(columns=['BlockNumber', 'StreetName','HourAMPM','HourReported','DateString'], inplace=True)\n",
    "df[\"zip\"] = df[\"zip\"].astype(str)\n",
    "\n",
    "# Fill all missing values in the DataFrame with \"N/A\"\n",
    "df.replace({None: \"N/A\", np.nan: \"N/A\", \"\": \"N/A\"}, inplace=True)\n",
    "df.head()"
   ]
  },
  {
   "cell_type": "code",
   "execution_count": 15,
   "id": "f6249e64",
   "metadata": {
    "execution": {
     "iopub.execute_input": "2025-06-06T01:05:07.496540Z",
     "iopub.status.busy": "2025-06-06T01:05:07.496018Z",
     "iopub.status.idle": "2025-06-06T01:05:07.517671Z",
     "shell.execute_reply": "2025-06-06T01:05:07.516971Z"
    },
    "papermill": {
     "duration": 0.029128,
     "end_time": "2025-06-06T01:05:07.518669",
     "exception": false,
     "start_time": "2025-06-06T01:05:07.489541",
     "status": "completed"
    },
    "tags": []
   },
   "outputs": [
    {
     "name": "stdout",
     "output_type": "stream",
     "text": [
      "                  MissingCount  MissingPercentage\n",
      "RecordID                     0                0.0\n",
      "Offense                      0                0.0\n",
      "IncidentID                   0                0.0\n",
      "Agency                       0                0.0\n",
      "ReportingOfficer             0                0.0\n",
      "Date                         0                0.0\n",
      "DayOfWeek                    0                0.0\n",
      "Weekend                      0                0.0\n",
      "Season                       0                0.0\n",
      "TimeOfDay                    0                0.0\n",
      "FullStreet                   0                0.0\n",
      "lat                          0                0.0\n",
      "lon                          0                0.0\n",
      "neighborhood                 0                0.0\n",
      "zip                          0                0.0\n"
     ]
    }
   ],
   "source": [
    "missing_info = missing_percentage(df)\n",
    "print(missing_info)"
   ]
  },
  {
   "cell_type": "code",
   "execution_count": 16,
   "id": "7138e18b",
   "metadata": {
    "execution": {
     "iopub.execute_input": "2025-06-06T01:05:07.531737Z",
     "iopub.status.busy": "2025-06-06T01:05:07.531278Z",
     "iopub.status.idle": "2025-06-06T01:05:07.535598Z",
     "shell.execute_reply": "2025-06-06T01:05:07.535087Z"
    },
    "papermill": {
     "duration": 0.011853,
     "end_time": "2025-06-06T01:05:07.536592",
     "exception": false,
     "start_time": "2025-06-06T01:05:07.524739",
     "status": "completed"
    },
    "tags": []
   },
   "outputs": [
    {
     "data": {
      "text/plain": [
       "Index(['RecordID', 'Offense', 'IncidentID', 'Agency', 'ReportingOfficer',\n",
       "       'Date', 'DayOfWeek', 'Weekend', 'Season', 'TimeOfDay', 'FullStreet',\n",
       "       'lat', 'lon', 'neighborhood', 'zip'],\n",
       "      dtype='object')"
      ]
     },
     "execution_count": 16,
     "metadata": {},
     "output_type": "execute_result"
    }
   ],
   "source": [
    "df.columns"
   ]
  },
  {
   "cell_type": "code",
   "execution_count": 17,
   "id": "4e1f6d13",
   "metadata": {
    "execution": {
     "iopub.execute_input": "2025-06-06T01:05:07.549469Z",
     "iopub.status.busy": "2025-06-06T01:05:07.549064Z",
     "iopub.status.idle": "2025-06-06T01:05:07.571522Z",
     "shell.execute_reply": "2025-06-06T01:05:07.570961Z"
    },
    "papermill": {
     "duration": 0.02998,
     "end_time": "2025-06-06T01:05:07.572529",
     "exception": false,
     "start_time": "2025-06-06T01:05:07.542549",
     "status": "completed"
    },
    "tags": []
   },
   "outputs": [
    {
     "name": "stdout",
     "output_type": "stream",
     "text": [
      "<class 'pandas.core.frame.DataFrame'>\n",
      "RangeIndex: 25447 entries, 0 to 25446\n",
      "Data columns (total 15 columns):\n",
      " #   Column            Non-Null Count  Dtype         \n",
      "---  ------            --------------  -----         \n",
      " 0   RecordID          25447 non-null  int64         \n",
      " 1   Offense           25447 non-null  object        \n",
      " 2   IncidentID        25447 non-null  object        \n",
      " 3   Agency            25447 non-null  object        \n",
      " 4   ReportingOfficer  25447 non-null  object        \n",
      " 5   Date              25447 non-null  datetime64[ns]\n",
      " 6   DayOfWeek         25447 non-null  object        \n",
      " 7   Weekend           25447 non-null  bool          \n",
      " 8   Season            25447 non-null  object        \n",
      " 9   TimeOfDay         25447 non-null  object        \n",
      " 10  FullStreet        25447 non-null  object        \n",
      " 11  lat               25447 non-null  object        \n",
      " 12  lon               25447 non-null  object        \n",
      " 13  neighborhood      25447 non-null  object        \n",
      " 14  zip               25447 non-null  object        \n",
      "dtypes: bool(1), datetime64[ns](1), int64(1), object(12)\n",
      "memory usage: 2.7+ MB\n"
     ]
    }
   ],
   "source": [
    "df.info()"
   ]
  },
  {
   "cell_type": "markdown",
   "id": "bc1e12cb",
   "metadata": {
    "papermill": {
     "duration": 0.005854,
     "end_time": "2025-06-06T01:05:07.584612",
     "exception": false,
     "start_time": "2025-06-06T01:05:07.578758",
     "status": "completed"
    },
    "tags": []
   },
   "source": [
    "### Export Clean Data"
   ]
  },
  {
   "cell_type": "code",
   "execution_count": 18,
   "id": "7f8e99cb",
   "metadata": {
    "execution": {
     "iopub.execute_input": "2025-06-06T01:05:07.597928Z",
     "iopub.status.busy": "2025-06-06T01:05:07.597514Z",
     "iopub.status.idle": "2025-06-06T01:05:16.969608Z",
     "shell.execute_reply": "2025-06-06T01:05:16.968871Z"
    },
    "papermill": {
     "duration": 9.380027,
     "end_time": "2025-06-06T01:05:16.970755",
     "exception": false,
     "start_time": "2025-06-06T01:05:07.590728",
     "status": "completed"
    },
    "tags": []
   },
   "outputs": [
    {
     "name": "stdout",
     "output_type": "stream",
     "text": [
      "Project Root: /home/runner/work/crime-data/crime-data\n"
     ]
    },
    {
     "name": "stdout",
     "output_type": "stream",
     "text": [
      "Data saved to: /home/runner/work/crime-data/crime-data/data/charlottesville_crime_incidents.csv\n"
     ]
    },
    {
     "name": "stdout",
     "output_type": "stream",
     "text": [
      "Excel saved to: /home/runner/work/crime-data/crime-data/data/charlottesville_crime_incidents.xlsx\n"
     ]
    }
   ],
   "source": [
    "# Determine the project root (assuming papermill is run from the repository root)\n",
    "project_root = os.getcwd()\n",
    "print(\"Project Root:\", project_root)\n",
    "\n",
    "# Set the data directory within the project root\n",
    "data_dir = os.path.join(project_root, \"data\")\n",
    "\n",
    "# Ensure the \"data\" directory exists (create it if it doesn't)\n",
    "if not os.path.exists(data_dir):\n",
    "    os.makedirs(data_dir)\n",
    "\n",
    "# Export the DataFrame to CSV in the \"data\" folder located in the project root\n",
    "csv_path = os.path.join(data_dir, \"charlottesville_crime_incidents.csv\")\n",
    "df.to_csv(csv_path, index=False)\n",
    "print(\"Data saved to:\", csv_path)\n",
    "\n",
    "# Construct the path to your Excel file\n",
    "excel_path = os.path.join(data_dir, \"charlottesville_crime_incidents.xlsx\")\n",
    "\n",
    "# Export the DataFrame to Excel\n",
    "df.to_excel(excel_path, index=False)\n",
    "print(\"Excel saved to:\", excel_path)\n"
   ]
  }
 ],
 "metadata": {
  "kernelspec": {
   "display_name": "Python 3",
   "language": "python",
   "name": "python3"
  },
  "language_info": {
   "codemirror_mode": {
    "name": "ipython",
    "version": 3
   },
   "file_extension": ".py",
   "mimetype": "text/x-python",
   "name": "python",
   "nbconvert_exporter": "python",
   "pygments_lexer": "ipython3",
   "version": "3.9.22"
  },
  "papermill": {
   "default_parameters": {},
   "duration": 89.039636,
   "end_time": "2025-06-06T01:05:17.393724",
   "environment_variables": {},
   "exception": null,
   "input_path": "notebook/Crime Data.ipynb",
   "output_path": "notebook/Crime Data_output.ipynb",
   "parameters": {},
   "start_time": "2025-06-06T01:03:48.354088",
   "version": "2.6.0"
  }
 },
 "nbformat": 4,
 "nbformat_minor": 5
}