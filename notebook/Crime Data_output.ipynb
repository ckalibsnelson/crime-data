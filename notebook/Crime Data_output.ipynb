{
 "cells": [
  {
   "cell_type": "markdown",
   "id": "ae8df635",
   "metadata": {
    "papermill": {
     "duration": 0.006314,
     "end_time": "2025-05-21T01:03:27.891471",
     "exception": false,
     "start_time": "2025-05-21T01:03:27.885157",
     "status": "completed"
    },
    "tags": []
   },
   "source": [
    "# Charlottesville Open Data Porttal: Crime Data"
   ]
  },
  {
   "cell_type": "markdown",
   "id": "a50ae3b8",
   "metadata": {
    "papermill": {
     "duration": 0.005117,
     "end_time": "2025-05-21T01:03:27.902061",
     "exception": false,
     "start_time": "2025-05-21T01:03:27.896944",
     "status": "completed"
    },
    "tags": []
   },
   "source": [
    "## Import Relevant Librarires & Set WD"
   ]
  },
  {
   "cell_type": "code",
   "execution_count": 1,
   "id": "dcbcf0b6",
   "metadata": {
    "execution": {
     "iopub.execute_input": "2025-05-21T01:03:27.913896Z",
     "iopub.status.busy": "2025-05-21T01:03:27.913244Z",
     "iopub.status.idle": "2025-05-21T01:03:28.576730Z",
     "shell.execute_reply": "2025-05-21T01:03:28.575965Z"
    },
    "papermill": {
     "duration": 0.671128,
     "end_time": "2025-05-21T01:03:28.578282",
     "exception": false,
     "start_time": "2025-05-21T01:03:27.907154",
     "status": "completed"
    },
    "tags": []
   },
   "outputs": [],
   "source": [
    "import requests\n",
    "import pandas as pd\n",
    "import numpy as np\n",
    "import pickle\n",
    "import googlemaps\n",
    "import plotly.express as px\n",
    "from geopy.geocoders import Nominatim\n",
    "import time\n",
    "from dotenv import load_dotenv\n",
    "import os\n",
    "\n",
    "env_path = os.path.join(\"..\", \".env\")\n",
    "#print(\"Looking for .env file at:\", os.path.abspath(env_path))\n",
    "load_dotenv(dotenv_path=env_path)\n",
    "\n",
    "# Retrieve the variables\n",
    "GOOGLE_API_KEY = os.getenv(\"GOOGLE_API_KEY\")\n",
    "WORKING_DIR = os.getenv(\"WORKING_DIR\")\n",
    "\n",
    "if GOOGLE_API_KEY is None or WORKING_DIR is None:\n",
    "    raise RuntimeError(\"No configuration found. Please ensure that your .env file exists with the required variables, or create a local config.py file.\")\n",
    "\n",
    "#print(\"Google API Key:\", GOOGLE_API_KEY)\n",
    "#print(\"Working Directory:\", WORKING_DIR)"
   ]
  },
  {
   "cell_type": "markdown",
   "id": "deb9ac19",
   "metadata": {
    "papermill": {
     "duration": 0.005115,
     "end_time": "2025-05-21T01:03:28.588837",
     "exception": false,
     "start_time": "2025-05-21T01:03:28.583722",
     "status": "completed"
    },
    "tags": []
   },
   "source": [
    "## Import Data\n",
    "\n",
    "URL: https://opendata.charlottesville.org/datasets/charlottesville::crime-data/about"
   ]
  },
  {
   "cell_type": "code",
   "execution_count": 2,
   "id": "6d1fd7ce",
   "metadata": {
    "execution": {
     "iopub.execute_input": "2025-05-21T01:03:28.601128Z",
     "iopub.status.busy": "2025-05-21T01:03:28.600570Z",
     "iopub.status.idle": "2025-05-21T01:04:28.164309Z",
     "shell.execute_reply": "2025-05-21T01:04:28.163593Z"
    },
    "papermill": {
     "duration": 59.600922,
     "end_time": "2025-05-21T01:04:28.195558",
     "exception": false,
     "start_time": "2025-05-21T01:03:28.594636",
     "status": "completed"
    },
    "tags": []
   },
   "outputs": [
    {
     "name": "stdout",
     "output_type": "stream",
     "text": [
      "Total records imported: 25402\n"
     ]
    }
   ],
   "source": [
    "# Define the endpoint and initial parameters.\n",
    "url = \"https://gisweb.charlottesville.org/arcgis/rest/services/OpenData_2/MapServer/6/query\"\n",
    "params = {\n",
    "    \"where\": \"1=1\",\n",
    "    \"outFields\": \"*\",\n",
    "    \"outSR\": 4326,\n",
    "    \"f\": \"json\",\n",
    "    \"resultOffset\": 0,       # Starting index for results\n",
    "    \"resultRecordCount\": 10000  # Maximum records per batch (if allowed by the API)\n",
    "}\n",
    "\n",
    "records = []\n",
    "\n",
    "while True:\n",
    "    response = requests.get(url, params=params)\n",
    "    response.raise_for_status()\n",
    "    data = response.json()\n",
    "    \n",
    "    # Get the current batch of features.\n",
    "    features = data.get(\"features\", [])\n",
    "    if not features:\n",
    "        break\n",
    "\n",
    "    # Extract the attributes from the features.\n",
    "    batch_records = [feature.get(\"attributes\", {}) for feature in features]\n",
    "    records.extend(batch_records)\n",
    "    \n",
    "    # If the batch size is less than the requested count, we reached the end.\n",
    "    if len(features) < params[\"resultRecordCount\"]:\n",
    "        break\n",
    "\n",
    "    # Update the resultOffset for the next batch.\n",
    "    params[\"resultOffset\"] += params[\"resultRecordCount\"]\n",
    "\n",
    "# Create a DataFrame from the combined records.\n",
    "df = pd.DataFrame(records)\n",
    "print(\"Total records imported:\", len(df))\n"
   ]
  },
  {
   "cell_type": "code",
   "execution_count": 3,
   "id": "eacc3765",
   "metadata": {
    "execution": {
     "iopub.execute_input": "2025-05-21T01:04:28.207630Z",
     "iopub.status.busy": "2025-05-21T01:04:28.207154Z",
     "iopub.status.idle": "2025-05-21T01:04:28.219954Z",
     "shell.execute_reply": "2025-05-21T01:04:28.219308Z"
    },
    "papermill": {
     "duration": 0.020166,
     "end_time": "2025-05-21T01:04:28.221110",
     "exception": false,
     "start_time": "2025-05-21T01:04:28.200944",
     "status": "completed"
    },
    "tags": []
   },
   "outputs": [
    {
     "data": {
      "text/html": [
       "<div>\n",
       "<style scoped>\n",
       "    .dataframe tbody tr th:only-of-type {\n",
       "        vertical-align: middle;\n",
       "    }\n",
       "\n",
       "    .dataframe tbody tr th {\n",
       "        vertical-align: top;\n",
       "    }\n",
       "\n",
       "    .dataframe thead th {\n",
       "        text-align: right;\n",
       "    }\n",
       "</style>\n",
       "<table border=\"1\" class=\"dataframe\">\n",
       "  <thead>\n",
       "    <tr style=\"text-align: right;\">\n",
       "      <th></th>\n",
       "      <th>RecordID</th>\n",
       "      <th>Offense</th>\n",
       "      <th>IncidentID</th>\n",
       "      <th>BlockNumber</th>\n",
       "      <th>StreetName</th>\n",
       "      <th>Agency</th>\n",
       "      <th>DateReported</th>\n",
       "      <th>HourReported</th>\n",
       "      <th>ReportingOfficer</th>\n",
       "    </tr>\n",
       "  </thead>\n",
       "  <tbody>\n",
       "    <tr>\n",
       "      <th>0</th>\n",
       "      <td>1</td>\n",
       "      <td>Vandalism</td>\n",
       "      <td>202500016984</td>\n",
       "      <td>900</td>\n",
       "      <td>2ND ST SE</td>\n",
       "      <td>CPD</td>\n",
       "      <td>1747619313000</td>\n",
       "      <td>2148</td>\n",
       "      <td>Vlasis, Christopher</td>\n",
       "    </tr>\n",
       "    <tr>\n",
       "      <th>1</th>\n",
       "      <td>2</td>\n",
       "      <td>Drunkeness DIP</td>\n",
       "      <td>202500016981</td>\n",
       "      <td>600</td>\n",
       "      <td>PRESTON AVE</td>\n",
       "      <td>CPD</td>\n",
       "      <td>1747618597000</td>\n",
       "      <td>2136</td>\n",
       "      <td>Rigsby, Lloyd</td>\n",
       "    </tr>\n",
       "    <tr>\n",
       "      <th>2</th>\n",
       "      <td>3</td>\n",
       "      <td>Accident Property Damage</td>\n",
       "      <td>202500016965</td>\n",
       "      <td>200</td>\n",
       "      <td>RIDGE MCINTIRE RD</td>\n",
       "      <td>CPD</td>\n",
       "      <td>1747611035000</td>\n",
       "      <td>1930</td>\n",
       "      <td>Crowley, Raeann</td>\n",
       "    </tr>\n",
       "    <tr>\n",
       "      <th>3</th>\n",
       "      <td>4</td>\n",
       "      <td>Hit and Run</td>\n",
       "      <td>202500016946</td>\n",
       "      <td>400</td>\n",
       "      <td>ALTAMONT ST</td>\n",
       "      <td>CPD</td>\n",
       "      <td>1747603527000</td>\n",
       "      <td>1725</td>\n",
       "      <td>Curry, Brian</td>\n",
       "    </tr>\n",
       "    <tr>\n",
       "      <th>4</th>\n",
       "      <td>5</td>\n",
       "      <td>Assault Simple</td>\n",
       "      <td>202500016939</td>\n",
       "      <td>900</td>\n",
       "      <td>PRESTON AVE</td>\n",
       "      <td>CPD</td>\n",
       "      <td>1747600807000</td>\n",
       "      <td>1640</td>\n",
       "      <td>Curry, Brian</td>\n",
       "    </tr>\n",
       "  </tbody>\n",
       "</table>\n",
       "</div>"
      ],
      "text/plain": [
       "   RecordID                   Offense    IncidentID BlockNumber  \\\n",
       "0         1                 Vandalism  202500016984         900   \n",
       "1         2            Drunkeness DIP  202500016981         600   \n",
       "2         3  Accident Property Damage  202500016965         200   \n",
       "3         4               Hit and Run  202500016946         400   \n",
       "4         5            Assault Simple  202500016939         900   \n",
       "\n",
       "          StreetName Agency   DateReported HourReported     ReportingOfficer  \n",
       "0          2ND ST SE    CPD  1747619313000         2148  Vlasis, Christopher  \n",
       "1        PRESTON AVE    CPD  1747618597000         2136        Rigsby, Lloyd  \n",
       "2  RIDGE MCINTIRE RD    CPD  1747611035000         1930      Crowley, Raeann  \n",
       "3        ALTAMONT ST    CPD  1747603527000         1725         Curry, Brian  \n",
       "4        PRESTON AVE    CPD  1747600807000         1640         Curry, Brian  "
      ]
     },
     "execution_count": 3,
     "metadata": {},
     "output_type": "execute_result"
    }
   ],
   "source": [
    "df.head()"
   ]
  },
  {
   "cell_type": "code",
   "execution_count": 4,
   "id": "cdd1f66a",
   "metadata": {
    "execution": {
     "iopub.execute_input": "2025-05-21T01:04:28.233203Z",
     "iopub.status.busy": "2025-05-21T01:04:28.232659Z",
     "iopub.status.idle": "2025-05-21T01:04:28.237333Z",
     "shell.execute_reply": "2025-05-21T01:04:28.236753Z"
    },
    "papermill": {
     "duration": 0.011831,
     "end_time": "2025-05-21T01:04:28.238420",
     "exception": false,
     "start_time": "2025-05-21T01:04:28.226589",
     "status": "completed"
    },
    "tags": []
   },
   "outputs": [
    {
     "data": {
      "text/plain": [
       "Index(['RecordID', 'Offense', 'IncidentID', 'BlockNumber', 'StreetName',\n",
       "       'Agency', 'DateReported', 'HourReported', 'ReportingOfficer'],\n",
       "      dtype='object')"
      ]
     },
     "execution_count": 4,
     "metadata": {},
     "output_type": "execute_result"
    }
   ],
   "source": [
    "df.columns"
   ]
  },
  {
   "cell_type": "code",
   "execution_count": 5,
   "id": "ad0642d1",
   "metadata": {
    "execution": {
     "iopub.execute_input": "2025-05-21T01:04:28.250449Z",
     "iopub.status.busy": "2025-05-21T01:04:28.250238Z",
     "iopub.status.idle": "2025-05-21T01:04:28.274066Z",
     "shell.execute_reply": "2025-05-21T01:04:28.273405Z"
    },
    "papermill": {
     "duration": 0.031189,
     "end_time": "2025-05-21T01:04:28.275218",
     "exception": false,
     "start_time": "2025-05-21T01:04:28.244029",
     "status": "completed"
    },
    "tags": []
   },
   "outputs": [
    {
     "name": "stdout",
     "output_type": "stream",
     "text": [
      "<class 'pandas.core.frame.DataFrame'>\n",
      "RangeIndex: 25402 entries, 0 to 25401\n",
      "Data columns (total 9 columns):\n",
      " #   Column            Non-Null Count  Dtype \n",
      "---  ------            --------------  ----- \n",
      " 0   RecordID          25402 non-null  int64 \n",
      " 1   Offense           25402 non-null  object\n",
      " 2   IncidentID        25402 non-null  object\n",
      " 3   BlockNumber       25402 non-null  object\n",
      " 4   StreetName        25402 non-null  object\n",
      " 5   Agency            25402 non-null  object\n",
      " 6   DateReported      25402 non-null  int64 \n",
      " 7   HourReported      25402 non-null  object\n",
      " 8   ReportingOfficer  25385 non-null  object\n",
      "dtypes: int64(2), object(7)\n",
      "memory usage: 1.7+ MB\n"
     ]
    }
   ],
   "source": [
    "df.info()"
   ]
  },
  {
   "cell_type": "markdown",
   "id": "d3ede626",
   "metadata": {
    "papermill": {
     "duration": 0.005545,
     "end_time": "2025-05-21T01:04:28.286510",
     "exception": false,
     "start_time": "2025-05-21T01:04:28.280965",
     "status": "completed"
    },
    "tags": []
   },
   "source": [
    "### Missing Values"
   ]
  },
  {
   "cell_type": "code",
   "execution_count": 6,
   "id": "e5799ee8",
   "metadata": {
    "execution": {
     "iopub.execute_input": "2025-05-21T01:04:28.298792Z",
     "iopub.status.busy": "2025-05-21T01:04:28.298369Z",
     "iopub.status.idle": "2025-05-21T01:04:28.321500Z",
     "shell.execute_reply": "2025-05-21T01:04:28.320930Z"
    },
    "papermill": {
     "duration": 0.030564,
     "end_time": "2025-05-21T01:04:28.322545",
     "exception": false,
     "start_time": "2025-05-21T01:04:28.291981",
     "status": "completed"
    },
    "tags": []
   },
   "outputs": [
    {
     "name": "stdout",
     "output_type": "stream",
     "text": [
      "                  MissingCount  MissingPercentage\n",
      "RecordID                     0               0.00\n",
      "Offense                      0               0.00\n",
      "IncidentID                   0               0.00\n",
      "BlockNumber                  0               0.00\n",
      "StreetName                   0               0.00\n",
      "Agency                       0               0.00\n",
      "DateReported                 0               0.00\n",
      "HourReported                 0               0.00\n",
      "ReportingOfficer            17               0.07\n"
     ]
    }
   ],
   "source": [
    "def missing_percentage(df):\n",
    "    \"\"\"\n",
    "    Returns a DataFrame with the count and percentage of missing values for each column.\n",
    "    \n",
    "    Parameters:\n",
    "        df (pd.DataFrame): The input DataFrame.\n",
    "    \n",
    "    Returns:\n",
    "        pd.DataFrame: A DataFrame with columns 'MissingCount' and 'MissingPercentage'.\n",
    "    \"\"\"\n",
    "    total_rows = len(df)\n",
    "    missing_count = df.isnull().sum()\n",
    "    missing_percent = (missing_count / total_rows) * 100\n",
    "    \n",
    "    result = pd.DataFrame({\n",
    "        'MissingCount': missing_count,\n",
    "        'MissingPercentage': missing_percent.round(2)\n",
    "    })\n",
    "    \n",
    "    return result\n",
    "\n",
    "# Example usage:\n",
    "missing_info = missing_percentage(df)\n",
    "print(missing_info)\n"
   ]
  },
  {
   "cell_type": "markdown",
   "id": "f9b45317",
   "metadata": {
    "papermill": {
     "duration": 0.005743,
     "end_time": "2025-05-21T01:04:28.334284",
     "exception": false,
     "start_time": "2025-05-21T01:04:28.328541",
     "status": "completed"
    },
    "tags": []
   },
   "source": [
    "## Data Preparation"
   ]
  },
  {
   "cell_type": "markdown",
   "id": "d959a8b2",
   "metadata": {
    "papermill": {
     "duration": 0.005557,
     "end_time": "2025-05-21T01:04:28.345388",
     "exception": false,
     "start_time": "2025-05-21T01:04:28.339831",
     "status": "completed"
    },
    "tags": []
   },
   "source": [
    "### Data Conversion"
   ]
  },
  {
   "cell_type": "code",
   "execution_count": 7,
   "id": "85ef76a4",
   "metadata": {
    "execution": {
     "iopub.execute_input": "2025-05-21T01:04:28.358109Z",
     "iopub.status.busy": "2025-05-21T01:04:28.357531Z",
     "iopub.status.idle": "2025-05-21T01:04:28.727222Z",
     "shell.execute_reply": "2025-05-21T01:04:28.726510Z"
    },
    "papermill": {
     "duration": 0.377375,
     "end_time": "2025-05-21T01:04:28.728356",
     "exception": false,
     "start_time": "2025-05-21T01:04:28.350981",
     "status": "completed"
    },
    "tags": []
   },
   "outputs": [
    {
     "data": {
      "text/html": [
       "<div>\n",
       "<style scoped>\n",
       "    .dataframe tbody tr th:only-of-type {\n",
       "        vertical-align: middle;\n",
       "    }\n",
       "\n",
       "    .dataframe tbody tr th {\n",
       "        vertical-align: top;\n",
       "    }\n",
       "\n",
       "    .dataframe thead th {\n",
       "        text-align: right;\n",
       "    }\n",
       "</style>\n",
       "<table border=\"1\" class=\"dataframe\">\n",
       "  <thead>\n",
       "    <tr style=\"text-align: right;\">\n",
       "      <th></th>\n",
       "      <th>RecordID</th>\n",
       "      <th>Offense</th>\n",
       "      <th>IncidentID</th>\n",
       "      <th>BlockNumber</th>\n",
       "      <th>StreetName</th>\n",
       "      <th>Agency</th>\n",
       "      <th>HourReported</th>\n",
       "      <th>ReportingOfficer</th>\n",
       "      <th>Date</th>\n",
       "      <th>DateString</th>\n",
       "      <th>DayOfWeek</th>\n",
       "      <th>Weekend</th>\n",
       "      <th>Season</th>\n",
       "      <th>HourAMPM</th>\n",
       "      <th>TimeOfDay</th>\n",
       "    </tr>\n",
       "  </thead>\n",
       "  <tbody>\n",
       "    <tr>\n",
       "      <th>0</th>\n",
       "      <td>1</td>\n",
       "      <td>Vandalism</td>\n",
       "      <td>202500016984</td>\n",
       "      <td>900</td>\n",
       "      <td>2ND ST SE</td>\n",
       "      <td>CPD</td>\n",
       "      <td>2148</td>\n",
       "      <td>Vlasis, Christopher</td>\n",
       "      <td>2025-05-18 21:48:33</td>\n",
       "      <td>2025-05-18 09:48:33 PM</td>\n",
       "      <td>Sunday</td>\n",
       "      <td>True</td>\n",
       "      <td>Spring</td>\n",
       "      <td>09:48 PM</td>\n",
       "      <td>Night</td>\n",
       "    </tr>\n",
       "    <tr>\n",
       "      <th>1</th>\n",
       "      <td>2</td>\n",
       "      <td>Drunkeness DIP</td>\n",
       "      <td>202500016981</td>\n",
       "      <td>600</td>\n",
       "      <td>PRESTON AVE</td>\n",
       "      <td>CPD</td>\n",
       "      <td>2136</td>\n",
       "      <td>Rigsby, Lloyd</td>\n",
       "      <td>2025-05-18 21:36:37</td>\n",
       "      <td>2025-05-18 09:36:37 PM</td>\n",
       "      <td>Sunday</td>\n",
       "      <td>True</td>\n",
       "      <td>Spring</td>\n",
       "      <td>09:36 PM</td>\n",
       "      <td>Night</td>\n",
       "    </tr>\n",
       "    <tr>\n",
       "      <th>2</th>\n",
       "      <td>3</td>\n",
       "      <td>Accident Property Damage</td>\n",
       "      <td>202500016965</td>\n",
       "      <td>200</td>\n",
       "      <td>RIDGE MCINTIRE RD</td>\n",
       "      <td>CPD</td>\n",
       "      <td>1930</td>\n",
       "      <td>Crowley, Raeann</td>\n",
       "      <td>2025-05-18 19:30:35</td>\n",
       "      <td>2025-05-18 07:30:35 PM</td>\n",
       "      <td>Sunday</td>\n",
       "      <td>True</td>\n",
       "      <td>Spring</td>\n",
       "      <td>07:30 PM</td>\n",
       "      <td>Evening</td>\n",
       "    </tr>\n",
       "    <tr>\n",
       "      <th>3</th>\n",
       "      <td>4</td>\n",
       "      <td>Hit and Run</td>\n",
       "      <td>202500016946</td>\n",
       "      <td>400</td>\n",
       "      <td>ALTAMONT ST</td>\n",
       "      <td>CPD</td>\n",
       "      <td>1725</td>\n",
       "      <td>Curry, Brian</td>\n",
       "      <td>2025-05-18 17:25:27</td>\n",
       "      <td>2025-05-18 05:25:27 PM</td>\n",
       "      <td>Sunday</td>\n",
       "      <td>True</td>\n",
       "      <td>Spring</td>\n",
       "      <td>05:25 PM</td>\n",
       "      <td>Evening</td>\n",
       "    </tr>\n",
       "    <tr>\n",
       "      <th>4</th>\n",
       "      <td>5</td>\n",
       "      <td>Assault Simple</td>\n",
       "      <td>202500016939</td>\n",
       "      <td>900</td>\n",
       "      <td>PRESTON AVE</td>\n",
       "      <td>CPD</td>\n",
       "      <td>1640</td>\n",
       "      <td>Curry, Brian</td>\n",
       "      <td>2025-05-18 16:40:07</td>\n",
       "      <td>2025-05-18 04:40:07 PM</td>\n",
       "      <td>Sunday</td>\n",
       "      <td>True</td>\n",
       "      <td>Spring</td>\n",
       "      <td>04:40 PM</td>\n",
       "      <td>Afternoon</td>\n",
       "    </tr>\n",
       "  </tbody>\n",
       "</table>\n",
       "</div>"
      ],
      "text/plain": [
       "   RecordID                   Offense    IncidentID BlockNumber  \\\n",
       "0         1                 Vandalism  202500016984         900   \n",
       "1         2            Drunkeness DIP  202500016981         600   \n",
       "2         3  Accident Property Damage  202500016965         200   \n",
       "3         4               Hit and Run  202500016946         400   \n",
       "4         5            Assault Simple  202500016939         900   \n",
       "\n",
       "          StreetName Agency HourReported     ReportingOfficer  \\\n",
       "0          2ND ST SE    CPD         2148  Vlasis, Christopher   \n",
       "1        PRESTON AVE    CPD         2136        Rigsby, Lloyd   \n",
       "2  RIDGE MCINTIRE RD    CPD         1930      Crowley, Raeann   \n",
       "3        ALTAMONT ST    CPD         1725         Curry, Brian   \n",
       "4        PRESTON AVE    CPD         1640         Curry, Brian   \n",
       "\n",
       "                 Date              DateString DayOfWeek  Weekend  Season  \\\n",
       "0 2025-05-18 21:48:33  2025-05-18 09:48:33 PM    Sunday     True  Spring   \n",
       "1 2025-05-18 21:36:37  2025-05-18 09:36:37 PM    Sunday     True  Spring   \n",
       "2 2025-05-18 19:30:35  2025-05-18 07:30:35 PM    Sunday     True  Spring   \n",
       "3 2025-05-18 17:25:27  2025-05-18 05:25:27 PM    Sunday     True  Spring   \n",
       "4 2025-05-18 16:40:07  2025-05-18 04:40:07 PM    Sunday     True  Spring   \n",
       "\n",
       "   HourAMPM  TimeOfDay  \n",
       "0  09:48 PM      Night  \n",
       "1  09:36 PM      Night  \n",
       "2  07:30 PM    Evening  \n",
       "3  05:25 PM    Evening  \n",
       "4  04:40 PM  Afternoon  "
      ]
     },
     "execution_count": 7,
     "metadata": {},
     "output_type": "execute_result"
    }
   ],
   "source": [
    "def convert_and_categorize_datereported(df, col='DateReported'):\n",
    "    \"\"\"\n",
    "    Converts an epoch (in milliseconds) date column into a timezone-aware datetime,\n",
    "    converts it to Eastern Time, and then creates columns for day-of-week, weekend flag,\n",
    "    season, 12-hour formatted time, and time-of-day. Keeps both a real datetime column\n",
    "    (Date) and a string representation (DateString).\n",
    "    \"\"\"\n",
    "    import pandas as pd\n",
    "\n",
    "    # Convert the epoch timestamp to a pandas datetime object as UTC, then convert to US/Eastern.\n",
    "    df[\"DateReported_dt\"] = (\n",
    "        pd.to_datetime(df[col], unit=\"ms\", errors=\"coerce\", utc=True)\n",
    "        .dt.tz_convert(\"US/Eastern\")\n",
    "    )\n",
    "    \n",
    "    # Create a true datetime column (remove timezone if you prefer naive datetime)\n",
    "    df[\"Date\"] = df[\"DateReported_dt\"].dt.tz_localize(None)\n",
    "\n",
    "    # Optionally, create a separate string-formatted column\n",
    "    df[\"DateString\"] = df[\"DateReported_dt\"].dt.strftime(\"%Y-%m-%d %I:%M:%S %p\")\n",
    "    \n",
    "    # DayOfWeek\n",
    "    df[\"DayOfWeek\"] = df[\"DateReported_dt\"].dt.day_name()\n",
    "    \n",
    "    # Weekend\n",
    "    df[\"Weekend\"] = df[\"DayOfWeek\"].isin([\"Saturday\", \"Sunday\"])\n",
    "    \n",
    "    # Helper function to determine the season\n",
    "    def get_season(dt):\n",
    "        month = dt.month\n",
    "        day = dt.day\n",
    "        # Approximate Northern Hemisphere season boundaries:\n",
    "        if (month == 12 and day >= 21) or (month < 3) or (month == 3 and day < 20):\n",
    "            return \"Winter\"\n",
    "        elif (month == 3 and day >= 20) or (month < 6) or (month == 6 and day < 21):\n",
    "            return \"Spring\"\n",
    "        elif (month == 6 and day >= 21) or (month < 9) or (month == 9 and day < 22):\n",
    "            return \"Summer\"\n",
    "        else:\n",
    "            return \"Autumn\"\n",
    "    \n",
    "    df[\"Season\"] = df[\"DateReported_dt\"].apply(get_season)\n",
    "    \n",
    "    # 12-hour formatted time (HourAMPM)\n",
    "    df[\"HourAMPM\"] = df[\"DateReported_dt\"].dt.strftime(\"%I:%M %p\")\n",
    "    \n",
    "    # Extract hour (0-23) for time-of-day\n",
    "    df[\"HourValue\"] = df[\"DateReported_dt\"].dt.hour\n",
    "    \n",
    "    def time_of_day(hour):\n",
    "        if pd.isnull(hour):\n",
    "            return None\n",
    "        if 5 <= hour < 12:\n",
    "            return \"Morning\"\n",
    "        elif 12 <= hour < 17:\n",
    "            return \"Afternoon\"\n",
    "        elif 17 <= hour < 21:\n",
    "            return \"Evening\"\n",
    "        else:\n",
    "            return \"Night\"\n",
    "    \n",
    "    df[\"TimeOfDay\"] = df[\"HourValue\"].apply(time_of_day)\n",
    "    \n",
    "    # Drop columns you no longer need\n",
    "    df.drop(columns=[col, \"DateReported_dt\", \"HourValue\"], inplace=True)\n",
    "    \n",
    "    return df\n",
    "\n",
    "# Example usage:\n",
    "df = convert_and_categorize_datereported(df)\n",
    "df.head()\n"
   ]
  },
  {
   "cell_type": "code",
   "execution_count": 8,
   "id": "13826c2e",
   "metadata": {
    "execution": {
     "iopub.execute_input": "2025-05-21T01:04:28.741675Z",
     "iopub.status.busy": "2025-05-21T01:04:28.741177Z",
     "iopub.status.idle": "2025-05-21T01:04:28.768183Z",
     "shell.execute_reply": "2025-05-21T01:04:28.767608Z"
    },
    "papermill": {
     "duration": 0.034719,
     "end_time": "2025-05-21T01:04:28.769255",
     "exception": false,
     "start_time": "2025-05-21T01:04:28.734536",
     "status": "completed"
    },
    "tags": []
   },
   "outputs": [
    {
     "name": "stdout",
     "output_type": "stream",
     "text": [
      "<class 'pandas.core.frame.DataFrame'>\n",
      "RangeIndex: 25402 entries, 0 to 25401\n",
      "Data columns (total 15 columns):\n",
      " #   Column            Non-Null Count  Dtype         \n",
      "---  ------            --------------  -----         \n",
      " 0   RecordID          25402 non-null  int64         \n",
      " 1   Offense           25402 non-null  object        \n",
      " 2   IncidentID        25402 non-null  object        \n",
      " 3   BlockNumber       25402 non-null  object        \n",
      " 4   StreetName        25402 non-null  object        \n",
      " 5   Agency            25402 non-null  object        \n",
      " 6   HourReported      25402 non-null  object        \n",
      " 7   ReportingOfficer  25385 non-null  object        \n",
      " 8   Date              25402 non-null  datetime64[ns]\n",
      " 9   DateString        25402 non-null  object        \n",
      " 10  DayOfWeek         25402 non-null  object        \n",
      " 11  Weekend           25402 non-null  bool          \n",
      " 12  Season            25402 non-null  object        \n",
      " 13  HourAMPM          25402 non-null  object        \n",
      " 14  TimeOfDay         25402 non-null  object        \n",
      "dtypes: bool(1), datetime64[ns](1), int64(1), object(12)\n",
      "memory usage: 2.7+ MB\n"
     ]
    }
   ],
   "source": [
    "df.info()"
   ]
  },
  {
   "cell_type": "markdown",
   "id": "f9deb4a1",
   "metadata": {
    "papermill": {
     "duration": 0.00603,
     "end_time": "2025-05-21T01:04:28.781454",
     "exception": false,
     "start_time": "2025-05-21T01:04:28.775424",
     "status": "completed"
    },
    "tags": []
   },
   "source": [
    "### Coordinates"
   ]
  },
  {
   "cell_type": "code",
   "execution_count": 9,
   "id": "a9b66ebd",
   "metadata": {
    "execution": {
     "iopub.execute_input": "2025-05-21T01:04:28.795022Z",
     "iopub.status.busy": "2025-05-21T01:04:28.794380Z",
     "iopub.status.idle": "2025-05-21T01:04:29.023927Z",
     "shell.execute_reply": "2025-05-21T01:04:29.023343Z"
    },
    "papermill": {
     "duration": 0.237644,
     "end_time": "2025-05-21T01:04:29.025003",
     "exception": false,
     "start_time": "2025-05-21T01:04:28.787359",
     "status": "completed"
    },
    "tags": []
   },
   "outputs": [
    {
     "name": "stdout",
     "output_type": "stream",
     "text": [
      "Loaded geocode cache.\n"
     ]
    },
    {
     "name": "stdout",
     "output_type": "stream",
     "text": [
      "Geocoded 1200 WERTLAND ST, A34: 38.0341704, -78.4965265\n",
      "Geocode cache updated and saved.\n"
     ]
    },
    {
     "data": {
      "text/html": [
       "<div>\n",
       "<style scoped>\n",
       "    .dataframe tbody tr th:only-of-type {\n",
       "        vertical-align: middle;\n",
       "    }\n",
       "\n",
       "    .dataframe tbody tr th {\n",
       "        vertical-align: top;\n",
       "    }\n",
       "\n",
       "    .dataframe thead th {\n",
       "        text-align: right;\n",
       "    }\n",
       "</style>\n",
       "<table border=\"1\" class=\"dataframe\">\n",
       "  <thead>\n",
       "    <tr style=\"text-align: right;\">\n",
       "      <th></th>\n",
       "      <th>RecordID</th>\n",
       "      <th>Offense</th>\n",
       "      <th>IncidentID</th>\n",
       "      <th>BlockNumber</th>\n",
       "      <th>StreetName</th>\n",
       "      <th>Agency</th>\n",
       "      <th>HourReported</th>\n",
       "      <th>ReportingOfficer</th>\n",
       "      <th>Date</th>\n",
       "      <th>DateString</th>\n",
       "      <th>DayOfWeek</th>\n",
       "      <th>Weekend</th>\n",
       "      <th>Season</th>\n",
       "      <th>HourAMPM</th>\n",
       "      <th>TimeOfDay</th>\n",
       "      <th>FullStreet</th>\n",
       "      <th>lat</th>\n",
       "      <th>lon</th>\n",
       "    </tr>\n",
       "  </thead>\n",
       "  <tbody>\n",
       "    <tr>\n",
       "      <th>0</th>\n",
       "      <td>1</td>\n",
       "      <td>Vandalism</td>\n",
       "      <td>202500016984</td>\n",
       "      <td>900</td>\n",
       "      <td>2ND ST SE</td>\n",
       "      <td>CPD</td>\n",
       "      <td>2148</td>\n",
       "      <td>Vlasis, Christopher</td>\n",
       "      <td>2025-05-18 21:48:33</td>\n",
       "      <td>2025-05-18 09:48:33 PM</td>\n",
       "      <td>Sunday</td>\n",
       "      <td>True</td>\n",
       "      <td>Spring</td>\n",
       "      <td>09:48 PM</td>\n",
       "      <td>Night</td>\n",
       "      <td>900 2ND ST SE</td>\n",
       "      <td>38.026418</td>\n",
       "      <td>-78.482695</td>\n",
       "    </tr>\n",
       "    <tr>\n",
       "      <th>1</th>\n",
       "      <td>2</td>\n",
       "      <td>Drunkeness DIP</td>\n",
       "      <td>202500016981</td>\n",
       "      <td>600</td>\n",
       "      <td>PRESTON AVE</td>\n",
       "      <td>CPD</td>\n",
       "      <td>2136</td>\n",
       "      <td>Rigsby, Lloyd</td>\n",
       "      <td>2025-05-18 21:36:37</td>\n",
       "      <td>2025-05-18 09:36:37 PM</td>\n",
       "      <td>Sunday</td>\n",
       "      <td>True</td>\n",
       "      <td>Spring</td>\n",
       "      <td>09:36 PM</td>\n",
       "      <td>Night</td>\n",
       "      <td>600 PRESTON AVE</td>\n",
       "      <td>38.034709</td>\n",
       "      <td>-78.486265</td>\n",
       "    </tr>\n",
       "    <tr>\n",
       "      <th>2</th>\n",
       "      <td>3</td>\n",
       "      <td>Accident Property Damage</td>\n",
       "      <td>202500016965</td>\n",
       "      <td>200</td>\n",
       "      <td>RIDGE MCINTIRE RD</td>\n",
       "      <td>CPD</td>\n",
       "      <td>1930</td>\n",
       "      <td>Crowley, Raeann</td>\n",
       "      <td>2025-05-18 19:30:35</td>\n",
       "      <td>2025-05-18 07:30:35 PM</td>\n",
       "      <td>Sunday</td>\n",
       "      <td>True</td>\n",
       "      <td>Spring</td>\n",
       "      <td>07:30 PM</td>\n",
       "      <td>Evening</td>\n",
       "      <td>200 RIDGE MCINTIRE RD</td>\n",
       "      <td>38.031221</td>\n",
       "      <td>-78.483889</td>\n",
       "    </tr>\n",
       "    <tr>\n",
       "      <th>3</th>\n",
       "      <td>4</td>\n",
       "      <td>Hit and Run</td>\n",
       "      <td>202500016946</td>\n",
       "      <td>400</td>\n",
       "      <td>ALTAMONT ST</td>\n",
       "      <td>CPD</td>\n",
       "      <td>1725</td>\n",
       "      <td>Curry, Brian</td>\n",
       "      <td>2025-05-18 17:25:27</td>\n",
       "      <td>2025-05-18 05:25:27 PM</td>\n",
       "      <td>Sunday</td>\n",
       "      <td>True</td>\n",
       "      <td>Spring</td>\n",
       "      <td>05:25 PM</td>\n",
       "      <td>Evening</td>\n",
       "      <td>400 ALTAMONT ST</td>\n",
       "      <td>38.033867</td>\n",
       "      <td>-78.482399</td>\n",
       "    </tr>\n",
       "    <tr>\n",
       "      <th>4</th>\n",
       "      <td>5</td>\n",
       "      <td>Assault Simple</td>\n",
       "      <td>202500016939</td>\n",
       "      <td>900</td>\n",
       "      <td>PRESTON AVE</td>\n",
       "      <td>CPD</td>\n",
       "      <td>1640</td>\n",
       "      <td>Curry, Brian</td>\n",
       "      <td>2025-05-18 16:40:07</td>\n",
       "      <td>2025-05-18 04:40:07 PM</td>\n",
       "      <td>Sunday</td>\n",
       "      <td>True</td>\n",
       "      <td>Spring</td>\n",
       "      <td>04:40 PM</td>\n",
       "      <td>Afternoon</td>\n",
       "      <td>900 PRESTON AVE</td>\n",
       "      <td>38.037011</td>\n",
       "      <td>-78.489464</td>\n",
       "    </tr>\n",
       "  </tbody>\n",
       "</table>\n",
       "</div>"
      ],
      "text/plain": [
       "   RecordID                   Offense    IncidentID BlockNumber  \\\n",
       "0         1                 Vandalism  202500016984         900   \n",
       "1         2            Drunkeness DIP  202500016981         600   \n",
       "2         3  Accident Property Damage  202500016965         200   \n",
       "3         4               Hit and Run  202500016946         400   \n",
       "4         5            Assault Simple  202500016939         900   \n",
       "\n",
       "          StreetName Agency HourReported     ReportingOfficer  \\\n",
       "0          2ND ST SE    CPD         2148  Vlasis, Christopher   \n",
       "1        PRESTON AVE    CPD         2136        Rigsby, Lloyd   \n",
       "2  RIDGE MCINTIRE RD    CPD         1930      Crowley, Raeann   \n",
       "3        ALTAMONT ST    CPD         1725         Curry, Brian   \n",
       "4        PRESTON AVE    CPD         1640         Curry, Brian   \n",
       "\n",
       "                 Date              DateString DayOfWeek  Weekend  Season  \\\n",
       "0 2025-05-18 21:48:33  2025-05-18 09:48:33 PM    Sunday     True  Spring   \n",
       "1 2025-05-18 21:36:37  2025-05-18 09:36:37 PM    Sunday     True  Spring   \n",
       "2 2025-05-18 19:30:35  2025-05-18 07:30:35 PM    Sunday     True  Spring   \n",
       "3 2025-05-18 17:25:27  2025-05-18 05:25:27 PM    Sunday     True  Spring   \n",
       "4 2025-05-18 16:40:07  2025-05-18 04:40:07 PM    Sunday     True  Spring   \n",
       "\n",
       "   HourAMPM  TimeOfDay             FullStreet        lat        lon  \n",
       "0  09:48 PM      Night          900 2ND ST SE  38.026418 -78.482695  \n",
       "1  09:36 PM      Night        600 PRESTON AVE  38.034709 -78.486265  \n",
       "2  07:30 PM    Evening  200 RIDGE MCINTIRE RD  38.031221 -78.483889  \n",
       "3  05:25 PM    Evening        400 ALTAMONT ST  38.033867 -78.482399  \n",
       "4  04:40 PM  Afternoon        900 PRESTON AVE  38.037011 -78.489464  "
      ]
     },
     "execution_count": 9,
     "metadata": {},
     "output_type": "execute_result"
    }
   ],
   "source": [
    "# Combine BlockNumber and StreetName into a full address string\n",
    "df['FullStreet'] = df['BlockNumber'].astype(str) + \" \" + df['StreetName']\n",
    "\n",
    "# --- Step 1: Setup the Google Maps Client and Cache ---\n",
    "gmaps = googlemaps.Client(key=GOOGLE_API_KEY)\n",
    "\n",
    "# Try to load cached geocoding results if available.\n",
    "try:\n",
    "    with open(\"geocode_cache_google.pkl\", \"rb\") as f:\n",
    "        street_coords = pickle.load(f)\n",
    "    print(\"Loaded geocode cache.\")\n",
    "except FileNotFoundError:\n",
    "    street_coords = {}\n",
    "    print(\"No cache found; starting fresh.\")\n",
    "\n",
    "def geocode_address(address):\n",
    "    try:\n",
    "        # Append city and state to help geocoding\n",
    "        result = gmaps.geocode(f\"{address}, Charlottesville, VA\")\n",
    "        if result:\n",
    "            lat = result[0]['geometry']['location']['lat']\n",
    "            lon = result[0]['geometry']['location']['lng']\n",
    "            return lat, lon\n",
    "    except Exception as e:\n",
    "        print(f\"Error geocoding {address}: {e}\")\n",
    "    return None, None\n",
    "\n",
    "# --- Step 2: Geocode Only New Addresses ---\n",
    "unique_addresses = df['FullStreet'].unique()\n",
    "for address in unique_addresses:\n",
    "    if address not in street_coords:\n",
    "        lat, lon = geocode_address(address)\n",
    "        street_coords[address] = (lat, lon)\n",
    "        print(f\"Geocoded {address}: {lat}, {lon}\")\n",
    "\n",
    "# Save the updated cache to disk.\n",
    "with open(\"geocode_cache_google.pkl\", \"wb\") as f:\n",
    "    pickle.dump(street_coords, f)\n",
    "    print(\"Geocode cache updated and saved.\")\n",
    "\n",
    "# --- Step 3: Map Coordinates Back to DataFrame ---\n",
    "df['lat'] = df['FullStreet'].map(lambda s: street_coords.get(s, (None, None))[0])\n",
    "df['lon'] = df['FullStreet'].map(lambda s: street_coords.get(s, (None, None))[1])\n",
    "\n",
    "df.head()"
   ]
  },
  {
   "cell_type": "markdown",
   "id": "c8ea402f",
   "metadata": {
    "papermill": {
     "duration": 0.006337,
     "end_time": "2025-05-21T01:04:29.037936",
     "exception": false,
     "start_time": "2025-05-21T01:04:29.031599",
     "status": "completed"
    },
    "tags": []
   },
   "source": [
    "### Neighborhood"
   ]
  },
  {
   "cell_type": "code",
   "execution_count": 10,
   "id": "ab2b0b37",
   "metadata": {
    "execution": {
     "iopub.execute_input": "2025-05-21T01:04:29.051902Z",
     "iopub.status.busy": "2025-05-21T01:04:29.051478Z",
     "iopub.status.idle": "2025-05-21T01:04:29.490426Z",
     "shell.execute_reply": "2025-05-21T01:04:29.489756Z"
    },
    "papermill": {
     "duration": 0.447258,
     "end_time": "2025-05-21T01:04:29.491437",
     "exception": false,
     "start_time": "2025-05-21T01:04:29.044179",
     "status": "completed"
    },
    "tags": []
   },
   "outputs": [
    {
     "name": "stdout",
     "output_type": "stream",
     "text": [
      "Loaded neighborhood cache.\n"
     ]
    },
    {
     "data": {
      "text/html": [
       "<div>\n",
       "<style scoped>\n",
       "    .dataframe tbody tr th:only-of-type {\n",
       "        vertical-align: middle;\n",
       "    }\n",
       "\n",
       "    .dataframe tbody tr th {\n",
       "        vertical-align: top;\n",
       "    }\n",
       "\n",
       "    .dataframe thead th {\n",
       "        text-align: right;\n",
       "    }\n",
       "</style>\n",
       "<table border=\"1\" class=\"dataframe\">\n",
       "  <thead>\n",
       "    <tr style=\"text-align: right;\">\n",
       "      <th></th>\n",
       "      <th>RecordID</th>\n",
       "      <th>Offense</th>\n",
       "      <th>IncidentID</th>\n",
       "      <th>BlockNumber</th>\n",
       "      <th>StreetName</th>\n",
       "      <th>Agency</th>\n",
       "      <th>HourReported</th>\n",
       "      <th>ReportingOfficer</th>\n",
       "      <th>Date</th>\n",
       "      <th>DateString</th>\n",
       "      <th>DayOfWeek</th>\n",
       "      <th>Weekend</th>\n",
       "      <th>Season</th>\n",
       "      <th>HourAMPM</th>\n",
       "      <th>TimeOfDay</th>\n",
       "      <th>FullStreet</th>\n",
       "      <th>lat</th>\n",
       "      <th>lon</th>\n",
       "      <th>neighborhood</th>\n",
       "    </tr>\n",
       "  </thead>\n",
       "  <tbody>\n",
       "    <tr>\n",
       "      <th>0</th>\n",
       "      <td>1</td>\n",
       "      <td>Vandalism</td>\n",
       "      <td>202500016984</td>\n",
       "      <td>900</td>\n",
       "      <td>2ND ST SE</td>\n",
       "      <td>CPD</td>\n",
       "      <td>2148</td>\n",
       "      <td>Vlasis, Christopher</td>\n",
       "      <td>2025-05-18 21:48:33</td>\n",
       "      <td>2025-05-18 09:48:33 PM</td>\n",
       "      <td>Sunday</td>\n",
       "      <td>True</td>\n",
       "      <td>Spring</td>\n",
       "      <td>09:48 PM</td>\n",
       "      <td>Night</td>\n",
       "      <td>900 2ND ST SE</td>\n",
       "      <td>38.026418</td>\n",
       "      <td>-78.482695</td>\n",
       "      <td>Ridge St.</td>\n",
       "    </tr>\n",
       "    <tr>\n",
       "      <th>1</th>\n",
       "      <td>2</td>\n",
       "      <td>Drunkeness DIP</td>\n",
       "      <td>202500016981</td>\n",
       "      <td>600</td>\n",
       "      <td>PRESTON AVE</td>\n",
       "      <td>CPD</td>\n",
       "      <td>2136</td>\n",
       "      <td>Rigsby, Lloyd</td>\n",
       "      <td>2025-05-18 21:36:37</td>\n",
       "      <td>2025-05-18 09:36:37 PM</td>\n",
       "      <td>Sunday</td>\n",
       "      <td>True</td>\n",
       "      <td>Spring</td>\n",
       "      <td>09:36 PM</td>\n",
       "      <td>Night</td>\n",
       "      <td>600 PRESTON AVE</td>\n",
       "      <td>38.034709</td>\n",
       "      <td>-78.486265</td>\n",
       "      <td>Starr Hill</td>\n",
       "    </tr>\n",
       "    <tr>\n",
       "      <th>2</th>\n",
       "      <td>3</td>\n",
       "      <td>Accident Property Damage</td>\n",
       "      <td>202500016965</td>\n",
       "      <td>200</td>\n",
       "      <td>RIDGE MCINTIRE RD</td>\n",
       "      <td>CPD</td>\n",
       "      <td>1930</td>\n",
       "      <td>Crowley, Raeann</td>\n",
       "      <td>2025-05-18 19:30:35</td>\n",
       "      <td>2025-05-18 07:30:35 PM</td>\n",
       "      <td>Sunday</td>\n",
       "      <td>True</td>\n",
       "      <td>Spring</td>\n",
       "      <td>07:30 PM</td>\n",
       "      <td>Evening</td>\n",
       "      <td>200 RIDGE MCINTIRE RD</td>\n",
       "      <td>38.031221</td>\n",
       "      <td>-78.483889</td>\n",
       "      <td>Downtown Mall</td>\n",
       "    </tr>\n",
       "    <tr>\n",
       "      <th>3</th>\n",
       "      <td>4</td>\n",
       "      <td>Hit and Run</td>\n",
       "      <td>202500016946</td>\n",
       "      <td>400</td>\n",
       "      <td>ALTAMONT ST</td>\n",
       "      <td>CPD</td>\n",
       "      <td>1725</td>\n",
       "      <td>Curry, Brian</td>\n",
       "      <td>2025-05-18 17:25:27</td>\n",
       "      <td>2025-05-18 05:25:27 PM</td>\n",
       "      <td>Sunday</td>\n",
       "      <td>True</td>\n",
       "      <td>Spring</td>\n",
       "      <td>05:25 PM</td>\n",
       "      <td>Evening</td>\n",
       "      <td>400 ALTAMONT ST</td>\n",
       "      <td>38.033867</td>\n",
       "      <td>-78.482399</td>\n",
       "      <td>North Downtown</td>\n",
       "    </tr>\n",
       "    <tr>\n",
       "      <th>4</th>\n",
       "      <td>5</td>\n",
       "      <td>Assault Simple</td>\n",
       "      <td>202500016939</td>\n",
       "      <td>900</td>\n",
       "      <td>PRESTON AVE</td>\n",
       "      <td>CPD</td>\n",
       "      <td>1640</td>\n",
       "      <td>Curry, Brian</td>\n",
       "      <td>2025-05-18 16:40:07</td>\n",
       "      <td>2025-05-18 04:40:07 PM</td>\n",
       "      <td>Sunday</td>\n",
       "      <td>True</td>\n",
       "      <td>Spring</td>\n",
       "      <td>04:40 PM</td>\n",
       "      <td>Afternoon</td>\n",
       "      <td>900 PRESTON AVE</td>\n",
       "      <td>38.037011</td>\n",
       "      <td>-78.489464</td>\n",
       "      <td>10th &amp; Page</td>\n",
       "    </tr>\n",
       "  </tbody>\n",
       "</table>\n",
       "</div>"
      ],
      "text/plain": [
       "   RecordID                   Offense    IncidentID BlockNumber  \\\n",
       "0         1                 Vandalism  202500016984         900   \n",
       "1         2            Drunkeness DIP  202500016981         600   \n",
       "2         3  Accident Property Damage  202500016965         200   \n",
       "3         4               Hit and Run  202500016946         400   \n",
       "4         5            Assault Simple  202500016939         900   \n",
       "\n",
       "          StreetName Agency HourReported     ReportingOfficer  \\\n",
       "0          2ND ST SE    CPD         2148  Vlasis, Christopher   \n",
       "1        PRESTON AVE    CPD         2136        Rigsby, Lloyd   \n",
       "2  RIDGE MCINTIRE RD    CPD         1930      Crowley, Raeann   \n",
       "3        ALTAMONT ST    CPD         1725         Curry, Brian   \n",
       "4        PRESTON AVE    CPD         1640         Curry, Brian   \n",
       "\n",
       "                 Date              DateString DayOfWeek  Weekend  Season  \\\n",
       "0 2025-05-18 21:48:33  2025-05-18 09:48:33 PM    Sunday     True  Spring   \n",
       "1 2025-05-18 21:36:37  2025-05-18 09:36:37 PM    Sunday     True  Spring   \n",
       "2 2025-05-18 19:30:35  2025-05-18 07:30:35 PM    Sunday     True  Spring   \n",
       "3 2025-05-18 17:25:27  2025-05-18 05:25:27 PM    Sunday     True  Spring   \n",
       "4 2025-05-18 16:40:07  2025-05-18 04:40:07 PM    Sunday     True  Spring   \n",
       "\n",
       "   HourAMPM  TimeOfDay             FullStreet        lat        lon  \\\n",
       "0  09:48 PM      Night          900 2ND ST SE  38.026418 -78.482695   \n",
       "1  09:36 PM      Night        600 PRESTON AVE  38.034709 -78.486265   \n",
       "2  07:30 PM    Evening  200 RIDGE MCINTIRE RD  38.031221 -78.483889   \n",
       "3  05:25 PM    Evening        400 ALTAMONT ST  38.033867 -78.482399   \n",
       "4  04:40 PM  Afternoon        900 PRESTON AVE  38.037011 -78.489464   \n",
       "\n",
       "     neighborhood  \n",
       "0       Ridge St.  \n",
       "1      Starr Hill  \n",
       "2   Downtown Mall  \n",
       "3  North Downtown  \n",
       "4     10th & Page  "
      ]
     },
     "execution_count": 10,
     "metadata": {},
     "output_type": "execute_result"
    }
   ],
   "source": [
    "# Initialize the Google Maps client.\n",
    "gmaps = googlemaps.Client(key=GOOGLE_API_KEY)\n",
    "\n",
    "# Try to load a persistent neighborhood cache if available.\n",
    "try:\n",
    "    with open(\"neighborhood_cache.pkl\", \"rb\") as f:\n",
    "        neighborhood_cache = pickle.load(f)\n",
    "    print(\"Loaded neighborhood cache.\")\n",
    "except FileNotFoundError:\n",
    "    neighborhood_cache = {}\n",
    "    print(\"No neighborhood cache found; starting fresh.\")\n",
    "\n",
    "def get_neighborhood(lat, lon):\n",
    "    \"\"\"\n",
    "    Reverse geocodes a latitude and longitude to retrieve the neighborhood.\n",
    "    Caches results to speed up subsequent lookups.\n",
    "    \"\"\"\n",
    "    key = (lat, lon)\n",
    "    if key in neighborhood_cache:\n",
    "        return neighborhood_cache[key]\n",
    "    \n",
    "    try:\n",
    "        result = gmaps.reverse_geocode((lat, lon))\n",
    "        if result:\n",
    "            # Look for the 'neighborhood' component in the first result.\n",
    "            for component in result[0]['address_components']:\n",
    "                if 'neighborhood' in component['types']:\n",
    "                    neighborhood = component['long_name']\n",
    "                    neighborhood_cache[key] = neighborhood\n",
    "                    return neighborhood\n",
    "            # If no neighborhood is found, return \"N/A\"\n",
    "            neighborhood_cache[key] = \"N/A\"\n",
    "            return \"N/A\"\n",
    "    except Exception as e:\n",
    "        print(f\"Error getting neighborhood for {lat}, {lon}: {e}\")\n",
    "        return \"N/A\"\n",
    "    \n",
    "    # Pause to respect usage limits.\n",
    "    time.sleep(1)\n",
    "\n",
    "# Example usage: Apply to your DataFrame 'df' that already has 'lat' and 'lon' columns.\n",
    "df['neighborhood'] = df.apply(lambda row: get_neighborhood(row['lat'], row['lon']), axis=1)\n",
    "\n",
    "# Save the updated neighborhood cache.\n",
    "with open(\"neighborhood_cache.pkl\", \"wb\") as f:\n",
    "    pickle.dump(neighborhood_cache, f)\n",
    "\n",
    "df.head()\n"
   ]
  },
  {
   "cell_type": "markdown",
   "id": "1d62ac97",
   "metadata": {
    "papermill": {
     "duration": 0.006499,
     "end_time": "2025-05-21T01:04:29.504760",
     "exception": false,
     "start_time": "2025-05-21T01:04:29.498261",
     "status": "completed"
    },
    "tags": []
   },
   "source": [
    "### Zip"
   ]
  },
  {
   "cell_type": "code",
   "execution_count": 11,
   "id": "320dd786",
   "metadata": {
    "execution": {
     "iopub.execute_input": "2025-05-21T01:04:29.518739Z",
     "iopub.status.busy": "2025-05-21T01:04:29.518529Z",
     "iopub.status.idle": "2025-05-21T01:04:31.486925Z",
     "shell.execute_reply": "2025-05-21T01:04:31.486235Z"
    },
    "papermill": {
     "duration": 1.976712,
     "end_time": "2025-05-21T01:04:31.487975",
     "exception": false,
     "start_time": "2025-05-21T01:04:29.511263",
     "status": "completed"
    },
    "tags": []
   },
   "outputs": [
    {
     "name": "stdout",
     "output_type": "stream",
     "text": [
      "Loaded zip cache.\n"
     ]
    },
    {
     "data": {
      "text/html": [
       "<div>\n",
       "<style scoped>\n",
       "    .dataframe tbody tr th:only-of-type {\n",
       "        vertical-align: middle;\n",
       "    }\n",
       "\n",
       "    .dataframe tbody tr th {\n",
       "        vertical-align: top;\n",
       "    }\n",
       "\n",
       "    .dataframe thead th {\n",
       "        text-align: right;\n",
       "    }\n",
       "</style>\n",
       "<table border=\"1\" class=\"dataframe\">\n",
       "  <thead>\n",
       "    <tr style=\"text-align: right;\">\n",
       "      <th></th>\n",
       "      <th>RecordID</th>\n",
       "      <th>Offense</th>\n",
       "      <th>IncidentID</th>\n",
       "      <th>BlockNumber</th>\n",
       "      <th>StreetName</th>\n",
       "      <th>Agency</th>\n",
       "      <th>HourReported</th>\n",
       "      <th>ReportingOfficer</th>\n",
       "      <th>Date</th>\n",
       "      <th>DateString</th>\n",
       "      <th>DayOfWeek</th>\n",
       "      <th>Weekend</th>\n",
       "      <th>Season</th>\n",
       "      <th>HourAMPM</th>\n",
       "      <th>TimeOfDay</th>\n",
       "      <th>FullStreet</th>\n",
       "      <th>lat</th>\n",
       "      <th>lon</th>\n",
       "      <th>neighborhood</th>\n",
       "      <th>zip</th>\n",
       "    </tr>\n",
       "  </thead>\n",
       "  <tbody>\n",
       "    <tr>\n",
       "      <th>0</th>\n",
       "      <td>1</td>\n",
       "      <td>Vandalism</td>\n",
       "      <td>202500016984</td>\n",
       "      <td>900</td>\n",
       "      <td>2ND ST SE</td>\n",
       "      <td>CPD</td>\n",
       "      <td>2148</td>\n",
       "      <td>Vlasis, Christopher</td>\n",
       "      <td>2025-05-18 21:48:33</td>\n",
       "      <td>2025-05-18 09:48:33 PM</td>\n",
       "      <td>Sunday</td>\n",
       "      <td>True</td>\n",
       "      <td>Spring</td>\n",
       "      <td>09:48 PM</td>\n",
       "      <td>Night</td>\n",
       "      <td>900 2ND ST SE</td>\n",
       "      <td>38.026418</td>\n",
       "      <td>-78.482695</td>\n",
       "      <td>Ridge St.</td>\n",
       "      <td>22902</td>\n",
       "    </tr>\n",
       "    <tr>\n",
       "      <th>1</th>\n",
       "      <td>2</td>\n",
       "      <td>Drunkeness DIP</td>\n",
       "      <td>202500016981</td>\n",
       "      <td>600</td>\n",
       "      <td>PRESTON AVE</td>\n",
       "      <td>CPD</td>\n",
       "      <td>2136</td>\n",
       "      <td>Rigsby, Lloyd</td>\n",
       "      <td>2025-05-18 21:36:37</td>\n",
       "      <td>2025-05-18 09:36:37 PM</td>\n",
       "      <td>Sunday</td>\n",
       "      <td>True</td>\n",
       "      <td>Spring</td>\n",
       "      <td>09:36 PM</td>\n",
       "      <td>Night</td>\n",
       "      <td>600 PRESTON AVE</td>\n",
       "      <td>38.034709</td>\n",
       "      <td>-78.486265</td>\n",
       "      <td>Starr Hill</td>\n",
       "      <td>22903</td>\n",
       "    </tr>\n",
       "    <tr>\n",
       "      <th>2</th>\n",
       "      <td>3</td>\n",
       "      <td>Accident Property Damage</td>\n",
       "      <td>202500016965</td>\n",
       "      <td>200</td>\n",
       "      <td>RIDGE MCINTIRE RD</td>\n",
       "      <td>CPD</td>\n",
       "      <td>1930</td>\n",
       "      <td>Crowley, Raeann</td>\n",
       "      <td>2025-05-18 19:30:35</td>\n",
       "      <td>2025-05-18 07:30:35 PM</td>\n",
       "      <td>Sunday</td>\n",
       "      <td>True</td>\n",
       "      <td>Spring</td>\n",
       "      <td>07:30 PM</td>\n",
       "      <td>Evening</td>\n",
       "      <td>200 RIDGE MCINTIRE RD</td>\n",
       "      <td>38.031221</td>\n",
       "      <td>-78.483889</td>\n",
       "      <td>Downtown Mall</td>\n",
       "      <td>22903</td>\n",
       "    </tr>\n",
       "    <tr>\n",
       "      <th>3</th>\n",
       "      <td>4</td>\n",
       "      <td>Hit and Run</td>\n",
       "      <td>202500016946</td>\n",
       "      <td>400</td>\n",
       "      <td>ALTAMONT ST</td>\n",
       "      <td>CPD</td>\n",
       "      <td>1725</td>\n",
       "      <td>Curry, Brian</td>\n",
       "      <td>2025-05-18 17:25:27</td>\n",
       "      <td>2025-05-18 05:25:27 PM</td>\n",
       "      <td>Sunday</td>\n",
       "      <td>True</td>\n",
       "      <td>Spring</td>\n",
       "      <td>05:25 PM</td>\n",
       "      <td>Evening</td>\n",
       "      <td>400 ALTAMONT ST</td>\n",
       "      <td>38.033867</td>\n",
       "      <td>-78.482399</td>\n",
       "      <td>North Downtown</td>\n",
       "      <td>22902</td>\n",
       "    </tr>\n",
       "    <tr>\n",
       "      <th>4</th>\n",
       "      <td>5</td>\n",
       "      <td>Assault Simple</td>\n",
       "      <td>202500016939</td>\n",
       "      <td>900</td>\n",
       "      <td>PRESTON AVE</td>\n",
       "      <td>CPD</td>\n",
       "      <td>1640</td>\n",
       "      <td>Curry, Brian</td>\n",
       "      <td>2025-05-18 16:40:07</td>\n",
       "      <td>2025-05-18 04:40:07 PM</td>\n",
       "      <td>Sunday</td>\n",
       "      <td>True</td>\n",
       "      <td>Spring</td>\n",
       "      <td>04:40 PM</td>\n",
       "      <td>Afternoon</td>\n",
       "      <td>900 PRESTON AVE</td>\n",
       "      <td>38.037011</td>\n",
       "      <td>-78.489464</td>\n",
       "      <td>10th &amp; Page</td>\n",
       "      <td>22903</td>\n",
       "    </tr>\n",
       "  </tbody>\n",
       "</table>\n",
       "</div>"
      ],
      "text/plain": [
       "   RecordID                   Offense    IncidentID BlockNumber  \\\n",
       "0         1                 Vandalism  202500016984         900   \n",
       "1         2            Drunkeness DIP  202500016981         600   \n",
       "2         3  Accident Property Damage  202500016965         200   \n",
       "3         4               Hit and Run  202500016946         400   \n",
       "4         5            Assault Simple  202500016939         900   \n",
       "\n",
       "          StreetName Agency HourReported     ReportingOfficer  \\\n",
       "0          2ND ST SE    CPD         2148  Vlasis, Christopher   \n",
       "1        PRESTON AVE    CPD         2136        Rigsby, Lloyd   \n",
       "2  RIDGE MCINTIRE RD    CPD         1930      Crowley, Raeann   \n",
       "3        ALTAMONT ST    CPD         1725         Curry, Brian   \n",
       "4        PRESTON AVE    CPD         1640         Curry, Brian   \n",
       "\n",
       "                 Date              DateString DayOfWeek  Weekend  Season  \\\n",
       "0 2025-05-18 21:48:33  2025-05-18 09:48:33 PM    Sunday     True  Spring   \n",
       "1 2025-05-18 21:36:37  2025-05-18 09:36:37 PM    Sunday     True  Spring   \n",
       "2 2025-05-18 19:30:35  2025-05-18 07:30:35 PM    Sunday     True  Spring   \n",
       "3 2025-05-18 17:25:27  2025-05-18 05:25:27 PM    Sunday     True  Spring   \n",
       "4 2025-05-18 16:40:07  2025-05-18 04:40:07 PM    Sunday     True  Spring   \n",
       "\n",
       "   HourAMPM  TimeOfDay             FullStreet        lat        lon  \\\n",
       "0  09:48 PM      Night          900 2ND ST SE  38.026418 -78.482695   \n",
       "1  09:36 PM      Night        600 PRESTON AVE  38.034709 -78.486265   \n",
       "2  07:30 PM    Evening  200 RIDGE MCINTIRE RD  38.031221 -78.483889   \n",
       "3  05:25 PM    Evening        400 ALTAMONT ST  38.033867 -78.482399   \n",
       "4  04:40 PM  Afternoon        900 PRESTON AVE  38.037011 -78.489464   \n",
       "\n",
       "     neighborhood    zip  \n",
       "0       Ridge St.  22902  \n",
       "1      Starr Hill  22903  \n",
       "2   Downtown Mall  22903  \n",
       "3  North Downtown  22902  \n",
       "4     10th & Page  22903  "
      ]
     },
     "execution_count": 11,
     "metadata": {},
     "output_type": "execute_result"
    }
   ],
   "source": [
    "# Initialize the geocoder.\n",
    "geolocator = Nominatim(user_agent=\"zip_lookup\")\n",
    "\n",
    "# Try to load a persistent ZIP cache if available.\n",
    "try:\n",
    "    with open(\"zip_cache.pkl\", \"rb\") as f:\n",
    "        zip_cache = pickle.load(f)\n",
    "    print(\"Loaded zip cache.\")\n",
    "except FileNotFoundError:\n",
    "    zip_cache = {}\n",
    "    print(\"No zip cache found; starting fresh.\")\n",
    "\n",
    "def get_zip(lat, lon):\n",
    "    \"\"\"\n",
    "    Reverse geocodes a latitude and longitude to retrieve the ZIP code.\n",
    "    Caches results to speed up subsequent lookups.\n",
    "    \"\"\"\n",
    "    key = (lat, lon)\n",
    "    if key in zip_cache:\n",
    "        return zip_cache[key]\n",
    "    \n",
    "    try:\n",
    "        location = geolocator.reverse((lat, lon), exactly_one=True, timeout=10)\n",
    "        address = location.raw.get('address', {})\n",
    "        postal_code = address.get('postcode', \"N/A\")\n",
    "    except Exception as e:\n",
    "        print(f\"Error getting ZIP for {lat}, {lon}: {e}\")\n",
    "        postal_code = \"N/A\"\n",
    "    \n",
    "    zip_cache[key] = postal_code\n",
    "    # Pause to respect the usage policy.\n",
    "    time.sleep(1)\n",
    "    return postal_code\n",
    "\n",
    "# Apply the function to each row in the DataFrame.\n",
    "df['zip'] = df.apply(lambda row: get_zip(row['lat'], row['lon']), axis=1)\n",
    "\n",
    "# Save the updated ZIP cache.\n",
    "with open(\"zip_cache.pkl\", \"wb\") as f:\n",
    "    pickle.dump(zip_cache, f)\n",
    "\n",
    "df.head()\n"
   ]
  },
  {
   "cell_type": "code",
   "execution_count": 12,
   "id": "f6716df9",
   "metadata": {
    "execution": {
     "iopub.execute_input": "2025-05-21T01:04:31.503413Z",
     "iopub.status.busy": "2025-05-21T01:04:31.502917Z",
     "iopub.status.idle": "2025-05-21T01:04:31.532147Z",
     "shell.execute_reply": "2025-05-21T01:04:31.531530Z"
    },
    "papermill": {
     "duration": 0.03799,
     "end_time": "2025-05-21T01:04:31.533233",
     "exception": false,
     "start_time": "2025-05-21T01:04:31.495243",
     "status": "completed"
    },
    "tags": []
   },
   "outputs": [
    {
     "name": "stdout",
     "output_type": "stream",
     "text": [
      "                  MissingCount  MissingPercentage\n",
      "RecordID                     0               0.00\n",
      "Offense                      0               0.00\n",
      "IncidentID                   0               0.00\n",
      "BlockNumber                  0               0.00\n",
      "StreetName                   0               0.00\n",
      "Agency                       0               0.00\n",
      "HourReported                 0               0.00\n",
      "ReportingOfficer            17               0.07\n",
      "Date                         0               0.00\n",
      "DateString                   0               0.00\n",
      "DayOfWeek                    0               0.00\n",
      "Weekend                      0               0.00\n",
      "Season                       0               0.00\n",
      "HourAMPM                     0               0.00\n",
      "TimeOfDay                    0               0.00\n",
      "FullStreet                   0               0.00\n",
      "lat                          0               0.00\n",
      "lon                          0               0.00\n",
      "neighborhood                 0               0.00\n",
      "zip                          0               0.00\n"
     ]
    }
   ],
   "source": [
    "missing_info = missing_percentage(df)\n",
    "print(missing_info)\n"
   ]
  },
  {
   "cell_type": "code",
   "execution_count": 13,
   "id": "0c5b7859",
   "metadata": {
    "execution": {
     "iopub.execute_input": "2025-05-21T01:04:31.548597Z",
     "iopub.status.busy": "2025-05-21T01:04:31.548065Z",
     "iopub.status.idle": "2025-05-21T01:04:31.578331Z",
     "shell.execute_reply": "2025-05-21T01:04:31.577783Z"
    },
    "papermill": {
     "duration": 0.038972,
     "end_time": "2025-05-21T01:04:31.579348",
     "exception": false,
     "start_time": "2025-05-21T01:04:31.540376",
     "status": "completed"
    },
    "tags": []
   },
   "outputs": [
    {
     "name": "stdout",
     "output_type": "stream",
     "text": [
      "<class 'pandas.core.frame.DataFrame'>\n",
      "RangeIndex: 25402 entries, 0 to 25401\n",
      "Data columns (total 20 columns):\n",
      " #   Column            Non-Null Count  Dtype         \n",
      "---  ------            --------------  -----         \n",
      " 0   RecordID          25402 non-null  int64         \n",
      " 1   Offense           25402 non-null  object        \n",
      " 2   IncidentID        25402 non-null  object        \n",
      " 3   BlockNumber       25402 non-null  object        \n",
      " 4   StreetName        25402 non-null  object        \n",
      " 5   Agency            25402 non-null  object        \n",
      " 6   HourReported      25402 non-null  object        \n",
      " 7   ReportingOfficer  25385 non-null  object        \n",
      " 8   Date              25402 non-null  datetime64[ns]\n",
      " 9   DateString        25402 non-null  object        \n",
      " 10  DayOfWeek         25402 non-null  object        \n",
      " 11  Weekend           25402 non-null  bool          \n",
      " 12  Season            25402 non-null  object        \n",
      " 13  HourAMPM          25402 non-null  object        \n",
      " 14  TimeOfDay         25402 non-null  object        \n",
      " 15  FullStreet        25402 non-null  object        \n",
      " 16  lat               25402 non-null  float64       \n",
      " 17  lon               25402 non-null  float64       \n",
      " 18  neighborhood      25402 non-null  object        \n",
      " 19  zip               25402 non-null  object        \n",
      "dtypes: bool(1), datetime64[ns](1), float64(2), int64(1), object(15)\n",
      "memory usage: 3.7+ MB\n"
     ]
    }
   ],
   "source": [
    "df.info()"
   ]
  },
  {
   "cell_type": "code",
   "execution_count": 14,
   "id": "39cefa00",
   "metadata": {
    "execution": {
     "iopub.execute_input": "2025-05-21T01:04:31.594755Z",
     "iopub.status.busy": "2025-05-21T01:04:31.594331Z",
     "iopub.status.idle": "2025-05-21T01:04:31.637586Z",
     "shell.execute_reply": "2025-05-21T01:04:31.636900Z"
    },
    "papermill": {
     "duration": 0.052085,
     "end_time": "2025-05-21T01:04:31.638673",
     "exception": false,
     "start_time": "2025-05-21T01:04:31.586588",
     "status": "completed"
    },
    "tags": []
   },
   "outputs": [
    {
     "data": {
      "text/html": [
       "<div>\n",
       "<style scoped>\n",
       "    .dataframe tbody tr th:only-of-type {\n",
       "        vertical-align: middle;\n",
       "    }\n",
       "\n",
       "    .dataframe tbody tr th {\n",
       "        vertical-align: top;\n",
       "    }\n",
       "\n",
       "    .dataframe thead th {\n",
       "        text-align: right;\n",
       "    }\n",
       "</style>\n",
       "<table border=\"1\" class=\"dataframe\">\n",
       "  <thead>\n",
       "    <tr style=\"text-align: right;\">\n",
       "      <th></th>\n",
       "      <th>RecordID</th>\n",
       "      <th>Offense</th>\n",
       "      <th>IncidentID</th>\n",
       "      <th>Agency</th>\n",
       "      <th>ReportingOfficer</th>\n",
       "      <th>Date</th>\n",
       "      <th>DayOfWeek</th>\n",
       "      <th>Weekend</th>\n",
       "      <th>Season</th>\n",
       "      <th>TimeOfDay</th>\n",
       "      <th>FullStreet</th>\n",
       "      <th>lat</th>\n",
       "      <th>lon</th>\n",
       "      <th>neighborhood</th>\n",
       "      <th>zip</th>\n",
       "    </tr>\n",
       "  </thead>\n",
       "  <tbody>\n",
       "    <tr>\n",
       "      <th>0</th>\n",
       "      <td>1</td>\n",
       "      <td>Vandalism</td>\n",
       "      <td>202500016984</td>\n",
       "      <td>CPD</td>\n",
       "      <td>Vlasis, Christopher</td>\n",
       "      <td>2025-05-18 21:48:33</td>\n",
       "      <td>Sunday</td>\n",
       "      <td>True</td>\n",
       "      <td>Spring</td>\n",
       "      <td>Night</td>\n",
       "      <td>900 2ND ST SE</td>\n",
       "      <td>38.026418</td>\n",
       "      <td>-78.482695</td>\n",
       "      <td>Ridge St.</td>\n",
       "      <td>22902</td>\n",
       "    </tr>\n",
       "    <tr>\n",
       "      <th>1</th>\n",
       "      <td>2</td>\n",
       "      <td>Drunkeness DIP</td>\n",
       "      <td>202500016981</td>\n",
       "      <td>CPD</td>\n",
       "      <td>Rigsby, Lloyd</td>\n",
       "      <td>2025-05-18 21:36:37</td>\n",
       "      <td>Sunday</td>\n",
       "      <td>True</td>\n",
       "      <td>Spring</td>\n",
       "      <td>Night</td>\n",
       "      <td>600 PRESTON AVE</td>\n",
       "      <td>38.034709</td>\n",
       "      <td>-78.486265</td>\n",
       "      <td>Starr Hill</td>\n",
       "      <td>22903</td>\n",
       "    </tr>\n",
       "    <tr>\n",
       "      <th>2</th>\n",
       "      <td>3</td>\n",
       "      <td>Accident Property Damage</td>\n",
       "      <td>202500016965</td>\n",
       "      <td>CPD</td>\n",
       "      <td>Crowley, Raeann</td>\n",
       "      <td>2025-05-18 19:30:35</td>\n",
       "      <td>Sunday</td>\n",
       "      <td>True</td>\n",
       "      <td>Spring</td>\n",
       "      <td>Evening</td>\n",
       "      <td>200 RIDGE MCINTIRE RD</td>\n",
       "      <td>38.031221</td>\n",
       "      <td>-78.483889</td>\n",
       "      <td>Downtown Mall</td>\n",
       "      <td>22903</td>\n",
       "    </tr>\n",
       "    <tr>\n",
       "      <th>3</th>\n",
       "      <td>4</td>\n",
       "      <td>Hit and Run</td>\n",
       "      <td>202500016946</td>\n",
       "      <td>CPD</td>\n",
       "      <td>Curry, Brian</td>\n",
       "      <td>2025-05-18 17:25:27</td>\n",
       "      <td>Sunday</td>\n",
       "      <td>True</td>\n",
       "      <td>Spring</td>\n",
       "      <td>Evening</td>\n",
       "      <td>400 ALTAMONT ST</td>\n",
       "      <td>38.033867</td>\n",
       "      <td>-78.482399</td>\n",
       "      <td>North Downtown</td>\n",
       "      <td>22902</td>\n",
       "    </tr>\n",
       "    <tr>\n",
       "      <th>4</th>\n",
       "      <td>5</td>\n",
       "      <td>Assault Simple</td>\n",
       "      <td>202500016939</td>\n",
       "      <td>CPD</td>\n",
       "      <td>Curry, Brian</td>\n",
       "      <td>2025-05-18 16:40:07</td>\n",
       "      <td>Sunday</td>\n",
       "      <td>True</td>\n",
       "      <td>Spring</td>\n",
       "      <td>Afternoon</td>\n",
       "      <td>900 PRESTON AVE</td>\n",
       "      <td>38.037011</td>\n",
       "      <td>-78.489464</td>\n",
       "      <td>10th &amp; Page</td>\n",
       "      <td>22903</td>\n",
       "    </tr>\n",
       "  </tbody>\n",
       "</table>\n",
       "</div>"
      ],
      "text/plain": [
       "   RecordID                   Offense    IncidentID Agency  \\\n",
       "0         1                 Vandalism  202500016984    CPD   \n",
       "1         2            Drunkeness DIP  202500016981    CPD   \n",
       "2         3  Accident Property Damage  202500016965    CPD   \n",
       "3         4               Hit and Run  202500016946    CPD   \n",
       "4         5            Assault Simple  202500016939    CPD   \n",
       "\n",
       "      ReportingOfficer                Date DayOfWeek  Weekend  Season  \\\n",
       "0  Vlasis, Christopher 2025-05-18 21:48:33    Sunday     True  Spring   \n",
       "1        Rigsby, Lloyd 2025-05-18 21:36:37    Sunday     True  Spring   \n",
       "2      Crowley, Raeann 2025-05-18 19:30:35    Sunday     True  Spring   \n",
       "3         Curry, Brian 2025-05-18 17:25:27    Sunday     True  Spring   \n",
       "4         Curry, Brian 2025-05-18 16:40:07    Sunday     True  Spring   \n",
       "\n",
       "   TimeOfDay             FullStreet        lat        lon    neighborhood  \\\n",
       "0      Night          900 2ND ST SE  38.026418 -78.482695       Ridge St.   \n",
       "1      Night        600 PRESTON AVE  38.034709 -78.486265      Starr Hill   \n",
       "2    Evening  200 RIDGE MCINTIRE RD  38.031221 -78.483889   Downtown Mall   \n",
       "3    Evening        400 ALTAMONT ST  38.033867 -78.482399  North Downtown   \n",
       "4  Afternoon        900 PRESTON AVE  38.037011 -78.489464     10th & Page   \n",
       "\n",
       "     zip  \n",
       "0  22902  \n",
       "1  22903  \n",
       "2  22903  \n",
       "3  22902  \n",
       "4  22903  "
      ]
     },
     "execution_count": 14,
     "metadata": {},
     "output_type": "execute_result"
    }
   ],
   "source": [
    "# Now drop the original BlockNumber and StreetName columns\n",
    "df.drop(columns=['BlockNumber', 'StreetName','HourAMPM','HourReported','DateString'], inplace=True)\n",
    "df[\"zip\"] = df[\"zip\"].astype(str)\n",
    "\n",
    "# Fill all missing values in the DataFrame with \"N/A\"\n",
    "df.replace({None: \"N/A\", np.nan: \"N/A\", \"\": \"N/A\"}, inplace=True)\n",
    "df.head()"
   ]
  },
  {
   "cell_type": "code",
   "execution_count": 15,
   "id": "ba8d91f1",
   "metadata": {
    "execution": {
     "iopub.execute_input": "2025-05-21T01:04:31.654458Z",
     "iopub.status.busy": "2025-05-21T01:04:31.654257Z",
     "iopub.status.idle": "2025-05-21T01:04:31.672262Z",
     "shell.execute_reply": "2025-05-21T01:04:31.671699Z"
    },
    "papermill": {
     "duration": 0.02688,
     "end_time": "2025-05-21T01:04:31.673238",
     "exception": false,
     "start_time": "2025-05-21T01:04:31.646358",
     "status": "completed"
    },
    "tags": []
   },
   "outputs": [
    {
     "name": "stdout",
     "output_type": "stream",
     "text": [
      "                  MissingCount  MissingPercentage\n",
      "RecordID                     0                0.0\n",
      "Offense                      0                0.0\n",
      "IncidentID                   0                0.0\n",
      "Agency                       0                0.0\n",
      "ReportingOfficer             0                0.0\n",
      "Date                         0                0.0\n",
      "DayOfWeek                    0                0.0\n",
      "Weekend                      0                0.0\n",
      "Season                       0                0.0\n",
      "TimeOfDay                    0                0.0\n",
      "FullStreet                   0                0.0\n",
      "lat                          0                0.0\n",
      "lon                          0                0.0\n",
      "neighborhood                 0                0.0\n",
      "zip                          0                0.0\n"
     ]
    }
   ],
   "source": [
    "missing_info = missing_percentage(df)\n",
    "print(missing_info)"
   ]
  },
  {
   "cell_type": "code",
   "execution_count": 16,
   "id": "44428602",
   "metadata": {
    "execution": {
     "iopub.execute_input": "2025-05-21T01:04:31.688996Z",
     "iopub.status.busy": "2025-05-21T01:04:31.688568Z",
     "iopub.status.idle": "2025-05-21T01:04:31.693148Z",
     "shell.execute_reply": "2025-05-21T01:04:31.692581Z"
    },
    "papermill": {
     "duration": 0.013532,
     "end_time": "2025-05-21T01:04:31.694109",
     "exception": false,
     "start_time": "2025-05-21T01:04:31.680577",
     "status": "completed"
    },
    "tags": []
   },
   "outputs": [
    {
     "data": {
      "text/plain": [
       "Index(['RecordID', 'Offense', 'IncidentID', 'Agency', 'ReportingOfficer',\n",
       "       'Date', 'DayOfWeek', 'Weekend', 'Season', 'TimeOfDay', 'FullStreet',\n",
       "       'lat', 'lon', 'neighborhood', 'zip'],\n",
       "      dtype='object')"
      ]
     },
     "execution_count": 16,
     "metadata": {},
     "output_type": "execute_result"
    }
   ],
   "source": [
    "df.columns"
   ]
  },
  {
   "cell_type": "code",
   "execution_count": 17,
   "id": "5c14fc35",
   "metadata": {
    "execution": {
     "iopub.execute_input": "2025-05-21T01:04:31.709883Z",
     "iopub.status.busy": "2025-05-21T01:04:31.709357Z",
     "iopub.status.idle": "2025-05-21T01:04:31.730051Z",
     "shell.execute_reply": "2025-05-21T01:04:31.729464Z"
    },
    "papermill": {
     "duration": 0.029581,
     "end_time": "2025-05-21T01:04:31.731068",
     "exception": false,
     "start_time": "2025-05-21T01:04:31.701487",
     "status": "completed"
    },
    "tags": []
   },
   "outputs": [
    {
     "name": "stdout",
     "output_type": "stream",
     "text": [
      "<class 'pandas.core.frame.DataFrame'>\n",
      "RangeIndex: 25402 entries, 0 to 25401\n",
      "Data columns (total 15 columns):\n",
      " #   Column            Non-Null Count  Dtype         \n",
      "---  ------            --------------  -----         \n",
      " 0   RecordID          25402 non-null  int64         \n",
      " 1   Offense           25402 non-null  object        \n",
      " 2   IncidentID        25402 non-null  object        \n",
      " 3   Agency            25402 non-null  object        \n",
      " 4   ReportingOfficer  25402 non-null  object        \n",
      " 5   Date              25402 non-null  datetime64[ns]\n",
      " 6   DayOfWeek         25402 non-null  object        \n",
      " 7   Weekend           25402 non-null  bool          \n",
      " 8   Season            25402 non-null  object        \n",
      " 9   TimeOfDay         25402 non-null  object        \n",
      " 10  FullStreet        25402 non-null  object        \n",
      " 11  lat               25402 non-null  float64       \n",
      " 12  lon               25402 non-null  float64       \n",
      " 13  neighborhood      25402 non-null  object        \n",
      " 14  zip               25402 non-null  object        \n",
      "dtypes: bool(1), datetime64[ns](1), float64(2), int64(1), object(10)\n",
      "memory usage: 2.7+ MB\n"
     ]
    }
   ],
   "source": [
    "df.info()"
   ]
  },
  {
   "cell_type": "markdown",
   "id": "58489d79",
   "metadata": {
    "papermill": {
     "duration": 0.007424,
     "end_time": "2025-05-21T01:04:31.746213",
     "exception": false,
     "start_time": "2025-05-21T01:04:31.738789",
     "status": "completed"
    },
    "tags": []
   },
   "source": [
    "### Export Clean Data"
   ]
  },
  {
   "cell_type": "code",
   "execution_count": 18,
   "id": "a9f41a32",
   "metadata": {
    "execution": {
     "iopub.execute_input": "2025-05-21T01:04:31.762445Z",
     "iopub.status.busy": "2025-05-21T01:04:31.761998Z",
     "iopub.status.idle": "2025-05-21T01:04:41.194838Z",
     "shell.execute_reply": "2025-05-21T01:04:41.194059Z"
    },
    "papermill": {
     "duration": 9.442088,
     "end_time": "2025-05-21T01:04:41.195879",
     "exception": false,
     "start_time": "2025-05-21T01:04:31.753791",
     "status": "completed"
    },
    "tags": []
   },
   "outputs": [
    {
     "name": "stdout",
     "output_type": "stream",
     "text": [
      "Project Root: /home/runner/work/crime-data/crime-data\n"
     ]
    },
    {
     "name": "stdout",
     "output_type": "stream",
     "text": [
      "Data saved to: /home/runner/work/crime-data/crime-data/data/charlottesville_crime_incidents.csv\n"
     ]
    },
    {
     "name": "stdout",
     "output_type": "stream",
     "text": [
      "Excel saved to: /home/runner/work/crime-data/crime-data/data/charlottesville_crime_incidents.xlsx\n"
     ]
    }
   ],
   "source": [
    "# Determine the project root (assuming papermill is run from the repository root)\n",
    "project_root = os.getcwd()\n",
    "print(\"Project Root:\", project_root)\n",
    "\n",
    "# Set the data directory within the project root\n",
    "data_dir = os.path.join(project_root, \"data\")\n",
    "\n",
    "# Ensure the \"data\" directory exists (create it if it doesn't)\n",
    "if not os.path.exists(data_dir):\n",
    "    os.makedirs(data_dir)\n",
    "\n",
    "# Export the DataFrame to CSV in the \"data\" folder located in the project root\n",
    "csv_path = os.path.join(data_dir, \"charlottesville_crime_incidents.csv\")\n",
    "df.to_csv(csv_path, index=False)\n",
    "print(\"Data saved to:\", csv_path)\n",
    "\n",
    "# Construct the path to your Excel file\n",
    "excel_path = os.path.join(data_dir, \"charlottesville_crime_incidents.xlsx\")\n",
    "\n",
    "# Export the DataFrame to Excel\n",
    "df.to_excel(excel_path, index=False)\n",
    "print(\"Excel saved to:\", excel_path)\n"
   ]
  },
  {
   "cell_type": "markdown",
   "id": "c8b46e70",
   "metadata": {
    "papermill": {
     "duration": 0.007604,
     "end_time": "2025-05-21T01:04:41.211465",
     "exception": false,
     "start_time": "2025-05-21T01:04:41.203861",
     "status": "completed"
    },
    "tags": []
   },
   "source": [
    "## Predictive Analytics"
   ]
  },
  {
   "cell_type": "code",
   "execution_count": 19,
   "id": "4fd76390",
   "metadata": {
    "execution": {
     "iopub.execute_input": "2025-05-21T01:04:41.227882Z",
     "iopub.status.busy": "2025-05-21T01:04:41.227657Z",
     "iopub.status.idle": "2025-05-21T01:04:41.239619Z",
     "shell.execute_reply": "2025-05-21T01:04:41.239068Z"
    },
    "papermill": {
     "duration": 0.021376,
     "end_time": "2025-05-21T01:04:41.240606",
     "exception": false,
     "start_time": "2025-05-21T01:04:41.219230",
     "status": "completed"
    },
    "tags": []
   },
   "outputs": [
    {
     "data": {
      "text/html": [
       "<div>\n",
       "<style scoped>\n",
       "    .dataframe tbody tr th:only-of-type {\n",
       "        vertical-align: middle;\n",
       "    }\n",
       "\n",
       "    .dataframe tbody tr th {\n",
       "        vertical-align: top;\n",
       "    }\n",
       "\n",
       "    .dataframe thead th {\n",
       "        text-align: right;\n",
       "    }\n",
       "</style>\n",
       "<table border=\"1\" class=\"dataframe\">\n",
       "  <thead>\n",
       "    <tr style=\"text-align: right;\">\n",
       "      <th></th>\n",
       "      <th>RecordID</th>\n",
       "      <th>Offense</th>\n",
       "      <th>IncidentID</th>\n",
       "      <th>Agency</th>\n",
       "      <th>ReportingOfficer</th>\n",
       "      <th>Date</th>\n",
       "      <th>DayOfWeek</th>\n",
       "      <th>Weekend</th>\n",
       "      <th>Season</th>\n",
       "      <th>TimeOfDay</th>\n",
       "      <th>FullStreet</th>\n",
       "      <th>lat</th>\n",
       "      <th>lon</th>\n",
       "      <th>neighborhood</th>\n",
       "      <th>zip</th>\n",
       "    </tr>\n",
       "  </thead>\n",
       "  <tbody>\n",
       "    <tr>\n",
       "      <th>0</th>\n",
       "      <td>1</td>\n",
       "      <td>Vandalism</td>\n",
       "      <td>202500016984</td>\n",
       "      <td>CPD</td>\n",
       "      <td>Vlasis, Christopher</td>\n",
       "      <td>2025-05-18 21:48:33</td>\n",
       "      <td>Sunday</td>\n",
       "      <td>True</td>\n",
       "      <td>Spring</td>\n",
       "      <td>Night</td>\n",
       "      <td>900 2ND ST SE</td>\n",
       "      <td>38.026418</td>\n",
       "      <td>-78.482695</td>\n",
       "      <td>Ridge St.</td>\n",
       "      <td>22902</td>\n",
       "    </tr>\n",
       "    <tr>\n",
       "      <th>1</th>\n",
       "      <td>2</td>\n",
       "      <td>Drunkeness DIP</td>\n",
       "      <td>202500016981</td>\n",
       "      <td>CPD</td>\n",
       "      <td>Rigsby, Lloyd</td>\n",
       "      <td>2025-05-18 21:36:37</td>\n",
       "      <td>Sunday</td>\n",
       "      <td>True</td>\n",
       "      <td>Spring</td>\n",
       "      <td>Night</td>\n",
       "      <td>600 PRESTON AVE</td>\n",
       "      <td>38.034709</td>\n",
       "      <td>-78.486265</td>\n",
       "      <td>Starr Hill</td>\n",
       "      <td>22903</td>\n",
       "    </tr>\n",
       "    <tr>\n",
       "      <th>2</th>\n",
       "      <td>3</td>\n",
       "      <td>Accident Property Damage</td>\n",
       "      <td>202500016965</td>\n",
       "      <td>CPD</td>\n",
       "      <td>Crowley, Raeann</td>\n",
       "      <td>2025-05-18 19:30:35</td>\n",
       "      <td>Sunday</td>\n",
       "      <td>True</td>\n",
       "      <td>Spring</td>\n",
       "      <td>Evening</td>\n",
       "      <td>200 RIDGE MCINTIRE RD</td>\n",
       "      <td>38.031221</td>\n",
       "      <td>-78.483889</td>\n",
       "      <td>Downtown Mall</td>\n",
       "      <td>22903</td>\n",
       "    </tr>\n",
       "    <tr>\n",
       "      <th>3</th>\n",
       "      <td>4</td>\n",
       "      <td>Hit and Run</td>\n",
       "      <td>202500016946</td>\n",
       "      <td>CPD</td>\n",
       "      <td>Curry, Brian</td>\n",
       "      <td>2025-05-18 17:25:27</td>\n",
       "      <td>Sunday</td>\n",
       "      <td>True</td>\n",
       "      <td>Spring</td>\n",
       "      <td>Evening</td>\n",
       "      <td>400 ALTAMONT ST</td>\n",
       "      <td>38.033867</td>\n",
       "      <td>-78.482399</td>\n",
       "      <td>North Downtown</td>\n",
       "      <td>22902</td>\n",
       "    </tr>\n",
       "    <tr>\n",
       "      <th>4</th>\n",
       "      <td>5</td>\n",
       "      <td>Assault Simple</td>\n",
       "      <td>202500016939</td>\n",
       "      <td>CPD</td>\n",
       "      <td>Curry, Brian</td>\n",
       "      <td>2025-05-18 16:40:07</td>\n",
       "      <td>Sunday</td>\n",
       "      <td>True</td>\n",
       "      <td>Spring</td>\n",
       "      <td>Afternoon</td>\n",
       "      <td>900 PRESTON AVE</td>\n",
       "      <td>38.037011</td>\n",
       "      <td>-78.489464</td>\n",
       "      <td>10th &amp; Page</td>\n",
       "      <td>22903</td>\n",
       "    </tr>\n",
       "  </tbody>\n",
       "</table>\n",
       "</div>"
      ],
      "text/plain": [
       "   RecordID                   Offense    IncidentID Agency  \\\n",
       "0         1                 Vandalism  202500016984    CPD   \n",
       "1         2            Drunkeness DIP  202500016981    CPD   \n",
       "2         3  Accident Property Damage  202500016965    CPD   \n",
       "3         4               Hit and Run  202500016946    CPD   \n",
       "4         5            Assault Simple  202500016939    CPD   \n",
       "\n",
       "      ReportingOfficer                Date DayOfWeek  Weekend  Season  \\\n",
       "0  Vlasis, Christopher 2025-05-18 21:48:33    Sunday     True  Spring   \n",
       "1        Rigsby, Lloyd 2025-05-18 21:36:37    Sunday     True  Spring   \n",
       "2      Crowley, Raeann 2025-05-18 19:30:35    Sunday     True  Spring   \n",
       "3         Curry, Brian 2025-05-18 17:25:27    Sunday     True  Spring   \n",
       "4         Curry, Brian 2025-05-18 16:40:07    Sunday     True  Spring   \n",
       "\n",
       "   TimeOfDay             FullStreet        lat        lon    neighborhood  \\\n",
       "0      Night          900 2ND ST SE  38.026418 -78.482695       Ridge St.   \n",
       "1      Night        600 PRESTON AVE  38.034709 -78.486265      Starr Hill   \n",
       "2    Evening  200 RIDGE MCINTIRE RD  38.031221 -78.483889   Downtown Mall   \n",
       "3    Evening        400 ALTAMONT ST  38.033867 -78.482399  North Downtown   \n",
       "4  Afternoon        900 PRESTON AVE  38.037011 -78.489464     10th & Page   \n",
       "\n",
       "     zip  \n",
       "0  22902  \n",
       "1  22903  \n",
       "2  22903  \n",
       "3  22902  \n",
       "4  22903  "
      ]
     },
     "execution_count": 19,
     "metadata": {},
     "output_type": "execute_result"
    }
   ],
   "source": [
    "df.head()"
   ]
  },
  {
   "cell_type": "code",
   "execution_count": 20,
   "id": "d68fb06c",
   "metadata": {
    "execution": {
     "iopub.execute_input": "2025-05-21T01:04:41.257137Z",
     "iopub.status.busy": "2025-05-21T01:04:41.256871Z",
     "iopub.status.idle": "2025-05-21T01:04:41.261316Z",
     "shell.execute_reply": "2025-05-21T01:04:41.260679Z"
    },
    "papermill": {
     "duration": 0.01392,
     "end_time": "2025-05-21T01:04:41.262385",
     "exception": false,
     "start_time": "2025-05-21T01:04:41.248465",
     "status": "completed"
    },
    "tags": []
   },
   "outputs": [
    {
     "data": {
      "text/plain": [
       "Index(['RecordID', 'Offense', 'IncidentID', 'Agency', 'ReportingOfficer',\n",
       "       'Date', 'DayOfWeek', 'Weekend', 'Season', 'TimeOfDay', 'FullStreet',\n",
       "       'lat', 'lon', 'neighborhood', 'zip'],\n",
       "      dtype='object')"
      ]
     },
     "execution_count": 20,
     "metadata": {},
     "output_type": "execute_result"
    }
   ],
   "source": [
    "df.columns"
   ]
  },
  {
   "cell_type": "markdown",
   "id": "5803dcc9",
   "metadata": {
    "papermill": {
     "duration": 0.007864,
     "end_time": "2025-05-21T01:04:41.278456",
     "exception": false,
     "start_time": "2025-05-21T01:04:41.270592",
     "status": "completed"
    },
    "tags": []
   },
   "source": [
    "### Data Preparation\n",
    "\n",
    "We need to ensure the data is in the correct format for modeling and can handle missing values, categorical variables, and dates. Here's how to prepare your data:"
   ]
  },
  {
   "cell_type": "code",
   "execution_count": 21,
   "id": "fa56b29f",
   "metadata": {
    "execution": {
     "iopub.execute_input": "2025-05-21T01:04:41.295655Z",
     "iopub.status.busy": "2025-05-21T01:04:41.295164Z",
     "iopub.status.idle": "2025-05-21T01:04:44.328120Z",
     "shell.execute_reply": "2025-05-21T01:04:44.327312Z"
    },
    "papermill": {
     "duration": 3.043217,
     "end_time": "2025-05-21T01:04:44.329571",
     "exception": false,
     "start_time": "2025-05-21T01:04:41.286354",
     "status": "completed"
    },
    "tags": []
   },
   "outputs": [],
   "source": [
    "import pandas as pd\n",
    "from sklearn.model_selection import train_test_split\n",
    "from sklearn.preprocessing import OneHotEncoder, LabelEncoder\n",
    "from sklearn.ensemble import RandomForestClassifier\n",
    "from sklearn.linear_model import LogisticRegression\n",
    "from sklearn.tree import DecisionTreeClassifier\n",
    "from sklearn.metrics import classification_report, accuracy_score\n",
    "import seaborn as sns\n",
    "import matplotlib.pyplot as plt\n",
    "\n",
    "# Convert 'Date' to datetime\n",
    "df['Date'] = pd.to_datetime(df['Date'])\n",
    "\n",
    "# Feature engineering: Extract additional time-based features\n",
    "df['Year'] = df['Date'].dt.year\n",
    "df['Month'] = df['Date'].dt.month\n",
    "df['DayOfMonth'] = df['Date'].dt.day\n",
    "\n",
    "# One-hot encoding for 'FullStreet', 'neighborhood', 'zip'\n",
    "df = pd.get_dummies(df, columns=['FullStreet', 'neighborhood', 'zip'], drop_first=True)\n",
    "\n",
    "# Label encoding for ordered variables (those with a natural order like 'DayOfWeek', 'Season', 'TimeOfDay')\n",
    "label_encoders = {}\n",
    "for column in ['DayOfWeek', 'Season', 'TimeOfDay', 'Agency', 'ReportingOfficer']:  # Example ordinal variables\n",
    "    le = LabelEncoder()\n",
    "    df[column] = le.fit_transform(df[column])\n",
    "    label_encoders[column] = le\n",
    "\n",
    "# Filter the dataset to include only the offenses of interest\n",
    "offenses_of_interest = [\n",
    "    'Hit and Run', 'Assault Simple', 'Suspicious Activity', 'Vandalism', \n",
    "    'Larceny - From Mot Vehicle', 'Larceny - All Other', \n",
    "    'Assist Citizen - Mental/TDO/ECO', 'Lost/FoundProperty'\n",
    "]\n",
    "\n",
    "df = df[df['Offense'].isin(offenses_of_interest)]\n",
    "\n",
    "# Label encode the target variable (Offense)\n",
    "offense_encoder = LabelEncoder()\n",
    "df['Offense'] = offense_encoder.fit_transform(df['Offense'])\n",
    "\n",
    "# Separate features (X) and target (y)\n",
    "X = df[['Year', 'Month', 'DayOfMonth', 'DayOfWeek', 'Weekend', 'Season', 'TimeOfDay', 'lat', 'lon', 'Agency', 'ReportingOfficer']]\n",
    "y = df['Offense']  # Offense is now the encoded target variable\n",
    "\n",
    "# Split the data into training and testing sets\n",
    "X_train, X_test, y_train, y_test = train_test_split(X, y, test_size=0.3, random_state=42)\n"
   ]
  },
  {
   "cell_type": "markdown",
   "id": "de782184",
   "metadata": {
    "papermill": {
     "duration": 0.008022,
     "end_time": "2025-05-21T01:04:44.345868",
     "exception": false,
     "start_time": "2025-05-21T01:04:44.337846",
     "status": "completed"
    },
    "tags": []
   },
   "source": [
    "### Model Training\n",
    "\n",
    "Here we will train several models (e.g., Random Forest, Logistic Regression, and Decision Tree). We will use cross-validation to choose the best model based on accuracy, and then explain the impact of the variables."
   ]
  },
  {
   "cell_type": "code",
   "execution_count": 22,
   "id": "46c52ec7",
   "metadata": {
    "execution": {
     "iopub.execute_input": "2025-05-21T01:04:44.363342Z",
     "iopub.status.busy": "2025-05-21T01:04:44.362762Z",
     "iopub.status.idle": "2025-05-21T01:04:47.987241Z",
     "shell.execute_reply": "2025-05-21T01:04:47.986625Z"
    },
    "papermill": {
     "duration": 3.634527,
     "end_time": "2025-05-21T01:04:47.988422",
     "exception": false,
     "start_time": "2025-05-21T01:04:44.353895",
     "status": "completed"
    },
    "tags": []
   },
   "outputs": [
    {
     "name": "stderr",
     "output_type": "stream",
     "text": [
      "/opt/hostedtoolcache/Python/3.9.22/x64/lib/python3.9/site-packages/sklearn/linear_model/_logistic.py:465: ConvergenceWarning: lbfgs failed to converge (status=1):\n",
      "STOP: TOTAL NO. of ITERATIONS REACHED LIMIT.\n",
      "\n",
      "Increase the number of iterations (max_iter) or scale the data as shown in:\n",
      "    https://scikit-learn.org/stable/modules/preprocessing.html\n",
      "Please also refer to the documentation for alternative solver options:\n",
      "    https://scikit-learn.org/stable/modules/linear_model.html#logistic-regression\n",
      "  n_iter_i = _check_optimize_result(\n",
      "/opt/hostedtoolcache/Python/3.9.22/x64/lib/python3.9/site-packages/sklearn/metrics/_classification.py:1565: UndefinedMetricWarning: Precision is ill-defined and being set to 0.0 in labels with no predicted samples. Use `zero_division` parameter to control this behavior.\n",
      "  _warn_prf(average, modifier, f\"{metric.capitalize()} is\", len(result))\n",
      "/opt/hostedtoolcache/Python/3.9.22/x64/lib/python3.9/site-packages/sklearn/metrics/_classification.py:1565: UndefinedMetricWarning: Precision is ill-defined and being set to 0.0 in labels with no predicted samples. Use `zero_division` parameter to control this behavior.\n",
      "  _warn_prf(average, modifier, f\"{metric.capitalize()} is\", len(result))\n",
      "/opt/hostedtoolcache/Python/3.9.22/x64/lib/python3.9/site-packages/sklearn/metrics/_classification.py:1565: UndefinedMetricWarning: Precision is ill-defined and being set to 0.0 in labels with no predicted samples. Use `zero_division` parameter to control this behavior.\n",
      "  _warn_prf(average, modifier, f\"{metric.capitalize()} is\", len(result))\n"
     ]
    },
    {
     "name": "stdout",
     "output_type": "stream",
     "text": [
      "\n",
      "Classification Report for All Models:\n",
      "\n",
      "Model: RandomForest\n",
      "Accuracy: 0.2865\n",
      "              precision    recall  f1-score      support\n",
      "0              0.285906  0.356187  0.317200   598.000000\n",
      "1              0.296296  0.239631  0.264968   434.000000\n",
      "2              0.300098  0.461654  0.363744   665.000000\n",
      "3              0.216138  0.162690  0.185644   461.000000\n",
      "4              0.352000  0.263473  0.301370   334.000000\n",
      "5              0.274611  0.193431  0.226981   548.000000\n",
      "6              0.275325  0.237136  0.254808   447.000000\n",
      "accuracy       0.286493  0.286493  0.286493     0.286493\n",
      "macro avg      0.285768  0.273458  0.273531  3487.000000\n",
      "weighted avg   0.283881  0.286493  0.278490  3487.000000\n"
     ]
    },
    {
     "data": {
      "image/png": "[encoded data removed]",
      "text/plain": [
       "<Figure size 800x600 with 2 Axes>"
      ]
     },
     "metadata": {},
     "output_type": "display_data"
    },
    {
     "name": "stdout",
     "output_type": "stream",
     "text": [
      "\n",
      "Model: LogisticRegression\n",
      "Accuracy: 0.1996\n",
      "              precision    recall  f1-score      support\n",
      "0              0.191176  0.478261  0.273161   598.000000\n",
      "1              0.000000  0.000000  0.000000   434.000000\n",
      "2              0.206792  0.613534  0.309325   665.000000\n",
      "3              0.071429  0.002169  0.004211   461.000000\n",
      "4              0.000000  0.000000  0.000000   334.000000\n",
      "5              0.000000  0.000000  0.000000   548.000000\n",
      "6              0.250000  0.002237  0.004435   447.000000\n",
      "accuracy       0.199599  0.199599  0.199599     0.199599\n",
      "macro avg      0.102771  0.156600  0.084447  3487.000000\n",
      "weighted avg   0.113713  0.199599  0.106962  3487.000000\n"
     ]
    },
    {
     "data": {
      "image/png": "[encoded data removed]",
      "text/plain": [
       "<Figure size 800x600 with 2 Axes>"
      ]
     },
     "metadata": {},
     "output_type": "display_data"
    },
    {
     "name": "stdout",
     "output_type": "stream",
     "text": [
      "\n",
      "Model: DecisionTree\n",
      "Accuracy: 0.2122\n",
      "              precision    recall  f1-score      support\n",
      "0              0.228243  0.232441  0.230323   598.000000\n",
      "1              0.208791  0.218894  0.213723   434.000000\n",
      "2              0.268139  0.255639  0.261740   665.000000\n",
      "3              0.179325  0.184382  0.181818   461.000000\n",
      "4              0.184438  0.191617  0.187959   334.000000\n",
      "5              0.219231  0.208029  0.213483   548.000000\n",
      "6              0.162946  0.163311  0.163128   447.000000\n",
      "accuracy       0.212217  0.212217  0.212217     0.212217\n",
      "macro avg      0.207302  0.207759  0.207454  3487.000000\n",
      "weighted avg   0.212981  0.212217  0.212518  3487.000000\n"
     ]
    },
    {
     "data": {
      "image/png": "[encoded data removed]",
      "text/plain": [
       "<Figure size 800x600 with 2 Axes>"
      ]
     },
     "metadata": {},
     "output_type": "display_data"
    },
    {
     "name": "stdout",
     "output_type": "stream",
     "text": [
      "\n",
      "Best Model:\n",
      "Best Model: RandomForestClassifier()\n",
      "Best Model Accuracy: 0.2865\n"
     ]
    }
   ],
   "source": [
    "import pandas as pd\n",
    "from sklearn.model_selection import train_test_split\n",
    "from sklearn.ensemble import RandomForestClassifier\n",
    "from sklearn.linear_model import LogisticRegression\n",
    "from sklearn.tree import DecisionTreeClassifier\n",
    "from sklearn.metrics import classification_report, accuracy_score, confusion_matrix\n",
    "import seaborn as sns\n",
    "import matplotlib.pyplot as plt\n",
    "\n",
    "# Define models\n",
    "models = {\n",
    "    'RandomForest': RandomForestClassifier(),\n",
    "    'LogisticRegression': LogisticRegression(max_iter=1000),\n",
    "    'DecisionTree': DecisionTreeClassifier()\n",
    "}\n",
    "\n",
    "# Train models and evaluate them\n",
    "best_model = None\n",
    "best_score = 0\n",
    "model_reports = {}\n",
    "\n",
    "for model_name, model in models.items():\n",
    "    model.fit(X_train, y_train)  # Train model\n",
    "    y_pred = model.predict(X_test)  # Make predictions\n",
    "    \n",
    "    # Calculate accuracy and generate classification report\n",
    "    accuracy = accuracy_score(y_test, y_pred)\n",
    "    model_reports[model_name] = classification_report(y_test, y_pred, output_dict=True)  # Store as a dictionary for easier analysis\n",
    "    \n",
    "    # Track best performing model\n",
    "    if accuracy > best_score:\n",
    "        best_score = accuracy\n",
    "        best_model = model\n",
    "\n",
    "# Display classification reports and confusion matrices\n",
    "print(\"\\nClassification Report for All Models:\")\n",
    "for model_name, report in model_reports.items():\n",
    "    print(f\"\\nModel: {model_name}\")\n",
    "    print(\"Accuracy: {:.4f}\".format(accuracy_score(y_test, models[model_name].predict(X_test))))  # Display accuracy\n",
    "    print(pd.DataFrame(report).transpose())  # Display classification report as a DataFrame\n",
    "\n",
    "    # Plot Confusion Matrix\n",
    "    cm = confusion_matrix(y_test, models[model_name].predict(X_test))\n",
    "    plt.figure(figsize=(8, 6))\n",
    "    sns.heatmap(cm, annot=True, fmt=\"d\", cmap='Blues', xticklabels=offense_encoder.classes_, yticklabels=offense_encoder.classes_)\n",
    "    plt.title(f\"Confusion Matrix - {model_name}\")\n",
    "    plt.xlabel('Predicted Labels')\n",
    "    plt.ylabel('True Labels')\n",
    "    plt.show()\n",
    "\n",
    "# Display best model details\n",
    "print(\"\\nBest Model:\")\n",
    "print(f\"Best Model: {best_model}\")\n",
    "print(f\"Best Model Accuracy: {best_score:.4f}\")\n"
   ]
  },
  {
   "cell_type": "markdown",
   "id": "74c21a46",
   "metadata": {
    "papermill": {
     "duration": 0.010808,
     "end_time": "2025-05-21T01:04:48.010686",
     "exception": false,
     "start_time": "2025-05-21T01:04:47.999878",
     "status": "completed"
    },
    "tags": []
   },
   "source": [
    "#### Classification Report for All Models:\n",
    "\n",
    "### Explanation of the Classification Results (RandomForest Model)\n",
    "\n",
    "The results you provided are from a **Random Forest** model, which is used for predicting different types of offenses. Let's break down the key components of the results:\n",
    "\n",
    "#### 1. **Accuracy: 0.2822**\n",
    "   - **Accuracy** measures the overall percentage of correct predictions made by the model. An accuracy of 28.22% means the model correctly predicted the offense in about 28% of the cases. This indicates the model's predictions are not highly reliable, as the accuracy is quite low.\n",
    "\n",
    "#### 2. **Classification Report:**\n",
    "   The classification report includes precision, recall, and F1-score for each offense. Let's go over these terms and how they apply to the results:\n",
    "\n",
    "   - **Precision**: The proportion of true positive predictions out of all positive predictions made by the model for a specific class (offense).\n",
    "   - **Recall**: The proportion of true positive predictions out of all actual positive instances in the dataset.\n",
    "   - **F1-Score**: The harmonic mean of precision and recall, providing a balance between the two metrics.\n",
    "   - **Support**: The number of actual occurrences of each class in the test set.\n",
    "\n",
    "   Let's analyze each offense based on these metrics:\n",
    "\n",
    "   | **Offense**                        | **Precision** | **Recall** | **F1-Score** | **Support** |\n",
    "   |------------------------------------|---------------|------------|--------------|-------------|\n",
    "   | **Assault Simple**                 | 0.2892        | 0.3754     | 0.3267       | 594         |\n",
    "   | **Assist Citizen - Mental/TDO/ECO**| 0.3182        | 0.2274     | 0.2652       | 431         |\n",
    "   | **Hit and Run**                    | 0.2963        | 0.4765     | 0.3654       | 638         |\n",
    "   | **Larceny - All Other**            | 0.2270        | 0.1453     | 0.1772       | 475         |\n",
    "   | **Lost/FoundProperty**             | 0.3333        | 0.2102     | 0.2578       | 352         |\n",
    "   | **Suspicious Activity**            | 0.2344        | 0.2169     | 0.2253       | 484         |\n",
    "   | **Vandalism**                      | 0.2712        | 0.2106     | 0.2371       | 470         |\n",
    "\n",
    "#### 3. **Key Insights from the Report:**\n",
    "\n",
    "- **Precision**:\n",
    "   - The highest precision is for **Larceny - All Other** (0.3333), indicating that when the model predicts this offense, it is correct about 33% of the time. However, this is still quite low.\n",
    "   - **Assist Citizen - Mental/TDO/ECO** has the lowest precision (0.2269), meaning that the model's predictions for this offense tend to be wrong more often than correct.\n",
    "\n",
    "- **Recall**:\n",
    "   - **Hit and Run** has the highest recall (0.4765), meaning the model identifies about 48% of the actual occurrences of this offense. This is better than the precision, which indicates it is missing many true positives but is still able to identify a fair number of cases.\n",
    "   - **Larceny - All Other** and **Suspicious Activity** have the lowest recall values (0.1453 and 0.2169, respectively), indicating that the model is failing to identify most of the actual cases for these offenses.\n",
    "\n",
    "- **F1-Score**:\n",
    "   - The **F1-Score** balances precision and recall. It is highest for **Hit and Run** (0.3654), but still relatively low overall. This suggests the model is better at identifying **Hit and Run** than other offenses but still has room for improvement.\n",
    "   - **Larceny - All Other** has the lowest F1-Score (0.1772), indicating a poor balance between precision and recall for this offense.\n",
    "\n",
    "#### 4. **Macro Average and Weighted Average:**\n",
    "   - **Macro Average**: This gives the average precision, recall, and F1-Score across all classes (offenses) without considering the class distribution. It averages the results for all offenses equally.\n",
    "     - Precision: 0.2814\n",
    "     - Recall: 0.2661\n",
    "     - F1-Score: 0.2649\n",
    "   - **Weighted Average**: This averages the metrics but weighs each class by its support (the number of true instances in the test set). This gives a better sense of overall performance, considering the class distribution.\n",
    "     - Precision: 0.2799\n",
    "     - Recall: 0.2822\n",
    "     - F1-Score: 0.2720\n",
    "\n",
    "#### 5. **Confusion Matrix (Visualization Analysis)**:\n",
    "   - The confusion matrix shows the distribution of true positive, false positive, true negative, and false negative predictions for each class.\n",
    "     - For **Hit and Run**, the model performs relatively well in identifying this offense (304 true positives). However, it also misclassifies some **Hit and Run** instances as other offenses (e.g., **Assault Simple**, **Suspicious Activity**, etc.).\n",
    "     - **Larceny - All Other** is frequently misclassified as **Hit and Run**, **Suspicious Activity**, and others. This is evident from the large number of off-diagonal elements in its row.\n",
    "     - **Assist Citizen - Mental/TDO/ECO** and **Suspicious Activity** are frequently misclassified, as seen by the off-diagonal values in their rows.\n",
    "\n",
    "### Conclusion:\n",
    "The Random Forest model has low accuracy (28.22%), suggesting that it struggles to predict most offenses accurately. Some offenses like **Hit and Run** are better predicted than others, but overall, the model shows a high level of misclassification across all offenses. There may be a need for further tuning of the model, additional feature engineering, or trying different models for better performance.\n",
    "\n",
    "Let me know if you'd like to improve the model or make adjustments based on these results!\n",
    "\n"
   ]
  },
  {
   "cell_type": "markdown",
   "id": "48eb94fa",
   "metadata": {
    "papermill": {
     "duration": 0.010833,
     "end_time": "2025-05-21T01:04:48.032322",
     "exception": false,
     "start_time": "2025-05-21T01:04:48.021489",
     "status": "completed"
    },
    "tags": []
   },
   "source": [
    "### Model Explanation\n",
    "\n",
    "Once we’ve chosen the best model, we will explain its predictions by examining feature importance for tree-based models and using statistical methods like logistic regression coefficients for linear models."
   ]
  },
  {
   "cell_type": "markdown",
   "id": "d35bf811",
   "metadata": {
    "papermill": {
     "duration": 0.010607,
     "end_time": "2025-05-21T01:04:48.053658",
     "exception": false,
     "start_time": "2025-05-21T01:04:48.043051",
     "status": "completed"
    },
    "tags": []
   },
   "source": [
    "#### Feature Importance for Random Forest / Decision Tree\n",
    "\n",
    "##### For Tree-based Models (Random Forest, Decision Tree)\n",
    "\n",
    "For Random Forest or Decision Tree, we can look at feature importance to understand which variables contribute the most to the model's predictions. Here's how you can visualize and interpret the importance of each feature:"
   ]
  },
  {
   "cell_type": "code",
   "execution_count": 23,
   "id": "e467f676",
   "metadata": {
    "execution": {
     "iopub.execute_input": "2025-05-21T01:04:48.076767Z",
     "iopub.status.busy": "2025-05-21T01:04:48.076225Z",
     "iopub.status.idle": "2025-05-21T01:04:48.242449Z",
     "shell.execute_reply": "2025-05-21T01:04:48.241673Z"
    },
    "papermill": {
     "duration": 0.178988,
     "end_time": "2025-05-21T01:04:48.243494",
     "exception": false,
     "start_time": "2025-05-21T01:04:48.064506",
     "status": "completed"
    },
    "tags": []
   },
   "outputs": [
    {
     "data": {
      "image/png": "[encoded data removed]",
      "text/plain": [
       "<Figure size 1000x600 with 1 Axes>"
      ]
     },
     "metadata": {},
     "output_type": "display_data"
    }
   ],
   "source": [
    "# For RandomForest or DecisionTree models, we can check feature importance\n",
    "if isinstance(best_model, RandomForestClassifier) or isinstance(best_model, DecisionTreeClassifier):\n",
    "    feature_importance = best_model.feature_importances_\n",
    "    feature_names = X.columns\n",
    "    importance_df = pd.DataFrame({'Feature': feature_names, 'Importance': feature_importance})\n",
    "    importance_df = importance_df.sort_values(by='Importance', ascending=False)\n",
    "    \n",
    "    # Plotting the feature importances\n",
    "    plt.figure(figsize=(10, 6))\n",
    "    sns.barplot(x='Importance', y='Feature', data=importance_df)\n",
    "    plt.title(\"Feature Importance\")\n",
    "    plt.show()\n"
   ]
  },
  {
   "cell_type": "code",
   "execution_count": null,
   "id": "7966899e",
   "metadata": {
    "papermill": {
     "duration": 0.011117,
     "end_time": "2025-05-21T01:04:48.266031",
     "exception": false,
     "start_time": "2025-05-21T01:04:48.254914",
     "status": "completed"
    },
    "tags": []
   },
   "outputs": [],
   "source": []
  },
  {
   "cell_type": "markdown",
   "id": "2d93aeb7",
   "metadata": {
    "papermill": {
     "duration": 0.011178,
     "end_time": "2025-05-21T01:04:48.288671",
     "exception": false,
     "start_time": "2025-05-21T01:04:48.277493",
     "status": "completed"
    },
    "tags": []
   },
   "source": [
    "### Evaluation\n",
    "\n",
    "After training the models and examining their performance, we evaluate the chosen model based on metrics like accuracy, precision, recall, and F1 score.\n",
    "\n"
   ]
  },
  {
   "cell_type": "code",
   "execution_count": 24,
   "id": "a9040b44",
   "metadata": {
    "execution": {
     "iopub.execute_input": "2025-05-21T01:04:48.312442Z",
     "iopub.status.busy": "2025-05-21T01:04:48.311804Z",
     "iopub.status.idle": "2025-05-21T01:04:48.403045Z",
     "shell.execute_reply": "2025-05-21T01:04:48.402347Z"
    },
    "papermill": {
     "duration": 0.104419,
     "end_time": "2025-05-21T01:04:48.404228",
     "exception": false,
     "start_time": "2025-05-21T01:04:48.299809",
     "status": "completed"
    },
    "tags": []
   },
   "outputs": [
    {
     "name": "stdout",
     "output_type": "stream",
     "text": [
      "Accuracy: 0.2865\n",
      "Classification Report:\n",
      "              precision    recall  f1-score   support\n",
      "\n",
      "           0       0.29      0.36      0.32       598\n",
      "           1       0.30      0.24      0.26       434\n",
      "           2       0.30      0.46      0.36       665\n",
      "           3       0.22      0.16      0.19       461\n",
      "           4       0.35      0.26      0.30       334\n",
      "           5       0.27      0.19      0.23       548\n",
      "           6       0.28      0.24      0.25       447\n",
      "\n",
      "    accuracy                           0.29      3487\n",
      "   macro avg       0.29      0.27      0.27      3487\n",
      "weighted avg       0.28      0.29      0.28      3487\n",
      "\n",
      "Confusion Matrix:\n",
      "[[213  66 155  45  18  61  40]\n",
      " [104 104 102  39  10  39  36]\n",
      " [118  42 307  70  24  52  52]\n",
      " [ 80  31 136  75  34  48  57]\n",
      " [ 42  24  64  43  88  30  43]\n",
      " [114  50 147  39  41 106  51]\n",
      " [ 74  34 112  36  35  50 106]]\n",
      "Precision: 0.2839\n",
      "Recall: 0.2865\n",
      "F1 Score: 0.2785\n"
     ]
    }
   ],
   "source": [
    "from sklearn.metrics import classification_report, confusion_matrix, accuracy_score, precision_score, recall_score, f1_score\n",
    "\n",
    "# Predict on the test set\n",
    "y_pred = best_model.predict(X_test)\n",
    "\n",
    "# Calculate Accuracy\n",
    "accuracy = accuracy_score(y_test, y_pred)\n",
    "print(f\"Accuracy: {accuracy:.4f}\")\n",
    "\n",
    "# Classification Report\n",
    "print(\"Classification Report:\")\n",
    "print(classification_report(y_test, y_pred))\n",
    "\n",
    "# Confusion Matrix\n",
    "conf_matrix = confusion_matrix(y_test, y_pred)\n",
    "print(\"Confusion Matrix:\")\n",
    "print(conf_matrix)\n",
    "\n",
    "# Precision, Recall, F1 Score for each class (Offense Type)\n",
    "precision = precision_score(y_test, y_pred, average='weighted')\n",
    "recall = recall_score(y_test, y_pred, average='weighted')\n",
    "f1 = f1_score(y_test, y_pred, average='weighted')\n",
    "\n",
    "print(f\"Precision: {precision:.4f}\")\n",
    "print(f\"Recall: {recall:.4f}\")\n",
    "print(f\"F1 Score: {f1:.4f}\")\n"
   ]
  },
  {
   "cell_type": "markdown",
   "id": "571ef4ad",
   "metadata": {
    "papermill": {
     "duration": 0.011235,
     "end_time": "2025-05-21T01:04:48.426880",
     "exception": false,
     "start_time": "2025-05-21T01:04:48.415645",
     "status": "completed"
    },
    "tags": []
   },
   "source": [
    "#### For Logistic Regression (Coefficient Interpretation)\n",
    "\n",
    "For Logistic Regression, the model coefficients can help us understand how each feature affects the likelihood of an offense happening. A positive coefficient indicates a feature increases the likelihood of the offense, and a negative coefficient indicates the opposite."
   ]
  },
  {
   "cell_type": "code",
   "execution_count": 25,
   "id": "28873ce9",
   "metadata": {
    "execution": {
     "iopub.execute_input": "2025-05-21T01:04:48.450707Z",
     "iopub.status.busy": "2025-05-21T01:04:48.450111Z",
     "iopub.status.idle": "2025-05-21T01:04:48.454901Z",
     "shell.execute_reply": "2025-05-21T01:04:48.454361Z"
    },
    "papermill": {
     "duration": 0.017886,
     "end_time": "2025-05-21T01:04:48.455857",
     "exception": false,
     "start_time": "2025-05-21T01:04:48.437971",
     "status": "completed"
    },
    "tags": []
   },
   "outputs": [],
   "source": [
    "if isinstance(best_model, LogisticRegression):\n",
    "    # Logistic regression coefficients\n",
    "    coef_df = pd.DataFrame({\n",
    "        'Feature': X.columns,\n",
    "        'Coefficient': best_model.coef_[0]\n",
    "    })\n",
    "    coef_df['AbsCoefficient'] = coef_df['Coefficient'].abs()\n",
    "    coef_df = coef_df.sort_values(by='AbsCoefficient', ascending=False)\n",
    "    \n",
    "    # Plotting the coefficients\n",
    "    plt.figure(figsize=(10, 6))\n",
    "    sns.barplot(x='AbsCoefficient', y='Feature', data=coef_df)\n",
    "    plt.title(\"Logistic Regression Coefficients Impact\")\n",
    "    plt.show()\n",
    "\n",
    "    # Print the top 5 most impactful features (by absolute coefficient value)\n",
    "    print(\"Top 5 most impactful features based on coefficients:\")\n",
    "    print(coef_df.head())\n"
   ]
  },
  {
   "cell_type": "markdown",
   "id": "610f33cb",
   "metadata": {
    "papermill": {
     "duration": 0.011125,
     "end_time": "2025-05-21T01:04:48.478318",
     "exception": false,
     "start_time": "2025-05-21T01:04:48.467193",
     "status": "completed"
    },
    "tags": []
   },
   "source": [
    "Explanation of Output:\n",
    "\n",
    "Feature Importance (Random Forest/Decision Tree): The bar plot will show how important each feature is in the decision-making process. Features at the top of the list are the most influential in predicting the occurrence of offenses.\n",
    "\n",
    "Logistic Regression Coefficients: The bar plot will show the magnitude of the coefficients for each feature. Features with larger absolute values (either positive or negative) have a stronger impact on the model’s predictions. Positive coefficients increase the probability of an offense, while negative coefficients decrease it."
   ]
  },
  {
   "cell_type": "markdown",
   "id": "fb3ddc98",
   "metadata": {
    "papermill": {
     "duration": 0.011082,
     "end_time": "2025-05-21T01:04:48.500612",
     "exception": false,
     "start_time": "2025-05-21T01:04:48.489530",
     "status": "completed"
    },
    "tags": []
   },
   "source": []
  }
 ],
 "metadata": {
  "kernelspec": {
   "display_name": "Python 3",
   "language": "python",
   "name": "python3"
  },
  "language_info": {
   "codemirror_mode": {
    "name": "ipython",
    "version": 3
   },
   "file_extension": ".py",
   "mimetype": "text/x-python",
   "name": "python",
   "nbconvert_exporter": "python",
   "pygments_lexer": "ipython3",
   "version": "3.9.22"
  },
  "papermill": {
   "default_parameters": {},
   "duration": 82.042023,
   "end_time": "2025-05-21T01:04:49.028517",
   "environment_variables": {},
   "exception": null,
   "input_path": "notebook/Crime Data.ipynb",
   "output_path": "notebook/Crime Data_output.ipynb",
   "parameters": {},
   "start_time": "2025-05-21T01:03:26.986494",
   "version": "2.6.0"
  }
 },
 "nbformat": 4,
 "nbformat_minor": 5
}