{
 "cells": [
  {
   "cell_type": "markdown",
   "id": "049650e8",
   "metadata": {
    "papermill": {
     "duration": 0.004367,
     "end_time": "2025-07-19T01:06:44.577331",
     "exception": false,
     "start_time": "2025-07-19T01:06:44.572964",
     "status": "completed"
    },
    "tags": []
   },
   "source": [
    "# Charlottesville Open Data Porttal: Crime Data"
   ]
  },
  {
   "cell_type": "markdown",
   "id": "ffb53a14",
   "metadata": {
    "papermill": {
     "duration": 0.004359,
     "end_time": "2025-07-19T01:06:44.585383",
     "exception": false,
     "start_time": "2025-07-19T01:06:44.581024",
     "status": "completed"
    },
    "tags": []
   },
   "source": [
    "## Import Relevant Librarires & Set WD"
   ]
  },
  {
   "cell_type": "code",
   "execution_count": 1,
   "id": "6cae3f4a",
   "metadata": {
    "execution": {
     "iopub.execute_input": "2025-07-19T01:06:44.593556Z",
     "iopub.status.busy": "2025-07-19T01:06:44.592935Z",
     "iopub.status.idle": "2025-07-19T01:06:45.362506Z",
     "shell.execute_reply": "2025-07-19T01:06:45.361774Z"
    },
    "papermill": {
     "duration": 0.775244,
     "end_time": "2025-07-19T01:06:45.363951",
     "exception": false,
     "start_time": "2025-07-19T01:06:44.588707",
     "status": "completed"
    },
    "tags": []
   },
   "outputs": [],
   "source": [
    "import requests\n",
    "import pandas as pd\n",
    "import numpy as np\n",
    "import pickle\n",
    "import googlemaps\n",
    "import plotly.express as px\n",
    "from geopy.geocoders import Nominatim\n",
    "import time\n",
    "from dotenv import load_dotenv\n",
    "import os\n",
    "\n",
    "env_path = os.path.join(\"..\", \".env\")\n",
    "#print(\"Looking for .env file at:\", os.path.abspath(env_path))\n",
    "load_dotenv(dotenv_path=env_path)\n",
    "\n",
    "# Retrieve the variables\n",
    "GOOGLE_API_KEY = os.getenv(\"GOOGLE_API_KEY\")\n",
    "WORKING_DIR = os.getenv(\"WORKING_DIR\")\n",
    "\n",
    "if GOOGLE_API_KEY is None or WORKING_DIR is None:\n",
    "    raise RuntimeError(\"No configuration found. Please ensure that your .env file exists with the required variables, or create a local config.py file.\")\n",
    "\n",
    "#print(\"Google API Key:\", GOOGLE_API_KEY)\n",
    "#print(\"Working Directory:\", WORKING_DIR)"
   ]
  },
  {
   "cell_type": "markdown",
   "id": "76188732",
   "metadata": {
    "papermill": {
     "duration": 0.003403,
     "end_time": "2025-07-19T01:06:45.371171",
     "exception": false,
     "start_time": "2025-07-19T01:06:45.367768",
     "status": "completed"
    },
    "tags": []
   },
   "source": [
    "## Import Data\n",
    "\n",
    "URL: https://opendata.charlottesville.org/datasets/charlottesville::crime-data/about"
   ]
  },
  {
   "cell_type": "code",
   "execution_count": 2,
   "id": "6bd7cd24",
   "metadata": {
    "execution": {
     "iopub.execute_input": "2025-07-19T01:06:45.379088Z",
     "iopub.status.busy": "2025-07-19T01:06:45.378565Z",
     "iopub.status.idle": "2025-07-19T01:07:54.612084Z",
     "shell.execute_reply": "2025-07-19T01:07:54.611334Z"
    },
    "papermill": {
     "duration": 69.242028,
     "end_time": "2025-07-19T01:07:54.616480",
     "exception": false,
     "start_time": "2025-07-19T01:06:45.374452",
     "status": "completed"
    },
    "tags": []
   },
   "outputs": [
    {
     "name": "stdout",
     "output_type": "stream",
     "text": [
      "Total records imported: 25538\n"
     ]
    }
   ],
   "source": [
    "# Define the endpoint and initial parameters.\n",
    "url = \"https://gisweb.charlottesville.org/arcgis/rest/services/OpenData_2/MapServer/6/query\"\n",
    "params = {\n",
    "    \"where\": \"1=1\",\n",
    "    \"outFields\": \"*\",\n",
    "    \"outSR\": 4326,\n",
    "    \"f\": \"json\",\n",
    "    \"resultOffset\": 0,       # Starting index for results\n",
    "    \"resultRecordCount\": 10000  # Maximum records per batch (if allowed by the API)\n",
    "}\n",
    "\n",
    "records = []\n",
    "\n",
    "while True:\n",
    "    response = requests.get(url, params=params)\n",
    "    response.raise_for_status()\n",
    "    data = response.json()\n",
    "    \n",
    "    # Get the current batch of features.\n",
    "    features = data.get(\"features\", [])\n",
    "    if not features:\n",
    "        break\n",
    "\n",
    "    # Extract the attributes from the features.\n",
    "    batch_records = [feature.get(\"attributes\", {}) for feature in features]\n",
    "    records.extend(batch_records)\n",
    "    \n",
    "    # If the batch size is less than the requested count, we reached the end.\n",
    "    if len(features) < params[\"resultRecordCount\"]:\n",
    "        break\n",
    "\n",
    "    # Update the resultOffset for the next batch.\n",
    "    params[\"resultOffset\"] += params[\"resultRecordCount\"]\n",
    "\n",
    "# Create a DataFrame from the combined records.\n",
    "df = pd.DataFrame(records)\n",
    "print(\"Total records imported:\", len(df))\n"
   ]
  },
  {
   "cell_type": "code",
   "execution_count": 3,
   "id": "be7d088f",
   "metadata": {
    "execution": {
     "iopub.execute_input": "2025-07-19T01:07:54.624740Z",
     "iopub.status.busy": "2025-07-19T01:07:54.624097Z",
     "iopub.status.idle": "2025-07-19T01:07:54.637001Z",
     "shell.execute_reply": "2025-07-19T01:07:54.636372Z"
    },
    "papermill": {
     "duration": 0.017993,
     "end_time": "2025-07-19T01:07:54.637998",
     "exception": false,
     "start_time": "2025-07-19T01:07:54.620005",
     "status": "completed"
    },
    "tags": []
   },
   "outputs": [
    {
     "data": {
      "text/html": [
       "<div>\n",
       "<style scoped>\n",
       "    .dataframe tbody tr th:only-of-type {\n",
       "        vertical-align: middle;\n",
       "    }\n",
       "\n",
       "    .dataframe tbody tr th {\n",
       "        vertical-align: top;\n",
       "    }\n",
       "\n",
       "    .dataframe thead th {\n",
       "        text-align: right;\n",
       "    }\n",
       "</style>\n",
       "<table border=\"1\" class=\"dataframe\">\n",
       "  <thead>\n",
       "    <tr style=\"text-align: right;\">\n",
       "      <th></th>\n",
       "      <th>RecordID</th>\n",
       "      <th>Offense</th>\n",
       "      <th>IncidentID</th>\n",
       "      <th>BlockNumber</th>\n",
       "      <th>StreetName</th>\n",
       "      <th>Agency</th>\n",
       "      <th>DateReported</th>\n",
       "      <th>HourReported</th>\n",
       "      <th>ReportingOfficer</th>\n",
       "    </tr>\n",
       "  </thead>\n",
       "  <tbody>\n",
       "    <tr>\n",
       "      <th>0</th>\n",
       "      <td>1</td>\n",
       "      <td>Disorderly Conduct</td>\n",
       "      <td>202500024996</td>\n",
       "      <td>1700</td>\n",
       "      <td>JEFFERSON PARK AVE</td>\n",
       "      <td>CPD</td>\n",
       "      <td>1752702909000</td>\n",
       "      <td>1755</td>\n",
       "      <td>Venereo, Arturo</td>\n",
       "    </tr>\n",
       "    <tr>\n",
       "      <th>1</th>\n",
       "      <td>2</td>\n",
       "      <td>Drug Investigation</td>\n",
       "      <td>202500024973</td>\n",
       "      <td>2200</td>\n",
       "      <td>BANBURY ST</td>\n",
       "      <td>CPD</td>\n",
       "      <td>1752695387000</td>\n",
       "      <td>1549</td>\n",
       "      <td>Adams, Austin</td>\n",
       "    </tr>\n",
       "    <tr>\n",
       "      <th>2</th>\n",
       "      <td>3</td>\n",
       "      <td>Larceny - Shoplifitng</td>\n",
       "      <td>202500024958</td>\n",
       "      <td>1100</td>\n",
       "      <td>5TH ST SW</td>\n",
       "      <td>CPD</td>\n",
       "      <td>1752687879000</td>\n",
       "      <td>1344</td>\n",
       "      <td>Jones, Mark</td>\n",
       "    </tr>\n",
       "    <tr>\n",
       "      <th>3</th>\n",
       "      <td>4</td>\n",
       "      <td>Animal Complaint</td>\n",
       "      <td>202500024955</td>\n",
       "      <td>200</td>\n",
       "      <td>9TH ST NW</td>\n",
       "      <td>CPD</td>\n",
       "      <td>1752686726000</td>\n",
       "      <td>1325</td>\n",
       "      <td>Carelsen, Louise</td>\n",
       "    </tr>\n",
       "    <tr>\n",
       "      <th>4</th>\n",
       "      <td>5</td>\n",
       "      <td>Larceny - Shoplifitng</td>\n",
       "      <td>202500024937</td>\n",
       "      <td>1100</td>\n",
       "      <td>EMMET ST N</td>\n",
       "      <td>CPD</td>\n",
       "      <td>1752677724000</td>\n",
       "      <td>1055</td>\n",
       "      <td>Love-Baker, Sydney</td>\n",
       "    </tr>\n",
       "  </tbody>\n",
       "</table>\n",
       "</div>"
      ],
      "text/plain": [
       "   RecordID                Offense    IncidentID BlockNumber  \\\n",
       "0         1     Disorderly Conduct  202500024996        1700   \n",
       "1         2     Drug Investigation  202500024973        2200   \n",
       "2         3  Larceny - Shoplifitng  202500024958        1100   \n",
       "3         4       Animal Complaint  202500024955         200   \n",
       "4         5  Larceny - Shoplifitng  202500024937        1100   \n",
       "\n",
       "           StreetName Agency   DateReported HourReported    ReportingOfficer  \n",
       "0  JEFFERSON PARK AVE    CPD  1752702909000         1755     Venereo, Arturo  \n",
       "1          BANBURY ST    CPD  1752695387000         1549       Adams, Austin  \n",
       "2           5TH ST SW    CPD  1752687879000         1344         Jones, Mark  \n",
       "3           9TH ST NW    CPD  1752686726000         1325    Carelsen, Louise  \n",
       "4          EMMET ST N    CPD  1752677724000         1055  Love-Baker, Sydney  "
      ]
     },
     "execution_count": 3,
     "metadata": {},
     "output_type": "execute_result"
    }
   ],
   "source": [
    "df.head()"
   ]
  },
  {
   "cell_type": "code",
   "execution_count": 4,
   "id": "02cff69f",
   "metadata": {
    "execution": {
     "iopub.execute_input": "2025-07-19T01:07:54.646131Z",
     "iopub.status.busy": "2025-07-19T01:07:54.645889Z",
     "iopub.status.idle": "2025-07-19T01:07:54.650138Z",
     "shell.execute_reply": "2025-07-19T01:07:54.649605Z"
    },
    "papermill": {
     "duration": 0.009494,
     "end_time": "2025-07-19T01:07:54.651160",
     "exception": false,
     "start_time": "2025-07-19T01:07:54.641666",
     "status": "completed"
    },
    "tags": []
   },
   "outputs": [
    {
     "data": {
      "text/plain": [
       "Index(['RecordID', 'Offense', 'IncidentID', 'BlockNumber', 'StreetName',\n",
       "       'Agency', 'DateReported', 'HourReported', 'ReportingOfficer'],\n",
       "      dtype='object')"
      ]
     },
     "execution_count": 4,
     "metadata": {},
     "output_type": "execute_result"
    }
   ],
   "source": [
    "df.columns"
   ]
  },
  {
   "cell_type": "code",
   "execution_count": 5,
   "id": "f97e57a2",
   "metadata": {
    "execution": {
     "iopub.execute_input": "2025-07-19T01:07:54.659629Z",
     "iopub.status.busy": "2025-07-19T01:07:54.659372Z",
     "iopub.status.idle": "2025-07-19T01:07:54.685631Z",
     "shell.execute_reply": "2025-07-19T01:07:54.685036Z"
    },
    "papermill": {
     "duration": 0.031749,
     "end_time": "2025-07-19T01:07:54.686777",
     "exception": false,
     "start_time": "2025-07-19T01:07:54.655028",
     "status": "completed"
    },
    "tags": []
   },
   "outputs": [
    {
     "name": "stdout",
     "output_type": "stream",
     "text": [
      "<class 'pandas.core.frame.DataFrame'>\n",
      "RangeIndex: 25538 entries, 0 to 25537\n",
      "Data columns (total 9 columns):\n",
      " #   Column            Non-Null Count  Dtype \n",
      "---  ------            --------------  ----- \n",
      " 0   RecordID          25538 non-null  int64 \n",
      " 1   Offense           25538 non-null  object\n",
      " 2   IncidentID        25538 non-null  object\n",
      " 3   BlockNumber       25538 non-null  object\n",
      " 4   StreetName        25538 non-null  object\n",
      " 5   Agency            25538 non-null  object\n",
      " 6   DateReported      25538 non-null  int64 \n",
      " 7   HourReported      25538 non-null  object\n",
      " 8   ReportingOfficer  25521 non-null  object\n",
      "dtypes: int64(2), object(7)\n",
      "memory usage: 1.8+ MB\n"
     ]
    }
   ],
   "source": [
    "df.info()"
   ]
  },
  {
   "cell_type": "markdown",
   "id": "ccd1cfba",
   "metadata": {
    "papermill": {
     "duration": 0.003869,
     "end_time": "2025-07-19T01:07:54.694730",
     "exception": false,
     "start_time": "2025-07-19T01:07:54.690861",
     "status": "completed"
    },
    "tags": []
   },
   "source": [
    "### Missing Values"
   ]
  },
  {
   "cell_type": "code",
   "execution_count": 6,
   "id": "ad9d085a",
   "metadata": {
    "execution": {
     "iopub.execute_input": "2025-07-19T01:07:54.703485Z",
     "iopub.status.busy": "2025-07-19T01:07:54.703024Z",
     "iopub.status.idle": "2025-07-19T01:07:54.729292Z",
     "shell.execute_reply": "2025-07-19T01:07:54.728689Z"
    },
    "papermill": {
     "duration": 0.031868,
     "end_time": "2025-07-19T01:07:54.730395",
     "exception": false,
     "start_time": "2025-07-19T01:07:54.698527",
     "status": "completed"
    },
    "tags": []
   },
   "outputs": [
    {
     "name": "stdout",
     "output_type": "stream",
     "text": [
      "                  MissingCount  MissingPercentage\n",
      "RecordID                     0               0.00\n",
      "Offense                      0               0.00\n",
      "IncidentID                   0               0.00\n",
      "BlockNumber                  0               0.00\n",
      "StreetName                   0               0.00\n",
      "Agency                       0               0.00\n",
      "DateReported                 0               0.00\n",
      "HourReported                 0               0.00\n",
      "ReportingOfficer            17               0.07\n"
     ]
    }
   ],
   "source": [
    "def missing_percentage(df):\n",
    "    \"\"\"\n",
    "    Returns a DataFrame with the count and percentage of missing values for each column.\n",
    "    \n",
    "    Parameters:\n",
    "        df (pd.DataFrame): The input DataFrame.\n",
    "    \n",
    "    Returns:\n",
    "        pd.DataFrame: A DataFrame with columns 'MissingCount' and 'MissingPercentage'.\n",
    "    \"\"\"\n",
    "    total_rows = len(df)\n",
    "    missing_count = df.isnull().sum()\n",
    "    missing_percent = (missing_count / total_rows) * 100\n",
    "    \n",
    "    result = pd.DataFrame({\n",
    "        'MissingCount': missing_count,\n",
    "        'MissingPercentage': missing_percent.round(2)\n",
    "    })\n",
    "    \n",
    "    return result\n",
    "\n",
    "# Example usage:\n",
    "missing_info = missing_percentage(df)\n",
    "print(missing_info)\n"
   ]
  },
  {
   "cell_type": "markdown",
   "id": "3f637350",
   "metadata": {
    "papermill": {
     "duration": 0.003928,
     "end_time": "2025-07-19T01:07:54.738605",
     "exception": false,
     "start_time": "2025-07-19T01:07:54.734677",
     "status": "completed"
    },
    "tags": []
   },
   "source": [
    "## Data Preparation"
   ]
  },
  {
   "cell_type": "markdown",
   "id": "c6b1b306",
   "metadata": {
    "papermill": {
     "duration": 0.003853,
     "end_time": "2025-07-19T01:07:54.746357",
     "exception": false,
     "start_time": "2025-07-19T01:07:54.742504",
     "status": "completed"
    },
    "tags": []
   },
   "source": [
    "### Data Conversion"
   ]
  },
  {
   "cell_type": "code",
   "execution_count": 7,
   "id": "d12f2dbb",
   "metadata": {
    "execution": {
     "iopub.execute_input": "2025-07-19T01:07:54.755712Z",
     "iopub.status.busy": "2025-07-19T01:07:54.755098Z",
     "iopub.status.idle": "2025-07-19T01:07:55.121745Z",
     "shell.execute_reply": "2025-07-19T01:07:55.120972Z"
    },
    "papermill": {
     "duration": 0.372619,
     "end_time": "2025-07-19T01:07:55.122904",
     "exception": false,
     "start_time": "2025-07-19T01:07:54.750285",
     "status": "completed"
    },
    "tags": []
   },
   "outputs": [
    {
     "data": {
      "text/html": [
       "<div>\n",
       "<style scoped>\n",
       "    .dataframe tbody tr th:only-of-type {\n",
       "        vertical-align: middle;\n",
       "    }\n",
       "\n",
       "    .dataframe tbody tr th {\n",
       "        vertical-align: top;\n",
       "    }\n",
       "\n",
       "    .dataframe thead th {\n",
       "        text-align: right;\n",
       "    }\n",
       "</style>\n",
       "<table border=\"1\" class=\"dataframe\">\n",
       "  <thead>\n",
       "    <tr style=\"text-align: right;\">\n",
       "      <th></th>\n",
       "      <th>RecordID</th>\n",
       "      <th>Offense</th>\n",
       "      <th>IncidentID</th>\n",
       "      <th>BlockNumber</th>\n",
       "      <th>StreetName</th>\n",
       "      <th>Agency</th>\n",
       "      <th>HourReported</th>\n",
       "      <th>ReportingOfficer</th>\n",
       "      <th>Date</th>\n",
       "      <th>DateString</th>\n",
       "      <th>DayOfWeek</th>\n",
       "      <th>Weekend</th>\n",
       "      <th>Season</th>\n",
       "      <th>HourAMPM</th>\n",
       "      <th>TimeOfDay</th>\n",
       "    </tr>\n",
       "  </thead>\n",
       "  <tbody>\n",
       "    <tr>\n",
       "      <th>0</th>\n",
       "      <td>1</td>\n",
       "      <td>Disorderly Conduct</td>\n",
       "      <td>202500024996</td>\n",
       "      <td>1700</td>\n",
       "      <td>JEFFERSON PARK AVE</td>\n",
       "      <td>CPD</td>\n",
       "      <td>1755</td>\n",
       "      <td>Venereo, Arturo</td>\n",
       "      <td>2025-07-16 17:55:09</td>\n",
       "      <td>2025-07-16 05:55:09 PM</td>\n",
       "      <td>Wednesday</td>\n",
       "      <td>False</td>\n",
       "      <td>Summer</td>\n",
       "      <td>05:55 PM</td>\n",
       "      <td>Evening</td>\n",
       "    </tr>\n",
       "    <tr>\n",
       "      <th>1</th>\n",
       "      <td>2</td>\n",
       "      <td>Drug Investigation</td>\n",
       "      <td>202500024973</td>\n",
       "      <td>2200</td>\n",
       "      <td>BANBURY ST</td>\n",
       "      <td>CPD</td>\n",
       "      <td>1549</td>\n",
       "      <td>Adams, Austin</td>\n",
       "      <td>2025-07-16 15:49:47</td>\n",
       "      <td>2025-07-16 03:49:47 PM</td>\n",
       "      <td>Wednesday</td>\n",
       "      <td>False</td>\n",
       "      <td>Summer</td>\n",
       "      <td>03:49 PM</td>\n",
       "      <td>Afternoon</td>\n",
       "    </tr>\n",
       "    <tr>\n",
       "      <th>2</th>\n",
       "      <td>3</td>\n",
       "      <td>Larceny - Shoplifitng</td>\n",
       "      <td>202500024958</td>\n",
       "      <td>1100</td>\n",
       "      <td>5TH ST SW</td>\n",
       "      <td>CPD</td>\n",
       "      <td>1344</td>\n",
       "      <td>Jones, Mark</td>\n",
       "      <td>2025-07-16 13:44:39</td>\n",
       "      <td>2025-07-16 01:44:39 PM</td>\n",
       "      <td>Wednesday</td>\n",
       "      <td>False</td>\n",
       "      <td>Summer</td>\n",
       "      <td>01:44 PM</td>\n",
       "      <td>Afternoon</td>\n",
       "    </tr>\n",
       "    <tr>\n",
       "      <th>3</th>\n",
       "      <td>4</td>\n",
       "      <td>Animal Complaint</td>\n",
       "      <td>202500024955</td>\n",
       "      <td>200</td>\n",
       "      <td>9TH ST NW</td>\n",
       "      <td>CPD</td>\n",
       "      <td>1325</td>\n",
       "      <td>Carelsen, Louise</td>\n",
       "      <td>2025-07-16 13:25:26</td>\n",
       "      <td>2025-07-16 01:25:26 PM</td>\n",
       "      <td>Wednesday</td>\n",
       "      <td>False</td>\n",
       "      <td>Summer</td>\n",
       "      <td>01:25 PM</td>\n",
       "      <td>Afternoon</td>\n",
       "    </tr>\n",
       "    <tr>\n",
       "      <th>4</th>\n",
       "      <td>5</td>\n",
       "      <td>Larceny - Shoplifitng</td>\n",
       "      <td>202500024937</td>\n",
       "      <td>1100</td>\n",
       "      <td>EMMET ST N</td>\n",
       "      <td>CPD</td>\n",
       "      <td>1055</td>\n",
       "      <td>Love-Baker, Sydney</td>\n",
       "      <td>2025-07-16 10:55:24</td>\n",
       "      <td>2025-07-16 10:55:24 AM</td>\n",
       "      <td>Wednesday</td>\n",
       "      <td>False</td>\n",
       "      <td>Summer</td>\n",
       "      <td>10:55 AM</td>\n",
       "      <td>Morning</td>\n",
       "    </tr>\n",
       "  </tbody>\n",
       "</table>\n",
       "</div>"
      ],
      "text/plain": [
       "   RecordID                Offense    IncidentID BlockNumber  \\\n",
       "0         1     Disorderly Conduct  202500024996        1700   \n",
       "1         2     Drug Investigation  202500024973        2200   \n",
       "2         3  Larceny - Shoplifitng  202500024958        1100   \n",
       "3         4       Animal Complaint  202500024955         200   \n",
       "4         5  Larceny - Shoplifitng  202500024937        1100   \n",
       "\n",
       "           StreetName Agency HourReported    ReportingOfficer  \\\n",
       "0  JEFFERSON PARK AVE    CPD         1755     Venereo, Arturo   \n",
       "1          BANBURY ST    CPD         1549       Adams, Austin   \n",
       "2           5TH ST SW    CPD         1344         Jones, Mark   \n",
       "3           9TH ST NW    CPD         1325    Carelsen, Louise   \n",
       "4          EMMET ST N    CPD         1055  Love-Baker, Sydney   \n",
       "\n",
       "                 Date              DateString  DayOfWeek  Weekend  Season  \\\n",
       "0 2025-07-16 17:55:09  2025-07-16 05:55:09 PM  Wednesday    False  Summer   \n",
       "1 2025-07-16 15:49:47  2025-07-16 03:49:47 PM  Wednesday    False  Summer   \n",
       "2 2025-07-16 13:44:39  2025-07-16 01:44:39 PM  Wednesday    False  Summer   \n",
       "3 2025-07-16 13:25:26  2025-07-16 01:25:26 PM  Wednesday    False  Summer   \n",
       "4 2025-07-16 10:55:24  2025-07-16 10:55:24 AM  Wednesday    False  Summer   \n",
       "\n",
       "   HourAMPM  TimeOfDay  \n",
       "0  05:55 PM    Evening  \n",
       "1  03:49 PM  Afternoon  \n",
       "2  01:44 PM  Afternoon  \n",
       "3  01:25 PM  Afternoon  \n",
       "4  10:55 AM    Morning  "
      ]
     },
     "execution_count": 7,
     "metadata": {},
     "output_type": "execute_result"
    }
   ],
   "source": [
    "def convert_and_categorize_datereported(df, col='DateReported'):\n",
    "    \"\"\"\n",
    "    Converts an epoch (in milliseconds) date column into a timezone-aware datetime,\n",
    "    converts it to Eastern Time, and then creates columns for day-of-week, weekend flag,\n",
    "    season, 12-hour formatted time, and time-of-day. Keeps both a real datetime column\n",
    "    (Date) and a string representation (DateString).\n",
    "    \"\"\"\n",
    "    import pandas as pd\n",
    "\n",
    "    # Convert the epoch timestamp to a pandas datetime object as UTC, then convert to US/Eastern.\n",
    "    df[\"DateReported_dt\"] = (\n",
    "        pd.to_datetime(df[col], unit=\"ms\", errors=\"coerce\", utc=True)\n",
    "        .dt.tz_convert(\"US/Eastern\")\n",
    "    )\n",
    "    \n",
    "    # Create a true datetime column (remove timezone if you prefer naive datetime)\n",
    "    df[\"Date\"] = df[\"DateReported_dt\"].dt.tz_localize(None)\n",
    "\n",
    "    # Optionally, create a separate string-formatted column\n",
    "    df[\"DateString\"] = df[\"DateReported_dt\"].dt.strftime(\"%Y-%m-%d %I:%M:%S %p\")\n",
    "    \n",
    "    # DayOfWeek\n",
    "    df[\"DayOfWeek\"] = df[\"DateReported_dt\"].dt.day_name()\n",
    "    \n",
    "    # Weekend\n",
    "    df[\"Weekend\"] = df[\"DayOfWeek\"].isin([\"Saturday\", \"Sunday\"])\n",
    "    \n",
    "    # Helper function to determine the season\n",
    "    def get_season(dt):\n",
    "        month = dt.month\n",
    "        day = dt.day\n",
    "        # Approximate Northern Hemisphere season boundaries:\n",
    "        if (month == 12 and day >= 21) or (month < 3) or (month == 3 and day < 20):\n",
    "            return \"Winter\"\n",
    "        elif (month == 3 and day >= 20) or (month < 6) or (month == 6 and day < 21):\n",
    "            return \"Spring\"\n",
    "        elif (month == 6 and day >= 21) or (month < 9) or (month == 9 and day < 22):\n",
    "            return \"Summer\"\n",
    "        else:\n",
    "            return \"Autumn\"\n",
    "    \n",
    "    df[\"Season\"] = df[\"DateReported_dt\"].apply(get_season)\n",
    "    \n",
    "    # 12-hour formatted time (HourAMPM)\n",
    "    df[\"HourAMPM\"] = df[\"DateReported_dt\"].dt.strftime(\"%I:%M %p\")\n",
    "    \n",
    "    # Extract hour (0-23) for time-of-day\n",
    "    df[\"HourValue\"] = df[\"DateReported_dt\"].dt.hour\n",
    "    \n",
    "    def time_of_day(hour):\n",
    "        if pd.isnull(hour):\n",
    "            return None\n",
    "        if 5 <= hour < 12:\n",
    "            return \"Morning\"\n",
    "        elif 12 <= hour < 17:\n",
    "            return \"Afternoon\"\n",
    "        elif 17 <= hour < 21:\n",
    "            return \"Evening\"\n",
    "        else:\n",
    "            return \"Night\"\n",
    "    \n",
    "    df[\"TimeOfDay\"] = df[\"HourValue\"].apply(time_of_day)\n",
    "    \n",
    "    # Drop columns you no longer need\n",
    "    df.drop(columns=[col, \"DateReported_dt\", \"HourValue\"], inplace=True)\n",
    "    \n",
    "    return df\n",
    "\n",
    "# Example usage:\n",
    "df = convert_and_categorize_datereported(df)\n",
    "df.head()\n"
   ]
  },
  {
   "cell_type": "code",
   "execution_count": 8,
   "id": "34a88859",
   "metadata": {
    "execution": {
     "iopub.execute_input": "2025-07-19T01:07:55.132747Z",
     "iopub.status.busy": "2025-07-19T01:07:55.132292Z",
     "iopub.status.idle": "2025-07-19T01:07:55.162479Z",
     "shell.execute_reply": "2025-07-19T01:07:55.161803Z"
    },
    "papermill": {
     "duration": 0.036191,
     "end_time": "2025-07-19T01:07:55.163604",
     "exception": false,
     "start_time": "2025-07-19T01:07:55.127413",
     "status": "completed"
    },
    "tags": []
   },
   "outputs": [
    {
     "name": "stdout",
     "output_type": "stream",
     "text": [
      "<class 'pandas.core.frame.DataFrame'>\n",
      "RangeIndex: 25538 entries, 0 to 25537\n",
      "Data columns (total 15 columns):\n",
      " #   Column            Non-Null Count  Dtype         \n",
      "---  ------            --------------  -----         \n",
      " 0   RecordID          25538 non-null  int64         \n",
      " 1   Offense           25538 non-null  object        \n",
      " 2   IncidentID        25538 non-null  object        \n",
      " 3   BlockNumber       25538 non-null  object        \n",
      " 4   StreetName        25538 non-null  object        \n",
      " 5   Agency            25538 non-null  object        \n",
      " 6   HourReported      25538 non-null  object        \n",
      " 7   ReportingOfficer  25521 non-null  object        \n",
      " 8   Date              25538 non-null  datetime64[ns]\n",
      " 9   DateString        25538 non-null  object        \n",
      " 10  DayOfWeek         25538 non-null  object        \n",
      " 11  Weekend           25538 non-null  bool          \n",
      " 12  Season            25538 non-null  object        \n",
      " 13  HourAMPM          25538 non-null  object        \n",
      " 14  TimeOfDay         25538 non-null  object        \n",
      "dtypes: bool(1), datetime64[ns](1), int64(1), object(12)\n",
      "memory usage: 2.8+ MB\n"
     ]
    }
   ],
   "source": [
    "df.info()"
   ]
  },
  {
   "cell_type": "markdown",
   "id": "03555a55",
   "metadata": {
    "papermill": {
     "duration": 0.004121,
     "end_time": "2025-07-19T01:07:55.172154",
     "exception": false,
     "start_time": "2025-07-19T01:07:55.168033",
     "status": "completed"
    },
    "tags": []
   },
   "source": [
    "### Coordinates"
   ]
  },
  {
   "cell_type": "code",
   "execution_count": 9,
   "id": "ef739b64",
   "metadata": {
    "execution": {
     "iopub.execute_input": "2025-07-19T01:07:55.181452Z",
     "iopub.status.busy": "2025-07-19T01:07:55.181182Z",
     "iopub.status.idle": "2025-07-19T01:07:55.227187Z",
     "shell.execute_reply": "2025-07-19T01:07:55.226594Z"
    },
    "papermill": {
     "duration": 0.05197,
     "end_time": "2025-07-19T01:07:55.228270",
     "exception": false,
     "start_time": "2025-07-19T01:07:55.176300",
     "status": "completed"
    },
    "tags": []
   },
   "outputs": [
    {
     "name": "stdout",
     "output_type": "stream",
     "text": [
      "Loaded geocode cache.\n",
      "Geocode cache updated and saved.\n"
     ]
    },
    {
     "data": {
      "text/html": [
       "<div>\n",
       "<style scoped>\n",
       "    .dataframe tbody tr th:only-of-type {\n",
       "        vertical-align: middle;\n",
       "    }\n",
       "\n",
       "    .dataframe tbody tr th {\n",
       "        vertical-align: top;\n",
       "    }\n",
       "\n",
       "    .dataframe thead th {\n",
       "        text-align: right;\n",
       "    }\n",
       "</style>\n",
       "<table border=\"1\" class=\"dataframe\">\n",
       "  <thead>\n",
       "    <tr style=\"text-align: right;\">\n",
       "      <th></th>\n",
       "      <th>RecordID</th>\n",
       "      <th>Offense</th>\n",
       "      <th>IncidentID</th>\n",
       "      <th>BlockNumber</th>\n",
       "      <th>StreetName</th>\n",
       "      <th>Agency</th>\n",
       "      <th>HourReported</th>\n",
       "      <th>ReportingOfficer</th>\n",
       "      <th>Date</th>\n",
       "      <th>DateString</th>\n",
       "      <th>DayOfWeek</th>\n",
       "      <th>Weekend</th>\n",
       "      <th>Season</th>\n",
       "      <th>HourAMPM</th>\n",
       "      <th>TimeOfDay</th>\n",
       "      <th>FullStreet</th>\n",
       "      <th>lat</th>\n",
       "      <th>lon</th>\n",
       "    </tr>\n",
       "  </thead>\n",
       "  <tbody>\n",
       "    <tr>\n",
       "      <th>0</th>\n",
       "      <td>1</td>\n",
       "      <td>Disorderly Conduct</td>\n",
       "      <td>202500024996</td>\n",
       "      <td>1700</td>\n",
       "      <td>JEFFERSON PARK AVE</td>\n",
       "      <td>CPD</td>\n",
       "      <td>1755</td>\n",
       "      <td>Venereo, Arturo</td>\n",
       "      <td>2025-07-16 17:55:09</td>\n",
       "      <td>2025-07-16 05:55:09 PM</td>\n",
       "      <td>Wednesday</td>\n",
       "      <td>False</td>\n",
       "      <td>Summer</td>\n",
       "      <td>05:55 PM</td>\n",
       "      <td>Evening</td>\n",
       "      <td>1700 JEFFERSON PARK AVE</td>\n",
       "      <td>38.030239</td>\n",
       "      <td>-78.508368</td>\n",
       "    </tr>\n",
       "    <tr>\n",
       "      <th>1</th>\n",
       "      <td>2</td>\n",
       "      <td>Drug Investigation</td>\n",
       "      <td>202500024973</td>\n",
       "      <td>2200</td>\n",
       "      <td>BANBURY ST</td>\n",
       "      <td>CPD</td>\n",
       "      <td>1549</td>\n",
       "      <td>Adams, Austin</td>\n",
       "      <td>2025-07-16 15:49:47</td>\n",
       "      <td>2025-07-16 03:49:47 PM</td>\n",
       "      <td>Wednesday</td>\n",
       "      <td>False</td>\n",
       "      <td>Summer</td>\n",
       "      <td>03:49 PM</td>\n",
       "      <td>Afternoon</td>\n",
       "      <td>2200 BANBURY ST</td>\n",
       "      <td>38.060586</td>\n",
       "      <td>-78.468852</td>\n",
       "    </tr>\n",
       "    <tr>\n",
       "      <th>2</th>\n",
       "      <td>3</td>\n",
       "      <td>Larceny - Shoplifitng</td>\n",
       "      <td>202500024958</td>\n",
       "      <td>1100</td>\n",
       "      <td>5TH ST SW</td>\n",
       "      <td>CPD</td>\n",
       "      <td>1344</td>\n",
       "      <td>Jones, Mark</td>\n",
       "      <td>2025-07-16 13:44:39</td>\n",
       "      <td>2025-07-16 01:44:39 PM</td>\n",
       "      <td>Wednesday</td>\n",
       "      <td>False</td>\n",
       "      <td>Summer</td>\n",
       "      <td>01:44 PM</td>\n",
       "      <td>Afternoon</td>\n",
       "      <td>1100 5TH ST SW</td>\n",
       "      <td>38.017130</td>\n",
       "      <td>-78.497806</td>\n",
       "    </tr>\n",
       "    <tr>\n",
       "      <th>3</th>\n",
       "      <td>4</td>\n",
       "      <td>Animal Complaint</td>\n",
       "      <td>202500024955</td>\n",
       "      <td>200</td>\n",
       "      <td>9TH ST NW</td>\n",
       "      <td>CPD</td>\n",
       "      <td>1325</td>\n",
       "      <td>Carelsen, Louise</td>\n",
       "      <td>2025-07-16 13:25:26</td>\n",
       "      <td>2025-07-16 01:25:26 PM</td>\n",
       "      <td>Wednesday</td>\n",
       "      <td>False</td>\n",
       "      <td>Summer</td>\n",
       "      <td>01:25 PM</td>\n",
       "      <td>Afternoon</td>\n",
       "      <td>200 9TH ST NW</td>\n",
       "      <td>38.034569</td>\n",
       "      <td>-78.491977</td>\n",
       "    </tr>\n",
       "    <tr>\n",
       "      <th>4</th>\n",
       "      <td>5</td>\n",
       "      <td>Larceny - Shoplifitng</td>\n",
       "      <td>202500024937</td>\n",
       "      <td>1100</td>\n",
       "      <td>EMMET ST N</td>\n",
       "      <td>CPD</td>\n",
       "      <td>1055</td>\n",
       "      <td>Love-Baker, Sydney</td>\n",
       "      <td>2025-07-16 10:55:24</td>\n",
       "      <td>2025-07-16 10:55:24 AM</td>\n",
       "      <td>Wednesday</td>\n",
       "      <td>False</td>\n",
       "      <td>Summer</td>\n",
       "      <td>10:55 AM</td>\n",
       "      <td>Morning</td>\n",
       "      <td>1100 EMMET ST N</td>\n",
       "      <td>38.051639</td>\n",
       "      <td>-78.501523</td>\n",
       "    </tr>\n",
       "  </tbody>\n",
       "</table>\n",
       "</div>"
      ],
      "text/plain": [
       "   RecordID                Offense    IncidentID BlockNumber  \\\n",
       "0         1     Disorderly Conduct  202500024996        1700   \n",
       "1         2     Drug Investigation  202500024973        2200   \n",
       "2         3  Larceny - Shoplifitng  202500024958        1100   \n",
       "3         4       Animal Complaint  202500024955         200   \n",
       "4         5  Larceny - Shoplifitng  202500024937        1100   \n",
       "\n",
       "           StreetName Agency HourReported    ReportingOfficer  \\\n",
       "0  JEFFERSON PARK AVE    CPD         1755     Venereo, Arturo   \n",
       "1          BANBURY ST    CPD         1549       Adams, Austin   \n",
       "2           5TH ST SW    CPD         1344         Jones, Mark   \n",
       "3           9TH ST NW    CPD         1325    Carelsen, Louise   \n",
       "4          EMMET ST N    CPD         1055  Love-Baker, Sydney   \n",
       "\n",
       "                 Date              DateString  DayOfWeek  Weekend  Season  \\\n",
       "0 2025-07-16 17:55:09  2025-07-16 05:55:09 PM  Wednesday    False  Summer   \n",
       "1 2025-07-16 15:49:47  2025-07-16 03:49:47 PM  Wednesday    False  Summer   \n",
       "2 2025-07-16 13:44:39  2025-07-16 01:44:39 PM  Wednesday    False  Summer   \n",
       "3 2025-07-16 13:25:26  2025-07-16 01:25:26 PM  Wednesday    False  Summer   \n",
       "4 2025-07-16 10:55:24  2025-07-16 10:55:24 AM  Wednesday    False  Summer   \n",
       "\n",
       "   HourAMPM  TimeOfDay               FullStreet        lat        lon  \n",
       "0  05:55 PM    Evening  1700 JEFFERSON PARK AVE  38.030239 -78.508368  \n",
       "1  03:49 PM  Afternoon          2200 BANBURY ST  38.060586 -78.468852  \n",
       "2  01:44 PM  Afternoon           1100 5TH ST SW  38.017130 -78.497806  \n",
       "3  01:25 PM  Afternoon            200 9TH ST NW  38.034569 -78.491977  \n",
       "4  10:55 AM    Morning          1100 EMMET ST N  38.051639 -78.501523  "
      ]
     },
     "execution_count": 9,
     "metadata": {},
     "output_type": "execute_result"
    }
   ],
   "source": [
    "# Combine BlockNumber and StreetName into a full address string\n",
    "df['FullStreet'] = df['BlockNumber'].astype(str) + \" \" + df['StreetName']\n",
    "\n",
    "# --- Step 1: Setup the Google Maps Client and Cache ---\n",
    "gmaps = googlemaps.Client(key=GOOGLE_API_KEY)\n",
    "\n",
    "# Try to load cached geocoding results if available.\n",
    "try:\n",
    "    with open(\"geocode_cache_google.pkl\", \"rb\") as f:\n",
    "        street_coords = pickle.load(f)\n",
    "    print(\"Loaded geocode cache.\")\n",
    "except FileNotFoundError:\n",
    "    street_coords = {}\n",
    "    print(\"No cache found; starting fresh.\")\n",
    "\n",
    "def geocode_address(address):\n",
    "    try:\n",
    "        # Append city and state to help geocoding\n",
    "        result = gmaps.geocode(f\"{address}, Charlottesville, VA\")\n",
    "        if result:\n",
    "            lat = result[0]['geometry']['location']['lat']\n",
    "            lon = result[0]['geometry']['location']['lng']\n",
    "            return lat, lon\n",
    "    except Exception as e:\n",
    "        print(f\"Error geocoding {address}: {e}\")\n",
    "    return None, None\n",
    "\n",
    "# --- Step 2: Geocode Only New Addresses ---\n",
    "unique_addresses = df['FullStreet'].unique()\n",
    "for address in unique_addresses:\n",
    "    if address not in street_coords:\n",
    "        lat, lon = geocode_address(address)\n",
    "        street_coords[address] = (lat, lon)\n",
    "        print(f\"Geocoded {address}: {lat}, {lon}\")\n",
    "\n",
    "# Save the updated cache to disk.\n",
    "with open(\"geocode_cache_google.pkl\", \"wb\") as f:\n",
    "    pickle.dump(street_coords, f)\n",
    "    print(\"Geocode cache updated and saved.\")\n",
    "\n",
    "# --- Step 3: Map Coordinates Back to DataFrame ---\n",
    "df['lat'] = df['FullStreet'].map(lambda s: street_coords.get(s, (None, None))[0])\n",
    "df['lon'] = df['FullStreet'].map(lambda s: street_coords.get(s, (None, None))[1])\n",
    "\n",
    "df.head()"
   ]
  },
  {
   "cell_type": "markdown",
   "id": "0f54cbe8",
   "metadata": {
    "papermill": {
     "duration": 0.004536,
     "end_time": "2025-07-19T01:07:55.237779",
     "exception": false,
     "start_time": "2025-07-19T01:07:55.233243",
     "status": "completed"
    },
    "tags": []
   },
   "source": [
    "### Neighborhood"
   ]
  },
  {
   "cell_type": "code",
   "execution_count": 10,
   "id": "09c0927a",
   "metadata": {
    "execution": {
     "iopub.execute_input": "2025-07-19T01:07:55.247931Z",
     "iopub.status.busy": "2025-07-19T01:07:55.247388Z",
     "iopub.status.idle": "2025-07-19T01:07:56.584793Z",
     "shell.execute_reply": "2025-07-19T01:07:56.584044Z"
    },
    "papermill": {
     "duration": 1.343706,
     "end_time": "2025-07-19T01:07:56.585943",
     "exception": false,
     "start_time": "2025-07-19T01:07:55.242237",
     "status": "completed"
    },
    "tags": []
   },
   "outputs": [
    {
     "name": "stdout",
     "output_type": "stream",
     "text": [
      "Loaded neighborhood cache.\n"
     ]
    },
    {
     "name": "stdout",
     "output_type": "stream",
     "text": [
      "Error getting neighborhood for nan, nan: HTTP Error: 400\n"
     ]
    },
    {
     "name": "stdout",
     "output_type": "stream",
     "text": [
      "Error getting neighborhood for nan, nan: HTTP Error: 400\n",
      "Error getting neighborhood for nan, nan: HTTP Error: 400\n",
      "Error getting neighborhood for nan, nan: HTTP Error: 400\n"
     ]
    },
    {
     "name": "stdout",
     "output_type": "stream",
     "text": [
      "Error getting neighborhood for nan, nan: HTTP Error: 400\n",
      "Error getting neighborhood for nan, nan: HTTP Error: 400\n",
      "Error getting neighborhood for nan, nan: HTTP Error: 400\n",
      "Error getting neighborhood for nan, nan: HTTP Error: 400\n",
      "Error getting neighborhood for nan, nan: HTTP Error: 400\n"
     ]
    },
    {
     "name": "stdout",
     "output_type": "stream",
     "text": [
      "Error getting neighborhood for nan, nan: HTTP Error: 400\n",
      "Error getting neighborhood for nan, nan: HTTP Error: 400\n"
     ]
    },
    {
     "name": "stdout",
     "output_type": "stream",
     "text": [
      "Error getting neighborhood for nan, nan: HTTP Error: 400\n",
      "Error getting neighborhood for nan, nan: HTTP Error: 400\n",
      "Error getting neighborhood for nan, nan: HTTP Error: 400\n",
      "Error getting neighborhood for nan, nan: HTTP Error: 400\n"
     ]
    },
    {
     "name": "stdout",
     "output_type": "stream",
     "text": [
      "Error getting neighborhood for nan, nan: HTTP Error: 400\n",
      "Error getting neighborhood for nan, nan: HTTP Error: 400\n",
      "Error getting neighborhood for nan, nan: HTTP Error: 400\n",
      "Error getting neighborhood for nan, nan: HTTP Error: 400\n",
      "Error getting neighborhood for nan, nan: HTTP Error: 400\n",
      "Error getting neighborhood for nan, nan: HTTP Error: 400\n",
      "Error getting neighborhood for nan, nan: HTTP Error: 400\n"
     ]
    },
    {
     "name": "stdout",
     "output_type": "stream",
     "text": [
      "Error getting neighborhood for nan, nan: HTTP Error: 400\n",
      "Error getting neighborhood for nan, nan: HTTP Error: 400\n"
     ]
    },
    {
     "name": "stdout",
     "output_type": "stream",
     "text": [
      "Error getting neighborhood for nan, nan: HTTP Error: 400\n",
      "Error getting neighborhood for nan, nan: HTTP Error: 400\n",
      "Error getting neighborhood for nan, nan: HTTP Error: 400\n",
      "Error getting neighborhood for nan, nan: HTTP Error: 400\n"
     ]
    },
    {
     "name": "stdout",
     "output_type": "stream",
     "text": [
      "Error getting neighborhood for nan, nan: HTTP Error: 400\n",
      "Error getting neighborhood for nan, nan: HTTP Error: 400\n",
      "Error getting neighborhood for nan, nan: HTTP Error: 400\n",
      "Error getting neighborhood for nan, nan: HTTP Error: 400\n",
      "Error getting neighborhood for nan, nan: HTTP Error: 400\n",
      "Error getting neighborhood for nan, nan: HTTP Error: 400\n",
      "Error getting neighborhood for nan, nan: HTTP Error: 400\n"
     ]
    },
    {
     "name": "stdout",
     "output_type": "stream",
     "text": [
      "Error getting neighborhood for nan, nan: HTTP Error: 400\n",
      "Error getting neighborhood for nan, nan: HTTP Error: 400\n"
     ]
    },
    {
     "name": "stdout",
     "output_type": "stream",
     "text": [
      "Error getting neighborhood for nan, nan: HTTP Error: 400\n",
      "Error getting neighborhood for nan, nan: HTTP Error: 400\n",
      "Error getting neighborhood for nan, nan: HTTP Error: 400\n",
      "Error getting neighborhood for nan, nan: HTTP Error: 400\n"
     ]
    },
    {
     "name": "stdout",
     "output_type": "stream",
     "text": [
      "Error getting neighborhood for nan, nan: HTTP Error: 400\n",
      "Error getting neighborhood for nan, nan: HTTP Error: 400\n",
      "Error getting neighborhood for nan, nan: HTTP Error: 400\n",
      "Error getting neighborhood for nan, nan: HTTP Error: 400\n",
      "Error getting neighborhood for nan, nan: HTTP Error: 400\n",
      "Error getting neighborhood for nan, nan: HTTP Error: 400\n",
      "Error getting neighborhood for nan, nan: HTTP Error: 400\n"
     ]
    },
    {
     "name": "stdout",
     "output_type": "stream",
     "text": [
      "Error getting neighborhood for nan, nan: HTTP Error: 400\n",
      "Error getting neighborhood for nan, nan: HTTP Error: 400\n"
     ]
    },
    {
     "name": "stdout",
     "output_type": "stream",
     "text": [
      "Error getting neighborhood for nan, nan: HTTP Error: 400\n",
      "Error getting neighborhood for nan, nan: HTTP Error: 400\n",
      "Error getting neighborhood for nan, nan: HTTP Error: 400\n",
      "Error getting neighborhood for nan, nan: HTTP Error: 400\n"
     ]
    },
    {
     "name": "stdout",
     "output_type": "stream",
     "text": [
      "Error getting neighborhood for nan, nan: HTTP Error: 400\n",
      "Error getting neighborhood for nan, nan: HTTP Error: 400\n",
      "Error getting neighborhood for nan, nan: HTTP Error: 400\n",
      "Error getting neighborhood for nan, nan: HTTP Error: 400\n",
      "Error getting neighborhood for nan, nan: HTTP Error: 400\n",
      "Error getting neighborhood for nan, nan: HTTP Error: 400\n"
     ]
    },
    {
     "data": {
      "text/html": [
       "<div>\n",
       "<style scoped>\n",
       "    .dataframe tbody tr th:only-of-type {\n",
       "        vertical-align: middle;\n",
       "    }\n",
       "\n",
       "    .dataframe tbody tr th {\n",
       "        vertical-align: top;\n",
       "    }\n",
       "\n",
       "    .dataframe thead th {\n",
       "        text-align: right;\n",
       "    }\n",
       "</style>\n",
       "<table border=\"1\" class=\"dataframe\">\n",
       "  <thead>\n",
       "    <tr style=\"text-align: right;\">\n",
       "      <th></th>\n",
       "      <th>RecordID</th>\n",
       "      <th>Offense</th>\n",
       "      <th>IncidentID</th>\n",
       "      <th>BlockNumber</th>\n",
       "      <th>StreetName</th>\n",
       "      <th>Agency</th>\n",
       "      <th>HourReported</th>\n",
       "      <th>ReportingOfficer</th>\n",
       "      <th>Date</th>\n",
       "      <th>DateString</th>\n",
       "      <th>DayOfWeek</th>\n",
       "      <th>Weekend</th>\n",
       "      <th>Season</th>\n",
       "      <th>HourAMPM</th>\n",
       "      <th>TimeOfDay</th>\n",
       "      <th>FullStreet</th>\n",
       "      <th>lat</th>\n",
       "      <th>lon</th>\n",
       "      <th>neighborhood</th>\n",
       "    </tr>\n",
       "  </thead>\n",
       "  <tbody>\n",
       "    <tr>\n",
       "      <th>0</th>\n",
       "      <td>1</td>\n",
       "      <td>Disorderly Conduct</td>\n",
       "      <td>202500024996</td>\n",
       "      <td>1700</td>\n",
       "      <td>JEFFERSON PARK AVE</td>\n",
       "      <td>CPD</td>\n",
       "      <td>1755</td>\n",
       "      <td>Venereo, Arturo</td>\n",
       "      <td>2025-07-16 17:55:09</td>\n",
       "      <td>2025-07-16 05:55:09 PM</td>\n",
       "      <td>Wednesday</td>\n",
       "      <td>False</td>\n",
       "      <td>Summer</td>\n",
       "      <td>05:55 PM</td>\n",
       "      <td>Evening</td>\n",
       "      <td>1700 JEFFERSON PARK AVE</td>\n",
       "      <td>38.030239</td>\n",
       "      <td>-78.508368</td>\n",
       "      <td>Jefferson Park Avenue</td>\n",
       "    </tr>\n",
       "    <tr>\n",
       "      <th>1</th>\n",
       "      <td>2</td>\n",
       "      <td>Drug Investigation</td>\n",
       "      <td>202500024973</td>\n",
       "      <td>2200</td>\n",
       "      <td>BANBURY ST</td>\n",
       "      <td>CPD</td>\n",
       "      <td>1549</td>\n",
       "      <td>Adams, Austin</td>\n",
       "      <td>2025-07-16 15:49:47</td>\n",
       "      <td>2025-07-16 03:49:47 PM</td>\n",
       "      <td>Wednesday</td>\n",
       "      <td>False</td>\n",
       "      <td>Summer</td>\n",
       "      <td>03:49 PM</td>\n",
       "      <td>Afternoon</td>\n",
       "      <td>2200 BANBURY ST</td>\n",
       "      <td>38.060586</td>\n",
       "      <td>-78.468852</td>\n",
       "      <td>Greenbrier</td>\n",
       "    </tr>\n",
       "    <tr>\n",
       "      <th>2</th>\n",
       "      <td>3</td>\n",
       "      <td>Larceny - Shoplifitng</td>\n",
       "      <td>202500024958</td>\n",
       "      <td>1100</td>\n",
       "      <td>5TH ST SW</td>\n",
       "      <td>CPD</td>\n",
       "      <td>1344</td>\n",
       "      <td>Jones, Mark</td>\n",
       "      <td>2025-07-16 13:44:39</td>\n",
       "      <td>2025-07-16 01:44:39 PM</td>\n",
       "      <td>Wednesday</td>\n",
       "      <td>False</td>\n",
       "      <td>Summer</td>\n",
       "      <td>01:44 PM</td>\n",
       "      <td>Afternoon</td>\n",
       "      <td>1100 5TH ST SW</td>\n",
       "      <td>38.017130</td>\n",
       "      <td>-78.497806</td>\n",
       "      <td>Johnson Village</td>\n",
       "    </tr>\n",
       "    <tr>\n",
       "      <th>3</th>\n",
       "      <td>4</td>\n",
       "      <td>Animal Complaint</td>\n",
       "      <td>202500024955</td>\n",
       "      <td>200</td>\n",
       "      <td>9TH ST NW</td>\n",
       "      <td>CPD</td>\n",
       "      <td>1325</td>\n",
       "      <td>Carelsen, Louise</td>\n",
       "      <td>2025-07-16 13:25:26</td>\n",
       "      <td>2025-07-16 01:25:26 PM</td>\n",
       "      <td>Wednesday</td>\n",
       "      <td>False</td>\n",
       "      <td>Summer</td>\n",
       "      <td>01:25 PM</td>\n",
       "      <td>Afternoon</td>\n",
       "      <td>200 9TH ST NW</td>\n",
       "      <td>38.034569</td>\n",
       "      <td>-78.491977</td>\n",
       "      <td>10th &amp; Page</td>\n",
       "    </tr>\n",
       "    <tr>\n",
       "      <th>4</th>\n",
       "      <td>5</td>\n",
       "      <td>Larceny - Shoplifitng</td>\n",
       "      <td>202500024937</td>\n",
       "      <td>1100</td>\n",
       "      <td>EMMET ST N</td>\n",
       "      <td>CPD</td>\n",
       "      <td>1055</td>\n",
       "      <td>Love-Baker, Sydney</td>\n",
       "      <td>2025-07-16 10:55:24</td>\n",
       "      <td>2025-07-16 10:55:24 AM</td>\n",
       "      <td>Wednesday</td>\n",
       "      <td>False</td>\n",
       "      <td>Summer</td>\n",
       "      <td>10:55 AM</td>\n",
       "      <td>Morning</td>\n",
       "      <td>1100 EMMET ST N</td>\n",
       "      <td>38.051639</td>\n",
       "      <td>-78.501523</td>\n",
       "      <td>Barracks Road</td>\n",
       "    </tr>\n",
       "  </tbody>\n",
       "</table>\n",
       "</div>"
      ],
      "text/plain": [
       "   RecordID                Offense    IncidentID BlockNumber  \\\n",
       "0         1     Disorderly Conduct  202500024996        1700   \n",
       "1         2     Drug Investigation  202500024973        2200   \n",
       "2         3  Larceny - Shoplifitng  202500024958        1100   \n",
       "3         4       Animal Complaint  202500024955         200   \n",
       "4         5  Larceny - Shoplifitng  202500024937        1100   \n",
       "\n",
       "           StreetName Agency HourReported    ReportingOfficer  \\\n",
       "0  JEFFERSON PARK AVE    CPD         1755     Venereo, Arturo   \n",
       "1          BANBURY ST    CPD         1549       Adams, Austin   \n",
       "2           5TH ST SW    CPD         1344         Jones, Mark   \n",
       "3           9TH ST NW    CPD         1325    Carelsen, Louise   \n",
       "4          EMMET ST N    CPD         1055  Love-Baker, Sydney   \n",
       "\n",
       "                 Date              DateString  DayOfWeek  Weekend  Season  \\\n",
       "0 2025-07-16 17:55:09  2025-07-16 05:55:09 PM  Wednesday    False  Summer   \n",
       "1 2025-07-16 15:49:47  2025-07-16 03:49:47 PM  Wednesday    False  Summer   \n",
       "2 2025-07-16 13:44:39  2025-07-16 01:44:39 PM  Wednesday    False  Summer   \n",
       "3 2025-07-16 13:25:26  2025-07-16 01:25:26 PM  Wednesday    False  Summer   \n",
       "4 2025-07-16 10:55:24  2025-07-16 10:55:24 AM  Wednesday    False  Summer   \n",
       "\n",
       "   HourAMPM  TimeOfDay               FullStreet        lat        lon  \\\n",
       "0  05:55 PM    Evening  1700 JEFFERSON PARK AVE  38.030239 -78.508368   \n",
       "1  03:49 PM  Afternoon          2200 BANBURY ST  38.060586 -78.468852   \n",
       "2  01:44 PM  Afternoon           1100 5TH ST SW  38.017130 -78.497806   \n",
       "3  01:25 PM  Afternoon            200 9TH ST NW  38.034569 -78.491977   \n",
       "4  10:55 AM    Morning          1100 EMMET ST N  38.051639 -78.501523   \n",
       "\n",
       "            neighborhood  \n",
       "0  Jefferson Park Avenue  \n",
       "1             Greenbrier  \n",
       "2        Johnson Village  \n",
       "3            10th & Page  \n",
       "4          Barracks Road  "
      ]
     },
     "execution_count": 10,
     "metadata": {},
     "output_type": "execute_result"
    }
   ],
   "source": [
    "# Initialize the Google Maps client.\n",
    "gmaps = googlemaps.Client(key=GOOGLE_API_KEY)\n",
    "\n",
    "# Try to load a persistent neighborhood cache if available.\n",
    "try:\n",
    "    with open(\"neighborhood_cache.pkl\", \"rb\") as f:\n",
    "        neighborhood_cache = pickle.load(f)\n",
    "    print(\"Loaded neighborhood cache.\")\n",
    "except FileNotFoundError:\n",
    "    neighborhood_cache = {}\n",
    "    print(\"No neighborhood cache found; starting fresh.\")\n",
    "\n",
    "def get_neighborhood(lat, lon):\n",
    "    \"\"\"\n",
    "    Reverse geocodes a latitude and longitude to retrieve the neighborhood.\n",
    "    Caches results to speed up subsequent lookups.\n",
    "    \"\"\"\n",
    "    key = (lat, lon)\n",
    "    if key in neighborhood_cache:\n",
    "        return neighborhood_cache[key]\n",
    "    \n",
    "    try:\n",
    "        result = gmaps.reverse_geocode((lat, lon))\n",
    "        if result:\n",
    "            # Look for the 'neighborhood' component in the first result.\n",
    "            for component in result[0]['address_components']:\n",
    "                if 'neighborhood' in component['types']:\n",
    "                    neighborhood = component['long_name']\n",
    "                    neighborhood_cache[key] = neighborhood\n",
    "                    return neighborhood\n",
    "            # If no neighborhood is found, return \"N/A\"\n",
    "            neighborhood_cache[key] = \"N/A\"\n",
    "            return \"N/A\"\n",
    "    except Exception as e:\n",
    "        print(f\"Error getting neighborhood for {lat}, {lon}: {e}\")\n",
    "        return \"N/A\"\n",
    "    \n",
    "    # Pause to respect usage limits.\n",
    "    time.sleep(1)\n",
    "\n",
    "# Example usage: Apply to your DataFrame 'df' that already has 'lat' and 'lon' columns.\n",
    "df['neighborhood'] = df.apply(lambda row: get_neighborhood(row['lat'], row['lon']), axis=1)\n",
    "\n",
    "# Save the updated neighborhood cache.\n",
    "with open(\"neighborhood_cache.pkl\", \"wb\") as f:\n",
    "    pickle.dump(neighborhood_cache, f)\n",
    "\n",
    "df.head()\n"
   ]
  },
  {
   "cell_type": "markdown",
   "id": "da20f961",
   "metadata": {
    "papermill": {
     "duration": 0.005316,
     "end_time": "2025-07-19T01:07:56.597092",
     "exception": false,
     "start_time": "2025-07-19T01:07:56.591776",
     "status": "completed"
    },
    "tags": []
   },
   "source": [
    "### Zip"
   ]
  },
  {
   "cell_type": "code",
   "execution_count": 11,
   "id": "113f6d73",
   "metadata": {
    "execution": {
     "iopub.execute_input": "2025-07-19T01:07:56.609481Z",
     "iopub.status.busy": "2025-07-19T01:07:56.608848Z",
     "iopub.status.idle": "2025-07-19T01:08:56.970339Z",
     "shell.execute_reply": "2025-07-19T01:08:56.969612Z"
    },
    "papermill": {
     "duration": 60.377126,
     "end_time": "2025-07-19T01:08:56.979665",
     "exception": false,
     "start_time": "2025-07-19T01:07:56.602539",
     "status": "completed"
    },
    "tags": []
   },
   "outputs": [
    {
     "name": "stdout",
     "output_type": "stream",
     "text": [
      "Loaded zip cache.\n",
      "Error getting ZIP for nan, nan: Must be a coordinate pair or Point\n"
     ]
    },
    {
     "name": "stdout",
     "output_type": "stream",
     "text": [
      "Error getting ZIP for nan, nan: Must be a coordinate pair or Point\n"
     ]
    },
    {
     "name": "stdout",
     "output_type": "stream",
     "text": [
      "Error getting ZIP for nan, nan: Must be a coordinate pair or Point\n"
     ]
    },
    {
     "name": "stdout",
     "output_type": "stream",
     "text": [
      "Error getting ZIP for nan, nan: Must be a coordinate pair or Point\n"
     ]
    },
    {
     "name": "stdout",
     "output_type": "stream",
     "text": [
      "Error getting ZIP for nan, nan: Must be a coordinate pair or Point\n"
     ]
    },
    {
     "name": "stdout",
     "output_type": "stream",
     "text": [
      "Error getting ZIP for nan, nan: Must be a coordinate pair or Point\n"
     ]
    },
    {
     "name": "stdout",
     "output_type": "stream",
     "text": [
      "Error getting ZIP for nan, nan: Must be a coordinate pair or Point\n"
     ]
    },
    {
     "name": "stdout",
     "output_type": "stream",
     "text": [
      "Error getting ZIP for nan, nan: Must be a coordinate pair or Point\n"
     ]
    },
    {
     "name": "stdout",
     "output_type": "stream",
     "text": [
      "Error getting ZIP for nan, nan: Must be a coordinate pair or Point\n"
     ]
    },
    {
     "name": "stdout",
     "output_type": "stream",
     "text": [
      "Error getting ZIP for nan, nan: Must be a coordinate pair or Point\n"
     ]
    },
    {
     "name": "stdout",
     "output_type": "stream",
     "text": [
      "Error getting ZIP for nan, nan: Must be a coordinate pair or Point\n"
     ]
    },
    {
     "name": "stdout",
     "output_type": "stream",
     "text": [
      "Error getting ZIP for nan, nan: Must be a coordinate pair or Point\n"
     ]
    },
    {
     "name": "stdout",
     "output_type": "stream",
     "text": [
      "Error getting ZIP for nan, nan: Must be a coordinate pair or Point\n"
     ]
    },
    {
     "name": "stdout",
     "output_type": "stream",
     "text": [
      "Error getting ZIP for nan, nan: Must be a coordinate pair or Point\n"
     ]
    },
    {
     "name": "stdout",
     "output_type": "stream",
     "text": [
      "Error getting ZIP for nan, nan: Must be a coordinate pair or Point\n"
     ]
    },
    {
     "name": "stdout",
     "output_type": "stream",
     "text": [
      "Error getting ZIP for nan, nan: Must be a coordinate pair or Point\n"
     ]
    },
    {
     "name": "stdout",
     "output_type": "stream",
     "text": [
      "Error getting ZIP for nan, nan: Must be a coordinate pair or Point\n"
     ]
    },
    {
     "name": "stdout",
     "output_type": "stream",
     "text": [
      "Error getting ZIP for nan, nan: Must be a coordinate pair or Point\n"
     ]
    },
    {
     "name": "stdout",
     "output_type": "stream",
     "text": [
      "Error getting ZIP for nan, nan: Must be a coordinate pair or Point\n"
     ]
    },
    {
     "name": "stdout",
     "output_type": "stream",
     "text": [
      "Error getting ZIP for nan, nan: Must be a coordinate pair or Point\n"
     ]
    },
    {
     "name": "stdout",
     "output_type": "stream",
     "text": [
      "Error getting ZIP for nan, nan: Must be a coordinate pair or Point\n"
     ]
    },
    {
     "name": "stdout",
     "output_type": "stream",
     "text": [
      "Error getting ZIP for nan, nan: Must be a coordinate pair or Point\n"
     ]
    },
    {
     "name": "stdout",
     "output_type": "stream",
     "text": [
      "Error getting ZIP for nan, nan: Must be a coordinate pair or Point\n"
     ]
    },
    {
     "name": "stdout",
     "output_type": "stream",
     "text": [
      "Error getting ZIP for nan, nan: Must be a coordinate pair or Point\n"
     ]
    },
    {
     "name": "stdout",
     "output_type": "stream",
     "text": [
      "Error getting ZIP for nan, nan: Must be a coordinate pair or Point\n"
     ]
    },
    {
     "name": "stdout",
     "output_type": "stream",
     "text": [
      "Error getting ZIP for nan, nan: Must be a coordinate pair or Point\n"
     ]
    },
    {
     "name": "stdout",
     "output_type": "stream",
     "text": [
      "Error getting ZIP for nan, nan: Must be a coordinate pair or Point\n"
     ]
    },
    {
     "name": "stdout",
     "output_type": "stream",
     "text": [
      "Error getting ZIP for nan, nan: Must be a coordinate pair or Point\n"
     ]
    },
    {
     "name": "stdout",
     "output_type": "stream",
     "text": [
      "Error getting ZIP for nan, nan: Must be a coordinate pair or Point\n"
     ]
    },
    {
     "name": "stdout",
     "output_type": "stream",
     "text": [
      "Error getting ZIP for nan, nan: Must be a coordinate pair or Point\n"
     ]
    },
    {
     "name": "stdout",
     "output_type": "stream",
     "text": [
      "Error getting ZIP for nan, nan: Must be a coordinate pair or Point\n"
     ]
    },
    {
     "name": "stdout",
     "output_type": "stream",
     "text": [
      "Error getting ZIP for nan, nan: Must be a coordinate pair or Point\n"
     ]
    },
    {
     "name": "stdout",
     "output_type": "stream",
     "text": [
      "Error getting ZIP for nan, nan: Must be a coordinate pair or Point\n"
     ]
    },
    {
     "name": "stdout",
     "output_type": "stream",
     "text": [
      "Error getting ZIP for nan, nan: Must be a coordinate pair or Point\n"
     ]
    },
    {
     "name": "stdout",
     "output_type": "stream",
     "text": [
      "Error getting ZIP for nan, nan: Must be a coordinate pair or Point\n"
     ]
    },
    {
     "name": "stdout",
     "output_type": "stream",
     "text": [
      "Error getting ZIP for nan, nan: Must be a coordinate pair or Point\n"
     ]
    },
    {
     "name": "stdout",
     "output_type": "stream",
     "text": [
      "Error getting ZIP for nan, nan: Must be a coordinate pair or Point\n"
     ]
    },
    {
     "name": "stdout",
     "output_type": "stream",
     "text": [
      "Error getting ZIP for nan, nan: Must be a coordinate pair or Point\n"
     ]
    },
    {
     "name": "stdout",
     "output_type": "stream",
     "text": [
      "Error getting ZIP for nan, nan: Must be a coordinate pair or Point\n"
     ]
    },
    {
     "name": "stdout",
     "output_type": "stream",
     "text": [
      "Error getting ZIP for nan, nan: Must be a coordinate pair or Point\n"
     ]
    },
    {
     "name": "stdout",
     "output_type": "stream",
     "text": [
      "Error getting ZIP for nan, nan: Must be a coordinate pair or Point\n"
     ]
    },
    {
     "name": "stdout",
     "output_type": "stream",
     "text": [
      "Error getting ZIP for nan, nan: Must be a coordinate pair or Point\n"
     ]
    },
    {
     "name": "stdout",
     "output_type": "stream",
     "text": [
      "Error getting ZIP for nan, nan: Must be a coordinate pair or Point\n"
     ]
    },
    {
     "name": "stdout",
     "output_type": "stream",
     "text": [
      "Error getting ZIP for nan, nan: Must be a coordinate pair or Point\n"
     ]
    },
    {
     "name": "stdout",
     "output_type": "stream",
     "text": [
      "Error getting ZIP for nan, nan: Must be a coordinate pair or Point\n"
     ]
    },
    {
     "name": "stdout",
     "output_type": "stream",
     "text": [
      "Error getting ZIP for nan, nan: Must be a coordinate pair or Point\n"
     ]
    },
    {
     "name": "stdout",
     "output_type": "stream",
     "text": [
      "Error getting ZIP for nan, nan: Must be a coordinate pair or Point\n"
     ]
    },
    {
     "name": "stdout",
     "output_type": "stream",
     "text": [
      "Error getting ZIP for nan, nan: Must be a coordinate pair or Point\n"
     ]
    },
    {
     "name": "stdout",
     "output_type": "stream",
     "text": [
      "Error getting ZIP for nan, nan: Must be a coordinate pair or Point\n"
     ]
    },
    {
     "name": "stdout",
     "output_type": "stream",
     "text": [
      "Error getting ZIP for nan, nan: Must be a coordinate pair or Point\n"
     ]
    },
    {
     "name": "stdout",
     "output_type": "stream",
     "text": [
      "Error getting ZIP for nan, nan: Must be a coordinate pair or Point\n"
     ]
    },
    {
     "name": "stdout",
     "output_type": "stream",
     "text": [
      "Error getting ZIP for nan, nan: Must be a coordinate pair or Point\n"
     ]
    },
    {
     "name": "stdout",
     "output_type": "stream",
     "text": [
      "Error getting ZIP for nan, nan: Must be a coordinate pair or Point\n"
     ]
    },
    {
     "name": "stdout",
     "output_type": "stream",
     "text": [
      "Error getting ZIP for nan, nan: Must be a coordinate pair or Point\n"
     ]
    },
    {
     "name": "stdout",
     "output_type": "stream",
     "text": [
      "Error getting ZIP for nan, nan: Must be a coordinate pair or Point\n"
     ]
    },
    {
     "name": "stdout",
     "output_type": "stream",
     "text": [
      "Error getting ZIP for nan, nan: Must be a coordinate pair or Point\n"
     ]
    },
    {
     "name": "stdout",
     "output_type": "stream",
     "text": [
      "Error getting ZIP for nan, nan: Must be a coordinate pair or Point\n"
     ]
    },
    {
     "name": "stdout",
     "output_type": "stream",
     "text": [
      "Error getting ZIP for nan, nan: Must be a coordinate pair or Point\n"
     ]
    },
    {
     "name": "stdout",
     "output_type": "stream",
     "text": [
      "Error getting ZIP for nan, nan: Must be a coordinate pair or Point\n"
     ]
    },
    {
     "name": "stdout",
     "output_type": "stream",
     "text": [
      "Error getting ZIP for nan, nan: Must be a coordinate pair or Point\n"
     ]
    },
    {
     "data": {
      "text/html": [
       "<div>\n",
       "<style scoped>\n",
       "    .dataframe tbody tr th:only-of-type {\n",
       "        vertical-align: middle;\n",
       "    }\n",
       "\n",
       "    .dataframe tbody tr th {\n",
       "        vertical-align: top;\n",
       "    }\n",
       "\n",
       "    .dataframe thead th {\n",
       "        text-align: right;\n",
       "    }\n",
       "</style>\n",
       "<table border=\"1\" class=\"dataframe\">\n",
       "  <thead>\n",
       "    <tr style=\"text-align: right;\">\n",
       "      <th></th>\n",
       "      <th>RecordID</th>\n",
       "      <th>Offense</th>\n",
       "      <th>IncidentID</th>\n",
       "      <th>BlockNumber</th>\n",
       "      <th>StreetName</th>\n",
       "      <th>Agency</th>\n",
       "      <th>HourReported</th>\n",
       "      <th>ReportingOfficer</th>\n",
       "      <th>Date</th>\n",
       "      <th>DateString</th>\n",
       "      <th>DayOfWeek</th>\n",
       "      <th>Weekend</th>\n",
       "      <th>Season</th>\n",
       "      <th>HourAMPM</th>\n",
       "      <th>TimeOfDay</th>\n",
       "      <th>FullStreet</th>\n",
       "      <th>lat</th>\n",
       "      <th>lon</th>\n",
       "      <th>neighborhood</th>\n",
       "      <th>zip</th>\n",
       "    </tr>\n",
       "  </thead>\n",
       "  <tbody>\n",
       "    <tr>\n",
       "      <th>0</th>\n",
       "      <td>1</td>\n",
       "      <td>Disorderly Conduct</td>\n",
       "      <td>202500024996</td>\n",
       "      <td>1700</td>\n",
       "      <td>JEFFERSON PARK AVE</td>\n",
       "      <td>CPD</td>\n",
       "      <td>1755</td>\n",
       "      <td>Venereo, Arturo</td>\n",
       "      <td>2025-07-16 17:55:09</td>\n",
       "      <td>2025-07-16 05:55:09 PM</td>\n",
       "      <td>Wednesday</td>\n",
       "      <td>False</td>\n",
       "      <td>Summer</td>\n",
       "      <td>05:55 PM</td>\n",
       "      <td>Evening</td>\n",
       "      <td>1700 JEFFERSON PARK AVE</td>\n",
       "      <td>38.030239</td>\n",
       "      <td>-78.508368</td>\n",
       "      <td>Jefferson Park Avenue</td>\n",
       "      <td>22903</td>\n",
       "    </tr>\n",
       "    <tr>\n",
       "      <th>1</th>\n",
       "      <td>2</td>\n",
       "      <td>Drug Investigation</td>\n",
       "      <td>202500024973</td>\n",
       "      <td>2200</td>\n",
       "      <td>BANBURY ST</td>\n",
       "      <td>CPD</td>\n",
       "      <td>1549</td>\n",
       "      <td>Adams, Austin</td>\n",
       "      <td>2025-07-16 15:49:47</td>\n",
       "      <td>2025-07-16 03:49:47 PM</td>\n",
       "      <td>Wednesday</td>\n",
       "      <td>False</td>\n",
       "      <td>Summer</td>\n",
       "      <td>03:49 PM</td>\n",
       "      <td>Afternoon</td>\n",
       "      <td>2200 BANBURY ST</td>\n",
       "      <td>38.060586</td>\n",
       "      <td>-78.468852</td>\n",
       "      <td>Greenbrier</td>\n",
       "      <td>22901</td>\n",
       "    </tr>\n",
       "    <tr>\n",
       "      <th>2</th>\n",
       "      <td>3</td>\n",
       "      <td>Larceny - Shoplifitng</td>\n",
       "      <td>202500024958</td>\n",
       "      <td>1100</td>\n",
       "      <td>5TH ST SW</td>\n",
       "      <td>CPD</td>\n",
       "      <td>1344</td>\n",
       "      <td>Jones, Mark</td>\n",
       "      <td>2025-07-16 13:44:39</td>\n",
       "      <td>2025-07-16 01:44:39 PM</td>\n",
       "      <td>Wednesday</td>\n",
       "      <td>False</td>\n",
       "      <td>Summer</td>\n",
       "      <td>01:44 PM</td>\n",
       "      <td>Afternoon</td>\n",
       "      <td>1100 5TH ST SW</td>\n",
       "      <td>38.017130</td>\n",
       "      <td>-78.497806</td>\n",
       "      <td>Johnson Village</td>\n",
       "      <td>22903</td>\n",
       "    </tr>\n",
       "    <tr>\n",
       "      <th>3</th>\n",
       "      <td>4</td>\n",
       "      <td>Animal Complaint</td>\n",
       "      <td>202500024955</td>\n",
       "      <td>200</td>\n",
       "      <td>9TH ST NW</td>\n",
       "      <td>CPD</td>\n",
       "      <td>1325</td>\n",
       "      <td>Carelsen, Louise</td>\n",
       "      <td>2025-07-16 13:25:26</td>\n",
       "      <td>2025-07-16 01:25:26 PM</td>\n",
       "      <td>Wednesday</td>\n",
       "      <td>False</td>\n",
       "      <td>Summer</td>\n",
       "      <td>01:25 PM</td>\n",
       "      <td>Afternoon</td>\n",
       "      <td>200 9TH ST NW</td>\n",
       "      <td>38.034569</td>\n",
       "      <td>-78.491977</td>\n",
       "      <td>10th &amp; Page</td>\n",
       "      <td>22903</td>\n",
       "    </tr>\n",
       "    <tr>\n",
       "      <th>4</th>\n",
       "      <td>5</td>\n",
       "      <td>Larceny - Shoplifitng</td>\n",
       "      <td>202500024937</td>\n",
       "      <td>1100</td>\n",
       "      <td>EMMET ST N</td>\n",
       "      <td>CPD</td>\n",
       "      <td>1055</td>\n",
       "      <td>Love-Baker, Sydney</td>\n",
       "      <td>2025-07-16 10:55:24</td>\n",
       "      <td>2025-07-16 10:55:24 AM</td>\n",
       "      <td>Wednesday</td>\n",
       "      <td>False</td>\n",
       "      <td>Summer</td>\n",
       "      <td>10:55 AM</td>\n",
       "      <td>Morning</td>\n",
       "      <td>1100 EMMET ST N</td>\n",
       "      <td>38.051639</td>\n",
       "      <td>-78.501523</td>\n",
       "      <td>Barracks Road</td>\n",
       "      <td>22901</td>\n",
       "    </tr>\n",
       "  </tbody>\n",
       "</table>\n",
       "</div>"
      ],
      "text/plain": [
       "   RecordID                Offense    IncidentID BlockNumber  \\\n",
       "0         1     Disorderly Conduct  202500024996        1700   \n",
       "1         2     Drug Investigation  202500024973        2200   \n",
       "2         3  Larceny - Shoplifitng  202500024958        1100   \n",
       "3         4       Animal Complaint  202500024955         200   \n",
       "4         5  Larceny - Shoplifitng  202500024937        1100   \n",
       "\n",
       "           StreetName Agency HourReported    ReportingOfficer  \\\n",
       "0  JEFFERSON PARK AVE    CPD         1755     Venereo, Arturo   \n",
       "1          BANBURY ST    CPD         1549       Adams, Austin   \n",
       "2           5TH ST SW    CPD         1344         Jones, Mark   \n",
       "3           9TH ST NW    CPD         1325    Carelsen, Louise   \n",
       "4          EMMET ST N    CPD         1055  Love-Baker, Sydney   \n",
       "\n",
       "                 Date              DateString  DayOfWeek  Weekend  Season  \\\n",
       "0 2025-07-16 17:55:09  2025-07-16 05:55:09 PM  Wednesday    False  Summer   \n",
       "1 2025-07-16 15:49:47  2025-07-16 03:49:47 PM  Wednesday    False  Summer   \n",
       "2 2025-07-16 13:44:39  2025-07-16 01:44:39 PM  Wednesday    False  Summer   \n",
       "3 2025-07-16 13:25:26  2025-07-16 01:25:26 PM  Wednesday    False  Summer   \n",
       "4 2025-07-16 10:55:24  2025-07-16 10:55:24 AM  Wednesday    False  Summer   \n",
       "\n",
       "   HourAMPM  TimeOfDay               FullStreet        lat        lon  \\\n",
       "0  05:55 PM    Evening  1700 JEFFERSON PARK AVE  38.030239 -78.508368   \n",
       "1  03:49 PM  Afternoon          2200 BANBURY ST  38.060586 -78.468852   \n",
       "2  01:44 PM  Afternoon           1100 5TH ST SW  38.017130 -78.497806   \n",
       "3  01:25 PM  Afternoon            200 9TH ST NW  38.034569 -78.491977   \n",
       "4  10:55 AM    Morning          1100 EMMET ST N  38.051639 -78.501523   \n",
       "\n",
       "            neighborhood    zip  \n",
       "0  Jefferson Park Avenue  22903  \n",
       "1             Greenbrier  22901  \n",
       "2        Johnson Village  22903  \n",
       "3            10th & Page  22903  \n",
       "4          Barracks Road  22901  "
      ]
     },
     "execution_count": 11,
     "metadata": {},
     "output_type": "execute_result"
    }
   ],
   "source": [
    "# Initialize the geocoder.\n",
    "geolocator = Nominatim(user_agent=\"zip_lookup\")\n",
    "\n",
    "# Try to load a persistent ZIP cache if available.\n",
    "try:\n",
    "    with open(\"zip_cache.pkl\", \"rb\") as f:\n",
    "        zip_cache = pickle.load(f)\n",
    "    print(\"Loaded zip cache.\")\n",
    "except FileNotFoundError:\n",
    "    zip_cache = {}\n",
    "    print(\"No zip cache found; starting fresh.\")\n",
    "\n",
    "def get_zip(lat, lon):\n",
    "    \"\"\"\n",
    "    Reverse geocodes a latitude and longitude to retrieve the ZIP code.\n",
    "    Caches results to speed up subsequent lookups.\n",
    "    \"\"\"\n",
    "    key = (lat, lon)\n",
    "    if key in zip_cache:\n",
    "        return zip_cache[key]\n",
    "    \n",
    "    try:\n",
    "        location = geolocator.reverse((lat, lon), exactly_one=True, timeout=10)\n",
    "        address = location.raw.get('address', {})\n",
    "        postal_code = address.get('postcode', \"N/A\")\n",
    "    except Exception as e:\n",
    "        print(f\"Error getting ZIP for {lat}, {lon}: {e}\")\n",
    "        postal_code = \"N/A\"\n",
    "    \n",
    "    zip_cache[key] = postal_code\n",
    "    # Pause to respect the usage policy.\n",
    "    time.sleep(1)\n",
    "    return postal_code\n",
    "\n",
    "# Apply the function to each row in the DataFrame.\n",
    "df['zip'] = df.apply(lambda row: get_zip(row['lat'], row['lon']), axis=1)\n",
    "\n",
    "# Save the updated ZIP cache.\n",
    "with open(\"zip_cache.pkl\", \"wb\") as f:\n",
    "    pickle.dump(zip_cache, f)\n",
    "\n",
    "df.head()\n"
   ]
  },
  {
   "cell_type": "code",
   "execution_count": 12,
   "id": "efec998e",
   "metadata": {
    "execution": {
     "iopub.execute_input": "2025-07-19T01:08:56.997535Z",
     "iopub.status.busy": "2025-07-19T01:08:56.997046Z",
     "iopub.status.idle": "2025-07-19T01:08:57.029253Z",
     "shell.execute_reply": "2025-07-19T01:08:57.028650Z"
    },
    "papermill": {
     "duration": 0.042413,
     "end_time": "2025-07-19T01:08:57.030369",
     "exception": false,
     "start_time": "2025-07-19T01:08:56.987956",
     "status": "completed"
    },
    "tags": []
   },
   "outputs": [
    {
     "name": "stdout",
     "output_type": "stream",
     "text": [
      "                  MissingCount  MissingPercentage\n",
      "RecordID                     0               0.00\n",
      "Offense                      0               0.00\n",
      "IncidentID                   0               0.00\n",
      "BlockNumber                  0               0.00\n",
      "StreetName                   0               0.00\n",
      "Agency                       0               0.00\n",
      "HourReported                 0               0.00\n",
      "ReportingOfficer            17               0.07\n",
      "Date                         0               0.00\n",
      "DateString                   0               0.00\n",
      "DayOfWeek                    0               0.00\n",
      "Weekend                      0               0.00\n",
      "Season                       0               0.00\n",
      "HourAMPM                     0               0.00\n",
      "TimeOfDay                    0               0.00\n",
      "FullStreet                   0               0.00\n",
      "lat                         60               0.23\n",
      "lon                         60               0.23\n",
      "neighborhood                 0               0.00\n",
      "zip                          0               0.00\n"
     ]
    }
   ],
   "source": [
    "missing_info = missing_percentage(df)\n",
    "print(missing_info)\n"
   ]
  },
  {
   "cell_type": "code",
   "execution_count": 13,
   "id": "8be86489",
   "metadata": {
    "execution": {
     "iopub.execute_input": "2025-07-19T01:08:57.048159Z",
     "iopub.status.busy": "2025-07-19T01:08:57.047895Z",
     "iopub.status.idle": "2025-07-19T01:08:57.081381Z",
     "shell.execute_reply": "2025-07-19T01:08:57.080798Z"
    },
    "papermill": {
     "duration": 0.043665,
     "end_time": "2025-07-19T01:08:57.082534",
     "exception": false,
     "start_time": "2025-07-19T01:08:57.038869",
     "status": "completed"
    },
    "tags": []
   },
   "outputs": [
    {
     "name": "stdout",
     "output_type": "stream",
     "text": [
      "<class 'pandas.core.frame.DataFrame'>\n",
      "RangeIndex: 25538 entries, 0 to 25537\n",
      "Data columns (total 20 columns):\n",
      " #   Column            Non-Null Count  Dtype         \n",
      "---  ------            --------------  -----         \n",
      " 0   RecordID          25538 non-null  int64         \n",
      " 1   Offense           25538 non-null  object        \n",
      " 2   IncidentID        25538 non-null  object        \n",
      " 3   BlockNumber       25538 non-null  object        \n",
      " 4   StreetName        25538 non-null  object        \n",
      " 5   Agency            25538 non-null  object        \n",
      " 6   HourReported      25538 non-null  object        \n",
      " 7   ReportingOfficer  25521 non-null  object        \n",
      " 8   Date              25538 non-null  datetime64[ns]\n",
      " 9   DateString        25538 non-null  object        \n",
      " 10  DayOfWeek         25538 non-null  object        \n",
      " 11  Weekend           25538 non-null  bool          \n",
      " 12  Season            25538 non-null  object        \n",
      " 13  HourAMPM          25538 non-null  object        \n",
      " 14  TimeOfDay         25538 non-null  object        \n",
      " 15  FullStreet        25538 non-null  object        \n",
      " 16  lat               25478 non-null  float64       \n",
      " 17  lon               25478 non-null  float64       \n",
      " 18  neighborhood      25538 non-null  object        \n",
      " 19  zip               25538 non-null  object        \n",
      "dtypes: bool(1), datetime64[ns](1), float64(2), int64(1), object(15)\n",
      "memory usage: 3.7+ MB\n"
     ]
    }
   ],
   "source": [
    "df.info()"
   ]
  },
  {
   "cell_type": "code",
   "execution_count": 14,
   "id": "5aa625d5",
   "metadata": {
    "execution": {
     "iopub.execute_input": "2025-07-19T01:08:57.100936Z",
     "iopub.status.busy": "2025-07-19T01:08:57.100388Z",
     "iopub.status.idle": "2025-07-19T01:08:57.150473Z",
     "shell.execute_reply": "2025-07-19T01:08:57.149784Z"
    },
    "papermill": {
     "duration": 0.060411,
     "end_time": "2025-07-19T01:08:57.151680",
     "exception": false,
     "start_time": "2025-07-19T01:08:57.091269",
     "status": "completed"
    },
    "tags": []
   },
   "outputs": [
    {
     "data": {
      "text/html": [
       "<div>\n",
       "<style scoped>\n",
       "    .dataframe tbody tr th:only-of-type {\n",
       "        vertical-align: middle;\n",
       "    }\n",
       "\n",
       "    .dataframe tbody tr th {\n",
       "        vertical-align: top;\n",
       "    }\n",
       "\n",
       "    .dataframe thead th {\n",
       "        text-align: right;\n",
       "    }\n",
       "</style>\n",
       "<table border=\"1\" class=\"dataframe\">\n",
       "  <thead>\n",
       "    <tr style=\"text-align: right;\">\n",
       "      <th></th>\n",
       "      <th>RecordID</th>\n",
       "      <th>Offense</th>\n",
       "      <th>IncidentID</th>\n",
       "      <th>Agency</th>\n",
       "      <th>ReportingOfficer</th>\n",
       "      <th>Date</th>\n",
       "      <th>DayOfWeek</th>\n",
       "      <th>Weekend</th>\n",
       "      <th>Season</th>\n",
       "      <th>TimeOfDay</th>\n",
       "      <th>FullStreet</th>\n",
       "      <th>lat</th>\n",
       "      <th>lon</th>\n",
       "      <th>neighborhood</th>\n",
       "      <th>zip</th>\n",
       "    </tr>\n",
       "  </thead>\n",
       "  <tbody>\n",
       "    <tr>\n",
       "      <th>0</th>\n",
       "      <td>1</td>\n",
       "      <td>Disorderly Conduct</td>\n",
       "      <td>202500024996</td>\n",
       "      <td>CPD</td>\n",
       "      <td>Venereo, Arturo</td>\n",
       "      <td>2025-07-16 17:55:09</td>\n",
       "      <td>Wednesday</td>\n",
       "      <td>False</td>\n",
       "      <td>Summer</td>\n",
       "      <td>Evening</td>\n",
       "      <td>1700 JEFFERSON PARK AVE</td>\n",
       "      <td>38.030239</td>\n",
       "      <td>-78.508368</td>\n",
       "      <td>Jefferson Park Avenue</td>\n",
       "      <td>22903</td>\n",
       "    </tr>\n",
       "    <tr>\n",
       "      <th>1</th>\n",
       "      <td>2</td>\n",
       "      <td>Drug Investigation</td>\n",
       "      <td>202500024973</td>\n",
       "      <td>CPD</td>\n",
       "      <td>Adams, Austin</td>\n",
       "      <td>2025-07-16 15:49:47</td>\n",
       "      <td>Wednesday</td>\n",
       "      <td>False</td>\n",
       "      <td>Summer</td>\n",
       "      <td>Afternoon</td>\n",
       "      <td>2200 BANBURY ST</td>\n",
       "      <td>38.060586</td>\n",
       "      <td>-78.468852</td>\n",
       "      <td>Greenbrier</td>\n",
       "      <td>22901</td>\n",
       "    </tr>\n",
       "    <tr>\n",
       "      <th>2</th>\n",
       "      <td>3</td>\n",
       "      <td>Larceny - Shoplifitng</td>\n",
       "      <td>202500024958</td>\n",
       "      <td>CPD</td>\n",
       "      <td>Jones, Mark</td>\n",
       "      <td>2025-07-16 13:44:39</td>\n",
       "      <td>Wednesday</td>\n",
       "      <td>False</td>\n",
       "      <td>Summer</td>\n",
       "      <td>Afternoon</td>\n",
       "      <td>1100 5TH ST SW</td>\n",
       "      <td>38.01713</td>\n",
       "      <td>-78.497806</td>\n",
       "      <td>Johnson Village</td>\n",
       "      <td>22903</td>\n",
       "    </tr>\n",
       "    <tr>\n",
       "      <th>3</th>\n",
       "      <td>4</td>\n",
       "      <td>Animal Complaint</td>\n",
       "      <td>202500024955</td>\n",
       "      <td>CPD</td>\n",
       "      <td>Carelsen, Louise</td>\n",
       "      <td>2025-07-16 13:25:26</td>\n",
       "      <td>Wednesday</td>\n",
       "      <td>False</td>\n",
       "      <td>Summer</td>\n",
       "      <td>Afternoon</td>\n",
       "      <td>200 9TH ST NW</td>\n",
       "      <td>38.034569</td>\n",
       "      <td>-78.491977</td>\n",
       "      <td>10th &amp; Page</td>\n",
       "      <td>22903</td>\n",
       "    </tr>\n",
       "    <tr>\n",
       "      <th>4</th>\n",
       "      <td>5</td>\n",
       "      <td>Larceny - Shoplifitng</td>\n",
       "      <td>202500024937</td>\n",
       "      <td>CPD</td>\n",
       "      <td>Love-Baker, Sydney</td>\n",
       "      <td>2025-07-16 10:55:24</td>\n",
       "      <td>Wednesday</td>\n",
       "      <td>False</td>\n",
       "      <td>Summer</td>\n",
       "      <td>Morning</td>\n",
       "      <td>1100 EMMET ST N</td>\n",
       "      <td>38.051639</td>\n",
       "      <td>-78.501523</td>\n",
       "      <td>Barracks Road</td>\n",
       "      <td>22901</td>\n",
       "    </tr>\n",
       "  </tbody>\n",
       "</table>\n",
       "</div>"
      ],
      "text/plain": [
       "   RecordID                Offense    IncidentID Agency    ReportingOfficer  \\\n",
       "0         1     Disorderly Conduct  202500024996    CPD     Venereo, Arturo   \n",
       "1         2     Drug Investigation  202500024973    CPD       Adams, Austin   \n",
       "2         3  Larceny - Shoplifitng  202500024958    CPD         Jones, Mark   \n",
       "3         4       Animal Complaint  202500024955    CPD    Carelsen, Louise   \n",
       "4         5  Larceny - Shoplifitng  202500024937    CPD  Love-Baker, Sydney   \n",
       "\n",
       "                 Date  DayOfWeek  Weekend  Season  TimeOfDay  \\\n",
       "0 2025-07-16 17:55:09  Wednesday    False  Summer    Evening   \n",
       "1 2025-07-16 15:49:47  Wednesday    False  Summer  Afternoon   \n",
       "2 2025-07-16 13:44:39  Wednesday    False  Summer  Afternoon   \n",
       "3 2025-07-16 13:25:26  Wednesday    False  Summer  Afternoon   \n",
       "4 2025-07-16 10:55:24  Wednesday    False  Summer    Morning   \n",
       "\n",
       "                FullStreet        lat        lon           neighborhood    zip  \n",
       "0  1700 JEFFERSON PARK AVE  38.030239 -78.508368  Jefferson Park Avenue  22903  \n",
       "1          2200 BANBURY ST  38.060586 -78.468852             Greenbrier  22901  \n",
       "2           1100 5TH ST SW   38.01713 -78.497806        Johnson Village  22903  \n",
       "3            200 9TH ST NW  38.034569 -78.491977            10th & Page  22903  \n",
       "4          1100 EMMET ST N  38.051639 -78.501523          Barracks Road  22901  "
      ]
     },
     "execution_count": 14,
     "metadata": {},
     "output_type": "execute_result"
    }
   ],
   "source": [
    "# Now drop the original BlockNumber and StreetName columns\n",
    "df.drop(columns=['BlockNumber', 'StreetName','HourAMPM','HourReported','DateString'], inplace=True)\n",
    "df[\"zip\"] = df[\"zip\"].astype(str)\n",
    "\n",
    "# Fill all missing values in the DataFrame with \"N/A\"\n",
    "df.replace({None: \"N/A\", np.nan: \"N/A\", \"\": \"N/A\"}, inplace=True)\n",
    "df.head()"
   ]
  },
  {
   "cell_type": "code",
   "execution_count": 15,
   "id": "09681d3d",
   "metadata": {
    "execution": {
     "iopub.execute_input": "2025-07-19T01:08:57.170503Z",
     "iopub.status.busy": "2025-07-19T01:08:57.169977Z",
     "iopub.status.idle": "2025-07-19T01:08:57.192396Z",
     "shell.execute_reply": "2025-07-19T01:08:57.191791Z"
    },
    "papermill": {
     "duration": 0.032924,
     "end_time": "2025-07-19T01:08:57.193529",
     "exception": false,
     "start_time": "2025-07-19T01:08:57.160605",
     "status": "completed"
    },
    "tags": []
   },
   "outputs": [
    {
     "name": "stdout",
     "output_type": "stream",
     "text": [
      "                  MissingCount  MissingPercentage\n",
      "RecordID                     0                0.0\n",
      "Offense                      0                0.0\n",
      "IncidentID                   0                0.0\n",
      "Agency                       0                0.0\n",
      "ReportingOfficer             0                0.0\n",
      "Date                         0                0.0\n",
      "DayOfWeek                    0                0.0\n",
      "Weekend                      0                0.0\n",
      "Season                       0                0.0\n",
      "TimeOfDay                    0                0.0\n",
      "FullStreet                   0                0.0\n",
      "lat                          0                0.0\n",
      "lon                          0                0.0\n",
      "neighborhood                 0                0.0\n",
      "zip                          0                0.0\n"
     ]
    }
   ],
   "source": [
    "missing_info = missing_percentage(df)\n",
    "print(missing_info)"
   ]
  },
  {
   "cell_type": "code",
   "execution_count": 16,
   "id": "c28bea02",
   "metadata": {
    "execution": {
     "iopub.execute_input": "2025-07-19T01:08:57.212920Z",
     "iopub.status.busy": "2025-07-19T01:08:57.212321Z",
     "iopub.status.idle": "2025-07-19T01:08:57.217245Z",
     "shell.execute_reply": "2025-07-19T01:08:57.216545Z"
    },
    "papermill": {
     "duration": 0.015558,
     "end_time": "2025-07-19T01:08:57.218267",
     "exception": false,
     "start_time": "2025-07-19T01:08:57.202709",
     "status": "completed"
    },
    "tags": []
   },
   "outputs": [
    {
     "data": {
      "text/plain": [
       "Index(['RecordID', 'Offense', 'IncidentID', 'Agency', 'ReportingOfficer',\n",
       "       'Date', 'DayOfWeek', 'Weekend', 'Season', 'TimeOfDay', 'FullStreet',\n",
       "       'lat', 'lon', 'neighborhood', 'zip'],\n",
       "      dtype='object')"
      ]
     },
     "execution_count": 16,
     "metadata": {},
     "output_type": "execute_result"
    }
   ],
   "source": [
    "df.columns"
   ]
  },
  {
   "cell_type": "code",
   "execution_count": 17,
   "id": "ce337a27",
   "metadata": {
    "execution": {
     "iopub.execute_input": "2025-07-19T01:08:57.236596Z",
     "iopub.status.busy": "2025-07-19T01:08:57.236354Z",
     "iopub.status.idle": "2025-07-19T01:08:57.259909Z",
     "shell.execute_reply": "2025-07-19T01:08:57.259189Z"
    },
    "papermill": {
     "duration": 0.034013,
     "end_time": "2025-07-19T01:08:57.261034",
     "exception": false,
     "start_time": "2025-07-19T01:08:57.227021",
     "status": "completed"
    },
    "tags": []
   },
   "outputs": [
    {
     "name": "stdout",
     "output_type": "stream",
     "text": [
      "<class 'pandas.core.frame.DataFrame'>\n",
      "RangeIndex: 25538 entries, 0 to 25537\n",
      "Data columns (total 15 columns):\n",
      " #   Column            Non-Null Count  Dtype         \n",
      "---  ------            --------------  -----         \n",
      " 0   RecordID          25538 non-null  int64         \n",
      " 1   Offense           25538 non-null  object        \n",
      " 2   IncidentID        25538 non-null  object        \n",
      " 3   Agency            25538 non-null  object        \n",
      " 4   ReportingOfficer  25538 non-null  object        \n",
      " 5   Date              25538 non-null  datetime64[ns]\n",
      " 6   DayOfWeek         25538 non-null  object        \n",
      " 7   Weekend           25538 non-null  bool          \n",
      " 8   Season            25538 non-null  object        \n",
      " 9   TimeOfDay         25538 non-null  object        \n",
      " 10  FullStreet        25538 non-null  object        \n",
      " 11  lat               25538 non-null  object        \n",
      " 12  lon               25538 non-null  object        \n",
      " 13  neighborhood      25538 non-null  object        \n",
      " 14  zip               25538 non-null  object        \n",
      "dtypes: bool(1), datetime64[ns](1), int64(1), object(12)\n",
      "memory usage: 2.8+ MB\n"
     ]
    }
   ],
   "source": [
    "df.info()"
   ]
  },
  {
   "cell_type": "markdown",
   "id": "e62650fa",
   "metadata": {
    "papermill": {
     "duration": 0.008675,
     "end_time": "2025-07-19T01:08:57.278643",
     "exception": false,
     "start_time": "2025-07-19T01:08:57.269968",
     "status": "completed"
    },
    "tags": []
   },
   "source": [
    "### Export Clean Data"
   ]
  },
  {
   "cell_type": "code",
   "execution_count": 18,
   "id": "72399500",
   "metadata": {
    "execution": {
     "iopub.execute_input": "2025-07-19T01:08:57.297555Z",
     "iopub.status.busy": "2025-07-19T01:08:57.297070Z",
     "iopub.status.idle": "2025-07-19T01:09:06.782179Z",
     "shell.execute_reply": "2025-07-19T01:09:06.781452Z"
    },
    "papermill": {
     "duration": 9.495994,
     "end_time": "2025-07-19T01:09:06.783359",
     "exception": false,
     "start_time": "2025-07-19T01:08:57.287365",
     "status": "completed"
    },
    "tags": []
   },
   "outputs": [
    {
     "name": "stdout",
     "output_type": "stream",
     "text": [
      "Project Root: /home/runner/work/crime-data/crime-data\n"
     ]
    },
    {
     "name": "stdout",
     "output_type": "stream",
     "text": [
      "Data saved to: /home/runner/work/crime-data/crime-data/data/charlottesville_crime_incidents.csv\n"
     ]
    },
    {
     "name": "stdout",
     "output_type": "stream",
     "text": [
      "Excel saved to: /home/runner/work/crime-data/crime-data/data/charlottesville_crime_incidents.xlsx\n"
     ]
    }
   ],
   "source": [
    "# Determine the project root (assuming papermill is run from the repository root)\n",
    "project_root = os.getcwd()\n",
    "print(\"Project Root:\", project_root)\n",
    "\n",
    "# Set the data directory within the project root\n",
    "data_dir = os.path.join(project_root, \"data\")\n",
    "\n",
    "# Ensure the \"data\" directory exists (create it if it doesn't)\n",
    "if not os.path.exists(data_dir):\n",
    "    os.makedirs(data_dir)\n",
    "\n",
    "# Export the DataFrame to CSV in the \"data\" folder located in the project root\n",
    "csv_path = os.path.join(data_dir, \"charlottesville_crime_incidents.csv\")\n",
    "df.to_csv(csv_path, index=False)\n",
    "print(\"Data saved to:\", csv_path)\n",
    "\n",
    "# Construct the path to your Excel file\n",
    "excel_path = os.path.join(data_dir, \"charlottesville_crime_incidents.xlsx\")\n",
    "\n",
    "# Export the DataFrame to Excel\n",
    "df.to_excel(excel_path, index=False)\n",
    "print(\"Excel saved to:\", excel_path)\n"
   ]
  }
 ],
 "metadata": {
  "kernelspec": {
   "display_name": "Python 3",
   "language": "python",
   "name": "python3"
  },
  "language_info": {
   "codemirror_mode": {
    "name": "ipython",
    "version": 3
   },
   "file_extension": ".py",
   "mimetype": "text/x-python",
   "name": "python",
   "nbconvert_exporter": "python",
   "pygments_lexer": "ipython3",
   "version": "3.9.23"
  },
  "papermill": {
   "default_parameters": {},
   "duration": 143.675719,
   "end_time": "2025-07-19T01:09:07.208647",
   "environment_variables": {},
   "exception": null,
   "input_path": "notebook/Crime Data.ipynb",
   "output_path": "notebook/Crime Data_output.ipynb",
   "parameters": {},
   "start_time": "2025-07-19T01:06:43.532928",
   "version": "2.6.0"
  }
 },
 "nbformat": 4,
 "nbformat_minor": 5
}