{
 "cells": [
  {
   "cell_type": "markdown",
   "id": "b9be2fcc",
   "metadata": {
    "papermill": {
     "duration": 0.00432,
     "end_time": "2025-07-29T01:17:17.247975",
     "exception": false,
     "start_time": "2025-07-29T01:17:17.243655",
     "status": "completed"
    },
    "tags": []
   },
   "source": [
    "# Charlottesville Open Data Porttal: Crime Data"
   ]
  },
  {
   "cell_type": "markdown",
   "id": "e8cd5c3f",
   "metadata": {
    "papermill": {
     "duration": 0.004322,
     "end_time": "2025-07-29T01:17:17.255910",
     "exception": false,
     "start_time": "2025-07-29T01:17:17.251588",
     "status": "completed"
    },
    "tags": []
   },
   "source": [
    "## Import Relevant Librarires & Set WD"
   ]
  },
  {
   "cell_type": "code",
   "execution_count": 1,
   "id": "e700e7e4",
   "metadata": {
    "execution": {
     "iopub.execute_input": "2025-07-29T01:17:17.263799Z",
     "iopub.status.busy": "2025-07-29T01:17:17.263501Z",
     "iopub.status.idle": "2025-07-29T01:17:17.943235Z",
     "shell.execute_reply": "2025-07-29T01:17:17.942512Z"
    },
    "papermill": {
     "duration": 0.685558,
     "end_time": "2025-07-29T01:17:17.944748",
     "exception": false,
     "start_time": "2025-07-29T01:17:17.259190",
     "status": "completed"
    },
    "tags": []
   },
   "outputs": [],
   "source": [
    "import requests\n",
    "import pandas as pd\n",
    "import numpy as np\n",
    "import pickle\n",
    "import googlemaps\n",
    "import plotly.express as px\n",
    "from geopy.geocoders import Nominatim\n",
    "import time\n",
    "from dotenv import load_dotenv\n",
    "import os\n",
    "\n",
    "env_path = os.path.join(\"..\", \".env\")\n",
    "#print(\"Looking for .env file at:\", os.path.abspath(env_path))\n",
    "load_dotenv(dotenv_path=env_path)\n",
    "\n",
    "# Retrieve the variables\n",
    "GOOGLE_API_KEY = os.getenv(\"GOOGLE_API_KEY\")\n",
    "WORKING_DIR = os.getenv(\"WORKING_DIR\")\n",
    "\n",
    "if GOOGLE_API_KEY is None or WORKING_DIR is None:\n",
    "    raise RuntimeError(\"No configuration found. Please ensure that your .env file exists with the required variables, or create a local config.py file.\")\n",
    "\n",
    "#print(\"Google API Key:\", GOOGLE_API_KEY)\n",
    "#print(\"Working Directory:\", WORKING_DIR)"
   ]
  },
  {
   "cell_type": "markdown",
   "id": "3bba02f2",
   "metadata": {
    "papermill": {
     "duration": 0.003274,
     "end_time": "2025-07-29T01:17:17.951874",
     "exception": false,
     "start_time": "2025-07-29T01:17:17.948600",
     "status": "completed"
    },
    "tags": []
   },
   "source": [
    "## Import Data\n",
    "\n",
    "URL: https://opendata.charlottesville.org/datasets/charlottesville::crime-data/about"
   ]
  },
  {
   "cell_type": "code",
   "execution_count": 2,
   "id": "54d0aa0f",
   "metadata": {
    "execution": {
     "iopub.execute_input": "2025-07-29T01:17:17.959452Z",
     "iopub.status.busy": "2025-07-29T01:17:17.959123Z",
     "iopub.status.idle": "2025-07-29T01:18:26.610121Z",
     "shell.execute_reply": "2025-07-29T01:18:26.609431Z"
    },
    "papermill": {
     "duration": 68.65953,
     "end_time": "2025-07-29T01:18:26.614682",
     "exception": false,
     "start_time": "2025-07-29T01:17:17.955152",
     "status": "completed"
    },
    "tags": []
   },
   "outputs": [
    {
     "name": "stdout",
     "output_type": "stream",
     "text": [
      "Total records imported: 25593\n"
     ]
    }
   ],
   "source": [
    "# Define the endpoint and initial parameters.\n",
    "url = \"https://gisweb.charlottesville.org/arcgis/rest/services/OpenData_2/MapServer/6/query\"\n",
    "params = {\n",
    "    \"where\": \"1=1\",\n",
    "    \"outFields\": \"*\",\n",
    "    \"outSR\": 4326,\n",
    "    \"f\": \"json\",\n",
    "    \"resultOffset\": 0,       # Starting index for results\n",
    "    \"resultRecordCount\": 10000  # Maximum records per batch (if allowed by the API)\n",
    "}\n",
    "\n",
    "records = []\n",
    "\n",
    "while True:\n",
    "    response = requests.get(url, params=params)\n",
    "    response.raise_for_status()\n",
    "    data = response.json()\n",
    "    \n",
    "    # Get the current batch of features.\n",
    "    features = data.get(\"features\", [])\n",
    "    if not features:\n",
    "        break\n",
    "\n",
    "    # Extract the attributes from the features.\n",
    "    batch_records = [feature.get(\"attributes\", {}) for feature in features]\n",
    "    records.extend(batch_records)\n",
    "    \n",
    "    # If the batch size is less than the requested count, we reached the end.\n",
    "    if len(features) < params[\"resultRecordCount\"]:\n",
    "        break\n",
    "\n",
    "    # Update the resultOffset for the next batch.\n",
    "    params[\"resultOffset\"] += params[\"resultRecordCount\"]\n",
    "\n",
    "# Create a DataFrame from the combined records.\n",
    "df = pd.DataFrame(records)\n",
    "print(\"Total records imported:\", len(df))\n"
   ]
  },
  {
   "cell_type": "code",
   "execution_count": 3,
   "id": "dc7430f2",
   "metadata": {
    "execution": {
     "iopub.execute_input": "2025-07-29T01:18:26.622566Z",
     "iopub.status.busy": "2025-07-29T01:18:26.622329Z",
     "iopub.status.idle": "2025-07-29T01:18:26.634308Z",
     "shell.execute_reply": "2025-07-29T01:18:26.633771Z"
    },
    "papermill": {
     "duration": 0.017107,
     "end_time": "2025-07-29T01:18:26.635299",
     "exception": false,
     "start_time": "2025-07-29T01:18:26.618192",
     "status": "completed"
    },
    "tags": []
   },
   "outputs": [
    {
     "data": {
      "text/html": [
       "<div>\n",
       "<style scoped>\n",
       "    .dataframe tbody tr th:only-of-type {\n",
       "        vertical-align: middle;\n",
       "    }\n",
       "\n",
       "    .dataframe tbody tr th {\n",
       "        vertical-align: top;\n",
       "    }\n",
       "\n",
       "    .dataframe thead th {\n",
       "        text-align: right;\n",
       "    }\n",
       "</style>\n",
       "<table border=\"1\" class=\"dataframe\">\n",
       "  <thead>\n",
       "    <tr style=\"text-align: right;\">\n",
       "      <th></th>\n",
       "      <th>RecordID</th>\n",
       "      <th>Offense</th>\n",
       "      <th>IncidentID</th>\n",
       "      <th>BlockNumber</th>\n",
       "      <th>StreetName</th>\n",
       "      <th>Agency</th>\n",
       "      <th>DateReported</th>\n",
       "      <th>HourReported</th>\n",
       "      <th>ReportingOfficer</th>\n",
       "    </tr>\n",
       "  </thead>\n",
       "  <tbody>\n",
       "    <tr>\n",
       "      <th>0</th>\n",
       "      <td>1</td>\n",
       "      <td>Vandalism</td>\n",
       "      <td>202500026441</td>\n",
       "      <td>2400</td>\n",
       "      <td>ARLINGTON BLVD, 4</td>\n",
       "      <td>CPD</td>\n",
       "      <td>1753592064000</td>\n",
       "      <td>0054</td>\n",
       "      <td>Wells, Matthew</td>\n",
       "    </tr>\n",
       "    <tr>\n",
       "      <th>1</th>\n",
       "      <td>2</td>\n",
       "      <td>Drug/Narcotics Violation</td>\n",
       "      <td>202500026423</td>\n",
       "      <td>400</td>\n",
       "      <td>RIDGE MCINTIRE RD</td>\n",
       "      <td>CPD</td>\n",
       "      <td>1753584305000</td>\n",
       "      <td>2245</td>\n",
       "      <td>Benbow, Lauren</td>\n",
       "    </tr>\n",
       "    <tr>\n",
       "      <th>2</th>\n",
       "      <td>3</td>\n",
       "      <td>Assault Aggravated</td>\n",
       "      <td>202500026406</td>\n",
       "      <td>1000</td>\n",
       "      <td>5TH ST SW</td>\n",
       "      <td>CPD</td>\n",
       "      <td>1753578835000</td>\n",
       "      <td>2113</td>\n",
       "      <td>Essex, Dominique</td>\n",
       "    </tr>\n",
       "    <tr>\n",
       "      <th>3</th>\n",
       "      <td>4</td>\n",
       "      <td>Assist Citizen - Mental/TDO/ECO</td>\n",
       "      <td>202500026366</td>\n",
       "      <td>300</td>\n",
       "      <td>CARLTON RD, 108</td>\n",
       "      <td>CPD</td>\n",
       "      <td>1753554999000</td>\n",
       "      <td>1436</td>\n",
       "      <td>Schwartz, Honora</td>\n",
       "    </tr>\n",
       "    <tr>\n",
       "      <th>4</th>\n",
       "      <td>5</td>\n",
       "      <td>Drunkeness DIP</td>\n",
       "      <td>202500026363</td>\n",
       "      <td>500</td>\n",
       "      <td>HANOVER ST</td>\n",
       "      <td>CPD</td>\n",
       "      <td>1753554319000</td>\n",
       "      <td>1425</td>\n",
       "      <td>Kinney, Dylan</td>\n",
       "    </tr>\n",
       "  </tbody>\n",
       "</table>\n",
       "</div>"
      ],
      "text/plain": [
       "   RecordID                          Offense    IncidentID BlockNumber  \\\n",
       "0         1                        Vandalism  202500026441        2400   \n",
       "1         2         Drug/Narcotics Violation  202500026423         400   \n",
       "2         3               Assault Aggravated  202500026406        1000   \n",
       "3         4  Assist Citizen - Mental/TDO/ECO  202500026366         300   \n",
       "4         5                   Drunkeness DIP  202500026363         500   \n",
       "\n",
       "          StreetName Agency   DateReported HourReported  ReportingOfficer  \n",
       "0  ARLINGTON BLVD, 4    CPD  1753592064000         0054    Wells, Matthew  \n",
       "1  RIDGE MCINTIRE RD    CPD  1753584305000         2245    Benbow, Lauren  \n",
       "2          5TH ST SW    CPD  1753578835000         2113  Essex, Dominique  \n",
       "3    CARLTON RD, 108    CPD  1753554999000         1436  Schwartz, Honora  \n",
       "4         HANOVER ST    CPD  1753554319000         1425     Kinney, Dylan  "
      ]
     },
     "execution_count": 3,
     "metadata": {},
     "output_type": "execute_result"
    }
   ],
   "source": [
    "df.head()"
   ]
  },
  {
   "cell_type": "code",
   "execution_count": 4,
   "id": "f94fcf4e",
   "metadata": {
    "execution": {
     "iopub.execute_input": "2025-07-29T01:18:26.643375Z",
     "iopub.status.busy": "2025-07-29T01:18:26.643126Z",
     "iopub.status.idle": "2025-07-29T01:18:26.647319Z",
     "shell.execute_reply": "2025-07-29T01:18:26.646798Z"
    },
    "papermill": {
     "duration": 0.009284,
     "end_time": "2025-07-29T01:18:26.648325",
     "exception": false,
     "start_time": "2025-07-29T01:18:26.639041",
     "status": "completed"
    },
    "tags": []
   },
   "outputs": [
    {
     "data": {
      "text/plain": [
       "Index(['RecordID', 'Offense', 'IncidentID', 'BlockNumber', 'StreetName',\n",
       "       'Agency', 'DateReported', 'HourReported', 'ReportingOfficer'],\n",
       "      dtype='object')"
      ]
     },
     "execution_count": 4,
     "metadata": {},
     "output_type": "execute_result"
    }
   ],
   "source": [
    "df.columns"
   ]
  },
  {
   "cell_type": "code",
   "execution_count": 5,
   "id": "516fe941",
   "metadata": {
    "execution": {
     "iopub.execute_input": "2025-07-29T01:18:26.656414Z",
     "iopub.status.busy": "2025-07-29T01:18:26.656192Z",
     "iopub.status.idle": "2025-07-29T01:18:26.680634Z",
     "shell.execute_reply": "2025-07-29T01:18:26.680064Z"
    },
    "papermill": {
     "duration": 0.029584,
     "end_time": "2025-07-29T01:18:26.681669",
     "exception": false,
     "start_time": "2025-07-29T01:18:26.652085",
     "status": "completed"
    },
    "tags": []
   },
   "outputs": [
    {
     "name": "stdout",
     "output_type": "stream",
     "text": [
      "<class 'pandas.core.frame.DataFrame'>\n",
      "RangeIndex: 25593 entries, 0 to 25592\n",
      "Data columns (total 9 columns):\n",
      " #   Column            Non-Null Count  Dtype \n",
      "---  ------            --------------  ----- \n",
      " 0   RecordID          25593 non-null  int64 \n",
      " 1   Offense           25593 non-null  object\n",
      " 2   IncidentID        25593 non-null  object\n",
      " 3   BlockNumber       25593 non-null  object\n",
      " 4   StreetName        25593 non-null  object\n",
      " 5   Agency            25593 non-null  object\n",
      " 6   DateReported      25593 non-null  int64 \n",
      " 7   HourReported      25593 non-null  object\n",
      " 8   ReportingOfficer  25576 non-null  object\n",
      "dtypes: int64(2), object(7)\n",
      "memory usage: 1.8+ MB\n"
     ]
    }
   ],
   "source": [
    "df.info()"
   ]
  },
  {
   "cell_type": "markdown",
   "id": "f7281a94",
   "metadata": {
    "papermill": {
     "duration": 0.003703,
     "end_time": "2025-07-29T01:18:26.689275",
     "exception": false,
     "start_time": "2025-07-29T01:18:26.685572",
     "status": "completed"
    },
    "tags": []
   },
   "source": [
    "### Missing Values"
   ]
  },
  {
   "cell_type": "code",
   "execution_count": 6,
   "id": "fa0b0ddd",
   "metadata": {
    "execution": {
     "iopub.execute_input": "2025-07-29T01:18:26.697417Z",
     "iopub.status.busy": "2025-07-29T01:18:26.697192Z",
     "iopub.status.idle": "2025-07-29T01:18:26.719914Z",
     "shell.execute_reply": "2025-07-29T01:18:26.719350Z"
    },
    "papermill": {
     "duration": 0.028011,
     "end_time": "2025-07-29T01:18:26.720953",
     "exception": false,
     "start_time": "2025-07-29T01:18:26.692942",
     "status": "completed"
    },
    "tags": []
   },
   "outputs": [
    {
     "name": "stdout",
     "output_type": "stream",
     "text": [
      "                  MissingCount  MissingPercentage\n",
      "RecordID                     0               0.00\n",
      "Offense                      0               0.00\n",
      "IncidentID                   0               0.00\n",
      "BlockNumber                  0               0.00\n",
      "StreetName                   0               0.00\n",
      "Agency                       0               0.00\n",
      "DateReported                 0               0.00\n",
      "HourReported                 0               0.00\n",
      "ReportingOfficer            17               0.07\n"
     ]
    }
   ],
   "source": [
    "def missing_percentage(df):\n",
    "    \"\"\"\n",
    "    Returns a DataFrame with the count and percentage of missing values for each column.\n",
    "    \n",
    "    Parameters:\n",
    "        df (pd.DataFrame): The input DataFrame.\n",
    "    \n",
    "    Returns:\n",
    "        pd.DataFrame: A DataFrame with columns 'MissingCount' and 'MissingPercentage'.\n",
    "    \"\"\"\n",
    "    total_rows = len(df)\n",
    "    missing_count = df.isnull().sum()\n",
    "    missing_percent = (missing_count / total_rows) * 100\n",
    "    \n",
    "    result = pd.DataFrame({\n",
    "        'MissingCount': missing_count,\n",
    "        'MissingPercentage': missing_percent.round(2)\n",
    "    })\n",
    "    \n",
    "    return result\n",
    "\n",
    "# Example usage:\n",
    "missing_info = missing_percentage(df)\n",
    "print(missing_info)\n"
   ]
  },
  {
   "cell_type": "markdown",
   "id": "8f486330",
   "metadata": {
    "papermill": {
     "duration": 0.003802,
     "end_time": "2025-07-29T01:18:26.729003",
     "exception": false,
     "start_time": "2025-07-29T01:18:26.725201",
     "status": "completed"
    },
    "tags": []
   },
   "source": [
    "## Data Preparation"
   ]
  },
  {
   "cell_type": "markdown",
   "id": "9b7a3fa0",
   "metadata": {
    "papermill": {
     "duration": 0.003719,
     "end_time": "2025-07-29T01:18:26.736549",
     "exception": false,
     "start_time": "2025-07-29T01:18:26.732830",
     "status": "completed"
    },
    "tags": []
   },
   "source": [
    "### Data Conversion"
   ]
  },
  {
   "cell_type": "code",
   "execution_count": 7,
   "id": "f5b766a6",
   "metadata": {
    "execution": {
     "iopub.execute_input": "2025-07-29T01:18:26.745228Z",
     "iopub.status.busy": "2025-07-29T01:18:26.744990Z",
     "iopub.status.idle": "2025-07-29T01:18:27.109131Z",
     "shell.execute_reply": "2025-07-29T01:18:27.108530Z"
    },
    "papermill": {
     "duration": 0.369692,
     "end_time": "2025-07-29T01:18:27.110138",
     "exception": false,
     "start_time": "2025-07-29T01:18:26.740446",
     "status": "completed"
    },
    "tags": []
   },
   "outputs": [
    {
     "data": {
      "text/html": [
       "<div>\n",
       "<style scoped>\n",
       "    .dataframe tbody tr th:only-of-type {\n",
       "        vertical-align: middle;\n",
       "    }\n",
       "\n",
       "    .dataframe tbody tr th {\n",
       "        vertical-align: top;\n",
       "    }\n",
       "\n",
       "    .dataframe thead th {\n",
       "        text-align: right;\n",
       "    }\n",
       "</style>\n",
       "<table border=\"1\" class=\"dataframe\">\n",
       "  <thead>\n",
       "    <tr style=\"text-align: right;\">\n",
       "      <th></th>\n",
       "      <th>RecordID</th>\n",
       "      <th>Offense</th>\n",
       "      <th>IncidentID</th>\n",
       "      <th>BlockNumber</th>\n",
       "      <th>StreetName</th>\n",
       "      <th>Agency</th>\n",
       "      <th>HourReported</th>\n",
       "      <th>ReportingOfficer</th>\n",
       "      <th>Date</th>\n",
       "      <th>DateString</th>\n",
       "      <th>DayOfWeek</th>\n",
       "      <th>Weekend</th>\n",
       "      <th>Season</th>\n",
       "      <th>HourAMPM</th>\n",
       "      <th>TimeOfDay</th>\n",
       "    </tr>\n",
       "  </thead>\n",
       "  <tbody>\n",
       "    <tr>\n",
       "      <th>0</th>\n",
       "      <td>1</td>\n",
       "      <td>Vandalism</td>\n",
       "      <td>202500026441</td>\n",
       "      <td>2400</td>\n",
       "      <td>ARLINGTON BLVD, 4</td>\n",
       "      <td>CPD</td>\n",
       "      <td>0054</td>\n",
       "      <td>Wells, Matthew</td>\n",
       "      <td>2025-07-27 00:54:24</td>\n",
       "      <td>2025-07-27 12:54:24 AM</td>\n",
       "      <td>Sunday</td>\n",
       "      <td>True</td>\n",
       "      <td>Summer</td>\n",
       "      <td>12:54 AM</td>\n",
       "      <td>Night</td>\n",
       "    </tr>\n",
       "    <tr>\n",
       "      <th>1</th>\n",
       "      <td>2</td>\n",
       "      <td>Drug/Narcotics Violation</td>\n",
       "      <td>202500026423</td>\n",
       "      <td>400</td>\n",
       "      <td>RIDGE MCINTIRE RD</td>\n",
       "      <td>CPD</td>\n",
       "      <td>2245</td>\n",
       "      <td>Benbow, Lauren</td>\n",
       "      <td>2025-07-26 22:45:05</td>\n",
       "      <td>2025-07-26 10:45:05 PM</td>\n",
       "      <td>Saturday</td>\n",
       "      <td>True</td>\n",
       "      <td>Summer</td>\n",
       "      <td>10:45 PM</td>\n",
       "      <td>Night</td>\n",
       "    </tr>\n",
       "    <tr>\n",
       "      <th>2</th>\n",
       "      <td>3</td>\n",
       "      <td>Assault Aggravated</td>\n",
       "      <td>202500026406</td>\n",
       "      <td>1000</td>\n",
       "      <td>5TH ST SW</td>\n",
       "      <td>CPD</td>\n",
       "      <td>2113</td>\n",
       "      <td>Essex, Dominique</td>\n",
       "      <td>2025-07-26 21:13:55</td>\n",
       "      <td>2025-07-26 09:13:55 PM</td>\n",
       "      <td>Saturday</td>\n",
       "      <td>True</td>\n",
       "      <td>Summer</td>\n",
       "      <td>09:13 PM</td>\n",
       "      <td>Night</td>\n",
       "    </tr>\n",
       "    <tr>\n",
       "      <th>3</th>\n",
       "      <td>4</td>\n",
       "      <td>Assist Citizen - Mental/TDO/ECO</td>\n",
       "      <td>202500026366</td>\n",
       "      <td>300</td>\n",
       "      <td>CARLTON RD, 108</td>\n",
       "      <td>CPD</td>\n",
       "      <td>1436</td>\n",
       "      <td>Schwartz, Honora</td>\n",
       "      <td>2025-07-26 14:36:39</td>\n",
       "      <td>2025-07-26 02:36:39 PM</td>\n",
       "      <td>Saturday</td>\n",
       "      <td>True</td>\n",
       "      <td>Summer</td>\n",
       "      <td>02:36 PM</td>\n",
       "      <td>Afternoon</td>\n",
       "    </tr>\n",
       "    <tr>\n",
       "      <th>4</th>\n",
       "      <td>5</td>\n",
       "      <td>Drunkeness DIP</td>\n",
       "      <td>202500026363</td>\n",
       "      <td>500</td>\n",
       "      <td>HANOVER ST</td>\n",
       "      <td>CPD</td>\n",
       "      <td>1425</td>\n",
       "      <td>Kinney, Dylan</td>\n",
       "      <td>2025-07-26 14:25:19</td>\n",
       "      <td>2025-07-26 02:25:19 PM</td>\n",
       "      <td>Saturday</td>\n",
       "      <td>True</td>\n",
       "      <td>Summer</td>\n",
       "      <td>02:25 PM</td>\n",
       "      <td>Afternoon</td>\n",
       "    </tr>\n",
       "  </tbody>\n",
       "</table>\n",
       "</div>"
      ],
      "text/plain": [
       "   RecordID                          Offense    IncidentID BlockNumber  \\\n",
       "0         1                        Vandalism  202500026441        2400   \n",
       "1         2         Drug/Narcotics Violation  202500026423         400   \n",
       "2         3               Assault Aggravated  202500026406        1000   \n",
       "3         4  Assist Citizen - Mental/TDO/ECO  202500026366         300   \n",
       "4         5                   Drunkeness DIP  202500026363         500   \n",
       "\n",
       "          StreetName Agency HourReported  ReportingOfficer  \\\n",
       "0  ARLINGTON BLVD, 4    CPD         0054    Wells, Matthew   \n",
       "1  RIDGE MCINTIRE RD    CPD         2245    Benbow, Lauren   \n",
       "2          5TH ST SW    CPD         2113  Essex, Dominique   \n",
       "3    CARLTON RD, 108    CPD         1436  Schwartz, Honora   \n",
       "4         HANOVER ST    CPD         1425     Kinney, Dylan   \n",
       "\n",
       "                 Date              DateString DayOfWeek  Weekend  Season  \\\n",
       "0 2025-07-27 00:54:24  2025-07-27 12:54:24 AM    Sunday     True  Summer   \n",
       "1 2025-07-26 22:45:05  2025-07-26 10:45:05 PM  Saturday     True  Summer   \n",
       "2 2025-07-26 21:13:55  2025-07-26 09:13:55 PM  Saturday     True  Summer   \n",
       "3 2025-07-26 14:36:39  2025-07-26 02:36:39 PM  Saturday     True  Summer   \n",
       "4 2025-07-26 14:25:19  2025-07-26 02:25:19 PM  Saturday     True  Summer   \n",
       "\n",
       "   HourAMPM  TimeOfDay  \n",
       "0  12:54 AM      Night  \n",
       "1  10:45 PM      Night  \n",
       "2  09:13 PM      Night  \n",
       "3  02:36 PM  Afternoon  \n",
       "4  02:25 PM  Afternoon  "
      ]
     },
     "execution_count": 7,
     "metadata": {},
     "output_type": "execute_result"
    }
   ],
   "source": [
    "def convert_and_categorize_datereported(df, col='DateReported'):\n",
    "    \"\"\"\n",
    "    Converts an epoch (in milliseconds) date column into a timezone-aware datetime,\n",
    "    converts it to Eastern Time, and then creates columns for day-of-week, weekend flag,\n",
    "    season, 12-hour formatted time, and time-of-day. Keeps both a real datetime column\n",
    "    (Date) and a string representation (DateString).\n",
    "    \"\"\"\n",
    "    import pandas as pd\n",
    "\n",
    "    # Convert the epoch timestamp to a pandas datetime object as UTC, then convert to US/Eastern.\n",
    "    df[\"DateReported_dt\"] = (\n",
    "        pd.to_datetime(df[col], unit=\"ms\", errors=\"coerce\", utc=True)\n",
    "        .dt.tz_convert(\"US/Eastern\")\n",
    "    )\n",
    "    \n",
    "    # Create a true datetime column (remove timezone if you prefer naive datetime)\n",
    "    df[\"Date\"] = df[\"DateReported_dt\"].dt.tz_localize(None)\n",
    "\n",
    "    # Optionally, create a separate string-formatted column\n",
    "    df[\"DateString\"] = df[\"DateReported_dt\"].dt.strftime(\"%Y-%m-%d %I:%M:%S %p\")\n",
    "    \n",
    "    # DayOfWeek\n",
    "    df[\"DayOfWeek\"] = df[\"DateReported_dt\"].dt.day_name()\n",
    "    \n",
    "    # Weekend\n",
    "    df[\"Weekend\"] = df[\"DayOfWeek\"].isin([\"Saturday\", \"Sunday\"])\n",
    "    \n",
    "    # Helper function to determine the season\n",
    "    def get_season(dt):\n",
    "        month = dt.month\n",
    "        day = dt.day\n",
    "        # Approximate Northern Hemisphere season boundaries:\n",
    "        if (month == 12 and day >= 21) or (month < 3) or (month == 3 and day < 20):\n",
    "            return \"Winter\"\n",
    "        elif (month == 3 and day >= 20) or (month < 6) or (month == 6 and day < 21):\n",
    "            return \"Spring\"\n",
    "        elif (month == 6 and day >= 21) or (month < 9) or (month == 9 and day < 22):\n",
    "            return \"Summer\"\n",
    "        else:\n",
    "            return \"Autumn\"\n",
    "    \n",
    "    df[\"Season\"] = df[\"DateReported_dt\"].apply(get_season)\n",
    "    \n",
    "    # 12-hour formatted time (HourAMPM)\n",
    "    df[\"HourAMPM\"] = df[\"DateReported_dt\"].dt.strftime(\"%I:%M %p\")\n",
    "    \n",
    "    # Extract hour (0-23) for time-of-day\n",
    "    df[\"HourValue\"] = df[\"DateReported_dt\"].dt.hour\n",
    "    \n",
    "    def time_of_day(hour):\n",
    "        if pd.isnull(hour):\n",
    "            return None\n",
    "        if 5 <= hour < 12:\n",
    "            return \"Morning\"\n",
    "        elif 12 <= hour < 17:\n",
    "            return \"Afternoon\"\n",
    "        elif 17 <= hour < 21:\n",
    "            return \"Evening\"\n",
    "        else:\n",
    "            return \"Night\"\n",
    "    \n",
    "    df[\"TimeOfDay\"] = df[\"HourValue\"].apply(time_of_day)\n",
    "    \n",
    "    # Drop columns you no longer need\n",
    "    df.drop(columns=[col, \"DateReported_dt\", \"HourValue\"], inplace=True)\n",
    "    \n",
    "    return df\n",
    "\n",
    "# Example usage:\n",
    "df = convert_and_categorize_datereported(df)\n",
    "df.head()\n"
   ]
  },
  {
   "cell_type": "code",
   "execution_count": 8,
   "id": "56266ec1",
   "metadata": {
    "execution": {
     "iopub.execute_input": "2025-07-29T01:18:27.119547Z",
     "iopub.status.busy": "2025-07-29T01:18:27.119326Z",
     "iopub.status.idle": "2025-07-29T01:18:27.149269Z",
     "shell.execute_reply": "2025-07-29T01:18:27.148685Z"
    },
    "papermill": {
     "duration": 0.035635,
     "end_time": "2025-07-29T01:18:27.150271",
     "exception": false,
     "start_time": "2025-07-29T01:18:27.114636",
     "status": "completed"
    },
    "tags": []
   },
   "outputs": [
    {
     "name": "stdout",
     "output_type": "stream",
     "text": [
      "<class 'pandas.core.frame.DataFrame'>\n",
      "RangeIndex: 25593 entries, 0 to 25592\n",
      "Data columns (total 15 columns):\n",
      " #   Column            Non-Null Count  Dtype         \n",
      "---  ------            --------------  -----         \n",
      " 0   RecordID          25593 non-null  int64         \n",
      " 1   Offense           25593 non-null  object        \n",
      " 2   IncidentID        25593 non-null  object        \n",
      " 3   BlockNumber       25593 non-null  object        \n",
      " 4   StreetName        25593 non-null  object        \n",
      " 5   Agency            25593 non-null  object        \n",
      " 6   HourReported      25593 non-null  object        \n",
      " 7   ReportingOfficer  25576 non-null  object        \n",
      " 8   Date              25593 non-null  datetime64[ns]\n",
      " 9   DateString        25593 non-null  object        \n",
      " 10  DayOfWeek         25593 non-null  object        \n",
      " 11  Weekend           25593 non-null  bool          \n",
      " 12  Season            25593 non-null  object        \n",
      " 13  HourAMPM          25593 non-null  object        \n",
      " 14  TimeOfDay         25593 non-null  object        \n",
      "dtypes: bool(1), datetime64[ns](1), int64(1), object(12)\n",
      "memory usage: 2.8+ MB\n"
     ]
    }
   ],
   "source": [
    "df.info()"
   ]
  },
  {
   "cell_type": "markdown",
   "id": "cd683919",
   "metadata": {
    "papermill": {
     "duration": 0.004066,
     "end_time": "2025-07-29T01:18:27.158893",
     "exception": false,
     "start_time": "2025-07-29T01:18:27.154827",
     "status": "completed"
    },
    "tags": []
   },
   "source": [
    "### Coordinates"
   ]
  },
  {
   "cell_type": "code",
   "execution_count": 9,
   "id": "b92bbe4f",
   "metadata": {
    "execution": {
     "iopub.execute_input": "2025-07-29T01:18:27.167999Z",
     "iopub.status.busy": "2025-07-29T01:18:27.167774Z",
     "iopub.status.idle": "2025-07-29T01:18:27.291432Z",
     "shell.execute_reply": "2025-07-29T01:18:27.290818Z"
    },
    "papermill": {
     "duration": 0.129404,
     "end_time": "2025-07-29T01:18:27.292425",
     "exception": false,
     "start_time": "2025-07-29T01:18:27.163021",
     "status": "completed"
    },
    "tags": []
   },
   "outputs": [
    {
     "name": "stdout",
     "output_type": "stream",
     "text": [
      "Loaded geocode cache.\n",
      "Error geocoding 500 HANOVER ST: REQUEST_DENIED (You must enable Billing on the Google Cloud Project at https://console.cloud.google.com/project/_/billing/enable Learn more at https://developers.google.com/maps/gmp-get-started)\n",
      "Geocoded 500 HANOVER ST: None, None\n",
      "Geocode cache updated and saved.\n"
     ]
    },
    {
     "data": {
      "text/html": [
       "<div>\n",
       "<style scoped>\n",
       "    .dataframe tbody tr th:only-of-type {\n",
       "        vertical-align: middle;\n",
       "    }\n",
       "\n",
       "    .dataframe tbody tr th {\n",
       "        vertical-align: top;\n",
       "    }\n",
       "\n",
       "    .dataframe thead th {\n",
       "        text-align: right;\n",
       "    }\n",
       "</style>\n",
       "<table border=\"1\" class=\"dataframe\">\n",
       "  <thead>\n",
       "    <tr style=\"text-align: right;\">\n",
       "      <th></th>\n",
       "      <th>RecordID</th>\n",
       "      <th>Offense</th>\n",
       "      <th>IncidentID</th>\n",
       "      <th>BlockNumber</th>\n",
       "      <th>StreetName</th>\n",
       "      <th>Agency</th>\n",
       "      <th>HourReported</th>\n",
       "      <th>ReportingOfficer</th>\n",
       "      <th>Date</th>\n",
       "      <th>DateString</th>\n",
       "      <th>DayOfWeek</th>\n",
       "      <th>Weekend</th>\n",
       "      <th>Season</th>\n",
       "      <th>HourAMPM</th>\n",
       "      <th>TimeOfDay</th>\n",
       "      <th>FullStreet</th>\n",
       "      <th>lat</th>\n",
       "      <th>lon</th>\n",
       "    </tr>\n",
       "  </thead>\n",
       "  <tbody>\n",
       "    <tr>\n",
       "      <th>0</th>\n",
       "      <td>1</td>\n",
       "      <td>Vandalism</td>\n",
       "      <td>202500026441</td>\n",
       "      <td>2400</td>\n",
       "      <td>ARLINGTON BLVD, 4</td>\n",
       "      <td>CPD</td>\n",
       "      <td>0054</td>\n",
       "      <td>Wells, Matthew</td>\n",
       "      <td>2025-07-27 00:54:24</td>\n",
       "      <td>2025-07-27 12:54:24 AM</td>\n",
       "      <td>Sunday</td>\n",
       "      <td>True</td>\n",
       "      <td>Summer</td>\n",
       "      <td>12:54 AM</td>\n",
       "      <td>Night</td>\n",
       "      <td>2400 ARLINGTON BLVD, 4</td>\n",
       "      <td>38.049770</td>\n",
       "      <td>-78.507235</td>\n",
       "    </tr>\n",
       "    <tr>\n",
       "      <th>1</th>\n",
       "      <td>2</td>\n",
       "      <td>Drug/Narcotics Violation</td>\n",
       "      <td>202500026423</td>\n",
       "      <td>400</td>\n",
       "      <td>RIDGE MCINTIRE RD</td>\n",
       "      <td>CPD</td>\n",
       "      <td>2245</td>\n",
       "      <td>Benbow, Lauren</td>\n",
       "      <td>2025-07-26 22:45:05</td>\n",
       "      <td>2025-07-26 10:45:05 PM</td>\n",
       "      <td>Saturday</td>\n",
       "      <td>True</td>\n",
       "      <td>Summer</td>\n",
       "      <td>10:45 PM</td>\n",
       "      <td>Night</td>\n",
       "      <td>400 RIDGE MCINTIRE RD</td>\n",
       "      <td>38.032597</td>\n",
       "      <td>-78.484605</td>\n",
       "    </tr>\n",
       "    <tr>\n",
       "      <th>2</th>\n",
       "      <td>3</td>\n",
       "      <td>Assault Aggravated</td>\n",
       "      <td>202500026406</td>\n",
       "      <td>1000</td>\n",
       "      <td>5TH ST SW</td>\n",
       "      <td>CPD</td>\n",
       "      <td>2113</td>\n",
       "      <td>Essex, Dominique</td>\n",
       "      <td>2025-07-26 21:13:55</td>\n",
       "      <td>2025-07-26 09:13:55 PM</td>\n",
       "      <td>Saturday</td>\n",
       "      <td>True</td>\n",
       "      <td>Summer</td>\n",
       "      <td>09:13 PM</td>\n",
       "      <td>Night</td>\n",
       "      <td>1000 5TH ST SW</td>\n",
       "      <td>38.020564</td>\n",
       "      <td>-78.494547</td>\n",
       "    </tr>\n",
       "    <tr>\n",
       "      <th>3</th>\n",
       "      <td>4</td>\n",
       "      <td>Assist Citizen - Mental/TDO/ECO</td>\n",
       "      <td>202500026366</td>\n",
       "      <td>300</td>\n",
       "      <td>CARLTON RD, 108</td>\n",
       "      <td>CPD</td>\n",
       "      <td>1436</td>\n",
       "      <td>Schwartz, Honora</td>\n",
       "      <td>2025-07-26 14:36:39</td>\n",
       "      <td>2025-07-26 02:36:39 PM</td>\n",
       "      <td>Saturday</td>\n",
       "      <td>True</td>\n",
       "      <td>Summer</td>\n",
       "      <td>02:36 PM</td>\n",
       "      <td>Afternoon</td>\n",
       "      <td>300 CARLTON RD, 108</td>\n",
       "      <td>38.022411</td>\n",
       "      <td>-78.469889</td>\n",
       "    </tr>\n",
       "    <tr>\n",
       "      <th>4</th>\n",
       "      <td>5</td>\n",
       "      <td>Drunkeness DIP</td>\n",
       "      <td>202500026363</td>\n",
       "      <td>500</td>\n",
       "      <td>HANOVER ST</td>\n",
       "      <td>CPD</td>\n",
       "      <td>1425</td>\n",
       "      <td>Kinney, Dylan</td>\n",
       "      <td>2025-07-26 14:25:19</td>\n",
       "      <td>2025-07-26 02:25:19 PM</td>\n",
       "      <td>Saturday</td>\n",
       "      <td>True</td>\n",
       "      <td>Summer</td>\n",
       "      <td>02:25 PM</td>\n",
       "      <td>Afternoon</td>\n",
       "      <td>500 HANOVER ST</td>\n",
       "      <td>NaN</td>\n",
       "      <td>NaN</td>\n",
       "    </tr>\n",
       "  </tbody>\n",
       "</table>\n",
       "</div>"
      ],
      "text/plain": [
       "   RecordID                          Offense    IncidentID BlockNumber  \\\n",
       "0         1                        Vandalism  202500026441        2400   \n",
       "1         2         Drug/Narcotics Violation  202500026423         400   \n",
       "2         3               Assault Aggravated  202500026406        1000   \n",
       "3         4  Assist Citizen - Mental/TDO/ECO  202500026366         300   \n",
       "4         5                   Drunkeness DIP  202500026363         500   \n",
       "\n",
       "          StreetName Agency HourReported  ReportingOfficer  \\\n",
       "0  ARLINGTON BLVD, 4    CPD         0054    Wells, Matthew   \n",
       "1  RIDGE MCINTIRE RD    CPD         2245    Benbow, Lauren   \n",
       "2          5TH ST SW    CPD         2113  Essex, Dominique   \n",
       "3    CARLTON RD, 108    CPD         1436  Schwartz, Honora   \n",
       "4         HANOVER ST    CPD         1425     Kinney, Dylan   \n",
       "\n",
       "                 Date              DateString DayOfWeek  Weekend  Season  \\\n",
       "0 2025-07-27 00:54:24  2025-07-27 12:54:24 AM    Sunday     True  Summer   \n",
       "1 2025-07-26 22:45:05  2025-07-26 10:45:05 PM  Saturday     True  Summer   \n",
       "2 2025-07-26 21:13:55  2025-07-26 09:13:55 PM  Saturday     True  Summer   \n",
       "3 2025-07-26 14:36:39  2025-07-26 02:36:39 PM  Saturday     True  Summer   \n",
       "4 2025-07-26 14:25:19  2025-07-26 02:25:19 PM  Saturday     True  Summer   \n",
       "\n",
       "   HourAMPM  TimeOfDay              FullStreet        lat        lon  \n",
       "0  12:54 AM      Night  2400 ARLINGTON BLVD, 4  38.049770 -78.507235  \n",
       "1  10:45 PM      Night   400 RIDGE MCINTIRE RD  38.032597 -78.484605  \n",
       "2  09:13 PM      Night          1000 5TH ST SW  38.020564 -78.494547  \n",
       "3  02:36 PM  Afternoon     300 CARLTON RD, 108  38.022411 -78.469889  \n",
       "4  02:25 PM  Afternoon          500 HANOVER ST        NaN        NaN  "
      ]
     },
     "execution_count": 9,
     "metadata": {},
     "output_type": "execute_result"
    }
   ],
   "source": [
    "# Combine BlockNumber and StreetName into a full address string\n",
    "df['FullStreet'] = df['BlockNumber'].astype(str) + \" \" + df['StreetName']\n",
    "\n",
    "# --- Step 1: Setup the Google Maps Client and Cache ---\n",
    "gmaps = googlemaps.Client(key=GOOGLE_API_KEY)\n",
    "\n",
    "# Try to load cached geocoding results if available.\n",
    "try:\n",
    "    with open(\"geocode_cache_google.pkl\", \"rb\") as f:\n",
    "        street_coords = pickle.load(f)\n",
    "    print(\"Loaded geocode cache.\")\n",
    "except FileNotFoundError:\n",
    "    street_coords = {}\n",
    "    print(\"No cache found; starting fresh.\")\n",
    "\n",
    "def geocode_address(address):\n",
    "    try:\n",
    "        # Append city and state to help geocoding\n",
    "        result = gmaps.geocode(f\"{address}, Charlottesville, VA\")\n",
    "        if result:\n",
    "            lat = result[0]['geometry']['location']['lat']\n",
    "            lon = result[0]['geometry']['location']['lng']\n",
    "            return lat, lon\n",
    "    except Exception as e:\n",
    "        print(f\"Error geocoding {address}: {e}\")\n",
    "    return None, None\n",
    "\n",
    "# --- Step 2: Geocode Only New Addresses ---\n",
    "unique_addresses = df['FullStreet'].unique()\n",
    "for address in unique_addresses:\n",
    "    if address not in street_coords:\n",
    "        lat, lon = geocode_address(address)\n",
    "        street_coords[address] = (lat, lon)\n",
    "        print(f\"Geocoded {address}: {lat}, {lon}\")\n",
    "\n",
    "# Save the updated cache to disk.\n",
    "with open(\"geocode_cache_google.pkl\", \"wb\") as f:\n",
    "    pickle.dump(street_coords, f)\n",
    "    print(\"Geocode cache updated and saved.\")\n",
    "\n",
    "# --- Step 3: Map Coordinates Back to DataFrame ---\n",
    "df['lat'] = df['FullStreet'].map(lambda s: street_coords.get(s, (None, None))[0])\n",
    "df['lon'] = df['FullStreet'].map(lambda s: street_coords.get(s, (None, None))[1])\n",
    "\n",
    "df.head()"
   ]
  },
  {
   "cell_type": "markdown",
   "id": "5b708630",
   "metadata": {
    "papermill": {
     "duration": 0.004372,
     "end_time": "2025-07-29T01:18:27.301591",
     "exception": false,
     "start_time": "2025-07-29T01:18:27.297219",
     "status": "completed"
    },
    "tags": []
   },
   "source": [
    "### Neighborhood"
   ]
  },
  {
   "cell_type": "code",
   "execution_count": 10,
   "id": "2629bac1",
   "metadata": {
    "execution": {
     "iopub.execute_input": "2025-07-29T01:18:27.311301Z",
     "iopub.status.busy": "2025-07-29T01:18:27.311045Z",
     "iopub.status.idle": "2025-07-29T01:18:28.901016Z",
     "shell.execute_reply": "2025-07-29T01:18:28.900306Z"
    },
    "papermill": {
     "duration": 1.596184,
     "end_time": "2025-07-29T01:18:28.902141",
     "exception": false,
     "start_time": "2025-07-29T01:18:27.305957",
     "status": "completed"
    },
    "tags": []
   },
   "outputs": [
    {
     "name": "stdout",
     "output_type": "stream",
     "text": [
      "Loaded neighborhood cache.\n"
     ]
    },
    {
     "name": "stdout",
     "output_type": "stream",
     "text": [
      "Error getting neighborhood for nan, nan: HTTP Error: 400\n",
      "Error getting neighborhood for nan, nan: HTTP Error: 400\n",
      "Error getting neighborhood for nan, nan: HTTP Error: 400\n",
      "Error getting neighborhood for nan, nan: HTTP Error: 400\n"
     ]
    },
    {
     "name": "stdout",
     "output_type": "stream",
     "text": [
      "Error getting neighborhood for nan, nan: HTTP Error: 400\n",
      "Error getting neighborhood for nan, nan: HTTP Error: 400\n",
      "Error getting neighborhood for nan, nan: HTTP Error: 400\n",
      "Error getting neighborhood for nan, nan: HTTP Error: 400\n",
      "Error getting neighborhood for nan, nan: HTTP Error: 400\n"
     ]
    },
    {
     "name": "stdout",
     "output_type": "stream",
     "text": [
      "Error getting neighborhood for nan, nan: HTTP Error: 400\n",
      "Error getting neighborhood for nan, nan: HTTP Error: 400\n",
      "Error getting neighborhood for nan, nan: HTTP Error: 400\n",
      "Error getting neighborhood for nan, nan: HTTP Error: 400\n",
      "Error getting neighborhood for nan, nan: HTTP Error: 400\n",
      "Error getting neighborhood for nan, nan: HTTP Error: 400\n"
     ]
    },
    {
     "name": "stdout",
     "output_type": "stream",
     "text": [
      "Error getting neighborhood for nan, nan: HTTP Error: 400\n",
      "Error getting neighborhood for nan, nan: HTTP Error: 400\n",
      "Error getting neighborhood for nan, nan: HTTP Error: 400\n",
      "Error getting neighborhood for nan, nan: HTTP Error: 400\n",
      "Error getting neighborhood for nan, nan: HTTP Error: 400\n",
      "Error getting neighborhood for nan, nan: HTTP Error: 400\n"
     ]
    },
    {
     "name": "stdout",
     "output_type": "stream",
     "text": [
      "Error getting neighborhood for nan, nan: HTTP Error: 400\n",
      "Error getting neighborhood for nan, nan: HTTP Error: 400\n",
      "Error getting neighborhood for nan, nan: HTTP Error: 400\n",
      "Error getting neighborhood for nan, nan: HTTP Error: 400\n",
      "Error getting neighborhood for nan, nan: HTTP Error: 400\n",
      "Error getting neighborhood for nan, nan: HTTP Error: 400\n",
      "Error getting neighborhood for nan, nan: HTTP Error: 400\n"
     ]
    },
    {
     "name": "stdout",
     "output_type": "stream",
     "text": [
      "Error getting neighborhood for nan, nan: HTTP Error: 400\n",
      "Error getting neighborhood for nan, nan: HTTP Error: 400\n",
      "Error getting neighborhood for nan, nan: HTTP Error: 400\n",
      "Error getting neighborhood for nan, nan: HTTP Error: 400\n",
      "Error getting neighborhood for nan, nan: HTTP Error: 400\n",
      "Error getting neighborhood for nan, nan: HTTP Error: 400\n"
     ]
    },
    {
     "name": "stdout",
     "output_type": "stream",
     "text": [
      "Error getting neighborhood for nan, nan: HTTP Error: 400\n",
      "Error getting neighborhood for nan, nan: HTTP Error: 400\n",
      "Error getting neighborhood for nan, nan: HTTP Error: 400\n",
      "Error getting neighborhood for nan, nan: HTTP Error: 400\n",
      "Error getting neighborhood for nan, nan: HTTP Error: 400\n",
      "Error getting neighborhood for nan, nan: HTTP Error: 400\n"
     ]
    },
    {
     "name": "stdout",
     "output_type": "stream",
     "text": [
      "Error getting neighborhood for nan, nan: HTTP Error: 400\n",
      "Error getting neighborhood for nan, nan: HTTP Error: 400\n",
      "Error getting neighborhood for nan, nan: HTTP Error: 400\n",
      "Error getting neighborhood for nan, nan: HTTP Error: 400\n",
      "Error getting neighborhood for nan, nan: HTTP Error: 400\n",
      "Error getting neighborhood for nan, nan: HTTP Error: 400\n",
      "Error getting neighborhood for nan, nan: HTTP Error: 400\n"
     ]
    },
    {
     "name": "stdout",
     "output_type": "stream",
     "text": [
      "Error getting neighborhood for nan, nan: HTTP Error: 400\n",
      "Error getting neighborhood for nan, nan: HTTP Error: 400\n",
      "Error getting neighborhood for nan, nan: HTTP Error: 400\n",
      "Error getting neighborhood for nan, nan: HTTP Error: 400\n",
      "Error getting neighborhood for nan, nan: HTTP Error: 400\n",
      "Error getting neighborhood for nan, nan: HTTP Error: 400\n"
     ]
    },
    {
     "name": "stdout",
     "output_type": "stream",
     "text": [
      "Error getting neighborhood for nan, nan: HTTP Error: 400\n",
      "Error getting neighborhood for nan, nan: HTTP Error: 400\n",
      "Error getting neighborhood for nan, nan: HTTP Error: 400\n",
      "Error getting neighborhood for nan, nan: HTTP Error: 400\n",
      "Error getting neighborhood for nan, nan: HTTP Error: 400\n",
      "Error getting neighborhood for nan, nan: HTTP Error: 400\n",
      "Error getting neighborhood for nan, nan: HTTP Error: 400\n"
     ]
    },
    {
     "name": "stdout",
     "output_type": "stream",
     "text": [
      "Error getting neighborhood for nan, nan: HTTP Error: 400\n",
      "Error getting neighborhood for nan, nan: HTTP Error: 400\n",
      "Error getting neighborhood for nan, nan: HTTP Error: 400\n",
      "Error getting neighborhood for nan, nan: HTTP Error: 400\n",
      "Error getting neighborhood for nan, nan: HTTP Error: 400\n",
      "Error getting neighborhood for nan, nan: HTTP Error: 400\n"
     ]
    },
    {
     "name": "stdout",
     "output_type": "stream",
     "text": [
      "Error getting neighborhood for nan, nan: HTTP Error: 400\n",
      "Error getting neighborhood for nan, nan: HTTP Error: 400\n",
      "Error getting neighborhood for nan, nan: HTTP Error: 400\n",
      "Error getting neighborhood for nan, nan: HTTP Error: 400\n",
      "Error getting neighborhood for nan, nan: HTTP Error: 400\n",
      "Error getting neighborhood for nan, nan: HTTP Error: 400\n",
      "Error getting neighborhood for nan, nan: HTTP Error: 400\n"
     ]
    },
    {
     "name": "stdout",
     "output_type": "stream",
     "text": [
      "Error getting neighborhood for nan, nan: HTTP Error: 400\n",
      "Error getting neighborhood for nan, nan: HTTP Error: 400\n"
     ]
    },
    {
     "data": {
      "text/html": [
       "<div>\n",
       "<style scoped>\n",
       "    .dataframe tbody tr th:only-of-type {\n",
       "        vertical-align: middle;\n",
       "    }\n",
       "\n",
       "    .dataframe tbody tr th {\n",
       "        vertical-align: top;\n",
       "    }\n",
       "\n",
       "    .dataframe thead th {\n",
       "        text-align: right;\n",
       "    }\n",
       "</style>\n",
       "<table border=\"1\" class=\"dataframe\">\n",
       "  <thead>\n",
       "    <tr style=\"text-align: right;\">\n",
       "      <th></th>\n",
       "      <th>RecordID</th>\n",
       "      <th>Offense</th>\n",
       "      <th>IncidentID</th>\n",
       "      <th>BlockNumber</th>\n",
       "      <th>StreetName</th>\n",
       "      <th>Agency</th>\n",
       "      <th>HourReported</th>\n",
       "      <th>ReportingOfficer</th>\n",
       "      <th>Date</th>\n",
       "      <th>DateString</th>\n",
       "      <th>DayOfWeek</th>\n",
       "      <th>Weekend</th>\n",
       "      <th>Season</th>\n",
       "      <th>HourAMPM</th>\n",
       "      <th>TimeOfDay</th>\n",
       "      <th>FullStreet</th>\n",
       "      <th>lat</th>\n",
       "      <th>lon</th>\n",
       "      <th>neighborhood</th>\n",
       "    </tr>\n",
       "  </thead>\n",
       "  <tbody>\n",
       "    <tr>\n",
       "      <th>0</th>\n",
       "      <td>1</td>\n",
       "      <td>Vandalism</td>\n",
       "      <td>202500026441</td>\n",
       "      <td>2400</td>\n",
       "      <td>ARLINGTON BLVD, 4</td>\n",
       "      <td>CPD</td>\n",
       "      <td>0054</td>\n",
       "      <td>Wells, Matthew</td>\n",
       "      <td>2025-07-27 00:54:24</td>\n",
       "      <td>2025-07-27 12:54:24 AM</td>\n",
       "      <td>Sunday</td>\n",
       "      <td>True</td>\n",
       "      <td>Summer</td>\n",
       "      <td>12:54 AM</td>\n",
       "      <td>Night</td>\n",
       "      <td>2400 ARLINGTON BLVD, 4</td>\n",
       "      <td>38.049770</td>\n",
       "      <td>-78.507235</td>\n",
       "      <td>Barracks Road</td>\n",
       "    </tr>\n",
       "    <tr>\n",
       "      <th>1</th>\n",
       "      <td>2</td>\n",
       "      <td>Drug/Narcotics Violation</td>\n",
       "      <td>202500026423</td>\n",
       "      <td>400</td>\n",
       "      <td>RIDGE MCINTIRE RD</td>\n",
       "      <td>CPD</td>\n",
       "      <td>2245</td>\n",
       "      <td>Benbow, Lauren</td>\n",
       "      <td>2025-07-26 22:45:05</td>\n",
       "      <td>2025-07-26 10:45:05 PM</td>\n",
       "      <td>Saturday</td>\n",
       "      <td>True</td>\n",
       "      <td>Summer</td>\n",
       "      <td>10:45 PM</td>\n",
       "      <td>Night</td>\n",
       "      <td>400 RIDGE MCINTIRE RD</td>\n",
       "      <td>38.032597</td>\n",
       "      <td>-78.484605</td>\n",
       "      <td>Starr Hill</td>\n",
       "    </tr>\n",
       "    <tr>\n",
       "      <th>2</th>\n",
       "      <td>3</td>\n",
       "      <td>Assault Aggravated</td>\n",
       "      <td>202500026406</td>\n",
       "      <td>1000</td>\n",
       "      <td>5TH ST SW</td>\n",
       "      <td>CPD</td>\n",
       "      <td>2113</td>\n",
       "      <td>Essex, Dominique</td>\n",
       "      <td>2025-07-26 21:13:55</td>\n",
       "      <td>2025-07-26 09:13:55 PM</td>\n",
       "      <td>Saturday</td>\n",
       "      <td>True</td>\n",
       "      <td>Summer</td>\n",
       "      <td>09:13 PM</td>\n",
       "      <td>Night</td>\n",
       "      <td>1000 5TH ST SW</td>\n",
       "      <td>38.020564</td>\n",
       "      <td>-78.494547</td>\n",
       "      <td>Fifeville</td>\n",
       "    </tr>\n",
       "    <tr>\n",
       "      <th>3</th>\n",
       "      <td>4</td>\n",
       "      <td>Assist Citizen - Mental/TDO/ECO</td>\n",
       "      <td>202500026366</td>\n",
       "      <td>300</td>\n",
       "      <td>CARLTON RD, 108</td>\n",
       "      <td>CPD</td>\n",
       "      <td>1436</td>\n",
       "      <td>Schwartz, Honora</td>\n",
       "      <td>2025-07-26 14:36:39</td>\n",
       "      <td>2025-07-26 02:36:39 PM</td>\n",
       "      <td>Saturday</td>\n",
       "      <td>True</td>\n",
       "      <td>Summer</td>\n",
       "      <td>02:36 PM</td>\n",
       "      <td>Afternoon</td>\n",
       "      <td>300 CARLTON RD, 108</td>\n",
       "      <td>38.022411</td>\n",
       "      <td>-78.469889</td>\n",
       "      <td>Belmont</td>\n",
       "    </tr>\n",
       "    <tr>\n",
       "      <th>4</th>\n",
       "      <td>5</td>\n",
       "      <td>Drunkeness DIP</td>\n",
       "      <td>202500026363</td>\n",
       "      <td>500</td>\n",
       "      <td>HANOVER ST</td>\n",
       "      <td>CPD</td>\n",
       "      <td>1425</td>\n",
       "      <td>Kinney, Dylan</td>\n",
       "      <td>2025-07-26 14:25:19</td>\n",
       "      <td>2025-07-26 02:25:19 PM</td>\n",
       "      <td>Saturday</td>\n",
       "      <td>True</td>\n",
       "      <td>Summer</td>\n",
       "      <td>02:25 PM</td>\n",
       "      <td>Afternoon</td>\n",
       "      <td>500 HANOVER ST</td>\n",
       "      <td>NaN</td>\n",
       "      <td>NaN</td>\n",
       "      <td>N/A</td>\n",
       "    </tr>\n",
       "  </tbody>\n",
       "</table>\n",
       "</div>"
      ],
      "text/plain": [
       "   RecordID                          Offense    IncidentID BlockNumber  \\\n",
       "0         1                        Vandalism  202500026441        2400   \n",
       "1         2         Drug/Narcotics Violation  202500026423         400   \n",
       "2         3               Assault Aggravated  202500026406        1000   \n",
       "3         4  Assist Citizen - Mental/TDO/ECO  202500026366         300   \n",
       "4         5                   Drunkeness DIP  202500026363         500   \n",
       "\n",
       "          StreetName Agency HourReported  ReportingOfficer  \\\n",
       "0  ARLINGTON BLVD, 4    CPD         0054    Wells, Matthew   \n",
       "1  RIDGE MCINTIRE RD    CPD         2245    Benbow, Lauren   \n",
       "2          5TH ST SW    CPD         2113  Essex, Dominique   \n",
       "3    CARLTON RD, 108    CPD         1436  Schwartz, Honora   \n",
       "4         HANOVER ST    CPD         1425     Kinney, Dylan   \n",
       "\n",
       "                 Date              DateString DayOfWeek  Weekend  Season  \\\n",
       "0 2025-07-27 00:54:24  2025-07-27 12:54:24 AM    Sunday     True  Summer   \n",
       "1 2025-07-26 22:45:05  2025-07-26 10:45:05 PM  Saturday     True  Summer   \n",
       "2 2025-07-26 21:13:55  2025-07-26 09:13:55 PM  Saturday     True  Summer   \n",
       "3 2025-07-26 14:36:39  2025-07-26 02:36:39 PM  Saturday     True  Summer   \n",
       "4 2025-07-26 14:25:19  2025-07-26 02:25:19 PM  Saturday     True  Summer   \n",
       "\n",
       "   HourAMPM  TimeOfDay              FullStreet        lat        lon  \\\n",
       "0  12:54 AM      Night  2400 ARLINGTON BLVD, 4  38.049770 -78.507235   \n",
       "1  10:45 PM      Night   400 RIDGE MCINTIRE RD  38.032597 -78.484605   \n",
       "2  09:13 PM      Night          1000 5TH ST SW  38.020564 -78.494547   \n",
       "3  02:36 PM  Afternoon     300 CARLTON RD, 108  38.022411 -78.469889   \n",
       "4  02:25 PM  Afternoon          500 HANOVER ST        NaN        NaN   \n",
       "\n",
       "    neighborhood  \n",
       "0  Barracks Road  \n",
       "1     Starr Hill  \n",
       "2      Fifeville  \n",
       "3        Belmont  \n",
       "4            N/A  "
      ]
     },
     "execution_count": 10,
     "metadata": {},
     "output_type": "execute_result"
    }
   ],
   "source": [
    "# Initialize the Google Maps client.\n",
    "gmaps = googlemaps.Client(key=GOOGLE_API_KEY)\n",
    "\n",
    "# Try to load a persistent neighborhood cache if available.\n",
    "try:\n",
    "    with open(\"neighborhood_cache.pkl\", \"rb\") as f:\n",
    "        neighborhood_cache = pickle.load(f)\n",
    "    print(\"Loaded neighborhood cache.\")\n",
    "except FileNotFoundError:\n",
    "    neighborhood_cache = {}\n",
    "    print(\"No neighborhood cache found; starting fresh.\")\n",
    "\n",
    "def get_neighborhood(lat, lon):\n",
    "    \"\"\"\n",
    "    Reverse geocodes a latitude and longitude to retrieve the neighborhood.\n",
    "    Caches results to speed up subsequent lookups.\n",
    "    \"\"\"\n",
    "    key = (lat, lon)\n",
    "    if key in neighborhood_cache:\n",
    "        return neighborhood_cache[key]\n",
    "    \n",
    "    try:\n",
    "        result = gmaps.reverse_geocode((lat, lon))\n",
    "        if result:\n",
    "            # Look for the 'neighborhood' component in the first result.\n",
    "            for component in result[0]['address_components']:\n",
    "                if 'neighborhood' in component['types']:\n",
    "                    neighborhood = component['long_name']\n",
    "                    neighborhood_cache[key] = neighborhood\n",
    "                    return neighborhood\n",
    "            # If no neighborhood is found, return \"N/A\"\n",
    "            neighborhood_cache[key] = \"N/A\"\n",
    "            return \"N/A\"\n",
    "    except Exception as e:\n",
    "        print(f\"Error getting neighborhood for {lat}, {lon}: {e}\")\n",
    "        return \"N/A\"\n",
    "    \n",
    "    # Pause to respect usage limits.\n",
    "    time.sleep(1)\n",
    "\n",
    "# Example usage: Apply to your DataFrame 'df' that already has 'lat' and 'lon' columns.\n",
    "df['neighborhood'] = df.apply(lambda row: get_neighborhood(row['lat'], row['lon']), axis=1)\n",
    "\n",
    "# Save the updated neighborhood cache.\n",
    "with open(\"neighborhood_cache.pkl\", \"wb\") as f:\n",
    "    pickle.dump(neighborhood_cache, f)\n",
    "\n",
    "df.head()\n"
   ]
  },
  {
   "cell_type": "markdown",
   "id": "0529f6d0",
   "metadata": {
    "papermill": {
     "duration": 0.005225,
     "end_time": "2025-07-29T01:18:28.913238",
     "exception": false,
     "start_time": "2025-07-29T01:18:28.908013",
     "status": "completed"
    },
    "tags": []
   },
   "source": [
    "### Zip"
   ]
  },
  {
   "cell_type": "code",
   "execution_count": 11,
   "id": "cd56243e",
   "metadata": {
    "execution": {
     "iopub.execute_input": "2025-07-29T01:18:28.924739Z",
     "iopub.status.busy": "2025-07-29T01:18:28.924518Z",
     "iopub.status.idle": "2025-07-29T01:19:44.349088Z",
     "shell.execute_reply": "2025-07-29T01:19:44.348502Z"
    },
    "papermill": {
     "duration": 75.431407,
     "end_time": "2025-07-29T01:19:44.350102",
     "exception": false,
     "start_time": "2025-07-29T01:18:28.918695",
     "status": "completed"
    },
    "tags": []
   },
   "outputs": [
    {
     "name": "stdout",
     "output_type": "stream",
     "text": [
      "Loaded zip cache.\n",
      "Error getting ZIP for nan, nan: Must be a coordinate pair or Point\n"
     ]
    },
    {
     "name": "stdout",
     "output_type": "stream",
     "text": [
      "Error getting ZIP for nan, nan: Must be a coordinate pair or Point\n"
     ]
    },
    {
     "name": "stdout",
     "output_type": "stream",
     "text": [
      "Error getting ZIP for nan, nan: Must be a coordinate pair or Point\n"
     ]
    },
    {
     "name": "stdout",
     "output_type": "stream",
     "text": [
      "Error getting ZIP for nan, nan: Must be a coordinate pair or Point\n"
     ]
    },
    {
     "name": "stdout",
     "output_type": "stream",
     "text": [
      "Error getting ZIP for nan, nan: Must be a coordinate pair or Point\n"
     ]
    },
    {
     "name": "stdout",
     "output_type": "stream",
     "text": [
      "Error getting ZIP for nan, nan: Must be a coordinate pair or Point\n"
     ]
    },
    {
     "name": "stdout",
     "output_type": "stream",
     "text": [
      "Error getting ZIP for nan, nan: Must be a coordinate pair or Point\n"
     ]
    },
    {
     "name": "stdout",
     "output_type": "stream",
     "text": [
      "Error getting ZIP for nan, nan: Must be a coordinate pair or Point\n"
     ]
    },
    {
     "name": "stdout",
     "output_type": "stream",
     "text": [
      "Error getting ZIP for nan, nan: Must be a coordinate pair or Point\n"
     ]
    },
    {
     "name": "stdout",
     "output_type": "stream",
     "text": [
      "Error getting ZIP for nan, nan: Must be a coordinate pair or Point\n"
     ]
    },
    {
     "name": "stdout",
     "output_type": "stream",
     "text": [
      "Error getting ZIP for nan, nan: Must be a coordinate pair or Point\n"
     ]
    },
    {
     "name": "stdout",
     "output_type": "stream",
     "text": [
      "Error getting ZIP for nan, nan: Must be a coordinate pair or Point\n"
     ]
    },
    {
     "name": "stdout",
     "output_type": "stream",
     "text": [
      "Error getting ZIP for nan, nan: Must be a coordinate pair or Point\n"
     ]
    },
    {
     "name": "stdout",
     "output_type": "stream",
     "text": [
      "Error getting ZIP for nan, nan: Must be a coordinate pair or Point\n"
     ]
    },
    {
     "name": "stdout",
     "output_type": "stream",
     "text": [
      "Error getting ZIP for nan, nan: Must be a coordinate pair or Point\n"
     ]
    },
    {
     "name": "stdout",
     "output_type": "stream",
     "text": [
      "Error getting ZIP for nan, nan: Must be a coordinate pair or Point\n"
     ]
    },
    {
     "name": "stdout",
     "output_type": "stream",
     "text": [
      "Error getting ZIP for nan, nan: Must be a coordinate pair or Point\n"
     ]
    },
    {
     "name": "stdout",
     "output_type": "stream",
     "text": [
      "Error getting ZIP for nan, nan: Must be a coordinate pair or Point\n"
     ]
    },
    {
     "name": "stdout",
     "output_type": "stream",
     "text": [
      "Error getting ZIP for nan, nan: Must be a coordinate pair or Point\n"
     ]
    },
    {
     "name": "stdout",
     "output_type": "stream",
     "text": [
      "Error getting ZIP for nan, nan: Must be a coordinate pair or Point\n"
     ]
    },
    {
     "name": "stdout",
     "output_type": "stream",
     "text": [
      "Error getting ZIP for nan, nan: Must be a coordinate pair or Point\n"
     ]
    },
    {
     "name": "stdout",
     "output_type": "stream",
     "text": [
      "Error getting ZIP for nan, nan: Must be a coordinate pair or Point\n"
     ]
    },
    {
     "name": "stdout",
     "output_type": "stream",
     "text": [
      "Error getting ZIP for nan, nan: Must be a coordinate pair or Point\n"
     ]
    },
    {
     "name": "stdout",
     "output_type": "stream",
     "text": [
      "Error getting ZIP for nan, nan: Must be a coordinate pair or Point\n"
     ]
    },
    {
     "name": "stdout",
     "output_type": "stream",
     "text": [
      "Error getting ZIP for nan, nan: Must be a coordinate pair or Point\n"
     ]
    },
    {
     "name": "stdout",
     "output_type": "stream",
     "text": [
      "Error getting ZIP for nan, nan: Must be a coordinate pair or Point\n"
     ]
    },
    {
     "name": "stdout",
     "output_type": "stream",
     "text": [
      "Error getting ZIP for nan, nan: Must be a coordinate pair or Point\n"
     ]
    },
    {
     "name": "stdout",
     "output_type": "stream",
     "text": [
      "Error getting ZIP for nan, nan: Must be a coordinate pair or Point\n"
     ]
    },
    {
     "name": "stdout",
     "output_type": "stream",
     "text": [
      "Error getting ZIP for nan, nan: Must be a coordinate pair or Point\n"
     ]
    },
    {
     "name": "stdout",
     "output_type": "stream",
     "text": [
      "Error getting ZIP for nan, nan: Must be a coordinate pair or Point\n"
     ]
    },
    {
     "name": "stdout",
     "output_type": "stream",
     "text": [
      "Error getting ZIP for nan, nan: Must be a coordinate pair or Point\n"
     ]
    },
    {
     "name": "stdout",
     "output_type": "stream",
     "text": [
      "Error getting ZIP for nan, nan: Must be a coordinate pair or Point\n"
     ]
    },
    {
     "name": "stdout",
     "output_type": "stream",
     "text": [
      "Error getting ZIP for nan, nan: Must be a coordinate pair or Point\n"
     ]
    },
    {
     "name": "stdout",
     "output_type": "stream",
     "text": [
      "Error getting ZIP for nan, nan: Must be a coordinate pair or Point\n"
     ]
    },
    {
     "name": "stdout",
     "output_type": "stream",
     "text": [
      "Error getting ZIP for nan, nan: Must be a coordinate pair or Point\n"
     ]
    },
    {
     "name": "stdout",
     "output_type": "stream",
     "text": [
      "Error getting ZIP for nan, nan: Must be a coordinate pair or Point\n"
     ]
    },
    {
     "name": "stdout",
     "output_type": "stream",
     "text": [
      "Error getting ZIP for nan, nan: Must be a coordinate pair or Point\n"
     ]
    },
    {
     "name": "stdout",
     "output_type": "stream",
     "text": [
      "Error getting ZIP for nan, nan: Must be a coordinate pair or Point\n"
     ]
    },
    {
     "name": "stdout",
     "output_type": "stream",
     "text": [
      "Error getting ZIP for nan, nan: Must be a coordinate pair or Point\n"
     ]
    },
    {
     "name": "stdout",
     "output_type": "stream",
     "text": [
      "Error getting ZIP for nan, nan: Must be a coordinate pair or Point\n"
     ]
    },
    {
     "name": "stdout",
     "output_type": "stream",
     "text": [
      "Error getting ZIP for nan, nan: Must be a coordinate pair or Point\n"
     ]
    },
    {
     "name": "stdout",
     "output_type": "stream",
     "text": [
      "Error getting ZIP for nan, nan: Must be a coordinate pair or Point\n"
     ]
    },
    {
     "name": "stdout",
     "output_type": "stream",
     "text": [
      "Error getting ZIP for nan, nan: Must be a coordinate pair or Point\n"
     ]
    },
    {
     "name": "stdout",
     "output_type": "stream",
     "text": [
      "Error getting ZIP for nan, nan: Must be a coordinate pair or Point\n"
     ]
    },
    {
     "name": "stdout",
     "output_type": "stream",
     "text": [
      "Error getting ZIP for nan, nan: Must be a coordinate pair or Point\n"
     ]
    },
    {
     "name": "stdout",
     "output_type": "stream",
     "text": [
      "Error getting ZIP for nan, nan: Must be a coordinate pair or Point\n"
     ]
    },
    {
     "name": "stdout",
     "output_type": "stream",
     "text": [
      "Error getting ZIP for nan, nan: Must be a coordinate pair or Point\n"
     ]
    },
    {
     "name": "stdout",
     "output_type": "stream",
     "text": [
      "Error getting ZIP for nan, nan: Must be a coordinate pair or Point\n"
     ]
    },
    {
     "name": "stdout",
     "output_type": "stream",
     "text": [
      "Error getting ZIP for nan, nan: Must be a coordinate pair or Point\n"
     ]
    },
    {
     "name": "stdout",
     "output_type": "stream",
     "text": [
      "Error getting ZIP for nan, nan: Must be a coordinate pair or Point\n"
     ]
    },
    {
     "name": "stdout",
     "output_type": "stream",
     "text": [
      "Error getting ZIP for nan, nan: Must be a coordinate pair or Point\n"
     ]
    },
    {
     "name": "stdout",
     "output_type": "stream",
     "text": [
      "Error getting ZIP for nan, nan: Must be a coordinate pair or Point\n"
     ]
    },
    {
     "name": "stdout",
     "output_type": "stream",
     "text": [
      "Error getting ZIP for nan, nan: Must be a coordinate pair or Point\n"
     ]
    },
    {
     "name": "stdout",
     "output_type": "stream",
     "text": [
      "Error getting ZIP for nan, nan: Must be a coordinate pair or Point\n"
     ]
    },
    {
     "name": "stdout",
     "output_type": "stream",
     "text": [
      "Error getting ZIP for nan, nan: Must be a coordinate pair or Point\n"
     ]
    },
    {
     "name": "stdout",
     "output_type": "stream",
     "text": [
      "Error getting ZIP for nan, nan: Must be a coordinate pair or Point\n"
     ]
    },
    {
     "name": "stdout",
     "output_type": "stream",
     "text": [
      "Error getting ZIP for nan, nan: Must be a coordinate pair or Point\n"
     ]
    },
    {
     "name": "stdout",
     "output_type": "stream",
     "text": [
      "Error getting ZIP for nan, nan: Must be a coordinate pair or Point\n"
     ]
    },
    {
     "name": "stdout",
     "output_type": "stream",
     "text": [
      "Error getting ZIP for nan, nan: Must be a coordinate pair or Point\n"
     ]
    },
    {
     "name": "stdout",
     "output_type": "stream",
     "text": [
      "Error getting ZIP for nan, nan: Must be a coordinate pair or Point\n"
     ]
    },
    {
     "name": "stdout",
     "output_type": "stream",
     "text": [
      "Error getting ZIP for nan, nan: Must be a coordinate pair or Point\n"
     ]
    },
    {
     "name": "stdout",
     "output_type": "stream",
     "text": [
      "Error getting ZIP for nan, nan: Must be a coordinate pair or Point\n"
     ]
    },
    {
     "name": "stdout",
     "output_type": "stream",
     "text": [
      "Error getting ZIP for nan, nan: Must be a coordinate pair or Point\n"
     ]
    },
    {
     "name": "stdout",
     "output_type": "stream",
     "text": [
      "Error getting ZIP for nan, nan: Must be a coordinate pair or Point\n"
     ]
    },
    {
     "name": "stdout",
     "output_type": "stream",
     "text": [
      "Error getting ZIP for nan, nan: Must be a coordinate pair or Point\n"
     ]
    },
    {
     "name": "stdout",
     "output_type": "stream",
     "text": [
      "Error getting ZIP for nan, nan: Must be a coordinate pair or Point\n"
     ]
    },
    {
     "name": "stdout",
     "output_type": "stream",
     "text": [
      "Error getting ZIP for nan, nan: Must be a coordinate pair or Point\n"
     ]
    },
    {
     "name": "stdout",
     "output_type": "stream",
     "text": [
      "Error getting ZIP for nan, nan: Must be a coordinate pair or Point\n"
     ]
    },
    {
     "name": "stdout",
     "output_type": "stream",
     "text": [
      "Error getting ZIP for nan, nan: Must be a coordinate pair or Point\n"
     ]
    },
    {
     "name": "stdout",
     "output_type": "stream",
     "text": [
      "Error getting ZIP for nan, nan: Must be a coordinate pair or Point\n"
     ]
    },
    {
     "name": "stdout",
     "output_type": "stream",
     "text": [
      "Error getting ZIP for nan, nan: Must be a coordinate pair or Point\n"
     ]
    },
    {
     "name": "stdout",
     "output_type": "stream",
     "text": [
      "Error getting ZIP for nan, nan: Must be a coordinate pair or Point\n"
     ]
    },
    {
     "name": "stdout",
     "output_type": "stream",
     "text": [
      "Error getting ZIP for nan, nan: Must be a coordinate pair or Point\n"
     ]
    },
    {
     "name": "stdout",
     "output_type": "stream",
     "text": [
      "Error getting ZIP for nan, nan: Must be a coordinate pair or Point\n"
     ]
    },
    {
     "name": "stdout",
     "output_type": "stream",
     "text": [
      "Error getting ZIP for nan, nan: Must be a coordinate pair or Point\n"
     ]
    },
    {
     "data": {
      "text/html": [
       "<div>\n",
       "<style scoped>\n",
       "    .dataframe tbody tr th:only-of-type {\n",
       "        vertical-align: middle;\n",
       "    }\n",
       "\n",
       "    .dataframe tbody tr th {\n",
       "        vertical-align: top;\n",
       "    }\n",
       "\n",
       "    .dataframe thead th {\n",
       "        text-align: right;\n",
       "    }\n",
       "</style>\n",
       "<table border=\"1\" class=\"dataframe\">\n",
       "  <thead>\n",
       "    <tr style=\"text-align: right;\">\n",
       "      <th></th>\n",
       "      <th>RecordID</th>\n",
       "      <th>Offense</th>\n",
       "      <th>IncidentID</th>\n",
       "      <th>BlockNumber</th>\n",
       "      <th>StreetName</th>\n",
       "      <th>Agency</th>\n",
       "      <th>HourReported</th>\n",
       "      <th>ReportingOfficer</th>\n",
       "      <th>Date</th>\n",
       "      <th>DateString</th>\n",
       "      <th>DayOfWeek</th>\n",
       "      <th>Weekend</th>\n",
       "      <th>Season</th>\n",
       "      <th>HourAMPM</th>\n",
       "      <th>TimeOfDay</th>\n",
       "      <th>FullStreet</th>\n",
       "      <th>lat</th>\n",
       "      <th>lon</th>\n",
       "      <th>neighborhood</th>\n",
       "      <th>zip</th>\n",
       "    </tr>\n",
       "  </thead>\n",
       "  <tbody>\n",
       "    <tr>\n",
       "      <th>0</th>\n",
       "      <td>1</td>\n",
       "      <td>Vandalism</td>\n",
       "      <td>202500026441</td>\n",
       "      <td>2400</td>\n",
       "      <td>ARLINGTON BLVD, 4</td>\n",
       "      <td>CPD</td>\n",
       "      <td>0054</td>\n",
       "      <td>Wells, Matthew</td>\n",
       "      <td>2025-07-27 00:54:24</td>\n",
       "      <td>2025-07-27 12:54:24 AM</td>\n",
       "      <td>Sunday</td>\n",
       "      <td>True</td>\n",
       "      <td>Summer</td>\n",
       "      <td>12:54 AM</td>\n",
       "      <td>Night</td>\n",
       "      <td>2400 ARLINGTON BLVD, 4</td>\n",
       "      <td>38.049770</td>\n",
       "      <td>-78.507235</td>\n",
       "      <td>Barracks Road</td>\n",
       "      <td>22905</td>\n",
       "    </tr>\n",
       "    <tr>\n",
       "      <th>1</th>\n",
       "      <td>2</td>\n",
       "      <td>Drug/Narcotics Violation</td>\n",
       "      <td>202500026423</td>\n",
       "      <td>400</td>\n",
       "      <td>RIDGE MCINTIRE RD</td>\n",
       "      <td>CPD</td>\n",
       "      <td>2245</td>\n",
       "      <td>Benbow, Lauren</td>\n",
       "      <td>2025-07-26 22:45:05</td>\n",
       "      <td>2025-07-26 10:45:05 PM</td>\n",
       "      <td>Saturday</td>\n",
       "      <td>True</td>\n",
       "      <td>Summer</td>\n",
       "      <td>10:45 PM</td>\n",
       "      <td>Night</td>\n",
       "      <td>400 RIDGE MCINTIRE RD</td>\n",
       "      <td>38.032597</td>\n",
       "      <td>-78.484605</td>\n",
       "      <td>Starr Hill</td>\n",
       "      <td>22908</td>\n",
       "    </tr>\n",
       "    <tr>\n",
       "      <th>2</th>\n",
       "      <td>3</td>\n",
       "      <td>Assault Aggravated</td>\n",
       "      <td>202500026406</td>\n",
       "      <td>1000</td>\n",
       "      <td>5TH ST SW</td>\n",
       "      <td>CPD</td>\n",
       "      <td>2113</td>\n",
       "      <td>Essex, Dominique</td>\n",
       "      <td>2025-07-26 21:13:55</td>\n",
       "      <td>2025-07-26 09:13:55 PM</td>\n",
       "      <td>Saturday</td>\n",
       "      <td>True</td>\n",
       "      <td>Summer</td>\n",
       "      <td>09:13 PM</td>\n",
       "      <td>Night</td>\n",
       "      <td>1000 5TH ST SW</td>\n",
       "      <td>38.020564</td>\n",
       "      <td>-78.494547</td>\n",
       "      <td>Fifeville</td>\n",
       "      <td>22903</td>\n",
       "    </tr>\n",
       "    <tr>\n",
       "      <th>3</th>\n",
       "      <td>4</td>\n",
       "      <td>Assist Citizen - Mental/TDO/ECO</td>\n",
       "      <td>202500026366</td>\n",
       "      <td>300</td>\n",
       "      <td>CARLTON RD, 108</td>\n",
       "      <td>CPD</td>\n",
       "      <td>1436</td>\n",
       "      <td>Schwartz, Honora</td>\n",
       "      <td>2025-07-26 14:36:39</td>\n",
       "      <td>2025-07-26 02:36:39 PM</td>\n",
       "      <td>Saturday</td>\n",
       "      <td>True</td>\n",
       "      <td>Summer</td>\n",
       "      <td>02:36 PM</td>\n",
       "      <td>Afternoon</td>\n",
       "      <td>300 CARLTON RD, 108</td>\n",
       "      <td>38.022411</td>\n",
       "      <td>-78.469889</td>\n",
       "      <td>Belmont</td>\n",
       "      <td>22902</td>\n",
       "    </tr>\n",
       "    <tr>\n",
       "      <th>4</th>\n",
       "      <td>5</td>\n",
       "      <td>Drunkeness DIP</td>\n",
       "      <td>202500026363</td>\n",
       "      <td>500</td>\n",
       "      <td>HANOVER ST</td>\n",
       "      <td>CPD</td>\n",
       "      <td>1425</td>\n",
       "      <td>Kinney, Dylan</td>\n",
       "      <td>2025-07-26 14:25:19</td>\n",
       "      <td>2025-07-26 02:25:19 PM</td>\n",
       "      <td>Saturday</td>\n",
       "      <td>True</td>\n",
       "      <td>Summer</td>\n",
       "      <td>02:25 PM</td>\n",
       "      <td>Afternoon</td>\n",
       "      <td>500 HANOVER ST</td>\n",
       "      <td>NaN</td>\n",
       "      <td>NaN</td>\n",
       "      <td>N/A</td>\n",
       "      <td>N/A</td>\n",
       "    </tr>\n",
       "  </tbody>\n",
       "</table>\n",
       "</div>"
      ],
      "text/plain": [
       "   RecordID                          Offense    IncidentID BlockNumber  \\\n",
       "0         1                        Vandalism  202500026441        2400   \n",
       "1         2         Drug/Narcotics Violation  202500026423         400   \n",
       "2         3               Assault Aggravated  202500026406        1000   \n",
       "3         4  Assist Citizen - Mental/TDO/ECO  202500026366         300   \n",
       "4         5                   Drunkeness DIP  202500026363         500   \n",
       "\n",
       "          StreetName Agency HourReported  ReportingOfficer  \\\n",
       "0  ARLINGTON BLVD, 4    CPD         0054    Wells, Matthew   \n",
       "1  RIDGE MCINTIRE RD    CPD         2245    Benbow, Lauren   \n",
       "2          5TH ST SW    CPD         2113  Essex, Dominique   \n",
       "3    CARLTON RD, 108    CPD         1436  Schwartz, Honora   \n",
       "4         HANOVER ST    CPD         1425     Kinney, Dylan   \n",
       "\n",
       "                 Date              DateString DayOfWeek  Weekend  Season  \\\n",
       "0 2025-07-27 00:54:24  2025-07-27 12:54:24 AM    Sunday     True  Summer   \n",
       "1 2025-07-26 22:45:05  2025-07-26 10:45:05 PM  Saturday     True  Summer   \n",
       "2 2025-07-26 21:13:55  2025-07-26 09:13:55 PM  Saturday     True  Summer   \n",
       "3 2025-07-26 14:36:39  2025-07-26 02:36:39 PM  Saturday     True  Summer   \n",
       "4 2025-07-26 14:25:19  2025-07-26 02:25:19 PM  Saturday     True  Summer   \n",
       "\n",
       "   HourAMPM  TimeOfDay              FullStreet        lat        lon  \\\n",
       "0  12:54 AM      Night  2400 ARLINGTON BLVD, 4  38.049770 -78.507235   \n",
       "1  10:45 PM      Night   400 RIDGE MCINTIRE RD  38.032597 -78.484605   \n",
       "2  09:13 PM      Night          1000 5TH ST SW  38.020564 -78.494547   \n",
       "3  02:36 PM  Afternoon     300 CARLTON RD, 108  38.022411 -78.469889   \n",
       "4  02:25 PM  Afternoon          500 HANOVER ST        NaN        NaN   \n",
       "\n",
       "    neighborhood    zip  \n",
       "0  Barracks Road  22905  \n",
       "1     Starr Hill  22908  \n",
       "2      Fifeville  22903  \n",
       "3        Belmont  22902  \n",
       "4            N/A    N/A  "
      ]
     },
     "execution_count": 11,
     "metadata": {},
     "output_type": "execute_result"
    }
   ],
   "source": [
    "# Initialize the geocoder.\n",
    "geolocator = Nominatim(user_agent=\"zip_lookup\")\n",
    "\n",
    "# Try to load a persistent ZIP cache if available.\n",
    "try:\n",
    "    with open(\"zip_cache.pkl\", \"rb\") as f:\n",
    "        zip_cache = pickle.load(f)\n",
    "    print(\"Loaded zip cache.\")\n",
    "except FileNotFoundError:\n",
    "    zip_cache = {}\n",
    "    print(\"No zip cache found; starting fresh.\")\n",
    "\n",
    "def get_zip(lat, lon):\n",
    "    \"\"\"\n",
    "    Reverse geocodes a latitude and longitude to retrieve the ZIP code.\n",
    "    Caches results to speed up subsequent lookups.\n",
    "    \"\"\"\n",
    "    key = (lat, lon)\n",
    "    if key in zip_cache:\n",
    "        return zip_cache[key]\n",
    "    \n",
    "    try:\n",
    "        location = geolocator.reverse((lat, lon), exactly_one=True, timeout=10)\n",
    "        address = location.raw.get('address', {})\n",
    "        postal_code = address.get('postcode', \"N/A\")\n",
    "    except Exception as e:\n",
    "        print(f\"Error getting ZIP for {lat}, {lon}: {e}\")\n",
    "        postal_code = \"N/A\"\n",
    "    \n",
    "    zip_cache[key] = postal_code\n",
    "    # Pause to respect the usage policy.\n",
    "    time.sleep(1)\n",
    "    return postal_code\n",
    "\n",
    "# Apply the function to each row in the DataFrame.\n",
    "df['zip'] = df.apply(lambda row: get_zip(row['lat'], row['lon']), axis=1)\n",
    "\n",
    "# Save the updated ZIP cache.\n",
    "with open(\"zip_cache.pkl\", \"wb\") as f:\n",
    "    pickle.dump(zip_cache, f)\n",
    "\n",
    "df.head()\n"
   ]
  },
  {
   "cell_type": "code",
   "execution_count": 12,
   "id": "6965f0df",
   "metadata": {
    "execution": {
     "iopub.execute_input": "2025-07-29T01:19:44.368457Z",
     "iopub.status.busy": "2025-07-29T01:19:44.368187Z",
     "iopub.status.idle": "2025-07-29T01:19:44.396291Z",
     "shell.execute_reply": "2025-07-29T01:19:44.395746Z"
    },
    "papermill": {
     "duration": 0.038265,
     "end_time": "2025-07-29T01:19:44.397318",
     "exception": false,
     "start_time": "2025-07-29T01:19:44.359053",
     "status": "completed"
    },
    "tags": []
   },
   "outputs": [
    {
     "name": "stdout",
     "output_type": "stream",
     "text": [
      "                  MissingCount  MissingPercentage\n",
      "RecordID                     0               0.00\n",
      "Offense                      0               0.00\n",
      "IncidentID                   0               0.00\n",
      "BlockNumber                  0               0.00\n",
      "StreetName                   0               0.00\n",
      "Agency                       0               0.00\n",
      "HourReported                 0               0.00\n",
      "ReportingOfficer            17               0.07\n",
      "Date                         0               0.00\n",
      "DateString                   0               0.00\n",
      "DayOfWeek                    0               0.00\n",
      "Weekend                      0               0.00\n",
      "Season                       0               0.00\n",
      "HourAMPM                     0               0.00\n",
      "TimeOfDay                    0               0.00\n",
      "FullStreet                   0               0.00\n",
      "lat                         75               0.29\n",
      "lon                         75               0.29\n",
      "neighborhood                 0               0.00\n",
      "zip                          0               0.00\n"
     ]
    }
   ],
   "source": [
    "missing_info = missing_percentage(df)\n",
    "print(missing_info)\n"
   ]
  },
  {
   "cell_type": "code",
   "execution_count": 13,
   "id": "59aab4e9",
   "metadata": {
    "execution": {
     "iopub.execute_input": "2025-07-29T01:19:44.415579Z",
     "iopub.status.busy": "2025-07-29T01:19:44.415389Z",
     "iopub.status.idle": "2025-07-29T01:19:44.444150Z",
     "shell.execute_reply": "2025-07-29T01:19:44.443586Z"
    },
    "papermill": {
     "duration": 0.038868,
     "end_time": "2025-07-29T01:19:44.445118",
     "exception": false,
     "start_time": "2025-07-29T01:19:44.406250",
     "status": "completed"
    },
    "tags": []
   },
   "outputs": [
    {
     "name": "stdout",
     "output_type": "stream",
     "text": [
      "<class 'pandas.core.frame.DataFrame'>\n",
      "RangeIndex: 25593 entries, 0 to 25592\n",
      "Data columns (total 20 columns):\n",
      " #   Column            Non-Null Count  Dtype         \n",
      "---  ------            --------------  -----         \n",
      " 0   RecordID          25593 non-null  int64         \n",
      " 1   Offense           25593 non-null  object        \n",
      " 2   IncidentID        25593 non-null  object        \n",
      " 3   BlockNumber       25593 non-null  object        \n",
      " 4   StreetName        25593 non-null  object        \n",
      " 5   Agency            25593 non-null  object        \n",
      " 6   HourReported      25593 non-null  object        \n",
      " 7   ReportingOfficer  25576 non-null  object        \n",
      " 8   Date              25593 non-null  datetime64[ns]\n",
      " 9   DateString        25593 non-null  object        \n",
      " 10  DayOfWeek         25593 non-null  object        \n",
      " 11  Weekend           25593 non-null  bool          \n",
      " 12  Season            25593 non-null  object        \n",
      " 13  HourAMPM          25593 non-null  object        \n",
      " 14  TimeOfDay         25593 non-null  object        \n",
      " 15  FullStreet        25593 non-null  object        \n",
      " 16  lat               25518 non-null  float64       \n",
      " 17  lon               25518 non-null  float64       \n",
      " 18  neighborhood      25593 non-null  object        \n",
      " 19  zip               25593 non-null  object        \n",
      "dtypes: bool(1), datetime64[ns](1), float64(2), int64(1), object(15)\n",
      "memory usage: 3.7+ MB\n"
     ]
    }
   ],
   "source": [
    "df.info()"
   ]
  },
  {
   "cell_type": "code",
   "execution_count": 14,
   "id": "bf83aa77",
   "metadata": {
    "execution": {
     "iopub.execute_input": "2025-07-29T01:19:44.463849Z",
     "iopub.status.busy": "2025-07-29T01:19:44.463597Z",
     "iopub.status.idle": "2025-07-29T01:19:44.508277Z",
     "shell.execute_reply": "2025-07-29T01:19:44.507690Z"
    },
    "papermill": {
     "duration": 0.055132,
     "end_time": "2025-07-29T01:19:44.509369",
     "exception": false,
     "start_time": "2025-07-29T01:19:44.454237",
     "status": "completed"
    },
    "tags": []
   },
   "outputs": [
    {
     "data": {
      "text/html": [
       "<div>\n",
       "<style scoped>\n",
       "    .dataframe tbody tr th:only-of-type {\n",
       "        vertical-align: middle;\n",
       "    }\n",
       "\n",
       "    .dataframe tbody tr th {\n",
       "        vertical-align: top;\n",
       "    }\n",
       "\n",
       "    .dataframe thead th {\n",
       "        text-align: right;\n",
       "    }\n",
       "</style>\n",
       "<table border=\"1\" class=\"dataframe\">\n",
       "  <thead>\n",
       "    <tr style=\"text-align: right;\">\n",
       "      <th></th>\n",
       "      <th>RecordID</th>\n",
       "      <th>Offense</th>\n",
       "      <th>IncidentID</th>\n",
       "      <th>Agency</th>\n",
       "      <th>ReportingOfficer</th>\n",
       "      <th>Date</th>\n",
       "      <th>DayOfWeek</th>\n",
       "      <th>Weekend</th>\n",
       "      <th>Season</th>\n",
       "      <th>TimeOfDay</th>\n",
       "      <th>FullStreet</th>\n",
       "      <th>lat</th>\n",
       "      <th>lon</th>\n",
       "      <th>neighborhood</th>\n",
       "      <th>zip</th>\n",
       "    </tr>\n",
       "  </thead>\n",
       "  <tbody>\n",
       "    <tr>\n",
       "      <th>0</th>\n",
       "      <td>1</td>\n",
       "      <td>Vandalism</td>\n",
       "      <td>202500026441</td>\n",
       "      <td>CPD</td>\n",
       "      <td>Wells, Matthew</td>\n",
       "      <td>2025-07-27 00:54:24</td>\n",
       "      <td>Sunday</td>\n",
       "      <td>True</td>\n",
       "      <td>Summer</td>\n",
       "      <td>Night</td>\n",
       "      <td>2400 ARLINGTON BLVD, 4</td>\n",
       "      <td>38.04977</td>\n",
       "      <td>-78.507235</td>\n",
       "      <td>Barracks Road</td>\n",
       "      <td>22905</td>\n",
       "    </tr>\n",
       "    <tr>\n",
       "      <th>1</th>\n",
       "      <td>2</td>\n",
       "      <td>Drug/Narcotics Violation</td>\n",
       "      <td>202500026423</td>\n",
       "      <td>CPD</td>\n",
       "      <td>Benbow, Lauren</td>\n",
       "      <td>2025-07-26 22:45:05</td>\n",
       "      <td>Saturday</td>\n",
       "      <td>True</td>\n",
       "      <td>Summer</td>\n",
       "      <td>Night</td>\n",
       "      <td>400 RIDGE MCINTIRE RD</td>\n",
       "      <td>38.032597</td>\n",
       "      <td>-78.484605</td>\n",
       "      <td>Starr Hill</td>\n",
       "      <td>22908</td>\n",
       "    </tr>\n",
       "    <tr>\n",
       "      <th>2</th>\n",
       "      <td>3</td>\n",
       "      <td>Assault Aggravated</td>\n",
       "      <td>202500026406</td>\n",
       "      <td>CPD</td>\n",
       "      <td>Essex, Dominique</td>\n",
       "      <td>2025-07-26 21:13:55</td>\n",
       "      <td>Saturday</td>\n",
       "      <td>True</td>\n",
       "      <td>Summer</td>\n",
       "      <td>Night</td>\n",
       "      <td>1000 5TH ST SW</td>\n",
       "      <td>38.020564</td>\n",
       "      <td>-78.494547</td>\n",
       "      <td>Fifeville</td>\n",
       "      <td>22903</td>\n",
       "    </tr>\n",
       "    <tr>\n",
       "      <th>3</th>\n",
       "      <td>4</td>\n",
       "      <td>Assist Citizen - Mental/TDO/ECO</td>\n",
       "      <td>202500026366</td>\n",
       "      <td>CPD</td>\n",
       "      <td>Schwartz, Honora</td>\n",
       "      <td>2025-07-26 14:36:39</td>\n",
       "      <td>Saturday</td>\n",
       "      <td>True</td>\n",
       "      <td>Summer</td>\n",
       "      <td>Afternoon</td>\n",
       "      <td>300 CARLTON RD, 108</td>\n",
       "      <td>38.022411</td>\n",
       "      <td>-78.469889</td>\n",
       "      <td>Belmont</td>\n",
       "      <td>22902</td>\n",
       "    </tr>\n",
       "    <tr>\n",
       "      <th>4</th>\n",
       "      <td>5</td>\n",
       "      <td>Drunkeness DIP</td>\n",
       "      <td>202500026363</td>\n",
       "      <td>CPD</td>\n",
       "      <td>Kinney, Dylan</td>\n",
       "      <td>2025-07-26 14:25:19</td>\n",
       "      <td>Saturday</td>\n",
       "      <td>True</td>\n",
       "      <td>Summer</td>\n",
       "      <td>Afternoon</td>\n",
       "      <td>500 HANOVER ST</td>\n",
       "      <td>N/A</td>\n",
       "      <td>N/A</td>\n",
       "      <td>N/A</td>\n",
       "      <td>N/A</td>\n",
       "    </tr>\n",
       "  </tbody>\n",
       "</table>\n",
       "</div>"
      ],
      "text/plain": [
       "   RecordID                          Offense    IncidentID Agency  \\\n",
       "0         1                        Vandalism  202500026441    CPD   \n",
       "1         2         Drug/Narcotics Violation  202500026423    CPD   \n",
       "2         3               Assault Aggravated  202500026406    CPD   \n",
       "3         4  Assist Citizen - Mental/TDO/ECO  202500026366    CPD   \n",
       "4         5                   Drunkeness DIP  202500026363    CPD   \n",
       "\n",
       "   ReportingOfficer                Date DayOfWeek  Weekend  Season  TimeOfDay  \\\n",
       "0    Wells, Matthew 2025-07-27 00:54:24    Sunday     True  Summer      Night   \n",
       "1    Benbow, Lauren 2025-07-26 22:45:05  Saturday     True  Summer      Night   \n",
       "2  Essex, Dominique 2025-07-26 21:13:55  Saturday     True  Summer      Night   \n",
       "3  Schwartz, Honora 2025-07-26 14:36:39  Saturday     True  Summer  Afternoon   \n",
       "4     Kinney, Dylan 2025-07-26 14:25:19  Saturday     True  Summer  Afternoon   \n",
       "\n",
       "               FullStreet        lat        lon   neighborhood    zip  \n",
       "0  2400 ARLINGTON BLVD, 4   38.04977 -78.507235  Barracks Road  22905  \n",
       "1   400 RIDGE MCINTIRE RD  38.032597 -78.484605     Starr Hill  22908  \n",
       "2          1000 5TH ST SW  38.020564 -78.494547      Fifeville  22903  \n",
       "3     300 CARLTON RD, 108  38.022411 -78.469889        Belmont  22902  \n",
       "4          500 HANOVER ST        N/A        N/A            N/A    N/A  "
      ]
     },
     "execution_count": 14,
     "metadata": {},
     "output_type": "execute_result"
    }
   ],
   "source": [
    "# Now drop the original BlockNumber and StreetName columns\n",
    "df.drop(columns=['BlockNumber', 'StreetName','HourAMPM','HourReported','DateString'], inplace=True)\n",
    "df[\"zip\"] = df[\"zip\"].astype(str)\n",
    "\n",
    "# Fill all missing values in the DataFrame with \"N/A\"\n",
    "df.replace({None: \"N/A\", np.nan: \"N/A\", \"\": \"N/A\"}, inplace=True)\n",
    "df.head()"
   ]
  },
  {
   "cell_type": "code",
   "execution_count": 15,
   "id": "7629f215",
   "metadata": {
    "execution": {
     "iopub.execute_input": "2025-07-29T01:19:44.528557Z",
     "iopub.status.busy": "2025-07-29T01:19:44.528325Z",
     "iopub.status.idle": "2025-07-29T01:19:44.548170Z",
     "shell.execute_reply": "2025-07-29T01:19:44.547608Z"
    },
    "papermill": {
     "duration": 0.030374,
     "end_time": "2025-07-29T01:19:44.549193",
     "exception": false,
     "start_time": "2025-07-29T01:19:44.518819",
     "status": "completed"
    },
    "tags": []
   },
   "outputs": [
    {
     "name": "stdout",
     "output_type": "stream",
     "text": [
      "                  MissingCount  MissingPercentage\n",
      "RecordID                     0                0.0\n",
      "Offense                      0                0.0\n",
      "IncidentID                   0                0.0\n",
      "Agency                       0                0.0\n",
      "ReportingOfficer             0                0.0\n",
      "Date                         0                0.0\n",
      "DayOfWeek                    0                0.0\n",
      "Weekend                      0                0.0\n",
      "Season                       0                0.0\n",
      "TimeOfDay                    0                0.0\n",
      "FullStreet                   0                0.0\n",
      "lat                          0                0.0\n",
      "lon                          0                0.0\n",
      "neighborhood                 0                0.0\n",
      "zip                          0                0.0\n"
     ]
    }
   ],
   "source": [
    "missing_info = missing_percentage(df)\n",
    "print(missing_info)"
   ]
  },
  {
   "cell_type": "code",
   "execution_count": 16,
   "id": "a4ec285b",
   "metadata": {
    "execution": {
     "iopub.execute_input": "2025-07-29T01:19:44.567959Z",
     "iopub.status.busy": "2025-07-29T01:19:44.567767Z",
     "iopub.status.idle": "2025-07-29T01:19:44.571848Z",
     "shell.execute_reply": "2025-07-29T01:19:44.571315Z"
    },
    "papermill": {
     "duration": 0.014476,
     "end_time": "2025-07-29T01:19:44.572805",
     "exception": false,
     "start_time": "2025-07-29T01:19:44.558329",
     "status": "completed"
    },
    "tags": []
   },
   "outputs": [
    {
     "data": {
      "text/plain": [
       "Index(['RecordID', 'Offense', 'IncidentID', 'Agency', 'ReportingOfficer',\n",
       "       'Date', 'DayOfWeek', 'Weekend', 'Season', 'TimeOfDay', 'FullStreet',\n",
       "       'lat', 'lon', 'neighborhood', 'zip'],\n",
       "      dtype='object')"
      ]
     },
     "execution_count": 16,
     "metadata": {},
     "output_type": "execute_result"
    }
   ],
   "source": [
    "df.columns"
   ]
  },
  {
   "cell_type": "code",
   "execution_count": 17,
   "id": "de6f6a30",
   "metadata": {
    "execution": {
     "iopub.execute_input": "2025-07-29T01:19:44.591567Z",
     "iopub.status.busy": "2025-07-29T01:19:44.591371Z",
     "iopub.status.idle": "2025-07-29T01:19:44.612645Z",
     "shell.execute_reply": "2025-07-29T01:19:44.612042Z"
    },
    "papermill": {
     "duration": 0.031718,
     "end_time": "2025-07-29T01:19:44.613631",
     "exception": false,
     "start_time": "2025-07-29T01:19:44.581913",
     "status": "completed"
    },
    "tags": []
   },
   "outputs": [
    {
     "name": "stdout",
     "output_type": "stream",
     "text": [
      "<class 'pandas.core.frame.DataFrame'>\n",
      "RangeIndex: 25593 entries, 0 to 25592\n",
      "Data columns (total 15 columns):\n",
      " #   Column            Non-Null Count  Dtype         \n",
      "---  ------            --------------  -----         \n",
      " 0   RecordID          25593 non-null  int64         \n",
      " 1   Offense           25593 non-null  object        \n",
      " 2   IncidentID        25593 non-null  object        \n",
      " 3   Agency            25593 non-null  object        \n",
      " 4   ReportingOfficer  25593 non-null  object        \n",
      " 5   Date              25593 non-null  datetime64[ns]\n",
      " 6   DayOfWeek         25593 non-null  object        \n",
      " 7   Weekend           25593 non-null  bool          \n",
      " 8   Season            25593 non-null  object        \n",
      " 9   TimeOfDay         25593 non-null  object        \n",
      " 10  FullStreet        25593 non-null  object        \n",
      " 11  lat               25593 non-null  object        \n",
      " 12  lon               25593 non-null  object        \n",
      " 13  neighborhood      25593 non-null  object        \n",
      " 14  zip               25593 non-null  object        \n",
      "dtypes: bool(1), datetime64[ns](1), int64(1), object(12)\n",
      "memory usage: 2.8+ MB\n"
     ]
    }
   ],
   "source": [
    "df.info()"
   ]
  },
  {
   "cell_type": "markdown",
   "id": "53253336",
   "metadata": {
    "papermill": {
     "duration": 0.009486,
     "end_time": "2025-07-29T01:19:44.632591",
     "exception": false,
     "start_time": "2025-07-29T01:19:44.623105",
     "status": "completed"
    },
    "tags": []
   },
   "source": [
    "### Export Clean Data"
   ]
  },
  {
   "cell_type": "code",
   "execution_count": 18,
   "id": "71b9eb51",
   "metadata": {
    "execution": {
     "iopub.execute_input": "2025-07-29T01:19:44.651644Z",
     "iopub.status.busy": "2025-07-29T01:19:44.651392Z",
     "iopub.status.idle": "2025-07-29T01:19:53.922586Z",
     "shell.execute_reply": "2025-07-29T01:19:53.921878Z"
    },
    "papermill": {
     "duration": 9.28195,
     "end_time": "2025-07-29T01:19:53.923693",
     "exception": false,
     "start_time": "2025-07-29T01:19:44.641743",
     "status": "completed"
    },
    "tags": []
   },
   "outputs": [
    {
     "name": "stdout",
     "output_type": "stream",
     "text": [
      "Project Root: /home/runner/work/crime-data/crime-data\n"
     ]
    },
    {
     "name": "stdout",
     "output_type": "stream",
     "text": [
      "Data saved to: /home/runner/work/crime-data/crime-data/data/charlottesville_crime_incidents.csv\n"
     ]
    },
    {
     "name": "stdout",
     "output_type": "stream",
     "text": [
      "Excel saved to: /home/runner/work/crime-data/crime-data/data/charlottesville_crime_incidents.xlsx\n"
     ]
    }
   ],
   "source": [
    "# Determine the project root (assuming papermill is run from the repository root)\n",
    "project_root = os.getcwd()\n",
    "print(\"Project Root:\", project_root)\n",
    "\n",
    "# Set the data directory within the project root\n",
    "data_dir = os.path.join(project_root, \"data\")\n",
    "\n",
    "# Ensure the \"data\" directory exists (create it if it doesn't)\n",
    "if not os.path.exists(data_dir):\n",
    "    os.makedirs(data_dir)\n",
    "\n",
    "# Export the DataFrame to CSV in the \"data\" folder located in the project root\n",
    "csv_path = os.path.join(data_dir, \"charlottesville_crime_incidents.csv\")\n",
    "df.to_csv(csv_path, index=False)\n",
    "print(\"Data saved to:\", csv_path)\n",
    "\n",
    "# Construct the path to your Excel file\n",
    "excel_path = os.path.join(data_dir, \"charlottesville_crime_incidents.xlsx\")\n",
    "\n",
    "# Export the DataFrame to Excel\n",
    "df.to_excel(excel_path, index=False)\n",
    "print(\"Excel saved to:\", excel_path)\n"
   ]
  }
 ],
 "metadata": {
  "kernelspec": {
   "display_name": "Python 3",
   "language": "python",
   "name": "python3"
  },
  "language_info": {
   "codemirror_mode": {
    "name": "ipython",
    "version": 3
   },
   "file_extension": ".py",
   "mimetype": "text/x-python",
   "name": "python",
   "nbconvert_exporter": "python",
   "pygments_lexer": "ipython3",
   "version": "3.9.23"
  },
  "papermill": {
   "default_parameters": {},
   "duration": 158.197127,
   "end_time": "2025-07-29T01:19:54.450519",
   "environment_variables": {},
   "exception": null,
   "input_path": "notebook/Crime Data.ipynb",
   "output_path": "notebook/Crime Data_output.ipynb",
   "parameters": {},
   "start_time": "2025-07-29T01:17:16.253392",
   "version": "2.6.0"
  }
 },
 "nbformat": 4,
 "nbformat_minor": 5
}