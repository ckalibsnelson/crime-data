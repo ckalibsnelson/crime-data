{
 "cells": [
  {
   "cell_type": "markdown",
   "id": "9133da86",
   "metadata": {
    "papermill": {
     "duration": 0.004239,
     "end_time": "2025-07-24T01:09:01.821390",
     "exception": false,
     "start_time": "2025-07-24T01:09:01.817151",
     "status": "completed"
    },
    "tags": []
   },
   "source": [
    "# Charlottesville Open Data Porttal: Crime Data"
   ]
  },
  {
   "cell_type": "markdown",
   "id": "b4d972ed",
   "metadata": {
    "papermill": {
     "duration": 0.004286,
     "end_time": "2025-07-24T01:09:01.829263",
     "exception": false,
     "start_time": "2025-07-24T01:09:01.824977",
     "status": "completed"
    },
    "tags": []
   },
   "source": [
    "## Import Relevant Librarires & Set WD"
   ]
  },
  {
   "cell_type": "code",
   "execution_count": 1,
   "id": "0a7978c5",
   "metadata": {
    "execution": {
     "iopub.execute_input": "2025-07-24T01:09:01.836561Z",
     "iopub.status.busy": "2025-07-24T01:09:01.836346Z",
     "iopub.status.idle": "2025-07-24T01:09:02.590024Z",
     "shell.execute_reply": "2025-07-24T01:09:02.589370Z"
    },
    "papermill": {
     "duration": 0.758969,
     "end_time": "2025-07-24T01:09:02.591461",
     "exception": false,
     "start_time": "2025-07-24T01:09:01.832492",
     "status": "completed"
    },
    "tags": []
   },
   "outputs": [],
   "source": [
    "import requests\n",
    "import pandas as pd\n",
    "import numpy as np\n",
    "import pickle\n",
    "import googlemaps\n",
    "import plotly.express as px\n",
    "from geopy.geocoders import Nominatim\n",
    "import time\n",
    "from dotenv import load_dotenv\n",
    "import os\n",
    "\n",
    "env_path = os.path.join(\"..\", \".env\")\n",
    "#print(\"Looking for .env file at:\", os.path.abspath(env_path))\n",
    "load_dotenv(dotenv_path=env_path)\n",
    "\n",
    "# Retrieve the variables\n",
    "GOOGLE_API_KEY = os.getenv(\"GOOGLE_API_KEY\")\n",
    "WORKING_DIR = os.getenv(\"WORKING_DIR\")\n",
    "\n",
    "if GOOGLE_API_KEY is None or WORKING_DIR is None:\n",
    "    raise RuntimeError(\"No configuration found. Please ensure that your .env file exists with the required variables, or create a local config.py file.\")\n",
    "\n",
    "#print(\"Google API Key:\", GOOGLE_API_KEY)\n",
    "#print(\"Working Directory:\", WORKING_DIR)"
   ]
  },
  {
   "cell_type": "markdown",
   "id": "ca3bd314",
   "metadata": {
    "papermill": {
     "duration": 0.00329,
     "end_time": "2025-07-24T01:09:02.598416",
     "exception": false,
     "start_time": "2025-07-24T01:09:02.595126",
     "status": "completed"
    },
    "tags": []
   },
   "source": [
    "## Import Data\n",
    "\n",
    "URL: https://opendata.charlottesville.org/datasets/charlottesville::crime-data/about"
   ]
  },
  {
   "cell_type": "code",
   "execution_count": 2,
   "id": "3f85c922",
   "metadata": {
    "execution": {
     "iopub.execute_input": "2025-07-24T01:09:02.605916Z",
     "iopub.status.busy": "2025-07-24T01:09:02.605597Z",
     "iopub.status.idle": "2025-07-24T01:10:14.088814Z",
     "shell.execute_reply": "2025-07-24T01:10:14.088023Z"
    },
    "papermill": {
     "duration": 71.491403,
     "end_time": "2025-07-24T01:10:14.093044",
     "exception": false,
     "start_time": "2025-07-24T01:09:02.601641",
     "status": "completed"
    },
    "tags": []
   },
   "outputs": [
    {
     "name": "stdout",
     "output_type": "stream",
     "text": [
      "Total records imported: 25566\n"
     ]
    }
   ],
   "source": [
    "# Define the endpoint and initial parameters.\n",
    "url = \"https://gisweb.charlottesville.org/arcgis/rest/services/OpenData_2/MapServer/6/query\"\n",
    "params = {\n",
    "    \"where\": \"1=1\",\n",
    "    \"outFields\": \"*\",\n",
    "    \"outSR\": 4326,\n",
    "    \"f\": \"json\",\n",
    "    \"resultOffset\": 0,       # Starting index for results\n",
    "    \"resultRecordCount\": 10000  # Maximum records per batch (if allowed by the API)\n",
    "}\n",
    "\n",
    "records = []\n",
    "\n",
    "while True:\n",
    "    response = requests.get(url, params=params)\n",
    "    response.raise_for_status()\n",
    "    data = response.json()\n",
    "    \n",
    "    # Get the current batch of features.\n",
    "    features = data.get(\"features\", [])\n",
    "    if not features:\n",
    "        break\n",
    "\n",
    "    # Extract the attributes from the features.\n",
    "    batch_records = [feature.get(\"attributes\", {}) for feature in features]\n",
    "    records.extend(batch_records)\n",
    "    \n",
    "    # If the batch size is less than the requested count, we reached the end.\n",
    "    if len(features) < params[\"resultRecordCount\"]:\n",
    "        break\n",
    "\n",
    "    # Update the resultOffset for the next batch.\n",
    "    params[\"resultOffset\"] += params[\"resultRecordCount\"]\n",
    "\n",
    "# Create a DataFrame from the combined records.\n",
    "df = pd.DataFrame(records)\n",
    "print(\"Total records imported:\", len(df))\n"
   ]
  },
  {
   "cell_type": "code",
   "execution_count": 3,
   "id": "032c818d",
   "metadata": {
    "execution": {
     "iopub.execute_input": "2025-07-24T01:10:14.100857Z",
     "iopub.status.busy": "2025-07-24T01:10:14.100632Z",
     "iopub.status.idle": "2025-07-24T01:10:14.112590Z",
     "shell.execute_reply": "2025-07-24T01:10:14.112034Z"
    },
    "papermill": {
     "duration": 0.017043,
     "end_time": "2025-07-24T01:10:14.113564",
     "exception": false,
     "start_time": "2025-07-24T01:10:14.096521",
     "status": "completed"
    },
    "tags": []
   },
   "outputs": [
    {
     "data": {
      "text/html": [
       "<div>\n",
       "<style scoped>\n",
       "    .dataframe tbody tr th:only-of-type {\n",
       "        vertical-align: middle;\n",
       "    }\n",
       "\n",
       "    .dataframe tbody tr th {\n",
       "        vertical-align: top;\n",
       "    }\n",
       "\n",
       "    .dataframe thead th {\n",
       "        text-align: right;\n",
       "    }\n",
       "</style>\n",
       "<table border=\"1\" class=\"dataframe\">\n",
       "  <thead>\n",
       "    <tr style=\"text-align: right;\">\n",
       "      <th></th>\n",
       "      <th>RecordID</th>\n",
       "      <th>Offense</th>\n",
       "      <th>IncidentID</th>\n",
       "      <th>BlockNumber</th>\n",
       "      <th>StreetName</th>\n",
       "      <th>Agency</th>\n",
       "      <th>DateReported</th>\n",
       "      <th>HourReported</th>\n",
       "      <th>ReportingOfficer</th>\n",
       "    </tr>\n",
       "  </thead>\n",
       "  <tbody>\n",
       "    <tr>\n",
       "      <th>0</th>\n",
       "      <td>1</td>\n",
       "      <td>Sex Offense - Forcible Rape</td>\n",
       "      <td>202500025672</td>\n",
       "      <td>200</td>\n",
       "      <td>RIDGE ST</td>\n",
       "      <td>CPD</td>\n",
       "      <td>1753147297000</td>\n",
       "      <td>2121</td>\n",
       "      <td>Benbow, Lauren</td>\n",
       "    </tr>\n",
       "    <tr>\n",
       "      <th>1</th>\n",
       "      <td>2</td>\n",
       "      <td>Extortion/Blackmail</td>\n",
       "      <td>202500025666</td>\n",
       "      <td>4000</td>\n",
       "      <td>CITY WALK WAY, 349</td>\n",
       "      <td>CPD</td>\n",
       "      <td>1753145070000</td>\n",
       "      <td>2044</td>\n",
       "      <td>Crowley, Raeann</td>\n",
       "    </tr>\n",
       "    <tr>\n",
       "      <th>2</th>\n",
       "      <td>3</td>\n",
       "      <td>Larceny - Shoplifitng</td>\n",
       "      <td>202500025655</td>\n",
       "      <td>1200</td>\n",
       "      <td>EMMET ST N, 120</td>\n",
       "      <td>CPD</td>\n",
       "      <td>1753138474000</td>\n",
       "      <td>1854</td>\n",
       "      <td>Buckley, Michael</td>\n",
       "    </tr>\n",
       "    <tr>\n",
       "      <th>3</th>\n",
       "      <td>4</td>\n",
       "      <td>Larceny - Shoplifitng</td>\n",
       "      <td>202500025644</td>\n",
       "      <td>500</td>\n",
       "      <td>W MAIN ST</td>\n",
       "      <td>CPD</td>\n",
       "      <td>1753133857000</td>\n",
       "      <td>1737</td>\n",
       "      <td>Benbow, Lauren</td>\n",
       "    </tr>\n",
       "    <tr>\n",
       "      <th>4</th>\n",
       "      <td>5</td>\n",
       "      <td>Animal - Bite</td>\n",
       "      <td>202500025605</td>\n",
       "      <td>500</td>\n",
       "      <td>RIDGE ST</td>\n",
       "      <td>CPD</td>\n",
       "      <td>1753121353000</td>\n",
       "      <td>1409</td>\n",
       "      <td>Carelsen, Louise</td>\n",
       "    </tr>\n",
       "  </tbody>\n",
       "</table>\n",
       "</div>"
      ],
      "text/plain": [
       "   RecordID                      Offense    IncidentID BlockNumber  \\\n",
       "0         1  Sex Offense - Forcible Rape  202500025672         200   \n",
       "1         2          Extortion/Blackmail  202500025666        4000   \n",
       "2         3        Larceny - Shoplifitng  202500025655        1200   \n",
       "3         4        Larceny - Shoplifitng  202500025644         500   \n",
       "4         5                Animal - Bite  202500025605         500   \n",
       "\n",
       "           StreetName Agency   DateReported HourReported  ReportingOfficer  \n",
       "0            RIDGE ST    CPD  1753147297000         2121    Benbow, Lauren  \n",
       "1  CITY WALK WAY, 349    CPD  1753145070000         2044   Crowley, Raeann  \n",
       "2     EMMET ST N, 120    CPD  1753138474000         1854  Buckley, Michael  \n",
       "3           W MAIN ST    CPD  1753133857000         1737    Benbow, Lauren  \n",
       "4            RIDGE ST    CPD  1753121353000         1409  Carelsen, Louise  "
      ]
     },
     "execution_count": 3,
     "metadata": {},
     "output_type": "execute_result"
    }
   ],
   "source": [
    "df.head()"
   ]
  },
  {
   "cell_type": "code",
   "execution_count": 4,
   "id": "7d8aebf4",
   "metadata": {
    "execution": {
     "iopub.execute_input": "2025-07-24T01:10:14.121406Z",
     "iopub.status.busy": "2025-07-24T01:10:14.121161Z",
     "iopub.status.idle": "2025-07-24T01:10:14.125367Z",
     "shell.execute_reply": "2025-07-24T01:10:14.124844Z"
    },
    "papermill": {
     "duration": 0.009219,
     "end_time": "2025-07-24T01:10:14.126328",
     "exception": false,
     "start_time": "2025-07-24T01:10:14.117109",
     "status": "completed"
    },
    "tags": []
   },
   "outputs": [
    {
     "data": {
      "text/plain": [
       "Index(['RecordID', 'Offense', 'IncidentID', 'BlockNumber', 'StreetName',\n",
       "       'Agency', 'DateReported', 'HourReported', 'ReportingOfficer'],\n",
       "      dtype='object')"
      ]
     },
     "execution_count": 4,
     "metadata": {},
     "output_type": "execute_result"
    }
   ],
   "source": [
    "df.columns"
   ]
  },
  {
   "cell_type": "code",
   "execution_count": 5,
   "id": "c90b7ad9",
   "metadata": {
    "execution": {
     "iopub.execute_input": "2025-07-24T01:10:14.134397Z",
     "iopub.status.busy": "2025-07-24T01:10:14.134121Z",
     "iopub.status.idle": "2025-07-24T01:10:14.152310Z",
     "shell.execute_reply": "2025-07-24T01:10:14.151647Z"
    },
    "papermill": {
     "duration": 0.023337,
     "end_time": "2025-07-24T01:10:14.153352",
     "exception": false,
     "start_time": "2025-07-24T01:10:14.130015",
     "status": "completed"
    },
    "tags": []
   },
   "outputs": [
    {
     "name": "stdout",
     "output_type": "stream",
     "text": [
      "<class 'pandas.core.frame.DataFrame'>\n",
      "RangeIndex: 25566 entries, 0 to 25565\n",
      "Data columns (total 9 columns):\n",
      " #   Column            Non-Null Count  Dtype \n",
      "---  ------            --------------  ----- \n",
      " 0   RecordID          25566 non-null  int64 \n",
      " 1   Offense           25566 non-null  object\n",
      " 2   IncidentID        25566 non-null  object\n",
      " 3   BlockNumber       25566 non-null  object\n",
      " 4   StreetName        25566 non-null  object\n",
      " 5   Agency            25566 non-null  object\n",
      " 6   DateReported      25566 non-null  int64 \n",
      " 7   HourReported      25566 non-null  object\n",
      " 8   ReportingOfficer  25549 non-null  object\n",
      "dtypes: int64(2), object(7)\n",
      "memory usage: 1.8+ MB\n"
     ]
    }
   ],
   "source": [
    "df.info()"
   ]
  },
  {
   "cell_type": "markdown",
   "id": "bb7d0d50",
   "metadata": {
    "papermill": {
     "duration": 0.003694,
     "end_time": "2025-07-24T01:10:14.160917",
     "exception": false,
     "start_time": "2025-07-24T01:10:14.157223",
     "status": "completed"
    },
    "tags": []
   },
   "source": [
    "### Missing Values"
   ]
  },
  {
   "cell_type": "code",
   "execution_count": 6,
   "id": "6665c1ba",
   "metadata": {
    "execution": {
     "iopub.execute_input": "2025-07-24T01:10:14.169285Z",
     "iopub.status.busy": "2025-07-24T01:10:14.169017Z",
     "iopub.status.idle": "2025-07-24T01:10:14.184859Z",
     "shell.execute_reply": "2025-07-24T01:10:14.184204Z"
    },
    "papermill": {
     "duration": 0.021022,
     "end_time": "2025-07-24T01:10:14.185797",
     "exception": false,
     "start_time": "2025-07-24T01:10:14.164775",
     "status": "completed"
    },
    "tags": []
   },
   "outputs": [
    {
     "name": "stdout",
     "output_type": "stream",
     "text": [
      "                  MissingCount  MissingPercentage\n",
      "RecordID                     0               0.00\n",
      "Offense                      0               0.00\n",
      "IncidentID                   0               0.00\n",
      "BlockNumber                  0               0.00\n",
      "StreetName                   0               0.00\n",
      "Agency                       0               0.00\n",
      "DateReported                 0               0.00\n",
      "HourReported                 0               0.00\n",
      "ReportingOfficer            17               0.07\n"
     ]
    }
   ],
   "source": [
    "def missing_percentage(df):\n",
    "    \"\"\"\n",
    "    Returns a DataFrame with the count and percentage of missing values for each column.\n",
    "    \n",
    "    Parameters:\n",
    "        df (pd.DataFrame): The input DataFrame.\n",
    "    \n",
    "    Returns:\n",
    "        pd.DataFrame: A DataFrame with columns 'MissingCount' and 'MissingPercentage'.\n",
    "    \"\"\"\n",
    "    total_rows = len(df)\n",
    "    missing_count = df.isnull().sum()\n",
    "    missing_percent = (missing_count / total_rows) * 100\n",
    "    \n",
    "    result = pd.DataFrame({\n",
    "        'MissingCount': missing_count,\n",
    "        'MissingPercentage': missing_percent.round(2)\n",
    "    })\n",
    "    \n",
    "    return result\n",
    "\n",
    "# Example usage:\n",
    "missing_info = missing_percentage(df)\n",
    "print(missing_info)\n"
   ]
  },
  {
   "cell_type": "markdown",
   "id": "d5907547",
   "metadata": {
    "papermill": {
     "duration": 0.003732,
     "end_time": "2025-07-24T01:10:14.193445",
     "exception": false,
     "start_time": "2025-07-24T01:10:14.189713",
     "status": "completed"
    },
    "tags": []
   },
   "source": [
    "## Data Preparation"
   ]
  },
  {
   "cell_type": "markdown",
   "id": "7060761e",
   "metadata": {
    "papermill": {
     "duration": 0.003784,
     "end_time": "2025-07-24T01:10:14.201110",
     "exception": false,
     "start_time": "2025-07-24T01:10:14.197326",
     "status": "completed"
    },
    "tags": []
   },
   "source": [
    "### Data Conversion"
   ]
  },
  {
   "cell_type": "code",
   "execution_count": 7,
   "id": "2fb36709",
   "metadata": {
    "execution": {
     "iopub.execute_input": "2025-07-24T01:10:14.209586Z",
     "iopub.status.busy": "2025-07-24T01:10:14.209348Z",
     "iopub.status.idle": "2025-07-24T01:10:14.565964Z",
     "shell.execute_reply": "2025-07-24T01:10:14.565275Z"
    },
    "papermill": {
     "duration": 0.362055,
     "end_time": "2025-07-24T01:10:14.567013",
     "exception": false,
     "start_time": "2025-07-24T01:10:14.204958",
     "status": "completed"
    },
    "tags": []
   },
   "outputs": [
    {
     "data": {
      "text/html": [
       "<div>\n",
       "<style scoped>\n",
       "    .dataframe tbody tr th:only-of-type {\n",
       "        vertical-align: middle;\n",
       "    }\n",
       "\n",
       "    .dataframe tbody tr th {\n",
       "        vertical-align: top;\n",
       "    }\n",
       "\n",
       "    .dataframe thead th {\n",
       "        text-align: right;\n",
       "    }\n",
       "</style>\n",
       "<table border=\"1\" class=\"dataframe\">\n",
       "  <thead>\n",
       "    <tr style=\"text-align: right;\">\n",
       "      <th></th>\n",
       "      <th>RecordID</th>\n",
       "      <th>Offense</th>\n",
       "      <th>IncidentID</th>\n",
       "      <th>BlockNumber</th>\n",
       "      <th>StreetName</th>\n",
       "      <th>Agency</th>\n",
       "      <th>HourReported</th>\n",
       "      <th>ReportingOfficer</th>\n",
       "      <th>Date</th>\n",
       "      <th>DateString</th>\n",
       "      <th>DayOfWeek</th>\n",
       "      <th>Weekend</th>\n",
       "      <th>Season</th>\n",
       "      <th>HourAMPM</th>\n",
       "      <th>TimeOfDay</th>\n",
       "    </tr>\n",
       "  </thead>\n",
       "  <tbody>\n",
       "    <tr>\n",
       "      <th>0</th>\n",
       "      <td>1</td>\n",
       "      <td>Sex Offense - Forcible Rape</td>\n",
       "      <td>202500025672</td>\n",
       "      <td>200</td>\n",
       "      <td>RIDGE ST</td>\n",
       "      <td>CPD</td>\n",
       "      <td>2121</td>\n",
       "      <td>Benbow, Lauren</td>\n",
       "      <td>2025-07-21 21:21:37</td>\n",
       "      <td>2025-07-21 09:21:37 PM</td>\n",
       "      <td>Monday</td>\n",
       "      <td>False</td>\n",
       "      <td>Summer</td>\n",
       "      <td>09:21 PM</td>\n",
       "      <td>Night</td>\n",
       "    </tr>\n",
       "    <tr>\n",
       "      <th>1</th>\n",
       "      <td>2</td>\n",
       "      <td>Extortion/Blackmail</td>\n",
       "      <td>202500025666</td>\n",
       "      <td>4000</td>\n",
       "      <td>CITY WALK WAY, 349</td>\n",
       "      <td>CPD</td>\n",
       "      <td>2044</td>\n",
       "      <td>Crowley, Raeann</td>\n",
       "      <td>2025-07-21 20:44:30</td>\n",
       "      <td>2025-07-21 08:44:30 PM</td>\n",
       "      <td>Monday</td>\n",
       "      <td>False</td>\n",
       "      <td>Summer</td>\n",
       "      <td>08:44 PM</td>\n",
       "      <td>Evening</td>\n",
       "    </tr>\n",
       "    <tr>\n",
       "      <th>2</th>\n",
       "      <td>3</td>\n",
       "      <td>Larceny - Shoplifitng</td>\n",
       "      <td>202500025655</td>\n",
       "      <td>1200</td>\n",
       "      <td>EMMET ST N, 120</td>\n",
       "      <td>CPD</td>\n",
       "      <td>1854</td>\n",
       "      <td>Buckley, Michael</td>\n",
       "      <td>2025-07-21 18:54:34</td>\n",
       "      <td>2025-07-21 06:54:34 PM</td>\n",
       "      <td>Monday</td>\n",
       "      <td>False</td>\n",
       "      <td>Summer</td>\n",
       "      <td>06:54 PM</td>\n",
       "      <td>Evening</td>\n",
       "    </tr>\n",
       "    <tr>\n",
       "      <th>3</th>\n",
       "      <td>4</td>\n",
       "      <td>Larceny - Shoplifitng</td>\n",
       "      <td>202500025644</td>\n",
       "      <td>500</td>\n",
       "      <td>W MAIN ST</td>\n",
       "      <td>CPD</td>\n",
       "      <td>1737</td>\n",
       "      <td>Benbow, Lauren</td>\n",
       "      <td>2025-07-21 17:37:37</td>\n",
       "      <td>2025-07-21 05:37:37 PM</td>\n",
       "      <td>Monday</td>\n",
       "      <td>False</td>\n",
       "      <td>Summer</td>\n",
       "      <td>05:37 PM</td>\n",
       "      <td>Evening</td>\n",
       "    </tr>\n",
       "    <tr>\n",
       "      <th>4</th>\n",
       "      <td>5</td>\n",
       "      <td>Animal - Bite</td>\n",
       "      <td>202500025605</td>\n",
       "      <td>500</td>\n",
       "      <td>RIDGE ST</td>\n",
       "      <td>CPD</td>\n",
       "      <td>1409</td>\n",
       "      <td>Carelsen, Louise</td>\n",
       "      <td>2025-07-21 14:09:13</td>\n",
       "      <td>2025-07-21 02:09:13 PM</td>\n",
       "      <td>Monday</td>\n",
       "      <td>False</td>\n",
       "      <td>Summer</td>\n",
       "      <td>02:09 PM</td>\n",
       "      <td>Afternoon</td>\n",
       "    </tr>\n",
       "  </tbody>\n",
       "</table>\n",
       "</div>"
      ],
      "text/plain": [
       "   RecordID                      Offense    IncidentID BlockNumber  \\\n",
       "0         1  Sex Offense - Forcible Rape  202500025672         200   \n",
       "1         2          Extortion/Blackmail  202500025666        4000   \n",
       "2         3        Larceny - Shoplifitng  202500025655        1200   \n",
       "3         4        Larceny - Shoplifitng  202500025644         500   \n",
       "4         5                Animal - Bite  202500025605         500   \n",
       "\n",
       "           StreetName Agency HourReported  ReportingOfficer  \\\n",
       "0            RIDGE ST    CPD         2121    Benbow, Lauren   \n",
       "1  CITY WALK WAY, 349    CPD         2044   Crowley, Raeann   \n",
       "2     EMMET ST N, 120    CPD         1854  Buckley, Michael   \n",
       "3           W MAIN ST    CPD         1737    Benbow, Lauren   \n",
       "4            RIDGE ST    CPD         1409  Carelsen, Louise   \n",
       "\n",
       "                 Date              DateString DayOfWeek  Weekend  Season  \\\n",
       "0 2025-07-21 21:21:37  2025-07-21 09:21:37 PM    Monday    False  Summer   \n",
       "1 2025-07-21 20:44:30  2025-07-21 08:44:30 PM    Monday    False  Summer   \n",
       "2 2025-07-21 18:54:34  2025-07-21 06:54:34 PM    Monday    False  Summer   \n",
       "3 2025-07-21 17:37:37  2025-07-21 05:37:37 PM    Monday    False  Summer   \n",
       "4 2025-07-21 14:09:13  2025-07-21 02:09:13 PM    Monday    False  Summer   \n",
       "\n",
       "   HourAMPM  TimeOfDay  \n",
       "0  09:21 PM      Night  \n",
       "1  08:44 PM    Evening  \n",
       "2  06:54 PM    Evening  \n",
       "3  05:37 PM    Evening  \n",
       "4  02:09 PM  Afternoon  "
      ]
     },
     "execution_count": 7,
     "metadata": {},
     "output_type": "execute_result"
    }
   ],
   "source": [
    "def convert_and_categorize_datereported(df, col='DateReported'):\n",
    "    \"\"\"\n",
    "    Converts an epoch (in milliseconds) date column into a timezone-aware datetime,\n",
    "    converts it to Eastern Time, and then creates columns for day-of-week, weekend flag,\n",
    "    season, 12-hour formatted time, and time-of-day. Keeps both a real datetime column\n",
    "    (Date) and a string representation (DateString).\n",
    "    \"\"\"\n",
    "    import pandas as pd\n",
    "\n",
    "    # Convert the epoch timestamp to a pandas datetime object as UTC, then convert to US/Eastern.\n",
    "    df[\"DateReported_dt\"] = (\n",
    "        pd.to_datetime(df[col], unit=\"ms\", errors=\"coerce\", utc=True)\n",
    "        .dt.tz_convert(\"US/Eastern\")\n",
    "    )\n",
    "    \n",
    "    # Create a true datetime column (remove timezone if you prefer naive datetime)\n",
    "    df[\"Date\"] = df[\"DateReported_dt\"].dt.tz_localize(None)\n",
    "\n",
    "    # Optionally, create a separate string-formatted column\n",
    "    df[\"DateString\"] = df[\"DateReported_dt\"].dt.strftime(\"%Y-%m-%d %I:%M:%S %p\")\n",
    "    \n",
    "    # DayOfWeek\n",
    "    df[\"DayOfWeek\"] = df[\"DateReported_dt\"].dt.day_name()\n",
    "    \n",
    "    # Weekend\n",
    "    df[\"Weekend\"] = df[\"DayOfWeek\"].isin([\"Saturday\", \"Sunday\"])\n",
    "    \n",
    "    # Helper function to determine the season\n",
    "    def get_season(dt):\n",
    "        month = dt.month\n",
    "        day = dt.day\n",
    "        # Approximate Northern Hemisphere season boundaries:\n",
    "        if (month == 12 and day >= 21) or (month < 3) or (month == 3 and day < 20):\n",
    "            return \"Winter\"\n",
    "        elif (month == 3 and day >= 20) or (month < 6) or (month == 6 and day < 21):\n",
    "            return \"Spring\"\n",
    "        elif (month == 6 and day >= 21) or (month < 9) or (month == 9 and day < 22):\n",
    "            return \"Summer\"\n",
    "        else:\n",
    "            return \"Autumn\"\n",
    "    \n",
    "    df[\"Season\"] = df[\"DateReported_dt\"].apply(get_season)\n",
    "    \n",
    "    # 12-hour formatted time (HourAMPM)\n",
    "    df[\"HourAMPM\"] = df[\"DateReported_dt\"].dt.strftime(\"%I:%M %p\")\n",
    "    \n",
    "    # Extract hour (0-23) for time-of-day\n",
    "    df[\"HourValue\"] = df[\"DateReported_dt\"].dt.hour\n",
    "    \n",
    "    def time_of_day(hour):\n",
    "        if pd.isnull(hour):\n",
    "            return None\n",
    "        if 5 <= hour < 12:\n",
    "            return \"Morning\"\n",
    "        elif 12 <= hour < 17:\n",
    "            return \"Afternoon\"\n",
    "        elif 17 <= hour < 21:\n",
    "            return \"Evening\"\n",
    "        else:\n",
    "            return \"Night\"\n",
    "    \n",
    "    df[\"TimeOfDay\"] = df[\"HourValue\"].apply(time_of_day)\n",
    "    \n",
    "    # Drop columns you no longer need\n",
    "    df.drop(columns=[col, \"DateReported_dt\", \"HourValue\"], inplace=True)\n",
    "    \n",
    "    return df\n",
    "\n",
    "# Example usage:\n",
    "df = convert_and_categorize_datereported(df)\n",
    "df.head()\n"
   ]
  },
  {
   "cell_type": "code",
   "execution_count": 8,
   "id": "8d436a27",
   "metadata": {
    "execution": {
     "iopub.execute_input": "2025-07-24T01:10:14.575983Z",
     "iopub.status.busy": "2025-07-24T01:10:14.575767Z",
     "iopub.status.idle": "2025-07-24T01:10:14.599816Z",
     "shell.execute_reply": "2025-07-24T01:10:14.599279Z"
    },
    "papermill": {
     "duration": 0.029535,
     "end_time": "2025-07-24T01:10:14.600758",
     "exception": false,
     "start_time": "2025-07-24T01:10:14.571223",
     "status": "completed"
    },
    "tags": []
   },
   "outputs": [
    {
     "name": "stdout",
     "output_type": "stream",
     "text": [
      "<class 'pandas.core.frame.DataFrame'>\n",
      "RangeIndex: 25566 entries, 0 to 25565\n",
      "Data columns (total 15 columns):\n",
      " #   Column            Non-Null Count  Dtype         \n",
      "---  ------            --------------  -----         \n",
      " 0   RecordID          25566 non-null  int64         \n",
      " 1   Offense           25566 non-null  object        \n",
      " 2   IncidentID        25566 non-null  object        \n",
      " 3   BlockNumber       25566 non-null  object        \n",
      " 4   StreetName        25566 non-null  object        \n",
      " 5   Agency            25566 non-null  object        \n",
      " 6   HourReported      25566 non-null  object        \n",
      " 7   ReportingOfficer  25549 non-null  object        \n",
      " 8   Date              25566 non-null  datetime64[ns]\n",
      " 9   DateString        25566 non-null  object        \n",
      " 10  DayOfWeek         25566 non-null  object        \n",
      " 11  Weekend           25566 non-null  bool          \n",
      " 12  Season            25566 non-null  object        \n",
      " 13  HourAMPM          25566 non-null  object        \n",
      " 14  TimeOfDay         25566 non-null  object        \n",
      "dtypes: bool(1), datetime64[ns](1), int64(1), object(12)\n",
      "memory usage: 2.8+ MB\n"
     ]
    }
   ],
   "source": [
    "df.info()"
   ]
  },
  {
   "cell_type": "markdown",
   "id": "6b6bed93",
   "metadata": {
    "papermill": {
     "duration": 0.004035,
     "end_time": "2025-07-24T01:10:14.609252",
     "exception": false,
     "start_time": "2025-07-24T01:10:14.605217",
     "status": "completed"
    },
    "tags": []
   },
   "source": [
    "### Coordinates"
   ]
  },
  {
   "cell_type": "code",
   "execution_count": 9,
   "id": "43fe0b2a",
   "metadata": {
    "execution": {
     "iopub.execute_input": "2025-07-24T01:10:14.618432Z",
     "iopub.status.busy": "2025-07-24T01:10:14.618205Z",
     "iopub.status.idle": "2025-07-24T01:10:15.035705Z",
     "shell.execute_reply": "2025-07-24T01:10:15.035097Z"
    },
    "papermill": {
     "duration": 0.423286,
     "end_time": "2025-07-24T01:10:15.036757",
     "exception": false,
     "start_time": "2025-07-24T01:10:14.613471",
     "status": "completed"
    },
    "tags": []
   },
   "outputs": [
    {
     "name": "stdout",
     "output_type": "stream",
     "text": [
      "Loaded geocode cache.\n",
      "Error geocoding 4000 CITY WALK WAY, 349: REQUEST_DENIED (You must enable Billing on the Google Cloud Project at https://console.cloud.google.com/project/_/billing/enable Learn more at https://developers.google.com/maps/gmp-get-started)\n",
      "Geocoded 4000 CITY WALK WAY, 349: None, None\n",
      "Error geocoding 1800 JEFFERSON PARK AVE, 505: REQUEST_DENIED (You must enable Billing on the Google Cloud Project at https://console.cloud.google.com/project/_/billing/enable Learn more at https://developers.google.com/maps/gmp-get-started)\n",
      "Geocoded 1800 JEFFERSON PARK AVE, 505: None, None\n"
     ]
    },
    {
     "name": "stdout",
     "output_type": "stream",
     "text": [
      "Error geocoding 800 FRANKLIN ST, 4: REQUEST_DENIED (You must enable Billing on the Google Cloud Project at https://console.cloud.google.com/project/_/billing/enable Learn more at https://developers.google.com/maps/gmp-get-started)\n",
      "Geocoded 800 FRANKLIN ST, 4: None, None\n",
      "Error geocoding  MONTICELLO AVE / BOLLING AVE: REQUEST_DENIED (You must enable Billing on the Google Cloud Project at https://console.cloud.google.com/project/_/billing/enable Learn more at https://developers.google.com/maps/gmp-get-started)\n",
      "Geocoded  MONTICELLO AVE / BOLLING AVE: None, None\n",
      "Error geocoding  E HIGH ST @ W MARKET ST: REQUEST_DENIED (You must enable Billing on the Google Cloud Project at https://console.cloud.google.com/project/_/billing/enable Learn more at https://developers.google.com/maps/gmp-get-started)\n",
      "Geocoded  E HIGH ST @ W MARKET ST: None, None\n",
      "Error geocoding 200 14TH ST NW, Unit 1: REQUEST_DENIED (You must enable Billing on the Google Cloud Project at https://console.cloud.google.com/project/_/billing/enable Learn more at https://developers.google.com/maps/gmp-get-started)\n",
      "Geocoded 200 14TH ST NW, Unit 1: None, None\n",
      "Geocode cache updated and saved.\n"
     ]
    },
    {
     "data": {
      "text/html": [
       "<div>\n",
       "<style scoped>\n",
       "    .dataframe tbody tr th:only-of-type {\n",
       "        vertical-align: middle;\n",
       "    }\n",
       "\n",
       "    .dataframe tbody tr th {\n",
       "        vertical-align: top;\n",
       "    }\n",
       "\n",
       "    .dataframe thead th {\n",
       "        text-align: right;\n",
       "    }\n",
       "</style>\n",
       "<table border=\"1\" class=\"dataframe\">\n",
       "  <thead>\n",
       "    <tr style=\"text-align: right;\">\n",
       "      <th></th>\n",
       "      <th>RecordID</th>\n",
       "      <th>Offense</th>\n",
       "      <th>IncidentID</th>\n",
       "      <th>BlockNumber</th>\n",
       "      <th>StreetName</th>\n",
       "      <th>Agency</th>\n",
       "      <th>HourReported</th>\n",
       "      <th>ReportingOfficer</th>\n",
       "      <th>Date</th>\n",
       "      <th>DateString</th>\n",
       "      <th>DayOfWeek</th>\n",
       "      <th>Weekend</th>\n",
       "      <th>Season</th>\n",
       "      <th>HourAMPM</th>\n",
       "      <th>TimeOfDay</th>\n",
       "      <th>FullStreet</th>\n",
       "      <th>lat</th>\n",
       "      <th>lon</th>\n",
       "    </tr>\n",
       "  </thead>\n",
       "  <tbody>\n",
       "    <tr>\n",
       "      <th>0</th>\n",
       "      <td>1</td>\n",
       "      <td>Sex Offense - Forcible Rape</td>\n",
       "      <td>202500025672</td>\n",
       "      <td>200</td>\n",
       "      <td>RIDGE ST</td>\n",
       "      <td>CPD</td>\n",
       "      <td>2121</td>\n",
       "      <td>Benbow, Lauren</td>\n",
       "      <td>2025-07-21 21:21:37</td>\n",
       "      <td>2025-07-21 09:21:37 PM</td>\n",
       "      <td>Monday</td>\n",
       "      <td>False</td>\n",
       "      <td>Summer</td>\n",
       "      <td>09:21 PM</td>\n",
       "      <td>Night</td>\n",
       "      <td>200 RIDGE ST</td>\n",
       "      <td>38.029522</td>\n",
       "      <td>-78.485560</td>\n",
       "    </tr>\n",
       "    <tr>\n",
       "      <th>1</th>\n",
       "      <td>2</td>\n",
       "      <td>Extortion/Blackmail</td>\n",
       "      <td>202500025666</td>\n",
       "      <td>4000</td>\n",
       "      <td>CITY WALK WAY, 349</td>\n",
       "      <td>CPD</td>\n",
       "      <td>2044</td>\n",
       "      <td>Crowley, Raeann</td>\n",
       "      <td>2025-07-21 20:44:30</td>\n",
       "      <td>2025-07-21 08:44:30 PM</td>\n",
       "      <td>Monday</td>\n",
       "      <td>False</td>\n",
       "      <td>Summer</td>\n",
       "      <td>08:44 PM</td>\n",
       "      <td>Evening</td>\n",
       "      <td>4000 CITY WALK WAY, 349</td>\n",
       "      <td>NaN</td>\n",
       "      <td>NaN</td>\n",
       "    </tr>\n",
       "    <tr>\n",
       "      <th>2</th>\n",
       "      <td>3</td>\n",
       "      <td>Larceny - Shoplifitng</td>\n",
       "      <td>202500025655</td>\n",
       "      <td>1200</td>\n",
       "      <td>EMMET ST N, 120</td>\n",
       "      <td>CPD</td>\n",
       "      <td>1854</td>\n",
       "      <td>Buckley, Michael</td>\n",
       "      <td>2025-07-21 18:54:34</td>\n",
       "      <td>2025-07-21 06:54:34 PM</td>\n",
       "      <td>Monday</td>\n",
       "      <td>False</td>\n",
       "      <td>Summer</td>\n",
       "      <td>06:54 PM</td>\n",
       "      <td>Evening</td>\n",
       "      <td>1200 EMMET ST N, 120</td>\n",
       "      <td>38.052917</td>\n",
       "      <td>-78.498591</td>\n",
       "    </tr>\n",
       "    <tr>\n",
       "      <th>3</th>\n",
       "      <td>4</td>\n",
       "      <td>Larceny - Shoplifitng</td>\n",
       "      <td>202500025644</td>\n",
       "      <td>500</td>\n",
       "      <td>W MAIN ST</td>\n",
       "      <td>CPD</td>\n",
       "      <td>1737</td>\n",
       "      <td>Benbow, Lauren</td>\n",
       "      <td>2025-07-21 17:37:37</td>\n",
       "      <td>2025-07-21 05:37:37 PM</td>\n",
       "      <td>Monday</td>\n",
       "      <td>False</td>\n",
       "      <td>Summer</td>\n",
       "      <td>05:37 PM</td>\n",
       "      <td>Evening</td>\n",
       "      <td>500 W MAIN ST</td>\n",
       "      <td>38.030793</td>\n",
       "      <td>-78.487912</td>\n",
       "    </tr>\n",
       "    <tr>\n",
       "      <th>4</th>\n",
       "      <td>5</td>\n",
       "      <td>Animal - Bite</td>\n",
       "      <td>202500025605</td>\n",
       "      <td>500</td>\n",
       "      <td>RIDGE ST</td>\n",
       "      <td>CPD</td>\n",
       "      <td>1409</td>\n",
       "      <td>Carelsen, Louise</td>\n",
       "      <td>2025-07-21 14:09:13</td>\n",
       "      <td>2025-07-21 02:09:13 PM</td>\n",
       "      <td>Monday</td>\n",
       "      <td>False</td>\n",
       "      <td>Summer</td>\n",
       "      <td>02:09 PM</td>\n",
       "      <td>Afternoon</td>\n",
       "      <td>500 RIDGE ST</td>\n",
       "      <td>38.027107</td>\n",
       "      <td>-78.486703</td>\n",
       "    </tr>\n",
       "  </tbody>\n",
       "</table>\n",
       "</div>"
      ],
      "text/plain": [
       "   RecordID                      Offense    IncidentID BlockNumber  \\\n",
       "0         1  Sex Offense - Forcible Rape  202500025672         200   \n",
       "1         2          Extortion/Blackmail  202500025666        4000   \n",
       "2         3        Larceny - Shoplifitng  202500025655        1200   \n",
       "3         4        Larceny - Shoplifitng  202500025644         500   \n",
       "4         5                Animal - Bite  202500025605         500   \n",
       "\n",
       "           StreetName Agency HourReported  ReportingOfficer  \\\n",
       "0            RIDGE ST    CPD         2121    Benbow, Lauren   \n",
       "1  CITY WALK WAY, 349    CPD         2044   Crowley, Raeann   \n",
       "2     EMMET ST N, 120    CPD         1854  Buckley, Michael   \n",
       "3           W MAIN ST    CPD         1737    Benbow, Lauren   \n",
       "4            RIDGE ST    CPD         1409  Carelsen, Louise   \n",
       "\n",
       "                 Date              DateString DayOfWeek  Weekend  Season  \\\n",
       "0 2025-07-21 21:21:37  2025-07-21 09:21:37 PM    Monday    False  Summer   \n",
       "1 2025-07-21 20:44:30  2025-07-21 08:44:30 PM    Monday    False  Summer   \n",
       "2 2025-07-21 18:54:34  2025-07-21 06:54:34 PM    Monday    False  Summer   \n",
       "3 2025-07-21 17:37:37  2025-07-21 05:37:37 PM    Monday    False  Summer   \n",
       "4 2025-07-21 14:09:13  2025-07-21 02:09:13 PM    Monday    False  Summer   \n",
       "\n",
       "   HourAMPM  TimeOfDay               FullStreet        lat        lon  \n",
       "0  09:21 PM      Night             200 RIDGE ST  38.029522 -78.485560  \n",
       "1  08:44 PM    Evening  4000 CITY WALK WAY, 349        NaN        NaN  \n",
       "2  06:54 PM    Evening     1200 EMMET ST N, 120  38.052917 -78.498591  \n",
       "3  05:37 PM    Evening            500 W MAIN ST  38.030793 -78.487912  \n",
       "4  02:09 PM  Afternoon             500 RIDGE ST  38.027107 -78.486703  "
      ]
     },
     "execution_count": 9,
     "metadata": {},
     "output_type": "execute_result"
    }
   ],
   "source": [
    "# Combine BlockNumber and StreetName into a full address string\n",
    "df['FullStreet'] = df['BlockNumber'].astype(str) + \" \" + df['StreetName']\n",
    "\n",
    "# --- Step 1: Setup the Google Maps Client and Cache ---\n",
    "gmaps = googlemaps.Client(key=GOOGLE_API_KEY)\n",
    "\n",
    "# Try to load cached geocoding results if available.\n",
    "try:\n",
    "    with open(\"geocode_cache_google.pkl\", \"rb\") as f:\n",
    "        street_coords = pickle.load(f)\n",
    "    print(\"Loaded geocode cache.\")\n",
    "except FileNotFoundError:\n",
    "    street_coords = {}\n",
    "    print(\"No cache found; starting fresh.\")\n",
    "\n",
    "def geocode_address(address):\n",
    "    try:\n",
    "        # Append city and state to help geocoding\n",
    "        result = gmaps.geocode(f\"{address}, Charlottesville, VA\")\n",
    "        if result:\n",
    "            lat = result[0]['geometry']['location']['lat']\n",
    "            lon = result[0]['geometry']['location']['lng']\n",
    "            return lat, lon\n",
    "    except Exception as e:\n",
    "        print(f\"Error geocoding {address}: {e}\")\n",
    "    return None, None\n",
    "\n",
    "# --- Step 2: Geocode Only New Addresses ---\n",
    "unique_addresses = df['FullStreet'].unique()\n",
    "for address in unique_addresses:\n",
    "    if address not in street_coords:\n",
    "        lat, lon = geocode_address(address)\n",
    "        street_coords[address] = (lat, lon)\n",
    "        print(f\"Geocoded {address}: {lat}, {lon}\")\n",
    "\n",
    "# Save the updated cache to disk.\n",
    "with open(\"geocode_cache_google.pkl\", \"wb\") as f:\n",
    "    pickle.dump(street_coords, f)\n",
    "    print(\"Geocode cache updated and saved.\")\n",
    "\n",
    "# --- Step 3: Map Coordinates Back to DataFrame ---\n",
    "df['lat'] = df['FullStreet'].map(lambda s: street_coords.get(s, (None, None))[0])\n",
    "df['lon'] = df['FullStreet'].map(lambda s: street_coords.get(s, (None, None))[1])\n",
    "\n",
    "df.head()"
   ]
  },
  {
   "cell_type": "markdown",
   "id": "8585d6be",
   "metadata": {
    "papermill": {
     "duration": 0.004415,
     "end_time": "2025-07-24T01:10:15.045997",
     "exception": false,
     "start_time": "2025-07-24T01:10:15.041582",
     "status": "completed"
    },
    "tags": []
   },
   "source": [
    "### Neighborhood"
   ]
  },
  {
   "cell_type": "code",
   "execution_count": 10,
   "id": "c859b12d",
   "metadata": {
    "execution": {
     "iopub.execute_input": "2025-07-24T01:10:15.055487Z",
     "iopub.status.busy": "2025-07-24T01:10:15.055290Z",
     "iopub.status.idle": "2025-07-24T01:10:16.464730Z",
     "shell.execute_reply": "2025-07-24T01:10:16.464029Z"
    },
    "papermill": {
     "duration": 1.4155,
     "end_time": "2025-07-24T01:10:16.465873",
     "exception": false,
     "start_time": "2025-07-24T01:10:15.050373",
     "status": "completed"
    },
    "tags": []
   },
   "outputs": [
    {
     "name": "stdout",
     "output_type": "stream",
     "text": [
      "Loaded neighborhood cache.\n",
      "Error getting neighborhood for nan, nan: HTTP Error: 400\n",
      "Error getting neighborhood for nan, nan: HTTP Error: 400\n",
      "Error getting neighborhood for nan, nan: HTTP Error: 400\n",
      "Error getting neighborhood for nan, nan: HTTP Error: 400\n"
     ]
    },
    {
     "name": "stdout",
     "output_type": "stream",
     "text": [
      "Error getting neighborhood for nan, nan: HTTP Error: 400\n",
      "Error getting neighborhood for nan, nan: HTTP Error: 400\n",
      "Error getting neighborhood for nan, nan: HTTP Error: 400\n",
      "Error getting neighborhood for nan, nan: HTTP Error: 400\n",
      "Error getting neighborhood for nan, nan: HTTP Error: 400\n",
      "Error getting neighborhood for nan, nan: HTTP Error: 400\n",
      "Error getting neighborhood for nan, nan: HTTP Error: 400\n",
      "Error getting neighborhood for nan, nan: HTTP Error: 400\n",
      "Error getting neighborhood for nan, nan: HTTP Error: 400\n"
     ]
    },
    {
     "name": "stdout",
     "output_type": "stream",
     "text": [
      "Error getting neighborhood for nan, nan: HTTP Error: 400\n",
      "Error getting neighborhood for nan, nan: HTTP Error: 400\n",
      "Error getting neighborhood for nan, nan: HTTP Error: 400\n",
      "Error getting neighborhood for nan, nan: HTTP Error: 400\n",
      "Error getting neighborhood for nan, nan: HTTP Error: 400\n",
      "Error getting neighborhood for nan, nan: HTTP Error: 400\n",
      "Error getting neighborhood for nan, nan: HTTP Error: 400\n",
      "Error getting neighborhood for nan, nan: HTTP Error: 400\n",
      "Error getting neighborhood for nan, nan: HTTP Error: 400\n",
      "Error getting neighborhood for nan, nan: HTTP Error: 400\n",
      "Error getting neighborhood for nan, nan: HTTP Error: 400\n",
      "Error getting neighborhood for nan, nan: HTTP Error: 400\n",
      "Error getting neighborhood for nan, nan: HTTP Error: 400\n",
      "Error getting neighborhood for nan, nan: HTTP Error: 400\n",
      "Error getting neighborhood for nan, nan: HTTP Error: 400\n"
     ]
    },
    {
     "name": "stdout",
     "output_type": "stream",
     "text": [
      "Error getting neighborhood for nan, nan: HTTP Error: 400\n",
      "Error getting neighborhood for nan, nan: HTTP Error: 400\n",
      "Error getting neighborhood for nan, nan: HTTP Error: 400\n",
      "Error getting neighborhood for nan, nan: HTTP Error: 400\n",
      "Error getting neighborhood for nan, nan: HTTP Error: 400\n",
      "Error getting neighborhood for nan, nan: HTTP Error: 400\n",
      "Error getting neighborhood for nan, nan: HTTP Error: 400\n",
      "Error getting neighborhood for nan, nan: HTTP Error: 400\n",
      "Error getting neighborhood for nan, nan: HTTP Error: 400\n",
      "Error getting neighborhood for nan, nan: HTTP Error: 400\n",
      "Error getting neighborhood for nan, nan: HTTP Error: 400\n",
      "Error getting neighborhood for nan, nan: HTTP Error: 400\n",
      "Error getting neighborhood for nan, nan: HTTP Error: 400\n",
      "Error getting neighborhood for nan, nan: HTTP Error: 400\n",
      "Error getting neighborhood for nan, nan: HTTP Error: 400\n"
     ]
    },
    {
     "name": "stdout",
     "output_type": "stream",
     "text": [
      "Error getting neighborhood for nan, nan: HTTP Error: 400\n",
      "Error getting neighborhood for nan, nan: HTTP Error: 400\n",
      "Error getting neighborhood for nan, nan: HTTP Error: 400\n",
      "Error getting neighborhood for nan, nan: HTTP Error: 400\n",
      "Error getting neighborhood for nan, nan: HTTP Error: 400\n",
      "Error getting neighborhood for nan, nan: HTTP Error: 400\n",
      "Error getting neighborhood for nan, nan: HTTP Error: 400\n",
      "Error getting neighborhood for nan, nan: HTTP Error: 400\n",
      "Error getting neighborhood for nan, nan: HTTP Error: 400\n",
      "Error getting neighborhood for nan, nan: HTTP Error: 400\n",
      "Error getting neighborhood for nan, nan: HTTP Error: 400\n",
      "Error getting neighborhood for nan, nan: HTTP Error: 400\n",
      "Error getting neighborhood for nan, nan: HTTP Error: 400\n",
      "Error getting neighborhood for nan, nan: HTTP Error: 400\n",
      "Error getting neighborhood for nan, nan: HTTP Error: 400\n"
     ]
    },
    {
     "name": "stdout",
     "output_type": "stream",
     "text": [
      "Error getting neighborhood for nan, nan: HTTP Error: 400\n",
      "Error getting neighborhood for nan, nan: HTTP Error: 400\n",
      "Error getting neighborhood for nan, nan: HTTP Error: 400\n",
      "Error getting neighborhood for nan, nan: HTTP Error: 400\n",
      "Error getting neighborhood for nan, nan: HTTP Error: 400\n",
      "Error getting neighborhood for nan, nan: HTTP Error: 400\n",
      "Error getting neighborhood for nan, nan: HTTP Error: 400\n",
      "Error getting neighborhood for nan, nan: HTTP Error: 400\n",
      "Error getting neighborhood for nan, nan: HTTP Error: 400\n",
      "Error getting neighborhood for nan, nan: HTTP Error: 400\n",
      "Error getting neighborhood for nan, nan: HTTP Error: 400\n",
      "Error getting neighborhood for nan, nan: HTTP Error: 400\n"
     ]
    },
    {
     "data": {
      "text/html": [
       "<div>\n",
       "<style scoped>\n",
       "    .dataframe tbody tr th:only-of-type {\n",
       "        vertical-align: middle;\n",
       "    }\n",
       "\n",
       "    .dataframe tbody tr th {\n",
       "        vertical-align: top;\n",
       "    }\n",
       "\n",
       "    .dataframe thead th {\n",
       "        text-align: right;\n",
       "    }\n",
       "</style>\n",
       "<table border=\"1\" class=\"dataframe\">\n",
       "  <thead>\n",
       "    <tr style=\"text-align: right;\">\n",
       "      <th></th>\n",
       "      <th>RecordID</th>\n",
       "      <th>Offense</th>\n",
       "      <th>IncidentID</th>\n",
       "      <th>BlockNumber</th>\n",
       "      <th>StreetName</th>\n",
       "      <th>Agency</th>\n",
       "      <th>HourReported</th>\n",
       "      <th>ReportingOfficer</th>\n",
       "      <th>Date</th>\n",
       "      <th>DateString</th>\n",
       "      <th>DayOfWeek</th>\n",
       "      <th>Weekend</th>\n",
       "      <th>Season</th>\n",
       "      <th>HourAMPM</th>\n",
       "      <th>TimeOfDay</th>\n",
       "      <th>FullStreet</th>\n",
       "      <th>lat</th>\n",
       "      <th>lon</th>\n",
       "      <th>neighborhood</th>\n",
       "    </tr>\n",
       "  </thead>\n",
       "  <tbody>\n",
       "    <tr>\n",
       "      <th>0</th>\n",
       "      <td>1</td>\n",
       "      <td>Sex Offense - Forcible Rape</td>\n",
       "      <td>202500025672</td>\n",
       "      <td>200</td>\n",
       "      <td>RIDGE ST</td>\n",
       "      <td>CPD</td>\n",
       "      <td>2121</td>\n",
       "      <td>Benbow, Lauren</td>\n",
       "      <td>2025-07-21 21:21:37</td>\n",
       "      <td>2025-07-21 09:21:37 PM</td>\n",
       "      <td>Monday</td>\n",
       "      <td>False</td>\n",
       "      <td>Summer</td>\n",
       "      <td>09:21 PM</td>\n",
       "      <td>Night</td>\n",
       "      <td>200 RIDGE ST</td>\n",
       "      <td>38.029522</td>\n",
       "      <td>-78.485560</td>\n",
       "      <td>Fifeville</td>\n",
       "    </tr>\n",
       "    <tr>\n",
       "      <th>1</th>\n",
       "      <td>2</td>\n",
       "      <td>Extortion/Blackmail</td>\n",
       "      <td>202500025666</td>\n",
       "      <td>4000</td>\n",
       "      <td>CITY WALK WAY, 349</td>\n",
       "      <td>CPD</td>\n",
       "      <td>2044</td>\n",
       "      <td>Crowley, Raeann</td>\n",
       "      <td>2025-07-21 20:44:30</td>\n",
       "      <td>2025-07-21 08:44:30 PM</td>\n",
       "      <td>Monday</td>\n",
       "      <td>False</td>\n",
       "      <td>Summer</td>\n",
       "      <td>08:44 PM</td>\n",
       "      <td>Evening</td>\n",
       "      <td>4000 CITY WALK WAY, 349</td>\n",
       "      <td>NaN</td>\n",
       "      <td>NaN</td>\n",
       "      <td>N/A</td>\n",
       "    </tr>\n",
       "    <tr>\n",
       "      <th>2</th>\n",
       "      <td>3</td>\n",
       "      <td>Larceny - Shoplifitng</td>\n",
       "      <td>202500025655</td>\n",
       "      <td>1200</td>\n",
       "      <td>EMMET ST N, 120</td>\n",
       "      <td>CPD</td>\n",
       "      <td>1854</td>\n",
       "      <td>Buckley, Michael</td>\n",
       "      <td>2025-07-21 18:54:34</td>\n",
       "      <td>2025-07-21 06:54:34 PM</td>\n",
       "      <td>Monday</td>\n",
       "      <td>False</td>\n",
       "      <td>Summer</td>\n",
       "      <td>06:54 PM</td>\n",
       "      <td>Evening</td>\n",
       "      <td>1200 EMMET ST N, 120</td>\n",
       "      <td>38.052917</td>\n",
       "      <td>-78.498591</td>\n",
       "      <td>The Meadows</td>\n",
       "    </tr>\n",
       "    <tr>\n",
       "      <th>3</th>\n",
       "      <td>4</td>\n",
       "      <td>Larceny - Shoplifitng</td>\n",
       "      <td>202500025644</td>\n",
       "      <td>500</td>\n",
       "      <td>W MAIN ST</td>\n",
       "      <td>CPD</td>\n",
       "      <td>1737</td>\n",
       "      <td>Benbow, Lauren</td>\n",
       "      <td>2025-07-21 17:37:37</td>\n",
       "      <td>2025-07-21 05:37:37 PM</td>\n",
       "      <td>Monday</td>\n",
       "      <td>False</td>\n",
       "      <td>Summer</td>\n",
       "      <td>05:37 PM</td>\n",
       "      <td>Evening</td>\n",
       "      <td>500 W MAIN ST</td>\n",
       "      <td>38.030793</td>\n",
       "      <td>-78.487912</td>\n",
       "      <td>Starr Hill</td>\n",
       "    </tr>\n",
       "    <tr>\n",
       "      <th>4</th>\n",
       "      <td>5</td>\n",
       "      <td>Animal - Bite</td>\n",
       "      <td>202500025605</td>\n",
       "      <td>500</td>\n",
       "      <td>RIDGE ST</td>\n",
       "      <td>CPD</td>\n",
       "      <td>1409</td>\n",
       "      <td>Carelsen, Louise</td>\n",
       "      <td>2025-07-21 14:09:13</td>\n",
       "      <td>2025-07-21 02:09:13 PM</td>\n",
       "      <td>Monday</td>\n",
       "      <td>False</td>\n",
       "      <td>Summer</td>\n",
       "      <td>02:09 PM</td>\n",
       "      <td>Afternoon</td>\n",
       "      <td>500 RIDGE ST</td>\n",
       "      <td>38.027107</td>\n",
       "      <td>-78.486703</td>\n",
       "      <td>Fifeville</td>\n",
       "    </tr>\n",
       "  </tbody>\n",
       "</table>\n",
       "</div>"
      ],
      "text/plain": [
       "   RecordID                      Offense    IncidentID BlockNumber  \\\n",
       "0         1  Sex Offense - Forcible Rape  202500025672         200   \n",
       "1         2          Extortion/Blackmail  202500025666        4000   \n",
       "2         3        Larceny - Shoplifitng  202500025655        1200   \n",
       "3         4        Larceny - Shoplifitng  202500025644         500   \n",
       "4         5                Animal - Bite  202500025605         500   \n",
       "\n",
       "           StreetName Agency HourReported  ReportingOfficer  \\\n",
       "0            RIDGE ST    CPD         2121    Benbow, Lauren   \n",
       "1  CITY WALK WAY, 349    CPD         2044   Crowley, Raeann   \n",
       "2     EMMET ST N, 120    CPD         1854  Buckley, Michael   \n",
       "3           W MAIN ST    CPD         1737    Benbow, Lauren   \n",
       "4            RIDGE ST    CPD         1409  Carelsen, Louise   \n",
       "\n",
       "                 Date              DateString DayOfWeek  Weekend  Season  \\\n",
       "0 2025-07-21 21:21:37  2025-07-21 09:21:37 PM    Monday    False  Summer   \n",
       "1 2025-07-21 20:44:30  2025-07-21 08:44:30 PM    Monday    False  Summer   \n",
       "2 2025-07-21 18:54:34  2025-07-21 06:54:34 PM    Monday    False  Summer   \n",
       "3 2025-07-21 17:37:37  2025-07-21 05:37:37 PM    Monday    False  Summer   \n",
       "4 2025-07-21 14:09:13  2025-07-21 02:09:13 PM    Monday    False  Summer   \n",
       "\n",
       "   HourAMPM  TimeOfDay               FullStreet        lat        lon  \\\n",
       "0  09:21 PM      Night             200 RIDGE ST  38.029522 -78.485560   \n",
       "1  08:44 PM    Evening  4000 CITY WALK WAY, 349        NaN        NaN   \n",
       "2  06:54 PM    Evening     1200 EMMET ST N, 120  38.052917 -78.498591   \n",
       "3  05:37 PM    Evening            500 W MAIN ST  38.030793 -78.487912   \n",
       "4  02:09 PM  Afternoon             500 RIDGE ST  38.027107 -78.486703   \n",
       "\n",
       "  neighborhood  \n",
       "0    Fifeville  \n",
       "1          N/A  \n",
       "2  The Meadows  \n",
       "3   Starr Hill  \n",
       "4    Fifeville  "
      ]
     },
     "execution_count": 10,
     "metadata": {},
     "output_type": "execute_result"
    }
   ],
   "source": [
    "# Initialize the Google Maps client.\n",
    "gmaps = googlemaps.Client(key=GOOGLE_API_KEY)\n",
    "\n",
    "# Try to load a persistent neighborhood cache if available.\n",
    "try:\n",
    "    with open(\"neighborhood_cache.pkl\", \"rb\") as f:\n",
    "        neighborhood_cache = pickle.load(f)\n",
    "    print(\"Loaded neighborhood cache.\")\n",
    "except FileNotFoundError:\n",
    "    neighborhood_cache = {}\n",
    "    print(\"No neighborhood cache found; starting fresh.\")\n",
    "\n",
    "def get_neighborhood(lat, lon):\n",
    "    \"\"\"\n",
    "    Reverse geocodes a latitude and longitude to retrieve the neighborhood.\n",
    "    Caches results to speed up subsequent lookups.\n",
    "    \"\"\"\n",
    "    key = (lat, lon)\n",
    "    if key in neighborhood_cache:\n",
    "        return neighborhood_cache[key]\n",
    "    \n",
    "    try:\n",
    "        result = gmaps.reverse_geocode((lat, lon))\n",
    "        if result:\n",
    "            # Look for the 'neighborhood' component in the first result.\n",
    "            for component in result[0]['address_components']:\n",
    "                if 'neighborhood' in component['types']:\n",
    "                    neighborhood = component['long_name']\n",
    "                    neighborhood_cache[key] = neighborhood\n",
    "                    return neighborhood\n",
    "            # If no neighborhood is found, return \"N/A\"\n",
    "            neighborhood_cache[key] = \"N/A\"\n",
    "            return \"N/A\"\n",
    "    except Exception as e:\n",
    "        print(f\"Error getting neighborhood for {lat}, {lon}: {e}\")\n",
    "        return \"N/A\"\n",
    "    \n",
    "    # Pause to respect usage limits.\n",
    "    time.sleep(1)\n",
    "\n",
    "# Example usage: Apply to your DataFrame 'df' that already has 'lat' and 'lon' columns.\n",
    "df['neighborhood'] = df.apply(lambda row: get_neighborhood(row['lat'], row['lon']), axis=1)\n",
    "\n",
    "# Save the updated neighborhood cache.\n",
    "with open(\"neighborhood_cache.pkl\", \"wb\") as f:\n",
    "    pickle.dump(neighborhood_cache, f)\n",
    "\n",
    "df.head()\n"
   ]
  },
  {
   "cell_type": "markdown",
   "id": "6ea7686d",
   "metadata": {
    "papermill": {
     "duration": 0.004912,
     "end_time": "2025-07-24T01:10:16.476238",
     "exception": false,
     "start_time": "2025-07-24T01:10:16.471326",
     "status": "completed"
    },
    "tags": []
   },
   "source": [
    "### Zip"
   ]
  },
  {
   "cell_type": "code",
   "execution_count": 11,
   "id": "7c584e6d",
   "metadata": {
    "execution": {
     "iopub.execute_input": "2025-07-24T01:10:16.486780Z",
     "iopub.status.busy": "2025-07-24T01:10:16.486567Z",
     "iopub.status.idle": "2025-07-24T01:11:26.864130Z",
     "shell.execute_reply": "2025-07-24T01:11:26.863552Z"
    },
    "papermill": {
     "duration": 70.384012,
     "end_time": "2025-07-24T01:11:26.865118",
     "exception": false,
     "start_time": "2025-07-24T01:10:16.481106",
     "status": "completed"
    },
    "tags": []
   },
   "outputs": [
    {
     "name": "stdout",
     "output_type": "stream",
     "text": [
      "Loaded zip cache.\n",
      "Error getting ZIP for nan, nan: Must be a coordinate pair or Point\n"
     ]
    },
    {
     "name": "stdout",
     "output_type": "stream",
     "text": [
      "Error getting ZIP for nan, nan: Must be a coordinate pair or Point\n"
     ]
    },
    {
     "name": "stdout",
     "output_type": "stream",
     "text": [
      "Error getting ZIP for nan, nan: Must be a coordinate pair or Point\n"
     ]
    },
    {
     "name": "stdout",
     "output_type": "stream",
     "text": [
      "Error getting ZIP for nan, nan: Must be a coordinate pair or Point\n"
     ]
    },
    {
     "name": "stdout",
     "output_type": "stream",
     "text": [
      "Error getting ZIP for nan, nan: Must be a coordinate pair or Point\n"
     ]
    },
    {
     "name": "stdout",
     "output_type": "stream",
     "text": [
      "Error getting ZIP for nan, nan: Must be a coordinate pair or Point\n"
     ]
    },
    {
     "name": "stdout",
     "output_type": "stream",
     "text": [
      "Error getting ZIP for nan, nan: Must be a coordinate pair or Point\n"
     ]
    },
    {
     "name": "stdout",
     "output_type": "stream",
     "text": [
      "Error getting ZIP for nan, nan: Must be a coordinate pair or Point\n"
     ]
    },
    {
     "name": "stdout",
     "output_type": "stream",
     "text": [
      "Error getting ZIP for nan, nan: Must be a coordinate pair or Point\n"
     ]
    },
    {
     "name": "stdout",
     "output_type": "stream",
     "text": [
      "Error getting ZIP for nan, nan: Must be a coordinate pair or Point\n"
     ]
    },
    {
     "name": "stdout",
     "output_type": "stream",
     "text": [
      "Error getting ZIP for nan, nan: Must be a coordinate pair or Point\n"
     ]
    },
    {
     "name": "stdout",
     "output_type": "stream",
     "text": [
      "Error getting ZIP for nan, nan: Must be a coordinate pair or Point\n"
     ]
    },
    {
     "name": "stdout",
     "output_type": "stream",
     "text": [
      "Error getting ZIP for nan, nan: Must be a coordinate pair or Point\n"
     ]
    },
    {
     "name": "stdout",
     "output_type": "stream",
     "text": [
      "Error getting ZIP for nan, nan: Must be a coordinate pair or Point\n"
     ]
    },
    {
     "name": "stdout",
     "output_type": "stream",
     "text": [
      "Error getting ZIP for nan, nan: Must be a coordinate pair or Point\n"
     ]
    },
    {
     "name": "stdout",
     "output_type": "stream",
     "text": [
      "Error getting ZIP for nan, nan: Must be a coordinate pair or Point\n"
     ]
    },
    {
     "name": "stdout",
     "output_type": "stream",
     "text": [
      "Error getting ZIP for nan, nan: Must be a coordinate pair or Point\n"
     ]
    },
    {
     "name": "stdout",
     "output_type": "stream",
     "text": [
      "Error getting ZIP for nan, nan: Must be a coordinate pair or Point\n"
     ]
    },
    {
     "name": "stdout",
     "output_type": "stream",
     "text": [
      "Error getting ZIP for nan, nan: Must be a coordinate pair or Point\n"
     ]
    },
    {
     "name": "stdout",
     "output_type": "stream",
     "text": [
      "Error getting ZIP for nan, nan: Must be a coordinate pair or Point\n"
     ]
    },
    {
     "name": "stdout",
     "output_type": "stream",
     "text": [
      "Error getting ZIP for nan, nan: Must be a coordinate pair or Point\n"
     ]
    },
    {
     "name": "stdout",
     "output_type": "stream",
     "text": [
      "Error getting ZIP for nan, nan: Must be a coordinate pair or Point\n"
     ]
    },
    {
     "name": "stdout",
     "output_type": "stream",
     "text": [
      "Error getting ZIP for nan, nan: Must be a coordinate pair or Point\n"
     ]
    },
    {
     "name": "stdout",
     "output_type": "stream",
     "text": [
      "Error getting ZIP for nan, nan: Must be a coordinate pair or Point\n"
     ]
    },
    {
     "name": "stdout",
     "output_type": "stream",
     "text": [
      "Error getting ZIP for nan, nan: Must be a coordinate pair or Point\n"
     ]
    },
    {
     "name": "stdout",
     "output_type": "stream",
     "text": [
      "Error getting ZIP for nan, nan: Must be a coordinate pair or Point\n"
     ]
    },
    {
     "name": "stdout",
     "output_type": "stream",
     "text": [
      "Error getting ZIP for nan, nan: Must be a coordinate pair or Point\n"
     ]
    },
    {
     "name": "stdout",
     "output_type": "stream",
     "text": [
      "Error getting ZIP for nan, nan: Must be a coordinate pair or Point\n"
     ]
    },
    {
     "name": "stdout",
     "output_type": "stream",
     "text": [
      "Error getting ZIP for nan, nan: Must be a coordinate pair or Point\n"
     ]
    },
    {
     "name": "stdout",
     "output_type": "stream",
     "text": [
      "Error getting ZIP for nan, nan: Must be a coordinate pair or Point\n"
     ]
    },
    {
     "name": "stdout",
     "output_type": "stream",
     "text": [
      "Error getting ZIP for nan, nan: Must be a coordinate pair or Point\n"
     ]
    },
    {
     "name": "stdout",
     "output_type": "stream",
     "text": [
      "Error getting ZIP for nan, nan: Must be a coordinate pair or Point\n"
     ]
    },
    {
     "name": "stdout",
     "output_type": "stream",
     "text": [
      "Error getting ZIP for nan, nan: Must be a coordinate pair or Point\n"
     ]
    },
    {
     "name": "stdout",
     "output_type": "stream",
     "text": [
      "Error getting ZIP for nan, nan: Must be a coordinate pair or Point\n"
     ]
    },
    {
     "name": "stdout",
     "output_type": "stream",
     "text": [
      "Error getting ZIP for nan, nan: Must be a coordinate pair or Point\n"
     ]
    },
    {
     "name": "stdout",
     "output_type": "stream",
     "text": [
      "Error getting ZIP for nan, nan: Must be a coordinate pair or Point\n"
     ]
    },
    {
     "name": "stdout",
     "output_type": "stream",
     "text": [
      "Error getting ZIP for nan, nan: Must be a coordinate pair or Point\n"
     ]
    },
    {
     "name": "stdout",
     "output_type": "stream",
     "text": [
      "Error getting ZIP for nan, nan: Must be a coordinate pair or Point\n"
     ]
    },
    {
     "name": "stdout",
     "output_type": "stream",
     "text": [
      "Error getting ZIP for nan, nan: Must be a coordinate pair or Point\n"
     ]
    },
    {
     "name": "stdout",
     "output_type": "stream",
     "text": [
      "Error getting ZIP for nan, nan: Must be a coordinate pair or Point\n"
     ]
    },
    {
     "name": "stdout",
     "output_type": "stream",
     "text": [
      "Error getting ZIP for nan, nan: Must be a coordinate pair or Point\n"
     ]
    },
    {
     "name": "stdout",
     "output_type": "stream",
     "text": [
      "Error getting ZIP for nan, nan: Must be a coordinate pair or Point\n"
     ]
    },
    {
     "name": "stdout",
     "output_type": "stream",
     "text": [
      "Error getting ZIP for nan, nan: Must be a coordinate pair or Point\n"
     ]
    },
    {
     "name": "stdout",
     "output_type": "stream",
     "text": [
      "Error getting ZIP for nan, nan: Must be a coordinate pair or Point\n"
     ]
    },
    {
     "name": "stdout",
     "output_type": "stream",
     "text": [
      "Error getting ZIP for nan, nan: Must be a coordinate pair or Point\n"
     ]
    },
    {
     "name": "stdout",
     "output_type": "stream",
     "text": [
      "Error getting ZIP for nan, nan: Must be a coordinate pair or Point\n"
     ]
    },
    {
     "name": "stdout",
     "output_type": "stream",
     "text": [
      "Error getting ZIP for nan, nan: Must be a coordinate pair or Point\n"
     ]
    },
    {
     "name": "stdout",
     "output_type": "stream",
     "text": [
      "Error getting ZIP for nan, nan: Must be a coordinate pair or Point\n"
     ]
    },
    {
     "name": "stdout",
     "output_type": "stream",
     "text": [
      "Error getting ZIP for nan, nan: Must be a coordinate pair or Point\n"
     ]
    },
    {
     "name": "stdout",
     "output_type": "stream",
     "text": [
      "Error getting ZIP for nan, nan: Must be a coordinate pair or Point\n"
     ]
    },
    {
     "name": "stdout",
     "output_type": "stream",
     "text": [
      "Error getting ZIP for nan, nan: Must be a coordinate pair or Point\n"
     ]
    },
    {
     "name": "stdout",
     "output_type": "stream",
     "text": [
      "Error getting ZIP for nan, nan: Must be a coordinate pair or Point\n"
     ]
    },
    {
     "name": "stdout",
     "output_type": "stream",
     "text": [
      "Error getting ZIP for nan, nan: Must be a coordinate pair or Point\n"
     ]
    },
    {
     "name": "stdout",
     "output_type": "stream",
     "text": [
      "Error getting ZIP for nan, nan: Must be a coordinate pair or Point\n"
     ]
    },
    {
     "name": "stdout",
     "output_type": "stream",
     "text": [
      "Error getting ZIP for nan, nan: Must be a coordinate pair or Point\n"
     ]
    },
    {
     "name": "stdout",
     "output_type": "stream",
     "text": [
      "Error getting ZIP for nan, nan: Must be a coordinate pair or Point\n"
     ]
    },
    {
     "name": "stdout",
     "output_type": "stream",
     "text": [
      "Error getting ZIP for nan, nan: Must be a coordinate pair or Point\n"
     ]
    },
    {
     "name": "stdout",
     "output_type": "stream",
     "text": [
      "Error getting ZIP for nan, nan: Must be a coordinate pair or Point\n"
     ]
    },
    {
     "name": "stdout",
     "output_type": "stream",
     "text": [
      "Error getting ZIP for nan, nan: Must be a coordinate pair or Point\n"
     ]
    },
    {
     "name": "stdout",
     "output_type": "stream",
     "text": [
      "Error getting ZIP for nan, nan: Must be a coordinate pair or Point\n"
     ]
    },
    {
     "name": "stdout",
     "output_type": "stream",
     "text": [
      "Error getting ZIP for nan, nan: Must be a coordinate pair or Point\n"
     ]
    },
    {
     "name": "stdout",
     "output_type": "stream",
     "text": [
      "Error getting ZIP for nan, nan: Must be a coordinate pair or Point\n"
     ]
    },
    {
     "name": "stdout",
     "output_type": "stream",
     "text": [
      "Error getting ZIP for nan, nan: Must be a coordinate pair or Point\n"
     ]
    },
    {
     "name": "stdout",
     "output_type": "stream",
     "text": [
      "Error getting ZIP for nan, nan: Must be a coordinate pair or Point\n"
     ]
    },
    {
     "name": "stdout",
     "output_type": "stream",
     "text": [
      "Error getting ZIP for nan, nan: Must be a coordinate pair or Point\n"
     ]
    },
    {
     "name": "stdout",
     "output_type": "stream",
     "text": [
      "Error getting ZIP for nan, nan: Must be a coordinate pair or Point\n"
     ]
    },
    {
     "name": "stdout",
     "output_type": "stream",
     "text": [
      "Error getting ZIP for nan, nan: Must be a coordinate pair or Point\n"
     ]
    },
    {
     "name": "stdout",
     "output_type": "stream",
     "text": [
      "Error getting ZIP for nan, nan: Must be a coordinate pair or Point\n"
     ]
    },
    {
     "name": "stdout",
     "output_type": "stream",
     "text": [
      "Error getting ZIP for nan, nan: Must be a coordinate pair or Point\n"
     ]
    },
    {
     "name": "stdout",
     "output_type": "stream",
     "text": [
      "Error getting ZIP for nan, nan: Must be a coordinate pair or Point\n"
     ]
    },
    {
     "data": {
      "text/html": [
       "<div>\n",
       "<style scoped>\n",
       "    .dataframe tbody tr th:only-of-type {\n",
       "        vertical-align: middle;\n",
       "    }\n",
       "\n",
       "    .dataframe tbody tr th {\n",
       "        vertical-align: top;\n",
       "    }\n",
       "\n",
       "    .dataframe thead th {\n",
       "        text-align: right;\n",
       "    }\n",
       "</style>\n",
       "<table border=\"1\" class=\"dataframe\">\n",
       "  <thead>\n",
       "    <tr style=\"text-align: right;\">\n",
       "      <th></th>\n",
       "      <th>RecordID</th>\n",
       "      <th>Offense</th>\n",
       "      <th>IncidentID</th>\n",
       "      <th>BlockNumber</th>\n",
       "      <th>StreetName</th>\n",
       "      <th>Agency</th>\n",
       "      <th>HourReported</th>\n",
       "      <th>ReportingOfficer</th>\n",
       "      <th>Date</th>\n",
       "      <th>DateString</th>\n",
       "      <th>DayOfWeek</th>\n",
       "      <th>Weekend</th>\n",
       "      <th>Season</th>\n",
       "      <th>HourAMPM</th>\n",
       "      <th>TimeOfDay</th>\n",
       "      <th>FullStreet</th>\n",
       "      <th>lat</th>\n",
       "      <th>lon</th>\n",
       "      <th>neighborhood</th>\n",
       "      <th>zip</th>\n",
       "    </tr>\n",
       "  </thead>\n",
       "  <tbody>\n",
       "    <tr>\n",
       "      <th>0</th>\n",
       "      <td>1</td>\n",
       "      <td>Sex Offense - Forcible Rape</td>\n",
       "      <td>202500025672</td>\n",
       "      <td>200</td>\n",
       "      <td>RIDGE ST</td>\n",
       "      <td>CPD</td>\n",
       "      <td>2121</td>\n",
       "      <td>Benbow, Lauren</td>\n",
       "      <td>2025-07-21 21:21:37</td>\n",
       "      <td>2025-07-21 09:21:37 PM</td>\n",
       "      <td>Monday</td>\n",
       "      <td>False</td>\n",
       "      <td>Summer</td>\n",
       "      <td>09:21 PM</td>\n",
       "      <td>Night</td>\n",
       "      <td>200 RIDGE ST</td>\n",
       "      <td>38.029522</td>\n",
       "      <td>-78.485560</td>\n",
       "      <td>Fifeville</td>\n",
       "      <td>22902</td>\n",
       "    </tr>\n",
       "    <tr>\n",
       "      <th>1</th>\n",
       "      <td>2</td>\n",
       "      <td>Extortion/Blackmail</td>\n",
       "      <td>202500025666</td>\n",
       "      <td>4000</td>\n",
       "      <td>CITY WALK WAY, 349</td>\n",
       "      <td>CPD</td>\n",
       "      <td>2044</td>\n",
       "      <td>Crowley, Raeann</td>\n",
       "      <td>2025-07-21 20:44:30</td>\n",
       "      <td>2025-07-21 08:44:30 PM</td>\n",
       "      <td>Monday</td>\n",
       "      <td>False</td>\n",
       "      <td>Summer</td>\n",
       "      <td>08:44 PM</td>\n",
       "      <td>Evening</td>\n",
       "      <td>4000 CITY WALK WAY, 349</td>\n",
       "      <td>NaN</td>\n",
       "      <td>NaN</td>\n",
       "      <td>N/A</td>\n",
       "      <td>N/A</td>\n",
       "    </tr>\n",
       "    <tr>\n",
       "      <th>2</th>\n",
       "      <td>3</td>\n",
       "      <td>Larceny - Shoplifitng</td>\n",
       "      <td>202500025655</td>\n",
       "      <td>1200</td>\n",
       "      <td>EMMET ST N, 120</td>\n",
       "      <td>CPD</td>\n",
       "      <td>1854</td>\n",
       "      <td>Buckley, Michael</td>\n",
       "      <td>2025-07-21 18:54:34</td>\n",
       "      <td>2025-07-21 06:54:34 PM</td>\n",
       "      <td>Monday</td>\n",
       "      <td>False</td>\n",
       "      <td>Summer</td>\n",
       "      <td>06:54 PM</td>\n",
       "      <td>Evening</td>\n",
       "      <td>1200 EMMET ST N, 120</td>\n",
       "      <td>38.052917</td>\n",
       "      <td>-78.498591</td>\n",
       "      <td>The Meadows</td>\n",
       "      <td>22905</td>\n",
       "    </tr>\n",
       "    <tr>\n",
       "      <th>3</th>\n",
       "      <td>4</td>\n",
       "      <td>Larceny - Shoplifitng</td>\n",
       "      <td>202500025644</td>\n",
       "      <td>500</td>\n",
       "      <td>W MAIN ST</td>\n",
       "      <td>CPD</td>\n",
       "      <td>1737</td>\n",
       "      <td>Benbow, Lauren</td>\n",
       "      <td>2025-07-21 17:37:37</td>\n",
       "      <td>2025-07-21 05:37:37 PM</td>\n",
       "      <td>Monday</td>\n",
       "      <td>False</td>\n",
       "      <td>Summer</td>\n",
       "      <td>05:37 PM</td>\n",
       "      <td>Evening</td>\n",
       "      <td>500 W MAIN ST</td>\n",
       "      <td>38.030793</td>\n",
       "      <td>-78.487912</td>\n",
       "      <td>Starr Hill</td>\n",
       "      <td>22903</td>\n",
       "    </tr>\n",
       "    <tr>\n",
       "      <th>4</th>\n",
       "      <td>5</td>\n",
       "      <td>Animal - Bite</td>\n",
       "      <td>202500025605</td>\n",
       "      <td>500</td>\n",
       "      <td>RIDGE ST</td>\n",
       "      <td>CPD</td>\n",
       "      <td>1409</td>\n",
       "      <td>Carelsen, Louise</td>\n",
       "      <td>2025-07-21 14:09:13</td>\n",
       "      <td>2025-07-21 02:09:13 PM</td>\n",
       "      <td>Monday</td>\n",
       "      <td>False</td>\n",
       "      <td>Summer</td>\n",
       "      <td>02:09 PM</td>\n",
       "      <td>Afternoon</td>\n",
       "      <td>500 RIDGE ST</td>\n",
       "      <td>38.027107</td>\n",
       "      <td>-78.486703</td>\n",
       "      <td>Fifeville</td>\n",
       "      <td>22903</td>\n",
       "    </tr>\n",
       "  </tbody>\n",
       "</table>\n",
       "</div>"
      ],
      "text/plain": [
       "   RecordID                      Offense    IncidentID BlockNumber  \\\n",
       "0         1  Sex Offense - Forcible Rape  202500025672         200   \n",
       "1         2          Extortion/Blackmail  202500025666        4000   \n",
       "2         3        Larceny - Shoplifitng  202500025655        1200   \n",
       "3         4        Larceny - Shoplifitng  202500025644         500   \n",
       "4         5                Animal - Bite  202500025605         500   \n",
       "\n",
       "           StreetName Agency HourReported  ReportingOfficer  \\\n",
       "0            RIDGE ST    CPD         2121    Benbow, Lauren   \n",
       "1  CITY WALK WAY, 349    CPD         2044   Crowley, Raeann   \n",
       "2     EMMET ST N, 120    CPD         1854  Buckley, Michael   \n",
       "3           W MAIN ST    CPD         1737    Benbow, Lauren   \n",
       "4            RIDGE ST    CPD         1409  Carelsen, Louise   \n",
       "\n",
       "                 Date              DateString DayOfWeek  Weekend  Season  \\\n",
       "0 2025-07-21 21:21:37  2025-07-21 09:21:37 PM    Monday    False  Summer   \n",
       "1 2025-07-21 20:44:30  2025-07-21 08:44:30 PM    Monday    False  Summer   \n",
       "2 2025-07-21 18:54:34  2025-07-21 06:54:34 PM    Monday    False  Summer   \n",
       "3 2025-07-21 17:37:37  2025-07-21 05:37:37 PM    Monday    False  Summer   \n",
       "4 2025-07-21 14:09:13  2025-07-21 02:09:13 PM    Monday    False  Summer   \n",
       "\n",
       "   HourAMPM  TimeOfDay               FullStreet        lat        lon  \\\n",
       "0  09:21 PM      Night             200 RIDGE ST  38.029522 -78.485560   \n",
       "1  08:44 PM    Evening  4000 CITY WALK WAY, 349        NaN        NaN   \n",
       "2  06:54 PM    Evening     1200 EMMET ST N, 120  38.052917 -78.498591   \n",
       "3  05:37 PM    Evening            500 W MAIN ST  38.030793 -78.487912   \n",
       "4  02:09 PM  Afternoon             500 RIDGE ST  38.027107 -78.486703   \n",
       "\n",
       "  neighborhood    zip  \n",
       "0    Fifeville  22902  \n",
       "1          N/A    N/A  \n",
       "2  The Meadows  22905  \n",
       "3   Starr Hill  22903  \n",
       "4    Fifeville  22903  "
      ]
     },
     "execution_count": 11,
     "metadata": {},
     "output_type": "execute_result"
    }
   ],
   "source": [
    "# Initialize the geocoder.\n",
    "geolocator = Nominatim(user_agent=\"zip_lookup\")\n",
    "\n",
    "# Try to load a persistent ZIP cache if available.\n",
    "try:\n",
    "    with open(\"zip_cache.pkl\", \"rb\") as f:\n",
    "        zip_cache = pickle.load(f)\n",
    "    print(\"Loaded zip cache.\")\n",
    "except FileNotFoundError:\n",
    "    zip_cache = {}\n",
    "    print(\"No zip cache found; starting fresh.\")\n",
    "\n",
    "def get_zip(lat, lon):\n",
    "    \"\"\"\n",
    "    Reverse geocodes a latitude and longitude to retrieve the ZIP code.\n",
    "    Caches results to speed up subsequent lookups.\n",
    "    \"\"\"\n",
    "    key = (lat, lon)\n",
    "    if key in zip_cache:\n",
    "        return zip_cache[key]\n",
    "    \n",
    "    try:\n",
    "        location = geolocator.reverse((lat, lon), exactly_one=True, timeout=10)\n",
    "        address = location.raw.get('address', {})\n",
    "        postal_code = address.get('postcode', \"N/A\")\n",
    "    except Exception as e:\n",
    "        print(f\"Error getting ZIP for {lat}, {lon}: {e}\")\n",
    "        postal_code = \"N/A\"\n",
    "    \n",
    "    zip_cache[key] = postal_code\n",
    "    # Pause to respect the usage policy.\n",
    "    time.sleep(1)\n",
    "    return postal_code\n",
    "\n",
    "# Apply the function to each row in the DataFrame.\n",
    "df['zip'] = df.apply(lambda row: get_zip(row['lat'], row['lon']), axis=1)\n",
    "\n",
    "# Save the updated ZIP cache.\n",
    "with open(\"zip_cache.pkl\", \"wb\") as f:\n",
    "    pickle.dump(zip_cache, f)\n",
    "\n",
    "df.head()\n"
   ]
  },
  {
   "cell_type": "code",
   "execution_count": 12,
   "id": "17c9e73e",
   "metadata": {
    "execution": {
     "iopub.execute_input": "2025-07-24T01:11:26.882427Z",
     "iopub.status.busy": "2025-07-24T01:11:26.882175Z",
     "iopub.status.idle": "2025-07-24T01:11:26.909998Z",
     "shell.execute_reply": "2025-07-24T01:11:26.909346Z"
    },
    "papermill": {
     "duration": 0.037388,
     "end_time": "2025-07-24T01:11:26.910983",
     "exception": false,
     "start_time": "2025-07-24T01:11:26.873595",
     "status": "completed"
    },
    "tags": []
   },
   "outputs": [
    {
     "name": "stdout",
     "output_type": "stream",
     "text": [
      "                  MissingCount  MissingPercentage\n",
      "RecordID                     0               0.00\n",
      "Offense                      0               0.00\n",
      "IncidentID                   0               0.00\n",
      "BlockNumber                  0               0.00\n",
      "StreetName                   0               0.00\n",
      "Agency                       0               0.00\n",
      "HourReported                 0               0.00\n",
      "ReportingOfficer            17               0.07\n",
      "Date                         0               0.00\n",
      "DateString                   0               0.00\n",
      "DayOfWeek                    0               0.00\n",
      "Weekend                      0               0.00\n",
      "Season                       0               0.00\n",
      "HourAMPM                     0               0.00\n",
      "TimeOfDay                    0               0.00\n",
      "FullStreet                   0               0.00\n",
      "lat                         70               0.27\n",
      "lon                         70               0.27\n",
      "neighborhood                 0               0.00\n",
      "zip                          0               0.00\n"
     ]
    }
   ],
   "source": [
    "missing_info = missing_percentage(df)\n",
    "print(missing_info)\n"
   ]
  },
  {
   "cell_type": "code",
   "execution_count": 13,
   "id": "7051fbd7",
   "metadata": {
    "execution": {
     "iopub.execute_input": "2025-07-24T01:11:26.928086Z",
     "iopub.status.busy": "2025-07-24T01:11:26.927859Z",
     "iopub.status.idle": "2025-07-24T01:11:26.953541Z",
     "shell.execute_reply": "2025-07-24T01:11:26.952992Z"
    },
    "papermill": {
     "duration": 0.03529,
     "end_time": "2025-07-24T01:11:26.954564",
     "exception": false,
     "start_time": "2025-07-24T01:11:26.919274",
     "status": "completed"
    },
    "tags": []
   },
   "outputs": [
    {
     "name": "stdout",
     "output_type": "stream",
     "text": [
      "<class 'pandas.core.frame.DataFrame'>\n",
      "RangeIndex: 25566 entries, 0 to 25565\n",
      "Data columns (total 20 columns):\n",
      " #   Column            Non-Null Count  Dtype         \n",
      "---  ------            --------------  -----         \n",
      " 0   RecordID          25566 non-null  int64         \n",
      " 1   Offense           25566 non-null  object        \n",
      " 2   IncidentID        25566 non-null  object        \n",
      " 3   BlockNumber       25566 non-null  object        \n",
      " 4   StreetName        25566 non-null  object        \n",
      " 5   Agency            25566 non-null  object        \n",
      " 6   HourReported      25566 non-null  object        \n",
      " 7   ReportingOfficer  25549 non-null  object        \n",
      " 8   Date              25566 non-null  datetime64[ns]\n",
      " 9   DateString        25566 non-null  object        \n",
      " 10  DayOfWeek         25566 non-null  object        \n",
      " 11  Weekend           25566 non-null  bool          \n",
      " 12  Season            25566 non-null  object        \n",
      " 13  HourAMPM          25566 non-null  object        \n",
      " 14  TimeOfDay         25566 non-null  object        \n",
      " 15  FullStreet        25566 non-null  object        \n",
      " 16  lat               25496 non-null  float64       \n",
      " 17  lon               25496 non-null  float64       \n",
      " 18  neighborhood      25566 non-null  object        \n",
      " 19  zip               25566 non-null  object        \n",
      "dtypes: bool(1), datetime64[ns](1), float64(2), int64(1), object(15)\n",
      "memory usage: 3.7+ MB\n"
     ]
    }
   ],
   "source": [
    "df.info()"
   ]
  },
  {
   "cell_type": "code",
   "execution_count": 14,
   "id": "a376a76e",
   "metadata": {
    "execution": {
     "iopub.execute_input": "2025-07-24T01:11:26.971861Z",
     "iopub.status.busy": "2025-07-24T01:11:26.971676Z",
     "iopub.status.idle": "2025-07-24T01:11:27.012438Z",
     "shell.execute_reply": "2025-07-24T01:11:27.011706Z"
    },
    "papermill": {
     "duration": 0.050531,
     "end_time": "2025-07-24T01:11:27.013455",
     "exception": false,
     "start_time": "2025-07-24T01:11:26.962924",
     "status": "completed"
    },
    "tags": []
   },
   "outputs": [
    {
     "data": {
      "text/html": [
       "<div>\n",
       "<style scoped>\n",
       "    .dataframe tbody tr th:only-of-type {\n",
       "        vertical-align: middle;\n",
       "    }\n",
       "\n",
       "    .dataframe tbody tr th {\n",
       "        vertical-align: top;\n",
       "    }\n",
       "\n",
       "    .dataframe thead th {\n",
       "        text-align: right;\n",
       "    }\n",
       "</style>\n",
       "<table border=\"1\" class=\"dataframe\">\n",
       "  <thead>\n",
       "    <tr style=\"text-align: right;\">\n",
       "      <th></th>\n",
       "      <th>RecordID</th>\n",
       "      <th>Offense</th>\n",
       "      <th>IncidentID</th>\n",
       "      <th>Agency</th>\n",
       "      <th>ReportingOfficer</th>\n",
       "      <th>Date</th>\n",
       "      <th>DayOfWeek</th>\n",
       "      <th>Weekend</th>\n",
       "      <th>Season</th>\n",
       "      <th>TimeOfDay</th>\n",
       "      <th>FullStreet</th>\n",
       "      <th>lat</th>\n",
       "      <th>lon</th>\n",
       "      <th>neighborhood</th>\n",
       "      <th>zip</th>\n",
       "    </tr>\n",
       "  </thead>\n",
       "  <tbody>\n",
       "    <tr>\n",
       "      <th>0</th>\n",
       "      <td>1</td>\n",
       "      <td>Sex Offense - Forcible Rape</td>\n",
       "      <td>202500025672</td>\n",
       "      <td>CPD</td>\n",
       "      <td>Benbow, Lauren</td>\n",
       "      <td>2025-07-21 21:21:37</td>\n",
       "      <td>Monday</td>\n",
       "      <td>False</td>\n",
       "      <td>Summer</td>\n",
       "      <td>Night</td>\n",
       "      <td>200 RIDGE ST</td>\n",
       "      <td>38.029522</td>\n",
       "      <td>-78.48556</td>\n",
       "      <td>Fifeville</td>\n",
       "      <td>22902</td>\n",
       "    </tr>\n",
       "    <tr>\n",
       "      <th>1</th>\n",
       "      <td>2</td>\n",
       "      <td>Extortion/Blackmail</td>\n",
       "      <td>202500025666</td>\n",
       "      <td>CPD</td>\n",
       "      <td>Crowley, Raeann</td>\n",
       "      <td>2025-07-21 20:44:30</td>\n",
       "      <td>Monday</td>\n",
       "      <td>False</td>\n",
       "      <td>Summer</td>\n",
       "      <td>Evening</td>\n",
       "      <td>4000 CITY WALK WAY, 349</td>\n",
       "      <td>N/A</td>\n",
       "      <td>N/A</td>\n",
       "      <td>N/A</td>\n",
       "      <td>N/A</td>\n",
       "    </tr>\n",
       "    <tr>\n",
       "      <th>2</th>\n",
       "      <td>3</td>\n",
       "      <td>Larceny - Shoplifitng</td>\n",
       "      <td>202500025655</td>\n",
       "      <td>CPD</td>\n",
       "      <td>Buckley, Michael</td>\n",
       "      <td>2025-07-21 18:54:34</td>\n",
       "      <td>Monday</td>\n",
       "      <td>False</td>\n",
       "      <td>Summer</td>\n",
       "      <td>Evening</td>\n",
       "      <td>1200 EMMET ST N, 120</td>\n",
       "      <td>38.052917</td>\n",
       "      <td>-78.498591</td>\n",
       "      <td>The Meadows</td>\n",
       "      <td>22905</td>\n",
       "    </tr>\n",
       "    <tr>\n",
       "      <th>3</th>\n",
       "      <td>4</td>\n",
       "      <td>Larceny - Shoplifitng</td>\n",
       "      <td>202500025644</td>\n",
       "      <td>CPD</td>\n",
       "      <td>Benbow, Lauren</td>\n",
       "      <td>2025-07-21 17:37:37</td>\n",
       "      <td>Monday</td>\n",
       "      <td>False</td>\n",
       "      <td>Summer</td>\n",
       "      <td>Evening</td>\n",
       "      <td>500 W MAIN ST</td>\n",
       "      <td>38.030793</td>\n",
       "      <td>-78.487912</td>\n",
       "      <td>Starr Hill</td>\n",
       "      <td>22903</td>\n",
       "    </tr>\n",
       "    <tr>\n",
       "      <th>4</th>\n",
       "      <td>5</td>\n",
       "      <td>Animal - Bite</td>\n",
       "      <td>202500025605</td>\n",
       "      <td>CPD</td>\n",
       "      <td>Carelsen, Louise</td>\n",
       "      <td>2025-07-21 14:09:13</td>\n",
       "      <td>Monday</td>\n",
       "      <td>False</td>\n",
       "      <td>Summer</td>\n",
       "      <td>Afternoon</td>\n",
       "      <td>500 RIDGE ST</td>\n",
       "      <td>38.027107</td>\n",
       "      <td>-78.486703</td>\n",
       "      <td>Fifeville</td>\n",
       "      <td>22903</td>\n",
       "    </tr>\n",
       "  </tbody>\n",
       "</table>\n",
       "</div>"
      ],
      "text/plain": [
       "   RecordID                      Offense    IncidentID Agency  \\\n",
       "0         1  Sex Offense - Forcible Rape  202500025672    CPD   \n",
       "1         2          Extortion/Blackmail  202500025666    CPD   \n",
       "2         3        Larceny - Shoplifitng  202500025655    CPD   \n",
       "3         4        Larceny - Shoplifitng  202500025644    CPD   \n",
       "4         5                Animal - Bite  202500025605    CPD   \n",
       "\n",
       "   ReportingOfficer                Date DayOfWeek  Weekend  Season  TimeOfDay  \\\n",
       "0    Benbow, Lauren 2025-07-21 21:21:37    Monday    False  Summer      Night   \n",
       "1   Crowley, Raeann 2025-07-21 20:44:30    Monday    False  Summer    Evening   \n",
       "2  Buckley, Michael 2025-07-21 18:54:34    Monday    False  Summer    Evening   \n",
       "3    Benbow, Lauren 2025-07-21 17:37:37    Monday    False  Summer    Evening   \n",
       "4  Carelsen, Louise 2025-07-21 14:09:13    Monday    False  Summer  Afternoon   \n",
       "\n",
       "                FullStreet        lat        lon neighborhood    zip  \n",
       "0             200 RIDGE ST  38.029522  -78.48556    Fifeville  22902  \n",
       "1  4000 CITY WALK WAY, 349        N/A        N/A          N/A    N/A  \n",
       "2     1200 EMMET ST N, 120  38.052917 -78.498591  The Meadows  22905  \n",
       "3            500 W MAIN ST  38.030793 -78.487912   Starr Hill  22903  \n",
       "4             500 RIDGE ST  38.027107 -78.486703    Fifeville  22903  "
      ]
     },
     "execution_count": 14,
     "metadata": {},
     "output_type": "execute_result"
    }
   ],
   "source": [
    "# Now drop the original BlockNumber and StreetName columns\n",
    "df.drop(columns=['BlockNumber', 'StreetName','HourAMPM','HourReported','DateString'], inplace=True)\n",
    "df[\"zip\"] = df[\"zip\"].astype(str)\n",
    "\n",
    "# Fill all missing values in the DataFrame with \"N/A\"\n",
    "df.replace({None: \"N/A\", np.nan: \"N/A\", \"\": \"N/A\"}, inplace=True)\n",
    "df.head()"
   ]
  },
  {
   "cell_type": "code",
   "execution_count": 15,
   "id": "d9ed71a2",
   "metadata": {
    "execution": {
     "iopub.execute_input": "2025-07-24T01:11:27.033318Z",
     "iopub.status.busy": "2025-07-24T01:11:27.033047Z",
     "iopub.status.idle": "2025-07-24T01:11:27.049867Z",
     "shell.execute_reply": "2025-07-24T01:11:27.049208Z"
    },
    "papermill": {
     "duration": 0.028386,
     "end_time": "2025-07-24T01:11:27.050859",
     "exception": false,
     "start_time": "2025-07-24T01:11:27.022473",
     "status": "completed"
    },
    "tags": []
   },
   "outputs": [
    {
     "name": "stdout",
     "output_type": "stream",
     "text": [
      "                  MissingCount  MissingPercentage\n",
      "RecordID                     0                0.0\n",
      "Offense                      0                0.0\n",
      "IncidentID                   0                0.0\n",
      "Agency                       0                0.0\n",
      "ReportingOfficer             0                0.0\n",
      "Date                         0                0.0\n",
      "DayOfWeek                    0                0.0\n",
      "Weekend                      0                0.0\n",
      "Season                       0                0.0\n",
      "TimeOfDay                    0                0.0\n",
      "FullStreet                   0                0.0\n",
      "lat                          0                0.0\n",
      "lon                          0                0.0\n",
      "neighborhood                 0                0.0\n",
      "zip                          0                0.0\n"
     ]
    }
   ],
   "source": [
    "missing_info = missing_percentage(df)\n",
    "print(missing_info)"
   ]
  },
  {
   "cell_type": "code",
   "execution_count": 16,
   "id": "0fad51e0",
   "metadata": {
    "execution": {
     "iopub.execute_input": "2025-07-24T01:11:27.068758Z",
     "iopub.status.busy": "2025-07-24T01:11:27.068542Z",
     "iopub.status.idle": "2025-07-24T01:11:27.072718Z",
     "shell.execute_reply": "2025-07-24T01:11:27.072081Z"
    },
    "papermill": {
     "duration": 0.014056,
     "end_time": "2025-07-24T01:11:27.073692",
     "exception": false,
     "start_time": "2025-07-24T01:11:27.059636",
     "status": "completed"
    },
    "tags": []
   },
   "outputs": [
    {
     "data": {
      "text/plain": [
       "Index(['RecordID', 'Offense', 'IncidentID', 'Agency', 'ReportingOfficer',\n",
       "       'Date', 'DayOfWeek', 'Weekend', 'Season', 'TimeOfDay', 'FullStreet',\n",
       "       'lat', 'lon', 'neighborhood', 'zip'],\n",
       "      dtype='object')"
      ]
     },
     "execution_count": 16,
     "metadata": {},
     "output_type": "execute_result"
    }
   ],
   "source": [
    "df.columns"
   ]
  },
  {
   "cell_type": "code",
   "execution_count": 17,
   "id": "bebeeb26",
   "metadata": {
    "execution": {
     "iopub.execute_input": "2025-07-24T01:11:27.091701Z",
     "iopub.status.busy": "2025-07-24T01:11:27.091479Z",
     "iopub.status.idle": "2025-07-24T01:11:27.108427Z",
     "shell.execute_reply": "2025-07-24T01:11:27.107836Z"
    },
    "papermill": {
     "duration": 0.027049,
     "end_time": "2025-07-24T01:11:27.109411",
     "exception": false,
     "start_time": "2025-07-24T01:11:27.082362",
     "status": "completed"
    },
    "tags": []
   },
   "outputs": [
    {
     "name": "stdout",
     "output_type": "stream",
     "text": [
      "<class 'pandas.core.frame.DataFrame'>\n",
      "RangeIndex: 25566 entries, 0 to 25565\n",
      "Data columns (total 15 columns):\n",
      " #   Column            Non-Null Count  Dtype         \n",
      "---  ------            --------------  -----         \n",
      " 0   RecordID          25566 non-null  int64         \n",
      " 1   Offense           25566 non-null  object        \n",
      " 2   IncidentID        25566 non-null  object        \n",
      " 3   Agency            25566 non-null  object        \n",
      " 4   ReportingOfficer  25566 non-null  object        \n",
      " 5   Date              25566 non-null  datetime64[ns]\n",
      " 6   DayOfWeek         25566 non-null  object        \n",
      " 7   Weekend           25566 non-null  bool          \n",
      " 8   Season            25566 non-null  object        \n",
      " 9   TimeOfDay         25566 non-null  object        \n",
      " 10  FullStreet        25566 non-null  object        \n",
      " 11  lat               25566 non-null  object        \n",
      " 12  lon               25566 non-null  object        \n",
      " 13  neighborhood      25566 non-null  object        \n",
      " 14  zip               25566 non-null  object        \n",
      "dtypes: bool(1), datetime64[ns](1), int64(1), object(12)\n",
      "memory usage: 2.8+ MB\n"
     ]
    }
   ],
   "source": [
    "df.info()"
   ]
  },
  {
   "cell_type": "markdown",
   "id": "b308ebaf",
   "metadata": {
    "papermill": {
     "duration": 0.008596,
     "end_time": "2025-07-24T01:11:27.126648",
     "exception": false,
     "start_time": "2025-07-24T01:11:27.118052",
     "status": "completed"
    },
    "tags": []
   },
   "source": [
    "### Export Clean Data"
   ]
  },
  {
   "cell_type": "code",
   "execution_count": 18,
   "id": "5a1c47b4",
   "metadata": {
    "execution": {
     "iopub.execute_input": "2025-07-24T01:11:27.144939Z",
     "iopub.status.busy": "2025-07-24T01:11:27.144711Z",
     "iopub.status.idle": "2025-07-24T01:11:36.269782Z",
     "shell.execute_reply": "2025-07-24T01:11:36.269029Z"
    },
    "papermill": {
     "duration": 9.135453,
     "end_time": "2025-07-24T01:11:36.270838",
     "exception": false,
     "start_time": "2025-07-24T01:11:27.135385",
     "status": "completed"
    },
    "tags": []
   },
   "outputs": [
    {
     "name": "stdout",
     "output_type": "stream",
     "text": [
      "Project Root: /home/runner/work/crime-data/crime-data\n"
     ]
    },
    {
     "name": "stdout",
     "output_type": "stream",
     "text": [
      "Data saved to: /home/runner/work/crime-data/crime-data/data/charlottesville_crime_incidents.csv\n"
     ]
    },
    {
     "name": "stdout",
     "output_type": "stream",
     "text": [
      "Excel saved to: /home/runner/work/crime-data/crime-data/data/charlottesville_crime_incidents.xlsx\n"
     ]
    }
   ],
   "source": [
    "# Determine the project root (assuming papermill is run from the repository root)\n",
    "project_root = os.getcwd()\n",
    "print(\"Project Root:\", project_root)\n",
    "\n",
    "# Set the data directory within the project root\n",
    "data_dir = os.path.join(project_root, \"data\")\n",
    "\n",
    "# Ensure the \"data\" directory exists (create it if it doesn't)\n",
    "if not os.path.exists(data_dir):\n",
    "    os.makedirs(data_dir)\n",
    "\n",
    "# Export the DataFrame to CSV in the \"data\" folder located in the project root\n",
    "csv_path = os.path.join(data_dir, \"charlottesville_crime_incidents.csv\")\n",
    "df.to_csv(csv_path, index=False)\n",
    "print(\"Data saved to:\", csv_path)\n",
    "\n",
    "# Construct the path to your Excel file\n",
    "excel_path = os.path.join(data_dir, \"charlottesville_crime_incidents.xlsx\")\n",
    "\n",
    "# Export the DataFrame to Excel\n",
    "df.to_excel(excel_path, index=False)\n",
    "print(\"Excel saved to:\", excel_path)\n"
   ]
  }
 ],
 "metadata": {
  "kernelspec": {
   "display_name": "Python 3",
   "language": "python",
   "name": "python3"
  },
  "language_info": {
   "codemirror_mode": {
    "name": "ipython",
    "version": 3
   },
   "file_extension": ".py",
   "mimetype": "text/x-python",
   "name": "python",
   "nbconvert_exporter": "python",
   "pygments_lexer": "ipython3",
   "version": "3.9.23"
  },
  "papermill": {
   "default_parameters": {},
   "duration": 155.847422,
   "end_time": "2025-07-24T01:11:36.696446",
   "environment_variables": {},
   "exception": null,
   "input_path": "notebook/Crime Data.ipynb",
   "output_path": "notebook/Crime Data_output.ipynb",
   "parameters": {},
   "start_time": "2025-07-24T01:09:00.849024",
   "version": "2.6.0"
  }
 },
 "nbformat": 4,
 "nbformat_minor": 5
}