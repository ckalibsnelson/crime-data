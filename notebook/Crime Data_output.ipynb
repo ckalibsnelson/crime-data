{
 "cells": [
  {
   "cell_type": "markdown",
   "id": "2eee3e1e",
   "metadata": {
    "papermill": {
     "duration": 0.006219,
     "end_time": "2025-05-02T01:01:49.965718",
     "exception": false,
     "start_time": "2025-05-02T01:01:49.959499",
     "status": "completed"
    },
    "tags": []
   },
   "source": [
    "# Charlottesville Open Data Porttal: Crime Data"
   ]
  },
  {
   "cell_type": "markdown",
   "id": "dad265b9",
   "metadata": {
    "papermill": {
     "duration": 0.005102,
     "end_time": "2025-05-02T01:01:49.976245",
     "exception": false,
     "start_time": "2025-05-02T01:01:49.971143",
     "status": "completed"
    },
    "tags": []
   },
   "source": [
    "## Import Relevant Librarires & Set WD"
   ]
  },
  {
   "cell_type": "code",
   "execution_count": 1,
   "id": "14eecf68",
   "metadata": {
    "execution": {
     "iopub.execute_input": "2025-05-02T01:01:49.987737Z",
     "iopub.status.busy": "2025-05-02T01:01:49.987255Z",
     "iopub.status.idle": "2025-05-02T01:01:50.741233Z",
     "shell.execute_reply": "2025-05-02T01:01:50.740590Z"
    },
    "papermill": {
     "duration": 0.761378,
     "end_time": "2025-05-02T01:01:50.742680",
     "exception": false,
     "start_time": "2025-05-02T01:01:49.981302",
     "status": "completed"
    },
    "tags": []
   },
   "outputs": [],
   "source": [
    "import requests\n",
    "import pandas as pd\n",
    "import numpy as np\n",
    "import pickle\n",
    "import googlemaps\n",
    "import plotly.express as px\n",
    "from geopy.geocoders import Nominatim\n",
    "import time\n",
    "from dotenv import load_dotenv\n",
    "import os\n",
    "\n",
    "env_path = os.path.join(\"..\", \".env\")\n",
    "#print(\"Looking for .env file at:\", os.path.abspath(env_path))\n",
    "load_dotenv(dotenv_path=env_path)\n",
    "\n",
    "# Retrieve the variables\n",
    "GOOGLE_API_KEY = os.getenv(\"GOOGLE_API_KEY\")\n",
    "WORKING_DIR = os.getenv(\"WORKING_DIR\")\n",
    "\n",
    "if GOOGLE_API_KEY is None or WORKING_DIR is None:\n",
    "    raise RuntimeError(\"No configuration found. Please ensure that your .env file exists with the required variables, or create a local config.py file.\")\n",
    "\n",
    "#print(\"Google API Key:\", GOOGLE_API_KEY)\n",
    "#print(\"Working Directory:\", WORKING_DIR)"
   ]
  },
  {
   "cell_type": "markdown",
   "id": "97d6556c",
   "metadata": {
    "papermill": {
     "duration": 0.005175,
     "end_time": "2025-05-02T01:01:50.753464",
     "exception": false,
     "start_time": "2025-05-02T01:01:50.748289",
     "status": "completed"
    },
    "tags": []
   },
   "source": [
    "## Import Data\n",
    "\n",
    "URL: https://opendata.charlottesville.org/datasets/charlottesville::crime-data/about"
   ]
  },
  {
   "cell_type": "code",
   "execution_count": 2,
   "id": "5c88ba86",
   "metadata": {
    "execution": {
     "iopub.execute_input": "2025-05-02T01:01:50.764978Z",
     "iopub.status.busy": "2025-05-02T01:01:50.764426Z",
     "iopub.status.idle": "2025-05-02T01:02:51.133993Z",
     "shell.execute_reply": "2025-05-02T01:02:51.133159Z"
    },
    "papermill": {
     "duration": 60.382386,
     "end_time": "2025-05-02T01:02:51.140981",
     "exception": false,
     "start_time": "2025-05-02T01:01:50.758595",
     "status": "completed"
    },
    "tags": []
   },
   "outputs": [
    {
     "name": "stdout",
     "output_type": "stream",
     "text": [
      "Total records imported: 25301\n"
     ]
    }
   ],
   "source": [
    "# Define the endpoint and initial parameters.\n",
    "url = \"https://gisweb.charlottesville.org/arcgis/rest/services/OpenData_2/MapServer/6/query\"\n",
    "params = {\n",
    "    \"where\": \"1=1\",\n",
    "    \"outFields\": \"*\",\n",
    "    \"outSR\": 4326,\n",
    "    \"f\": \"json\",\n",
    "    \"resultOffset\": 0,       # Starting index for results\n",
    "    \"resultRecordCount\": 10000  # Maximum records per batch (if allowed by the API)\n",
    "}\n",
    "\n",
    "records = []\n",
    "\n",
    "while True:\n",
    "    response = requests.get(url, params=params)\n",
    "    response.raise_for_status()\n",
    "    data = response.json()\n",
    "    \n",
    "    # Get the current batch of features.\n",
    "    features = data.get(\"features\", [])\n",
    "    if not features:\n",
    "        break\n",
    "\n",
    "    # Extract the attributes from the features.\n",
    "    batch_records = [feature.get(\"attributes\", {}) for feature in features]\n",
    "    records.extend(batch_records)\n",
    "    \n",
    "    # If the batch size is less than the requested count, we reached the end.\n",
    "    if len(features) < params[\"resultRecordCount\"]:\n",
    "        break\n",
    "\n",
    "    # Update the resultOffset for the next batch.\n",
    "    params[\"resultOffset\"] += params[\"resultRecordCount\"]\n",
    "\n",
    "# Create a DataFrame from the combined records.\n",
    "df = pd.DataFrame(records)\n",
    "print(\"Total records imported:\", len(df))\n"
   ]
  },
  {
   "cell_type": "code",
   "execution_count": 3,
   "id": "1b08d6b7",
   "metadata": {
    "execution": {
     "iopub.execute_input": "2025-05-02T01:02:51.175826Z",
     "iopub.status.busy": "2025-05-02T01:02:51.175179Z",
     "iopub.status.idle": "2025-05-02T01:02:51.187871Z",
     "shell.execute_reply": "2025-05-02T01:02:51.187216Z"
    },
    "papermill": {
     "duration": 0.042629,
     "end_time": "2025-05-02T01:02:51.188918",
     "exception": false,
     "start_time": "2025-05-02T01:02:51.146289",
     "status": "completed"
    },
    "tags": []
   },
   "outputs": [
    {
     "data": {
      "text/html": [
       "<div>\n",
       "<style scoped>\n",
       "    .dataframe tbody tr th:only-of-type {\n",
       "        vertical-align: middle;\n",
       "    }\n",
       "\n",
       "    .dataframe tbody tr th {\n",
       "        vertical-align: top;\n",
       "    }\n",
       "\n",
       "    .dataframe thead th {\n",
       "        text-align: right;\n",
       "    }\n",
       "</style>\n",
       "<table border=\"1\" class=\"dataframe\">\n",
       "  <thead>\n",
       "    <tr style=\"text-align: right;\">\n",
       "      <th></th>\n",
       "      <th>RecordID</th>\n",
       "      <th>Offense</th>\n",
       "      <th>IncidentID</th>\n",
       "      <th>BlockNumber</th>\n",
       "      <th>StreetName</th>\n",
       "      <th>Agency</th>\n",
       "      <th>DateReported</th>\n",
       "      <th>HourReported</th>\n",
       "      <th>ReportingOfficer</th>\n",
       "    </tr>\n",
       "  </thead>\n",
       "  <tbody>\n",
       "    <tr>\n",
       "      <th>0</th>\n",
       "      <td>1</td>\n",
       "      <td>Disorderly Conduct</td>\n",
       "      <td>202500014147</td>\n",
       "      <td>2000</td>\n",
       "      <td>INDIA RD</td>\n",
       "      <td>CPD</td>\n",
       "      <td>1745976788000</td>\n",
       "      <td>2133</td>\n",
       "      <td>Love-Baker, Sydney</td>\n",
       "    </tr>\n",
       "    <tr>\n",
       "      <th>1</th>\n",
       "      <td>2</td>\n",
       "      <td>Assist Citizen - Mental/TDO/ECO</td>\n",
       "      <td>202500014148</td>\n",
       "      <td>100</td>\n",
       "      <td>10 1/2 ST NW</td>\n",
       "      <td>CPD</td>\n",
       "      <td>1745976717000</td>\n",
       "      <td>2131</td>\n",
       "      <td>Bentz, Benjamin</td>\n",
       "    </tr>\n",
       "    <tr>\n",
       "      <th>2</th>\n",
       "      <td>3</td>\n",
       "      <td>Assault Aggravated</td>\n",
       "      <td>202500014138</td>\n",
       "      <td>1500</td>\n",
       "      <td>UNIVERSITY AVE</td>\n",
       "      <td>CPD</td>\n",
       "      <td>1745971943000</td>\n",
       "      <td>2012</td>\n",
       "      <td>Ritter, Kobe</td>\n",
       "    </tr>\n",
       "    <tr>\n",
       "      <th>3</th>\n",
       "      <td>4</td>\n",
       "      <td>Assault Simple</td>\n",
       "      <td>202500014123</td>\n",
       "      <td>700</td>\n",
       "      <td>STONEHENGE AVE</td>\n",
       "      <td>CPD</td>\n",
       "      <td>1745966283000</td>\n",
       "      <td>1838</td>\n",
       "      <td>Ritter, Kobe</td>\n",
       "    </tr>\n",
       "    <tr>\n",
       "      <th>4</th>\n",
       "      <td>5</td>\n",
       "      <td>Larceny - Shoplifitng</td>\n",
       "      <td>202500014121</td>\n",
       "      <td>1100</td>\n",
       "      <td>5TH ST SW</td>\n",
       "      <td>CPD</td>\n",
       "      <td>1745964470000</td>\n",
       "      <td>1807</td>\n",
       "      <td>Venereo, Arturo</td>\n",
       "    </tr>\n",
       "  </tbody>\n",
       "</table>\n",
       "</div>"
      ],
      "text/plain": [
       "   RecordID                          Offense    IncidentID BlockNumber  \\\n",
       "0         1               Disorderly Conduct  202500014147        2000   \n",
       "1         2  Assist Citizen - Mental/TDO/ECO  202500014148         100   \n",
       "2         3               Assault Aggravated  202500014138        1500   \n",
       "3         4                   Assault Simple  202500014123         700   \n",
       "4         5            Larceny - Shoplifitng  202500014121        1100   \n",
       "\n",
       "       StreetName Agency   DateReported HourReported    ReportingOfficer  \n",
       "0        INDIA RD    CPD  1745976788000         2133  Love-Baker, Sydney  \n",
       "1    10 1/2 ST NW    CPD  1745976717000         2131    Bentz, Benjamin   \n",
       "2  UNIVERSITY AVE    CPD  1745971943000         2012        Ritter, Kobe  \n",
       "3  STONEHENGE AVE    CPD  1745966283000         1838        Ritter, Kobe  \n",
       "4       5TH ST SW    CPD  1745964470000         1807     Venereo, Arturo  "
      ]
     },
     "execution_count": 3,
     "metadata": {},
     "output_type": "execute_result"
    }
   ],
   "source": [
    "df.head()"
   ]
  },
  {
   "cell_type": "code",
   "execution_count": 4,
   "id": "8fdcccee",
   "metadata": {
    "execution": {
     "iopub.execute_input": "2025-05-02T01:02:51.200665Z",
     "iopub.status.busy": "2025-05-02T01:02:51.200225Z",
     "iopub.status.idle": "2025-05-02T01:02:51.204706Z",
     "shell.execute_reply": "2025-05-02T01:02:51.204165Z"
    },
    "papermill": {
     "duration": 0.011291,
     "end_time": "2025-05-02T01:02:51.205740",
     "exception": false,
     "start_time": "2025-05-02T01:02:51.194449",
     "status": "completed"
    },
    "tags": []
   },
   "outputs": [
    {
     "data": {
      "text/plain": [
       "Index(['RecordID', 'Offense', 'IncidentID', 'BlockNumber', 'StreetName',\n",
       "       'Agency', 'DateReported', 'HourReported', 'ReportingOfficer'],\n",
       "      dtype='object')"
      ]
     },
     "execution_count": 4,
     "metadata": {},
     "output_type": "execute_result"
    }
   ],
   "source": [
    "df.columns"
   ]
  },
  {
   "cell_type": "code",
   "execution_count": 5,
   "id": "cba3b247",
   "metadata": {
    "execution": {
     "iopub.execute_input": "2025-05-02T01:02:51.217534Z",
     "iopub.status.busy": "2025-05-02T01:02:51.217293Z",
     "iopub.status.idle": "2025-05-02T01:02:51.239539Z",
     "shell.execute_reply": "2025-05-02T01:02:51.238881Z"
    },
    "papermill": {
     "duration": 0.029344,
     "end_time": "2025-05-02T01:02:51.240642",
     "exception": false,
     "start_time": "2025-05-02T01:02:51.211298",
     "status": "completed"
    },
    "tags": []
   },
   "outputs": [
    {
     "name": "stdout",
     "output_type": "stream",
     "text": [
      "<class 'pandas.core.frame.DataFrame'>\n",
      "RangeIndex: 25301 entries, 0 to 25300\n",
      "Data columns (total 9 columns):\n",
      " #   Column            Non-Null Count  Dtype \n",
      "---  ------            --------------  ----- \n",
      " 0   RecordID          25301 non-null  int64 \n",
      " 1   Offense           25301 non-null  object\n",
      " 2   IncidentID        25301 non-null  object\n",
      " 3   BlockNumber       25301 non-null  object\n",
      " 4   StreetName        25301 non-null  object\n",
      " 5   Agency            25301 non-null  object\n",
      " 6   DateReported      25301 non-null  int64 \n",
      " 7   HourReported      25301 non-null  object\n",
      " 8   ReportingOfficer  25284 non-null  object\n",
      "dtypes: int64(2), object(7)\n",
      "memory usage: 1.7+ MB\n"
     ]
    }
   ],
   "source": [
    "df.info()"
   ]
  },
  {
   "cell_type": "markdown",
   "id": "255cdd38",
   "metadata": {
    "papermill": {
     "duration": 0.005527,
     "end_time": "2025-05-02T01:02:51.251939",
     "exception": false,
     "start_time": "2025-05-02T01:02:51.246412",
     "status": "completed"
    },
    "tags": []
   },
   "source": [
    "### Missing Values"
   ]
  },
  {
   "cell_type": "code",
   "execution_count": 6,
   "id": "eb6a786d",
   "metadata": {
    "execution": {
     "iopub.execute_input": "2025-05-02T01:02:51.264157Z",
     "iopub.status.busy": "2025-05-02T01:02:51.263565Z",
     "iopub.status.idle": "2025-05-02T01:02:51.283399Z",
     "shell.execute_reply": "2025-05-02T01:02:51.282859Z"
    },
    "papermill": {
     "duration": 0.026908,
     "end_time": "2025-05-02T01:02:51.284392",
     "exception": false,
     "start_time": "2025-05-02T01:02:51.257484",
     "status": "completed"
    },
    "tags": []
   },
   "outputs": [
    {
     "name": "stdout",
     "output_type": "stream",
     "text": [
      "                  MissingCount  MissingPercentage\n",
      "RecordID                     0               0.00\n",
      "Offense                      0               0.00\n",
      "IncidentID                   0               0.00\n",
      "BlockNumber                  0               0.00\n",
      "StreetName                   0               0.00\n",
      "Agency                       0               0.00\n",
      "DateReported                 0               0.00\n",
      "HourReported                 0               0.00\n",
      "ReportingOfficer            17               0.07\n"
     ]
    }
   ],
   "source": [
    "def missing_percentage(df):\n",
    "    \"\"\"\n",
    "    Returns a DataFrame with the count and percentage of missing values for each column.\n",
    "    \n",
    "    Parameters:\n",
    "        df (pd.DataFrame): The input DataFrame.\n",
    "    \n",
    "    Returns:\n",
    "        pd.DataFrame: A DataFrame with columns 'MissingCount' and 'MissingPercentage'.\n",
    "    \"\"\"\n",
    "    total_rows = len(df)\n",
    "    missing_count = df.isnull().sum()\n",
    "    missing_percent = (missing_count / total_rows) * 100\n",
    "    \n",
    "    result = pd.DataFrame({\n",
    "        'MissingCount': missing_count,\n",
    "        'MissingPercentage': missing_percent.round(2)\n",
    "    })\n",
    "    \n",
    "    return result\n",
    "\n",
    "# Example usage:\n",
    "missing_info = missing_percentage(df)\n",
    "print(missing_info)\n"
   ]
  },
  {
   "cell_type": "markdown",
   "id": "acb8989d",
   "metadata": {
    "papermill": {
     "duration": 0.005583,
     "end_time": "2025-05-02T01:02:51.295750",
     "exception": false,
     "start_time": "2025-05-02T01:02:51.290167",
     "status": "completed"
    },
    "tags": []
   },
   "source": [
    "## Data Preparation"
   ]
  },
  {
   "cell_type": "markdown",
   "id": "f170f7d0",
   "metadata": {
    "papermill": {
     "duration": 0.00551,
     "end_time": "2025-05-02T01:02:51.306896",
     "exception": false,
     "start_time": "2025-05-02T01:02:51.301386",
     "status": "completed"
    },
    "tags": []
   },
   "source": [
    "### Data Conversion"
   ]
  },
  {
   "cell_type": "code",
   "execution_count": 7,
   "id": "4dacb413",
   "metadata": {
    "execution": {
     "iopub.execute_input": "2025-05-02T01:02:51.320914Z",
     "iopub.status.busy": "2025-05-02T01:02:51.320540Z",
     "iopub.status.idle": "2025-05-02T01:02:51.691470Z",
     "shell.execute_reply": "2025-05-02T01:02:51.690755Z"
    },
    "papermill": {
     "duration": 0.379998,
     "end_time": "2025-05-02T01:02:51.692624",
     "exception": false,
     "start_time": "2025-05-02T01:02:51.312626",
     "status": "completed"
    },
    "tags": []
   },
   "outputs": [
    {
     "data": {
      "text/html": [
       "<div>\n",
       "<style scoped>\n",
       "    .dataframe tbody tr th:only-of-type {\n",
       "        vertical-align: middle;\n",
       "    }\n",
       "\n",
       "    .dataframe tbody tr th {\n",
       "        vertical-align: top;\n",
       "    }\n",
       "\n",
       "    .dataframe thead th {\n",
       "        text-align: right;\n",
       "    }\n",
       "</style>\n",
       "<table border=\"1\" class=\"dataframe\">\n",
       "  <thead>\n",
       "    <tr style=\"text-align: right;\">\n",
       "      <th></th>\n",
       "      <th>RecordID</th>\n",
       "      <th>Offense</th>\n",
       "      <th>IncidentID</th>\n",
       "      <th>BlockNumber</th>\n",
       "      <th>StreetName</th>\n",
       "      <th>Agency</th>\n",
       "      <th>HourReported</th>\n",
       "      <th>ReportingOfficer</th>\n",
       "      <th>Date</th>\n",
       "      <th>DateString</th>\n",
       "      <th>DayOfWeek</th>\n",
       "      <th>Weekend</th>\n",
       "      <th>Season</th>\n",
       "      <th>HourAMPM</th>\n",
       "      <th>TimeOfDay</th>\n",
       "    </tr>\n",
       "  </thead>\n",
       "  <tbody>\n",
       "    <tr>\n",
       "      <th>0</th>\n",
       "      <td>1</td>\n",
       "      <td>Disorderly Conduct</td>\n",
       "      <td>202500014147</td>\n",
       "      <td>2000</td>\n",
       "      <td>INDIA RD</td>\n",
       "      <td>CPD</td>\n",
       "      <td>2133</td>\n",
       "      <td>Love-Baker, Sydney</td>\n",
       "      <td>2025-04-29 21:33:08</td>\n",
       "      <td>2025-04-29 09:33:08 PM</td>\n",
       "      <td>Tuesday</td>\n",
       "      <td>False</td>\n",
       "      <td>Spring</td>\n",
       "      <td>09:33 PM</td>\n",
       "      <td>Night</td>\n",
       "    </tr>\n",
       "    <tr>\n",
       "      <th>1</th>\n",
       "      <td>2</td>\n",
       "      <td>Assist Citizen - Mental/TDO/ECO</td>\n",
       "      <td>202500014148</td>\n",
       "      <td>100</td>\n",
       "      <td>10 1/2 ST NW</td>\n",
       "      <td>CPD</td>\n",
       "      <td>2131</td>\n",
       "      <td>Bentz, Benjamin</td>\n",
       "      <td>2025-04-29 21:31:57</td>\n",
       "      <td>2025-04-29 09:31:57 PM</td>\n",
       "      <td>Tuesday</td>\n",
       "      <td>False</td>\n",
       "      <td>Spring</td>\n",
       "      <td>09:31 PM</td>\n",
       "      <td>Night</td>\n",
       "    </tr>\n",
       "    <tr>\n",
       "      <th>2</th>\n",
       "      <td>3</td>\n",
       "      <td>Assault Aggravated</td>\n",
       "      <td>202500014138</td>\n",
       "      <td>1500</td>\n",
       "      <td>UNIVERSITY AVE</td>\n",
       "      <td>CPD</td>\n",
       "      <td>2012</td>\n",
       "      <td>Ritter, Kobe</td>\n",
       "      <td>2025-04-29 20:12:23</td>\n",
       "      <td>2025-04-29 08:12:23 PM</td>\n",
       "      <td>Tuesday</td>\n",
       "      <td>False</td>\n",
       "      <td>Spring</td>\n",
       "      <td>08:12 PM</td>\n",
       "      <td>Evening</td>\n",
       "    </tr>\n",
       "    <tr>\n",
       "      <th>3</th>\n",
       "      <td>4</td>\n",
       "      <td>Assault Simple</td>\n",
       "      <td>202500014123</td>\n",
       "      <td>700</td>\n",
       "      <td>STONEHENGE AVE</td>\n",
       "      <td>CPD</td>\n",
       "      <td>1838</td>\n",
       "      <td>Ritter, Kobe</td>\n",
       "      <td>2025-04-29 18:38:03</td>\n",
       "      <td>2025-04-29 06:38:03 PM</td>\n",
       "      <td>Tuesday</td>\n",
       "      <td>False</td>\n",
       "      <td>Spring</td>\n",
       "      <td>06:38 PM</td>\n",
       "      <td>Evening</td>\n",
       "    </tr>\n",
       "    <tr>\n",
       "      <th>4</th>\n",
       "      <td>5</td>\n",
       "      <td>Larceny - Shoplifitng</td>\n",
       "      <td>202500014121</td>\n",
       "      <td>1100</td>\n",
       "      <td>5TH ST SW</td>\n",
       "      <td>CPD</td>\n",
       "      <td>1807</td>\n",
       "      <td>Venereo, Arturo</td>\n",
       "      <td>2025-04-29 18:07:50</td>\n",
       "      <td>2025-04-29 06:07:50 PM</td>\n",
       "      <td>Tuesday</td>\n",
       "      <td>False</td>\n",
       "      <td>Spring</td>\n",
       "      <td>06:07 PM</td>\n",
       "      <td>Evening</td>\n",
       "    </tr>\n",
       "  </tbody>\n",
       "</table>\n",
       "</div>"
      ],
      "text/plain": [
       "   RecordID                          Offense    IncidentID BlockNumber  \\\n",
       "0         1               Disorderly Conduct  202500014147        2000   \n",
       "1         2  Assist Citizen - Mental/TDO/ECO  202500014148         100   \n",
       "2         3               Assault Aggravated  202500014138        1500   \n",
       "3         4                   Assault Simple  202500014123         700   \n",
       "4         5            Larceny - Shoplifitng  202500014121        1100   \n",
       "\n",
       "       StreetName Agency HourReported    ReportingOfficer                Date  \\\n",
       "0        INDIA RD    CPD         2133  Love-Baker, Sydney 2025-04-29 21:33:08   \n",
       "1    10 1/2 ST NW    CPD         2131    Bentz, Benjamin  2025-04-29 21:31:57   \n",
       "2  UNIVERSITY AVE    CPD         2012        Ritter, Kobe 2025-04-29 20:12:23   \n",
       "3  STONEHENGE AVE    CPD         1838        Ritter, Kobe 2025-04-29 18:38:03   \n",
       "4       5TH ST SW    CPD         1807     Venereo, Arturo 2025-04-29 18:07:50   \n",
       "\n",
       "               DateString DayOfWeek  Weekend  Season  HourAMPM TimeOfDay  \n",
       "0  2025-04-29 09:33:08 PM   Tuesday    False  Spring  09:33 PM     Night  \n",
       "1  2025-04-29 09:31:57 PM   Tuesday    False  Spring  09:31 PM     Night  \n",
       "2  2025-04-29 08:12:23 PM   Tuesday    False  Spring  08:12 PM   Evening  \n",
       "3  2025-04-29 06:38:03 PM   Tuesday    False  Spring  06:38 PM   Evening  \n",
       "4  2025-04-29 06:07:50 PM   Tuesday    False  Spring  06:07 PM   Evening  "
      ]
     },
     "execution_count": 7,
     "metadata": {},
     "output_type": "execute_result"
    }
   ],
   "source": [
    "def convert_and_categorize_datereported(df, col='DateReported'):\n",
    "    \"\"\"\n",
    "    Converts an epoch (in milliseconds) date column into a timezone-aware datetime,\n",
    "    converts it to Eastern Time, and then creates columns for day-of-week, weekend flag,\n",
    "    season, 12-hour formatted time, and time-of-day. Keeps both a real datetime column\n",
    "    (Date) and a string representation (DateString).\n",
    "    \"\"\"\n",
    "    import pandas as pd\n",
    "\n",
    "    # Convert the epoch timestamp to a pandas datetime object as UTC, then convert to US/Eastern.\n",
    "    df[\"DateReported_dt\"] = (\n",
    "        pd.to_datetime(df[col], unit=\"ms\", errors=\"coerce\", utc=True)\n",
    "        .dt.tz_convert(\"US/Eastern\")\n",
    "    )\n",
    "    \n",
    "    # Create a true datetime column (remove timezone if you prefer naive datetime)\n",
    "    df[\"Date\"] = df[\"DateReported_dt\"].dt.tz_localize(None)\n",
    "\n",
    "    # Optionally, create a separate string-formatted column\n",
    "    df[\"DateString\"] = df[\"DateReported_dt\"].dt.strftime(\"%Y-%m-%d %I:%M:%S %p\")\n",
    "    \n",
    "    # DayOfWeek\n",
    "    df[\"DayOfWeek\"] = df[\"DateReported_dt\"].dt.day_name()\n",
    "    \n",
    "    # Weekend\n",
    "    df[\"Weekend\"] = df[\"DayOfWeek\"].isin([\"Saturday\", \"Sunday\"])\n",
    "    \n",
    "    # Helper function to determine the season\n",
    "    def get_season(dt):\n",
    "        month = dt.month\n",
    "        day = dt.day\n",
    "        # Approximate Northern Hemisphere season boundaries:\n",
    "        if (month == 12 and day >= 21) or (month < 3) or (month == 3 and day < 20):\n",
    "            return \"Winter\"\n",
    "        elif (month == 3 and day >= 20) or (month < 6) or (month == 6 and day < 21):\n",
    "            return \"Spring\"\n",
    "        elif (month == 6 and day >= 21) or (month < 9) or (month == 9 and day < 22):\n",
    "            return \"Summer\"\n",
    "        else:\n",
    "            return \"Autumn\"\n",
    "    \n",
    "    df[\"Season\"] = df[\"DateReported_dt\"].apply(get_season)\n",
    "    \n",
    "    # 12-hour formatted time (HourAMPM)\n",
    "    df[\"HourAMPM\"] = df[\"DateReported_dt\"].dt.strftime(\"%I:%M %p\")\n",
    "    \n",
    "    # Extract hour (0-23) for time-of-day\n",
    "    df[\"HourValue\"] = df[\"DateReported_dt\"].dt.hour\n",
    "    \n",
    "    def time_of_day(hour):\n",
    "        if pd.isnull(hour):\n",
    "            return None\n",
    "        if 5 <= hour < 12:\n",
    "            return \"Morning\"\n",
    "        elif 12 <= hour < 17:\n",
    "            return \"Afternoon\"\n",
    "        elif 17 <= hour < 21:\n",
    "            return \"Evening\"\n",
    "        else:\n",
    "            return \"Night\"\n",
    "    \n",
    "    df[\"TimeOfDay\"] = df[\"HourValue\"].apply(time_of_day)\n",
    "    \n",
    "    # Drop columns you no longer need\n",
    "    df.drop(columns=[col, \"DateReported_dt\", \"HourValue\"], inplace=True)\n",
    "    \n",
    "    return df\n",
    "\n",
    "# Example usage:\n",
    "df = convert_and_categorize_datereported(df)\n",
    "df.head()\n"
   ]
  },
  {
   "cell_type": "code",
   "execution_count": 8,
   "id": "38daf86a",
   "metadata": {
    "execution": {
     "iopub.execute_input": "2025-05-02T01:02:51.705578Z",
     "iopub.status.busy": "2025-05-02T01:02:51.705360Z",
     "iopub.status.idle": "2025-05-02T01:02:51.730146Z",
     "shell.execute_reply": "2025-05-02T01:02:51.729635Z"
    },
    "papermill": {
     "duration": 0.032282,
     "end_time": "2025-05-02T01:02:51.731166",
     "exception": false,
     "start_time": "2025-05-02T01:02:51.698884",
     "status": "completed"
    },
    "tags": []
   },
   "outputs": [
    {
     "name": "stdout",
     "output_type": "stream",
     "text": [
      "<class 'pandas.core.frame.DataFrame'>\n",
      "RangeIndex: 25301 entries, 0 to 25300\n",
      "Data columns (total 15 columns):\n",
      " #   Column            Non-Null Count  Dtype         \n",
      "---  ------            --------------  -----         \n",
      " 0   RecordID          25301 non-null  int64         \n",
      " 1   Offense           25301 non-null  object        \n",
      " 2   IncidentID        25301 non-null  object        \n",
      " 3   BlockNumber       25301 non-null  object        \n",
      " 4   StreetName        25301 non-null  object        \n",
      " 5   Agency            25301 non-null  object        \n",
      " 6   HourReported      25301 non-null  object        \n",
      " 7   ReportingOfficer  25284 non-null  object        \n",
      " 8   Date              25301 non-null  datetime64[ns]\n",
      " 9   DateString        25301 non-null  object        \n",
      " 10  DayOfWeek         25301 non-null  object        \n",
      " 11  Weekend           25301 non-null  bool          \n",
      " 12  Season            25301 non-null  object        \n",
      " 13  HourAMPM          25301 non-null  object        \n",
      " 14  TimeOfDay         25301 non-null  object        \n",
      "dtypes: bool(1), datetime64[ns](1), int64(1), object(12)\n",
      "memory usage: 2.7+ MB\n"
     ]
    }
   ],
   "source": [
    "df.info()"
   ]
  },
  {
   "cell_type": "markdown",
   "id": "f9701f4f",
   "metadata": {
    "papermill": {
     "duration": 0.005811,
     "end_time": "2025-05-02T01:02:51.743088",
     "exception": false,
     "start_time": "2025-05-02T01:02:51.737277",
     "status": "completed"
    },
    "tags": []
   },
   "source": [
    "### Coordinates"
   ]
  },
  {
   "cell_type": "code",
   "execution_count": 9,
   "id": "ffc074df",
   "metadata": {
    "execution": {
     "iopub.execute_input": "2025-05-02T01:02:51.755914Z",
     "iopub.status.busy": "2025-05-02T01:02:51.755526Z",
     "iopub.status.idle": "2025-05-02T01:02:51.957384Z",
     "shell.execute_reply": "2025-05-02T01:02:51.956797Z"
    },
    "papermill": {
     "duration": 0.209522,
     "end_time": "2025-05-02T01:02:51.958514",
     "exception": false,
     "start_time": "2025-05-02T01:02:51.748992",
     "status": "completed"
    },
    "tags": []
   },
   "outputs": [
    {
     "name": "stdout",
     "output_type": "stream",
     "text": [
      "Loaded geocode cache.\n"
     ]
    },
    {
     "name": "stdout",
     "output_type": "stream",
     "text": [
      "Geocoded 1000 CITY WALK WAY, 105: 38.0251823, -78.46892790000001\n",
      "Geocode cache updated and saved.\n"
     ]
    },
    {
     "data": {
      "text/html": [
       "<div>\n",
       "<style scoped>\n",
       "    .dataframe tbody tr th:only-of-type {\n",
       "        vertical-align: middle;\n",
       "    }\n",
       "\n",
       "    .dataframe tbody tr th {\n",
       "        vertical-align: top;\n",
       "    }\n",
       "\n",
       "    .dataframe thead th {\n",
       "        text-align: right;\n",
       "    }\n",
       "</style>\n",
       "<table border=\"1\" class=\"dataframe\">\n",
       "  <thead>\n",
       "    <tr style=\"text-align: right;\">\n",
       "      <th></th>\n",
       "      <th>RecordID</th>\n",
       "      <th>Offense</th>\n",
       "      <th>IncidentID</th>\n",
       "      <th>BlockNumber</th>\n",
       "      <th>StreetName</th>\n",
       "      <th>Agency</th>\n",
       "      <th>HourReported</th>\n",
       "      <th>ReportingOfficer</th>\n",
       "      <th>Date</th>\n",
       "      <th>DateString</th>\n",
       "      <th>DayOfWeek</th>\n",
       "      <th>Weekend</th>\n",
       "      <th>Season</th>\n",
       "      <th>HourAMPM</th>\n",
       "      <th>TimeOfDay</th>\n",
       "      <th>FullStreet</th>\n",
       "      <th>lat</th>\n",
       "      <th>lon</th>\n",
       "    </tr>\n",
       "  </thead>\n",
       "  <tbody>\n",
       "    <tr>\n",
       "      <th>0</th>\n",
       "      <td>1</td>\n",
       "      <td>Disorderly Conduct</td>\n",
       "      <td>202500014147</td>\n",
       "      <td>2000</td>\n",
       "      <td>INDIA RD</td>\n",
       "      <td>CPD</td>\n",
       "      <td>2133</td>\n",
       "      <td>Love-Baker, Sydney</td>\n",
       "      <td>2025-04-29 21:33:08</td>\n",
       "      <td>2025-04-29 09:33:08 PM</td>\n",
       "      <td>Tuesday</td>\n",
       "      <td>False</td>\n",
       "      <td>Spring</td>\n",
       "      <td>09:33 PM</td>\n",
       "      <td>Night</td>\n",
       "      <td>2000 INDIA RD</td>\n",
       "      <td>38.062347</td>\n",
       "      <td>-78.487902</td>\n",
       "    </tr>\n",
       "    <tr>\n",
       "      <th>1</th>\n",
       "      <td>2</td>\n",
       "      <td>Assist Citizen - Mental/TDO/ECO</td>\n",
       "      <td>202500014148</td>\n",
       "      <td>100</td>\n",
       "      <td>10 1/2 ST NW</td>\n",
       "      <td>CPD</td>\n",
       "      <td>2131</td>\n",
       "      <td>Bentz, Benjamin</td>\n",
       "      <td>2025-04-29 21:31:57</td>\n",
       "      <td>2025-04-29 09:31:57 PM</td>\n",
       "      <td>Tuesday</td>\n",
       "      <td>False</td>\n",
       "      <td>Spring</td>\n",
       "      <td>09:31 PM</td>\n",
       "      <td>Night</td>\n",
       "      <td>100 10 1/2 ST NW</td>\n",
       "      <td>38.032737</td>\n",
       "      <td>-78.495270</td>\n",
       "    </tr>\n",
       "    <tr>\n",
       "      <th>2</th>\n",
       "      <td>3</td>\n",
       "      <td>Assault Aggravated</td>\n",
       "      <td>202500014138</td>\n",
       "      <td>1500</td>\n",
       "      <td>UNIVERSITY AVE</td>\n",
       "      <td>CPD</td>\n",
       "      <td>2012</td>\n",
       "      <td>Ritter, Kobe</td>\n",
       "      <td>2025-04-29 20:12:23</td>\n",
       "      <td>2025-04-29 08:12:23 PM</td>\n",
       "      <td>Tuesday</td>\n",
       "      <td>False</td>\n",
       "      <td>Spring</td>\n",
       "      <td>08:12 PM</td>\n",
       "      <td>Evening</td>\n",
       "      <td>1500 UNIVERSITY AVE</td>\n",
       "      <td>38.034578</td>\n",
       "      <td>-78.500340</td>\n",
       "    </tr>\n",
       "    <tr>\n",
       "      <th>3</th>\n",
       "      <td>4</td>\n",
       "      <td>Assault Simple</td>\n",
       "      <td>202500014123</td>\n",
       "      <td>700</td>\n",
       "      <td>STONEHENGE AVE</td>\n",
       "      <td>CPD</td>\n",
       "      <td>1838</td>\n",
       "      <td>Ritter, Kobe</td>\n",
       "      <td>2025-04-29 18:38:03</td>\n",
       "      <td>2025-04-29 06:38:03 PM</td>\n",
       "      <td>Tuesday</td>\n",
       "      <td>False</td>\n",
       "      <td>Spring</td>\n",
       "      <td>06:38 PM</td>\n",
       "      <td>Evening</td>\n",
       "      <td>700 STONEHENGE AVE</td>\n",
       "      <td>38.018659</td>\n",
       "      <td>-78.482357</td>\n",
       "    </tr>\n",
       "    <tr>\n",
       "      <th>4</th>\n",
       "      <td>5</td>\n",
       "      <td>Larceny - Shoplifitng</td>\n",
       "      <td>202500014121</td>\n",
       "      <td>1100</td>\n",
       "      <td>5TH ST SW</td>\n",
       "      <td>CPD</td>\n",
       "      <td>1807</td>\n",
       "      <td>Venereo, Arturo</td>\n",
       "      <td>2025-04-29 18:07:50</td>\n",
       "      <td>2025-04-29 06:07:50 PM</td>\n",
       "      <td>Tuesday</td>\n",
       "      <td>False</td>\n",
       "      <td>Spring</td>\n",
       "      <td>06:07 PM</td>\n",
       "      <td>Evening</td>\n",
       "      <td>1100 5TH ST SW</td>\n",
       "      <td>38.017130</td>\n",
       "      <td>-78.497806</td>\n",
       "    </tr>\n",
       "  </tbody>\n",
       "</table>\n",
       "</div>"
      ],
      "text/plain": [
       "   RecordID                          Offense    IncidentID BlockNumber  \\\n",
       "0         1               Disorderly Conduct  202500014147        2000   \n",
       "1         2  Assist Citizen - Mental/TDO/ECO  202500014148         100   \n",
       "2         3               Assault Aggravated  202500014138        1500   \n",
       "3         4                   Assault Simple  202500014123         700   \n",
       "4         5            Larceny - Shoplifitng  202500014121        1100   \n",
       "\n",
       "       StreetName Agency HourReported    ReportingOfficer                Date  \\\n",
       "0        INDIA RD    CPD         2133  Love-Baker, Sydney 2025-04-29 21:33:08   \n",
       "1    10 1/2 ST NW    CPD         2131    Bentz, Benjamin  2025-04-29 21:31:57   \n",
       "2  UNIVERSITY AVE    CPD         2012        Ritter, Kobe 2025-04-29 20:12:23   \n",
       "3  STONEHENGE AVE    CPD         1838        Ritter, Kobe 2025-04-29 18:38:03   \n",
       "4       5TH ST SW    CPD         1807     Venereo, Arturo 2025-04-29 18:07:50   \n",
       "\n",
       "               DateString DayOfWeek  Weekend  Season  HourAMPM TimeOfDay  \\\n",
       "0  2025-04-29 09:33:08 PM   Tuesday    False  Spring  09:33 PM     Night   \n",
       "1  2025-04-29 09:31:57 PM   Tuesday    False  Spring  09:31 PM     Night   \n",
       "2  2025-04-29 08:12:23 PM   Tuesday    False  Spring  08:12 PM   Evening   \n",
       "3  2025-04-29 06:38:03 PM   Tuesday    False  Spring  06:38 PM   Evening   \n",
       "4  2025-04-29 06:07:50 PM   Tuesday    False  Spring  06:07 PM   Evening   \n",
       "\n",
       "            FullStreet        lat        lon  \n",
       "0        2000 INDIA RD  38.062347 -78.487902  \n",
       "1     100 10 1/2 ST NW  38.032737 -78.495270  \n",
       "2  1500 UNIVERSITY AVE  38.034578 -78.500340  \n",
       "3   700 STONEHENGE AVE  38.018659 -78.482357  \n",
       "4       1100 5TH ST SW  38.017130 -78.497806  "
      ]
     },
     "execution_count": 9,
     "metadata": {},
     "output_type": "execute_result"
    }
   ],
   "source": [
    "# Combine BlockNumber and StreetName into a full address string\n",
    "df['FullStreet'] = df['BlockNumber'].astype(str) + \" \" + df['StreetName']\n",
    "\n",
    "# --- Step 1: Setup the Google Maps Client and Cache ---\n",
    "gmaps = googlemaps.Client(key=GOOGLE_API_KEY)\n",
    "\n",
    "# Try to load cached geocoding results if available.\n",
    "try:\n",
    "    with open(\"geocode_cache_google.pkl\", \"rb\") as f:\n",
    "        street_coords = pickle.load(f)\n",
    "    print(\"Loaded geocode cache.\")\n",
    "except FileNotFoundError:\n",
    "    street_coords = {}\n",
    "    print(\"No cache found; starting fresh.\")\n",
    "\n",
    "def geocode_address(address):\n",
    "    try:\n",
    "        # Append city and state to help geocoding\n",
    "        result = gmaps.geocode(f\"{address}, Charlottesville, VA\")\n",
    "        if result:\n",
    "            lat = result[0]['geometry']['location']['lat']\n",
    "            lon = result[0]['geometry']['location']['lng']\n",
    "            return lat, lon\n",
    "    except Exception as e:\n",
    "        print(f\"Error geocoding {address}: {e}\")\n",
    "    return None, None\n",
    "\n",
    "# --- Step 2: Geocode Only New Addresses ---\n",
    "unique_addresses = df['FullStreet'].unique()\n",
    "for address in unique_addresses:\n",
    "    if address not in street_coords:\n",
    "        lat, lon = geocode_address(address)\n",
    "        street_coords[address] = (lat, lon)\n",
    "        print(f\"Geocoded {address}: {lat}, {lon}\")\n",
    "\n",
    "# Save the updated cache to disk.\n",
    "with open(\"geocode_cache_google.pkl\", \"wb\") as f:\n",
    "    pickle.dump(street_coords, f)\n",
    "    print(\"Geocode cache updated and saved.\")\n",
    "\n",
    "# --- Step 3: Map Coordinates Back to DataFrame ---\n",
    "df['lat'] = df['FullStreet'].map(lambda s: street_coords.get(s, (None, None))[0])\n",
    "df['lon'] = df['FullStreet'].map(lambda s: street_coords.get(s, (None, None))[1])\n",
    "\n",
    "df.head()"
   ]
  },
  {
   "cell_type": "markdown",
   "id": "3df33b62",
   "metadata": {
    "papermill": {
     "duration": 0.006504,
     "end_time": "2025-05-02T01:02:51.972225",
     "exception": false,
     "start_time": "2025-05-02T01:02:51.965721",
     "status": "completed"
    },
    "tags": []
   },
   "source": [
    "### Neighborhood"
   ]
  },
  {
   "cell_type": "code",
   "execution_count": 10,
   "id": "e686de7f",
   "metadata": {
    "execution": {
     "iopub.execute_input": "2025-05-02T01:02:51.985732Z",
     "iopub.status.busy": "2025-05-02T01:02:51.985297Z",
     "iopub.status.idle": "2025-05-02T01:02:52.246710Z",
     "shell.execute_reply": "2025-05-02T01:02:52.246000Z"
    },
    "papermill": {
     "duration": 0.269226,
     "end_time": "2025-05-02T01:02:52.247720",
     "exception": false,
     "start_time": "2025-05-02T01:02:51.978494",
     "status": "completed"
    },
    "tags": []
   },
   "outputs": [
    {
     "name": "stdout",
     "output_type": "stream",
     "text": [
      "Loaded neighborhood cache.\n"
     ]
    },
    {
     "data": {
      "text/html": [
       "<div>\n",
       "<style scoped>\n",
       "    .dataframe tbody tr th:only-of-type {\n",
       "        vertical-align: middle;\n",
       "    }\n",
       "\n",
       "    .dataframe tbody tr th {\n",
       "        vertical-align: top;\n",
       "    }\n",
       "\n",
       "    .dataframe thead th {\n",
       "        text-align: right;\n",
       "    }\n",
       "</style>\n",
       "<table border=\"1\" class=\"dataframe\">\n",
       "  <thead>\n",
       "    <tr style=\"text-align: right;\">\n",
       "      <th></th>\n",
       "      <th>RecordID</th>\n",
       "      <th>Offense</th>\n",
       "      <th>IncidentID</th>\n",
       "      <th>BlockNumber</th>\n",
       "      <th>StreetName</th>\n",
       "      <th>Agency</th>\n",
       "      <th>HourReported</th>\n",
       "      <th>ReportingOfficer</th>\n",
       "      <th>Date</th>\n",
       "      <th>DateString</th>\n",
       "      <th>DayOfWeek</th>\n",
       "      <th>Weekend</th>\n",
       "      <th>Season</th>\n",
       "      <th>HourAMPM</th>\n",
       "      <th>TimeOfDay</th>\n",
       "      <th>FullStreet</th>\n",
       "      <th>lat</th>\n",
       "      <th>lon</th>\n",
       "      <th>neighborhood</th>\n",
       "    </tr>\n",
       "  </thead>\n",
       "  <tbody>\n",
       "    <tr>\n",
       "      <th>0</th>\n",
       "      <td>1</td>\n",
       "      <td>Disorderly Conduct</td>\n",
       "      <td>202500014147</td>\n",
       "      <td>2000</td>\n",
       "      <td>INDIA RD</td>\n",
       "      <td>CPD</td>\n",
       "      <td>2133</td>\n",
       "      <td>Love-Baker, Sydney</td>\n",
       "      <td>2025-04-29 21:33:08</td>\n",
       "      <td>2025-04-29 09:33:08 PM</td>\n",
       "      <td>Tuesday</td>\n",
       "      <td>False</td>\n",
       "      <td>Spring</td>\n",
       "      <td>09:33 PM</td>\n",
       "      <td>Night</td>\n",
       "      <td>2000 INDIA RD</td>\n",
       "      <td>38.062347</td>\n",
       "      <td>-78.487902</td>\n",
       "      <td>The Meadows</td>\n",
       "    </tr>\n",
       "    <tr>\n",
       "      <th>1</th>\n",
       "      <td>2</td>\n",
       "      <td>Assist Citizen - Mental/TDO/ECO</td>\n",
       "      <td>202500014148</td>\n",
       "      <td>100</td>\n",
       "      <td>10 1/2 ST NW</td>\n",
       "      <td>CPD</td>\n",
       "      <td>2131</td>\n",
       "      <td>Bentz, Benjamin</td>\n",
       "      <td>2025-04-29 21:31:57</td>\n",
       "      <td>2025-04-29 09:31:57 PM</td>\n",
       "      <td>Tuesday</td>\n",
       "      <td>False</td>\n",
       "      <td>Spring</td>\n",
       "      <td>09:31 PM</td>\n",
       "      <td>Night</td>\n",
       "      <td>100 10 1/2 ST NW</td>\n",
       "      <td>38.032737</td>\n",
       "      <td>-78.495270</td>\n",
       "      <td>10th &amp; Page</td>\n",
       "    </tr>\n",
       "    <tr>\n",
       "      <th>2</th>\n",
       "      <td>3</td>\n",
       "      <td>Assault Aggravated</td>\n",
       "      <td>202500014138</td>\n",
       "      <td>1500</td>\n",
       "      <td>UNIVERSITY AVE</td>\n",
       "      <td>CPD</td>\n",
       "      <td>2012</td>\n",
       "      <td>Ritter, Kobe</td>\n",
       "      <td>2025-04-29 20:12:23</td>\n",
       "      <td>2025-04-29 08:12:23 PM</td>\n",
       "      <td>Tuesday</td>\n",
       "      <td>False</td>\n",
       "      <td>Spring</td>\n",
       "      <td>08:12 PM</td>\n",
       "      <td>Evening</td>\n",
       "      <td>1500 UNIVERSITY AVE</td>\n",
       "      <td>38.034578</td>\n",
       "      <td>-78.500340</td>\n",
       "      <td>Venable</td>\n",
       "    </tr>\n",
       "    <tr>\n",
       "      <th>3</th>\n",
       "      <td>4</td>\n",
       "      <td>Assault Simple</td>\n",
       "      <td>202500014123</td>\n",
       "      <td>700</td>\n",
       "      <td>STONEHENGE AVE</td>\n",
       "      <td>CPD</td>\n",
       "      <td>1838</td>\n",
       "      <td>Ritter, Kobe</td>\n",
       "      <td>2025-04-29 18:38:03</td>\n",
       "      <td>2025-04-29 06:38:03 PM</td>\n",
       "      <td>Tuesday</td>\n",
       "      <td>False</td>\n",
       "      <td>Spring</td>\n",
       "      <td>06:38 PM</td>\n",
       "      <td>Evening</td>\n",
       "      <td>700 STONEHENGE AVE</td>\n",
       "      <td>38.018659</td>\n",
       "      <td>-78.482357</td>\n",
       "      <td>Belmont</td>\n",
       "    </tr>\n",
       "    <tr>\n",
       "      <th>4</th>\n",
       "      <td>5</td>\n",
       "      <td>Larceny - Shoplifitng</td>\n",
       "      <td>202500014121</td>\n",
       "      <td>1100</td>\n",
       "      <td>5TH ST SW</td>\n",
       "      <td>CPD</td>\n",
       "      <td>1807</td>\n",
       "      <td>Venereo, Arturo</td>\n",
       "      <td>2025-04-29 18:07:50</td>\n",
       "      <td>2025-04-29 06:07:50 PM</td>\n",
       "      <td>Tuesday</td>\n",
       "      <td>False</td>\n",
       "      <td>Spring</td>\n",
       "      <td>06:07 PM</td>\n",
       "      <td>Evening</td>\n",
       "      <td>1100 5TH ST SW</td>\n",
       "      <td>38.017130</td>\n",
       "      <td>-78.497806</td>\n",
       "      <td>Johnson Village</td>\n",
       "    </tr>\n",
       "  </tbody>\n",
       "</table>\n",
       "</div>"
      ],
      "text/plain": [
       "   RecordID                          Offense    IncidentID BlockNumber  \\\n",
       "0         1               Disorderly Conduct  202500014147        2000   \n",
       "1         2  Assist Citizen - Mental/TDO/ECO  202500014148         100   \n",
       "2         3               Assault Aggravated  202500014138        1500   \n",
       "3         4                   Assault Simple  202500014123         700   \n",
       "4         5            Larceny - Shoplifitng  202500014121        1100   \n",
       "\n",
       "       StreetName Agency HourReported    ReportingOfficer                Date  \\\n",
       "0        INDIA RD    CPD         2133  Love-Baker, Sydney 2025-04-29 21:33:08   \n",
       "1    10 1/2 ST NW    CPD         2131    Bentz, Benjamin  2025-04-29 21:31:57   \n",
       "2  UNIVERSITY AVE    CPD         2012        Ritter, Kobe 2025-04-29 20:12:23   \n",
       "3  STONEHENGE AVE    CPD         1838        Ritter, Kobe 2025-04-29 18:38:03   \n",
       "4       5TH ST SW    CPD         1807     Venereo, Arturo 2025-04-29 18:07:50   \n",
       "\n",
       "               DateString DayOfWeek  Weekend  Season  HourAMPM TimeOfDay  \\\n",
       "0  2025-04-29 09:33:08 PM   Tuesday    False  Spring  09:33 PM     Night   \n",
       "1  2025-04-29 09:31:57 PM   Tuesday    False  Spring  09:31 PM     Night   \n",
       "2  2025-04-29 08:12:23 PM   Tuesday    False  Spring  08:12 PM   Evening   \n",
       "3  2025-04-29 06:38:03 PM   Tuesday    False  Spring  06:38 PM   Evening   \n",
       "4  2025-04-29 06:07:50 PM   Tuesday    False  Spring  06:07 PM   Evening   \n",
       "\n",
       "            FullStreet        lat        lon     neighborhood  \n",
       "0        2000 INDIA RD  38.062347 -78.487902      The Meadows  \n",
       "1     100 10 1/2 ST NW  38.032737 -78.495270      10th & Page  \n",
       "2  1500 UNIVERSITY AVE  38.034578 -78.500340          Venable  \n",
       "3   700 STONEHENGE AVE  38.018659 -78.482357          Belmont  \n",
       "4       1100 5TH ST SW  38.017130 -78.497806  Johnson Village  "
      ]
     },
     "execution_count": 10,
     "metadata": {},
     "output_type": "execute_result"
    }
   ],
   "source": [
    "# Initialize the Google Maps client.\n",
    "gmaps = googlemaps.Client(key=GOOGLE_API_KEY)\n",
    "\n",
    "# Try to load a persistent neighborhood cache if available.\n",
    "try:\n",
    "    with open(\"neighborhood_cache.pkl\", \"rb\") as f:\n",
    "        neighborhood_cache = pickle.load(f)\n",
    "    print(\"Loaded neighborhood cache.\")\n",
    "except FileNotFoundError:\n",
    "    neighborhood_cache = {}\n",
    "    print(\"No neighborhood cache found; starting fresh.\")\n",
    "\n",
    "def get_neighborhood(lat, lon):\n",
    "    \"\"\"\n",
    "    Reverse geocodes a latitude and longitude to retrieve the neighborhood.\n",
    "    Caches results to speed up subsequent lookups.\n",
    "    \"\"\"\n",
    "    key = (lat, lon)\n",
    "    if key in neighborhood_cache:\n",
    "        return neighborhood_cache[key]\n",
    "    \n",
    "    try:\n",
    "        result = gmaps.reverse_geocode((lat, lon))\n",
    "        if result:\n",
    "            # Look for the 'neighborhood' component in the first result.\n",
    "            for component in result[0]['address_components']:\n",
    "                if 'neighborhood' in component['types']:\n",
    "                    neighborhood = component['long_name']\n",
    "                    neighborhood_cache[key] = neighborhood\n",
    "                    return neighborhood\n",
    "            # If no neighborhood is found, return \"N/A\"\n",
    "            neighborhood_cache[key] = \"N/A\"\n",
    "            return \"N/A\"\n",
    "    except Exception as e:\n",
    "        print(f\"Error getting neighborhood for {lat}, {lon}: {e}\")\n",
    "        return \"N/A\"\n",
    "    \n",
    "    # Pause to respect usage limits.\n",
    "    time.sleep(1)\n",
    "\n",
    "# Example usage: Apply to your DataFrame 'df' that already has 'lat' and 'lon' columns.\n",
    "df['neighborhood'] = df.apply(lambda row: get_neighborhood(row['lat'], row['lon']), axis=1)\n",
    "\n",
    "# Save the updated neighborhood cache.\n",
    "with open(\"neighborhood_cache.pkl\", \"wb\") as f:\n",
    "    pickle.dump(neighborhood_cache, f)\n",
    "\n",
    "df.head()\n"
   ]
  },
  {
   "cell_type": "markdown",
   "id": "4e60f3fb",
   "metadata": {
    "papermill": {
     "duration": 0.006435,
     "end_time": "2025-05-02T01:02:52.260999",
     "exception": false,
     "start_time": "2025-05-02T01:02:52.254564",
     "status": "completed"
    },
    "tags": []
   },
   "source": [
    "### Zip"
   ]
  },
  {
   "cell_type": "code",
   "execution_count": 11,
   "id": "1f52073c",
   "metadata": {
    "execution": {
     "iopub.execute_input": "2025-05-02T01:02:52.274633Z",
     "iopub.status.busy": "2025-05-02T01:02:52.274415Z",
     "iopub.status.idle": "2025-05-02T01:02:52.521126Z",
     "shell.execute_reply": "2025-05-02T01:02:52.520545Z"
    },
    "papermill": {
     "duration": 0.254728,
     "end_time": "2025-05-02T01:02:52.522219",
     "exception": false,
     "start_time": "2025-05-02T01:02:52.267491",
     "status": "completed"
    },
    "tags": []
   },
   "outputs": [
    {
     "name": "stdout",
     "output_type": "stream",
     "text": [
      "Loaded zip cache.\n"
     ]
    },
    {
     "data": {
      "text/html": [
       "<div>\n",
       "<style scoped>\n",
       "    .dataframe tbody tr th:only-of-type {\n",
       "        vertical-align: middle;\n",
       "    }\n",
       "\n",
       "    .dataframe tbody tr th {\n",
       "        vertical-align: top;\n",
       "    }\n",
       "\n",
       "    .dataframe thead th {\n",
       "        text-align: right;\n",
       "    }\n",
       "</style>\n",
       "<table border=\"1\" class=\"dataframe\">\n",
       "  <thead>\n",
       "    <tr style=\"text-align: right;\">\n",
       "      <th></th>\n",
       "      <th>RecordID</th>\n",
       "      <th>Offense</th>\n",
       "      <th>IncidentID</th>\n",
       "      <th>BlockNumber</th>\n",
       "      <th>StreetName</th>\n",
       "      <th>Agency</th>\n",
       "      <th>HourReported</th>\n",
       "      <th>ReportingOfficer</th>\n",
       "      <th>Date</th>\n",
       "      <th>DateString</th>\n",
       "      <th>DayOfWeek</th>\n",
       "      <th>Weekend</th>\n",
       "      <th>Season</th>\n",
       "      <th>HourAMPM</th>\n",
       "      <th>TimeOfDay</th>\n",
       "      <th>FullStreet</th>\n",
       "      <th>lat</th>\n",
       "      <th>lon</th>\n",
       "      <th>neighborhood</th>\n",
       "      <th>zip</th>\n",
       "    </tr>\n",
       "  </thead>\n",
       "  <tbody>\n",
       "    <tr>\n",
       "      <th>0</th>\n",
       "      <td>1</td>\n",
       "      <td>Disorderly Conduct</td>\n",
       "      <td>202500014147</td>\n",
       "      <td>2000</td>\n",
       "      <td>INDIA RD</td>\n",
       "      <td>CPD</td>\n",
       "      <td>2133</td>\n",
       "      <td>Love-Baker, Sydney</td>\n",
       "      <td>2025-04-29 21:33:08</td>\n",
       "      <td>2025-04-29 09:33:08 PM</td>\n",
       "      <td>Tuesday</td>\n",
       "      <td>False</td>\n",
       "      <td>Spring</td>\n",
       "      <td>09:33 PM</td>\n",
       "      <td>Night</td>\n",
       "      <td>2000 INDIA RD</td>\n",
       "      <td>38.062347</td>\n",
       "      <td>-78.487902</td>\n",
       "      <td>The Meadows</td>\n",
       "      <td>22901</td>\n",
       "    </tr>\n",
       "    <tr>\n",
       "      <th>1</th>\n",
       "      <td>2</td>\n",
       "      <td>Assist Citizen - Mental/TDO/ECO</td>\n",
       "      <td>202500014148</td>\n",
       "      <td>100</td>\n",
       "      <td>10 1/2 ST NW</td>\n",
       "      <td>CPD</td>\n",
       "      <td>2131</td>\n",
       "      <td>Bentz, Benjamin</td>\n",
       "      <td>2025-04-29 21:31:57</td>\n",
       "      <td>2025-04-29 09:31:57 PM</td>\n",
       "      <td>Tuesday</td>\n",
       "      <td>False</td>\n",
       "      <td>Spring</td>\n",
       "      <td>09:31 PM</td>\n",
       "      <td>Night</td>\n",
       "      <td>100 10 1/2 ST NW</td>\n",
       "      <td>38.032737</td>\n",
       "      <td>-78.495270</td>\n",
       "      <td>10th &amp; Page</td>\n",
       "      <td>22903</td>\n",
       "    </tr>\n",
       "    <tr>\n",
       "      <th>2</th>\n",
       "      <td>3</td>\n",
       "      <td>Assault Aggravated</td>\n",
       "      <td>202500014138</td>\n",
       "      <td>1500</td>\n",
       "      <td>UNIVERSITY AVE</td>\n",
       "      <td>CPD</td>\n",
       "      <td>2012</td>\n",
       "      <td>Ritter, Kobe</td>\n",
       "      <td>2025-04-29 20:12:23</td>\n",
       "      <td>2025-04-29 08:12:23 PM</td>\n",
       "      <td>Tuesday</td>\n",
       "      <td>False</td>\n",
       "      <td>Spring</td>\n",
       "      <td>08:12 PM</td>\n",
       "      <td>Evening</td>\n",
       "      <td>1500 UNIVERSITY AVE</td>\n",
       "      <td>38.034578</td>\n",
       "      <td>-78.500340</td>\n",
       "      <td>Venable</td>\n",
       "      <td>22908</td>\n",
       "    </tr>\n",
       "    <tr>\n",
       "      <th>3</th>\n",
       "      <td>4</td>\n",
       "      <td>Assault Simple</td>\n",
       "      <td>202500014123</td>\n",
       "      <td>700</td>\n",
       "      <td>STONEHENGE AVE</td>\n",
       "      <td>CPD</td>\n",
       "      <td>1838</td>\n",
       "      <td>Ritter, Kobe</td>\n",
       "      <td>2025-04-29 18:38:03</td>\n",
       "      <td>2025-04-29 06:38:03 PM</td>\n",
       "      <td>Tuesday</td>\n",
       "      <td>False</td>\n",
       "      <td>Spring</td>\n",
       "      <td>06:38 PM</td>\n",
       "      <td>Evening</td>\n",
       "      <td>700 STONEHENGE AVE</td>\n",
       "      <td>38.018659</td>\n",
       "      <td>-78.482357</td>\n",
       "      <td>Belmont</td>\n",
       "      <td>22903</td>\n",
       "    </tr>\n",
       "    <tr>\n",
       "      <th>4</th>\n",
       "      <td>5</td>\n",
       "      <td>Larceny - Shoplifitng</td>\n",
       "      <td>202500014121</td>\n",
       "      <td>1100</td>\n",
       "      <td>5TH ST SW</td>\n",
       "      <td>CPD</td>\n",
       "      <td>1807</td>\n",
       "      <td>Venereo, Arturo</td>\n",
       "      <td>2025-04-29 18:07:50</td>\n",
       "      <td>2025-04-29 06:07:50 PM</td>\n",
       "      <td>Tuesday</td>\n",
       "      <td>False</td>\n",
       "      <td>Spring</td>\n",
       "      <td>06:07 PM</td>\n",
       "      <td>Evening</td>\n",
       "      <td>1100 5TH ST SW</td>\n",
       "      <td>38.017130</td>\n",
       "      <td>-78.497806</td>\n",
       "      <td>Johnson Village</td>\n",
       "      <td>22903</td>\n",
       "    </tr>\n",
       "  </tbody>\n",
       "</table>\n",
       "</div>"
      ],
      "text/plain": [
       "   RecordID                          Offense    IncidentID BlockNumber  \\\n",
       "0         1               Disorderly Conduct  202500014147        2000   \n",
       "1         2  Assist Citizen - Mental/TDO/ECO  202500014148         100   \n",
       "2         3               Assault Aggravated  202500014138        1500   \n",
       "3         4                   Assault Simple  202500014123         700   \n",
       "4         5            Larceny - Shoplifitng  202500014121        1100   \n",
       "\n",
       "       StreetName Agency HourReported    ReportingOfficer                Date  \\\n",
       "0        INDIA RD    CPD         2133  Love-Baker, Sydney 2025-04-29 21:33:08   \n",
       "1    10 1/2 ST NW    CPD         2131    Bentz, Benjamin  2025-04-29 21:31:57   \n",
       "2  UNIVERSITY AVE    CPD         2012        Ritter, Kobe 2025-04-29 20:12:23   \n",
       "3  STONEHENGE AVE    CPD         1838        Ritter, Kobe 2025-04-29 18:38:03   \n",
       "4       5TH ST SW    CPD         1807     Venereo, Arturo 2025-04-29 18:07:50   \n",
       "\n",
       "               DateString DayOfWeek  Weekend  Season  HourAMPM TimeOfDay  \\\n",
       "0  2025-04-29 09:33:08 PM   Tuesday    False  Spring  09:33 PM     Night   \n",
       "1  2025-04-29 09:31:57 PM   Tuesday    False  Spring  09:31 PM     Night   \n",
       "2  2025-04-29 08:12:23 PM   Tuesday    False  Spring  08:12 PM   Evening   \n",
       "3  2025-04-29 06:38:03 PM   Tuesday    False  Spring  06:38 PM   Evening   \n",
       "4  2025-04-29 06:07:50 PM   Tuesday    False  Spring  06:07 PM   Evening   \n",
       "\n",
       "            FullStreet        lat        lon     neighborhood    zip  \n",
       "0        2000 INDIA RD  38.062347 -78.487902      The Meadows  22901  \n",
       "1     100 10 1/2 ST NW  38.032737 -78.495270      10th & Page  22903  \n",
       "2  1500 UNIVERSITY AVE  38.034578 -78.500340          Venable  22908  \n",
       "3   700 STONEHENGE AVE  38.018659 -78.482357          Belmont  22903  \n",
       "4       1100 5TH ST SW  38.017130 -78.497806  Johnson Village  22903  "
      ]
     },
     "execution_count": 11,
     "metadata": {},
     "output_type": "execute_result"
    }
   ],
   "source": [
    "# Initialize the geocoder.\n",
    "geolocator = Nominatim(user_agent=\"zip_lookup\")\n",
    "\n",
    "# Try to load a persistent ZIP cache if available.\n",
    "try:\n",
    "    with open(\"zip_cache.pkl\", \"rb\") as f:\n",
    "        zip_cache = pickle.load(f)\n",
    "    print(\"Loaded zip cache.\")\n",
    "except FileNotFoundError:\n",
    "    zip_cache = {}\n",
    "    print(\"No zip cache found; starting fresh.\")\n",
    "\n",
    "def get_zip(lat, lon):\n",
    "    \"\"\"\n",
    "    Reverse geocodes a latitude and longitude to retrieve the ZIP code.\n",
    "    Caches results to speed up subsequent lookups.\n",
    "    \"\"\"\n",
    "    key = (lat, lon)\n",
    "    if key in zip_cache:\n",
    "        return zip_cache[key]\n",
    "    \n",
    "    try:\n",
    "        location = geolocator.reverse((lat, lon), exactly_one=True, timeout=10)\n",
    "        address = location.raw.get('address', {})\n",
    "        postal_code = address.get('postcode', \"N/A\")\n",
    "    except Exception as e:\n",
    "        print(f\"Error getting ZIP for {lat}, {lon}: {e}\")\n",
    "        postal_code = \"N/A\"\n",
    "    \n",
    "    zip_cache[key] = postal_code\n",
    "    # Pause to respect the usage policy.\n",
    "    time.sleep(1)\n",
    "    return postal_code\n",
    "\n",
    "# Apply the function to each row in the DataFrame.\n",
    "df['zip'] = df.apply(lambda row: get_zip(row['lat'], row['lon']), axis=1)\n",
    "\n",
    "# Save the updated ZIP cache.\n",
    "with open(\"zip_cache.pkl\", \"wb\") as f:\n",
    "    pickle.dump(zip_cache, f)\n",
    "\n",
    "df.head()\n"
   ]
  },
  {
   "cell_type": "code",
   "execution_count": 12,
   "id": "93207d41",
   "metadata": {
    "execution": {
     "iopub.execute_input": "2025-05-02T01:02:52.537216Z",
     "iopub.status.busy": "2025-05-02T01:02:52.536841Z",
     "iopub.status.idle": "2025-05-02T01:02:52.563491Z",
     "shell.execute_reply": "2025-05-02T01:02:52.562819Z"
    },
    "papermill": {
     "duration": 0.035088,
     "end_time": "2025-05-02T01:02:52.564470",
     "exception": false,
     "start_time": "2025-05-02T01:02:52.529382",
     "status": "completed"
    },
    "tags": []
   },
   "outputs": [
    {
     "name": "stdout",
     "output_type": "stream",
     "text": [
      "                  MissingCount  MissingPercentage\n",
      "RecordID                     0               0.00\n",
      "Offense                      0               0.00\n",
      "IncidentID                   0               0.00\n",
      "BlockNumber                  0               0.00\n",
      "StreetName                   0               0.00\n",
      "Agency                       0               0.00\n",
      "HourReported                 0               0.00\n",
      "ReportingOfficer            17               0.07\n",
      "Date                         0               0.00\n",
      "DateString                   0               0.00\n",
      "DayOfWeek                    0               0.00\n",
      "Weekend                      0               0.00\n",
      "Season                       0               0.00\n",
      "HourAMPM                     0               0.00\n",
      "TimeOfDay                    0               0.00\n",
      "FullStreet                   0               0.00\n",
      "lat                          0               0.00\n",
      "lon                          0               0.00\n",
      "neighborhood                 0               0.00\n",
      "zip                          0               0.00\n"
     ]
    }
   ],
   "source": [
    "missing_info = missing_percentage(df)\n",
    "print(missing_info)\n"
   ]
  },
  {
   "cell_type": "code",
   "execution_count": 13,
   "id": "84154f3d",
   "metadata": {
    "execution": {
     "iopub.execute_input": "2025-05-02T01:02:52.579454Z",
     "iopub.status.busy": "2025-05-02T01:02:52.579013Z",
     "iopub.status.idle": "2025-05-02T01:02:52.606414Z",
     "shell.execute_reply": "2025-05-02T01:02:52.605751Z"
    },
    "papermill": {
     "duration": 0.035976,
     "end_time": "2025-05-02T01:02:52.607501",
     "exception": false,
     "start_time": "2025-05-02T01:02:52.571525",
     "status": "completed"
    },
    "tags": []
   },
   "outputs": [
    {
     "name": "stdout",
     "output_type": "stream",
     "text": [
      "<class 'pandas.core.frame.DataFrame'>\n",
      "RangeIndex: 25301 entries, 0 to 25300\n",
      "Data columns (total 20 columns):\n",
      " #   Column            Non-Null Count  Dtype         \n",
      "---  ------            --------------  -----         \n",
      " 0   RecordID          25301 non-null  int64         \n",
      " 1   Offense           25301 non-null  object        \n",
      " 2   IncidentID        25301 non-null  object        \n",
      " 3   BlockNumber       25301 non-null  object        \n",
      " 4   StreetName        25301 non-null  object        \n",
      " 5   Agency            25301 non-null  object        \n",
      " 6   HourReported      25301 non-null  object        \n",
      " 7   ReportingOfficer  25284 non-null  object        \n",
      " 8   Date              25301 non-null  datetime64[ns]\n",
      " 9   DateString        25301 non-null  object        \n",
      " 10  DayOfWeek         25301 non-null  object        \n",
      " 11  Weekend           25301 non-null  bool          \n",
      " 12  Season            25301 non-null  object        \n",
      " 13  HourAMPM          25301 non-null  object        \n",
      " 14  TimeOfDay         25301 non-null  object        \n",
      " 15  FullStreet        25301 non-null  object        \n",
      " 16  lat               25301 non-null  float64       \n",
      " 17  lon               25301 non-null  float64       \n",
      " 18  neighborhood      25301 non-null  object        \n",
      " 19  zip               25301 non-null  object        \n",
      "dtypes: bool(1), datetime64[ns](1), float64(2), int64(1), object(15)\n",
      "memory usage: 3.7+ MB\n"
     ]
    }
   ],
   "source": [
    "df.info()"
   ]
  },
  {
   "cell_type": "code",
   "execution_count": 14,
   "id": "d1f8255b",
   "metadata": {
    "execution": {
     "iopub.execute_input": "2025-05-02T01:02:52.622938Z",
     "iopub.status.busy": "2025-05-02T01:02:52.622472Z",
     "iopub.status.idle": "2025-05-02T01:02:52.665912Z",
     "shell.execute_reply": "2025-05-02T01:02:52.665226Z"
    },
    "papermill": {
     "duration": 0.052145,
     "end_time": "2025-05-02T01:02:52.667007",
     "exception": false,
     "start_time": "2025-05-02T01:02:52.614862",
     "status": "completed"
    },
    "tags": []
   },
   "outputs": [
    {
     "data": {
      "text/html": [
       "<div>\n",
       "<style scoped>\n",
       "    .dataframe tbody tr th:only-of-type {\n",
       "        vertical-align: middle;\n",
       "    }\n",
       "\n",
       "    .dataframe tbody tr th {\n",
       "        vertical-align: top;\n",
       "    }\n",
       "\n",
       "    .dataframe thead th {\n",
       "        text-align: right;\n",
       "    }\n",
       "</style>\n",
       "<table border=\"1\" class=\"dataframe\">\n",
       "  <thead>\n",
       "    <tr style=\"text-align: right;\">\n",
       "      <th></th>\n",
       "      <th>RecordID</th>\n",
       "      <th>Offense</th>\n",
       "      <th>IncidentID</th>\n",
       "      <th>Agency</th>\n",
       "      <th>ReportingOfficer</th>\n",
       "      <th>Date</th>\n",
       "      <th>DayOfWeek</th>\n",
       "      <th>Weekend</th>\n",
       "      <th>Season</th>\n",
       "      <th>TimeOfDay</th>\n",
       "      <th>FullStreet</th>\n",
       "      <th>lat</th>\n",
       "      <th>lon</th>\n",
       "      <th>neighborhood</th>\n",
       "      <th>zip</th>\n",
       "    </tr>\n",
       "  </thead>\n",
       "  <tbody>\n",
       "    <tr>\n",
       "      <th>0</th>\n",
       "      <td>1</td>\n",
       "      <td>Disorderly Conduct</td>\n",
       "      <td>202500014147</td>\n",
       "      <td>CPD</td>\n",
       "      <td>Love-Baker, Sydney</td>\n",
       "      <td>2025-04-29 21:33:08</td>\n",
       "      <td>Tuesday</td>\n",
       "      <td>False</td>\n",
       "      <td>Spring</td>\n",
       "      <td>Night</td>\n",
       "      <td>2000 INDIA RD</td>\n",
       "      <td>38.062347</td>\n",
       "      <td>-78.487902</td>\n",
       "      <td>The Meadows</td>\n",
       "      <td>22901</td>\n",
       "    </tr>\n",
       "    <tr>\n",
       "      <th>1</th>\n",
       "      <td>2</td>\n",
       "      <td>Assist Citizen - Mental/TDO/ECO</td>\n",
       "      <td>202500014148</td>\n",
       "      <td>CPD</td>\n",
       "      <td>Bentz, Benjamin</td>\n",
       "      <td>2025-04-29 21:31:57</td>\n",
       "      <td>Tuesday</td>\n",
       "      <td>False</td>\n",
       "      <td>Spring</td>\n",
       "      <td>Night</td>\n",
       "      <td>100 10 1/2 ST NW</td>\n",
       "      <td>38.032737</td>\n",
       "      <td>-78.495270</td>\n",
       "      <td>10th &amp; Page</td>\n",
       "      <td>22903</td>\n",
       "    </tr>\n",
       "    <tr>\n",
       "      <th>2</th>\n",
       "      <td>3</td>\n",
       "      <td>Assault Aggravated</td>\n",
       "      <td>202500014138</td>\n",
       "      <td>CPD</td>\n",
       "      <td>Ritter, Kobe</td>\n",
       "      <td>2025-04-29 20:12:23</td>\n",
       "      <td>Tuesday</td>\n",
       "      <td>False</td>\n",
       "      <td>Spring</td>\n",
       "      <td>Evening</td>\n",
       "      <td>1500 UNIVERSITY AVE</td>\n",
       "      <td>38.034578</td>\n",
       "      <td>-78.500340</td>\n",
       "      <td>Venable</td>\n",
       "      <td>22908</td>\n",
       "    </tr>\n",
       "    <tr>\n",
       "      <th>3</th>\n",
       "      <td>4</td>\n",
       "      <td>Assault Simple</td>\n",
       "      <td>202500014123</td>\n",
       "      <td>CPD</td>\n",
       "      <td>Ritter, Kobe</td>\n",
       "      <td>2025-04-29 18:38:03</td>\n",
       "      <td>Tuesday</td>\n",
       "      <td>False</td>\n",
       "      <td>Spring</td>\n",
       "      <td>Evening</td>\n",
       "      <td>700 STONEHENGE AVE</td>\n",
       "      <td>38.018659</td>\n",
       "      <td>-78.482357</td>\n",
       "      <td>Belmont</td>\n",
       "      <td>22903</td>\n",
       "    </tr>\n",
       "    <tr>\n",
       "      <th>4</th>\n",
       "      <td>5</td>\n",
       "      <td>Larceny - Shoplifitng</td>\n",
       "      <td>202500014121</td>\n",
       "      <td>CPD</td>\n",
       "      <td>Venereo, Arturo</td>\n",
       "      <td>2025-04-29 18:07:50</td>\n",
       "      <td>Tuesday</td>\n",
       "      <td>False</td>\n",
       "      <td>Spring</td>\n",
       "      <td>Evening</td>\n",
       "      <td>1100 5TH ST SW</td>\n",
       "      <td>38.017130</td>\n",
       "      <td>-78.497806</td>\n",
       "      <td>Johnson Village</td>\n",
       "      <td>22903</td>\n",
       "    </tr>\n",
       "  </tbody>\n",
       "</table>\n",
       "</div>"
      ],
      "text/plain": [
       "   RecordID                          Offense    IncidentID Agency  \\\n",
       "0         1               Disorderly Conduct  202500014147    CPD   \n",
       "1         2  Assist Citizen - Mental/TDO/ECO  202500014148    CPD   \n",
       "2         3               Assault Aggravated  202500014138    CPD   \n",
       "3         4                   Assault Simple  202500014123    CPD   \n",
       "4         5            Larceny - Shoplifitng  202500014121    CPD   \n",
       "\n",
       "     ReportingOfficer                Date DayOfWeek  Weekend  Season  \\\n",
       "0  Love-Baker, Sydney 2025-04-29 21:33:08   Tuesday    False  Spring   \n",
       "1    Bentz, Benjamin  2025-04-29 21:31:57   Tuesday    False  Spring   \n",
       "2        Ritter, Kobe 2025-04-29 20:12:23   Tuesday    False  Spring   \n",
       "3        Ritter, Kobe 2025-04-29 18:38:03   Tuesday    False  Spring   \n",
       "4     Venereo, Arturo 2025-04-29 18:07:50   Tuesday    False  Spring   \n",
       "\n",
       "  TimeOfDay           FullStreet        lat        lon     neighborhood    zip  \n",
       "0     Night        2000 INDIA RD  38.062347 -78.487902      The Meadows  22901  \n",
       "1     Night     100 10 1/2 ST NW  38.032737 -78.495270      10th & Page  22903  \n",
       "2   Evening  1500 UNIVERSITY AVE  38.034578 -78.500340          Venable  22908  \n",
       "3   Evening   700 STONEHENGE AVE  38.018659 -78.482357          Belmont  22903  \n",
       "4   Evening       1100 5TH ST SW  38.017130 -78.497806  Johnson Village  22903  "
      ]
     },
     "execution_count": 14,
     "metadata": {},
     "output_type": "execute_result"
    }
   ],
   "source": [
    "# Now drop the original BlockNumber and StreetName columns\n",
    "df.drop(columns=['BlockNumber', 'StreetName','HourAMPM','HourReported','DateString'], inplace=True)\n",
    "df[\"zip\"] = df[\"zip\"].astype(str)\n",
    "\n",
    "# Fill all missing values in the DataFrame with \"N/A\"\n",
    "df.replace({None: \"N/A\", np.nan: \"N/A\", \"\": \"N/A\"}, inplace=True)\n",
    "df.head()"
   ]
  },
  {
   "cell_type": "code",
   "execution_count": 15,
   "id": "e8485dde",
   "metadata": {
    "execution": {
     "iopub.execute_input": "2025-05-02T01:02:52.682576Z",
     "iopub.status.busy": "2025-05-02T01:02:52.682356Z",
     "iopub.status.idle": "2025-05-02T01:02:52.699020Z",
     "shell.execute_reply": "2025-05-02T01:02:52.698460Z"
    },
    "papermill": {
     "duration": 0.025454,
     "end_time": "2025-05-02T01:02:52.700051",
     "exception": false,
     "start_time": "2025-05-02T01:02:52.674597",
     "status": "completed"
    },
    "tags": []
   },
   "outputs": [
    {
     "name": "stdout",
     "output_type": "stream",
     "text": [
      "                  MissingCount  MissingPercentage\n",
      "RecordID                     0                0.0\n",
      "Offense                      0                0.0\n",
      "IncidentID                   0                0.0\n",
      "Agency                       0                0.0\n",
      "ReportingOfficer             0                0.0\n",
      "Date                         0                0.0\n",
      "DayOfWeek                    0                0.0\n",
      "Weekend                      0                0.0\n",
      "Season                       0                0.0\n",
      "TimeOfDay                    0                0.0\n",
      "FullStreet                   0                0.0\n",
      "lat                          0                0.0\n",
      "lon                          0                0.0\n",
      "neighborhood                 0                0.0\n",
      "zip                          0                0.0\n"
     ]
    }
   ],
   "source": [
    "missing_info = missing_percentage(df)\n",
    "print(missing_info)"
   ]
  },
  {
   "cell_type": "code",
   "execution_count": 16,
   "id": "06580f7e",
   "metadata": {
    "execution": {
     "iopub.execute_input": "2025-05-02T01:02:52.715696Z",
     "iopub.status.busy": "2025-05-02T01:02:52.715244Z",
     "iopub.status.idle": "2025-05-02T01:02:52.719788Z",
     "shell.execute_reply": "2025-05-02T01:02:52.719252Z"
    },
    "papermill": {
     "duration": 0.013349,
     "end_time": "2025-05-02T01:02:52.720806",
     "exception": false,
     "start_time": "2025-05-02T01:02:52.707457",
     "status": "completed"
    },
    "tags": []
   },
   "outputs": [
    {
     "data": {
      "text/plain": [
       "Index(['RecordID', 'Offense', 'IncidentID', 'Agency', 'ReportingOfficer',\n",
       "       'Date', 'DayOfWeek', 'Weekend', 'Season', 'TimeOfDay', 'FullStreet',\n",
       "       'lat', 'lon', 'neighborhood', 'zip'],\n",
       "      dtype='object')"
      ]
     },
     "execution_count": 16,
     "metadata": {},
     "output_type": "execute_result"
    }
   ],
   "source": [
    "df.columns"
   ]
  },
  {
   "cell_type": "code",
   "execution_count": 17,
   "id": "e96d9516",
   "metadata": {
    "execution": {
     "iopub.execute_input": "2025-05-02T01:02:52.736553Z",
     "iopub.status.busy": "2025-05-02T01:02:52.736120Z",
     "iopub.status.idle": "2025-05-02T01:02:52.754248Z",
     "shell.execute_reply": "2025-05-02T01:02:52.753620Z"
    },
    "papermill": {
     "duration": 0.026988,
     "end_time": "2025-05-02T01:02:52.755249",
     "exception": false,
     "start_time": "2025-05-02T01:02:52.728261",
     "status": "completed"
    },
    "tags": []
   },
   "outputs": [
    {
     "name": "stdout",
     "output_type": "stream",
     "text": [
      "<class 'pandas.core.frame.DataFrame'>\n",
      "RangeIndex: 25301 entries, 0 to 25300\n",
      "Data columns (total 15 columns):\n",
      " #   Column            Non-Null Count  Dtype         \n",
      "---  ------            --------------  -----         \n",
      " 0   RecordID          25301 non-null  int64         \n",
      " 1   Offense           25301 non-null  object        \n",
      " 2   IncidentID        25301 non-null  object        \n",
      " 3   Agency            25301 non-null  object        \n",
      " 4   ReportingOfficer  25301 non-null  object        \n",
      " 5   Date              25301 non-null  datetime64[ns]\n",
      " 6   DayOfWeek         25301 non-null  object        \n",
      " 7   Weekend           25301 non-null  bool          \n",
      " 8   Season            25301 non-null  object        \n",
      " 9   TimeOfDay         25301 non-null  object        \n",
      " 10  FullStreet        25301 non-null  object        \n",
      " 11  lat               25301 non-null  float64       \n",
      " 12  lon               25301 non-null  float64       \n",
      " 13  neighborhood      25301 non-null  object        \n",
      " 14  zip               25301 non-null  object        \n",
      "dtypes: bool(1), datetime64[ns](1), float64(2), int64(1), object(10)\n",
      "memory usage: 2.7+ MB\n"
     ]
    }
   ],
   "source": [
    "df.info()"
   ]
  },
  {
   "cell_type": "markdown",
   "id": "1600869f",
   "metadata": {
    "papermill": {
     "duration": 0.007352,
     "end_time": "2025-05-02T01:02:52.770209",
     "exception": false,
     "start_time": "2025-05-02T01:02:52.762857",
     "status": "completed"
    },
    "tags": []
   },
   "source": [
    "### Export Clean Data"
   ]
  },
  {
   "cell_type": "code",
   "execution_count": 18,
   "id": "6f76a757",
   "metadata": {
    "execution": {
     "iopub.execute_input": "2025-05-02T01:02:52.786355Z",
     "iopub.status.busy": "2025-05-02T01:02:52.785956Z",
     "iopub.status.idle": "2025-05-02T01:03:02.040538Z",
     "shell.execute_reply": "2025-05-02T01:03:02.039847Z"
    },
    "papermill": {
     "duration": 9.263802,
     "end_time": "2025-05-02T01:03:02.041594",
     "exception": false,
     "start_time": "2025-05-02T01:02:52.777792",
     "status": "completed"
    },
    "tags": []
   },
   "outputs": [
    {
     "name": "stdout",
     "output_type": "stream",
     "text": [
      "Project Root: /home/runner/work/crime-data/crime-data\n"
     ]
    },
    {
     "name": "stdout",
     "output_type": "stream",
     "text": [
      "Data saved to: /home/runner/work/crime-data/crime-data/data/charlottesville_crime_incidents.csv\n"
     ]
    },
    {
     "name": "stdout",
     "output_type": "stream",
     "text": [
      "Excel saved to: /home/runner/work/crime-data/crime-data/data/charlottesville_crime_incidents.xlsx\n"
     ]
    }
   ],
   "source": [
    "# Determine the project root (assuming papermill is run from the repository root)\n",
    "project_root = os.getcwd()\n",
    "print(\"Project Root:\", project_root)\n",
    "\n",
    "# Set the data directory within the project root\n",
    "data_dir = os.path.join(project_root, \"data\")\n",
    "\n",
    "# Ensure the \"data\" directory exists (create it if it doesn't)\n",
    "if not os.path.exists(data_dir):\n",
    "    os.makedirs(data_dir)\n",
    "\n",
    "# Export the DataFrame to CSV in the \"data\" folder located in the project root\n",
    "csv_path = os.path.join(data_dir, \"charlottesville_crime_incidents.csv\")\n",
    "df.to_csv(csv_path, index=False)\n",
    "print(\"Data saved to:\", csv_path)\n",
    "\n",
    "# Construct the path to your Excel file\n",
    "excel_path = os.path.join(data_dir, \"charlottesville_crime_incidents.xlsx\")\n",
    "\n",
    "# Export the DataFrame to Excel\n",
    "df.to_excel(excel_path, index=False)\n",
    "print(\"Excel saved to:\", excel_path)\n"
   ]
  },
  {
   "cell_type": "markdown",
   "id": "c38bcbe5",
   "metadata": {
    "papermill": {
     "duration": 0.007484,
     "end_time": "2025-05-02T01:03:02.056871",
     "exception": false,
     "start_time": "2025-05-02T01:03:02.049387",
     "status": "completed"
    },
    "tags": []
   },
   "source": [
    "## Predictive Analytics"
   ]
  },
  {
   "cell_type": "code",
   "execution_count": 19,
   "id": "a001d306",
   "metadata": {
    "execution": {
     "iopub.execute_input": "2025-05-02T01:03:02.073111Z",
     "iopub.status.busy": "2025-05-02T01:03:02.072663Z",
     "iopub.status.idle": "2025-05-02T01:03:02.084479Z",
     "shell.execute_reply": "2025-05-02T01:03:02.083824Z"
    },
    "papermill": {
     "duration": 0.021132,
     "end_time": "2025-05-02T01:03:02.085544",
     "exception": false,
     "start_time": "2025-05-02T01:03:02.064412",
     "status": "completed"
    },
    "tags": []
   },
   "outputs": [
    {
     "data": {
      "text/html": [
       "<div>\n",
       "<style scoped>\n",
       "    .dataframe tbody tr th:only-of-type {\n",
       "        vertical-align: middle;\n",
       "    }\n",
       "\n",
       "    .dataframe tbody tr th {\n",
       "        vertical-align: top;\n",
       "    }\n",
       "\n",
       "    .dataframe thead th {\n",
       "        text-align: right;\n",
       "    }\n",
       "</style>\n",
       "<table border=\"1\" class=\"dataframe\">\n",
       "  <thead>\n",
       "    <tr style=\"text-align: right;\">\n",
       "      <th></th>\n",
       "      <th>RecordID</th>\n",
       "      <th>Offense</th>\n",
       "      <th>IncidentID</th>\n",
       "      <th>Agency</th>\n",
       "      <th>ReportingOfficer</th>\n",
       "      <th>Date</th>\n",
       "      <th>DayOfWeek</th>\n",
       "      <th>Weekend</th>\n",
       "      <th>Season</th>\n",
       "      <th>TimeOfDay</th>\n",
       "      <th>FullStreet</th>\n",
       "      <th>lat</th>\n",
       "      <th>lon</th>\n",
       "      <th>neighborhood</th>\n",
       "      <th>zip</th>\n",
       "    </tr>\n",
       "  </thead>\n",
       "  <tbody>\n",
       "    <tr>\n",
       "      <th>0</th>\n",
       "      <td>1</td>\n",
       "      <td>Disorderly Conduct</td>\n",
       "      <td>202500014147</td>\n",
       "      <td>CPD</td>\n",
       "      <td>Love-Baker, Sydney</td>\n",
       "      <td>2025-04-29 21:33:08</td>\n",
       "      <td>Tuesday</td>\n",
       "      <td>False</td>\n",
       "      <td>Spring</td>\n",
       "      <td>Night</td>\n",
       "      <td>2000 INDIA RD</td>\n",
       "      <td>38.062347</td>\n",
       "      <td>-78.487902</td>\n",
       "      <td>The Meadows</td>\n",
       "      <td>22901</td>\n",
       "    </tr>\n",
       "    <tr>\n",
       "      <th>1</th>\n",
       "      <td>2</td>\n",
       "      <td>Assist Citizen - Mental/TDO/ECO</td>\n",
       "      <td>202500014148</td>\n",
       "      <td>CPD</td>\n",
       "      <td>Bentz, Benjamin</td>\n",
       "      <td>2025-04-29 21:31:57</td>\n",
       "      <td>Tuesday</td>\n",
       "      <td>False</td>\n",
       "      <td>Spring</td>\n",
       "      <td>Night</td>\n",
       "      <td>100 10 1/2 ST NW</td>\n",
       "      <td>38.032737</td>\n",
       "      <td>-78.495270</td>\n",
       "      <td>10th &amp; Page</td>\n",
       "      <td>22903</td>\n",
       "    </tr>\n",
       "    <tr>\n",
       "      <th>2</th>\n",
       "      <td>3</td>\n",
       "      <td>Assault Aggravated</td>\n",
       "      <td>202500014138</td>\n",
       "      <td>CPD</td>\n",
       "      <td>Ritter, Kobe</td>\n",
       "      <td>2025-04-29 20:12:23</td>\n",
       "      <td>Tuesday</td>\n",
       "      <td>False</td>\n",
       "      <td>Spring</td>\n",
       "      <td>Evening</td>\n",
       "      <td>1500 UNIVERSITY AVE</td>\n",
       "      <td>38.034578</td>\n",
       "      <td>-78.500340</td>\n",
       "      <td>Venable</td>\n",
       "      <td>22908</td>\n",
       "    </tr>\n",
       "    <tr>\n",
       "      <th>3</th>\n",
       "      <td>4</td>\n",
       "      <td>Assault Simple</td>\n",
       "      <td>202500014123</td>\n",
       "      <td>CPD</td>\n",
       "      <td>Ritter, Kobe</td>\n",
       "      <td>2025-04-29 18:38:03</td>\n",
       "      <td>Tuesday</td>\n",
       "      <td>False</td>\n",
       "      <td>Spring</td>\n",
       "      <td>Evening</td>\n",
       "      <td>700 STONEHENGE AVE</td>\n",
       "      <td>38.018659</td>\n",
       "      <td>-78.482357</td>\n",
       "      <td>Belmont</td>\n",
       "      <td>22903</td>\n",
       "    </tr>\n",
       "    <tr>\n",
       "      <th>4</th>\n",
       "      <td>5</td>\n",
       "      <td>Larceny - Shoplifitng</td>\n",
       "      <td>202500014121</td>\n",
       "      <td>CPD</td>\n",
       "      <td>Venereo, Arturo</td>\n",
       "      <td>2025-04-29 18:07:50</td>\n",
       "      <td>Tuesday</td>\n",
       "      <td>False</td>\n",
       "      <td>Spring</td>\n",
       "      <td>Evening</td>\n",
       "      <td>1100 5TH ST SW</td>\n",
       "      <td>38.017130</td>\n",
       "      <td>-78.497806</td>\n",
       "      <td>Johnson Village</td>\n",
       "      <td>22903</td>\n",
       "    </tr>\n",
       "  </tbody>\n",
       "</table>\n",
       "</div>"
      ],
      "text/plain": [
       "   RecordID                          Offense    IncidentID Agency  \\\n",
       "0         1               Disorderly Conduct  202500014147    CPD   \n",
       "1         2  Assist Citizen - Mental/TDO/ECO  202500014148    CPD   \n",
       "2         3               Assault Aggravated  202500014138    CPD   \n",
       "3         4                   Assault Simple  202500014123    CPD   \n",
       "4         5            Larceny - Shoplifitng  202500014121    CPD   \n",
       "\n",
       "     ReportingOfficer                Date DayOfWeek  Weekend  Season  \\\n",
       "0  Love-Baker, Sydney 2025-04-29 21:33:08   Tuesday    False  Spring   \n",
       "1    Bentz, Benjamin  2025-04-29 21:31:57   Tuesday    False  Spring   \n",
       "2        Ritter, Kobe 2025-04-29 20:12:23   Tuesday    False  Spring   \n",
       "3        Ritter, Kobe 2025-04-29 18:38:03   Tuesday    False  Spring   \n",
       "4     Venereo, Arturo 2025-04-29 18:07:50   Tuesday    False  Spring   \n",
       "\n",
       "  TimeOfDay           FullStreet        lat        lon     neighborhood    zip  \n",
       "0     Night        2000 INDIA RD  38.062347 -78.487902      The Meadows  22901  \n",
       "1     Night     100 10 1/2 ST NW  38.032737 -78.495270      10th & Page  22903  \n",
       "2   Evening  1500 UNIVERSITY AVE  38.034578 -78.500340          Venable  22908  \n",
       "3   Evening   700 STONEHENGE AVE  38.018659 -78.482357          Belmont  22903  \n",
       "4   Evening       1100 5TH ST SW  38.017130 -78.497806  Johnson Village  22903  "
      ]
     },
     "execution_count": 19,
     "metadata": {},
     "output_type": "execute_result"
    }
   ],
   "source": [
    "df.head()"
   ]
  },
  {
   "cell_type": "code",
   "execution_count": 20,
   "id": "f20040e3",
   "metadata": {
    "execution": {
     "iopub.execute_input": "2025-05-02T01:03:02.102288Z",
     "iopub.status.busy": "2025-05-02T01:03:02.101838Z",
     "iopub.status.idle": "2025-05-02T01:03:02.106227Z",
     "shell.execute_reply": "2025-05-02T01:03:02.105708Z"
    },
    "papermill": {
     "duration": 0.013702,
     "end_time": "2025-05-02T01:03:02.107166",
     "exception": false,
     "start_time": "2025-05-02T01:03:02.093464",
     "status": "completed"
    },
    "tags": []
   },
   "outputs": [
    {
     "data": {
      "text/plain": [
       "Index(['RecordID', 'Offense', 'IncidentID', 'Agency', 'ReportingOfficer',\n",
       "       'Date', 'DayOfWeek', 'Weekend', 'Season', 'TimeOfDay', 'FullStreet',\n",
       "       'lat', 'lon', 'neighborhood', 'zip'],\n",
       "      dtype='object')"
      ]
     },
     "execution_count": 20,
     "metadata": {},
     "output_type": "execute_result"
    }
   ],
   "source": [
    "df.columns"
   ]
  },
  {
   "cell_type": "markdown",
   "id": "cc14d325",
   "metadata": {
    "papermill": {
     "duration": 0.007806,
     "end_time": "2025-05-02T01:03:02.122954",
     "exception": false,
     "start_time": "2025-05-02T01:03:02.115148",
     "status": "completed"
    },
    "tags": []
   },
   "source": [
    "### Data Preparation\n",
    "\n",
    "We need to ensure the data is in the correct format for modeling and can handle missing values, categorical variables, and dates. Here's how to prepare your data:"
   ]
  },
  {
   "cell_type": "code",
   "execution_count": 21,
   "id": "b269c852",
   "metadata": {
    "execution": {
     "iopub.execute_input": "2025-05-02T01:03:02.139614Z",
     "iopub.status.busy": "2025-05-02T01:03:02.139212Z",
     "iopub.status.idle": "2025-05-02T01:03:06.281604Z",
     "shell.execute_reply": "2025-05-02T01:03:06.280868Z"
    },
    "papermill": {
     "duration": 4.152221,
     "end_time": "2025-05-02T01:03:06.283006",
     "exception": false,
     "start_time": "2025-05-02T01:03:02.130785",
     "status": "completed"
    },
    "tags": []
   },
   "outputs": [],
   "source": [
    "import pandas as pd\n",
    "from sklearn.model_selection import train_test_split\n",
    "from sklearn.preprocessing import OneHotEncoder, LabelEncoder\n",
    "from sklearn.ensemble import RandomForestClassifier\n",
    "from sklearn.linear_model import LogisticRegression\n",
    "from sklearn.tree import DecisionTreeClassifier\n",
    "from sklearn.metrics import classification_report, accuracy_score\n",
    "import seaborn as sns\n",
    "import matplotlib.pyplot as plt\n",
    "\n",
    "# Convert 'Date' to datetime\n",
    "df['Date'] = pd.to_datetime(df['Date'])\n",
    "\n",
    "# Feature engineering: Extract additional time-based features\n",
    "df['Year'] = df['Date'].dt.year\n",
    "df['Month'] = df['Date'].dt.month\n",
    "df['DayOfMonth'] = df['Date'].dt.day\n",
    "\n",
    "# One-hot encoding for 'FullStreet', 'neighborhood', 'zip'\n",
    "df = pd.get_dummies(df, columns=['FullStreet', 'neighborhood', 'zip'], drop_first=True)\n",
    "\n",
    "# Label encoding for ordered variables (those with a natural order like 'DayOfWeek', 'Season', 'TimeOfDay')\n",
    "label_encoders = {}\n",
    "for column in ['DayOfWeek', 'Season', 'TimeOfDay', 'Agency', 'ReportingOfficer']:  # Example ordinal variables\n",
    "    le = LabelEncoder()\n",
    "    df[column] = le.fit_transform(df[column])\n",
    "    label_encoders[column] = le\n",
    "\n",
    "# Filter the dataset to include only the offenses of interest\n",
    "offenses_of_interest = [\n",
    "    'Hit and Run', 'Assault Simple', 'Suspicious Activity', 'Vandalism', \n",
    "    'Larceny - From Mot Vehicle', 'Larceny - All Other', \n",
    "    'Assist Citizen - Mental/TDO/ECO', 'Lost/FoundProperty'\n",
    "]\n",
    "\n",
    "df = df[df['Offense'].isin(offenses_of_interest)]\n",
    "\n",
    "# Label encode the target variable (Offense)\n",
    "offense_encoder = LabelEncoder()\n",
    "df['Offense'] = offense_encoder.fit_transform(df['Offense'])\n",
    "\n",
    "# Separate features (X) and target (y)\n",
    "X = df[['Year', 'Month', 'DayOfMonth', 'DayOfWeek', 'Weekend', 'Season', 'TimeOfDay', 'lat', 'lon', 'Agency', 'ReportingOfficer']]\n",
    "y = df['Offense']  # Offense is now the encoded target variable\n",
    "\n",
    "# Split the data into training and testing sets\n",
    "X_train, X_test, y_train, y_test = train_test_split(X, y, test_size=0.3, random_state=42)\n"
   ]
  },
  {
   "cell_type": "markdown",
   "id": "96ae8a8b",
   "metadata": {
    "papermill": {
     "duration": 0.007992,
     "end_time": "2025-05-02T01:03:06.299392",
     "exception": false,
     "start_time": "2025-05-02T01:03:06.291400",
     "status": "completed"
    },
    "tags": []
   },
   "source": [
    "### Model Training\n",
    "\n",
    "Here we will train several models (e.g., Random Forest, Logistic Regression, and Decision Tree). We will use cross-validation to choose the best model based on accuracy, and then explain the impact of the variables."
   ]
  },
  {
   "cell_type": "code",
   "execution_count": 22,
   "id": "8cee5643",
   "metadata": {
    "execution": {
     "iopub.execute_input": "2025-05-02T01:03:06.316677Z",
     "iopub.status.busy": "2025-05-02T01:03:06.315985Z",
     "iopub.status.idle": "2025-05-02T01:03:09.881135Z",
     "shell.execute_reply": "2025-05-02T01:03:09.880444Z"
    },
    "papermill": {
     "duration": 3.574973,
     "end_time": "2025-05-02T01:03:09.882236",
     "exception": false,
     "start_time": "2025-05-02T01:03:06.307263",
     "status": "completed"
    },
    "tags": []
   },
   "outputs": [
    {
     "name": "stderr",
     "output_type": "stream",
     "text": [
      "/opt/hostedtoolcache/Python/3.9.22/x64/lib/python3.9/site-packages/sklearn/linear_model/_logistic.py:465: ConvergenceWarning: lbfgs failed to converge (status=1):\n",
      "STOP: TOTAL NO. of ITERATIONS REACHED LIMIT.\n",
      "\n",
      "Increase the number of iterations (max_iter) or scale the data as shown in:\n",
      "    https://scikit-learn.org/stable/modules/preprocessing.html\n",
      "Please also refer to the documentation for alternative solver options:\n",
      "    https://scikit-learn.org/stable/modules/linear_model.html#logistic-regression\n",
      "  n_iter_i = _check_optimize_result(\n",
      "/opt/hostedtoolcache/Python/3.9.22/x64/lib/python3.9/site-packages/sklearn/metrics/_classification.py:1565: UndefinedMetricWarning: Precision is ill-defined and being set to 0.0 in labels with no predicted samples. Use `zero_division` parameter to control this behavior.\n",
      "  _warn_prf(average, modifier, f\"{metric.capitalize()} is\", len(result))\n",
      "/opt/hostedtoolcache/Python/3.9.22/x64/lib/python3.9/site-packages/sklearn/metrics/_classification.py:1565: UndefinedMetricWarning: Precision is ill-defined and being set to 0.0 in labels with no predicted samples. Use `zero_division` parameter to control this behavior.\n",
      "  _warn_prf(average, modifier, f\"{metric.capitalize()} is\", len(result))\n",
      "/opt/hostedtoolcache/Python/3.9.22/x64/lib/python3.9/site-packages/sklearn/metrics/_classification.py:1565: UndefinedMetricWarning: Precision is ill-defined and being set to 0.0 in labels with no predicted samples. Use `zero_division` parameter to control this behavior.\n",
      "  _warn_prf(average, modifier, f\"{metric.capitalize()} is\", len(result))\n"
     ]
    },
    {
     "name": "stdout",
     "output_type": "stream",
     "text": [
      "\n",
      "Classification Report for All Models:\n",
      "\n",
      "Model: RandomForest\n",
      "Accuracy: 0.2906\n",
      "              precision    recall  f1-score      support\n",
      "0              0.300275  0.364548  0.329305   598.000000\n",
      "1              0.292479  0.247059  0.267857   425.000000\n",
      "2              0.318930  0.459259  0.376442   675.000000\n",
      "3              0.224852  0.156701  0.184690   485.000000\n",
      "4              0.342520  0.267692  0.300518   325.000000\n",
      "5              0.257991  0.222880  0.239153   507.000000\n",
      "6              0.259740  0.218818  0.237530   457.000000\n",
      "accuracy       0.290611  0.290611  0.290611     0.290611\n",
      "macro avg      0.285255  0.276708  0.276499  3472.000000\n",
      "weighted avg   0.284856  0.290611  0.282807  3472.000000\n"
     ]
    },
    {
     "data": {
      "image/png": "[encoded data removed]",
      "text/plain": [
       "<Figure size 800x600 with 2 Axes>"
      ]
     },
     "metadata": {},
     "output_type": "display_data"
    },
    {
     "name": "stdout",
     "output_type": "stream",
     "text": [
      "\n",
      "Model: LogisticRegression\n",
      "Accuracy: 0.2108\n",
      "              precision    recall  f1-score      support\n",
      "0              0.199306  0.479933  0.281649   598.000000\n",
      "1              0.000000  0.000000  0.000000   425.000000\n",
      "2              0.218996  0.659259  0.328777   675.000000\n",
      "3              0.000000  0.000000  0.000000   485.000000\n",
      "4              0.000000  0.000000  0.000000   325.000000\n",
      "5              0.000000  0.000000  0.000000   507.000000\n",
      "6              0.000000  0.000000  0.000000   457.000000\n",
      "accuracy       0.210829  0.210829  0.210829     0.210829\n",
      "macro avg      0.059757  0.162742  0.087204  3472.000000\n",
      "weighted avg   0.076903  0.210829  0.112428  3472.000000\n"
     ]
    },
    {
     "data": {
      "image/png": "[encoded data removed]",
      "text/plain": [
       "<Figure size 800x600 with 2 Axes>"
      ]
     },
     "metadata": {},
     "output_type": "display_data"
    },
    {
     "name": "stdout",
     "output_type": "stream",
     "text": [
      "\n",
      "Model: DecisionTree\n",
      "Accuracy: 0.2160\n",
      "              precision    recall  f1-score      support\n",
      "0              0.240143  0.224080  0.231834   598.000000\n",
      "1              0.219149  0.242353  0.230168   425.000000\n",
      "2              0.284211  0.280000  0.282090   675.000000\n",
      "3              0.176955  0.177320  0.177137   485.000000\n",
      "4              0.187311  0.190769  0.189024   325.000000\n",
      "5              0.206226  0.209073  0.207640   507.000000\n",
      "6              0.156250  0.153173  0.154696   457.000000\n",
      "accuracy       0.216014  0.216014  0.216014     0.216014\n",
      "macro avg      0.210035  0.210967  0.210370  3472.000000\n",
      "weighted avg   0.216373  0.216014  0.216066  3472.000000\n"
     ]
    },
    {
     "data": {
      "image/png": "[encoded data removed]",
      "text/plain": [
       "<Figure size 800x600 with 2 Axes>"
      ]
     },
     "metadata": {},
     "output_type": "display_data"
    },
    {
     "name": "stdout",
     "output_type": "stream",
     "text": [
      "\n",
      "Best Model:\n",
      "Best Model: RandomForestClassifier()\n",
      "Best Model Accuracy: 0.2906\n"
     ]
    }
   ],
   "source": [
    "import pandas as pd\n",
    "from sklearn.model_selection import train_test_split\n",
    "from sklearn.ensemble import RandomForestClassifier\n",
    "from sklearn.linear_model import LogisticRegression\n",
    "from sklearn.tree import DecisionTreeClassifier\n",
    "from sklearn.metrics import classification_report, accuracy_score, confusion_matrix\n",
    "import seaborn as sns\n",
    "import matplotlib.pyplot as plt\n",
    "\n",
    "# Define models\n",
    "models = {\n",
    "    'RandomForest': RandomForestClassifier(),\n",
    "    'LogisticRegression': LogisticRegression(max_iter=1000),\n",
    "    'DecisionTree': DecisionTreeClassifier()\n",
    "}\n",
    "\n",
    "# Train models and evaluate them\n",
    "best_model = None\n",
    "best_score = 0\n",
    "model_reports = {}\n",
    "\n",
    "for model_name, model in models.items():\n",
    "    model.fit(X_train, y_train)  # Train model\n",
    "    y_pred = model.predict(X_test)  # Make predictions\n",
    "    \n",
    "    # Calculate accuracy and generate classification report\n",
    "    accuracy = accuracy_score(y_test, y_pred)\n",
    "    model_reports[model_name] = classification_report(y_test, y_pred, output_dict=True)  # Store as a dictionary for easier analysis\n",
    "    \n",
    "    # Track best performing model\n",
    "    if accuracy > best_score:\n",
    "        best_score = accuracy\n",
    "        best_model = model\n",
    "\n",
    "# Display classification reports and confusion matrices\n",
    "print(\"\\nClassification Report for All Models:\")\n",
    "for model_name, report in model_reports.items():\n",
    "    print(f\"\\nModel: {model_name}\")\n",
    "    print(\"Accuracy: {:.4f}\".format(accuracy_score(y_test, models[model_name].predict(X_test))))  # Display accuracy\n",
    "    print(pd.DataFrame(report).transpose())  # Display classification report as a DataFrame\n",
    "\n",
    "    # Plot Confusion Matrix\n",
    "    cm = confusion_matrix(y_test, models[model_name].predict(X_test))\n",
    "    plt.figure(figsize=(8, 6))\n",
    "    sns.heatmap(cm, annot=True, fmt=\"d\", cmap='Blues', xticklabels=offense_encoder.classes_, yticklabels=offense_encoder.classes_)\n",
    "    plt.title(f\"Confusion Matrix - {model_name}\")\n",
    "    plt.xlabel('Predicted Labels')\n",
    "    plt.ylabel('True Labels')\n",
    "    plt.show()\n",
    "\n",
    "# Display best model details\n",
    "print(\"\\nBest Model:\")\n",
    "print(f\"Best Model: {best_model}\")\n",
    "print(f\"Best Model Accuracy: {best_score:.4f}\")\n"
   ]
  },
  {
   "cell_type": "markdown",
   "id": "fe830918",
   "metadata": {
    "papermill": {
     "duration": 0.010582,
     "end_time": "2025-05-02T01:03:09.904292",
     "exception": false,
     "start_time": "2025-05-02T01:03:09.893710",
     "status": "completed"
    },
    "tags": []
   },
   "source": [
    "#### Classification Report for All Models:\n",
    "\n",
    "### Explanation of the Classification Results (RandomForest Model)\n",
    "\n",
    "The results you provided are from a **Random Forest** model, which is used for predicting different types of offenses. Let's break down the key components of the results:\n",
    "\n",
    "#### 1. **Accuracy: 0.2822**\n",
    "   - **Accuracy** measures the overall percentage of correct predictions made by the model. An accuracy of 28.22% means the model correctly predicted the offense in about 28% of the cases. This indicates the model's predictions are not highly reliable, as the accuracy is quite low.\n",
    "\n",
    "#### 2. **Classification Report:**\n",
    "   The classification report includes precision, recall, and F1-score for each offense. Let's go over these terms and how they apply to the results:\n",
    "\n",
    "   - **Precision**: The proportion of true positive predictions out of all positive predictions made by the model for a specific class (offense).\n",
    "   - **Recall**: The proportion of true positive predictions out of all actual positive instances in the dataset.\n",
    "   - **F1-Score**: The harmonic mean of precision and recall, providing a balance between the two metrics.\n",
    "   - **Support**: The number of actual occurrences of each class in the test set.\n",
    "\n",
    "   Let's analyze each offense based on these metrics:\n",
    "\n",
    "   | **Offense**                        | **Precision** | **Recall** | **F1-Score** | **Support** |\n",
    "   |------------------------------------|---------------|------------|--------------|-------------|\n",
    "   | **Assault Simple**                 | 0.2892        | 0.3754     | 0.3267       | 594         |\n",
    "   | **Assist Citizen - Mental/TDO/ECO**| 0.3182        | 0.2274     | 0.2652       | 431         |\n",
    "   | **Hit and Run**                    | 0.2963        | 0.4765     | 0.3654       | 638         |\n",
    "   | **Larceny - All Other**            | 0.2270        | 0.1453     | 0.1772       | 475         |\n",
    "   | **Lost/FoundProperty**             | 0.3333        | 0.2102     | 0.2578       | 352         |\n",
    "   | **Suspicious Activity**            | 0.2344        | 0.2169     | 0.2253       | 484         |\n",
    "   | **Vandalism**                      | 0.2712        | 0.2106     | 0.2371       | 470         |\n",
    "\n",
    "#### 3. **Key Insights from the Report:**\n",
    "\n",
    "- **Precision**:\n",
    "   - The highest precision is for **Larceny - All Other** (0.3333), indicating that when the model predicts this offense, it is correct about 33% of the time. However, this is still quite low.\n",
    "   - **Assist Citizen - Mental/TDO/ECO** has the lowest precision (0.2269), meaning that the model's predictions for this offense tend to be wrong more often than correct.\n",
    "\n",
    "- **Recall**:\n",
    "   - **Hit and Run** has the highest recall (0.4765), meaning the model identifies about 48% of the actual occurrences of this offense. This is better than the precision, which indicates it is missing many true positives but is still able to identify a fair number of cases.\n",
    "   - **Larceny - All Other** and **Suspicious Activity** have the lowest recall values (0.1453 and 0.2169, respectively), indicating that the model is failing to identify most of the actual cases for these offenses.\n",
    "\n",
    "- **F1-Score**:\n",
    "   - The **F1-Score** balances precision and recall. It is highest for **Hit and Run** (0.3654), but still relatively low overall. This suggests the model is better at identifying **Hit and Run** than other offenses but still has room for improvement.\n",
    "   - **Larceny - All Other** has the lowest F1-Score (0.1772), indicating a poor balance between precision and recall for this offense.\n",
    "\n",
    "#### 4. **Macro Average and Weighted Average:**\n",
    "   - **Macro Average**: This gives the average precision, recall, and F1-Score across all classes (offenses) without considering the class distribution. It averages the results for all offenses equally.\n",
    "     - Precision: 0.2814\n",
    "     - Recall: 0.2661\n",
    "     - F1-Score: 0.2649\n",
    "   - **Weighted Average**: This averages the metrics but weighs each class by its support (the number of true instances in the test set). This gives a better sense of overall performance, considering the class distribution.\n",
    "     - Precision: 0.2799\n",
    "     - Recall: 0.2822\n",
    "     - F1-Score: 0.2720\n",
    "\n",
    "#### 5. **Confusion Matrix (Visualization Analysis)**:\n",
    "   - The confusion matrix shows the distribution of true positive, false positive, true negative, and false negative predictions for each class.\n",
    "     - For **Hit and Run**, the model performs relatively well in identifying this offense (304 true positives). However, it also misclassifies some **Hit and Run** instances as other offenses (e.g., **Assault Simple**, **Suspicious Activity**, etc.).\n",
    "     - **Larceny - All Other** is frequently misclassified as **Hit and Run**, **Suspicious Activity**, and others. This is evident from the large number of off-diagonal elements in its row.\n",
    "     - **Assist Citizen - Mental/TDO/ECO** and **Suspicious Activity** are frequently misclassified, as seen by the off-diagonal values in their rows.\n",
    "\n",
    "### Conclusion:\n",
    "The Random Forest model has low accuracy (28.22%), suggesting that it struggles to predict most offenses accurately. Some offenses like **Hit and Run** are better predicted than others, but overall, the model shows a high level of misclassification across all offenses. There may be a need for further tuning of the model, additional feature engineering, or trying different models for better performance.\n",
    "\n",
    "Let me know if you'd like to improve the model or make adjustments based on these results!\n",
    "\n"
   ]
  },
  {
   "cell_type": "markdown",
   "id": "23c304bc",
   "metadata": {
    "papermill": {
     "duration": 0.010596,
     "end_time": "2025-05-02T01:03:09.925622",
     "exception": false,
     "start_time": "2025-05-02T01:03:09.915026",
     "status": "completed"
    },
    "tags": []
   },
   "source": [
    "### Model Explanation\n",
    "\n",
    "Once we’ve chosen the best model, we will explain its predictions by examining feature importance for tree-based models and using statistical methods like logistic regression coefficients for linear models."
   ]
  },
  {
   "cell_type": "markdown",
   "id": "a61a40b9",
   "metadata": {
    "papermill": {
     "duration": 0.010557,
     "end_time": "2025-05-02T01:03:09.946738",
     "exception": false,
     "start_time": "2025-05-02T01:03:09.936181",
     "status": "completed"
    },
    "tags": []
   },
   "source": [
    "#### Feature Importance for Random Forest / Decision Tree\n",
    "\n",
    "##### For Tree-based Models (Random Forest, Decision Tree)\n",
    "\n",
    "For Random Forest or Decision Tree, we can look at feature importance to understand which variables contribute the most to the model's predictions. Here's how you can visualize and interpret the importance of each feature:"
   ]
  },
  {
   "cell_type": "code",
   "execution_count": 23,
   "id": "715dcf88",
   "metadata": {
    "execution": {
     "iopub.execute_input": "2025-05-02T01:03:09.969195Z",
     "iopub.status.busy": "2025-05-02T01:03:09.968638Z",
     "iopub.status.idle": "2025-05-02T01:03:10.133377Z",
     "shell.execute_reply": "2025-05-02T01:03:10.132659Z"
    },
    "papermill": {
     "duration": 0.177078,
     "end_time": "2025-05-02T01:03:10.134461",
     "exception": false,
     "start_time": "2025-05-02T01:03:09.957383",
     "status": "completed"
    },
    "tags": []
   },
   "outputs": [
    {
     "data": {
      "image/png": "[encoded data removed]",
      "text/plain": [
       "<Figure size 1000x600 with 1 Axes>"
      ]
     },
     "metadata": {},
     "output_type": "display_data"
    }
   ],
   "source": [
    "# For RandomForest or DecisionTree models, we can check feature importance\n",
    "if isinstance(best_model, RandomForestClassifier) or isinstance(best_model, DecisionTreeClassifier):\n",
    "    feature_importance = best_model.feature_importances_\n",
    "    feature_names = X.columns\n",
    "    importance_df = pd.DataFrame({'Feature': feature_names, 'Importance': feature_importance})\n",
    "    importance_df = importance_df.sort_values(by='Importance', ascending=False)\n",
    "    \n",
    "    # Plotting the feature importances\n",
    "    plt.figure(figsize=(10, 6))\n",
    "    sns.barplot(x='Importance', y='Feature', data=importance_df)\n",
    "    plt.title(\"Feature Importance\")\n",
    "    plt.show()\n"
   ]
  },
  {
   "cell_type": "code",
   "execution_count": null,
   "id": "68cf28c5",
   "metadata": {
    "papermill": {
     "duration": 0.010867,
     "end_time": "2025-05-02T01:03:10.156760",
     "exception": false,
     "start_time": "2025-05-02T01:03:10.145893",
     "status": "completed"
    },
    "tags": []
   },
   "outputs": [],
   "source": []
  },
  {
   "cell_type": "markdown",
   "id": "a69536e3",
   "metadata": {
    "papermill": {
     "duration": 0.01072,
     "end_time": "2025-05-02T01:03:10.178284",
     "exception": false,
     "start_time": "2025-05-02T01:03:10.167564",
     "status": "completed"
    },
    "tags": []
   },
   "source": [
    "### Evaluation\n",
    "\n",
    "After training the models and examining their performance, we evaluate the chosen model based on metrics like accuracy, precision, recall, and F1 score.\n",
    "\n"
   ]
  },
  {
   "cell_type": "code",
   "execution_count": 24,
   "id": "837ceed6",
   "metadata": {
    "execution": {
     "iopub.execute_input": "2025-05-02T01:03:10.201254Z",
     "iopub.status.busy": "2025-05-02T01:03:10.200799Z",
     "iopub.status.idle": "2025-05-02T01:03:10.289270Z",
     "shell.execute_reply": "2025-05-02T01:03:10.288655Z"
    },
    "papermill": {
     "duration": 0.101221,
     "end_time": "2025-05-02T01:03:10.290382",
     "exception": false,
     "start_time": "2025-05-02T01:03:10.189161",
     "status": "completed"
    },
    "tags": []
   },
   "outputs": [
    {
     "name": "stdout",
     "output_type": "stream",
     "text": [
      "Accuracy: 0.2906\n",
      "Classification Report:\n",
      "              precision    recall  f1-score   support\n",
      "\n",
      "           0       0.30      0.36      0.33       598\n",
      "           1       0.29      0.25      0.27       425\n",
      "           2       0.32      0.46      0.38       675\n",
      "           3       0.22      0.16      0.18       485\n",
      "           4       0.34      0.27      0.30       325\n",
      "           5       0.26      0.22      0.24       507\n",
      "           6       0.26      0.22      0.24       457\n",
      "\n",
      "    accuracy                           0.29      3472\n",
      "   macro avg       0.29      0.28      0.28      3472\n",
      "weighted avg       0.28      0.29      0.28      3472\n",
      "\n",
      "Confusion Matrix:\n",
      "[[218  60 149  44  21  64  42]\n",
      " [ 94 105  97  21  18  53  37]\n",
      " [103  42 310  71  25  64  60]\n",
      " [ 83  49 132  76  30  57  58]\n",
      " [ 42  25  73  30  87  29  39]\n",
      " [110  38 131  41  25 113  49]\n",
      " [ 76  40  80  55  48  58 100]]\n",
      "Precision: 0.2849\n",
      "Recall: 0.2906\n",
      "F1 Score: 0.2828\n"
     ]
    }
   ],
   "source": [
    "from sklearn.metrics import classification_report, confusion_matrix, accuracy_score, precision_score, recall_score, f1_score\n",
    "\n",
    "# Predict on the test set\n",
    "y_pred = best_model.predict(X_test)\n",
    "\n",
    "# Calculate Accuracy\n",
    "accuracy = accuracy_score(y_test, y_pred)\n",
    "print(f\"Accuracy: {accuracy:.4f}\")\n",
    "\n",
    "# Classification Report\n",
    "print(\"Classification Report:\")\n",
    "print(classification_report(y_test, y_pred))\n",
    "\n",
    "# Confusion Matrix\n",
    "conf_matrix = confusion_matrix(y_test, y_pred)\n",
    "print(\"Confusion Matrix:\")\n",
    "print(conf_matrix)\n",
    "\n",
    "# Precision, Recall, F1 Score for each class (Offense Type)\n",
    "precision = precision_score(y_test, y_pred, average='weighted')\n",
    "recall = recall_score(y_test, y_pred, average='weighted')\n",
    "f1 = f1_score(y_test, y_pred, average='weighted')\n",
    "\n",
    "print(f\"Precision: {precision:.4f}\")\n",
    "print(f\"Recall: {recall:.4f}\")\n",
    "print(f\"F1 Score: {f1:.4f}\")\n"
   ]
  },
  {
   "cell_type": "markdown",
   "id": "283ca49f",
   "metadata": {
    "papermill": {
     "duration": 0.01113,
     "end_time": "2025-05-02T01:03:10.313032",
     "exception": false,
     "start_time": "2025-05-02T01:03:10.301902",
     "status": "completed"
    },
    "tags": []
   },
   "source": [
    "#### For Logistic Regression (Coefficient Interpretation)\n",
    "\n",
    "For Logistic Regression, the model coefficients can help us understand how each feature affects the likelihood of an offense happening. A positive coefficient indicates a feature increases the likelihood of the offense, and a negative coefficient indicates the opposite."
   ]
  },
  {
   "cell_type": "code",
   "execution_count": 25,
   "id": "9270174d",
   "metadata": {
    "execution": {
     "iopub.execute_input": "2025-05-02T01:03:10.336538Z",
     "iopub.status.busy": "2025-05-02T01:03:10.336104Z",
     "iopub.status.idle": "2025-05-02T01:03:10.340986Z",
     "shell.execute_reply": "2025-05-02T01:03:10.340323Z"
    },
    "papermill": {
     "duration": 0.017838,
     "end_time": "2025-05-02T01:03:10.342113",
     "exception": false,
     "start_time": "2025-05-02T01:03:10.324275",
     "status": "completed"
    },
    "tags": []
   },
   "outputs": [],
   "source": [
    "if isinstance(best_model, LogisticRegression):\n",
    "    # Logistic regression coefficients\n",
    "    coef_df = pd.DataFrame({\n",
    "        'Feature': X.columns,\n",
    "        'Coefficient': best_model.coef_[0]\n",
    "    })\n",
    "    coef_df['AbsCoefficient'] = coef_df['Coefficient'].abs()\n",
    "    coef_df = coef_df.sort_values(by='AbsCoefficient', ascending=False)\n",
    "    \n",
    "    # Plotting the coefficients\n",
    "    plt.figure(figsize=(10, 6))\n",
    "    sns.barplot(x='AbsCoefficient', y='Feature', data=coef_df)\n",
    "    plt.title(\"Logistic Regression Coefficients Impact\")\n",
    "    plt.show()\n",
    "\n",
    "    # Print the top 5 most impactful features (by absolute coefficient value)\n",
    "    print(\"Top 5 most impactful features based on coefficients:\")\n",
    "    print(coef_df.head())\n"
   ]
  },
  {
   "cell_type": "markdown",
   "id": "adfab840",
   "metadata": {
    "papermill": {
     "duration": 0.01097,
     "end_time": "2025-05-02T01:03:10.364127",
     "exception": false,
     "start_time": "2025-05-02T01:03:10.353157",
     "status": "completed"
    },
    "tags": []
   },
   "source": [
    "Explanation of Output:\n",
    "\n",
    "Feature Importance (Random Forest/Decision Tree): The bar plot will show how important each feature is in the decision-making process. Features at the top of the list are the most influential in predicting the occurrence of offenses.\n",
    "\n",
    "Logistic Regression Coefficients: The bar plot will show the magnitude of the coefficients for each feature. Features with larger absolute values (either positive or negative) have a stronger impact on the model’s predictions. Positive coefficients increase the probability of an offense, while negative coefficients decrease it."
   ]
  },
  {
   "cell_type": "markdown",
   "id": "f33fcc85",
   "metadata": {
    "papermill": {
     "duration": 0.010908,
     "end_time": "2025-05-02T01:03:10.386137",
     "exception": false,
     "start_time": "2025-05-02T01:03:10.375229",
     "status": "completed"
    },
    "tags": []
   },
   "source": []
  }
 ],
 "metadata": {
  "kernelspec": {
   "display_name": "Python 3",
   "language": "python",
   "name": "python3"
  },
  "language_info": {
   "codemirror_mode": {
    "name": "ipython",
    "version": 3
   },
   "file_extension": ".py",
   "mimetype": "text/x-python",
   "name": "python",
   "nbconvert_exporter": "python",
   "pygments_lexer": "ipython3",
   "version": "3.9.22"
  },
  "papermill": {
   "default_parameters": {},
   "duration": 81.77589,
   "end_time": "2025-05-02T01:03:10.813882",
   "environment_variables": {},
   "exception": null,
   "input_path": "notebook/Crime Data.ipynb",
   "output_path": "notebook/Crime Data_output.ipynb",
   "parameters": {},
   "start_time": "2025-05-02T01:01:49.037992",
   "version": "2.6.0"
  }
 },
 "nbformat": 4,
 "nbformat_minor": 5
}