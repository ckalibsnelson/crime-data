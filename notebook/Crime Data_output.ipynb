{
 "cells": [
  {
   "cell_type": "markdown",
   "id": "c6f5fd49",
   "metadata": {
    "papermill": {
     "duration": 0.00454,
     "end_time": "2025-07-05T01:02:37.853039",
     "exception": false,
     "start_time": "2025-07-05T01:02:37.848499",
     "status": "completed"
    },
    "tags": []
   },
   "source": [
    "# Charlottesville Open Data Porttal: Crime Data"
   ]
  },
  {
   "cell_type": "markdown",
   "id": "1c7c0aa8",
   "metadata": {
    "papermill": {
     "duration": 0.003197,
     "end_time": "2025-07-05T01:02:37.859872",
     "exception": false,
     "start_time": "2025-07-05T01:02:37.856675",
     "status": "completed"
    },
    "tags": []
   },
   "source": [
    "## Import Relevant Librarires & Set WD"
   ]
  },
  {
   "cell_type": "code",
   "execution_count": 1,
   "id": "0bcc052f",
   "metadata": {
    "execution": {
     "iopub.execute_input": "2025-07-05T01:02:37.867838Z",
     "iopub.status.busy": "2025-07-05T01:02:37.867353Z",
     "iopub.status.idle": "2025-07-05T01:02:38.400935Z",
     "shell.execute_reply": "2025-07-05T01:02:38.400198Z"
    },
    "papermill": {
     "duration": 0.539345,
     "end_time": "2025-07-05T01:02:38.402467",
     "exception": false,
     "start_time": "2025-07-05T01:02:37.863122",
     "status": "completed"
    },
    "tags": []
   },
   "outputs": [],
   "source": [
    "import requests\n",
    "import pandas as pd\n",
    "import numpy as np\n",
    "import pickle\n",
    "import googlemaps\n",
    "import plotly.express as px\n",
    "from geopy.geocoders import Nominatim\n",
    "import time\n",
    "from dotenv import load_dotenv\n",
    "import os\n",
    "\n",
    "env_path = os.path.join(\"..\", \".env\")\n",
    "#print(\"Looking for .env file at:\", os.path.abspath(env_path))\n",
    "load_dotenv(dotenv_path=env_path)\n",
    "\n",
    "# Retrieve the variables\n",
    "GOOGLE_API_KEY = os.getenv(\"GOOGLE_API_KEY\")\n",
    "WORKING_DIR = os.getenv(\"WORKING_DIR\")\n",
    "\n",
    "if GOOGLE_API_KEY is None or WORKING_DIR is None:\n",
    "    raise RuntimeError(\"No configuration found. Please ensure that your .env file exists with the required variables, or create a local config.py file.\")\n",
    "\n",
    "#print(\"Google API Key:\", GOOGLE_API_KEY)\n",
    "#print(\"Working Directory:\", WORKING_DIR)"
   ]
  },
  {
   "cell_type": "markdown",
   "id": "6d99485a",
   "metadata": {
    "papermill": {
     "duration": 0.003294,
     "end_time": "2025-07-05T01:02:38.409367",
     "exception": false,
     "start_time": "2025-07-05T01:02:38.406073",
     "status": "completed"
    },
    "tags": []
   },
   "source": [
    "## Import Data\n",
    "\n",
    "URL: https://opendata.charlottesville.org/datasets/charlottesville::crime-data/about"
   ]
  },
  {
   "cell_type": "code",
   "execution_count": 2,
   "id": "4f652f4a",
   "metadata": {
    "execution": {
     "iopub.execute_input": "2025-07-05T01:02:38.417120Z",
     "iopub.status.busy": "2025-07-05T01:02:38.416757Z",
     "iopub.status.idle": "2025-07-05T01:03:45.700400Z",
     "shell.execute_reply": "2025-07-05T01:03:45.699628Z"
    },
    "papermill": {
     "duration": 67.291823,
     "end_time": "2025-07-05T01:03:45.704539",
     "exception": false,
     "start_time": "2025-07-05T01:02:38.412716",
     "status": "completed"
    },
    "tags": []
   },
   "outputs": [
    {
     "name": "stdout",
     "output_type": "stream",
     "text": [
      "Total records imported: 25540\n"
     ]
    }
   ],
   "source": [
    "# Define the endpoint and initial parameters.\n",
    "url = \"https://gisweb.charlottesville.org/arcgis/rest/services/OpenData_2/MapServer/6/query\"\n",
    "params = {\n",
    "    \"where\": \"1=1\",\n",
    "    \"outFields\": \"*\",\n",
    "    \"outSR\": 4326,\n",
    "    \"f\": \"json\",\n",
    "    \"resultOffset\": 0,       # Starting index for results\n",
    "    \"resultRecordCount\": 10000  # Maximum records per batch (if allowed by the API)\n",
    "}\n",
    "\n",
    "records = []\n",
    "\n",
    "while True:\n",
    "    response = requests.get(url, params=params)\n",
    "    response.raise_for_status()\n",
    "    data = response.json()\n",
    "    \n",
    "    # Get the current batch of features.\n",
    "    features = data.get(\"features\", [])\n",
    "    if not features:\n",
    "        break\n",
    "\n",
    "    # Extract the attributes from the features.\n",
    "    batch_records = [feature.get(\"attributes\", {}) for feature in features]\n",
    "    records.extend(batch_records)\n",
    "    \n",
    "    # If the batch size is less than the requested count, we reached the end.\n",
    "    if len(features) < params[\"resultRecordCount\"]:\n",
    "        break\n",
    "\n",
    "    # Update the resultOffset for the next batch.\n",
    "    params[\"resultOffset\"] += params[\"resultRecordCount\"]\n",
    "\n",
    "# Create a DataFrame from the combined records.\n",
    "df = pd.DataFrame(records)\n",
    "print(\"Total records imported:\", len(df))\n"
   ]
  },
  {
   "cell_type": "code",
   "execution_count": 3,
   "id": "6379fe7f",
   "metadata": {
    "execution": {
     "iopub.execute_input": "2025-07-05T01:03:45.712538Z",
     "iopub.status.busy": "2025-07-05T01:03:45.712309Z",
     "iopub.status.idle": "2025-07-05T01:03:45.724288Z",
     "shell.execute_reply": "2025-07-05T01:03:45.723736Z"
    },
    "papermill": {
     "duration": 0.017257,
     "end_time": "2025-07-05T01:03:45.725280",
     "exception": false,
     "start_time": "2025-07-05T01:03:45.708023",
     "status": "completed"
    },
    "tags": []
   },
   "outputs": [
    {
     "data": {
      "text/html": [
       "<div>\n",
       "<style scoped>\n",
       "    .dataframe tbody tr th:only-of-type {\n",
       "        vertical-align: middle;\n",
       "    }\n",
       "\n",
       "    .dataframe tbody tr th {\n",
       "        vertical-align: top;\n",
       "    }\n",
       "\n",
       "    .dataframe thead th {\n",
       "        text-align: right;\n",
       "    }\n",
       "</style>\n",
       "<table border=\"1\" class=\"dataframe\">\n",
       "  <thead>\n",
       "    <tr style=\"text-align: right;\">\n",
       "      <th></th>\n",
       "      <th>RecordID</th>\n",
       "      <th>Offense</th>\n",
       "      <th>IncidentID</th>\n",
       "      <th>BlockNumber</th>\n",
       "      <th>StreetName</th>\n",
       "      <th>Agency</th>\n",
       "      <th>DateReported</th>\n",
       "      <th>HourReported</th>\n",
       "      <th>ReportingOfficer</th>\n",
       "    </tr>\n",
       "  </thead>\n",
       "  <tbody>\n",
       "    <tr>\n",
       "      <th>0</th>\n",
       "      <td>1</td>\n",
       "      <td>Assist Citizen - Mental/TDO/ECO</td>\n",
       "      <td>202500022877</td>\n",
       "      <td>900</td>\n",
       "      <td>BELMONT AVE</td>\n",
       "      <td>CPD</td>\n",
       "      <td>1751490378000</td>\n",
       "      <td>1706</td>\n",
       "      <td>Reed, Danielle</td>\n",
       "    </tr>\n",
       "    <tr>\n",
       "      <th>1</th>\n",
       "      <td>2</td>\n",
       "      <td>Suspicious Activity</td>\n",
       "      <td>202500022867</td>\n",
       "      <td>2200</td>\n",
       "      <td>GREENBRIER DR</td>\n",
       "      <td>CPD</td>\n",
       "      <td>1751484423000</td>\n",
       "      <td>1527</td>\n",
       "      <td>Houchens, Jamell</td>\n",
       "    </tr>\n",
       "    <tr>\n",
       "      <th>2</th>\n",
       "      <td>3</td>\n",
       "      <td>Weapons Violations</td>\n",
       "      <td>202500022831</td>\n",
       "      <td>400</td>\n",
       "      <td>RIDGE MCINTIRE RD</td>\n",
       "      <td>CPD</td>\n",
       "      <td>1751464099000</td>\n",
       "      <td>0948</td>\n",
       "      <td>Lowry, Ryan</td>\n",
       "    </tr>\n",
       "    <tr>\n",
       "      <th>3</th>\n",
       "      <td>4</td>\n",
       "      <td>Disorderly Conduct</td>\n",
       "      <td>202500022828</td>\n",
       "      <td>400</td>\n",
       "      <td>250 BYPASS</td>\n",
       "      <td>CPD</td>\n",
       "      <td>1751462760000</td>\n",
       "      <td>0926</td>\n",
       "      <td>Love-Baker, Sydney</td>\n",
       "    </tr>\n",
       "    <tr>\n",
       "      <th>4</th>\n",
       "      <td>5</td>\n",
       "      <td>Larceny - From Motor Vehicle</td>\n",
       "      <td>202500022818</td>\n",
       "      <td>2000</td>\n",
       "      <td>HOLIDAY DR, 359</td>\n",
       "      <td>CPD</td>\n",
       "      <td>1751456166000</td>\n",
       "      <td>0736</td>\n",
       "      <td>Love-Baker, Sydney</td>\n",
       "    </tr>\n",
       "  </tbody>\n",
       "</table>\n",
       "</div>"
      ],
      "text/plain": [
       "   RecordID                          Offense    IncidentID BlockNumber  \\\n",
       "0         1  Assist Citizen - Mental/TDO/ECO  202500022877         900   \n",
       "1         2              Suspicious Activity  202500022867        2200   \n",
       "2         3               Weapons Violations  202500022831         400   \n",
       "3         4               Disorderly Conduct  202500022828         400   \n",
       "4         5     Larceny - From Motor Vehicle  202500022818        2000   \n",
       "\n",
       "          StreetName Agency   DateReported HourReported    ReportingOfficer  \n",
       "0        BELMONT AVE    CPD  1751490378000         1706      Reed, Danielle  \n",
       "1      GREENBRIER DR    CPD  1751484423000         1527    Houchens, Jamell  \n",
       "2  RIDGE MCINTIRE RD    CPD  1751464099000         0948         Lowry, Ryan  \n",
       "3         250 BYPASS    CPD  1751462760000         0926  Love-Baker, Sydney  \n",
       "4    HOLIDAY DR, 359    CPD  1751456166000         0736  Love-Baker, Sydney  "
      ]
     },
     "execution_count": 3,
     "metadata": {},
     "output_type": "execute_result"
    }
   ],
   "source": [
    "df.head()"
   ]
  },
  {
   "cell_type": "code",
   "execution_count": 4,
   "id": "9b2d7da9",
   "metadata": {
    "execution": {
     "iopub.execute_input": "2025-07-05T01:03:45.733424Z",
     "iopub.status.busy": "2025-07-05T01:03:45.733024Z",
     "iopub.status.idle": "2025-07-05T01:03:45.737407Z",
     "shell.execute_reply": "2025-07-05T01:03:45.736759Z"
    },
    "papermill": {
     "duration": 0.00939,
     "end_time": "2025-07-05T01:03:45.738346",
     "exception": false,
     "start_time": "2025-07-05T01:03:45.728956",
     "status": "completed"
    },
    "tags": []
   },
   "outputs": [
    {
     "data": {
      "text/plain": [
       "Index(['RecordID', 'Offense', 'IncidentID', 'BlockNumber', 'StreetName',\n",
       "       'Agency', 'DateReported', 'HourReported', 'ReportingOfficer'],\n",
       "      dtype='object')"
      ]
     },
     "execution_count": 4,
     "metadata": {},
     "output_type": "execute_result"
    }
   ],
   "source": [
    "df.columns"
   ]
  },
  {
   "cell_type": "code",
   "execution_count": 5,
   "id": "2ab8f4dc",
   "metadata": {
    "execution": {
     "iopub.execute_input": "2025-07-05T01:03:45.747501Z",
     "iopub.status.busy": "2025-07-05T01:03:45.746974Z",
     "iopub.status.idle": "2025-07-05T01:03:45.770391Z",
     "shell.execute_reply": "2025-07-05T01:03:45.769694Z"
    },
    "papermill": {
     "duration": 0.029372,
     "end_time": "2025-07-05T01:03:45.771444",
     "exception": false,
     "start_time": "2025-07-05T01:03:45.742072",
     "status": "completed"
    },
    "tags": []
   },
   "outputs": [
    {
     "name": "stdout",
     "output_type": "stream",
     "text": [
      "<class 'pandas.core.frame.DataFrame'>\n",
      "RangeIndex: 25540 entries, 0 to 25539\n",
      "Data columns (total 9 columns):\n",
      " #   Column            Non-Null Count  Dtype \n",
      "---  ------            --------------  ----- \n",
      " 0   RecordID          25540 non-null  int64 \n",
      " 1   Offense           25540 non-null  object\n",
      " 2   IncidentID        25540 non-null  object\n",
      " 3   BlockNumber       25540 non-null  object\n",
      " 4   StreetName        25540 non-null  object\n",
      " 5   Agency            25540 non-null  object\n",
      " 6   DateReported      25540 non-null  int64 \n",
      " 7   HourReported      25540 non-null  object\n",
      " 8   ReportingOfficer  25523 non-null  object\n",
      "dtypes: int64(2), object(7)\n",
      "memory usage: 1.8+ MB\n"
     ]
    }
   ],
   "source": [
    "df.info()"
   ]
  },
  {
   "cell_type": "markdown",
   "id": "0fa2cf8e",
   "metadata": {
    "papermill": {
     "duration": 0.003658,
     "end_time": "2025-07-05T01:03:45.779099",
     "exception": false,
     "start_time": "2025-07-05T01:03:45.775441",
     "status": "completed"
    },
    "tags": []
   },
   "source": [
    "### Missing Values"
   ]
  },
  {
   "cell_type": "code",
   "execution_count": 6,
   "id": "34c72175",
   "metadata": {
    "execution": {
     "iopub.execute_input": "2025-07-05T01:03:45.812197Z",
     "iopub.status.busy": "2025-07-05T01:03:45.811684Z",
     "iopub.status.idle": "2025-07-05T01:03:45.834099Z",
     "shell.execute_reply": "2025-07-05T01:03:45.833411Z"
    },
    "papermill": {
     "duration": 0.028171,
     "end_time": "2025-07-05T01:03:45.835231",
     "exception": false,
     "start_time": "2025-07-05T01:03:45.807060",
     "status": "completed"
    },
    "tags": []
   },
   "outputs": [
    {
     "name": "stdout",
     "output_type": "stream",
     "text": [
      "                  MissingCount  MissingPercentage\n",
      "RecordID                     0               0.00\n",
      "Offense                      0               0.00\n",
      "IncidentID                   0               0.00\n",
      "BlockNumber                  0               0.00\n",
      "StreetName                   0               0.00\n",
      "Agency                       0               0.00\n",
      "DateReported                 0               0.00\n",
      "HourReported                 0               0.00\n",
      "ReportingOfficer            17               0.07\n"
     ]
    }
   ],
   "source": [
    "def missing_percentage(df):\n",
    "    \"\"\"\n",
    "    Returns a DataFrame with the count and percentage of missing values for each column.\n",
    "    \n",
    "    Parameters:\n",
    "        df (pd.DataFrame): The input DataFrame.\n",
    "    \n",
    "    Returns:\n",
    "        pd.DataFrame: A DataFrame with columns 'MissingCount' and 'MissingPercentage'.\n",
    "    \"\"\"\n",
    "    total_rows = len(df)\n",
    "    missing_count = df.isnull().sum()\n",
    "    missing_percent = (missing_count / total_rows) * 100\n",
    "    \n",
    "    result = pd.DataFrame({\n",
    "        'MissingCount': missing_count,\n",
    "        'MissingPercentage': missing_percent.round(2)\n",
    "    })\n",
    "    \n",
    "    return result\n",
    "\n",
    "# Example usage:\n",
    "missing_info = missing_percentage(df)\n",
    "print(missing_info)\n"
   ]
  },
  {
   "cell_type": "markdown",
   "id": "2680e736",
   "metadata": {
    "papermill": {
     "duration": 0.003882,
     "end_time": "2025-07-05T01:03:45.843208",
     "exception": false,
     "start_time": "2025-07-05T01:03:45.839326",
     "status": "completed"
    },
    "tags": []
   },
   "source": [
    "## Data Preparation"
   ]
  },
  {
   "cell_type": "markdown",
   "id": "b21a55f8",
   "metadata": {
    "papermill": {
     "duration": 0.003714,
     "end_time": "2025-07-05T01:03:45.850680",
     "exception": false,
     "start_time": "2025-07-05T01:03:45.846966",
     "status": "completed"
    },
    "tags": []
   },
   "source": [
    "### Data Conversion"
   ]
  },
  {
   "cell_type": "code",
   "execution_count": 7,
   "id": "ffff3074",
   "metadata": {
    "execution": {
     "iopub.execute_input": "2025-07-05T01:03:45.859837Z",
     "iopub.status.busy": "2025-07-05T01:03:45.859254Z",
     "iopub.status.idle": "2025-07-05T01:03:46.220239Z",
     "shell.execute_reply": "2025-07-05T01:03:46.219532Z"
    },
    "papermill": {
     "duration": 0.36687,
     "end_time": "2025-07-05T01:03:46.221394",
     "exception": false,
     "start_time": "2025-07-05T01:03:45.854524",
     "status": "completed"
    },
    "tags": []
   },
   "outputs": [
    {
     "data": {
      "text/html": [
       "<div>\n",
       "<style scoped>\n",
       "    .dataframe tbody tr th:only-of-type {\n",
       "        vertical-align: middle;\n",
       "    }\n",
       "\n",
       "    .dataframe tbody tr th {\n",
       "        vertical-align: top;\n",
       "    }\n",
       "\n",
       "    .dataframe thead th {\n",
       "        text-align: right;\n",
       "    }\n",
       "</style>\n",
       "<table border=\"1\" class=\"dataframe\">\n",
       "  <thead>\n",
       "    <tr style=\"text-align: right;\">\n",
       "      <th></th>\n",
       "      <th>RecordID</th>\n",
       "      <th>Offense</th>\n",
       "      <th>IncidentID</th>\n",
       "      <th>BlockNumber</th>\n",
       "      <th>StreetName</th>\n",
       "      <th>Agency</th>\n",
       "      <th>HourReported</th>\n",
       "      <th>ReportingOfficer</th>\n",
       "      <th>Date</th>\n",
       "      <th>DateString</th>\n",
       "      <th>DayOfWeek</th>\n",
       "      <th>Weekend</th>\n",
       "      <th>Season</th>\n",
       "      <th>HourAMPM</th>\n",
       "      <th>TimeOfDay</th>\n",
       "    </tr>\n",
       "  </thead>\n",
       "  <tbody>\n",
       "    <tr>\n",
       "      <th>0</th>\n",
       "      <td>1</td>\n",
       "      <td>Assist Citizen - Mental/TDO/ECO</td>\n",
       "      <td>202500022877</td>\n",
       "      <td>900</td>\n",
       "      <td>BELMONT AVE</td>\n",
       "      <td>CPD</td>\n",
       "      <td>1706</td>\n",
       "      <td>Reed, Danielle</td>\n",
       "      <td>2025-07-02 17:06:18</td>\n",
       "      <td>2025-07-02 05:06:18 PM</td>\n",
       "      <td>Wednesday</td>\n",
       "      <td>False</td>\n",
       "      <td>Summer</td>\n",
       "      <td>05:06 PM</td>\n",
       "      <td>Evening</td>\n",
       "    </tr>\n",
       "    <tr>\n",
       "      <th>1</th>\n",
       "      <td>2</td>\n",
       "      <td>Suspicious Activity</td>\n",
       "      <td>202500022867</td>\n",
       "      <td>2200</td>\n",
       "      <td>GREENBRIER DR</td>\n",
       "      <td>CPD</td>\n",
       "      <td>1527</td>\n",
       "      <td>Houchens, Jamell</td>\n",
       "      <td>2025-07-02 15:27:03</td>\n",
       "      <td>2025-07-02 03:27:03 PM</td>\n",
       "      <td>Wednesday</td>\n",
       "      <td>False</td>\n",
       "      <td>Summer</td>\n",
       "      <td>03:27 PM</td>\n",
       "      <td>Afternoon</td>\n",
       "    </tr>\n",
       "    <tr>\n",
       "      <th>2</th>\n",
       "      <td>3</td>\n",
       "      <td>Weapons Violations</td>\n",
       "      <td>202500022831</td>\n",
       "      <td>400</td>\n",
       "      <td>RIDGE MCINTIRE RD</td>\n",
       "      <td>CPD</td>\n",
       "      <td>0948</td>\n",
       "      <td>Lowry, Ryan</td>\n",
       "      <td>2025-07-02 09:48:19</td>\n",
       "      <td>2025-07-02 09:48:19 AM</td>\n",
       "      <td>Wednesday</td>\n",
       "      <td>False</td>\n",
       "      <td>Summer</td>\n",
       "      <td>09:48 AM</td>\n",
       "      <td>Morning</td>\n",
       "    </tr>\n",
       "    <tr>\n",
       "      <th>3</th>\n",
       "      <td>4</td>\n",
       "      <td>Disorderly Conduct</td>\n",
       "      <td>202500022828</td>\n",
       "      <td>400</td>\n",
       "      <td>250 BYPASS</td>\n",
       "      <td>CPD</td>\n",
       "      <td>0926</td>\n",
       "      <td>Love-Baker, Sydney</td>\n",
       "      <td>2025-07-02 09:26:00</td>\n",
       "      <td>2025-07-02 09:26:00 AM</td>\n",
       "      <td>Wednesday</td>\n",
       "      <td>False</td>\n",
       "      <td>Summer</td>\n",
       "      <td>09:26 AM</td>\n",
       "      <td>Morning</td>\n",
       "    </tr>\n",
       "    <tr>\n",
       "      <th>4</th>\n",
       "      <td>5</td>\n",
       "      <td>Larceny - From Motor Vehicle</td>\n",
       "      <td>202500022818</td>\n",
       "      <td>2000</td>\n",
       "      <td>HOLIDAY DR, 359</td>\n",
       "      <td>CPD</td>\n",
       "      <td>0736</td>\n",
       "      <td>Love-Baker, Sydney</td>\n",
       "      <td>2025-07-02 07:36:06</td>\n",
       "      <td>2025-07-02 07:36:06 AM</td>\n",
       "      <td>Wednesday</td>\n",
       "      <td>False</td>\n",
       "      <td>Summer</td>\n",
       "      <td>07:36 AM</td>\n",
       "      <td>Morning</td>\n",
       "    </tr>\n",
       "  </tbody>\n",
       "</table>\n",
       "</div>"
      ],
      "text/plain": [
       "   RecordID                          Offense    IncidentID BlockNumber  \\\n",
       "0         1  Assist Citizen - Mental/TDO/ECO  202500022877         900   \n",
       "1         2              Suspicious Activity  202500022867        2200   \n",
       "2         3               Weapons Violations  202500022831         400   \n",
       "3         4               Disorderly Conduct  202500022828         400   \n",
       "4         5     Larceny - From Motor Vehicle  202500022818        2000   \n",
       "\n",
       "          StreetName Agency HourReported    ReportingOfficer  \\\n",
       "0        BELMONT AVE    CPD         1706      Reed, Danielle   \n",
       "1      GREENBRIER DR    CPD         1527    Houchens, Jamell   \n",
       "2  RIDGE MCINTIRE RD    CPD         0948         Lowry, Ryan   \n",
       "3         250 BYPASS    CPD         0926  Love-Baker, Sydney   \n",
       "4    HOLIDAY DR, 359    CPD         0736  Love-Baker, Sydney   \n",
       "\n",
       "                 Date              DateString  DayOfWeek  Weekend  Season  \\\n",
       "0 2025-07-02 17:06:18  2025-07-02 05:06:18 PM  Wednesday    False  Summer   \n",
       "1 2025-07-02 15:27:03  2025-07-02 03:27:03 PM  Wednesday    False  Summer   \n",
       "2 2025-07-02 09:48:19  2025-07-02 09:48:19 AM  Wednesday    False  Summer   \n",
       "3 2025-07-02 09:26:00  2025-07-02 09:26:00 AM  Wednesday    False  Summer   \n",
       "4 2025-07-02 07:36:06  2025-07-02 07:36:06 AM  Wednesday    False  Summer   \n",
       "\n",
       "   HourAMPM  TimeOfDay  \n",
       "0  05:06 PM    Evening  \n",
       "1  03:27 PM  Afternoon  \n",
       "2  09:48 AM    Morning  \n",
       "3  09:26 AM    Morning  \n",
       "4  07:36 AM    Morning  "
      ]
     },
     "execution_count": 7,
     "metadata": {},
     "output_type": "execute_result"
    }
   ],
   "source": [
    "def convert_and_categorize_datereported(df, col='DateReported'):\n",
    "    \"\"\"\n",
    "    Converts an epoch (in milliseconds) date column into a timezone-aware datetime,\n",
    "    converts it to Eastern Time, and then creates columns for day-of-week, weekend flag,\n",
    "    season, 12-hour formatted time, and time-of-day. Keeps both a real datetime column\n",
    "    (Date) and a string representation (DateString).\n",
    "    \"\"\"\n",
    "    import pandas as pd\n",
    "\n",
    "    # Convert the epoch timestamp to a pandas datetime object as UTC, then convert to US/Eastern.\n",
    "    df[\"DateReported_dt\"] = (\n",
    "        pd.to_datetime(df[col], unit=\"ms\", errors=\"coerce\", utc=True)\n",
    "        .dt.tz_convert(\"US/Eastern\")\n",
    "    )\n",
    "    \n",
    "    # Create a true datetime column (remove timezone if you prefer naive datetime)\n",
    "    df[\"Date\"] = df[\"DateReported_dt\"].dt.tz_localize(None)\n",
    "\n",
    "    # Optionally, create a separate string-formatted column\n",
    "    df[\"DateString\"] = df[\"DateReported_dt\"].dt.strftime(\"%Y-%m-%d %I:%M:%S %p\")\n",
    "    \n",
    "    # DayOfWeek\n",
    "    df[\"DayOfWeek\"] = df[\"DateReported_dt\"].dt.day_name()\n",
    "    \n",
    "    # Weekend\n",
    "    df[\"Weekend\"] = df[\"DayOfWeek\"].isin([\"Saturday\", \"Sunday\"])\n",
    "    \n",
    "    # Helper function to determine the season\n",
    "    def get_season(dt):\n",
    "        month = dt.month\n",
    "        day = dt.day\n",
    "        # Approximate Northern Hemisphere season boundaries:\n",
    "        if (month == 12 and day >= 21) or (month < 3) or (month == 3 and day < 20):\n",
    "            return \"Winter\"\n",
    "        elif (month == 3 and day >= 20) or (month < 6) or (month == 6 and day < 21):\n",
    "            return \"Spring\"\n",
    "        elif (month == 6 and day >= 21) or (month < 9) or (month == 9 and day < 22):\n",
    "            return \"Summer\"\n",
    "        else:\n",
    "            return \"Autumn\"\n",
    "    \n",
    "    df[\"Season\"] = df[\"DateReported_dt\"].apply(get_season)\n",
    "    \n",
    "    # 12-hour formatted time (HourAMPM)\n",
    "    df[\"HourAMPM\"] = df[\"DateReported_dt\"].dt.strftime(\"%I:%M %p\")\n",
    "    \n",
    "    # Extract hour (0-23) for time-of-day\n",
    "    df[\"HourValue\"] = df[\"DateReported_dt\"].dt.hour\n",
    "    \n",
    "    def time_of_day(hour):\n",
    "        if pd.isnull(hour):\n",
    "            return None\n",
    "        if 5 <= hour < 12:\n",
    "            return \"Morning\"\n",
    "        elif 12 <= hour < 17:\n",
    "            return \"Afternoon\"\n",
    "        elif 17 <= hour < 21:\n",
    "            return \"Evening\"\n",
    "        else:\n",
    "            return \"Night\"\n",
    "    \n",
    "    df[\"TimeOfDay\"] = df[\"HourValue\"].apply(time_of_day)\n",
    "    \n",
    "    # Drop columns you no longer need\n",
    "    df.drop(columns=[col, \"DateReported_dt\", \"HourValue\"], inplace=True)\n",
    "    \n",
    "    return df\n",
    "\n",
    "# Example usage:\n",
    "df = convert_and_categorize_datereported(df)\n",
    "df.head()\n"
   ]
  },
  {
   "cell_type": "code",
   "execution_count": 8,
   "id": "91cc68c7",
   "metadata": {
    "execution": {
     "iopub.execute_input": "2025-07-05T01:03:46.231227Z",
     "iopub.status.busy": "2025-07-05T01:03:46.230637Z",
     "iopub.status.idle": "2025-07-05T01:03:46.256781Z",
     "shell.execute_reply": "2025-07-05T01:03:46.256211Z"
    },
    "papermill": {
     "duration": 0.031971,
     "end_time": "2025-07-05T01:03:46.257754",
     "exception": false,
     "start_time": "2025-07-05T01:03:46.225783",
     "status": "completed"
    },
    "tags": []
   },
   "outputs": [
    {
     "name": "stdout",
     "output_type": "stream",
     "text": [
      "<class 'pandas.core.frame.DataFrame'>\n",
      "RangeIndex: 25540 entries, 0 to 25539\n",
      "Data columns (total 15 columns):\n",
      " #   Column            Non-Null Count  Dtype         \n",
      "---  ------            --------------  -----         \n",
      " 0   RecordID          25540 non-null  int64         \n",
      " 1   Offense           25540 non-null  object        \n",
      " 2   IncidentID        25540 non-null  object        \n",
      " 3   BlockNumber       25540 non-null  object        \n",
      " 4   StreetName        25540 non-null  object        \n",
      " 5   Agency            25540 non-null  object        \n",
      " 6   HourReported      25540 non-null  object        \n",
      " 7   ReportingOfficer  25523 non-null  object        \n",
      " 8   Date              25540 non-null  datetime64[ns]\n",
      " 9   DateString        25540 non-null  object        \n",
      " 10  DayOfWeek         25540 non-null  object        \n",
      " 11  Weekend           25540 non-null  bool          \n",
      " 12  Season            25540 non-null  object        \n",
      " 13  HourAMPM          25540 non-null  object        \n",
      " 14  TimeOfDay         25540 non-null  object        \n",
      "dtypes: bool(1), datetime64[ns](1), int64(1), object(12)\n",
      "memory usage: 2.8+ MB\n"
     ]
    }
   ],
   "source": [
    "df.info()"
   ]
  },
  {
   "cell_type": "markdown",
   "id": "a9bdb555",
   "metadata": {
    "papermill": {
     "duration": 0.00403,
     "end_time": "2025-07-05T01:03:46.266104",
     "exception": false,
     "start_time": "2025-07-05T01:03:46.262074",
     "status": "completed"
    },
    "tags": []
   },
   "source": [
    "### Coordinates"
   ]
  },
  {
   "cell_type": "code",
   "execution_count": 9,
   "id": "f52e6608",
   "metadata": {
    "execution": {
     "iopub.execute_input": "2025-07-05T01:03:46.275347Z",
     "iopub.status.busy": "2025-07-05T01:03:46.274924Z",
     "iopub.status.idle": "2025-07-05T01:03:46.318440Z",
     "shell.execute_reply": "2025-07-05T01:03:46.317746Z"
    },
    "papermill": {
     "duration": 0.049325,
     "end_time": "2025-07-05T01:03:46.319528",
     "exception": false,
     "start_time": "2025-07-05T01:03:46.270203",
     "status": "completed"
    },
    "tags": []
   },
   "outputs": [
    {
     "name": "stdout",
     "output_type": "stream",
     "text": [
      "Loaded geocode cache.\n",
      "Geocode cache updated and saved.\n"
     ]
    },
    {
     "data": {
      "text/html": [
       "<div>\n",
       "<style scoped>\n",
       "    .dataframe tbody tr th:only-of-type {\n",
       "        vertical-align: middle;\n",
       "    }\n",
       "\n",
       "    .dataframe tbody tr th {\n",
       "        vertical-align: top;\n",
       "    }\n",
       "\n",
       "    .dataframe thead th {\n",
       "        text-align: right;\n",
       "    }\n",
       "</style>\n",
       "<table border=\"1\" class=\"dataframe\">\n",
       "  <thead>\n",
       "    <tr style=\"text-align: right;\">\n",
       "      <th></th>\n",
       "      <th>RecordID</th>\n",
       "      <th>Offense</th>\n",
       "      <th>IncidentID</th>\n",
       "      <th>BlockNumber</th>\n",
       "      <th>StreetName</th>\n",
       "      <th>Agency</th>\n",
       "      <th>HourReported</th>\n",
       "      <th>ReportingOfficer</th>\n",
       "      <th>Date</th>\n",
       "      <th>DateString</th>\n",
       "      <th>DayOfWeek</th>\n",
       "      <th>Weekend</th>\n",
       "      <th>Season</th>\n",
       "      <th>HourAMPM</th>\n",
       "      <th>TimeOfDay</th>\n",
       "      <th>FullStreet</th>\n",
       "      <th>lat</th>\n",
       "      <th>lon</th>\n",
       "    </tr>\n",
       "  </thead>\n",
       "  <tbody>\n",
       "    <tr>\n",
       "      <th>0</th>\n",
       "      <td>1</td>\n",
       "      <td>Assist Citizen - Mental/TDO/ECO</td>\n",
       "      <td>202500022877</td>\n",
       "      <td>900</td>\n",
       "      <td>BELMONT AVE</td>\n",
       "      <td>CPD</td>\n",
       "      <td>1706</td>\n",
       "      <td>Reed, Danielle</td>\n",
       "      <td>2025-07-02 17:06:18</td>\n",
       "      <td>2025-07-02 05:06:18 PM</td>\n",
       "      <td>Wednesday</td>\n",
       "      <td>False</td>\n",
       "      <td>Summer</td>\n",
       "      <td>05:06 PM</td>\n",
       "      <td>Evening</td>\n",
       "      <td>900 BELMONT AVE</td>\n",
       "      <td>38.023441</td>\n",
       "      <td>-78.475368</td>\n",
       "    </tr>\n",
       "    <tr>\n",
       "      <th>1</th>\n",
       "      <td>2</td>\n",
       "      <td>Suspicious Activity</td>\n",
       "      <td>202500022867</td>\n",
       "      <td>2200</td>\n",
       "      <td>GREENBRIER DR</td>\n",
       "      <td>CPD</td>\n",
       "      <td>1527</td>\n",
       "      <td>Houchens, Jamell</td>\n",
       "      <td>2025-07-02 15:27:03</td>\n",
       "      <td>2025-07-02 03:27:03 PM</td>\n",
       "      <td>Wednesday</td>\n",
       "      <td>False</td>\n",
       "      <td>Summer</td>\n",
       "      <td>03:27 PM</td>\n",
       "      <td>Afternoon</td>\n",
       "      <td>2200 GREENBRIER DR</td>\n",
       "      <td>38.062087</td>\n",
       "      <td>-78.469948</td>\n",
       "    </tr>\n",
       "    <tr>\n",
       "      <th>2</th>\n",
       "      <td>3</td>\n",
       "      <td>Weapons Violations</td>\n",
       "      <td>202500022831</td>\n",
       "      <td>400</td>\n",
       "      <td>RIDGE MCINTIRE RD</td>\n",
       "      <td>CPD</td>\n",
       "      <td>0948</td>\n",
       "      <td>Lowry, Ryan</td>\n",
       "      <td>2025-07-02 09:48:19</td>\n",
       "      <td>2025-07-02 09:48:19 AM</td>\n",
       "      <td>Wednesday</td>\n",
       "      <td>False</td>\n",
       "      <td>Summer</td>\n",
       "      <td>09:48 AM</td>\n",
       "      <td>Morning</td>\n",
       "      <td>400 RIDGE MCINTIRE RD</td>\n",
       "      <td>38.032597</td>\n",
       "      <td>-78.484605</td>\n",
       "    </tr>\n",
       "    <tr>\n",
       "      <th>3</th>\n",
       "      <td>4</td>\n",
       "      <td>Disorderly Conduct</td>\n",
       "      <td>202500022828</td>\n",
       "      <td>400</td>\n",
       "      <td>250 BYPASS</td>\n",
       "      <td>CPD</td>\n",
       "      <td>0926</td>\n",
       "      <td>Love-Baker, Sydney</td>\n",
       "      <td>2025-07-02 09:26:00</td>\n",
       "      <td>2025-07-02 09:26:00 AM</td>\n",
       "      <td>Wednesday</td>\n",
       "      <td>False</td>\n",
       "      <td>Summer</td>\n",
       "      <td>09:26 AM</td>\n",
       "      <td>Morning</td>\n",
       "      <td>400 250 BYPASS</td>\n",
       "      <td>38.050678</td>\n",
       "      <td>-78.480683</td>\n",
       "    </tr>\n",
       "    <tr>\n",
       "      <th>4</th>\n",
       "      <td>5</td>\n",
       "      <td>Larceny - From Motor Vehicle</td>\n",
       "      <td>202500022818</td>\n",
       "      <td>2000</td>\n",
       "      <td>HOLIDAY DR, 359</td>\n",
       "      <td>CPD</td>\n",
       "      <td>0736</td>\n",
       "      <td>Love-Baker, Sydney</td>\n",
       "      <td>2025-07-02 07:36:06</td>\n",
       "      <td>2025-07-02 07:36:06 AM</td>\n",
       "      <td>Wednesday</td>\n",
       "      <td>False</td>\n",
       "      <td>Summer</td>\n",
       "      <td>07:36 AM</td>\n",
       "      <td>Morning</td>\n",
       "      <td>2000 HOLIDAY DR, 359</td>\n",
       "      <td>38.057681</td>\n",
       "      <td>-78.491402</td>\n",
       "    </tr>\n",
       "  </tbody>\n",
       "</table>\n",
       "</div>"
      ],
      "text/plain": [
       "   RecordID                          Offense    IncidentID BlockNumber  \\\n",
       "0         1  Assist Citizen - Mental/TDO/ECO  202500022877         900   \n",
       "1         2              Suspicious Activity  202500022867        2200   \n",
       "2         3               Weapons Violations  202500022831         400   \n",
       "3         4               Disorderly Conduct  202500022828         400   \n",
       "4         5     Larceny - From Motor Vehicle  202500022818        2000   \n",
       "\n",
       "          StreetName Agency HourReported    ReportingOfficer  \\\n",
       "0        BELMONT AVE    CPD         1706      Reed, Danielle   \n",
       "1      GREENBRIER DR    CPD         1527    Houchens, Jamell   \n",
       "2  RIDGE MCINTIRE RD    CPD         0948         Lowry, Ryan   \n",
       "3         250 BYPASS    CPD         0926  Love-Baker, Sydney   \n",
       "4    HOLIDAY DR, 359    CPD         0736  Love-Baker, Sydney   \n",
       "\n",
       "                 Date              DateString  DayOfWeek  Weekend  Season  \\\n",
       "0 2025-07-02 17:06:18  2025-07-02 05:06:18 PM  Wednesday    False  Summer   \n",
       "1 2025-07-02 15:27:03  2025-07-02 03:27:03 PM  Wednesday    False  Summer   \n",
       "2 2025-07-02 09:48:19  2025-07-02 09:48:19 AM  Wednesday    False  Summer   \n",
       "3 2025-07-02 09:26:00  2025-07-02 09:26:00 AM  Wednesday    False  Summer   \n",
       "4 2025-07-02 07:36:06  2025-07-02 07:36:06 AM  Wednesday    False  Summer   \n",
       "\n",
       "   HourAMPM  TimeOfDay             FullStreet        lat        lon  \n",
       "0  05:06 PM    Evening        900 BELMONT AVE  38.023441 -78.475368  \n",
       "1  03:27 PM  Afternoon     2200 GREENBRIER DR  38.062087 -78.469948  \n",
       "2  09:48 AM    Morning  400 RIDGE MCINTIRE RD  38.032597 -78.484605  \n",
       "3  09:26 AM    Morning         400 250 BYPASS  38.050678 -78.480683  \n",
       "4  07:36 AM    Morning   2000 HOLIDAY DR, 359  38.057681 -78.491402  "
      ]
     },
     "execution_count": 9,
     "metadata": {},
     "output_type": "execute_result"
    }
   ],
   "source": [
    "# Combine BlockNumber and StreetName into a full address string\n",
    "df['FullStreet'] = df['BlockNumber'].astype(str) + \" \" + df['StreetName']\n",
    "\n",
    "# --- Step 1: Setup the Google Maps Client and Cache ---\n",
    "gmaps = googlemaps.Client(key=GOOGLE_API_KEY)\n",
    "\n",
    "# Try to load cached geocoding results if available.\n",
    "try:\n",
    "    with open(\"geocode_cache_google.pkl\", \"rb\") as f:\n",
    "        street_coords = pickle.load(f)\n",
    "    print(\"Loaded geocode cache.\")\n",
    "except FileNotFoundError:\n",
    "    street_coords = {}\n",
    "    print(\"No cache found; starting fresh.\")\n",
    "\n",
    "def geocode_address(address):\n",
    "    try:\n",
    "        # Append city and state to help geocoding\n",
    "        result = gmaps.geocode(f\"{address}, Charlottesville, VA\")\n",
    "        if result:\n",
    "            lat = result[0]['geometry']['location']['lat']\n",
    "            lon = result[0]['geometry']['location']['lng']\n",
    "            return lat, lon\n",
    "    except Exception as e:\n",
    "        print(f\"Error geocoding {address}: {e}\")\n",
    "    return None, None\n",
    "\n",
    "# --- Step 2: Geocode Only New Addresses ---\n",
    "unique_addresses = df['FullStreet'].unique()\n",
    "for address in unique_addresses:\n",
    "    if address not in street_coords:\n",
    "        lat, lon = geocode_address(address)\n",
    "        street_coords[address] = (lat, lon)\n",
    "        print(f\"Geocoded {address}: {lat}, {lon}\")\n",
    "\n",
    "# Save the updated cache to disk.\n",
    "with open(\"geocode_cache_google.pkl\", \"wb\") as f:\n",
    "    pickle.dump(street_coords, f)\n",
    "    print(\"Geocode cache updated and saved.\")\n",
    "\n",
    "# --- Step 3: Map Coordinates Back to DataFrame ---\n",
    "df['lat'] = df['FullStreet'].map(lambda s: street_coords.get(s, (None, None))[0])\n",
    "df['lon'] = df['FullStreet'].map(lambda s: street_coords.get(s, (None, None))[1])\n",
    "\n",
    "df.head()"
   ]
  },
  {
   "cell_type": "markdown",
   "id": "afc603c4",
   "metadata": {
    "papermill": {
     "duration": 0.004426,
     "end_time": "2025-07-05T01:03:46.328522",
     "exception": false,
     "start_time": "2025-07-05T01:03:46.324096",
     "status": "completed"
    },
    "tags": []
   },
   "source": [
    "### Neighborhood"
   ]
  },
  {
   "cell_type": "code",
   "execution_count": 10,
   "id": "345604ba",
   "metadata": {
    "execution": {
     "iopub.execute_input": "2025-07-05T01:03:46.338449Z",
     "iopub.status.busy": "2025-07-05T01:03:46.338194Z",
     "iopub.status.idle": "2025-07-05T01:03:48.202832Z",
     "shell.execute_reply": "2025-07-05T01:03:48.202176Z"
    },
    "papermill": {
     "duration": 1.870948,
     "end_time": "2025-07-05T01:03:48.203992",
     "exception": false,
     "start_time": "2025-07-05T01:03:46.333044",
     "status": "completed"
    },
    "tags": []
   },
   "outputs": [
    {
     "name": "stdout",
     "output_type": "stream",
     "text": [
      "Loaded neighborhood cache.\n"
     ]
    },
    {
     "name": "stdout",
     "output_type": "stream",
     "text": [
      "Error getting neighborhood for nan, nan: HTTP Error: 400\n",
      "Error getting neighborhood for nan, nan: HTTP Error: 400\n"
     ]
    },
    {
     "name": "stdout",
     "output_type": "stream",
     "text": [
      "Error getting neighborhood for nan, nan: HTTP Error: 400\n",
      "Error getting neighborhood for nan, nan: HTTP Error: 400\n",
      "Error getting neighborhood for nan, nan: HTTP Error: 400\n"
     ]
    },
    {
     "name": "stdout",
     "output_type": "stream",
     "text": [
      "Error getting neighborhood for nan, nan: HTTP Error: 400\n",
      "Error getting neighborhood for nan, nan: HTTP Error: 400\n"
     ]
    },
    {
     "name": "stdout",
     "output_type": "stream",
     "text": [
      "Error getting neighborhood for nan, nan: HTTP Error: 400\n",
      "Error getting neighborhood for nan, nan: HTTP Error: 400\n",
      "Error getting neighborhood for nan, nan: HTTP Error: 400\n"
     ]
    },
    {
     "name": "stdout",
     "output_type": "stream",
     "text": [
      "Error getting neighborhood for nan, nan: HTTP Error: 400\n",
      "Error getting neighborhood for nan, nan: HTTP Error: 400\n"
     ]
    },
    {
     "name": "stdout",
     "output_type": "stream",
     "text": [
      "Error getting neighborhood for nan, nan: HTTP Error: 400\n",
      "Error getting neighborhood for nan, nan: HTTP Error: 400\n",
      "Error getting neighborhood for nan, nan: HTTP Error: 400\n",
      "Error getting neighborhood for nan, nan: HTTP Error: 400\n"
     ]
    },
    {
     "name": "stdout",
     "output_type": "stream",
     "text": [
      "Error getting neighborhood for nan, nan: HTTP Error: 400\n",
      "Error getting neighborhood for nan, nan: HTTP Error: 400\n"
     ]
    },
    {
     "name": "stdout",
     "output_type": "stream",
     "text": [
      "Error getting neighborhood for nan, nan: HTTP Error: 400\n",
      "Error getting neighborhood for nan, nan: HTTP Error: 400\n",
      "Error getting neighborhood for nan, nan: HTTP Error: 400\n",
      "Error getting neighborhood for nan, nan: HTTP Error: 400\n"
     ]
    },
    {
     "name": "stdout",
     "output_type": "stream",
     "text": [
      "Error getting neighborhood for nan, nan: HTTP Error: 400\n",
      "Error getting neighborhood for nan, nan: HTTP Error: 400\n"
     ]
    },
    {
     "name": "stdout",
     "output_type": "stream",
     "text": [
      "Error getting neighborhood for nan, nan: HTTP Error: 400\n",
      "Error getting neighborhood for nan, nan: HTTP Error: 400\n",
      "Error getting neighborhood for nan, nan: HTTP Error: 400\n",
      "Error getting neighborhood for nan, nan: HTTP Error: 400\n"
     ]
    },
    {
     "name": "stdout",
     "output_type": "stream",
     "text": [
      "Error getting neighborhood for nan, nan: HTTP Error: 400\n",
      "Error getting neighborhood for nan, nan: HTTP Error: 400\n"
     ]
    },
    {
     "name": "stdout",
     "output_type": "stream",
     "text": [
      "Error getting neighborhood for nan, nan: HTTP Error: 400\n",
      "Error getting neighborhood for nan, nan: HTTP Error: 400\n",
      "Error getting neighborhood for nan, nan: HTTP Error: 400\n",
      "Error getting neighborhood for nan, nan: HTTP Error: 400\n"
     ]
    },
    {
     "name": "stdout",
     "output_type": "stream",
     "text": [
      "Error getting neighborhood for nan, nan: HTTP Error: 400\n",
      "Error getting neighborhood for nan, nan: HTTP Error: 400\n"
     ]
    },
    {
     "name": "stdout",
     "output_type": "stream",
     "text": [
      "Error getting neighborhood for nan, nan: HTTP Error: 400\n",
      "Error getting neighborhood for nan, nan: HTTP Error: 400\n"
     ]
    },
    {
     "data": {
      "text/html": [
       "<div>\n",
       "<style scoped>\n",
       "    .dataframe tbody tr th:only-of-type {\n",
       "        vertical-align: middle;\n",
       "    }\n",
       "\n",
       "    .dataframe tbody tr th {\n",
       "        vertical-align: top;\n",
       "    }\n",
       "\n",
       "    .dataframe thead th {\n",
       "        text-align: right;\n",
       "    }\n",
       "</style>\n",
       "<table border=\"1\" class=\"dataframe\">\n",
       "  <thead>\n",
       "    <tr style=\"text-align: right;\">\n",
       "      <th></th>\n",
       "      <th>RecordID</th>\n",
       "      <th>Offense</th>\n",
       "      <th>IncidentID</th>\n",
       "      <th>BlockNumber</th>\n",
       "      <th>StreetName</th>\n",
       "      <th>Agency</th>\n",
       "      <th>HourReported</th>\n",
       "      <th>ReportingOfficer</th>\n",
       "      <th>Date</th>\n",
       "      <th>DateString</th>\n",
       "      <th>DayOfWeek</th>\n",
       "      <th>Weekend</th>\n",
       "      <th>Season</th>\n",
       "      <th>HourAMPM</th>\n",
       "      <th>TimeOfDay</th>\n",
       "      <th>FullStreet</th>\n",
       "      <th>lat</th>\n",
       "      <th>lon</th>\n",
       "      <th>neighborhood</th>\n",
       "    </tr>\n",
       "  </thead>\n",
       "  <tbody>\n",
       "    <tr>\n",
       "      <th>0</th>\n",
       "      <td>1</td>\n",
       "      <td>Assist Citizen - Mental/TDO/ECO</td>\n",
       "      <td>202500022877</td>\n",
       "      <td>900</td>\n",
       "      <td>BELMONT AVE</td>\n",
       "      <td>CPD</td>\n",
       "      <td>1706</td>\n",
       "      <td>Reed, Danielle</td>\n",
       "      <td>2025-07-02 17:06:18</td>\n",
       "      <td>2025-07-02 05:06:18 PM</td>\n",
       "      <td>Wednesday</td>\n",
       "      <td>False</td>\n",
       "      <td>Summer</td>\n",
       "      <td>05:06 PM</td>\n",
       "      <td>Evening</td>\n",
       "      <td>900 BELMONT AVE</td>\n",
       "      <td>38.023441</td>\n",
       "      <td>-78.475368</td>\n",
       "      <td>Belmont</td>\n",
       "    </tr>\n",
       "    <tr>\n",
       "      <th>1</th>\n",
       "      <td>2</td>\n",
       "      <td>Suspicious Activity</td>\n",
       "      <td>202500022867</td>\n",
       "      <td>2200</td>\n",
       "      <td>GREENBRIER DR</td>\n",
       "      <td>CPD</td>\n",
       "      <td>1527</td>\n",
       "      <td>Houchens, Jamell</td>\n",
       "      <td>2025-07-02 15:27:03</td>\n",
       "      <td>2025-07-02 03:27:03 PM</td>\n",
       "      <td>Wednesday</td>\n",
       "      <td>False</td>\n",
       "      <td>Summer</td>\n",
       "      <td>03:27 PM</td>\n",
       "      <td>Afternoon</td>\n",
       "      <td>2200 GREENBRIER DR</td>\n",
       "      <td>38.062087</td>\n",
       "      <td>-78.469948</td>\n",
       "      <td>Greenbrier</td>\n",
       "    </tr>\n",
       "    <tr>\n",
       "      <th>2</th>\n",
       "      <td>3</td>\n",
       "      <td>Weapons Violations</td>\n",
       "      <td>202500022831</td>\n",
       "      <td>400</td>\n",
       "      <td>RIDGE MCINTIRE RD</td>\n",
       "      <td>CPD</td>\n",
       "      <td>0948</td>\n",
       "      <td>Lowry, Ryan</td>\n",
       "      <td>2025-07-02 09:48:19</td>\n",
       "      <td>2025-07-02 09:48:19 AM</td>\n",
       "      <td>Wednesday</td>\n",
       "      <td>False</td>\n",
       "      <td>Summer</td>\n",
       "      <td>09:48 AM</td>\n",
       "      <td>Morning</td>\n",
       "      <td>400 RIDGE MCINTIRE RD</td>\n",
       "      <td>38.032597</td>\n",
       "      <td>-78.484605</td>\n",
       "      <td>Starr Hill</td>\n",
       "    </tr>\n",
       "    <tr>\n",
       "      <th>3</th>\n",
       "      <td>4</td>\n",
       "      <td>Disorderly Conduct</td>\n",
       "      <td>202500022828</td>\n",
       "      <td>400</td>\n",
       "      <td>250 BYPASS</td>\n",
       "      <td>CPD</td>\n",
       "      <td>0926</td>\n",
       "      <td>Love-Baker, Sydney</td>\n",
       "      <td>2025-07-02 09:26:00</td>\n",
       "      <td>2025-07-02 09:26:00 AM</td>\n",
       "      <td>Wednesday</td>\n",
       "      <td>False</td>\n",
       "      <td>Summer</td>\n",
       "      <td>09:26 AM</td>\n",
       "      <td>Morning</td>\n",
       "      <td>400 250 BYPASS</td>\n",
       "      <td>38.050678</td>\n",
       "      <td>-78.480683</td>\n",
       "      <td>Greenbrier</td>\n",
       "    </tr>\n",
       "    <tr>\n",
       "      <th>4</th>\n",
       "      <td>5</td>\n",
       "      <td>Larceny - From Motor Vehicle</td>\n",
       "      <td>202500022818</td>\n",
       "      <td>2000</td>\n",
       "      <td>HOLIDAY DR, 359</td>\n",
       "      <td>CPD</td>\n",
       "      <td>0736</td>\n",
       "      <td>Love-Baker, Sydney</td>\n",
       "      <td>2025-07-02 07:36:06</td>\n",
       "      <td>2025-07-02 07:36:06 AM</td>\n",
       "      <td>Wednesday</td>\n",
       "      <td>False</td>\n",
       "      <td>Summer</td>\n",
       "      <td>07:36 AM</td>\n",
       "      <td>Morning</td>\n",
       "      <td>2000 HOLIDAY DR, 359</td>\n",
       "      <td>38.057681</td>\n",
       "      <td>-78.491402</td>\n",
       "      <td>The Meadows</td>\n",
       "    </tr>\n",
       "  </tbody>\n",
       "</table>\n",
       "</div>"
      ],
      "text/plain": [
       "   RecordID                          Offense    IncidentID BlockNumber  \\\n",
       "0         1  Assist Citizen - Mental/TDO/ECO  202500022877         900   \n",
       "1         2              Suspicious Activity  202500022867        2200   \n",
       "2         3               Weapons Violations  202500022831         400   \n",
       "3         4               Disorderly Conduct  202500022828         400   \n",
       "4         5     Larceny - From Motor Vehicle  202500022818        2000   \n",
       "\n",
       "          StreetName Agency HourReported    ReportingOfficer  \\\n",
       "0        BELMONT AVE    CPD         1706      Reed, Danielle   \n",
       "1      GREENBRIER DR    CPD         1527    Houchens, Jamell   \n",
       "2  RIDGE MCINTIRE RD    CPD         0948         Lowry, Ryan   \n",
       "3         250 BYPASS    CPD         0926  Love-Baker, Sydney   \n",
       "4    HOLIDAY DR, 359    CPD         0736  Love-Baker, Sydney   \n",
       "\n",
       "                 Date              DateString  DayOfWeek  Weekend  Season  \\\n",
       "0 2025-07-02 17:06:18  2025-07-02 05:06:18 PM  Wednesday    False  Summer   \n",
       "1 2025-07-02 15:27:03  2025-07-02 03:27:03 PM  Wednesday    False  Summer   \n",
       "2 2025-07-02 09:48:19  2025-07-02 09:48:19 AM  Wednesday    False  Summer   \n",
       "3 2025-07-02 09:26:00  2025-07-02 09:26:00 AM  Wednesday    False  Summer   \n",
       "4 2025-07-02 07:36:06  2025-07-02 07:36:06 AM  Wednesday    False  Summer   \n",
       "\n",
       "   HourAMPM  TimeOfDay             FullStreet        lat        lon  \\\n",
       "0  05:06 PM    Evening        900 BELMONT AVE  38.023441 -78.475368   \n",
       "1  03:27 PM  Afternoon     2200 GREENBRIER DR  38.062087 -78.469948   \n",
       "2  09:48 AM    Morning  400 RIDGE MCINTIRE RD  38.032597 -78.484605   \n",
       "3  09:26 AM    Morning         400 250 BYPASS  38.050678 -78.480683   \n",
       "4  07:36 AM    Morning   2000 HOLIDAY DR, 359  38.057681 -78.491402   \n",
       "\n",
       "  neighborhood  \n",
       "0      Belmont  \n",
       "1   Greenbrier  \n",
       "2   Starr Hill  \n",
       "3   Greenbrier  \n",
       "4  The Meadows  "
      ]
     },
     "execution_count": 10,
     "metadata": {},
     "output_type": "execute_result"
    }
   ],
   "source": [
    "# Initialize the Google Maps client.\n",
    "gmaps = googlemaps.Client(key=GOOGLE_API_KEY)\n",
    "\n",
    "# Try to load a persistent neighborhood cache if available.\n",
    "try:\n",
    "    with open(\"neighborhood_cache.pkl\", \"rb\") as f:\n",
    "        neighborhood_cache = pickle.load(f)\n",
    "    print(\"Loaded neighborhood cache.\")\n",
    "except FileNotFoundError:\n",
    "    neighborhood_cache = {}\n",
    "    print(\"No neighborhood cache found; starting fresh.\")\n",
    "\n",
    "def get_neighborhood(lat, lon):\n",
    "    \"\"\"\n",
    "    Reverse geocodes a latitude and longitude to retrieve the neighborhood.\n",
    "    Caches results to speed up subsequent lookups.\n",
    "    \"\"\"\n",
    "    key = (lat, lon)\n",
    "    if key in neighborhood_cache:\n",
    "        return neighborhood_cache[key]\n",
    "    \n",
    "    try:\n",
    "        result = gmaps.reverse_geocode((lat, lon))\n",
    "        if result:\n",
    "            # Look for the 'neighborhood' component in the first result.\n",
    "            for component in result[0]['address_components']:\n",
    "                if 'neighborhood' in component['types']:\n",
    "                    neighborhood = component['long_name']\n",
    "                    neighborhood_cache[key] = neighborhood\n",
    "                    return neighborhood\n",
    "            # If no neighborhood is found, return \"N/A\"\n",
    "            neighborhood_cache[key] = \"N/A\"\n",
    "            return \"N/A\"\n",
    "    except Exception as e:\n",
    "        print(f\"Error getting neighborhood for {lat}, {lon}: {e}\")\n",
    "        return \"N/A\"\n",
    "    \n",
    "    # Pause to respect usage limits.\n",
    "    time.sleep(1)\n",
    "\n",
    "# Example usage: Apply to your DataFrame 'df' that already has 'lat' and 'lon' columns.\n",
    "df['neighborhood'] = df.apply(lambda row: get_neighborhood(row['lat'], row['lon']), axis=1)\n",
    "\n",
    "# Save the updated neighborhood cache.\n",
    "with open(\"neighborhood_cache.pkl\", \"wb\") as f:\n",
    "    pickle.dump(neighborhood_cache, f)\n",
    "\n",
    "df.head()\n"
   ]
  },
  {
   "cell_type": "markdown",
   "id": "10263d6b",
   "metadata": {
    "papermill": {
     "duration": 0.005107,
     "end_time": "2025-07-05T01:03:48.214666",
     "exception": false,
     "start_time": "2025-07-05T01:03:48.209559",
     "status": "completed"
    },
    "tags": []
   },
   "source": [
    "### Zip"
   ]
  },
  {
   "cell_type": "code",
   "execution_count": 11,
   "id": "4757b73b",
   "metadata": {
    "execution": {
     "iopub.execute_input": "2025-07-05T01:03:48.226096Z",
     "iopub.status.busy": "2025-07-05T01:03:48.225820Z",
     "iopub.status.idle": "2025-07-05T01:04:26.532608Z",
     "shell.execute_reply": "2025-07-05T01:04:26.531928Z"
    },
    "papermill": {
     "duration": 38.313795,
     "end_time": "2025-07-05T01:04:26.533705",
     "exception": false,
     "start_time": "2025-07-05T01:03:48.219910",
     "status": "completed"
    },
    "tags": []
   },
   "outputs": [
    {
     "name": "stdout",
     "output_type": "stream",
     "text": [
      "Loaded zip cache.\n",
      "Error getting ZIP for nan, nan: Must be a coordinate pair or Point\n"
     ]
    },
    {
     "name": "stdout",
     "output_type": "stream",
     "text": [
      "Error getting ZIP for nan, nan: Must be a coordinate pair or Point\n"
     ]
    },
    {
     "name": "stdout",
     "output_type": "stream",
     "text": [
      "Error getting ZIP for nan, nan: Must be a coordinate pair or Point\n"
     ]
    },
    {
     "name": "stdout",
     "output_type": "stream",
     "text": [
      "Error getting ZIP for nan, nan: Must be a coordinate pair or Point\n"
     ]
    },
    {
     "name": "stdout",
     "output_type": "stream",
     "text": [
      "Error getting ZIP for nan, nan: Must be a coordinate pair or Point\n"
     ]
    },
    {
     "name": "stdout",
     "output_type": "stream",
     "text": [
      "Error getting ZIP for nan, nan: Must be a coordinate pair or Point\n"
     ]
    },
    {
     "name": "stdout",
     "output_type": "stream",
     "text": [
      "Error getting ZIP for nan, nan: Must be a coordinate pair or Point\n"
     ]
    },
    {
     "name": "stdout",
     "output_type": "stream",
     "text": [
      "Error getting ZIP for nan, nan: Must be a coordinate pair or Point\n"
     ]
    },
    {
     "name": "stdout",
     "output_type": "stream",
     "text": [
      "Error getting ZIP for nan, nan: Must be a coordinate pair or Point\n"
     ]
    },
    {
     "name": "stdout",
     "output_type": "stream",
     "text": [
      "Error getting ZIP for nan, nan: Must be a coordinate pair or Point\n"
     ]
    },
    {
     "name": "stdout",
     "output_type": "stream",
     "text": [
      "Error getting ZIP for nan, nan: Must be a coordinate pair or Point\n"
     ]
    },
    {
     "name": "stdout",
     "output_type": "stream",
     "text": [
      "Error getting ZIP for nan, nan: Must be a coordinate pair or Point\n"
     ]
    },
    {
     "name": "stdout",
     "output_type": "stream",
     "text": [
      "Error getting ZIP for nan, nan: Must be a coordinate pair or Point\n"
     ]
    },
    {
     "name": "stdout",
     "output_type": "stream",
     "text": [
      "Error getting ZIP for nan, nan: Must be a coordinate pair or Point\n"
     ]
    },
    {
     "name": "stdout",
     "output_type": "stream",
     "text": [
      "Error getting ZIP for nan, nan: Must be a coordinate pair or Point\n"
     ]
    },
    {
     "name": "stdout",
     "output_type": "stream",
     "text": [
      "Error getting ZIP for nan, nan: Must be a coordinate pair or Point\n"
     ]
    },
    {
     "name": "stdout",
     "output_type": "stream",
     "text": [
      "Error getting ZIP for nan, nan: Must be a coordinate pair or Point\n"
     ]
    },
    {
     "name": "stdout",
     "output_type": "stream",
     "text": [
      "Error getting ZIP for nan, nan: Must be a coordinate pair or Point\n"
     ]
    },
    {
     "name": "stdout",
     "output_type": "stream",
     "text": [
      "Error getting ZIP for nan, nan: Must be a coordinate pair or Point\n"
     ]
    },
    {
     "name": "stdout",
     "output_type": "stream",
     "text": [
      "Error getting ZIP for nan, nan: Must be a coordinate pair or Point\n"
     ]
    },
    {
     "name": "stdout",
     "output_type": "stream",
     "text": [
      "Error getting ZIP for nan, nan: Must be a coordinate pair or Point\n"
     ]
    },
    {
     "name": "stdout",
     "output_type": "stream",
     "text": [
      "Error getting ZIP for nan, nan: Must be a coordinate pair or Point\n"
     ]
    },
    {
     "name": "stdout",
     "output_type": "stream",
     "text": [
      "Error getting ZIP for nan, nan: Must be a coordinate pair or Point\n"
     ]
    },
    {
     "name": "stdout",
     "output_type": "stream",
     "text": [
      "Error getting ZIP for nan, nan: Must be a coordinate pair or Point\n"
     ]
    },
    {
     "name": "stdout",
     "output_type": "stream",
     "text": [
      "Error getting ZIP for nan, nan: Must be a coordinate pair or Point\n"
     ]
    },
    {
     "name": "stdout",
     "output_type": "stream",
     "text": [
      "Error getting ZIP for nan, nan: Must be a coordinate pair or Point\n"
     ]
    },
    {
     "name": "stdout",
     "output_type": "stream",
     "text": [
      "Error getting ZIP for nan, nan: Must be a coordinate pair or Point\n"
     ]
    },
    {
     "name": "stdout",
     "output_type": "stream",
     "text": [
      "Error getting ZIP for nan, nan: Must be a coordinate pair or Point\n"
     ]
    },
    {
     "name": "stdout",
     "output_type": "stream",
     "text": [
      "Error getting ZIP for nan, nan: Must be a coordinate pair or Point\n"
     ]
    },
    {
     "name": "stdout",
     "output_type": "stream",
     "text": [
      "Error getting ZIP for nan, nan: Must be a coordinate pair or Point\n"
     ]
    },
    {
     "name": "stdout",
     "output_type": "stream",
     "text": [
      "Error getting ZIP for nan, nan: Must be a coordinate pair or Point\n"
     ]
    },
    {
     "name": "stdout",
     "output_type": "stream",
     "text": [
      "Error getting ZIP for nan, nan: Must be a coordinate pair or Point\n"
     ]
    },
    {
     "name": "stdout",
     "output_type": "stream",
     "text": [
      "Error getting ZIP for nan, nan: Must be a coordinate pair or Point\n"
     ]
    },
    {
     "name": "stdout",
     "output_type": "stream",
     "text": [
      "Error getting ZIP for nan, nan: Must be a coordinate pair or Point\n"
     ]
    },
    {
     "name": "stdout",
     "output_type": "stream",
     "text": [
      "Error getting ZIP for nan, nan: Must be a coordinate pair or Point\n"
     ]
    },
    {
     "name": "stdout",
     "output_type": "stream",
     "text": [
      "Error getting ZIP for nan, nan: Must be a coordinate pair or Point\n"
     ]
    },
    {
     "name": "stdout",
     "output_type": "stream",
     "text": [
      "Error getting ZIP for nan, nan: Must be a coordinate pair or Point\n"
     ]
    },
    {
     "name": "stdout",
     "output_type": "stream",
     "text": [
      "Error getting ZIP for nan, nan: Must be a coordinate pair or Point\n"
     ]
    },
    {
     "data": {
      "text/html": [
       "<div>\n",
       "<style scoped>\n",
       "    .dataframe tbody tr th:only-of-type {\n",
       "        vertical-align: middle;\n",
       "    }\n",
       "\n",
       "    .dataframe tbody tr th {\n",
       "        vertical-align: top;\n",
       "    }\n",
       "\n",
       "    .dataframe thead th {\n",
       "        text-align: right;\n",
       "    }\n",
       "</style>\n",
       "<table border=\"1\" class=\"dataframe\">\n",
       "  <thead>\n",
       "    <tr style=\"text-align: right;\">\n",
       "      <th></th>\n",
       "      <th>RecordID</th>\n",
       "      <th>Offense</th>\n",
       "      <th>IncidentID</th>\n",
       "      <th>BlockNumber</th>\n",
       "      <th>StreetName</th>\n",
       "      <th>Agency</th>\n",
       "      <th>HourReported</th>\n",
       "      <th>ReportingOfficer</th>\n",
       "      <th>Date</th>\n",
       "      <th>DateString</th>\n",
       "      <th>DayOfWeek</th>\n",
       "      <th>Weekend</th>\n",
       "      <th>Season</th>\n",
       "      <th>HourAMPM</th>\n",
       "      <th>TimeOfDay</th>\n",
       "      <th>FullStreet</th>\n",
       "      <th>lat</th>\n",
       "      <th>lon</th>\n",
       "      <th>neighborhood</th>\n",
       "      <th>zip</th>\n",
       "    </tr>\n",
       "  </thead>\n",
       "  <tbody>\n",
       "    <tr>\n",
       "      <th>0</th>\n",
       "      <td>1</td>\n",
       "      <td>Assist Citizen - Mental/TDO/ECO</td>\n",
       "      <td>202500022877</td>\n",
       "      <td>900</td>\n",
       "      <td>BELMONT AVE</td>\n",
       "      <td>CPD</td>\n",
       "      <td>1706</td>\n",
       "      <td>Reed, Danielle</td>\n",
       "      <td>2025-07-02 17:06:18</td>\n",
       "      <td>2025-07-02 05:06:18 PM</td>\n",
       "      <td>Wednesday</td>\n",
       "      <td>False</td>\n",
       "      <td>Summer</td>\n",
       "      <td>05:06 PM</td>\n",
       "      <td>Evening</td>\n",
       "      <td>900 BELMONT AVE</td>\n",
       "      <td>38.023441</td>\n",
       "      <td>-78.475368</td>\n",
       "      <td>Belmont</td>\n",
       "      <td>22903</td>\n",
       "    </tr>\n",
       "    <tr>\n",
       "      <th>1</th>\n",
       "      <td>2</td>\n",
       "      <td>Suspicious Activity</td>\n",
       "      <td>202500022867</td>\n",
       "      <td>2200</td>\n",
       "      <td>GREENBRIER DR</td>\n",
       "      <td>CPD</td>\n",
       "      <td>1527</td>\n",
       "      <td>Houchens, Jamell</td>\n",
       "      <td>2025-07-02 15:27:03</td>\n",
       "      <td>2025-07-02 03:27:03 PM</td>\n",
       "      <td>Wednesday</td>\n",
       "      <td>False</td>\n",
       "      <td>Summer</td>\n",
       "      <td>03:27 PM</td>\n",
       "      <td>Afternoon</td>\n",
       "      <td>2200 GREENBRIER DR</td>\n",
       "      <td>38.062087</td>\n",
       "      <td>-78.469948</td>\n",
       "      <td>Greenbrier</td>\n",
       "      <td>22901</td>\n",
       "    </tr>\n",
       "    <tr>\n",
       "      <th>2</th>\n",
       "      <td>3</td>\n",
       "      <td>Weapons Violations</td>\n",
       "      <td>202500022831</td>\n",
       "      <td>400</td>\n",
       "      <td>RIDGE MCINTIRE RD</td>\n",
       "      <td>CPD</td>\n",
       "      <td>0948</td>\n",
       "      <td>Lowry, Ryan</td>\n",
       "      <td>2025-07-02 09:48:19</td>\n",
       "      <td>2025-07-02 09:48:19 AM</td>\n",
       "      <td>Wednesday</td>\n",
       "      <td>False</td>\n",
       "      <td>Summer</td>\n",
       "      <td>09:48 AM</td>\n",
       "      <td>Morning</td>\n",
       "      <td>400 RIDGE MCINTIRE RD</td>\n",
       "      <td>38.032597</td>\n",
       "      <td>-78.484605</td>\n",
       "      <td>Starr Hill</td>\n",
       "      <td>22908</td>\n",
       "    </tr>\n",
       "    <tr>\n",
       "      <th>3</th>\n",
       "      <td>4</td>\n",
       "      <td>Disorderly Conduct</td>\n",
       "      <td>202500022828</td>\n",
       "      <td>400</td>\n",
       "      <td>250 BYPASS</td>\n",
       "      <td>CPD</td>\n",
       "      <td>0926</td>\n",
       "      <td>Love-Baker, Sydney</td>\n",
       "      <td>2025-07-02 09:26:00</td>\n",
       "      <td>2025-07-02 09:26:00 AM</td>\n",
       "      <td>Wednesday</td>\n",
       "      <td>False</td>\n",
       "      <td>Summer</td>\n",
       "      <td>09:26 AM</td>\n",
       "      <td>Morning</td>\n",
       "      <td>400 250 BYPASS</td>\n",
       "      <td>38.050678</td>\n",
       "      <td>-78.480683</td>\n",
       "      <td>Greenbrier</td>\n",
       "      <td>22902</td>\n",
       "    </tr>\n",
       "    <tr>\n",
       "      <th>4</th>\n",
       "      <td>5</td>\n",
       "      <td>Larceny - From Motor Vehicle</td>\n",
       "      <td>202500022818</td>\n",
       "      <td>2000</td>\n",
       "      <td>HOLIDAY DR, 359</td>\n",
       "      <td>CPD</td>\n",
       "      <td>0736</td>\n",
       "      <td>Love-Baker, Sydney</td>\n",
       "      <td>2025-07-02 07:36:06</td>\n",
       "      <td>2025-07-02 07:36:06 AM</td>\n",
       "      <td>Wednesday</td>\n",
       "      <td>False</td>\n",
       "      <td>Summer</td>\n",
       "      <td>07:36 AM</td>\n",
       "      <td>Morning</td>\n",
       "      <td>2000 HOLIDAY DR, 359</td>\n",
       "      <td>38.057681</td>\n",
       "      <td>-78.491402</td>\n",
       "      <td>The Meadows</td>\n",
       "      <td>22901</td>\n",
       "    </tr>\n",
       "  </tbody>\n",
       "</table>\n",
       "</div>"
      ],
      "text/plain": [
       "   RecordID                          Offense    IncidentID BlockNumber  \\\n",
       "0         1  Assist Citizen - Mental/TDO/ECO  202500022877         900   \n",
       "1         2              Suspicious Activity  202500022867        2200   \n",
       "2         3               Weapons Violations  202500022831         400   \n",
       "3         4               Disorderly Conduct  202500022828         400   \n",
       "4         5     Larceny - From Motor Vehicle  202500022818        2000   \n",
       "\n",
       "          StreetName Agency HourReported    ReportingOfficer  \\\n",
       "0        BELMONT AVE    CPD         1706      Reed, Danielle   \n",
       "1      GREENBRIER DR    CPD         1527    Houchens, Jamell   \n",
       "2  RIDGE MCINTIRE RD    CPD         0948         Lowry, Ryan   \n",
       "3         250 BYPASS    CPD         0926  Love-Baker, Sydney   \n",
       "4    HOLIDAY DR, 359    CPD         0736  Love-Baker, Sydney   \n",
       "\n",
       "                 Date              DateString  DayOfWeek  Weekend  Season  \\\n",
       "0 2025-07-02 17:06:18  2025-07-02 05:06:18 PM  Wednesday    False  Summer   \n",
       "1 2025-07-02 15:27:03  2025-07-02 03:27:03 PM  Wednesday    False  Summer   \n",
       "2 2025-07-02 09:48:19  2025-07-02 09:48:19 AM  Wednesday    False  Summer   \n",
       "3 2025-07-02 09:26:00  2025-07-02 09:26:00 AM  Wednesday    False  Summer   \n",
       "4 2025-07-02 07:36:06  2025-07-02 07:36:06 AM  Wednesday    False  Summer   \n",
       "\n",
       "   HourAMPM  TimeOfDay             FullStreet        lat        lon  \\\n",
       "0  05:06 PM    Evening        900 BELMONT AVE  38.023441 -78.475368   \n",
       "1  03:27 PM  Afternoon     2200 GREENBRIER DR  38.062087 -78.469948   \n",
       "2  09:48 AM    Morning  400 RIDGE MCINTIRE RD  38.032597 -78.484605   \n",
       "3  09:26 AM    Morning         400 250 BYPASS  38.050678 -78.480683   \n",
       "4  07:36 AM    Morning   2000 HOLIDAY DR, 359  38.057681 -78.491402   \n",
       "\n",
       "  neighborhood    zip  \n",
       "0      Belmont  22903  \n",
       "1   Greenbrier  22901  \n",
       "2   Starr Hill  22908  \n",
       "3   Greenbrier  22902  \n",
       "4  The Meadows  22901  "
      ]
     },
     "execution_count": 11,
     "metadata": {},
     "output_type": "execute_result"
    }
   ],
   "source": [
    "# Initialize the geocoder.\n",
    "geolocator = Nominatim(user_agent=\"zip_lookup\")\n",
    "\n",
    "# Try to load a persistent ZIP cache if available.\n",
    "try:\n",
    "    with open(\"zip_cache.pkl\", \"rb\") as f:\n",
    "        zip_cache = pickle.load(f)\n",
    "    print(\"Loaded zip cache.\")\n",
    "except FileNotFoundError:\n",
    "    zip_cache = {}\n",
    "    print(\"No zip cache found; starting fresh.\")\n",
    "\n",
    "def get_zip(lat, lon):\n",
    "    \"\"\"\n",
    "    Reverse geocodes a latitude and longitude to retrieve the ZIP code.\n",
    "    Caches results to speed up subsequent lookups.\n",
    "    \"\"\"\n",
    "    key = (lat, lon)\n",
    "    if key in zip_cache:\n",
    "        return zip_cache[key]\n",
    "    \n",
    "    try:\n",
    "        location = geolocator.reverse((lat, lon), exactly_one=True, timeout=10)\n",
    "        address = location.raw.get('address', {})\n",
    "        postal_code = address.get('postcode', \"N/A\")\n",
    "    except Exception as e:\n",
    "        print(f\"Error getting ZIP for {lat}, {lon}: {e}\")\n",
    "        postal_code = \"N/A\"\n",
    "    \n",
    "    zip_cache[key] = postal_code\n",
    "    # Pause to respect the usage policy.\n",
    "    time.sleep(1)\n",
    "    return postal_code\n",
    "\n",
    "# Apply the function to each row in the DataFrame.\n",
    "df['zip'] = df.apply(lambda row: get_zip(row['lat'], row['lon']), axis=1)\n",
    "\n",
    "# Save the updated ZIP cache.\n",
    "with open(\"zip_cache.pkl\", \"wb\") as f:\n",
    "    pickle.dump(zip_cache, f)\n",
    "\n",
    "df.head()\n"
   ]
  },
  {
   "cell_type": "code",
   "execution_count": 12,
   "id": "7489186f",
   "metadata": {
    "execution": {
     "iopub.execute_input": "2025-07-05T01:04:26.549239Z",
     "iopub.status.busy": "2025-07-05T01:04:26.548731Z",
     "iopub.status.idle": "2025-07-05T01:04:26.576968Z",
     "shell.execute_reply": "2025-07-05T01:04:26.576275Z"
    },
    "papermill": {
     "duration": 0.037003,
     "end_time": "2025-07-05T01:04:26.578073",
     "exception": false,
     "start_time": "2025-07-05T01:04:26.541070",
     "status": "completed"
    },
    "tags": []
   },
   "outputs": [
    {
     "name": "stdout",
     "output_type": "stream",
     "text": [
      "                  MissingCount  MissingPercentage\n",
      "RecordID                     0               0.00\n",
      "Offense                      0               0.00\n",
      "IncidentID                   0               0.00\n",
      "BlockNumber                  0               0.00\n",
      "StreetName                   0               0.00\n",
      "Agency                       0               0.00\n",
      "HourReported                 0               0.00\n",
      "ReportingOfficer            17               0.07\n",
      "Date                         0               0.00\n",
      "DateString                   0               0.00\n",
      "DayOfWeek                    0               0.00\n",
      "Weekend                      0               0.00\n",
      "Season                       0               0.00\n",
      "HourAMPM                     0               0.00\n",
      "TimeOfDay                    0               0.00\n",
      "FullStreet                   0               0.00\n",
      "lat                         38               0.15\n",
      "lon                         38               0.15\n",
      "neighborhood                 0               0.00\n",
      "zip                          0               0.00\n"
     ]
    }
   ],
   "source": [
    "missing_info = missing_percentage(df)\n",
    "print(missing_info)\n"
   ]
  },
  {
   "cell_type": "code",
   "execution_count": 13,
   "id": "68081e34",
   "metadata": {
    "execution": {
     "iopub.execute_input": "2025-07-05T01:04:26.593607Z",
     "iopub.status.busy": "2025-07-05T01:04:26.593195Z",
     "iopub.status.idle": "2025-07-05T01:04:26.622573Z",
     "shell.execute_reply": "2025-07-05T01:04:26.622034Z"
    },
    "papermill": {
     "duration": 0.038199,
     "end_time": "2025-07-05T01:04:26.623639",
     "exception": false,
     "start_time": "2025-07-05T01:04:26.585440",
     "status": "completed"
    },
    "tags": []
   },
   "outputs": [
    {
     "name": "stdout",
     "output_type": "stream",
     "text": [
      "<class 'pandas.core.frame.DataFrame'>\n",
      "RangeIndex: 25540 entries, 0 to 25539\n",
      "Data columns (total 20 columns):\n",
      " #   Column            Non-Null Count  Dtype         \n",
      "---  ------            --------------  -----         \n",
      " 0   RecordID          25540 non-null  int64         \n",
      " 1   Offense           25540 non-null  object        \n",
      " 2   IncidentID        25540 non-null  object        \n",
      " 3   BlockNumber       25540 non-null  object        \n",
      " 4   StreetName        25540 non-null  object        \n",
      " 5   Agency            25540 non-null  object        \n",
      " 6   HourReported      25540 non-null  object        \n",
      " 7   ReportingOfficer  25523 non-null  object        \n",
      " 8   Date              25540 non-null  datetime64[ns]\n",
      " 9   DateString        25540 non-null  object        \n",
      " 10  DayOfWeek         25540 non-null  object        \n",
      " 11  Weekend           25540 non-null  bool          \n",
      " 12  Season            25540 non-null  object        \n",
      " 13  HourAMPM          25540 non-null  object        \n",
      " 14  TimeOfDay         25540 non-null  object        \n",
      " 15  FullStreet        25540 non-null  object        \n",
      " 16  lat               25502 non-null  float64       \n",
      " 17  lon               25502 non-null  float64       \n",
      " 18  neighborhood      25540 non-null  object        \n",
      " 19  zip               25540 non-null  object        \n",
      "dtypes: bool(1), datetime64[ns](1), float64(2), int64(1), object(15)\n",
      "memory usage: 3.7+ MB\n"
     ]
    }
   ],
   "source": [
    "df.info()"
   ]
  },
  {
   "cell_type": "code",
   "execution_count": 14,
   "id": "fe3898a6",
   "metadata": {
    "execution": {
     "iopub.execute_input": "2025-07-05T01:04:26.639184Z",
     "iopub.status.busy": "2025-07-05T01:04:26.638979Z",
     "iopub.status.idle": "2025-07-05T01:04:26.683142Z",
     "shell.execute_reply": "2025-07-05T01:04:26.682460Z"
    },
    "papermill": {
     "duration": 0.052995,
     "end_time": "2025-07-05T01:04:26.684159",
     "exception": false,
     "start_time": "2025-07-05T01:04:26.631164",
     "status": "completed"
    },
    "tags": []
   },
   "outputs": [
    {
     "data": {
      "text/html": [
       "<div>\n",
       "<style scoped>\n",
       "    .dataframe tbody tr th:only-of-type {\n",
       "        vertical-align: middle;\n",
       "    }\n",
       "\n",
       "    .dataframe tbody tr th {\n",
       "        vertical-align: top;\n",
       "    }\n",
       "\n",
       "    .dataframe thead th {\n",
       "        text-align: right;\n",
       "    }\n",
       "</style>\n",
       "<table border=\"1\" class=\"dataframe\">\n",
       "  <thead>\n",
       "    <tr style=\"text-align: right;\">\n",
       "      <th></th>\n",
       "      <th>RecordID</th>\n",
       "      <th>Offense</th>\n",
       "      <th>IncidentID</th>\n",
       "      <th>Agency</th>\n",
       "      <th>ReportingOfficer</th>\n",
       "      <th>Date</th>\n",
       "      <th>DayOfWeek</th>\n",
       "      <th>Weekend</th>\n",
       "      <th>Season</th>\n",
       "      <th>TimeOfDay</th>\n",
       "      <th>FullStreet</th>\n",
       "      <th>lat</th>\n",
       "      <th>lon</th>\n",
       "      <th>neighborhood</th>\n",
       "      <th>zip</th>\n",
       "    </tr>\n",
       "  </thead>\n",
       "  <tbody>\n",
       "    <tr>\n",
       "      <th>0</th>\n",
       "      <td>1</td>\n",
       "      <td>Assist Citizen - Mental/TDO/ECO</td>\n",
       "      <td>202500022877</td>\n",
       "      <td>CPD</td>\n",
       "      <td>Reed, Danielle</td>\n",
       "      <td>2025-07-02 17:06:18</td>\n",
       "      <td>Wednesday</td>\n",
       "      <td>False</td>\n",
       "      <td>Summer</td>\n",
       "      <td>Evening</td>\n",
       "      <td>900 BELMONT AVE</td>\n",
       "      <td>38.023441</td>\n",
       "      <td>-78.475368</td>\n",
       "      <td>Belmont</td>\n",
       "      <td>22903</td>\n",
       "    </tr>\n",
       "    <tr>\n",
       "      <th>1</th>\n",
       "      <td>2</td>\n",
       "      <td>Suspicious Activity</td>\n",
       "      <td>202500022867</td>\n",
       "      <td>CPD</td>\n",
       "      <td>Houchens, Jamell</td>\n",
       "      <td>2025-07-02 15:27:03</td>\n",
       "      <td>Wednesday</td>\n",
       "      <td>False</td>\n",
       "      <td>Summer</td>\n",
       "      <td>Afternoon</td>\n",
       "      <td>2200 GREENBRIER DR</td>\n",
       "      <td>38.062087</td>\n",
       "      <td>-78.469948</td>\n",
       "      <td>Greenbrier</td>\n",
       "      <td>22901</td>\n",
       "    </tr>\n",
       "    <tr>\n",
       "      <th>2</th>\n",
       "      <td>3</td>\n",
       "      <td>Weapons Violations</td>\n",
       "      <td>202500022831</td>\n",
       "      <td>CPD</td>\n",
       "      <td>Lowry, Ryan</td>\n",
       "      <td>2025-07-02 09:48:19</td>\n",
       "      <td>Wednesday</td>\n",
       "      <td>False</td>\n",
       "      <td>Summer</td>\n",
       "      <td>Morning</td>\n",
       "      <td>400 RIDGE MCINTIRE RD</td>\n",
       "      <td>38.032597</td>\n",
       "      <td>-78.484605</td>\n",
       "      <td>Starr Hill</td>\n",
       "      <td>22908</td>\n",
       "    </tr>\n",
       "    <tr>\n",
       "      <th>3</th>\n",
       "      <td>4</td>\n",
       "      <td>Disorderly Conduct</td>\n",
       "      <td>202500022828</td>\n",
       "      <td>CPD</td>\n",
       "      <td>Love-Baker, Sydney</td>\n",
       "      <td>2025-07-02 09:26:00</td>\n",
       "      <td>Wednesday</td>\n",
       "      <td>False</td>\n",
       "      <td>Summer</td>\n",
       "      <td>Morning</td>\n",
       "      <td>400 250 BYPASS</td>\n",
       "      <td>38.050678</td>\n",
       "      <td>-78.480683</td>\n",
       "      <td>Greenbrier</td>\n",
       "      <td>22902</td>\n",
       "    </tr>\n",
       "    <tr>\n",
       "      <th>4</th>\n",
       "      <td>5</td>\n",
       "      <td>Larceny - From Motor Vehicle</td>\n",
       "      <td>202500022818</td>\n",
       "      <td>CPD</td>\n",
       "      <td>Love-Baker, Sydney</td>\n",
       "      <td>2025-07-02 07:36:06</td>\n",
       "      <td>Wednesday</td>\n",
       "      <td>False</td>\n",
       "      <td>Summer</td>\n",
       "      <td>Morning</td>\n",
       "      <td>2000 HOLIDAY DR, 359</td>\n",
       "      <td>38.057681</td>\n",
       "      <td>-78.491402</td>\n",
       "      <td>The Meadows</td>\n",
       "      <td>22901</td>\n",
       "    </tr>\n",
       "  </tbody>\n",
       "</table>\n",
       "</div>"
      ],
      "text/plain": [
       "   RecordID                          Offense    IncidentID Agency  \\\n",
       "0         1  Assist Citizen - Mental/TDO/ECO  202500022877    CPD   \n",
       "1         2              Suspicious Activity  202500022867    CPD   \n",
       "2         3               Weapons Violations  202500022831    CPD   \n",
       "3         4               Disorderly Conduct  202500022828    CPD   \n",
       "4         5     Larceny - From Motor Vehicle  202500022818    CPD   \n",
       "\n",
       "     ReportingOfficer                Date  DayOfWeek  Weekend  Season  \\\n",
       "0      Reed, Danielle 2025-07-02 17:06:18  Wednesday    False  Summer   \n",
       "1    Houchens, Jamell 2025-07-02 15:27:03  Wednesday    False  Summer   \n",
       "2         Lowry, Ryan 2025-07-02 09:48:19  Wednesday    False  Summer   \n",
       "3  Love-Baker, Sydney 2025-07-02 09:26:00  Wednesday    False  Summer   \n",
       "4  Love-Baker, Sydney 2025-07-02 07:36:06  Wednesday    False  Summer   \n",
       "\n",
       "   TimeOfDay             FullStreet        lat        lon neighborhood    zip  \n",
       "0    Evening        900 BELMONT AVE  38.023441 -78.475368      Belmont  22903  \n",
       "1  Afternoon     2200 GREENBRIER DR  38.062087 -78.469948   Greenbrier  22901  \n",
       "2    Morning  400 RIDGE MCINTIRE RD  38.032597 -78.484605   Starr Hill  22908  \n",
       "3    Morning         400 250 BYPASS  38.050678 -78.480683   Greenbrier  22902  \n",
       "4    Morning   2000 HOLIDAY DR, 359  38.057681 -78.491402  The Meadows  22901  "
      ]
     },
     "execution_count": 14,
     "metadata": {},
     "output_type": "execute_result"
    }
   ],
   "source": [
    "# Now drop the original BlockNumber and StreetName columns\n",
    "df.drop(columns=['BlockNumber', 'StreetName','HourAMPM','HourReported','DateString'], inplace=True)\n",
    "df[\"zip\"] = df[\"zip\"].astype(str)\n",
    "\n",
    "# Fill all missing values in the DataFrame with \"N/A\"\n",
    "df.replace({None: \"N/A\", np.nan: \"N/A\", \"\": \"N/A\"}, inplace=True)\n",
    "df.head()"
   ]
  },
  {
   "cell_type": "code",
   "execution_count": 15,
   "id": "db3a4da1",
   "metadata": {
    "execution": {
     "iopub.execute_input": "2025-07-05T01:04:26.700676Z",
     "iopub.status.busy": "2025-07-05T01:04:26.700123Z",
     "iopub.status.idle": "2025-07-05T01:04:26.720313Z",
     "shell.execute_reply": "2025-07-05T01:04:26.719776Z"
    },
    "papermill": {
     "duration": 0.029347,
     "end_time": "2025-07-05T01:04:26.721344",
     "exception": false,
     "start_time": "2025-07-05T01:04:26.691997",
     "status": "completed"
    },
    "tags": []
   },
   "outputs": [
    {
     "name": "stdout",
     "output_type": "stream",
     "text": [
      "                  MissingCount  MissingPercentage\n",
      "RecordID                     0                0.0\n",
      "Offense                      0                0.0\n",
      "IncidentID                   0                0.0\n",
      "Agency                       0                0.0\n",
      "ReportingOfficer             0                0.0\n",
      "Date                         0                0.0\n",
      "DayOfWeek                    0                0.0\n",
      "Weekend                      0                0.0\n",
      "Season                       0                0.0\n",
      "TimeOfDay                    0                0.0\n",
      "FullStreet                   0                0.0\n",
      "lat                          0                0.0\n",
      "lon                          0                0.0\n",
      "neighborhood                 0                0.0\n",
      "zip                          0                0.0\n"
     ]
    }
   ],
   "source": [
    "missing_info = missing_percentage(df)\n",
    "print(missing_info)"
   ]
  },
  {
   "cell_type": "code",
   "execution_count": 16,
   "id": "111f97f1",
   "metadata": {
    "execution": {
     "iopub.execute_input": "2025-07-05T01:04:26.737410Z",
     "iopub.status.busy": "2025-07-05T01:04:26.737206Z",
     "iopub.status.idle": "2025-07-05T01:04:26.741552Z",
     "shell.execute_reply": "2025-07-05T01:04:26.741051Z"
    },
    "papermill": {
     "duration": 0.013337,
     "end_time": "2025-07-05T01:04:26.742501",
     "exception": false,
     "start_time": "2025-07-05T01:04:26.729164",
     "status": "completed"
    },
    "tags": []
   },
   "outputs": [
    {
     "data": {
      "text/plain": [
       "Index(['RecordID', 'Offense', 'IncidentID', 'Agency', 'ReportingOfficer',\n",
       "       'Date', 'DayOfWeek', 'Weekend', 'Season', 'TimeOfDay', 'FullStreet',\n",
       "       'lat', 'lon', 'neighborhood', 'zip'],\n",
       "      dtype='object')"
      ]
     },
     "execution_count": 16,
     "metadata": {},
     "output_type": "execute_result"
    }
   ],
   "source": [
    "df.columns"
   ]
  },
  {
   "cell_type": "code",
   "execution_count": 17,
   "id": "558add67",
   "metadata": {
    "execution": {
     "iopub.execute_input": "2025-07-05T01:04:26.758379Z",
     "iopub.status.busy": "2025-07-05T01:04:26.758145Z",
     "iopub.status.idle": "2025-07-05T01:04:26.780415Z",
     "shell.execute_reply": "2025-07-05T01:04:26.779838Z"
    },
    "papermill": {
     "duration": 0.031285,
     "end_time": "2025-07-05T01:04:26.781415",
     "exception": false,
     "start_time": "2025-07-05T01:04:26.750130",
     "status": "completed"
    },
    "tags": []
   },
   "outputs": [
    {
     "name": "stdout",
     "output_type": "stream",
     "text": [
      "<class 'pandas.core.frame.DataFrame'>\n",
      "RangeIndex: 25540 entries, 0 to 25539\n",
      "Data columns (total 15 columns):\n",
      " #   Column            Non-Null Count  Dtype         \n",
      "---  ------            --------------  -----         \n",
      " 0   RecordID          25540 non-null  int64         \n",
      " 1   Offense           25540 non-null  object        \n",
      " 2   IncidentID        25540 non-null  object        \n",
      " 3   Agency            25540 non-null  object        \n",
      " 4   ReportingOfficer  25540 non-null  object        \n",
      " 5   Date              25540 non-null  datetime64[ns]\n",
      " 6   DayOfWeek         25540 non-null  object        \n",
      " 7   Weekend           25540 non-null  bool          \n",
      " 8   Season            25540 non-null  object        \n",
      " 9   TimeOfDay         25540 non-null  object        \n",
      " 10  FullStreet        25540 non-null  object        \n",
      " 11  lat               25540 non-null  object        \n",
      " 12  lon               25540 non-null  object        \n",
      " 13  neighborhood      25540 non-null  object        \n",
      " 14  zip               25540 non-null  object        \n",
      "dtypes: bool(1), datetime64[ns](1), int64(1), object(12)\n",
      "memory usage: 2.8+ MB\n"
     ]
    }
   ],
   "source": [
    "df.info()"
   ]
  },
  {
   "cell_type": "markdown",
   "id": "467a8c3b",
   "metadata": {
    "papermill": {
     "duration": 0.007616,
     "end_time": "2025-07-05T01:04:26.796928",
     "exception": false,
     "start_time": "2025-07-05T01:04:26.789312",
     "status": "completed"
    },
    "tags": []
   },
   "source": [
    "### Export Clean Data"
   ]
  },
  {
   "cell_type": "code",
   "execution_count": 18,
   "id": "306f9de0",
   "metadata": {
    "execution": {
     "iopub.execute_input": "2025-07-05T01:04:26.813310Z",
     "iopub.status.busy": "2025-07-05T01:04:26.813074Z",
     "iopub.status.idle": "2025-07-05T01:04:35.906940Z",
     "shell.execute_reply": "2025-07-05T01:04:35.906246Z"
    },
    "papermill": {
     "duration": 9.103442,
     "end_time": "2025-07-05T01:04:35.908120",
     "exception": false,
     "start_time": "2025-07-05T01:04:26.804678",
     "status": "completed"
    },
    "tags": []
   },
   "outputs": [
    {
     "name": "stdout",
     "output_type": "stream",
     "text": [
      "Project Root: /home/runner/work/crime-data/crime-data\n"
     ]
    },
    {
     "name": "stdout",
     "output_type": "stream",
     "text": [
      "Data saved to: /home/runner/work/crime-data/crime-data/data/charlottesville_crime_incidents.csv\n"
     ]
    },
    {
     "name": "stdout",
     "output_type": "stream",
     "text": [
      "Excel saved to: /home/runner/work/crime-data/crime-data/data/charlottesville_crime_incidents.xlsx\n"
     ]
    }
   ],
   "source": [
    "# Determine the project root (assuming papermill is run from the repository root)\n",
    "project_root = os.getcwd()\n",
    "print(\"Project Root:\", project_root)\n",
    "\n",
    "# Set the data directory within the project root\n",
    "data_dir = os.path.join(project_root, \"data\")\n",
    "\n",
    "# Ensure the \"data\" directory exists (create it if it doesn't)\n",
    "if not os.path.exists(data_dir):\n",
    "    os.makedirs(data_dir)\n",
    "\n",
    "# Export the DataFrame to CSV in the \"data\" folder located in the project root\n",
    "csv_path = os.path.join(data_dir, \"charlottesville_crime_incidents.csv\")\n",
    "df.to_csv(csv_path, index=False)\n",
    "print(\"Data saved to:\", csv_path)\n",
    "\n",
    "# Construct the path to your Excel file\n",
    "excel_path = os.path.join(data_dir, \"charlottesville_crime_incidents.xlsx\")\n",
    "\n",
    "# Export the DataFrame to Excel\n",
    "df.to_excel(excel_path, index=False)\n",
    "print(\"Excel saved to:\", excel_path)\n"
   ]
  }
 ],
 "metadata": {
  "kernelspec": {
   "display_name": "Python 3",
   "language": "python",
   "name": "python3"
  },
  "language_info": {
   "codemirror_mode": {
    "name": "ipython",
    "version": 3
   },
   "file_extension": ".py",
   "mimetype": "text/x-python",
   "name": "python",
   "nbconvert_exporter": "python",
   "pygments_lexer": "ipython3",
   "version": "3.9.23"
  },
  "papermill": {
   "default_parameters": {},
   "duration": 119.415996,
   "end_time": "2025-07-05T01:04:36.332445",
   "environment_variables": {},
   "exception": null,
   "input_path": "notebook/Crime Data.ipynb",
   "output_path": "notebook/Crime Data_output.ipynb",
   "parameters": {},
   "start_time": "2025-07-05T01:02:36.916449",
   "version": "2.6.0"
  }
 },
 "nbformat": 4,
 "nbformat_minor": 5
}