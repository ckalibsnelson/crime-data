{
 "cells": [
  {
   "cell_type": "markdown",
   "id": "84b68d65",
   "metadata": {
    "papermill": {
     "duration": 0.006075,
     "end_time": "2025-04-10T00:59:29.969874",
     "exception": false,
     "start_time": "2025-04-10T00:59:29.963799",
     "status": "completed"
    },
    "tags": []
   },
   "source": [
    "# Charlottesville Open Data Porttal: Crime Data"
   ]
  },
  {
   "cell_type": "markdown",
   "id": "88e38d8f",
   "metadata": {
    "papermill": {
     "duration": 0.00494,
     "end_time": "2025-04-10T00:59:29.980145",
     "exception": false,
     "start_time": "2025-04-10T00:59:29.975205",
     "status": "completed"
    },
    "tags": []
   },
   "source": [
    "## Import Relevant Librarires & Set WD"
   ]
  },
  {
   "cell_type": "code",
   "execution_count": 1,
   "id": "6a1551bb",
   "metadata": {
    "execution": {
     "iopub.execute_input": "2025-04-10T00:59:29.991657Z",
     "iopub.status.busy": "2025-04-10T00:59:29.991072Z",
     "iopub.status.idle": "2025-04-10T00:59:30.750340Z",
     "shell.execute_reply": "2025-04-10T00:59:30.749693Z"
    },
    "papermill": {
     "duration": 0.766425,
     "end_time": "2025-04-10T00:59:30.751669",
     "exception": false,
     "start_time": "2025-04-10T00:59:29.985244",
     "status": "completed"
    },
    "tags": []
   },
   "outputs": [],
   "source": [
    "import requests\n",
    "import pandas as pd\n",
    "import numpy as np\n",
    "import pickle\n",
    "import googlemaps\n",
    "import plotly.express as px\n",
    "from geopy.geocoders import Nominatim\n",
    "import time\n",
    "from dotenv import load_dotenv\n",
    "import os\n",
    "\n",
    "env_path = os.path.join(\"..\", \".env\")\n",
    "#print(\"Looking for .env file at:\", os.path.abspath(env_path))\n",
    "load_dotenv(dotenv_path=env_path)\n",
    "\n",
    "# Retrieve the variables\n",
    "GOOGLE_API_KEY = os.getenv(\"GOOGLE_API_KEY\")\n",
    "WORKING_DIR = os.getenv(\"WORKING_DIR\")\n",
    "\n",
    "if GOOGLE_API_KEY is None or WORKING_DIR is None:\n",
    "    raise RuntimeError(\"No configuration found. Please ensure that your .env file exists with the required variables, or create a local config.py file.\")\n",
    "\n",
    "#print(\"Google API Key:\", GOOGLE_API_KEY)\n",
    "#print(\"Working Directory:\", WORKING_DIR)"
   ]
  },
  {
   "cell_type": "markdown",
   "id": "647eb05a",
   "metadata": {
    "papermill": {
     "duration": 0.007961,
     "end_time": "2025-04-10T00:59:30.765299",
     "exception": false,
     "start_time": "2025-04-10T00:59:30.757338",
     "status": "completed"
    },
    "tags": []
   },
   "source": [
    "## Import Data\n",
    "\n",
    "URL: https://opendata.charlottesville.org/datasets/charlottesville::crime-data/about"
   ]
  },
  {
   "cell_type": "code",
   "execution_count": 2,
   "id": "23df3bcc",
   "metadata": {
    "execution": {
     "iopub.execute_input": "2025-04-10T00:59:30.782775Z",
     "iopub.status.busy": "2025-04-10T00:59:30.782352Z",
     "iopub.status.idle": "2025-04-10T01:00:29.891173Z",
     "shell.execute_reply": "2025-04-10T01:00:29.890434Z"
    },
    "papermill": {
     "duration": 59.124081,
     "end_time": "2025-04-10T01:00:29.897351",
     "exception": false,
     "start_time": "2025-04-10T00:59:30.773270",
     "status": "completed"
    },
    "tags": []
   },
   "outputs": [
    {
     "name": "stdout",
     "output_type": "stream",
     "text": [
      "Total records imported: 25127\n"
     ]
    }
   ],
   "source": [
    "# Define the endpoint and initial parameters.\n",
    "url = \"https://gisweb.charlottesville.org/arcgis/rest/services/OpenData_2/MapServer/6/query\"\n",
    "params = {\n",
    "    \"where\": \"1=1\",\n",
    "    \"outFields\": \"*\",\n",
    "    \"outSR\": 4326,\n",
    "    \"f\": \"json\",\n",
    "    \"resultOffset\": 0,       # Starting index for results\n",
    "    \"resultRecordCount\": 10000  # Maximum records per batch (if allowed by the API)\n",
    "}\n",
    "\n",
    "records = []\n",
    "\n",
    "while True:\n",
    "    response = requests.get(url, params=params)\n",
    "    response.raise_for_status()\n",
    "    data = response.json()\n",
    "    \n",
    "    # Get the current batch of features.\n",
    "    features = data.get(\"features\", [])\n",
    "    if not features:\n",
    "        break\n",
    "\n",
    "    # Extract the attributes from the features.\n",
    "    batch_records = [feature.get(\"attributes\", {}) for feature in features]\n",
    "    records.extend(batch_records)\n",
    "    \n",
    "    # If the batch size is less than the requested count, we reached the end.\n",
    "    if len(features) < params[\"resultRecordCount\"]:\n",
    "        break\n",
    "\n",
    "    # Update the resultOffset for the next batch.\n",
    "    params[\"resultOffset\"] += params[\"resultRecordCount\"]\n",
    "\n",
    "# Create a DataFrame from the combined records.\n",
    "df = pd.DataFrame(records)\n",
    "print(\"Total records imported:\", len(df))\n"
   ]
  },
  {
   "cell_type": "code",
   "execution_count": 3,
   "id": "7080f46e",
   "metadata": {
    "execution": {
     "iopub.execute_input": "2025-04-10T01:00:29.908972Z",
     "iopub.status.busy": "2025-04-10T01:00:29.908521Z",
     "iopub.status.idle": "2025-04-10T01:00:29.920802Z",
     "shell.execute_reply": "2025-04-10T01:00:29.920149Z"
    },
    "papermill": {
     "duration": 0.0192,
     "end_time": "2025-04-10T01:00:29.921819",
     "exception": false,
     "start_time": "2025-04-10T01:00:29.902619",
     "status": "completed"
    },
    "tags": []
   },
   "outputs": [
    {
     "data": {
      "text/html": [
       "<div>\n",
       "<style scoped>\n",
       "    .dataframe tbody tr th:only-of-type {\n",
       "        vertical-align: middle;\n",
       "    }\n",
       "\n",
       "    .dataframe tbody tr th {\n",
       "        vertical-align: top;\n",
       "    }\n",
       "\n",
       "    .dataframe thead th {\n",
       "        text-align: right;\n",
       "    }\n",
       "</style>\n",
       "<table border=\"1\" class=\"dataframe\">\n",
       "  <thead>\n",
       "    <tr style=\"text-align: right;\">\n",
       "      <th></th>\n",
       "      <th>RecordID</th>\n",
       "      <th>Offense</th>\n",
       "      <th>IncidentID</th>\n",
       "      <th>BlockNumber</th>\n",
       "      <th>StreetName</th>\n",
       "      <th>Agency</th>\n",
       "      <th>DateReported</th>\n",
       "      <th>HourReported</th>\n",
       "      <th>ReportingOfficer</th>\n",
       "    </tr>\n",
       "  </thead>\n",
       "  <tbody>\n",
       "    <tr>\n",
       "      <th>0</th>\n",
       "      <td>1</td>\n",
       "      <td>Fraud-welfare</td>\n",
       "      <td>202500011191</td>\n",
       "      <td>1600</td>\n",
       "      <td>MERIDIAN ST</td>\n",
       "      <td>CPD</td>\n",
       "      <td>1744060063000</td>\n",
       "      <td>1707</td>\n",
       "      <td>Benbow, Lauren</td>\n",
       "    </tr>\n",
       "    <tr>\n",
       "      <th>1</th>\n",
       "      <td>2</td>\n",
       "      <td>Assault Simple</td>\n",
       "      <td>202500011189</td>\n",
       "      <td>800</td>\n",
       "      <td>HARDY DR</td>\n",
       "      <td>CPD</td>\n",
       "      <td>1744060049000</td>\n",
       "      <td>1707</td>\n",
       "      <td>Curry, Brian</td>\n",
       "    </tr>\n",
       "    <tr>\n",
       "      <th>2</th>\n",
       "      <td>3</td>\n",
       "      <td>Larceny - All Other</td>\n",
       "      <td>202500011194</td>\n",
       "      <td>1000</td>\n",
       "      <td>PRESTON AVE, A</td>\n",
       "      <td>CPD</td>\n",
       "      <td>1744057035000</td>\n",
       "      <td>1617</td>\n",
       "      <td>Bland, Johnnà</td>\n",
       "    </tr>\n",
       "    <tr>\n",
       "      <th>3</th>\n",
       "      <td>4</td>\n",
       "      <td>Larceny - All Other</td>\n",
       "      <td>202500011173</td>\n",
       "      <td></td>\n",
       "      <td>E SOUTH ST / 6TH ST SE</td>\n",
       "      <td>CPD</td>\n",
       "      <td>1744051911000</td>\n",
       "      <td>1451</td>\n",
       "      <td>Schwartz, Honora</td>\n",
       "    </tr>\n",
       "    <tr>\n",
       "      <th>4</th>\n",
       "      <td>5</td>\n",
       "      <td>Larceny - From Motor Vehicle</td>\n",
       "      <td>202500011161</td>\n",
       "      <td>800</td>\n",
       "      <td>WARD AVE</td>\n",
       "      <td>CPD</td>\n",
       "      <td>1744047072000</td>\n",
       "      <td>1331</td>\n",
       "      <td>Carrasco, Julio</td>\n",
       "    </tr>\n",
       "  </tbody>\n",
       "</table>\n",
       "</div>"
      ],
      "text/plain": [
       "   RecordID                       Offense    IncidentID BlockNumber  \\\n",
       "0         1                 Fraud-welfare  202500011191        1600   \n",
       "1         2                Assault Simple  202500011189         800   \n",
       "2         3           Larceny - All Other  202500011194        1000   \n",
       "3         4           Larceny - All Other  202500011173               \n",
       "4         5  Larceny - From Motor Vehicle  202500011161         800   \n",
       "\n",
       "               StreetName Agency   DateReported HourReported  ReportingOfficer  \n",
       "0             MERIDIAN ST    CPD  1744060063000         1707    Benbow, Lauren  \n",
       "1                HARDY DR    CPD  1744060049000         1707      Curry, Brian  \n",
       "2          PRESTON AVE, A    CPD  1744057035000         1617     Bland, Johnnà  \n",
       "3  E SOUTH ST / 6TH ST SE    CPD  1744051911000         1451  Schwartz, Honora  \n",
       "4                WARD AVE    CPD  1744047072000         1331   Carrasco, Julio  "
      ]
     },
     "execution_count": 3,
     "metadata": {},
     "output_type": "execute_result"
    }
   ],
   "source": [
    "df.head()"
   ]
  },
  {
   "cell_type": "code",
   "execution_count": 4,
   "id": "cf4b29af",
   "metadata": {
    "execution": {
     "iopub.execute_input": "2025-04-10T01:00:29.933492Z",
     "iopub.status.busy": "2025-04-10T01:00:29.933149Z",
     "iopub.status.idle": "2025-04-10T01:00:29.937335Z",
     "shell.execute_reply": "2025-04-10T01:00:29.936803Z"
    },
    "papermill": {
     "duration": 0.011036,
     "end_time": "2025-04-10T01:00:29.938286",
     "exception": false,
     "start_time": "2025-04-10T01:00:29.927250",
     "status": "completed"
    },
    "tags": []
   },
   "outputs": [
    {
     "data": {
      "text/plain": [
       "Index(['RecordID', 'Offense', 'IncidentID', 'BlockNumber', 'StreetName',\n",
       "       'Agency', 'DateReported', 'HourReported', 'ReportingOfficer'],\n",
       "      dtype='object')"
      ]
     },
     "execution_count": 4,
     "metadata": {},
     "output_type": "execute_result"
    }
   ],
   "source": [
    "df.columns"
   ]
  },
  {
   "cell_type": "code",
   "execution_count": 5,
   "id": "cd00a8a4",
   "metadata": {
    "execution": {
     "iopub.execute_input": "2025-04-10T01:00:29.950330Z",
     "iopub.status.busy": "2025-04-10T01:00:29.950096Z",
     "iopub.status.idle": "2025-04-10T01:00:29.972194Z",
     "shell.execute_reply": "2025-04-10T01:00:29.971626Z"
    },
    "papermill": {
     "duration": 0.029395,
     "end_time": "2025-04-10T01:00:29.973156",
     "exception": false,
     "start_time": "2025-04-10T01:00:29.943761",
     "status": "completed"
    },
    "tags": []
   },
   "outputs": [
    {
     "name": "stdout",
     "output_type": "stream",
     "text": [
      "<class 'pandas.core.frame.DataFrame'>\n",
      "RangeIndex: 25127 entries, 0 to 25126\n",
      "Data columns (total 9 columns):\n",
      " #   Column            Non-Null Count  Dtype \n",
      "---  ------            --------------  ----- \n",
      " 0   RecordID          25127 non-null  int64 \n",
      " 1   Offense           25127 non-null  object\n",
      " 2   IncidentID        25127 non-null  object\n",
      " 3   BlockNumber       25127 non-null  object\n",
      " 4   StreetName        25127 non-null  object\n",
      " 5   Agency            25127 non-null  object\n",
      " 6   DateReported      25127 non-null  int64 \n",
      " 7   HourReported      25127 non-null  object\n",
      " 8   ReportingOfficer  25110 non-null  object\n",
      "dtypes: int64(2), object(7)\n",
      "memory usage: 1.7+ MB\n"
     ]
    }
   ],
   "source": [
    "df.info()"
   ]
  },
  {
   "cell_type": "markdown",
   "id": "ffebf1e2",
   "metadata": {
    "papermill": {
     "duration": 0.005527,
     "end_time": "2025-04-10T01:00:29.984261",
     "exception": false,
     "start_time": "2025-04-10T01:00:29.978734",
     "status": "completed"
    },
    "tags": []
   },
   "source": [
    "### Missing Values"
   ]
  },
  {
   "cell_type": "code",
   "execution_count": 6,
   "id": "aaf05fcb",
   "metadata": {
    "execution": {
     "iopub.execute_input": "2025-04-10T01:00:29.996077Z",
     "iopub.status.busy": "2025-04-10T01:00:29.995835Z",
     "iopub.status.idle": "2025-04-10T01:00:30.014796Z",
     "shell.execute_reply": "2025-04-10T01:00:30.014206Z"
    },
    "papermill": {
     "duration": 0.026206,
     "end_time": "2025-04-10T01:00:30.015908",
     "exception": false,
     "start_time": "2025-04-10T01:00:29.989702",
     "status": "completed"
    },
    "tags": []
   },
   "outputs": [
    {
     "name": "stdout",
     "output_type": "stream",
     "text": [
      "                  MissingCount  MissingPercentage\n",
      "RecordID                     0               0.00\n",
      "Offense                      0               0.00\n",
      "IncidentID                   0               0.00\n",
      "BlockNumber                  0               0.00\n",
      "StreetName                   0               0.00\n",
      "Agency                       0               0.00\n",
      "DateReported                 0               0.00\n",
      "HourReported                 0               0.00\n",
      "ReportingOfficer            17               0.07\n"
     ]
    }
   ],
   "source": [
    "def missing_percentage(df):\n",
    "    \"\"\"\n",
    "    Returns a DataFrame with the count and percentage of missing values for each column.\n",
    "    \n",
    "    Parameters:\n",
    "        df (pd.DataFrame): The input DataFrame.\n",
    "    \n",
    "    Returns:\n",
    "        pd.DataFrame: A DataFrame with columns 'MissingCount' and 'MissingPercentage'.\n",
    "    \"\"\"\n",
    "    total_rows = len(df)\n",
    "    missing_count = df.isnull().sum()\n",
    "    missing_percent = (missing_count / total_rows) * 100\n",
    "    \n",
    "    result = pd.DataFrame({\n",
    "        'MissingCount': missing_count,\n",
    "        'MissingPercentage': missing_percent.round(2)\n",
    "    })\n",
    "    \n",
    "    return result\n",
    "\n",
    "# Example usage:\n",
    "missing_info = missing_percentage(df)\n",
    "print(missing_info)\n"
   ]
  },
  {
   "cell_type": "markdown",
   "id": "2b4d51eb",
   "metadata": {
    "papermill": {
     "duration": 0.005654,
     "end_time": "2025-04-10T01:00:30.027438",
     "exception": false,
     "start_time": "2025-04-10T01:00:30.021784",
     "status": "completed"
    },
    "tags": []
   },
   "source": [
    "## Data Preparation"
   ]
  },
  {
   "cell_type": "markdown",
   "id": "69bcd09b",
   "metadata": {
    "papermill": {
     "duration": 0.005552,
     "end_time": "2025-04-10T01:00:30.038580",
     "exception": false,
     "start_time": "2025-04-10T01:00:30.033028",
     "status": "completed"
    },
    "tags": []
   },
   "source": [
    "### Data Conversion"
   ]
  },
  {
   "cell_type": "code",
   "execution_count": 7,
   "id": "67e1c739",
   "metadata": {
    "execution": {
     "iopub.execute_input": "2025-04-10T01:00:30.050525Z",
     "iopub.status.busy": "2025-04-10T01:00:30.050326Z",
     "iopub.status.idle": "2025-04-10T01:00:30.419428Z",
     "shell.execute_reply": "2025-04-10T01:00:30.418865Z"
    },
    "papermill": {
     "duration": 0.376379,
     "end_time": "2025-04-10T01:00:30.420514",
     "exception": false,
     "start_time": "2025-04-10T01:00:30.044135",
     "status": "completed"
    },
    "tags": []
   },
   "outputs": [
    {
     "data": {
      "text/html": [
       "<div>\n",
       "<style scoped>\n",
       "    .dataframe tbody tr th:only-of-type {\n",
       "        vertical-align: middle;\n",
       "    }\n",
       "\n",
       "    .dataframe tbody tr th {\n",
       "        vertical-align: top;\n",
       "    }\n",
       "\n",
       "    .dataframe thead th {\n",
       "        text-align: right;\n",
       "    }\n",
       "</style>\n",
       "<table border=\"1\" class=\"dataframe\">\n",
       "  <thead>\n",
       "    <tr style=\"text-align: right;\">\n",
       "      <th></th>\n",
       "      <th>RecordID</th>\n",
       "      <th>Offense</th>\n",
       "      <th>IncidentID</th>\n",
       "      <th>BlockNumber</th>\n",
       "      <th>StreetName</th>\n",
       "      <th>Agency</th>\n",
       "      <th>HourReported</th>\n",
       "      <th>ReportingOfficer</th>\n",
       "      <th>Date</th>\n",
       "      <th>DateString</th>\n",
       "      <th>DayOfWeek</th>\n",
       "      <th>Weekend</th>\n",
       "      <th>Season</th>\n",
       "      <th>HourAMPM</th>\n",
       "      <th>TimeOfDay</th>\n",
       "    </tr>\n",
       "  </thead>\n",
       "  <tbody>\n",
       "    <tr>\n",
       "      <th>0</th>\n",
       "      <td>1</td>\n",
       "      <td>Fraud-welfare</td>\n",
       "      <td>202500011191</td>\n",
       "      <td>1600</td>\n",
       "      <td>MERIDIAN ST</td>\n",
       "      <td>CPD</td>\n",
       "      <td>1707</td>\n",
       "      <td>Benbow, Lauren</td>\n",
       "      <td>2025-04-07 17:07:43</td>\n",
       "      <td>2025-04-07 05:07:43 PM</td>\n",
       "      <td>Monday</td>\n",
       "      <td>False</td>\n",
       "      <td>Spring</td>\n",
       "      <td>05:07 PM</td>\n",
       "      <td>Evening</td>\n",
       "    </tr>\n",
       "    <tr>\n",
       "      <th>1</th>\n",
       "      <td>2</td>\n",
       "      <td>Assault Simple</td>\n",
       "      <td>202500011189</td>\n",
       "      <td>800</td>\n",
       "      <td>HARDY DR</td>\n",
       "      <td>CPD</td>\n",
       "      <td>1707</td>\n",
       "      <td>Curry, Brian</td>\n",
       "      <td>2025-04-07 17:07:29</td>\n",
       "      <td>2025-04-07 05:07:29 PM</td>\n",
       "      <td>Monday</td>\n",
       "      <td>False</td>\n",
       "      <td>Spring</td>\n",
       "      <td>05:07 PM</td>\n",
       "      <td>Evening</td>\n",
       "    </tr>\n",
       "    <tr>\n",
       "      <th>2</th>\n",
       "      <td>3</td>\n",
       "      <td>Larceny - All Other</td>\n",
       "      <td>202500011194</td>\n",
       "      <td>1000</td>\n",
       "      <td>PRESTON AVE, A</td>\n",
       "      <td>CPD</td>\n",
       "      <td>1617</td>\n",
       "      <td>Bland, Johnnà</td>\n",
       "      <td>2025-04-07 16:17:15</td>\n",
       "      <td>2025-04-07 04:17:15 PM</td>\n",
       "      <td>Monday</td>\n",
       "      <td>False</td>\n",
       "      <td>Spring</td>\n",
       "      <td>04:17 PM</td>\n",
       "      <td>Afternoon</td>\n",
       "    </tr>\n",
       "    <tr>\n",
       "      <th>3</th>\n",
       "      <td>4</td>\n",
       "      <td>Larceny - All Other</td>\n",
       "      <td>202500011173</td>\n",
       "      <td></td>\n",
       "      <td>E SOUTH ST / 6TH ST SE</td>\n",
       "      <td>CPD</td>\n",
       "      <td>1451</td>\n",
       "      <td>Schwartz, Honora</td>\n",
       "      <td>2025-04-07 14:51:51</td>\n",
       "      <td>2025-04-07 02:51:51 PM</td>\n",
       "      <td>Monday</td>\n",
       "      <td>False</td>\n",
       "      <td>Spring</td>\n",
       "      <td>02:51 PM</td>\n",
       "      <td>Afternoon</td>\n",
       "    </tr>\n",
       "    <tr>\n",
       "      <th>4</th>\n",
       "      <td>5</td>\n",
       "      <td>Larceny - From Motor Vehicle</td>\n",
       "      <td>202500011161</td>\n",
       "      <td>800</td>\n",
       "      <td>WARD AVE</td>\n",
       "      <td>CPD</td>\n",
       "      <td>1331</td>\n",
       "      <td>Carrasco, Julio</td>\n",
       "      <td>2025-04-07 13:31:12</td>\n",
       "      <td>2025-04-07 01:31:12 PM</td>\n",
       "      <td>Monday</td>\n",
       "      <td>False</td>\n",
       "      <td>Spring</td>\n",
       "      <td>01:31 PM</td>\n",
       "      <td>Afternoon</td>\n",
       "    </tr>\n",
       "  </tbody>\n",
       "</table>\n",
       "</div>"
      ],
      "text/plain": [
       "   RecordID                       Offense    IncidentID BlockNumber  \\\n",
       "0         1                 Fraud-welfare  202500011191        1600   \n",
       "1         2                Assault Simple  202500011189         800   \n",
       "2         3           Larceny - All Other  202500011194        1000   \n",
       "3         4           Larceny - All Other  202500011173               \n",
       "4         5  Larceny - From Motor Vehicle  202500011161         800   \n",
       "\n",
       "               StreetName Agency HourReported  ReportingOfficer  \\\n",
       "0             MERIDIAN ST    CPD         1707    Benbow, Lauren   \n",
       "1                HARDY DR    CPD         1707      Curry, Brian   \n",
       "2          PRESTON AVE, A    CPD         1617     Bland, Johnnà   \n",
       "3  E SOUTH ST / 6TH ST SE    CPD         1451  Schwartz, Honora   \n",
       "4                WARD AVE    CPD         1331   Carrasco, Julio   \n",
       "\n",
       "                 Date              DateString DayOfWeek  Weekend  Season  \\\n",
       "0 2025-04-07 17:07:43  2025-04-07 05:07:43 PM    Monday    False  Spring   \n",
       "1 2025-04-07 17:07:29  2025-04-07 05:07:29 PM    Monday    False  Spring   \n",
       "2 2025-04-07 16:17:15  2025-04-07 04:17:15 PM    Monday    False  Spring   \n",
       "3 2025-04-07 14:51:51  2025-04-07 02:51:51 PM    Monday    False  Spring   \n",
       "4 2025-04-07 13:31:12  2025-04-07 01:31:12 PM    Monday    False  Spring   \n",
       "\n",
       "   HourAMPM  TimeOfDay  \n",
       "0  05:07 PM    Evening  \n",
       "1  05:07 PM    Evening  \n",
       "2  04:17 PM  Afternoon  \n",
       "3  02:51 PM  Afternoon  \n",
       "4  01:31 PM  Afternoon  "
      ]
     },
     "execution_count": 7,
     "metadata": {},
     "output_type": "execute_result"
    }
   ],
   "source": [
    "def convert_and_categorize_datereported(df, col='DateReported'):\n",
    "    \"\"\"\n",
    "    Converts an epoch (in milliseconds) date column into a timezone-aware datetime,\n",
    "    converts it to Eastern Time, and then creates columns for day-of-week, weekend flag,\n",
    "    season, 12-hour formatted time, and time-of-day. Keeps both a real datetime column\n",
    "    (Date) and a string representation (DateString).\n",
    "    \"\"\"\n",
    "    import pandas as pd\n",
    "\n",
    "    # Convert the epoch timestamp to a pandas datetime object as UTC, then convert to US/Eastern.\n",
    "    df[\"DateReported_dt\"] = (\n",
    "        pd.to_datetime(df[col], unit=\"ms\", errors=\"coerce\", utc=True)\n",
    "        .dt.tz_convert(\"US/Eastern\")\n",
    "    )\n",
    "    \n",
    "    # Create a true datetime column (remove timezone if you prefer naive datetime)\n",
    "    df[\"Date\"] = df[\"DateReported_dt\"].dt.tz_localize(None)\n",
    "\n",
    "    # Optionally, create a separate string-formatted column\n",
    "    df[\"DateString\"] = df[\"DateReported_dt\"].dt.strftime(\"%Y-%m-%d %I:%M:%S %p\")\n",
    "    \n",
    "    # DayOfWeek\n",
    "    df[\"DayOfWeek\"] = df[\"DateReported_dt\"].dt.day_name()\n",
    "    \n",
    "    # Weekend\n",
    "    df[\"Weekend\"] = df[\"DayOfWeek\"].isin([\"Saturday\", \"Sunday\"])\n",
    "    \n",
    "    # Helper function to determine the season\n",
    "    def get_season(dt):\n",
    "        month = dt.month\n",
    "        day = dt.day\n",
    "        # Approximate Northern Hemisphere season boundaries:\n",
    "        if (month == 12 and day >= 21) or (month < 3) or (month == 3 and day < 20):\n",
    "            return \"Winter\"\n",
    "        elif (month == 3 and day >= 20) or (month < 6) or (month == 6 and day < 21):\n",
    "            return \"Spring\"\n",
    "        elif (month == 6 and day >= 21) or (month < 9) or (month == 9 and day < 22):\n",
    "            return \"Summer\"\n",
    "        else:\n",
    "            return \"Autumn\"\n",
    "    \n",
    "    df[\"Season\"] = df[\"DateReported_dt\"].apply(get_season)\n",
    "    \n",
    "    # 12-hour formatted time (HourAMPM)\n",
    "    df[\"HourAMPM\"] = df[\"DateReported_dt\"].dt.strftime(\"%I:%M %p\")\n",
    "    \n",
    "    # Extract hour (0-23) for time-of-day\n",
    "    df[\"HourValue\"] = df[\"DateReported_dt\"].dt.hour\n",
    "    \n",
    "    def time_of_day(hour):\n",
    "        if pd.isnull(hour):\n",
    "            return None\n",
    "        if 5 <= hour < 12:\n",
    "            return \"Morning\"\n",
    "        elif 12 <= hour < 17:\n",
    "            return \"Afternoon\"\n",
    "        elif 17 <= hour < 21:\n",
    "            return \"Evening\"\n",
    "        else:\n",
    "            return \"Night\"\n",
    "    \n",
    "    df[\"TimeOfDay\"] = df[\"HourValue\"].apply(time_of_day)\n",
    "    \n",
    "    # Drop columns you no longer need\n",
    "    df.drop(columns=[col, \"DateReported_dt\", \"HourValue\"], inplace=True)\n",
    "    \n",
    "    return df\n",
    "\n",
    "# Example usage:\n",
    "df = convert_and_categorize_datereported(df)\n",
    "df.head()\n"
   ]
  },
  {
   "cell_type": "code",
   "execution_count": 8,
   "id": "96815cd9",
   "metadata": {
    "execution": {
     "iopub.execute_input": "2025-04-10T01:00:30.433765Z",
     "iopub.status.busy": "2025-04-10T01:00:30.433339Z",
     "iopub.status.idle": "2025-04-10T01:00:30.458959Z",
     "shell.execute_reply": "2025-04-10T01:00:30.458422Z"
    },
    "papermill": {
     "duration": 0.033358,
     "end_time": "2025-04-10T01:00:30.460067",
     "exception": false,
     "start_time": "2025-04-10T01:00:30.426709",
     "status": "completed"
    },
    "tags": []
   },
   "outputs": [
    {
     "name": "stdout",
     "output_type": "stream",
     "text": [
      "<class 'pandas.core.frame.DataFrame'>\n",
      "RangeIndex: 25127 entries, 0 to 25126\n",
      "Data columns (total 15 columns):\n",
      " #   Column            Non-Null Count  Dtype         \n",
      "---  ------            --------------  -----         \n",
      " 0   RecordID          25127 non-null  int64         \n",
      " 1   Offense           25127 non-null  object        \n",
      " 2   IncidentID        25127 non-null  object        \n",
      " 3   BlockNumber       25127 non-null  object        \n",
      " 4   StreetName        25127 non-null  object        \n",
      " 5   Agency            25127 non-null  object        \n",
      " 6   HourReported      25127 non-null  object        \n",
      " 7   ReportingOfficer  25110 non-null  object        \n",
      " 8   Date              25127 non-null  datetime64[ns]\n",
      " 9   DateString        25127 non-null  object        \n",
      " 10  DayOfWeek         25127 non-null  object        \n",
      " 11  Weekend           25127 non-null  bool          \n",
      " 12  Season            25127 non-null  object        \n",
      " 13  HourAMPM          25127 non-null  object        \n",
      " 14  TimeOfDay         25127 non-null  object        \n",
      "dtypes: bool(1), datetime64[ns](1), int64(1), object(12)\n",
      "memory usage: 2.7+ MB\n"
     ]
    }
   ],
   "source": [
    "df.info()"
   ]
  },
  {
   "cell_type": "markdown",
   "id": "6bb48b62",
   "metadata": {
    "papermill": {
     "duration": 0.005962,
     "end_time": "2025-04-10T01:00:30.472091",
     "exception": false,
     "start_time": "2025-04-10T01:00:30.466129",
     "status": "completed"
    },
    "tags": []
   },
   "source": [
    "### Coordinates"
   ]
  },
  {
   "cell_type": "code",
   "execution_count": 9,
   "id": "ccd54617",
   "metadata": {
    "execution": {
     "iopub.execute_input": "2025-04-10T01:00:30.485065Z",
     "iopub.status.busy": "2025-04-10T01:00:30.484529Z",
     "iopub.status.idle": "2025-04-10T01:00:31.161708Z",
     "shell.execute_reply": "2025-04-10T01:00:31.161139Z"
    },
    "papermill": {
     "duration": 0.684861,
     "end_time": "2025-04-10T01:00:31.162833",
     "exception": false,
     "start_time": "2025-04-10T01:00:30.477972",
     "status": "completed"
    },
    "tags": []
   },
   "outputs": [
    {
     "name": "stdout",
     "output_type": "stream",
     "text": [
      "Loaded geocode cache.\n"
     ]
    },
    {
     "name": "stdout",
     "output_type": "stream",
     "text": [
      "Geocoded  E SOUTH ST / 6TH ST SE: 38.0225266, -78.4825592\n"
     ]
    },
    {
     "name": "stdout",
     "output_type": "stream",
     "text": [
      "Geocoded 1100 LEONARD ST, 1: 38.0232777, -78.47219740000001\n"
     ]
    },
    {
     "name": "stdout",
     "output_type": "stream",
     "text": [
      "Geocoded  E HIGH ST / LONG ST: 38.0350347, -78.45942959999999\n"
     ]
    },
    {
     "name": "stdout",
     "output_type": "stream",
     "text": [
      "Geocoded 1900 EAST MARKET: 38.02163410000001, -78.4563391\n",
      "Geocode cache updated and saved.\n"
     ]
    },
    {
     "data": {
      "text/html": [
       "<div>\n",
       "<style scoped>\n",
       "    .dataframe tbody tr th:only-of-type {\n",
       "        vertical-align: middle;\n",
       "    }\n",
       "\n",
       "    .dataframe tbody tr th {\n",
       "        vertical-align: top;\n",
       "    }\n",
       "\n",
       "    .dataframe thead th {\n",
       "        text-align: right;\n",
       "    }\n",
       "</style>\n",
       "<table border=\"1\" class=\"dataframe\">\n",
       "  <thead>\n",
       "    <tr style=\"text-align: right;\">\n",
       "      <th></th>\n",
       "      <th>RecordID</th>\n",
       "      <th>Offense</th>\n",
       "      <th>IncidentID</th>\n",
       "      <th>BlockNumber</th>\n",
       "      <th>StreetName</th>\n",
       "      <th>Agency</th>\n",
       "      <th>HourReported</th>\n",
       "      <th>ReportingOfficer</th>\n",
       "      <th>Date</th>\n",
       "      <th>DateString</th>\n",
       "      <th>DayOfWeek</th>\n",
       "      <th>Weekend</th>\n",
       "      <th>Season</th>\n",
       "      <th>HourAMPM</th>\n",
       "      <th>TimeOfDay</th>\n",
       "      <th>FullStreet</th>\n",
       "      <th>lat</th>\n",
       "      <th>lon</th>\n",
       "    </tr>\n",
       "  </thead>\n",
       "  <tbody>\n",
       "    <tr>\n",
       "      <th>0</th>\n",
       "      <td>1</td>\n",
       "      <td>Fraud-welfare</td>\n",
       "      <td>202500011191</td>\n",
       "      <td>1600</td>\n",
       "      <td>MERIDIAN ST</td>\n",
       "      <td>CPD</td>\n",
       "      <td>1707</td>\n",
       "      <td>Benbow, Lauren</td>\n",
       "      <td>2025-04-07 17:07:43</td>\n",
       "      <td>2025-04-07 05:07:43 PM</td>\n",
       "      <td>Monday</td>\n",
       "      <td>False</td>\n",
       "      <td>Spring</td>\n",
       "      <td>05:07 PM</td>\n",
       "      <td>Evening</td>\n",
       "      <td>1600 MERIDIAN ST</td>\n",
       "      <td>38.015215</td>\n",
       "      <td>-78.481585</td>\n",
       "    </tr>\n",
       "    <tr>\n",
       "      <th>1</th>\n",
       "      <td>2</td>\n",
       "      <td>Assault Simple</td>\n",
       "      <td>202500011189</td>\n",
       "      <td>800</td>\n",
       "      <td>HARDY DR</td>\n",
       "      <td>CPD</td>\n",
       "      <td>1707</td>\n",
       "      <td>Curry, Brian</td>\n",
       "      <td>2025-04-07 17:07:29</td>\n",
       "      <td>2025-04-07 05:07:29 PM</td>\n",
       "      <td>Monday</td>\n",
       "      <td>False</td>\n",
       "      <td>Spring</td>\n",
       "      <td>05:07 PM</td>\n",
       "      <td>Evening</td>\n",
       "      <td>800 HARDY DR</td>\n",
       "      <td>38.033239</td>\n",
       "      <td>-78.490398</td>\n",
       "    </tr>\n",
       "    <tr>\n",
       "      <th>2</th>\n",
       "      <td>3</td>\n",
       "      <td>Larceny - All Other</td>\n",
       "      <td>202500011194</td>\n",
       "      <td>1000</td>\n",
       "      <td>PRESTON AVE, A</td>\n",
       "      <td>CPD</td>\n",
       "      <td>1617</td>\n",
       "      <td>Bland, Johnnà</td>\n",
       "      <td>2025-04-07 16:17:15</td>\n",
       "      <td>2025-04-07 04:17:15 PM</td>\n",
       "      <td>Monday</td>\n",
       "      <td>False</td>\n",
       "      <td>Spring</td>\n",
       "      <td>04:17 PM</td>\n",
       "      <td>Afternoon</td>\n",
       "      <td>1000 PRESTON AVE, A</td>\n",
       "      <td>38.039264</td>\n",
       "      <td>-78.491428</td>\n",
       "    </tr>\n",
       "    <tr>\n",
       "      <th>3</th>\n",
       "      <td>4</td>\n",
       "      <td>Larceny - All Other</td>\n",
       "      <td>202500011173</td>\n",
       "      <td></td>\n",
       "      <td>E SOUTH ST / 6TH ST SE</td>\n",
       "      <td>CPD</td>\n",
       "      <td>1451</td>\n",
       "      <td>Schwartz, Honora</td>\n",
       "      <td>2025-04-07 14:51:51</td>\n",
       "      <td>2025-04-07 02:51:51 PM</td>\n",
       "      <td>Monday</td>\n",
       "      <td>False</td>\n",
       "      <td>Spring</td>\n",
       "      <td>02:51 PM</td>\n",
       "      <td>Afternoon</td>\n",
       "      <td>E SOUTH ST / 6TH ST SE</td>\n",
       "      <td>38.022527</td>\n",
       "      <td>-78.482559</td>\n",
       "    </tr>\n",
       "    <tr>\n",
       "      <th>4</th>\n",
       "      <td>5</td>\n",
       "      <td>Larceny - From Motor Vehicle</td>\n",
       "      <td>202500011161</td>\n",
       "      <td>800</td>\n",
       "      <td>WARD AVE</td>\n",
       "      <td>CPD</td>\n",
       "      <td>1331</td>\n",
       "      <td>Carrasco, Julio</td>\n",
       "      <td>2025-04-07 13:31:12</td>\n",
       "      <td>2025-04-07 01:31:12 PM</td>\n",
       "      <td>Monday</td>\n",
       "      <td>False</td>\n",
       "      <td>Spring</td>\n",
       "      <td>01:31 PM</td>\n",
       "      <td>Afternoon</td>\n",
       "      <td>800 WARD AVE</td>\n",
       "      <td>38.033078</td>\n",
       "      <td>-78.463310</td>\n",
       "    </tr>\n",
       "  </tbody>\n",
       "</table>\n",
       "</div>"
      ],
      "text/plain": [
       "   RecordID                       Offense    IncidentID BlockNumber  \\\n",
       "0         1                 Fraud-welfare  202500011191        1600   \n",
       "1         2                Assault Simple  202500011189         800   \n",
       "2         3           Larceny - All Other  202500011194        1000   \n",
       "3         4           Larceny - All Other  202500011173               \n",
       "4         5  Larceny - From Motor Vehicle  202500011161         800   \n",
       "\n",
       "               StreetName Agency HourReported  ReportingOfficer  \\\n",
       "0             MERIDIAN ST    CPD         1707    Benbow, Lauren   \n",
       "1                HARDY DR    CPD         1707      Curry, Brian   \n",
       "2          PRESTON AVE, A    CPD         1617     Bland, Johnnà   \n",
       "3  E SOUTH ST / 6TH ST SE    CPD         1451  Schwartz, Honora   \n",
       "4                WARD AVE    CPD         1331   Carrasco, Julio   \n",
       "\n",
       "                 Date              DateString DayOfWeek  Weekend  Season  \\\n",
       "0 2025-04-07 17:07:43  2025-04-07 05:07:43 PM    Monday    False  Spring   \n",
       "1 2025-04-07 17:07:29  2025-04-07 05:07:29 PM    Monday    False  Spring   \n",
       "2 2025-04-07 16:17:15  2025-04-07 04:17:15 PM    Monday    False  Spring   \n",
       "3 2025-04-07 14:51:51  2025-04-07 02:51:51 PM    Monday    False  Spring   \n",
       "4 2025-04-07 13:31:12  2025-04-07 01:31:12 PM    Monday    False  Spring   \n",
       "\n",
       "   HourAMPM  TimeOfDay               FullStreet        lat        lon  \n",
       "0  05:07 PM    Evening         1600 MERIDIAN ST  38.015215 -78.481585  \n",
       "1  05:07 PM    Evening             800 HARDY DR  38.033239 -78.490398  \n",
       "2  04:17 PM  Afternoon      1000 PRESTON AVE, A  38.039264 -78.491428  \n",
       "3  02:51 PM  Afternoon   E SOUTH ST / 6TH ST SE  38.022527 -78.482559  \n",
       "4  01:31 PM  Afternoon             800 WARD AVE  38.033078 -78.463310  "
      ]
     },
     "execution_count": 9,
     "metadata": {},
     "output_type": "execute_result"
    }
   ],
   "source": [
    "# Combine BlockNumber and StreetName into a full address string\n",
    "df['FullStreet'] = df['BlockNumber'].astype(str) + \" \" + df['StreetName']\n",
    "\n",
    "# --- Step 1: Setup the Google Maps Client and Cache ---\n",
    "gmaps = googlemaps.Client(key=GOOGLE_API_KEY)\n",
    "\n",
    "# Try to load cached geocoding results if available.\n",
    "try:\n",
    "    with open(\"geocode_cache_google.pkl\", \"rb\") as f:\n",
    "        street_coords = pickle.load(f)\n",
    "    print(\"Loaded geocode cache.\")\n",
    "except FileNotFoundError:\n",
    "    street_coords = {}\n",
    "    print(\"No cache found; starting fresh.\")\n",
    "\n",
    "def geocode_address(address):\n",
    "    try:\n",
    "        # Append city and state to help geocoding\n",
    "        result = gmaps.geocode(f\"{address}, Charlottesville, VA\")\n",
    "        if result:\n",
    "            lat = result[0]['geometry']['location']['lat']\n",
    "            lon = result[0]['geometry']['location']['lng']\n",
    "            return lat, lon\n",
    "    except Exception as e:\n",
    "        print(f\"Error geocoding {address}: {e}\")\n",
    "    return None, None\n",
    "\n",
    "# --- Step 2: Geocode Only New Addresses ---\n",
    "unique_addresses = df['FullStreet'].unique()\n",
    "for address in unique_addresses:\n",
    "    if address not in street_coords:\n",
    "        lat, lon = geocode_address(address)\n",
    "        street_coords[address] = (lat, lon)\n",
    "        print(f\"Geocoded {address}: {lat}, {lon}\")\n",
    "\n",
    "# Save the updated cache to disk.\n",
    "with open(\"geocode_cache_google.pkl\", \"wb\") as f:\n",
    "    pickle.dump(street_coords, f)\n",
    "    print(\"Geocode cache updated and saved.\")\n",
    "\n",
    "# --- Step 3: Map Coordinates Back to DataFrame ---\n",
    "df['lat'] = df['FullStreet'].map(lambda s: street_coords.get(s, (None, None))[0])\n",
    "df['lon'] = df['FullStreet'].map(lambda s: street_coords.get(s, (None, None))[1])\n",
    "\n",
    "df.head()"
   ]
  },
  {
   "cell_type": "markdown",
   "id": "d38befc8",
   "metadata": {
    "papermill": {
     "duration": 0.006404,
     "end_time": "2025-04-10T01:00:31.175943",
     "exception": false,
     "start_time": "2025-04-10T01:00:31.169539",
     "status": "completed"
    },
    "tags": []
   },
   "source": [
    "### Neighborhood"
   ]
  },
  {
   "cell_type": "code",
   "execution_count": 10,
   "id": "13751f44",
   "metadata": {
    "execution": {
     "iopub.execute_input": "2025-04-10T01:00:31.189794Z",
     "iopub.status.busy": "2025-04-10T01:00:31.189349Z",
     "iopub.status.idle": "2025-04-10T01:00:31.584276Z",
     "shell.execute_reply": "2025-04-10T01:00:31.583673Z"
    },
    "papermill": {
     "duration": 0.403099,
     "end_time": "2025-04-10T01:00:31.585368",
     "exception": false,
     "start_time": "2025-04-10T01:00:31.182269",
     "status": "completed"
    },
    "tags": []
   },
   "outputs": [
    {
     "name": "stdout",
     "output_type": "stream",
     "text": [
      "Loaded neighborhood cache.\n"
     ]
    },
    {
     "data": {
      "text/html": [
       "<div>\n",
       "<style scoped>\n",
       "    .dataframe tbody tr th:only-of-type {\n",
       "        vertical-align: middle;\n",
       "    }\n",
       "\n",
       "    .dataframe tbody tr th {\n",
       "        vertical-align: top;\n",
       "    }\n",
       "\n",
       "    .dataframe thead th {\n",
       "        text-align: right;\n",
       "    }\n",
       "</style>\n",
       "<table border=\"1\" class=\"dataframe\">\n",
       "  <thead>\n",
       "    <tr style=\"text-align: right;\">\n",
       "      <th></th>\n",
       "      <th>RecordID</th>\n",
       "      <th>Offense</th>\n",
       "      <th>IncidentID</th>\n",
       "      <th>BlockNumber</th>\n",
       "      <th>StreetName</th>\n",
       "      <th>Agency</th>\n",
       "      <th>HourReported</th>\n",
       "      <th>ReportingOfficer</th>\n",
       "      <th>Date</th>\n",
       "      <th>DateString</th>\n",
       "      <th>DayOfWeek</th>\n",
       "      <th>Weekend</th>\n",
       "      <th>Season</th>\n",
       "      <th>HourAMPM</th>\n",
       "      <th>TimeOfDay</th>\n",
       "      <th>FullStreet</th>\n",
       "      <th>lat</th>\n",
       "      <th>lon</th>\n",
       "      <th>neighborhood</th>\n",
       "    </tr>\n",
       "  </thead>\n",
       "  <tbody>\n",
       "    <tr>\n",
       "      <th>0</th>\n",
       "      <td>1</td>\n",
       "      <td>Fraud-welfare</td>\n",
       "      <td>202500011191</td>\n",
       "      <td>1600</td>\n",
       "      <td>MERIDIAN ST</td>\n",
       "      <td>CPD</td>\n",
       "      <td>1707</td>\n",
       "      <td>Benbow, Lauren</td>\n",
       "      <td>2025-04-07 17:07:43</td>\n",
       "      <td>2025-04-07 05:07:43 PM</td>\n",
       "      <td>Monday</td>\n",
       "      <td>False</td>\n",
       "      <td>Spring</td>\n",
       "      <td>05:07 PM</td>\n",
       "      <td>Evening</td>\n",
       "      <td>1600 MERIDIAN ST</td>\n",
       "      <td>38.015215</td>\n",
       "      <td>-78.481585</td>\n",
       "      <td>Belmont</td>\n",
       "    </tr>\n",
       "    <tr>\n",
       "      <th>1</th>\n",
       "      <td>2</td>\n",
       "      <td>Assault Simple</td>\n",
       "      <td>202500011189</td>\n",
       "      <td>800</td>\n",
       "      <td>HARDY DR</td>\n",
       "      <td>CPD</td>\n",
       "      <td>1707</td>\n",
       "      <td>Curry, Brian</td>\n",
       "      <td>2025-04-07 17:07:29</td>\n",
       "      <td>2025-04-07 05:07:29 PM</td>\n",
       "      <td>Monday</td>\n",
       "      <td>False</td>\n",
       "      <td>Spring</td>\n",
       "      <td>05:07 PM</td>\n",
       "      <td>Evening</td>\n",
       "      <td>800 HARDY DR</td>\n",
       "      <td>38.033239</td>\n",
       "      <td>-78.490398</td>\n",
       "      <td>10th &amp; Page</td>\n",
       "    </tr>\n",
       "    <tr>\n",
       "      <th>2</th>\n",
       "      <td>3</td>\n",
       "      <td>Larceny - All Other</td>\n",
       "      <td>202500011194</td>\n",
       "      <td>1000</td>\n",
       "      <td>PRESTON AVE, A</td>\n",
       "      <td>CPD</td>\n",
       "      <td>1617</td>\n",
       "      <td>Bland, Johnnà</td>\n",
       "      <td>2025-04-07 16:17:15</td>\n",
       "      <td>2025-04-07 04:17:15 PM</td>\n",
       "      <td>Monday</td>\n",
       "      <td>False</td>\n",
       "      <td>Spring</td>\n",
       "      <td>04:17 PM</td>\n",
       "      <td>Afternoon</td>\n",
       "      <td>1000 PRESTON AVE, A</td>\n",
       "      <td>38.039264</td>\n",
       "      <td>-78.491428</td>\n",
       "      <td>Venable</td>\n",
       "    </tr>\n",
       "    <tr>\n",
       "      <th>3</th>\n",
       "      <td>4</td>\n",
       "      <td>Larceny - All Other</td>\n",
       "      <td>202500011173</td>\n",
       "      <td></td>\n",
       "      <td>E SOUTH ST / 6TH ST SE</td>\n",
       "      <td>CPD</td>\n",
       "      <td>1451</td>\n",
       "      <td>Schwartz, Honora</td>\n",
       "      <td>2025-04-07 14:51:51</td>\n",
       "      <td>2025-04-07 02:51:51 PM</td>\n",
       "      <td>Monday</td>\n",
       "      <td>False</td>\n",
       "      <td>Spring</td>\n",
       "      <td>02:51 PM</td>\n",
       "      <td>Afternoon</td>\n",
       "      <td>E SOUTH ST / 6TH ST SE</td>\n",
       "      <td>38.022527</td>\n",
       "      <td>-78.482559</td>\n",
       "      <td>Ridge St.</td>\n",
       "    </tr>\n",
       "    <tr>\n",
       "      <th>4</th>\n",
       "      <td>5</td>\n",
       "      <td>Larceny - From Motor Vehicle</td>\n",
       "      <td>202500011161</td>\n",
       "      <td>800</td>\n",
       "      <td>WARD AVE</td>\n",
       "      <td>CPD</td>\n",
       "      <td>1331</td>\n",
       "      <td>Carrasco, Julio</td>\n",
       "      <td>2025-04-07 13:31:12</td>\n",
       "      <td>2025-04-07 01:31:12 PM</td>\n",
       "      <td>Monday</td>\n",
       "      <td>False</td>\n",
       "      <td>Spring</td>\n",
       "      <td>01:31 PM</td>\n",
       "      <td>Afternoon</td>\n",
       "      <td>800 WARD AVE</td>\n",
       "      <td>38.033078</td>\n",
       "      <td>-78.463310</td>\n",
       "      <td>Martha Jefferson</td>\n",
       "    </tr>\n",
       "  </tbody>\n",
       "</table>\n",
       "</div>"
      ],
      "text/plain": [
       "   RecordID                       Offense    IncidentID BlockNumber  \\\n",
       "0         1                 Fraud-welfare  202500011191        1600   \n",
       "1         2                Assault Simple  202500011189         800   \n",
       "2         3           Larceny - All Other  202500011194        1000   \n",
       "3         4           Larceny - All Other  202500011173               \n",
       "4         5  Larceny - From Motor Vehicle  202500011161         800   \n",
       "\n",
       "               StreetName Agency HourReported  ReportingOfficer  \\\n",
       "0             MERIDIAN ST    CPD         1707    Benbow, Lauren   \n",
       "1                HARDY DR    CPD         1707      Curry, Brian   \n",
       "2          PRESTON AVE, A    CPD         1617     Bland, Johnnà   \n",
       "3  E SOUTH ST / 6TH ST SE    CPD         1451  Schwartz, Honora   \n",
       "4                WARD AVE    CPD         1331   Carrasco, Julio   \n",
       "\n",
       "                 Date              DateString DayOfWeek  Weekend  Season  \\\n",
       "0 2025-04-07 17:07:43  2025-04-07 05:07:43 PM    Monday    False  Spring   \n",
       "1 2025-04-07 17:07:29  2025-04-07 05:07:29 PM    Monday    False  Spring   \n",
       "2 2025-04-07 16:17:15  2025-04-07 04:17:15 PM    Monday    False  Spring   \n",
       "3 2025-04-07 14:51:51  2025-04-07 02:51:51 PM    Monday    False  Spring   \n",
       "4 2025-04-07 13:31:12  2025-04-07 01:31:12 PM    Monday    False  Spring   \n",
       "\n",
       "   HourAMPM  TimeOfDay               FullStreet        lat        lon  \\\n",
       "0  05:07 PM    Evening         1600 MERIDIAN ST  38.015215 -78.481585   \n",
       "1  05:07 PM    Evening             800 HARDY DR  38.033239 -78.490398   \n",
       "2  04:17 PM  Afternoon      1000 PRESTON AVE, A  38.039264 -78.491428   \n",
       "3  02:51 PM  Afternoon   E SOUTH ST / 6TH ST SE  38.022527 -78.482559   \n",
       "4  01:31 PM  Afternoon             800 WARD AVE  38.033078 -78.463310   \n",
       "\n",
       "       neighborhood  \n",
       "0           Belmont  \n",
       "1       10th & Page  \n",
       "2           Venable  \n",
       "3         Ridge St.  \n",
       "4  Martha Jefferson  "
      ]
     },
     "execution_count": 10,
     "metadata": {},
     "output_type": "execute_result"
    }
   ],
   "source": [
    "# Initialize the Google Maps client.\n",
    "gmaps = googlemaps.Client(key=GOOGLE_API_KEY)\n",
    "\n",
    "# Try to load a persistent neighborhood cache if available.\n",
    "try:\n",
    "    with open(\"neighborhood_cache.pkl\", \"rb\") as f:\n",
    "        neighborhood_cache = pickle.load(f)\n",
    "    print(\"Loaded neighborhood cache.\")\n",
    "except FileNotFoundError:\n",
    "    neighborhood_cache = {}\n",
    "    print(\"No neighborhood cache found; starting fresh.\")\n",
    "\n",
    "def get_neighborhood(lat, lon):\n",
    "    \"\"\"\n",
    "    Reverse geocodes a latitude and longitude to retrieve the neighborhood.\n",
    "    Caches results to speed up subsequent lookups.\n",
    "    \"\"\"\n",
    "    key = (lat, lon)\n",
    "    if key in neighborhood_cache:\n",
    "        return neighborhood_cache[key]\n",
    "    \n",
    "    try:\n",
    "        result = gmaps.reverse_geocode((lat, lon))\n",
    "        if result:\n",
    "            # Look for the 'neighborhood' component in the first result.\n",
    "            for component in result[0]['address_components']:\n",
    "                if 'neighborhood' in component['types']:\n",
    "                    neighborhood = component['long_name']\n",
    "                    neighborhood_cache[key] = neighborhood\n",
    "                    return neighborhood\n",
    "            # If no neighborhood is found, return \"N/A\"\n",
    "            neighborhood_cache[key] = \"N/A\"\n",
    "            return \"N/A\"\n",
    "    except Exception as e:\n",
    "        print(f\"Error getting neighborhood for {lat}, {lon}: {e}\")\n",
    "        return \"N/A\"\n",
    "    \n",
    "    # Pause to respect usage limits.\n",
    "    time.sleep(1)\n",
    "\n",
    "# Example usage: Apply to your DataFrame 'df' that already has 'lat' and 'lon' columns.\n",
    "df['neighborhood'] = df.apply(lambda row: get_neighborhood(row['lat'], row['lon']), axis=1)\n",
    "\n",
    "# Save the updated neighborhood cache.\n",
    "with open(\"neighborhood_cache.pkl\", \"wb\") as f:\n",
    "    pickle.dump(neighborhood_cache, f)\n",
    "\n",
    "df.head()\n"
   ]
  },
  {
   "cell_type": "markdown",
   "id": "80679570",
   "metadata": {
    "papermill": {
     "duration": 0.0067,
     "end_time": "2025-04-10T01:00:31.599084",
     "exception": false,
     "start_time": "2025-04-10T01:00:31.592384",
     "status": "completed"
    },
    "tags": []
   },
   "source": [
    "### Zip"
   ]
  },
  {
   "cell_type": "code",
   "execution_count": 11,
   "id": "b9bb4cd5",
   "metadata": {
    "execution": {
     "iopub.execute_input": "2025-04-10T01:00:31.613440Z",
     "iopub.status.busy": "2025-04-10T01:00:31.613077Z",
     "iopub.status.idle": "2025-04-10T01:00:31.850310Z",
     "shell.execute_reply": "2025-04-10T01:00:31.849619Z"
    },
    "papermill": {
     "duration": 0.245805,
     "end_time": "2025-04-10T01:00:31.851444",
     "exception": false,
     "start_time": "2025-04-10T01:00:31.605639",
     "status": "completed"
    },
    "tags": []
   },
   "outputs": [
    {
     "name": "stdout",
     "output_type": "stream",
     "text": [
      "Loaded zip cache.\n"
     ]
    },
    {
     "data": {
      "text/html": [
       "<div>\n",
       "<style scoped>\n",
       "    .dataframe tbody tr th:only-of-type {\n",
       "        vertical-align: middle;\n",
       "    }\n",
       "\n",
       "    .dataframe tbody tr th {\n",
       "        vertical-align: top;\n",
       "    }\n",
       "\n",
       "    .dataframe thead th {\n",
       "        text-align: right;\n",
       "    }\n",
       "</style>\n",
       "<table border=\"1\" class=\"dataframe\">\n",
       "  <thead>\n",
       "    <tr style=\"text-align: right;\">\n",
       "      <th></th>\n",
       "      <th>RecordID</th>\n",
       "      <th>Offense</th>\n",
       "      <th>IncidentID</th>\n",
       "      <th>BlockNumber</th>\n",
       "      <th>StreetName</th>\n",
       "      <th>Agency</th>\n",
       "      <th>HourReported</th>\n",
       "      <th>ReportingOfficer</th>\n",
       "      <th>Date</th>\n",
       "      <th>DateString</th>\n",
       "      <th>DayOfWeek</th>\n",
       "      <th>Weekend</th>\n",
       "      <th>Season</th>\n",
       "      <th>HourAMPM</th>\n",
       "      <th>TimeOfDay</th>\n",
       "      <th>FullStreet</th>\n",
       "      <th>lat</th>\n",
       "      <th>lon</th>\n",
       "      <th>neighborhood</th>\n",
       "      <th>zip</th>\n",
       "    </tr>\n",
       "  </thead>\n",
       "  <tbody>\n",
       "    <tr>\n",
       "      <th>0</th>\n",
       "      <td>1</td>\n",
       "      <td>Fraud-welfare</td>\n",
       "      <td>202500011191</td>\n",
       "      <td>1600</td>\n",
       "      <td>MERIDIAN ST</td>\n",
       "      <td>CPD</td>\n",
       "      <td>1707</td>\n",
       "      <td>Benbow, Lauren</td>\n",
       "      <td>2025-04-07 17:07:43</td>\n",
       "      <td>2025-04-07 05:07:43 PM</td>\n",
       "      <td>Monday</td>\n",
       "      <td>False</td>\n",
       "      <td>Spring</td>\n",
       "      <td>05:07 PM</td>\n",
       "      <td>Evening</td>\n",
       "      <td>1600 MERIDIAN ST</td>\n",
       "      <td>38.015215</td>\n",
       "      <td>-78.481585</td>\n",
       "      <td>Belmont</td>\n",
       "      <td>22903</td>\n",
       "    </tr>\n",
       "    <tr>\n",
       "      <th>1</th>\n",
       "      <td>2</td>\n",
       "      <td>Assault Simple</td>\n",
       "      <td>202500011189</td>\n",
       "      <td>800</td>\n",
       "      <td>HARDY DR</td>\n",
       "      <td>CPD</td>\n",
       "      <td>1707</td>\n",
       "      <td>Curry, Brian</td>\n",
       "      <td>2025-04-07 17:07:29</td>\n",
       "      <td>2025-04-07 05:07:29 PM</td>\n",
       "      <td>Monday</td>\n",
       "      <td>False</td>\n",
       "      <td>Spring</td>\n",
       "      <td>05:07 PM</td>\n",
       "      <td>Evening</td>\n",
       "      <td>800 HARDY DR</td>\n",
       "      <td>38.033239</td>\n",
       "      <td>-78.490398</td>\n",
       "      <td>10th &amp; Page</td>\n",
       "      <td>22903</td>\n",
       "    </tr>\n",
       "    <tr>\n",
       "      <th>2</th>\n",
       "      <td>3</td>\n",
       "      <td>Larceny - All Other</td>\n",
       "      <td>202500011194</td>\n",
       "      <td>1000</td>\n",
       "      <td>PRESTON AVE, A</td>\n",
       "      <td>CPD</td>\n",
       "      <td>1617</td>\n",
       "      <td>Bland, Johnnà</td>\n",
       "      <td>2025-04-07 16:17:15</td>\n",
       "      <td>2025-04-07 04:17:15 PM</td>\n",
       "      <td>Monday</td>\n",
       "      <td>False</td>\n",
       "      <td>Spring</td>\n",
       "      <td>04:17 PM</td>\n",
       "      <td>Afternoon</td>\n",
       "      <td>1000 PRESTON AVE, A</td>\n",
       "      <td>38.039264</td>\n",
       "      <td>-78.491428</td>\n",
       "      <td>Venable</td>\n",
       "      <td>22908</td>\n",
       "    </tr>\n",
       "    <tr>\n",
       "      <th>3</th>\n",
       "      <td>4</td>\n",
       "      <td>Larceny - All Other</td>\n",
       "      <td>202500011173</td>\n",
       "      <td></td>\n",
       "      <td>E SOUTH ST / 6TH ST SE</td>\n",
       "      <td>CPD</td>\n",
       "      <td>1451</td>\n",
       "      <td>Schwartz, Honora</td>\n",
       "      <td>2025-04-07 14:51:51</td>\n",
       "      <td>2025-04-07 02:51:51 PM</td>\n",
       "      <td>Monday</td>\n",
       "      <td>False</td>\n",
       "      <td>Spring</td>\n",
       "      <td>02:51 PM</td>\n",
       "      <td>Afternoon</td>\n",
       "      <td>E SOUTH ST / 6TH ST SE</td>\n",
       "      <td>38.022527</td>\n",
       "      <td>-78.482559</td>\n",
       "      <td>Ridge St.</td>\n",
       "      <td>22903</td>\n",
       "    </tr>\n",
       "    <tr>\n",
       "      <th>4</th>\n",
       "      <td>5</td>\n",
       "      <td>Larceny - From Motor Vehicle</td>\n",
       "      <td>202500011161</td>\n",
       "      <td>800</td>\n",
       "      <td>WARD AVE</td>\n",
       "      <td>CPD</td>\n",
       "      <td>1331</td>\n",
       "      <td>Carrasco, Julio</td>\n",
       "      <td>2025-04-07 13:31:12</td>\n",
       "      <td>2025-04-07 01:31:12 PM</td>\n",
       "      <td>Monday</td>\n",
       "      <td>False</td>\n",
       "      <td>Spring</td>\n",
       "      <td>01:31 PM</td>\n",
       "      <td>Afternoon</td>\n",
       "      <td>800 WARD AVE</td>\n",
       "      <td>38.033078</td>\n",
       "      <td>-78.463310</td>\n",
       "      <td>Martha Jefferson</td>\n",
       "      <td>22902</td>\n",
       "    </tr>\n",
       "  </tbody>\n",
       "</table>\n",
       "</div>"
      ],
      "text/plain": [
       "   RecordID                       Offense    IncidentID BlockNumber  \\\n",
       "0         1                 Fraud-welfare  202500011191        1600   \n",
       "1         2                Assault Simple  202500011189         800   \n",
       "2         3           Larceny - All Other  202500011194        1000   \n",
       "3         4           Larceny - All Other  202500011173               \n",
       "4         5  Larceny - From Motor Vehicle  202500011161         800   \n",
       "\n",
       "               StreetName Agency HourReported  ReportingOfficer  \\\n",
       "0             MERIDIAN ST    CPD         1707    Benbow, Lauren   \n",
       "1                HARDY DR    CPD         1707      Curry, Brian   \n",
       "2          PRESTON AVE, A    CPD         1617     Bland, Johnnà   \n",
       "3  E SOUTH ST / 6TH ST SE    CPD         1451  Schwartz, Honora   \n",
       "4                WARD AVE    CPD         1331   Carrasco, Julio   \n",
       "\n",
       "                 Date              DateString DayOfWeek  Weekend  Season  \\\n",
       "0 2025-04-07 17:07:43  2025-04-07 05:07:43 PM    Monday    False  Spring   \n",
       "1 2025-04-07 17:07:29  2025-04-07 05:07:29 PM    Monday    False  Spring   \n",
       "2 2025-04-07 16:17:15  2025-04-07 04:17:15 PM    Monday    False  Spring   \n",
       "3 2025-04-07 14:51:51  2025-04-07 02:51:51 PM    Monday    False  Spring   \n",
       "4 2025-04-07 13:31:12  2025-04-07 01:31:12 PM    Monday    False  Spring   \n",
       "\n",
       "   HourAMPM  TimeOfDay               FullStreet        lat        lon  \\\n",
       "0  05:07 PM    Evening         1600 MERIDIAN ST  38.015215 -78.481585   \n",
       "1  05:07 PM    Evening             800 HARDY DR  38.033239 -78.490398   \n",
       "2  04:17 PM  Afternoon      1000 PRESTON AVE, A  38.039264 -78.491428   \n",
       "3  02:51 PM  Afternoon   E SOUTH ST / 6TH ST SE  38.022527 -78.482559   \n",
       "4  01:31 PM  Afternoon             800 WARD AVE  38.033078 -78.463310   \n",
       "\n",
       "       neighborhood    zip  \n",
       "0           Belmont  22903  \n",
       "1       10th & Page  22903  \n",
       "2           Venable  22908  \n",
       "3         Ridge St.  22903  \n",
       "4  Martha Jefferson  22902  "
      ]
     },
     "execution_count": 11,
     "metadata": {},
     "output_type": "execute_result"
    }
   ],
   "source": [
    "# Initialize the geocoder.\n",
    "geolocator = Nominatim(user_agent=\"zip_lookup\")\n",
    "\n",
    "# Try to load a persistent ZIP cache if available.\n",
    "try:\n",
    "    with open(\"zip_cache.pkl\", \"rb\") as f:\n",
    "        zip_cache = pickle.load(f)\n",
    "    print(\"Loaded zip cache.\")\n",
    "except FileNotFoundError:\n",
    "    zip_cache = {}\n",
    "    print(\"No zip cache found; starting fresh.\")\n",
    "\n",
    "def get_zip(lat, lon):\n",
    "    \"\"\"\n",
    "    Reverse geocodes a latitude and longitude to retrieve the ZIP code.\n",
    "    Caches results to speed up subsequent lookups.\n",
    "    \"\"\"\n",
    "    key = (lat, lon)\n",
    "    if key in zip_cache:\n",
    "        return zip_cache[key]\n",
    "    \n",
    "    try:\n",
    "        location = geolocator.reverse((lat, lon), exactly_one=True, timeout=10)\n",
    "        address = location.raw.get('address', {})\n",
    "        postal_code = address.get('postcode', \"N/A\")\n",
    "    except Exception as e:\n",
    "        print(f\"Error getting ZIP for {lat}, {lon}: {e}\")\n",
    "        postal_code = \"N/A\"\n",
    "    \n",
    "    zip_cache[key] = postal_code\n",
    "    # Pause to respect the usage policy.\n",
    "    time.sleep(1)\n",
    "    return postal_code\n",
    "\n",
    "# Apply the function to each row in the DataFrame.\n",
    "df['zip'] = df.apply(lambda row: get_zip(row['lat'], row['lon']), axis=1)\n",
    "\n",
    "# Save the updated ZIP cache.\n",
    "with open(\"zip_cache.pkl\", \"wb\") as f:\n",
    "    pickle.dump(zip_cache, f)\n",
    "\n",
    "df.head()\n"
   ]
  },
  {
   "cell_type": "code",
   "execution_count": 12,
   "id": "2d3a0b9d",
   "metadata": {
    "execution": {
     "iopub.execute_input": "2025-04-10T01:00:31.866878Z",
     "iopub.status.busy": "2025-04-10T01:00:31.866414Z",
     "iopub.status.idle": "2025-04-10T01:00:31.892583Z",
     "shell.execute_reply": "2025-04-10T01:00:31.891950Z"
    },
    "papermill": {
     "duration": 0.034964,
     "end_time": "2025-04-10T01:00:31.893679",
     "exception": false,
     "start_time": "2025-04-10T01:00:31.858715",
     "status": "completed"
    },
    "tags": []
   },
   "outputs": [
    {
     "name": "stdout",
     "output_type": "stream",
     "text": [
      "                  MissingCount  MissingPercentage\n",
      "RecordID                     0               0.00\n",
      "Offense                      0               0.00\n",
      "IncidentID                   0               0.00\n",
      "BlockNumber                  0               0.00\n",
      "StreetName                   0               0.00\n",
      "Agency                       0               0.00\n",
      "HourReported                 0               0.00\n",
      "ReportingOfficer            17               0.07\n",
      "Date                         0               0.00\n",
      "DateString                   0               0.00\n",
      "DayOfWeek                    0               0.00\n",
      "Weekend                      0               0.00\n",
      "Season                       0               0.00\n",
      "HourAMPM                     0               0.00\n",
      "TimeOfDay                    0               0.00\n",
      "FullStreet                   0               0.00\n",
      "lat                          0               0.00\n",
      "lon                          0               0.00\n",
      "neighborhood                 0               0.00\n",
      "zip                          0               0.00\n"
     ]
    }
   ],
   "source": [
    "missing_info = missing_percentage(df)\n",
    "print(missing_info)\n"
   ]
  },
  {
   "cell_type": "code",
   "execution_count": 13,
   "id": "92cf835c",
   "metadata": {
    "execution": {
     "iopub.execute_input": "2025-04-10T01:00:31.908916Z",
     "iopub.status.busy": "2025-04-10T01:00:31.908655Z",
     "iopub.status.idle": "2025-04-10T01:00:31.934580Z",
     "shell.execute_reply": "2025-04-10T01:00:31.934041Z"
    },
    "papermill": {
     "duration": 0.034572,
     "end_time": "2025-04-10T01:00:31.935545",
     "exception": false,
     "start_time": "2025-04-10T01:00:31.900973",
     "status": "completed"
    },
    "tags": []
   },
   "outputs": [
    {
     "name": "stdout",
     "output_type": "stream",
     "text": [
      "<class 'pandas.core.frame.DataFrame'>\n",
      "RangeIndex: 25127 entries, 0 to 25126\n",
      "Data columns (total 20 columns):\n",
      " #   Column            Non-Null Count  Dtype         \n",
      "---  ------            --------------  -----         \n",
      " 0   RecordID          25127 non-null  int64         \n",
      " 1   Offense           25127 non-null  object        \n",
      " 2   IncidentID        25127 non-null  object        \n",
      " 3   BlockNumber       25127 non-null  object        \n",
      " 4   StreetName        25127 non-null  object        \n",
      " 5   Agency            25127 non-null  object        \n",
      " 6   HourReported      25127 non-null  object        \n",
      " 7   ReportingOfficer  25110 non-null  object        \n",
      " 8   Date              25127 non-null  datetime64[ns]\n",
      " 9   DateString        25127 non-null  object        \n",
      " 10  DayOfWeek         25127 non-null  object        \n",
      " 11  Weekend           25127 non-null  bool          \n",
      " 12  Season            25127 non-null  object        \n",
      " 13  HourAMPM          25127 non-null  object        \n",
      " 14  TimeOfDay         25127 non-null  object        \n",
      " 15  FullStreet        25127 non-null  object        \n",
      " 16  lat               25127 non-null  float64       \n",
      " 17  lon               25127 non-null  float64       \n",
      " 18  neighborhood      25127 non-null  object        \n",
      " 19  zip               25127 non-null  object        \n",
      "dtypes: bool(1), datetime64[ns](1), float64(2), int64(1), object(15)\n",
      "memory usage: 3.7+ MB\n"
     ]
    }
   ],
   "source": [
    "df.info()"
   ]
  },
  {
   "cell_type": "code",
   "execution_count": 14,
   "id": "f1121e26",
   "metadata": {
    "execution": {
     "iopub.execute_input": "2025-04-10T01:00:31.950788Z",
     "iopub.status.busy": "2025-04-10T01:00:31.950570Z",
     "iopub.status.idle": "2025-04-10T01:00:31.990055Z",
     "shell.execute_reply": "2025-04-10T01:00:31.989462Z"
    },
    "papermill": {
     "duration": 0.048202,
     "end_time": "2025-04-10T01:00:31.991080",
     "exception": false,
     "start_time": "2025-04-10T01:00:31.942878",
     "status": "completed"
    },
    "tags": []
   },
   "outputs": [
    {
     "data": {
      "text/html": [
       "<div>\n",
       "<style scoped>\n",
       "    .dataframe tbody tr th:only-of-type {\n",
       "        vertical-align: middle;\n",
       "    }\n",
       "\n",
       "    .dataframe tbody tr th {\n",
       "        vertical-align: top;\n",
       "    }\n",
       "\n",
       "    .dataframe thead th {\n",
       "        text-align: right;\n",
       "    }\n",
       "</style>\n",
       "<table border=\"1\" class=\"dataframe\">\n",
       "  <thead>\n",
       "    <tr style=\"text-align: right;\">\n",
       "      <th></th>\n",
       "      <th>RecordID</th>\n",
       "      <th>Offense</th>\n",
       "      <th>IncidentID</th>\n",
       "      <th>Agency</th>\n",
       "      <th>ReportingOfficer</th>\n",
       "      <th>Date</th>\n",
       "      <th>DayOfWeek</th>\n",
       "      <th>Weekend</th>\n",
       "      <th>Season</th>\n",
       "      <th>TimeOfDay</th>\n",
       "      <th>FullStreet</th>\n",
       "      <th>lat</th>\n",
       "      <th>lon</th>\n",
       "      <th>neighborhood</th>\n",
       "      <th>zip</th>\n",
       "    </tr>\n",
       "  </thead>\n",
       "  <tbody>\n",
       "    <tr>\n",
       "      <th>0</th>\n",
       "      <td>1</td>\n",
       "      <td>Fraud-welfare</td>\n",
       "      <td>202500011191</td>\n",
       "      <td>CPD</td>\n",
       "      <td>Benbow, Lauren</td>\n",
       "      <td>2025-04-07 17:07:43</td>\n",
       "      <td>Monday</td>\n",
       "      <td>False</td>\n",
       "      <td>Spring</td>\n",
       "      <td>Evening</td>\n",
       "      <td>1600 MERIDIAN ST</td>\n",
       "      <td>38.015215</td>\n",
       "      <td>-78.481585</td>\n",
       "      <td>Belmont</td>\n",
       "      <td>22903</td>\n",
       "    </tr>\n",
       "    <tr>\n",
       "      <th>1</th>\n",
       "      <td>2</td>\n",
       "      <td>Assault Simple</td>\n",
       "      <td>202500011189</td>\n",
       "      <td>CPD</td>\n",
       "      <td>Curry, Brian</td>\n",
       "      <td>2025-04-07 17:07:29</td>\n",
       "      <td>Monday</td>\n",
       "      <td>False</td>\n",
       "      <td>Spring</td>\n",
       "      <td>Evening</td>\n",
       "      <td>800 HARDY DR</td>\n",
       "      <td>38.033239</td>\n",
       "      <td>-78.490398</td>\n",
       "      <td>10th &amp; Page</td>\n",
       "      <td>22903</td>\n",
       "    </tr>\n",
       "    <tr>\n",
       "      <th>2</th>\n",
       "      <td>3</td>\n",
       "      <td>Larceny - All Other</td>\n",
       "      <td>202500011194</td>\n",
       "      <td>CPD</td>\n",
       "      <td>Bland, Johnnà</td>\n",
       "      <td>2025-04-07 16:17:15</td>\n",
       "      <td>Monday</td>\n",
       "      <td>False</td>\n",
       "      <td>Spring</td>\n",
       "      <td>Afternoon</td>\n",
       "      <td>1000 PRESTON AVE, A</td>\n",
       "      <td>38.039264</td>\n",
       "      <td>-78.491428</td>\n",
       "      <td>Venable</td>\n",
       "      <td>22908</td>\n",
       "    </tr>\n",
       "    <tr>\n",
       "      <th>3</th>\n",
       "      <td>4</td>\n",
       "      <td>Larceny - All Other</td>\n",
       "      <td>202500011173</td>\n",
       "      <td>CPD</td>\n",
       "      <td>Schwartz, Honora</td>\n",
       "      <td>2025-04-07 14:51:51</td>\n",
       "      <td>Monday</td>\n",
       "      <td>False</td>\n",
       "      <td>Spring</td>\n",
       "      <td>Afternoon</td>\n",
       "      <td>E SOUTH ST / 6TH ST SE</td>\n",
       "      <td>38.022527</td>\n",
       "      <td>-78.482559</td>\n",
       "      <td>Ridge St.</td>\n",
       "      <td>22903</td>\n",
       "    </tr>\n",
       "    <tr>\n",
       "      <th>4</th>\n",
       "      <td>5</td>\n",
       "      <td>Larceny - From Motor Vehicle</td>\n",
       "      <td>202500011161</td>\n",
       "      <td>CPD</td>\n",
       "      <td>Carrasco, Julio</td>\n",
       "      <td>2025-04-07 13:31:12</td>\n",
       "      <td>Monday</td>\n",
       "      <td>False</td>\n",
       "      <td>Spring</td>\n",
       "      <td>Afternoon</td>\n",
       "      <td>800 WARD AVE</td>\n",
       "      <td>38.033078</td>\n",
       "      <td>-78.463310</td>\n",
       "      <td>Martha Jefferson</td>\n",
       "      <td>22902</td>\n",
       "    </tr>\n",
       "  </tbody>\n",
       "</table>\n",
       "</div>"
      ],
      "text/plain": [
       "   RecordID                       Offense    IncidentID Agency  \\\n",
       "0         1                 Fraud-welfare  202500011191    CPD   \n",
       "1         2                Assault Simple  202500011189    CPD   \n",
       "2         3           Larceny - All Other  202500011194    CPD   \n",
       "3         4           Larceny - All Other  202500011173    CPD   \n",
       "4         5  Larceny - From Motor Vehicle  202500011161    CPD   \n",
       "\n",
       "   ReportingOfficer                Date DayOfWeek  Weekend  Season  TimeOfDay  \\\n",
       "0    Benbow, Lauren 2025-04-07 17:07:43    Monday    False  Spring    Evening   \n",
       "1      Curry, Brian 2025-04-07 17:07:29    Monday    False  Spring    Evening   \n",
       "2     Bland, Johnnà 2025-04-07 16:17:15    Monday    False  Spring  Afternoon   \n",
       "3  Schwartz, Honora 2025-04-07 14:51:51    Monday    False  Spring  Afternoon   \n",
       "4   Carrasco, Julio 2025-04-07 13:31:12    Monday    False  Spring  Afternoon   \n",
       "\n",
       "                FullStreet        lat        lon      neighborhood    zip  \n",
       "0         1600 MERIDIAN ST  38.015215 -78.481585           Belmont  22903  \n",
       "1             800 HARDY DR  38.033239 -78.490398       10th & Page  22903  \n",
       "2      1000 PRESTON AVE, A  38.039264 -78.491428           Venable  22908  \n",
       "3   E SOUTH ST / 6TH ST SE  38.022527 -78.482559         Ridge St.  22903  \n",
       "4             800 WARD AVE  38.033078 -78.463310  Martha Jefferson  22902  "
      ]
     },
     "execution_count": 14,
     "metadata": {},
     "output_type": "execute_result"
    }
   ],
   "source": [
    "# Now drop the original BlockNumber and StreetName columns\n",
    "df.drop(columns=['BlockNumber', 'StreetName','HourAMPM','HourReported','DateString'], inplace=True)\n",
    "df[\"zip\"] = df[\"zip\"].astype(str)\n",
    "\n",
    "# Fill all missing values in the DataFrame with \"N/A\"\n",
    "df.replace({None: \"N/A\", np.nan: \"N/A\", \"\": \"N/A\"}, inplace=True)\n",
    "df.head()"
   ]
  },
  {
   "cell_type": "code",
   "execution_count": 15,
   "id": "8d7a3f8f",
   "metadata": {
    "execution": {
     "iopub.execute_input": "2025-04-10T01:00:32.007342Z",
     "iopub.status.busy": "2025-04-10T01:00:32.007089Z",
     "iopub.status.idle": "2025-04-10T01:00:32.022945Z",
     "shell.execute_reply": "2025-04-10T01:00:32.022288Z"
    },
    "papermill": {
     "duration": 0.025121,
     "end_time": "2025-04-10T01:00:32.024043",
     "exception": false,
     "start_time": "2025-04-10T01:00:31.998922",
     "status": "completed"
    },
    "tags": []
   },
   "outputs": [
    {
     "name": "stdout",
     "output_type": "stream",
     "text": [
      "                  MissingCount  MissingPercentage\n",
      "RecordID                     0                0.0\n",
      "Offense                      0                0.0\n",
      "IncidentID                   0                0.0\n",
      "Agency                       0                0.0\n",
      "ReportingOfficer             0                0.0\n",
      "Date                         0                0.0\n",
      "DayOfWeek                    0                0.0\n",
      "Weekend                      0                0.0\n",
      "Season                       0                0.0\n",
      "TimeOfDay                    0                0.0\n",
      "FullStreet                   0                0.0\n",
      "lat                          0                0.0\n",
      "lon                          0                0.0\n",
      "neighborhood                 0                0.0\n",
      "zip                          0                0.0\n"
     ]
    }
   ],
   "source": [
    "missing_info = missing_percentage(df)\n",
    "print(missing_info)"
   ]
  },
  {
   "cell_type": "code",
   "execution_count": 16,
   "id": "ba05ff84",
   "metadata": {
    "execution": {
     "iopub.execute_input": "2025-04-10T01:00:32.040007Z",
     "iopub.status.busy": "2025-04-10T01:00:32.039528Z",
     "iopub.status.idle": "2025-04-10T01:00:32.043848Z",
     "shell.execute_reply": "2025-04-10T01:00:32.043315Z"
    },
    "papermill": {
     "duration": 0.013292,
     "end_time": "2025-04-10T01:00:32.044843",
     "exception": false,
     "start_time": "2025-04-10T01:00:32.031551",
     "status": "completed"
    },
    "tags": []
   },
   "outputs": [
    {
     "data": {
      "text/plain": [
       "Index(['RecordID', 'Offense', 'IncidentID', 'Agency', 'ReportingOfficer',\n",
       "       'Date', 'DayOfWeek', 'Weekend', 'Season', 'TimeOfDay', 'FullStreet',\n",
       "       'lat', 'lon', 'neighborhood', 'zip'],\n",
       "      dtype='object')"
      ]
     },
     "execution_count": 16,
     "metadata": {},
     "output_type": "execute_result"
    }
   ],
   "source": [
    "df.columns"
   ]
  },
  {
   "cell_type": "code",
   "execution_count": 17,
   "id": "d374efcf",
   "metadata": {
    "execution": {
     "iopub.execute_input": "2025-04-10T01:00:32.063326Z",
     "iopub.status.busy": "2025-04-10T01:00:32.062892Z",
     "iopub.status.idle": "2025-04-10T01:00:32.085330Z",
     "shell.execute_reply": "2025-04-10T01:00:32.084787Z"
    },
    "papermill": {
     "duration": 0.032078,
     "end_time": "2025-04-10T01:00:32.086379",
     "exception": false,
     "start_time": "2025-04-10T01:00:32.054301",
     "status": "completed"
    },
    "tags": []
   },
   "outputs": [
    {
     "name": "stdout",
     "output_type": "stream",
     "text": [
      "<class 'pandas.core.frame.DataFrame'>\n",
      "RangeIndex: 25127 entries, 0 to 25126\n",
      "Data columns (total 15 columns):\n",
      " #   Column            Non-Null Count  Dtype         \n",
      "---  ------            --------------  -----         \n",
      " 0   RecordID          25127 non-null  int64         \n",
      " 1   Offense           25127 non-null  object        \n",
      " 2   IncidentID        25127 non-null  object        \n",
      " 3   Agency            25127 non-null  object        \n",
      " 4   ReportingOfficer  25127 non-null  object        \n",
      " 5   Date              25127 non-null  datetime64[ns]\n",
      " 6   DayOfWeek         25127 non-null  object        \n",
      " 7   Weekend           25127 non-null  bool          \n",
      " 8   Season            25127 non-null  object        \n",
      " 9   TimeOfDay         25127 non-null  object        \n",
      " 10  FullStreet        25127 non-null  object        \n",
      " 11  lat               25127 non-null  float64       \n",
      " 12  lon               25127 non-null  float64       \n",
      " 13  neighborhood      25127 non-null  object        \n",
      " 14  zip               25127 non-null  object        \n",
      "dtypes: bool(1), datetime64[ns](1), float64(2), int64(1), object(10)\n",
      "memory usage: 2.7+ MB\n"
     ]
    }
   ],
   "source": [
    "df.info()"
   ]
  },
  {
   "cell_type": "markdown",
   "id": "cd467c19",
   "metadata": {
    "papermill": {
     "duration": 0.007696,
     "end_time": "2025-04-10T01:00:32.102122",
     "exception": false,
     "start_time": "2025-04-10T01:00:32.094426",
     "status": "completed"
    },
    "tags": []
   },
   "source": [
    "### Export Clean Data"
   ]
  },
  {
   "cell_type": "code",
   "execution_count": 18,
   "id": "63955821",
   "metadata": {
    "execution": {
     "iopub.execute_input": "2025-04-10T01:00:32.119082Z",
     "iopub.status.busy": "2025-04-10T01:00:32.118546Z",
     "iopub.status.idle": "2025-04-10T01:00:41.172069Z",
     "shell.execute_reply": "2025-04-10T01:00:41.171383Z"
    },
    "papermill": {
     "duration": 9.063106,
     "end_time": "2025-04-10T01:00:41.173102",
     "exception": false,
     "start_time": "2025-04-10T01:00:32.109996",
     "status": "completed"
    },
    "tags": []
   },
   "outputs": [
    {
     "name": "stdout",
     "output_type": "stream",
     "text": [
      "Project Root: /home/runner/work/crime-data/crime-data\n"
     ]
    },
    {
     "name": "stdout",
     "output_type": "stream",
     "text": [
      "Data saved to: /home/runner/work/crime-data/crime-data/data/charlottesville_crime_incidents.csv\n"
     ]
    },
    {
     "name": "stdout",
     "output_type": "stream",
     "text": [
      "Excel saved to: /home/runner/work/crime-data/crime-data/data/charlottesville_crime_incidents.xlsx\n"
     ]
    }
   ],
   "source": [
    "# Determine the project root (assuming papermill is run from the repository root)\n",
    "project_root = os.getcwd()\n",
    "print(\"Project Root:\", project_root)\n",
    "\n",
    "# Set the data directory within the project root\n",
    "data_dir = os.path.join(project_root, \"data\")\n",
    "\n",
    "# Ensure the \"data\" directory exists (create it if it doesn't)\n",
    "if not os.path.exists(data_dir):\n",
    "    os.makedirs(data_dir)\n",
    "\n",
    "# Export the DataFrame to CSV in the \"data\" folder located in the project root\n",
    "csv_path = os.path.join(data_dir, \"charlottesville_crime_incidents.csv\")\n",
    "df.to_csv(csv_path, index=False)\n",
    "print(\"Data saved to:\", csv_path)\n",
    "\n",
    "# Construct the path to your Excel file\n",
    "excel_path = os.path.join(data_dir, \"charlottesville_crime_incidents.xlsx\")\n",
    "\n",
    "# Export the DataFrame to Excel\n",
    "df.to_excel(excel_path, index=False)\n",
    "print(\"Excel saved to:\", excel_path)\n"
   ]
  },
  {
   "cell_type": "markdown",
   "id": "70ab418d",
   "metadata": {
    "papermill": {
     "duration": 0.031513,
     "end_time": "2025-04-10T01:00:41.212835",
     "exception": false,
     "start_time": "2025-04-10T01:00:41.181322",
     "status": "completed"
    },
    "tags": []
   },
   "source": [
    "## Predictive Analytics"
   ]
  },
  {
   "cell_type": "code",
   "execution_count": 19,
   "id": "7377eeca",
   "metadata": {
    "execution": {
     "iopub.execute_input": "2025-04-10T01:00:41.230117Z",
     "iopub.status.busy": "2025-04-10T01:00:41.229843Z",
     "iopub.status.idle": "2025-04-10T01:00:41.241583Z",
     "shell.execute_reply": "2025-04-10T01:00:41.241031Z"
    },
    "papermill": {
     "duration": 0.021557,
     "end_time": "2025-04-10T01:00:41.242571",
     "exception": false,
     "start_time": "2025-04-10T01:00:41.221014",
     "status": "completed"
    },
    "tags": []
   },
   "outputs": [
    {
     "data": {
      "text/html": [
       "<div>\n",
       "<style scoped>\n",
       "    .dataframe tbody tr th:only-of-type {\n",
       "        vertical-align: middle;\n",
       "    }\n",
       "\n",
       "    .dataframe tbody tr th {\n",
       "        vertical-align: top;\n",
       "    }\n",
       "\n",
       "    .dataframe thead th {\n",
       "        text-align: right;\n",
       "    }\n",
       "</style>\n",
       "<table border=\"1\" class=\"dataframe\">\n",
       "  <thead>\n",
       "    <tr style=\"text-align: right;\">\n",
       "      <th></th>\n",
       "      <th>RecordID</th>\n",
       "      <th>Offense</th>\n",
       "      <th>IncidentID</th>\n",
       "      <th>Agency</th>\n",
       "      <th>ReportingOfficer</th>\n",
       "      <th>Date</th>\n",
       "      <th>DayOfWeek</th>\n",
       "      <th>Weekend</th>\n",
       "      <th>Season</th>\n",
       "      <th>TimeOfDay</th>\n",
       "      <th>FullStreet</th>\n",
       "      <th>lat</th>\n",
       "      <th>lon</th>\n",
       "      <th>neighborhood</th>\n",
       "      <th>zip</th>\n",
       "    </tr>\n",
       "  </thead>\n",
       "  <tbody>\n",
       "    <tr>\n",
       "      <th>0</th>\n",
       "      <td>1</td>\n",
       "      <td>Fraud-welfare</td>\n",
       "      <td>202500011191</td>\n",
       "      <td>CPD</td>\n",
       "      <td>Benbow, Lauren</td>\n",
       "      <td>2025-04-07 17:07:43</td>\n",
       "      <td>Monday</td>\n",
       "      <td>False</td>\n",
       "      <td>Spring</td>\n",
       "      <td>Evening</td>\n",
       "      <td>1600 MERIDIAN ST</td>\n",
       "      <td>38.015215</td>\n",
       "      <td>-78.481585</td>\n",
       "      <td>Belmont</td>\n",
       "      <td>22903</td>\n",
       "    </tr>\n",
       "    <tr>\n",
       "      <th>1</th>\n",
       "      <td>2</td>\n",
       "      <td>Assault Simple</td>\n",
       "      <td>202500011189</td>\n",
       "      <td>CPD</td>\n",
       "      <td>Curry, Brian</td>\n",
       "      <td>2025-04-07 17:07:29</td>\n",
       "      <td>Monday</td>\n",
       "      <td>False</td>\n",
       "      <td>Spring</td>\n",
       "      <td>Evening</td>\n",
       "      <td>800 HARDY DR</td>\n",
       "      <td>38.033239</td>\n",
       "      <td>-78.490398</td>\n",
       "      <td>10th &amp; Page</td>\n",
       "      <td>22903</td>\n",
       "    </tr>\n",
       "    <tr>\n",
       "      <th>2</th>\n",
       "      <td>3</td>\n",
       "      <td>Larceny - All Other</td>\n",
       "      <td>202500011194</td>\n",
       "      <td>CPD</td>\n",
       "      <td>Bland, Johnnà</td>\n",
       "      <td>2025-04-07 16:17:15</td>\n",
       "      <td>Monday</td>\n",
       "      <td>False</td>\n",
       "      <td>Spring</td>\n",
       "      <td>Afternoon</td>\n",
       "      <td>1000 PRESTON AVE, A</td>\n",
       "      <td>38.039264</td>\n",
       "      <td>-78.491428</td>\n",
       "      <td>Venable</td>\n",
       "      <td>22908</td>\n",
       "    </tr>\n",
       "    <tr>\n",
       "      <th>3</th>\n",
       "      <td>4</td>\n",
       "      <td>Larceny - All Other</td>\n",
       "      <td>202500011173</td>\n",
       "      <td>CPD</td>\n",
       "      <td>Schwartz, Honora</td>\n",
       "      <td>2025-04-07 14:51:51</td>\n",
       "      <td>Monday</td>\n",
       "      <td>False</td>\n",
       "      <td>Spring</td>\n",
       "      <td>Afternoon</td>\n",
       "      <td>E SOUTH ST / 6TH ST SE</td>\n",
       "      <td>38.022527</td>\n",
       "      <td>-78.482559</td>\n",
       "      <td>Ridge St.</td>\n",
       "      <td>22903</td>\n",
       "    </tr>\n",
       "    <tr>\n",
       "      <th>4</th>\n",
       "      <td>5</td>\n",
       "      <td>Larceny - From Motor Vehicle</td>\n",
       "      <td>202500011161</td>\n",
       "      <td>CPD</td>\n",
       "      <td>Carrasco, Julio</td>\n",
       "      <td>2025-04-07 13:31:12</td>\n",
       "      <td>Monday</td>\n",
       "      <td>False</td>\n",
       "      <td>Spring</td>\n",
       "      <td>Afternoon</td>\n",
       "      <td>800 WARD AVE</td>\n",
       "      <td>38.033078</td>\n",
       "      <td>-78.463310</td>\n",
       "      <td>Martha Jefferson</td>\n",
       "      <td>22902</td>\n",
       "    </tr>\n",
       "  </tbody>\n",
       "</table>\n",
       "</div>"
      ],
      "text/plain": [
       "   RecordID                       Offense    IncidentID Agency  \\\n",
       "0         1                 Fraud-welfare  202500011191    CPD   \n",
       "1         2                Assault Simple  202500011189    CPD   \n",
       "2         3           Larceny - All Other  202500011194    CPD   \n",
       "3         4           Larceny - All Other  202500011173    CPD   \n",
       "4         5  Larceny - From Motor Vehicle  202500011161    CPD   \n",
       "\n",
       "   ReportingOfficer                Date DayOfWeek  Weekend  Season  TimeOfDay  \\\n",
       "0    Benbow, Lauren 2025-04-07 17:07:43    Monday    False  Spring    Evening   \n",
       "1      Curry, Brian 2025-04-07 17:07:29    Monday    False  Spring    Evening   \n",
       "2     Bland, Johnnà 2025-04-07 16:17:15    Monday    False  Spring  Afternoon   \n",
       "3  Schwartz, Honora 2025-04-07 14:51:51    Monday    False  Spring  Afternoon   \n",
       "4   Carrasco, Julio 2025-04-07 13:31:12    Monday    False  Spring  Afternoon   \n",
       "\n",
       "                FullStreet        lat        lon      neighborhood    zip  \n",
       "0         1600 MERIDIAN ST  38.015215 -78.481585           Belmont  22903  \n",
       "1             800 HARDY DR  38.033239 -78.490398       10th & Page  22903  \n",
       "2      1000 PRESTON AVE, A  38.039264 -78.491428           Venable  22908  \n",
       "3   E SOUTH ST / 6TH ST SE  38.022527 -78.482559         Ridge St.  22903  \n",
       "4             800 WARD AVE  38.033078 -78.463310  Martha Jefferson  22902  "
      ]
     },
     "execution_count": 19,
     "metadata": {},
     "output_type": "execute_result"
    }
   ],
   "source": [
    "df.head()"
   ]
  },
  {
   "cell_type": "code",
   "execution_count": 20,
   "id": "1214c115",
   "metadata": {
    "execution": {
     "iopub.execute_input": "2025-04-10T01:00:41.259993Z",
     "iopub.status.busy": "2025-04-10T01:00:41.259613Z",
     "iopub.status.idle": "2025-04-10T01:00:41.263987Z",
     "shell.execute_reply": "2025-04-10T01:00:41.263306Z"
    },
    "papermill": {
     "duration": 0.014305,
     "end_time": "2025-04-10T01:00:41.265011",
     "exception": false,
     "start_time": "2025-04-10T01:00:41.250706",
     "status": "completed"
    },
    "tags": []
   },
   "outputs": [
    {
     "data": {
      "text/plain": [
       "Index(['RecordID', 'Offense', 'IncidentID', 'Agency', 'ReportingOfficer',\n",
       "       'Date', 'DayOfWeek', 'Weekend', 'Season', 'TimeOfDay', 'FullStreet',\n",
       "       'lat', 'lon', 'neighborhood', 'zip'],\n",
       "      dtype='object')"
      ]
     },
     "execution_count": 20,
     "metadata": {},
     "output_type": "execute_result"
    }
   ],
   "source": [
    "df.columns"
   ]
  },
  {
   "cell_type": "markdown",
   "id": "aa44ba04",
   "metadata": {
    "papermill": {
     "duration": 0.008161,
     "end_time": "2025-04-10T01:00:41.281600",
     "exception": false,
     "start_time": "2025-04-10T01:00:41.273439",
     "status": "completed"
    },
    "tags": []
   },
   "source": [
    "### Data Preparation\n",
    "\n",
    "We need to ensure the data is in the correct format for modeling and can handle missing values, categorical variables, and dates. Here's how to prepare your data:"
   ]
  },
  {
   "cell_type": "code",
   "execution_count": 21,
   "id": "bb298e3b",
   "metadata": {
    "execution": {
     "iopub.execute_input": "2025-04-10T01:00:41.298996Z",
     "iopub.status.busy": "2025-04-10T01:00:41.298607Z",
     "iopub.status.idle": "2025-04-10T01:00:45.093933Z",
     "shell.execute_reply": "2025-04-10T01:00:45.093184Z"
    },
    "papermill": {
     "duration": 3.805501,
     "end_time": "2025-04-10T01:00:45.095340",
     "exception": false,
     "start_time": "2025-04-10T01:00:41.289839",
     "status": "completed"
    },
    "tags": []
   },
   "outputs": [],
   "source": [
    "import pandas as pd\n",
    "from sklearn.model_selection import train_test_split\n",
    "from sklearn.preprocessing import OneHotEncoder, LabelEncoder\n",
    "from sklearn.ensemble import RandomForestClassifier\n",
    "from sklearn.linear_model import LogisticRegression\n",
    "from sklearn.tree import DecisionTreeClassifier\n",
    "from sklearn.metrics import classification_report, accuracy_score\n",
    "import seaborn as sns\n",
    "import matplotlib.pyplot as plt\n",
    "\n",
    "# Convert 'Date' to datetime\n",
    "df['Date'] = pd.to_datetime(df['Date'])\n",
    "\n",
    "# Feature engineering: Extract additional time-based features\n",
    "df['Year'] = df['Date'].dt.year\n",
    "df['Month'] = df['Date'].dt.month\n",
    "df['DayOfMonth'] = df['Date'].dt.day\n",
    "\n",
    "# One-hot encoding for 'FullStreet', 'neighborhood', 'zip'\n",
    "df = pd.get_dummies(df, columns=['FullStreet', 'neighborhood', 'zip'], drop_first=True)\n",
    "\n",
    "# Label encoding for ordered variables (those with a natural order like 'DayOfWeek', 'Season', 'TimeOfDay')\n",
    "label_encoders = {}\n",
    "for column in ['DayOfWeek', 'Season', 'TimeOfDay', 'Agency', 'ReportingOfficer']:  # Example ordinal variables\n",
    "    le = LabelEncoder()\n",
    "    df[column] = le.fit_transform(df[column])\n",
    "    label_encoders[column] = le\n",
    "\n",
    "# Filter the dataset to include only the offenses of interest\n",
    "offenses_of_interest = [\n",
    "    'Hit and Run', 'Assault Simple', 'Suspicious Activity', 'Vandalism', \n",
    "    'Larceny - From Mot Vehicle', 'Larceny - All Other', \n",
    "    'Assist Citizen - Mental/TDO/ECO', 'Lost/FoundProperty'\n",
    "]\n",
    "\n",
    "df = df[df['Offense'].isin(offenses_of_interest)]\n",
    "\n",
    "# Label encode the target variable (Offense)\n",
    "offense_encoder = LabelEncoder()\n",
    "df['Offense'] = offense_encoder.fit_transform(df['Offense'])\n",
    "\n",
    "# Separate features (X) and target (y)\n",
    "X = df[['Year', 'Month', 'DayOfMonth', 'DayOfWeek', 'Weekend', 'Season', 'TimeOfDay', 'lat', 'lon', 'Agency', 'ReportingOfficer']]\n",
    "y = df['Offense']  # Offense is now the encoded target variable\n",
    "\n",
    "# Split the data into training and testing sets\n",
    "X_train, X_test, y_train, y_test = train_test_split(X, y, test_size=0.3, random_state=42)\n"
   ]
  },
  {
   "cell_type": "markdown",
   "id": "cc902b37",
   "metadata": {
    "papermill": {
     "duration": 0.008114,
     "end_time": "2025-04-10T01:00:45.112219",
     "exception": false,
     "start_time": "2025-04-10T01:00:45.104105",
     "status": "completed"
    },
    "tags": []
   },
   "source": [
    "### Model Training\n",
    "\n",
    "Here we will train several models (e.g., Random Forest, Logistic Regression, and Decision Tree). We will use cross-validation to choose the best model based on accuracy, and then explain the impact of the variables."
   ]
  },
  {
   "cell_type": "code",
   "execution_count": 22,
   "id": "c133fd7a",
   "metadata": {
    "execution": {
     "iopub.execute_input": "2025-04-10T01:00:45.129947Z",
     "iopub.status.busy": "2025-04-10T01:00:45.129345Z",
     "iopub.status.idle": "2025-04-10T01:00:48.697336Z",
     "shell.execute_reply": "2025-04-10T01:00:48.696689Z"
    },
    "papermill": {
     "duration": 3.578049,
     "end_time": "2025-04-10T01:00:48.698479",
     "exception": false,
     "start_time": "2025-04-10T01:00:45.120430",
     "status": "completed"
    },
    "tags": []
   },
   "outputs": [
    {
     "name": "stderr",
     "output_type": "stream",
     "text": [
      "/opt/hostedtoolcache/Python/3.9.21/x64/lib/python3.9/site-packages/sklearn/linear_model/_logistic.py:465: ConvergenceWarning: lbfgs failed to converge (status=1):\n",
      "STOP: TOTAL NO. of ITERATIONS REACHED LIMIT.\n",
      "\n",
      "Increase the number of iterations (max_iter) or scale the data as shown in:\n",
      "    https://scikit-learn.org/stable/modules/preprocessing.html\n",
      "Please also refer to the documentation for alternative solver options:\n",
      "    https://scikit-learn.org/stable/modules/linear_model.html#logistic-regression\n",
      "  n_iter_i = _check_optimize_result(\n",
      "/opt/hostedtoolcache/Python/3.9.21/x64/lib/python3.9/site-packages/sklearn/metrics/_classification.py:1565: UndefinedMetricWarning: Precision is ill-defined and being set to 0.0 in labels with no predicted samples. Use `zero_division` parameter to control this behavior.\n",
      "  _warn_prf(average, modifier, f\"{metric.capitalize()} is\", len(result))\n",
      "/opt/hostedtoolcache/Python/3.9.21/x64/lib/python3.9/site-packages/sklearn/metrics/_classification.py:1565: UndefinedMetricWarning: Precision is ill-defined and being set to 0.0 in labels with no predicted samples. Use `zero_division` parameter to control this behavior.\n",
      "  _warn_prf(average, modifier, f\"{metric.capitalize()} is\", len(result))\n",
      "/opt/hostedtoolcache/Python/3.9.21/x64/lib/python3.9/site-packages/sklearn/metrics/_classification.py:1565: UndefinedMetricWarning: Precision is ill-defined and being set to 0.0 in labels with no predicted samples. Use `zero_division` parameter to control this behavior.\n",
      "  _warn_prf(average, modifier, f\"{metric.capitalize()} is\", len(result))\n"
     ]
    },
    {
     "name": "stdout",
     "output_type": "stream",
     "text": [
      "\n",
      "Classification Report for All Models:\n",
      "\n",
      "Model: RandomForest\n",
      "Accuracy: 0.2793\n",
      "              precision    recall  f1-score      support\n",
      "0              0.292649  0.350498  0.318972   602.000000\n",
      "1              0.293578  0.240602  0.264463   399.000000\n",
      "2              0.290419  0.438253  0.349340   664.000000\n",
      "3              0.209809  0.170354  0.188034   452.000000\n",
      "4              0.327014  0.195467  0.244681   353.000000\n",
      "5              0.255220  0.211538  0.231335   520.000000\n",
      "6              0.280206  0.237991  0.257379   458.000000\n",
      "accuracy       0.279292  0.279292  0.279292     0.279292\n",
      "macro avg      0.278414  0.263529  0.264886  3448.000000\n",
      "weighted avg   0.277688  0.279292  0.272344  3448.000000\n"
     ]
    },
    {
     "data": {
      "image/png": "[encoded data removed]",
      "text/plain": [
       "<Figure size 800x600 with 2 Axes>"
      ]
     },
     "metadata": {},
     "output_type": "display_data"
    },
    {
     "name": "stdout",
     "output_type": "stream",
     "text": [
      "\n",
      "Model: LogisticRegression\n",
      "Accuracy: 0.2108\n",
      "              precision    recall  f1-score      support\n",
      "0              0.211806  0.506645  0.298727   602.000000\n",
      "1              0.000000  0.000000  0.000000   399.000000\n",
      "2              0.211317  0.635542  0.317174   664.000000\n",
      "3              0.000000  0.000000  0.000000   452.000000\n",
      "4              0.000000  0.000000  0.000000   353.000000\n",
      "5              0.000000  0.000000  0.000000   520.000000\n",
      "6              0.000000  0.000000  0.000000   458.000000\n",
      "accuracy       0.210847  0.210847  0.210847     0.210847\n",
      "macro avg      0.060446  0.163170  0.087986  3448.000000\n",
      "weighted avg   0.077674  0.210847  0.113236  3448.000000\n"
     ]
    },
    {
     "data": {
      "image/png": "[encoded data removed]",
      "text/plain": [
       "<Figure size 800x600 with 2 Axes>"
      ]
     },
     "metadata": {},
     "output_type": "display_data"
    },
    {
     "name": "stdout",
     "output_type": "stream",
     "text": [
      "\n",
      "Model: DecisionTree\n",
      "Accuracy: 0.2187\n",
      "              precision    recall  f1-score      support\n",
      "0              0.247492  0.245847  0.246667   602.000000\n",
      "1              0.223618  0.223058  0.223338   399.000000\n",
      "2              0.283630  0.263554  0.273224   664.000000\n",
      "3              0.167742  0.172566  0.170120   452.000000\n",
      "4              0.159218  0.161473  0.160338   353.000000\n",
      "5              0.219203  0.232692  0.225746   520.000000\n",
      "6              0.186957  0.187773  0.187364   458.000000\n",
      "accuracy       0.218677  0.218677  0.218677     0.218677\n",
      "macro avg      0.212551  0.212423  0.212399  3448.000000\n",
      "weighted avg   0.219890  0.218677  0.219176  3448.000000\n"
     ]
    },
    {
     "data": {
      "image/png": "[encoded data removed]",
      "text/plain": [
       "<Figure size 800x600 with 2 Axes>"
      ]
     },
     "metadata": {},
     "output_type": "display_data"
    },
    {
     "name": "stdout",
     "output_type": "stream",
     "text": [
      "\n",
      "Best Model:\n",
      "Best Model: RandomForestClassifier()\n",
      "Best Model Accuracy: 0.2793\n"
     ]
    }
   ],
   "source": [
    "import pandas as pd\n",
    "from sklearn.model_selection import train_test_split\n",
    "from sklearn.ensemble import RandomForestClassifier\n",
    "from sklearn.linear_model import LogisticRegression\n",
    "from sklearn.tree import DecisionTreeClassifier\n",
    "from sklearn.metrics import classification_report, accuracy_score, confusion_matrix\n",
    "import seaborn as sns\n",
    "import matplotlib.pyplot as plt\n",
    "\n",
    "# Define models\n",
    "models = {\n",
    "    'RandomForest': RandomForestClassifier(),\n",
    "    'LogisticRegression': LogisticRegression(max_iter=1000),\n",
    "    'DecisionTree': DecisionTreeClassifier()\n",
    "}\n",
    "\n",
    "# Train models and evaluate them\n",
    "best_model = None\n",
    "best_score = 0\n",
    "model_reports = {}\n",
    "\n",
    "for model_name, model in models.items():\n",
    "    model.fit(X_train, y_train)  # Train model\n",
    "    y_pred = model.predict(X_test)  # Make predictions\n",
    "    \n",
    "    # Calculate accuracy and generate classification report\n",
    "    accuracy = accuracy_score(y_test, y_pred)\n",
    "    model_reports[model_name] = classification_report(y_test, y_pred, output_dict=True)  # Store as a dictionary for easier analysis\n",
    "    \n",
    "    # Track best performing model\n",
    "    if accuracy > best_score:\n",
    "        best_score = accuracy\n",
    "        best_model = model\n",
    "\n",
    "# Display classification reports and confusion matrices\n",
    "print(\"\\nClassification Report for All Models:\")\n",
    "for model_name, report in model_reports.items():\n",
    "    print(f\"\\nModel: {model_name}\")\n",
    "    print(\"Accuracy: {:.4f}\".format(accuracy_score(y_test, models[model_name].predict(X_test))))  # Display accuracy\n",
    "    print(pd.DataFrame(report).transpose())  # Display classification report as a DataFrame\n",
    "\n",
    "    # Plot Confusion Matrix\n",
    "    cm = confusion_matrix(y_test, models[model_name].predict(X_test))\n",
    "    plt.figure(figsize=(8, 6))\n",
    "    sns.heatmap(cm, annot=True, fmt=\"d\", cmap='Blues', xticklabels=offense_encoder.classes_, yticklabels=offense_encoder.classes_)\n",
    "    plt.title(f\"Confusion Matrix - {model_name}\")\n",
    "    plt.xlabel('Predicted Labels')\n",
    "    plt.ylabel('True Labels')\n",
    "    plt.show()\n",
    "\n",
    "# Display best model details\n",
    "print(\"\\nBest Model:\")\n",
    "print(f\"Best Model: {best_model}\")\n",
    "print(f\"Best Model Accuracy: {best_score:.4f}\")\n"
   ]
  },
  {
   "cell_type": "markdown",
   "id": "efe24888",
   "metadata": {
    "papermill": {
     "duration": 0.011014,
     "end_time": "2025-04-10T01:00:48.721479",
     "exception": false,
     "start_time": "2025-04-10T01:00:48.710465",
     "status": "completed"
    },
    "tags": []
   },
   "source": [
    "#### Classification Report for All Models:\n",
    "\n",
    "### Explanation of the Classification Results (RandomForest Model)\n",
    "\n",
    "The results you provided are from a **Random Forest** model, which is used for predicting different types of offenses. Let's break down the key components of the results:\n",
    "\n",
    "#### 1. **Accuracy: 0.2822**\n",
    "   - **Accuracy** measures the overall percentage of correct predictions made by the model. An accuracy of 28.22% means the model correctly predicted the offense in about 28% of the cases. This indicates the model's predictions are not highly reliable, as the accuracy is quite low.\n",
    "\n",
    "#### 2. **Classification Report:**\n",
    "   The classification report includes precision, recall, and F1-score for each offense. Let's go over these terms and how they apply to the results:\n",
    "\n",
    "   - **Precision**: The proportion of true positive predictions out of all positive predictions made by the model for a specific class (offense).\n",
    "   - **Recall**: The proportion of true positive predictions out of all actual positive instances in the dataset.\n",
    "   - **F1-Score**: The harmonic mean of precision and recall, providing a balance between the two metrics.\n",
    "   - **Support**: The number of actual occurrences of each class in the test set.\n",
    "\n",
    "   Let's analyze each offense based on these metrics:\n",
    "\n",
    "   | **Offense**                        | **Precision** | **Recall** | **F1-Score** | **Support** |\n",
    "   |------------------------------------|---------------|------------|--------------|-------------|\n",
    "   | **Assault Simple**                 | 0.2892        | 0.3754     | 0.3267       | 594         |\n",
    "   | **Assist Citizen - Mental/TDO/ECO**| 0.3182        | 0.2274     | 0.2652       | 431         |\n",
    "   | **Hit and Run**                    | 0.2963        | 0.4765     | 0.3654       | 638         |\n",
    "   | **Larceny - All Other**            | 0.2270        | 0.1453     | 0.1772       | 475         |\n",
    "   | **Lost/FoundProperty**             | 0.3333        | 0.2102     | 0.2578       | 352         |\n",
    "   | **Suspicious Activity**            | 0.2344        | 0.2169     | 0.2253       | 484         |\n",
    "   | **Vandalism**                      | 0.2712        | 0.2106     | 0.2371       | 470         |\n",
    "\n",
    "#### 3. **Key Insights from the Report:**\n",
    "\n",
    "- **Precision**:\n",
    "   - The highest precision is for **Larceny - All Other** (0.3333), indicating that when the model predicts this offense, it is correct about 33% of the time. However, this is still quite low.\n",
    "   - **Assist Citizen - Mental/TDO/ECO** has the lowest precision (0.2269), meaning that the model's predictions for this offense tend to be wrong more often than correct.\n",
    "\n",
    "- **Recall**:\n",
    "   - **Hit and Run** has the highest recall (0.4765), meaning the model identifies about 48% of the actual occurrences of this offense. This is better than the precision, which indicates it is missing many true positives but is still able to identify a fair number of cases.\n",
    "   - **Larceny - All Other** and **Suspicious Activity** have the lowest recall values (0.1453 and 0.2169, respectively), indicating that the model is failing to identify most of the actual cases for these offenses.\n",
    "\n",
    "- **F1-Score**:\n",
    "   - The **F1-Score** balances precision and recall. It is highest for **Hit and Run** (0.3654), but still relatively low overall. This suggests the model is better at identifying **Hit and Run** than other offenses but still has room for improvement.\n",
    "   - **Larceny - All Other** has the lowest F1-Score (0.1772), indicating a poor balance between precision and recall for this offense.\n",
    "\n",
    "#### 4. **Macro Average and Weighted Average:**\n",
    "   - **Macro Average**: This gives the average precision, recall, and F1-Score across all classes (offenses) without considering the class distribution. It averages the results for all offenses equally.\n",
    "     - Precision: 0.2814\n",
    "     - Recall: 0.2661\n",
    "     - F1-Score: 0.2649\n",
    "   - **Weighted Average**: This averages the metrics but weighs each class by its support (the number of true instances in the test set). This gives a better sense of overall performance, considering the class distribution.\n",
    "     - Precision: 0.2799\n",
    "     - Recall: 0.2822\n",
    "     - F1-Score: 0.2720\n",
    "\n",
    "#### 5. **Confusion Matrix (Visualization Analysis)**:\n",
    "   - The confusion matrix shows the distribution of true positive, false positive, true negative, and false negative predictions for each class.\n",
    "     - For **Hit and Run**, the model performs relatively well in identifying this offense (304 true positives). However, it also misclassifies some **Hit and Run** instances as other offenses (e.g., **Assault Simple**, **Suspicious Activity**, etc.).\n",
    "     - **Larceny - All Other** is frequently misclassified as **Hit and Run**, **Suspicious Activity**, and others. This is evident from the large number of off-diagonal elements in its row.\n",
    "     - **Assist Citizen - Mental/TDO/ECO** and **Suspicious Activity** are frequently misclassified, as seen by the off-diagonal values in their rows.\n",
    "\n",
    "### Conclusion:\n",
    "The Random Forest model has low accuracy (28.22%), suggesting that it struggles to predict most offenses accurately. Some offenses like **Hit and Run** are better predicted than others, but overall, the model shows a high level of misclassification across all offenses. There may be a need for further tuning of the model, additional feature engineering, or trying different models for better performance.\n",
    "\n",
    "Let me know if you'd like to improve the model or make adjustments based on these results!\n",
    "\n"
   ]
  },
  {
   "cell_type": "markdown",
   "id": "f0f9cc7b",
   "metadata": {
    "papermill": {
     "duration": 0.010743,
     "end_time": "2025-04-10T01:00:48.743238",
     "exception": false,
     "start_time": "2025-04-10T01:00:48.732495",
     "status": "completed"
    },
    "tags": []
   },
   "source": [
    "### Model Explanation\n",
    "\n",
    "Once we’ve chosen the best model, we will explain its predictions by examining feature importance for tree-based models and using statistical methods like logistic regression coefficients for linear models."
   ]
  },
  {
   "cell_type": "markdown",
   "id": "f8653f4b",
   "metadata": {
    "papermill": {
     "duration": 0.010788,
     "end_time": "2025-04-10T01:00:48.764899",
     "exception": false,
     "start_time": "2025-04-10T01:00:48.754111",
     "status": "completed"
    },
    "tags": []
   },
   "source": [
    "#### Feature Importance for Random Forest / Decision Tree\n",
    "\n",
    "##### For Tree-based Models (Random Forest, Decision Tree)\n",
    "\n",
    "For Random Forest or Decision Tree, we can look at feature importance to understand which variables contribute the most to the model's predictions. Here's how you can visualize and interpret the importance of each feature:"
   ]
  },
  {
   "cell_type": "code",
   "execution_count": 23,
   "id": "a9c25a81",
   "metadata": {
    "execution": {
     "iopub.execute_input": "2025-04-10T01:00:48.788177Z",
     "iopub.status.busy": "2025-04-10T01:00:48.787544Z",
     "iopub.status.idle": "2025-04-10T01:00:48.953411Z",
     "shell.execute_reply": "2025-04-10T01:00:48.952667Z"
    },
    "papermill": {
     "duration": 0.178916,
     "end_time": "2025-04-10T01:00:48.954590",
     "exception": false,
     "start_time": "2025-04-10T01:00:48.775674",
     "status": "completed"
    },
    "tags": []
   },
   "outputs": [
    {
     "data": {
      "image/png": "[encoded data removed]",
      "text/plain": [
       "<Figure size 1000x600 with 1 Axes>"
      ]
     },
     "metadata": {},
     "output_type": "display_data"
    }
   ],
   "source": [
    "# For RandomForest or DecisionTree models, we can check feature importance\n",
    "if isinstance(best_model, RandomForestClassifier) or isinstance(best_model, DecisionTreeClassifier):\n",
    "    feature_importance = best_model.feature_importances_\n",
    "    feature_names = X.columns\n",
    "    importance_df = pd.DataFrame({'Feature': feature_names, 'Importance': feature_importance})\n",
    "    importance_df = importance_df.sort_values(by='Importance', ascending=False)\n",
    "    \n",
    "    # Plotting the feature importances\n",
    "    plt.figure(figsize=(10, 6))\n",
    "    sns.barplot(x='Importance', y='Feature', data=importance_df)\n",
    "    plt.title(\"Feature Importance\")\n",
    "    plt.show()\n"
   ]
  },
  {
   "cell_type": "code",
   "execution_count": null,
   "id": "1d71e204",
   "metadata": {
    "papermill": {
     "duration": 0.011136,
     "end_time": "2025-04-10T01:00:48.977286",
     "exception": false,
     "start_time": "2025-04-10T01:00:48.966150",
     "status": "completed"
    },
    "tags": []
   },
   "outputs": [],
   "source": []
  },
  {
   "cell_type": "markdown",
   "id": "e3764fc5",
   "metadata": {
    "papermill": {
     "duration": 0.011102,
     "end_time": "2025-04-10T01:00:48.999623",
     "exception": false,
     "start_time": "2025-04-10T01:00:48.988521",
     "status": "completed"
    },
    "tags": []
   },
   "source": [
    "### Evaluation\n",
    "\n",
    "After training the models and examining their performance, we evaluate the chosen model based on metrics like accuracy, precision, recall, and F1 score.\n",
    "\n"
   ]
  },
  {
   "cell_type": "code",
   "execution_count": 24,
   "id": "7a4d6310",
   "metadata": {
    "execution": {
     "iopub.execute_input": "2025-04-10T01:00:49.023775Z",
     "iopub.status.busy": "2025-04-10T01:00:49.023162Z",
     "iopub.status.idle": "2025-04-10T01:00:49.112361Z",
     "shell.execute_reply": "2025-04-10T01:00:49.111691Z"
    },
    "papermill": {
     "duration": 0.102565,
     "end_time": "2025-04-10T01:00:49.113498",
     "exception": false,
     "start_time": "2025-04-10T01:00:49.010933",
     "status": "completed"
    },
    "tags": []
   },
   "outputs": [
    {
     "name": "stdout",
     "output_type": "stream",
     "text": [
      "Accuracy: 0.2793\n",
      "Classification Report:\n",
      "              precision    recall  f1-score   support\n",
      "\n",
      "           0       0.29      0.35      0.32       602\n",
      "           1       0.29      0.24      0.26       399\n",
      "           2       0.29      0.44      0.35       664\n",
      "           3       0.21      0.17      0.19       452\n",
      "           4       0.33      0.20      0.24       353\n",
      "           5       0.26      0.21      0.23       520\n",
      "           6       0.28      0.24      0.26       458\n",
      "\n",
      "    accuracy                           0.28      3448\n",
      "   macro avg       0.28      0.26      0.26      3448\n",
      "weighted avg       0.28      0.28      0.27      3448\n",
      "\n",
      "Confusion Matrix:\n",
      "[[211  71 147  52  23  56  42]\n",
      " [ 82  96 106  41  14  39  21]\n",
      " [112  46 291  65  26  74  50]\n",
      " [ 76  28 126  77  27  53  65]\n",
      " [ 52  25  82  38  69  37  50]\n",
      " [113  32 135  53  25 110  52]\n",
      " [ 75  29 115  41  27  62 109]]\n",
      "Precision: 0.2777\n",
      "Recall: 0.2793\n",
      "F1 Score: 0.2723\n"
     ]
    }
   ],
   "source": [
    "from sklearn.metrics import classification_report, confusion_matrix, accuracy_score, precision_score, recall_score, f1_score\n",
    "\n",
    "# Predict on the test set\n",
    "y_pred = best_model.predict(X_test)\n",
    "\n",
    "# Calculate Accuracy\n",
    "accuracy = accuracy_score(y_test, y_pred)\n",
    "print(f\"Accuracy: {accuracy:.4f}\")\n",
    "\n",
    "# Classification Report\n",
    "print(\"Classification Report:\")\n",
    "print(classification_report(y_test, y_pred))\n",
    "\n",
    "# Confusion Matrix\n",
    "conf_matrix = confusion_matrix(y_test, y_pred)\n",
    "print(\"Confusion Matrix:\")\n",
    "print(conf_matrix)\n",
    "\n",
    "# Precision, Recall, F1 Score for each class (Offense Type)\n",
    "precision = precision_score(y_test, y_pred, average='weighted')\n",
    "recall = recall_score(y_test, y_pred, average='weighted')\n",
    "f1 = f1_score(y_test, y_pred, average='weighted')\n",
    "\n",
    "print(f\"Precision: {precision:.4f}\")\n",
    "print(f\"Recall: {recall:.4f}\")\n",
    "print(f\"F1 Score: {f1:.4f}\")\n"
   ]
  },
  {
   "cell_type": "markdown",
   "id": "db60d60e",
   "metadata": {
    "papermill": {
     "duration": 0.011455,
     "end_time": "2025-04-10T01:00:49.137909",
     "exception": false,
     "start_time": "2025-04-10T01:00:49.126454",
     "status": "completed"
    },
    "tags": []
   },
   "source": [
    "#### For Logistic Regression (Coefficient Interpretation)\n",
    "\n",
    "For Logistic Regression, the model coefficients can help us understand how each feature affects the likelihood of an offense happening. A positive coefficient indicates a feature increases the likelihood of the offense, and a negative coefficient indicates the opposite."
   ]
  },
  {
   "cell_type": "code",
   "execution_count": 25,
   "id": "f2cc52a3",
   "metadata": {
    "execution": {
     "iopub.execute_input": "2025-04-10T01:00:49.162628Z",
     "iopub.status.busy": "2025-04-10T01:00:49.161902Z",
     "iopub.status.idle": "2025-04-10T01:00:49.166984Z",
     "shell.execute_reply": "2025-04-10T01:00:49.166331Z"
    },
    "papermill": {
     "duration": 0.018665,
     "end_time": "2025-04-10T01:00:49.167994",
     "exception": false,
     "start_time": "2025-04-10T01:00:49.149329",
     "status": "completed"
    },
    "tags": []
   },
   "outputs": [],
   "source": [
    "if isinstance(best_model, LogisticRegression):\n",
    "    # Logistic regression coefficients\n",
    "    coef_df = pd.DataFrame({\n",
    "        'Feature': X.columns,\n",
    "        'Coefficient': best_model.coef_[0]\n",
    "    })\n",
    "    coef_df['AbsCoefficient'] = coef_df['Coefficient'].abs()\n",
    "    coef_df = coef_df.sort_values(by='AbsCoefficient', ascending=False)\n",
    "    \n",
    "    # Plotting the coefficients\n",
    "    plt.figure(figsize=(10, 6))\n",
    "    sns.barplot(x='AbsCoefficient', y='Feature', data=coef_df)\n",
    "    plt.title(\"Logistic Regression Coefficients Impact\")\n",
    "    plt.show()\n",
    "\n",
    "    # Print the top 5 most impactful features (by absolute coefficient value)\n",
    "    print(\"Top 5 most impactful features based on coefficients:\")\n",
    "    print(coef_df.head())\n"
   ]
  },
  {
   "cell_type": "markdown",
   "id": "107f4583",
   "metadata": {
    "papermill": {
     "duration": 0.0114,
     "end_time": "2025-04-10T01:00:49.191163",
     "exception": false,
     "start_time": "2025-04-10T01:00:49.179763",
     "status": "completed"
    },
    "tags": []
   },
   "source": [
    "Explanation of Output:\n",
    "\n",
    "Feature Importance (Random Forest/Decision Tree): The bar plot will show how important each feature is in the decision-making process. Features at the top of the list are the most influential in predicting the occurrence of offenses.\n",
    "\n",
    "Logistic Regression Coefficients: The bar plot will show the magnitude of the coefficients for each feature. Features with larger absolute values (either positive or negative) have a stronger impact on the model’s predictions. Positive coefficients increase the probability of an offense, while negative coefficients decrease it."
   ]
  },
  {
   "cell_type": "markdown",
   "id": "3acc7ac3",
   "metadata": {
    "papermill": {
     "duration": 0.01149,
     "end_time": "2025-04-10T01:00:49.214190",
     "exception": false,
     "start_time": "2025-04-10T01:00:49.202700",
     "status": "completed"
    },
    "tags": []
   },
   "source": []
  }
 ],
 "metadata": {
  "kernelspec": {
   "display_name": "Python 3",
   "language": "python",
   "name": "python3"
  },
  "language_info": {
   "codemirror_mode": {
    "name": "ipython",
    "version": 3
   },
   "file_extension": ".py",
   "mimetype": "text/x-python",
   "name": "python",
   "nbconvert_exporter": "python",
   "pygments_lexer": "ipython3",
   "version": "3.9.21"
  },
  "papermill": {
   "default_parameters": {},
   "duration": 80.663567,
   "end_time": "2025-04-10T01:00:49.743200",
   "environment_variables": {},
   "exception": null,
   "input_path": "notebook/Crime Data.ipynb",
   "output_path": "notebook/Crime Data_output.ipynb",
   "parameters": {},
   "start_time": "2025-04-10T00:59:29.079633",
   "version": "2.6.0"
  }
 },
 "nbformat": 4,
 "nbformat_minor": 5
}