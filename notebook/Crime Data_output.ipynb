{
 "cells": [
  {
   "cell_type": "markdown",
   "id": "8b724d3b",
   "metadata": {
    "papermill": {
     "duration": 0.004352,
     "end_time": "2025-08-14T01:06:12.476926",
     "exception": false,
     "start_time": "2025-08-14T01:06:12.472574",
     "status": "completed"
    },
    "tags": []
   },
   "source": [
    "# Charlottesville Open Data Porttal: Crime Data"
   ]
  },
  {
   "cell_type": "markdown",
   "id": "46da55c0",
   "metadata": {
    "papermill": {
     "duration": 0.00332,
     "end_time": "2025-08-14T01:06:12.483845",
     "exception": false,
     "start_time": "2025-08-14T01:06:12.480525",
     "status": "completed"
    },
    "tags": []
   },
   "source": [
    "## Import Relevant Librarires & Set WD"
   ]
  },
  {
   "cell_type": "code",
   "execution_count": 1,
   "id": "2a27ebbc",
   "metadata": {
    "execution": {
     "iopub.execute_input": "2025-08-14T01:06:12.491561Z",
     "iopub.status.busy": "2025-08-14T01:06:12.491294Z",
     "iopub.status.idle": "2025-08-14T01:06:13.109574Z",
     "shell.execute_reply": "2025-08-14T01:06:13.108810Z"
    },
    "papermill": {
     "duration": 0.623868,
     "end_time": "2025-08-14T01:06:13.110977",
     "exception": false,
     "start_time": "2025-08-14T01:06:12.487109",
     "status": "completed"
    },
    "tags": []
   },
   "outputs": [],
   "source": [
    "import requests\n",
    "import pandas as pd\n",
    "import numpy as np\n",
    "import pickle\n",
    "import googlemaps\n",
    "import plotly.express as px\n",
    "from geopy.geocoders import Nominatim\n",
    "import time\n",
    "from dotenv import load_dotenv\n",
    "import os\n",
    "\n",
    "env_path = os.path.join(\"..\", \".env\")\n",
    "#print(\"Looking for .env file at:\", os.path.abspath(env_path))\n",
    "load_dotenv(dotenv_path=env_path)\n",
    "\n",
    "# Retrieve the variables\n",
    "GOOGLE_API_KEY = os.getenv(\"GOOGLE_API_KEY\")\n",
    "WORKING_DIR = os.getenv(\"WORKING_DIR\")\n",
    "\n",
    "if GOOGLE_API_KEY is None or WORKING_DIR is None:\n",
    "    raise RuntimeError(\"No configuration found. Please ensure that your .env file exists with the required variables, or create a local config.py file.\")\n",
    "\n",
    "#print(\"Google API Key:\", GOOGLE_API_KEY)\n",
    "#print(\"Working Directory:\", WORKING_DIR)"
   ]
  },
  {
   "cell_type": "markdown",
   "id": "7ad235a1",
   "metadata": {
    "papermill": {
     "duration": 0.003371,
     "end_time": "2025-08-14T01:06:13.119064",
     "exception": false,
     "start_time": "2025-08-14T01:06:13.115693",
     "status": "completed"
    },
    "tags": []
   },
   "source": [
    "## Import Data\n",
    "\n",
    "URL: https://opendata.charlottesville.org/datasets/charlottesville::crime-data/about"
   ]
  },
  {
   "cell_type": "code",
   "execution_count": 2,
   "id": "bec0aaa9",
   "metadata": {
    "execution": {
     "iopub.execute_input": "2025-08-14T01:06:13.126736Z",
     "iopub.status.busy": "2025-08-14T01:06:13.126438Z",
     "iopub.status.idle": "2025-08-14T01:07:23.637725Z",
     "shell.execute_reply": "2025-08-14T01:07:23.637033Z"
    },
    "papermill": {
     "duration": 70.519252,
     "end_time": "2025-08-14T01:07:23.641569",
     "exception": false,
     "start_time": "2025-08-14T01:06:13.122317",
     "status": "completed"
    },
    "tags": []
   },
   "outputs": [
    {
     "name": "stdout",
     "output_type": "stream",
     "text": [
      "Total records imported: 25645\n"
     ]
    }
   ],
   "source": [
    "# Define the endpoint and initial parameters.\n",
    "url = \"https://gisweb.charlottesville.org/arcgis/rest/services/OpenData_2/MapServer/6/query\"\n",
    "params = {\n",
    "    \"where\": \"1=1\",\n",
    "    \"outFields\": \"*\",\n",
    "    \"outSR\": 4326,\n",
    "    \"f\": \"json\",\n",
    "    \"resultOffset\": 0,       # Starting index for results\n",
    "    \"resultRecordCount\": 10000  # Maximum records per batch (if allowed by the API)\n",
    "}\n",
    "\n",
    "records = []\n",
    "\n",
    "while True:\n",
    "    response = requests.get(url, params=params)\n",
    "    response.raise_for_status()\n",
    "    data = response.json()\n",
    "    \n",
    "    # Get the current batch of features.\n",
    "    features = data.get(\"features\", [])\n",
    "    if not features:\n",
    "        break\n",
    "\n",
    "    # Extract the attributes from the features.\n",
    "    batch_records = [feature.get(\"attributes\", {}) for feature in features]\n",
    "    records.extend(batch_records)\n",
    "    \n",
    "    # If the batch size is less than the requested count, we reached the end.\n",
    "    if len(features) < params[\"resultRecordCount\"]:\n",
    "        break\n",
    "\n",
    "    # Update the resultOffset for the next batch.\n",
    "    params[\"resultOffset\"] += params[\"resultRecordCount\"]\n",
    "\n",
    "# Create a DataFrame from the combined records.\n",
    "df = pd.DataFrame(records)\n",
    "print(\"Total records imported:\", len(df))\n"
   ]
  },
  {
   "cell_type": "code",
   "execution_count": 3,
   "id": "415c4f7c",
   "metadata": {
    "execution": {
     "iopub.execute_input": "2025-08-14T01:07:23.649360Z",
     "iopub.status.busy": "2025-08-14T01:07:23.649140Z",
     "iopub.status.idle": "2025-08-14T01:07:23.661338Z",
     "shell.execute_reply": "2025-08-14T01:07:23.660762Z"
    },
    "papermill": {
     "duration": 0.017326,
     "end_time": "2025-08-14T01:07:23.662378",
     "exception": false,
     "start_time": "2025-08-14T01:07:23.645052",
     "status": "completed"
    },
    "tags": []
   },
   "outputs": [
    {
     "data": {
      "text/html": [
       "<div>\n",
       "<style scoped>\n",
       "    .dataframe tbody tr th:only-of-type {\n",
       "        vertical-align: middle;\n",
       "    }\n",
       "\n",
       "    .dataframe tbody tr th {\n",
       "        vertical-align: top;\n",
       "    }\n",
       "\n",
       "    .dataframe thead th {\n",
       "        text-align: right;\n",
       "    }\n",
       "</style>\n",
       "<table border=\"1\" class=\"dataframe\">\n",
       "  <thead>\n",
       "    <tr style=\"text-align: right;\">\n",
       "      <th></th>\n",
       "      <th>RecordID</th>\n",
       "      <th>Offense</th>\n",
       "      <th>IncidentID</th>\n",
       "      <th>BlockNumber</th>\n",
       "      <th>StreetName</th>\n",
       "      <th>Agency</th>\n",
       "      <th>DateReported</th>\n",
       "      <th>HourReported</th>\n",
       "      <th>ReportingOfficer</th>\n",
       "    </tr>\n",
       "  </thead>\n",
       "  <tbody>\n",
       "    <tr>\n",
       "      <th>0</th>\n",
       "      <td>1</td>\n",
       "      <td>Larceny - Shoplifitng</td>\n",
       "      <td>202500028431</td>\n",
       "      <td>100</td>\n",
       "      <td>W MAIN ST</td>\n",
       "      <td>CPD</td>\n",
       "      <td>1754946777000</td>\n",
       "      <td>1712</td>\n",
       "      <td>Benbow, Lauren</td>\n",
       "    </tr>\n",
       "    <tr>\n",
       "      <th>1</th>\n",
       "      <td>2</td>\n",
       "      <td>Larceny - Of Veh Parts/Access</td>\n",
       "      <td>202500028412</td>\n",
       "      <td></td>\n",
       "      <td>DICE ST @ 4TH ST SW</td>\n",
       "      <td>CPD</td>\n",
       "      <td>1754940201000</td>\n",
       "      <td>1523</td>\n",
       "      <td>Essex, Dominique</td>\n",
       "    </tr>\n",
       "    <tr>\n",
       "      <th>2</th>\n",
       "      <td>3</td>\n",
       "      <td>Larceny - All Other</td>\n",
       "      <td>202500028407</td>\n",
       "      <td>300</td>\n",
       "      <td>7TH ST SW</td>\n",
       "      <td>CPD</td>\n",
       "      <td>1754937436000</td>\n",
       "      <td>1437</td>\n",
       "      <td>Lowry, Ryan</td>\n",
       "    </tr>\n",
       "    <tr>\n",
       "      <th>3</th>\n",
       "      <td>4</td>\n",
       "      <td>Hit and Run</td>\n",
       "      <td>202500028401</td>\n",
       "      <td>700</td>\n",
       "      <td>CYNTHIANNA AVE</td>\n",
       "      <td>CPD</td>\n",
       "      <td>1754932011000</td>\n",
       "      <td>1306</td>\n",
       "      <td>Love-Baker, Sydney</td>\n",
       "    </tr>\n",
       "    <tr>\n",
       "      <th>4</th>\n",
       "      <td>5</td>\n",
       "      <td>Hit and Run</td>\n",
       "      <td>202500028391</td>\n",
       "      <td></td>\n",
       "      <td>EMMET ST N @ 250 BYPASS E ON RAMP</td>\n",
       "      <td>CPD</td>\n",
       "      <td>1754922831000</td>\n",
       "      <td>1033</td>\n",
       "      <td>Love-Baker, Sydney</td>\n",
       "    </tr>\n",
       "  </tbody>\n",
       "</table>\n",
       "</div>"
      ],
      "text/plain": [
       "   RecordID                        Offense    IncidentID BlockNumber  \\\n",
       "0         1          Larceny - Shoplifitng  202500028431         100   \n",
       "1         2  Larceny - Of Veh Parts/Access  202500028412               \n",
       "2         3            Larceny - All Other  202500028407         300   \n",
       "3         4                    Hit and Run  202500028401         700   \n",
       "4         5                    Hit and Run  202500028391               \n",
       "\n",
       "                          StreetName Agency   DateReported HourReported  \\\n",
       "0                          W MAIN ST    CPD  1754946777000         1712   \n",
       "1                DICE ST @ 4TH ST SW    CPD  1754940201000         1523   \n",
       "2                          7TH ST SW    CPD  1754937436000         1437   \n",
       "3                     CYNTHIANNA AVE    CPD  1754932011000         1306   \n",
       "4  EMMET ST N @ 250 BYPASS E ON RAMP    CPD  1754922831000         1033   \n",
       "\n",
       "     ReportingOfficer  \n",
       "0      Benbow, Lauren  \n",
       "1    Essex, Dominique  \n",
       "2         Lowry, Ryan  \n",
       "3  Love-Baker, Sydney  \n",
       "4  Love-Baker, Sydney  "
      ]
     },
     "execution_count": 3,
     "metadata": {},
     "output_type": "execute_result"
    }
   ],
   "source": [
    "df.head()"
   ]
  },
  {
   "cell_type": "code",
   "execution_count": 4,
   "id": "73290414",
   "metadata": {
    "execution": {
     "iopub.execute_input": "2025-08-14T01:07:23.670564Z",
     "iopub.status.busy": "2025-08-14T01:07:23.670327Z",
     "iopub.status.idle": "2025-08-14T01:07:23.674642Z",
     "shell.execute_reply": "2025-08-14T01:07:23.674145Z"
    },
    "papermill": {
     "duration": 0.009383,
     "end_time": "2025-08-14T01:07:23.675583",
     "exception": false,
     "start_time": "2025-08-14T01:07:23.666200",
     "status": "completed"
    },
    "tags": []
   },
   "outputs": [
    {
     "data": {
      "text/plain": [
       "Index(['RecordID', 'Offense', 'IncidentID', 'BlockNumber', 'StreetName',\n",
       "       'Agency', 'DateReported', 'HourReported', 'ReportingOfficer'],\n",
       "      dtype='object')"
      ]
     },
     "execution_count": 4,
     "metadata": {},
     "output_type": "execute_result"
    }
   ],
   "source": [
    "df.columns"
   ]
  },
  {
   "cell_type": "code",
   "execution_count": 5,
   "id": "196d088d",
   "metadata": {
    "execution": {
     "iopub.execute_input": "2025-08-14T01:07:23.683908Z",
     "iopub.status.busy": "2025-08-14T01:07:23.683719Z",
     "iopub.status.idle": "2025-08-14T01:07:23.708034Z",
     "shell.execute_reply": "2025-08-14T01:07:23.707448Z"
    },
    "papermill": {
     "duration": 0.029473,
     "end_time": "2025-08-14T01:07:23.709059",
     "exception": false,
     "start_time": "2025-08-14T01:07:23.679586",
     "status": "completed"
    },
    "tags": []
   },
   "outputs": [
    {
     "name": "stdout",
     "output_type": "stream",
     "text": [
      "<class 'pandas.core.frame.DataFrame'>\n",
      "RangeIndex: 25645 entries, 0 to 25644\n",
      "Data columns (total 9 columns):\n",
      " #   Column            Non-Null Count  Dtype \n",
      "---  ------            --------------  ----- \n",
      " 0   RecordID          25645 non-null  int64 \n",
      " 1   Offense           25645 non-null  object\n",
      " 2   IncidentID        25645 non-null  object\n",
      " 3   BlockNumber       25645 non-null  object\n",
      " 4   StreetName        25645 non-null  object\n",
      " 5   Agency            25645 non-null  object\n",
      " 6   DateReported      25645 non-null  int64 \n",
      " 7   HourReported      25645 non-null  object\n",
      " 8   ReportingOfficer  25630 non-null  object\n",
      "dtypes: int64(2), object(7)\n",
      "memory usage: 1.8+ MB\n"
     ]
    }
   ],
   "source": [
    "df.info()"
   ]
  },
  {
   "cell_type": "markdown",
   "id": "fc467fe7",
   "metadata": {
    "papermill": {
     "duration": 0.003729,
     "end_time": "2025-08-14T01:07:23.716786",
     "exception": false,
     "start_time": "2025-08-14T01:07:23.713057",
     "status": "completed"
    },
    "tags": []
   },
   "source": [
    "### Missing Values"
   ]
  },
  {
   "cell_type": "code",
   "execution_count": 6,
   "id": "448c4e4d",
   "metadata": {
    "execution": {
     "iopub.execute_input": "2025-08-14T01:07:23.724999Z",
     "iopub.status.busy": "2025-08-14T01:07:23.724756Z",
     "iopub.status.idle": "2025-08-14T01:07:23.749835Z",
     "shell.execute_reply": "2025-08-14T01:07:23.749193Z"
    },
    "papermill": {
     "duration": 0.030518,
     "end_time": "2025-08-14T01:07:23.750954",
     "exception": false,
     "start_time": "2025-08-14T01:07:23.720436",
     "status": "completed"
    },
    "tags": []
   },
   "outputs": [
    {
     "name": "stdout",
     "output_type": "stream",
     "text": [
      "                  MissingCount  MissingPercentage\n",
      "RecordID                     0               0.00\n",
      "Offense                      0               0.00\n",
      "IncidentID                   0               0.00\n",
      "BlockNumber                  0               0.00\n",
      "StreetName                   0               0.00\n",
      "Agency                       0               0.00\n",
      "DateReported                 0               0.00\n",
      "HourReported                 0               0.00\n",
      "ReportingOfficer            15               0.06\n"
     ]
    }
   ],
   "source": [
    "def missing_percentage(df):\n",
    "    \"\"\"\n",
    "    Returns a DataFrame with the count and percentage of missing values for each column.\n",
    "    \n",
    "    Parameters:\n",
    "        df (pd.DataFrame): The input DataFrame.\n",
    "    \n",
    "    Returns:\n",
    "        pd.DataFrame: A DataFrame with columns 'MissingCount' and 'MissingPercentage'.\n",
    "    \"\"\"\n",
    "    total_rows = len(df)\n",
    "    missing_count = df.isnull().sum()\n",
    "    missing_percent = (missing_count / total_rows) * 100\n",
    "    \n",
    "    result = pd.DataFrame({\n",
    "        'MissingCount': missing_count,\n",
    "        'MissingPercentage': missing_percent.round(2)\n",
    "    })\n",
    "    \n",
    "    return result\n",
    "\n",
    "# Example usage:\n",
    "missing_info = missing_percentage(df)\n",
    "print(missing_info)\n"
   ]
  },
  {
   "cell_type": "markdown",
   "id": "677f6b85",
   "metadata": {
    "papermill": {
     "duration": 0.003928,
     "end_time": "2025-08-14T01:07:23.759221",
     "exception": false,
     "start_time": "2025-08-14T01:07:23.755293",
     "status": "completed"
    },
    "tags": []
   },
   "source": [
    "## Data Preparation"
   ]
  },
  {
   "cell_type": "markdown",
   "id": "95e63dfe",
   "metadata": {
    "papermill": {
     "duration": 0.003746,
     "end_time": "2025-08-14T01:07:23.766834",
     "exception": false,
     "start_time": "2025-08-14T01:07:23.763088",
     "status": "completed"
    },
    "tags": []
   },
   "source": [
    "### Data Conversion"
   ]
  },
  {
   "cell_type": "code",
   "execution_count": 7,
   "id": "faec5327",
   "metadata": {
    "execution": {
     "iopub.execute_input": "2025-08-14T01:07:23.775666Z",
     "iopub.status.busy": "2025-08-14T01:07:23.775392Z",
     "iopub.status.idle": "2025-08-14T01:07:24.141635Z",
     "shell.execute_reply": "2025-08-14T01:07:24.140937Z"
    },
    "papermill": {
     "duration": 0.371965,
     "end_time": "2025-08-14T01:07:24.142668",
     "exception": false,
     "start_time": "2025-08-14T01:07:23.770703",
     "status": "completed"
    },
    "tags": []
   },
   "outputs": [
    {
     "data": {
      "text/html": [
       "<div>\n",
       "<style scoped>\n",
       "    .dataframe tbody tr th:only-of-type {\n",
       "        vertical-align: middle;\n",
       "    }\n",
       "\n",
       "    .dataframe tbody tr th {\n",
       "        vertical-align: top;\n",
       "    }\n",
       "\n",
       "    .dataframe thead th {\n",
       "        text-align: right;\n",
       "    }\n",
       "</style>\n",
       "<table border=\"1\" class=\"dataframe\">\n",
       "  <thead>\n",
       "    <tr style=\"text-align: right;\">\n",
       "      <th></th>\n",
       "      <th>RecordID</th>\n",
       "      <th>Offense</th>\n",
       "      <th>IncidentID</th>\n",
       "      <th>BlockNumber</th>\n",
       "      <th>StreetName</th>\n",
       "      <th>Agency</th>\n",
       "      <th>HourReported</th>\n",
       "      <th>ReportingOfficer</th>\n",
       "      <th>Date</th>\n",
       "      <th>DateString</th>\n",
       "      <th>DayOfWeek</th>\n",
       "      <th>Weekend</th>\n",
       "      <th>Season</th>\n",
       "      <th>HourAMPM</th>\n",
       "      <th>TimeOfDay</th>\n",
       "    </tr>\n",
       "  </thead>\n",
       "  <tbody>\n",
       "    <tr>\n",
       "      <th>0</th>\n",
       "      <td>1</td>\n",
       "      <td>Larceny - Shoplifitng</td>\n",
       "      <td>202500028431</td>\n",
       "      <td>100</td>\n",
       "      <td>W MAIN ST</td>\n",
       "      <td>CPD</td>\n",
       "      <td>1712</td>\n",
       "      <td>Benbow, Lauren</td>\n",
       "      <td>2025-08-11 17:12:57</td>\n",
       "      <td>2025-08-11 05:12:57 PM</td>\n",
       "      <td>Monday</td>\n",
       "      <td>False</td>\n",
       "      <td>Summer</td>\n",
       "      <td>05:12 PM</td>\n",
       "      <td>Evening</td>\n",
       "    </tr>\n",
       "    <tr>\n",
       "      <th>1</th>\n",
       "      <td>2</td>\n",
       "      <td>Larceny - Of Veh Parts/Access</td>\n",
       "      <td>202500028412</td>\n",
       "      <td></td>\n",
       "      <td>DICE ST @ 4TH ST SW</td>\n",
       "      <td>CPD</td>\n",
       "      <td>1523</td>\n",
       "      <td>Essex, Dominique</td>\n",
       "      <td>2025-08-11 15:23:21</td>\n",
       "      <td>2025-08-11 03:23:21 PM</td>\n",
       "      <td>Monday</td>\n",
       "      <td>False</td>\n",
       "      <td>Summer</td>\n",
       "      <td>03:23 PM</td>\n",
       "      <td>Afternoon</td>\n",
       "    </tr>\n",
       "    <tr>\n",
       "      <th>2</th>\n",
       "      <td>3</td>\n",
       "      <td>Larceny - All Other</td>\n",
       "      <td>202500028407</td>\n",
       "      <td>300</td>\n",
       "      <td>7TH ST SW</td>\n",
       "      <td>CPD</td>\n",
       "      <td>1437</td>\n",
       "      <td>Lowry, Ryan</td>\n",
       "      <td>2025-08-11 14:37:16</td>\n",
       "      <td>2025-08-11 02:37:16 PM</td>\n",
       "      <td>Monday</td>\n",
       "      <td>False</td>\n",
       "      <td>Summer</td>\n",
       "      <td>02:37 PM</td>\n",
       "      <td>Afternoon</td>\n",
       "    </tr>\n",
       "    <tr>\n",
       "      <th>3</th>\n",
       "      <td>4</td>\n",
       "      <td>Hit and Run</td>\n",
       "      <td>202500028401</td>\n",
       "      <td>700</td>\n",
       "      <td>CYNTHIANNA AVE</td>\n",
       "      <td>CPD</td>\n",
       "      <td>1306</td>\n",
       "      <td>Love-Baker, Sydney</td>\n",
       "      <td>2025-08-11 13:06:51</td>\n",
       "      <td>2025-08-11 01:06:51 PM</td>\n",
       "      <td>Monday</td>\n",
       "      <td>False</td>\n",
       "      <td>Summer</td>\n",
       "      <td>01:06 PM</td>\n",
       "      <td>Afternoon</td>\n",
       "    </tr>\n",
       "    <tr>\n",
       "      <th>4</th>\n",
       "      <td>5</td>\n",
       "      <td>Hit and Run</td>\n",
       "      <td>202500028391</td>\n",
       "      <td></td>\n",
       "      <td>EMMET ST N @ 250 BYPASS E ON RAMP</td>\n",
       "      <td>CPD</td>\n",
       "      <td>1033</td>\n",
       "      <td>Love-Baker, Sydney</td>\n",
       "      <td>2025-08-11 10:33:51</td>\n",
       "      <td>2025-08-11 10:33:51 AM</td>\n",
       "      <td>Monday</td>\n",
       "      <td>False</td>\n",
       "      <td>Summer</td>\n",
       "      <td>10:33 AM</td>\n",
       "      <td>Morning</td>\n",
       "    </tr>\n",
       "  </tbody>\n",
       "</table>\n",
       "</div>"
      ],
      "text/plain": [
       "   RecordID                        Offense    IncidentID BlockNumber  \\\n",
       "0         1          Larceny - Shoplifitng  202500028431         100   \n",
       "1         2  Larceny - Of Veh Parts/Access  202500028412               \n",
       "2         3            Larceny - All Other  202500028407         300   \n",
       "3         4                    Hit and Run  202500028401         700   \n",
       "4         5                    Hit and Run  202500028391               \n",
       "\n",
       "                          StreetName Agency HourReported    ReportingOfficer  \\\n",
       "0                          W MAIN ST    CPD         1712      Benbow, Lauren   \n",
       "1                DICE ST @ 4TH ST SW    CPD         1523    Essex, Dominique   \n",
       "2                          7TH ST SW    CPD         1437         Lowry, Ryan   \n",
       "3                     CYNTHIANNA AVE    CPD         1306  Love-Baker, Sydney   \n",
       "4  EMMET ST N @ 250 BYPASS E ON RAMP    CPD         1033  Love-Baker, Sydney   \n",
       "\n",
       "                 Date              DateString DayOfWeek  Weekend  Season  \\\n",
       "0 2025-08-11 17:12:57  2025-08-11 05:12:57 PM    Monday    False  Summer   \n",
       "1 2025-08-11 15:23:21  2025-08-11 03:23:21 PM    Monday    False  Summer   \n",
       "2 2025-08-11 14:37:16  2025-08-11 02:37:16 PM    Monday    False  Summer   \n",
       "3 2025-08-11 13:06:51  2025-08-11 01:06:51 PM    Monday    False  Summer   \n",
       "4 2025-08-11 10:33:51  2025-08-11 10:33:51 AM    Monday    False  Summer   \n",
       "\n",
       "   HourAMPM  TimeOfDay  \n",
       "0  05:12 PM    Evening  \n",
       "1  03:23 PM  Afternoon  \n",
       "2  02:37 PM  Afternoon  \n",
       "3  01:06 PM  Afternoon  \n",
       "4  10:33 AM    Morning  "
      ]
     },
     "execution_count": 7,
     "metadata": {},
     "output_type": "execute_result"
    }
   ],
   "source": [
    "def convert_and_categorize_datereported(df, col='DateReported'):\n",
    "    \"\"\"\n",
    "    Converts an epoch (in milliseconds) date column into a timezone-aware datetime,\n",
    "    converts it to Eastern Time, and then creates columns for day-of-week, weekend flag,\n",
    "    season, 12-hour formatted time, and time-of-day. Keeps both a real datetime column\n",
    "    (Date) and a string representation (DateString).\n",
    "    \"\"\"\n",
    "    import pandas as pd\n",
    "\n",
    "    # Convert the epoch timestamp to a pandas datetime object as UTC, then convert to US/Eastern.\n",
    "    df[\"DateReported_dt\"] = (\n",
    "        pd.to_datetime(df[col], unit=\"ms\", errors=\"coerce\", utc=True)\n",
    "        .dt.tz_convert(\"US/Eastern\")\n",
    "    )\n",
    "    \n",
    "    # Create a true datetime column (remove timezone if you prefer naive datetime)\n",
    "    df[\"Date\"] = df[\"DateReported_dt\"].dt.tz_localize(None)\n",
    "\n",
    "    # Optionally, create a separate string-formatted column\n",
    "    df[\"DateString\"] = df[\"DateReported_dt\"].dt.strftime(\"%Y-%m-%d %I:%M:%S %p\")\n",
    "    \n",
    "    # DayOfWeek\n",
    "    df[\"DayOfWeek\"] = df[\"DateReported_dt\"].dt.day_name()\n",
    "    \n",
    "    # Weekend\n",
    "    df[\"Weekend\"] = df[\"DayOfWeek\"].isin([\"Saturday\", \"Sunday\"])\n",
    "    \n",
    "    # Helper function to determine the season\n",
    "    def get_season(dt):\n",
    "        month = dt.month\n",
    "        day = dt.day\n",
    "        # Approximate Northern Hemisphere season boundaries:\n",
    "        if (month == 12 and day >= 21) or (month < 3) or (month == 3 and day < 20):\n",
    "            return \"Winter\"\n",
    "        elif (month == 3 and day >= 20) or (month < 6) or (month == 6 and day < 21):\n",
    "            return \"Spring\"\n",
    "        elif (month == 6 and day >= 21) or (month < 9) or (month == 9 and day < 22):\n",
    "            return \"Summer\"\n",
    "        else:\n",
    "            return \"Autumn\"\n",
    "    \n",
    "    df[\"Season\"] = df[\"DateReported_dt\"].apply(get_season)\n",
    "    \n",
    "    # 12-hour formatted time (HourAMPM)\n",
    "    df[\"HourAMPM\"] = df[\"DateReported_dt\"].dt.strftime(\"%I:%M %p\")\n",
    "    \n",
    "    # Extract hour (0-23) for time-of-day\n",
    "    df[\"HourValue\"] = df[\"DateReported_dt\"].dt.hour\n",
    "    \n",
    "    def time_of_day(hour):\n",
    "        if pd.isnull(hour):\n",
    "            return None\n",
    "        if 5 <= hour < 12:\n",
    "            return \"Morning\"\n",
    "        elif 12 <= hour < 17:\n",
    "            return \"Afternoon\"\n",
    "        elif 17 <= hour < 21:\n",
    "            return \"Evening\"\n",
    "        else:\n",
    "            return \"Night\"\n",
    "    \n",
    "    df[\"TimeOfDay\"] = df[\"HourValue\"].apply(time_of_day)\n",
    "    \n",
    "    # Drop columns you no longer need\n",
    "    df.drop(columns=[col, \"DateReported_dt\", \"HourValue\"], inplace=True)\n",
    "    \n",
    "    return df\n",
    "\n",
    "# Example usage:\n",
    "df = convert_and_categorize_datereported(df)\n",
    "df.head()\n"
   ]
  },
  {
   "cell_type": "code",
   "execution_count": 8,
   "id": "3ca1667b",
   "metadata": {
    "execution": {
     "iopub.execute_input": "2025-08-14T01:07:24.152078Z",
     "iopub.status.busy": "2025-08-14T01:07:24.151828Z",
     "iopub.status.idle": "2025-08-14T01:07:24.181978Z",
     "shell.execute_reply": "2025-08-14T01:07:24.181398Z"
    },
    "papermill": {
     "duration": 0.036002,
     "end_time": "2025-08-14T01:07:24.183095",
     "exception": false,
     "start_time": "2025-08-14T01:07:24.147093",
     "status": "completed"
    },
    "tags": []
   },
   "outputs": [
    {
     "name": "stdout",
     "output_type": "stream",
     "text": [
      "<class 'pandas.core.frame.DataFrame'>\n",
      "RangeIndex: 25645 entries, 0 to 25644\n",
      "Data columns (total 15 columns):\n",
      " #   Column            Non-Null Count  Dtype         \n",
      "---  ------            --------------  -----         \n",
      " 0   RecordID          25645 non-null  int64         \n",
      " 1   Offense           25645 non-null  object        \n",
      " 2   IncidentID        25645 non-null  object        \n",
      " 3   BlockNumber       25645 non-null  object        \n",
      " 4   StreetName        25645 non-null  object        \n",
      " 5   Agency            25645 non-null  object        \n",
      " 6   HourReported      25645 non-null  object        \n",
      " 7   ReportingOfficer  25630 non-null  object        \n",
      " 8   Date              25645 non-null  datetime64[ns]\n",
      " 9   DateString        25645 non-null  object        \n",
      " 10  DayOfWeek         25645 non-null  object        \n",
      " 11  Weekend           25645 non-null  bool          \n",
      " 12  Season            25645 non-null  object        \n",
      " 13  HourAMPM          25645 non-null  object        \n",
      " 14  TimeOfDay         25645 non-null  object        \n",
      "dtypes: bool(1), datetime64[ns](1), int64(1), object(12)\n",
      "memory usage: 2.8+ MB\n"
     ]
    }
   ],
   "source": [
    "df.info()"
   ]
  },
  {
   "cell_type": "markdown",
   "id": "ed8a55ed",
   "metadata": {
    "papermill": {
     "duration": 0.00406,
     "end_time": "2025-08-14T01:07:24.191646",
     "exception": false,
     "start_time": "2025-08-14T01:07:24.187586",
     "status": "completed"
    },
    "tags": []
   },
   "source": [
    "### Coordinates"
   ]
  },
  {
   "cell_type": "code",
   "execution_count": 9,
   "id": "ec715fc6",
   "metadata": {
    "execution": {
     "iopub.execute_input": "2025-08-14T01:07:24.200768Z",
     "iopub.status.busy": "2025-08-14T01:07:24.200482Z",
     "iopub.status.idle": "2025-08-14T01:07:24.372181Z",
     "shell.execute_reply": "2025-08-14T01:07:24.371580Z"
    },
    "papermill": {
     "duration": 0.177495,
     "end_time": "2025-08-14T01:07:24.373215",
     "exception": false,
     "start_time": "2025-08-14T01:07:24.195720",
     "status": "completed"
    },
    "tags": []
   },
   "outputs": [
    {
     "name": "stdout",
     "output_type": "stream",
     "text": [
      "Loaded geocode cache.\n",
      "Error geocoding  DICE ST @ 4TH ST SW: REQUEST_DENIED (You must enable Billing on the Google Cloud Project at https://console.cloud.google.com/project/_/billing/enable Learn more at https://developers.google.com/maps/gmp-get-started)\n",
      "Geocoded  DICE ST @ 4TH ST SW: None, None\n",
      "Error geocoding  EMMET ST N @ 250 BYPASS E ON RAMP: REQUEST_DENIED (You must enable Billing on the Google Cloud Project at https://console.cloud.google.com/project/_/billing/enable Learn more at https://developers.google.com/maps/gmp-get-started)\n",
      "Geocoded  EMMET ST N @ 250 BYPASS E ON RAMP: None, None\n",
      "Geocode cache updated and saved.\n"
     ]
    },
    {
     "data": {
      "text/html": [
       "<div>\n",
       "<style scoped>\n",
       "    .dataframe tbody tr th:only-of-type {\n",
       "        vertical-align: middle;\n",
       "    }\n",
       "\n",
       "    .dataframe tbody tr th {\n",
       "        vertical-align: top;\n",
       "    }\n",
       "\n",
       "    .dataframe thead th {\n",
       "        text-align: right;\n",
       "    }\n",
       "</style>\n",
       "<table border=\"1\" class=\"dataframe\">\n",
       "  <thead>\n",
       "    <tr style=\"text-align: right;\">\n",
       "      <th></th>\n",
       "      <th>RecordID</th>\n",
       "      <th>Offense</th>\n",
       "      <th>IncidentID</th>\n",
       "      <th>BlockNumber</th>\n",
       "      <th>StreetName</th>\n",
       "      <th>Agency</th>\n",
       "      <th>HourReported</th>\n",
       "      <th>ReportingOfficer</th>\n",
       "      <th>Date</th>\n",
       "      <th>DateString</th>\n",
       "      <th>DayOfWeek</th>\n",
       "      <th>Weekend</th>\n",
       "      <th>Season</th>\n",
       "      <th>HourAMPM</th>\n",
       "      <th>TimeOfDay</th>\n",
       "      <th>FullStreet</th>\n",
       "      <th>lat</th>\n",
       "      <th>lon</th>\n",
       "    </tr>\n",
       "  </thead>\n",
       "  <tbody>\n",
       "    <tr>\n",
       "      <th>0</th>\n",
       "      <td>1</td>\n",
       "      <td>Larceny - Shoplifitng</td>\n",
       "      <td>202500028431</td>\n",
       "      <td>100</td>\n",
       "      <td>W MAIN ST</td>\n",
       "      <td>CPD</td>\n",
       "      <td>1712</td>\n",
       "      <td>Benbow, Lauren</td>\n",
       "      <td>2025-08-11 17:12:57</td>\n",
       "      <td>2025-08-11 05:12:57 PM</td>\n",
       "      <td>Monday</td>\n",
       "      <td>False</td>\n",
       "      <td>Summer</td>\n",
       "      <td>05:12 PM</td>\n",
       "      <td>Evening</td>\n",
       "      <td>100 W MAIN ST</td>\n",
       "      <td>38.030718</td>\n",
       "      <td>-78.481656</td>\n",
       "    </tr>\n",
       "    <tr>\n",
       "      <th>1</th>\n",
       "      <td>2</td>\n",
       "      <td>Larceny - Of Veh Parts/Access</td>\n",
       "      <td>202500028412</td>\n",
       "      <td></td>\n",
       "      <td>DICE ST @ 4TH ST SW</td>\n",
       "      <td>CPD</td>\n",
       "      <td>1523</td>\n",
       "      <td>Essex, Dominique</td>\n",
       "      <td>2025-08-11 15:23:21</td>\n",
       "      <td>2025-08-11 03:23:21 PM</td>\n",
       "      <td>Monday</td>\n",
       "      <td>False</td>\n",
       "      <td>Summer</td>\n",
       "      <td>03:23 PM</td>\n",
       "      <td>Afternoon</td>\n",
       "      <td>DICE ST @ 4TH ST SW</td>\n",
       "      <td>NaN</td>\n",
       "      <td>NaN</td>\n",
       "    </tr>\n",
       "    <tr>\n",
       "      <th>2</th>\n",
       "      <td>3</td>\n",
       "      <td>Larceny - All Other</td>\n",
       "      <td>202500028407</td>\n",
       "      <td>300</td>\n",
       "      <td>7TH ST SW</td>\n",
       "      <td>CPD</td>\n",
       "      <td>1437</td>\n",
       "      <td>Lowry, Ryan</td>\n",
       "      <td>2025-08-11 14:37:16</td>\n",
       "      <td>2025-08-11 02:37:16 PM</td>\n",
       "      <td>Monday</td>\n",
       "      <td>False</td>\n",
       "      <td>Summer</td>\n",
       "      <td>02:37 PM</td>\n",
       "      <td>Afternoon</td>\n",
       "      <td>300 7TH ST SW</td>\n",
       "      <td>38.030049</td>\n",
       "      <td>-78.490024</td>\n",
       "    </tr>\n",
       "    <tr>\n",
       "      <th>3</th>\n",
       "      <td>4</td>\n",
       "      <td>Hit and Run</td>\n",
       "      <td>202500028401</td>\n",
       "      <td>700</td>\n",
       "      <td>CYNTHIANNA AVE</td>\n",
       "      <td>CPD</td>\n",
       "      <td>1306</td>\n",
       "      <td>Love-Baker, Sydney</td>\n",
       "      <td>2025-08-11 13:06:51</td>\n",
       "      <td>2025-08-11 01:06:51 PM</td>\n",
       "      <td>Monday</td>\n",
       "      <td>False</td>\n",
       "      <td>Summer</td>\n",
       "      <td>01:06 PM</td>\n",
       "      <td>Afternoon</td>\n",
       "      <td>700 CYNTHIANNA AVE</td>\n",
       "      <td>38.038628</td>\n",
       "      <td>-78.482647</td>\n",
       "    </tr>\n",
       "    <tr>\n",
       "      <th>4</th>\n",
       "      <td>5</td>\n",
       "      <td>Hit and Run</td>\n",
       "      <td>202500028391</td>\n",
       "      <td></td>\n",
       "      <td>EMMET ST N @ 250 BYPASS E ON RAMP</td>\n",
       "      <td>CPD</td>\n",
       "      <td>1033</td>\n",
       "      <td>Love-Baker, Sydney</td>\n",
       "      <td>2025-08-11 10:33:51</td>\n",
       "      <td>2025-08-11 10:33:51 AM</td>\n",
       "      <td>Monday</td>\n",
       "      <td>False</td>\n",
       "      <td>Summer</td>\n",
       "      <td>10:33 AM</td>\n",
       "      <td>Morning</td>\n",
       "      <td>EMMET ST N @ 250 BYPASS E ON RAMP</td>\n",
       "      <td>NaN</td>\n",
       "      <td>NaN</td>\n",
       "    </tr>\n",
       "  </tbody>\n",
       "</table>\n",
       "</div>"
      ],
      "text/plain": [
       "   RecordID                        Offense    IncidentID BlockNumber  \\\n",
       "0         1          Larceny - Shoplifitng  202500028431         100   \n",
       "1         2  Larceny - Of Veh Parts/Access  202500028412               \n",
       "2         3            Larceny - All Other  202500028407         300   \n",
       "3         4                    Hit and Run  202500028401         700   \n",
       "4         5                    Hit and Run  202500028391               \n",
       "\n",
       "                          StreetName Agency HourReported    ReportingOfficer  \\\n",
       "0                          W MAIN ST    CPD         1712      Benbow, Lauren   \n",
       "1                DICE ST @ 4TH ST SW    CPD         1523    Essex, Dominique   \n",
       "2                          7TH ST SW    CPD         1437         Lowry, Ryan   \n",
       "3                     CYNTHIANNA AVE    CPD         1306  Love-Baker, Sydney   \n",
       "4  EMMET ST N @ 250 BYPASS E ON RAMP    CPD         1033  Love-Baker, Sydney   \n",
       "\n",
       "                 Date              DateString DayOfWeek  Weekend  Season  \\\n",
       "0 2025-08-11 17:12:57  2025-08-11 05:12:57 PM    Monday    False  Summer   \n",
       "1 2025-08-11 15:23:21  2025-08-11 03:23:21 PM    Monday    False  Summer   \n",
       "2 2025-08-11 14:37:16  2025-08-11 02:37:16 PM    Monday    False  Summer   \n",
       "3 2025-08-11 13:06:51  2025-08-11 01:06:51 PM    Monday    False  Summer   \n",
       "4 2025-08-11 10:33:51  2025-08-11 10:33:51 AM    Monday    False  Summer   \n",
       "\n",
       "   HourAMPM  TimeOfDay                          FullStreet        lat  \\\n",
       "0  05:12 PM    Evening                       100 W MAIN ST  38.030718   \n",
       "1  03:23 PM  Afternoon                 DICE ST @ 4TH ST SW        NaN   \n",
       "2  02:37 PM  Afternoon                       300 7TH ST SW  38.030049   \n",
       "3  01:06 PM  Afternoon                  700 CYNTHIANNA AVE  38.038628   \n",
       "4  10:33 AM    Morning   EMMET ST N @ 250 BYPASS E ON RAMP        NaN   \n",
       "\n",
       "         lon  \n",
       "0 -78.481656  \n",
       "1        NaN  \n",
       "2 -78.490024  \n",
       "3 -78.482647  \n",
       "4        NaN  "
      ]
     },
     "execution_count": 9,
     "metadata": {},
     "output_type": "execute_result"
    }
   ],
   "source": [
    "# Combine BlockNumber and StreetName into a full address string\n",
    "df['FullStreet'] = df['BlockNumber'].astype(str) + \" \" + df['StreetName']\n",
    "\n",
    "# --- Step 1: Setup the Google Maps Client and Cache ---\n",
    "gmaps = googlemaps.Client(key=GOOGLE_API_KEY)\n",
    "\n",
    "# Try to load cached geocoding results if available.\n",
    "try:\n",
    "    with open(\"geocode_cache_google.pkl\", \"rb\") as f:\n",
    "        street_coords = pickle.load(f)\n",
    "    print(\"Loaded geocode cache.\")\n",
    "except FileNotFoundError:\n",
    "    street_coords = {}\n",
    "    print(\"No cache found; starting fresh.\")\n",
    "\n",
    "def geocode_address(address):\n",
    "    try:\n",
    "        # Append city and state to help geocoding\n",
    "        result = gmaps.geocode(f\"{address}, Charlottesville, VA\")\n",
    "        if result:\n",
    "            lat = result[0]['geometry']['location']['lat']\n",
    "            lon = result[0]['geometry']['location']['lng']\n",
    "            return lat, lon\n",
    "    except Exception as e:\n",
    "        print(f\"Error geocoding {address}: {e}\")\n",
    "    return None, None\n",
    "\n",
    "# --- Step 2: Geocode Only New Addresses ---\n",
    "unique_addresses = df['FullStreet'].unique()\n",
    "for address in unique_addresses:\n",
    "    if address not in street_coords:\n",
    "        lat, lon = geocode_address(address)\n",
    "        street_coords[address] = (lat, lon)\n",
    "        print(f\"Geocoded {address}: {lat}, {lon}\")\n",
    "\n",
    "# Save the updated cache to disk.\n",
    "with open(\"geocode_cache_google.pkl\", \"wb\") as f:\n",
    "    pickle.dump(street_coords, f)\n",
    "    print(\"Geocode cache updated and saved.\")\n",
    "\n",
    "# --- Step 3: Map Coordinates Back to DataFrame ---\n",
    "df['lat'] = df['FullStreet'].map(lambda s: street_coords.get(s, (None, None))[0])\n",
    "df['lon'] = df['FullStreet'].map(lambda s: street_coords.get(s, (None, None))[1])\n",
    "\n",
    "df.head()"
   ]
  },
  {
   "cell_type": "markdown",
   "id": "9a3a8798",
   "metadata": {
    "papermill": {
     "duration": 0.004386,
     "end_time": "2025-08-14T01:07:24.382426",
     "exception": false,
     "start_time": "2025-08-14T01:07:24.378040",
     "status": "completed"
    },
    "tags": []
   },
   "source": [
    "### Neighborhood"
   ]
  },
  {
   "cell_type": "code",
   "execution_count": 10,
   "id": "63fa2d35",
   "metadata": {
    "execution": {
     "iopub.execute_input": "2025-08-14T01:07:24.392294Z",
     "iopub.status.busy": "2025-08-14T01:07:24.391994Z",
     "iopub.status.idle": "2025-08-14T01:07:27.202563Z",
     "shell.execute_reply": "2025-08-14T01:07:27.201879Z"
    },
    "papermill": {
     "duration": 2.816915,
     "end_time": "2025-08-14T01:07:27.203684",
     "exception": false,
     "start_time": "2025-08-14T01:07:24.386769",
     "status": "completed"
    },
    "tags": []
   },
   "outputs": [
    {
     "name": "stdout",
     "output_type": "stream",
     "text": [
      "Loaded neighborhood cache.\n"
     ]
    },
    {
     "name": "stdout",
     "output_type": "stream",
     "text": [
      "Error getting neighborhood for nan, nan: HTTP Error: 400\n",
      "Error getting neighborhood for nan, nan: HTTP Error: 400\n"
     ]
    },
    {
     "name": "stdout",
     "output_type": "stream",
     "text": [
      "Error getting neighborhood for nan, nan: HTTP Error: 400\n",
      "Error getting neighborhood for nan, nan: HTTP Error: 400\n"
     ]
    },
    {
     "name": "stdout",
     "output_type": "stream",
     "text": [
      "Error getting neighborhood for nan, nan: HTTP Error: 400\n",
      "Error getting neighborhood for nan, nan: HTTP Error: 400\n",
      "Error getting neighborhood for nan, nan: HTTP Error: 400\n",
      "Error getting neighborhood for nan, nan: HTTP Error: 400\n"
     ]
    },
    {
     "name": "stdout",
     "output_type": "stream",
     "text": [
      "Error getting neighborhood for nan, nan: HTTP Error: 400\n",
      "Error getting neighborhood for nan, nan: HTTP Error: 400\n",
      "Error getting neighborhood for nan, nan: HTTP Error: 400\n",
      "Error getting neighborhood for nan, nan: HTTP Error: 400\n"
     ]
    },
    {
     "name": "stdout",
     "output_type": "stream",
     "text": [
      "Error getting neighborhood for nan, nan: HTTP Error: 400\n",
      "Error getting neighborhood for nan, nan: HTTP Error: 400\n",
      "Error getting neighborhood for nan, nan: HTTP Error: 400\n",
      "Error getting neighborhood for nan, nan: HTTP Error: 400\n"
     ]
    },
    {
     "name": "stdout",
     "output_type": "stream",
     "text": [
      "Error getting neighborhood for nan, nan: HTTP Error: 400\n",
      "Error getting neighborhood for nan, nan: HTTP Error: 400\n",
      "Error getting neighborhood for nan, nan: HTTP Error: 400\n",
      "Error getting neighborhood for nan, nan: HTTP Error: 400\n"
     ]
    },
    {
     "name": "stdout",
     "output_type": "stream",
     "text": [
      "Error getting neighborhood for nan, nan: HTTP Error: 400\n",
      "Error getting neighborhood for nan, nan: HTTP Error: 400\n",
      "Error getting neighborhood for nan, nan: HTTP Error: 400\n",
      "Error getting neighborhood for nan, nan: HTTP Error: 400\n",
      "Error getting neighborhood for nan, nan: HTTP Error: 400\n"
     ]
    },
    {
     "name": "stdout",
     "output_type": "stream",
     "text": [
      "Error getting neighborhood for nan, nan: HTTP Error: 400\n",
      "Error getting neighborhood for nan, nan: HTTP Error: 400\n",
      "Error getting neighborhood for nan, nan: HTTP Error: 400\n",
      "Error getting neighborhood for nan, nan: HTTP Error: 400\n"
     ]
    },
    {
     "name": "stdout",
     "output_type": "stream",
     "text": [
      "Error getting neighborhood for nan, nan: HTTP Error: 400\n",
      "Error getting neighborhood for nan, nan: HTTP Error: 400\n",
      "Error getting neighborhood for nan, nan: HTTP Error: 400\n",
      "Error getting neighborhood for nan, nan: HTTP Error: 400\n",
      "Error getting neighborhood for nan, nan: HTTP Error: 400\n"
     ]
    },
    {
     "name": "stdout",
     "output_type": "stream",
     "text": [
      "Error getting neighborhood for nan, nan: HTTP Error: 400\n",
      "Error getting neighborhood for nan, nan: HTTP Error: 400\n",
      "Error getting neighborhood for nan, nan: HTTP Error: 400\n",
      "Error getting neighborhood for nan, nan: HTTP Error: 400\n"
     ]
    },
    {
     "name": "stdout",
     "output_type": "stream",
     "text": [
      "Error getting neighborhood for nan, nan: HTTP Error: 400\n",
      "Error getting neighborhood for nan, nan: HTTP Error: 400\n",
      "Error getting neighborhood for nan, nan: HTTP Error: 400\n",
      "Error getting neighborhood for nan, nan: HTTP Error: 400\n"
     ]
    },
    {
     "name": "stdout",
     "output_type": "stream",
     "text": [
      "Error getting neighborhood for nan, nan: HTTP Error: 400\n",
      "Error getting neighborhood for nan, nan: HTTP Error: 400\n",
      "Error getting neighborhood for nan, nan: HTTP Error: 400\n",
      "Error getting neighborhood for nan, nan: HTTP Error: 400\n"
     ]
    },
    {
     "name": "stdout",
     "output_type": "stream",
     "text": [
      "Error getting neighborhood for nan, nan: HTTP Error: 400\n",
      "Error getting neighborhood for nan, nan: HTTP Error: 400\n",
      "Error getting neighborhood for nan, nan: HTTP Error: 400\n",
      "Error getting neighborhood for nan, nan: HTTP Error: 400\n",
      "Error getting neighborhood for nan, nan: HTTP Error: 400\n"
     ]
    },
    {
     "name": "stdout",
     "output_type": "stream",
     "text": [
      "Error getting neighborhood for nan, nan: HTTP Error: 400\n",
      "Error getting neighborhood for nan, nan: HTTP Error: 400\n",
      "Error getting neighborhood for nan, nan: HTTP Error: 400\n",
      "Error getting neighborhood for nan, nan: HTTP Error: 400\n"
     ]
    },
    {
     "name": "stdout",
     "output_type": "stream",
     "text": [
      "Error getting neighborhood for nan, nan: HTTP Error: 400\n",
      "Error getting neighborhood for nan, nan: HTTP Error: 400\n",
      "Error getting neighborhood for nan, nan: HTTP Error: 400\n",
      "Error getting neighborhood for nan, nan: HTTP Error: 400\n",
      "Error getting neighborhood for nan, nan: HTTP Error: 400\n"
     ]
    },
    {
     "name": "stdout",
     "output_type": "stream",
     "text": [
      "Error getting neighborhood for nan, nan: HTTP Error: 400\n",
      "Error getting neighborhood for nan, nan: HTTP Error: 400\n",
      "Error getting neighborhood for nan, nan: HTTP Error: 400\n",
      "Error getting neighborhood for nan, nan: HTTP Error: 400\n"
     ]
    },
    {
     "name": "stdout",
     "output_type": "stream",
     "text": [
      "Error getting neighborhood for nan, nan: HTTP Error: 400\n",
      "Error getting neighborhood for nan, nan: HTTP Error: 400\n",
      "Error getting neighborhood for nan, nan: HTTP Error: 400\n",
      "Error getting neighborhood for nan, nan: HTTP Error: 400\n",
      "Error getting neighborhood for nan, nan: HTTP Error: 400\n"
     ]
    },
    {
     "name": "stdout",
     "output_type": "stream",
     "text": [
      "Error getting neighborhood for nan, nan: HTTP Error: 400\n",
      "Error getting neighborhood for nan, nan: HTTP Error: 400\n",
      "Error getting neighborhood for nan, nan: HTTP Error: 400\n",
      "Error getting neighborhood for nan, nan: HTTP Error: 400\n"
     ]
    },
    {
     "name": "stdout",
     "output_type": "stream",
     "text": [
      "Error getting neighborhood for nan, nan: HTTP Error: 400\n",
      "Error getting neighborhood for nan, nan: HTTP Error: 400\n",
      "Error getting neighborhood for nan, nan: HTTP Error: 400\n",
      "Error getting neighborhood for nan, nan: HTTP Error: 400\n",
      "Error getting neighborhood for nan, nan: HTTP Error: 400\n"
     ]
    },
    {
     "name": "stdout",
     "output_type": "stream",
     "text": [
      "Error getting neighborhood for nan, nan: HTTP Error: 400\n",
      "Error getting neighborhood for nan, nan: HTTP Error: 400\n",
      "Error getting neighborhood for nan, nan: HTTP Error: 400\n",
      "Error getting neighborhood for nan, nan: HTTP Error: 400\n"
     ]
    },
    {
     "name": "stdout",
     "output_type": "stream",
     "text": [
      "Error getting neighborhood for nan, nan: HTTP Error: 400\n",
      "Error getting neighborhood for nan, nan: HTTP Error: 400\n",
      "Error getting neighborhood for nan, nan: HTTP Error: 400\n",
      "Error getting neighborhood for nan, nan: HTTP Error: 400\n",
      "Error getting neighborhood for nan, nan: HTTP Error: 400\n"
     ]
    },
    {
     "name": "stdout",
     "output_type": "stream",
     "text": [
      "Error getting neighborhood for nan, nan: HTTP Error: 400\n",
      "Error getting neighborhood for nan, nan: HTTP Error: 400\n",
      "Error getting neighborhood for nan, nan: HTTP Error: 400\n",
      "Error getting neighborhood for nan, nan: HTTP Error: 400\n"
     ]
    },
    {
     "name": "stdout",
     "output_type": "stream",
     "text": [
      "Error getting neighborhood for nan, nan: HTTP Error: 400\n",
      "Error getting neighborhood for nan, nan: HTTP Error: 400\n",
      "Error getting neighborhood for nan, nan: HTTP Error: 400\n",
      "Error getting neighborhood for nan, nan: HTTP Error: 400\n",
      "Error getting neighborhood for nan, nan: HTTP Error: 400\n"
     ]
    },
    {
     "name": "stdout",
     "output_type": "stream",
     "text": [
      "Error getting neighborhood for nan, nan: HTTP Error: 400\n",
      "Error getting neighborhood for nan, nan: HTTP Error: 400\n",
      "Error getting neighborhood for nan, nan: HTTP Error: 400\n"
     ]
    },
    {
     "data": {
      "text/html": [
       "<div>\n",
       "<style scoped>\n",
       "    .dataframe tbody tr th:only-of-type {\n",
       "        vertical-align: middle;\n",
       "    }\n",
       "\n",
       "    .dataframe tbody tr th {\n",
       "        vertical-align: top;\n",
       "    }\n",
       "\n",
       "    .dataframe thead th {\n",
       "        text-align: right;\n",
       "    }\n",
       "</style>\n",
       "<table border=\"1\" class=\"dataframe\">\n",
       "  <thead>\n",
       "    <tr style=\"text-align: right;\">\n",
       "      <th></th>\n",
       "      <th>RecordID</th>\n",
       "      <th>Offense</th>\n",
       "      <th>IncidentID</th>\n",
       "      <th>BlockNumber</th>\n",
       "      <th>StreetName</th>\n",
       "      <th>Agency</th>\n",
       "      <th>HourReported</th>\n",
       "      <th>ReportingOfficer</th>\n",
       "      <th>Date</th>\n",
       "      <th>DateString</th>\n",
       "      <th>DayOfWeek</th>\n",
       "      <th>Weekend</th>\n",
       "      <th>Season</th>\n",
       "      <th>HourAMPM</th>\n",
       "      <th>TimeOfDay</th>\n",
       "      <th>FullStreet</th>\n",
       "      <th>lat</th>\n",
       "      <th>lon</th>\n",
       "      <th>neighborhood</th>\n",
       "    </tr>\n",
       "  </thead>\n",
       "  <tbody>\n",
       "    <tr>\n",
       "      <th>0</th>\n",
       "      <td>1</td>\n",
       "      <td>Larceny - Shoplifitng</td>\n",
       "      <td>202500028431</td>\n",
       "      <td>100</td>\n",
       "      <td>W MAIN ST</td>\n",
       "      <td>CPD</td>\n",
       "      <td>1712</td>\n",
       "      <td>Benbow, Lauren</td>\n",
       "      <td>2025-08-11 17:12:57</td>\n",
       "      <td>2025-08-11 05:12:57 PM</td>\n",
       "      <td>Monday</td>\n",
       "      <td>False</td>\n",
       "      <td>Summer</td>\n",
       "      <td>05:12 PM</td>\n",
       "      <td>Evening</td>\n",
       "      <td>100 W MAIN ST</td>\n",
       "      <td>38.030718</td>\n",
       "      <td>-78.481656</td>\n",
       "      <td>Downtown Mall</td>\n",
       "    </tr>\n",
       "    <tr>\n",
       "      <th>1</th>\n",
       "      <td>2</td>\n",
       "      <td>Larceny - Of Veh Parts/Access</td>\n",
       "      <td>202500028412</td>\n",
       "      <td></td>\n",
       "      <td>DICE ST @ 4TH ST SW</td>\n",
       "      <td>CPD</td>\n",
       "      <td>1523</td>\n",
       "      <td>Essex, Dominique</td>\n",
       "      <td>2025-08-11 15:23:21</td>\n",
       "      <td>2025-08-11 03:23:21 PM</td>\n",
       "      <td>Monday</td>\n",
       "      <td>False</td>\n",
       "      <td>Summer</td>\n",
       "      <td>03:23 PM</td>\n",
       "      <td>Afternoon</td>\n",
       "      <td>DICE ST @ 4TH ST SW</td>\n",
       "      <td>NaN</td>\n",
       "      <td>NaN</td>\n",
       "      <td>N/A</td>\n",
       "    </tr>\n",
       "    <tr>\n",
       "      <th>2</th>\n",
       "      <td>3</td>\n",
       "      <td>Larceny - All Other</td>\n",
       "      <td>202500028407</td>\n",
       "      <td>300</td>\n",
       "      <td>7TH ST SW</td>\n",
       "      <td>CPD</td>\n",
       "      <td>1437</td>\n",
       "      <td>Lowry, Ryan</td>\n",
       "      <td>2025-08-11 14:37:16</td>\n",
       "      <td>2025-08-11 02:37:16 PM</td>\n",
       "      <td>Monday</td>\n",
       "      <td>False</td>\n",
       "      <td>Summer</td>\n",
       "      <td>02:37 PM</td>\n",
       "      <td>Afternoon</td>\n",
       "      <td>300 7TH ST SW</td>\n",
       "      <td>38.030049</td>\n",
       "      <td>-78.490024</td>\n",
       "      <td>Fifeville</td>\n",
       "    </tr>\n",
       "    <tr>\n",
       "      <th>3</th>\n",
       "      <td>4</td>\n",
       "      <td>Hit and Run</td>\n",
       "      <td>202500028401</td>\n",
       "      <td>700</td>\n",
       "      <td>CYNTHIANNA AVE</td>\n",
       "      <td>CPD</td>\n",
       "      <td>1306</td>\n",
       "      <td>Love-Baker, Sydney</td>\n",
       "      <td>2025-08-11 13:06:51</td>\n",
       "      <td>2025-08-11 01:06:51 PM</td>\n",
       "      <td>Monday</td>\n",
       "      <td>False</td>\n",
       "      <td>Summer</td>\n",
       "      <td>01:06 PM</td>\n",
       "      <td>Afternoon</td>\n",
       "      <td>700 CYNTHIANNA AVE</td>\n",
       "      <td>38.038628</td>\n",
       "      <td>-78.482647</td>\n",
       "      <td>Rose Hill</td>\n",
       "    </tr>\n",
       "    <tr>\n",
       "      <th>4</th>\n",
       "      <td>5</td>\n",
       "      <td>Hit and Run</td>\n",
       "      <td>202500028391</td>\n",
       "      <td></td>\n",
       "      <td>EMMET ST N @ 250 BYPASS E ON RAMP</td>\n",
       "      <td>CPD</td>\n",
       "      <td>1033</td>\n",
       "      <td>Love-Baker, Sydney</td>\n",
       "      <td>2025-08-11 10:33:51</td>\n",
       "      <td>2025-08-11 10:33:51 AM</td>\n",
       "      <td>Monday</td>\n",
       "      <td>False</td>\n",
       "      <td>Summer</td>\n",
       "      <td>10:33 AM</td>\n",
       "      <td>Morning</td>\n",
       "      <td>EMMET ST N @ 250 BYPASS E ON RAMP</td>\n",
       "      <td>NaN</td>\n",
       "      <td>NaN</td>\n",
       "      <td>N/A</td>\n",
       "    </tr>\n",
       "  </tbody>\n",
       "</table>\n",
       "</div>"
      ],
      "text/plain": [
       "   RecordID                        Offense    IncidentID BlockNumber  \\\n",
       "0         1          Larceny - Shoplifitng  202500028431         100   \n",
       "1         2  Larceny - Of Veh Parts/Access  202500028412               \n",
       "2         3            Larceny - All Other  202500028407         300   \n",
       "3         4                    Hit and Run  202500028401         700   \n",
       "4         5                    Hit and Run  202500028391               \n",
       "\n",
       "                          StreetName Agency HourReported    ReportingOfficer  \\\n",
       "0                          W MAIN ST    CPD         1712      Benbow, Lauren   \n",
       "1                DICE ST @ 4TH ST SW    CPD         1523    Essex, Dominique   \n",
       "2                          7TH ST SW    CPD         1437         Lowry, Ryan   \n",
       "3                     CYNTHIANNA AVE    CPD         1306  Love-Baker, Sydney   \n",
       "4  EMMET ST N @ 250 BYPASS E ON RAMP    CPD         1033  Love-Baker, Sydney   \n",
       "\n",
       "                 Date              DateString DayOfWeek  Weekend  Season  \\\n",
       "0 2025-08-11 17:12:57  2025-08-11 05:12:57 PM    Monday    False  Summer   \n",
       "1 2025-08-11 15:23:21  2025-08-11 03:23:21 PM    Monday    False  Summer   \n",
       "2 2025-08-11 14:37:16  2025-08-11 02:37:16 PM    Monday    False  Summer   \n",
       "3 2025-08-11 13:06:51  2025-08-11 01:06:51 PM    Monday    False  Summer   \n",
       "4 2025-08-11 10:33:51  2025-08-11 10:33:51 AM    Monday    False  Summer   \n",
       "\n",
       "   HourAMPM  TimeOfDay                          FullStreet        lat  \\\n",
       "0  05:12 PM    Evening                       100 W MAIN ST  38.030718   \n",
       "1  03:23 PM  Afternoon                 DICE ST @ 4TH ST SW        NaN   \n",
       "2  02:37 PM  Afternoon                       300 7TH ST SW  38.030049   \n",
       "3  01:06 PM  Afternoon                  700 CYNTHIANNA AVE  38.038628   \n",
       "4  10:33 AM    Morning   EMMET ST N @ 250 BYPASS E ON RAMP        NaN   \n",
       "\n",
       "         lon   neighborhood  \n",
       "0 -78.481656  Downtown Mall  \n",
       "1        NaN            N/A  \n",
       "2 -78.490024      Fifeville  \n",
       "3 -78.482647      Rose Hill  \n",
       "4        NaN            N/A  "
      ]
     },
     "execution_count": 10,
     "metadata": {},
     "output_type": "execute_result"
    }
   ],
   "source": [
    "# Initialize the Google Maps client.\n",
    "gmaps = googlemaps.Client(key=GOOGLE_API_KEY)\n",
    "\n",
    "# Try to load a persistent neighborhood cache if available.\n",
    "try:\n",
    "    with open(\"neighborhood_cache.pkl\", \"rb\") as f:\n",
    "        neighborhood_cache = pickle.load(f)\n",
    "    print(\"Loaded neighborhood cache.\")\n",
    "except FileNotFoundError:\n",
    "    neighborhood_cache = {}\n",
    "    print(\"No neighborhood cache found; starting fresh.\")\n",
    "\n",
    "def get_neighborhood(lat, lon):\n",
    "    \"\"\"\n",
    "    Reverse geocodes a latitude and longitude to retrieve the neighborhood.\n",
    "    Caches results to speed up subsequent lookups.\n",
    "    \"\"\"\n",
    "    key = (lat, lon)\n",
    "    if key in neighborhood_cache:\n",
    "        return neighborhood_cache[key]\n",
    "    \n",
    "    try:\n",
    "        result = gmaps.reverse_geocode((lat, lon))\n",
    "        if result:\n",
    "            # Look for the 'neighborhood' component in the first result.\n",
    "            for component in result[0]['address_components']:\n",
    "                if 'neighborhood' in component['types']:\n",
    "                    neighborhood = component['long_name']\n",
    "                    neighborhood_cache[key] = neighborhood\n",
    "                    return neighborhood\n",
    "            # If no neighborhood is found, return \"N/A\"\n",
    "            neighborhood_cache[key] = \"N/A\"\n",
    "            return \"N/A\"\n",
    "    except Exception as e:\n",
    "        print(f\"Error getting neighborhood for {lat}, {lon}: {e}\")\n",
    "        return \"N/A\"\n",
    "    \n",
    "    # Pause to respect usage limits.\n",
    "    time.sleep(1)\n",
    "\n",
    "# Example usage: Apply to your DataFrame 'df' that already has 'lat' and 'lon' columns.\n",
    "df['neighborhood'] = df.apply(lambda row: get_neighborhood(row['lat'], row['lon']), axis=1)\n",
    "\n",
    "# Save the updated neighborhood cache.\n",
    "with open(\"neighborhood_cache.pkl\", \"wb\") as f:\n",
    "    pickle.dump(neighborhood_cache, f)\n",
    "\n",
    "df.head()\n"
   ]
  },
  {
   "cell_type": "markdown",
   "id": "b4c0d389",
   "metadata": {
    "papermill": {
     "duration": 0.00565,
     "end_time": "2025-08-14T01:07:27.215646",
     "exception": false,
     "start_time": "2025-08-14T01:07:27.209996",
     "status": "completed"
    },
    "tags": []
   },
   "source": [
    "### Zip"
   ]
  },
  {
   "cell_type": "code",
   "execution_count": 11,
   "id": "21d9d30f",
   "metadata": {
    "execution": {
     "iopub.execute_input": "2025-08-14T01:07:27.227794Z",
     "iopub.status.busy": "2025-08-14T01:07:27.227565Z",
     "iopub.status.idle": "2025-08-14T01:09:06.804496Z",
     "shell.execute_reply": "2025-08-14T01:09:06.803829Z"
    },
    "papermill": {
     "duration": 99.584267,
     "end_time": "2025-08-14T01:09:06.805534",
     "exception": false,
     "start_time": "2025-08-14T01:07:27.221267",
     "status": "completed"
    },
    "tags": []
   },
   "outputs": [
    {
     "name": "stdout",
     "output_type": "stream",
     "text": [
      "Loaded zip cache.\n",
      "Error getting ZIP for nan, nan: Must be a coordinate pair or Point\n"
     ]
    },
    {
     "name": "stdout",
     "output_type": "stream",
     "text": [
      "Error getting ZIP for nan, nan: Must be a coordinate pair or Point\n"
     ]
    },
    {
     "name": "stdout",
     "output_type": "stream",
     "text": [
      "Error getting ZIP for nan, nan: Must be a coordinate pair or Point\n"
     ]
    },
    {
     "name": "stdout",
     "output_type": "stream",
     "text": [
      "Error getting ZIP for nan, nan: Must be a coordinate pair or Point\n"
     ]
    },
    {
     "name": "stdout",
     "output_type": "stream",
     "text": [
      "Error getting ZIP for nan, nan: Must be a coordinate pair or Point\n"
     ]
    },
    {
     "name": "stdout",
     "output_type": "stream",
     "text": [
      "Error getting ZIP for nan, nan: Must be a coordinate pair or Point\n"
     ]
    },
    {
     "name": "stdout",
     "output_type": "stream",
     "text": [
      "Error getting ZIP for nan, nan: Must be a coordinate pair or Point\n"
     ]
    },
    {
     "name": "stdout",
     "output_type": "stream",
     "text": [
      "Error getting ZIP for nan, nan: Must be a coordinate pair or Point\n"
     ]
    },
    {
     "name": "stdout",
     "output_type": "stream",
     "text": [
      "Error getting ZIP for nan, nan: Must be a coordinate pair or Point\n"
     ]
    },
    {
     "name": "stdout",
     "output_type": "stream",
     "text": [
      "Error getting ZIP for nan, nan: Must be a coordinate pair or Point\n"
     ]
    },
    {
     "name": "stdout",
     "output_type": "stream",
     "text": [
      "Error getting ZIP for nan, nan: Must be a coordinate pair or Point\n"
     ]
    },
    {
     "name": "stdout",
     "output_type": "stream",
     "text": [
      "Error getting ZIP for nan, nan: Must be a coordinate pair or Point\n"
     ]
    },
    {
     "name": "stdout",
     "output_type": "stream",
     "text": [
      "Error getting ZIP for nan, nan: Must be a coordinate pair or Point\n"
     ]
    },
    {
     "name": "stdout",
     "output_type": "stream",
     "text": [
      "Error getting ZIP for nan, nan: Must be a coordinate pair or Point\n"
     ]
    },
    {
     "name": "stdout",
     "output_type": "stream",
     "text": [
      "Error getting ZIP for nan, nan: Must be a coordinate pair or Point\n"
     ]
    },
    {
     "name": "stdout",
     "output_type": "stream",
     "text": [
      "Error getting ZIP for nan, nan: Must be a coordinate pair or Point\n"
     ]
    },
    {
     "name": "stdout",
     "output_type": "stream",
     "text": [
      "Error getting ZIP for nan, nan: Must be a coordinate pair or Point\n"
     ]
    },
    {
     "name": "stdout",
     "output_type": "stream",
     "text": [
      "Error getting ZIP for nan, nan: Must be a coordinate pair or Point\n"
     ]
    },
    {
     "name": "stdout",
     "output_type": "stream",
     "text": [
      "Error getting ZIP for nan, nan: Must be a coordinate pair or Point\n"
     ]
    },
    {
     "name": "stdout",
     "output_type": "stream",
     "text": [
      "Error getting ZIP for nan, nan: Must be a coordinate pair or Point\n"
     ]
    },
    {
     "name": "stdout",
     "output_type": "stream",
     "text": [
      "Error getting ZIP for nan, nan: Must be a coordinate pair or Point\n"
     ]
    },
    {
     "name": "stdout",
     "output_type": "stream",
     "text": [
      "Error getting ZIP for nan, nan: Must be a coordinate pair or Point\n"
     ]
    },
    {
     "name": "stdout",
     "output_type": "stream",
     "text": [
      "Error getting ZIP for nan, nan: Must be a coordinate pair or Point\n"
     ]
    },
    {
     "name": "stdout",
     "output_type": "stream",
     "text": [
      "Error getting ZIP for nan, nan: Must be a coordinate pair or Point\n"
     ]
    },
    {
     "name": "stdout",
     "output_type": "stream",
     "text": [
      "Error getting ZIP for nan, nan: Must be a coordinate pair or Point\n"
     ]
    },
    {
     "name": "stdout",
     "output_type": "stream",
     "text": [
      "Error getting ZIP for nan, nan: Must be a coordinate pair or Point\n"
     ]
    },
    {
     "name": "stdout",
     "output_type": "stream",
     "text": [
      "Error getting ZIP for nan, nan: Must be a coordinate pair or Point\n"
     ]
    },
    {
     "name": "stdout",
     "output_type": "stream",
     "text": [
      "Error getting ZIP for nan, nan: Must be a coordinate pair or Point\n"
     ]
    },
    {
     "name": "stdout",
     "output_type": "stream",
     "text": [
      "Error getting ZIP for nan, nan: Must be a coordinate pair or Point\n"
     ]
    },
    {
     "name": "stdout",
     "output_type": "stream",
     "text": [
      "Error getting ZIP for nan, nan: Must be a coordinate pair or Point\n"
     ]
    },
    {
     "name": "stdout",
     "output_type": "stream",
     "text": [
      "Error getting ZIP for nan, nan: Must be a coordinate pair or Point\n"
     ]
    },
    {
     "name": "stdout",
     "output_type": "stream",
     "text": [
      "Error getting ZIP for nan, nan: Must be a coordinate pair or Point\n"
     ]
    },
    {
     "name": "stdout",
     "output_type": "stream",
     "text": [
      "Error getting ZIP for nan, nan: Must be a coordinate pair or Point\n"
     ]
    },
    {
     "name": "stdout",
     "output_type": "stream",
     "text": [
      "Error getting ZIP for nan, nan: Must be a coordinate pair or Point\n"
     ]
    },
    {
     "name": "stdout",
     "output_type": "stream",
     "text": [
      "Error getting ZIP for nan, nan: Must be a coordinate pair or Point\n"
     ]
    },
    {
     "name": "stdout",
     "output_type": "stream",
     "text": [
      "Error getting ZIP for nan, nan: Must be a coordinate pair or Point\n"
     ]
    },
    {
     "name": "stdout",
     "output_type": "stream",
     "text": [
      "Error getting ZIP for nan, nan: Must be a coordinate pair or Point\n"
     ]
    },
    {
     "name": "stdout",
     "output_type": "stream",
     "text": [
      "Error getting ZIP for nan, nan: Must be a coordinate pair or Point\n"
     ]
    },
    {
     "name": "stdout",
     "output_type": "stream",
     "text": [
      "Error getting ZIP for nan, nan: Must be a coordinate pair or Point\n"
     ]
    },
    {
     "name": "stdout",
     "output_type": "stream",
     "text": [
      "Error getting ZIP for nan, nan: Must be a coordinate pair or Point\n"
     ]
    },
    {
     "name": "stdout",
     "output_type": "stream",
     "text": [
      "Error getting ZIP for nan, nan: Must be a coordinate pair or Point\n"
     ]
    },
    {
     "name": "stdout",
     "output_type": "stream",
     "text": [
      "Error getting ZIP for nan, nan: Must be a coordinate pair or Point\n"
     ]
    },
    {
     "name": "stdout",
     "output_type": "stream",
     "text": [
      "Error getting ZIP for nan, nan: Must be a coordinate pair or Point\n"
     ]
    },
    {
     "name": "stdout",
     "output_type": "stream",
     "text": [
      "Error getting ZIP for nan, nan: Must be a coordinate pair or Point\n"
     ]
    },
    {
     "name": "stdout",
     "output_type": "stream",
     "text": [
      "Error getting ZIP for nan, nan: Must be a coordinate pair or Point\n"
     ]
    },
    {
     "name": "stdout",
     "output_type": "stream",
     "text": [
      "Error getting ZIP for nan, nan: Must be a coordinate pair or Point\n"
     ]
    },
    {
     "name": "stdout",
     "output_type": "stream",
     "text": [
      "Error getting ZIP for nan, nan: Must be a coordinate pair or Point\n"
     ]
    },
    {
     "name": "stdout",
     "output_type": "stream",
     "text": [
      "Error getting ZIP for nan, nan: Must be a coordinate pair or Point\n"
     ]
    },
    {
     "name": "stdout",
     "output_type": "stream",
     "text": [
      "Error getting ZIP for nan, nan: Must be a coordinate pair or Point\n"
     ]
    },
    {
     "name": "stdout",
     "output_type": "stream",
     "text": [
      "Error getting ZIP for nan, nan: Must be a coordinate pair or Point\n"
     ]
    },
    {
     "name": "stdout",
     "output_type": "stream",
     "text": [
      "Error getting ZIP for nan, nan: Must be a coordinate pair or Point\n"
     ]
    },
    {
     "name": "stdout",
     "output_type": "stream",
     "text": [
      "Error getting ZIP for nan, nan: Must be a coordinate pair or Point\n"
     ]
    },
    {
     "name": "stdout",
     "output_type": "stream",
     "text": [
      "Error getting ZIP for nan, nan: Must be a coordinate pair or Point\n"
     ]
    },
    {
     "name": "stdout",
     "output_type": "stream",
     "text": [
      "Error getting ZIP for nan, nan: Must be a coordinate pair or Point\n"
     ]
    },
    {
     "name": "stdout",
     "output_type": "stream",
     "text": [
      "Error getting ZIP for nan, nan: Must be a coordinate pair or Point\n"
     ]
    },
    {
     "name": "stdout",
     "output_type": "stream",
     "text": [
      "Error getting ZIP for nan, nan: Must be a coordinate pair or Point\n"
     ]
    },
    {
     "name": "stdout",
     "output_type": "stream",
     "text": [
      "Error getting ZIP for nan, nan: Must be a coordinate pair or Point\n"
     ]
    },
    {
     "name": "stdout",
     "output_type": "stream",
     "text": [
      "Error getting ZIP for nan, nan: Must be a coordinate pair or Point\n"
     ]
    },
    {
     "name": "stdout",
     "output_type": "stream",
     "text": [
      "Error getting ZIP for nan, nan: Must be a coordinate pair or Point\n"
     ]
    },
    {
     "name": "stdout",
     "output_type": "stream",
     "text": [
      "Error getting ZIP for nan, nan: Must be a coordinate pair or Point\n"
     ]
    },
    {
     "name": "stdout",
     "output_type": "stream",
     "text": [
      "Error getting ZIP for nan, nan: Must be a coordinate pair or Point\n"
     ]
    },
    {
     "name": "stdout",
     "output_type": "stream",
     "text": [
      "Error getting ZIP for nan, nan: Must be a coordinate pair or Point\n"
     ]
    },
    {
     "name": "stdout",
     "output_type": "stream",
     "text": [
      "Error getting ZIP for nan, nan: Must be a coordinate pair or Point\n"
     ]
    },
    {
     "name": "stdout",
     "output_type": "stream",
     "text": [
      "Error getting ZIP for nan, nan: Must be a coordinate pair or Point\n"
     ]
    },
    {
     "name": "stdout",
     "output_type": "stream",
     "text": [
      "Error getting ZIP for nan, nan: Must be a coordinate pair or Point\n"
     ]
    },
    {
     "name": "stdout",
     "output_type": "stream",
     "text": [
      "Error getting ZIP for nan, nan: Must be a coordinate pair or Point\n"
     ]
    },
    {
     "name": "stdout",
     "output_type": "stream",
     "text": [
      "Error getting ZIP for nan, nan: Must be a coordinate pair or Point\n"
     ]
    },
    {
     "name": "stdout",
     "output_type": "stream",
     "text": [
      "Error getting ZIP for nan, nan: Must be a coordinate pair or Point\n"
     ]
    },
    {
     "name": "stdout",
     "output_type": "stream",
     "text": [
      "Error getting ZIP for nan, nan: Must be a coordinate pair or Point\n"
     ]
    },
    {
     "name": "stdout",
     "output_type": "stream",
     "text": [
      "Error getting ZIP for nan, nan: Must be a coordinate pair or Point\n"
     ]
    },
    {
     "name": "stdout",
     "output_type": "stream",
     "text": [
      "Error getting ZIP for nan, nan: Must be a coordinate pair or Point\n"
     ]
    },
    {
     "name": "stdout",
     "output_type": "stream",
     "text": [
      "Error getting ZIP for nan, nan: Must be a coordinate pair or Point\n"
     ]
    },
    {
     "name": "stdout",
     "output_type": "stream",
     "text": [
      "Error getting ZIP for nan, nan: Must be a coordinate pair or Point\n"
     ]
    },
    {
     "name": "stdout",
     "output_type": "stream",
     "text": [
      "Error getting ZIP for nan, nan: Must be a coordinate pair or Point\n"
     ]
    },
    {
     "name": "stdout",
     "output_type": "stream",
     "text": [
      "Error getting ZIP for nan, nan: Must be a coordinate pair or Point\n"
     ]
    },
    {
     "name": "stdout",
     "output_type": "stream",
     "text": [
      "Error getting ZIP for nan, nan: Must be a coordinate pair or Point\n"
     ]
    },
    {
     "name": "stdout",
     "output_type": "stream",
     "text": [
      "Error getting ZIP for nan, nan: Must be a coordinate pair or Point\n"
     ]
    },
    {
     "name": "stdout",
     "output_type": "stream",
     "text": [
      "Error getting ZIP for nan, nan: Must be a coordinate pair or Point\n"
     ]
    },
    {
     "name": "stdout",
     "output_type": "stream",
     "text": [
      "Error getting ZIP for nan, nan: Must be a coordinate pair or Point\n"
     ]
    },
    {
     "name": "stdout",
     "output_type": "stream",
     "text": [
      "Error getting ZIP for nan, nan: Must be a coordinate pair or Point\n"
     ]
    },
    {
     "name": "stdout",
     "output_type": "stream",
     "text": [
      "Error getting ZIP for nan, nan: Must be a coordinate pair or Point\n"
     ]
    },
    {
     "name": "stdout",
     "output_type": "stream",
     "text": [
      "Error getting ZIP for nan, nan: Must be a coordinate pair or Point\n"
     ]
    },
    {
     "name": "stdout",
     "output_type": "stream",
     "text": [
      "Error getting ZIP for nan, nan: Must be a coordinate pair or Point\n"
     ]
    },
    {
     "name": "stdout",
     "output_type": "stream",
     "text": [
      "Error getting ZIP for nan, nan: Must be a coordinate pair or Point\n"
     ]
    },
    {
     "name": "stdout",
     "output_type": "stream",
     "text": [
      "Error getting ZIP for nan, nan: Must be a coordinate pair or Point\n"
     ]
    },
    {
     "name": "stdout",
     "output_type": "stream",
     "text": [
      "Error getting ZIP for nan, nan: Must be a coordinate pair or Point\n"
     ]
    },
    {
     "name": "stdout",
     "output_type": "stream",
     "text": [
      "Error getting ZIP for nan, nan: Must be a coordinate pair or Point\n"
     ]
    },
    {
     "name": "stdout",
     "output_type": "stream",
     "text": [
      "Error getting ZIP for nan, nan: Must be a coordinate pair or Point\n"
     ]
    },
    {
     "name": "stdout",
     "output_type": "stream",
     "text": [
      "Error getting ZIP for nan, nan: Must be a coordinate pair or Point\n"
     ]
    },
    {
     "name": "stdout",
     "output_type": "stream",
     "text": [
      "Error getting ZIP for nan, nan: Must be a coordinate pair or Point\n"
     ]
    },
    {
     "name": "stdout",
     "output_type": "stream",
     "text": [
      "Error getting ZIP for nan, nan: Must be a coordinate pair or Point\n"
     ]
    },
    {
     "name": "stdout",
     "output_type": "stream",
     "text": [
      "Error getting ZIP for nan, nan: Must be a coordinate pair or Point\n"
     ]
    },
    {
     "name": "stdout",
     "output_type": "stream",
     "text": [
      "Error getting ZIP for nan, nan: Must be a coordinate pair or Point\n"
     ]
    },
    {
     "name": "stdout",
     "output_type": "stream",
     "text": [
      "Error getting ZIP for nan, nan: Must be a coordinate pair or Point\n"
     ]
    },
    {
     "name": "stdout",
     "output_type": "stream",
     "text": [
      "Error getting ZIP for nan, nan: Must be a coordinate pair or Point\n"
     ]
    },
    {
     "name": "stdout",
     "output_type": "stream",
     "text": [
      "Error getting ZIP for nan, nan: Must be a coordinate pair or Point\n"
     ]
    },
    {
     "name": "stdout",
     "output_type": "stream",
     "text": [
      "Error getting ZIP for nan, nan: Must be a coordinate pair or Point\n"
     ]
    },
    {
     "name": "stdout",
     "output_type": "stream",
     "text": [
      "Error getting ZIP for nan, nan: Must be a coordinate pair or Point\n"
     ]
    },
    {
     "name": "stdout",
     "output_type": "stream",
     "text": [
      "Error getting ZIP for nan, nan: Must be a coordinate pair or Point\n"
     ]
    },
    {
     "data": {
      "text/html": [
       "<div>\n",
       "<style scoped>\n",
       "    .dataframe tbody tr th:only-of-type {\n",
       "        vertical-align: middle;\n",
       "    }\n",
       "\n",
       "    .dataframe tbody tr th {\n",
       "        vertical-align: top;\n",
       "    }\n",
       "\n",
       "    .dataframe thead th {\n",
       "        text-align: right;\n",
       "    }\n",
       "</style>\n",
       "<table border=\"1\" class=\"dataframe\">\n",
       "  <thead>\n",
       "    <tr style=\"text-align: right;\">\n",
       "      <th></th>\n",
       "      <th>RecordID</th>\n",
       "      <th>Offense</th>\n",
       "      <th>IncidentID</th>\n",
       "      <th>BlockNumber</th>\n",
       "      <th>StreetName</th>\n",
       "      <th>Agency</th>\n",
       "      <th>HourReported</th>\n",
       "      <th>ReportingOfficer</th>\n",
       "      <th>Date</th>\n",
       "      <th>DateString</th>\n",
       "      <th>DayOfWeek</th>\n",
       "      <th>Weekend</th>\n",
       "      <th>Season</th>\n",
       "      <th>HourAMPM</th>\n",
       "      <th>TimeOfDay</th>\n",
       "      <th>FullStreet</th>\n",
       "      <th>lat</th>\n",
       "      <th>lon</th>\n",
       "      <th>neighborhood</th>\n",
       "      <th>zip</th>\n",
       "    </tr>\n",
       "  </thead>\n",
       "  <tbody>\n",
       "    <tr>\n",
       "      <th>0</th>\n",
       "      <td>1</td>\n",
       "      <td>Larceny - Shoplifitng</td>\n",
       "      <td>202500028431</td>\n",
       "      <td>100</td>\n",
       "      <td>W MAIN ST</td>\n",
       "      <td>CPD</td>\n",
       "      <td>1712</td>\n",
       "      <td>Benbow, Lauren</td>\n",
       "      <td>2025-08-11 17:12:57</td>\n",
       "      <td>2025-08-11 05:12:57 PM</td>\n",
       "      <td>Monday</td>\n",
       "      <td>False</td>\n",
       "      <td>Summer</td>\n",
       "      <td>05:12 PM</td>\n",
       "      <td>Evening</td>\n",
       "      <td>100 W MAIN ST</td>\n",
       "      <td>38.030718</td>\n",
       "      <td>-78.481656</td>\n",
       "      <td>Downtown Mall</td>\n",
       "      <td>22902</td>\n",
       "    </tr>\n",
       "    <tr>\n",
       "      <th>1</th>\n",
       "      <td>2</td>\n",
       "      <td>Larceny - Of Veh Parts/Access</td>\n",
       "      <td>202500028412</td>\n",
       "      <td></td>\n",
       "      <td>DICE ST @ 4TH ST SW</td>\n",
       "      <td>CPD</td>\n",
       "      <td>1523</td>\n",
       "      <td>Essex, Dominique</td>\n",
       "      <td>2025-08-11 15:23:21</td>\n",
       "      <td>2025-08-11 03:23:21 PM</td>\n",
       "      <td>Monday</td>\n",
       "      <td>False</td>\n",
       "      <td>Summer</td>\n",
       "      <td>03:23 PM</td>\n",
       "      <td>Afternoon</td>\n",
       "      <td>DICE ST @ 4TH ST SW</td>\n",
       "      <td>NaN</td>\n",
       "      <td>NaN</td>\n",
       "      <td>N/A</td>\n",
       "      <td>N/A</td>\n",
       "    </tr>\n",
       "    <tr>\n",
       "      <th>2</th>\n",
       "      <td>3</td>\n",
       "      <td>Larceny - All Other</td>\n",
       "      <td>202500028407</td>\n",
       "      <td>300</td>\n",
       "      <td>7TH ST SW</td>\n",
       "      <td>CPD</td>\n",
       "      <td>1437</td>\n",
       "      <td>Lowry, Ryan</td>\n",
       "      <td>2025-08-11 14:37:16</td>\n",
       "      <td>2025-08-11 02:37:16 PM</td>\n",
       "      <td>Monday</td>\n",
       "      <td>False</td>\n",
       "      <td>Summer</td>\n",
       "      <td>02:37 PM</td>\n",
       "      <td>Afternoon</td>\n",
       "      <td>300 7TH ST SW</td>\n",
       "      <td>38.030049</td>\n",
       "      <td>-78.490024</td>\n",
       "      <td>Fifeville</td>\n",
       "      <td>22903</td>\n",
       "    </tr>\n",
       "    <tr>\n",
       "      <th>3</th>\n",
       "      <td>4</td>\n",
       "      <td>Hit and Run</td>\n",
       "      <td>202500028401</td>\n",
       "      <td>700</td>\n",
       "      <td>CYNTHIANNA AVE</td>\n",
       "      <td>CPD</td>\n",
       "      <td>1306</td>\n",
       "      <td>Love-Baker, Sydney</td>\n",
       "      <td>2025-08-11 13:06:51</td>\n",
       "      <td>2025-08-11 01:06:51 PM</td>\n",
       "      <td>Monday</td>\n",
       "      <td>False</td>\n",
       "      <td>Summer</td>\n",
       "      <td>01:06 PM</td>\n",
       "      <td>Afternoon</td>\n",
       "      <td>700 CYNTHIANNA AVE</td>\n",
       "      <td>38.038628</td>\n",
       "      <td>-78.482647</td>\n",
       "      <td>Rose Hill</td>\n",
       "      <td>22903</td>\n",
       "    </tr>\n",
       "    <tr>\n",
       "      <th>4</th>\n",
       "      <td>5</td>\n",
       "      <td>Hit and Run</td>\n",
       "      <td>202500028391</td>\n",
       "      <td></td>\n",
       "      <td>EMMET ST N @ 250 BYPASS E ON RAMP</td>\n",
       "      <td>CPD</td>\n",
       "      <td>1033</td>\n",
       "      <td>Love-Baker, Sydney</td>\n",
       "      <td>2025-08-11 10:33:51</td>\n",
       "      <td>2025-08-11 10:33:51 AM</td>\n",
       "      <td>Monday</td>\n",
       "      <td>False</td>\n",
       "      <td>Summer</td>\n",
       "      <td>10:33 AM</td>\n",
       "      <td>Morning</td>\n",
       "      <td>EMMET ST N @ 250 BYPASS E ON RAMP</td>\n",
       "      <td>NaN</td>\n",
       "      <td>NaN</td>\n",
       "      <td>N/A</td>\n",
       "      <td>N/A</td>\n",
       "    </tr>\n",
       "  </tbody>\n",
       "</table>\n",
       "</div>"
      ],
      "text/plain": [
       "   RecordID                        Offense    IncidentID BlockNumber  \\\n",
       "0         1          Larceny - Shoplifitng  202500028431         100   \n",
       "1         2  Larceny - Of Veh Parts/Access  202500028412               \n",
       "2         3            Larceny - All Other  202500028407         300   \n",
       "3         4                    Hit and Run  202500028401         700   \n",
       "4         5                    Hit and Run  202500028391               \n",
       "\n",
       "                          StreetName Agency HourReported    ReportingOfficer  \\\n",
       "0                          W MAIN ST    CPD         1712      Benbow, Lauren   \n",
       "1                DICE ST @ 4TH ST SW    CPD         1523    Essex, Dominique   \n",
       "2                          7TH ST SW    CPD         1437         Lowry, Ryan   \n",
       "3                     CYNTHIANNA AVE    CPD         1306  Love-Baker, Sydney   \n",
       "4  EMMET ST N @ 250 BYPASS E ON RAMP    CPD         1033  Love-Baker, Sydney   \n",
       "\n",
       "                 Date              DateString DayOfWeek  Weekend  Season  \\\n",
       "0 2025-08-11 17:12:57  2025-08-11 05:12:57 PM    Monday    False  Summer   \n",
       "1 2025-08-11 15:23:21  2025-08-11 03:23:21 PM    Monday    False  Summer   \n",
       "2 2025-08-11 14:37:16  2025-08-11 02:37:16 PM    Monday    False  Summer   \n",
       "3 2025-08-11 13:06:51  2025-08-11 01:06:51 PM    Monday    False  Summer   \n",
       "4 2025-08-11 10:33:51  2025-08-11 10:33:51 AM    Monday    False  Summer   \n",
       "\n",
       "   HourAMPM  TimeOfDay                          FullStreet        lat  \\\n",
       "0  05:12 PM    Evening                       100 W MAIN ST  38.030718   \n",
       "1  03:23 PM  Afternoon                 DICE ST @ 4TH ST SW        NaN   \n",
       "2  02:37 PM  Afternoon                       300 7TH ST SW  38.030049   \n",
       "3  01:06 PM  Afternoon                  700 CYNTHIANNA AVE  38.038628   \n",
       "4  10:33 AM    Morning   EMMET ST N @ 250 BYPASS E ON RAMP        NaN   \n",
       "\n",
       "         lon   neighborhood    zip  \n",
       "0 -78.481656  Downtown Mall  22902  \n",
       "1        NaN            N/A    N/A  \n",
       "2 -78.490024      Fifeville  22903  \n",
       "3 -78.482647      Rose Hill  22903  \n",
       "4        NaN            N/A    N/A  "
      ]
     },
     "execution_count": 11,
     "metadata": {},
     "output_type": "execute_result"
    }
   ],
   "source": [
    "# Initialize the geocoder.\n",
    "geolocator = Nominatim(user_agent=\"zip_lookup\")\n",
    "\n",
    "# Try to load a persistent ZIP cache if available.\n",
    "try:\n",
    "    with open(\"zip_cache.pkl\", \"rb\") as f:\n",
    "        zip_cache = pickle.load(f)\n",
    "    print(\"Loaded zip cache.\")\n",
    "except FileNotFoundError:\n",
    "    zip_cache = {}\n",
    "    print(\"No zip cache found; starting fresh.\")\n",
    "\n",
    "def get_zip(lat, lon):\n",
    "    \"\"\"\n",
    "    Reverse geocodes a latitude and longitude to retrieve the ZIP code.\n",
    "    Caches results to speed up subsequent lookups.\n",
    "    \"\"\"\n",
    "    key = (lat, lon)\n",
    "    if key in zip_cache:\n",
    "        return zip_cache[key]\n",
    "    \n",
    "    try:\n",
    "        location = geolocator.reverse((lat, lon), exactly_one=True, timeout=10)\n",
    "        address = location.raw.get('address', {})\n",
    "        postal_code = address.get('postcode', \"N/A\")\n",
    "    except Exception as e:\n",
    "        print(f\"Error getting ZIP for {lat}, {lon}: {e}\")\n",
    "        postal_code = \"N/A\"\n",
    "    \n",
    "    zip_cache[key] = postal_code\n",
    "    # Pause to respect the usage policy.\n",
    "    time.sleep(1)\n",
    "    return postal_code\n",
    "\n",
    "# Apply the function to each row in the DataFrame.\n",
    "df['zip'] = df.apply(lambda row: get_zip(row['lat'], row['lon']), axis=1)\n",
    "\n",
    "# Save the updated ZIP cache.\n",
    "with open(\"zip_cache.pkl\", \"wb\") as f:\n",
    "    pickle.dump(zip_cache, f)\n",
    "\n",
    "df.head()\n"
   ]
  },
  {
   "cell_type": "code",
   "execution_count": 12,
   "id": "e42da194",
   "metadata": {
    "execution": {
     "iopub.execute_input": "2025-08-14T01:09:06.826701Z",
     "iopub.status.busy": "2025-08-14T01:09:06.826479Z",
     "iopub.status.idle": "2025-08-14T01:09:06.856384Z",
     "shell.execute_reply": "2025-08-14T01:09:06.855802Z"
    },
    "papermill": {
     "duration": 0.041551,
     "end_time": "2025-08-14T01:09:06.857435",
     "exception": false,
     "start_time": "2025-08-14T01:09:06.815884",
     "status": "completed"
    },
    "tags": []
   },
   "outputs": [
    {
     "name": "stdout",
     "output_type": "stream",
     "text": [
      "                  MissingCount  MissingPercentage\n",
      "RecordID                     0               0.00\n",
      "Offense                      0               0.00\n",
      "IncidentID                   0               0.00\n",
      "BlockNumber                  0               0.00\n",
      "StreetName                   0               0.00\n",
      "Agency                       0               0.00\n",
      "HourReported                 0               0.00\n",
      "ReportingOfficer            15               0.06\n",
      "Date                         0               0.00\n",
      "DateString                   0               0.00\n",
      "DayOfWeek                    0               0.00\n",
      "Weekend                      0               0.00\n",
      "Season                       0               0.00\n",
      "HourAMPM                     0               0.00\n",
      "TimeOfDay                    0               0.00\n",
      "FullStreet                   0               0.00\n",
      "lat                         99               0.39\n",
      "lon                         99               0.39\n",
      "neighborhood                 0               0.00\n",
      "zip                          0               0.00\n"
     ]
    }
   ],
   "source": [
    "missing_info = missing_percentage(df)\n",
    "print(missing_info)\n"
   ]
  },
  {
   "cell_type": "code",
   "execution_count": 13,
   "id": "7aaf3519",
   "metadata": {
    "execution": {
     "iopub.execute_input": "2025-08-14T01:09:06.879048Z",
     "iopub.status.busy": "2025-08-14T01:09:06.878798Z",
     "iopub.status.idle": "2025-08-14T01:09:06.909386Z",
     "shell.execute_reply": "2025-08-14T01:09:06.908817Z"
    },
    "papermill": {
     "duration": 0.04257,
     "end_time": "2025-08-14T01:09:06.910436",
     "exception": false,
     "start_time": "2025-08-14T01:09:06.867866",
     "status": "completed"
    },
    "tags": []
   },
   "outputs": [
    {
     "name": "stdout",
     "output_type": "stream",
     "text": [
      "<class 'pandas.core.frame.DataFrame'>\n",
      "RangeIndex: 25645 entries, 0 to 25644\n",
      "Data columns (total 20 columns):\n",
      " #   Column            Non-Null Count  Dtype         \n",
      "---  ------            --------------  -----         \n",
      " 0   RecordID          25645 non-null  int64         \n",
      " 1   Offense           25645 non-null  object        \n",
      " 2   IncidentID        25645 non-null  object        \n",
      " 3   BlockNumber       25645 non-null  object        \n",
      " 4   StreetName        25645 non-null  object        \n",
      " 5   Agency            25645 non-null  object        \n",
      " 6   HourReported      25645 non-null  object        \n",
      " 7   ReportingOfficer  25630 non-null  object        \n",
      " 8   Date              25645 non-null  datetime64[ns]\n",
      " 9   DateString        25645 non-null  object        \n",
      " 10  DayOfWeek         25645 non-null  object        \n",
      " 11  Weekend           25645 non-null  bool          \n",
      " 12  Season            25645 non-null  object        \n",
      " 13  HourAMPM          25645 non-null  object        \n",
      " 14  TimeOfDay         25645 non-null  object        \n",
      " 15  FullStreet        25645 non-null  object        \n",
      " 16  lat               25546 non-null  float64       \n",
      " 17  lon               25546 non-null  float64       \n",
      " 18  neighborhood      25645 non-null  object        \n",
      " 19  zip               25645 non-null  object        \n",
      "dtypes: bool(1), datetime64[ns](1), float64(2), int64(1), object(15)\n",
      "memory usage: 3.7+ MB\n"
     ]
    }
   ],
   "source": [
    "df.info()"
   ]
  },
  {
   "cell_type": "code",
   "execution_count": 14,
   "id": "ee0fd6dd",
   "metadata": {
    "execution": {
     "iopub.execute_input": "2025-08-14T01:09:06.932280Z",
     "iopub.status.busy": "2025-08-14T01:09:06.931996Z",
     "iopub.status.idle": "2025-08-14T01:09:06.978859Z",
     "shell.execute_reply": "2025-08-14T01:09:06.978179Z"
    },
    "papermill": {
     "duration": 0.059046,
     "end_time": "2025-08-14T01:09:06.979991",
     "exception": false,
     "start_time": "2025-08-14T01:09:06.920945",
     "status": "completed"
    },
    "tags": []
   },
   "outputs": [
    {
     "data": {
      "text/html": [
       "<div>\n",
       "<style scoped>\n",
       "    .dataframe tbody tr th:only-of-type {\n",
       "        vertical-align: middle;\n",
       "    }\n",
       "\n",
       "    .dataframe tbody tr th {\n",
       "        vertical-align: top;\n",
       "    }\n",
       "\n",
       "    .dataframe thead th {\n",
       "        text-align: right;\n",
       "    }\n",
       "</style>\n",
       "<table border=\"1\" class=\"dataframe\">\n",
       "  <thead>\n",
       "    <tr style=\"text-align: right;\">\n",
       "      <th></th>\n",
       "      <th>RecordID</th>\n",
       "      <th>Offense</th>\n",
       "      <th>IncidentID</th>\n",
       "      <th>Agency</th>\n",
       "      <th>ReportingOfficer</th>\n",
       "      <th>Date</th>\n",
       "      <th>DayOfWeek</th>\n",
       "      <th>Weekend</th>\n",
       "      <th>Season</th>\n",
       "      <th>TimeOfDay</th>\n",
       "      <th>FullStreet</th>\n",
       "      <th>lat</th>\n",
       "      <th>lon</th>\n",
       "      <th>neighborhood</th>\n",
       "      <th>zip</th>\n",
       "    </tr>\n",
       "  </thead>\n",
       "  <tbody>\n",
       "    <tr>\n",
       "      <th>0</th>\n",
       "      <td>1</td>\n",
       "      <td>Larceny - Shoplifitng</td>\n",
       "      <td>202500028431</td>\n",
       "      <td>CPD</td>\n",
       "      <td>Benbow, Lauren</td>\n",
       "      <td>2025-08-11 17:12:57</td>\n",
       "      <td>Monday</td>\n",
       "      <td>False</td>\n",
       "      <td>Summer</td>\n",
       "      <td>Evening</td>\n",
       "      <td>100 W MAIN ST</td>\n",
       "      <td>38.030718</td>\n",
       "      <td>-78.481656</td>\n",
       "      <td>Downtown Mall</td>\n",
       "      <td>22902</td>\n",
       "    </tr>\n",
       "    <tr>\n",
       "      <th>1</th>\n",
       "      <td>2</td>\n",
       "      <td>Larceny - Of Veh Parts/Access</td>\n",
       "      <td>202500028412</td>\n",
       "      <td>CPD</td>\n",
       "      <td>Essex, Dominique</td>\n",
       "      <td>2025-08-11 15:23:21</td>\n",
       "      <td>Monday</td>\n",
       "      <td>False</td>\n",
       "      <td>Summer</td>\n",
       "      <td>Afternoon</td>\n",
       "      <td>DICE ST @ 4TH ST SW</td>\n",
       "      <td>N/A</td>\n",
       "      <td>N/A</td>\n",
       "      <td>N/A</td>\n",
       "      <td>N/A</td>\n",
       "    </tr>\n",
       "    <tr>\n",
       "      <th>2</th>\n",
       "      <td>3</td>\n",
       "      <td>Larceny - All Other</td>\n",
       "      <td>202500028407</td>\n",
       "      <td>CPD</td>\n",
       "      <td>Lowry, Ryan</td>\n",
       "      <td>2025-08-11 14:37:16</td>\n",
       "      <td>Monday</td>\n",
       "      <td>False</td>\n",
       "      <td>Summer</td>\n",
       "      <td>Afternoon</td>\n",
       "      <td>300 7TH ST SW</td>\n",
       "      <td>38.030049</td>\n",
       "      <td>-78.490024</td>\n",
       "      <td>Fifeville</td>\n",
       "      <td>22903</td>\n",
       "    </tr>\n",
       "    <tr>\n",
       "      <th>3</th>\n",
       "      <td>4</td>\n",
       "      <td>Hit and Run</td>\n",
       "      <td>202500028401</td>\n",
       "      <td>CPD</td>\n",
       "      <td>Love-Baker, Sydney</td>\n",
       "      <td>2025-08-11 13:06:51</td>\n",
       "      <td>Monday</td>\n",
       "      <td>False</td>\n",
       "      <td>Summer</td>\n",
       "      <td>Afternoon</td>\n",
       "      <td>700 CYNTHIANNA AVE</td>\n",
       "      <td>38.038628</td>\n",
       "      <td>-78.482647</td>\n",
       "      <td>Rose Hill</td>\n",
       "      <td>22903</td>\n",
       "    </tr>\n",
       "    <tr>\n",
       "      <th>4</th>\n",
       "      <td>5</td>\n",
       "      <td>Hit and Run</td>\n",
       "      <td>202500028391</td>\n",
       "      <td>CPD</td>\n",
       "      <td>Love-Baker, Sydney</td>\n",
       "      <td>2025-08-11 10:33:51</td>\n",
       "      <td>Monday</td>\n",
       "      <td>False</td>\n",
       "      <td>Summer</td>\n",
       "      <td>Morning</td>\n",
       "      <td>EMMET ST N @ 250 BYPASS E ON RAMP</td>\n",
       "      <td>N/A</td>\n",
       "      <td>N/A</td>\n",
       "      <td>N/A</td>\n",
       "      <td>N/A</td>\n",
       "    </tr>\n",
       "  </tbody>\n",
       "</table>\n",
       "</div>"
      ],
      "text/plain": [
       "   RecordID                        Offense    IncidentID Agency  \\\n",
       "0         1          Larceny - Shoplifitng  202500028431    CPD   \n",
       "1         2  Larceny - Of Veh Parts/Access  202500028412    CPD   \n",
       "2         3            Larceny - All Other  202500028407    CPD   \n",
       "3         4                    Hit and Run  202500028401    CPD   \n",
       "4         5                    Hit and Run  202500028391    CPD   \n",
       "\n",
       "     ReportingOfficer                Date DayOfWeek  Weekend  Season  \\\n",
       "0      Benbow, Lauren 2025-08-11 17:12:57    Monday    False  Summer   \n",
       "1    Essex, Dominique 2025-08-11 15:23:21    Monday    False  Summer   \n",
       "2         Lowry, Ryan 2025-08-11 14:37:16    Monday    False  Summer   \n",
       "3  Love-Baker, Sydney 2025-08-11 13:06:51    Monday    False  Summer   \n",
       "4  Love-Baker, Sydney 2025-08-11 10:33:51    Monday    False  Summer   \n",
       "\n",
       "   TimeOfDay                          FullStreet        lat        lon  \\\n",
       "0    Evening                       100 W MAIN ST  38.030718 -78.481656   \n",
       "1  Afternoon                 DICE ST @ 4TH ST SW        N/A        N/A   \n",
       "2  Afternoon                       300 7TH ST SW  38.030049 -78.490024   \n",
       "3  Afternoon                  700 CYNTHIANNA AVE  38.038628 -78.482647   \n",
       "4    Morning   EMMET ST N @ 250 BYPASS E ON RAMP        N/A        N/A   \n",
       "\n",
       "    neighborhood    zip  \n",
       "0  Downtown Mall  22902  \n",
       "1            N/A    N/A  \n",
       "2      Fifeville  22903  \n",
       "3      Rose Hill  22903  \n",
       "4            N/A    N/A  "
      ]
     },
     "execution_count": 14,
     "metadata": {},
     "output_type": "execute_result"
    }
   ],
   "source": [
    "# Now drop the original BlockNumber and StreetName columns\n",
    "df.drop(columns=['BlockNumber', 'StreetName','HourAMPM','HourReported','DateString'], inplace=True)\n",
    "df[\"zip\"] = df[\"zip\"].astype(str)\n",
    "\n",
    "# Fill all missing values in the DataFrame with \"N/A\"\n",
    "df.replace({None: \"N/A\", np.nan: \"N/A\", \"\": \"N/A\"}, inplace=True)\n",
    "df.head()"
   ]
  },
  {
   "cell_type": "code",
   "execution_count": 15,
   "id": "e29697a5",
   "metadata": {
    "execution": {
     "iopub.execute_input": "2025-08-14T01:09:07.001635Z",
     "iopub.status.busy": "2025-08-14T01:09:07.001385Z",
     "iopub.status.idle": "2025-08-14T01:09:07.022144Z",
     "shell.execute_reply": "2025-08-14T01:09:07.021553Z"
    },
    "papermill": {
     "duration": 0.03264,
     "end_time": "2025-08-14T01:09:07.023155",
     "exception": false,
     "start_time": "2025-08-14T01:09:06.990515",
     "status": "completed"
    },
    "tags": []
   },
   "outputs": [
    {
     "name": "stdout",
     "output_type": "stream",
     "text": [
      "                  MissingCount  MissingPercentage\n",
      "RecordID                     0                0.0\n",
      "Offense                      0                0.0\n",
      "IncidentID                   0                0.0\n",
      "Agency                       0                0.0\n",
      "ReportingOfficer             0                0.0\n",
      "Date                         0                0.0\n",
      "DayOfWeek                    0                0.0\n",
      "Weekend                      0                0.0\n",
      "Season                       0                0.0\n",
      "TimeOfDay                    0                0.0\n",
      "FullStreet                   0                0.0\n",
      "lat                          0                0.0\n",
      "lon                          0                0.0\n",
      "neighborhood                 0                0.0\n",
      "zip                          0                0.0\n"
     ]
    }
   ],
   "source": [
    "missing_info = missing_percentage(df)\n",
    "print(missing_info)"
   ]
  },
  {
   "cell_type": "code",
   "execution_count": 16,
   "id": "ee33770c",
   "metadata": {
    "execution": {
     "iopub.execute_input": "2025-08-14T01:09:07.045524Z",
     "iopub.status.busy": "2025-08-14T01:09:07.045284Z",
     "iopub.status.idle": "2025-08-14T01:09:07.049727Z",
     "shell.execute_reply": "2025-08-14T01:09:07.049071Z"
    },
    "papermill": {
     "duration": 0.016762,
     "end_time": "2025-08-14T01:09:07.050714",
     "exception": false,
     "start_time": "2025-08-14T01:09:07.033952",
     "status": "completed"
    },
    "tags": []
   },
   "outputs": [
    {
     "data": {
      "text/plain": [
       "Index(['RecordID', 'Offense', 'IncidentID', 'Agency', 'ReportingOfficer',\n",
       "       'Date', 'DayOfWeek', 'Weekend', 'Season', 'TimeOfDay', 'FullStreet',\n",
       "       'lat', 'lon', 'neighborhood', 'zip'],\n",
       "      dtype='object')"
      ]
     },
     "execution_count": 16,
     "metadata": {},
     "output_type": "execute_result"
    }
   ],
   "source": [
    "df.columns"
   ]
  },
  {
   "cell_type": "code",
   "execution_count": 17,
   "id": "54fe57e7",
   "metadata": {
    "execution": {
     "iopub.execute_input": "2025-08-14T01:09:07.072937Z",
     "iopub.status.busy": "2025-08-14T01:09:07.072629Z",
     "iopub.status.idle": "2025-08-14T01:09:07.096285Z",
     "shell.execute_reply": "2025-08-14T01:09:07.095666Z"
    },
    "papermill": {
     "duration": 0.035968,
     "end_time": "2025-08-14T01:09:07.097321",
     "exception": false,
     "start_time": "2025-08-14T01:09:07.061353",
     "status": "completed"
    },
    "tags": []
   },
   "outputs": [
    {
     "name": "stdout",
     "output_type": "stream",
     "text": [
      "<class 'pandas.core.frame.DataFrame'>\n",
      "RangeIndex: 25645 entries, 0 to 25644\n",
      "Data columns (total 15 columns):\n",
      " #   Column            Non-Null Count  Dtype         \n",
      "---  ------            --------------  -----         \n",
      " 0   RecordID          25645 non-null  int64         \n",
      " 1   Offense           25645 non-null  object        \n",
      " 2   IncidentID        25645 non-null  object        \n",
      " 3   Agency            25645 non-null  object        \n",
      " 4   ReportingOfficer  25645 non-null  object        \n",
      " 5   Date              25645 non-null  datetime64[ns]\n",
      " 6   DayOfWeek         25645 non-null  object        \n",
      " 7   Weekend           25645 non-null  bool          \n",
      " 8   Season            25645 non-null  object        \n",
      " 9   TimeOfDay         25645 non-null  object        \n",
      " 10  FullStreet        25645 non-null  object        \n",
      " 11  lat               25645 non-null  object        \n",
      " 12  lon               25645 non-null  object        \n",
      " 13  neighborhood      25645 non-null  object        \n",
      " 14  zip               25645 non-null  object        \n",
      "dtypes: bool(1), datetime64[ns](1), int64(1), object(12)\n",
      "memory usage: 2.8+ MB\n"
     ]
    }
   ],
   "source": [
    "df.info()"
   ]
  },
  {
   "cell_type": "markdown",
   "id": "8225318e",
   "metadata": {
    "papermill": {
     "duration": 0.010498,
     "end_time": "2025-08-14T01:09:07.118717",
     "exception": false,
     "start_time": "2025-08-14T01:09:07.108219",
     "status": "completed"
    },
    "tags": []
   },
   "source": [
    "### Export Clean Data"
   ]
  },
  {
   "cell_type": "code",
   "execution_count": 18,
   "id": "8beaaaea",
   "metadata": {
    "execution": {
     "iopub.execute_input": "2025-08-14T01:09:07.141153Z",
     "iopub.status.busy": "2025-08-14T01:09:07.140867Z",
     "iopub.status.idle": "2025-08-14T01:09:16.369104Z",
     "shell.execute_reply": "2025-08-14T01:09:16.368424Z"
    },
    "papermill": {
     "duration": 9.2407,
     "end_time": "2025-08-14T01:09:16.370133",
     "exception": false,
     "start_time": "2025-08-14T01:09:07.129433",
     "status": "completed"
    },
    "tags": []
   },
   "outputs": [
    {
     "name": "stdout",
     "output_type": "stream",
     "text": [
      "Project Root: /home/runner/work/crime-data/crime-data\n"
     ]
    },
    {
     "name": "stdout",
     "output_type": "stream",
     "text": [
      "Data saved to: /home/runner/work/crime-data/crime-data/data/charlottesville_crime_incidents.csv\n"
     ]
    },
    {
     "name": "stdout",
     "output_type": "stream",
     "text": [
      "Excel saved to: /home/runner/work/crime-data/crime-data/data/charlottesville_crime_incidents.xlsx\n"
     ]
    }
   ],
   "source": [
    "# Determine the project root (assuming papermill is run from the repository root)\n",
    "project_root = os.getcwd()\n",
    "print(\"Project Root:\", project_root)\n",
    "\n",
    "# Set the data directory within the project root\n",
    "data_dir = os.path.join(project_root, \"data\")\n",
    "\n",
    "# Ensure the \"data\" directory exists (create it if it doesn't)\n",
    "if not os.path.exists(data_dir):\n",
    "    os.makedirs(data_dir)\n",
    "\n",
    "# Export the DataFrame to CSV in the \"data\" folder located in the project root\n",
    "csv_path = os.path.join(data_dir, \"charlottesville_crime_incidents.csv\")\n",
    "df.to_csv(csv_path, index=False)\n",
    "print(\"Data saved to:\", csv_path)\n",
    "\n",
    "# Construct the path to your Excel file\n",
    "excel_path = os.path.join(data_dir, \"charlottesville_crime_incidents.xlsx\")\n",
    "\n",
    "# Export the DataFrame to Excel\n",
    "df.to_excel(excel_path, index=False)\n",
    "print(\"Excel saved to:\", excel_path)\n"
   ]
  }
 ],
 "metadata": {
  "kernelspec": {
   "display_name": "Python 3",
   "language": "python",
   "name": "python3"
  },
  "language_info": {
   "codemirror_mode": {
    "name": "ipython",
    "version": 3
   },
   "file_extension": ".py",
   "mimetype": "text/x-python",
   "name": "python",
   "nbconvert_exporter": "python",
   "pygments_lexer": "ipython3",
   "version": "3.9.23"
  },
  "papermill": {
   "default_parameters": {},
   "duration": 185.291378,
   "end_time": "2025-08-14T01:09:16.797290",
   "environment_variables": {},
   "exception": null,
   "input_path": "notebook/Crime Data.ipynb",
   "output_path": "notebook/Crime Data_output.ipynb",
   "parameters": {},
   "start_time": "2025-08-14T01:06:11.505912",
   "version": "2.6.0"
  }
 },
 "nbformat": 4,
 "nbformat_minor": 5
}