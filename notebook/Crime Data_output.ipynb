{
 "cells": [
  {
   "cell_type": "markdown",
   "id": "4d4ef457",
   "metadata": {
    "papermill": {
     "duration": 0.004427,
     "end_time": "2025-08-07T01:10:57.110375",
     "exception": false,
     "start_time": "2025-08-07T01:10:57.105948",
     "status": "completed"
    },
    "tags": []
   },
   "source": [
    "# Charlottesville Open Data Porttal: Crime Data"
   ]
  },
  {
   "cell_type": "markdown",
   "id": "6691c645",
   "metadata": {
    "papermill": {
     "duration": 0.004308,
     "end_time": "2025-08-07T01:10:57.118289",
     "exception": false,
     "start_time": "2025-08-07T01:10:57.113981",
     "status": "completed"
    },
    "tags": []
   },
   "source": [
    "## Import Relevant Librarires & Set WD"
   ]
  },
  {
   "cell_type": "code",
   "execution_count": 1,
   "id": "7de22294",
   "metadata": {
    "execution": {
     "iopub.execute_input": "2025-08-07T01:10:57.125978Z",
     "iopub.status.busy": "2025-08-07T01:10:57.125719Z",
     "iopub.status.idle": "2025-08-07T01:10:57.736416Z",
     "shell.execute_reply": "2025-08-07T01:10:57.735661Z"
    },
    "papermill": {
     "duration": 0.616566,
     "end_time": "2025-08-07T01:10:57.738131",
     "exception": false,
     "start_time": "2025-08-07T01:10:57.121565",
     "status": "completed"
    },
    "tags": []
   },
   "outputs": [],
   "source": [
    "import requests\n",
    "import pandas as pd\n",
    "import numpy as np\n",
    "import pickle\n",
    "import googlemaps\n",
    "import plotly.express as px\n",
    "from geopy.geocoders import Nominatim\n",
    "import time\n",
    "from dotenv import load_dotenv\n",
    "import os\n",
    "\n",
    "env_path = os.path.join(\"..\", \".env\")\n",
    "#print(\"Looking for .env file at:\", os.path.abspath(env_path))\n",
    "load_dotenv(dotenv_path=env_path)\n",
    "\n",
    "# Retrieve the variables\n",
    "GOOGLE_API_KEY = os.getenv(\"GOOGLE_API_KEY\")\n",
    "WORKING_DIR = os.getenv(\"WORKING_DIR\")\n",
    "\n",
    "if GOOGLE_API_KEY is None or WORKING_DIR is None:\n",
    "    raise RuntimeError(\"No configuration found. Please ensure that your .env file exists with the required variables, or create a local config.py file.\")\n",
    "\n",
    "#print(\"Google API Key:\", GOOGLE_API_KEY)\n",
    "#print(\"Working Directory:\", WORKING_DIR)"
   ]
  },
  {
   "cell_type": "markdown",
   "id": "5a29c8a2",
   "metadata": {
    "papermill": {
     "duration": 0.00484,
     "end_time": "2025-08-07T01:10:57.748531",
     "exception": false,
     "start_time": "2025-08-07T01:10:57.743691",
     "status": "completed"
    },
    "tags": []
   },
   "source": [
    "## Import Data\n",
    "\n",
    "URL: https://opendata.charlottesville.org/datasets/charlottesville::crime-data/about"
   ]
  },
  {
   "cell_type": "code",
   "execution_count": 2,
   "id": "8ed38ab3",
   "metadata": {
    "execution": {
     "iopub.execute_input": "2025-08-07T01:10:57.759436Z",
     "iopub.status.busy": "2025-08-07T01:10:57.759119Z",
     "iopub.status.idle": "2025-08-07T01:12:08.408590Z",
     "shell.execute_reply": "2025-08-07T01:12:08.407854Z"
    },
    "papermill": {
     "duration": 70.658855,
     "end_time": "2025-08-07T01:12:08.412392",
     "exception": false,
     "start_time": "2025-08-07T01:10:57.753537",
     "status": "completed"
    },
    "tags": []
   },
   "outputs": [
    {
     "name": "stdout",
     "output_type": "stream",
     "text": [
      "Total records imported: 25630\n"
     ]
    }
   ],
   "source": [
    "# Define the endpoint and initial parameters.\n",
    "url = \"https://gisweb.charlottesville.org/arcgis/rest/services/OpenData_2/MapServer/6/query\"\n",
    "params = {\n",
    "    \"where\": \"1=1\",\n",
    "    \"outFields\": \"*\",\n",
    "    \"outSR\": 4326,\n",
    "    \"f\": \"json\",\n",
    "    \"resultOffset\": 0,       # Starting index for results\n",
    "    \"resultRecordCount\": 10000  # Maximum records per batch (if allowed by the API)\n",
    "}\n",
    "\n",
    "records = []\n",
    "\n",
    "while True:\n",
    "    response = requests.get(url, params=params)\n",
    "    response.raise_for_status()\n",
    "    data = response.json()\n",
    "    \n",
    "    # Get the current batch of features.\n",
    "    features = data.get(\"features\", [])\n",
    "    if not features:\n",
    "        break\n",
    "\n",
    "    # Extract the attributes from the features.\n",
    "    batch_records = [feature.get(\"attributes\", {}) for feature in features]\n",
    "    records.extend(batch_records)\n",
    "    \n",
    "    # If the batch size is less than the requested count, we reached the end.\n",
    "    if len(features) < params[\"resultRecordCount\"]:\n",
    "        break\n",
    "\n",
    "    # Update the resultOffset for the next batch.\n",
    "    params[\"resultOffset\"] += params[\"resultRecordCount\"]\n",
    "\n",
    "# Create a DataFrame from the combined records.\n",
    "df = pd.DataFrame(records)\n",
    "print(\"Total records imported:\", len(df))\n"
   ]
  },
  {
   "cell_type": "code",
   "execution_count": 3,
   "id": "d06b8caf",
   "metadata": {
    "execution": {
     "iopub.execute_input": "2025-08-07T01:12:08.420103Z",
     "iopub.status.busy": "2025-08-07T01:12:08.419861Z",
     "iopub.status.idle": "2025-08-07T01:12:08.431842Z",
     "shell.execute_reply": "2025-08-07T01:12:08.431228Z"
    },
    "papermill": {
     "duration": 0.016945,
     "end_time": "2025-08-07T01:12:08.432804",
     "exception": false,
     "start_time": "2025-08-07T01:12:08.415859",
     "status": "completed"
    },
    "tags": []
   },
   "outputs": [
    {
     "data": {
      "text/html": [
       "<div>\n",
       "<style scoped>\n",
       "    .dataframe tbody tr th:only-of-type {\n",
       "        vertical-align: middle;\n",
       "    }\n",
       "\n",
       "    .dataframe tbody tr th {\n",
       "        vertical-align: top;\n",
       "    }\n",
       "\n",
       "    .dataframe thead th {\n",
       "        text-align: right;\n",
       "    }\n",
       "</style>\n",
       "<table border=\"1\" class=\"dataframe\">\n",
       "  <thead>\n",
       "    <tr style=\"text-align: right;\">\n",
       "      <th></th>\n",
       "      <th>RecordID</th>\n",
       "      <th>Offense</th>\n",
       "      <th>IncidentID</th>\n",
       "      <th>BlockNumber</th>\n",
       "      <th>StreetName</th>\n",
       "      <th>Agency</th>\n",
       "      <th>DateReported</th>\n",
       "      <th>HourReported</th>\n",
       "      <th>ReportingOfficer</th>\n",
       "    </tr>\n",
       "  </thead>\n",
       "  <tbody>\n",
       "    <tr>\n",
       "      <th>0</th>\n",
       "      <td>1</td>\n",
       "      <td>Missing Person-juvenile</td>\n",
       "      <td>202500027550</td>\n",
       "      <td>1400</td>\n",
       "      <td>BAKER ST, B</td>\n",
       "      <td>CPD</td>\n",
       "      <td>1754358236000</td>\n",
       "      <td>2143</td>\n",
       "      <td>Urban, Jacob</td>\n",
       "    </tr>\n",
       "    <tr>\n",
       "      <th>1</th>\n",
       "      <td>2</td>\n",
       "      <td>Larceny - From Motor Vehicle</td>\n",
       "      <td>202500027541</td>\n",
       "      <td>800</td>\n",
       "      <td>CABELL AVE</td>\n",
       "      <td>CPD</td>\n",
       "      <td>1754352431000</td>\n",
       "      <td>2007</td>\n",
       "      <td>Khaleefa, Hamzeh</td>\n",
       "    </tr>\n",
       "    <tr>\n",
       "      <th>2</th>\n",
       "      <td>3</td>\n",
       "      <td>Fraud-impersonation</td>\n",
       "      <td>202500027525</td>\n",
       "      <td>1000</td>\n",
       "      <td>COTTONWOOD RD</td>\n",
       "      <td>CPD</td>\n",
       "      <td>1754345117000</td>\n",
       "      <td>1805</td>\n",
       "      <td>Bland, Johnnà</td>\n",
       "    </tr>\n",
       "    <tr>\n",
       "      <th>3</th>\n",
       "      <td>4</td>\n",
       "      <td>Misc - Criminal Call</td>\n",
       "      <td>202500027517</td>\n",
       "      <td>100</td>\n",
       "      <td>MAURY AVE</td>\n",
       "      <td>CPD</td>\n",
       "      <td>1754342431000</td>\n",
       "      <td>1720</td>\n",
       "      <td>Urban, Jacob</td>\n",
       "    </tr>\n",
       "    <tr>\n",
       "      <th>4</th>\n",
       "      <td>5</td>\n",
       "      <td>Assault Aggravated</td>\n",
       "      <td>202500027508</td>\n",
       "      <td>800</td>\n",
       "      <td>HARDY DR, C</td>\n",
       "      <td>CPD</td>\n",
       "      <td>1754338401000</td>\n",
       "      <td>1613</td>\n",
       "      <td>Khaleefa, Hamzeh</td>\n",
       "    </tr>\n",
       "  </tbody>\n",
       "</table>\n",
       "</div>"
      ],
      "text/plain": [
       "   RecordID                       Offense    IncidentID BlockNumber  \\\n",
       "0         1       Missing Person-juvenile  202500027550        1400   \n",
       "1         2  Larceny - From Motor Vehicle  202500027541         800   \n",
       "2         3           Fraud-impersonation  202500027525        1000   \n",
       "3         4          Misc - Criminal Call  202500027517         100   \n",
       "4         5            Assault Aggravated  202500027508         800   \n",
       "\n",
       "      StreetName Agency   DateReported HourReported  ReportingOfficer  \n",
       "0    BAKER ST, B    CPD  1754358236000         2143      Urban, Jacob  \n",
       "1     CABELL AVE    CPD  1754352431000         2007  Khaleefa, Hamzeh  \n",
       "2  COTTONWOOD RD    CPD  1754345117000         1805     Bland, Johnnà  \n",
       "3      MAURY AVE    CPD  1754342431000         1720      Urban, Jacob  \n",
       "4    HARDY DR, C    CPD  1754338401000         1613  Khaleefa, Hamzeh  "
      ]
     },
     "execution_count": 3,
     "metadata": {},
     "output_type": "execute_result"
    }
   ],
   "source": [
    "df.head()"
   ]
  },
  {
   "cell_type": "code",
   "execution_count": 4,
   "id": "da8d1687",
   "metadata": {
    "execution": {
     "iopub.execute_input": "2025-08-07T01:12:08.440650Z",
     "iopub.status.busy": "2025-08-07T01:12:08.440443Z",
     "iopub.status.idle": "2025-08-07T01:12:08.444585Z",
     "shell.execute_reply": "2025-08-07T01:12:08.443915Z"
    },
    "papermill": {
     "duration": 0.009292,
     "end_time": "2025-08-07T01:12:08.445676",
     "exception": false,
     "start_time": "2025-08-07T01:12:08.436384",
     "status": "completed"
    },
    "tags": []
   },
   "outputs": [
    {
     "data": {
      "text/plain": [
       "Index(['RecordID', 'Offense', 'IncidentID', 'BlockNumber', 'StreetName',\n",
       "       'Agency', 'DateReported', 'HourReported', 'ReportingOfficer'],\n",
       "      dtype='object')"
      ]
     },
     "execution_count": 4,
     "metadata": {},
     "output_type": "execute_result"
    }
   ],
   "source": [
    "df.columns"
   ]
  },
  {
   "cell_type": "code",
   "execution_count": 5,
   "id": "be8c1986",
   "metadata": {
    "execution": {
     "iopub.execute_input": "2025-08-07T01:12:08.453701Z",
     "iopub.status.busy": "2025-08-07T01:12:08.453523Z",
     "iopub.status.idle": "2025-08-07T01:12:08.477207Z",
     "shell.execute_reply": "2025-08-07T01:12:08.476629Z"
    },
    "papermill": {
     "duration": 0.028799,
     "end_time": "2025-08-07T01:12:08.478209",
     "exception": false,
     "start_time": "2025-08-07T01:12:08.449410",
     "status": "completed"
    },
    "tags": []
   },
   "outputs": [
    {
     "name": "stdout",
     "output_type": "stream",
     "text": [
      "<class 'pandas.core.frame.DataFrame'>\n",
      "RangeIndex: 25630 entries, 0 to 25629\n",
      "Data columns (total 9 columns):\n",
      " #   Column            Non-Null Count  Dtype \n",
      "---  ------            --------------  ----- \n",
      " 0   RecordID          25630 non-null  int64 \n",
      " 1   Offense           25630 non-null  object\n",
      " 2   IncidentID        25630 non-null  object\n",
      " 3   BlockNumber       25630 non-null  object\n",
      " 4   StreetName        25630 non-null  object\n",
      " 5   Agency            25630 non-null  object\n",
      " 6   DateReported      25630 non-null  int64 \n",
      " 7   HourReported      25630 non-null  object\n",
      " 8   ReportingOfficer  25614 non-null  object\n",
      "dtypes: int64(2), object(7)\n",
      "memory usage: 1.8+ MB\n"
     ]
    }
   ],
   "source": [
    "df.info()"
   ]
  },
  {
   "cell_type": "markdown",
   "id": "9ca3e56b",
   "metadata": {
    "papermill": {
     "duration": 0.00371,
     "end_time": "2025-08-07T01:12:08.485880",
     "exception": false,
     "start_time": "2025-08-07T01:12:08.482170",
     "status": "completed"
    },
    "tags": []
   },
   "source": [
    "### Missing Values"
   ]
  },
  {
   "cell_type": "code",
   "execution_count": 6,
   "id": "741286db",
   "metadata": {
    "execution": {
     "iopub.execute_input": "2025-08-07T01:12:08.494196Z",
     "iopub.status.busy": "2025-08-07T01:12:08.493986Z",
     "iopub.status.idle": "2025-08-07T01:12:08.519488Z",
     "shell.execute_reply": "2025-08-07T01:12:08.518847Z"
    },
    "papermill": {
     "duration": 0.030944,
     "end_time": "2025-08-07T01:12:08.520541",
     "exception": false,
     "start_time": "2025-08-07T01:12:08.489597",
     "status": "completed"
    },
    "tags": []
   },
   "outputs": [
    {
     "name": "stdout",
     "output_type": "stream",
     "text": [
      "                  MissingCount  MissingPercentage\n",
      "RecordID                     0               0.00\n",
      "Offense                      0               0.00\n",
      "IncidentID                   0               0.00\n",
      "BlockNumber                  0               0.00\n",
      "StreetName                   0               0.00\n",
      "Agency                       0               0.00\n",
      "DateReported                 0               0.00\n",
      "HourReported                 0               0.00\n",
      "ReportingOfficer            16               0.06\n"
     ]
    }
   ],
   "source": [
    "def missing_percentage(df):\n",
    "    \"\"\"\n",
    "    Returns a DataFrame with the count and percentage of missing values for each column.\n",
    "    \n",
    "    Parameters:\n",
    "        df (pd.DataFrame): The input DataFrame.\n",
    "    \n",
    "    Returns:\n",
    "        pd.DataFrame: A DataFrame with columns 'MissingCount' and 'MissingPercentage'.\n",
    "    \"\"\"\n",
    "    total_rows = len(df)\n",
    "    missing_count = df.isnull().sum()\n",
    "    missing_percent = (missing_count / total_rows) * 100\n",
    "    \n",
    "    result = pd.DataFrame({\n",
    "        'MissingCount': missing_count,\n",
    "        'MissingPercentage': missing_percent.round(2)\n",
    "    })\n",
    "    \n",
    "    return result\n",
    "\n",
    "# Example usage:\n",
    "missing_info = missing_percentage(df)\n",
    "print(missing_info)\n"
   ]
  },
  {
   "cell_type": "markdown",
   "id": "a3a9b60a",
   "metadata": {
    "papermill": {
     "duration": 0.003835,
     "end_time": "2025-08-07T01:12:08.528652",
     "exception": false,
     "start_time": "2025-08-07T01:12:08.524817",
     "status": "completed"
    },
    "tags": []
   },
   "source": [
    "## Data Preparation"
   ]
  },
  {
   "cell_type": "markdown",
   "id": "9509fe3a",
   "metadata": {
    "papermill": {
     "duration": 0.003752,
     "end_time": "2025-08-07T01:12:08.536204",
     "exception": false,
     "start_time": "2025-08-07T01:12:08.532452",
     "status": "completed"
    },
    "tags": []
   },
   "source": [
    "### Data Conversion"
   ]
  },
  {
   "cell_type": "code",
   "execution_count": 7,
   "id": "887c290f",
   "metadata": {
    "execution": {
     "iopub.execute_input": "2025-08-07T01:12:08.544874Z",
     "iopub.status.busy": "2025-08-07T01:12:08.544620Z",
     "iopub.status.idle": "2025-08-07T01:12:08.905720Z",
     "shell.execute_reply": "2025-08-07T01:12:08.905096Z"
    },
    "papermill": {
     "duration": 0.366692,
     "end_time": "2025-08-07T01:12:08.906763",
     "exception": false,
     "start_time": "2025-08-07T01:12:08.540071",
     "status": "completed"
    },
    "tags": []
   },
   "outputs": [
    {
     "data": {
      "text/html": [
       "<div>\n",
       "<style scoped>\n",
       "    .dataframe tbody tr th:only-of-type {\n",
       "        vertical-align: middle;\n",
       "    }\n",
       "\n",
       "    .dataframe tbody tr th {\n",
       "        vertical-align: top;\n",
       "    }\n",
       "\n",
       "    .dataframe thead th {\n",
       "        text-align: right;\n",
       "    }\n",
       "</style>\n",
       "<table border=\"1\" class=\"dataframe\">\n",
       "  <thead>\n",
       "    <tr style=\"text-align: right;\">\n",
       "      <th></th>\n",
       "      <th>RecordID</th>\n",
       "      <th>Offense</th>\n",
       "      <th>IncidentID</th>\n",
       "      <th>BlockNumber</th>\n",
       "      <th>StreetName</th>\n",
       "      <th>Agency</th>\n",
       "      <th>HourReported</th>\n",
       "      <th>ReportingOfficer</th>\n",
       "      <th>Date</th>\n",
       "      <th>DateString</th>\n",
       "      <th>DayOfWeek</th>\n",
       "      <th>Weekend</th>\n",
       "      <th>Season</th>\n",
       "      <th>HourAMPM</th>\n",
       "      <th>TimeOfDay</th>\n",
       "    </tr>\n",
       "  </thead>\n",
       "  <tbody>\n",
       "    <tr>\n",
       "      <th>0</th>\n",
       "      <td>1</td>\n",
       "      <td>Missing Person-juvenile</td>\n",
       "      <td>202500027550</td>\n",
       "      <td>1400</td>\n",
       "      <td>BAKER ST, B</td>\n",
       "      <td>CPD</td>\n",
       "      <td>2143</td>\n",
       "      <td>Urban, Jacob</td>\n",
       "      <td>2025-08-04 21:43:56</td>\n",
       "      <td>2025-08-04 09:43:56 PM</td>\n",
       "      <td>Monday</td>\n",
       "      <td>False</td>\n",
       "      <td>Summer</td>\n",
       "      <td>09:43 PM</td>\n",
       "      <td>Night</td>\n",
       "    </tr>\n",
       "    <tr>\n",
       "      <th>1</th>\n",
       "      <td>2</td>\n",
       "      <td>Larceny - From Motor Vehicle</td>\n",
       "      <td>202500027541</td>\n",
       "      <td>800</td>\n",
       "      <td>CABELL AVE</td>\n",
       "      <td>CPD</td>\n",
       "      <td>2007</td>\n",
       "      <td>Khaleefa, Hamzeh</td>\n",
       "      <td>2025-08-04 20:07:11</td>\n",
       "      <td>2025-08-04 08:07:11 PM</td>\n",
       "      <td>Monday</td>\n",
       "      <td>False</td>\n",
       "      <td>Summer</td>\n",
       "      <td>08:07 PM</td>\n",
       "      <td>Evening</td>\n",
       "    </tr>\n",
       "    <tr>\n",
       "      <th>2</th>\n",
       "      <td>3</td>\n",
       "      <td>Fraud-impersonation</td>\n",
       "      <td>202500027525</td>\n",
       "      <td>1000</td>\n",
       "      <td>COTTONWOOD RD</td>\n",
       "      <td>CPD</td>\n",
       "      <td>1805</td>\n",
       "      <td>Bland, Johnnà</td>\n",
       "      <td>2025-08-04 18:05:17</td>\n",
       "      <td>2025-08-04 06:05:17 PM</td>\n",
       "      <td>Monday</td>\n",
       "      <td>False</td>\n",
       "      <td>Summer</td>\n",
       "      <td>06:05 PM</td>\n",
       "      <td>Evening</td>\n",
       "    </tr>\n",
       "    <tr>\n",
       "      <th>3</th>\n",
       "      <td>4</td>\n",
       "      <td>Misc - Criminal Call</td>\n",
       "      <td>202500027517</td>\n",
       "      <td>100</td>\n",
       "      <td>MAURY AVE</td>\n",
       "      <td>CPD</td>\n",
       "      <td>1720</td>\n",
       "      <td>Urban, Jacob</td>\n",
       "      <td>2025-08-04 17:20:31</td>\n",
       "      <td>2025-08-04 05:20:31 PM</td>\n",
       "      <td>Monday</td>\n",
       "      <td>False</td>\n",
       "      <td>Summer</td>\n",
       "      <td>05:20 PM</td>\n",
       "      <td>Evening</td>\n",
       "    </tr>\n",
       "    <tr>\n",
       "      <th>4</th>\n",
       "      <td>5</td>\n",
       "      <td>Assault Aggravated</td>\n",
       "      <td>202500027508</td>\n",
       "      <td>800</td>\n",
       "      <td>HARDY DR, C</td>\n",
       "      <td>CPD</td>\n",
       "      <td>1613</td>\n",
       "      <td>Khaleefa, Hamzeh</td>\n",
       "      <td>2025-08-04 16:13:21</td>\n",
       "      <td>2025-08-04 04:13:21 PM</td>\n",
       "      <td>Monday</td>\n",
       "      <td>False</td>\n",
       "      <td>Summer</td>\n",
       "      <td>04:13 PM</td>\n",
       "      <td>Afternoon</td>\n",
       "    </tr>\n",
       "  </tbody>\n",
       "</table>\n",
       "</div>"
      ],
      "text/plain": [
       "   RecordID                       Offense    IncidentID BlockNumber  \\\n",
       "0         1       Missing Person-juvenile  202500027550        1400   \n",
       "1         2  Larceny - From Motor Vehicle  202500027541         800   \n",
       "2         3           Fraud-impersonation  202500027525        1000   \n",
       "3         4          Misc - Criminal Call  202500027517         100   \n",
       "4         5            Assault Aggravated  202500027508         800   \n",
       "\n",
       "      StreetName Agency HourReported  ReportingOfficer                Date  \\\n",
       "0    BAKER ST, B    CPD         2143      Urban, Jacob 2025-08-04 21:43:56   \n",
       "1     CABELL AVE    CPD         2007  Khaleefa, Hamzeh 2025-08-04 20:07:11   \n",
       "2  COTTONWOOD RD    CPD         1805     Bland, Johnnà 2025-08-04 18:05:17   \n",
       "3      MAURY AVE    CPD         1720      Urban, Jacob 2025-08-04 17:20:31   \n",
       "4    HARDY DR, C    CPD         1613  Khaleefa, Hamzeh 2025-08-04 16:13:21   \n",
       "\n",
       "               DateString DayOfWeek  Weekend  Season  HourAMPM  TimeOfDay  \n",
       "0  2025-08-04 09:43:56 PM    Monday    False  Summer  09:43 PM      Night  \n",
       "1  2025-08-04 08:07:11 PM    Monday    False  Summer  08:07 PM    Evening  \n",
       "2  2025-08-04 06:05:17 PM    Monday    False  Summer  06:05 PM    Evening  \n",
       "3  2025-08-04 05:20:31 PM    Monday    False  Summer  05:20 PM    Evening  \n",
       "4  2025-08-04 04:13:21 PM    Monday    False  Summer  04:13 PM  Afternoon  "
      ]
     },
     "execution_count": 7,
     "metadata": {},
     "output_type": "execute_result"
    }
   ],
   "source": [
    "def convert_and_categorize_datereported(df, col='DateReported'):\n",
    "    \"\"\"\n",
    "    Converts an epoch (in milliseconds) date column into a timezone-aware datetime,\n",
    "    converts it to Eastern Time, and then creates columns for day-of-week, weekend flag,\n",
    "    season, 12-hour formatted time, and time-of-day. Keeps both a real datetime column\n",
    "    (Date) and a string representation (DateString).\n",
    "    \"\"\"\n",
    "    import pandas as pd\n",
    "\n",
    "    # Convert the epoch timestamp to a pandas datetime object as UTC, then convert to US/Eastern.\n",
    "    df[\"DateReported_dt\"] = (\n",
    "        pd.to_datetime(df[col], unit=\"ms\", errors=\"coerce\", utc=True)\n",
    "        .dt.tz_convert(\"US/Eastern\")\n",
    "    )\n",
    "    \n",
    "    # Create a true datetime column (remove timezone if you prefer naive datetime)\n",
    "    df[\"Date\"] = df[\"DateReported_dt\"].dt.tz_localize(None)\n",
    "\n",
    "    # Optionally, create a separate string-formatted column\n",
    "    df[\"DateString\"] = df[\"DateReported_dt\"].dt.strftime(\"%Y-%m-%d %I:%M:%S %p\")\n",
    "    \n",
    "    # DayOfWeek\n",
    "    df[\"DayOfWeek\"] = df[\"DateReported_dt\"].dt.day_name()\n",
    "    \n",
    "    # Weekend\n",
    "    df[\"Weekend\"] = df[\"DayOfWeek\"].isin([\"Saturday\", \"Sunday\"])\n",
    "    \n",
    "    # Helper function to determine the season\n",
    "    def get_season(dt):\n",
    "        month = dt.month\n",
    "        day = dt.day\n",
    "        # Approximate Northern Hemisphere season boundaries:\n",
    "        if (month == 12 and day >= 21) or (month < 3) or (month == 3 and day < 20):\n",
    "            return \"Winter\"\n",
    "        elif (month == 3 and day >= 20) or (month < 6) or (month == 6 and day < 21):\n",
    "            return \"Spring\"\n",
    "        elif (month == 6 and day >= 21) or (month < 9) or (month == 9 and day < 22):\n",
    "            return \"Summer\"\n",
    "        else:\n",
    "            return \"Autumn\"\n",
    "    \n",
    "    df[\"Season\"] = df[\"DateReported_dt\"].apply(get_season)\n",
    "    \n",
    "    # 12-hour formatted time (HourAMPM)\n",
    "    df[\"HourAMPM\"] = df[\"DateReported_dt\"].dt.strftime(\"%I:%M %p\")\n",
    "    \n",
    "    # Extract hour (0-23) for time-of-day\n",
    "    df[\"HourValue\"] = df[\"DateReported_dt\"].dt.hour\n",
    "    \n",
    "    def time_of_day(hour):\n",
    "        if pd.isnull(hour):\n",
    "            return None\n",
    "        if 5 <= hour < 12:\n",
    "            return \"Morning\"\n",
    "        elif 12 <= hour < 17:\n",
    "            return \"Afternoon\"\n",
    "        elif 17 <= hour < 21:\n",
    "            return \"Evening\"\n",
    "        else:\n",
    "            return \"Night\"\n",
    "    \n",
    "    df[\"TimeOfDay\"] = df[\"HourValue\"].apply(time_of_day)\n",
    "    \n",
    "    # Drop columns you no longer need\n",
    "    df.drop(columns=[col, \"DateReported_dt\", \"HourValue\"], inplace=True)\n",
    "    \n",
    "    return df\n",
    "\n",
    "# Example usage:\n",
    "df = convert_and_categorize_datereported(df)\n",
    "df.head()\n"
   ]
  },
  {
   "cell_type": "code",
   "execution_count": 8,
   "id": "fee972e6",
   "metadata": {
    "execution": {
     "iopub.execute_input": "2025-08-07T01:12:08.916029Z",
     "iopub.status.busy": "2025-08-07T01:12:08.915799Z",
     "iopub.status.idle": "2025-08-07T01:12:08.945232Z",
     "shell.execute_reply": "2025-08-07T01:12:08.944641Z"
    },
    "papermill": {
     "duration": 0.035102,
     "end_time": "2025-08-07T01:12:08.946226",
     "exception": false,
     "start_time": "2025-08-07T01:12:08.911124",
     "status": "completed"
    },
    "tags": []
   },
   "outputs": [
    {
     "name": "stdout",
     "output_type": "stream",
     "text": [
      "<class 'pandas.core.frame.DataFrame'>\n",
      "RangeIndex: 25630 entries, 0 to 25629\n",
      "Data columns (total 15 columns):\n",
      " #   Column            Non-Null Count  Dtype         \n",
      "---  ------            --------------  -----         \n",
      " 0   RecordID          25630 non-null  int64         \n",
      " 1   Offense           25630 non-null  object        \n",
      " 2   IncidentID        25630 non-null  object        \n",
      " 3   BlockNumber       25630 non-null  object        \n",
      " 4   StreetName        25630 non-null  object        \n",
      " 5   Agency            25630 non-null  object        \n",
      " 6   HourReported      25630 non-null  object        \n",
      " 7   ReportingOfficer  25614 non-null  object        \n",
      " 8   Date              25630 non-null  datetime64[ns]\n",
      " 9   DateString        25630 non-null  object        \n",
      " 10  DayOfWeek         25630 non-null  object        \n",
      " 11  Weekend           25630 non-null  bool          \n",
      " 12  Season            25630 non-null  object        \n",
      " 13  HourAMPM          25630 non-null  object        \n",
      " 14  TimeOfDay         25630 non-null  object        \n",
      "dtypes: bool(1), datetime64[ns](1), int64(1), object(12)\n",
      "memory usage: 2.8+ MB\n"
     ]
    }
   ],
   "source": [
    "df.info()"
   ]
  },
  {
   "cell_type": "markdown",
   "id": "5d6f72bb",
   "metadata": {
    "papermill": {
     "duration": 0.004006,
     "end_time": "2025-08-07T01:12:08.954671",
     "exception": false,
     "start_time": "2025-08-07T01:12:08.950665",
     "status": "completed"
    },
    "tags": []
   },
   "source": [
    "### Coordinates"
   ]
  },
  {
   "cell_type": "code",
   "execution_count": 9,
   "id": "a86959f6",
   "metadata": {
    "execution": {
     "iopub.execute_input": "2025-08-07T01:12:08.963666Z",
     "iopub.status.busy": "2025-08-07T01:12:08.963449Z",
     "iopub.status.idle": "2025-08-07T01:12:09.178568Z",
     "shell.execute_reply": "2025-08-07T01:12:09.177853Z"
    },
    "papermill": {
     "duration": 0.220837,
     "end_time": "2025-08-07T01:12:09.179593",
     "exception": false,
     "start_time": "2025-08-07T01:12:08.958756",
     "status": "completed"
    },
    "tags": []
   },
   "outputs": [
    {
     "name": "stdout",
     "output_type": "stream",
     "text": [
      "Loaded geocode cache.\n",
      "Error geocoding  MASSIE RD @ EMMET ST: REQUEST_DENIED (You must enable Billing on the Google Cloud Project at https://console.cloud.google.com/project/_/billing/enable Learn more at https://developers.google.com/maps/gmp-get-started)\n",
      "Geocoded  MASSIE RD @ EMMET ST: None, None\n"
     ]
    },
    {
     "name": "stdout",
     "output_type": "stream",
     "text": [
      "Error geocoding 1300 WERTLAND ST, C9: REQUEST_DENIED (You must enable Billing on the Google Cloud Project at https://console.cloud.google.com/project/_/billing/enable Learn more at https://developers.google.com/maps/gmp-get-started)\n",
      "Geocoded 1300 WERTLAND ST, C9: None, None\n",
      "Geocode cache updated and saved.\n"
     ]
    },
    {
     "data": {
      "text/html": [
       "<div>\n",
       "<style scoped>\n",
       "    .dataframe tbody tr th:only-of-type {\n",
       "        vertical-align: middle;\n",
       "    }\n",
       "\n",
       "    .dataframe tbody tr th {\n",
       "        vertical-align: top;\n",
       "    }\n",
       "\n",
       "    .dataframe thead th {\n",
       "        text-align: right;\n",
       "    }\n",
       "</style>\n",
       "<table border=\"1\" class=\"dataframe\">\n",
       "  <thead>\n",
       "    <tr style=\"text-align: right;\">\n",
       "      <th></th>\n",
       "      <th>RecordID</th>\n",
       "      <th>Offense</th>\n",
       "      <th>IncidentID</th>\n",
       "      <th>BlockNumber</th>\n",
       "      <th>StreetName</th>\n",
       "      <th>Agency</th>\n",
       "      <th>HourReported</th>\n",
       "      <th>ReportingOfficer</th>\n",
       "      <th>Date</th>\n",
       "      <th>DateString</th>\n",
       "      <th>DayOfWeek</th>\n",
       "      <th>Weekend</th>\n",
       "      <th>Season</th>\n",
       "      <th>HourAMPM</th>\n",
       "      <th>TimeOfDay</th>\n",
       "      <th>FullStreet</th>\n",
       "      <th>lat</th>\n",
       "      <th>lon</th>\n",
       "    </tr>\n",
       "  </thead>\n",
       "  <tbody>\n",
       "    <tr>\n",
       "      <th>0</th>\n",
       "      <td>1</td>\n",
       "      <td>Missing Person-juvenile</td>\n",
       "      <td>202500027550</td>\n",
       "      <td>1400</td>\n",
       "      <td>BAKER ST, B</td>\n",
       "      <td>CPD</td>\n",
       "      <td>2143</td>\n",
       "      <td>Urban, Jacob</td>\n",
       "      <td>2025-08-04 21:43:56</td>\n",
       "      <td>2025-08-04 09:43:56 PM</td>\n",
       "      <td>Monday</td>\n",
       "      <td>False</td>\n",
       "      <td>Summer</td>\n",
       "      <td>09:43 PM</td>\n",
       "      <td>Night</td>\n",
       "      <td>1400 BAKER ST, B</td>\n",
       "      <td>38.025760</td>\n",
       "      <td>-78.502157</td>\n",
       "    </tr>\n",
       "    <tr>\n",
       "      <th>1</th>\n",
       "      <td>2</td>\n",
       "      <td>Larceny - From Motor Vehicle</td>\n",
       "      <td>202500027541</td>\n",
       "      <td>800</td>\n",
       "      <td>CABELL AVE</td>\n",
       "      <td>CPD</td>\n",
       "      <td>2007</td>\n",
       "      <td>Khaleefa, Hamzeh</td>\n",
       "      <td>2025-08-04 20:07:11</td>\n",
       "      <td>2025-08-04 08:07:11 PM</td>\n",
       "      <td>Monday</td>\n",
       "      <td>False</td>\n",
       "      <td>Summer</td>\n",
       "      <td>08:07 PM</td>\n",
       "      <td>Evening</td>\n",
       "      <td>800 CABELL AVE</td>\n",
       "      <td>38.042357</td>\n",
       "      <td>-78.496441</td>\n",
       "    </tr>\n",
       "    <tr>\n",
       "      <th>2</th>\n",
       "      <td>3</td>\n",
       "      <td>Fraud-impersonation</td>\n",
       "      <td>202500027525</td>\n",
       "      <td>1000</td>\n",
       "      <td>COTTONWOOD RD</td>\n",
       "      <td>CPD</td>\n",
       "      <td>1805</td>\n",
       "      <td>Bland, Johnnà</td>\n",
       "      <td>2025-08-04 18:05:17</td>\n",
       "      <td>2025-08-04 06:05:17 PM</td>\n",
       "      <td>Monday</td>\n",
       "      <td>False</td>\n",
       "      <td>Summer</td>\n",
       "      <td>06:05 PM</td>\n",
       "      <td>Evening</td>\n",
       "      <td>1000 COTTONWOOD RD</td>\n",
       "      <td>38.043051</td>\n",
       "      <td>-78.466636</td>\n",
       "    </tr>\n",
       "    <tr>\n",
       "      <th>3</th>\n",
       "      <td>4</td>\n",
       "      <td>Misc - Criminal Call</td>\n",
       "      <td>202500027517</td>\n",
       "      <td>100</td>\n",
       "      <td>MAURY AVE</td>\n",
       "      <td>CPD</td>\n",
       "      <td>1720</td>\n",
       "      <td>Urban, Jacob</td>\n",
       "      <td>2025-08-04 17:20:31</td>\n",
       "      <td>2025-08-04 05:20:31 PM</td>\n",
       "      <td>Monday</td>\n",
       "      <td>False</td>\n",
       "      <td>Summer</td>\n",
       "      <td>05:20 PM</td>\n",
       "      <td>Evening</td>\n",
       "      <td>100 MAURY AVE</td>\n",
       "      <td>38.026101</td>\n",
       "      <td>-78.515167</td>\n",
       "    </tr>\n",
       "    <tr>\n",
       "      <th>4</th>\n",
       "      <td>5</td>\n",
       "      <td>Assault Aggravated</td>\n",
       "      <td>202500027508</td>\n",
       "      <td>800</td>\n",
       "      <td>HARDY DR, C</td>\n",
       "      <td>CPD</td>\n",
       "      <td>1613</td>\n",
       "      <td>Khaleefa, Hamzeh</td>\n",
       "      <td>2025-08-04 16:13:21</td>\n",
       "      <td>2025-08-04 04:13:21 PM</td>\n",
       "      <td>Monday</td>\n",
       "      <td>False</td>\n",
       "      <td>Summer</td>\n",
       "      <td>04:13 PM</td>\n",
       "      <td>Afternoon</td>\n",
       "      <td>800 HARDY DR, C</td>\n",
       "      <td>38.033239</td>\n",
       "      <td>-78.490398</td>\n",
       "    </tr>\n",
       "  </tbody>\n",
       "</table>\n",
       "</div>"
      ],
      "text/plain": [
       "   RecordID                       Offense    IncidentID BlockNumber  \\\n",
       "0         1       Missing Person-juvenile  202500027550        1400   \n",
       "1         2  Larceny - From Motor Vehicle  202500027541         800   \n",
       "2         3           Fraud-impersonation  202500027525        1000   \n",
       "3         4          Misc - Criminal Call  202500027517         100   \n",
       "4         5            Assault Aggravated  202500027508         800   \n",
       "\n",
       "      StreetName Agency HourReported  ReportingOfficer                Date  \\\n",
       "0    BAKER ST, B    CPD         2143      Urban, Jacob 2025-08-04 21:43:56   \n",
       "1     CABELL AVE    CPD         2007  Khaleefa, Hamzeh 2025-08-04 20:07:11   \n",
       "2  COTTONWOOD RD    CPD         1805     Bland, Johnnà 2025-08-04 18:05:17   \n",
       "3      MAURY AVE    CPD         1720      Urban, Jacob 2025-08-04 17:20:31   \n",
       "4    HARDY DR, C    CPD         1613  Khaleefa, Hamzeh 2025-08-04 16:13:21   \n",
       "\n",
       "               DateString DayOfWeek  Weekend  Season  HourAMPM  TimeOfDay  \\\n",
       "0  2025-08-04 09:43:56 PM    Monday    False  Summer  09:43 PM      Night   \n",
       "1  2025-08-04 08:07:11 PM    Monday    False  Summer  08:07 PM    Evening   \n",
       "2  2025-08-04 06:05:17 PM    Monday    False  Summer  06:05 PM    Evening   \n",
       "3  2025-08-04 05:20:31 PM    Monday    False  Summer  05:20 PM    Evening   \n",
       "4  2025-08-04 04:13:21 PM    Monday    False  Summer  04:13 PM  Afternoon   \n",
       "\n",
       "           FullStreet        lat        lon  \n",
       "0    1400 BAKER ST, B  38.025760 -78.502157  \n",
       "1      800 CABELL AVE  38.042357 -78.496441  \n",
       "2  1000 COTTONWOOD RD  38.043051 -78.466636  \n",
       "3       100 MAURY AVE  38.026101 -78.515167  \n",
       "4     800 HARDY DR, C  38.033239 -78.490398  "
      ]
     },
     "execution_count": 9,
     "metadata": {},
     "output_type": "execute_result"
    }
   ],
   "source": [
    "# Combine BlockNumber and StreetName into a full address string\n",
    "df['FullStreet'] = df['BlockNumber'].astype(str) + \" \" + df['StreetName']\n",
    "\n",
    "# --- Step 1: Setup the Google Maps Client and Cache ---\n",
    "gmaps = googlemaps.Client(key=GOOGLE_API_KEY)\n",
    "\n",
    "# Try to load cached geocoding results if available.\n",
    "try:\n",
    "    with open(\"geocode_cache_google.pkl\", \"rb\") as f:\n",
    "        street_coords = pickle.load(f)\n",
    "    print(\"Loaded geocode cache.\")\n",
    "except FileNotFoundError:\n",
    "    street_coords = {}\n",
    "    print(\"No cache found; starting fresh.\")\n",
    "\n",
    "def geocode_address(address):\n",
    "    try:\n",
    "        # Append city and state to help geocoding\n",
    "        result = gmaps.geocode(f\"{address}, Charlottesville, VA\")\n",
    "        if result:\n",
    "            lat = result[0]['geometry']['location']['lat']\n",
    "            lon = result[0]['geometry']['location']['lng']\n",
    "            return lat, lon\n",
    "    except Exception as e:\n",
    "        print(f\"Error geocoding {address}: {e}\")\n",
    "    return None, None\n",
    "\n",
    "# --- Step 2: Geocode Only New Addresses ---\n",
    "unique_addresses = df['FullStreet'].unique()\n",
    "for address in unique_addresses:\n",
    "    if address not in street_coords:\n",
    "        lat, lon = geocode_address(address)\n",
    "        street_coords[address] = (lat, lon)\n",
    "        print(f\"Geocoded {address}: {lat}, {lon}\")\n",
    "\n",
    "# Save the updated cache to disk.\n",
    "with open(\"geocode_cache_google.pkl\", \"wb\") as f:\n",
    "    pickle.dump(street_coords, f)\n",
    "    print(\"Geocode cache updated and saved.\")\n",
    "\n",
    "# --- Step 3: Map Coordinates Back to DataFrame ---\n",
    "df['lat'] = df['FullStreet'].map(lambda s: street_coords.get(s, (None, None))[0])\n",
    "df['lon'] = df['FullStreet'].map(lambda s: street_coords.get(s, (None, None))[1])\n",
    "\n",
    "df.head()"
   ]
  },
  {
   "cell_type": "markdown",
   "id": "e78f8cae",
   "metadata": {
    "papermill": {
     "duration": 0.004423,
     "end_time": "2025-08-07T01:12:09.189000",
     "exception": false,
     "start_time": "2025-08-07T01:12:09.184577",
     "status": "completed"
    },
    "tags": []
   },
   "source": [
    "### Neighborhood"
   ]
  },
  {
   "cell_type": "code",
   "execution_count": 10,
   "id": "69acf38a",
   "metadata": {
    "execution": {
     "iopub.execute_input": "2025-08-07T01:12:09.198763Z",
     "iopub.status.busy": "2025-08-07T01:12:09.198528Z",
     "iopub.status.idle": "2025-08-07T01:12:11.330741Z",
     "shell.execute_reply": "2025-08-07T01:12:11.330024Z"
    },
    "papermill": {
     "duration": 2.138394,
     "end_time": "2025-08-07T01:12:11.331840",
     "exception": false,
     "start_time": "2025-08-07T01:12:09.193446",
     "status": "completed"
    },
    "tags": []
   },
   "outputs": [
    {
     "name": "stdout",
     "output_type": "stream",
     "text": [
      "Loaded neighborhood cache.\n",
      "Error getting neighborhood for nan, nan: HTTP Error: 400\n"
     ]
    },
    {
     "name": "stdout",
     "output_type": "stream",
     "text": [
      "Error getting neighborhood for nan, nan: HTTP Error: 400\n",
      "Error getting neighborhood for nan, nan: HTTP Error: 400\n"
     ]
    },
    {
     "name": "stdout",
     "output_type": "stream",
     "text": [
      "Error getting neighborhood for nan, nan: HTTP Error: 400\n",
      "Error getting neighborhood for nan, nan: HTTP Error: 400\n",
      "Error getting neighborhood for nan, nan: HTTP Error: 400\n",
      "Error getting neighborhood for nan, nan: HTTP Error: 400\n"
     ]
    },
    {
     "name": "stdout",
     "output_type": "stream",
     "text": [
      "Error getting neighborhood for nan, nan: HTTP Error: 400\n",
      "Error getting neighborhood for nan, nan: HTTP Error: 400\n",
      "Error getting neighborhood for nan, nan: HTTP Error: 400\n"
     ]
    },
    {
     "name": "stdout",
     "output_type": "stream",
     "text": [
      "Error getting neighborhood for nan, nan: HTTP Error: 400\n",
      "Error getting neighborhood for nan, nan: HTTP Error: 400\n",
      "Error getting neighborhood for nan, nan: HTTP Error: 400\n",
      "Error getting neighborhood for nan, nan: HTTP Error: 400\n"
     ]
    },
    {
     "name": "stdout",
     "output_type": "stream",
     "text": [
      "Error getting neighborhood for nan, nan: HTTP Error: 400\n",
      "Error getting neighborhood for nan, nan: HTTP Error: 400\n",
      "Error getting neighborhood for nan, nan: HTTP Error: 400\n"
     ]
    },
    {
     "name": "stdout",
     "output_type": "stream",
     "text": [
      "Error getting neighborhood for nan, nan: HTTP Error: 400\n",
      "Error getting neighborhood for nan, nan: HTTP Error: 400\n",
      "Error getting neighborhood for nan, nan: HTTP Error: 400\n",
      "Error getting neighborhood for nan, nan: HTTP Error: 400\n"
     ]
    },
    {
     "name": "stdout",
     "output_type": "stream",
     "text": [
      "Error getting neighborhood for nan, nan: HTTP Error: 400\n",
      "Error getting neighborhood for nan, nan: HTTP Error: 400\n",
      "Error getting neighborhood for nan, nan: HTTP Error: 400\n",
      "Error getting neighborhood for nan, nan: HTTP Error: 400\n",
      "Error getting neighborhood for nan, nan: HTTP Error: 400\n",
      "Error getting neighborhood for nan, nan: HTTP Error: 400\n"
     ]
    },
    {
     "name": "stdout",
     "output_type": "stream",
     "text": [
      "Error getting neighborhood for nan, nan: HTTP Error: 400\n",
      "Error getting neighborhood for nan, nan: HTTP Error: 400\n",
      "Error getting neighborhood for nan, nan: HTTP Error: 400\n",
      "Error getting neighborhood for nan, nan: HTTP Error: 400\n",
      "Error getting neighborhood for nan, nan: HTTP Error: 400\n"
     ]
    },
    {
     "name": "stdout",
     "output_type": "stream",
     "text": [
      "Error getting neighborhood for nan, nan: HTTP Error: 400\n",
      "Error getting neighborhood for nan, nan: HTTP Error: 400\n",
      "Error getting neighborhood for nan, nan: HTTP Error: 400\n",
      "Error getting neighborhood for nan, nan: HTTP Error: 400\n",
      "Error getting neighborhood for nan, nan: HTTP Error: 400\n",
      "Error getting neighborhood for nan, nan: HTTP Error: 400\n"
     ]
    },
    {
     "name": "stdout",
     "output_type": "stream",
     "text": [
      "Error getting neighborhood for nan, nan: HTTP Error: 400\n",
      "Error getting neighborhood for nan, nan: HTTP Error: 400\n",
      "Error getting neighborhood for nan, nan: HTTP Error: 400\n",
      "Error getting neighborhood for nan, nan: HTTP Error: 400\n",
      "Error getting neighborhood for nan, nan: HTTP Error: 400\n"
     ]
    },
    {
     "name": "stdout",
     "output_type": "stream",
     "text": [
      "Error getting neighborhood for nan, nan: HTTP Error: 400\n",
      "Error getting neighborhood for nan, nan: HTTP Error: 400\n",
      "Error getting neighborhood for nan, nan: HTTP Error: 400\n",
      "Error getting neighborhood for nan, nan: HTTP Error: 400\n",
      "Error getting neighborhood for nan, nan: HTTP Error: 400\n",
      "Error getting neighborhood for nan, nan: HTTP Error: 400\n",
      "Error getting neighborhood for nan, nan: HTTP Error: 400\n"
     ]
    },
    {
     "name": "stdout",
     "output_type": "stream",
     "text": [
      "Error getting neighborhood for nan, nan: HTTP Error: 400\n",
      "Error getting neighborhood for nan, nan: HTTP Error: 400\n",
      "Error getting neighborhood for nan, nan: HTTP Error: 400\n",
      "Error getting neighborhood for nan, nan: HTTP Error: 400\n",
      "Error getting neighborhood for nan, nan: HTTP Error: 400\n"
     ]
    },
    {
     "name": "stdout",
     "output_type": "stream",
     "text": [
      "Error getting neighborhood for nan, nan: HTTP Error: 400\n",
      "Error getting neighborhood for nan, nan: HTTP Error: 400\n",
      "Error getting neighborhood for nan, nan: HTTP Error: 400\n",
      "Error getting neighborhood for nan, nan: HTTP Error: 400\n",
      "Error getting neighborhood for nan, nan: HTTP Error: 400\n",
      "Error getting neighborhood for nan, nan: HTTP Error: 400\n",
      "Error getting neighborhood for nan, nan: HTTP Error: 400\n"
     ]
    },
    {
     "name": "stdout",
     "output_type": "stream",
     "text": [
      "Error getting neighborhood for nan, nan: HTTP Error: 400\n",
      "Error getting neighborhood for nan, nan: HTTP Error: 400\n",
      "Error getting neighborhood for nan, nan: HTTP Error: 400\n",
      "Error getting neighborhood for nan, nan: HTTP Error: 400\n",
      "Error getting neighborhood for nan, nan: HTTP Error: 400\n"
     ]
    },
    {
     "name": "stdout",
     "output_type": "stream",
     "text": [
      "Error getting neighborhood for nan, nan: HTTP Error: 400\n",
      "Error getting neighborhood for nan, nan: HTTP Error: 400\n",
      "Error getting neighborhood for nan, nan: HTTP Error: 400\n",
      "Error getting neighborhood for nan, nan: HTTP Error: 400\n",
      "Error getting neighborhood for nan, nan: HTTP Error: 400\n",
      "Error getting neighborhood for nan, nan: HTTP Error: 400\n",
      "Error getting neighborhood for nan, nan: HTTP Error: 400\n"
     ]
    },
    {
     "name": "stdout",
     "output_type": "stream",
     "text": [
      "Error getting neighborhood for nan, nan: HTTP Error: 400\n",
      "Error getting neighborhood for nan, nan: HTTP Error: 400\n",
      "Error getting neighborhood for nan, nan: HTTP Error: 400\n",
      "Error getting neighborhood for nan, nan: HTTP Error: 400\n",
      "Error getting neighborhood for nan, nan: HTTP Error: 400\n"
     ]
    },
    {
     "name": "stdout",
     "output_type": "stream",
     "text": [
      "Error getting neighborhood for nan, nan: HTTP Error: 400\n",
      "Error getting neighborhood for nan, nan: HTTP Error: 400\n",
      "Error getting neighborhood for nan, nan: HTTP Error: 400\n",
      "Error getting neighborhood for nan, nan: HTTP Error: 400\n",
      "Error getting neighborhood for nan, nan: HTTP Error: 400\n",
      "Error getting neighborhood for nan, nan: HTTP Error: 400\n"
     ]
    },
    {
     "data": {
      "text/html": [
       "<div>\n",
       "<style scoped>\n",
       "    .dataframe tbody tr th:only-of-type {\n",
       "        vertical-align: middle;\n",
       "    }\n",
       "\n",
       "    .dataframe tbody tr th {\n",
       "        vertical-align: top;\n",
       "    }\n",
       "\n",
       "    .dataframe thead th {\n",
       "        text-align: right;\n",
       "    }\n",
       "</style>\n",
       "<table border=\"1\" class=\"dataframe\">\n",
       "  <thead>\n",
       "    <tr style=\"text-align: right;\">\n",
       "      <th></th>\n",
       "      <th>RecordID</th>\n",
       "      <th>Offense</th>\n",
       "      <th>IncidentID</th>\n",
       "      <th>BlockNumber</th>\n",
       "      <th>StreetName</th>\n",
       "      <th>Agency</th>\n",
       "      <th>HourReported</th>\n",
       "      <th>ReportingOfficer</th>\n",
       "      <th>Date</th>\n",
       "      <th>DateString</th>\n",
       "      <th>DayOfWeek</th>\n",
       "      <th>Weekend</th>\n",
       "      <th>Season</th>\n",
       "      <th>HourAMPM</th>\n",
       "      <th>TimeOfDay</th>\n",
       "      <th>FullStreet</th>\n",
       "      <th>lat</th>\n",
       "      <th>lon</th>\n",
       "      <th>neighborhood</th>\n",
       "    </tr>\n",
       "  </thead>\n",
       "  <tbody>\n",
       "    <tr>\n",
       "      <th>0</th>\n",
       "      <td>1</td>\n",
       "      <td>Missing Person-juvenile</td>\n",
       "      <td>202500027550</td>\n",
       "      <td>1400</td>\n",
       "      <td>BAKER ST, B</td>\n",
       "      <td>CPD</td>\n",
       "      <td>2143</td>\n",
       "      <td>Urban, Jacob</td>\n",
       "      <td>2025-08-04 21:43:56</td>\n",
       "      <td>2025-08-04 09:43:56 PM</td>\n",
       "      <td>Monday</td>\n",
       "      <td>False</td>\n",
       "      <td>Summer</td>\n",
       "      <td>09:43 PM</td>\n",
       "      <td>Night</td>\n",
       "      <td>1400 BAKER ST, B</td>\n",
       "      <td>38.025760</td>\n",
       "      <td>-78.502157</td>\n",
       "      <td>Fifeville</td>\n",
       "    </tr>\n",
       "    <tr>\n",
       "      <th>1</th>\n",
       "      <td>2</td>\n",
       "      <td>Larceny - From Motor Vehicle</td>\n",
       "      <td>202500027541</td>\n",
       "      <td>800</td>\n",
       "      <td>CABELL AVE</td>\n",
       "      <td>CPD</td>\n",
       "      <td>2007</td>\n",
       "      <td>Khaleefa, Hamzeh</td>\n",
       "      <td>2025-08-04 20:07:11</td>\n",
       "      <td>2025-08-04 08:07:11 PM</td>\n",
       "      <td>Monday</td>\n",
       "      <td>False</td>\n",
       "      <td>Summer</td>\n",
       "      <td>08:07 PM</td>\n",
       "      <td>Evening</td>\n",
       "      <td>800 CABELL AVE</td>\n",
       "      <td>38.042357</td>\n",
       "      <td>-78.496441</td>\n",
       "      <td>Venable</td>\n",
       "    </tr>\n",
       "    <tr>\n",
       "      <th>2</th>\n",
       "      <td>3</td>\n",
       "      <td>Fraud-impersonation</td>\n",
       "      <td>202500027525</td>\n",
       "      <td>1000</td>\n",
       "      <td>COTTONWOOD RD</td>\n",
       "      <td>CPD</td>\n",
       "      <td>1805</td>\n",
       "      <td>Bland, Johnnà</td>\n",
       "      <td>2025-08-04 18:05:17</td>\n",
       "      <td>2025-08-04 06:05:17 PM</td>\n",
       "      <td>Monday</td>\n",
       "      <td>False</td>\n",
       "      <td>Summer</td>\n",
       "      <td>06:05 PM</td>\n",
       "      <td>Evening</td>\n",
       "      <td>1000 COTTONWOOD RD</td>\n",
       "      <td>38.043051</td>\n",
       "      <td>-78.466636</td>\n",
       "      <td>Locust Grove</td>\n",
       "    </tr>\n",
       "    <tr>\n",
       "      <th>3</th>\n",
       "      <td>4</td>\n",
       "      <td>Misc - Criminal Call</td>\n",
       "      <td>202500027517</td>\n",
       "      <td>100</td>\n",
       "      <td>MAURY AVE</td>\n",
       "      <td>CPD</td>\n",
       "      <td>1720</td>\n",
       "      <td>Urban, Jacob</td>\n",
       "      <td>2025-08-04 17:20:31</td>\n",
       "      <td>2025-08-04 05:20:31 PM</td>\n",
       "      <td>Monday</td>\n",
       "      <td>False</td>\n",
       "      <td>Summer</td>\n",
       "      <td>05:20 PM</td>\n",
       "      <td>Evening</td>\n",
       "      <td>100 MAURY AVE</td>\n",
       "      <td>38.026101</td>\n",
       "      <td>-78.515167</td>\n",
       "      <td>Jefferson Park Avenue</td>\n",
       "    </tr>\n",
       "    <tr>\n",
       "      <th>4</th>\n",
       "      <td>5</td>\n",
       "      <td>Assault Aggravated</td>\n",
       "      <td>202500027508</td>\n",
       "      <td>800</td>\n",
       "      <td>HARDY DR, C</td>\n",
       "      <td>CPD</td>\n",
       "      <td>1613</td>\n",
       "      <td>Khaleefa, Hamzeh</td>\n",
       "      <td>2025-08-04 16:13:21</td>\n",
       "      <td>2025-08-04 04:13:21 PM</td>\n",
       "      <td>Monday</td>\n",
       "      <td>False</td>\n",
       "      <td>Summer</td>\n",
       "      <td>04:13 PM</td>\n",
       "      <td>Afternoon</td>\n",
       "      <td>800 HARDY DR, C</td>\n",
       "      <td>38.033239</td>\n",
       "      <td>-78.490398</td>\n",
       "      <td>10th &amp; Page</td>\n",
       "    </tr>\n",
       "  </tbody>\n",
       "</table>\n",
       "</div>"
      ],
      "text/plain": [
       "   RecordID                       Offense    IncidentID BlockNumber  \\\n",
       "0         1       Missing Person-juvenile  202500027550        1400   \n",
       "1         2  Larceny - From Motor Vehicle  202500027541         800   \n",
       "2         3           Fraud-impersonation  202500027525        1000   \n",
       "3         4          Misc - Criminal Call  202500027517         100   \n",
       "4         5            Assault Aggravated  202500027508         800   \n",
       "\n",
       "      StreetName Agency HourReported  ReportingOfficer                Date  \\\n",
       "0    BAKER ST, B    CPD         2143      Urban, Jacob 2025-08-04 21:43:56   \n",
       "1     CABELL AVE    CPD         2007  Khaleefa, Hamzeh 2025-08-04 20:07:11   \n",
       "2  COTTONWOOD RD    CPD         1805     Bland, Johnnà 2025-08-04 18:05:17   \n",
       "3      MAURY AVE    CPD         1720      Urban, Jacob 2025-08-04 17:20:31   \n",
       "4    HARDY DR, C    CPD         1613  Khaleefa, Hamzeh 2025-08-04 16:13:21   \n",
       "\n",
       "               DateString DayOfWeek  Weekend  Season  HourAMPM  TimeOfDay  \\\n",
       "0  2025-08-04 09:43:56 PM    Monday    False  Summer  09:43 PM      Night   \n",
       "1  2025-08-04 08:07:11 PM    Monday    False  Summer  08:07 PM    Evening   \n",
       "2  2025-08-04 06:05:17 PM    Monday    False  Summer  06:05 PM    Evening   \n",
       "3  2025-08-04 05:20:31 PM    Monday    False  Summer  05:20 PM    Evening   \n",
       "4  2025-08-04 04:13:21 PM    Monday    False  Summer  04:13 PM  Afternoon   \n",
       "\n",
       "           FullStreet        lat        lon           neighborhood  \n",
       "0    1400 BAKER ST, B  38.025760 -78.502157              Fifeville  \n",
       "1      800 CABELL AVE  38.042357 -78.496441                Venable  \n",
       "2  1000 COTTONWOOD RD  38.043051 -78.466636           Locust Grove  \n",
       "3       100 MAURY AVE  38.026101 -78.515167  Jefferson Park Avenue  \n",
       "4     800 HARDY DR, C  38.033239 -78.490398            10th & Page  "
      ]
     },
     "execution_count": 10,
     "metadata": {},
     "output_type": "execute_result"
    }
   ],
   "source": [
    "# Initialize the Google Maps client.\n",
    "gmaps = googlemaps.Client(key=GOOGLE_API_KEY)\n",
    "\n",
    "# Try to load a persistent neighborhood cache if available.\n",
    "try:\n",
    "    with open(\"neighborhood_cache.pkl\", \"rb\") as f:\n",
    "        neighborhood_cache = pickle.load(f)\n",
    "    print(\"Loaded neighborhood cache.\")\n",
    "except FileNotFoundError:\n",
    "    neighborhood_cache = {}\n",
    "    print(\"No neighborhood cache found; starting fresh.\")\n",
    "\n",
    "def get_neighborhood(lat, lon):\n",
    "    \"\"\"\n",
    "    Reverse geocodes a latitude and longitude to retrieve the neighborhood.\n",
    "    Caches results to speed up subsequent lookups.\n",
    "    \"\"\"\n",
    "    key = (lat, lon)\n",
    "    if key in neighborhood_cache:\n",
    "        return neighborhood_cache[key]\n",
    "    \n",
    "    try:\n",
    "        result = gmaps.reverse_geocode((lat, lon))\n",
    "        if result:\n",
    "            # Look for the 'neighborhood' component in the first result.\n",
    "            for component in result[0]['address_components']:\n",
    "                if 'neighborhood' in component['types']:\n",
    "                    neighborhood = component['long_name']\n",
    "                    neighborhood_cache[key] = neighborhood\n",
    "                    return neighborhood\n",
    "            # If no neighborhood is found, return \"N/A\"\n",
    "            neighborhood_cache[key] = \"N/A\"\n",
    "            return \"N/A\"\n",
    "    except Exception as e:\n",
    "        print(f\"Error getting neighborhood for {lat}, {lon}: {e}\")\n",
    "        return \"N/A\"\n",
    "    \n",
    "    # Pause to respect usage limits.\n",
    "    time.sleep(1)\n",
    "\n",
    "# Example usage: Apply to your DataFrame 'df' that already has 'lat' and 'lon' columns.\n",
    "df['neighborhood'] = df.apply(lambda row: get_neighborhood(row['lat'], row['lon']), axis=1)\n",
    "\n",
    "# Save the updated neighborhood cache.\n",
    "with open(\"neighborhood_cache.pkl\", \"wb\") as f:\n",
    "    pickle.dump(neighborhood_cache, f)\n",
    "\n",
    "df.head()\n"
   ]
  },
  {
   "cell_type": "markdown",
   "id": "96f28174",
   "metadata": {
    "papermill": {
     "duration": 0.005387,
     "end_time": "2025-08-07T01:12:11.343172",
     "exception": false,
     "start_time": "2025-08-07T01:12:11.337785",
     "status": "completed"
    },
    "tags": []
   },
   "source": [
    "### Zip"
   ]
  },
  {
   "cell_type": "code",
   "execution_count": 11,
   "id": "c74e88c4",
   "metadata": {
    "execution": {
     "iopub.execute_input": "2025-08-07T01:12:11.354961Z",
     "iopub.status.busy": "2025-08-07T01:12:11.354692Z",
     "iopub.status.idle": "2025-08-07T01:13:36.849131Z",
     "shell.execute_reply": "2025-08-07T01:13:36.848402Z"
    },
    "papermill": {
     "duration": 85.50167,
     "end_time": "2025-08-07T01:13:36.850273",
     "exception": false,
     "start_time": "2025-08-07T01:12:11.348603",
     "status": "completed"
    },
    "tags": []
   },
   "outputs": [
    {
     "name": "stdout",
     "output_type": "stream",
     "text": [
      "Loaded zip cache.\n",
      "Error getting ZIP for nan, nan: Must be a coordinate pair or Point\n"
     ]
    },
    {
     "name": "stdout",
     "output_type": "stream",
     "text": [
      "Error getting ZIP for nan, nan: Must be a coordinate pair or Point\n"
     ]
    },
    {
     "name": "stdout",
     "output_type": "stream",
     "text": [
      "Error getting ZIP for nan, nan: Must be a coordinate pair or Point\n"
     ]
    },
    {
     "name": "stdout",
     "output_type": "stream",
     "text": [
      "Error getting ZIP for nan, nan: Must be a coordinate pair or Point\n"
     ]
    },
    {
     "name": "stdout",
     "output_type": "stream",
     "text": [
      "Error getting ZIP for nan, nan: Must be a coordinate pair or Point\n"
     ]
    },
    {
     "name": "stdout",
     "output_type": "stream",
     "text": [
      "Error getting ZIP for nan, nan: Must be a coordinate pair or Point\n"
     ]
    },
    {
     "name": "stdout",
     "output_type": "stream",
     "text": [
      "Error getting ZIP for nan, nan: Must be a coordinate pair or Point\n"
     ]
    },
    {
     "name": "stdout",
     "output_type": "stream",
     "text": [
      "Error getting ZIP for nan, nan: Must be a coordinate pair or Point\n"
     ]
    },
    {
     "name": "stdout",
     "output_type": "stream",
     "text": [
      "Error getting ZIP for nan, nan: Must be a coordinate pair or Point\n"
     ]
    },
    {
     "name": "stdout",
     "output_type": "stream",
     "text": [
      "Error getting ZIP for nan, nan: Must be a coordinate pair or Point\n"
     ]
    },
    {
     "name": "stdout",
     "output_type": "stream",
     "text": [
      "Error getting ZIP for nan, nan: Must be a coordinate pair or Point\n"
     ]
    },
    {
     "name": "stdout",
     "output_type": "stream",
     "text": [
      "Error getting ZIP for nan, nan: Must be a coordinate pair or Point\n"
     ]
    },
    {
     "name": "stdout",
     "output_type": "stream",
     "text": [
      "Error getting ZIP for nan, nan: Must be a coordinate pair or Point\n"
     ]
    },
    {
     "name": "stdout",
     "output_type": "stream",
     "text": [
      "Error getting ZIP for nan, nan: Must be a coordinate pair or Point\n"
     ]
    },
    {
     "name": "stdout",
     "output_type": "stream",
     "text": [
      "Error getting ZIP for nan, nan: Must be a coordinate pair or Point\n"
     ]
    },
    {
     "name": "stdout",
     "output_type": "stream",
     "text": [
      "Error getting ZIP for nan, nan: Must be a coordinate pair or Point\n"
     ]
    },
    {
     "name": "stdout",
     "output_type": "stream",
     "text": [
      "Error getting ZIP for nan, nan: Must be a coordinate pair or Point\n"
     ]
    },
    {
     "name": "stdout",
     "output_type": "stream",
     "text": [
      "Error getting ZIP for nan, nan: Must be a coordinate pair or Point\n"
     ]
    },
    {
     "name": "stdout",
     "output_type": "stream",
     "text": [
      "Error getting ZIP for nan, nan: Must be a coordinate pair or Point\n"
     ]
    },
    {
     "name": "stdout",
     "output_type": "stream",
     "text": [
      "Error getting ZIP for nan, nan: Must be a coordinate pair or Point\n"
     ]
    },
    {
     "name": "stdout",
     "output_type": "stream",
     "text": [
      "Error getting ZIP for nan, nan: Must be a coordinate pair or Point\n"
     ]
    },
    {
     "name": "stdout",
     "output_type": "stream",
     "text": [
      "Error getting ZIP for nan, nan: Must be a coordinate pair or Point\n"
     ]
    },
    {
     "name": "stdout",
     "output_type": "stream",
     "text": [
      "Error getting ZIP for nan, nan: Must be a coordinate pair or Point\n"
     ]
    },
    {
     "name": "stdout",
     "output_type": "stream",
     "text": [
      "Error getting ZIP for nan, nan: Must be a coordinate pair or Point\n"
     ]
    },
    {
     "name": "stdout",
     "output_type": "stream",
     "text": [
      "Error getting ZIP for nan, nan: Must be a coordinate pair or Point\n"
     ]
    },
    {
     "name": "stdout",
     "output_type": "stream",
     "text": [
      "Error getting ZIP for nan, nan: Must be a coordinate pair or Point\n"
     ]
    },
    {
     "name": "stdout",
     "output_type": "stream",
     "text": [
      "Error getting ZIP for nan, nan: Must be a coordinate pair or Point\n"
     ]
    },
    {
     "name": "stdout",
     "output_type": "stream",
     "text": [
      "Error getting ZIP for nan, nan: Must be a coordinate pair or Point\n"
     ]
    },
    {
     "name": "stdout",
     "output_type": "stream",
     "text": [
      "Error getting ZIP for nan, nan: Must be a coordinate pair or Point\n"
     ]
    },
    {
     "name": "stdout",
     "output_type": "stream",
     "text": [
      "Error getting ZIP for nan, nan: Must be a coordinate pair or Point\n"
     ]
    },
    {
     "name": "stdout",
     "output_type": "stream",
     "text": [
      "Error getting ZIP for nan, nan: Must be a coordinate pair or Point\n"
     ]
    },
    {
     "name": "stdout",
     "output_type": "stream",
     "text": [
      "Error getting ZIP for nan, nan: Must be a coordinate pair or Point\n"
     ]
    },
    {
     "name": "stdout",
     "output_type": "stream",
     "text": [
      "Error getting ZIP for nan, nan: Must be a coordinate pair or Point\n"
     ]
    },
    {
     "name": "stdout",
     "output_type": "stream",
     "text": [
      "Error getting ZIP for nan, nan: Must be a coordinate pair or Point\n"
     ]
    },
    {
     "name": "stdout",
     "output_type": "stream",
     "text": [
      "Error getting ZIP for nan, nan: Must be a coordinate pair or Point\n"
     ]
    },
    {
     "name": "stdout",
     "output_type": "stream",
     "text": [
      "Error getting ZIP for nan, nan: Must be a coordinate pair or Point\n"
     ]
    },
    {
     "name": "stdout",
     "output_type": "stream",
     "text": [
      "Error getting ZIP for nan, nan: Must be a coordinate pair or Point\n"
     ]
    },
    {
     "name": "stdout",
     "output_type": "stream",
     "text": [
      "Error getting ZIP for nan, nan: Must be a coordinate pair or Point\n"
     ]
    },
    {
     "name": "stdout",
     "output_type": "stream",
     "text": [
      "Error getting ZIP for nan, nan: Must be a coordinate pair or Point\n"
     ]
    },
    {
     "name": "stdout",
     "output_type": "stream",
     "text": [
      "Error getting ZIP for nan, nan: Must be a coordinate pair or Point\n"
     ]
    },
    {
     "name": "stdout",
     "output_type": "stream",
     "text": [
      "Error getting ZIP for nan, nan: Must be a coordinate pair or Point\n"
     ]
    },
    {
     "name": "stdout",
     "output_type": "stream",
     "text": [
      "Error getting ZIP for nan, nan: Must be a coordinate pair or Point\n"
     ]
    },
    {
     "name": "stdout",
     "output_type": "stream",
     "text": [
      "Error getting ZIP for nan, nan: Must be a coordinate pair or Point\n"
     ]
    },
    {
     "name": "stdout",
     "output_type": "stream",
     "text": [
      "Error getting ZIP for nan, nan: Must be a coordinate pair or Point\n"
     ]
    },
    {
     "name": "stdout",
     "output_type": "stream",
     "text": [
      "Error getting ZIP for nan, nan: Must be a coordinate pair or Point\n"
     ]
    },
    {
     "name": "stdout",
     "output_type": "stream",
     "text": [
      "Error getting ZIP for nan, nan: Must be a coordinate pair or Point\n"
     ]
    },
    {
     "name": "stdout",
     "output_type": "stream",
     "text": [
      "Error getting ZIP for nan, nan: Must be a coordinate pair or Point\n"
     ]
    },
    {
     "name": "stdout",
     "output_type": "stream",
     "text": [
      "Error getting ZIP for nan, nan: Must be a coordinate pair or Point\n"
     ]
    },
    {
     "name": "stdout",
     "output_type": "stream",
     "text": [
      "Error getting ZIP for nan, nan: Must be a coordinate pair or Point\n"
     ]
    },
    {
     "name": "stdout",
     "output_type": "stream",
     "text": [
      "Error getting ZIP for nan, nan: Must be a coordinate pair or Point\n"
     ]
    },
    {
     "name": "stdout",
     "output_type": "stream",
     "text": [
      "Error getting ZIP for nan, nan: Must be a coordinate pair or Point\n"
     ]
    },
    {
     "name": "stdout",
     "output_type": "stream",
     "text": [
      "Error getting ZIP for nan, nan: Must be a coordinate pair or Point\n"
     ]
    },
    {
     "name": "stdout",
     "output_type": "stream",
     "text": [
      "Error getting ZIP for nan, nan: Must be a coordinate pair or Point\n"
     ]
    },
    {
     "name": "stdout",
     "output_type": "stream",
     "text": [
      "Error getting ZIP for nan, nan: Must be a coordinate pair or Point\n"
     ]
    },
    {
     "name": "stdout",
     "output_type": "stream",
     "text": [
      "Error getting ZIP for nan, nan: Must be a coordinate pair or Point\n"
     ]
    },
    {
     "name": "stdout",
     "output_type": "stream",
     "text": [
      "Error getting ZIP for nan, nan: Must be a coordinate pair or Point\n"
     ]
    },
    {
     "name": "stdout",
     "output_type": "stream",
     "text": [
      "Error getting ZIP for nan, nan: Must be a coordinate pair or Point\n"
     ]
    },
    {
     "name": "stdout",
     "output_type": "stream",
     "text": [
      "Error getting ZIP for nan, nan: Must be a coordinate pair or Point\n"
     ]
    },
    {
     "name": "stdout",
     "output_type": "stream",
     "text": [
      "Error getting ZIP for nan, nan: Must be a coordinate pair or Point\n"
     ]
    },
    {
     "name": "stdout",
     "output_type": "stream",
     "text": [
      "Error getting ZIP for nan, nan: Must be a coordinate pair or Point\n"
     ]
    },
    {
     "name": "stdout",
     "output_type": "stream",
     "text": [
      "Error getting ZIP for nan, nan: Must be a coordinate pair or Point\n"
     ]
    },
    {
     "name": "stdout",
     "output_type": "stream",
     "text": [
      "Error getting ZIP for nan, nan: Must be a coordinate pair or Point\n"
     ]
    },
    {
     "name": "stdout",
     "output_type": "stream",
     "text": [
      "Error getting ZIP for nan, nan: Must be a coordinate pair or Point\n"
     ]
    },
    {
     "name": "stdout",
     "output_type": "stream",
     "text": [
      "Error getting ZIP for nan, nan: Must be a coordinate pair or Point\n"
     ]
    },
    {
     "name": "stdout",
     "output_type": "stream",
     "text": [
      "Error getting ZIP for nan, nan: Must be a coordinate pair or Point\n"
     ]
    },
    {
     "name": "stdout",
     "output_type": "stream",
     "text": [
      "Error getting ZIP for nan, nan: Must be a coordinate pair or Point\n"
     ]
    },
    {
     "name": "stdout",
     "output_type": "stream",
     "text": [
      "Error getting ZIP for nan, nan: Must be a coordinate pair or Point\n"
     ]
    },
    {
     "name": "stdout",
     "output_type": "stream",
     "text": [
      "Error getting ZIP for nan, nan: Must be a coordinate pair or Point\n"
     ]
    },
    {
     "name": "stdout",
     "output_type": "stream",
     "text": [
      "Error getting ZIP for nan, nan: Must be a coordinate pair or Point\n"
     ]
    },
    {
     "name": "stdout",
     "output_type": "stream",
     "text": [
      "Error getting ZIP for nan, nan: Must be a coordinate pair or Point\n"
     ]
    },
    {
     "name": "stdout",
     "output_type": "stream",
     "text": [
      "Error getting ZIP for nan, nan: Must be a coordinate pair or Point\n"
     ]
    },
    {
     "name": "stdout",
     "output_type": "stream",
     "text": [
      "Error getting ZIP for nan, nan: Must be a coordinate pair or Point\n"
     ]
    },
    {
     "name": "stdout",
     "output_type": "stream",
     "text": [
      "Error getting ZIP for nan, nan: Must be a coordinate pair or Point\n"
     ]
    },
    {
     "name": "stdout",
     "output_type": "stream",
     "text": [
      "Error getting ZIP for nan, nan: Must be a coordinate pair or Point\n"
     ]
    },
    {
     "name": "stdout",
     "output_type": "stream",
     "text": [
      "Error getting ZIP for nan, nan: Must be a coordinate pair or Point\n"
     ]
    },
    {
     "name": "stdout",
     "output_type": "stream",
     "text": [
      "Error getting ZIP for nan, nan: Must be a coordinate pair or Point\n"
     ]
    },
    {
     "name": "stdout",
     "output_type": "stream",
     "text": [
      "Error getting ZIP for nan, nan: Must be a coordinate pair or Point\n"
     ]
    },
    {
     "name": "stdout",
     "output_type": "stream",
     "text": [
      "Error getting ZIP for nan, nan: Must be a coordinate pair or Point\n"
     ]
    },
    {
     "name": "stdout",
     "output_type": "stream",
     "text": [
      "Error getting ZIP for nan, nan: Must be a coordinate pair or Point\n"
     ]
    },
    {
     "name": "stdout",
     "output_type": "stream",
     "text": [
      "Error getting ZIP for nan, nan: Must be a coordinate pair or Point\n"
     ]
    },
    {
     "name": "stdout",
     "output_type": "stream",
     "text": [
      "Error getting ZIP for nan, nan: Must be a coordinate pair or Point\n"
     ]
    },
    {
     "name": "stdout",
     "output_type": "stream",
     "text": [
      "Error getting ZIP for nan, nan: Must be a coordinate pair or Point\n"
     ]
    },
    {
     "name": "stdout",
     "output_type": "stream",
     "text": [
      "Error getting ZIP for nan, nan: Must be a coordinate pair or Point\n"
     ]
    },
    {
     "name": "stdout",
     "output_type": "stream",
     "text": [
      "Error getting ZIP for nan, nan: Must be a coordinate pair or Point\n"
     ]
    },
    {
     "name": "stdout",
     "output_type": "stream",
     "text": [
      "Error getting ZIP for nan, nan: Must be a coordinate pair or Point\n"
     ]
    },
    {
     "data": {
      "text/html": [
       "<div>\n",
       "<style scoped>\n",
       "    .dataframe tbody tr th:only-of-type {\n",
       "        vertical-align: middle;\n",
       "    }\n",
       "\n",
       "    .dataframe tbody tr th {\n",
       "        vertical-align: top;\n",
       "    }\n",
       "\n",
       "    .dataframe thead th {\n",
       "        text-align: right;\n",
       "    }\n",
       "</style>\n",
       "<table border=\"1\" class=\"dataframe\">\n",
       "  <thead>\n",
       "    <tr style=\"text-align: right;\">\n",
       "      <th></th>\n",
       "      <th>RecordID</th>\n",
       "      <th>Offense</th>\n",
       "      <th>IncidentID</th>\n",
       "      <th>BlockNumber</th>\n",
       "      <th>StreetName</th>\n",
       "      <th>Agency</th>\n",
       "      <th>HourReported</th>\n",
       "      <th>ReportingOfficer</th>\n",
       "      <th>Date</th>\n",
       "      <th>DateString</th>\n",
       "      <th>DayOfWeek</th>\n",
       "      <th>Weekend</th>\n",
       "      <th>Season</th>\n",
       "      <th>HourAMPM</th>\n",
       "      <th>TimeOfDay</th>\n",
       "      <th>FullStreet</th>\n",
       "      <th>lat</th>\n",
       "      <th>lon</th>\n",
       "      <th>neighborhood</th>\n",
       "      <th>zip</th>\n",
       "    </tr>\n",
       "  </thead>\n",
       "  <tbody>\n",
       "    <tr>\n",
       "      <th>0</th>\n",
       "      <td>1</td>\n",
       "      <td>Missing Person-juvenile</td>\n",
       "      <td>202500027550</td>\n",
       "      <td>1400</td>\n",
       "      <td>BAKER ST, B</td>\n",
       "      <td>CPD</td>\n",
       "      <td>2143</td>\n",
       "      <td>Urban, Jacob</td>\n",
       "      <td>2025-08-04 21:43:56</td>\n",
       "      <td>2025-08-04 09:43:56 PM</td>\n",
       "      <td>Monday</td>\n",
       "      <td>False</td>\n",
       "      <td>Summer</td>\n",
       "      <td>09:43 PM</td>\n",
       "      <td>Night</td>\n",
       "      <td>1400 BAKER ST, B</td>\n",
       "      <td>38.025760</td>\n",
       "      <td>-78.502157</td>\n",
       "      <td>Fifeville</td>\n",
       "      <td>22903</td>\n",
       "    </tr>\n",
       "    <tr>\n",
       "      <th>1</th>\n",
       "      <td>2</td>\n",
       "      <td>Larceny - From Motor Vehicle</td>\n",
       "      <td>202500027541</td>\n",
       "      <td>800</td>\n",
       "      <td>CABELL AVE</td>\n",
       "      <td>CPD</td>\n",
       "      <td>2007</td>\n",
       "      <td>Khaleefa, Hamzeh</td>\n",
       "      <td>2025-08-04 20:07:11</td>\n",
       "      <td>2025-08-04 08:07:11 PM</td>\n",
       "      <td>Monday</td>\n",
       "      <td>False</td>\n",
       "      <td>Summer</td>\n",
       "      <td>08:07 PM</td>\n",
       "      <td>Evening</td>\n",
       "      <td>800 CABELL AVE</td>\n",
       "      <td>38.042357</td>\n",
       "      <td>-78.496441</td>\n",
       "      <td>Venable</td>\n",
       "      <td>22903</td>\n",
       "    </tr>\n",
       "    <tr>\n",
       "      <th>2</th>\n",
       "      <td>3</td>\n",
       "      <td>Fraud-impersonation</td>\n",
       "      <td>202500027525</td>\n",
       "      <td>1000</td>\n",
       "      <td>COTTONWOOD RD</td>\n",
       "      <td>CPD</td>\n",
       "      <td>1805</td>\n",
       "      <td>Bland, Johnnà</td>\n",
       "      <td>2025-08-04 18:05:17</td>\n",
       "      <td>2025-08-04 06:05:17 PM</td>\n",
       "      <td>Monday</td>\n",
       "      <td>False</td>\n",
       "      <td>Summer</td>\n",
       "      <td>06:05 PM</td>\n",
       "      <td>Evening</td>\n",
       "      <td>1000 COTTONWOOD RD</td>\n",
       "      <td>38.043051</td>\n",
       "      <td>-78.466636</td>\n",
       "      <td>Locust Grove</td>\n",
       "      <td>22901</td>\n",
       "    </tr>\n",
       "    <tr>\n",
       "      <th>3</th>\n",
       "      <td>4</td>\n",
       "      <td>Misc - Criminal Call</td>\n",
       "      <td>202500027517</td>\n",
       "      <td>100</td>\n",
       "      <td>MAURY AVE</td>\n",
       "      <td>CPD</td>\n",
       "      <td>1720</td>\n",
       "      <td>Urban, Jacob</td>\n",
       "      <td>2025-08-04 17:20:31</td>\n",
       "      <td>2025-08-04 05:20:31 PM</td>\n",
       "      <td>Monday</td>\n",
       "      <td>False</td>\n",
       "      <td>Summer</td>\n",
       "      <td>05:20 PM</td>\n",
       "      <td>Evening</td>\n",
       "      <td>100 MAURY AVE</td>\n",
       "      <td>38.026101</td>\n",
       "      <td>-78.515167</td>\n",
       "      <td>Jefferson Park Avenue</td>\n",
       "      <td>22903</td>\n",
       "    </tr>\n",
       "    <tr>\n",
       "      <th>4</th>\n",
       "      <td>5</td>\n",
       "      <td>Assault Aggravated</td>\n",
       "      <td>202500027508</td>\n",
       "      <td>800</td>\n",
       "      <td>HARDY DR, C</td>\n",
       "      <td>CPD</td>\n",
       "      <td>1613</td>\n",
       "      <td>Khaleefa, Hamzeh</td>\n",
       "      <td>2025-08-04 16:13:21</td>\n",
       "      <td>2025-08-04 04:13:21 PM</td>\n",
       "      <td>Monday</td>\n",
       "      <td>False</td>\n",
       "      <td>Summer</td>\n",
       "      <td>04:13 PM</td>\n",
       "      <td>Afternoon</td>\n",
       "      <td>800 HARDY DR, C</td>\n",
       "      <td>38.033239</td>\n",
       "      <td>-78.490398</td>\n",
       "      <td>10th &amp; Page</td>\n",
       "      <td>22903</td>\n",
       "    </tr>\n",
       "  </tbody>\n",
       "</table>\n",
       "</div>"
      ],
      "text/plain": [
       "   RecordID                       Offense    IncidentID BlockNumber  \\\n",
       "0         1       Missing Person-juvenile  202500027550        1400   \n",
       "1         2  Larceny - From Motor Vehicle  202500027541         800   \n",
       "2         3           Fraud-impersonation  202500027525        1000   \n",
       "3         4          Misc - Criminal Call  202500027517         100   \n",
       "4         5            Assault Aggravated  202500027508         800   \n",
       "\n",
       "      StreetName Agency HourReported  ReportingOfficer                Date  \\\n",
       "0    BAKER ST, B    CPD         2143      Urban, Jacob 2025-08-04 21:43:56   \n",
       "1     CABELL AVE    CPD         2007  Khaleefa, Hamzeh 2025-08-04 20:07:11   \n",
       "2  COTTONWOOD RD    CPD         1805     Bland, Johnnà 2025-08-04 18:05:17   \n",
       "3      MAURY AVE    CPD         1720      Urban, Jacob 2025-08-04 17:20:31   \n",
       "4    HARDY DR, C    CPD         1613  Khaleefa, Hamzeh 2025-08-04 16:13:21   \n",
       "\n",
       "               DateString DayOfWeek  Weekend  Season  HourAMPM  TimeOfDay  \\\n",
       "0  2025-08-04 09:43:56 PM    Monday    False  Summer  09:43 PM      Night   \n",
       "1  2025-08-04 08:07:11 PM    Monday    False  Summer  08:07 PM    Evening   \n",
       "2  2025-08-04 06:05:17 PM    Monday    False  Summer  06:05 PM    Evening   \n",
       "3  2025-08-04 05:20:31 PM    Monday    False  Summer  05:20 PM    Evening   \n",
       "4  2025-08-04 04:13:21 PM    Monday    False  Summer  04:13 PM  Afternoon   \n",
       "\n",
       "           FullStreet        lat        lon           neighborhood    zip  \n",
       "0    1400 BAKER ST, B  38.025760 -78.502157              Fifeville  22903  \n",
       "1      800 CABELL AVE  38.042357 -78.496441                Venable  22903  \n",
       "2  1000 COTTONWOOD RD  38.043051 -78.466636           Locust Grove  22901  \n",
       "3       100 MAURY AVE  38.026101 -78.515167  Jefferson Park Avenue  22903  \n",
       "4     800 HARDY DR, C  38.033239 -78.490398            10th & Page  22903  "
      ]
     },
     "execution_count": 11,
     "metadata": {},
     "output_type": "execute_result"
    }
   ],
   "source": [
    "# Initialize the geocoder.\n",
    "geolocator = Nominatim(user_agent=\"zip_lookup\")\n",
    "\n",
    "# Try to load a persistent ZIP cache if available.\n",
    "try:\n",
    "    with open(\"zip_cache.pkl\", \"rb\") as f:\n",
    "        zip_cache = pickle.load(f)\n",
    "    print(\"Loaded zip cache.\")\n",
    "except FileNotFoundError:\n",
    "    zip_cache = {}\n",
    "    print(\"No zip cache found; starting fresh.\")\n",
    "\n",
    "def get_zip(lat, lon):\n",
    "    \"\"\"\n",
    "    Reverse geocodes a latitude and longitude to retrieve the ZIP code.\n",
    "    Caches results to speed up subsequent lookups.\n",
    "    \"\"\"\n",
    "    key = (lat, lon)\n",
    "    if key in zip_cache:\n",
    "        return zip_cache[key]\n",
    "    \n",
    "    try:\n",
    "        location = geolocator.reverse((lat, lon), exactly_one=True, timeout=10)\n",
    "        address = location.raw.get('address', {})\n",
    "        postal_code = address.get('postcode', \"N/A\")\n",
    "    except Exception as e:\n",
    "        print(f\"Error getting ZIP for {lat}, {lon}: {e}\")\n",
    "        postal_code = \"N/A\"\n",
    "    \n",
    "    zip_cache[key] = postal_code\n",
    "    # Pause to respect the usage policy.\n",
    "    time.sleep(1)\n",
    "    return postal_code\n",
    "\n",
    "# Apply the function to each row in the DataFrame.\n",
    "df['zip'] = df.apply(lambda row: get_zip(row['lat'], row['lon']), axis=1)\n",
    "\n",
    "# Save the updated ZIP cache.\n",
    "with open(\"zip_cache.pkl\", \"wb\") as f:\n",
    "    pickle.dump(zip_cache, f)\n",
    "\n",
    "df.head()\n"
   ]
  },
  {
   "cell_type": "code",
   "execution_count": 12,
   "id": "2ca1694d",
   "metadata": {
    "execution": {
     "iopub.execute_input": "2025-08-07T01:13:36.870189Z",
     "iopub.status.busy": "2025-08-07T01:13:36.869977Z",
     "iopub.status.idle": "2025-08-07T01:13:36.899032Z",
     "shell.execute_reply": "2025-08-07T01:13:36.898318Z"
    },
    "papermill": {
     "duration": 0.040214,
     "end_time": "2025-08-07T01:13:36.900175",
     "exception": false,
     "start_time": "2025-08-07T01:13:36.859961",
     "status": "completed"
    },
    "tags": []
   },
   "outputs": [
    {
     "name": "stdout",
     "output_type": "stream",
     "text": [
      "                  MissingCount  MissingPercentage\n",
      "RecordID                     0               0.00\n",
      "Offense                      0               0.00\n",
      "IncidentID                   0               0.00\n",
      "BlockNumber                  0               0.00\n",
      "StreetName                   0               0.00\n",
      "Agency                       0               0.00\n",
      "HourReported                 0               0.00\n",
      "ReportingOfficer            16               0.06\n",
      "Date                         0               0.00\n",
      "DateString                   0               0.00\n",
      "DayOfWeek                    0               0.00\n",
      "Weekend                      0               0.00\n",
      "Season                       0               0.00\n",
      "HourAMPM                     0               0.00\n",
      "TimeOfDay                    0               0.00\n",
      "FullStreet                   0               0.00\n",
      "lat                         85               0.33\n",
      "lon                         85               0.33\n",
      "neighborhood                 0               0.00\n",
      "zip                          0               0.00\n"
     ]
    }
   ],
   "source": [
    "missing_info = missing_percentage(df)\n",
    "print(missing_info)\n"
   ]
  },
  {
   "cell_type": "code",
   "execution_count": 13,
   "id": "a9e6e3f8",
   "metadata": {
    "execution": {
     "iopub.execute_input": "2025-08-07T01:13:36.919938Z",
     "iopub.status.busy": "2025-08-07T01:13:36.919745Z",
     "iopub.status.idle": "2025-08-07T01:13:36.948131Z",
     "shell.execute_reply": "2025-08-07T01:13:36.947601Z"
    },
    "papermill": {
     "duration": 0.039214,
     "end_time": "2025-08-07T01:13:36.949109",
     "exception": false,
     "start_time": "2025-08-07T01:13:36.909895",
     "status": "completed"
    },
    "tags": []
   },
   "outputs": [
    {
     "name": "stdout",
     "output_type": "stream",
     "text": [
      "<class 'pandas.core.frame.DataFrame'>\n",
      "RangeIndex: 25630 entries, 0 to 25629\n",
      "Data columns (total 20 columns):\n",
      " #   Column            Non-Null Count  Dtype         \n",
      "---  ------            --------------  -----         \n",
      " 0   RecordID          25630 non-null  int64         \n",
      " 1   Offense           25630 non-null  object        \n",
      " 2   IncidentID        25630 non-null  object        \n",
      " 3   BlockNumber       25630 non-null  object        \n",
      " 4   StreetName        25630 non-null  object        \n",
      " 5   Agency            25630 non-null  object        \n",
      " 6   HourReported      25630 non-null  object        \n",
      " 7   ReportingOfficer  25614 non-null  object        \n",
      " 8   Date              25630 non-null  datetime64[ns]\n",
      " 9   DateString        25630 non-null  object        \n",
      " 10  DayOfWeek         25630 non-null  object        \n",
      " 11  Weekend           25630 non-null  bool          \n",
      " 12  Season            25630 non-null  object        \n",
      " 13  HourAMPM          25630 non-null  object        \n",
      " 14  TimeOfDay         25630 non-null  object        \n",
      " 15  FullStreet        25630 non-null  object        \n",
      " 16  lat               25545 non-null  float64       \n",
      " 17  lon               25545 non-null  float64       \n",
      " 18  neighborhood      25630 non-null  object        \n",
      " 19  zip               25630 non-null  object        \n",
      "dtypes: bool(1), datetime64[ns](1), float64(2), int64(1), object(15)\n",
      "memory usage: 3.7+ MB\n"
     ]
    }
   ],
   "source": [
    "df.info()"
   ]
  },
  {
   "cell_type": "code",
   "execution_count": 14,
   "id": "c8dea8d0",
   "metadata": {
    "execution": {
     "iopub.execute_input": "2025-08-07T01:13:36.969278Z",
     "iopub.status.busy": "2025-08-07T01:13:36.969057Z",
     "iopub.status.idle": "2025-08-07T01:13:37.017224Z",
     "shell.execute_reply": "2025-08-07T01:13:37.016627Z"
    },
    "papermill": {
     "duration": 0.059227,
     "end_time": "2025-08-07T01:13:37.018230",
     "exception": false,
     "start_time": "2025-08-07T01:13:36.959003",
     "status": "completed"
    },
    "tags": []
   },
   "outputs": [
    {
     "data": {
      "text/html": [
       "<div>\n",
       "<style scoped>\n",
       "    .dataframe tbody tr th:only-of-type {\n",
       "        vertical-align: middle;\n",
       "    }\n",
       "\n",
       "    .dataframe tbody tr th {\n",
       "        vertical-align: top;\n",
       "    }\n",
       "\n",
       "    .dataframe thead th {\n",
       "        text-align: right;\n",
       "    }\n",
       "</style>\n",
       "<table border=\"1\" class=\"dataframe\">\n",
       "  <thead>\n",
       "    <tr style=\"text-align: right;\">\n",
       "      <th></th>\n",
       "      <th>RecordID</th>\n",
       "      <th>Offense</th>\n",
       "      <th>IncidentID</th>\n",
       "      <th>Agency</th>\n",
       "      <th>ReportingOfficer</th>\n",
       "      <th>Date</th>\n",
       "      <th>DayOfWeek</th>\n",
       "      <th>Weekend</th>\n",
       "      <th>Season</th>\n",
       "      <th>TimeOfDay</th>\n",
       "      <th>FullStreet</th>\n",
       "      <th>lat</th>\n",
       "      <th>lon</th>\n",
       "      <th>neighborhood</th>\n",
       "      <th>zip</th>\n",
       "    </tr>\n",
       "  </thead>\n",
       "  <tbody>\n",
       "    <tr>\n",
       "      <th>0</th>\n",
       "      <td>1</td>\n",
       "      <td>Missing Person-juvenile</td>\n",
       "      <td>202500027550</td>\n",
       "      <td>CPD</td>\n",
       "      <td>Urban, Jacob</td>\n",
       "      <td>2025-08-04 21:43:56</td>\n",
       "      <td>Monday</td>\n",
       "      <td>False</td>\n",
       "      <td>Summer</td>\n",
       "      <td>Night</td>\n",
       "      <td>1400 BAKER ST, B</td>\n",
       "      <td>38.02576</td>\n",
       "      <td>-78.502157</td>\n",
       "      <td>Fifeville</td>\n",
       "      <td>22903</td>\n",
       "    </tr>\n",
       "    <tr>\n",
       "      <th>1</th>\n",
       "      <td>2</td>\n",
       "      <td>Larceny - From Motor Vehicle</td>\n",
       "      <td>202500027541</td>\n",
       "      <td>CPD</td>\n",
       "      <td>Khaleefa, Hamzeh</td>\n",
       "      <td>2025-08-04 20:07:11</td>\n",
       "      <td>Monday</td>\n",
       "      <td>False</td>\n",
       "      <td>Summer</td>\n",
       "      <td>Evening</td>\n",
       "      <td>800 CABELL AVE</td>\n",
       "      <td>38.042357</td>\n",
       "      <td>-78.496441</td>\n",
       "      <td>Venable</td>\n",
       "      <td>22903</td>\n",
       "    </tr>\n",
       "    <tr>\n",
       "      <th>2</th>\n",
       "      <td>3</td>\n",
       "      <td>Fraud-impersonation</td>\n",
       "      <td>202500027525</td>\n",
       "      <td>CPD</td>\n",
       "      <td>Bland, Johnnà</td>\n",
       "      <td>2025-08-04 18:05:17</td>\n",
       "      <td>Monday</td>\n",
       "      <td>False</td>\n",
       "      <td>Summer</td>\n",
       "      <td>Evening</td>\n",
       "      <td>1000 COTTONWOOD RD</td>\n",
       "      <td>38.043051</td>\n",
       "      <td>-78.466636</td>\n",
       "      <td>Locust Grove</td>\n",
       "      <td>22901</td>\n",
       "    </tr>\n",
       "    <tr>\n",
       "      <th>3</th>\n",
       "      <td>4</td>\n",
       "      <td>Misc - Criminal Call</td>\n",
       "      <td>202500027517</td>\n",
       "      <td>CPD</td>\n",
       "      <td>Urban, Jacob</td>\n",
       "      <td>2025-08-04 17:20:31</td>\n",
       "      <td>Monday</td>\n",
       "      <td>False</td>\n",
       "      <td>Summer</td>\n",
       "      <td>Evening</td>\n",
       "      <td>100 MAURY AVE</td>\n",
       "      <td>38.026101</td>\n",
       "      <td>-78.515167</td>\n",
       "      <td>Jefferson Park Avenue</td>\n",
       "      <td>22903</td>\n",
       "    </tr>\n",
       "    <tr>\n",
       "      <th>4</th>\n",
       "      <td>5</td>\n",
       "      <td>Assault Aggravated</td>\n",
       "      <td>202500027508</td>\n",
       "      <td>CPD</td>\n",
       "      <td>Khaleefa, Hamzeh</td>\n",
       "      <td>2025-08-04 16:13:21</td>\n",
       "      <td>Monday</td>\n",
       "      <td>False</td>\n",
       "      <td>Summer</td>\n",
       "      <td>Afternoon</td>\n",
       "      <td>800 HARDY DR, C</td>\n",
       "      <td>38.033239</td>\n",
       "      <td>-78.490398</td>\n",
       "      <td>10th &amp; Page</td>\n",
       "      <td>22903</td>\n",
       "    </tr>\n",
       "  </tbody>\n",
       "</table>\n",
       "</div>"
      ],
      "text/plain": [
       "   RecordID                       Offense    IncidentID Agency  \\\n",
       "0         1       Missing Person-juvenile  202500027550    CPD   \n",
       "1         2  Larceny - From Motor Vehicle  202500027541    CPD   \n",
       "2         3           Fraud-impersonation  202500027525    CPD   \n",
       "3         4          Misc - Criminal Call  202500027517    CPD   \n",
       "4         5            Assault Aggravated  202500027508    CPD   \n",
       "\n",
       "   ReportingOfficer                Date DayOfWeek  Weekend  Season  TimeOfDay  \\\n",
       "0      Urban, Jacob 2025-08-04 21:43:56    Monday    False  Summer      Night   \n",
       "1  Khaleefa, Hamzeh 2025-08-04 20:07:11    Monday    False  Summer    Evening   \n",
       "2     Bland, Johnnà 2025-08-04 18:05:17    Monday    False  Summer    Evening   \n",
       "3      Urban, Jacob 2025-08-04 17:20:31    Monday    False  Summer    Evening   \n",
       "4  Khaleefa, Hamzeh 2025-08-04 16:13:21    Monday    False  Summer  Afternoon   \n",
       "\n",
       "           FullStreet        lat        lon           neighborhood    zip  \n",
       "0    1400 BAKER ST, B   38.02576 -78.502157              Fifeville  22903  \n",
       "1      800 CABELL AVE  38.042357 -78.496441                Venable  22903  \n",
       "2  1000 COTTONWOOD RD  38.043051 -78.466636           Locust Grove  22901  \n",
       "3       100 MAURY AVE  38.026101 -78.515167  Jefferson Park Avenue  22903  \n",
       "4     800 HARDY DR, C  38.033239 -78.490398            10th & Page  22903  "
      ]
     },
     "execution_count": 14,
     "metadata": {},
     "output_type": "execute_result"
    }
   ],
   "source": [
    "# Now drop the original BlockNumber and StreetName columns\n",
    "df.drop(columns=['BlockNumber', 'StreetName','HourAMPM','HourReported','DateString'], inplace=True)\n",
    "df[\"zip\"] = df[\"zip\"].astype(str)\n",
    "\n",
    "# Fill all missing values in the DataFrame with \"N/A\"\n",
    "df.replace({None: \"N/A\", np.nan: \"N/A\", \"\": \"N/A\"}, inplace=True)\n",
    "df.head()"
   ]
  },
  {
   "cell_type": "code",
   "execution_count": 15,
   "id": "6982f8bc",
   "metadata": {
    "execution": {
     "iopub.execute_input": "2025-08-07T01:13:37.038945Z",
     "iopub.status.busy": "2025-08-07T01:13:37.038686Z",
     "iopub.status.idle": "2025-08-07T01:13:37.060681Z",
     "shell.execute_reply": "2025-08-07T01:13:37.059998Z"
    },
    "papermill": {
     "duration": 0.03326,
     "end_time": "2025-08-07T01:13:37.061670",
     "exception": false,
     "start_time": "2025-08-07T01:13:37.028410",
     "status": "completed"
    },
    "tags": []
   },
   "outputs": [
    {
     "name": "stdout",
     "output_type": "stream",
     "text": [
      "                  MissingCount  MissingPercentage\n",
      "RecordID                     0                0.0\n",
      "Offense                      0                0.0\n",
      "IncidentID                   0                0.0\n",
      "Agency                       0                0.0\n",
      "ReportingOfficer             0                0.0\n",
      "Date                         0                0.0\n",
      "DayOfWeek                    0                0.0\n",
      "Weekend                      0                0.0\n",
      "Season                       0                0.0\n",
      "TimeOfDay                    0                0.0\n",
      "FullStreet                   0                0.0\n",
      "lat                          0                0.0\n",
      "lon                          0                0.0\n",
      "neighborhood                 0                0.0\n",
      "zip                          0                0.0\n"
     ]
    }
   ],
   "source": [
    "missing_info = missing_percentage(df)\n",
    "print(missing_info)"
   ]
  },
  {
   "cell_type": "code",
   "execution_count": 16,
   "id": "78ab3d35",
   "metadata": {
    "execution": {
     "iopub.execute_input": "2025-08-07T01:13:37.082393Z",
     "iopub.status.busy": "2025-08-07T01:13:37.082124Z",
     "iopub.status.idle": "2025-08-07T01:13:37.086663Z",
     "shell.execute_reply": "2025-08-07T01:13:37.085977Z"
    },
    "papermill": {
     "duration": 0.016015,
     "end_time": "2025-08-07T01:13:37.087721",
     "exception": false,
     "start_time": "2025-08-07T01:13:37.071706",
     "status": "completed"
    },
    "tags": []
   },
   "outputs": [
    {
     "data": {
      "text/plain": [
       "Index(['RecordID', 'Offense', 'IncidentID', 'Agency', 'ReportingOfficer',\n",
       "       'Date', 'DayOfWeek', 'Weekend', 'Season', 'TimeOfDay', 'FullStreet',\n",
       "       'lat', 'lon', 'neighborhood', 'zip'],\n",
       "      dtype='object')"
      ]
     },
     "execution_count": 16,
     "metadata": {},
     "output_type": "execute_result"
    }
   ],
   "source": [
    "df.columns"
   ]
  },
  {
   "cell_type": "code",
   "execution_count": 17,
   "id": "d442baa8",
   "metadata": {
    "execution": {
     "iopub.execute_input": "2025-08-07T01:13:37.108078Z",
     "iopub.status.busy": "2025-08-07T01:13:37.107821Z",
     "iopub.status.idle": "2025-08-07T01:13:37.131728Z",
     "shell.execute_reply": "2025-08-07T01:13:37.131022Z"
    },
    "papermill": {
     "duration": 0.035252,
     "end_time": "2025-08-07T01:13:37.132851",
     "exception": false,
     "start_time": "2025-08-07T01:13:37.097599",
     "status": "completed"
    },
    "tags": []
   },
   "outputs": [
    {
     "name": "stdout",
     "output_type": "stream",
     "text": [
      "<class 'pandas.core.frame.DataFrame'>\n",
      "RangeIndex: 25630 entries, 0 to 25629\n",
      "Data columns (total 15 columns):\n",
      " #   Column            Non-Null Count  Dtype         \n",
      "---  ------            --------------  -----         \n",
      " 0   RecordID          25630 non-null  int64         \n",
      " 1   Offense           25630 non-null  object        \n",
      " 2   IncidentID        25630 non-null  object        \n",
      " 3   Agency            25630 non-null  object        \n",
      " 4   ReportingOfficer  25630 non-null  object        \n",
      " 5   Date              25630 non-null  datetime64[ns]\n",
      " 6   DayOfWeek         25630 non-null  object        \n",
      " 7   Weekend           25630 non-null  bool          \n",
      " 8   Season            25630 non-null  object        \n",
      " 9   TimeOfDay         25630 non-null  object        \n",
      " 10  FullStreet        25630 non-null  object        \n",
      " 11  lat               25630 non-null  object        \n",
      " 12  lon               25630 non-null  object        \n",
      " 13  neighborhood      25630 non-null  object        \n",
      " 14  zip               25630 non-null  object        \n",
      "dtypes: bool(1), datetime64[ns](1), int64(1), object(12)\n",
      "memory usage: 2.8+ MB\n"
     ]
    }
   ],
   "source": [
    "df.info()"
   ]
  },
  {
   "cell_type": "markdown",
   "id": "477b11f3",
   "metadata": {
    "papermill": {
     "duration": 0.009848,
     "end_time": "2025-08-07T01:13:37.152863",
     "exception": false,
     "start_time": "2025-08-07T01:13:37.143015",
     "status": "completed"
    },
    "tags": []
   },
   "source": [
    "### Export Clean Data"
   ]
  },
  {
   "cell_type": "code",
   "execution_count": 18,
   "id": "90551d4a",
   "metadata": {
    "execution": {
     "iopub.execute_input": "2025-08-07T01:13:37.173265Z",
     "iopub.status.busy": "2025-08-07T01:13:37.173034Z",
     "iopub.status.idle": "2025-08-07T01:13:46.302483Z",
     "shell.execute_reply": "2025-08-07T01:13:46.301783Z"
    },
    "papermill": {
     "duration": 9.140998,
     "end_time": "2025-08-07T01:13:46.303610",
     "exception": false,
     "start_time": "2025-08-07T01:13:37.162612",
     "status": "completed"
    },
    "tags": []
   },
   "outputs": [
    {
     "name": "stdout",
     "output_type": "stream",
     "text": [
      "Project Root: /home/runner/work/crime-data/crime-data\n"
     ]
    },
    {
     "name": "stdout",
     "output_type": "stream",
     "text": [
      "Data saved to: /home/runner/work/crime-data/crime-data/data/charlottesville_crime_incidents.csv\n"
     ]
    },
    {
     "name": "stdout",
     "output_type": "stream",
     "text": [
      "Excel saved to: /home/runner/work/crime-data/crime-data/data/charlottesville_crime_incidents.xlsx\n"
     ]
    }
   ],
   "source": [
    "# Determine the project root (assuming papermill is run from the repository root)\n",
    "project_root = os.getcwd()\n",
    "print(\"Project Root:\", project_root)\n",
    "\n",
    "# Set the data directory within the project root\n",
    "data_dir = os.path.join(project_root, \"data\")\n",
    "\n",
    "# Ensure the \"data\" directory exists (create it if it doesn't)\n",
    "if not os.path.exists(data_dir):\n",
    "    os.makedirs(data_dir)\n",
    "\n",
    "# Export the DataFrame to CSV in the \"data\" folder located in the project root\n",
    "csv_path = os.path.join(data_dir, \"charlottesville_crime_incidents.csv\")\n",
    "df.to_csv(csv_path, index=False)\n",
    "print(\"Data saved to:\", csv_path)\n",
    "\n",
    "# Construct the path to your Excel file\n",
    "excel_path = os.path.join(data_dir, \"charlottesville_crime_incidents.xlsx\")\n",
    "\n",
    "# Export the DataFrame to Excel\n",
    "df.to_excel(excel_path, index=False)\n",
    "print(\"Excel saved to:\", excel_path)\n"
   ]
  }
 ],
 "metadata": {
  "kernelspec": {
   "display_name": "Python 3",
   "language": "python",
   "name": "python3"
  },
  "language_info": {
   "codemirror_mode": {
    "name": "ipython",
    "version": 3
   },
   "file_extension": ".py",
   "mimetype": "text/x-python",
   "name": "python",
   "nbconvert_exporter": "python",
   "pygments_lexer": "ipython3",
   "version": "3.9.23"
  },
  "papermill": {
   "default_parameters": {},
   "duration": 170.58188,
   "end_time": "2025-08-07T01:13:46.729776",
   "environment_variables": {},
   "exception": null,
   "input_path": "notebook/Crime Data.ipynb",
   "output_path": "notebook/Crime Data_output.ipynb",
   "parameters": {},
   "start_time": "2025-08-07T01:10:56.147896",
   "version": "2.6.0"
  }
 },
 "nbformat": 4,
 "nbformat_minor": 5
}