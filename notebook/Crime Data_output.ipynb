{
 "cells": [
  {
   "cell_type": "markdown",
   "id": "c39c2b78",
   "metadata": {
    "papermill": {
     "duration": 0.006255,
     "end_time": "2025-05-15T01:00:04.492065",
     "exception": false,
     "start_time": "2025-05-15T01:00:04.485810",
     "status": "completed"
    },
    "tags": []
   },
   "source": [
    "# Charlottesville Open Data Porttal: Crime Data"
   ]
  },
  {
   "cell_type": "markdown",
   "id": "47beaa22",
   "metadata": {
    "papermill": {
     "duration": 0.004997,
     "end_time": "2025-05-15T01:00:04.502466",
     "exception": false,
     "start_time": "2025-05-15T01:00:04.497469",
     "status": "completed"
    },
    "tags": []
   },
   "source": [
    "## Import Relevant Librarires & Set WD"
   ]
  },
  {
   "cell_type": "code",
   "execution_count": 1,
   "id": "d251dc42",
   "metadata": {
    "execution": {
     "iopub.execute_input": "2025-05-15T01:00:04.514068Z",
     "iopub.status.busy": "2025-05-15T01:00:04.513570Z",
     "iopub.status.idle": "2025-05-15T01:00:05.211105Z",
     "shell.execute_reply": "2025-05-15T01:00:05.210436Z"
    },
    "papermill": {
     "duration": 0.704886,
     "end_time": "2025-05-15T01:00:05.212465",
     "exception": false,
     "start_time": "2025-05-15T01:00:04.507579",
     "status": "completed"
    },
    "tags": []
   },
   "outputs": [],
   "source": [
    "import requests\n",
    "import pandas as pd\n",
    "import numpy as np\n",
    "import pickle\n",
    "import googlemaps\n",
    "import plotly.express as px\n",
    "from geopy.geocoders import Nominatim\n",
    "import time\n",
    "from dotenv import load_dotenv\n",
    "import os\n",
    "\n",
    "env_path = os.path.join(\"..\", \".env\")\n",
    "#print(\"Looking for .env file at:\", os.path.abspath(env_path))\n",
    "load_dotenv(dotenv_path=env_path)\n",
    "\n",
    "# Retrieve the variables\n",
    "GOOGLE_API_KEY = os.getenv(\"GOOGLE_API_KEY\")\n",
    "WORKING_DIR = os.getenv(\"WORKING_DIR\")\n",
    "\n",
    "if GOOGLE_API_KEY is None or WORKING_DIR is None:\n",
    "    raise RuntimeError(\"No configuration found. Please ensure that your .env file exists with the required variables, or create a local config.py file.\")\n",
    "\n",
    "#print(\"Google API Key:\", GOOGLE_API_KEY)\n",
    "#print(\"Working Directory:\", WORKING_DIR)"
   ]
  },
  {
   "cell_type": "markdown",
   "id": "12e7d832",
   "metadata": {
    "papermill": {
     "duration": 0.005018,
     "end_time": "2025-05-15T01:00:05.222956",
     "exception": false,
     "start_time": "2025-05-15T01:00:05.217938",
     "status": "completed"
    },
    "tags": []
   },
   "source": [
    "## Import Data\n",
    "\n",
    "URL: https://opendata.charlottesville.org/datasets/charlottesville::crime-data/about"
   ]
  },
  {
   "cell_type": "code",
   "execution_count": 2,
   "id": "51505757",
   "metadata": {
    "execution": {
     "iopub.execute_input": "2025-05-15T01:00:05.234836Z",
     "iopub.status.busy": "2025-05-15T01:00:05.234303Z",
     "iopub.status.idle": "2025-05-15T01:01:05.223472Z",
     "shell.execute_reply": "2025-05-15T01:01:05.222706Z"
    },
    "papermill": {
     "duration": 60.023202,
     "end_time": "2025-05-15T01:01:05.251825",
     "exception": false,
     "start_time": "2025-05-15T01:00:05.228623",
     "status": "completed"
    },
    "tags": []
   },
   "outputs": [
    {
     "name": "stdout",
     "output_type": "stream",
     "text": [
      "Total records imported: 25383\n"
     ]
    }
   ],
   "source": [
    "# Define the endpoint and initial parameters.\n",
    "url = \"https://gisweb.charlottesville.org/arcgis/rest/services/OpenData_2/MapServer/6/query\"\n",
    "params = {\n",
    "    \"where\": \"1=1\",\n",
    "    \"outFields\": \"*\",\n",
    "    \"outSR\": 4326,\n",
    "    \"f\": \"json\",\n",
    "    \"resultOffset\": 0,       # Starting index for results\n",
    "    \"resultRecordCount\": 10000  # Maximum records per batch (if allowed by the API)\n",
    "}\n",
    "\n",
    "records = []\n",
    "\n",
    "while True:\n",
    "    response = requests.get(url, params=params)\n",
    "    response.raise_for_status()\n",
    "    data = response.json()\n",
    "    \n",
    "    # Get the current batch of features.\n",
    "    features = data.get(\"features\", [])\n",
    "    if not features:\n",
    "        break\n",
    "\n",
    "    # Extract the attributes from the features.\n",
    "    batch_records = [feature.get(\"attributes\", {}) for feature in features]\n",
    "    records.extend(batch_records)\n",
    "    \n",
    "    # If the batch size is less than the requested count, we reached the end.\n",
    "    if len(features) < params[\"resultRecordCount\"]:\n",
    "        break\n",
    "\n",
    "    # Update the resultOffset for the next batch.\n",
    "    params[\"resultOffset\"] += params[\"resultRecordCount\"]\n",
    "\n",
    "# Create a DataFrame from the combined records.\n",
    "df = pd.DataFrame(records)\n",
    "print(\"Total records imported:\", len(df))\n"
   ]
  },
  {
   "cell_type": "code",
   "execution_count": 3,
   "id": "bbca518b",
   "metadata": {
    "execution": {
     "iopub.execute_input": "2025-05-15T01:01:05.263781Z",
     "iopub.status.busy": "2025-05-15T01:01:05.263287Z",
     "iopub.status.idle": "2025-05-15T01:01:05.275939Z",
     "shell.execute_reply": "2025-05-15T01:01:05.275259Z"
    },
    "papermill": {
     "duration": 0.019764,
     "end_time": "2025-05-15T01:01:05.276977",
     "exception": false,
     "start_time": "2025-05-15T01:01:05.257213",
     "status": "completed"
    },
    "tags": []
   },
   "outputs": [
    {
     "data": {
      "text/html": [
       "<div>\n",
       "<style scoped>\n",
       "    .dataframe tbody tr th:only-of-type {\n",
       "        vertical-align: middle;\n",
       "    }\n",
       "\n",
       "    .dataframe tbody tr th {\n",
       "        vertical-align: top;\n",
       "    }\n",
       "\n",
       "    .dataframe thead th {\n",
       "        text-align: right;\n",
       "    }\n",
       "</style>\n",
       "<table border=\"1\" class=\"dataframe\">\n",
       "  <thead>\n",
       "    <tr style=\"text-align: right;\">\n",
       "      <th></th>\n",
       "      <th>RecordID</th>\n",
       "      <th>Offense</th>\n",
       "      <th>IncidentID</th>\n",
       "      <th>BlockNumber</th>\n",
       "      <th>StreetName</th>\n",
       "      <th>Agency</th>\n",
       "      <th>DateReported</th>\n",
       "      <th>HourReported</th>\n",
       "      <th>ReportingOfficer</th>\n",
       "    </tr>\n",
       "  </thead>\n",
       "  <tbody>\n",
       "    <tr>\n",
       "      <th>0</th>\n",
       "      <td>1</td>\n",
       "      <td>Assault Simple</td>\n",
       "      <td>202500016082</td>\n",
       "      <td>300</td>\n",
       "      <td>2ND ST SE, 112</td>\n",
       "      <td>CPD</td>\n",
       "      <td>1747099219000</td>\n",
       "      <td>2120</td>\n",
       "      <td>Vlasis, Christopher</td>\n",
       "    </tr>\n",
       "    <tr>\n",
       "      <th>1</th>\n",
       "      <td>2</td>\n",
       "      <td>Suspicious Activity</td>\n",
       "      <td>202500016072</td>\n",
       "      <td>1200</td>\n",
       "      <td>WERTLAND ST</td>\n",
       "      <td>CPD</td>\n",
       "      <td>1747095374000</td>\n",
       "      <td>2016</td>\n",
       "      <td>Crowley, Raeann</td>\n",
       "    </tr>\n",
       "    <tr>\n",
       "      <th>2</th>\n",
       "      <td>3</td>\n",
       "      <td>Hit and Run</td>\n",
       "      <td>202500016052</td>\n",
       "      <td></td>\n",
       "      <td>1ST ST N / E JEFFERSON ST</td>\n",
       "      <td>CPD</td>\n",
       "      <td>1747083421000</td>\n",
       "      <td>1657</td>\n",
       "      <td>Bland, Johnnà</td>\n",
       "    </tr>\n",
       "    <tr>\n",
       "      <th>3</th>\n",
       "      <td>4</td>\n",
       "      <td>Fraud-wire fraud</td>\n",
       "      <td>202500016037</td>\n",
       "      <td>600</td>\n",
       "      <td>E MARKET ST</td>\n",
       "      <td>CPD</td>\n",
       "      <td>1747077757000</td>\n",
       "      <td>1522</td>\n",
       "      <td>Lowe, Courteny</td>\n",
       "    </tr>\n",
       "    <tr>\n",
       "      <th>4</th>\n",
       "      <td>5</td>\n",
       "      <td>Lost/FoundProperty</td>\n",
       "      <td>202500016020</td>\n",
       "      <td>1800</td>\n",
       "      <td>MONTICELLO RD</td>\n",
       "      <td>CPD</td>\n",
       "      <td>1747070559000</td>\n",
       "      <td>1322</td>\n",
       "      <td>Prevost, Payten</td>\n",
       "    </tr>\n",
       "  </tbody>\n",
       "</table>\n",
       "</div>"
      ],
      "text/plain": [
       "   RecordID              Offense    IncidentID BlockNumber  \\\n",
       "0         1       Assault Simple  202500016082         300   \n",
       "1         2  Suspicious Activity  202500016072        1200   \n",
       "2         3          Hit and Run  202500016052               \n",
       "3         4     Fraud-wire fraud  202500016037         600   \n",
       "4         5   Lost/FoundProperty  202500016020        1800   \n",
       "\n",
       "                  StreetName Agency   DateReported HourReported  \\\n",
       "0             2ND ST SE, 112    CPD  1747099219000         2120   \n",
       "1                WERTLAND ST    CPD  1747095374000         2016   \n",
       "2  1ST ST N / E JEFFERSON ST    CPD  1747083421000         1657   \n",
       "3                E MARKET ST    CPD  1747077757000         1522   \n",
       "4              MONTICELLO RD    CPD  1747070559000         1322   \n",
       "\n",
       "      ReportingOfficer  \n",
       "0  Vlasis, Christopher  \n",
       "1      Crowley, Raeann  \n",
       "2        Bland, Johnnà  \n",
       "3       Lowe, Courteny  \n",
       "4      Prevost, Payten  "
      ]
     },
     "execution_count": 3,
     "metadata": {},
     "output_type": "execute_result"
    }
   ],
   "source": [
    "df.head()"
   ]
  },
  {
   "cell_type": "code",
   "execution_count": 4,
   "id": "2d19debc",
   "metadata": {
    "execution": {
     "iopub.execute_input": "2025-05-15T01:01:05.288573Z",
     "iopub.status.busy": "2025-05-15T01:01:05.288376Z",
     "iopub.status.idle": "2025-05-15T01:01:05.292465Z",
     "shell.execute_reply": "2025-05-15T01:01:05.291961Z"
    },
    "papermill": {
     "duration": 0.011048,
     "end_time": "2025-05-15T01:01:05.293490",
     "exception": false,
     "start_time": "2025-05-15T01:01:05.282442",
     "status": "completed"
    },
    "tags": []
   },
   "outputs": [
    {
     "data": {
      "text/plain": [
       "Index(['RecordID', 'Offense', 'IncidentID', 'BlockNumber', 'StreetName',\n",
       "       'Agency', 'DateReported', 'HourReported', 'ReportingOfficer'],\n",
       "      dtype='object')"
      ]
     },
     "execution_count": 4,
     "metadata": {},
     "output_type": "execute_result"
    }
   ],
   "source": [
    "df.columns"
   ]
  },
  {
   "cell_type": "code",
   "execution_count": 5,
   "id": "813456d6",
   "metadata": {
    "execution": {
     "iopub.execute_input": "2025-05-15T01:01:05.305469Z",
     "iopub.status.busy": "2025-05-15T01:01:05.304952Z",
     "iopub.status.idle": "2025-05-15T01:01:05.329220Z",
     "shell.execute_reply": "2025-05-15T01:01:05.328561Z"
    },
    "papermill": {
     "duration": 0.031244,
     "end_time": "2025-05-15T01:01:05.330225",
     "exception": false,
     "start_time": "2025-05-15T01:01:05.298981",
     "status": "completed"
    },
    "tags": []
   },
   "outputs": [
    {
     "name": "stdout",
     "output_type": "stream",
     "text": [
      "<class 'pandas.core.frame.DataFrame'>\n",
      "RangeIndex: 25383 entries, 0 to 25382\n",
      "Data columns (total 9 columns):\n",
      " #   Column            Non-Null Count  Dtype \n",
      "---  ------            --------------  ----- \n",
      " 0   RecordID          25383 non-null  int64 \n",
      " 1   Offense           25383 non-null  object\n",
      " 2   IncidentID        25383 non-null  object\n",
      " 3   BlockNumber       25383 non-null  object\n",
      " 4   StreetName        25383 non-null  object\n",
      " 5   Agency            25383 non-null  object\n",
      " 6   DateReported      25383 non-null  int64 \n",
      " 7   HourReported      25383 non-null  object\n",
      " 8   ReportingOfficer  25366 non-null  object\n",
      "dtypes: int64(2), object(7)\n",
      "memory usage: 1.7+ MB\n"
     ]
    }
   ],
   "source": [
    "df.info()"
   ]
  },
  {
   "cell_type": "markdown",
   "id": "2e20ca15",
   "metadata": {
    "papermill": {
     "duration": 0.005489,
     "end_time": "2025-05-15T01:01:05.341275",
     "exception": false,
     "start_time": "2025-05-15T01:01:05.335786",
     "status": "completed"
    },
    "tags": []
   },
   "source": [
    "### Missing Values"
   ]
  },
  {
   "cell_type": "code",
   "execution_count": 6,
   "id": "d6049a16",
   "metadata": {
    "execution": {
     "iopub.execute_input": "2025-05-15T01:01:05.353081Z",
     "iopub.status.busy": "2025-05-15T01:01:05.352846Z",
     "iopub.status.idle": "2025-05-15T01:01:05.374048Z",
     "shell.execute_reply": "2025-05-15T01:01:05.373506Z"
    },
    "papermill": {
     "duration": 0.02833,
     "end_time": "2025-05-15T01:01:05.375077",
     "exception": false,
     "start_time": "2025-05-15T01:01:05.346747",
     "status": "completed"
    },
    "tags": []
   },
   "outputs": [
    {
     "name": "stdout",
     "output_type": "stream",
     "text": [
      "                  MissingCount  MissingPercentage\n",
      "RecordID                     0               0.00\n",
      "Offense                      0               0.00\n",
      "IncidentID                   0               0.00\n",
      "BlockNumber                  0               0.00\n",
      "StreetName                   0               0.00\n",
      "Agency                       0               0.00\n",
      "DateReported                 0               0.00\n",
      "HourReported                 0               0.00\n",
      "ReportingOfficer            17               0.07\n"
     ]
    }
   ],
   "source": [
    "def missing_percentage(df):\n",
    "    \"\"\"\n",
    "    Returns a DataFrame with the count and percentage of missing values for each column.\n",
    "    \n",
    "    Parameters:\n",
    "        df (pd.DataFrame): The input DataFrame.\n",
    "    \n",
    "    Returns:\n",
    "        pd.DataFrame: A DataFrame with columns 'MissingCount' and 'MissingPercentage'.\n",
    "    \"\"\"\n",
    "    total_rows = len(df)\n",
    "    missing_count = df.isnull().sum()\n",
    "    missing_percent = (missing_count / total_rows) * 100\n",
    "    \n",
    "    result = pd.DataFrame({\n",
    "        'MissingCount': missing_count,\n",
    "        'MissingPercentage': missing_percent.round(2)\n",
    "    })\n",
    "    \n",
    "    return result\n",
    "\n",
    "# Example usage:\n",
    "missing_info = missing_percentage(df)\n",
    "print(missing_info)\n"
   ]
  },
  {
   "cell_type": "markdown",
   "id": "ba1f2dda",
   "metadata": {
    "papermill": {
     "duration": 0.005657,
     "end_time": "2025-05-15T01:01:05.386546",
     "exception": false,
     "start_time": "2025-05-15T01:01:05.380889",
     "status": "completed"
    },
    "tags": []
   },
   "source": [
    "## Data Preparation"
   ]
  },
  {
   "cell_type": "markdown",
   "id": "f44cb856",
   "metadata": {
    "papermill": {
     "duration": 0.005698,
     "end_time": "2025-05-15T01:01:05.397900",
     "exception": false,
     "start_time": "2025-05-15T01:01:05.392202",
     "status": "completed"
    },
    "tags": []
   },
   "source": [
    "### Data Conversion"
   ]
  },
  {
   "cell_type": "code",
   "execution_count": 7,
   "id": "6403a558",
   "metadata": {
    "execution": {
     "iopub.execute_input": "2025-05-15T01:01:05.410046Z",
     "iopub.status.busy": "2025-05-15T01:01:05.409796Z",
     "iopub.status.idle": "2025-05-15T01:01:05.779340Z",
     "shell.execute_reply": "2025-05-15T01:01:05.778736Z"
    },
    "papermill": {
     "duration": 0.376909,
     "end_time": "2025-05-15T01:01:05.780408",
     "exception": false,
     "start_time": "2025-05-15T01:01:05.403499",
     "status": "completed"
    },
    "tags": []
   },
   "outputs": [
    {
     "data": {
      "text/html": [
       "<div>\n",
       "<style scoped>\n",
       "    .dataframe tbody tr th:only-of-type {\n",
       "        vertical-align: middle;\n",
       "    }\n",
       "\n",
       "    .dataframe tbody tr th {\n",
       "        vertical-align: top;\n",
       "    }\n",
       "\n",
       "    .dataframe thead th {\n",
       "        text-align: right;\n",
       "    }\n",
       "</style>\n",
       "<table border=\"1\" class=\"dataframe\">\n",
       "  <thead>\n",
       "    <tr style=\"text-align: right;\">\n",
       "      <th></th>\n",
       "      <th>RecordID</th>\n",
       "      <th>Offense</th>\n",
       "      <th>IncidentID</th>\n",
       "      <th>BlockNumber</th>\n",
       "      <th>StreetName</th>\n",
       "      <th>Agency</th>\n",
       "      <th>HourReported</th>\n",
       "      <th>ReportingOfficer</th>\n",
       "      <th>Date</th>\n",
       "      <th>DateString</th>\n",
       "      <th>DayOfWeek</th>\n",
       "      <th>Weekend</th>\n",
       "      <th>Season</th>\n",
       "      <th>HourAMPM</th>\n",
       "      <th>TimeOfDay</th>\n",
       "    </tr>\n",
       "  </thead>\n",
       "  <tbody>\n",
       "    <tr>\n",
       "      <th>0</th>\n",
       "      <td>1</td>\n",
       "      <td>Assault Simple</td>\n",
       "      <td>202500016082</td>\n",
       "      <td>300</td>\n",
       "      <td>2ND ST SE, 112</td>\n",
       "      <td>CPD</td>\n",
       "      <td>2120</td>\n",
       "      <td>Vlasis, Christopher</td>\n",
       "      <td>2025-05-12 21:20:19</td>\n",
       "      <td>2025-05-12 09:20:19 PM</td>\n",
       "      <td>Monday</td>\n",
       "      <td>False</td>\n",
       "      <td>Spring</td>\n",
       "      <td>09:20 PM</td>\n",
       "      <td>Night</td>\n",
       "    </tr>\n",
       "    <tr>\n",
       "      <th>1</th>\n",
       "      <td>2</td>\n",
       "      <td>Suspicious Activity</td>\n",
       "      <td>202500016072</td>\n",
       "      <td>1200</td>\n",
       "      <td>WERTLAND ST</td>\n",
       "      <td>CPD</td>\n",
       "      <td>2016</td>\n",
       "      <td>Crowley, Raeann</td>\n",
       "      <td>2025-05-12 20:16:14</td>\n",
       "      <td>2025-05-12 08:16:14 PM</td>\n",
       "      <td>Monday</td>\n",
       "      <td>False</td>\n",
       "      <td>Spring</td>\n",
       "      <td>08:16 PM</td>\n",
       "      <td>Evening</td>\n",
       "    </tr>\n",
       "    <tr>\n",
       "      <th>2</th>\n",
       "      <td>3</td>\n",
       "      <td>Hit and Run</td>\n",
       "      <td>202500016052</td>\n",
       "      <td></td>\n",
       "      <td>1ST ST N / E JEFFERSON ST</td>\n",
       "      <td>CPD</td>\n",
       "      <td>1657</td>\n",
       "      <td>Bland, Johnnà</td>\n",
       "      <td>2025-05-12 16:57:01</td>\n",
       "      <td>2025-05-12 04:57:01 PM</td>\n",
       "      <td>Monday</td>\n",
       "      <td>False</td>\n",
       "      <td>Spring</td>\n",
       "      <td>04:57 PM</td>\n",
       "      <td>Afternoon</td>\n",
       "    </tr>\n",
       "    <tr>\n",
       "      <th>3</th>\n",
       "      <td>4</td>\n",
       "      <td>Fraud-wire fraud</td>\n",
       "      <td>202500016037</td>\n",
       "      <td>600</td>\n",
       "      <td>E MARKET ST</td>\n",
       "      <td>CPD</td>\n",
       "      <td>1522</td>\n",
       "      <td>Lowe, Courteny</td>\n",
       "      <td>2025-05-12 15:22:37</td>\n",
       "      <td>2025-05-12 03:22:37 PM</td>\n",
       "      <td>Monday</td>\n",
       "      <td>False</td>\n",
       "      <td>Spring</td>\n",
       "      <td>03:22 PM</td>\n",
       "      <td>Afternoon</td>\n",
       "    </tr>\n",
       "    <tr>\n",
       "      <th>4</th>\n",
       "      <td>5</td>\n",
       "      <td>Lost/FoundProperty</td>\n",
       "      <td>202500016020</td>\n",
       "      <td>1800</td>\n",
       "      <td>MONTICELLO RD</td>\n",
       "      <td>CPD</td>\n",
       "      <td>1322</td>\n",
       "      <td>Prevost, Payten</td>\n",
       "      <td>2025-05-12 13:22:39</td>\n",
       "      <td>2025-05-12 01:22:39 PM</td>\n",
       "      <td>Monday</td>\n",
       "      <td>False</td>\n",
       "      <td>Spring</td>\n",
       "      <td>01:22 PM</td>\n",
       "      <td>Afternoon</td>\n",
       "    </tr>\n",
       "  </tbody>\n",
       "</table>\n",
       "</div>"
      ],
      "text/plain": [
       "   RecordID              Offense    IncidentID BlockNumber  \\\n",
       "0         1       Assault Simple  202500016082         300   \n",
       "1         2  Suspicious Activity  202500016072        1200   \n",
       "2         3          Hit and Run  202500016052               \n",
       "3         4     Fraud-wire fraud  202500016037         600   \n",
       "4         5   Lost/FoundProperty  202500016020        1800   \n",
       "\n",
       "                  StreetName Agency HourReported     ReportingOfficer  \\\n",
       "0             2ND ST SE, 112    CPD         2120  Vlasis, Christopher   \n",
       "1                WERTLAND ST    CPD         2016      Crowley, Raeann   \n",
       "2  1ST ST N / E JEFFERSON ST    CPD         1657        Bland, Johnnà   \n",
       "3                E MARKET ST    CPD         1522       Lowe, Courteny   \n",
       "4              MONTICELLO RD    CPD         1322      Prevost, Payten   \n",
       "\n",
       "                 Date              DateString DayOfWeek  Weekend  Season  \\\n",
       "0 2025-05-12 21:20:19  2025-05-12 09:20:19 PM    Monday    False  Spring   \n",
       "1 2025-05-12 20:16:14  2025-05-12 08:16:14 PM    Monday    False  Spring   \n",
       "2 2025-05-12 16:57:01  2025-05-12 04:57:01 PM    Monday    False  Spring   \n",
       "3 2025-05-12 15:22:37  2025-05-12 03:22:37 PM    Monday    False  Spring   \n",
       "4 2025-05-12 13:22:39  2025-05-12 01:22:39 PM    Monday    False  Spring   \n",
       "\n",
       "   HourAMPM  TimeOfDay  \n",
       "0  09:20 PM      Night  \n",
       "1  08:16 PM    Evening  \n",
       "2  04:57 PM  Afternoon  \n",
       "3  03:22 PM  Afternoon  \n",
       "4  01:22 PM  Afternoon  "
      ]
     },
     "execution_count": 7,
     "metadata": {},
     "output_type": "execute_result"
    }
   ],
   "source": [
    "def convert_and_categorize_datereported(df, col='DateReported'):\n",
    "    \"\"\"\n",
    "    Converts an epoch (in milliseconds) date column into a timezone-aware datetime,\n",
    "    converts it to Eastern Time, and then creates columns for day-of-week, weekend flag,\n",
    "    season, 12-hour formatted time, and time-of-day. Keeps both a real datetime column\n",
    "    (Date) and a string representation (DateString).\n",
    "    \"\"\"\n",
    "    import pandas as pd\n",
    "\n",
    "    # Convert the epoch timestamp to a pandas datetime object as UTC, then convert to US/Eastern.\n",
    "    df[\"DateReported_dt\"] = (\n",
    "        pd.to_datetime(df[col], unit=\"ms\", errors=\"coerce\", utc=True)\n",
    "        .dt.tz_convert(\"US/Eastern\")\n",
    "    )\n",
    "    \n",
    "    # Create a true datetime column (remove timezone if you prefer naive datetime)\n",
    "    df[\"Date\"] = df[\"DateReported_dt\"].dt.tz_localize(None)\n",
    "\n",
    "    # Optionally, create a separate string-formatted column\n",
    "    df[\"DateString\"] = df[\"DateReported_dt\"].dt.strftime(\"%Y-%m-%d %I:%M:%S %p\")\n",
    "    \n",
    "    # DayOfWeek\n",
    "    df[\"DayOfWeek\"] = df[\"DateReported_dt\"].dt.day_name()\n",
    "    \n",
    "    # Weekend\n",
    "    df[\"Weekend\"] = df[\"DayOfWeek\"].isin([\"Saturday\", \"Sunday\"])\n",
    "    \n",
    "    # Helper function to determine the season\n",
    "    def get_season(dt):\n",
    "        month = dt.month\n",
    "        day = dt.day\n",
    "        # Approximate Northern Hemisphere season boundaries:\n",
    "        if (month == 12 and day >= 21) or (month < 3) or (month == 3 and day < 20):\n",
    "            return \"Winter\"\n",
    "        elif (month == 3 and day >= 20) or (month < 6) or (month == 6 and day < 21):\n",
    "            return \"Spring\"\n",
    "        elif (month == 6 and day >= 21) or (month < 9) or (month == 9 and day < 22):\n",
    "            return \"Summer\"\n",
    "        else:\n",
    "            return \"Autumn\"\n",
    "    \n",
    "    df[\"Season\"] = df[\"DateReported_dt\"].apply(get_season)\n",
    "    \n",
    "    # 12-hour formatted time (HourAMPM)\n",
    "    df[\"HourAMPM\"] = df[\"DateReported_dt\"].dt.strftime(\"%I:%M %p\")\n",
    "    \n",
    "    # Extract hour (0-23) for time-of-day\n",
    "    df[\"HourValue\"] = df[\"DateReported_dt\"].dt.hour\n",
    "    \n",
    "    def time_of_day(hour):\n",
    "        if pd.isnull(hour):\n",
    "            return None\n",
    "        if 5 <= hour < 12:\n",
    "            return \"Morning\"\n",
    "        elif 12 <= hour < 17:\n",
    "            return \"Afternoon\"\n",
    "        elif 17 <= hour < 21:\n",
    "            return \"Evening\"\n",
    "        else:\n",
    "            return \"Night\"\n",
    "    \n",
    "    df[\"TimeOfDay\"] = df[\"HourValue\"].apply(time_of_day)\n",
    "    \n",
    "    # Drop columns you no longer need\n",
    "    df.drop(columns=[col, \"DateReported_dt\", \"HourValue\"], inplace=True)\n",
    "    \n",
    "    return df\n",
    "\n",
    "# Example usage:\n",
    "df = convert_and_categorize_datereported(df)\n",
    "df.head()\n"
   ]
  },
  {
   "cell_type": "code",
   "execution_count": 8,
   "id": "80bd8ebf",
   "metadata": {
    "execution": {
     "iopub.execute_input": "2025-05-15T01:01:05.793463Z",
     "iopub.status.busy": "2025-05-15T01:01:05.793208Z",
     "iopub.status.idle": "2025-05-15T01:01:05.819250Z",
     "shell.execute_reply": "2025-05-15T01:01:05.818684Z"
    },
    "papermill": {
     "duration": 0.033673,
     "end_time": "2025-05-15T01:01:05.820251",
     "exception": false,
     "start_time": "2025-05-15T01:01:05.786578",
     "status": "completed"
    },
    "tags": []
   },
   "outputs": [
    {
     "name": "stdout",
     "output_type": "stream",
     "text": [
      "<class 'pandas.core.frame.DataFrame'>\n",
      "RangeIndex: 25383 entries, 0 to 25382\n",
      "Data columns (total 15 columns):\n",
      " #   Column            Non-Null Count  Dtype         \n",
      "---  ------            --------------  -----         \n",
      " 0   RecordID          25383 non-null  int64         \n",
      " 1   Offense           25383 non-null  object        \n",
      " 2   IncidentID        25383 non-null  object        \n",
      " 3   BlockNumber       25383 non-null  object        \n",
      " 4   StreetName        25383 non-null  object        \n",
      " 5   Agency            25383 non-null  object        \n",
      " 6   HourReported      25383 non-null  object        \n",
      " 7   ReportingOfficer  25366 non-null  object        \n",
      " 8   Date              25383 non-null  datetime64[ns]\n",
      " 9   DateString        25383 non-null  object        \n",
      " 10  DayOfWeek         25383 non-null  object        \n",
      " 11  Weekend           25383 non-null  bool          \n",
      " 12  Season            25383 non-null  object        \n",
      " 13  HourAMPM          25383 non-null  object        \n",
      " 14  TimeOfDay         25383 non-null  object        \n",
      "dtypes: bool(1), datetime64[ns](1), int64(1), object(12)\n",
      "memory usage: 2.7+ MB\n"
     ]
    }
   ],
   "source": [
    "df.info()"
   ]
  },
  {
   "cell_type": "markdown",
   "id": "6b035d83",
   "metadata": {
    "papermill": {
     "duration": 0.005979,
     "end_time": "2025-05-15T01:01:05.832211",
     "exception": false,
     "start_time": "2025-05-15T01:01:05.826232",
     "status": "completed"
    },
    "tags": []
   },
   "source": [
    "### Coordinates"
   ]
  },
  {
   "cell_type": "code",
   "execution_count": 9,
   "id": "64b8561b",
   "metadata": {
    "execution": {
     "iopub.execute_input": "2025-05-15T01:01:05.845265Z",
     "iopub.status.busy": "2025-05-15T01:01:05.844779Z",
     "iopub.status.idle": "2025-05-15T01:01:06.071858Z",
     "shell.execute_reply": "2025-05-15T01:01:06.071188Z"
    },
    "papermill": {
     "duration": 0.234871,
     "end_time": "2025-05-15T01:01:06.073004",
     "exception": false,
     "start_time": "2025-05-15T01:01:05.838133",
     "status": "completed"
    },
    "tags": []
   },
   "outputs": [
    {
     "name": "stdout",
     "output_type": "stream",
     "text": [
      "Loaded geocode cache.\n"
     ]
    },
    {
     "name": "stdout",
     "output_type": "stream",
     "text": [
      "Geocoded  1ST ST N / E JEFFERSON ST: 38.0332488, -78.4804034\n",
      "Geocode cache updated and saved.\n"
     ]
    },
    {
     "data": {
      "text/html": [
       "<div>\n",
       "<style scoped>\n",
       "    .dataframe tbody tr th:only-of-type {\n",
       "        vertical-align: middle;\n",
       "    }\n",
       "\n",
       "    .dataframe tbody tr th {\n",
       "        vertical-align: top;\n",
       "    }\n",
       "\n",
       "    .dataframe thead th {\n",
       "        text-align: right;\n",
       "    }\n",
       "</style>\n",
       "<table border=\"1\" class=\"dataframe\">\n",
       "  <thead>\n",
       "    <tr style=\"text-align: right;\">\n",
       "      <th></th>\n",
       "      <th>RecordID</th>\n",
       "      <th>Offense</th>\n",
       "      <th>IncidentID</th>\n",
       "      <th>BlockNumber</th>\n",
       "      <th>StreetName</th>\n",
       "      <th>Agency</th>\n",
       "      <th>HourReported</th>\n",
       "      <th>ReportingOfficer</th>\n",
       "      <th>Date</th>\n",
       "      <th>DateString</th>\n",
       "      <th>DayOfWeek</th>\n",
       "      <th>Weekend</th>\n",
       "      <th>Season</th>\n",
       "      <th>HourAMPM</th>\n",
       "      <th>TimeOfDay</th>\n",
       "      <th>FullStreet</th>\n",
       "      <th>lat</th>\n",
       "      <th>lon</th>\n",
       "    </tr>\n",
       "  </thead>\n",
       "  <tbody>\n",
       "    <tr>\n",
       "      <th>0</th>\n",
       "      <td>1</td>\n",
       "      <td>Assault Simple</td>\n",
       "      <td>202500016082</td>\n",
       "      <td>300</td>\n",
       "      <td>2ND ST SE, 112</td>\n",
       "      <td>CPD</td>\n",
       "      <td>2120</td>\n",
       "      <td>Vlasis, Christopher</td>\n",
       "      <td>2025-05-12 21:20:19</td>\n",
       "      <td>2025-05-12 09:20:19 PM</td>\n",
       "      <td>Monday</td>\n",
       "      <td>False</td>\n",
       "      <td>Spring</td>\n",
       "      <td>09:20 PM</td>\n",
       "      <td>Night</td>\n",
       "      <td>300 2ND ST SE, 112</td>\n",
       "      <td>38.029125</td>\n",
       "      <td>-78.481443</td>\n",
       "    </tr>\n",
       "    <tr>\n",
       "      <th>1</th>\n",
       "      <td>2</td>\n",
       "      <td>Suspicious Activity</td>\n",
       "      <td>202500016072</td>\n",
       "      <td>1200</td>\n",
       "      <td>WERTLAND ST</td>\n",
       "      <td>CPD</td>\n",
       "      <td>2016</td>\n",
       "      <td>Crowley, Raeann</td>\n",
       "      <td>2025-05-12 20:16:14</td>\n",
       "      <td>2025-05-12 08:16:14 PM</td>\n",
       "      <td>Monday</td>\n",
       "      <td>False</td>\n",
       "      <td>Spring</td>\n",
       "      <td>08:16 PM</td>\n",
       "      <td>Evening</td>\n",
       "      <td>1200 WERTLAND ST</td>\n",
       "      <td>38.034160</td>\n",
       "      <td>-78.496515</td>\n",
       "    </tr>\n",
       "    <tr>\n",
       "      <th>2</th>\n",
       "      <td>3</td>\n",
       "      <td>Hit and Run</td>\n",
       "      <td>202500016052</td>\n",
       "      <td></td>\n",
       "      <td>1ST ST N / E JEFFERSON ST</td>\n",
       "      <td>CPD</td>\n",
       "      <td>1657</td>\n",
       "      <td>Bland, Johnnà</td>\n",
       "      <td>2025-05-12 16:57:01</td>\n",
       "      <td>2025-05-12 04:57:01 PM</td>\n",
       "      <td>Monday</td>\n",
       "      <td>False</td>\n",
       "      <td>Spring</td>\n",
       "      <td>04:57 PM</td>\n",
       "      <td>Afternoon</td>\n",
       "      <td>1ST ST N / E JEFFERSON ST</td>\n",
       "      <td>38.033249</td>\n",
       "      <td>-78.480403</td>\n",
       "    </tr>\n",
       "    <tr>\n",
       "      <th>3</th>\n",
       "      <td>4</td>\n",
       "      <td>Fraud-wire fraud</td>\n",
       "      <td>202500016037</td>\n",
       "      <td>600</td>\n",
       "      <td>E MARKET ST</td>\n",
       "      <td>CPD</td>\n",
       "      <td>1522</td>\n",
       "      <td>Lowe, Courteny</td>\n",
       "      <td>2025-05-12 15:22:37</td>\n",
       "      <td>2025-05-12 03:22:37 PM</td>\n",
       "      <td>Monday</td>\n",
       "      <td>False</td>\n",
       "      <td>Spring</td>\n",
       "      <td>03:22 PM</td>\n",
       "      <td>Afternoon</td>\n",
       "      <td>600 E MARKET ST</td>\n",
       "      <td>38.030175</td>\n",
       "      <td>-78.477574</td>\n",
       "    </tr>\n",
       "    <tr>\n",
       "      <th>4</th>\n",
       "      <td>5</td>\n",
       "      <td>Lost/FoundProperty</td>\n",
       "      <td>202500016020</td>\n",
       "      <td>1800</td>\n",
       "      <td>MONTICELLO RD</td>\n",
       "      <td>CPD</td>\n",
       "      <td>1322</td>\n",
       "      <td>Prevost, Payten</td>\n",
       "      <td>2025-05-12 13:22:39</td>\n",
       "      <td>2025-05-12 01:22:39 PM</td>\n",
       "      <td>Monday</td>\n",
       "      <td>False</td>\n",
       "      <td>Spring</td>\n",
       "      <td>01:22 PM</td>\n",
       "      <td>Afternoon</td>\n",
       "      <td>1800 MONTICELLO RD</td>\n",
       "      <td>38.015464</td>\n",
       "      <td>-78.473032</td>\n",
       "    </tr>\n",
       "  </tbody>\n",
       "</table>\n",
       "</div>"
      ],
      "text/plain": [
       "   RecordID              Offense    IncidentID BlockNumber  \\\n",
       "0         1       Assault Simple  202500016082         300   \n",
       "1         2  Suspicious Activity  202500016072        1200   \n",
       "2         3          Hit and Run  202500016052               \n",
       "3         4     Fraud-wire fraud  202500016037         600   \n",
       "4         5   Lost/FoundProperty  202500016020        1800   \n",
       "\n",
       "                  StreetName Agency HourReported     ReportingOfficer  \\\n",
       "0             2ND ST SE, 112    CPD         2120  Vlasis, Christopher   \n",
       "1                WERTLAND ST    CPD         2016      Crowley, Raeann   \n",
       "2  1ST ST N / E JEFFERSON ST    CPD         1657        Bland, Johnnà   \n",
       "3                E MARKET ST    CPD         1522       Lowe, Courteny   \n",
       "4              MONTICELLO RD    CPD         1322      Prevost, Payten   \n",
       "\n",
       "                 Date              DateString DayOfWeek  Weekend  Season  \\\n",
       "0 2025-05-12 21:20:19  2025-05-12 09:20:19 PM    Monday    False  Spring   \n",
       "1 2025-05-12 20:16:14  2025-05-12 08:16:14 PM    Monday    False  Spring   \n",
       "2 2025-05-12 16:57:01  2025-05-12 04:57:01 PM    Monday    False  Spring   \n",
       "3 2025-05-12 15:22:37  2025-05-12 03:22:37 PM    Monday    False  Spring   \n",
       "4 2025-05-12 13:22:39  2025-05-12 01:22:39 PM    Monday    False  Spring   \n",
       "\n",
       "   HourAMPM  TimeOfDay                  FullStreet        lat        lon  \n",
       "0  09:20 PM      Night          300 2ND ST SE, 112  38.029125 -78.481443  \n",
       "1  08:16 PM    Evening            1200 WERTLAND ST  38.034160 -78.496515  \n",
       "2  04:57 PM  Afternoon   1ST ST N / E JEFFERSON ST  38.033249 -78.480403  \n",
       "3  03:22 PM  Afternoon             600 E MARKET ST  38.030175 -78.477574  \n",
       "4  01:22 PM  Afternoon          1800 MONTICELLO RD  38.015464 -78.473032  "
      ]
     },
     "execution_count": 9,
     "metadata": {},
     "output_type": "execute_result"
    }
   ],
   "source": [
    "# Combine BlockNumber and StreetName into a full address string\n",
    "df['FullStreet'] = df['BlockNumber'].astype(str) + \" \" + df['StreetName']\n",
    "\n",
    "# --- Step 1: Setup the Google Maps Client and Cache ---\n",
    "gmaps = googlemaps.Client(key=GOOGLE_API_KEY)\n",
    "\n",
    "# Try to load cached geocoding results if available.\n",
    "try:\n",
    "    with open(\"geocode_cache_google.pkl\", \"rb\") as f:\n",
    "        street_coords = pickle.load(f)\n",
    "    print(\"Loaded geocode cache.\")\n",
    "except FileNotFoundError:\n",
    "    street_coords = {}\n",
    "    print(\"No cache found; starting fresh.\")\n",
    "\n",
    "def geocode_address(address):\n",
    "    try:\n",
    "        # Append city and state to help geocoding\n",
    "        result = gmaps.geocode(f\"{address}, Charlottesville, VA\")\n",
    "        if result:\n",
    "            lat = result[0]['geometry']['location']['lat']\n",
    "            lon = result[0]['geometry']['location']['lng']\n",
    "            return lat, lon\n",
    "    except Exception as e:\n",
    "        print(f\"Error geocoding {address}: {e}\")\n",
    "    return None, None\n",
    "\n",
    "# --- Step 2: Geocode Only New Addresses ---\n",
    "unique_addresses = df['FullStreet'].unique()\n",
    "for address in unique_addresses:\n",
    "    if address not in street_coords:\n",
    "        lat, lon = geocode_address(address)\n",
    "        street_coords[address] = (lat, lon)\n",
    "        print(f\"Geocoded {address}: {lat}, {lon}\")\n",
    "\n",
    "# Save the updated cache to disk.\n",
    "with open(\"geocode_cache_google.pkl\", \"wb\") as f:\n",
    "    pickle.dump(street_coords, f)\n",
    "    print(\"Geocode cache updated and saved.\")\n",
    "\n",
    "# --- Step 3: Map Coordinates Back to DataFrame ---\n",
    "df['lat'] = df['FullStreet'].map(lambda s: street_coords.get(s, (None, None))[0])\n",
    "df['lon'] = df['FullStreet'].map(lambda s: street_coords.get(s, (None, None))[1])\n",
    "\n",
    "df.head()"
   ]
  },
  {
   "cell_type": "markdown",
   "id": "bf889b84",
   "metadata": {
    "papermill": {
     "duration": 0.006349,
     "end_time": "2025-05-15T01:01:06.086053",
     "exception": false,
     "start_time": "2025-05-15T01:01:06.079704",
     "status": "completed"
    },
    "tags": []
   },
   "source": [
    "### Neighborhood"
   ]
  },
  {
   "cell_type": "code",
   "execution_count": 10,
   "id": "47677c27",
   "metadata": {
    "execution": {
     "iopub.execute_input": "2025-05-15T01:01:06.099770Z",
     "iopub.status.busy": "2025-05-15T01:01:06.099386Z",
     "iopub.status.idle": "2025-05-15T01:01:06.360522Z",
     "shell.execute_reply": "2025-05-15T01:01:06.359883Z"
    },
    "papermill": {
     "duration": 0.269182,
     "end_time": "2025-05-15T01:01:06.361565",
     "exception": false,
     "start_time": "2025-05-15T01:01:06.092383",
     "status": "completed"
    },
    "tags": []
   },
   "outputs": [
    {
     "name": "stdout",
     "output_type": "stream",
     "text": [
      "Loaded neighborhood cache.\n"
     ]
    },
    {
     "data": {
      "text/html": [
       "<div>\n",
       "<style scoped>\n",
       "    .dataframe tbody tr th:only-of-type {\n",
       "        vertical-align: middle;\n",
       "    }\n",
       "\n",
       "    .dataframe tbody tr th {\n",
       "        vertical-align: top;\n",
       "    }\n",
       "\n",
       "    .dataframe thead th {\n",
       "        text-align: right;\n",
       "    }\n",
       "</style>\n",
       "<table border=\"1\" class=\"dataframe\">\n",
       "  <thead>\n",
       "    <tr style=\"text-align: right;\">\n",
       "      <th></th>\n",
       "      <th>RecordID</th>\n",
       "      <th>Offense</th>\n",
       "      <th>IncidentID</th>\n",
       "      <th>BlockNumber</th>\n",
       "      <th>StreetName</th>\n",
       "      <th>Agency</th>\n",
       "      <th>HourReported</th>\n",
       "      <th>ReportingOfficer</th>\n",
       "      <th>Date</th>\n",
       "      <th>DateString</th>\n",
       "      <th>DayOfWeek</th>\n",
       "      <th>Weekend</th>\n",
       "      <th>Season</th>\n",
       "      <th>HourAMPM</th>\n",
       "      <th>TimeOfDay</th>\n",
       "      <th>FullStreet</th>\n",
       "      <th>lat</th>\n",
       "      <th>lon</th>\n",
       "      <th>neighborhood</th>\n",
       "    </tr>\n",
       "  </thead>\n",
       "  <tbody>\n",
       "    <tr>\n",
       "      <th>0</th>\n",
       "      <td>1</td>\n",
       "      <td>Assault Simple</td>\n",
       "      <td>202500016082</td>\n",
       "      <td>300</td>\n",
       "      <td>2ND ST SE, 112</td>\n",
       "      <td>CPD</td>\n",
       "      <td>2120</td>\n",
       "      <td>Vlasis, Christopher</td>\n",
       "      <td>2025-05-12 21:20:19</td>\n",
       "      <td>2025-05-12 09:20:19 PM</td>\n",
       "      <td>Monday</td>\n",
       "      <td>False</td>\n",
       "      <td>Spring</td>\n",
       "      <td>09:20 PM</td>\n",
       "      <td>Night</td>\n",
       "      <td>300 2ND ST SE, 112</td>\n",
       "      <td>38.029125</td>\n",
       "      <td>-78.481443</td>\n",
       "      <td>North Downtown</td>\n",
       "    </tr>\n",
       "    <tr>\n",
       "      <th>1</th>\n",
       "      <td>2</td>\n",
       "      <td>Suspicious Activity</td>\n",
       "      <td>202500016072</td>\n",
       "      <td>1200</td>\n",
       "      <td>WERTLAND ST</td>\n",
       "      <td>CPD</td>\n",
       "      <td>2016</td>\n",
       "      <td>Crowley, Raeann</td>\n",
       "      <td>2025-05-12 20:16:14</td>\n",
       "      <td>2025-05-12 08:16:14 PM</td>\n",
       "      <td>Monday</td>\n",
       "      <td>False</td>\n",
       "      <td>Spring</td>\n",
       "      <td>08:16 PM</td>\n",
       "      <td>Evening</td>\n",
       "      <td>1200 WERTLAND ST</td>\n",
       "      <td>38.034160</td>\n",
       "      <td>-78.496515</td>\n",
       "      <td>Venable</td>\n",
       "    </tr>\n",
       "    <tr>\n",
       "      <th>2</th>\n",
       "      <td>3</td>\n",
       "      <td>Hit and Run</td>\n",
       "      <td>202500016052</td>\n",
       "      <td></td>\n",
       "      <td>1ST ST N / E JEFFERSON ST</td>\n",
       "      <td>CPD</td>\n",
       "      <td>1657</td>\n",
       "      <td>Bland, Johnnà</td>\n",
       "      <td>2025-05-12 16:57:01</td>\n",
       "      <td>2025-05-12 04:57:01 PM</td>\n",
       "      <td>Monday</td>\n",
       "      <td>False</td>\n",
       "      <td>Spring</td>\n",
       "      <td>04:57 PM</td>\n",
       "      <td>Afternoon</td>\n",
       "      <td>1ST ST N / E JEFFERSON ST</td>\n",
       "      <td>38.033249</td>\n",
       "      <td>-78.480403</td>\n",
       "      <td>North Downtown</td>\n",
       "    </tr>\n",
       "    <tr>\n",
       "      <th>3</th>\n",
       "      <td>4</td>\n",
       "      <td>Fraud-wire fraud</td>\n",
       "      <td>202500016037</td>\n",
       "      <td>600</td>\n",
       "      <td>E MARKET ST</td>\n",
       "      <td>CPD</td>\n",
       "      <td>1522</td>\n",
       "      <td>Lowe, Courteny</td>\n",
       "      <td>2025-05-12 15:22:37</td>\n",
       "      <td>2025-05-12 03:22:37 PM</td>\n",
       "      <td>Monday</td>\n",
       "      <td>False</td>\n",
       "      <td>Spring</td>\n",
       "      <td>03:22 PM</td>\n",
       "      <td>Afternoon</td>\n",
       "      <td>600 E MARKET ST</td>\n",
       "      <td>38.030175</td>\n",
       "      <td>-78.477574</td>\n",
       "      <td>Downtown Mall</td>\n",
       "    </tr>\n",
       "    <tr>\n",
       "      <th>4</th>\n",
       "      <td>5</td>\n",
       "      <td>Lost/FoundProperty</td>\n",
       "      <td>202500016020</td>\n",
       "      <td>1800</td>\n",
       "      <td>MONTICELLO RD</td>\n",
       "      <td>CPD</td>\n",
       "      <td>1322</td>\n",
       "      <td>Prevost, Payten</td>\n",
       "      <td>2025-05-12 13:22:39</td>\n",
       "      <td>2025-05-12 01:22:39 PM</td>\n",
       "      <td>Monday</td>\n",
       "      <td>False</td>\n",
       "      <td>Spring</td>\n",
       "      <td>01:22 PM</td>\n",
       "      <td>Afternoon</td>\n",
       "      <td>1800 MONTICELLO RD</td>\n",
       "      <td>38.015464</td>\n",
       "      <td>-78.473032</td>\n",
       "      <td>Belmont</td>\n",
       "    </tr>\n",
       "  </tbody>\n",
       "</table>\n",
       "</div>"
      ],
      "text/plain": [
       "   RecordID              Offense    IncidentID BlockNumber  \\\n",
       "0         1       Assault Simple  202500016082         300   \n",
       "1         2  Suspicious Activity  202500016072        1200   \n",
       "2         3          Hit and Run  202500016052               \n",
       "3         4     Fraud-wire fraud  202500016037         600   \n",
       "4         5   Lost/FoundProperty  202500016020        1800   \n",
       "\n",
       "                  StreetName Agency HourReported     ReportingOfficer  \\\n",
       "0             2ND ST SE, 112    CPD         2120  Vlasis, Christopher   \n",
       "1                WERTLAND ST    CPD         2016      Crowley, Raeann   \n",
       "2  1ST ST N / E JEFFERSON ST    CPD         1657        Bland, Johnnà   \n",
       "3                E MARKET ST    CPD         1522       Lowe, Courteny   \n",
       "4              MONTICELLO RD    CPD         1322      Prevost, Payten   \n",
       "\n",
       "                 Date              DateString DayOfWeek  Weekend  Season  \\\n",
       "0 2025-05-12 21:20:19  2025-05-12 09:20:19 PM    Monday    False  Spring   \n",
       "1 2025-05-12 20:16:14  2025-05-12 08:16:14 PM    Monday    False  Spring   \n",
       "2 2025-05-12 16:57:01  2025-05-12 04:57:01 PM    Monday    False  Spring   \n",
       "3 2025-05-12 15:22:37  2025-05-12 03:22:37 PM    Monday    False  Spring   \n",
       "4 2025-05-12 13:22:39  2025-05-12 01:22:39 PM    Monday    False  Spring   \n",
       "\n",
       "   HourAMPM  TimeOfDay                  FullStreet        lat        lon  \\\n",
       "0  09:20 PM      Night          300 2ND ST SE, 112  38.029125 -78.481443   \n",
       "1  08:16 PM    Evening            1200 WERTLAND ST  38.034160 -78.496515   \n",
       "2  04:57 PM  Afternoon   1ST ST N / E JEFFERSON ST  38.033249 -78.480403   \n",
       "3  03:22 PM  Afternoon             600 E MARKET ST  38.030175 -78.477574   \n",
       "4  01:22 PM  Afternoon          1800 MONTICELLO RD  38.015464 -78.473032   \n",
       "\n",
       "     neighborhood  \n",
       "0  North Downtown  \n",
       "1         Venable  \n",
       "2  North Downtown  \n",
       "3   Downtown Mall  \n",
       "4         Belmont  "
      ]
     },
     "execution_count": 10,
     "metadata": {},
     "output_type": "execute_result"
    }
   ],
   "source": [
    "# Initialize the Google Maps client.\n",
    "gmaps = googlemaps.Client(key=GOOGLE_API_KEY)\n",
    "\n",
    "# Try to load a persistent neighborhood cache if available.\n",
    "try:\n",
    "    with open(\"neighborhood_cache.pkl\", \"rb\") as f:\n",
    "        neighborhood_cache = pickle.load(f)\n",
    "    print(\"Loaded neighborhood cache.\")\n",
    "except FileNotFoundError:\n",
    "    neighborhood_cache = {}\n",
    "    print(\"No neighborhood cache found; starting fresh.\")\n",
    "\n",
    "def get_neighborhood(lat, lon):\n",
    "    \"\"\"\n",
    "    Reverse geocodes a latitude and longitude to retrieve the neighborhood.\n",
    "    Caches results to speed up subsequent lookups.\n",
    "    \"\"\"\n",
    "    key = (lat, lon)\n",
    "    if key in neighborhood_cache:\n",
    "        return neighborhood_cache[key]\n",
    "    \n",
    "    try:\n",
    "        result = gmaps.reverse_geocode((lat, lon))\n",
    "        if result:\n",
    "            # Look for the 'neighborhood' component in the first result.\n",
    "            for component in result[0]['address_components']:\n",
    "                if 'neighborhood' in component['types']:\n",
    "                    neighborhood = component['long_name']\n",
    "                    neighborhood_cache[key] = neighborhood\n",
    "                    return neighborhood\n",
    "            # If no neighborhood is found, return \"N/A\"\n",
    "            neighborhood_cache[key] = \"N/A\"\n",
    "            return \"N/A\"\n",
    "    except Exception as e:\n",
    "        print(f\"Error getting neighborhood for {lat}, {lon}: {e}\")\n",
    "        return \"N/A\"\n",
    "    \n",
    "    # Pause to respect usage limits.\n",
    "    time.sleep(1)\n",
    "\n",
    "# Example usage: Apply to your DataFrame 'df' that already has 'lat' and 'lon' columns.\n",
    "df['neighborhood'] = df.apply(lambda row: get_neighborhood(row['lat'], row['lon']), axis=1)\n",
    "\n",
    "# Save the updated neighborhood cache.\n",
    "with open(\"neighborhood_cache.pkl\", \"wb\") as f:\n",
    "    pickle.dump(neighborhood_cache, f)\n",
    "\n",
    "df.head()\n"
   ]
  },
  {
   "cell_type": "markdown",
   "id": "23fd7171",
   "metadata": {
    "papermill": {
     "duration": 0.006567,
     "end_time": "2025-05-15T01:01:06.375013",
     "exception": false,
     "start_time": "2025-05-15T01:01:06.368446",
     "status": "completed"
    },
    "tags": []
   },
   "source": [
    "### Zip"
   ]
  },
  {
   "cell_type": "code",
   "execution_count": 11,
   "id": "a1ab65f8",
   "metadata": {
    "execution": {
     "iopub.execute_input": "2025-05-15T01:01:06.389312Z",
     "iopub.status.busy": "2025-05-15T01:01:06.388905Z",
     "iopub.status.idle": "2025-05-15T01:01:06.637099Z",
     "shell.execute_reply": "2025-05-15T01:01:06.636406Z"
    },
    "papermill": {
     "duration": 0.256669,
     "end_time": "2025-05-15T01:01:06.638246",
     "exception": false,
     "start_time": "2025-05-15T01:01:06.381577",
     "status": "completed"
    },
    "tags": []
   },
   "outputs": [
    {
     "name": "stdout",
     "output_type": "stream",
     "text": [
      "Loaded zip cache.\n"
     ]
    },
    {
     "data": {
      "text/html": [
       "<div>\n",
       "<style scoped>\n",
       "    .dataframe tbody tr th:only-of-type {\n",
       "        vertical-align: middle;\n",
       "    }\n",
       "\n",
       "    .dataframe tbody tr th {\n",
       "        vertical-align: top;\n",
       "    }\n",
       "\n",
       "    .dataframe thead th {\n",
       "        text-align: right;\n",
       "    }\n",
       "</style>\n",
       "<table border=\"1\" class=\"dataframe\">\n",
       "  <thead>\n",
       "    <tr style=\"text-align: right;\">\n",
       "      <th></th>\n",
       "      <th>RecordID</th>\n",
       "      <th>Offense</th>\n",
       "      <th>IncidentID</th>\n",
       "      <th>BlockNumber</th>\n",
       "      <th>StreetName</th>\n",
       "      <th>Agency</th>\n",
       "      <th>HourReported</th>\n",
       "      <th>ReportingOfficer</th>\n",
       "      <th>Date</th>\n",
       "      <th>DateString</th>\n",
       "      <th>DayOfWeek</th>\n",
       "      <th>Weekend</th>\n",
       "      <th>Season</th>\n",
       "      <th>HourAMPM</th>\n",
       "      <th>TimeOfDay</th>\n",
       "      <th>FullStreet</th>\n",
       "      <th>lat</th>\n",
       "      <th>lon</th>\n",
       "      <th>neighborhood</th>\n",
       "      <th>zip</th>\n",
       "    </tr>\n",
       "  </thead>\n",
       "  <tbody>\n",
       "    <tr>\n",
       "      <th>0</th>\n",
       "      <td>1</td>\n",
       "      <td>Assault Simple</td>\n",
       "      <td>202500016082</td>\n",
       "      <td>300</td>\n",
       "      <td>2ND ST SE, 112</td>\n",
       "      <td>CPD</td>\n",
       "      <td>2120</td>\n",
       "      <td>Vlasis, Christopher</td>\n",
       "      <td>2025-05-12 21:20:19</td>\n",
       "      <td>2025-05-12 09:20:19 PM</td>\n",
       "      <td>Monday</td>\n",
       "      <td>False</td>\n",
       "      <td>Spring</td>\n",
       "      <td>09:20 PM</td>\n",
       "      <td>Night</td>\n",
       "      <td>300 2ND ST SE, 112</td>\n",
       "      <td>38.029125</td>\n",
       "      <td>-78.481443</td>\n",
       "      <td>North Downtown</td>\n",
       "      <td>22903</td>\n",
       "    </tr>\n",
       "    <tr>\n",
       "      <th>1</th>\n",
       "      <td>2</td>\n",
       "      <td>Suspicious Activity</td>\n",
       "      <td>202500016072</td>\n",
       "      <td>1200</td>\n",
       "      <td>WERTLAND ST</td>\n",
       "      <td>CPD</td>\n",
       "      <td>2016</td>\n",
       "      <td>Crowley, Raeann</td>\n",
       "      <td>2025-05-12 20:16:14</td>\n",
       "      <td>2025-05-12 08:16:14 PM</td>\n",
       "      <td>Monday</td>\n",
       "      <td>False</td>\n",
       "      <td>Spring</td>\n",
       "      <td>08:16 PM</td>\n",
       "      <td>Evening</td>\n",
       "      <td>1200 WERTLAND ST</td>\n",
       "      <td>38.034160</td>\n",
       "      <td>-78.496515</td>\n",
       "      <td>Venable</td>\n",
       "      <td>22903</td>\n",
       "    </tr>\n",
       "    <tr>\n",
       "      <th>2</th>\n",
       "      <td>3</td>\n",
       "      <td>Hit and Run</td>\n",
       "      <td>202500016052</td>\n",
       "      <td></td>\n",
       "      <td>1ST ST N / E JEFFERSON ST</td>\n",
       "      <td>CPD</td>\n",
       "      <td>1657</td>\n",
       "      <td>Bland, Johnnà</td>\n",
       "      <td>2025-05-12 16:57:01</td>\n",
       "      <td>2025-05-12 04:57:01 PM</td>\n",
       "      <td>Monday</td>\n",
       "      <td>False</td>\n",
       "      <td>Spring</td>\n",
       "      <td>04:57 PM</td>\n",
       "      <td>Afternoon</td>\n",
       "      <td>1ST ST N / E JEFFERSON ST</td>\n",
       "      <td>38.033249</td>\n",
       "      <td>-78.480403</td>\n",
       "      <td>North Downtown</td>\n",
       "      <td>22902</td>\n",
       "    </tr>\n",
       "    <tr>\n",
       "      <th>3</th>\n",
       "      <td>4</td>\n",
       "      <td>Fraud-wire fraud</td>\n",
       "      <td>202500016037</td>\n",
       "      <td>600</td>\n",
       "      <td>E MARKET ST</td>\n",
       "      <td>CPD</td>\n",
       "      <td>1522</td>\n",
       "      <td>Lowe, Courteny</td>\n",
       "      <td>2025-05-12 15:22:37</td>\n",
       "      <td>2025-05-12 03:22:37 PM</td>\n",
       "      <td>Monday</td>\n",
       "      <td>False</td>\n",
       "      <td>Spring</td>\n",
       "      <td>03:22 PM</td>\n",
       "      <td>Afternoon</td>\n",
       "      <td>600 E MARKET ST</td>\n",
       "      <td>38.030175</td>\n",
       "      <td>-78.477574</td>\n",
       "      <td>Downtown Mall</td>\n",
       "      <td>22902</td>\n",
       "    </tr>\n",
       "    <tr>\n",
       "      <th>4</th>\n",
       "      <td>5</td>\n",
       "      <td>Lost/FoundProperty</td>\n",
       "      <td>202500016020</td>\n",
       "      <td>1800</td>\n",
       "      <td>MONTICELLO RD</td>\n",
       "      <td>CPD</td>\n",
       "      <td>1322</td>\n",
       "      <td>Prevost, Payten</td>\n",
       "      <td>2025-05-12 13:22:39</td>\n",
       "      <td>2025-05-12 01:22:39 PM</td>\n",
       "      <td>Monday</td>\n",
       "      <td>False</td>\n",
       "      <td>Spring</td>\n",
       "      <td>01:22 PM</td>\n",
       "      <td>Afternoon</td>\n",
       "      <td>1800 MONTICELLO RD</td>\n",
       "      <td>38.015464</td>\n",
       "      <td>-78.473032</td>\n",
       "      <td>Belmont</td>\n",
       "      <td>22902</td>\n",
       "    </tr>\n",
       "  </tbody>\n",
       "</table>\n",
       "</div>"
      ],
      "text/plain": [
       "   RecordID              Offense    IncidentID BlockNumber  \\\n",
       "0         1       Assault Simple  202500016082         300   \n",
       "1         2  Suspicious Activity  202500016072        1200   \n",
       "2         3          Hit and Run  202500016052               \n",
       "3         4     Fraud-wire fraud  202500016037         600   \n",
       "4         5   Lost/FoundProperty  202500016020        1800   \n",
       "\n",
       "                  StreetName Agency HourReported     ReportingOfficer  \\\n",
       "0             2ND ST SE, 112    CPD         2120  Vlasis, Christopher   \n",
       "1                WERTLAND ST    CPD         2016      Crowley, Raeann   \n",
       "2  1ST ST N / E JEFFERSON ST    CPD         1657        Bland, Johnnà   \n",
       "3                E MARKET ST    CPD         1522       Lowe, Courteny   \n",
       "4              MONTICELLO RD    CPD         1322      Prevost, Payten   \n",
       "\n",
       "                 Date              DateString DayOfWeek  Weekend  Season  \\\n",
       "0 2025-05-12 21:20:19  2025-05-12 09:20:19 PM    Monday    False  Spring   \n",
       "1 2025-05-12 20:16:14  2025-05-12 08:16:14 PM    Monday    False  Spring   \n",
       "2 2025-05-12 16:57:01  2025-05-12 04:57:01 PM    Monday    False  Spring   \n",
       "3 2025-05-12 15:22:37  2025-05-12 03:22:37 PM    Monday    False  Spring   \n",
       "4 2025-05-12 13:22:39  2025-05-12 01:22:39 PM    Monday    False  Spring   \n",
       "\n",
       "   HourAMPM  TimeOfDay                  FullStreet        lat        lon  \\\n",
       "0  09:20 PM      Night          300 2ND ST SE, 112  38.029125 -78.481443   \n",
       "1  08:16 PM    Evening            1200 WERTLAND ST  38.034160 -78.496515   \n",
       "2  04:57 PM  Afternoon   1ST ST N / E JEFFERSON ST  38.033249 -78.480403   \n",
       "3  03:22 PM  Afternoon             600 E MARKET ST  38.030175 -78.477574   \n",
       "4  01:22 PM  Afternoon          1800 MONTICELLO RD  38.015464 -78.473032   \n",
       "\n",
       "     neighborhood    zip  \n",
       "0  North Downtown  22903  \n",
       "1         Venable  22903  \n",
       "2  North Downtown  22902  \n",
       "3   Downtown Mall  22902  \n",
       "4         Belmont  22902  "
      ]
     },
     "execution_count": 11,
     "metadata": {},
     "output_type": "execute_result"
    }
   ],
   "source": [
    "# Initialize the geocoder.\n",
    "geolocator = Nominatim(user_agent=\"zip_lookup\")\n",
    "\n",
    "# Try to load a persistent ZIP cache if available.\n",
    "try:\n",
    "    with open(\"zip_cache.pkl\", \"rb\") as f:\n",
    "        zip_cache = pickle.load(f)\n",
    "    print(\"Loaded zip cache.\")\n",
    "except FileNotFoundError:\n",
    "    zip_cache = {}\n",
    "    print(\"No zip cache found; starting fresh.\")\n",
    "\n",
    "def get_zip(lat, lon):\n",
    "    \"\"\"\n",
    "    Reverse geocodes a latitude and longitude to retrieve the ZIP code.\n",
    "    Caches results to speed up subsequent lookups.\n",
    "    \"\"\"\n",
    "    key = (lat, lon)\n",
    "    if key in zip_cache:\n",
    "        return zip_cache[key]\n",
    "    \n",
    "    try:\n",
    "        location = geolocator.reverse((lat, lon), exactly_one=True, timeout=10)\n",
    "        address = location.raw.get('address', {})\n",
    "        postal_code = address.get('postcode', \"N/A\")\n",
    "    except Exception as e:\n",
    "        print(f\"Error getting ZIP for {lat}, {lon}: {e}\")\n",
    "        postal_code = \"N/A\"\n",
    "    \n",
    "    zip_cache[key] = postal_code\n",
    "    # Pause to respect the usage policy.\n",
    "    time.sleep(1)\n",
    "    return postal_code\n",
    "\n",
    "# Apply the function to each row in the DataFrame.\n",
    "df['zip'] = df.apply(lambda row: get_zip(row['lat'], row['lon']), axis=1)\n",
    "\n",
    "# Save the updated ZIP cache.\n",
    "with open(\"zip_cache.pkl\", \"wb\") as f:\n",
    "    pickle.dump(zip_cache, f)\n",
    "\n",
    "df.head()\n"
   ]
  },
  {
   "cell_type": "code",
   "execution_count": 12,
   "id": "0f280d5c",
   "metadata": {
    "execution": {
     "iopub.execute_input": "2025-05-15T01:01:06.653356Z",
     "iopub.status.busy": "2025-05-15T01:01:06.652998Z",
     "iopub.status.idle": "2025-05-15T01:01:06.680056Z",
     "shell.execute_reply": "2025-05-15T01:01:06.679394Z"
    },
    "papermill": {
     "duration": 0.035622,
     "end_time": "2025-05-15T01:01:06.681072",
     "exception": false,
     "start_time": "2025-05-15T01:01:06.645450",
     "status": "completed"
    },
    "tags": []
   },
   "outputs": [
    {
     "name": "stdout",
     "output_type": "stream",
     "text": [
      "                  MissingCount  MissingPercentage\n",
      "RecordID                     0               0.00\n",
      "Offense                      0               0.00\n",
      "IncidentID                   0               0.00\n",
      "BlockNumber                  0               0.00\n",
      "StreetName                   0               0.00\n",
      "Agency                       0               0.00\n",
      "HourReported                 0               0.00\n",
      "ReportingOfficer            17               0.07\n",
      "Date                         0               0.00\n",
      "DateString                   0               0.00\n",
      "DayOfWeek                    0               0.00\n",
      "Weekend                      0               0.00\n",
      "Season                       0               0.00\n",
      "HourAMPM                     0               0.00\n",
      "TimeOfDay                    0               0.00\n",
      "FullStreet                   0               0.00\n",
      "lat                          0               0.00\n",
      "lon                          0               0.00\n",
      "neighborhood                 0               0.00\n",
      "zip                          0               0.00\n"
     ]
    }
   ],
   "source": [
    "missing_info = missing_percentage(df)\n",
    "print(missing_info)\n"
   ]
  },
  {
   "cell_type": "code",
   "execution_count": 13,
   "id": "cb14105d",
   "metadata": {
    "execution": {
     "iopub.execute_input": "2025-05-15T01:01:06.696103Z",
     "iopub.status.busy": "2025-05-15T01:01:06.695667Z",
     "iopub.status.idle": "2025-05-15T01:01:06.722824Z",
     "shell.execute_reply": "2025-05-15T01:01:06.722182Z"
    },
    "papermill": {
     "duration": 0.035773,
     "end_time": "2025-05-15T01:01:06.723899",
     "exception": false,
     "start_time": "2025-05-15T01:01:06.688126",
     "status": "completed"
    },
    "tags": []
   },
   "outputs": [
    {
     "name": "stdout",
     "output_type": "stream",
     "text": [
      "<class 'pandas.core.frame.DataFrame'>\n",
      "RangeIndex: 25383 entries, 0 to 25382\n",
      "Data columns (total 20 columns):\n",
      " #   Column            Non-Null Count  Dtype         \n",
      "---  ------            --------------  -----         \n",
      " 0   RecordID          25383 non-null  int64         \n",
      " 1   Offense           25383 non-null  object        \n",
      " 2   IncidentID        25383 non-null  object        \n",
      " 3   BlockNumber       25383 non-null  object        \n",
      " 4   StreetName        25383 non-null  object        \n",
      " 5   Agency            25383 non-null  object        \n",
      " 6   HourReported      25383 non-null  object        \n",
      " 7   ReportingOfficer  25366 non-null  object        \n",
      " 8   Date              25383 non-null  datetime64[ns]\n",
      " 9   DateString        25383 non-null  object        \n",
      " 10  DayOfWeek         25383 non-null  object        \n",
      " 11  Weekend           25383 non-null  bool          \n",
      " 12  Season            25383 non-null  object        \n",
      " 13  HourAMPM          25383 non-null  object        \n",
      " 14  TimeOfDay         25383 non-null  object        \n",
      " 15  FullStreet        25383 non-null  object        \n",
      " 16  lat               25383 non-null  float64       \n",
      " 17  lon               25383 non-null  float64       \n",
      " 18  neighborhood      25383 non-null  object        \n",
      " 19  zip               25383 non-null  object        \n",
      "dtypes: bool(1), datetime64[ns](1), float64(2), int64(1), object(15)\n",
      "memory usage: 3.7+ MB\n"
     ]
    }
   ],
   "source": [
    "df.info()"
   ]
  },
  {
   "cell_type": "code",
   "execution_count": 14,
   "id": "c395d269",
   "metadata": {
    "execution": {
     "iopub.execute_input": "2025-05-15T01:01:06.738824Z",
     "iopub.status.busy": "2025-05-15T01:01:06.738613Z",
     "iopub.status.idle": "2025-05-15T01:01:06.779882Z",
     "shell.execute_reply": "2025-05-15T01:01:06.779272Z"
    },
    "papermill": {
     "duration": 0.049952,
     "end_time": "2025-05-15T01:01:06.780962",
     "exception": false,
     "start_time": "2025-05-15T01:01:06.731010",
     "status": "completed"
    },
    "tags": []
   },
   "outputs": [
    {
     "data": {
      "text/html": [
       "<div>\n",
       "<style scoped>\n",
       "    .dataframe tbody tr th:only-of-type {\n",
       "        vertical-align: middle;\n",
       "    }\n",
       "\n",
       "    .dataframe tbody tr th {\n",
       "        vertical-align: top;\n",
       "    }\n",
       "\n",
       "    .dataframe thead th {\n",
       "        text-align: right;\n",
       "    }\n",
       "</style>\n",
       "<table border=\"1\" class=\"dataframe\">\n",
       "  <thead>\n",
       "    <tr style=\"text-align: right;\">\n",
       "      <th></th>\n",
       "      <th>RecordID</th>\n",
       "      <th>Offense</th>\n",
       "      <th>IncidentID</th>\n",
       "      <th>Agency</th>\n",
       "      <th>ReportingOfficer</th>\n",
       "      <th>Date</th>\n",
       "      <th>DayOfWeek</th>\n",
       "      <th>Weekend</th>\n",
       "      <th>Season</th>\n",
       "      <th>TimeOfDay</th>\n",
       "      <th>FullStreet</th>\n",
       "      <th>lat</th>\n",
       "      <th>lon</th>\n",
       "      <th>neighborhood</th>\n",
       "      <th>zip</th>\n",
       "    </tr>\n",
       "  </thead>\n",
       "  <tbody>\n",
       "    <tr>\n",
       "      <th>0</th>\n",
       "      <td>1</td>\n",
       "      <td>Assault Simple</td>\n",
       "      <td>202500016082</td>\n",
       "      <td>CPD</td>\n",
       "      <td>Vlasis, Christopher</td>\n",
       "      <td>2025-05-12 21:20:19</td>\n",
       "      <td>Monday</td>\n",
       "      <td>False</td>\n",
       "      <td>Spring</td>\n",
       "      <td>Night</td>\n",
       "      <td>300 2ND ST SE, 112</td>\n",
       "      <td>38.029125</td>\n",
       "      <td>-78.481443</td>\n",
       "      <td>North Downtown</td>\n",
       "      <td>22903</td>\n",
       "    </tr>\n",
       "    <tr>\n",
       "      <th>1</th>\n",
       "      <td>2</td>\n",
       "      <td>Suspicious Activity</td>\n",
       "      <td>202500016072</td>\n",
       "      <td>CPD</td>\n",
       "      <td>Crowley, Raeann</td>\n",
       "      <td>2025-05-12 20:16:14</td>\n",
       "      <td>Monday</td>\n",
       "      <td>False</td>\n",
       "      <td>Spring</td>\n",
       "      <td>Evening</td>\n",
       "      <td>1200 WERTLAND ST</td>\n",
       "      <td>38.034160</td>\n",
       "      <td>-78.496515</td>\n",
       "      <td>Venable</td>\n",
       "      <td>22903</td>\n",
       "    </tr>\n",
       "    <tr>\n",
       "      <th>2</th>\n",
       "      <td>3</td>\n",
       "      <td>Hit and Run</td>\n",
       "      <td>202500016052</td>\n",
       "      <td>CPD</td>\n",
       "      <td>Bland, Johnnà</td>\n",
       "      <td>2025-05-12 16:57:01</td>\n",
       "      <td>Monday</td>\n",
       "      <td>False</td>\n",
       "      <td>Spring</td>\n",
       "      <td>Afternoon</td>\n",
       "      <td>1ST ST N / E JEFFERSON ST</td>\n",
       "      <td>38.033249</td>\n",
       "      <td>-78.480403</td>\n",
       "      <td>North Downtown</td>\n",
       "      <td>22902</td>\n",
       "    </tr>\n",
       "    <tr>\n",
       "      <th>3</th>\n",
       "      <td>4</td>\n",
       "      <td>Fraud-wire fraud</td>\n",
       "      <td>202500016037</td>\n",
       "      <td>CPD</td>\n",
       "      <td>Lowe, Courteny</td>\n",
       "      <td>2025-05-12 15:22:37</td>\n",
       "      <td>Monday</td>\n",
       "      <td>False</td>\n",
       "      <td>Spring</td>\n",
       "      <td>Afternoon</td>\n",
       "      <td>600 E MARKET ST</td>\n",
       "      <td>38.030175</td>\n",
       "      <td>-78.477574</td>\n",
       "      <td>Downtown Mall</td>\n",
       "      <td>22902</td>\n",
       "    </tr>\n",
       "    <tr>\n",
       "      <th>4</th>\n",
       "      <td>5</td>\n",
       "      <td>Lost/FoundProperty</td>\n",
       "      <td>202500016020</td>\n",
       "      <td>CPD</td>\n",
       "      <td>Prevost, Payten</td>\n",
       "      <td>2025-05-12 13:22:39</td>\n",
       "      <td>Monday</td>\n",
       "      <td>False</td>\n",
       "      <td>Spring</td>\n",
       "      <td>Afternoon</td>\n",
       "      <td>1800 MONTICELLO RD</td>\n",
       "      <td>38.015464</td>\n",
       "      <td>-78.473032</td>\n",
       "      <td>Belmont</td>\n",
       "      <td>22902</td>\n",
       "    </tr>\n",
       "  </tbody>\n",
       "</table>\n",
       "</div>"
      ],
      "text/plain": [
       "   RecordID              Offense    IncidentID Agency     ReportingOfficer  \\\n",
       "0         1       Assault Simple  202500016082    CPD  Vlasis, Christopher   \n",
       "1         2  Suspicious Activity  202500016072    CPD      Crowley, Raeann   \n",
       "2         3          Hit and Run  202500016052    CPD        Bland, Johnnà   \n",
       "3         4     Fraud-wire fraud  202500016037    CPD       Lowe, Courteny   \n",
       "4         5   Lost/FoundProperty  202500016020    CPD      Prevost, Payten   \n",
       "\n",
       "                 Date DayOfWeek  Weekend  Season  TimeOfDay  \\\n",
       "0 2025-05-12 21:20:19    Monday    False  Spring      Night   \n",
       "1 2025-05-12 20:16:14    Monday    False  Spring    Evening   \n",
       "2 2025-05-12 16:57:01    Monday    False  Spring  Afternoon   \n",
       "3 2025-05-12 15:22:37    Monday    False  Spring  Afternoon   \n",
       "4 2025-05-12 13:22:39    Monday    False  Spring  Afternoon   \n",
       "\n",
       "                   FullStreet        lat        lon    neighborhood    zip  \n",
       "0          300 2ND ST SE, 112  38.029125 -78.481443  North Downtown  22903  \n",
       "1            1200 WERTLAND ST  38.034160 -78.496515         Venable  22903  \n",
       "2   1ST ST N / E JEFFERSON ST  38.033249 -78.480403  North Downtown  22902  \n",
       "3             600 E MARKET ST  38.030175 -78.477574   Downtown Mall  22902  \n",
       "4          1800 MONTICELLO RD  38.015464 -78.473032         Belmont  22902  "
      ]
     },
     "execution_count": 14,
     "metadata": {},
     "output_type": "execute_result"
    }
   ],
   "source": [
    "# Now drop the original BlockNumber and StreetName columns\n",
    "df.drop(columns=['BlockNumber', 'StreetName','HourAMPM','HourReported','DateString'], inplace=True)\n",
    "df[\"zip\"] = df[\"zip\"].astype(str)\n",
    "\n",
    "# Fill all missing values in the DataFrame with \"N/A\"\n",
    "df.replace({None: \"N/A\", np.nan: \"N/A\", \"\": \"N/A\"}, inplace=True)\n",
    "df.head()"
   ]
  },
  {
   "cell_type": "code",
   "execution_count": 15,
   "id": "aa3fd203",
   "metadata": {
    "execution": {
     "iopub.execute_input": "2025-05-15T01:01:06.796955Z",
     "iopub.status.busy": "2025-05-15T01:01:06.796494Z",
     "iopub.status.idle": "2025-05-15T01:01:06.812247Z",
     "shell.execute_reply": "2025-05-15T01:01:06.811677Z"
    },
    "papermill": {
     "duration": 0.024819,
     "end_time": "2025-05-15T01:01:06.813310",
     "exception": false,
     "start_time": "2025-05-15T01:01:06.788491",
     "status": "completed"
    },
    "tags": []
   },
   "outputs": [
    {
     "name": "stdout",
     "output_type": "stream",
     "text": [
      "                  MissingCount  MissingPercentage\n",
      "RecordID                     0                0.0\n",
      "Offense                      0                0.0\n",
      "IncidentID                   0                0.0\n",
      "Agency                       0                0.0\n",
      "ReportingOfficer             0                0.0\n",
      "Date                         0                0.0\n",
      "DayOfWeek                    0                0.0\n",
      "Weekend                      0                0.0\n",
      "Season                       0                0.0\n",
      "TimeOfDay                    0                0.0\n",
      "FullStreet                   0                0.0\n",
      "lat                          0                0.0\n",
      "lon                          0                0.0\n",
      "neighborhood                 0                0.0\n",
      "zip                          0                0.0\n"
     ]
    }
   ],
   "source": [
    "missing_info = missing_percentage(df)\n",
    "print(missing_info)"
   ]
  },
  {
   "cell_type": "code",
   "execution_count": 16,
   "id": "4d76b5e7",
   "metadata": {
    "execution": {
     "iopub.execute_input": "2025-05-15T01:01:06.828958Z",
     "iopub.status.busy": "2025-05-15T01:01:06.828543Z",
     "iopub.status.idle": "2025-05-15T01:01:06.832901Z",
     "shell.execute_reply": "2025-05-15T01:01:06.832256Z"
    },
    "papermill": {
     "duration": 0.013377,
     "end_time": "2025-05-15T01:01:06.833973",
     "exception": false,
     "start_time": "2025-05-15T01:01:06.820596",
     "status": "completed"
    },
    "tags": []
   },
   "outputs": [
    {
     "data": {
      "text/plain": [
       "Index(['RecordID', 'Offense', 'IncidentID', 'Agency', 'ReportingOfficer',\n",
       "       'Date', 'DayOfWeek', 'Weekend', 'Season', 'TimeOfDay', 'FullStreet',\n",
       "       'lat', 'lon', 'neighborhood', 'zip'],\n",
       "      dtype='object')"
      ]
     },
     "execution_count": 16,
     "metadata": {},
     "output_type": "execute_result"
    }
   ],
   "source": [
    "df.columns"
   ]
  },
  {
   "cell_type": "code",
   "execution_count": 17,
   "id": "cf114c48",
   "metadata": {
    "execution": {
     "iopub.execute_input": "2025-05-15T01:01:06.849943Z",
     "iopub.status.busy": "2025-05-15T01:01:06.849384Z",
     "iopub.status.idle": "2025-05-15T01:01:06.867776Z",
     "shell.execute_reply": "2025-05-15T01:01:06.867143Z"
    },
    "papermill": {
     "duration": 0.027341,
     "end_time": "2025-05-15T01:01:06.868803",
     "exception": false,
     "start_time": "2025-05-15T01:01:06.841462",
     "status": "completed"
    },
    "tags": []
   },
   "outputs": [
    {
     "name": "stdout",
     "output_type": "stream",
     "text": [
      "<class 'pandas.core.frame.DataFrame'>\n",
      "RangeIndex: 25383 entries, 0 to 25382\n",
      "Data columns (total 15 columns):\n",
      " #   Column            Non-Null Count  Dtype         \n",
      "---  ------            --------------  -----         \n",
      " 0   RecordID          25383 non-null  int64         \n",
      " 1   Offense           25383 non-null  object        \n",
      " 2   IncidentID        25383 non-null  object        \n",
      " 3   Agency            25383 non-null  object        \n",
      " 4   ReportingOfficer  25383 non-null  object        \n",
      " 5   Date              25383 non-null  datetime64[ns]\n",
      " 6   DayOfWeek         25383 non-null  object        \n",
      " 7   Weekend           25383 non-null  bool          \n",
      " 8   Season            25383 non-null  object        \n",
      " 9   TimeOfDay         25383 non-null  object        \n",
      " 10  FullStreet        25383 non-null  object        \n",
      " 11  lat               25383 non-null  float64       \n",
      " 12  lon               25383 non-null  float64       \n",
      " 13  neighborhood      25383 non-null  object        \n",
      " 14  zip               25383 non-null  object        \n",
      "dtypes: bool(1), datetime64[ns](1), float64(2), int64(1), object(10)\n",
      "memory usage: 2.7+ MB\n"
     ]
    }
   ],
   "source": [
    "df.info()"
   ]
  },
  {
   "cell_type": "markdown",
   "id": "ed5d53aa",
   "metadata": {
    "papermill": {
     "duration": 0.007409,
     "end_time": "2025-05-15T01:01:06.883897",
     "exception": false,
     "start_time": "2025-05-15T01:01:06.876488",
     "status": "completed"
    },
    "tags": []
   },
   "source": [
    "### Export Clean Data"
   ]
  },
  {
   "cell_type": "code",
   "execution_count": 18,
   "id": "3ca00e37",
   "metadata": {
    "execution": {
     "iopub.execute_input": "2025-05-15T01:01:06.899968Z",
     "iopub.status.busy": "2025-05-15T01:01:06.899729Z",
     "iopub.status.idle": "2025-05-15T01:01:16.212830Z",
     "shell.execute_reply": "2025-05-15T01:01:16.212138Z"
    },
    "papermill": {
     "duration": 9.322411,
     "end_time": "2025-05-15T01:01:16.213963",
     "exception": false,
     "start_time": "2025-05-15T01:01:06.891552",
     "status": "completed"
    },
    "tags": []
   },
   "outputs": [
    {
     "name": "stdout",
     "output_type": "stream",
     "text": [
      "Project Root: /home/runner/work/crime-data/crime-data\n"
     ]
    },
    {
     "name": "stdout",
     "output_type": "stream",
     "text": [
      "Data saved to: /home/runner/work/crime-data/crime-data/data/charlottesville_crime_incidents.csv\n"
     ]
    },
    {
     "name": "stdout",
     "output_type": "stream",
     "text": [
      "Excel saved to: /home/runner/work/crime-data/crime-data/data/charlottesville_crime_incidents.xlsx\n"
     ]
    }
   ],
   "source": [
    "# Determine the project root (assuming papermill is run from the repository root)\n",
    "project_root = os.getcwd()\n",
    "print(\"Project Root:\", project_root)\n",
    "\n",
    "# Set the data directory within the project root\n",
    "data_dir = os.path.join(project_root, \"data\")\n",
    "\n",
    "# Ensure the \"data\" directory exists (create it if it doesn't)\n",
    "if not os.path.exists(data_dir):\n",
    "    os.makedirs(data_dir)\n",
    "\n",
    "# Export the DataFrame to CSV in the \"data\" folder located in the project root\n",
    "csv_path = os.path.join(data_dir, \"charlottesville_crime_incidents.csv\")\n",
    "df.to_csv(csv_path, index=False)\n",
    "print(\"Data saved to:\", csv_path)\n",
    "\n",
    "# Construct the path to your Excel file\n",
    "excel_path = os.path.join(data_dir, \"charlottesville_crime_incidents.xlsx\")\n",
    "\n",
    "# Export the DataFrame to Excel\n",
    "df.to_excel(excel_path, index=False)\n",
    "print(\"Excel saved to:\", excel_path)\n"
   ]
  },
  {
   "cell_type": "markdown",
   "id": "cd6389d1",
   "metadata": {
    "papermill": {
     "duration": 0.007618,
     "end_time": "2025-05-15T01:01:16.229666",
     "exception": false,
     "start_time": "2025-05-15T01:01:16.222048",
     "status": "completed"
    },
    "tags": []
   },
   "source": [
    "## Predictive Analytics"
   ]
  },
  {
   "cell_type": "code",
   "execution_count": 19,
   "id": "aff687cc",
   "metadata": {
    "execution": {
     "iopub.execute_input": "2025-05-15T01:01:16.245944Z",
     "iopub.status.busy": "2025-05-15T01:01:16.245697Z",
     "iopub.status.idle": "2025-05-15T01:01:16.257219Z",
     "shell.execute_reply": "2025-05-15T01:01:16.256642Z"
    },
    "papermill": {
     "duration": 0.02094,
     "end_time": "2025-05-15T01:01:16.258259",
     "exception": false,
     "start_time": "2025-05-15T01:01:16.237319",
     "status": "completed"
    },
    "tags": []
   },
   "outputs": [
    {
     "data": {
      "text/html": [
       "<div>\n",
       "<style scoped>\n",
       "    .dataframe tbody tr th:only-of-type {\n",
       "        vertical-align: middle;\n",
       "    }\n",
       "\n",
       "    .dataframe tbody tr th {\n",
       "        vertical-align: top;\n",
       "    }\n",
       "\n",
       "    .dataframe thead th {\n",
       "        text-align: right;\n",
       "    }\n",
       "</style>\n",
       "<table border=\"1\" class=\"dataframe\">\n",
       "  <thead>\n",
       "    <tr style=\"text-align: right;\">\n",
       "      <th></th>\n",
       "      <th>RecordID</th>\n",
       "      <th>Offense</th>\n",
       "      <th>IncidentID</th>\n",
       "      <th>Agency</th>\n",
       "      <th>ReportingOfficer</th>\n",
       "      <th>Date</th>\n",
       "      <th>DayOfWeek</th>\n",
       "      <th>Weekend</th>\n",
       "      <th>Season</th>\n",
       "      <th>TimeOfDay</th>\n",
       "      <th>FullStreet</th>\n",
       "      <th>lat</th>\n",
       "      <th>lon</th>\n",
       "      <th>neighborhood</th>\n",
       "      <th>zip</th>\n",
       "    </tr>\n",
       "  </thead>\n",
       "  <tbody>\n",
       "    <tr>\n",
       "      <th>0</th>\n",
       "      <td>1</td>\n",
       "      <td>Assault Simple</td>\n",
       "      <td>202500016082</td>\n",
       "      <td>CPD</td>\n",
       "      <td>Vlasis, Christopher</td>\n",
       "      <td>2025-05-12 21:20:19</td>\n",
       "      <td>Monday</td>\n",
       "      <td>False</td>\n",
       "      <td>Spring</td>\n",
       "      <td>Night</td>\n",
       "      <td>300 2ND ST SE, 112</td>\n",
       "      <td>38.029125</td>\n",
       "      <td>-78.481443</td>\n",
       "      <td>North Downtown</td>\n",
       "      <td>22903</td>\n",
       "    </tr>\n",
       "    <tr>\n",
       "      <th>1</th>\n",
       "      <td>2</td>\n",
       "      <td>Suspicious Activity</td>\n",
       "      <td>202500016072</td>\n",
       "      <td>CPD</td>\n",
       "      <td>Crowley, Raeann</td>\n",
       "      <td>2025-05-12 20:16:14</td>\n",
       "      <td>Monday</td>\n",
       "      <td>False</td>\n",
       "      <td>Spring</td>\n",
       "      <td>Evening</td>\n",
       "      <td>1200 WERTLAND ST</td>\n",
       "      <td>38.034160</td>\n",
       "      <td>-78.496515</td>\n",
       "      <td>Venable</td>\n",
       "      <td>22903</td>\n",
       "    </tr>\n",
       "    <tr>\n",
       "      <th>2</th>\n",
       "      <td>3</td>\n",
       "      <td>Hit and Run</td>\n",
       "      <td>202500016052</td>\n",
       "      <td>CPD</td>\n",
       "      <td>Bland, Johnnà</td>\n",
       "      <td>2025-05-12 16:57:01</td>\n",
       "      <td>Monday</td>\n",
       "      <td>False</td>\n",
       "      <td>Spring</td>\n",
       "      <td>Afternoon</td>\n",
       "      <td>1ST ST N / E JEFFERSON ST</td>\n",
       "      <td>38.033249</td>\n",
       "      <td>-78.480403</td>\n",
       "      <td>North Downtown</td>\n",
       "      <td>22902</td>\n",
       "    </tr>\n",
       "    <tr>\n",
       "      <th>3</th>\n",
       "      <td>4</td>\n",
       "      <td>Fraud-wire fraud</td>\n",
       "      <td>202500016037</td>\n",
       "      <td>CPD</td>\n",
       "      <td>Lowe, Courteny</td>\n",
       "      <td>2025-05-12 15:22:37</td>\n",
       "      <td>Monday</td>\n",
       "      <td>False</td>\n",
       "      <td>Spring</td>\n",
       "      <td>Afternoon</td>\n",
       "      <td>600 E MARKET ST</td>\n",
       "      <td>38.030175</td>\n",
       "      <td>-78.477574</td>\n",
       "      <td>Downtown Mall</td>\n",
       "      <td>22902</td>\n",
       "    </tr>\n",
       "    <tr>\n",
       "      <th>4</th>\n",
       "      <td>5</td>\n",
       "      <td>Lost/FoundProperty</td>\n",
       "      <td>202500016020</td>\n",
       "      <td>CPD</td>\n",
       "      <td>Prevost, Payten</td>\n",
       "      <td>2025-05-12 13:22:39</td>\n",
       "      <td>Monday</td>\n",
       "      <td>False</td>\n",
       "      <td>Spring</td>\n",
       "      <td>Afternoon</td>\n",
       "      <td>1800 MONTICELLO RD</td>\n",
       "      <td>38.015464</td>\n",
       "      <td>-78.473032</td>\n",
       "      <td>Belmont</td>\n",
       "      <td>22902</td>\n",
       "    </tr>\n",
       "  </tbody>\n",
       "</table>\n",
       "</div>"
      ],
      "text/plain": [
       "   RecordID              Offense    IncidentID Agency     ReportingOfficer  \\\n",
       "0         1       Assault Simple  202500016082    CPD  Vlasis, Christopher   \n",
       "1         2  Suspicious Activity  202500016072    CPD      Crowley, Raeann   \n",
       "2         3          Hit and Run  202500016052    CPD        Bland, Johnnà   \n",
       "3         4     Fraud-wire fraud  202500016037    CPD       Lowe, Courteny   \n",
       "4         5   Lost/FoundProperty  202500016020    CPD      Prevost, Payten   \n",
       "\n",
       "                 Date DayOfWeek  Weekend  Season  TimeOfDay  \\\n",
       "0 2025-05-12 21:20:19    Monday    False  Spring      Night   \n",
       "1 2025-05-12 20:16:14    Monday    False  Spring    Evening   \n",
       "2 2025-05-12 16:57:01    Monday    False  Spring  Afternoon   \n",
       "3 2025-05-12 15:22:37    Monday    False  Spring  Afternoon   \n",
       "4 2025-05-12 13:22:39    Monday    False  Spring  Afternoon   \n",
       "\n",
       "                   FullStreet        lat        lon    neighborhood    zip  \n",
       "0          300 2ND ST SE, 112  38.029125 -78.481443  North Downtown  22903  \n",
       "1            1200 WERTLAND ST  38.034160 -78.496515         Venable  22903  \n",
       "2   1ST ST N / E JEFFERSON ST  38.033249 -78.480403  North Downtown  22902  \n",
       "3             600 E MARKET ST  38.030175 -78.477574   Downtown Mall  22902  \n",
       "4          1800 MONTICELLO RD  38.015464 -78.473032         Belmont  22902  "
      ]
     },
     "execution_count": 19,
     "metadata": {},
     "output_type": "execute_result"
    }
   ],
   "source": [
    "df.head()"
   ]
  },
  {
   "cell_type": "code",
   "execution_count": 20,
   "id": "a7716b51",
   "metadata": {
    "execution": {
     "iopub.execute_input": "2025-05-15T01:01:16.275414Z",
     "iopub.status.busy": "2025-05-15T01:01:16.275018Z",
     "iopub.status.idle": "2025-05-15T01:01:16.279144Z",
     "shell.execute_reply": "2025-05-15T01:01:16.278612Z"
    },
    "papermill": {
     "duration": 0.013808,
     "end_time": "2025-05-15T01:01:16.280141",
     "exception": false,
     "start_time": "2025-05-15T01:01:16.266333",
     "status": "completed"
    },
    "tags": []
   },
   "outputs": [
    {
     "data": {
      "text/plain": [
       "Index(['RecordID', 'Offense', 'IncidentID', 'Agency', 'ReportingOfficer',\n",
       "       'Date', 'DayOfWeek', 'Weekend', 'Season', 'TimeOfDay', 'FullStreet',\n",
       "       'lat', 'lon', 'neighborhood', 'zip'],\n",
       "      dtype='object')"
      ]
     },
     "execution_count": 20,
     "metadata": {},
     "output_type": "execute_result"
    }
   ],
   "source": [
    "df.columns"
   ]
  },
  {
   "cell_type": "markdown",
   "id": "694018fc",
   "metadata": {
    "papermill": {
     "duration": 0.007939,
     "end_time": "2025-05-15T01:01:16.296401",
     "exception": false,
     "start_time": "2025-05-15T01:01:16.288462",
     "status": "completed"
    },
    "tags": []
   },
   "source": [
    "### Data Preparation\n",
    "\n",
    "We need to ensure the data is in the correct format for modeling and can handle missing values, categorical variables, and dates. Here's how to prepare your data:"
   ]
  },
  {
   "cell_type": "code",
   "execution_count": 21,
   "id": "aea0e15c",
   "metadata": {
    "execution": {
     "iopub.execute_input": "2025-05-15T01:01:16.313560Z",
     "iopub.status.busy": "2025-05-15T01:01:16.313335Z",
     "iopub.status.idle": "2025-05-15T01:01:19.752630Z",
     "shell.execute_reply": "2025-05-15T01:01:19.751859Z"
    },
    "papermill": {
     "duration": 3.4496,
     "end_time": "2025-05-15T01:01:19.754038",
     "exception": false,
     "start_time": "2025-05-15T01:01:16.304438",
     "status": "completed"
    },
    "tags": []
   },
   "outputs": [],
   "source": [
    "import pandas as pd\n",
    "from sklearn.model_selection import train_test_split\n",
    "from sklearn.preprocessing import OneHotEncoder, LabelEncoder\n",
    "from sklearn.ensemble import RandomForestClassifier\n",
    "from sklearn.linear_model import LogisticRegression\n",
    "from sklearn.tree import DecisionTreeClassifier\n",
    "from sklearn.metrics import classification_report, accuracy_score\n",
    "import seaborn as sns\n",
    "import matplotlib.pyplot as plt\n",
    "\n",
    "# Convert 'Date' to datetime\n",
    "df['Date'] = pd.to_datetime(df['Date'])\n",
    "\n",
    "# Feature engineering: Extract additional time-based features\n",
    "df['Year'] = df['Date'].dt.year\n",
    "df['Month'] = df['Date'].dt.month\n",
    "df['DayOfMonth'] = df['Date'].dt.day\n",
    "\n",
    "# One-hot encoding for 'FullStreet', 'neighborhood', 'zip'\n",
    "df = pd.get_dummies(df, columns=['FullStreet', 'neighborhood', 'zip'], drop_first=True)\n",
    "\n",
    "# Label encoding for ordered variables (those with a natural order like 'DayOfWeek', 'Season', 'TimeOfDay')\n",
    "label_encoders = {}\n",
    "for column in ['DayOfWeek', 'Season', 'TimeOfDay', 'Agency', 'ReportingOfficer']:  # Example ordinal variables\n",
    "    le = LabelEncoder()\n",
    "    df[column] = le.fit_transform(df[column])\n",
    "    label_encoders[column] = le\n",
    "\n",
    "# Filter the dataset to include only the offenses of interest\n",
    "offenses_of_interest = [\n",
    "    'Hit and Run', 'Assault Simple', 'Suspicious Activity', 'Vandalism', \n",
    "    'Larceny - From Mot Vehicle', 'Larceny - All Other', \n",
    "    'Assist Citizen - Mental/TDO/ECO', 'Lost/FoundProperty'\n",
    "]\n",
    "\n",
    "df = df[df['Offense'].isin(offenses_of_interest)]\n",
    "\n",
    "# Label encode the target variable (Offense)\n",
    "offense_encoder = LabelEncoder()\n",
    "df['Offense'] = offense_encoder.fit_transform(df['Offense'])\n",
    "\n",
    "# Separate features (X) and target (y)\n",
    "X = df[['Year', 'Month', 'DayOfMonth', 'DayOfWeek', 'Weekend', 'Season', 'TimeOfDay', 'lat', 'lon', 'Agency', 'ReportingOfficer']]\n",
    "y = df['Offense']  # Offense is now the encoded target variable\n",
    "\n",
    "# Split the data into training and testing sets\n",
    "X_train, X_test, y_train, y_test = train_test_split(X, y, test_size=0.3, random_state=42)\n"
   ]
  },
  {
   "cell_type": "markdown",
   "id": "e84a9e56",
   "metadata": {
    "papermill": {
     "duration": 0.008074,
     "end_time": "2025-05-15T01:01:19.770808",
     "exception": false,
     "start_time": "2025-05-15T01:01:19.762734",
     "status": "completed"
    },
    "tags": []
   },
   "source": [
    "### Model Training\n",
    "\n",
    "Here we will train several models (e.g., Random Forest, Logistic Regression, and Decision Tree). We will use cross-validation to choose the best model based on accuracy, and then explain the impact of the variables."
   ]
  },
  {
   "cell_type": "code",
   "execution_count": 22,
   "id": "51eddd72",
   "metadata": {
    "execution": {
     "iopub.execute_input": "2025-05-15T01:01:19.788521Z",
     "iopub.status.busy": "2025-05-15T01:01:19.787711Z",
     "iopub.status.idle": "2025-05-15T01:01:23.249847Z",
     "shell.execute_reply": "2025-05-15T01:01:23.249219Z"
    },
    "papermill": {
     "duration": 3.472106,
     "end_time": "2025-05-15T01:01:23.250923",
     "exception": false,
     "start_time": "2025-05-15T01:01:19.778817",
     "status": "completed"
    },
    "tags": []
   },
   "outputs": [
    {
     "name": "stderr",
     "output_type": "stream",
     "text": [
      "/opt/hostedtoolcache/Python/3.9.22/x64/lib/python3.9/site-packages/sklearn/linear_model/_logistic.py:465: ConvergenceWarning: lbfgs failed to converge (status=1):\n",
      "STOP: TOTAL NO. of ITERATIONS REACHED LIMIT.\n",
      "\n",
      "Increase the number of iterations (max_iter) or scale the data as shown in:\n",
      "    https://scikit-learn.org/stable/modules/preprocessing.html\n",
      "Please also refer to the documentation for alternative solver options:\n",
      "    https://scikit-learn.org/stable/modules/linear_model.html#logistic-regression\n",
      "  n_iter_i = _check_optimize_result(\n",
      "/opt/hostedtoolcache/Python/3.9.22/x64/lib/python3.9/site-packages/sklearn/metrics/_classification.py:1565: UndefinedMetricWarning: Precision is ill-defined and being set to 0.0 in labels with no predicted samples. Use `zero_division` parameter to control this behavior.\n",
      "  _warn_prf(average, modifier, f\"{metric.capitalize()} is\", len(result))\n",
      "/opt/hostedtoolcache/Python/3.9.22/x64/lib/python3.9/site-packages/sklearn/metrics/_classification.py:1565: UndefinedMetricWarning: Precision is ill-defined and being set to 0.0 in labels with no predicted samples. Use `zero_division` parameter to control this behavior.\n",
      "  _warn_prf(average, modifier, f\"{metric.capitalize()} is\", len(result))\n",
      "/opt/hostedtoolcache/Python/3.9.22/x64/lib/python3.9/site-packages/sklearn/metrics/_classification.py:1565: UndefinedMetricWarning: Precision is ill-defined and being set to 0.0 in labels with no predicted samples. Use `zero_division` parameter to control this behavior.\n",
      "  _warn_prf(average, modifier, f\"{metric.capitalize()} is\", len(result))\n"
     ]
    },
    {
     "name": "stdout",
     "output_type": "stream",
     "text": [
      "\n",
      "Classification Report for All Models:\n",
      "\n",
      "Model: RandomForest\n",
      "Accuracy: 0.2798\n",
      "              precision    recall  f1-score     support\n",
      "0              0.295172  0.354892  0.322289   603.00000\n",
      "1              0.321875  0.231982  0.269634   444.00000\n",
      "2              0.287081  0.464396  0.354820   646.00000\n",
      "3              0.220963  0.168467  0.191176   463.00000\n",
      "4              0.296000  0.228395  0.257840   324.00000\n",
      "5              0.241218  0.206000  0.222222   500.00000\n",
      "6              0.282192  0.203960  0.236782   505.00000\n",
      "accuracy       0.279770  0.279770  0.279770     0.27977\n",
      "macro avg      0.277786  0.265442  0.264966  3485.00000\n",
      "weighted avg   0.277671  0.279770  0.271452  3485.00000\n"
     ]
    },
    {
     "data": {
      "image/png": "[encoded data removed]",
      "text/plain": [
       "<Figure size 800x600 with 2 Axes>"
      ]
     },
     "metadata": {},
     "output_type": "display_data"
    },
    {
     "name": "stdout",
     "output_type": "stream",
     "text": [
      "\n",
      "Model: LogisticRegression\n",
      "Accuracy: 0.2166\n",
      "              precision    recall  f1-score      support\n",
      "0              0.223160  0.482587  0.305191   603.000000\n",
      "1              0.000000  0.000000  0.000000   444.000000\n",
      "2              0.212844  0.718266  0.328379   646.000000\n",
      "3              0.000000  0.000000  0.000000   463.000000\n",
      "4              0.000000  0.000000  0.000000   324.000000\n",
      "5              0.000000  0.000000  0.000000   500.000000\n",
      "6              0.000000  0.000000  0.000000   505.000000\n",
      "accuracy       0.216643  0.216643  0.216643     0.216643\n",
      "macro avg      0.062286  0.171550  0.090510  3485.000000\n",
      "weighted avg   0.078067  0.216643  0.113677  3485.000000\n"
     ]
    },
    {
     "data": {
      "image/png": "[encoded data removed]",
      "text/plain": [
       "<Figure size 800x600 with 2 Axes>"
      ]
     },
     "metadata": {},
     "output_type": "display_data"
    },
    {
     "name": "stdout",
     "output_type": "stream",
     "text": [
      "\n",
      "Model: DecisionTree\n",
      "Accuracy: 0.2112\n",
      "              precision    recall  f1-score      support\n",
      "0              0.229537  0.213930  0.221459   603.000000\n",
      "1              0.224439  0.202703  0.213018   444.000000\n",
      "2              0.270191  0.284830  0.277317   646.000000\n",
      "3              0.165591  0.166307  0.165948   463.000000\n",
      "4              0.206349  0.240741  0.222222   324.000000\n",
      "5              0.172348  0.182000  0.177043   500.000000\n",
      "6              0.185106  0.172277  0.178462   505.000000\n",
      "accuracy       0.211191  0.211191  0.211191     0.211191\n",
      "macro avg      0.207652  0.208970  0.207924  3485.000000\n",
      "weighted avg   0.211129  0.211191  0.210831  3485.000000\n"
     ]
    },
    {
     "data": {
      "image/png": "[encoded data removed]",
      "text/plain": [
       "<Figure size 800x600 with 2 Axes>"
      ]
     },
     "metadata": {},
     "output_type": "display_data"
    },
    {
     "name": "stdout",
     "output_type": "stream",
     "text": [
      "\n",
      "Best Model:\n",
      "Best Model: RandomForestClassifier()\n",
      "Best Model Accuracy: 0.2798\n"
     ]
    }
   ],
   "source": [
    "import pandas as pd\n",
    "from sklearn.model_selection import train_test_split\n",
    "from sklearn.ensemble import RandomForestClassifier\n",
    "from sklearn.linear_model import LogisticRegression\n",
    "from sklearn.tree import DecisionTreeClassifier\n",
    "from sklearn.metrics import classification_report, accuracy_score, confusion_matrix\n",
    "import seaborn as sns\n",
    "import matplotlib.pyplot as plt\n",
    "\n",
    "# Define models\n",
    "models = {\n",
    "    'RandomForest': RandomForestClassifier(),\n",
    "    'LogisticRegression': LogisticRegression(max_iter=1000),\n",
    "    'DecisionTree': DecisionTreeClassifier()\n",
    "}\n",
    "\n",
    "# Train models and evaluate them\n",
    "best_model = None\n",
    "best_score = 0\n",
    "model_reports = {}\n",
    "\n",
    "for model_name, model in models.items():\n",
    "    model.fit(X_train, y_train)  # Train model\n",
    "    y_pred = model.predict(X_test)  # Make predictions\n",
    "    \n",
    "    # Calculate accuracy and generate classification report\n",
    "    accuracy = accuracy_score(y_test, y_pred)\n",
    "    model_reports[model_name] = classification_report(y_test, y_pred, output_dict=True)  # Store as a dictionary for easier analysis\n",
    "    \n",
    "    # Track best performing model\n",
    "    if accuracy > best_score:\n",
    "        best_score = accuracy\n",
    "        best_model = model\n",
    "\n",
    "# Display classification reports and confusion matrices\n",
    "print(\"\\nClassification Report for All Models:\")\n",
    "for model_name, report in model_reports.items():\n",
    "    print(f\"\\nModel: {model_name}\")\n",
    "    print(\"Accuracy: {:.4f}\".format(accuracy_score(y_test, models[model_name].predict(X_test))))  # Display accuracy\n",
    "    print(pd.DataFrame(report).transpose())  # Display classification report as a DataFrame\n",
    "\n",
    "    # Plot Confusion Matrix\n",
    "    cm = confusion_matrix(y_test, models[model_name].predict(X_test))\n",
    "    plt.figure(figsize=(8, 6))\n",
    "    sns.heatmap(cm, annot=True, fmt=\"d\", cmap='Blues', xticklabels=offense_encoder.classes_, yticklabels=offense_encoder.classes_)\n",
    "    plt.title(f\"Confusion Matrix - {model_name}\")\n",
    "    plt.xlabel('Predicted Labels')\n",
    "    plt.ylabel('True Labels')\n",
    "    plt.show()\n",
    "\n",
    "# Display best model details\n",
    "print(\"\\nBest Model:\")\n",
    "print(f\"Best Model: {best_model}\")\n",
    "print(f\"Best Model Accuracy: {best_score:.4f}\")\n"
   ]
  },
  {
   "cell_type": "markdown",
   "id": "708b92fc",
   "metadata": {
    "papermill": {
     "duration": 0.010497,
     "end_time": "2025-05-15T01:01:23.272800",
     "exception": false,
     "start_time": "2025-05-15T01:01:23.262303",
     "status": "completed"
    },
    "tags": []
   },
   "source": [
    "#### Classification Report for All Models:\n",
    "\n",
    "### Explanation of the Classification Results (RandomForest Model)\n",
    "\n",
    "The results you provided are from a **Random Forest** model, which is used for predicting different types of offenses. Let's break down the key components of the results:\n",
    "\n",
    "#### 1. **Accuracy: 0.2822**\n",
    "   - **Accuracy** measures the overall percentage of correct predictions made by the model. An accuracy of 28.22% means the model correctly predicted the offense in about 28% of the cases. This indicates the model's predictions are not highly reliable, as the accuracy is quite low.\n",
    "\n",
    "#### 2. **Classification Report:**\n",
    "   The classification report includes precision, recall, and F1-score for each offense. Let's go over these terms and how they apply to the results:\n",
    "\n",
    "   - **Precision**: The proportion of true positive predictions out of all positive predictions made by the model for a specific class (offense).\n",
    "   - **Recall**: The proportion of true positive predictions out of all actual positive instances in the dataset.\n",
    "   - **F1-Score**: The harmonic mean of precision and recall, providing a balance between the two metrics.\n",
    "   - **Support**: The number of actual occurrences of each class in the test set.\n",
    "\n",
    "   Let's analyze each offense based on these metrics:\n",
    "\n",
    "   | **Offense**                        | **Precision** | **Recall** | **F1-Score** | **Support** |\n",
    "   |------------------------------------|---------------|------------|--------------|-------------|\n",
    "   | **Assault Simple**                 | 0.2892        | 0.3754     | 0.3267       | 594         |\n",
    "   | **Assist Citizen - Mental/TDO/ECO**| 0.3182        | 0.2274     | 0.2652       | 431         |\n",
    "   | **Hit and Run**                    | 0.2963        | 0.4765     | 0.3654       | 638         |\n",
    "   | **Larceny - All Other**            | 0.2270        | 0.1453     | 0.1772       | 475         |\n",
    "   | **Lost/FoundProperty**             | 0.3333        | 0.2102     | 0.2578       | 352         |\n",
    "   | **Suspicious Activity**            | 0.2344        | 0.2169     | 0.2253       | 484         |\n",
    "   | **Vandalism**                      | 0.2712        | 0.2106     | 0.2371       | 470         |\n",
    "\n",
    "#### 3. **Key Insights from the Report:**\n",
    "\n",
    "- **Precision**:\n",
    "   - The highest precision is for **Larceny - All Other** (0.3333), indicating that when the model predicts this offense, it is correct about 33% of the time. However, this is still quite low.\n",
    "   - **Assist Citizen - Mental/TDO/ECO** has the lowest precision (0.2269), meaning that the model's predictions for this offense tend to be wrong more often than correct.\n",
    "\n",
    "- **Recall**:\n",
    "   - **Hit and Run** has the highest recall (0.4765), meaning the model identifies about 48% of the actual occurrences of this offense. This is better than the precision, which indicates it is missing many true positives but is still able to identify a fair number of cases.\n",
    "   - **Larceny - All Other** and **Suspicious Activity** have the lowest recall values (0.1453 and 0.2169, respectively), indicating that the model is failing to identify most of the actual cases for these offenses.\n",
    "\n",
    "- **F1-Score**:\n",
    "   - The **F1-Score** balances precision and recall. It is highest for **Hit and Run** (0.3654), but still relatively low overall. This suggests the model is better at identifying **Hit and Run** than other offenses but still has room for improvement.\n",
    "   - **Larceny - All Other** has the lowest F1-Score (0.1772), indicating a poor balance between precision and recall for this offense.\n",
    "\n",
    "#### 4. **Macro Average and Weighted Average:**\n",
    "   - **Macro Average**: This gives the average precision, recall, and F1-Score across all classes (offenses) without considering the class distribution. It averages the results for all offenses equally.\n",
    "     - Precision: 0.2814\n",
    "     - Recall: 0.2661\n",
    "     - F1-Score: 0.2649\n",
    "   - **Weighted Average**: This averages the metrics but weighs each class by its support (the number of true instances in the test set). This gives a better sense of overall performance, considering the class distribution.\n",
    "     - Precision: 0.2799\n",
    "     - Recall: 0.2822\n",
    "     - F1-Score: 0.2720\n",
    "\n",
    "#### 5. **Confusion Matrix (Visualization Analysis)**:\n",
    "   - The confusion matrix shows the distribution of true positive, false positive, true negative, and false negative predictions for each class.\n",
    "     - For **Hit and Run**, the model performs relatively well in identifying this offense (304 true positives). However, it also misclassifies some **Hit and Run** instances as other offenses (e.g., **Assault Simple**, **Suspicious Activity**, etc.).\n",
    "     - **Larceny - All Other** is frequently misclassified as **Hit and Run**, **Suspicious Activity**, and others. This is evident from the large number of off-diagonal elements in its row.\n",
    "     - **Assist Citizen - Mental/TDO/ECO** and **Suspicious Activity** are frequently misclassified, as seen by the off-diagonal values in their rows.\n",
    "\n",
    "### Conclusion:\n",
    "The Random Forest model has low accuracy (28.22%), suggesting that it struggles to predict most offenses accurately. Some offenses like **Hit and Run** are better predicted than others, but overall, the model shows a high level of misclassification across all offenses. There may be a need for further tuning of the model, additional feature engineering, or trying different models for better performance.\n",
    "\n",
    "Let me know if you'd like to improve the model or make adjustments based on these results!\n",
    "\n"
   ]
  },
  {
   "cell_type": "markdown",
   "id": "542559d8",
   "metadata": {
    "papermill": {
     "duration": 0.010546,
     "end_time": "2025-05-15T01:01:23.293964",
     "exception": false,
     "start_time": "2025-05-15T01:01:23.283418",
     "status": "completed"
    },
    "tags": []
   },
   "source": [
    "### Model Explanation\n",
    "\n",
    "Once we’ve chosen the best model, we will explain its predictions by examining feature importance for tree-based models and using statistical methods like logistic regression coefficients for linear models."
   ]
  },
  {
   "cell_type": "markdown",
   "id": "d603afab",
   "metadata": {
    "papermill": {
     "duration": 0.010541,
     "end_time": "2025-05-15T01:01:23.315048",
     "exception": false,
     "start_time": "2025-05-15T01:01:23.304507",
     "status": "completed"
    },
    "tags": []
   },
   "source": [
    "#### Feature Importance for Random Forest / Decision Tree\n",
    "\n",
    "##### For Tree-based Models (Random Forest, Decision Tree)\n",
    "\n",
    "For Random Forest or Decision Tree, we can look at feature importance to understand which variables contribute the most to the model's predictions. Here's how you can visualize and interpret the importance of each feature:"
   ]
  },
  {
   "cell_type": "code",
   "execution_count": 23,
   "id": "68e86383",
   "metadata": {
    "execution": {
     "iopub.execute_input": "2025-05-15T01:01:23.337338Z",
     "iopub.status.busy": "2025-05-15T01:01:23.337025Z",
     "iopub.status.idle": "2025-05-15T01:01:23.586446Z",
     "shell.execute_reply": "2025-05-15T01:01:23.585722Z"
    },
    "papermill": {
     "duration": 0.261905,
     "end_time": "2025-05-15T01:01:23.587470",
     "exception": false,
     "start_time": "2025-05-15T01:01:23.325565",
     "status": "completed"
    },
    "tags": []
   },
   "outputs": [
    {
     "data": {
      "image/png": "[encoded data removed]",
      "text/plain": [
       "<Figure size 1000x600 with 1 Axes>"
      ]
     },
     "metadata": {},
     "output_type": "display_data"
    }
   ],
   "source": [
    "# For RandomForest or DecisionTree models, we can check feature importance\n",
    "if isinstance(best_model, RandomForestClassifier) or isinstance(best_model, DecisionTreeClassifier):\n",
    "    feature_importance = best_model.feature_importances_\n",
    "    feature_names = X.columns\n",
    "    importance_df = pd.DataFrame({'Feature': feature_names, 'Importance': feature_importance})\n",
    "    importance_df = importance_df.sort_values(by='Importance', ascending=False)\n",
    "    \n",
    "    # Plotting the feature importances\n",
    "    plt.figure(figsize=(10, 6))\n",
    "    sns.barplot(x='Importance', y='Feature', data=importance_df)\n",
    "    plt.title(\"Feature Importance\")\n",
    "    plt.show()\n"
   ]
  },
  {
   "cell_type": "code",
   "execution_count": null,
   "id": "b54673b6",
   "metadata": {
    "papermill": {
     "duration": 0.010986,
     "end_time": "2025-05-15T01:01:23.610093",
     "exception": false,
     "start_time": "2025-05-15T01:01:23.599107",
     "status": "completed"
    },
    "tags": []
   },
   "outputs": [],
   "source": []
  },
  {
   "cell_type": "markdown",
   "id": "062324a5",
   "metadata": {
    "papermill": {
     "duration": 0.011002,
     "end_time": "2025-05-15T01:01:23.632156",
     "exception": false,
     "start_time": "2025-05-15T01:01:23.621154",
     "status": "completed"
    },
    "tags": []
   },
   "source": [
    "### Evaluation\n",
    "\n",
    "After training the models and examining their performance, we evaluate the chosen model based on metrics like accuracy, precision, recall, and F1 score.\n",
    "\n"
   ]
  },
  {
   "cell_type": "code",
   "execution_count": 24,
   "id": "8b59feb7",
   "metadata": {
    "execution": {
     "iopub.execute_input": "2025-05-15T01:01:23.655217Z",
     "iopub.status.busy": "2025-05-15T01:01:23.654709Z",
     "iopub.status.idle": "2025-05-15T01:01:23.743212Z",
     "shell.execute_reply": "2025-05-15T01:01:23.742574Z"
    },
    "papermill": {
     "duration": 0.10125,
     "end_time": "2025-05-15T01:01:23.744312",
     "exception": false,
     "start_time": "2025-05-15T01:01:23.643062",
     "status": "completed"
    },
    "tags": []
   },
   "outputs": [
    {
     "name": "stdout",
     "output_type": "stream",
     "text": [
      "Accuracy: 0.2798\n",
      "Classification Report:\n",
      "              precision    recall  f1-score   support\n",
      "\n",
      "           0       0.30      0.35      0.32       603\n",
      "           1       0.32      0.23      0.27       444\n",
      "           2       0.29      0.46      0.35       646\n",
      "           3       0.22      0.17      0.19       463\n",
      "           4       0.30      0.23      0.26       324\n",
      "           5       0.24      0.21      0.22       500\n",
      "           6       0.28      0.20      0.24       505\n",
      "\n",
      "    accuracy                           0.28      3485\n",
      "   macro avg       0.28      0.27      0.26      3485\n",
      "weighted avg       0.28      0.28      0.27      3485\n",
      "\n",
      "Confusion Matrix:\n",
      "[[214  64 156  48  21  67  33]\n",
      " [100 103 112  31  22  49  27]\n",
      " [116  40 300  58  23  63  46]\n",
      " [ 76  26 142  78  30  55  56]\n",
      " [ 23  19  95  33  74  26  54]\n",
      " [103  42 121  53  32 103  46]\n",
      " [ 93  26 119  52  48  64 103]]\n",
      "Precision: 0.2777\n",
      "Recall: 0.2798\n",
      "F1 Score: 0.2715\n"
     ]
    }
   ],
   "source": [
    "from sklearn.metrics import classification_report, confusion_matrix, accuracy_score, precision_score, recall_score, f1_score\n",
    "\n",
    "# Predict on the test set\n",
    "y_pred = best_model.predict(X_test)\n",
    "\n",
    "# Calculate Accuracy\n",
    "accuracy = accuracy_score(y_test, y_pred)\n",
    "print(f\"Accuracy: {accuracy:.4f}\")\n",
    "\n",
    "# Classification Report\n",
    "print(\"Classification Report:\")\n",
    "print(classification_report(y_test, y_pred))\n",
    "\n",
    "# Confusion Matrix\n",
    "conf_matrix = confusion_matrix(y_test, y_pred)\n",
    "print(\"Confusion Matrix:\")\n",
    "print(conf_matrix)\n",
    "\n",
    "# Precision, Recall, F1 Score for each class (Offense Type)\n",
    "precision = precision_score(y_test, y_pred, average='weighted')\n",
    "recall = recall_score(y_test, y_pred, average='weighted')\n",
    "f1 = f1_score(y_test, y_pred, average='weighted')\n",
    "\n",
    "print(f\"Precision: {precision:.4f}\")\n",
    "print(f\"Recall: {recall:.4f}\")\n",
    "print(f\"F1 Score: {f1:.4f}\")\n"
   ]
  },
  {
   "cell_type": "markdown",
   "id": "368a5712",
   "metadata": {
    "papermill": {
     "duration": 0.011134,
     "end_time": "2025-05-15T01:01:23.766945",
     "exception": false,
     "start_time": "2025-05-15T01:01:23.755811",
     "status": "completed"
    },
    "tags": []
   },
   "source": [
    "#### For Logistic Regression (Coefficient Interpretation)\n",
    "\n",
    "For Logistic Regression, the model coefficients can help us understand how each feature affects the likelihood of an offense happening. A positive coefficient indicates a feature increases the likelihood of the offense, and a negative coefficient indicates the opposite."
   ]
  },
  {
   "cell_type": "code",
   "execution_count": 25,
   "id": "62459818",
   "metadata": {
    "execution": {
     "iopub.execute_input": "2025-05-15T01:01:23.790616Z",
     "iopub.status.busy": "2025-05-15T01:01:23.790177Z",
     "iopub.status.idle": "2025-05-15T01:01:23.794833Z",
     "shell.execute_reply": "2025-05-15T01:01:23.794304Z"
    },
    "papermill": {
     "duration": 0.017599,
     "end_time": "2025-05-15T01:01:23.795783",
     "exception": false,
     "start_time": "2025-05-15T01:01:23.778184",
     "status": "completed"
    },
    "tags": []
   },
   "outputs": [],
   "source": [
    "if isinstance(best_model, LogisticRegression):\n",
    "    # Logistic regression coefficients\n",
    "    coef_df = pd.DataFrame({\n",
    "        'Feature': X.columns,\n",
    "        'Coefficient': best_model.coef_[0]\n",
    "    })\n",
    "    coef_df['AbsCoefficient'] = coef_df['Coefficient'].abs()\n",
    "    coef_df = coef_df.sort_values(by='AbsCoefficient', ascending=False)\n",
    "    \n",
    "    # Plotting the coefficients\n",
    "    plt.figure(figsize=(10, 6))\n",
    "    sns.barplot(x='AbsCoefficient', y='Feature', data=coef_df)\n",
    "    plt.title(\"Logistic Regression Coefficients Impact\")\n",
    "    plt.show()\n",
    "\n",
    "    # Print the top 5 most impactful features (by absolute coefficient value)\n",
    "    print(\"Top 5 most impactful features based on coefficients:\")\n",
    "    print(coef_df.head())\n"
   ]
  },
  {
   "cell_type": "markdown",
   "id": "90e75fd1",
   "metadata": {
    "papermill": {
     "duration": 0.011118,
     "end_time": "2025-05-15T01:01:23.818335",
     "exception": false,
     "start_time": "2025-05-15T01:01:23.807217",
     "status": "completed"
    },
    "tags": []
   },
   "source": [
    "Explanation of Output:\n",
    "\n",
    "Feature Importance (Random Forest/Decision Tree): The bar plot will show how important each feature is in the decision-making process. Features at the top of the list are the most influential in predicting the occurrence of offenses.\n",
    "\n",
    "Logistic Regression Coefficients: The bar plot will show the magnitude of the coefficients for each feature. Features with larger absolute values (either positive or negative) have a stronger impact on the model’s predictions. Positive coefficients increase the probability of an offense, while negative coefficients decrease it."
   ]
  },
  {
   "cell_type": "markdown",
   "id": "fb50bc36",
   "metadata": {
    "papermill": {
     "duration": 0.011071,
     "end_time": "2025-05-15T01:01:23.840550",
     "exception": false,
     "start_time": "2025-05-15T01:01:23.829479",
     "status": "completed"
    },
    "tags": []
   },
   "source": []
  }
 ],
 "metadata": {
  "kernelspec": {
   "display_name": "Python 3",
   "language": "python",
   "name": "python3"
  },
  "language_info": {
   "codemirror_mode": {
    "name": "ipython",
    "version": 3
   },
   "file_extension": ".py",
   "mimetype": "text/x-python",
   "name": "python",
   "nbconvert_exporter": "python",
   "pygments_lexer": "ipython3",
   "version": "3.9.22"
  },
  "papermill": {
   "default_parameters": {},
   "duration": 80.684313,
   "end_time": "2025-05-15T01:01:24.268030",
   "environment_variables": {},
   "exception": null,
   "input_path": "notebook/Crime Data.ipynb",
   "output_path": "notebook/Crime Data_output.ipynb",
   "parameters": {},
   "start_time": "2025-05-15T01:00:03.583717",
   "version": "2.6.0"
  }
 },
 "nbformat": 4,
 "nbformat_minor": 5
}