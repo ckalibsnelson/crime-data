{
 "cells": [
  {
   "cell_type": "markdown",
   "id": "01aa02a2",
   "metadata": {
    "papermill": {
     "duration": 0.006152,
     "end_time": "2025-05-29T01:03:27.327751",
     "exception": false,
     "start_time": "2025-05-29T01:03:27.321599",
     "status": "completed"
    },
    "tags": []
   },
   "source": [
    "# Charlottesville Open Data Porttal: Crime Data"
   ]
  },
  {
   "cell_type": "markdown",
   "id": "6de77785",
   "metadata": {
    "papermill": {
     "duration": 0.005106,
     "end_time": "2025-05-29T01:03:27.338321",
     "exception": false,
     "start_time": "2025-05-29T01:03:27.333215",
     "status": "completed"
    },
    "tags": []
   },
   "source": [
    "## Import Relevant Librarires & Set WD"
   ]
  },
  {
   "cell_type": "code",
   "execution_count": 1,
   "id": "cf0e0bb7",
   "metadata": {
    "execution": {
     "iopub.execute_input": "2025-05-29T01:03:27.349981Z",
     "iopub.status.busy": "2025-05-29T01:03:27.349535Z",
     "iopub.status.idle": "2025-05-29T01:03:27.971062Z",
     "shell.execute_reply": "2025-05-29T01:03:27.970373Z"
    },
    "papermill": {
     "duration": 0.62907,
     "end_time": "2025-05-29T01:03:27.972502",
     "exception": false,
     "start_time": "2025-05-29T01:03:27.343432",
     "status": "completed"
    },
    "tags": []
   },
   "outputs": [],
   "source": [
    "import requests\n",
    "import pandas as pd\n",
    "import numpy as np\n",
    "import pickle\n",
    "import googlemaps\n",
    "import plotly.express as px\n",
    "from geopy.geocoders import Nominatim\n",
    "import time\n",
    "from dotenv import load_dotenv\n",
    "import os\n",
    "\n",
    "env_path = os.path.join(\"..\", \".env\")\n",
    "#print(\"Looking for .env file at:\", os.path.abspath(env_path))\n",
    "load_dotenv(dotenv_path=env_path)\n",
    "\n",
    "# Retrieve the variables\n",
    "GOOGLE_API_KEY = os.getenv(\"GOOGLE_API_KEY\")\n",
    "WORKING_DIR = os.getenv(\"WORKING_DIR\")\n",
    "\n",
    "if GOOGLE_API_KEY is None or WORKING_DIR is None:\n",
    "    raise RuntimeError(\"No configuration found. Please ensure that your .env file exists with the required variables, or create a local config.py file.\")\n",
    "\n",
    "#print(\"Google API Key:\", GOOGLE_API_KEY)\n",
    "#print(\"Working Directory:\", WORKING_DIR)"
   ]
  },
  {
   "cell_type": "markdown",
   "id": "bce28b97",
   "metadata": {
    "papermill": {
     "duration": 0.005146,
     "end_time": "2025-05-29T01:03:27.983253",
     "exception": false,
     "start_time": "2025-05-29T01:03:27.978107",
     "status": "completed"
    },
    "tags": []
   },
   "source": [
    "## Import Data\n",
    "\n",
    "URL: https://opendata.charlottesville.org/datasets/charlottesville::crime-data/about"
   ]
  },
  {
   "cell_type": "code",
   "execution_count": 2,
   "id": "cded9e31",
   "metadata": {
    "execution": {
     "iopub.execute_input": "2025-05-29T01:03:27.995901Z",
     "iopub.status.busy": "2025-05-29T01:03:27.995289Z",
     "iopub.status.idle": "2025-05-29T01:04:27.813634Z",
     "shell.execute_reply": "2025-05-29T01:04:27.812874Z"
    },
    "papermill": {
     "duration": 59.852281,
     "end_time": "2025-05-29T01:04:27.841413",
     "exception": false,
     "start_time": "2025-05-29T01:03:27.989132",
     "status": "completed"
    },
    "tags": []
   },
   "outputs": [
    {
     "name": "stdout",
     "output_type": "stream",
     "text": [
      "Total records imported: 25430\n"
     ]
    }
   ],
   "source": [
    "# Define the endpoint and initial parameters.\n",
    "url = \"https://gisweb.charlottesville.org/arcgis/rest/services/OpenData_2/MapServer/6/query\"\n",
    "params = {\n",
    "    \"where\": \"1=1\",\n",
    "    \"outFields\": \"*\",\n",
    "    \"outSR\": 4326,\n",
    "    \"f\": \"json\",\n",
    "    \"resultOffset\": 0,       # Starting index for results\n",
    "    \"resultRecordCount\": 10000  # Maximum records per batch (if allowed by the API)\n",
    "}\n",
    "\n",
    "records = []\n",
    "\n",
    "while True:\n",
    "    response = requests.get(url, params=params)\n",
    "    response.raise_for_status()\n",
    "    data = response.json()\n",
    "    \n",
    "    # Get the current batch of features.\n",
    "    features = data.get(\"features\", [])\n",
    "    if not features:\n",
    "        break\n",
    "\n",
    "    # Extract the attributes from the features.\n",
    "    batch_records = [feature.get(\"attributes\", {}) for feature in features]\n",
    "    records.extend(batch_records)\n",
    "    \n",
    "    # If the batch size is less than the requested count, we reached the end.\n",
    "    if len(features) < params[\"resultRecordCount\"]:\n",
    "        break\n",
    "\n",
    "    # Update the resultOffset for the next batch.\n",
    "    params[\"resultOffset\"] += params[\"resultRecordCount\"]\n",
    "\n",
    "# Create a DataFrame from the combined records.\n",
    "df = pd.DataFrame(records)\n",
    "print(\"Total records imported:\", len(df))\n"
   ]
  },
  {
   "cell_type": "code",
   "execution_count": 3,
   "id": "7a798c7d",
   "metadata": {
    "execution": {
     "iopub.execute_input": "2025-05-29T01:04:27.853268Z",
     "iopub.status.busy": "2025-05-29T01:04:27.852974Z",
     "iopub.status.idle": "2025-05-29T01:04:27.865556Z",
     "shell.execute_reply": "2025-05-29T01:04:27.865010Z"
    },
    "papermill": {
     "duration": 0.019826,
     "end_time": "2025-05-29T01:04:27.866531",
     "exception": false,
     "start_time": "2025-05-29T01:04:27.846705",
     "status": "completed"
    },
    "tags": []
   },
   "outputs": [
    {
     "data": {
      "text/html": [
       "<div>\n",
       "<style scoped>\n",
       "    .dataframe tbody tr th:only-of-type {\n",
       "        vertical-align: middle;\n",
       "    }\n",
       "\n",
       "    .dataframe tbody tr th {\n",
       "        vertical-align: top;\n",
       "    }\n",
       "\n",
       "    .dataframe thead th {\n",
       "        text-align: right;\n",
       "    }\n",
       "</style>\n",
       "<table border=\"1\" class=\"dataframe\">\n",
       "  <thead>\n",
       "    <tr style=\"text-align: right;\">\n",
       "      <th></th>\n",
       "      <th>RecordID</th>\n",
       "      <th>Offense</th>\n",
       "      <th>IncidentID</th>\n",
       "      <th>BlockNumber</th>\n",
       "      <th>StreetName</th>\n",
       "      <th>Agency</th>\n",
       "      <th>DateReported</th>\n",
       "      <th>HourReported</th>\n",
       "      <th>ReportingOfficer</th>\n",
       "    </tr>\n",
       "  </thead>\n",
       "  <tbody>\n",
       "    <tr>\n",
       "      <th>0</th>\n",
       "      <td>1</td>\n",
       "      <td>Larceny - From Motor Vehicle</td>\n",
       "      <td>202500017970</td>\n",
       "      <td>1400</td>\n",
       "      <td>PEN PARK RD</td>\n",
       "      <td>CPD</td>\n",
       "      <td>1748307369000</td>\n",
       "      <td>2056</td>\n",
       "      <td>Vlasis, Christopher</td>\n",
       "    </tr>\n",
       "    <tr>\n",
       "      <th>1</th>\n",
       "      <td>2</td>\n",
       "      <td>Misc - Criminal Call</td>\n",
       "      <td>202500017964</td>\n",
       "      <td>2000</td>\n",
       "      <td>HOLIDAY DR</td>\n",
       "      <td>CPD</td>\n",
       "      <td>1748304030000</td>\n",
       "      <td>2000</td>\n",
       "      <td>Vlasis, Christopher</td>\n",
       "    </tr>\n",
       "    <tr>\n",
       "      <th>2</th>\n",
       "      <td>3</td>\n",
       "      <td>Assault Simple</td>\n",
       "      <td>202500017957</td>\n",
       "      <td>700</td>\n",
       "      <td>E MAIN ST</td>\n",
       "      <td>CPD</td>\n",
       "      <td>1748300732000</td>\n",
       "      <td>1905</td>\n",
       "      <td>Essex, Dominique</td>\n",
       "    </tr>\n",
       "    <tr>\n",
       "      <th>3</th>\n",
       "      <td>4</td>\n",
       "      <td>Burglary</td>\n",
       "      <td>202500017951</td>\n",
       "      <td>300</td>\n",
       "      <td>MONTEBELLO CIR</td>\n",
       "      <td>CPD</td>\n",
       "      <td>1748296795000</td>\n",
       "      <td>1759</td>\n",
       "      <td>Crowley, Raeann</td>\n",
       "    </tr>\n",
       "    <tr>\n",
       "      <th>4</th>\n",
       "      <td>5</td>\n",
       "      <td>Misc - Non-Criminal Call</td>\n",
       "      <td>202500017937</td>\n",
       "      <td>2100</td>\n",
       "      <td>MICHIE DR, 35</td>\n",
       "      <td>CPD</td>\n",
       "      <td>1748289073000</td>\n",
       "      <td>1551</td>\n",
       "      <td>Vlasis, Christopher</td>\n",
       "    </tr>\n",
       "  </tbody>\n",
       "</table>\n",
       "</div>"
      ],
      "text/plain": [
       "   RecordID                       Offense    IncidentID BlockNumber  \\\n",
       "0         1  Larceny - From Motor Vehicle  202500017970        1400   \n",
       "1         2          Misc - Criminal Call  202500017964        2000   \n",
       "2         3                Assault Simple  202500017957         700   \n",
       "3         4                      Burglary  202500017951         300   \n",
       "4         5      Misc - Non-Criminal Call  202500017937        2100   \n",
       "\n",
       "       StreetName Agency   DateReported HourReported     ReportingOfficer  \n",
       "0     PEN PARK RD    CPD  1748307369000         2056  Vlasis, Christopher  \n",
       "1      HOLIDAY DR    CPD  1748304030000         2000  Vlasis, Christopher  \n",
       "2       E MAIN ST    CPD  1748300732000         1905     Essex, Dominique  \n",
       "3  MONTEBELLO CIR    CPD  1748296795000         1759      Crowley, Raeann  \n",
       "4   MICHIE DR, 35    CPD  1748289073000         1551  Vlasis, Christopher  "
      ]
     },
     "execution_count": 3,
     "metadata": {},
     "output_type": "execute_result"
    }
   ],
   "source": [
    "df.head()"
   ]
  },
  {
   "cell_type": "code",
   "execution_count": 4,
   "id": "5cca9b3d",
   "metadata": {
    "execution": {
     "iopub.execute_input": "2025-05-29T01:04:27.878193Z",
     "iopub.status.busy": "2025-05-29T01:04:27.877780Z",
     "iopub.status.idle": "2025-05-29T01:04:27.882224Z",
     "shell.execute_reply": "2025-05-29T01:04:27.881671Z"
    },
    "papermill": {
     "duration": 0.011355,
     "end_time": "2025-05-29T01:04:27.883218",
     "exception": false,
     "start_time": "2025-05-29T01:04:27.871863",
     "status": "completed"
    },
    "tags": []
   },
   "outputs": [
    {
     "data": {
      "text/plain": [
       "Index(['RecordID', 'Offense', 'IncidentID', 'BlockNumber', 'StreetName',\n",
       "       'Agency', 'DateReported', 'HourReported', 'ReportingOfficer'],\n",
       "      dtype='object')"
      ]
     },
     "execution_count": 4,
     "metadata": {},
     "output_type": "execute_result"
    }
   ],
   "source": [
    "df.columns"
   ]
  },
  {
   "cell_type": "code",
   "execution_count": 5,
   "id": "fd8ae4e9",
   "metadata": {
    "execution": {
     "iopub.execute_input": "2025-05-29T01:04:27.894938Z",
     "iopub.status.busy": "2025-05-29T01:04:27.894619Z",
     "iopub.status.idle": "2025-05-29T01:04:27.918755Z",
     "shell.execute_reply": "2025-05-29T01:04:27.918103Z"
    },
    "papermill": {
     "duration": 0.031102,
     "end_time": "2025-05-29T01:04:27.919774",
     "exception": false,
     "start_time": "2025-05-29T01:04:27.888672",
     "status": "completed"
    },
    "tags": []
   },
   "outputs": [
    {
     "name": "stdout",
     "output_type": "stream",
     "text": [
      "<class 'pandas.core.frame.DataFrame'>\n",
      "RangeIndex: 25430 entries, 0 to 25429\n",
      "Data columns (total 9 columns):\n",
      " #   Column            Non-Null Count  Dtype \n",
      "---  ------            --------------  ----- \n",
      " 0   RecordID          25430 non-null  int64 \n",
      " 1   Offense           25430 non-null  object\n",
      " 2   IncidentID        25430 non-null  object\n",
      " 3   BlockNumber       25430 non-null  object\n",
      " 4   StreetName        25430 non-null  object\n",
      " 5   Agency            25430 non-null  object\n",
      " 6   DateReported      25430 non-null  int64 \n",
      " 7   HourReported      25430 non-null  object\n",
      " 8   ReportingOfficer  25413 non-null  object\n",
      "dtypes: int64(2), object(7)\n",
      "memory usage: 1.7+ MB\n"
     ]
    }
   ],
   "source": [
    "df.info()"
   ]
  },
  {
   "cell_type": "markdown",
   "id": "1cd2e227",
   "metadata": {
    "papermill": {
     "duration": 0.005518,
     "end_time": "2025-05-29T01:04:27.931078",
     "exception": false,
     "start_time": "2025-05-29T01:04:27.925560",
     "status": "completed"
    },
    "tags": []
   },
   "source": [
    "### Missing Values"
   ]
  },
  {
   "cell_type": "code",
   "execution_count": 6,
   "id": "739f19cf",
   "metadata": {
    "execution": {
     "iopub.execute_input": "2025-05-29T01:04:27.943390Z",
     "iopub.status.busy": "2025-05-29T01:04:27.942769Z",
     "iopub.status.idle": "2025-05-29T01:04:27.964046Z",
     "shell.execute_reply": "2025-05-29T01:04:27.963492Z"
    },
    "papermill": {
     "duration": 0.028508,
     "end_time": "2025-05-29T01:04:27.965118",
     "exception": false,
     "start_time": "2025-05-29T01:04:27.936610",
     "status": "completed"
    },
    "tags": []
   },
   "outputs": [
    {
     "name": "stdout",
     "output_type": "stream",
     "text": [
      "                  MissingCount  MissingPercentage\n",
      "RecordID                     0               0.00\n",
      "Offense                      0               0.00\n",
      "IncidentID                   0               0.00\n",
      "BlockNumber                  0               0.00\n",
      "StreetName                   0               0.00\n",
      "Agency                       0               0.00\n",
      "DateReported                 0               0.00\n",
      "HourReported                 0               0.00\n",
      "ReportingOfficer            17               0.07\n"
     ]
    }
   ],
   "source": [
    "def missing_percentage(df):\n",
    "    \"\"\"\n",
    "    Returns a DataFrame with the count and percentage of missing values for each column.\n",
    "    \n",
    "    Parameters:\n",
    "        df (pd.DataFrame): The input DataFrame.\n",
    "    \n",
    "    Returns:\n",
    "        pd.DataFrame: A DataFrame with columns 'MissingCount' and 'MissingPercentage'.\n",
    "    \"\"\"\n",
    "    total_rows = len(df)\n",
    "    missing_count = df.isnull().sum()\n",
    "    missing_percent = (missing_count / total_rows) * 100\n",
    "    \n",
    "    result = pd.DataFrame({\n",
    "        'MissingCount': missing_count,\n",
    "        'MissingPercentage': missing_percent.round(2)\n",
    "    })\n",
    "    \n",
    "    return result\n",
    "\n",
    "# Example usage:\n",
    "missing_info = missing_percentage(df)\n",
    "print(missing_info)\n"
   ]
  },
  {
   "cell_type": "markdown",
   "id": "244417fb",
   "metadata": {
    "papermill": {
     "duration": 0.005651,
     "end_time": "2025-05-29T01:04:27.976565",
     "exception": false,
     "start_time": "2025-05-29T01:04:27.970914",
     "status": "completed"
    },
    "tags": []
   },
   "source": [
    "## Data Preparation"
   ]
  },
  {
   "cell_type": "markdown",
   "id": "e8e28985",
   "metadata": {
    "papermill": {
     "duration": 0.005575,
     "end_time": "2025-05-29T01:04:27.987854",
     "exception": false,
     "start_time": "2025-05-29T01:04:27.982279",
     "status": "completed"
    },
    "tags": []
   },
   "source": [
    "### Data Conversion"
   ]
  },
  {
   "cell_type": "code",
   "execution_count": 7,
   "id": "06991f41",
   "metadata": {
    "execution": {
     "iopub.execute_input": "2025-05-29T01:04:28.000313Z",
     "iopub.status.busy": "2025-05-29T01:04:27.999818Z",
     "iopub.status.idle": "2025-05-29T01:04:28.370413Z",
     "shell.execute_reply": "2025-05-29T01:04:28.369728Z"
    },
    "papermill": {
     "duration": 0.378111,
     "end_time": "2025-05-29T01:04:28.371520",
     "exception": false,
     "start_time": "2025-05-29T01:04:27.993409",
     "status": "completed"
    },
    "tags": []
   },
   "outputs": [
    {
     "data": {
      "text/html": [
       "<div>\n",
       "<style scoped>\n",
       "    .dataframe tbody tr th:only-of-type {\n",
       "        vertical-align: middle;\n",
       "    }\n",
       "\n",
       "    .dataframe tbody tr th {\n",
       "        vertical-align: top;\n",
       "    }\n",
       "\n",
       "    .dataframe thead th {\n",
       "        text-align: right;\n",
       "    }\n",
       "</style>\n",
       "<table border=\"1\" class=\"dataframe\">\n",
       "  <thead>\n",
       "    <tr style=\"text-align: right;\">\n",
       "      <th></th>\n",
       "      <th>RecordID</th>\n",
       "      <th>Offense</th>\n",
       "      <th>IncidentID</th>\n",
       "      <th>BlockNumber</th>\n",
       "      <th>StreetName</th>\n",
       "      <th>Agency</th>\n",
       "      <th>HourReported</th>\n",
       "      <th>ReportingOfficer</th>\n",
       "      <th>Date</th>\n",
       "      <th>DateString</th>\n",
       "      <th>DayOfWeek</th>\n",
       "      <th>Weekend</th>\n",
       "      <th>Season</th>\n",
       "      <th>HourAMPM</th>\n",
       "      <th>TimeOfDay</th>\n",
       "    </tr>\n",
       "  </thead>\n",
       "  <tbody>\n",
       "    <tr>\n",
       "      <th>0</th>\n",
       "      <td>1</td>\n",
       "      <td>Larceny - From Motor Vehicle</td>\n",
       "      <td>202500017970</td>\n",
       "      <td>1400</td>\n",
       "      <td>PEN PARK RD</td>\n",
       "      <td>CPD</td>\n",
       "      <td>2056</td>\n",
       "      <td>Vlasis, Christopher</td>\n",
       "      <td>2025-05-26 20:56:09</td>\n",
       "      <td>2025-05-26 08:56:09 PM</td>\n",
       "      <td>Monday</td>\n",
       "      <td>False</td>\n",
       "      <td>Spring</td>\n",
       "      <td>08:56 PM</td>\n",
       "      <td>Evening</td>\n",
       "    </tr>\n",
       "    <tr>\n",
       "      <th>1</th>\n",
       "      <td>2</td>\n",
       "      <td>Misc - Criminal Call</td>\n",
       "      <td>202500017964</td>\n",
       "      <td>2000</td>\n",
       "      <td>HOLIDAY DR</td>\n",
       "      <td>CPD</td>\n",
       "      <td>2000</td>\n",
       "      <td>Vlasis, Christopher</td>\n",
       "      <td>2025-05-26 20:00:30</td>\n",
       "      <td>2025-05-26 08:00:30 PM</td>\n",
       "      <td>Monday</td>\n",
       "      <td>False</td>\n",
       "      <td>Spring</td>\n",
       "      <td>08:00 PM</td>\n",
       "      <td>Evening</td>\n",
       "    </tr>\n",
       "    <tr>\n",
       "      <th>2</th>\n",
       "      <td>3</td>\n",
       "      <td>Assault Simple</td>\n",
       "      <td>202500017957</td>\n",
       "      <td>700</td>\n",
       "      <td>E MAIN ST</td>\n",
       "      <td>CPD</td>\n",
       "      <td>1905</td>\n",
       "      <td>Essex, Dominique</td>\n",
       "      <td>2025-05-26 19:05:32</td>\n",
       "      <td>2025-05-26 07:05:32 PM</td>\n",
       "      <td>Monday</td>\n",
       "      <td>False</td>\n",
       "      <td>Spring</td>\n",
       "      <td>07:05 PM</td>\n",
       "      <td>Evening</td>\n",
       "    </tr>\n",
       "    <tr>\n",
       "      <th>3</th>\n",
       "      <td>4</td>\n",
       "      <td>Burglary</td>\n",
       "      <td>202500017951</td>\n",
       "      <td>300</td>\n",
       "      <td>MONTEBELLO CIR</td>\n",
       "      <td>CPD</td>\n",
       "      <td>1759</td>\n",
       "      <td>Crowley, Raeann</td>\n",
       "      <td>2025-05-26 17:59:55</td>\n",
       "      <td>2025-05-26 05:59:55 PM</td>\n",
       "      <td>Monday</td>\n",
       "      <td>False</td>\n",
       "      <td>Spring</td>\n",
       "      <td>05:59 PM</td>\n",
       "      <td>Evening</td>\n",
       "    </tr>\n",
       "    <tr>\n",
       "      <th>4</th>\n",
       "      <td>5</td>\n",
       "      <td>Misc - Non-Criminal Call</td>\n",
       "      <td>202500017937</td>\n",
       "      <td>2100</td>\n",
       "      <td>MICHIE DR, 35</td>\n",
       "      <td>CPD</td>\n",
       "      <td>1551</td>\n",
       "      <td>Vlasis, Christopher</td>\n",
       "      <td>2025-05-26 15:51:13</td>\n",
       "      <td>2025-05-26 03:51:13 PM</td>\n",
       "      <td>Monday</td>\n",
       "      <td>False</td>\n",
       "      <td>Spring</td>\n",
       "      <td>03:51 PM</td>\n",
       "      <td>Afternoon</td>\n",
       "    </tr>\n",
       "  </tbody>\n",
       "</table>\n",
       "</div>"
      ],
      "text/plain": [
       "   RecordID                       Offense    IncidentID BlockNumber  \\\n",
       "0         1  Larceny - From Motor Vehicle  202500017970        1400   \n",
       "1         2          Misc - Criminal Call  202500017964        2000   \n",
       "2         3                Assault Simple  202500017957         700   \n",
       "3         4                      Burglary  202500017951         300   \n",
       "4         5      Misc - Non-Criminal Call  202500017937        2100   \n",
       "\n",
       "       StreetName Agency HourReported     ReportingOfficer  \\\n",
       "0     PEN PARK RD    CPD         2056  Vlasis, Christopher   \n",
       "1      HOLIDAY DR    CPD         2000  Vlasis, Christopher   \n",
       "2       E MAIN ST    CPD         1905     Essex, Dominique   \n",
       "3  MONTEBELLO CIR    CPD         1759      Crowley, Raeann   \n",
       "4   MICHIE DR, 35    CPD         1551  Vlasis, Christopher   \n",
       "\n",
       "                 Date              DateString DayOfWeek  Weekend  Season  \\\n",
       "0 2025-05-26 20:56:09  2025-05-26 08:56:09 PM    Monday    False  Spring   \n",
       "1 2025-05-26 20:00:30  2025-05-26 08:00:30 PM    Monday    False  Spring   \n",
       "2 2025-05-26 19:05:32  2025-05-26 07:05:32 PM    Monday    False  Spring   \n",
       "3 2025-05-26 17:59:55  2025-05-26 05:59:55 PM    Monday    False  Spring   \n",
       "4 2025-05-26 15:51:13  2025-05-26 03:51:13 PM    Monday    False  Spring   \n",
       "\n",
       "   HourAMPM  TimeOfDay  \n",
       "0  08:56 PM    Evening  \n",
       "1  08:00 PM    Evening  \n",
       "2  07:05 PM    Evening  \n",
       "3  05:59 PM    Evening  \n",
       "4  03:51 PM  Afternoon  "
      ]
     },
     "execution_count": 7,
     "metadata": {},
     "output_type": "execute_result"
    }
   ],
   "source": [
    "def convert_and_categorize_datereported(df, col='DateReported'):\n",
    "    \"\"\"\n",
    "    Converts an epoch (in milliseconds) date column into a timezone-aware datetime,\n",
    "    converts it to Eastern Time, and then creates columns for day-of-week, weekend flag,\n",
    "    season, 12-hour formatted time, and time-of-day. Keeps both a real datetime column\n",
    "    (Date) and a string representation (DateString).\n",
    "    \"\"\"\n",
    "    import pandas as pd\n",
    "\n",
    "    # Convert the epoch timestamp to a pandas datetime object as UTC, then convert to US/Eastern.\n",
    "    df[\"DateReported_dt\"] = (\n",
    "        pd.to_datetime(df[col], unit=\"ms\", errors=\"coerce\", utc=True)\n",
    "        .dt.tz_convert(\"US/Eastern\")\n",
    "    )\n",
    "    \n",
    "    # Create a true datetime column (remove timezone if you prefer naive datetime)\n",
    "    df[\"Date\"] = df[\"DateReported_dt\"].dt.tz_localize(None)\n",
    "\n",
    "    # Optionally, create a separate string-formatted column\n",
    "    df[\"DateString\"] = df[\"DateReported_dt\"].dt.strftime(\"%Y-%m-%d %I:%M:%S %p\")\n",
    "    \n",
    "    # DayOfWeek\n",
    "    df[\"DayOfWeek\"] = df[\"DateReported_dt\"].dt.day_name()\n",
    "    \n",
    "    # Weekend\n",
    "    df[\"Weekend\"] = df[\"DayOfWeek\"].isin([\"Saturday\", \"Sunday\"])\n",
    "    \n",
    "    # Helper function to determine the season\n",
    "    def get_season(dt):\n",
    "        month = dt.month\n",
    "        day = dt.day\n",
    "        # Approximate Northern Hemisphere season boundaries:\n",
    "        if (month == 12 and day >= 21) or (month < 3) or (month == 3 and day < 20):\n",
    "            return \"Winter\"\n",
    "        elif (month == 3 and day >= 20) or (month < 6) or (month == 6 and day < 21):\n",
    "            return \"Spring\"\n",
    "        elif (month == 6 and day >= 21) or (month < 9) or (month == 9 and day < 22):\n",
    "            return \"Summer\"\n",
    "        else:\n",
    "            return \"Autumn\"\n",
    "    \n",
    "    df[\"Season\"] = df[\"DateReported_dt\"].apply(get_season)\n",
    "    \n",
    "    # 12-hour formatted time (HourAMPM)\n",
    "    df[\"HourAMPM\"] = df[\"DateReported_dt\"].dt.strftime(\"%I:%M %p\")\n",
    "    \n",
    "    # Extract hour (0-23) for time-of-day\n",
    "    df[\"HourValue\"] = df[\"DateReported_dt\"].dt.hour\n",
    "    \n",
    "    def time_of_day(hour):\n",
    "        if pd.isnull(hour):\n",
    "            return None\n",
    "        if 5 <= hour < 12:\n",
    "            return \"Morning\"\n",
    "        elif 12 <= hour < 17:\n",
    "            return \"Afternoon\"\n",
    "        elif 17 <= hour < 21:\n",
    "            return \"Evening\"\n",
    "        else:\n",
    "            return \"Night\"\n",
    "    \n",
    "    df[\"TimeOfDay\"] = df[\"HourValue\"].apply(time_of_day)\n",
    "    \n",
    "    # Drop columns you no longer need\n",
    "    df.drop(columns=[col, \"DateReported_dt\", \"HourValue\"], inplace=True)\n",
    "    \n",
    "    return df\n",
    "\n",
    "# Example usage:\n",
    "df = convert_and_categorize_datereported(df)\n",
    "df.head()\n"
   ]
  },
  {
   "cell_type": "code",
   "execution_count": 8,
   "id": "65ea6901",
   "metadata": {
    "execution": {
     "iopub.execute_input": "2025-05-29T01:04:28.384776Z",
     "iopub.status.busy": "2025-05-29T01:04:28.384364Z",
     "iopub.status.idle": "2025-05-29T01:04:28.412431Z",
     "shell.execute_reply": "2025-05-29T01:04:28.411863Z"
    },
    "papermill": {
     "duration": 0.035718,
     "end_time": "2025-05-29T01:04:28.413475",
     "exception": false,
     "start_time": "2025-05-29T01:04:28.377757",
     "status": "completed"
    },
    "tags": []
   },
   "outputs": [
    {
     "name": "stdout",
     "output_type": "stream",
     "text": [
      "<class 'pandas.core.frame.DataFrame'>\n",
      "RangeIndex: 25430 entries, 0 to 25429\n",
      "Data columns (total 15 columns):\n",
      " #   Column            Non-Null Count  Dtype         \n",
      "---  ------            --------------  -----         \n",
      " 0   RecordID          25430 non-null  int64         \n",
      " 1   Offense           25430 non-null  object        \n",
      " 2   IncidentID        25430 non-null  object        \n",
      " 3   BlockNumber       25430 non-null  object        \n",
      " 4   StreetName        25430 non-null  object        \n",
      " 5   Agency            25430 non-null  object        \n",
      " 6   HourReported      25430 non-null  object        \n",
      " 7   ReportingOfficer  25413 non-null  object        \n",
      " 8   Date              25430 non-null  datetime64[ns]\n",
      " 9   DateString        25430 non-null  object        \n",
      " 10  DayOfWeek         25430 non-null  object        \n",
      " 11  Weekend           25430 non-null  bool          \n",
      " 12  Season            25430 non-null  object        \n",
      " 13  HourAMPM          25430 non-null  object        \n",
      " 14  TimeOfDay         25430 non-null  object        \n",
      "dtypes: bool(1), datetime64[ns](1), int64(1), object(12)\n",
      "memory usage: 2.7+ MB\n"
     ]
    }
   ],
   "source": [
    "df.info()"
   ]
  },
  {
   "cell_type": "markdown",
   "id": "a4244af5",
   "metadata": {
    "papermill": {
     "duration": 0.005962,
     "end_time": "2025-05-29T01:04:28.425596",
     "exception": false,
     "start_time": "2025-05-29T01:04:28.419634",
     "status": "completed"
    },
    "tags": []
   },
   "source": [
    "### Coordinates"
   ]
  },
  {
   "cell_type": "code",
   "execution_count": 9,
   "id": "89b1a6f5",
   "metadata": {
    "execution": {
     "iopub.execute_input": "2025-05-29T01:04:28.438786Z",
     "iopub.status.busy": "2025-05-29T01:04:28.438308Z",
     "iopub.status.idle": "2025-05-29T01:04:28.917810Z",
     "shell.execute_reply": "2025-05-29T01:04:28.917206Z"
    },
    "papermill": {
     "duration": 0.487338,
     "end_time": "2025-05-29T01:04:28.918871",
     "exception": false,
     "start_time": "2025-05-29T01:04:28.431533",
     "status": "completed"
    },
    "tags": []
   },
   "outputs": [
    {
     "name": "stdout",
     "output_type": "stream",
     "text": [
      "Loaded geocode cache.\n"
     ]
    },
    {
     "name": "stdout",
     "output_type": "stream",
     "text": [
      "Geocoded 2100 MICHIE DR, 35: 38.062986, -78.483828\n"
     ]
    },
    {
     "name": "stdout",
     "output_type": "stream",
     "text": [
      "Geocoded 2100 MICHIE DR, 37B: 38.062986, -78.483828\n"
     ]
    },
    {
     "name": "stdout",
     "output_type": "stream",
     "text": [
      "Geocoded 4000 CITY WALK WAY, 240: 38.025822, -78.4696591\n",
      "Geocode cache updated and saved.\n"
     ]
    },
    {
     "data": {
      "text/html": [
       "<div>\n",
       "<style scoped>\n",
       "    .dataframe tbody tr th:only-of-type {\n",
       "        vertical-align: middle;\n",
       "    }\n",
       "\n",
       "    .dataframe tbody tr th {\n",
       "        vertical-align: top;\n",
       "    }\n",
       "\n",
       "    .dataframe thead th {\n",
       "        text-align: right;\n",
       "    }\n",
       "</style>\n",
       "<table border=\"1\" class=\"dataframe\">\n",
       "  <thead>\n",
       "    <tr style=\"text-align: right;\">\n",
       "      <th></th>\n",
       "      <th>RecordID</th>\n",
       "      <th>Offense</th>\n",
       "      <th>IncidentID</th>\n",
       "      <th>BlockNumber</th>\n",
       "      <th>StreetName</th>\n",
       "      <th>Agency</th>\n",
       "      <th>HourReported</th>\n",
       "      <th>ReportingOfficer</th>\n",
       "      <th>Date</th>\n",
       "      <th>DateString</th>\n",
       "      <th>DayOfWeek</th>\n",
       "      <th>Weekend</th>\n",
       "      <th>Season</th>\n",
       "      <th>HourAMPM</th>\n",
       "      <th>TimeOfDay</th>\n",
       "      <th>FullStreet</th>\n",
       "      <th>lat</th>\n",
       "      <th>lon</th>\n",
       "    </tr>\n",
       "  </thead>\n",
       "  <tbody>\n",
       "    <tr>\n",
       "      <th>0</th>\n",
       "      <td>1</td>\n",
       "      <td>Larceny - From Motor Vehicle</td>\n",
       "      <td>202500017970</td>\n",
       "      <td>1400</td>\n",
       "      <td>PEN PARK RD</td>\n",
       "      <td>CPD</td>\n",
       "      <td>2056</td>\n",
       "      <td>Vlasis, Christopher</td>\n",
       "      <td>2025-05-26 20:56:09</td>\n",
       "      <td>2025-05-26 08:56:09 PM</td>\n",
       "      <td>Monday</td>\n",
       "      <td>False</td>\n",
       "      <td>Spring</td>\n",
       "      <td>08:56 PM</td>\n",
       "      <td>Evening</td>\n",
       "      <td>1400 PEN PARK RD</td>\n",
       "      <td>38.049861</td>\n",
       "      <td>-78.451616</td>\n",
       "    </tr>\n",
       "    <tr>\n",
       "      <th>1</th>\n",
       "      <td>2</td>\n",
       "      <td>Misc - Criminal Call</td>\n",
       "      <td>202500017964</td>\n",
       "      <td>2000</td>\n",
       "      <td>HOLIDAY DR</td>\n",
       "      <td>CPD</td>\n",
       "      <td>2000</td>\n",
       "      <td>Vlasis, Christopher</td>\n",
       "      <td>2025-05-26 20:00:30</td>\n",
       "      <td>2025-05-26 08:00:30 PM</td>\n",
       "      <td>Monday</td>\n",
       "      <td>False</td>\n",
       "      <td>Spring</td>\n",
       "      <td>08:00 PM</td>\n",
       "      <td>Evening</td>\n",
       "      <td>2000 HOLIDAY DR</td>\n",
       "      <td>38.057681</td>\n",
       "      <td>-78.491402</td>\n",
       "    </tr>\n",
       "    <tr>\n",
       "      <th>2</th>\n",
       "      <td>3</td>\n",
       "      <td>Assault Simple</td>\n",
       "      <td>202500017957</td>\n",
       "      <td>700</td>\n",
       "      <td>E MAIN ST</td>\n",
       "      <td>CPD</td>\n",
       "      <td>1905</td>\n",
       "      <td>Essex, Dominique</td>\n",
       "      <td>2025-05-26 19:05:32</td>\n",
       "      <td>2025-05-26 07:05:32 PM</td>\n",
       "      <td>Monday</td>\n",
       "      <td>False</td>\n",
       "      <td>Spring</td>\n",
       "      <td>07:05 PM</td>\n",
       "      <td>Evening</td>\n",
       "      <td>700 E MAIN ST</td>\n",
       "      <td>38.029237</td>\n",
       "      <td>-78.476613</td>\n",
       "    </tr>\n",
       "    <tr>\n",
       "      <th>3</th>\n",
       "      <td>4</td>\n",
       "      <td>Burglary</td>\n",
       "      <td>202500017951</td>\n",
       "      <td>300</td>\n",
       "      <td>MONTEBELLO CIR</td>\n",
       "      <td>CPD</td>\n",
       "      <td>1759</td>\n",
       "      <td>Crowley, Raeann</td>\n",
       "      <td>2025-05-26 17:59:55</td>\n",
       "      <td>2025-05-26 05:59:55 PM</td>\n",
       "      <td>Monday</td>\n",
       "      <td>False</td>\n",
       "      <td>Spring</td>\n",
       "      <td>05:59 PM</td>\n",
       "      <td>Evening</td>\n",
       "      <td>300 MONTEBELLO CIR</td>\n",
       "      <td>38.029459</td>\n",
       "      <td>-78.510410</td>\n",
       "    </tr>\n",
       "    <tr>\n",
       "      <th>4</th>\n",
       "      <td>5</td>\n",
       "      <td>Misc - Non-Criminal Call</td>\n",
       "      <td>202500017937</td>\n",
       "      <td>2100</td>\n",
       "      <td>MICHIE DR, 35</td>\n",
       "      <td>CPD</td>\n",
       "      <td>1551</td>\n",
       "      <td>Vlasis, Christopher</td>\n",
       "      <td>2025-05-26 15:51:13</td>\n",
       "      <td>2025-05-26 03:51:13 PM</td>\n",
       "      <td>Monday</td>\n",
       "      <td>False</td>\n",
       "      <td>Spring</td>\n",
       "      <td>03:51 PM</td>\n",
       "      <td>Afternoon</td>\n",
       "      <td>2100 MICHIE DR, 35</td>\n",
       "      <td>38.062986</td>\n",
       "      <td>-78.483828</td>\n",
       "    </tr>\n",
       "  </tbody>\n",
       "</table>\n",
       "</div>"
      ],
      "text/plain": [
       "   RecordID                       Offense    IncidentID BlockNumber  \\\n",
       "0         1  Larceny - From Motor Vehicle  202500017970        1400   \n",
       "1         2          Misc - Criminal Call  202500017964        2000   \n",
       "2         3                Assault Simple  202500017957         700   \n",
       "3         4                      Burglary  202500017951         300   \n",
       "4         5      Misc - Non-Criminal Call  202500017937        2100   \n",
       "\n",
       "       StreetName Agency HourReported     ReportingOfficer  \\\n",
       "0     PEN PARK RD    CPD         2056  Vlasis, Christopher   \n",
       "1      HOLIDAY DR    CPD         2000  Vlasis, Christopher   \n",
       "2       E MAIN ST    CPD         1905     Essex, Dominique   \n",
       "3  MONTEBELLO CIR    CPD         1759      Crowley, Raeann   \n",
       "4   MICHIE DR, 35    CPD         1551  Vlasis, Christopher   \n",
       "\n",
       "                 Date              DateString DayOfWeek  Weekend  Season  \\\n",
       "0 2025-05-26 20:56:09  2025-05-26 08:56:09 PM    Monday    False  Spring   \n",
       "1 2025-05-26 20:00:30  2025-05-26 08:00:30 PM    Monday    False  Spring   \n",
       "2 2025-05-26 19:05:32  2025-05-26 07:05:32 PM    Monday    False  Spring   \n",
       "3 2025-05-26 17:59:55  2025-05-26 05:59:55 PM    Monday    False  Spring   \n",
       "4 2025-05-26 15:51:13  2025-05-26 03:51:13 PM    Monday    False  Spring   \n",
       "\n",
       "   HourAMPM  TimeOfDay          FullStreet        lat        lon  \n",
       "0  08:56 PM    Evening    1400 PEN PARK RD  38.049861 -78.451616  \n",
       "1  08:00 PM    Evening     2000 HOLIDAY DR  38.057681 -78.491402  \n",
       "2  07:05 PM    Evening       700 E MAIN ST  38.029237 -78.476613  \n",
       "3  05:59 PM    Evening  300 MONTEBELLO CIR  38.029459 -78.510410  \n",
       "4  03:51 PM  Afternoon  2100 MICHIE DR, 35  38.062986 -78.483828  "
      ]
     },
     "execution_count": 9,
     "metadata": {},
     "output_type": "execute_result"
    }
   ],
   "source": [
    "# Combine BlockNumber and StreetName into a full address string\n",
    "df['FullStreet'] = df['BlockNumber'].astype(str) + \" \" + df['StreetName']\n",
    "\n",
    "# --- Step 1: Setup the Google Maps Client and Cache ---\n",
    "gmaps = googlemaps.Client(key=GOOGLE_API_KEY)\n",
    "\n",
    "# Try to load cached geocoding results if available.\n",
    "try:\n",
    "    with open(\"geocode_cache_google.pkl\", \"rb\") as f:\n",
    "        street_coords = pickle.load(f)\n",
    "    print(\"Loaded geocode cache.\")\n",
    "except FileNotFoundError:\n",
    "    street_coords = {}\n",
    "    print(\"No cache found; starting fresh.\")\n",
    "\n",
    "def geocode_address(address):\n",
    "    try:\n",
    "        # Append city and state to help geocoding\n",
    "        result = gmaps.geocode(f\"{address}, Charlottesville, VA\")\n",
    "        if result:\n",
    "            lat = result[0]['geometry']['location']['lat']\n",
    "            lon = result[0]['geometry']['location']['lng']\n",
    "            return lat, lon\n",
    "    except Exception as e:\n",
    "        print(f\"Error geocoding {address}: {e}\")\n",
    "    return None, None\n",
    "\n",
    "# --- Step 2: Geocode Only New Addresses ---\n",
    "unique_addresses = df['FullStreet'].unique()\n",
    "for address in unique_addresses:\n",
    "    if address not in street_coords:\n",
    "        lat, lon = geocode_address(address)\n",
    "        street_coords[address] = (lat, lon)\n",
    "        print(f\"Geocoded {address}: {lat}, {lon}\")\n",
    "\n",
    "# Save the updated cache to disk.\n",
    "with open(\"geocode_cache_google.pkl\", \"wb\") as f:\n",
    "    pickle.dump(street_coords, f)\n",
    "    print(\"Geocode cache updated and saved.\")\n",
    "\n",
    "# --- Step 3: Map Coordinates Back to DataFrame ---\n",
    "df['lat'] = df['FullStreet'].map(lambda s: street_coords.get(s, (None, None))[0])\n",
    "df['lon'] = df['FullStreet'].map(lambda s: street_coords.get(s, (None, None))[1])\n",
    "\n",
    "df.head()"
   ]
  },
  {
   "cell_type": "markdown",
   "id": "bfdda405",
   "metadata": {
    "papermill": {
     "duration": 0.006336,
     "end_time": "2025-05-29T01:04:28.931882",
     "exception": false,
     "start_time": "2025-05-29T01:04:28.925546",
     "status": "completed"
    },
    "tags": []
   },
   "source": [
    "### Neighborhood"
   ]
  },
  {
   "cell_type": "code",
   "execution_count": 10,
   "id": "f649b870",
   "metadata": {
    "execution": {
     "iopub.execute_input": "2025-05-29T01:04:28.945482Z",
     "iopub.status.busy": "2025-05-29T01:04:28.945109Z",
     "iopub.status.idle": "2025-05-29T01:04:29.202752Z",
     "shell.execute_reply": "2025-05-29T01:04:29.202050Z"
    },
    "papermill": {
     "duration": 0.265783,
     "end_time": "2025-05-29T01:04:29.203893",
     "exception": false,
     "start_time": "2025-05-29T01:04:28.938110",
     "status": "completed"
    },
    "tags": []
   },
   "outputs": [
    {
     "name": "stdout",
     "output_type": "stream",
     "text": [
      "Loaded neighborhood cache.\n"
     ]
    },
    {
     "data": {
      "text/html": [
       "<div>\n",
       "<style scoped>\n",
       "    .dataframe tbody tr th:only-of-type {\n",
       "        vertical-align: middle;\n",
       "    }\n",
       "\n",
       "    .dataframe tbody tr th {\n",
       "        vertical-align: top;\n",
       "    }\n",
       "\n",
       "    .dataframe thead th {\n",
       "        text-align: right;\n",
       "    }\n",
       "</style>\n",
       "<table border=\"1\" class=\"dataframe\">\n",
       "  <thead>\n",
       "    <tr style=\"text-align: right;\">\n",
       "      <th></th>\n",
       "      <th>RecordID</th>\n",
       "      <th>Offense</th>\n",
       "      <th>IncidentID</th>\n",
       "      <th>BlockNumber</th>\n",
       "      <th>StreetName</th>\n",
       "      <th>Agency</th>\n",
       "      <th>HourReported</th>\n",
       "      <th>ReportingOfficer</th>\n",
       "      <th>Date</th>\n",
       "      <th>DateString</th>\n",
       "      <th>DayOfWeek</th>\n",
       "      <th>Weekend</th>\n",
       "      <th>Season</th>\n",
       "      <th>HourAMPM</th>\n",
       "      <th>TimeOfDay</th>\n",
       "      <th>FullStreet</th>\n",
       "      <th>lat</th>\n",
       "      <th>lon</th>\n",
       "      <th>neighborhood</th>\n",
       "    </tr>\n",
       "  </thead>\n",
       "  <tbody>\n",
       "    <tr>\n",
       "      <th>0</th>\n",
       "      <td>1</td>\n",
       "      <td>Larceny - From Motor Vehicle</td>\n",
       "      <td>202500017970</td>\n",
       "      <td>1400</td>\n",
       "      <td>PEN PARK RD</td>\n",
       "      <td>CPD</td>\n",
       "      <td>2056</td>\n",
       "      <td>Vlasis, Christopher</td>\n",
       "      <td>2025-05-26 20:56:09</td>\n",
       "      <td>2025-05-26 08:56:09 PM</td>\n",
       "      <td>Monday</td>\n",
       "      <td>False</td>\n",
       "      <td>Spring</td>\n",
       "      <td>08:56 PM</td>\n",
       "      <td>Evening</td>\n",
       "      <td>1400 PEN PARK RD</td>\n",
       "      <td>38.049861</td>\n",
       "      <td>-78.451616</td>\n",
       "      <td>Locust Grove</td>\n",
       "    </tr>\n",
       "    <tr>\n",
       "      <th>1</th>\n",
       "      <td>2</td>\n",
       "      <td>Misc - Criminal Call</td>\n",
       "      <td>202500017964</td>\n",
       "      <td>2000</td>\n",
       "      <td>HOLIDAY DR</td>\n",
       "      <td>CPD</td>\n",
       "      <td>2000</td>\n",
       "      <td>Vlasis, Christopher</td>\n",
       "      <td>2025-05-26 20:00:30</td>\n",
       "      <td>2025-05-26 08:00:30 PM</td>\n",
       "      <td>Monday</td>\n",
       "      <td>False</td>\n",
       "      <td>Spring</td>\n",
       "      <td>08:00 PM</td>\n",
       "      <td>Evening</td>\n",
       "      <td>2000 HOLIDAY DR</td>\n",
       "      <td>38.057681</td>\n",
       "      <td>-78.491402</td>\n",
       "      <td>The Meadows</td>\n",
       "    </tr>\n",
       "    <tr>\n",
       "      <th>2</th>\n",
       "      <td>3</td>\n",
       "      <td>Assault Simple</td>\n",
       "      <td>202500017957</td>\n",
       "      <td>700</td>\n",
       "      <td>E MAIN ST</td>\n",
       "      <td>CPD</td>\n",
       "      <td>1905</td>\n",
       "      <td>Essex, Dominique</td>\n",
       "      <td>2025-05-26 19:05:32</td>\n",
       "      <td>2025-05-26 07:05:32 PM</td>\n",
       "      <td>Monday</td>\n",
       "      <td>False</td>\n",
       "      <td>Spring</td>\n",
       "      <td>07:05 PM</td>\n",
       "      <td>Evening</td>\n",
       "      <td>700 E MAIN ST</td>\n",
       "      <td>38.029237</td>\n",
       "      <td>-78.476613</td>\n",
       "      <td>Downtown Mall</td>\n",
       "    </tr>\n",
       "    <tr>\n",
       "      <th>3</th>\n",
       "      <td>4</td>\n",
       "      <td>Burglary</td>\n",
       "      <td>202500017951</td>\n",
       "      <td>300</td>\n",
       "      <td>MONTEBELLO CIR</td>\n",
       "      <td>CPD</td>\n",
       "      <td>1759</td>\n",
       "      <td>Crowley, Raeann</td>\n",
       "      <td>2025-05-26 17:59:55</td>\n",
       "      <td>2025-05-26 05:59:55 PM</td>\n",
       "      <td>Monday</td>\n",
       "      <td>False</td>\n",
       "      <td>Spring</td>\n",
       "      <td>05:59 PM</td>\n",
       "      <td>Evening</td>\n",
       "      <td>300 MONTEBELLO CIR</td>\n",
       "      <td>38.029459</td>\n",
       "      <td>-78.510410</td>\n",
       "      <td>Jefferson Park Avenue</td>\n",
       "    </tr>\n",
       "    <tr>\n",
       "      <th>4</th>\n",
       "      <td>5</td>\n",
       "      <td>Misc - Non-Criminal Call</td>\n",
       "      <td>202500017937</td>\n",
       "      <td>2100</td>\n",
       "      <td>MICHIE DR, 35</td>\n",
       "      <td>CPD</td>\n",
       "      <td>1551</td>\n",
       "      <td>Vlasis, Christopher</td>\n",
       "      <td>2025-05-26 15:51:13</td>\n",
       "      <td>2025-05-26 03:51:13 PM</td>\n",
       "      <td>Monday</td>\n",
       "      <td>False</td>\n",
       "      <td>Spring</td>\n",
       "      <td>03:51 PM</td>\n",
       "      <td>Afternoon</td>\n",
       "      <td>2100 MICHIE DR, 35</td>\n",
       "      <td>38.062986</td>\n",
       "      <td>-78.483828</td>\n",
       "      <td>Greenbrier</td>\n",
       "    </tr>\n",
       "  </tbody>\n",
       "</table>\n",
       "</div>"
      ],
      "text/plain": [
       "   RecordID                       Offense    IncidentID BlockNumber  \\\n",
       "0         1  Larceny - From Motor Vehicle  202500017970        1400   \n",
       "1         2          Misc - Criminal Call  202500017964        2000   \n",
       "2         3                Assault Simple  202500017957         700   \n",
       "3         4                      Burglary  202500017951         300   \n",
       "4         5      Misc - Non-Criminal Call  202500017937        2100   \n",
       "\n",
       "       StreetName Agency HourReported     ReportingOfficer  \\\n",
       "0     PEN PARK RD    CPD         2056  Vlasis, Christopher   \n",
       "1      HOLIDAY DR    CPD         2000  Vlasis, Christopher   \n",
       "2       E MAIN ST    CPD         1905     Essex, Dominique   \n",
       "3  MONTEBELLO CIR    CPD         1759      Crowley, Raeann   \n",
       "4   MICHIE DR, 35    CPD         1551  Vlasis, Christopher   \n",
       "\n",
       "                 Date              DateString DayOfWeek  Weekend  Season  \\\n",
       "0 2025-05-26 20:56:09  2025-05-26 08:56:09 PM    Monday    False  Spring   \n",
       "1 2025-05-26 20:00:30  2025-05-26 08:00:30 PM    Monday    False  Spring   \n",
       "2 2025-05-26 19:05:32  2025-05-26 07:05:32 PM    Monday    False  Spring   \n",
       "3 2025-05-26 17:59:55  2025-05-26 05:59:55 PM    Monday    False  Spring   \n",
       "4 2025-05-26 15:51:13  2025-05-26 03:51:13 PM    Monday    False  Spring   \n",
       "\n",
       "   HourAMPM  TimeOfDay          FullStreet        lat        lon  \\\n",
       "0  08:56 PM    Evening    1400 PEN PARK RD  38.049861 -78.451616   \n",
       "1  08:00 PM    Evening     2000 HOLIDAY DR  38.057681 -78.491402   \n",
       "2  07:05 PM    Evening       700 E MAIN ST  38.029237 -78.476613   \n",
       "3  05:59 PM    Evening  300 MONTEBELLO CIR  38.029459 -78.510410   \n",
       "4  03:51 PM  Afternoon  2100 MICHIE DR, 35  38.062986 -78.483828   \n",
       "\n",
       "            neighborhood  \n",
       "0           Locust Grove  \n",
       "1            The Meadows  \n",
       "2          Downtown Mall  \n",
       "3  Jefferson Park Avenue  \n",
       "4             Greenbrier  "
      ]
     },
     "execution_count": 10,
     "metadata": {},
     "output_type": "execute_result"
    }
   ],
   "source": [
    "# Initialize the Google Maps client.\n",
    "gmaps = googlemaps.Client(key=GOOGLE_API_KEY)\n",
    "\n",
    "# Try to load a persistent neighborhood cache if available.\n",
    "try:\n",
    "    with open(\"neighborhood_cache.pkl\", \"rb\") as f:\n",
    "        neighborhood_cache = pickle.load(f)\n",
    "    print(\"Loaded neighborhood cache.\")\n",
    "except FileNotFoundError:\n",
    "    neighborhood_cache = {}\n",
    "    print(\"No neighborhood cache found; starting fresh.\")\n",
    "\n",
    "def get_neighborhood(lat, lon):\n",
    "    \"\"\"\n",
    "    Reverse geocodes a latitude and longitude to retrieve the neighborhood.\n",
    "    Caches results to speed up subsequent lookups.\n",
    "    \"\"\"\n",
    "    key = (lat, lon)\n",
    "    if key in neighborhood_cache:\n",
    "        return neighborhood_cache[key]\n",
    "    \n",
    "    try:\n",
    "        result = gmaps.reverse_geocode((lat, lon))\n",
    "        if result:\n",
    "            # Look for the 'neighborhood' component in the first result.\n",
    "            for component in result[0]['address_components']:\n",
    "                if 'neighborhood' in component['types']:\n",
    "                    neighborhood = component['long_name']\n",
    "                    neighborhood_cache[key] = neighborhood\n",
    "                    return neighborhood\n",
    "            # If no neighborhood is found, return \"N/A\"\n",
    "            neighborhood_cache[key] = \"N/A\"\n",
    "            return \"N/A\"\n",
    "    except Exception as e:\n",
    "        print(f\"Error getting neighborhood for {lat}, {lon}: {e}\")\n",
    "        return \"N/A\"\n",
    "    \n",
    "    # Pause to respect usage limits.\n",
    "    time.sleep(1)\n",
    "\n",
    "# Example usage: Apply to your DataFrame 'df' that already has 'lat' and 'lon' columns.\n",
    "df['neighborhood'] = df.apply(lambda row: get_neighborhood(row['lat'], row['lon']), axis=1)\n",
    "\n",
    "# Save the updated neighborhood cache.\n",
    "with open(\"neighborhood_cache.pkl\", \"wb\") as f:\n",
    "    pickle.dump(neighborhood_cache, f)\n",
    "\n",
    "df.head()\n"
   ]
  },
  {
   "cell_type": "markdown",
   "id": "5a48d168",
   "metadata": {
    "papermill": {
     "duration": 0.006617,
     "end_time": "2025-05-29T01:04:29.217419",
     "exception": false,
     "start_time": "2025-05-29T01:04:29.210802",
     "status": "completed"
    },
    "tags": []
   },
   "source": [
    "### Zip"
   ]
  },
  {
   "cell_type": "code",
   "execution_count": 11,
   "id": "86349fd7",
   "metadata": {
    "execution": {
     "iopub.execute_input": "2025-05-29T01:04:29.231717Z",
     "iopub.status.busy": "2025-05-29T01:04:29.231217Z",
     "iopub.status.idle": "2025-05-29T01:04:29.470600Z",
     "shell.execute_reply": "2025-05-29T01:04:29.469914Z"
    },
    "papermill": {
     "duration": 0.247838,
     "end_time": "2025-05-29T01:04:29.471762",
     "exception": false,
     "start_time": "2025-05-29T01:04:29.223924",
     "status": "completed"
    },
    "tags": []
   },
   "outputs": [
    {
     "name": "stdout",
     "output_type": "stream",
     "text": [
      "Loaded zip cache.\n"
     ]
    },
    {
     "data": {
      "text/html": [
       "<div>\n",
       "<style scoped>\n",
       "    .dataframe tbody tr th:only-of-type {\n",
       "        vertical-align: middle;\n",
       "    }\n",
       "\n",
       "    .dataframe tbody tr th {\n",
       "        vertical-align: top;\n",
       "    }\n",
       "\n",
       "    .dataframe thead th {\n",
       "        text-align: right;\n",
       "    }\n",
       "</style>\n",
       "<table border=\"1\" class=\"dataframe\">\n",
       "  <thead>\n",
       "    <tr style=\"text-align: right;\">\n",
       "      <th></th>\n",
       "      <th>RecordID</th>\n",
       "      <th>Offense</th>\n",
       "      <th>IncidentID</th>\n",
       "      <th>BlockNumber</th>\n",
       "      <th>StreetName</th>\n",
       "      <th>Agency</th>\n",
       "      <th>HourReported</th>\n",
       "      <th>ReportingOfficer</th>\n",
       "      <th>Date</th>\n",
       "      <th>DateString</th>\n",
       "      <th>DayOfWeek</th>\n",
       "      <th>Weekend</th>\n",
       "      <th>Season</th>\n",
       "      <th>HourAMPM</th>\n",
       "      <th>TimeOfDay</th>\n",
       "      <th>FullStreet</th>\n",
       "      <th>lat</th>\n",
       "      <th>lon</th>\n",
       "      <th>neighborhood</th>\n",
       "      <th>zip</th>\n",
       "    </tr>\n",
       "  </thead>\n",
       "  <tbody>\n",
       "    <tr>\n",
       "      <th>0</th>\n",
       "      <td>1</td>\n",
       "      <td>Larceny - From Motor Vehicle</td>\n",
       "      <td>202500017970</td>\n",
       "      <td>1400</td>\n",
       "      <td>PEN PARK RD</td>\n",
       "      <td>CPD</td>\n",
       "      <td>2056</td>\n",
       "      <td>Vlasis, Christopher</td>\n",
       "      <td>2025-05-26 20:56:09</td>\n",
       "      <td>2025-05-26 08:56:09 PM</td>\n",
       "      <td>Monday</td>\n",
       "      <td>False</td>\n",
       "      <td>Spring</td>\n",
       "      <td>08:56 PM</td>\n",
       "      <td>Evening</td>\n",
       "      <td>1400 PEN PARK RD</td>\n",
       "      <td>38.049861</td>\n",
       "      <td>-78.451616</td>\n",
       "      <td>Locust Grove</td>\n",
       "      <td>22901</td>\n",
       "    </tr>\n",
       "    <tr>\n",
       "      <th>1</th>\n",
       "      <td>2</td>\n",
       "      <td>Misc - Criminal Call</td>\n",
       "      <td>202500017964</td>\n",
       "      <td>2000</td>\n",
       "      <td>HOLIDAY DR</td>\n",
       "      <td>CPD</td>\n",
       "      <td>2000</td>\n",
       "      <td>Vlasis, Christopher</td>\n",
       "      <td>2025-05-26 20:00:30</td>\n",
       "      <td>2025-05-26 08:00:30 PM</td>\n",
       "      <td>Monday</td>\n",
       "      <td>False</td>\n",
       "      <td>Spring</td>\n",
       "      <td>08:00 PM</td>\n",
       "      <td>Evening</td>\n",
       "      <td>2000 HOLIDAY DR</td>\n",
       "      <td>38.057681</td>\n",
       "      <td>-78.491402</td>\n",
       "      <td>The Meadows</td>\n",
       "      <td>22901</td>\n",
       "    </tr>\n",
       "    <tr>\n",
       "      <th>2</th>\n",
       "      <td>3</td>\n",
       "      <td>Assault Simple</td>\n",
       "      <td>202500017957</td>\n",
       "      <td>700</td>\n",
       "      <td>E MAIN ST</td>\n",
       "      <td>CPD</td>\n",
       "      <td>1905</td>\n",
       "      <td>Essex, Dominique</td>\n",
       "      <td>2025-05-26 19:05:32</td>\n",
       "      <td>2025-05-26 07:05:32 PM</td>\n",
       "      <td>Monday</td>\n",
       "      <td>False</td>\n",
       "      <td>Spring</td>\n",
       "      <td>07:05 PM</td>\n",
       "      <td>Evening</td>\n",
       "      <td>700 E MAIN ST</td>\n",
       "      <td>38.029237</td>\n",
       "      <td>-78.476613</td>\n",
       "      <td>Downtown Mall</td>\n",
       "      <td>22902</td>\n",
       "    </tr>\n",
       "    <tr>\n",
       "      <th>3</th>\n",
       "      <td>4</td>\n",
       "      <td>Burglary</td>\n",
       "      <td>202500017951</td>\n",
       "      <td>300</td>\n",
       "      <td>MONTEBELLO CIR</td>\n",
       "      <td>CPD</td>\n",
       "      <td>1759</td>\n",
       "      <td>Crowley, Raeann</td>\n",
       "      <td>2025-05-26 17:59:55</td>\n",
       "      <td>2025-05-26 05:59:55 PM</td>\n",
       "      <td>Monday</td>\n",
       "      <td>False</td>\n",
       "      <td>Spring</td>\n",
       "      <td>05:59 PM</td>\n",
       "      <td>Evening</td>\n",
       "      <td>300 MONTEBELLO CIR</td>\n",
       "      <td>38.029459</td>\n",
       "      <td>-78.510410</td>\n",
       "      <td>Jefferson Park Avenue</td>\n",
       "      <td>22903</td>\n",
       "    </tr>\n",
       "    <tr>\n",
       "      <th>4</th>\n",
       "      <td>5</td>\n",
       "      <td>Misc - Non-Criminal Call</td>\n",
       "      <td>202500017937</td>\n",
       "      <td>2100</td>\n",
       "      <td>MICHIE DR, 35</td>\n",
       "      <td>CPD</td>\n",
       "      <td>1551</td>\n",
       "      <td>Vlasis, Christopher</td>\n",
       "      <td>2025-05-26 15:51:13</td>\n",
       "      <td>2025-05-26 03:51:13 PM</td>\n",
       "      <td>Monday</td>\n",
       "      <td>False</td>\n",
       "      <td>Spring</td>\n",
       "      <td>03:51 PM</td>\n",
       "      <td>Afternoon</td>\n",
       "      <td>2100 MICHIE DR, 35</td>\n",
       "      <td>38.062986</td>\n",
       "      <td>-78.483828</td>\n",
       "      <td>Greenbrier</td>\n",
       "      <td>22901</td>\n",
       "    </tr>\n",
       "  </tbody>\n",
       "</table>\n",
       "</div>"
      ],
      "text/plain": [
       "   RecordID                       Offense    IncidentID BlockNumber  \\\n",
       "0         1  Larceny - From Motor Vehicle  202500017970        1400   \n",
       "1         2          Misc - Criminal Call  202500017964        2000   \n",
       "2         3                Assault Simple  202500017957         700   \n",
       "3         4                      Burglary  202500017951         300   \n",
       "4         5      Misc - Non-Criminal Call  202500017937        2100   \n",
       "\n",
       "       StreetName Agency HourReported     ReportingOfficer  \\\n",
       "0     PEN PARK RD    CPD         2056  Vlasis, Christopher   \n",
       "1      HOLIDAY DR    CPD         2000  Vlasis, Christopher   \n",
       "2       E MAIN ST    CPD         1905     Essex, Dominique   \n",
       "3  MONTEBELLO CIR    CPD         1759      Crowley, Raeann   \n",
       "4   MICHIE DR, 35    CPD         1551  Vlasis, Christopher   \n",
       "\n",
       "                 Date              DateString DayOfWeek  Weekend  Season  \\\n",
       "0 2025-05-26 20:56:09  2025-05-26 08:56:09 PM    Monday    False  Spring   \n",
       "1 2025-05-26 20:00:30  2025-05-26 08:00:30 PM    Monday    False  Spring   \n",
       "2 2025-05-26 19:05:32  2025-05-26 07:05:32 PM    Monday    False  Spring   \n",
       "3 2025-05-26 17:59:55  2025-05-26 05:59:55 PM    Monday    False  Spring   \n",
       "4 2025-05-26 15:51:13  2025-05-26 03:51:13 PM    Monday    False  Spring   \n",
       "\n",
       "   HourAMPM  TimeOfDay          FullStreet        lat        lon  \\\n",
       "0  08:56 PM    Evening    1400 PEN PARK RD  38.049861 -78.451616   \n",
       "1  08:00 PM    Evening     2000 HOLIDAY DR  38.057681 -78.491402   \n",
       "2  07:05 PM    Evening       700 E MAIN ST  38.029237 -78.476613   \n",
       "3  05:59 PM    Evening  300 MONTEBELLO CIR  38.029459 -78.510410   \n",
       "4  03:51 PM  Afternoon  2100 MICHIE DR, 35  38.062986 -78.483828   \n",
       "\n",
       "            neighborhood    zip  \n",
       "0           Locust Grove  22901  \n",
       "1            The Meadows  22901  \n",
       "2          Downtown Mall  22902  \n",
       "3  Jefferson Park Avenue  22903  \n",
       "4             Greenbrier  22901  "
      ]
     },
     "execution_count": 11,
     "metadata": {},
     "output_type": "execute_result"
    }
   ],
   "source": [
    "# Initialize the geocoder.\n",
    "geolocator = Nominatim(user_agent=\"zip_lookup\")\n",
    "\n",
    "# Try to load a persistent ZIP cache if available.\n",
    "try:\n",
    "    with open(\"zip_cache.pkl\", \"rb\") as f:\n",
    "        zip_cache = pickle.load(f)\n",
    "    print(\"Loaded zip cache.\")\n",
    "except FileNotFoundError:\n",
    "    zip_cache = {}\n",
    "    print(\"No zip cache found; starting fresh.\")\n",
    "\n",
    "def get_zip(lat, lon):\n",
    "    \"\"\"\n",
    "    Reverse geocodes a latitude and longitude to retrieve the ZIP code.\n",
    "    Caches results to speed up subsequent lookups.\n",
    "    \"\"\"\n",
    "    key = (lat, lon)\n",
    "    if key in zip_cache:\n",
    "        return zip_cache[key]\n",
    "    \n",
    "    try:\n",
    "        location = geolocator.reverse((lat, lon), exactly_one=True, timeout=10)\n",
    "        address = location.raw.get('address', {})\n",
    "        postal_code = address.get('postcode', \"N/A\")\n",
    "    except Exception as e:\n",
    "        print(f\"Error getting ZIP for {lat}, {lon}: {e}\")\n",
    "        postal_code = \"N/A\"\n",
    "    \n",
    "    zip_cache[key] = postal_code\n",
    "    # Pause to respect the usage policy.\n",
    "    time.sleep(1)\n",
    "    return postal_code\n",
    "\n",
    "# Apply the function to each row in the DataFrame.\n",
    "df['zip'] = df.apply(lambda row: get_zip(row['lat'], row['lon']), axis=1)\n",
    "\n",
    "# Save the updated ZIP cache.\n",
    "with open(\"zip_cache.pkl\", \"wb\") as f:\n",
    "    pickle.dump(zip_cache, f)\n",
    "\n",
    "df.head()\n"
   ]
  },
  {
   "cell_type": "code",
   "execution_count": 12,
   "id": "868902d6",
   "metadata": {
    "execution": {
     "iopub.execute_input": "2025-05-29T01:04:29.487022Z",
     "iopub.status.busy": "2025-05-29T01:04:29.486465Z",
     "iopub.status.idle": "2025-05-29T01:04:29.516574Z",
     "shell.execute_reply": "2025-05-29T01:04:29.515946Z"
    },
    "papermill": {
     "duration": 0.038754,
     "end_time": "2025-05-29T01:04:29.517633",
     "exception": false,
     "start_time": "2025-05-29T01:04:29.478879",
     "status": "completed"
    },
    "tags": []
   },
   "outputs": [
    {
     "name": "stdout",
     "output_type": "stream",
     "text": [
      "                  MissingCount  MissingPercentage\n",
      "RecordID                     0               0.00\n",
      "Offense                      0               0.00\n",
      "IncidentID                   0               0.00\n",
      "BlockNumber                  0               0.00\n",
      "StreetName                   0               0.00\n",
      "Agency                       0               0.00\n",
      "HourReported                 0               0.00\n",
      "ReportingOfficer            17               0.07\n",
      "Date                         0               0.00\n",
      "DateString                   0               0.00\n",
      "DayOfWeek                    0               0.00\n",
      "Weekend                      0               0.00\n",
      "Season                       0               0.00\n",
      "HourAMPM                     0               0.00\n",
      "TimeOfDay                    0               0.00\n",
      "FullStreet                   0               0.00\n",
      "lat                          0               0.00\n",
      "lon                          0               0.00\n",
      "neighborhood                 0               0.00\n",
      "zip                          0               0.00\n"
     ]
    }
   ],
   "source": [
    "missing_info = missing_percentage(df)\n",
    "print(missing_info)\n"
   ]
  },
  {
   "cell_type": "code",
   "execution_count": 13,
   "id": "cf20e774",
   "metadata": {
    "execution": {
     "iopub.execute_input": "2025-05-29T01:04:29.532791Z",
     "iopub.status.busy": "2025-05-29T01:04:29.532389Z",
     "iopub.status.idle": "2025-05-29T01:04:29.561408Z",
     "shell.execute_reply": "2025-05-29T01:04:29.560807Z"
    },
    "papermill": {
     "duration": 0.037698,
     "end_time": "2025-05-29T01:04:29.562490",
     "exception": false,
     "start_time": "2025-05-29T01:04:29.524792",
     "status": "completed"
    },
    "tags": []
   },
   "outputs": [
    {
     "name": "stdout",
     "output_type": "stream",
     "text": [
      "<class 'pandas.core.frame.DataFrame'>\n",
      "RangeIndex: 25430 entries, 0 to 25429\n",
      "Data columns (total 20 columns):\n",
      " #   Column            Non-Null Count  Dtype         \n",
      "---  ------            --------------  -----         \n",
      " 0   RecordID          25430 non-null  int64         \n",
      " 1   Offense           25430 non-null  object        \n",
      " 2   IncidentID        25430 non-null  object        \n",
      " 3   BlockNumber       25430 non-null  object        \n",
      " 4   StreetName        25430 non-null  object        \n",
      " 5   Agency            25430 non-null  object        \n",
      " 6   HourReported      25430 non-null  object        \n",
      " 7   ReportingOfficer  25413 non-null  object        \n",
      " 8   Date              25430 non-null  datetime64[ns]\n",
      " 9   DateString        25430 non-null  object        \n",
      " 10  DayOfWeek         25430 non-null  object        \n",
      " 11  Weekend           25430 non-null  bool          \n",
      " 12  Season            25430 non-null  object        \n",
      " 13  HourAMPM          25430 non-null  object        \n",
      " 14  TimeOfDay         25430 non-null  object        \n",
      " 15  FullStreet        25430 non-null  object        \n",
      " 16  lat               25430 non-null  float64       \n",
      " 17  lon               25430 non-null  float64       \n",
      " 18  neighborhood      25430 non-null  object        \n",
      " 19  zip               25430 non-null  object        \n",
      "dtypes: bool(1), datetime64[ns](1), float64(2), int64(1), object(15)\n",
      "memory usage: 3.7+ MB\n"
     ]
    }
   ],
   "source": [
    "df.info()"
   ]
  },
  {
   "cell_type": "code",
   "execution_count": 14,
   "id": "26f89b38",
   "metadata": {
    "execution": {
     "iopub.execute_input": "2025-05-29T01:04:29.578991Z",
     "iopub.status.busy": "2025-05-29T01:04:29.578574Z",
     "iopub.status.idle": "2025-05-29T01:04:29.624381Z",
     "shell.execute_reply": "2025-05-29T01:04:29.623698Z"
    },
    "papermill": {
     "duration": 0.054628,
     "end_time": "2025-05-29T01:04:29.625487",
     "exception": false,
     "start_time": "2025-05-29T01:04:29.570859",
     "status": "completed"
    },
    "tags": []
   },
   "outputs": [
    {
     "data": {
      "text/html": [
       "<div>\n",
       "<style scoped>\n",
       "    .dataframe tbody tr th:only-of-type {\n",
       "        vertical-align: middle;\n",
       "    }\n",
       "\n",
       "    .dataframe tbody tr th {\n",
       "        vertical-align: top;\n",
       "    }\n",
       "\n",
       "    .dataframe thead th {\n",
       "        text-align: right;\n",
       "    }\n",
       "</style>\n",
       "<table border=\"1\" class=\"dataframe\">\n",
       "  <thead>\n",
       "    <tr style=\"text-align: right;\">\n",
       "      <th></th>\n",
       "      <th>RecordID</th>\n",
       "      <th>Offense</th>\n",
       "      <th>IncidentID</th>\n",
       "      <th>Agency</th>\n",
       "      <th>ReportingOfficer</th>\n",
       "      <th>Date</th>\n",
       "      <th>DayOfWeek</th>\n",
       "      <th>Weekend</th>\n",
       "      <th>Season</th>\n",
       "      <th>TimeOfDay</th>\n",
       "      <th>FullStreet</th>\n",
       "      <th>lat</th>\n",
       "      <th>lon</th>\n",
       "      <th>neighborhood</th>\n",
       "      <th>zip</th>\n",
       "    </tr>\n",
       "  </thead>\n",
       "  <tbody>\n",
       "    <tr>\n",
       "      <th>0</th>\n",
       "      <td>1</td>\n",
       "      <td>Larceny - From Motor Vehicle</td>\n",
       "      <td>202500017970</td>\n",
       "      <td>CPD</td>\n",
       "      <td>Vlasis, Christopher</td>\n",
       "      <td>2025-05-26 20:56:09</td>\n",
       "      <td>Monday</td>\n",
       "      <td>False</td>\n",
       "      <td>Spring</td>\n",
       "      <td>Evening</td>\n",
       "      <td>1400 PEN PARK RD</td>\n",
       "      <td>38.049861</td>\n",
       "      <td>-78.451616</td>\n",
       "      <td>Locust Grove</td>\n",
       "      <td>22901</td>\n",
       "    </tr>\n",
       "    <tr>\n",
       "      <th>1</th>\n",
       "      <td>2</td>\n",
       "      <td>Misc - Criminal Call</td>\n",
       "      <td>202500017964</td>\n",
       "      <td>CPD</td>\n",
       "      <td>Vlasis, Christopher</td>\n",
       "      <td>2025-05-26 20:00:30</td>\n",
       "      <td>Monday</td>\n",
       "      <td>False</td>\n",
       "      <td>Spring</td>\n",
       "      <td>Evening</td>\n",
       "      <td>2000 HOLIDAY DR</td>\n",
       "      <td>38.057681</td>\n",
       "      <td>-78.491402</td>\n",
       "      <td>The Meadows</td>\n",
       "      <td>22901</td>\n",
       "    </tr>\n",
       "    <tr>\n",
       "      <th>2</th>\n",
       "      <td>3</td>\n",
       "      <td>Assault Simple</td>\n",
       "      <td>202500017957</td>\n",
       "      <td>CPD</td>\n",
       "      <td>Essex, Dominique</td>\n",
       "      <td>2025-05-26 19:05:32</td>\n",
       "      <td>Monday</td>\n",
       "      <td>False</td>\n",
       "      <td>Spring</td>\n",
       "      <td>Evening</td>\n",
       "      <td>700 E MAIN ST</td>\n",
       "      <td>38.029237</td>\n",
       "      <td>-78.476613</td>\n",
       "      <td>Downtown Mall</td>\n",
       "      <td>22902</td>\n",
       "    </tr>\n",
       "    <tr>\n",
       "      <th>3</th>\n",
       "      <td>4</td>\n",
       "      <td>Burglary</td>\n",
       "      <td>202500017951</td>\n",
       "      <td>CPD</td>\n",
       "      <td>Crowley, Raeann</td>\n",
       "      <td>2025-05-26 17:59:55</td>\n",
       "      <td>Monday</td>\n",
       "      <td>False</td>\n",
       "      <td>Spring</td>\n",
       "      <td>Evening</td>\n",
       "      <td>300 MONTEBELLO CIR</td>\n",
       "      <td>38.029459</td>\n",
       "      <td>-78.510410</td>\n",
       "      <td>Jefferson Park Avenue</td>\n",
       "      <td>22903</td>\n",
       "    </tr>\n",
       "    <tr>\n",
       "      <th>4</th>\n",
       "      <td>5</td>\n",
       "      <td>Misc - Non-Criminal Call</td>\n",
       "      <td>202500017937</td>\n",
       "      <td>CPD</td>\n",
       "      <td>Vlasis, Christopher</td>\n",
       "      <td>2025-05-26 15:51:13</td>\n",
       "      <td>Monday</td>\n",
       "      <td>False</td>\n",
       "      <td>Spring</td>\n",
       "      <td>Afternoon</td>\n",
       "      <td>2100 MICHIE DR, 35</td>\n",
       "      <td>38.062986</td>\n",
       "      <td>-78.483828</td>\n",
       "      <td>Greenbrier</td>\n",
       "      <td>22901</td>\n",
       "    </tr>\n",
       "  </tbody>\n",
       "</table>\n",
       "</div>"
      ],
      "text/plain": [
       "   RecordID                       Offense    IncidentID Agency  \\\n",
       "0         1  Larceny - From Motor Vehicle  202500017970    CPD   \n",
       "1         2          Misc - Criminal Call  202500017964    CPD   \n",
       "2         3                Assault Simple  202500017957    CPD   \n",
       "3         4                      Burglary  202500017951    CPD   \n",
       "4         5      Misc - Non-Criminal Call  202500017937    CPD   \n",
       "\n",
       "      ReportingOfficer                Date DayOfWeek  Weekend  Season  \\\n",
       "0  Vlasis, Christopher 2025-05-26 20:56:09    Monday    False  Spring   \n",
       "1  Vlasis, Christopher 2025-05-26 20:00:30    Monday    False  Spring   \n",
       "2     Essex, Dominique 2025-05-26 19:05:32    Monday    False  Spring   \n",
       "3      Crowley, Raeann 2025-05-26 17:59:55    Monday    False  Spring   \n",
       "4  Vlasis, Christopher 2025-05-26 15:51:13    Monday    False  Spring   \n",
       "\n",
       "   TimeOfDay          FullStreet        lat        lon           neighborhood  \\\n",
       "0    Evening    1400 PEN PARK RD  38.049861 -78.451616           Locust Grove   \n",
       "1    Evening     2000 HOLIDAY DR  38.057681 -78.491402            The Meadows   \n",
       "2    Evening       700 E MAIN ST  38.029237 -78.476613          Downtown Mall   \n",
       "3    Evening  300 MONTEBELLO CIR  38.029459 -78.510410  Jefferson Park Avenue   \n",
       "4  Afternoon  2100 MICHIE DR, 35  38.062986 -78.483828             Greenbrier   \n",
       "\n",
       "     zip  \n",
       "0  22901  \n",
       "1  22901  \n",
       "2  22902  \n",
       "3  22903  \n",
       "4  22901  "
      ]
     },
     "execution_count": 14,
     "metadata": {},
     "output_type": "execute_result"
    }
   ],
   "source": [
    "# Now drop the original BlockNumber and StreetName columns\n",
    "df.drop(columns=['BlockNumber', 'StreetName','HourAMPM','HourReported','DateString'], inplace=True)\n",
    "df[\"zip\"] = df[\"zip\"].astype(str)\n",
    "\n",
    "# Fill all missing values in the DataFrame with \"N/A\"\n",
    "df.replace({None: \"N/A\", np.nan: \"N/A\", \"\": \"N/A\"}, inplace=True)\n",
    "df.head()"
   ]
  },
  {
   "cell_type": "code",
   "execution_count": 15,
   "id": "ce058242",
   "metadata": {
    "execution": {
     "iopub.execute_input": "2025-05-29T01:04:29.642253Z",
     "iopub.status.busy": "2025-05-29T01:04:29.641723Z",
     "iopub.status.idle": "2025-05-29T01:04:29.663660Z",
     "shell.execute_reply": "2025-05-29T01:04:29.663023Z"
    },
    "papermill": {
     "duration": 0.0315,
     "end_time": "2025-05-29T01:04:29.664701",
     "exception": false,
     "start_time": "2025-05-29T01:04:29.633201",
     "status": "completed"
    },
    "tags": []
   },
   "outputs": [
    {
     "name": "stdout",
     "output_type": "stream",
     "text": [
      "                  MissingCount  MissingPercentage\n",
      "RecordID                     0                0.0\n",
      "Offense                      0                0.0\n",
      "IncidentID                   0                0.0\n",
      "Agency                       0                0.0\n",
      "ReportingOfficer             0                0.0\n",
      "Date                         0                0.0\n",
      "DayOfWeek                    0                0.0\n",
      "Weekend                      0                0.0\n",
      "Season                       0                0.0\n",
      "TimeOfDay                    0                0.0\n",
      "FullStreet                   0                0.0\n",
      "lat                          0                0.0\n",
      "lon                          0                0.0\n",
      "neighborhood                 0                0.0\n",
      "zip                          0                0.0\n"
     ]
    }
   ],
   "source": [
    "missing_info = missing_percentage(df)\n",
    "print(missing_info)"
   ]
  },
  {
   "cell_type": "code",
   "execution_count": 16,
   "id": "69305b8b",
   "metadata": {
    "execution": {
     "iopub.execute_input": "2025-05-29T01:04:29.680845Z",
     "iopub.status.busy": "2025-05-29T01:04:29.680403Z",
     "iopub.status.idle": "2025-05-29T01:04:29.685743Z",
     "shell.execute_reply": "2025-05-29T01:04:29.685200Z"
    },
    "papermill": {
     "duration": 0.014438,
     "end_time": "2025-05-29T01:04:29.686767",
     "exception": false,
     "start_time": "2025-05-29T01:04:29.672329",
     "status": "completed"
    },
    "tags": []
   },
   "outputs": [
    {
     "data": {
      "text/plain": [
       "Index(['RecordID', 'Offense', 'IncidentID', 'Agency', 'ReportingOfficer',\n",
       "       'Date', 'DayOfWeek', 'Weekend', 'Season', 'TimeOfDay', 'FullStreet',\n",
       "       'lat', 'lon', 'neighborhood', 'zip'],\n",
       "      dtype='object')"
      ]
     },
     "execution_count": 16,
     "metadata": {},
     "output_type": "execute_result"
    }
   ],
   "source": [
    "df.columns"
   ]
  },
  {
   "cell_type": "code",
   "execution_count": 17,
   "id": "e4707c09",
   "metadata": {
    "execution": {
     "iopub.execute_input": "2025-05-29T01:04:29.702815Z",
     "iopub.status.busy": "2025-05-29T01:04:29.702314Z",
     "iopub.status.idle": "2025-05-29T01:04:29.724805Z",
     "shell.execute_reply": "2025-05-29T01:04:29.724224Z"
    },
    "papermill": {
     "duration": 0.031583,
     "end_time": "2025-05-29T01:04:29.725892",
     "exception": false,
     "start_time": "2025-05-29T01:04:29.694309",
     "status": "completed"
    },
    "tags": []
   },
   "outputs": [
    {
     "name": "stdout",
     "output_type": "stream",
     "text": [
      "<class 'pandas.core.frame.DataFrame'>\n",
      "RangeIndex: 25430 entries, 0 to 25429\n",
      "Data columns (total 15 columns):\n",
      " #   Column            Non-Null Count  Dtype         \n",
      "---  ------            --------------  -----         \n",
      " 0   RecordID          25430 non-null  int64         \n",
      " 1   Offense           25430 non-null  object        \n",
      " 2   IncidentID        25430 non-null  object        \n",
      " 3   Agency            25430 non-null  object        \n",
      " 4   ReportingOfficer  25430 non-null  object        \n",
      " 5   Date              25430 non-null  datetime64[ns]\n",
      " 6   DayOfWeek         25430 non-null  object        \n",
      " 7   Weekend           25430 non-null  bool          \n",
      " 8   Season            25430 non-null  object        \n",
      " 9   TimeOfDay         25430 non-null  object        \n",
      " 10  FullStreet        25430 non-null  object        \n",
      " 11  lat               25430 non-null  float64       \n",
      " 12  lon               25430 non-null  float64       \n",
      " 13  neighborhood      25430 non-null  object        \n",
      " 14  zip               25430 non-null  object        \n",
      "dtypes: bool(1), datetime64[ns](1), float64(2), int64(1), object(10)\n",
      "memory usage: 2.7+ MB\n"
     ]
    }
   ],
   "source": [
    "df.info()"
   ]
  },
  {
   "cell_type": "markdown",
   "id": "a66514c0",
   "metadata": {
    "papermill": {
     "duration": 0.007631,
     "end_time": "2025-05-29T01:04:29.741499",
     "exception": false,
     "start_time": "2025-05-29T01:04:29.733868",
     "status": "completed"
    },
    "tags": []
   },
   "source": [
    "### Export Clean Data"
   ]
  },
  {
   "cell_type": "code",
   "execution_count": 18,
   "id": "e498ad9b",
   "metadata": {
    "execution": {
     "iopub.execute_input": "2025-05-29T01:04:29.757474Z",
     "iopub.status.busy": "2025-05-29T01:04:29.757081Z",
     "iopub.status.idle": "2025-05-29T01:04:39.133079Z",
     "shell.execute_reply": "2025-05-29T01:04:39.132365Z"
    },
    "papermill": {
     "duration": 9.385131,
     "end_time": "2025-05-29T01:04:39.134142",
     "exception": false,
     "start_time": "2025-05-29T01:04:29.749011",
     "status": "completed"
    },
    "tags": []
   },
   "outputs": [
    {
     "name": "stdout",
     "output_type": "stream",
     "text": [
      "Project Root: /home/runner/work/crime-data/crime-data\n"
     ]
    },
    {
     "name": "stdout",
     "output_type": "stream",
     "text": [
      "Data saved to: /home/runner/work/crime-data/crime-data/data/charlottesville_crime_incidents.csv\n"
     ]
    },
    {
     "name": "stdout",
     "output_type": "stream",
     "text": [
      "Excel saved to: /home/runner/work/crime-data/crime-data/data/charlottesville_crime_incidents.xlsx\n"
     ]
    }
   ],
   "source": [
    "# Determine the project root (assuming papermill is run from the repository root)\n",
    "project_root = os.getcwd()\n",
    "print(\"Project Root:\", project_root)\n",
    "\n",
    "# Set the data directory within the project root\n",
    "data_dir = os.path.join(project_root, \"data\")\n",
    "\n",
    "# Ensure the \"data\" directory exists (create it if it doesn't)\n",
    "if not os.path.exists(data_dir):\n",
    "    os.makedirs(data_dir)\n",
    "\n",
    "# Export the DataFrame to CSV in the \"data\" folder located in the project root\n",
    "csv_path = os.path.join(data_dir, \"charlottesville_crime_incidents.csv\")\n",
    "df.to_csv(csv_path, index=False)\n",
    "print(\"Data saved to:\", csv_path)\n",
    "\n",
    "# Construct the path to your Excel file\n",
    "excel_path = os.path.join(data_dir, \"charlottesville_crime_incidents.xlsx\")\n",
    "\n",
    "# Export the DataFrame to Excel\n",
    "df.to_excel(excel_path, index=False)\n",
    "print(\"Excel saved to:\", excel_path)\n"
   ]
  },
  {
   "cell_type": "markdown",
   "id": "e068945d",
   "metadata": {
    "papermill": {
     "duration": 0.007643,
     "end_time": "2025-05-29T01:04:39.149918",
     "exception": false,
     "start_time": "2025-05-29T01:04:39.142275",
     "status": "completed"
    },
    "tags": []
   },
   "source": [
    "## Predictive Analytics"
   ]
  },
  {
   "cell_type": "code",
   "execution_count": 19,
   "id": "019af3b5",
   "metadata": {
    "execution": {
     "iopub.execute_input": "2025-05-29T01:04:39.166820Z",
     "iopub.status.busy": "2025-05-29T01:04:39.166189Z",
     "iopub.status.idle": "2025-05-29T01:04:39.178723Z",
     "shell.execute_reply": "2025-05-29T01:04:39.178054Z"
    },
    "papermill": {
     "duration": 0.022181,
     "end_time": "2025-05-29T01:04:39.179747",
     "exception": false,
     "start_time": "2025-05-29T01:04:39.157566",
     "status": "completed"
    },
    "tags": []
   },
   "outputs": [
    {
     "data": {
      "text/html": [
       "<div>\n",
       "<style scoped>\n",
       "    .dataframe tbody tr th:only-of-type {\n",
       "        vertical-align: middle;\n",
       "    }\n",
       "\n",
       "    .dataframe tbody tr th {\n",
       "        vertical-align: top;\n",
       "    }\n",
       "\n",
       "    .dataframe thead th {\n",
       "        text-align: right;\n",
       "    }\n",
       "</style>\n",
       "<table border=\"1\" class=\"dataframe\">\n",
       "  <thead>\n",
       "    <tr style=\"text-align: right;\">\n",
       "      <th></th>\n",
       "      <th>RecordID</th>\n",
       "      <th>Offense</th>\n",
       "      <th>IncidentID</th>\n",
       "      <th>Agency</th>\n",
       "      <th>ReportingOfficer</th>\n",
       "      <th>Date</th>\n",
       "      <th>DayOfWeek</th>\n",
       "      <th>Weekend</th>\n",
       "      <th>Season</th>\n",
       "      <th>TimeOfDay</th>\n",
       "      <th>FullStreet</th>\n",
       "      <th>lat</th>\n",
       "      <th>lon</th>\n",
       "      <th>neighborhood</th>\n",
       "      <th>zip</th>\n",
       "    </tr>\n",
       "  </thead>\n",
       "  <tbody>\n",
       "    <tr>\n",
       "      <th>0</th>\n",
       "      <td>1</td>\n",
       "      <td>Larceny - From Motor Vehicle</td>\n",
       "      <td>202500017970</td>\n",
       "      <td>CPD</td>\n",
       "      <td>Vlasis, Christopher</td>\n",
       "      <td>2025-05-26 20:56:09</td>\n",
       "      <td>Monday</td>\n",
       "      <td>False</td>\n",
       "      <td>Spring</td>\n",
       "      <td>Evening</td>\n",
       "      <td>1400 PEN PARK RD</td>\n",
       "      <td>38.049861</td>\n",
       "      <td>-78.451616</td>\n",
       "      <td>Locust Grove</td>\n",
       "      <td>22901</td>\n",
       "    </tr>\n",
       "    <tr>\n",
       "      <th>1</th>\n",
       "      <td>2</td>\n",
       "      <td>Misc - Criminal Call</td>\n",
       "      <td>202500017964</td>\n",
       "      <td>CPD</td>\n",
       "      <td>Vlasis, Christopher</td>\n",
       "      <td>2025-05-26 20:00:30</td>\n",
       "      <td>Monday</td>\n",
       "      <td>False</td>\n",
       "      <td>Spring</td>\n",
       "      <td>Evening</td>\n",
       "      <td>2000 HOLIDAY DR</td>\n",
       "      <td>38.057681</td>\n",
       "      <td>-78.491402</td>\n",
       "      <td>The Meadows</td>\n",
       "      <td>22901</td>\n",
       "    </tr>\n",
       "    <tr>\n",
       "      <th>2</th>\n",
       "      <td>3</td>\n",
       "      <td>Assault Simple</td>\n",
       "      <td>202500017957</td>\n",
       "      <td>CPD</td>\n",
       "      <td>Essex, Dominique</td>\n",
       "      <td>2025-05-26 19:05:32</td>\n",
       "      <td>Monday</td>\n",
       "      <td>False</td>\n",
       "      <td>Spring</td>\n",
       "      <td>Evening</td>\n",
       "      <td>700 E MAIN ST</td>\n",
       "      <td>38.029237</td>\n",
       "      <td>-78.476613</td>\n",
       "      <td>Downtown Mall</td>\n",
       "      <td>22902</td>\n",
       "    </tr>\n",
       "    <tr>\n",
       "      <th>3</th>\n",
       "      <td>4</td>\n",
       "      <td>Burglary</td>\n",
       "      <td>202500017951</td>\n",
       "      <td>CPD</td>\n",
       "      <td>Crowley, Raeann</td>\n",
       "      <td>2025-05-26 17:59:55</td>\n",
       "      <td>Monday</td>\n",
       "      <td>False</td>\n",
       "      <td>Spring</td>\n",
       "      <td>Evening</td>\n",
       "      <td>300 MONTEBELLO CIR</td>\n",
       "      <td>38.029459</td>\n",
       "      <td>-78.510410</td>\n",
       "      <td>Jefferson Park Avenue</td>\n",
       "      <td>22903</td>\n",
       "    </tr>\n",
       "    <tr>\n",
       "      <th>4</th>\n",
       "      <td>5</td>\n",
       "      <td>Misc - Non-Criminal Call</td>\n",
       "      <td>202500017937</td>\n",
       "      <td>CPD</td>\n",
       "      <td>Vlasis, Christopher</td>\n",
       "      <td>2025-05-26 15:51:13</td>\n",
       "      <td>Monday</td>\n",
       "      <td>False</td>\n",
       "      <td>Spring</td>\n",
       "      <td>Afternoon</td>\n",
       "      <td>2100 MICHIE DR, 35</td>\n",
       "      <td>38.062986</td>\n",
       "      <td>-78.483828</td>\n",
       "      <td>Greenbrier</td>\n",
       "      <td>22901</td>\n",
       "    </tr>\n",
       "  </tbody>\n",
       "</table>\n",
       "</div>"
      ],
      "text/plain": [
       "   RecordID                       Offense    IncidentID Agency  \\\n",
       "0         1  Larceny - From Motor Vehicle  202500017970    CPD   \n",
       "1         2          Misc - Criminal Call  202500017964    CPD   \n",
       "2         3                Assault Simple  202500017957    CPD   \n",
       "3         4                      Burglary  202500017951    CPD   \n",
       "4         5      Misc - Non-Criminal Call  202500017937    CPD   \n",
       "\n",
       "      ReportingOfficer                Date DayOfWeek  Weekend  Season  \\\n",
       "0  Vlasis, Christopher 2025-05-26 20:56:09    Monday    False  Spring   \n",
       "1  Vlasis, Christopher 2025-05-26 20:00:30    Monday    False  Spring   \n",
       "2     Essex, Dominique 2025-05-26 19:05:32    Monday    False  Spring   \n",
       "3      Crowley, Raeann 2025-05-26 17:59:55    Monday    False  Spring   \n",
       "4  Vlasis, Christopher 2025-05-26 15:51:13    Monday    False  Spring   \n",
       "\n",
       "   TimeOfDay          FullStreet        lat        lon           neighborhood  \\\n",
       "0    Evening    1400 PEN PARK RD  38.049861 -78.451616           Locust Grove   \n",
       "1    Evening     2000 HOLIDAY DR  38.057681 -78.491402            The Meadows   \n",
       "2    Evening       700 E MAIN ST  38.029237 -78.476613          Downtown Mall   \n",
       "3    Evening  300 MONTEBELLO CIR  38.029459 -78.510410  Jefferson Park Avenue   \n",
       "4  Afternoon  2100 MICHIE DR, 35  38.062986 -78.483828             Greenbrier   \n",
       "\n",
       "     zip  \n",
       "0  22901  \n",
       "1  22901  \n",
       "2  22902  \n",
       "3  22903  \n",
       "4  22901  "
      ]
     },
     "execution_count": 19,
     "metadata": {},
     "output_type": "execute_result"
    }
   ],
   "source": [
    "df.head()"
   ]
  },
  {
   "cell_type": "code",
   "execution_count": 20,
   "id": "b7aec27f",
   "metadata": {
    "execution": {
     "iopub.execute_input": "2025-05-29T01:04:39.197327Z",
     "iopub.status.busy": "2025-05-29T01:04:39.196781Z",
     "iopub.status.idle": "2025-05-29T01:04:39.201569Z",
     "shell.execute_reply": "2025-05-29T01:04:39.200879Z"
    },
    "papermill": {
     "duration": 0.014557,
     "end_time": "2025-05-29T01:04:39.202684",
     "exception": false,
     "start_time": "2025-05-29T01:04:39.188127",
     "status": "completed"
    },
    "tags": []
   },
   "outputs": [
    {
     "data": {
      "text/plain": [
       "Index(['RecordID', 'Offense', 'IncidentID', 'Agency', 'ReportingOfficer',\n",
       "       'Date', 'DayOfWeek', 'Weekend', 'Season', 'TimeOfDay', 'FullStreet',\n",
       "       'lat', 'lon', 'neighborhood', 'zip'],\n",
       "      dtype='object')"
      ]
     },
     "execution_count": 20,
     "metadata": {},
     "output_type": "execute_result"
    }
   ],
   "source": [
    "df.columns"
   ]
  },
  {
   "cell_type": "markdown",
   "id": "192202da",
   "metadata": {
    "papermill": {
     "duration": 0.007947,
     "end_time": "2025-05-29T01:04:39.218762",
     "exception": false,
     "start_time": "2025-05-29T01:04:39.210815",
     "status": "completed"
    },
    "tags": []
   },
   "source": [
    "### Data Preparation\n",
    "\n",
    "We need to ensure the data is in the correct format for modeling and can handle missing values, categorical variables, and dates. Here's how to prepare your data:"
   ]
  },
  {
   "cell_type": "code",
   "execution_count": 21,
   "id": "c3d77c69",
   "metadata": {
    "execution": {
     "iopub.execute_input": "2025-05-29T01:04:39.236230Z",
     "iopub.status.busy": "2025-05-29T01:04:39.235632Z",
     "iopub.status.idle": "2025-05-29T01:04:41.564547Z",
     "shell.execute_reply": "2025-05-29T01:04:41.563770Z"
    },
    "papermill": {
     "duration": 2.339085,
     "end_time": "2025-05-29T01:04:41.565907",
     "exception": false,
     "start_time": "2025-05-29T01:04:39.226822",
     "status": "completed"
    },
    "tags": []
   },
   "outputs": [],
   "source": [
    "import pandas as pd\n",
    "from sklearn.model_selection import train_test_split\n",
    "from sklearn.preprocessing import OneHotEncoder, LabelEncoder\n",
    "from sklearn.ensemble import RandomForestClassifier\n",
    "from sklearn.linear_model import LogisticRegression\n",
    "from sklearn.tree import DecisionTreeClassifier\n",
    "from sklearn.metrics import classification_report, accuracy_score\n",
    "import seaborn as sns\n",
    "import matplotlib.pyplot as plt\n",
    "\n",
    "# Convert 'Date' to datetime\n",
    "df['Date'] = pd.to_datetime(df['Date'])\n",
    "\n",
    "# Feature engineering: Extract additional time-based features\n",
    "df['Year'] = df['Date'].dt.year\n",
    "df['Month'] = df['Date'].dt.month\n",
    "df['DayOfMonth'] = df['Date'].dt.day\n",
    "\n",
    "# One-hot encoding for 'FullStreet', 'neighborhood', 'zip'\n",
    "df = pd.get_dummies(df, columns=['FullStreet', 'neighborhood', 'zip'], drop_first=True)\n",
    "\n",
    "# Label encoding for ordered variables (those with a natural order like 'DayOfWeek', 'Season', 'TimeOfDay')\n",
    "label_encoders = {}\n",
    "for column in ['DayOfWeek', 'Season', 'TimeOfDay', 'Agency', 'ReportingOfficer']:  # Example ordinal variables\n",
    "    le = LabelEncoder()\n",
    "    df[column] = le.fit_transform(df[column])\n",
    "    label_encoders[column] = le\n",
    "\n",
    "# Filter the dataset to include only the offenses of interest\n",
    "offenses_of_interest = [\n",
    "    'Hit and Run', 'Assault Simple', 'Suspicious Activity', 'Vandalism', \n",
    "    'Larceny - From Mot Vehicle', 'Larceny - All Other', \n",
    "    'Assist Citizen - Mental/TDO/ECO', 'Lost/FoundProperty'\n",
    "]\n",
    "\n",
    "df = df[df['Offense'].isin(offenses_of_interest)]\n",
    "\n",
    "# Label encode the target variable (Offense)\n",
    "offense_encoder = LabelEncoder()\n",
    "df['Offense'] = offense_encoder.fit_transform(df['Offense'])\n",
    "\n",
    "# Separate features (X) and target (y)\n",
    "X = df[['Year', 'Month', 'DayOfMonth', 'DayOfWeek', 'Weekend', 'Season', 'TimeOfDay', 'lat', 'lon', 'Agency', 'ReportingOfficer']]\n",
    "y = df['Offense']  # Offense is now the encoded target variable\n",
    "\n",
    "# Split the data into training and testing sets\n",
    "X_train, X_test, y_train, y_test = train_test_split(X, y, test_size=0.3, random_state=42)\n"
   ]
  },
  {
   "cell_type": "markdown",
   "id": "0ff2c2a6",
   "metadata": {
    "papermill": {
     "duration": 0.007999,
     "end_time": "2025-05-29T01:04:41.582425",
     "exception": false,
     "start_time": "2025-05-29T01:04:41.574426",
     "status": "completed"
    },
    "tags": []
   },
   "source": [
    "### Model Training\n",
    "\n",
    "Here we will train several models (e.g., Random Forest, Logistic Regression, and Decision Tree). We will use cross-validation to choose the best model based on accuracy, and then explain the impact of the variables."
   ]
  },
  {
   "cell_type": "code",
   "execution_count": 22,
   "id": "8080cd8a",
   "metadata": {
    "execution": {
     "iopub.execute_input": "2025-05-29T01:04:41.600311Z",
     "iopub.status.busy": "2025-05-29T01:04:41.599807Z",
     "iopub.status.idle": "2025-05-29T01:04:45.188059Z",
     "shell.execute_reply": "2025-05-29T01:04:45.187324Z"
    },
    "papermill": {
     "duration": 3.598741,
     "end_time": "2025-05-29T01:04:45.189207",
     "exception": false,
     "start_time": "2025-05-29T01:04:41.590466",
     "status": "completed"
    },
    "tags": []
   },
   "outputs": [
    {
     "name": "stderr",
     "output_type": "stream",
     "text": [
      "/opt/hostedtoolcache/Python/3.9.22/x64/lib/python3.9/site-packages/sklearn/linear_model/_logistic.py:465: ConvergenceWarning: lbfgs failed to converge (status=1):\n",
      "STOP: TOTAL NO. of ITERATIONS REACHED LIMIT.\n",
      "\n",
      "Increase the number of iterations (max_iter) or scale the data as shown in:\n",
      "    https://scikit-learn.org/stable/modules/preprocessing.html\n",
      "Please also refer to the documentation for alternative solver options:\n",
      "    https://scikit-learn.org/stable/modules/linear_model.html#logistic-regression\n",
      "  n_iter_i = _check_optimize_result(\n",
      "/opt/hostedtoolcache/Python/3.9.22/x64/lib/python3.9/site-packages/sklearn/metrics/_classification.py:1565: UndefinedMetricWarning: Precision is ill-defined and being set to 0.0 in labels with no predicted samples. Use `zero_division` parameter to control this behavior.\n",
      "  _warn_prf(average, modifier, f\"{metric.capitalize()} is\", len(result))\n",
      "/opt/hostedtoolcache/Python/3.9.22/x64/lib/python3.9/site-packages/sklearn/metrics/_classification.py:1565: UndefinedMetricWarning: Precision is ill-defined and being set to 0.0 in labels with no predicted samples. Use `zero_division` parameter to control this behavior.\n",
      "  _warn_prf(average, modifier, f\"{metric.capitalize()} is\", len(result))\n",
      "/opt/hostedtoolcache/Python/3.9.22/x64/lib/python3.9/site-packages/sklearn/metrics/_classification.py:1565: UndefinedMetricWarning: Precision is ill-defined and being set to 0.0 in labels with no predicted samples. Use `zero_division` parameter to control this behavior.\n",
      "  _warn_prf(average, modifier, f\"{metric.capitalize()} is\", len(result))\n"
     ]
    },
    {
     "name": "stdout",
     "output_type": "stream",
     "text": [
      "\n",
      "Classification Report for All Models:\n",
      "\n",
      "Model: RandomForest\n",
      "Accuracy: 0.2806\n",
      "              precision    recall  f1-score      support\n",
      "0              0.282158  0.351724  0.313124   580.000000\n",
      "1              0.303951  0.226244  0.259403   442.000000\n",
      "2              0.313464  0.460030  0.372861   663.000000\n",
      "3              0.217391  0.164609  0.187354   486.000000\n",
      "4              0.290837  0.207386  0.242123   352.000000\n",
      "5              0.236010  0.195565  0.213892   496.000000\n",
      "6              0.276888  0.255814  0.265934   473.000000\n",
      "accuracy       0.280641  0.280641  0.280641     0.280641\n",
      "macro avg      0.274385  0.265910  0.264956  3492.000000\n",
      "weighted avg   0.275452  0.280641  0.272518  3492.000000\n"
     ]
    },
    {
     "data": {
      "image/png": "[encoded data removed]",
      "text/plain": [
       "<Figure size 800x600 with 2 Axes>"
      ]
     },
     "metadata": {},
     "output_type": "display_data"
    },
    {
     "name": "stdout",
     "output_type": "stream",
     "text": [
      "\n",
      "Model: LogisticRegression\n",
      "Accuracy: 0.2030\n",
      "              precision    recall  f1-score      support\n",
      "0              0.188452  0.512069  0.275510   580.000000\n",
      "1              0.000000  0.000000  0.000000   442.000000\n",
      "2              0.213597  0.601810  0.315290   663.000000\n",
      "3              0.000000  0.000000  0.000000   486.000000\n",
      "4              0.000000  0.000000  0.000000   352.000000\n",
      "5              0.500000  0.002016  0.004016   496.000000\n",
      "6              0.260870  0.025370  0.046243   473.000000\n",
      "accuracy       0.203036  0.203036  0.203036     0.203036\n",
      "macro avg      0.166131  0.163038  0.091580  3492.000000\n",
      "weighted avg   0.178210  0.203036  0.112457  3492.000000\n"
     ]
    },
    {
     "data": {
      "image/png": "[encoded data removed]",
      "text/plain": [
       "<Figure size 800x600 with 2 Axes>"
      ]
     },
     "metadata": {},
     "output_type": "display_data"
    },
    {
     "name": "stdout",
     "output_type": "stream",
     "text": [
      "\n",
      "Model: DecisionTree\n",
      "Accuracy: 0.2219\n",
      "              precision    recall  f1-score      support\n",
      "0              0.211470  0.203448  0.207381   580.000000\n",
      "1              0.210870  0.219457  0.215078   442.000000\n",
      "2              0.304954  0.297134  0.300993   663.000000\n",
      "3              0.200397  0.207819  0.204040   486.000000\n",
      "4              0.203704  0.187500  0.195266   352.000000\n",
      "5              0.184211  0.183468  0.183838   496.000000\n",
      "6              0.207510  0.221987  0.214505   473.000000\n",
      "accuracy       0.221936  0.221936  0.221936     0.221936\n",
      "macro avg      0.217588  0.217259  0.217300  3492.000000\n",
      "weighted avg   0.222411  0.221936  0.222064  3492.000000\n"
     ]
    },
    {
     "data": {
      "image/png": "[encoded data removed]",
      "text/plain": [
       "<Figure size 800x600 with 2 Axes>"
      ]
     },
     "metadata": {},
     "output_type": "display_data"
    },
    {
     "name": "stdout",
     "output_type": "stream",
     "text": [
      "\n",
      "Best Model:\n",
      "Best Model: RandomForestClassifier()\n",
      "Best Model Accuracy: 0.2806\n"
     ]
    }
   ],
   "source": [
    "import pandas as pd\n",
    "from sklearn.model_selection import train_test_split\n",
    "from sklearn.ensemble import RandomForestClassifier\n",
    "from sklearn.linear_model import LogisticRegression\n",
    "from sklearn.tree import DecisionTreeClassifier\n",
    "from sklearn.metrics import classification_report, accuracy_score, confusion_matrix\n",
    "import seaborn as sns\n",
    "import matplotlib.pyplot as plt\n",
    "\n",
    "# Define models\n",
    "models = {\n",
    "    'RandomForest': RandomForestClassifier(),\n",
    "    'LogisticRegression': LogisticRegression(max_iter=1000),\n",
    "    'DecisionTree': DecisionTreeClassifier()\n",
    "}\n",
    "\n",
    "# Train models and evaluate them\n",
    "best_model = None\n",
    "best_score = 0\n",
    "model_reports = {}\n",
    "\n",
    "for model_name, model in models.items():\n",
    "    model.fit(X_train, y_train)  # Train model\n",
    "    y_pred = model.predict(X_test)  # Make predictions\n",
    "    \n",
    "    # Calculate accuracy and generate classification report\n",
    "    accuracy = accuracy_score(y_test, y_pred)\n",
    "    model_reports[model_name] = classification_report(y_test, y_pred, output_dict=True)  # Store as a dictionary for easier analysis\n",
    "    \n",
    "    # Track best performing model\n",
    "    if accuracy > best_score:\n",
    "        best_score = accuracy\n",
    "        best_model = model\n",
    "\n",
    "# Display classification reports and confusion matrices\n",
    "print(\"\\nClassification Report for All Models:\")\n",
    "for model_name, report in model_reports.items():\n",
    "    print(f\"\\nModel: {model_name}\")\n",
    "    print(\"Accuracy: {:.4f}\".format(accuracy_score(y_test, models[model_name].predict(X_test))))  # Display accuracy\n",
    "    print(pd.DataFrame(report).transpose())  # Display classification report as a DataFrame\n",
    "\n",
    "    # Plot Confusion Matrix\n",
    "    cm = confusion_matrix(y_test, models[model_name].predict(X_test))\n",
    "    plt.figure(figsize=(8, 6))\n",
    "    sns.heatmap(cm, annot=True, fmt=\"d\", cmap='Blues', xticklabels=offense_encoder.classes_, yticklabels=offense_encoder.classes_)\n",
    "    plt.title(f\"Confusion Matrix - {model_name}\")\n",
    "    plt.xlabel('Predicted Labels')\n",
    "    plt.ylabel('True Labels')\n",
    "    plt.show()\n",
    "\n",
    "# Display best model details\n",
    "print(\"\\nBest Model:\")\n",
    "print(f\"Best Model: {best_model}\")\n",
    "print(f\"Best Model Accuracy: {best_score:.4f}\")\n"
   ]
  },
  {
   "cell_type": "markdown",
   "id": "9c866390",
   "metadata": {
    "papermill": {
     "duration": 0.010852,
     "end_time": "2025-05-29T01:04:45.211684",
     "exception": false,
     "start_time": "2025-05-29T01:04:45.200832",
     "status": "completed"
    },
    "tags": []
   },
   "source": [
    "#### Classification Report for All Models:\n",
    "\n",
    "### Explanation of the Classification Results (RandomForest Model)\n",
    "\n",
    "The results you provided are from a **Random Forest** model, which is used for predicting different types of offenses. Let's break down the key components of the results:\n",
    "\n",
    "#### 1. **Accuracy: 0.2822**\n",
    "   - **Accuracy** measures the overall percentage of correct predictions made by the model. An accuracy of 28.22% means the model correctly predicted the offense in about 28% of the cases. This indicates the model's predictions are not highly reliable, as the accuracy is quite low.\n",
    "\n",
    "#### 2. **Classification Report:**\n",
    "   The classification report includes precision, recall, and F1-score for each offense. Let's go over these terms and how they apply to the results:\n",
    "\n",
    "   - **Precision**: The proportion of true positive predictions out of all positive predictions made by the model for a specific class (offense).\n",
    "   - **Recall**: The proportion of true positive predictions out of all actual positive instances in the dataset.\n",
    "   - **F1-Score**: The harmonic mean of precision and recall, providing a balance between the two metrics.\n",
    "   - **Support**: The number of actual occurrences of each class in the test set.\n",
    "\n",
    "   Let's analyze each offense based on these metrics:\n",
    "\n",
    "   | **Offense**                        | **Precision** | **Recall** | **F1-Score** | **Support** |\n",
    "   |------------------------------------|---------------|------------|--------------|-------------|\n",
    "   | **Assault Simple**                 | 0.2892        | 0.3754     | 0.3267       | 594         |\n",
    "   | **Assist Citizen - Mental/TDO/ECO**| 0.3182        | 0.2274     | 0.2652       | 431         |\n",
    "   | **Hit and Run**                    | 0.2963        | 0.4765     | 0.3654       | 638         |\n",
    "   | **Larceny - All Other**            | 0.2270        | 0.1453     | 0.1772       | 475         |\n",
    "   | **Lost/FoundProperty**             | 0.3333        | 0.2102     | 0.2578       | 352         |\n",
    "   | **Suspicious Activity**            | 0.2344        | 0.2169     | 0.2253       | 484         |\n",
    "   | **Vandalism**                      | 0.2712        | 0.2106     | 0.2371       | 470         |\n",
    "\n",
    "#### 3. **Key Insights from the Report:**\n",
    "\n",
    "- **Precision**:\n",
    "   - The highest precision is for **Larceny - All Other** (0.3333), indicating that when the model predicts this offense, it is correct about 33% of the time. However, this is still quite low.\n",
    "   - **Assist Citizen - Mental/TDO/ECO** has the lowest precision (0.2269), meaning that the model's predictions for this offense tend to be wrong more often than correct.\n",
    "\n",
    "- **Recall**:\n",
    "   - **Hit and Run** has the highest recall (0.4765), meaning the model identifies about 48% of the actual occurrences of this offense. This is better than the precision, which indicates it is missing many true positives but is still able to identify a fair number of cases.\n",
    "   - **Larceny - All Other** and **Suspicious Activity** have the lowest recall values (0.1453 and 0.2169, respectively), indicating that the model is failing to identify most of the actual cases for these offenses.\n",
    "\n",
    "- **F1-Score**:\n",
    "   - The **F1-Score** balances precision and recall. It is highest for **Hit and Run** (0.3654), but still relatively low overall. This suggests the model is better at identifying **Hit and Run** than other offenses but still has room for improvement.\n",
    "   - **Larceny - All Other** has the lowest F1-Score (0.1772), indicating a poor balance between precision and recall for this offense.\n",
    "\n",
    "#### 4. **Macro Average and Weighted Average:**\n",
    "   - **Macro Average**: This gives the average precision, recall, and F1-Score across all classes (offenses) without considering the class distribution. It averages the results for all offenses equally.\n",
    "     - Precision: 0.2814\n",
    "     - Recall: 0.2661\n",
    "     - F1-Score: 0.2649\n",
    "   - **Weighted Average**: This averages the metrics but weighs each class by its support (the number of true instances in the test set). This gives a better sense of overall performance, considering the class distribution.\n",
    "     - Precision: 0.2799\n",
    "     - Recall: 0.2822\n",
    "     - F1-Score: 0.2720\n",
    "\n",
    "#### 5. **Confusion Matrix (Visualization Analysis)**:\n",
    "   - The confusion matrix shows the distribution of true positive, false positive, true negative, and false negative predictions for each class.\n",
    "     - For **Hit and Run**, the model performs relatively well in identifying this offense (304 true positives). However, it also misclassifies some **Hit and Run** instances as other offenses (e.g., **Assault Simple**, **Suspicious Activity**, etc.).\n",
    "     - **Larceny - All Other** is frequently misclassified as **Hit and Run**, **Suspicious Activity**, and others. This is evident from the large number of off-diagonal elements in its row.\n",
    "     - **Assist Citizen - Mental/TDO/ECO** and **Suspicious Activity** are frequently misclassified, as seen by the off-diagonal values in their rows.\n",
    "\n",
    "### Conclusion:\n",
    "The Random Forest model has low accuracy (28.22%), suggesting that it struggles to predict most offenses accurately. Some offenses like **Hit and Run** are better predicted than others, but overall, the model shows a high level of misclassification across all offenses. There may be a need for further tuning of the model, additional feature engineering, or trying different models for better performance.\n",
    "\n",
    "Let me know if you'd like to improve the model or make adjustments based on these results!\n",
    "\n"
   ]
  },
  {
   "cell_type": "markdown",
   "id": "b1d586a7",
   "metadata": {
    "papermill": {
     "duration": 0.010581,
     "end_time": "2025-05-29T01:04:45.232991",
     "exception": false,
     "start_time": "2025-05-29T01:04:45.222410",
     "status": "completed"
    },
    "tags": []
   },
   "source": [
    "### Model Explanation\n",
    "\n",
    "Once we’ve chosen the best model, we will explain its predictions by examining feature importance for tree-based models and using statistical methods like logistic regression coefficients for linear models."
   ]
  },
  {
   "cell_type": "markdown",
   "id": "bd8944c2",
   "metadata": {
    "papermill": {
     "duration": 0.010466,
     "end_time": "2025-05-29T01:04:45.254109",
     "exception": false,
     "start_time": "2025-05-29T01:04:45.243643",
     "status": "completed"
    },
    "tags": []
   },
   "source": [
    "#### Feature Importance for Random Forest / Decision Tree\n",
    "\n",
    "##### For Tree-based Models (Random Forest, Decision Tree)\n",
    "\n",
    "For Random Forest or Decision Tree, we can look at feature importance to understand which variables contribute the most to the model's predictions. Here's how you can visualize and interpret the importance of each feature:"
   ]
  },
  {
   "cell_type": "code",
   "execution_count": 23,
   "id": "fdebe36a",
   "metadata": {
    "execution": {
     "iopub.execute_input": "2025-05-29T01:04:45.276851Z",
     "iopub.status.busy": "2025-05-29T01:04:45.276239Z",
     "iopub.status.idle": "2025-05-29T01:04:45.439905Z",
     "shell.execute_reply": "2025-05-29T01:04:45.439209Z"
    },
    "papermill": {
     "duration": 0.176275,
     "end_time": "2025-05-29T01:04:45.440948",
     "exception": false,
     "start_time": "2025-05-29T01:04:45.264673",
     "status": "completed"
    },
    "tags": []
   },
   "outputs": [
    {
     "data": {
      "image/png": "[encoded data removed]",
      "text/plain": [
       "<Figure size 1000x600 with 1 Axes>"
      ]
     },
     "metadata": {},
     "output_type": "display_data"
    }
   ],
   "source": [
    "# For RandomForest or DecisionTree models, we can check feature importance\n",
    "if isinstance(best_model, RandomForestClassifier) or isinstance(best_model, DecisionTreeClassifier):\n",
    "    feature_importance = best_model.feature_importances_\n",
    "    feature_names = X.columns\n",
    "    importance_df = pd.DataFrame({'Feature': feature_names, 'Importance': feature_importance})\n",
    "    importance_df = importance_df.sort_values(by='Importance', ascending=False)\n",
    "    \n",
    "    # Plotting the feature importances\n",
    "    plt.figure(figsize=(10, 6))\n",
    "    sns.barplot(x='Importance', y='Feature', data=importance_df)\n",
    "    plt.title(\"Feature Importance\")\n",
    "    plt.show()\n"
   ]
  },
  {
   "cell_type": "code",
   "execution_count": null,
   "id": "26bcc990",
   "metadata": {
    "papermill": {
     "duration": 0.011092,
     "end_time": "2025-05-29T01:04:45.463581",
     "exception": false,
     "start_time": "2025-05-29T01:04:45.452489",
     "status": "completed"
    },
    "tags": []
   },
   "outputs": [],
   "source": []
  },
  {
   "cell_type": "markdown",
   "id": "c4e3eaf6",
   "metadata": {
    "papermill": {
     "duration": 0.011019,
     "end_time": "2025-05-29T01:04:45.485719",
     "exception": false,
     "start_time": "2025-05-29T01:04:45.474700",
     "status": "completed"
    },
    "tags": []
   },
   "source": [
    "### Evaluation\n",
    "\n",
    "After training the models and examining their performance, we evaluate the chosen model based on metrics like accuracy, precision, recall, and F1 score.\n",
    "\n"
   ]
  },
  {
   "cell_type": "code",
   "execution_count": 24,
   "id": "e406e26f",
   "metadata": {
    "execution": {
     "iopub.execute_input": "2025-05-29T01:04:45.509146Z",
     "iopub.status.busy": "2025-05-29T01:04:45.508678Z",
     "iopub.status.idle": "2025-05-29T01:04:45.597917Z",
     "shell.execute_reply": "2025-05-29T01:04:45.597262Z"
    },
    "papermill": {
     "duration": 0.102273,
     "end_time": "2025-05-29T01:04:45.599054",
     "exception": false,
     "start_time": "2025-05-29T01:04:45.496781",
     "status": "completed"
    },
    "tags": []
   },
   "outputs": [
    {
     "name": "stdout",
     "output_type": "stream",
     "text": [
      "Accuracy: 0.2806\n",
      "Classification Report:\n",
      "              precision    recall  f1-score   support\n",
      "\n",
      "           0       0.28      0.35      0.31       580\n",
      "           1       0.30      0.23      0.26       442\n",
      "           2       0.31      0.46      0.37       663\n",
      "           3       0.22      0.16      0.19       486\n",
      "           4       0.29      0.21      0.24       352\n",
      "           5       0.24      0.20      0.21       496\n",
      "           6       0.28      0.26      0.27       473\n",
      "\n",
      "    accuracy                           0.28      3492\n",
      "   macro avg       0.27      0.27      0.26      3492\n",
      "weighted avg       0.28      0.28      0.27      3492\n",
      "\n",
      "Confusion Matrix:\n",
      "[[204  60 130  52  31  62  41]\n",
      " [113 100 109  34  20  37  29]\n",
      " [108  43 305  59  26  58  64]\n",
      " [ 71  32 138  80  34  66  65]\n",
      " [ 47  25  70  37  73  36  64]\n",
      " [ 97  41 124  57  27  97  53]\n",
      " [ 83  28  97  49  40  55 121]]\n",
      "Precision: 0.2755\n",
      "Recall: 0.2806\n",
      "F1 Score: 0.2725\n"
     ]
    }
   ],
   "source": [
    "from sklearn.metrics import classification_report, confusion_matrix, accuracy_score, precision_score, recall_score, f1_score\n",
    "\n",
    "# Predict on the test set\n",
    "y_pred = best_model.predict(X_test)\n",
    "\n",
    "# Calculate Accuracy\n",
    "accuracy = accuracy_score(y_test, y_pred)\n",
    "print(f\"Accuracy: {accuracy:.4f}\")\n",
    "\n",
    "# Classification Report\n",
    "print(\"Classification Report:\")\n",
    "print(classification_report(y_test, y_pred))\n",
    "\n",
    "# Confusion Matrix\n",
    "conf_matrix = confusion_matrix(y_test, y_pred)\n",
    "print(\"Confusion Matrix:\")\n",
    "print(conf_matrix)\n",
    "\n",
    "# Precision, Recall, F1 Score for each class (Offense Type)\n",
    "precision = precision_score(y_test, y_pred, average='weighted')\n",
    "recall = recall_score(y_test, y_pred, average='weighted')\n",
    "f1 = f1_score(y_test, y_pred, average='weighted')\n",
    "\n",
    "print(f\"Precision: {precision:.4f}\")\n",
    "print(f\"Recall: {recall:.4f}\")\n",
    "print(f\"F1 Score: {f1:.4f}\")\n"
   ]
  },
  {
   "cell_type": "markdown",
   "id": "c2edeaf5",
   "metadata": {
    "papermill": {
     "duration": 0.011192,
     "end_time": "2025-05-29T01:04:45.623025",
     "exception": false,
     "start_time": "2025-05-29T01:04:45.611833",
     "status": "completed"
    },
    "tags": []
   },
   "source": [
    "#### For Logistic Regression (Coefficient Interpretation)\n",
    "\n",
    "For Logistic Regression, the model coefficients can help us understand how each feature affects the likelihood of an offense happening. A positive coefficient indicates a feature increases the likelihood of the offense, and a negative coefficient indicates the opposite."
   ]
  },
  {
   "cell_type": "code",
   "execution_count": 25,
   "id": "396d17a2",
   "metadata": {
    "execution": {
     "iopub.execute_input": "2025-05-29T01:04:45.646657Z",
     "iopub.status.busy": "2025-05-29T01:04:45.646178Z",
     "iopub.status.idle": "2025-05-29T01:04:45.650911Z",
     "shell.execute_reply": "2025-05-29T01:04:45.650386Z"
    },
    "papermill": {
     "duration": 0.017774,
     "end_time": "2025-05-29T01:04:45.651972",
     "exception": false,
     "start_time": "2025-05-29T01:04:45.634198",
     "status": "completed"
    },
    "tags": []
   },
   "outputs": [],
   "source": [
    "if isinstance(best_model, LogisticRegression):\n",
    "    # Logistic regression coefficients\n",
    "    coef_df = pd.DataFrame({\n",
    "        'Feature': X.columns,\n",
    "        'Coefficient': best_model.coef_[0]\n",
    "    })\n",
    "    coef_df['AbsCoefficient'] = coef_df['Coefficient'].abs()\n",
    "    coef_df = coef_df.sort_values(by='AbsCoefficient', ascending=False)\n",
    "    \n",
    "    # Plotting the coefficients\n",
    "    plt.figure(figsize=(10, 6))\n",
    "    sns.barplot(x='AbsCoefficient', y='Feature', data=coef_df)\n",
    "    plt.title(\"Logistic Regression Coefficients Impact\")\n",
    "    plt.show()\n",
    "\n",
    "    # Print the top 5 most impactful features (by absolute coefficient value)\n",
    "    print(\"Top 5 most impactful features based on coefficients:\")\n",
    "    print(coef_df.head())\n"
   ]
  },
  {
   "cell_type": "markdown",
   "id": "55734baa",
   "metadata": {
    "papermill": {
     "duration": 0.011635,
     "end_time": "2025-05-29T01:04:45.674912",
     "exception": false,
     "start_time": "2025-05-29T01:04:45.663277",
     "status": "completed"
    },
    "tags": []
   },
   "source": [
    "Explanation of Output:\n",
    "\n",
    "Feature Importance (Random Forest/Decision Tree): The bar plot will show how important each feature is in the decision-making process. Features at the top of the list are the most influential in predicting the occurrence of offenses.\n",
    "\n",
    "Logistic Regression Coefficients: The bar plot will show the magnitude of the coefficients for each feature. Features with larger absolute values (either positive or negative) have a stronger impact on the model’s predictions. Positive coefficients increase the probability of an offense, while negative coefficients decrease it."
   ]
  },
  {
   "cell_type": "markdown",
   "id": "40932435",
   "metadata": {
    "papermill": {
     "duration": 0.011536,
     "end_time": "2025-05-29T01:04:45.697687",
     "exception": false,
     "start_time": "2025-05-29T01:04:45.686151",
     "status": "completed"
    },
    "tags": []
   },
   "source": []
  }
 ],
 "metadata": {
  "kernelspec": {
   "display_name": "Python 3",
   "language": "python",
   "name": "python3"
  },
  "language_info": {
   "codemirror_mode": {
    "name": "ipython",
    "version": 3
   },
   "file_extension": ".py",
   "mimetype": "text/x-python",
   "name": "python",
   "nbconvert_exporter": "python",
   "pygments_lexer": "ipython3",
   "version": "3.9.22"
  },
  "papermill": {
   "default_parameters": {},
   "duration": 79.718074,
   "end_time": "2025-05-29T01:04:46.125630",
   "environment_variables": {},
   "exception": null,
   "input_path": "notebook/Crime Data.ipynb",
   "output_path": "notebook/Crime Data_output.ipynb",
   "parameters": {},
   "start_time": "2025-05-29T01:03:26.407556",
   "version": "2.6.0"
  }
 },
 "nbformat": 4,
 "nbformat_minor": 5
}