{
 "cells": [
  {
   "cell_type": "markdown",
   "id": "ed4b5a03",
   "metadata": {
    "papermill": {
     "duration": 0.004221,
     "end_time": "2025-06-16T01:06:46.574781",
     "exception": false,
     "start_time": "2025-06-16T01:06:46.570560",
     "status": "completed"
    },
    "tags": []
   },
   "source": [
    "# Charlottesville Open Data Porttal: Crime Data"
   ]
  },
  {
   "cell_type": "markdown",
   "id": "cb6dff43",
   "metadata": {
    "papermill": {
     "duration": 0.003236,
     "end_time": "2025-06-16T01:06:46.581628",
     "exception": false,
     "start_time": "2025-06-16T01:06:46.578392",
     "status": "completed"
    },
    "tags": []
   },
   "source": [
    "## Import Relevant Librarires & Set WD"
   ]
  },
  {
   "cell_type": "code",
   "execution_count": 1,
   "id": "a41dfad0",
   "metadata": {
    "execution": {
     "iopub.execute_input": "2025-06-16T01:06:46.589621Z",
     "iopub.status.busy": "2025-06-16T01:06:46.589050Z",
     "iopub.status.idle": "2025-06-16T01:06:47.344294Z",
     "shell.execute_reply": "2025-06-16T01:06:47.343641Z"
    },
    "papermill": {
     "duration": 0.760846,
     "end_time": "2025-06-16T01:06:47.345696",
     "exception": false,
     "start_time": "2025-06-16T01:06:46.584850",
     "status": "completed"
    },
    "tags": []
   },
   "outputs": [],
   "source": [
    "import requests\n",
    "import pandas as pd\n",
    "import numpy as np\n",
    "import pickle\n",
    "import googlemaps\n",
    "import plotly.express as px\n",
    "from geopy.geocoders import Nominatim\n",
    "import time\n",
    "from dotenv import load_dotenv\n",
    "import os\n",
    "\n",
    "env_path = os.path.join(\"..\", \".env\")\n",
    "#print(\"Looking for .env file at:\", os.path.abspath(env_path))\n",
    "load_dotenv(dotenv_path=env_path)\n",
    "\n",
    "# Retrieve the variables\n",
    "GOOGLE_API_KEY = os.getenv(\"GOOGLE_API_KEY\")\n",
    "WORKING_DIR = os.getenv(\"WORKING_DIR\")\n",
    "\n",
    "if GOOGLE_API_KEY is None or WORKING_DIR is None:\n",
    "    raise RuntimeError(\"No configuration found. Please ensure that your .env file exists with the required variables, or create a local config.py file.\")\n",
    "\n",
    "#print(\"Google API Key:\", GOOGLE_API_KEY)\n",
    "#print(\"Working Directory:\", WORKING_DIR)"
   ]
  },
  {
   "cell_type": "markdown",
   "id": "57f0f713",
   "metadata": {
    "papermill": {
     "duration": 0.00334,
     "end_time": "2025-06-16T01:06:47.352634",
     "exception": false,
     "start_time": "2025-06-16T01:06:47.349294",
     "status": "completed"
    },
    "tags": []
   },
   "source": [
    "## Import Data\n",
    "\n",
    "URL: https://opendata.charlottesville.org/datasets/charlottesville::crime-data/about"
   ]
  },
  {
   "cell_type": "code",
   "execution_count": 2,
   "id": "6fd10589",
   "metadata": {
    "execution": {
     "iopub.execute_input": "2025-06-16T01:06:47.360387Z",
     "iopub.status.busy": "2025-06-16T01:06:47.359806Z",
     "iopub.status.idle": "2025-06-16T01:07:54.818266Z",
     "shell.execute_reply": "2025-06-16T01:07:54.817549Z"
    },
    "papermill": {
     "duration": 67.466361,
     "end_time": "2025-06-16T01:07:54.822294",
     "exception": false,
     "start_time": "2025-06-16T01:06:47.355933",
     "status": "completed"
    },
    "tags": []
   },
   "outputs": [
    {
     "name": "stdout",
     "output_type": "stream",
     "text": [
      "Total records imported: 25522\n"
     ]
    }
   ],
   "source": [
    "# Define the endpoint and initial parameters.\n",
    "url = \"https://gisweb.charlottesville.org/arcgis/rest/services/OpenData_2/MapServer/6/query\"\n",
    "params = {\n",
    "    \"where\": \"1=1\",\n",
    "    \"outFields\": \"*\",\n",
    "    \"outSR\": 4326,\n",
    "    \"f\": \"json\",\n",
    "    \"resultOffset\": 0,       # Starting index for results\n",
    "    \"resultRecordCount\": 10000  # Maximum records per batch (if allowed by the API)\n",
    "}\n",
    "\n",
    "records = []\n",
    "\n",
    "while True:\n",
    "    response = requests.get(url, params=params)\n",
    "    response.raise_for_status()\n",
    "    data = response.json()\n",
    "    \n",
    "    # Get the current batch of features.\n",
    "    features = data.get(\"features\", [])\n",
    "    if not features:\n",
    "        break\n",
    "\n",
    "    # Extract the attributes from the features.\n",
    "    batch_records = [feature.get(\"attributes\", {}) for feature in features]\n",
    "    records.extend(batch_records)\n",
    "    \n",
    "    # If the batch size is less than the requested count, we reached the end.\n",
    "    if len(features) < params[\"resultRecordCount\"]:\n",
    "        break\n",
    "\n",
    "    # Update the resultOffset for the next batch.\n",
    "    params[\"resultOffset\"] += params[\"resultRecordCount\"]\n",
    "\n",
    "# Create a DataFrame from the combined records.\n",
    "df = pd.DataFrame(records)\n",
    "print(\"Total records imported:\", len(df))\n"
   ]
  },
  {
   "cell_type": "code",
   "execution_count": 3,
   "id": "e637019b",
   "metadata": {
    "execution": {
     "iopub.execute_input": "2025-06-16T01:07:54.830255Z",
     "iopub.status.busy": "2025-06-16T01:07:54.829779Z",
     "iopub.status.idle": "2025-06-16T01:07:54.842143Z",
     "shell.execute_reply": "2025-06-16T01:07:54.841580Z"
    },
    "papermill": {
     "duration": 0.017396,
     "end_time": "2025-06-16T01:07:54.843154",
     "exception": false,
     "start_time": "2025-06-16T01:07:54.825758",
     "status": "completed"
    },
    "tags": []
   },
   "outputs": [
    {
     "data": {
      "text/html": [
       "<div>\n",
       "<style scoped>\n",
       "    .dataframe tbody tr th:only-of-type {\n",
       "        vertical-align: middle;\n",
       "    }\n",
       "\n",
       "    .dataframe tbody tr th {\n",
       "        vertical-align: top;\n",
       "    }\n",
       "\n",
       "    .dataframe thead th {\n",
       "        text-align: right;\n",
       "    }\n",
       "</style>\n",
       "<table border=\"1\" class=\"dataframe\">\n",
       "  <thead>\n",
       "    <tr style=\"text-align: right;\">\n",
       "      <th></th>\n",
       "      <th>RecordID</th>\n",
       "      <th>Offense</th>\n",
       "      <th>IncidentID</th>\n",
       "      <th>BlockNumber</th>\n",
       "      <th>StreetName</th>\n",
       "      <th>Agency</th>\n",
       "      <th>DateReported</th>\n",
       "      <th>HourReported</th>\n",
       "      <th>ReportingOfficer</th>\n",
       "    </tr>\n",
       "  </thead>\n",
       "  <tbody>\n",
       "    <tr>\n",
       "      <th>0</th>\n",
       "      <td>1</td>\n",
       "      <td>Traffic Stops</td>\n",
       "      <td>202500020397</td>\n",
       "      <td>300</td>\n",
       "      <td>W MAIN ST</td>\n",
       "      <td>CPD</td>\n",
       "      <td>1749863553000</td>\n",
       "      <td>2112</td>\n",
       "      <td>Vlasis, Christopher</td>\n",
       "    </tr>\n",
       "    <tr>\n",
       "      <th>1</th>\n",
       "      <td>2</td>\n",
       "      <td>Larceny - Shoplifitng</td>\n",
       "      <td>202500020390</td>\n",
       "      <td>1200</td>\n",
       "      <td>EMMET ST N</td>\n",
       "      <td>CPD</td>\n",
       "      <td>1749858619000</td>\n",
       "      <td>1950</td>\n",
       "      <td>Rigsby, Lloyd</td>\n",
       "    </tr>\n",
       "    <tr>\n",
       "      <th>2</th>\n",
       "      <td>3</td>\n",
       "      <td>Weapons Violations</td>\n",
       "      <td>202500020351</td>\n",
       "      <td>500</td>\n",
       "      <td>HARRIS RD, 158</td>\n",
       "      <td>CPD</td>\n",
       "      <td>1749838351000</td>\n",
       "      <td>1412</td>\n",
       "      <td>Kinney, Dylan</td>\n",
       "    </tr>\n",
       "    <tr>\n",
       "      <th>3</th>\n",
       "      <td>4</td>\n",
       "      <td>Hit and Run</td>\n",
       "      <td>202500020353</td>\n",
       "      <td></td>\n",
       "      <td>BARRACKS RD @ MILLMONT ST</td>\n",
       "      <td>CPD</td>\n",
       "      <td>1749838286000</td>\n",
       "      <td>1411</td>\n",
       "      <td>Schwartz, Honora</td>\n",
       "    </tr>\n",
       "    <tr>\n",
       "      <th>4</th>\n",
       "      <td>5</td>\n",
       "      <td>Assist Citizen - Mental/TDO/ECO</td>\n",
       "      <td>202500020334</td>\n",
       "      <td>100</td>\n",
       "      <td>W MAIN ST</td>\n",
       "      <td>CPD</td>\n",
       "      <td>1749830320000</td>\n",
       "      <td>1158</td>\n",
       "      <td>Lucas, Todd</td>\n",
       "    </tr>\n",
       "  </tbody>\n",
       "</table>\n",
       "</div>"
      ],
      "text/plain": [
       "   RecordID                          Offense    IncidentID BlockNumber  \\\n",
       "0         1                    Traffic Stops  202500020397         300   \n",
       "1         2            Larceny - Shoplifitng  202500020390        1200   \n",
       "2         3               Weapons Violations  202500020351         500   \n",
       "3         4                      Hit and Run  202500020353               \n",
       "4         5  Assist Citizen - Mental/TDO/ECO  202500020334         100   \n",
       "\n",
       "                  StreetName Agency   DateReported HourReported  \\\n",
       "0                  W MAIN ST    CPD  1749863553000         2112   \n",
       "1                 EMMET ST N    CPD  1749858619000         1950   \n",
       "2             HARRIS RD, 158    CPD  1749838351000         1412   \n",
       "3  BARRACKS RD @ MILLMONT ST    CPD  1749838286000         1411   \n",
       "4                  W MAIN ST    CPD  1749830320000         1158   \n",
       "\n",
       "      ReportingOfficer  \n",
       "0  Vlasis, Christopher  \n",
       "1        Rigsby, Lloyd  \n",
       "2        Kinney, Dylan  \n",
       "3     Schwartz, Honora  \n",
       "4          Lucas, Todd  "
      ]
     },
     "execution_count": 3,
     "metadata": {},
     "output_type": "execute_result"
    }
   ],
   "source": [
    "df.head()"
   ]
  },
  {
   "cell_type": "code",
   "execution_count": 4,
   "id": "63cae4d1",
   "metadata": {
    "execution": {
     "iopub.execute_input": "2025-06-16T01:07:54.851367Z",
     "iopub.status.busy": "2025-06-16T01:07:54.850917Z",
     "iopub.status.idle": "2025-06-16T01:07:54.855254Z",
     "shell.execute_reply": "2025-06-16T01:07:54.854740Z"
    },
    "papermill": {
     "duration": 0.009495,
     "end_time": "2025-06-16T01:07:54.856311",
     "exception": false,
     "start_time": "2025-06-16T01:07:54.846816",
     "status": "completed"
    },
    "tags": []
   },
   "outputs": [
    {
     "data": {
      "text/plain": [
       "Index(['RecordID', 'Offense', 'IncidentID', 'BlockNumber', 'StreetName',\n",
       "       'Agency', 'DateReported', 'HourReported', 'ReportingOfficer'],\n",
       "      dtype='object')"
      ]
     },
     "execution_count": 4,
     "metadata": {},
     "output_type": "execute_result"
    }
   ],
   "source": [
    "df.columns"
   ]
  },
  {
   "cell_type": "code",
   "execution_count": 5,
   "id": "ccaa79a2",
   "metadata": {
    "execution": {
     "iopub.execute_input": "2025-06-16T01:07:54.865117Z",
     "iopub.status.busy": "2025-06-16T01:07:54.864714Z",
     "iopub.status.idle": "2025-06-16T01:07:54.883259Z",
     "shell.execute_reply": "2025-06-16T01:07:54.882550Z"
    },
    "papermill": {
     "duration": 0.024481,
     "end_time": "2025-06-16T01:07:54.884479",
     "exception": false,
     "start_time": "2025-06-16T01:07:54.859998",
     "status": "completed"
    },
    "tags": []
   },
   "outputs": [
    {
     "name": "stdout",
     "output_type": "stream",
     "text": [
      "<class 'pandas.core.frame.DataFrame'>\n",
      "RangeIndex: 25522 entries, 0 to 25521\n",
      "Data columns (total 9 columns):\n",
      " #   Column            Non-Null Count  Dtype \n",
      "---  ------            --------------  ----- \n",
      " 0   RecordID          25522 non-null  int64 \n",
      " 1   Offense           25522 non-null  object\n",
      " 2   IncidentID        25522 non-null  object\n",
      " 3   BlockNumber       25522 non-null  object\n",
      " 4   StreetName        25522 non-null  object\n",
      " 5   Agency            25522 non-null  object\n",
      " 6   DateReported      25522 non-null  int64 \n",
      " 7   HourReported      25522 non-null  object\n",
      " 8   ReportingOfficer  25505 non-null  object\n",
      "dtypes: int64(2), object(7)\n",
      "memory usage: 1.8+ MB\n"
     ]
    }
   ],
   "source": [
    "df.info()"
   ]
  },
  {
   "cell_type": "markdown",
   "id": "001850b9",
   "metadata": {
    "papermill": {
     "duration": 0.00367,
     "end_time": "2025-06-16T01:07:54.892013",
     "exception": false,
     "start_time": "2025-06-16T01:07:54.888343",
     "status": "completed"
    },
    "tags": []
   },
   "source": [
    "### Missing Values"
   ]
  },
  {
   "cell_type": "code",
   "execution_count": 6,
   "id": "fb6a5573",
   "metadata": {
    "execution": {
     "iopub.execute_input": "2025-06-16T01:07:54.923422Z",
     "iopub.status.busy": "2025-06-16T01:07:54.922973Z",
     "iopub.status.idle": "2025-06-16T01:07:54.948979Z",
     "shell.execute_reply": "2025-06-16T01:07:54.948369Z"
    },
    "papermill": {
     "duration": 0.031723,
     "end_time": "2025-06-16T01:07:54.950041",
     "exception": false,
     "start_time": "2025-06-16T01:07:54.918318",
     "status": "completed"
    },
    "tags": []
   },
   "outputs": [
    {
     "name": "stdout",
     "output_type": "stream",
     "text": [
      "                  MissingCount  MissingPercentage\n",
      "RecordID                     0               0.00\n",
      "Offense                      0               0.00\n",
      "IncidentID                   0               0.00\n",
      "BlockNumber                  0               0.00\n",
      "StreetName                   0               0.00\n",
      "Agency                       0               0.00\n",
      "DateReported                 0               0.00\n",
      "HourReported                 0               0.00\n",
      "ReportingOfficer            17               0.07\n"
     ]
    }
   ],
   "source": [
    "def missing_percentage(df):\n",
    "    \"\"\"\n",
    "    Returns a DataFrame with the count and percentage of missing values for each column.\n",
    "    \n",
    "    Parameters:\n",
    "        df (pd.DataFrame): The input DataFrame.\n",
    "    \n",
    "    Returns:\n",
    "        pd.DataFrame: A DataFrame with columns 'MissingCount' and 'MissingPercentage'.\n",
    "    \"\"\"\n",
    "    total_rows = len(df)\n",
    "    missing_count = df.isnull().sum()\n",
    "    missing_percent = (missing_count / total_rows) * 100\n",
    "    \n",
    "    result = pd.DataFrame({\n",
    "        'MissingCount': missing_count,\n",
    "        'MissingPercentage': missing_percent.round(2)\n",
    "    })\n",
    "    \n",
    "    return result\n",
    "\n",
    "# Example usage:\n",
    "missing_info = missing_percentage(df)\n",
    "print(missing_info)\n"
   ]
  },
  {
   "cell_type": "markdown",
   "id": "f06bf6fb",
   "metadata": {
    "papermill": {
     "duration": 0.003843,
     "end_time": "2025-06-16T01:07:54.957918",
     "exception": false,
     "start_time": "2025-06-16T01:07:54.954075",
     "status": "completed"
    },
    "tags": []
   },
   "source": [
    "## Data Preparation"
   ]
  },
  {
   "cell_type": "markdown",
   "id": "170ac31d",
   "metadata": {
    "papermill": {
     "duration": 0.003667,
     "end_time": "2025-06-16T01:07:54.965328",
     "exception": false,
     "start_time": "2025-06-16T01:07:54.961661",
     "status": "completed"
    },
    "tags": []
   },
   "source": [
    "### Data Conversion"
   ]
  },
  {
   "cell_type": "code",
   "execution_count": 7,
   "id": "eb3212b2",
   "metadata": {
    "execution": {
     "iopub.execute_input": "2025-06-16T01:07:54.974259Z",
     "iopub.status.busy": "2025-06-16T01:07:54.973503Z",
     "iopub.status.idle": "2025-06-16T01:07:55.331883Z",
     "shell.execute_reply": "2025-06-16T01:07:55.331184Z"
    },
    "papermill": {
     "duration": 0.363863,
     "end_time": "2025-06-16T01:07:55.332994",
     "exception": false,
     "start_time": "2025-06-16T01:07:54.969131",
     "status": "completed"
    },
    "tags": []
   },
   "outputs": [
    {
     "data": {
      "text/html": [
       "<div>\n",
       "<style scoped>\n",
       "    .dataframe tbody tr th:only-of-type {\n",
       "        vertical-align: middle;\n",
       "    }\n",
       "\n",
       "    .dataframe tbody tr th {\n",
       "        vertical-align: top;\n",
       "    }\n",
       "\n",
       "    .dataframe thead th {\n",
       "        text-align: right;\n",
       "    }\n",
       "</style>\n",
       "<table border=\"1\" class=\"dataframe\">\n",
       "  <thead>\n",
       "    <tr style=\"text-align: right;\">\n",
       "      <th></th>\n",
       "      <th>RecordID</th>\n",
       "      <th>Offense</th>\n",
       "      <th>IncidentID</th>\n",
       "      <th>BlockNumber</th>\n",
       "      <th>StreetName</th>\n",
       "      <th>Agency</th>\n",
       "      <th>HourReported</th>\n",
       "      <th>ReportingOfficer</th>\n",
       "      <th>Date</th>\n",
       "      <th>DateString</th>\n",
       "      <th>DayOfWeek</th>\n",
       "      <th>Weekend</th>\n",
       "      <th>Season</th>\n",
       "      <th>HourAMPM</th>\n",
       "      <th>TimeOfDay</th>\n",
       "    </tr>\n",
       "  </thead>\n",
       "  <tbody>\n",
       "    <tr>\n",
       "      <th>0</th>\n",
       "      <td>1</td>\n",
       "      <td>Traffic Stops</td>\n",
       "      <td>202500020397</td>\n",
       "      <td>300</td>\n",
       "      <td>W MAIN ST</td>\n",
       "      <td>CPD</td>\n",
       "      <td>2112</td>\n",
       "      <td>Vlasis, Christopher</td>\n",
       "      <td>2025-06-13 21:12:33</td>\n",
       "      <td>2025-06-13 09:12:33 PM</td>\n",
       "      <td>Friday</td>\n",
       "      <td>False</td>\n",
       "      <td>Spring</td>\n",
       "      <td>09:12 PM</td>\n",
       "      <td>Night</td>\n",
       "    </tr>\n",
       "    <tr>\n",
       "      <th>1</th>\n",
       "      <td>2</td>\n",
       "      <td>Larceny - Shoplifitng</td>\n",
       "      <td>202500020390</td>\n",
       "      <td>1200</td>\n",
       "      <td>EMMET ST N</td>\n",
       "      <td>CPD</td>\n",
       "      <td>1950</td>\n",
       "      <td>Rigsby, Lloyd</td>\n",
       "      <td>2025-06-13 19:50:19</td>\n",
       "      <td>2025-06-13 07:50:19 PM</td>\n",
       "      <td>Friday</td>\n",
       "      <td>False</td>\n",
       "      <td>Spring</td>\n",
       "      <td>07:50 PM</td>\n",
       "      <td>Evening</td>\n",
       "    </tr>\n",
       "    <tr>\n",
       "      <th>2</th>\n",
       "      <td>3</td>\n",
       "      <td>Weapons Violations</td>\n",
       "      <td>202500020351</td>\n",
       "      <td>500</td>\n",
       "      <td>HARRIS RD, 158</td>\n",
       "      <td>CPD</td>\n",
       "      <td>1412</td>\n",
       "      <td>Kinney, Dylan</td>\n",
       "      <td>2025-06-13 14:12:31</td>\n",
       "      <td>2025-06-13 02:12:31 PM</td>\n",
       "      <td>Friday</td>\n",
       "      <td>False</td>\n",
       "      <td>Spring</td>\n",
       "      <td>02:12 PM</td>\n",
       "      <td>Afternoon</td>\n",
       "    </tr>\n",
       "    <tr>\n",
       "      <th>3</th>\n",
       "      <td>4</td>\n",
       "      <td>Hit and Run</td>\n",
       "      <td>202500020353</td>\n",
       "      <td></td>\n",
       "      <td>BARRACKS RD @ MILLMONT ST</td>\n",
       "      <td>CPD</td>\n",
       "      <td>1411</td>\n",
       "      <td>Schwartz, Honora</td>\n",
       "      <td>2025-06-13 14:11:26</td>\n",
       "      <td>2025-06-13 02:11:26 PM</td>\n",
       "      <td>Friday</td>\n",
       "      <td>False</td>\n",
       "      <td>Spring</td>\n",
       "      <td>02:11 PM</td>\n",
       "      <td>Afternoon</td>\n",
       "    </tr>\n",
       "    <tr>\n",
       "      <th>4</th>\n",
       "      <td>5</td>\n",
       "      <td>Assist Citizen - Mental/TDO/ECO</td>\n",
       "      <td>202500020334</td>\n",
       "      <td>100</td>\n",
       "      <td>W MAIN ST</td>\n",
       "      <td>CPD</td>\n",
       "      <td>1158</td>\n",
       "      <td>Lucas, Todd</td>\n",
       "      <td>2025-06-13 11:58:40</td>\n",
       "      <td>2025-06-13 11:58:40 AM</td>\n",
       "      <td>Friday</td>\n",
       "      <td>False</td>\n",
       "      <td>Spring</td>\n",
       "      <td>11:58 AM</td>\n",
       "      <td>Morning</td>\n",
       "    </tr>\n",
       "  </tbody>\n",
       "</table>\n",
       "</div>"
      ],
      "text/plain": [
       "   RecordID                          Offense    IncidentID BlockNumber  \\\n",
       "0         1                    Traffic Stops  202500020397         300   \n",
       "1         2            Larceny - Shoplifitng  202500020390        1200   \n",
       "2         3               Weapons Violations  202500020351         500   \n",
       "3         4                      Hit and Run  202500020353               \n",
       "4         5  Assist Citizen - Mental/TDO/ECO  202500020334         100   \n",
       "\n",
       "                  StreetName Agency HourReported     ReportingOfficer  \\\n",
       "0                  W MAIN ST    CPD         2112  Vlasis, Christopher   \n",
       "1                 EMMET ST N    CPD         1950        Rigsby, Lloyd   \n",
       "2             HARRIS RD, 158    CPD         1412        Kinney, Dylan   \n",
       "3  BARRACKS RD @ MILLMONT ST    CPD         1411     Schwartz, Honora   \n",
       "4                  W MAIN ST    CPD         1158          Lucas, Todd   \n",
       "\n",
       "                 Date              DateString DayOfWeek  Weekend  Season  \\\n",
       "0 2025-06-13 21:12:33  2025-06-13 09:12:33 PM    Friday    False  Spring   \n",
       "1 2025-06-13 19:50:19  2025-06-13 07:50:19 PM    Friday    False  Spring   \n",
       "2 2025-06-13 14:12:31  2025-06-13 02:12:31 PM    Friday    False  Spring   \n",
       "3 2025-06-13 14:11:26  2025-06-13 02:11:26 PM    Friday    False  Spring   \n",
       "4 2025-06-13 11:58:40  2025-06-13 11:58:40 AM    Friday    False  Spring   \n",
       "\n",
       "   HourAMPM  TimeOfDay  \n",
       "0  09:12 PM      Night  \n",
       "1  07:50 PM    Evening  \n",
       "2  02:12 PM  Afternoon  \n",
       "3  02:11 PM  Afternoon  \n",
       "4  11:58 AM    Morning  "
      ]
     },
     "execution_count": 7,
     "metadata": {},
     "output_type": "execute_result"
    }
   ],
   "source": [
    "def convert_and_categorize_datereported(df, col='DateReported'):\n",
    "    \"\"\"\n",
    "    Converts an epoch (in milliseconds) date column into a timezone-aware datetime,\n",
    "    converts it to Eastern Time, and then creates columns for day-of-week, weekend flag,\n",
    "    season, 12-hour formatted time, and time-of-day. Keeps both a real datetime column\n",
    "    (Date) and a string representation (DateString).\n",
    "    \"\"\"\n",
    "    import pandas as pd\n",
    "\n",
    "    # Convert the epoch timestamp to a pandas datetime object as UTC, then convert to US/Eastern.\n",
    "    df[\"DateReported_dt\"] = (\n",
    "        pd.to_datetime(df[col], unit=\"ms\", errors=\"coerce\", utc=True)\n",
    "        .dt.tz_convert(\"US/Eastern\")\n",
    "    )\n",
    "    \n",
    "    # Create a true datetime column (remove timezone if you prefer naive datetime)\n",
    "    df[\"Date\"] = df[\"DateReported_dt\"].dt.tz_localize(None)\n",
    "\n",
    "    # Optionally, create a separate string-formatted column\n",
    "    df[\"DateString\"] = df[\"DateReported_dt\"].dt.strftime(\"%Y-%m-%d %I:%M:%S %p\")\n",
    "    \n",
    "    # DayOfWeek\n",
    "    df[\"DayOfWeek\"] = df[\"DateReported_dt\"].dt.day_name()\n",
    "    \n",
    "    # Weekend\n",
    "    df[\"Weekend\"] = df[\"DayOfWeek\"].isin([\"Saturday\", \"Sunday\"])\n",
    "    \n",
    "    # Helper function to determine the season\n",
    "    def get_season(dt):\n",
    "        month = dt.month\n",
    "        day = dt.day\n",
    "        # Approximate Northern Hemisphere season boundaries:\n",
    "        if (month == 12 and day >= 21) or (month < 3) or (month == 3 and day < 20):\n",
    "            return \"Winter\"\n",
    "        elif (month == 3 and day >= 20) or (month < 6) or (month == 6 and day < 21):\n",
    "            return \"Spring\"\n",
    "        elif (month == 6 and day >= 21) or (month < 9) or (month == 9 and day < 22):\n",
    "            return \"Summer\"\n",
    "        else:\n",
    "            return \"Autumn\"\n",
    "    \n",
    "    df[\"Season\"] = df[\"DateReported_dt\"].apply(get_season)\n",
    "    \n",
    "    # 12-hour formatted time (HourAMPM)\n",
    "    df[\"HourAMPM\"] = df[\"DateReported_dt\"].dt.strftime(\"%I:%M %p\")\n",
    "    \n",
    "    # Extract hour (0-23) for time-of-day\n",
    "    df[\"HourValue\"] = df[\"DateReported_dt\"].dt.hour\n",
    "    \n",
    "    def time_of_day(hour):\n",
    "        if pd.isnull(hour):\n",
    "            return None\n",
    "        if 5 <= hour < 12:\n",
    "            return \"Morning\"\n",
    "        elif 12 <= hour < 17:\n",
    "            return \"Afternoon\"\n",
    "        elif 17 <= hour < 21:\n",
    "            return \"Evening\"\n",
    "        else:\n",
    "            return \"Night\"\n",
    "    \n",
    "    df[\"TimeOfDay\"] = df[\"HourValue\"].apply(time_of_day)\n",
    "    \n",
    "    # Drop columns you no longer need\n",
    "    df.drop(columns=[col, \"DateReported_dt\", \"HourValue\"], inplace=True)\n",
    "    \n",
    "    return df\n",
    "\n",
    "# Example usage:\n",
    "df = convert_and_categorize_datereported(df)\n",
    "df.head()\n"
   ]
  },
  {
   "cell_type": "code",
   "execution_count": 8,
   "id": "aee5ca3d",
   "metadata": {
    "execution": {
     "iopub.execute_input": "2025-06-16T01:07:55.342459Z",
     "iopub.status.busy": "2025-06-16T01:07:55.342264Z",
     "iopub.status.idle": "2025-06-16T01:07:55.369545Z",
     "shell.execute_reply": "2025-06-16T01:07:55.368980Z"
    },
    "papermill": {
     "duration": 0.033181,
     "end_time": "2025-06-16T01:07:55.370596",
     "exception": false,
     "start_time": "2025-06-16T01:07:55.337415",
     "status": "completed"
    },
    "tags": []
   },
   "outputs": [
    {
     "name": "stdout",
     "output_type": "stream",
     "text": [
      "<class 'pandas.core.frame.DataFrame'>\n",
      "RangeIndex: 25522 entries, 0 to 25521\n",
      "Data columns (total 15 columns):\n",
      " #   Column            Non-Null Count  Dtype         \n",
      "---  ------            --------------  -----         \n",
      " 0   RecordID          25522 non-null  int64         \n",
      " 1   Offense           25522 non-null  object        \n",
      " 2   IncidentID        25522 non-null  object        \n",
      " 3   BlockNumber       25522 non-null  object        \n",
      " 4   StreetName        25522 non-null  object        \n",
      " 5   Agency            25522 non-null  object        \n",
      " 6   HourReported      25522 non-null  object        \n",
      " 7   ReportingOfficer  25505 non-null  object        \n",
      " 8   Date              25522 non-null  datetime64[ns]\n",
      " 9   DateString        25522 non-null  object        \n",
      " 10  DayOfWeek         25522 non-null  object        \n",
      " 11  Weekend           25522 non-null  bool          \n",
      " 12  Season            25522 non-null  object        \n",
      " 13  HourAMPM          25522 non-null  object        \n",
      " 14  TimeOfDay         25522 non-null  object        \n",
      "dtypes: bool(1), datetime64[ns](1), int64(1), object(12)\n",
      "memory usage: 2.8+ MB\n"
     ]
    }
   ],
   "source": [
    "df.info()"
   ]
  },
  {
   "cell_type": "markdown",
   "id": "5c883e8d",
   "metadata": {
    "papermill": {
     "duration": 0.004007,
     "end_time": "2025-06-16T01:07:55.378883",
     "exception": false,
     "start_time": "2025-06-16T01:07:55.374876",
     "status": "completed"
    },
    "tags": []
   },
   "source": [
    "### Coordinates"
   ]
  },
  {
   "cell_type": "code",
   "execution_count": 9,
   "id": "0570a4d2",
   "metadata": {
    "execution": {
     "iopub.execute_input": "2025-06-16T01:07:55.388159Z",
     "iopub.status.busy": "2025-06-16T01:07:55.387762Z",
     "iopub.status.idle": "2025-06-16T01:07:55.589494Z",
     "shell.execute_reply": "2025-06-16T01:07:55.588916Z"
    },
    "papermill": {
     "duration": 0.20762,
     "end_time": "2025-06-16T01:07:55.590658",
     "exception": false,
     "start_time": "2025-06-16T01:07:55.383038",
     "status": "completed"
    },
    "tags": []
   },
   "outputs": [
    {
     "name": "stdout",
     "output_type": "stream",
     "text": [
      "Loaded geocode cache.\n",
      "Error geocoding 500 HARRIS RD, 158: REQUEST_DENIED (You must enable Billing on the Google Cloud Project at https://console.cloud.google.com/project/_/billing/enable Learn more at https://developers.google.com/maps/gmp-get-started)\n",
      "Geocoded 500 HARRIS RD, 158: None, None\n",
      "Error geocoding 100 COPELEY RD: REQUEST_DENIED (You must enable Billing on the Google Cloud Project at https://console.cloud.google.com/project/_/billing/enable Learn more at https://developers.google.com/maps/gmp-get-started)\n",
      "Geocoded 100 COPELEY RD: None, None\n",
      "Error geocoding 100 GARRETT ST, 700: REQUEST_DENIED (You must enable Billing on the Google Cloud Project at https://console.cloud.google.com/project/_/billing/enable Learn more at https://developers.google.com/maps/gmp-get-started)\n",
      "Geocoded 100 GARRETT ST, 700: None, None\n",
      "Geocode cache updated and saved.\n"
     ]
    },
    {
     "data": {
      "text/html": [
       "<div>\n",
       "<style scoped>\n",
       "    .dataframe tbody tr th:only-of-type {\n",
       "        vertical-align: middle;\n",
       "    }\n",
       "\n",
       "    .dataframe tbody tr th {\n",
       "        vertical-align: top;\n",
       "    }\n",
       "\n",
       "    .dataframe thead th {\n",
       "        text-align: right;\n",
       "    }\n",
       "</style>\n",
       "<table border=\"1\" class=\"dataframe\">\n",
       "  <thead>\n",
       "    <tr style=\"text-align: right;\">\n",
       "      <th></th>\n",
       "      <th>RecordID</th>\n",
       "      <th>Offense</th>\n",
       "      <th>IncidentID</th>\n",
       "      <th>BlockNumber</th>\n",
       "      <th>StreetName</th>\n",
       "      <th>Agency</th>\n",
       "      <th>HourReported</th>\n",
       "      <th>ReportingOfficer</th>\n",
       "      <th>Date</th>\n",
       "      <th>DateString</th>\n",
       "      <th>DayOfWeek</th>\n",
       "      <th>Weekend</th>\n",
       "      <th>Season</th>\n",
       "      <th>HourAMPM</th>\n",
       "      <th>TimeOfDay</th>\n",
       "      <th>FullStreet</th>\n",
       "      <th>lat</th>\n",
       "      <th>lon</th>\n",
       "    </tr>\n",
       "  </thead>\n",
       "  <tbody>\n",
       "    <tr>\n",
       "      <th>0</th>\n",
       "      <td>1</td>\n",
       "      <td>Traffic Stops</td>\n",
       "      <td>202500020397</td>\n",
       "      <td>300</td>\n",
       "      <td>W MAIN ST</td>\n",
       "      <td>CPD</td>\n",
       "      <td>2112</td>\n",
       "      <td>Vlasis, Christopher</td>\n",
       "      <td>2025-06-13 21:12:33</td>\n",
       "      <td>2025-06-13 09:12:33 PM</td>\n",
       "      <td>Friday</td>\n",
       "      <td>False</td>\n",
       "      <td>Spring</td>\n",
       "      <td>09:12 PM</td>\n",
       "      <td>Night</td>\n",
       "      <td>300 W MAIN ST</td>\n",
       "      <td>38.030224</td>\n",
       "      <td>-78.485595</td>\n",
       "    </tr>\n",
       "    <tr>\n",
       "      <th>1</th>\n",
       "      <td>2</td>\n",
       "      <td>Larceny - Shoplifitng</td>\n",
       "      <td>202500020390</td>\n",
       "      <td>1200</td>\n",
       "      <td>EMMET ST N</td>\n",
       "      <td>CPD</td>\n",
       "      <td>1950</td>\n",
       "      <td>Rigsby, Lloyd</td>\n",
       "      <td>2025-06-13 19:50:19</td>\n",
       "      <td>2025-06-13 07:50:19 PM</td>\n",
       "      <td>Friday</td>\n",
       "      <td>False</td>\n",
       "      <td>Spring</td>\n",
       "      <td>07:50 PM</td>\n",
       "      <td>Evening</td>\n",
       "      <td>1200 EMMET ST N</td>\n",
       "      <td>38.052917</td>\n",
       "      <td>-78.498591</td>\n",
       "    </tr>\n",
       "    <tr>\n",
       "      <th>2</th>\n",
       "      <td>3</td>\n",
       "      <td>Weapons Violations</td>\n",
       "      <td>202500020351</td>\n",
       "      <td>500</td>\n",
       "      <td>HARRIS RD, 158</td>\n",
       "      <td>CPD</td>\n",
       "      <td>1412</td>\n",
       "      <td>Kinney, Dylan</td>\n",
       "      <td>2025-06-13 14:12:31</td>\n",
       "      <td>2025-06-13 02:12:31 PM</td>\n",
       "      <td>Friday</td>\n",
       "      <td>False</td>\n",
       "      <td>Spring</td>\n",
       "      <td>02:12 PM</td>\n",
       "      <td>Afternoon</td>\n",
       "      <td>500 HARRIS RD, 158</td>\n",
       "      <td>NaN</td>\n",
       "      <td>NaN</td>\n",
       "    </tr>\n",
       "    <tr>\n",
       "      <th>3</th>\n",
       "      <td>4</td>\n",
       "      <td>Hit and Run</td>\n",
       "      <td>202500020353</td>\n",
       "      <td></td>\n",
       "      <td>BARRACKS RD @ MILLMONT ST</td>\n",
       "      <td>CPD</td>\n",
       "      <td>1411</td>\n",
       "      <td>Schwartz, Honora</td>\n",
       "      <td>2025-06-13 14:11:26</td>\n",
       "      <td>2025-06-13 02:11:26 PM</td>\n",
       "      <td>Friday</td>\n",
       "      <td>False</td>\n",
       "      <td>Spring</td>\n",
       "      <td>02:11 PM</td>\n",
       "      <td>Afternoon</td>\n",
       "      <td>BARRACKS RD @ MILLMONT ST</td>\n",
       "      <td>38.054292</td>\n",
       "      <td>-78.500528</td>\n",
       "    </tr>\n",
       "    <tr>\n",
       "      <th>4</th>\n",
       "      <td>5</td>\n",
       "      <td>Assist Citizen - Mental/TDO/ECO</td>\n",
       "      <td>202500020334</td>\n",
       "      <td>100</td>\n",
       "      <td>W MAIN ST</td>\n",
       "      <td>CPD</td>\n",
       "      <td>1158</td>\n",
       "      <td>Lucas, Todd</td>\n",
       "      <td>2025-06-13 11:58:40</td>\n",
       "      <td>2025-06-13 11:58:40 AM</td>\n",
       "      <td>Friday</td>\n",
       "      <td>False</td>\n",
       "      <td>Spring</td>\n",
       "      <td>11:58 AM</td>\n",
       "      <td>Morning</td>\n",
       "      <td>100 W MAIN ST</td>\n",
       "      <td>38.030718</td>\n",
       "      <td>-78.481656</td>\n",
       "    </tr>\n",
       "  </tbody>\n",
       "</table>\n",
       "</div>"
      ],
      "text/plain": [
       "   RecordID                          Offense    IncidentID BlockNumber  \\\n",
       "0         1                    Traffic Stops  202500020397         300   \n",
       "1         2            Larceny - Shoplifitng  202500020390        1200   \n",
       "2         3               Weapons Violations  202500020351         500   \n",
       "3         4                      Hit and Run  202500020353               \n",
       "4         5  Assist Citizen - Mental/TDO/ECO  202500020334         100   \n",
       "\n",
       "                  StreetName Agency HourReported     ReportingOfficer  \\\n",
       "0                  W MAIN ST    CPD         2112  Vlasis, Christopher   \n",
       "1                 EMMET ST N    CPD         1950        Rigsby, Lloyd   \n",
       "2             HARRIS RD, 158    CPD         1412        Kinney, Dylan   \n",
       "3  BARRACKS RD @ MILLMONT ST    CPD         1411     Schwartz, Honora   \n",
       "4                  W MAIN ST    CPD         1158          Lucas, Todd   \n",
       "\n",
       "                 Date              DateString DayOfWeek  Weekend  Season  \\\n",
       "0 2025-06-13 21:12:33  2025-06-13 09:12:33 PM    Friday    False  Spring   \n",
       "1 2025-06-13 19:50:19  2025-06-13 07:50:19 PM    Friday    False  Spring   \n",
       "2 2025-06-13 14:12:31  2025-06-13 02:12:31 PM    Friday    False  Spring   \n",
       "3 2025-06-13 14:11:26  2025-06-13 02:11:26 PM    Friday    False  Spring   \n",
       "4 2025-06-13 11:58:40  2025-06-13 11:58:40 AM    Friday    False  Spring   \n",
       "\n",
       "   HourAMPM  TimeOfDay                  FullStreet        lat        lon  \n",
       "0  09:12 PM      Night               300 W MAIN ST  38.030224 -78.485595  \n",
       "1  07:50 PM    Evening             1200 EMMET ST N  38.052917 -78.498591  \n",
       "2  02:12 PM  Afternoon          500 HARRIS RD, 158        NaN        NaN  \n",
       "3  02:11 PM  Afternoon   BARRACKS RD @ MILLMONT ST  38.054292 -78.500528  \n",
       "4  11:58 AM    Morning               100 W MAIN ST  38.030718 -78.481656  "
      ]
     },
     "execution_count": 9,
     "metadata": {},
     "output_type": "execute_result"
    }
   ],
   "source": [
    "# Combine BlockNumber and StreetName into a full address string\n",
    "df['FullStreet'] = df['BlockNumber'].astype(str) + \" \" + df['StreetName']\n",
    "\n",
    "# --- Step 1: Setup the Google Maps Client and Cache ---\n",
    "gmaps = googlemaps.Client(key=GOOGLE_API_KEY)\n",
    "\n",
    "# Try to load cached geocoding results if available.\n",
    "try:\n",
    "    with open(\"geocode_cache_google.pkl\", \"rb\") as f:\n",
    "        street_coords = pickle.load(f)\n",
    "    print(\"Loaded geocode cache.\")\n",
    "except FileNotFoundError:\n",
    "    street_coords = {}\n",
    "    print(\"No cache found; starting fresh.\")\n",
    "\n",
    "def geocode_address(address):\n",
    "    try:\n",
    "        # Append city and state to help geocoding\n",
    "        result = gmaps.geocode(f\"{address}, Charlottesville, VA\")\n",
    "        if result:\n",
    "            lat = result[0]['geometry']['location']['lat']\n",
    "            lon = result[0]['geometry']['location']['lng']\n",
    "            return lat, lon\n",
    "    except Exception as e:\n",
    "        print(f\"Error geocoding {address}: {e}\")\n",
    "    return None, None\n",
    "\n",
    "# --- Step 2: Geocode Only New Addresses ---\n",
    "unique_addresses = df['FullStreet'].unique()\n",
    "for address in unique_addresses:\n",
    "    if address not in street_coords:\n",
    "        lat, lon = geocode_address(address)\n",
    "        street_coords[address] = (lat, lon)\n",
    "        print(f\"Geocoded {address}: {lat}, {lon}\")\n",
    "\n",
    "# Save the updated cache to disk.\n",
    "with open(\"geocode_cache_google.pkl\", \"wb\") as f:\n",
    "    pickle.dump(street_coords, f)\n",
    "    print(\"Geocode cache updated and saved.\")\n",
    "\n",
    "# --- Step 3: Map Coordinates Back to DataFrame ---\n",
    "df['lat'] = df['FullStreet'].map(lambda s: street_coords.get(s, (None, None))[0])\n",
    "df['lon'] = df['FullStreet'].map(lambda s: street_coords.get(s, (None, None))[1])\n",
    "\n",
    "df.head()"
   ]
  },
  {
   "cell_type": "markdown",
   "id": "d6959812",
   "metadata": {
    "papermill": {
     "duration": 0.004485,
     "end_time": "2025-06-16T01:07:55.599933",
     "exception": false,
     "start_time": "2025-06-16T01:07:55.595448",
     "status": "completed"
    },
    "tags": []
   },
   "source": [
    "### Neighborhood"
   ]
  },
  {
   "cell_type": "code",
   "execution_count": 10,
   "id": "3694850c",
   "metadata": {
    "execution": {
     "iopub.execute_input": "2025-06-16T01:07:55.609522Z",
     "iopub.status.busy": "2025-06-16T01:07:55.609326Z",
     "iopub.status.idle": "2025-06-16T01:07:56.295717Z",
     "shell.execute_reply": "2025-06-16T01:07:56.294969Z"
    },
    "papermill": {
     "duration": 0.692517,
     "end_time": "2025-06-16T01:07:56.296764",
     "exception": false,
     "start_time": "2025-06-16T01:07:55.604247",
     "status": "completed"
    },
    "tags": []
   },
   "outputs": [
    {
     "name": "stdout",
     "output_type": "stream",
     "text": [
      "Loaded neighborhood cache.\n",
      "Error getting neighborhood for nan, nan: HTTP Error: 400\n",
      "Error getting neighborhood for nan, nan: HTTP Error: 400\n",
      "Error getting neighborhood for nan, nan: HTTP Error: 400\n",
      "Error getting neighborhood for nan, nan: HTTP Error: 400\n",
      "Error getting neighborhood for nan, nan: HTTP Error: 400\n"
     ]
    },
    {
     "name": "stdout",
     "output_type": "stream",
     "text": [
      "Error getting neighborhood for nan, nan: HTTP Error: 400\n",
      "Error getting neighborhood for nan, nan: HTTP Error: 400\n",
      "Error getting neighborhood for nan, nan: HTTP Error: 400\n",
      "Error getting neighborhood for nan, nan: HTTP Error: 400\n",
      "Error getting neighborhood for nan, nan: HTTP Error: 400\n",
      "Error getting neighborhood for nan, nan: HTTP Error: 400\n",
      "Error getting neighborhood for nan, nan: HTTP Error: 400\n",
      "Error getting neighborhood for nan, nan: HTTP Error: 400\n",
      "Error getting neighborhood for nan, nan: HTTP Error: 400\n",
      "Error getting neighborhood for nan, nan: HTTP Error: 400\n",
      "Error getting neighborhood for nan, nan: HTTP Error: 400\n"
     ]
    },
    {
     "name": "stdout",
     "output_type": "stream",
     "text": [
      "Error getting neighborhood for nan, nan: HTTP Error: 400\n",
      "Error getting neighborhood for nan, nan: HTTP Error: 400\n",
      "Error getting neighborhood for nan, nan: HTTP Error: 400\n",
      "Error getting neighborhood for nan, nan: HTTP Error: 400\n"
     ]
    },
    {
     "data": {
      "text/html": [
       "<div>\n",
       "<style scoped>\n",
       "    .dataframe tbody tr th:only-of-type {\n",
       "        vertical-align: middle;\n",
       "    }\n",
       "\n",
       "    .dataframe tbody tr th {\n",
       "        vertical-align: top;\n",
       "    }\n",
       "\n",
       "    .dataframe thead th {\n",
       "        text-align: right;\n",
       "    }\n",
       "</style>\n",
       "<table border=\"1\" class=\"dataframe\">\n",
       "  <thead>\n",
       "    <tr style=\"text-align: right;\">\n",
       "      <th></th>\n",
       "      <th>RecordID</th>\n",
       "      <th>Offense</th>\n",
       "      <th>IncidentID</th>\n",
       "      <th>BlockNumber</th>\n",
       "      <th>StreetName</th>\n",
       "      <th>Agency</th>\n",
       "      <th>HourReported</th>\n",
       "      <th>ReportingOfficer</th>\n",
       "      <th>Date</th>\n",
       "      <th>DateString</th>\n",
       "      <th>DayOfWeek</th>\n",
       "      <th>Weekend</th>\n",
       "      <th>Season</th>\n",
       "      <th>HourAMPM</th>\n",
       "      <th>TimeOfDay</th>\n",
       "      <th>FullStreet</th>\n",
       "      <th>lat</th>\n",
       "      <th>lon</th>\n",
       "      <th>neighborhood</th>\n",
       "    </tr>\n",
       "  </thead>\n",
       "  <tbody>\n",
       "    <tr>\n",
       "      <th>0</th>\n",
       "      <td>1</td>\n",
       "      <td>Traffic Stops</td>\n",
       "      <td>202500020397</td>\n",
       "      <td>300</td>\n",
       "      <td>W MAIN ST</td>\n",
       "      <td>CPD</td>\n",
       "      <td>2112</td>\n",
       "      <td>Vlasis, Christopher</td>\n",
       "      <td>2025-06-13 21:12:33</td>\n",
       "      <td>2025-06-13 09:12:33 PM</td>\n",
       "      <td>Friday</td>\n",
       "      <td>False</td>\n",
       "      <td>Spring</td>\n",
       "      <td>09:12 PM</td>\n",
       "      <td>Night</td>\n",
       "      <td>300 W MAIN ST</td>\n",
       "      <td>38.030224</td>\n",
       "      <td>-78.485595</td>\n",
       "      <td>Starr Hill</td>\n",
       "    </tr>\n",
       "    <tr>\n",
       "      <th>1</th>\n",
       "      <td>2</td>\n",
       "      <td>Larceny - Shoplifitng</td>\n",
       "      <td>202500020390</td>\n",
       "      <td>1200</td>\n",
       "      <td>EMMET ST N</td>\n",
       "      <td>CPD</td>\n",
       "      <td>1950</td>\n",
       "      <td>Rigsby, Lloyd</td>\n",
       "      <td>2025-06-13 19:50:19</td>\n",
       "      <td>2025-06-13 07:50:19 PM</td>\n",
       "      <td>Friday</td>\n",
       "      <td>False</td>\n",
       "      <td>Spring</td>\n",
       "      <td>07:50 PM</td>\n",
       "      <td>Evening</td>\n",
       "      <td>1200 EMMET ST N</td>\n",
       "      <td>38.052917</td>\n",
       "      <td>-78.498591</td>\n",
       "      <td>The Meadows</td>\n",
       "    </tr>\n",
       "    <tr>\n",
       "      <th>2</th>\n",
       "      <td>3</td>\n",
       "      <td>Weapons Violations</td>\n",
       "      <td>202500020351</td>\n",
       "      <td>500</td>\n",
       "      <td>HARRIS RD, 158</td>\n",
       "      <td>CPD</td>\n",
       "      <td>1412</td>\n",
       "      <td>Kinney, Dylan</td>\n",
       "      <td>2025-06-13 14:12:31</td>\n",
       "      <td>2025-06-13 02:12:31 PM</td>\n",
       "      <td>Friday</td>\n",
       "      <td>False</td>\n",
       "      <td>Spring</td>\n",
       "      <td>02:12 PM</td>\n",
       "      <td>Afternoon</td>\n",
       "      <td>500 HARRIS RD, 158</td>\n",
       "      <td>NaN</td>\n",
       "      <td>NaN</td>\n",
       "      <td>N/A</td>\n",
       "    </tr>\n",
       "    <tr>\n",
       "      <th>3</th>\n",
       "      <td>4</td>\n",
       "      <td>Hit and Run</td>\n",
       "      <td>202500020353</td>\n",
       "      <td></td>\n",
       "      <td>BARRACKS RD @ MILLMONT ST</td>\n",
       "      <td>CPD</td>\n",
       "      <td>1411</td>\n",
       "      <td>Schwartz, Honora</td>\n",
       "      <td>2025-06-13 14:11:26</td>\n",
       "      <td>2025-06-13 02:11:26 PM</td>\n",
       "      <td>Friday</td>\n",
       "      <td>False</td>\n",
       "      <td>Spring</td>\n",
       "      <td>02:11 PM</td>\n",
       "      <td>Afternoon</td>\n",
       "      <td>BARRACKS RD @ MILLMONT ST</td>\n",
       "      <td>38.054292</td>\n",
       "      <td>-78.500528</td>\n",
       "      <td>Barracks Road</td>\n",
       "    </tr>\n",
       "    <tr>\n",
       "      <th>4</th>\n",
       "      <td>5</td>\n",
       "      <td>Assist Citizen - Mental/TDO/ECO</td>\n",
       "      <td>202500020334</td>\n",
       "      <td>100</td>\n",
       "      <td>W MAIN ST</td>\n",
       "      <td>CPD</td>\n",
       "      <td>1158</td>\n",
       "      <td>Lucas, Todd</td>\n",
       "      <td>2025-06-13 11:58:40</td>\n",
       "      <td>2025-06-13 11:58:40 AM</td>\n",
       "      <td>Friday</td>\n",
       "      <td>False</td>\n",
       "      <td>Spring</td>\n",
       "      <td>11:58 AM</td>\n",
       "      <td>Morning</td>\n",
       "      <td>100 W MAIN ST</td>\n",
       "      <td>38.030718</td>\n",
       "      <td>-78.481656</td>\n",
       "      <td>Downtown Mall</td>\n",
       "    </tr>\n",
       "  </tbody>\n",
       "</table>\n",
       "</div>"
      ],
      "text/plain": [
       "   RecordID                          Offense    IncidentID BlockNumber  \\\n",
       "0         1                    Traffic Stops  202500020397         300   \n",
       "1         2            Larceny - Shoplifitng  202500020390        1200   \n",
       "2         3               Weapons Violations  202500020351         500   \n",
       "3         4                      Hit and Run  202500020353               \n",
       "4         5  Assist Citizen - Mental/TDO/ECO  202500020334         100   \n",
       "\n",
       "                  StreetName Agency HourReported     ReportingOfficer  \\\n",
       "0                  W MAIN ST    CPD         2112  Vlasis, Christopher   \n",
       "1                 EMMET ST N    CPD         1950        Rigsby, Lloyd   \n",
       "2             HARRIS RD, 158    CPD         1412        Kinney, Dylan   \n",
       "3  BARRACKS RD @ MILLMONT ST    CPD         1411     Schwartz, Honora   \n",
       "4                  W MAIN ST    CPD         1158          Lucas, Todd   \n",
       "\n",
       "                 Date              DateString DayOfWeek  Weekend  Season  \\\n",
       "0 2025-06-13 21:12:33  2025-06-13 09:12:33 PM    Friday    False  Spring   \n",
       "1 2025-06-13 19:50:19  2025-06-13 07:50:19 PM    Friday    False  Spring   \n",
       "2 2025-06-13 14:12:31  2025-06-13 02:12:31 PM    Friday    False  Spring   \n",
       "3 2025-06-13 14:11:26  2025-06-13 02:11:26 PM    Friday    False  Spring   \n",
       "4 2025-06-13 11:58:40  2025-06-13 11:58:40 AM    Friday    False  Spring   \n",
       "\n",
       "   HourAMPM  TimeOfDay                  FullStreet        lat        lon  \\\n",
       "0  09:12 PM      Night               300 W MAIN ST  38.030224 -78.485595   \n",
       "1  07:50 PM    Evening             1200 EMMET ST N  38.052917 -78.498591   \n",
       "2  02:12 PM  Afternoon          500 HARRIS RD, 158        NaN        NaN   \n",
       "3  02:11 PM  Afternoon   BARRACKS RD @ MILLMONT ST  38.054292 -78.500528   \n",
       "4  11:58 AM    Morning               100 W MAIN ST  38.030718 -78.481656   \n",
       "\n",
       "    neighborhood  \n",
       "0     Starr Hill  \n",
       "1    The Meadows  \n",
       "2            N/A  \n",
       "3  Barracks Road  \n",
       "4  Downtown Mall  "
      ]
     },
     "execution_count": 10,
     "metadata": {},
     "output_type": "execute_result"
    }
   ],
   "source": [
    "# Initialize the Google Maps client.\n",
    "gmaps = googlemaps.Client(key=GOOGLE_API_KEY)\n",
    "\n",
    "# Try to load a persistent neighborhood cache if available.\n",
    "try:\n",
    "    with open(\"neighborhood_cache.pkl\", \"rb\") as f:\n",
    "        neighborhood_cache = pickle.load(f)\n",
    "    print(\"Loaded neighborhood cache.\")\n",
    "except FileNotFoundError:\n",
    "    neighborhood_cache = {}\n",
    "    print(\"No neighborhood cache found; starting fresh.\")\n",
    "\n",
    "def get_neighborhood(lat, lon):\n",
    "    \"\"\"\n",
    "    Reverse geocodes a latitude and longitude to retrieve the neighborhood.\n",
    "    Caches results to speed up subsequent lookups.\n",
    "    \"\"\"\n",
    "    key = (lat, lon)\n",
    "    if key in neighborhood_cache:\n",
    "        return neighborhood_cache[key]\n",
    "    \n",
    "    try:\n",
    "        result = gmaps.reverse_geocode((lat, lon))\n",
    "        if result:\n",
    "            # Look for the 'neighborhood' component in the first result.\n",
    "            for component in result[0]['address_components']:\n",
    "                if 'neighborhood' in component['types']:\n",
    "                    neighborhood = component['long_name']\n",
    "                    neighborhood_cache[key] = neighborhood\n",
    "                    return neighborhood\n",
    "            # If no neighborhood is found, return \"N/A\"\n",
    "            neighborhood_cache[key] = \"N/A\"\n",
    "            return \"N/A\"\n",
    "    except Exception as e:\n",
    "        print(f\"Error getting neighborhood for {lat}, {lon}: {e}\")\n",
    "        return \"N/A\"\n",
    "    \n",
    "    # Pause to respect usage limits.\n",
    "    time.sleep(1)\n",
    "\n",
    "# Example usage: Apply to your DataFrame 'df' that already has 'lat' and 'lon' columns.\n",
    "df['neighborhood'] = df.apply(lambda row: get_neighborhood(row['lat'], row['lon']), axis=1)\n",
    "\n",
    "# Save the updated neighborhood cache.\n",
    "with open(\"neighborhood_cache.pkl\", \"wb\") as f:\n",
    "    pickle.dump(neighborhood_cache, f)\n",
    "\n",
    "df.head()\n"
   ]
  },
  {
   "cell_type": "markdown",
   "id": "f9574a5a",
   "metadata": {
    "papermill": {
     "duration": 0.004745,
     "end_time": "2025-06-16T01:07:56.306652",
     "exception": false,
     "start_time": "2025-06-16T01:07:56.301907",
     "status": "completed"
    },
    "tags": []
   },
   "source": [
    "### Zip"
   ]
  },
  {
   "cell_type": "code",
   "execution_count": 11,
   "id": "e92d5856",
   "metadata": {
    "execution": {
     "iopub.execute_input": "2025-06-16T01:07:56.318278Z",
     "iopub.status.busy": "2025-06-16T01:07:56.318030Z",
     "iopub.status.idle": "2025-06-16T01:08:16.590016Z",
     "shell.execute_reply": "2025-06-16T01:08:16.589328Z"
    },
    "papermill": {
     "duration": 20.278536,
     "end_time": "2025-06-16T01:08:16.591125",
     "exception": false,
     "start_time": "2025-06-16T01:07:56.312589",
     "status": "completed"
    },
    "tags": []
   },
   "outputs": [
    {
     "name": "stdout",
     "output_type": "stream",
     "text": [
      "Loaded zip cache.\n",
      "Error getting ZIP for nan, nan: Must be a coordinate pair or Point\n"
     ]
    },
    {
     "name": "stdout",
     "output_type": "stream",
     "text": [
      "Error getting ZIP for nan, nan: Must be a coordinate pair or Point\n"
     ]
    },
    {
     "name": "stdout",
     "output_type": "stream",
     "text": [
      "Error getting ZIP for nan, nan: Must be a coordinate pair or Point\n"
     ]
    },
    {
     "name": "stdout",
     "output_type": "stream",
     "text": [
      "Error getting ZIP for nan, nan: Must be a coordinate pair or Point\n"
     ]
    },
    {
     "name": "stdout",
     "output_type": "stream",
     "text": [
      "Error getting ZIP for nan, nan: Must be a coordinate pair or Point\n"
     ]
    },
    {
     "name": "stdout",
     "output_type": "stream",
     "text": [
      "Error getting ZIP for nan, nan: Must be a coordinate pair or Point\n"
     ]
    },
    {
     "name": "stdout",
     "output_type": "stream",
     "text": [
      "Error getting ZIP for nan, nan: Must be a coordinate pair or Point\n"
     ]
    },
    {
     "name": "stdout",
     "output_type": "stream",
     "text": [
      "Error getting ZIP for nan, nan: Must be a coordinate pair or Point\n"
     ]
    },
    {
     "name": "stdout",
     "output_type": "stream",
     "text": [
      "Error getting ZIP for nan, nan: Must be a coordinate pair or Point\n"
     ]
    },
    {
     "name": "stdout",
     "output_type": "stream",
     "text": [
      "Error getting ZIP for nan, nan: Must be a coordinate pair or Point\n"
     ]
    },
    {
     "name": "stdout",
     "output_type": "stream",
     "text": [
      "Error getting ZIP for nan, nan: Must be a coordinate pair or Point\n"
     ]
    },
    {
     "name": "stdout",
     "output_type": "stream",
     "text": [
      "Error getting ZIP for nan, nan: Must be a coordinate pair or Point\n"
     ]
    },
    {
     "name": "stdout",
     "output_type": "stream",
     "text": [
      "Error getting ZIP for nan, nan: Must be a coordinate pair or Point\n"
     ]
    },
    {
     "name": "stdout",
     "output_type": "stream",
     "text": [
      "Error getting ZIP for nan, nan: Must be a coordinate pair or Point\n"
     ]
    },
    {
     "name": "stdout",
     "output_type": "stream",
     "text": [
      "Error getting ZIP for nan, nan: Must be a coordinate pair or Point\n"
     ]
    },
    {
     "name": "stdout",
     "output_type": "stream",
     "text": [
      "Error getting ZIP for nan, nan: Must be a coordinate pair or Point\n"
     ]
    },
    {
     "name": "stdout",
     "output_type": "stream",
     "text": [
      "Error getting ZIP for nan, nan: Must be a coordinate pair or Point\n"
     ]
    },
    {
     "name": "stdout",
     "output_type": "stream",
     "text": [
      "Error getting ZIP for nan, nan: Must be a coordinate pair or Point\n"
     ]
    },
    {
     "name": "stdout",
     "output_type": "stream",
     "text": [
      "Error getting ZIP for nan, nan: Must be a coordinate pair or Point\n"
     ]
    },
    {
     "name": "stdout",
     "output_type": "stream",
     "text": [
      "Error getting ZIP for nan, nan: Must be a coordinate pair or Point\n"
     ]
    },
    {
     "data": {
      "text/html": [
       "<div>\n",
       "<style scoped>\n",
       "    .dataframe tbody tr th:only-of-type {\n",
       "        vertical-align: middle;\n",
       "    }\n",
       "\n",
       "    .dataframe tbody tr th {\n",
       "        vertical-align: top;\n",
       "    }\n",
       "\n",
       "    .dataframe thead th {\n",
       "        text-align: right;\n",
       "    }\n",
       "</style>\n",
       "<table border=\"1\" class=\"dataframe\">\n",
       "  <thead>\n",
       "    <tr style=\"text-align: right;\">\n",
       "      <th></th>\n",
       "      <th>RecordID</th>\n",
       "      <th>Offense</th>\n",
       "      <th>IncidentID</th>\n",
       "      <th>BlockNumber</th>\n",
       "      <th>StreetName</th>\n",
       "      <th>Agency</th>\n",
       "      <th>HourReported</th>\n",
       "      <th>ReportingOfficer</th>\n",
       "      <th>Date</th>\n",
       "      <th>DateString</th>\n",
       "      <th>DayOfWeek</th>\n",
       "      <th>Weekend</th>\n",
       "      <th>Season</th>\n",
       "      <th>HourAMPM</th>\n",
       "      <th>TimeOfDay</th>\n",
       "      <th>FullStreet</th>\n",
       "      <th>lat</th>\n",
       "      <th>lon</th>\n",
       "      <th>neighborhood</th>\n",
       "      <th>zip</th>\n",
       "    </tr>\n",
       "  </thead>\n",
       "  <tbody>\n",
       "    <tr>\n",
       "      <th>0</th>\n",
       "      <td>1</td>\n",
       "      <td>Traffic Stops</td>\n",
       "      <td>202500020397</td>\n",
       "      <td>300</td>\n",
       "      <td>W MAIN ST</td>\n",
       "      <td>CPD</td>\n",
       "      <td>2112</td>\n",
       "      <td>Vlasis, Christopher</td>\n",
       "      <td>2025-06-13 21:12:33</td>\n",
       "      <td>2025-06-13 09:12:33 PM</td>\n",
       "      <td>Friday</td>\n",
       "      <td>False</td>\n",
       "      <td>Spring</td>\n",
       "      <td>09:12 PM</td>\n",
       "      <td>Night</td>\n",
       "      <td>300 W MAIN ST</td>\n",
       "      <td>38.030224</td>\n",
       "      <td>-78.485595</td>\n",
       "      <td>Starr Hill</td>\n",
       "      <td>22903</td>\n",
       "    </tr>\n",
       "    <tr>\n",
       "      <th>1</th>\n",
       "      <td>2</td>\n",
       "      <td>Larceny - Shoplifitng</td>\n",
       "      <td>202500020390</td>\n",
       "      <td>1200</td>\n",
       "      <td>EMMET ST N</td>\n",
       "      <td>CPD</td>\n",
       "      <td>1950</td>\n",
       "      <td>Rigsby, Lloyd</td>\n",
       "      <td>2025-06-13 19:50:19</td>\n",
       "      <td>2025-06-13 07:50:19 PM</td>\n",
       "      <td>Friday</td>\n",
       "      <td>False</td>\n",
       "      <td>Spring</td>\n",
       "      <td>07:50 PM</td>\n",
       "      <td>Evening</td>\n",
       "      <td>1200 EMMET ST N</td>\n",
       "      <td>38.052917</td>\n",
       "      <td>-78.498591</td>\n",
       "      <td>The Meadows</td>\n",
       "      <td>22905</td>\n",
       "    </tr>\n",
       "    <tr>\n",
       "      <th>2</th>\n",
       "      <td>3</td>\n",
       "      <td>Weapons Violations</td>\n",
       "      <td>202500020351</td>\n",
       "      <td>500</td>\n",
       "      <td>HARRIS RD, 158</td>\n",
       "      <td>CPD</td>\n",
       "      <td>1412</td>\n",
       "      <td>Kinney, Dylan</td>\n",
       "      <td>2025-06-13 14:12:31</td>\n",
       "      <td>2025-06-13 02:12:31 PM</td>\n",
       "      <td>Friday</td>\n",
       "      <td>False</td>\n",
       "      <td>Spring</td>\n",
       "      <td>02:12 PM</td>\n",
       "      <td>Afternoon</td>\n",
       "      <td>500 HARRIS RD, 158</td>\n",
       "      <td>NaN</td>\n",
       "      <td>NaN</td>\n",
       "      <td>N/A</td>\n",
       "      <td>N/A</td>\n",
       "    </tr>\n",
       "    <tr>\n",
       "      <th>3</th>\n",
       "      <td>4</td>\n",
       "      <td>Hit and Run</td>\n",
       "      <td>202500020353</td>\n",
       "      <td></td>\n",
       "      <td>BARRACKS RD @ MILLMONT ST</td>\n",
       "      <td>CPD</td>\n",
       "      <td>1411</td>\n",
       "      <td>Schwartz, Honora</td>\n",
       "      <td>2025-06-13 14:11:26</td>\n",
       "      <td>2025-06-13 02:11:26 PM</td>\n",
       "      <td>Friday</td>\n",
       "      <td>False</td>\n",
       "      <td>Spring</td>\n",
       "      <td>02:11 PM</td>\n",
       "      <td>Afternoon</td>\n",
       "      <td>BARRACKS RD @ MILLMONT ST</td>\n",
       "      <td>38.054292</td>\n",
       "      <td>-78.500528</td>\n",
       "      <td>Barracks Road</td>\n",
       "      <td>22903</td>\n",
       "    </tr>\n",
       "    <tr>\n",
       "      <th>4</th>\n",
       "      <td>5</td>\n",
       "      <td>Assist Citizen - Mental/TDO/ECO</td>\n",
       "      <td>202500020334</td>\n",
       "      <td>100</td>\n",
       "      <td>W MAIN ST</td>\n",
       "      <td>CPD</td>\n",
       "      <td>1158</td>\n",
       "      <td>Lucas, Todd</td>\n",
       "      <td>2025-06-13 11:58:40</td>\n",
       "      <td>2025-06-13 11:58:40 AM</td>\n",
       "      <td>Friday</td>\n",
       "      <td>False</td>\n",
       "      <td>Spring</td>\n",
       "      <td>11:58 AM</td>\n",
       "      <td>Morning</td>\n",
       "      <td>100 W MAIN ST</td>\n",
       "      <td>38.030718</td>\n",
       "      <td>-78.481656</td>\n",
       "      <td>Downtown Mall</td>\n",
       "      <td>22902</td>\n",
       "    </tr>\n",
       "  </tbody>\n",
       "</table>\n",
       "</div>"
      ],
      "text/plain": [
       "   RecordID                          Offense    IncidentID BlockNumber  \\\n",
       "0         1                    Traffic Stops  202500020397         300   \n",
       "1         2            Larceny - Shoplifitng  202500020390        1200   \n",
       "2         3               Weapons Violations  202500020351         500   \n",
       "3         4                      Hit and Run  202500020353               \n",
       "4         5  Assist Citizen - Mental/TDO/ECO  202500020334         100   \n",
       "\n",
       "                  StreetName Agency HourReported     ReportingOfficer  \\\n",
       "0                  W MAIN ST    CPD         2112  Vlasis, Christopher   \n",
       "1                 EMMET ST N    CPD         1950        Rigsby, Lloyd   \n",
       "2             HARRIS RD, 158    CPD         1412        Kinney, Dylan   \n",
       "3  BARRACKS RD @ MILLMONT ST    CPD         1411     Schwartz, Honora   \n",
       "4                  W MAIN ST    CPD         1158          Lucas, Todd   \n",
       "\n",
       "                 Date              DateString DayOfWeek  Weekend  Season  \\\n",
       "0 2025-06-13 21:12:33  2025-06-13 09:12:33 PM    Friday    False  Spring   \n",
       "1 2025-06-13 19:50:19  2025-06-13 07:50:19 PM    Friday    False  Spring   \n",
       "2 2025-06-13 14:12:31  2025-06-13 02:12:31 PM    Friday    False  Spring   \n",
       "3 2025-06-13 14:11:26  2025-06-13 02:11:26 PM    Friday    False  Spring   \n",
       "4 2025-06-13 11:58:40  2025-06-13 11:58:40 AM    Friday    False  Spring   \n",
       "\n",
       "   HourAMPM  TimeOfDay                  FullStreet        lat        lon  \\\n",
       "0  09:12 PM      Night               300 W MAIN ST  38.030224 -78.485595   \n",
       "1  07:50 PM    Evening             1200 EMMET ST N  38.052917 -78.498591   \n",
       "2  02:12 PM  Afternoon          500 HARRIS RD, 158        NaN        NaN   \n",
       "3  02:11 PM  Afternoon   BARRACKS RD @ MILLMONT ST  38.054292 -78.500528   \n",
       "4  11:58 AM    Morning               100 W MAIN ST  38.030718 -78.481656   \n",
       "\n",
       "    neighborhood    zip  \n",
       "0     Starr Hill  22903  \n",
       "1    The Meadows  22905  \n",
       "2            N/A    N/A  \n",
       "3  Barracks Road  22903  \n",
       "4  Downtown Mall  22902  "
      ]
     },
     "execution_count": 11,
     "metadata": {},
     "output_type": "execute_result"
    }
   ],
   "source": [
    "# Initialize the geocoder.\n",
    "geolocator = Nominatim(user_agent=\"zip_lookup\")\n",
    "\n",
    "# Try to load a persistent ZIP cache if available.\n",
    "try:\n",
    "    with open(\"zip_cache.pkl\", \"rb\") as f:\n",
    "        zip_cache = pickle.load(f)\n",
    "    print(\"Loaded zip cache.\")\n",
    "except FileNotFoundError:\n",
    "    zip_cache = {}\n",
    "    print(\"No zip cache found; starting fresh.\")\n",
    "\n",
    "def get_zip(lat, lon):\n",
    "    \"\"\"\n",
    "    Reverse geocodes a latitude and longitude to retrieve the ZIP code.\n",
    "    Caches results to speed up subsequent lookups.\n",
    "    \"\"\"\n",
    "    key = (lat, lon)\n",
    "    if key in zip_cache:\n",
    "        return zip_cache[key]\n",
    "    \n",
    "    try:\n",
    "        location = geolocator.reverse((lat, lon), exactly_one=True, timeout=10)\n",
    "        address = location.raw.get('address', {})\n",
    "        postal_code = address.get('postcode', \"N/A\")\n",
    "    except Exception as e:\n",
    "        print(f\"Error getting ZIP for {lat}, {lon}: {e}\")\n",
    "        postal_code = \"N/A\"\n",
    "    \n",
    "    zip_cache[key] = postal_code\n",
    "    # Pause to respect the usage policy.\n",
    "    time.sleep(1)\n",
    "    return postal_code\n",
    "\n",
    "# Apply the function to each row in the DataFrame.\n",
    "df['zip'] = df.apply(lambda row: get_zip(row['lat'], row['lon']), axis=1)\n",
    "\n",
    "# Save the updated ZIP cache.\n",
    "with open(\"zip_cache.pkl\", \"wb\") as f:\n",
    "    pickle.dump(zip_cache, f)\n",
    "\n",
    "df.head()\n"
   ]
  },
  {
   "cell_type": "code",
   "execution_count": 12,
   "id": "06a38abd",
   "metadata": {
    "execution": {
     "iopub.execute_input": "2025-06-16T01:08:16.604357Z",
     "iopub.status.busy": "2025-06-16T01:08:16.603938Z",
     "iopub.status.idle": "2025-06-16T01:08:16.635299Z",
     "shell.execute_reply": "2025-06-16T01:08:16.634770Z"
    },
    "papermill": {
     "duration": 0.038905,
     "end_time": "2025-06-16T01:08:16.636335",
     "exception": false,
     "start_time": "2025-06-16T01:08:16.597430",
     "status": "completed"
    },
    "tags": []
   },
   "outputs": [
    {
     "name": "stdout",
     "output_type": "stream",
     "text": [
      "                  MissingCount  MissingPercentage\n",
      "RecordID                     0               0.00\n",
      "Offense                      0               0.00\n",
      "IncidentID                   0               0.00\n",
      "BlockNumber                  0               0.00\n",
      "StreetName                   0               0.00\n",
      "Agency                       0               0.00\n",
      "HourReported                 0               0.00\n",
      "ReportingOfficer            17               0.07\n",
      "Date                         0               0.00\n",
      "DateString                   0               0.00\n",
      "DayOfWeek                    0               0.00\n",
      "Weekend                      0               0.00\n",
      "Season                       0               0.00\n",
      "HourAMPM                     0               0.00\n",
      "TimeOfDay                    0               0.00\n",
      "FullStreet                   0               0.00\n",
      "lat                         20               0.08\n",
      "lon                         20               0.08\n",
      "neighborhood                 0               0.00\n",
      "zip                          0               0.00\n"
     ]
    }
   ],
   "source": [
    "missing_info = missing_percentage(df)\n",
    "print(missing_info)\n"
   ]
  },
  {
   "cell_type": "code",
   "execution_count": 13,
   "id": "2acbf6ee",
   "metadata": {
    "execution": {
     "iopub.execute_input": "2025-06-16T01:08:16.649419Z",
     "iopub.status.busy": "2025-06-16T01:08:16.648983Z",
     "iopub.status.idle": "2025-06-16T01:08:16.680697Z",
     "shell.execute_reply": "2025-06-16T01:08:16.680129Z"
    },
    "papermill": {
     "duration": 0.039386,
     "end_time": "2025-06-16T01:08:16.681780",
     "exception": false,
     "start_time": "2025-06-16T01:08:16.642394",
     "status": "completed"
    },
    "tags": []
   },
   "outputs": [
    {
     "name": "stdout",
     "output_type": "stream",
     "text": [
      "<class 'pandas.core.frame.DataFrame'>\n",
      "RangeIndex: 25522 entries, 0 to 25521\n",
      "Data columns (total 20 columns):\n",
      " #   Column            Non-Null Count  Dtype         \n",
      "---  ------            --------------  -----         \n",
      " 0   RecordID          25522 non-null  int64         \n",
      " 1   Offense           25522 non-null  object        \n",
      " 2   IncidentID        25522 non-null  object        \n",
      " 3   BlockNumber       25522 non-null  object        \n",
      " 4   StreetName        25522 non-null  object        \n",
      " 5   Agency            25522 non-null  object        \n",
      " 6   HourReported      25522 non-null  object        \n",
      " 7   ReportingOfficer  25505 non-null  object        \n",
      " 8   Date              25522 non-null  datetime64[ns]\n",
      " 9   DateString        25522 non-null  object        \n",
      " 10  DayOfWeek         25522 non-null  object        \n",
      " 11  Weekend           25522 non-null  bool          \n",
      " 12  Season            25522 non-null  object        \n",
      " 13  HourAMPM          25522 non-null  object        \n",
      " 14  TimeOfDay         25522 non-null  object        \n",
      " 15  FullStreet        25522 non-null  object        \n",
      " 16  lat               25502 non-null  float64       \n",
      " 17  lon               25502 non-null  float64       \n",
      " 18  neighborhood      25522 non-null  object        \n",
      " 19  zip               25522 non-null  object        \n",
      "dtypes: bool(1), datetime64[ns](1), float64(2), int64(1), object(15)\n",
      "memory usage: 3.7+ MB\n"
     ]
    }
   ],
   "source": [
    "df.info()"
   ]
  },
  {
   "cell_type": "code",
   "execution_count": 14,
   "id": "895971b2",
   "metadata": {
    "execution": {
     "iopub.execute_input": "2025-06-16T01:08:16.695308Z",
     "iopub.status.busy": "2025-06-16T01:08:16.694822Z",
     "iopub.status.idle": "2025-06-16T01:08:16.739111Z",
     "shell.execute_reply": "2025-06-16T01:08:16.738478Z"
    },
    "papermill": {
     "duration": 0.052123,
     "end_time": "2025-06-16T01:08:16.740225",
     "exception": false,
     "start_time": "2025-06-16T01:08:16.688102",
     "status": "completed"
    },
    "tags": []
   },
   "outputs": [
    {
     "data": {
      "text/html": [
       "<div>\n",
       "<style scoped>\n",
       "    .dataframe tbody tr th:only-of-type {\n",
       "        vertical-align: middle;\n",
       "    }\n",
       "\n",
       "    .dataframe tbody tr th {\n",
       "        vertical-align: top;\n",
       "    }\n",
       "\n",
       "    .dataframe thead th {\n",
       "        text-align: right;\n",
       "    }\n",
       "</style>\n",
       "<table border=\"1\" class=\"dataframe\">\n",
       "  <thead>\n",
       "    <tr style=\"text-align: right;\">\n",
       "      <th></th>\n",
       "      <th>RecordID</th>\n",
       "      <th>Offense</th>\n",
       "      <th>IncidentID</th>\n",
       "      <th>Agency</th>\n",
       "      <th>ReportingOfficer</th>\n",
       "      <th>Date</th>\n",
       "      <th>DayOfWeek</th>\n",
       "      <th>Weekend</th>\n",
       "      <th>Season</th>\n",
       "      <th>TimeOfDay</th>\n",
       "      <th>FullStreet</th>\n",
       "      <th>lat</th>\n",
       "      <th>lon</th>\n",
       "      <th>neighborhood</th>\n",
       "      <th>zip</th>\n",
       "    </tr>\n",
       "  </thead>\n",
       "  <tbody>\n",
       "    <tr>\n",
       "      <th>0</th>\n",
       "      <td>1</td>\n",
       "      <td>Traffic Stops</td>\n",
       "      <td>202500020397</td>\n",
       "      <td>CPD</td>\n",
       "      <td>Vlasis, Christopher</td>\n",
       "      <td>2025-06-13 21:12:33</td>\n",
       "      <td>Friday</td>\n",
       "      <td>False</td>\n",
       "      <td>Spring</td>\n",
       "      <td>Night</td>\n",
       "      <td>300 W MAIN ST</td>\n",
       "      <td>38.030224</td>\n",
       "      <td>-78.485595</td>\n",
       "      <td>Starr Hill</td>\n",
       "      <td>22903</td>\n",
       "    </tr>\n",
       "    <tr>\n",
       "      <th>1</th>\n",
       "      <td>2</td>\n",
       "      <td>Larceny - Shoplifitng</td>\n",
       "      <td>202500020390</td>\n",
       "      <td>CPD</td>\n",
       "      <td>Rigsby, Lloyd</td>\n",
       "      <td>2025-06-13 19:50:19</td>\n",
       "      <td>Friday</td>\n",
       "      <td>False</td>\n",
       "      <td>Spring</td>\n",
       "      <td>Evening</td>\n",
       "      <td>1200 EMMET ST N</td>\n",
       "      <td>38.052917</td>\n",
       "      <td>-78.498591</td>\n",
       "      <td>The Meadows</td>\n",
       "      <td>22905</td>\n",
       "    </tr>\n",
       "    <tr>\n",
       "      <th>2</th>\n",
       "      <td>3</td>\n",
       "      <td>Weapons Violations</td>\n",
       "      <td>202500020351</td>\n",
       "      <td>CPD</td>\n",
       "      <td>Kinney, Dylan</td>\n",
       "      <td>2025-06-13 14:12:31</td>\n",
       "      <td>Friday</td>\n",
       "      <td>False</td>\n",
       "      <td>Spring</td>\n",
       "      <td>Afternoon</td>\n",
       "      <td>500 HARRIS RD, 158</td>\n",
       "      <td>N/A</td>\n",
       "      <td>N/A</td>\n",
       "      <td>N/A</td>\n",
       "      <td>N/A</td>\n",
       "    </tr>\n",
       "    <tr>\n",
       "      <th>3</th>\n",
       "      <td>4</td>\n",
       "      <td>Hit and Run</td>\n",
       "      <td>202500020353</td>\n",
       "      <td>CPD</td>\n",
       "      <td>Schwartz, Honora</td>\n",
       "      <td>2025-06-13 14:11:26</td>\n",
       "      <td>Friday</td>\n",
       "      <td>False</td>\n",
       "      <td>Spring</td>\n",
       "      <td>Afternoon</td>\n",
       "      <td>BARRACKS RD @ MILLMONT ST</td>\n",
       "      <td>38.054292</td>\n",
       "      <td>-78.500528</td>\n",
       "      <td>Barracks Road</td>\n",
       "      <td>22903</td>\n",
       "    </tr>\n",
       "    <tr>\n",
       "      <th>4</th>\n",
       "      <td>5</td>\n",
       "      <td>Assist Citizen - Mental/TDO/ECO</td>\n",
       "      <td>202500020334</td>\n",
       "      <td>CPD</td>\n",
       "      <td>Lucas, Todd</td>\n",
       "      <td>2025-06-13 11:58:40</td>\n",
       "      <td>Friday</td>\n",
       "      <td>False</td>\n",
       "      <td>Spring</td>\n",
       "      <td>Morning</td>\n",
       "      <td>100 W MAIN ST</td>\n",
       "      <td>38.030718</td>\n",
       "      <td>-78.481656</td>\n",
       "      <td>Downtown Mall</td>\n",
       "      <td>22902</td>\n",
       "    </tr>\n",
       "  </tbody>\n",
       "</table>\n",
       "</div>"
      ],
      "text/plain": [
       "   RecordID                          Offense    IncidentID Agency  \\\n",
       "0         1                    Traffic Stops  202500020397    CPD   \n",
       "1         2            Larceny - Shoplifitng  202500020390    CPD   \n",
       "2         3               Weapons Violations  202500020351    CPD   \n",
       "3         4                      Hit and Run  202500020353    CPD   \n",
       "4         5  Assist Citizen - Mental/TDO/ECO  202500020334    CPD   \n",
       "\n",
       "      ReportingOfficer                Date DayOfWeek  Weekend  Season  \\\n",
       "0  Vlasis, Christopher 2025-06-13 21:12:33    Friday    False  Spring   \n",
       "1        Rigsby, Lloyd 2025-06-13 19:50:19    Friday    False  Spring   \n",
       "2        Kinney, Dylan 2025-06-13 14:12:31    Friday    False  Spring   \n",
       "3     Schwartz, Honora 2025-06-13 14:11:26    Friday    False  Spring   \n",
       "4          Lucas, Todd 2025-06-13 11:58:40    Friday    False  Spring   \n",
       "\n",
       "   TimeOfDay                  FullStreet        lat        lon   neighborhood  \\\n",
       "0      Night               300 W MAIN ST  38.030224 -78.485595     Starr Hill   \n",
       "1    Evening             1200 EMMET ST N  38.052917 -78.498591    The Meadows   \n",
       "2  Afternoon          500 HARRIS RD, 158        N/A        N/A            N/A   \n",
       "3  Afternoon   BARRACKS RD @ MILLMONT ST  38.054292 -78.500528  Barracks Road   \n",
       "4    Morning               100 W MAIN ST  38.030718 -78.481656  Downtown Mall   \n",
       "\n",
       "     zip  \n",
       "0  22903  \n",
       "1  22905  \n",
       "2    N/A  \n",
       "3  22903  \n",
       "4  22902  "
      ]
     },
     "execution_count": 14,
     "metadata": {},
     "output_type": "execute_result"
    }
   ],
   "source": [
    "# Now drop the original BlockNumber and StreetName columns\n",
    "df.drop(columns=['BlockNumber', 'StreetName','HourAMPM','HourReported','DateString'], inplace=True)\n",
    "df[\"zip\"] = df[\"zip\"].astype(str)\n",
    "\n",
    "# Fill all missing values in the DataFrame with \"N/A\"\n",
    "df.replace({None: \"N/A\", np.nan: \"N/A\", \"\": \"N/A\"}, inplace=True)\n",
    "df.head()"
   ]
  },
  {
   "cell_type": "code",
   "execution_count": 15,
   "id": "d7d61982",
   "metadata": {
    "execution": {
     "iopub.execute_input": "2025-06-16T01:08:16.754265Z",
     "iopub.status.busy": "2025-06-16T01:08:16.754012Z",
     "iopub.status.idle": "2025-06-16T01:08:16.777594Z",
     "shell.execute_reply": "2025-06-16T01:08:16.777013Z"
    },
    "papermill": {
     "duration": 0.031797,
     "end_time": "2025-06-16T01:08:16.778722",
     "exception": false,
     "start_time": "2025-06-16T01:08:16.746925",
     "status": "completed"
    },
    "tags": []
   },
   "outputs": [
    {
     "name": "stdout",
     "output_type": "stream",
     "text": [
      "                  MissingCount  MissingPercentage\n",
      "RecordID                     0                0.0\n",
      "Offense                      0                0.0\n",
      "IncidentID                   0                0.0\n",
      "Agency                       0                0.0\n",
      "ReportingOfficer             0                0.0\n",
      "Date                         0                0.0\n",
      "DayOfWeek                    0                0.0\n",
      "Weekend                      0                0.0\n",
      "Season                       0                0.0\n",
      "TimeOfDay                    0                0.0\n",
      "FullStreet                   0                0.0\n",
      "lat                          0                0.0\n",
      "lon                          0                0.0\n",
      "neighborhood                 0                0.0\n",
      "zip                          0                0.0\n"
     ]
    }
   ],
   "source": [
    "missing_info = missing_percentage(df)\n",
    "print(missing_info)"
   ]
  },
  {
   "cell_type": "code",
   "execution_count": 16,
   "id": "35b9d16a",
   "metadata": {
    "execution": {
     "iopub.execute_input": "2025-06-16T01:08:16.792716Z",
     "iopub.status.busy": "2025-06-16T01:08:16.792260Z",
     "iopub.status.idle": "2025-06-16T01:08:16.796594Z",
     "shell.execute_reply": "2025-06-16T01:08:16.796069Z"
    },
    "papermill": {
     "duration": 0.012629,
     "end_time": "2025-06-16T01:08:16.797906",
     "exception": false,
     "start_time": "2025-06-16T01:08:16.785277",
     "status": "completed"
    },
    "tags": []
   },
   "outputs": [
    {
     "data": {
      "text/plain": [
       "Index(['RecordID', 'Offense', 'IncidentID', 'Agency', 'ReportingOfficer',\n",
       "       'Date', 'DayOfWeek', 'Weekend', 'Season', 'TimeOfDay', 'FullStreet',\n",
       "       'lat', 'lon', 'neighborhood', 'zip'],\n",
       "      dtype='object')"
      ]
     },
     "execution_count": 16,
     "metadata": {},
     "output_type": "execute_result"
    }
   ],
   "source": [
    "df.columns"
   ]
  },
  {
   "cell_type": "code",
   "execution_count": 17,
   "id": "b10840ab",
   "metadata": {
    "execution": {
     "iopub.execute_input": "2025-06-16T01:08:16.811320Z",
     "iopub.status.busy": "2025-06-16T01:08:16.811080Z",
     "iopub.status.idle": "2025-06-16T01:08:16.835218Z",
     "shell.execute_reply": "2025-06-16T01:08:16.834633Z"
    },
    "papermill": {
     "duration": 0.032045,
     "end_time": "2025-06-16T01:08:16.836286",
     "exception": false,
     "start_time": "2025-06-16T01:08:16.804241",
     "status": "completed"
    },
    "tags": []
   },
   "outputs": [
    {
     "name": "stdout",
     "output_type": "stream",
     "text": [
      "<class 'pandas.core.frame.DataFrame'>\n",
      "RangeIndex: 25522 entries, 0 to 25521\n",
      "Data columns (total 15 columns):\n",
      " #   Column            Non-Null Count  Dtype         \n",
      "---  ------            --------------  -----         \n",
      " 0   RecordID          25522 non-null  int64         \n",
      " 1   Offense           25522 non-null  object        \n",
      " 2   IncidentID        25522 non-null  object        \n",
      " 3   Agency            25522 non-null  object        \n",
      " 4   ReportingOfficer  25522 non-null  object        \n",
      " 5   Date              25522 non-null  datetime64[ns]\n",
      " 6   DayOfWeek         25522 non-null  object        \n",
      " 7   Weekend           25522 non-null  bool          \n",
      " 8   Season            25522 non-null  object        \n",
      " 9   TimeOfDay         25522 non-null  object        \n",
      " 10  FullStreet        25522 non-null  object        \n",
      " 11  lat               25522 non-null  object        \n",
      " 12  lon               25522 non-null  object        \n",
      " 13  neighborhood      25522 non-null  object        \n",
      " 14  zip               25522 non-null  object        \n",
      "dtypes: bool(1), datetime64[ns](1), int64(1), object(12)\n",
      "memory usage: 2.8+ MB\n"
     ]
    }
   ],
   "source": [
    "df.info()"
   ]
  },
  {
   "cell_type": "markdown",
   "id": "4795f0b2",
   "metadata": {
    "papermill": {
     "duration": 0.006301,
     "end_time": "2025-06-16T01:08:16.849246",
     "exception": false,
     "start_time": "2025-06-16T01:08:16.842945",
     "status": "completed"
    },
    "tags": []
   },
   "source": [
    "### Export Clean Data"
   ]
  },
  {
   "cell_type": "code",
   "execution_count": 18,
   "id": "3b0d2e29",
   "metadata": {
    "execution": {
     "iopub.execute_input": "2025-06-16T01:08:16.862992Z",
     "iopub.status.busy": "2025-06-16T01:08:16.862786Z",
     "iopub.status.idle": "2025-06-16T01:08:26.035774Z",
     "shell.execute_reply": "2025-06-16T01:08:26.035075Z"
    },
    "papermill": {
     "duration": 9.181088,
     "end_time": "2025-06-16T01:08:26.036832",
     "exception": false,
     "start_time": "2025-06-16T01:08:16.855744",
     "status": "completed"
    },
    "tags": []
   },
   "outputs": [
    {
     "name": "stdout",
     "output_type": "stream",
     "text": [
      "Project Root: /home/runner/work/crime-data/crime-data\n"
     ]
    },
    {
     "name": "stdout",
     "output_type": "stream",
     "text": [
      "Data saved to: /home/runner/work/crime-data/crime-data/data/charlottesville_crime_incidents.csv\n"
     ]
    },
    {
     "name": "stdout",
     "output_type": "stream",
     "text": [
      "Excel saved to: /home/runner/work/crime-data/crime-data/data/charlottesville_crime_incidents.xlsx\n"
     ]
    }
   ],
   "source": [
    "# Determine the project root (assuming papermill is run from the repository root)\n",
    "project_root = os.getcwd()\n",
    "print(\"Project Root:\", project_root)\n",
    "\n",
    "# Set the data directory within the project root\n",
    "data_dir = os.path.join(project_root, \"data\")\n",
    "\n",
    "# Ensure the \"data\" directory exists (create it if it doesn't)\n",
    "if not os.path.exists(data_dir):\n",
    "    os.makedirs(data_dir)\n",
    "\n",
    "# Export the DataFrame to CSV in the \"data\" folder located in the project root\n",
    "csv_path = os.path.join(data_dir, \"charlottesville_crime_incidents.csv\")\n",
    "df.to_csv(csv_path, index=False)\n",
    "print(\"Data saved to:\", csv_path)\n",
    "\n",
    "# Construct the path to your Excel file\n",
    "excel_path = os.path.join(data_dir, \"charlottesville_crime_incidents.xlsx\")\n",
    "\n",
    "# Export the DataFrame to Excel\n",
    "df.to_excel(excel_path, index=False)\n",
    "print(\"Excel saved to:\", excel_path)\n"
   ]
  }
 ],
 "metadata": {
  "kernelspec": {
   "display_name": "Python 3",
   "language": "python",
   "name": "python3"
  },
  "language_info": {
   "codemirror_mode": {
    "name": "ipython",
    "version": 3
   },
   "file_extension": ".py",
   "mimetype": "text/x-python",
   "name": "python",
   "nbconvert_exporter": "python",
   "pygments_lexer": "ipython3",
   "version": "3.9.23"
  },
  "papermill": {
   "default_parameters": {},
   "duration": 100.94781,
   "end_time": "2025-06-16T01:08:26.459949",
   "environment_variables": {},
   "exception": null,
   "input_path": "notebook/Crime Data.ipynb",
   "output_path": "notebook/Crime Data_output.ipynb",
   "parameters": {},
   "start_time": "2025-06-16T01:06:45.512139",
   "version": "2.6.0"
  }
 },
 "nbformat": 4,
 "nbformat_minor": 5
}