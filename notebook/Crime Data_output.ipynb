{
 "cells": [
  {
   "cell_type": "markdown",
   "id": "e2746381",
   "metadata": {
    "papermill": {
     "duration": 0.004287,
     "end_time": "2025-07-26T01:07:19.764641",
     "exception": false,
     "start_time": "2025-07-26T01:07:19.760354",
     "status": "completed"
    },
    "tags": []
   },
   "source": [
    "# Charlottesville Open Data Porttal: Crime Data"
   ]
  },
  {
   "cell_type": "markdown",
   "id": "8a5152b8",
   "metadata": {
    "papermill": {
     "duration": 0.004284,
     "end_time": "2025-07-26T01:07:19.772497",
     "exception": false,
     "start_time": "2025-07-26T01:07:19.768213",
     "status": "completed"
    },
    "tags": []
   },
   "source": [
    "## Import Relevant Librarires & Set WD"
   ]
  },
  {
   "cell_type": "code",
   "execution_count": 1,
   "id": "0706919f",
   "metadata": {
    "execution": {
     "iopub.execute_input": "2025-07-26T01:07:19.780253Z",
     "iopub.status.busy": "2025-07-26T01:07:19.779948Z",
     "iopub.status.idle": "2025-07-26T01:07:20.405104Z",
     "shell.execute_reply": "2025-07-26T01:07:20.404435Z"
    },
    "papermill": {
     "duration": 0.630743,
     "end_time": "2025-07-26T01:07:20.406510",
     "exception": false,
     "start_time": "2025-07-26T01:07:19.775767",
     "status": "completed"
    },
    "tags": []
   },
   "outputs": [],
   "source": [
    "import requests\n",
    "import pandas as pd\n",
    "import numpy as np\n",
    "import pickle\n",
    "import googlemaps\n",
    "import plotly.express as px\n",
    "from geopy.geocoders import Nominatim\n",
    "import time\n",
    "from dotenv import load_dotenv\n",
    "import os\n",
    "\n",
    "env_path = os.path.join(\"..\", \".env\")\n",
    "#print(\"Looking for .env file at:\", os.path.abspath(env_path))\n",
    "load_dotenv(dotenv_path=env_path)\n",
    "\n",
    "# Retrieve the variables\n",
    "GOOGLE_API_KEY = os.getenv(\"GOOGLE_API_KEY\")\n",
    "WORKING_DIR = os.getenv(\"WORKING_DIR\")\n",
    "\n",
    "if GOOGLE_API_KEY is None or WORKING_DIR is None:\n",
    "    raise RuntimeError(\"No configuration found. Please ensure that your .env file exists with the required variables, or create a local config.py file.\")\n",
    "\n",
    "#print(\"Google API Key:\", GOOGLE_API_KEY)\n",
    "#print(\"Working Directory:\", WORKING_DIR)"
   ]
  },
  {
   "cell_type": "markdown",
   "id": "d7eae5f0",
   "metadata": {
    "papermill": {
     "duration": 0.003303,
     "end_time": "2025-07-26T01:07:20.413579",
     "exception": false,
     "start_time": "2025-07-26T01:07:20.410276",
     "status": "completed"
    },
    "tags": []
   },
   "source": [
    "## Import Data\n",
    "\n",
    "URL: https://opendata.charlottesville.org/datasets/charlottesville::crime-data/about"
   ]
  },
  {
   "cell_type": "code",
   "execution_count": 2,
   "id": "6af470e0",
   "metadata": {
    "execution": {
     "iopub.execute_input": "2025-07-26T01:07:20.421101Z",
     "iopub.status.busy": "2025-07-26T01:07:20.420804Z",
     "iopub.status.idle": "2025-07-26T01:08:31.597261Z",
     "shell.execute_reply": "2025-07-26T01:08:31.596476Z"
    },
    "papermill": {
     "duration": 71.184874,
     "end_time": "2025-07-26T01:08:31.601725",
     "exception": false,
     "start_time": "2025-07-26T01:07:20.416851",
     "status": "completed"
    },
    "tags": []
   },
   "outputs": [
    {
     "name": "stdout",
     "output_type": "stream",
     "text": [
      "Total records imported: 25580\n"
     ]
    }
   ],
   "source": [
    "# Define the endpoint and initial parameters.\n",
    "url = \"https://gisweb.charlottesville.org/arcgis/rest/services/OpenData_2/MapServer/6/query\"\n",
    "params = {\n",
    "    \"where\": \"1=1\",\n",
    "    \"outFields\": \"*\",\n",
    "    \"outSR\": 4326,\n",
    "    \"f\": \"json\",\n",
    "    \"resultOffset\": 0,       # Starting index for results\n",
    "    \"resultRecordCount\": 10000  # Maximum records per batch (if allowed by the API)\n",
    "}\n",
    "\n",
    "records = []\n",
    "\n",
    "while True:\n",
    "    response = requests.get(url, params=params)\n",
    "    response.raise_for_status()\n",
    "    data = response.json()\n",
    "    \n",
    "    # Get the current batch of features.\n",
    "    features = data.get(\"features\", [])\n",
    "    if not features:\n",
    "        break\n",
    "\n",
    "    # Extract the attributes from the features.\n",
    "    batch_records = [feature.get(\"attributes\", {}) for feature in features]\n",
    "    records.extend(batch_records)\n",
    "    \n",
    "    # If the batch size is less than the requested count, we reached the end.\n",
    "    if len(features) < params[\"resultRecordCount\"]:\n",
    "        break\n",
    "\n",
    "    # Update the resultOffset for the next batch.\n",
    "    params[\"resultOffset\"] += params[\"resultRecordCount\"]\n",
    "\n",
    "# Create a DataFrame from the combined records.\n",
    "df = pd.DataFrame(records)\n",
    "print(\"Total records imported:\", len(df))\n"
   ]
  },
  {
   "cell_type": "code",
   "execution_count": 3,
   "id": "aa03033f",
   "metadata": {
    "execution": {
     "iopub.execute_input": "2025-07-26T01:08:31.609849Z",
     "iopub.status.busy": "2025-07-26T01:08:31.609598Z",
     "iopub.status.idle": "2025-07-26T01:08:31.622544Z",
     "shell.execute_reply": "2025-07-26T01:08:31.621904Z"
    },
    "papermill": {
     "duration": 0.018183,
     "end_time": "2025-07-26T01:08:31.623594",
     "exception": false,
     "start_time": "2025-07-26T01:08:31.605411",
     "status": "completed"
    },
    "tags": []
   },
   "outputs": [
    {
     "data": {
      "text/html": [
       "<div>\n",
       "<style scoped>\n",
       "    .dataframe tbody tr th:only-of-type {\n",
       "        vertical-align: middle;\n",
       "    }\n",
       "\n",
       "    .dataframe tbody tr th {\n",
       "        vertical-align: top;\n",
       "    }\n",
       "\n",
       "    .dataframe thead th {\n",
       "        text-align: right;\n",
       "    }\n",
       "</style>\n",
       "<table border=\"1\" class=\"dataframe\">\n",
       "  <thead>\n",
       "    <tr style=\"text-align: right;\">\n",
       "      <th></th>\n",
       "      <th>RecordID</th>\n",
       "      <th>Offense</th>\n",
       "      <th>IncidentID</th>\n",
       "      <th>BlockNumber</th>\n",
       "      <th>StreetName</th>\n",
       "      <th>Agency</th>\n",
       "      <th>DateReported</th>\n",
       "      <th>HourReported</th>\n",
       "      <th>ReportingOfficer</th>\n",
       "    </tr>\n",
       "  </thead>\n",
       "  <tbody>\n",
       "    <tr>\n",
       "      <th>0</th>\n",
       "      <td>1</td>\n",
       "      <td>Missing Person-adult</td>\n",
       "      <td>202500025969</td>\n",
       "      <td>600</td>\n",
       "      <td>E MARKET ST</td>\n",
       "      <td>CPD</td>\n",
       "      <td>1753316244000</td>\n",
       "      <td>2017</td>\n",
       "      <td>Bentz, Benjamin</td>\n",
       "    </tr>\n",
       "    <tr>\n",
       "      <th>1</th>\n",
       "      <td>2</td>\n",
       "      <td>Fraud-false pretense</td>\n",
       "      <td>202500025970</td>\n",
       "      <td>1600</td>\n",
       "      <td>ROSE HILL DR</td>\n",
       "      <td>CPD</td>\n",
       "      <td>1753315296000</td>\n",
       "      <td>2001</td>\n",
       "      <td>Reed, Danielle</td>\n",
       "    </tr>\n",
       "    <tr>\n",
       "      <th>2</th>\n",
       "      <td>3</td>\n",
       "      <td>Assault Simple</td>\n",
       "      <td>202500025965</td>\n",
       "      <td>1500</td>\n",
       "      <td>UNIVERSITY AVE</td>\n",
       "      <td>CPD</td>\n",
       "      <td>1753314704000</td>\n",
       "      <td>1951</td>\n",
       "      <td>Crowley, Raeann</td>\n",
       "    </tr>\n",
       "    <tr>\n",
       "      <th>3</th>\n",
       "      <td>4</td>\n",
       "      <td>Larceny - Shoplifitng</td>\n",
       "      <td>202500025958</td>\n",
       "      <td>1800</td>\n",
       "      <td>MONTICELLO RD</td>\n",
       "      <td>CPD</td>\n",
       "      <td>1753312075000</td>\n",
       "      <td>1907</td>\n",
       "      <td>Lowry, Brent</td>\n",
       "    </tr>\n",
       "    <tr>\n",
       "      <th>4</th>\n",
       "      <td>5</td>\n",
       "      <td>Larceny - Shoplifitng</td>\n",
       "      <td>202500025955</td>\n",
       "      <td>200</td>\n",
       "      <td>E MAIN ST</td>\n",
       "      <td>CPD</td>\n",
       "      <td>1753311226000</td>\n",
       "      <td>1853</td>\n",
       "      <td>Vlasis, Christopher</td>\n",
       "    </tr>\n",
       "  </tbody>\n",
       "</table>\n",
       "</div>"
      ],
      "text/plain": [
       "   RecordID                Offense    IncidentID BlockNumber      StreetName  \\\n",
       "0         1   Missing Person-adult  202500025969         600     E MARKET ST   \n",
       "1         2   Fraud-false pretense  202500025970        1600    ROSE HILL DR   \n",
       "2         3         Assault Simple  202500025965        1500  UNIVERSITY AVE   \n",
       "3         4  Larceny - Shoplifitng  202500025958        1800   MONTICELLO RD   \n",
       "4         5  Larceny - Shoplifitng  202500025955         200       E MAIN ST   \n",
       "\n",
       "  Agency   DateReported HourReported     ReportingOfficer  \n",
       "0    CPD  1753316244000         2017     Bentz, Benjamin   \n",
       "1    CPD  1753315296000         2001       Reed, Danielle  \n",
       "2    CPD  1753314704000         1951      Crowley, Raeann  \n",
       "3    CPD  1753312075000         1907         Lowry, Brent  \n",
       "4    CPD  1753311226000         1853  Vlasis, Christopher  "
      ]
     },
     "execution_count": 3,
     "metadata": {},
     "output_type": "execute_result"
    }
   ],
   "source": [
    "df.head()"
   ]
  },
  {
   "cell_type": "code",
   "execution_count": 4,
   "id": "2c9e587d",
   "metadata": {
    "execution": {
     "iopub.execute_input": "2025-07-26T01:08:31.631873Z",
     "iopub.status.busy": "2025-07-26T01:08:31.631654Z",
     "iopub.status.idle": "2025-07-26T01:08:31.636048Z",
     "shell.execute_reply": "2025-07-26T01:08:31.635378Z"
    },
    "papermill": {
     "duration": 0.009729,
     "end_time": "2025-07-26T01:08:31.637117",
     "exception": false,
     "start_time": "2025-07-26T01:08:31.627388",
     "status": "completed"
    },
    "tags": []
   },
   "outputs": [
    {
     "data": {
      "text/plain": [
       "Index(['RecordID', 'Offense', 'IncidentID', 'BlockNumber', 'StreetName',\n",
       "       'Agency', 'DateReported', 'HourReported', 'ReportingOfficer'],\n",
       "      dtype='object')"
      ]
     },
     "execution_count": 4,
     "metadata": {},
     "output_type": "execute_result"
    }
   ],
   "source": [
    "df.columns"
   ]
  },
  {
   "cell_type": "code",
   "execution_count": 5,
   "id": "1e2ecb43",
   "metadata": {
    "execution": {
     "iopub.execute_input": "2025-07-26T01:08:31.645671Z",
     "iopub.status.busy": "2025-07-26T01:08:31.645445Z",
     "iopub.status.idle": "2025-07-26T01:08:31.670710Z",
     "shell.execute_reply": "2025-07-26T01:08:31.670067Z"
    },
    "papermill": {
     "duration": 0.030801,
     "end_time": "2025-07-26T01:08:31.671805",
     "exception": false,
     "start_time": "2025-07-26T01:08:31.641004",
     "status": "completed"
    },
    "tags": []
   },
   "outputs": [
    {
     "name": "stdout",
     "output_type": "stream",
     "text": [
      "<class 'pandas.core.frame.DataFrame'>\n",
      "RangeIndex: 25580 entries, 0 to 25579\n",
      "Data columns (total 9 columns):\n",
      " #   Column            Non-Null Count  Dtype \n",
      "---  ------            --------------  ----- \n",
      " 0   RecordID          25580 non-null  int64 \n",
      " 1   Offense           25580 non-null  object\n",
      " 2   IncidentID        25580 non-null  object\n",
      " 3   BlockNumber       25580 non-null  object\n",
      " 4   StreetName        25580 non-null  object\n",
      " 5   Agency            25580 non-null  object\n",
      " 6   DateReported      25580 non-null  int64 \n",
      " 7   HourReported      25580 non-null  object\n",
      " 8   ReportingOfficer  25563 non-null  object\n",
      "dtypes: int64(2), object(7)\n",
      "memory usage: 1.8+ MB\n"
     ]
    }
   ],
   "source": [
    "df.info()"
   ]
  },
  {
   "cell_type": "markdown",
   "id": "353d589e",
   "metadata": {
    "papermill": {
     "duration": 0.003852,
     "end_time": "2025-07-26T01:08:31.679742",
     "exception": false,
     "start_time": "2025-07-26T01:08:31.675890",
     "status": "completed"
    },
    "tags": []
   },
   "source": [
    "### Missing Values"
   ]
  },
  {
   "cell_type": "code",
   "execution_count": 6,
   "id": "193c60c3",
   "metadata": {
    "execution": {
     "iopub.execute_input": "2025-07-26T01:08:31.688399Z",
     "iopub.status.busy": "2025-07-26T01:08:31.688068Z",
     "iopub.status.idle": "2025-07-26T01:08:31.712686Z",
     "shell.execute_reply": "2025-07-26T01:08:31.712065Z"
    },
    "papermill": {
     "duration": 0.030248,
     "end_time": "2025-07-26T01:08:31.713782",
     "exception": false,
     "start_time": "2025-07-26T01:08:31.683534",
     "status": "completed"
    },
    "tags": []
   },
   "outputs": [
    {
     "name": "stdout",
     "output_type": "stream",
     "text": [
      "                  MissingCount  MissingPercentage\n",
      "RecordID                     0               0.00\n",
      "Offense                      0               0.00\n",
      "IncidentID                   0               0.00\n",
      "BlockNumber                  0               0.00\n",
      "StreetName                   0               0.00\n",
      "Agency                       0               0.00\n",
      "DateReported                 0               0.00\n",
      "HourReported                 0               0.00\n",
      "ReportingOfficer            17               0.07\n"
     ]
    }
   ],
   "source": [
    "def missing_percentage(df):\n",
    "    \"\"\"\n",
    "    Returns a DataFrame with the count and percentage of missing values for each column.\n",
    "    \n",
    "    Parameters:\n",
    "        df (pd.DataFrame): The input DataFrame.\n",
    "    \n",
    "    Returns:\n",
    "        pd.DataFrame: A DataFrame with columns 'MissingCount' and 'MissingPercentage'.\n",
    "    \"\"\"\n",
    "    total_rows = len(df)\n",
    "    missing_count = df.isnull().sum()\n",
    "    missing_percent = (missing_count / total_rows) * 100\n",
    "    \n",
    "    result = pd.DataFrame({\n",
    "        'MissingCount': missing_count,\n",
    "        'MissingPercentage': missing_percent.round(2)\n",
    "    })\n",
    "    \n",
    "    return result\n",
    "\n",
    "# Example usage:\n",
    "missing_info = missing_percentage(df)\n",
    "print(missing_info)\n"
   ]
  },
  {
   "cell_type": "markdown",
   "id": "377b3e56",
   "metadata": {
    "papermill": {
     "duration": 0.003883,
     "end_time": "2025-07-26T01:08:31.721984",
     "exception": false,
     "start_time": "2025-07-26T01:08:31.718101",
     "status": "completed"
    },
    "tags": []
   },
   "source": [
    "## Data Preparation"
   ]
  },
  {
   "cell_type": "markdown",
   "id": "273203d8",
   "metadata": {
    "papermill": {
     "duration": 0.003776,
     "end_time": "2025-07-26T01:08:31.729622",
     "exception": false,
     "start_time": "2025-07-26T01:08:31.725846",
     "status": "completed"
    },
    "tags": []
   },
   "source": [
    "### Data Conversion"
   ]
  },
  {
   "cell_type": "code",
   "execution_count": 7,
   "id": "4e4ed31c",
   "metadata": {
    "execution": {
     "iopub.execute_input": "2025-07-26T01:08:31.738489Z",
     "iopub.status.busy": "2025-07-26T01:08:31.738216Z",
     "iopub.status.idle": "2025-07-26T01:08:32.103089Z",
     "shell.execute_reply": "2025-07-26T01:08:32.102270Z"
    },
    "papermill": {
     "duration": 0.370715,
     "end_time": "2025-07-26T01:08:32.104237",
     "exception": false,
     "start_time": "2025-07-26T01:08:31.733522",
     "status": "completed"
    },
    "tags": []
   },
   "outputs": [
    {
     "data": {
      "text/html": [
       "<div>\n",
       "<style scoped>\n",
       "    .dataframe tbody tr th:only-of-type {\n",
       "        vertical-align: middle;\n",
       "    }\n",
       "\n",
       "    .dataframe tbody tr th {\n",
       "        vertical-align: top;\n",
       "    }\n",
       "\n",
       "    .dataframe thead th {\n",
       "        text-align: right;\n",
       "    }\n",
       "</style>\n",
       "<table border=\"1\" class=\"dataframe\">\n",
       "  <thead>\n",
       "    <tr style=\"text-align: right;\">\n",
       "      <th></th>\n",
       "      <th>RecordID</th>\n",
       "      <th>Offense</th>\n",
       "      <th>IncidentID</th>\n",
       "      <th>BlockNumber</th>\n",
       "      <th>StreetName</th>\n",
       "      <th>Agency</th>\n",
       "      <th>HourReported</th>\n",
       "      <th>ReportingOfficer</th>\n",
       "      <th>Date</th>\n",
       "      <th>DateString</th>\n",
       "      <th>DayOfWeek</th>\n",
       "      <th>Weekend</th>\n",
       "      <th>Season</th>\n",
       "      <th>HourAMPM</th>\n",
       "      <th>TimeOfDay</th>\n",
       "    </tr>\n",
       "  </thead>\n",
       "  <tbody>\n",
       "    <tr>\n",
       "      <th>0</th>\n",
       "      <td>1</td>\n",
       "      <td>Missing Person-adult</td>\n",
       "      <td>202500025969</td>\n",
       "      <td>600</td>\n",
       "      <td>E MARKET ST</td>\n",
       "      <td>CPD</td>\n",
       "      <td>2017</td>\n",
       "      <td>Bentz, Benjamin</td>\n",
       "      <td>2025-07-23 20:17:24</td>\n",
       "      <td>2025-07-23 08:17:24 PM</td>\n",
       "      <td>Wednesday</td>\n",
       "      <td>False</td>\n",
       "      <td>Summer</td>\n",
       "      <td>08:17 PM</td>\n",
       "      <td>Evening</td>\n",
       "    </tr>\n",
       "    <tr>\n",
       "      <th>1</th>\n",
       "      <td>2</td>\n",
       "      <td>Fraud-false pretense</td>\n",
       "      <td>202500025970</td>\n",
       "      <td>1600</td>\n",
       "      <td>ROSE HILL DR</td>\n",
       "      <td>CPD</td>\n",
       "      <td>2001</td>\n",
       "      <td>Reed, Danielle</td>\n",
       "      <td>2025-07-23 20:01:36</td>\n",
       "      <td>2025-07-23 08:01:36 PM</td>\n",
       "      <td>Wednesday</td>\n",
       "      <td>False</td>\n",
       "      <td>Summer</td>\n",
       "      <td>08:01 PM</td>\n",
       "      <td>Evening</td>\n",
       "    </tr>\n",
       "    <tr>\n",
       "      <th>2</th>\n",
       "      <td>3</td>\n",
       "      <td>Assault Simple</td>\n",
       "      <td>202500025965</td>\n",
       "      <td>1500</td>\n",
       "      <td>UNIVERSITY AVE</td>\n",
       "      <td>CPD</td>\n",
       "      <td>1951</td>\n",
       "      <td>Crowley, Raeann</td>\n",
       "      <td>2025-07-23 19:51:44</td>\n",
       "      <td>2025-07-23 07:51:44 PM</td>\n",
       "      <td>Wednesday</td>\n",
       "      <td>False</td>\n",
       "      <td>Summer</td>\n",
       "      <td>07:51 PM</td>\n",
       "      <td>Evening</td>\n",
       "    </tr>\n",
       "    <tr>\n",
       "      <th>3</th>\n",
       "      <td>4</td>\n",
       "      <td>Larceny - Shoplifitng</td>\n",
       "      <td>202500025958</td>\n",
       "      <td>1800</td>\n",
       "      <td>MONTICELLO RD</td>\n",
       "      <td>CPD</td>\n",
       "      <td>1907</td>\n",
       "      <td>Lowry, Brent</td>\n",
       "      <td>2025-07-23 19:07:55</td>\n",
       "      <td>2025-07-23 07:07:55 PM</td>\n",
       "      <td>Wednesday</td>\n",
       "      <td>False</td>\n",
       "      <td>Summer</td>\n",
       "      <td>07:07 PM</td>\n",
       "      <td>Evening</td>\n",
       "    </tr>\n",
       "    <tr>\n",
       "      <th>4</th>\n",
       "      <td>5</td>\n",
       "      <td>Larceny - Shoplifitng</td>\n",
       "      <td>202500025955</td>\n",
       "      <td>200</td>\n",
       "      <td>E MAIN ST</td>\n",
       "      <td>CPD</td>\n",
       "      <td>1853</td>\n",
       "      <td>Vlasis, Christopher</td>\n",
       "      <td>2025-07-23 18:53:46</td>\n",
       "      <td>2025-07-23 06:53:46 PM</td>\n",
       "      <td>Wednesday</td>\n",
       "      <td>False</td>\n",
       "      <td>Summer</td>\n",
       "      <td>06:53 PM</td>\n",
       "      <td>Evening</td>\n",
       "    </tr>\n",
       "  </tbody>\n",
       "</table>\n",
       "</div>"
      ],
      "text/plain": [
       "   RecordID                Offense    IncidentID BlockNumber      StreetName  \\\n",
       "0         1   Missing Person-adult  202500025969         600     E MARKET ST   \n",
       "1         2   Fraud-false pretense  202500025970        1600    ROSE HILL DR   \n",
       "2         3         Assault Simple  202500025965        1500  UNIVERSITY AVE   \n",
       "3         4  Larceny - Shoplifitng  202500025958        1800   MONTICELLO RD   \n",
       "4         5  Larceny - Shoplifitng  202500025955         200       E MAIN ST   \n",
       "\n",
       "  Agency HourReported     ReportingOfficer                Date  \\\n",
       "0    CPD         2017     Bentz, Benjamin  2025-07-23 20:17:24   \n",
       "1    CPD         2001       Reed, Danielle 2025-07-23 20:01:36   \n",
       "2    CPD         1951      Crowley, Raeann 2025-07-23 19:51:44   \n",
       "3    CPD         1907         Lowry, Brent 2025-07-23 19:07:55   \n",
       "4    CPD         1853  Vlasis, Christopher 2025-07-23 18:53:46   \n",
       "\n",
       "               DateString  DayOfWeek  Weekend  Season  HourAMPM TimeOfDay  \n",
       "0  2025-07-23 08:17:24 PM  Wednesday    False  Summer  08:17 PM   Evening  \n",
       "1  2025-07-23 08:01:36 PM  Wednesday    False  Summer  08:01 PM   Evening  \n",
       "2  2025-07-23 07:51:44 PM  Wednesday    False  Summer  07:51 PM   Evening  \n",
       "3  2025-07-23 07:07:55 PM  Wednesday    False  Summer  07:07 PM   Evening  \n",
       "4  2025-07-23 06:53:46 PM  Wednesday    False  Summer  06:53 PM   Evening  "
      ]
     },
     "execution_count": 7,
     "metadata": {},
     "output_type": "execute_result"
    }
   ],
   "source": [
    "def convert_and_categorize_datereported(df, col='DateReported'):\n",
    "    \"\"\"\n",
    "    Converts an epoch (in milliseconds) date column into a timezone-aware datetime,\n",
    "    converts it to Eastern Time, and then creates columns for day-of-week, weekend flag,\n",
    "    season, 12-hour formatted time, and time-of-day. Keeps both a real datetime column\n",
    "    (Date) and a string representation (DateString).\n",
    "    \"\"\"\n",
    "    import pandas as pd\n",
    "\n",
    "    # Convert the epoch timestamp to a pandas datetime object as UTC, then convert to US/Eastern.\n",
    "    df[\"DateReported_dt\"] = (\n",
    "        pd.to_datetime(df[col], unit=\"ms\", errors=\"coerce\", utc=True)\n",
    "        .dt.tz_convert(\"US/Eastern\")\n",
    "    )\n",
    "    \n",
    "    # Create a true datetime column (remove timezone if you prefer naive datetime)\n",
    "    df[\"Date\"] = df[\"DateReported_dt\"].dt.tz_localize(None)\n",
    "\n",
    "    # Optionally, create a separate string-formatted column\n",
    "    df[\"DateString\"] = df[\"DateReported_dt\"].dt.strftime(\"%Y-%m-%d %I:%M:%S %p\")\n",
    "    \n",
    "    # DayOfWeek\n",
    "    df[\"DayOfWeek\"] = df[\"DateReported_dt\"].dt.day_name()\n",
    "    \n",
    "    # Weekend\n",
    "    df[\"Weekend\"] = df[\"DayOfWeek\"].isin([\"Saturday\", \"Sunday\"])\n",
    "    \n",
    "    # Helper function to determine the season\n",
    "    def get_season(dt):\n",
    "        month = dt.month\n",
    "        day = dt.day\n",
    "        # Approximate Northern Hemisphere season boundaries:\n",
    "        if (month == 12 and day >= 21) or (month < 3) or (month == 3 and day < 20):\n",
    "            return \"Winter\"\n",
    "        elif (month == 3 and day >= 20) or (month < 6) or (month == 6 and day < 21):\n",
    "            return \"Spring\"\n",
    "        elif (month == 6 and day >= 21) or (month < 9) or (month == 9 and day < 22):\n",
    "            return \"Summer\"\n",
    "        else:\n",
    "            return \"Autumn\"\n",
    "    \n",
    "    df[\"Season\"] = df[\"DateReported_dt\"].apply(get_season)\n",
    "    \n",
    "    # 12-hour formatted time (HourAMPM)\n",
    "    df[\"HourAMPM\"] = df[\"DateReported_dt\"].dt.strftime(\"%I:%M %p\")\n",
    "    \n",
    "    # Extract hour (0-23) for time-of-day\n",
    "    df[\"HourValue\"] = df[\"DateReported_dt\"].dt.hour\n",
    "    \n",
    "    def time_of_day(hour):\n",
    "        if pd.isnull(hour):\n",
    "            return None\n",
    "        if 5 <= hour < 12:\n",
    "            return \"Morning\"\n",
    "        elif 12 <= hour < 17:\n",
    "            return \"Afternoon\"\n",
    "        elif 17 <= hour < 21:\n",
    "            return \"Evening\"\n",
    "        else:\n",
    "            return \"Night\"\n",
    "    \n",
    "    df[\"TimeOfDay\"] = df[\"HourValue\"].apply(time_of_day)\n",
    "    \n",
    "    # Drop columns you no longer need\n",
    "    df.drop(columns=[col, \"DateReported_dt\", \"HourValue\"], inplace=True)\n",
    "    \n",
    "    return df\n",
    "\n",
    "# Example usage:\n",
    "df = convert_and_categorize_datereported(df)\n",
    "df.head()\n"
   ]
  },
  {
   "cell_type": "code",
   "execution_count": 8,
   "id": "2e7de310",
   "metadata": {
    "execution": {
     "iopub.execute_input": "2025-07-26T01:08:32.113683Z",
     "iopub.status.busy": "2025-07-26T01:08:32.113418Z",
     "iopub.status.idle": "2025-07-26T01:08:32.143084Z",
     "shell.execute_reply": "2025-07-26T01:08:32.142512Z"
    },
    "papermill": {
     "duration": 0.035644,
     "end_time": "2025-07-26T01:08:32.144278",
     "exception": false,
     "start_time": "2025-07-26T01:08:32.108634",
     "status": "completed"
    },
    "tags": []
   },
   "outputs": [
    {
     "name": "stdout",
     "output_type": "stream",
     "text": [
      "<class 'pandas.core.frame.DataFrame'>\n",
      "RangeIndex: 25580 entries, 0 to 25579\n",
      "Data columns (total 15 columns):\n",
      " #   Column            Non-Null Count  Dtype         \n",
      "---  ------            --------------  -----         \n",
      " 0   RecordID          25580 non-null  int64         \n",
      " 1   Offense           25580 non-null  object        \n",
      " 2   IncidentID        25580 non-null  object        \n",
      " 3   BlockNumber       25580 non-null  object        \n",
      " 4   StreetName        25580 non-null  object        \n",
      " 5   Agency            25580 non-null  object        \n",
      " 6   HourReported      25580 non-null  object        \n",
      " 7   ReportingOfficer  25563 non-null  object        \n",
      " 8   Date              25580 non-null  datetime64[ns]\n",
      " 9   DateString        25580 non-null  object        \n",
      " 10  DayOfWeek         25580 non-null  object        \n",
      " 11  Weekend           25580 non-null  bool          \n",
      " 12  Season            25580 non-null  object        \n",
      " 13  HourAMPM          25580 non-null  object        \n",
      " 14  TimeOfDay         25580 non-null  object        \n",
      "dtypes: bool(1), datetime64[ns](1), int64(1), object(12)\n",
      "memory usage: 2.8+ MB\n"
     ]
    }
   ],
   "source": [
    "df.info()"
   ]
  },
  {
   "cell_type": "markdown",
   "id": "c86860d0",
   "metadata": {
    "papermill": {
     "duration": 0.004159,
     "end_time": "2025-07-26T01:08:32.153014",
     "exception": false,
     "start_time": "2025-07-26T01:08:32.148855",
     "status": "completed"
    },
    "tags": []
   },
   "source": [
    "### Coordinates"
   ]
  },
  {
   "cell_type": "code",
   "execution_count": 9,
   "id": "6b49ea94",
   "metadata": {
    "execution": {
     "iopub.execute_input": "2025-07-26T01:08:32.162505Z",
     "iopub.status.busy": "2025-07-26T01:08:32.162244Z",
     "iopub.status.idle": "2025-07-26T01:08:32.284732Z",
     "shell.execute_reply": "2025-07-26T01:08:32.284119Z"
    },
    "papermill": {
     "duration": 0.1286,
     "end_time": "2025-07-26T01:08:32.285815",
     "exception": false,
     "start_time": "2025-07-26T01:08:32.157215",
     "status": "completed"
    },
    "tags": []
   },
   "outputs": [
    {
     "name": "stdout",
     "output_type": "stream",
     "text": [
      "Loaded geocode cache.\n",
      "Error geocoding 100 CARLTON RD, 104: REQUEST_DENIED (You must enable Billing on the Google Cloud Project at https://console.cloud.google.com/project/_/billing/enable Learn more at https://developers.google.com/maps/gmp-get-started)\n",
      "Geocoded 100 CARLTON RD, 104: None, None\n",
      "Geocode cache updated and saved.\n"
     ]
    },
    {
     "data": {
      "text/html": [
       "<div>\n",
       "<style scoped>\n",
       "    .dataframe tbody tr th:only-of-type {\n",
       "        vertical-align: middle;\n",
       "    }\n",
       "\n",
       "    .dataframe tbody tr th {\n",
       "        vertical-align: top;\n",
       "    }\n",
       "\n",
       "    .dataframe thead th {\n",
       "        text-align: right;\n",
       "    }\n",
       "</style>\n",
       "<table border=\"1\" class=\"dataframe\">\n",
       "  <thead>\n",
       "    <tr style=\"text-align: right;\">\n",
       "      <th></th>\n",
       "      <th>RecordID</th>\n",
       "      <th>Offense</th>\n",
       "      <th>IncidentID</th>\n",
       "      <th>BlockNumber</th>\n",
       "      <th>StreetName</th>\n",
       "      <th>Agency</th>\n",
       "      <th>HourReported</th>\n",
       "      <th>ReportingOfficer</th>\n",
       "      <th>Date</th>\n",
       "      <th>DateString</th>\n",
       "      <th>DayOfWeek</th>\n",
       "      <th>Weekend</th>\n",
       "      <th>Season</th>\n",
       "      <th>HourAMPM</th>\n",
       "      <th>TimeOfDay</th>\n",
       "      <th>FullStreet</th>\n",
       "      <th>lat</th>\n",
       "      <th>lon</th>\n",
       "    </tr>\n",
       "  </thead>\n",
       "  <tbody>\n",
       "    <tr>\n",
       "      <th>0</th>\n",
       "      <td>1</td>\n",
       "      <td>Missing Person-adult</td>\n",
       "      <td>202500025969</td>\n",
       "      <td>600</td>\n",
       "      <td>E MARKET ST</td>\n",
       "      <td>CPD</td>\n",
       "      <td>2017</td>\n",
       "      <td>Bentz, Benjamin</td>\n",
       "      <td>2025-07-23 20:17:24</td>\n",
       "      <td>2025-07-23 08:17:24 PM</td>\n",
       "      <td>Wednesday</td>\n",
       "      <td>False</td>\n",
       "      <td>Summer</td>\n",
       "      <td>08:17 PM</td>\n",
       "      <td>Evening</td>\n",
       "      <td>600 E MARKET ST</td>\n",
       "      <td>38.030175</td>\n",
       "      <td>-78.477574</td>\n",
       "    </tr>\n",
       "    <tr>\n",
       "      <th>1</th>\n",
       "      <td>2</td>\n",
       "      <td>Fraud-false pretense</td>\n",
       "      <td>202500025970</td>\n",
       "      <td>1600</td>\n",
       "      <td>ROSE HILL DR</td>\n",
       "      <td>CPD</td>\n",
       "      <td>2001</td>\n",
       "      <td>Reed, Danielle</td>\n",
       "      <td>2025-07-23 20:01:36</td>\n",
       "      <td>2025-07-23 08:01:36 PM</td>\n",
       "      <td>Wednesday</td>\n",
       "      <td>False</td>\n",
       "      <td>Summer</td>\n",
       "      <td>08:01 PM</td>\n",
       "      <td>Evening</td>\n",
       "      <td>1600 ROSE HILL DR</td>\n",
       "      <td>38.049559</td>\n",
       "      <td>-78.482692</td>\n",
       "    </tr>\n",
       "    <tr>\n",
       "      <th>2</th>\n",
       "      <td>3</td>\n",
       "      <td>Assault Simple</td>\n",
       "      <td>202500025965</td>\n",
       "      <td>1500</td>\n",
       "      <td>UNIVERSITY AVE</td>\n",
       "      <td>CPD</td>\n",
       "      <td>1951</td>\n",
       "      <td>Crowley, Raeann</td>\n",
       "      <td>2025-07-23 19:51:44</td>\n",
       "      <td>2025-07-23 07:51:44 PM</td>\n",
       "      <td>Wednesday</td>\n",
       "      <td>False</td>\n",
       "      <td>Summer</td>\n",
       "      <td>07:51 PM</td>\n",
       "      <td>Evening</td>\n",
       "      <td>1500 UNIVERSITY AVE</td>\n",
       "      <td>38.034578</td>\n",
       "      <td>-78.500340</td>\n",
       "    </tr>\n",
       "    <tr>\n",
       "      <th>3</th>\n",
       "      <td>4</td>\n",
       "      <td>Larceny - Shoplifitng</td>\n",
       "      <td>202500025958</td>\n",
       "      <td>1800</td>\n",
       "      <td>MONTICELLO RD</td>\n",
       "      <td>CPD</td>\n",
       "      <td>1907</td>\n",
       "      <td>Lowry, Brent</td>\n",
       "      <td>2025-07-23 19:07:55</td>\n",
       "      <td>2025-07-23 07:07:55 PM</td>\n",
       "      <td>Wednesday</td>\n",
       "      <td>False</td>\n",
       "      <td>Summer</td>\n",
       "      <td>07:07 PM</td>\n",
       "      <td>Evening</td>\n",
       "      <td>1800 MONTICELLO RD</td>\n",
       "      <td>38.015464</td>\n",
       "      <td>-78.473032</td>\n",
       "    </tr>\n",
       "    <tr>\n",
       "      <th>4</th>\n",
       "      <td>5</td>\n",
       "      <td>Larceny - Shoplifitng</td>\n",
       "      <td>202500025955</td>\n",
       "      <td>200</td>\n",
       "      <td>E MAIN ST</td>\n",
       "      <td>CPD</td>\n",
       "      <td>1853</td>\n",
       "      <td>Vlasis, Christopher</td>\n",
       "      <td>2025-07-23 18:53:46</td>\n",
       "      <td>2025-07-23 06:53:46 PM</td>\n",
       "      <td>Wednesday</td>\n",
       "      <td>False</td>\n",
       "      <td>Summer</td>\n",
       "      <td>06:53 PM</td>\n",
       "      <td>Evening</td>\n",
       "      <td>200 E MAIN ST</td>\n",
       "      <td>38.030572</td>\n",
       "      <td>-78.480764</td>\n",
       "    </tr>\n",
       "  </tbody>\n",
       "</table>\n",
       "</div>"
      ],
      "text/plain": [
       "   RecordID                Offense    IncidentID BlockNumber      StreetName  \\\n",
       "0         1   Missing Person-adult  202500025969         600     E MARKET ST   \n",
       "1         2   Fraud-false pretense  202500025970        1600    ROSE HILL DR   \n",
       "2         3         Assault Simple  202500025965        1500  UNIVERSITY AVE   \n",
       "3         4  Larceny - Shoplifitng  202500025958        1800   MONTICELLO RD   \n",
       "4         5  Larceny - Shoplifitng  202500025955         200       E MAIN ST   \n",
       "\n",
       "  Agency HourReported     ReportingOfficer                Date  \\\n",
       "0    CPD         2017     Bentz, Benjamin  2025-07-23 20:17:24   \n",
       "1    CPD         2001       Reed, Danielle 2025-07-23 20:01:36   \n",
       "2    CPD         1951      Crowley, Raeann 2025-07-23 19:51:44   \n",
       "3    CPD         1907         Lowry, Brent 2025-07-23 19:07:55   \n",
       "4    CPD         1853  Vlasis, Christopher 2025-07-23 18:53:46   \n",
       "\n",
       "               DateString  DayOfWeek  Weekend  Season  HourAMPM TimeOfDay  \\\n",
       "0  2025-07-23 08:17:24 PM  Wednesday    False  Summer  08:17 PM   Evening   \n",
       "1  2025-07-23 08:01:36 PM  Wednesday    False  Summer  08:01 PM   Evening   \n",
       "2  2025-07-23 07:51:44 PM  Wednesday    False  Summer  07:51 PM   Evening   \n",
       "3  2025-07-23 07:07:55 PM  Wednesday    False  Summer  07:07 PM   Evening   \n",
       "4  2025-07-23 06:53:46 PM  Wednesday    False  Summer  06:53 PM   Evening   \n",
       "\n",
       "            FullStreet        lat        lon  \n",
       "0      600 E MARKET ST  38.030175 -78.477574  \n",
       "1    1600 ROSE HILL DR  38.049559 -78.482692  \n",
       "2  1500 UNIVERSITY AVE  38.034578 -78.500340  \n",
       "3   1800 MONTICELLO RD  38.015464 -78.473032  \n",
       "4        200 E MAIN ST  38.030572 -78.480764  "
      ]
     },
     "execution_count": 9,
     "metadata": {},
     "output_type": "execute_result"
    }
   ],
   "source": [
    "# Combine BlockNumber and StreetName into a full address string\n",
    "df['FullStreet'] = df['BlockNumber'].astype(str) + \" \" + df['StreetName']\n",
    "\n",
    "# --- Step 1: Setup the Google Maps Client and Cache ---\n",
    "gmaps = googlemaps.Client(key=GOOGLE_API_KEY)\n",
    "\n",
    "# Try to load cached geocoding results if available.\n",
    "try:\n",
    "    with open(\"geocode_cache_google.pkl\", \"rb\") as f:\n",
    "        street_coords = pickle.load(f)\n",
    "    print(\"Loaded geocode cache.\")\n",
    "except FileNotFoundError:\n",
    "    street_coords = {}\n",
    "    print(\"No cache found; starting fresh.\")\n",
    "\n",
    "def geocode_address(address):\n",
    "    try:\n",
    "        # Append city and state to help geocoding\n",
    "        result = gmaps.geocode(f\"{address}, Charlottesville, VA\")\n",
    "        if result:\n",
    "            lat = result[0]['geometry']['location']['lat']\n",
    "            lon = result[0]['geometry']['location']['lng']\n",
    "            return lat, lon\n",
    "    except Exception as e:\n",
    "        print(f\"Error geocoding {address}: {e}\")\n",
    "    return None, None\n",
    "\n",
    "# --- Step 2: Geocode Only New Addresses ---\n",
    "unique_addresses = df['FullStreet'].unique()\n",
    "for address in unique_addresses:\n",
    "    if address not in street_coords:\n",
    "        lat, lon = geocode_address(address)\n",
    "        street_coords[address] = (lat, lon)\n",
    "        print(f\"Geocoded {address}: {lat}, {lon}\")\n",
    "\n",
    "# Save the updated cache to disk.\n",
    "with open(\"geocode_cache_google.pkl\", \"wb\") as f:\n",
    "    pickle.dump(street_coords, f)\n",
    "    print(\"Geocode cache updated and saved.\")\n",
    "\n",
    "# --- Step 3: Map Coordinates Back to DataFrame ---\n",
    "df['lat'] = df['FullStreet'].map(lambda s: street_coords.get(s, (None, None))[0])\n",
    "df['lon'] = df['FullStreet'].map(lambda s: street_coords.get(s, (None, None))[1])\n",
    "\n",
    "df.head()"
   ]
  },
  {
   "cell_type": "markdown",
   "id": "c824ec55",
   "metadata": {
    "papermill": {
     "duration": 0.004336,
     "end_time": "2025-07-26T01:08:32.295027",
     "exception": false,
     "start_time": "2025-07-26T01:08:32.290691",
     "status": "completed"
    },
    "tags": []
   },
   "source": [
    "### Neighborhood"
   ]
  },
  {
   "cell_type": "code",
   "execution_count": 10,
   "id": "7e4bf500",
   "metadata": {
    "execution": {
     "iopub.execute_input": "2025-07-26T01:08:32.304854Z",
     "iopub.status.busy": "2025-07-26T01:08:32.304588Z",
     "iopub.status.idle": "2025-07-26T01:08:34.380308Z",
     "shell.execute_reply": "2025-07-26T01:08:34.379469Z"
    },
    "papermill": {
     "duration": 2.082057,
     "end_time": "2025-07-26T01:08:34.381446",
     "exception": false,
     "start_time": "2025-07-26T01:08:32.299389",
     "status": "completed"
    },
    "tags": []
   },
   "outputs": [
    {
     "name": "stdout",
     "output_type": "stream",
     "text": [
      "Loaded neighborhood cache.\n"
     ]
    },
    {
     "name": "stdout",
     "output_type": "stream",
     "text": [
      "Error getting neighborhood for nan, nan: HTTP Error: 400\n",
      "Error getting neighborhood for nan, nan: HTTP Error: 400\n",
      "Error getting neighborhood for nan, nan: HTTP Error: 400\n"
     ]
    },
    {
     "name": "stdout",
     "output_type": "stream",
     "text": [
      "Error getting neighborhood for nan, nan: HTTP Error: 400\n",
      "Error getting neighborhood for nan, nan: HTTP Error: 400\n",
      "Error getting neighborhood for nan, nan: HTTP Error: 400\n",
      "Error getting neighborhood for nan, nan: HTTP Error: 400\n"
     ]
    },
    {
     "name": "stdout",
     "output_type": "stream",
     "text": [
      "Error getting neighborhood for nan, nan: HTTP Error: 400\n",
      "Error getting neighborhood for nan, nan: HTTP Error: 400\n",
      "Error getting neighborhood for nan, nan: HTTP Error: 400\n",
      "Error getting neighborhood for nan, nan: HTTP Error: 400\n"
     ]
    },
    {
     "name": "stdout",
     "output_type": "stream",
     "text": [
      "Error getting neighborhood for nan, nan: HTTP Error: 400\n",
      "Error getting neighborhood for nan, nan: HTTP Error: 400\n",
      "Error getting neighborhood for nan, nan: HTTP Error: 400\n",
      "Error getting neighborhood for nan, nan: HTTP Error: 400\n"
     ]
    },
    {
     "name": "stdout",
     "output_type": "stream",
     "text": [
      "Error getting neighborhood for nan, nan: HTTP Error: 400\n",
      "Error getting neighborhood for nan, nan: HTTP Error: 400\n",
      "Error getting neighborhood for nan, nan: HTTP Error: 400\n",
      "Error getting neighborhood for nan, nan: HTTP Error: 400\n"
     ]
    },
    {
     "name": "stdout",
     "output_type": "stream",
     "text": [
      "Error getting neighborhood for nan, nan: HTTP Error: 400\n",
      "Error getting neighborhood for nan, nan: HTTP Error: 400\n",
      "Error getting neighborhood for nan, nan: HTTP Error: 400\n",
      "Error getting neighborhood for nan, nan: HTTP Error: 400\n"
     ]
    },
    {
     "name": "stdout",
     "output_type": "stream",
     "text": [
      "Error getting neighborhood for nan, nan: HTTP Error: 400\n",
      "Error getting neighborhood for nan, nan: HTTP Error: 400\n",
      "Error getting neighborhood for nan, nan: HTTP Error: 400\n",
      "Error getting neighborhood for nan, nan: HTTP Error: 400\n",
      "Error getting neighborhood for nan, nan: HTTP Error: 400\n"
     ]
    },
    {
     "name": "stdout",
     "output_type": "stream",
     "text": [
      "Error getting neighborhood for nan, nan: HTTP Error: 400\n",
      "Error getting neighborhood for nan, nan: HTTP Error: 400\n",
      "Error getting neighborhood for nan, nan: HTTP Error: 400\n",
      "Error getting neighborhood for nan, nan: HTTP Error: 400\n"
     ]
    },
    {
     "name": "stdout",
     "output_type": "stream",
     "text": [
      "Error getting neighborhood for nan, nan: HTTP Error: 400\n",
      "Error getting neighborhood for nan, nan: HTTP Error: 400\n",
      "Error getting neighborhood for nan, nan: HTTP Error: 400\n",
      "Error getting neighborhood for nan, nan: HTTP Error: 400\n",
      "Error getting neighborhood for nan, nan: HTTP Error: 400\n"
     ]
    },
    {
     "name": "stdout",
     "output_type": "stream",
     "text": [
      "Error getting neighborhood for nan, nan: HTTP Error: 400\n",
      "Error getting neighborhood for nan, nan: HTTP Error: 400\n",
      "Error getting neighborhood for nan, nan: HTTP Error: 400\n",
      "Error getting neighborhood for nan, nan: HTTP Error: 400\n"
     ]
    },
    {
     "name": "stdout",
     "output_type": "stream",
     "text": [
      "Error getting neighborhood for nan, nan: HTTP Error: 400\n",
      "Error getting neighborhood for nan, nan: HTTP Error: 400\n",
      "Error getting neighborhood for nan, nan: HTTP Error: 400\n",
      "Error getting neighborhood for nan, nan: HTTP Error: 400\n",
      "Error getting neighborhood for nan, nan: HTTP Error: 400\n"
     ]
    },
    {
     "name": "stdout",
     "output_type": "stream",
     "text": [
      "Error getting neighborhood for nan, nan: HTTP Error: 400\n",
      "Error getting neighborhood for nan, nan: HTTP Error: 400\n",
      "Error getting neighborhood for nan, nan: HTTP Error: 400\n",
      "Error getting neighborhood for nan, nan: HTTP Error: 400\n"
     ]
    },
    {
     "name": "stdout",
     "output_type": "stream",
     "text": [
      "Error getting neighborhood for nan, nan: HTTP Error: 400\n",
      "Error getting neighborhood for nan, nan: HTTP Error: 400\n",
      "Error getting neighborhood for nan, nan: HTTP Error: 400\n",
      "Error getting neighborhood for nan, nan: HTTP Error: 400\n",
      "Error getting neighborhood for nan, nan: HTTP Error: 400\n"
     ]
    },
    {
     "name": "stdout",
     "output_type": "stream",
     "text": [
      "Error getting neighborhood for nan, nan: HTTP Error: 400\n",
      "Error getting neighborhood for nan, nan: HTTP Error: 400\n",
      "Error getting neighborhood for nan, nan: HTTP Error: 400\n",
      "Error getting neighborhood for nan, nan: HTTP Error: 400\n"
     ]
    },
    {
     "name": "stdout",
     "output_type": "stream",
     "text": [
      "Error getting neighborhood for nan, nan: HTTP Error: 400\n",
      "Error getting neighborhood for nan, nan: HTTP Error: 400\n",
      "Error getting neighborhood for nan, nan: HTTP Error: 400\n",
      "Error getting neighborhood for nan, nan: HTTP Error: 400\n",
      "Error getting neighborhood for nan, nan: HTTP Error: 400\n"
     ]
    },
    {
     "name": "stdout",
     "output_type": "stream",
     "text": [
      "Error getting neighborhood for nan, nan: HTTP Error: 400\n",
      "Error getting neighborhood for nan, nan: HTTP Error: 400\n",
      "Error getting neighborhood for nan, nan: HTTP Error: 400\n",
      "Error getting neighborhood for nan, nan: HTTP Error: 400\n"
     ]
    },
    {
     "name": "stdout",
     "output_type": "stream",
     "text": [
      "Error getting neighborhood for nan, nan: HTTP Error: 400\n",
      "Error getting neighborhood for nan, nan: HTTP Error: 400\n",
      "Error getting neighborhood for nan, nan: HTTP Error: 400\n"
     ]
    },
    {
     "data": {
      "text/html": [
       "<div>\n",
       "<style scoped>\n",
       "    .dataframe tbody tr th:only-of-type {\n",
       "        vertical-align: middle;\n",
       "    }\n",
       "\n",
       "    .dataframe tbody tr th {\n",
       "        vertical-align: top;\n",
       "    }\n",
       "\n",
       "    .dataframe thead th {\n",
       "        text-align: right;\n",
       "    }\n",
       "</style>\n",
       "<table border=\"1\" class=\"dataframe\">\n",
       "  <thead>\n",
       "    <tr style=\"text-align: right;\">\n",
       "      <th></th>\n",
       "      <th>RecordID</th>\n",
       "      <th>Offense</th>\n",
       "      <th>IncidentID</th>\n",
       "      <th>BlockNumber</th>\n",
       "      <th>StreetName</th>\n",
       "      <th>Agency</th>\n",
       "      <th>HourReported</th>\n",
       "      <th>ReportingOfficer</th>\n",
       "      <th>Date</th>\n",
       "      <th>DateString</th>\n",
       "      <th>DayOfWeek</th>\n",
       "      <th>Weekend</th>\n",
       "      <th>Season</th>\n",
       "      <th>HourAMPM</th>\n",
       "      <th>TimeOfDay</th>\n",
       "      <th>FullStreet</th>\n",
       "      <th>lat</th>\n",
       "      <th>lon</th>\n",
       "      <th>neighborhood</th>\n",
       "    </tr>\n",
       "  </thead>\n",
       "  <tbody>\n",
       "    <tr>\n",
       "      <th>0</th>\n",
       "      <td>1</td>\n",
       "      <td>Missing Person-adult</td>\n",
       "      <td>202500025969</td>\n",
       "      <td>600</td>\n",
       "      <td>E MARKET ST</td>\n",
       "      <td>CPD</td>\n",
       "      <td>2017</td>\n",
       "      <td>Bentz, Benjamin</td>\n",
       "      <td>2025-07-23 20:17:24</td>\n",
       "      <td>2025-07-23 08:17:24 PM</td>\n",
       "      <td>Wednesday</td>\n",
       "      <td>False</td>\n",
       "      <td>Summer</td>\n",
       "      <td>08:17 PM</td>\n",
       "      <td>Evening</td>\n",
       "      <td>600 E MARKET ST</td>\n",
       "      <td>38.030175</td>\n",
       "      <td>-78.477574</td>\n",
       "      <td>Downtown Mall</td>\n",
       "    </tr>\n",
       "    <tr>\n",
       "      <th>1</th>\n",
       "      <td>2</td>\n",
       "      <td>Fraud-false pretense</td>\n",
       "      <td>202500025970</td>\n",
       "      <td>1600</td>\n",
       "      <td>ROSE HILL DR</td>\n",
       "      <td>CPD</td>\n",
       "      <td>2001</td>\n",
       "      <td>Reed, Danielle</td>\n",
       "      <td>2025-07-23 20:01:36</td>\n",
       "      <td>2025-07-23 08:01:36 PM</td>\n",
       "      <td>Wednesday</td>\n",
       "      <td>False</td>\n",
       "      <td>Summer</td>\n",
       "      <td>08:01 PM</td>\n",
       "      <td>Evening</td>\n",
       "      <td>1600 ROSE HILL DR</td>\n",
       "      <td>38.049559</td>\n",
       "      <td>-78.482692</td>\n",
       "      <td>Barracks Rugby</td>\n",
       "    </tr>\n",
       "    <tr>\n",
       "      <th>2</th>\n",
       "      <td>3</td>\n",
       "      <td>Assault Simple</td>\n",
       "      <td>202500025965</td>\n",
       "      <td>1500</td>\n",
       "      <td>UNIVERSITY AVE</td>\n",
       "      <td>CPD</td>\n",
       "      <td>1951</td>\n",
       "      <td>Crowley, Raeann</td>\n",
       "      <td>2025-07-23 19:51:44</td>\n",
       "      <td>2025-07-23 07:51:44 PM</td>\n",
       "      <td>Wednesday</td>\n",
       "      <td>False</td>\n",
       "      <td>Summer</td>\n",
       "      <td>07:51 PM</td>\n",
       "      <td>Evening</td>\n",
       "      <td>1500 UNIVERSITY AVE</td>\n",
       "      <td>38.034578</td>\n",
       "      <td>-78.500340</td>\n",
       "      <td>Venable</td>\n",
       "    </tr>\n",
       "    <tr>\n",
       "      <th>3</th>\n",
       "      <td>4</td>\n",
       "      <td>Larceny - Shoplifitng</td>\n",
       "      <td>202500025958</td>\n",
       "      <td>1800</td>\n",
       "      <td>MONTICELLO RD</td>\n",
       "      <td>CPD</td>\n",
       "      <td>1907</td>\n",
       "      <td>Lowry, Brent</td>\n",
       "      <td>2025-07-23 19:07:55</td>\n",
       "      <td>2025-07-23 07:07:55 PM</td>\n",
       "      <td>Wednesday</td>\n",
       "      <td>False</td>\n",
       "      <td>Summer</td>\n",
       "      <td>07:07 PM</td>\n",
       "      <td>Evening</td>\n",
       "      <td>1800 MONTICELLO RD</td>\n",
       "      <td>38.015464</td>\n",
       "      <td>-78.473032</td>\n",
       "      <td>Belmont</td>\n",
       "    </tr>\n",
       "    <tr>\n",
       "      <th>4</th>\n",
       "      <td>5</td>\n",
       "      <td>Larceny - Shoplifitng</td>\n",
       "      <td>202500025955</td>\n",
       "      <td>200</td>\n",
       "      <td>E MAIN ST</td>\n",
       "      <td>CPD</td>\n",
       "      <td>1853</td>\n",
       "      <td>Vlasis, Christopher</td>\n",
       "      <td>2025-07-23 18:53:46</td>\n",
       "      <td>2025-07-23 06:53:46 PM</td>\n",
       "      <td>Wednesday</td>\n",
       "      <td>False</td>\n",
       "      <td>Summer</td>\n",
       "      <td>06:53 PM</td>\n",
       "      <td>Evening</td>\n",
       "      <td>200 E MAIN ST</td>\n",
       "      <td>38.030572</td>\n",
       "      <td>-78.480764</td>\n",
       "      <td>Downtown Mall</td>\n",
       "    </tr>\n",
       "  </tbody>\n",
       "</table>\n",
       "</div>"
      ],
      "text/plain": [
       "   RecordID                Offense    IncidentID BlockNumber      StreetName  \\\n",
       "0         1   Missing Person-adult  202500025969         600     E MARKET ST   \n",
       "1         2   Fraud-false pretense  202500025970        1600    ROSE HILL DR   \n",
       "2         3         Assault Simple  202500025965        1500  UNIVERSITY AVE   \n",
       "3         4  Larceny - Shoplifitng  202500025958        1800   MONTICELLO RD   \n",
       "4         5  Larceny - Shoplifitng  202500025955         200       E MAIN ST   \n",
       "\n",
       "  Agency HourReported     ReportingOfficer                Date  \\\n",
       "0    CPD         2017     Bentz, Benjamin  2025-07-23 20:17:24   \n",
       "1    CPD         2001       Reed, Danielle 2025-07-23 20:01:36   \n",
       "2    CPD         1951      Crowley, Raeann 2025-07-23 19:51:44   \n",
       "3    CPD         1907         Lowry, Brent 2025-07-23 19:07:55   \n",
       "4    CPD         1853  Vlasis, Christopher 2025-07-23 18:53:46   \n",
       "\n",
       "               DateString  DayOfWeek  Weekend  Season  HourAMPM TimeOfDay  \\\n",
       "0  2025-07-23 08:17:24 PM  Wednesday    False  Summer  08:17 PM   Evening   \n",
       "1  2025-07-23 08:01:36 PM  Wednesday    False  Summer  08:01 PM   Evening   \n",
       "2  2025-07-23 07:51:44 PM  Wednesday    False  Summer  07:51 PM   Evening   \n",
       "3  2025-07-23 07:07:55 PM  Wednesday    False  Summer  07:07 PM   Evening   \n",
       "4  2025-07-23 06:53:46 PM  Wednesday    False  Summer  06:53 PM   Evening   \n",
       "\n",
       "            FullStreet        lat        lon    neighborhood  \n",
       "0      600 E MARKET ST  38.030175 -78.477574   Downtown Mall  \n",
       "1    1600 ROSE HILL DR  38.049559 -78.482692  Barracks Rugby  \n",
       "2  1500 UNIVERSITY AVE  38.034578 -78.500340         Venable  \n",
       "3   1800 MONTICELLO RD  38.015464 -78.473032         Belmont  \n",
       "4        200 E MAIN ST  38.030572 -78.480764   Downtown Mall  "
      ]
     },
     "execution_count": 10,
     "metadata": {},
     "output_type": "execute_result"
    }
   ],
   "source": [
    "# Initialize the Google Maps client.\n",
    "gmaps = googlemaps.Client(key=GOOGLE_API_KEY)\n",
    "\n",
    "# Try to load a persistent neighborhood cache if available.\n",
    "try:\n",
    "    with open(\"neighborhood_cache.pkl\", \"rb\") as f:\n",
    "        neighborhood_cache = pickle.load(f)\n",
    "    print(\"Loaded neighborhood cache.\")\n",
    "except FileNotFoundError:\n",
    "    neighborhood_cache = {}\n",
    "    print(\"No neighborhood cache found; starting fresh.\")\n",
    "\n",
    "def get_neighborhood(lat, lon):\n",
    "    \"\"\"\n",
    "    Reverse geocodes a latitude and longitude to retrieve the neighborhood.\n",
    "    Caches results to speed up subsequent lookups.\n",
    "    \"\"\"\n",
    "    key = (lat, lon)\n",
    "    if key in neighborhood_cache:\n",
    "        return neighborhood_cache[key]\n",
    "    \n",
    "    try:\n",
    "        result = gmaps.reverse_geocode((lat, lon))\n",
    "        if result:\n",
    "            # Look for the 'neighborhood' component in the first result.\n",
    "            for component in result[0]['address_components']:\n",
    "                if 'neighborhood' in component['types']:\n",
    "                    neighborhood = component['long_name']\n",
    "                    neighborhood_cache[key] = neighborhood\n",
    "                    return neighborhood\n",
    "            # If no neighborhood is found, return \"N/A\"\n",
    "            neighborhood_cache[key] = \"N/A\"\n",
    "            return \"N/A\"\n",
    "    except Exception as e:\n",
    "        print(f\"Error getting neighborhood for {lat}, {lon}: {e}\")\n",
    "        return \"N/A\"\n",
    "    \n",
    "    # Pause to respect usage limits.\n",
    "    time.sleep(1)\n",
    "\n",
    "# Example usage: Apply to your DataFrame 'df' that already has 'lat' and 'lon' columns.\n",
    "df['neighborhood'] = df.apply(lambda row: get_neighborhood(row['lat'], row['lon']), axis=1)\n",
    "\n",
    "# Save the updated neighborhood cache.\n",
    "with open(\"neighborhood_cache.pkl\", \"wb\") as f:\n",
    "    pickle.dump(neighborhood_cache, f)\n",
    "\n",
    "df.head()\n"
   ]
  },
  {
   "cell_type": "markdown",
   "id": "c032e36c",
   "metadata": {
    "papermill": {
     "duration": 0.005348,
     "end_time": "2025-07-26T01:08:34.392652",
     "exception": false,
     "start_time": "2025-07-26T01:08:34.387304",
     "status": "completed"
    },
    "tags": []
   },
   "source": [
    "### Zip"
   ]
  },
  {
   "cell_type": "code",
   "execution_count": 11,
   "id": "a1731769",
   "metadata": {
    "execution": {
     "iopub.execute_input": "2025-07-26T01:08:34.404527Z",
     "iopub.status.busy": "2025-07-26T01:08:34.404258Z",
     "iopub.status.idle": "2025-07-26T01:09:45.800398Z",
     "shell.execute_reply": "2025-07-26T01:09:45.799653Z"
    },
    "papermill": {
     "duration": 71.403569,
     "end_time": "2025-07-26T01:09:45.801592",
     "exception": false,
     "start_time": "2025-07-26T01:08:34.398023",
     "status": "completed"
    },
    "tags": []
   },
   "outputs": [
    {
     "name": "stdout",
     "output_type": "stream",
     "text": [
      "Loaded zip cache.\n",
      "Error getting ZIP for nan, nan: Must be a coordinate pair or Point\n"
     ]
    },
    {
     "name": "stdout",
     "output_type": "stream",
     "text": [
      "Error getting ZIP for nan, nan: Must be a coordinate pair or Point\n"
     ]
    },
    {
     "name": "stdout",
     "output_type": "stream",
     "text": [
      "Error getting ZIP for nan, nan: Must be a coordinate pair or Point\n"
     ]
    },
    {
     "name": "stdout",
     "output_type": "stream",
     "text": [
      "Error getting ZIP for nan, nan: Must be a coordinate pair or Point\n"
     ]
    },
    {
     "name": "stdout",
     "output_type": "stream",
     "text": [
      "Error getting ZIP for nan, nan: Must be a coordinate pair or Point\n"
     ]
    },
    {
     "name": "stdout",
     "output_type": "stream",
     "text": [
      "Error getting ZIP for nan, nan: Must be a coordinate pair or Point\n"
     ]
    },
    {
     "name": "stdout",
     "output_type": "stream",
     "text": [
      "Error getting ZIP for nan, nan: Must be a coordinate pair or Point\n"
     ]
    },
    {
     "name": "stdout",
     "output_type": "stream",
     "text": [
      "Error getting ZIP for nan, nan: Must be a coordinate pair or Point\n"
     ]
    },
    {
     "name": "stdout",
     "output_type": "stream",
     "text": [
      "Error getting ZIP for nan, nan: Must be a coordinate pair or Point\n"
     ]
    },
    {
     "name": "stdout",
     "output_type": "stream",
     "text": [
      "Error getting ZIP for nan, nan: Must be a coordinate pair or Point\n"
     ]
    },
    {
     "name": "stdout",
     "output_type": "stream",
     "text": [
      "Error getting ZIP for nan, nan: Must be a coordinate pair or Point\n"
     ]
    },
    {
     "name": "stdout",
     "output_type": "stream",
     "text": [
      "Error getting ZIP for nan, nan: Must be a coordinate pair or Point\n"
     ]
    },
    {
     "name": "stdout",
     "output_type": "stream",
     "text": [
      "Error getting ZIP for nan, nan: Must be a coordinate pair or Point\n"
     ]
    },
    {
     "name": "stdout",
     "output_type": "stream",
     "text": [
      "Error getting ZIP for nan, nan: Must be a coordinate pair or Point\n"
     ]
    },
    {
     "name": "stdout",
     "output_type": "stream",
     "text": [
      "Error getting ZIP for nan, nan: Must be a coordinate pair or Point\n"
     ]
    },
    {
     "name": "stdout",
     "output_type": "stream",
     "text": [
      "Error getting ZIP for nan, nan: Must be a coordinate pair or Point\n"
     ]
    },
    {
     "name": "stdout",
     "output_type": "stream",
     "text": [
      "Error getting ZIP for nan, nan: Must be a coordinate pair or Point\n"
     ]
    },
    {
     "name": "stdout",
     "output_type": "stream",
     "text": [
      "Error getting ZIP for nan, nan: Must be a coordinate pair or Point\n"
     ]
    },
    {
     "name": "stdout",
     "output_type": "stream",
     "text": [
      "Error getting ZIP for nan, nan: Must be a coordinate pair or Point\n"
     ]
    },
    {
     "name": "stdout",
     "output_type": "stream",
     "text": [
      "Error getting ZIP for nan, nan: Must be a coordinate pair or Point\n"
     ]
    },
    {
     "name": "stdout",
     "output_type": "stream",
     "text": [
      "Error getting ZIP for nan, nan: Must be a coordinate pair or Point\n"
     ]
    },
    {
     "name": "stdout",
     "output_type": "stream",
     "text": [
      "Error getting ZIP for nan, nan: Must be a coordinate pair or Point\n"
     ]
    },
    {
     "name": "stdout",
     "output_type": "stream",
     "text": [
      "Error getting ZIP for nan, nan: Must be a coordinate pair or Point\n"
     ]
    },
    {
     "name": "stdout",
     "output_type": "stream",
     "text": [
      "Error getting ZIP for nan, nan: Must be a coordinate pair or Point\n"
     ]
    },
    {
     "name": "stdout",
     "output_type": "stream",
     "text": [
      "Error getting ZIP for nan, nan: Must be a coordinate pair or Point\n"
     ]
    },
    {
     "name": "stdout",
     "output_type": "stream",
     "text": [
      "Error getting ZIP for nan, nan: Must be a coordinate pair or Point\n"
     ]
    },
    {
     "name": "stdout",
     "output_type": "stream",
     "text": [
      "Error getting ZIP for nan, nan: Must be a coordinate pair or Point\n"
     ]
    },
    {
     "name": "stdout",
     "output_type": "stream",
     "text": [
      "Error getting ZIP for nan, nan: Must be a coordinate pair or Point\n"
     ]
    },
    {
     "name": "stdout",
     "output_type": "stream",
     "text": [
      "Error getting ZIP for nan, nan: Must be a coordinate pair or Point\n"
     ]
    },
    {
     "name": "stdout",
     "output_type": "stream",
     "text": [
      "Error getting ZIP for nan, nan: Must be a coordinate pair or Point\n"
     ]
    },
    {
     "name": "stdout",
     "output_type": "stream",
     "text": [
      "Error getting ZIP for nan, nan: Must be a coordinate pair or Point\n"
     ]
    },
    {
     "name": "stdout",
     "output_type": "stream",
     "text": [
      "Error getting ZIP for nan, nan: Must be a coordinate pair or Point\n"
     ]
    },
    {
     "name": "stdout",
     "output_type": "stream",
     "text": [
      "Error getting ZIP for nan, nan: Must be a coordinate pair or Point\n"
     ]
    },
    {
     "name": "stdout",
     "output_type": "stream",
     "text": [
      "Error getting ZIP for nan, nan: Must be a coordinate pair or Point\n"
     ]
    },
    {
     "name": "stdout",
     "output_type": "stream",
     "text": [
      "Error getting ZIP for nan, nan: Must be a coordinate pair or Point\n"
     ]
    },
    {
     "name": "stdout",
     "output_type": "stream",
     "text": [
      "Error getting ZIP for nan, nan: Must be a coordinate pair or Point\n"
     ]
    },
    {
     "name": "stdout",
     "output_type": "stream",
     "text": [
      "Error getting ZIP for nan, nan: Must be a coordinate pair or Point\n"
     ]
    },
    {
     "name": "stdout",
     "output_type": "stream",
     "text": [
      "Error getting ZIP for nan, nan: Must be a coordinate pair or Point\n"
     ]
    },
    {
     "name": "stdout",
     "output_type": "stream",
     "text": [
      "Error getting ZIP for nan, nan: Must be a coordinate pair or Point\n"
     ]
    },
    {
     "name": "stdout",
     "output_type": "stream",
     "text": [
      "Error getting ZIP for nan, nan: Must be a coordinate pair or Point\n"
     ]
    },
    {
     "name": "stdout",
     "output_type": "stream",
     "text": [
      "Error getting ZIP for nan, nan: Must be a coordinate pair or Point\n"
     ]
    },
    {
     "name": "stdout",
     "output_type": "stream",
     "text": [
      "Error getting ZIP for nan, nan: Must be a coordinate pair or Point\n"
     ]
    },
    {
     "name": "stdout",
     "output_type": "stream",
     "text": [
      "Error getting ZIP for nan, nan: Must be a coordinate pair or Point\n"
     ]
    },
    {
     "name": "stdout",
     "output_type": "stream",
     "text": [
      "Error getting ZIP for nan, nan: Must be a coordinate pair or Point\n"
     ]
    },
    {
     "name": "stdout",
     "output_type": "stream",
     "text": [
      "Error getting ZIP for nan, nan: Must be a coordinate pair or Point\n"
     ]
    },
    {
     "name": "stdout",
     "output_type": "stream",
     "text": [
      "Error getting ZIP for nan, nan: Must be a coordinate pair or Point\n"
     ]
    },
    {
     "name": "stdout",
     "output_type": "stream",
     "text": [
      "Error getting ZIP for nan, nan: Must be a coordinate pair or Point\n"
     ]
    },
    {
     "name": "stdout",
     "output_type": "stream",
     "text": [
      "Error getting ZIP for nan, nan: Must be a coordinate pair or Point\n"
     ]
    },
    {
     "name": "stdout",
     "output_type": "stream",
     "text": [
      "Error getting ZIP for nan, nan: Must be a coordinate pair or Point\n"
     ]
    },
    {
     "name": "stdout",
     "output_type": "stream",
     "text": [
      "Error getting ZIP for nan, nan: Must be a coordinate pair or Point\n"
     ]
    },
    {
     "name": "stdout",
     "output_type": "stream",
     "text": [
      "Error getting ZIP for nan, nan: Must be a coordinate pair or Point\n"
     ]
    },
    {
     "name": "stdout",
     "output_type": "stream",
     "text": [
      "Error getting ZIP for nan, nan: Must be a coordinate pair or Point\n"
     ]
    },
    {
     "name": "stdout",
     "output_type": "stream",
     "text": [
      "Error getting ZIP for nan, nan: Must be a coordinate pair or Point\n"
     ]
    },
    {
     "name": "stdout",
     "output_type": "stream",
     "text": [
      "Error getting ZIP for nan, nan: Must be a coordinate pair or Point\n"
     ]
    },
    {
     "name": "stdout",
     "output_type": "stream",
     "text": [
      "Error getting ZIP for nan, nan: Must be a coordinate pair or Point\n"
     ]
    },
    {
     "name": "stdout",
     "output_type": "stream",
     "text": [
      "Error getting ZIP for nan, nan: Must be a coordinate pair or Point\n"
     ]
    },
    {
     "name": "stdout",
     "output_type": "stream",
     "text": [
      "Error getting ZIP for nan, nan: Must be a coordinate pair or Point\n"
     ]
    },
    {
     "name": "stdout",
     "output_type": "stream",
     "text": [
      "Error getting ZIP for nan, nan: Must be a coordinate pair or Point\n"
     ]
    },
    {
     "name": "stdout",
     "output_type": "stream",
     "text": [
      "Error getting ZIP for nan, nan: Must be a coordinate pair or Point\n"
     ]
    },
    {
     "name": "stdout",
     "output_type": "stream",
     "text": [
      "Error getting ZIP for nan, nan: Must be a coordinate pair or Point\n"
     ]
    },
    {
     "name": "stdout",
     "output_type": "stream",
     "text": [
      "Error getting ZIP for nan, nan: Must be a coordinate pair or Point\n"
     ]
    },
    {
     "name": "stdout",
     "output_type": "stream",
     "text": [
      "Error getting ZIP for nan, nan: Must be a coordinate pair or Point\n"
     ]
    },
    {
     "name": "stdout",
     "output_type": "stream",
     "text": [
      "Error getting ZIP for nan, nan: Must be a coordinate pair or Point\n"
     ]
    },
    {
     "name": "stdout",
     "output_type": "stream",
     "text": [
      "Error getting ZIP for nan, nan: Must be a coordinate pair or Point\n"
     ]
    },
    {
     "name": "stdout",
     "output_type": "stream",
     "text": [
      "Error getting ZIP for nan, nan: Must be a coordinate pair or Point\n"
     ]
    },
    {
     "name": "stdout",
     "output_type": "stream",
     "text": [
      "Error getting ZIP for nan, nan: Must be a coordinate pair or Point\n"
     ]
    },
    {
     "name": "stdout",
     "output_type": "stream",
     "text": [
      "Error getting ZIP for nan, nan: Must be a coordinate pair or Point\n"
     ]
    },
    {
     "name": "stdout",
     "output_type": "stream",
     "text": [
      "Error getting ZIP for nan, nan: Must be a coordinate pair or Point\n"
     ]
    },
    {
     "name": "stdout",
     "output_type": "stream",
     "text": [
      "Error getting ZIP for nan, nan: Must be a coordinate pair or Point\n"
     ]
    },
    {
     "name": "stdout",
     "output_type": "stream",
     "text": [
      "Error getting ZIP for nan, nan: Must be a coordinate pair or Point\n"
     ]
    },
    {
     "name": "stdout",
     "output_type": "stream",
     "text": [
      "Error getting ZIP for nan, nan: Must be a coordinate pair or Point\n"
     ]
    },
    {
     "data": {
      "text/html": [
       "<div>\n",
       "<style scoped>\n",
       "    .dataframe tbody tr th:only-of-type {\n",
       "        vertical-align: middle;\n",
       "    }\n",
       "\n",
       "    .dataframe tbody tr th {\n",
       "        vertical-align: top;\n",
       "    }\n",
       "\n",
       "    .dataframe thead th {\n",
       "        text-align: right;\n",
       "    }\n",
       "</style>\n",
       "<table border=\"1\" class=\"dataframe\">\n",
       "  <thead>\n",
       "    <tr style=\"text-align: right;\">\n",
       "      <th></th>\n",
       "      <th>RecordID</th>\n",
       "      <th>Offense</th>\n",
       "      <th>IncidentID</th>\n",
       "      <th>BlockNumber</th>\n",
       "      <th>StreetName</th>\n",
       "      <th>Agency</th>\n",
       "      <th>HourReported</th>\n",
       "      <th>ReportingOfficer</th>\n",
       "      <th>Date</th>\n",
       "      <th>DateString</th>\n",
       "      <th>DayOfWeek</th>\n",
       "      <th>Weekend</th>\n",
       "      <th>Season</th>\n",
       "      <th>HourAMPM</th>\n",
       "      <th>TimeOfDay</th>\n",
       "      <th>FullStreet</th>\n",
       "      <th>lat</th>\n",
       "      <th>lon</th>\n",
       "      <th>neighborhood</th>\n",
       "      <th>zip</th>\n",
       "    </tr>\n",
       "  </thead>\n",
       "  <tbody>\n",
       "    <tr>\n",
       "      <th>0</th>\n",
       "      <td>1</td>\n",
       "      <td>Missing Person-adult</td>\n",
       "      <td>202500025969</td>\n",
       "      <td>600</td>\n",
       "      <td>E MARKET ST</td>\n",
       "      <td>CPD</td>\n",
       "      <td>2017</td>\n",
       "      <td>Bentz, Benjamin</td>\n",
       "      <td>2025-07-23 20:17:24</td>\n",
       "      <td>2025-07-23 08:17:24 PM</td>\n",
       "      <td>Wednesday</td>\n",
       "      <td>False</td>\n",
       "      <td>Summer</td>\n",
       "      <td>08:17 PM</td>\n",
       "      <td>Evening</td>\n",
       "      <td>600 E MARKET ST</td>\n",
       "      <td>38.030175</td>\n",
       "      <td>-78.477574</td>\n",
       "      <td>Downtown Mall</td>\n",
       "      <td>22902</td>\n",
       "    </tr>\n",
       "    <tr>\n",
       "      <th>1</th>\n",
       "      <td>2</td>\n",
       "      <td>Fraud-false pretense</td>\n",
       "      <td>202500025970</td>\n",
       "      <td>1600</td>\n",
       "      <td>ROSE HILL DR</td>\n",
       "      <td>CPD</td>\n",
       "      <td>2001</td>\n",
       "      <td>Reed, Danielle</td>\n",
       "      <td>2025-07-23 20:01:36</td>\n",
       "      <td>2025-07-23 08:01:36 PM</td>\n",
       "      <td>Wednesday</td>\n",
       "      <td>False</td>\n",
       "      <td>Summer</td>\n",
       "      <td>08:01 PM</td>\n",
       "      <td>Evening</td>\n",
       "      <td>1600 ROSE HILL DR</td>\n",
       "      <td>38.049559</td>\n",
       "      <td>-78.482692</td>\n",
       "      <td>Barracks Rugby</td>\n",
       "      <td>22903</td>\n",
       "    </tr>\n",
       "    <tr>\n",
       "      <th>2</th>\n",
       "      <td>3</td>\n",
       "      <td>Assault Simple</td>\n",
       "      <td>202500025965</td>\n",
       "      <td>1500</td>\n",
       "      <td>UNIVERSITY AVE</td>\n",
       "      <td>CPD</td>\n",
       "      <td>1951</td>\n",
       "      <td>Crowley, Raeann</td>\n",
       "      <td>2025-07-23 19:51:44</td>\n",
       "      <td>2025-07-23 07:51:44 PM</td>\n",
       "      <td>Wednesday</td>\n",
       "      <td>False</td>\n",
       "      <td>Summer</td>\n",
       "      <td>07:51 PM</td>\n",
       "      <td>Evening</td>\n",
       "      <td>1500 UNIVERSITY AVE</td>\n",
       "      <td>38.034578</td>\n",
       "      <td>-78.500340</td>\n",
       "      <td>Venable</td>\n",
       "      <td>22908</td>\n",
       "    </tr>\n",
       "    <tr>\n",
       "      <th>3</th>\n",
       "      <td>4</td>\n",
       "      <td>Larceny - Shoplifitng</td>\n",
       "      <td>202500025958</td>\n",
       "      <td>1800</td>\n",
       "      <td>MONTICELLO RD</td>\n",
       "      <td>CPD</td>\n",
       "      <td>1907</td>\n",
       "      <td>Lowry, Brent</td>\n",
       "      <td>2025-07-23 19:07:55</td>\n",
       "      <td>2025-07-23 07:07:55 PM</td>\n",
       "      <td>Wednesday</td>\n",
       "      <td>False</td>\n",
       "      <td>Summer</td>\n",
       "      <td>07:07 PM</td>\n",
       "      <td>Evening</td>\n",
       "      <td>1800 MONTICELLO RD</td>\n",
       "      <td>38.015464</td>\n",
       "      <td>-78.473032</td>\n",
       "      <td>Belmont</td>\n",
       "      <td>22902</td>\n",
       "    </tr>\n",
       "    <tr>\n",
       "      <th>4</th>\n",
       "      <td>5</td>\n",
       "      <td>Larceny - Shoplifitng</td>\n",
       "      <td>202500025955</td>\n",
       "      <td>200</td>\n",
       "      <td>E MAIN ST</td>\n",
       "      <td>CPD</td>\n",
       "      <td>1853</td>\n",
       "      <td>Vlasis, Christopher</td>\n",
       "      <td>2025-07-23 18:53:46</td>\n",
       "      <td>2025-07-23 06:53:46 PM</td>\n",
       "      <td>Wednesday</td>\n",
       "      <td>False</td>\n",
       "      <td>Summer</td>\n",
       "      <td>06:53 PM</td>\n",
       "      <td>Evening</td>\n",
       "      <td>200 E MAIN ST</td>\n",
       "      <td>38.030572</td>\n",
       "      <td>-78.480764</td>\n",
       "      <td>Downtown Mall</td>\n",
       "      <td>22902</td>\n",
       "    </tr>\n",
       "  </tbody>\n",
       "</table>\n",
       "</div>"
      ],
      "text/plain": [
       "   RecordID                Offense    IncidentID BlockNumber      StreetName  \\\n",
       "0         1   Missing Person-adult  202500025969         600     E MARKET ST   \n",
       "1         2   Fraud-false pretense  202500025970        1600    ROSE HILL DR   \n",
       "2         3         Assault Simple  202500025965        1500  UNIVERSITY AVE   \n",
       "3         4  Larceny - Shoplifitng  202500025958        1800   MONTICELLO RD   \n",
       "4         5  Larceny - Shoplifitng  202500025955         200       E MAIN ST   \n",
       "\n",
       "  Agency HourReported     ReportingOfficer                Date  \\\n",
       "0    CPD         2017     Bentz, Benjamin  2025-07-23 20:17:24   \n",
       "1    CPD         2001       Reed, Danielle 2025-07-23 20:01:36   \n",
       "2    CPD         1951      Crowley, Raeann 2025-07-23 19:51:44   \n",
       "3    CPD         1907         Lowry, Brent 2025-07-23 19:07:55   \n",
       "4    CPD         1853  Vlasis, Christopher 2025-07-23 18:53:46   \n",
       "\n",
       "               DateString  DayOfWeek  Weekend  Season  HourAMPM TimeOfDay  \\\n",
       "0  2025-07-23 08:17:24 PM  Wednesday    False  Summer  08:17 PM   Evening   \n",
       "1  2025-07-23 08:01:36 PM  Wednesday    False  Summer  08:01 PM   Evening   \n",
       "2  2025-07-23 07:51:44 PM  Wednesday    False  Summer  07:51 PM   Evening   \n",
       "3  2025-07-23 07:07:55 PM  Wednesday    False  Summer  07:07 PM   Evening   \n",
       "4  2025-07-23 06:53:46 PM  Wednesday    False  Summer  06:53 PM   Evening   \n",
       "\n",
       "            FullStreet        lat        lon    neighborhood    zip  \n",
       "0      600 E MARKET ST  38.030175 -78.477574   Downtown Mall  22902  \n",
       "1    1600 ROSE HILL DR  38.049559 -78.482692  Barracks Rugby  22903  \n",
       "2  1500 UNIVERSITY AVE  38.034578 -78.500340         Venable  22908  \n",
       "3   1800 MONTICELLO RD  38.015464 -78.473032         Belmont  22902  \n",
       "4        200 E MAIN ST  38.030572 -78.480764   Downtown Mall  22902  "
      ]
     },
     "execution_count": 11,
     "metadata": {},
     "output_type": "execute_result"
    }
   ],
   "source": [
    "# Initialize the geocoder.\n",
    "geolocator = Nominatim(user_agent=\"zip_lookup\")\n",
    "\n",
    "# Try to load a persistent ZIP cache if available.\n",
    "try:\n",
    "    with open(\"zip_cache.pkl\", \"rb\") as f:\n",
    "        zip_cache = pickle.load(f)\n",
    "    print(\"Loaded zip cache.\")\n",
    "except FileNotFoundError:\n",
    "    zip_cache = {}\n",
    "    print(\"No zip cache found; starting fresh.\")\n",
    "\n",
    "def get_zip(lat, lon):\n",
    "    \"\"\"\n",
    "    Reverse geocodes a latitude and longitude to retrieve the ZIP code.\n",
    "    Caches results to speed up subsequent lookups.\n",
    "    \"\"\"\n",
    "    key = (lat, lon)\n",
    "    if key in zip_cache:\n",
    "        return zip_cache[key]\n",
    "    \n",
    "    try:\n",
    "        location = geolocator.reverse((lat, lon), exactly_one=True, timeout=10)\n",
    "        address = location.raw.get('address', {})\n",
    "        postal_code = address.get('postcode', \"N/A\")\n",
    "    except Exception as e:\n",
    "        print(f\"Error getting ZIP for {lat}, {lon}: {e}\")\n",
    "        postal_code = \"N/A\"\n",
    "    \n",
    "    zip_cache[key] = postal_code\n",
    "    # Pause to respect the usage policy.\n",
    "    time.sleep(1)\n",
    "    return postal_code\n",
    "\n",
    "# Apply the function to each row in the DataFrame.\n",
    "df['zip'] = df.apply(lambda row: get_zip(row['lat'], row['lon']), axis=1)\n",
    "\n",
    "# Save the updated ZIP cache.\n",
    "with open(\"zip_cache.pkl\", \"wb\") as f:\n",
    "    pickle.dump(zip_cache, f)\n",
    "\n",
    "df.head()\n"
   ]
  },
  {
   "cell_type": "code",
   "execution_count": 12,
   "id": "5630ef57",
   "metadata": {
    "execution": {
     "iopub.execute_input": "2025-07-26T01:09:45.820517Z",
     "iopub.status.busy": "2025-07-26T01:09:45.820243Z",
     "iopub.status.idle": "2025-07-26T01:09:45.850962Z",
     "shell.execute_reply": "2025-07-26T01:09:45.850243Z"
    },
    "papermill": {
     "duration": 0.041269,
     "end_time": "2025-07-26T01:09:45.852006",
     "exception": false,
     "start_time": "2025-07-26T01:09:45.810737",
     "status": "completed"
    },
    "tags": []
   },
   "outputs": [
    {
     "name": "stdout",
     "output_type": "stream",
     "text": [
      "                  MissingCount  MissingPercentage\n",
      "RecordID                     0               0.00\n",
      "Offense                      0               0.00\n",
      "IncidentID                   0               0.00\n",
      "BlockNumber                  0               0.00\n",
      "StreetName                   0               0.00\n",
      "Agency                       0               0.00\n",
      "HourReported                 0               0.00\n",
      "ReportingOfficer            17               0.07\n",
      "Date                         0               0.00\n",
      "DateString                   0               0.00\n",
      "DayOfWeek                    0               0.00\n",
      "Weekend                      0               0.00\n",
      "Season                       0               0.00\n",
      "HourAMPM                     0               0.00\n",
      "TimeOfDay                    0               0.00\n",
      "FullStreet                   0               0.00\n",
      "lat                         71               0.28\n",
      "lon                         71               0.28\n",
      "neighborhood                 0               0.00\n",
      "zip                          0               0.00\n"
     ]
    }
   ],
   "source": [
    "missing_info = missing_percentage(df)\n",
    "print(missing_info)\n"
   ]
  },
  {
   "cell_type": "code",
   "execution_count": 13,
   "id": "11805437",
   "metadata": {
    "execution": {
     "iopub.execute_input": "2025-07-26T01:09:45.870962Z",
     "iopub.status.busy": "2025-07-26T01:09:45.870696Z",
     "iopub.status.idle": "2025-07-26T01:09:45.902024Z",
     "shell.execute_reply": "2025-07-26T01:09:45.901308Z"
    },
    "papermill": {
     "duration": 0.041984,
     "end_time": "2025-07-26T01:09:45.903112",
     "exception": false,
     "start_time": "2025-07-26T01:09:45.861128",
     "status": "completed"
    },
    "tags": []
   },
   "outputs": [
    {
     "name": "stdout",
     "output_type": "stream",
     "text": [
      "<class 'pandas.core.frame.DataFrame'>\n",
      "RangeIndex: 25580 entries, 0 to 25579\n",
      "Data columns (total 20 columns):\n",
      " #   Column            Non-Null Count  Dtype         \n",
      "---  ------            --------------  -----         \n",
      " 0   RecordID          25580 non-null  int64         \n",
      " 1   Offense           25580 non-null  object        \n",
      " 2   IncidentID        25580 non-null  object        \n",
      " 3   BlockNumber       25580 non-null  object        \n",
      " 4   StreetName        25580 non-null  object        \n",
      " 5   Agency            25580 non-null  object        \n",
      " 6   HourReported      25580 non-null  object        \n",
      " 7   ReportingOfficer  25563 non-null  object        \n",
      " 8   Date              25580 non-null  datetime64[ns]\n",
      " 9   DateString        25580 non-null  object        \n",
      " 10  DayOfWeek         25580 non-null  object        \n",
      " 11  Weekend           25580 non-null  bool          \n",
      " 12  Season            25580 non-null  object        \n",
      " 13  HourAMPM          25580 non-null  object        \n",
      " 14  TimeOfDay         25580 non-null  object        \n",
      " 15  FullStreet        25580 non-null  object        \n",
      " 16  lat               25509 non-null  float64       \n",
      " 17  lon               25509 non-null  float64       \n",
      " 18  neighborhood      25580 non-null  object        \n",
      " 19  zip               25580 non-null  object        \n",
      "dtypes: bool(1), datetime64[ns](1), float64(2), int64(1), object(15)\n",
      "memory usage: 3.7+ MB\n"
     ]
    }
   ],
   "source": [
    "df.info()"
   ]
  },
  {
   "cell_type": "code",
   "execution_count": 14,
   "id": "e5a58f12",
   "metadata": {
    "execution": {
     "iopub.execute_input": "2025-07-26T01:09:45.922423Z",
     "iopub.status.busy": "2025-07-26T01:09:45.922183Z",
     "iopub.status.idle": "2025-07-26T01:09:45.970237Z",
     "shell.execute_reply": "2025-07-26T01:09:45.969620Z"
    },
    "papermill": {
     "duration": 0.058817,
     "end_time": "2025-07-26T01:09:45.971323",
     "exception": false,
     "start_time": "2025-07-26T01:09:45.912506",
     "status": "completed"
    },
    "tags": []
   },
   "outputs": [
    {
     "data": {
      "text/html": [
       "<div>\n",
       "<style scoped>\n",
       "    .dataframe tbody tr th:only-of-type {\n",
       "        vertical-align: middle;\n",
       "    }\n",
       "\n",
       "    .dataframe tbody tr th {\n",
       "        vertical-align: top;\n",
       "    }\n",
       "\n",
       "    .dataframe thead th {\n",
       "        text-align: right;\n",
       "    }\n",
       "</style>\n",
       "<table border=\"1\" class=\"dataframe\">\n",
       "  <thead>\n",
       "    <tr style=\"text-align: right;\">\n",
       "      <th></th>\n",
       "      <th>RecordID</th>\n",
       "      <th>Offense</th>\n",
       "      <th>IncidentID</th>\n",
       "      <th>Agency</th>\n",
       "      <th>ReportingOfficer</th>\n",
       "      <th>Date</th>\n",
       "      <th>DayOfWeek</th>\n",
       "      <th>Weekend</th>\n",
       "      <th>Season</th>\n",
       "      <th>TimeOfDay</th>\n",
       "      <th>FullStreet</th>\n",
       "      <th>lat</th>\n",
       "      <th>lon</th>\n",
       "      <th>neighborhood</th>\n",
       "      <th>zip</th>\n",
       "    </tr>\n",
       "  </thead>\n",
       "  <tbody>\n",
       "    <tr>\n",
       "      <th>0</th>\n",
       "      <td>1</td>\n",
       "      <td>Missing Person-adult</td>\n",
       "      <td>202500025969</td>\n",
       "      <td>CPD</td>\n",
       "      <td>Bentz, Benjamin</td>\n",
       "      <td>2025-07-23 20:17:24</td>\n",
       "      <td>Wednesday</td>\n",
       "      <td>False</td>\n",
       "      <td>Summer</td>\n",
       "      <td>Evening</td>\n",
       "      <td>600 E MARKET ST</td>\n",
       "      <td>38.030175</td>\n",
       "      <td>-78.477574</td>\n",
       "      <td>Downtown Mall</td>\n",
       "      <td>22902</td>\n",
       "    </tr>\n",
       "    <tr>\n",
       "      <th>1</th>\n",
       "      <td>2</td>\n",
       "      <td>Fraud-false pretense</td>\n",
       "      <td>202500025970</td>\n",
       "      <td>CPD</td>\n",
       "      <td>Reed, Danielle</td>\n",
       "      <td>2025-07-23 20:01:36</td>\n",
       "      <td>Wednesday</td>\n",
       "      <td>False</td>\n",
       "      <td>Summer</td>\n",
       "      <td>Evening</td>\n",
       "      <td>1600 ROSE HILL DR</td>\n",
       "      <td>38.049559</td>\n",
       "      <td>-78.482692</td>\n",
       "      <td>Barracks Rugby</td>\n",
       "      <td>22903</td>\n",
       "    </tr>\n",
       "    <tr>\n",
       "      <th>2</th>\n",
       "      <td>3</td>\n",
       "      <td>Assault Simple</td>\n",
       "      <td>202500025965</td>\n",
       "      <td>CPD</td>\n",
       "      <td>Crowley, Raeann</td>\n",
       "      <td>2025-07-23 19:51:44</td>\n",
       "      <td>Wednesday</td>\n",
       "      <td>False</td>\n",
       "      <td>Summer</td>\n",
       "      <td>Evening</td>\n",
       "      <td>1500 UNIVERSITY AVE</td>\n",
       "      <td>38.034578</td>\n",
       "      <td>-78.50034</td>\n",
       "      <td>Venable</td>\n",
       "      <td>22908</td>\n",
       "    </tr>\n",
       "    <tr>\n",
       "      <th>3</th>\n",
       "      <td>4</td>\n",
       "      <td>Larceny - Shoplifitng</td>\n",
       "      <td>202500025958</td>\n",
       "      <td>CPD</td>\n",
       "      <td>Lowry, Brent</td>\n",
       "      <td>2025-07-23 19:07:55</td>\n",
       "      <td>Wednesday</td>\n",
       "      <td>False</td>\n",
       "      <td>Summer</td>\n",
       "      <td>Evening</td>\n",
       "      <td>1800 MONTICELLO RD</td>\n",
       "      <td>38.015464</td>\n",
       "      <td>-78.473032</td>\n",
       "      <td>Belmont</td>\n",
       "      <td>22902</td>\n",
       "    </tr>\n",
       "    <tr>\n",
       "      <th>4</th>\n",
       "      <td>5</td>\n",
       "      <td>Larceny - Shoplifitng</td>\n",
       "      <td>202500025955</td>\n",
       "      <td>CPD</td>\n",
       "      <td>Vlasis, Christopher</td>\n",
       "      <td>2025-07-23 18:53:46</td>\n",
       "      <td>Wednesday</td>\n",
       "      <td>False</td>\n",
       "      <td>Summer</td>\n",
       "      <td>Evening</td>\n",
       "      <td>200 E MAIN ST</td>\n",
       "      <td>38.030572</td>\n",
       "      <td>-78.480764</td>\n",
       "      <td>Downtown Mall</td>\n",
       "      <td>22902</td>\n",
       "    </tr>\n",
       "  </tbody>\n",
       "</table>\n",
       "</div>"
      ],
      "text/plain": [
       "   RecordID                Offense    IncidentID Agency     ReportingOfficer  \\\n",
       "0         1   Missing Person-adult  202500025969    CPD     Bentz, Benjamin    \n",
       "1         2   Fraud-false pretense  202500025970    CPD       Reed, Danielle   \n",
       "2         3         Assault Simple  202500025965    CPD      Crowley, Raeann   \n",
       "3         4  Larceny - Shoplifitng  202500025958    CPD         Lowry, Brent   \n",
       "4         5  Larceny - Shoplifitng  202500025955    CPD  Vlasis, Christopher   \n",
       "\n",
       "                 Date  DayOfWeek  Weekend  Season TimeOfDay  \\\n",
       "0 2025-07-23 20:17:24  Wednesday    False  Summer   Evening   \n",
       "1 2025-07-23 20:01:36  Wednesday    False  Summer   Evening   \n",
       "2 2025-07-23 19:51:44  Wednesday    False  Summer   Evening   \n",
       "3 2025-07-23 19:07:55  Wednesday    False  Summer   Evening   \n",
       "4 2025-07-23 18:53:46  Wednesday    False  Summer   Evening   \n",
       "\n",
       "            FullStreet        lat        lon    neighborhood    zip  \n",
       "0      600 E MARKET ST  38.030175 -78.477574   Downtown Mall  22902  \n",
       "1    1600 ROSE HILL DR  38.049559 -78.482692  Barracks Rugby  22903  \n",
       "2  1500 UNIVERSITY AVE  38.034578  -78.50034         Venable  22908  \n",
       "3   1800 MONTICELLO RD  38.015464 -78.473032         Belmont  22902  \n",
       "4        200 E MAIN ST  38.030572 -78.480764   Downtown Mall  22902  "
      ]
     },
     "execution_count": 14,
     "metadata": {},
     "output_type": "execute_result"
    }
   ],
   "source": [
    "# Now drop the original BlockNumber and StreetName columns\n",
    "df.drop(columns=['BlockNumber', 'StreetName','HourAMPM','HourReported','DateString'], inplace=True)\n",
    "df[\"zip\"] = df[\"zip\"].astype(str)\n",
    "\n",
    "# Fill all missing values in the DataFrame with \"N/A\"\n",
    "df.replace({None: \"N/A\", np.nan: \"N/A\", \"\": \"N/A\"}, inplace=True)\n",
    "df.head()"
   ]
  },
  {
   "cell_type": "code",
   "execution_count": 15,
   "id": "5ddcde41",
   "metadata": {
    "execution": {
     "iopub.execute_input": "2025-07-26T01:09:45.990302Z",
     "iopub.status.busy": "2025-07-26T01:09:45.990067Z",
     "iopub.status.idle": "2025-07-26T01:09:46.012026Z",
     "shell.execute_reply": "2025-07-26T01:09:46.011424Z"
    },
    "papermill": {
     "duration": 0.032517,
     "end_time": "2025-07-26T01:09:46.013135",
     "exception": false,
     "start_time": "2025-07-26T01:09:45.980618",
     "status": "completed"
    },
    "tags": []
   },
   "outputs": [
    {
     "name": "stdout",
     "output_type": "stream",
     "text": [
      "                  MissingCount  MissingPercentage\n",
      "RecordID                     0                0.0\n",
      "Offense                      0                0.0\n",
      "IncidentID                   0                0.0\n",
      "Agency                       0                0.0\n",
      "ReportingOfficer             0                0.0\n",
      "Date                         0                0.0\n",
      "DayOfWeek                    0                0.0\n",
      "Weekend                      0                0.0\n",
      "Season                       0                0.0\n",
      "TimeOfDay                    0                0.0\n",
      "FullStreet                   0                0.0\n",
      "lat                          0                0.0\n",
      "lon                          0                0.0\n",
      "neighborhood                 0                0.0\n",
      "zip                          0                0.0\n"
     ]
    }
   ],
   "source": [
    "missing_info = missing_percentage(df)\n",
    "print(missing_info)"
   ]
  },
  {
   "cell_type": "code",
   "execution_count": 16,
   "id": "819d5dc0",
   "metadata": {
    "execution": {
     "iopub.execute_input": "2025-07-26T01:09:46.032834Z",
     "iopub.status.busy": "2025-07-26T01:09:46.032593Z",
     "iopub.status.idle": "2025-07-26T01:09:46.037079Z",
     "shell.execute_reply": "2025-07-26T01:09:46.036416Z"
    },
    "papermill": {
     "duration": 0.015315,
     "end_time": "2025-07-26T01:09:46.038055",
     "exception": false,
     "start_time": "2025-07-26T01:09:46.022740",
     "status": "completed"
    },
    "tags": []
   },
   "outputs": [
    {
     "data": {
      "text/plain": [
       "Index(['RecordID', 'Offense', 'IncidentID', 'Agency', 'ReportingOfficer',\n",
       "       'Date', 'DayOfWeek', 'Weekend', 'Season', 'TimeOfDay', 'FullStreet',\n",
       "       'lat', 'lon', 'neighborhood', 'zip'],\n",
       "      dtype='object')"
      ]
     },
     "execution_count": 16,
     "metadata": {},
     "output_type": "execute_result"
    }
   ],
   "source": [
    "df.columns"
   ]
  },
  {
   "cell_type": "code",
   "execution_count": 17,
   "id": "0dccc39f",
   "metadata": {
    "execution": {
     "iopub.execute_input": "2025-07-26T01:09:46.057054Z",
     "iopub.status.busy": "2025-07-26T01:09:46.056837Z",
     "iopub.status.idle": "2025-07-26T01:09:46.079740Z",
     "shell.execute_reply": "2025-07-26T01:09:46.079179Z"
    },
    "papermill": {
     "duration": 0.033565,
     "end_time": "2025-07-26T01:09:46.080795",
     "exception": false,
     "start_time": "2025-07-26T01:09:46.047230",
     "status": "completed"
    },
    "tags": []
   },
   "outputs": [
    {
     "name": "stdout",
     "output_type": "stream",
     "text": [
      "<class 'pandas.core.frame.DataFrame'>\n",
      "RangeIndex: 25580 entries, 0 to 25579\n",
      "Data columns (total 15 columns):\n",
      " #   Column            Non-Null Count  Dtype         \n",
      "---  ------            --------------  -----         \n",
      " 0   RecordID          25580 non-null  int64         \n",
      " 1   Offense           25580 non-null  object        \n",
      " 2   IncidentID        25580 non-null  object        \n",
      " 3   Agency            25580 non-null  object        \n",
      " 4   ReportingOfficer  25580 non-null  object        \n",
      " 5   Date              25580 non-null  datetime64[ns]\n",
      " 6   DayOfWeek         25580 non-null  object        \n",
      " 7   Weekend           25580 non-null  bool          \n",
      " 8   Season            25580 non-null  object        \n",
      " 9   TimeOfDay         25580 non-null  object        \n",
      " 10  FullStreet        25580 non-null  object        \n",
      " 11  lat               25580 non-null  object        \n",
      " 12  lon               25580 non-null  object        \n",
      " 13  neighborhood      25580 non-null  object        \n",
      " 14  zip               25580 non-null  object        \n",
      "dtypes: bool(1), datetime64[ns](1), int64(1), object(12)\n",
      "memory usage: 2.8+ MB\n"
     ]
    }
   ],
   "source": [
    "df.info()"
   ]
  },
  {
   "cell_type": "markdown",
   "id": "71776f91",
   "metadata": {
    "papermill": {
     "duration": 0.00914,
     "end_time": "2025-07-26T01:09:46.099425",
     "exception": false,
     "start_time": "2025-07-26T01:09:46.090285",
     "status": "completed"
    },
    "tags": []
   },
   "source": [
    "### Export Clean Data"
   ]
  },
  {
   "cell_type": "code",
   "execution_count": 18,
   "id": "50aed652",
   "metadata": {
    "execution": {
     "iopub.execute_input": "2025-07-26T01:09:46.118787Z",
     "iopub.status.busy": "2025-07-26T01:09:46.118520Z",
     "iopub.status.idle": "2025-07-26T01:09:55.322117Z",
     "shell.execute_reply": "2025-07-26T01:09:55.321475Z"
    },
    "papermill": {
     "duration": 9.214693,
     "end_time": "2025-07-26T01:09:55.323215",
     "exception": false,
     "start_time": "2025-07-26T01:09:46.108522",
     "status": "completed"
    },
    "tags": []
   },
   "outputs": [
    {
     "name": "stdout",
     "output_type": "stream",
     "text": [
      "Project Root: /home/runner/work/crime-data/crime-data\n"
     ]
    },
    {
     "name": "stdout",
     "output_type": "stream",
     "text": [
      "Data saved to: /home/runner/work/crime-data/crime-data/data/charlottesville_crime_incidents.csv\n"
     ]
    },
    {
     "name": "stdout",
     "output_type": "stream",
     "text": [
      "Excel saved to: /home/runner/work/crime-data/crime-data/data/charlottesville_crime_incidents.xlsx\n"
     ]
    }
   ],
   "source": [
    "# Determine the project root (assuming papermill is run from the repository root)\n",
    "project_root = os.getcwd()\n",
    "print(\"Project Root:\", project_root)\n",
    "\n",
    "# Set the data directory within the project root\n",
    "data_dir = os.path.join(project_root, \"data\")\n",
    "\n",
    "# Ensure the \"data\" directory exists (create it if it doesn't)\n",
    "if not os.path.exists(data_dir):\n",
    "    os.makedirs(data_dir)\n",
    "\n",
    "# Export the DataFrame to CSV in the \"data\" folder located in the project root\n",
    "csv_path = os.path.join(data_dir, \"charlottesville_crime_incidents.csv\")\n",
    "df.to_csv(csv_path, index=False)\n",
    "print(\"Data saved to:\", csv_path)\n",
    "\n",
    "# Construct the path to your Excel file\n",
    "excel_path = os.path.join(data_dir, \"charlottesville_crime_incidents.xlsx\")\n",
    "\n",
    "# Export the DataFrame to Excel\n",
    "df.to_excel(excel_path, index=False)\n",
    "print(\"Excel saved to:\", excel_path)\n"
   ]
  }
 ],
 "metadata": {
  "kernelspec": {
   "display_name": "Python 3",
   "language": "python",
   "name": "python3"
  },
  "language_info": {
   "codemirror_mode": {
    "name": "ipython",
    "version": 3
   },
   "file_extension": ".py",
   "mimetype": "text/x-python",
   "name": "python",
   "nbconvert_exporter": "python",
   "pygments_lexer": "ipython3",
   "version": "3.9.23"
  },
  "papermill": {
   "default_parameters": {},
   "duration": 157.01475,
   "end_time": "2025-07-26T01:09:55.749240",
   "environment_variables": {},
   "exception": null,
   "input_path": "notebook/Crime Data.ipynb",
   "output_path": "notebook/Crime Data_output.ipynb",
   "parameters": {},
   "start_time": "2025-07-26T01:07:18.734490",
   "version": "2.6.0"
  }
 },
 "nbformat": 4,
 "nbformat_minor": 5
}