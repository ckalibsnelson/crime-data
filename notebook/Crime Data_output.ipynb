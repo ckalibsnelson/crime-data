{
 "cells": [
  {
   "cell_type": "markdown",
   "id": "a3aaf29a",
   "metadata": {
    "papermill": {
     "duration": 0.004269,
     "end_time": "2025-07-16T01:08:15.397333",
     "exception": false,
     "start_time": "2025-07-16T01:08:15.393064",
     "status": "completed"
    },
    "tags": []
   },
   "source": [
    "# Charlottesville Open Data Porttal: Crime Data"
   ]
  },
  {
   "cell_type": "markdown",
   "id": "1ea9c36a",
   "metadata": {
    "papermill": {
     "duration": 0.003234,
     "end_time": "2025-07-16T01:08:15.404217",
     "exception": false,
     "start_time": "2025-07-16T01:08:15.400983",
     "status": "completed"
    },
    "tags": []
   },
   "source": [
    "## Import Relevant Librarires & Set WD"
   ]
  },
  {
   "cell_type": "code",
   "execution_count": 1,
   "id": "c2236781",
   "metadata": {
    "execution": {
     "iopub.execute_input": "2025-07-16T01:08:15.412351Z",
     "iopub.status.busy": "2025-07-16T01:08:15.411871Z",
     "iopub.status.idle": "2025-07-16T01:08:16.041351Z",
     "shell.execute_reply": "2025-07-16T01:08:16.040695Z"
    },
    "papermill": {
     "duration": 0.635193,
     "end_time": "2025-07-16T01:08:16.042707",
     "exception": false,
     "start_time": "2025-07-16T01:08:15.407514",
     "status": "completed"
    },
    "tags": []
   },
   "outputs": [],
   "source": [
    "import requests\n",
    "import pandas as pd\n",
    "import numpy as np\n",
    "import pickle\n",
    "import googlemaps\n",
    "import plotly.express as px\n",
    "from geopy.geocoders import Nominatim\n",
    "import time\n",
    "from dotenv import load_dotenv\n",
    "import os\n",
    "\n",
    "env_path = os.path.join(\"..\", \".env\")\n",
    "#print(\"Looking for .env file at:\", os.path.abspath(env_path))\n",
    "load_dotenv(dotenv_path=env_path)\n",
    "\n",
    "# Retrieve the variables\n",
    "GOOGLE_API_KEY = os.getenv(\"GOOGLE_API_KEY\")\n",
    "WORKING_DIR = os.getenv(\"WORKING_DIR\")\n",
    "\n",
    "if GOOGLE_API_KEY is None or WORKING_DIR is None:\n",
    "    raise RuntimeError(\"No configuration found. Please ensure that your .env file exists with the required variables, or create a local config.py file.\")\n",
    "\n",
    "#print(\"Google API Key:\", GOOGLE_API_KEY)\n",
    "#print(\"Working Directory:\", WORKING_DIR)"
   ]
  },
  {
   "cell_type": "markdown",
   "id": "1666f784",
   "metadata": {
    "papermill": {
     "duration": 0.003477,
     "end_time": "2025-07-16T01:08:16.049997",
     "exception": false,
     "start_time": "2025-07-16T01:08:16.046520",
     "status": "completed"
    },
    "tags": []
   },
   "source": [
    "## Import Data\n",
    "\n",
    "URL: https://opendata.charlottesville.org/datasets/charlottesville::crime-data/about"
   ]
  },
  {
   "cell_type": "code",
   "execution_count": 2,
   "id": "f372266d",
   "metadata": {
    "execution": {
     "iopub.execute_input": "2025-07-16T01:08:16.058111Z",
     "iopub.status.busy": "2025-07-16T01:08:16.057519Z",
     "iopub.status.idle": "2025-07-16T01:09:25.492388Z",
     "shell.execute_reply": "2025-07-16T01:09:25.491606Z"
    },
    "papermill": {
     "duration": 69.443261,
     "end_time": "2025-07-16T01:09:25.496633",
     "exception": false,
     "start_time": "2025-07-16T01:08:16.053372",
     "status": "completed"
    },
    "tags": []
   },
   "outputs": [
    {
     "name": "stdout",
     "output_type": "stream",
     "text": [
      "Total records imported: 25525\n"
     ]
    }
   ],
   "source": [
    "# Define the endpoint and initial parameters.\n",
    "url = \"https://gisweb.charlottesville.org/arcgis/rest/services/OpenData_2/MapServer/6/query\"\n",
    "params = {\n",
    "    \"where\": \"1=1\",\n",
    "    \"outFields\": \"*\",\n",
    "    \"outSR\": 4326,\n",
    "    \"f\": \"json\",\n",
    "    \"resultOffset\": 0,       # Starting index for results\n",
    "    \"resultRecordCount\": 10000  # Maximum records per batch (if allowed by the API)\n",
    "}\n",
    "\n",
    "records = []\n",
    "\n",
    "while True:\n",
    "    response = requests.get(url, params=params)\n",
    "    response.raise_for_status()\n",
    "    data = response.json()\n",
    "    \n",
    "    # Get the current batch of features.\n",
    "    features = data.get(\"features\", [])\n",
    "    if not features:\n",
    "        break\n",
    "\n",
    "    # Extract the attributes from the features.\n",
    "    batch_records = [feature.get(\"attributes\", {}) for feature in features]\n",
    "    records.extend(batch_records)\n",
    "    \n",
    "    # If the batch size is less than the requested count, we reached the end.\n",
    "    if len(features) < params[\"resultRecordCount\"]:\n",
    "        break\n",
    "\n",
    "    # Update the resultOffset for the next batch.\n",
    "    params[\"resultOffset\"] += params[\"resultRecordCount\"]\n",
    "\n",
    "# Create a DataFrame from the combined records.\n",
    "df = pd.DataFrame(records)\n",
    "print(\"Total records imported:\", len(df))\n"
   ]
  },
  {
   "cell_type": "code",
   "execution_count": 3,
   "id": "647b7e42",
   "metadata": {
    "execution": {
     "iopub.execute_input": "2025-07-16T01:09:25.504622Z",
     "iopub.status.busy": "2025-07-16T01:09:25.504189Z",
     "iopub.status.idle": "2025-07-16T01:09:25.516448Z",
     "shell.execute_reply": "2025-07-16T01:09:25.515902Z"
    },
    "papermill": {
     "duration": 0.017261,
     "end_time": "2025-07-16T01:09:25.517406",
     "exception": false,
     "start_time": "2025-07-16T01:09:25.500145",
     "status": "completed"
    },
    "tags": []
   },
   "outputs": [
    {
     "data": {
      "text/html": [
       "<div>\n",
       "<style scoped>\n",
       "    .dataframe tbody tr th:only-of-type {\n",
       "        vertical-align: middle;\n",
       "    }\n",
       "\n",
       "    .dataframe tbody tr th {\n",
       "        vertical-align: top;\n",
       "    }\n",
       "\n",
       "    .dataframe thead th {\n",
       "        text-align: right;\n",
       "    }\n",
       "</style>\n",
       "<table border=\"1\" class=\"dataframe\">\n",
       "  <thead>\n",
       "    <tr style=\"text-align: right;\">\n",
       "      <th></th>\n",
       "      <th>RecordID</th>\n",
       "      <th>Offense</th>\n",
       "      <th>IncidentID</th>\n",
       "      <th>BlockNumber</th>\n",
       "      <th>StreetName</th>\n",
       "      <th>Agency</th>\n",
       "      <th>DateReported</th>\n",
       "      <th>HourReported</th>\n",
       "      <th>ReportingOfficer</th>\n",
       "    </tr>\n",
       "  </thead>\n",
       "  <tbody>\n",
       "    <tr>\n",
       "      <th>0</th>\n",
       "      <td>1</td>\n",
       "      <td>Vandalism</td>\n",
       "      <td>202500024563</td>\n",
       "      <td>1100</td>\n",
       "      <td>PRESTON AVE</td>\n",
       "      <td>CPD</td>\n",
       "      <td>1752437552000</td>\n",
       "      <td>1612</td>\n",
       "      <td>Brannon, Devin</td>\n",
       "    </tr>\n",
       "    <tr>\n",
       "      <th>1</th>\n",
       "      <td>2</td>\n",
       "      <td>Lost/FoundProperty</td>\n",
       "      <td>202500024564</td>\n",
       "      <td>1800</td>\n",
       "      <td>JEFFERSON PARK AVE, 19</td>\n",
       "      <td>CPD</td>\n",
       "      <td>1752437519000</td>\n",
       "      <td>1611</td>\n",
       "      <td>Lowry, Ryan</td>\n",
       "    </tr>\n",
       "    <tr>\n",
       "      <th>2</th>\n",
       "      <td>3</td>\n",
       "      <td>Assault Simple</td>\n",
       "      <td>202500024547</td>\n",
       "      <td>700</td>\n",
       "      <td>MADISON AVE, A</td>\n",
       "      <td>CPD</td>\n",
       "      <td>1752427449000</td>\n",
       "      <td>1324</td>\n",
       "      <td>Kirby, Tyree</td>\n",
       "    </tr>\n",
       "    <tr>\n",
       "      <th>3</th>\n",
       "      <td>4</td>\n",
       "      <td>Hit and Run</td>\n",
       "      <td>202500024545</td>\n",
       "      <td>900</td>\n",
       "      <td>EMMET ST N</td>\n",
       "      <td>CPD</td>\n",
       "      <td>1752426526000</td>\n",
       "      <td>1308</td>\n",
       "      <td>Brannon, Devin</td>\n",
       "    </tr>\n",
       "    <tr>\n",
       "      <th>4</th>\n",
       "      <td>5</td>\n",
       "      <td>Larceny - Shoplifitng</td>\n",
       "      <td>202500024537</td>\n",
       "      <td>1100</td>\n",
       "      <td>5TH ST SW</td>\n",
       "      <td>CPD</td>\n",
       "      <td>1752422363000</td>\n",
       "      <td>1159</td>\n",
       "      <td>Lowry, Ryan</td>\n",
       "    </tr>\n",
       "  </tbody>\n",
       "</table>\n",
       "</div>"
      ],
      "text/plain": [
       "   RecordID                Offense    IncidentID BlockNumber  \\\n",
       "0         1              Vandalism  202500024563        1100   \n",
       "1         2     Lost/FoundProperty  202500024564        1800   \n",
       "2         3         Assault Simple  202500024547         700   \n",
       "3         4            Hit and Run  202500024545         900   \n",
       "4         5  Larceny - Shoplifitng  202500024537        1100   \n",
       "\n",
       "               StreetName Agency   DateReported HourReported ReportingOfficer  \n",
       "0             PRESTON AVE    CPD  1752437552000         1612   Brannon, Devin  \n",
       "1  JEFFERSON PARK AVE, 19    CPD  1752437519000         1611      Lowry, Ryan  \n",
       "2          MADISON AVE, A    CPD  1752427449000         1324     Kirby, Tyree  \n",
       "3              EMMET ST N    CPD  1752426526000         1308   Brannon, Devin  \n",
       "4               5TH ST SW    CPD  1752422363000         1159      Lowry, Ryan  "
      ]
     },
     "execution_count": 3,
     "metadata": {},
     "output_type": "execute_result"
    }
   ],
   "source": [
    "df.head()"
   ]
  },
  {
   "cell_type": "code",
   "execution_count": 4,
   "id": "c2644f1d",
   "metadata": {
    "execution": {
     "iopub.execute_input": "2025-07-16T01:09:25.525495Z",
     "iopub.status.busy": "2025-07-16T01:09:25.525069Z",
     "iopub.status.idle": "2025-07-16T01:09:25.529464Z",
     "shell.execute_reply": "2025-07-16T01:09:25.528920Z"
    },
    "papermill": {
     "duration": 0.009453,
     "end_time": "2025-07-16T01:09:25.530472",
     "exception": false,
     "start_time": "2025-07-16T01:09:25.521019",
     "status": "completed"
    },
    "tags": []
   },
   "outputs": [
    {
     "data": {
      "text/plain": [
       "Index(['RecordID', 'Offense', 'IncidentID', 'BlockNumber', 'StreetName',\n",
       "       'Agency', 'DateReported', 'HourReported', 'ReportingOfficer'],\n",
       "      dtype='object')"
      ]
     },
     "execution_count": 4,
     "metadata": {},
     "output_type": "execute_result"
    }
   ],
   "source": [
    "df.columns"
   ]
  },
  {
   "cell_type": "code",
   "execution_count": 5,
   "id": "7285a689",
   "metadata": {
    "execution": {
     "iopub.execute_input": "2025-07-16T01:09:25.539295Z",
     "iopub.status.busy": "2025-07-16T01:09:25.538868Z",
     "iopub.status.idle": "2025-07-16T01:09:25.560222Z",
     "shell.execute_reply": "2025-07-16T01:09:25.559677Z"
    },
    "papermill": {
     "duration": 0.027074,
     "end_time": "2025-07-16T01:09:25.561221",
     "exception": false,
     "start_time": "2025-07-16T01:09:25.534147",
     "status": "completed"
    },
    "tags": []
   },
   "outputs": [
    {
     "name": "stdout",
     "output_type": "stream",
     "text": [
      "<class 'pandas.core.frame.DataFrame'>\n",
      "RangeIndex: 25525 entries, 0 to 25524\n",
      "Data columns (total 9 columns):\n",
      " #   Column            Non-Null Count  Dtype \n",
      "---  ------            --------------  ----- \n",
      " 0   RecordID          25525 non-null  int64 \n",
      " 1   Offense           25525 non-null  object\n",
      " 2   IncidentID        25525 non-null  object\n",
      " 3   BlockNumber       25525 non-null  object\n",
      " 4   StreetName        25525 non-null  object\n",
      " 5   Agency            25525 non-null  object\n",
      " 6   DateReported      25525 non-null  int64 \n",
      " 7   HourReported      25525 non-null  object\n",
      " 8   ReportingOfficer  25508 non-null  object\n",
      "dtypes: int64(2), object(7)\n",
      "memory usage: 1.8+ MB\n"
     ]
    }
   ],
   "source": [
    "df.info()"
   ]
  },
  {
   "cell_type": "markdown",
   "id": "b817dc46",
   "metadata": {
    "papermill": {
     "duration": 0.003627,
     "end_time": "2025-07-16T01:09:25.568648",
     "exception": false,
     "start_time": "2025-07-16T01:09:25.565021",
     "status": "completed"
    },
    "tags": []
   },
   "source": [
    "### Missing Values"
   ]
  },
  {
   "cell_type": "code",
   "execution_count": 6,
   "id": "f486b89e",
   "metadata": {
    "execution": {
     "iopub.execute_input": "2025-07-16T01:09:25.599416Z",
     "iopub.status.busy": "2025-07-16T01:09:25.598916Z",
     "iopub.status.idle": "2025-07-16T01:09:25.624782Z",
     "shell.execute_reply": "2025-07-16T01:09:25.624230Z"
    },
    "papermill": {
     "duration": 0.03159,
     "end_time": "2025-07-16T01:09:25.625862",
     "exception": false,
     "start_time": "2025-07-16T01:09:25.594272",
     "status": "completed"
    },
    "tags": []
   },
   "outputs": [
    {
     "name": "stdout",
     "output_type": "stream",
     "text": [
      "                  MissingCount  MissingPercentage\n",
      "RecordID                     0               0.00\n",
      "Offense                      0               0.00\n",
      "IncidentID                   0               0.00\n",
      "BlockNumber                  0               0.00\n",
      "StreetName                   0               0.00\n",
      "Agency                       0               0.00\n",
      "DateReported                 0               0.00\n",
      "HourReported                 0               0.00\n",
      "ReportingOfficer            17               0.07\n"
     ]
    }
   ],
   "source": [
    "def missing_percentage(df):\n",
    "    \"\"\"\n",
    "    Returns a DataFrame with the count and percentage of missing values for each column.\n",
    "    \n",
    "    Parameters:\n",
    "        df (pd.DataFrame): The input DataFrame.\n",
    "    \n",
    "    Returns:\n",
    "        pd.DataFrame: A DataFrame with columns 'MissingCount' and 'MissingPercentage'.\n",
    "    \"\"\"\n",
    "    total_rows = len(df)\n",
    "    missing_count = df.isnull().sum()\n",
    "    missing_percent = (missing_count / total_rows) * 100\n",
    "    \n",
    "    result = pd.DataFrame({\n",
    "        'MissingCount': missing_count,\n",
    "        'MissingPercentage': missing_percent.round(2)\n",
    "    })\n",
    "    \n",
    "    return result\n",
    "\n",
    "# Example usage:\n",
    "missing_info = missing_percentage(df)\n",
    "print(missing_info)\n"
   ]
  },
  {
   "cell_type": "markdown",
   "id": "302f355d",
   "metadata": {
    "papermill": {
     "duration": 0.003928,
     "end_time": "2025-07-16T01:09:25.633898",
     "exception": false,
     "start_time": "2025-07-16T01:09:25.629970",
     "status": "completed"
    },
    "tags": []
   },
   "source": [
    "## Data Preparation"
   ]
  },
  {
   "cell_type": "markdown",
   "id": "ec31bcdc",
   "metadata": {
    "papermill": {
     "duration": 0.00374,
     "end_time": "2025-07-16T01:09:25.641396",
     "exception": false,
     "start_time": "2025-07-16T01:09:25.637656",
     "status": "completed"
    },
    "tags": []
   },
   "source": [
    "### Data Conversion"
   ]
  },
  {
   "cell_type": "code",
   "execution_count": 7,
   "id": "7cbde267",
   "metadata": {
    "execution": {
     "iopub.execute_input": "2025-07-16T01:09:25.650093Z",
     "iopub.status.busy": "2025-07-16T01:09:25.649664Z",
     "iopub.status.idle": "2025-07-16T01:09:26.014032Z",
     "shell.execute_reply": "2025-07-16T01:09:26.013427Z"
    },
    "papermill": {
     "duration": 0.3699,
     "end_time": "2025-07-16T01:09:26.015124",
     "exception": false,
     "start_time": "2025-07-16T01:09:25.645224",
     "status": "completed"
    },
    "tags": []
   },
   "outputs": [
    {
     "data": {
      "text/html": [
       "<div>\n",
       "<style scoped>\n",
       "    .dataframe tbody tr th:only-of-type {\n",
       "        vertical-align: middle;\n",
       "    }\n",
       "\n",
       "    .dataframe tbody tr th {\n",
       "        vertical-align: top;\n",
       "    }\n",
       "\n",
       "    .dataframe thead th {\n",
       "        text-align: right;\n",
       "    }\n",
       "</style>\n",
       "<table border=\"1\" class=\"dataframe\">\n",
       "  <thead>\n",
       "    <tr style=\"text-align: right;\">\n",
       "      <th></th>\n",
       "      <th>RecordID</th>\n",
       "      <th>Offense</th>\n",
       "      <th>IncidentID</th>\n",
       "      <th>BlockNumber</th>\n",
       "      <th>StreetName</th>\n",
       "      <th>Agency</th>\n",
       "      <th>HourReported</th>\n",
       "      <th>ReportingOfficer</th>\n",
       "      <th>Date</th>\n",
       "      <th>DateString</th>\n",
       "      <th>DayOfWeek</th>\n",
       "      <th>Weekend</th>\n",
       "      <th>Season</th>\n",
       "      <th>HourAMPM</th>\n",
       "      <th>TimeOfDay</th>\n",
       "    </tr>\n",
       "  </thead>\n",
       "  <tbody>\n",
       "    <tr>\n",
       "      <th>0</th>\n",
       "      <td>1</td>\n",
       "      <td>Vandalism</td>\n",
       "      <td>202500024563</td>\n",
       "      <td>1100</td>\n",
       "      <td>PRESTON AVE</td>\n",
       "      <td>CPD</td>\n",
       "      <td>1612</td>\n",
       "      <td>Brannon, Devin</td>\n",
       "      <td>2025-07-13 16:12:32</td>\n",
       "      <td>2025-07-13 04:12:32 PM</td>\n",
       "      <td>Sunday</td>\n",
       "      <td>True</td>\n",
       "      <td>Summer</td>\n",
       "      <td>04:12 PM</td>\n",
       "      <td>Afternoon</td>\n",
       "    </tr>\n",
       "    <tr>\n",
       "      <th>1</th>\n",
       "      <td>2</td>\n",
       "      <td>Lost/FoundProperty</td>\n",
       "      <td>202500024564</td>\n",
       "      <td>1800</td>\n",
       "      <td>JEFFERSON PARK AVE, 19</td>\n",
       "      <td>CPD</td>\n",
       "      <td>1611</td>\n",
       "      <td>Lowry, Ryan</td>\n",
       "      <td>2025-07-13 16:11:59</td>\n",
       "      <td>2025-07-13 04:11:59 PM</td>\n",
       "      <td>Sunday</td>\n",
       "      <td>True</td>\n",
       "      <td>Summer</td>\n",
       "      <td>04:11 PM</td>\n",
       "      <td>Afternoon</td>\n",
       "    </tr>\n",
       "    <tr>\n",
       "      <th>2</th>\n",
       "      <td>3</td>\n",
       "      <td>Assault Simple</td>\n",
       "      <td>202500024547</td>\n",
       "      <td>700</td>\n",
       "      <td>MADISON AVE, A</td>\n",
       "      <td>CPD</td>\n",
       "      <td>1324</td>\n",
       "      <td>Kirby, Tyree</td>\n",
       "      <td>2025-07-13 13:24:09</td>\n",
       "      <td>2025-07-13 01:24:09 PM</td>\n",
       "      <td>Sunday</td>\n",
       "      <td>True</td>\n",
       "      <td>Summer</td>\n",
       "      <td>01:24 PM</td>\n",
       "      <td>Afternoon</td>\n",
       "    </tr>\n",
       "    <tr>\n",
       "      <th>3</th>\n",
       "      <td>4</td>\n",
       "      <td>Hit and Run</td>\n",
       "      <td>202500024545</td>\n",
       "      <td>900</td>\n",
       "      <td>EMMET ST N</td>\n",
       "      <td>CPD</td>\n",
       "      <td>1308</td>\n",
       "      <td>Brannon, Devin</td>\n",
       "      <td>2025-07-13 13:08:46</td>\n",
       "      <td>2025-07-13 01:08:46 PM</td>\n",
       "      <td>Sunday</td>\n",
       "      <td>True</td>\n",
       "      <td>Summer</td>\n",
       "      <td>01:08 PM</td>\n",
       "      <td>Afternoon</td>\n",
       "    </tr>\n",
       "    <tr>\n",
       "      <th>4</th>\n",
       "      <td>5</td>\n",
       "      <td>Larceny - Shoplifitng</td>\n",
       "      <td>202500024537</td>\n",
       "      <td>1100</td>\n",
       "      <td>5TH ST SW</td>\n",
       "      <td>CPD</td>\n",
       "      <td>1159</td>\n",
       "      <td>Lowry, Ryan</td>\n",
       "      <td>2025-07-13 11:59:23</td>\n",
       "      <td>2025-07-13 11:59:23 AM</td>\n",
       "      <td>Sunday</td>\n",
       "      <td>True</td>\n",
       "      <td>Summer</td>\n",
       "      <td>11:59 AM</td>\n",
       "      <td>Morning</td>\n",
       "    </tr>\n",
       "  </tbody>\n",
       "</table>\n",
       "</div>"
      ],
      "text/plain": [
       "   RecordID                Offense    IncidentID BlockNumber  \\\n",
       "0         1              Vandalism  202500024563        1100   \n",
       "1         2     Lost/FoundProperty  202500024564        1800   \n",
       "2         3         Assault Simple  202500024547         700   \n",
       "3         4            Hit and Run  202500024545         900   \n",
       "4         5  Larceny - Shoplifitng  202500024537        1100   \n",
       "\n",
       "               StreetName Agency HourReported ReportingOfficer  \\\n",
       "0             PRESTON AVE    CPD         1612   Brannon, Devin   \n",
       "1  JEFFERSON PARK AVE, 19    CPD         1611      Lowry, Ryan   \n",
       "2          MADISON AVE, A    CPD         1324     Kirby, Tyree   \n",
       "3              EMMET ST N    CPD         1308   Brannon, Devin   \n",
       "4               5TH ST SW    CPD         1159      Lowry, Ryan   \n",
       "\n",
       "                 Date              DateString DayOfWeek  Weekend  Season  \\\n",
       "0 2025-07-13 16:12:32  2025-07-13 04:12:32 PM    Sunday     True  Summer   \n",
       "1 2025-07-13 16:11:59  2025-07-13 04:11:59 PM    Sunday     True  Summer   \n",
       "2 2025-07-13 13:24:09  2025-07-13 01:24:09 PM    Sunday     True  Summer   \n",
       "3 2025-07-13 13:08:46  2025-07-13 01:08:46 PM    Sunday     True  Summer   \n",
       "4 2025-07-13 11:59:23  2025-07-13 11:59:23 AM    Sunday     True  Summer   \n",
       "\n",
       "   HourAMPM  TimeOfDay  \n",
       "0  04:12 PM  Afternoon  \n",
       "1  04:11 PM  Afternoon  \n",
       "2  01:24 PM  Afternoon  \n",
       "3  01:08 PM  Afternoon  \n",
       "4  11:59 AM    Morning  "
      ]
     },
     "execution_count": 7,
     "metadata": {},
     "output_type": "execute_result"
    }
   ],
   "source": [
    "def convert_and_categorize_datereported(df, col='DateReported'):\n",
    "    \"\"\"\n",
    "    Converts an epoch (in milliseconds) date column into a timezone-aware datetime,\n",
    "    converts it to Eastern Time, and then creates columns for day-of-week, weekend flag,\n",
    "    season, 12-hour formatted time, and time-of-day. Keeps both a real datetime column\n",
    "    (Date) and a string representation (DateString).\n",
    "    \"\"\"\n",
    "    import pandas as pd\n",
    "\n",
    "    # Convert the epoch timestamp to a pandas datetime object as UTC, then convert to US/Eastern.\n",
    "    df[\"DateReported_dt\"] = (\n",
    "        pd.to_datetime(df[col], unit=\"ms\", errors=\"coerce\", utc=True)\n",
    "        .dt.tz_convert(\"US/Eastern\")\n",
    "    )\n",
    "    \n",
    "    # Create a true datetime column (remove timezone if you prefer naive datetime)\n",
    "    df[\"Date\"] = df[\"DateReported_dt\"].dt.tz_localize(None)\n",
    "\n",
    "    # Optionally, create a separate string-formatted column\n",
    "    df[\"DateString\"] = df[\"DateReported_dt\"].dt.strftime(\"%Y-%m-%d %I:%M:%S %p\")\n",
    "    \n",
    "    # DayOfWeek\n",
    "    df[\"DayOfWeek\"] = df[\"DateReported_dt\"].dt.day_name()\n",
    "    \n",
    "    # Weekend\n",
    "    df[\"Weekend\"] = df[\"DayOfWeek\"].isin([\"Saturday\", \"Sunday\"])\n",
    "    \n",
    "    # Helper function to determine the season\n",
    "    def get_season(dt):\n",
    "        month = dt.month\n",
    "        day = dt.day\n",
    "        # Approximate Northern Hemisphere season boundaries:\n",
    "        if (month == 12 and day >= 21) or (month < 3) or (month == 3 and day < 20):\n",
    "            return \"Winter\"\n",
    "        elif (month == 3 and day >= 20) or (month < 6) or (month == 6 and day < 21):\n",
    "            return \"Spring\"\n",
    "        elif (month == 6 and day >= 21) or (month < 9) or (month == 9 and day < 22):\n",
    "            return \"Summer\"\n",
    "        else:\n",
    "            return \"Autumn\"\n",
    "    \n",
    "    df[\"Season\"] = df[\"DateReported_dt\"].apply(get_season)\n",
    "    \n",
    "    # 12-hour formatted time (HourAMPM)\n",
    "    df[\"HourAMPM\"] = df[\"DateReported_dt\"].dt.strftime(\"%I:%M %p\")\n",
    "    \n",
    "    # Extract hour (0-23) for time-of-day\n",
    "    df[\"HourValue\"] = df[\"DateReported_dt\"].dt.hour\n",
    "    \n",
    "    def time_of_day(hour):\n",
    "        if pd.isnull(hour):\n",
    "            return None\n",
    "        if 5 <= hour < 12:\n",
    "            return \"Morning\"\n",
    "        elif 12 <= hour < 17:\n",
    "            return \"Afternoon\"\n",
    "        elif 17 <= hour < 21:\n",
    "            return \"Evening\"\n",
    "        else:\n",
    "            return \"Night\"\n",
    "    \n",
    "    df[\"TimeOfDay\"] = df[\"HourValue\"].apply(time_of_day)\n",
    "    \n",
    "    # Drop columns you no longer need\n",
    "    df.drop(columns=[col, \"DateReported_dt\", \"HourValue\"], inplace=True)\n",
    "    \n",
    "    return df\n",
    "\n",
    "# Example usage:\n",
    "df = convert_and_categorize_datereported(df)\n",
    "df.head()\n"
   ]
  },
  {
   "cell_type": "code",
   "execution_count": 8,
   "id": "6331b8c4",
   "metadata": {
    "execution": {
     "iopub.execute_input": "2025-07-16T01:09:26.024545Z",
     "iopub.status.busy": "2025-07-16T01:09:26.024294Z",
     "iopub.status.idle": "2025-07-16T01:09:26.052681Z",
     "shell.execute_reply": "2025-07-16T01:09:26.052134Z"
    },
    "papermill": {
     "duration": 0.034274,
     "end_time": "2025-07-16T01:09:26.053782",
     "exception": false,
     "start_time": "2025-07-16T01:09:26.019508",
     "status": "completed"
    },
    "tags": []
   },
   "outputs": [
    {
     "name": "stdout",
     "output_type": "stream",
     "text": [
      "<class 'pandas.core.frame.DataFrame'>\n",
      "RangeIndex: 25525 entries, 0 to 25524\n",
      "Data columns (total 15 columns):\n",
      " #   Column            Non-Null Count  Dtype         \n",
      "---  ------            --------------  -----         \n",
      " 0   RecordID          25525 non-null  int64         \n",
      " 1   Offense           25525 non-null  object        \n",
      " 2   IncidentID        25525 non-null  object        \n",
      " 3   BlockNumber       25525 non-null  object        \n",
      " 4   StreetName        25525 non-null  object        \n",
      " 5   Agency            25525 non-null  object        \n",
      " 6   HourReported      25525 non-null  object        \n",
      " 7   ReportingOfficer  25508 non-null  object        \n",
      " 8   Date              25525 non-null  datetime64[ns]\n",
      " 9   DateString        25525 non-null  object        \n",
      " 10  DayOfWeek         25525 non-null  object        \n",
      " 11  Weekend           25525 non-null  bool          \n",
      " 12  Season            25525 non-null  object        \n",
      " 13  HourAMPM          25525 non-null  object        \n",
      " 14  TimeOfDay         25525 non-null  object        \n",
      "dtypes: bool(1), datetime64[ns](1), int64(1), object(12)\n",
      "memory usage: 2.8+ MB\n"
     ]
    }
   ],
   "source": [
    "df.info()"
   ]
  },
  {
   "cell_type": "markdown",
   "id": "01c18760",
   "metadata": {
    "papermill": {
     "duration": 0.004043,
     "end_time": "2025-07-16T01:09:26.062173",
     "exception": false,
     "start_time": "2025-07-16T01:09:26.058130",
     "status": "completed"
    },
    "tags": []
   },
   "source": [
    "### Coordinates"
   ]
  },
  {
   "cell_type": "code",
   "execution_count": 9,
   "id": "b960c33b",
   "metadata": {
    "execution": {
     "iopub.execute_input": "2025-07-16T01:09:26.071290Z",
     "iopub.status.busy": "2025-07-16T01:09:26.071085Z",
     "iopub.status.idle": "2025-07-16T01:09:26.248538Z",
     "shell.execute_reply": "2025-07-16T01:09:26.247937Z"
    },
    "papermill": {
     "duration": 0.183272,
     "end_time": "2025-07-16T01:09:26.249587",
     "exception": false,
     "start_time": "2025-07-16T01:09:26.066315",
     "status": "completed"
    },
    "tags": []
   },
   "outputs": [
    {
     "name": "stdout",
     "output_type": "stream",
     "text": [
      "Loaded geocode cache.\n",
      "Error geocoding 1800 JEFFERSON PARK AVE, 19: REQUEST_DENIED (You must enable Billing on the Google Cloud Project at https://console.cloud.google.com/project/_/billing/enable Learn more at https://developers.google.com/maps/gmp-get-started)\n",
      "Geocoded 1800 JEFFERSON PARK AVE, 19: None, None\n",
      "Error geocoding 200 E MAIN ST, B: REQUEST_DENIED (You must enable Billing on the Google Cloud Project at https://console.cloud.google.com/project/_/billing/enable Learn more at https://developers.google.com/maps/gmp-get-started)\n",
      "Geocoded 200 E MAIN ST, B: None, None\n",
      "Geocode cache updated and saved.\n"
     ]
    },
    {
     "data": {
      "text/html": [
       "<div>\n",
       "<style scoped>\n",
       "    .dataframe tbody tr th:only-of-type {\n",
       "        vertical-align: middle;\n",
       "    }\n",
       "\n",
       "    .dataframe tbody tr th {\n",
       "        vertical-align: top;\n",
       "    }\n",
       "\n",
       "    .dataframe thead th {\n",
       "        text-align: right;\n",
       "    }\n",
       "</style>\n",
       "<table border=\"1\" class=\"dataframe\">\n",
       "  <thead>\n",
       "    <tr style=\"text-align: right;\">\n",
       "      <th></th>\n",
       "      <th>RecordID</th>\n",
       "      <th>Offense</th>\n",
       "      <th>IncidentID</th>\n",
       "      <th>BlockNumber</th>\n",
       "      <th>StreetName</th>\n",
       "      <th>Agency</th>\n",
       "      <th>HourReported</th>\n",
       "      <th>ReportingOfficer</th>\n",
       "      <th>Date</th>\n",
       "      <th>DateString</th>\n",
       "      <th>DayOfWeek</th>\n",
       "      <th>Weekend</th>\n",
       "      <th>Season</th>\n",
       "      <th>HourAMPM</th>\n",
       "      <th>TimeOfDay</th>\n",
       "      <th>FullStreet</th>\n",
       "      <th>lat</th>\n",
       "      <th>lon</th>\n",
       "    </tr>\n",
       "  </thead>\n",
       "  <tbody>\n",
       "    <tr>\n",
       "      <th>0</th>\n",
       "      <td>1</td>\n",
       "      <td>Vandalism</td>\n",
       "      <td>202500024563</td>\n",
       "      <td>1100</td>\n",
       "      <td>PRESTON AVE</td>\n",
       "      <td>CPD</td>\n",
       "      <td>1612</td>\n",
       "      <td>Brannon, Devin</td>\n",
       "      <td>2025-07-13 16:12:32</td>\n",
       "      <td>2025-07-13 04:12:32 PM</td>\n",
       "      <td>Sunday</td>\n",
       "      <td>True</td>\n",
       "      <td>Summer</td>\n",
       "      <td>04:12 PM</td>\n",
       "      <td>Afternoon</td>\n",
       "      <td>1100 PRESTON AVE</td>\n",
       "      <td>38.041973</td>\n",
       "      <td>-78.491996</td>\n",
       "    </tr>\n",
       "    <tr>\n",
       "      <th>1</th>\n",
       "      <td>2</td>\n",
       "      <td>Lost/FoundProperty</td>\n",
       "      <td>202500024564</td>\n",
       "      <td>1800</td>\n",
       "      <td>JEFFERSON PARK AVE, 19</td>\n",
       "      <td>CPD</td>\n",
       "      <td>1611</td>\n",
       "      <td>Lowry, Ryan</td>\n",
       "      <td>2025-07-13 16:11:59</td>\n",
       "      <td>2025-07-13 04:11:59 PM</td>\n",
       "      <td>Sunday</td>\n",
       "      <td>True</td>\n",
       "      <td>Summer</td>\n",
       "      <td>04:11 PM</td>\n",
       "      <td>Afternoon</td>\n",
       "      <td>1800 JEFFERSON PARK AVE, 19</td>\n",
       "      <td>NaN</td>\n",
       "      <td>NaN</td>\n",
       "    </tr>\n",
       "    <tr>\n",
       "      <th>2</th>\n",
       "      <td>3</td>\n",
       "      <td>Assault Simple</td>\n",
       "      <td>202500024547</td>\n",
       "      <td>700</td>\n",
       "      <td>MADISON AVE, A</td>\n",
       "      <td>CPD</td>\n",
       "      <td>1324</td>\n",
       "      <td>Kirby, Tyree</td>\n",
       "      <td>2025-07-13 13:24:09</td>\n",
       "      <td>2025-07-13 01:24:09 PM</td>\n",
       "      <td>Sunday</td>\n",
       "      <td>True</td>\n",
       "      <td>Summer</td>\n",
       "      <td>01:24 PM</td>\n",
       "      <td>Afternoon</td>\n",
       "      <td>700 MADISON AVE, A</td>\n",
       "      <td>38.041086</td>\n",
       "      <td>-78.495347</td>\n",
       "    </tr>\n",
       "    <tr>\n",
       "      <th>3</th>\n",
       "      <td>4</td>\n",
       "      <td>Hit and Run</td>\n",
       "      <td>202500024545</td>\n",
       "      <td>900</td>\n",
       "      <td>EMMET ST N</td>\n",
       "      <td>CPD</td>\n",
       "      <td>1308</td>\n",
       "      <td>Brannon, Devin</td>\n",
       "      <td>2025-07-13 13:08:46</td>\n",
       "      <td>2025-07-13 01:08:46 PM</td>\n",
       "      <td>Sunday</td>\n",
       "      <td>True</td>\n",
       "      <td>Summer</td>\n",
       "      <td>01:08 PM</td>\n",
       "      <td>Afternoon</td>\n",
       "      <td>900 EMMET ST N</td>\n",
       "      <td>38.048586</td>\n",
       "      <td>-78.502983</td>\n",
       "    </tr>\n",
       "    <tr>\n",
       "      <th>4</th>\n",
       "      <td>5</td>\n",
       "      <td>Larceny - Shoplifitng</td>\n",
       "      <td>202500024537</td>\n",
       "      <td>1100</td>\n",
       "      <td>5TH ST SW</td>\n",
       "      <td>CPD</td>\n",
       "      <td>1159</td>\n",
       "      <td>Lowry, Ryan</td>\n",
       "      <td>2025-07-13 11:59:23</td>\n",
       "      <td>2025-07-13 11:59:23 AM</td>\n",
       "      <td>Sunday</td>\n",
       "      <td>True</td>\n",
       "      <td>Summer</td>\n",
       "      <td>11:59 AM</td>\n",
       "      <td>Morning</td>\n",
       "      <td>1100 5TH ST SW</td>\n",
       "      <td>38.017130</td>\n",
       "      <td>-78.497806</td>\n",
       "    </tr>\n",
       "  </tbody>\n",
       "</table>\n",
       "</div>"
      ],
      "text/plain": [
       "   RecordID                Offense    IncidentID BlockNumber  \\\n",
       "0         1              Vandalism  202500024563        1100   \n",
       "1         2     Lost/FoundProperty  202500024564        1800   \n",
       "2         3         Assault Simple  202500024547         700   \n",
       "3         4            Hit and Run  202500024545         900   \n",
       "4         5  Larceny - Shoplifitng  202500024537        1100   \n",
       "\n",
       "               StreetName Agency HourReported ReportingOfficer  \\\n",
       "0             PRESTON AVE    CPD         1612   Brannon, Devin   \n",
       "1  JEFFERSON PARK AVE, 19    CPD         1611      Lowry, Ryan   \n",
       "2          MADISON AVE, A    CPD         1324     Kirby, Tyree   \n",
       "3              EMMET ST N    CPD         1308   Brannon, Devin   \n",
       "4               5TH ST SW    CPD         1159      Lowry, Ryan   \n",
       "\n",
       "                 Date              DateString DayOfWeek  Weekend  Season  \\\n",
       "0 2025-07-13 16:12:32  2025-07-13 04:12:32 PM    Sunday     True  Summer   \n",
       "1 2025-07-13 16:11:59  2025-07-13 04:11:59 PM    Sunday     True  Summer   \n",
       "2 2025-07-13 13:24:09  2025-07-13 01:24:09 PM    Sunday     True  Summer   \n",
       "3 2025-07-13 13:08:46  2025-07-13 01:08:46 PM    Sunday     True  Summer   \n",
       "4 2025-07-13 11:59:23  2025-07-13 11:59:23 AM    Sunday     True  Summer   \n",
       "\n",
       "   HourAMPM  TimeOfDay                   FullStreet        lat        lon  \n",
       "0  04:12 PM  Afternoon             1100 PRESTON AVE  38.041973 -78.491996  \n",
       "1  04:11 PM  Afternoon  1800 JEFFERSON PARK AVE, 19        NaN        NaN  \n",
       "2  01:24 PM  Afternoon           700 MADISON AVE, A  38.041086 -78.495347  \n",
       "3  01:08 PM  Afternoon               900 EMMET ST N  38.048586 -78.502983  \n",
       "4  11:59 AM    Morning               1100 5TH ST SW  38.017130 -78.497806  "
      ]
     },
     "execution_count": 9,
     "metadata": {},
     "output_type": "execute_result"
    }
   ],
   "source": [
    "# Combine BlockNumber and StreetName into a full address string\n",
    "df['FullStreet'] = df['BlockNumber'].astype(str) + \" \" + df['StreetName']\n",
    "\n",
    "# --- Step 1: Setup the Google Maps Client and Cache ---\n",
    "gmaps = googlemaps.Client(key=GOOGLE_API_KEY)\n",
    "\n",
    "# Try to load cached geocoding results if available.\n",
    "try:\n",
    "    with open(\"geocode_cache_google.pkl\", \"rb\") as f:\n",
    "        street_coords = pickle.load(f)\n",
    "    print(\"Loaded geocode cache.\")\n",
    "except FileNotFoundError:\n",
    "    street_coords = {}\n",
    "    print(\"No cache found; starting fresh.\")\n",
    "\n",
    "def geocode_address(address):\n",
    "    try:\n",
    "        # Append city and state to help geocoding\n",
    "        result = gmaps.geocode(f\"{address}, Charlottesville, VA\")\n",
    "        if result:\n",
    "            lat = result[0]['geometry']['location']['lat']\n",
    "            lon = result[0]['geometry']['location']['lng']\n",
    "            return lat, lon\n",
    "    except Exception as e:\n",
    "        print(f\"Error geocoding {address}: {e}\")\n",
    "    return None, None\n",
    "\n",
    "# --- Step 2: Geocode Only New Addresses ---\n",
    "unique_addresses = df['FullStreet'].unique()\n",
    "for address in unique_addresses:\n",
    "    if address not in street_coords:\n",
    "        lat, lon = geocode_address(address)\n",
    "        street_coords[address] = (lat, lon)\n",
    "        print(f\"Geocoded {address}: {lat}, {lon}\")\n",
    "\n",
    "# Save the updated cache to disk.\n",
    "with open(\"geocode_cache_google.pkl\", \"wb\") as f:\n",
    "    pickle.dump(street_coords, f)\n",
    "    print(\"Geocode cache updated and saved.\")\n",
    "\n",
    "# --- Step 3: Map Coordinates Back to DataFrame ---\n",
    "df['lat'] = df['FullStreet'].map(lambda s: street_coords.get(s, (None, None))[0])\n",
    "df['lon'] = df['FullStreet'].map(lambda s: street_coords.get(s, (None, None))[1])\n",
    "\n",
    "df.head()"
   ]
  },
  {
   "cell_type": "markdown",
   "id": "3cafb6fd",
   "metadata": {
    "papermill": {
     "duration": 0.004507,
     "end_time": "2025-07-16T01:09:26.258886",
     "exception": false,
     "start_time": "2025-07-16T01:09:26.254379",
     "status": "completed"
    },
    "tags": []
   },
   "source": [
    "### Neighborhood"
   ]
  },
  {
   "cell_type": "code",
   "execution_count": 10,
   "id": "3ea864c9",
   "metadata": {
    "execution": {
     "iopub.execute_input": "2025-07-16T01:09:26.269088Z",
     "iopub.status.busy": "2025-07-16T01:09:26.268460Z",
     "iopub.status.idle": "2025-07-16T01:09:27.410765Z",
     "shell.execute_reply": "2025-07-16T01:09:27.410059Z"
    },
    "papermill": {
     "duration": 1.14864,
     "end_time": "2025-07-16T01:09:27.411933",
     "exception": false,
     "start_time": "2025-07-16T01:09:26.263293",
     "status": "completed"
    },
    "tags": []
   },
   "outputs": [
    {
     "name": "stdout",
     "output_type": "stream",
     "text": [
      "Loaded neighborhood cache.\n"
     ]
    },
    {
     "name": "stdout",
     "output_type": "stream",
     "text": [
      "Error getting neighborhood for nan, nan: HTTP Error: 400\n",
      "Error getting neighborhood for nan, nan: HTTP Error: 400\n",
      "Error getting neighborhood for nan, nan: HTTP Error: 400\n",
      "Error getting neighborhood for nan, nan: HTTP Error: 400\n"
     ]
    },
    {
     "name": "stdout",
     "output_type": "stream",
     "text": [
      "Error getting neighborhood for nan, nan: HTTP Error: 400\n",
      "Error getting neighborhood for nan, nan: HTTP Error: 400\n",
      "Error getting neighborhood for nan, nan: HTTP Error: 400\n",
      "Error getting neighborhood for nan, nan: HTTP Error: 400\n",
      "Error getting neighborhood for nan, nan: HTTP Error: 400\n"
     ]
    },
    {
     "name": "stdout",
     "output_type": "stream",
     "text": [
      "Error getting neighborhood for nan, nan: HTTP Error: 400\n",
      "Error getting neighborhood for nan, nan: HTTP Error: 400\n",
      "Error getting neighborhood for nan, nan: HTTP Error: 400\n",
      "Error getting neighborhood for nan, nan: HTTP Error: 400\n",
      "Error getting neighborhood for nan, nan: HTTP Error: 400\n",
      "Error getting neighborhood for nan, nan: HTTP Error: 400\n",
      "Error getting neighborhood for nan, nan: HTTP Error: 400\n"
     ]
    },
    {
     "name": "stdout",
     "output_type": "stream",
     "text": [
      "Error getting neighborhood for nan, nan: HTTP Error: 400\n",
      "Error getting neighborhood for nan, nan: HTTP Error: 400\n",
      "Error getting neighborhood for nan, nan: HTTP Error: 400\n",
      "Error getting neighborhood for nan, nan: HTTP Error: 400\n",
      "Error getting neighborhood for nan, nan: HTTP Error: 400\n",
      "Error getting neighborhood for nan, nan: HTTP Error: 400\n",
      "Error getting neighborhood for nan, nan: HTTP Error: 400\n"
     ]
    },
    {
     "name": "stdout",
     "output_type": "stream",
     "text": [
      "Error getting neighborhood for nan, nan: HTTP Error: 400\n",
      "Error getting neighborhood for nan, nan: HTTP Error: 400\n",
      "Error getting neighborhood for nan, nan: HTTP Error: 400\n",
      "Error getting neighborhood for nan, nan: HTTP Error: 400\n",
      "Error getting neighborhood for nan, nan: HTTP Error: 400\n",
      "Error getting neighborhood for nan, nan: HTTP Error: 400\n",
      "Error getting neighborhood for nan, nan: HTTP Error: 400\n",
      "Error getting neighborhood for nan, nan: HTTP Error: 400\n"
     ]
    },
    {
     "name": "stdout",
     "output_type": "stream",
     "text": [
      "Error getting neighborhood for nan, nan: HTTP Error: 400\n",
      "Error getting neighborhood for nan, nan: HTTP Error: 400\n",
      "Error getting neighborhood for nan, nan: HTTP Error: 400\n",
      "Error getting neighborhood for nan, nan: HTTP Error: 400\n",
      "Error getting neighborhood for nan, nan: HTTP Error: 400\n",
      "Error getting neighborhood for nan, nan: HTTP Error: 400\n",
      "Error getting neighborhood for nan, nan: HTTP Error: 400\n"
     ]
    },
    {
     "name": "stdout",
     "output_type": "stream",
     "text": [
      "Error getting neighborhood for nan, nan: HTTP Error: 400\n",
      "Error getting neighborhood for nan, nan: HTTP Error: 400\n",
      "Error getting neighborhood for nan, nan: HTTP Error: 400\n",
      "Error getting neighborhood for nan, nan: HTTP Error: 400\n",
      "Error getting neighborhood for nan, nan: HTTP Error: 400\n",
      "Error getting neighborhood for nan, nan: HTTP Error: 400\n",
      "Error getting neighborhood for nan, nan: HTTP Error: 400\n",
      "Error getting neighborhood for nan, nan: HTTP Error: 400\n"
     ]
    },
    {
     "name": "stdout",
     "output_type": "stream",
     "text": [
      "Error getting neighborhood for nan, nan: HTTP Error: 400\n",
      "Error getting neighborhood for nan, nan: HTTP Error: 400\n",
      "Error getting neighborhood for nan, nan: HTTP Error: 400\n",
      "Error getting neighborhood for nan, nan: HTTP Error: 400\n",
      "Error getting neighborhood for nan, nan: HTTP Error: 400\n",
      "Error getting neighborhood for nan, nan: HTTP Error: 400\n",
      "Error getting neighborhood for nan, nan: HTTP Error: 400\n"
     ]
    },
    {
     "name": "stdout",
     "output_type": "stream",
     "text": [
      "Error getting neighborhood for nan, nan: HTTP Error: 400\n",
      "Error getting neighborhood for nan, nan: HTTP Error: 400\n"
     ]
    },
    {
     "data": {
      "text/html": [
       "<div>\n",
       "<style scoped>\n",
       "    .dataframe tbody tr th:only-of-type {\n",
       "        vertical-align: middle;\n",
       "    }\n",
       "\n",
       "    .dataframe tbody tr th {\n",
       "        vertical-align: top;\n",
       "    }\n",
       "\n",
       "    .dataframe thead th {\n",
       "        text-align: right;\n",
       "    }\n",
       "</style>\n",
       "<table border=\"1\" class=\"dataframe\">\n",
       "  <thead>\n",
       "    <tr style=\"text-align: right;\">\n",
       "      <th></th>\n",
       "      <th>RecordID</th>\n",
       "      <th>Offense</th>\n",
       "      <th>IncidentID</th>\n",
       "      <th>BlockNumber</th>\n",
       "      <th>StreetName</th>\n",
       "      <th>Agency</th>\n",
       "      <th>HourReported</th>\n",
       "      <th>ReportingOfficer</th>\n",
       "      <th>Date</th>\n",
       "      <th>DateString</th>\n",
       "      <th>DayOfWeek</th>\n",
       "      <th>Weekend</th>\n",
       "      <th>Season</th>\n",
       "      <th>HourAMPM</th>\n",
       "      <th>TimeOfDay</th>\n",
       "      <th>FullStreet</th>\n",
       "      <th>lat</th>\n",
       "      <th>lon</th>\n",
       "      <th>neighborhood</th>\n",
       "    </tr>\n",
       "  </thead>\n",
       "  <tbody>\n",
       "    <tr>\n",
       "      <th>0</th>\n",
       "      <td>1</td>\n",
       "      <td>Vandalism</td>\n",
       "      <td>202500024563</td>\n",
       "      <td>1100</td>\n",
       "      <td>PRESTON AVE</td>\n",
       "      <td>CPD</td>\n",
       "      <td>1612</td>\n",
       "      <td>Brannon, Devin</td>\n",
       "      <td>2025-07-13 16:12:32</td>\n",
       "      <td>2025-07-13 04:12:32 PM</td>\n",
       "      <td>Sunday</td>\n",
       "      <td>True</td>\n",
       "      <td>Summer</td>\n",
       "      <td>04:12 PM</td>\n",
       "      <td>Afternoon</td>\n",
       "      <td>1100 PRESTON AVE</td>\n",
       "      <td>38.041973</td>\n",
       "      <td>-78.491996</td>\n",
       "      <td>Barracks Rugby</td>\n",
       "    </tr>\n",
       "    <tr>\n",
       "      <th>1</th>\n",
       "      <td>2</td>\n",
       "      <td>Lost/FoundProperty</td>\n",
       "      <td>202500024564</td>\n",
       "      <td>1800</td>\n",
       "      <td>JEFFERSON PARK AVE, 19</td>\n",
       "      <td>CPD</td>\n",
       "      <td>1611</td>\n",
       "      <td>Lowry, Ryan</td>\n",
       "      <td>2025-07-13 16:11:59</td>\n",
       "      <td>2025-07-13 04:11:59 PM</td>\n",
       "      <td>Sunday</td>\n",
       "      <td>True</td>\n",
       "      <td>Summer</td>\n",
       "      <td>04:11 PM</td>\n",
       "      <td>Afternoon</td>\n",
       "      <td>1800 JEFFERSON PARK AVE, 19</td>\n",
       "      <td>NaN</td>\n",
       "      <td>NaN</td>\n",
       "      <td>N/A</td>\n",
       "    </tr>\n",
       "    <tr>\n",
       "      <th>2</th>\n",
       "      <td>3</td>\n",
       "      <td>Assault Simple</td>\n",
       "      <td>202500024547</td>\n",
       "      <td>700</td>\n",
       "      <td>MADISON AVE, A</td>\n",
       "      <td>CPD</td>\n",
       "      <td>1324</td>\n",
       "      <td>Kirby, Tyree</td>\n",
       "      <td>2025-07-13 13:24:09</td>\n",
       "      <td>2025-07-13 01:24:09 PM</td>\n",
       "      <td>Sunday</td>\n",
       "      <td>True</td>\n",
       "      <td>Summer</td>\n",
       "      <td>01:24 PM</td>\n",
       "      <td>Afternoon</td>\n",
       "      <td>700 MADISON AVE, A</td>\n",
       "      <td>38.041086</td>\n",
       "      <td>-78.495347</td>\n",
       "      <td>Venable</td>\n",
       "    </tr>\n",
       "    <tr>\n",
       "      <th>3</th>\n",
       "      <td>4</td>\n",
       "      <td>Hit and Run</td>\n",
       "      <td>202500024545</td>\n",
       "      <td>900</td>\n",
       "      <td>EMMET ST N</td>\n",
       "      <td>CPD</td>\n",
       "      <td>1308</td>\n",
       "      <td>Brannon, Devin</td>\n",
       "      <td>2025-07-13 13:08:46</td>\n",
       "      <td>2025-07-13 01:08:46 PM</td>\n",
       "      <td>Sunday</td>\n",
       "      <td>True</td>\n",
       "      <td>Summer</td>\n",
       "      <td>01:08 PM</td>\n",
       "      <td>Afternoon</td>\n",
       "      <td>900 EMMET ST N</td>\n",
       "      <td>38.048586</td>\n",
       "      <td>-78.502983</td>\n",
       "      <td>Venable</td>\n",
       "    </tr>\n",
       "    <tr>\n",
       "      <th>4</th>\n",
       "      <td>5</td>\n",
       "      <td>Larceny - Shoplifitng</td>\n",
       "      <td>202500024537</td>\n",
       "      <td>1100</td>\n",
       "      <td>5TH ST SW</td>\n",
       "      <td>CPD</td>\n",
       "      <td>1159</td>\n",
       "      <td>Lowry, Ryan</td>\n",
       "      <td>2025-07-13 11:59:23</td>\n",
       "      <td>2025-07-13 11:59:23 AM</td>\n",
       "      <td>Sunday</td>\n",
       "      <td>True</td>\n",
       "      <td>Summer</td>\n",
       "      <td>11:59 AM</td>\n",
       "      <td>Morning</td>\n",
       "      <td>1100 5TH ST SW</td>\n",
       "      <td>38.017130</td>\n",
       "      <td>-78.497806</td>\n",
       "      <td>Johnson Village</td>\n",
       "    </tr>\n",
       "  </tbody>\n",
       "</table>\n",
       "</div>"
      ],
      "text/plain": [
       "   RecordID                Offense    IncidentID BlockNumber  \\\n",
       "0         1              Vandalism  202500024563        1100   \n",
       "1         2     Lost/FoundProperty  202500024564        1800   \n",
       "2         3         Assault Simple  202500024547         700   \n",
       "3         4            Hit and Run  202500024545         900   \n",
       "4         5  Larceny - Shoplifitng  202500024537        1100   \n",
       "\n",
       "               StreetName Agency HourReported ReportingOfficer  \\\n",
       "0             PRESTON AVE    CPD         1612   Brannon, Devin   \n",
       "1  JEFFERSON PARK AVE, 19    CPD         1611      Lowry, Ryan   \n",
       "2          MADISON AVE, A    CPD         1324     Kirby, Tyree   \n",
       "3              EMMET ST N    CPD         1308   Brannon, Devin   \n",
       "4               5TH ST SW    CPD         1159      Lowry, Ryan   \n",
       "\n",
       "                 Date              DateString DayOfWeek  Weekend  Season  \\\n",
       "0 2025-07-13 16:12:32  2025-07-13 04:12:32 PM    Sunday     True  Summer   \n",
       "1 2025-07-13 16:11:59  2025-07-13 04:11:59 PM    Sunday     True  Summer   \n",
       "2 2025-07-13 13:24:09  2025-07-13 01:24:09 PM    Sunday     True  Summer   \n",
       "3 2025-07-13 13:08:46  2025-07-13 01:08:46 PM    Sunday     True  Summer   \n",
       "4 2025-07-13 11:59:23  2025-07-13 11:59:23 AM    Sunday     True  Summer   \n",
       "\n",
       "   HourAMPM  TimeOfDay                   FullStreet        lat        lon  \\\n",
       "0  04:12 PM  Afternoon             1100 PRESTON AVE  38.041973 -78.491996   \n",
       "1  04:11 PM  Afternoon  1800 JEFFERSON PARK AVE, 19        NaN        NaN   \n",
       "2  01:24 PM  Afternoon           700 MADISON AVE, A  38.041086 -78.495347   \n",
       "3  01:08 PM  Afternoon               900 EMMET ST N  38.048586 -78.502983   \n",
       "4  11:59 AM    Morning               1100 5TH ST SW  38.017130 -78.497806   \n",
       "\n",
       "      neighborhood  \n",
       "0   Barracks Rugby  \n",
       "1              N/A  \n",
       "2          Venable  \n",
       "3          Venable  \n",
       "4  Johnson Village  "
      ]
     },
     "execution_count": 10,
     "metadata": {},
     "output_type": "execute_result"
    }
   ],
   "source": [
    "# Initialize the Google Maps client.\n",
    "gmaps = googlemaps.Client(key=GOOGLE_API_KEY)\n",
    "\n",
    "# Try to load a persistent neighborhood cache if available.\n",
    "try:\n",
    "    with open(\"neighborhood_cache.pkl\", \"rb\") as f:\n",
    "        neighborhood_cache = pickle.load(f)\n",
    "    print(\"Loaded neighborhood cache.\")\n",
    "except FileNotFoundError:\n",
    "    neighborhood_cache = {}\n",
    "    print(\"No neighborhood cache found; starting fresh.\")\n",
    "\n",
    "def get_neighborhood(lat, lon):\n",
    "    \"\"\"\n",
    "    Reverse geocodes a latitude and longitude to retrieve the neighborhood.\n",
    "    Caches results to speed up subsequent lookups.\n",
    "    \"\"\"\n",
    "    key = (lat, lon)\n",
    "    if key in neighborhood_cache:\n",
    "        return neighborhood_cache[key]\n",
    "    \n",
    "    try:\n",
    "        result = gmaps.reverse_geocode((lat, lon))\n",
    "        if result:\n",
    "            # Look for the 'neighborhood' component in the first result.\n",
    "            for component in result[0]['address_components']:\n",
    "                if 'neighborhood' in component['types']:\n",
    "                    neighborhood = component['long_name']\n",
    "                    neighborhood_cache[key] = neighborhood\n",
    "                    return neighborhood\n",
    "            # If no neighborhood is found, return \"N/A\"\n",
    "            neighborhood_cache[key] = \"N/A\"\n",
    "            return \"N/A\"\n",
    "    except Exception as e:\n",
    "        print(f\"Error getting neighborhood for {lat}, {lon}: {e}\")\n",
    "        return \"N/A\"\n",
    "    \n",
    "    # Pause to respect usage limits.\n",
    "    time.sleep(1)\n",
    "\n",
    "# Example usage: Apply to your DataFrame 'df' that already has 'lat' and 'lon' columns.\n",
    "df['neighborhood'] = df.apply(lambda row: get_neighborhood(row['lat'], row['lon']), axis=1)\n",
    "\n",
    "# Save the updated neighborhood cache.\n",
    "with open(\"neighborhood_cache.pkl\", \"wb\") as f:\n",
    "    pickle.dump(neighborhood_cache, f)\n",
    "\n",
    "df.head()\n"
   ]
  },
  {
   "cell_type": "markdown",
   "id": "ba8e06ba",
   "metadata": {
    "papermill": {
     "duration": 0.005062,
     "end_time": "2025-07-16T01:09:27.422606",
     "exception": false,
     "start_time": "2025-07-16T01:09:27.417544",
     "status": "completed"
    },
    "tags": []
   },
   "source": [
    "### Zip"
   ]
  },
  {
   "cell_type": "code",
   "execution_count": 11,
   "id": "6f055ee4",
   "metadata": {
    "execution": {
     "iopub.execute_input": "2025-07-16T01:09:27.433647Z",
     "iopub.status.busy": "2025-07-16T01:09:27.433386Z",
     "iopub.status.idle": "2025-07-16T01:10:22.785572Z",
     "shell.execute_reply": "2025-07-16T01:10:22.784875Z"
    },
    "papermill": {
     "duration": 55.358978,
     "end_time": "2025-07-16T01:10:22.786634",
     "exception": false,
     "start_time": "2025-07-16T01:09:27.427656",
     "status": "completed"
    },
    "tags": []
   },
   "outputs": [
    {
     "name": "stdout",
     "output_type": "stream",
     "text": [
      "Loaded zip cache.\n",
      "Error getting ZIP for nan, nan: Must be a coordinate pair or Point\n"
     ]
    },
    {
     "name": "stdout",
     "output_type": "stream",
     "text": [
      "Error getting ZIP for nan, nan: Must be a coordinate pair or Point\n"
     ]
    },
    {
     "name": "stdout",
     "output_type": "stream",
     "text": [
      "Error getting ZIP for nan, nan: Must be a coordinate pair or Point\n"
     ]
    },
    {
     "name": "stdout",
     "output_type": "stream",
     "text": [
      "Error getting ZIP for nan, nan: Must be a coordinate pair or Point\n"
     ]
    },
    {
     "name": "stdout",
     "output_type": "stream",
     "text": [
      "Error getting ZIP for nan, nan: Must be a coordinate pair or Point\n"
     ]
    },
    {
     "name": "stdout",
     "output_type": "stream",
     "text": [
      "Error getting ZIP for nan, nan: Must be a coordinate pair or Point\n"
     ]
    },
    {
     "name": "stdout",
     "output_type": "stream",
     "text": [
      "Error getting ZIP for nan, nan: Must be a coordinate pair or Point\n"
     ]
    },
    {
     "name": "stdout",
     "output_type": "stream",
     "text": [
      "Error getting ZIP for nan, nan: Must be a coordinate pair or Point\n"
     ]
    },
    {
     "name": "stdout",
     "output_type": "stream",
     "text": [
      "Error getting ZIP for nan, nan: Must be a coordinate pair or Point\n"
     ]
    },
    {
     "name": "stdout",
     "output_type": "stream",
     "text": [
      "Error getting ZIP for nan, nan: Must be a coordinate pair or Point\n"
     ]
    },
    {
     "name": "stdout",
     "output_type": "stream",
     "text": [
      "Error getting ZIP for nan, nan: Must be a coordinate pair or Point\n"
     ]
    },
    {
     "name": "stdout",
     "output_type": "stream",
     "text": [
      "Error getting ZIP for nan, nan: Must be a coordinate pair or Point\n"
     ]
    },
    {
     "name": "stdout",
     "output_type": "stream",
     "text": [
      "Error getting ZIP for nan, nan: Must be a coordinate pair or Point\n"
     ]
    },
    {
     "name": "stdout",
     "output_type": "stream",
     "text": [
      "Error getting ZIP for nan, nan: Must be a coordinate pair or Point\n"
     ]
    },
    {
     "name": "stdout",
     "output_type": "stream",
     "text": [
      "Error getting ZIP for nan, nan: Must be a coordinate pair or Point\n"
     ]
    },
    {
     "name": "stdout",
     "output_type": "stream",
     "text": [
      "Error getting ZIP for nan, nan: Must be a coordinate pair or Point\n"
     ]
    },
    {
     "name": "stdout",
     "output_type": "stream",
     "text": [
      "Error getting ZIP for nan, nan: Must be a coordinate pair or Point\n"
     ]
    },
    {
     "name": "stdout",
     "output_type": "stream",
     "text": [
      "Error getting ZIP for nan, nan: Must be a coordinate pair or Point\n"
     ]
    },
    {
     "name": "stdout",
     "output_type": "stream",
     "text": [
      "Error getting ZIP for nan, nan: Must be a coordinate pair or Point\n"
     ]
    },
    {
     "name": "stdout",
     "output_type": "stream",
     "text": [
      "Error getting ZIP for nan, nan: Must be a coordinate pair or Point\n"
     ]
    },
    {
     "name": "stdout",
     "output_type": "stream",
     "text": [
      "Error getting ZIP for nan, nan: Must be a coordinate pair or Point\n"
     ]
    },
    {
     "name": "stdout",
     "output_type": "stream",
     "text": [
      "Error getting ZIP for nan, nan: Must be a coordinate pair or Point\n"
     ]
    },
    {
     "name": "stdout",
     "output_type": "stream",
     "text": [
      "Error getting ZIP for nan, nan: Must be a coordinate pair or Point\n"
     ]
    },
    {
     "name": "stdout",
     "output_type": "stream",
     "text": [
      "Error getting ZIP for nan, nan: Must be a coordinate pair or Point\n"
     ]
    },
    {
     "name": "stdout",
     "output_type": "stream",
     "text": [
      "Error getting ZIP for nan, nan: Must be a coordinate pair or Point\n"
     ]
    },
    {
     "name": "stdout",
     "output_type": "stream",
     "text": [
      "Error getting ZIP for nan, nan: Must be a coordinate pair or Point\n"
     ]
    },
    {
     "name": "stdout",
     "output_type": "stream",
     "text": [
      "Error getting ZIP for nan, nan: Must be a coordinate pair or Point\n"
     ]
    },
    {
     "name": "stdout",
     "output_type": "stream",
     "text": [
      "Error getting ZIP for nan, nan: Must be a coordinate pair or Point\n"
     ]
    },
    {
     "name": "stdout",
     "output_type": "stream",
     "text": [
      "Error getting ZIP for nan, nan: Must be a coordinate pair or Point\n"
     ]
    },
    {
     "name": "stdout",
     "output_type": "stream",
     "text": [
      "Error getting ZIP for nan, nan: Must be a coordinate pair or Point\n"
     ]
    },
    {
     "name": "stdout",
     "output_type": "stream",
     "text": [
      "Error getting ZIP for nan, nan: Must be a coordinate pair or Point\n"
     ]
    },
    {
     "name": "stdout",
     "output_type": "stream",
     "text": [
      "Error getting ZIP for nan, nan: Must be a coordinate pair or Point\n"
     ]
    },
    {
     "name": "stdout",
     "output_type": "stream",
     "text": [
      "Error getting ZIP for nan, nan: Must be a coordinate pair or Point\n"
     ]
    },
    {
     "name": "stdout",
     "output_type": "stream",
     "text": [
      "Error getting ZIP for nan, nan: Must be a coordinate pair or Point\n"
     ]
    },
    {
     "name": "stdout",
     "output_type": "stream",
     "text": [
      "Error getting ZIP for nan, nan: Must be a coordinate pair or Point\n"
     ]
    },
    {
     "name": "stdout",
     "output_type": "stream",
     "text": [
      "Error getting ZIP for nan, nan: Must be a coordinate pair or Point\n"
     ]
    },
    {
     "name": "stdout",
     "output_type": "stream",
     "text": [
      "Error getting ZIP for nan, nan: Must be a coordinate pair or Point\n"
     ]
    },
    {
     "name": "stdout",
     "output_type": "stream",
     "text": [
      "Error getting ZIP for nan, nan: Must be a coordinate pair or Point\n"
     ]
    },
    {
     "name": "stdout",
     "output_type": "stream",
     "text": [
      "Error getting ZIP for nan, nan: Must be a coordinate pair or Point\n"
     ]
    },
    {
     "name": "stdout",
     "output_type": "stream",
     "text": [
      "Error getting ZIP for nan, nan: Must be a coordinate pair or Point\n"
     ]
    },
    {
     "name": "stdout",
     "output_type": "stream",
     "text": [
      "Error getting ZIP for nan, nan: Must be a coordinate pair or Point\n"
     ]
    },
    {
     "name": "stdout",
     "output_type": "stream",
     "text": [
      "Error getting ZIP for nan, nan: Must be a coordinate pair or Point\n"
     ]
    },
    {
     "name": "stdout",
     "output_type": "stream",
     "text": [
      "Error getting ZIP for nan, nan: Must be a coordinate pair or Point\n"
     ]
    },
    {
     "name": "stdout",
     "output_type": "stream",
     "text": [
      "Error getting ZIP for nan, nan: Must be a coordinate pair or Point\n"
     ]
    },
    {
     "name": "stdout",
     "output_type": "stream",
     "text": [
      "Error getting ZIP for nan, nan: Must be a coordinate pair or Point\n"
     ]
    },
    {
     "name": "stdout",
     "output_type": "stream",
     "text": [
      "Error getting ZIP for nan, nan: Must be a coordinate pair or Point\n"
     ]
    },
    {
     "name": "stdout",
     "output_type": "stream",
     "text": [
      "Error getting ZIP for nan, nan: Must be a coordinate pair or Point\n"
     ]
    },
    {
     "name": "stdout",
     "output_type": "stream",
     "text": [
      "Error getting ZIP for nan, nan: Must be a coordinate pair or Point\n"
     ]
    },
    {
     "name": "stdout",
     "output_type": "stream",
     "text": [
      "Error getting ZIP for nan, nan: Must be a coordinate pair or Point\n"
     ]
    },
    {
     "name": "stdout",
     "output_type": "stream",
     "text": [
      "Error getting ZIP for nan, nan: Must be a coordinate pair or Point\n"
     ]
    },
    {
     "name": "stdout",
     "output_type": "stream",
     "text": [
      "Error getting ZIP for nan, nan: Must be a coordinate pair or Point\n"
     ]
    },
    {
     "name": "stdout",
     "output_type": "stream",
     "text": [
      "Error getting ZIP for nan, nan: Must be a coordinate pair or Point\n"
     ]
    },
    {
     "name": "stdout",
     "output_type": "stream",
     "text": [
      "Error getting ZIP for nan, nan: Must be a coordinate pair or Point\n"
     ]
    },
    {
     "name": "stdout",
     "output_type": "stream",
     "text": [
      "Error getting ZIP for nan, nan: Must be a coordinate pair or Point\n"
     ]
    },
    {
     "name": "stdout",
     "output_type": "stream",
     "text": [
      "Error getting ZIP for nan, nan: Must be a coordinate pair or Point\n"
     ]
    },
    {
     "data": {
      "text/html": [
       "<div>\n",
       "<style scoped>\n",
       "    .dataframe tbody tr th:only-of-type {\n",
       "        vertical-align: middle;\n",
       "    }\n",
       "\n",
       "    .dataframe tbody tr th {\n",
       "        vertical-align: top;\n",
       "    }\n",
       "\n",
       "    .dataframe thead th {\n",
       "        text-align: right;\n",
       "    }\n",
       "</style>\n",
       "<table border=\"1\" class=\"dataframe\">\n",
       "  <thead>\n",
       "    <tr style=\"text-align: right;\">\n",
       "      <th></th>\n",
       "      <th>RecordID</th>\n",
       "      <th>Offense</th>\n",
       "      <th>IncidentID</th>\n",
       "      <th>BlockNumber</th>\n",
       "      <th>StreetName</th>\n",
       "      <th>Agency</th>\n",
       "      <th>HourReported</th>\n",
       "      <th>ReportingOfficer</th>\n",
       "      <th>Date</th>\n",
       "      <th>DateString</th>\n",
       "      <th>DayOfWeek</th>\n",
       "      <th>Weekend</th>\n",
       "      <th>Season</th>\n",
       "      <th>HourAMPM</th>\n",
       "      <th>TimeOfDay</th>\n",
       "      <th>FullStreet</th>\n",
       "      <th>lat</th>\n",
       "      <th>lon</th>\n",
       "      <th>neighborhood</th>\n",
       "      <th>zip</th>\n",
       "    </tr>\n",
       "  </thead>\n",
       "  <tbody>\n",
       "    <tr>\n",
       "      <th>0</th>\n",
       "      <td>1</td>\n",
       "      <td>Vandalism</td>\n",
       "      <td>202500024563</td>\n",
       "      <td>1100</td>\n",
       "      <td>PRESTON AVE</td>\n",
       "      <td>CPD</td>\n",
       "      <td>1612</td>\n",
       "      <td>Brannon, Devin</td>\n",
       "      <td>2025-07-13 16:12:32</td>\n",
       "      <td>2025-07-13 04:12:32 PM</td>\n",
       "      <td>Sunday</td>\n",
       "      <td>True</td>\n",
       "      <td>Summer</td>\n",
       "      <td>04:12 PM</td>\n",
       "      <td>Afternoon</td>\n",
       "      <td>1100 PRESTON AVE</td>\n",
       "      <td>38.041973</td>\n",
       "      <td>-78.491996</td>\n",
       "      <td>Barracks Rugby</td>\n",
       "      <td>22908</td>\n",
       "    </tr>\n",
       "    <tr>\n",
       "      <th>1</th>\n",
       "      <td>2</td>\n",
       "      <td>Lost/FoundProperty</td>\n",
       "      <td>202500024564</td>\n",
       "      <td>1800</td>\n",
       "      <td>JEFFERSON PARK AVE, 19</td>\n",
       "      <td>CPD</td>\n",
       "      <td>1611</td>\n",
       "      <td>Lowry, Ryan</td>\n",
       "      <td>2025-07-13 16:11:59</td>\n",
       "      <td>2025-07-13 04:11:59 PM</td>\n",
       "      <td>Sunday</td>\n",
       "      <td>True</td>\n",
       "      <td>Summer</td>\n",
       "      <td>04:11 PM</td>\n",
       "      <td>Afternoon</td>\n",
       "      <td>1800 JEFFERSON PARK AVE, 19</td>\n",
       "      <td>NaN</td>\n",
       "      <td>NaN</td>\n",
       "      <td>N/A</td>\n",
       "      <td>N/A</td>\n",
       "    </tr>\n",
       "    <tr>\n",
       "      <th>2</th>\n",
       "      <td>3</td>\n",
       "      <td>Assault Simple</td>\n",
       "      <td>202500024547</td>\n",
       "      <td>700</td>\n",
       "      <td>MADISON AVE, A</td>\n",
       "      <td>CPD</td>\n",
       "      <td>1324</td>\n",
       "      <td>Kirby, Tyree</td>\n",
       "      <td>2025-07-13 13:24:09</td>\n",
       "      <td>2025-07-13 01:24:09 PM</td>\n",
       "      <td>Sunday</td>\n",
       "      <td>True</td>\n",
       "      <td>Summer</td>\n",
       "      <td>01:24 PM</td>\n",
       "      <td>Afternoon</td>\n",
       "      <td>700 MADISON AVE, A</td>\n",
       "      <td>38.041086</td>\n",
       "      <td>-78.495347</td>\n",
       "      <td>Venable</td>\n",
       "      <td>22903</td>\n",
       "    </tr>\n",
       "    <tr>\n",
       "      <th>3</th>\n",
       "      <td>4</td>\n",
       "      <td>Hit and Run</td>\n",
       "      <td>202500024545</td>\n",
       "      <td>900</td>\n",
       "      <td>EMMET ST N</td>\n",
       "      <td>CPD</td>\n",
       "      <td>1308</td>\n",
       "      <td>Brannon, Devin</td>\n",
       "      <td>2025-07-13 13:08:46</td>\n",
       "      <td>2025-07-13 01:08:46 PM</td>\n",
       "      <td>Sunday</td>\n",
       "      <td>True</td>\n",
       "      <td>Summer</td>\n",
       "      <td>01:08 PM</td>\n",
       "      <td>Afternoon</td>\n",
       "      <td>900 EMMET ST N</td>\n",
       "      <td>38.048586</td>\n",
       "      <td>-78.502983</td>\n",
       "      <td>Venable</td>\n",
       "      <td>22903</td>\n",
       "    </tr>\n",
       "    <tr>\n",
       "      <th>4</th>\n",
       "      <td>5</td>\n",
       "      <td>Larceny - Shoplifitng</td>\n",
       "      <td>202500024537</td>\n",
       "      <td>1100</td>\n",
       "      <td>5TH ST SW</td>\n",
       "      <td>CPD</td>\n",
       "      <td>1159</td>\n",
       "      <td>Lowry, Ryan</td>\n",
       "      <td>2025-07-13 11:59:23</td>\n",
       "      <td>2025-07-13 11:59:23 AM</td>\n",
       "      <td>Sunday</td>\n",
       "      <td>True</td>\n",
       "      <td>Summer</td>\n",
       "      <td>11:59 AM</td>\n",
       "      <td>Morning</td>\n",
       "      <td>1100 5TH ST SW</td>\n",
       "      <td>38.017130</td>\n",
       "      <td>-78.497806</td>\n",
       "      <td>Johnson Village</td>\n",
       "      <td>22903</td>\n",
       "    </tr>\n",
       "  </tbody>\n",
       "</table>\n",
       "</div>"
      ],
      "text/plain": [
       "   RecordID                Offense    IncidentID BlockNumber  \\\n",
       "0         1              Vandalism  202500024563        1100   \n",
       "1         2     Lost/FoundProperty  202500024564        1800   \n",
       "2         3         Assault Simple  202500024547         700   \n",
       "3         4            Hit and Run  202500024545         900   \n",
       "4         5  Larceny - Shoplifitng  202500024537        1100   \n",
       "\n",
       "               StreetName Agency HourReported ReportingOfficer  \\\n",
       "0             PRESTON AVE    CPD         1612   Brannon, Devin   \n",
       "1  JEFFERSON PARK AVE, 19    CPD         1611      Lowry, Ryan   \n",
       "2          MADISON AVE, A    CPD         1324     Kirby, Tyree   \n",
       "3              EMMET ST N    CPD         1308   Brannon, Devin   \n",
       "4               5TH ST SW    CPD         1159      Lowry, Ryan   \n",
       "\n",
       "                 Date              DateString DayOfWeek  Weekend  Season  \\\n",
       "0 2025-07-13 16:12:32  2025-07-13 04:12:32 PM    Sunday     True  Summer   \n",
       "1 2025-07-13 16:11:59  2025-07-13 04:11:59 PM    Sunday     True  Summer   \n",
       "2 2025-07-13 13:24:09  2025-07-13 01:24:09 PM    Sunday     True  Summer   \n",
       "3 2025-07-13 13:08:46  2025-07-13 01:08:46 PM    Sunday     True  Summer   \n",
       "4 2025-07-13 11:59:23  2025-07-13 11:59:23 AM    Sunday     True  Summer   \n",
       "\n",
       "   HourAMPM  TimeOfDay                   FullStreet        lat        lon  \\\n",
       "0  04:12 PM  Afternoon             1100 PRESTON AVE  38.041973 -78.491996   \n",
       "1  04:11 PM  Afternoon  1800 JEFFERSON PARK AVE, 19        NaN        NaN   \n",
       "2  01:24 PM  Afternoon           700 MADISON AVE, A  38.041086 -78.495347   \n",
       "3  01:08 PM  Afternoon               900 EMMET ST N  38.048586 -78.502983   \n",
       "4  11:59 AM    Morning               1100 5TH ST SW  38.017130 -78.497806   \n",
       "\n",
       "      neighborhood    zip  \n",
       "0   Barracks Rugby  22908  \n",
       "1              N/A    N/A  \n",
       "2          Venable  22903  \n",
       "3          Venable  22903  \n",
       "4  Johnson Village  22903  "
      ]
     },
     "execution_count": 11,
     "metadata": {},
     "output_type": "execute_result"
    }
   ],
   "source": [
    "# Initialize the geocoder.\n",
    "geolocator = Nominatim(user_agent=\"zip_lookup\")\n",
    "\n",
    "# Try to load a persistent ZIP cache if available.\n",
    "try:\n",
    "    with open(\"zip_cache.pkl\", \"rb\") as f:\n",
    "        zip_cache = pickle.load(f)\n",
    "    print(\"Loaded zip cache.\")\n",
    "except FileNotFoundError:\n",
    "    zip_cache = {}\n",
    "    print(\"No zip cache found; starting fresh.\")\n",
    "\n",
    "def get_zip(lat, lon):\n",
    "    \"\"\"\n",
    "    Reverse geocodes a latitude and longitude to retrieve the ZIP code.\n",
    "    Caches results to speed up subsequent lookups.\n",
    "    \"\"\"\n",
    "    key = (lat, lon)\n",
    "    if key in zip_cache:\n",
    "        return zip_cache[key]\n",
    "    \n",
    "    try:\n",
    "        location = geolocator.reverse((lat, lon), exactly_one=True, timeout=10)\n",
    "        address = location.raw.get('address', {})\n",
    "        postal_code = address.get('postcode', \"N/A\")\n",
    "    except Exception as e:\n",
    "        print(f\"Error getting ZIP for {lat}, {lon}: {e}\")\n",
    "        postal_code = \"N/A\"\n",
    "    \n",
    "    zip_cache[key] = postal_code\n",
    "    # Pause to respect the usage policy.\n",
    "    time.sleep(1)\n",
    "    return postal_code\n",
    "\n",
    "# Apply the function to each row in the DataFrame.\n",
    "df['zip'] = df.apply(lambda row: get_zip(row['lat'], row['lon']), axis=1)\n",
    "\n",
    "# Save the updated ZIP cache.\n",
    "with open(\"zip_cache.pkl\", \"wb\") as f:\n",
    "    pickle.dump(zip_cache, f)\n",
    "\n",
    "df.head()\n"
   ]
  },
  {
   "cell_type": "code",
   "execution_count": 12,
   "id": "fd3fd68b",
   "metadata": {
    "execution": {
     "iopub.execute_input": "2025-07-16T01:10:22.803601Z",
     "iopub.status.busy": "2025-07-16T01:10:22.803065Z",
     "iopub.status.idle": "2025-07-16T01:10:22.831437Z",
     "shell.execute_reply": "2025-07-16T01:10:22.830816Z"
    },
    "papermill": {
     "duration": 0.037783,
     "end_time": "2025-07-16T01:10:22.832437",
     "exception": false,
     "start_time": "2025-07-16T01:10:22.794654",
     "status": "completed"
    },
    "tags": []
   },
   "outputs": [
    {
     "name": "stdout",
     "output_type": "stream",
     "text": [
      "                  MissingCount  MissingPercentage\n",
      "RecordID                     0               0.00\n",
      "Offense                      0               0.00\n",
      "IncidentID                   0               0.00\n",
      "BlockNumber                  0               0.00\n",
      "StreetName                   0               0.00\n",
      "Agency                       0               0.00\n",
      "HourReported                 0               0.00\n",
      "ReportingOfficer            17               0.07\n",
      "Date                         0               0.00\n",
      "DateString                   0               0.00\n",
      "DayOfWeek                    0               0.00\n",
      "Weekend                      0               0.00\n",
      "Season                       0               0.00\n",
      "HourAMPM                     0               0.00\n",
      "TimeOfDay                    0               0.00\n",
      "FullStreet                   0               0.00\n",
      "lat                         55               0.22\n",
      "lon                         55               0.22\n",
      "neighborhood                 0               0.00\n",
      "zip                          0               0.00\n"
     ]
    }
   ],
   "source": [
    "missing_info = missing_percentage(df)\n",
    "print(missing_info)\n"
   ]
  },
  {
   "cell_type": "code",
   "execution_count": 13,
   "id": "a618da51",
   "metadata": {
    "execution": {
     "iopub.execute_input": "2025-07-16T01:10:22.849170Z",
     "iopub.status.busy": "2025-07-16T01:10:22.848688Z",
     "iopub.status.idle": "2025-07-16T01:10:22.876588Z",
     "shell.execute_reply": "2025-07-16T01:10:22.876043Z"
    },
    "papermill": {
     "duration": 0.037293,
     "end_time": "2025-07-16T01:10:22.877645",
     "exception": false,
     "start_time": "2025-07-16T01:10:22.840352",
     "status": "completed"
    },
    "tags": []
   },
   "outputs": [
    {
     "name": "stdout",
     "output_type": "stream",
     "text": [
      "<class 'pandas.core.frame.DataFrame'>\n",
      "RangeIndex: 25525 entries, 0 to 25524\n",
      "Data columns (total 20 columns):\n",
      " #   Column            Non-Null Count  Dtype         \n",
      "---  ------            --------------  -----         \n",
      " 0   RecordID          25525 non-null  int64         \n",
      " 1   Offense           25525 non-null  object        \n",
      " 2   IncidentID        25525 non-null  object        \n",
      " 3   BlockNumber       25525 non-null  object        \n",
      " 4   StreetName        25525 non-null  object        \n",
      " 5   Agency            25525 non-null  object        \n",
      " 6   HourReported      25525 non-null  object        \n",
      " 7   ReportingOfficer  25508 non-null  object        \n",
      " 8   Date              25525 non-null  datetime64[ns]\n",
      " 9   DateString        25525 non-null  object        \n",
      " 10  DayOfWeek         25525 non-null  object        \n",
      " 11  Weekend           25525 non-null  bool          \n",
      " 12  Season            25525 non-null  object        \n",
      " 13  HourAMPM          25525 non-null  object        \n",
      " 14  TimeOfDay         25525 non-null  object        \n",
      " 15  FullStreet        25525 non-null  object        \n",
      " 16  lat               25470 non-null  float64       \n",
      " 17  lon               25470 non-null  float64       \n",
      " 18  neighborhood      25525 non-null  object        \n",
      " 19  zip               25525 non-null  object        \n",
      "dtypes: bool(1), datetime64[ns](1), float64(2), int64(1), object(15)\n",
      "memory usage: 3.7+ MB\n"
     ]
    }
   ],
   "source": [
    "df.info()"
   ]
  },
  {
   "cell_type": "code",
   "execution_count": 14,
   "id": "d913bf2f",
   "metadata": {
    "execution": {
     "iopub.execute_input": "2025-07-16T01:10:22.894680Z",
     "iopub.status.busy": "2025-07-16T01:10:22.894142Z",
     "iopub.status.idle": "2025-07-16T01:10:22.937966Z",
     "shell.execute_reply": "2025-07-16T01:10:22.937255Z"
    },
    "papermill": {
     "duration": 0.053435,
     "end_time": "2025-07-16T01:10:22.939010",
     "exception": false,
     "start_time": "2025-07-16T01:10:22.885575",
     "status": "completed"
    },
    "tags": []
   },
   "outputs": [
    {
     "data": {
      "text/html": [
       "<div>\n",
       "<style scoped>\n",
       "    .dataframe tbody tr th:only-of-type {\n",
       "        vertical-align: middle;\n",
       "    }\n",
       "\n",
       "    .dataframe tbody tr th {\n",
       "        vertical-align: top;\n",
       "    }\n",
       "\n",
       "    .dataframe thead th {\n",
       "        text-align: right;\n",
       "    }\n",
       "</style>\n",
       "<table border=\"1\" class=\"dataframe\">\n",
       "  <thead>\n",
       "    <tr style=\"text-align: right;\">\n",
       "      <th></th>\n",
       "      <th>RecordID</th>\n",
       "      <th>Offense</th>\n",
       "      <th>IncidentID</th>\n",
       "      <th>Agency</th>\n",
       "      <th>ReportingOfficer</th>\n",
       "      <th>Date</th>\n",
       "      <th>DayOfWeek</th>\n",
       "      <th>Weekend</th>\n",
       "      <th>Season</th>\n",
       "      <th>TimeOfDay</th>\n",
       "      <th>FullStreet</th>\n",
       "      <th>lat</th>\n",
       "      <th>lon</th>\n",
       "      <th>neighborhood</th>\n",
       "      <th>zip</th>\n",
       "    </tr>\n",
       "  </thead>\n",
       "  <tbody>\n",
       "    <tr>\n",
       "      <th>0</th>\n",
       "      <td>1</td>\n",
       "      <td>Vandalism</td>\n",
       "      <td>202500024563</td>\n",
       "      <td>CPD</td>\n",
       "      <td>Brannon, Devin</td>\n",
       "      <td>2025-07-13 16:12:32</td>\n",
       "      <td>Sunday</td>\n",
       "      <td>True</td>\n",
       "      <td>Summer</td>\n",
       "      <td>Afternoon</td>\n",
       "      <td>1100 PRESTON AVE</td>\n",
       "      <td>38.041973</td>\n",
       "      <td>-78.491996</td>\n",
       "      <td>Barracks Rugby</td>\n",
       "      <td>22908</td>\n",
       "    </tr>\n",
       "    <tr>\n",
       "      <th>1</th>\n",
       "      <td>2</td>\n",
       "      <td>Lost/FoundProperty</td>\n",
       "      <td>202500024564</td>\n",
       "      <td>CPD</td>\n",
       "      <td>Lowry, Ryan</td>\n",
       "      <td>2025-07-13 16:11:59</td>\n",
       "      <td>Sunday</td>\n",
       "      <td>True</td>\n",
       "      <td>Summer</td>\n",
       "      <td>Afternoon</td>\n",
       "      <td>1800 JEFFERSON PARK AVE, 19</td>\n",
       "      <td>N/A</td>\n",
       "      <td>N/A</td>\n",
       "      <td>N/A</td>\n",
       "      <td>N/A</td>\n",
       "    </tr>\n",
       "    <tr>\n",
       "      <th>2</th>\n",
       "      <td>3</td>\n",
       "      <td>Assault Simple</td>\n",
       "      <td>202500024547</td>\n",
       "      <td>CPD</td>\n",
       "      <td>Kirby, Tyree</td>\n",
       "      <td>2025-07-13 13:24:09</td>\n",
       "      <td>Sunday</td>\n",
       "      <td>True</td>\n",
       "      <td>Summer</td>\n",
       "      <td>Afternoon</td>\n",
       "      <td>700 MADISON AVE, A</td>\n",
       "      <td>38.041086</td>\n",
       "      <td>-78.495347</td>\n",
       "      <td>Venable</td>\n",
       "      <td>22903</td>\n",
       "    </tr>\n",
       "    <tr>\n",
       "      <th>3</th>\n",
       "      <td>4</td>\n",
       "      <td>Hit and Run</td>\n",
       "      <td>202500024545</td>\n",
       "      <td>CPD</td>\n",
       "      <td>Brannon, Devin</td>\n",
       "      <td>2025-07-13 13:08:46</td>\n",
       "      <td>Sunday</td>\n",
       "      <td>True</td>\n",
       "      <td>Summer</td>\n",
       "      <td>Afternoon</td>\n",
       "      <td>900 EMMET ST N</td>\n",
       "      <td>38.048586</td>\n",
       "      <td>-78.502983</td>\n",
       "      <td>Venable</td>\n",
       "      <td>22903</td>\n",
       "    </tr>\n",
       "    <tr>\n",
       "      <th>4</th>\n",
       "      <td>5</td>\n",
       "      <td>Larceny - Shoplifitng</td>\n",
       "      <td>202500024537</td>\n",
       "      <td>CPD</td>\n",
       "      <td>Lowry, Ryan</td>\n",
       "      <td>2025-07-13 11:59:23</td>\n",
       "      <td>Sunday</td>\n",
       "      <td>True</td>\n",
       "      <td>Summer</td>\n",
       "      <td>Morning</td>\n",
       "      <td>1100 5TH ST SW</td>\n",
       "      <td>38.01713</td>\n",
       "      <td>-78.497806</td>\n",
       "      <td>Johnson Village</td>\n",
       "      <td>22903</td>\n",
       "    </tr>\n",
       "  </tbody>\n",
       "</table>\n",
       "</div>"
      ],
      "text/plain": [
       "   RecordID                Offense    IncidentID Agency ReportingOfficer  \\\n",
       "0         1              Vandalism  202500024563    CPD   Brannon, Devin   \n",
       "1         2     Lost/FoundProperty  202500024564    CPD      Lowry, Ryan   \n",
       "2         3         Assault Simple  202500024547    CPD     Kirby, Tyree   \n",
       "3         4            Hit and Run  202500024545    CPD   Brannon, Devin   \n",
       "4         5  Larceny - Shoplifitng  202500024537    CPD      Lowry, Ryan   \n",
       "\n",
       "                 Date DayOfWeek  Weekend  Season  TimeOfDay  \\\n",
       "0 2025-07-13 16:12:32    Sunday     True  Summer  Afternoon   \n",
       "1 2025-07-13 16:11:59    Sunday     True  Summer  Afternoon   \n",
       "2 2025-07-13 13:24:09    Sunday     True  Summer  Afternoon   \n",
       "3 2025-07-13 13:08:46    Sunday     True  Summer  Afternoon   \n",
       "4 2025-07-13 11:59:23    Sunday     True  Summer    Morning   \n",
       "\n",
       "                    FullStreet        lat        lon     neighborhood    zip  \n",
       "0             1100 PRESTON AVE  38.041973 -78.491996   Barracks Rugby  22908  \n",
       "1  1800 JEFFERSON PARK AVE, 19        N/A        N/A              N/A    N/A  \n",
       "2           700 MADISON AVE, A  38.041086 -78.495347          Venable  22903  \n",
       "3               900 EMMET ST N  38.048586 -78.502983          Venable  22903  \n",
       "4               1100 5TH ST SW   38.01713 -78.497806  Johnson Village  22903  "
      ]
     },
     "execution_count": 14,
     "metadata": {},
     "output_type": "execute_result"
    }
   ],
   "source": [
    "# Now drop the original BlockNumber and StreetName columns\n",
    "df.drop(columns=['BlockNumber', 'StreetName','HourAMPM','HourReported','DateString'], inplace=True)\n",
    "df[\"zip\"] = df[\"zip\"].astype(str)\n",
    "\n",
    "# Fill all missing values in the DataFrame with \"N/A\"\n",
    "df.replace({None: \"N/A\", np.nan: \"N/A\", \"\": \"N/A\"}, inplace=True)\n",
    "df.head()"
   ]
  },
  {
   "cell_type": "code",
   "execution_count": 15,
   "id": "2f425a7a",
   "metadata": {
    "execution": {
     "iopub.execute_input": "2025-07-16T01:10:22.956542Z",
     "iopub.status.busy": "2025-07-16T01:10:22.956156Z",
     "iopub.status.idle": "2025-07-16T01:10:22.975229Z",
     "shell.execute_reply": "2025-07-16T01:10:22.974531Z"
    },
    "papermill": {
     "duration": 0.028953,
     "end_time": "2025-07-16T01:10:22.976358",
     "exception": false,
     "start_time": "2025-07-16T01:10:22.947405",
     "status": "completed"
    },
    "tags": []
   },
   "outputs": [
    {
     "name": "stdout",
     "output_type": "stream",
     "text": [
      "                  MissingCount  MissingPercentage\n",
      "RecordID                     0                0.0\n",
      "Offense                      0                0.0\n",
      "IncidentID                   0                0.0\n",
      "Agency                       0                0.0\n",
      "ReportingOfficer             0                0.0\n",
      "Date                         0                0.0\n",
      "DayOfWeek                    0                0.0\n",
      "Weekend                      0                0.0\n",
      "Season                       0                0.0\n",
      "TimeOfDay                    0                0.0\n",
      "FullStreet                   0                0.0\n",
      "lat                          0                0.0\n",
      "lon                          0                0.0\n",
      "neighborhood                 0                0.0\n",
      "zip                          0                0.0\n"
     ]
    }
   ],
   "source": [
    "missing_info = missing_percentage(df)\n",
    "print(missing_info)"
   ]
  },
  {
   "cell_type": "code",
   "execution_count": 16,
   "id": "5e10f87e",
   "metadata": {
    "execution": {
     "iopub.execute_input": "2025-07-16T01:10:22.993659Z",
     "iopub.status.busy": "2025-07-16T01:10:22.993266Z",
     "iopub.status.idle": "2025-07-16T01:10:22.997519Z",
     "shell.execute_reply": "2025-07-16T01:10:22.996993Z"
    },
    "papermill": {
     "duration": 0.014001,
     "end_time": "2025-07-16T01:10:22.998528",
     "exception": false,
     "start_time": "2025-07-16T01:10:22.984527",
     "status": "completed"
    },
    "tags": []
   },
   "outputs": [
    {
     "data": {
      "text/plain": [
       "Index(['RecordID', 'Offense', 'IncidentID', 'Agency', 'ReportingOfficer',\n",
       "       'Date', 'DayOfWeek', 'Weekend', 'Season', 'TimeOfDay', 'FullStreet',\n",
       "       'lat', 'lon', 'neighborhood', 'zip'],\n",
       "      dtype='object')"
      ]
     },
     "execution_count": 16,
     "metadata": {},
     "output_type": "execute_result"
    }
   ],
   "source": [
    "df.columns"
   ]
  },
  {
   "cell_type": "code",
   "execution_count": 17,
   "id": "d5187e56",
   "metadata": {
    "execution": {
     "iopub.execute_input": "2025-07-16T01:10:23.015528Z",
     "iopub.status.busy": "2025-07-16T01:10:23.015140Z",
     "iopub.status.idle": "2025-07-16T01:10:23.034534Z",
     "shell.execute_reply": "2025-07-16T01:10:23.033999Z"
    },
    "papermill": {
     "duration": 0.028987,
     "end_time": "2025-07-16T01:10:23.035517",
     "exception": false,
     "start_time": "2025-07-16T01:10:23.006530",
     "status": "completed"
    },
    "tags": []
   },
   "outputs": [
    {
     "name": "stdout",
     "output_type": "stream",
     "text": [
      "<class 'pandas.core.frame.DataFrame'>\n",
      "RangeIndex: 25525 entries, 0 to 25524\n",
      "Data columns (total 15 columns):\n",
      " #   Column            Non-Null Count  Dtype         \n",
      "---  ------            --------------  -----         \n",
      " 0   RecordID          25525 non-null  int64         \n",
      " 1   Offense           25525 non-null  object        \n",
      " 2   IncidentID        25525 non-null  object        \n",
      " 3   Agency            25525 non-null  object        \n",
      " 4   ReportingOfficer  25525 non-null  object        \n",
      " 5   Date              25525 non-null  datetime64[ns]\n",
      " 6   DayOfWeek         25525 non-null  object        \n",
      " 7   Weekend           25525 non-null  bool          \n",
      " 8   Season            25525 non-null  object        \n",
      " 9   TimeOfDay         25525 non-null  object        \n",
      " 10  FullStreet        25525 non-null  object        \n",
      " 11  lat               25525 non-null  object        \n",
      " 12  lon               25525 non-null  object        \n",
      " 13  neighborhood      25525 non-null  object        \n",
      " 14  zip               25525 non-null  object        \n",
      "dtypes: bool(1), datetime64[ns](1), int64(1), object(12)\n",
      "memory usage: 2.8+ MB\n"
     ]
    }
   ],
   "source": [
    "df.info()"
   ]
  },
  {
   "cell_type": "markdown",
   "id": "01b5d964",
   "metadata": {
    "papermill": {
     "duration": 0.008173,
     "end_time": "2025-07-16T01:10:23.051929",
     "exception": false,
     "start_time": "2025-07-16T01:10:23.043756",
     "status": "completed"
    },
    "tags": []
   },
   "source": [
    "### Export Clean Data"
   ]
  },
  {
   "cell_type": "code",
   "execution_count": 18,
   "id": "511131d0",
   "metadata": {
    "execution": {
     "iopub.execute_input": "2025-07-16T01:10:23.069496Z",
     "iopub.status.busy": "2025-07-16T01:10:23.069078Z",
     "iopub.status.idle": "2025-07-16T01:10:32.288571Z",
     "shell.execute_reply": "2025-07-16T01:10:32.287983Z"
    },
    "papermill": {
     "duration": 9.229431,
     "end_time": "2025-07-16T01:10:32.289616",
     "exception": false,
     "start_time": "2025-07-16T01:10:23.060185",
     "status": "completed"
    },
    "tags": []
   },
   "outputs": [
    {
     "name": "stdout",
     "output_type": "stream",
     "text": [
      "Project Root: /home/runner/work/crime-data/crime-data\n"
     ]
    },
    {
     "name": "stdout",
     "output_type": "stream",
     "text": [
      "Data saved to: /home/runner/work/crime-data/crime-data/data/charlottesville_crime_incidents.csv\n"
     ]
    },
    {
     "name": "stdout",
     "output_type": "stream",
     "text": [
      "Excel saved to: /home/runner/work/crime-data/crime-data/data/charlottesville_crime_incidents.xlsx\n"
     ]
    }
   ],
   "source": [
    "# Determine the project root (assuming papermill is run from the repository root)\n",
    "project_root = os.getcwd()\n",
    "print(\"Project Root:\", project_root)\n",
    "\n",
    "# Set the data directory within the project root\n",
    "data_dir = os.path.join(project_root, \"data\")\n",
    "\n",
    "# Ensure the \"data\" directory exists (create it if it doesn't)\n",
    "if not os.path.exists(data_dir):\n",
    "    os.makedirs(data_dir)\n",
    "\n",
    "# Export the DataFrame to CSV in the \"data\" folder located in the project root\n",
    "csv_path = os.path.join(data_dir, \"charlottesville_crime_incidents.csv\")\n",
    "df.to_csv(csv_path, index=False)\n",
    "print(\"Data saved to:\", csv_path)\n",
    "\n",
    "# Construct the path to your Excel file\n",
    "excel_path = os.path.join(data_dir, \"charlottesville_crime_incidents.xlsx\")\n",
    "\n",
    "# Export the DataFrame to Excel\n",
    "df.to_excel(excel_path, index=False)\n",
    "print(\"Excel saved to:\", excel_path)\n"
   ]
  }
 ],
 "metadata": {
  "kernelspec": {
   "display_name": "Python 3",
   "language": "python",
   "name": "python3"
  },
  "language_info": {
   "codemirror_mode": {
    "name": "ipython",
    "version": 3
   },
   "file_extension": ".py",
   "mimetype": "text/x-python",
   "name": "python",
   "nbconvert_exporter": "python",
   "pygments_lexer": "ipython3",
   "version": "3.9.23"
  },
  "papermill": {
   "default_parameters": {},
   "duration": 138.279725,
   "end_time": "2025-07-16T01:10:32.713980",
   "environment_variables": {},
   "exception": null,
   "input_path": "notebook/Crime Data.ipynb",
   "output_path": "notebook/Crime Data_output.ipynb",
   "parameters": {},
   "start_time": "2025-07-16T01:08:14.434255",
   "version": "2.6.0"
  }
 },
 "nbformat": 4,
 "nbformat_minor": 5
}