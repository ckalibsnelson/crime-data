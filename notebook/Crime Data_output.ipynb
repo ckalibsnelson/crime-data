{
 "cells": [
  {
   "cell_type": "markdown",
   "id": "64d2f63b",
   "metadata": {
    "papermill": {
     "duration": 0.006216,
     "end_time": "2025-05-30T01:02:24.856954",
     "exception": false,
     "start_time": "2025-05-30T01:02:24.850738",
     "status": "completed"
    },
    "tags": []
   },
   "source": [
    "# Charlottesville Open Data Porttal: Crime Data"
   ]
  },
  {
   "cell_type": "markdown",
   "id": "db7f8e21",
   "metadata": {
    "papermill": {
     "duration": 0.005004,
     "end_time": "2025-05-30T01:02:24.867561",
     "exception": false,
     "start_time": "2025-05-30T01:02:24.862557",
     "status": "completed"
    },
    "tags": []
   },
   "source": [
    "## Import Relevant Librarires & Set WD"
   ]
  },
  {
   "cell_type": "code",
   "execution_count": 1,
   "id": "4e11859b",
   "metadata": {
    "execution": {
     "iopub.execute_input": "2025-05-30T01:02:24.879286Z",
     "iopub.status.busy": "2025-05-30T01:02:24.878778Z",
     "iopub.status.idle": "2025-05-30T01:02:25.503527Z",
     "shell.execute_reply": "2025-05-30T01:02:25.502794Z"
    },
    "papermill": {
     "duration": 0.632224,
     "end_time": "2025-05-30T01:02:25.504914",
     "exception": false,
     "start_time": "2025-05-30T01:02:24.872690",
     "status": "completed"
    },
    "tags": []
   },
   "outputs": [],
   "source": [
    "import requests\n",
    "import pandas as pd\n",
    "import numpy as np\n",
    "import pickle\n",
    "import googlemaps\n",
    "import plotly.express as px\n",
    "from geopy.geocoders import Nominatim\n",
    "import time\n",
    "from dotenv import load_dotenv\n",
    "import os\n",
    "\n",
    "env_path = os.path.join(\"..\", \".env\")\n",
    "#print(\"Looking for .env file at:\", os.path.abspath(env_path))\n",
    "load_dotenv(dotenv_path=env_path)\n",
    "\n",
    "# Retrieve the variables\n",
    "GOOGLE_API_KEY = os.getenv(\"GOOGLE_API_KEY\")\n",
    "WORKING_DIR = os.getenv(\"WORKING_DIR\")\n",
    "\n",
    "if GOOGLE_API_KEY is None or WORKING_DIR is None:\n",
    "    raise RuntimeError(\"No configuration found. Please ensure that your .env file exists with the required variables, or create a local config.py file.\")\n",
    "\n",
    "#print(\"Google API Key:\", GOOGLE_API_KEY)\n",
    "#print(\"Working Directory:\", WORKING_DIR)"
   ]
  },
  {
   "cell_type": "markdown",
   "id": "c3ce0e12",
   "metadata": {
    "papermill": {
     "duration": 0.00509,
     "end_time": "2025-05-30T01:02:25.515568",
     "exception": false,
     "start_time": "2025-05-30T01:02:25.510478",
     "status": "completed"
    },
    "tags": []
   },
   "source": [
    "## Import Data\n",
    "\n",
    "URL: https://opendata.charlottesville.org/datasets/charlottesville::crime-data/about"
   ]
  },
  {
   "cell_type": "code",
   "execution_count": 2,
   "id": "a9775abc",
   "metadata": {
    "execution": {
     "iopub.execute_input": "2025-05-30T01:02:25.527887Z",
     "iopub.status.busy": "2025-05-30T01:02:25.527205Z",
     "iopub.status.idle": "2025-05-30T01:03:25.234336Z",
     "shell.execute_reply": "2025-05-30T01:03:25.233545Z"
    },
    "papermill": {
     "duration": 59.741725,
     "end_time": "2025-05-30T01:03:25.263079",
     "exception": false,
     "start_time": "2025-05-30T01:02:25.521354",
     "status": "completed"
    },
    "tags": []
   },
   "outputs": [
    {
     "name": "stdout",
     "output_type": "stream",
     "text": [
      "Total records imported: 25430\n"
     ]
    }
   ],
   "source": [
    "# Define the endpoint and initial parameters.\n",
    "url = \"https://gisweb.charlottesville.org/arcgis/rest/services/OpenData_2/MapServer/6/query\"\n",
    "params = {\n",
    "    \"where\": \"1=1\",\n",
    "    \"outFields\": \"*\",\n",
    "    \"outSR\": 4326,\n",
    "    \"f\": \"json\",\n",
    "    \"resultOffset\": 0,       # Starting index for results\n",
    "    \"resultRecordCount\": 10000  # Maximum records per batch (if allowed by the API)\n",
    "}\n",
    "\n",
    "records = []\n",
    "\n",
    "while True:\n",
    "    response = requests.get(url, params=params)\n",
    "    response.raise_for_status()\n",
    "    data = response.json()\n",
    "    \n",
    "    # Get the current batch of features.\n",
    "    features = data.get(\"features\", [])\n",
    "    if not features:\n",
    "        break\n",
    "\n",
    "    # Extract the attributes from the features.\n",
    "    batch_records = [feature.get(\"attributes\", {}) for feature in features]\n",
    "    records.extend(batch_records)\n",
    "    \n",
    "    # If the batch size is less than the requested count, we reached the end.\n",
    "    if len(features) < params[\"resultRecordCount\"]:\n",
    "        break\n",
    "\n",
    "    # Update the resultOffset for the next batch.\n",
    "    params[\"resultOffset\"] += params[\"resultRecordCount\"]\n",
    "\n",
    "# Create a DataFrame from the combined records.\n",
    "df = pd.DataFrame(records)\n",
    "print(\"Total records imported:\", len(df))\n"
   ]
  },
  {
   "cell_type": "code",
   "execution_count": 3,
   "id": "e6b3c840",
   "metadata": {
    "execution": {
     "iopub.execute_input": "2025-05-30T01:03:25.274990Z",
     "iopub.status.busy": "2025-05-30T01:03:25.274533Z",
     "iopub.status.idle": "2025-05-30T01:03:25.286813Z",
     "shell.execute_reply": "2025-05-30T01:03:25.286264Z"
    },
    "papermill": {
     "duration": 0.019322,
     "end_time": "2025-05-30T01:03:25.287829",
     "exception": false,
     "start_time": "2025-05-30T01:03:25.268507",
     "status": "completed"
    },
    "tags": []
   },
   "outputs": [
    {
     "data": {
      "text/html": [
       "<div>\n",
       "<style scoped>\n",
       "    .dataframe tbody tr th:only-of-type {\n",
       "        vertical-align: middle;\n",
       "    }\n",
       "\n",
       "    .dataframe tbody tr th {\n",
       "        vertical-align: top;\n",
       "    }\n",
       "\n",
       "    .dataframe thead th {\n",
       "        text-align: right;\n",
       "    }\n",
       "</style>\n",
       "<table border=\"1\" class=\"dataframe\">\n",
       "  <thead>\n",
       "    <tr style=\"text-align: right;\">\n",
       "      <th></th>\n",
       "      <th>RecordID</th>\n",
       "      <th>Offense</th>\n",
       "      <th>IncidentID</th>\n",
       "      <th>BlockNumber</th>\n",
       "      <th>StreetName</th>\n",
       "      <th>Agency</th>\n",
       "      <th>DateReported</th>\n",
       "      <th>HourReported</th>\n",
       "      <th>ReportingOfficer</th>\n",
       "    </tr>\n",
       "  </thead>\n",
       "  <tbody>\n",
       "    <tr>\n",
       "      <th>0</th>\n",
       "      <td>1</td>\n",
       "      <td>Larceny - Shoplifitng</td>\n",
       "      <td>202500018070</td>\n",
       "      <td>200</td>\n",
       "      <td>E MAIN ST</td>\n",
       "      <td>CPD</td>\n",
       "      <td>1748383139000</td>\n",
       "      <td>1758</td>\n",
       "      <td>Vlasis, Christopher</td>\n",
       "    </tr>\n",
       "    <tr>\n",
       "      <th>1</th>\n",
       "      <td>2</td>\n",
       "      <td>Larceny - Theft from Building</td>\n",
       "      <td>202500018053</td>\n",
       "      <td>1000</td>\n",
       "      <td>1ST ST S, 202</td>\n",
       "      <td>CPD</td>\n",
       "      <td>1748375237000</td>\n",
       "      <td>1547</td>\n",
       "      <td>Eckenroth, Rachel</td>\n",
       "    </tr>\n",
       "    <tr>\n",
       "      <th>2</th>\n",
       "      <td>3</td>\n",
       "      <td>Vandalism</td>\n",
       "      <td>202500018043</td>\n",
       "      <td>800</td>\n",
       "      <td>HARDY DR, E</td>\n",
       "      <td>CPD</td>\n",
       "      <td>1748373200000</td>\n",
       "      <td>1513</td>\n",
       "      <td>O'Briant, Landon</td>\n",
       "    </tr>\n",
       "    <tr>\n",
       "      <th>3</th>\n",
       "      <td>4</td>\n",
       "      <td>Hit and Run</td>\n",
       "      <td>202500018039</td>\n",
       "      <td>1200</td>\n",
       "      <td>EMMET ST N, 110</td>\n",
       "      <td>CPD</td>\n",
       "      <td>1748370745000</td>\n",
       "      <td>1432</td>\n",
       "      <td>Brannon, Devin</td>\n",
       "    </tr>\n",
       "    <tr>\n",
       "      <th>4</th>\n",
       "      <td>5</td>\n",
       "      <td>Assist Citizen - Misc</td>\n",
       "      <td>202500018027</td>\n",
       "      <td>400</td>\n",
       "      <td>E HIGH ST</td>\n",
       "      <td>CPD</td>\n",
       "      <td>1748366737000</td>\n",
       "      <td>1325</td>\n",
       "      <td>Wisser, Shawn</td>\n",
       "    </tr>\n",
       "  </tbody>\n",
       "</table>\n",
       "</div>"
      ],
      "text/plain": [
       "   RecordID                        Offense    IncidentID BlockNumber  \\\n",
       "0         1          Larceny - Shoplifitng  202500018070         200   \n",
       "1         2  Larceny - Theft from Building  202500018053        1000   \n",
       "2         3                      Vandalism  202500018043         800   \n",
       "3         4                    Hit and Run  202500018039        1200   \n",
       "4         5          Assist Citizen - Misc  202500018027         400   \n",
       "\n",
       "        StreetName Agency   DateReported HourReported     ReportingOfficer  \n",
       "0        E MAIN ST    CPD  1748383139000         1758  Vlasis, Christopher  \n",
       "1    1ST ST S, 202    CPD  1748375237000         1547    Eckenroth, Rachel  \n",
       "2      HARDY DR, E    CPD  1748373200000         1513     O'Briant, Landon  \n",
       "3  EMMET ST N, 110    CPD  1748370745000         1432       Brannon, Devin  \n",
       "4        E HIGH ST    CPD  1748366737000         1325        Wisser, Shawn  "
      ]
     },
     "execution_count": 3,
     "metadata": {},
     "output_type": "execute_result"
    }
   ],
   "source": [
    "df.head()"
   ]
  },
  {
   "cell_type": "code",
   "execution_count": 4,
   "id": "835c97f5",
   "metadata": {
    "execution": {
     "iopub.execute_input": "2025-05-30T01:03:25.299630Z",
     "iopub.status.busy": "2025-05-30T01:03:25.299141Z",
     "iopub.status.idle": "2025-05-30T01:03:25.303562Z",
     "shell.execute_reply": "2025-05-30T01:03:25.303017Z"
    },
    "papermill": {
     "duration": 0.011359,
     "end_time": "2025-05-30T01:03:25.304537",
     "exception": false,
     "start_time": "2025-05-30T01:03:25.293178",
     "status": "completed"
    },
    "tags": []
   },
   "outputs": [
    {
     "data": {
      "text/plain": [
       "Index(['RecordID', 'Offense', 'IncidentID', 'BlockNumber', 'StreetName',\n",
       "       'Agency', 'DateReported', 'HourReported', 'ReportingOfficer'],\n",
       "      dtype='object')"
      ]
     },
     "execution_count": 4,
     "metadata": {},
     "output_type": "execute_result"
    }
   ],
   "source": [
    "df.columns"
   ]
  },
  {
   "cell_type": "code",
   "execution_count": 5,
   "id": "63fd7ca2",
   "metadata": {
    "execution": {
     "iopub.execute_input": "2025-05-30T01:03:25.316171Z",
     "iopub.status.busy": "2025-05-30T01:03:25.315980Z",
     "iopub.status.idle": "2025-05-30T01:03:25.338181Z",
     "shell.execute_reply": "2025-05-30T01:03:25.337656Z"
    },
    "papermill": {
     "duration": 0.029215,
     "end_time": "2025-05-30T01:03:25.339178",
     "exception": false,
     "start_time": "2025-05-30T01:03:25.309963",
     "status": "completed"
    },
    "tags": []
   },
   "outputs": [
    {
     "name": "stdout",
     "output_type": "stream",
     "text": [
      "<class 'pandas.core.frame.DataFrame'>\n",
      "RangeIndex: 25430 entries, 0 to 25429\n",
      "Data columns (total 9 columns):\n",
      " #   Column            Non-Null Count  Dtype \n",
      "---  ------            --------------  ----- \n",
      " 0   RecordID          25430 non-null  int64 \n",
      " 1   Offense           25430 non-null  object\n",
      " 2   IncidentID        25430 non-null  object\n",
      " 3   BlockNumber       25430 non-null  object\n",
      " 4   StreetName        25430 non-null  object\n",
      " 5   Agency            25430 non-null  object\n",
      " 6   DateReported      25430 non-null  int64 \n",
      " 7   HourReported      25430 non-null  object\n",
      " 8   ReportingOfficer  25413 non-null  object\n",
      "dtypes: int64(2), object(7)\n",
      "memory usage: 1.7+ MB\n"
     ]
    }
   ],
   "source": [
    "df.info()"
   ]
  },
  {
   "cell_type": "markdown",
   "id": "9f87c50c",
   "metadata": {
    "papermill": {
     "duration": 0.005538,
     "end_time": "2025-05-30T01:03:25.350354",
     "exception": false,
     "start_time": "2025-05-30T01:03:25.344816",
     "status": "completed"
    },
    "tags": []
   },
   "source": [
    "### Missing Values"
   ]
  },
  {
   "cell_type": "code",
   "execution_count": 6,
   "id": "0fd1b0f1",
   "metadata": {
    "execution": {
     "iopub.execute_input": "2025-05-30T01:03:25.362701Z",
     "iopub.status.busy": "2025-05-30T01:03:25.362064Z",
     "iopub.status.idle": "2025-05-30T01:03:25.381725Z",
     "shell.execute_reply": "2025-05-30T01:03:25.381165Z"
    },
    "papermill": {
     "duration": 0.026802,
     "end_time": "2025-05-30T01:03:25.382657",
     "exception": false,
     "start_time": "2025-05-30T01:03:25.355855",
     "status": "completed"
    },
    "tags": []
   },
   "outputs": [
    {
     "name": "stdout",
     "output_type": "stream",
     "text": [
      "                  MissingCount  MissingPercentage\n",
      "RecordID                     0               0.00\n",
      "Offense                      0               0.00\n",
      "IncidentID                   0               0.00\n",
      "BlockNumber                  0               0.00\n",
      "StreetName                   0               0.00\n",
      "Agency                       0               0.00\n",
      "DateReported                 0               0.00\n",
      "HourReported                 0               0.00\n",
      "ReportingOfficer            17               0.07\n"
     ]
    }
   ],
   "source": [
    "def missing_percentage(df):\n",
    "    \"\"\"\n",
    "    Returns a DataFrame with the count and percentage of missing values for each column.\n",
    "    \n",
    "    Parameters:\n",
    "        df (pd.DataFrame): The input DataFrame.\n",
    "    \n",
    "    Returns:\n",
    "        pd.DataFrame: A DataFrame with columns 'MissingCount' and 'MissingPercentage'.\n",
    "    \"\"\"\n",
    "    total_rows = len(df)\n",
    "    missing_count = df.isnull().sum()\n",
    "    missing_percent = (missing_count / total_rows) * 100\n",
    "    \n",
    "    result = pd.DataFrame({\n",
    "        'MissingCount': missing_count,\n",
    "        'MissingPercentage': missing_percent.round(2)\n",
    "    })\n",
    "    \n",
    "    return result\n",
    "\n",
    "# Example usage:\n",
    "missing_info = missing_percentage(df)\n",
    "print(missing_info)\n"
   ]
  },
  {
   "cell_type": "markdown",
   "id": "8833ed21",
   "metadata": {
    "papermill": {
     "duration": 0.00561,
     "end_time": "2025-05-30T01:03:25.394053",
     "exception": false,
     "start_time": "2025-05-30T01:03:25.388443",
     "status": "completed"
    },
    "tags": []
   },
   "source": [
    "## Data Preparation"
   ]
  },
  {
   "cell_type": "markdown",
   "id": "c4399a5e",
   "metadata": {
    "papermill": {
     "duration": 0.005547,
     "end_time": "2025-05-30T01:03:25.405177",
     "exception": false,
     "start_time": "2025-05-30T01:03:25.399630",
     "status": "completed"
    },
    "tags": []
   },
   "source": [
    "### Data Conversion"
   ]
  },
  {
   "cell_type": "code",
   "execution_count": 7,
   "id": "cde9c4ba",
   "metadata": {
    "execution": {
     "iopub.execute_input": "2025-05-30T01:03:25.417440Z",
     "iopub.status.busy": "2025-05-30T01:03:25.417188Z",
     "iopub.status.idle": "2025-05-30T01:03:25.782584Z",
     "shell.execute_reply": "2025-05-30T01:03:25.781780Z"
    },
    "papermill": {
     "duration": 0.373032,
     "end_time": "2025-05-30T01:03:25.783786",
     "exception": false,
     "start_time": "2025-05-30T01:03:25.410754",
     "status": "completed"
    },
    "tags": []
   },
   "outputs": [
    {
     "data": {
      "text/html": [
       "<div>\n",
       "<style scoped>\n",
       "    .dataframe tbody tr th:only-of-type {\n",
       "        vertical-align: middle;\n",
       "    }\n",
       "\n",
       "    .dataframe tbody tr th {\n",
       "        vertical-align: top;\n",
       "    }\n",
       "\n",
       "    .dataframe thead th {\n",
       "        text-align: right;\n",
       "    }\n",
       "</style>\n",
       "<table border=\"1\" class=\"dataframe\">\n",
       "  <thead>\n",
       "    <tr style=\"text-align: right;\">\n",
       "      <th></th>\n",
       "      <th>RecordID</th>\n",
       "      <th>Offense</th>\n",
       "      <th>IncidentID</th>\n",
       "      <th>BlockNumber</th>\n",
       "      <th>StreetName</th>\n",
       "      <th>Agency</th>\n",
       "      <th>HourReported</th>\n",
       "      <th>ReportingOfficer</th>\n",
       "      <th>Date</th>\n",
       "      <th>DateString</th>\n",
       "      <th>DayOfWeek</th>\n",
       "      <th>Weekend</th>\n",
       "      <th>Season</th>\n",
       "      <th>HourAMPM</th>\n",
       "      <th>TimeOfDay</th>\n",
       "    </tr>\n",
       "  </thead>\n",
       "  <tbody>\n",
       "    <tr>\n",
       "      <th>0</th>\n",
       "      <td>1</td>\n",
       "      <td>Larceny - Shoplifitng</td>\n",
       "      <td>202500018070</td>\n",
       "      <td>200</td>\n",
       "      <td>E MAIN ST</td>\n",
       "      <td>CPD</td>\n",
       "      <td>1758</td>\n",
       "      <td>Vlasis, Christopher</td>\n",
       "      <td>2025-05-27 17:58:59</td>\n",
       "      <td>2025-05-27 05:58:59 PM</td>\n",
       "      <td>Tuesday</td>\n",
       "      <td>False</td>\n",
       "      <td>Spring</td>\n",
       "      <td>05:58 PM</td>\n",
       "      <td>Evening</td>\n",
       "    </tr>\n",
       "    <tr>\n",
       "      <th>1</th>\n",
       "      <td>2</td>\n",
       "      <td>Larceny - Theft from Building</td>\n",
       "      <td>202500018053</td>\n",
       "      <td>1000</td>\n",
       "      <td>1ST ST S, 202</td>\n",
       "      <td>CPD</td>\n",
       "      <td>1547</td>\n",
       "      <td>Eckenroth, Rachel</td>\n",
       "      <td>2025-05-27 15:47:17</td>\n",
       "      <td>2025-05-27 03:47:17 PM</td>\n",
       "      <td>Tuesday</td>\n",
       "      <td>False</td>\n",
       "      <td>Spring</td>\n",
       "      <td>03:47 PM</td>\n",
       "      <td>Afternoon</td>\n",
       "    </tr>\n",
       "    <tr>\n",
       "      <th>2</th>\n",
       "      <td>3</td>\n",
       "      <td>Vandalism</td>\n",
       "      <td>202500018043</td>\n",
       "      <td>800</td>\n",
       "      <td>HARDY DR, E</td>\n",
       "      <td>CPD</td>\n",
       "      <td>1513</td>\n",
       "      <td>O'Briant, Landon</td>\n",
       "      <td>2025-05-27 15:13:20</td>\n",
       "      <td>2025-05-27 03:13:20 PM</td>\n",
       "      <td>Tuesday</td>\n",
       "      <td>False</td>\n",
       "      <td>Spring</td>\n",
       "      <td>03:13 PM</td>\n",
       "      <td>Afternoon</td>\n",
       "    </tr>\n",
       "    <tr>\n",
       "      <th>3</th>\n",
       "      <td>4</td>\n",
       "      <td>Hit and Run</td>\n",
       "      <td>202500018039</td>\n",
       "      <td>1200</td>\n",
       "      <td>EMMET ST N, 110</td>\n",
       "      <td>CPD</td>\n",
       "      <td>1432</td>\n",
       "      <td>Brannon, Devin</td>\n",
       "      <td>2025-05-27 14:32:25</td>\n",
       "      <td>2025-05-27 02:32:25 PM</td>\n",
       "      <td>Tuesday</td>\n",
       "      <td>False</td>\n",
       "      <td>Spring</td>\n",
       "      <td>02:32 PM</td>\n",
       "      <td>Afternoon</td>\n",
       "    </tr>\n",
       "    <tr>\n",
       "      <th>4</th>\n",
       "      <td>5</td>\n",
       "      <td>Assist Citizen - Misc</td>\n",
       "      <td>202500018027</td>\n",
       "      <td>400</td>\n",
       "      <td>E HIGH ST</td>\n",
       "      <td>CPD</td>\n",
       "      <td>1325</td>\n",
       "      <td>Wisser, Shawn</td>\n",
       "      <td>2025-05-27 13:25:37</td>\n",
       "      <td>2025-05-27 01:25:37 PM</td>\n",
       "      <td>Tuesday</td>\n",
       "      <td>False</td>\n",
       "      <td>Spring</td>\n",
       "      <td>01:25 PM</td>\n",
       "      <td>Afternoon</td>\n",
       "    </tr>\n",
       "  </tbody>\n",
       "</table>\n",
       "</div>"
      ],
      "text/plain": [
       "   RecordID                        Offense    IncidentID BlockNumber  \\\n",
       "0         1          Larceny - Shoplifitng  202500018070         200   \n",
       "1         2  Larceny - Theft from Building  202500018053        1000   \n",
       "2         3                      Vandalism  202500018043         800   \n",
       "3         4                    Hit and Run  202500018039        1200   \n",
       "4         5          Assist Citizen - Misc  202500018027         400   \n",
       "\n",
       "        StreetName Agency HourReported     ReportingOfficer  \\\n",
       "0        E MAIN ST    CPD         1758  Vlasis, Christopher   \n",
       "1    1ST ST S, 202    CPD         1547    Eckenroth, Rachel   \n",
       "2      HARDY DR, E    CPD         1513     O'Briant, Landon   \n",
       "3  EMMET ST N, 110    CPD         1432       Brannon, Devin   \n",
       "4        E HIGH ST    CPD         1325        Wisser, Shawn   \n",
       "\n",
       "                 Date              DateString DayOfWeek  Weekend  Season  \\\n",
       "0 2025-05-27 17:58:59  2025-05-27 05:58:59 PM   Tuesday    False  Spring   \n",
       "1 2025-05-27 15:47:17  2025-05-27 03:47:17 PM   Tuesday    False  Spring   \n",
       "2 2025-05-27 15:13:20  2025-05-27 03:13:20 PM   Tuesday    False  Spring   \n",
       "3 2025-05-27 14:32:25  2025-05-27 02:32:25 PM   Tuesday    False  Spring   \n",
       "4 2025-05-27 13:25:37  2025-05-27 01:25:37 PM   Tuesday    False  Spring   \n",
       "\n",
       "   HourAMPM  TimeOfDay  \n",
       "0  05:58 PM    Evening  \n",
       "1  03:47 PM  Afternoon  \n",
       "2  03:13 PM  Afternoon  \n",
       "3  02:32 PM  Afternoon  \n",
       "4  01:25 PM  Afternoon  "
      ]
     },
     "execution_count": 7,
     "metadata": {},
     "output_type": "execute_result"
    }
   ],
   "source": [
    "def convert_and_categorize_datereported(df, col='DateReported'):\n",
    "    \"\"\"\n",
    "    Converts an epoch (in milliseconds) date column into a timezone-aware datetime,\n",
    "    converts it to Eastern Time, and then creates columns for day-of-week, weekend flag,\n",
    "    season, 12-hour formatted time, and time-of-day. Keeps both a real datetime column\n",
    "    (Date) and a string representation (DateString).\n",
    "    \"\"\"\n",
    "    import pandas as pd\n",
    "\n",
    "    # Convert the epoch timestamp to a pandas datetime object as UTC, then convert to US/Eastern.\n",
    "    df[\"DateReported_dt\"] = (\n",
    "        pd.to_datetime(df[col], unit=\"ms\", errors=\"coerce\", utc=True)\n",
    "        .dt.tz_convert(\"US/Eastern\")\n",
    "    )\n",
    "    \n",
    "    # Create a true datetime column (remove timezone if you prefer naive datetime)\n",
    "    df[\"Date\"] = df[\"DateReported_dt\"].dt.tz_localize(None)\n",
    "\n",
    "    # Optionally, create a separate string-formatted column\n",
    "    df[\"DateString\"] = df[\"DateReported_dt\"].dt.strftime(\"%Y-%m-%d %I:%M:%S %p\")\n",
    "    \n",
    "    # DayOfWeek\n",
    "    df[\"DayOfWeek\"] = df[\"DateReported_dt\"].dt.day_name()\n",
    "    \n",
    "    # Weekend\n",
    "    df[\"Weekend\"] = df[\"DayOfWeek\"].isin([\"Saturday\", \"Sunday\"])\n",
    "    \n",
    "    # Helper function to determine the season\n",
    "    def get_season(dt):\n",
    "        month = dt.month\n",
    "        day = dt.day\n",
    "        # Approximate Northern Hemisphere season boundaries:\n",
    "        if (month == 12 and day >= 21) or (month < 3) or (month == 3 and day < 20):\n",
    "            return \"Winter\"\n",
    "        elif (month == 3 and day >= 20) or (month < 6) or (month == 6 and day < 21):\n",
    "            return \"Spring\"\n",
    "        elif (month == 6 and day >= 21) or (month < 9) or (month == 9 and day < 22):\n",
    "            return \"Summer\"\n",
    "        else:\n",
    "            return \"Autumn\"\n",
    "    \n",
    "    df[\"Season\"] = df[\"DateReported_dt\"].apply(get_season)\n",
    "    \n",
    "    # 12-hour formatted time (HourAMPM)\n",
    "    df[\"HourAMPM\"] = df[\"DateReported_dt\"].dt.strftime(\"%I:%M %p\")\n",
    "    \n",
    "    # Extract hour (0-23) for time-of-day\n",
    "    df[\"HourValue\"] = df[\"DateReported_dt\"].dt.hour\n",
    "    \n",
    "    def time_of_day(hour):\n",
    "        if pd.isnull(hour):\n",
    "            return None\n",
    "        if 5 <= hour < 12:\n",
    "            return \"Morning\"\n",
    "        elif 12 <= hour < 17:\n",
    "            return \"Afternoon\"\n",
    "        elif 17 <= hour < 21:\n",
    "            return \"Evening\"\n",
    "        else:\n",
    "            return \"Night\"\n",
    "    \n",
    "    df[\"TimeOfDay\"] = df[\"HourValue\"].apply(time_of_day)\n",
    "    \n",
    "    # Drop columns you no longer need\n",
    "    df.drop(columns=[col, \"DateReported_dt\", \"HourValue\"], inplace=True)\n",
    "    \n",
    "    return df\n",
    "\n",
    "# Example usage:\n",
    "df = convert_and_categorize_datereported(df)\n",
    "df.head()\n"
   ]
  },
  {
   "cell_type": "code",
   "execution_count": 8,
   "id": "d241dc04",
   "metadata": {
    "execution": {
     "iopub.execute_input": "2025-05-30T01:03:25.796721Z",
     "iopub.status.busy": "2025-05-30T01:03:25.796525Z",
     "iopub.status.idle": "2025-05-30T01:03:25.822903Z",
     "shell.execute_reply": "2025-05-30T01:03:25.822364Z"
    },
    "papermill": {
     "duration": 0.03392,
     "end_time": "2025-05-30T01:03:25.823909",
     "exception": false,
     "start_time": "2025-05-30T01:03:25.789989",
     "status": "completed"
    },
    "tags": []
   },
   "outputs": [
    {
     "name": "stdout",
     "output_type": "stream",
     "text": [
      "<class 'pandas.core.frame.DataFrame'>\n",
      "RangeIndex: 25430 entries, 0 to 25429\n",
      "Data columns (total 15 columns):\n",
      " #   Column            Non-Null Count  Dtype         \n",
      "---  ------            --------------  -----         \n",
      " 0   RecordID          25430 non-null  int64         \n",
      " 1   Offense           25430 non-null  object        \n",
      " 2   IncidentID        25430 non-null  object        \n",
      " 3   BlockNumber       25430 non-null  object        \n",
      " 4   StreetName        25430 non-null  object        \n",
      " 5   Agency            25430 non-null  object        \n",
      " 6   HourReported      25430 non-null  object        \n",
      " 7   ReportingOfficer  25413 non-null  object        \n",
      " 8   Date              25430 non-null  datetime64[ns]\n",
      " 9   DateString        25430 non-null  object        \n",
      " 10  DayOfWeek         25430 non-null  object        \n",
      " 11  Weekend           25430 non-null  bool          \n",
      " 12  Season            25430 non-null  object        \n",
      " 13  HourAMPM          25430 non-null  object        \n",
      " 14  TimeOfDay         25430 non-null  object        \n",
      "dtypes: bool(1), datetime64[ns](1), int64(1), object(12)\n",
      "memory usage: 2.7+ MB\n"
     ]
    }
   ],
   "source": [
    "df.info()"
   ]
  },
  {
   "cell_type": "markdown",
   "id": "0b24ea08",
   "metadata": {
    "papermill": {
     "duration": 0.005872,
     "end_time": "2025-05-30T01:03:25.835827",
     "exception": false,
     "start_time": "2025-05-30T01:03:25.829955",
     "status": "completed"
    },
    "tags": []
   },
   "source": [
    "### Coordinates"
   ]
  },
  {
   "cell_type": "code",
   "execution_count": 9,
   "id": "da431c65",
   "metadata": {
    "execution": {
     "iopub.execute_input": "2025-05-30T01:03:25.848740Z",
     "iopub.status.busy": "2025-05-30T01:03:25.848346Z",
     "iopub.status.idle": "2025-05-30T01:03:26.102963Z",
     "shell.execute_reply": "2025-05-30T01:03:26.102371Z"
    },
    "papermill": {
     "duration": 0.262357,
     "end_time": "2025-05-30T01:03:26.104065",
     "exception": false,
     "start_time": "2025-05-30T01:03:25.841708",
     "status": "completed"
    },
    "tags": []
   },
   "outputs": [
    {
     "name": "stdout",
     "output_type": "stream",
     "text": [
      "Loaded geocode cache.\n"
     ]
    },
    {
     "name": "stdout",
     "output_type": "stream",
     "text": [
      "Geocoded 1000 1ST ST S, 202: 38.0204736, -78.4868814\n",
      "Geocode cache updated and saved.\n"
     ]
    },
    {
     "data": {
      "text/html": [
       "<div>\n",
       "<style scoped>\n",
       "    .dataframe tbody tr th:only-of-type {\n",
       "        vertical-align: middle;\n",
       "    }\n",
       "\n",
       "    .dataframe tbody tr th {\n",
       "        vertical-align: top;\n",
       "    }\n",
       "\n",
       "    .dataframe thead th {\n",
       "        text-align: right;\n",
       "    }\n",
       "</style>\n",
       "<table border=\"1\" class=\"dataframe\">\n",
       "  <thead>\n",
       "    <tr style=\"text-align: right;\">\n",
       "      <th></th>\n",
       "      <th>RecordID</th>\n",
       "      <th>Offense</th>\n",
       "      <th>IncidentID</th>\n",
       "      <th>BlockNumber</th>\n",
       "      <th>StreetName</th>\n",
       "      <th>Agency</th>\n",
       "      <th>HourReported</th>\n",
       "      <th>ReportingOfficer</th>\n",
       "      <th>Date</th>\n",
       "      <th>DateString</th>\n",
       "      <th>DayOfWeek</th>\n",
       "      <th>Weekend</th>\n",
       "      <th>Season</th>\n",
       "      <th>HourAMPM</th>\n",
       "      <th>TimeOfDay</th>\n",
       "      <th>FullStreet</th>\n",
       "      <th>lat</th>\n",
       "      <th>lon</th>\n",
       "    </tr>\n",
       "  </thead>\n",
       "  <tbody>\n",
       "    <tr>\n",
       "      <th>0</th>\n",
       "      <td>1</td>\n",
       "      <td>Larceny - Shoplifitng</td>\n",
       "      <td>202500018070</td>\n",
       "      <td>200</td>\n",
       "      <td>E MAIN ST</td>\n",
       "      <td>CPD</td>\n",
       "      <td>1758</td>\n",
       "      <td>Vlasis, Christopher</td>\n",
       "      <td>2025-05-27 17:58:59</td>\n",
       "      <td>2025-05-27 05:58:59 PM</td>\n",
       "      <td>Tuesday</td>\n",
       "      <td>False</td>\n",
       "      <td>Spring</td>\n",
       "      <td>05:58 PM</td>\n",
       "      <td>Evening</td>\n",
       "      <td>200 E MAIN ST</td>\n",
       "      <td>38.030572</td>\n",
       "      <td>-78.480764</td>\n",
       "    </tr>\n",
       "    <tr>\n",
       "      <th>1</th>\n",
       "      <td>2</td>\n",
       "      <td>Larceny - Theft from Building</td>\n",
       "      <td>202500018053</td>\n",
       "      <td>1000</td>\n",
       "      <td>1ST ST S, 202</td>\n",
       "      <td>CPD</td>\n",
       "      <td>1547</td>\n",
       "      <td>Eckenroth, Rachel</td>\n",
       "      <td>2025-05-27 15:47:17</td>\n",
       "      <td>2025-05-27 03:47:17 PM</td>\n",
       "      <td>Tuesday</td>\n",
       "      <td>False</td>\n",
       "      <td>Spring</td>\n",
       "      <td>03:47 PM</td>\n",
       "      <td>Afternoon</td>\n",
       "      <td>1000 1ST ST S, 202</td>\n",
       "      <td>38.020474</td>\n",
       "      <td>-78.486881</td>\n",
       "    </tr>\n",
       "    <tr>\n",
       "      <th>2</th>\n",
       "      <td>3</td>\n",
       "      <td>Vandalism</td>\n",
       "      <td>202500018043</td>\n",
       "      <td>800</td>\n",
       "      <td>HARDY DR, E</td>\n",
       "      <td>CPD</td>\n",
       "      <td>1513</td>\n",
       "      <td>O'Briant, Landon</td>\n",
       "      <td>2025-05-27 15:13:20</td>\n",
       "      <td>2025-05-27 03:13:20 PM</td>\n",
       "      <td>Tuesday</td>\n",
       "      <td>False</td>\n",
       "      <td>Spring</td>\n",
       "      <td>03:13 PM</td>\n",
       "      <td>Afternoon</td>\n",
       "      <td>800 HARDY DR, E</td>\n",
       "      <td>38.033239</td>\n",
       "      <td>-78.490398</td>\n",
       "    </tr>\n",
       "    <tr>\n",
       "      <th>3</th>\n",
       "      <td>4</td>\n",
       "      <td>Hit and Run</td>\n",
       "      <td>202500018039</td>\n",
       "      <td>1200</td>\n",
       "      <td>EMMET ST N, 110</td>\n",
       "      <td>CPD</td>\n",
       "      <td>1432</td>\n",
       "      <td>Brannon, Devin</td>\n",
       "      <td>2025-05-27 14:32:25</td>\n",
       "      <td>2025-05-27 02:32:25 PM</td>\n",
       "      <td>Tuesday</td>\n",
       "      <td>False</td>\n",
       "      <td>Spring</td>\n",
       "      <td>02:32 PM</td>\n",
       "      <td>Afternoon</td>\n",
       "      <td>1200 EMMET ST N, 110</td>\n",
       "      <td>38.052917</td>\n",
       "      <td>-78.498591</td>\n",
       "    </tr>\n",
       "    <tr>\n",
       "      <th>4</th>\n",
       "      <td>5</td>\n",
       "      <td>Assist Citizen - Misc</td>\n",
       "      <td>202500018027</td>\n",
       "      <td>400</td>\n",
       "      <td>E HIGH ST</td>\n",
       "      <td>CPD</td>\n",
       "      <td>1325</td>\n",
       "      <td>Wisser, Shawn</td>\n",
       "      <td>2025-05-27 13:25:37</td>\n",
       "      <td>2025-05-27 01:25:37 PM</td>\n",
       "      <td>Tuesday</td>\n",
       "      <td>False</td>\n",
       "      <td>Spring</td>\n",
       "      <td>01:25 PM</td>\n",
       "      <td>Afternoon</td>\n",
       "      <td>400 E HIGH ST</td>\n",
       "      <td>38.032316</td>\n",
       "      <td>-78.478176</td>\n",
       "    </tr>\n",
       "  </tbody>\n",
       "</table>\n",
       "</div>"
      ],
      "text/plain": [
       "   RecordID                        Offense    IncidentID BlockNumber  \\\n",
       "0         1          Larceny - Shoplifitng  202500018070         200   \n",
       "1         2  Larceny - Theft from Building  202500018053        1000   \n",
       "2         3                      Vandalism  202500018043         800   \n",
       "3         4                    Hit and Run  202500018039        1200   \n",
       "4         5          Assist Citizen - Misc  202500018027         400   \n",
       "\n",
       "        StreetName Agency HourReported     ReportingOfficer  \\\n",
       "0        E MAIN ST    CPD         1758  Vlasis, Christopher   \n",
       "1    1ST ST S, 202    CPD         1547    Eckenroth, Rachel   \n",
       "2      HARDY DR, E    CPD         1513     O'Briant, Landon   \n",
       "3  EMMET ST N, 110    CPD         1432       Brannon, Devin   \n",
       "4        E HIGH ST    CPD         1325        Wisser, Shawn   \n",
       "\n",
       "                 Date              DateString DayOfWeek  Weekend  Season  \\\n",
       "0 2025-05-27 17:58:59  2025-05-27 05:58:59 PM   Tuesday    False  Spring   \n",
       "1 2025-05-27 15:47:17  2025-05-27 03:47:17 PM   Tuesday    False  Spring   \n",
       "2 2025-05-27 15:13:20  2025-05-27 03:13:20 PM   Tuesday    False  Spring   \n",
       "3 2025-05-27 14:32:25  2025-05-27 02:32:25 PM   Tuesday    False  Spring   \n",
       "4 2025-05-27 13:25:37  2025-05-27 01:25:37 PM   Tuesday    False  Spring   \n",
       "\n",
       "   HourAMPM  TimeOfDay            FullStreet        lat        lon  \n",
       "0  05:58 PM    Evening         200 E MAIN ST  38.030572 -78.480764  \n",
       "1  03:47 PM  Afternoon    1000 1ST ST S, 202  38.020474 -78.486881  \n",
       "2  03:13 PM  Afternoon       800 HARDY DR, E  38.033239 -78.490398  \n",
       "3  02:32 PM  Afternoon  1200 EMMET ST N, 110  38.052917 -78.498591  \n",
       "4  01:25 PM  Afternoon         400 E HIGH ST  38.032316 -78.478176  "
      ]
     },
     "execution_count": 9,
     "metadata": {},
     "output_type": "execute_result"
    }
   ],
   "source": [
    "# Combine BlockNumber and StreetName into a full address string\n",
    "df['FullStreet'] = df['BlockNumber'].astype(str) + \" \" + df['StreetName']\n",
    "\n",
    "# --- Step 1: Setup the Google Maps Client and Cache ---\n",
    "gmaps = googlemaps.Client(key=GOOGLE_API_KEY)\n",
    "\n",
    "# Try to load cached geocoding results if available.\n",
    "try:\n",
    "    with open(\"geocode_cache_google.pkl\", \"rb\") as f:\n",
    "        street_coords = pickle.load(f)\n",
    "    print(\"Loaded geocode cache.\")\n",
    "except FileNotFoundError:\n",
    "    street_coords = {}\n",
    "    print(\"No cache found; starting fresh.\")\n",
    "\n",
    "def geocode_address(address):\n",
    "    try:\n",
    "        # Append city and state to help geocoding\n",
    "        result = gmaps.geocode(f\"{address}, Charlottesville, VA\")\n",
    "        if result:\n",
    "            lat = result[0]['geometry']['location']['lat']\n",
    "            lon = result[0]['geometry']['location']['lng']\n",
    "            return lat, lon\n",
    "    except Exception as e:\n",
    "        print(f\"Error geocoding {address}: {e}\")\n",
    "    return None, None\n",
    "\n",
    "# --- Step 2: Geocode Only New Addresses ---\n",
    "unique_addresses = df['FullStreet'].unique()\n",
    "for address in unique_addresses:\n",
    "    if address not in street_coords:\n",
    "        lat, lon = geocode_address(address)\n",
    "        street_coords[address] = (lat, lon)\n",
    "        print(f\"Geocoded {address}: {lat}, {lon}\")\n",
    "\n",
    "# Save the updated cache to disk.\n",
    "with open(\"geocode_cache_google.pkl\", \"wb\") as f:\n",
    "    pickle.dump(street_coords, f)\n",
    "    print(\"Geocode cache updated and saved.\")\n",
    "\n",
    "# --- Step 3: Map Coordinates Back to DataFrame ---\n",
    "df['lat'] = df['FullStreet'].map(lambda s: street_coords.get(s, (None, None))[0])\n",
    "df['lon'] = df['FullStreet'].map(lambda s: street_coords.get(s, (None, None))[1])\n",
    "\n",
    "df.head()"
   ]
  },
  {
   "cell_type": "markdown",
   "id": "15043477",
   "metadata": {
    "papermill": {
     "duration": 0.006331,
     "end_time": "2025-05-30T01:03:26.116941",
     "exception": false,
     "start_time": "2025-05-30T01:03:26.110610",
     "status": "completed"
    },
    "tags": []
   },
   "source": [
    "### Neighborhood"
   ]
  },
  {
   "cell_type": "code",
   "execution_count": 10,
   "id": "fa94ebb9",
   "metadata": {
    "execution": {
     "iopub.execute_input": "2025-05-30T01:03:26.132848Z",
     "iopub.status.busy": "2025-05-30T01:03:26.132625Z",
     "iopub.status.idle": "2025-05-30T01:03:26.405188Z",
     "shell.execute_reply": "2025-05-30T01:03:26.404594Z"
    },
    "papermill": {
     "duration": 0.28051,
     "end_time": "2025-05-30T01:03:26.406195",
     "exception": false,
     "start_time": "2025-05-30T01:03:26.125685",
     "status": "completed"
    },
    "tags": []
   },
   "outputs": [
    {
     "name": "stdout",
     "output_type": "stream",
     "text": [
      "Loaded neighborhood cache.\n"
     ]
    },
    {
     "data": {
      "text/html": [
       "<div>\n",
       "<style scoped>\n",
       "    .dataframe tbody tr th:only-of-type {\n",
       "        vertical-align: middle;\n",
       "    }\n",
       "\n",
       "    .dataframe tbody tr th {\n",
       "        vertical-align: top;\n",
       "    }\n",
       "\n",
       "    .dataframe thead th {\n",
       "        text-align: right;\n",
       "    }\n",
       "</style>\n",
       "<table border=\"1\" class=\"dataframe\">\n",
       "  <thead>\n",
       "    <tr style=\"text-align: right;\">\n",
       "      <th></th>\n",
       "      <th>RecordID</th>\n",
       "      <th>Offense</th>\n",
       "      <th>IncidentID</th>\n",
       "      <th>BlockNumber</th>\n",
       "      <th>StreetName</th>\n",
       "      <th>Agency</th>\n",
       "      <th>HourReported</th>\n",
       "      <th>ReportingOfficer</th>\n",
       "      <th>Date</th>\n",
       "      <th>DateString</th>\n",
       "      <th>DayOfWeek</th>\n",
       "      <th>Weekend</th>\n",
       "      <th>Season</th>\n",
       "      <th>HourAMPM</th>\n",
       "      <th>TimeOfDay</th>\n",
       "      <th>FullStreet</th>\n",
       "      <th>lat</th>\n",
       "      <th>lon</th>\n",
       "      <th>neighborhood</th>\n",
       "    </tr>\n",
       "  </thead>\n",
       "  <tbody>\n",
       "    <tr>\n",
       "      <th>0</th>\n",
       "      <td>1</td>\n",
       "      <td>Larceny - Shoplifitng</td>\n",
       "      <td>202500018070</td>\n",
       "      <td>200</td>\n",
       "      <td>E MAIN ST</td>\n",
       "      <td>CPD</td>\n",
       "      <td>1758</td>\n",
       "      <td>Vlasis, Christopher</td>\n",
       "      <td>2025-05-27 17:58:59</td>\n",
       "      <td>2025-05-27 05:58:59 PM</td>\n",
       "      <td>Tuesday</td>\n",
       "      <td>False</td>\n",
       "      <td>Spring</td>\n",
       "      <td>05:58 PM</td>\n",
       "      <td>Evening</td>\n",
       "      <td>200 E MAIN ST</td>\n",
       "      <td>38.030572</td>\n",
       "      <td>-78.480764</td>\n",
       "      <td>Downtown Mall</td>\n",
       "    </tr>\n",
       "    <tr>\n",
       "      <th>1</th>\n",
       "      <td>2</td>\n",
       "      <td>Larceny - Theft from Building</td>\n",
       "      <td>202500018053</td>\n",
       "      <td>1000</td>\n",
       "      <td>1ST ST S, 202</td>\n",
       "      <td>CPD</td>\n",
       "      <td>1547</td>\n",
       "      <td>Eckenroth, Rachel</td>\n",
       "      <td>2025-05-27 15:47:17</td>\n",
       "      <td>2025-05-27 03:47:17 PM</td>\n",
       "      <td>Tuesday</td>\n",
       "      <td>False</td>\n",
       "      <td>Spring</td>\n",
       "      <td>03:47 PM</td>\n",
       "      <td>Afternoon</td>\n",
       "      <td>1000 1ST ST S, 202</td>\n",
       "      <td>38.020474</td>\n",
       "      <td>-78.486881</td>\n",
       "      <td>Ridge St.</td>\n",
       "    </tr>\n",
       "    <tr>\n",
       "      <th>2</th>\n",
       "      <td>3</td>\n",
       "      <td>Vandalism</td>\n",
       "      <td>202500018043</td>\n",
       "      <td>800</td>\n",
       "      <td>HARDY DR, E</td>\n",
       "      <td>CPD</td>\n",
       "      <td>1513</td>\n",
       "      <td>O'Briant, Landon</td>\n",
       "      <td>2025-05-27 15:13:20</td>\n",
       "      <td>2025-05-27 03:13:20 PM</td>\n",
       "      <td>Tuesday</td>\n",
       "      <td>False</td>\n",
       "      <td>Spring</td>\n",
       "      <td>03:13 PM</td>\n",
       "      <td>Afternoon</td>\n",
       "      <td>800 HARDY DR, E</td>\n",
       "      <td>38.033239</td>\n",
       "      <td>-78.490398</td>\n",
       "      <td>10th &amp; Page</td>\n",
       "    </tr>\n",
       "    <tr>\n",
       "      <th>3</th>\n",
       "      <td>4</td>\n",
       "      <td>Hit and Run</td>\n",
       "      <td>202500018039</td>\n",
       "      <td>1200</td>\n",
       "      <td>EMMET ST N, 110</td>\n",
       "      <td>CPD</td>\n",
       "      <td>1432</td>\n",
       "      <td>Brannon, Devin</td>\n",
       "      <td>2025-05-27 14:32:25</td>\n",
       "      <td>2025-05-27 02:32:25 PM</td>\n",
       "      <td>Tuesday</td>\n",
       "      <td>False</td>\n",
       "      <td>Spring</td>\n",
       "      <td>02:32 PM</td>\n",
       "      <td>Afternoon</td>\n",
       "      <td>1200 EMMET ST N, 110</td>\n",
       "      <td>38.052917</td>\n",
       "      <td>-78.498591</td>\n",
       "      <td>The Meadows</td>\n",
       "    </tr>\n",
       "    <tr>\n",
       "      <th>4</th>\n",
       "      <td>5</td>\n",
       "      <td>Assist Citizen - Misc</td>\n",
       "      <td>202500018027</td>\n",
       "      <td>400</td>\n",
       "      <td>E HIGH ST</td>\n",
       "      <td>CPD</td>\n",
       "      <td>1325</td>\n",
       "      <td>Wisser, Shawn</td>\n",
       "      <td>2025-05-27 13:25:37</td>\n",
       "      <td>2025-05-27 01:25:37 PM</td>\n",
       "      <td>Tuesday</td>\n",
       "      <td>False</td>\n",
       "      <td>Spring</td>\n",
       "      <td>01:25 PM</td>\n",
       "      <td>Afternoon</td>\n",
       "      <td>400 E HIGH ST</td>\n",
       "      <td>38.032316</td>\n",
       "      <td>-78.478176</td>\n",
       "      <td>North Downtown</td>\n",
       "    </tr>\n",
       "  </tbody>\n",
       "</table>\n",
       "</div>"
      ],
      "text/plain": [
       "   RecordID                        Offense    IncidentID BlockNumber  \\\n",
       "0         1          Larceny - Shoplifitng  202500018070         200   \n",
       "1         2  Larceny - Theft from Building  202500018053        1000   \n",
       "2         3                      Vandalism  202500018043         800   \n",
       "3         4                    Hit and Run  202500018039        1200   \n",
       "4         5          Assist Citizen - Misc  202500018027         400   \n",
       "\n",
       "        StreetName Agency HourReported     ReportingOfficer  \\\n",
       "0        E MAIN ST    CPD         1758  Vlasis, Christopher   \n",
       "1    1ST ST S, 202    CPD         1547    Eckenroth, Rachel   \n",
       "2      HARDY DR, E    CPD         1513     O'Briant, Landon   \n",
       "3  EMMET ST N, 110    CPD         1432       Brannon, Devin   \n",
       "4        E HIGH ST    CPD         1325        Wisser, Shawn   \n",
       "\n",
       "                 Date              DateString DayOfWeek  Weekend  Season  \\\n",
       "0 2025-05-27 17:58:59  2025-05-27 05:58:59 PM   Tuesday    False  Spring   \n",
       "1 2025-05-27 15:47:17  2025-05-27 03:47:17 PM   Tuesday    False  Spring   \n",
       "2 2025-05-27 15:13:20  2025-05-27 03:13:20 PM   Tuesday    False  Spring   \n",
       "3 2025-05-27 14:32:25  2025-05-27 02:32:25 PM   Tuesday    False  Spring   \n",
       "4 2025-05-27 13:25:37  2025-05-27 01:25:37 PM   Tuesday    False  Spring   \n",
       "\n",
       "   HourAMPM  TimeOfDay            FullStreet        lat        lon  \\\n",
       "0  05:58 PM    Evening         200 E MAIN ST  38.030572 -78.480764   \n",
       "1  03:47 PM  Afternoon    1000 1ST ST S, 202  38.020474 -78.486881   \n",
       "2  03:13 PM  Afternoon       800 HARDY DR, E  38.033239 -78.490398   \n",
       "3  02:32 PM  Afternoon  1200 EMMET ST N, 110  38.052917 -78.498591   \n",
       "4  01:25 PM  Afternoon         400 E HIGH ST  38.032316 -78.478176   \n",
       "\n",
       "     neighborhood  \n",
       "0   Downtown Mall  \n",
       "1       Ridge St.  \n",
       "2     10th & Page  \n",
       "3     The Meadows  \n",
       "4  North Downtown  "
      ]
     },
     "execution_count": 10,
     "metadata": {},
     "output_type": "execute_result"
    }
   ],
   "source": [
    "# Initialize the Google Maps client.\n",
    "gmaps = googlemaps.Client(key=GOOGLE_API_KEY)\n",
    "\n",
    "# Try to load a persistent neighborhood cache if available.\n",
    "try:\n",
    "    with open(\"neighborhood_cache.pkl\", \"rb\") as f:\n",
    "        neighborhood_cache = pickle.load(f)\n",
    "    print(\"Loaded neighborhood cache.\")\n",
    "except FileNotFoundError:\n",
    "    neighborhood_cache = {}\n",
    "    print(\"No neighborhood cache found; starting fresh.\")\n",
    "\n",
    "def get_neighborhood(lat, lon):\n",
    "    \"\"\"\n",
    "    Reverse geocodes a latitude and longitude to retrieve the neighborhood.\n",
    "    Caches results to speed up subsequent lookups.\n",
    "    \"\"\"\n",
    "    key = (lat, lon)\n",
    "    if key in neighborhood_cache:\n",
    "        return neighborhood_cache[key]\n",
    "    \n",
    "    try:\n",
    "        result = gmaps.reverse_geocode((lat, lon))\n",
    "        if result:\n",
    "            # Look for the 'neighborhood' component in the first result.\n",
    "            for component in result[0]['address_components']:\n",
    "                if 'neighborhood' in component['types']:\n",
    "                    neighborhood = component['long_name']\n",
    "                    neighborhood_cache[key] = neighborhood\n",
    "                    return neighborhood\n",
    "            # If no neighborhood is found, return \"N/A\"\n",
    "            neighborhood_cache[key] = \"N/A\"\n",
    "            return \"N/A\"\n",
    "    except Exception as e:\n",
    "        print(f\"Error getting neighborhood for {lat}, {lon}: {e}\")\n",
    "        return \"N/A\"\n",
    "    \n",
    "    # Pause to respect usage limits.\n",
    "    time.sleep(1)\n",
    "\n",
    "# Example usage: Apply to your DataFrame 'df' that already has 'lat' and 'lon' columns.\n",
    "df['neighborhood'] = df.apply(lambda row: get_neighborhood(row['lat'], row['lon']), axis=1)\n",
    "\n",
    "# Save the updated neighborhood cache.\n",
    "with open(\"neighborhood_cache.pkl\", \"wb\") as f:\n",
    "    pickle.dump(neighborhood_cache, f)\n",
    "\n",
    "df.head()\n"
   ]
  },
  {
   "cell_type": "markdown",
   "id": "77fd21e4",
   "metadata": {
    "papermill": {
     "duration": 0.006658,
     "end_time": "2025-05-30T01:03:26.419639",
     "exception": false,
     "start_time": "2025-05-30T01:03:26.412981",
     "status": "completed"
    },
    "tags": []
   },
   "source": [
    "### Zip"
   ]
  },
  {
   "cell_type": "code",
   "execution_count": 11,
   "id": "901a1d32",
   "metadata": {
    "execution": {
     "iopub.execute_input": "2025-05-30T01:03:26.433595Z",
     "iopub.status.busy": "2025-05-30T01:03:26.433380Z",
     "iopub.status.idle": "2025-05-30T01:03:26.683348Z",
     "shell.execute_reply": "2025-05-30T01:03:26.682638Z"
    },
    "papermill": {
     "duration": 0.258353,
     "end_time": "2025-05-30T01:03:26.684482",
     "exception": false,
     "start_time": "2025-05-30T01:03:26.426129",
     "status": "completed"
    },
    "tags": []
   },
   "outputs": [
    {
     "name": "stdout",
     "output_type": "stream",
     "text": [
      "Loaded zip cache.\n"
     ]
    },
    {
     "data": {
      "text/html": [
       "<div>\n",
       "<style scoped>\n",
       "    .dataframe tbody tr th:only-of-type {\n",
       "        vertical-align: middle;\n",
       "    }\n",
       "\n",
       "    .dataframe tbody tr th {\n",
       "        vertical-align: top;\n",
       "    }\n",
       "\n",
       "    .dataframe thead th {\n",
       "        text-align: right;\n",
       "    }\n",
       "</style>\n",
       "<table border=\"1\" class=\"dataframe\">\n",
       "  <thead>\n",
       "    <tr style=\"text-align: right;\">\n",
       "      <th></th>\n",
       "      <th>RecordID</th>\n",
       "      <th>Offense</th>\n",
       "      <th>IncidentID</th>\n",
       "      <th>BlockNumber</th>\n",
       "      <th>StreetName</th>\n",
       "      <th>Agency</th>\n",
       "      <th>HourReported</th>\n",
       "      <th>ReportingOfficer</th>\n",
       "      <th>Date</th>\n",
       "      <th>DateString</th>\n",
       "      <th>DayOfWeek</th>\n",
       "      <th>Weekend</th>\n",
       "      <th>Season</th>\n",
       "      <th>HourAMPM</th>\n",
       "      <th>TimeOfDay</th>\n",
       "      <th>FullStreet</th>\n",
       "      <th>lat</th>\n",
       "      <th>lon</th>\n",
       "      <th>neighborhood</th>\n",
       "      <th>zip</th>\n",
       "    </tr>\n",
       "  </thead>\n",
       "  <tbody>\n",
       "    <tr>\n",
       "      <th>0</th>\n",
       "      <td>1</td>\n",
       "      <td>Larceny - Shoplifitng</td>\n",
       "      <td>202500018070</td>\n",
       "      <td>200</td>\n",
       "      <td>E MAIN ST</td>\n",
       "      <td>CPD</td>\n",
       "      <td>1758</td>\n",
       "      <td>Vlasis, Christopher</td>\n",
       "      <td>2025-05-27 17:58:59</td>\n",
       "      <td>2025-05-27 05:58:59 PM</td>\n",
       "      <td>Tuesday</td>\n",
       "      <td>False</td>\n",
       "      <td>Spring</td>\n",
       "      <td>05:58 PM</td>\n",
       "      <td>Evening</td>\n",
       "      <td>200 E MAIN ST</td>\n",
       "      <td>38.030572</td>\n",
       "      <td>-78.480764</td>\n",
       "      <td>Downtown Mall</td>\n",
       "      <td>22902</td>\n",
       "    </tr>\n",
       "    <tr>\n",
       "      <th>1</th>\n",
       "      <td>2</td>\n",
       "      <td>Larceny - Theft from Building</td>\n",
       "      <td>202500018053</td>\n",
       "      <td>1000</td>\n",
       "      <td>1ST ST S, 202</td>\n",
       "      <td>CPD</td>\n",
       "      <td>1547</td>\n",
       "      <td>Eckenroth, Rachel</td>\n",
       "      <td>2025-05-27 15:47:17</td>\n",
       "      <td>2025-05-27 03:47:17 PM</td>\n",
       "      <td>Tuesday</td>\n",
       "      <td>False</td>\n",
       "      <td>Spring</td>\n",
       "      <td>03:47 PM</td>\n",
       "      <td>Afternoon</td>\n",
       "      <td>1000 1ST ST S, 202</td>\n",
       "      <td>38.020474</td>\n",
       "      <td>-78.486881</td>\n",
       "      <td>Ridge St.</td>\n",
       "      <td>22902</td>\n",
       "    </tr>\n",
       "    <tr>\n",
       "      <th>2</th>\n",
       "      <td>3</td>\n",
       "      <td>Vandalism</td>\n",
       "      <td>202500018043</td>\n",
       "      <td>800</td>\n",
       "      <td>HARDY DR, E</td>\n",
       "      <td>CPD</td>\n",
       "      <td>1513</td>\n",
       "      <td>O'Briant, Landon</td>\n",
       "      <td>2025-05-27 15:13:20</td>\n",
       "      <td>2025-05-27 03:13:20 PM</td>\n",
       "      <td>Tuesday</td>\n",
       "      <td>False</td>\n",
       "      <td>Spring</td>\n",
       "      <td>03:13 PM</td>\n",
       "      <td>Afternoon</td>\n",
       "      <td>800 HARDY DR, E</td>\n",
       "      <td>38.033239</td>\n",
       "      <td>-78.490398</td>\n",
       "      <td>10th &amp; Page</td>\n",
       "      <td>22903</td>\n",
       "    </tr>\n",
       "    <tr>\n",
       "      <th>3</th>\n",
       "      <td>4</td>\n",
       "      <td>Hit and Run</td>\n",
       "      <td>202500018039</td>\n",
       "      <td>1200</td>\n",
       "      <td>EMMET ST N, 110</td>\n",
       "      <td>CPD</td>\n",
       "      <td>1432</td>\n",
       "      <td>Brannon, Devin</td>\n",
       "      <td>2025-05-27 14:32:25</td>\n",
       "      <td>2025-05-27 02:32:25 PM</td>\n",
       "      <td>Tuesday</td>\n",
       "      <td>False</td>\n",
       "      <td>Spring</td>\n",
       "      <td>02:32 PM</td>\n",
       "      <td>Afternoon</td>\n",
       "      <td>1200 EMMET ST N, 110</td>\n",
       "      <td>38.052917</td>\n",
       "      <td>-78.498591</td>\n",
       "      <td>The Meadows</td>\n",
       "      <td>22905</td>\n",
       "    </tr>\n",
       "    <tr>\n",
       "      <th>4</th>\n",
       "      <td>5</td>\n",
       "      <td>Assist Citizen - Misc</td>\n",
       "      <td>202500018027</td>\n",
       "      <td>400</td>\n",
       "      <td>E HIGH ST</td>\n",
       "      <td>CPD</td>\n",
       "      <td>1325</td>\n",
       "      <td>Wisser, Shawn</td>\n",
       "      <td>2025-05-27 13:25:37</td>\n",
       "      <td>2025-05-27 01:25:37 PM</td>\n",
       "      <td>Tuesday</td>\n",
       "      <td>False</td>\n",
       "      <td>Spring</td>\n",
       "      <td>01:25 PM</td>\n",
       "      <td>Afternoon</td>\n",
       "      <td>400 E HIGH ST</td>\n",
       "      <td>38.032316</td>\n",
       "      <td>-78.478176</td>\n",
       "      <td>North Downtown</td>\n",
       "      <td>22902</td>\n",
       "    </tr>\n",
       "  </tbody>\n",
       "</table>\n",
       "</div>"
      ],
      "text/plain": [
       "   RecordID                        Offense    IncidentID BlockNumber  \\\n",
       "0         1          Larceny - Shoplifitng  202500018070         200   \n",
       "1         2  Larceny - Theft from Building  202500018053        1000   \n",
       "2         3                      Vandalism  202500018043         800   \n",
       "3         4                    Hit and Run  202500018039        1200   \n",
       "4         5          Assist Citizen - Misc  202500018027         400   \n",
       "\n",
       "        StreetName Agency HourReported     ReportingOfficer  \\\n",
       "0        E MAIN ST    CPD         1758  Vlasis, Christopher   \n",
       "1    1ST ST S, 202    CPD         1547    Eckenroth, Rachel   \n",
       "2      HARDY DR, E    CPD         1513     O'Briant, Landon   \n",
       "3  EMMET ST N, 110    CPD         1432       Brannon, Devin   \n",
       "4        E HIGH ST    CPD         1325        Wisser, Shawn   \n",
       "\n",
       "                 Date              DateString DayOfWeek  Weekend  Season  \\\n",
       "0 2025-05-27 17:58:59  2025-05-27 05:58:59 PM   Tuesday    False  Spring   \n",
       "1 2025-05-27 15:47:17  2025-05-27 03:47:17 PM   Tuesday    False  Spring   \n",
       "2 2025-05-27 15:13:20  2025-05-27 03:13:20 PM   Tuesday    False  Spring   \n",
       "3 2025-05-27 14:32:25  2025-05-27 02:32:25 PM   Tuesday    False  Spring   \n",
       "4 2025-05-27 13:25:37  2025-05-27 01:25:37 PM   Tuesday    False  Spring   \n",
       "\n",
       "   HourAMPM  TimeOfDay            FullStreet        lat        lon  \\\n",
       "0  05:58 PM    Evening         200 E MAIN ST  38.030572 -78.480764   \n",
       "1  03:47 PM  Afternoon    1000 1ST ST S, 202  38.020474 -78.486881   \n",
       "2  03:13 PM  Afternoon       800 HARDY DR, E  38.033239 -78.490398   \n",
       "3  02:32 PM  Afternoon  1200 EMMET ST N, 110  38.052917 -78.498591   \n",
       "4  01:25 PM  Afternoon         400 E HIGH ST  38.032316 -78.478176   \n",
       "\n",
       "     neighborhood    zip  \n",
       "0   Downtown Mall  22902  \n",
       "1       Ridge St.  22902  \n",
       "2     10th & Page  22903  \n",
       "3     The Meadows  22905  \n",
       "4  North Downtown  22902  "
      ]
     },
     "execution_count": 11,
     "metadata": {},
     "output_type": "execute_result"
    }
   ],
   "source": [
    "# Initialize the geocoder.\n",
    "geolocator = Nominatim(user_agent=\"zip_lookup\")\n",
    "\n",
    "# Try to load a persistent ZIP cache if available.\n",
    "try:\n",
    "    with open(\"zip_cache.pkl\", \"rb\") as f:\n",
    "        zip_cache = pickle.load(f)\n",
    "    print(\"Loaded zip cache.\")\n",
    "except FileNotFoundError:\n",
    "    zip_cache = {}\n",
    "    print(\"No zip cache found; starting fresh.\")\n",
    "\n",
    "def get_zip(lat, lon):\n",
    "    \"\"\"\n",
    "    Reverse geocodes a latitude and longitude to retrieve the ZIP code.\n",
    "    Caches results to speed up subsequent lookups.\n",
    "    \"\"\"\n",
    "    key = (lat, lon)\n",
    "    if key in zip_cache:\n",
    "        return zip_cache[key]\n",
    "    \n",
    "    try:\n",
    "        location = geolocator.reverse((lat, lon), exactly_one=True, timeout=10)\n",
    "        address = location.raw.get('address', {})\n",
    "        postal_code = address.get('postcode', \"N/A\")\n",
    "    except Exception as e:\n",
    "        print(f\"Error getting ZIP for {lat}, {lon}: {e}\")\n",
    "        postal_code = \"N/A\"\n",
    "    \n",
    "    zip_cache[key] = postal_code\n",
    "    # Pause to respect the usage policy.\n",
    "    time.sleep(1)\n",
    "    return postal_code\n",
    "\n",
    "# Apply the function to each row in the DataFrame.\n",
    "df['zip'] = df.apply(lambda row: get_zip(row['lat'], row['lon']), axis=1)\n",
    "\n",
    "# Save the updated ZIP cache.\n",
    "with open(\"zip_cache.pkl\", \"wb\") as f:\n",
    "    pickle.dump(zip_cache, f)\n",
    "\n",
    "df.head()\n"
   ]
  },
  {
   "cell_type": "code",
   "execution_count": 12,
   "id": "e26c0054",
   "metadata": {
    "execution": {
     "iopub.execute_input": "2025-05-30T01:03:26.699428Z",
     "iopub.status.busy": "2025-05-30T01:03:26.698933Z",
     "iopub.status.idle": "2025-05-30T01:03:26.727016Z",
     "shell.execute_reply": "2025-05-30T01:03:26.726423Z"
    },
    "papermill": {
     "duration": 0.036474,
     "end_time": "2025-05-30T01:03:26.727994",
     "exception": false,
     "start_time": "2025-05-30T01:03:26.691520",
     "status": "completed"
    },
    "tags": []
   },
   "outputs": [
    {
     "name": "stdout",
     "output_type": "stream",
     "text": [
      "                  MissingCount  MissingPercentage\n",
      "RecordID                     0               0.00\n",
      "Offense                      0               0.00\n",
      "IncidentID                   0               0.00\n",
      "BlockNumber                  0               0.00\n",
      "StreetName                   0               0.00\n",
      "Agency                       0               0.00\n",
      "HourReported                 0               0.00\n",
      "ReportingOfficer            17               0.07\n",
      "Date                         0               0.00\n",
      "DateString                   0               0.00\n",
      "DayOfWeek                    0               0.00\n",
      "Weekend                      0               0.00\n",
      "Season                       0               0.00\n",
      "HourAMPM                     0               0.00\n",
      "TimeOfDay                    0               0.00\n",
      "FullStreet                   0               0.00\n",
      "lat                          0               0.00\n",
      "lon                          0               0.00\n",
      "neighborhood                 0               0.00\n",
      "zip                          0               0.00\n"
     ]
    }
   ],
   "source": [
    "missing_info = missing_percentage(df)\n",
    "print(missing_info)\n"
   ]
  },
  {
   "cell_type": "code",
   "execution_count": 13,
   "id": "b42314b6",
   "metadata": {
    "execution": {
     "iopub.execute_input": "2025-05-30T01:03:26.742991Z",
     "iopub.status.busy": "2025-05-30T01:03:26.742467Z",
     "iopub.status.idle": "2025-05-30T01:03:26.770681Z",
     "shell.execute_reply": "2025-05-30T01:03:26.770013Z"
    },
    "papermill": {
     "duration": 0.036798,
     "end_time": "2025-05-30T01:03:26.771731",
     "exception": false,
     "start_time": "2025-05-30T01:03:26.734933",
     "status": "completed"
    },
    "tags": []
   },
   "outputs": [
    {
     "name": "stdout",
     "output_type": "stream",
     "text": [
      "<class 'pandas.core.frame.DataFrame'>\n",
      "RangeIndex: 25430 entries, 0 to 25429\n",
      "Data columns (total 20 columns):\n",
      " #   Column            Non-Null Count  Dtype         \n",
      "---  ------            --------------  -----         \n",
      " 0   RecordID          25430 non-null  int64         \n",
      " 1   Offense           25430 non-null  object        \n",
      " 2   IncidentID        25430 non-null  object        \n",
      " 3   BlockNumber       25430 non-null  object        \n",
      " 4   StreetName        25430 non-null  object        \n",
      " 5   Agency            25430 non-null  object        \n",
      " 6   HourReported      25430 non-null  object        \n",
      " 7   ReportingOfficer  25413 non-null  object        \n",
      " 8   Date              25430 non-null  datetime64[ns]\n",
      " 9   DateString        25430 non-null  object        \n",
      " 10  DayOfWeek         25430 non-null  object        \n",
      " 11  Weekend           25430 non-null  bool          \n",
      " 12  Season            25430 non-null  object        \n",
      " 13  HourAMPM          25430 non-null  object        \n",
      " 14  TimeOfDay         25430 non-null  object        \n",
      " 15  FullStreet        25430 non-null  object        \n",
      " 16  lat               25430 non-null  float64       \n",
      " 17  lon               25430 non-null  float64       \n",
      " 18  neighborhood      25430 non-null  object        \n",
      " 19  zip               25430 non-null  object        \n",
      "dtypes: bool(1), datetime64[ns](1), float64(2), int64(1), object(15)\n",
      "memory usage: 3.7+ MB\n"
     ]
    }
   ],
   "source": [
    "df.info()"
   ]
  },
  {
   "cell_type": "code",
   "execution_count": 14,
   "id": "3cc80a6a",
   "metadata": {
    "execution": {
     "iopub.execute_input": "2025-05-30T01:03:26.786829Z",
     "iopub.status.busy": "2025-05-30T01:03:26.786376Z",
     "iopub.status.idle": "2025-05-30T01:03:26.826810Z",
     "shell.execute_reply": "2025-05-30T01:03:26.826197Z"
    },
    "papermill": {
     "duration": 0.049127,
     "end_time": "2025-05-30T01:03:26.827884",
     "exception": false,
     "start_time": "2025-05-30T01:03:26.778757",
     "status": "completed"
    },
    "tags": []
   },
   "outputs": [
    {
     "data": {
      "text/html": [
       "<div>\n",
       "<style scoped>\n",
       "    .dataframe tbody tr th:only-of-type {\n",
       "        vertical-align: middle;\n",
       "    }\n",
       "\n",
       "    .dataframe tbody tr th {\n",
       "        vertical-align: top;\n",
       "    }\n",
       "\n",
       "    .dataframe thead th {\n",
       "        text-align: right;\n",
       "    }\n",
       "</style>\n",
       "<table border=\"1\" class=\"dataframe\">\n",
       "  <thead>\n",
       "    <tr style=\"text-align: right;\">\n",
       "      <th></th>\n",
       "      <th>RecordID</th>\n",
       "      <th>Offense</th>\n",
       "      <th>IncidentID</th>\n",
       "      <th>Agency</th>\n",
       "      <th>ReportingOfficer</th>\n",
       "      <th>Date</th>\n",
       "      <th>DayOfWeek</th>\n",
       "      <th>Weekend</th>\n",
       "      <th>Season</th>\n",
       "      <th>TimeOfDay</th>\n",
       "      <th>FullStreet</th>\n",
       "      <th>lat</th>\n",
       "      <th>lon</th>\n",
       "      <th>neighborhood</th>\n",
       "      <th>zip</th>\n",
       "    </tr>\n",
       "  </thead>\n",
       "  <tbody>\n",
       "    <tr>\n",
       "      <th>0</th>\n",
       "      <td>1</td>\n",
       "      <td>Larceny - Shoplifitng</td>\n",
       "      <td>202500018070</td>\n",
       "      <td>CPD</td>\n",
       "      <td>Vlasis, Christopher</td>\n",
       "      <td>2025-05-27 17:58:59</td>\n",
       "      <td>Tuesday</td>\n",
       "      <td>False</td>\n",
       "      <td>Spring</td>\n",
       "      <td>Evening</td>\n",
       "      <td>200 E MAIN ST</td>\n",
       "      <td>38.030572</td>\n",
       "      <td>-78.480764</td>\n",
       "      <td>Downtown Mall</td>\n",
       "      <td>22902</td>\n",
       "    </tr>\n",
       "    <tr>\n",
       "      <th>1</th>\n",
       "      <td>2</td>\n",
       "      <td>Larceny - Theft from Building</td>\n",
       "      <td>202500018053</td>\n",
       "      <td>CPD</td>\n",
       "      <td>Eckenroth, Rachel</td>\n",
       "      <td>2025-05-27 15:47:17</td>\n",
       "      <td>Tuesday</td>\n",
       "      <td>False</td>\n",
       "      <td>Spring</td>\n",
       "      <td>Afternoon</td>\n",
       "      <td>1000 1ST ST S, 202</td>\n",
       "      <td>38.020474</td>\n",
       "      <td>-78.486881</td>\n",
       "      <td>Ridge St.</td>\n",
       "      <td>22902</td>\n",
       "    </tr>\n",
       "    <tr>\n",
       "      <th>2</th>\n",
       "      <td>3</td>\n",
       "      <td>Vandalism</td>\n",
       "      <td>202500018043</td>\n",
       "      <td>CPD</td>\n",
       "      <td>O'Briant, Landon</td>\n",
       "      <td>2025-05-27 15:13:20</td>\n",
       "      <td>Tuesday</td>\n",
       "      <td>False</td>\n",
       "      <td>Spring</td>\n",
       "      <td>Afternoon</td>\n",
       "      <td>800 HARDY DR, E</td>\n",
       "      <td>38.033239</td>\n",
       "      <td>-78.490398</td>\n",
       "      <td>10th &amp; Page</td>\n",
       "      <td>22903</td>\n",
       "    </tr>\n",
       "    <tr>\n",
       "      <th>3</th>\n",
       "      <td>4</td>\n",
       "      <td>Hit and Run</td>\n",
       "      <td>202500018039</td>\n",
       "      <td>CPD</td>\n",
       "      <td>Brannon, Devin</td>\n",
       "      <td>2025-05-27 14:32:25</td>\n",
       "      <td>Tuesday</td>\n",
       "      <td>False</td>\n",
       "      <td>Spring</td>\n",
       "      <td>Afternoon</td>\n",
       "      <td>1200 EMMET ST N, 110</td>\n",
       "      <td>38.052917</td>\n",
       "      <td>-78.498591</td>\n",
       "      <td>The Meadows</td>\n",
       "      <td>22905</td>\n",
       "    </tr>\n",
       "    <tr>\n",
       "      <th>4</th>\n",
       "      <td>5</td>\n",
       "      <td>Assist Citizen - Misc</td>\n",
       "      <td>202500018027</td>\n",
       "      <td>CPD</td>\n",
       "      <td>Wisser, Shawn</td>\n",
       "      <td>2025-05-27 13:25:37</td>\n",
       "      <td>Tuesday</td>\n",
       "      <td>False</td>\n",
       "      <td>Spring</td>\n",
       "      <td>Afternoon</td>\n",
       "      <td>400 E HIGH ST</td>\n",
       "      <td>38.032316</td>\n",
       "      <td>-78.478176</td>\n",
       "      <td>North Downtown</td>\n",
       "      <td>22902</td>\n",
       "    </tr>\n",
       "  </tbody>\n",
       "</table>\n",
       "</div>"
      ],
      "text/plain": [
       "   RecordID                        Offense    IncidentID Agency  \\\n",
       "0         1          Larceny - Shoplifitng  202500018070    CPD   \n",
       "1         2  Larceny - Theft from Building  202500018053    CPD   \n",
       "2         3                      Vandalism  202500018043    CPD   \n",
       "3         4                    Hit and Run  202500018039    CPD   \n",
       "4         5          Assist Citizen - Misc  202500018027    CPD   \n",
       "\n",
       "      ReportingOfficer                Date DayOfWeek  Weekend  Season  \\\n",
       "0  Vlasis, Christopher 2025-05-27 17:58:59   Tuesday    False  Spring   \n",
       "1    Eckenroth, Rachel 2025-05-27 15:47:17   Tuesday    False  Spring   \n",
       "2     O'Briant, Landon 2025-05-27 15:13:20   Tuesday    False  Spring   \n",
       "3       Brannon, Devin 2025-05-27 14:32:25   Tuesday    False  Spring   \n",
       "4        Wisser, Shawn 2025-05-27 13:25:37   Tuesday    False  Spring   \n",
       "\n",
       "   TimeOfDay            FullStreet        lat        lon    neighborhood  \\\n",
       "0    Evening         200 E MAIN ST  38.030572 -78.480764   Downtown Mall   \n",
       "1  Afternoon    1000 1ST ST S, 202  38.020474 -78.486881       Ridge St.   \n",
       "2  Afternoon       800 HARDY DR, E  38.033239 -78.490398     10th & Page   \n",
       "3  Afternoon  1200 EMMET ST N, 110  38.052917 -78.498591     The Meadows   \n",
       "4  Afternoon         400 E HIGH ST  38.032316 -78.478176  North Downtown   \n",
       "\n",
       "     zip  \n",
       "0  22902  \n",
       "1  22902  \n",
       "2  22903  \n",
       "3  22905  \n",
       "4  22902  "
      ]
     },
     "execution_count": 14,
     "metadata": {},
     "output_type": "execute_result"
    }
   ],
   "source": [
    "# Now drop the original BlockNumber and StreetName columns\n",
    "df.drop(columns=['BlockNumber', 'StreetName','HourAMPM','HourReported','DateString'], inplace=True)\n",
    "df[\"zip\"] = df[\"zip\"].astype(str)\n",
    "\n",
    "# Fill all missing values in the DataFrame with \"N/A\"\n",
    "df.replace({None: \"N/A\", np.nan: \"N/A\", \"\": \"N/A\"}, inplace=True)\n",
    "df.head()"
   ]
  },
  {
   "cell_type": "code",
   "execution_count": 15,
   "id": "afcdf635",
   "metadata": {
    "execution": {
     "iopub.execute_input": "2025-05-30T01:03:26.843940Z",
     "iopub.status.busy": "2025-05-30T01:03:26.843484Z",
     "iopub.status.idle": "2025-05-30T01:03:26.860833Z",
     "shell.execute_reply": "2025-05-30T01:03:26.860274Z"
    },
    "papermill": {
     "duration": 0.026394,
     "end_time": "2025-05-30T01:03:26.861863",
     "exception": false,
     "start_time": "2025-05-30T01:03:26.835469",
     "status": "completed"
    },
    "tags": []
   },
   "outputs": [
    {
     "name": "stdout",
     "output_type": "stream",
     "text": [
      "                  MissingCount  MissingPercentage\n",
      "RecordID                     0                0.0\n",
      "Offense                      0                0.0\n",
      "IncidentID                   0                0.0\n",
      "Agency                       0                0.0\n",
      "ReportingOfficer             0                0.0\n",
      "Date                         0                0.0\n",
      "DayOfWeek                    0                0.0\n",
      "Weekend                      0                0.0\n",
      "Season                       0                0.0\n",
      "TimeOfDay                    0                0.0\n",
      "FullStreet                   0                0.0\n",
      "lat                          0                0.0\n",
      "lon                          0                0.0\n",
      "neighborhood                 0                0.0\n",
      "zip                          0                0.0\n"
     ]
    }
   ],
   "source": [
    "missing_info = missing_percentage(df)\n",
    "print(missing_info)"
   ]
  },
  {
   "cell_type": "code",
   "execution_count": 16,
   "id": "c2e4f77a",
   "metadata": {
    "execution": {
     "iopub.execute_input": "2025-05-30T01:03:26.877366Z",
     "iopub.status.busy": "2025-05-30T01:03:26.877121Z",
     "iopub.status.idle": "2025-05-30T01:03:26.881389Z",
     "shell.execute_reply": "2025-05-30T01:03:26.880832Z"
    },
    "papermill": {
     "duration": 0.013199,
     "end_time": "2025-05-30T01:03:26.882386",
     "exception": false,
     "start_time": "2025-05-30T01:03:26.869187",
     "status": "completed"
    },
    "tags": []
   },
   "outputs": [
    {
     "data": {
      "text/plain": [
       "Index(['RecordID', 'Offense', 'IncidentID', 'Agency', 'ReportingOfficer',\n",
       "       'Date', 'DayOfWeek', 'Weekend', 'Season', 'TimeOfDay', 'FullStreet',\n",
       "       'lat', 'lon', 'neighborhood', 'zip'],\n",
       "      dtype='object')"
      ]
     },
     "execution_count": 16,
     "metadata": {},
     "output_type": "execute_result"
    }
   ],
   "source": [
    "df.columns"
   ]
  },
  {
   "cell_type": "code",
   "execution_count": 17,
   "id": "36884074",
   "metadata": {
    "execution": {
     "iopub.execute_input": "2025-05-30T01:03:26.898191Z",
     "iopub.status.busy": "2025-05-30T01:03:26.897642Z",
     "iopub.status.idle": "2025-05-30T01:03:26.915727Z",
     "shell.execute_reply": "2025-05-30T01:03:26.915049Z"
    },
    "papermill": {
     "duration": 0.026962,
     "end_time": "2025-05-30T01:03:26.916703",
     "exception": false,
     "start_time": "2025-05-30T01:03:26.889741",
     "status": "completed"
    },
    "tags": []
   },
   "outputs": [
    {
     "name": "stdout",
     "output_type": "stream",
     "text": [
      "<class 'pandas.core.frame.DataFrame'>\n",
      "RangeIndex: 25430 entries, 0 to 25429\n",
      "Data columns (total 15 columns):\n",
      " #   Column            Non-Null Count  Dtype         \n",
      "---  ------            --------------  -----         \n",
      " 0   RecordID          25430 non-null  int64         \n",
      " 1   Offense           25430 non-null  object        \n",
      " 2   IncidentID        25430 non-null  object        \n",
      " 3   Agency            25430 non-null  object        \n",
      " 4   ReportingOfficer  25430 non-null  object        \n",
      " 5   Date              25430 non-null  datetime64[ns]\n",
      " 6   DayOfWeek         25430 non-null  object        \n",
      " 7   Weekend           25430 non-null  bool          \n",
      " 8   Season            25430 non-null  object        \n",
      " 9   TimeOfDay         25430 non-null  object        \n",
      " 10  FullStreet        25430 non-null  object        \n",
      " 11  lat               25430 non-null  float64       \n",
      " 12  lon               25430 non-null  float64       \n",
      " 13  neighborhood      25430 non-null  object        \n",
      " 14  zip               25430 non-null  object        \n",
      "dtypes: bool(1), datetime64[ns](1), float64(2), int64(1), object(10)\n",
      "memory usage: 2.7+ MB\n"
     ]
    }
   ],
   "source": [
    "df.info()"
   ]
  },
  {
   "cell_type": "markdown",
   "id": "fb5b8aa8",
   "metadata": {
    "papermill": {
     "duration": 0.00731,
     "end_time": "2025-05-30T01:03:26.931721",
     "exception": false,
     "start_time": "2025-05-30T01:03:26.924411",
     "status": "completed"
    },
    "tags": []
   },
   "source": [
    "### Export Clean Data"
   ]
  },
  {
   "cell_type": "code",
   "execution_count": 18,
   "id": "2634fc76",
   "metadata": {
    "execution": {
     "iopub.execute_input": "2025-05-30T01:03:26.947671Z",
     "iopub.status.busy": "2025-05-30T01:03:26.947301Z",
     "iopub.status.idle": "2025-05-30T01:03:36.159386Z",
     "shell.execute_reply": "2025-05-30T01:03:36.158684Z"
    },
    "papermill": {
     "duration": 9.221142,
     "end_time": "2025-05-30T01:03:36.160405",
     "exception": false,
     "start_time": "2025-05-30T01:03:26.939263",
     "status": "completed"
    },
    "tags": []
   },
   "outputs": [
    {
     "name": "stdout",
     "output_type": "stream",
     "text": [
      "Project Root: /home/runner/work/crime-data/crime-data\n"
     ]
    },
    {
     "name": "stdout",
     "output_type": "stream",
     "text": [
      "Data saved to: /home/runner/work/crime-data/crime-data/data/charlottesville_crime_incidents.csv\n"
     ]
    },
    {
     "name": "stdout",
     "output_type": "stream",
     "text": [
      "Excel saved to: /home/runner/work/crime-data/crime-data/data/charlottesville_crime_incidents.xlsx\n"
     ]
    }
   ],
   "source": [
    "# Determine the project root (assuming papermill is run from the repository root)\n",
    "project_root = os.getcwd()\n",
    "print(\"Project Root:\", project_root)\n",
    "\n",
    "# Set the data directory within the project root\n",
    "data_dir = os.path.join(project_root, \"data\")\n",
    "\n",
    "# Ensure the \"data\" directory exists (create it if it doesn't)\n",
    "if not os.path.exists(data_dir):\n",
    "    os.makedirs(data_dir)\n",
    "\n",
    "# Export the DataFrame to CSV in the \"data\" folder located in the project root\n",
    "csv_path = os.path.join(data_dir, \"charlottesville_crime_incidents.csv\")\n",
    "df.to_csv(csv_path, index=False)\n",
    "print(\"Data saved to:\", csv_path)\n",
    "\n",
    "# Construct the path to your Excel file\n",
    "excel_path = os.path.join(data_dir, \"charlottesville_crime_incidents.xlsx\")\n",
    "\n",
    "# Export the DataFrame to Excel\n",
    "df.to_excel(excel_path, index=False)\n",
    "print(\"Excel saved to:\", excel_path)\n"
   ]
  },
  {
   "cell_type": "markdown",
   "id": "e27b250c",
   "metadata": {
    "papermill": {
     "duration": 0.007539,
     "end_time": "2025-05-30T01:03:36.175854",
     "exception": false,
     "start_time": "2025-05-30T01:03:36.168315",
     "status": "completed"
    },
    "tags": []
   },
   "source": [
    "## Predictive Analytics"
   ]
  },
  {
   "cell_type": "code",
   "execution_count": 19,
   "id": "e47c9248",
   "metadata": {
    "execution": {
     "iopub.execute_input": "2025-05-30T01:03:36.192361Z",
     "iopub.status.busy": "2025-05-30T01:03:36.191861Z",
     "iopub.status.idle": "2025-05-30T01:03:36.203677Z",
     "shell.execute_reply": "2025-05-30T01:03:36.203020Z"
    },
    "papermill": {
     "duration": 0.020923,
     "end_time": "2025-05-30T01:03:36.204614",
     "exception": false,
     "start_time": "2025-05-30T01:03:36.183691",
     "status": "completed"
    },
    "tags": []
   },
   "outputs": [
    {
     "data": {
      "text/html": [
       "<div>\n",
       "<style scoped>\n",
       "    .dataframe tbody tr th:only-of-type {\n",
       "        vertical-align: middle;\n",
       "    }\n",
       "\n",
       "    .dataframe tbody tr th {\n",
       "        vertical-align: top;\n",
       "    }\n",
       "\n",
       "    .dataframe thead th {\n",
       "        text-align: right;\n",
       "    }\n",
       "</style>\n",
       "<table border=\"1\" class=\"dataframe\">\n",
       "  <thead>\n",
       "    <tr style=\"text-align: right;\">\n",
       "      <th></th>\n",
       "      <th>RecordID</th>\n",
       "      <th>Offense</th>\n",
       "      <th>IncidentID</th>\n",
       "      <th>Agency</th>\n",
       "      <th>ReportingOfficer</th>\n",
       "      <th>Date</th>\n",
       "      <th>DayOfWeek</th>\n",
       "      <th>Weekend</th>\n",
       "      <th>Season</th>\n",
       "      <th>TimeOfDay</th>\n",
       "      <th>FullStreet</th>\n",
       "      <th>lat</th>\n",
       "      <th>lon</th>\n",
       "      <th>neighborhood</th>\n",
       "      <th>zip</th>\n",
       "    </tr>\n",
       "  </thead>\n",
       "  <tbody>\n",
       "    <tr>\n",
       "      <th>0</th>\n",
       "      <td>1</td>\n",
       "      <td>Larceny - Shoplifitng</td>\n",
       "      <td>202500018070</td>\n",
       "      <td>CPD</td>\n",
       "      <td>Vlasis, Christopher</td>\n",
       "      <td>2025-05-27 17:58:59</td>\n",
       "      <td>Tuesday</td>\n",
       "      <td>False</td>\n",
       "      <td>Spring</td>\n",
       "      <td>Evening</td>\n",
       "      <td>200 E MAIN ST</td>\n",
       "      <td>38.030572</td>\n",
       "      <td>-78.480764</td>\n",
       "      <td>Downtown Mall</td>\n",
       "      <td>22902</td>\n",
       "    </tr>\n",
       "    <tr>\n",
       "      <th>1</th>\n",
       "      <td>2</td>\n",
       "      <td>Larceny - Theft from Building</td>\n",
       "      <td>202500018053</td>\n",
       "      <td>CPD</td>\n",
       "      <td>Eckenroth, Rachel</td>\n",
       "      <td>2025-05-27 15:47:17</td>\n",
       "      <td>Tuesday</td>\n",
       "      <td>False</td>\n",
       "      <td>Spring</td>\n",
       "      <td>Afternoon</td>\n",
       "      <td>1000 1ST ST S, 202</td>\n",
       "      <td>38.020474</td>\n",
       "      <td>-78.486881</td>\n",
       "      <td>Ridge St.</td>\n",
       "      <td>22902</td>\n",
       "    </tr>\n",
       "    <tr>\n",
       "      <th>2</th>\n",
       "      <td>3</td>\n",
       "      <td>Vandalism</td>\n",
       "      <td>202500018043</td>\n",
       "      <td>CPD</td>\n",
       "      <td>O'Briant, Landon</td>\n",
       "      <td>2025-05-27 15:13:20</td>\n",
       "      <td>Tuesday</td>\n",
       "      <td>False</td>\n",
       "      <td>Spring</td>\n",
       "      <td>Afternoon</td>\n",
       "      <td>800 HARDY DR, E</td>\n",
       "      <td>38.033239</td>\n",
       "      <td>-78.490398</td>\n",
       "      <td>10th &amp; Page</td>\n",
       "      <td>22903</td>\n",
       "    </tr>\n",
       "    <tr>\n",
       "      <th>3</th>\n",
       "      <td>4</td>\n",
       "      <td>Hit and Run</td>\n",
       "      <td>202500018039</td>\n",
       "      <td>CPD</td>\n",
       "      <td>Brannon, Devin</td>\n",
       "      <td>2025-05-27 14:32:25</td>\n",
       "      <td>Tuesday</td>\n",
       "      <td>False</td>\n",
       "      <td>Spring</td>\n",
       "      <td>Afternoon</td>\n",
       "      <td>1200 EMMET ST N, 110</td>\n",
       "      <td>38.052917</td>\n",
       "      <td>-78.498591</td>\n",
       "      <td>The Meadows</td>\n",
       "      <td>22905</td>\n",
       "    </tr>\n",
       "    <tr>\n",
       "      <th>4</th>\n",
       "      <td>5</td>\n",
       "      <td>Assist Citizen - Misc</td>\n",
       "      <td>202500018027</td>\n",
       "      <td>CPD</td>\n",
       "      <td>Wisser, Shawn</td>\n",
       "      <td>2025-05-27 13:25:37</td>\n",
       "      <td>Tuesday</td>\n",
       "      <td>False</td>\n",
       "      <td>Spring</td>\n",
       "      <td>Afternoon</td>\n",
       "      <td>400 E HIGH ST</td>\n",
       "      <td>38.032316</td>\n",
       "      <td>-78.478176</td>\n",
       "      <td>North Downtown</td>\n",
       "      <td>22902</td>\n",
       "    </tr>\n",
       "  </tbody>\n",
       "</table>\n",
       "</div>"
      ],
      "text/plain": [
       "   RecordID                        Offense    IncidentID Agency  \\\n",
       "0         1          Larceny - Shoplifitng  202500018070    CPD   \n",
       "1         2  Larceny - Theft from Building  202500018053    CPD   \n",
       "2         3                      Vandalism  202500018043    CPD   \n",
       "3         4                    Hit and Run  202500018039    CPD   \n",
       "4         5          Assist Citizen - Misc  202500018027    CPD   \n",
       "\n",
       "      ReportingOfficer                Date DayOfWeek  Weekend  Season  \\\n",
       "0  Vlasis, Christopher 2025-05-27 17:58:59   Tuesday    False  Spring   \n",
       "1    Eckenroth, Rachel 2025-05-27 15:47:17   Tuesday    False  Spring   \n",
       "2     O'Briant, Landon 2025-05-27 15:13:20   Tuesday    False  Spring   \n",
       "3       Brannon, Devin 2025-05-27 14:32:25   Tuesday    False  Spring   \n",
       "4        Wisser, Shawn 2025-05-27 13:25:37   Tuesday    False  Spring   \n",
       "\n",
       "   TimeOfDay            FullStreet        lat        lon    neighborhood  \\\n",
       "0    Evening         200 E MAIN ST  38.030572 -78.480764   Downtown Mall   \n",
       "1  Afternoon    1000 1ST ST S, 202  38.020474 -78.486881       Ridge St.   \n",
       "2  Afternoon       800 HARDY DR, E  38.033239 -78.490398     10th & Page   \n",
       "3  Afternoon  1200 EMMET ST N, 110  38.052917 -78.498591     The Meadows   \n",
       "4  Afternoon         400 E HIGH ST  38.032316 -78.478176  North Downtown   \n",
       "\n",
       "     zip  \n",
       "0  22902  \n",
       "1  22902  \n",
       "2  22903  \n",
       "3  22905  \n",
       "4  22902  "
      ]
     },
     "execution_count": 19,
     "metadata": {},
     "output_type": "execute_result"
    }
   ],
   "source": [
    "df.head()"
   ]
  },
  {
   "cell_type": "code",
   "execution_count": 20,
   "id": "a2910e85",
   "metadata": {
    "execution": {
     "iopub.execute_input": "2025-05-30T01:03:36.221504Z",
     "iopub.status.busy": "2025-05-30T01:03:36.221112Z",
     "iopub.status.idle": "2025-05-30T01:03:36.225513Z",
     "shell.execute_reply": "2025-05-30T01:03:36.224866Z"
    },
    "papermill": {
     "duration": 0.01385,
     "end_time": "2025-05-30T01:03:36.226528",
     "exception": false,
     "start_time": "2025-05-30T01:03:36.212678",
     "status": "completed"
    },
    "tags": []
   },
   "outputs": [
    {
     "data": {
      "text/plain": [
       "Index(['RecordID', 'Offense', 'IncidentID', 'Agency', 'ReportingOfficer',\n",
       "       'Date', 'DayOfWeek', 'Weekend', 'Season', 'TimeOfDay', 'FullStreet',\n",
       "       'lat', 'lon', 'neighborhood', 'zip'],\n",
       "      dtype='object')"
      ]
     },
     "execution_count": 20,
     "metadata": {},
     "output_type": "execute_result"
    }
   ],
   "source": [
    "df.columns"
   ]
  },
  {
   "cell_type": "markdown",
   "id": "45dbfe43",
   "metadata": {
    "papermill": {
     "duration": 0.007798,
     "end_time": "2025-05-30T01:03:36.242288",
     "exception": false,
     "start_time": "2025-05-30T01:03:36.234490",
     "status": "completed"
    },
    "tags": []
   },
   "source": [
    "### Data Preparation\n",
    "\n",
    "We need to ensure the data is in the correct format for modeling and can handle missing values, categorical variables, and dates. Here's how to prepare your data:"
   ]
  },
  {
   "cell_type": "code",
   "execution_count": 21,
   "id": "0bda49b3",
   "metadata": {
    "execution": {
     "iopub.execute_input": "2025-05-30T01:03:36.259090Z",
     "iopub.status.busy": "2025-05-30T01:03:36.258677Z",
     "iopub.status.idle": "2025-05-30T01:03:38.051258Z",
     "shell.execute_reply": "2025-05-30T01:03:38.050521Z"
    },
    "papermill": {
     "duration": 1.802462,
     "end_time": "2025-05-30T01:03:38.052589",
     "exception": false,
     "start_time": "2025-05-30T01:03:36.250127",
     "status": "completed"
    },
    "tags": []
   },
   "outputs": [],
   "source": [
    "import pandas as pd\n",
    "from sklearn.model_selection import train_test_split\n",
    "from sklearn.preprocessing import OneHotEncoder, LabelEncoder\n",
    "from sklearn.ensemble import RandomForestClassifier\n",
    "from sklearn.linear_model import LogisticRegression\n",
    "from sklearn.tree import DecisionTreeClassifier\n",
    "from sklearn.metrics import classification_report, accuracy_score\n",
    "import seaborn as sns\n",
    "import matplotlib.pyplot as plt\n",
    "\n",
    "# Convert 'Date' to datetime\n",
    "df['Date'] = pd.to_datetime(df['Date'])\n",
    "\n",
    "# Feature engineering: Extract additional time-based features\n",
    "df['Year'] = df['Date'].dt.year\n",
    "df['Month'] = df['Date'].dt.month\n",
    "df['DayOfMonth'] = df['Date'].dt.day\n",
    "\n",
    "# One-hot encoding for 'FullStreet', 'neighborhood', 'zip'\n",
    "df = pd.get_dummies(df, columns=['FullStreet', 'neighborhood', 'zip'], drop_first=True)\n",
    "\n",
    "# Label encoding for ordered variables (those with a natural order like 'DayOfWeek', 'Season', 'TimeOfDay')\n",
    "label_encoders = {}\n",
    "for column in ['DayOfWeek', 'Season', 'TimeOfDay', 'Agency', 'ReportingOfficer']:  # Example ordinal variables\n",
    "    le = LabelEncoder()\n",
    "    df[column] = le.fit_transform(df[column])\n",
    "    label_encoders[column] = le\n",
    "\n",
    "# Filter the dataset to include only the offenses of interest\n",
    "offenses_of_interest = [\n",
    "    'Hit and Run', 'Assault Simple', 'Suspicious Activity', 'Vandalism', \n",
    "    'Larceny - From Mot Vehicle', 'Larceny - All Other', \n",
    "    'Assist Citizen - Mental/TDO/ECO', 'Lost/FoundProperty'\n",
    "]\n",
    "\n",
    "df = df[df['Offense'].isin(offenses_of_interest)]\n",
    "\n",
    "# Label encode the target variable (Offense)\n",
    "offense_encoder = LabelEncoder()\n",
    "df['Offense'] = offense_encoder.fit_transform(df['Offense'])\n",
    "\n",
    "# Separate features (X) and target (y)\n",
    "X = df[['Year', 'Month', 'DayOfMonth', 'DayOfWeek', 'Weekend', 'Season', 'TimeOfDay', 'lat', 'lon', 'Agency', 'ReportingOfficer']]\n",
    "y = df['Offense']  # Offense is now the encoded target variable\n",
    "\n",
    "# Split the data into training and testing sets\n",
    "X_train, X_test, y_train, y_test = train_test_split(X, y, test_size=0.3, random_state=42)\n"
   ]
  },
  {
   "cell_type": "markdown",
   "id": "2af6035f",
   "metadata": {
    "papermill": {
     "duration": 0.007941,
     "end_time": "2025-05-30T01:03:38.068972",
     "exception": false,
     "start_time": "2025-05-30T01:03:38.061031",
     "status": "completed"
    },
    "tags": []
   },
   "source": [
    "### Model Training\n",
    "\n",
    "Here we will train several models (e.g., Random Forest, Logistic Regression, and Decision Tree). We will use cross-validation to choose the best model based on accuracy, and then explain the impact of the variables."
   ]
  },
  {
   "cell_type": "code",
   "execution_count": 22,
   "id": "5d80c12a",
   "metadata": {
    "execution": {
     "iopub.execute_input": "2025-05-30T01:03:38.086206Z",
     "iopub.status.busy": "2025-05-30T01:03:38.085590Z",
     "iopub.status.idle": "2025-05-30T01:03:41.656160Z",
     "shell.execute_reply": "2025-05-30T01:03:41.655580Z"
    },
    "papermill": {
     "duration": 3.580347,
     "end_time": "2025-05-30T01:03:41.657247",
     "exception": false,
     "start_time": "2025-05-30T01:03:38.076900",
     "status": "completed"
    },
    "tags": []
   },
   "outputs": [
    {
     "name": "stderr",
     "output_type": "stream",
     "text": [
      "/opt/hostedtoolcache/Python/3.9.22/x64/lib/python3.9/site-packages/sklearn/linear_model/_logistic.py:465: ConvergenceWarning: lbfgs failed to converge (status=1):\n",
      "STOP: TOTAL NO. of ITERATIONS REACHED LIMIT.\n",
      "\n",
      "Increase the number of iterations (max_iter) or scale the data as shown in:\n",
      "    https://scikit-learn.org/stable/modules/preprocessing.html\n",
      "Please also refer to the documentation for alternative solver options:\n",
      "    https://scikit-learn.org/stable/modules/linear_model.html#logistic-regression\n",
      "  n_iter_i = _check_optimize_result(\n",
      "/opt/hostedtoolcache/Python/3.9.22/x64/lib/python3.9/site-packages/sklearn/metrics/_classification.py:1565: UndefinedMetricWarning: Precision is ill-defined and being set to 0.0 in labels with no predicted samples. Use `zero_division` parameter to control this behavior.\n",
      "  _warn_prf(average, modifier, f\"{metric.capitalize()} is\", len(result))\n",
      "/opt/hostedtoolcache/Python/3.9.22/x64/lib/python3.9/site-packages/sklearn/metrics/_classification.py:1565: UndefinedMetricWarning: Precision is ill-defined and being set to 0.0 in labels with no predicted samples. Use `zero_division` parameter to control this behavior.\n",
      "  _warn_prf(average, modifier, f\"{metric.capitalize()} is\", len(result))\n",
      "/opt/hostedtoolcache/Python/3.9.22/x64/lib/python3.9/site-packages/sklearn/metrics/_classification.py:1565: UndefinedMetricWarning: Precision is ill-defined and being set to 0.0 in labels with no predicted samples. Use `zero_division` parameter to control this behavior.\n",
      "  _warn_prf(average, modifier, f\"{metric.capitalize()} is\", len(result))\n"
     ]
    },
    {
     "name": "stdout",
     "output_type": "stream",
     "text": [
      "\n",
      "Classification Report for All Models:\n",
      "\n",
      "Model: RandomForest\n",
      "Accuracy: 0.2852\n",
      "              precision    recall  f1-score      support\n",
      "0              0.296896  0.368509  0.328849   597.000000\n",
      "1              0.312292  0.207506  0.249337   453.000000\n",
      "2              0.291103  0.487055  0.364407   618.000000\n",
      "3              0.227273  0.172043  0.195838   465.000000\n",
      "4              0.304029  0.233146  0.263911   356.000000\n",
      "5              0.262019  0.210832  0.233655   517.000000\n",
      "6              0.290667  0.224280  0.253194   486.000000\n",
      "accuracy       0.285223  0.285223  0.285223     0.285223\n",
      "macro avg      0.283468  0.271910  0.269884  3492.000000\n",
      "weighted avg   0.283294  0.285223  0.275872  3492.000000\n"
     ]
    },
    {
     "data": {
      "image/png": "[encoded data removed]",
      "text/plain": [
       "<Figure size 800x600 with 2 Axes>"
      ]
     },
     "metadata": {},
     "output_type": "display_data"
    },
    {
     "name": "stdout",
     "output_type": "stream",
     "text": [
      "\n",
      "Model: LogisticRegression\n",
      "Accuracy: 0.2076\n",
      "              precision    recall  f1-score      support\n",
      "0              0.205461  0.504188  0.291950   597.000000\n",
      "1              0.000000  0.000000  0.000000   453.000000\n",
      "2              0.208786  0.684466  0.319970   618.000000\n",
      "3              0.000000  0.000000  0.000000   465.000000\n",
      "4              0.000000  0.000000  0.000000   356.000000\n",
      "5              0.000000  0.000000  0.000000   517.000000\n",
      "6              1.000000  0.002058  0.004107   486.000000\n",
      "accuracy       0.207617  0.207617  0.207617     0.207617\n",
      "macro avg      0.202035  0.170102  0.088004  3492.000000\n",
      "weighted avg   0.211251  0.207617  0.107111  3492.000000\n"
     ]
    },
    {
     "data": {
      "image/png": "[encoded data removed]",
      "text/plain": [
       "<Figure size 800x600 with 2 Axes>"
      ]
     },
     "metadata": {},
     "output_type": "display_data"
    },
    {
     "name": "stdout",
     "output_type": "stream",
     "text": [
      "\n",
      "Model: DecisionTree\n",
      "Accuracy: 0.2288\n",
      "              precision    recall  f1-score      support\n",
      "0              0.254072  0.261307  0.257638   597.000000\n",
      "1              0.213777  0.198675  0.205950   453.000000\n",
      "2              0.271429  0.307443  0.288316   618.000000\n",
      "3              0.182203  0.184946  0.183565   465.000000\n",
      "4              0.218845  0.202247  0.210219   356.000000\n",
      "5              0.198758  0.185687  0.192000   517.000000\n",
      "6              0.230444  0.224280  0.227320   486.000000\n",
      "accuracy       0.228809  0.228809  0.228809     0.228809\n",
      "macro avg      0.224218  0.223512  0.223572  3492.000000\n",
      "weighted avg   0.227277  0.228809  0.227727  3492.000000\n"
     ]
    },
    {
     "data": {
      "image/png": "[encoded data removed]",
      "text/plain": [
       "<Figure size 800x600 with 2 Axes>"
      ]
     },
     "metadata": {},
     "output_type": "display_data"
    },
    {
     "name": "stdout",
     "output_type": "stream",
     "text": [
      "\n",
      "Best Model:\n",
      "Best Model: RandomForestClassifier()\n",
      "Best Model Accuracy: 0.2852\n"
     ]
    }
   ],
   "source": [
    "import pandas as pd\n",
    "from sklearn.model_selection import train_test_split\n",
    "from sklearn.ensemble import RandomForestClassifier\n",
    "from sklearn.linear_model import LogisticRegression\n",
    "from sklearn.tree import DecisionTreeClassifier\n",
    "from sklearn.metrics import classification_report, accuracy_score, confusion_matrix\n",
    "import seaborn as sns\n",
    "import matplotlib.pyplot as plt\n",
    "\n",
    "# Define models\n",
    "models = {\n",
    "    'RandomForest': RandomForestClassifier(),\n",
    "    'LogisticRegression': LogisticRegression(max_iter=1000),\n",
    "    'DecisionTree': DecisionTreeClassifier()\n",
    "}\n",
    "\n",
    "# Train models and evaluate them\n",
    "best_model = None\n",
    "best_score = 0\n",
    "model_reports = {}\n",
    "\n",
    "for model_name, model in models.items():\n",
    "    model.fit(X_train, y_train)  # Train model\n",
    "    y_pred = model.predict(X_test)  # Make predictions\n",
    "    \n",
    "    # Calculate accuracy and generate classification report\n",
    "    accuracy = accuracy_score(y_test, y_pred)\n",
    "    model_reports[model_name] = classification_report(y_test, y_pred, output_dict=True)  # Store as a dictionary for easier analysis\n",
    "    \n",
    "    # Track best performing model\n",
    "    if accuracy > best_score:\n",
    "        best_score = accuracy\n",
    "        best_model = model\n",
    "\n",
    "# Display classification reports and confusion matrices\n",
    "print(\"\\nClassification Report for All Models:\")\n",
    "for model_name, report in model_reports.items():\n",
    "    print(f\"\\nModel: {model_name}\")\n",
    "    print(\"Accuracy: {:.4f}\".format(accuracy_score(y_test, models[model_name].predict(X_test))))  # Display accuracy\n",
    "    print(pd.DataFrame(report).transpose())  # Display classification report as a DataFrame\n",
    "\n",
    "    # Plot Confusion Matrix\n",
    "    cm = confusion_matrix(y_test, models[model_name].predict(X_test))\n",
    "    plt.figure(figsize=(8, 6))\n",
    "    sns.heatmap(cm, annot=True, fmt=\"d\", cmap='Blues', xticklabels=offense_encoder.classes_, yticklabels=offense_encoder.classes_)\n",
    "    plt.title(f\"Confusion Matrix - {model_name}\")\n",
    "    plt.xlabel('Predicted Labels')\n",
    "    plt.ylabel('True Labels')\n",
    "    plt.show()\n",
    "\n",
    "# Display best model details\n",
    "print(\"\\nBest Model:\")\n",
    "print(f\"Best Model: {best_model}\")\n",
    "print(f\"Best Model Accuracy: {best_score:.4f}\")\n"
   ]
  },
  {
   "cell_type": "markdown",
   "id": "ff4c2ecc",
   "metadata": {
    "papermill": {
     "duration": 0.010564,
     "end_time": "2025-05-30T01:03:41.679210",
     "exception": false,
     "start_time": "2025-05-30T01:03:41.668646",
     "status": "completed"
    },
    "tags": []
   },
   "source": [
    "#### Classification Report for All Models:\n",
    "\n",
    "### Explanation of the Classification Results (RandomForest Model)\n",
    "\n",
    "The results you provided are from a **Random Forest** model, which is used for predicting different types of offenses. Let's break down the key components of the results:\n",
    "\n",
    "#### 1. **Accuracy: 0.2822**\n",
    "   - **Accuracy** measures the overall percentage of correct predictions made by the model. An accuracy of 28.22% means the model correctly predicted the offense in about 28% of the cases. This indicates the model's predictions are not highly reliable, as the accuracy is quite low.\n",
    "\n",
    "#### 2. **Classification Report:**\n",
    "   The classification report includes precision, recall, and F1-score for each offense. Let's go over these terms and how they apply to the results:\n",
    "\n",
    "   - **Precision**: The proportion of true positive predictions out of all positive predictions made by the model for a specific class (offense).\n",
    "   - **Recall**: The proportion of true positive predictions out of all actual positive instances in the dataset.\n",
    "   - **F1-Score**: The harmonic mean of precision and recall, providing a balance between the two metrics.\n",
    "   - **Support**: The number of actual occurrences of each class in the test set.\n",
    "\n",
    "   Let's analyze each offense based on these metrics:\n",
    "\n",
    "   | **Offense**                        | **Precision** | **Recall** | **F1-Score** | **Support** |\n",
    "   |------------------------------------|---------------|------------|--------------|-------------|\n",
    "   | **Assault Simple**                 | 0.2892        | 0.3754     | 0.3267       | 594         |\n",
    "   | **Assist Citizen - Mental/TDO/ECO**| 0.3182        | 0.2274     | 0.2652       | 431         |\n",
    "   | **Hit and Run**                    | 0.2963        | 0.4765     | 0.3654       | 638         |\n",
    "   | **Larceny - All Other**            | 0.2270        | 0.1453     | 0.1772       | 475         |\n",
    "   | **Lost/FoundProperty**             | 0.3333        | 0.2102     | 0.2578       | 352         |\n",
    "   | **Suspicious Activity**            | 0.2344        | 0.2169     | 0.2253       | 484         |\n",
    "   | **Vandalism**                      | 0.2712        | 0.2106     | 0.2371       | 470         |\n",
    "\n",
    "#### 3. **Key Insights from the Report:**\n",
    "\n",
    "- **Precision**:\n",
    "   - The highest precision is for **Larceny - All Other** (0.3333), indicating that when the model predicts this offense, it is correct about 33% of the time. However, this is still quite low.\n",
    "   - **Assist Citizen - Mental/TDO/ECO** has the lowest precision (0.2269), meaning that the model's predictions for this offense tend to be wrong more often than correct.\n",
    "\n",
    "- **Recall**:\n",
    "   - **Hit and Run** has the highest recall (0.4765), meaning the model identifies about 48% of the actual occurrences of this offense. This is better than the precision, which indicates it is missing many true positives but is still able to identify a fair number of cases.\n",
    "   - **Larceny - All Other** and **Suspicious Activity** have the lowest recall values (0.1453 and 0.2169, respectively), indicating that the model is failing to identify most of the actual cases for these offenses.\n",
    "\n",
    "- **F1-Score**:\n",
    "   - The **F1-Score** balances precision and recall. It is highest for **Hit and Run** (0.3654), but still relatively low overall. This suggests the model is better at identifying **Hit and Run** than other offenses but still has room for improvement.\n",
    "   - **Larceny - All Other** has the lowest F1-Score (0.1772), indicating a poor balance between precision and recall for this offense.\n",
    "\n",
    "#### 4. **Macro Average and Weighted Average:**\n",
    "   - **Macro Average**: This gives the average precision, recall, and F1-Score across all classes (offenses) without considering the class distribution. It averages the results for all offenses equally.\n",
    "     - Precision: 0.2814\n",
    "     - Recall: 0.2661\n",
    "     - F1-Score: 0.2649\n",
    "   - **Weighted Average**: This averages the metrics but weighs each class by its support (the number of true instances in the test set). This gives a better sense of overall performance, considering the class distribution.\n",
    "     - Precision: 0.2799\n",
    "     - Recall: 0.2822\n",
    "     - F1-Score: 0.2720\n",
    "\n",
    "#### 5. **Confusion Matrix (Visualization Analysis)**:\n",
    "   - The confusion matrix shows the distribution of true positive, false positive, true negative, and false negative predictions for each class.\n",
    "     - For **Hit and Run**, the model performs relatively well in identifying this offense (304 true positives). However, it also misclassifies some **Hit and Run** instances as other offenses (e.g., **Assault Simple**, **Suspicious Activity**, etc.).\n",
    "     - **Larceny - All Other** is frequently misclassified as **Hit and Run**, **Suspicious Activity**, and others. This is evident from the large number of off-diagonal elements in its row.\n",
    "     - **Assist Citizen - Mental/TDO/ECO** and **Suspicious Activity** are frequently misclassified, as seen by the off-diagonal values in their rows.\n",
    "\n",
    "### Conclusion:\n",
    "The Random Forest model has low accuracy (28.22%), suggesting that it struggles to predict most offenses accurately. Some offenses like **Hit and Run** are better predicted than others, but overall, the model shows a high level of misclassification across all offenses. There may be a need for further tuning of the model, additional feature engineering, or trying different models for better performance.\n",
    "\n",
    "Let me know if you'd like to improve the model or make adjustments based on these results!\n",
    "\n"
   ]
  },
  {
   "cell_type": "markdown",
   "id": "96aaa32b",
   "metadata": {
    "papermill": {
     "duration": 0.010515,
     "end_time": "2025-05-30T01:03:41.700242",
     "exception": false,
     "start_time": "2025-05-30T01:03:41.689727",
     "status": "completed"
    },
    "tags": []
   },
   "source": [
    "### Model Explanation\n",
    "\n",
    "Once we’ve chosen the best model, we will explain its predictions by examining feature importance for tree-based models and using statistical methods like logistic regression coefficients for linear models."
   ]
  },
  {
   "cell_type": "markdown",
   "id": "e8987505",
   "metadata": {
    "papermill": {
     "duration": 0.010495,
     "end_time": "2025-05-30T01:03:41.721266",
     "exception": false,
     "start_time": "2025-05-30T01:03:41.710771",
     "status": "completed"
    },
    "tags": []
   },
   "source": [
    "#### Feature Importance for Random Forest / Decision Tree\n",
    "\n",
    "##### For Tree-based Models (Random Forest, Decision Tree)\n",
    "\n",
    "For Random Forest or Decision Tree, we can look at feature importance to understand which variables contribute the most to the model's predictions. Here's how you can visualize and interpret the importance of each feature:"
   ]
  },
  {
   "cell_type": "code",
   "execution_count": 23,
   "id": "5a9672cd",
   "metadata": {
    "execution": {
     "iopub.execute_input": "2025-05-30T01:03:41.743678Z",
     "iopub.status.busy": "2025-05-30T01:03:41.743122Z",
     "iopub.status.idle": "2025-05-30T01:03:41.907618Z",
     "shell.execute_reply": "2025-05-30T01:03:41.906899Z"
    },
    "papermill": {
     "duration": 0.17684,
     "end_time": "2025-05-30T01:03:41.908685",
     "exception": false,
     "start_time": "2025-05-30T01:03:41.731845",
     "status": "completed"
    },
    "tags": []
   },
   "outputs": [
    {
     "data": {
      "image/png": "[encoded data removed]",
      "text/plain": [
       "<Figure size 1000x600 with 1 Axes>"
      ]
     },
     "metadata": {},
     "output_type": "display_data"
    }
   ],
   "source": [
    "# For RandomForest or DecisionTree models, we can check feature importance\n",
    "if isinstance(best_model, RandomForestClassifier) or isinstance(best_model, DecisionTreeClassifier):\n",
    "    feature_importance = best_model.feature_importances_\n",
    "    feature_names = X.columns\n",
    "    importance_df = pd.DataFrame({'Feature': feature_names, 'Importance': feature_importance})\n",
    "    importance_df = importance_df.sort_values(by='Importance', ascending=False)\n",
    "    \n",
    "    # Plotting the feature importances\n",
    "    plt.figure(figsize=(10, 6))\n",
    "    sns.barplot(x='Importance', y='Feature', data=importance_df)\n",
    "    plt.title(\"Feature Importance\")\n",
    "    plt.show()\n"
   ]
  },
  {
   "cell_type": "code",
   "execution_count": null,
   "id": "4771e3e8",
   "metadata": {
    "papermill": {
     "duration": 0.011081,
     "end_time": "2025-05-30T01:03:41.931271",
     "exception": false,
     "start_time": "2025-05-30T01:03:41.920190",
     "status": "completed"
    },
    "tags": []
   },
   "outputs": [],
   "source": []
  },
  {
   "cell_type": "markdown",
   "id": "5ce3f5df",
   "metadata": {
    "papermill": {
     "duration": 0.010903,
     "end_time": "2025-05-30T01:03:41.953205",
     "exception": false,
     "start_time": "2025-05-30T01:03:41.942302",
     "status": "completed"
    },
    "tags": []
   },
   "source": [
    "### Evaluation\n",
    "\n",
    "After training the models and examining their performance, we evaluate the chosen model based on metrics like accuracy, precision, recall, and F1 score.\n",
    "\n"
   ]
  },
  {
   "cell_type": "code",
   "execution_count": 24,
   "id": "98f517b7",
   "metadata": {
    "execution": {
     "iopub.execute_input": "2025-05-30T01:03:41.976702Z",
     "iopub.status.busy": "2025-05-30T01:03:41.976177Z",
     "iopub.status.idle": "2025-05-30T01:03:42.067164Z",
     "shell.execute_reply": "2025-05-30T01:03:42.066469Z"
    },
    "papermill": {
     "duration": 0.104022,
     "end_time": "2025-05-30T01:03:42.068210",
     "exception": false,
     "start_time": "2025-05-30T01:03:41.964188",
     "status": "completed"
    },
    "tags": []
   },
   "outputs": [
    {
     "name": "stdout",
     "output_type": "stream",
     "text": [
      "Accuracy: 0.2852\n",
      "Classification Report:\n",
      "              precision    recall  f1-score   support\n",
      "\n",
      "           0       0.30      0.37      0.33       597\n",
      "           1       0.31      0.21      0.25       453\n",
      "           2       0.29      0.49      0.36       618\n",
      "           3       0.23      0.17      0.20       465\n",
      "           4       0.30      0.23      0.26       356\n",
      "           5       0.26      0.21      0.23       517\n",
      "           6       0.29      0.22      0.25       486\n",
      "\n",
      "    accuracy                           0.29      3492\n",
      "   macro avg       0.28      0.27      0.27      3492\n",
      "weighted avg       0.28      0.29      0.28      3492\n",
      "\n",
      "Confusion Matrix:\n",
      "[[220  46 155  47  24  72  33]\n",
      " [112  94 115  35  30  41  26]\n",
      " [ 98  41 301  57  20  60  41]\n",
      " [ 90  19 129  80  34  49  64]\n",
      " [ 44  25  83  37  83  35  49]\n",
      " [ 92  47 131  46  39 109  53]\n",
      " [ 85  29 120  50  43  50 109]]\n",
      "Precision: 0.2833\n",
      "Recall: 0.2852\n",
      "F1 Score: 0.2759\n"
     ]
    }
   ],
   "source": [
    "from sklearn.metrics import classification_report, confusion_matrix, accuracy_score, precision_score, recall_score, f1_score\n",
    "\n",
    "# Predict on the test set\n",
    "y_pred = best_model.predict(X_test)\n",
    "\n",
    "# Calculate Accuracy\n",
    "accuracy = accuracy_score(y_test, y_pred)\n",
    "print(f\"Accuracy: {accuracy:.4f}\")\n",
    "\n",
    "# Classification Report\n",
    "print(\"Classification Report:\")\n",
    "print(classification_report(y_test, y_pred))\n",
    "\n",
    "# Confusion Matrix\n",
    "conf_matrix = confusion_matrix(y_test, y_pred)\n",
    "print(\"Confusion Matrix:\")\n",
    "print(conf_matrix)\n",
    "\n",
    "# Precision, Recall, F1 Score for each class (Offense Type)\n",
    "precision = precision_score(y_test, y_pred, average='weighted')\n",
    "recall = recall_score(y_test, y_pred, average='weighted')\n",
    "f1 = f1_score(y_test, y_pred, average='weighted')\n",
    "\n",
    "print(f\"Precision: {precision:.4f}\")\n",
    "print(f\"Recall: {recall:.4f}\")\n",
    "print(f\"F1 Score: {f1:.4f}\")\n"
   ]
  },
  {
   "cell_type": "markdown",
   "id": "3a2b2d3f",
   "metadata": {
    "papermill": {
     "duration": 0.011214,
     "end_time": "2025-05-30T01:03:42.091094",
     "exception": false,
     "start_time": "2025-05-30T01:03:42.079880",
     "status": "completed"
    },
    "tags": []
   },
   "source": [
    "#### For Logistic Regression (Coefficient Interpretation)\n",
    "\n",
    "For Logistic Regression, the model coefficients can help us understand how each feature affects the likelihood of an offense happening. A positive coefficient indicates a feature increases the likelihood of the offense, and a negative coefficient indicates the opposite."
   ]
  },
  {
   "cell_type": "code",
   "execution_count": 25,
   "id": "f5ea3840",
   "metadata": {
    "execution": {
     "iopub.execute_input": "2025-05-30T01:03:42.114719Z",
     "iopub.status.busy": "2025-05-30T01:03:42.114261Z",
     "iopub.status.idle": "2025-05-30T01:03:42.119162Z",
     "shell.execute_reply": "2025-05-30T01:03:42.118594Z"
    },
    "papermill": {
     "duration": 0.017951,
     "end_time": "2025-05-30T01:03:42.120242",
     "exception": false,
     "start_time": "2025-05-30T01:03:42.102291",
     "status": "completed"
    },
    "tags": []
   },
   "outputs": [],
   "source": [
    "if isinstance(best_model, LogisticRegression):\n",
    "    # Logistic regression coefficients\n",
    "    coef_df = pd.DataFrame({\n",
    "        'Feature': X.columns,\n",
    "        'Coefficient': best_model.coef_[0]\n",
    "    })\n",
    "    coef_df['AbsCoefficient'] = coef_df['Coefficient'].abs()\n",
    "    coef_df = coef_df.sort_values(by='AbsCoefficient', ascending=False)\n",
    "    \n",
    "    # Plotting the coefficients\n",
    "    plt.figure(figsize=(10, 6))\n",
    "    sns.barplot(x='AbsCoefficient', y='Feature', data=coef_df)\n",
    "    plt.title(\"Logistic Regression Coefficients Impact\")\n",
    "    plt.show()\n",
    "\n",
    "    # Print the top 5 most impactful features (by absolute coefficient value)\n",
    "    print(\"Top 5 most impactful features based on coefficients:\")\n",
    "    print(coef_df.head())\n"
   ]
  },
  {
   "cell_type": "markdown",
   "id": "e7d50e05",
   "metadata": {
    "papermill": {
     "duration": 0.011267,
     "end_time": "2025-05-30T01:03:42.142791",
     "exception": false,
     "start_time": "2025-05-30T01:03:42.131524",
     "status": "completed"
    },
    "tags": []
   },
   "source": [
    "Explanation of Output:\n",
    "\n",
    "Feature Importance (Random Forest/Decision Tree): The bar plot will show how important each feature is in the decision-making process. Features at the top of the list are the most influential in predicting the occurrence of offenses.\n",
    "\n",
    "Logistic Regression Coefficients: The bar plot will show the magnitude of the coefficients for each feature. Features with larger absolute values (either positive or negative) have a stronger impact on the model’s predictions. Positive coefficients increase the probability of an offense, while negative coefficients decrease it."
   ]
  },
  {
   "cell_type": "markdown",
   "id": "f2546091",
   "metadata": {
    "papermill": {
     "duration": 0.011161,
     "end_time": "2025-05-30T01:03:42.165138",
     "exception": false,
     "start_time": "2025-05-30T01:03:42.153977",
     "status": "completed"
    },
    "tags": []
   },
   "source": []
  }
 ],
 "metadata": {
  "kernelspec": {
   "display_name": "Python 3",
   "language": "python",
   "name": "python3"
  },
  "language_info": {
   "codemirror_mode": {
    "name": "ipython",
    "version": 3
   },
   "file_extension": ".py",
   "mimetype": "text/x-python",
   "name": "python",
   "nbconvert_exporter": "python",
   "pygments_lexer": "ipython3",
   "version": "3.9.22"
  },
  "papermill": {
   "default_parameters": {},
   "duration": 78.688956,
   "end_time": "2025-05-30T01:03:42.592459",
   "environment_variables": {},
   "exception": null,
   "input_path": "notebook/Crime Data.ipynb",
   "output_path": "notebook/Crime Data_output.ipynb",
   "parameters": {},
   "start_time": "2025-05-30T01:02:23.903503",
   "version": "2.6.0"
  }
 },
 "nbformat": 4,
 "nbformat_minor": 5
}