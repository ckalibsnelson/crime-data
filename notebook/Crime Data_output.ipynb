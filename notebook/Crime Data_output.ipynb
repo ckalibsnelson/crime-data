{
 "cells": [
  {
   "cell_type": "markdown",
   "id": "502b8961",
   "metadata": {
    "papermill": {
     "duration": 0.006427,
     "end_time": "2025-04-26T00:58:53.113061",
     "exception": false,
     "start_time": "2025-04-26T00:58:53.106634",
     "status": "completed"
    },
    "tags": []
   },
   "source": [
    "# Charlottesville Open Data Porttal: Crime Data"
   ]
  },
  {
   "cell_type": "markdown",
   "id": "12596e4e",
   "metadata": {
    "papermill": {
     "duration": 0.005095,
     "end_time": "2025-04-26T00:58:53.123724",
     "exception": false,
     "start_time": "2025-04-26T00:58:53.118629",
     "status": "completed"
    },
    "tags": []
   },
   "source": [
    "## Import Relevant Librarires & Set WD"
   ]
  },
  {
   "cell_type": "code",
   "execution_count": 1,
   "id": "5c659314",
   "metadata": {
    "execution": {
     "iopub.execute_input": "2025-04-26T00:58:53.135665Z",
     "iopub.status.busy": "2025-04-26T00:58:53.135090Z",
     "iopub.status.idle": "2025-04-26T00:58:53.711435Z",
     "shell.execute_reply": "2025-04-26T00:58:53.710741Z"
    },
    "papermill": {
     "duration": 0.583951,
     "end_time": "2025-04-26T00:58:53.712805",
     "exception": false,
     "start_time": "2025-04-26T00:58:53.128854",
     "status": "completed"
    },
    "tags": []
   },
   "outputs": [],
   "source": [
    "import requests\n",
    "import pandas as pd\n",
    "import numpy as np\n",
    "import pickle\n",
    "import googlemaps\n",
    "import plotly.express as px\n",
    "from geopy.geocoders import Nominatim\n",
    "import time\n",
    "from dotenv import load_dotenv\n",
    "import os\n",
    "\n",
    "env_path = os.path.join(\"..\", \".env\")\n",
    "#print(\"Looking for .env file at:\", os.path.abspath(env_path))\n",
    "load_dotenv(dotenv_path=env_path)\n",
    "\n",
    "# Retrieve the variables\n",
    "GOOGLE_API_KEY = os.getenv(\"GOOGLE_API_KEY\")\n",
    "WORKING_DIR = os.getenv(\"WORKING_DIR\")\n",
    "\n",
    "if GOOGLE_API_KEY is None or WORKING_DIR is None:\n",
    "    raise RuntimeError(\"No configuration found. Please ensure that your .env file exists with the required variables, or create a local config.py file.\")\n",
    "\n",
    "#print(\"Google API Key:\", GOOGLE_API_KEY)\n",
    "#print(\"Working Directory:\", WORKING_DIR)"
   ]
  },
  {
   "cell_type": "markdown",
   "id": "38088e4d",
   "metadata": {
    "papermill": {
     "duration": 0.004979,
     "end_time": "2025-04-26T00:58:53.723256",
     "exception": false,
     "start_time": "2025-04-26T00:58:53.718277",
     "status": "completed"
    },
    "tags": []
   },
   "source": [
    "## Import Data\n",
    "\n",
    "URL: https://opendata.charlottesville.org/datasets/charlottesville::crime-data/about"
   ]
  },
  {
   "cell_type": "code",
   "execution_count": 2,
   "id": "2a93fbbc",
   "metadata": {
    "execution": {
     "iopub.execute_input": "2025-04-26T00:58:53.734567Z",
     "iopub.status.busy": "2025-04-26T00:58:53.734025Z",
     "iopub.status.idle": "2025-04-26T00:59:53.513435Z",
     "shell.execute_reply": "2025-04-26T00:59:53.512741Z"
    },
    "papermill": {
     "duration": 59.79075,
     "end_time": "2025-04-26T00:59:53.519042",
     "exception": false,
     "start_time": "2025-04-26T00:58:53.728292",
     "status": "completed"
    },
    "tags": []
   },
   "outputs": [
    {
     "name": "stdout",
     "output_type": "stream",
     "text": [
      "Total records imported: 25266\n"
     ]
    }
   ],
   "source": [
    "# Define the endpoint and initial parameters.\n",
    "url = \"https://gisweb.charlottesville.org/arcgis/rest/services/OpenData_2/MapServer/6/query\"\n",
    "params = {\n",
    "    \"where\": \"1=1\",\n",
    "    \"outFields\": \"*\",\n",
    "    \"outSR\": 4326,\n",
    "    \"f\": \"json\",\n",
    "    \"resultOffset\": 0,       # Starting index for results\n",
    "    \"resultRecordCount\": 10000  # Maximum records per batch (if allowed by the API)\n",
    "}\n",
    "\n",
    "records = []\n",
    "\n",
    "while True:\n",
    "    response = requests.get(url, params=params)\n",
    "    response.raise_for_status()\n",
    "    data = response.json()\n",
    "    \n",
    "    # Get the current batch of features.\n",
    "    features = data.get(\"features\", [])\n",
    "    if not features:\n",
    "        break\n",
    "\n",
    "    # Extract the attributes from the features.\n",
    "    batch_records = [feature.get(\"attributes\", {}) for feature in features]\n",
    "    records.extend(batch_records)\n",
    "    \n",
    "    # If the batch size is less than the requested count, we reached the end.\n",
    "    if len(features) < params[\"resultRecordCount\"]:\n",
    "        break\n",
    "\n",
    "    # Update the resultOffset for the next batch.\n",
    "    params[\"resultOffset\"] += params[\"resultRecordCount\"]\n",
    "\n",
    "# Create a DataFrame from the combined records.\n",
    "df = pd.DataFrame(records)\n",
    "print(\"Total records imported:\", len(df))\n"
   ]
  },
  {
   "cell_type": "code",
   "execution_count": 3,
   "id": "6025ac38",
   "metadata": {
    "execution": {
     "iopub.execute_input": "2025-04-26T00:59:53.530897Z",
     "iopub.status.busy": "2025-04-26T00:59:53.530645Z",
     "iopub.status.idle": "2025-04-26T00:59:53.542991Z",
     "shell.execute_reply": "2025-04-26T00:59:53.542426Z"
    },
    "papermill": {
     "duration": 0.019707,
     "end_time": "2025-04-26T00:59:53.544013",
     "exception": false,
     "start_time": "2025-04-26T00:59:53.524306",
     "status": "completed"
    },
    "tags": []
   },
   "outputs": [
    {
     "data": {
      "text/html": [
       "<div>\n",
       "<style scoped>\n",
       "    .dataframe tbody tr th:only-of-type {\n",
       "        vertical-align: middle;\n",
       "    }\n",
       "\n",
       "    .dataframe tbody tr th {\n",
       "        vertical-align: top;\n",
       "    }\n",
       "\n",
       "    .dataframe thead th {\n",
       "        text-align: right;\n",
       "    }\n",
       "</style>\n",
       "<table border=\"1\" class=\"dataframe\">\n",
       "  <thead>\n",
       "    <tr style=\"text-align: right;\">\n",
       "      <th></th>\n",
       "      <th>RecordID</th>\n",
       "      <th>Offense</th>\n",
       "      <th>IncidentID</th>\n",
       "      <th>BlockNumber</th>\n",
       "      <th>StreetName</th>\n",
       "      <th>Agency</th>\n",
       "      <th>DateReported</th>\n",
       "      <th>HourReported</th>\n",
       "      <th>ReportingOfficer</th>\n",
       "    </tr>\n",
       "  </thead>\n",
       "  <tbody>\n",
       "    <tr>\n",
       "      <th>0</th>\n",
       "      <td>1</td>\n",
       "      <td>Larceny - All Other</td>\n",
       "      <td>202500013313</td>\n",
       "      <td>1000</td>\n",
       "      <td>CHERRY AVE</td>\n",
       "      <td>CPD</td>\n",
       "      <td>1745441251000</td>\n",
       "      <td>1647</td>\n",
       "      <td>Bentz, Benjamin</td>\n",
       "    </tr>\n",
       "    <tr>\n",
       "      <th>1</th>\n",
       "      <td>2</td>\n",
       "      <td>Larceny - All Other</td>\n",
       "      <td>202500013314</td>\n",
       "      <td>1500</td>\n",
       "      <td>UNIVERSITY AVE</td>\n",
       "      <td>CPD</td>\n",
       "      <td>1745436754000</td>\n",
       "      <td>1532</td>\n",
       "      <td>Shiflett, Ethan</td>\n",
       "    </tr>\n",
       "    <tr>\n",
       "      <th>2</th>\n",
       "      <td>3</td>\n",
       "      <td>Lost/FoundProperty</td>\n",
       "      <td>202500013295</td>\n",
       "      <td>900</td>\n",
       "      <td>PRESTON AVE</td>\n",
       "      <td>CPD</td>\n",
       "      <td>1745435023000</td>\n",
       "      <td>1503</td>\n",
       "      <td>Rigsby, Lloyd</td>\n",
       "    </tr>\n",
       "    <tr>\n",
       "      <th>3</th>\n",
       "      <td>4</td>\n",
       "      <td>Larceny - Theft from Building</td>\n",
       "      <td>202500013294</td>\n",
       "      <td>900</td>\n",
       "      <td>ANDERSON ST</td>\n",
       "      <td>CPD</td>\n",
       "      <td>1745431874000</td>\n",
       "      <td>1411</td>\n",
       "      <td>Moriarty, Thomas</td>\n",
       "    </tr>\n",
       "    <tr>\n",
       "      <th>4</th>\n",
       "      <td>5</td>\n",
       "      <td>Suspicious Activity</td>\n",
       "      <td>202500013286</td>\n",
       "      <td>200</td>\n",
       "      <td>RIDGE ST</td>\n",
       "      <td>CPD</td>\n",
       "      <td>1745429360000</td>\n",
       "      <td>1329</td>\n",
       "      <td>Carrasco, Julio</td>\n",
       "    </tr>\n",
       "  </tbody>\n",
       "</table>\n",
       "</div>"
      ],
      "text/plain": [
       "   RecordID                        Offense    IncidentID BlockNumber  \\\n",
       "0         1            Larceny - All Other  202500013313        1000   \n",
       "1         2            Larceny - All Other  202500013314        1500   \n",
       "2         3             Lost/FoundProperty  202500013295         900   \n",
       "3         4  Larceny - Theft from Building  202500013294         900   \n",
       "4         5            Suspicious Activity  202500013286         200   \n",
       "\n",
       "       StreetName Agency   DateReported HourReported  ReportingOfficer  \n",
       "0      CHERRY AVE    CPD  1745441251000         1647  Bentz, Benjamin   \n",
       "1  UNIVERSITY AVE    CPD  1745436754000         1532  Shiflett, Ethan   \n",
       "2     PRESTON AVE    CPD  1745435023000         1503     Rigsby, Lloyd  \n",
       "3     ANDERSON ST    CPD  1745431874000         1411  Moriarty, Thomas  \n",
       "4        RIDGE ST    CPD  1745429360000         1329   Carrasco, Julio  "
      ]
     },
     "execution_count": 3,
     "metadata": {},
     "output_type": "execute_result"
    }
   ],
   "source": [
    "df.head()"
   ]
  },
  {
   "cell_type": "code",
   "execution_count": 4,
   "id": "72151fd2",
   "metadata": {
    "execution": {
     "iopub.execute_input": "2025-04-26T00:59:53.555467Z",
     "iopub.status.busy": "2025-04-26T00:59:53.555230Z",
     "iopub.status.idle": "2025-04-26T00:59:53.559695Z",
     "shell.execute_reply": "2025-04-26T00:59:53.559170Z"
    },
    "papermill": {
     "duration": 0.0114,
     "end_time": "2025-04-26T00:59:53.560720",
     "exception": false,
     "start_time": "2025-04-26T00:59:53.549320",
     "status": "completed"
    },
    "tags": []
   },
   "outputs": [
    {
     "data": {
      "text/plain": [
       "Index(['RecordID', 'Offense', 'IncidentID', 'BlockNumber', 'StreetName',\n",
       "       'Agency', 'DateReported', 'HourReported', 'ReportingOfficer'],\n",
       "      dtype='object')"
      ]
     },
     "execution_count": 4,
     "metadata": {},
     "output_type": "execute_result"
    }
   ],
   "source": [
    "df.columns"
   ]
  },
  {
   "cell_type": "code",
   "execution_count": 5,
   "id": "25d593b8",
   "metadata": {
    "execution": {
     "iopub.execute_input": "2025-04-26T00:59:53.572467Z",
     "iopub.status.busy": "2025-04-26T00:59:53.572274Z",
     "iopub.status.idle": "2025-04-26T00:59:53.593963Z",
     "shell.execute_reply": "2025-04-26T00:59:53.593323Z"
    },
    "papermill": {
     "duration": 0.028839,
     "end_time": "2025-04-26T00:59:53.595035",
     "exception": false,
     "start_time": "2025-04-26T00:59:53.566196",
     "status": "completed"
    },
    "tags": []
   },
   "outputs": [
    {
     "name": "stdout",
     "output_type": "stream",
     "text": [
      "<class 'pandas.core.frame.DataFrame'>\n",
      "RangeIndex: 25266 entries, 0 to 25265\n",
      "Data columns (total 9 columns):\n",
      " #   Column            Non-Null Count  Dtype \n",
      "---  ------            --------------  ----- \n",
      " 0   RecordID          25266 non-null  int64 \n",
      " 1   Offense           25266 non-null  object\n",
      " 2   IncidentID        25266 non-null  object\n",
      " 3   BlockNumber       25266 non-null  object\n",
      " 4   StreetName        25266 non-null  object\n",
      " 5   Agency            25266 non-null  object\n",
      " 6   DateReported      25266 non-null  int64 \n",
      " 7   HourReported      25266 non-null  object\n",
      " 8   ReportingOfficer  25249 non-null  object\n",
      "dtypes: int64(2), object(7)\n",
      "memory usage: 1.7+ MB\n"
     ]
    }
   ],
   "source": [
    "df.info()"
   ]
  },
  {
   "cell_type": "markdown",
   "id": "3723ddaf",
   "metadata": {
    "papermill": {
     "duration": 0.0056,
     "end_time": "2025-04-26T00:59:53.606377",
     "exception": false,
     "start_time": "2025-04-26T00:59:53.600777",
     "status": "completed"
    },
    "tags": []
   },
   "source": [
    "### Missing Values"
   ]
  },
  {
   "cell_type": "code",
   "execution_count": 6,
   "id": "1e63769c",
   "metadata": {
    "execution": {
     "iopub.execute_input": "2025-04-26T00:59:53.618524Z",
     "iopub.status.busy": "2025-04-26T00:59:53.618045Z",
     "iopub.status.idle": "2025-04-26T00:59:53.637810Z",
     "shell.execute_reply": "2025-04-26T00:59:53.637176Z"
    },
    "papermill": {
     "duration": 0.027017,
     "end_time": "2025-04-26T00:59:53.638887",
     "exception": false,
     "start_time": "2025-04-26T00:59:53.611870",
     "status": "completed"
    },
    "tags": []
   },
   "outputs": [
    {
     "name": "stdout",
     "output_type": "stream",
     "text": [
      "                  MissingCount  MissingPercentage\n",
      "RecordID                     0               0.00\n",
      "Offense                      0               0.00\n",
      "IncidentID                   0               0.00\n",
      "BlockNumber                  0               0.00\n",
      "StreetName                   0               0.00\n",
      "Agency                       0               0.00\n",
      "DateReported                 0               0.00\n",
      "HourReported                 0               0.00\n",
      "ReportingOfficer            17               0.07\n"
     ]
    }
   ],
   "source": [
    "def missing_percentage(df):\n",
    "    \"\"\"\n",
    "    Returns a DataFrame with the count and percentage of missing values for each column.\n",
    "    \n",
    "    Parameters:\n",
    "        df (pd.DataFrame): The input DataFrame.\n",
    "    \n",
    "    Returns:\n",
    "        pd.DataFrame: A DataFrame with columns 'MissingCount' and 'MissingPercentage'.\n",
    "    \"\"\"\n",
    "    total_rows = len(df)\n",
    "    missing_count = df.isnull().sum()\n",
    "    missing_percent = (missing_count / total_rows) * 100\n",
    "    \n",
    "    result = pd.DataFrame({\n",
    "        'MissingCount': missing_count,\n",
    "        'MissingPercentage': missing_percent.round(2)\n",
    "    })\n",
    "    \n",
    "    return result\n",
    "\n",
    "# Example usage:\n",
    "missing_info = missing_percentage(df)\n",
    "print(missing_info)\n"
   ]
  },
  {
   "cell_type": "markdown",
   "id": "d8ea8e57",
   "metadata": {
    "papermill": {
     "duration": 0.005599,
     "end_time": "2025-04-26T00:59:53.650246",
     "exception": false,
     "start_time": "2025-04-26T00:59:53.644647",
     "status": "completed"
    },
    "tags": []
   },
   "source": [
    "## Data Preparation"
   ]
  },
  {
   "cell_type": "markdown",
   "id": "9fa92d05",
   "metadata": {
    "papermill": {
     "duration": 0.005522,
     "end_time": "2025-04-26T00:59:53.661339",
     "exception": false,
     "start_time": "2025-04-26T00:59:53.655817",
     "status": "completed"
    },
    "tags": []
   },
   "source": [
    "### Data Conversion"
   ]
  },
  {
   "cell_type": "code",
   "execution_count": 7,
   "id": "5d0684fe",
   "metadata": {
    "execution": {
     "iopub.execute_input": "2025-04-26T00:59:53.673612Z",
     "iopub.status.busy": "2025-04-26T00:59:53.673228Z",
     "iopub.status.idle": "2025-04-26T00:59:54.039843Z",
     "shell.execute_reply": "2025-04-26T00:59:54.039166Z"
    },
    "papermill": {
     "duration": 0.374133,
     "end_time": "2025-04-26T00:59:54.041024",
     "exception": false,
     "start_time": "2025-04-26T00:59:53.666891",
     "status": "completed"
    },
    "tags": []
   },
   "outputs": [
    {
     "data": {
      "text/html": [
       "<div>\n",
       "<style scoped>\n",
       "    .dataframe tbody tr th:only-of-type {\n",
       "        vertical-align: middle;\n",
       "    }\n",
       "\n",
       "    .dataframe tbody tr th {\n",
       "        vertical-align: top;\n",
       "    }\n",
       "\n",
       "    .dataframe thead th {\n",
       "        text-align: right;\n",
       "    }\n",
       "</style>\n",
       "<table border=\"1\" class=\"dataframe\">\n",
       "  <thead>\n",
       "    <tr style=\"text-align: right;\">\n",
       "      <th></th>\n",
       "      <th>RecordID</th>\n",
       "      <th>Offense</th>\n",
       "      <th>IncidentID</th>\n",
       "      <th>BlockNumber</th>\n",
       "      <th>StreetName</th>\n",
       "      <th>Agency</th>\n",
       "      <th>HourReported</th>\n",
       "      <th>ReportingOfficer</th>\n",
       "      <th>Date</th>\n",
       "      <th>DateString</th>\n",
       "      <th>DayOfWeek</th>\n",
       "      <th>Weekend</th>\n",
       "      <th>Season</th>\n",
       "      <th>HourAMPM</th>\n",
       "      <th>TimeOfDay</th>\n",
       "    </tr>\n",
       "  </thead>\n",
       "  <tbody>\n",
       "    <tr>\n",
       "      <th>0</th>\n",
       "      <td>1</td>\n",
       "      <td>Larceny - All Other</td>\n",
       "      <td>202500013313</td>\n",
       "      <td>1000</td>\n",
       "      <td>CHERRY AVE</td>\n",
       "      <td>CPD</td>\n",
       "      <td>1647</td>\n",
       "      <td>Bentz, Benjamin</td>\n",
       "      <td>2025-04-23 16:47:31</td>\n",
       "      <td>2025-04-23 04:47:31 PM</td>\n",
       "      <td>Wednesday</td>\n",
       "      <td>False</td>\n",
       "      <td>Spring</td>\n",
       "      <td>04:47 PM</td>\n",
       "      <td>Afternoon</td>\n",
       "    </tr>\n",
       "    <tr>\n",
       "      <th>1</th>\n",
       "      <td>2</td>\n",
       "      <td>Larceny - All Other</td>\n",
       "      <td>202500013314</td>\n",
       "      <td>1500</td>\n",
       "      <td>UNIVERSITY AVE</td>\n",
       "      <td>CPD</td>\n",
       "      <td>1532</td>\n",
       "      <td>Shiflett, Ethan</td>\n",
       "      <td>2025-04-23 15:32:34</td>\n",
       "      <td>2025-04-23 03:32:34 PM</td>\n",
       "      <td>Wednesday</td>\n",
       "      <td>False</td>\n",
       "      <td>Spring</td>\n",
       "      <td>03:32 PM</td>\n",
       "      <td>Afternoon</td>\n",
       "    </tr>\n",
       "    <tr>\n",
       "      <th>2</th>\n",
       "      <td>3</td>\n",
       "      <td>Lost/FoundProperty</td>\n",
       "      <td>202500013295</td>\n",
       "      <td>900</td>\n",
       "      <td>PRESTON AVE</td>\n",
       "      <td>CPD</td>\n",
       "      <td>1503</td>\n",
       "      <td>Rigsby, Lloyd</td>\n",
       "      <td>2025-04-23 15:03:43</td>\n",
       "      <td>2025-04-23 03:03:43 PM</td>\n",
       "      <td>Wednesday</td>\n",
       "      <td>False</td>\n",
       "      <td>Spring</td>\n",
       "      <td>03:03 PM</td>\n",
       "      <td>Afternoon</td>\n",
       "    </tr>\n",
       "    <tr>\n",
       "      <th>3</th>\n",
       "      <td>4</td>\n",
       "      <td>Larceny - Theft from Building</td>\n",
       "      <td>202500013294</td>\n",
       "      <td>900</td>\n",
       "      <td>ANDERSON ST</td>\n",
       "      <td>CPD</td>\n",
       "      <td>1411</td>\n",
       "      <td>Moriarty, Thomas</td>\n",
       "      <td>2025-04-23 14:11:14</td>\n",
       "      <td>2025-04-23 02:11:14 PM</td>\n",
       "      <td>Wednesday</td>\n",
       "      <td>False</td>\n",
       "      <td>Spring</td>\n",
       "      <td>02:11 PM</td>\n",
       "      <td>Afternoon</td>\n",
       "    </tr>\n",
       "    <tr>\n",
       "      <th>4</th>\n",
       "      <td>5</td>\n",
       "      <td>Suspicious Activity</td>\n",
       "      <td>202500013286</td>\n",
       "      <td>200</td>\n",
       "      <td>RIDGE ST</td>\n",
       "      <td>CPD</td>\n",
       "      <td>1329</td>\n",
       "      <td>Carrasco, Julio</td>\n",
       "      <td>2025-04-23 13:29:20</td>\n",
       "      <td>2025-04-23 01:29:20 PM</td>\n",
       "      <td>Wednesday</td>\n",
       "      <td>False</td>\n",
       "      <td>Spring</td>\n",
       "      <td>01:29 PM</td>\n",
       "      <td>Afternoon</td>\n",
       "    </tr>\n",
       "  </tbody>\n",
       "</table>\n",
       "</div>"
      ],
      "text/plain": [
       "   RecordID                        Offense    IncidentID BlockNumber  \\\n",
       "0         1            Larceny - All Other  202500013313        1000   \n",
       "1         2            Larceny - All Other  202500013314        1500   \n",
       "2         3             Lost/FoundProperty  202500013295         900   \n",
       "3         4  Larceny - Theft from Building  202500013294         900   \n",
       "4         5            Suspicious Activity  202500013286         200   \n",
       "\n",
       "       StreetName Agency HourReported  ReportingOfficer                Date  \\\n",
       "0      CHERRY AVE    CPD         1647  Bentz, Benjamin  2025-04-23 16:47:31   \n",
       "1  UNIVERSITY AVE    CPD         1532  Shiflett, Ethan  2025-04-23 15:32:34   \n",
       "2     PRESTON AVE    CPD         1503     Rigsby, Lloyd 2025-04-23 15:03:43   \n",
       "3     ANDERSON ST    CPD         1411  Moriarty, Thomas 2025-04-23 14:11:14   \n",
       "4        RIDGE ST    CPD         1329   Carrasco, Julio 2025-04-23 13:29:20   \n",
       "\n",
       "               DateString  DayOfWeek  Weekend  Season  HourAMPM  TimeOfDay  \n",
       "0  2025-04-23 04:47:31 PM  Wednesday    False  Spring  04:47 PM  Afternoon  \n",
       "1  2025-04-23 03:32:34 PM  Wednesday    False  Spring  03:32 PM  Afternoon  \n",
       "2  2025-04-23 03:03:43 PM  Wednesday    False  Spring  03:03 PM  Afternoon  \n",
       "3  2025-04-23 02:11:14 PM  Wednesday    False  Spring  02:11 PM  Afternoon  \n",
       "4  2025-04-23 01:29:20 PM  Wednesday    False  Spring  01:29 PM  Afternoon  "
      ]
     },
     "execution_count": 7,
     "metadata": {},
     "output_type": "execute_result"
    }
   ],
   "source": [
    "def convert_and_categorize_datereported(df, col='DateReported'):\n",
    "    \"\"\"\n",
    "    Converts an epoch (in milliseconds) date column into a timezone-aware datetime,\n",
    "    converts it to Eastern Time, and then creates columns for day-of-week, weekend flag,\n",
    "    season, 12-hour formatted time, and time-of-day. Keeps both a real datetime column\n",
    "    (Date) and a string representation (DateString).\n",
    "    \"\"\"\n",
    "    import pandas as pd\n",
    "\n",
    "    # Convert the epoch timestamp to a pandas datetime object as UTC, then convert to US/Eastern.\n",
    "    df[\"DateReported_dt\"] = (\n",
    "        pd.to_datetime(df[col], unit=\"ms\", errors=\"coerce\", utc=True)\n",
    "        .dt.tz_convert(\"US/Eastern\")\n",
    "    )\n",
    "    \n",
    "    # Create a true datetime column (remove timezone if you prefer naive datetime)\n",
    "    df[\"Date\"] = df[\"DateReported_dt\"].dt.tz_localize(None)\n",
    "\n",
    "    # Optionally, create a separate string-formatted column\n",
    "    df[\"DateString\"] = df[\"DateReported_dt\"].dt.strftime(\"%Y-%m-%d %I:%M:%S %p\")\n",
    "    \n",
    "    # DayOfWeek\n",
    "    df[\"DayOfWeek\"] = df[\"DateReported_dt\"].dt.day_name()\n",
    "    \n",
    "    # Weekend\n",
    "    df[\"Weekend\"] = df[\"DayOfWeek\"].isin([\"Saturday\", \"Sunday\"])\n",
    "    \n",
    "    # Helper function to determine the season\n",
    "    def get_season(dt):\n",
    "        month = dt.month\n",
    "        day = dt.day\n",
    "        # Approximate Northern Hemisphere season boundaries:\n",
    "        if (month == 12 and day >= 21) or (month < 3) or (month == 3 and day < 20):\n",
    "            return \"Winter\"\n",
    "        elif (month == 3 and day >= 20) or (month < 6) or (month == 6 and day < 21):\n",
    "            return \"Spring\"\n",
    "        elif (month == 6 and day >= 21) or (month < 9) or (month == 9 and day < 22):\n",
    "            return \"Summer\"\n",
    "        else:\n",
    "            return \"Autumn\"\n",
    "    \n",
    "    df[\"Season\"] = df[\"DateReported_dt\"].apply(get_season)\n",
    "    \n",
    "    # 12-hour formatted time (HourAMPM)\n",
    "    df[\"HourAMPM\"] = df[\"DateReported_dt\"].dt.strftime(\"%I:%M %p\")\n",
    "    \n",
    "    # Extract hour (0-23) for time-of-day\n",
    "    df[\"HourValue\"] = df[\"DateReported_dt\"].dt.hour\n",
    "    \n",
    "    def time_of_day(hour):\n",
    "        if pd.isnull(hour):\n",
    "            return None\n",
    "        if 5 <= hour < 12:\n",
    "            return \"Morning\"\n",
    "        elif 12 <= hour < 17:\n",
    "            return \"Afternoon\"\n",
    "        elif 17 <= hour < 21:\n",
    "            return \"Evening\"\n",
    "        else:\n",
    "            return \"Night\"\n",
    "    \n",
    "    df[\"TimeOfDay\"] = df[\"HourValue\"].apply(time_of_day)\n",
    "    \n",
    "    # Drop columns you no longer need\n",
    "    df.drop(columns=[col, \"DateReported_dt\", \"HourValue\"], inplace=True)\n",
    "    \n",
    "    return df\n",
    "\n",
    "# Example usage:\n",
    "df = convert_and_categorize_datereported(df)\n",
    "df.head()\n"
   ]
  },
  {
   "cell_type": "code",
   "execution_count": 8,
   "id": "2351e2fb",
   "metadata": {
    "execution": {
     "iopub.execute_input": "2025-04-26T00:59:54.054073Z",
     "iopub.status.busy": "2025-04-26T00:59:54.053631Z",
     "iopub.status.idle": "2025-04-26T00:59:54.079981Z",
     "shell.execute_reply": "2025-04-26T00:59:54.079416Z"
    },
    "papermill": {
     "duration": 0.033898,
     "end_time": "2025-04-26T00:59:54.081046",
     "exception": false,
     "start_time": "2025-04-26T00:59:54.047148",
     "status": "completed"
    },
    "tags": []
   },
   "outputs": [
    {
     "name": "stdout",
     "output_type": "stream",
     "text": [
      "<class 'pandas.core.frame.DataFrame'>\n",
      "RangeIndex: 25266 entries, 0 to 25265\n",
      "Data columns (total 15 columns):\n",
      " #   Column            Non-Null Count  Dtype         \n",
      "---  ------            --------------  -----         \n",
      " 0   RecordID          25266 non-null  int64         \n",
      " 1   Offense           25266 non-null  object        \n",
      " 2   IncidentID        25266 non-null  object        \n",
      " 3   BlockNumber       25266 non-null  object        \n",
      " 4   StreetName        25266 non-null  object        \n",
      " 5   Agency            25266 non-null  object        \n",
      " 6   HourReported      25266 non-null  object        \n",
      " 7   ReportingOfficer  25249 non-null  object        \n",
      " 8   Date              25266 non-null  datetime64[ns]\n",
      " 9   DateString        25266 non-null  object        \n",
      " 10  DayOfWeek         25266 non-null  object        \n",
      " 11  Weekend           25266 non-null  bool          \n",
      " 12  Season            25266 non-null  object        \n",
      " 13  HourAMPM          25266 non-null  object        \n",
      " 14  TimeOfDay         25266 non-null  object        \n",
      "dtypes: bool(1), datetime64[ns](1), int64(1), object(12)\n",
      "memory usage: 2.7+ MB\n"
     ]
    }
   ],
   "source": [
    "df.info()"
   ]
  },
  {
   "cell_type": "markdown",
   "id": "3bc26399",
   "metadata": {
    "papermill": {
     "duration": 0.005801,
     "end_time": "2025-04-26T00:59:54.092901",
     "exception": false,
     "start_time": "2025-04-26T00:59:54.087100",
     "status": "completed"
    },
    "tags": []
   },
   "source": [
    "### Coordinates"
   ]
  },
  {
   "cell_type": "code",
   "execution_count": 9,
   "id": "1721205f",
   "metadata": {
    "execution": {
     "iopub.execute_input": "2025-04-26T00:59:54.105705Z",
     "iopub.status.busy": "2025-04-26T00:59:54.105236Z",
     "iopub.status.idle": "2025-04-26T00:59:54.775818Z",
     "shell.execute_reply": "2025-04-26T00:59:54.775147Z"
    },
    "papermill": {
     "duration": 0.678133,
     "end_time": "2025-04-26T00:59:54.776832",
     "exception": false,
     "start_time": "2025-04-26T00:59:54.098699",
     "status": "completed"
    },
    "tags": []
   },
   "outputs": [
    {
     "name": "stdout",
     "output_type": "stream",
     "text": [
      "Loaded geocode cache.\n"
     ]
    },
    {
     "name": "stdout",
     "output_type": "stream",
     "text": [
      "Geocoded 1200 COLEMAN CT, B: 38.0391614, -78.45803409999999\n"
     ]
    },
    {
     "name": "stdout",
     "output_type": "stream",
     "text": [
      "Geocoded 200 14TH ST NW, 210: 38.0348139, -78.49889189999999\n"
     ]
    },
    {
     "name": "stdout",
     "output_type": "stream",
     "text": [
      "Geocoded 300 ROBERTSON AVE, B: 38.0242856, -78.5116333\n"
     ]
    },
    {
     "name": "stdout",
     "output_type": "stream",
     "text": [
      "Geocoded 100 MELBOURNE PARK CIR, E: 38.0474285, -78.4713489\n",
      "Geocode cache updated and saved.\n"
     ]
    },
    {
     "data": {
      "text/html": [
       "<div>\n",
       "<style scoped>\n",
       "    .dataframe tbody tr th:only-of-type {\n",
       "        vertical-align: middle;\n",
       "    }\n",
       "\n",
       "    .dataframe tbody tr th {\n",
       "        vertical-align: top;\n",
       "    }\n",
       "\n",
       "    .dataframe thead th {\n",
       "        text-align: right;\n",
       "    }\n",
       "</style>\n",
       "<table border=\"1\" class=\"dataframe\">\n",
       "  <thead>\n",
       "    <tr style=\"text-align: right;\">\n",
       "      <th></th>\n",
       "      <th>RecordID</th>\n",
       "      <th>Offense</th>\n",
       "      <th>IncidentID</th>\n",
       "      <th>BlockNumber</th>\n",
       "      <th>StreetName</th>\n",
       "      <th>Agency</th>\n",
       "      <th>HourReported</th>\n",
       "      <th>ReportingOfficer</th>\n",
       "      <th>Date</th>\n",
       "      <th>DateString</th>\n",
       "      <th>DayOfWeek</th>\n",
       "      <th>Weekend</th>\n",
       "      <th>Season</th>\n",
       "      <th>HourAMPM</th>\n",
       "      <th>TimeOfDay</th>\n",
       "      <th>FullStreet</th>\n",
       "      <th>lat</th>\n",
       "      <th>lon</th>\n",
       "    </tr>\n",
       "  </thead>\n",
       "  <tbody>\n",
       "    <tr>\n",
       "      <th>0</th>\n",
       "      <td>1</td>\n",
       "      <td>Larceny - All Other</td>\n",
       "      <td>202500013313</td>\n",
       "      <td>1000</td>\n",
       "      <td>CHERRY AVE</td>\n",
       "      <td>CPD</td>\n",
       "      <td>1647</td>\n",
       "      <td>Bentz, Benjamin</td>\n",
       "      <td>2025-04-23 16:47:31</td>\n",
       "      <td>2025-04-23 04:47:31 PM</td>\n",
       "      <td>Wednesday</td>\n",
       "      <td>False</td>\n",
       "      <td>Spring</td>\n",
       "      <td>04:47 PM</td>\n",
       "      <td>Afternoon</td>\n",
       "      <td>1000 CHERRY AVE</td>\n",
       "      <td>38.027017</td>\n",
       "      <td>-78.497917</td>\n",
       "    </tr>\n",
       "    <tr>\n",
       "      <th>1</th>\n",
       "      <td>2</td>\n",
       "      <td>Larceny - All Other</td>\n",
       "      <td>202500013314</td>\n",
       "      <td>1500</td>\n",
       "      <td>UNIVERSITY AVE</td>\n",
       "      <td>CPD</td>\n",
       "      <td>1532</td>\n",
       "      <td>Shiflett, Ethan</td>\n",
       "      <td>2025-04-23 15:32:34</td>\n",
       "      <td>2025-04-23 03:32:34 PM</td>\n",
       "      <td>Wednesday</td>\n",
       "      <td>False</td>\n",
       "      <td>Spring</td>\n",
       "      <td>03:32 PM</td>\n",
       "      <td>Afternoon</td>\n",
       "      <td>1500 UNIVERSITY AVE</td>\n",
       "      <td>38.034578</td>\n",
       "      <td>-78.500340</td>\n",
       "    </tr>\n",
       "    <tr>\n",
       "      <th>2</th>\n",
       "      <td>3</td>\n",
       "      <td>Lost/FoundProperty</td>\n",
       "      <td>202500013295</td>\n",
       "      <td>900</td>\n",
       "      <td>PRESTON AVE</td>\n",
       "      <td>CPD</td>\n",
       "      <td>1503</td>\n",
       "      <td>Rigsby, Lloyd</td>\n",
       "      <td>2025-04-23 15:03:43</td>\n",
       "      <td>2025-04-23 03:03:43 PM</td>\n",
       "      <td>Wednesday</td>\n",
       "      <td>False</td>\n",
       "      <td>Spring</td>\n",
       "      <td>03:03 PM</td>\n",
       "      <td>Afternoon</td>\n",
       "      <td>900 PRESTON AVE</td>\n",
       "      <td>38.037011</td>\n",
       "      <td>-78.489464</td>\n",
       "    </tr>\n",
       "    <tr>\n",
       "      <th>3</th>\n",
       "      <td>4</td>\n",
       "      <td>Larceny - Theft from Building</td>\n",
       "      <td>202500013294</td>\n",
       "      <td>900</td>\n",
       "      <td>ANDERSON ST</td>\n",
       "      <td>CPD</td>\n",
       "      <td>1411</td>\n",
       "      <td>Moriarty, Thomas</td>\n",
       "      <td>2025-04-23 14:11:14</td>\n",
       "      <td>2025-04-23 02:11:14 PM</td>\n",
       "      <td>Wednesday</td>\n",
       "      <td>False</td>\n",
       "      <td>Spring</td>\n",
       "      <td>02:11 PM</td>\n",
       "      <td>Afternoon</td>\n",
       "      <td>900 ANDERSON ST</td>\n",
       "      <td>38.035677</td>\n",
       "      <td>-78.490990</td>\n",
       "    </tr>\n",
       "    <tr>\n",
       "      <th>4</th>\n",
       "      <td>5</td>\n",
       "      <td>Suspicious Activity</td>\n",
       "      <td>202500013286</td>\n",
       "      <td>200</td>\n",
       "      <td>RIDGE ST</td>\n",
       "      <td>CPD</td>\n",
       "      <td>1329</td>\n",
       "      <td>Carrasco, Julio</td>\n",
       "      <td>2025-04-23 13:29:20</td>\n",
       "      <td>2025-04-23 01:29:20 PM</td>\n",
       "      <td>Wednesday</td>\n",
       "      <td>False</td>\n",
       "      <td>Spring</td>\n",
       "      <td>01:29 PM</td>\n",
       "      <td>Afternoon</td>\n",
       "      <td>200 RIDGE ST</td>\n",
       "      <td>38.029522</td>\n",
       "      <td>-78.485560</td>\n",
       "    </tr>\n",
       "  </tbody>\n",
       "</table>\n",
       "</div>"
      ],
      "text/plain": [
       "   RecordID                        Offense    IncidentID BlockNumber  \\\n",
       "0         1            Larceny - All Other  202500013313        1000   \n",
       "1         2            Larceny - All Other  202500013314        1500   \n",
       "2         3             Lost/FoundProperty  202500013295         900   \n",
       "3         4  Larceny - Theft from Building  202500013294         900   \n",
       "4         5            Suspicious Activity  202500013286         200   \n",
       "\n",
       "       StreetName Agency HourReported  ReportingOfficer                Date  \\\n",
       "0      CHERRY AVE    CPD         1647  Bentz, Benjamin  2025-04-23 16:47:31   \n",
       "1  UNIVERSITY AVE    CPD         1532  Shiflett, Ethan  2025-04-23 15:32:34   \n",
       "2     PRESTON AVE    CPD         1503     Rigsby, Lloyd 2025-04-23 15:03:43   \n",
       "3     ANDERSON ST    CPD         1411  Moriarty, Thomas 2025-04-23 14:11:14   \n",
       "4        RIDGE ST    CPD         1329   Carrasco, Julio 2025-04-23 13:29:20   \n",
       "\n",
       "               DateString  DayOfWeek  Weekend  Season  HourAMPM  TimeOfDay  \\\n",
       "0  2025-04-23 04:47:31 PM  Wednesday    False  Spring  04:47 PM  Afternoon   \n",
       "1  2025-04-23 03:32:34 PM  Wednesday    False  Spring  03:32 PM  Afternoon   \n",
       "2  2025-04-23 03:03:43 PM  Wednesday    False  Spring  03:03 PM  Afternoon   \n",
       "3  2025-04-23 02:11:14 PM  Wednesday    False  Spring  02:11 PM  Afternoon   \n",
       "4  2025-04-23 01:29:20 PM  Wednesday    False  Spring  01:29 PM  Afternoon   \n",
       "\n",
       "            FullStreet        lat        lon  \n",
       "0      1000 CHERRY AVE  38.027017 -78.497917  \n",
       "1  1500 UNIVERSITY AVE  38.034578 -78.500340  \n",
       "2      900 PRESTON AVE  38.037011 -78.489464  \n",
       "3      900 ANDERSON ST  38.035677 -78.490990  \n",
       "4         200 RIDGE ST  38.029522 -78.485560  "
      ]
     },
     "execution_count": 9,
     "metadata": {},
     "output_type": "execute_result"
    }
   ],
   "source": [
    "# Combine BlockNumber and StreetName into a full address string\n",
    "df['FullStreet'] = df['BlockNumber'].astype(str) + \" \" + df['StreetName']\n",
    "\n",
    "# --- Step 1: Setup the Google Maps Client and Cache ---\n",
    "gmaps = googlemaps.Client(key=GOOGLE_API_KEY)\n",
    "\n",
    "# Try to load cached geocoding results if available.\n",
    "try:\n",
    "    with open(\"geocode_cache_google.pkl\", \"rb\") as f:\n",
    "        street_coords = pickle.load(f)\n",
    "    print(\"Loaded geocode cache.\")\n",
    "except FileNotFoundError:\n",
    "    street_coords = {}\n",
    "    print(\"No cache found; starting fresh.\")\n",
    "\n",
    "def geocode_address(address):\n",
    "    try:\n",
    "        # Append city and state to help geocoding\n",
    "        result = gmaps.geocode(f\"{address}, Charlottesville, VA\")\n",
    "        if result:\n",
    "            lat = result[0]['geometry']['location']['lat']\n",
    "            lon = result[0]['geometry']['location']['lng']\n",
    "            return lat, lon\n",
    "    except Exception as e:\n",
    "        print(f\"Error geocoding {address}: {e}\")\n",
    "    return None, None\n",
    "\n",
    "# --- Step 2: Geocode Only New Addresses ---\n",
    "unique_addresses = df['FullStreet'].unique()\n",
    "for address in unique_addresses:\n",
    "    if address not in street_coords:\n",
    "        lat, lon = geocode_address(address)\n",
    "        street_coords[address] = (lat, lon)\n",
    "        print(f\"Geocoded {address}: {lat}, {lon}\")\n",
    "\n",
    "# Save the updated cache to disk.\n",
    "with open(\"geocode_cache_google.pkl\", \"wb\") as f:\n",
    "    pickle.dump(street_coords, f)\n",
    "    print(\"Geocode cache updated and saved.\")\n",
    "\n",
    "# --- Step 3: Map Coordinates Back to DataFrame ---\n",
    "df['lat'] = df['FullStreet'].map(lambda s: street_coords.get(s, (None, None))[0])\n",
    "df['lon'] = df['FullStreet'].map(lambda s: street_coords.get(s, (None, None))[1])\n",
    "\n",
    "df.head()"
   ]
  },
  {
   "cell_type": "markdown",
   "id": "0083cddf",
   "metadata": {
    "papermill": {
     "duration": 0.006436,
     "end_time": "2025-04-26T00:59:54.790006",
     "exception": false,
     "start_time": "2025-04-26T00:59:54.783570",
     "status": "completed"
    },
    "tags": []
   },
   "source": [
    "### Neighborhood"
   ]
  },
  {
   "cell_type": "code",
   "execution_count": 10,
   "id": "ff46cea6",
   "metadata": {
    "execution": {
     "iopub.execute_input": "2025-04-26T00:59:54.804208Z",
     "iopub.status.busy": "2025-04-26T00:59:54.803590Z",
     "iopub.status.idle": "2025-04-26T00:59:55.222736Z",
     "shell.execute_reply": "2025-04-26T00:59:55.222076Z"
    },
    "papermill": {
     "duration": 0.42753,
     "end_time": "2025-04-26T00:59:55.223844",
     "exception": false,
     "start_time": "2025-04-26T00:59:54.796314",
     "status": "completed"
    },
    "tags": []
   },
   "outputs": [
    {
     "name": "stdout",
     "output_type": "stream",
     "text": [
      "Loaded neighborhood cache.\n"
     ]
    },
    {
     "data": {
      "text/html": [
       "<div>\n",
       "<style scoped>\n",
       "    .dataframe tbody tr th:only-of-type {\n",
       "        vertical-align: middle;\n",
       "    }\n",
       "\n",
       "    .dataframe tbody tr th {\n",
       "        vertical-align: top;\n",
       "    }\n",
       "\n",
       "    .dataframe thead th {\n",
       "        text-align: right;\n",
       "    }\n",
       "</style>\n",
       "<table border=\"1\" class=\"dataframe\">\n",
       "  <thead>\n",
       "    <tr style=\"text-align: right;\">\n",
       "      <th></th>\n",
       "      <th>RecordID</th>\n",
       "      <th>Offense</th>\n",
       "      <th>IncidentID</th>\n",
       "      <th>BlockNumber</th>\n",
       "      <th>StreetName</th>\n",
       "      <th>Agency</th>\n",
       "      <th>HourReported</th>\n",
       "      <th>ReportingOfficer</th>\n",
       "      <th>Date</th>\n",
       "      <th>DateString</th>\n",
       "      <th>DayOfWeek</th>\n",
       "      <th>Weekend</th>\n",
       "      <th>Season</th>\n",
       "      <th>HourAMPM</th>\n",
       "      <th>TimeOfDay</th>\n",
       "      <th>FullStreet</th>\n",
       "      <th>lat</th>\n",
       "      <th>lon</th>\n",
       "      <th>neighborhood</th>\n",
       "    </tr>\n",
       "  </thead>\n",
       "  <tbody>\n",
       "    <tr>\n",
       "      <th>0</th>\n",
       "      <td>1</td>\n",
       "      <td>Larceny - All Other</td>\n",
       "      <td>202500013313</td>\n",
       "      <td>1000</td>\n",
       "      <td>CHERRY AVE</td>\n",
       "      <td>CPD</td>\n",
       "      <td>1647</td>\n",
       "      <td>Bentz, Benjamin</td>\n",
       "      <td>2025-04-23 16:47:31</td>\n",
       "      <td>2025-04-23 04:47:31 PM</td>\n",
       "      <td>Wednesday</td>\n",
       "      <td>False</td>\n",
       "      <td>Spring</td>\n",
       "      <td>04:47 PM</td>\n",
       "      <td>Afternoon</td>\n",
       "      <td>1000 CHERRY AVE</td>\n",
       "      <td>38.027017</td>\n",
       "      <td>-78.497917</td>\n",
       "      <td>Fifeville</td>\n",
       "    </tr>\n",
       "    <tr>\n",
       "      <th>1</th>\n",
       "      <td>2</td>\n",
       "      <td>Larceny - All Other</td>\n",
       "      <td>202500013314</td>\n",
       "      <td>1500</td>\n",
       "      <td>UNIVERSITY AVE</td>\n",
       "      <td>CPD</td>\n",
       "      <td>1532</td>\n",
       "      <td>Shiflett, Ethan</td>\n",
       "      <td>2025-04-23 15:32:34</td>\n",
       "      <td>2025-04-23 03:32:34 PM</td>\n",
       "      <td>Wednesday</td>\n",
       "      <td>False</td>\n",
       "      <td>Spring</td>\n",
       "      <td>03:32 PM</td>\n",
       "      <td>Afternoon</td>\n",
       "      <td>1500 UNIVERSITY AVE</td>\n",
       "      <td>38.034578</td>\n",
       "      <td>-78.500340</td>\n",
       "      <td>Venable</td>\n",
       "    </tr>\n",
       "    <tr>\n",
       "      <th>2</th>\n",
       "      <td>3</td>\n",
       "      <td>Lost/FoundProperty</td>\n",
       "      <td>202500013295</td>\n",
       "      <td>900</td>\n",
       "      <td>PRESTON AVE</td>\n",
       "      <td>CPD</td>\n",
       "      <td>1503</td>\n",
       "      <td>Rigsby, Lloyd</td>\n",
       "      <td>2025-04-23 15:03:43</td>\n",
       "      <td>2025-04-23 03:03:43 PM</td>\n",
       "      <td>Wednesday</td>\n",
       "      <td>False</td>\n",
       "      <td>Spring</td>\n",
       "      <td>03:03 PM</td>\n",
       "      <td>Afternoon</td>\n",
       "      <td>900 PRESTON AVE</td>\n",
       "      <td>38.037011</td>\n",
       "      <td>-78.489464</td>\n",
       "      <td>10th &amp; Page</td>\n",
       "    </tr>\n",
       "    <tr>\n",
       "      <th>3</th>\n",
       "      <td>4</td>\n",
       "      <td>Larceny - Theft from Building</td>\n",
       "      <td>202500013294</td>\n",
       "      <td>900</td>\n",
       "      <td>ANDERSON ST</td>\n",
       "      <td>CPD</td>\n",
       "      <td>1411</td>\n",
       "      <td>Moriarty, Thomas</td>\n",
       "      <td>2025-04-23 14:11:14</td>\n",
       "      <td>2025-04-23 02:11:14 PM</td>\n",
       "      <td>Wednesday</td>\n",
       "      <td>False</td>\n",
       "      <td>Spring</td>\n",
       "      <td>02:11 PM</td>\n",
       "      <td>Afternoon</td>\n",
       "      <td>900 ANDERSON ST</td>\n",
       "      <td>38.035677</td>\n",
       "      <td>-78.490990</td>\n",
       "      <td>10th &amp; Page</td>\n",
       "    </tr>\n",
       "    <tr>\n",
       "      <th>4</th>\n",
       "      <td>5</td>\n",
       "      <td>Suspicious Activity</td>\n",
       "      <td>202500013286</td>\n",
       "      <td>200</td>\n",
       "      <td>RIDGE ST</td>\n",
       "      <td>CPD</td>\n",
       "      <td>1329</td>\n",
       "      <td>Carrasco, Julio</td>\n",
       "      <td>2025-04-23 13:29:20</td>\n",
       "      <td>2025-04-23 01:29:20 PM</td>\n",
       "      <td>Wednesday</td>\n",
       "      <td>False</td>\n",
       "      <td>Spring</td>\n",
       "      <td>01:29 PM</td>\n",
       "      <td>Afternoon</td>\n",
       "      <td>200 RIDGE ST</td>\n",
       "      <td>38.029522</td>\n",
       "      <td>-78.485560</td>\n",
       "      <td>Fifeville</td>\n",
       "    </tr>\n",
       "  </tbody>\n",
       "</table>\n",
       "</div>"
      ],
      "text/plain": [
       "   RecordID                        Offense    IncidentID BlockNumber  \\\n",
       "0         1            Larceny - All Other  202500013313        1000   \n",
       "1         2            Larceny - All Other  202500013314        1500   \n",
       "2         3             Lost/FoundProperty  202500013295         900   \n",
       "3         4  Larceny - Theft from Building  202500013294         900   \n",
       "4         5            Suspicious Activity  202500013286         200   \n",
       "\n",
       "       StreetName Agency HourReported  ReportingOfficer                Date  \\\n",
       "0      CHERRY AVE    CPD         1647  Bentz, Benjamin  2025-04-23 16:47:31   \n",
       "1  UNIVERSITY AVE    CPD         1532  Shiflett, Ethan  2025-04-23 15:32:34   \n",
       "2     PRESTON AVE    CPD         1503     Rigsby, Lloyd 2025-04-23 15:03:43   \n",
       "3     ANDERSON ST    CPD         1411  Moriarty, Thomas 2025-04-23 14:11:14   \n",
       "4        RIDGE ST    CPD         1329   Carrasco, Julio 2025-04-23 13:29:20   \n",
       "\n",
       "               DateString  DayOfWeek  Weekend  Season  HourAMPM  TimeOfDay  \\\n",
       "0  2025-04-23 04:47:31 PM  Wednesday    False  Spring  04:47 PM  Afternoon   \n",
       "1  2025-04-23 03:32:34 PM  Wednesday    False  Spring  03:32 PM  Afternoon   \n",
       "2  2025-04-23 03:03:43 PM  Wednesday    False  Spring  03:03 PM  Afternoon   \n",
       "3  2025-04-23 02:11:14 PM  Wednesday    False  Spring  02:11 PM  Afternoon   \n",
       "4  2025-04-23 01:29:20 PM  Wednesday    False  Spring  01:29 PM  Afternoon   \n",
       "\n",
       "            FullStreet        lat        lon neighborhood  \n",
       "0      1000 CHERRY AVE  38.027017 -78.497917    Fifeville  \n",
       "1  1500 UNIVERSITY AVE  38.034578 -78.500340      Venable  \n",
       "2      900 PRESTON AVE  38.037011 -78.489464  10th & Page  \n",
       "3      900 ANDERSON ST  38.035677 -78.490990  10th & Page  \n",
       "4         200 RIDGE ST  38.029522 -78.485560    Fifeville  "
      ]
     },
     "execution_count": 10,
     "metadata": {},
     "output_type": "execute_result"
    }
   ],
   "source": [
    "# Initialize the Google Maps client.\n",
    "gmaps = googlemaps.Client(key=GOOGLE_API_KEY)\n",
    "\n",
    "# Try to load a persistent neighborhood cache if available.\n",
    "try:\n",
    "    with open(\"neighborhood_cache.pkl\", \"rb\") as f:\n",
    "        neighborhood_cache = pickle.load(f)\n",
    "    print(\"Loaded neighborhood cache.\")\n",
    "except FileNotFoundError:\n",
    "    neighborhood_cache = {}\n",
    "    print(\"No neighborhood cache found; starting fresh.\")\n",
    "\n",
    "def get_neighborhood(lat, lon):\n",
    "    \"\"\"\n",
    "    Reverse geocodes a latitude and longitude to retrieve the neighborhood.\n",
    "    Caches results to speed up subsequent lookups.\n",
    "    \"\"\"\n",
    "    key = (lat, lon)\n",
    "    if key in neighborhood_cache:\n",
    "        return neighborhood_cache[key]\n",
    "    \n",
    "    try:\n",
    "        result = gmaps.reverse_geocode((lat, lon))\n",
    "        if result:\n",
    "            # Look for the 'neighborhood' component in the first result.\n",
    "            for component in result[0]['address_components']:\n",
    "                if 'neighborhood' in component['types']:\n",
    "                    neighborhood = component['long_name']\n",
    "                    neighborhood_cache[key] = neighborhood\n",
    "                    return neighborhood\n",
    "            # If no neighborhood is found, return \"N/A\"\n",
    "            neighborhood_cache[key] = \"N/A\"\n",
    "            return \"N/A\"\n",
    "    except Exception as e:\n",
    "        print(f\"Error getting neighborhood for {lat}, {lon}: {e}\")\n",
    "        return \"N/A\"\n",
    "    \n",
    "    # Pause to respect usage limits.\n",
    "    time.sleep(1)\n",
    "\n",
    "# Example usage: Apply to your DataFrame 'df' that already has 'lat' and 'lon' columns.\n",
    "df['neighborhood'] = df.apply(lambda row: get_neighborhood(row['lat'], row['lon']), axis=1)\n",
    "\n",
    "# Save the updated neighborhood cache.\n",
    "with open(\"neighborhood_cache.pkl\", \"wb\") as f:\n",
    "    pickle.dump(neighborhood_cache, f)\n",
    "\n",
    "df.head()\n"
   ]
  },
  {
   "cell_type": "markdown",
   "id": "4d41a33d",
   "metadata": {
    "papermill": {
     "duration": 0.006654,
     "end_time": "2025-04-26T00:59:55.237591",
     "exception": false,
     "start_time": "2025-04-26T00:59:55.230937",
     "status": "completed"
    },
    "tags": []
   },
   "source": [
    "### Zip"
   ]
  },
  {
   "cell_type": "code",
   "execution_count": 11,
   "id": "f96c242a",
   "metadata": {
    "execution": {
     "iopub.execute_input": "2025-04-26T00:59:55.252079Z",
     "iopub.status.busy": "2025-04-26T00:59:55.251511Z",
     "iopub.status.idle": "2025-04-26T00:59:57.175742Z",
     "shell.execute_reply": "2025-04-26T00:59:57.174985Z"
    },
    "papermill": {
     "duration": 1.932638,
     "end_time": "2025-04-26T00:59:57.176767",
     "exception": false,
     "start_time": "2025-04-26T00:59:55.244129",
     "status": "completed"
    },
    "tags": []
   },
   "outputs": [
    {
     "name": "stdout",
     "output_type": "stream",
     "text": [
      "Loaded zip cache.\n"
     ]
    },
    {
     "data": {
      "text/html": [
       "<div>\n",
       "<style scoped>\n",
       "    .dataframe tbody tr th:only-of-type {\n",
       "        vertical-align: middle;\n",
       "    }\n",
       "\n",
       "    .dataframe tbody tr th {\n",
       "        vertical-align: top;\n",
       "    }\n",
       "\n",
       "    .dataframe thead th {\n",
       "        text-align: right;\n",
       "    }\n",
       "</style>\n",
       "<table border=\"1\" class=\"dataframe\">\n",
       "  <thead>\n",
       "    <tr style=\"text-align: right;\">\n",
       "      <th></th>\n",
       "      <th>RecordID</th>\n",
       "      <th>Offense</th>\n",
       "      <th>IncidentID</th>\n",
       "      <th>BlockNumber</th>\n",
       "      <th>StreetName</th>\n",
       "      <th>Agency</th>\n",
       "      <th>HourReported</th>\n",
       "      <th>ReportingOfficer</th>\n",
       "      <th>Date</th>\n",
       "      <th>DateString</th>\n",
       "      <th>DayOfWeek</th>\n",
       "      <th>Weekend</th>\n",
       "      <th>Season</th>\n",
       "      <th>HourAMPM</th>\n",
       "      <th>TimeOfDay</th>\n",
       "      <th>FullStreet</th>\n",
       "      <th>lat</th>\n",
       "      <th>lon</th>\n",
       "      <th>neighborhood</th>\n",
       "      <th>zip</th>\n",
       "    </tr>\n",
       "  </thead>\n",
       "  <tbody>\n",
       "    <tr>\n",
       "      <th>0</th>\n",
       "      <td>1</td>\n",
       "      <td>Larceny - All Other</td>\n",
       "      <td>202500013313</td>\n",
       "      <td>1000</td>\n",
       "      <td>CHERRY AVE</td>\n",
       "      <td>CPD</td>\n",
       "      <td>1647</td>\n",
       "      <td>Bentz, Benjamin</td>\n",
       "      <td>2025-04-23 16:47:31</td>\n",
       "      <td>2025-04-23 04:47:31 PM</td>\n",
       "      <td>Wednesday</td>\n",
       "      <td>False</td>\n",
       "      <td>Spring</td>\n",
       "      <td>04:47 PM</td>\n",
       "      <td>Afternoon</td>\n",
       "      <td>1000 CHERRY AVE</td>\n",
       "      <td>38.027017</td>\n",
       "      <td>-78.497917</td>\n",
       "      <td>Fifeville</td>\n",
       "      <td>22903</td>\n",
       "    </tr>\n",
       "    <tr>\n",
       "      <th>1</th>\n",
       "      <td>2</td>\n",
       "      <td>Larceny - All Other</td>\n",
       "      <td>202500013314</td>\n",
       "      <td>1500</td>\n",
       "      <td>UNIVERSITY AVE</td>\n",
       "      <td>CPD</td>\n",
       "      <td>1532</td>\n",
       "      <td>Shiflett, Ethan</td>\n",
       "      <td>2025-04-23 15:32:34</td>\n",
       "      <td>2025-04-23 03:32:34 PM</td>\n",
       "      <td>Wednesday</td>\n",
       "      <td>False</td>\n",
       "      <td>Spring</td>\n",
       "      <td>03:32 PM</td>\n",
       "      <td>Afternoon</td>\n",
       "      <td>1500 UNIVERSITY AVE</td>\n",
       "      <td>38.034578</td>\n",
       "      <td>-78.500340</td>\n",
       "      <td>Venable</td>\n",
       "      <td>22908</td>\n",
       "    </tr>\n",
       "    <tr>\n",
       "      <th>2</th>\n",
       "      <td>3</td>\n",
       "      <td>Lost/FoundProperty</td>\n",
       "      <td>202500013295</td>\n",
       "      <td>900</td>\n",
       "      <td>PRESTON AVE</td>\n",
       "      <td>CPD</td>\n",
       "      <td>1503</td>\n",
       "      <td>Rigsby, Lloyd</td>\n",
       "      <td>2025-04-23 15:03:43</td>\n",
       "      <td>2025-04-23 03:03:43 PM</td>\n",
       "      <td>Wednesday</td>\n",
       "      <td>False</td>\n",
       "      <td>Spring</td>\n",
       "      <td>03:03 PM</td>\n",
       "      <td>Afternoon</td>\n",
       "      <td>900 PRESTON AVE</td>\n",
       "      <td>38.037011</td>\n",
       "      <td>-78.489464</td>\n",
       "      <td>10th &amp; Page</td>\n",
       "      <td>22903</td>\n",
       "    </tr>\n",
       "    <tr>\n",
       "      <th>3</th>\n",
       "      <td>4</td>\n",
       "      <td>Larceny - Theft from Building</td>\n",
       "      <td>202500013294</td>\n",
       "      <td>900</td>\n",
       "      <td>ANDERSON ST</td>\n",
       "      <td>CPD</td>\n",
       "      <td>1411</td>\n",
       "      <td>Moriarty, Thomas</td>\n",
       "      <td>2025-04-23 14:11:14</td>\n",
       "      <td>2025-04-23 02:11:14 PM</td>\n",
       "      <td>Wednesday</td>\n",
       "      <td>False</td>\n",
       "      <td>Spring</td>\n",
       "      <td>02:11 PM</td>\n",
       "      <td>Afternoon</td>\n",
       "      <td>900 ANDERSON ST</td>\n",
       "      <td>38.035677</td>\n",
       "      <td>-78.490990</td>\n",
       "      <td>10th &amp; Page</td>\n",
       "      <td>22903</td>\n",
       "    </tr>\n",
       "    <tr>\n",
       "      <th>4</th>\n",
       "      <td>5</td>\n",
       "      <td>Suspicious Activity</td>\n",
       "      <td>202500013286</td>\n",
       "      <td>200</td>\n",
       "      <td>RIDGE ST</td>\n",
       "      <td>CPD</td>\n",
       "      <td>1329</td>\n",
       "      <td>Carrasco, Julio</td>\n",
       "      <td>2025-04-23 13:29:20</td>\n",
       "      <td>2025-04-23 01:29:20 PM</td>\n",
       "      <td>Wednesday</td>\n",
       "      <td>False</td>\n",
       "      <td>Spring</td>\n",
       "      <td>01:29 PM</td>\n",
       "      <td>Afternoon</td>\n",
       "      <td>200 RIDGE ST</td>\n",
       "      <td>38.029522</td>\n",
       "      <td>-78.485560</td>\n",
       "      <td>Fifeville</td>\n",
       "      <td>22902</td>\n",
       "    </tr>\n",
       "  </tbody>\n",
       "</table>\n",
       "</div>"
      ],
      "text/plain": [
       "   RecordID                        Offense    IncidentID BlockNumber  \\\n",
       "0         1            Larceny - All Other  202500013313        1000   \n",
       "1         2            Larceny - All Other  202500013314        1500   \n",
       "2         3             Lost/FoundProperty  202500013295         900   \n",
       "3         4  Larceny - Theft from Building  202500013294         900   \n",
       "4         5            Suspicious Activity  202500013286         200   \n",
       "\n",
       "       StreetName Agency HourReported  ReportingOfficer                Date  \\\n",
       "0      CHERRY AVE    CPD         1647  Bentz, Benjamin  2025-04-23 16:47:31   \n",
       "1  UNIVERSITY AVE    CPD         1532  Shiflett, Ethan  2025-04-23 15:32:34   \n",
       "2     PRESTON AVE    CPD         1503     Rigsby, Lloyd 2025-04-23 15:03:43   \n",
       "3     ANDERSON ST    CPD         1411  Moriarty, Thomas 2025-04-23 14:11:14   \n",
       "4        RIDGE ST    CPD         1329   Carrasco, Julio 2025-04-23 13:29:20   \n",
       "\n",
       "               DateString  DayOfWeek  Weekend  Season  HourAMPM  TimeOfDay  \\\n",
       "0  2025-04-23 04:47:31 PM  Wednesday    False  Spring  04:47 PM  Afternoon   \n",
       "1  2025-04-23 03:32:34 PM  Wednesday    False  Spring  03:32 PM  Afternoon   \n",
       "2  2025-04-23 03:03:43 PM  Wednesday    False  Spring  03:03 PM  Afternoon   \n",
       "3  2025-04-23 02:11:14 PM  Wednesday    False  Spring  02:11 PM  Afternoon   \n",
       "4  2025-04-23 01:29:20 PM  Wednesday    False  Spring  01:29 PM  Afternoon   \n",
       "\n",
       "            FullStreet        lat        lon neighborhood    zip  \n",
       "0      1000 CHERRY AVE  38.027017 -78.497917    Fifeville  22903  \n",
       "1  1500 UNIVERSITY AVE  38.034578 -78.500340      Venable  22908  \n",
       "2      900 PRESTON AVE  38.037011 -78.489464  10th & Page  22903  \n",
       "3      900 ANDERSON ST  38.035677 -78.490990  10th & Page  22903  \n",
       "4         200 RIDGE ST  38.029522 -78.485560    Fifeville  22902  "
      ]
     },
     "execution_count": 11,
     "metadata": {},
     "output_type": "execute_result"
    }
   ],
   "source": [
    "# Initialize the geocoder.\n",
    "geolocator = Nominatim(user_agent=\"zip_lookup\")\n",
    "\n",
    "# Try to load a persistent ZIP cache if available.\n",
    "try:\n",
    "    with open(\"zip_cache.pkl\", \"rb\") as f:\n",
    "        zip_cache = pickle.load(f)\n",
    "    print(\"Loaded zip cache.\")\n",
    "except FileNotFoundError:\n",
    "    zip_cache = {}\n",
    "    print(\"No zip cache found; starting fresh.\")\n",
    "\n",
    "def get_zip(lat, lon):\n",
    "    \"\"\"\n",
    "    Reverse geocodes a latitude and longitude to retrieve the ZIP code.\n",
    "    Caches results to speed up subsequent lookups.\n",
    "    \"\"\"\n",
    "    key = (lat, lon)\n",
    "    if key in zip_cache:\n",
    "        return zip_cache[key]\n",
    "    \n",
    "    try:\n",
    "        location = geolocator.reverse((lat, lon), exactly_one=True, timeout=10)\n",
    "        address = location.raw.get('address', {})\n",
    "        postal_code = address.get('postcode', \"N/A\")\n",
    "    except Exception as e:\n",
    "        print(f\"Error getting ZIP for {lat}, {lon}: {e}\")\n",
    "        postal_code = \"N/A\"\n",
    "    \n",
    "    zip_cache[key] = postal_code\n",
    "    # Pause to respect the usage policy.\n",
    "    time.sleep(1)\n",
    "    return postal_code\n",
    "\n",
    "# Apply the function to each row in the DataFrame.\n",
    "df['zip'] = df.apply(lambda row: get_zip(row['lat'], row['lon']), axis=1)\n",
    "\n",
    "# Save the updated ZIP cache.\n",
    "with open(\"zip_cache.pkl\", \"wb\") as f:\n",
    "    pickle.dump(zip_cache, f)\n",
    "\n",
    "df.head()\n"
   ]
  },
  {
   "cell_type": "code",
   "execution_count": 12,
   "id": "a9049656",
   "metadata": {
    "execution": {
     "iopub.execute_input": "2025-04-26T00:59:57.194226Z",
     "iopub.status.busy": "2025-04-26T00:59:57.194021Z",
     "iopub.status.idle": "2025-04-26T00:59:57.223492Z",
     "shell.execute_reply": "2025-04-26T00:59:57.222813Z"
    },
    "papermill": {
     "duration": 0.040768,
     "end_time": "2025-04-26T00:59:57.224676",
     "exception": false,
     "start_time": "2025-04-26T00:59:57.183908",
     "status": "completed"
    },
    "tags": []
   },
   "outputs": [
    {
     "name": "stdout",
     "output_type": "stream",
     "text": [
      "                  MissingCount  MissingPercentage\n",
      "RecordID                     0               0.00\n",
      "Offense                      0               0.00\n",
      "IncidentID                   0               0.00\n",
      "BlockNumber                  0               0.00\n",
      "StreetName                   0               0.00\n",
      "Agency                       0               0.00\n",
      "HourReported                 0               0.00\n",
      "ReportingOfficer            17               0.07\n",
      "Date                         0               0.00\n",
      "DateString                   0               0.00\n",
      "DayOfWeek                    0               0.00\n",
      "Weekend                      0               0.00\n",
      "Season                       0               0.00\n",
      "HourAMPM                     0               0.00\n",
      "TimeOfDay                    0               0.00\n",
      "FullStreet                   0               0.00\n",
      "lat                          0               0.00\n",
      "lon                          0               0.00\n",
      "neighborhood                 0               0.00\n",
      "zip                          0               0.00\n"
     ]
    }
   ],
   "source": [
    "missing_info = missing_percentage(df)\n",
    "print(missing_info)\n"
   ]
  },
  {
   "cell_type": "code",
   "execution_count": 13,
   "id": "34c16baf",
   "metadata": {
    "execution": {
     "iopub.execute_input": "2025-04-26T00:59:57.244669Z",
     "iopub.status.busy": "2025-04-26T00:59:57.244449Z",
     "iopub.status.idle": "2025-04-26T00:59:57.278642Z",
     "shell.execute_reply": "2025-04-26T00:59:57.277974Z"
    },
    "papermill": {
     "duration": 0.044143,
     "end_time": "2025-04-26T00:59:57.279760",
     "exception": false,
     "start_time": "2025-04-26T00:59:57.235617",
     "status": "completed"
    },
    "tags": []
   },
   "outputs": [
    {
     "name": "stdout",
     "output_type": "stream",
     "text": [
      "<class 'pandas.core.frame.DataFrame'>\n",
      "RangeIndex: 25266 entries, 0 to 25265\n",
      "Data columns (total 20 columns):\n",
      " #   Column            Non-Null Count  Dtype         \n",
      "---  ------            --------------  -----         \n",
      " 0   RecordID          25266 non-null  int64         \n",
      " 1   Offense           25266 non-null  object        \n",
      " 2   IncidentID        25266 non-null  object        \n",
      " 3   BlockNumber       25266 non-null  object        \n",
      " 4   StreetName        25266 non-null  object        \n",
      " 5   Agency            25266 non-null  object        \n",
      " 6   HourReported      25266 non-null  object        \n",
      " 7   ReportingOfficer  25249 non-null  object        \n",
      " 8   Date              25266 non-null  datetime64[ns]\n",
      " 9   DateString        25266 non-null  object        \n",
      " 10  DayOfWeek         25266 non-null  object        \n",
      " 11  Weekend           25266 non-null  bool          \n",
      " 12  Season            25266 non-null  object        \n",
      " 13  HourAMPM          25266 non-null  object        \n",
      " 14  TimeOfDay         25266 non-null  object        \n",
      " 15  FullStreet        25266 non-null  object        \n",
      " 16  lat               25266 non-null  float64       \n",
      " 17  lon               25266 non-null  float64       \n",
      " 18  neighborhood      25266 non-null  object        \n",
      " 19  zip               25266 non-null  object        \n",
      "dtypes: bool(1), datetime64[ns](1), float64(2), int64(1), object(15)\n",
      "memory usage: 3.7+ MB\n"
     ]
    }
   ],
   "source": [
    "df.info()"
   ]
  },
  {
   "cell_type": "code",
   "execution_count": 14,
   "id": "049a944e",
   "metadata": {
    "execution": {
     "iopub.execute_input": "2025-04-26T00:59:57.296339Z",
     "iopub.status.busy": "2025-04-26T00:59:57.295757Z",
     "iopub.status.idle": "2025-04-26T00:59:57.339823Z",
     "shell.execute_reply": "2025-04-26T00:59:57.339236Z"
    },
    "papermill": {
     "duration": 0.053516,
     "end_time": "2025-04-26T00:59:57.341004",
     "exception": false,
     "start_time": "2025-04-26T00:59:57.287488",
     "status": "completed"
    },
    "tags": []
   },
   "outputs": [
    {
     "data": {
      "text/html": [
       "<div>\n",
       "<style scoped>\n",
       "    .dataframe tbody tr th:only-of-type {\n",
       "        vertical-align: middle;\n",
       "    }\n",
       "\n",
       "    .dataframe tbody tr th {\n",
       "        vertical-align: top;\n",
       "    }\n",
       "\n",
       "    .dataframe thead th {\n",
       "        text-align: right;\n",
       "    }\n",
       "</style>\n",
       "<table border=\"1\" class=\"dataframe\">\n",
       "  <thead>\n",
       "    <tr style=\"text-align: right;\">\n",
       "      <th></th>\n",
       "      <th>RecordID</th>\n",
       "      <th>Offense</th>\n",
       "      <th>IncidentID</th>\n",
       "      <th>Agency</th>\n",
       "      <th>ReportingOfficer</th>\n",
       "      <th>Date</th>\n",
       "      <th>DayOfWeek</th>\n",
       "      <th>Weekend</th>\n",
       "      <th>Season</th>\n",
       "      <th>TimeOfDay</th>\n",
       "      <th>FullStreet</th>\n",
       "      <th>lat</th>\n",
       "      <th>lon</th>\n",
       "      <th>neighborhood</th>\n",
       "      <th>zip</th>\n",
       "    </tr>\n",
       "  </thead>\n",
       "  <tbody>\n",
       "    <tr>\n",
       "      <th>0</th>\n",
       "      <td>1</td>\n",
       "      <td>Larceny - All Other</td>\n",
       "      <td>202500013313</td>\n",
       "      <td>CPD</td>\n",
       "      <td>Bentz, Benjamin</td>\n",
       "      <td>2025-04-23 16:47:31</td>\n",
       "      <td>Wednesday</td>\n",
       "      <td>False</td>\n",
       "      <td>Spring</td>\n",
       "      <td>Afternoon</td>\n",
       "      <td>1000 CHERRY AVE</td>\n",
       "      <td>38.027017</td>\n",
       "      <td>-78.497917</td>\n",
       "      <td>Fifeville</td>\n",
       "      <td>22903</td>\n",
       "    </tr>\n",
       "    <tr>\n",
       "      <th>1</th>\n",
       "      <td>2</td>\n",
       "      <td>Larceny - All Other</td>\n",
       "      <td>202500013314</td>\n",
       "      <td>CPD</td>\n",
       "      <td>Shiflett, Ethan</td>\n",
       "      <td>2025-04-23 15:32:34</td>\n",
       "      <td>Wednesday</td>\n",
       "      <td>False</td>\n",
       "      <td>Spring</td>\n",
       "      <td>Afternoon</td>\n",
       "      <td>1500 UNIVERSITY AVE</td>\n",
       "      <td>38.034578</td>\n",
       "      <td>-78.500340</td>\n",
       "      <td>Venable</td>\n",
       "      <td>22908</td>\n",
       "    </tr>\n",
       "    <tr>\n",
       "      <th>2</th>\n",
       "      <td>3</td>\n",
       "      <td>Lost/FoundProperty</td>\n",
       "      <td>202500013295</td>\n",
       "      <td>CPD</td>\n",
       "      <td>Rigsby, Lloyd</td>\n",
       "      <td>2025-04-23 15:03:43</td>\n",
       "      <td>Wednesday</td>\n",
       "      <td>False</td>\n",
       "      <td>Spring</td>\n",
       "      <td>Afternoon</td>\n",
       "      <td>900 PRESTON AVE</td>\n",
       "      <td>38.037011</td>\n",
       "      <td>-78.489464</td>\n",
       "      <td>10th &amp; Page</td>\n",
       "      <td>22903</td>\n",
       "    </tr>\n",
       "    <tr>\n",
       "      <th>3</th>\n",
       "      <td>4</td>\n",
       "      <td>Larceny - Theft from Building</td>\n",
       "      <td>202500013294</td>\n",
       "      <td>CPD</td>\n",
       "      <td>Moriarty, Thomas</td>\n",
       "      <td>2025-04-23 14:11:14</td>\n",
       "      <td>Wednesday</td>\n",
       "      <td>False</td>\n",
       "      <td>Spring</td>\n",
       "      <td>Afternoon</td>\n",
       "      <td>900 ANDERSON ST</td>\n",
       "      <td>38.035677</td>\n",
       "      <td>-78.490990</td>\n",
       "      <td>10th &amp; Page</td>\n",
       "      <td>22903</td>\n",
       "    </tr>\n",
       "    <tr>\n",
       "      <th>4</th>\n",
       "      <td>5</td>\n",
       "      <td>Suspicious Activity</td>\n",
       "      <td>202500013286</td>\n",
       "      <td>CPD</td>\n",
       "      <td>Carrasco, Julio</td>\n",
       "      <td>2025-04-23 13:29:20</td>\n",
       "      <td>Wednesday</td>\n",
       "      <td>False</td>\n",
       "      <td>Spring</td>\n",
       "      <td>Afternoon</td>\n",
       "      <td>200 RIDGE ST</td>\n",
       "      <td>38.029522</td>\n",
       "      <td>-78.485560</td>\n",
       "      <td>Fifeville</td>\n",
       "      <td>22902</td>\n",
       "    </tr>\n",
       "  </tbody>\n",
       "</table>\n",
       "</div>"
      ],
      "text/plain": [
       "   RecordID                        Offense    IncidentID Agency  \\\n",
       "0         1            Larceny - All Other  202500013313    CPD   \n",
       "1         2            Larceny - All Other  202500013314    CPD   \n",
       "2         3             Lost/FoundProperty  202500013295    CPD   \n",
       "3         4  Larceny - Theft from Building  202500013294    CPD   \n",
       "4         5            Suspicious Activity  202500013286    CPD   \n",
       "\n",
       "   ReportingOfficer                Date  DayOfWeek  Weekend  Season  \\\n",
       "0  Bentz, Benjamin  2025-04-23 16:47:31  Wednesday    False  Spring   \n",
       "1  Shiflett, Ethan  2025-04-23 15:32:34  Wednesday    False  Spring   \n",
       "2     Rigsby, Lloyd 2025-04-23 15:03:43  Wednesday    False  Spring   \n",
       "3  Moriarty, Thomas 2025-04-23 14:11:14  Wednesday    False  Spring   \n",
       "4   Carrasco, Julio 2025-04-23 13:29:20  Wednesday    False  Spring   \n",
       "\n",
       "   TimeOfDay           FullStreet        lat        lon neighborhood    zip  \n",
       "0  Afternoon      1000 CHERRY AVE  38.027017 -78.497917    Fifeville  22903  \n",
       "1  Afternoon  1500 UNIVERSITY AVE  38.034578 -78.500340      Venable  22908  \n",
       "2  Afternoon      900 PRESTON AVE  38.037011 -78.489464  10th & Page  22903  \n",
       "3  Afternoon      900 ANDERSON ST  38.035677 -78.490990  10th & Page  22903  \n",
       "4  Afternoon         200 RIDGE ST  38.029522 -78.485560    Fifeville  22902  "
      ]
     },
     "execution_count": 14,
     "metadata": {},
     "output_type": "execute_result"
    }
   ],
   "source": [
    "# Now drop the original BlockNumber and StreetName columns\n",
    "df.drop(columns=['BlockNumber', 'StreetName','HourAMPM','HourReported','DateString'], inplace=True)\n",
    "df[\"zip\"] = df[\"zip\"].astype(str)\n",
    "\n",
    "# Fill all missing values in the DataFrame with \"N/A\"\n",
    "df.replace({None: \"N/A\", np.nan: \"N/A\", \"\": \"N/A\"}, inplace=True)\n",
    "df.head()"
   ]
  },
  {
   "cell_type": "code",
   "execution_count": 15,
   "id": "0976872b",
   "metadata": {
    "execution": {
     "iopub.execute_input": "2025-04-26T00:59:57.357248Z",
     "iopub.status.busy": "2025-04-26T00:59:57.356650Z",
     "iopub.status.idle": "2025-04-26T00:59:57.376549Z",
     "shell.execute_reply": "2025-04-26T00:59:57.375994Z"
    },
    "papermill": {
     "duration": 0.028961,
     "end_time": "2025-04-26T00:59:57.377559",
     "exception": false,
     "start_time": "2025-04-26T00:59:57.348598",
     "status": "completed"
    },
    "tags": []
   },
   "outputs": [
    {
     "name": "stdout",
     "output_type": "stream",
     "text": [
      "                  MissingCount  MissingPercentage\n",
      "RecordID                     0                0.0\n",
      "Offense                      0                0.0\n",
      "IncidentID                   0                0.0\n",
      "Agency                       0                0.0\n",
      "ReportingOfficer             0                0.0\n",
      "Date                         0                0.0\n",
      "DayOfWeek                    0                0.0\n",
      "Weekend                      0                0.0\n",
      "Season                       0                0.0\n",
      "TimeOfDay                    0                0.0\n",
      "FullStreet                   0                0.0\n",
      "lat                          0                0.0\n",
      "lon                          0                0.0\n",
      "neighborhood                 0                0.0\n",
      "zip                          0                0.0\n"
     ]
    }
   ],
   "source": [
    "missing_info = missing_percentage(df)\n",
    "print(missing_info)"
   ]
  },
  {
   "cell_type": "code",
   "execution_count": 16,
   "id": "3f7a0664",
   "metadata": {
    "execution": {
     "iopub.execute_input": "2025-04-26T00:59:57.393411Z",
     "iopub.status.busy": "2025-04-26T00:59:57.393152Z",
     "iopub.status.idle": "2025-04-26T00:59:57.397737Z",
     "shell.execute_reply": "2025-04-26T00:59:57.397132Z"
    },
    "papermill": {
     "duration": 0.013688,
     "end_time": "2025-04-26T00:59:57.398765",
     "exception": false,
     "start_time": "2025-04-26T00:59:57.385077",
     "status": "completed"
    },
    "tags": []
   },
   "outputs": [
    {
     "data": {
      "text/plain": [
       "Index(['RecordID', 'Offense', 'IncidentID', 'Agency', 'ReportingOfficer',\n",
       "       'Date', 'DayOfWeek', 'Weekend', 'Season', 'TimeOfDay', 'FullStreet',\n",
       "       'lat', 'lon', 'neighborhood', 'zip'],\n",
       "      dtype='object')"
      ]
     },
     "execution_count": 16,
     "metadata": {},
     "output_type": "execute_result"
    }
   ],
   "source": [
    "df.columns"
   ]
  },
  {
   "cell_type": "code",
   "execution_count": 17,
   "id": "4bbd3138",
   "metadata": {
    "execution": {
     "iopub.execute_input": "2025-04-26T00:59:57.415066Z",
     "iopub.status.busy": "2025-04-26T00:59:57.414652Z",
     "iopub.status.idle": "2025-04-26T00:59:57.436413Z",
     "shell.execute_reply": "2025-04-26T00:59:57.435842Z"
    },
    "papermill": {
     "duration": 0.030953,
     "end_time": "2025-04-26T00:59:57.437406",
     "exception": false,
     "start_time": "2025-04-26T00:59:57.406453",
     "status": "completed"
    },
    "tags": []
   },
   "outputs": [
    {
     "name": "stdout",
     "output_type": "stream",
     "text": [
      "<class 'pandas.core.frame.DataFrame'>\n",
      "RangeIndex: 25266 entries, 0 to 25265\n",
      "Data columns (total 15 columns):\n",
      " #   Column            Non-Null Count  Dtype         \n",
      "---  ------            --------------  -----         \n",
      " 0   RecordID          25266 non-null  int64         \n",
      " 1   Offense           25266 non-null  object        \n",
      " 2   IncidentID        25266 non-null  object        \n",
      " 3   Agency            25266 non-null  object        \n",
      " 4   ReportingOfficer  25266 non-null  object        \n",
      " 5   Date              25266 non-null  datetime64[ns]\n",
      " 6   DayOfWeek         25266 non-null  object        \n",
      " 7   Weekend           25266 non-null  bool          \n",
      " 8   Season            25266 non-null  object        \n",
      " 9   TimeOfDay         25266 non-null  object        \n",
      " 10  FullStreet        25266 non-null  object        \n",
      " 11  lat               25266 non-null  float64       \n",
      " 12  lon               25266 non-null  float64       \n",
      " 13  neighborhood      25266 non-null  object        \n",
      " 14  zip               25266 non-null  object        \n",
      "dtypes: bool(1), datetime64[ns](1), float64(2), int64(1), object(10)\n",
      "memory usage: 2.7+ MB\n"
     ]
    }
   ],
   "source": [
    "df.info()"
   ]
  },
  {
   "cell_type": "markdown",
   "id": "ced039a3",
   "metadata": {
    "papermill": {
     "duration": 0.007422,
     "end_time": "2025-04-26T00:59:57.452610",
     "exception": false,
     "start_time": "2025-04-26T00:59:57.445188",
     "status": "completed"
    },
    "tags": []
   },
   "source": [
    "### Export Clean Data"
   ]
  },
  {
   "cell_type": "code",
   "execution_count": 18,
   "id": "3d37e5a4",
   "metadata": {
    "execution": {
     "iopub.execute_input": "2025-04-26T00:59:57.495402Z",
     "iopub.status.busy": "2025-04-26T00:59:57.494896Z",
     "iopub.status.idle": "2025-04-26T01:00:06.716571Z",
     "shell.execute_reply": "2025-04-26T01:00:06.715785Z"
    },
    "papermill": {
     "duration": 9.257548,
     "end_time": "2025-04-26T01:00:06.717674",
     "exception": false,
     "start_time": "2025-04-26T00:59:57.460126",
     "status": "completed"
    },
    "tags": []
   },
   "outputs": [
    {
     "name": "stdout",
     "output_type": "stream",
     "text": [
      "Project Root: /home/runner/work/crime-data/crime-data\n"
     ]
    },
    {
     "name": "stdout",
     "output_type": "stream",
     "text": [
      "Data saved to: /home/runner/work/crime-data/crime-data/data/charlottesville_crime_incidents.csv\n"
     ]
    },
    {
     "name": "stdout",
     "output_type": "stream",
     "text": [
      "Excel saved to: /home/runner/work/crime-data/crime-data/data/charlottesville_crime_incidents.xlsx\n"
     ]
    }
   ],
   "source": [
    "# Determine the project root (assuming papermill is run from the repository root)\n",
    "project_root = os.getcwd()\n",
    "print(\"Project Root:\", project_root)\n",
    "\n",
    "# Set the data directory within the project root\n",
    "data_dir = os.path.join(project_root, \"data\")\n",
    "\n",
    "# Ensure the \"data\" directory exists (create it if it doesn't)\n",
    "if not os.path.exists(data_dir):\n",
    "    os.makedirs(data_dir)\n",
    "\n",
    "# Export the DataFrame to CSV in the \"data\" folder located in the project root\n",
    "csv_path = os.path.join(data_dir, \"charlottesville_crime_incidents.csv\")\n",
    "df.to_csv(csv_path, index=False)\n",
    "print(\"Data saved to:\", csv_path)\n",
    "\n",
    "# Construct the path to your Excel file\n",
    "excel_path = os.path.join(data_dir, \"charlottesville_crime_incidents.xlsx\")\n",
    "\n",
    "# Export the DataFrame to Excel\n",
    "df.to_excel(excel_path, index=False)\n",
    "print(\"Excel saved to:\", excel_path)\n"
   ]
  },
  {
   "cell_type": "markdown",
   "id": "0e3b9870",
   "metadata": {
    "papermill": {
     "duration": 0.00782,
     "end_time": "2025-04-26T01:00:06.733705",
     "exception": false,
     "start_time": "2025-04-26T01:00:06.725885",
     "status": "completed"
    },
    "tags": []
   },
   "source": [
    "## Predictive Analytics"
   ]
  },
  {
   "cell_type": "code",
   "execution_count": 19,
   "id": "f8171074",
   "metadata": {
    "execution": {
     "iopub.execute_input": "2025-04-26T01:00:06.750244Z",
     "iopub.status.busy": "2025-04-26T01:00:06.750002Z",
     "iopub.status.idle": "2025-04-26T01:00:06.761948Z",
     "shell.execute_reply": "2025-04-26T01:00:06.761328Z"
    },
    "papermill": {
     "duration": 0.021529,
     "end_time": "2025-04-26T01:00:06.762975",
     "exception": false,
     "start_time": "2025-04-26T01:00:06.741446",
     "status": "completed"
    },
    "tags": []
   },
   "outputs": [
    {
     "data": {
      "text/html": [
       "<div>\n",
       "<style scoped>\n",
       "    .dataframe tbody tr th:only-of-type {\n",
       "        vertical-align: middle;\n",
       "    }\n",
       "\n",
       "    .dataframe tbody tr th {\n",
       "        vertical-align: top;\n",
       "    }\n",
       "\n",
       "    .dataframe thead th {\n",
       "        text-align: right;\n",
       "    }\n",
       "</style>\n",
       "<table border=\"1\" class=\"dataframe\">\n",
       "  <thead>\n",
       "    <tr style=\"text-align: right;\">\n",
       "      <th></th>\n",
       "      <th>RecordID</th>\n",
       "      <th>Offense</th>\n",
       "      <th>IncidentID</th>\n",
       "      <th>Agency</th>\n",
       "      <th>ReportingOfficer</th>\n",
       "      <th>Date</th>\n",
       "      <th>DayOfWeek</th>\n",
       "      <th>Weekend</th>\n",
       "      <th>Season</th>\n",
       "      <th>TimeOfDay</th>\n",
       "      <th>FullStreet</th>\n",
       "      <th>lat</th>\n",
       "      <th>lon</th>\n",
       "      <th>neighborhood</th>\n",
       "      <th>zip</th>\n",
       "    </tr>\n",
       "  </thead>\n",
       "  <tbody>\n",
       "    <tr>\n",
       "      <th>0</th>\n",
       "      <td>1</td>\n",
       "      <td>Larceny - All Other</td>\n",
       "      <td>202500013313</td>\n",
       "      <td>CPD</td>\n",
       "      <td>Bentz, Benjamin</td>\n",
       "      <td>2025-04-23 16:47:31</td>\n",
       "      <td>Wednesday</td>\n",
       "      <td>False</td>\n",
       "      <td>Spring</td>\n",
       "      <td>Afternoon</td>\n",
       "      <td>1000 CHERRY AVE</td>\n",
       "      <td>38.027017</td>\n",
       "      <td>-78.497917</td>\n",
       "      <td>Fifeville</td>\n",
       "      <td>22903</td>\n",
       "    </tr>\n",
       "    <tr>\n",
       "      <th>1</th>\n",
       "      <td>2</td>\n",
       "      <td>Larceny - All Other</td>\n",
       "      <td>202500013314</td>\n",
       "      <td>CPD</td>\n",
       "      <td>Shiflett, Ethan</td>\n",
       "      <td>2025-04-23 15:32:34</td>\n",
       "      <td>Wednesday</td>\n",
       "      <td>False</td>\n",
       "      <td>Spring</td>\n",
       "      <td>Afternoon</td>\n",
       "      <td>1500 UNIVERSITY AVE</td>\n",
       "      <td>38.034578</td>\n",
       "      <td>-78.500340</td>\n",
       "      <td>Venable</td>\n",
       "      <td>22908</td>\n",
       "    </tr>\n",
       "    <tr>\n",
       "      <th>2</th>\n",
       "      <td>3</td>\n",
       "      <td>Lost/FoundProperty</td>\n",
       "      <td>202500013295</td>\n",
       "      <td>CPD</td>\n",
       "      <td>Rigsby, Lloyd</td>\n",
       "      <td>2025-04-23 15:03:43</td>\n",
       "      <td>Wednesday</td>\n",
       "      <td>False</td>\n",
       "      <td>Spring</td>\n",
       "      <td>Afternoon</td>\n",
       "      <td>900 PRESTON AVE</td>\n",
       "      <td>38.037011</td>\n",
       "      <td>-78.489464</td>\n",
       "      <td>10th &amp; Page</td>\n",
       "      <td>22903</td>\n",
       "    </tr>\n",
       "    <tr>\n",
       "      <th>3</th>\n",
       "      <td>4</td>\n",
       "      <td>Larceny - Theft from Building</td>\n",
       "      <td>202500013294</td>\n",
       "      <td>CPD</td>\n",
       "      <td>Moriarty, Thomas</td>\n",
       "      <td>2025-04-23 14:11:14</td>\n",
       "      <td>Wednesday</td>\n",
       "      <td>False</td>\n",
       "      <td>Spring</td>\n",
       "      <td>Afternoon</td>\n",
       "      <td>900 ANDERSON ST</td>\n",
       "      <td>38.035677</td>\n",
       "      <td>-78.490990</td>\n",
       "      <td>10th &amp; Page</td>\n",
       "      <td>22903</td>\n",
       "    </tr>\n",
       "    <tr>\n",
       "      <th>4</th>\n",
       "      <td>5</td>\n",
       "      <td>Suspicious Activity</td>\n",
       "      <td>202500013286</td>\n",
       "      <td>CPD</td>\n",
       "      <td>Carrasco, Julio</td>\n",
       "      <td>2025-04-23 13:29:20</td>\n",
       "      <td>Wednesday</td>\n",
       "      <td>False</td>\n",
       "      <td>Spring</td>\n",
       "      <td>Afternoon</td>\n",
       "      <td>200 RIDGE ST</td>\n",
       "      <td>38.029522</td>\n",
       "      <td>-78.485560</td>\n",
       "      <td>Fifeville</td>\n",
       "      <td>22902</td>\n",
       "    </tr>\n",
       "  </tbody>\n",
       "</table>\n",
       "</div>"
      ],
      "text/plain": [
       "   RecordID                        Offense    IncidentID Agency  \\\n",
       "0         1            Larceny - All Other  202500013313    CPD   \n",
       "1         2            Larceny - All Other  202500013314    CPD   \n",
       "2         3             Lost/FoundProperty  202500013295    CPD   \n",
       "3         4  Larceny - Theft from Building  202500013294    CPD   \n",
       "4         5            Suspicious Activity  202500013286    CPD   \n",
       "\n",
       "   ReportingOfficer                Date  DayOfWeek  Weekend  Season  \\\n",
       "0  Bentz, Benjamin  2025-04-23 16:47:31  Wednesday    False  Spring   \n",
       "1  Shiflett, Ethan  2025-04-23 15:32:34  Wednesday    False  Spring   \n",
       "2     Rigsby, Lloyd 2025-04-23 15:03:43  Wednesday    False  Spring   \n",
       "3  Moriarty, Thomas 2025-04-23 14:11:14  Wednesday    False  Spring   \n",
       "4   Carrasco, Julio 2025-04-23 13:29:20  Wednesday    False  Spring   \n",
       "\n",
       "   TimeOfDay           FullStreet        lat        lon neighborhood    zip  \n",
       "0  Afternoon      1000 CHERRY AVE  38.027017 -78.497917    Fifeville  22903  \n",
       "1  Afternoon  1500 UNIVERSITY AVE  38.034578 -78.500340      Venable  22908  \n",
       "2  Afternoon      900 PRESTON AVE  38.037011 -78.489464  10th & Page  22903  \n",
       "3  Afternoon      900 ANDERSON ST  38.035677 -78.490990  10th & Page  22903  \n",
       "4  Afternoon         200 RIDGE ST  38.029522 -78.485560    Fifeville  22902  "
      ]
     },
     "execution_count": 19,
     "metadata": {},
     "output_type": "execute_result"
    }
   ],
   "source": [
    "df.head()"
   ]
  },
  {
   "cell_type": "code",
   "execution_count": 20,
   "id": "93d0c32b",
   "metadata": {
    "execution": {
     "iopub.execute_input": "2025-04-26T01:00:06.780127Z",
     "iopub.status.busy": "2025-04-26T01:00:06.779671Z",
     "iopub.status.idle": "2025-04-26T01:00:06.784238Z",
     "shell.execute_reply": "2025-04-26T01:00:06.783589Z"
    },
    "papermill": {
     "duration": 0.014075,
     "end_time": "2025-04-26T01:00:06.785226",
     "exception": false,
     "start_time": "2025-04-26T01:00:06.771151",
     "status": "completed"
    },
    "tags": []
   },
   "outputs": [
    {
     "data": {
      "text/plain": [
       "Index(['RecordID', 'Offense', 'IncidentID', 'Agency', 'ReportingOfficer',\n",
       "       'Date', 'DayOfWeek', 'Weekend', 'Season', 'TimeOfDay', 'FullStreet',\n",
       "       'lat', 'lon', 'neighborhood', 'zip'],\n",
       "      dtype='object')"
      ]
     },
     "execution_count": 20,
     "metadata": {},
     "output_type": "execute_result"
    }
   ],
   "source": [
    "df.columns"
   ]
  },
  {
   "cell_type": "markdown",
   "id": "89fdc577",
   "metadata": {
    "papermill": {
     "duration": 0.008069,
     "end_time": "2025-04-26T01:00:06.801360",
     "exception": false,
     "start_time": "2025-04-26T01:00:06.793291",
     "status": "completed"
    },
    "tags": []
   },
   "source": [
    "### Data Preparation\n",
    "\n",
    "We need to ensure the data is in the correct format for modeling and can handle missing values, categorical variables, and dates. Here's how to prepare your data:"
   ]
  },
  {
   "cell_type": "code",
   "execution_count": 21,
   "id": "d877e194",
   "metadata": {
    "execution": {
     "iopub.execute_input": "2025-04-26T01:00:06.818987Z",
     "iopub.status.busy": "2025-04-26T01:00:06.818360Z",
     "iopub.status.idle": "2025-04-26T01:00:09.227755Z",
     "shell.execute_reply": "2025-04-26T01:00:09.226971Z"
    },
    "papermill": {
     "duration": 2.419883,
     "end_time": "2025-04-26T01:00:09.229245",
     "exception": false,
     "start_time": "2025-04-26T01:00:06.809362",
     "status": "completed"
    },
    "tags": []
   },
   "outputs": [],
   "source": [
    "import pandas as pd\n",
    "from sklearn.model_selection import train_test_split\n",
    "from sklearn.preprocessing import OneHotEncoder, LabelEncoder\n",
    "from sklearn.ensemble import RandomForestClassifier\n",
    "from sklearn.linear_model import LogisticRegression\n",
    "from sklearn.tree import DecisionTreeClassifier\n",
    "from sklearn.metrics import classification_report, accuracy_score\n",
    "import seaborn as sns\n",
    "import matplotlib.pyplot as plt\n",
    "\n",
    "# Convert 'Date' to datetime\n",
    "df['Date'] = pd.to_datetime(df['Date'])\n",
    "\n",
    "# Feature engineering: Extract additional time-based features\n",
    "df['Year'] = df['Date'].dt.year\n",
    "df['Month'] = df['Date'].dt.month\n",
    "df['DayOfMonth'] = df['Date'].dt.day\n",
    "\n",
    "# One-hot encoding for 'FullStreet', 'neighborhood', 'zip'\n",
    "df = pd.get_dummies(df, columns=['FullStreet', 'neighborhood', 'zip'], drop_first=True)\n",
    "\n",
    "# Label encoding for ordered variables (those with a natural order like 'DayOfWeek', 'Season', 'TimeOfDay')\n",
    "label_encoders = {}\n",
    "for column in ['DayOfWeek', 'Season', 'TimeOfDay', 'Agency', 'ReportingOfficer']:  # Example ordinal variables\n",
    "    le = LabelEncoder()\n",
    "    df[column] = le.fit_transform(df[column])\n",
    "    label_encoders[column] = le\n",
    "\n",
    "# Filter the dataset to include only the offenses of interest\n",
    "offenses_of_interest = [\n",
    "    'Hit and Run', 'Assault Simple', 'Suspicious Activity', 'Vandalism', \n",
    "    'Larceny - From Mot Vehicle', 'Larceny - All Other', \n",
    "    'Assist Citizen - Mental/TDO/ECO', 'Lost/FoundProperty'\n",
    "]\n",
    "\n",
    "df = df[df['Offense'].isin(offenses_of_interest)]\n",
    "\n",
    "# Label encode the target variable (Offense)\n",
    "offense_encoder = LabelEncoder()\n",
    "df['Offense'] = offense_encoder.fit_transform(df['Offense'])\n",
    "\n",
    "# Separate features (X) and target (y)\n",
    "X = df[['Year', 'Month', 'DayOfMonth', 'DayOfWeek', 'Weekend', 'Season', 'TimeOfDay', 'lat', 'lon', 'Agency', 'ReportingOfficer']]\n",
    "y = df['Offense']  # Offense is now the encoded target variable\n",
    "\n",
    "# Split the data into training and testing sets\n",
    "X_train, X_test, y_train, y_test = train_test_split(X, y, test_size=0.3, random_state=42)\n"
   ]
  },
  {
   "cell_type": "markdown",
   "id": "e2797896",
   "metadata": {
    "papermill": {
     "duration": 0.010799,
     "end_time": "2025-04-26T01:00:09.248525",
     "exception": false,
     "start_time": "2025-04-26T01:00:09.237726",
     "status": "completed"
    },
    "tags": []
   },
   "source": [
    "### Model Training\n",
    "\n",
    "Here we will train several models (e.g., Random Forest, Logistic Regression, and Decision Tree). We will use cross-validation to choose the best model based on accuracy, and then explain the impact of the variables."
   ]
  },
  {
   "cell_type": "code",
   "execution_count": 22,
   "id": "c946529b",
   "metadata": {
    "execution": {
     "iopub.execute_input": "2025-04-26T01:00:09.266420Z",
     "iopub.status.busy": "2025-04-26T01:00:09.265703Z",
     "iopub.status.idle": "2025-04-26T01:00:12.845040Z",
     "shell.execute_reply": "2025-04-26T01:00:12.844422Z"
    },
    "papermill": {
     "duration": 3.589461,
     "end_time": "2025-04-26T01:00:12.846089",
     "exception": false,
     "start_time": "2025-04-26T01:00:09.256628",
     "status": "completed"
    },
    "tags": []
   },
   "outputs": [
    {
     "name": "stderr",
     "output_type": "stream",
     "text": [
      "/opt/hostedtoolcache/Python/3.9.22/x64/lib/python3.9/site-packages/sklearn/linear_model/_logistic.py:465: ConvergenceWarning: lbfgs failed to converge (status=1):\n",
      "STOP: TOTAL NO. of ITERATIONS REACHED LIMIT.\n",
      "\n",
      "Increase the number of iterations (max_iter) or scale the data as shown in:\n",
      "    https://scikit-learn.org/stable/modules/preprocessing.html\n",
      "Please also refer to the documentation for alternative solver options:\n",
      "    https://scikit-learn.org/stable/modules/linear_model.html#logistic-regression\n",
      "  n_iter_i = _check_optimize_result(\n",
      "/opt/hostedtoolcache/Python/3.9.22/x64/lib/python3.9/site-packages/sklearn/metrics/_classification.py:1565: UndefinedMetricWarning: Precision is ill-defined and being set to 0.0 in labels with no predicted samples. Use `zero_division` parameter to control this behavior.\n",
      "  _warn_prf(average, modifier, f\"{metric.capitalize()} is\", len(result))\n",
      "/opt/hostedtoolcache/Python/3.9.22/x64/lib/python3.9/site-packages/sklearn/metrics/_classification.py:1565: UndefinedMetricWarning: Precision is ill-defined and being set to 0.0 in labels with no predicted samples. Use `zero_division` parameter to control this behavior.\n",
      "  _warn_prf(average, modifier, f\"{metric.capitalize()} is\", len(result))\n",
      "/opt/hostedtoolcache/Python/3.9.22/x64/lib/python3.9/site-packages/sklearn/metrics/_classification.py:1565: UndefinedMetricWarning: Precision is ill-defined and being set to 0.0 in labels with no predicted samples. Use `zero_division` parameter to control this behavior.\n",
      "  _warn_prf(average, modifier, f\"{metric.capitalize()} is\", len(result))\n"
     ]
    },
    {
     "name": "stdout",
     "output_type": "stream",
     "text": [
      "\n",
      "Classification Report for All Models:\n",
      "\n",
      "Model: RandomForest\n",
      "Accuracy: 0.2794\n",
      "              precision    recall  f1-score      support\n",
      "0              0.298246  0.349315  0.321767   584.000000\n",
      "1              0.278409  0.235012  0.254876   417.000000\n",
      "2              0.304609  0.457143  0.365604   665.000000\n",
      "3              0.221557  0.158798  0.185000   466.000000\n",
      "4              0.327801  0.221289  0.264214   357.000000\n",
      "5              0.235169  0.222892  0.228866   498.000000\n",
      "6              0.255814  0.205821  0.228111   481.000000\n",
      "accuracy       0.279412  0.279412  0.279412     0.279412\n",
      "macro avg      0.274515  0.264324  0.264063  3468.000000\n",
      "weighted avg   0.274876  0.279412  0.271497  3468.000000\n"
     ]
    },
    {
     "data": {
      "image/png": "[encoded data removed]",
      "text/plain": [
       "<Figure size 800x600 with 2 Axes>"
      ]
     },
     "metadata": {},
     "output_type": "display_data"
    },
    {
     "name": "stdout",
     "output_type": "stream",
     "text": [
      "\n",
      "Model: LogisticRegression\n",
      "Accuracy: 0.2099\n",
      "              precision    recall  f1-score      support\n",
      "0              0.194290  0.477740  0.276238   584.000000\n",
      "1              0.500000  0.002398  0.004773   417.000000\n",
      "2              0.220896  0.667669  0.331963   665.000000\n",
      "3              0.000000  0.000000  0.000000   466.000000\n",
      "4              0.000000  0.000000  0.000000   357.000000\n",
      "5              0.166667  0.002008  0.003968   498.000000\n",
      "6              0.214286  0.006237  0.012121   481.000000\n",
      "accuracy       0.209919  0.209919  0.209919     0.209919\n",
      "macro avg      0.185163  0.165150  0.089866  3468.000000\n",
      "weighted avg   0.188850  0.209919  0.112997  3468.000000\n"
     ]
    },
    {
     "data": {
      "image/png": "[encoded data removed]",
      "text/plain": [
       "<Figure size 800x600 with 2 Axes>"
      ]
     },
     "metadata": {},
     "output_type": "display_data"
    },
    {
     "name": "stdout",
     "output_type": "stream",
     "text": [
      "\n",
      "Model: DecisionTree\n",
      "Accuracy: 0.2166\n",
      "              precision    recall  f1-score      support\n",
      "0              0.233161  0.231164  0.232158   584.000000\n",
      "1              0.199541  0.208633  0.203986   417.000000\n",
      "2              0.271565  0.255639  0.263362   665.000000\n",
      "3              0.146552  0.145923  0.146237   466.000000\n",
      "4              0.184438  0.179272  0.181818   357.000000\n",
      "5              0.216891  0.226908  0.221786   498.000000\n",
      "6              0.230303  0.237006  0.233607   481.000000\n",
      "accuracy       0.216551  0.216551  0.216551     0.216551\n",
      "macro avg      0.211779  0.212078  0.211850  3468.000000\n",
      "weighted avg   0.217096  0.216551  0.216738  3468.000000\n"
     ]
    },
    {
     "data": {
      "image/png": "[encoded data removed]",
      "text/plain": [
       "<Figure size 800x600 with 2 Axes>"
      ]
     },
     "metadata": {},
     "output_type": "display_data"
    },
    {
     "name": "stdout",
     "output_type": "stream",
     "text": [
      "\n",
      "Best Model:\n",
      "Best Model: RandomForestClassifier()\n",
      "Best Model Accuracy: 0.2794\n"
     ]
    }
   ],
   "source": [
    "import pandas as pd\n",
    "from sklearn.model_selection import train_test_split\n",
    "from sklearn.ensemble import RandomForestClassifier\n",
    "from sklearn.linear_model import LogisticRegression\n",
    "from sklearn.tree import DecisionTreeClassifier\n",
    "from sklearn.metrics import classification_report, accuracy_score, confusion_matrix\n",
    "import seaborn as sns\n",
    "import matplotlib.pyplot as plt\n",
    "\n",
    "# Define models\n",
    "models = {\n",
    "    'RandomForest': RandomForestClassifier(),\n",
    "    'LogisticRegression': LogisticRegression(max_iter=1000),\n",
    "    'DecisionTree': DecisionTreeClassifier()\n",
    "}\n",
    "\n",
    "# Train models and evaluate them\n",
    "best_model = None\n",
    "best_score = 0\n",
    "model_reports = {}\n",
    "\n",
    "for model_name, model in models.items():\n",
    "    model.fit(X_train, y_train)  # Train model\n",
    "    y_pred = model.predict(X_test)  # Make predictions\n",
    "    \n",
    "    # Calculate accuracy and generate classification report\n",
    "    accuracy = accuracy_score(y_test, y_pred)\n",
    "    model_reports[model_name] = classification_report(y_test, y_pred, output_dict=True)  # Store as a dictionary for easier analysis\n",
    "    \n",
    "    # Track best performing model\n",
    "    if accuracy > best_score:\n",
    "        best_score = accuracy\n",
    "        best_model = model\n",
    "\n",
    "# Display classification reports and confusion matrices\n",
    "print(\"\\nClassification Report for All Models:\")\n",
    "for model_name, report in model_reports.items():\n",
    "    print(f\"\\nModel: {model_name}\")\n",
    "    print(\"Accuracy: {:.4f}\".format(accuracy_score(y_test, models[model_name].predict(X_test))))  # Display accuracy\n",
    "    print(pd.DataFrame(report).transpose())  # Display classification report as a DataFrame\n",
    "\n",
    "    # Plot Confusion Matrix\n",
    "    cm = confusion_matrix(y_test, models[model_name].predict(X_test))\n",
    "    plt.figure(figsize=(8, 6))\n",
    "    sns.heatmap(cm, annot=True, fmt=\"d\", cmap='Blues', xticklabels=offense_encoder.classes_, yticklabels=offense_encoder.classes_)\n",
    "    plt.title(f\"Confusion Matrix - {model_name}\")\n",
    "    plt.xlabel('Predicted Labels')\n",
    "    plt.ylabel('True Labels')\n",
    "    plt.show()\n",
    "\n",
    "# Display best model details\n",
    "print(\"\\nBest Model:\")\n",
    "print(f\"Best Model: {best_model}\")\n",
    "print(f\"Best Model Accuracy: {best_score:.4f}\")\n"
   ]
  },
  {
   "cell_type": "markdown",
   "id": "d7e92d76",
   "metadata": {
    "papermill": {
     "duration": 0.01073,
     "end_time": "2025-04-26T01:00:12.868506",
     "exception": false,
     "start_time": "2025-04-26T01:00:12.857776",
     "status": "completed"
    },
    "tags": []
   },
   "source": [
    "#### Classification Report for All Models:\n",
    "\n",
    "### Explanation of the Classification Results (RandomForest Model)\n",
    "\n",
    "The results you provided are from a **Random Forest** model, which is used for predicting different types of offenses. Let's break down the key components of the results:\n",
    "\n",
    "#### 1. **Accuracy: 0.2822**\n",
    "   - **Accuracy** measures the overall percentage of correct predictions made by the model. An accuracy of 28.22% means the model correctly predicted the offense in about 28% of the cases. This indicates the model's predictions are not highly reliable, as the accuracy is quite low.\n",
    "\n",
    "#### 2. **Classification Report:**\n",
    "   The classification report includes precision, recall, and F1-score for each offense. Let's go over these terms and how they apply to the results:\n",
    "\n",
    "   - **Precision**: The proportion of true positive predictions out of all positive predictions made by the model for a specific class (offense).\n",
    "   - **Recall**: The proportion of true positive predictions out of all actual positive instances in the dataset.\n",
    "   - **F1-Score**: The harmonic mean of precision and recall, providing a balance between the two metrics.\n",
    "   - **Support**: The number of actual occurrences of each class in the test set.\n",
    "\n",
    "   Let's analyze each offense based on these metrics:\n",
    "\n",
    "   | **Offense**                        | **Precision** | **Recall** | **F1-Score** | **Support** |\n",
    "   |------------------------------------|---------------|------------|--------------|-------------|\n",
    "   | **Assault Simple**                 | 0.2892        | 0.3754     | 0.3267       | 594         |\n",
    "   | **Assist Citizen - Mental/TDO/ECO**| 0.3182        | 0.2274     | 0.2652       | 431         |\n",
    "   | **Hit and Run**                    | 0.2963        | 0.4765     | 0.3654       | 638         |\n",
    "   | **Larceny - All Other**            | 0.2270        | 0.1453     | 0.1772       | 475         |\n",
    "   | **Lost/FoundProperty**             | 0.3333        | 0.2102     | 0.2578       | 352         |\n",
    "   | **Suspicious Activity**            | 0.2344        | 0.2169     | 0.2253       | 484         |\n",
    "   | **Vandalism**                      | 0.2712        | 0.2106     | 0.2371       | 470         |\n",
    "\n",
    "#### 3. **Key Insights from the Report:**\n",
    "\n",
    "- **Precision**:\n",
    "   - The highest precision is for **Larceny - All Other** (0.3333), indicating that when the model predicts this offense, it is correct about 33% of the time. However, this is still quite low.\n",
    "   - **Assist Citizen - Mental/TDO/ECO** has the lowest precision (0.2269), meaning that the model's predictions for this offense tend to be wrong more often than correct.\n",
    "\n",
    "- **Recall**:\n",
    "   - **Hit and Run** has the highest recall (0.4765), meaning the model identifies about 48% of the actual occurrences of this offense. This is better than the precision, which indicates it is missing many true positives but is still able to identify a fair number of cases.\n",
    "   - **Larceny - All Other** and **Suspicious Activity** have the lowest recall values (0.1453 and 0.2169, respectively), indicating that the model is failing to identify most of the actual cases for these offenses.\n",
    "\n",
    "- **F1-Score**:\n",
    "   - The **F1-Score** balances precision and recall. It is highest for **Hit and Run** (0.3654), but still relatively low overall. This suggests the model is better at identifying **Hit and Run** than other offenses but still has room for improvement.\n",
    "   - **Larceny - All Other** has the lowest F1-Score (0.1772), indicating a poor balance between precision and recall for this offense.\n",
    "\n",
    "#### 4. **Macro Average and Weighted Average:**\n",
    "   - **Macro Average**: This gives the average precision, recall, and F1-Score across all classes (offenses) without considering the class distribution. It averages the results for all offenses equally.\n",
    "     - Precision: 0.2814\n",
    "     - Recall: 0.2661\n",
    "     - F1-Score: 0.2649\n",
    "   - **Weighted Average**: This averages the metrics but weighs each class by its support (the number of true instances in the test set). This gives a better sense of overall performance, considering the class distribution.\n",
    "     - Precision: 0.2799\n",
    "     - Recall: 0.2822\n",
    "     - F1-Score: 0.2720\n",
    "\n",
    "#### 5. **Confusion Matrix (Visualization Analysis)**:\n",
    "   - The confusion matrix shows the distribution of true positive, false positive, true negative, and false negative predictions for each class.\n",
    "     - For **Hit and Run**, the model performs relatively well in identifying this offense (304 true positives). However, it also misclassifies some **Hit and Run** instances as other offenses (e.g., **Assault Simple**, **Suspicious Activity**, etc.).\n",
    "     - **Larceny - All Other** is frequently misclassified as **Hit and Run**, **Suspicious Activity**, and others. This is evident from the large number of off-diagonal elements in its row.\n",
    "     - **Assist Citizen - Mental/TDO/ECO** and **Suspicious Activity** are frequently misclassified, as seen by the off-diagonal values in their rows.\n",
    "\n",
    "### Conclusion:\n",
    "The Random Forest model has low accuracy (28.22%), suggesting that it struggles to predict most offenses accurately. Some offenses like **Hit and Run** are better predicted than others, but overall, the model shows a high level of misclassification across all offenses. There may be a need for further tuning of the model, additional feature engineering, or trying different models for better performance.\n",
    "\n",
    "Let me know if you'd like to improve the model or make adjustments based on these results!\n",
    "\n"
   ]
  },
  {
   "cell_type": "markdown",
   "id": "6f514801",
   "metadata": {
    "papermill": {
     "duration": 0.010675,
     "end_time": "2025-04-26T01:00:12.890006",
     "exception": false,
     "start_time": "2025-04-26T01:00:12.879331",
     "status": "completed"
    },
    "tags": []
   },
   "source": [
    "### Model Explanation\n",
    "\n",
    "Once we’ve chosen the best model, we will explain its predictions by examining feature importance for tree-based models and using statistical methods like logistic regression coefficients for linear models."
   ]
  },
  {
   "cell_type": "markdown",
   "id": "3f1ce3b5",
   "metadata": {
    "papermill": {
     "duration": 0.010582,
     "end_time": "2025-04-26T01:00:12.911194",
     "exception": false,
     "start_time": "2025-04-26T01:00:12.900612",
     "status": "completed"
    },
    "tags": []
   },
   "source": [
    "#### Feature Importance for Random Forest / Decision Tree\n",
    "\n",
    "##### For Tree-based Models (Random Forest, Decision Tree)\n",
    "\n",
    "For Random Forest or Decision Tree, we can look at feature importance to understand which variables contribute the most to the model's predictions. Here's how you can visualize and interpret the importance of each feature:"
   ]
  },
  {
   "cell_type": "code",
   "execution_count": 23,
   "id": "b1b0f007",
   "metadata": {
    "execution": {
     "iopub.execute_input": "2025-04-26T01:00:12.934002Z",
     "iopub.status.busy": "2025-04-26T01:00:12.933402Z",
     "iopub.status.idle": "2025-04-26T01:00:13.096708Z",
     "shell.execute_reply": "2025-04-26T01:00:13.096060Z"
    },
    "papermill": {
     "duration": 0.175935,
     "end_time": "2025-04-26T01:00:13.097814",
     "exception": false,
     "start_time": "2025-04-26T01:00:12.921879",
     "status": "completed"
    },
    "tags": []
   },
   "outputs": [
    {
     "data": {
      "image/png": "[encoded data removed]",
      "text/plain": [
       "<Figure size 1000x600 with 1 Axes>"
      ]
     },
     "metadata": {},
     "output_type": "display_data"
    }
   ],
   "source": [
    "# For RandomForest or DecisionTree models, we can check feature importance\n",
    "if isinstance(best_model, RandomForestClassifier) or isinstance(best_model, DecisionTreeClassifier):\n",
    "    feature_importance = best_model.feature_importances_\n",
    "    feature_names = X.columns\n",
    "    importance_df = pd.DataFrame({'Feature': feature_names, 'Importance': feature_importance})\n",
    "    importance_df = importance_df.sort_values(by='Importance', ascending=False)\n",
    "    \n",
    "    # Plotting the feature importances\n",
    "    plt.figure(figsize=(10, 6))\n",
    "    sns.barplot(x='Importance', y='Feature', data=importance_df)\n",
    "    plt.title(\"Feature Importance\")\n",
    "    plt.show()\n"
   ]
  },
  {
   "cell_type": "code",
   "execution_count": null,
   "id": "360dcbd9",
   "metadata": {
    "papermill": {
     "duration": 0.011074,
     "end_time": "2025-04-26T01:00:13.120460",
     "exception": false,
     "start_time": "2025-04-26T01:00:13.109386",
     "status": "completed"
    },
    "tags": []
   },
   "outputs": [],
   "source": []
  },
  {
   "cell_type": "markdown",
   "id": "0e228a95",
   "metadata": {
    "papermill": {
     "duration": 0.011011,
     "end_time": "2025-04-26T01:00:13.142560",
     "exception": false,
     "start_time": "2025-04-26T01:00:13.131549",
     "status": "completed"
    },
    "tags": []
   },
   "source": [
    "### Evaluation\n",
    "\n",
    "After training the models and examining their performance, we evaluate the chosen model based on metrics like accuracy, precision, recall, and F1 score.\n",
    "\n"
   ]
  },
  {
   "cell_type": "code",
   "execution_count": 24,
   "id": "f75d9037",
   "metadata": {
    "execution": {
     "iopub.execute_input": "2025-04-26T01:00:13.166023Z",
     "iopub.status.busy": "2025-04-26T01:00:13.165671Z",
     "iopub.status.idle": "2025-04-26T01:00:13.254831Z",
     "shell.execute_reply": "2025-04-26T01:00:13.254147Z"
    },
    "papermill": {
     "duration": 0.102396,
     "end_time": "2025-04-26T01:00:13.256044",
     "exception": false,
     "start_time": "2025-04-26T01:00:13.153648",
     "status": "completed"
    },
    "tags": []
   },
   "outputs": [
    {
     "name": "stdout",
     "output_type": "stream",
     "text": [
      "Accuracy: 0.2794\n",
      "Classification Report:\n",
      "              precision    recall  f1-score   support\n",
      "\n",
      "           0       0.30      0.35      0.32       584\n",
      "           1       0.28      0.24      0.25       417\n",
      "           2       0.30      0.46      0.37       665\n",
      "           3       0.22      0.16      0.18       466\n",
      "           4       0.33      0.22      0.26       357\n",
      "           5       0.24      0.22      0.23       498\n",
      "           6       0.26      0.21      0.23       481\n",
      "\n",
      "    accuracy                           0.28      3468\n",
      "   macro avg       0.27      0.26      0.26      3468\n",
      "weighted avg       0.27      0.28      0.27      3468\n",
      "\n",
      "Confusion Matrix:\n",
      "[[204  66 143  32  25  76  38]\n",
      " [ 92  98 101  26  15  48  37]\n",
      " [104  48 304  65  19  82  43]\n",
      " [ 85  31 134  74  33  51  58]\n",
      " [ 42  32  67  44  79  41  52]\n",
      " [ 82  46 127  44  28 111  60]\n",
      " [ 75  31 122  49  42  63  99]]\n",
      "Precision: 0.2749\n",
      "Recall: 0.2794\n",
      "F1 Score: 0.2715\n"
     ]
    }
   ],
   "source": [
    "from sklearn.metrics import classification_report, confusion_matrix, accuracy_score, precision_score, recall_score, f1_score\n",
    "\n",
    "# Predict on the test set\n",
    "y_pred = best_model.predict(X_test)\n",
    "\n",
    "# Calculate Accuracy\n",
    "accuracy = accuracy_score(y_test, y_pred)\n",
    "print(f\"Accuracy: {accuracy:.4f}\")\n",
    "\n",
    "# Classification Report\n",
    "print(\"Classification Report:\")\n",
    "print(classification_report(y_test, y_pred))\n",
    "\n",
    "# Confusion Matrix\n",
    "conf_matrix = confusion_matrix(y_test, y_pred)\n",
    "print(\"Confusion Matrix:\")\n",
    "print(conf_matrix)\n",
    "\n",
    "# Precision, Recall, F1 Score for each class (Offense Type)\n",
    "precision = precision_score(y_test, y_pred, average='weighted')\n",
    "recall = recall_score(y_test, y_pred, average='weighted')\n",
    "f1 = f1_score(y_test, y_pred, average='weighted')\n",
    "\n",
    "print(f\"Precision: {precision:.4f}\")\n",
    "print(f\"Recall: {recall:.4f}\")\n",
    "print(f\"F1 Score: {f1:.4f}\")\n"
   ]
  },
  {
   "cell_type": "markdown",
   "id": "b3d46c08",
   "metadata": {
    "papermill": {
     "duration": 0.01131,
     "end_time": "2025-04-26T01:00:13.279044",
     "exception": false,
     "start_time": "2025-04-26T01:00:13.267734",
     "status": "completed"
    },
    "tags": []
   },
   "source": [
    "#### For Logistic Regression (Coefficient Interpretation)\n",
    "\n",
    "For Logistic Regression, the model coefficients can help us understand how each feature affects the likelihood of an offense happening. A positive coefficient indicates a feature increases the likelihood of the offense, and a negative coefficient indicates the opposite."
   ]
  },
  {
   "cell_type": "code",
   "execution_count": 25,
   "id": "578a3771",
   "metadata": {
    "execution": {
     "iopub.execute_input": "2025-04-26T01:00:13.302716Z",
     "iopub.status.busy": "2025-04-26T01:00:13.302271Z",
     "iopub.status.idle": "2025-04-26T01:00:13.306977Z",
     "shell.execute_reply": "2025-04-26T01:00:13.306423Z"
    },
    "papermill": {
     "duration": 0.017734,
     "end_time": "2025-04-26T01:00:13.308049",
     "exception": false,
     "start_time": "2025-04-26T01:00:13.290315",
     "status": "completed"
    },
    "tags": []
   },
   "outputs": [],
   "source": [
    "if isinstance(best_model, LogisticRegression):\n",
    "    # Logistic regression coefficients\n",
    "    coef_df = pd.DataFrame({\n",
    "        'Feature': X.columns,\n",
    "        'Coefficient': best_model.coef_[0]\n",
    "    })\n",
    "    coef_df['AbsCoefficient'] = coef_df['Coefficient'].abs()\n",
    "    coef_df = coef_df.sort_values(by='AbsCoefficient', ascending=False)\n",
    "    \n",
    "    # Plotting the coefficients\n",
    "    plt.figure(figsize=(10, 6))\n",
    "    sns.barplot(x='AbsCoefficient', y='Feature', data=coef_df)\n",
    "    plt.title(\"Logistic Regression Coefficients Impact\")\n",
    "    plt.show()\n",
    "\n",
    "    # Print the top 5 most impactful features (by absolute coefficient value)\n",
    "    print(\"Top 5 most impactful features based on coefficients:\")\n",
    "    print(coef_df.head())\n"
   ]
  },
  {
   "cell_type": "markdown",
   "id": "a79d2bdc",
   "metadata": {
    "papermill": {
     "duration": 0.011074,
     "end_time": "2025-04-26T01:00:13.330438",
     "exception": false,
     "start_time": "2025-04-26T01:00:13.319364",
     "status": "completed"
    },
    "tags": []
   },
   "source": [
    "Explanation of Output:\n",
    "\n",
    "Feature Importance (Random Forest/Decision Tree): The bar plot will show how important each feature is in the decision-making process. Features at the top of the list are the most influential in predicting the occurrence of offenses.\n",
    "\n",
    "Logistic Regression Coefficients: The bar plot will show the magnitude of the coefficients for each feature. Features with larger absolute values (either positive or negative) have a stronger impact on the model’s predictions. Positive coefficients increase the probability of an offense, while negative coefficients decrease it."
   ]
  },
  {
   "cell_type": "markdown",
   "id": "eb7e579b",
   "metadata": {
    "papermill": {
     "duration": 0.011063,
     "end_time": "2025-04-26T01:00:13.352734",
     "exception": false,
     "start_time": "2025-04-26T01:00:13.341671",
     "status": "completed"
    },
    "tags": []
   },
   "source": []
  }
 ],
 "metadata": {
  "kernelspec": {
   "display_name": "Python 3",
   "language": "python",
   "name": "python3"
  },
  "language_info": {
   "codemirror_mode": {
    "name": "ipython",
    "version": 3
   },
   "file_extension": ".py",
   "mimetype": "text/x-python",
   "name": "python",
   "nbconvert_exporter": "python",
   "pygments_lexer": "ipython3",
   "version": "3.9.22"
  },
  "papermill": {
   "default_parameters": {},
   "duration": 81.653547,
   "end_time": "2025-04-26T01:00:13.780211",
   "environment_variables": {},
   "exception": null,
   "input_path": "notebook/Crime Data.ipynb",
   "output_path": "notebook/Crime Data_output.ipynb",
   "parameters": {},
   "start_time": "2025-04-26T00:58:52.126664",
   "version": "2.6.0"
  }
 },
 "nbformat": 4,
 "nbformat_minor": 5
}