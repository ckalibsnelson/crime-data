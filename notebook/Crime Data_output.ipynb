{
 "cells": [
  {
   "cell_type": "markdown",
   "id": "baa7f539",
   "metadata": {
    "papermill": {
     "duration": 0.006072,
     "end_time": "2025-05-16T01:03:09.640302",
     "exception": false,
     "start_time": "2025-05-16T01:03:09.634230",
     "status": "completed"
    },
    "tags": []
   },
   "source": [
    "# Charlottesville Open Data Porttal: Crime Data"
   ]
  },
  {
   "cell_type": "markdown",
   "id": "decfab1b",
   "metadata": {
    "papermill": {
     "duration": 0.004982,
     "end_time": "2025-05-16T01:03:09.650683",
     "exception": false,
     "start_time": "2025-05-16T01:03:09.645701",
     "status": "completed"
    },
    "tags": []
   },
   "source": [
    "## Import Relevant Librarires & Set WD"
   ]
  },
  {
   "cell_type": "code",
   "execution_count": 1,
   "id": "e2648129",
   "metadata": {
    "execution": {
     "iopub.execute_input": "2025-05-16T01:03:09.662191Z",
     "iopub.status.busy": "2025-05-16T01:03:09.661671Z",
     "iopub.status.idle": "2025-05-16T01:03:10.249823Z",
     "shell.execute_reply": "2025-05-16T01:03:10.249168Z"
    },
    "papermill": {
     "duration": 0.595493,
     "end_time": "2025-05-16T01:03:10.251208",
     "exception": false,
     "start_time": "2025-05-16T01:03:09.655715",
     "status": "completed"
    },
    "tags": []
   },
   "outputs": [],
   "source": [
    "import requests\n",
    "import pandas as pd\n",
    "import numpy as np\n",
    "import pickle\n",
    "import googlemaps\n",
    "import plotly.express as px\n",
    "from geopy.geocoders import Nominatim\n",
    "import time\n",
    "from dotenv import load_dotenv\n",
    "import os\n",
    "\n",
    "env_path = os.path.join(\"..\", \".env\")\n",
    "#print(\"Looking for .env file at:\", os.path.abspath(env_path))\n",
    "load_dotenv(dotenv_path=env_path)\n",
    "\n",
    "# Retrieve the variables\n",
    "GOOGLE_API_KEY = os.getenv(\"GOOGLE_API_KEY\")\n",
    "WORKING_DIR = os.getenv(\"WORKING_DIR\")\n",
    "\n",
    "if GOOGLE_API_KEY is None or WORKING_DIR is None:\n",
    "    raise RuntimeError(\"No configuration found. Please ensure that your .env file exists with the required variables, or create a local config.py file.\")\n",
    "\n",
    "#print(\"Google API Key:\", GOOGLE_API_KEY)\n",
    "#print(\"Working Directory:\", WORKING_DIR)"
   ]
  },
  {
   "cell_type": "markdown",
   "id": "68fe62f7",
   "metadata": {
    "papermill": {
     "duration": 0.00504,
     "end_time": "2025-05-16T01:03:10.261779",
     "exception": false,
     "start_time": "2025-05-16T01:03:10.256739",
     "status": "completed"
    },
    "tags": []
   },
   "source": [
    "## Import Data\n",
    "\n",
    "URL: https://opendata.charlottesville.org/datasets/charlottesville::crime-data/about"
   ]
  },
  {
   "cell_type": "code",
   "execution_count": 2,
   "id": "f0a29fd7",
   "metadata": {
    "execution": {
     "iopub.execute_input": "2025-05-16T01:03:10.273485Z",
     "iopub.status.busy": "2025-05-16T01:03:10.273204Z",
     "iopub.status.idle": "2025-05-16T01:04:10.088231Z",
     "shell.execute_reply": "2025-05-16T01:04:10.087439Z"
    },
    "papermill": {
     "duration": 59.852638,
     "end_time": "2025-05-16T01:04:10.120103",
     "exception": false,
     "start_time": "2025-05-16T01:03:10.267465",
     "status": "completed"
    },
    "tags": []
   },
   "outputs": [
    {
     "name": "stdout",
     "output_type": "stream",
     "text": [
      "Total records imported: 25382\n"
     ]
    }
   ],
   "source": [
    "# Define the endpoint and initial parameters.\n",
    "url = \"https://gisweb.charlottesville.org/arcgis/rest/services/OpenData_2/MapServer/6/query\"\n",
    "params = {\n",
    "    \"where\": \"1=1\",\n",
    "    \"outFields\": \"*\",\n",
    "    \"outSR\": 4326,\n",
    "    \"f\": \"json\",\n",
    "    \"resultOffset\": 0,       # Starting index for results\n",
    "    \"resultRecordCount\": 10000  # Maximum records per batch (if allowed by the API)\n",
    "}\n",
    "\n",
    "records = []\n",
    "\n",
    "while True:\n",
    "    response = requests.get(url, params=params)\n",
    "    response.raise_for_status()\n",
    "    data = response.json()\n",
    "    \n",
    "    # Get the current batch of features.\n",
    "    features = data.get(\"features\", [])\n",
    "    if not features:\n",
    "        break\n",
    "\n",
    "    # Extract the attributes from the features.\n",
    "    batch_records = [feature.get(\"attributes\", {}) for feature in features]\n",
    "    records.extend(batch_records)\n",
    "    \n",
    "    # If the batch size is less than the requested count, we reached the end.\n",
    "    if len(features) < params[\"resultRecordCount\"]:\n",
    "        break\n",
    "\n",
    "    # Update the resultOffset for the next batch.\n",
    "    params[\"resultOffset\"] += params[\"resultRecordCount\"]\n",
    "\n",
    "# Create a DataFrame from the combined records.\n",
    "df = pd.DataFrame(records)\n",
    "print(\"Total records imported:\", len(df))\n"
   ]
  },
  {
   "cell_type": "code",
   "execution_count": 3,
   "id": "a0f4e88d",
   "metadata": {
    "execution": {
     "iopub.execute_input": "2025-05-16T01:04:10.132134Z",
     "iopub.status.busy": "2025-05-16T01:04:10.131801Z",
     "iopub.status.idle": "2025-05-16T01:04:10.144640Z",
     "shell.execute_reply": "2025-05-16T01:04:10.144046Z"
    },
    "papermill": {
     "duration": 0.02019,
     "end_time": "2025-05-16T01:04:10.145643",
     "exception": false,
     "start_time": "2025-05-16T01:04:10.125453",
     "status": "completed"
    },
    "tags": []
   },
   "outputs": [
    {
     "data": {
      "text/html": [
       "<div>\n",
       "<style scoped>\n",
       "    .dataframe tbody tr th:only-of-type {\n",
       "        vertical-align: middle;\n",
       "    }\n",
       "\n",
       "    .dataframe tbody tr th {\n",
       "        vertical-align: top;\n",
       "    }\n",
       "\n",
       "    .dataframe thead th {\n",
       "        text-align: right;\n",
       "    }\n",
       "</style>\n",
       "<table border=\"1\" class=\"dataframe\">\n",
       "  <thead>\n",
       "    <tr style=\"text-align: right;\">\n",
       "      <th></th>\n",
       "      <th>RecordID</th>\n",
       "      <th>Offense</th>\n",
       "      <th>IncidentID</th>\n",
       "      <th>BlockNumber</th>\n",
       "      <th>StreetName</th>\n",
       "      <th>Agency</th>\n",
       "      <th>DateReported</th>\n",
       "      <th>HourReported</th>\n",
       "      <th>ReportingOfficer</th>\n",
       "    </tr>\n",
       "  </thead>\n",
       "  <tbody>\n",
       "    <tr>\n",
       "      <th>0</th>\n",
       "      <td>1</td>\n",
       "      <td>Harassment</td>\n",
       "      <td>202500016224</td>\n",
       "      <td>1400</td>\n",
       "      <td>MONTICELLO RD, 205</td>\n",
       "      <td>CPD</td>\n",
       "      <td>1747197390000</td>\n",
       "      <td>0036</td>\n",
       "      <td>Miller, Devin</td>\n",
       "    </tr>\n",
       "    <tr>\n",
       "      <th>1</th>\n",
       "      <td>2</td>\n",
       "      <td>Sex Offense - Forcible Rape</td>\n",
       "      <td>202500016209</td>\n",
       "      <td>4000</td>\n",
       "      <td>CITY WALK WAY, 419</td>\n",
       "      <td>CPD</td>\n",
       "      <td>1747184740000</td>\n",
       "      <td>2105</td>\n",
       "      <td>Crowley, Raeann</td>\n",
       "    </tr>\n",
       "    <tr>\n",
       "      <th>2</th>\n",
       "      <td>3</td>\n",
       "      <td>Assault Simple</td>\n",
       "      <td>202500016202</td>\n",
       "      <td>2100</td>\n",
       "      <td>MICHIE DR, 23B</td>\n",
       "      <td>CPD</td>\n",
       "      <td>1747179896000</td>\n",
       "      <td>1944</td>\n",
       "      <td>Love-Baker, Sydney</td>\n",
       "    </tr>\n",
       "    <tr>\n",
       "      <th>3</th>\n",
       "      <td>4</td>\n",
       "      <td>Larceny - From Motor Vehicle</td>\n",
       "      <td>202500016191</td>\n",
       "      <td>1900</td>\n",
       "      <td>CHESAPEAKE ST</td>\n",
       "      <td>CPD</td>\n",
       "      <td>1747172665000</td>\n",
       "      <td>1744</td>\n",
       "      <td>Curry, Brian</td>\n",
       "    </tr>\n",
       "    <tr>\n",
       "      <th>4</th>\n",
       "      <td>5</td>\n",
       "      <td>Harassment</td>\n",
       "      <td>202500016169</td>\n",
       "      <td>200</td>\n",
       "      <td>E MAIN ST</td>\n",
       "      <td>CPD</td>\n",
       "      <td>1747161625000</td>\n",
       "      <td>1440</td>\n",
       "      <td>Prevost, Payten</td>\n",
       "    </tr>\n",
       "  </tbody>\n",
       "</table>\n",
       "</div>"
      ],
      "text/plain": [
       "   RecordID                       Offense    IncidentID BlockNumber  \\\n",
       "0         1                    Harassment  202500016224        1400   \n",
       "1         2   Sex Offense - Forcible Rape  202500016209        4000   \n",
       "2         3                Assault Simple  202500016202        2100   \n",
       "3         4  Larceny - From Motor Vehicle  202500016191        1900   \n",
       "4         5                    Harassment  202500016169         200   \n",
       "\n",
       "           StreetName Agency   DateReported HourReported    ReportingOfficer  \n",
       "0  MONTICELLO RD, 205    CPD  1747197390000         0036       Miller, Devin  \n",
       "1  CITY WALK WAY, 419    CPD  1747184740000         2105     Crowley, Raeann  \n",
       "2      MICHIE DR, 23B    CPD  1747179896000         1944  Love-Baker, Sydney  \n",
       "3       CHESAPEAKE ST    CPD  1747172665000         1744        Curry, Brian  \n",
       "4           E MAIN ST    CPD  1747161625000         1440     Prevost, Payten  "
      ]
     },
     "execution_count": 3,
     "metadata": {},
     "output_type": "execute_result"
    }
   ],
   "source": [
    "df.head()"
   ]
  },
  {
   "cell_type": "code",
   "execution_count": 4,
   "id": "2ccf72ad",
   "metadata": {
    "execution": {
     "iopub.execute_input": "2025-05-16T01:04:10.157665Z",
     "iopub.status.busy": "2025-05-16T01:04:10.157408Z",
     "iopub.status.idle": "2025-05-16T01:04:10.162144Z",
     "shell.execute_reply": "2025-05-16T01:04:10.161497Z"
    },
    "papermill": {
     "duration": 0.011981,
     "end_time": "2025-05-16T01:04:10.163177",
     "exception": false,
     "start_time": "2025-05-16T01:04:10.151196",
     "status": "completed"
    },
    "tags": []
   },
   "outputs": [
    {
     "data": {
      "text/plain": [
       "Index(['RecordID', 'Offense', 'IncidentID', 'BlockNumber', 'StreetName',\n",
       "       'Agency', 'DateReported', 'HourReported', 'ReportingOfficer'],\n",
       "      dtype='object')"
      ]
     },
     "execution_count": 4,
     "metadata": {},
     "output_type": "execute_result"
    }
   ],
   "source": [
    "df.columns"
   ]
  },
  {
   "cell_type": "code",
   "execution_count": 5,
   "id": "8d5c3533",
   "metadata": {
    "execution": {
     "iopub.execute_input": "2025-05-16T01:04:10.175292Z",
     "iopub.status.busy": "2025-05-16T01:04:10.174861Z",
     "iopub.status.idle": "2025-05-16T01:04:10.199445Z",
     "shell.execute_reply": "2025-05-16T01:04:10.198853Z"
    },
    "papermill": {
     "duration": 0.031808,
     "end_time": "2025-05-16T01:04:10.200519",
     "exception": false,
     "start_time": "2025-05-16T01:04:10.168711",
     "status": "completed"
    },
    "tags": []
   },
   "outputs": [
    {
     "name": "stdout",
     "output_type": "stream",
     "text": [
      "<class 'pandas.core.frame.DataFrame'>\n",
      "RangeIndex: 25382 entries, 0 to 25381\n",
      "Data columns (total 9 columns):\n",
      " #   Column            Non-Null Count  Dtype \n",
      "---  ------            --------------  ----- \n",
      " 0   RecordID          25382 non-null  int64 \n",
      " 1   Offense           25382 non-null  object\n",
      " 2   IncidentID        25382 non-null  object\n",
      " 3   BlockNumber       25382 non-null  object\n",
      " 4   StreetName        25382 non-null  object\n",
      " 5   Agency            25382 non-null  object\n",
      " 6   DateReported      25382 non-null  int64 \n",
      " 7   HourReported      25382 non-null  object\n",
      " 8   ReportingOfficer  25365 non-null  object\n",
      "dtypes: int64(2), object(7)\n",
      "memory usage: 1.7+ MB\n"
     ]
    }
   ],
   "source": [
    "df.info()"
   ]
  },
  {
   "cell_type": "markdown",
   "id": "edb6ab59",
   "metadata": {
    "papermill": {
     "duration": 0.00552,
     "end_time": "2025-05-16T01:04:10.211822",
     "exception": false,
     "start_time": "2025-05-16T01:04:10.206302",
     "status": "completed"
    },
    "tags": []
   },
   "source": [
    "### Missing Values"
   ]
  },
  {
   "cell_type": "code",
   "execution_count": 6,
   "id": "1d6cef09",
   "metadata": {
    "execution": {
     "iopub.execute_input": "2025-05-16T01:04:10.223910Z",
     "iopub.status.busy": "2025-05-16T01:04:10.223420Z",
     "iopub.status.idle": "2025-05-16T01:04:10.245212Z",
     "shell.execute_reply": "2025-05-16T01:04:10.244616Z"
    },
    "papermill": {
     "duration": 0.028935,
     "end_time": "2025-05-16T01:04:10.246218",
     "exception": false,
     "start_time": "2025-05-16T01:04:10.217283",
     "status": "completed"
    },
    "tags": []
   },
   "outputs": [
    {
     "name": "stdout",
     "output_type": "stream",
     "text": [
      "                  MissingCount  MissingPercentage\n",
      "RecordID                     0               0.00\n",
      "Offense                      0               0.00\n",
      "IncidentID                   0               0.00\n",
      "BlockNumber                  0               0.00\n",
      "StreetName                   0               0.00\n",
      "Agency                       0               0.00\n",
      "DateReported                 0               0.00\n",
      "HourReported                 0               0.00\n",
      "ReportingOfficer            17               0.07\n"
     ]
    }
   ],
   "source": [
    "def missing_percentage(df):\n",
    "    \"\"\"\n",
    "    Returns a DataFrame with the count and percentage of missing values for each column.\n",
    "    \n",
    "    Parameters:\n",
    "        df (pd.DataFrame): The input DataFrame.\n",
    "    \n",
    "    Returns:\n",
    "        pd.DataFrame: A DataFrame with columns 'MissingCount' and 'MissingPercentage'.\n",
    "    \"\"\"\n",
    "    total_rows = len(df)\n",
    "    missing_count = df.isnull().sum()\n",
    "    missing_percent = (missing_count / total_rows) * 100\n",
    "    \n",
    "    result = pd.DataFrame({\n",
    "        'MissingCount': missing_count,\n",
    "        'MissingPercentage': missing_percent.round(2)\n",
    "    })\n",
    "    \n",
    "    return result\n",
    "\n",
    "# Example usage:\n",
    "missing_info = missing_percentage(df)\n",
    "print(missing_info)\n"
   ]
  },
  {
   "cell_type": "markdown",
   "id": "ae73c7fe",
   "metadata": {
    "papermill": {
     "duration": 0.005609,
     "end_time": "2025-05-16T01:04:10.257655",
     "exception": false,
     "start_time": "2025-05-16T01:04:10.252046",
     "status": "completed"
    },
    "tags": []
   },
   "source": [
    "## Data Preparation"
   ]
  },
  {
   "cell_type": "markdown",
   "id": "66f1e9b3",
   "metadata": {
    "papermill": {
     "duration": 0.005529,
     "end_time": "2025-05-16T01:04:10.268749",
     "exception": false,
     "start_time": "2025-05-16T01:04:10.263220",
     "status": "completed"
    },
    "tags": []
   },
   "source": [
    "### Data Conversion"
   ]
  },
  {
   "cell_type": "code",
   "execution_count": 7,
   "id": "9ad48610",
   "metadata": {
    "execution": {
     "iopub.execute_input": "2025-05-16T01:04:10.280983Z",
     "iopub.status.busy": "2025-05-16T01:04:10.280470Z",
     "iopub.status.idle": "2025-05-16T01:04:10.654034Z",
     "shell.execute_reply": "2025-05-16T01:04:10.653296Z"
    },
    "papermill": {
     "duration": 0.380945,
     "end_time": "2025-05-16T01:04:10.655237",
     "exception": false,
     "start_time": "2025-05-16T01:04:10.274292",
     "status": "completed"
    },
    "tags": []
   },
   "outputs": [
    {
     "data": {
      "text/html": [
       "<div>\n",
       "<style scoped>\n",
       "    .dataframe tbody tr th:only-of-type {\n",
       "        vertical-align: middle;\n",
       "    }\n",
       "\n",
       "    .dataframe tbody tr th {\n",
       "        vertical-align: top;\n",
       "    }\n",
       "\n",
       "    .dataframe thead th {\n",
       "        text-align: right;\n",
       "    }\n",
       "</style>\n",
       "<table border=\"1\" class=\"dataframe\">\n",
       "  <thead>\n",
       "    <tr style=\"text-align: right;\">\n",
       "      <th></th>\n",
       "      <th>RecordID</th>\n",
       "      <th>Offense</th>\n",
       "      <th>IncidentID</th>\n",
       "      <th>BlockNumber</th>\n",
       "      <th>StreetName</th>\n",
       "      <th>Agency</th>\n",
       "      <th>HourReported</th>\n",
       "      <th>ReportingOfficer</th>\n",
       "      <th>Date</th>\n",
       "      <th>DateString</th>\n",
       "      <th>DayOfWeek</th>\n",
       "      <th>Weekend</th>\n",
       "      <th>Season</th>\n",
       "      <th>HourAMPM</th>\n",
       "      <th>TimeOfDay</th>\n",
       "    </tr>\n",
       "  </thead>\n",
       "  <tbody>\n",
       "    <tr>\n",
       "      <th>0</th>\n",
       "      <td>1</td>\n",
       "      <td>Harassment</td>\n",
       "      <td>202500016224</td>\n",
       "      <td>1400</td>\n",
       "      <td>MONTICELLO RD, 205</td>\n",
       "      <td>CPD</td>\n",
       "      <td>0036</td>\n",
       "      <td>Miller, Devin</td>\n",
       "      <td>2025-05-14 00:36:30</td>\n",
       "      <td>2025-05-14 12:36:30 AM</td>\n",
       "      <td>Wednesday</td>\n",
       "      <td>False</td>\n",
       "      <td>Spring</td>\n",
       "      <td>12:36 AM</td>\n",
       "      <td>Night</td>\n",
       "    </tr>\n",
       "    <tr>\n",
       "      <th>1</th>\n",
       "      <td>2</td>\n",
       "      <td>Sex Offense - Forcible Rape</td>\n",
       "      <td>202500016209</td>\n",
       "      <td>4000</td>\n",
       "      <td>CITY WALK WAY, 419</td>\n",
       "      <td>CPD</td>\n",
       "      <td>2105</td>\n",
       "      <td>Crowley, Raeann</td>\n",
       "      <td>2025-05-13 21:05:40</td>\n",
       "      <td>2025-05-13 09:05:40 PM</td>\n",
       "      <td>Tuesday</td>\n",
       "      <td>False</td>\n",
       "      <td>Spring</td>\n",
       "      <td>09:05 PM</td>\n",
       "      <td>Night</td>\n",
       "    </tr>\n",
       "    <tr>\n",
       "      <th>2</th>\n",
       "      <td>3</td>\n",
       "      <td>Assault Simple</td>\n",
       "      <td>202500016202</td>\n",
       "      <td>2100</td>\n",
       "      <td>MICHIE DR, 23B</td>\n",
       "      <td>CPD</td>\n",
       "      <td>1944</td>\n",
       "      <td>Love-Baker, Sydney</td>\n",
       "      <td>2025-05-13 19:44:56</td>\n",
       "      <td>2025-05-13 07:44:56 PM</td>\n",
       "      <td>Tuesday</td>\n",
       "      <td>False</td>\n",
       "      <td>Spring</td>\n",
       "      <td>07:44 PM</td>\n",
       "      <td>Evening</td>\n",
       "    </tr>\n",
       "    <tr>\n",
       "      <th>3</th>\n",
       "      <td>4</td>\n",
       "      <td>Larceny - From Motor Vehicle</td>\n",
       "      <td>202500016191</td>\n",
       "      <td>1900</td>\n",
       "      <td>CHESAPEAKE ST</td>\n",
       "      <td>CPD</td>\n",
       "      <td>1744</td>\n",
       "      <td>Curry, Brian</td>\n",
       "      <td>2025-05-13 17:44:25</td>\n",
       "      <td>2025-05-13 05:44:25 PM</td>\n",
       "      <td>Tuesday</td>\n",
       "      <td>False</td>\n",
       "      <td>Spring</td>\n",
       "      <td>05:44 PM</td>\n",
       "      <td>Evening</td>\n",
       "    </tr>\n",
       "    <tr>\n",
       "      <th>4</th>\n",
       "      <td>5</td>\n",
       "      <td>Harassment</td>\n",
       "      <td>202500016169</td>\n",
       "      <td>200</td>\n",
       "      <td>E MAIN ST</td>\n",
       "      <td>CPD</td>\n",
       "      <td>1440</td>\n",
       "      <td>Prevost, Payten</td>\n",
       "      <td>2025-05-13 14:40:25</td>\n",
       "      <td>2025-05-13 02:40:25 PM</td>\n",
       "      <td>Tuesday</td>\n",
       "      <td>False</td>\n",
       "      <td>Spring</td>\n",
       "      <td>02:40 PM</td>\n",
       "      <td>Afternoon</td>\n",
       "    </tr>\n",
       "  </tbody>\n",
       "</table>\n",
       "</div>"
      ],
      "text/plain": [
       "   RecordID                       Offense    IncidentID BlockNumber  \\\n",
       "0         1                    Harassment  202500016224        1400   \n",
       "1         2   Sex Offense - Forcible Rape  202500016209        4000   \n",
       "2         3                Assault Simple  202500016202        2100   \n",
       "3         4  Larceny - From Motor Vehicle  202500016191        1900   \n",
       "4         5                    Harassment  202500016169         200   \n",
       "\n",
       "           StreetName Agency HourReported    ReportingOfficer  \\\n",
       "0  MONTICELLO RD, 205    CPD         0036       Miller, Devin   \n",
       "1  CITY WALK WAY, 419    CPD         2105     Crowley, Raeann   \n",
       "2      MICHIE DR, 23B    CPD         1944  Love-Baker, Sydney   \n",
       "3       CHESAPEAKE ST    CPD         1744        Curry, Brian   \n",
       "4           E MAIN ST    CPD         1440     Prevost, Payten   \n",
       "\n",
       "                 Date              DateString  DayOfWeek  Weekend  Season  \\\n",
       "0 2025-05-14 00:36:30  2025-05-14 12:36:30 AM  Wednesday    False  Spring   \n",
       "1 2025-05-13 21:05:40  2025-05-13 09:05:40 PM    Tuesday    False  Spring   \n",
       "2 2025-05-13 19:44:56  2025-05-13 07:44:56 PM    Tuesday    False  Spring   \n",
       "3 2025-05-13 17:44:25  2025-05-13 05:44:25 PM    Tuesday    False  Spring   \n",
       "4 2025-05-13 14:40:25  2025-05-13 02:40:25 PM    Tuesday    False  Spring   \n",
       "\n",
       "   HourAMPM  TimeOfDay  \n",
       "0  12:36 AM      Night  \n",
       "1  09:05 PM      Night  \n",
       "2  07:44 PM    Evening  \n",
       "3  05:44 PM    Evening  \n",
       "4  02:40 PM  Afternoon  "
      ]
     },
     "execution_count": 7,
     "metadata": {},
     "output_type": "execute_result"
    }
   ],
   "source": [
    "def convert_and_categorize_datereported(df, col='DateReported'):\n",
    "    \"\"\"\n",
    "    Converts an epoch (in milliseconds) date column into a timezone-aware datetime,\n",
    "    converts it to Eastern Time, and then creates columns for day-of-week, weekend flag,\n",
    "    season, 12-hour formatted time, and time-of-day. Keeps both a real datetime column\n",
    "    (Date) and a string representation (DateString).\n",
    "    \"\"\"\n",
    "    import pandas as pd\n",
    "\n",
    "    # Convert the epoch timestamp to a pandas datetime object as UTC, then convert to US/Eastern.\n",
    "    df[\"DateReported_dt\"] = (\n",
    "        pd.to_datetime(df[col], unit=\"ms\", errors=\"coerce\", utc=True)\n",
    "        .dt.tz_convert(\"US/Eastern\")\n",
    "    )\n",
    "    \n",
    "    # Create a true datetime column (remove timezone if you prefer naive datetime)\n",
    "    df[\"Date\"] = df[\"DateReported_dt\"].dt.tz_localize(None)\n",
    "\n",
    "    # Optionally, create a separate string-formatted column\n",
    "    df[\"DateString\"] = df[\"DateReported_dt\"].dt.strftime(\"%Y-%m-%d %I:%M:%S %p\")\n",
    "    \n",
    "    # DayOfWeek\n",
    "    df[\"DayOfWeek\"] = df[\"DateReported_dt\"].dt.day_name()\n",
    "    \n",
    "    # Weekend\n",
    "    df[\"Weekend\"] = df[\"DayOfWeek\"].isin([\"Saturday\", \"Sunday\"])\n",
    "    \n",
    "    # Helper function to determine the season\n",
    "    def get_season(dt):\n",
    "        month = dt.month\n",
    "        day = dt.day\n",
    "        # Approximate Northern Hemisphere season boundaries:\n",
    "        if (month == 12 and day >= 21) or (month < 3) or (month == 3 and day < 20):\n",
    "            return \"Winter\"\n",
    "        elif (month == 3 and day >= 20) or (month < 6) or (month == 6 and day < 21):\n",
    "            return \"Spring\"\n",
    "        elif (month == 6 and day >= 21) or (month < 9) or (month == 9 and day < 22):\n",
    "            return \"Summer\"\n",
    "        else:\n",
    "            return \"Autumn\"\n",
    "    \n",
    "    df[\"Season\"] = df[\"DateReported_dt\"].apply(get_season)\n",
    "    \n",
    "    # 12-hour formatted time (HourAMPM)\n",
    "    df[\"HourAMPM\"] = df[\"DateReported_dt\"].dt.strftime(\"%I:%M %p\")\n",
    "    \n",
    "    # Extract hour (0-23) for time-of-day\n",
    "    df[\"HourValue\"] = df[\"DateReported_dt\"].dt.hour\n",
    "    \n",
    "    def time_of_day(hour):\n",
    "        if pd.isnull(hour):\n",
    "            return None\n",
    "        if 5 <= hour < 12:\n",
    "            return \"Morning\"\n",
    "        elif 12 <= hour < 17:\n",
    "            return \"Afternoon\"\n",
    "        elif 17 <= hour < 21:\n",
    "            return \"Evening\"\n",
    "        else:\n",
    "            return \"Night\"\n",
    "    \n",
    "    df[\"TimeOfDay\"] = df[\"HourValue\"].apply(time_of_day)\n",
    "    \n",
    "    # Drop columns you no longer need\n",
    "    df.drop(columns=[col, \"DateReported_dt\", \"HourValue\"], inplace=True)\n",
    "    \n",
    "    return df\n",
    "\n",
    "# Example usage:\n",
    "df = convert_and_categorize_datereported(df)\n",
    "df.head()\n"
   ]
  },
  {
   "cell_type": "code",
   "execution_count": 8,
   "id": "be25830a",
   "metadata": {
    "execution": {
     "iopub.execute_input": "2025-05-16T01:04:10.668479Z",
     "iopub.status.busy": "2025-05-16T01:04:10.667935Z",
     "iopub.status.idle": "2025-05-16T01:04:10.694973Z",
     "shell.execute_reply": "2025-05-16T01:04:10.694392Z"
    },
    "papermill": {
     "duration": 0.034572,
     "end_time": "2025-05-16T01:04:10.695946",
     "exception": false,
     "start_time": "2025-05-16T01:04:10.661374",
     "status": "completed"
    },
    "tags": []
   },
   "outputs": [
    {
     "name": "stdout",
     "output_type": "stream",
     "text": [
      "<class 'pandas.core.frame.DataFrame'>\n",
      "RangeIndex: 25382 entries, 0 to 25381\n",
      "Data columns (total 15 columns):\n",
      " #   Column            Non-Null Count  Dtype         \n",
      "---  ------            --------------  -----         \n",
      " 0   RecordID          25382 non-null  int64         \n",
      " 1   Offense           25382 non-null  object        \n",
      " 2   IncidentID        25382 non-null  object        \n",
      " 3   BlockNumber       25382 non-null  object        \n",
      " 4   StreetName        25382 non-null  object        \n",
      " 5   Agency            25382 non-null  object        \n",
      " 6   HourReported      25382 non-null  object        \n",
      " 7   ReportingOfficer  25365 non-null  object        \n",
      " 8   Date              25382 non-null  datetime64[ns]\n",
      " 9   DateString        25382 non-null  object        \n",
      " 10  DayOfWeek         25382 non-null  object        \n",
      " 11  Weekend           25382 non-null  bool          \n",
      " 12  Season            25382 non-null  object        \n",
      " 13  HourAMPM          25382 non-null  object        \n",
      " 14  TimeOfDay         25382 non-null  object        \n",
      "dtypes: bool(1), datetime64[ns](1), int64(1), object(12)\n",
      "memory usage: 2.7+ MB\n"
     ]
    }
   ],
   "source": [
    "df.info()"
   ]
  },
  {
   "cell_type": "markdown",
   "id": "d75a1b3b",
   "metadata": {
    "papermill": {
     "duration": 0.00591,
     "end_time": "2025-05-16T01:04:10.707928",
     "exception": false,
     "start_time": "2025-05-16T01:04:10.702018",
     "status": "completed"
    },
    "tags": []
   },
   "source": [
    "### Coordinates"
   ]
  },
  {
   "cell_type": "code",
   "execution_count": 9,
   "id": "699ceefe",
   "metadata": {
    "execution": {
     "iopub.execute_input": "2025-05-16T01:04:10.720822Z",
     "iopub.status.busy": "2025-05-16T01:04:10.720590Z",
     "iopub.status.idle": "2025-05-16T01:04:11.236085Z",
     "shell.execute_reply": "2025-05-16T01:04:11.235397Z"
    },
    "papermill": {
     "duration": 0.523327,
     "end_time": "2025-05-16T01:04:11.237225",
     "exception": false,
     "start_time": "2025-05-16T01:04:10.713898",
     "status": "completed"
    },
    "tags": []
   },
   "outputs": [
    {
     "name": "stdout",
     "output_type": "stream",
     "text": [
      "Loaded geocode cache.\n"
     ]
    },
    {
     "name": "stdout",
     "output_type": "stream",
     "text": [
      "Geocoded 4000 CITY WALK WAY, 419: 38.025822, -78.4696591\n"
     ]
    },
    {
     "name": "stdout",
     "output_type": "stream",
     "text": [
      "Geocoded 2100 MICHIE DR, 23B: 38.062986, -78.483828\n"
     ]
    },
    {
     "name": "stdout",
     "output_type": "stream",
     "text": [
      "Geocoded 1100 MILLMONT ST, 337: 38.0526705, -78.5025274\n",
      "Geocode cache updated and saved.\n"
     ]
    },
    {
     "data": {
      "text/html": [
       "<div>\n",
       "<style scoped>\n",
       "    .dataframe tbody tr th:only-of-type {\n",
       "        vertical-align: middle;\n",
       "    }\n",
       "\n",
       "    .dataframe tbody tr th {\n",
       "        vertical-align: top;\n",
       "    }\n",
       "\n",
       "    .dataframe thead th {\n",
       "        text-align: right;\n",
       "    }\n",
       "</style>\n",
       "<table border=\"1\" class=\"dataframe\">\n",
       "  <thead>\n",
       "    <tr style=\"text-align: right;\">\n",
       "      <th></th>\n",
       "      <th>RecordID</th>\n",
       "      <th>Offense</th>\n",
       "      <th>IncidentID</th>\n",
       "      <th>BlockNumber</th>\n",
       "      <th>StreetName</th>\n",
       "      <th>Agency</th>\n",
       "      <th>HourReported</th>\n",
       "      <th>ReportingOfficer</th>\n",
       "      <th>Date</th>\n",
       "      <th>DateString</th>\n",
       "      <th>DayOfWeek</th>\n",
       "      <th>Weekend</th>\n",
       "      <th>Season</th>\n",
       "      <th>HourAMPM</th>\n",
       "      <th>TimeOfDay</th>\n",
       "      <th>FullStreet</th>\n",
       "      <th>lat</th>\n",
       "      <th>lon</th>\n",
       "    </tr>\n",
       "  </thead>\n",
       "  <tbody>\n",
       "    <tr>\n",
       "      <th>0</th>\n",
       "      <td>1</td>\n",
       "      <td>Harassment</td>\n",
       "      <td>202500016224</td>\n",
       "      <td>1400</td>\n",
       "      <td>MONTICELLO RD, 205</td>\n",
       "      <td>CPD</td>\n",
       "      <td>0036</td>\n",
       "      <td>Miller, Devin</td>\n",
       "      <td>2025-05-14 00:36:30</td>\n",
       "      <td>2025-05-14 12:36:30 AM</td>\n",
       "      <td>Wednesday</td>\n",
       "      <td>False</td>\n",
       "      <td>Spring</td>\n",
       "      <td>12:36 AM</td>\n",
       "      <td>Night</td>\n",
       "      <td>1400 MONTICELLO RD, 205</td>\n",
       "      <td>38.019453</td>\n",
       "      <td>-78.472626</td>\n",
       "    </tr>\n",
       "    <tr>\n",
       "      <th>1</th>\n",
       "      <td>2</td>\n",
       "      <td>Sex Offense - Forcible Rape</td>\n",
       "      <td>202500016209</td>\n",
       "      <td>4000</td>\n",
       "      <td>CITY WALK WAY, 419</td>\n",
       "      <td>CPD</td>\n",
       "      <td>2105</td>\n",
       "      <td>Crowley, Raeann</td>\n",
       "      <td>2025-05-13 21:05:40</td>\n",
       "      <td>2025-05-13 09:05:40 PM</td>\n",
       "      <td>Tuesday</td>\n",
       "      <td>False</td>\n",
       "      <td>Spring</td>\n",
       "      <td>09:05 PM</td>\n",
       "      <td>Night</td>\n",
       "      <td>4000 CITY WALK WAY, 419</td>\n",
       "      <td>38.025822</td>\n",
       "      <td>-78.469659</td>\n",
       "    </tr>\n",
       "    <tr>\n",
       "      <th>2</th>\n",
       "      <td>3</td>\n",
       "      <td>Assault Simple</td>\n",
       "      <td>202500016202</td>\n",
       "      <td>2100</td>\n",
       "      <td>MICHIE DR, 23B</td>\n",
       "      <td>CPD</td>\n",
       "      <td>1944</td>\n",
       "      <td>Love-Baker, Sydney</td>\n",
       "      <td>2025-05-13 19:44:56</td>\n",
       "      <td>2025-05-13 07:44:56 PM</td>\n",
       "      <td>Tuesday</td>\n",
       "      <td>False</td>\n",
       "      <td>Spring</td>\n",
       "      <td>07:44 PM</td>\n",
       "      <td>Evening</td>\n",
       "      <td>2100 MICHIE DR, 23B</td>\n",
       "      <td>38.062986</td>\n",
       "      <td>-78.483828</td>\n",
       "    </tr>\n",
       "    <tr>\n",
       "      <th>3</th>\n",
       "      <td>4</td>\n",
       "      <td>Larceny - From Motor Vehicle</td>\n",
       "      <td>202500016191</td>\n",
       "      <td>1900</td>\n",
       "      <td>CHESAPEAKE ST</td>\n",
       "      <td>CPD</td>\n",
       "      <td>1744</td>\n",
       "      <td>Curry, Brian</td>\n",
       "      <td>2025-05-13 17:44:25</td>\n",
       "      <td>2025-05-13 05:44:25 PM</td>\n",
       "      <td>Tuesday</td>\n",
       "      <td>False</td>\n",
       "      <td>Spring</td>\n",
       "      <td>05:44 PM</td>\n",
       "      <td>Evening</td>\n",
       "      <td>1900 CHESAPEAKE ST</td>\n",
       "      <td>38.022855</td>\n",
       "      <td>-78.455941</td>\n",
       "    </tr>\n",
       "    <tr>\n",
       "      <th>4</th>\n",
       "      <td>5</td>\n",
       "      <td>Harassment</td>\n",
       "      <td>202500016169</td>\n",
       "      <td>200</td>\n",
       "      <td>E MAIN ST</td>\n",
       "      <td>CPD</td>\n",
       "      <td>1440</td>\n",
       "      <td>Prevost, Payten</td>\n",
       "      <td>2025-05-13 14:40:25</td>\n",
       "      <td>2025-05-13 02:40:25 PM</td>\n",
       "      <td>Tuesday</td>\n",
       "      <td>False</td>\n",
       "      <td>Spring</td>\n",
       "      <td>02:40 PM</td>\n",
       "      <td>Afternoon</td>\n",
       "      <td>200 E MAIN ST</td>\n",
       "      <td>38.030572</td>\n",
       "      <td>-78.480764</td>\n",
       "    </tr>\n",
       "  </tbody>\n",
       "</table>\n",
       "</div>"
      ],
      "text/plain": [
       "   RecordID                       Offense    IncidentID BlockNumber  \\\n",
       "0         1                    Harassment  202500016224        1400   \n",
       "1         2   Sex Offense - Forcible Rape  202500016209        4000   \n",
       "2         3                Assault Simple  202500016202        2100   \n",
       "3         4  Larceny - From Motor Vehicle  202500016191        1900   \n",
       "4         5                    Harassment  202500016169         200   \n",
       "\n",
       "           StreetName Agency HourReported    ReportingOfficer  \\\n",
       "0  MONTICELLO RD, 205    CPD         0036       Miller, Devin   \n",
       "1  CITY WALK WAY, 419    CPD         2105     Crowley, Raeann   \n",
       "2      MICHIE DR, 23B    CPD         1944  Love-Baker, Sydney   \n",
       "3       CHESAPEAKE ST    CPD         1744        Curry, Brian   \n",
       "4           E MAIN ST    CPD         1440     Prevost, Payten   \n",
       "\n",
       "                 Date              DateString  DayOfWeek  Weekend  Season  \\\n",
       "0 2025-05-14 00:36:30  2025-05-14 12:36:30 AM  Wednesday    False  Spring   \n",
       "1 2025-05-13 21:05:40  2025-05-13 09:05:40 PM    Tuesday    False  Spring   \n",
       "2 2025-05-13 19:44:56  2025-05-13 07:44:56 PM    Tuesday    False  Spring   \n",
       "3 2025-05-13 17:44:25  2025-05-13 05:44:25 PM    Tuesday    False  Spring   \n",
       "4 2025-05-13 14:40:25  2025-05-13 02:40:25 PM    Tuesday    False  Spring   \n",
       "\n",
       "   HourAMPM  TimeOfDay               FullStreet        lat        lon  \n",
       "0  12:36 AM      Night  1400 MONTICELLO RD, 205  38.019453 -78.472626  \n",
       "1  09:05 PM      Night  4000 CITY WALK WAY, 419  38.025822 -78.469659  \n",
       "2  07:44 PM    Evening      2100 MICHIE DR, 23B  38.062986 -78.483828  \n",
       "3  05:44 PM    Evening       1900 CHESAPEAKE ST  38.022855 -78.455941  \n",
       "4  02:40 PM  Afternoon            200 E MAIN ST  38.030572 -78.480764  "
      ]
     },
     "execution_count": 9,
     "metadata": {},
     "output_type": "execute_result"
    }
   ],
   "source": [
    "# Combine BlockNumber and StreetName into a full address string\n",
    "df['FullStreet'] = df['BlockNumber'].astype(str) + \" \" + df['StreetName']\n",
    "\n",
    "# --- Step 1: Setup the Google Maps Client and Cache ---\n",
    "gmaps = googlemaps.Client(key=GOOGLE_API_KEY)\n",
    "\n",
    "# Try to load cached geocoding results if available.\n",
    "try:\n",
    "    with open(\"geocode_cache_google.pkl\", \"rb\") as f:\n",
    "        street_coords = pickle.load(f)\n",
    "    print(\"Loaded geocode cache.\")\n",
    "except FileNotFoundError:\n",
    "    street_coords = {}\n",
    "    print(\"No cache found; starting fresh.\")\n",
    "\n",
    "def geocode_address(address):\n",
    "    try:\n",
    "        # Append city and state to help geocoding\n",
    "        result = gmaps.geocode(f\"{address}, Charlottesville, VA\")\n",
    "        if result:\n",
    "            lat = result[0]['geometry']['location']['lat']\n",
    "            lon = result[0]['geometry']['location']['lng']\n",
    "            return lat, lon\n",
    "    except Exception as e:\n",
    "        print(f\"Error geocoding {address}: {e}\")\n",
    "    return None, None\n",
    "\n",
    "# --- Step 2: Geocode Only New Addresses ---\n",
    "unique_addresses = df['FullStreet'].unique()\n",
    "for address in unique_addresses:\n",
    "    if address not in street_coords:\n",
    "        lat, lon = geocode_address(address)\n",
    "        street_coords[address] = (lat, lon)\n",
    "        print(f\"Geocoded {address}: {lat}, {lon}\")\n",
    "\n",
    "# Save the updated cache to disk.\n",
    "with open(\"geocode_cache_google.pkl\", \"wb\") as f:\n",
    "    pickle.dump(street_coords, f)\n",
    "    print(\"Geocode cache updated and saved.\")\n",
    "\n",
    "# --- Step 3: Map Coordinates Back to DataFrame ---\n",
    "df['lat'] = df['FullStreet'].map(lambda s: street_coords.get(s, (None, None))[0])\n",
    "df['lon'] = df['FullStreet'].map(lambda s: street_coords.get(s, (None, None))[1])\n",
    "\n",
    "df.head()"
   ]
  },
  {
   "cell_type": "markdown",
   "id": "70817eb6",
   "metadata": {
    "papermill": {
     "duration": 0.006426,
     "end_time": "2025-05-16T01:04:11.250251",
     "exception": false,
     "start_time": "2025-05-16T01:04:11.243825",
     "status": "completed"
    },
    "tags": []
   },
   "source": [
    "### Neighborhood"
   ]
  },
  {
   "cell_type": "code",
   "execution_count": 10,
   "id": "183c33f6",
   "metadata": {
    "execution": {
     "iopub.execute_input": "2025-05-16T01:04:11.263873Z",
     "iopub.status.busy": "2025-05-16T01:04:11.263464Z",
     "iopub.status.idle": "2025-05-16T01:04:11.528626Z",
     "shell.execute_reply": "2025-05-16T01:04:11.527880Z"
    },
    "papermill": {
     "duration": 0.273267,
     "end_time": "2025-05-16T01:04:11.529726",
     "exception": false,
     "start_time": "2025-05-16T01:04:11.256459",
     "status": "completed"
    },
    "tags": []
   },
   "outputs": [
    {
     "name": "stdout",
     "output_type": "stream",
     "text": [
      "Loaded neighborhood cache.\n"
     ]
    },
    {
     "data": {
      "text/html": [
       "<div>\n",
       "<style scoped>\n",
       "    .dataframe tbody tr th:only-of-type {\n",
       "        vertical-align: middle;\n",
       "    }\n",
       "\n",
       "    .dataframe tbody tr th {\n",
       "        vertical-align: top;\n",
       "    }\n",
       "\n",
       "    .dataframe thead th {\n",
       "        text-align: right;\n",
       "    }\n",
       "</style>\n",
       "<table border=\"1\" class=\"dataframe\">\n",
       "  <thead>\n",
       "    <tr style=\"text-align: right;\">\n",
       "      <th></th>\n",
       "      <th>RecordID</th>\n",
       "      <th>Offense</th>\n",
       "      <th>IncidentID</th>\n",
       "      <th>BlockNumber</th>\n",
       "      <th>StreetName</th>\n",
       "      <th>Agency</th>\n",
       "      <th>HourReported</th>\n",
       "      <th>ReportingOfficer</th>\n",
       "      <th>Date</th>\n",
       "      <th>DateString</th>\n",
       "      <th>DayOfWeek</th>\n",
       "      <th>Weekend</th>\n",
       "      <th>Season</th>\n",
       "      <th>HourAMPM</th>\n",
       "      <th>TimeOfDay</th>\n",
       "      <th>FullStreet</th>\n",
       "      <th>lat</th>\n",
       "      <th>lon</th>\n",
       "      <th>neighborhood</th>\n",
       "    </tr>\n",
       "  </thead>\n",
       "  <tbody>\n",
       "    <tr>\n",
       "      <th>0</th>\n",
       "      <td>1</td>\n",
       "      <td>Harassment</td>\n",
       "      <td>202500016224</td>\n",
       "      <td>1400</td>\n",
       "      <td>MONTICELLO RD, 205</td>\n",
       "      <td>CPD</td>\n",
       "      <td>0036</td>\n",
       "      <td>Miller, Devin</td>\n",
       "      <td>2025-05-14 00:36:30</td>\n",
       "      <td>2025-05-14 12:36:30 AM</td>\n",
       "      <td>Wednesday</td>\n",
       "      <td>False</td>\n",
       "      <td>Spring</td>\n",
       "      <td>12:36 AM</td>\n",
       "      <td>Night</td>\n",
       "      <td>1400 MONTICELLO RD, 205</td>\n",
       "      <td>38.019453</td>\n",
       "      <td>-78.472626</td>\n",
       "      <td>Belmont</td>\n",
       "    </tr>\n",
       "    <tr>\n",
       "      <th>1</th>\n",
       "      <td>2</td>\n",
       "      <td>Sex Offense - Forcible Rape</td>\n",
       "      <td>202500016209</td>\n",
       "      <td>4000</td>\n",
       "      <td>CITY WALK WAY, 419</td>\n",
       "      <td>CPD</td>\n",
       "      <td>2105</td>\n",
       "      <td>Crowley, Raeann</td>\n",
       "      <td>2025-05-13 21:05:40</td>\n",
       "      <td>2025-05-13 09:05:40 PM</td>\n",
       "      <td>Tuesday</td>\n",
       "      <td>False</td>\n",
       "      <td>Spring</td>\n",
       "      <td>09:05 PM</td>\n",
       "      <td>Night</td>\n",
       "      <td>4000 CITY WALK WAY, 419</td>\n",
       "      <td>38.025822</td>\n",
       "      <td>-78.469659</td>\n",
       "      <td>Martha Jefferson</td>\n",
       "    </tr>\n",
       "    <tr>\n",
       "      <th>2</th>\n",
       "      <td>3</td>\n",
       "      <td>Assault Simple</td>\n",
       "      <td>202500016202</td>\n",
       "      <td>2100</td>\n",
       "      <td>MICHIE DR, 23B</td>\n",
       "      <td>CPD</td>\n",
       "      <td>1944</td>\n",
       "      <td>Love-Baker, Sydney</td>\n",
       "      <td>2025-05-13 19:44:56</td>\n",
       "      <td>2025-05-13 07:44:56 PM</td>\n",
       "      <td>Tuesday</td>\n",
       "      <td>False</td>\n",
       "      <td>Spring</td>\n",
       "      <td>07:44 PM</td>\n",
       "      <td>Evening</td>\n",
       "      <td>2100 MICHIE DR, 23B</td>\n",
       "      <td>38.062986</td>\n",
       "      <td>-78.483828</td>\n",
       "      <td>Greenbrier</td>\n",
       "    </tr>\n",
       "    <tr>\n",
       "      <th>3</th>\n",
       "      <td>4</td>\n",
       "      <td>Larceny - From Motor Vehicle</td>\n",
       "      <td>202500016191</td>\n",
       "      <td>1900</td>\n",
       "      <td>CHESAPEAKE ST</td>\n",
       "      <td>CPD</td>\n",
       "      <td>1744</td>\n",
       "      <td>Curry, Brian</td>\n",
       "      <td>2025-05-13 17:44:25</td>\n",
       "      <td>2025-05-13 05:44:25 PM</td>\n",
       "      <td>Tuesday</td>\n",
       "      <td>False</td>\n",
       "      <td>Spring</td>\n",
       "      <td>05:44 PM</td>\n",
       "      <td>Evening</td>\n",
       "      <td>1900 CHESAPEAKE ST</td>\n",
       "      <td>38.022855</td>\n",
       "      <td>-78.455941</td>\n",
       "      <td>Woolen Mills</td>\n",
       "    </tr>\n",
       "    <tr>\n",
       "      <th>4</th>\n",
       "      <td>5</td>\n",
       "      <td>Harassment</td>\n",
       "      <td>202500016169</td>\n",
       "      <td>200</td>\n",
       "      <td>E MAIN ST</td>\n",
       "      <td>CPD</td>\n",
       "      <td>1440</td>\n",
       "      <td>Prevost, Payten</td>\n",
       "      <td>2025-05-13 14:40:25</td>\n",
       "      <td>2025-05-13 02:40:25 PM</td>\n",
       "      <td>Tuesday</td>\n",
       "      <td>False</td>\n",
       "      <td>Spring</td>\n",
       "      <td>02:40 PM</td>\n",
       "      <td>Afternoon</td>\n",
       "      <td>200 E MAIN ST</td>\n",
       "      <td>38.030572</td>\n",
       "      <td>-78.480764</td>\n",
       "      <td>Downtown Mall</td>\n",
       "    </tr>\n",
       "  </tbody>\n",
       "</table>\n",
       "</div>"
      ],
      "text/plain": [
       "   RecordID                       Offense    IncidentID BlockNumber  \\\n",
       "0         1                    Harassment  202500016224        1400   \n",
       "1         2   Sex Offense - Forcible Rape  202500016209        4000   \n",
       "2         3                Assault Simple  202500016202        2100   \n",
       "3         4  Larceny - From Motor Vehicle  202500016191        1900   \n",
       "4         5                    Harassment  202500016169         200   \n",
       "\n",
       "           StreetName Agency HourReported    ReportingOfficer  \\\n",
       "0  MONTICELLO RD, 205    CPD         0036       Miller, Devin   \n",
       "1  CITY WALK WAY, 419    CPD         2105     Crowley, Raeann   \n",
       "2      MICHIE DR, 23B    CPD         1944  Love-Baker, Sydney   \n",
       "3       CHESAPEAKE ST    CPD         1744        Curry, Brian   \n",
       "4           E MAIN ST    CPD         1440     Prevost, Payten   \n",
       "\n",
       "                 Date              DateString  DayOfWeek  Weekend  Season  \\\n",
       "0 2025-05-14 00:36:30  2025-05-14 12:36:30 AM  Wednesday    False  Spring   \n",
       "1 2025-05-13 21:05:40  2025-05-13 09:05:40 PM    Tuesday    False  Spring   \n",
       "2 2025-05-13 19:44:56  2025-05-13 07:44:56 PM    Tuesday    False  Spring   \n",
       "3 2025-05-13 17:44:25  2025-05-13 05:44:25 PM    Tuesday    False  Spring   \n",
       "4 2025-05-13 14:40:25  2025-05-13 02:40:25 PM    Tuesday    False  Spring   \n",
       "\n",
       "   HourAMPM  TimeOfDay               FullStreet        lat        lon  \\\n",
       "0  12:36 AM      Night  1400 MONTICELLO RD, 205  38.019453 -78.472626   \n",
       "1  09:05 PM      Night  4000 CITY WALK WAY, 419  38.025822 -78.469659   \n",
       "2  07:44 PM    Evening      2100 MICHIE DR, 23B  38.062986 -78.483828   \n",
       "3  05:44 PM    Evening       1900 CHESAPEAKE ST  38.022855 -78.455941   \n",
       "4  02:40 PM  Afternoon            200 E MAIN ST  38.030572 -78.480764   \n",
       "\n",
       "       neighborhood  \n",
       "0           Belmont  \n",
       "1  Martha Jefferson  \n",
       "2        Greenbrier  \n",
       "3      Woolen Mills  \n",
       "4     Downtown Mall  "
      ]
     },
     "execution_count": 10,
     "metadata": {},
     "output_type": "execute_result"
    }
   ],
   "source": [
    "# Initialize the Google Maps client.\n",
    "gmaps = googlemaps.Client(key=GOOGLE_API_KEY)\n",
    "\n",
    "# Try to load a persistent neighborhood cache if available.\n",
    "try:\n",
    "    with open(\"neighborhood_cache.pkl\", \"rb\") as f:\n",
    "        neighborhood_cache = pickle.load(f)\n",
    "    print(\"Loaded neighborhood cache.\")\n",
    "except FileNotFoundError:\n",
    "    neighborhood_cache = {}\n",
    "    print(\"No neighborhood cache found; starting fresh.\")\n",
    "\n",
    "def get_neighborhood(lat, lon):\n",
    "    \"\"\"\n",
    "    Reverse geocodes a latitude and longitude to retrieve the neighborhood.\n",
    "    Caches results to speed up subsequent lookups.\n",
    "    \"\"\"\n",
    "    key = (lat, lon)\n",
    "    if key in neighborhood_cache:\n",
    "        return neighborhood_cache[key]\n",
    "    \n",
    "    try:\n",
    "        result = gmaps.reverse_geocode((lat, lon))\n",
    "        if result:\n",
    "            # Look for the 'neighborhood' component in the first result.\n",
    "            for component in result[0]['address_components']:\n",
    "                if 'neighborhood' in component['types']:\n",
    "                    neighborhood = component['long_name']\n",
    "                    neighborhood_cache[key] = neighborhood\n",
    "                    return neighborhood\n",
    "            # If no neighborhood is found, return \"N/A\"\n",
    "            neighborhood_cache[key] = \"N/A\"\n",
    "            return \"N/A\"\n",
    "    except Exception as e:\n",
    "        print(f\"Error getting neighborhood for {lat}, {lon}: {e}\")\n",
    "        return \"N/A\"\n",
    "    \n",
    "    # Pause to respect usage limits.\n",
    "    time.sleep(1)\n",
    "\n",
    "# Example usage: Apply to your DataFrame 'df' that already has 'lat' and 'lon' columns.\n",
    "df['neighborhood'] = df.apply(lambda row: get_neighborhood(row['lat'], row['lon']), axis=1)\n",
    "\n",
    "# Save the updated neighborhood cache.\n",
    "with open(\"neighborhood_cache.pkl\", \"wb\") as f:\n",
    "    pickle.dump(neighborhood_cache, f)\n",
    "\n",
    "df.head()\n"
   ]
  },
  {
   "cell_type": "markdown",
   "id": "13b62e39",
   "metadata": {
    "papermill": {
     "duration": 0.0067,
     "end_time": "2025-05-16T01:04:11.543393",
     "exception": false,
     "start_time": "2025-05-16T01:04:11.536693",
     "status": "completed"
    },
    "tags": []
   },
   "source": [
    "### Zip"
   ]
  },
  {
   "cell_type": "code",
   "execution_count": 11,
   "id": "6be58058",
   "metadata": {
    "execution": {
     "iopub.execute_input": "2025-05-16T01:04:11.557475Z",
     "iopub.status.busy": "2025-05-16T01:04:11.557274Z",
     "iopub.status.idle": "2025-05-16T01:04:11.799266Z",
     "shell.execute_reply": "2025-05-16T01:04:11.798550Z"
    },
    "papermill": {
     "duration": 0.25054,
     "end_time": "2025-05-16T01:04:11.800448",
     "exception": false,
     "start_time": "2025-05-16T01:04:11.549908",
     "status": "completed"
    },
    "tags": []
   },
   "outputs": [
    {
     "name": "stdout",
     "output_type": "stream",
     "text": [
      "Loaded zip cache.\n"
     ]
    },
    {
     "data": {
      "text/html": [
       "<div>\n",
       "<style scoped>\n",
       "    .dataframe tbody tr th:only-of-type {\n",
       "        vertical-align: middle;\n",
       "    }\n",
       "\n",
       "    .dataframe tbody tr th {\n",
       "        vertical-align: top;\n",
       "    }\n",
       "\n",
       "    .dataframe thead th {\n",
       "        text-align: right;\n",
       "    }\n",
       "</style>\n",
       "<table border=\"1\" class=\"dataframe\">\n",
       "  <thead>\n",
       "    <tr style=\"text-align: right;\">\n",
       "      <th></th>\n",
       "      <th>RecordID</th>\n",
       "      <th>Offense</th>\n",
       "      <th>IncidentID</th>\n",
       "      <th>BlockNumber</th>\n",
       "      <th>StreetName</th>\n",
       "      <th>Agency</th>\n",
       "      <th>HourReported</th>\n",
       "      <th>ReportingOfficer</th>\n",
       "      <th>Date</th>\n",
       "      <th>DateString</th>\n",
       "      <th>DayOfWeek</th>\n",
       "      <th>Weekend</th>\n",
       "      <th>Season</th>\n",
       "      <th>HourAMPM</th>\n",
       "      <th>TimeOfDay</th>\n",
       "      <th>FullStreet</th>\n",
       "      <th>lat</th>\n",
       "      <th>lon</th>\n",
       "      <th>neighborhood</th>\n",
       "      <th>zip</th>\n",
       "    </tr>\n",
       "  </thead>\n",
       "  <tbody>\n",
       "    <tr>\n",
       "      <th>0</th>\n",
       "      <td>1</td>\n",
       "      <td>Harassment</td>\n",
       "      <td>202500016224</td>\n",
       "      <td>1400</td>\n",
       "      <td>MONTICELLO RD, 205</td>\n",
       "      <td>CPD</td>\n",
       "      <td>0036</td>\n",
       "      <td>Miller, Devin</td>\n",
       "      <td>2025-05-14 00:36:30</td>\n",
       "      <td>2025-05-14 12:36:30 AM</td>\n",
       "      <td>Wednesday</td>\n",
       "      <td>False</td>\n",
       "      <td>Spring</td>\n",
       "      <td>12:36 AM</td>\n",
       "      <td>Night</td>\n",
       "      <td>1400 MONTICELLO RD, 205</td>\n",
       "      <td>38.019453</td>\n",
       "      <td>-78.472626</td>\n",
       "      <td>Belmont</td>\n",
       "      <td>22902</td>\n",
       "    </tr>\n",
       "    <tr>\n",
       "      <th>1</th>\n",
       "      <td>2</td>\n",
       "      <td>Sex Offense - Forcible Rape</td>\n",
       "      <td>202500016209</td>\n",
       "      <td>4000</td>\n",
       "      <td>CITY WALK WAY, 419</td>\n",
       "      <td>CPD</td>\n",
       "      <td>2105</td>\n",
       "      <td>Crowley, Raeann</td>\n",
       "      <td>2025-05-13 21:05:40</td>\n",
       "      <td>2025-05-13 09:05:40 PM</td>\n",
       "      <td>Tuesday</td>\n",
       "      <td>False</td>\n",
       "      <td>Spring</td>\n",
       "      <td>09:05 PM</td>\n",
       "      <td>Night</td>\n",
       "      <td>4000 CITY WALK WAY, 419</td>\n",
       "      <td>38.025822</td>\n",
       "      <td>-78.469659</td>\n",
       "      <td>Martha Jefferson</td>\n",
       "      <td>22902</td>\n",
       "    </tr>\n",
       "    <tr>\n",
       "      <th>2</th>\n",
       "      <td>3</td>\n",
       "      <td>Assault Simple</td>\n",
       "      <td>202500016202</td>\n",
       "      <td>2100</td>\n",
       "      <td>MICHIE DR, 23B</td>\n",
       "      <td>CPD</td>\n",
       "      <td>1944</td>\n",
       "      <td>Love-Baker, Sydney</td>\n",
       "      <td>2025-05-13 19:44:56</td>\n",
       "      <td>2025-05-13 07:44:56 PM</td>\n",
       "      <td>Tuesday</td>\n",
       "      <td>False</td>\n",
       "      <td>Spring</td>\n",
       "      <td>07:44 PM</td>\n",
       "      <td>Evening</td>\n",
       "      <td>2100 MICHIE DR, 23B</td>\n",
       "      <td>38.062986</td>\n",
       "      <td>-78.483828</td>\n",
       "      <td>Greenbrier</td>\n",
       "      <td>22901</td>\n",
       "    </tr>\n",
       "    <tr>\n",
       "      <th>3</th>\n",
       "      <td>4</td>\n",
       "      <td>Larceny - From Motor Vehicle</td>\n",
       "      <td>202500016191</td>\n",
       "      <td>1900</td>\n",
       "      <td>CHESAPEAKE ST</td>\n",
       "      <td>CPD</td>\n",
       "      <td>1744</td>\n",
       "      <td>Curry, Brian</td>\n",
       "      <td>2025-05-13 17:44:25</td>\n",
       "      <td>2025-05-13 05:44:25 PM</td>\n",
       "      <td>Tuesday</td>\n",
       "      <td>False</td>\n",
       "      <td>Spring</td>\n",
       "      <td>05:44 PM</td>\n",
       "      <td>Evening</td>\n",
       "      <td>1900 CHESAPEAKE ST</td>\n",
       "      <td>38.022855</td>\n",
       "      <td>-78.455941</td>\n",
       "      <td>Woolen Mills</td>\n",
       "      <td>22902</td>\n",
       "    </tr>\n",
       "    <tr>\n",
       "      <th>4</th>\n",
       "      <td>5</td>\n",
       "      <td>Harassment</td>\n",
       "      <td>202500016169</td>\n",
       "      <td>200</td>\n",
       "      <td>E MAIN ST</td>\n",
       "      <td>CPD</td>\n",
       "      <td>1440</td>\n",
       "      <td>Prevost, Payten</td>\n",
       "      <td>2025-05-13 14:40:25</td>\n",
       "      <td>2025-05-13 02:40:25 PM</td>\n",
       "      <td>Tuesday</td>\n",
       "      <td>False</td>\n",
       "      <td>Spring</td>\n",
       "      <td>02:40 PM</td>\n",
       "      <td>Afternoon</td>\n",
       "      <td>200 E MAIN ST</td>\n",
       "      <td>38.030572</td>\n",
       "      <td>-78.480764</td>\n",
       "      <td>Downtown Mall</td>\n",
       "      <td>22902</td>\n",
       "    </tr>\n",
       "  </tbody>\n",
       "</table>\n",
       "</div>"
      ],
      "text/plain": [
       "   RecordID                       Offense    IncidentID BlockNumber  \\\n",
       "0         1                    Harassment  202500016224        1400   \n",
       "1         2   Sex Offense - Forcible Rape  202500016209        4000   \n",
       "2         3                Assault Simple  202500016202        2100   \n",
       "3         4  Larceny - From Motor Vehicle  202500016191        1900   \n",
       "4         5                    Harassment  202500016169         200   \n",
       "\n",
       "           StreetName Agency HourReported    ReportingOfficer  \\\n",
       "0  MONTICELLO RD, 205    CPD         0036       Miller, Devin   \n",
       "1  CITY WALK WAY, 419    CPD         2105     Crowley, Raeann   \n",
       "2      MICHIE DR, 23B    CPD         1944  Love-Baker, Sydney   \n",
       "3       CHESAPEAKE ST    CPD         1744        Curry, Brian   \n",
       "4           E MAIN ST    CPD         1440     Prevost, Payten   \n",
       "\n",
       "                 Date              DateString  DayOfWeek  Weekend  Season  \\\n",
       "0 2025-05-14 00:36:30  2025-05-14 12:36:30 AM  Wednesday    False  Spring   \n",
       "1 2025-05-13 21:05:40  2025-05-13 09:05:40 PM    Tuesday    False  Spring   \n",
       "2 2025-05-13 19:44:56  2025-05-13 07:44:56 PM    Tuesday    False  Spring   \n",
       "3 2025-05-13 17:44:25  2025-05-13 05:44:25 PM    Tuesday    False  Spring   \n",
       "4 2025-05-13 14:40:25  2025-05-13 02:40:25 PM    Tuesday    False  Spring   \n",
       "\n",
       "   HourAMPM  TimeOfDay               FullStreet        lat        lon  \\\n",
       "0  12:36 AM      Night  1400 MONTICELLO RD, 205  38.019453 -78.472626   \n",
       "1  09:05 PM      Night  4000 CITY WALK WAY, 419  38.025822 -78.469659   \n",
       "2  07:44 PM    Evening      2100 MICHIE DR, 23B  38.062986 -78.483828   \n",
       "3  05:44 PM    Evening       1900 CHESAPEAKE ST  38.022855 -78.455941   \n",
       "4  02:40 PM  Afternoon            200 E MAIN ST  38.030572 -78.480764   \n",
       "\n",
       "       neighborhood    zip  \n",
       "0           Belmont  22902  \n",
       "1  Martha Jefferson  22902  \n",
       "2        Greenbrier  22901  \n",
       "3      Woolen Mills  22902  \n",
       "4     Downtown Mall  22902  "
      ]
     },
     "execution_count": 11,
     "metadata": {},
     "output_type": "execute_result"
    }
   ],
   "source": [
    "# Initialize the geocoder.\n",
    "geolocator = Nominatim(user_agent=\"zip_lookup\")\n",
    "\n",
    "# Try to load a persistent ZIP cache if available.\n",
    "try:\n",
    "    with open(\"zip_cache.pkl\", \"rb\") as f:\n",
    "        zip_cache = pickle.load(f)\n",
    "    print(\"Loaded zip cache.\")\n",
    "except FileNotFoundError:\n",
    "    zip_cache = {}\n",
    "    print(\"No zip cache found; starting fresh.\")\n",
    "\n",
    "def get_zip(lat, lon):\n",
    "    \"\"\"\n",
    "    Reverse geocodes a latitude and longitude to retrieve the ZIP code.\n",
    "    Caches results to speed up subsequent lookups.\n",
    "    \"\"\"\n",
    "    key = (lat, lon)\n",
    "    if key in zip_cache:\n",
    "        return zip_cache[key]\n",
    "    \n",
    "    try:\n",
    "        location = geolocator.reverse((lat, lon), exactly_one=True, timeout=10)\n",
    "        address = location.raw.get('address', {})\n",
    "        postal_code = address.get('postcode', \"N/A\")\n",
    "    except Exception as e:\n",
    "        print(f\"Error getting ZIP for {lat}, {lon}: {e}\")\n",
    "        postal_code = \"N/A\"\n",
    "    \n",
    "    zip_cache[key] = postal_code\n",
    "    # Pause to respect the usage policy.\n",
    "    time.sleep(1)\n",
    "    return postal_code\n",
    "\n",
    "# Apply the function to each row in the DataFrame.\n",
    "df['zip'] = df.apply(lambda row: get_zip(row['lat'], row['lon']), axis=1)\n",
    "\n",
    "# Save the updated ZIP cache.\n",
    "with open(\"zip_cache.pkl\", \"wb\") as f:\n",
    "    pickle.dump(zip_cache, f)\n",
    "\n",
    "df.head()\n"
   ]
  },
  {
   "cell_type": "code",
   "execution_count": 12,
   "id": "357856b2",
   "metadata": {
    "execution": {
     "iopub.execute_input": "2025-05-16T01:04:11.815730Z",
     "iopub.status.busy": "2025-05-16T01:04:11.815270Z",
     "iopub.status.idle": "2025-05-16T01:04:11.841473Z",
     "shell.execute_reply": "2025-05-16T01:04:11.840801Z"
    },
    "papermill": {
     "duration": 0.034778,
     "end_time": "2025-05-16T01:04:11.842469",
     "exception": false,
     "start_time": "2025-05-16T01:04:11.807691",
     "status": "completed"
    },
    "tags": []
   },
   "outputs": [
    {
     "name": "stdout",
     "output_type": "stream",
     "text": [
      "                  MissingCount  MissingPercentage\n",
      "RecordID                     0               0.00\n",
      "Offense                      0               0.00\n",
      "IncidentID                   0               0.00\n",
      "BlockNumber                  0               0.00\n",
      "StreetName                   0               0.00\n",
      "Agency                       0               0.00\n",
      "HourReported                 0               0.00\n",
      "ReportingOfficer            17               0.07\n",
      "Date                         0               0.00\n",
      "DateString                   0               0.00\n",
      "DayOfWeek                    0               0.00\n",
      "Weekend                      0               0.00\n",
      "Season                       0               0.00\n",
      "HourAMPM                     0               0.00\n",
      "TimeOfDay                    0               0.00\n",
      "FullStreet                   0               0.00\n",
      "lat                          0               0.00\n",
      "lon                          0               0.00\n",
      "neighborhood                 0               0.00\n",
      "zip                          0               0.00\n"
     ]
    }
   ],
   "source": [
    "missing_info = missing_percentage(df)\n",
    "print(missing_info)\n"
   ]
  },
  {
   "cell_type": "code",
   "execution_count": 13,
   "id": "8bd5ebab",
   "metadata": {
    "execution": {
     "iopub.execute_input": "2025-05-16T01:04:11.857905Z",
     "iopub.status.busy": "2025-05-16T01:04:11.857530Z",
     "iopub.status.idle": "2025-05-16T01:04:11.884759Z",
     "shell.execute_reply": "2025-05-16T01:04:11.884108Z"
    },
    "papermill": {
     "duration": 0.036272,
     "end_time": "2025-05-16T01:04:11.885816",
     "exception": false,
     "start_time": "2025-05-16T01:04:11.849544",
     "status": "completed"
    },
    "tags": []
   },
   "outputs": [
    {
     "name": "stdout",
     "output_type": "stream",
     "text": [
      "<class 'pandas.core.frame.DataFrame'>\n",
      "RangeIndex: 25382 entries, 0 to 25381\n",
      "Data columns (total 20 columns):\n",
      " #   Column            Non-Null Count  Dtype         \n",
      "---  ------            --------------  -----         \n",
      " 0   RecordID          25382 non-null  int64         \n",
      " 1   Offense           25382 non-null  object        \n",
      " 2   IncidentID        25382 non-null  object        \n",
      " 3   BlockNumber       25382 non-null  object        \n",
      " 4   StreetName        25382 non-null  object        \n",
      " 5   Agency            25382 non-null  object        \n",
      " 6   HourReported      25382 non-null  object        \n",
      " 7   ReportingOfficer  25365 non-null  object        \n",
      " 8   Date              25382 non-null  datetime64[ns]\n",
      " 9   DateString        25382 non-null  object        \n",
      " 10  DayOfWeek         25382 non-null  object        \n",
      " 11  Weekend           25382 non-null  bool          \n",
      " 12  Season            25382 non-null  object        \n",
      " 13  HourAMPM          25382 non-null  object        \n",
      " 14  TimeOfDay         25382 non-null  object        \n",
      " 15  FullStreet        25382 non-null  object        \n",
      " 16  lat               25382 non-null  float64       \n",
      " 17  lon               25382 non-null  float64       \n",
      " 18  neighborhood      25382 non-null  object        \n",
      " 19  zip               25382 non-null  object        \n",
      "dtypes: bool(1), datetime64[ns](1), float64(2), int64(1), object(15)\n",
      "memory usage: 3.7+ MB\n"
     ]
    }
   ],
   "source": [
    "df.info()"
   ]
  },
  {
   "cell_type": "code",
   "execution_count": 14,
   "id": "cdd3c4a9",
   "metadata": {
    "execution": {
     "iopub.execute_input": "2025-05-16T01:04:11.901202Z",
     "iopub.status.busy": "2025-05-16T01:04:11.900743Z",
     "iopub.status.idle": "2025-05-16T01:04:11.944421Z",
     "shell.execute_reply": "2025-05-16T01:04:11.943720Z"
    },
    "papermill": {
     "duration": 0.052419,
     "end_time": "2025-05-16T01:04:11.945449",
     "exception": false,
     "start_time": "2025-05-16T01:04:11.893030",
     "status": "completed"
    },
    "tags": []
   },
   "outputs": [
    {
     "data": {
      "text/html": [
       "<div>\n",
       "<style scoped>\n",
       "    .dataframe tbody tr th:only-of-type {\n",
       "        vertical-align: middle;\n",
       "    }\n",
       "\n",
       "    .dataframe tbody tr th {\n",
       "        vertical-align: top;\n",
       "    }\n",
       "\n",
       "    .dataframe thead th {\n",
       "        text-align: right;\n",
       "    }\n",
       "</style>\n",
       "<table border=\"1\" class=\"dataframe\">\n",
       "  <thead>\n",
       "    <tr style=\"text-align: right;\">\n",
       "      <th></th>\n",
       "      <th>RecordID</th>\n",
       "      <th>Offense</th>\n",
       "      <th>IncidentID</th>\n",
       "      <th>Agency</th>\n",
       "      <th>ReportingOfficer</th>\n",
       "      <th>Date</th>\n",
       "      <th>DayOfWeek</th>\n",
       "      <th>Weekend</th>\n",
       "      <th>Season</th>\n",
       "      <th>TimeOfDay</th>\n",
       "      <th>FullStreet</th>\n",
       "      <th>lat</th>\n",
       "      <th>lon</th>\n",
       "      <th>neighborhood</th>\n",
       "      <th>zip</th>\n",
       "    </tr>\n",
       "  </thead>\n",
       "  <tbody>\n",
       "    <tr>\n",
       "      <th>0</th>\n",
       "      <td>1</td>\n",
       "      <td>Harassment</td>\n",
       "      <td>202500016224</td>\n",
       "      <td>CPD</td>\n",
       "      <td>Miller, Devin</td>\n",
       "      <td>2025-05-14 00:36:30</td>\n",
       "      <td>Wednesday</td>\n",
       "      <td>False</td>\n",
       "      <td>Spring</td>\n",
       "      <td>Night</td>\n",
       "      <td>1400 MONTICELLO RD, 205</td>\n",
       "      <td>38.019453</td>\n",
       "      <td>-78.472626</td>\n",
       "      <td>Belmont</td>\n",
       "      <td>22902</td>\n",
       "    </tr>\n",
       "    <tr>\n",
       "      <th>1</th>\n",
       "      <td>2</td>\n",
       "      <td>Sex Offense - Forcible Rape</td>\n",
       "      <td>202500016209</td>\n",
       "      <td>CPD</td>\n",
       "      <td>Crowley, Raeann</td>\n",
       "      <td>2025-05-13 21:05:40</td>\n",
       "      <td>Tuesday</td>\n",
       "      <td>False</td>\n",
       "      <td>Spring</td>\n",
       "      <td>Night</td>\n",
       "      <td>4000 CITY WALK WAY, 419</td>\n",
       "      <td>38.025822</td>\n",
       "      <td>-78.469659</td>\n",
       "      <td>Martha Jefferson</td>\n",
       "      <td>22902</td>\n",
       "    </tr>\n",
       "    <tr>\n",
       "      <th>2</th>\n",
       "      <td>3</td>\n",
       "      <td>Assault Simple</td>\n",
       "      <td>202500016202</td>\n",
       "      <td>CPD</td>\n",
       "      <td>Love-Baker, Sydney</td>\n",
       "      <td>2025-05-13 19:44:56</td>\n",
       "      <td>Tuesday</td>\n",
       "      <td>False</td>\n",
       "      <td>Spring</td>\n",
       "      <td>Evening</td>\n",
       "      <td>2100 MICHIE DR, 23B</td>\n",
       "      <td>38.062986</td>\n",
       "      <td>-78.483828</td>\n",
       "      <td>Greenbrier</td>\n",
       "      <td>22901</td>\n",
       "    </tr>\n",
       "    <tr>\n",
       "      <th>3</th>\n",
       "      <td>4</td>\n",
       "      <td>Larceny - From Motor Vehicle</td>\n",
       "      <td>202500016191</td>\n",
       "      <td>CPD</td>\n",
       "      <td>Curry, Brian</td>\n",
       "      <td>2025-05-13 17:44:25</td>\n",
       "      <td>Tuesday</td>\n",
       "      <td>False</td>\n",
       "      <td>Spring</td>\n",
       "      <td>Evening</td>\n",
       "      <td>1900 CHESAPEAKE ST</td>\n",
       "      <td>38.022855</td>\n",
       "      <td>-78.455941</td>\n",
       "      <td>Woolen Mills</td>\n",
       "      <td>22902</td>\n",
       "    </tr>\n",
       "    <tr>\n",
       "      <th>4</th>\n",
       "      <td>5</td>\n",
       "      <td>Harassment</td>\n",
       "      <td>202500016169</td>\n",
       "      <td>CPD</td>\n",
       "      <td>Prevost, Payten</td>\n",
       "      <td>2025-05-13 14:40:25</td>\n",
       "      <td>Tuesday</td>\n",
       "      <td>False</td>\n",
       "      <td>Spring</td>\n",
       "      <td>Afternoon</td>\n",
       "      <td>200 E MAIN ST</td>\n",
       "      <td>38.030572</td>\n",
       "      <td>-78.480764</td>\n",
       "      <td>Downtown Mall</td>\n",
       "      <td>22902</td>\n",
       "    </tr>\n",
       "  </tbody>\n",
       "</table>\n",
       "</div>"
      ],
      "text/plain": [
       "   RecordID                       Offense    IncidentID Agency  \\\n",
       "0         1                    Harassment  202500016224    CPD   \n",
       "1         2   Sex Offense - Forcible Rape  202500016209    CPD   \n",
       "2         3                Assault Simple  202500016202    CPD   \n",
       "3         4  Larceny - From Motor Vehicle  202500016191    CPD   \n",
       "4         5                    Harassment  202500016169    CPD   \n",
       "\n",
       "     ReportingOfficer                Date  DayOfWeek  Weekend  Season  \\\n",
       "0       Miller, Devin 2025-05-14 00:36:30  Wednesday    False  Spring   \n",
       "1     Crowley, Raeann 2025-05-13 21:05:40    Tuesday    False  Spring   \n",
       "2  Love-Baker, Sydney 2025-05-13 19:44:56    Tuesday    False  Spring   \n",
       "3        Curry, Brian 2025-05-13 17:44:25    Tuesday    False  Spring   \n",
       "4     Prevost, Payten 2025-05-13 14:40:25    Tuesday    False  Spring   \n",
       "\n",
       "   TimeOfDay               FullStreet        lat        lon      neighborhood  \\\n",
       "0      Night  1400 MONTICELLO RD, 205  38.019453 -78.472626           Belmont   \n",
       "1      Night  4000 CITY WALK WAY, 419  38.025822 -78.469659  Martha Jefferson   \n",
       "2    Evening      2100 MICHIE DR, 23B  38.062986 -78.483828        Greenbrier   \n",
       "3    Evening       1900 CHESAPEAKE ST  38.022855 -78.455941      Woolen Mills   \n",
       "4  Afternoon            200 E MAIN ST  38.030572 -78.480764     Downtown Mall   \n",
       "\n",
       "     zip  \n",
       "0  22902  \n",
       "1  22902  \n",
       "2  22901  \n",
       "3  22902  \n",
       "4  22902  "
      ]
     },
     "execution_count": 14,
     "metadata": {},
     "output_type": "execute_result"
    }
   ],
   "source": [
    "# Now drop the original BlockNumber and StreetName columns\n",
    "df.drop(columns=['BlockNumber', 'StreetName','HourAMPM','HourReported','DateString'], inplace=True)\n",
    "df[\"zip\"] = df[\"zip\"].astype(str)\n",
    "\n",
    "# Fill all missing values in the DataFrame with \"N/A\"\n",
    "df.replace({None: \"N/A\", np.nan: \"N/A\", \"\": \"N/A\"}, inplace=True)\n",
    "df.head()"
   ]
  },
  {
   "cell_type": "code",
   "execution_count": 15,
   "id": "24e0a068",
   "metadata": {
    "execution": {
     "iopub.execute_input": "2025-05-16T01:04:11.961634Z",
     "iopub.status.busy": "2025-05-16T01:04:11.961149Z",
     "iopub.status.idle": "2025-05-16T01:04:11.979775Z",
     "shell.execute_reply": "2025-05-16T01:04:11.979236Z"
    },
    "papermill": {
     "duration": 0.027669,
     "end_time": "2025-05-16T01:04:11.980794",
     "exception": false,
     "start_time": "2025-05-16T01:04:11.953125",
     "status": "completed"
    },
    "tags": []
   },
   "outputs": [
    {
     "name": "stdout",
     "output_type": "stream",
     "text": [
      "                  MissingCount  MissingPercentage\n",
      "RecordID                     0                0.0\n",
      "Offense                      0                0.0\n",
      "IncidentID                   0                0.0\n",
      "Agency                       0                0.0\n",
      "ReportingOfficer             0                0.0\n",
      "Date                         0                0.0\n",
      "DayOfWeek                    0                0.0\n",
      "Weekend                      0                0.0\n",
      "Season                       0                0.0\n",
      "TimeOfDay                    0                0.0\n",
      "FullStreet                   0                0.0\n",
      "lat                          0                0.0\n",
      "lon                          0                0.0\n",
      "neighborhood                 0                0.0\n",
      "zip                          0                0.0\n"
     ]
    }
   ],
   "source": [
    "missing_info = missing_percentage(df)\n",
    "print(missing_info)"
   ]
  },
  {
   "cell_type": "code",
   "execution_count": 16,
   "id": "ed8a87ba",
   "metadata": {
    "execution": {
     "iopub.execute_input": "2025-05-16T01:04:11.996533Z",
     "iopub.status.busy": "2025-05-16T01:04:11.996096Z",
     "iopub.status.idle": "2025-05-16T01:04:12.000583Z",
     "shell.execute_reply": "2025-05-16T01:04:11.999906Z"
    },
    "papermill": {
     "duration": 0.013424,
     "end_time": "2025-05-16T01:04:12.001587",
     "exception": false,
     "start_time": "2025-05-16T01:04:11.988163",
     "status": "completed"
    },
    "tags": []
   },
   "outputs": [
    {
     "data": {
      "text/plain": [
       "Index(['RecordID', 'Offense', 'IncidentID', 'Agency', 'ReportingOfficer',\n",
       "       'Date', 'DayOfWeek', 'Weekend', 'Season', 'TimeOfDay', 'FullStreet',\n",
       "       'lat', 'lon', 'neighborhood', 'zip'],\n",
       "      dtype='object')"
      ]
     },
     "execution_count": 16,
     "metadata": {},
     "output_type": "execute_result"
    }
   ],
   "source": [
    "df.columns"
   ]
  },
  {
   "cell_type": "code",
   "execution_count": 17,
   "id": "9dab3a06",
   "metadata": {
    "execution": {
     "iopub.execute_input": "2025-05-16T01:04:12.017405Z",
     "iopub.status.busy": "2025-05-16T01:04:12.016937Z",
     "iopub.status.idle": "2025-05-16T01:04:12.036134Z",
     "shell.execute_reply": "2025-05-16T01:04:12.035565Z"
    },
    "papermill": {
     "duration": 0.02811,
     "end_time": "2025-05-16T01:04:12.037166",
     "exception": false,
     "start_time": "2025-05-16T01:04:12.009056",
     "status": "completed"
    },
    "tags": []
   },
   "outputs": [
    {
     "name": "stdout",
     "output_type": "stream",
     "text": [
      "<class 'pandas.core.frame.DataFrame'>\n",
      "RangeIndex: 25382 entries, 0 to 25381\n",
      "Data columns (total 15 columns):\n",
      " #   Column            Non-Null Count  Dtype         \n",
      "---  ------            --------------  -----         \n",
      " 0   RecordID          25382 non-null  int64         \n",
      " 1   Offense           25382 non-null  object        \n",
      " 2   IncidentID        25382 non-null  object        \n",
      " 3   Agency            25382 non-null  object        \n",
      " 4   ReportingOfficer  25382 non-null  object        \n",
      " 5   Date              25382 non-null  datetime64[ns]\n",
      " 6   DayOfWeek         25382 non-null  object        \n",
      " 7   Weekend           25382 non-null  bool          \n",
      " 8   Season            25382 non-null  object        \n",
      " 9   TimeOfDay         25382 non-null  object        \n",
      " 10  FullStreet        25382 non-null  object        \n",
      " 11  lat               25382 non-null  float64       \n",
      " 12  lon               25382 non-null  float64       \n",
      " 13  neighborhood      25382 non-null  object        \n",
      " 14  zip               25382 non-null  object        \n",
      "dtypes: bool(1), datetime64[ns](1), float64(2), int64(1), object(10)\n",
      "memory usage: 2.7+ MB\n"
     ]
    }
   ],
   "source": [
    "df.info()"
   ]
  },
  {
   "cell_type": "markdown",
   "id": "ed6484fe",
   "metadata": {
    "papermill": {
     "duration": 0.007513,
     "end_time": "2025-05-16T01:04:12.052334",
     "exception": false,
     "start_time": "2025-05-16T01:04:12.044821",
     "status": "completed"
    },
    "tags": []
   },
   "source": [
    "### Export Clean Data"
   ]
  },
  {
   "cell_type": "code",
   "execution_count": 18,
   "id": "5b0033a5",
   "metadata": {
    "execution": {
     "iopub.execute_input": "2025-05-16T01:04:12.068554Z",
     "iopub.status.busy": "2025-05-16T01:04:12.068151Z",
     "iopub.status.idle": "2025-05-16T01:04:21.418879Z",
     "shell.execute_reply": "2025-05-16T01:04:21.418130Z"
    },
    "papermill": {
     "duration": 9.360049,
     "end_time": "2025-05-16T01:04:21.420019",
     "exception": false,
     "start_time": "2025-05-16T01:04:12.059970",
     "status": "completed"
    },
    "tags": []
   },
   "outputs": [
    {
     "name": "stdout",
     "output_type": "stream",
     "text": [
      "Project Root: /home/runner/work/crime-data/crime-data\n"
     ]
    },
    {
     "name": "stdout",
     "output_type": "stream",
     "text": [
      "Data saved to: /home/runner/work/crime-data/crime-data/data/charlottesville_crime_incidents.csv\n"
     ]
    },
    {
     "name": "stdout",
     "output_type": "stream",
     "text": [
      "Excel saved to: /home/runner/work/crime-data/crime-data/data/charlottesville_crime_incidents.xlsx\n"
     ]
    }
   ],
   "source": [
    "# Determine the project root (assuming papermill is run from the repository root)\n",
    "project_root = os.getcwd()\n",
    "print(\"Project Root:\", project_root)\n",
    "\n",
    "# Set the data directory within the project root\n",
    "data_dir = os.path.join(project_root, \"data\")\n",
    "\n",
    "# Ensure the \"data\" directory exists (create it if it doesn't)\n",
    "if not os.path.exists(data_dir):\n",
    "    os.makedirs(data_dir)\n",
    "\n",
    "# Export the DataFrame to CSV in the \"data\" folder located in the project root\n",
    "csv_path = os.path.join(data_dir, \"charlottesville_crime_incidents.csv\")\n",
    "df.to_csv(csv_path, index=False)\n",
    "print(\"Data saved to:\", csv_path)\n",
    "\n",
    "# Construct the path to your Excel file\n",
    "excel_path = os.path.join(data_dir, \"charlottesville_crime_incidents.xlsx\")\n",
    "\n",
    "# Export the DataFrame to Excel\n",
    "df.to_excel(excel_path, index=False)\n",
    "print(\"Excel saved to:\", excel_path)\n"
   ]
  },
  {
   "cell_type": "markdown",
   "id": "cff71a0b",
   "metadata": {
    "papermill": {
     "duration": 0.007731,
     "end_time": "2025-05-16T01:04:21.435926",
     "exception": false,
     "start_time": "2025-05-16T01:04:21.428195",
     "status": "completed"
    },
    "tags": []
   },
   "source": [
    "## Predictive Analytics"
   ]
  },
  {
   "cell_type": "code",
   "execution_count": 19,
   "id": "8d6aa274",
   "metadata": {
    "execution": {
     "iopub.execute_input": "2025-05-16T01:04:21.452661Z",
     "iopub.status.busy": "2025-05-16T01:04:21.452210Z",
     "iopub.status.idle": "2025-05-16T01:04:21.464448Z",
     "shell.execute_reply": "2025-05-16T01:04:21.463785Z"
    },
    "papermill": {
     "duration": 0.021824,
     "end_time": "2025-05-16T01:04:21.465511",
     "exception": false,
     "start_time": "2025-05-16T01:04:21.443687",
     "status": "completed"
    },
    "tags": []
   },
   "outputs": [
    {
     "data": {
      "text/html": [
       "<div>\n",
       "<style scoped>\n",
       "    .dataframe tbody tr th:only-of-type {\n",
       "        vertical-align: middle;\n",
       "    }\n",
       "\n",
       "    .dataframe tbody tr th {\n",
       "        vertical-align: top;\n",
       "    }\n",
       "\n",
       "    .dataframe thead th {\n",
       "        text-align: right;\n",
       "    }\n",
       "</style>\n",
       "<table border=\"1\" class=\"dataframe\">\n",
       "  <thead>\n",
       "    <tr style=\"text-align: right;\">\n",
       "      <th></th>\n",
       "      <th>RecordID</th>\n",
       "      <th>Offense</th>\n",
       "      <th>IncidentID</th>\n",
       "      <th>Agency</th>\n",
       "      <th>ReportingOfficer</th>\n",
       "      <th>Date</th>\n",
       "      <th>DayOfWeek</th>\n",
       "      <th>Weekend</th>\n",
       "      <th>Season</th>\n",
       "      <th>TimeOfDay</th>\n",
       "      <th>FullStreet</th>\n",
       "      <th>lat</th>\n",
       "      <th>lon</th>\n",
       "      <th>neighborhood</th>\n",
       "      <th>zip</th>\n",
       "    </tr>\n",
       "  </thead>\n",
       "  <tbody>\n",
       "    <tr>\n",
       "      <th>0</th>\n",
       "      <td>1</td>\n",
       "      <td>Harassment</td>\n",
       "      <td>202500016224</td>\n",
       "      <td>CPD</td>\n",
       "      <td>Miller, Devin</td>\n",
       "      <td>2025-05-14 00:36:30</td>\n",
       "      <td>Wednesday</td>\n",
       "      <td>False</td>\n",
       "      <td>Spring</td>\n",
       "      <td>Night</td>\n",
       "      <td>1400 MONTICELLO RD, 205</td>\n",
       "      <td>38.019453</td>\n",
       "      <td>-78.472626</td>\n",
       "      <td>Belmont</td>\n",
       "      <td>22902</td>\n",
       "    </tr>\n",
       "    <tr>\n",
       "      <th>1</th>\n",
       "      <td>2</td>\n",
       "      <td>Sex Offense - Forcible Rape</td>\n",
       "      <td>202500016209</td>\n",
       "      <td>CPD</td>\n",
       "      <td>Crowley, Raeann</td>\n",
       "      <td>2025-05-13 21:05:40</td>\n",
       "      <td>Tuesday</td>\n",
       "      <td>False</td>\n",
       "      <td>Spring</td>\n",
       "      <td>Night</td>\n",
       "      <td>4000 CITY WALK WAY, 419</td>\n",
       "      <td>38.025822</td>\n",
       "      <td>-78.469659</td>\n",
       "      <td>Martha Jefferson</td>\n",
       "      <td>22902</td>\n",
       "    </tr>\n",
       "    <tr>\n",
       "      <th>2</th>\n",
       "      <td>3</td>\n",
       "      <td>Assault Simple</td>\n",
       "      <td>202500016202</td>\n",
       "      <td>CPD</td>\n",
       "      <td>Love-Baker, Sydney</td>\n",
       "      <td>2025-05-13 19:44:56</td>\n",
       "      <td>Tuesday</td>\n",
       "      <td>False</td>\n",
       "      <td>Spring</td>\n",
       "      <td>Evening</td>\n",
       "      <td>2100 MICHIE DR, 23B</td>\n",
       "      <td>38.062986</td>\n",
       "      <td>-78.483828</td>\n",
       "      <td>Greenbrier</td>\n",
       "      <td>22901</td>\n",
       "    </tr>\n",
       "    <tr>\n",
       "      <th>3</th>\n",
       "      <td>4</td>\n",
       "      <td>Larceny - From Motor Vehicle</td>\n",
       "      <td>202500016191</td>\n",
       "      <td>CPD</td>\n",
       "      <td>Curry, Brian</td>\n",
       "      <td>2025-05-13 17:44:25</td>\n",
       "      <td>Tuesday</td>\n",
       "      <td>False</td>\n",
       "      <td>Spring</td>\n",
       "      <td>Evening</td>\n",
       "      <td>1900 CHESAPEAKE ST</td>\n",
       "      <td>38.022855</td>\n",
       "      <td>-78.455941</td>\n",
       "      <td>Woolen Mills</td>\n",
       "      <td>22902</td>\n",
       "    </tr>\n",
       "    <tr>\n",
       "      <th>4</th>\n",
       "      <td>5</td>\n",
       "      <td>Harassment</td>\n",
       "      <td>202500016169</td>\n",
       "      <td>CPD</td>\n",
       "      <td>Prevost, Payten</td>\n",
       "      <td>2025-05-13 14:40:25</td>\n",
       "      <td>Tuesday</td>\n",
       "      <td>False</td>\n",
       "      <td>Spring</td>\n",
       "      <td>Afternoon</td>\n",
       "      <td>200 E MAIN ST</td>\n",
       "      <td>38.030572</td>\n",
       "      <td>-78.480764</td>\n",
       "      <td>Downtown Mall</td>\n",
       "      <td>22902</td>\n",
       "    </tr>\n",
       "  </tbody>\n",
       "</table>\n",
       "</div>"
      ],
      "text/plain": [
       "   RecordID                       Offense    IncidentID Agency  \\\n",
       "0         1                    Harassment  202500016224    CPD   \n",
       "1         2   Sex Offense - Forcible Rape  202500016209    CPD   \n",
       "2         3                Assault Simple  202500016202    CPD   \n",
       "3         4  Larceny - From Motor Vehicle  202500016191    CPD   \n",
       "4         5                    Harassment  202500016169    CPD   \n",
       "\n",
       "     ReportingOfficer                Date  DayOfWeek  Weekend  Season  \\\n",
       "0       Miller, Devin 2025-05-14 00:36:30  Wednesday    False  Spring   \n",
       "1     Crowley, Raeann 2025-05-13 21:05:40    Tuesday    False  Spring   \n",
       "2  Love-Baker, Sydney 2025-05-13 19:44:56    Tuesday    False  Spring   \n",
       "3        Curry, Brian 2025-05-13 17:44:25    Tuesday    False  Spring   \n",
       "4     Prevost, Payten 2025-05-13 14:40:25    Tuesday    False  Spring   \n",
       "\n",
       "   TimeOfDay               FullStreet        lat        lon      neighborhood  \\\n",
       "0      Night  1400 MONTICELLO RD, 205  38.019453 -78.472626           Belmont   \n",
       "1      Night  4000 CITY WALK WAY, 419  38.025822 -78.469659  Martha Jefferson   \n",
       "2    Evening      2100 MICHIE DR, 23B  38.062986 -78.483828        Greenbrier   \n",
       "3    Evening       1900 CHESAPEAKE ST  38.022855 -78.455941      Woolen Mills   \n",
       "4  Afternoon            200 E MAIN ST  38.030572 -78.480764     Downtown Mall   \n",
       "\n",
       "     zip  \n",
       "0  22902  \n",
       "1  22902  \n",
       "2  22901  \n",
       "3  22902  \n",
       "4  22902  "
      ]
     },
     "execution_count": 19,
     "metadata": {},
     "output_type": "execute_result"
    }
   ],
   "source": [
    "df.head()"
   ]
  },
  {
   "cell_type": "code",
   "execution_count": 20,
   "id": "6c2710c9",
   "metadata": {
    "execution": {
     "iopub.execute_input": "2025-05-16T01:04:21.482790Z",
     "iopub.status.busy": "2025-05-16T01:04:21.482379Z",
     "iopub.status.idle": "2025-05-16T01:04:21.486931Z",
     "shell.execute_reply": "2025-05-16T01:04:21.486379Z"
    },
    "papermill": {
     "duration": 0.014279,
     "end_time": "2025-05-16T01:04:21.487942",
     "exception": false,
     "start_time": "2025-05-16T01:04:21.473663",
     "status": "completed"
    },
    "tags": []
   },
   "outputs": [
    {
     "data": {
      "text/plain": [
       "Index(['RecordID', 'Offense', 'IncidentID', 'Agency', 'ReportingOfficer',\n",
       "       'Date', 'DayOfWeek', 'Weekend', 'Season', 'TimeOfDay', 'FullStreet',\n",
       "       'lat', 'lon', 'neighborhood', 'zip'],\n",
       "      dtype='object')"
      ]
     },
     "execution_count": 20,
     "metadata": {},
     "output_type": "execute_result"
    }
   ],
   "source": [
    "df.columns"
   ]
  },
  {
   "cell_type": "markdown",
   "id": "7800b3b6",
   "metadata": {
    "papermill": {
     "duration": 0.007928,
     "end_time": "2025-05-16T01:04:21.504166",
     "exception": false,
     "start_time": "2025-05-16T01:04:21.496238",
     "status": "completed"
    },
    "tags": []
   },
   "source": [
    "### Data Preparation\n",
    "\n",
    "We need to ensure the data is in the correct format for modeling and can handle missing values, categorical variables, and dates. Here's how to prepare your data:"
   ]
  },
  {
   "cell_type": "code",
   "execution_count": 21,
   "id": "7b2150db",
   "metadata": {
    "execution": {
     "iopub.execute_input": "2025-05-16T01:04:21.521226Z",
     "iopub.status.busy": "2025-05-16T01:04:21.520758Z",
     "iopub.status.idle": "2025-05-16T01:04:24.412116Z",
     "shell.execute_reply": "2025-05-16T01:04:24.411419Z"
    },
    "papermill": {
     "duration": 2.901318,
     "end_time": "2025-05-16T01:04:24.413503",
     "exception": false,
     "start_time": "2025-05-16T01:04:21.512185",
     "status": "completed"
    },
    "tags": []
   },
   "outputs": [],
   "source": [
    "import pandas as pd\n",
    "from sklearn.model_selection import train_test_split\n",
    "from sklearn.preprocessing import OneHotEncoder, LabelEncoder\n",
    "from sklearn.ensemble import RandomForestClassifier\n",
    "from sklearn.linear_model import LogisticRegression\n",
    "from sklearn.tree import DecisionTreeClassifier\n",
    "from sklearn.metrics import classification_report, accuracy_score\n",
    "import seaborn as sns\n",
    "import matplotlib.pyplot as plt\n",
    "\n",
    "# Convert 'Date' to datetime\n",
    "df['Date'] = pd.to_datetime(df['Date'])\n",
    "\n",
    "# Feature engineering: Extract additional time-based features\n",
    "df['Year'] = df['Date'].dt.year\n",
    "df['Month'] = df['Date'].dt.month\n",
    "df['DayOfMonth'] = df['Date'].dt.day\n",
    "\n",
    "# One-hot encoding for 'FullStreet', 'neighborhood', 'zip'\n",
    "df = pd.get_dummies(df, columns=['FullStreet', 'neighborhood', 'zip'], drop_first=True)\n",
    "\n",
    "# Label encoding for ordered variables (those with a natural order like 'DayOfWeek', 'Season', 'TimeOfDay')\n",
    "label_encoders = {}\n",
    "for column in ['DayOfWeek', 'Season', 'TimeOfDay', 'Agency', 'ReportingOfficer']:  # Example ordinal variables\n",
    "    le = LabelEncoder()\n",
    "    df[column] = le.fit_transform(df[column])\n",
    "    label_encoders[column] = le\n",
    "\n",
    "# Filter the dataset to include only the offenses of interest\n",
    "offenses_of_interest = [\n",
    "    'Hit and Run', 'Assault Simple', 'Suspicious Activity', 'Vandalism', \n",
    "    'Larceny - From Mot Vehicle', 'Larceny - All Other', \n",
    "    'Assist Citizen - Mental/TDO/ECO', 'Lost/FoundProperty'\n",
    "]\n",
    "\n",
    "df = df[df['Offense'].isin(offenses_of_interest)]\n",
    "\n",
    "# Label encode the target variable (Offense)\n",
    "offense_encoder = LabelEncoder()\n",
    "df['Offense'] = offense_encoder.fit_transform(df['Offense'])\n",
    "\n",
    "# Separate features (X) and target (y)\n",
    "X = df[['Year', 'Month', 'DayOfMonth', 'DayOfWeek', 'Weekend', 'Season', 'TimeOfDay', 'lat', 'lon', 'Agency', 'ReportingOfficer']]\n",
    "y = df['Offense']  # Offense is now the encoded target variable\n",
    "\n",
    "# Split the data into training and testing sets\n",
    "X_train, X_test, y_train, y_test = train_test_split(X, y, test_size=0.3, random_state=42)\n"
   ]
  },
  {
   "cell_type": "markdown",
   "id": "32edb613",
   "metadata": {
    "papermill": {
     "duration": 0.008127,
     "end_time": "2025-05-16T01:04:24.430297",
     "exception": false,
     "start_time": "2025-05-16T01:04:24.422170",
     "status": "completed"
    },
    "tags": []
   },
   "source": [
    "### Model Training\n",
    "\n",
    "Here we will train several models (e.g., Random Forest, Logistic Regression, and Decision Tree). We will use cross-validation to choose the best model based on accuracy, and then explain the impact of the variables."
   ]
  },
  {
   "cell_type": "code",
   "execution_count": 22,
   "id": "7ae1f392",
   "metadata": {
    "execution": {
     "iopub.execute_input": "2025-05-16T01:04:24.448021Z",
     "iopub.status.busy": "2025-05-16T01:04:24.447423Z",
     "iopub.status.idle": "2025-05-16T01:04:27.916612Z",
     "shell.execute_reply": "2025-05-16T01:04:27.915910Z"
    },
    "papermill": {
     "duration": 3.479117,
     "end_time": "2025-05-16T01:04:27.917734",
     "exception": false,
     "start_time": "2025-05-16T01:04:24.438617",
     "status": "completed"
    },
    "tags": []
   },
   "outputs": [
    {
     "name": "stderr",
     "output_type": "stream",
     "text": [
      "/opt/hostedtoolcache/Python/3.9.22/x64/lib/python3.9/site-packages/sklearn/linear_model/_logistic.py:465: ConvergenceWarning: lbfgs failed to converge (status=1):\n",
      "STOP: TOTAL NO. of ITERATIONS REACHED LIMIT.\n",
      "\n",
      "Increase the number of iterations (max_iter) or scale the data as shown in:\n",
      "    https://scikit-learn.org/stable/modules/preprocessing.html\n",
      "Please also refer to the documentation for alternative solver options:\n",
      "    https://scikit-learn.org/stable/modules/linear_model.html#logistic-regression\n",
      "  n_iter_i = _check_optimize_result(\n",
      "/opt/hostedtoolcache/Python/3.9.22/x64/lib/python3.9/site-packages/sklearn/metrics/_classification.py:1565: UndefinedMetricWarning: Precision is ill-defined and being set to 0.0 in labels with no predicted samples. Use `zero_division` parameter to control this behavior.\n",
      "  _warn_prf(average, modifier, f\"{metric.capitalize()} is\", len(result))\n",
      "/opt/hostedtoolcache/Python/3.9.22/x64/lib/python3.9/site-packages/sklearn/metrics/_classification.py:1565: UndefinedMetricWarning: Precision is ill-defined and being set to 0.0 in labels with no predicted samples. Use `zero_division` parameter to control this behavior.\n",
      "  _warn_prf(average, modifier, f\"{metric.capitalize()} is\", len(result))\n",
      "/opt/hostedtoolcache/Python/3.9.22/x64/lib/python3.9/site-packages/sklearn/metrics/_classification.py:1565: UndefinedMetricWarning: Precision is ill-defined and being set to 0.0 in labels with no predicted samples. Use `zero_division` parameter to control this behavior.\n",
      "  _warn_prf(average, modifier, f\"{metric.capitalize()} is\", len(result))\n"
     ]
    },
    {
     "name": "stdout",
     "output_type": "stream",
     "text": [
      "\n",
      "Classification Report for All Models:\n",
      "\n",
      "Model: RandomForest\n",
      "Accuracy: 0.2806\n",
      "              precision    recall  f1-score      support\n",
      "0              0.285319  0.341060  0.310709   604.000000\n",
      "1              0.307918  0.253012  0.277778   415.000000\n",
      "2              0.309859  0.412698  0.353960   693.000000\n",
      "3              0.215190  0.181624  0.196987   468.000000\n",
      "4              0.325688  0.204611  0.251327   347.000000\n",
      "5              0.239130  0.217391  0.227743   506.000000\n",
      "6              0.269953  0.254425  0.261959   452.000000\n",
      "accuracy       0.280631  0.280631  0.280631     0.280631\n",
      "macro avg      0.279008  0.266403  0.268638  3485.000000\n",
      "weighted avg   0.278793  0.280631  0.275835  3485.000000\n"
     ]
    },
    {
     "data": {
      "image/png": "[encoded data removed]",
      "text/plain": [
       "<Figure size 800x600 with 2 Axes>"
      ]
     },
     "metadata": {},
     "output_type": "display_data"
    },
    {
     "name": "stdout",
     "output_type": "stream",
     "text": [
      "\n",
      "Model: LogisticRegression\n",
      "Accuracy: 0.2204\n",
      "              precision    recall  f1-score      support\n",
      "0              0.205298  0.513245  0.293283   604.000000\n",
      "1              0.000000  0.000000  0.000000   415.000000\n",
      "2              0.231670  0.656566  0.342492   693.000000\n",
      "3              0.250000  0.002137  0.004237   468.000000\n",
      "4              0.000000  0.000000  0.000000   347.000000\n",
      "5              0.000000  0.000000  0.000000   506.000000\n",
      "6              0.400000  0.004425  0.008753   452.000000\n",
      "accuracy       0.220373  0.220373  0.220373     0.220373\n",
      "macro avg      0.155281  0.168053  0.092681  3485.000000\n",
      "weighted avg   0.167101  0.220373  0.120640  3485.000000\n"
     ]
    },
    {
     "data": {
      "image/png": "[encoded data removed]",
      "text/plain": [
       "<Figure size 800x600 with 2 Axes>"
      ]
     },
     "metadata": {},
     "output_type": "display_data"
    },
    {
     "name": "stdout",
     "output_type": "stream",
     "text": [
      "\n",
      "Model: DecisionTree\n",
      "Accuracy: 0.2221\n",
      "              precision    recall  f1-score      support\n",
      "0              0.237838  0.218543  0.227783   604.000000\n",
      "1              0.218962  0.233735  0.226107   415.000000\n",
      "2              0.285285  0.274170  0.279617   693.000000\n",
      "3              0.168750  0.173077  0.170886   468.000000\n",
      "4              0.206349  0.187320  0.196375   347.000000\n",
      "5              0.214022  0.229249  0.221374   506.000000\n",
      "6              0.192149  0.205752  0.198718   452.000000\n",
      "accuracy       0.222095  0.222095  0.222095     0.222095\n",
      "macro avg      0.217622  0.217407  0.217266  3485.000000\n",
      "weighted avg   0.223228  0.222095  0.222423  3485.000000\n"
     ]
    },
    {
     "data": {
      "image/png": "[encoded data removed]",
      "text/plain": [
       "<Figure size 800x600 with 2 Axes>"
      ]
     },
     "metadata": {},
     "output_type": "display_data"
    },
    {
     "name": "stdout",
     "output_type": "stream",
     "text": [
      "\n",
      "Best Model:\n",
      "Best Model: RandomForestClassifier()\n",
      "Best Model Accuracy: 0.2806\n"
     ]
    }
   ],
   "source": [
    "import pandas as pd\n",
    "from sklearn.model_selection import train_test_split\n",
    "from sklearn.ensemble import RandomForestClassifier\n",
    "from sklearn.linear_model import LogisticRegression\n",
    "from sklearn.tree import DecisionTreeClassifier\n",
    "from sklearn.metrics import classification_report, accuracy_score, confusion_matrix\n",
    "import seaborn as sns\n",
    "import matplotlib.pyplot as plt\n",
    "\n",
    "# Define models\n",
    "models = {\n",
    "    'RandomForest': RandomForestClassifier(),\n",
    "    'LogisticRegression': LogisticRegression(max_iter=1000),\n",
    "    'DecisionTree': DecisionTreeClassifier()\n",
    "}\n",
    "\n",
    "# Train models and evaluate them\n",
    "best_model = None\n",
    "best_score = 0\n",
    "model_reports = {}\n",
    "\n",
    "for model_name, model in models.items():\n",
    "    model.fit(X_train, y_train)  # Train model\n",
    "    y_pred = model.predict(X_test)  # Make predictions\n",
    "    \n",
    "    # Calculate accuracy and generate classification report\n",
    "    accuracy = accuracy_score(y_test, y_pred)\n",
    "    model_reports[model_name] = classification_report(y_test, y_pred, output_dict=True)  # Store as a dictionary for easier analysis\n",
    "    \n",
    "    # Track best performing model\n",
    "    if accuracy > best_score:\n",
    "        best_score = accuracy\n",
    "        best_model = model\n",
    "\n",
    "# Display classification reports and confusion matrices\n",
    "print(\"\\nClassification Report for All Models:\")\n",
    "for model_name, report in model_reports.items():\n",
    "    print(f\"\\nModel: {model_name}\")\n",
    "    print(\"Accuracy: {:.4f}\".format(accuracy_score(y_test, models[model_name].predict(X_test))))  # Display accuracy\n",
    "    print(pd.DataFrame(report).transpose())  # Display classification report as a DataFrame\n",
    "\n",
    "    # Plot Confusion Matrix\n",
    "    cm = confusion_matrix(y_test, models[model_name].predict(X_test))\n",
    "    plt.figure(figsize=(8, 6))\n",
    "    sns.heatmap(cm, annot=True, fmt=\"d\", cmap='Blues', xticklabels=offense_encoder.classes_, yticklabels=offense_encoder.classes_)\n",
    "    plt.title(f\"Confusion Matrix - {model_name}\")\n",
    "    plt.xlabel('Predicted Labels')\n",
    "    plt.ylabel('True Labels')\n",
    "    plt.show()\n",
    "\n",
    "# Display best model details\n",
    "print(\"\\nBest Model:\")\n",
    "print(f\"Best Model: {best_model}\")\n",
    "print(f\"Best Model Accuracy: {best_score:.4f}\")\n"
   ]
  },
  {
   "cell_type": "markdown",
   "id": "96a39cea",
   "metadata": {
    "papermill": {
     "duration": 0.010733,
     "end_time": "2025-05-16T01:04:27.940169",
     "exception": false,
     "start_time": "2025-05-16T01:04:27.929436",
     "status": "completed"
    },
    "tags": []
   },
   "source": [
    "#### Classification Report for All Models:\n",
    "\n",
    "### Explanation of the Classification Results (RandomForest Model)\n",
    "\n",
    "The results you provided are from a **Random Forest** model, which is used for predicting different types of offenses. Let's break down the key components of the results:\n",
    "\n",
    "#### 1. **Accuracy: 0.2822**\n",
    "   - **Accuracy** measures the overall percentage of correct predictions made by the model. An accuracy of 28.22% means the model correctly predicted the offense in about 28% of the cases. This indicates the model's predictions are not highly reliable, as the accuracy is quite low.\n",
    "\n",
    "#### 2. **Classification Report:**\n",
    "   The classification report includes precision, recall, and F1-score for each offense. Let's go over these terms and how they apply to the results:\n",
    "\n",
    "   - **Precision**: The proportion of true positive predictions out of all positive predictions made by the model for a specific class (offense).\n",
    "   - **Recall**: The proportion of true positive predictions out of all actual positive instances in the dataset.\n",
    "   - **F1-Score**: The harmonic mean of precision and recall, providing a balance between the two metrics.\n",
    "   - **Support**: The number of actual occurrences of each class in the test set.\n",
    "\n",
    "   Let's analyze each offense based on these metrics:\n",
    "\n",
    "   | **Offense**                        | **Precision** | **Recall** | **F1-Score** | **Support** |\n",
    "   |------------------------------------|---------------|------------|--------------|-------------|\n",
    "   | **Assault Simple**                 | 0.2892        | 0.3754     | 0.3267       | 594         |\n",
    "   | **Assist Citizen - Mental/TDO/ECO**| 0.3182        | 0.2274     | 0.2652       | 431         |\n",
    "   | **Hit and Run**                    | 0.2963        | 0.4765     | 0.3654       | 638         |\n",
    "   | **Larceny - All Other**            | 0.2270        | 0.1453     | 0.1772       | 475         |\n",
    "   | **Lost/FoundProperty**             | 0.3333        | 0.2102     | 0.2578       | 352         |\n",
    "   | **Suspicious Activity**            | 0.2344        | 0.2169     | 0.2253       | 484         |\n",
    "   | **Vandalism**                      | 0.2712        | 0.2106     | 0.2371       | 470         |\n",
    "\n",
    "#### 3. **Key Insights from the Report:**\n",
    "\n",
    "- **Precision**:\n",
    "   - The highest precision is for **Larceny - All Other** (0.3333), indicating that when the model predicts this offense, it is correct about 33% of the time. However, this is still quite low.\n",
    "   - **Assist Citizen - Mental/TDO/ECO** has the lowest precision (0.2269), meaning that the model's predictions for this offense tend to be wrong more often than correct.\n",
    "\n",
    "- **Recall**:\n",
    "   - **Hit and Run** has the highest recall (0.4765), meaning the model identifies about 48% of the actual occurrences of this offense. This is better than the precision, which indicates it is missing many true positives but is still able to identify a fair number of cases.\n",
    "   - **Larceny - All Other** and **Suspicious Activity** have the lowest recall values (0.1453 and 0.2169, respectively), indicating that the model is failing to identify most of the actual cases for these offenses.\n",
    "\n",
    "- **F1-Score**:\n",
    "   - The **F1-Score** balances precision and recall. It is highest for **Hit and Run** (0.3654), but still relatively low overall. This suggests the model is better at identifying **Hit and Run** than other offenses but still has room for improvement.\n",
    "   - **Larceny - All Other** has the lowest F1-Score (0.1772), indicating a poor balance between precision and recall for this offense.\n",
    "\n",
    "#### 4. **Macro Average and Weighted Average:**\n",
    "   - **Macro Average**: This gives the average precision, recall, and F1-Score across all classes (offenses) without considering the class distribution. It averages the results for all offenses equally.\n",
    "     - Precision: 0.2814\n",
    "     - Recall: 0.2661\n",
    "     - F1-Score: 0.2649\n",
    "   - **Weighted Average**: This averages the metrics but weighs each class by its support (the number of true instances in the test set). This gives a better sense of overall performance, considering the class distribution.\n",
    "     - Precision: 0.2799\n",
    "     - Recall: 0.2822\n",
    "     - F1-Score: 0.2720\n",
    "\n",
    "#### 5. **Confusion Matrix (Visualization Analysis)**:\n",
    "   - The confusion matrix shows the distribution of true positive, false positive, true negative, and false negative predictions for each class.\n",
    "     - For **Hit and Run**, the model performs relatively well in identifying this offense (304 true positives). However, it also misclassifies some **Hit and Run** instances as other offenses (e.g., **Assault Simple**, **Suspicious Activity**, etc.).\n",
    "     - **Larceny - All Other** is frequently misclassified as **Hit and Run**, **Suspicious Activity**, and others. This is evident from the large number of off-diagonal elements in its row.\n",
    "     - **Assist Citizen - Mental/TDO/ECO** and **Suspicious Activity** are frequently misclassified, as seen by the off-diagonal values in their rows.\n",
    "\n",
    "### Conclusion:\n",
    "The Random Forest model has low accuracy (28.22%), suggesting that it struggles to predict most offenses accurately. Some offenses like **Hit and Run** are better predicted than others, but overall, the model shows a high level of misclassification across all offenses. There may be a need for further tuning of the model, additional feature engineering, or trying different models for better performance.\n",
    "\n",
    "Let me know if you'd like to improve the model or make adjustments based on these results!\n",
    "\n"
   ]
  },
  {
   "cell_type": "markdown",
   "id": "eef1d05e",
   "metadata": {
    "papermill": {
     "duration": 0.010649,
     "end_time": "2025-05-16T01:04:27.961507",
     "exception": false,
     "start_time": "2025-05-16T01:04:27.950858",
     "status": "completed"
    },
    "tags": []
   },
   "source": [
    "### Model Explanation\n",
    "\n",
    "Once we’ve chosen the best model, we will explain its predictions by examining feature importance for tree-based models and using statistical methods like logistic regression coefficients for linear models."
   ]
  },
  {
   "cell_type": "markdown",
   "id": "1db7e79e",
   "metadata": {
    "papermill": {
     "duration": 0.01055,
     "end_time": "2025-05-16T01:04:27.982862",
     "exception": false,
     "start_time": "2025-05-16T01:04:27.972312",
     "status": "completed"
    },
    "tags": []
   },
   "source": [
    "#### Feature Importance for Random Forest / Decision Tree\n",
    "\n",
    "##### For Tree-based Models (Random Forest, Decision Tree)\n",
    "\n",
    "For Random Forest or Decision Tree, we can look at feature importance to understand which variables contribute the most to the model's predictions. Here's how you can visualize and interpret the importance of each feature:"
   ]
  },
  {
   "cell_type": "code",
   "execution_count": 23,
   "id": "252713a7",
   "metadata": {
    "execution": {
     "iopub.execute_input": "2025-05-16T01:04:28.005810Z",
     "iopub.status.busy": "2025-05-16T01:04:28.005169Z",
     "iopub.status.idle": "2025-05-16T01:04:28.263700Z",
     "shell.execute_reply": "2025-05-16T01:04:28.263005Z"
    },
    "papermill": {
     "duration": 0.271305,
     "end_time": "2025-05-16T01:04:28.264815",
     "exception": false,
     "start_time": "2025-05-16T01:04:27.993510",
     "status": "completed"
    },
    "tags": []
   },
   "outputs": [
    {
     "data": {
      "image/png": "[encoded data removed]",
      "text/plain": [
       "<Figure size 1000x600 with 1 Axes>"
      ]
     },
     "metadata": {},
     "output_type": "display_data"
    }
   ],
   "source": [
    "# For RandomForest or DecisionTree models, we can check feature importance\n",
    "if isinstance(best_model, RandomForestClassifier) or isinstance(best_model, DecisionTreeClassifier):\n",
    "    feature_importance = best_model.feature_importances_\n",
    "    feature_names = X.columns\n",
    "    importance_df = pd.DataFrame({'Feature': feature_names, 'Importance': feature_importance})\n",
    "    importance_df = importance_df.sort_values(by='Importance', ascending=False)\n",
    "    \n",
    "    # Plotting the feature importances\n",
    "    plt.figure(figsize=(10, 6))\n",
    "    sns.barplot(x='Importance', y='Feature', data=importance_df)\n",
    "    plt.title(\"Feature Importance\")\n",
    "    plt.show()\n"
   ]
  },
  {
   "cell_type": "code",
   "execution_count": null,
   "id": "656703cd",
   "metadata": {
    "papermill": {
     "duration": 0.011078,
     "end_time": "2025-05-16T01:04:28.287585",
     "exception": false,
     "start_time": "2025-05-16T01:04:28.276507",
     "status": "completed"
    },
    "tags": []
   },
   "outputs": [],
   "source": []
  },
  {
   "cell_type": "markdown",
   "id": "774db937",
   "metadata": {
    "papermill": {
     "duration": 0.011009,
     "end_time": "2025-05-16T01:04:28.309672",
     "exception": false,
     "start_time": "2025-05-16T01:04:28.298663",
     "status": "completed"
    },
    "tags": []
   },
   "source": [
    "### Evaluation\n",
    "\n",
    "After training the models and examining their performance, we evaluate the chosen model based on metrics like accuracy, precision, recall, and F1 score.\n",
    "\n"
   ]
  },
  {
   "cell_type": "code",
   "execution_count": 24,
   "id": "ed3f7e7c",
   "metadata": {
    "execution": {
     "iopub.execute_input": "2025-05-16T01:04:28.332791Z",
     "iopub.status.busy": "2025-05-16T01:04:28.332360Z",
     "iopub.status.idle": "2025-05-16T01:04:28.421912Z",
     "shell.execute_reply": "2025-05-16T01:04:28.421232Z"
    },
    "papermill": {
     "duration": 0.102361,
     "end_time": "2025-05-16T01:04:28.423055",
     "exception": false,
     "start_time": "2025-05-16T01:04:28.320694",
     "status": "completed"
    },
    "tags": []
   },
   "outputs": [
    {
     "name": "stdout",
     "output_type": "stream",
     "text": [
      "Accuracy: 0.2806\n",
      "Classification Report:\n",
      "              precision    recall  f1-score   support\n",
      "\n",
      "           0       0.29      0.34      0.31       604\n",
      "           1       0.31      0.25      0.28       415\n",
      "           2       0.31      0.41      0.35       693\n",
      "           3       0.22      0.18      0.20       468\n",
      "           4       0.33      0.20      0.25       347\n",
      "           5       0.24      0.22      0.23       506\n",
      "           6       0.27      0.25      0.26       452\n",
      "\n",
      "    accuracy                           0.28      3485\n",
      "   macro avg       0.28      0.27      0.27      3485\n",
      "weighted avg       0.28      0.28      0.28      3485\n",
      "\n",
      "Confusion Matrix:\n",
      "[[206  67 151  47  17  73  43]\n",
      " [100 105  84  36  17  45  28]\n",
      " [111  43 286  67  24  90  72]\n",
      " [ 85  29 110  85  39  54  66]\n",
      " [ 57  27  77  35  71  28  52]\n",
      " [ 91  39 126  64  26 110  50]\n",
      " [ 72  31  89  61  24  60 115]]\n",
      "Precision: 0.2788\n",
      "Recall: 0.2806\n",
      "F1 Score: 0.2758\n"
     ]
    }
   ],
   "source": [
    "from sklearn.metrics import classification_report, confusion_matrix, accuracy_score, precision_score, recall_score, f1_score\n",
    "\n",
    "# Predict on the test set\n",
    "y_pred = best_model.predict(X_test)\n",
    "\n",
    "# Calculate Accuracy\n",
    "accuracy = accuracy_score(y_test, y_pred)\n",
    "print(f\"Accuracy: {accuracy:.4f}\")\n",
    "\n",
    "# Classification Report\n",
    "print(\"Classification Report:\")\n",
    "print(classification_report(y_test, y_pred))\n",
    "\n",
    "# Confusion Matrix\n",
    "conf_matrix = confusion_matrix(y_test, y_pred)\n",
    "print(\"Confusion Matrix:\")\n",
    "print(conf_matrix)\n",
    "\n",
    "# Precision, Recall, F1 Score for each class (Offense Type)\n",
    "precision = precision_score(y_test, y_pred, average='weighted')\n",
    "recall = recall_score(y_test, y_pred, average='weighted')\n",
    "f1 = f1_score(y_test, y_pred, average='weighted')\n",
    "\n",
    "print(f\"Precision: {precision:.4f}\")\n",
    "print(f\"Recall: {recall:.4f}\")\n",
    "print(f\"F1 Score: {f1:.4f}\")\n"
   ]
  },
  {
   "cell_type": "markdown",
   "id": "e188f29a",
   "metadata": {
    "papermill": {
     "duration": 0.011093,
     "end_time": "2025-05-16T01:04:28.445764",
     "exception": false,
     "start_time": "2025-05-16T01:04:28.434671",
     "status": "completed"
    },
    "tags": []
   },
   "source": [
    "#### For Logistic Regression (Coefficient Interpretation)\n",
    "\n",
    "For Logistic Regression, the model coefficients can help us understand how each feature affects the likelihood of an offense happening. A positive coefficient indicates a feature increases the likelihood of the offense, and a negative coefficient indicates the opposite."
   ]
  },
  {
   "cell_type": "code",
   "execution_count": 25,
   "id": "5743ad45",
   "metadata": {
    "execution": {
     "iopub.execute_input": "2025-05-16T01:04:28.469126Z",
     "iopub.status.busy": "2025-05-16T01:04:28.468615Z",
     "iopub.status.idle": "2025-05-16T01:04:28.473423Z",
     "shell.execute_reply": "2025-05-16T01:04:28.472777Z"
    },
    "papermill": {
     "duration": 0.017524,
     "end_time": "2025-05-16T01:04:28.474444",
     "exception": false,
     "start_time": "2025-05-16T01:04:28.456920",
     "status": "completed"
    },
    "tags": []
   },
   "outputs": [],
   "source": [
    "if isinstance(best_model, LogisticRegression):\n",
    "    # Logistic regression coefficients\n",
    "    coef_df = pd.DataFrame({\n",
    "        'Feature': X.columns,\n",
    "        'Coefficient': best_model.coef_[0]\n",
    "    })\n",
    "    coef_df['AbsCoefficient'] = coef_df['Coefficient'].abs()\n",
    "    coef_df = coef_df.sort_values(by='AbsCoefficient', ascending=False)\n",
    "    \n",
    "    # Plotting the coefficients\n",
    "    plt.figure(figsize=(10, 6))\n",
    "    sns.barplot(x='AbsCoefficient', y='Feature', data=coef_df)\n",
    "    plt.title(\"Logistic Regression Coefficients Impact\")\n",
    "    plt.show()\n",
    "\n",
    "    # Print the top 5 most impactful features (by absolute coefficient value)\n",
    "    print(\"Top 5 most impactful features based on coefficients:\")\n",
    "    print(coef_df.head())\n"
   ]
  },
  {
   "cell_type": "markdown",
   "id": "b9588e65",
   "metadata": {
    "papermill": {
     "duration": 0.011053,
     "end_time": "2025-05-16T01:04:28.496685",
     "exception": false,
     "start_time": "2025-05-16T01:04:28.485632",
     "status": "completed"
    },
    "tags": []
   },
   "source": [
    "Explanation of Output:\n",
    "\n",
    "Feature Importance (Random Forest/Decision Tree): The bar plot will show how important each feature is in the decision-making process. Features at the top of the list are the most influential in predicting the occurrence of offenses.\n",
    "\n",
    "Logistic Regression Coefficients: The bar plot will show the magnitude of the coefficients for each feature. Features with larger absolute values (either positive or negative) have a stronger impact on the model’s predictions. Positive coefficients increase the probability of an offense, while negative coefficients decrease it."
   ]
  },
  {
   "cell_type": "markdown",
   "id": "f7aa4822",
   "metadata": {
    "papermill": {
     "duration": 0.011193,
     "end_time": "2025-05-16T01:04:28.519076",
     "exception": false,
     "start_time": "2025-05-16T01:04:28.507883",
     "status": "completed"
    },
    "tags": []
   },
   "source": []
  }
 ],
 "metadata": {
  "kernelspec": {
   "display_name": "Python 3",
   "language": "python",
   "name": "python3"
  },
  "language_info": {
   "codemirror_mode": {
    "name": "ipython",
    "version": 3
   },
   "file_extension": ".py",
   "mimetype": "text/x-python",
   "name": "python",
   "nbconvert_exporter": "python",
   "pygments_lexer": "ipython3",
   "version": "3.9.22"
  },
  "papermill": {
   "default_parameters": {},
   "duration": 80.368417,
   "end_time": "2025-05-16T01:04:28.946935",
   "environment_variables": {},
   "exception": null,
   "input_path": "notebook/Crime Data.ipynb",
   "output_path": "notebook/Crime Data_output.ipynb",
   "parameters": {},
   "start_time": "2025-05-16T01:03:08.578518",
   "version": "2.6.0"
  }
 },
 "nbformat": 4,
 "nbformat_minor": 5
}