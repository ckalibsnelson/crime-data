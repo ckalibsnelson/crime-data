{
 "cells": [
  {
   "cell_type": "markdown",
   "id": "84fd2a29",
   "metadata": {
    "papermill": {
     "duration": 0.0043,
     "end_time": "2025-08-12T01:04:22.999302",
     "exception": false,
     "start_time": "2025-08-12T01:04:22.995002",
     "status": "completed"
    },
    "tags": []
   },
   "source": [
    "# Charlottesville Open Data Porttal: Crime Data"
   ]
  },
  {
   "cell_type": "markdown",
   "id": "c82ee0cd",
   "metadata": {
    "papermill": {
     "duration": 0.004254,
     "end_time": "2025-08-12T01:04:23.007158",
     "exception": false,
     "start_time": "2025-08-12T01:04:23.002904",
     "status": "completed"
    },
    "tags": []
   },
   "source": [
    "## Import Relevant Librarires & Set WD"
   ]
  },
  {
   "cell_type": "code",
   "execution_count": 1,
   "id": "12388c0c",
   "metadata": {
    "execution": {
     "iopub.execute_input": "2025-08-12T01:04:23.014995Z",
     "iopub.status.busy": "2025-08-12T01:04:23.014772Z",
     "iopub.status.idle": "2025-08-12T01:04:23.670501Z",
     "shell.execute_reply": "2025-08-12T01:04:23.669846Z"
    },
    "papermill": {
     "duration": 0.661368,
     "end_time": "2025-08-12T01:04:23.671855",
     "exception": false,
     "start_time": "2025-08-12T01:04:23.010487",
     "status": "completed"
    },
    "tags": []
   },
   "outputs": [],
   "source": [
    "import requests\n",
    "import pandas as pd\n",
    "import numpy as np\n",
    "import pickle\n",
    "import googlemaps\n",
    "import plotly.express as px\n",
    "from geopy.geocoders import Nominatim\n",
    "import time\n",
    "from dotenv import load_dotenv\n",
    "import os\n",
    "\n",
    "env_path = os.path.join(\"..\", \".env\")\n",
    "#print(\"Looking for .env file at:\", os.path.abspath(env_path))\n",
    "load_dotenv(dotenv_path=env_path)\n",
    "\n",
    "# Retrieve the variables\n",
    "GOOGLE_API_KEY = os.getenv(\"GOOGLE_API_KEY\")\n",
    "WORKING_DIR = os.getenv(\"WORKING_DIR\")\n",
    "\n",
    "if GOOGLE_API_KEY is None or WORKING_DIR is None:\n",
    "    raise RuntimeError(\"No configuration found. Please ensure that your .env file exists with the required variables, or create a local config.py file.\")\n",
    "\n",
    "#print(\"Google API Key:\", GOOGLE_API_KEY)\n",
    "#print(\"Working Directory:\", WORKING_DIR)"
   ]
  },
  {
   "cell_type": "markdown",
   "id": "71c3c93e",
   "metadata": {
    "papermill": {
     "duration": 0.003319,
     "end_time": "2025-08-12T01:04:23.678851",
     "exception": false,
     "start_time": "2025-08-12T01:04:23.675532",
     "status": "completed"
    },
    "tags": []
   },
   "source": [
    "## Import Data\n",
    "\n",
    "URL: https://opendata.charlottesville.org/datasets/charlottesville::crime-data/about"
   ]
  },
  {
   "cell_type": "code",
   "execution_count": 2,
   "id": "08e97bec",
   "metadata": {
    "execution": {
     "iopub.execute_input": "2025-08-12T01:04:23.686472Z",
     "iopub.status.busy": "2025-08-12T01:04:23.686160Z",
     "iopub.status.idle": "2025-08-12T01:05:34.967864Z",
     "shell.execute_reply": "2025-08-12T01:05:34.967140Z"
    },
    "papermill": {
     "duration": 71.289569,
     "end_time": "2025-08-12T01:05:34.971721",
     "exception": false,
     "start_time": "2025-08-12T01:04:23.682152",
     "status": "completed"
    },
    "tags": []
   },
   "outputs": [
    {
     "name": "stdout",
     "output_type": "stream",
     "text": [
      "Total records imported: 25642\n"
     ]
    }
   ],
   "source": [
    "# Define the endpoint and initial parameters.\n",
    "url = \"https://gisweb.charlottesville.org/arcgis/rest/services/OpenData_2/MapServer/6/query\"\n",
    "params = {\n",
    "    \"where\": \"1=1\",\n",
    "    \"outFields\": \"*\",\n",
    "    \"outSR\": 4326,\n",
    "    \"f\": \"json\",\n",
    "    \"resultOffset\": 0,       # Starting index for results\n",
    "    \"resultRecordCount\": 10000  # Maximum records per batch (if allowed by the API)\n",
    "}\n",
    "\n",
    "records = []\n",
    "\n",
    "while True:\n",
    "    response = requests.get(url, params=params)\n",
    "    response.raise_for_status()\n",
    "    data = response.json()\n",
    "    \n",
    "    # Get the current batch of features.\n",
    "    features = data.get(\"features\", [])\n",
    "    if not features:\n",
    "        break\n",
    "\n",
    "    # Extract the attributes from the features.\n",
    "    batch_records = [feature.get(\"attributes\", {}) for feature in features]\n",
    "    records.extend(batch_records)\n",
    "    \n",
    "    # If the batch size is less than the requested count, we reached the end.\n",
    "    if len(features) < params[\"resultRecordCount\"]:\n",
    "        break\n",
    "\n",
    "    # Update the resultOffset for the next batch.\n",
    "    params[\"resultOffset\"] += params[\"resultRecordCount\"]\n",
    "\n",
    "# Create a DataFrame from the combined records.\n",
    "df = pd.DataFrame(records)\n",
    "print(\"Total records imported:\", len(df))\n"
   ]
  },
  {
   "cell_type": "code",
   "execution_count": 3,
   "id": "78db4020",
   "metadata": {
    "execution": {
     "iopub.execute_input": "2025-08-12T01:05:34.979693Z",
     "iopub.status.busy": "2025-08-12T01:05:34.979445Z",
     "iopub.status.idle": "2025-08-12T01:05:34.991836Z",
     "shell.execute_reply": "2025-08-12T01:05:34.991154Z"
    },
    "papermill": {
     "duration": 0.017524,
     "end_time": "2025-08-12T01:05:34.992841",
     "exception": false,
     "start_time": "2025-08-12T01:05:34.975317",
     "status": "completed"
    },
    "tags": []
   },
   "outputs": [
    {
     "data": {
      "text/html": [
       "<div>\n",
       "<style scoped>\n",
       "    .dataframe tbody tr th:only-of-type {\n",
       "        vertical-align: middle;\n",
       "    }\n",
       "\n",
       "    .dataframe tbody tr th {\n",
       "        vertical-align: top;\n",
       "    }\n",
       "\n",
       "    .dataframe thead th {\n",
       "        text-align: right;\n",
       "    }\n",
       "</style>\n",
       "<table border=\"1\" class=\"dataframe\">\n",
       "  <thead>\n",
       "    <tr style=\"text-align: right;\">\n",
       "      <th></th>\n",
       "      <th>RecordID</th>\n",
       "      <th>Offense</th>\n",
       "      <th>IncidentID</th>\n",
       "      <th>BlockNumber</th>\n",
       "      <th>StreetName</th>\n",
       "      <th>Agency</th>\n",
       "      <th>DateReported</th>\n",
       "      <th>HourReported</th>\n",
       "      <th>ReportingOfficer</th>\n",
       "    </tr>\n",
       "  </thead>\n",
       "  <tbody>\n",
       "    <tr>\n",
       "      <th>0</th>\n",
       "      <td>1</td>\n",
       "      <td>Vandalism</td>\n",
       "      <td>202500028237</td>\n",
       "      <td>600</td>\n",
       "      <td>E WATER ST</td>\n",
       "      <td>CPD</td>\n",
       "      <td>1754802426000</td>\n",
       "      <td>0107</td>\n",
       "      <td>Benbow, Lauren</td>\n",
       "    </tr>\n",
       "    <tr>\n",
       "      <th>1</th>\n",
       "      <td>2</td>\n",
       "      <td>Assault Simple</td>\n",
       "      <td>202500028224</td>\n",
       "      <td>1400</td>\n",
       "      <td>UNIVERSITY AVE</td>\n",
       "      <td>CPD</td>\n",
       "      <td>1754797415000</td>\n",
       "      <td>2343</td>\n",
       "      <td>Rigsby, Lloyd</td>\n",
       "    </tr>\n",
       "    <tr>\n",
       "      <th>2</th>\n",
       "      <td>3</td>\n",
       "      <td>Hit and Run</td>\n",
       "      <td>202500028219</td>\n",
       "      <td>1000</td>\n",
       "      <td>W MAIN ST</td>\n",
       "      <td>CPD</td>\n",
       "      <td>1754796222000</td>\n",
       "      <td>2323</td>\n",
       "      <td>Benbow, Lauren</td>\n",
       "    </tr>\n",
       "    <tr>\n",
       "      <th>3</th>\n",
       "      <td>4</td>\n",
       "      <td>Drunkeness DIP</td>\n",
       "      <td>202500028187</td>\n",
       "      <td></td>\n",
       "      <td>JEFFERSON PARK AVE / MAURY AVE</td>\n",
       "      <td>CPD</td>\n",
       "      <td>1754783078000</td>\n",
       "      <td>1944</td>\n",
       "      <td>Rigsby, Lloyd</td>\n",
       "    </tr>\n",
       "    <tr>\n",
       "      <th>4</th>\n",
       "      <td>5</td>\n",
       "      <td>Larceny - From Motor Vehicle</td>\n",
       "      <td>202500028164</td>\n",
       "      <td>800</td>\n",
       "      <td>W MAIN ST</td>\n",
       "      <td>CPD</td>\n",
       "      <td>1754775631000</td>\n",
       "      <td>1740</td>\n",
       "      <td>Abdelgayed, Adam</td>\n",
       "    </tr>\n",
       "  </tbody>\n",
       "</table>\n",
       "</div>"
      ],
      "text/plain": [
       "   RecordID                       Offense    IncidentID BlockNumber  \\\n",
       "0         1                     Vandalism  202500028237         600   \n",
       "1         2                Assault Simple  202500028224        1400   \n",
       "2         3                   Hit and Run  202500028219        1000   \n",
       "3         4                Drunkeness DIP  202500028187               \n",
       "4         5  Larceny - From Motor Vehicle  202500028164         800   \n",
       "\n",
       "                       StreetName Agency   DateReported HourReported  \\\n",
       "0                      E WATER ST    CPD  1754802426000         0107   \n",
       "1                  UNIVERSITY AVE    CPD  1754797415000         2343   \n",
       "2                       W MAIN ST    CPD  1754796222000         2323   \n",
       "3  JEFFERSON PARK AVE / MAURY AVE    CPD  1754783078000         1944   \n",
       "4                       W MAIN ST    CPD  1754775631000         1740   \n",
       "\n",
       "   ReportingOfficer  \n",
       "0    Benbow, Lauren  \n",
       "1     Rigsby, Lloyd  \n",
       "2    Benbow, Lauren  \n",
       "3     Rigsby, Lloyd  \n",
       "4  Abdelgayed, Adam  "
      ]
     },
     "execution_count": 3,
     "metadata": {},
     "output_type": "execute_result"
    }
   ],
   "source": [
    "df.head()"
   ]
  },
  {
   "cell_type": "code",
   "execution_count": 4,
   "id": "eee71c56",
   "metadata": {
    "execution": {
     "iopub.execute_input": "2025-08-12T01:05:35.000861Z",
     "iopub.status.busy": "2025-08-12T01:05:35.000648Z",
     "iopub.status.idle": "2025-08-12T01:05:35.004484Z",
     "shell.execute_reply": "2025-08-12T01:05:35.003960Z"
    },
    "papermill": {
     "duration": 0.008924,
     "end_time": "2025-08-12T01:05:35.005468",
     "exception": false,
     "start_time": "2025-08-12T01:05:34.996544",
     "status": "completed"
    },
    "tags": []
   },
   "outputs": [
    {
     "data": {
      "text/plain": [
       "Index(['RecordID', 'Offense', 'IncidentID', 'BlockNumber', 'StreetName',\n",
       "       'Agency', 'DateReported', 'HourReported', 'ReportingOfficer'],\n",
       "      dtype='object')"
      ]
     },
     "execution_count": 4,
     "metadata": {},
     "output_type": "execute_result"
    }
   ],
   "source": [
    "df.columns"
   ]
  },
  {
   "cell_type": "code",
   "execution_count": 5,
   "id": "339d9992",
   "metadata": {
    "execution": {
     "iopub.execute_input": "2025-08-12T01:05:35.013554Z",
     "iopub.status.busy": "2025-08-12T01:05:35.013338Z",
     "iopub.status.idle": "2025-08-12T01:05:35.031059Z",
     "shell.execute_reply": "2025-08-12T01:05:35.030508Z"
    },
    "papermill": {
     "duration": 0.022817,
     "end_time": "2025-08-12T01:05:35.032066",
     "exception": false,
     "start_time": "2025-08-12T01:05:35.009249",
     "status": "completed"
    },
    "tags": []
   },
   "outputs": [
    {
     "name": "stdout",
     "output_type": "stream",
     "text": [
      "<class 'pandas.core.frame.DataFrame'>\n",
      "RangeIndex: 25642 entries, 0 to 25641\n",
      "Data columns (total 9 columns):\n",
      " #   Column            Non-Null Count  Dtype \n",
      "---  ------            --------------  ----- \n",
      " 0   RecordID          25642 non-null  int64 \n",
      " 1   Offense           25642 non-null  object\n",
      " 2   IncidentID        25642 non-null  object\n",
      " 3   BlockNumber       25642 non-null  object\n",
      " 4   StreetName        25642 non-null  object\n",
      " 5   Agency            25642 non-null  object\n",
      " 6   DateReported      25642 non-null  int64 \n",
      " 7   HourReported      25642 non-null  object\n",
      " 8   ReportingOfficer  25627 non-null  object\n",
      "dtypes: int64(2), object(7)\n",
      "memory usage: 1.8+ MB\n"
     ]
    }
   ],
   "source": [
    "df.info()"
   ]
  },
  {
   "cell_type": "markdown",
   "id": "c618e4b7",
   "metadata": {
    "papermill": {
     "duration": 0.003741,
     "end_time": "2025-08-12T01:05:35.039635",
     "exception": false,
     "start_time": "2025-08-12T01:05:35.035894",
     "status": "completed"
    },
    "tags": []
   },
   "source": [
    "### Missing Values"
   ]
  },
  {
   "cell_type": "code",
   "execution_count": 6,
   "id": "daea27b0",
   "metadata": {
    "execution": {
     "iopub.execute_input": "2025-08-12T01:05:35.047922Z",
     "iopub.status.busy": "2025-08-12T01:05:35.047655Z",
     "iopub.status.idle": "2025-08-12T01:05:35.064678Z",
     "shell.execute_reply": "2025-08-12T01:05:35.064098Z"
    },
    "papermill": {
     "duration": 0.022312,
     "end_time": "2025-08-12T01:05:35.065719",
     "exception": false,
     "start_time": "2025-08-12T01:05:35.043407",
     "status": "completed"
    },
    "tags": []
   },
   "outputs": [
    {
     "name": "stdout",
     "output_type": "stream",
     "text": [
      "                  MissingCount  MissingPercentage\n",
      "RecordID                     0               0.00\n",
      "Offense                      0               0.00\n",
      "IncidentID                   0               0.00\n",
      "BlockNumber                  0               0.00\n",
      "StreetName                   0               0.00\n",
      "Agency                       0               0.00\n",
      "DateReported                 0               0.00\n",
      "HourReported                 0               0.00\n",
      "ReportingOfficer            15               0.06\n"
     ]
    }
   ],
   "source": [
    "def missing_percentage(df):\n",
    "    \"\"\"\n",
    "    Returns a DataFrame with the count and percentage of missing values for each column.\n",
    "    \n",
    "    Parameters:\n",
    "        df (pd.DataFrame): The input DataFrame.\n",
    "    \n",
    "    Returns:\n",
    "        pd.DataFrame: A DataFrame with columns 'MissingCount' and 'MissingPercentage'.\n",
    "    \"\"\"\n",
    "    total_rows = len(df)\n",
    "    missing_count = df.isnull().sum()\n",
    "    missing_percent = (missing_count / total_rows) * 100\n",
    "    \n",
    "    result = pd.DataFrame({\n",
    "        'MissingCount': missing_count,\n",
    "        'MissingPercentage': missing_percent.round(2)\n",
    "    })\n",
    "    \n",
    "    return result\n",
    "\n",
    "# Example usage:\n",
    "missing_info = missing_percentage(df)\n",
    "print(missing_info)\n"
   ]
  },
  {
   "cell_type": "markdown",
   "id": "a172e0c4",
   "metadata": {
    "papermill": {
     "duration": 0.00374,
     "end_time": "2025-08-12T01:05:35.073602",
     "exception": false,
     "start_time": "2025-08-12T01:05:35.069862",
     "status": "completed"
    },
    "tags": []
   },
   "source": [
    "## Data Preparation"
   ]
  },
  {
   "cell_type": "markdown",
   "id": "ebfc003c",
   "metadata": {
    "papermill": {
     "duration": 0.003808,
     "end_time": "2025-08-12T01:05:35.081318",
     "exception": false,
     "start_time": "2025-08-12T01:05:35.077510",
     "status": "completed"
    },
    "tags": []
   },
   "source": [
    "### Data Conversion"
   ]
  },
  {
   "cell_type": "code",
   "execution_count": 7,
   "id": "9ff5a9da",
   "metadata": {
    "execution": {
     "iopub.execute_input": "2025-08-12T01:05:35.090094Z",
     "iopub.status.busy": "2025-08-12T01:05:35.089795Z",
     "iopub.status.idle": "2025-08-12T01:05:35.449965Z",
     "shell.execute_reply": "2025-08-12T01:05:35.449206Z"
    },
    "papermill": {
     "duration": 0.365829,
     "end_time": "2025-08-12T01:05:35.451015",
     "exception": false,
     "start_time": "2025-08-12T01:05:35.085186",
     "status": "completed"
    },
    "tags": []
   },
   "outputs": [
    {
     "data": {
      "text/html": [
       "<div>\n",
       "<style scoped>\n",
       "    .dataframe tbody tr th:only-of-type {\n",
       "        vertical-align: middle;\n",
       "    }\n",
       "\n",
       "    .dataframe tbody tr th {\n",
       "        vertical-align: top;\n",
       "    }\n",
       "\n",
       "    .dataframe thead th {\n",
       "        text-align: right;\n",
       "    }\n",
       "</style>\n",
       "<table border=\"1\" class=\"dataframe\">\n",
       "  <thead>\n",
       "    <tr style=\"text-align: right;\">\n",
       "      <th></th>\n",
       "      <th>RecordID</th>\n",
       "      <th>Offense</th>\n",
       "      <th>IncidentID</th>\n",
       "      <th>BlockNumber</th>\n",
       "      <th>StreetName</th>\n",
       "      <th>Agency</th>\n",
       "      <th>HourReported</th>\n",
       "      <th>ReportingOfficer</th>\n",
       "      <th>Date</th>\n",
       "      <th>DateString</th>\n",
       "      <th>DayOfWeek</th>\n",
       "      <th>Weekend</th>\n",
       "      <th>Season</th>\n",
       "      <th>HourAMPM</th>\n",
       "      <th>TimeOfDay</th>\n",
       "    </tr>\n",
       "  </thead>\n",
       "  <tbody>\n",
       "    <tr>\n",
       "      <th>0</th>\n",
       "      <td>1</td>\n",
       "      <td>Vandalism</td>\n",
       "      <td>202500028237</td>\n",
       "      <td>600</td>\n",
       "      <td>E WATER ST</td>\n",
       "      <td>CPD</td>\n",
       "      <td>0107</td>\n",
       "      <td>Benbow, Lauren</td>\n",
       "      <td>2025-08-10 01:07:06</td>\n",
       "      <td>2025-08-10 01:07:06 AM</td>\n",
       "      <td>Sunday</td>\n",
       "      <td>True</td>\n",
       "      <td>Summer</td>\n",
       "      <td>01:07 AM</td>\n",
       "      <td>Night</td>\n",
       "    </tr>\n",
       "    <tr>\n",
       "      <th>1</th>\n",
       "      <td>2</td>\n",
       "      <td>Assault Simple</td>\n",
       "      <td>202500028224</td>\n",
       "      <td>1400</td>\n",
       "      <td>UNIVERSITY AVE</td>\n",
       "      <td>CPD</td>\n",
       "      <td>2343</td>\n",
       "      <td>Rigsby, Lloyd</td>\n",
       "      <td>2025-08-09 23:43:35</td>\n",
       "      <td>2025-08-09 11:43:35 PM</td>\n",
       "      <td>Saturday</td>\n",
       "      <td>True</td>\n",
       "      <td>Summer</td>\n",
       "      <td>11:43 PM</td>\n",
       "      <td>Night</td>\n",
       "    </tr>\n",
       "    <tr>\n",
       "      <th>2</th>\n",
       "      <td>3</td>\n",
       "      <td>Hit and Run</td>\n",
       "      <td>202500028219</td>\n",
       "      <td>1000</td>\n",
       "      <td>W MAIN ST</td>\n",
       "      <td>CPD</td>\n",
       "      <td>2323</td>\n",
       "      <td>Benbow, Lauren</td>\n",
       "      <td>2025-08-09 23:23:42</td>\n",
       "      <td>2025-08-09 11:23:42 PM</td>\n",
       "      <td>Saturday</td>\n",
       "      <td>True</td>\n",
       "      <td>Summer</td>\n",
       "      <td>11:23 PM</td>\n",
       "      <td>Night</td>\n",
       "    </tr>\n",
       "    <tr>\n",
       "      <th>3</th>\n",
       "      <td>4</td>\n",
       "      <td>Drunkeness DIP</td>\n",
       "      <td>202500028187</td>\n",
       "      <td></td>\n",
       "      <td>JEFFERSON PARK AVE / MAURY AVE</td>\n",
       "      <td>CPD</td>\n",
       "      <td>1944</td>\n",
       "      <td>Rigsby, Lloyd</td>\n",
       "      <td>2025-08-09 19:44:38</td>\n",
       "      <td>2025-08-09 07:44:38 PM</td>\n",
       "      <td>Saturday</td>\n",
       "      <td>True</td>\n",
       "      <td>Summer</td>\n",
       "      <td>07:44 PM</td>\n",
       "      <td>Evening</td>\n",
       "    </tr>\n",
       "    <tr>\n",
       "      <th>4</th>\n",
       "      <td>5</td>\n",
       "      <td>Larceny - From Motor Vehicle</td>\n",
       "      <td>202500028164</td>\n",
       "      <td>800</td>\n",
       "      <td>W MAIN ST</td>\n",
       "      <td>CPD</td>\n",
       "      <td>1740</td>\n",
       "      <td>Abdelgayed, Adam</td>\n",
       "      <td>2025-08-09 17:40:31</td>\n",
       "      <td>2025-08-09 05:40:31 PM</td>\n",
       "      <td>Saturday</td>\n",
       "      <td>True</td>\n",
       "      <td>Summer</td>\n",
       "      <td>05:40 PM</td>\n",
       "      <td>Evening</td>\n",
       "    </tr>\n",
       "  </tbody>\n",
       "</table>\n",
       "</div>"
      ],
      "text/plain": [
       "   RecordID                       Offense    IncidentID BlockNumber  \\\n",
       "0         1                     Vandalism  202500028237         600   \n",
       "1         2                Assault Simple  202500028224        1400   \n",
       "2         3                   Hit and Run  202500028219        1000   \n",
       "3         4                Drunkeness DIP  202500028187               \n",
       "4         5  Larceny - From Motor Vehicle  202500028164         800   \n",
       "\n",
       "                       StreetName Agency HourReported  ReportingOfficer  \\\n",
       "0                      E WATER ST    CPD         0107    Benbow, Lauren   \n",
       "1                  UNIVERSITY AVE    CPD         2343     Rigsby, Lloyd   \n",
       "2                       W MAIN ST    CPD         2323    Benbow, Lauren   \n",
       "3  JEFFERSON PARK AVE / MAURY AVE    CPD         1944     Rigsby, Lloyd   \n",
       "4                       W MAIN ST    CPD         1740  Abdelgayed, Adam   \n",
       "\n",
       "                 Date              DateString DayOfWeek  Weekend  Season  \\\n",
       "0 2025-08-10 01:07:06  2025-08-10 01:07:06 AM    Sunday     True  Summer   \n",
       "1 2025-08-09 23:43:35  2025-08-09 11:43:35 PM  Saturday     True  Summer   \n",
       "2 2025-08-09 23:23:42  2025-08-09 11:23:42 PM  Saturday     True  Summer   \n",
       "3 2025-08-09 19:44:38  2025-08-09 07:44:38 PM  Saturday     True  Summer   \n",
       "4 2025-08-09 17:40:31  2025-08-09 05:40:31 PM  Saturday     True  Summer   \n",
       "\n",
       "   HourAMPM TimeOfDay  \n",
       "0  01:07 AM     Night  \n",
       "1  11:43 PM     Night  \n",
       "2  11:23 PM     Night  \n",
       "3  07:44 PM   Evening  \n",
       "4  05:40 PM   Evening  "
      ]
     },
     "execution_count": 7,
     "metadata": {},
     "output_type": "execute_result"
    }
   ],
   "source": [
    "def convert_and_categorize_datereported(df, col='DateReported'):\n",
    "    \"\"\"\n",
    "    Converts an epoch (in milliseconds) date column into a timezone-aware datetime,\n",
    "    converts it to Eastern Time, and then creates columns for day-of-week, weekend flag,\n",
    "    season, 12-hour formatted time, and time-of-day. Keeps both a real datetime column\n",
    "    (Date) and a string representation (DateString).\n",
    "    \"\"\"\n",
    "    import pandas as pd\n",
    "\n",
    "    # Convert the epoch timestamp to a pandas datetime object as UTC, then convert to US/Eastern.\n",
    "    df[\"DateReported_dt\"] = (\n",
    "        pd.to_datetime(df[col], unit=\"ms\", errors=\"coerce\", utc=True)\n",
    "        .dt.tz_convert(\"US/Eastern\")\n",
    "    )\n",
    "    \n",
    "    # Create a true datetime column (remove timezone if you prefer naive datetime)\n",
    "    df[\"Date\"] = df[\"DateReported_dt\"].dt.tz_localize(None)\n",
    "\n",
    "    # Optionally, create a separate string-formatted column\n",
    "    df[\"DateString\"] = df[\"DateReported_dt\"].dt.strftime(\"%Y-%m-%d %I:%M:%S %p\")\n",
    "    \n",
    "    # DayOfWeek\n",
    "    df[\"DayOfWeek\"] = df[\"DateReported_dt\"].dt.day_name()\n",
    "    \n",
    "    # Weekend\n",
    "    df[\"Weekend\"] = df[\"DayOfWeek\"].isin([\"Saturday\", \"Sunday\"])\n",
    "    \n",
    "    # Helper function to determine the season\n",
    "    def get_season(dt):\n",
    "        month = dt.month\n",
    "        day = dt.day\n",
    "        # Approximate Northern Hemisphere season boundaries:\n",
    "        if (month == 12 and day >= 21) or (month < 3) or (month == 3 and day < 20):\n",
    "            return \"Winter\"\n",
    "        elif (month == 3 and day >= 20) or (month < 6) or (month == 6 and day < 21):\n",
    "            return \"Spring\"\n",
    "        elif (month == 6 and day >= 21) or (month < 9) or (month == 9 and day < 22):\n",
    "            return \"Summer\"\n",
    "        else:\n",
    "            return \"Autumn\"\n",
    "    \n",
    "    df[\"Season\"] = df[\"DateReported_dt\"].apply(get_season)\n",
    "    \n",
    "    # 12-hour formatted time (HourAMPM)\n",
    "    df[\"HourAMPM\"] = df[\"DateReported_dt\"].dt.strftime(\"%I:%M %p\")\n",
    "    \n",
    "    # Extract hour (0-23) for time-of-day\n",
    "    df[\"HourValue\"] = df[\"DateReported_dt\"].dt.hour\n",
    "    \n",
    "    def time_of_day(hour):\n",
    "        if pd.isnull(hour):\n",
    "            return None\n",
    "        if 5 <= hour < 12:\n",
    "            return \"Morning\"\n",
    "        elif 12 <= hour < 17:\n",
    "            return \"Afternoon\"\n",
    "        elif 17 <= hour < 21:\n",
    "            return \"Evening\"\n",
    "        else:\n",
    "            return \"Night\"\n",
    "    \n",
    "    df[\"TimeOfDay\"] = df[\"HourValue\"].apply(time_of_day)\n",
    "    \n",
    "    # Drop columns you no longer need\n",
    "    df.drop(columns=[col, \"DateReported_dt\", \"HourValue\"], inplace=True)\n",
    "    \n",
    "    return df\n",
    "\n",
    "# Example usage:\n",
    "df = convert_and_categorize_datereported(df)\n",
    "df.head()\n"
   ]
  },
  {
   "cell_type": "code",
   "execution_count": 8,
   "id": "c1da39b2",
   "metadata": {
    "execution": {
     "iopub.execute_input": "2025-08-12T01:05:35.460113Z",
     "iopub.status.busy": "2025-08-12T01:05:35.459903Z",
     "iopub.status.idle": "2025-08-12T01:05:35.486516Z",
     "shell.execute_reply": "2025-08-12T01:05:35.485855Z"
    },
    "papermill": {
     "duration": 0.03225,
     "end_time": "2025-08-12T01:05:35.487543",
     "exception": false,
     "start_time": "2025-08-12T01:05:35.455293",
     "status": "completed"
    },
    "tags": []
   },
   "outputs": [
    {
     "name": "stdout",
     "output_type": "stream",
     "text": [
      "<class 'pandas.core.frame.DataFrame'>\n",
      "RangeIndex: 25642 entries, 0 to 25641\n",
      "Data columns (total 15 columns):\n",
      " #   Column            Non-Null Count  Dtype         \n",
      "---  ------            --------------  -----         \n",
      " 0   RecordID          25642 non-null  int64         \n",
      " 1   Offense           25642 non-null  object        \n",
      " 2   IncidentID        25642 non-null  object        \n",
      " 3   BlockNumber       25642 non-null  object        \n",
      " 4   StreetName        25642 non-null  object        \n",
      " 5   Agency            25642 non-null  object        \n",
      " 6   HourReported      25642 non-null  object        \n",
      " 7   ReportingOfficer  25627 non-null  object        \n",
      " 8   Date              25642 non-null  datetime64[ns]\n",
      " 9   DateString        25642 non-null  object        \n",
      " 10  DayOfWeek         25642 non-null  object        \n",
      " 11  Weekend           25642 non-null  bool          \n",
      " 12  Season            25642 non-null  object        \n",
      " 13  HourAMPM          25642 non-null  object        \n",
      " 14  TimeOfDay         25642 non-null  object        \n",
      "dtypes: bool(1), datetime64[ns](1), int64(1), object(12)\n",
      "memory usage: 2.8+ MB\n"
     ]
    }
   ],
   "source": [
    "df.info()"
   ]
  },
  {
   "cell_type": "markdown",
   "id": "3b6b94c0",
   "metadata": {
    "papermill": {
     "duration": 0.004164,
     "end_time": "2025-08-12T01:05:35.496202",
     "exception": false,
     "start_time": "2025-08-12T01:05:35.492038",
     "status": "completed"
    },
    "tags": []
   },
   "source": [
    "### Coordinates"
   ]
  },
  {
   "cell_type": "code",
   "execution_count": 9,
   "id": "2700b152",
   "metadata": {
    "execution": {
     "iopub.execute_input": "2025-08-12T01:05:35.505233Z",
     "iopub.status.busy": "2025-08-12T01:05:35.505042Z",
     "iopub.status.idle": "2025-08-12T01:05:35.665505Z",
     "shell.execute_reply": "2025-08-12T01:05:35.664940Z"
    },
    "papermill": {
     "duration": 0.166127,
     "end_time": "2025-08-12T01:05:35.666460",
     "exception": false,
     "start_time": "2025-08-12T01:05:35.500333",
     "status": "completed"
    },
    "tags": []
   },
   "outputs": [
    {
     "name": "stdout",
     "output_type": "stream",
     "text": [
      "Loaded geocode cache.\n",
      "Error geocoding 2000 HOLIDAY DR, 272: REQUEST_DENIED (You must enable Billing on the Google Cloud Project at https://console.cloud.google.com/project/_/billing/enable Learn more at https://developers.google.com/maps/gmp-get-started)\n",
      "Geocoded 2000 HOLIDAY DR, 272: None, None\n",
      "Geocode cache updated and saved.\n"
     ]
    },
    {
     "data": {
      "text/html": [
       "<div>\n",
       "<style scoped>\n",
       "    .dataframe tbody tr th:only-of-type {\n",
       "        vertical-align: middle;\n",
       "    }\n",
       "\n",
       "    .dataframe tbody tr th {\n",
       "        vertical-align: top;\n",
       "    }\n",
       "\n",
       "    .dataframe thead th {\n",
       "        text-align: right;\n",
       "    }\n",
       "</style>\n",
       "<table border=\"1\" class=\"dataframe\">\n",
       "  <thead>\n",
       "    <tr style=\"text-align: right;\">\n",
       "      <th></th>\n",
       "      <th>RecordID</th>\n",
       "      <th>Offense</th>\n",
       "      <th>IncidentID</th>\n",
       "      <th>BlockNumber</th>\n",
       "      <th>StreetName</th>\n",
       "      <th>Agency</th>\n",
       "      <th>HourReported</th>\n",
       "      <th>ReportingOfficer</th>\n",
       "      <th>Date</th>\n",
       "      <th>DateString</th>\n",
       "      <th>DayOfWeek</th>\n",
       "      <th>Weekend</th>\n",
       "      <th>Season</th>\n",
       "      <th>HourAMPM</th>\n",
       "      <th>TimeOfDay</th>\n",
       "      <th>FullStreet</th>\n",
       "      <th>lat</th>\n",
       "      <th>lon</th>\n",
       "    </tr>\n",
       "  </thead>\n",
       "  <tbody>\n",
       "    <tr>\n",
       "      <th>0</th>\n",
       "      <td>1</td>\n",
       "      <td>Vandalism</td>\n",
       "      <td>202500028237</td>\n",
       "      <td>600</td>\n",
       "      <td>E WATER ST</td>\n",
       "      <td>CPD</td>\n",
       "      <td>0107</td>\n",
       "      <td>Benbow, Lauren</td>\n",
       "      <td>2025-08-10 01:07:06</td>\n",
       "      <td>2025-08-10 01:07:06 AM</td>\n",
       "      <td>Sunday</td>\n",
       "      <td>True</td>\n",
       "      <td>Summer</td>\n",
       "      <td>01:07 AM</td>\n",
       "      <td>Night</td>\n",
       "      <td>600 E WATER ST</td>\n",
       "      <td>38.028757</td>\n",
       "      <td>-78.477608</td>\n",
       "    </tr>\n",
       "    <tr>\n",
       "      <th>1</th>\n",
       "      <td>2</td>\n",
       "      <td>Assault Simple</td>\n",
       "      <td>202500028224</td>\n",
       "      <td>1400</td>\n",
       "      <td>UNIVERSITY AVE</td>\n",
       "      <td>CPD</td>\n",
       "      <td>2343</td>\n",
       "      <td>Rigsby, Lloyd</td>\n",
       "      <td>2025-08-09 23:43:35</td>\n",
       "      <td>2025-08-09 11:43:35 PM</td>\n",
       "      <td>Saturday</td>\n",
       "      <td>True</td>\n",
       "      <td>Summer</td>\n",
       "      <td>11:43 PM</td>\n",
       "      <td>Night</td>\n",
       "      <td>1400 UNIVERSITY AVE</td>\n",
       "      <td>38.033936</td>\n",
       "      <td>-78.499972</td>\n",
       "    </tr>\n",
       "    <tr>\n",
       "      <th>2</th>\n",
       "      <td>3</td>\n",
       "      <td>Hit and Run</td>\n",
       "      <td>202500028219</td>\n",
       "      <td>1000</td>\n",
       "      <td>W MAIN ST</td>\n",
       "      <td>CPD</td>\n",
       "      <td>2323</td>\n",
       "      <td>Benbow, Lauren</td>\n",
       "      <td>2025-08-09 23:23:42</td>\n",
       "      <td>2025-08-09 11:23:42 PM</td>\n",
       "      <td>Saturday</td>\n",
       "      <td>True</td>\n",
       "      <td>Summer</td>\n",
       "      <td>11:23 PM</td>\n",
       "      <td>Night</td>\n",
       "      <td>1000 W MAIN ST</td>\n",
       "      <td>38.032348</td>\n",
       "      <td>-78.495217</td>\n",
       "    </tr>\n",
       "    <tr>\n",
       "      <th>3</th>\n",
       "      <td>4</td>\n",
       "      <td>Drunkeness DIP</td>\n",
       "      <td>202500028187</td>\n",
       "      <td></td>\n",
       "      <td>JEFFERSON PARK AVE / MAURY AVE</td>\n",
       "      <td>CPD</td>\n",
       "      <td>1944</td>\n",
       "      <td>Rigsby, Lloyd</td>\n",
       "      <td>2025-08-09 19:44:38</td>\n",
       "      <td>2025-08-09 07:44:38 PM</td>\n",
       "      <td>Saturday</td>\n",
       "      <td>True</td>\n",
       "      <td>Summer</td>\n",
       "      <td>07:44 PM</td>\n",
       "      <td>Evening</td>\n",
       "      <td>JEFFERSON PARK AVE / MAURY AVE</td>\n",
       "      <td>38.025951</td>\n",
       "      <td>-78.515053</td>\n",
       "    </tr>\n",
       "    <tr>\n",
       "      <th>4</th>\n",
       "      <td>5</td>\n",
       "      <td>Larceny - From Motor Vehicle</td>\n",
       "      <td>202500028164</td>\n",
       "      <td>800</td>\n",
       "      <td>W MAIN ST</td>\n",
       "      <td>CPD</td>\n",
       "      <td>1740</td>\n",
       "      <td>Abdelgayed, Adam</td>\n",
       "      <td>2025-08-09 17:40:31</td>\n",
       "      <td>2025-08-09 05:40:31 PM</td>\n",
       "      <td>Saturday</td>\n",
       "      <td>True</td>\n",
       "      <td>Summer</td>\n",
       "      <td>05:40 PM</td>\n",
       "      <td>Evening</td>\n",
       "      <td>800 W MAIN ST</td>\n",
       "      <td>38.031480</td>\n",
       "      <td>-78.490333</td>\n",
       "    </tr>\n",
       "  </tbody>\n",
       "</table>\n",
       "</div>"
      ],
      "text/plain": [
       "   RecordID                       Offense    IncidentID BlockNumber  \\\n",
       "0         1                     Vandalism  202500028237         600   \n",
       "1         2                Assault Simple  202500028224        1400   \n",
       "2         3                   Hit and Run  202500028219        1000   \n",
       "3         4                Drunkeness DIP  202500028187               \n",
       "4         5  Larceny - From Motor Vehicle  202500028164         800   \n",
       "\n",
       "                       StreetName Agency HourReported  ReportingOfficer  \\\n",
       "0                      E WATER ST    CPD         0107    Benbow, Lauren   \n",
       "1                  UNIVERSITY AVE    CPD         2343     Rigsby, Lloyd   \n",
       "2                       W MAIN ST    CPD         2323    Benbow, Lauren   \n",
       "3  JEFFERSON PARK AVE / MAURY AVE    CPD         1944     Rigsby, Lloyd   \n",
       "4                       W MAIN ST    CPD         1740  Abdelgayed, Adam   \n",
       "\n",
       "                 Date              DateString DayOfWeek  Weekend  Season  \\\n",
       "0 2025-08-10 01:07:06  2025-08-10 01:07:06 AM    Sunday     True  Summer   \n",
       "1 2025-08-09 23:43:35  2025-08-09 11:43:35 PM  Saturday     True  Summer   \n",
       "2 2025-08-09 23:23:42  2025-08-09 11:23:42 PM  Saturday     True  Summer   \n",
       "3 2025-08-09 19:44:38  2025-08-09 07:44:38 PM  Saturday     True  Summer   \n",
       "4 2025-08-09 17:40:31  2025-08-09 05:40:31 PM  Saturday     True  Summer   \n",
       "\n",
       "   HourAMPM TimeOfDay                       FullStreet        lat        lon  \n",
       "0  01:07 AM     Night                   600 E WATER ST  38.028757 -78.477608  \n",
       "1  11:43 PM     Night              1400 UNIVERSITY AVE  38.033936 -78.499972  \n",
       "2  11:23 PM     Night                   1000 W MAIN ST  38.032348 -78.495217  \n",
       "3  07:44 PM   Evening   JEFFERSON PARK AVE / MAURY AVE  38.025951 -78.515053  \n",
       "4  05:40 PM   Evening                    800 W MAIN ST  38.031480 -78.490333  "
      ]
     },
     "execution_count": 9,
     "metadata": {},
     "output_type": "execute_result"
    }
   ],
   "source": [
    "# Combine BlockNumber and StreetName into a full address string\n",
    "df['FullStreet'] = df['BlockNumber'].astype(str) + \" \" + df['StreetName']\n",
    "\n",
    "# --- Step 1: Setup the Google Maps Client and Cache ---\n",
    "gmaps = googlemaps.Client(key=GOOGLE_API_KEY)\n",
    "\n",
    "# Try to load cached geocoding results if available.\n",
    "try:\n",
    "    with open(\"geocode_cache_google.pkl\", \"rb\") as f:\n",
    "        street_coords = pickle.load(f)\n",
    "    print(\"Loaded geocode cache.\")\n",
    "except FileNotFoundError:\n",
    "    street_coords = {}\n",
    "    print(\"No cache found; starting fresh.\")\n",
    "\n",
    "def geocode_address(address):\n",
    "    try:\n",
    "        # Append city and state to help geocoding\n",
    "        result = gmaps.geocode(f\"{address}, Charlottesville, VA\")\n",
    "        if result:\n",
    "            lat = result[0]['geometry']['location']['lat']\n",
    "            lon = result[0]['geometry']['location']['lng']\n",
    "            return lat, lon\n",
    "    except Exception as e:\n",
    "        print(f\"Error geocoding {address}: {e}\")\n",
    "    return None, None\n",
    "\n",
    "# --- Step 2: Geocode Only New Addresses ---\n",
    "unique_addresses = df['FullStreet'].unique()\n",
    "for address in unique_addresses:\n",
    "    if address not in street_coords:\n",
    "        lat, lon = geocode_address(address)\n",
    "        street_coords[address] = (lat, lon)\n",
    "        print(f\"Geocoded {address}: {lat}, {lon}\")\n",
    "\n",
    "# Save the updated cache to disk.\n",
    "with open(\"geocode_cache_google.pkl\", \"wb\") as f:\n",
    "    pickle.dump(street_coords, f)\n",
    "    print(\"Geocode cache updated and saved.\")\n",
    "\n",
    "# --- Step 3: Map Coordinates Back to DataFrame ---\n",
    "df['lat'] = df['FullStreet'].map(lambda s: street_coords.get(s, (None, None))[0])\n",
    "df['lon'] = df['FullStreet'].map(lambda s: street_coords.get(s, (None, None))[1])\n",
    "\n",
    "df.head()"
   ]
  },
  {
   "cell_type": "markdown",
   "id": "b408c853",
   "metadata": {
    "papermill": {
     "duration": 0.004452,
     "end_time": "2025-08-12T01:05:35.675671",
     "exception": false,
     "start_time": "2025-08-12T01:05:35.671219",
     "status": "completed"
    },
    "tags": []
   },
   "source": [
    "### Neighborhood"
   ]
  },
  {
   "cell_type": "code",
   "execution_count": 10,
   "id": "9210336b",
   "metadata": {
    "execution": {
     "iopub.execute_input": "2025-08-12T01:05:35.685338Z",
     "iopub.status.busy": "2025-08-12T01:05:35.685108Z",
     "iopub.status.idle": "2025-08-12T01:05:39.834308Z",
     "shell.execute_reply": "2025-08-12T01:05:39.833669Z"
    },
    "papermill": {
     "duration": 4.155247,
     "end_time": "2025-08-12T01:05:39.835348",
     "exception": false,
     "start_time": "2025-08-12T01:05:35.680101",
     "status": "completed"
    },
    "tags": []
   },
   "outputs": [
    {
     "name": "stdout",
     "output_type": "stream",
     "text": [
      "Loaded neighborhood cache.\n"
     ]
    },
    {
     "name": "stdout",
     "output_type": "stream",
     "text": [
      "Error getting neighborhood for nan, nan: HTTP Error: 400\n",
      "Error getting neighborhood for nan, nan: HTTP Error: 400\n"
     ]
    },
    {
     "name": "stdout",
     "output_type": "stream",
     "text": [
      "Error getting neighborhood for nan, nan: HTTP Error: 400\n",
      "Error getting neighborhood for nan, nan: HTTP Error: 400\n",
      "Error getting neighborhood for nan, nan: HTTP Error: 400\n"
     ]
    },
    {
     "name": "stdout",
     "output_type": "stream",
     "text": [
      "Error getting neighborhood for nan, nan: HTTP Error: 400\n"
     ]
    },
    {
     "name": "stdout",
     "output_type": "stream",
     "text": [
      "Error getting neighborhood for nan, nan: HTTP Error: 400\n",
      "Error getting neighborhood for nan, nan: HTTP Error: 400\n",
      "Error getting neighborhood for nan, nan: HTTP Error: 400\n",
      "Error getting neighborhood for nan, nan: HTTP Error: 400\n"
     ]
    },
    {
     "name": "stdout",
     "output_type": "stream",
     "text": [
      "Error getting neighborhood for nan, nan: HTTP Error: 400\n"
     ]
    },
    {
     "name": "stdout",
     "output_type": "stream",
     "text": [
      "Error getting neighborhood for nan, nan: HTTP Error: 400\n",
      "Error getting neighborhood for nan, nan: HTTP Error: 400\n",
      "Error getting neighborhood for nan, nan: HTTP Error: 400\n",
      "Error getting neighborhood for nan, nan: HTTP Error: 400\n",
      "Error getting neighborhood for nan, nan: HTTP Error: 400\n"
     ]
    },
    {
     "name": "stdout",
     "output_type": "stream",
     "text": [
      "Error getting neighborhood for nan, nan: HTTP Error: 400\n"
     ]
    },
    {
     "name": "stdout",
     "output_type": "stream",
     "text": [
      "Error getting neighborhood for nan, nan: HTTP Error: 400\n",
      "Error getting neighborhood for nan, nan: HTTP Error: 400\n",
      "Error getting neighborhood for nan, nan: HTTP Error: 400\n",
      "Error getting neighborhood for nan, nan: HTTP Error: 400\n",
      "Error getting neighborhood for nan, nan: HTTP Error: 400\n"
     ]
    },
    {
     "name": "stdout",
     "output_type": "stream",
     "text": [
      "Error getting neighborhood for nan, nan: HTTP Error: 400\n"
     ]
    },
    {
     "name": "stdout",
     "output_type": "stream",
     "text": [
      "Error getting neighborhood for nan, nan: HTTP Error: 400\n",
      "Error getting neighborhood for nan, nan: HTTP Error: 400\n",
      "Error getting neighborhood for nan, nan: HTTP Error: 400\n",
      "Error getting neighborhood for nan, nan: HTTP Error: 400\n",
      "Error getting neighborhood for nan, nan: HTTP Error: 400\n"
     ]
    },
    {
     "name": "stdout",
     "output_type": "stream",
     "text": [
      "Error getting neighborhood for nan, nan: HTTP Error: 400\n"
     ]
    },
    {
     "name": "stdout",
     "output_type": "stream",
     "text": [
      "Error getting neighborhood for nan, nan: HTTP Error: 400\n",
      "Error getting neighborhood for nan, nan: HTTP Error: 400\n",
      "Error getting neighborhood for nan, nan: HTTP Error: 400\n",
      "Error getting neighborhood for nan, nan: HTTP Error: 400\n",
      "Error getting neighborhood for nan, nan: HTTP Error: 400\n"
     ]
    },
    {
     "name": "stdout",
     "output_type": "stream",
     "text": [
      "Error getting neighborhood for nan, nan: HTTP Error: 400\n"
     ]
    },
    {
     "name": "stdout",
     "output_type": "stream",
     "text": [
      "Error getting neighborhood for nan, nan: HTTP Error: 400\n",
      "Error getting neighborhood for nan, nan: HTTP Error: 400\n",
      "Error getting neighborhood for nan, nan: HTTP Error: 400\n",
      "Error getting neighborhood for nan, nan: HTTP Error: 400\n",
      "Error getting neighborhood for nan, nan: HTTP Error: 400\n"
     ]
    },
    {
     "name": "stdout",
     "output_type": "stream",
     "text": [
      "Error getting neighborhood for nan, nan: HTTP Error: 400\n"
     ]
    },
    {
     "name": "stdout",
     "output_type": "stream",
     "text": [
      "Error getting neighborhood for nan, nan: HTTP Error: 400\n",
      "Error getting neighborhood for nan, nan: HTTP Error: 400\n",
      "Error getting neighborhood for nan, nan: HTTP Error: 400\n",
      "Error getting neighborhood for nan, nan: HTTP Error: 400\n",
      "Error getting neighborhood for nan, nan: HTTP Error: 400\n"
     ]
    },
    {
     "name": "stdout",
     "output_type": "stream",
     "text": [
      "Error getting neighborhood for nan, nan: HTTP Error: 400\n"
     ]
    },
    {
     "name": "stdout",
     "output_type": "stream",
     "text": [
      "Error getting neighborhood for nan, nan: HTTP Error: 400\n",
      "Error getting neighborhood for nan, nan: HTTP Error: 400\n",
      "Error getting neighborhood for nan, nan: HTTP Error: 400\n",
      "Error getting neighborhood for nan, nan: HTTP Error: 400\n",
      "Error getting neighborhood for nan, nan: HTTP Error: 400\n"
     ]
    },
    {
     "name": "stdout",
     "output_type": "stream",
     "text": [
      "Error getting neighborhood for nan, nan: HTTP Error: 400\n"
     ]
    },
    {
     "name": "stdout",
     "output_type": "stream",
     "text": [
      "Error getting neighborhood for nan, nan: HTTP Error: 400\n",
      "Error getting neighborhood for nan, nan: HTTP Error: 400\n",
      "Error getting neighborhood for nan, nan: HTTP Error: 400\n",
      "Error getting neighborhood for nan, nan: HTTP Error: 400\n",
      "Error getting neighborhood for nan, nan: HTTP Error: 400\n"
     ]
    },
    {
     "name": "stdout",
     "output_type": "stream",
     "text": [
      "Error getting neighborhood for nan, nan: HTTP Error: 400\n"
     ]
    },
    {
     "name": "stdout",
     "output_type": "stream",
     "text": [
      "Error getting neighborhood for nan, nan: HTTP Error: 400\n",
      "Error getting neighborhood for nan, nan: HTTP Error: 400\n",
      "Error getting neighborhood for nan, nan: HTTP Error: 400\n",
      "Error getting neighborhood for nan, nan: HTTP Error: 400\n",
      "Error getting neighborhood for nan, nan: HTTP Error: 400\n"
     ]
    },
    {
     "name": "stdout",
     "output_type": "stream",
     "text": [
      "Error getting neighborhood for nan, nan: HTTP Error: 400\n"
     ]
    },
    {
     "name": "stdout",
     "output_type": "stream",
     "text": [
      "Error getting neighborhood for nan, nan: HTTP Error: 400\n",
      "Error getting neighborhood for nan, nan: HTTP Error: 400\n",
      "Error getting neighborhood for nan, nan: HTTP Error: 400\n",
      "Error getting neighborhood for nan, nan: HTTP Error: 400\n",
      "Error getting neighborhood for nan, nan: HTTP Error: 400\n"
     ]
    },
    {
     "name": "stdout",
     "output_type": "stream",
     "text": [
      "Error getting neighborhood for nan, nan: HTTP Error: 400\n"
     ]
    },
    {
     "name": "stdout",
     "output_type": "stream",
     "text": [
      "Error getting neighborhood for nan, nan: HTTP Error: 400\n",
      "Error getting neighborhood for nan, nan: HTTP Error: 400\n",
      "Error getting neighborhood for nan, nan: HTTP Error: 400\n",
      "Error getting neighborhood for nan, nan: HTTP Error: 400\n",
      "Error getting neighborhood for nan, nan: HTTP Error: 400\n"
     ]
    },
    {
     "name": "stdout",
     "output_type": "stream",
     "text": [
      "Error getting neighborhood for nan, nan: HTTP Error: 400\n"
     ]
    },
    {
     "name": "stdout",
     "output_type": "stream",
     "text": [
      "Error getting neighborhood for nan, nan: HTTP Error: 400\n",
      "Error getting neighborhood for nan, nan: HTTP Error: 400\n",
      "Error getting neighborhood for nan, nan: HTTP Error: 400\n",
      "Error getting neighborhood for nan, nan: HTTP Error: 400\n",
      "Error getting neighborhood for nan, nan: HTTP Error: 400\n"
     ]
    },
    {
     "name": "stdout",
     "output_type": "stream",
     "text": [
      "Error getting neighborhood for nan, nan: HTTP Error: 400\n"
     ]
    },
    {
     "name": "stdout",
     "output_type": "stream",
     "text": [
      "Error getting neighborhood for nan, nan: HTTP Error: 400\n",
      "Error getting neighborhood for nan, nan: HTTP Error: 400\n",
      "Error getting neighborhood for nan, nan: HTTP Error: 400\n",
      "Error getting neighborhood for nan, nan: HTTP Error: 400\n",
      "Error getting neighborhood for nan, nan: HTTP Error: 400\n"
     ]
    },
    {
     "name": "stdout",
     "output_type": "stream",
     "text": [
      "Error getting neighborhood for nan, nan: HTTP Error: 400\n"
     ]
    },
    {
     "name": "stdout",
     "output_type": "stream",
     "text": [
      "Error getting neighborhood for nan, nan: HTTP Error: 400\n",
      "Error getting neighborhood for nan, nan: HTTP Error: 400\n",
      "Error getting neighborhood for nan, nan: HTTP Error: 400\n",
      "Error getting neighborhood for nan, nan: HTTP Error: 400\n",
      "Error getting neighborhood for nan, nan: HTTP Error: 400\n"
     ]
    },
    {
     "name": "stdout",
     "output_type": "stream",
     "text": [
      "Error getting neighborhood for nan, nan: HTTP Error: 400\n"
     ]
    },
    {
     "name": "stdout",
     "output_type": "stream",
     "text": [
      "Error getting neighborhood for nan, nan: HTTP Error: 400\n",
      "Error getting neighborhood for nan, nan: HTTP Error: 400\n"
     ]
    },
    {
     "data": {
      "text/html": [
       "<div>\n",
       "<style scoped>\n",
       "    .dataframe tbody tr th:only-of-type {\n",
       "        vertical-align: middle;\n",
       "    }\n",
       "\n",
       "    .dataframe tbody tr th {\n",
       "        vertical-align: top;\n",
       "    }\n",
       "\n",
       "    .dataframe thead th {\n",
       "        text-align: right;\n",
       "    }\n",
       "</style>\n",
       "<table border=\"1\" class=\"dataframe\">\n",
       "  <thead>\n",
       "    <tr style=\"text-align: right;\">\n",
       "      <th></th>\n",
       "      <th>RecordID</th>\n",
       "      <th>Offense</th>\n",
       "      <th>IncidentID</th>\n",
       "      <th>BlockNumber</th>\n",
       "      <th>StreetName</th>\n",
       "      <th>Agency</th>\n",
       "      <th>HourReported</th>\n",
       "      <th>ReportingOfficer</th>\n",
       "      <th>Date</th>\n",
       "      <th>DateString</th>\n",
       "      <th>DayOfWeek</th>\n",
       "      <th>Weekend</th>\n",
       "      <th>Season</th>\n",
       "      <th>HourAMPM</th>\n",
       "      <th>TimeOfDay</th>\n",
       "      <th>FullStreet</th>\n",
       "      <th>lat</th>\n",
       "      <th>lon</th>\n",
       "      <th>neighborhood</th>\n",
       "    </tr>\n",
       "  </thead>\n",
       "  <tbody>\n",
       "    <tr>\n",
       "      <th>0</th>\n",
       "      <td>1</td>\n",
       "      <td>Vandalism</td>\n",
       "      <td>202500028237</td>\n",
       "      <td>600</td>\n",
       "      <td>E WATER ST</td>\n",
       "      <td>CPD</td>\n",
       "      <td>0107</td>\n",
       "      <td>Benbow, Lauren</td>\n",
       "      <td>2025-08-10 01:07:06</td>\n",
       "      <td>2025-08-10 01:07:06 AM</td>\n",
       "      <td>Sunday</td>\n",
       "      <td>True</td>\n",
       "      <td>Summer</td>\n",
       "      <td>01:07 AM</td>\n",
       "      <td>Night</td>\n",
       "      <td>600 E WATER ST</td>\n",
       "      <td>38.028757</td>\n",
       "      <td>-78.477608</td>\n",
       "      <td>North Downtown</td>\n",
       "    </tr>\n",
       "    <tr>\n",
       "      <th>1</th>\n",
       "      <td>2</td>\n",
       "      <td>Assault Simple</td>\n",
       "      <td>202500028224</td>\n",
       "      <td>1400</td>\n",
       "      <td>UNIVERSITY AVE</td>\n",
       "      <td>CPD</td>\n",
       "      <td>2343</td>\n",
       "      <td>Rigsby, Lloyd</td>\n",
       "      <td>2025-08-09 23:43:35</td>\n",
       "      <td>2025-08-09 11:43:35 PM</td>\n",
       "      <td>Saturday</td>\n",
       "      <td>True</td>\n",
       "      <td>Summer</td>\n",
       "      <td>11:43 PM</td>\n",
       "      <td>Night</td>\n",
       "      <td>1400 UNIVERSITY AVE</td>\n",
       "      <td>38.033936</td>\n",
       "      <td>-78.499972</td>\n",
       "      <td>N/A</td>\n",
       "    </tr>\n",
       "    <tr>\n",
       "      <th>2</th>\n",
       "      <td>3</td>\n",
       "      <td>Hit and Run</td>\n",
       "      <td>202500028219</td>\n",
       "      <td>1000</td>\n",
       "      <td>W MAIN ST</td>\n",
       "      <td>CPD</td>\n",
       "      <td>2323</td>\n",
       "      <td>Benbow, Lauren</td>\n",
       "      <td>2025-08-09 23:23:42</td>\n",
       "      <td>2025-08-09 11:23:42 PM</td>\n",
       "      <td>Saturday</td>\n",
       "      <td>True</td>\n",
       "      <td>Summer</td>\n",
       "      <td>11:23 PM</td>\n",
       "      <td>Night</td>\n",
       "      <td>1000 W MAIN ST</td>\n",
       "      <td>38.032348</td>\n",
       "      <td>-78.495217</td>\n",
       "      <td>10th &amp; Page</td>\n",
       "    </tr>\n",
       "    <tr>\n",
       "      <th>3</th>\n",
       "      <td>4</td>\n",
       "      <td>Drunkeness DIP</td>\n",
       "      <td>202500028187</td>\n",
       "      <td></td>\n",
       "      <td>JEFFERSON PARK AVE / MAURY AVE</td>\n",
       "      <td>CPD</td>\n",
       "      <td>1944</td>\n",
       "      <td>Rigsby, Lloyd</td>\n",
       "      <td>2025-08-09 19:44:38</td>\n",
       "      <td>2025-08-09 07:44:38 PM</td>\n",
       "      <td>Saturday</td>\n",
       "      <td>True</td>\n",
       "      <td>Summer</td>\n",
       "      <td>07:44 PM</td>\n",
       "      <td>Evening</td>\n",
       "      <td>JEFFERSON PARK AVE / MAURY AVE</td>\n",
       "      <td>38.025951</td>\n",
       "      <td>-78.515053</td>\n",
       "      <td>Jefferson Park Avenue</td>\n",
       "    </tr>\n",
       "    <tr>\n",
       "      <th>4</th>\n",
       "      <td>5</td>\n",
       "      <td>Larceny - From Motor Vehicle</td>\n",
       "      <td>202500028164</td>\n",
       "      <td>800</td>\n",
       "      <td>W MAIN ST</td>\n",
       "      <td>CPD</td>\n",
       "      <td>1740</td>\n",
       "      <td>Abdelgayed, Adam</td>\n",
       "      <td>2025-08-09 17:40:31</td>\n",
       "      <td>2025-08-09 05:40:31 PM</td>\n",
       "      <td>Saturday</td>\n",
       "      <td>True</td>\n",
       "      <td>Summer</td>\n",
       "      <td>05:40 PM</td>\n",
       "      <td>Evening</td>\n",
       "      <td>800 W MAIN ST</td>\n",
       "      <td>38.031480</td>\n",
       "      <td>-78.490333</td>\n",
       "      <td>Starr Hill</td>\n",
       "    </tr>\n",
       "  </tbody>\n",
       "</table>\n",
       "</div>"
      ],
      "text/plain": [
       "   RecordID                       Offense    IncidentID BlockNumber  \\\n",
       "0         1                     Vandalism  202500028237         600   \n",
       "1         2                Assault Simple  202500028224        1400   \n",
       "2         3                   Hit and Run  202500028219        1000   \n",
       "3         4                Drunkeness DIP  202500028187               \n",
       "4         5  Larceny - From Motor Vehicle  202500028164         800   \n",
       "\n",
       "                       StreetName Agency HourReported  ReportingOfficer  \\\n",
       "0                      E WATER ST    CPD         0107    Benbow, Lauren   \n",
       "1                  UNIVERSITY AVE    CPD         2343     Rigsby, Lloyd   \n",
       "2                       W MAIN ST    CPD         2323    Benbow, Lauren   \n",
       "3  JEFFERSON PARK AVE / MAURY AVE    CPD         1944     Rigsby, Lloyd   \n",
       "4                       W MAIN ST    CPD         1740  Abdelgayed, Adam   \n",
       "\n",
       "                 Date              DateString DayOfWeek  Weekend  Season  \\\n",
       "0 2025-08-10 01:07:06  2025-08-10 01:07:06 AM    Sunday     True  Summer   \n",
       "1 2025-08-09 23:43:35  2025-08-09 11:43:35 PM  Saturday     True  Summer   \n",
       "2 2025-08-09 23:23:42  2025-08-09 11:23:42 PM  Saturday     True  Summer   \n",
       "3 2025-08-09 19:44:38  2025-08-09 07:44:38 PM  Saturday     True  Summer   \n",
       "4 2025-08-09 17:40:31  2025-08-09 05:40:31 PM  Saturday     True  Summer   \n",
       "\n",
       "   HourAMPM TimeOfDay                       FullStreet        lat        lon  \\\n",
       "0  01:07 AM     Night                   600 E WATER ST  38.028757 -78.477608   \n",
       "1  11:43 PM     Night              1400 UNIVERSITY AVE  38.033936 -78.499972   \n",
       "2  11:23 PM     Night                   1000 W MAIN ST  38.032348 -78.495217   \n",
       "3  07:44 PM   Evening   JEFFERSON PARK AVE / MAURY AVE  38.025951 -78.515053   \n",
       "4  05:40 PM   Evening                    800 W MAIN ST  38.031480 -78.490333   \n",
       "\n",
       "            neighborhood  \n",
       "0         North Downtown  \n",
       "1                    N/A  \n",
       "2            10th & Page  \n",
       "3  Jefferson Park Avenue  \n",
       "4             Starr Hill  "
      ]
     },
     "execution_count": 10,
     "metadata": {},
     "output_type": "execute_result"
    }
   ],
   "source": [
    "# Initialize the Google Maps client.\n",
    "gmaps = googlemaps.Client(key=GOOGLE_API_KEY)\n",
    "\n",
    "# Try to load a persistent neighborhood cache if available.\n",
    "try:\n",
    "    with open(\"neighborhood_cache.pkl\", \"rb\") as f:\n",
    "        neighborhood_cache = pickle.load(f)\n",
    "    print(\"Loaded neighborhood cache.\")\n",
    "except FileNotFoundError:\n",
    "    neighborhood_cache = {}\n",
    "    print(\"No neighborhood cache found; starting fresh.\")\n",
    "\n",
    "def get_neighborhood(lat, lon):\n",
    "    \"\"\"\n",
    "    Reverse geocodes a latitude and longitude to retrieve the neighborhood.\n",
    "    Caches results to speed up subsequent lookups.\n",
    "    \"\"\"\n",
    "    key = (lat, lon)\n",
    "    if key in neighborhood_cache:\n",
    "        return neighborhood_cache[key]\n",
    "    \n",
    "    try:\n",
    "        result = gmaps.reverse_geocode((lat, lon))\n",
    "        if result:\n",
    "            # Look for the 'neighborhood' component in the first result.\n",
    "            for component in result[0]['address_components']:\n",
    "                if 'neighborhood' in component['types']:\n",
    "                    neighborhood = component['long_name']\n",
    "                    neighborhood_cache[key] = neighborhood\n",
    "                    return neighborhood\n",
    "            # If no neighborhood is found, return \"N/A\"\n",
    "            neighborhood_cache[key] = \"N/A\"\n",
    "            return \"N/A\"\n",
    "    except Exception as e:\n",
    "        print(f\"Error getting neighborhood for {lat}, {lon}: {e}\")\n",
    "        return \"N/A\"\n",
    "    \n",
    "    # Pause to respect usage limits.\n",
    "    time.sleep(1)\n",
    "\n",
    "# Example usage: Apply to your DataFrame 'df' that already has 'lat' and 'lon' columns.\n",
    "df['neighborhood'] = df.apply(lambda row: get_neighborhood(row['lat'], row['lon']), axis=1)\n",
    "\n",
    "# Save the updated neighborhood cache.\n",
    "with open(\"neighborhood_cache.pkl\", \"wb\") as f:\n",
    "    pickle.dump(neighborhood_cache, f)\n",
    "\n",
    "df.head()\n"
   ]
  },
  {
   "cell_type": "markdown",
   "id": "0f1413bb",
   "metadata": {
    "papermill": {
     "duration": 0.006126,
     "end_time": "2025-08-12T01:05:39.848127",
     "exception": false,
     "start_time": "2025-08-12T01:05:39.842001",
     "status": "completed"
    },
    "tags": []
   },
   "source": [
    "### Zip"
   ]
  },
  {
   "cell_type": "code",
   "execution_count": 11,
   "id": "876ad2a4",
   "metadata": {
    "execution": {
     "iopub.execute_input": "2025-08-12T01:05:39.861475Z",
     "iopub.status.busy": "2025-08-12T01:05:39.861210Z",
     "iopub.status.idle": "2025-08-12T01:07:17.406858Z",
     "shell.execute_reply": "2025-08-12T01:07:17.406239Z"
    },
    "papermill": {
     "duration": 97.553686,
     "end_time": "2025-08-12T01:07:17.407905",
     "exception": false,
     "start_time": "2025-08-12T01:05:39.854219",
     "status": "completed"
    },
    "tags": []
   },
   "outputs": [
    {
     "name": "stdout",
     "output_type": "stream",
     "text": [
      "Loaded zip cache.\n",
      "Error getting ZIP for nan, nan: Must be a coordinate pair or Point\n"
     ]
    },
    {
     "name": "stdout",
     "output_type": "stream",
     "text": [
      "Error getting ZIP for nan, nan: Must be a coordinate pair or Point\n"
     ]
    },
    {
     "name": "stdout",
     "output_type": "stream",
     "text": [
      "Error getting ZIP for nan, nan: Must be a coordinate pair or Point\n"
     ]
    },
    {
     "name": "stdout",
     "output_type": "stream",
     "text": [
      "Error getting ZIP for nan, nan: Must be a coordinate pair or Point\n"
     ]
    },
    {
     "name": "stdout",
     "output_type": "stream",
     "text": [
      "Error getting ZIP for nan, nan: Must be a coordinate pair or Point\n"
     ]
    },
    {
     "name": "stdout",
     "output_type": "stream",
     "text": [
      "Error getting ZIP for nan, nan: Must be a coordinate pair or Point\n"
     ]
    },
    {
     "name": "stdout",
     "output_type": "stream",
     "text": [
      "Error getting ZIP for nan, nan: Must be a coordinate pair or Point\n"
     ]
    },
    {
     "name": "stdout",
     "output_type": "stream",
     "text": [
      "Error getting ZIP for nan, nan: Must be a coordinate pair or Point\n"
     ]
    },
    {
     "name": "stdout",
     "output_type": "stream",
     "text": [
      "Error getting ZIP for nan, nan: Must be a coordinate pair or Point\n"
     ]
    },
    {
     "name": "stdout",
     "output_type": "stream",
     "text": [
      "Error getting ZIP for nan, nan: Must be a coordinate pair or Point\n"
     ]
    },
    {
     "name": "stdout",
     "output_type": "stream",
     "text": [
      "Error getting ZIP for nan, nan: Must be a coordinate pair or Point\n"
     ]
    },
    {
     "name": "stdout",
     "output_type": "stream",
     "text": [
      "Error getting ZIP for nan, nan: Must be a coordinate pair or Point\n"
     ]
    },
    {
     "name": "stdout",
     "output_type": "stream",
     "text": [
      "Error getting ZIP for nan, nan: Must be a coordinate pair or Point\n"
     ]
    },
    {
     "name": "stdout",
     "output_type": "stream",
     "text": [
      "Error getting ZIP for nan, nan: Must be a coordinate pair or Point\n"
     ]
    },
    {
     "name": "stdout",
     "output_type": "stream",
     "text": [
      "Error getting ZIP for nan, nan: Must be a coordinate pair or Point\n"
     ]
    },
    {
     "name": "stdout",
     "output_type": "stream",
     "text": [
      "Error getting ZIP for nan, nan: Must be a coordinate pair or Point\n"
     ]
    },
    {
     "name": "stdout",
     "output_type": "stream",
     "text": [
      "Error getting ZIP for nan, nan: Must be a coordinate pair or Point\n"
     ]
    },
    {
     "name": "stdout",
     "output_type": "stream",
     "text": [
      "Error getting ZIP for nan, nan: Must be a coordinate pair or Point\n"
     ]
    },
    {
     "name": "stdout",
     "output_type": "stream",
     "text": [
      "Error getting ZIP for nan, nan: Must be a coordinate pair or Point\n"
     ]
    },
    {
     "name": "stdout",
     "output_type": "stream",
     "text": [
      "Error getting ZIP for nan, nan: Must be a coordinate pair or Point\n"
     ]
    },
    {
     "name": "stdout",
     "output_type": "stream",
     "text": [
      "Error getting ZIP for nan, nan: Must be a coordinate pair or Point\n"
     ]
    },
    {
     "name": "stdout",
     "output_type": "stream",
     "text": [
      "Error getting ZIP for nan, nan: Must be a coordinate pair or Point\n"
     ]
    },
    {
     "name": "stdout",
     "output_type": "stream",
     "text": [
      "Error getting ZIP for nan, nan: Must be a coordinate pair or Point\n"
     ]
    },
    {
     "name": "stdout",
     "output_type": "stream",
     "text": [
      "Error getting ZIP for nan, nan: Must be a coordinate pair or Point\n"
     ]
    },
    {
     "name": "stdout",
     "output_type": "stream",
     "text": [
      "Error getting ZIP for nan, nan: Must be a coordinate pair or Point\n"
     ]
    },
    {
     "name": "stdout",
     "output_type": "stream",
     "text": [
      "Error getting ZIP for nan, nan: Must be a coordinate pair or Point\n"
     ]
    },
    {
     "name": "stdout",
     "output_type": "stream",
     "text": [
      "Error getting ZIP for nan, nan: Must be a coordinate pair or Point\n"
     ]
    },
    {
     "name": "stdout",
     "output_type": "stream",
     "text": [
      "Error getting ZIP for nan, nan: Must be a coordinate pair or Point\n"
     ]
    },
    {
     "name": "stdout",
     "output_type": "stream",
     "text": [
      "Error getting ZIP for nan, nan: Must be a coordinate pair or Point\n"
     ]
    },
    {
     "name": "stdout",
     "output_type": "stream",
     "text": [
      "Error getting ZIP for nan, nan: Must be a coordinate pair or Point\n"
     ]
    },
    {
     "name": "stdout",
     "output_type": "stream",
     "text": [
      "Error getting ZIP for nan, nan: Must be a coordinate pair or Point\n"
     ]
    },
    {
     "name": "stdout",
     "output_type": "stream",
     "text": [
      "Error getting ZIP for nan, nan: Must be a coordinate pair or Point\n"
     ]
    },
    {
     "name": "stdout",
     "output_type": "stream",
     "text": [
      "Error getting ZIP for nan, nan: Must be a coordinate pair or Point\n"
     ]
    },
    {
     "name": "stdout",
     "output_type": "stream",
     "text": [
      "Error getting ZIP for nan, nan: Must be a coordinate pair or Point\n"
     ]
    },
    {
     "name": "stdout",
     "output_type": "stream",
     "text": [
      "Error getting ZIP for nan, nan: Must be a coordinate pair or Point\n"
     ]
    },
    {
     "name": "stdout",
     "output_type": "stream",
     "text": [
      "Error getting ZIP for nan, nan: Must be a coordinate pair or Point\n"
     ]
    },
    {
     "name": "stdout",
     "output_type": "stream",
     "text": [
      "Error getting ZIP for nan, nan: Must be a coordinate pair or Point\n"
     ]
    },
    {
     "name": "stdout",
     "output_type": "stream",
     "text": [
      "Error getting ZIP for nan, nan: Must be a coordinate pair or Point\n"
     ]
    },
    {
     "name": "stdout",
     "output_type": "stream",
     "text": [
      "Error getting ZIP for nan, nan: Must be a coordinate pair or Point\n"
     ]
    },
    {
     "name": "stdout",
     "output_type": "stream",
     "text": [
      "Error getting ZIP for nan, nan: Must be a coordinate pair or Point\n"
     ]
    },
    {
     "name": "stdout",
     "output_type": "stream",
     "text": [
      "Error getting ZIP for nan, nan: Must be a coordinate pair or Point\n"
     ]
    },
    {
     "name": "stdout",
     "output_type": "stream",
     "text": [
      "Error getting ZIP for nan, nan: Must be a coordinate pair or Point\n"
     ]
    },
    {
     "name": "stdout",
     "output_type": "stream",
     "text": [
      "Error getting ZIP for nan, nan: Must be a coordinate pair or Point\n"
     ]
    },
    {
     "name": "stdout",
     "output_type": "stream",
     "text": [
      "Error getting ZIP for nan, nan: Must be a coordinate pair or Point\n"
     ]
    },
    {
     "name": "stdout",
     "output_type": "stream",
     "text": [
      "Error getting ZIP for nan, nan: Must be a coordinate pair or Point\n"
     ]
    },
    {
     "name": "stdout",
     "output_type": "stream",
     "text": [
      "Error getting ZIP for nan, nan: Must be a coordinate pair or Point\n"
     ]
    },
    {
     "name": "stdout",
     "output_type": "stream",
     "text": [
      "Error getting ZIP for nan, nan: Must be a coordinate pair or Point\n"
     ]
    },
    {
     "name": "stdout",
     "output_type": "stream",
     "text": [
      "Error getting ZIP for nan, nan: Must be a coordinate pair or Point\n"
     ]
    },
    {
     "name": "stdout",
     "output_type": "stream",
     "text": [
      "Error getting ZIP for nan, nan: Must be a coordinate pair or Point\n"
     ]
    },
    {
     "name": "stdout",
     "output_type": "stream",
     "text": [
      "Error getting ZIP for nan, nan: Must be a coordinate pair or Point\n"
     ]
    },
    {
     "name": "stdout",
     "output_type": "stream",
     "text": [
      "Error getting ZIP for nan, nan: Must be a coordinate pair or Point\n"
     ]
    },
    {
     "name": "stdout",
     "output_type": "stream",
     "text": [
      "Error getting ZIP for nan, nan: Must be a coordinate pair or Point\n"
     ]
    },
    {
     "name": "stdout",
     "output_type": "stream",
     "text": [
      "Error getting ZIP for nan, nan: Must be a coordinate pair or Point\n"
     ]
    },
    {
     "name": "stdout",
     "output_type": "stream",
     "text": [
      "Error getting ZIP for nan, nan: Must be a coordinate pair or Point\n"
     ]
    },
    {
     "name": "stdout",
     "output_type": "stream",
     "text": [
      "Error getting ZIP for nan, nan: Must be a coordinate pair or Point\n"
     ]
    },
    {
     "name": "stdout",
     "output_type": "stream",
     "text": [
      "Error getting ZIP for nan, nan: Must be a coordinate pair or Point\n"
     ]
    },
    {
     "name": "stdout",
     "output_type": "stream",
     "text": [
      "Error getting ZIP for nan, nan: Must be a coordinate pair or Point\n"
     ]
    },
    {
     "name": "stdout",
     "output_type": "stream",
     "text": [
      "Error getting ZIP for nan, nan: Must be a coordinate pair or Point\n"
     ]
    },
    {
     "name": "stdout",
     "output_type": "stream",
     "text": [
      "Error getting ZIP for nan, nan: Must be a coordinate pair or Point\n"
     ]
    },
    {
     "name": "stdout",
     "output_type": "stream",
     "text": [
      "Error getting ZIP for nan, nan: Must be a coordinate pair or Point\n"
     ]
    },
    {
     "name": "stdout",
     "output_type": "stream",
     "text": [
      "Error getting ZIP for nan, nan: Must be a coordinate pair or Point\n"
     ]
    },
    {
     "name": "stdout",
     "output_type": "stream",
     "text": [
      "Error getting ZIP for nan, nan: Must be a coordinate pair or Point\n"
     ]
    },
    {
     "name": "stdout",
     "output_type": "stream",
     "text": [
      "Error getting ZIP for nan, nan: Must be a coordinate pair or Point\n"
     ]
    },
    {
     "name": "stdout",
     "output_type": "stream",
     "text": [
      "Error getting ZIP for nan, nan: Must be a coordinate pair or Point\n"
     ]
    },
    {
     "name": "stdout",
     "output_type": "stream",
     "text": [
      "Error getting ZIP for nan, nan: Must be a coordinate pair or Point\n"
     ]
    },
    {
     "name": "stdout",
     "output_type": "stream",
     "text": [
      "Error getting ZIP for nan, nan: Must be a coordinate pair or Point\n"
     ]
    },
    {
     "name": "stdout",
     "output_type": "stream",
     "text": [
      "Error getting ZIP for nan, nan: Must be a coordinate pair or Point\n"
     ]
    },
    {
     "name": "stdout",
     "output_type": "stream",
     "text": [
      "Error getting ZIP for nan, nan: Must be a coordinate pair or Point\n"
     ]
    },
    {
     "name": "stdout",
     "output_type": "stream",
     "text": [
      "Error getting ZIP for nan, nan: Must be a coordinate pair or Point\n"
     ]
    },
    {
     "name": "stdout",
     "output_type": "stream",
     "text": [
      "Error getting ZIP for nan, nan: Must be a coordinate pair or Point\n"
     ]
    },
    {
     "name": "stdout",
     "output_type": "stream",
     "text": [
      "Error getting ZIP for nan, nan: Must be a coordinate pair or Point\n"
     ]
    },
    {
     "name": "stdout",
     "output_type": "stream",
     "text": [
      "Error getting ZIP for nan, nan: Must be a coordinate pair or Point\n"
     ]
    },
    {
     "name": "stdout",
     "output_type": "stream",
     "text": [
      "Error getting ZIP for nan, nan: Must be a coordinate pair or Point\n"
     ]
    },
    {
     "name": "stdout",
     "output_type": "stream",
     "text": [
      "Error getting ZIP for nan, nan: Must be a coordinate pair or Point\n"
     ]
    },
    {
     "name": "stdout",
     "output_type": "stream",
     "text": [
      "Error getting ZIP for nan, nan: Must be a coordinate pair or Point\n"
     ]
    },
    {
     "name": "stdout",
     "output_type": "stream",
     "text": [
      "Error getting ZIP for nan, nan: Must be a coordinate pair or Point\n"
     ]
    },
    {
     "name": "stdout",
     "output_type": "stream",
     "text": [
      "Error getting ZIP for nan, nan: Must be a coordinate pair or Point\n"
     ]
    },
    {
     "name": "stdout",
     "output_type": "stream",
     "text": [
      "Error getting ZIP for nan, nan: Must be a coordinate pair or Point\n"
     ]
    },
    {
     "name": "stdout",
     "output_type": "stream",
     "text": [
      "Error getting ZIP for nan, nan: Must be a coordinate pair or Point\n"
     ]
    },
    {
     "name": "stdout",
     "output_type": "stream",
     "text": [
      "Error getting ZIP for nan, nan: Must be a coordinate pair or Point\n"
     ]
    },
    {
     "name": "stdout",
     "output_type": "stream",
     "text": [
      "Error getting ZIP for nan, nan: Must be a coordinate pair or Point\n"
     ]
    },
    {
     "name": "stdout",
     "output_type": "stream",
     "text": [
      "Error getting ZIP for nan, nan: Must be a coordinate pair or Point\n"
     ]
    },
    {
     "name": "stdout",
     "output_type": "stream",
     "text": [
      "Error getting ZIP for nan, nan: Must be a coordinate pair or Point\n"
     ]
    },
    {
     "name": "stdout",
     "output_type": "stream",
     "text": [
      "Error getting ZIP for nan, nan: Must be a coordinate pair or Point\n"
     ]
    },
    {
     "name": "stdout",
     "output_type": "stream",
     "text": [
      "Error getting ZIP for nan, nan: Must be a coordinate pair or Point\n"
     ]
    },
    {
     "name": "stdout",
     "output_type": "stream",
     "text": [
      "Error getting ZIP for nan, nan: Must be a coordinate pair or Point\n"
     ]
    },
    {
     "name": "stdout",
     "output_type": "stream",
     "text": [
      "Error getting ZIP for nan, nan: Must be a coordinate pair or Point\n"
     ]
    },
    {
     "name": "stdout",
     "output_type": "stream",
     "text": [
      "Error getting ZIP for nan, nan: Must be a coordinate pair or Point\n"
     ]
    },
    {
     "name": "stdout",
     "output_type": "stream",
     "text": [
      "Error getting ZIP for nan, nan: Must be a coordinate pair or Point\n"
     ]
    },
    {
     "name": "stdout",
     "output_type": "stream",
     "text": [
      "Error getting ZIP for nan, nan: Must be a coordinate pair or Point\n"
     ]
    },
    {
     "name": "stdout",
     "output_type": "stream",
     "text": [
      "Error getting ZIP for nan, nan: Must be a coordinate pair or Point\n"
     ]
    },
    {
     "name": "stdout",
     "output_type": "stream",
     "text": [
      "Error getting ZIP for nan, nan: Must be a coordinate pair or Point\n"
     ]
    },
    {
     "name": "stdout",
     "output_type": "stream",
     "text": [
      "Error getting ZIP for nan, nan: Must be a coordinate pair or Point\n"
     ]
    },
    {
     "name": "stdout",
     "output_type": "stream",
     "text": [
      "Error getting ZIP for nan, nan: Must be a coordinate pair or Point\n"
     ]
    },
    {
     "name": "stdout",
     "output_type": "stream",
     "text": [
      "Error getting ZIP for nan, nan: Must be a coordinate pair or Point\n"
     ]
    },
    {
     "name": "stdout",
     "output_type": "stream",
     "text": [
      "Error getting ZIP for nan, nan: Must be a coordinate pair or Point\n"
     ]
    },
    {
     "name": "stdout",
     "output_type": "stream",
     "text": [
      "Error getting ZIP for nan, nan: Must be a coordinate pair or Point\n"
     ]
    },
    {
     "data": {
      "text/html": [
       "<div>\n",
       "<style scoped>\n",
       "    .dataframe tbody tr th:only-of-type {\n",
       "        vertical-align: middle;\n",
       "    }\n",
       "\n",
       "    .dataframe tbody tr th {\n",
       "        vertical-align: top;\n",
       "    }\n",
       "\n",
       "    .dataframe thead th {\n",
       "        text-align: right;\n",
       "    }\n",
       "</style>\n",
       "<table border=\"1\" class=\"dataframe\">\n",
       "  <thead>\n",
       "    <tr style=\"text-align: right;\">\n",
       "      <th></th>\n",
       "      <th>RecordID</th>\n",
       "      <th>Offense</th>\n",
       "      <th>IncidentID</th>\n",
       "      <th>BlockNumber</th>\n",
       "      <th>StreetName</th>\n",
       "      <th>Agency</th>\n",
       "      <th>HourReported</th>\n",
       "      <th>ReportingOfficer</th>\n",
       "      <th>Date</th>\n",
       "      <th>DateString</th>\n",
       "      <th>DayOfWeek</th>\n",
       "      <th>Weekend</th>\n",
       "      <th>Season</th>\n",
       "      <th>HourAMPM</th>\n",
       "      <th>TimeOfDay</th>\n",
       "      <th>FullStreet</th>\n",
       "      <th>lat</th>\n",
       "      <th>lon</th>\n",
       "      <th>neighborhood</th>\n",
       "      <th>zip</th>\n",
       "    </tr>\n",
       "  </thead>\n",
       "  <tbody>\n",
       "    <tr>\n",
       "      <th>0</th>\n",
       "      <td>1</td>\n",
       "      <td>Vandalism</td>\n",
       "      <td>202500028237</td>\n",
       "      <td>600</td>\n",
       "      <td>E WATER ST</td>\n",
       "      <td>CPD</td>\n",
       "      <td>0107</td>\n",
       "      <td>Benbow, Lauren</td>\n",
       "      <td>2025-08-10 01:07:06</td>\n",
       "      <td>2025-08-10 01:07:06 AM</td>\n",
       "      <td>Sunday</td>\n",
       "      <td>True</td>\n",
       "      <td>Summer</td>\n",
       "      <td>01:07 AM</td>\n",
       "      <td>Night</td>\n",
       "      <td>600 E WATER ST</td>\n",
       "      <td>38.028757</td>\n",
       "      <td>-78.477608</td>\n",
       "      <td>North Downtown</td>\n",
       "      <td>22902</td>\n",
       "    </tr>\n",
       "    <tr>\n",
       "      <th>1</th>\n",
       "      <td>2</td>\n",
       "      <td>Assault Simple</td>\n",
       "      <td>202500028224</td>\n",
       "      <td>1400</td>\n",
       "      <td>UNIVERSITY AVE</td>\n",
       "      <td>CPD</td>\n",
       "      <td>2343</td>\n",
       "      <td>Rigsby, Lloyd</td>\n",
       "      <td>2025-08-09 23:43:35</td>\n",
       "      <td>2025-08-09 11:43:35 PM</td>\n",
       "      <td>Saturday</td>\n",
       "      <td>True</td>\n",
       "      <td>Summer</td>\n",
       "      <td>11:43 PM</td>\n",
       "      <td>Night</td>\n",
       "      <td>1400 UNIVERSITY AVE</td>\n",
       "      <td>38.033936</td>\n",
       "      <td>-78.499972</td>\n",
       "      <td>N/A</td>\n",
       "      <td>22903</td>\n",
       "    </tr>\n",
       "    <tr>\n",
       "      <th>2</th>\n",
       "      <td>3</td>\n",
       "      <td>Hit and Run</td>\n",
       "      <td>202500028219</td>\n",
       "      <td>1000</td>\n",
       "      <td>W MAIN ST</td>\n",
       "      <td>CPD</td>\n",
       "      <td>2323</td>\n",
       "      <td>Benbow, Lauren</td>\n",
       "      <td>2025-08-09 23:23:42</td>\n",
       "      <td>2025-08-09 11:23:42 PM</td>\n",
       "      <td>Saturday</td>\n",
       "      <td>True</td>\n",
       "      <td>Summer</td>\n",
       "      <td>11:23 PM</td>\n",
       "      <td>Night</td>\n",
       "      <td>1000 W MAIN ST</td>\n",
       "      <td>38.032348</td>\n",
       "      <td>-78.495217</td>\n",
       "      <td>10th &amp; Page</td>\n",
       "      <td>22903</td>\n",
       "    </tr>\n",
       "    <tr>\n",
       "      <th>3</th>\n",
       "      <td>4</td>\n",
       "      <td>Drunkeness DIP</td>\n",
       "      <td>202500028187</td>\n",
       "      <td></td>\n",
       "      <td>JEFFERSON PARK AVE / MAURY AVE</td>\n",
       "      <td>CPD</td>\n",
       "      <td>1944</td>\n",
       "      <td>Rigsby, Lloyd</td>\n",
       "      <td>2025-08-09 19:44:38</td>\n",
       "      <td>2025-08-09 07:44:38 PM</td>\n",
       "      <td>Saturday</td>\n",
       "      <td>True</td>\n",
       "      <td>Summer</td>\n",
       "      <td>07:44 PM</td>\n",
       "      <td>Evening</td>\n",
       "      <td>JEFFERSON PARK AVE / MAURY AVE</td>\n",
       "      <td>38.025951</td>\n",
       "      <td>-78.515053</td>\n",
       "      <td>Jefferson Park Avenue</td>\n",
       "      <td>22903</td>\n",
       "    </tr>\n",
       "    <tr>\n",
       "      <th>4</th>\n",
       "      <td>5</td>\n",
       "      <td>Larceny - From Motor Vehicle</td>\n",
       "      <td>202500028164</td>\n",
       "      <td>800</td>\n",
       "      <td>W MAIN ST</td>\n",
       "      <td>CPD</td>\n",
       "      <td>1740</td>\n",
       "      <td>Abdelgayed, Adam</td>\n",
       "      <td>2025-08-09 17:40:31</td>\n",
       "      <td>2025-08-09 05:40:31 PM</td>\n",
       "      <td>Saturday</td>\n",
       "      <td>True</td>\n",
       "      <td>Summer</td>\n",
       "      <td>05:40 PM</td>\n",
       "      <td>Evening</td>\n",
       "      <td>800 W MAIN ST</td>\n",
       "      <td>38.031480</td>\n",
       "      <td>-78.490333</td>\n",
       "      <td>Starr Hill</td>\n",
       "      <td>22903</td>\n",
       "    </tr>\n",
       "  </tbody>\n",
       "</table>\n",
       "</div>"
      ],
      "text/plain": [
       "   RecordID                       Offense    IncidentID BlockNumber  \\\n",
       "0         1                     Vandalism  202500028237         600   \n",
       "1         2                Assault Simple  202500028224        1400   \n",
       "2         3                   Hit and Run  202500028219        1000   \n",
       "3         4                Drunkeness DIP  202500028187               \n",
       "4         5  Larceny - From Motor Vehicle  202500028164         800   \n",
       "\n",
       "                       StreetName Agency HourReported  ReportingOfficer  \\\n",
       "0                      E WATER ST    CPD         0107    Benbow, Lauren   \n",
       "1                  UNIVERSITY AVE    CPD         2343     Rigsby, Lloyd   \n",
       "2                       W MAIN ST    CPD         2323    Benbow, Lauren   \n",
       "3  JEFFERSON PARK AVE / MAURY AVE    CPD         1944     Rigsby, Lloyd   \n",
       "4                       W MAIN ST    CPD         1740  Abdelgayed, Adam   \n",
       "\n",
       "                 Date              DateString DayOfWeek  Weekend  Season  \\\n",
       "0 2025-08-10 01:07:06  2025-08-10 01:07:06 AM    Sunday     True  Summer   \n",
       "1 2025-08-09 23:43:35  2025-08-09 11:43:35 PM  Saturday     True  Summer   \n",
       "2 2025-08-09 23:23:42  2025-08-09 11:23:42 PM  Saturday     True  Summer   \n",
       "3 2025-08-09 19:44:38  2025-08-09 07:44:38 PM  Saturday     True  Summer   \n",
       "4 2025-08-09 17:40:31  2025-08-09 05:40:31 PM  Saturday     True  Summer   \n",
       "\n",
       "   HourAMPM TimeOfDay                       FullStreet        lat        lon  \\\n",
       "0  01:07 AM     Night                   600 E WATER ST  38.028757 -78.477608   \n",
       "1  11:43 PM     Night              1400 UNIVERSITY AVE  38.033936 -78.499972   \n",
       "2  11:23 PM     Night                   1000 W MAIN ST  38.032348 -78.495217   \n",
       "3  07:44 PM   Evening   JEFFERSON PARK AVE / MAURY AVE  38.025951 -78.515053   \n",
       "4  05:40 PM   Evening                    800 W MAIN ST  38.031480 -78.490333   \n",
       "\n",
       "            neighborhood    zip  \n",
       "0         North Downtown  22902  \n",
       "1                    N/A  22903  \n",
       "2            10th & Page  22903  \n",
       "3  Jefferson Park Avenue  22903  \n",
       "4             Starr Hill  22903  "
      ]
     },
     "execution_count": 11,
     "metadata": {},
     "output_type": "execute_result"
    }
   ],
   "source": [
    "# Initialize the geocoder.\n",
    "geolocator = Nominatim(user_agent=\"zip_lookup\")\n",
    "\n",
    "# Try to load a persistent ZIP cache if available.\n",
    "try:\n",
    "    with open(\"zip_cache.pkl\", \"rb\") as f:\n",
    "        zip_cache = pickle.load(f)\n",
    "    print(\"Loaded zip cache.\")\n",
    "except FileNotFoundError:\n",
    "    zip_cache = {}\n",
    "    print(\"No zip cache found; starting fresh.\")\n",
    "\n",
    "def get_zip(lat, lon):\n",
    "    \"\"\"\n",
    "    Reverse geocodes a latitude and longitude to retrieve the ZIP code.\n",
    "    Caches results to speed up subsequent lookups.\n",
    "    \"\"\"\n",
    "    key = (lat, lon)\n",
    "    if key in zip_cache:\n",
    "        return zip_cache[key]\n",
    "    \n",
    "    try:\n",
    "        location = geolocator.reverse((lat, lon), exactly_one=True, timeout=10)\n",
    "        address = location.raw.get('address', {})\n",
    "        postal_code = address.get('postcode', \"N/A\")\n",
    "    except Exception as e:\n",
    "        print(f\"Error getting ZIP for {lat}, {lon}: {e}\")\n",
    "        postal_code = \"N/A\"\n",
    "    \n",
    "    zip_cache[key] = postal_code\n",
    "    # Pause to respect the usage policy.\n",
    "    time.sleep(1)\n",
    "    return postal_code\n",
    "\n",
    "# Apply the function to each row in the DataFrame.\n",
    "df['zip'] = df.apply(lambda row: get_zip(row['lat'], row['lon']), axis=1)\n",
    "\n",
    "# Save the updated ZIP cache.\n",
    "with open(\"zip_cache.pkl\", \"wb\") as f:\n",
    "    pickle.dump(zip_cache, f)\n",
    "\n",
    "df.head()\n"
   ]
  },
  {
   "cell_type": "code",
   "execution_count": 12,
   "id": "2f10c1de",
   "metadata": {
    "execution": {
     "iopub.execute_input": "2025-08-12T01:07:17.430244Z",
     "iopub.status.busy": "2025-08-12T01:07:17.429960Z",
     "iopub.status.idle": "2025-08-12T01:07:17.460326Z",
     "shell.execute_reply": "2025-08-12T01:07:17.459730Z"
    },
    "papermill": {
     "duration": 0.042644,
     "end_time": "2025-08-12T01:07:17.461382",
     "exception": false,
     "start_time": "2025-08-12T01:07:17.418738",
     "status": "completed"
    },
    "tags": []
   },
   "outputs": [
    {
     "name": "stdout",
     "output_type": "stream",
     "text": [
      "                  MissingCount  MissingPercentage\n",
      "RecordID                     0               0.00\n",
      "Offense                      0               0.00\n",
      "IncidentID                   0               0.00\n",
      "BlockNumber                  0               0.00\n",
      "StreetName                   0               0.00\n",
      "Agency                       0               0.00\n",
      "HourReported                 0               0.00\n",
      "ReportingOfficer            15               0.06\n",
      "Date                         0               0.00\n",
      "DateString                   0               0.00\n",
      "DayOfWeek                    0               0.00\n",
      "Weekend                      0               0.00\n",
      "Season                       0               0.00\n",
      "HourAMPM                     0               0.00\n",
      "TimeOfDay                    0               0.00\n",
      "FullStreet                   0               0.00\n",
      "lat                         97               0.38\n",
      "lon                         97               0.38\n",
      "neighborhood                 0               0.00\n",
      "zip                          0               0.00\n"
     ]
    }
   ],
   "source": [
    "missing_info = missing_percentage(df)\n",
    "print(missing_info)\n"
   ]
  },
  {
   "cell_type": "code",
   "execution_count": 13,
   "id": "627b6d6e",
   "metadata": {
    "execution": {
     "iopub.execute_input": "2025-08-12T01:07:17.483518Z",
     "iopub.status.busy": "2025-08-12T01:07:17.483283Z",
     "iopub.status.idle": "2025-08-12T01:07:17.513128Z",
     "shell.execute_reply": "2025-08-12T01:07:17.512526Z"
    },
    "papermill": {
     "duration": 0.04195,
     "end_time": "2025-08-12T01:07:17.514189",
     "exception": false,
     "start_time": "2025-08-12T01:07:17.472239",
     "status": "completed"
    },
    "tags": []
   },
   "outputs": [
    {
     "name": "stdout",
     "output_type": "stream",
     "text": [
      "<class 'pandas.core.frame.DataFrame'>\n",
      "RangeIndex: 25642 entries, 0 to 25641\n",
      "Data columns (total 20 columns):\n",
      " #   Column            Non-Null Count  Dtype         \n",
      "---  ------            --------------  -----         \n",
      " 0   RecordID          25642 non-null  int64         \n",
      " 1   Offense           25642 non-null  object        \n",
      " 2   IncidentID        25642 non-null  object        \n",
      " 3   BlockNumber       25642 non-null  object        \n",
      " 4   StreetName        25642 non-null  object        \n",
      " 5   Agency            25642 non-null  object        \n",
      " 6   HourReported      25642 non-null  object        \n",
      " 7   ReportingOfficer  25627 non-null  object        \n",
      " 8   Date              25642 non-null  datetime64[ns]\n",
      " 9   DateString        25642 non-null  object        \n",
      " 10  DayOfWeek         25642 non-null  object        \n",
      " 11  Weekend           25642 non-null  bool          \n",
      " 12  Season            25642 non-null  object        \n",
      " 13  HourAMPM          25642 non-null  object        \n",
      " 14  TimeOfDay         25642 non-null  object        \n",
      " 15  FullStreet        25642 non-null  object        \n",
      " 16  lat               25545 non-null  float64       \n",
      " 17  lon               25545 non-null  float64       \n",
      " 18  neighborhood      25642 non-null  object        \n",
      " 19  zip               25642 non-null  object        \n",
      "dtypes: bool(1), datetime64[ns](1), float64(2), int64(1), object(15)\n",
      "memory usage: 3.7+ MB\n"
     ]
    }
   ],
   "source": [
    "df.info()"
   ]
  },
  {
   "cell_type": "code",
   "execution_count": 14,
   "id": "5a9db6ab",
   "metadata": {
    "execution": {
     "iopub.execute_input": "2025-08-12T01:07:17.536873Z",
     "iopub.status.busy": "2025-08-12T01:07:17.536597Z",
     "iopub.status.idle": "2025-08-12T01:07:17.581713Z",
     "shell.execute_reply": "2025-08-12T01:07:17.581035Z"
    },
    "papermill": {
     "duration": 0.057685,
     "end_time": "2025-08-12T01:07:17.582845",
     "exception": false,
     "start_time": "2025-08-12T01:07:17.525160",
     "status": "completed"
    },
    "tags": []
   },
   "outputs": [
    {
     "data": {
      "text/html": [
       "<div>\n",
       "<style scoped>\n",
       "    .dataframe tbody tr th:only-of-type {\n",
       "        vertical-align: middle;\n",
       "    }\n",
       "\n",
       "    .dataframe tbody tr th {\n",
       "        vertical-align: top;\n",
       "    }\n",
       "\n",
       "    .dataframe thead th {\n",
       "        text-align: right;\n",
       "    }\n",
       "</style>\n",
       "<table border=\"1\" class=\"dataframe\">\n",
       "  <thead>\n",
       "    <tr style=\"text-align: right;\">\n",
       "      <th></th>\n",
       "      <th>RecordID</th>\n",
       "      <th>Offense</th>\n",
       "      <th>IncidentID</th>\n",
       "      <th>Agency</th>\n",
       "      <th>ReportingOfficer</th>\n",
       "      <th>Date</th>\n",
       "      <th>DayOfWeek</th>\n",
       "      <th>Weekend</th>\n",
       "      <th>Season</th>\n",
       "      <th>TimeOfDay</th>\n",
       "      <th>FullStreet</th>\n",
       "      <th>lat</th>\n",
       "      <th>lon</th>\n",
       "      <th>neighborhood</th>\n",
       "      <th>zip</th>\n",
       "    </tr>\n",
       "  </thead>\n",
       "  <tbody>\n",
       "    <tr>\n",
       "      <th>0</th>\n",
       "      <td>1</td>\n",
       "      <td>Vandalism</td>\n",
       "      <td>202500028237</td>\n",
       "      <td>CPD</td>\n",
       "      <td>Benbow, Lauren</td>\n",
       "      <td>2025-08-10 01:07:06</td>\n",
       "      <td>Sunday</td>\n",
       "      <td>True</td>\n",
       "      <td>Summer</td>\n",
       "      <td>Night</td>\n",
       "      <td>600 E WATER ST</td>\n",
       "      <td>38.028757</td>\n",
       "      <td>-78.477608</td>\n",
       "      <td>North Downtown</td>\n",
       "      <td>22902</td>\n",
       "    </tr>\n",
       "    <tr>\n",
       "      <th>1</th>\n",
       "      <td>2</td>\n",
       "      <td>Assault Simple</td>\n",
       "      <td>202500028224</td>\n",
       "      <td>CPD</td>\n",
       "      <td>Rigsby, Lloyd</td>\n",
       "      <td>2025-08-09 23:43:35</td>\n",
       "      <td>Saturday</td>\n",
       "      <td>True</td>\n",
       "      <td>Summer</td>\n",
       "      <td>Night</td>\n",
       "      <td>1400 UNIVERSITY AVE</td>\n",
       "      <td>38.033936</td>\n",
       "      <td>-78.499972</td>\n",
       "      <td>N/A</td>\n",
       "      <td>22903</td>\n",
       "    </tr>\n",
       "    <tr>\n",
       "      <th>2</th>\n",
       "      <td>3</td>\n",
       "      <td>Hit and Run</td>\n",
       "      <td>202500028219</td>\n",
       "      <td>CPD</td>\n",
       "      <td>Benbow, Lauren</td>\n",
       "      <td>2025-08-09 23:23:42</td>\n",
       "      <td>Saturday</td>\n",
       "      <td>True</td>\n",
       "      <td>Summer</td>\n",
       "      <td>Night</td>\n",
       "      <td>1000 W MAIN ST</td>\n",
       "      <td>38.032348</td>\n",
       "      <td>-78.495217</td>\n",
       "      <td>10th &amp; Page</td>\n",
       "      <td>22903</td>\n",
       "    </tr>\n",
       "    <tr>\n",
       "      <th>3</th>\n",
       "      <td>4</td>\n",
       "      <td>Drunkeness DIP</td>\n",
       "      <td>202500028187</td>\n",
       "      <td>CPD</td>\n",
       "      <td>Rigsby, Lloyd</td>\n",
       "      <td>2025-08-09 19:44:38</td>\n",
       "      <td>Saturday</td>\n",
       "      <td>True</td>\n",
       "      <td>Summer</td>\n",
       "      <td>Evening</td>\n",
       "      <td>JEFFERSON PARK AVE / MAURY AVE</td>\n",
       "      <td>38.025951</td>\n",
       "      <td>-78.515053</td>\n",
       "      <td>Jefferson Park Avenue</td>\n",
       "      <td>22903</td>\n",
       "    </tr>\n",
       "    <tr>\n",
       "      <th>4</th>\n",
       "      <td>5</td>\n",
       "      <td>Larceny - From Motor Vehicle</td>\n",
       "      <td>202500028164</td>\n",
       "      <td>CPD</td>\n",
       "      <td>Abdelgayed, Adam</td>\n",
       "      <td>2025-08-09 17:40:31</td>\n",
       "      <td>Saturday</td>\n",
       "      <td>True</td>\n",
       "      <td>Summer</td>\n",
       "      <td>Evening</td>\n",
       "      <td>800 W MAIN ST</td>\n",
       "      <td>38.03148</td>\n",
       "      <td>-78.490333</td>\n",
       "      <td>Starr Hill</td>\n",
       "      <td>22903</td>\n",
       "    </tr>\n",
       "  </tbody>\n",
       "</table>\n",
       "</div>"
      ],
      "text/plain": [
       "   RecordID                       Offense    IncidentID Agency  \\\n",
       "0         1                     Vandalism  202500028237    CPD   \n",
       "1         2                Assault Simple  202500028224    CPD   \n",
       "2         3                   Hit and Run  202500028219    CPD   \n",
       "3         4                Drunkeness DIP  202500028187    CPD   \n",
       "4         5  Larceny - From Motor Vehicle  202500028164    CPD   \n",
       "\n",
       "   ReportingOfficer                Date DayOfWeek  Weekend  Season TimeOfDay  \\\n",
       "0    Benbow, Lauren 2025-08-10 01:07:06    Sunday     True  Summer     Night   \n",
       "1     Rigsby, Lloyd 2025-08-09 23:43:35  Saturday     True  Summer     Night   \n",
       "2    Benbow, Lauren 2025-08-09 23:23:42  Saturday     True  Summer     Night   \n",
       "3     Rigsby, Lloyd 2025-08-09 19:44:38  Saturday     True  Summer   Evening   \n",
       "4  Abdelgayed, Adam 2025-08-09 17:40:31  Saturday     True  Summer   Evening   \n",
       "\n",
       "                        FullStreet        lat        lon  \\\n",
       "0                   600 E WATER ST  38.028757 -78.477608   \n",
       "1              1400 UNIVERSITY AVE  38.033936 -78.499972   \n",
       "2                   1000 W MAIN ST  38.032348 -78.495217   \n",
       "3   JEFFERSON PARK AVE / MAURY AVE  38.025951 -78.515053   \n",
       "4                    800 W MAIN ST   38.03148 -78.490333   \n",
       "\n",
       "            neighborhood    zip  \n",
       "0         North Downtown  22902  \n",
       "1                    N/A  22903  \n",
       "2            10th & Page  22903  \n",
       "3  Jefferson Park Avenue  22903  \n",
       "4             Starr Hill  22903  "
      ]
     },
     "execution_count": 14,
     "metadata": {},
     "output_type": "execute_result"
    }
   ],
   "source": [
    "# Now drop the original BlockNumber and StreetName columns\n",
    "df.drop(columns=['BlockNumber', 'StreetName','HourAMPM','HourReported','DateString'], inplace=True)\n",
    "df[\"zip\"] = df[\"zip\"].astype(str)\n",
    "\n",
    "# Fill all missing values in the DataFrame with \"N/A\"\n",
    "df.replace({None: \"N/A\", np.nan: \"N/A\", \"\": \"N/A\"}, inplace=True)\n",
    "df.head()"
   ]
  },
  {
   "cell_type": "code",
   "execution_count": 15,
   "id": "2c327425",
   "metadata": {
    "execution": {
     "iopub.execute_input": "2025-08-12T01:07:17.605550Z",
     "iopub.status.busy": "2025-08-12T01:07:17.605334Z",
     "iopub.status.idle": "2025-08-12T01:07:17.627598Z",
     "shell.execute_reply": "2025-08-12T01:07:17.627010Z"
    },
    "papermill": {
     "duration": 0.034678,
     "end_time": "2025-08-12T01:07:17.628659",
     "exception": false,
     "start_time": "2025-08-12T01:07:17.593981",
     "status": "completed"
    },
    "tags": []
   },
   "outputs": [
    {
     "name": "stdout",
     "output_type": "stream",
     "text": [
      "                  MissingCount  MissingPercentage\n",
      "RecordID                     0                0.0\n",
      "Offense                      0                0.0\n",
      "IncidentID                   0                0.0\n",
      "Agency                       0                0.0\n",
      "ReportingOfficer             0                0.0\n",
      "Date                         0                0.0\n",
      "DayOfWeek                    0                0.0\n",
      "Weekend                      0                0.0\n",
      "Season                       0                0.0\n",
      "TimeOfDay                    0                0.0\n",
      "FullStreet                   0                0.0\n",
      "lat                          0                0.0\n",
      "lon                          0                0.0\n",
      "neighborhood                 0                0.0\n",
      "zip                          0                0.0\n"
     ]
    }
   ],
   "source": [
    "missing_info = missing_percentage(df)\n",
    "print(missing_info)"
   ]
  },
  {
   "cell_type": "code",
   "execution_count": 16,
   "id": "0352cc1f",
   "metadata": {
    "execution": {
     "iopub.execute_input": "2025-08-12T01:07:17.651529Z",
     "iopub.status.busy": "2025-08-12T01:07:17.651274Z",
     "iopub.status.idle": "2025-08-12T01:07:17.655854Z",
     "shell.execute_reply": "2025-08-12T01:07:17.655188Z"
    },
    "papermill": {
     "duration": 0.016958,
     "end_time": "2025-08-12T01:07:17.656849",
     "exception": false,
     "start_time": "2025-08-12T01:07:17.639891",
     "status": "completed"
    },
    "tags": []
   },
   "outputs": [
    {
     "data": {
      "text/plain": [
       "Index(['RecordID', 'Offense', 'IncidentID', 'Agency', 'ReportingOfficer',\n",
       "       'Date', 'DayOfWeek', 'Weekend', 'Season', 'TimeOfDay', 'FullStreet',\n",
       "       'lat', 'lon', 'neighborhood', 'zip'],\n",
       "      dtype='object')"
      ]
     },
     "execution_count": 16,
     "metadata": {},
     "output_type": "execute_result"
    }
   ],
   "source": [
    "df.columns"
   ]
  },
  {
   "cell_type": "code",
   "execution_count": 17,
   "id": "b7a4f85f",
   "metadata": {
    "execution": {
     "iopub.execute_input": "2025-08-12T01:07:17.680450Z",
     "iopub.status.busy": "2025-08-12T01:07:17.680175Z",
     "iopub.status.idle": "2025-08-12T01:07:17.706649Z",
     "shell.execute_reply": "2025-08-12T01:07:17.706058Z"
    },
    "papermill": {
     "duration": 0.039899,
     "end_time": "2025-08-12T01:07:17.707717",
     "exception": false,
     "start_time": "2025-08-12T01:07:17.667818",
     "status": "completed"
    },
    "tags": []
   },
   "outputs": [
    {
     "name": "stdout",
     "output_type": "stream",
     "text": [
      "<class 'pandas.core.frame.DataFrame'>\n",
      "RangeIndex: 25642 entries, 0 to 25641\n",
      "Data columns (total 15 columns):\n",
      " #   Column            Non-Null Count  Dtype         \n",
      "---  ------            --------------  -----         \n",
      " 0   RecordID          25642 non-null  int64         \n",
      " 1   Offense           25642 non-null  object        \n",
      " 2   IncidentID        25642 non-null  object        \n",
      " 3   Agency            25642 non-null  object        \n",
      " 4   ReportingOfficer  25642 non-null  object        \n",
      " 5   Date              25642 non-null  datetime64[ns]\n",
      " 6   DayOfWeek         25642 non-null  object        \n",
      " 7   Weekend           25642 non-null  bool          \n",
      " 8   Season            25642 non-null  object        \n",
      " 9   TimeOfDay         25642 non-null  object        \n",
      " 10  FullStreet        25642 non-null  object        \n",
      " 11  lat               25642 non-null  object        \n",
      " 12  lon               25642 non-null  object        \n",
      " 13  neighborhood      25642 non-null  object        \n",
      " 14  zip               25642 non-null  object        \n",
      "dtypes: bool(1), datetime64[ns](1), int64(1), object(12)\n",
      "memory usage: 2.8+ MB\n"
     ]
    }
   ],
   "source": [
    "df.info()"
   ]
  },
  {
   "cell_type": "markdown",
   "id": "b8589c2f",
   "metadata": {
    "papermill": {
     "duration": 0.010931,
     "end_time": "2025-08-12T01:07:17.730053",
     "exception": false,
     "start_time": "2025-08-12T01:07:17.719122",
     "status": "completed"
    },
    "tags": []
   },
   "source": [
    "### Export Clean Data"
   ]
  },
  {
   "cell_type": "code",
   "execution_count": 18,
   "id": "e52516b6",
   "metadata": {
    "execution": {
     "iopub.execute_input": "2025-08-12T01:07:17.752909Z",
     "iopub.status.busy": "2025-08-12T01:07:17.752604Z",
     "iopub.status.idle": "2025-08-12T01:07:26.975775Z",
     "shell.execute_reply": "2025-08-12T01:07:26.975176Z"
    },
    "papermill": {
     "duration": 9.23576,
     "end_time": "2025-08-12T01:07:26.976828",
     "exception": false,
     "start_time": "2025-08-12T01:07:17.741068",
     "status": "completed"
    },
    "tags": []
   },
   "outputs": [
    {
     "name": "stdout",
     "output_type": "stream",
     "text": [
      "Project Root: /home/runner/work/crime-data/crime-data\n"
     ]
    },
    {
     "name": "stdout",
     "output_type": "stream",
     "text": [
      "Data saved to: /home/runner/work/crime-data/crime-data/data/charlottesville_crime_incidents.csv\n"
     ]
    },
    {
     "name": "stdout",
     "output_type": "stream",
     "text": [
      "Excel saved to: /home/runner/work/crime-data/crime-data/data/charlottesville_crime_incidents.xlsx\n"
     ]
    }
   ],
   "source": [
    "# Determine the project root (assuming papermill is run from the repository root)\n",
    "project_root = os.getcwd()\n",
    "print(\"Project Root:\", project_root)\n",
    "\n",
    "# Set the data directory within the project root\n",
    "data_dir = os.path.join(project_root, \"data\")\n",
    "\n",
    "# Ensure the \"data\" directory exists (create it if it doesn't)\n",
    "if not os.path.exists(data_dir):\n",
    "    os.makedirs(data_dir)\n",
    "\n",
    "# Export the DataFrame to CSV in the \"data\" folder located in the project root\n",
    "csv_path = os.path.join(data_dir, \"charlottesville_crime_incidents.csv\")\n",
    "df.to_csv(csv_path, index=False)\n",
    "print(\"Data saved to:\", csv_path)\n",
    "\n",
    "# Construct the path to your Excel file\n",
    "excel_path = os.path.join(data_dir, \"charlottesville_crime_incidents.xlsx\")\n",
    "\n",
    "# Export the DataFrame to Excel\n",
    "df.to_excel(excel_path, index=False)\n",
    "print(\"Excel saved to:\", excel_path)\n"
   ]
  }
 ],
 "metadata": {
  "kernelspec": {
   "display_name": "Python 3",
   "language": "python",
   "name": "python3"
  },
  "language_info": {
   "codemirror_mode": {
    "name": "ipython",
    "version": 3
   },
   "file_extension": ".py",
   "mimetype": "text/x-python",
   "name": "python",
   "nbconvert_exporter": "python",
   "pygments_lexer": "ipython3",
   "version": "3.9.23"
  },
  "papermill": {
   "default_parameters": {},
   "duration": 185.367078,
   "end_time": "2025-08-12T01:07:27.404109",
   "environment_variables": {},
   "exception": null,
   "input_path": "notebook/Crime Data.ipynb",
   "output_path": "notebook/Crime Data_output.ipynb",
   "parameters": {},
   "start_time": "2025-08-12T01:04:22.037031",
   "version": "2.6.0"
  }
 },
 "nbformat": 4,
 "nbformat_minor": 5
}