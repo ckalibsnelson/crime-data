{
 "cells": [
  {
   "cell_type": "markdown",
   "id": "a92aaf8c",
   "metadata": {
    "papermill": {
     "duration": 0.004492,
     "end_time": "2025-07-25T01:08:36.361174",
     "exception": false,
     "start_time": "2025-07-25T01:08:36.356682",
     "status": "completed"
    },
    "tags": []
   },
   "source": [
    "# Charlottesville Open Data Porttal: Crime Data"
   ]
  },
  {
   "cell_type": "markdown",
   "id": "2c863545",
   "metadata": {
    "papermill": {
     "duration": 0.004329,
     "end_time": "2025-07-25T01:08:36.369197",
     "exception": false,
     "start_time": "2025-07-25T01:08:36.364868",
     "status": "completed"
    },
    "tags": []
   },
   "source": [
    "## Import Relevant Librarires & Set WD"
   ]
  },
  {
   "cell_type": "code",
   "execution_count": 1,
   "id": "bf7099ba",
   "metadata": {
    "execution": {
     "iopub.execute_input": "2025-07-25T01:08:36.376941Z",
     "iopub.status.busy": "2025-07-25T01:08:36.376650Z",
     "iopub.status.idle": "2025-07-25T01:08:36.910836Z",
     "shell.execute_reply": "2025-07-25T01:08:36.910094Z"
    },
    "papermill": {
     "duration": 0.539865,
     "end_time": "2025-07-25T01:08:36.912354",
     "exception": false,
     "start_time": "2025-07-25T01:08:36.372489",
     "status": "completed"
    },
    "tags": []
   },
   "outputs": [],
   "source": [
    "import requests\n",
    "import pandas as pd\n",
    "import numpy as np\n",
    "import pickle\n",
    "import googlemaps\n",
    "import plotly.express as px\n",
    "from geopy.geocoders import Nominatim\n",
    "import time\n",
    "from dotenv import load_dotenv\n",
    "import os\n",
    "\n",
    "env_path = os.path.join(\"..\", \".env\")\n",
    "#print(\"Looking for .env file at:\", os.path.abspath(env_path))\n",
    "load_dotenv(dotenv_path=env_path)\n",
    "\n",
    "# Retrieve the variables\n",
    "GOOGLE_API_KEY = os.getenv(\"GOOGLE_API_KEY\")\n",
    "WORKING_DIR = os.getenv(\"WORKING_DIR\")\n",
    "\n",
    "if GOOGLE_API_KEY is None or WORKING_DIR is None:\n",
    "    raise RuntimeError(\"No configuration found. Please ensure that your .env file exists with the required variables, or create a local config.py file.\")\n",
    "\n",
    "#print(\"Google API Key:\", GOOGLE_API_KEY)\n",
    "#print(\"Working Directory:\", WORKING_DIR)"
   ]
  },
  {
   "cell_type": "markdown",
   "id": "31459c77",
   "metadata": {
    "papermill": {
     "duration": 0.003312,
     "end_time": "2025-07-25T01:08:36.919338",
     "exception": false,
     "start_time": "2025-07-25T01:08:36.916026",
     "status": "completed"
    },
    "tags": []
   },
   "source": [
    "## Import Data\n",
    "\n",
    "URL: https://opendata.charlottesville.org/datasets/charlottesville::crime-data/about"
   ]
  },
  {
   "cell_type": "code",
   "execution_count": 2,
   "id": "2eb816ab",
   "metadata": {
    "execution": {
     "iopub.execute_input": "2025-07-25T01:08:36.926964Z",
     "iopub.status.busy": "2025-07-25T01:08:36.926649Z",
     "iopub.status.idle": "2025-07-25T01:09:46.884276Z",
     "shell.execute_reply": "2025-07-25T01:09:46.883517Z"
    },
    "papermill": {
     "duration": 69.965974,
     "end_time": "2025-07-25T01:09:46.888640",
     "exception": false,
     "start_time": "2025-07-25T01:08:36.922666",
     "status": "completed"
    },
    "tags": []
   },
   "outputs": [
    {
     "name": "stdout",
     "output_type": "stream",
     "text": [
      "Total records imported: 25566\n"
     ]
    }
   ],
   "source": [
    "# Define the endpoint and initial parameters.\n",
    "url = \"https://gisweb.charlottesville.org/arcgis/rest/services/OpenData_2/MapServer/6/query\"\n",
    "params = {\n",
    "    \"where\": \"1=1\",\n",
    "    \"outFields\": \"*\",\n",
    "    \"outSR\": 4326,\n",
    "    \"f\": \"json\",\n",
    "    \"resultOffset\": 0,       # Starting index for results\n",
    "    \"resultRecordCount\": 10000  # Maximum records per batch (if allowed by the API)\n",
    "}\n",
    "\n",
    "records = []\n",
    "\n",
    "while True:\n",
    "    response = requests.get(url, params=params)\n",
    "    response.raise_for_status()\n",
    "    data = response.json()\n",
    "    \n",
    "    # Get the current batch of features.\n",
    "    features = data.get(\"features\", [])\n",
    "    if not features:\n",
    "        break\n",
    "\n",
    "    # Extract the attributes from the features.\n",
    "    batch_records = [feature.get(\"attributes\", {}) for feature in features]\n",
    "    records.extend(batch_records)\n",
    "    \n",
    "    # If the batch size is less than the requested count, we reached the end.\n",
    "    if len(features) < params[\"resultRecordCount\"]:\n",
    "        break\n",
    "\n",
    "    # Update the resultOffset for the next batch.\n",
    "    params[\"resultOffset\"] += params[\"resultRecordCount\"]\n",
    "\n",
    "# Create a DataFrame from the combined records.\n",
    "df = pd.DataFrame(records)\n",
    "print(\"Total records imported:\", len(df))\n"
   ]
  },
  {
   "cell_type": "code",
   "execution_count": 3,
   "id": "71fe20a6",
   "metadata": {
    "execution": {
     "iopub.execute_input": "2025-07-25T01:09:46.896486Z",
     "iopub.status.busy": "2025-07-25T01:09:46.896228Z",
     "iopub.status.idle": "2025-07-25T01:09:46.908612Z",
     "shell.execute_reply": "2025-07-25T01:09:46.907962Z"
    },
    "papermill": {
     "duration": 0.017403,
     "end_time": "2025-07-25T01:09:46.909587",
     "exception": false,
     "start_time": "2025-07-25T01:09:46.892184",
     "status": "completed"
    },
    "tags": []
   },
   "outputs": [
    {
     "data": {
      "text/html": [
       "<div>\n",
       "<style scoped>\n",
       "    .dataframe tbody tr th:only-of-type {\n",
       "        vertical-align: middle;\n",
       "    }\n",
       "\n",
       "    .dataframe tbody tr th {\n",
       "        vertical-align: top;\n",
       "    }\n",
       "\n",
       "    .dataframe thead th {\n",
       "        text-align: right;\n",
       "    }\n",
       "</style>\n",
       "<table border=\"1\" class=\"dataframe\">\n",
       "  <thead>\n",
       "    <tr style=\"text-align: right;\">\n",
       "      <th></th>\n",
       "      <th>RecordID</th>\n",
       "      <th>Offense</th>\n",
       "      <th>IncidentID</th>\n",
       "      <th>BlockNumber</th>\n",
       "      <th>StreetName</th>\n",
       "      <th>Agency</th>\n",
       "      <th>DateReported</th>\n",
       "      <th>HourReported</th>\n",
       "      <th>ReportingOfficer</th>\n",
       "    </tr>\n",
       "  </thead>\n",
       "  <tbody>\n",
       "    <tr>\n",
       "      <th>0</th>\n",
       "      <td>1</td>\n",
       "      <td>Hit and Run</td>\n",
       "      <td>202500025845</td>\n",
       "      <td>1400</td>\n",
       "      <td>VINE ST, B</td>\n",
       "      <td>CPD</td>\n",
       "      <td>1753227401000</td>\n",
       "      <td>1936</td>\n",
       "      <td>Venereo, Arturo</td>\n",
       "    </tr>\n",
       "    <tr>\n",
       "      <th>1</th>\n",
       "      <td>2</td>\n",
       "      <td>Assault Simple</td>\n",
       "      <td>202500025839</td>\n",
       "      <td>200</td>\n",
       "      <td>W MAIN ST</td>\n",
       "      <td>CPD</td>\n",
       "      <td>1753227244000</td>\n",
       "      <td>1934</td>\n",
       "      <td>Darby, Michael</td>\n",
       "    </tr>\n",
       "    <tr>\n",
       "      <th>2</th>\n",
       "      <td>3</td>\n",
       "      <td>Larceny - All Other</td>\n",
       "      <td>202500025838</td>\n",
       "      <td>1300</td>\n",
       "      <td>JOHN ST</td>\n",
       "      <td>CPD</td>\n",
       "      <td>1753225380000</td>\n",
       "      <td>1903</td>\n",
       "      <td>Essex, Dominique</td>\n",
       "    </tr>\n",
       "    <tr>\n",
       "      <th>3</th>\n",
       "      <td>4</td>\n",
       "      <td>Larceny - Shoplifitng</td>\n",
       "      <td>202500025824</td>\n",
       "      <td>1100</td>\n",
       "      <td>EMMET ST N</td>\n",
       "      <td>CPD</td>\n",
       "      <td>1753223494000</td>\n",
       "      <td>1831</td>\n",
       "      <td>Crowley, Raeann</td>\n",
       "    </tr>\n",
       "    <tr>\n",
       "      <th>4</th>\n",
       "      <td>5</td>\n",
       "      <td>Motor Vehicle Theft</td>\n",
       "      <td>202500025825</td>\n",
       "      <td>800</td>\n",
       "      <td>CABELL AVE</td>\n",
       "      <td>CPD</td>\n",
       "      <td>1753221821000</td>\n",
       "      <td>1803</td>\n",
       "      <td>Venereo, Arturo</td>\n",
       "    </tr>\n",
       "  </tbody>\n",
       "</table>\n",
       "</div>"
      ],
      "text/plain": [
       "   RecordID                Offense    IncidentID BlockNumber  StreetName  \\\n",
       "0         1            Hit and Run  202500025845        1400  VINE ST, B   \n",
       "1         2         Assault Simple  202500025839         200   W MAIN ST   \n",
       "2         3    Larceny - All Other  202500025838        1300     JOHN ST   \n",
       "3         4  Larceny - Shoplifitng  202500025824        1100  EMMET ST N   \n",
       "4         5    Motor Vehicle Theft  202500025825         800  CABELL AVE   \n",
       "\n",
       "  Agency   DateReported HourReported  ReportingOfficer  \n",
       "0    CPD  1753227401000         1936   Venereo, Arturo  \n",
       "1    CPD  1753227244000         1934    Darby, Michael  \n",
       "2    CPD  1753225380000         1903  Essex, Dominique  \n",
       "3    CPD  1753223494000         1831   Crowley, Raeann  \n",
       "4    CPD  1753221821000         1803   Venereo, Arturo  "
      ]
     },
     "execution_count": 3,
     "metadata": {},
     "output_type": "execute_result"
    }
   ],
   "source": [
    "df.head()"
   ]
  },
  {
   "cell_type": "code",
   "execution_count": 4,
   "id": "547c43f0",
   "metadata": {
    "execution": {
     "iopub.execute_input": "2025-07-25T01:09:46.917518Z",
     "iopub.status.busy": "2025-07-25T01:09:46.917303Z",
     "iopub.status.idle": "2025-07-25T01:09:46.921488Z",
     "shell.execute_reply": "2025-07-25T01:09:46.920835Z"
    },
    "papermill": {
     "duration": 0.009317,
     "end_time": "2025-07-25T01:09:46.922513",
     "exception": false,
     "start_time": "2025-07-25T01:09:46.913196",
     "status": "completed"
    },
    "tags": []
   },
   "outputs": [
    {
     "data": {
      "text/plain": [
       "Index(['RecordID', 'Offense', 'IncidentID', 'BlockNumber', 'StreetName',\n",
       "       'Agency', 'DateReported', 'HourReported', 'ReportingOfficer'],\n",
       "      dtype='object')"
      ]
     },
     "execution_count": 4,
     "metadata": {},
     "output_type": "execute_result"
    }
   ],
   "source": [
    "df.columns"
   ]
  },
  {
   "cell_type": "code",
   "execution_count": 5,
   "id": "b1c09a02",
   "metadata": {
    "execution": {
     "iopub.execute_input": "2025-07-25T01:09:46.930607Z",
     "iopub.status.busy": "2025-07-25T01:09:46.930371Z",
     "iopub.status.idle": "2025-07-25T01:09:46.951368Z",
     "shell.execute_reply": "2025-07-25T01:09:46.950769Z"
    },
    "papermill": {
     "duration": 0.026162,
     "end_time": "2025-07-25T01:09:46.952374",
     "exception": false,
     "start_time": "2025-07-25T01:09:46.926212",
     "status": "completed"
    },
    "tags": []
   },
   "outputs": [
    {
     "name": "stdout",
     "output_type": "stream",
     "text": [
      "<class 'pandas.core.frame.DataFrame'>\n",
      "RangeIndex: 25566 entries, 0 to 25565\n",
      "Data columns (total 9 columns):\n",
      " #   Column            Non-Null Count  Dtype \n",
      "---  ------            --------------  ----- \n",
      " 0   RecordID          25566 non-null  int64 \n",
      " 1   Offense           25566 non-null  object\n",
      " 2   IncidentID        25566 non-null  object\n",
      " 3   BlockNumber       25566 non-null  object\n",
      " 4   StreetName        25566 non-null  object\n",
      " 5   Agency            25566 non-null  object\n",
      " 6   DateReported      25566 non-null  int64 \n",
      " 7   HourReported      25566 non-null  object\n",
      " 8   ReportingOfficer  25549 non-null  object\n",
      "dtypes: int64(2), object(7)\n",
      "memory usage: 1.8+ MB\n"
     ]
    }
   ],
   "source": [
    "df.info()"
   ]
  },
  {
   "cell_type": "markdown",
   "id": "76bcf01b",
   "metadata": {
    "papermill": {
     "duration": 0.003735,
     "end_time": "2025-07-25T01:09:46.959973",
     "exception": false,
     "start_time": "2025-07-25T01:09:46.956238",
     "status": "completed"
    },
    "tags": []
   },
   "source": [
    "### Missing Values"
   ]
  },
  {
   "cell_type": "code",
   "execution_count": 6,
   "id": "58ae14f4",
   "metadata": {
    "execution": {
     "iopub.execute_input": "2025-07-25T01:09:46.968191Z",
     "iopub.status.busy": "2025-07-25T01:09:46.967955Z",
     "iopub.status.idle": "2025-07-25T01:09:46.990040Z",
     "shell.execute_reply": "2025-07-25T01:09:46.989350Z"
    },
    "papermill": {
     "duration": 0.027503,
     "end_time": "2025-07-25T01:09:46.991168",
     "exception": false,
     "start_time": "2025-07-25T01:09:46.963665",
     "status": "completed"
    },
    "tags": []
   },
   "outputs": [
    {
     "name": "stdout",
     "output_type": "stream",
     "text": [
      "                  MissingCount  MissingPercentage\n",
      "RecordID                     0               0.00\n",
      "Offense                      0               0.00\n",
      "IncidentID                   0               0.00\n",
      "BlockNumber                  0               0.00\n",
      "StreetName                   0               0.00\n",
      "Agency                       0               0.00\n",
      "DateReported                 0               0.00\n",
      "HourReported                 0               0.00\n",
      "ReportingOfficer            17               0.07\n"
     ]
    }
   ],
   "source": [
    "def missing_percentage(df):\n",
    "    \"\"\"\n",
    "    Returns a DataFrame with the count and percentage of missing values for each column.\n",
    "    \n",
    "    Parameters:\n",
    "        df (pd.DataFrame): The input DataFrame.\n",
    "    \n",
    "    Returns:\n",
    "        pd.DataFrame: A DataFrame with columns 'MissingCount' and 'MissingPercentage'.\n",
    "    \"\"\"\n",
    "    total_rows = len(df)\n",
    "    missing_count = df.isnull().sum()\n",
    "    missing_percent = (missing_count / total_rows) * 100\n",
    "    \n",
    "    result = pd.DataFrame({\n",
    "        'MissingCount': missing_count,\n",
    "        'MissingPercentage': missing_percent.round(2)\n",
    "    })\n",
    "    \n",
    "    return result\n",
    "\n",
    "# Example usage:\n",
    "missing_info = missing_percentage(df)\n",
    "print(missing_info)\n"
   ]
  },
  {
   "cell_type": "markdown",
   "id": "6aab5f5a",
   "metadata": {
    "papermill": {
     "duration": 0.003839,
     "end_time": "2025-07-25T01:09:46.999189",
     "exception": false,
     "start_time": "2025-07-25T01:09:46.995350",
     "status": "completed"
    },
    "tags": []
   },
   "source": [
    "## Data Preparation"
   ]
  },
  {
   "cell_type": "markdown",
   "id": "54affd9e",
   "metadata": {
    "papermill": {
     "duration": 0.003729,
     "end_time": "2025-07-25T01:09:47.006697",
     "exception": false,
     "start_time": "2025-07-25T01:09:47.002968",
     "status": "completed"
    },
    "tags": []
   },
   "source": [
    "### Data Conversion"
   ]
  },
  {
   "cell_type": "code",
   "execution_count": 7,
   "id": "83697ad2",
   "metadata": {
    "execution": {
     "iopub.execute_input": "2025-07-25T01:09:47.015168Z",
     "iopub.status.busy": "2025-07-25T01:09:47.014965Z",
     "iopub.status.idle": "2025-07-25T01:09:47.373322Z",
     "shell.execute_reply": "2025-07-25T01:09:47.372679Z"
    },
    "papermill": {
     "duration": 0.363909,
     "end_time": "2025-07-25T01:09:47.374457",
     "exception": false,
     "start_time": "2025-07-25T01:09:47.010548",
     "status": "completed"
    },
    "tags": []
   },
   "outputs": [
    {
     "data": {
      "text/html": [
       "<div>\n",
       "<style scoped>\n",
       "    .dataframe tbody tr th:only-of-type {\n",
       "        vertical-align: middle;\n",
       "    }\n",
       "\n",
       "    .dataframe tbody tr th {\n",
       "        vertical-align: top;\n",
       "    }\n",
       "\n",
       "    .dataframe thead th {\n",
       "        text-align: right;\n",
       "    }\n",
       "</style>\n",
       "<table border=\"1\" class=\"dataframe\">\n",
       "  <thead>\n",
       "    <tr style=\"text-align: right;\">\n",
       "      <th></th>\n",
       "      <th>RecordID</th>\n",
       "      <th>Offense</th>\n",
       "      <th>IncidentID</th>\n",
       "      <th>BlockNumber</th>\n",
       "      <th>StreetName</th>\n",
       "      <th>Agency</th>\n",
       "      <th>HourReported</th>\n",
       "      <th>ReportingOfficer</th>\n",
       "      <th>Date</th>\n",
       "      <th>DateString</th>\n",
       "      <th>DayOfWeek</th>\n",
       "      <th>Weekend</th>\n",
       "      <th>Season</th>\n",
       "      <th>HourAMPM</th>\n",
       "      <th>TimeOfDay</th>\n",
       "    </tr>\n",
       "  </thead>\n",
       "  <tbody>\n",
       "    <tr>\n",
       "      <th>0</th>\n",
       "      <td>1</td>\n",
       "      <td>Hit and Run</td>\n",
       "      <td>202500025845</td>\n",
       "      <td>1400</td>\n",
       "      <td>VINE ST, B</td>\n",
       "      <td>CPD</td>\n",
       "      <td>1936</td>\n",
       "      <td>Venereo, Arturo</td>\n",
       "      <td>2025-07-22 19:36:41</td>\n",
       "      <td>2025-07-22 07:36:41 PM</td>\n",
       "      <td>Tuesday</td>\n",
       "      <td>False</td>\n",
       "      <td>Summer</td>\n",
       "      <td>07:36 PM</td>\n",
       "      <td>Evening</td>\n",
       "    </tr>\n",
       "    <tr>\n",
       "      <th>1</th>\n",
       "      <td>2</td>\n",
       "      <td>Assault Simple</td>\n",
       "      <td>202500025839</td>\n",
       "      <td>200</td>\n",
       "      <td>W MAIN ST</td>\n",
       "      <td>CPD</td>\n",
       "      <td>1934</td>\n",
       "      <td>Darby, Michael</td>\n",
       "      <td>2025-07-22 19:34:04</td>\n",
       "      <td>2025-07-22 07:34:04 PM</td>\n",
       "      <td>Tuesday</td>\n",
       "      <td>False</td>\n",
       "      <td>Summer</td>\n",
       "      <td>07:34 PM</td>\n",
       "      <td>Evening</td>\n",
       "    </tr>\n",
       "    <tr>\n",
       "      <th>2</th>\n",
       "      <td>3</td>\n",
       "      <td>Larceny - All Other</td>\n",
       "      <td>202500025838</td>\n",
       "      <td>1300</td>\n",
       "      <td>JOHN ST</td>\n",
       "      <td>CPD</td>\n",
       "      <td>1903</td>\n",
       "      <td>Essex, Dominique</td>\n",
       "      <td>2025-07-22 19:03:00</td>\n",
       "      <td>2025-07-22 07:03:00 PM</td>\n",
       "      <td>Tuesday</td>\n",
       "      <td>False</td>\n",
       "      <td>Summer</td>\n",
       "      <td>07:03 PM</td>\n",
       "      <td>Evening</td>\n",
       "    </tr>\n",
       "    <tr>\n",
       "      <th>3</th>\n",
       "      <td>4</td>\n",
       "      <td>Larceny - Shoplifitng</td>\n",
       "      <td>202500025824</td>\n",
       "      <td>1100</td>\n",
       "      <td>EMMET ST N</td>\n",
       "      <td>CPD</td>\n",
       "      <td>1831</td>\n",
       "      <td>Crowley, Raeann</td>\n",
       "      <td>2025-07-22 18:31:34</td>\n",
       "      <td>2025-07-22 06:31:34 PM</td>\n",
       "      <td>Tuesday</td>\n",
       "      <td>False</td>\n",
       "      <td>Summer</td>\n",
       "      <td>06:31 PM</td>\n",
       "      <td>Evening</td>\n",
       "    </tr>\n",
       "    <tr>\n",
       "      <th>4</th>\n",
       "      <td>5</td>\n",
       "      <td>Motor Vehicle Theft</td>\n",
       "      <td>202500025825</td>\n",
       "      <td>800</td>\n",
       "      <td>CABELL AVE</td>\n",
       "      <td>CPD</td>\n",
       "      <td>1803</td>\n",
       "      <td>Venereo, Arturo</td>\n",
       "      <td>2025-07-22 18:03:41</td>\n",
       "      <td>2025-07-22 06:03:41 PM</td>\n",
       "      <td>Tuesday</td>\n",
       "      <td>False</td>\n",
       "      <td>Summer</td>\n",
       "      <td>06:03 PM</td>\n",
       "      <td>Evening</td>\n",
       "    </tr>\n",
       "  </tbody>\n",
       "</table>\n",
       "</div>"
      ],
      "text/plain": [
       "   RecordID                Offense    IncidentID BlockNumber  StreetName  \\\n",
       "0         1            Hit and Run  202500025845        1400  VINE ST, B   \n",
       "1         2         Assault Simple  202500025839         200   W MAIN ST   \n",
       "2         3    Larceny - All Other  202500025838        1300     JOHN ST   \n",
       "3         4  Larceny - Shoplifitng  202500025824        1100  EMMET ST N   \n",
       "4         5    Motor Vehicle Theft  202500025825         800  CABELL AVE   \n",
       "\n",
       "  Agency HourReported  ReportingOfficer                Date  \\\n",
       "0    CPD         1936   Venereo, Arturo 2025-07-22 19:36:41   \n",
       "1    CPD         1934    Darby, Michael 2025-07-22 19:34:04   \n",
       "2    CPD         1903  Essex, Dominique 2025-07-22 19:03:00   \n",
       "3    CPD         1831   Crowley, Raeann 2025-07-22 18:31:34   \n",
       "4    CPD         1803   Venereo, Arturo 2025-07-22 18:03:41   \n",
       "\n",
       "               DateString DayOfWeek  Weekend  Season  HourAMPM TimeOfDay  \n",
       "0  2025-07-22 07:36:41 PM   Tuesday    False  Summer  07:36 PM   Evening  \n",
       "1  2025-07-22 07:34:04 PM   Tuesday    False  Summer  07:34 PM   Evening  \n",
       "2  2025-07-22 07:03:00 PM   Tuesday    False  Summer  07:03 PM   Evening  \n",
       "3  2025-07-22 06:31:34 PM   Tuesday    False  Summer  06:31 PM   Evening  \n",
       "4  2025-07-22 06:03:41 PM   Tuesday    False  Summer  06:03 PM   Evening  "
      ]
     },
     "execution_count": 7,
     "metadata": {},
     "output_type": "execute_result"
    }
   ],
   "source": [
    "def convert_and_categorize_datereported(df, col='DateReported'):\n",
    "    \"\"\"\n",
    "    Converts an epoch (in milliseconds) date column into a timezone-aware datetime,\n",
    "    converts it to Eastern Time, and then creates columns for day-of-week, weekend flag,\n",
    "    season, 12-hour formatted time, and time-of-day. Keeps both a real datetime column\n",
    "    (Date) and a string representation (DateString).\n",
    "    \"\"\"\n",
    "    import pandas as pd\n",
    "\n",
    "    # Convert the epoch timestamp to a pandas datetime object as UTC, then convert to US/Eastern.\n",
    "    df[\"DateReported_dt\"] = (\n",
    "        pd.to_datetime(df[col], unit=\"ms\", errors=\"coerce\", utc=True)\n",
    "        .dt.tz_convert(\"US/Eastern\")\n",
    "    )\n",
    "    \n",
    "    # Create a true datetime column (remove timezone if you prefer naive datetime)\n",
    "    df[\"Date\"] = df[\"DateReported_dt\"].dt.tz_localize(None)\n",
    "\n",
    "    # Optionally, create a separate string-formatted column\n",
    "    df[\"DateString\"] = df[\"DateReported_dt\"].dt.strftime(\"%Y-%m-%d %I:%M:%S %p\")\n",
    "    \n",
    "    # DayOfWeek\n",
    "    df[\"DayOfWeek\"] = df[\"DateReported_dt\"].dt.day_name()\n",
    "    \n",
    "    # Weekend\n",
    "    df[\"Weekend\"] = df[\"DayOfWeek\"].isin([\"Saturday\", \"Sunday\"])\n",
    "    \n",
    "    # Helper function to determine the season\n",
    "    def get_season(dt):\n",
    "        month = dt.month\n",
    "        day = dt.day\n",
    "        # Approximate Northern Hemisphere season boundaries:\n",
    "        if (month == 12 and day >= 21) or (month < 3) or (month == 3 and day < 20):\n",
    "            return \"Winter\"\n",
    "        elif (month == 3 and day >= 20) or (month < 6) or (month == 6 and day < 21):\n",
    "            return \"Spring\"\n",
    "        elif (month == 6 and day >= 21) or (month < 9) or (month == 9 and day < 22):\n",
    "            return \"Summer\"\n",
    "        else:\n",
    "            return \"Autumn\"\n",
    "    \n",
    "    df[\"Season\"] = df[\"DateReported_dt\"].apply(get_season)\n",
    "    \n",
    "    # 12-hour formatted time (HourAMPM)\n",
    "    df[\"HourAMPM\"] = df[\"DateReported_dt\"].dt.strftime(\"%I:%M %p\")\n",
    "    \n",
    "    # Extract hour (0-23) for time-of-day\n",
    "    df[\"HourValue\"] = df[\"DateReported_dt\"].dt.hour\n",
    "    \n",
    "    def time_of_day(hour):\n",
    "        if pd.isnull(hour):\n",
    "            return None\n",
    "        if 5 <= hour < 12:\n",
    "            return \"Morning\"\n",
    "        elif 12 <= hour < 17:\n",
    "            return \"Afternoon\"\n",
    "        elif 17 <= hour < 21:\n",
    "            return \"Evening\"\n",
    "        else:\n",
    "            return \"Night\"\n",
    "    \n",
    "    df[\"TimeOfDay\"] = df[\"HourValue\"].apply(time_of_day)\n",
    "    \n",
    "    # Drop columns you no longer need\n",
    "    df.drop(columns=[col, \"DateReported_dt\", \"HourValue\"], inplace=True)\n",
    "    \n",
    "    return df\n",
    "\n",
    "# Example usage:\n",
    "df = convert_and_categorize_datereported(df)\n",
    "df.head()\n"
   ]
  },
  {
   "cell_type": "code",
   "execution_count": 8,
   "id": "c6e86da5",
   "metadata": {
    "execution": {
     "iopub.execute_input": "2025-07-25T01:09:47.383990Z",
     "iopub.status.busy": "2025-07-25T01:09:47.383717Z",
     "iopub.status.idle": "2025-07-25T01:09:47.412221Z",
     "shell.execute_reply": "2025-07-25T01:09:47.411495Z"
    },
    "papermill": {
     "duration": 0.034295,
     "end_time": "2025-07-25T01:09:47.413290",
     "exception": false,
     "start_time": "2025-07-25T01:09:47.378995",
     "status": "completed"
    },
    "tags": []
   },
   "outputs": [
    {
     "name": "stdout",
     "output_type": "stream",
     "text": [
      "<class 'pandas.core.frame.DataFrame'>\n",
      "RangeIndex: 25566 entries, 0 to 25565\n",
      "Data columns (total 15 columns):\n",
      " #   Column            Non-Null Count  Dtype         \n",
      "---  ------            --------------  -----         \n",
      " 0   RecordID          25566 non-null  int64         \n",
      " 1   Offense           25566 non-null  object        \n",
      " 2   IncidentID        25566 non-null  object        \n",
      " 3   BlockNumber       25566 non-null  object        \n",
      " 4   StreetName        25566 non-null  object        \n",
      " 5   Agency            25566 non-null  object        \n",
      " 6   HourReported      25566 non-null  object        \n",
      " 7   ReportingOfficer  25549 non-null  object        \n",
      " 8   Date              25566 non-null  datetime64[ns]\n",
      " 9   DateString        25566 non-null  object        \n",
      " 10  DayOfWeek         25566 non-null  object        \n",
      " 11  Weekend           25566 non-null  bool          \n",
      " 12  Season            25566 non-null  object        \n",
      " 13  HourAMPM          25566 non-null  object        \n",
      " 14  TimeOfDay         25566 non-null  object        \n",
      "dtypes: bool(1), datetime64[ns](1), int64(1), object(12)\n",
      "memory usage: 2.8+ MB\n"
     ]
    }
   ],
   "source": [
    "df.info()"
   ]
  },
  {
   "cell_type": "markdown",
   "id": "623340ae",
   "metadata": {
    "papermill": {
     "duration": 0.004081,
     "end_time": "2025-07-25T01:09:47.421868",
     "exception": false,
     "start_time": "2025-07-25T01:09:47.417787",
     "status": "completed"
    },
    "tags": []
   },
   "source": [
    "### Coordinates"
   ]
  },
  {
   "cell_type": "code",
   "execution_count": 9,
   "id": "1ef17db3",
   "metadata": {
    "execution": {
     "iopub.execute_input": "2025-07-25T01:09:47.430947Z",
     "iopub.status.busy": "2025-07-25T01:09:47.430711Z",
     "iopub.status.idle": "2025-07-25T01:09:47.475702Z",
     "shell.execute_reply": "2025-07-25T01:09:47.475110Z"
    },
    "papermill": {
     "duration": 0.050768,
     "end_time": "2025-07-25T01:09:47.476754",
     "exception": false,
     "start_time": "2025-07-25T01:09:47.425986",
     "status": "completed"
    },
    "tags": []
   },
   "outputs": [
    {
     "name": "stdout",
     "output_type": "stream",
     "text": [
      "Loaded geocode cache.\n",
      "Geocode cache updated and saved.\n"
     ]
    },
    {
     "data": {
      "text/html": [
       "<div>\n",
       "<style scoped>\n",
       "    .dataframe tbody tr th:only-of-type {\n",
       "        vertical-align: middle;\n",
       "    }\n",
       "\n",
       "    .dataframe tbody tr th {\n",
       "        vertical-align: top;\n",
       "    }\n",
       "\n",
       "    .dataframe thead th {\n",
       "        text-align: right;\n",
       "    }\n",
       "</style>\n",
       "<table border=\"1\" class=\"dataframe\">\n",
       "  <thead>\n",
       "    <tr style=\"text-align: right;\">\n",
       "      <th></th>\n",
       "      <th>RecordID</th>\n",
       "      <th>Offense</th>\n",
       "      <th>IncidentID</th>\n",
       "      <th>BlockNumber</th>\n",
       "      <th>StreetName</th>\n",
       "      <th>Agency</th>\n",
       "      <th>HourReported</th>\n",
       "      <th>ReportingOfficer</th>\n",
       "      <th>Date</th>\n",
       "      <th>DateString</th>\n",
       "      <th>DayOfWeek</th>\n",
       "      <th>Weekend</th>\n",
       "      <th>Season</th>\n",
       "      <th>HourAMPM</th>\n",
       "      <th>TimeOfDay</th>\n",
       "      <th>FullStreet</th>\n",
       "      <th>lat</th>\n",
       "      <th>lon</th>\n",
       "    </tr>\n",
       "  </thead>\n",
       "  <tbody>\n",
       "    <tr>\n",
       "      <th>0</th>\n",
       "      <td>1</td>\n",
       "      <td>Hit and Run</td>\n",
       "      <td>202500025845</td>\n",
       "      <td>1400</td>\n",
       "      <td>VINE ST, B</td>\n",
       "      <td>CPD</td>\n",
       "      <td>1936</td>\n",
       "      <td>Venereo, Arturo</td>\n",
       "      <td>2025-07-22 19:36:41</td>\n",
       "      <td>2025-07-22 07:36:41 PM</td>\n",
       "      <td>Tuesday</td>\n",
       "      <td>False</td>\n",
       "      <td>Summer</td>\n",
       "      <td>07:36 PM</td>\n",
       "      <td>Evening</td>\n",
       "      <td>1400 VINE ST, B</td>\n",
       "      <td>38.019716</td>\n",
       "      <td>-78.468584</td>\n",
       "    </tr>\n",
       "    <tr>\n",
       "      <th>1</th>\n",
       "      <td>2</td>\n",
       "      <td>Assault Simple</td>\n",
       "      <td>202500025839</td>\n",
       "      <td>200</td>\n",
       "      <td>W MAIN ST</td>\n",
       "      <td>CPD</td>\n",
       "      <td>1934</td>\n",
       "      <td>Darby, Michael</td>\n",
       "      <td>2025-07-22 19:34:04</td>\n",
       "      <td>2025-07-22 07:34:04 PM</td>\n",
       "      <td>Tuesday</td>\n",
       "      <td>False</td>\n",
       "      <td>Summer</td>\n",
       "      <td>07:34 PM</td>\n",
       "      <td>Evening</td>\n",
       "      <td>200 W MAIN ST</td>\n",
       "      <td>38.030841</td>\n",
       "      <td>-78.482517</td>\n",
       "    </tr>\n",
       "    <tr>\n",
       "      <th>2</th>\n",
       "      <td>3</td>\n",
       "      <td>Larceny - All Other</td>\n",
       "      <td>202500025838</td>\n",
       "      <td>1300</td>\n",
       "      <td>JOHN ST</td>\n",
       "      <td>CPD</td>\n",
       "      <td>1903</td>\n",
       "      <td>Essex, Dominique</td>\n",
       "      <td>2025-07-22 19:03:00</td>\n",
       "      <td>2025-07-22 07:03:00 PM</td>\n",
       "      <td>Tuesday</td>\n",
       "      <td>False</td>\n",
       "      <td>Summer</td>\n",
       "      <td>07:03 PM</td>\n",
       "      <td>Evening</td>\n",
       "      <td>1300 JOHN ST</td>\n",
       "      <td>38.036801</td>\n",
       "      <td>-78.497031</td>\n",
       "    </tr>\n",
       "    <tr>\n",
       "      <th>3</th>\n",
       "      <td>4</td>\n",
       "      <td>Larceny - Shoplifitng</td>\n",
       "      <td>202500025824</td>\n",
       "      <td>1100</td>\n",
       "      <td>EMMET ST N</td>\n",
       "      <td>CPD</td>\n",
       "      <td>1831</td>\n",
       "      <td>Crowley, Raeann</td>\n",
       "      <td>2025-07-22 18:31:34</td>\n",
       "      <td>2025-07-22 06:31:34 PM</td>\n",
       "      <td>Tuesday</td>\n",
       "      <td>False</td>\n",
       "      <td>Summer</td>\n",
       "      <td>06:31 PM</td>\n",
       "      <td>Evening</td>\n",
       "      <td>1100 EMMET ST N</td>\n",
       "      <td>38.051639</td>\n",
       "      <td>-78.501523</td>\n",
       "    </tr>\n",
       "    <tr>\n",
       "      <th>4</th>\n",
       "      <td>5</td>\n",
       "      <td>Motor Vehicle Theft</td>\n",
       "      <td>202500025825</td>\n",
       "      <td>800</td>\n",
       "      <td>CABELL AVE</td>\n",
       "      <td>CPD</td>\n",
       "      <td>1803</td>\n",
       "      <td>Venereo, Arturo</td>\n",
       "      <td>2025-07-22 18:03:41</td>\n",
       "      <td>2025-07-22 06:03:41 PM</td>\n",
       "      <td>Tuesday</td>\n",
       "      <td>False</td>\n",
       "      <td>Summer</td>\n",
       "      <td>06:03 PM</td>\n",
       "      <td>Evening</td>\n",
       "      <td>800 CABELL AVE</td>\n",
       "      <td>38.042357</td>\n",
       "      <td>-78.496441</td>\n",
       "    </tr>\n",
       "  </tbody>\n",
       "</table>\n",
       "</div>"
      ],
      "text/plain": [
       "   RecordID                Offense    IncidentID BlockNumber  StreetName  \\\n",
       "0         1            Hit and Run  202500025845        1400  VINE ST, B   \n",
       "1         2         Assault Simple  202500025839         200   W MAIN ST   \n",
       "2         3    Larceny - All Other  202500025838        1300     JOHN ST   \n",
       "3         4  Larceny - Shoplifitng  202500025824        1100  EMMET ST N   \n",
       "4         5    Motor Vehicle Theft  202500025825         800  CABELL AVE   \n",
       "\n",
       "  Agency HourReported  ReportingOfficer                Date  \\\n",
       "0    CPD         1936   Venereo, Arturo 2025-07-22 19:36:41   \n",
       "1    CPD         1934    Darby, Michael 2025-07-22 19:34:04   \n",
       "2    CPD         1903  Essex, Dominique 2025-07-22 19:03:00   \n",
       "3    CPD         1831   Crowley, Raeann 2025-07-22 18:31:34   \n",
       "4    CPD         1803   Venereo, Arturo 2025-07-22 18:03:41   \n",
       "\n",
       "               DateString DayOfWeek  Weekend  Season  HourAMPM TimeOfDay  \\\n",
       "0  2025-07-22 07:36:41 PM   Tuesday    False  Summer  07:36 PM   Evening   \n",
       "1  2025-07-22 07:34:04 PM   Tuesday    False  Summer  07:34 PM   Evening   \n",
       "2  2025-07-22 07:03:00 PM   Tuesday    False  Summer  07:03 PM   Evening   \n",
       "3  2025-07-22 06:31:34 PM   Tuesday    False  Summer  06:31 PM   Evening   \n",
       "4  2025-07-22 06:03:41 PM   Tuesday    False  Summer  06:03 PM   Evening   \n",
       "\n",
       "        FullStreet        lat        lon  \n",
       "0  1400 VINE ST, B  38.019716 -78.468584  \n",
       "1    200 W MAIN ST  38.030841 -78.482517  \n",
       "2     1300 JOHN ST  38.036801 -78.497031  \n",
       "3  1100 EMMET ST N  38.051639 -78.501523  \n",
       "4   800 CABELL AVE  38.042357 -78.496441  "
      ]
     },
     "execution_count": 9,
     "metadata": {},
     "output_type": "execute_result"
    }
   ],
   "source": [
    "# Combine BlockNumber and StreetName into a full address string\n",
    "df['FullStreet'] = df['BlockNumber'].astype(str) + \" \" + df['StreetName']\n",
    "\n",
    "# --- Step 1: Setup the Google Maps Client and Cache ---\n",
    "gmaps = googlemaps.Client(key=GOOGLE_API_KEY)\n",
    "\n",
    "# Try to load cached geocoding results if available.\n",
    "try:\n",
    "    with open(\"geocode_cache_google.pkl\", \"rb\") as f:\n",
    "        street_coords = pickle.load(f)\n",
    "    print(\"Loaded geocode cache.\")\n",
    "except FileNotFoundError:\n",
    "    street_coords = {}\n",
    "    print(\"No cache found; starting fresh.\")\n",
    "\n",
    "def geocode_address(address):\n",
    "    try:\n",
    "        # Append city and state to help geocoding\n",
    "        result = gmaps.geocode(f\"{address}, Charlottesville, VA\")\n",
    "        if result:\n",
    "            lat = result[0]['geometry']['location']['lat']\n",
    "            lon = result[0]['geometry']['location']['lng']\n",
    "            return lat, lon\n",
    "    except Exception as e:\n",
    "        print(f\"Error geocoding {address}: {e}\")\n",
    "    return None, None\n",
    "\n",
    "# --- Step 2: Geocode Only New Addresses ---\n",
    "unique_addresses = df['FullStreet'].unique()\n",
    "for address in unique_addresses:\n",
    "    if address not in street_coords:\n",
    "        lat, lon = geocode_address(address)\n",
    "        street_coords[address] = (lat, lon)\n",
    "        print(f\"Geocoded {address}: {lat}, {lon}\")\n",
    "\n",
    "# Save the updated cache to disk.\n",
    "with open(\"geocode_cache_google.pkl\", \"wb\") as f:\n",
    "    pickle.dump(street_coords, f)\n",
    "    print(\"Geocode cache updated and saved.\")\n",
    "\n",
    "# --- Step 3: Map Coordinates Back to DataFrame ---\n",
    "df['lat'] = df['FullStreet'].map(lambda s: street_coords.get(s, (None, None))[0])\n",
    "df['lon'] = df['FullStreet'].map(lambda s: street_coords.get(s, (None, None))[1])\n",
    "\n",
    "df.head()"
   ]
  },
  {
   "cell_type": "markdown",
   "id": "ea53eb8d",
   "metadata": {
    "papermill": {
     "duration": 0.004445,
     "end_time": "2025-07-25T01:09:47.486064",
     "exception": false,
     "start_time": "2025-07-25T01:09:47.481619",
     "status": "completed"
    },
    "tags": []
   },
   "source": [
    "### Neighborhood"
   ]
  },
  {
   "cell_type": "code",
   "execution_count": 10,
   "id": "8c614590",
   "metadata": {
    "execution": {
     "iopub.execute_input": "2025-07-25T01:09:47.495732Z",
     "iopub.status.busy": "2025-07-25T01:09:47.495476Z",
     "iopub.status.idle": "2025-07-25T01:09:49.821392Z",
     "shell.execute_reply": "2025-07-25T01:09:49.820690Z"
    },
    "papermill": {
     "duration": 2.332056,
     "end_time": "2025-07-25T01:09:49.822509",
     "exception": false,
     "start_time": "2025-07-25T01:09:47.490453",
     "status": "completed"
    },
    "tags": []
   },
   "outputs": [
    {
     "name": "stdout",
     "output_type": "stream",
     "text": [
      "Loaded neighborhood cache.\n"
     ]
    },
    {
     "name": "stdout",
     "output_type": "stream",
     "text": [
      "Error getting neighborhood for nan, nan: HTTP Error: 400\n",
      "Error getting neighborhood for nan, nan: HTTP Error: 400\n"
     ]
    },
    {
     "name": "stdout",
     "output_type": "stream",
     "text": [
      "Error getting neighborhood for nan, nan: HTTP Error: 400\n",
      "Error getting neighborhood for nan, nan: HTTP Error: 400\n",
      "Error getting neighborhood for nan, nan: HTTP Error: 400\n",
      "Error getting neighborhood for nan, nan: HTTP Error: 400\n"
     ]
    },
    {
     "name": "stdout",
     "output_type": "stream",
     "text": [
      "Error getting neighborhood for nan, nan: HTTP Error: 400\n",
      "Error getting neighborhood for nan, nan: HTTP Error: 400\n"
     ]
    },
    {
     "name": "stdout",
     "output_type": "stream",
     "text": [
      "Error getting neighborhood for nan, nan: HTTP Error: 400\n",
      "Error getting neighborhood for nan, nan: HTTP Error: 400\n",
      "Error getting neighborhood for nan, nan: HTTP Error: 400\n",
      "Error getting neighborhood for nan, nan: HTTP Error: 400\n",
      "Error getting neighborhood for nan, nan: HTTP Error: 400\n"
     ]
    },
    {
     "name": "stdout",
     "output_type": "stream",
     "text": [
      "Error getting neighborhood for nan, nan: HTTP Error: 400\n",
      "Error getting neighborhood for nan, nan: HTTP Error: 400\n",
      "Error getting neighborhood for nan, nan: HTTP Error: 400\n"
     ]
    },
    {
     "name": "stdout",
     "output_type": "stream",
     "text": [
      "Error getting neighborhood for nan, nan: HTTP Error: 400\n",
      "Error getting neighborhood for nan, nan: HTTP Error: 400\n",
      "Error getting neighborhood for nan, nan: HTTP Error: 400\n",
      "Error getting neighborhood for nan, nan: HTTP Error: 400\n",
      "Error getting neighborhood for nan, nan: HTTP Error: 400\n"
     ]
    },
    {
     "name": "stdout",
     "output_type": "stream",
     "text": [
      "Error getting neighborhood for nan, nan: HTTP Error: 400\n",
      "Error getting neighborhood for nan, nan: HTTP Error: 400\n",
      "Error getting neighborhood for nan, nan: HTTP Error: 400\n"
     ]
    },
    {
     "name": "stdout",
     "output_type": "stream",
     "text": [
      "Error getting neighborhood for nan, nan: HTTP Error: 400\n",
      "Error getting neighborhood for nan, nan: HTTP Error: 400\n",
      "Error getting neighborhood for nan, nan: HTTP Error: 400\n",
      "Error getting neighborhood for nan, nan: HTTP Error: 400\n",
      "Error getting neighborhood for nan, nan: HTTP Error: 400\n"
     ]
    },
    {
     "name": "stdout",
     "output_type": "stream",
     "text": [
      "Error getting neighborhood for nan, nan: HTTP Error: 400\n",
      "Error getting neighborhood for nan, nan: HTTP Error: 400\n",
      "Error getting neighborhood for nan, nan: HTTP Error: 400\n"
     ]
    },
    {
     "name": "stdout",
     "output_type": "stream",
     "text": [
      "Error getting neighborhood for nan, nan: HTTP Error: 400\n",
      "Error getting neighborhood for nan, nan: HTTP Error: 400\n",
      "Error getting neighborhood for nan, nan: HTTP Error: 400\n",
      "Error getting neighborhood for nan, nan: HTTP Error: 400\n",
      "Error getting neighborhood for nan, nan: HTTP Error: 400\n"
     ]
    },
    {
     "name": "stdout",
     "output_type": "stream",
     "text": [
      "Error getting neighborhood for nan, nan: HTTP Error: 400\n",
      "Error getting neighborhood for nan, nan: HTTP Error: 400\n",
      "Error getting neighborhood for nan, nan: HTTP Error: 400\n"
     ]
    },
    {
     "name": "stdout",
     "output_type": "stream",
     "text": [
      "Error getting neighborhood for nan, nan: HTTP Error: 400\n",
      "Error getting neighborhood for nan, nan: HTTP Error: 400\n",
      "Error getting neighborhood for nan, nan: HTTP Error: 400\n",
      "Error getting neighborhood for nan, nan: HTTP Error: 400\n",
      "Error getting neighborhood for nan, nan: HTTP Error: 400\n"
     ]
    },
    {
     "name": "stdout",
     "output_type": "stream",
     "text": [
      "Error getting neighborhood for nan, nan: HTTP Error: 400\n",
      "Error getting neighborhood for nan, nan: HTTP Error: 400\n",
      "Error getting neighborhood for nan, nan: HTTP Error: 400\n"
     ]
    },
    {
     "name": "stdout",
     "output_type": "stream",
     "text": [
      "Error getting neighborhood for nan, nan: HTTP Error: 400\n",
      "Error getting neighborhood for nan, nan: HTTP Error: 400\n",
      "Error getting neighborhood for nan, nan: HTTP Error: 400\n",
      "Error getting neighborhood for nan, nan: HTTP Error: 400\n",
      "Error getting neighborhood for nan, nan: HTTP Error: 400\n"
     ]
    },
    {
     "name": "stdout",
     "output_type": "stream",
     "text": [
      "Error getting neighborhood for nan, nan: HTTP Error: 400\n",
      "Error getting neighborhood for nan, nan: HTTP Error: 400\n",
      "Error getting neighborhood for nan, nan: HTTP Error: 400\n"
     ]
    },
    {
     "name": "stdout",
     "output_type": "stream",
     "text": [
      "Error getting neighborhood for nan, nan: HTTP Error: 400\n",
      "Error getting neighborhood for nan, nan: HTTP Error: 400\n",
      "Error getting neighborhood for nan, nan: HTTP Error: 400\n",
      "Error getting neighborhood for nan, nan: HTTP Error: 400\n",
      "Error getting neighborhood for nan, nan: HTTP Error: 400\n"
     ]
    },
    {
     "name": "stdout",
     "output_type": "stream",
     "text": [
      "Error getting neighborhood for nan, nan: HTTP Error: 400\n",
      "Error getting neighborhood for nan, nan: HTTP Error: 400\n",
      "Error getting neighborhood for nan, nan: HTTP Error: 400\n"
     ]
    },
    {
     "name": "stdout",
     "output_type": "stream",
     "text": [
      "Error getting neighborhood for nan, nan: HTTP Error: 400\n",
      "Error getting neighborhood for nan, nan: HTTP Error: 400\n",
      "Error getting neighborhood for nan, nan: HTTP Error: 400\n",
      "Error getting neighborhood for nan, nan: HTTP Error: 400\n",
      "Error getting neighborhood for nan, nan: HTTP Error: 400\n"
     ]
    },
    {
     "name": "stdout",
     "output_type": "stream",
     "text": [
      "Error getting neighborhood for nan, nan: HTTP Error: 400\n"
     ]
    },
    {
     "data": {
      "text/html": [
       "<div>\n",
       "<style scoped>\n",
       "    .dataframe tbody tr th:only-of-type {\n",
       "        vertical-align: middle;\n",
       "    }\n",
       "\n",
       "    .dataframe tbody tr th {\n",
       "        vertical-align: top;\n",
       "    }\n",
       "\n",
       "    .dataframe thead th {\n",
       "        text-align: right;\n",
       "    }\n",
       "</style>\n",
       "<table border=\"1\" class=\"dataframe\">\n",
       "  <thead>\n",
       "    <tr style=\"text-align: right;\">\n",
       "      <th></th>\n",
       "      <th>RecordID</th>\n",
       "      <th>Offense</th>\n",
       "      <th>IncidentID</th>\n",
       "      <th>BlockNumber</th>\n",
       "      <th>StreetName</th>\n",
       "      <th>Agency</th>\n",
       "      <th>HourReported</th>\n",
       "      <th>ReportingOfficer</th>\n",
       "      <th>Date</th>\n",
       "      <th>DateString</th>\n",
       "      <th>DayOfWeek</th>\n",
       "      <th>Weekend</th>\n",
       "      <th>Season</th>\n",
       "      <th>HourAMPM</th>\n",
       "      <th>TimeOfDay</th>\n",
       "      <th>FullStreet</th>\n",
       "      <th>lat</th>\n",
       "      <th>lon</th>\n",
       "      <th>neighborhood</th>\n",
       "    </tr>\n",
       "  </thead>\n",
       "  <tbody>\n",
       "    <tr>\n",
       "      <th>0</th>\n",
       "      <td>1</td>\n",
       "      <td>Hit and Run</td>\n",
       "      <td>202500025845</td>\n",
       "      <td>1400</td>\n",
       "      <td>VINE ST, B</td>\n",
       "      <td>CPD</td>\n",
       "      <td>1936</td>\n",
       "      <td>Venereo, Arturo</td>\n",
       "      <td>2025-07-22 19:36:41</td>\n",
       "      <td>2025-07-22 07:36:41 PM</td>\n",
       "      <td>Tuesday</td>\n",
       "      <td>False</td>\n",
       "      <td>Summer</td>\n",
       "      <td>07:36 PM</td>\n",
       "      <td>Evening</td>\n",
       "      <td>1400 VINE ST, B</td>\n",
       "      <td>38.019716</td>\n",
       "      <td>-78.468584</td>\n",
       "      <td>Belmont</td>\n",
       "    </tr>\n",
       "    <tr>\n",
       "      <th>1</th>\n",
       "      <td>2</td>\n",
       "      <td>Assault Simple</td>\n",
       "      <td>202500025839</td>\n",
       "      <td>200</td>\n",
       "      <td>W MAIN ST</td>\n",
       "      <td>CPD</td>\n",
       "      <td>1934</td>\n",
       "      <td>Darby, Michael</td>\n",
       "      <td>2025-07-22 19:34:04</td>\n",
       "      <td>2025-07-22 07:34:04 PM</td>\n",
       "      <td>Tuesday</td>\n",
       "      <td>False</td>\n",
       "      <td>Summer</td>\n",
       "      <td>07:34 PM</td>\n",
       "      <td>Evening</td>\n",
       "      <td>200 W MAIN ST</td>\n",
       "      <td>38.030841</td>\n",
       "      <td>-78.482517</td>\n",
       "      <td>Downtown Mall</td>\n",
       "    </tr>\n",
       "    <tr>\n",
       "      <th>2</th>\n",
       "      <td>3</td>\n",
       "      <td>Larceny - All Other</td>\n",
       "      <td>202500025838</td>\n",
       "      <td>1300</td>\n",
       "      <td>JOHN ST</td>\n",
       "      <td>CPD</td>\n",
       "      <td>1903</td>\n",
       "      <td>Essex, Dominique</td>\n",
       "      <td>2025-07-22 19:03:00</td>\n",
       "      <td>2025-07-22 07:03:00 PM</td>\n",
       "      <td>Tuesday</td>\n",
       "      <td>False</td>\n",
       "      <td>Summer</td>\n",
       "      <td>07:03 PM</td>\n",
       "      <td>Evening</td>\n",
       "      <td>1300 JOHN ST</td>\n",
       "      <td>38.036801</td>\n",
       "      <td>-78.497031</td>\n",
       "      <td>Venable</td>\n",
       "    </tr>\n",
       "    <tr>\n",
       "      <th>3</th>\n",
       "      <td>4</td>\n",
       "      <td>Larceny - Shoplifitng</td>\n",
       "      <td>202500025824</td>\n",
       "      <td>1100</td>\n",
       "      <td>EMMET ST N</td>\n",
       "      <td>CPD</td>\n",
       "      <td>1831</td>\n",
       "      <td>Crowley, Raeann</td>\n",
       "      <td>2025-07-22 18:31:34</td>\n",
       "      <td>2025-07-22 06:31:34 PM</td>\n",
       "      <td>Tuesday</td>\n",
       "      <td>False</td>\n",
       "      <td>Summer</td>\n",
       "      <td>06:31 PM</td>\n",
       "      <td>Evening</td>\n",
       "      <td>1100 EMMET ST N</td>\n",
       "      <td>38.051639</td>\n",
       "      <td>-78.501523</td>\n",
       "      <td>Barracks Road</td>\n",
       "    </tr>\n",
       "    <tr>\n",
       "      <th>4</th>\n",
       "      <td>5</td>\n",
       "      <td>Motor Vehicle Theft</td>\n",
       "      <td>202500025825</td>\n",
       "      <td>800</td>\n",
       "      <td>CABELL AVE</td>\n",
       "      <td>CPD</td>\n",
       "      <td>1803</td>\n",
       "      <td>Venereo, Arturo</td>\n",
       "      <td>2025-07-22 18:03:41</td>\n",
       "      <td>2025-07-22 06:03:41 PM</td>\n",
       "      <td>Tuesday</td>\n",
       "      <td>False</td>\n",
       "      <td>Summer</td>\n",
       "      <td>06:03 PM</td>\n",
       "      <td>Evening</td>\n",
       "      <td>800 CABELL AVE</td>\n",
       "      <td>38.042357</td>\n",
       "      <td>-78.496441</td>\n",
       "      <td>Venable</td>\n",
       "    </tr>\n",
       "  </tbody>\n",
       "</table>\n",
       "</div>"
      ],
      "text/plain": [
       "   RecordID                Offense    IncidentID BlockNumber  StreetName  \\\n",
       "0         1            Hit and Run  202500025845        1400  VINE ST, B   \n",
       "1         2         Assault Simple  202500025839         200   W MAIN ST   \n",
       "2         3    Larceny - All Other  202500025838        1300     JOHN ST   \n",
       "3         4  Larceny - Shoplifitng  202500025824        1100  EMMET ST N   \n",
       "4         5    Motor Vehicle Theft  202500025825         800  CABELL AVE   \n",
       "\n",
       "  Agency HourReported  ReportingOfficer                Date  \\\n",
       "0    CPD         1936   Venereo, Arturo 2025-07-22 19:36:41   \n",
       "1    CPD         1934    Darby, Michael 2025-07-22 19:34:04   \n",
       "2    CPD         1903  Essex, Dominique 2025-07-22 19:03:00   \n",
       "3    CPD         1831   Crowley, Raeann 2025-07-22 18:31:34   \n",
       "4    CPD         1803   Venereo, Arturo 2025-07-22 18:03:41   \n",
       "\n",
       "               DateString DayOfWeek  Weekend  Season  HourAMPM TimeOfDay  \\\n",
       "0  2025-07-22 07:36:41 PM   Tuesday    False  Summer  07:36 PM   Evening   \n",
       "1  2025-07-22 07:34:04 PM   Tuesday    False  Summer  07:34 PM   Evening   \n",
       "2  2025-07-22 07:03:00 PM   Tuesday    False  Summer  07:03 PM   Evening   \n",
       "3  2025-07-22 06:31:34 PM   Tuesday    False  Summer  06:31 PM   Evening   \n",
       "4  2025-07-22 06:03:41 PM   Tuesday    False  Summer  06:03 PM   Evening   \n",
       "\n",
       "        FullStreet        lat        lon   neighborhood  \n",
       "0  1400 VINE ST, B  38.019716 -78.468584        Belmont  \n",
       "1    200 W MAIN ST  38.030841 -78.482517  Downtown Mall  \n",
       "2     1300 JOHN ST  38.036801 -78.497031        Venable  \n",
       "3  1100 EMMET ST N  38.051639 -78.501523  Barracks Road  \n",
       "4   800 CABELL AVE  38.042357 -78.496441        Venable  "
      ]
     },
     "execution_count": 10,
     "metadata": {},
     "output_type": "execute_result"
    }
   ],
   "source": [
    "# Initialize the Google Maps client.\n",
    "gmaps = googlemaps.Client(key=GOOGLE_API_KEY)\n",
    "\n",
    "# Try to load a persistent neighborhood cache if available.\n",
    "try:\n",
    "    with open(\"neighborhood_cache.pkl\", \"rb\") as f:\n",
    "        neighborhood_cache = pickle.load(f)\n",
    "    print(\"Loaded neighborhood cache.\")\n",
    "except FileNotFoundError:\n",
    "    neighborhood_cache = {}\n",
    "    print(\"No neighborhood cache found; starting fresh.\")\n",
    "\n",
    "def get_neighborhood(lat, lon):\n",
    "    \"\"\"\n",
    "    Reverse geocodes a latitude and longitude to retrieve the neighborhood.\n",
    "    Caches results to speed up subsequent lookups.\n",
    "    \"\"\"\n",
    "    key = (lat, lon)\n",
    "    if key in neighborhood_cache:\n",
    "        return neighborhood_cache[key]\n",
    "    \n",
    "    try:\n",
    "        result = gmaps.reverse_geocode((lat, lon))\n",
    "        if result:\n",
    "            # Look for the 'neighborhood' component in the first result.\n",
    "            for component in result[0]['address_components']:\n",
    "                if 'neighborhood' in component['types']:\n",
    "                    neighborhood = component['long_name']\n",
    "                    neighborhood_cache[key] = neighborhood\n",
    "                    return neighborhood\n",
    "            # If no neighborhood is found, return \"N/A\"\n",
    "            neighborhood_cache[key] = \"N/A\"\n",
    "            return \"N/A\"\n",
    "    except Exception as e:\n",
    "        print(f\"Error getting neighborhood for {lat}, {lon}: {e}\")\n",
    "        return \"N/A\"\n",
    "    \n",
    "    # Pause to respect usage limits.\n",
    "    time.sleep(1)\n",
    "\n",
    "# Example usage: Apply to your DataFrame 'df' that already has 'lat' and 'lon' columns.\n",
    "df['neighborhood'] = df.apply(lambda row: get_neighborhood(row['lat'], row['lon']), axis=1)\n",
    "\n",
    "# Save the updated neighborhood cache.\n",
    "with open(\"neighborhood_cache.pkl\", \"wb\") as f:\n",
    "    pickle.dump(neighborhood_cache, f)\n",
    "\n",
    "df.head()\n"
   ]
  },
  {
   "cell_type": "markdown",
   "id": "3f9cea9d",
   "metadata": {
    "papermill": {
     "duration": 0.005429,
     "end_time": "2025-07-25T01:09:49.833848",
     "exception": false,
     "start_time": "2025-07-25T01:09:49.828419",
     "status": "completed"
    },
    "tags": []
   },
   "source": [
    "### Zip"
   ]
  },
  {
   "cell_type": "code",
   "execution_count": 11,
   "id": "f2222510",
   "metadata": {
    "execution": {
     "iopub.execute_input": "2025-07-25T01:09:49.845989Z",
     "iopub.status.busy": "2025-07-25T01:09:49.845717Z",
     "iopub.status.idle": "2025-07-25T01:11:00.237493Z",
     "shell.execute_reply": "2025-07-25T01:11:00.236844Z"
    },
    "papermill": {
     "duration": 70.399144,
     "end_time": "2025-07-25T01:11:00.238552",
     "exception": false,
     "start_time": "2025-07-25T01:09:49.839408",
     "status": "completed"
    },
    "tags": []
   },
   "outputs": [
    {
     "name": "stdout",
     "output_type": "stream",
     "text": [
      "Loaded zip cache.\n",
      "Error getting ZIP for nan, nan: Must be a coordinate pair or Point\n"
     ]
    },
    {
     "name": "stdout",
     "output_type": "stream",
     "text": [
      "Error getting ZIP for nan, nan: Must be a coordinate pair or Point\n"
     ]
    },
    {
     "name": "stdout",
     "output_type": "stream",
     "text": [
      "Error getting ZIP for nan, nan: Must be a coordinate pair or Point\n"
     ]
    },
    {
     "name": "stdout",
     "output_type": "stream",
     "text": [
      "Error getting ZIP for nan, nan: Must be a coordinate pair or Point\n"
     ]
    },
    {
     "name": "stdout",
     "output_type": "stream",
     "text": [
      "Error getting ZIP for nan, nan: Must be a coordinate pair or Point\n"
     ]
    },
    {
     "name": "stdout",
     "output_type": "stream",
     "text": [
      "Error getting ZIP for nan, nan: Must be a coordinate pair or Point\n"
     ]
    },
    {
     "name": "stdout",
     "output_type": "stream",
     "text": [
      "Error getting ZIP for nan, nan: Must be a coordinate pair or Point\n"
     ]
    },
    {
     "name": "stdout",
     "output_type": "stream",
     "text": [
      "Error getting ZIP for nan, nan: Must be a coordinate pair or Point\n"
     ]
    },
    {
     "name": "stdout",
     "output_type": "stream",
     "text": [
      "Error getting ZIP for nan, nan: Must be a coordinate pair or Point\n"
     ]
    },
    {
     "name": "stdout",
     "output_type": "stream",
     "text": [
      "Error getting ZIP for nan, nan: Must be a coordinate pair or Point\n"
     ]
    },
    {
     "name": "stdout",
     "output_type": "stream",
     "text": [
      "Error getting ZIP for nan, nan: Must be a coordinate pair or Point\n"
     ]
    },
    {
     "name": "stdout",
     "output_type": "stream",
     "text": [
      "Error getting ZIP for nan, nan: Must be a coordinate pair or Point\n"
     ]
    },
    {
     "name": "stdout",
     "output_type": "stream",
     "text": [
      "Error getting ZIP for nan, nan: Must be a coordinate pair or Point\n"
     ]
    },
    {
     "name": "stdout",
     "output_type": "stream",
     "text": [
      "Error getting ZIP for nan, nan: Must be a coordinate pair or Point\n"
     ]
    },
    {
     "name": "stdout",
     "output_type": "stream",
     "text": [
      "Error getting ZIP for nan, nan: Must be a coordinate pair or Point\n"
     ]
    },
    {
     "name": "stdout",
     "output_type": "stream",
     "text": [
      "Error getting ZIP for nan, nan: Must be a coordinate pair or Point\n"
     ]
    },
    {
     "name": "stdout",
     "output_type": "stream",
     "text": [
      "Error getting ZIP for nan, nan: Must be a coordinate pair or Point\n"
     ]
    },
    {
     "name": "stdout",
     "output_type": "stream",
     "text": [
      "Error getting ZIP for nan, nan: Must be a coordinate pair or Point\n"
     ]
    },
    {
     "name": "stdout",
     "output_type": "stream",
     "text": [
      "Error getting ZIP for nan, nan: Must be a coordinate pair or Point\n"
     ]
    },
    {
     "name": "stdout",
     "output_type": "stream",
     "text": [
      "Error getting ZIP for nan, nan: Must be a coordinate pair or Point\n"
     ]
    },
    {
     "name": "stdout",
     "output_type": "stream",
     "text": [
      "Error getting ZIP for nan, nan: Must be a coordinate pair or Point\n"
     ]
    },
    {
     "name": "stdout",
     "output_type": "stream",
     "text": [
      "Error getting ZIP for nan, nan: Must be a coordinate pair or Point\n"
     ]
    },
    {
     "name": "stdout",
     "output_type": "stream",
     "text": [
      "Error getting ZIP for nan, nan: Must be a coordinate pair or Point\n"
     ]
    },
    {
     "name": "stdout",
     "output_type": "stream",
     "text": [
      "Error getting ZIP for nan, nan: Must be a coordinate pair or Point\n"
     ]
    },
    {
     "name": "stdout",
     "output_type": "stream",
     "text": [
      "Error getting ZIP for nan, nan: Must be a coordinate pair or Point\n"
     ]
    },
    {
     "name": "stdout",
     "output_type": "stream",
     "text": [
      "Error getting ZIP for nan, nan: Must be a coordinate pair or Point\n"
     ]
    },
    {
     "name": "stdout",
     "output_type": "stream",
     "text": [
      "Error getting ZIP for nan, nan: Must be a coordinate pair or Point\n"
     ]
    },
    {
     "name": "stdout",
     "output_type": "stream",
     "text": [
      "Error getting ZIP for nan, nan: Must be a coordinate pair or Point\n"
     ]
    },
    {
     "name": "stdout",
     "output_type": "stream",
     "text": [
      "Error getting ZIP for nan, nan: Must be a coordinate pair or Point\n"
     ]
    },
    {
     "name": "stdout",
     "output_type": "stream",
     "text": [
      "Error getting ZIP for nan, nan: Must be a coordinate pair or Point\n"
     ]
    },
    {
     "name": "stdout",
     "output_type": "stream",
     "text": [
      "Error getting ZIP for nan, nan: Must be a coordinate pair or Point\n"
     ]
    },
    {
     "name": "stdout",
     "output_type": "stream",
     "text": [
      "Error getting ZIP for nan, nan: Must be a coordinate pair or Point\n"
     ]
    },
    {
     "name": "stdout",
     "output_type": "stream",
     "text": [
      "Error getting ZIP for nan, nan: Must be a coordinate pair or Point\n"
     ]
    },
    {
     "name": "stdout",
     "output_type": "stream",
     "text": [
      "Error getting ZIP for nan, nan: Must be a coordinate pair or Point\n"
     ]
    },
    {
     "name": "stdout",
     "output_type": "stream",
     "text": [
      "Error getting ZIP for nan, nan: Must be a coordinate pair or Point\n"
     ]
    },
    {
     "name": "stdout",
     "output_type": "stream",
     "text": [
      "Error getting ZIP for nan, nan: Must be a coordinate pair or Point\n"
     ]
    },
    {
     "name": "stdout",
     "output_type": "stream",
     "text": [
      "Error getting ZIP for nan, nan: Must be a coordinate pair or Point\n"
     ]
    },
    {
     "name": "stdout",
     "output_type": "stream",
     "text": [
      "Error getting ZIP for nan, nan: Must be a coordinate pair or Point\n"
     ]
    },
    {
     "name": "stdout",
     "output_type": "stream",
     "text": [
      "Error getting ZIP for nan, nan: Must be a coordinate pair or Point\n"
     ]
    },
    {
     "name": "stdout",
     "output_type": "stream",
     "text": [
      "Error getting ZIP for nan, nan: Must be a coordinate pair or Point\n"
     ]
    },
    {
     "name": "stdout",
     "output_type": "stream",
     "text": [
      "Error getting ZIP for nan, nan: Must be a coordinate pair or Point\n"
     ]
    },
    {
     "name": "stdout",
     "output_type": "stream",
     "text": [
      "Error getting ZIP for nan, nan: Must be a coordinate pair or Point\n"
     ]
    },
    {
     "name": "stdout",
     "output_type": "stream",
     "text": [
      "Error getting ZIP for nan, nan: Must be a coordinate pair or Point\n"
     ]
    },
    {
     "name": "stdout",
     "output_type": "stream",
     "text": [
      "Error getting ZIP for nan, nan: Must be a coordinate pair or Point\n"
     ]
    },
    {
     "name": "stdout",
     "output_type": "stream",
     "text": [
      "Error getting ZIP for nan, nan: Must be a coordinate pair or Point\n"
     ]
    },
    {
     "name": "stdout",
     "output_type": "stream",
     "text": [
      "Error getting ZIP for nan, nan: Must be a coordinate pair or Point\n"
     ]
    },
    {
     "name": "stdout",
     "output_type": "stream",
     "text": [
      "Error getting ZIP for nan, nan: Must be a coordinate pair or Point\n"
     ]
    },
    {
     "name": "stdout",
     "output_type": "stream",
     "text": [
      "Error getting ZIP for nan, nan: Must be a coordinate pair or Point\n"
     ]
    },
    {
     "name": "stdout",
     "output_type": "stream",
     "text": [
      "Error getting ZIP for nan, nan: Must be a coordinate pair or Point\n"
     ]
    },
    {
     "name": "stdout",
     "output_type": "stream",
     "text": [
      "Error getting ZIP for nan, nan: Must be a coordinate pair or Point\n"
     ]
    },
    {
     "name": "stdout",
     "output_type": "stream",
     "text": [
      "Error getting ZIP for nan, nan: Must be a coordinate pair or Point\n"
     ]
    },
    {
     "name": "stdout",
     "output_type": "stream",
     "text": [
      "Error getting ZIP for nan, nan: Must be a coordinate pair or Point\n"
     ]
    },
    {
     "name": "stdout",
     "output_type": "stream",
     "text": [
      "Error getting ZIP for nan, nan: Must be a coordinate pair or Point\n"
     ]
    },
    {
     "name": "stdout",
     "output_type": "stream",
     "text": [
      "Error getting ZIP for nan, nan: Must be a coordinate pair or Point\n"
     ]
    },
    {
     "name": "stdout",
     "output_type": "stream",
     "text": [
      "Error getting ZIP for nan, nan: Must be a coordinate pair or Point\n"
     ]
    },
    {
     "name": "stdout",
     "output_type": "stream",
     "text": [
      "Error getting ZIP for nan, nan: Must be a coordinate pair or Point\n"
     ]
    },
    {
     "name": "stdout",
     "output_type": "stream",
     "text": [
      "Error getting ZIP for nan, nan: Must be a coordinate pair or Point\n"
     ]
    },
    {
     "name": "stdout",
     "output_type": "stream",
     "text": [
      "Error getting ZIP for nan, nan: Must be a coordinate pair or Point\n"
     ]
    },
    {
     "name": "stdout",
     "output_type": "stream",
     "text": [
      "Error getting ZIP for nan, nan: Must be a coordinate pair or Point\n"
     ]
    },
    {
     "name": "stdout",
     "output_type": "stream",
     "text": [
      "Error getting ZIP for nan, nan: Must be a coordinate pair or Point\n"
     ]
    },
    {
     "name": "stdout",
     "output_type": "stream",
     "text": [
      "Error getting ZIP for nan, nan: Must be a coordinate pair or Point\n"
     ]
    },
    {
     "name": "stdout",
     "output_type": "stream",
     "text": [
      "Error getting ZIP for nan, nan: Must be a coordinate pair or Point\n"
     ]
    },
    {
     "name": "stdout",
     "output_type": "stream",
     "text": [
      "Error getting ZIP for nan, nan: Must be a coordinate pair or Point\n"
     ]
    },
    {
     "name": "stdout",
     "output_type": "stream",
     "text": [
      "Error getting ZIP for nan, nan: Must be a coordinate pair or Point\n"
     ]
    },
    {
     "name": "stdout",
     "output_type": "stream",
     "text": [
      "Error getting ZIP for nan, nan: Must be a coordinate pair or Point\n"
     ]
    },
    {
     "name": "stdout",
     "output_type": "stream",
     "text": [
      "Error getting ZIP for nan, nan: Must be a coordinate pair or Point\n"
     ]
    },
    {
     "name": "stdout",
     "output_type": "stream",
     "text": [
      "Error getting ZIP for nan, nan: Must be a coordinate pair or Point\n"
     ]
    },
    {
     "name": "stdout",
     "output_type": "stream",
     "text": [
      "Error getting ZIP for nan, nan: Must be a coordinate pair or Point\n"
     ]
    },
    {
     "name": "stdout",
     "output_type": "stream",
     "text": [
      "Error getting ZIP for nan, nan: Must be a coordinate pair or Point\n"
     ]
    },
    {
     "name": "stdout",
     "output_type": "stream",
     "text": [
      "Error getting ZIP for nan, nan: Must be a coordinate pair or Point\n"
     ]
    },
    {
     "data": {
      "text/html": [
       "<div>\n",
       "<style scoped>\n",
       "    .dataframe tbody tr th:only-of-type {\n",
       "        vertical-align: middle;\n",
       "    }\n",
       "\n",
       "    .dataframe tbody tr th {\n",
       "        vertical-align: top;\n",
       "    }\n",
       "\n",
       "    .dataframe thead th {\n",
       "        text-align: right;\n",
       "    }\n",
       "</style>\n",
       "<table border=\"1\" class=\"dataframe\">\n",
       "  <thead>\n",
       "    <tr style=\"text-align: right;\">\n",
       "      <th></th>\n",
       "      <th>RecordID</th>\n",
       "      <th>Offense</th>\n",
       "      <th>IncidentID</th>\n",
       "      <th>BlockNumber</th>\n",
       "      <th>StreetName</th>\n",
       "      <th>Agency</th>\n",
       "      <th>HourReported</th>\n",
       "      <th>ReportingOfficer</th>\n",
       "      <th>Date</th>\n",
       "      <th>DateString</th>\n",
       "      <th>DayOfWeek</th>\n",
       "      <th>Weekend</th>\n",
       "      <th>Season</th>\n",
       "      <th>HourAMPM</th>\n",
       "      <th>TimeOfDay</th>\n",
       "      <th>FullStreet</th>\n",
       "      <th>lat</th>\n",
       "      <th>lon</th>\n",
       "      <th>neighborhood</th>\n",
       "      <th>zip</th>\n",
       "    </tr>\n",
       "  </thead>\n",
       "  <tbody>\n",
       "    <tr>\n",
       "      <th>0</th>\n",
       "      <td>1</td>\n",
       "      <td>Hit and Run</td>\n",
       "      <td>202500025845</td>\n",
       "      <td>1400</td>\n",
       "      <td>VINE ST, B</td>\n",
       "      <td>CPD</td>\n",
       "      <td>1936</td>\n",
       "      <td>Venereo, Arturo</td>\n",
       "      <td>2025-07-22 19:36:41</td>\n",
       "      <td>2025-07-22 07:36:41 PM</td>\n",
       "      <td>Tuesday</td>\n",
       "      <td>False</td>\n",
       "      <td>Summer</td>\n",
       "      <td>07:36 PM</td>\n",
       "      <td>Evening</td>\n",
       "      <td>1400 VINE ST, B</td>\n",
       "      <td>38.019716</td>\n",
       "      <td>-78.468584</td>\n",
       "      <td>Belmont</td>\n",
       "      <td>22902</td>\n",
       "    </tr>\n",
       "    <tr>\n",
       "      <th>1</th>\n",
       "      <td>2</td>\n",
       "      <td>Assault Simple</td>\n",
       "      <td>202500025839</td>\n",
       "      <td>200</td>\n",
       "      <td>W MAIN ST</td>\n",
       "      <td>CPD</td>\n",
       "      <td>1934</td>\n",
       "      <td>Darby, Michael</td>\n",
       "      <td>2025-07-22 19:34:04</td>\n",
       "      <td>2025-07-22 07:34:04 PM</td>\n",
       "      <td>Tuesday</td>\n",
       "      <td>False</td>\n",
       "      <td>Summer</td>\n",
       "      <td>07:34 PM</td>\n",
       "      <td>Evening</td>\n",
       "      <td>200 W MAIN ST</td>\n",
       "      <td>38.030841</td>\n",
       "      <td>-78.482517</td>\n",
       "      <td>Downtown Mall</td>\n",
       "      <td>22902</td>\n",
       "    </tr>\n",
       "    <tr>\n",
       "      <th>2</th>\n",
       "      <td>3</td>\n",
       "      <td>Larceny - All Other</td>\n",
       "      <td>202500025838</td>\n",
       "      <td>1300</td>\n",
       "      <td>JOHN ST</td>\n",
       "      <td>CPD</td>\n",
       "      <td>1903</td>\n",
       "      <td>Essex, Dominique</td>\n",
       "      <td>2025-07-22 19:03:00</td>\n",
       "      <td>2025-07-22 07:03:00 PM</td>\n",
       "      <td>Tuesday</td>\n",
       "      <td>False</td>\n",
       "      <td>Summer</td>\n",
       "      <td>07:03 PM</td>\n",
       "      <td>Evening</td>\n",
       "      <td>1300 JOHN ST</td>\n",
       "      <td>38.036801</td>\n",
       "      <td>-78.497031</td>\n",
       "      <td>Venable</td>\n",
       "      <td>22903</td>\n",
       "    </tr>\n",
       "    <tr>\n",
       "      <th>3</th>\n",
       "      <td>4</td>\n",
       "      <td>Larceny - Shoplifitng</td>\n",
       "      <td>202500025824</td>\n",
       "      <td>1100</td>\n",
       "      <td>EMMET ST N</td>\n",
       "      <td>CPD</td>\n",
       "      <td>1831</td>\n",
       "      <td>Crowley, Raeann</td>\n",
       "      <td>2025-07-22 18:31:34</td>\n",
       "      <td>2025-07-22 06:31:34 PM</td>\n",
       "      <td>Tuesday</td>\n",
       "      <td>False</td>\n",
       "      <td>Summer</td>\n",
       "      <td>06:31 PM</td>\n",
       "      <td>Evening</td>\n",
       "      <td>1100 EMMET ST N</td>\n",
       "      <td>38.051639</td>\n",
       "      <td>-78.501523</td>\n",
       "      <td>Barracks Road</td>\n",
       "      <td>22901</td>\n",
       "    </tr>\n",
       "    <tr>\n",
       "      <th>4</th>\n",
       "      <td>5</td>\n",
       "      <td>Motor Vehicle Theft</td>\n",
       "      <td>202500025825</td>\n",
       "      <td>800</td>\n",
       "      <td>CABELL AVE</td>\n",
       "      <td>CPD</td>\n",
       "      <td>1803</td>\n",
       "      <td>Venereo, Arturo</td>\n",
       "      <td>2025-07-22 18:03:41</td>\n",
       "      <td>2025-07-22 06:03:41 PM</td>\n",
       "      <td>Tuesday</td>\n",
       "      <td>False</td>\n",
       "      <td>Summer</td>\n",
       "      <td>06:03 PM</td>\n",
       "      <td>Evening</td>\n",
       "      <td>800 CABELL AVE</td>\n",
       "      <td>38.042357</td>\n",
       "      <td>-78.496441</td>\n",
       "      <td>Venable</td>\n",
       "      <td>22903</td>\n",
       "    </tr>\n",
       "  </tbody>\n",
       "</table>\n",
       "</div>"
      ],
      "text/plain": [
       "   RecordID                Offense    IncidentID BlockNumber  StreetName  \\\n",
       "0         1            Hit and Run  202500025845        1400  VINE ST, B   \n",
       "1         2         Assault Simple  202500025839         200   W MAIN ST   \n",
       "2         3    Larceny - All Other  202500025838        1300     JOHN ST   \n",
       "3         4  Larceny - Shoplifitng  202500025824        1100  EMMET ST N   \n",
       "4         5    Motor Vehicle Theft  202500025825         800  CABELL AVE   \n",
       "\n",
       "  Agency HourReported  ReportingOfficer                Date  \\\n",
       "0    CPD         1936   Venereo, Arturo 2025-07-22 19:36:41   \n",
       "1    CPD         1934    Darby, Michael 2025-07-22 19:34:04   \n",
       "2    CPD         1903  Essex, Dominique 2025-07-22 19:03:00   \n",
       "3    CPD         1831   Crowley, Raeann 2025-07-22 18:31:34   \n",
       "4    CPD         1803   Venereo, Arturo 2025-07-22 18:03:41   \n",
       "\n",
       "               DateString DayOfWeek  Weekend  Season  HourAMPM TimeOfDay  \\\n",
       "0  2025-07-22 07:36:41 PM   Tuesday    False  Summer  07:36 PM   Evening   \n",
       "1  2025-07-22 07:34:04 PM   Tuesday    False  Summer  07:34 PM   Evening   \n",
       "2  2025-07-22 07:03:00 PM   Tuesday    False  Summer  07:03 PM   Evening   \n",
       "3  2025-07-22 06:31:34 PM   Tuesday    False  Summer  06:31 PM   Evening   \n",
       "4  2025-07-22 06:03:41 PM   Tuesday    False  Summer  06:03 PM   Evening   \n",
       "\n",
       "        FullStreet        lat        lon   neighborhood    zip  \n",
       "0  1400 VINE ST, B  38.019716 -78.468584        Belmont  22902  \n",
       "1    200 W MAIN ST  38.030841 -78.482517  Downtown Mall  22902  \n",
       "2     1300 JOHN ST  38.036801 -78.497031        Venable  22903  \n",
       "3  1100 EMMET ST N  38.051639 -78.501523  Barracks Road  22901  \n",
       "4   800 CABELL AVE  38.042357 -78.496441        Venable  22903  "
      ]
     },
     "execution_count": 11,
     "metadata": {},
     "output_type": "execute_result"
    }
   ],
   "source": [
    "# Initialize the geocoder.\n",
    "geolocator = Nominatim(user_agent=\"zip_lookup\")\n",
    "\n",
    "# Try to load a persistent ZIP cache if available.\n",
    "try:\n",
    "    with open(\"zip_cache.pkl\", \"rb\") as f:\n",
    "        zip_cache = pickle.load(f)\n",
    "    print(\"Loaded zip cache.\")\n",
    "except FileNotFoundError:\n",
    "    zip_cache = {}\n",
    "    print(\"No zip cache found; starting fresh.\")\n",
    "\n",
    "def get_zip(lat, lon):\n",
    "    \"\"\"\n",
    "    Reverse geocodes a latitude and longitude to retrieve the ZIP code.\n",
    "    Caches results to speed up subsequent lookups.\n",
    "    \"\"\"\n",
    "    key = (lat, lon)\n",
    "    if key in zip_cache:\n",
    "        return zip_cache[key]\n",
    "    \n",
    "    try:\n",
    "        location = geolocator.reverse((lat, lon), exactly_one=True, timeout=10)\n",
    "        address = location.raw.get('address', {})\n",
    "        postal_code = address.get('postcode', \"N/A\")\n",
    "    except Exception as e:\n",
    "        print(f\"Error getting ZIP for {lat}, {lon}: {e}\")\n",
    "        postal_code = \"N/A\"\n",
    "    \n",
    "    zip_cache[key] = postal_code\n",
    "    # Pause to respect the usage policy.\n",
    "    time.sleep(1)\n",
    "    return postal_code\n",
    "\n",
    "# Apply the function to each row in the DataFrame.\n",
    "df['zip'] = df.apply(lambda row: get_zip(row['lat'], row['lon']), axis=1)\n",
    "\n",
    "# Save the updated ZIP cache.\n",
    "with open(\"zip_cache.pkl\", \"wb\") as f:\n",
    "    pickle.dump(zip_cache, f)\n",
    "\n",
    "df.head()\n"
   ]
  },
  {
   "cell_type": "code",
   "execution_count": 12,
   "id": "d9d3f04a",
   "metadata": {
    "execution": {
     "iopub.execute_input": "2025-07-25T01:11:00.256983Z",
     "iopub.status.busy": "2025-07-25T01:11:00.256730Z",
     "iopub.status.idle": "2025-07-25T01:11:00.285731Z",
     "shell.execute_reply": "2025-07-25T01:11:00.285013Z"
    },
    "papermill": {
     "duration": 0.039348,
     "end_time": "2025-07-25T01:11:00.286859",
     "exception": false,
     "start_time": "2025-07-25T01:11:00.247511",
     "status": "completed"
    },
    "tags": []
   },
   "outputs": [
    {
     "name": "stdout",
     "output_type": "stream",
     "text": [
      "                  MissingCount  MissingPercentage\n",
      "RecordID                     0               0.00\n",
      "Offense                      0               0.00\n",
      "IncidentID                   0               0.00\n",
      "BlockNumber                  0               0.00\n",
      "StreetName                   0               0.00\n",
      "Agency                       0               0.00\n",
      "HourReported                 0               0.00\n",
      "ReportingOfficer            17               0.07\n",
      "Date                         0               0.00\n",
      "DateString                   0               0.00\n",
      "DayOfWeek                    0               0.00\n",
      "Weekend                      0               0.00\n",
      "Season                       0               0.00\n",
      "HourAMPM                     0               0.00\n",
      "TimeOfDay                    0               0.00\n",
      "FullStreet                   0               0.00\n",
      "lat                         70               0.27\n",
      "lon                         70               0.27\n",
      "neighborhood                 0               0.00\n",
      "zip                          0               0.00\n"
     ]
    }
   ],
   "source": [
    "missing_info = missing_percentage(df)\n",
    "print(missing_info)\n"
   ]
  },
  {
   "cell_type": "code",
   "execution_count": 13,
   "id": "b64feb6f",
   "metadata": {
    "execution": {
     "iopub.execute_input": "2025-07-25T01:11:00.305593Z",
     "iopub.status.busy": "2025-07-25T01:11:00.305347Z",
     "iopub.status.idle": "2025-07-25T01:11:00.337054Z",
     "shell.execute_reply": "2025-07-25T01:11:00.336370Z"
    },
    "papermill": {
     "duration": 0.042265,
     "end_time": "2025-07-25T01:11:00.338137",
     "exception": false,
     "start_time": "2025-07-25T01:11:00.295872",
     "status": "completed"
    },
    "tags": []
   },
   "outputs": [
    {
     "name": "stdout",
     "output_type": "stream",
     "text": [
      "<class 'pandas.core.frame.DataFrame'>\n",
      "RangeIndex: 25566 entries, 0 to 25565\n",
      "Data columns (total 20 columns):\n",
      " #   Column            Non-Null Count  Dtype         \n",
      "---  ------            --------------  -----         \n",
      " 0   RecordID          25566 non-null  int64         \n",
      " 1   Offense           25566 non-null  object        \n",
      " 2   IncidentID        25566 non-null  object        \n",
      " 3   BlockNumber       25566 non-null  object        \n",
      " 4   StreetName        25566 non-null  object        \n",
      " 5   Agency            25566 non-null  object        \n",
      " 6   HourReported      25566 non-null  object        \n",
      " 7   ReportingOfficer  25549 non-null  object        \n",
      " 8   Date              25566 non-null  datetime64[ns]\n",
      " 9   DateString        25566 non-null  object        \n",
      " 10  DayOfWeek         25566 non-null  object        \n",
      " 11  Weekend           25566 non-null  bool          \n",
      " 12  Season            25566 non-null  object        \n",
      " 13  HourAMPM          25566 non-null  object        \n",
      " 14  TimeOfDay         25566 non-null  object        \n",
      " 15  FullStreet        25566 non-null  object        \n",
      " 16  lat               25496 non-null  float64       \n",
      " 17  lon               25496 non-null  float64       \n",
      " 18  neighborhood      25566 non-null  object        \n",
      " 19  zip               25566 non-null  object        \n",
      "dtypes: bool(1), datetime64[ns](1), float64(2), int64(1), object(15)\n",
      "memory usage: 3.7+ MB\n"
     ]
    }
   ],
   "source": [
    "df.info()"
   ]
  },
  {
   "cell_type": "code",
   "execution_count": 14,
   "id": "417a0fd5",
   "metadata": {
    "execution": {
     "iopub.execute_input": "2025-07-25T01:11:00.357696Z",
     "iopub.status.busy": "2025-07-25T01:11:00.357110Z",
     "iopub.status.idle": "2025-07-25T01:11:00.409498Z",
     "shell.execute_reply": "2025-07-25T01:11:00.408818Z"
    },
    "papermill": {
     "duration": 0.063221,
     "end_time": "2025-07-25T01:11:00.410562",
     "exception": false,
     "start_time": "2025-07-25T01:11:00.347341",
     "status": "completed"
    },
    "tags": []
   },
   "outputs": [
    {
     "data": {
      "text/html": [
       "<div>\n",
       "<style scoped>\n",
       "    .dataframe tbody tr th:only-of-type {\n",
       "        vertical-align: middle;\n",
       "    }\n",
       "\n",
       "    .dataframe tbody tr th {\n",
       "        vertical-align: top;\n",
       "    }\n",
       "\n",
       "    .dataframe thead th {\n",
       "        text-align: right;\n",
       "    }\n",
       "</style>\n",
       "<table border=\"1\" class=\"dataframe\">\n",
       "  <thead>\n",
       "    <tr style=\"text-align: right;\">\n",
       "      <th></th>\n",
       "      <th>RecordID</th>\n",
       "      <th>Offense</th>\n",
       "      <th>IncidentID</th>\n",
       "      <th>Agency</th>\n",
       "      <th>ReportingOfficer</th>\n",
       "      <th>Date</th>\n",
       "      <th>DayOfWeek</th>\n",
       "      <th>Weekend</th>\n",
       "      <th>Season</th>\n",
       "      <th>TimeOfDay</th>\n",
       "      <th>FullStreet</th>\n",
       "      <th>lat</th>\n",
       "      <th>lon</th>\n",
       "      <th>neighborhood</th>\n",
       "      <th>zip</th>\n",
       "    </tr>\n",
       "  </thead>\n",
       "  <tbody>\n",
       "    <tr>\n",
       "      <th>0</th>\n",
       "      <td>1</td>\n",
       "      <td>Hit and Run</td>\n",
       "      <td>202500025845</td>\n",
       "      <td>CPD</td>\n",
       "      <td>Venereo, Arturo</td>\n",
       "      <td>2025-07-22 19:36:41</td>\n",
       "      <td>Tuesday</td>\n",
       "      <td>False</td>\n",
       "      <td>Summer</td>\n",
       "      <td>Evening</td>\n",
       "      <td>1400 VINE ST, B</td>\n",
       "      <td>38.019716</td>\n",
       "      <td>-78.468584</td>\n",
       "      <td>Belmont</td>\n",
       "      <td>22902</td>\n",
       "    </tr>\n",
       "    <tr>\n",
       "      <th>1</th>\n",
       "      <td>2</td>\n",
       "      <td>Assault Simple</td>\n",
       "      <td>202500025839</td>\n",
       "      <td>CPD</td>\n",
       "      <td>Darby, Michael</td>\n",
       "      <td>2025-07-22 19:34:04</td>\n",
       "      <td>Tuesday</td>\n",
       "      <td>False</td>\n",
       "      <td>Summer</td>\n",
       "      <td>Evening</td>\n",
       "      <td>200 W MAIN ST</td>\n",
       "      <td>38.030841</td>\n",
       "      <td>-78.482517</td>\n",
       "      <td>Downtown Mall</td>\n",
       "      <td>22902</td>\n",
       "    </tr>\n",
       "    <tr>\n",
       "      <th>2</th>\n",
       "      <td>3</td>\n",
       "      <td>Larceny - All Other</td>\n",
       "      <td>202500025838</td>\n",
       "      <td>CPD</td>\n",
       "      <td>Essex, Dominique</td>\n",
       "      <td>2025-07-22 19:03:00</td>\n",
       "      <td>Tuesday</td>\n",
       "      <td>False</td>\n",
       "      <td>Summer</td>\n",
       "      <td>Evening</td>\n",
       "      <td>1300 JOHN ST</td>\n",
       "      <td>38.036801</td>\n",
       "      <td>-78.497031</td>\n",
       "      <td>Venable</td>\n",
       "      <td>22903</td>\n",
       "    </tr>\n",
       "    <tr>\n",
       "      <th>3</th>\n",
       "      <td>4</td>\n",
       "      <td>Larceny - Shoplifitng</td>\n",
       "      <td>202500025824</td>\n",
       "      <td>CPD</td>\n",
       "      <td>Crowley, Raeann</td>\n",
       "      <td>2025-07-22 18:31:34</td>\n",
       "      <td>Tuesday</td>\n",
       "      <td>False</td>\n",
       "      <td>Summer</td>\n",
       "      <td>Evening</td>\n",
       "      <td>1100 EMMET ST N</td>\n",
       "      <td>38.051639</td>\n",
       "      <td>-78.501523</td>\n",
       "      <td>Barracks Road</td>\n",
       "      <td>22901</td>\n",
       "    </tr>\n",
       "    <tr>\n",
       "      <th>4</th>\n",
       "      <td>5</td>\n",
       "      <td>Motor Vehicle Theft</td>\n",
       "      <td>202500025825</td>\n",
       "      <td>CPD</td>\n",
       "      <td>Venereo, Arturo</td>\n",
       "      <td>2025-07-22 18:03:41</td>\n",
       "      <td>Tuesday</td>\n",
       "      <td>False</td>\n",
       "      <td>Summer</td>\n",
       "      <td>Evening</td>\n",
       "      <td>800 CABELL AVE</td>\n",
       "      <td>38.042357</td>\n",
       "      <td>-78.496441</td>\n",
       "      <td>Venable</td>\n",
       "      <td>22903</td>\n",
       "    </tr>\n",
       "  </tbody>\n",
       "</table>\n",
       "</div>"
      ],
      "text/plain": [
       "   RecordID                Offense    IncidentID Agency  ReportingOfficer  \\\n",
       "0         1            Hit and Run  202500025845    CPD   Venereo, Arturo   \n",
       "1         2         Assault Simple  202500025839    CPD    Darby, Michael   \n",
       "2         3    Larceny - All Other  202500025838    CPD  Essex, Dominique   \n",
       "3         4  Larceny - Shoplifitng  202500025824    CPD   Crowley, Raeann   \n",
       "4         5    Motor Vehicle Theft  202500025825    CPD   Venereo, Arturo   \n",
       "\n",
       "                 Date DayOfWeek  Weekend  Season TimeOfDay       FullStreet  \\\n",
       "0 2025-07-22 19:36:41   Tuesday    False  Summer   Evening  1400 VINE ST, B   \n",
       "1 2025-07-22 19:34:04   Tuesday    False  Summer   Evening    200 W MAIN ST   \n",
       "2 2025-07-22 19:03:00   Tuesday    False  Summer   Evening     1300 JOHN ST   \n",
       "3 2025-07-22 18:31:34   Tuesday    False  Summer   Evening  1100 EMMET ST N   \n",
       "4 2025-07-22 18:03:41   Tuesday    False  Summer   Evening   800 CABELL AVE   \n",
       "\n",
       "         lat        lon   neighborhood    zip  \n",
       "0  38.019716 -78.468584        Belmont  22902  \n",
       "1  38.030841 -78.482517  Downtown Mall  22902  \n",
       "2  38.036801 -78.497031        Venable  22903  \n",
       "3  38.051639 -78.501523  Barracks Road  22901  \n",
       "4  38.042357 -78.496441        Venable  22903  "
      ]
     },
     "execution_count": 14,
     "metadata": {},
     "output_type": "execute_result"
    }
   ],
   "source": [
    "# Now drop the original BlockNumber and StreetName columns\n",
    "df.drop(columns=['BlockNumber', 'StreetName','HourAMPM','HourReported','DateString'], inplace=True)\n",
    "df[\"zip\"] = df[\"zip\"].astype(str)\n",
    "\n",
    "# Fill all missing values in the DataFrame with \"N/A\"\n",
    "df.replace({None: \"N/A\", np.nan: \"N/A\", \"\": \"N/A\"}, inplace=True)\n",
    "df.head()"
   ]
  },
  {
   "cell_type": "code",
   "execution_count": 15,
   "id": "5d5cf94d",
   "metadata": {
    "execution": {
     "iopub.execute_input": "2025-07-25T01:11:00.430082Z",
     "iopub.status.busy": "2025-07-25T01:11:00.429837Z",
     "iopub.status.idle": "2025-07-25T01:11:00.452073Z",
     "shell.execute_reply": "2025-07-25T01:11:00.451473Z"
    },
    "papermill": {
     "duration": 0.032964,
     "end_time": "2025-07-25T01:11:00.453120",
     "exception": false,
     "start_time": "2025-07-25T01:11:00.420156",
     "status": "completed"
    },
    "tags": []
   },
   "outputs": [
    {
     "name": "stdout",
     "output_type": "stream",
     "text": [
      "                  MissingCount  MissingPercentage\n",
      "RecordID                     0                0.0\n",
      "Offense                      0                0.0\n",
      "IncidentID                   0                0.0\n",
      "Agency                       0                0.0\n",
      "ReportingOfficer             0                0.0\n",
      "Date                         0                0.0\n",
      "DayOfWeek                    0                0.0\n",
      "Weekend                      0                0.0\n",
      "Season                       0                0.0\n",
      "TimeOfDay                    0                0.0\n",
      "FullStreet                   0                0.0\n",
      "lat                          0                0.0\n",
      "lon                          0                0.0\n",
      "neighborhood                 0                0.0\n",
      "zip                          0                0.0\n"
     ]
    }
   ],
   "source": [
    "missing_info = missing_percentage(df)\n",
    "print(missing_info)"
   ]
  },
  {
   "cell_type": "code",
   "execution_count": 16,
   "id": "615bc484",
   "metadata": {
    "execution": {
     "iopub.execute_input": "2025-07-25T01:11:00.472516Z",
     "iopub.status.busy": "2025-07-25T01:11:00.472250Z",
     "iopub.status.idle": "2025-07-25T01:11:00.476662Z",
     "shell.execute_reply": "2025-07-25T01:11:00.476109Z"
    },
    "papermill": {
     "duration": 0.015199,
     "end_time": "2025-07-25T01:11:00.477668",
     "exception": false,
     "start_time": "2025-07-25T01:11:00.462469",
     "status": "completed"
    },
    "tags": []
   },
   "outputs": [
    {
     "data": {
      "text/plain": [
       "Index(['RecordID', 'Offense', 'IncidentID', 'Agency', 'ReportingOfficer',\n",
       "       'Date', 'DayOfWeek', 'Weekend', 'Season', 'TimeOfDay', 'FullStreet',\n",
       "       'lat', 'lon', 'neighborhood', 'zip'],\n",
       "      dtype='object')"
      ]
     },
     "execution_count": 16,
     "metadata": {},
     "output_type": "execute_result"
    }
   ],
   "source": [
    "df.columns"
   ]
  },
  {
   "cell_type": "code",
   "execution_count": 17,
   "id": "bdc5227f",
   "metadata": {
    "execution": {
     "iopub.execute_input": "2025-07-25T01:11:00.496942Z",
     "iopub.status.busy": "2025-07-25T01:11:00.496657Z",
     "iopub.status.idle": "2025-07-25T01:11:00.520072Z",
     "shell.execute_reply": "2025-07-25T01:11:00.519494Z"
    },
    "papermill": {
     "duration": 0.034335,
     "end_time": "2025-07-25T01:11:00.521190",
     "exception": false,
     "start_time": "2025-07-25T01:11:00.486855",
     "status": "completed"
    },
    "tags": []
   },
   "outputs": [
    {
     "name": "stdout",
     "output_type": "stream",
     "text": [
      "<class 'pandas.core.frame.DataFrame'>\n",
      "RangeIndex: 25566 entries, 0 to 25565\n",
      "Data columns (total 15 columns):\n",
      " #   Column            Non-Null Count  Dtype         \n",
      "---  ------            --------------  -----         \n",
      " 0   RecordID          25566 non-null  int64         \n",
      " 1   Offense           25566 non-null  object        \n",
      " 2   IncidentID        25566 non-null  object        \n",
      " 3   Agency            25566 non-null  object        \n",
      " 4   ReportingOfficer  25566 non-null  object        \n",
      " 5   Date              25566 non-null  datetime64[ns]\n",
      " 6   DayOfWeek         25566 non-null  object        \n",
      " 7   Weekend           25566 non-null  bool          \n",
      " 8   Season            25566 non-null  object        \n",
      " 9   TimeOfDay         25566 non-null  object        \n",
      " 10  FullStreet        25566 non-null  object        \n",
      " 11  lat               25566 non-null  object        \n",
      " 12  lon               25566 non-null  object        \n",
      " 13  neighborhood      25566 non-null  object        \n",
      " 14  zip               25566 non-null  object        \n",
      "dtypes: bool(1), datetime64[ns](1), int64(1), object(12)\n",
      "memory usage: 2.8+ MB\n"
     ]
    }
   ],
   "source": [
    "df.info()"
   ]
  },
  {
   "cell_type": "markdown",
   "id": "c2cdc70e",
   "metadata": {
    "papermill": {
     "duration": 0.009206,
     "end_time": "2025-07-25T01:11:00.539932",
     "exception": false,
     "start_time": "2025-07-25T01:11:00.530726",
     "status": "completed"
    },
    "tags": []
   },
   "source": [
    "### Export Clean Data"
   ]
  },
  {
   "cell_type": "code",
   "execution_count": 18,
   "id": "d290df56",
   "metadata": {
    "execution": {
     "iopub.execute_input": "2025-07-25T01:11:00.559280Z",
     "iopub.status.busy": "2025-07-25T01:11:00.559005Z",
     "iopub.status.idle": "2025-07-25T01:11:09.800640Z",
     "shell.execute_reply": "2025-07-25T01:11:09.799958Z"
    },
    "papermill": {
     "duration": 9.252763,
     "end_time": "2025-07-25T01:11:09.801834",
     "exception": false,
     "start_time": "2025-07-25T01:11:00.549071",
     "status": "completed"
    },
    "tags": []
   },
   "outputs": [
    {
     "name": "stdout",
     "output_type": "stream",
     "text": [
      "Project Root: /home/runner/work/crime-data/crime-data\n"
     ]
    },
    {
     "name": "stdout",
     "output_type": "stream",
     "text": [
      "Data saved to: /home/runner/work/crime-data/crime-data/data/charlottesville_crime_incidents.csv\n"
     ]
    },
    {
     "name": "stdout",
     "output_type": "stream",
     "text": [
      "Excel saved to: /home/runner/work/crime-data/crime-data/data/charlottesville_crime_incidents.xlsx\n"
     ]
    }
   ],
   "source": [
    "# Determine the project root (assuming papermill is run from the repository root)\n",
    "project_root = os.getcwd()\n",
    "print(\"Project Root:\", project_root)\n",
    "\n",
    "# Set the data directory within the project root\n",
    "data_dir = os.path.join(project_root, \"data\")\n",
    "\n",
    "# Ensure the \"data\" directory exists (create it if it doesn't)\n",
    "if not os.path.exists(data_dir):\n",
    "    os.makedirs(data_dir)\n",
    "\n",
    "# Export the DataFrame to CSV in the \"data\" folder located in the project root\n",
    "csv_path = os.path.join(data_dir, \"charlottesville_crime_incidents.csv\")\n",
    "df.to_csv(csv_path, index=False)\n",
    "print(\"Data saved to:\", csv_path)\n",
    "\n",
    "# Construct the path to your Excel file\n",
    "excel_path = os.path.join(data_dir, \"charlottesville_crime_incidents.xlsx\")\n",
    "\n",
    "# Export the DataFrame to Excel\n",
    "df.to_excel(excel_path, index=False)\n",
    "print(\"Excel saved to:\", excel_path)\n"
   ]
  }
 ],
 "metadata": {
  "kernelspec": {
   "display_name": "Python 3",
   "language": "python",
   "name": "python3"
  },
  "language_info": {
   "codemirror_mode": {
    "name": "ipython",
    "version": 3
   },
   "file_extension": ".py",
   "mimetype": "text/x-python",
   "name": "python",
   "nbconvert_exporter": "python",
   "pygments_lexer": "ipython3",
   "version": "3.9.23"
  },
  "papermill": {
   "default_parameters": {},
   "duration": 154.82727,
   "end_time": "2025-07-25T01:11:10.227958",
   "environment_variables": {},
   "exception": null,
   "input_path": "notebook/Crime Data.ipynb",
   "output_path": "notebook/Crime Data_output.ipynb",
   "parameters": {},
   "start_time": "2025-07-25T01:08:35.400688",
   "version": "2.6.0"
  }
 },
 "nbformat": 4,
 "nbformat_minor": 5
}